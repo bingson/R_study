{
 "cells": [
  {
   "cell_type": "markdown",
   "metadata": {
    "toc": true
   },
   "source": [
    "<h1>Table of Contents<span class=\"tocSkip\"></span></h1>\n",
    "<div class=\"toc\"><ul class=\"toc-item\"><li><span><a href=\"#Linear-Regression\" data-toc-modified-id=\"Linear-Regression-1\"><span class=\"toc-item-num\">1&nbsp;&nbsp;</span>Linear Regression</a></span><ul class=\"toc-item\"><li><span><a href=\"#(4.4.2.)-Fitting-the-model.\" data-toc-modified-id=\"(4.4.2.)-Fitting-the-model.-1.1\"><span class=\"toc-item-num\">1.1&nbsp;&nbsp;</span>(4.4.2.) Fitting the model.</a></span></li><li><span><a href=\"#(4.4.3.)-Interpreting-the-model-fit.\" data-toc-modified-id=\"(4.4.3.)-Interpreting-the-model-fit.-1.2\"><span class=\"toc-item-num\">1.2&nbsp;&nbsp;</span>(4.4.3.) Interpreting the model fit.</a></span></li><li><span><a href=\"#Deconstruction-of-Link\" data-toc-modified-id=\"Deconstruction-of-Link-1.3\"><span class=\"toc-item-num\">1.3&nbsp;&nbsp;</span>Deconstruction of Link</a></span><ul class=\"toc-item\"><li><span><a href=\"#How-sim-works\" data-toc-modified-id=\"How-sim-works-1.3.1\"><span class=\"toc-item-num\">1.3.1&nbsp;&nbsp;</span>How sim works</a></span></li></ul></li><li><span><a href=\"#Polynomial-regression\" data-toc-modified-id=\"Polynomial-regression-1.4\"><span class=\"toc-item-num\">1.4&nbsp;&nbsp;</span>Polynomial regression</a></span></li></ul></li><li><span><a href=\"#Multivariate-models\" data-toc-modified-id=\"Multivariate-models-2\"><span class=\"toc-item-num\">2&nbsp;&nbsp;</span>Multivariate models</a></span><ul class=\"toc-item\"><li><span><a href=\"#load-data\" data-toc-modified-id=\"load-data-2.1\"><span class=\"toc-item-num\">2.1&nbsp;&nbsp;</span>load data</a></span></li><li><span><a href=\"#(5.1.)-Spurious-association\" data-toc-modified-id=\"(5.1.)-Spurious-association-2.2\"><span class=\"toc-item-num\">2.2&nbsp;&nbsp;</span>(5.1.) Spurious association</a></span></li><li><span><a href=\"#(5.1.1.)-Multivariate-notation.\" data-toc-modified-id=\"(5.1.1.)-Multivariate-notation.-2.3\"><span class=\"toc-item-num\">2.3&nbsp;&nbsp;</span>(5.1.1.) Multivariate notation.</a></span></li><li><span><a href=\"#(5.1.2.)-Fitting-the-model.\" data-toc-modified-id=\"(5.1.2.)-Fitting-the-model.-2.4\"><span class=\"toc-item-num\">2.4&nbsp;&nbsp;</span>(5.1.2.) Fitting the model.</a></span></li></ul></li></ul></div>"
   ]
  },
  {
   "cell_type": "markdown",
   "metadata": {
    "heading_collapsed": true
   },
   "source": [
    "# Linear Regression"
   ]
  },
  {
   "cell_type": "code",
   "execution_count": null,
   "metadata": {
    "hidden": true
   },
   "outputs": [],
   "source": [
    "library(tidyverse)\n",
    "\n",
    "library(rethinking)"
   ]
  },
  {
   "cell_type": "code",
   "execution_count": null,
   "metadata": {
    "hidden": true
   },
   "outputs": [],
   "source": [
    "sample_mu <- rnorm( 1e4,178,20)\n",
    "sample_sigma <- runif(1e4,0,50)\n",
    "prior_h <- rnorm(1e4, sample_mu, sample_sigma)\n",
    "dens(prior_h)"
   ]
  },
  {
   "cell_type": "code",
   "execution_count": 2,
   "metadata": {
    "hidden": true
   },
   "outputs": [],
   "source": [
    "flist <- alist( \n",
    "    height ~ dnorm( mu , sigma ) ,\n",
    "    mu ~ dnorm( 178 , 20 ) ,\n",
    "    sigma ~ dunif( 0 , 50 )\n",
    ")\n",
    "\n",
    "m4.1 <- map( flist , data=d2 ) "
   ]
  },
  {
   "cell_type": "code",
   "execution_count": 3,
   "metadata": {
    "hidden": true,
    "scrolled": true
   },
   "outputs": [
    {
     "data": {
      "text/plain": [
       "        Mean StdDev   5.5%  94.5%\n",
       "mu    154.61   0.41 153.95 155.27\n",
       "sigma   7.73   0.29   7.27   8.20"
      ]
     },
     "metadata": {},
     "output_type": "display_data"
    }
   ],
   "source": [
    "precis( m4.1)"
   ]
  },
  {
   "cell_type": "markdown",
   "metadata": {
    "heading_collapsed": true,
    "hidden": true
   },
   "source": [
    "## (4.4.2.) Fitting the model. "
   ]
  },
  {
   "cell_type": "code",
   "execution_count": 65,
   "metadata": {
    "hidden": true
   },
   "outputs": [],
   "source": [
    "data(Howell1)\n",
    "d <- Howell1\n",
    "d2 <- d[ d$age >= 18 , ]"
   ]
  },
  {
   "cell_type": "code",
   "execution_count": 105,
   "metadata": {
    "hidden": true
   },
   "outputs": [],
   "source": [
    "# fit model\n",
    "m4.3 <- map(\n",
    "    alist(\n",
    "        height ~ dnorm( mu , sigma ) ,\n",
    "        mu <- a + b*weight ,\n",
    "        a ~ dnorm( 156 , 100 ) ,\n",
    "        b ~ dnorm( 0 , 10 ) ,\n",
    "        sigma ~ dunif( 0 , 50 )\n",
    "    ) ,\n",
    "    data=d2 )"
   ]
  },
  {
   "cell_type": "raw",
   "metadata": {
    "hidden": true
   },
   "source": [
    "m4.3 <- map(\n",
    "    alist(\n",
    "        height ~ dnorm( a + b*weight , sigma ) ,\n",
    "        a ~ dnorm( 178 , 100 ) ,\n",
    "        b ~ dnorm( 0 , 10 ) ,\n",
    "        sigma ~ dunif( 0 , 50 )\n",
    "    ) ,\n",
    "    data=d2 )"
   ]
  },
  {
   "cell_type": "markdown",
   "metadata": {
    "heading_collapsed": true,
    "hidden": true
   },
   "source": [
    "## (4.4.3.) Interpreting the model fit."
   ]
  },
  {
   "cell_type": "code",
   "execution_count": 68,
   "metadata": {
    "hidden": true,
    "scrolled": true
   },
   "outputs": [
    {
     "data": {
      "text/plain": [
       "        Mean StdDev   5.5%  94.5%\n",
       "a     113.90   1.91 110.86 116.95\n",
       "b       0.90   0.04   0.84   0.97\n",
       "sigma   5.07   0.19   4.77   5.38"
      ]
     },
     "metadata": {},
     "output_type": "display_data"
    }
   ],
   "source": [
    "precis( m4.3)"
   ]
  },
  {
   "cell_type": "code",
   "execution_count": 69,
   "metadata": {
    "hidden": true,
    "scrolled": true
   },
   "outputs": [
    {
     "data": {
      "text/plain": [
       "        Mean StdDev   5.5%  94.5%     a     b sigma\n",
       "a     113.90   1.91 110.86 116.95  1.00 -0.99     0\n",
       "b       0.90   0.04   0.84   0.97 -0.99  1.00     0\n",
       "sigma   5.07   0.19   4.77   5.38  0.00  0.00     1"
      ]
     },
     "metadata": {},
     "output_type": "display_data"
    }
   ],
   "source": [
    "precis( m4.3 , corr=TRUE ) "
   ]
  },
  {
   "cell_type": "code",
   "execution_count": 70,
   "metadata": {
    "hidden": true
   },
   "outputs": [],
   "source": [
    "d2$weight.c <- d2$weight - mean(d2$weight)"
   ]
  },
  {
   "cell_type": "code",
   "execution_count": 71,
   "metadata": {
    "hidden": true
   },
   "outputs": [],
   "source": [
    "m4.4 <- map(\n",
    "    alist(\n",
    "        height ~ dnorm( mu , sigma ) ,\n",
    "        mu <- a + b*weight.c ,\n",
    "        a ~ dnorm( 178 , 100 ) ,\n",
    "        b ~ dnorm( 0 , 10 ) ,\n",
    "        sigma ~ dunif( 0 , 50 )\n",
    "    ) ,\n",
    "    data=d2 )"
   ]
  },
  {
   "cell_type": "code",
   "execution_count": 73,
   "metadata": {
    "hidden": true
   },
   "outputs": [
    {
     "data": {
      "text/plain": [
       "        Mean StdDev   5.5%  94.5% a b sigma\n",
       "a     154.60   0.27 154.17 155.03 1 0     0\n",
       "b       0.91   0.04   0.84   0.97 0 1     0\n",
       "sigma   5.07   0.19   4.77   5.38 0 0     1"
      ]
     },
     "metadata": {},
     "output_type": "display_data"
    }
   ],
   "source": [
    "precis(m4.4, corr=TRUE)"
   ]
  },
  {
   "cell_type": "code",
   "execution_count": 106,
   "metadata": {
    "collapsed": true,
    "hidden": true
   },
   "outputs": [
    {
     "data": {
      "image/png": "[encoded data removed]",
      "text/plain": [
       "plot without title"
      ]
     },
     "metadata": {},
     "output_type": "display_data"
    }
   ],
   "source": [
    "plot( height ~ weight , data=d2 )\n",
    "abline( a=coef(m4.3)[\"a\"] , b=coef(m4.3)[\"b\"] )"
   ]
  },
  {
   "cell_type": "code",
   "execution_count": 112,
   "metadata": {
    "hidden": true
   },
   "outputs": [
    {
     "data": {
      "text/html": [
       "<table>\n",
       "<thead><tr><th scope=col>a</th><th scope=col>b</th><th scope=col>sigma</th></tr></thead>\n",
       "<tbody>\n",
       "\t<tr><td>115.1127 </td><td>0.8821691</td><td>5.005817 </td></tr>\n",
       "\t<tr><td>114.5351 </td><td>0.8861420</td><td>4.742484 </td></tr>\n",
       "\t<tr><td>113.4693 </td><td>0.9133732</td><td>5.054610 </td></tr>\n",
       "\t<tr><td>114.8228 </td><td>0.8833386</td><td>5.069428 </td></tr>\n",
       "\t<tr><td>113.6626 </td><td>0.9153261</td><td>5.078223 </td></tr>\n",
       "</tbody>\n",
       "</table>\n"
      ],
      "text/latex": [
       "\\begin{tabular}{r|lll}\n",
       " a & b & sigma\\\\\n",
       "\\hline\n",
       "\t 115.1127  & 0.8821691 & 5.005817 \\\\\n",
       "\t 114.5351  & 0.8861420 & 4.742484 \\\\\n",
       "\t 113.4693  & 0.9133732 & 5.054610 \\\\\n",
       "\t 114.8228  & 0.8833386 & 5.069428 \\\\\n",
       "\t 113.6626  & 0.9153261 & 5.078223 \\\\\n",
       "\\end{tabular}\n"
      ],
      "text/markdown": [
       "\n",
       "a | b | sigma | \n",
       "|---|---|---|---|---|\n",
       "| 115.1127  | 0.8821691 | 5.005817  | \n",
       "| 114.5351  | 0.8861420 | 4.742484  | \n",
       "| 113.4693  | 0.9133732 | 5.054610  | \n",
       "| 114.8228  | 0.8833386 | 5.069428  | \n",
       "| 113.6626  | 0.9153261 | 5.078223  | \n",
       "\n",
       "\n"
      ],
      "text/plain": [
       "  a        b         sigma   \n",
       "1 115.1127 0.8821691 5.005817\n",
       "2 114.5351 0.8861420 4.742484\n",
       "3 113.4693 0.9133732 5.054610\n",
       "4 114.8228 0.8833386 5.069428\n",
       "5 113.6626 0.9153261 5.078223"
      ]
     },
     "metadata": {},
     "output_type": "display_data"
    }
   ],
   "source": [
    "post <- extract.samples(m4.3)\n",
    "post[1:5,]"
   ]
  },
  {
   "cell_type": "code",
   "execution_count": 108,
   "metadata": {
    "hidden": true
   },
   "outputs": [],
   "source": [
    " N <- 10\n",
    "dN <- d2[ 1:N , ]\n",
    "mN <- map(\n",
    "    alist(\n",
    "        height ~ dnorm( mu , sigma ) ,\n",
    "        mu <- a + b*weight ,\n",
    "        a ~ dnorm( 178 , 100 ) ,\n",
    "        b ~ dnorm( 0 , 10 ) ,\n",
    "        sigma ~ dunif( 0 , 50 )\n",
    "    ) , data=dN )"
   ]
  },
  {
   "cell_type": "code",
   "execution_count": 109,
   "metadata": {
    "hidden": true,
    "scrolled": true
   },
   "outputs": [
    {
     "data": {
      "image/png": "[encoded data removed]",
      "text/plain": [
       "plot without title"
      ]
     },
     "metadata": {},
     "output_type": "display_data"
    }
   ],
   "source": [
    " # extract 20 samples from the posterior\n",
    "post <- extract.samples( mN , n=20 )\n",
    "\n",
    "# display raw data and sample size\n",
    "plot( dN$weight , dN$height ,\n",
    "    xlim=range(d2$weight) , ylim=range(d2$height) ,\n",
    "    col=rangi2 , xlab=\"weight\" , ylab=\"height\" )\n",
    "mtext(concat(\"N = \",N))\n",
    "\n",
    "# plot the lines, with transparency\n",
    "for ( i in 1:20 )\n",
    "    abline( a=post$a[i] , b=post$b[i] , col=col.alpha(\"black\",0.3) )"
   ]
  },
  {
   "cell_type": "code",
   "execution_count": 113,
   "metadata": {
    "hidden": true
   },
   "outputs": [
    {
     "data": {
      "image/png": "[encoded data removed]",
      "text/plain": [
       "Plot with title \"\""
      ]
     },
     "metadata": {},
     "output_type": "display_data"
    }
   ],
   "source": [
    "mu_at_50 <- post$a + post$b * 50\n",
    "\n",
    "dens( mu_at_50 , col=rangi2 , lwd=2 , xlab=\"mu|weight=50\" )"
   ]
  },
  {
   "cell_type": "code",
   "execution_count": 114,
   "metadata": {
    "hidden": true,
    "scrolled": true
   },
   "outputs": [
    {
     "data": {
      "text/html": [
       "<dl class=dl-horizontal>\n",
       "\t<dt>|0.89</dt>\n",
       "\t\t<dd>158.58151588888</dd>\n",
       "\t<dt>0.89|</dt>\n",
       "\t\t<dd>159.667434281237</dd>\n",
       "</dl>\n"
      ],
      "text/latex": [
       "\\begin{description*}\n",
       "\\item[\\textbackslash{}textbar\\{\\}0.89] 158.58151588888\n",
       "\\item[0.89\\textbackslash{}textbar\\{\\}] 159.667434281237\n",
       "\\end{description*}\n"
      ],
      "text/markdown": [
       "|0.89\n",
       ":   158.581515888880.89|\n",
       ":   159.667434281237\n",
       "\n"
      ],
      "text/plain": [
       "   |0.89    0.89| \n",
       "158.5815 159.6674 "
      ]
     },
     "metadata": {},
     "output_type": "display_data"
    }
   ],
   "source": [
    "HPDI( mu_at_50 , prob=0.89 )"
   ]
  },
  {
   "cell_type": "code",
   "execution_count": 116,
   "metadata": {
    "hidden": true
   },
   "outputs": [
    {
     "name": "stdout",
     "output_type": "stream",
     "text": [
      "[ 1000 / 1000 ]\n",
      " num [1:1000, 1:352] 157 157 157 157 158 ...\n"
     ]
    }
   ],
   "source": [
    "mu <- link( m4.3 )\n",
    "str(mu)"
   ]
  },
  {
   "cell_type": "markdown",
   "metadata": {
    "hidden": true
   },
   "source": [
    "<font color = 'green'>What link will do is take your map model fit, sample from the posterior distribution,\n",
    "and then compute µ for each case in the data and sample from the posterior distribution.</font>"
   ]
  },
  {
   "cell_type": "code",
   "execution_count": 117,
   "metadata": {
    "hidden": true
   },
   "outputs": [
    {
     "name": "stdout",
     "output_type": "stream",
     "text": [
      "[ 1000 / 1000 ]\n",
      " num [1:1000, 1:46] 134 135 137 138 135 ...\n"
     ]
    }
   ],
   "source": [
    "# define sequence of weights (of people) to compute predictions for 4.54\n",
    "# these values will be on the horizontal axis\n",
    "weight.seq <- seq( from=25 , to=70 , by=1 )\n",
    "\n",
    "# use link to compute mu\n",
    "# for each sample from posterior\n",
    "# and for each weight in weight.seq\n",
    "mu <- link( m4.3 , data=data.frame(weight=weight.seq) )\n",
    "str(mu)"
   ]
  },
  {
   "cell_type": "markdown",
   "metadata": {
    "hidden": true
   },
   "source": [
    "<img src='pics/SR_b16.png' alt='Drawing' style='width: 350pt'/>"
   ]
  },
  {
   "cell_type": "markdown",
   "metadata": {
    "heading_collapsed": true,
    "hidden": true
   },
   "source": [
    "## Deconstruction of Link"
   ]
  },
  {
   "cell_type": "code",
   "execution_count": 137,
   "metadata": {
    "hidden": true
   },
   "outputs": [],
   "source": [
    "post <- extract.samples(m4.3)\n",
    "mu.link <- function(weight) post$a + post$b*weight\n",
    "weight.seq <- seq(from=25, to=70, by=1)\n",
    "mu <- sapply(weight.seq,mu.link)\n",
    "mu.mean <- apply(mu,2,mean)\n",
    "mu.HPDI <- apply(mu,2,HPDI)"
   ]
  },
  {
   "cell_type": "code",
   "execution_count": 140,
   "metadata": {
    "collapsed": true,
    "hidden": true
   },
   "outputs": [
    {
     "data": {
      "text/html": [
       "<table>\n",
       "<tbody>\n",
       "\t<tr><th scope=row>|0.89</th><td>135.1904</td><td>136.1409</td><td>137.1093</td><td>138.0436</td><td>139.0453</td><td>140.0007</td><td>140.9426</td><td>141.9170</td><td>142.8946</td><td>143.8200</td><td>...     </td><td>167.8985</td><td>168.7328</td><td>169.5720</td><td>170.3901</td><td>171.2433</td><td>172.0922</td><td>172.9621</td><td>173.8014</td><td>174.6655</td><td>175.5067</td></tr>\n",
       "\t<tr><th scope=row>0.89|</th><td>137.9867</td><td>138.8116</td><td>139.6508</td><td>140.4592</td><td>141.3383</td><td>142.1647</td><td>142.9912</td><td>143.8434</td><td>144.6972</td><td>145.5075</td><td>...     </td><td>170.2171</td><td>171.1756</td><td>172.1372</td><td>173.0803</td><td>174.0596</td><td>175.0376</td><td>176.0303</td><td>177.0015</td><td>177.9892</td><td>178.9571</td></tr>\n",
       "</tbody>\n",
       "</table>\n"
      ],
      "text/latex": [
       "\\begin{tabular}{r|llllllllllllllllllllllllllllllllllllllllllllll}\n",
       "\t\\textbar{}0.89 & 135.1904 & 136.1409 & 137.1093 & 138.0436 & 139.0453 & 140.0007 & 140.9426 & 141.9170 & 142.8946 & 143.8200 & ...      & 167.8985 & 168.7328 & 169.5720 & 170.3901 & 171.2433 & 172.0922 & 172.9621 & 173.8014 & 174.6655 & 175.5067\\\\\n",
       "\t0.89\\textbar{} & 137.9867 & 138.8116 & 139.6508 & 140.4592 & 141.3383 & 142.1647 & 142.9912 & 143.8434 & 144.6972 & 145.5075 & ...      & 170.2171 & 171.1756 & 172.1372 & 173.0803 & 174.0596 & 175.0376 & 176.0303 & 177.0015 & 177.9892 & 178.9571\\\\\n",
       "\\end{tabular}\n"
      ],
      "text/markdown": [
       "\n",
       "| |0.89 | 135.1904 | 136.1409 | 137.1093 | 138.0436 | 139.0453 | 140.0007 | 140.9426 | 141.9170 | 142.8946 | 143.8200 | ...      | 167.8985 | 168.7328 | 169.5720 | 170.3901 | 171.2433 | 172.0922 | 172.9621 | 173.8014 | 174.6655 | 175.5067 | \n",
       "| 0.89| | 137.9867 | 138.8116 | 139.6508 | 140.4592 | 141.3383 | 142.1647 | 142.9912 | 143.8434 | 144.6972 | 145.5075 | ...      | 170.2171 | 171.1756 | 172.1372 | 173.0803 | 174.0596 | 175.0376 | 176.0303 | 177.0015 | 177.9892 | 178.9571 | \n",
       "\n",
       "\n"
      ],
      "text/plain": [
       "      [,1]     [,2]     [,3]     [,4]     [,5]     [,6]     [,7]     [,8]    \n",
       "|0.89 135.1904 136.1409 137.1093 138.0436 139.0453 140.0007 140.9426 141.9170\n",
       "0.89| 137.9867 138.8116 139.6508 140.4592 141.3383 142.1647 142.9912 143.8434\n",
       "      [,9]     [,10]    [,11] [,12]    [,13]    [,14]    [,15]    [,16]   \n",
       "|0.89 142.8946 143.8200 ...   167.8985 168.7328 169.5720 170.3901 171.2433\n",
       "0.89| 144.6972 145.5075 ...   170.2171 171.1756 172.1372 173.0803 174.0596\n",
       "      [,17]    [,18]    [,19]    [,20]    [,21]   \n",
       "|0.89 172.0922 172.9621 173.8014 174.6655 175.5067\n",
       "0.89| 175.0376 176.0303 177.0015 177.9892 178.9571"
      ]
     },
     "metadata": {},
     "output_type": "display_data"
    },
    {
     "data": {
      "text/html": [
       "<ol class=list-inline>\n",
       "\t<li>136.518148539423</li>\n",
       "\t<li>137.42254059344</li>\n",
       "\t<li>138.326932647456</li>\n",
       "\t<li>139.231324701472</li>\n",
       "\t<li>140.135716755489</li>\n",
       "\t<li>141.040108809505</li>\n",
       "\t<li>141.944500863521</li>\n",
       "\t<li>142.848892917538</li>\n",
       "\t<li>143.753284971554</li>\n",
       "\t<li>144.65767702557</li>\n",
       "\t<li>145.562069079587</li>\n",
       "\t<li>146.466461133603</li>\n",
       "\t<li>147.370853187619</li>\n",
       "\t<li>148.275245241636</li>\n",
       "\t<li>149.179637295652</li>\n",
       "\t<li>150.084029349668</li>\n",
       "\t<li>150.988421403685</li>\n",
       "\t<li>151.892813457701</li>\n",
       "\t<li>152.797205511717</li>\n",
       "\t<li>153.701597565734</li>\n",
       "\t<li>154.60598961975</li>\n",
       "\t<li>155.510381673767</li>\n",
       "\t<li>156.414773727783</li>\n",
       "\t<li>157.319165781799</li>\n",
       "\t<li>158.223557835816</li>\n",
       "\t<li>159.127949889832</li>\n",
       "\t<li>160.032341943848</li>\n",
       "\t<li>160.936733997865</li>\n",
       "\t<li>161.841126051881</li>\n",
       "\t<li>162.745518105897</li>\n",
       "\t<li>163.649910159914</li>\n",
       "\t<li>164.55430221393</li>\n",
       "\t<li>165.458694267946</li>\n",
       "\t<li>166.363086321963</li>\n",
       "\t<li>167.267478375979</li>\n",
       "\t<li>168.171870429995</li>\n",
       "\t<li>169.076262484012</li>\n",
       "\t<li>169.980654538028</li>\n",
       "\t<li>170.885046592044</li>\n",
       "\t<li>171.789438646061</li>\n",
       "\t<li>172.693830700077</li>\n",
       "\t<li>173.598222754093</li>\n",
       "\t<li>174.50261480811</li>\n",
       "\t<li>175.407006862126</li>\n",
       "\t<li>176.311398916143</li>\n",
       "\t<li>177.215790970159</li>\n",
       "</ol>\n"
      ],
      "text/latex": [
       "\\begin{enumerate*}\n",
       "\\item 136.518148539423\n",
       "\\item 137.42254059344\n",
       "\\item 138.326932647456\n",
       "\\item 139.231324701472\n",
       "\\item 140.135716755489\n",
       "\\item 141.040108809505\n",
       "\\item 141.944500863521\n",
       "\\item 142.848892917538\n",
       "\\item 143.753284971554\n",
       "\\item 144.65767702557\n",
       "\\item 145.562069079587\n",
       "\\item 146.466461133603\n",
       "\\item 147.370853187619\n",
       "\\item 148.275245241636\n",
       "\\item 149.179637295652\n",
       "\\item 150.084029349668\n",
       "\\item 150.988421403685\n",
       "\\item 151.892813457701\n",
       "\\item 152.797205511717\n",
       "\\item 153.701597565734\n",
       "\\item 154.60598961975\n",
       "\\item 155.510381673767\n",
       "\\item 156.414773727783\n",
       "\\item 157.319165781799\n",
       "\\item 158.223557835816\n",
       "\\item 159.127949889832\n",
       "\\item 160.032341943848\n",
       "\\item 160.936733997865\n",
       "\\item 161.841126051881\n",
       "\\item 162.745518105897\n",
       "\\item 163.649910159914\n",
       "\\item 164.55430221393\n",
       "\\item 165.458694267946\n",
       "\\item 166.363086321963\n",
       "\\item 167.267478375979\n",
       "\\item 168.171870429995\n",
       "\\item 169.076262484012\n",
       "\\item 169.980654538028\n",
       "\\item 170.885046592044\n",
       "\\item 171.789438646061\n",
       "\\item 172.693830700077\n",
       "\\item 173.598222754093\n",
       "\\item 174.50261480811\n",
       "\\item 175.407006862126\n",
       "\\item 176.311398916143\n",
       "\\item 177.215790970159\n",
       "\\end{enumerate*}\n"
      ],
      "text/markdown": [
       "1. 136.518148539423\n",
       "2. 137.42254059344\n",
       "3. 138.326932647456\n",
       "4. 139.231324701472\n",
       "5. 140.135716755489\n",
       "6. 141.040108809505\n",
       "7. 141.944500863521\n",
       "8. 142.848892917538\n",
       "9. 143.753284971554\n",
       "10. 144.65767702557\n",
       "11. 145.562069079587\n",
       "12. 146.466461133603\n",
       "13. 147.370853187619\n",
       "14. 148.275245241636\n",
       "15. 149.179637295652\n",
       "16. 150.084029349668\n",
       "17. 150.988421403685\n",
       "18. 151.892813457701\n",
       "19. 152.797205511717\n",
       "20. 153.701597565734\n",
       "21. 154.60598961975\n",
       "22. 155.510381673767\n",
       "23. 156.414773727783\n",
       "24. 157.319165781799\n",
       "25. 158.223557835816\n",
       "26. 159.127949889832\n",
       "27. 160.032341943848\n",
       "28. 160.936733997865\n",
       "29. 161.841126051881\n",
       "30. 162.745518105897\n",
       "31. 163.649910159914\n",
       "32. 164.55430221393\n",
       "33. 165.458694267946\n",
       "34. 166.363086321963\n",
       "35. 167.267478375979\n",
       "36. 168.171870429995\n",
       "37. 169.076262484012\n",
       "38. 169.980654538028\n",
       "39. 170.885046592044\n",
       "40. 171.789438646061\n",
       "41. 172.693830700077\n",
       "42. 173.598222754093\n",
       "43. 174.50261480811\n",
       "44. 175.407006862126\n",
       "45. 176.311398916143\n",
       "46. 177.215790970159\n",
       "\n",
       "\n"
      ],
      "text/plain": [
       " [1] 136.5181 137.4225 138.3269 139.2313 140.1357 141.0401 141.9445 142.8489\n",
       " [9] 143.7533 144.6577 145.5621 146.4665 147.3709 148.2752 149.1796 150.0840\n",
       "[17] 150.9884 151.8928 152.7972 153.7016 154.6060 155.5104 156.4148 157.3192\n",
       "[25] 158.2236 159.1279 160.0323 160.9367 161.8411 162.7455 163.6499 164.5543\n",
       "[33] 165.4587 166.3631 167.2675 168.1719 169.0763 169.9807 170.8850 171.7894\n",
       "[41] 172.6938 173.5982 174.5026 175.4070 176.3114 177.2158"
      ]
     },
     "metadata": {},
     "output_type": "display_data"
    }
   ],
   "source": [
    "mu.HPDI\n",
    "mu.mean"
   ]
  },
  {
   "cell_type": "code",
   "execution_count": 161,
   "metadata": {
    "hidden": true
   },
   "outputs": [
    {
     "name": "stdout",
     "output_type": "stream",
     "text": [
      "'data.frame':\t10000 obs. of  3 variables:\n",
      " $ a    : num  110 110 113 114 114 ...\n",
      " $ b    : num  0.976 0.996 0.911 0.907 0.891 ...\n",
      " $ sigma: num  4.72 4.72 5.09 5.13 5.01 ...\n"
     ]
    }
   ],
   "source": [
    "#sample from posterior\n",
    "post <- extract.samples(m4.3)\n",
    "post %>% str()"
   ]
  },
  {
   "cell_type": "code",
   "execution_count": 162,
   "metadata": {
    "hidden": true
   },
   "outputs": [
    {
     "name": "stdout",
     "output_type": "stream",
     "text": [
      " num [1:10000] 159 160 159 159 159 ...\n"
     ]
    }
   ],
   "source": [
    "# define link function\n",
    "mu.link <- function(weight) post$a + post$b*weight\n",
    "mu.link(50) %>% str()"
   ]
  },
  {
   "cell_type": "code",
   "execution_count": 163,
   "metadata": {
    "hidden": true
   },
   "outputs": [
    {
     "name": "stdout",
     "output_type": "stream",
     "text": [
      " num [1:46] 25 26 27 28 29 30 31 32 33 34 ...\n"
     ]
    }
   ],
   "source": [
    "# define weight values to compute predictions for\n",
    "weight.seq <- seq(from=25, to=70, by=1)\n",
    "weight.seq %>% str()"
   ]
  },
  {
   "cell_type": "code",
   "execution_count": 164,
   "metadata": {
    "hidden": true
   },
   "outputs": [
    {
     "name": "stdout",
     "output_type": "stream",
     "text": [
      " num [1:10000, 1:46] 135 135 136 137 137 ...\n"
     ]
    }
   ],
   "source": [
    "#compute prediction for each sample in posterior, for each weight value\n",
    "mu <- sapply(weight.seq,mu.link)\n",
    "# sapply takes every weight in weight.seq and passes it to the function \n",
    "# mu.link, then returns a vector, and stores that vector in a matrix\n",
    "# s in sapplystands for simplify <- the answer is a list of vectors, \n",
    "# so the 's' puts tose vectors into a matrix\n",
    "mu %>% str()"
   ]
  },
  {
   "cell_type": "code",
   "execution_count": 165,
   "metadata": {
    "cell_style": "split",
    "hidden": true
   },
   "outputs": [
    {
     "data": {
      "text/html": [
       "<ol class=list-inline>\n",
       "\t<li>1</li>\n",
       "\t<li>2</li>\n",
       "\t<li>3</li>\n",
       "\t<li>4</li>\n",
       "\t<li>5</li>\n",
       "\t<li>6</li>\n",
       "\t<li>7</li>\n",
       "\t<li>8</li>\n",
       "\t<li>9</li>\n",
       "\t<li>10</li>\n",
       "</ol>\n"
      ],
      "text/latex": [
       "\\begin{enumerate*}\n",
       "\\item 1\n",
       "\\item 2\n",
       "\\item 3\n",
       "\\item 4\n",
       "\\item 5\n",
       "\\item 6\n",
       "\\item 7\n",
       "\\item 8\n",
       "\\item 9\n",
       "\\item 10\n",
       "\\end{enumerate*}\n"
      ],
      "text/markdown": [
       "1. 1\n",
       "2. 2\n",
       "3. 3\n",
       "4. 4\n",
       "5. 5\n",
       "6. 6\n",
       "7. 7\n",
       "8. 8\n",
       "9. 9\n",
       "10. 10\n",
       "\n",
       "\n"
      ],
      "text/plain": [
       " [1]  1  2  3  4  5  6  7  8  9 10"
      ]
     },
     "metadata": {},
     "output_type": "display_data"
    }
   ],
   "source": [
    "1:10"
   ]
  },
  {
   "cell_type": "code",
   "execution_count": 166,
   "metadata": {
    "cell_style": "split",
    "hidden": true,
    "scrolled": true
   },
   "outputs": [
    {
     "data": {
      "text/html": [
       "<ol class=list-inline>\n",
       "\t<li>1</li>\n",
       "\t<li>4</li>\n",
       "\t<li>9</li>\n",
       "\t<li>16</li>\n",
       "\t<li>25</li>\n",
       "\t<li>36</li>\n",
       "\t<li>49</li>\n",
       "\t<li>64</li>\n",
       "\t<li>81</li>\n",
       "\t<li>100</li>\n",
       "</ol>\n"
      ],
      "text/latex": [
       "\\begin{enumerate*}\n",
       "\\item 1\n",
       "\\item 4\n",
       "\\item 9\n",
       "\\item 16\n",
       "\\item 25\n",
       "\\item 36\n",
       "\\item 49\n",
       "\\item 64\n",
       "\\item 81\n",
       "\\item 100\n",
       "\\end{enumerate*}\n"
      ],
      "text/markdown": [
       "1. 1\n",
       "2. 4\n",
       "3. 9\n",
       "4. 16\n",
       "5. 25\n",
       "6. 36\n",
       "7. 49\n",
       "8. 64\n",
       "9. 81\n",
       "10. 100\n",
       "\n",
       "\n"
      ],
      "text/plain": [
       " [1]   1   4   9  16  25  36  49  64  81 100"
      ]
     },
     "metadata": {},
     "output_type": "display_data"
    }
   ],
   "source": [
    "sapply(1:10, function(z) z^2)"
   ]
  },
  {
   "cell_type": "code",
   "execution_count": 167,
   "metadata": {
    "hidden": true,
    "scrolled": true
   },
   "outputs": [
    {
     "data": {
      "text/html": [
       "<ol class=list-inline>\n",
       "\t<li>1</li>\n",
       "\t<li>1.41</li>\n",
       "\t<li>1.82</li>\n",
       "\t<li>2.21</li>\n",
       "\t<li>2.61</li>\n",
       "\t<li>2.99</li>\n",
       "\t<li>3.38</li>\n",
       "\t<li>3.76</li>\n",
       "\t<li>4.15</li>\n",
       "\t<li>4.53</li>\n",
       "</ol>\n"
      ],
      "text/latex": [
       "\\begin{enumerate*}\n",
       "\\item 1\n",
       "\\item 1.41\n",
       "\\item 1.82\n",
       "\\item 2.21\n",
       "\\item 2.61\n",
       "\\item 2.99\n",
       "\\item 3.38\n",
       "\\item 3.76\n",
       "\\item 4.15\n",
       "\\item 4.53\n",
       "\\end{enumerate*}\n"
      ],
      "text/markdown": [
       "1. 1\n",
       "2. 1.41\n",
       "3. 1.82\n",
       "4. 2.21\n",
       "5. 2.61\n",
       "6. 2.99\n",
       "7. 3.38\n",
       "8. 3.76\n",
       "9. 4.15\n",
       "10. 4.53\n",
       "\n",
       "\n"
      ],
      "text/plain": [
       " [1] 1.00 1.41 1.82 2.21 2.61 2.99 3.38 3.76 4.15 4.53"
      ]
     },
     "metadata": {},
     "output_type": "display_data"
    }
   ],
   "source": [
    "sapply(1:10, function(z) prod(1:z)^(1/z)) %>% round(2)"
   ]
  },
  {
   "cell_type": "code",
   "execution_count": 168,
   "metadata": {
    "hidden": true
   },
   "outputs": [
    {
     "name": "stdout",
     "output_type": "stream",
     "text": [
      " num [1:10000, 1:46] 135 135 136 137 137 ...\n"
     ]
    }
   ],
   "source": [
    "# summarise\n",
    "mu.mean <- apply(mu,2,mean) # 2 refers to second dimension \n",
    "#i.e. columns as opposed to rows <- rows=1\n",
    "mu %>% str()"
   ]
  },
  {
   "cell_type": "code",
   "execution_count": 169,
   "metadata": {
    "hidden": true
   },
   "outputs": [
    {
     "name": "stdout",
     "output_type": "stream",
     "text": [
      " num [1:2, 1:46] 135 138 136 139 137 ...\n",
      " - attr(*, \"dimnames\")=List of 2\n",
      "  ..$ : chr [1:2] \"|0.89\" \"0.89|\"\n",
      "  ..$ : NULL\n"
     ]
    }
   ],
   "source": [
    "mu.HPDI <- apply(mu,2,HPDI) # takes the mean of every column in mu\n",
    "mu.HPDI %>% str()"
   ]
  },
  {
   "cell_type": "code",
   "execution_count": 170,
   "metadata": {
    "hidden": true
   },
   "outputs": [],
   "source": [
    "# summarize the distribution of mu \n",
    "mu.mean <- apply( mu , 2 , mean )\n",
    "mu.HPDI <- apply( mu , 2 , HPDI , prob=0.89 )"
   ]
  },
  {
   "cell_type": "code",
   "execution_count": 173,
   "metadata": {
    "hidden": true
   },
   "outputs": [
    {
     "data": {
      "image/png": "[encoded data removed]",
      "text/plain": [
       "plot without title"
      ]
     },
     "metadata": {},
     "output_type": "display_data"
    }
   ],
   "source": [
    "# plot raw data\n",
    "# fading out points to make line and interval more visible\n",
    "plot( height ~ weight , data=d2 , col=col.alpha(rangi2,0.5) )\n",
    "\n",
    "# plot the MAP line, aka the mean mu for each weight\n",
    "lines( weight.seq , mu.mean )\n",
    "\n",
    "# plot a shaded region for 89% HPDI\n",
    "shade( mu.HPDI , weight.seq )"
   ]
  },
  {
   "cell_type": "markdown",
   "metadata": {
    "hidden": true
   },
   "source": [
    "<img src='pics/SR_b17.png' alt='Drawing' style='width: 450pt'/>"
   ]
  },
  {
   "cell_type": "code",
   "execution_count": 175,
   "metadata": {
    "hidden": true
   },
   "outputs": [
    {
     "name": "stdout",
     "output_type": "stream",
     "text": [
      "[ 1000 / 1000 ]\n",
      " num [1:1000, 1:46] 136 142 142 141 126 ...\n"
     ]
    }
   ],
   "source": [
    "sim.height <- sim(m4.3, data=list(weight=weight.seq))\n",
    "str(sim.height)"
   ]
  },
  {
   "cell_type": "markdown",
   "metadata": {
    "hidden": true
   },
   "source": [
    "**<font color = 'purple'>incorporating sigma into the graph</font>** <- predicted heights are not all going to fall on the line, but scattered around the line, and sigma tells you that.\n",
    "\n",
    "* there's uncertainty from the posterior and that contributes to prediction uncertainty, and\n",
    "* then there's uncertainty from the process, and that uncertainty is embodied in the likelihood function\n",
    "    * even if you knew probability of water on the planet there's still uncertainty about the outcome of each globe toss (land or water)"
   ]
  },
  {
   "cell_type": "code",
   "execution_count": 182,
   "metadata": {
    "hidden": true,
    "scrolled": true
   },
   "outputs": [
    {
     "data": {
      "image/png": "[encoded data removed]",
      "text/plain": [
       "plot without title"
      ]
     },
     "metadata": {},
     "output_type": "display_data"
    }
   ],
   "source": [
    "height.PI <- apply( sim.height , 2 , PI , prob=0.89 )\n",
    "\n",
    " # plot raw data\n",
    "plot( height ~ weight , d2 , col=col.alpha(rangi2,0.5) )\n",
    "\n",
    "# draw MAP line\n",
    "lines( weight.seq , mu.mean )\n",
    "\n",
    "# draw HPDI region for line\n",
    "shade( mu.HPDI , weight.seq )\n",
    "\n",
    "# draw PI region for simulated heights\n",
    "shade( height.PI , weight.seq )"
   ]
  },
  {
   "cell_type": "markdown",
   "metadata": {
    "heading_collapsed": true,
    "hidden": true
   },
   "source": [
    "### How sim works"
   ]
  },
  {
   "cell_type": "markdown",
   "metadata": {
    "hidden": true
   },
   "source": [
    "<img src='pics/SR_b18.png' alt='Drawing' style='width: 350pt'/>"
   ]
  },
  {
   "cell_type": "code",
   "execution_count": 195,
   "metadata": {
    "hidden": true
   },
   "outputs": [],
   "source": [
    "post <- extract.samples(m4.3)\n",
    "weight.seq <- 25:70\n",
    "sim.height <- sapply( weight.seq , function(weight)\n",
    "    rnorm( # generate a random normal\n",
    "        n=nrow(post) ,  # one for each row in the posterior distribution\n",
    "        mean=post$a + post$b*weight , # where are mean is our defn of mu\n",
    "        sd=post$sigma ) )             # and the std dev is sigma \n",
    "height.PI <- apply( sim.height , 2 , PI , prob=0.89 ) \n",
    "                     # gives percentile interval  <- i.e. an interval \n",
    "                     # with the same probability on each tail"
   ]
  },
  {
   "cell_type": "code",
   "execution_count": 196,
   "metadata": {
    "hidden": true
   },
   "outputs": [
    {
     "data": {
      "text/html": [
       "<table>\n",
       "<tbody>\n",
       "\t<tr><th scope=row>5%</th><td>128.2344</td><td>129.3459</td><td>130.0623</td><td>130.9431</td><td>132.1201</td><td>132.8307</td><td>133.7421</td><td>134.5932</td><td>135.5284</td><td>136.7211</td><td>...     </td><td>160.9102</td><td>161.9420</td><td>162.6802</td><td>163.3961</td><td>164.4731</td><td>165.2166</td><td>166.1853</td><td>167.0419</td><td>168.1696</td><td>168.9738</td></tr>\n",
       "\t<tr><th scope=row>94%</th><td>144.7526</td><td>145.7920</td><td>146.4197</td><td>147.2685</td><td>148.2685</td><td>149.4207</td><td>150.1277</td><td>151.2701</td><td>151.8630</td><td>152.8386</td><td>...     </td><td>177.3972</td><td>178.2225</td><td>179.1776</td><td>180.0328</td><td>180.9583</td><td>181.8761</td><td>182.7325</td><td>183.6668</td><td>184.6159</td><td>185.3851</td></tr>\n",
       "</tbody>\n",
       "</table>\n"
      ],
      "text/latex": [
       "\\begin{tabular}{r|llllllllllllllllllllllllllllllllllllllllllllll}\n",
       "\t5\\% & 128.2344 & 129.3459 & 130.0623 & 130.9431 & 132.1201 & 132.8307 & 133.7421 & 134.5932 & 135.5284 & 136.7211 & ...      & 160.9102 & 161.9420 & 162.6802 & 163.3961 & 164.4731 & 165.2166 & 166.1853 & 167.0419 & 168.1696 & 168.9738\\\\\n",
       "\t94\\% & 144.7526 & 145.7920 & 146.4197 & 147.2685 & 148.2685 & 149.4207 & 150.1277 & 151.2701 & 151.8630 & 152.8386 & ...      & 177.3972 & 178.2225 & 179.1776 & 180.0328 & 180.9583 & 181.8761 & 182.7325 & 183.6668 & 184.6159 & 185.3851\\\\\n",
       "\\end{tabular}\n"
      ],
      "text/markdown": [
       "\n",
       "| 5% | 128.2344 | 129.3459 | 130.0623 | 130.9431 | 132.1201 | 132.8307 | 133.7421 | 134.5932 | 135.5284 | 136.7211 | ...      | 160.9102 | 161.9420 | 162.6802 | 163.3961 | 164.4731 | 165.2166 | 166.1853 | 167.0419 | 168.1696 | 168.9738 | \n",
       "| 94% | 144.7526 | 145.7920 | 146.4197 | 147.2685 | 148.2685 | 149.4207 | 150.1277 | 151.2701 | 151.8630 | 152.8386 | ...      | 177.3972 | 178.2225 | 179.1776 | 180.0328 | 180.9583 | 181.8761 | 182.7325 | 183.6668 | 184.6159 | 185.3851 | \n",
       "\n",
       "\n"
      ],
      "text/plain": [
       "    [,1]     [,2]     [,3]     [,4]     [,5]     [,6]     [,7]     [,8]    \n",
       "5%  128.2344 129.3459 130.0623 130.9431 132.1201 132.8307 133.7421 134.5932\n",
       "94% 144.7526 145.7920 146.4197 147.2685 148.2685 149.4207 150.1277 151.2701\n",
       "    [,9]     [,10]    [,11] [,12]    [,13]    [,14]    [,15]    [,16]   \n",
       "5%  135.5284 136.7211 ...   160.9102 161.9420 162.6802 163.3961 164.4731\n",
       "94% 151.8630 152.8386 ...   177.3972 178.2225 179.1776 180.0328 180.9583\n",
       "    [,17]    [,18]    [,19]    [,20]    [,21]   \n",
       "5%  165.2166 166.1853 167.0419 168.1696 168.9738\n",
       "94% 181.8761 182.7325 183.6668 184.6159 185.3851"
      ]
     },
     "metadata": {},
     "output_type": "display_data"
    }
   ],
   "source": [
    "height.PI"
   ]
  },
  {
   "cell_type": "markdown",
   "metadata": {
    "hidden": true
   },
   "source": [
    "<img src='pics/test' alt='Drawing' style='width:150pt'/>\n"
   ]
  },
  {
   "cell_type": "markdown",
   "metadata": {
    "heading_collapsed": true,
    "hidden": true
   },
   "source": [
    "## Polynomial regression"
   ]
  },
  {
   "cell_type": "markdown",
   "metadata": {
    "hidden": true
   },
   "source": [
    "<img src='pics/SR_b13.png' alt='Drawing' style='width: 250pt'/>"
   ]
  },
  {
   "cell_type": "markdown",
   "metadata": {
    "hidden": true
   },
   "source": [
    "<font color = 'red'>The super frustrating thing about statistical jargon is that linear models are not linear, not in the prediction space. The linearity has to do with the additiveness the model of the mean: that's what's linear about them. But when you draw predictions in a scatterplot they don't have to be straight lines.</font>"
   ]
  },
  {
   "cell_type": "markdown",
   "metadata": {
    "hidden": true
   },
   "source": [
    "<img src='pics/SR_b14.png' alt='Drawing' style='width: 350pt'/>"
   ]
  },
  {
   "cell_type": "markdown",
   "metadata": {
    "hidden": true
   },
   "source": [
    "<img src='pics/SR_e20.png' alt='Drawing' style='width:250pt'/>"
   ]
  },
  {
   "cell_type": "code",
   "execution_count": 200,
   "metadata": {
    "hidden": true
   },
   "outputs": [],
   "source": [
    "d$weight.s <- ( d$weight - mean(d$weight) )/sd(d$weight)"
   ]
  },
  {
   "cell_type": "markdown",
   "metadata": {
    "hidden": true
   },
   "source": [
    "<img src='pics/SR_f22.png' alt='Drawing' style='width:325pt'/>"
   ]
  },
  {
   "cell_type": "code",
   "execution_count": 201,
   "metadata": {
    "hidden": true
   },
   "outputs": [],
   "source": [
    "d$weight.s2 <- d$weight.s^2\n",
    "m4.5 <- map(\n",
    "    alist(\n",
    "        height ~ dnorm( mu , sigma ) ,\n",
    "        mu <- a + b1*weight.s + b2*weight.s2 ,\n",
    "        a ~ dnorm( 178 , 100 ) ,\n",
    "        b1 ~ dnorm( 0 , 10 ) ,\n",
    "        b2 ~ dnorm( 0 , 10 ) ,\n",
    "        sigma ~ dunif( 0 , 50 )\n",
    "    ) ,\n",
    "    data=d )"
   ]
  },
  {
   "cell_type": "code",
   "execution_count": 202,
   "metadata": {
    "hidden": true
   },
   "outputs": [
    {
     "data": {
      "text/plain": [
       "        Mean StdDev   5.5%  94.5%\n",
       "a     146.66   0.37 146.07 147.26\n",
       "b1     21.40   0.29  20.94  21.86\n",
       "b2     -8.42   0.28  -8.86  -7.97\n",
       "sigma   5.75   0.17   5.47   6.03"
      ]
     },
     "metadata": {},
     "output_type": "display_data"
    }
   ],
   "source": [
    "precis( m4.5 )"
   ]
  },
  {
   "cell_type": "markdown",
   "metadata": {
    "hidden": true
   },
   "source": [
    "<font color = 'red'>problem with parabolic models is that they do crazy things at the limits of your data</font>"
   ]
  },
  {
   "cell_type": "markdown",
   "metadata": {
    "hidden": true
   },
   "source": [
    "<img src='pics/SR_f23.png' alt='Drawing' style='width:325pt'/>"
   ]
  },
  {
   "cell_type": "markdown",
   "metadata": {},
   "source": [
    "# Multivariate models"
   ]
  },
  {
   "cell_type": "markdown",
   "metadata": {},
   "source": [
    "## load data"
   ]
  },
  {
   "cell_type": "code",
   "execution_count": 214,
   "metadata": {},
   "outputs": [],
   "source": [
    "# load data\n",
    "library(rethinking)\n",
    "data(WaffleDivorce)\n",
    "d <- WaffleDivorce\n",
    "\n",
    "# standardize predictor\n",
    "d$MedianAgeMarriage.s <- (d$MedianAgeMarriage-mean(d$MedianAgeMarriage))/\n",
    "    sd(d$MedianAgeMarriage)\n",
    "\n",
    "# fit model\n",
    "m5.1 <- map(\n",
    "    alist(\n",
    "        Divorce ~ dnorm( mu , sigma ) ,\n",
    "        mu <- a + bA * MedianAgeMarriage.s ,\n",
    "        a ~ dnorm( 10 , 10 ) ,\n",
    "        bA ~ dnorm( 0 , 1 ) ,\n",
    "        sigma ~ dunif( 0 , 10 )\n",
    "    ) , data = d )"
   ]
  },
  {
   "cell_type": "markdown",
   "metadata": {
    "heading_collapsed": true
   },
   "source": [
    "## (5.1.) Spurious association"
   ]
  },
  {
   "cell_type": "markdown",
   "metadata": {
    "hidden": true
   },
   "source": [
    "* they're actual causal relationships between things and you can't detect them or see them unless you have more than one predictor variable at the models because causes are in conflict in natural systems.\n",
    "* it is not harmless to just add stuff to a model, it actually totally distorts your inference."
   ]
  },
  {
   "cell_type": "markdown",
   "metadata": {
    "hidden": true
   },
   "source": [
    "<img src='pics/SR_f24.png' alt='Drawing' style='width:325pt'/>"
   ]
  },
  {
   "cell_type": "markdown",
   "metadata": {
    "hidden": true
   },
   "source": [
    "<img src='pics/SR_f25.png' alt='Drawing' style='width:325pt'/>"
   ]
  },
  {
   "cell_type": "markdown",
   "metadata": {
    "hidden": true
   },
   "source": [
    "you can have variables that are causally related but if you look at their correlation it could be zero \n",
    "\n",
    "* the simple example: say you have a machine and you input into it positive and negative numbers 2 minus 2 4 minus 4 and it outputs the square of the input. There will be zero correlation between the inputs and the outputs but but there the employee is perfectly determining of the output they're definitely causally related but there's zero correlation."
   ]
  },
  {
   "cell_type": "markdown",
   "metadata": {
    "heading_collapsed": true
   },
   "source": [
    "## (5.1.1.) Multivariate notation. "
   ]
  },
  {
   "cell_type": "markdown",
   "metadata": {
    "hidden": true
   },
   "source": [
    "<img src='pics/SR_f26.png' alt='Drawing' style='width:325pt'/>"
   ]
  },
  {
   "cell_type": "markdown",
   "metadata": {
    "hidden": true
   },
   "source": [
    "<font color = 'purple'>mutlivariate linear regression answers the question:</font>\n",
    "What is the value of a predictor once we know the value of other predictors. i.e., once you know a state's mariage rate, is there any additional predictive power of knowing the state's median marriage rate$-$and vice versa"
   ]
  },
  {
   "cell_type": "markdown",
   "metadata": {
    "hidden": true
   },
   "source": [
    "<img src='pics/SR_f27.png' alt='Drawing' style='width:325pt'/>"
   ]
  },
  {
   "cell_type": "markdown",
   "metadata": {},
   "source": [
    "## (5.1.2.) Fitting the model. "
   ]
  },
  {
   "cell_type": "markdown",
   "metadata": {},
   "source": [
    "<img src='pics/SR_f28.png' alt='Drawing' style='width:325pt'/>"
   ]
  },
  {
   "cell_type": "markdown",
   "metadata": {},
   "source": [
    "<img src='pics/SR_f29.png' alt='Drawing' style='width:325pt'/>"
   ]
  },
  {
   "cell_type": "markdown",
   "metadata": {},
   "source": [
    "map just executes your formula list"
   ]
  },
  {
   "cell_type": "code",
   "execution_count": 216,
   "metadata": {},
   "outputs": [],
   "source": [
    " d$Marriage.s <- (d$Marriage - mean(d$Marriage))/sd(d$Marriage)"
   ]
  },
  {
   "cell_type": "code",
   "execution_count": 217,
   "metadata": {},
   "outputs": [],
   "source": [
    "m5.3 <- map(\n",
    "    alist(\n",
    "        Divorce ~ dnorm( mu , sigma ) ,\n",
    "        mu <- a + bR*Marriage.s + bA*MedianAgeMarriage.s ,\n",
    "        a ~ dnorm( 10 , 10 ) ,\n",
    "        bR ~ dnorm( 0 , 1 ) ,\n",
    "        bA ~ dnorm( 0 , 1 ) ,\n",
    "        sigma ~ dunif( 0 , 10 )\n",
    "    ) ,\n",
    "    data = d )"
   ]
  },
  {
   "cell_type": "code",
   "execution_count": 218,
   "metadata": {},
   "outputs": [
    {
     "data": {
      "text/plain": [
       "       Mean StdDev  5.5% 94.5%\n",
       "a      9.69   0.20  9.36 10.01\n",
       "bR    -0.13   0.28 -0.58  0.31\n",
       "bA    -1.13   0.28 -1.58 -0.69\n",
       "sigma  1.44   0.14  1.21  1.67"
      ]
     },
     "metadata": {},
     "output_type": "display_data"
    }
   ],
   "source": [
    "precis( m5.3 )"
   ]
  },
  {
   "cell_type": "code",
   "execution_count": 219,
   "metadata": {},
   "outputs": [
    {
     "data": {
      "image/png": "[encoded data removed]",
      "text/plain": [
       "plot without title"
      ]
     },
     "metadata": {},
     "output_type": "display_data"
    }
   ],
   "source": [
    "precis(m5.3) %>% plot()"
   ]
  },
  {
   "cell_type": "markdown",
   "metadata": {},
   "source": [
    "<img src='pics/SR_f31.png' alt='Drawing' style='width:325pt'/>"
   ]
  },
  {
   "cell_type": "markdown",
   "metadata": {},
   "source": [
    "<img src='pics/SR_f30.png' alt='Drawing' style='width:275pt'/>"
   ]
  },
  {
   "cell_type": "code",
   "execution_count": null,
   "metadata": {},
   "outputs": [],
   "source": []
  }
 ],
 "metadata": {
  "kernelspec": {
   "display_name": "R",
   "language": "R",
   "name": "ir"
  },
  "language_info": {
   "codemirror_mode": "r",
   "file_extension": ".r",
   "mimetype": "text/x-r-source",
   "name": "R",
   "pygments_lexer": "r",
   "version": "3.5.1"
  },
  "toc": {
   "base_numbering": 1,
   "nav_menu": {},
   "number_sections": true,
   "sideBar": true,
   "skip_h1_title": false,
   "title_cell": "Table of Contents",
   "title_sidebar": "Contents",
   "toc_cell": true,
   "toc_position": {},
   "toc_section_display": true,
   "toc_window_display": false
  },
  "varInspector": {
   "cols": {
    "lenName": 16,
    "lenType": 16,
    "lenVar": 40
   },
   "kernels_config": {
    "python": {
     "delete_cmd_postfix": "",
     "delete_cmd_prefix": "del ",
     "library": "var_list.py",
     "varRefreshCmd": "print(var_dic_list())"
    },
    "r": {
     "delete_cmd_postfix": ") ",
     "delete_cmd_prefix": "rm(",
     "library": "var_list.r",
     "varRefreshCmd": "cat(var_dic_list()) "
    }
   },
   "types_to_exclude": [
    "module",
    "function",
    "builtin_function_or_method",
    "instance",
    "_Feature"
   ],
   "window_display": false
  }
 },
 "nbformat": 4,
 "nbformat_minor": 2
}
