{
 "cells": [
  {
   "cell_type": "markdown",
   "metadata": {
    "Collapsed": "true",
    "toc": true
   },
   "source": [
    "<h1>Table of Contents<span class=\"tocSkip\"></span></h1>\n",
    "<div class=\"toc\"><ul class=\"toc-item\"><li><span><a href=\"#CH3\" data-toc-modified-id=\"CH3-1\"><span class=\"toc-item-num\">1&nbsp;&nbsp;</span>CH3</a></span><ul class=\"toc-item\"><li><span><a href=\"#Sampling-from-a-grid-approximate-posterior\" data-toc-modified-id=\"Sampling-from-a-grid-approximate-posterior-1.1\"><span class=\"toc-item-num\">1.1&nbsp;&nbsp;</span>Sampling from a grid-approximate posterior</a></span></li><li><span><a href=\"#Sampling-to-summarize\" data-toc-modified-id=\"Sampling-to-summarize-1.2\"><span class=\"toc-item-num\">1.2&nbsp;&nbsp;</span>Sampling to summarize</a></span><ul class=\"toc-item\"><li><span><a href=\"#(3.2.1)-Intervals-of-defined-boundaries.-\" data-toc-modified-id=\"(3.2.1)-Intervals-of-defined-boundaries.--1.2.1\"><span class=\"toc-item-num\">1.2.1&nbsp;&nbsp;</span>(3.2.1) <font color=\"blue\">Intervals of defined boundaries. </font></a></span></li><li><span><a href=\"#(3.2.2.)-Intervals-of-defined-mass.\" data-toc-modified-id=\"(3.2.2.)-Intervals-of-defined-mass.-1.2.2\"><span class=\"toc-item-num\">1.2.2&nbsp;&nbsp;</span>(3.2.2.) <font color=\"blue\">Intervals of defined mass.</font></a></span></li><li><span><a href=\"#(3.2.3.)-Point-estimates.-\" data-toc-modified-id=\"(3.2.3.)-Point-estimates.--1.2.3\"><span class=\"toc-item-num\">1.2.3&nbsp;&nbsp;</span>(3.2.3.) <font color=\"blue\">Point estimates. </font></a></span></li></ul></li><li><span><a href=\"#(3.3.)-Sampling-to-simulate-prediction\" data-toc-modified-id=\"(3.3.)-Sampling-to-simulate-prediction-1.3\"><span class=\"toc-item-num\">1.3&nbsp;&nbsp;</span>(3.3.) Sampling to simulate prediction</a></span><ul class=\"toc-item\"><li><span><a href=\"#Dummy-data.\" data-toc-modified-id=\"Dummy-data.-1.3.1\"><span class=\"toc-item-num\">1.3.1&nbsp;&nbsp;</span>Dummy data.</a></span></li><li><span><a href=\"#Model-checking.\" data-toc-modified-id=\"Model-checking.-1.3.2\"><span class=\"toc-item-num\">1.3.2&nbsp;&nbsp;</span>Model checking.</a></span></li></ul></li><li><span><a href=\"#Practice-Problems\" data-toc-modified-id=\"Practice-Problems-1.4\"><span class=\"toc-item-num\">1.4&nbsp;&nbsp;</span><font color=\"purple\">Practice Problems</font></a></span><ul class=\"toc-item\"><li><span><a href=\"#EASY\" data-toc-modified-id=\"EASY-1.4.1\"><span class=\"toc-item-num\">1.4.1&nbsp;&nbsp;</span>EASY</a></span></li><li><span><a href=\"#Medium.\" data-toc-modified-id=\"Medium.-1.4.2\"><span class=\"toc-item-num\">1.4.2&nbsp;&nbsp;</span>Medium.</a></span></li><li><span><a href=\"#Hard\" data-toc-modified-id=\"Hard-1.4.3\"><span class=\"toc-item-num\">1.4.3&nbsp;&nbsp;</span>Hard</a></span></li></ul></li></ul></li><li><span><a href=\"#Week-1-Homework\" data-toc-modified-id=\"Week-1-Homework-2\"><span class=\"toc-item-num\">2&nbsp;&nbsp;</span>Week 1 Homework</a></span></li></ul></div>"
   ]
  },
  {
   "cell_type": "code",
   "execution_count": 62,
   "metadata": {
    "Collapsed": "false",
    "ExecuteTime": {
     "end_time": "2019-12-21T21:13:51.549364Z",
     "start_time": "2019-12-21T21:13:51.507Z"
    }
   },
   "outputs": [],
   "source": [
    "library(tidyverse)\n",
    "library(rethinking)"
   ]
  },
  {
   "cell_type": "markdown",
   "metadata": {
    "Collapsed": "true"
   },
   "source": [
    "# CH3"
   ]
  },
  {
   "cell_type": "code",
   "execution_count": null,
   "metadata": {},
   "outputs": [],
   "source": [
    "Pr_Positive_RareEvent <- 0.95\n",
    "Pr_Positive_Normal    <- 0.01\n",
    "Pr_RareEvent          <- 0.001\n",
    "\n",
    "Pr_Positive <- Pr_Positive_RareEvent * Pr_RareEvent +\n",
    "               Pr_Positive_Normal    * ( 1 - Pr_RareEvent )\n",
    "\n",
    "( Pr_RareEvent_Positive <- Pr_Positive_RareEvent*Pr_RareEvent / Pr_Positive )\n"
   ]
  },
  {
   "cell_type": "code",
   "execution_count": 63,
   "metadata": {
    "ExecuteTime": {
     "end_time": "2019-12-21T21:13:53.697781Z",
     "start_time": "2019-12-21T21:13:53.642Z"
    }
   },
   "outputs": [
    {
     "data": {
      "text/html": [
       "0.086837294332724"
      ],
      "text/latex": [
       "0.086837294332724"
      ],
      "text/markdown": [
       "0.086837294332724"
      ],
      "text/plain": [
       "[1] 0.08683729"
      ]
     },
     "metadata": {},
     "output_type": "display_data"
    }
   ],
   "source": [
    "Pr_Positive_Vampire <- 0.95\n",
    "Pr_Positive_Mortal <- 0.01\n",
    "Pr_Vampire <- 0.001\n",
    "\n",
    "Pr_Positive <- Pr_Positive_Vampire * Pr_Vampire +\n",
    "               Pr_Positive_Mortal  * ( 1 - Pr_Vampire )\n",
    "\n",
    "( Pr_Vampire_Positive <- Pr_Positive_Vampire*Pr_Vampire / Pr_Positive )"
   ]
  },
  {
   "cell_type": "code",
   "execution_count": 2,
   "metadata": {
    "ExecuteTime": {
     "end_time": "2020-01-31T16:37:48.520293Z",
     "start_time": "2020-01-31T16:37:48.396Z"
    }
   },
   "outputs": [
    {
     "data": {
      "text/html": [
       "0.086837294332724"
      ],
      "text/latex": [
       "0.086837294332724"
      ],
      "text/markdown": [
       "0.086837294332724"
      ],
      "text/plain": [
       "[1] 0.08683729"
      ]
     },
     "metadata": {},
     "output_type": "display_data"
    }
   ],
   "source": [
    "Pr_Positive_RareEvent <- 0.95\n",
    "Pr_Positive_Normal    <- 0.01\n",
    "Pr_RareEvent          <- 0.001\n",
    "\n",
    "Pr_Positive <- Pr_Positive_RareEvent * Pr_RareEvent +\n",
    "               Pr_Positive_Normal  * ( 1 - Pr_RareEvent )\n",
    "\n",
    "( Pr_RareEvent_Positive <- Pr_Positive_RareEvent*Pr_RareEvent / Pr_Positive )"
   ]
  },
  {
   "cell_type": "code",
   "execution_count": 2,
   "metadata": {
    "ExecuteTime": {
     "end_time": "2020-01-31T16:37:48.520293Z",
     "start_time": "2020-01-31T16:37:48.396Z"
    }
   },
   "outputs": [
    {
     "data": {
      "text/html": [
       "0.086837294332724"
      ],
      "text/latex": [
       "0.086837294332724"
      ],
      "text/markdown": [
       "0.086837294332724"
      ],
      "text/plain": [
       "[1] 0.08683729"
      ]
     },
     "metadata": {},
     "output_type": "display_data"
    }
   ],
   "source": [
    "Pr_Positive_RareEvent <- 0.998\n",
    "Pr_Positive_Normal    <- 0.01\n",
    "Pr_RareEvent          <- 0.02\n",
    "\n",
    "Pr_Positive <- Pr_Positive_RareEvent * Pr_RareEvent +\n",
    "               Pr_Positive_Normal  * ( 1 - Pr_RareEvent )\n",
    "\n",
    "( Pr_RareEvent_Positive <- Pr_Positive_RareEvent*Pr_RareEvent / Pr_Positive )"
   ]
  },
  {
   "cell_type": "code",
   "execution_count": 64,
   "metadata": {
    "ExecuteTime": {
     "end_time": "2019-12-21T21:13:54.127235Z",
     "start_time": "2019-12-21T21:13:54.068Z"
    }
   },
   "outputs": [
    {
     "data": {
      "text/html": [
       "0.01094"
      ],
      "text/latex": [
       "0.01094"
      ],
      "text/markdown": [
       "0.01094"
      ],
      "text/plain": [
       "[1] 0.01094"
      ]
     },
     "metadata": {},
     "output_type": "display_data"
    }
   ],
   "source": [
    "Pr_Positive = (.95*0.001)+(.01*(1-0.001))\n",
    "Pr_Positive "
   ]
  },
  {
   "cell_type": "markdown",
   "metadata": {
    "Collapsed": "false"
   },
   "source": [
    "## Sampling from a grid-approximate posterior"
   ]
  },
  {
   "cell_type": "markdown",
   "metadata": {
    "Collapsed": "false"
   },
   "source": [
    "<font color = 'purple'>how to compute the posterior for the globe tossing model, using grid approximation:</font>"
   ]
  },
  {
   "cell_type": "code",
   "execution_count": 90,
   "metadata": {
    "Collapsed": "false",
    "ExecuteTime": {
     "end_time": "2019-12-23T23:46:43.964806Z",
     "start_time": "2019-12-23T23:46:43.875Z"
    }
   },
   "outputs": [
    {
     "data": {
      "text/html": [
       "1"
      ],
      "text/latex": [
       "1"
      ],
      "text/markdown": [
       "1"
      ],
      "text/plain": [
       "[1] 1"
      ]
     },
     "metadata": {},
     "output_type": "display_data"
    }
   ],
   "source": [
    "p_grid <- seq( from=0 , to=1 , length.out=1000 )\n",
    "prior <- rep( 1 , 1000 )\n",
    "likelihood <- dbinom( 6 , size=9 , prob=p_grid )\n",
    "posterior_counts <- likelihood * prior\n",
    "posterior_prob_distribution <- posterior_counts / sum(posterior_counts)\n",
    "posterior <- posterior_prob_distribution\n",
    "sum(posterior)"
   ]
  },
  {
   "cell_type": "code",
   "execution_count": 75,
   "metadata": {
    "ExecuteTime": {
     "end_time": "2019-12-21T21:19:11.908615Z",
     "start_time": "2019-12-21T21:19:11.859Z"
    },
    "scrolled": true
   },
   "outputs": [
    {
     "data": {
      "text/html": [
       "99.9000000007021"
      ],
      "text/latex": [
       "99.9000000007021"
      ],
      "text/markdown": [
       "99.9000000007021"
      ],
      "text/plain": [
       "[1] 99.9"
      ]
     },
     "metadata": {},
     "output_type": "display_data"
    },
    {
     "data": {
      "text/html": [
       "1000"
      ],
      "text/latex": [
       "1000"
      ],
      "text/markdown": [
       "1000"
      ],
      "text/plain": [
       "[1] 1000"
      ]
     },
     "metadata": {},
     "output_type": "display_data"
    }
   ],
   "source": [
    "sum(likelihood)\n",
    "sum(prior)"
   ]
  },
  {
   "cell_type": "code",
   "execution_count": 82,
   "metadata": {
    "ExecuteTime": {
     "end_time": "2019-12-21T21:23:05.280471Z",
     "start_time": "2019-12-21T21:23:05.241Z"
    }
   },
   "outputs": [],
   "source": [
    "# p_grid <- seq( from=0 , to=1 , length.out=1000 )\n",
    "# prior <- rep( 1 , 1000 )\n",
    "# likelihood <- dbinom( 6 , size=9 , prob=p_grid )\n",
    "# unstandardized_posterior <- likelihood * prior\n",
    "# sum(unstandardized_)"
   ]
  },
  {
   "cell_type": "code",
   "execution_count": 66,
   "metadata": {
    "Collapsed": "false",
    "ExecuteTime": {
     "end_time": "2019-12-21T21:14:00.153876Z",
     "start_time": "2019-12-21T21:14:00.114Z"
    }
   },
   "outputs": [],
   "source": [
    "plot_distribution <- function(x,y){\n",
    "    plot(x=x,y=y,type='b',\n",
    "        xlab=\"Probability of Water\",\n",
    "        ylab=\"Posterior Probability\")\n",
    "    title <- paste(length(x),\"Points\") \n",
    "    # paste <- Concatenate vectors after converting to character.\n",
    "    mtext(title)\n",
    "}"
   ]
  },
  {
   "cell_type": "code",
   "execution_count": 67,
   "metadata": {
    "Collapsed": "false",
    "ExecuteTime": {
     "end_time": "2019-12-21T21:14:00.657582Z",
     "start_time": "2019-12-21T21:14:00.495Z"
    },
    "cell_style": "center"
   },
   "outputs": [
    {
     "data": {
      "image/png": "[encoded data removed]",
      "text/plain": [
       "plot without title"
      ]
     },
     "metadata": {
      "image/png": {
       "height": 420,
       "width": 420
      }
     },
     "output_type": "display_data"
    }
   ],
   "source": [
    "plot_distribution(p_grid, posterior)"
   ]
  },
  {
   "cell_type": "markdown",
   "metadata": {
    "Collapsed": "false"
   },
   "source": [
    "Now we wish to <font color = 'blue'>draw 10,000 samples from this posterior</font>. Imagine the posterior is a bucket full of parameter values, numbers such as 0.1, 0.7, 0.5, 1, etc. Within the bucket, each value exists in proportion to its posterior probability, such that values near the peak are much more common than those in the tails. We’re going to scoop out 10,000 values from the bucket. Provided the bucket is well mixed, the resulting samples will have the same proportions as the exact posterior density. Therefore the individual values of p will appear in our samples in proportion to the posterior plausibility of each value. Here’s how you can do this in R, with one line of code:"
   ]
  },
  {
   "cell_type": "code",
   "execution_count": 68,
   "metadata": {
    "Collapsed": "false",
    "ExecuteTime": {
     "end_time": "2019-12-21T21:14:05.760580Z",
     "start_time": "2019-12-21T21:14:05.723Z"
    }
   },
   "outputs": [],
   "source": [
    "samples <- sample( p_grid , prob=posterior , size=1e4 , replace=TRUE )\n",
    "# p_grid is the set of possible values\n",
    "# prob=posterior is the probability of pulling each possible\n",
    "# parameter value from p_grid"
   ]
  },
  {
   "cell_type": "markdown",
   "metadata": {
    "Collapsed": "false"
   },
   "source": [
    "The workhorse here is sample, which <font color = 'blue'>randomly pulls values from a vector</font>. The vector in this case is p_grid, the grid of parameter values. The probability of each value is given by posterior, which you computed just above."
   ]
  },
  {
   "cell_type": "code",
   "execution_count": 31,
   "metadata": {
    "Collapsed": "false",
    "ExecuteTime": {
     "end_time": "2019-12-20T04:48:51.132099Z",
     "start_time": "2019-12-20T04:48:50.298Z"
    },
    "cell_style": "center"
   },
   "outputs": [
    {
     "data": {
      "image/png": "[encoded data removed]",
      "text/plain": [
       "plot without title"
      ]
     },
     "metadata": {
      "image/png": {
       "height": 420,
       "width": 420
      }
     },
     "output_type": "display_data"
    },
    {
     "data": {
      "image/png": "[encoded data removed]",
      "text/plain": [
       "Plot with title \"\""
      ]
     },
     "metadata": {
      "image/png": {
       "height": 420,
       "width": 420
      }
     },
     "output_type": "display_data"
    }
   ],
   "source": [
    "plot(samples); dens(samples)"
   ]
  },
  {
   "cell_type": "markdown",
   "metadata": {
    "Collapsed": "false",
    "heading_collapsed": true
   },
   "source": [
    "## Sampling to summarize"
   ]
  },
  {
   "cell_type": "markdown",
   "metadata": {
    "Collapsed": "false",
    "hidden": true
   },
   "source": [
    "### (3.2.1) <font color = 'blue'>Intervals of defined boundaries. </font>"
   ]
  },
  {
   "cell_type": "markdown",
   "metadata": {
    "Collapsed": "false",
    "hidden": true
   },
   "source": [
    "<b><font color = 'purple'>Suppose I ask you for the posterior probability that the proportion of water is less than 0.5 </font></b>. \n",
    "\n",
    "Using the grid-approximate posterior, you can just <font color = 'blue'>add up all of the probabilities, where the corresponding parameter value is less than 0.5</font>:"
   ]
  },
  {
   "cell_type": "code",
   "execution_count": 78,
   "metadata": {
    "Collapsed": "false",
    "hidden": true
   },
   "outputs": [
    {
     "data": {
      "text/html": [
       "0.171874589020229"
      ],
      "text/latex": [
       "0.171874589020229"
      ],
      "text/markdown": [
       "0.171874589020229"
      ],
      "text/plain": [
       "[1] 0.1718746"
      ]
     },
     "metadata": {},
     "output_type": "display_data"
    }
   ],
   "source": [
    "# add up posterior probability where p < 0.5 \n",
    "sum( posterior[ p_grid < 0.5 ] )"
   ]
  },
  {
   "cell_type": "markdown",
   "metadata": {
    "Collapsed": "false",
    "hidden": true
   },
   "source": [
    "So about 17% of the posterior probability is below 0.5. Couldn’t be easier. But since grid ap- proximation isn’t practical in general, it won’t always be so easy. Once there is more than one parameter in the posterior distribution (wait until the next chapter for that complication), even this simple sum is no longer very simple. \n",
    "\n",
    "<b><font color = 'purple'>So let’s see how to perform the same calculation, using samples from the posterior </font></b>. \n",
    "\n",
    "This approach does generalize to complex models with many parameters, and so you can use it everywhere. <font color = 'blue'>All you have to do is similarly add up all of the samples below 0.5, but also divide the resulting count by the total number of samples. In other words, find the frequency of parameter values below 0.5</font>:"
   ]
  },
  {
   "cell_type": "code",
   "execution_count": 79,
   "metadata": {
    "Collapsed": "false",
    "hidden": true
   },
   "outputs": [
    {
     "data": {
      "text/html": [
       "0.1716"
      ],
      "text/latex": [
       "0.1716"
      ],
      "text/markdown": [
       "0.1716"
      ],
      "text/plain": [
       "[1] 0.1716"
      ]
     },
     "metadata": {},
     "output_type": "display_data"
    }
   ],
   "source": [
    "sum( samples < 0.5 ) / 1e4"
   ]
  },
  {
   "cell_type": "markdown",
   "metadata": {
    "Collapsed": "false",
    "hidden": true
   },
   "source": [
    "And that’s nearly the same answer as the grid approximation provided, although your answer will not be exactly the same, because the exact samples you drew from the posterior will be different. This region is shown in the upper-left plot in Figure 3.2. \n",
    "\n",
    "<font color = 'purple'>Using the same approach, you can ask how much posterior probability lies between 0.5 and 0.75: </font>"
   ]
  },
  {
   "cell_type": "code",
   "execution_count": 80,
   "metadata": {
    "Collapsed": "false",
    "hidden": true
   },
   "outputs": [
    {
     "data": {
      "text/html": [
       "0.6079"
      ],
      "text/latex": [
       "0.6079"
      ],
      "text/markdown": [
       "0.6079"
      ],
      "text/plain": [
       "[1] 0.6079"
      ]
     },
     "metadata": {},
     "output_type": "display_data"
    }
   ],
   "source": [
    "sum( samples > 0.5 & samples < 0.75 ) / 1e4"
   ]
  },
  {
   "cell_type": "markdown",
   "metadata": {
    "Collapsed": "false",
    "hidden": true
   },
   "source": [
    "So about 61% of the posterior probability lies between 0.5 and 0.75. This region is shown in the upper-right plot of Figure 3.2."
   ]
  },
  {
   "cell_type": "code",
   "execution_count": 41,
   "metadata": {
    "ExecuteTime": {
     "end_time": "2019-12-20T19:01:05.144726Z",
     "start_time": "2019-12-20T19:01:05.085Z"
    },
    "hidden": true
   },
   "outputs": [
    {
     "data": {
      "text/html": [
       "<ol class=list-inline>\n",
       "\t<li>FALSE</li>\n",
       "\t<li>FALSE</li>\n",
       "\t<li>FALSE</li>\n",
       "\t<li>FALSE</li>\n",
       "\t<li>FALSE</li>\n",
       "\t<li>FALSE</li>\n",
       "\t<li>FALSE</li>\n",
       "\t<li>FALSE</li>\n",
       "\t<li>TRUE</li>\n",
       "\t<li>FALSE</li>\n",
       "</ol>\n"
      ],
      "text/latex": [
       "\\begin{enumerate*}\n",
       "\\item FALSE\n",
       "\\item FALSE\n",
       "\\item FALSE\n",
       "\\item FALSE\n",
       "\\item FALSE\n",
       "\\item FALSE\n",
       "\\item FALSE\n",
       "\\item FALSE\n",
       "\\item TRUE\n",
       "\\item FALSE\n",
       "\\end{enumerate*}\n"
      ],
      "text/markdown": [
       "1. FALSE\n",
       "2. FALSE\n",
       "3. FALSE\n",
       "4. FALSE\n",
       "5. FALSE\n",
       "6. FALSE\n",
       "7. FALSE\n",
       "8. FALSE\n",
       "9. TRUE\n",
       "10. FALSE\n",
       "\n",
       "\n"
      ],
      "text/plain": [
       " [1] FALSE FALSE FALSE FALSE FALSE FALSE FALSE FALSE  TRUE FALSE"
      ]
     },
     "metadata": {},
     "output_type": "display_data"
    },
    {
     "data": {
      "text/html": [
       "1"
      ],
      "text/latex": [
       "1"
      ],
      "text/markdown": [
       "1"
      ],
      "text/plain": [
       "[1] 1"
      ]
     },
     "metadata": {},
     "output_type": "display_data"
    }
   ],
   "source": [
    "(samples < 0.5) %>% head(10)\n",
    "sum((samples < 0.5) %>% head(10))"
   ]
  },
  {
   "cell_type": "code",
   "execution_count": null,
   "metadata": {
    "hidden": true
   },
   "outputs": [],
   "source": []
  },
  {
   "cell_type": "markdown",
   "metadata": {
    "Collapsed": "false",
    "heading_collapsed": true,
    "hidden": true
   },
   "source": [
    "### (3.2.2.) <font color = 'blue'>Intervals of defined mass.</font>"
   ]
  },
  {
   "cell_type": "markdown",
   "metadata": {
    "Collapsed": "false",
    "hidden": true
   },
   "source": [
    "It is more common to see scientific journals reporting an interval of defined mass, usually known as a <span style='background-color: lightgreen'>confidence interval</span>. An interval of posterior probability, such as the ones we are working with, may instead be called a <span style='background-color: lightgreen'>credible interval</span>, although the terms may also be used interchangeably, in the usual polysemy that arises when commonplace words are used in technical definitions. It’s easy to keep track of what’s being summarized, however, as long as you pay attention to how the model is defined. \n",
    " \n",
    " These posterior intervals report two parameter values that contain between them a specified amount of posterior probability, a probability mass. For this type of interval, it is easier to find the answer by using samples from the posterior than by using a grid approximation.<font color = 'purple'> Suppose for example you want to know the boundaries of the lower 80% posterior probability. You know this interval starts at p = 0. To find out where it stops, think of the samples as data and ask where the 80th percentile lies</font>:"
   ]
  },
  {
   "cell_type": "markdown",
   "metadata": {
    "Collapsed": "false",
    "hidden": true
   },
   "source": [
    "<img src='pics/SR_13.png' alt='Drawing' style='width: 350pt'/>"
   ]
  },
  {
   "cell_type": "code",
   "execution_count": 81,
   "metadata": {
    "Collapsed": "false",
    "hidden": true,
    "scrolled": true
   },
   "outputs": [
    {
     "data": {
      "text/html": [
       "<strong>80%:</strong> 0.758758758758759"
      ],
      "text/latex": [
       "\\textbf{80\\textbackslash{}\\%:} 0.758758758758759"
      ],
      "text/markdown": [
       "**80%:** 0.758758758758759"
      ],
      "text/plain": [
       "      80% \n",
       "0.7587588 "
      ]
     },
     "metadata": {},
     "output_type": "display_data"
    }
   ],
   "source": [
    "quantile( samples , 0.8 ) "
   ]
  },
  {
   "cell_type": "markdown",
   "metadata": {
    "Collapsed": "false",
    "hidden": true
   },
   "source": [
    "This region is shown in the bottom-left plot in Figure 3.2. Similarly, the middle 80% interval lies between the 10th percentile and the 90th percentile. These boundaries are found using the same approach:"
   ]
  },
  {
   "cell_type": "code",
   "execution_count": 82,
   "metadata": {
    "Collapsed": "false",
    "hidden": true
   },
   "outputs": [
    {
     "data": {
      "text/html": [
       "<dl class=dl-horizontal>\n",
       "\t<dt>10%</dt>\n",
       "\t\t<dd>0.447447447447447</dd>\n",
       "\t<dt>90%</dt>\n",
       "\t\t<dd>0.810810810810811</dd>\n",
       "</dl>\n"
      ],
      "text/latex": [
       "\\begin{description*}\n",
       "\\item[10\\textbackslash{}\\%] 0.447447447447447\n",
       "\\item[90\\textbackslash{}\\%] 0.810810810810811\n",
       "\\end{description*}\n"
      ],
      "text/markdown": [
       "10%\n",
       ":   0.44744744744744790%\n",
       ":   0.810810810810811\n",
       "\n"
      ],
      "text/plain": [
       "      10%       90% \n",
       "0.4474474 0.8108108 "
      ]
     },
     "metadata": {},
     "output_type": "display_data"
    }
   ],
   "source": [
    " quantile( samples , c( 0.1 , 0.9 ) )"
   ]
  },
  {
   "cell_type": "markdown",
   "metadata": {
    "Collapsed": "false",
    "hidden": true
   },
   "source": [
    "This region is shown in the bottom-right plot in Figure 3.2. Intervals of this sort, which assign equal probability mass to each tail, are very common in the scientific literature. We’ll call them percentile intervals (PI). These intervals do a good job of communicating the shape of a distribution, as long as the distribution isn’t too asymmetrical. But in terms of supporting inferences about which parameters are consistent with the data, they are not perfect. Consider the posterior distribution and different intervals in Figure 3.3. This posterior is consistent with observing three waters in three tosses and a uniform (flat) prior. It is highly skewed, having its maximum value at the boundary, p = 1. You can compute it, via grid approximation, with:"
   ]
  },
  {
   "cell_type": "code",
   "execution_count": 83,
   "metadata": {
    "Collapsed": "false",
    "hidden": true
   },
   "outputs": [],
   "source": [
    "p_grid <- seq( from=0 , to=1 , length.out=1000 )\n",
    "prior <- rep(1,1000)\n",
    "likelihood <- dbinom( 3 , size=3 , prob=p_grid )\n",
    "posterior <- likelihood * prior\n",
    "posterior <- posterior / sum(posterior)\n",
    "samples <- sample( p_grid , size=1e4 , replace=TRUE , prob=posterior )"
   ]
  },
  {
   "cell_type": "markdown",
   "metadata": {
    "Collapsed": "false",
    "hidden": true
   },
   "source": [
    "This code also goes ahead to sample from the posterior. Now, on the left of Figure 3.3, the 50% percentile confidence interval is shaded. You can conveniently compute this from the samples with PI (part of rethinking):"
   ]
  },
  {
   "cell_type": "code",
   "execution_count": 84,
   "metadata": {
    "Collapsed": "false",
    "hidden": true,
    "scrolled": true
   },
   "outputs": [
    {
     "data": {
      "text/html": [
       "<dl class=dl-horizontal>\n",
       "\t<dt>25%</dt>\n",
       "\t\t<dd>0.705705705705706</dd>\n",
       "\t<dt>75%</dt>\n",
       "\t\t<dd>0.931931931931932</dd>\n",
       "</dl>\n"
      ],
      "text/latex": [
       "\\begin{description*}\n",
       "\\item[25\\textbackslash{}\\%] 0.705705705705706\n",
       "\\item[75\\textbackslash{}\\%] 0.931931931931932\n",
       "\\end{description*}\n"
      ],
      "text/markdown": [
       "25%\n",
       ":   0.70570570570570675%\n",
       ":   0.931931931931932\n",
       "\n"
      ],
      "text/plain": [
       "      25%       75% \n",
       "0.7057057 0.9319319 "
      ]
     },
     "metadata": {},
     "output_type": "display_data"
    }
   ],
   "source": [
    "PI( samples , prob=0.5 )"
   ]
  },
  {
   "cell_type": "markdown",
   "metadata": {
    "Collapsed": "false",
    "hidden": true
   },
   "source": [
    "This interval assigns 25% of the probability mass above and below the interval. So it provides the central 50% probability. But in this example, it ends up excluding the most probable parameter values, near p = 1. So in terms of describing the shape of the posterior distribution—which is really all these intervals are asked to do—the percentile interval can be misleading. "
   ]
  },
  {
   "cell_type": "markdown",
   "metadata": {
    "Collapsed": "false",
    "hidden": true
   },
   "source": [
    "<img src='pics/SR_14.png' alt='Drawing' style='width: 350pt'/>"
   ]
  },
  {
   "cell_type": "markdown",
   "metadata": {
    "Collapsed": "false",
    "hidden": true
   },
   "source": [
    "In contrast, the right-hand plot in Figure 3.3 displays the 50% <span style='background-color: lightgreen'>highest posterior density interval (HPDI)</span>.51 \n",
    "\n",
    "* The HPDI is the narrowest interval containing the specified probability mass. If you think about it, there must be an infinite number of posterior intervals with the same mass. But if you want an interval that best represents the parameter values most consistent with the data, then you want the densest of these intervals. That’s what the HPDI is. Compute it from the samples with HPDI (also part of rethinking):"
   ]
  },
  {
   "cell_type": "code",
   "execution_count": 85,
   "metadata": {
    "Collapsed": "false",
    "hidden": true
   },
   "outputs": [
    {
     "data": {
      "text/html": [
       "<dl class=dl-horizontal>\n",
       "\t<dt>|0.5</dt>\n",
       "\t\t<dd>0.836836836836837</dd>\n",
       "\t<dt>0.5|</dt>\n",
       "\t\t<dd>0.997997997997998</dd>\n",
       "</dl>\n"
      ],
      "text/latex": [
       "\\begin{description*}\n",
       "\\item[\\textbackslash{}textbar\\{\\}0.5] 0.836836836836837\n",
       "\\item[0.5\\textbackslash{}textbar\\{\\}] 0.997997997997998\n",
       "\\end{description*}\n"
      ],
      "text/markdown": [
       "|0.5\n",
       ":   0.8368368368368370.5|\n",
       ":   0.997997997997998\n",
       "\n"
      ],
      "text/plain": [
       "     |0.5      0.5| \n",
       "0.8368368 0.9979980 "
      ]
     },
     "metadata": {},
     "output_type": "display_data"
    }
   ],
   "source": [
    "HPDI( samples , prob=0.5 )"
   ]
  },
  {
   "cell_type": "markdown",
   "metadata": {
    "Collapsed": "false",
    "hidden": true
   },
   "source": [
    "This interval captures the parameters with highest posterior probability, as well as being noticeably narrower: 0.16 in width rather than 0.23 for the percentile interval."
   ]
  },
  {
   "cell_type": "markdown",
   "metadata": {
    "Collapsed": "false",
    "hidden": true
   },
   "source": [
    "<font color = 'blue'>So the HPDI has some advantages over the PI. But in most cases, these two types of interval are very similar</font>. \n",
    "\n",
    "* They only look so different in this case because the posterior distribution is highly skewed. If we instead used samples from the posterior distribution for six waters in nine tosses, these intervals would be nearly identical. \n",
    "\n",
    "<font color = 'lightgrey'>Try it for yourself, using different probability masses, such as prob=0.8 and prob=0.95. When the posterior is bell shaped, it hardly matters which type of interval you use</font>."
   ]
  },
  {
   "cell_type": "markdown",
   "metadata": {
    "Collapsed": "false",
    "hidden": true
   },
   "source": [
    "**The HPDI also has some disadvantages**. HPDI is more computationally intensive than PI and suffers from greater simulation variance, which is a fancy way of saying that it is **sensitive to how many samples you draw from the posterior**. It is also harder to understand and many scientific audiences will not appreciate its features, while they will immediately understand a percentile interval, as ordinary non-Bayesian intervals are nearly always percentile intervals (although of sampling distributions, not posterior distributions)."
   ]
  },
  {
   "cell_type": "markdown",
   "metadata": {
    "Collapsed": "false",
    "hidden": true
   },
   "source": [
    "Overall, if the choice of interval type makes a big difference, then you shouldn’t be us- ing intervals to summarize the posterior. Remember, the entire posterior distribution is the Bayesian estimate. It summarizes the relative plausibilities of each possible value of the parameter. Intervals of the distribution are just helpful for summarizing it. If choice of in- terval leads to different inferences, then you’d be better off just plotting the entire posterior distribution."
   ]
  },
  {
   "cell_type": "markdown",
   "metadata": {
    "Collapsed": "false",
    "heading_collapsed": true,
    "hidden": true
   },
   "source": [
    "### (3.2.3.) <font color = 'blue'>Point estimates. </font>"
   ]
  },
  {
   "cell_type": "markdown",
   "metadata": {
    "Collapsed": "false",
    "hidden": true
   },
   "source": [
    "The third and final common summary task for the posterior is to produce point estimates of some kind. Given the entire posterior distribution, what value should you report? This seems like an innocent question, but it is difficult to answer. **<font color = 'green'>The Bayesian parameter estimate is precisely the entire posterior distribution, which is not a single number, but instead a function that maps each unique parameter value onto a plausibility value</font>**. So really the most important thing to note is that you don’t have to choose a point estimate. It’s hardly ever necessary. \n",
    "\n",
    "But if you must produce a point estimate from the posterior, you’ll have to ask and answer more questions. <font color = 'purple'>Consider the following example. Suppose again the globe tossing experiment in which we observe 3 waters out of 3 tosses, as in Figure 3.3. Let’s consider three alternative point estimates.</font> \n",
    "\n",
    "First, it is very common for scientists to report the parameter value with highest posterior probability, a <span style='background-color: lightgreen'>maximum a posteriori (MAP) estimate</span>. You can easily compute the MAP in this example:"
   ]
  },
  {
   "cell_type": "code",
   "execution_count": 86,
   "metadata": {
    "Collapsed": "false",
    "hidden": true
   },
   "outputs": [
    {
     "data": {
      "text/html": [
       "1"
      ],
      "text/latex": [
       "1"
      ],
      "text/markdown": [
       "1"
      ],
      "text/plain": [
       "[1] 1"
      ]
     },
     "metadata": {},
     "output_type": "display_data"
    }
   ],
   "source": [
    "p_grid[which.max(posterior)] "
   ]
  },
  {
   "cell_type": "markdown",
   "metadata": {
    "Collapsed": "false",
    "hidden": true
   },
   "source": [
    "Or if you instead have samples from the posterior, you can still approximate the same point:"
   ]
  },
  {
   "cell_type": "code",
   "execution_count": 87,
   "metadata": {
    "Collapsed": "false",
    "hidden": true
   },
   "outputs": [
    {
     "data": {
      "text/html": [
       "0.997139114042942"
      ],
      "text/latex": [
       "0.997139114042942"
      ],
      "text/markdown": [
       "0.997139114042942"
      ],
      "text/plain": [
       "[1] 0.9971391"
      ]
     },
     "metadata": {},
     "output_type": "display_data"
    }
   ],
   "source": [
    "chainmode( samples , adj=0.01 ) "
   ]
  },
  {
   "cell_type": "markdown",
   "metadata": {
    "Collapsed": "false",
    "hidden": true
   },
   "source": [
    "But why is this point, the mode, interesting? Why not report the posterior mean or median?"
   ]
  },
  {
   "cell_type": "code",
   "execution_count": 88,
   "metadata": {
    "Collapsed": "false",
    "hidden": true
   },
   "outputs": [
    {
     "data": {
      "text/html": [
       "0.79984984984985"
      ],
      "text/latex": [
       "0.79984984984985"
      ],
      "text/markdown": [
       "0.79984984984985"
      ],
      "text/plain": [
       "[1] 0.7998498"
      ]
     },
     "metadata": {},
     "output_type": "display_data"
    },
    {
     "data": {
      "text/html": [
       "0.839339339339339"
      ],
      "text/latex": [
       "0.839339339339339"
      ],
      "text/markdown": [
       "0.839339339339339"
      ],
      "text/plain": [
       "[1] 0.8393393"
      ]
     },
     "metadata": {},
     "output_type": "display_data"
    }
   ],
   "source": [
    "mean( samples )\n",
    "median( samples )"
   ]
  },
  {
   "cell_type": "markdown",
   "metadata": {
    "Collapsed": "false",
    "hidden": true
   },
   "source": [
    "These are also point estimates, and they also summarize the posterior. But all three—the mode (MAP), mean, and median—are different in this case. How can we choose among them? Figure 3.4 shows this posterior distribution and the locations of these point summaries."
   ]
  },
  {
   "cell_type": "markdown",
   "metadata": {
    "Collapsed": "false",
    "hidden": true
   },
   "source": [
    "One principled way to go beyond using the entire posterior as the estimate is to choose a <span style='background-color: lightgreen'>loss function</span>. \n",
    "\n",
    "* A loss function is a rule that tells you the cost associated with using any particular point estimate. While statisticians and game theorists have long been interested in loss functions, and how Bayesian inference supports them, scientists hardly ever use them explicitly. The key insight is that different loss functions imply different point estimates."
   ]
  },
  {
   "cell_type": "markdown",
   "metadata": {
    "Collapsed": "false",
    "hidden": true
   },
   "source": [
    "<font color = 'purple'>Here’s an example to help us work through the procedure. Suppose I offer you a bet. Tell me which value of p, the proportion of water on the Earth, you think is correct. I will pay you $100, if you get it exactly right. But I will subtract money from your gain, proportional to the distance of your decision from the correct value. Precisely, your loss is proportional to the absolute value of d − p, where d is your decision and p is the correct answer. We could change the precise dollar values involved, without changing the important aspects of this problem. What matters is that the loss is proportional to the distance of your decision from the true value</font>. \n",
    "\n",
    "Now once you have the posterior distribution in hand, how should you use it to maximize your expected winnings? **<font color = 'blue'>It turns out that the parameter value that maximizes expected winnings (minimizes expected loss) is the median of the posterior distribution</font>**. Let’s calcu- late that fact, without using a mathematical proof. Those interested in the proof should follow the endnote.56"
   ]
  },
  {
   "cell_type": "markdown",
   "metadata": {
    "Collapsed": "false",
    "hidden": true
   },
   "source": [
    "<img src='pics/SR_15.png' alt='Drawing' style='width: 350pt'/>"
   ]
  },
  {
   "cell_type": "markdown",
   "metadata": {
    "Collapsed": "false",
    "hidden": true
   },
   "source": [
    "<font color = 'green'>Calculating expected loss for any given decision means using the posterior to average over our uncertainty in the true value</font>. Of course we don’t know the true value, in most cases. But if we are going to use our model’s information about the parameter, that means using the entire posterior distribution. So suppose we decide p = 0.5 will be our decision. Then the expected loss will be:"
   ]
  },
  {
   "cell_type": "code",
   "execution_count": 89,
   "metadata": {
    "Collapsed": "false",
    "hidden": true,
    "scrolled": true
   },
   "outputs": [
    {
     "data": {
      "text/html": [
       "0.312875187499812"
      ],
      "text/latex": [
       "0.312875187499812"
      ],
      "text/markdown": [
       "0.312875187499812"
      ],
      "text/plain": [
       "[1] 0.3128752"
      ]
     },
     "metadata": {},
     "output_type": "display_data"
    }
   ],
   "source": [
    "sum( posterior*abs( 0.5 - p_grid ) )\n",
    "# we guess probability of water = 0.5"
   ]
  },
  {
   "cell_type": "markdown",
   "metadata": {
    "Collapsed": "false",
    "hidden": true
   },
   "source": [
    "The symbols posterior and p_grid are the same ones we’ve been using throughout this chapter, containing the posterior probabilities and the parameter values, respectively. <font color = 'blue'>All the code above does is compute the weighted average loss, where each loss is weighted by its corresponding posterior probability</font>.<font color = 'green'> **There’s a trick for repeating this calculation for every possible decision, using the function sapply**.</font>"
   ]
  },
  {
   "cell_type": "code",
   "execution_count": 92,
   "metadata": {
    "Collapsed": "false",
    "hidden": true
   },
   "outputs": [
    {
     "data": {
      "text/html": [
       "<ol class=list-inline>\n",
       "\t<li>0.13</li>\n",
       "\t<li>0.16</li>\n",
       "\t<li>0.31</li>\n",
       "\t<li>0.55</li>\n",
       "\t<li>0.8</li>\n",
       "</ol>\n"
      ],
      "text/latex": [
       "\\begin{enumerate*}\n",
       "\\item 0.13\n",
       "\\item 0.16\n",
       "\\item 0.31\n",
       "\\item 0.55\n",
       "\\item 0.8\n",
       "\\end{enumerate*}\n"
      ],
      "text/markdown": [
       "1. 0.13\n",
       "2. 0.16\n",
       "3. 0.31\n",
       "4. 0.55\n",
       "5. 0.8\n",
       "\n",
       "\n"
      ],
      "text/plain": [
       "[1] 0.13 0.16 0.31 0.55 0.80"
      ]
     },
     "metadata": {},
     "output_type": "display_data"
    }
   ],
   "source": [
    "loss <- sapply( p_grid , function(d) sum( posterior*abs( d - p_grid ) ) )\n",
    "loss %>% fivenum() %>% round(2)"
   ]
  },
  {
   "cell_type": "markdown",
   "metadata": {
    "Collapsed": "false",
    "hidden": true
   },
   "source": [
    "<font color = 'blue'>**Now the symbol loss contains a list of loss values, one for each possible decision, corresponding the values in p_grid**</font>. From here, it’s easy to find the parameter value that mini- mizes the loss:"
   ]
  },
  {
   "cell_type": "code",
   "execution_count": 91,
   "metadata": {
    "Collapsed": "false",
    "hidden": true
   },
   "outputs": [
    {
     "data": {
      "text/html": [
       "0.840840840840841"
      ],
      "text/latex": [
       "0.840840840840841"
      ],
      "text/markdown": [
       "0.840840840840841"
      ],
      "text/plain": [
       "[1] 0.8408408"
      ]
     },
     "metadata": {},
     "output_type": "display_data"
    }
   ],
   "source": [
    "p_grid[ which.min(loss) ]"
   ]
  },
  {
   "cell_type": "markdown",
   "metadata": {
    "Collapsed": "false",
    "hidden": true
   },
   "source": [
    "<font color = 'red'>And this is actually the posterior median</font>, the parameter value that splits the posterior density such that half of the mass is above it and half below it. Try median(samples) for comparison. It may not be exactly the same value, due to sampling variation, but it will be close."
   ]
  },
  {
   "cell_type": "markdown",
   "metadata": {
    "Collapsed": "false"
   },
   "source": [
    "## (3.3.) Sampling to simulate prediction"
   ]
  },
  {
   "cell_type": "markdown",
   "metadata": {
    "Collapsed": "false"
   },
   "source": [
    "<img src='pics/SR_16.png' alt='Drawing' style='width: 450pt'/>"
   ]
  },
  {
   "cell_type": "markdown",
   "metadata": {
    "Collapsed": "false"
   },
   "source": [
    "### Dummy data."
   ]
  },
  {
   "cell_type": "markdown",
   "metadata": {
    "Collapsed": "false"
   },
   "source": [
    "<font color = 'purple'>Let’s summarize the globe tossing model that you’ve been working with for two chapters now. A fixed true proportion of water p exists, and that is the target of our inference. Tossing the globe in the air and catching it produces observations of “water” and “land” that appear in proportion to p and 1 − p, respectively</font>. \n",
    "\n",
    "* Now note that these assumptions not only allow us to infer the plausibility of each possible value of p, after observation. That’s what you did in the previous chapter. **<font color = 'blue'>These assumptions also allow us to simulate the observations that the model implies</font>**. \n",
    "\n",
    "\n",
    "* <font color = 'red'>They allow this, because likelihood functions work in both directions</font>. Given a realized observation, the likelihood function says how plausible the observation is. \n",
    "\n",
    "\n",
    "* And given only the parameters, the likelihood defines a distribution of possible observations that we can sample from, to simulate observation. **<font color = 'blue'>In this way, Bayesian models are always generative, capable of simulating predictions</font>**. Many non-Bayesian models are also generative, but many are not.\n",
    "\n",
    "We will call such simulated data dummy data, to indicate that it is a stand-in for actual data. With the globe tossing model, the dummy data arises from a binomial likelihood:"
   ]
  },
  {
   "cell_type": "markdown",
   "metadata": {
    "Collapsed": "false"
   },
   "source": [
    "$Pr(w|n,p)=\\frac{n!}{w!(n-w)!}p^w(1-p)^{n-w}$"
   ]
  },
  {
   "cell_type": "markdown",
   "metadata": {
    "Collapsed": "false"
   },
   "source": [
    "* where w is an observed count of “water” and \n",
    "* n is the number of tosses. \n",
    "\n",
    "Suppose n = 2, two tosses of the globe. Then there are only three possible observations: 0 water, 1 water, 2 water. You can quickly compute the likelihood of each, for any given value of p. Let’s use p = 0.7, which is just about the true proportion of water on the Earth:"
   ]
  },
  {
   "cell_type": "code",
   "execution_count": 1,
   "metadata": {
    "Collapsed": "false",
    "ExecuteTime": {
     "end_time": "2020-01-14T03:44:03.840501Z",
     "start_time": "2020-01-14T03:44:03.740Z"
    },
    "scrolled": true
   },
   "outputs": [
    {
     "data": {
      "text/html": [
       "<ol class=list-inline>\n",
       "\t<li>0.09</li>\n",
       "\t<li>0.42</li>\n",
       "\t<li>0.49</li>\n",
       "</ol>\n"
      ],
      "text/latex": [
       "\\begin{enumerate*}\n",
       "\\item 0.09\n",
       "\\item 0.42\n",
       "\\item 0.49\n",
       "\\end{enumerate*}\n"
      ],
      "text/markdown": [
       "1. 0.09\n",
       "2. 0.42\n",
       "3. 0.49\n",
       "\n",
       "\n"
      ],
      "text/plain": [
       "[1] 0.09 0.42 0.49"
      ]
     },
     "metadata": {},
     "output_type": "display_data"
    }
   ],
   "source": [
    "dbinom( 0:2 , size=2 , prob=0.7 )"
   ]
  },
  {
   "cell_type": "code",
   "execution_count": 6,
   "metadata": {
    "Collapsed": "false",
    "ExecuteTime": {
     "end_time": "2020-01-14T03:45:06.214795Z",
     "start_time": "2020-01-14T03:45:06.162Z"
    },
    "scrolled": true
   },
   "outputs": [
    {
     "data": {
      "text/html": [
       "0.343"
      ],
      "text/latex": [
       "0.343"
      ],
      "text/markdown": [
       "0.343"
      ],
      "text/plain": [
       "[1] 0.343"
      ]
     },
     "metadata": {},
     "output_type": "display_data"
    }
   ],
   "source": [
    "dbinom( 3 , size=3 , prob=0.7 )"
   ]
  },
  {
   "cell_type": "markdown",
   "metadata": {
    "Collapsed": "false"
   },
   "source": [
    "<font color = 'blue'>This means that there’s a 9% chance of observing w = 0, a 42% chance of w = 1, and a 49% chance of w = 2. \n",
    "    \n",
    "If you change the value of p, you’ll get a different distribution of implied observations.</font>"
   ]
  },
  {
   "cell_type": "markdown",
   "metadata": {
    "Collapsed": "false"
   },
   "source": [
    "<font color = 'purple'>Now we’re going to simulate observations, using these likelihoods</font>. This is done by sampling from the distribution just described above. You could use sample to do this, but R provides convenient sampling functions for all the ordinary probability distributions, like the binomial. So a single dummy data observation of w can be sampled with:"
   ]
  },
  {
   "cell_type": "code",
   "execution_count": 94,
   "metadata": {
    "Collapsed": "false",
    "scrolled": true
   },
   "outputs": [
    {
     "data": {
      "text/html": [
       "1"
      ],
      "text/latex": [
       "1"
      ],
      "text/markdown": [
       "1"
      ],
      "text/plain": [
       "[1] 1"
      ]
     },
     "metadata": {},
     "output_type": "display_data"
    }
   ],
   "source": [
    "rbinom( 1 , size=2 , prob=0.7 )"
   ]
  },
  {
   "cell_type": "markdown",
   "metadata": {
    "Collapsed": "false"
   },
   "source": [
    "<font color = 'green'>The “r” in rbinom stands for “random.” It can also generate more than one simulation at a time. A set of 10 simulations can be made by:</font>"
   ]
  },
  {
   "cell_type": "code",
   "execution_count": 97,
   "metadata": {
    "Collapsed": "false"
   },
   "outputs": [
    {
     "data": {
      "text/html": [
       "<ol class=list-inline>\n",
       "\t<li>1</li>\n",
       "\t<li>2</li>\n",
       "\t<li>2</li>\n",
       "\t<li>1</li>\n",
       "\t<li>2</li>\n",
       "\t<li>2</li>\n",
       "\t<li>1</li>\n",
       "\t<li>2</li>\n",
       "\t<li>2</li>\n",
       "\t<li>2</li>\n",
       "</ol>\n"
      ],
      "text/latex": [
       "\\begin{enumerate*}\n",
       "\\item 1\n",
       "\\item 2\n",
       "\\item 2\n",
       "\\item 1\n",
       "\\item 2\n",
       "\\item 2\n",
       "\\item 1\n",
       "\\item 2\n",
       "\\item 2\n",
       "\\item 2\n",
       "\\end{enumerate*}\n"
      ],
      "text/markdown": [
       "1. 1\n",
       "2. 2\n",
       "3. 2\n",
       "4. 1\n",
       "5. 2\n",
       "6. 2\n",
       "7. 1\n",
       "8. 2\n",
       "9. 2\n",
       "10. 2\n",
       "\n",
       "\n"
      ],
      "text/plain": [
       " [1] 1 2 2 1 2 2 1 2 2 2"
      ]
     },
     "metadata": {},
     "output_type": "display_data"
    }
   ],
   "source": [
    "rbinom( 10 , size=2 , prob=0.7 )"
   ]
  },
  {
   "cell_type": "markdown",
   "metadata": {
    "Collapsed": "false"
   },
   "source": [
    "<img src='pics/SR_17.png' alt='Drawing' style='width: 450pt'/>"
   ]
  },
  {
   "cell_type": "markdown",
   "metadata": {
    "Collapsed": "false"
   },
   "source": [
    "Let’s generate 100,000 dummy observations, just to verify that each value (0, 1, or 2) appears in proportion to its likelihood:"
   ]
  },
  {
   "cell_type": "code",
   "execution_count": 117,
   "metadata": {
    "Collapsed": "false",
    "scrolled": true
   },
   "outputs": [
    {
     "data": {
      "text/plain": [
       "dummy_w\n",
       "   0    1    2 \n",
       "0.09 0.42 0.49 "
      ]
     },
     "metadata": {},
     "output_type": "display_data"
    }
   ],
   "source": [
    "dummy_w <- rbinom( 1e5 , size=2 , prob=0.7 )\n",
    "(table(dummy_w)/1e5) %>% round(2)"
   ]
  },
  {
   "cell_type": "markdown",
   "metadata": {
    "Collapsed": "false"
   },
   "source": [
    "Only two tosses of the globe isn’t much of a sample, though. So now let’s simulate the same sample size as before, 9 tosses."
   ]
  },
  {
   "cell_type": "code",
   "execution_count": 60,
   "metadata": {
    "Collapsed": "false",
    "ExecuteTime": {
     "end_time": "2019-12-21T18:32:09.521730Z",
     "start_time": "2019-12-21T18:32:09.298Z"
    },
    "cell_style": "center"
   },
   "outputs": [
    {
     "data": {
      "image/png": "[encoded data removed]",
      "text/plain": [
       "plot without title"
      ]
     },
     "metadata": {
      "image/png": {
       "height": 420,
       "width": 420
      }
     },
     "output_type": "display_data"
    }
   ],
   "source": [
    "dummy_w <- rbinom( 1e5 , size=9 , prob=0.7 ) \n",
    "simplehist( dummy_w , xlab=\"dummy water count\" )"
   ]
  },
  {
   "cell_type": "markdown",
   "metadata": {
    "Collapsed": "false"
   },
   "source": [
    "The resulting plot is shown in Figure 3.5. Notice that most of the time the expected observation does not contain water in its true proportion, 0.7. \n",
    "\n",
    "That’s the nature of observation: <font color = 'blue'>There is a one-to-many relationship between data and data-generating processes</font>. \n",
    "\n",
    "You should experiment with sample size, the size input in the code above, as well as the prob, to see how the distribution of simulated samples changes shape and location."
   ]
  },
  {
   "cell_type": "markdown",
   "metadata": {
    "Collapsed": "false"
   },
   "source": [
    "### Model checking."
   ]
  },
  {
   "cell_type": "markdown",
   "metadata": {
    "Collapsed": "false"
   },
   "source": [
    "Model checking means (1) ensuring the model fitting worked correctly and (2) evaluating the adequacy of a model for some purpose. Since Bayesian mod- els are always generative, able to simulate observations as well as estimate parameters from observations, once you condition a model on data, you can simulate to examine the model’s empirical expectations."
   ]
  },
  {
   "cell_type": "markdown",
   "metadata": {
    "Collapsed": "false"
   },
   "source": [
    "We’d like to propagate the parameter uncertainty—carry it forward—as we evaluate the implied predictions. All that is required is averaging over the posterior density for p, while computing the predictions. For each possible value of the parameter p, there is an implied distribution of outcomes. So if you were to compute the sampling distribution of outcomes at each value of p, then you could average all of these prediction distributions together, using the posterior probabilities of each value of p, to get a posterior predictive distribution. \n",
    "\n",
    "Figure 3.6 illustrates this averaging. At the top, the posterior distribution is shown, with 10 unique parameter values highlighted by the vertical lines. The implied distribution of observations specific to each of these parameter values is shown in the middle row of plots. Observations are never certain for any value of p, but they do shift around in response to it. Finally, at the bottom, the sampling distributions for all values of p are combined, using the posterior probabilities to compute the weighted average frequency of each possible observation, zero to nine water samples."
   ]
  },
  {
   "cell_type": "markdown",
   "metadata": {
    "Collapsed": "false"
   },
   "source": [
    "<img src='pics/SR_18.png' alt='Drawing' style='width: 450pt'/>"
   ]
  },
  {
   "cell_type": "code",
   "execution_count": 84,
   "metadata": {
    "Collapsed": "false",
    "ExecuteTime": {
     "end_time": "2019-12-21T21:27:05.141907Z",
     "start_time": "2019-12-21T21:27:05.036Z"
    }
   },
   "outputs": [
    {
     "data": {
      "image/png": "[encoded data removed]",
      "text/plain": [
       "plot without title"
      ]
     },
     "metadata": {
      "image/png": {
       "height": 420,
       "width": 420
      }
     },
     "output_type": "display_data"
    }
   ],
   "source": [
    "w <- rbinom( 1e4 , size=9 , prob=samples )\n",
    "simplehist( w , xlab=\"dummy water count\" )"
   ]
  },
  {
   "cell_type": "code",
   "execution_count": 86,
   "metadata": {
    "Collapsed": "false",
    "ExecuteTime": {
     "end_time": "2019-12-21T21:31:26.746091Z",
     "start_time": "2019-12-21T21:31:26.708Z"
    },
    "code_folding": []
   },
   "outputs": [],
   "source": [
    "# HOW SAMPLES WAS CREATED\n",
    "\n",
    "# p_grid <- seq( from=0 , to=1 , length.out=1000 )\n",
    "# prior <- rep( 1 , 1000 )\n",
    "# likelihood <- dbinom( 6 , size=9 , prob=p_grid )\n",
    "# posterior_counts <- likelihood * prior\n",
    "# posterior_prob_distribution <- posterior_freq / sum(posterior_counts)\n",
    "\n",
    "# samples <- sample( p_grid , prob=posterior_prob_distribution , size=1e4 , replace=TRUE )"
   ]
  },
  {
   "cell_type": "markdown",
   "metadata": {
    "Collapsed": "false"
   },
   "source": [
    "The symbol samples above is the same list of random samples from the posterior distribution that you’ve used in previous sections. \n",
    "\n",
    "* For each sampled value, a random binomial observation is generated. Since the sampled values appear in proportion to their posterior probabilities, the resulting simulated observations are averaged over the posterior. \n",
    "\n",
    "You can manipulate these simulated observations just like you manipulate samples from the posterior—you can compute intervals and point statistics using the same procedures. \n",
    "\n",
    "If you plot these samples, you’ll see the distribution shown in the right-hand plot in Figure 3.6."
   ]
  },
  {
   "cell_type": "markdown",
   "metadata": {
    "Collapsed": "false",
    "heading_collapsed": true
   },
   "source": [
    "## <font color = 'purple'>Practice Problems</font>"
   ]
  },
  {
   "cell_type": "markdown",
   "metadata": {
    "Collapsed": "false",
    "heading_collapsed": true,
    "hidden": true
   },
   "source": [
    "### EASY"
   ]
  },
  {
   "cell_type": "markdown",
   "metadata": {
    "Collapsed": "false",
    "hidden": true
   },
   "source": [
    "These problems use the samples from the posterior distribution for the globe tossing example. This code will give you a specific set of samples, so that you can check your answers exactly."
   ]
  },
  {
   "cell_type": "code",
   "execution_count": 20,
   "metadata": {
    "Collapsed": "false",
    "hidden": true
   },
   "outputs": [],
   "source": [
    "p_grid <- seq( from=0 , to=1 , length.out=1000 ) \n",
    "prior <- rep( 1 , 1000 )\n",
    "likelihood <- dbinom( 6 , size=9 , prob=p_grid )\n",
    "posterior <- likelihood * prior\n",
    "posterior <- posterior / sum(posterior)\n",
    "set.seed(100)\n",
    "samples <- sample( p_grid , prob=posterior , size=1e4 , replace=TRUE )"
   ]
  },
  {
   "cell_type": "markdown",
   "metadata": {
    "Collapsed": "false",
    "hidden": true
   },
   "source": [
    "**<font color = 'purple' style='background-color: lightyellow'>3E1. How much posterior probability lies below p = 0.2?</font>**"
   ]
  },
  {
   "cell_type": "markdown",
   "metadata": {
    "Collapsed": "false",
    "hidden": true
   },
   "source": [
    "So let’s see how to perform the same calculation, using samples from the posterior. This approach does generalize to complex models with many parameters, and so you can use it everywhere. <span style='background-color: lightgreen'>All you have to do is similarly add up all of the samples below 0.5, but also divide the resulting count by the total number of samples</span>. In other words, find the frequency of parameter values below 0.5:"
   ]
  },
  {
   "cell_type": "code",
   "execution_count": 26,
   "metadata": {
    "Collapsed": "false",
    "hidden": true,
    "scrolled": true
   },
   "outputs": [
    {
     "data": {
      "text/html": [
       "0.000856095129421848"
      ],
      "text/latex": [
       "0.000856095129421848"
      ],
      "text/markdown": [
       "0.000856095129421848"
      ],
      "text/plain": [
       "[1] 0.0008560951"
      ]
     },
     "metadata": {},
     "output_type": "display_data"
    },
    {
     "data": {
      "text/html": [
       "5e-04"
      ],
      "text/latex": [
       "5e-04"
      ],
      "text/markdown": [
       "5e-04"
      ],
      "text/plain": [
       "[1] 5e-04"
      ]
     },
     "metadata": {},
     "output_type": "display_data"
    },
    {
     "data": {
      "text/html": [
       "5e-04"
      ],
      "text/latex": [
       "5e-04"
      ],
      "text/markdown": [
       "5e-04"
      ],
      "text/plain": [
       "[1] 5e-04"
      ]
     },
     "metadata": {},
     "output_type": "display_data"
    }
   ],
   "source": [
    "sum(posterior[p_grid < 0.2])\n",
    "sum(samples < 0.2) / 1e4\n",
    "mean(samples<0.2) "
   ]
  },
  {
   "cell_type": "markdown",
   "metadata": {
    "Collapsed": "false",
    "hidden": true
   },
   "source": [
    "So values below 0.2 (the globe being covered by <20% water) are quiiiiiiiiite unlikely."
   ]
  },
  {
   "cell_type": "markdown",
   "metadata": {
    "Collapsed": "false",
    "hidden": true
   },
   "source": [
    "**<font color = 'purple' style='background-color: lightyellow'>3E2. How much posterior probability lies above p = 0.8?</font>**"
   ]
  },
  {
   "cell_type": "code",
   "execution_count": 28,
   "metadata": {
    "Collapsed": "false",
    "hidden": true
   },
   "outputs": [
    {
     "data": {
      "text/html": [
       "0.120344914022144"
      ],
      "text/latex": [
       "0.120344914022144"
      ],
      "text/markdown": [
       "0.120344914022144"
      ],
      "text/plain": [
       "[1] 0.1203449"
      ]
     },
     "metadata": {},
     "output_type": "display_data"
    },
    {
     "data": {
      "text/html": [
       "0.1117"
      ],
      "text/latex": [
       "0.1117"
      ],
      "text/markdown": [
       "0.1117"
      ],
      "text/plain": [
       "[1] 0.1117"
      ]
     },
     "metadata": {},
     "output_type": "display_data"
    },
    {
     "data": {
      "text/html": [
       "0.1117"
      ],
      "text/latex": [
       "0.1117"
      ],
      "text/markdown": [
       "0.1117"
      ],
      "text/plain": [
       "[1] 0.1117"
      ]
     },
     "metadata": {},
     "output_type": "display_data"
    }
   ],
   "source": [
    "sum(posterior[p_grid > 0.8])\n",
    "sum(samples > 0.8) / 1e4\n",
    "mean(samples>0.8) "
   ]
  },
  {
   "cell_type": "markdown",
   "metadata": {
    "Collapsed": "false",
    "hidden": true
   },
   "source": [
    "**<font color = 'purple' style='background-color: lightyellow'>3E3. How much posterior probability lies between p = 0.2 and p = 0.8?</font>**"
   ]
  },
  {
   "cell_type": "code",
   "execution_count": 31,
   "metadata": {
    "Collapsed": "false",
    "hidden": true
   },
   "outputs": [
    {
     "data": {
      "text/html": [
       "0.878798990848435"
      ],
      "text/latex": [
       "0.878798990848435"
      ],
      "text/markdown": [
       "0.878798990848435"
      ],
      "text/plain": [
       "[1] 0.878799"
      ]
     },
     "metadata": {},
     "output_type": "display_data"
    },
    {
     "data": {
      "text/html": [
       "0.8878"
      ],
      "text/latex": [
       "0.8878"
      ],
      "text/markdown": [
       "0.8878"
      ],
      "text/plain": [
       "[1] 0.8878"
      ]
     },
     "metadata": {},
     "output_type": "display_data"
    },
    {
     "data": {
      "text/html": [
       "0.8878"
      ],
      "text/latex": [
       "0.8878"
      ],
      "text/markdown": [
       "0.8878"
      ],
      "text/plain": [
       "[1] 0.8878"
      ]
     },
     "metadata": {},
     "output_type": "display_data"
    }
   ],
   "source": [
    "sum(posterior[p_grid > 0.2 & p_grid < 0.8])\n",
    "sum(samples > 0.2 & samples < 0.8) / 1e4\n",
    "mean(samples > 0.2 & samples < 0.8)"
   ]
  },
  {
   "cell_type": "markdown",
   "metadata": {
    "Collapsed": "false",
    "hidden": true
   },
   "source": [
    "**<font color = 'purple' style='background-color: lightyellow'>3E4. 20% of the posterior probability lies below which value of p?</font>**"
   ]
  },
  {
   "cell_type": "code",
   "execution_count": 32,
   "metadata": {
    "Collapsed": "false",
    "hidden": true
   },
   "outputs": [
    {
     "data": {
      "text/html": [
       "<strong>20%:</strong> 0.519519519519519"
      ],
      "text/latex": [
       "\\textbf{20\\textbackslash{}\\%:} 0.519519519519519"
      ],
      "text/markdown": [
       "**20%:** 0.519519519519519"
      ],
      "text/plain": [
       "      20% \n",
       "0.5195195 "
      ]
     },
     "metadata": {},
     "output_type": "display_data"
    }
   ],
   "source": [
    "# sum(posterior[p_grid > 0.2 & p_grid < 0.8])\n",
    "quantile( samples , 0.2 )"
   ]
  },
  {
   "cell_type": "markdown",
   "metadata": {
    "Collapsed": "false",
    "hidden": true
   },
   "source": [
    "**<font color = 'purple' style='background-color: lightyellow'>3E5. 20% of the posterior probability lies above which value of p?</font>**"
   ]
  },
  {
   "cell_type": "code",
   "execution_count": 33,
   "metadata": {
    "Collapsed": "false",
    "hidden": true
   },
   "outputs": [
    {
     "data": {
      "text/html": [
       "<dl class=dl-horizontal>\n",
       "\t<dt>20%</dt>\n",
       "\t\t<dd>0.519519519519519</dd>\n",
       "\t<dt>80%</dt>\n",
       "\t\t<dd>0.756756756756757</dd>\n",
       "</dl>\n"
      ],
      "text/latex": [
       "\\begin{description*}\n",
       "\\item[20\\textbackslash{}\\%] 0.519519519519519\n",
       "\\item[80\\textbackslash{}\\%] 0.756756756756757\n",
       "\\end{description*}\n"
      ],
      "text/markdown": [
       "20%\n",
       ":   0.51951951951951980%\n",
       ":   0.756756756756757\n",
       "\n"
      ],
      "text/plain": [
       "      20%       80% \n",
       "0.5195195 0.7567568 "
      ]
     },
     "metadata": {},
     "output_type": "display_data"
    }
   ],
   "source": [
    "quantile(samples, c(0.2, 0.8))"
   ]
  },
  {
   "cell_type": "markdown",
   "metadata": {
    "Collapsed": "false",
    "hidden": true
   },
   "source": [
    "**<font color = 'purple' style='background-color: lightyellow'>3E6. Which values of p contain the narrowest interval equal to 66% of the posterior probability?</font>**"
   ]
  },
  {
   "cell_type": "code",
   "execution_count": 34,
   "metadata": {
    "Collapsed": "false",
    "hidden": true
   },
   "outputs": [
    {
     "data": {
      "text/html": [
       "<dl class=dl-horizontal>\n",
       "\t<dt>|0.66</dt>\n",
       "\t\t<dd>0.520520520520521</dd>\n",
       "\t<dt>0.66|</dt>\n",
       "\t\t<dd>0.784784784784785</dd>\n",
       "</dl>\n"
      ],
      "text/latex": [
       "\\begin{description*}\n",
       "\\item[\\textbackslash{}textbar\\{\\}0.66] 0.520520520520521\n",
       "\\item[0.66\\textbackslash{}textbar\\{\\}] 0.784784784784785\n",
       "\\end{description*}\n"
      ],
      "text/markdown": [
       "|0.66\n",
       ":   0.5205205205205210.66|\n",
       ":   0.784784784784785\n",
       "\n"
      ],
      "text/plain": [
       "    |0.66     0.66| \n",
       "0.5205205 0.7847848 "
      ]
     },
     "metadata": {},
     "output_type": "display_data"
    }
   ],
   "source": [
    "HPDI( samples , prob=0.66 )"
   ]
  },
  {
   "cell_type": "markdown",
   "metadata": {
    "Collapsed": "false",
    "hidden": true
   },
   "source": [
    "**<font color = 'purple' style='background-color: lightyellow'>3E7. Which values of p contain 66% of the posterior probability, assuming equal posterior probability both below and above the interval?</font>**"
   ]
  },
  {
   "cell_type": "code",
   "execution_count": 36,
   "metadata": {
    "Collapsed": "false",
    "hidden": true
   },
   "outputs": [
    {
     "data": {
      "text/html": [
       "<dl class=dl-horizontal>\n",
       "\t<dt>17%</dt>\n",
       "\t\t<dd>0.500500500500501</dd>\n",
       "\t<dt>83%</dt>\n",
       "\t\t<dd>0.768768768768769</dd>\n",
       "</dl>\n"
      ],
      "text/latex": [
       "\\begin{description*}\n",
       "\\item[17\\textbackslash{}\\%] 0.500500500500501\n",
       "\\item[83\\textbackslash{}\\%] 0.768768768768769\n",
       "\\end{description*}\n"
      ],
      "text/markdown": [
       "17%\n",
       ":   0.50050050050050183%\n",
       ":   0.768768768768769\n",
       "\n"
      ],
      "text/plain": [
       "      17%       83% \n",
       "0.5005005 0.7687688 "
      ]
     },
     "metadata": {},
     "output_type": "display_data"
    }
   ],
   "source": [
    "PI(samples, prob=0.66)"
   ]
  },
  {
   "cell_type": "markdown",
   "metadata": {
    "Collapsed": "false",
    "heading_collapsed": true,
    "hidden": true
   },
   "source": [
    "### Medium."
   ]
  },
  {
   "cell_type": "markdown",
   "metadata": {
    "Collapsed": "false",
    "hidden": true
   },
   "source": [
    "**<font color = 'purple' style='background-color: lightyellow'>3M1. Suppose the globe tossing data had turned out to be 8 water in 15 tosses. Construct the posterior distribution, using grid approximation. Use the same flat prior as before.</font>**"
   ]
  },
  {
   "cell_type": "code",
   "execution_count": 38,
   "metadata": {
    "Collapsed": "false",
    "cell_style": "split",
    "hidden": true
   },
   "outputs": [
    {
     "data": {
      "text/html": [
       "0.533533533533533"
      ],
      "text/latex": [
       "0.533533533533533"
      ],
      "text/markdown": [
       "0.533533533533533"
      ],
      "text/plain": [
       "[1] 0.5335335"
      ]
     },
     "metadata": {},
     "output_type": "display_data"
    },
    {
     "data": {
      "image/png": "[encoded data removed]",
      "text/plain": [
       "plot without title"
      ]
     },
     "metadata": {},
     "output_type": "display_data"
    }
   ],
   "source": [
    "p_grid <- seq( from=0 , to=1 , length.out=1000 ) \n",
    "prior <- rep( 1 , 1000 )\n",
    "likelihood <- dbinom( 8 , size=15 , prob=p_grid )\n",
    "unstd.posterior <- likelihood * prior\n",
    "posterior <- unstd.posterior / sum(unstd.posterior)\n",
    "plot(p_grid, posterior, type='l')\n",
    "p_grid[ which.max(posterior) ] #0.5335335"
   ]
  },
  {
   "cell_type": "code",
   "execution_count": 39,
   "metadata": {
    "Collapsed": "false",
    "cell_style": "split",
    "hidden": true,
    "scrolled": true
   },
   "outputs": [
    {
     "data": {
      "image/png": "[encoded data removed]",
      "text/plain": [
       "plot without title"
      ]
     },
     "metadata": {},
     "output_type": "display_data"
    }
   ],
   "source": [
    "p_grid <- seq(from=0, to=1 , length.out=1000) \n",
    "prior <- rep(1, 1000)\n",
    "likelihood <- dbinom(8, size=15, prob=p_grid)   #the only difference to the original code\n",
    "posterior <- likelihood * prior\n",
    "posterior <- posterior / sum(posterior)\n",
    "plot(p_grid, posterior, type=\"b\",\n",
    "     xlab=\"probability of water\", ylab=\"posterior probability\")\n",
    "mtext(\"1000 points\")"
   ]
  },
  {
   "cell_type": "raw",
   "metadata": {
    "Collapsed": "false",
    "cell_style": "center",
    "hidden": true
   },
   "source": [
    "w <- 8\n",
    "n <- 15\n",
    "p_grid <- seq(from = 0, to = 1, length.out = 1000)\n",
    "prior <- rep(x = 1, length(p_grid))\n",
    "\n",
    "likelihood <- dbinom(x = w, size = n, prob = p_grid)\n",
    "unstandardized.posterior <- likelihood * prior\n",
    "posterior <- unstandardized.posterior / sum(unstandardized.posterior)\n",
    "plot(posterior ~ p_grid, type = \"l\")"
   ]
  },
  {
   "cell_type": "markdown",
   "metadata": {
    "Collapsed": "false",
    "hidden": true
   },
   "source": [
    "**<font color = 'purple' style='background-color: lightyellow'>3M2. Draw 10,000 samples from the grid approximation from above. Then use the samples to calculate the 90% HPDI for p.</font>**"
   ]
  },
  {
   "cell_type": "code",
   "execution_count": 41,
   "metadata": {
    "Collapsed": "false",
    "hidden": true
   },
   "outputs": [
    {
     "data": {
      "text/html": [
       "<dl class=dl-horizontal>\n",
       "\t<dt>|0.9</dt>\n",
       "\t\t<dd>0.338338338338338</dd>\n",
       "\t<dt>0.9|</dt>\n",
       "\t\t<dd>0.731731731731732</dd>\n",
       "</dl>\n"
      ],
      "text/latex": [
       "\\begin{description*}\n",
       "\\item[\\textbackslash{}textbar\\{\\}0.9] 0.338338338338338\n",
       "\\item[0.9\\textbackslash{}textbar\\{\\}] 0.731731731731732\n",
       "\\end{description*}\n"
      ],
      "text/markdown": [
       "|0.9\n",
       ":   0.3383383383383380.9|\n",
       ":   0.731731731731732\n",
       "\n"
      ],
      "text/plain": [
       "     |0.9      0.9| \n",
       "0.3383383 0.7317317 "
      ]
     },
     "metadata": {},
     "output_type": "display_data"
    }
   ],
   "source": [
    "samples <- sample(p_grid, prob=posterior, size=1e4, replace=TRUE)\n",
    "HPDI(samples, prob=0.9)"
   ]
  },
  {
   "cell_type": "code",
   "execution_count": 42,
   "metadata": {
    "Collapsed": "false",
    "hidden": true
   },
   "outputs": [
    {
     "data": {
      "text/html": [
       "<dl class=dl-horizontal>\n",
       "\t<dt>|0.9</dt>\n",
       "\t\t<dd>0.334334334334334</dd>\n",
       "\t<dt>0.9|</dt>\n",
       "\t\t<dd>0.71971971971972</dd>\n",
       "</dl>\n"
      ],
      "text/latex": [
       "\\begin{description*}\n",
       "\\item[\\textbackslash{}textbar\\{\\}0.9] 0.334334334334334\n",
       "\\item[0.9\\textbackslash{}textbar\\{\\}] 0.71971971971972\n",
       "\\end{description*}\n"
      ],
      "text/markdown": [
       "|0.9\n",
       ":   0.3343343343343340.9|\n",
       ":   0.71971971971972\n",
       "\n"
      ],
      "text/plain": [
       "     |0.9      0.9| \n",
       "0.3343343 0.7197197 "
      ]
     },
     "metadata": {},
     "output_type": "display_data"
    }
   ],
   "source": [
    "trials <- 1e4\n",
    "samples <- sample(x = p_grid, size = trials, prob = posterior, replace = TRUE)\n",
    "HPDI(samples = samples, prob = .9)"
   ]
  },
  {
   "cell_type": "markdown",
   "metadata": {
    "Collapsed": "false",
    "hidden": true
   },
   "source": [
    "**<font color = 'purple' style='background-color: lightyellow'>3M3. Construct a posterior predictive check for this model and data. This means simulate the distribution of samples, averaging over the posterior uncertainty in p. What is the probability of observing 8 water in 15 tosses?</font>**"
   ]
  },
  {
   "cell_type": "code",
   "execution_count": 43,
   "metadata": {
    "Collapsed": "false",
    "hidden": true
   },
   "outputs": [
    {
     "data": {
      "text/html": [
       "0.1457"
      ],
      "text/latex": [
       "0.1457"
      ],
      "text/markdown": [
       "0.1457"
      ],
      "text/plain": [
       "[1] 0.1457"
      ]
     },
     "metadata": {},
     "output_type": "display_data"
    }
   ],
   "source": [
    "posterior.predictive.distribution <- rbinom(n = trials, size = n, prob = samples)\n",
    "mean(posterior.predictive.distribution == 8)"
   ]
  },
  {
   "cell_type": "code",
   "execution_count": 44,
   "metadata": {
    "Collapsed": "false",
    "hidden": true
   },
   "outputs": [
    {
     "data": {
      "text/html": [
       "0.1426"
      ],
      "text/latex": [
       "0.1426"
      ],
      "text/markdown": [
       "0.1426"
      ],
      "text/plain": [
       "[1] 0.1426"
      ]
     },
     "metadata": {},
     "output_type": "display_data"
    },
    {
     "data": {
      "image/png": "[encoded data removed]",
      "text/plain": [
       "plot without title"
      ]
     },
     "metadata": {},
     "output_type": "display_data"
    }
   ],
   "source": [
    "n = 15\n",
    "dumdata <- rbinom(10000, size=n, prob=samples)\n",
    "simplehist(dumdata)\n",
    "mean(dumdata==8)"
   ]
  },
  {
   "cell_type": "code",
   "execution_count": 46,
   "metadata": {
    "Collapsed": "false",
    "hidden": true
   },
   "outputs": [
    {
     "data": {
      "text/plain": [
       "ppc\n",
       "     0      1      2      3      4      5      6      7      8      9     10 \n",
       "0.0005 0.0037 0.0106 0.0310 0.0530 0.0840 0.1117 0.1324 0.1482 0.1371 0.1192 \n",
       "    11     12     13     14     15 \n",
       "0.0838 0.0502 0.0249 0.0082 0.0015 "
      ]
     },
     "metadata": {},
     "output_type": "display_data"
    },
    {
     "data": {
      "image/png": "[encoded data removed]",
      "text/plain": [
       "plot without title"
      ]
     },
     "metadata": {},
     "output_type": "display_data"
    }
   ],
   "source": [
    "# For each sampled value, a random binomial observation is generated. Since the sampled values appear in proportion to their posterior probabilities, the resulting simulated observations are averaged over the posterior. \n",
    "\n",
    "ppc <- rbinom(1e4, size=15, prob=samples)\n",
    "simplehist(ppc)\n",
    "# The probability of observing 8 water in 15 tosses can be summarised as the point estimate. The highest posterior probability, a maximum a posteriori (MAP) estimate.\n",
    "\n",
    "table(ppc)/1e4"
   ]
  },
  {
   "cell_type": "markdown",
   "metadata": {
    "Collapsed": "false",
    "hidden": true
   },
   "source": [
    "**<font color = 'purple' style='background-color: lightyellow'>3M4. Using the posterior distribution constructed from the new (8/15) data, now calculate the probability of observing 6 water in 9 tosses.</font>**"
   ]
  },
  {
   "cell_type": "code",
   "execution_count": 47,
   "metadata": {
    "Collapsed": "false",
    "hidden": true
   },
   "outputs": [
    {
     "data": {
      "text/html": [
       "0.1768"
      ],
      "text/latex": [
       "0.1768"
      ],
      "text/markdown": [
       "0.1768"
      ],
      "text/plain": [
       "[1] 0.1768"
      ]
     },
     "metadata": {},
     "output_type": "display_data"
    }
   ],
   "source": [
    "posterior.predictive.distribution <- rbinom(n = trials, size = 9, prob = samples)\n",
    "mean(posterior.predictive.distribution == 6)"
   ]
  },
  {
   "cell_type": "code",
   "execution_count": 49,
   "metadata": {
    "Collapsed": "false",
    "hidden": true
   },
   "outputs": [
    {
     "data": {
      "text/html": [
       "0.176389823664019"
      ],
      "text/latex": [
       "0.176389823664019"
      ],
      "text/markdown": [
       "0.176389823664019"
      ],
      "text/plain": [
       "[1] 0.1763898"
      ]
     },
     "metadata": {},
     "output_type": "display_data"
    }
   ],
   "source": [
    "likelihood_6of9 <- dbinom( 6 , size=9 , prob=p_grid )\n",
    "prior_6of9 <- posterior\n",
    "(p_6of9 <- sum(likelihood_6of9*prior_6of9)) #0.1763898"
   ]
  },
  {
   "cell_type": "code",
   "execution_count": 48,
   "metadata": {
    "Collapsed": "false",
    "hidden": true
   },
   "outputs": [
    {
     "data": {
      "text/plain": [
       "ppc2\n",
       "     0      1      2      3      4      5      6      7      8      9 \n",
       "0.0050 0.0265 0.0748 0.1405 0.1997 0.2041 0.1682 0.1151 0.0525 0.0136 "
      ]
     },
     "metadata": {},
     "output_type": "display_data"
    }
   ],
   "source": [
    "ppc2 <- rbinom(1e4, size=9, prob=samples)\n",
    "table(ppc2)/1e4"
   ]
  },
  {
   "cell_type": "markdown",
   "metadata": {
    "Collapsed": "false",
    "hidden": true
   },
   "source": [
    "**<font color = 'purple' style='background-color: lightyellow'>3M5. Start over at 3M1, but now use a prior that is zero below p = 0.5 and a constant above p = 0.5. This corresponds to prior information that a majority of the Earth’s surface is water. Repeat each problem above and compare the inferences. What difference does the better prior make? If it helps, compare inferences (using both priors) to the true value p = 0.7.</font>**"
   ]
  },
  {
   "cell_type": "markdown",
   "metadata": {
    "Collapsed": "false",
    "hidden": true
   },
   "source": [
    "<hr>CAVAUNPEU"
   ]
  },
  {
   "cell_type": "code",
   "execution_count": 54,
   "metadata": {
    "Collapsed": "false",
    "cell_style": "center",
    "collapsed": true,
    "hidden": true,
    "jupyter": {
     "outputs_hidden": true
    }
   },
   "outputs": [
    {
     "data": {
      "image/png": "[encoded data removed]",
      "text/plain": [
       "plot without title"
      ]
     },
     "metadata": {},
     "output_type": "display_data"
    },
    {
     "data": {
      "image/png": "[encoded data removed]",
      "text/plain": [
       "plot without title"
      ]
     },
     "metadata": {},
     "output_type": "display_data"
    }
   ],
   "source": [
    "## 3M5 \n",
    "\n",
    "# 3M1\n",
    "w <- 8\n",
    "n <- 15\n",
    "\n",
    "p_grid <- seq(from = 0, to = 1, length.out = 1000)\n",
    "prior <- ifelse(test = p_grid < .5, yes = 0, no = 1)\n",
    "likelihood <- dbinom(x = w, size = n, prob = p_grid)\n",
    "unstandardized.posterior <- likelihood * prior\n",
    "posterior <- unstandardized.posterior / sum(unstandardized.posterior)\n",
    "\n",
    "plot(prior ~ p_grid, type = \"l\")\n",
    "plot(posterior ~ p_grid, type = \"l\")\n"
   ]
  },
  {
   "cell_type": "code",
   "execution_count": 55,
   "metadata": {
    "Collapsed": "false",
    "cell_style": "split",
    "hidden": true
   },
   "outputs": [
    {
     "data": {
      "text/html": [
       "<dl class=dl-horizontal>\n",
       "\t<dt>|0.9</dt>\n",
       "\t\t<dd>0.500500500500501</dd>\n",
       "\t<dt>0.9|</dt>\n",
       "\t\t<dd>0.711711711711712</dd>\n",
       "</dl>\n"
      ],
      "text/latex": [
       "\\begin{description*}\n",
       "\\item[\\textbackslash{}textbar\\{\\}0.9] 0.500500500500501\n",
       "\\item[0.9\\textbackslash{}textbar\\{\\}] 0.711711711711712\n",
       "\\end{description*}\n"
      ],
      "text/markdown": [
       "|0.9\n",
       ":   0.5005005005005010.9|\n",
       ":   0.711711711711712\n",
       "\n"
      ],
      "text/plain": [
       "     |0.9      0.9| \n",
       "0.5005005 0.7117117 "
      ]
     },
     "metadata": {},
     "output_type": "display_data"
    }
   ],
   "source": [
    "# 3M2\n",
    "trials <- 1e4\n",
    "samples <- sample(x = p_grid, size = trials, prob = posterior, replace = TRUE)\n",
    "HPDI(samples = samples, prob = .9)"
   ]
  },
  {
   "cell_type": "code",
   "execution_count": 78,
   "metadata": {
    "Collapsed": "false",
    "cell_style": "center",
    "collapsed": true,
    "hidden": true,
    "jupyter": {
     "outputs_hidden": true
    }
   },
   "outputs": [
    {
     "data": {
      "text/html": [
       "0.1565"
      ],
      "text/latex": [
       "0.1565"
      ],
      "text/markdown": [
       "0.1565"
      ],
      "text/plain": [
       "[1] 0.1565"
      ]
     },
     "metadata": {},
     "output_type": "display_data"
    },
    {
     "data": {
      "image/png": "[encoded data removed]",
      "text/plain": [
       "Plot with title \"Histogram of posterior.predictive.distribution\""
      ]
     },
     "metadata": {},
     "output_type": "display_data"
    }
   ],
   "source": [
    "# 3M3\n",
    "posterior.predictive.distribution <- rbinom(n = trials, size = n, prob = samples)\n",
    "mean(posterior.predictive.distribution == 8)\n",
    "# hist(posterior.predictive.distribution)\n",
    "hist(posterior.predictive.distribution, freq=F)\n",
    "# plot(density(posterior.predictive.distribution))\n",
    "# plot(posterior.predictive.distribution ~ p_grid, type = \"l\")\n",
    "# plot(posterior.predictive.distribution, type='l')"
   ]
  },
  {
   "cell_type": "code",
   "execution_count": 57,
   "metadata": {
    "Collapsed": "false",
    "hidden": true
   },
   "outputs": [
    {
     "data": {
      "text/html": [
       "0.2335"
      ],
      "text/latex": [
       "0.2335"
      ],
      "text/markdown": [
       "0.2335"
      ],
      "text/plain": [
       "[1] 0.2335"
      ]
     },
     "metadata": {},
     "output_type": "display_data"
    }
   ],
   "source": [
    "# 3M4\n",
    "posterior.predictive.distribution <- rbinom(n = trials, size = 9, prob = samples)\n",
    "mean(posterior.predictive.distribution == 6)"
   ]
  },
  {
   "cell_type": "markdown",
   "metadata": {
    "Collapsed": "false",
    "hidden": true
   },
   "source": [
    "<hr>JFFIST"
   ]
  },
  {
   "cell_type": "code",
   "execution_count": 71,
   "metadata": {
    "Collapsed": "false",
    "collapsed": true,
    "hidden": true,
    "jupyter": {
     "outputs_hidden": true
    }
   },
   "outputs": [
    {
     "data": {
      "text/html": [
       "0.533533533533533"
      ],
      "text/latex": [
       "0.533533533533533"
      ],
      "text/markdown": [
       "0.533533533533533"
      ],
      "text/plain": [
       "[1] 0.5335335"
      ]
     },
     "metadata": {},
     "output_type": "display_data"
    },
    {
     "data": {
      "image/png": "[encoded data removed]",
      "text/plain": [
       "plot without title"
      ]
     },
     "metadata": {},
     "output_type": "display_data"
    }
   ],
   "source": [
    "#### 5.1\n",
    "p_grid <- seq( from=0 , to=1 , length.out=1000 ) \n",
    "prior <- ifelse(p_grid<0.5, 0, 0.5)\n",
    "likelihood <- dbinom( 8 , size=15 , prob=p_grid )\n",
    "posterior <- likelihood * prior\n",
    "posterior <- posterior / sum(posterior)\n",
    "plot(p_grid, posterior, type='l')\n",
    "p_grid[ which.max(posterior) ] # 0.5335335"
   ]
  },
  {
   "cell_type": "code",
   "execution_count": 79,
   "metadata": {
    "Collapsed": "false",
    "collapsed": true,
    "hidden": true,
    "jupyter": {
     "outputs_hidden": true
    }
   },
   "outputs": [
    {
     "data": {
      "text/html": [
       "<dl class=dl-horizontal>\n",
       "\t<dt>|0.9</dt>\n",
       "\t\t<dd>0.500500500500501</dd>\n",
       "\t<dt>0.9|</dt>\n",
       "\t\t<dd>0.713713713713714</dd>\n",
       "</dl>\n"
      ],
      "text/latex": [
       "\\begin{description*}\n",
       "\\item[\\textbackslash{}textbar\\{\\}0.9] 0.500500500500501\n",
       "\\item[0.9\\textbackslash{}textbar\\{\\}] 0.713713713713714\n",
       "\\end{description*}\n"
      ],
      "text/markdown": [
       "|0.9\n",
       ":   0.5005005005005010.9|\n",
       ":   0.713713713713714\n",
       "\n"
      ],
      "text/plain": [
       "     |0.9      0.9| \n",
       "0.5005005 0.7137137 "
      ]
     },
     "metadata": {},
     "output_type": "display_data"
    },
    {
     "data": {
      "text/html": [
       "0.607075875875876"
      ],
      "text/latex": [
       "0.607075875875876"
      ],
      "text/markdown": [
       "0.607075875875876"
      ],
      "text/plain": [
       "[1] 0.6070759"
      ]
     },
     "metadata": {},
     "output_type": "display_data"
    },
    {
     "data": {
      "text/html": [
       "0.594594594594595"
      ],
      "text/latex": [
       "0.594594594594595"
      ],
      "text/markdown": [
       "0.594594594594595"
      ],
      "text/plain": [
       "[1] 0.5945946"
      ]
     },
     "metadata": {},
     "output_type": "display_data"
    },
    {
     "data": {
      "image/png": "[encoded data removed]",
      "text/plain": [
       "Plot with title \"Histogram of samples\""
      ]
     },
     "metadata": {},
     "output_type": "display_data"
    }
   ],
   "source": [
    "#### 5.2\n",
    "set.seed(123)\n",
    "samples <- sample(p_grid, prob = posterior, replace = TRUE, size = 1e+4)\n",
    "hist(samples)\n",
    "HPDI(samples, prob = .9) #0.5005005 0.7137137\n",
    "mean(samples) #0.6070759\n",
    "median(samples) #0.5945946"
   ]
  },
  {
   "cell_type": "code",
   "execution_count": 80,
   "metadata": {
    "Collapsed": "false",
    "hidden": true
   },
   "outputs": [
    {
     "data": {
      "text/html": [
       "0.1576"
      ],
      "text/latex": [
       "0.1576"
      ],
      "text/markdown": [
       "0.1576"
      ],
      "text/plain": [
       "[1] 0.1576"
      ]
     },
     "metadata": {},
     "output_type": "display_data"
    },
    {
     "data": {
      "text/plain": [
       "dumdata\n",
       "     1      2      3      4      5      6      7      8      9     10     11 \n",
       "0.0001 0.0007 0.0032 0.0111 0.0335 0.0647 0.1139 0.1576 0.1744 0.1724 0.1317 \n",
       "    12     13     14     15 \n",
       "0.0781 0.0422 0.0133 0.0031 "
      ]
     },
     "metadata": {},
     "output_type": "display_data"
    },
    {
     "data": {
      "image/png": "[encoded data removed]",
      "text/plain": [
       "plot without title"
      ]
     },
     "metadata": {},
     "output_type": "display_data"
    }
   ],
   "source": [
    "#### 5.3\n",
    "n = 15\n",
    "dumdata <- rbinom(10000, size=n, prob=samples)\n",
    "simplehist(dumdata)\n",
    "mean(dumdata==8) #0.1576\n",
    "table(dumdata)/1e+4"
   ]
  },
  {
   "cell_type": "code",
   "execution_count": 81,
   "metadata": {
    "Collapsed": "false",
    "hidden": true
   },
   "outputs": [
    {
     "data": {
      "text/html": [
       "0.232307132905782"
      ],
      "text/latex": [
       "0.232307132905782"
      ],
      "text/markdown": [
       "0.232307132905782"
      ],
      "text/plain": [
       "[1] 0.2323071"
      ]
     },
     "metadata": {},
     "output_type": "display_data"
    }
   ],
   "source": [
    "#### 5.4\n",
    "likelihood_6of9 <- dbinom( 6 , size=9 , prob=p_grid )\n",
    "prior_6of9 <- posterior\n",
    "(p_6of9 <- sum(likelihood_6of9*prior_6of9)) #0.2323071"
   ]
  },
  {
   "cell_type": "code",
   "execution_count": 50,
   "metadata": {
    "Collapsed": "false",
    "hidden": true
   },
   "outputs": [
    {
     "data": {
      "text/html": [
       "0.533533533533533"
      ],
      "text/latex": [
       "0.533533533533533"
      ],
      "text/markdown": [
       "0.533533533533533"
      ],
      "text/plain": [
       "[1] 0.5335335"
      ]
     },
     "metadata": {},
     "output_type": "display_data"
    },
    {
     "data": {
      "image/png": "[encoded data removed]",
      "text/plain": [
       "plot without title"
      ]
     },
     "metadata": {},
     "output_type": "display_data"
    },
    {
     "data": {
      "text/html": [
       "<dl class=dl-horizontal>\n",
       "\t<dt>|0.9</dt>\n",
       "\t\t<dd>0.500500500500501</dd>\n",
       "\t<dt>0.9|</dt>\n",
       "\t\t<dd>0.713713713713714</dd>\n",
       "</dl>\n"
      ],
      "text/latex": [
       "\\begin{description*}\n",
       "\\item[\\textbackslash{}textbar\\{\\}0.9] 0.500500500500501\n",
       "\\item[0.9\\textbackslash{}textbar\\{\\}] 0.713713713713714\n",
       "\\end{description*}\n"
      ],
      "text/markdown": [
       "|0.9\n",
       ":   0.5005005005005010.9|\n",
       ":   0.713713713713714\n",
       "\n"
      ],
      "text/plain": [
       "     |0.9      0.9| \n",
       "0.5005005 0.7137137 "
      ]
     },
     "metadata": {},
     "output_type": "display_data"
    },
    {
     "data": {
      "text/html": [
       "0.607075875875876"
      ],
      "text/latex": [
       "0.607075875875876"
      ],
      "text/markdown": [
       "0.607075875875876"
      ],
      "text/plain": [
       "[1] 0.6070759"
      ]
     },
     "metadata": {},
     "output_type": "display_data"
    },
    {
     "data": {
      "text/html": [
       "0.594594594594595"
      ],
      "text/latex": [
       "0.594594594594595"
      ],
      "text/markdown": [
       "0.594594594594595"
      ],
      "text/plain": [
       "[1] 0.5945946"
      ]
     },
     "metadata": {},
     "output_type": "display_data"
    },
    {
     "data": {
      "image/png": "[encoded data removed]",
      "text/plain": [
       "Plot with title \"Histogram of samples\""
      ]
     },
     "metadata": {},
     "output_type": "display_data"
    },
    {
     "data": {
      "text/html": [
       "0.1576"
      ],
      "text/latex": [
       "0.1576"
      ],
      "text/markdown": [
       "0.1576"
      ],
      "text/plain": [
       "[1] 0.1576"
      ]
     },
     "metadata": {},
     "output_type": "display_data"
    },
    {
     "data": {
      "text/plain": [
       "dumdata\n",
       "     1      2      3      4      5      6      7      8      9     10     11 \n",
       "0.0001 0.0007 0.0032 0.0111 0.0335 0.0647 0.1139 0.1576 0.1744 0.1724 0.1317 \n",
       "    12     13     14     15 \n",
       "0.0781 0.0422 0.0133 0.0031 "
      ]
     },
     "metadata": {},
     "output_type": "display_data"
    },
    {
     "data": {
      "text/html": [
       "0.232307132905782"
      ],
      "text/latex": [
       "0.232307132905782"
      ],
      "text/markdown": [
       "0.232307132905782"
      ],
      "text/plain": [
       "[1] 0.2323071"
      ]
     },
     "metadata": {},
     "output_type": "display_data"
    },
    {
     "data": {
      "image/png": "[encoded data removed]",
      "text/plain": [
       "plot without title"
      ]
     },
     "metadata": {},
     "output_type": "display_data"
    },
    {
     "data": {
      "text/html": [
       "0.2319"
      ],
      "text/latex": [
       "0.2319"
      ],
      "text/markdown": [
       "0.2319"
      ],
      "text/plain": [
       "[1] 0.2319"
      ]
     },
     "metadata": {},
     "output_type": "display_data"
    },
    {
     "data": {
      "image/png": "[encoded data removed]",
      "text/plain": [
       "plot without title"
      ]
     },
     "metadata": {},
     "output_type": "display_data"
    }
   ],
   "source": [
    "# alt check with generative approach\n",
    "set.seed(22)\n",
    "dumdata_6of9 <- rbinom(10000, size=9, prob=samples)\n",
    "simplehist(dumdata_6of9)\n",
    "mean(dumdata_6of9==6) #0.2319"
   ]
  },
  {
   "cell_type": "markdown",
   "metadata": {
    "Collapsed": "false",
    "hidden": true
   },
   "source": [
    "<hr>\n",
    "KONRADSENF"
   ]
  },
  {
   "cell_type": "code",
   "execution_count": 61,
   "metadata": {
    "Collapsed": "false",
    "hidden": true
   },
   "outputs": [
    {
     "data": {
      "text/html": [
       "<dl class=dl-horizontal>\n",
       "\t<dt>|0.9</dt>\n",
       "\t\t<dd>0.500500500500501</dd>\n",
       "\t<dt>0.9|</dt>\n",
       "\t\t<dd>0.711711711711712</dd>\n",
       "</dl>\n"
      ],
      "text/latex": [
       "\\begin{description*}\n",
       "\\item[\\textbackslash{}textbar\\{\\}0.9] 0.500500500500501\n",
       "\\item[0.9\\textbackslash{}textbar\\{\\}] 0.711711711711712\n",
       "\\end{description*}\n"
      ],
      "text/markdown": [
       "|0.9\n",
       ":   0.5005005005005010.9|\n",
       ":   0.711711711711712\n",
       "\n"
      ],
      "text/plain": [
       "     |0.9      0.9| \n",
       "0.5005005 0.7117117 "
      ]
     },
     "metadata": {},
     "output_type": "display_data"
    }
   ],
   "source": [
    "\n",
    "p_grid <- seq(from=0, to=1 , length.out=1000) \n",
    "prior <- ifelse(p_grid < 0.5, 0, 1)      # zero below p = 0.5 and constant above\n",
    "likelihood <- dbinom(8, size=15, prob=p_grid)   \n",
    "posterior <- likelihood * prior\n",
    "posterior <- posterior / sum(posterior)\n",
    "\n",
    "samples <- sample(p_grid, prob=posterior, size=1e4, replace=TRUE)\n",
    "HPDI(samples, prob=0.9)\n"
   ]
  },
  {
   "cell_type": "markdown",
   "metadata": {
    "Collapsed": "false",
    "hidden": true
   },
   "source": [
    "The range has been narrowed down."
   ]
  },
  {
   "cell_type": "code",
   "execution_count": 62,
   "metadata": {
    "Collapsed": "false",
    "hidden": true,
    "scrolled": true
   },
   "outputs": [
    {
     "data": {
      "text/plain": [
       "ppc\n",
       "     1      2      3      4      5      6      7      8      9     10     11 \n",
       "0.0001 0.0007 0.0039 0.0124 0.0313 0.0703 0.1191 0.1503 0.1799 0.1709 0.1254 \n",
       "    12     13     14     15 \n",
       "0.0791 0.0390 0.0150 0.0026 "
      ]
     },
     "metadata": {},
     "output_type": "display_data"
    }
   ],
   "source": [
    "ppc <- rbinom(1e4, size=15, prob=samples)\n",
    "table(ppc)/1e4"
   ]
  },
  {
   "cell_type": "markdown",
   "metadata": {
    "Collapsed": "false",
    "hidden": true
   },
   "source": [
    "8 is slightly more likely than before, yet no longer the most likely number. The prior affects the interpretation of the data. Although 70% of 15 is 10.5, so the new prior isn’t quiiite there yet."
   ]
  },
  {
   "cell_type": "code",
   "execution_count": 63,
   "metadata": {
    "Collapsed": "false",
    "hidden": true
   },
   "outputs": [
    {
     "data": {
      "text/plain": [
       "ppc2\n",
       "     0      1      2      3      4      5      6      7      8      9 \n",
       "0.0004 0.0057 0.0278 0.0812 0.1573 0.2261 0.2354 0.1684 0.0762 0.0215 "
      ]
     },
     "metadata": {},
     "output_type": "display_data"
    }
   ],
   "source": [
    "ppc2 <- rbinom(1e4, size=9, prob=samples)\n",
    "table(ppc2)/1e4"
   ]
  },
  {
   "cell_type": "markdown",
   "metadata": {
    "Collapsed": "false",
    "hidden": true
   },
   "source": [
    "6 is now the most probable observation in 9 tosses. (70% of 9 is 6.3, so that’s fairly close.)"
   ]
  },
  {
   "cell_type": "markdown",
   "metadata": {
    "Collapsed": "false",
    "heading_collapsed": true,
    "hidden": true
   },
   "source": [
    "### Hard"
   ]
  },
  {
   "cell_type": "code",
   "execution_count": 82,
   "metadata": {
    "Collapsed": "false",
    "hidden": true
   },
   "outputs": [],
   "source": [
    "library(rethinking)\n",
    "data(homeworkch3)"
   ]
  },
  {
   "cell_type": "code",
   "execution_count": 84,
   "metadata": {
    "Collapsed": "false",
    "hidden": true
   },
   "outputs": [
    {
     "data": {
      "text/html": [
       "<ol class=list-inline>\n",
       "\t<li>1</li>\n",
       "\t<li>0</li>\n",
       "\t<li>0</li>\n",
       "\t<li>0</li>\n",
       "\t<li>1</li>\n",
       "\t<li>1</li>\n",
       "</ol>\n"
      ],
      "text/latex": [
       "\\begin{enumerate*}\n",
       "\\item 1\n",
       "\\item 0\n",
       "\\item 0\n",
       "\\item 0\n",
       "\\item 1\n",
       "\\item 1\n",
       "\\end{enumerate*}\n"
      ],
      "text/markdown": [
       "1. 1\n",
       "2. 0\n",
       "3. 0\n",
       "4. 0\n",
       "5. 1\n",
       "6. 1\n",
       "\n",
       "\n"
      ],
      "text/plain": [
       "[1] 1 0 0 0 1 1"
      ]
     },
     "metadata": {},
     "output_type": "display_data"
    }
   ],
   "source": [
    "birth1 %>% head()"
   ]
  },
  {
   "cell_type": "markdown",
   "metadata": {
    "Collapsed": "false",
    "hidden": true
   },
   "source": [
    "**<font color = 'purple' style='background-color: lightyellow'>3H1. Using grid approximation, compute the posterior distribution for the probability of a birth\n",
    "being a boy. Assume a uniform prior probability. Which parameter value maximizes the posterior\n",
    "probability?</font>**"
   ]
  },
  {
   "cell_type": "markdown",
   "metadata": {
    "Collapsed": "false",
    "hidden": true
   },
   "source": [
    "The third and final common summary task for the posterior is to produce point estimates of some kind. Given the entire posterior distribution, what value should you report? This seems like an innocent question, but it is difficult to answer. **<font color = 'green'>The Bayesian parameter estimate is precisely the entire posterior distribution, which is not a single number, but instead a function that maps each unique parameter value onto a plausibility value</font>**. So really the most important thing to note is that you don’t have to choose a point estimate. It’s hardly ever necessary. \n",
    "\n",
    "But if you must produce a point estimate from the posterior, you’ll have to ask and answer more questions. <font color = 'purple'>Consider the following example. Suppose again the globe tossing experiment in which we observe 3 waters out of 3 tosses, as in Figure 3.3. Let’s consider three alternative point estimates.</font> \n",
    "\n",
    "First, it is very common for scientists to report the parameter value with highest posterior probability, a <span style='background-color: lightgreen'>maximum a posteriori (MAP) estimate</span>. You can easily compute the MAP in this example:"
   ]
  },
  {
   "cell_type": "markdown",
   "metadata": {
    "Collapsed": "false",
    "hidden": true
   },
   "source": [
    "**grid approx steps**\n",
    "\n",
    "1. Define the grid. This means you decide how many points to use in estimating the\n",
    "posterior, and then you make a list of the parameter values on the grid.\n",
    "* Compute the value of the prior at each parameter value on the grid.\n",
    "* Compute the likelihood at each parameter value.\n",
    "* Compute the unstandardized posterior at each parameter value, by multiplying the\n",
    "prior by the likelihood.\n",
    "\n",
    "\n",
    "**dbinom parameter defn**\n",
    "x, q\t\n",
    "vector of quantiles.\n",
    "\n",
    "p\t\n",
    "vector of probabilities.\n",
    "\n",
    "n\t\n",
    "number of observations. If length(n) > 1, the length is taken to be the number required.\n",
    "\n",
    "size\t\n",
    "number of trials (zero or more).\n",
    "\n",
    "**prob = p_grid => hypothesis choices**\n",
    "probability of success on each trial.\n",
    "\n",
    "log, log.p\t\n",
    "logical; if TRUE, probabilities p are given as log(p).\n",
    "\n",
    "lower.tail\t\n",
    "logical; if TRUE (default), probabilities are 𝑃[𝑋≤𝑥], otherwise, 𝑃[𝑋>𝑥]."
   ]
  },
  {
   "cell_type": "code",
   "execution_count": 94,
   "metadata": {
    "Collapsed": "false",
    "collapsed": true,
    "hidden": true,
    "jupyter": {
     "outputs_hidden": true
    }
   },
   "outputs": [
    {
     "data": {
      "text/html": [
       "0.554554554554555"
      ],
      "text/latex": [
       "0.554554554554555"
      ],
      "text/markdown": [
       "0.554554554554555"
      ],
      "text/plain": [
       "[1] 0.5545546"
      ]
     },
     "metadata": {},
     "output_type": "display_data"
    },
    {
     "data": {
      "image/png": "[encoded data removed]",
      "text/plain": [
       "plot without title"
      ]
     },
     "metadata": {},
     "output_type": "display_data"
    }
   ],
   "source": [
    "total.births <- length(birth1) + length(birth2)\n",
    "boys.born <- sum(birth1 + birth2)\n",
    "girls.born <- total.births - boys.born\n",
    "\n",
    "p_grid <- seq(from = 0, to = 1, length.out = 1000)\n",
    "prior <- rep(x = 1, length(p_grid))\n",
    "\n",
    "likelihood <- dbinom(x = boys.born, size = total.births, prob = p_grid)\n",
    "\n",
    "unstandardized.posterior <- likelihood * prior\n",
    "posterior <- unstandardized.posterior / sum(unstandardized.posterior)\n",
    "plot(posterior ~ p_grid, type = \"l\")\n",
    "\n",
    "# parameter value for the probability of having a boy that's most likely, given the data\n",
    "p_grid[which.max(posterior)]"
   ]
  },
  {
   "cell_type": "code",
   "execution_count": null,
   "metadata": {
    "Collapsed": "false",
    "hidden": true
   },
   "outputs": [],
   "source": [
    "p_grid[which.max(posterior)]"
   ]
  },
  {
   "cell_type": "code",
   "execution_count": 85,
   "metadata": {
    "Collapsed": "false",
    "collapsed": true,
    "hidden": true,
    "jupyter": {
     "outputs_hidden": true
    }
   },
   "outputs": [
    {
     "data": {
      "text/html": [
       "0.554554554554555"
      ],
      "text/latex": [
       "0.554554554554555"
      ],
      "text/markdown": [
       "0.554554554554555"
      ],
      "text/plain": [
       "[1] 0.5545546"
      ]
     },
     "metadata": {},
     "output_type": "display_data"
    },
    {
     "data": {
      "image/png": "[encoded data removed]",
      "text/plain": [
       "plot without title"
      ]
     },
     "metadata": {},
     "output_type": "display_data"
    }
   ],
   "source": [
    "n_boys = sum(c(birth1, birth2))\n",
    "n_ttl = length(birth1) + length(birth2)\n",
    "n_pgrid = 1000\n",
    "p_grid = seq(0, 1, length.out = n_pgrid)\n",
    "prior = rep(1, n_pgrid)\n",
    "likelihood = dbinom(n_boys, size=n_ttl, prob = p_grid)\n",
    "posterior = likelihood * prior\n",
    "posterior = posterior / sum(posterior)\n",
    "plot(p_grid, posterior, type='l')\n",
    "p_grid[which.max(posterior)] #0.5545546"
   ]
  },
  {
   "cell_type": "code",
   "execution_count": 86,
   "metadata": {
    "Collapsed": "false",
    "collapsed": true,
    "hidden": true,
    "jupyter": {
     "outputs_hidden": true
    }
   },
   "outputs": [
    {
     "data": {
      "image/png": "[encoded data removed]",
      "text/plain": [
       "plot without title"
      ]
     },
     "metadata": {},
     "output_type": "display_data"
    }
   ],
   "source": [
    "birthboys <- sum(birth1, birth2)\n",
    "p_grid <- seq(from=0, to=1, length.out=1000) \n",
    "prior <- rep( 1, 200) \n",
    "\n",
    "likelihood <- dbinom(birthboys, size=200, prob=p_grid) \n",
    "unstd.posterior <- likelihood * prior \n",
    "posterior <- unstd.posterior / sum(unstd.posterior) \n",
    "\n",
    "plot(p_grid, posterior, type=\"b\",\n",
    "     xlab=\"probability of boy birth\", ylab=\"posterior probability\")\n"
   ]
  },
  {
   "cell_type": "markdown",
   "metadata": {
    "Collapsed": "false",
    "hidden": true
   },
   "source": [
    "**<font color = 'purple' style='background-color: lightyellow'>3H2. Using the sample function, draw 10,000 random parameter values from the posterior distribution you calculated above. Use these samples to estimate the 50%, 89%, and 97% highest posterior\n",
    "density intervals.</font>**"
   ]
  },
  {
   "cell_type": "code",
   "execution_count": 95,
   "metadata": {
    "Collapsed": "false",
    "hidden": true
   },
   "outputs": [
    {
     "data": {
      "text/html": [
       "<dl class=dl-horizontal>\n",
       "\t<dt>|0.97</dt>\n",
       "\t\t<dd>0.482482482482482</dd>\n",
       "\t<dt>|0.89</dt>\n",
       "\t\t<dd>0.500500500500501</dd>\n",
       "\t<dt>|0.5</dt>\n",
       "\t\t<dd>0.530530530530531</dd>\n",
       "\t<dt>0.5|</dt>\n",
       "\t\t<dd>0.576576576576577</dd>\n",
       "\t<dt>0.89|</dt>\n",
       "\t\t<dd>0.612612612612613</dd>\n",
       "\t<dt>0.97|</dt>\n",
       "\t\t<dd>0.631631631631632</dd>\n",
       "</dl>\n"
      ],
      "text/latex": [
       "\\begin{description*}\n",
       "\\item[\\textbackslash{}textbar\\{\\}0.97] 0.482482482482482\n",
       "\\item[\\textbackslash{}textbar\\{\\}0.89] 0.500500500500501\n",
       "\\item[\\textbackslash{}textbar\\{\\}0.5] 0.530530530530531\n",
       "\\item[0.5\\textbackslash{}textbar\\{\\}] 0.576576576576577\n",
       "\\item[0.89\\textbackslash{}textbar\\{\\}] 0.612612612612613\n",
       "\\item[0.97\\textbackslash{}textbar\\{\\}] 0.631631631631632\n",
       "\\end{description*}\n"
      ],
      "text/markdown": [
       "|0.97\n",
       ":   0.482482482482482|0.89\n",
       ":   0.500500500500501|0.5\n",
       ":   0.5305305305305310.5|\n",
       ":   0.5765765765765770.89|\n",
       ":   0.6126126126126130.97|\n",
       ":   0.631631631631632\n",
       "\n"
      ],
      "text/plain": [
       "    |0.97     |0.89      |0.5      0.5|     0.89|     0.97| \n",
       "0.4824825 0.5005005 0.5305305 0.5765766 0.6126126 0.6316316 "
      ]
     },
     "metadata": {},
     "output_type": "display_data"
    }
   ],
   "source": [
    "trials <- 1e4\n",
    "samples <- sample(x = p_grid, size = trials, prob = posterior, replace = TRUE)\n",
    "HPDI(samples = samples, prob = c(.5, .89, .97))\n"
   ]
  },
  {
   "cell_type": "code",
   "execution_count": 96,
   "metadata": {
    "Collapsed": "false",
    "hidden": true,
    "scrolled": true
   },
   "outputs": [
    {
     "data": {
      "text/html": [
       "<dl class=dl-horizontal>\n",
       "\t<dt>|0.5</dt>\n",
       "\t\t<dd>0.530530530530531</dd>\n",
       "\t<dt>0.5|</dt>\n",
       "\t\t<dd>0.576576576576577</dd>\n",
       "</dl>\n"
      ],
      "text/latex": [
       "\\begin{description*}\n",
       "\\item[\\textbackslash{}textbar\\{\\}0.5] 0.530530530530531\n",
       "\\item[0.5\\textbackslash{}textbar\\{\\}] 0.576576576576577\n",
       "\\end{description*}\n"
      ],
      "text/markdown": [
       "|0.5\n",
       ":   0.5305305305305310.5|\n",
       ":   0.576576576576577\n",
       "\n"
      ],
      "text/plain": [
       "     |0.5      0.5| \n",
       "0.5305305 0.5765766 "
      ]
     },
     "metadata": {},
     "output_type": "display_data"
    },
    {
     "data": {
      "text/html": [
       "<dl class=dl-horizontal>\n",
       "\t<dt>|0.89</dt>\n",
       "\t\t<dd>0.500500500500501</dd>\n",
       "\t<dt>0.89|</dt>\n",
       "\t\t<dd>0.612612612612613</dd>\n",
       "</dl>\n"
      ],
      "text/latex": [
       "\\begin{description*}\n",
       "\\item[\\textbackslash{}textbar\\{\\}0.89] 0.500500500500501\n",
       "\\item[0.89\\textbackslash{}textbar\\{\\}] 0.612612612612613\n",
       "\\end{description*}\n"
      ],
      "text/markdown": [
       "|0.89\n",
       ":   0.5005005005005010.89|\n",
       ":   0.612612612612613\n",
       "\n"
      ],
      "text/plain": [
       "    |0.89     0.89| \n",
       "0.5005005 0.6126126 "
      ]
     },
     "metadata": {},
     "output_type": "display_data"
    },
    {
     "data": {
      "text/html": [
       "<dl class=dl-horizontal>\n",
       "\t<dt>|0.97</dt>\n",
       "\t\t<dd>0.482482482482482</dd>\n",
       "\t<dt>0.97|</dt>\n",
       "\t\t<dd>0.631631631631632</dd>\n",
       "</dl>\n"
      ],
      "text/latex": [
       "\\begin{description*}\n",
       "\\item[\\textbackslash{}textbar\\{\\}0.97] 0.482482482482482\n",
       "\\item[0.97\\textbackslash{}textbar\\{\\}] 0.631631631631632\n",
       "\\end{description*}\n"
      ],
      "text/markdown": [
       "|0.97\n",
       ":   0.4824824824824820.97|\n",
       ":   0.631631631631632\n",
       "\n"
      ],
      "text/plain": [
       "    |0.97     0.97| \n",
       "0.4824825 0.6316316 "
      ]
     },
     "metadata": {},
     "output_type": "display_data"
    },
    {
     "name": "stdout",
     "output_type": "stream",
     "text": [
      "[1] \"HPDI 50% [0.530531, 0.576577]\"\n",
      "[1] \"HPDI 89% [0.500501, 0.612613]\"\n",
      "[1] \"HPDI 97% [0.482482, 0.631632]\"\n"
     ]
    },
    {
     "data": {
      "text/html": [
       "0.554654754754755"
      ],
      "text/latex": [
       "0.554654754754755"
      ],
      "text/markdown": [
       "0.554654754754755"
      ],
      "text/plain": [
       "[1] 0.5546548"
      ]
     },
     "metadata": {},
     "output_type": "display_data"
    },
    {
     "data": {
      "text/html": [
       "0.555555555555556"
      ],
      "text/latex": [
       "0.555555555555556"
      ],
      "text/markdown": [
       "0.555555555555556"
      ],
      "text/plain": [
       "[1] 0.5555556"
      ]
     },
     "metadata": {},
     "output_type": "display_data"
    }
   ],
   "source": [
    "# 3H2\n",
    "n_ptrials = 1e4\n",
    "p_samples = sample(p_grid,size = n_ptrials, prob = posterior, replace = TRUE)\n",
    "(hpi_50 = HPDI(samples, .5))\n",
    "(hpi_89 = HPDI(samples, .89))\n",
    "(hpi_97 = HPDI(samples, .97))\n",
    "for(w in c(.5, .89, .97)){\n",
    "  hpi = HPDI(samples, w)\n",
    "  print(sprintf(\"HPDI %d%% [%f, %f]\",w*100, hpi[1], hpi[2]))\n",
    "}\n",
    "mean(p_samples)\n",
    "median(p_samples)"
   ]
  },
  {
   "cell_type": "markdown",
   "metadata": {
    "Collapsed": "false",
    "hidden": true
   },
   "source": [
    "<font color = 'purple' style='background-color: lightyellow'>3H3. Use rbinom to simulate 10,000 replicates of 200 births. \n",
    "* You should end up with 10,000 numbers, each one a count of boys out of 200 births. \n",
    "    \n",
    "* Compare the distribution of predicted numbers of boys to the actual count in the data (111 boys out of 200 births). \n",
    "\n",
    "* There are many good ways to visualize the simulations, but the dens command (part of the rethinking package) is probably the easiest way in this case. \n",
    "\n",
    "Does it look like the model fits the data well? That is, does the distribution of predictions include the actual observation as a central, likely outcome?</font>"
   ]
  },
  {
   "cell_type": "markdown",
   "metadata": {
    "Collapsed": "false",
    "hidden": true
   },
   "source": [
    "<img src='pics/SR_a13.png' alt='Drawing' style='width: 450pt'/>"
   ]
  },
  {
   "cell_type": "code",
   "execution_count": 124,
   "metadata": {
    "Collapsed": "false",
    "collapsed": true,
    "hidden": true,
    "jupyter": {
     "outputs_hidden": true
    }
   },
   "outputs": [
    {
     "data": {
      "image/png": "[encoded data removed]",
      "text/plain": [
       "plot without title"
      ]
     },
     "metadata": {},
     "output_type": "display_data"
    },
    {
     "data": {
      "image/png": "[encoded data removed]",
      "text/plain": [
       "Plot with title \"\""
      ]
     },
     "metadata": {},
     "output_type": "display_data"
    }
   ],
   "source": [
    "trials <- 1e4\n",
    "total.births <- length(birth1) + length(birth2) # total births = 200\n",
    "p_grid <- seq(from = 0, to = 1, length.out = 1000)\n",
    "\n",
    "\n",
    "# posterior\n",
    "likelihood <- dbinom(x = boys.born, size = total.births, prob = p_grid)\n",
    "prior <- rep(x = 1, length(p_grid))\n",
    "unstandardized.posterior <- likelihood * prior\n",
    "posterior <- unstandardized.posterior / sum(unstandardized.posterior)\n",
    "\n",
    "\n",
    "samples <- sample(x = p_grid, size = trials, prob = posterior, replace = TRUE)\n",
    "\n",
    "\n",
    "predicted.posterior.distribution <- rbinom(n = trials, size = total.births, prob = samples)\n",
    "simplehist(predicted.posterior.distribution)\n",
    "dens(predicted.posterior.distribution)\n",
    "abline(v =  sum(birth1 + birth2), col = \"red\")"
   ]
  },
  {
   "cell_type": "markdown",
   "metadata": {
    "Collapsed": "false",
    "hidden": true
   },
   "source": [
    "**<font color = 'purple' style='background-color: lightyellow'>3H4. Now compare 10,000 counts of boys from 100 simulated first borns only to the number of boys\n",
    "in the first births, birth1. How does the model look in this light?</font>**"
   ]
  },
  {
   "cell_type": "code",
   "execution_count": 114,
   "metadata": {
    "Collapsed": "false",
    "collapsed": true,
    "hidden": true,
    "jupyter": {
     "outputs_hidden": true
    }
   },
   "outputs": [
    {
     "data": {
      "text/html": [
       "51"
      ],
      "text/latex": [
       "51"
      ],
      "text/markdown": [
       "51"
      ],
      "text/plain": [
       "[1] 51"
      ]
     },
     "metadata": {},
     "output_type": "display_data"
    },
    {
     "data": {
      "image/png": "[encoded data removed]",
      "text/plain": [
       "Plot with title \"\""
      ]
     },
     "metadata": {},
     "output_type": "display_data"
    }
   ],
   "source": [
    "n <- 100\n",
    "trials <- 1e4\n",
    "\n",
    "samples <- sample(x = p_grid, size = trials, prob = posterior, replace = TRUE)\n",
    "\n",
    "sum(birth1)\n",
    "posterior.predictive.distribution <- rbinom(n = trials, size = n, prob = samples)\n",
    "dens(posterior.predictive.distribution, adj = .1)\n",
    "abline(v = sum(birth1), col = \"red\" )"
   ]
  },
  {
   "cell_type": "code",
   "execution_count": 115,
   "metadata": {
    "Collapsed": "false",
    "collapsed": true,
    "hidden": true,
    "jupyter": {
     "outputs_hidden": true
    }
   },
   "outputs": [
    {
     "data": {
      "text/html": [
       "55.2856"
      ],
      "text/latex": [
       "55.2856"
      ],
      "text/markdown": [
       "55.2856"
      ],
      "text/plain": [
       "[1] 55.2856"
      ]
     },
     "metadata": {},
     "output_type": "display_data"
    },
    {
     "data": {
      "text/html": [
       "55"
      ],
      "text/latex": [
       "55"
      ],
      "text/markdown": [
       "55"
      ],
      "text/plain": [
       "[1] 55"
      ]
     },
     "metadata": {},
     "output_type": "display_data"
    },
    {
     "data": {
      "image/png": "[encoded data removed]",
      "text/plain": [
       "plot without title"
      ]
     },
     "metadata": {},
     "output_type": "display_data"
    },
    {
     "data": {
      "image/png": "[encoded data removed]",
      "text/plain": [
       "Plot with title \"\""
      ]
     },
     "metadata": {},
     "output_type": "display_data"
    }
   ],
   "source": [
    "n_boys_b1 = sum(birth1)   # = 51\n",
    "n_ttl_b1 = length(birth1) # = 100\n",
    "n_btrials = 1e4 #birth observations\n",
    "\n",
    "p_samples = sample(p_grid,size = n_btrials, prob = posterior, replace = TRUE)\n",
    "\n",
    "b_sample = rbinom(n_btrials, size=n_ttl_b1, prob=p_samples)\n",
    "\n",
    "simplehist(b_sample)\n",
    "abline(v = n_boys_b1, col = \"red\")\n",
    "\n",
    "mean(b_sample) #55.39\n",
    "median(b_sample) #55\n",
    "\n",
    "dens(b_sample)\n",
    "abline(v = n_boys_b1, col = \"red\")\n",
    "# model overestimates number of boys for the first child"
   ]
  },
  {
   "cell_type": "markdown",
   "metadata": {
    "Collapsed": "false",
    "hidden": true
   },
   "source": [
    "**<font color = 'purple' style='background-color: lightyellow'>3H5. The model assumes that sex of first and second births are independent. To check this assump-\n",
    "tion, focus now on second births that followed female first borns. Compare 10,000 simulated counts\n",
    "of boys to only those second births that followed girls. To do this correctly, you need to count the\n",
    "number of first borns who were girls and simulate that many births, 10,000 times. Compare the\n",
    "counts of boys in your simulations to the actual observed count of boys following girls. How does the\n",
    "model look in this light? Any guesses what is going on in these data?</font>**"
   ]
  },
  {
   "cell_type": "code",
   "execution_count": 117,
   "metadata": {
    "Collapsed": "false",
    "hidden": true
   },
   "outputs": [
    {
     "data": {
      "image/png": "[encoded data removed]",
      "text/plain": [
       "Plot with title \"\""
      ]
     },
     "metadata": {},
     "output_type": "display_data"
    }
   ],
   "source": [
    "## 3H5\n",
    "boys.born.after.girls <- birth2[birth1 == 0]\n",
    "posterior.predictive.distribution <- rbinom(n = trials, size = length(boys.born.after.girls), prob = samples)\n",
    "dens(posterior.predictive.distribution, adj = .1)\n",
    "abline(v = sum(boys.born.after.girls), col = \"red\")\n"
   ]
  },
  {
   "cell_type": "code",
   "execution_count": 125,
   "metadata": {
    "Collapsed": "false",
    "hidden": true
   },
   "outputs": [
    {
     "name": "stdout",
     "output_type": "stream",
     "text": [
      "[1] \"there were 39 boys born after first girl. There were ttl 49 cases\"\n"
     ]
    },
    {
     "data": {
      "text/html": [
       "27.1404"
      ],
      "text/latex": [
       "27.1404"
      ],
      "text/markdown": [
       "27.1404"
      ],
      "text/plain": [
       "[1] 27.1404"
      ]
     },
     "metadata": {},
     "output_type": "display_data"
    },
    {
     "data": {
      "text/html": [
       "27"
      ],
      "text/latex": [
       "27"
      ],
      "text/markdown": [
       "27"
      ],
      "text/plain": [
       "[1] 27"
      ]
     },
     "metadata": {},
     "output_type": "display_data"
    },
    {
     "data": {
      "image/png": "[encoded data removed]",
      "text/plain": [
       "plot without title"
      ]
     },
     "metadata": {},
     "output_type": "display_data"
    }
   ],
   "source": [
    "# 3H5\n",
    "n_ttl_g1 = sum(birth1==0)\n",
    "n_ttl_g1b2 = sum(birth2[birth1==0])\n",
    "print(sprintf(\"there were %d boys born after first girl. There were ttl %d cases\",n_ttl_g1b2,n_ttl_g1))\n",
    "\n",
    "n_btrials = 1e4 #birth observations\n",
    "b_sample = rbinom(n_btrials, size=n_ttl_g1, prob=p_samples)\n",
    "mean(b_sample) #27\n",
    "median(b_sample) #27\n",
    "#dens(b_sample)\n",
    "simplehist(b_sample)\n",
    "abline(v = n_ttl_g1b2, col = \"red\")\n",
    "# model underestimates number of boys for the second child after the first girl\n",
    "\n",
    "# conclusion - gender of the second child is not independent from the first one"
   ]
  },
  {
   "cell_type": "markdown",
   "metadata": {
    "Collapsed": "false",
    "collapsed": true,
    "jupyter": {
     "outputs_hidden": true
    }
   },
   "source": [
    "# Week 1 Homework"
   ]
  },
  {
   "cell_type": "markdown",
   "metadata": {},
   "source": [
    "##### (1) "
   ]
  },
  {
   "cell_type": "markdown",
   "metadata": {},
   "source": [
    "Suppose the globe tossing data had turned out to be 8 water in 15 tosses. <b><font color = 'purple'>Construct the posterior distribution </font></b>, using grid approximation. Use the same flat prior as before."
   ]
  },
  {
   "cell_type": "code",
   "execution_count": 126,
   "metadata": {
    "ExecuteTime": {
     "end_time": "2019-12-24T00:02:44.844986Z",
     "start_time": "2019-12-24T00:02:44.586Z"
    }
   },
   "outputs": [
    {
     "data": {
      "text/html": [
       "1"
      ],
      "text/latex": [
       "1"
      ],
      "text/markdown": [
       "1"
      ],
      "text/plain": [
       "[1] 1"
      ]
     },
     "metadata": {},
     "output_type": "display_data"
    },
    {
     "data": {
      "image/png": "[encoded data removed]",
      "text/plain": [
       "plot without title"
      ]
     },
     "metadata": {
      "image/png": {
       "height": 420,
       "width": 420
      }
     },
     "output_type": "display_data"
    }
   ],
   "source": [
    "p_grid <- seq( from=0 , to=1 , length.out=1000 )\n",
    "prior <- rep( 1 , 1000 )\n",
    "likelihood <- dbinom( 8 , size=15 , prob=p_grid )\n",
    "posterior_counts <- likelihood * prior\n",
    "posterior_prob_distribution <- posterior_counts / sum(posterior_counts)\n",
    "posterior <- posterior_prob_distribution\n",
    "sum(posterior)\n",
    "\n",
    "plot_distribution <- function(x,y){\n",
    "    plot(x=x,y=y,type='b',\n",
    "        xlab=\"Probability of Water\",\n",
    "        ylab=\"Posterior Probability\")\n",
    "    title <- paste(length(x),\"Points\") \n",
    "    # paste <- Concatenate vectors after converting to character.\n",
    "    mtext(title)\n",
    "}\n",
    "plot_distribution(p_grid, posterior)"
   ]
  },
  {
   "cell_type": "code",
   "execution_count": 127,
   "metadata": {
    "ExecuteTime": {
     "end_time": "2019-12-24T00:02:45.086591Z",
     "start_time": "2019-12-24T00:02:45.021Z"
    }
   },
   "outputs": [
    {
     "data": {
      "text/html": [
       "0.528983983983984"
      ],
      "text/latex": [
       "0.528983983983984"
      ],
      "text/markdown": [
       "0.528983983983984"
      ],
      "text/plain": [
       "[1] 0.528984"
      ]
     },
     "metadata": {},
     "output_type": "display_data"
    },
    {
     "data": {
      "text/html": [
       "<dl class=dl-horizontal>\n",
       "\t<dt>1%</dt>\n",
       "\t\t<dd>0.243243243243243</dd>\n",
       "\t<dt>100%</dt>\n",
       "\t\t<dd>0.807812812812812</dd>\n",
       "</dl>\n"
      ],
      "text/latex": [
       "\\begin{description*}\n",
       "\\item[1\\textbackslash{}\\%] 0.243243243243243\n",
       "\\item[100\\textbackslash{}\\%] 0.807812812812812\n",
       "\\end{description*}\n"
      ],
      "text/markdown": [
       "1%\n",
       ":   0.243243243243243100%\n",
       ":   0.807812812812812\n",
       "\n"
      ],
      "text/plain": [
       "       1%      100% \n",
       "0.2432432 0.8078128 "
      ]
     },
     "metadata": {},
     "output_type": "display_data"
    }
   ],
   "source": [
    "set.seed(100)\n",
    "samples <- sample( p_grid , prob=posterior , size=1e4 , replace=TRUE )\n",
    "samples %>% mean()\n",
    "samples %>% PI(prob=.99)\n"
   ]
  },
  {
   "cell_type": "markdown",
   "metadata": {},
   "source": [
    "##### (2) "
   ]
  },
  {
   "cell_type": "markdown",
   "metadata": {},
   "source": [
    "Start over in 1, but now use a prior that is zero below p =0.5 and a constant above p =0.5. This corresponds to prior information that a majority of the Earth’s surface is water. What difference does the better prior make? If it helps, compare posterior distributions (using both priors) to the true value p =0.7."
   ]
  },
  {
   "cell_type": "code",
   "execution_count": 128,
   "metadata": {
    "ExecuteTime": {
     "end_time": "2019-12-24T00:02:48.674010Z",
     "start_time": "2019-12-24T00:02:48.537Z"
    }
   },
   "outputs": [
    {
     "data": {
      "text/html": [
       "1"
      ],
      "text/latex": [
       "1"
      ],
      "text/markdown": [
       "1"
      ],
      "text/plain": [
       "[1] 1"
      ]
     },
     "metadata": {},
     "output_type": "display_data"
    },
    {
     "data": {
      "image/png": "[encoded data removed]",
      "text/plain": [
       "plot without title"
      ]
     },
     "metadata": {
      "image/png": {
       "height": 420,
       "width": 420
      }
     },
     "output_type": "display_data"
    }
   ],
   "source": [
    "p_grid <- seq( from=0 , to=1 , length.out=100 )\n",
    "prior <- ifelse( p_grid < 0.5 , 0 , 1 )\n",
    "likelihood <- dbinom( 8 , size=15 , prob=p_grid )\n",
    "posterior_counts <- likelihood * prior\n",
    "posterior_prob_distribution <- posterior_counts / sum(posterior_counts)\n",
    "posterior <- posterior_prob_distribution\n",
    "sum(posterior)\n",
    "\n",
    "plot_distribution <- function(x,y){\n",
    "    plot(x=x,y=y,type='b',\n",
    "        xlab=\"Probability of Water\",\n",
    "        ylab=\"Posterior Probability\")\n",
    "    title <- paste(length(x),\"Points\") \n",
    "    # paste <- Concatenate vectors after converting to character.\n",
    "    mtext(title)\n",
    "}\n",
    "plot_distribution(p_grid, posterior)"
   ]
  },
  {
   "cell_type": "code",
   "execution_count": 129,
   "metadata": {
    "ExecuteTime": {
     "end_time": "2019-12-24T00:02:49.185367Z",
     "start_time": "2019-12-24T00:02:49.123Z"
    }
   },
   "outputs": [
    {
     "data": {
      "text/html": [
       "0.60590303030303"
      ],
      "text/latex": [
       "0.60590303030303"
      ],
      "text/markdown": [
       "0.60590303030303"
      ],
      "text/plain": [
       "[1] 0.605903"
      ]
     },
     "metadata": {},
     "output_type": "display_data"
    },
    {
     "data": {
      "text/html": [
       "<dl class=dl-horizontal>\n",
       "\t<dt>1%</dt>\n",
       "\t\t<dd>0.505050505050505</dd>\n",
       "\t<dt>100%</dt>\n",
       "\t\t<dd>0.828282828282828</dd>\n",
       "</dl>\n"
      ],
      "text/latex": [
       "\\begin{description*}\n",
       "\\item[1\\textbackslash{}\\%] 0.505050505050505\n",
       "\\item[100\\textbackslash{}\\%] 0.828282828282828\n",
       "\\end{description*}\n"
      ],
      "text/markdown": [
       "1%\n",
       ":   0.505050505050505100%\n",
       ":   0.828282828282828\n",
       "\n"
      ],
      "text/plain": [
       "       1%      100% \n",
       "0.5050505 0.8282828 "
      ]
     },
     "metadata": {},
     "output_type": "display_data"
    }
   ],
   "source": [
    "samples2 <- sample( p_grid , prob=posterior , size=1e4 , replace=TRUE )\n",
    "samples2 %>% mean()\n",
    "samples2 %>% PI(prob=.99)"
   ]
  },
  {
   "cell_type": "markdown",
   "metadata": {},
   "source": [
    "This prior yields a posterior with more mass around the true value of 0.7.\n",
    "This is probably easier to see in a plot:"
   ]
  },
  {
   "cell_type": "code",
   "execution_count": 130,
   "metadata": {
    "ExecuteTime": {
     "end_time": "2019-12-24T00:02:50.961605Z",
     "start_time": "2019-12-24T00:02:50.847Z"
    },
    "collapsed": true
   },
   "outputs": [
    {
     "data": {
      "image/png": "[encoded data removed]",
      "text/plain": [
       "Plot with title \"\""
      ]
     },
     "metadata": {
      "image/png": {
       "height": 420,
       "width": 420
      }
     },
     "output_type": "display_data"
    }
   ],
   "source": [
    "dens( samples , xlab=\"p\" , xlim=c(0,1) , ylim=c(0,6) )\n",
    "dens( samples2 , add=TRUE , lty=2 )\n",
    "abline( v=0.7 , col=\"red\" )"
   ]
  },
  {
   "cell_type": "markdown",
   "metadata": {},
   "source": [
    "With the impossible values less than 0.5 ruled out, the second model piles up more plausibility on the higher values near the true value. The data are still misleading it to think that values just above 0.5 are the most plausible. But the posterior mean of 0.63 is much better than 0.53 from the previous problem. Informative priors, when based on real scientific information, help. Here, the informative prior helps because there isn’t much data. That is common in a lot of fields, ranging from astronomy to paleontology."
   ]
  },
  {
   "cell_type": "markdown",
   "metadata": {},
   "source": [
    "##### (3)"
   ]
  },
  {
   "cell_type": "markdown",
   "metadata": {},
   "source": [
    "This problem is more open-ended than the others. Feel free to collaborate on the solution. Suppose you want to estimate the Earth’s proportion of water very precisely. \n",
    "\n",
    "<font color = 'purple'>Specifically, you want the 99% percentile interval of the posterior distribution of to be only 0.05 wide. This means the distance between the upper and lower bound of the interval should be 0.05. How many times will you have to toss the globe to do this? </font> I won’t require a precise answer. I’m honestly more interested in your approach."
   ]
  },
  {
   "cell_type": "markdown",
   "metadata": {},
   "source": [
    "One way to approach this problem is to try a range of sample sizes and to plot the interval width of each. Here’s some code to compute the posterior and get the interval width:"
   ]
  },
  {
   "cell_type": "code",
   "execution_count": 141,
   "metadata": {
    "ExecuteTime": {
     "end_time": "2019-12-24T20:43:35.282396Z",
     "start_time": "2019-12-24T20:43:35.204Z"
    }
   },
   "outputs": [
    {
     "data": {
      "text/html": [
       "0.454459459459459"
      ],
      "text/latex": [
       "0.454459459459459"
      ],
      "text/markdown": [
       "0.454459459459459"
      ],
      "text/plain": [
       "[1] 0.4544595"
      ]
     },
     "metadata": {},
     "output_type": "display_data"
    }
   ],
   "source": [
    "set.seed(100)\n",
    "N <- 20\n",
    "p_true <- 0.7\n",
    "W <- rbinom( 1 , size=N , prob=p_true )\n",
    "p_grid <- seq( from=0 , to=1 , length.out=1000 )\n",
    "prior <- rep( 1 , 1000 )\n",
    "prob_data <- dbinom( W , size=N , prob=p_grid )\n",
    "posterior <- prob_data * prior\n",
    "posterior <- posterior / sum(posterior)\n",
    "samples <- sample( p_grid , prob=posterior , size=1e4 , replace=TRUE )\n",
    "PI99 <- PI( samples , 0.99 )\n",
    "as.numeric( PI99[2] - PI99[1] )"
   ]
  },
  {
   "cell_type": "markdown",
   "metadata": {},
   "source": [
    "There are other ways to compute the interval width. But the above is closest to the code in the book. Now since we want to do this for different values of N, it’s nice to make this into a function:"
   ]
  },
  {
   "cell_type": "code",
   "execution_count": 137,
   "metadata": {
    "ExecuteTime": {
     "end_time": "2019-12-24T20:41:21.297597Z",
     "start_time": "2019-12-24T20:41:21.257Z"
    }
   },
   "outputs": [],
   "source": [
    "f <- function( N ) {\n",
    "    p_true <- 0.7\n",
    "    W <- rbinom( 1 , size=N , prob=p_true )\n",
    "    p_grid <- seq( from=0 , to=1 , length.out=1000 )\n",
    "    prior <- rep( 1 , 1000 )\n",
    "    prob_data <- dbinom( W , size=N , prob=p_grid )\n",
    "    posterior <- prob_data * prior\n",
    "    posterior <- posterior / sum(posterior)\n",
    "    samples <- sample( p_grid , prob=posterior , size=1e4 , replace=TRUE )\n",
    "    PI99 <- PI( samples , 0.99 )\n",
    "    as.numeric( PI99[2] - PI99[1] )\n",
    "}"
   ]
  },
  {
   "cell_type": "markdown",
   "metadata": {},
   "source": [
    "Now if you enter f(20), you get an interval width for 20 globe tosses. Now notice that the interval width varies across simulations. Try f(20) a few times to see what I mean. But as you increase N, this variation shrinks rapidly. This is because as the sample size increases, the differences between samples shrink. So if you ignore the sample to sample variation in interval width, that’s okay in this example. But in the code below, I’ll account for it. \n",
    "\n",
    "Now we need to run simulations across a bunch of different sample size to find where the interval shrinks to 0.05 in width. I’ll use sapply to run 100 simulations at each of 7 sample sizes:"
   ]
  },
  {
   "cell_type": "code",
   "execution_count": 139,
   "metadata": {
    "ExecuteTime": {
     "end_time": "2019-12-24T20:41:50.974598Z",
     "start_time": "2019-12-24T20:41:49.525Z"
    },
    "scrolled": true
   },
   "outputs": [
    {
     "data": {
      "image/png": "[encoded data removed]",
      "text/plain": [
       "plot without title"
      ]
     },
     "metadata": {
      "image/png": {
       "height": 420,
       "width": 420
      }
     },
     "output_type": "display_data"
    }
   ],
   "source": [
    "Nlist <- c( 20 , 50 , 100 , 200 , 500 , 1000 , 2000 )\n",
    "Nlist <- rep( Nlist , each=100 )\n",
    "width <- sapply( Nlist , f )\n",
    "plot( Nlist , width )\n",
    "abline( h=0.05 , col=\"red\" )"
   ]
  },
  {
   "cell_type": "markdown",
   "metadata": {},
   "source": [
    "What are we looking at in this plot? The horizontal is sample size. The points are individual interval widths, one for each simulation. The red line is drawn at a width of 0.05. Looks like we need more than 2000 tosses of the globe to get the interval to be that precise. The above is a general feature of learning from data: The greatest returns on learning come early on. Each additional observation contributes less and less. So it takes very much effort to progressively reduce our uncertainty. So if your application requires a very precise estimate, be prepared to collect a lot of data. Or to change your approach."
   ]
  },
  {
   "cell_type": "code",
   "execution_count": null,
   "metadata": {},
   "outputs": [],
   "source": []
  }
 ],
 "metadata": {
  "hide_input": false,
  "kernelspec": {
   "display_name": "R",
   "language": "R",
   "name": "ir"
  },
  "language_info": {
   "codemirror_mode": "r",
   "file_extension": ".r",
   "mimetype": "text/x-r-source",
   "name": "R",
   "pygments_lexer": "r",
   "version": "3.6.2"
  },
  "toc": {
   "base_numbering": 1,
   "nav_menu": {},
   "number_sections": true,
   "sideBar": true,
   "skip_h1_title": false,
   "title_cell": "Table of Contents",
   "title_sidebar": "Contents",
   "toc_cell": true,
   "toc_position": {},
   "toc_section_display": true,
   "toc_window_display": false
  },
  "varInspector": {
   "cols": {
    "lenName": 16,
    "lenType": 16,
    "lenVar": 40
   },
   "kernels_config": {
    "python": {
     "delete_cmd_postfix": "",
     "delete_cmd_prefix": "del ",
     "library": "var_list.py",
     "varRefreshCmd": "print(var_dic_list())"
    },
    "r": {
     "delete_cmd_postfix": ") ",
     "delete_cmd_prefix": "rm(",
     "library": "var_list.r",
     "varRefreshCmd": "cat(var_dic_list()) "
    }
   },
   "position": {
    "height": "311px",
    "left": "1599px",
    "right": "20px",
    "top": "120px",
    "width": "301px"
   },
   "types_to_exclude": [
    "module",
    "function",
    "builtin_function_or_method",
    "instance",
    "_Feature"
   ],
   "window_display": false
  }
 },
 "nbformat": 4,
 "nbformat_minor": 4
}
