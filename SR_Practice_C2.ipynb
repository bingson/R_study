{
 "cells": [
  {
   "cell_type": "markdown",
   "metadata": {
    "toc": true
   },
   "source": [
    "<h1>Table of Contents<span class=\"tocSkip\"></span></h1>\n",
    "<div class=\"toc\"><ul class=\"toc-item\"><li><span><a href=\"#Chapter-2-Practice-Problems\" data-toc-modified-id=\"Chapter-2-Practice-Problems-1\"><span class=\"toc-item-num\">1&nbsp;&nbsp;</span>Chapter 2 Practice Problems</a></span><ul class=\"toc-item\"><li><span><a href=\"#Easy\" data-toc-modified-id=\"Easy-1.1\"><span class=\"toc-item-num\">1.1&nbsp;&nbsp;</span>Easy</a></span></li><li><span><a href=\"#Medium\" data-toc-modified-id=\"Medium-1.2\"><span class=\"toc-item-num\">1.2&nbsp;&nbsp;</span>Medium</a></span></li><li><span><a href=\"#Hard\" data-toc-modified-id=\"Hard-1.3\"><span class=\"toc-item-num\">1.3&nbsp;&nbsp;</span>Hard</a></span></li></ul></li></ul></div>"
   ]
  },
  {
   "cell_type": "code",
   "execution_count": 3,
   "metadata": {
    "ExecuteTime": {
     "end_time": "2020-05-26T14:36:02.816141Z",
     "start_time": "2020-05-26T14:36:02.720Z"
    }
   },
   "outputs": [],
   "source": [
    "# libraries \n",
    "library(rethinking)  \n",
    "library(tidyverse)  \n",
    "library(lubridate)  \n",
    "# library(data.table)  \n",
    "# detach(\"package:rethinking\", unload=TRUE) \n"
   ]
  },
  {
   "cell_type": "markdown",
   "metadata": {},
   "source": [
    "# Chapter 2 Practice Problems"
   ]
  },
  {
   "cell_type": "markdown",
   "metadata": {
    "heading_collapsed": true
   },
   "source": [
    "## Easy"
   ]
  },
  {
   "cell_type": "markdown",
   "metadata": {
    "heading_collapsed": true,
    "hidden": true
   },
   "source": [
    "##### 2E1. Which of the expressions below correspond to the statement: the probability of rain on Monday?"
   ]
  },
  {
   "cell_type": "raw",
   "metadata": {
    "hidden": true
   },
   "source": [
    "(1) Pr(rain)\n",
    "(2) Pr(rain|Monday) <-\n",
    "(3) Pr(Monday|rain)\n",
    "(4) Pr(rain, Monday)/ Pr(Monday) <-"
   ]
  },
  {
   "cell_type": "markdown",
   "metadata": {
    "heading_collapsed": true,
    "hidden": true
   },
   "source": [
    "##### 2E2. Which of the following statements corresponds to the expression: Pr(Monday|rain)?"
   ]
  },
  {
   "cell_type": "markdown",
   "metadata": {
    "hidden": true
   },
   "source": [
    "(1) The probability of rain on Monday.\n",
    "(2) The probability of rain, given that it is Monday. \n",
    "(3) The probability that it is Monday, given that it is raining. <-\n",
    "(4) The probability that it is Monday and that it is raining."
   ]
  },
  {
   "cell_type": "markdown",
   "metadata": {
    "heading_collapsed": true,
    "hidden": true
   },
   "source": [
    "##### 2E3. Which of the expressions below correspond to the statement: the probability that it is Monday, given that it is raining?"
   ]
  },
  {
   "cell_type": "markdown",
   "metadata": {
    "hidden": true
   },
   "source": [
    "(1) Pr(Monday|rain) <-\n",
    "(2) Pr(rain|Monday)\n",
    "(3) Pr(rain|Monday) Pr(Monday)\n",
    "(4) Pr(rain|Monday) Pr(Monday)/ Pr(rain) <-\n",
    "(5) Pr(Monday|rain) Pr(rain)/ Pr(Monday)"
   ]
  },
  {
   "cell_type": "raw",
   "metadata": {
    "hidden": true
   },
   "source": [
    "For (4), the product Pr(rain|Monday) Pr(Monday) is just the joint\n",
    "probability of rain and Monday, Pr(rain, Monday). Then dividing by the probability of rain provides\n",
    "the conditional probability.\n",
    "\n",
    "p(rain|Monday) = p(rain and Monday)/p(Monday)\n",
    "p(rain and Monday) = p(rain|Monday)p(Monday)\n",
    "\n",
    "P(Monday|rain) = p(Monday and rain)/p(rain)\n",
    "P(Monday|rain) = p(rain|Monday)p(Monday)/p(rain)\n",
    " "
   ]
  },
  {
   "cell_type": "markdown",
   "metadata": {
    "heading_collapsed": true,
    "hidden": true
   },
   "source": [
    "##### 2E4. The Bayesian statistician Bruno de Finetti (1906–1985) began his 1973 book on probability theory with the declaration: “PROBABILITY DOES NOT EXIST.” "
   ]
  },
  {
   "cell_type": "markdown",
   "metadata": {
    "hidden": true
   },
   "source": [
    "The capitals appeared in the original, so I imagine de Finetti wanted us to shout this statement. \n",
    "\n",
    "What he meant is that probability is a device for describing uncertainty from the perspective of an observer with limited knowledge; it has no objective reality. \n",
    "\n",
    "Discuss the globe tossing example from the chapter, in light of this statement. \n",
    "\n",
    "What does it mean to say “the probability of water is 0.7”?"
   ]
  },
  {
   "cell_type": "markdown",
   "metadata": {
    "hidden": true
   },
   "source": [
    "This problem is merely a prompt for readers to explore intuitions about probability.<font color = 'blue'> The goal is to help understand statements like “the probability of water is 0.7” as statements about partial knowledge, not as statements about physical processes. </font> \n",
    "\n",
    "> The physics of the globe toss are deterministic, not “random.” But we are substantially ignorant of those physics when we toss the globe. So when someone states that a process is “random,” this can mean nothing more than ignorance of the details that would permit predicting the outcome.\n",
    "\n",
    "As a consequence, probabilities change when our information (or a model’s information) changes. Frequencies, in contrast, are facts about particular empirical contexts. They do not depend upon our information (although our beliefs about frequencies do).\n",
    "\n",
    "This gives a new meaning to words like “randomization,” because it makes clear that when we shuffle a deck of playing cards, what we have done is merely remove our knowledge of the card order. A card is “random” because we cannot guess it."
   ]
  },
  {
   "cell_type": "markdown",
   "metadata": {
    "heading_collapsed": true
   },
   "source": [
    "## Medium"
   ]
  },
  {
   "cell_type": "markdown",
   "metadata": {
    "heading_collapsed": true,
    "hidden": true
   },
   "source": [
    "##### 2M1. Recall the globe tossing model from the chapter. "
   ]
  },
  {
   "cell_type": "raw",
   "metadata": {
    "hidden": true
   },
   "source": [
    "Compute and plot the grid approximate posterior distribution for each of the following sets of observations. In each case, assume a uniform prior for p.\n",
    "\n",
    "(1) W, W, W\n",
    "(2) W, W, W, L\n",
    "(3) L, W, W, L, W, W, W"
   ]
  },
  {
   "cell_type": "markdown",
   "metadata": {
    "hidden": true
   },
   "source": [
    "Here is the recipe for grid approximation:\n",
    "\n",
    "(1) Define the grid. This means you decide how many points to use in estimating the\n",
    "    posterior, and then you make a list of the parameter values on the grid.\n",
    "\n",
    "(2) Compute the value of the prior at each parameter value on the grid.\n",
    "\n",
    "(3) Compute the likelihood at each parameter value.\n",
    "\n",
    "(4) Compute the unstandardized posterior at each parameter value, by multiplying the\n",
    "    prior by the likelihood.\n",
    "\n",
    "(5) Finally, standardize the posterior, by dividing each value by the sum of all values."
   ]
  },
  {
   "cell_type": "markdown",
   "metadata": {
    "heading_collapsed": true,
    "hidden": true
   },
   "source": [
    "###### SR soln"
   ]
  },
  {
   "cell_type": "code",
   "execution_count": 4,
   "metadata": {
    "hidden": true
   },
   "outputs": [],
   "source": [
    "# define grid\n",
    "p_grid <- seq( from=0 , to=1 , length.out=20 )"
   ]
  },
  {
   "cell_type": "code",
   "execution_count": 5,
   "metadata": {
    "hidden": true
   },
   "outputs": [],
   "source": [
    "# define prior\n",
    "prior <- rep( 1 , 20 )"
   ]
  },
  {
   "cell_type": "code",
   "execution_count": 33,
   "metadata": {
    "hidden": true
   },
   "outputs": [],
   "source": [
    "# compute likelihood at each value in grid\n",
    "likelihood <- dbinom( 3 , size=3 , prob=p_grid )"
   ]
  },
  {
   "cell_type": "code",
   "execution_count": 34,
   "metadata": {
    "hidden": true
   },
   "outputs": [],
   "source": [
    "# compute likelihood at each value in grid\n",
    "likelihood <- dbinom( 3 , size=4 , prob=p_grid )"
   ]
  },
  {
   "cell_type": "code",
   "execution_count": 35,
   "metadata": {
    "hidden": true
   },
   "outputs": [],
   "source": [
    "# compute likelihood at each value in grid\n",
    "likelihood <- dbinom( 5 , size=7 , prob=p_grid )"
   ]
  },
  {
   "cell_type": "code",
   "execution_count": 36,
   "metadata": {
    "hidden": true
   },
   "outputs": [],
   "source": [
    "# compute product of likelihood and prior\n",
    "unstd.posterior <- likelihood * prior"
   ]
  },
  {
   "cell_type": "code",
   "execution_count": 21,
   "metadata": {
    "hidden": true
   },
   "outputs": [],
   "source": [
    "# standardize the posterior, so it sums to 1\n",
    "posterior <- unstd.posterior / sum(unstd.posterior)"
   ]
  },
  {
   "cell_type": "code",
   "execution_count": 22,
   "metadata": {
    "collapsed": true,
    "hidden": true
   },
   "outputs": [
    {
     "data": {
      "image/png": "[encoded data removed]",
      "text/plain": [
       "plot without title"
      ]
     },
     "metadata": {
      "image/png": {
       "height": 420,
       "width": 420
      },
      "text/plain": {
       "height": 420,
       "width": 420
      }
     },
     "output_type": "display_data"
    }
   ],
   "source": [
    " plot( p_grid , posterior , type=\"b\" ,\n",
    "xlab=\"probability of water\" , ylab=\"posterior probability\" )\n",
    "mtext( \"20 points\" )"
   ]
  },
  {
   "cell_type": "markdown",
   "metadata": {
    "hidden": true
   },
   "source": [
    "###### Purr Version"
   ]
  },
  {
   "cell_type": "code",
   "execution_count": 2,
   "metadata": {
    "ExecuteTime": {
     "end_time": "2020-04-30T18:06:31.279249Z",
     "start_time": "2020-04-30T18:06:30.972Z"
    },
    "hidden": true
   },
   "outputs": [],
   "source": [
    "# define grid\n",
    "p_grid <- seq( from=0 , to=1 , length.out=20 )"
   ]
  },
  {
   "cell_type": "code",
   "execution_count": 3,
   "metadata": {
    "ExecuteTime": {
     "end_time": "2020-04-30T18:06:31.321221Z",
     "start_time": "2020-04-30T18:06:31.237Z"
    },
    "hidden": true
   },
   "outputs": [],
   "source": [
    "# define prior\n",
    "prior <- rep( 1 , 20 )"
   ]
  },
  {
   "cell_type": "code",
   "execution_count": 4,
   "metadata": {
    "ExecuteTime": {
     "end_time": "2020-04-30T18:06:31.568991Z",
     "start_time": "2020-04-30T18:06:31.513Z"
    },
    "hidden": true
   },
   "outputs": [],
   "source": [
    "# likelihoods\n",
    "waters <- list(3,3,5)\n",
    "trials <- list(3,4,7)\n",
    "ll <- map2(waters, trials, dbinom, prob=p_grid)"
   ]
  },
  {
   "cell_type": "code",
   "execution_count": 5,
   "metadata": {
    "ExecuteTime": {
     "end_time": "2020-04-30T18:06:31.891984Z",
     "start_time": "2020-04-30T18:06:31.845Z"
    },
    "hidden": true
   },
   "outputs": [],
   "source": [
    "# compute product of likelihood and prior\n",
    "unstd.posterior <- map(ll, function(ll) ll*prior)"
   ]
  },
  {
   "cell_type": "code",
   "execution_count": 6,
   "metadata": {
    "ExecuteTime": {
     "end_time": "2020-04-30T18:06:32.173506Z",
     "start_time": "2020-04-30T18:06:32.130Z"
    },
    "hidden": true
   },
   "outputs": [],
   "source": [
    "# compute product of likelihood and prior\n",
    "posterior <- map(unstd.posterior, function(unstd.posterior) unstd.posterior/sum(unstd.posterior))"
   ]
  },
  {
   "cell_type": "code",
   "execution_count": 8,
   "metadata": {
    "ExecuteTime": {
     "end_time": "2020-04-30T18:06:33.331704Z",
     "start_time": "2020-04-30T18:06:33.053Z"
    },
    "hidden": true
   },
   "outputs": [
    {
     "data": {
      "image/png": "[encoded data removed]",
      "text/plain": [
       "plot without title"
      ]
     },
     "metadata": {
      "image/png": {
       "height": 420,
       "width": 420
      }
     },
     "output_type": "display_data"
    },
    {
     "data": {
      "image/png": "[encoded data removed]",
      "text/plain": [
       "plot without title"
      ]
     },
     "metadata": {
      "image/png": {
       "height": 420,
       "width": 420
      }
     },
     "output_type": "display_data"
    },
    {
     "data": {
      "image/png": "[encoded data removed]",
      "text/plain": [
       "plot without title"
      ]
     },
     "metadata": {
      "image/png": {
       "height": 420,
       "width": 420
      }
     },
     "output_type": "display_data"
    }
   ],
   "source": [
    "for (i in seq_along(posterior)){\n",
    "    plot(p_grid, posterior[[i]], type=\"b\",\n",
    "        xlab=\"probability of water\" , ylab=\"posterior probability\" )\n",
    "    mtext( \"20 points\" )\n",
    "}"
   ]
  },
  {
   "cell_type": "markdown",
   "metadata": {
    "heading_collapsed": true,
    "hidden": true
   },
   "source": [
    "##### 2M2. Now assume a prior for p that is equal to zero when p < 0.5 and is a positive constant when p ≥ 0.5. \n",
    "\n",
    "Again compute and plot the grid approximate posterior distribution for each of the sets of\n",
    "observations in the problem just above."
   ]
  },
  {
   "cell_type": "code",
   "execution_count": 36,
   "metadata": {
    "ExecuteTime": {
     "end_time": "2020-04-30T18:51:29.501054Z",
     "start_time": "2020-04-30T18:51:29.447Z"
    },
    "collapsed": true,
    "hidden": true
   },
   "outputs": [
    {
     "data": {
      "text/html": [
       "<style>\n",
       ".list-inline {list-style: none; margin:0; padding: 0}\n",
       ".list-inline>li {display: inline-block}\n",
       ".list-inline>li:not(:last-child)::after {content: \"\\00b7\"; padding: 0 .5ex}\n",
       "</style>\n",
       "<ol class=list-inline><li>0</li><li>0.01</li><li>0.02</li><li>0.03</li><li>0.04</li><li>0.05</li><li>0.06</li><li>0.07</li><li>0.08</li><li>0.09</li><li>0.1</li><li>0.11</li><li>0.12</li><li>0.13</li><li>0.14</li><li>0.15</li><li>0.16</li><li>0.17</li><li>0.18</li><li>0.19</li><li>0.2</li><li>0.21</li><li>0.22</li><li>0.23</li><li>0.24</li><li>0.25</li><li>0.26</li><li>0.27</li><li>0.28</li><li>0.29</li><li>0.3</li><li>0.31</li><li>0.32</li><li>0.33</li><li>0.34</li><li>0.35</li><li>0.36</li><li>0.37</li><li>0.38</li><li>0.39</li><li>0.4</li><li>0.41</li><li>0.42</li><li>0.43</li><li>0.44</li><li>0.45</li><li>0.46</li><li>0.47</li><li>0.48</li><li>0.49</li><li>0.51</li><li>0.52</li><li>0.53</li><li>0.54</li><li>0.55</li><li>0.56</li><li>0.57</li><li>0.58</li><li>0.59</li><li>0.6</li><li>0.61</li><li>0.62</li><li>0.63</li><li>0.64</li><li>0.65</li><li>0.66</li><li>0.67</li><li>0.68</li><li>0.69</li><li>0.7</li><li>0.71</li><li>0.72</li><li>0.73</li><li>0.74</li><li>0.75</li><li>0.76</li><li>0.77</li><li>0.78</li><li>0.79</li><li>0.8</li><li>0.81</li><li>0.82</li><li>0.83</li><li>0.84</li><li>0.85</li><li>0.86</li><li>0.87</li><li>0.88</li><li>0.89</li><li>0.9</li><li>0.91</li><li>0.92</li><li>0.93</li><li>0.94</li><li>0.95</li><li>0.96</li><li>0.97</li><li>0.98</li><li>0.99</li><li>1</li></ol>\n"
      ],
      "text/latex": [
       "\\begin{enumerate*}\n",
       "\\item 0\n",
       "\\item 0.01\n",
       "\\item 0.02\n",
       "\\item 0.03\n",
       "\\item 0.04\n",
       "\\item 0.05\n",
       "\\item 0.06\n",
       "\\item 0.07\n",
       "\\item 0.08\n",
       "\\item 0.09\n",
       "\\item 0.1\n",
       "\\item 0.11\n",
       "\\item 0.12\n",
       "\\item 0.13\n",
       "\\item 0.14\n",
       "\\item 0.15\n",
       "\\item 0.16\n",
       "\\item 0.17\n",
       "\\item 0.18\n",
       "\\item 0.19\n",
       "\\item 0.2\n",
       "\\item 0.21\n",
       "\\item 0.22\n",
       "\\item 0.23\n",
       "\\item 0.24\n",
       "\\item 0.25\n",
       "\\item 0.26\n",
       "\\item 0.27\n",
       "\\item 0.28\n",
       "\\item 0.29\n",
       "\\item 0.3\n",
       "\\item 0.31\n",
       "\\item 0.32\n",
       "\\item 0.33\n",
       "\\item 0.34\n",
       "\\item 0.35\n",
       "\\item 0.36\n",
       "\\item 0.37\n",
       "\\item 0.38\n",
       "\\item 0.39\n",
       "\\item 0.4\n",
       "\\item 0.41\n",
       "\\item 0.42\n",
       "\\item 0.43\n",
       "\\item 0.44\n",
       "\\item 0.45\n",
       "\\item 0.46\n",
       "\\item 0.47\n",
       "\\item 0.48\n",
       "\\item 0.49\n",
       "\\item 0.51\n",
       "\\item 0.52\n",
       "\\item 0.53\n",
       "\\item 0.54\n",
       "\\item 0.55\n",
       "\\item 0.56\n",
       "\\item 0.57\n",
       "\\item 0.58\n",
       "\\item 0.59\n",
       "\\item 0.6\n",
       "\\item 0.61\n",
       "\\item 0.62\n",
       "\\item 0.63\n",
       "\\item 0.64\n",
       "\\item 0.65\n",
       "\\item 0.66\n",
       "\\item 0.67\n",
       "\\item 0.68\n",
       "\\item 0.69\n",
       "\\item 0.7\n",
       "\\item 0.71\n",
       "\\item 0.72\n",
       "\\item 0.73\n",
       "\\item 0.74\n",
       "\\item 0.75\n",
       "\\item 0.76\n",
       "\\item 0.77\n",
       "\\item 0.78\n",
       "\\item 0.79\n",
       "\\item 0.8\n",
       "\\item 0.81\n",
       "\\item 0.82\n",
       "\\item 0.83\n",
       "\\item 0.84\n",
       "\\item 0.85\n",
       "\\item 0.86\n",
       "\\item 0.87\n",
       "\\item 0.88\n",
       "\\item 0.89\n",
       "\\item 0.9\n",
       "\\item 0.91\n",
       "\\item 0.92\n",
       "\\item 0.93\n",
       "\\item 0.94\n",
       "\\item 0.95\n",
       "\\item 0.96\n",
       "\\item 0.97\n",
       "\\item 0.98\n",
       "\\item 0.99\n",
       "\\item 1\n",
       "\\end{enumerate*}\n"
      ],
      "text/markdown": [
       "1. 0\n",
       "2. 0.01\n",
       "3. 0.02\n",
       "4. 0.03\n",
       "5. 0.04\n",
       "6. 0.05\n",
       "7. 0.06\n",
       "8. 0.07\n",
       "9. 0.08\n",
       "10. 0.09\n",
       "11. 0.1\n",
       "12. 0.11\n",
       "13. 0.12\n",
       "14. 0.13\n",
       "15. 0.14\n",
       "16. 0.15\n",
       "17. 0.16\n",
       "18. 0.17\n",
       "19. 0.18\n",
       "20. 0.19\n",
       "21. 0.2\n",
       "22. 0.21\n",
       "23. 0.22\n",
       "24. 0.23\n",
       "25. 0.24\n",
       "26. 0.25\n",
       "27. 0.26\n",
       "28. 0.27\n",
       "29. 0.28\n",
       "30. 0.29\n",
       "31. 0.3\n",
       "32. 0.31\n",
       "33. 0.32\n",
       "34. 0.33\n",
       "35. 0.34\n",
       "36. 0.35\n",
       "37. 0.36\n",
       "38. 0.37\n",
       "39. 0.38\n",
       "40. 0.39\n",
       "41. 0.4\n",
       "42. 0.41\n",
       "43. 0.42\n",
       "44. 0.43\n",
       "45. 0.44\n",
       "46. 0.45\n",
       "47. 0.46\n",
       "48. 0.47\n",
       "49. 0.48\n",
       "50. 0.49\n",
       "51. 0.51\n",
       "52. 0.52\n",
       "53. 0.53\n",
       "54. 0.54\n",
       "55. 0.55\n",
       "56. 0.56\n",
       "57. 0.57\n",
       "58. 0.58\n",
       "59. 0.59\n",
       "60. 0.6\n",
       "61. 0.61\n",
       "62. 0.62\n",
       "63. 0.63\n",
       "64. 0.64\n",
       "65. 0.65\n",
       "66. 0.66\n",
       "67. 0.67\n",
       "68. 0.68\n",
       "69. 0.69\n",
       "70. 0.7\n",
       "71. 0.71\n",
       "72. 0.72\n",
       "73. 0.73\n",
       "74. 0.74\n",
       "75. 0.75\n",
       "76. 0.76\n",
       "77. 0.77\n",
       "78. 0.78\n",
       "79. 0.79\n",
       "80. 0.8\n",
       "81. 0.81\n",
       "82. 0.82\n",
       "83. 0.83\n",
       "84. 0.84\n",
       "85. 0.85\n",
       "86. 0.86\n",
       "87. 0.87\n",
       "88. 0.88\n",
       "89. 0.89\n",
       "90. 0.9\n",
       "91. 0.91\n",
       "92. 0.92\n",
       "93. 0.93\n",
       "94. 0.94\n",
       "95. 0.95\n",
       "96. 0.96\n",
       "97. 0.97\n",
       "98. 0.98\n",
       "99. 0.99\n",
       "100. 1\n",
       "\n",
       "\n"
      ],
      "text/plain": [
       "  [1] 0.00 0.01 0.02 0.03 0.04 0.05 0.06 0.07 0.08 0.09 0.10 0.11 0.12 0.13 0.14\n",
       " [16] 0.15 0.16 0.17 0.18 0.19 0.20 0.21 0.22 0.23 0.24 0.25 0.26 0.27 0.28 0.29\n",
       " [31] 0.30 0.31 0.32 0.33 0.34 0.35 0.36 0.37 0.38 0.39 0.40 0.41 0.42 0.43 0.44\n",
       " [46] 0.45 0.46 0.47 0.48 0.49 0.51 0.52 0.53 0.54 0.55 0.56 0.57 0.58 0.59 0.60\n",
       " [61] 0.61 0.62 0.63 0.64 0.65 0.66 0.67 0.68 0.69 0.70 0.71 0.72 0.73 0.74 0.75\n",
       " [76] 0.76 0.77 0.78 0.79 0.80 0.81 0.82 0.83 0.84 0.85 0.86 0.87 0.88 0.89 0.90\n",
       " [91] 0.91 0.92 0.93 0.94 0.95 0.96 0.97 0.98 0.99 1.00"
      ]
     },
     "metadata": {},
     "output_type": "display_data"
    }
   ],
   "source": [
    "# define grid\n",
    "p_grid <- seq( from=0 , to=1 , length.out=100 )\n",
    "p_grid %>% round(2)"
   ]
  },
  {
   "cell_type": "code",
   "execution_count": 37,
   "metadata": {
    "ExecuteTime": {
     "end_time": "2020-04-30T18:51:34.135464Z",
     "start_time": "2020-04-30T18:51:34.094Z"
    },
    "code_folding": [],
    "collapsed": true,
    "hidden": true
   },
   "outputs": [
    {
     "data": {
      "text/html": [
       "<style>\n",
       ".list-inline {list-style: none; margin:0; padding: 0}\n",
       ".list-inline>li {display: inline-block}\n",
       ".list-inline>li:not(:last-child)::after {content: \"\\00b7\"; padding: 0 .5ex}\n",
       "</style>\n",
       "<ol class=list-inline><li>0</li><li>0</li><li>0</li><li>0</li><li>0</li><li>0</li><li>0</li><li>0</li><li>0</li><li>0</li><li>0</li><li>0</li><li>0</li><li>0</li><li>0</li><li>0</li><li>0</li><li>0</li><li>0</li><li>0</li><li>0</li><li>0</li><li>0</li><li>0</li><li>0</li><li>0</li><li>0</li><li>0</li><li>0</li><li>0</li><li>0</li><li>0</li><li>0</li><li>0</li><li>0</li><li>0</li><li>0</li><li>0</li><li>0</li><li>0</li><li>0</li><li>0</li><li>0</li><li>0</li><li>0</li><li>0</li><li>0</li><li>0</li><li>0</li><li>0</li><li>1</li><li>1</li><li>1</li><li>1</li><li>1</li><li>1</li><li>1</li><li>1</li><li>1</li><li>1</li><li>1</li><li>1</li><li>1</li><li>1</li><li>1</li><li>1</li><li>1</li><li>1</li><li>1</li><li>1</li><li>1</li><li>1</li><li>1</li><li>1</li><li>1</li><li>1</li><li>1</li><li>1</li><li>1</li><li>1</li><li>1</li><li>1</li><li>1</li><li>1</li><li>1</li><li>1</li><li>1</li><li>1</li><li>1</li><li>1</li><li>1</li><li>1</li><li>1</li><li>1</li><li>1</li><li>1</li><li>1</li><li>1</li><li>1</li><li>1</li></ol>\n"
      ],
      "text/latex": [
       "\\begin{enumerate*}\n",
       "\\item 0\n",
       "\\item 0\n",
       "\\item 0\n",
       "\\item 0\n",
       "\\item 0\n",
       "\\item 0\n",
       "\\item 0\n",
       "\\item 0\n",
       "\\item 0\n",
       "\\item 0\n",
       "\\item 0\n",
       "\\item 0\n",
       "\\item 0\n",
       "\\item 0\n",
       "\\item 0\n",
       "\\item 0\n",
       "\\item 0\n",
       "\\item 0\n",
       "\\item 0\n",
       "\\item 0\n",
       "\\item 0\n",
       "\\item 0\n",
       "\\item 0\n",
       "\\item 0\n",
       "\\item 0\n",
       "\\item 0\n",
       "\\item 0\n",
       "\\item 0\n",
       "\\item 0\n",
       "\\item 0\n",
       "\\item 0\n",
       "\\item 0\n",
       "\\item 0\n",
       "\\item 0\n",
       "\\item 0\n",
       "\\item 0\n",
       "\\item 0\n",
       "\\item 0\n",
       "\\item 0\n",
       "\\item 0\n",
       "\\item 0\n",
       "\\item 0\n",
       "\\item 0\n",
       "\\item 0\n",
       "\\item 0\n",
       "\\item 0\n",
       "\\item 0\n",
       "\\item 0\n",
       "\\item 0\n",
       "\\item 0\n",
       "\\item 1\n",
       "\\item 1\n",
       "\\item 1\n",
       "\\item 1\n",
       "\\item 1\n",
       "\\item 1\n",
       "\\item 1\n",
       "\\item 1\n",
       "\\item 1\n",
       "\\item 1\n",
       "\\item 1\n",
       "\\item 1\n",
       "\\item 1\n",
       "\\item 1\n",
       "\\item 1\n",
       "\\item 1\n",
       "\\item 1\n",
       "\\item 1\n",
       "\\item 1\n",
       "\\item 1\n",
       "\\item 1\n",
       "\\item 1\n",
       "\\item 1\n",
       "\\item 1\n",
       "\\item 1\n",
       "\\item 1\n",
       "\\item 1\n",
       "\\item 1\n",
       "\\item 1\n",
       "\\item 1\n",
       "\\item 1\n",
       "\\item 1\n",
       "\\item 1\n",
       "\\item 1\n",
       "\\item 1\n",
       "\\item 1\n",
       "\\item 1\n",
       "\\item 1\n",
       "\\item 1\n",
       "\\item 1\n",
       "\\item 1\n",
       "\\item 1\n",
       "\\item 1\n",
       "\\item 1\n",
       "\\item 1\n",
       "\\item 1\n",
       "\\item 1\n",
       "\\item 1\n",
       "\\item 1\n",
       "\\item 1\n",
       "\\end{enumerate*}\n"
      ],
      "text/markdown": [
       "1. 0\n",
       "2. 0\n",
       "3. 0\n",
       "4. 0\n",
       "5. 0\n",
       "6. 0\n",
       "7. 0\n",
       "8. 0\n",
       "9. 0\n",
       "10. 0\n",
       "11. 0\n",
       "12. 0\n",
       "13. 0\n",
       "14. 0\n",
       "15. 0\n",
       "16. 0\n",
       "17. 0\n",
       "18. 0\n",
       "19. 0\n",
       "20. 0\n",
       "21. 0\n",
       "22. 0\n",
       "23. 0\n",
       "24. 0\n",
       "25. 0\n",
       "26. 0\n",
       "27. 0\n",
       "28. 0\n",
       "29. 0\n",
       "30. 0\n",
       "31. 0\n",
       "32. 0\n",
       "33. 0\n",
       "34. 0\n",
       "35. 0\n",
       "36. 0\n",
       "37. 0\n",
       "38. 0\n",
       "39. 0\n",
       "40. 0\n",
       "41. 0\n",
       "42. 0\n",
       "43. 0\n",
       "44. 0\n",
       "45. 0\n",
       "46. 0\n",
       "47. 0\n",
       "48. 0\n",
       "49. 0\n",
       "50. 0\n",
       "51. 1\n",
       "52. 1\n",
       "53. 1\n",
       "54. 1\n",
       "55. 1\n",
       "56. 1\n",
       "57. 1\n",
       "58. 1\n",
       "59. 1\n",
       "60. 1\n",
       "61. 1\n",
       "62. 1\n",
       "63. 1\n",
       "64. 1\n",
       "65. 1\n",
       "66. 1\n",
       "67. 1\n",
       "68. 1\n",
       "69. 1\n",
       "70. 1\n",
       "71. 1\n",
       "72. 1\n",
       "73. 1\n",
       "74. 1\n",
       "75. 1\n",
       "76. 1\n",
       "77. 1\n",
       "78. 1\n",
       "79. 1\n",
       "80. 1\n",
       "81. 1\n",
       "82. 1\n",
       "83. 1\n",
       "84. 1\n",
       "85. 1\n",
       "86. 1\n",
       "87. 1\n",
       "88. 1\n",
       "89. 1\n",
       "90. 1\n",
       "91. 1\n",
       "92. 1\n",
       "93. 1\n",
       "94. 1\n",
       "95. 1\n",
       "96. 1\n",
       "97. 1\n",
       "98. 1\n",
       "99. 1\n",
       "100. 1\n",
       "\n",
       "\n"
      ],
      "text/plain": [
       "  [1] 0 0 0 0 0 0 0 0 0 0 0 0 0 0 0 0 0 0 0 0 0 0 0 0 0 0 0 0 0 0 0 0 0 0 0 0 0\n",
       " [38] 0 0 0 0 0 0 0 0 0 0 0 0 0 1 1 1 1 1 1 1 1 1 1 1 1 1 1 1 1 1 1 1 1 1 1 1 1\n",
       " [75] 1 1 1 1 1 1 1 1 1 1 1 1 1 1 1 1 1 1 1 1 1 1 1 1 1 1"
      ]
     },
     "metadata": {},
     "output_type": "display_data"
    }
   ],
   "source": [
    "# define prior\n",
    "# (prior <- as.numeric(p_grid > 0.5))\n",
    "(prior <- ifelse( p_grid < 0.5 , 0 , 1 ))"
   ]
  },
  {
   "cell_type": "code",
   "execution_count": 39,
   "metadata": {
    "ExecuteTime": {
     "end_time": "2020-04-30T18:51:35.693159Z",
     "start_time": "2020-04-30T18:51:35.641Z"
    },
    "hidden": true
   },
   "outputs": [],
   "source": [
    "# likelihoods\n",
    "waters <- list(3,3,5)\n",
    "trials <- list(3,4,7)\n",
    "ll <- map2(waters, trials, dbinom, prob=p_grid)"
   ]
  },
  {
   "cell_type": "code",
   "execution_count": 40,
   "metadata": {
    "ExecuteTime": {
     "end_time": "2020-04-30T18:51:35.994941Z",
     "start_time": "2020-04-30T18:51:35.950Z"
    },
    "hidden": true
   },
   "outputs": [],
   "source": [
    "# compute product of likelihood and prior\n",
    "unstd.posterior <- map(ll, function(ll) ll*prior)"
   ]
  },
  {
   "cell_type": "code",
   "execution_count": 41,
   "metadata": {
    "ExecuteTime": {
     "end_time": "2020-04-30T18:51:36.317735Z",
     "start_time": "2020-04-30T18:51:36.276Z"
    },
    "hidden": true
   },
   "outputs": [],
   "source": [
    "# compute product of likelihood and prior\n",
    "posterior <- map(unstd.posterior, function(unstd.posterior) unstd.posterior/sum(unstd.posterior))"
   ]
  },
  {
   "cell_type": "code",
   "execution_count": 43,
   "metadata": {
    "ExecuteTime": {
     "end_time": "2020-04-30T18:51:45.180092Z",
     "start_time": "2020-04-30T18:51:44.969Z"
    },
    "collapsed": true,
    "hidden": true
   },
   "outputs": [
    {
     "data": {
      "image/png": "[encoded data removed]",
      "text/plain": [
       "plot without title"
      ]
     },
     "metadata": {
      "image/png": {
       "height": 420,
       "width": 420
      }
     },
     "output_type": "display_data"
    },
    {
     "data": {
      "image/png": "[encoded data removed]",
      "text/plain": [
       "plot without title"
      ]
     },
     "metadata": {
      "image/png": {
       "height": 420,
       "width": 420
      }
     },
     "output_type": "display_data"
    },
    {
     "data": {
      "image/png": "[encoded data removed]",
      "text/plain": [
       "plot without title"
      ]
     },
     "metadata": {
      "image/png": {
       "height": 420,
       "width": 420
      }
     },
     "output_type": "display_data"
    }
   ],
   "source": [
    "for (i in seq_along(posterior)){\n",
    "    plot(p_grid, posterior[[i]], type=\"l\",\n",
    "        xlab=\"probability of water\" , ylab=\"posterior probability\" )\n",
    "    mtext( \"20 points\" )\n",
    "}"
   ]
  },
  {
   "cell_type": "code",
   "execution_count": 49,
   "metadata": {
    "ExecuteTime": {
     "end_time": "2020-05-01T19:43:33.535732Z",
     "start_time": "2020-05-01T19:43:32.781Z"
    },
    "hidden": true
   },
   "outputs": [
    {
     "data": {
      "image/png": "[encoded data removed]"
     },
     "metadata": {
      "image/png": {
       "height": 420,
       "width": 420
      }
     },
     "output_type": "display_data"
    },
    {
     "data": {
      "image/png": "[encoded data removed]"
     },
     "metadata": {
      "image/png": {
       "height": 420,
       "width": 420
      }
     },
     "output_type": "display_data"
    },
    {
     "data": {
      "image/png": "[encoded data removed]"
     },
     "metadata": {
      "image/png": {
       "height": 420,
       "width": 420
      }
     },
     "output_type": "display_data"
    }
   ],
   "source": [
    "tvec <- c(\"Treatment\", \"Time Dummy\", \"test\")\n",
    "\n",
    "for (i in seq_along(posterior)){\n",
    "    plot(p_grid, posterior[[i]], type=\"l\",\n",
    "        xlab=\"probability of water\" , ylab=\"posterior probability\",\n",
    "        main=substitute(paste('Data:', list(a=tvec[i]))))\n",
    "    mtext( \"20 points\" )\n",
    "}"
   ]
  },
  {
   "cell_type": "code",
   "execution_count": null,
   "metadata": {
    "hidden": true
   },
   "outputs": [],
   "source": [
    "tvec <- c(\"Treatment\", \"Time Dummy\")\n",
    "\n",
    "par(mfrow=c(2,1))\n",
    "for(i in 1:2){\n",
    "    plot(density(beta[,i]), \n",
    "         main=substitute(paste('Density of ', beta[a]), list(a=tvec[i])))\n",
    "    }"
   ]
  },
  {
   "cell_type": "markdown",
   "metadata": {
    "heading_collapsed": true,
    "hidden": true
   },
   "source": [
    "##### 2M3. Suppose there are two globes, one for Earth and one for Mars. "
   ]
  },
  {
   "cell_type": "markdown",
   "metadata": {
    "hidden": true
   },
   "source": [
    "<font color = 'purple'>The Earth globe is 70% covered in water. The Mars globe is 100% land. \n",
    "\n",
    "Further suppose that one of these globes—you don’t know which—was tossed in the air and produced a “land” observation. \n",
    "<br><br>\n",
    "Assume that each globe was equally likely to be tossed. \n",
    "\n",
    "Show that the posterior probability that the globe was the Earth, conditional on seeing “land” (Pr(Earth|land)), is 0.23. </font>"
   ]
  },
  {
   "cell_type": "markdown",
   "metadata": {
    "hidden": true
   },
   "source": [
    "See C2.4 Pg 36"
   ]
  },
  {
   "cell_type": "raw",
   "metadata": {
    "hidden": true
   },
   "source": [
    "# Given\n",
    "\n",
    "P(land|Earth) = 0.3\n",
    "P(land|Mars)  = 1\n",
    "P(Earth)      = 0.5\n",
    "P(Mars)       = 0.5\n",
    "\n",
    "# Find\n",
    "\n",
    "P(Earth|land)"
   ]
  },
  {
   "cell_type": "raw",
   "metadata": {
    "hidden": true
   },
   "source": [
    "p(land) = 0.5*P(Earth) + 0.5*P(Mars)\n",
    "p(land) = 0.5*0.3 + 0.5*1 # probability of land\n",
    "p(land) = 0.65"
   ]
  },
  {
   "cell_type": "raw",
   "metadata": {
    "ExecuteTime": {
     "end_time": "2020-04-30T21:02:55.795868Z",
     "start_time": "2020-04-30T21:02:55.729Z"
    },
    "hidden": true
   },
   "source": [
    "p(Earth, Land) = P(land|Earth)P(Earth)"
   ]
  },
  {
   "cell_type": "raw",
   "metadata": {
    "hidden": true
   },
   "source": [
    "p(Earth, Land) = P(Earth|land)P(land)"
   ]
  },
  {
   "cell_type": "markdown",
   "metadata": {
    "hidden": true
   },
   "source": [
    "All I’ve done is reverse which probability is conditional, on the right-hand side. It is still a true definition. It’s like saying that the probability of rain and cold on the same day is equal to the probability that it’s cold, when it’s raining, times the probability of rain. "
   ]
  },
  {
   "cell_type": "code",
   "execution_count": 47,
   "metadata": {
    "ExecuteTime": {
     "end_time": "2020-04-30T21:05:58.220974Z",
     "start_time": "2020-04-30T21:05:58.146Z"
    },
    "hidden": true
   },
   "outputs": [
    {
     "data": {
      "text/html": [
       "0.230769230769231"
      ],
      "text/latex": [
       "0.230769230769231"
      ],
      "text/markdown": [
       "0.230769230769231"
      ],
      "text/plain": [
       "[1] 0.2307692"
      ]
     },
     "metadata": {},
     "output_type": "display_data"
    }
   ],
   "source": [
    "# P(Earth|land)P(land) = P(land|Earth)P(Earth)\n",
    "\n",
    "# P(Earth|land) = P(land|Earth)P(Earth)/P(land)\n",
    "(0.3*0.5)/(0.65)"
   ]
  },
  {
   "cell_type": "markdown",
   "metadata": {
    "hidden": true
   },
   "source": [
    "And there’s the answer, Pr(Earth|land) ≈ 0.23. \n",
    "\n",
    "<font color = 'blue'>You can think of this posterior probability as an updated prior</font>, of course. \n",
    "\n",
    "<font color = 'blue'>The prior probability was 0.5. Since there is more land coverage on Mars than on Earth, the posterior probability after observing land is smaller than the prior</font>."
   ]
  },
  {
   "cell_type": "markdown",
   "metadata": {
    "heading_collapsed": true,
    "hidden": true
   },
   "source": [
    "##### 2M4. Suppose you have a deck with only three cards. "
   ]
  },
  {
   "cell_type": "markdown",
   "metadata": {
    "hidden": true
   },
   "source": [
    "<font color = 'purple'>\n",
    "\n",
    "* Each card has two sides, and each side is either black or white. \n",
    "    \n",
    "    * One card has two black sides. \n",
    "    \n",
    "    * The second card has one black and one white side. \n",
    "    \n",
    "    * The third card has two white sides. \n",
    "\n",
    "    \n",
    "* Now suppose all three cards are placed in a bag and shuffled. \n",
    "    \n",
    "    \n",
    "* Someone reaches into the bag and pulls out a card and places it flat on a table. \n",
    "    \n",
    "    * A black side is shown facing up, but you don’t know the color of the side facing down. \n",
    "    \n",
    "<b>Show that the probability that the other side is also black is 2/3</b>. \n",
    "    \n",
    "Use the counting method (Section 2 of the chapter) to approach this problem. This means counting up the ways that each card could produce the observed data (a black side facing up on the table). \n",
    "\n",
    "\n",
    "</font>"
   ]
  },
  {
   "cell_type": "markdown",
   "metadata": {
    "hidden": true
   },
   "source": [
    "Third card (two white sides) isn't possible, therefore either card 1 or 2.\n",
    "\n",
    "Card 1 has 2 ways of producing the black side facing up.\n",
    "Card 2 only has 1 way of producing the black side facing up.\n",
    "\n",
    "Now in total, there are 3 ways to see a black side up. 2 of those ways come from the B/B card. The other comes from the B/W card. So 2 out of 3 ways are consistent with the other side of the card being black.\n",
    "\n",
    "Leaves 2/3 probability that the other side is also black.\n",
    "\n"
   ]
  },
  {
   "cell_type": "markdown",
   "metadata": {
    "heading_collapsed": true,
    "hidden": true
   },
   "source": [
    "###### SR Soln"
   ]
  },
  {
   "cell_type": "markdown",
   "metadata": {
    "hidden": true
   },
   "source": [
    "Label the three cards as (1) B/B, (2) B/W, and (3) W/W. Having observed a black (B) side face up on the table, the question is: How many ways could the other side also be black?\n",
    "\n",
    "<font color = 'blue'><b>First, count up all the ways each card could produce the observed black side</b></font>. \n",
    "\n",
    "* The first card is B/B, and so there are 2 ways is could produce a black side face up on the table. \n",
    "* The second card is B/W, so there is only 1 way it could show a black side up. \n",
    "* The final card is W/W, so it has zero ways to produce a black side up.\n",
    "\n",
    "Now in total, there are 3 ways to see a black side up. 2 of those ways come from the B/B card. The other comes from the B/W card. So 2 out of 3 ways are consistent with the other side of the card being black. The answer is 2/3."
   ]
  },
  {
   "cell_type": "markdown",
   "metadata": {
    "hidden": true
   },
   "source": [
    "##### 2M5. Now suppose there are four cards: B/B, B/W, W/W, and another B/B. \n",
    "\n",
    "Again suppose a card is drawn from the bag and a black side appears face up. Again calculate the probability that the other side is black."
   ]
  },
  {
   "cell_type": "raw",
   "metadata": {
    "hidden": true
   },
   "source": [
    "Ways to generate a card with a black side facing up\n",
    "4 ways from the B/B, B/B cards\n",
    "1 way  B/W card\n",
    "0 way  W/W card\n",
    "\n",
    "5 outcomes\n",
    "4 of 5 outcomes = black card\n",
    "\n",
    "Therefore 4/5 probability otherside is black"
   ]
  },
  {
   "cell_type": "markdown",
   "metadata": {
    "hidden": true
   },
   "source": [
    "With the extra B/B card, there are now 5 ways to see a black card face up: 2 from the first B/B\n",
    "card, 1 from the B/W card, and 2 more from the other B/B card. \n",
    "\n",
    "4 of these ways are consistent with a B/B card, so the probability is now 4/5 that the other side of the card is also black."
   ]
  },
  {
   "cell_type": "markdown",
   "metadata": {
    "heading_collapsed": true,
    "hidden": true
   },
   "source": [
    "##### 2M6. Imagine that black ink is heavy, and so cards with black sides are heavier than cards with white sides. \n",
    "\n",
    "* As a result, it’s less likely that a card with black sides is pulled from the bag. \n",
    "\n",
    "So again assume there are three cards: B/B, B/W, and W/W. \n",
    "\n",
    "* After experimenting a number of times, you conclude that for every way to pull the B/B card from the bag, there are 2 ways to pull the B/W card and 3 ways to pull the W/W card. \n",
    "\n",
    "Again suppose that a card is pulled and a black side appears face up. \n",
    "\n",
    "* Show that the probability the other side is black is now 0.5. Use the counting method, as before."
   ]
  },
  {
   "cell_type": "raw",
   "metadata": {
    "hidden": true
   },
   "source": [
    "B/B = 2 ways to pull a black card\n",
    "B/W = 2 relative ways to pull a black card bc white side is lighter\n",
    "W/W = 0 ways to pull a black card\n",
    "\n",
    "2/4 -> 2 out of 4 possible outcomes are black."
   ]
  },
  {
   "cell_type": "markdown",
   "metadata": {
    "hidden": true
   },
   "source": [
    "This problem introduces uneven numbers of ways to draw each card from the bag. So while in the two previous problems we could treat each card as equally likely, prior to the observation, now we need to employ the prior odds explicitly.\n",
    "\n",
    "* There are still 2 ways for B/B to produce a black side up, 1 way for B/W, and zero ways for W/W. \n",
    "\n",
    "\n",
    "* But now there is 1 way to get the B/B card, 2 ways to get the B/W card, and 3 ways to get the W/W card. So there are, in total, 1 × 2 = 2 ways for the B/B card to produce a black side up and 2 × 1 = 2 ways for the B/W card to produce a black side up. \n",
    "\n",
    "<font color = 'blue'>This means there are 4 ways total to see a black side up, and 2 of these are from the B/B card. 2/4 ways means probability 0.5.</font>"
   ]
  },
  {
   "cell_type": "markdown",
   "metadata": {
    "heading_collapsed": true,
    "hidden": true
   },
   "source": [
    "##### 2M7. Assume again the original card problem, with a single card showing a black side face up. \n",
    "\n",
    "Before looking at the other side, we draw another card from the bag and lay it face up on the table. The face that is shown on the new card is white. \n",
    "\n",
    "Show that the probability that the first card, the one showing a black side, has black on its other side is now 0.75. Use the counting method, if you can. \n",
    "\n",
    "Hint: Treat this like the sequence of globe tosses, counting all the ways to see each observation, for each possible first card."
   ]
  },
  {
   "cell_type": "markdown",
   "metadata": {
    "hidden": true
   },
   "source": [
    "\n",
    "b1/b2 w/b\n",
    "b1/b2 w1/w2 # duplicate for the otherside \n",
    "b1/b2 w2/w1\n",
    "\n",
    "b2/b1 w/b\n",
    "b2/b1 w1/w2\n",
    "b2/b1 w2/w1\n",
    "\n",
    "b/w w1/w2\n",
    "b/w w2/w1\n",
    "\n",
    "\n",
    "6/8 possible first cards will have black on the other side = 1/4 = 0.75\n",
    "\n",
    " \n"
   ]
  },
  {
   "cell_type": "markdown",
   "metadata": {
    "hidden": true
   },
   "source": [
    "The observation is now the sequence: black side up then white side up. We’re still interested in\n",
    "the probability the other side of the first card is black. Let’s take each possible card in turn.\n",
    "First the B/B card. There are 2 ways for it to produce the first observation, the black side up. This\n",
    "leaves the B/W card and W/W card to produce the next observation. Each card is equally likely (has\n",
    "same number of ways to get drawn from the bag). But the B/W card has only 1 way to produce a\n",
    "white side up, while the W/W card has 2 ways. So 3 ways in total to get the second card to show white\n",
    "side up. All together, assuming the first card is B/B, there are 2 × 3 = 6 ways to see the BW sequence\n",
    "of sides up.\n",
    "\n",
    "Now consider the B/W card being drawn first. There is 1 way for it to show black side up. This\n",
    "leaves the B/B and W/W cards to produce the second side up. B/B cannot show white up, so zero\n",
    "ways there. W/W has 2 ways to show white up. All together, that’s 1 × 2 = 2 ways to see the sequence\n",
    "BW, when the first card is B/W.\n",
    "\n",
    "The final card, W/W, cannot produce the sequence when drawn first. So zero ways.\n",
    "Now let’s bring it all together. Among all three cards, there are 6 + 2 = 8 ways to produce the\n",
    "sequence BW. 6 of these are from the B/B being drawn first. So that’s 6/8 = 0.75 probability that the\n",
    "first card is B/B."
   ]
  },
  {
   "cell_type": "markdown",
   "metadata": {
    "heading_collapsed": true
   },
   "source": [
    "## Hard"
   ]
  },
  {
   "cell_type": "markdown",
   "metadata": {
    "heading_collapsed": true,
    "hidden": true
   },
   "source": [
    "##### 2H1. Suppose there are two species of panda bear. \n",
    "\n",
    "Both are equally common in the wild and live\n",
    "in the same places. They look exactly alike and eat the same food, and there is yet no genetic assay\n",
    "capable of telling them apart. \n",
    "\n",
    "They differ however in their family sizes. \n",
    "\n",
    "* Species A gives birth to twins 10% of the time, otherwise birthing a single infant. \n",
    "\n",
    "* Species B births twins 20% of the time, otherwise birthing singleton infants.\n",
    "\n",
    "Assume these numbers are known with certainty, from many years of field\n",
    "research.\n",
    "\n",
    "\n",
    "Now suppose you are managing a captive panda breeding program. <font color = 'purple'>You have a new female panda\n",
    "of unknown species, and she has just given birth to twins </font>. What is the probability that her next birth\n",
    "will also be twins?"
   ]
  },
  {
   "cell_type": "markdown",
   "metadata": {
    "heading_collapsed": true,
    "hidden": true
   },
   "source": [
    "###### <b><font color = 'grey'>Rough</font></b>"
   ]
  },
  {
   "cell_type": "code",
   "execution_count": null,
   "metadata": {
    "hidden": true
   },
   "outputs": [],
   "source": [
    "PrA <- 0.5\n",
    "PrB <- 0.5\n",
    "\n",
    "pr"
   ]
  },
  {
   "cell_type": "raw",
   "metadata": {
    "hidden": true
   },
   "source": [
    "Pr(A n B) = PrA*Pr(B|A)\n",
    "Pr(A n B) = PrB*Pr(A|B)\n",
    "\n",
    "Pr(Twins|A)\n",
    "Pr(Twins|B)\n",
    "\n",
    "Pr(A!Twins)\n",
    "Pr(B!Twins)\n",
    "\n",
    "Pr\n"
   ]
  },
  {
   "cell_type": "raw",
   "metadata": {
    "hidden": true
   },
   "source": [
    "pr(Twins|Twins)"
   ]
  },
  {
   "cell_type": "markdown",
   "metadata": {
    "heading_collapsed": true,
    "hidden": true
   },
   "source": [
    "###### <b><font color = 'grey'>McElreath Soln</font></b>"
   ]
  },
  {
   "cell_type": "markdown",
   "metadata": {
    "hidden": true
   },
   "source": [
    "2H1. To solve this problem, realize first that it is asking for a conditional probability:\n",
    "\n",
    "$Pr(\\text{twins}_2|\\text{twins}_1)$"
   ]
  },
  {
   "cell_type": "markdown",
   "metadata": {
    "hidden": true
   },
   "source": [
    "the probability the second birth is twins, conditional on the first birth being twins. \n",
    "\n",
    "Remember the\n",
    "definition of conditional probability:\n",
    "\n",
    "$Pr(\\text{twins}_2|\\text{twins}_1) = \\frac{Pr(\\text{twins}_2, \\text{twins}_1)}{Pr(\\text{twins})}$"
   ]
  },
  {
   "cell_type": "raw",
   "metadata": {
    "hidden": true
   },
   "source": [
    "Pr(twins2,twins1) = Pr(twins1)Pr(twins2|twins1)\n",
    "Pr(twins2,twins1) = Pr(twins2)Pr(twins1|twins2)\n",
    "Pr(twins2|twins1) = Pr(twins2,twins1)/Pr(twins1 "
   ]
  },
  {
   "cell_type": "markdown",
   "metadata": {
    "hidden": true
   },
   "source": [
    "So our job is to define \n",
    "* Pr(twins1, twins2), the joint probability that both births are twins, and \n",
    "* Pr(twins), the unconditioned probability of twins.\n",
    "\n",
    "<font color = 'purple'><b>Pr(twins) is easier, so let’s do that one first</b>. \n",
    "\n",
    "</font> <font color = 'blue'>The “unconditioned” probability just means that we have to average over the possibilities.</font> In this case, that means the species have to averaged over. \n",
    "\n",
    "The problem implies that both species are equally common, so there’s a half chance that any given panda\n",
    "is of either species. This gives us:"
   ]
  },
  {
   "cell_type": "raw",
   "metadata": {
    "hidden": true
   },
   "source": [
    "Pr(twins) = 1/2 * Pr(Twins|Species A) + 1/2 * Pr(Twins|Species B)\n",
    "Pr(twins) = (0.5)(0.1) + (0.5)(0.2) = 0.15"
   ]
  },
  {
   "cell_type": "markdown",
   "metadata": {
    "hidden": true
   },
   "source": [
    "A little arithmetic tells us that Pr(twins) = 0.15.\n",
    "\n",
    "<b><font color = 'purple'>Now for Pr(twins1, twins2). </font></b> \n",
    "* The probability that a female from species A has two sets of twins is 0.1 × 0.1 = 0.01. \n",
    "* The corresponding probability for species B is 0.2 × 0.2 = 0.04. \n",
    "\n",
    "Averaging over species identity:\n"
   ]
  },
  {
   "cell_type": "raw",
   "metadata": {
    "hidden": true
   },
   "source": [
    "Pr(twins1,twins2) = 1/2(0.01) + 1/2(0.04) = 0.025"
   ]
  },
  {
   "cell_type": "markdown",
   "metadata": {
    "hidden": true
   },
   "source": [
    "<b><font color = 'purple'>Finally, we combine these probabilities to get the answer: </font></b>"
   ]
  },
  {
   "cell_type": "markdown",
   "metadata": {
    "hidden": true
   },
   "source": [
    "\n",
    "$Pr(\\text{twins}_2|\\text{twins}_1) = \\frac{Pr(\\text{twins}_2, \\text{twins}_1)}{Pr(\\text{twins})}$"
   ]
  },
  {
   "cell_type": "raw",
   "metadata": {
    "hidden": true
   },
   "source": [
    "Pr(twins2|twins1) = 0.025/0.15 = 25/150 = 1/6 = 0.17"
   ]
  },
  {
   "cell_type": "markdown",
   "metadata": {
    "hidden": true
   },
   "source": [
    "<font color = 'blue'>Note that this is higher than Pr(twins)</font>. \n",
    "\n",
    "* This is because the first set of twins provides some information about which species we have, and this information was automatically used in the calculation.\n"
   ]
  },
  {
   "cell_type": "markdown",
   "metadata": {
    "heading_collapsed": true,
    "hidden": true
   },
   "source": [
    "##### 2H2. Recall all the facts from the problem above. \n",
    "\n",
    "Now compute the probability that the panda we have is from species A, <font color = 'purple'>assuming we have observed only the first birth and that it was twins </font>."
   ]
  },
  {
   "cell_type": "markdown",
   "metadata": {
    "heading_collapsed": true,
    "hidden": true
   },
   "source": [
    "###### <font color = 'grey'>My soln</font>"
   ]
  },
  {
   "cell_type": "markdown",
   "metadata": {
    "hidden": true
   },
   "source": [
    "Pr(A,twins1) = Pr(twins1) * Pr(A|twins1)\n",
    "Pr(A|twins1) = Pr(A,twins1)/Pr(twins1)"
   ]
  },
  {
   "cell_type": "markdown",
   "metadata": {
    "hidden": true
   },
   "source": [
    "Pr(twins1) = 1/2 * Pr(Twins|Species A) + 1/2 * Pr(Twins|Species B)\n",
    "Pr(twins1) = (0.5)(0.1) + (0.5)(0.2) = 0.15"
   ]
  },
  {
   "cell_type": "raw",
   "metadata": {
    "hidden": true
   },
   "source": [
    "Pr(A,twins1) = Pr(A)*Pr(twins1|A)\n",
    "Pr(A,twins1) = 0.5*0.1 = 0.05"
   ]
  },
  {
   "cell_type": "markdown",
   "metadata": {
    "hidden": true
   },
   "source": [
    "Pr(A|twins1) = Pr(A,twins1)/Pr(twins1)\n",
    "Pr(A|twins1) = 0.05/0.15 = 1/3"
   ]
  },
  {
   "cell_type": "markdown",
   "metadata": {
    "hidden": true
   },
   "source": [
    "<img src='pics/HR_strings42.png' alt='Drawing' style='width:425pt'/>"
   ]
  },
  {
   "cell_type": "markdown",
   "metadata": {
    "hidden": true
   },
   "source": [
    "##### 2H3. Continuing on from the previous problem, suppose the same panda mother has a second birth and that it is not twins, but a singleton infant. \n",
    "\n",
    "Compute the posterior probability that this panda is species A\n",
    "* i.e., find Pr(A|no_twins2)"
   ]
  },
  {
   "cell_type": "markdown",
   "metadata": {
    "hidden": true
   },
   "source": [
    "###### <b><font color = 'grey'>McElreath </font></b>"
   ]
  },
  {
   "cell_type": "markdown",
   "metadata": {
    "hidden": true
   },
   "source": [
    "<b><font color = 'purple'>The easiest is perhaps to recall that Bayes’ theorem accumulates evidence, using Bayesian updating.  </font></b>\n",
    "\n",
    "<font color = 'purple'>So we can take the posterior probabilities from the previous problem and use them as prior probabilities in this problem </font>. \n",
    "\n",
    "* This implies Pr(A) = 1/3. \n",
    "\n",
    "\n",
    "* Now we can ignore the first observation, the twins, and concern ourselves with only the latest observation, the singleton birth. \n",
    "\n",
    "\n",
    "* The previous observation is embodied in the prior, so there’s no need to account for it again."
   ]
  },
  {
   "cell_type": "markdown",
   "metadata": {
    "hidden": true
   },
   "source": [
    "<b><font color = 'purple'>The formula is: </font></b>\n",
    "\n",
    "$Pr(A|singleton) = \\frac{Pr(singleton|A)Pr(A)}{Pr(singleton)}$"
   ]
  },
  {
   "cell_type": "markdown",
   "metadata": {
    "hidden": true
   },
   "source": [
    "We already have the prior, Pr(A). The other pieces are straightforward:\n",
    "\n",
    "Pr(singleton|A) = 1 − 0.1 = 0.9\n",
    "\n",
    "Pr(singleton) = Pr(singleton|A) Pr(A) + Pr(singleton|B) Pr(B)\n",
    "\n",
    "Pr(singleton) = (0.9)(1/3) + (0.8)(2/3) = 5/6"
   ]
  },
  {
   "cell_type": "markdown",
   "metadata": {
    "hidden": true
   },
   "source": [
    "<b><font color = 'purple'>Combining everything, we get: </font></b>\n",
    "\n",
    "$\n",
    "\\begin{align*} \n",
    "Pr(A|singleton) &= \\frac{Pr(singleton|A)Pr(A)}{Pr(singleton)}\\\\\n",
    "\\\\\n",
    "Pr(A|singleton) &= \\frac{0.9*1/3}{5/6} = 9/25 = 0.36\n",
    "\\end{align*} \n",
    "$\n",
    "\n"
   ]
  },
  {
   "cell_type": "markdown",
   "metadata": {
    "hidden": true
   },
   "source": [
    "This is a modest increase in posterior probability of species A, an increase from about 0.33 to 0.36.\n",
    "\n",
    "<b><font color = 'purple'>The other way to proceed is to go back to the original prior, Pr(A) = 0.5, before observed any births </font></b>. \n",
    "\n",
    "* Then you can treat both observations (twins, singleton) as data and update the original prior. \n",
    "\n",
    "I’m going to start abbreviating \n",
    "* “twins” as T and \n",
    "* “singleton” as S. \n",
    "    \n",
    "The formula:"
   ]
  },
  {
   "cell_type": "markdown",
   "metadata": {
    "hidden": true
   },
   "source": [
    "$Pr(A|T,S) = \\frac{Pr(T,S|A)Pr(A)}{Pr(T,S)}$"
   ]
  },
  {
   "cell_type": "markdown",
   "metadata": {
    "hidden": true
   },
   "source": [
    "Let’s start with the average likelihood, Pr(T, S), because it will force us to define the likelihoods anyway.\n",
    "\n",
    "$Pr(T, S) = Pr(T, S|A) Pr(A) + Pr(T, S|B) Pr(B)$\n",
    "\n",
    "I’ll go slowly through this, so I don’t lose anyone along the way. The first likelihood is just the probability a species A mother has twins and then a singleton:\n",
    "\n",
    "$Pr(T, S|A) = (0.1)(0.9) = 0.09$\n",
    "\n",
    "And the second likelihood is similar, but for species B:\n",
    "\n",
    "$Pr(T, S|B) = (0.2)(0.8) = 0.16$\n",
    "\n",
    "The priors are both 0.5, so all together:\n",
    "\n",
    "$Pr(T, S) = (0.09)(0.5) + (0.16)(0.5) = 1/8 = 0.125$\n",
    "\n",
    "We already have the likelihood needed for the numerator, so we can go to the final answer now:\n",
    "\n",
    "$P(A|T,S) = \\frac{(0.09)(0.5)}{0.125} = 0.36$\n",
    "\n",
    "Unsurprisingly, the same answer we got the other way."
   ]
  },
  {
   "cell_type": "markdown",
   "metadata": {
    "hidden": true
   },
   "source": [
    "##### 2H4. A common boast of Bayesian statisticians is that Bayesian inference makes it easy to use all of the data, even if the data are of different types.\n",
    "\n",
    "So suppose now that a veterinarian comes along who has a new genetic test that she claims can identify the species of our mother panda. But the test, like all tests, is imperfect. This is the information you have about the test:\n",
    "\n",
    "* The probability it correctly identifies a species A panda is 0.8. \n",
    "* The probability it correctly identifies a species B panda is 0.65.\n",
    "\n",
    "The vet administers the test to your panda and tells you that the test is positive for species A. \n",
    "\n",
    "* First ignore your previous information from the births and compute the posterior probability that your panda is species A. \n",
    "\n",
    "* Then redo your calculation, now using the birth data as well."
   ]
  },
  {
   "cell_type": "code",
   "execution_count": null,
   "metadata": {
    "hidden": true
   },
   "outputs": [],
   "source": [
    "# First ignore your previous information from the births and compute \n",
    "# the posterior probability that your panda is species A.\n",
    "\n",
    "Pr(A|test_A) = Pr(A, test_A)/Pr(test_A)\n",
    "\n",
    "Pr(A, test_A) = Pr(A)P(test_A|A)\n",
    "Pr(A, test_A) = (0.5)*(0.80) = 0.4\n",
    "\n",
    "Pr(test_A) = Pr(A)Pr(test_A|A) + Pr(B)Pr(test_A|B)\n",
    "Pr(test_A) = 0.5*0.8 + 0.5*0.35 = 0.575\n",
    "\n",
    "Pr(A|test_A) = 0.4/0.575 = 0.695652173913044"
   ]
  },
  {
   "cell_type": "code",
   "execution_count": null,
   "metadata": {
    "code_folding": [
     0
    ],
    "hidden": true
   },
   "outputs": [],
   "source": [
    "# rough\n",
    "Pr(A, test_A) = P(A)P(test_A|A)\n",
    "Pr(A, test_A) = P(test_A)P(A|test_A)"
   ]
  },
  {
   "cell_type": "raw",
   "metadata": {
    "hidden": true
   },
   "source": [
    "# redo your calculation, now using the birth data as well.\n",
    "\n",
    "Pr(A|test_A) = Pr(A, test_A)/Pr(test_A)\n",
    "\n",
    "Pr(A, test_A) = Pr(A)P(test_A|A)\n",
    "Pr(A, test_A) = 0.36*0.8 = 0.288\n",
    "\n",
    "Pr(test_A) = Pr(A)Pr(test_A|A) + Pr(B)Pr(test_A|B)\n",
    "Pr(test_A) = 0.36*0.8 + (1-0.36)*0.35 = 0.512\n",
    "\n",
    "Pr(A|test_A) = 0.288/0.512 = 0.5625\n"
   ]
  },
  {
   "cell_type": "code",
   "execution_count": null,
   "metadata": {
    "hidden": true
   },
   "outputs": [],
   "source": [
    "Pr(A|T,S) = Pr(A,T,S)/Pr(T,S)\n",
    "Pr(A|T,S) = Pr(A)Pr(T,S|A)/Pr(T,S)\n",
    "Pr(A|T,S) = (0.5*0.09)/0.125 = 0.36\n",
    "\n",
    "# rough\n",
    "Pr(T,S|A) = 0.10*0.9 = 0.09\n",
    "Pr(T,S)   = 0.5*(0.09) + 0.5*(0.2)*(0.8) = 0.125\n",
    "Pr(A,T,S) = Pr(A)Pr(T,S|A)\n",
    "Pr(A,T,S) = Pr(T,S)Pr(A|T,S)\n",
    "\n"
   ]
  },
  {
   "cell_type": "raw",
   "metadata": {
    "hidden": true
   },
   "source": [
    "Pr"
   ]
  }
 ],
 "metadata": {
  "hide_input": false,
  "kernelspec": {
   "display_name": "R",
   "language": "R",
   "name": "ir"
  },
  "language_info": {
   "codemirror_mode": "r",
   "file_extension": ".r",
   "mimetype": "text/x-r-source",
   "name": "R",
   "pygments_lexer": "r",
   "version": "3.6.3"
  },
  "toc": {
   "base_numbering": 1,
   "nav_menu": {},
   "number_sections": true,
   "sideBar": true,
   "skip_h1_title": false,
   "title_cell": "Table of Contents",
   "title_sidebar": "Contents",
   "toc_cell": true,
   "toc_position": {},
   "toc_section_display": true,
   "toc_window_display": false
  }
 },
 "nbformat": 4,
 "nbformat_minor": 4
}
