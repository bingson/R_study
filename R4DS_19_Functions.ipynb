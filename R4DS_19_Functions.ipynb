{
 "cells": [
  {
   "cell_type": "markdown",
   "metadata": {
    "toc": true
   },
   "source": [
    "<h1>Table of Contents<span class=\"tocSkip\"></span></h1>\n",
    "<div class=\"toc\"><ul class=\"toc-item\"><li><span><a href=\"#Functions\" data-toc-modified-id=\"Functions-1\"><span class=\"toc-item-num\">1&nbsp;&nbsp;</span>Functions</a></span><ul class=\"toc-item\"><li><span><a href=\"#Introduction\" data-toc-modified-id=\"Introduction-1.1\"><span class=\"toc-item-num\">1.1&nbsp;&nbsp;</span>Introduction</a></span></li><li><span><a href=\"#When-should-you-write-a-function?\" data-toc-modified-id=\"When-should-you-write-a-function?-1.2\"><span class=\"toc-item-num\">1.2&nbsp;&nbsp;</span>When should you write a function?</a></span><ul class=\"toc-item\"><li><span><a href=\"#Exercises\" data-toc-modified-id=\"Exercises-1.2.1\"><span class=\"toc-item-num\">1.2.1&nbsp;&nbsp;</span>Exercises</a></span></li></ul></li><li><span><a href=\"#Functions-are-for-humans-and-computers\" data-toc-modified-id=\"Functions-are-for-humans-and-computers-1.3\"><span class=\"toc-item-num\">1.3&nbsp;&nbsp;</span>Functions are for humans and computers</a></span></li><li><span><a href=\"#Conditional-execution\" data-toc-modified-id=\"Conditional-execution-1.4\"><span class=\"toc-item-num\">1.4&nbsp;&nbsp;</span>Conditional execution</a></span><ul class=\"toc-item\"><li><span><a href=\"#Conditions\" data-toc-modified-id=\"Conditions-1.4.1\"><span class=\"toc-item-num\">1.4.1&nbsp;&nbsp;</span>Conditions</a></span></li><li><span><a href=\"#Multiple-conditions\" data-toc-modified-id=\"Multiple-conditions-1.4.2\"><span class=\"toc-item-num\">1.4.2&nbsp;&nbsp;</span>Multiple conditions</a></span></li><li><span><a href=\"#Code-style\" data-toc-modified-id=\"Code-style-1.4.3\"><span class=\"toc-item-num\">1.4.3&nbsp;&nbsp;</span>Code style</a></span></li><li><span><a href=\"#Exercises\" data-toc-modified-id=\"Exercises-1.4.4\"><span class=\"toc-item-num\">1.4.4&nbsp;&nbsp;</span>Exercises</a></span></li></ul></li><li><span><a href=\"#Function-arguments\" data-toc-modified-id=\"Function-arguments-1.5\"><span class=\"toc-item-num\">1.5&nbsp;&nbsp;</span>Function arguments</a></span><ul class=\"toc-item\"><li><span><a href=\"#Choosing-names\" data-toc-modified-id=\"Choosing-names-1.5.1\"><span class=\"toc-item-num\">1.5.1&nbsp;&nbsp;</span>Choosing names</a></span></li><li><span><a href=\"#Checking-values\" data-toc-modified-id=\"Checking-values-1.5.2\"><span class=\"toc-item-num\">1.5.2&nbsp;&nbsp;</span>Checking values</a></span></li><li><span><a href=\"#Dot-dot-dot-(…)\" data-toc-modified-id=\"Dot-dot-dot-(…)-1.5.3\"><span class=\"toc-item-num\">1.5.3&nbsp;&nbsp;</span>Dot-dot-dot (…)</a></span></li><li><span><a href=\"#Lazy-evaluation\" data-toc-modified-id=\"Lazy-evaluation-1.5.4\"><span class=\"toc-item-num\">1.5.4&nbsp;&nbsp;</span>Lazy evaluation</a></span></li><li><span><a href=\"#Exercises\" data-toc-modified-id=\"Exercises-1.5.5\"><span class=\"toc-item-num\">1.5.5&nbsp;&nbsp;</span>Exercises</a></span></li></ul></li><li><span><a href=\"#Return-values\" data-toc-modified-id=\"Return-values-1.6\"><span class=\"toc-item-num\">1.6&nbsp;&nbsp;</span>Return values</a></span><ul class=\"toc-item\"><li><span><a href=\"#Explicit-return-statements\" data-toc-modified-id=\"Explicit-return-statements-1.6.1\"><span class=\"toc-item-num\">1.6.1&nbsp;&nbsp;</span>Explicit return statements</a></span></li><li><span><a href=\"#Writing-pipeable-functions\" data-toc-modified-id=\"Writing-pipeable-functions-1.6.2\"><span class=\"toc-item-num\">1.6.2&nbsp;&nbsp;</span>Writing pipeable functions</a></span></li></ul></li><li><span><a href=\"#19.7-Environment\" data-toc-modified-id=\"19.7-Environment-1.7\"><span class=\"toc-item-num\">1.7&nbsp;&nbsp;</span>19.7 Environment</a></span></li></ul></li><li><span><a href=\"#Misc\" data-toc-modified-id=\"Misc-2\"><span class=\"toc-item-num\">2&nbsp;&nbsp;</span>Misc</a></span><ul class=\"toc-item\"><li><span><a href=\"#if-Statement-tests\" data-toc-modified-id=\"if-Statement-tests-2.1\"><span class=\"toc-item-num\">2.1&nbsp;&nbsp;</span>if Statement tests</a></span></li><li><span><a href=\"#coefficient-of-variation\" data-toc-modified-id=\"coefficient-of-variation-2.2\"><span class=\"toc-item-num\">2.2&nbsp;&nbsp;</span>coefficient of variation</a></span></li><li><span><a href=\"#<--vs-=\" data-toc-modified-id=\"<--vs-=-2.3\"><span class=\"toc-item-num\">2.3&nbsp;&nbsp;</span><code>&lt;-</code> vs <code>=</code></a></span></li></ul></li></ul></div>"
   ]
  },
  {
   "cell_type": "markdown",
   "metadata": {},
   "source": [
    "# Functions"
   ]
  },
  {
   "cell_type": "markdown",
   "metadata": {
    "heading_collapsed": true
   },
   "source": [
    "## Introduction"
   ]
  },
  {
   "cell_type": "code",
   "execution_count": 45,
   "metadata": {
    "ExecuteTime": {
     "end_time": "2020-02-18T22:37:01.849007Z",
     "start_time": "2020-02-18T22:37:01.806Z"
    },
    "hidden": true
   },
   "outputs": [],
   "source": [
    "library(\"tidyverse\") \n",
    "library(\"lubridate\")"
   ]
  },
  {
   "cell_type": "markdown",
   "metadata": {
    "heading_collapsed": true
   },
   "source": [
    "## When should you write a function?"
   ]
  },
  {
   "cell_type": "markdown",
   "metadata": {
    "heading_collapsed": true,
    "hidden": true
   },
   "source": [
    "##### Lesson"
   ]
  },
  {
   "cell_type": "code",
   "execution_count": 12,
   "metadata": {
    "ExecuteTime": {
     "end_time": "2020-02-18T15:15:25.916815Z",
     "start_time": "2020-02-18T15:15:25.836Z"
    },
    "hidden": true
   },
   "outputs": [
    {
     "data": {
      "text/html": [
       "<table>\n",
       "<caption>A tibble: 10 × 4</caption>\n",
       "<thead>\n",
       "\t<tr><th scope=col>a</th><th scope=col>b</th><th scope=col>c</th><th scope=col>d</th></tr>\n",
       "\t<tr><th scope=col>&lt;dbl&gt;</th><th scope=col>&lt;dbl&gt;</th><th scope=col>&lt;dbl&gt;</th><th scope=col>&lt;dbl&gt;</th></tr>\n",
       "</thead>\n",
       "<tbody>\n",
       "\t<tr><td>-0.70727585</td><td> 2.2873679</td><td> 0.2180760</td><td>-0.9841350</td></tr>\n",
       "\t<tr><td>-1.94735675</td><td> 0.1544186</td><td>-1.1326532</td><td>-0.6616863</td></tr>\n",
       "\t<tr><td> 0.24005890</td><td>-0.7985122</td><td> 0.1877958</td><td>-0.1256434</td></tr>\n",
       "\t<tr><td> 0.91151119</td><td>-0.9981054</td><td>-1.0898475</td><td>-1.2566147</td></tr>\n",
       "\t<tr><td>-0.72705392</td><td>-0.2202542</td><td>-0.3814160</td><td> 0.3566866</td></tr>\n",
       "\t<tr><td>-0.84397120</td><td> 0.5472858</td><td>-0.7108496</td><td>-1.0527283</td></tr>\n",
       "\t<tr><td>-1.01912688</td><td> 1.0151556</td><td> 0.8190973</td><td> 1.2492442</td></tr>\n",
       "\t<tr><td> 0.13310269</td><td>-0.8120400</td><td>-1.2878247</td><td>-0.4719801</td></tr>\n",
       "\t<tr><td>-0.02406785</td><td>-0.7890237</td><td>-0.1999050</td><td>-0.7323979</td></tr>\n",
       "\t<tr><td> 0.49079599</td><td>-0.7111946</td><td> 2.6819540</td><td> 0.9759647</td></tr>\n",
       "</tbody>\n",
       "</table>\n"
      ],
      "text/latex": [
       "A tibble: 10 × 4\n",
       "\\begin{tabular}{llll}\n",
       " a & b & c & d\\\\\n",
       " <dbl> & <dbl> & <dbl> & <dbl>\\\\\n",
       "\\hline\n",
       "\t -0.70727585 &  2.2873679 &  0.2180760 & -0.9841350\\\\\n",
       "\t -1.94735675 &  0.1544186 & -1.1326532 & -0.6616863\\\\\n",
       "\t  0.24005890 & -0.7985122 &  0.1877958 & -0.1256434\\\\\n",
       "\t  0.91151119 & -0.9981054 & -1.0898475 & -1.2566147\\\\\n",
       "\t -0.72705392 & -0.2202542 & -0.3814160 &  0.3566866\\\\\n",
       "\t -0.84397120 &  0.5472858 & -0.7108496 & -1.0527283\\\\\n",
       "\t -1.01912688 &  1.0151556 &  0.8190973 &  1.2492442\\\\\n",
       "\t  0.13310269 & -0.8120400 & -1.2878247 & -0.4719801\\\\\n",
       "\t -0.02406785 & -0.7890237 & -0.1999050 & -0.7323979\\\\\n",
       "\t  0.49079599 & -0.7111946 &  2.6819540 &  0.9759647\\\\\n",
       "\\end{tabular}\n"
      ],
      "text/markdown": [
       "\n",
       "A tibble: 10 × 4\n",
       "\n",
       "| a &lt;dbl&gt; | b &lt;dbl&gt; | c &lt;dbl&gt; | d &lt;dbl&gt; |\n",
       "|---|---|---|---|\n",
       "| -0.70727585 |  2.2873679 |  0.2180760 | -0.9841350 |\n",
       "| -1.94735675 |  0.1544186 | -1.1326532 | -0.6616863 |\n",
       "|  0.24005890 | -0.7985122 |  0.1877958 | -0.1256434 |\n",
       "|  0.91151119 | -0.9981054 | -1.0898475 | -1.2566147 |\n",
       "| -0.72705392 | -0.2202542 | -0.3814160 |  0.3566866 |\n",
       "| -0.84397120 |  0.5472858 | -0.7108496 | -1.0527283 |\n",
       "| -1.01912688 |  1.0151556 |  0.8190973 |  1.2492442 |\n",
       "|  0.13310269 | -0.8120400 | -1.2878247 | -0.4719801 |\n",
       "| -0.02406785 | -0.7890237 | -0.1999050 | -0.7323979 |\n",
       "|  0.49079599 | -0.7111946 |  2.6819540 |  0.9759647 |\n",
       "\n"
      ],
      "text/plain": [
       "   a           b          c          d         \n",
       "1  -0.70727585  2.2873679  0.2180760 -0.9841350\n",
       "2  -1.94735675  0.1544186 -1.1326532 -0.6616863\n",
       "3   0.24005890 -0.7985122  0.1877958 -0.1256434\n",
       "4   0.91151119 -0.9981054 -1.0898475 -1.2566147\n",
       "5  -0.72705392 -0.2202542 -0.3814160  0.3566866\n",
       "6  -0.84397120  0.5472858 -0.7108496 -1.0527283\n",
       "7  -1.01912688  1.0151556  0.8190973  1.2492442\n",
       "8   0.13310269 -0.8120400 -1.2878247 -0.4719801\n",
       "9  -0.02406785 -0.7890237 -0.1999050 -0.7323979\n",
       "10  0.49079599 -0.7111946  2.6819540  0.9759647"
      ]
     },
     "metadata": {},
     "output_type": "display_data"
    },
    {
     "data": {
      "text/plain": [
       "       a                 b                  c                  d          \n",
       " Min.   :-1.9474   Min.   :-0.99811   Min.   :-1.28782   Min.   :-1.2566  \n",
       " 1st Qu.:-0.8147   1st Qu.:-0.79614   1st Qu.:-0.99510   1st Qu.:-0.9212  \n",
       " Median :-0.3657   Median :-0.46572   Median :-0.29066   Median :-0.5668  \n",
       " Mean   :-0.3493   Mean   :-0.03249   Mean   :-0.08956   Mean   :-0.2703  \n",
       " 3rd Qu.: 0.2133   3rd Qu.: 0.44907   3rd Qu.: 0.21051   3rd Qu.: 0.2361  \n",
       " Max.   : 0.9115   Max.   : 2.28737   Max.   : 2.68195   Max.   : 1.2492  "
      ]
     },
     "metadata": {},
     "output_type": "display_data"
    }
   ],
   "source": [
    "df <- tibble::tibble(\n",
    "  a = rnorm(10),\n",
    "  b = rnorm(10),\n",
    "  c = rnorm(10),\n",
    "  d = rnorm(10)\n",
    ")\n",
    "df \n",
    "df %>% summary()"
   ]
  },
  {
   "cell_type": "code",
   "execution_count": 13,
   "metadata": {
    "ExecuteTime": {
     "end_time": "2020-02-18T15:15:26.388258Z",
     "start_time": "2020-02-18T15:15:26.312Z"
    },
    "hidden": true
   },
   "outputs": [
    {
     "data": {
      "text/html": [
       "<table>\n",
       "<caption>A tibble: 10 × 4</caption>\n",
       "<thead>\n",
       "\t<tr><th scope=col>a</th><th scope=col>b</th><th scope=col>c</th><th scope=col>d</th></tr>\n",
       "\t<tr><th scope=col>&lt;dbl&gt;</th><th scope=col>&lt;dbl&gt;</th><th scope=col>&lt;dbl&gt;</th><th scope=col>&lt;dbl&gt;</th></tr>\n",
       "</thead>\n",
       "<tbody>\n",
       "\t<tr><td>0.4337664</td><td>1.43635544</td><td>0.37934121</td><td>0.10873703</td></tr>\n",
       "\t<tr><td>0.0000000</td><td>0.50386474</td><td>0.03908821</td><td>0.23741496</td></tr>\n",
       "\t<tr><td>0.7651335</td><td>0.08725891</td><td>0.37171354</td><td>0.45133079</td></tr>\n",
       "\t<tr><td>1.0000000</td><td>0.00000000</td><td>0.04987110</td><td>0.00000000</td></tr>\n",
       "\t<tr><td>0.4268483</td><td>0.34006390</td><td>0.22832728</td><td>0.64381172</td></tr>\n",
       "\t<tr><td>0.3859519</td><td>0.67561986</td><td>0.14534187</td><td>0.08136386</td></tr>\n",
       "\t<tr><td>0.3246844</td><td>0.88016494</td><td>0.53074043</td><td>1.00000000</td></tr>\n",
       "\t<tr><td>0.7277214</td><td>0.08134479</td><td>0.00000000</td><td>0.31312003</td></tr>\n",
       "\t<tr><td>0.6727449</td><td>0.09140714</td><td>0.27405046</td><td>0.20919645</td></tr>\n",
       "\t<tr><td>0.8528385</td><td>0.12543273</td><td>1.00000000</td><td>0.89094377</td></tr>\n",
       "</tbody>\n",
       "</table>\n"
      ],
      "text/latex": [
       "A tibble: 10 × 4\n",
       "\\begin{tabular}{llll}\n",
       " a & b & c & d\\\\\n",
       " <dbl> & <dbl> & <dbl> & <dbl>\\\\\n",
       "\\hline\n",
       "\t 0.4337664 & 1.43635544 & 0.37934121 & 0.10873703\\\\\n",
       "\t 0.0000000 & 0.50386474 & 0.03908821 & 0.23741496\\\\\n",
       "\t 0.7651335 & 0.08725891 & 0.37171354 & 0.45133079\\\\\n",
       "\t 1.0000000 & 0.00000000 & 0.04987110 & 0.00000000\\\\\n",
       "\t 0.4268483 & 0.34006390 & 0.22832728 & 0.64381172\\\\\n",
       "\t 0.3859519 & 0.67561986 & 0.14534187 & 0.08136386\\\\\n",
       "\t 0.3246844 & 0.88016494 & 0.53074043 & 1.00000000\\\\\n",
       "\t 0.7277214 & 0.08134479 & 0.00000000 & 0.31312003\\\\\n",
       "\t 0.6727449 & 0.09140714 & 0.27405046 & 0.20919645\\\\\n",
       "\t 0.8528385 & 0.12543273 & 1.00000000 & 0.89094377\\\\\n",
       "\\end{tabular}\n"
      ],
      "text/markdown": [
       "\n",
       "A tibble: 10 × 4\n",
       "\n",
       "| a &lt;dbl&gt; | b &lt;dbl&gt; | c &lt;dbl&gt; | d &lt;dbl&gt; |\n",
       "|---|---|---|---|\n",
       "| 0.4337664 | 1.43635544 | 0.37934121 | 0.10873703 |\n",
       "| 0.0000000 | 0.50386474 | 0.03908821 | 0.23741496 |\n",
       "| 0.7651335 | 0.08725891 | 0.37171354 | 0.45133079 |\n",
       "| 1.0000000 | 0.00000000 | 0.04987110 | 0.00000000 |\n",
       "| 0.4268483 | 0.34006390 | 0.22832728 | 0.64381172 |\n",
       "| 0.3859519 | 0.67561986 | 0.14534187 | 0.08136386 |\n",
       "| 0.3246844 | 0.88016494 | 0.53074043 | 1.00000000 |\n",
       "| 0.7277214 | 0.08134479 | 0.00000000 | 0.31312003 |\n",
       "| 0.6727449 | 0.09140714 | 0.27405046 | 0.20919645 |\n",
       "| 0.8528385 | 0.12543273 | 1.00000000 | 0.89094377 |\n",
       "\n"
      ],
      "text/plain": [
       "   a         b          c          d         \n",
       "1  0.4337664 1.43635544 0.37934121 0.10873703\n",
       "2  0.0000000 0.50386474 0.03908821 0.23741496\n",
       "3  0.7651335 0.08725891 0.37171354 0.45133079\n",
       "4  1.0000000 0.00000000 0.04987110 0.00000000\n",
       "5  0.4268483 0.34006390 0.22832728 0.64381172\n",
       "6  0.3859519 0.67561986 0.14534187 0.08136386\n",
       "7  0.3246844 0.88016494 0.53074043 1.00000000\n",
       "8  0.7277214 0.08134479 0.00000000 0.31312003\n",
       "9  0.6727449 0.09140714 0.27405046 0.20919645\n",
       "10 0.8528385 0.12543273 1.00000000 0.89094377"
      ]
     },
     "metadata": {},
     "output_type": "display_data"
    },
    {
     "data": {
      "text/plain": [
       "       a                b                c                 d         \n",
       " Min.   :0.0000   Min.   :0.0000   Min.   :0.00000   Min.   :0.0000  \n",
       " 1st Qu.:0.3962   1st Qu.:0.0883   1st Qu.:0.07374   1st Qu.:0.1339  \n",
       " Median :0.5533   Median :0.2327   Median :0.25119   Median :0.2753  \n",
       " Mean   :0.5590   Mean   :0.4222   Mean   :0.30185   Mean   :0.3936  \n",
       " 3rd Qu.:0.7558   3rd Qu.:0.6327   3rd Qu.:0.37743   3rd Qu.:0.5957  \n",
       " Max.   :1.0000   Max.   :1.4364   Max.   :1.00000   Max.   :1.0000  "
      ]
     },
     "metadata": {},
     "output_type": "display_data"
    }
   ],
   "source": [
    "df$a <- (df$a - min(df$a, na.rm = TRUE)) / \n",
    "  (max(df$a, na.rm = TRUE) - min(df$a, na.rm = TRUE))\n",
    "df$b <- (df$b - min(df$b, na.rm = TRUE)) / \n",
    "  (max(df$b, na.rm = TRUE) - min(df$a, na.rm = TRUE))\n",
    "df$c <- (df$c - min(df$c, na.rm = TRUE)) / \n",
    "  (max(df$c, na.rm = TRUE) - min(df$c, na.rm = TRUE))\n",
    "df$d <- (df$d - min(df$d, na.rm = TRUE)) / \n",
    "  (max(df$d, na.rm = TRUE) - min(df$d, na.rm = TRUE))\n",
    "\n",
    "df\n",
    "df %>% summary()"
   ]
  },
  {
   "cell_type": "markdown",
   "metadata": {
    "hidden": true
   },
   "source": [
    "You might be able to puzzle out that this rescales each column to have a range from 0 to 1. But did you spot the mistake? I made an error when copying-and-pasting the code for `df$b`: I forgot to change an `a` to a `b`. Extracting repeated code out into a function is a good idea because it prevents you from making this type of mistake.\n",
    "\n",
    "To write a function you need to first analyse the code. How many inputs does it have?"
   ]
  },
  {
   "cell_type": "code",
   "execution_count": 14,
   "metadata": {
    "ExecuteTime": {
     "end_time": "2020-02-18T15:15:51.945941Z",
     "start_time": "2020-02-18T15:15:51.893Z"
    },
    "hidden": true
   },
   "outputs": [
    {
     "data": {
      "text/html": [
       "<style>\n",
       ".list-inline {list-style: none; margin:0; padding: 0}\n",
       ".list-inline>li {display: inline-block}\n",
       ".list-inline>li:not(:last-child)::after {content: \"\\00b7\"; padding: 0 .5ex}\n",
       "</style>\n",
       "<ol class=list-inline><li>0.433766416808041</li><li>0</li><li>0.765133503868112</li><li>1</li><li>0.426848269070498</li><li>0.385951912659223</li><li>0.324684417921003</li><li>0.727721421318316</li><li>0.672744925903089</li><li>0.852838531271765</li></ol>\n"
      ],
      "text/latex": [
       "\\begin{enumerate*}\n",
       "\\item 0.433766416808041\n",
       "\\item 0\n",
       "\\item 0.765133503868112\n",
       "\\item 1\n",
       "\\item 0.426848269070498\n",
       "\\item 0.385951912659223\n",
       "\\item 0.324684417921003\n",
       "\\item 0.727721421318316\n",
       "\\item 0.672744925903089\n",
       "\\item 0.852838531271765\n",
       "\\end{enumerate*}\n"
      ],
      "text/markdown": [
       "1. 0.433766416808041\n",
       "2. 0\n",
       "3. 0.765133503868112\n",
       "4. 1\n",
       "5. 0.426848269070498\n",
       "6. 0.385951912659223\n",
       "7. 0.324684417921003\n",
       "8. 0.727721421318316\n",
       "9. 0.672744925903089\n",
       "10. 0.852838531271765\n",
       "\n",
       "\n"
      ],
      "text/plain": [
       " [1] 0.4337664 0.0000000 0.7651335 1.0000000 0.4268483 0.3859519 0.3246844\n",
       " [8] 0.7277214 0.6727449 0.8528385"
      ]
     },
     "metadata": {},
     "output_type": "display_data"
    }
   ],
   "source": [
    "(df$a - min(df$a, na.rm = TRUE)) /\n",
    "  (max(df$a, na.rm = TRUE) - min(df$a, na.rm = TRUE))"
   ]
  },
  {
   "cell_type": "markdown",
   "metadata": {
    "hidden": true
   },
   "source": [
    "This code only has one input: `df$a`. (If you’re surprised that `TRUE` is not an input, you can explore why in the exercise below.) To make the inputs more clear, it’s a good idea to rewrite the code using temporary variables with general names. \n",
    "\n",
    "<b><font color = 'purple'>Here this code only requires a single numeric vector, so I’ll call it `x`: </font></b>"
   ]
  },
  {
   "cell_type": "code",
   "execution_count": 15,
   "metadata": {
    "ExecuteTime": {
     "end_time": "2020-02-18T15:16:21.438491Z",
     "start_time": "2020-02-18T15:16:21.380Z"
    },
    "hidden": true
   },
   "outputs": [
    {
     "data": {
      "text/html": [
       "<style>\n",
       ".list-inline {list-style: none; margin:0; padding: 0}\n",
       ".list-inline>li {display: inline-block}\n",
       ".list-inline>li:not(:last-child)::after {content: \"\\00b7\"; padding: 0 .5ex}\n",
       "</style>\n",
       "<ol class=list-inline><li>0.433766416808041</li><li>0</li><li>0.765133503868112</li><li>1</li><li>0.426848269070498</li><li>0.385951912659223</li><li>0.324684417921003</li><li>0.727721421318316</li><li>0.672744925903089</li><li>0.852838531271765</li></ol>\n"
      ],
      "text/latex": [
       "\\begin{enumerate*}\n",
       "\\item 0.433766416808041\n",
       "\\item 0\n",
       "\\item 0.765133503868112\n",
       "\\item 1\n",
       "\\item 0.426848269070498\n",
       "\\item 0.385951912659223\n",
       "\\item 0.324684417921003\n",
       "\\item 0.727721421318316\n",
       "\\item 0.672744925903089\n",
       "\\item 0.852838531271765\n",
       "\\end{enumerate*}\n"
      ],
      "text/markdown": [
       "1. 0.433766416808041\n",
       "2. 0\n",
       "3. 0.765133503868112\n",
       "4. 1\n",
       "5. 0.426848269070498\n",
       "6. 0.385951912659223\n",
       "7. 0.324684417921003\n",
       "8. 0.727721421318316\n",
       "9. 0.672744925903089\n",
       "10. 0.852838531271765\n",
       "\n",
       "\n"
      ],
      "text/plain": [
       " [1] 0.4337664 0.0000000 0.7651335 1.0000000 0.4268483 0.3859519 0.3246844\n",
       " [8] 0.7277214 0.6727449 0.8528385"
      ]
     },
     "metadata": {},
     "output_type": "display_data"
    }
   ],
   "source": [
    "x <- df$a\n",
    "(x - min(x, na.rm = TRUE)) / (max(x, na.rm = TRUE) - min(x, na.rm = TRUE))\n",
    "#>  [1] 0.289 0.751 0.000 0.678 0.853 1.000 0.172 0.611 0.612 0.601"
   ]
  },
  {
   "cell_type": "markdown",
   "metadata": {
    "hidden": true
   },
   "source": [
    "There is some duplication in this code. We’re computing the range of the data three times, so it makes sense to do it in one step:"
   ]
  },
  {
   "cell_type": "code",
   "execution_count": 9,
   "metadata": {
    "ExecuteTime": {
     "end_time": "2020-02-18T15:14:28.092879Z",
     "start_time": "2020-02-18T15:14:28.030Z"
    },
    "hidden": true
   },
   "outputs": [
    {
     "data": {
      "text/html": [
       "<style>\n",
       ".list-inline {list-style: none; margin:0; padding: 0}\n",
       ".list-inline>li {display: inline-block}\n",
       ".list-inline>li:not(:last-child)::after {content: \"\\00b7\"; padding: 0 .5ex}\n",
       "</style>\n",
       "<ol class=list-inline><li>0</li><li>0.73429140079405</li><li>0.451229202387472</li><li>0.632479261128018</li><li>0.31155016504343</li><li>0.578546511865199</li><li>0.496162872083214</li><li>0.243219703871044</li><li>1</li><li>0.440056206898076</li></ol>\n"
      ],
      "text/latex": [
       "\\begin{enumerate*}\n",
       "\\item 0\n",
       "\\item 0.73429140079405\n",
       "\\item 0.451229202387472\n",
       "\\item 0.632479261128018\n",
       "\\item 0.31155016504343\n",
       "\\item 0.578546511865199\n",
       "\\item 0.496162872083214\n",
       "\\item 0.243219703871044\n",
       "\\item 1\n",
       "\\item 0.440056206898076\n",
       "\\end{enumerate*}\n"
      ],
      "text/markdown": [
       "1. 0\n",
       "2. 0.73429140079405\n",
       "3. 0.451229202387472\n",
       "4. 0.632479261128018\n",
       "5. 0.31155016504343\n",
       "6. 0.578546511865199\n",
       "7. 0.496162872083214\n",
       "8. 0.243219703871044\n",
       "9. 1\n",
       "10. 0.440056206898076\n",
       "\n",
       "\n"
      ],
      "text/plain": [
       " [1] 0.0000000 0.7342914 0.4512292 0.6324793 0.3115502 0.5785465 0.4961629\n",
       " [8] 0.2432197 1.0000000 0.4400562"
      ]
     },
     "metadata": {},
     "output_type": "display_data"
    }
   ],
   "source": [
    "rng <- range(x, na.rm = TRUE)\n",
    "(x - rng[1]) / (rng[2] - rng[1])\n",
    "#>  [1] 0.289 0.751 0.000 0.678 0.853 1.000 0.172 0.611 0.612 0.601"
   ]
  },
  {
   "cell_type": "markdown",
   "metadata": {
    "hidden": true
   },
   "source": [
    "```range``` returns a 2-element vector containing the minimum and maximum of all the given arguments.\n",
    "\n",
    "<font color = 'blue'>Pulling out intermediate calculations into named variables is a good practice because it makes it more clear what the code is doing</font>. \n",
    "\n",
    "<b><font color = 'purple'>Now that I’ve simplified the code, and checked that it still works, I can turn it into a function:\n",
    " </font></b>"
   ]
  },
  {
   "cell_type": "code",
   "execution_count": 34,
   "metadata": {
    "ExecuteTime": {
     "end_time": "2020-02-18T15:52:17.364256Z",
     "start_time": "2020-02-18T15:52:17.302Z"
    },
    "hidden": true,
    "scrolled": true
   },
   "outputs": [
    {
     "data": {
      "text/html": [
       "<style>\n",
       ".list-inline {list-style: none; margin:0; padding: 0}\n",
       ".list-inline>li {display: inline-block}\n",
       ".list-inline>li:not(:last-child)::after {content: \"\\00b7\"; padding: 0 .5ex}\n",
       "</style>\n",
       "<ol class=list-inline><li>0</li><li>0.5</li><li>1</li></ol>\n"
      ],
      "text/latex": [
       "\\begin{enumerate*}\n",
       "\\item 0\n",
       "\\item 0.5\n",
       "\\item 1\n",
       "\\end{enumerate*}\n"
      ],
      "text/markdown": [
       "1. 0\n",
       "2. 0.5\n",
       "3. 1\n",
       "\n",
       "\n"
      ],
      "text/plain": [
       "[1] 0.0 0.5 1.0"
      ]
     },
     "metadata": {},
     "output_type": "display_data"
    }
   ],
   "source": [
    "rescale01 <- function(x) {\n",
    "  rng <- range(x, na.rm = TRUE)\n",
    "  (x - rng[1]) / (rng[2] - rng[1])\n",
    "}\n",
    "rescale01(c(0, 5, 10))\n",
    "#> [1] 0.0 0.5 1.0"
   ]
  },
  {
   "cell_type": "markdown",
   "metadata": {
    "hidden": true
   },
   "source": [
    "<font color = 'green'><b>There are three key steps to creating a new function:</b></font>\n",
    "\n",
    "1.  You need to pick a **name** for the function. Here I’ve used `rescale01`\n",
    "    because this function rescales a vector to lie between 0 and 1.\n",
    "\n",
    "\n",
    "2.  You list the inputs, or **arguments**, to the function inside `function(...)`.\n",
    "    Here we have just one argument. If we had more the call would look like\n",
    "    `function(x, y, z)`.\n",
    "\n",
    "\n",
    "3.  You place the code you have developed in **body** of the function, a\n",
    "    `{` block that immediately follows `function(...)`.\n",
    "\n",
    "Note the overall process: I only made the function after I’d figured out how to make it work with a simple input. <font color = 'blue'><b>It’s easier to start with working code and turn it into a function; it’s harder to create a function and then try to make it work.</b></font>\n",
    "\n",
    "At this point it’s a good idea to check your function with a few different inputs:"
   ]
  },
  {
   "cell_type": "code",
   "execution_count": 35,
   "metadata": {
    "ExecuteTime": {
     "end_time": "2020-02-18T16:09:22.913286Z",
     "start_time": "2020-02-18T16:09:22.816Z"
    },
    "hidden": true
   },
   "outputs": [
    {
     "data": {
      "text/html": [
       "<style>\n",
       ".list-inline {list-style: none; margin:0; padding: 0}\n",
       ".list-inline>li {display: inline-block}\n",
       ".list-inline>li:not(:last-child)::after {content: \"\\00b7\"; padding: 0 .5ex}\n",
       "</style>\n",
       "<ol class=list-inline><li>0</li><li>0.5</li><li>1</li></ol>\n"
      ],
      "text/latex": [
       "\\begin{enumerate*}\n",
       "\\item 0\n",
       "\\item 0.5\n",
       "\\item 1\n",
       "\\end{enumerate*}\n"
      ],
      "text/markdown": [
       "1. 0\n",
       "2. 0.5\n",
       "3. 1\n",
       "\n",
       "\n"
      ],
      "text/plain": [
       "[1] 0.0 0.5 1.0"
      ]
     },
     "metadata": {},
     "output_type": "display_data"
    },
    {
     "data": {
      "text/html": [
       "<style>\n",
       ".list-inline {list-style: none; margin:0; padding: 0}\n",
       ".list-inline>li {display: inline-block}\n",
       ".list-inline>li:not(:last-child)::after {content: \"\\00b7\"; padding: 0 .5ex}\n",
       "</style>\n",
       "<ol class=list-inline><li>0</li><li>0.25</li><li>0.5</li><li>&lt;NA&gt;</li><li>1</li></ol>\n"
      ],
      "text/latex": [
       "\\begin{enumerate*}\n",
       "\\item 0\n",
       "\\item 0.25\n",
       "\\item 0.5\n",
       "\\item <NA>\n",
       "\\item 1\n",
       "\\end{enumerate*}\n"
      ],
      "text/markdown": [
       "1. 0\n",
       "2. 0.25\n",
       "3. 0.5\n",
       "4. &lt;NA&gt;\n",
       "5. 1\n",
       "\n",
       "\n"
      ],
      "text/plain": [
       "[1] 0.00 0.25 0.50   NA 1.00"
      ]
     },
     "metadata": {},
     "output_type": "display_data"
    }
   ],
   "source": [
    "rescale01(c(-10, 0, 10))\n",
    "#> [1] 0.0 0.5 1.0\n",
    "rescale01(c(1, 2, 3, NA, 5))\n",
    "#> [1] 0.00 0.25 0.50   NA 1.00"
   ]
  },
  {
   "cell_type": "code",
   "execution_count": 36,
   "metadata": {
    "ExecuteTime": {
     "end_time": "2020-02-18T16:31:25.438313Z",
     "start_time": "2020-02-18T16:31:25.382Z"
    },
    "hidden": true
   },
   "outputs": [],
   "source": [
    "df$a <- rescale01(df$a)\n",
    "df$b <- rescale01(df$b)\n",
    "df$c <- rescale01(df$c)\n",
    "df$d <- rescale01(df$d)"
   ]
  },
  {
   "cell_type": "markdown",
   "metadata": {
    "hidden": true
   },
   "source": [
    "Compared to the original, this code is easier to understand and we’ve eliminated one class of copy-and-paste errors. \n",
    "\n",
    "<font color = 'blue'>There is still quite a bit of duplication since we’re doing the same thing to multiple columns. We’ll learn how to eliminate that duplication in [iteration](https://r4ds.had.co.nz/iteration.html#iteration), once you’ve learned more about R’s data structures in [vectors](https://r4ds.had.co.nz/vectors.html#vectors).</font>\n",
    "\n",
    "Another advantage of functions is that if our requirements change, we only need to make the change in one place. For example, we might discover that some of our variables include infinite values, and `rescale01()` fails:\n"
   ]
  },
  {
   "cell_type": "code",
   "execution_count": 38,
   "metadata": {
    "ExecuteTime": {
     "end_time": "2020-02-18T21:16:16.217351Z",
     "start_time": "2020-02-18T21:16:16.169Z"
    },
    "hidden": true
   },
   "outputs": [
    {
     "data": {
      "text/html": [
       "<style>\n",
       ".list-inline {list-style: none; margin:0; padding: 0}\n",
       ".list-inline>li {display: inline-block}\n",
       ".list-inline>li:not(:last-child)::after {content: \"\\00b7\"; padding: 0 .5ex}\n",
       "</style>\n",
       "<ol class=list-inline><li>0</li><li>0</li><li>0</li><li>0</li><li>0</li><li>0</li><li>0</li><li>0</li><li>0</li><li>0</li><li>NaN</li></ol>\n"
      ],
      "text/latex": [
       "\\begin{enumerate*}\n",
       "\\item 0\n",
       "\\item 0\n",
       "\\item 0\n",
       "\\item 0\n",
       "\\item 0\n",
       "\\item 0\n",
       "\\item 0\n",
       "\\item 0\n",
       "\\item 0\n",
       "\\item 0\n",
       "\\item NaN\n",
       "\\end{enumerate*}\n"
      ],
      "text/markdown": [
       "1. 0\n",
       "2. 0\n",
       "3. 0\n",
       "4. 0\n",
       "5. 0\n",
       "6. 0\n",
       "7. 0\n",
       "8. 0\n",
       "9. 0\n",
       "10. 0\n",
       "11. NaN\n",
       "\n",
       "\n"
      ],
      "text/plain": [
       " [1]   0   0   0   0   0   0   0   0   0   0 NaN"
      ]
     },
     "metadata": {},
     "output_type": "display_data"
    }
   ],
   "source": [
    "x <- c(1:10, Inf)\n",
    "rescale01(x)"
   ]
  },
  {
   "cell_type": "markdown",
   "metadata": {
    "hidden": true
   },
   "source": [
    "Because we’ve extracted the code into a function, we only need to make the fix in one place:"
   ]
  },
  {
   "cell_type": "code",
   "execution_count": 40,
   "metadata": {
    "ExecuteTime": {
     "end_time": "2020-02-18T21:16:48.861893Z",
     "start_time": "2020-02-18T21:16:48.812Z"
    },
    "hidden": true
   },
   "outputs": [
    {
     "data": {
      "text/html": [
       "<style>\n",
       ".list-inline {list-style: none; margin:0; padding: 0}\n",
       ".list-inline>li {display: inline-block}\n",
       ".list-inline>li:not(:last-child)::after {content: \"\\00b7\"; padding: 0 .5ex}\n",
       "</style>\n",
       "<ol class=list-inline><li>0</li><li>0.111111111111111</li><li>0.222222222222222</li><li>0.333333333333333</li><li>0.444444444444444</li><li>0.555555555555556</li><li>0.666666666666667</li><li>0.777777777777778</li><li>0.888888888888889</li><li>1</li><li>Inf</li></ol>\n"
      ],
      "text/latex": [
       "\\begin{enumerate*}\n",
       "\\item 0\n",
       "\\item 0.111111111111111\n",
       "\\item 0.222222222222222\n",
       "\\item 0.333333333333333\n",
       "\\item 0.444444444444444\n",
       "\\item 0.555555555555556\n",
       "\\item 0.666666666666667\n",
       "\\item 0.777777777777778\n",
       "\\item 0.888888888888889\n",
       "\\item 1\n",
       "\\item Inf\n",
       "\\end{enumerate*}\n"
      ],
      "text/markdown": [
       "1. 0\n",
       "2. 0.111111111111111\n",
       "3. 0.222222222222222\n",
       "4. 0.333333333333333\n",
       "5. 0.444444444444444\n",
       "6. 0.555555555555556\n",
       "7. 0.666666666666667\n",
       "8. 0.777777777777778\n",
       "9. 0.888888888888889\n",
       "10. 1\n",
       "11. Inf\n",
       "\n",
       "\n"
      ],
      "text/plain": [
       " [1] 0.0000000 0.1111111 0.2222222 0.3333333 0.4444444 0.5555556 0.6666667\n",
       " [8] 0.7777778 0.8888889 1.0000000       Inf"
      ]
     },
     "metadata": {},
     "output_type": "display_data"
    }
   ],
   "source": [
    "rescale01 <- function(x) {\n",
    "  rng <- range(x, na.rm = TRUE, finite = TRUE)\n",
    "  (x - rng[1]) / (rng[2] - rng[1])\n",
    "}\n",
    "rescale01(x)\n",
    "#>  [1] 0.000 0.111 0.222 0.333 0.444 0.556 0.667 0.778 0.889 1.000   Inf"
   ]
  },
  {
   "cell_type": "markdown",
   "metadata": {
    "hidden": true
   },
   "source": [
    "This is an important part of the “do not repeat yourself” (or DRY) principle. <font color = 'blue'>The more repetition you have in your code, the more places you need to remember to update when things change (and they always do!), and the more likely you are to create bugs over time</font>.\n",
    "\n"
   ]
  },
  {
   "cell_type": "markdown",
   "metadata": {
    "heading_collapsed": true,
    "hidden": true
   },
   "source": [
    "### Exercises"
   ]
  },
  {
   "cell_type": "markdown",
   "metadata": {
    "heading_collapsed": true,
    "hidden": true
   },
   "source": [
    "##### <b><font color = 'purple'>1.  Why is `TRUE` not a parameter to `rescale01()`? \n",
    "    \n",
    "What would happen if `x` contained a single missing value, and `na.rm` was `FALSE`? </font></b>"
   ]
  },
  {
   "cell_type": "code",
   "execution_count": 41,
   "metadata": {
    "ExecuteTime": {
     "end_time": "2020-02-18T22:31:30.250548Z",
     "start_time": "2020-02-18T22:31:30.211Z"
    },
    "hidden": true
   },
   "outputs": [],
   "source": [
    "# The code for rescale01() is reproduced below.\n",
    "\n",
    "rescale01 <- function(x) {\n",
    "  rng <- range(x, na.rm = TRUE, finite = TRUE)\n",
    "  (x - rng[1]) / (rng[2] - rng[1])\n",
    "}\n"
   ]
  },
  {
   "cell_type": "markdown",
   "metadata": {
    "hidden": true
   },
   "source": [
    "<font color = 'blue'>If x contains a single missing value and na.rm = FALSE, then this function stills return a non-missing value.</font>"
   ]
  },
  {
   "cell_type": "code",
   "execution_count": 42,
   "metadata": {
    "ExecuteTime": {
     "end_time": "2020-02-18T22:32:03.622820Z",
     "start_time": "2020-02-18T22:32:03.547Z"
    },
    "hidden": true
   },
   "outputs": [
    {
     "data": {
      "text/html": [
       "<style>\n",
       ".list-inline {list-style: none; margin:0; padding: 0}\n",
       ".list-inline>li {display: inline-block}\n",
       ".list-inline>li:not(:last-child)::after {content: \"\\00b7\"; padding: 0 .5ex}\n",
       "</style>\n",
       "<ol class=list-inline><li>&lt;NA&gt;</li><li>0</li><li>0.25</li><li>0.5</li><li>0.75</li><li>1</li></ol>\n"
      ],
      "text/latex": [
       "\\begin{enumerate*}\n",
       "\\item <NA>\n",
       "\\item 0\n",
       "\\item 0.25\n",
       "\\item 0.5\n",
       "\\item 0.75\n",
       "\\item 1\n",
       "\\end{enumerate*}\n"
      ],
      "text/markdown": [
       "1. &lt;NA&gt;\n",
       "2. 0\n",
       "3. 0.25\n",
       "4. 0.5\n",
       "5. 0.75\n",
       "6. 1\n",
       "\n",
       "\n"
      ],
      "text/plain": [
       "[1]   NA 0.00 0.25 0.50 0.75 1.00"
      ]
     },
     "metadata": {},
     "output_type": "display_data"
    },
    {
     "data": {
      "text/html": [
       "<style>\n",
       ".list-inline {list-style: none; margin:0; padding: 0}\n",
       ".list-inline>li {display: inline-block}\n",
       ".list-inline>li:not(:last-child)::after {content: \"\\00b7\"; padding: 0 .5ex}\n",
       "</style>\n",
       "<ol class=list-inline><li>&lt;NA&gt;</li><li>0</li><li>0.25</li><li>0.5</li><li>0.75</li><li>1</li></ol>\n"
      ],
      "text/latex": [
       "\\begin{enumerate*}\n",
       "\\item <NA>\n",
       "\\item 0\n",
       "\\item 0.25\n",
       "\\item 0.5\n",
       "\\item 0.75\n",
       "\\item 1\n",
       "\\end{enumerate*}\n"
      ],
      "text/markdown": [
       "1. &lt;NA&gt;\n",
       "2. 0\n",
       "3. 0.25\n",
       "4. 0.5\n",
       "5. 0.75\n",
       "6. 1\n",
       "\n",
       "\n"
      ],
      "text/plain": [
       "[1]   NA 0.00 0.25 0.50 0.75 1.00"
      ]
     },
     "metadata": {},
     "output_type": "display_data"
    }
   ],
   "source": [
    "rescale01_alt <- function(x, na.rm = FALSE) {\n",
    "  rng <- range(x, na.rm = na.rm, finite = TRUE)\n",
    "  (x - rng[1]) / (rng[2] - rng[1])\n",
    "}\n",
    "rescale01_alt(c(NA, 1:5), na.rm = FALSE)\n",
    "#> [1]   NA 0.00 0.25 0.50 0.75 1.00\n",
    "rescale01_alt(c(NA, 1:5), na.rm = TRUE)\n",
    "#> [1]   NA 0.00 0.25 0.50 0.75 1.00"
   ]
  },
  {
   "cell_type": "markdown",
   "metadata": {
    "hidden": true
   },
   "source": [
    "The option `finite = TRUE` to `range()` will drop all non-finite elements, and `NA` is a non-finite element.\n",
    "\n",
    "However, if both `finite = FALSE` and `na.rm = FALSE`, then this function will return a vector of `NA` values.\n",
    "Recall, arithmetic operations involving `NA` values return `NA`."
   ]
  },
  {
   "cell_type": "code",
   "execution_count": 43,
   "metadata": {
    "ExecuteTime": {
     "end_time": "2020-02-18T22:32:44.899250Z",
     "start_time": "2020-02-18T22:32:44.840Z"
    },
    "hidden": true
   },
   "outputs": [
    {
     "data": {
      "text/html": [
       "<style>\n",
       ".list-inline {list-style: none; margin:0; padding: 0}\n",
       ".list-inline>li {display: inline-block}\n",
       ".list-inline>li:not(:last-child)::after {content: \"\\00b7\"; padding: 0 .5ex}\n",
       "</style>\n",
       "<ol class=list-inline><li>&lt;NA&gt;</li><li>&lt;NA&gt;</li><li>&lt;NA&gt;</li><li>&lt;NA&gt;</li><li>&lt;NA&gt;</li><li>&lt;NA&gt;</li></ol>\n"
      ],
      "text/latex": [
       "\\begin{enumerate*}\n",
       "\\item <NA>\n",
       "\\item <NA>\n",
       "\\item <NA>\n",
       "\\item <NA>\n",
       "\\item <NA>\n",
       "\\item <NA>\n",
       "\\end{enumerate*}\n"
      ],
      "text/markdown": [
       "1. &lt;NA&gt;\n",
       "2. &lt;NA&gt;\n",
       "3. &lt;NA&gt;\n",
       "4. &lt;NA&gt;\n",
       "5. &lt;NA&gt;\n",
       "6. &lt;NA&gt;\n",
       "\n",
       "\n"
      ],
      "text/plain": [
       "[1] NA NA NA NA NA NA"
      ]
     },
     "metadata": {},
     "output_type": "display_data"
    }
   ],
   "source": [
    "rescale01_alt2 <- function(x, na.rm = FALSE, finite = FALSE) {\n",
    "  rng <- range(x, na.rm = na.rm, finite = finite)\n",
    "  (x - rng[1]) / (rng[2] - rng[1])\n",
    "}\n",
    "\n",
    "\n",
    "rescale01_alt2(c(NA, 1:5), na.rm = FALSE, finite = FALSE)\n",
    "#> [1] NA NA NA NA NA NA\n"
   ]
  },
  {
   "cell_type": "markdown",
   "metadata": {
    "heading_collapsed": true,
    "hidden": true
   },
   "source": [
    "##### <b><font color = 'purple'>2.  In the second variant of `rescale01()`, infinite values are left unchanged. \n",
    "    \n",
    "Rewrite `rescale01()` so that `-Inf` is mapped to 0, and `Inf` is mapped to 1. </font></b>"
   ]
  },
  {
   "cell_type": "code",
   "execution_count": 54,
   "metadata": {
    "ExecuteTime": {
     "end_time": "2020-02-18T22:53:50.856190Z",
     "start_time": "2020-02-18T22:53:50.809Z"
    },
    "hidden": true
   },
   "outputs": [
    {
     "data": {
      "text/html": [
       "<style>\n",
       ".list-inline {list-style: none; margin:0; padding: 0}\n",
       ".list-inline>li {display: inline-block}\n",
       ".list-inline>li:not(:last-child)::after {content: \"\\00b7\"; padding: 0 .5ex}\n",
       "</style>\n",
       "<ol class=list-inline><li>1</li><li>0.727272727272727</li><li>0.181818181818182</li><li>1</li><li>0</li><li>0</li></ol>\n"
      ],
      "text/latex": [
       "\\begin{enumerate*}\n",
       "\\item 1\n",
       "\\item 0.727272727272727\n",
       "\\item 0.181818181818182\n",
       "\\item 1\n",
       "\\item 0\n",
       "\\item 0\n",
       "\\end{enumerate*}\n"
      ],
      "text/markdown": [
       "1. 1\n",
       "2. 0.727272727272727\n",
       "3. 0.181818181818182\n",
       "4. 1\n",
       "5. 0\n",
       "6. 0\n",
       "\n",
       "\n"
      ],
      "text/plain": [
       "[1] 1.0000000 0.7272727 0.1818182 1.0000000 0.0000000 0.0000000"
      ]
     },
     "metadata": {},
     "output_type": "display_data"
    }
   ],
   "source": [
    "rescale01 <- function(x) {\n",
    "  rng <- range(x, na.rm = TRUE, finite = TRUE)\n",
    "  ans <- (x - rng[1]) / (rng[2] - rng[1]) \n",
    "  ans[ans == -Inf] <- 0\n",
    "  ans[ans == Inf] <- 1\n",
    "  ans\n",
    "}\n",
    "\n",
    "rescale01(c(3.5,2,-1,Inf, -2,-Inf))"
   ]
  },
  {
   "cell_type": "markdown",
   "metadata": {
    "hidden": true
   },
   "source": [
    "<b><font color = 'purple'>3.  Practice turning the following code snippets into functions. Think about\n",
    "    what each function does. \n",
    "    \n",
    "What would you call it? <br><br>\n",
    "    \n",
    "How many arguments does it need? \n",
    "    \n",
    "Can you rewrite it to be more expressive or less duplicative? </font></b>\n",
    "\n",
    "```sourceCode\n",
    "mean(is.na(x))\n",
    "\n",
    "x / sum(x, na.rm = TRUE)\n",
    "\n",
    "sd(x, na.rm = TRUE) / mean(x, na.rm = TRUE)\n",
    "```"
   ]
  },
  {
   "cell_type": "markdown",
   "metadata": {
    "hidden": true
   },
   "source": [
    "<b><font color = 'MAROON'>This code calculates the proportion of NA values in a vector.</font></b>\n",
    "\n",
    "```mean(is.na(x))```"
   ]
  },
  {
   "cell_type": "code",
   "execution_count": 93,
   "metadata": {
    "ExecuteTime": {
     "end_time": "2020-02-19T01:06:03.286499Z",
     "start_time": "2020-02-19T01:06:03.243Z"
    },
    "hidden": true
   },
   "outputs": [],
   "source": [
    "x <- c(1,2,NA,-2,NA,-4)"
   ]
  },
  {
   "cell_type": "code",
   "execution_count": 103,
   "metadata": {
    "ExecuteTime": {
     "end_time": "2020-02-19T01:29:06.616488Z",
     "start_time": "2020-02-19T01:29:06.577Z"
    },
    "hidden": true
   },
   "outputs": [],
   "source": [
    "prop_na <- function(x){\n",
    "    mean(is.na(x))\n",
    "}"
   ]
  },
  {
   "cell_type": "code",
   "execution_count": 95,
   "metadata": {
    "ExecuteTime": {
     "end_time": "2020-02-19T01:06:20.166074Z",
     "start_time": "2020-02-19T01:06:20.110Z"
    },
    "hidden": true
   },
   "outputs": [
    {
     "data": {
      "text/html": [
       "<style>\n",
       ".list-inline {list-style: none; margin:0; padding: 0}\n",
       ".list-inline>li {display: inline-block}\n",
       ".list-inline>li:not(:last-child)::after {content: \"\\00b7\"; padding: 0 .5ex}\n",
       "</style>\n",
       "<ol class=list-inline><li>FALSE</li><li>FALSE</li><li>TRUE</li><li>FALSE</li><li>TRUE</li><li>FALSE</li></ol>\n"
      ],
      "text/latex": [
       "\\begin{enumerate*}\n",
       "\\item FALSE\n",
       "\\item FALSE\n",
       "\\item TRUE\n",
       "\\item FALSE\n",
       "\\item TRUE\n",
       "\\item FALSE\n",
       "\\end{enumerate*}\n"
      ],
      "text/markdown": [
       "1. FALSE\n",
       "2. FALSE\n",
       "3. TRUE\n",
       "4. FALSE\n",
       "5. TRUE\n",
       "6. FALSE\n",
       "\n",
       "\n"
      ],
      "text/plain": [
       "[1] FALSE FALSE  TRUE FALSE  TRUE FALSE"
      ]
     },
     "metadata": {},
     "output_type": "display_data"
    },
    {
     "data": {
      "text/html": [
       "0.333333333333333"
      ],
      "text/latex": [
       "0.333333333333333"
      ],
      "text/markdown": [
       "0.333333333333333"
      ],
      "text/plain": [
       "[1] 0.3333333"
      ]
     },
     "metadata": {},
     "output_type": "display_data"
    }
   ],
   "source": [
    "is.na(x)\n",
    "mean(is.na(x))"
   ]
  },
  {
   "cell_type": "markdown",
   "metadata": {
    "hidden": true
   },
   "source": [
    "<b><font color = 'MAROON'>This code standardizes a vector so that it sums to one.</font></b>\n",
    "\n",
    "```sourceCode\n",
    "x / sum(x, na.rm = TRUE)\n",
    "```"
   ]
  },
  {
   "cell_type": "code",
   "execution_count": 99,
   "metadata": {
    "ExecuteTime": {
     "end_time": "2020-02-19T01:10:40.569791Z",
     "start_time": "2020-02-19T01:10:40.518Z"
    },
    "hidden": true
   },
   "outputs": [
    {
     "data": {
      "text/html": [
       "<style>\n",
       ".list-inline {list-style: none; margin:0; padding: 0}\n",
       ".list-inline>li {display: inline-block}\n",
       ".list-inline>li:not(:last-child)::after {content: \"\\00b7\"; padding: 0 .5ex}\n",
       "</style>\n",
       "<ol class=list-inline><li>-0.333333333333333</li><li>-0.666666666666667</li><li>&lt;NA&gt;</li><li>0.666666666666667</li><li>&lt;NA&gt;</li><li>1.33333333333333</li></ol>\n"
      ],
      "text/latex": [
       "\\begin{enumerate*}\n",
       "\\item -0.333333333333333\n",
       "\\item -0.666666666666667\n",
       "\\item <NA>\n",
       "\\item 0.666666666666667\n",
       "\\item <NA>\n",
       "\\item 1.33333333333333\n",
       "\\end{enumerate*}\n"
      ],
      "text/markdown": [
       "1. -0.333333333333333\n",
       "2. -0.666666666666667\n",
       "3. &lt;NA&gt;\n",
       "4. 0.666666666666667\n",
       "5. &lt;NA&gt;\n",
       "6. 1.33333333333333\n",
       "\n",
       "\n"
      ],
      "text/plain": [
       "[1] -0.3333333 -0.6666667         NA  0.6666667         NA  1.3333333"
      ]
     },
     "metadata": {},
     "output_type": "display_data"
    }
   ],
   "source": [
    "sum_to_one <- function(x){\n",
    "    x / sum(x, na.rm = TRUE)\n",
    "}\n",
    "standardize(x)"
   ]
  },
  {
   "cell_type": "code",
   "execution_count": 101,
   "metadata": {
    "ExecuteTime": {
     "end_time": "2020-02-19T01:10:59.967360Z",
     "start_time": "2020-02-19T01:10:59.896Z"
    },
    "code_folding": [
     0
    ],
    "hidden": true
   },
   "outputs": [
    {
     "data": {
      "text/html": [
       "<style>\n",
       ".list-inline {list-style: none; margin:0; padding: 0}\n",
       ".list-inline>li {display: inline-block}\n",
       ".list-inline>li:not(:last-child)::after {content: \"\\00b7\"; padding: 0 .5ex}\n",
       "</style>\n",
       "<ol class=list-inline><li>0.0666666666666667</li><li>0.133333333333333</li><li>0.2</li><li>0.266666666666667</li><li>0.333333333333333</li></ol>\n"
      ],
      "text/latex": [
       "\\begin{enumerate*}\n",
       "\\item 0.0666666666666667\n",
       "\\item 0.133333333333333\n",
       "\\item 0.2\n",
       "\\item 0.266666666666667\n",
       "\\item 0.333333333333333\n",
       "\\end{enumerate*}\n"
      ],
      "text/markdown": [
       "1. 0.0666666666666667\n",
       "2. 0.133333333333333\n",
       "3. 0.2\n",
       "4. 0.266666666666667\n",
       "5. 0.333333333333333\n",
       "\n",
       "\n"
      ],
      "text/plain": [
       "[1] 0.06666667 0.13333333 0.20000000 0.26666667 0.33333333"
      ]
     },
     "metadata": {},
     "output_type": "display_data"
    },
    {
     "data": {
      "text/html": [
       "<style>\n",
       ".list-inline {list-style: none; margin:0; padding: 0}\n",
       ".list-inline>li {display: inline-block}\n",
       ".list-inline>li:not(:last-child)::after {content: \"\\00b7\"; padding: 0 .5ex}\n",
       "</style>\n",
       "<ol class=list-inline><li>0.0666666666666667</li><li>0.133333333333333</li><li>0.2</li><li>0.266666666666667</li><li>0.333333333333333</li><li>&lt;NA&gt;</li></ol>\n"
      ],
      "text/latex": [
       "\\begin{enumerate*}\n",
       "\\item 0.0666666666666667\n",
       "\\item 0.133333333333333\n",
       "\\item 0.2\n",
       "\\item 0.266666666666667\n",
       "\\item 0.333333333333333\n",
       "\\item <NA>\n",
       "\\end{enumerate*}\n"
      ],
      "text/markdown": [
       "1. 0.0666666666666667\n",
       "2. 0.133333333333333\n",
       "3. 0.2\n",
       "4. 0.266666666666667\n",
       "5. 0.333333333333333\n",
       "6. &lt;NA&gt;\n",
       "\n",
       "\n"
      ],
      "text/plain": [
       "[1] 0.06666667 0.13333333 0.20000000 0.26666667 0.33333333         NA"
      ]
     },
     "metadata": {},
     "output_type": "display_data"
    },
    {
     "ename": "ERROR",
     "evalue": "Error in sum_to_one(c(1:5, NA), na.rm = FALSE): unused argument (na.rm = FALSE)\n",
     "output_type": "error",
     "traceback": [
      "Error in sum_to_one(c(1:5, NA), na.rm = FALSE): unused argument (na.rm = FALSE)\nTraceback:\n"
     ]
    }
   ],
   "source": [
    "# no missing values\n",
    "sum_to_one(1:5)\n",
    "#> [1] 0.0667 0.1333 0.2000 0.2667 0.3333\n",
    "# if any missing, return all missing\n",
    "sum_to_one(c(1:5, NA))\n",
    "#> [1] NA NA NA NA NA NA\n",
    "# drop missing values when standardizing\n",
    "sum_to_one(c(1:5, NA), na.rm = TRUE)\n",
    "#> [1] 0.0667 0.1333 0.2000 0.2667 0.3333     NAo"
   ]
  },
  {
   "cell_type": "markdown",
   "metadata": {
    "hidden": true
   },
   "source": [
    "I’ll write a function named `sum_to_one()`, which is a function of a single argument, `x`, the vector to standardize, and an optional argument `na.rm`.\n",
    "The optional argument, `na.rm`, makes the function more expressive, since it can\n",
    "handle `NA` values in two ways (returning `NA` or dropping them).\n",
    "Additionally, this makes `sum_to_one()` consistent with `sum()`, `mean()`, and many\n",
    "other R functions which have a `na.rm` argument.\n",
    "While the example code had `na.rm = TRUE`, I set `na.rm = FALSE` by default\n",
    "in order to make the function behave the same as the built-in functions like `sum()` and `mean()` in its handling of missing values."
   ]
  },
  {
   "cell_type": "markdown",
   "metadata": {
    "hidden": true
   },
   "source": [
    "<b><font color = 'MAROON'>This code calculates the [coefficient of variation](https://en.wikipedia.org/wiki/Coefficient_of_variation) (assuming that `x` can only take non-negative values), which is the standard deviation divided by the mean.</font></b>\n",
    "\n",
    "```sourceCode\n",
    "sd(x, na.rm = TRUE) / mean(x, na.rm = TRUE)\n",
    "```\n",
    "\n",
    "I’ll write a function named `coef_variation()`, which takes a single argument `x`,\n",
    "and an optional `na.rm` argument."
   ]
  },
  {
   "cell_type": "code",
   "execution_count": 102,
   "metadata": {
    "ExecuteTime": {
     "end_time": "2020-02-19T01:28:39.356794Z",
     "start_time": "2020-02-19T01:28:39.304Z"
    },
    "hidden": true
   },
   "outputs": [
    {
     "data": {
      "text/html": [
       "-3.67171369819073"
      ],
      "text/latex": [
       "-3.67171369819073"
      ],
      "text/markdown": [
       "-3.67171369819073"
      ],
      "text/plain": [
       "[1] -3.671714"
      ]
     },
     "metadata": {},
     "output_type": "display_data"
    }
   ],
   "source": [
    "CV <- function(x){\n",
    "    sd(x, na.rm = TRUE) / mean(x, na.rm = TRUE)\n",
    "}\n",
    "x %>% CV()"
   ]
  },
  {
   "cell_type": "code",
   "execution_count": 104,
   "metadata": {
    "ExecuteTime": {
     "end_time": "2020-02-19T01:30:04.784807Z",
     "start_time": "2020-02-19T01:30:04.706Z"
    },
    "hidden": true
   },
   "outputs": [
    {
     "data": {
      "text/html": [
       "0.52704627669473"
      ],
      "text/latex": [
       "0.52704627669473"
      ],
      "text/markdown": [
       "0.52704627669473"
      ],
      "text/plain": [
       "[1] 0.5270463"
      ]
     },
     "metadata": {},
     "output_type": "display_data"
    },
    {
     "data": {
      "text/html": [
       "&lt;NA&gt;"
      ],
      "text/latex": [
       "<NA>"
      ],
      "text/markdown": [
       "&lt;NA&gt;"
      ],
      "text/plain": [
       "[1] NA"
      ]
     },
     "metadata": {},
     "output_type": "display_data"
    },
    {
     "data": {
      "text/html": [
       "0.52704627669473"
      ],
      "text/latex": [
       "0.52704627669473"
      ],
      "text/markdown": [
       "0.52704627669473"
      ],
      "text/plain": [
       "[1] 0.5270463"
      ]
     },
     "metadata": {},
     "output_type": "display_data"
    }
   ],
   "source": [
    "coef_variation <- function(x, na.rm = FALSE) {\n",
    "  sd(x, na.rm = na.rm) / mean(x, na.rm = na.rm)\n",
    "}\n",
    "coef_variation(1:5)\n",
    "#> [1] 0.527\n",
    "coef_variation(c(1:5, NA))\n",
    "#> [1] NA\n",
    "coef_variation(c(1:5, NA), na.rm = TRUE)\n",
    "#> [1] 0.527"
   ]
  },
  {
   "cell_type": "markdown",
   "metadata": {
    "heading_collapsed": true,
    "hidden": true
   },
   "source": [
    "##### <b><font color = 'purple'>4.  write your own functions to compute the variance and skewness of a numeric vector."
   ]
  },
  {
   "cell_type": "markdown",
   "metadata": {
    "hidden": true
   },
   "source": [
    "Variance is defined as $\\mathrm{Var}(x) = \\frac{1}{n - 1} \\sum_{i=1}^n (x_i - \\bar{x}) ^2 \\text{,}$\n",
    "<br><br>"
   ]
  },
  {
   "cell_type": "markdown",
   "metadata": {
    "hidden": true
   },
   "source": [
    "Where $\\bar{x} = (\\sum_i^n x_i) / n$ is the sample mean. \n",
    "\n",
    "<br>"
   ]
  },
  {
   "cell_type": "markdown",
   "metadata": {
    "hidden": true
   },
   "source": [
    "Skewness is defined as $\\mathrm{Skew}(x) = \\frac{\\frac{1}{n-2}\\left(\\sum_{i=1}^n(x_i - \\bar x)^3\\right)}{\\mathrm{Var}(x)^{3/2}} \\text{.}$ \n",
    "    \n",
    "</font></b> "
   ]
  },
  {
   "cell_type": "code",
   "execution_count": 114,
   "metadata": {
    "ExecuteTime": {
     "end_time": "2020-02-19T01:39:35.176987Z",
     "start_time": "2020-02-19T01:39:35.138Z"
    },
    "hidden": true
   },
   "outputs": [],
   "source": [
    "x <- c(1:10, NA) "
   ]
  },
  {
   "cell_type": "code",
   "execution_count": 119,
   "metadata": {
    "ExecuteTime": {
     "end_time": "2020-02-19T01:40:18.018843Z",
     "start_time": "2020-02-19T01:40:17.966Z"
    },
    "hidden": true
   },
   "outputs": [
    {
     "data": {
      "text/html": [
       "&lt;NA&gt;"
      ],
      "text/latex": [
       "<NA>"
      ],
      "text/markdown": [
       "&lt;NA&gt;"
      ],
      "text/plain": [
       "[1] NA"
      ]
     },
     "metadata": {},
     "output_type": "display_data"
    }
   ],
   "source": [
    "len_x <- length(x)\n",
    "mean_x <- mean(x)\n",
    "sq_err <- (x-mean_x)^2\n",
    "\n",
    "sum(sq_err)/(len_x - 1)"
   ]
  },
  {
   "cell_type": "code",
   "execution_count": 113,
   "metadata": {
    "ExecuteTime": {
     "end_time": "2020-02-19T01:37:56.821773Z",
     "start_time": "2020-02-19T01:37:56.768Z"
    },
    "hidden": true
   },
   "outputs": [
    {
     "data": {
      "text/html": [
       "9.16666666666667"
      ],
      "text/latex": [
       "9.16666666666667"
      ],
      "text/markdown": [
       "9.16666666666667"
      ],
      "text/plain": [
       "[1] 9.166667"
      ]
     },
     "metadata": {},
     "output_type": "display_data"
    }
   ],
   "source": [
    "var <- function(x) {\n",
    "    len_x <- length(x)\n",
    "    mean_x <- mean(x)\n",
    "    sq_err <- (x-mean_x)^2\n",
    "    sum(sq_err)/(len_x - 1)    \n",
    "}\n"
   ]
  },
  {
   "cell_type": "code",
   "execution_count": null,
   "metadata": {
    "hidden": true
   },
   "outputs": [],
   "source": [
    "skewness <- function(x, na.rm = FALSE) {\n",
    "  n <- length(x)\n",
    "  m <- mean(x, na.rm = na.rm)\n",
    "  v <- var(x, na.rm = na.rm)\n",
    "  (sum((x - m)^3) / (n - 2)) / v^(3 / 2)\n",
    "}"
   ]
  },
  {
   "cell_type": "markdown",
   "metadata": {
    "heading_collapsed": true,
    "hidden": true
   },
   "source": [
    "##### <b><font color = 'purple'>5.  Write `both_na()`, a function that takes two vectors of the same length and returns the number of positions that have an `NA` in both vectors. </font></b>"
   ]
  },
  {
   "cell_type": "code",
   "execution_count": 1,
   "metadata": {
    "ExecuteTime": {
     "end_time": "2020-02-19T07:53:15.854166Z",
     "start_time": "2020-02-19T07:53:15.781Z"
    },
    "hidden": true
   },
   "outputs": [],
   "source": [
    "both_na <- function(x,y){\n",
    "    sum(is.na(x),is.na(y))\n",
    "}"
   ]
  },
  {
   "cell_type": "code",
   "execution_count": 3,
   "metadata": {
    "ExecuteTime": {
     "end_time": "2020-02-19T07:53:34.080963Z",
     "start_time": "2020-02-19T07:53:34.026Z"
    },
    "hidden": true
   },
   "outputs": [
    {
     "data": {
      "text/html": [
       "4"
      ],
      "text/latex": [
       "4"
      ],
      "text/markdown": [
       "4"
      ],
      "text/plain": [
       "[1] 4"
      ]
     },
     "metadata": {},
     "output_type": "display_data"
    },
    {
     "data": {
      "text/html": [
       "8"
      ],
      "text/latex": [
       "8"
      ],
      "text/markdown": [
       "8"
      ],
      "text/plain": [
       "[1] 8"
      ]
     },
     "metadata": {},
     "output_type": "display_data"
    }
   ],
   "source": [
    "both_na(\n",
    "  c(NA, NA, 1, 2),\n",
    "  c(NA, 1, NA, 2)\n",
    ")\n",
    "\n",
    "both_na(\n",
    "  c(NA, NA, 1, 2, NA, NA, 1),\n",
    "  c(NA, 1, NA, 2, NA, NA, 1)\n",
    ")"
   ]
  },
  {
   "cell_type": "markdown",
   "metadata": {
    "heading_collapsed": true,
    "hidden": true
   },
   "source": [
    "##### <b><font color = 'purple'>6.  What do the following functions do? Why are they useful even though they are so short?\n",
    "\n",
    "```sourceCode\n",
    "is_directory <- function(x) file.info(x)$isdir\n",
    "is_readable <- function(x) file.access(x, 4) == 0\n",
    "``` \n",
    "\n",
    "</font></b>"
   ]
  },
  {
   "cell_type": "markdown",
   "metadata": {
    "hidden": true
   },
   "source": [
    "* The function `is_directory()` checks whether the path in `x` is a directory.\n",
    "\n",
    "\n",
    "* The function `is_readable()` checks whether the path in `x` is readable, meaning that the file exists and the user has permission to open it.\n",
    "\n",
    "These functions are useful even though they are short because their names make it much clearer what the code is doing."
   ]
  },
  {
   "cell_type": "markdown",
   "metadata": {
    "heading_collapsed": true,
    "hidden": true
   },
   "source": [
    "##### <b><font color = 'purple'>7. Read the [complete lyrics](https://en.wikipedia.org/wiki/Little_Bunny_Foo_Foo)   to “Little Bunny Foo Foo”. \n",
    "    \n",
    "There’s a lot of duplication in this song.   <b><font color = 'purple'>Extend the initial piping example to recreate the complete song , and use   functions to reduce the duplication. </font></b> </font></b>"
   ]
  },
  {
   "cell_type": "markdown",
   "metadata": {
    "hidden": true
   },
   "source": []
  },
  {
   "cell_type": "markdown",
   "metadata": {
    "heading_collapsed": true
   },
   "source": [
    "## Functions are for humans and computers"
   ]
  },
  {
   "cell_type": "markdown",
   "metadata": {
    "hidden": true
   },
   "source": [
    "It’s important to remember that functions are not just for the computer, but are also for humans. R doesn’t care what your function is called, or what comments it contains, but these are important for human readers. This section discusses some things that you should bear in mind when writing functions that humans can understand.\n",
    "\n",
    "The name of a function is important. Ideally, the name of your function will be short, but clearly evoke what the function does. That’s hard! But it’s better to be clear than short, as RStudio’s autocomplete makes it easy to type long names.\n",
    "\n",
    "<font color = 'blue'>Generally, function names should be verbs, and arguments should be nouns</font>. \n",
    "\n",
    "* There are some exceptions: nouns are ok if the function computes a very well known noun (i.e. `mean()` is better than `compute_mean()`), or accessing some property of an object (i.e. `coef()` is better than `get_coefficients()`). \n",
    "\n",
    "* A good sign that a noun might be a better choice is if you’re using a very broad verb like “get”, “compute”, “calculate”, or “determine”. Use your best judgement and don’t be afraid to rename a function if you figure out a better name later.\n"
   ]
  },
  {
   "cell_type": "markdown",
   "metadata": {
    "hidden": true
   },
   "source": [
    "Use comments, lines starting with `#`, to explain the “why” of your code. <font color = 'blue'>You generally should avoid comments that explain the “what” or the “how”. If you can’t understand what the code does from reading it, you should think about how to rewrite it to be more clear</font>. Do you need to add some intermediate variables with useful names? Do you need to break out a subcomponent of a large function so you can name it? <font color = 'blue'>However, your code can never capture the reasoning behind your decisions: why did you choose this approach instead of an alternative? What else did you try that didn’t work? It’s a great idea to capture that sort of thinking in a comment.</font>\n",
    "\n",
    "Another important use of comments is to break up your file into easily readable chunks. Use long lines of `-` and `=` to make it easy to spot the breaks."
   ]
  },
  {
   "cell_type": "code",
   "execution_count": null,
   "metadata": {
    "hidden": true
   },
   "outputs": [],
   "source": [
    "# Load data --------------------------------------\n",
    "\n",
    "# Plot data --------------------------------------"
   ]
  },
  {
   "cell_type": "markdown",
   "metadata": {},
   "source": [
    "## Conditional execution"
   ]
  },
  {
   "cell_type": "markdown",
   "metadata": {},
   "source": [
    "An `if` statement allows you to conditionally execute code. It looks like this:\n",
    "\n",
    "```sourceCode\n",
    "if (condition) {\n",
    "  # code executed when condition is TRUE\n",
    "} else {\n",
    "  # code executed when condition is FALSE\n",
    "}\n",
    "```\n",
    "\n",
    "To get help on `if` you need to surround it in backticks: ?`if`. The help isn’t particularly helpful if you’re not already an experienced programmer, but at least you know how to get to it!\n",
    "\n",
    "Here’s a simple function that uses an `if` statement. The goal of this function is to return a logical vector describing whether or not each element of a vector is named."
   ]
  },
  {
   "cell_type": "code",
   "execution_count": 11,
   "metadata": {
    "ExecuteTime": {
     "end_time": "2020-02-20T13:53:27.071399Z",
     "start_time": "2020-02-20T13:53:26.806Z"
    }
   },
   "outputs": [],
   "source": [
    "?`if` # for help on if statements"
   ]
  },
  {
   "cell_type": "code",
   "execution_count": null,
   "metadata": {},
   "outputs": [],
   "source": [
    "has_name <- function(x) {\n",
    "  nms <- names(x)\n",
    "  if (is.null(nms)) {\n",
    "    rep(FALSE, length(x))\n",
    "  } else {\n",
    "    !is.na(nms) & nms != \"\"\n",
    "  }\n",
    "}"
   ]
  },
  {
   "cell_type": "markdown",
   "metadata": {},
   "source": [
    "<font color = 'blue'>This function takes advantage of the standard return rule: a function returns the last value that it computed. Here that is either one of the two branches of the if statement.</font>"
   ]
  },
  {
   "cell_type": "markdown",
   "metadata": {},
   "source": [
    "### Conditions"
   ]
  },
  {
   "cell_type": "markdown",
   "metadata": {},
   "source": [
    "The `condition` must evaluate to either `TRUE` or `FALSE`. If it’s a vector, you’ll get a warning message; if it’s an `NA`, you’ll get an error. Watch out for these messages in your own code:"
   ]
  },
  {
   "cell_type": "code",
   "execution_count": 22,
   "metadata": {
    "ExecuteTime": {
     "end_time": "2020-02-19T15:56:56.271114Z",
     "start_time": "2020-02-19T15:56:56.208Z"
    }
   },
   "outputs": [
    {
     "name": "stderr",
     "output_type": "stream",
     "text": [
      "Warning message in if (c(TRUE, FALSE)) {:\n",
      "\"the condition has length > 1 and only the first element will be used\"\n"
     ]
    },
    {
     "name": "stdout",
     "output_type": "stream",
     "text": [
      "[1] \"c(FALSE,TRUE) would have resulted in nothing\"\n"
     ]
    },
    {
     "ename": "ERROR",
     "evalue": "Error in if (NA) {: missing value where TRUE/FALSE needed\n",
     "output_type": "error",
     "traceback": [
      "Error in if (NA) {: missing value where TRUE/FALSE needed\nTraceback:\n"
     ]
    }
   ],
   "source": [
    "if (c(TRUE,FALSE)) {print(\"c(FALSE,TRUE) would have resulted in nothing\")}\n",
    "#> Warning in if (c(TRUE, FALSE)) {: the condition has length > 1 and only the\n",
    "#> first element will be used\n",
    "#> NULL\n",
    "\n",
    "if (NA) {}\n",
    "#> Error in if (NA) {: missing value where TRUE/FALSE needed"
   ]
  },
  {
   "cell_type": "markdown",
   "metadata": {},
   "source": [
    "You can use `||` (or) and `&&` (and) to combine multiple logical expressions. These operators are “short-circuiting”: as soon as `||` sees the first `TRUE` it returns `TRUE` without computing anything else. As soon as `&&` sees the first `FALSE` it returns `FALSE`. \n",
    "\n",
    "<font color = 'red'>You should never use `|` or `&` in an `if` statement: these are vectorised operations that apply to multiple values (that’s why you use them in `filter()`)</font>. If you do have a logical vector, you can use `any()` or `all()` to collapse it to a single value.\n",
    "\n",
    "<font color = 'red'>Be careful when testing for equality. `==` is vectorised</font>, which means that it’s easy to get more than one output.\n",
    "\n",
    "* Either check the length is already 1, collapse with `all()` or `any()`, or use the non-vectorised `identical()`. `identical()` is very strict: it always returns either a single `TRUE` or a single `FALSE`, and doesn’t coerce types. This means that you need to be careful when comparing integers and doubles:"
   ]
  },
  {
   "cell_type": "code",
   "execution_count": 23,
   "metadata": {
    "ExecuteTime": {
     "end_time": "2020-02-19T16:23:58.006629Z",
     "start_time": "2020-02-19T16:23:57.950Z"
    }
   },
   "outputs": [
    {
     "data": {
      "text/html": [
       "FALSE"
      ],
      "text/latex": [
       "FALSE"
      ],
      "text/markdown": [
       "FALSE"
      ],
      "text/plain": [
       "[1] FALSE"
      ]
     },
     "metadata": {},
     "output_type": "display_data"
    }
   ],
   "source": [
    "identical(0L, 0)\n",
    "#> [1] FALSE"
   ]
  },
  {
   "cell_type": "markdown",
   "metadata": {},
   "source": [
    "<font color = 'red'>You also need to be wary of floating point numbers:</font>"
   ]
  },
  {
   "cell_type": "code",
   "execution_count": 36,
   "metadata": {
    "ExecuteTime": {
     "end_time": "2020-02-19T16:43:47.131044Z",
     "start_time": "2020-02-19T16:43:47.028Z"
    },
    "scrolled": true
   },
   "outputs": [
    {
     "data": {
      "text/html": [
       "2"
      ],
      "text/latex": [
       "2"
      ],
      "text/markdown": [
       "2"
      ],
      "text/plain": [
       "[1] 2"
      ]
     },
     "metadata": {},
     "output_type": "display_data"
    },
    {
     "data": {
      "text/html": [
       "FALSE"
      ],
      "text/latex": [
       "FALSE"
      ],
      "text/markdown": [
       "FALSE"
      ],
      "text/plain": [
       "[1] FALSE"
      ]
     },
     "metadata": {},
     "output_type": "display_data"
    },
    {
     "data": {
      "text/html": [
       "TRUE"
      ],
      "text/latex": [
       "TRUE"
      ],
      "text/markdown": [
       "TRUE"
      ],
      "text/plain": [
       "[1] TRUE"
      ]
     },
     "metadata": {},
     "output_type": "display_data"
    },
    {
     "data": {
      "text/html": [
       "TRUE"
      ],
      "text/latex": [
       "TRUE"
      ],
      "text/markdown": [
       "TRUE"
      ],
      "text/plain": [
       "[1] TRUE"
      ]
     },
     "metadata": {},
     "output_type": "display_data"
    },
    {
     "data": {
      "text/html": [
       "4.44089209850063e-16"
      ],
      "text/latex": [
       "4.44089209850063e-16"
      ],
      "text/markdown": [
       "4.44089209850063e-16"
      ],
      "text/plain": [
       "[1] 4.440892e-16"
      ]
     },
     "metadata": {},
     "output_type": "display_data"
    }
   ],
   "source": [
    "x <- sqrt(2) ^ 2\n",
    "x\n",
    "#> [1] 2\n",
    "\n",
    "x == 2\n",
    "#> [1] FALSE\n",
    "\n",
    "near(x,2)\n",
    "as.integer(x) == 2\n",
    "#> [1] TRUE\n",
    "\n",
    "x - 2\n",
    "#> [1] 4.44e-16"
   ]
  },
  {
   "cell_type": "markdown",
   "metadata": {},
   "source": [
    "Instead use `dplyr::near()` for comparisons, as described in [comparisons](https://r4ds.had.co.nz/transform.html#comparisons).\n",
    "\n",
    "And remember, `x == NA` doesn’t do anything useful!"
   ]
  },
  {
   "cell_type": "markdown",
   "metadata": {},
   "source": [
    "### Multiple conditions"
   ]
  },
  {
   "cell_type": "markdown",
   "metadata": {},
   "source": [
    "You can chain multiple if statements together:\n",
    "\n",
    "```sourceCode\n",
    "if (this) {\n",
    "  # do that\n",
    "} else if (that) {\n",
    "  # do something else\n",
    "} else {\n",
    "  # \n",
    "}\n",
    "```\n",
    "\n",
    "But if you end up with a very long series of chained `if` statements, you should consider rewriting. One useful technique is the `switch()` function. It allows you to evaluate selected code based on position or name.\n",
    "\n",
    "```\n",
    "#> function(x, y, op) {\n",
    "#>   switch(op,\n",
    "#>     plus = x + y,\n",
    "#>     minus = x - y,\n",
    "#>     times = x * y,\n",
    "#>     divide = x / y,\n",
    "#>     stop(\"Unknown op!\")\n",
    "#>   )\n",
    "#> }\n",
    "```\n",
    "\n",
    "Another useful function that can often eliminate long chains of `if` statements is `cut()`. It’s used to discretise continuous variables."
   ]
  },
  {
   "cell_type": "code",
   "execution_count": 39,
   "metadata": {
    "ExecuteTime": {
     "end_time": "2020-02-19T17:00:39.000473Z",
     "start_time": "2020-02-19T17:00:38.909Z"
    },
    "collapsed": true
   },
   "outputs": [
    {
     "data": {
      "text/html": [
       "<style>\n",
       ".list-inline {list-style: none; margin:0; padding: 0}\n",
       ".list-inline>li {display: inline-block}\n",
       ".list-inline>li:not(:last-child)::after {content: \"\\00b7\"; padding: 0 .5ex}\n",
       "</style>\n",
       "<ol class=list-inline><li>-1.50499032026903</li><li>0.957425907674501</li><li>-1.34634873530924</li><li>-17.5410632555999</li><li>-0.728995138358053</li><li>-1.28735007566482</li><li>4.55046239918081</li><li>0.0843474481913015</li><li>-5.28709533557215</li><li>-2.17680783072949</li></ol>\n"
      ],
      "text/latex": [
       "\\begin{enumerate*}\n",
       "\\item -1.50499032026903\n",
       "\\item 0.957425907674501\n",
       "\\item -1.34634873530924\n",
       "\\item -17.5410632555999\n",
       "\\item -0.728995138358053\n",
       "\\item -1.28735007566482\n",
       "\\item 4.55046239918081\n",
       "\\item 0.0843474481913015\n",
       "\\item -5.28709533557215\n",
       "\\item -2.17680783072949\n",
       "\\end{enumerate*}\n"
      ],
      "text/markdown": [
       "1. -1.50499032026903\n",
       "2. 0.957425907674501\n",
       "3. -1.34634873530924\n",
       "4. -17.5410632555999\n",
       "5. -0.728995138358053\n",
       "6. -1.28735007566482\n",
       "7. 4.55046239918081\n",
       "8. 0.0843474481913015\n",
       "9. -5.28709533557215\n",
       "10. -2.17680783072949\n",
       "\n",
       "\n"
      ],
      "text/plain": [
       " [1]  -1.50499032   0.95742591  -1.34634874 -17.54106326  -0.72899514\n",
       " [6]  -1.28735008   4.55046240   0.08434745  -5.28709534  -2.17680783"
      ]
     },
     "metadata": {},
     "output_type": "display_data"
    },
    {
     "data": {
      "text/html": [
       "1.75433239635285"
      ],
      "text/latex": [
       "1.75433239635285"
      ],
      "text/markdown": [
       "1.75433239635285"
      ],
      "text/plain": [
       "[1] 1.754332"
      ]
     },
     "metadata": {},
     "output_type": "display_data"
    },
    {
     "data": {
      "text/html": [
       "-0.087522674867783"
      ],
      "text/latex": [
       "-0.087522674867783"
      ],
      "text/markdown": [
       "-0.087522674867783"
      ],
      "text/plain": [
       "[1] -0.08752267"
      ]
     },
     "metadata": {},
     "output_type": "display_data"
    },
    {
     "data": {
      "text/html": [
       "0.270343833949118"
      ],
      "text/latex": [
       "0.270343833949118"
      ],
      "text/markdown": [
       "0.270343833949118"
      ],
      "text/plain": [
       "[1] 0.2703438"
      ]
     },
     "metadata": {},
     "output_type": "display_data"
    }
   ],
   "source": [
    "require(stats)\n",
    "centre <- function(x, type) {\n",
    "  switch(type,\n",
    "         mean = mean(x),\n",
    "         median = median(x),\n",
    "         trimmed = mean(x, trim = .1))\n",
    "}\n",
    "\n",
    "x <- rcauchy(10)\n",
    "rcauchy(10)\n",
    "centre(x, \"mean\")\n",
    "centre(x, \"median\")\n",
    "centre(x, \"trimmed\")"
   ]
  },
  {
   "cell_type": "markdown",
   "metadata": {},
   "source": [
    "### Code style"
   ]
  },
  {
   "cell_type": "markdown",
   "metadata": {},
   "source": [
    "Both `if` and `function` should (almost) always be followed by squiggly brackets (`{}`), and the contents should be indented by two spaces. This makes it easier to see the hierarchy in your code by skimming the left-hand margin.\n",
    "\n",
    "* An opening curly brace should never go on its own line and should always be followed by a new line. \n",
    "\n",
    "\n",
    "* A closing curly brace should always go on its own line, unless it’s followed by `else`. Always indent the code inside curly braces.\n",
    "\n",
    "\n"
   ]
  },
  {
   "cell_type": "code",
   "execution_count": null,
   "metadata": {},
   "outputs": [],
   "source": [
    "# Good\n",
    "if (y < 0 && debug) {\n",
    "  message(\"Y is negative\")\n",
    "}\n",
    "\n",
    "if (y == 0) {\n",
    "  log(x)\n",
    "} else {\n",
    "  y ^ x\n",
    "}\n",
    "\n",
    "# Bad\n",
    "if (y < 0 && debug)\n",
    "message(\"Y is negative\")\n",
    "\n",
    "if (y == 0) {\n",
    "  log(x)\n",
    "} \n",
    "else {\n",
    "  y ^ x\n",
    "}"
   ]
  },
  {
   "cell_type": "markdown",
   "metadata": {},
   "source": [
    "It’s ok to drop the curly braces if you have a very short `if` statement that can fit on one line:\n"
   ]
  },
  {
   "cell_type": "code",
   "execution_count": null,
   "metadata": {},
   "outputs": [],
   "source": [
    "y <- 10\n",
    "x <- if (y < 20) \"Too low\" else \"Too high\""
   ]
  },
  {
   "cell_type": "code",
   "execution_count": 10,
   "metadata": {
    "ExecuteTime": {
     "end_time": "2020-02-20T13:42:57.047269Z",
     "start_time": "2020-02-20T13:42:56.997Z"
    }
   },
   "outputs": [
    {
     "data": {
      "text/html": [
       "<style>\n",
       ".list-inline {list-style: none; margin:0; padding: 0}\n",
       ".list-inline>li {display: inline-block}\n",
       ".list-inline>li:not(:last-child)::after {content: \"\\00b7\"; padding: 0 .5ex}\n",
       "</style>\n",
       "<ol class=list-inline><li>'Too low'</li><li>'Too low'</li><li>'Too low'</li><li>'Too low'</li><li>'Too low'</li><li>'Too low'</li><li>'Too low'</li><li>'Too high'</li><li>'Too high'</li><li>'Too high'</li><li>'Too high'</li><li>'Too high'</li><li>'Too high'</li><li>'Too high'</li></ol>\n"
      ],
      "text/latex": [
       "\\begin{enumerate*}\n",
       "\\item 'Too low'\n",
       "\\item 'Too low'\n",
       "\\item 'Too low'\n",
       "\\item 'Too low'\n",
       "\\item 'Too low'\n",
       "\\item 'Too low'\n",
       "\\item 'Too low'\n",
       "\\item 'Too high'\n",
       "\\item 'Too high'\n",
       "\\item 'Too high'\n",
       "\\item 'Too high'\n",
       "\\item 'Too high'\n",
       "\\item 'Too high'\n",
       "\\item 'Too high'\n",
       "\\end{enumerate*}\n"
      ],
      "text/markdown": [
       "1. 'Too low'\n",
       "2. 'Too low'\n",
       "3. 'Too low'\n",
       "4. 'Too low'\n",
       "5. 'Too low'\n",
       "6. 'Too low'\n",
       "7. 'Too low'\n",
       "8. 'Too high'\n",
       "9. 'Too high'\n",
       "10. 'Too high'\n",
       "11. 'Too high'\n",
       "12. 'Too high'\n",
       "13. 'Too high'\n",
       "14. 'Too high'\n",
       "\n",
       "\n"
      ],
      "text/plain": [
       " [1] \"Too low\"  \"Too low\"  \"Too low\"  \"Too low\"  \"Too low\"  \"Too low\" \n",
       " [7] \"Too low\"  \"Too high\" \"Too high\" \"Too high\" \"Too high\" \"Too high\"\n",
       "[13] \"Too high\" \"Too high\""
      ]
     },
     "metadata": {},
     "output_type": "display_data"
    }
   ],
   "source": [
    "# vectorized version of if statement\n",
    "y <- seq(from = 1, to = 40, by = 3)\n",
    "x <- ifelse (y < 20, \"Too low\", \"Too high\")\n",
    "x"
   ]
  },
  {
   "cell_type": "code",
   "execution_count": null,
   "metadata": {},
   "outputs": [],
   "source": [
    "sqrt(ifelse(x >= 0, x, NA))"
   ]
  },
  {
   "cell_type": "markdown",
   "metadata": {},
   "source": [
    "I recommend this only for very brief `if` statements. Otherwise, the full form is easier to read:\n"
   ]
  },
  {
   "cell_type": "code",
   "execution_count": 41,
   "metadata": {
    "ExecuteTime": {
     "end_time": "2020-02-19T17:29:20.778778Z",
     "start_time": "2020-02-19T17:29:20.733Z"
    },
    "collapsed": true
   },
   "outputs": [
    {
     "ename": "ERROR",
     "evalue": "Error in eval(expr, envir, enclos): object 'y' not found\n",
     "output_type": "error",
     "traceback": [
      "Error in eval(expr, envir, enclos): object 'y' not found\nTraceback:\n"
     ]
    }
   ],
   "source": [
    "if (y < 20) {\n",
    "  x <- \"Too low\" \n",
    "} else {\n",
    "  x <- \"Too high\"\n",
    "}"
   ]
  },
  {
   "cell_type": "markdown",
   "metadata": {},
   "source": [
    "### Exercises"
   ]
  },
  {
   "cell_type": "markdown",
   "metadata": {},
   "source": [
    "<b><font color = 'purple'>1. What’s the difference between `if` and `ifelse()`? Carefully read the help and construct three examples that illustrate the key differences.  </font></b>"
   ]
  },
  {
   "cell_type": "markdown",
   "metadata": {},
   "source": [
    "The keyword if tests a single condition, while ifelse() tests each element.\n",
    "\n",
    "* <font color = 'green'><b>ifelse returns a value with the same shape as test which is filled with elements selected from either yes or no depending on whether the element of test is TRUE or FALSE</b></font>.\n",
    "\n"
   ]
  },
  {
   "cell_type": "code",
   "execution_count": 65,
   "metadata": {
    "ExecuteTime": {
     "end_time": "2020-02-19T17:52:24.329609Z",
     "start_time": "2020-02-19T17:52:24.246Z"
    }
   },
   "outputs": [
    {
     "name": "stdout",
     "output_type": "stream",
     "text": [
      "[1] \"-=sqrt(x)  #- gives warning=-\"\n"
     ]
    },
    {
     "name": "stderr",
     "output_type": "stream",
     "text": [
      "Warning message in sqrt(x):\n",
      "\"NaNs produced\"\n"
     ]
    },
    {
     "data": {
      "text/html": [
       "<style>\n",
       ".list-inline {list-style: none; margin:0; padding: 0}\n",
       ".list-inline>li {display: inline-block}\n",
       ".list-inline>li:not(:last-child)::after {content: \"\\00b7\"; padding: 0 .5ex}\n",
       "</style>\n",
       "<ol class=list-inline><li>2.44948974278318</li><li>2.23606797749979</li><li>2</li><li>1.73205080756888</li><li>1.4142135623731</li><li>1</li><li>0</li><li>NaN</li><li>NaN</li><li>NaN</li><li>NaN</li></ol>\n"
      ],
      "text/latex": [
       "\\begin{enumerate*}\n",
       "\\item 2.44948974278318\n",
       "\\item 2.23606797749979\n",
       "\\item 2\n",
       "\\item 1.73205080756888\n",
       "\\item 1.4142135623731\n",
       "\\item 1\n",
       "\\item 0\n",
       "\\item NaN\n",
       "\\item NaN\n",
       "\\item NaN\n",
       "\\item NaN\n",
       "\\end{enumerate*}\n"
      ],
      "text/markdown": [
       "1. 2.44948974278318\n",
       "2. 2.23606797749979\n",
       "3. 2\n",
       "4. 1.73205080756888\n",
       "5. 1.4142135623731\n",
       "6. 1\n",
       "7. 0\n",
       "8. NaN\n",
       "9. NaN\n",
       "10. NaN\n",
       "11. NaN\n",
       "\n",
       "\n"
      ],
      "text/plain": [
       " [1] 2.449490 2.236068 2.000000 1.732051 1.414214 1.000000 0.000000      NaN\n",
       " [9]      NaN      NaN      NaN"
      ]
     },
     "metadata": {},
     "output_type": "display_data"
    },
    {
     "name": "stdout",
     "output_type": "stream",
     "text": [
      "[1] \"-=sqrt(ifelse(x >= 0, x, NA))  # no warning=-\"\n"
     ]
    },
    {
     "data": {
      "text/html": [
       "<style>\n",
       ".list-inline {list-style: none; margin:0; padding: 0}\n",
       ".list-inline>li {display: inline-block}\n",
       ".list-inline>li:not(:last-child)::after {content: \"\\00b7\"; padding: 0 .5ex}\n",
       "</style>\n",
       "<ol class=list-inline><li>2.44948974278318</li><li>2.23606797749979</li><li>2</li><li>1.73205080756888</li><li>1.4142135623731</li><li>1</li><li>0</li><li>&lt;NA&gt;</li><li>&lt;NA&gt;</li><li>&lt;NA&gt;</li><li>&lt;NA&gt;</li></ol>\n"
      ],
      "text/latex": [
       "\\begin{enumerate*}\n",
       "\\item 2.44948974278318\n",
       "\\item 2.23606797749979\n",
       "\\item 2\n",
       "\\item 1.73205080756888\n",
       "\\item 1.4142135623731\n",
       "\\item 1\n",
       "\\item 0\n",
       "\\item <NA>\n",
       "\\item <NA>\n",
       "\\item <NA>\n",
       "\\item <NA>\n",
       "\\end{enumerate*}\n"
      ],
      "text/markdown": [
       "1. 2.44948974278318\n",
       "2. 2.23606797749979\n",
       "3. 2\n",
       "4. 1.73205080756888\n",
       "5. 1.4142135623731\n",
       "6. 1\n",
       "7. 0\n",
       "8. &lt;NA&gt;\n",
       "9. &lt;NA&gt;\n",
       "10. &lt;NA&gt;\n",
       "11. &lt;NA&gt;\n",
       "\n",
       "\n"
      ],
      "text/plain": [
       " [1] 2.449490 2.236068 2.000000 1.732051 1.414214 1.000000 0.000000       NA\n",
       " [9]       NA       NA       NA"
      ]
     },
     "metadata": {},
     "output_type": "display_data"
    }
   ],
   "source": [
    "x <- c(6:-4)\n",
    "\n",
    "print(\"-=sqrt(x)  #- gives warning=-\")\n",
    "sqrt(x)  #- gives warning\n",
    "\n",
    "print(\"-=sqrt(ifelse(x >= 0, x, NA))  # no warning=-\")\n",
    "sqrt(ifelse(x >= 0, x, NA))  # no warning"
   ]
  },
  {
   "cell_type": "markdown",
   "metadata": {},
   "source": [
    "<b><font color = 'purple'>2.  Write a greeting function that says “good morning”, “good afternoon”,\n",
    "    or “good evening”, depending on the time of day. (Hint: use a time\n",
    "    argument that defaults to `lubridate::now()`. That will make it\n",
    "    easier to test your function.) </font></b>"
   ]
  },
  {
   "cell_type": "code",
   "execution_count": 99,
   "metadata": {
    "ExecuteTime": {
     "end_time": "2020-02-19T18:44:47.016879Z",
     "start_time": "2020-02-19T18:44:46.977Z"
    }
   },
   "outputs": [],
   "source": [
    "greet <- function(time = lubridate::now()){\n",
    "    hr <- hour(time)\n",
    "    if(hr < 12) {\n",
    "        print(\"good morning\")\n",
    "    } else if(hr >= 12 && hr <= 18){\n",
    "        print(\"good afternoon\")\n",
    "    } else {\n",
    "        print(\"good evening\")\n",
    "    }\n",
    "        \n",
    "} "
   ]
  },
  {
   "cell_type": "code",
   "execution_count": 100,
   "metadata": {
    "ExecuteTime": {
     "end_time": "2020-02-19T18:45:26.037852Z",
     "start_time": "2020-02-19T18:45:25.908Z"
    }
   },
   "outputs": [
    {
     "name": "stdout",
     "output_type": "stream",
     "text": [
      "[1] \"good afternoon\"\n",
      "[1] \"good morning\"\n",
      "[1] \"good afternoon\"\n",
      "[1] \"good evening\"\n"
     ]
    }
   ],
   "source": [
    "greet()\n",
    "#> [1] \"good morning\"\n",
    "\n",
    "greet(ymd_h(\"2017-01-08:05\"))\n",
    "#> [1] \"good morning\"\n",
    "\n",
    "greet(ymd_h(\"2017-01-08:13\"))\n",
    "#> [1] \"good afternoon\"\n",
    "\n",
    "greet(ymd_h(\"2017-01-08:20\"))\n",
    "#> [1] \"good evening\""
   ]
  },
  {
   "cell_type": "code",
   "execution_count": 102,
   "metadata": {
    "ExecuteTime": {
     "end_time": "2020-02-19T18:46:24.582469Z",
     "start_time": "2020-02-19T18:46:24.529Z"
    },
    "collapsed": true
   },
   "outputs": [
    {
     "data": {
      "text/plain": [
       "[1] \"2020-02-19 13:46:24 EST\""
      ]
     },
     "metadata": {},
     "output_type": "display_data"
    },
    {
     "data": {
      "text/html": [
       "13"
      ],
      "text/latex": [
       "13"
      ],
      "text/markdown": [
       "13"
      ],
      "text/plain": [
       "[1] 13"
      ]
     },
     "metadata": {},
     "output_type": "display_data"
    }
   ],
   "source": [
    "lubridate::now()\n",
    "lubridate::now() %>% hour()"
   ]
  },
  {
   "cell_type": "markdown",
   "metadata": {},
   "source": [
    "<b><font color = 'purple'>3. Implement a `fizzbuzz` function. It takes a single number as input. If   the number is divisible by three, it returns “fizz”. If it’s divisible by   five it returns “buzz”. If it’s divisible by three and five, it returns   “fizzbuzz”. Otherwise, it returns the number. Make sure you first write   working code before you create the function. </font></b>"
   ]
  },
  {
   "cell_type": "code",
   "execution_count": 103,
   "metadata": {
    "ExecuteTime": {
     "end_time": "2020-02-19T18:59:54.584677Z",
     "start_time": "2020-02-19T18:59:54.479Z"
    }
   },
   "outputs": [
    {
     "data": {
      "text/html": [
       "'fizz'"
      ],
      "text/latex": [
       "'fizz'"
      ],
      "text/markdown": [
       "'fizz'"
      ],
      "text/plain": [
       "[1] \"fizz\""
      ]
     },
     "metadata": {},
     "output_type": "display_data"
    },
    {
     "data": {
      "text/html": [
       "'buzz'"
      ],
      "text/latex": [
       "'buzz'"
      ],
      "text/markdown": [
       "'buzz'"
      ],
      "text/plain": [
       "[1] \"buzz\""
      ]
     },
     "metadata": {},
     "output_type": "display_data"
    },
    {
     "data": {
      "text/html": [
       "'fizzbuzz'"
      ],
      "text/latex": [
       "'fizzbuzz'"
      ],
      "text/markdown": [
       "'fizzbuzz'"
      ],
      "text/plain": [
       "[1] \"fizzbuzz\""
      ]
     },
     "metadata": {},
     "output_type": "display_data"
    },
    {
     "data": {
      "text/html": [
       "'2'"
      ],
      "text/latex": [
       "'2'"
      ],
      "text/markdown": [
       "'2'"
      ],
      "text/plain": [
       "[1] \"2\""
      ]
     },
     "metadata": {},
     "output_type": "display_data"
    }
   ],
   "source": [
    "fizzbuzz <- function(x) {\n",
    "  # these two lines check that x is a valid input\n",
    "  stopifnot(length(x) == 1)\n",
    "  stopifnot(is.numeric(x))\n",
    "  if (!(x %% 3) && !(x %% 5)) {\n",
    "    \"fizzbuzz\"\n",
    "  } else if (!(x %% 3)) {\n",
    "    \"fizz\"\n",
    "  } else if (!(x %% 5)) {\n",
    "    \"buzz\"\n",
    "  } else {\n",
    "    # ensure that the function returns a character vector\n",
    "    as.character(x)\n",
    "  }\n",
    "}\n",
    "fizzbuzz(6)\n",
    "#> [1] \"fizz\"\n",
    "fizzbuzz(10)\n",
    "#> [1] \"buzz\"\n",
    "fizzbuzz(15)\n",
    "#> [1] \"fizzbuzz\"\n",
    "fizzbuzz(2)\n",
    "#> [1] \"2\""
   ]
  },
  {
   "cell_type": "markdown",
   "metadata": {},
   "source": [
    "Instead of only accepting one number as an input, we could a FizzBuzz function that works on a vector. <font color = 'blue'>The `case_when()` function vectorizes multiple if-else conditions, so is perfect for this task.</font> In fact, fizz-buzz is used in the examples in the documentation of `case_when()`."
   ]
  },
  {
   "cell_type": "code",
   "execution_count": 112,
   "metadata": {
    "ExecuteTime": {
     "end_time": "2020-02-19T20:53:01.813172Z",
     "start_time": "2020-02-19T20:53:01.772Z"
    }
   },
   "outputs": [],
   "source": [
    "fizzbuzz_vec <- function(x){\n",
    "    case_when(\n",
    "        x == 0 ~ as.character(x),\n",
    "        x %% 15 == 0 ~ \"fizzbuzz\",\n",
    "        x %% 3 == 0 ~ \"fizz\",\n",
    "        x %% 5 == 0 ~ \"buzz\",\n",
    "        TRUE ~ as.character(x)\n",
    "    )\n",
    "}"
   ]
  },
  {
   "cell_type": "code",
   "execution_count": 113,
   "metadata": {
    "ExecuteTime": {
     "end_time": "2020-02-19T20:53:02.815290Z",
     "start_time": "2020-02-19T20:53:02.768Z"
    }
   },
   "outputs": [
    {
     "data": {
      "text/html": [
       "<style>\n",
       ".list-inline {list-style: none; margin:0; padding: 0}\n",
       ".list-inline>li {display: inline-block}\n",
       ".list-inline>li:not(:last-child)::after {content: \"\\00b7\"; padding: 0 .5ex}\n",
       "</style>\n",
       "<ol class=list-inline><li>'0'</li><li>'1'</li><li>'2'</li><li>'fizz'</li><li>'buzz'</li><li>'fizz'</li><li>'buzz'</li><li>'fizz'</li><li>'fizzbuzz'</li></ol>\n"
      ],
      "text/latex": [
       "\\begin{enumerate*}\n",
       "\\item '0'\n",
       "\\item '1'\n",
       "\\item '2'\n",
       "\\item 'fizz'\n",
       "\\item 'buzz'\n",
       "\\item 'fizz'\n",
       "\\item 'buzz'\n",
       "\\item 'fizz'\n",
       "\\item 'fizzbuzz'\n",
       "\\end{enumerate*}\n"
      ],
      "text/markdown": [
       "1. '0'\n",
       "2. '1'\n",
       "3. '2'\n",
       "4. 'fizz'\n",
       "5. 'buzz'\n",
       "6. 'fizz'\n",
       "7. 'buzz'\n",
       "8. 'fizz'\n",
       "9. 'fizzbuzz'\n",
       "\n",
       "\n"
      ],
      "text/plain": [
       "[1] \"0\"        \"1\"        \"2\"        \"fizz\"     \"buzz\"     \"fizz\"     \"buzz\"    \n",
       "[8] \"fizz\"     \"fizzbuzz\""
      ]
     },
     "metadata": {},
     "output_type": "display_data"
    }
   ],
   "source": [
    "fizzbuzz_vec(c(0, 1, 2, 3, 5, 9, 10, 12, 15))"
   ]
  },
  {
   "cell_type": "markdown",
   "metadata": {},
   "source": [
    "<b><font color = 'purple'>4.  How could you use `cut()` to simplify this set of nested if-else statements? </font></b>\n",
    "\n",
    "```sourceCode\n",
    "if (temp <= 0) {\n",
    "  \"freezing\"\n",
    "} else if (temp <= 10) {\n",
    "  \"cold\"\n",
    "} else if (temp <= 20) {\n",
    "  \"cool\"\n",
    "} else if (temp <= 30) {\n",
    "  \"warm\"\n",
    "} else {\n",
    "  \"hot\"\n",
    "}\n",
    "```\n",
    "\n",
    "<b><font color = 'purple'>How would you change the call to `cut()` if I’d used `<` instead of `<=`? </font></b>"
   ]
  },
  {
   "cell_type": "raw",
   "metadata": {},
   "source": [
    "cut(x, breaks, labels = NULL,\n",
    "    include.lowest = FALSE, right = TRUE, dig.lab = 3,\n",
    "    ordered_result = FALSE, ...)"
   ]
  },
  {
   "cell_type": "code",
   "execution_count": 117,
   "metadata": {
    "ExecuteTime": {
     "end_time": "2020-02-19T21:30:05.113642Z",
     "start_time": "2020-02-19T21:30:05.058Z"
    }
   },
   "outputs": [
    {
     "data": {
      "text/html": [
       "<style>\n",
       ".list-inline {list-style: none; margin:0; padding: 0}\n",
       ".list-inline>li {display: inline-block}\n",
       ".list-inline>li:not(:last-child)::after {content: \"\\00b7\"; padding: 0 .5ex}\n",
       "</style>\n",
       "<ol class=list-inline><li>freezing</li><li>freezing</li><li>freezing</li><li>cold</li><li>cold</li><li>cool</li><li>cool</li><li>warm</li><li>warm</li><li>hot</li><li>hot</li><li>hot</li><li>hot</li></ol>\n",
       "\n",
       "<details>\n",
       "\t<summary style=display:list-item;cursor:pointer>\n",
       "\t\t<strong>Levels</strong>:\n",
       "\t</summary>\n",
       "\t<style>\n",
       "\t.list-inline {list-style: none; margin:0; padding: 0}\n",
       "\t.list-inline>li {display: inline-block}\n",
       "\t.list-inline>li:not(:last-child)::after {content: \"\\00b7\"; padding: 0 .5ex}\n",
       "\t</style>\n",
       "\t<ol class=list-inline><li>'freezing'</li><li>'cold'</li><li>'cool'</li><li>'warm'</li><li>'hot'</li></ol>\n",
       "</details>"
      ],
      "text/latex": [
       "\\begin{enumerate*}\n",
       "\\item freezing\n",
       "\\item freezing\n",
       "\\item freezing\n",
       "\\item cold\n",
       "\\item cold\n",
       "\\item cool\n",
       "\\item cool\n",
       "\\item warm\n",
       "\\item warm\n",
       "\\item hot\n",
       "\\item hot\n",
       "\\item hot\n",
       "\\item hot\n",
       "\\end{enumerate*}\n",
       "\n",
       "\\emph{Levels}: \\begin{enumerate*}\n",
       "\\item 'freezing'\n",
       "\\item 'cold'\n",
       "\\item 'cool'\n",
       "\\item 'warm'\n",
       "\\item 'hot'\n",
       "\\end{enumerate*}\n"
      ],
      "text/markdown": [
       "1. freezing\n",
       "2. freezing\n",
       "3. freezing\n",
       "4. cold\n",
       "5. cold\n",
       "6. cool\n",
       "7. cool\n",
       "8. warm\n",
       "9. warm\n",
       "10. hot\n",
       "11. hot\n",
       "12. hot\n",
       "13. hot\n",
       "\n",
       "\n",
       "\n",
       "**Levels**: 1. 'freezing'\n",
       "2. 'cold'\n",
       "3. 'cool'\n",
       "4. 'warm'\n",
       "5. 'hot'\n",
       "\n",
       "\n"
      ],
      "text/plain": [
       " [1] freezing freezing freezing cold     cold     cool     cool     warm    \n",
       " [9] warm     hot      hot      hot      hot     \n",
       "Levels: freezing cold cool warm hot"
      ]
     },
     "metadata": {},
     "output_type": "display_data"
    },
    {
     "data": {
      "text/html": [
       "<style>\n",
       ".list-inline {list-style: none; margin:0; padding: 0}\n",
       ".list-inline>li {display: inline-block}\n",
       ".list-inline>li:not(:last-child)::after {content: \"\\00b7\"; padding: 0 .5ex}\n",
       "</style>\n",
       "<ol class=list-inline><li>-10</li><li>-5</li><li>0</li><li>5</li><li>10</li><li>15</li></ol>\n"
      ],
      "text/latex": [
       "\\begin{enumerate*}\n",
       "\\item -10\n",
       "\\item -5\n",
       "\\item 0\n",
       "\\item 5\n",
       "\\item 10\n",
       "\\item 15\n",
       "\\end{enumerate*}\n"
      ],
      "text/markdown": [
       "1. -10\n",
       "2. -5\n",
       "3. 0\n",
       "4. 5\n",
       "5. 10\n",
       "6. 15\n",
       "\n",
       "\n"
      ],
      "text/plain": [
       "[1] -10  -5   0   5  10  15"
      ]
     },
     "metadata": {},
     "output_type": "display_data"
    }
   ],
   "source": [
    "temp <- seq(-10, 50, by = 5)\n",
    "cut(temp, c(-Inf, 0, 10, 20, 30, Inf),\n",
    "  right = TRUE,\n",
    "  labels = c(\"freezing\", \"cold\", \"cool\", \"warm\", \"hot\")\n",
    ")\n"
   ]
  },
  {
   "cell_type": "markdown",
   "metadata": {},
   "source": [
    "<b><font color = 'purple'>What is the other chief advantage of `cut()` for this problem? (Hint:\n",
    "what happens if you have many values in `temp`?) </font></b>"
   ]
  },
  {
   "cell_type": "markdown",
   "metadata": {},
   "source": [
    "To have intervals open on the left (using `<`), I change the argument to `right = FALSE`,\n"
   ]
  },
  {
   "cell_type": "code",
   "execution_count": 119,
   "metadata": {
    "ExecuteTime": {
     "end_time": "2020-02-19T21:54:06.200873Z",
     "start_time": "2020-02-19T21:54:06.147Z"
    }
   },
   "outputs": [
    {
     "data": {
      "text/html": [
       "<style>\n",
       ".list-inline {list-style: none; margin:0; padding: 0}\n",
       ".list-inline>li {display: inline-block}\n",
       ".list-inline>li:not(:last-child)::after {content: \"\\00b7\"; padding: 0 .5ex}\n",
       "</style>\n",
       "<ol class=list-inline><li>freezing</li><li>freezing</li><li>cold</li><li>cold</li><li>cool</li><li>cool</li><li>warm</li><li>warm</li><li>hot</li><li>hot</li><li>hot</li><li>hot</li><li>hot</li></ol>\n",
       "\n",
       "<details>\n",
       "\t<summary style=display:list-item;cursor:pointer>\n",
       "\t\t<strong>Levels</strong>:\n",
       "\t</summary>\n",
       "\t<style>\n",
       "\t.list-inline {list-style: none; margin:0; padding: 0}\n",
       "\t.list-inline>li {display: inline-block}\n",
       "\t.list-inline>li:not(:last-child)::after {content: \"\\00b7\"; padding: 0 .5ex}\n",
       "\t</style>\n",
       "\t<ol class=list-inline><li>'freezing'</li><li>'cold'</li><li>'cool'</li><li>'warm'</li><li>'hot'</li></ol>\n",
       "</details>"
      ],
      "text/latex": [
       "\\begin{enumerate*}\n",
       "\\item freezing\n",
       "\\item freezing\n",
       "\\item cold\n",
       "\\item cold\n",
       "\\item cool\n",
       "\\item cool\n",
       "\\item warm\n",
       "\\item warm\n",
       "\\item hot\n",
       "\\item hot\n",
       "\\item hot\n",
       "\\item hot\n",
       "\\item hot\n",
       "\\end{enumerate*}\n",
       "\n",
       "\\emph{Levels}: \\begin{enumerate*}\n",
       "\\item 'freezing'\n",
       "\\item 'cold'\n",
       "\\item 'cool'\n",
       "\\item 'warm'\n",
       "\\item 'hot'\n",
       "\\end{enumerate*}\n"
      ],
      "text/markdown": [
       "1. freezing\n",
       "2. freezing\n",
       "3. cold\n",
       "4. cold\n",
       "5. cool\n",
       "6. cool\n",
       "7. warm\n",
       "8. warm\n",
       "9. hot\n",
       "10. hot\n",
       "11. hot\n",
       "12. hot\n",
       "13. hot\n",
       "\n",
       "\n",
       "\n",
       "**Levels**: 1. 'freezing'\n",
       "2. 'cold'\n",
       "3. 'cool'\n",
       "4. 'warm'\n",
       "5. 'hot'\n",
       "\n",
       "\n"
      ],
      "text/plain": [
       " [1] freezing freezing cold     cold     cool     cool     warm     warm    \n",
       " [9] hot      hot      hot      hot      hot     \n",
       "Levels: freezing cold cool warm hot"
      ]
     },
     "metadata": {},
     "output_type": "display_data"
    }
   ],
   "source": [
    "temp <- seq(-10, 50, by = 5)\n",
    "cut(temp, c(-Inf, 0, 10, 20, 30, Inf),\n",
    "  right = FALSE,\n",
    "  labels = c(\"freezing\", \"cold\", \"cool\", \"warm\", \"hot\")\n",
    ")\n",
    "#>  [1] freezing freezing cold     cold     cool     cool     warm    \n",
    "#>  [8] warm     hot      hot      hot      hot      hot     \n",
    "#> Levels: freezing cold cool warm hot"
   ]
  },
  {
   "cell_type": "markdown",
   "metadata": {},
   "source": [
    "Two advantages of using `cut` is that it works on vectors, whereas `if` only works on a single value (I already demonstrated this above),\n",
    "and that to change comparisons I only needed to change the argument to `right`, but I would have had to change four operators in the `if` expression."
   ]
  },
  {
   "cell_type": "markdown",
   "metadata": {},
   "source": [
    "<b><font color = 'purple'>5.  What happens if you use `switch()` with numeric values? </font></b>"
   ]
  },
  {
   "cell_type": "markdown",
   "metadata": {},
   "source": [
    "In `switch(n, ...)`, if `n` is numeric, it will return the `n`th argument from `...`.\n",
    "This means that if `n = 1`, `switch()` will return the first argument in `...`,\n",
    "if `n = 2`, the second, and so on.\n",
    "For example,\n",
    "\n",
    "```sourceCode\n",
    "switch(1, \"apple\", \"banana\", \"cantaloupe\")\n",
    "#> [1] \"apple\"\n",
    "switch(2, \"apple\", \"banana\", \"cantaloupe\")\n",
    "#> [1] \"banana\"\n",
    "```\n",
    "\n",
    "<font color = 'red'>If you use a non-integer number for the first argument of `switch()`, it will\n",
    "ignore the non-integer part.</font>\n",
    "\n",
    "```sourceCode\n",
    "switch(1.2, \"apple\", \"banana\", \"cantaloupe\")\n",
    "#> [1] \"apple\"\n",
    "switch(2.8, \"apple\", \"banana\", \"cantaloupe\")\n",
    "#> [1] \"banana\"\n",
    "```\n",
    "\n",
    "Note that `switch()` <font color = 'red'>truncates</font> the numeric value, it does not round to the nearest integer.\n",
    "While it is possible to use non-integer numbers with `switch()`, you should avoid it"
   ]
  },
  {
   "cell_type": "markdown",
   "metadata": {},
   "source": [
    "<b><font color = 'purple'>6.  What does this `switch()` call do? What happens if `x` is “e”? </font></b>\n",
    "\n",
    "```sourceCode\n",
    "switch(x, \n",
    "  a = ,\n",
    "  b = \"ab\",\n",
    "  c = ,\n",
    "  d = \"cd\"\n",
    ")\n",
    "```\n",
    "    Experiment, then carefully read the documentation."
   ]
  },
  {
   "cell_type": "code",
   "execution_count": 124,
   "metadata": {
    "ExecuteTime": {
     "end_time": "2020-02-19T21:57:56.515116Z",
     "start_time": "2020-02-19T21:57:56.458Z"
    }
   },
   "outputs": [
    {
     "data": {
      "text/html": [
       "'ab'"
      ],
      "text/latex": [
       "'ab'"
      ],
      "text/markdown": [
       "'ab'"
      ],
      "text/plain": [
       "[1] \"ab\""
      ]
     },
     "metadata": {},
     "output_type": "display_data"
    }
   ],
   "source": [
    "x <- \"a\"\n",
    "switch(x, \n",
    "  a = ,\n",
    "  b = \"ab\",\n",
    "  c = ,\n",
    "  d = \"cd\"\n",
    ")"
   ]
  },
  {
   "cell_type": "code",
   "execution_count": 133,
   "metadata": {
    "ExecuteTime": {
     "end_time": "2020-02-19T22:01:27.938165Z",
     "start_time": "2020-02-19T22:01:27.835Z"
    }
   },
   "outputs": [
    {
     "data": {
      "text/html": [
       "'ab'"
      ],
      "text/latex": [
       "'ab'"
      ],
      "text/markdown": [
       "'ab'"
      ],
      "text/plain": [
       "[1] \"ab\""
      ]
     },
     "metadata": {},
     "output_type": "display_data"
    },
    {
     "data": {
      "text/html": [
       "'ab'"
      ],
      "text/latex": [
       "'ab'"
      ],
      "text/markdown": [
       "'ab'"
      ],
      "text/plain": [
       "[1] \"ab\""
      ]
     },
     "metadata": {},
     "output_type": "display_data"
    },
    {
     "data": {
      "text/html": [
       "'cd'"
      ],
      "text/latex": [
       "'cd'"
      ],
      "text/markdown": [
       "'cd'"
      ],
      "text/plain": [
       "[1] \"cd\""
      ]
     },
     "metadata": {},
     "output_type": "display_data"
    },
    {
     "data": {
      "text/html": [
       "'cd'"
      ],
      "text/latex": [
       "'cd'"
      ],
      "text/markdown": [
       "'cd'"
      ],
      "text/plain": [
       "[1] \"cd\""
      ]
     },
     "metadata": {},
     "output_type": "display_data"
    },
    {
     "name": "stdout",
     "output_type": "stream",
     "text": [
      "[1] \"-=switcheroo('e')=-\"\n"
     ]
    }
   ],
   "source": [
    "switcheroo <- function(x) {\n",
    "  switch(x,\n",
    "    a = ,\n",
    "    b = \"ab\",\n",
    "    c = ,\n",
    "    d = \"cd\"\n",
    "  )\n",
    "}\n",
    "switcheroo(\"a\")\n",
    "#> [1] \"ab\"\n",
    "switcheroo(\"b\")\n",
    "#> [1] \"ab\"\n",
    "switcheroo(\"c\")\n",
    "#> [1] \"cd\"\n",
    "switcheroo(\"d\")\n",
    "#> [1] \"cd\"\n",
    "print(\"-=switcheroo('e')=-\")\n",
    "switcheroo(\"e\")\n",
    "switcheroo(\"f\")"
   ]
  },
  {
   "cell_type": "markdown",
   "metadata": {},
   "source": [
    "The `switcheroo()` function returns `\"ab\"` for `x = \"a\"` or `x = \"b\"`,\n",
    "`\"cd\"` for `x = \"c\"` or `x = \"d\"`, and\n",
    "`NULL` for `x = \"e\"` or any other value of `x` not in `c(\"a\", \"b\", \"c\", \"d\")`.\n",
    "\n",
    "How does this work?\n",
    "<font color = 'green'><b>The `switch()` function returns the first non-missing argument value for the first name it matches.</b></font>\n",
    "\n",
    "*  Thus, when `switch()` encounters an argument with a missing value, like `a = ,`, it will return the value of the next argument with a non missing value, which in this case is `b = \"ab\"`.\n",
    "\n",
    "* If `object` in `switch(object=)` is not equal to the names of any of its arguments, `switch()` will return either the last (unnamed) argument if one is present or `NULL`.\n",
    "\n",
    "Since `\"e\"` is not one of the named arguments in `switch()` (`a`, `b`, `c`, `d`), and no other unnamed default value is present, this code will return `NULL`.\n",
    "\n",
    "The code in the question is shorter way of writing the following.\n",
    "\n",
    "```sourceCode\n",
    "switch(x,\n",
    "  a = \"ab\",\n",
    "  b = \"ab\",\n",
    "  c = \"cd\",\n",
    "  d = \"cd\",\n",
    "  NULL # value to return if x not matched\n",
    ")\n",
    "```"
   ]
  },
  {
   "cell_type": "markdown",
   "metadata": {},
   "source": [
    "## Function arguments"
   ]
  },
  {
   "cell_type": "markdown",
   "metadata": {},
   "source": [
    "The arguments to a function typically fall into two broad sets: one set supplies the **data** to compute on, and the other supplies arguments that control the **details** of the computation. For example:\n",
    "\n",
    "* In `log()`, the data is `x`, and the detail is the `base` of the logarithm.\n",
    "\n",
    "* In `mean()`, the data is `x`, and the details are how much data to trim\n",
    "    from the ends (`trim`) and how to handle missing values (`na.rm`).\n",
    "\n",
    "* In `t.test()`, the data are `x` and `y`, and the details of the test are\n",
    "    `alternative`, `mu`, `paired`, `var.equal`, and `conf.level`.\n",
    "\n",
    "* In `str_c()` you can supply any number of strings to `...`, and the details\n",
    "    of the concatenation are controlled by `sep` and `collapse`.\n",
    "\n",
    "<font color = 'blue'>Generally, data arguments should come first. Detail arguments should go on the end, and usually should have default values</font>. You specify a default value in the same way you call a function with a named argument:\n"
   ]
  },
  {
   "cell_type": "code",
   "execution_count": 134,
   "metadata": {
    "ExecuteTime": {
     "end_time": "2020-02-19T22:12:48.127212Z",
     "start_time": "2020-02-19T22:12:48.046Z"
    }
   },
   "outputs": [
    {
     "data": {
      "text/html": [
       "<style>\n",
       ".list-inline {list-style: none; margin:0; padding: 0}\n",
       ".list-inline>li {display: inline-block}\n",
       ".list-inline>li:not(:last-child)::after {content: \"\\00b7\"; padding: 0 .5ex}\n",
       "</style>\n",
       "<ol class=list-inline><li>0.486434047191793</li><li>0.603622660941987</li></ol>\n"
      ],
      "text/latex": [
       "\\begin{enumerate*}\n",
       "\\item 0.486434047191793\n",
       "\\item 0.603622660941987\n",
       "\\end{enumerate*}\n"
      ],
      "text/markdown": [
       "1. 0.486434047191793\n",
       "2. 0.603622660941987\n",
       "\n",
       "\n"
      ],
      "text/plain": [
       "[1] 0.4864340 0.6036227"
      ]
     },
     "metadata": {},
     "output_type": "display_data"
    },
    {
     "data": {
      "text/html": [
       "<style>\n",
       ".list-inline {list-style: none; margin:0; padding: 0}\n",
       ".list-inline>li {display: inline-block}\n",
       ".list-inline>li:not(:last-child)::after {content: \"\\00b7\"; padding: 0 .5ex}\n",
       "</style>\n",
       "<ol class=list-inline><li>0.468022381579374</li><li>0.622034326554405</li></ol>\n"
      ],
      "text/latex": [
       "\\begin{enumerate*}\n",
       "\\item 0.468022381579374\n",
       "\\item 0.622034326554405\n",
       "\\end{enumerate*}\n"
      ],
      "text/markdown": [
       "1. 0.468022381579374\n",
       "2. 0.622034326554405\n",
       "\n",
       "\n"
      ],
      "text/plain": [
       "[1] 0.4680224 0.6220343"
      ]
     },
     "metadata": {},
     "output_type": "display_data"
    }
   ],
   "source": [
    "# Compute confidence interval around mean using normal approximation\n",
    "mean_ci <- function(x, conf = 0.95) {\n",
    "  se <- sd(x) / sqrt(length(x))\n",
    "  alpha <- 1 - conf\n",
    "  mean(x) + se * qnorm(c(alpha / 2, 1 - alpha / 2))\n",
    "}\n",
    "\n",
    "x <- runif(100)\n",
    "mean_ci(x)\n",
    "#> [1] 0.498 0.610\n",
    "mean_ci(x, conf = 0.99)\n",
    "#> [1] 0.480 0.628"
   ]
  },
  {
   "cell_type": "markdown",
   "metadata": {},
   "source": [
    "The default value should almost always be the most common value. The few exceptions to this rule are to do with safety. For example, it makes sense for `na.rm` to default to `FALSE` because missing values are important. Even though `na.rm = TRUE` is what you usually put in your code, it’s a bad idea to silently ignore missing values by default.\n",
    "\n",
    "<font color = 'blue'>When you call a function, you typically omit the names of the data arguments, because they are used so commonly. If you override the default value of a detail argument, you should use the full name:</font>\n",
    "\n",
    "```sourceCode\n",
    "# Good\n",
    "mean(1:10, na.rm = TRUE)\n",
    "\n",
    "# Bad\n",
    "mean(x = 1:10, , FALSE)\n",
    "mean(, TRUE, x = c(1:10, NA))\n",
    "```\n",
    "\n",
    "You can refer to an argument by its unique prefix (e.g. `mean(x, n = TRUE)`), but this is generally best avoided given the possibilities for confusion.\n",
    "\n",
    "Notice that when you call a function, you should place a space around `=` in function calls, and always put a space after a comma, not before (just like in regular English). Using whitespace makes it easier to skim the function for the important components.\n",
    "\n",
    "```sourceCode\n",
    "# Good\n",
    "average <- mean(feet / 12 + inches, na.rm = TRUE)\n",
    "\n",
    "# Bad\n",
    "average<-mean(feet/12+inches,na.rm=TRUE)\n",
    "```\n"
   ]
  },
  {
   "cell_type": "markdown",
   "metadata": {
    "heading_collapsed": true
   },
   "source": [
    "### Choosing names"
   ]
  },
  {
   "cell_type": "markdown",
   "metadata": {
    "hidden": true
   },
   "source": [
    "The names of the arguments are also important. R doesn’t care, but the readers of your code (including future-you!) will. Generally you should prefer longer, more descriptive names, but there are a handful of very common, very short names. It’s worth memorising these:\n",
    "\n",
    "* `x`, `y`, `z`: vectors.\n",
    "* `w`: a vector of weights.\n",
    "* `df`: a data frame.\n",
    "* `i`, `j`: numeric indices (typically rows and columns).\n",
    "* `n`: length, or number of rows.\n",
    "* `p`: number of columns.\n",
    "\n",
    "Otherwise, consider matching names of arguments in existing R functions. For example, use `na.rm` to determine if missing values should be removed."
   ]
  },
  {
   "cell_type": "markdown",
   "metadata": {},
   "source": [
    "###  Checking values"
   ]
  },
  {
   "cell_type": "markdown",
   "metadata": {},
   "source": [
    "As you start to write more functions, you’ll eventually get to the point where you don’t remember exactly how your function works. At this point it’s easy to call your function with invalid inputs. To avoid this problem, it’s often useful to make constraints explicit. For example, imagine you’ve written some functions for computing weighted summary statistics:\n",
    "\n",
    "```sourceCode\n",
    "wt_mean <- function(x, w) {\n",
    "  sum(x * w) / sum(w)\n",
    "}\n",
    "wt_var <- function(x, w) {\n",
    "  mu <- wt_mean(x, w)\n",
    "  sum(w * (x - mu) ^ 2) / sum(w)\n",
    "}\n",
    "wt_sd <- function(x, w) {\n",
    "  sqrt(wt_var(x, w))\n",
    "}\n",
    "```\n",
    "\n",
    "What happens if `x` and `w` are not the same length?\n",
    "\n",
    "```sourceCode\n",
    "wt_mean(1:6, 1:3)\n",
    "#> [1] 7.67\n",
    "```\n",
    "\n",
    "In this case, because of R’s vector recycling rules, we don’t get an error.\n",
    "\n",
    "It’s good practice to check important preconditions, and throw an error (with `stop()`), if they are not true:\n",
    "\n",
    "```sourceCode\n",
    "wt_mean <- function(x, w) {\n",
    "  if (length(x) != length(w)) {\n",
    "    stop(\"`x` and `w` must be the same length\", call. = FALSE)\n",
    "  }\n",
    "  sum(w * x) / sum(w)\n",
    "}\n",
    "```\n",
    "\n",
    "Be careful not to take this too far. There’s a tradeoff between how much time you spend making your function robust, versus how long you spend writing it. For example, if you also added a `na.rm` argument, I probably wouldn’t check it carefully:\n",
    "\n",
    "```sourceCode\n",
    "wt_mean <- function(x, w, na.rm = FALSE) {\n",
    "  if (!is.logical(na.rm)) {\n",
    "    stop(\"`na.rm` must be logical\")\n",
    "  }\n",
    "  if (length(na.rm) != 1) {\n",
    "    stop(\"`na.rm` must be length 1\")\n",
    "  }\n",
    "  if (length(x) != length(w)) {\n",
    "    stop(\"`x` and `w` must be the same length\", call. = FALSE)\n",
    "  }\n",
    "\n",
    "  if (na.rm) {\n",
    "    miss <- is.na(x) | is.na(w)\n",
    "    x <- x[!miss]\n",
    "    w <- w[!miss]\n",
    "  }\n",
    "  sum(w * x) / sum(w)\n",
    "}\n",
    "```\n",
    "\n",
    "This is a lot of extra work for little additional gain. A useful compromise is the built-in `stopifnot()`: it checks that each argument is `TRUE`, and produces a generic error message if not.\n",
    "\n",
    "```sourceCode\n",
    "wt_mean <- function(x, w, na.rm = FALSE) {\n",
    "  stopifnot(is.logical(na.rm), length(na.rm) == 1)\n",
    "  stopifnot(length(x) == length(w))\n",
    "\n",
    "  if (na.rm) {\n",
    "    miss <- is.na(x) | is.na(w)\n",
    "    x <- x[!miss]\n",
    "    w <- w[!miss]\n",
    "  }\n",
    "  sum(w * x) / sum(w)\n",
    "}\n",
    "wt_mean(1:6, 6:1, na.rm = \"foo\")\n",
    "#> Error in wt_mean(1:6, 6:1, na.rm = \"foo\"): is.logical(na.rm) is not TRUE\n",
    "```\n",
    "\n",
    "Note that when using `stopifnot()` you assert what should be true rather than checking for what might be wrong."
   ]
  },
  {
   "cell_type": "markdown",
   "metadata": {},
   "source": [
    "### Dot-dot-dot (…)"
   ]
  },
  {
   "cell_type": "markdown",
   "metadata": {},
   "source": [
    "Many functions in R take an arbitrary number of inputs:\n",
    "\n",
    "```sourceCode\n",
    "sum(1, 2, 3, 4, 5, 6, 7, 8, 9, 10)\n",
    "#> [1] 55\n",
    "stringr::str_c(\"a\", \"b\", \"c\", \"d\", \"e\", \"f\")\n",
    "#> [1] \"abcdef\"\n",
    "```"
   ]
  },
  {
   "cell_type": "markdown",
   "metadata": {},
   "source": [
    "How do these functions work? They rely on a special argument: `...` (pronounced dot-dot-dot). This special argument captures any number of arguments that aren’t otherwise matched.\n",
    "\n",
    "It’s useful because you can then send those `...` on to another function. This is a useful catch-all if your function primarily wraps another function. For example, I commonly create these helper functions that wrap around `str_c()`:"
   ]
  },
  {
   "cell_type": "code",
   "execution_count": null,
   "metadata": {
    "ExecuteTime": {
     "end_time": "2020-02-19T22:40:47.833928Z",
     "start_time": "2020-02-19T22:40:47.768Z"
    }
   },
   "outputs": [],
   "source": [
    "commas <- function(...) stringr::str_c(..., collapse = \", \")\n",
    "commas(letters[1:10])\n",
    "#> [1] \"a, b, c, d, e, f, g, h, i, j\""
   ]
  },
  {
   "cell_type": "code",
   "execution_count": 154,
   "metadata": {
    "ExecuteTime": {
     "end_time": "2020-02-19T23:01:15.839437Z",
     "start_time": "2020-02-19T23:01:15.793Z"
    }
   },
   "outputs": [
    {
     "name": "stdout",
     "output_type": "stream",
     "text": [
      "Important output -----------------------------------------------------------\n"
     ]
    }
   ],
   "source": [
    "rule <- function(..., pad = \"-\") {\n",
    "  title <- paste0(...)\n",
    "  width <- getOption(\"width\") - nchar(title) - 5\n",
    "  cat(title, \" \", stringr::str_dup(pad, width), \"\\n\", sep = \"\")\n",
    "}\n",
    "\n",
    "rule(\"Important output\")\n",
    "#> Important output ----------------------------------------------------"
   ]
  },
  {
   "cell_type": "markdown",
   "metadata": {},
   "source": [
    "<font color = 'green'><b>Here `...` lets me forward on any arguments that I don’t want to deal with to `str_c()`</b></font>. It’s a very convenient technique. But it does come at a price: any misspelled arguments will not raise an error. This makes it easy for typos to go unnoticed:\n",
    "\n",
    "```sourceCode\n",
    "x <- c(1, 2)\n",
    "sum(x, na.mr = TRUE)\n",
    "#> [1] 4\n",
    "```\n",
    "\n",
    "If you just want to capture the values of the `...`, use `list(...)`."
   ]
  },
  {
   "cell_type": "markdown",
   "metadata": {
    "heading_collapsed": true
   },
   "source": [
    "### Lazy evaluation"
   ]
  },
  {
   "cell_type": "markdown",
   "metadata": {
    "hidden": true
   },
   "source": [
    "Arguments in R are lazily evaluated: <font color = 'blue'>they’re not computed until they’re needed. That means if they’re never used, they’re never called</font>. This is an important property of R as a programming language, but is generally not important when you’re writing your own functions for data analysis. You can read more about lazy evaluation at http://adv-r.had.co.nz/Functions.html#lazy-evaluation."
   ]
  },
  {
   "cell_type": "markdown",
   "metadata": {
    "heading_collapsed": true
   },
   "source": [
    "### Exercises"
   ]
  },
  {
   "cell_type": "markdown",
   "metadata": {
    "hidden": true
   },
   "source": [
    "<b><font color = 'purple'>1.  What does `commas(letters, collapse = \"-\")` do? Why? </font></b>"
   ]
  },
  {
   "cell_type": "markdown",
   "metadata": {
    "ExecuteTime": {
     "end_time": "2020-02-19T22:51:53.100481Z",
     "start_time": "2020-02-19T22:51:53.040Z"
    },
    "hidden": true
   },
   "source": [
    "The `commas()` function in the chapter is defined as"
   ]
  },
  {
   "cell_type": "code",
   "execution_count": 140,
   "metadata": {
    "ExecuteTime": {
     "end_time": "2020-02-19T22:58:41.622461Z",
     "start_time": "2020-02-19T22:58:41.581Z"
    },
    "hidden": true
   },
   "outputs": [],
   "source": [
    "commas <- function(...) {\n",
    "  str_c(..., collapse = \", \")\n",
    "}"
   ]
  },
  {
   "cell_type": "markdown",
   "metadata": {
    "ExecuteTime": {
     "end_time": "2020-02-19T22:51:53.100481Z",
     "start_time": "2020-02-19T22:51:53.040Z"
    },
    "hidden": true
   },
   "source": [
    "When `commas()` is given a collapse argument, it throws an error."
   ]
  },
  {
   "cell_type": "code",
   "execution_count": 145,
   "metadata": {
    "ExecuteTime": {
     "end_time": "2020-02-19T22:59:10.114230Z",
     "start_time": "2020-02-19T22:59:10.063Z"
    },
    "hidden": true
   },
   "outputs": [
    {
     "data": {
      "text/html": [
       "'a-b-c-d-e-f-g-h-i-j-k-l-m-n-o-p-q-r-s-t-u-v-w-x-y-z'"
      ],
      "text/latex": [
       "'a-b-c-d-e-f-g-h-i-j-k-l-m-n-o-p-q-r-s-t-u-v-w-x-y-z'"
      ],
      "text/markdown": [
       "'a-b-c-d-e-f-g-h-i-j-k-l-m-n-o-p-q-r-s-t-u-v-w-x-y-z'"
      ],
      "text/plain": [
       "[1] \"a-b-c-d-e-f-g-h-i-j-k-l-m-n-o-p-q-r-s-t-u-v-w-x-y-z\""
      ]
     },
     "metadata": {},
     "output_type": "display_data"
    }
   ],
   "source": [
    "commas(letters, collapse = \"-\")\n",
    "#> Error in str_c(..., collapse = \", \"): formal argument \"collapse\" matched by multiple actual arguments"
   ]
  },
  {
   "cell_type": "markdown",
   "metadata": {
    "ExecuteTime": {
     "end_time": "2020-02-19T22:51:53.100481Z",
     "start_time": "2020-02-19T22:51:53.040Z"
    },
    "hidden": true
   },
   "source": [
    "This is because when the argument `collapse` is given to `commas()`, it\n",
    "is passed to `str_c()` as part of `...`.\n",
    "In other words, the previous code is equivalent to"
   ]
  },
  {
   "cell_type": "code",
   "execution_count": 146,
   "metadata": {
    "ExecuteTime": {
     "end_time": "2020-02-19T22:59:24.890815Z",
     "start_time": "2020-02-19T22:59:24.844Z"
    },
    "collapsed": true,
    "hidden": true
   },
   "outputs": [
    {
     "ename": "ERROR",
     "evalue": "Error in str_c(letters, collapse = \"-\", collapse = \", \"): formal argument \"collapse\" matched by multiple actual arguments\n",
     "output_type": "error",
     "traceback": [
      "Error in str_c(letters, collapse = \"-\", collapse = \", \"): formal argument \"collapse\" matched by multiple actual arguments\nTraceback:\n"
     ]
    }
   ],
   "source": [
    "str_c(letters, collapse = \"-\", collapse = \", \")"
   ]
  },
  {
   "cell_type": "markdown",
   "metadata": {
    "ExecuteTime": {
     "end_time": "2020-02-19T22:51:53.100481Z",
     "start_time": "2020-02-19T22:51:53.040Z"
    },
    "hidden": true
   },
   "source": [
    "However, it is an error to give the same named argument to a function twice.\n",
    "\n",
    "One way to allow the user to override the separator in `commas()` is to add a `collapse`\n",
    "argument to the function."
   ]
  },
  {
   "cell_type": "code",
   "execution_count": 196,
   "metadata": {
    "ExecuteTime": {
     "end_time": "2020-02-20T02:16:28.163673Z",
     "start_time": "2020-02-20T02:16:28.122Z"
    },
    "hidden": true
   },
   "outputs": [],
   "source": [
    "commas <- function(..., collapse = \", \") {\n",
    "  str_c(..., collapse = collapse)\n",
    "}"
   ]
  },
  {
   "cell_type": "code",
   "execution_count": 197,
   "metadata": {
    "ExecuteTime": {
     "end_time": "2020-02-20T02:16:29.082847Z",
     "start_time": "2020-02-20T02:16:29.036Z"
    },
    "hidden": true
   },
   "outputs": [
    {
     "data": {
      "text/html": [
       "'a-b-c-d-e-f-g-h-i-j-k-l-m-n-o-p-q-r-s-t-u-v-w-x-y-z'"
      ],
      "text/latex": [
       "'a-b-c-d-e-f-g-h-i-j-k-l-m-n-o-p-q-r-s-t-u-v-w-x-y-z'"
      ],
      "text/markdown": [
       "'a-b-c-d-e-f-g-h-i-j-k-l-m-n-o-p-q-r-s-t-u-v-w-x-y-z'"
      ],
      "text/plain": [
       "[1] \"a-b-c-d-e-f-g-h-i-j-k-l-m-n-o-p-q-r-s-t-u-v-w-x-y-z\""
      ]
     },
     "metadata": {},
     "output_type": "display_data"
    }
   ],
   "source": [
    "commas(letters, collapse = '-')"
   ]
  },
  {
   "cell_type": "markdown",
   "metadata": {
    "hidden": true
   },
   "source": [
    "<b><font color = 'purple'>2. It’d be nice if you could supply multiple characters to the `pad` argument, e.g. `rule(\"Title\", pad = \" - + \")`. Why doesn’t this currently work? How could you fix it?  </font></b>"
   ]
  },
  {
   "cell_type": "code",
   "execution_count": 211,
   "metadata": {
    "ExecuteTime": {
     "end_time": "2020-02-20T02:27:27.471380Z",
     "start_time": "2020-02-20T02:27:27.418Z"
    },
    "hidden": true
   },
   "outputs": [
    {
     "name": "stdout",
     "output_type": "stream",
     "text": [
      "Important output -----------------------------------------------------------\n"
     ]
    }
   ],
   "source": [
    "rule <- function(..., pad = \"-\") {\n",
    "  title <- paste0(...)\n",
    "  width <- getOption(\"width\") - nchar(title) - 5\n",
    "  cat(title, \" \", stringr::str_dup(pad, width), \"\\n\", sep = \"\")\n",
    "}\n",
    "\n",
    "rule(\"Important output\")\n",
    "#> Important output ----------------------------------------------------"
   ]
  },
  {
   "cell_type": "code",
   "execution_count": 159,
   "metadata": {
    "ExecuteTime": {
     "end_time": "2020-02-19T23:03:51.519301Z",
     "start_time": "2020-02-19T23:03:51.475Z"
    },
    "hidden": true
   },
   "outputs": [
    {
     "name": "stdout",
     "output_type": "stream",
     "text": [
      "Title -+-+-+-+-+-+-+-+-+-+-+-+-+-+-+-+-+-+-+-+-+-+-+-+-+-+-+-+-+-+-+-+-+-+-+-+-+-+-+-+-+-+-+-+-+-+-+-+-+-+-+-+-+-+-+-+-+-+-+-+-+-+-+-+-+-+-+-+-+-+\n"
     ]
    }
   ],
   "source": [
    "rule(\"Title\", pad = \"-+\")"
   ]
  },
  {
   "cell_type": "markdown",
   "metadata": {
    "hidden": true
   },
   "source": [
    "You can currently supply multiple characters to the `pad` argument, but the output will not be the desired width.\n",
    "The `rule()` function duplicates `pad` a number of times\n",
    "equal to the desired width minus the length of the title and five extra characters.\n",
    "This implicitly assumes that `pad` is only one character. If `pad` were two character,\n",
    "the output will be almost twice as long."
   ]
  },
  {
   "cell_type": "code",
   "execution_count": 175,
   "metadata": {
    "ExecuteTime": {
     "end_time": "2020-02-19T23:09:12.757037Z",
     "start_time": "2020-02-19T23:09:12.714Z"
    },
    "hidden": true
   },
   "outputs": [
    {
     "name": "stdout",
     "output_type": "stream",
     "text": [
      "Important output -----------------------------------------------------------\n"
     ]
    }
   ],
   "source": [
    "rule <- function(..., pad = \"-\") {\n",
    "  title <- paste0(...)\n",
    "  width <- getOption(\"width\") - nchar(title) - 5\n",
    "  cat(title, \" \", stringr::str_dup(pad, width/nchar(pad)), \"\\n\", sep = \"\")\n",
    "}\n",
    "\n",
    "rule(\"Important output\")\n",
    "#> Important output ----------------------------------------------------"
   ]
  },
  {
   "cell_type": "code",
   "execution_count": 176,
   "metadata": {
    "ExecuteTime": {
     "end_time": "2020-02-19T23:09:14.147414Z",
     "start_time": "2020-02-19T23:09:14.091Z"
    },
    "hidden": true
   },
   "outputs": [
    {
     "name": "stdout",
     "output_type": "stream",
     "text": [
      "Title -+-+-+-+-+-+-+-+-+-+-+-+-+-+-+-+-+-+-+-+-+-+-+-+-+-+-+-+-+-+-+-+-+-+-+\n"
     ]
    }
   ],
   "source": [
    "rule(\"Title\", pad = \"-+\")"
   ]
  },
  {
   "cell_type": "markdown",
   "metadata": {
    "hidden": true
   },
   "source": [
    "One way to handle this is to use `str_trunc()` to truncate the string,\n",
    "and `str_length()` to calculate the number of characters in the `pad` argument.\n"
   ]
  },
  {
   "cell_type": "code",
   "execution_count": null,
   "metadata": {
    "hidden": true
   },
   "outputs": [],
   "source": [
    "rule <- function(..., pad = \"-\") {\n",
    "  title <- paste0(...)\n",
    "  width <- getOption(\"width\") - nchar(title) - 5\n",
    "  padding <- str_dup(\n",
    "    pad,\n",
    "    ceiling(width / str_length(title))\n",
    "  ) %>%\n",
    "    str_trunc(width)\n",
    "  cat(title, \" \", padding, \"\\n\", sep = \"\")\n",
    "}\n",
    "rule(\"Important output\")\n",
    "#> Important output ----\n",
    "rule(\"Valuable output\", pad = \"-+\")\n",
    "#> Valuable output -+-+-+-+\n",
    "rule(\"Vital output\", pad = \"-+-\")\n",
    "#> Vital output -+--+--+--+--+-"
   ]
  },
  {
   "cell_type": "markdown",
   "metadata": {
    "hidden": true
   },
   "source": [
    "<b><font color = 'purple'>3.  What does the `trim` argument to `mean()` do? When might you use it? </font></b>"
   ]
  },
  {
   "cell_type": "markdown",
   "metadata": {
    "hidden": true
   },
   "source": [
    "it windsorizes the vector input, meaning extreme values at both ends are set to some threshold limit"
   ]
  },
  {
   "cell_type": "markdown",
   "metadata": {
    "hidden": true
   },
   "source": [
    "The trim arguments trims a fraction of observations from each end of the vector (meaning the range) before calculating the mean. This is useful for calculating a measure of central tendency that is robust to outliers."
   ]
  },
  {
   "cell_type": "markdown",
   "metadata": {
    "hidden": true
   },
   "source": [
    "<b><font color = 'purple'>4. The default value for the `method` argument to `cor()` is `c(\"pearson\", \"kendall\", \"spearman\")`. What does that mean? What value is used by default?  </font></b>"
   ]
  },
  {
   "cell_type": "markdown",
   "metadata": {
    "hidden": true
   },
   "source": [
    "It means that the `method` argument can take one of those three values.\n",
    "The first value, `\"pearson\"`, is used by default."
   ]
  },
  {
   "cell_type": "markdown",
   "metadata": {},
   "source": [
    "## Return values"
   ]
  },
  {
   "cell_type": "markdown",
   "metadata": {},
   "source": [
    "Figuring out what your function should return is usually straightforward: it’s why you created the function in the first place! There are two things you should consider when returning a value:\n",
    "\n",
    "1.  Does returning early make your function easier to read?\n",
    "\n",
    "2.  Can you make your function pipeable?"
   ]
  },
  {
   "cell_type": "markdown",
   "metadata": {
    "heading_collapsed": true
   },
   "source": [
    "### Explicit return statements"
   ]
  },
  {
   "cell_type": "markdown",
   "metadata": {
    "hidden": true
   },
   "source": [
    "The value returned by the function is usually the last statement it evaluates, but <font color = 'green'><b>you can choose to return early by using `return()`</b></font>. I think it’s best to save the use of `return()` to signal that you can return early with a simpler solution. A common reason to do this is because the inputs are empty:"
   ]
  },
  {
   "cell_type": "code",
   "execution_count": 178,
   "metadata": {
    "ExecuteTime": {
     "end_time": "2020-02-19T23:56:26.661301Z",
     "start_time": "2020-02-19T23:56:26.547Z"
    },
    "hidden": true
   },
   "outputs": [],
   "source": [
    "complicated_function <- function(x, y, z) {\n",
    "  if (length(x) == 0 || length(y) == 0) {\n",
    "    return(0)\n",
    "  }\n",
    "\n",
    "  # Complicated code here\n",
    "}"
   ]
  },
  {
   "cell_type": "markdown",
   "metadata": {
    "hidden": true
   },
   "source": [
    "Another reason is because you have a `if` statement with one complex block and one simple block. For example, you might write an if statement like this:"
   ]
  },
  {
   "cell_type": "code",
   "execution_count": 179,
   "metadata": {
    "ExecuteTime": {
     "end_time": "2020-02-20T00:19:41.112498Z",
     "start_time": "2020-02-20T00:19:41.070Z"
    },
    "hidden": true
   },
   "outputs": [],
   "source": [
    "f <- function() {\n",
    "  if (x) {\n",
    "    # Do \n",
    "    # something\n",
    "    # that\n",
    "    # takes\n",
    "    # many\n",
    "    # lines\n",
    "    # to\n",
    "    # express\n",
    "  } else {\n",
    "    # return something short\n",
    "  }\n",
    "}"
   ]
  },
  {
   "cell_type": "markdown",
   "metadata": {
    "hidden": true
   },
   "source": [
    "But if the first block is very long, by the time you get to the `else`, you’ve forgotten the `condition`. One way to rewrite it is to use an early return for the simple case:"
   ]
  },
  {
   "cell_type": "code",
   "execution_count": 180,
   "metadata": {
    "ExecuteTime": {
     "end_time": "2020-02-20T00:20:19.880988Z",
     "start_time": "2020-02-20T00:20:19.840Z"
    },
    "hidden": true
   },
   "outputs": [],
   "source": [
    "f <- function() {\n",
    "  if (!x) {\n",
    "    return(something_short)\n",
    "  }\n",
    "\n",
    "  # Do \n",
    "  # something\n",
    "  # that\n",
    "  # takes\n",
    "  # many\n",
    "  # lines\n",
    "  # to\n",
    "  # express\n",
    "}"
   ]
  },
  {
   "cell_type": "markdown",
   "metadata": {
    "hidden": true
   },
   "source": [
    "This tends to make the code easier to understand, because you don’t need quite so much context to understand it."
   ]
  },
  {
   "cell_type": "markdown",
   "metadata": {},
   "source": [
    "### Writing pipeable functions"
   ]
  },
  {
   "cell_type": "markdown",
   "metadata": {},
   "source": [
    "<b><font color = 'purple'>If you want to write your own pipeable functions </font></b>, it’s important to think about the return value. <font color = 'blue'>Knowing the return value’s object type will mean that your pipeline will “just work”. For example, with dplyr and tidyr the object type is the data frame.</font>\n",
    "\n",
    "<b><font color = 'purple'>There are two basic types of pipeable functions </font></b>: <font color = 'blue'><b>transformations and side-effects</b></font>. \n",
    "\n",
    "* With **transformations**, an object is passed to the function’s first argument and a <font color = 'green'>modified object is returned</font>. \n",
    "\n",
    "\n",
    "* With **side-effects**, <font color = 'green'>the passed object is not transformed</font>. Instead, the function performs an action on the object, like drawing a plot or saving a file. "
   ]
  },
  {
   "cell_type": "markdown",
   "metadata": {
    "heading_collapsed": true
   },
   "source": [
    "##### <b><font color = 'purple'>SIDE-EFFECTS </font></b>"
   ]
  },
  {
   "cell_type": "markdown",
   "metadata": {
    "hidden": true
   },
   "source": [
    "<font color = 'blue'><b>Side-effects functions should “invisibly” return the first argument, so that while they’re not printed they can still be used in a pipeline</b></font>. For example, this simple function prints the number of missing values in a data frame:"
   ]
  },
  {
   "cell_type": "code",
   "execution_count": 187,
   "metadata": {
    "ExecuteTime": {
     "end_time": "2020-02-20T02:06:27.770236Z",
     "start_time": "2020-02-20T02:06:27.730Z"
    },
    "hidden": true
   },
   "outputs": [],
   "source": [
    "show_missings <- function(df) {\n",
    "  n <- sum(is.na(df))\n",
    "  cat(\"Missing values: \", n, \"\\n\", sep = \"\")\n",
    "\n",
    "  invisible(df)\n",
    "  \n",
    "}"
   ]
  },
  {
   "cell_type": "code",
   "execution_count": 185,
   "metadata": {
    "ExecuteTime": {
     "end_time": "2020-02-20T01:51:09.790799Z",
     "start_time": "2020-02-20T01:51:09.739Z"
    },
    "code_folding": [
     0
    ],
    "collapsed": true,
    "hidden": true
   },
   "outputs": [
    {
     "data": {
      "text/html": [
       "1"
      ],
      "text/latex": [
       "1"
      ],
      "text/markdown": [
       "1"
      ],
      "text/plain": [
       "[1] 1"
      ]
     },
     "metadata": {},
     "output_type": "display_data"
    }
   ],
   "source": [
    "# invisible(df) Returns a (temporarily) invisible copy of an object(df).\n",
    "\n",
    "# These functions both return their argument\n",
    "f1 <- function(x) x\n",
    "f2 <- function(x) invisible(x)\n",
    "f1(1)  # prints\n",
    "f2(2)  # does not"
   ]
  },
  {
   "cell_type": "markdown",
   "metadata": {
    "hidden": true
   },
   "source": [
    "<font color = 'green'>If we call it interactively, the `invisible()` means that the input `df` doesn’t get printed out:</font>"
   ]
  },
  {
   "cell_type": "code",
   "execution_count": 188,
   "metadata": {
    "ExecuteTime": {
     "end_time": "2020-02-20T02:06:29.657466Z",
     "start_time": "2020-02-20T02:06:29.595Z"
    },
    "hidden": true
   },
   "outputs": [
    {
     "name": "stdout",
     "output_type": "stream",
     "text": [
      "Missing values: 0\n"
     ]
    }
   ],
   "source": [
    "\n",
    "show_missings(mtcars)\n",
    "#> Missing values: 0\n"
   ]
  },
  {
   "cell_type": "markdown",
   "metadata": {
    "hidden": true
   },
   "source": [
    "<font color = 'green'>But it’s still there, it’s just not printed by default:</font>"
   ]
  },
  {
   "cell_type": "code",
   "execution_count": 216,
   "metadata": {
    "ExecuteTime": {
     "end_time": "2020-02-20T02:28:43.883835Z",
     "start_time": "2020-02-20T02:28:43.776Z"
    },
    "hidden": true
   },
   "outputs": [
    {
     "name": "stdout",
     "output_type": "stream",
     "text": [
      "Missing values: 0\n",
      "class(x) ----------------------------------------------------"
     ]
    },
    {
     "data": {
      "text/html": [
       "'data.frame'"
      ],
      "text/latex": [
       "'data.frame'"
      ],
      "text/markdown": [
       "'data.frame'"
      ],
      "text/plain": [
       "[1] \"data.frame\""
      ]
     },
     "metadata": {},
     "output_type": "display_data"
    },
    {
     "name": "stdout",
     "output_type": "stream",
     "text": [
      "dim(x) ------------------------------------------------------"
     ]
    },
    {
     "data": {
      "text/html": [
       "<style>\n",
       ".list-inline {list-style: none; margin:0; padding: 0}\n",
       ".list-inline>li {display: inline-block}\n",
       ".list-inline>li:not(:last-child)::after {content: \"\\00b7\"; padding: 0 .5ex}\n",
       "</style>\n",
       "<ol class=list-inline><li>32</li><li>11</li></ol>\n"
      ],
      "text/latex": [
       "\\begin{enumerate*}\n",
       "\\item 32\n",
       "\\item 11\n",
       "\\end{enumerate*}\n"
      ],
      "text/markdown": [
       "1. 32\n",
       "2. 11\n",
       "\n",
       "\n"
      ],
      "text/plain": [
       "[1] 32 11"
      ]
     },
     "metadata": {},
     "output_type": "display_data"
    },
    {
     "name": "stdout",
     "output_type": "stream",
     "text": [
      "x %>% head --------------------------------------------------"
     ]
    },
    {
     "data": {
      "text/html": [
       "<table>\n",
       "<caption>A data.frame: 6 × 11</caption>\n",
       "<thead>\n",
       "\t<tr><th></th><th scope=col>mpg</th><th scope=col>cyl</th><th scope=col>disp</th><th scope=col>hp</th><th scope=col>drat</th><th scope=col>wt</th><th scope=col>qsec</th><th scope=col>vs</th><th scope=col>am</th><th scope=col>gear</th><th scope=col>carb</th></tr>\n",
       "\t<tr><th></th><th scope=col>&lt;dbl&gt;</th><th scope=col>&lt;dbl&gt;</th><th scope=col>&lt;dbl&gt;</th><th scope=col>&lt;dbl&gt;</th><th scope=col>&lt;dbl&gt;</th><th scope=col>&lt;dbl&gt;</th><th scope=col>&lt;dbl&gt;</th><th scope=col>&lt;dbl&gt;</th><th scope=col>&lt;dbl&gt;</th><th scope=col>&lt;dbl&gt;</th><th scope=col>&lt;dbl&gt;</th></tr>\n",
       "</thead>\n",
       "<tbody>\n",
       "\t<tr><th scope=row>Mazda RX4</th><td>21.0</td><td>6</td><td>160</td><td>110</td><td>3.90</td><td>2.620</td><td>16.46</td><td>0</td><td>1</td><td>4</td><td>4</td></tr>\n",
       "\t<tr><th scope=row>Mazda RX4 Wag</th><td>21.0</td><td>6</td><td>160</td><td>110</td><td>3.90</td><td>2.875</td><td>17.02</td><td>0</td><td>1</td><td>4</td><td>4</td></tr>\n",
       "\t<tr><th scope=row>Datsun 710</th><td>22.8</td><td>4</td><td>108</td><td> 93</td><td>3.85</td><td>2.320</td><td>18.61</td><td>1</td><td>1</td><td>4</td><td>1</td></tr>\n",
       "\t<tr><th scope=row>Hornet 4 Drive</th><td>21.4</td><td>6</td><td>258</td><td>110</td><td>3.08</td><td>3.215</td><td>19.44</td><td>1</td><td>0</td><td>3</td><td>1</td></tr>\n",
       "\t<tr><th scope=row>Hornet Sportabout</th><td>18.7</td><td>8</td><td>360</td><td>175</td><td>3.15</td><td>3.440</td><td>17.02</td><td>0</td><td>0</td><td>3</td><td>2</td></tr>\n",
       "\t<tr><th scope=row>Valiant</th><td>18.1</td><td>6</td><td>225</td><td>105</td><td>2.76</td><td>3.460</td><td>20.22</td><td>1</td><td>0</td><td>3</td><td>1</td></tr>\n",
       "</tbody>\n",
       "</table>\n"
      ],
      "text/latex": [
       "A data.frame: 6 × 11\n",
       "\\begin{tabular}{r|lllllllllll}\n",
       "  & mpg & cyl & disp & hp & drat & wt & qsec & vs & am & gear & carb\\\\\n",
       "  & <dbl> & <dbl> & <dbl> & <dbl> & <dbl> & <dbl> & <dbl> & <dbl> & <dbl> & <dbl> & <dbl>\\\\\n",
       "\\hline\n",
       "\tMazda RX4 & 21.0 & 6 & 160 & 110 & 3.90 & 2.620 & 16.46 & 0 & 1 & 4 & 4\\\\\n",
       "\tMazda RX4 Wag & 21.0 & 6 & 160 & 110 & 3.90 & 2.875 & 17.02 & 0 & 1 & 4 & 4\\\\\n",
       "\tDatsun 710 & 22.8 & 4 & 108 &  93 & 3.85 & 2.320 & 18.61 & 1 & 1 & 4 & 1\\\\\n",
       "\tHornet 4 Drive & 21.4 & 6 & 258 & 110 & 3.08 & 3.215 & 19.44 & 1 & 0 & 3 & 1\\\\\n",
       "\tHornet Sportabout & 18.7 & 8 & 360 & 175 & 3.15 & 3.440 & 17.02 & 0 & 0 & 3 & 2\\\\\n",
       "\tValiant & 18.1 & 6 & 225 & 105 & 2.76 & 3.460 & 20.22 & 1 & 0 & 3 & 1\\\\\n",
       "\\end{tabular}\n"
      ],
      "text/markdown": [
       "\n",
       "A data.frame: 6 × 11\n",
       "\n",
       "| <!--/--> | mpg &lt;dbl&gt; | cyl &lt;dbl&gt; | disp &lt;dbl&gt; | hp &lt;dbl&gt; | drat &lt;dbl&gt; | wt &lt;dbl&gt; | qsec &lt;dbl&gt; | vs &lt;dbl&gt; | am &lt;dbl&gt; | gear &lt;dbl&gt; | carb &lt;dbl&gt; |\n",
       "|---|---|---|---|---|---|---|---|---|---|---|---|\n",
       "| Mazda RX4 | 21.0 | 6 | 160 | 110 | 3.90 | 2.620 | 16.46 | 0 | 1 | 4 | 4 |\n",
       "| Mazda RX4 Wag | 21.0 | 6 | 160 | 110 | 3.90 | 2.875 | 17.02 | 0 | 1 | 4 | 4 |\n",
       "| Datsun 710 | 22.8 | 4 | 108 |  93 | 3.85 | 2.320 | 18.61 | 1 | 1 | 4 | 1 |\n",
       "| Hornet 4 Drive | 21.4 | 6 | 258 | 110 | 3.08 | 3.215 | 19.44 | 1 | 0 | 3 | 1 |\n",
       "| Hornet Sportabout | 18.7 | 8 | 360 | 175 | 3.15 | 3.440 | 17.02 | 0 | 0 | 3 | 2 |\n",
       "| Valiant | 18.1 | 6 | 225 | 105 | 2.76 | 3.460 | 20.22 | 1 | 0 | 3 | 1 |\n",
       "\n"
      ],
      "text/plain": [
       "                  mpg  cyl disp hp  drat wt    qsec  vs am gear carb\n",
       "Mazda RX4         21.0 6   160  110 3.90 2.620 16.46 0  1  4    4   \n",
       "Mazda RX4 Wag     21.0 6   160  110 3.90 2.875 17.02 0  1  4    4   \n",
       "Datsun 710        22.8 4   108   93 3.85 2.320 18.61 1  1  4    1   \n",
       "Hornet 4 Drive    21.4 6   258  110 3.08 3.215 19.44 1  0  3    1   \n",
       "Hornet Sportabout 18.7 8   360  175 3.15 3.440 17.02 0  0  3    2   \n",
       "Valiant           18.1 6   225  105 2.76 3.460 20.22 1  0  3    1   "
      ]
     },
     "metadata": {},
     "output_type": "display_data"
    }
   ],
   "source": [
    "\n",
    "x <- show_missings(mtcars) \n",
    "#> Missing values: 0\n",
    "\n",
    "cat(\"class(x)\", stringr::str_dup(\"-\",52))\n",
    "class(x)\n",
    "#> [1] \"data.frame\"\n",
    "\n",
    "cat(\"dim(x)\", stringr::str_dup(\"-\",54))\n",
    "dim(x)\n",
    "#> [1] 32 11\n",
    "\n",
    "cat(\"x %>% head\", stringr::str_dup(\"-\",50))\n",
    "x %>% head"
   ]
  },
  {
   "cell_type": "markdown",
   "metadata": {
    "hidden": true
   },
   "source": [
    "And we can still use it in a pipe:"
   ]
  },
  {
   "cell_type": "code",
   "execution_count": 217,
   "metadata": {
    "ExecuteTime": {
     "end_time": "2020-02-20T02:29:15.383114Z",
     "start_time": "2020-02-20T02:29:15.308Z"
    },
    "hidden": true
   },
   "outputs": [
    {
     "name": "stdout",
     "output_type": "stream",
     "text": [
      "Missing values: 0\n",
      "Missing values: 18\n"
     ]
    }
   ],
   "source": [
    "mtcars %>% \n",
    "  show_missings() %>% \n",
    "  mutate(mpg = ifelse(mpg < 20, NA, mpg)) %>% \n",
    "  show_missings() \n",
    "#> Missing values: 0\n",
    "#> Missing values: 18"
   ]
  },
  {
   "cell_type": "markdown",
   "metadata": {},
   "source": [
    "## 19.7 Environment"
   ]
  },
  {
   "cell_type": "markdown",
   "metadata": {},
   "source": [
    "The last component of a function is its environment. This is not something you need to understand deeply when you first start writing functions. However, it’s important to know a little bit about environments because they are crucial to how functions work. \n",
    "\n",
    "<font color = 'blue'><b>The environment of a function controls how R finds the value associated with a name.</b></font> For example, take this function:"
   ]
  },
  {
   "cell_type": "code",
   "execution_count": 218,
   "metadata": {
    "ExecuteTime": {
     "end_time": "2020-02-20T02:30:45.045654Z",
     "start_time": "2020-02-20T02:30:45.004Z"
    }
   },
   "outputs": [],
   "source": [
    "f <- function(x) {\n",
    "  x + y\n",
    "}\n"
   ]
  },
  {
   "cell_type": "markdown",
   "metadata": {},
   "source": [
    "<font color = 'red'>In many programming languages, this would be an error, because `y` is not defined inside the function</font>. \n",
    "\n",
    "<font color = 'green'><b>In R, this is valid code because R uses rules called **lexical scoping** to find the value associated with a name. </b></font>\n",
    "\n",
    "<font color = 'blue'><b>Since `y` is <font color = 'red'>not</font> defined inside the function, R will look in the **environment** where the function was defined:</b></font>"
   ]
  },
  {
   "cell_type": "code",
   "execution_count": 219,
   "metadata": {
    "ExecuteTime": {
     "end_time": "2020-02-20T02:31:36.676889Z",
     "start_time": "2020-02-20T02:31:36.589Z"
    }
   },
   "outputs": [
    {
     "data": {
      "text/html": [
       "110"
      ],
      "text/latex": [
       "110"
      ],
      "text/markdown": [
       "110"
      ],
      "text/plain": [
       "[1] 110"
      ]
     },
     "metadata": {},
     "output_type": "display_data"
    },
    {
     "data": {
      "text/html": [
       "1010"
      ],
      "text/latex": [
       "1010"
      ],
      "text/markdown": [
       "1010"
      ],
      "text/plain": [
       "[1] 1010"
      ]
     },
     "metadata": {},
     "output_type": "display_data"
    }
   ],
   "source": [
    "y <- 100\n",
    "f(10)\n",
    "#> [1] 110\n",
    "\n",
    "y <- 1000\n",
    "f(10)\n",
    "#> [1] 1010"
   ]
  },
  {
   "cell_type": "markdown",
   "metadata": {},
   "source": [
    "This behaviour seems like a recipe for bugs, and indeed you should avoid creating functions like this deliberately, but by and large it doesn’t cause too many problems (especially if you regularly restart R to get to a clean slate).\n",
    "\n",
    "The advantage of this behaviour is that from a language standpoint it allows R to be very consistent. Every name is looked up using the same set of rules. \n",
    "\n",
    "For `f()` that includes the behaviour of two things that you might not expect: `{` and `+`. This allows you to do devious things like:"
   ]
  },
  {
   "cell_type": "code",
   "execution_count": 240,
   "metadata": {
    "ExecuteTime": {
     "end_time": "2020-02-20T02:38:31.942453Z",
     "start_time": "2020-02-20T02:38:31.859Z"
    }
   },
   "outputs": [
    {
     "data": {
      "text/plain": [
       "\n",
       "  3 3.3 \n",
       "129 871 "
      ]
     },
     "metadata": {},
     "output_type": "display_data"
    }
   ],
   "source": [
    "`+` <- function(x, y) {\n",
    "  if (runif(1) < 0.1) {\n",
    "    sum(x, y)\n",
    "  } else {\n",
    "    sum(x, y) * 1.1\n",
    "  }\n",
    "}\n",
    "\n",
    "table(replicate(1000, 1 + 2))\n",
    "\n",
    "#> \n",
    "#>   3 3.3 \n",
    "#> 100 900\n",
    "\n",
    "rm(`+`)"
   ]
  },
  {
   "cell_type": "markdown",
   "metadata": {},
   "source": [
    "This is a common phenomenon in R. R places few limits on your power. You can do many things that you can’t do in other programming languages.<font color = 'red'> You can do many things that 99% of the time are extremely ill-advised (like overriding how addition works!).</font> \n",
    "\n",
    "But this power and flexibility is what makes tools like ggplot2 and dplyr possible. Learning how to make best use of this flexibility is beyond the scope of this book, but you can read about in [_Advanced R_](http://adv-r.had.co.nz/)."
   ]
  },
  {
   "cell_type": "markdown",
   "metadata": {},
   "source": [
    "# Misc"
   ]
  },
  {
   "cell_type": "markdown",
   "metadata": {},
   "source": [
    "## if Statement tests"
   ]
  },
  {
   "cell_type": "code",
   "execution_count": 12,
   "metadata": {
    "ExecuteTime": {
     "end_time": "2020-02-20T14:04:47.263703Z",
     "start_time": "2020-02-20T14:04:47.217Z"
    }
   },
   "outputs": [
    {
     "name": "stdout",
     "output_type": "stream",
     "text": [
      "[1] \"TRU\"\n"
     ]
    }
   ],
   "source": [
    "if(2) {\n",
    "    print('TRU')\n",
    "} else {\n",
    "    print('FALSE')   \n",
    "}\n",
    "\n"
   ]
  },
  {
   "cell_type": "code",
   "execution_count": 13,
   "metadata": {
    "ExecuteTime": {
     "end_time": "2020-02-20T14:04:48.161014Z",
     "start_time": "2020-02-20T14:04:48.118Z"
    }
   },
   "outputs": [
    {
     "name": "stderr",
     "output_type": "stream",
     "text": [
      "Warning message in if (0:2) {:\n",
      "\"the condition has length > 1 and only the first element will be used\"\n"
     ]
    },
    {
     "name": "stdout",
     "output_type": "stream",
     "text": [
      "[1] \"FALSE\"\n"
     ]
    }
   ],
   "source": [
    "if(0:2) {\n",
    "    print('TRU')\n",
    "} else {\n",
    "    print('FALSE')   \n",
    "}"
   ]
  },
  {
   "cell_type": "markdown",
   "metadata": {
    "heading_collapsed": true
   },
   "source": [
    "## coefficient of variation"
   ]
  },
  {
   "cell_type": "markdown",
   "metadata": {
    "hidden": true
   },
   "source": [
    "In probability theory and statistics, the coefficient of variation (CV), also known as relative standard deviation (RSD), is a standardized measure of dispersion of a probability distribution or frequency distribution. It is often expressed as a percentage, and is defined as the ratio of the standard deviation $\\sigma$  to the mean $\\mu$  (or its absolute value, $|\\mu |$). https://en.wikipedia.org/wiki/Coefficient_of_variation"
   ]
  },
  {
   "cell_type": "markdown",
   "metadata": {
    "heading_collapsed": true
   },
   "source": [
    "## ```<-``` vs ```=```"
   ]
  },
  {
   "cell_type": "markdown",
   "metadata": {
    "hidden": true
   },
   "source": [
    "What are the differences between the assignment operators ```=``` and ```<-``` in R?\n",
    "\n",
    "I know that operators are slightly different, as this example shows"
   ]
  },
  {
   "cell_type": "code",
   "execution_count": 81,
   "metadata": {
    "ExecuteTime": {
     "end_time": "2020-02-19T00:49:16.181585Z",
     "start_time": "2020-02-19T00:49:16.123Z"
    },
    "collapsed": true,
    "hidden": true
   },
   "outputs": [
    {
     "data": {
      "text/html": [
       "5"
      ],
      "text/latex": [
       "5"
      ],
      "text/markdown": [
       "5"
      ],
      "text/plain": [
       "[1] 5"
      ]
     },
     "metadata": {},
     "output_type": "display_data"
    },
    {
     "data": {
      "text/html": [
       "5"
      ],
      "text/latex": [
       "5"
      ],
      "text/markdown": [
       "5"
      ],
      "text/plain": [
       "[1] 5"
      ]
     },
     "metadata": {},
     "output_type": "display_data"
    }
   ],
   "source": [
    "x <- y <- 5\n",
    "x;y"
   ]
  },
  {
   "cell_type": "code",
   "execution_count": 80,
   "metadata": {
    "ExecuteTime": {
     "end_time": "2020-02-19T00:49:13.719144Z",
     "start_time": "2020-02-19T00:49:13.660Z"
    },
    "collapsed": true,
    "hidden": true
   },
   "outputs": [
    {
     "data": {
      "text/html": [
       "5"
      ],
      "text/latex": [
       "5"
      ],
      "text/markdown": [
       "5"
      ],
      "text/plain": [
       "[1] 5"
      ]
     },
     "metadata": {},
     "output_type": "display_data"
    },
    {
     "data": {
      "text/html": [
       "5"
      ],
      "text/latex": [
       "5"
      ],
      "text/markdown": [
       "5"
      ],
      "text/plain": [
       "[1] 5"
      ]
     },
     "metadata": {},
     "output_type": "display_data"
    }
   ],
   "source": [
    "x = y = 5\n",
    "x;y"
   ]
  },
  {
   "cell_type": "code",
   "execution_count": 79,
   "metadata": {
    "ExecuteTime": {
     "end_time": "2020-02-19T00:49:09.904991Z",
     "start_time": "2020-02-19T00:49:09.836Z"
    },
    "collapsed": true,
    "hidden": true
   },
   "outputs": [
    {
     "data": {
      "text/html": [
       "5"
      ],
      "text/latex": [
       "5"
      ],
      "text/markdown": [
       "5"
      ],
      "text/plain": [
       "[1] 5"
      ]
     },
     "metadata": {},
     "output_type": "display_data"
    },
    {
     "data": {
      "text/html": [
       "5"
      ],
      "text/latex": [
       "5"
      ],
      "text/markdown": [
       "5"
      ],
      "text/plain": [
       "[1] 5"
      ]
     },
     "metadata": {},
     "output_type": "display_data"
    }
   ],
   "source": [
    "x = y <- 5\n",
    "x;y"
   ]
  },
  {
   "cell_type": "code",
   "execution_count": 78,
   "metadata": {
    "ExecuteTime": {
     "end_time": "2020-02-19T00:49:07.331317Z",
     "start_time": "2020-02-19T00:49:07.284Z"
    },
    "hidden": true
   },
   "outputs": [
    {
     "ename": "ERROR",
     "evalue": "Error in x <- y = 5: could not find function \"<-<-\"\n",
     "output_type": "error",
     "traceback": [
      "Error in x <- y = 5: could not find function \"<-<-\"\nTraceback:\n"
     ]
    }
   ],
   "source": [
    "x <- y = 5\n",
    "x;y\n",
    "# Error in (x <- y) = 5 : could not find function \"<-<-\""
   ]
  },
  {
   "cell_type": "markdown",
   "metadata": {
    "hidden": true
   },
   "source": [
    "<b><font color = 'purple'>The difference in [assignment operators](http://www.rdocumentation.org/packages/base/topics/assignOps) is clearer when you use them to set an argument value in a function call.  For example: </font></b>\n",
    "\n",
    "```\n",
    "median(x = 1:10)\n",
    "x   \n",
    "## Error: object 'x' not found\n",
    "```\n",
    "\n",
    "<b><font color = 'blue'>In this case, `x` is declared within the scope of the function, so it does not exist in the user workspace. </font></b>\n",
    "\n",
    "```\n",
    "median(x <- 1:10)\n",
    "x    \n",
    "## [1]  1  2  3  4  5  6  7  8  9 10\n",
    "```\n",
    "\n",
    "<font color = 'green'><b>In this case, `x` is declared in the user workspace, so you can use it after the function call has been completed.</b></font>\n",
    "\n",
    "---\n",
    "\n",
    "There is a general preference among the R community for using `<-` for assignment (other than in function signatures)  for compatibility with (very) old versions of S-Plus.  Note that the spaces help to clarify situations like\n",
    "\n",
    "```\n",
    "x<-3\n",
    "# Does this mean assignment?\n",
    "x <- 3\n",
    "# Or less than?\n",
    "x < -3\n",
    "```"
   ]
  },
  {
   "cell_type": "markdown",
   "metadata": {
    "hidden": true
   },
   "source": [
    "---\n",
    "<font color = 'lightgrey'>\n",
    "Most R IDEs have keyboard shortcuts to make `<-` easier to type.  \n",
    "<kbd>Ctrl</kbd> + \n",
    "<kbd>=</kbd> in Architect, \n",
    "<kbd>Alt</kbd> + \n",
    "<kbd>-</kbd> in RStudio (\n",
    "<kbd>Option</kbd> + \n",
    "<kbd>-</kbd> under macOS), \n",
    "<kbd>Shift</kbd> + \n",
    "<kbd>-</kbd> (underscore) in emacs+ESS.\n",
    "\n",
    "---\n",
    "\n",
    "If you prefer writing `=` to `<-` but want to use the more common assignment symbol for publicly released code (on CRAN, for example), then you can use one of the [`tidy_*`](http://www.rdocumentation.org/packages/formatR/topics/tidy_source) functions in the `formatR` package to automatically replace `=` with `<-`.\n",
    "\n",
    "```\n",
    "library(formatR)\n",
    "tidy_source(text = \"x=1:5\", arrow = TRUE)\n",
    "## x <- 1:5\n",
    "```\n",
    "</font>"
   ]
  },
  {
   "cell_type": "markdown",
   "metadata": {
    "hidden": true
   },
   "source": [
    "---\n",
    "\n",
    "<b><font color = 'purple'>The answer to the question \"Why does `x <- y = 5` throw an error but not `x <- y <- 5`?\" is \"It's down to the magic contained in the parser\".  </font></b> \n",
    "    \n",
    "R's syntax contains [many ambiguous cases](http://shape-of-code.coding-guidelines.com/2012/02/29/parsing-r-code-freedom-of-expression-is-not-always-a-good-idea/) that have to be resolved one way or another.  <font color = 'blue'>The parser chooses to resolve the bits of the expression in different orders depending on whether `=` or `<-` was used.</font>\n",
    "\n",
    "<font color = 'blue'>To understand what is happening, you need to know that assignment silently returns the value that was assigned</font>.  You can see that more clearly by explicitly printing, for example `print(x <- 2 + 3)`.\n",
    "\n",
    "Secondly, it's clearer if we use prefix notation for assignment.  So \n",
    "\n",
    "```\n",
    "x <- 5\n",
    "`<-`(x, 5)  #same thing\n",
    "\n",
    "y = 5\n",
    "`=`(y, 5)   #also the same thing\n",
    "```\n",
    "\n",
    "The parser interprets `x <- y <- 5` as \n",
    "\n",
    "```\n",
    "`<-`(x, `<-`(y, 5))\n",
    "```\n",
    "\n",
    "We might expect that `x <- y = 5` would then be\n",
    "\n",
    "```\n",
    "`<-`(x, `=`(y, 5))\n",
    "```\n",
    "\n",
    "but actually it gets interpreted as\n",
    "\n",
    "```\n",
    "`=`(`<-`(x, y), 5)\n",
    "```\n",
    "\n",
    "This is because `=` is lower precedence than `<-`, as shown on the [`?Syntax`](http://www.rdocumentation.org/packages/base/topics/Syntax) help page.\n",
    "\n",
    "<time itemprop=\"dateCreated\" datetime=\"2009-11-16T14:36:35\"></time>"
   ]
  },
  {
   "cell_type": "code",
   "execution_count": 92,
   "metadata": {
    "ExecuteTime": {
     "end_time": "2020-02-19T00:55:08.011270Z",
     "start_time": "2020-02-19T00:55:07.959Z"
    },
    "hidden": true
   },
   "outputs": [
    {
     "name": "stdout",
     "output_type": "stream",
     "text": [
      "[1] 5\n",
      "[1] 5\n"
     ]
    }
   ],
   "source": [
    "print(x <- 2 + 3)\n",
    "print(x = 2 + 3)"
   ]
  },
  {
   "cell_type": "code",
   "execution_count": 88,
   "metadata": {
    "ExecuteTime": {
     "end_time": "2020-02-19T00:54:14.487508Z",
     "start_time": "2020-02-19T00:54:14.434Z"
    },
    "hidden": true
   },
   "outputs": [
    {
     "data": {
      "text/html": [
       "5"
      ],
      "text/latex": [
       "5"
      ],
      "text/markdown": [
       "5"
      ],
      "text/plain": [
       "[1] 5"
      ]
     },
     "metadata": {},
     "output_type": "display_data"
    }
   ],
   "source": [
    "x <- 5\n",
    "x"
   ]
  },
  {
   "cell_type": "code",
   "execution_count": 86,
   "metadata": {
    "ExecuteTime": {
     "end_time": "2020-02-19T00:54:09.046725Z",
     "start_time": "2020-02-19T00:54:09.000Z"
    },
    "hidden": true
   },
   "outputs": [
    {
     "data": {
      "text/html": [
       "6"
      ],
      "text/latex": [
       "6"
      ],
      "text/markdown": [
       "6"
      ],
      "text/plain": [
       "[1] 6"
      ]
     },
     "metadata": {},
     "output_type": "display_data"
    }
   ],
   "source": [
    "`<-`(x, 6)  #same thing\n",
    "x"
   ]
  },
  {
   "cell_type": "code",
   "execution_count": 90,
   "metadata": {
    "ExecuteTime": {
     "end_time": "2020-02-19T00:54:30.174078Z",
     "start_time": "2020-02-19T00:54:30.123Z"
    },
    "hidden": true
   },
   "outputs": [
    {
     "data": {
      "text/html": [
       "5"
      ],
      "text/latex": [
       "5"
      ],
      "text/markdown": [
       "5"
      ],
      "text/plain": [
       "[1] 5"
      ]
     },
     "metadata": {},
     "output_type": "display_data"
    }
   ],
   "source": [
    "y = 5; y"
   ]
  },
  {
   "cell_type": "code",
   "execution_count": 89,
   "metadata": {
    "ExecuteTime": {
     "end_time": "2020-02-19T00:54:29.147705Z",
     "start_time": "2020-02-19T00:54:29.099Z"
    },
    "hidden": true
   },
   "outputs": [
    {
     "data": {
      "text/html": [
       "6"
      ],
      "text/latex": [
       "6"
      ],
      "text/markdown": [
       "6"
      ],
      "text/plain": [
       "[1] 6"
      ]
     },
     "metadata": {},
     "output_type": "display_data"
    }
   ],
   "source": [
    "`=`(y, 6)   #also the same thing\n",
    "y"
   ]
  }
 ],
 "metadata": {
  "hide_input": false,
  "kernelspec": {
   "display_name": "R",
   "language": "R",
   "name": "ir"
  },
  "language_info": {
   "codemirror_mode": "r",
   "file_extension": ".r",
   "mimetype": "text/x-r-source",
   "name": "R",
   "pygments_lexer": "r",
   "version": "3.6.2"
  },
  "toc": {
   "base_numbering": 1,
   "nav_menu": {},
   "number_sections": true,
   "sideBar": true,
   "skip_h1_title": false,
   "title_cell": "Table of Contents",
   "title_sidebar": "Contents",
   "toc_cell": true,
   "toc_position": {},
   "toc_section_display": true,
   "toc_window_display": false
  }
 },
 "nbformat": 4,
 "nbformat_minor": 4
}
