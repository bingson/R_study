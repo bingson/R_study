{
 "cells": [
  {
   "cell_type": "markdown",
   "metadata": {
    "toc": true
   },
   "source": [
    "<h1>Table of Contents<span class=\"tocSkip\"></span></h1>\n",
    "<div class=\"toc\"><ul class=\"toc-item\"><li><span><a href=\"#C11_God-Spiked-the-Integers\" data-toc-modified-id=\"C11_God-Spiked-the-Integers-1\"><span class=\"toc-item-num\">1&nbsp;&nbsp;</span>C11_God Spiked the Integers</a></span><ul class=\"toc-item\"><li><span><a href=\"#Binomial-Regression\" data-toc-modified-id=\"Binomial-Regression-1.1\"><span class=\"toc-item-num\">1.1&nbsp;&nbsp;</span>Binomial Regression</a></span><ul class=\"toc-item\"><li><span><a href=\"#Logistic-regression:-Prosocial-chimpanzees.\" data-toc-modified-id=\"Logistic-regression:-Prosocial-chimpanzees.-1.1.1\"><span class=\"toc-item-num\">1.1.1&nbsp;&nbsp;</span>Logistic regression: Prosocial chimpanzees.</a></span><ul class=\"toc-item\"><li><span><a href=\"#stancode\" data-toc-modified-id=\"stancode-1.1.1.1\"><span class=\"toc-item-num\">1.1.1.1&nbsp;&nbsp;</span>stancode</a></span></li></ul></li></ul></li><li><span><a href=\"#Poisson-regression\" data-toc-modified-id=\"Poisson-regression-1.2\"><span class=\"toc-item-num\">1.2&nbsp;&nbsp;</span>Poisson regression</a></span><ul class=\"toc-item\"><li><span><a href=\"#Example:-Oceanic-tool-complexity.\" data-toc-modified-id=\"Example:-Oceanic-tool-complexity.-1.2.1\"><span class=\"toc-item-num\">1.2.1&nbsp;&nbsp;</span>Example: Oceanic tool complexity.</a></span></li><li><span><a href=\"#Negative-binomial-(gamma-Poisson)-models.\" data-toc-modified-id=\"Negative-binomial-(gamma-Poisson)-models.-1.2.2\"><span class=\"toc-item-num\">1.2.2&nbsp;&nbsp;</span>Negative binomial (gamma-Poisson) models.</a></span></li><li><span><a href=\"#Example:-Exposure-and-the-offset\" data-toc-modified-id=\"Example:-Exposure-and-the-offset-1.2.3\"><span class=\"toc-item-num\">1.2.3&nbsp;&nbsp;</span>Example: Exposure and the offset</a></span></li><li><span><a href=\"#Multinomial-in-disguise-as-Poisson\" data-toc-modified-id=\"Multinomial-in-disguise-as-Poisson-1.2.4\"><span class=\"toc-item-num\">1.2.4&nbsp;&nbsp;</span>Multinomial in disguise as Poisson</a></span></li></ul></li><li><span><a href=\"#Censoring-and-survival\" data-toc-modified-id=\"Censoring-and-survival-1.3\"><span class=\"toc-item-num\">1.3&nbsp;&nbsp;</span>Censoring and survival</a></span><ul class=\"toc-item\"><li><span><a href=\"#Simulated-Cats\" data-toc-modified-id=\"Simulated-Cats-1.3.1\"><span class=\"toc-item-num\">1.3.1&nbsp;&nbsp;</span>Simulated Cats</a></span></li><li><span><a href=\"#Actual-Cats\" data-toc-modified-id=\"Actual-Cats-1.3.2\"><span class=\"toc-item-num\">1.3.2&nbsp;&nbsp;</span>Actual Cats</a></span><ul class=\"toc-item\"><li><span><a href=\"#Model-Structure\" data-toc-modified-id=\"Model-Structure-1.3.2.1\"><span class=\"toc-item-num\">1.3.2.1&nbsp;&nbsp;</span>Model Structure</a></span></li><li><span><a href=\"#MODEL:\" data-toc-modified-id=\"MODEL:-1.3.2.2\"><span class=\"toc-item-num\">1.3.2.2&nbsp;&nbsp;</span><strong><font color=\"purple\" style=\"background-color: lightyellow\">MODEL:</font></strong></a></span></li><li><span><a href=\"#Log_lik-archive\" data-toc-modified-id=\"Log_lik-archive-1.3.2.3\"><span class=\"toc-item-num\">1.3.2.3&nbsp;&nbsp;</span>Log_lik archive</a></span></li><li><span><a href=\"#Log_lik-buffer\" data-toc-modified-id=\"Log_lik-buffer-1.3.2.4\"><span class=\"toc-item-num\">1.3.2.4&nbsp;&nbsp;</span><font color=\"blue\">Log_lik buffer</font></a></span></li></ul></li></ul></li><li><span><a href=\"#Summary\" data-toc-modified-id=\"Summary-1.4\"><span class=\"toc-item-num\">1.4&nbsp;&nbsp;</span>Summary</a></span></li><li><span><a href=\"#Practice\" data-toc-modified-id=\"Practice-1.5\"><span class=\"toc-item-num\">1.5&nbsp;&nbsp;</span>Practice</a></span></li></ul></li><li><span><a href=\"#Misc\" data-toc-modified-id=\"Misc-2\"><span class=\"toc-item-num\">2&nbsp;&nbsp;</span>Misc</a></span><ul class=\"toc-item\"><li><span><a href=\"#1e-Oceanic-Tools\" data-toc-modified-id=\"1e-Oceanic-Tools-2.1\"><span class=\"toc-item-num\">2.1&nbsp;&nbsp;</span>1e Oceanic Tools</a></span></li><li><span><a href=\"#TESTING\" data-toc-modified-id=\"TESTING-2.2\"><span class=\"toc-item-num\">2.2&nbsp;&nbsp;</span>TESTING</a></span></li><li><span><a href=\"#Probability-Density-Function\" data-toc-modified-id=\"Probability-Density-Function-2.3\"><span class=\"toc-item-num\">2.3&nbsp;&nbsp;</span>Probability Density Function</a></span></li><li><span><a href=\"#Maximum-Likelihood-for-the-Exponential-Distribution,-Clearly-Explained!-V2.0\" data-toc-modified-id=\"Maximum-Likelihood-for-the-Exponential-Distribution,-Clearly-Explained!-V2.0-2.4\"><span class=\"toc-item-num\">2.4&nbsp;&nbsp;</span>Maximum Likelihood for the Exponential Distribution, Clearly Explained! V2.0</a></span></li><li><span><a href=\"#Exponential-vs-Poisson\" data-toc-modified-id=\"Exponential-vs-Poisson-2.5\"><span class=\"toc-item-num\">2.5&nbsp;&nbsp;</span>Exponential vs Poisson</a></span></li><li><span><a href=\"#The-Poisson-distribution\" data-toc-modified-id=\"The-Poisson-distribution-2.6\"><span class=\"toc-item-num\">2.6&nbsp;&nbsp;</span>The Poisson distribution</a></span></li><li><span><a href=\"#The-exponential-distribution\" data-toc-modified-id=\"The-exponential-distribution-2.7\"><span class=\"toc-item-num\">2.7&nbsp;&nbsp;</span>The exponential distribution</a></span><ul class=\"toc-item\"><li><span><a href=\"#&quot;C:\\Users\\bings\\DS\\0_McElreath_SR\\refs\\Exponential-distribution.html&quot;\" data-toc-modified-id=\"&quot;C:\\Users\\bings\\DS\\0_McElreath_SR\\refs\\Exponential-distribution.html&quot;-2.7.1\"><span class=\"toc-item-num\">2.7.1&nbsp;&nbsp;</span>\"C:\\Users\\bings\\DS\\0_McElreath_SR\\refs\\Exponential distribution.html\"</a></span></li><li><span><a href=\"#Buffer\" data-toc-modified-id=\"Buffer-2.7.2\"><span class=\"toc-item-num\">2.7.2&nbsp;&nbsp;</span>Buffer</a></span></li></ul></li><li><span><a href=\"#Logit/Log-Scale\" data-toc-modified-id=\"Logit/Log-Scale-2.8\"><span class=\"toc-item-num\">2.8&nbsp;&nbsp;</span>Logit/Log Scale</a></span></li><li><span><a href=\"#rough\" data-toc-modified-id=\"rough-2.9\"><span class=\"toc-item-num\">2.9&nbsp;&nbsp;</span>rough</a></span></li></ul></li></ul></div>"
   ]
  },
  {
   "cell_type": "code",
   "execution_count": 2,
   "metadata": {
    "collapsed": true
   },
   "outputs": [
    {
     "name": "stderr",
     "output_type": "stream",
     "text": [
      "-- \u001b[1mAttaching packages\u001b[22m --------------------------------------- tidyverse 1.3.0 --\n",
      "\n",
      "\u001b[32mv\u001b[39m \u001b[34mggplot2\u001b[39m 3.2.1     \u001b[32mv\u001b[39m \u001b[34mpurrr  \u001b[39m 0.3.3\n",
      "\u001b[32mv\u001b[39m \u001b[34mtibble \u001b[39m 2.1.3     \u001b[32mv\u001b[39m \u001b[34mdplyr  \u001b[39m 0.8.4\n",
      "\u001b[32mv\u001b[39m \u001b[34mtidyr  \u001b[39m 1.0.2     \u001b[32mv\u001b[39m \u001b[34mstringr\u001b[39m 1.4.0\n",
      "\u001b[32mv\u001b[39m \u001b[34mreadr  \u001b[39m 1.3.1     \u001b[32mv\u001b[39m \u001b[34mforcats\u001b[39m 0.4.0\n",
      "\n",
      "-- \u001b[1mConflicts\u001b[22m ------------------------------------------ tidyverse_conflicts() --\n",
      "\u001b[31mx\u001b[39m \u001b[34mdplyr\u001b[39m::\u001b[32mfilter()\u001b[39m masks \u001b[34mstats\u001b[39m::filter()\n",
      "\u001b[31mx\u001b[39m \u001b[34mdplyr\u001b[39m::\u001b[32mlag()\u001b[39m    masks \u001b[34mstats\u001b[39m::lag()\n",
      "\n",
      "Loading required package: rstan\n",
      "\n",
      "Loading required package: StanHeaders\n",
      "\n",
      "rstan (Version 2.19.2, GitRev: 2e1f913d3ca3)\n",
      "\n",
      "For execution on a local, multicore CPU with excess RAM we recommend calling\n",
      "options(mc.cores = parallel::detectCores()).\n",
      "To avoid recompilation of unchanged Stan programs, we recommend calling\n",
      "rstan_options(auto_write = TRUE)\n",
      "\n",
      "For improved execution time, we recommend calling\n",
      "Sys.setenv(LOCAL_CPPFLAGS = '-march=native')\n",
      "although this causes Stan to throw an error on a few processors.\n",
      "\n",
      "\n",
      "Attaching package: 'rstan'\n",
      "\n",
      "\n",
      "The following object is masked from 'package:tidyr':\n",
      "\n",
      "    extract\n",
      "\n",
      "\n",
      "Loading required package: parallel\n",
      "\n",
      "Loading required package: dagitty\n",
      "\n",
      "rethinking (Version 1.95)\n",
      "\n",
      "\n",
      "Attaching package: 'rethinking'\n",
      "\n",
      "\n",
      "The following object is masked from 'package:purrr':\n",
      "\n",
      "    map\n",
      "\n",
      "\n",
      "The following object is masked from 'package:stats':\n",
      "\n",
      "    rstudent\n",
      "\n",
      "\n"
     ]
    }
   ],
   "source": [
    "library(tidyverse)\n",
    "\n",
    "# loads experimental branch of statistical rethinking pkg\n",
    "library(rethinking)"
   ]
  },
  {
   "cell_type": "markdown",
   "metadata": {},
   "source": [
    "# C11_God Spiked the Integers"
   ]
  },
  {
   "cell_type": "markdown",
   "metadata": {},
   "source": [
    "## Binomial Regression"
   ]
  },
  {
   "cell_type": "markdown",
   "metadata": {},
   "source": [
    "### Logistic regression: Prosocial chimpanzees. "
   ]
  },
  {
   "cell_type": "code",
   "execution_count": 3,
   "metadata": {},
   "outputs": [],
   "source": [
    "data(chimpanzees)\n",
    "d <- chimpanzees"
   ]
  },
  {
   "cell_type": "code",
   "execution_count": 4,
   "metadata": {
    "cell_style": "split",
    "code_folding": [
     0
    ]
   },
   "outputs": [
    {
     "data": {
      "text/html": [
       "<table>\n",
       "<caption>A data.frame: 6 × 8</caption>\n",
       "<thead>\n",
       "\t<tr><th></th><th scope=col>actor</th><th scope=col>recipient</th><th scope=col>condition</th><th scope=col>block</th><th scope=col>trial</th><th scope=col>prosoc_left</th><th scope=col>chose_prosoc</th><th scope=col>pulled_left</th></tr>\n",
       "\t<tr><th></th><th scope=col>&lt;int&gt;</th><th scope=col>&lt;int&gt;</th><th scope=col>&lt;int&gt;</th><th scope=col>&lt;int&gt;</th><th scope=col>&lt;int&gt;</th><th scope=col>&lt;int&gt;</th><th scope=col>&lt;int&gt;</th><th scope=col>&lt;int&gt;</th></tr>\n",
       "</thead>\n",
       "<tbody>\n",
       "\t<tr><th scope=row>1</th><td>1</td><td>NA</td><td>0</td><td>1</td><td> 2</td><td>0</td><td>1</td><td>0</td></tr>\n",
       "\t<tr><th scope=row>2</th><td>1</td><td>NA</td><td>0</td><td>1</td><td> 4</td><td>0</td><td>0</td><td>1</td></tr>\n",
       "\t<tr><th scope=row>3</th><td>1</td><td>NA</td><td>0</td><td>1</td><td> 6</td><td>1</td><td>0</td><td>0</td></tr>\n",
       "\t<tr><th scope=row>4</th><td>1</td><td>NA</td><td>0</td><td>1</td><td> 8</td><td>0</td><td>1</td><td>0</td></tr>\n",
       "\t<tr><th scope=row>5</th><td>1</td><td>NA</td><td>0</td><td>1</td><td>10</td><td>1</td><td>1</td><td>1</td></tr>\n",
       "\t<tr><th scope=row>6</th><td>1</td><td>NA</td><td>0</td><td>1</td><td>12</td><td>1</td><td>1</td><td>1</td></tr>\n",
       "</tbody>\n",
       "</table>\n"
      ],
      "text/latex": [
       "A data.frame: 6 × 8\n",
       "\\begin{tabular}{r|llllllll}\n",
       "  & actor & recipient & condition & block & trial & prosoc\\_left & chose\\_prosoc & pulled\\_left\\\\\n",
       "  & <int> & <int> & <int> & <int> & <int> & <int> & <int> & <int>\\\\\n",
       "\\hline\n",
       "\t1 & 1 & NA & 0 & 1 &  2 & 0 & 1 & 0\\\\\n",
       "\t2 & 1 & NA & 0 & 1 &  4 & 0 & 0 & 1\\\\\n",
       "\t3 & 1 & NA & 0 & 1 &  6 & 1 & 0 & 0\\\\\n",
       "\t4 & 1 & NA & 0 & 1 &  8 & 0 & 1 & 0\\\\\n",
       "\t5 & 1 & NA & 0 & 1 & 10 & 1 & 1 & 1\\\\\n",
       "\t6 & 1 & NA & 0 & 1 & 12 & 1 & 1 & 1\\\\\n",
       "\\end{tabular}\n"
      ],
      "text/markdown": [
       "\n",
       "A data.frame: 6 × 8\n",
       "\n",
       "| <!--/--> | actor &lt;int&gt; | recipient &lt;int&gt; | condition &lt;int&gt; | block &lt;int&gt; | trial &lt;int&gt; | prosoc_left &lt;int&gt; | chose_prosoc &lt;int&gt; | pulled_left &lt;int&gt; |\n",
       "|---|---|---|---|---|---|---|---|---|\n",
       "| 1 | 1 | NA | 0 | 1 |  2 | 0 | 1 | 0 |\n",
       "| 2 | 1 | NA | 0 | 1 |  4 | 0 | 0 | 1 |\n",
       "| 3 | 1 | NA | 0 | 1 |  6 | 1 | 0 | 0 |\n",
       "| 4 | 1 | NA | 0 | 1 |  8 | 0 | 1 | 0 |\n",
       "| 5 | 1 | NA | 0 | 1 | 10 | 1 | 1 | 1 |\n",
       "| 6 | 1 | NA | 0 | 1 | 12 | 1 | 1 | 1 |\n",
       "\n"
      ],
      "text/plain": [
       "  actor recipient condition block trial prosoc_left chose_prosoc pulled_left\n",
       "1 1     NA        0         1      2    0           1            0          \n",
       "2 1     NA        0         1      4    0           0            1          \n",
       "3 1     NA        0         1      6    1           0            0          \n",
       "4 1     NA        0         1      8    0           1            0          \n",
       "5 1     NA        0         1     10    1           1            1          \n",
       "6 1     NA        0         1     12    1           1            1          "
      ]
     },
     "metadata": {},
     "output_type": "display_data"
    },
    {
     "name": "stdout",
     "output_type": "stream",
     "text": [
      "'data.frame':\t504 obs. of  8 variables:\n",
      " $ actor       : int  1 1 1 1 1 1 1 1 1 1 ...\n",
      " $ recipient   : int  NA NA NA NA NA NA NA NA NA NA ...\n",
      " $ condition   : int  0 0 0 0 0 0 0 0 0 0 ...\n",
      " $ block       : int  1 1 1 1 1 1 2 2 2 2 ...\n",
      " $ trial       : int  2 4 6 8 10 12 14 16 18 20 ...\n",
      " $ prosoc_left : int  0 0 1 0 1 1 1 1 0 0 ...\n",
      " $ chose_prosoc: int  1 0 0 1 1 1 0 0 1 1 ...\n",
      " $ pulled_left : int  0 1 0 0 1 1 0 0 0 0 ...\n"
     ]
    }
   ],
   "source": [
    "# head, str\n",
    "d %>% head()\n",
    "d %>% str()"
   ]
  },
  {
   "cell_type": "code",
   "execution_count": 5,
   "metadata": {
    "cell_style": "split"
   },
   "outputs": [
    {
     "data": {
      "text/plain": [
       "\n",
       " 1  2  3  4  5  6  7 \n",
       "72 72 72 72 72 72 72 "
      ]
     },
     "metadata": {},
     "output_type": "display_data"
    }
   ],
   "source": [
    "table(d$actor)"
   ]
  },
  {
   "cell_type": "raw",
   "metadata": {
    "cell_style": "split"
   },
   "source": [
    "d$actor %>% hist()\n",
    "d$actor %>% unique()\n",
    "d$actor %>% table()"
   ]
  },
  {
   "cell_type": "code",
   "execution_count": 6,
   "metadata": {
    "code_folding": []
   },
   "outputs": [
    {
     "data": {
      "text/html": [
       "<style>\n",
       ".list-inline {list-style: none; margin:0; padding: 0}\n",
       ".list-inline>li {display: inline-block}\n",
       ".list-inline>li:not(:last-child)::after {content: \"\\00b7\"; padding: 0 .5ex}\n",
       "</style>\n",
       "<ol class=list-inline><li>1</li><li>2</li><li>3</li><li>4</li></ol>\n"
      ],
      "text/latex": [
       "\\begin{enumerate*}\n",
       "\\item 1\n",
       "\\item 2\n",
       "\\item 3\n",
       "\\item 4\n",
       "\\end{enumerate*}\n"
      ],
      "text/markdown": [
       "1. 1\n",
       "2. 2\n",
       "3. 3\n",
       "4. 4\n",
       "\n",
       "\n"
      ],
      "text/plain": [
       "[1] 1 2 3 4"
      ]
     },
     "metadata": {},
     "output_type": "display_data"
    }
   ],
   "source": [
    "## R code 11.2\n",
    "d$treatment <- 1 + d$prosoc_left + 2*d$condition\n",
    "d$treatment %>% unique()"
   ]
  },
  {
   "cell_type": "code",
   "execution_count": 7,
   "metadata": {},
   "outputs": [
    {
     "data": {
      "text/plain": [
       ", , condition = 0\n",
       "\n",
       "         prosoc_left\n",
       "treatment   0   1\n",
       "        1 126   0\n",
       "        2   0 126\n",
       "        3   0   0\n",
       "        4   0   0\n",
       "\n",
       ", , condition = 1\n",
       "\n",
       "         prosoc_left\n",
       "treatment   0   1\n",
       "        1   0   0\n",
       "        2   0   0\n",
       "        3 126   0\n",
       "        4   0 126\n"
      ]
     },
     "metadata": {},
     "output_type": "display_data"
    }
   ],
   "source": [
    "## R code 11.3\n",
    "xtabs( ~ treatment + prosoc_left + condition , d )"
   ]
  },
  {
   "cell_type": "markdown",
   "metadata": {
    "heading_collapsed": true
   },
   "source": [
    "##### m11.1"
   ]
  },
  {
   "cell_type": "code",
   "execution_count": 8,
   "metadata": {
    "hidden": true
   },
   "outputs": [],
   "source": [
    "## R code 11.4\n",
    "m11.1 <- quap(\n",
    "    alist(\n",
    "        pulled_left ~ dbinom( 1 , p ) ,\n",
    "        logit(p) <- a ,\n",
    "        a ~ dnorm( 0 , 10 )\n",
    "    ) , data=d )\n"
   ]
  },
  {
   "cell_type": "code",
   "execution_count": 9,
   "metadata": {
    "hidden": true
   },
   "outputs": [],
   "source": [
    "## R code 11.4\n",
    "m11.1_better <- quap(\n",
    "    alist(\n",
    "        pulled_left ~ dbinom( 1 , p ) ,\n",
    "        logit(p) <- a ,\n",
    "        a ~ dnorm( 0 , 1.5 )\n",
    "    ) , data=d )\n"
   ]
  },
  {
   "cell_type": "code",
   "execution_count": 10,
   "metadata": {
    "hidden": true
   },
   "outputs": [],
   "source": [
    "## R code 11.4\n",
    "m11.1_better <- quap(\n",
    "    alist(\n",
    "        pulled_left ~ dbinom( 1 , p ) ,\n",
    "        logit(p) <- a ,\n",
    "        a ~ dnorm( 0 , 1 )\n",
    "    ) , data=d )\n"
   ]
  },
  {
   "cell_type": "code",
   "execution_count": 11,
   "metadata": {
    "hidden": true
   },
   "outputs": [],
   "source": [
    "## R code 11.5\n",
    "set.seed(1999)\n",
    "prior <- extract.prior( m11.1 , n=1e4 )"
   ]
  },
  {
   "cell_type": "markdown",
   "metadata": {
    "hidden": true
   },
   "source": [
    "We need to convert the parameter to the outcome scale."
   ]
  },
  {
   "cell_type": "code",
   "execution_count": 12,
   "metadata": {
    "hidden": true
   },
   "outputs": [
    {
     "data": {
      "image/png": "[encoded data removed]",
      "text/plain": [
       "Plot with title \"\""
      ]
     },
     "metadata": {
      "image/png": {
       "height": 420,
       "width": 420
      }
     },
     "output_type": "display_data"
    }
   ],
   "source": [
    "## R code 11.6\n",
    "# m11.1 prior\n",
    "p <- inv_logit( prior$a )\n",
    "dens( p , adj=0.1 )\n",
    "options(repr.plot.width=4, repr.plot.height=2)"
   ]
  },
  {
   "cell_type": "code",
   "execution_count": 13,
   "metadata": {
    "hidden": true
   },
   "outputs": [
    {
     "data": {
      "image/png": "[encoded data removed]",
      "text/plain": [
       "Plot with title \"\""
      ]
     },
     "metadata": {
      "image/png": {
       "height": 120,
       "width": 240
      }
     },
     "output_type": "display_data"
    }
   ],
   "source": [
    "# m11.1_better prior\n",
    "prior <- extract.prior( m11.1_better , n=1e4 )\n",
    "p <- inv_logit( prior$a )\n",
    "dens( p , adj=0.1 )\n",
    "options(repr.plot.width=4, repr.plot.height=2)"
   ]
  },
  {
   "cell_type": "markdown",
   "metadata": {
    "heading_collapsed": true
   },
   "source": [
    "##### m11.2"
   ]
  },
  {
   "cell_type": "code",
   "execution_count": 14,
   "metadata": {
    "hidden": true
   },
   "outputs": [],
   "source": [
    "## R code 11.7\n",
    "m11.2 <- quap(\n",
    "    alist(\n",
    "        pulled_left ~ dbinom( 1 , p ) ,\n",
    "        logit(p) <- a + b[treatment] ,\n",
    "        a ~ dnorm( 0 , 1.5 ),\n",
    "        b[treatment] ~ dnorm( 0 , 10 )\n",
    "    ) , data=d )\n",
    "set.seed(1999)\n",
    "prior <- extract.prior( m11.2 , n=1e4 )\n",
    "p <- sapply( 1:4 , function(k) inv_logit( prior$a + prior$b[,k] ) )\n"
   ]
  },
  {
   "cell_type": "code",
   "execution_count": 15,
   "metadata": {
    "hidden": true
   },
   "outputs": [
    {
     "data": {
      "image/png": "[encoded data removed]",
      "text/plain": [
       "Plot with title \"\""
      ]
     },
     "metadata": {
      "image/png": {
       "height": 120,
       "width": 240
      }
     },
     "output_type": "display_data"
    }
   ],
   "source": [
    "## R code 11.8\n",
    "dens( abs( p[,1] - p[,2] ) , adj=0.1 )\n"
   ]
  },
  {
   "cell_type": "raw",
   "metadata": {
    "hidden": true
   },
   "source": [
    "p[,1] %>% head\n",
    "\n",
    "p %>% head()"
   ]
  },
  {
   "cell_type": "code",
   "execution_count": 16,
   "metadata": {
    "hidden": true
   },
   "outputs": [
    {
     "data": {
      "text/html": [
       "<style>\n",
       ".list-inline {list-style: none; margin:0; padding: 0}\n",
       ".list-inline>li {display: inline-block}\n",
       ".list-inline>li:not(:last-child)::after {content: \"\\00b7\"; padding: 0 .5ex}\n",
       "</style>\n",
       "<ol class=list-inline><li>10000</li><li>4</li></ol>\n"
      ],
      "text/latex": [
       "\\begin{enumerate*}\n",
       "\\item 10000\n",
       "\\item 4\n",
       "\\end{enumerate*}\n"
      ],
      "text/markdown": [
       "1. 10000\n",
       "2. 4\n",
       "\n",
       "\n"
      ],
      "text/plain": [
       "[1] 10000     4"
      ]
     },
     "metadata": {},
     "output_type": "display_data"
    }
   ],
   "source": [
    "prior$b %>% dim"
   ]
  },
  {
   "cell_type": "code",
   "execution_count": 17,
   "metadata": {
    "hidden": true
   },
   "outputs": [
    {
     "name": "stdout",
     "output_type": "stream",
     "text": [
      "List of 2\n",
      " $ a: num [1:10000(1d)] 1.099 -0.0567 1.8045 2.2047 0.2005 ...\n",
      " $ b: num [1:10000, 1:4] 2.34 -11.45 4.53 14.05 -8.97 ...\n",
      " - attr(*, \"source\")= chr \"quap prior: 10000 samples from m11.2\"\n"
     ]
    }
   ],
   "source": [
    "prior %>% str"
   ]
  },
  {
   "cell_type": "markdown",
   "metadata": {
    "heading_collapsed": true
   },
   "source": [
    "##### m11.3"
   ]
  },
  {
   "cell_type": "code",
   "execution_count": 18,
   "metadata": {
    "hidden": true
   },
   "outputs": [
    {
     "data": {
      "text/html": [
       "0.0983866320386242"
      ],
      "text/latex": [
       "0.0983866320386242"
      ],
      "text/markdown": [
       "0.0983866320386242"
      ],
      "text/plain": [
       "[1] 0.09838663"
      ]
     },
     "metadata": {},
     "output_type": "display_data"
    },
    {
     "data": {
      "image/png": "[encoded data removed]",
      "text/plain": [
       "Plot with title \"\""
      ]
     },
     "metadata": {
      "image/png": {
       "height": 120,
       "width": 240
      }
     },
     "output_type": "display_data"
    }
   ],
   "source": [
    "## R code 11.9\n",
    "m11.3 <- quap(\n",
    "    alist(\n",
    "        pulled_left ~ dbinom( 1 , p ) ,\n",
    "        logit(p) <- a + b[treatment] ,\n",
    "        a ~ dnorm( 0 , 1.5 ),\n",
    "        b[treatment] ~ dnorm( 0 , 0.5 )\n",
    "    ) , data=d )\n",
    "set.seed(1999)\n",
    "prior <- extract.prior( m11.3 , n=1e4 )\n",
    "p <- sapply( 1:4 , function(k) inv_logit( prior$a + prior$b[,k] ) )\n",
    "\n",
    "dens( abs( p[,1] - p[,2] ) , adj=0.1 )\n",
    "mean( abs( p[,1] - p[,2] ) )\n"
   ]
  },
  {
   "cell_type": "code",
   "execution_count": 19,
   "metadata": {
    "hidden": true
   },
   "outputs": [
    {
     "data": {
      "text/html": [
       "<table>\n",
       "<caption>A data.frame: 6 × 9</caption>\n",
       "<thead>\n",
       "\t<tr><th></th><th scope=col>actor</th><th scope=col>recipient</th><th scope=col>condition</th><th scope=col>block</th><th scope=col>trial</th><th scope=col>prosoc_left</th><th scope=col>chose_prosoc</th><th scope=col>pulled_left</th><th scope=col>treatment</th></tr>\n",
       "\t<tr><th></th><th scope=col>&lt;int&gt;</th><th scope=col>&lt;int&gt;</th><th scope=col>&lt;int&gt;</th><th scope=col>&lt;int&gt;</th><th scope=col>&lt;int&gt;</th><th scope=col>&lt;int&gt;</th><th scope=col>&lt;int&gt;</th><th scope=col>&lt;int&gt;</th><th scope=col>&lt;dbl&gt;</th></tr>\n",
       "</thead>\n",
       "<tbody>\n",
       "\t<tr><th scope=row>1</th><td>1</td><td>NA</td><td>0</td><td>1</td><td> 2</td><td>0</td><td>1</td><td>0</td><td>1</td></tr>\n",
       "\t<tr><th scope=row>2</th><td>1</td><td>NA</td><td>0</td><td>1</td><td> 4</td><td>0</td><td>0</td><td>1</td><td>1</td></tr>\n",
       "\t<tr><th scope=row>3</th><td>1</td><td>NA</td><td>0</td><td>1</td><td> 6</td><td>1</td><td>0</td><td>0</td><td>2</td></tr>\n",
       "\t<tr><th scope=row>4</th><td>1</td><td>NA</td><td>0</td><td>1</td><td> 8</td><td>0</td><td>1</td><td>0</td><td>1</td></tr>\n",
       "\t<tr><th scope=row>5</th><td>1</td><td>NA</td><td>0</td><td>1</td><td>10</td><td>1</td><td>1</td><td>1</td><td>2</td></tr>\n",
       "\t<tr><th scope=row>6</th><td>1</td><td>NA</td><td>0</td><td>1</td><td>12</td><td>1</td><td>1</td><td>1</td><td>2</td></tr>\n",
       "</tbody>\n",
       "</table>\n"
      ],
      "text/latex": [
       "A data.frame: 6 × 9\n",
       "\\begin{tabular}{r|lllllllll}\n",
       "  & actor & recipient & condition & block & trial & prosoc\\_left & chose\\_prosoc & pulled\\_left & treatment\\\\\n",
       "  & <int> & <int> & <int> & <int> & <int> & <int> & <int> & <int> & <dbl>\\\\\n",
       "\\hline\n",
       "\t1 & 1 & NA & 0 & 1 &  2 & 0 & 1 & 0 & 1\\\\\n",
       "\t2 & 1 & NA & 0 & 1 &  4 & 0 & 0 & 1 & 1\\\\\n",
       "\t3 & 1 & NA & 0 & 1 &  6 & 1 & 0 & 0 & 2\\\\\n",
       "\t4 & 1 & NA & 0 & 1 &  8 & 0 & 1 & 0 & 1\\\\\n",
       "\t5 & 1 & NA & 0 & 1 & 10 & 1 & 1 & 1 & 2\\\\\n",
       "\t6 & 1 & NA & 0 & 1 & 12 & 1 & 1 & 1 & 2\\\\\n",
       "\\end{tabular}\n"
      ],
      "text/markdown": [
       "\n",
       "A data.frame: 6 × 9\n",
       "\n",
       "| <!--/--> | actor &lt;int&gt; | recipient &lt;int&gt; | condition &lt;int&gt; | block &lt;int&gt; | trial &lt;int&gt; | prosoc_left &lt;int&gt; | chose_prosoc &lt;int&gt; | pulled_left &lt;int&gt; | treatment &lt;dbl&gt; |\n",
       "|---|---|---|---|---|---|---|---|---|---|\n",
       "| 1 | 1 | NA | 0 | 1 |  2 | 0 | 1 | 0 | 1 |\n",
       "| 2 | 1 | NA | 0 | 1 |  4 | 0 | 0 | 1 | 1 |\n",
       "| 3 | 1 | NA | 0 | 1 |  6 | 1 | 0 | 0 | 2 |\n",
       "| 4 | 1 | NA | 0 | 1 |  8 | 0 | 1 | 0 | 1 |\n",
       "| 5 | 1 | NA | 0 | 1 | 10 | 1 | 1 | 1 | 2 |\n",
       "| 6 | 1 | NA | 0 | 1 | 12 | 1 | 1 | 1 | 2 |\n",
       "\n"
      ],
      "text/plain": [
       "  actor recipient condition block trial prosoc_left chose_prosoc pulled_left\n",
       "1 1     NA        0         1      2    0           1            0          \n",
       "2 1     NA        0         1      4    0           0            1          \n",
       "3 1     NA        0         1      6    1           0            0          \n",
       "4 1     NA        0         1      8    0           1            0          \n",
       "5 1     NA        0         1     10    1           1            1          \n",
       "6 1     NA        0         1     12    1           1            1          \n",
       "  treatment\n",
       "1 1        \n",
       "2 1        \n",
       "3 2        \n",
       "4 1        \n",
       "5 2        \n",
       "6 2        "
      ]
     },
     "metadata": {},
     "output_type": "display_data"
    }
   ],
   "source": [
    "d %>% head"
   ]
  },
  {
   "cell_type": "markdown",
   "metadata": {},
   "source": [
    "##### m11.4"
   ]
  },
  {
   "cell_type": "code",
   "execution_count": 20,
   "metadata": {},
   "outputs": [],
   "source": [
    "## R code 11.2\n",
    "d$treatment <- 1 + d$prosoc_left + 2*d$condition\n",
    "\n",
    "d$treatment <- as.integer(d$treatment)\n",
    "d$actor <- as.integer(d$actor)\n",
    "d$pulled_left <- as.integer(d$pulled_left)\n",
    "\n",
    "## R code 11.10\n",
    "# prior trimmed data list\n",
    "dat_list <- list(\n",
    "    pulled_left = d$pulled_left,\n",
    "    actor = d$actor,\n",
    "    treatment = d$treatment )"
   ]
  },
  {
   "cell_type": "code",
   "execution_count": 21,
   "metadata": {},
   "outputs": [
    {
     "name": "stdout",
     "output_type": "stream",
     "text": [
      "'data.frame':\t504 obs. of  3 variables:\n",
      " $ pulled_left: int  0 1 0 0 1 1 0 0 0 0 ...\n",
      " $ actor      : int  1 1 1 1 1 1 1 1 1 1 ...\n",
      " $ treatment  : int  1 1 2 1 2 2 2 2 1 1 ...\n"
     ]
    }
   ],
   "source": [
    "d %>% select(pulled_left, actor, treatment) %>% str"
   ]
  },
  {
   "cell_type": "code",
   "execution_count": 22,
   "metadata": {},
   "outputs": [
    {
     "name": "stdout",
     "output_type": "stream",
     "text": [
      "\n",
      "SAMPLING FOR MODEL '80e2b6267e3dc4ff0c2916d0cf0879e8' NOW (CHAIN 1).\n",
      "Chain 1: \n",
      "Chain 1: Gradient evaluation took 0 seconds\n",
      "Chain 1: 1000 transitions using 10 leapfrog steps per transition would take 0 seconds.\n",
      "Chain 1: Adjust your expectations accordingly!\n",
      "Chain 1: \n",
      "Chain 1: \n",
      "Chain 1: Iteration:   1 / 1000 [  0%]  (Warmup)\n",
      "Chain 1: Iteration: 100 / 1000 [ 10%]  (Warmup)\n",
      "Chain 1: Iteration: 200 / 1000 [ 20%]  (Warmup)\n",
      "Chain 1: Iteration: 300 / 1000 [ 30%]  (Warmup)\n",
      "Chain 1: Iteration: 400 / 1000 [ 40%]  (Warmup)\n",
      "Chain 1: Iteration: 500 / 1000 [ 50%]  (Warmup)\n",
      "Chain 1: Iteration: 501 / 1000 [ 50%]  (Sampling)\n",
      "Chain 1: Iteration: 600 / 1000 [ 60%]  (Sampling)\n",
      "Chain 1: Iteration: 700 / 1000 [ 70%]  (Sampling)\n",
      "Chain 1: Iteration: 800 / 1000 [ 80%]  (Sampling)\n",
      "Chain 1: Iteration: 900 / 1000 [ 90%]  (Sampling)\n",
      "Chain 1: Iteration: 1000 / 1000 [100%]  (Sampling)\n",
      "Chain 1: \n",
      "Chain 1:  Elapsed Time: 0.842 seconds (Warm-up)\n",
      "Chain 1:                0.934 seconds (Sampling)\n",
      "Chain 1:                1.776 seconds (Total)\n",
      "Chain 1: \n",
      "\n",
      "SAMPLING FOR MODEL '80e2b6267e3dc4ff0c2916d0cf0879e8' NOW (CHAIN 2).\n",
      "Chain 2: \n",
      "Chain 2: Gradient evaluation took 0 seconds\n",
      "Chain 2: 1000 transitions using 10 leapfrog steps per transition would take 0 seconds.\n",
      "Chain 2: Adjust your expectations accordingly!\n",
      "Chain 2: \n",
      "Chain 2: \n",
      "Chain 2: Iteration:   1 / 1000 [  0%]  (Warmup)\n",
      "Chain 2: Iteration: 100 / 1000 [ 10%]  (Warmup)\n",
      "Chain 2: Iteration: 200 / 1000 [ 20%]  (Warmup)\n",
      "Chain 2: Iteration: 300 / 1000 [ 30%]  (Warmup)\n",
      "Chain 2: Iteration: 400 / 1000 [ 40%]  (Warmup)\n",
      "Chain 2: Iteration: 500 / 1000 [ 50%]  (Warmup)\n",
      "Chain 2: Iteration: 501 / 1000 [ 50%]  (Sampling)\n",
      "Chain 2: Iteration: 600 / 1000 [ 60%]  (Sampling)\n",
      "Chain 2: Iteration: 700 / 1000 [ 70%]  (Sampling)\n",
      "Chain 2: Iteration: 800 / 1000 [ 80%]  (Sampling)\n",
      "Chain 2: Iteration: 900 / 1000 [ 90%]  (Sampling)\n",
      "Chain 2: Iteration: 1000 / 1000 [100%]  (Sampling)\n",
      "Chain 2: \n",
      "Chain 2:  Elapsed Time: 0.933 seconds (Warm-up)\n",
      "Chain 2:                0.874 seconds (Sampling)\n",
      "Chain 2:                1.807 seconds (Total)\n",
      "Chain 2: \n",
      "\n",
      "SAMPLING FOR MODEL '80e2b6267e3dc4ff0c2916d0cf0879e8' NOW (CHAIN 3).\n",
      "Chain 3: \n",
      "Chain 3: Gradient evaluation took 0.001 seconds\n",
      "Chain 3: 1000 transitions using 10 leapfrog steps per transition would take 10 seconds.\n",
      "Chain 3: Adjust your expectations accordingly!\n",
      "Chain 3: \n",
      "Chain 3: \n",
      "Chain 3: Iteration:   1 / 1000 [  0%]  (Warmup)\n",
      "Chain 3: Iteration: 100 / 1000 [ 10%]  (Warmup)\n",
      "Chain 3: Iteration: 200 / 1000 [ 20%]  (Warmup)\n",
      "Chain 3: Iteration: 300 / 1000 [ 30%]  (Warmup)\n",
      "Chain 3: Iteration: 400 / 1000 [ 40%]  (Warmup)\n",
      "Chain 3: Iteration: 500 / 1000 [ 50%]  (Warmup)\n",
      "Chain 3: Iteration: 501 / 1000 [ 50%]  (Sampling)\n",
      "Chain 3: Iteration: 600 / 1000 [ 60%]  (Sampling)\n",
      "Chain 3: Iteration: 700 / 1000 [ 70%]  (Sampling)\n",
      "Chain 3: Iteration: 800 / 1000 [ 80%]  (Sampling)\n",
      "Chain 3: Iteration: 900 / 1000 [ 90%]  (Sampling)\n",
      "Chain 3: Iteration: 1000 / 1000 [100%]  (Sampling)\n",
      "Chain 3: \n",
      "Chain 3:  Elapsed Time: 0.854 seconds (Warm-up)\n",
      "Chain 3:                0.844 seconds (Sampling)\n",
      "Chain 3:                1.698 seconds (Total)\n",
      "Chain 3: \n",
      "\n",
      "SAMPLING FOR MODEL '80e2b6267e3dc4ff0c2916d0cf0879e8' NOW (CHAIN 4).\n",
      "Chain 4: \n",
      "Chain 4: Gradient evaluation took 0 seconds\n",
      "Chain 4: 1000 transitions using 10 leapfrog steps per transition would take 0 seconds.\n",
      "Chain 4: Adjust your expectations accordingly!\n",
      "Chain 4: \n",
      "Chain 4: \n",
      "Chain 4: Iteration:   1 / 1000 [  0%]  (Warmup)\n",
      "Chain 4: Iteration: 100 / 1000 [ 10%]  (Warmup)\n",
      "Chain 4: Iteration: 200 / 1000 [ 20%]  (Warmup)\n",
      "Chain 4: Iteration: 300 / 1000 [ 30%]  (Warmup)\n",
      "Chain 4: Iteration: 400 / 1000 [ 40%]  (Warmup)\n",
      "Chain 4: Iteration: 500 / 1000 [ 50%]  (Warmup)\n",
      "Chain 4: Iteration: 501 / 1000 [ 50%]  (Sampling)\n",
      "Chain 4: Iteration: 600 / 1000 [ 60%]  (Sampling)\n",
      "Chain 4: Iteration: 700 / 1000 [ 70%]  (Sampling)\n",
      "Chain 4: Iteration: 800 / 1000 [ 80%]  (Sampling)\n",
      "Chain 4: Iteration: 900 / 1000 [ 90%]  (Sampling)\n",
      "Chain 4: Iteration: 1000 / 1000 [100%]  (Sampling)\n",
      "Chain 4: \n",
      "Chain 4:  Elapsed Time: 0.831 seconds (Warm-up)\n",
      "Chain 4:                0.716 seconds (Sampling)\n",
      "Chain 4:                1.547 seconds (Total)\n",
      "Chain 4: \n"
     ]
    }
   ],
   "source": [
    "# particles in 11-dimensional space\n",
    "m11.4 <- ulam(\n",
    "    alist(\n",
    "        pulled_left ~ dbinom( 1 , p ) ,\n",
    "        logit(p) <- a[actor] + b[treatment] ,\n",
    "        a[actor] ~ dnorm( 0 , 1.5 ),\n",
    "        b[treatment] ~ dnorm( 0 , 0.5 )\n",
    "    ) ,\n",
    "    data=dat_list , chains=4, log_lik=TRUE )"
   ]
  },
  {
   "cell_type": "code",
   "execution_count": 23,
   "metadata": {
    "cell_style": "split"
   },
   "outputs": [
    {
     "data": {
      "text/html": [
       "<table>\n",
       "<caption>A data.frame: 11 × 6</caption>\n",
       "<thead>\n",
       "\t<tr><th></th><th scope=col>mean</th><th scope=col>sd</th><th scope=col>5.5%</th><th scope=col>94.5%</th><th scope=col>n_eff</th><th scope=col>Rhat4</th></tr>\n",
       "\t<tr><th></th><th scope=col>&lt;dbl&gt;</th><th scope=col>&lt;dbl&gt;</th><th scope=col>&lt;dbl&gt;</th><th scope=col>&lt;dbl&gt;</th><th scope=col>&lt;dbl&gt;</th><th scope=col>&lt;dbl&gt;</th></tr>\n",
       "</thead>\n",
       "<tbody>\n",
       "\t<tr><th scope=row>a[1]</th><td>-0.45</td><td>0.32</td><td>-0.95</td><td> 0.06</td><td> 646.14</td><td>1.01</td></tr>\n",
       "\t<tr><th scope=row>a[2]</th><td> 3.93</td><td>0.77</td><td> 2.80</td><td> 5.19</td><td>1272.04</td><td>1.00</td></tr>\n",
       "\t<tr><th scope=row>a[3]</th><td>-0.76</td><td>0.34</td><td>-1.31</td><td>-0.22</td><td> 782.12</td><td>1.01</td></tr>\n",
       "\t<tr><th scope=row>a[4]</th><td>-0.75</td><td>0.33</td><td>-1.27</td><td>-0.23</td><td> 674.12</td><td>1.01</td></tr>\n",
       "\t<tr><th scope=row>a[5]</th><td>-0.44</td><td>0.31</td><td>-0.94</td><td> 0.06</td><td> 800.57</td><td>1.01</td></tr>\n",
       "\t<tr><th scope=row>a[6]</th><td> 0.48</td><td>0.33</td><td>-0.04</td><td> 1.01</td><td> 826.27</td><td>1.01</td></tr>\n",
       "\t<tr><th scope=row>a[7]</th><td> 1.96</td><td>0.42</td><td> 1.30</td><td> 2.62</td><td> 965.52</td><td>1.00</td></tr>\n",
       "\t<tr><th scope=row>b[1]</th><td>-0.04</td><td>0.28</td><td>-0.52</td><td> 0.36</td><td> 715.07</td><td>1.01</td></tr>\n",
       "\t<tr><th scope=row>b[2]</th><td> 0.48</td><td>0.28</td><td> 0.02</td><td> 0.93</td><td> 735.50</td><td>1.00</td></tr>\n",
       "\t<tr><th scope=row>b[3]</th><td>-0.38</td><td>0.28</td><td>-0.84</td><td> 0.05</td><td> 720.93</td><td>1.01</td></tr>\n",
       "\t<tr><th scope=row>b[4]</th><td> 0.37</td><td>0.28</td><td>-0.07</td><td> 0.81</td><td> 664.89</td><td>1.01</td></tr>\n",
       "</tbody>\n",
       "</table>\n"
      ],
      "text/latex": [
       "A data.frame: 11 × 6\n",
       "\\begin{tabular}{r|llllll}\n",
       "  & mean & sd & 5.5\\% & 94.5\\% & n\\_eff & Rhat4\\\\\n",
       "  & <dbl> & <dbl> & <dbl> & <dbl> & <dbl> & <dbl>\\\\\n",
       "\\hline\n",
       "\ta{[}1{]} & -0.45 & 0.32 & -0.95 &  0.06 &  646.14 & 1.01\\\\\n",
       "\ta{[}2{]} &  3.93 & 0.77 &  2.80 &  5.19 & 1272.04 & 1.00\\\\\n",
       "\ta{[}3{]} & -0.76 & 0.34 & -1.31 & -0.22 &  782.12 & 1.01\\\\\n",
       "\ta{[}4{]} & -0.75 & 0.33 & -1.27 & -0.23 &  674.12 & 1.01\\\\\n",
       "\ta{[}5{]} & -0.44 & 0.31 & -0.94 &  0.06 &  800.57 & 1.01\\\\\n",
       "\ta{[}6{]} &  0.48 & 0.33 & -0.04 &  1.01 &  826.27 & 1.01\\\\\n",
       "\ta{[}7{]} &  1.96 & 0.42 &  1.30 &  2.62 &  965.52 & 1.00\\\\\n",
       "\tb{[}1{]} & -0.04 & 0.28 & -0.52 &  0.36 &  715.07 & 1.01\\\\\n",
       "\tb{[}2{]} &  0.48 & 0.28 &  0.02 &  0.93 &  735.50 & 1.00\\\\\n",
       "\tb{[}3{]} & -0.38 & 0.28 & -0.84 &  0.05 &  720.93 & 1.01\\\\\n",
       "\tb{[}4{]} &  0.37 & 0.28 & -0.07 &  0.81 &  664.89 & 1.01\\\\\n",
       "\\end{tabular}\n"
      ],
      "text/markdown": [
       "\n",
       "A data.frame: 11 × 6\n",
       "\n",
       "| <!--/--> | mean &lt;dbl&gt; | sd &lt;dbl&gt; | 5.5% &lt;dbl&gt; | 94.5% &lt;dbl&gt; | n_eff &lt;dbl&gt; | Rhat4 &lt;dbl&gt; |\n",
       "|---|---|---|---|---|---|---|\n",
       "| a[1] | -0.45 | 0.32 | -0.95 |  0.06 |  646.14 | 1.01 |\n",
       "| a[2] |  3.93 | 0.77 |  2.80 |  5.19 | 1272.04 | 1.00 |\n",
       "| a[3] | -0.76 | 0.34 | -1.31 | -0.22 |  782.12 | 1.01 |\n",
       "| a[4] | -0.75 | 0.33 | -1.27 | -0.23 |  674.12 | 1.01 |\n",
       "| a[5] | -0.44 | 0.31 | -0.94 |  0.06 |  800.57 | 1.01 |\n",
       "| a[6] |  0.48 | 0.33 | -0.04 |  1.01 |  826.27 | 1.01 |\n",
       "| a[7] |  1.96 | 0.42 |  1.30 |  2.62 |  965.52 | 1.00 |\n",
       "| b[1] | -0.04 | 0.28 | -0.52 |  0.36 |  715.07 | 1.01 |\n",
       "| b[2] |  0.48 | 0.28 |  0.02 |  0.93 |  735.50 | 1.00 |\n",
       "| b[3] | -0.38 | 0.28 | -0.84 |  0.05 |  720.93 | 1.01 |\n",
       "| b[4] |  0.37 | 0.28 | -0.07 |  0.81 |  664.89 | 1.01 |\n",
       "\n"
      ],
      "text/plain": [
       "     mean  sd   5.5%  94.5% n_eff   Rhat4\n",
       "a[1] -0.45 0.32 -0.95  0.06  646.14 1.01 \n",
       "a[2]  3.93 0.77  2.80  5.19 1272.04 1.00 \n",
       "a[3] -0.76 0.34 -1.31 -0.22  782.12 1.01 \n",
       "a[4] -0.75 0.33 -1.27 -0.23  674.12 1.01 \n",
       "a[5] -0.44 0.31 -0.94  0.06  800.57 1.01 \n",
       "a[6]  0.48 0.33 -0.04  1.01  826.27 1.01 \n",
       "a[7]  1.96 0.42  1.30  2.62  965.52 1.00 \n",
       "b[1] -0.04 0.28 -0.52  0.36  715.07 1.01 \n",
       "b[2]  0.48 0.28  0.02  0.93  735.50 1.00 \n",
       "b[3] -0.38 0.28 -0.84  0.05  720.93 1.01 \n",
       "b[4]  0.37 0.28 -0.07  0.81  664.89 1.01 "
      ]
     },
     "metadata": {},
     "output_type": "display_data"
    }
   ],
   "source": [
    "precis( m11.4 , depth=2 ) %>% round(2)"
   ]
  },
  {
   "cell_type": "code",
   "execution_count": 24,
   "metadata": {},
   "outputs": [
    {
     "name": "stdout",
     "output_type": "stream",
     "text": [
      "data{\n",
      "    int pulled_left[504];\n",
      "    int treatment[504];\n",
      "    int actor[504];\n",
      "}\n",
      "parameters{\n",
      "    vector[7] a;\n",
      "    vector[4] b;\n",
      "}\n",
      "model{\n",
      "    vector[504] p;\n",
      "    b ~ normal( 0 , 0.5 );\n",
      "    a ~ normal( 0 , 1.5 );\n",
      "    for ( i in 1:504 ) {\n",
      "        p[i] = a[actor[i]] + b[treatment[i]];\n",
      "        p[i] = inv_logit(p[i]);\n",
      "    }\n",
      "    pulled_left ~ binomial( 1 , p );\n",
      "}\n",
      "generated quantities{\n",
      "    vector[504] log_lik;\n",
      "    vector[504] p;\n",
      "    for ( i in 1:504 ) {\n",
      "        p[i] = a[actor[i]] + b[treatment[i]];\n",
      "        p[i] = inv_logit(p[i]);\n",
      "    }\n",
      "    for ( i in 1:504 ) log_lik[i] = binomial_lpmf( pulled_left[i] | 1 , p[i] );\n",
      "}\n",
      "\n"
     ]
    }
   ],
   "source": [
    "stancode(m11.4)"
   ]
  },
  {
   "cell_type": "code",
   "execution_count": 25,
   "metadata": {
    "scrolled": true
   },
   "outputs": [
    {
     "name": "stdout",
     "output_type": "stream",
     "text": [
      "data{\n",
      "    int pulled_left[504];\n",
      "    int treatment[504];\n",
      "    int actor[504];\n",
      "}\n",
      "parameters{\n",
      "    vector[7] a;\n",
      "    vector[4] b;\n",
      "}\n",
      "model{\n",
      "    vector[504] p;\n",
      "    b ~ normal( 0 , 0.5 );\n",
      "    a ~ normal( 0 , 1.5 );\n",
      "    for ( i in 1:504 ) {\n",
      "        p[i] = a[actor[i]] + b[treatment[i]];\n",
      "        p[i] = inv_logit(p[i]);\n",
      "    }\n",
      "    pulled_left ~ binomial( 1 , p );\n",
      "}\n",
      "generated quantities{\n",
      "    vector[504] log_lik;\n",
      "    vector[504] p;\n",
      "    for ( i in 1:504 ) {\n",
      "        p[i] = a[actor[i]] + b[treatment[i]];\n",
      "        p[i] = inv_logit(p[i]);\n",
      "    }\n",
      "    for ( i in 1:504 ) log_lik[i] = binomial_lpmf( pulled_left[i] | 1 , p[i] );\n",
      "}\n",
      "\n"
     ]
    }
   ],
   "source": [
    "m11.4_stan_code <- stancode(m11.4)"
   ]
  },
  {
   "cell_type": "markdown",
   "metadata": {},
   "source": [
    "#### stancode"
   ]
  },
  {
   "cell_type": "code",
   "execution_count": 26,
   "metadata": {},
   "outputs": [],
   "source": [
    "m11.4_stan_code <- \"\n",
    "    data{\n",
    "        int pulled_left[504];\n",
    "        int treatment[504];\n",
    "        int actor[504];\n",
    "    }\n",
    "    parameters{\n",
    "        vector[7] a;\n",
    "        vector[4] b;\n",
    "    }\n",
    "    model{\n",
    "        vector[504] p;\n",
    "        b ~ normal( 0 , 0.5 );\n",
    "        a ~ normal( 0 , 1.5 );\n",
    "        for ( i in 1:504 ) {\n",
    "            p[i] = a[actor[i]] + b[treatment[i]];\n",
    "            p[i] = inv_logit(p[i]);\n",
    "        }\n",
    "        pulled_left ~ binomial( 1 , p );\n",
    "    }\n",
    "    generated quantities{\n",
    "        vector[504] log_lik;\n",
    "        vector[504] p;\n",
    "        for ( i in 1:504 ) {\n",
    "            p[i] = a[actor[i]] + b[treatment[i]];\n",
    "            p[i] = inv_logit(p[i]);\n",
    "        }\n",
    "        for ( i in 1:504 ) log_lik[i] = binomial_lpmf( pulled_left[i] | 1 , p[i] );\n",
    "    }\n",
    "\""
   ]
  },
  {
   "cell_type": "code",
   "execution_count": 27,
   "metadata": {},
   "outputs": [
    {
     "name": "stdout",
     "output_type": "stream",
     "text": [
      "List of 4\n",
      " $ log_lik: num [1:2000, 1:504] -0.37 -0.455 -0.71 -0.5 -0.497 ...\n",
      " $ a      : num [1:2000, 1:7] -0.649 -0.186 -0.169 -0.181 -0.687 ...\n",
      " $ b      : num [1:2000, 1:4] -0.155 -0.365 0.203 -0.252 0.246 ...\n",
      " $ lp__   : num [1:2000(1d)] -266 -269 -267 -264 -269 ...\n",
      " - attr(*, \"source\")= chr \"ulam posterior: 2000 samples from m11.4\"\n"
     ]
    }
   ],
   "source": [
    "post <- extract.samples( m11.4 , clean=FALSE ) \n",
    "str(post)"
   ]
  },
  {
   "cell_type": "code",
   "execution_count": 28,
   "metadata": {},
   "outputs": [
    {
     "name": "stdout",
     "output_type": "stream",
     "text": [
      "List of 2\n",
      " $ a: num [1:2000, 1:7] -0.649 -0.186 -0.169 -0.181 -0.687 ...\n",
      " $ b: num [1:2000, 1:4] -0.155 -0.365 0.203 -0.252 0.246 ...\n",
      " - attr(*, \"source\")= chr \"ulam posterior: 2000 samples from m11.4\"\n"
     ]
    }
   ],
   "source": [
    "post <- extract.samples( m11.4 ) \n",
    "str(post)"
   ]
  },
  {
   "cell_type": "code",
   "execution_count": 29,
   "metadata": {},
   "outputs": [
    {
     "name": "stdout",
     "output_type": "stream",
     "text": [
      "List of 2\n",
      " $ a: num [1:2000, 1:7] -0.649 -0.186 -0.169 -0.181 -0.687 ...\n",
      " $ b: num [1:2000, 1:4] -0.155 -0.365 0.203 -0.252 0.246 ...\n",
      " - attr(*, \"source\")= chr \"ulam posterior: 2000 samples from m11.4\"\n"
     ]
    }
   ],
   "source": [
    "post <- extract.samples( m11.4)\n",
    "str(post)"
   ]
  },
  {
   "cell_type": "code",
   "execution_count": 30,
   "metadata": {},
   "outputs": [
    {
     "data": {
      "image/png": "[encoded data removed]",
      "text/plain": [
       "plot without title"
      ]
     },
     "metadata": {
      "image/png": {
       "height": 120,
       "width": 240
      }
     },
     "output_type": "display_data"
    }
   ],
   "source": [
    "## R code 11.11\n",
    "post <- extract.samples(m11.4)\n",
    "p_left <- inv_logit( post$a )\n",
    "plot( precis( as.data.frame(p_left) ) , xlim=c(0,1) )\n"
   ]
  },
  {
   "cell_type": "code",
   "execution_count": 31,
   "metadata": {},
   "outputs": [
    {
     "name": "stdout",
     "output_type": "stream",
     "text": [
      "List of 2\n",
      " $ a: num [1:2000, 1:7] -0.649 -0.186 -0.169 -0.181 -0.687 ...\n",
      " $ b: num [1:2000, 1:4] -0.155 -0.365 0.203 -0.252 0.246 ...\n",
      " - attr(*, \"source\")= chr \"ulam posterior: 2000 samples from m11.4\"\n"
     ]
    }
   ],
   "source": [
    "post %>% str()"
   ]
  },
  {
   "cell_type": "code",
   "execution_count": 32,
   "metadata": {},
   "outputs": [
    {
     "data": {
      "image/png": "[encoded data removed]",
      "text/plain": [
       "plot without title"
      ]
     },
     "metadata": {
      "image/png": {
       "height": 120,
       "width": 240
      }
     },
     "output_type": "display_data"
    }
   ],
   "source": [
    "## R code 11.12\n",
    "labs <- c(\"R/N\",\"L/N\",\"R/P\",\"L/P\")\n",
    "plot( precis( m11.4 , depth=2 , pars=\"b\" ) , labels=labs )"
   ]
  },
  {
   "cell_type": "code",
   "execution_count": 33,
   "metadata": {},
   "outputs": [
    {
     "data": {
      "image/png": "[encoded data removed]",
      "text/plain": [
       "plot without title"
      ]
     },
     "metadata": {
      "image/png": {
       "height": 120,
       "width": 240
      }
     },
     "output_type": "display_data"
    }
   ],
   "source": [
    "## R code 11.13\n",
    "diffs <- list(\n",
    "    db13 = post$b[,1] - post$b[,3],\n",
    "    db24 = post$b[,2] - post$b[,4] )\n",
    "plot( precis(diffs) )"
   ]
  },
  {
   "cell_type": "code",
   "execution_count": 34,
   "metadata": {},
   "outputs": [
    {
     "data": {
      "text/html": [
       "<style>\n",
       ".dl-inline {width: auto; margin:0; padding: 0}\n",
       ".dl-inline>dt, .dl-inline>dd {float: none; width: auto; display: inline-block}\n",
       ".dl-inline>dt::after {content: \":\\0020\"; padding-right: .5ex}\n",
       ".dl-inline>dt:not(:first-of-type) {padding-left: .5ex}\n",
       "</style><dl class=dl-inline><dt>1</dt><dd>0.333333333333333</dd><dt>2</dt><dd>0.5</dd><dt>3</dt><dd>0.277777777777778</dd><dt>4</dt><dd>0.555555555555556</dd></dl>\n"
      ],
      "text/latex": [
       "\\begin{description*}\n",
       "\\item[1] 0.333333333333333\n",
       "\\item[2] 0.5\n",
       "\\item[3] 0.277777777777778\n",
       "\\item[4] 0.555555555555556\n",
       "\\end{description*}\n"
      ],
      "text/markdown": [
       "1\n",
       ":   0.3333333333333332\n",
       ":   0.53\n",
       ":   0.2777777777777784\n",
       ":   0.555555555555556\n",
       "\n"
      ],
      "text/plain": [
       "        1         2         3         4 \n",
       "0.3333333 0.5000000 0.2777778 0.5555556 "
      ]
     },
     "metadata": {},
     "output_type": "display_data"
    }
   ],
   "source": [
    "## R code 11.14\n",
    "pl <- by( d$pulled_left , list( d$actor , d$treatment ) , mean )\n",
    "pl[1,]"
   ]
  },
  {
   "cell_type": "code",
   "execution_count": 35,
   "metadata": {},
   "outputs": [
    {
     "data": {
      "text/html": [
       "<table>\n",
       "<caption>A matrix: 7 × 4 of type dbl</caption>\n",
       "<thead>\n",
       "\t<tr><th></th><th scope=col>1</th><th scope=col>2</th><th scope=col>3</th><th scope=col>4</th></tr>\n",
       "</thead>\n",
       "<tbody>\n",
       "\t<tr><th scope=row>1</th><td>0.3333333</td><td>0.5000000</td><td>0.2777778</td><td>0.5555556</td></tr>\n",
       "\t<tr><th scope=row>2</th><td>1.0000000</td><td>1.0000000</td><td>1.0000000</td><td>1.0000000</td></tr>\n",
       "\t<tr><th scope=row>3</th><td>0.2777778</td><td>0.6111111</td><td>0.1666667</td><td>0.3333333</td></tr>\n",
       "\t<tr><th scope=row>4</th><td>0.3333333</td><td>0.5000000</td><td>0.1111111</td><td>0.4444444</td></tr>\n",
       "\t<tr><th scope=row>5</th><td>0.3333333</td><td>0.5555556</td><td>0.2777778</td><td>0.5000000</td></tr>\n",
       "\t<tr><th scope=row>6</th><td>0.7777778</td><td>0.6111111</td><td>0.5555556</td><td>0.6111111</td></tr>\n",
       "\t<tr><th scope=row>7</th><td>0.7777778</td><td>0.8333333</td><td>0.9444444</td><td>1.0000000</td></tr>\n",
       "</tbody>\n",
       "</table>\n"
      ],
      "text/latex": [
       "A matrix: 7 × 4 of type dbl\n",
       "\\begin{tabular}{r|llll}\n",
       "  & 1 & 2 & 3 & 4\\\\\n",
       "\\hline\n",
       "\t1 & 0.3333333 & 0.5000000 & 0.2777778 & 0.5555556\\\\\n",
       "\t2 & 1.0000000 & 1.0000000 & 1.0000000 & 1.0000000\\\\\n",
       "\t3 & 0.2777778 & 0.6111111 & 0.1666667 & 0.3333333\\\\\n",
       "\t4 & 0.3333333 & 0.5000000 & 0.1111111 & 0.4444444\\\\\n",
       "\t5 & 0.3333333 & 0.5555556 & 0.2777778 & 0.5000000\\\\\n",
       "\t6 & 0.7777778 & 0.6111111 & 0.5555556 & 0.6111111\\\\\n",
       "\t7 & 0.7777778 & 0.8333333 & 0.9444444 & 1.0000000\\\\\n",
       "\\end{tabular}\n"
      ],
      "text/markdown": [
       "\n",
       "A matrix: 7 × 4 of type dbl\n",
       "\n",
       "| <!--/--> | 1 | 2 | 3 | 4 |\n",
       "|---|---|---|---|---|\n",
       "| 1 | 0.3333333 | 0.5000000 | 0.2777778 | 0.5555556 |\n",
       "| 2 | 1.0000000 | 1.0000000 | 1.0000000 | 1.0000000 |\n",
       "| 3 | 0.2777778 | 0.6111111 | 0.1666667 | 0.3333333 |\n",
       "| 4 | 0.3333333 | 0.5000000 | 0.1111111 | 0.4444444 |\n",
       "| 5 | 0.3333333 | 0.5555556 | 0.2777778 | 0.5000000 |\n",
       "| 6 | 0.7777778 | 0.6111111 | 0.5555556 | 0.6111111 |\n",
       "| 7 | 0.7777778 | 0.8333333 | 0.9444444 | 1.0000000 |\n",
       "\n"
      ],
      "text/plain": [
       "  1         2         3         4        \n",
       "1 0.3333333 0.5000000 0.2777778 0.5555556\n",
       "2 1.0000000 1.0000000 1.0000000 1.0000000\n",
       "3 0.2777778 0.6111111 0.1666667 0.3333333\n",
       "4 0.3333333 0.5000000 0.1111111 0.4444444\n",
       "5 0.3333333 0.5555556 0.2777778 0.5000000\n",
       "6 0.7777778 0.6111111 0.5555556 0.6111111\n",
       "7 0.7777778 0.8333333 0.9444444 1.0000000"
      ]
     },
     "metadata": {},
     "output_type": "display_data"
    }
   ],
   "source": [
    "pl[,]"
   ]
  },
  {
   "cell_type": "code",
   "execution_count": 36,
   "metadata": {
    "scrolled": true
   },
   "outputs": [
    {
     "data": {
      "image/png": "[encoded data removed]",
      "text/plain": [
       "plot without title"
      ]
     },
     "metadata": {
      "image/png": {
       "height": 120,
       "width": 240
      }
     },
     "output_type": "display_data"
    }
   ],
   "source": [
    "## R code 11.15\n",
    "plot( NULL , xlim=c(1,28) , ylim=c(0,1) , xlab=\"\" ,\n",
    "    ylab=\"proportion left lever\" , xaxt=\"n\" , yaxt=\"n\" )\n",
    "axis( 2 , at=c(0,0.5,1) , labels=c(0,0.5,1) )\n",
    "abline( h=0.5 , lty=2 )\n",
    "for ( j in 1:7 ) abline( v=(j-1)*4+4.5 , lwd=0.5 )\n",
    "for ( j in 1:7 ) text( (j-1)*4+2.5 , 1.1 , concat(\"actor \",j) , xpd=TRUE )\n",
    "for ( j in (1:7)[-2] ) {\n",
    "    lines( (j-1)*4+c(1,3) , pl[j,c(1,3)] , lwd=2 , col=rangi2 )\n",
    "    lines( (j-1)*4+c(2,4) , pl[j,c(2,4)] , lwd=2 , col=rangi2 )\n",
    "}\n",
    "points( 1:28 , t(pl) , pch=16 , col=\"white\" , cex=1.7 )\n",
    "points( 1:28 , t(pl) , pch=c(1,1,16,16) , col=rangi2 , lwd=2 )\n",
    "yoff <- 0.01\n",
    "text( 1 , pl[1,1]-yoff , \"R/N\" , pos=1 , cex=0.8 )\n",
    "text( 2 , pl[1,2]+yoff , \"L/N\" , pos=3 , cex=0.8 )\n",
    "text( 3 , pl[1,3]-yoff , \"R/P\" , pos=1 , cex=0.8 )\n",
    "text( 4 , pl[1,4]+yoff , \"L/P\" , pos=3 , cex=0.8 )\n",
    "mtext( \"observed proportions\\n\" )\n",
    "options(repr.plot.width=6, repr.plot.height=5)"
   ]
  },
  {
   "cell_type": "code",
   "execution_count": 38,
   "metadata": {},
   "outputs": [],
   "source": [
    "## R code 11.16\n",
    "dat <- list( actor=rep(1:7,each=4) , treatment=rep(1:4,times=7) )\n",
    "p_post <- link_ulam( m11.4 , data=dat )\n",
    "p_mu <- apply( p_post , 2 , mean )\n",
    "p_ci <- apply( p_post , 2 , PI )\n"
   ]
  },
  {
   "cell_type": "markdown",
   "metadata": {},
   "source": [
    "##### m11.5"
   ]
  },
  {
   "cell_type": "code",
   "execution_count": 36,
   "metadata": {},
   "outputs": [],
   "source": [
    "## R code 11.17\n",
    "d$side <- (d$prosoc_left + 1) %>% as.integer() # right 1, left 2: prosoc optn\n",
    "d$cond <- (d$condition + 1) %>% as.integer() # no partner 1, partner 2"
   ]
  },
  {
   "cell_type": "code",
   "execution_count": 37,
   "metadata": {
    "collapsed": true
   },
   "outputs": [
    {
     "name": "stdout",
     "output_type": "stream",
     "text": [
      "\n",
      "SAMPLING FOR MODEL '1e8ca8c75419cf9bc49e27f99cb338e6' NOW (CHAIN 1).\n",
      "Chain 1: \n",
      "Chain 1: Gradient evaluation took 0.001 seconds\n",
      "Chain 1: 1000 transitions using 10 leapfrog steps per transition would take 10 seconds.\n",
      "Chain 1: Adjust your expectations accordingly!\n",
      "Chain 1: \n",
      "Chain 1: \n",
      "Chain 1: Iteration:   1 / 1000 [  0%]  (Warmup)\n",
      "Chain 1: Iteration: 100 / 1000 [ 10%]  (Warmup)\n",
      "Chain 1: Iteration: 200 / 1000 [ 20%]  (Warmup)\n",
      "Chain 1: Iteration: 300 / 1000 [ 30%]  (Warmup)\n",
      "Chain 1: Iteration: 400 / 1000 [ 40%]  (Warmup)\n",
      "Chain 1: Iteration: 500 / 1000 [ 50%]  (Warmup)\n",
      "Chain 1: Iteration: 501 / 1000 [ 50%]  (Sampling)\n",
      "Chain 1: Iteration: 600 / 1000 [ 60%]  (Sampling)\n",
      "Chain 1: Iteration: 700 / 1000 [ 70%]  (Sampling)\n",
      "Chain 1: Iteration: 800 / 1000 [ 80%]  (Sampling)\n",
      "Chain 1: Iteration: 900 / 1000 [ 90%]  (Sampling)\n",
      "Chain 1: Iteration: 1000 / 1000 [100%]  (Sampling)\n",
      "Chain 1: \n",
      "Chain 1:  Elapsed Time: 1.547 seconds (Warm-up)\n",
      "Chain 1:                1.33 seconds (Sampling)\n",
      "Chain 1:                2.877 seconds (Total)\n",
      "Chain 1: \n",
      "\n",
      "SAMPLING FOR MODEL '1e8ca8c75419cf9bc49e27f99cb338e6' NOW (CHAIN 2).\n",
      "Chain 2: \n",
      "Chain 2: Gradient evaluation took 0 seconds\n",
      "Chain 2: 1000 transitions using 10 leapfrog steps per transition would take 0 seconds.\n",
      "Chain 2: Adjust your expectations accordingly!\n",
      "Chain 2: \n",
      "Chain 2: \n",
      "Chain 2: Iteration:   1 / 1000 [  0%]  (Warmup)\n",
      "Chain 2: Iteration: 100 / 1000 [ 10%]  (Warmup)\n",
      "Chain 2: Iteration: 200 / 1000 [ 20%]  (Warmup)\n",
      "Chain 2: Iteration: 300 / 1000 [ 30%]  (Warmup)\n",
      "Chain 2: Iteration: 400 / 1000 [ 40%]  (Warmup)\n",
      "Chain 2: Iteration: 500 / 1000 [ 50%]  (Warmup)\n",
      "Chain 2: Iteration: 501 / 1000 [ 50%]  (Sampling)\n",
      "Chain 2: Iteration: 600 / 1000 [ 60%]  (Sampling)\n",
      "Chain 2: Iteration: 700 / 1000 [ 70%]  (Sampling)\n",
      "Chain 2: Iteration: 800 / 1000 [ 80%]  (Sampling)\n",
      "Chain 2: Iteration: 900 / 1000 [ 90%]  (Sampling)\n",
      "Chain 2: Iteration: 1000 / 1000 [100%]  (Sampling)\n",
      "Chain 2: \n",
      "Chain 2:  Elapsed Time: 1.588 seconds (Warm-up)\n",
      "Chain 2:                1.378 seconds (Sampling)\n",
      "Chain 2:                2.966 seconds (Total)\n",
      "Chain 2: \n",
      "\n",
      "SAMPLING FOR MODEL '1e8ca8c75419cf9bc49e27f99cb338e6' NOW (CHAIN 3).\n",
      "Chain 3: \n",
      "Chain 3: Gradient evaluation took 0 seconds\n",
      "Chain 3: 1000 transitions using 10 leapfrog steps per transition would take 0 seconds.\n",
      "Chain 3: Adjust your expectations accordingly!\n",
      "Chain 3: \n",
      "Chain 3: \n",
      "Chain 3: Iteration:   1 / 1000 [  0%]  (Warmup)\n",
      "Chain 3: Iteration: 100 / 1000 [ 10%]  (Warmup)\n",
      "Chain 3: Iteration: 200 / 1000 [ 20%]  (Warmup)\n",
      "Chain 3: Iteration: 300 / 1000 [ 30%]  (Warmup)\n",
      "Chain 3: Iteration: 400 / 1000 [ 40%]  (Warmup)\n",
      "Chain 3: Iteration: 500 / 1000 [ 50%]  (Warmup)\n",
      "Chain 3: Iteration: 501 / 1000 [ 50%]  (Sampling)\n",
      "Chain 3: Iteration: 600 / 1000 [ 60%]  (Sampling)\n",
      "Chain 3: Iteration: 700 / 1000 [ 70%]  (Sampling)\n",
      "Chain 3: Iteration: 800 / 1000 [ 80%]  (Sampling)\n",
      "Chain 3: Iteration: 900 / 1000 [ 90%]  (Sampling)\n",
      "Chain 3: Iteration: 1000 / 1000 [100%]  (Sampling)\n",
      "Chain 3: \n",
      "Chain 3:  Elapsed Time: 1.423 seconds (Warm-up)\n",
      "Chain 3:                1.268 seconds (Sampling)\n",
      "Chain 3:                2.691 seconds (Total)\n",
      "Chain 3: \n",
      "\n",
      "SAMPLING FOR MODEL '1e8ca8c75419cf9bc49e27f99cb338e6' NOW (CHAIN 4).\n",
      "Chain 4: \n",
      "Chain 4: Gradient evaluation took 0 seconds\n",
      "Chain 4: 1000 transitions using 10 leapfrog steps per transition would take 0 seconds.\n",
      "Chain 4: Adjust your expectations accordingly!\n",
      "Chain 4: \n",
      "Chain 4: \n",
      "Chain 4: Iteration:   1 / 1000 [  0%]  (Warmup)\n",
      "Chain 4: Iteration: 100 / 1000 [ 10%]  (Warmup)\n",
      "Chain 4: Iteration: 200 / 1000 [ 20%]  (Warmup)\n",
      "Chain 4: Iteration: 300 / 1000 [ 30%]  (Warmup)\n",
      "Chain 4: Iteration: 400 / 1000 [ 40%]  (Warmup)\n",
      "Chain 4: Iteration: 500 / 1000 [ 50%]  (Warmup)\n",
      "Chain 4: Iteration: 501 / 1000 [ 50%]  (Sampling)\n",
      "Chain 4: Iteration: 600 / 1000 [ 60%]  (Sampling)\n",
      "Chain 4: Iteration: 700 / 1000 [ 70%]  (Sampling)\n",
      "Chain 4: Iteration: 800 / 1000 [ 80%]  (Sampling)\n",
      "Chain 4: Iteration: 900 / 1000 [ 90%]  (Sampling)\n",
      "Chain 4: Iteration: 1000 / 1000 [100%]  (Sampling)\n",
      "Chain 4: \n",
      "Chain 4:  Elapsed Time: 1.77 seconds (Warm-up)\n",
      "Chain 4:                1.54 seconds (Sampling)\n",
      "Chain 4:                3.31 seconds (Total)\n",
      "Chain 4: \n"
     ]
    }
   ],
   "source": [
    "## R code 11.18\n",
    "dat_list2 <- list(\n",
    "    pulled_left = d$pulled_left,\n",
    "    actor = d$actor,\n",
    "    side = d$side,\n",
    "    cond = d$cond )\n",
    "\n",
    "m11.5 <- ulam(\n",
    "    alist(\n",
    "        pulled_left ~ dbinom( 1 , p ) ,\n",
    "        logit(p) <- a[actor] + bs[side] + bc[cond] ,\n",
    "        a[actor] ~ dnorm( 0 , 1.5 ),\n",
    "        bs[side] ~ dnorm( 0 , 0.5 ),\n",
    "        bc[cond] ~ dnorm( 0 , 0.5 )\n",
    "    ) ,\n",
    "    data=dat_list2 , chains=4 , log_lik=TRUE )"
   ]
  },
  {
   "cell_type": "code",
   "execution_count": 38,
   "metadata": {
    "scrolled": true
   },
   "outputs": [
    {
     "data": {
      "text/html": [
       "<table>\n",
       "<thead><tr><th></th><th scope=col>LOO</th><th scope=col>pLOO</th><th scope=col>dLOO</th><th scope=col>weight</th><th scope=col>SE</th><th scope=col>dSE</th></tr></thead>\n",
       "<tbody>\n",
       "\t<tr><th scope=row>m11.5</th><td>531.29</td><td>8.03  </td><td>0.00  </td><td>0.59  </td><td>19.14 </td><td>  NA  </td></tr>\n",
       "\t<tr><th scope=row>m11.4</th><td>532.00</td><td>8.39  </td><td>0.72  </td><td>0.41  </td><td>18.93 </td><td>1.26  </td></tr>\n",
       "</tbody>\n",
       "</table>\n"
      ],
      "text/latex": [
       "\\begin{tabular}{r|llllll}\n",
       "  & LOO & pLOO & dLOO & weight & SE & dSE\\\\\n",
       "\\hline\n",
       "\tm11.5 & 531.29 & 8.03   & 0.00   & 0.59   & 19.14  &   NA  \\\\\n",
       "\tm11.4 & 532.00 & 8.39   & 0.72   & 0.41   & 18.93  & 1.26  \\\\\n",
       "\\end{tabular}\n"
      ],
      "text/markdown": [
       "\n",
       "| <!--/--> | LOO | pLOO | dLOO | weight | SE | dSE |\n",
       "|---|---|---|---|---|---|---|\n",
       "| m11.5 | 531.29 | 8.03   | 0.00   | 0.59   | 19.14  |   NA   |\n",
       "| m11.4 | 532.00 | 8.39   | 0.72   | 0.41   | 18.93  | 1.26   |\n",
       "\n"
      ],
      "text/plain": [
       "      LOO    pLOO dLOO weight SE    dSE \n",
       "m11.5 531.29 8.03 0.00 0.59   19.14   NA\n",
       "m11.4 532.00 8.39 0.72 0.41   18.93 1.26"
      ]
     },
     "metadata": {},
     "output_type": "display_data"
    }
   ],
   "source": [
    "## R code 11.19\n",
    "compare( m11.5, m11.4, func=LOO ) %>% round(2)\n"
   ]
  },
  {
   "cell_type": "raw",
   "metadata": {},
   "source": [
    "m11.5 %>% precis(depth=2)\n",
    "m11.4 %>% precis(depth=2)"
   ]
  },
  {
   "cell_type": "code",
   "execution_count": null,
   "metadata": {},
   "outputs": [],
   "source": []
  },
  {
   "cell_type": "markdown",
   "metadata": {},
   "source": [
    "## Poisson regression"
   ]
  },
  {
   "cell_type": "markdown",
   "metadata": {},
   "source": [
    "### Example: Oceanic tool complexity."
   ]
  },
  {
   "cell_type": "code",
   "execution_count": 165,
   "metadata": {},
   "outputs": [],
   "source": [
    "library(rethinking) \n",
    "data(Kline)\n",
    "d <- Kline"
   ]
  },
  {
   "cell_type": "code",
   "execution_count": 166,
   "metadata": {},
   "outputs": [],
   "source": [
    "d$P <- scale( log(d$population) ) \n",
    "d$contact_id <- ifelse( d$contact==\"high\" , 2 , 1 )"
   ]
  },
  {
   "cell_type": "code",
   "execution_count": 167,
   "metadata": {},
   "outputs": [
    {
     "data": {
      "image/png": "[encoded data removed]",
      "text/plain": [
       "Plot with title \"\""
      ]
     },
     "metadata": {},
     "output_type": "display_data"
    }
   ],
   "source": [
    "d$P <- scale( log(d$population) )  %>% dens"
   ]
  },
  {
   "cell_type": "code",
   "execution_count": 5,
   "metadata": {
    "cell_style": "split"
   },
   "outputs": [
    {
     "data": {
      "image/png": "[encoded data removed]",
      "text/plain": [
       "plot without title"
      ]
     },
     "metadata": {},
     "output_type": "display_data"
    }
   ],
   "source": [
    "curve( expr = dlnorm( x , meanlog = 0 , sdlog = 10 ) , from=0 , to=100 , n=200 )\n",
    "options(repr.plot.width=5, repr.plot.height=5)"
   ]
  },
  {
   "cell_type": "code",
   "execution_count": 6,
   "metadata": {},
   "outputs": [
    {
     "data": {
      "text/html": [
       "25177336332366.8"
      ],
      "text/latex": [
       "25177336332366.8"
      ],
      "text/markdown": [
       "25177336332366.8"
      ],
      "text/plain": [
       "[1] 2.517734e+13"
      ]
     },
     "metadata": {},
     "output_type": "display_data"
    }
   ],
   "source": [
    "a <- rnorm(1e4,0,10) \n",
    "lambda <- exp(a)\n",
    "mean( lambda )"
   ]
  },
  {
   "cell_type": "code",
   "execution_count": 7,
   "metadata": {},
   "outputs": [
    {
     "data": {
      "image/png": "[encoded data removed]",
      "text/plain": [
       "plot without title"
      ]
     },
     "metadata": {},
     "output_type": "display_data"
    }
   ],
   "source": [
    "curve( dlnorm( x , 3 , 0.5 ) , from=0 , to=100 , n=200 )"
   ]
  },
  {
   "cell_type": "code",
   "execution_count": 8,
   "metadata": {},
   "outputs": [
    {
     "data": {
      "image/png": "[encoded data removed]",
      "text/plain": [
       "plot without title"
      ]
     },
     "metadata": {},
     "output_type": "display_data"
    }
   ],
   "source": [
    "# R code\n",
    "set.seed(10) \n",
    "N <- 100\n",
    "a <- rnorm( N , 3 , 0.5 )\n",
    "b <- rnorm( N , 0 , 0.2 )\n",
    "plot( NULL , xlim=c(-2,2) , ylim=c(0,100) )\n",
    "for ( i in 1:N ) curve( exp( a[i] + b[i]*x ) , add=TRUE , col=col.alpha(\"black\",0.5) )"
   ]
  },
  {
   "cell_type": "code",
   "execution_count": null,
   "metadata": {},
   "outputs": [],
   "source": []
  },
  {
   "cell_type": "code",
   "execution_count": 9,
   "metadata": {},
   "outputs": [
    {
     "data": {
      "image/png": "[encoded data removed]",
      "text/plain": [
       "plot without title"
      ]
     },
     "metadata": {},
     "output_type": "display_data"
    }
   ],
   "source": [
    "x_seq <- seq( from=log(100) , to=log(200000) , length.out=100 )\n",
    "lambda <- sapply( x_seq , function(x) exp( a + b*x ) )\n",
    "plot( NULL , xlim=range(x_seq) , ylim=c(0,500) , xlab=\"log population\" , ylab=\"total tools\" )\n",
    "for ( i in 1:N ) lines( x_seq , lambda[i,] , col=col.alpha(\"black\",0.5) , lwd=1.5 )"
   ]
  },
  {
   "cell_type": "code",
   "execution_count": 10,
   "metadata": {},
   "outputs": [
    {
     "data": {
      "image/png": "[encoded data removed]",
      "text/plain": [
       "plot without title"
      ]
     },
     "metadata": {},
     "output_type": "display_data"
    }
   ],
   "source": [
    "plot( NULL , xlim=range(exp(x_seq)) , ylim=c(0,500) , xlab=\"population\" , ylab=\"total tools\" )\n",
    "for ( i in 1:N ) lines( exp(x_seq) , lambda[i,] , col=col.alpha(\"black\",0.5) , lwd=1.5 )"
   ]
  },
  {
   "cell_type": "code",
   "execution_count": 172,
   "metadata": {
    "collapsed": true
   },
   "outputs": [
    {
     "data": {
      "text/html": [
       "<table>\n",
       "<thead><tr><th scope=col>culture</th><th scope=col>population</th><th scope=col>contact</th><th scope=col>total_tools</th><th scope=col>mean_TU</th></tr></thead>\n",
       "<tbody>\n",
       "\t<tr><td>Malekula  </td><td>  1100    </td><td>low       </td><td>13        </td><td>3.2       </td></tr>\n",
       "\t<tr><td>Tikopia   </td><td>  1500    </td><td>low       </td><td>22        </td><td>4.7       </td></tr>\n",
       "\t<tr><td>Santa Cruz</td><td>  3600    </td><td>low       </td><td>24        </td><td>4.0       </td></tr>\n",
       "\t<tr><td>Yap       </td><td>  4791    </td><td>high      </td><td>43        </td><td>5.0       </td></tr>\n",
       "\t<tr><td>Lau Fiji  </td><td>  7400    </td><td>high      </td><td>33        </td><td>5.0       </td></tr>\n",
       "\t<tr><td>Trobriand </td><td>  8000    </td><td>high      </td><td>19        </td><td>4.0       </td></tr>\n",
       "\t<tr><td>Chuuk     </td><td>  9200    </td><td>high      </td><td>40        </td><td>3.8       </td></tr>\n",
       "\t<tr><td>Manus     </td><td> 13000    </td><td>low       </td><td>28        </td><td>6.6       </td></tr>\n",
       "\t<tr><td>Tonga     </td><td> 17500    </td><td>high      </td><td>55        </td><td>5.4       </td></tr>\n",
       "\t<tr><td>Hawaii    </td><td>275000    </td><td>low       </td><td>71        </td><td>6.6       </td></tr>\n",
       "</tbody>\n",
       "</table>\n"
      ],
      "text/latex": [
       "\\begin{tabular}{r|lllll}\n",
       " culture & population & contact & total\\_tools & mean\\_TU\\\\\n",
       "\\hline\n",
       "\t Malekula   &   1100     & low        & 13         & 3.2       \\\\\n",
       "\t Tikopia    &   1500     & low        & 22         & 4.7       \\\\\n",
       "\t Santa Cruz &   3600     & low        & 24         & 4.0       \\\\\n",
       "\t Yap        &   4791     & high       & 43         & 5.0       \\\\\n",
       "\t Lau Fiji   &   7400     & high       & 33         & 5.0       \\\\\n",
       "\t Trobriand  &   8000     & high       & 19         & 4.0       \\\\\n",
       "\t Chuuk      &   9200     & high       & 40         & 3.8       \\\\\n",
       "\t Manus      &  13000     & low        & 28         & 6.6       \\\\\n",
       "\t Tonga      &  17500     & high       & 55         & 5.4       \\\\\n",
       "\t Hawaii     & 275000     & low        & 71         & 6.6       \\\\\n",
       "\\end{tabular}\n"
      ],
      "text/markdown": [
       "\n",
       "| culture | population | contact | total_tools | mean_TU |\n",
       "|---|---|---|---|---|\n",
       "| Malekula   |   1100     | low        | 13         | 3.2        |\n",
       "| Tikopia    |   1500     | low        | 22         | 4.7        |\n",
       "| Santa Cruz |   3600     | low        | 24         | 4.0        |\n",
       "| Yap        |   4791     | high       | 43         | 5.0        |\n",
       "| Lau Fiji   |   7400     | high       | 33         | 5.0        |\n",
       "| Trobriand  |   8000     | high       | 19         | 4.0        |\n",
       "| Chuuk      |   9200     | high       | 40         | 3.8        |\n",
       "| Manus      |  13000     | low        | 28         | 6.6        |\n",
       "| Tonga      |  17500     | high       | 55         | 5.4        |\n",
       "| Hawaii     | 275000     | low        | 71         | 6.6        |\n",
       "\n"
      ],
      "text/plain": [
       "   culture    population contact total_tools mean_TU\n",
       "1  Malekula     1100     low     13          3.2    \n",
       "2  Tikopia      1500     low     22          4.7    \n",
       "3  Santa Cruz   3600     low     24          4.0    \n",
       "4  Yap          4791     high    43          5.0    \n",
       "5  Lau Fiji     7400     high    33          5.0    \n",
       "6  Trobriand    8000     high    19          4.0    \n",
       "7  Chuuk        9200     high    40          3.8    \n",
       "8  Manus       13000     low     28          6.6    \n",
       "9  Tonga       17500     high    55          5.4    \n",
       "10 Hawaii     275000     low     71          6.6    "
      ]
     },
     "metadata": {},
     "output_type": "display_data"
    }
   ],
   "source": [
    "## R code 11.39\n",
    "library(rethinking)\n",
    "data(Kline)\n",
    "d <- Kline\n",
    "d\n",
    "\n",
    "## R code 11.40\n",
    "d$P <- scale( log(d$population) )\n",
    "d$contact_id <- ifelse( d$contact==\"high\" , 2L , 1L )\n"
   ]
  },
  {
   "cell_type": "code",
   "execution_count": 173,
   "metadata": {},
   "outputs": [],
   "source": [
    "## R code 11.48\n",
    "dat <- list(\n",
    "    T = d$total_tools ,\n",
    "    P = d$P ,\n",
    "    cid = d$contact_id  %>% as.integer())\n"
   ]
  },
  {
   "cell_type": "code",
   "execution_count": 174,
   "metadata": {
    "scrolled": true
   },
   "outputs": [
    {
     "name": "stdout",
     "output_type": "stream",
     "text": [
      "\n",
      "SAMPLING FOR MODEL '1016dad00d71412e9dffb1c8f58132a3' NOW (CHAIN 1).\n",
      "Chain 1: \n",
      "Chain 1: Gradient evaluation took 0 seconds\n",
      "Chain 1: 1000 transitions using 10 leapfrog steps per transition would take 0 seconds.\n",
      "Chain 1: Adjust your expectations accordingly!\n",
      "Chain 1: \n",
      "Chain 1: \n",
      "Chain 1: Iteration:   1 / 1000 [  0%]  (Warmup)\n",
      "Chain 1: Iteration: 100 / 1000 [ 10%]  (Warmup)\n",
      "Chain 1: Iteration: 200 / 1000 [ 20%]  (Warmup)\n",
      "Chain 1: Iteration: 300 / 1000 [ 30%]  (Warmup)\n",
      "Chain 1: Iteration: 400 / 1000 [ 40%]  (Warmup)\n",
      "Chain 1: Iteration: 500 / 1000 [ 50%]  (Warmup)\n",
      "Chain 1: Iteration: 501 / 1000 [ 50%]  (Sampling)\n",
      "Chain 1: Iteration: 600 / 1000 [ 60%]  (Sampling)\n",
      "Chain 1: Iteration: 700 / 1000 [ 70%]  (Sampling)\n",
      "Chain 1: Iteration: 800 / 1000 [ 80%]  (Sampling)\n",
      "Chain 1: Iteration: 900 / 1000 [ 90%]  (Sampling)\n",
      "Chain 1: Iteration: 1000 / 1000 [100%]  (Sampling)\n",
      "Chain 1: \n",
      "Chain 1:  Elapsed Time: 0.01 seconds (Warm-up)\n",
      "Chain 1:                0.005 seconds (Sampling)\n",
      "Chain 1:                0.015 seconds (Total)\n",
      "Chain 1: \n",
      "\n",
      "SAMPLING FOR MODEL '1016dad00d71412e9dffb1c8f58132a3' NOW (CHAIN 2).\n",
      "Chain 2: \n",
      "Chain 2: Gradient evaluation took 0 seconds\n",
      "Chain 2: 1000 transitions using 10 leapfrog steps per transition would take 0 seconds.\n",
      "Chain 2: Adjust your expectations accordingly!\n",
      "Chain 2: \n",
      "Chain 2: \n",
      "Chain 2: Iteration:   1 / 1000 [  0%]  (Warmup)\n",
      "Chain 2: Iteration: 100 / 1000 [ 10%]  (Warmup)\n",
      "Chain 2: Iteration: 200 / 1000 [ 20%]  (Warmup)\n",
      "Chain 2: Iteration: 300 / 1000 [ 30%]  (Warmup)\n",
      "Chain 2: Iteration: 400 / 1000 [ 40%]  (Warmup)\n",
      "Chain 2: Iteration: 500 / 1000 [ 50%]  (Warmup)\n",
      "Chain 2: Iteration: 501 / 1000 [ 50%]  (Sampling)\n",
      "Chain 2: Iteration: 600 / 1000 [ 60%]  (Sampling)\n",
      "Chain 2: Iteration: 700 / 1000 [ 70%]  (Sampling)\n",
      "Chain 2: Iteration: 800 / 1000 [ 80%]  (Sampling)\n",
      "Chain 2: Iteration: 900 / 1000 [ 90%]  (Sampling)\n",
      "Chain 2: Iteration: 1000 / 1000 [100%]  (Sampling)\n",
      "Chain 2: \n",
      "Chain 2:  Elapsed Time: 0.013 seconds (Warm-up)\n",
      "Chain 2:                0 seconds (Sampling)\n",
      "Chain 2:                0.013 seconds (Total)\n",
      "Chain 2: \n",
      "\n",
      "SAMPLING FOR MODEL '1016dad00d71412e9dffb1c8f58132a3' NOW (CHAIN 3).\n",
      "Chain 3: \n",
      "Chain 3: Gradient evaluation took 0 seconds\n",
      "Chain 3: 1000 transitions using 10 leapfrog steps per transition would take 0 seconds.\n",
      "Chain 3: Adjust your expectations accordingly!\n",
      "Chain 3: \n",
      "Chain 3: \n",
      "Chain 3: Iteration:   1 / 1000 [  0%]  (Warmup)\n",
      "Chain 3: Iteration: 100 / 1000 [ 10%]  (Warmup)\n",
      "Chain 3: Iteration: 200 / 1000 [ 20%]  (Warmup)\n",
      "Chain 3: Iteration: 300 / 1000 [ 30%]  (Warmup)\n",
      "Chain 3: Iteration: 400 / 1000 [ 40%]  (Warmup)\n",
      "Chain 3: Iteration: 500 / 1000 [ 50%]  (Warmup)\n",
      "Chain 3: Iteration: 501 / 1000 [ 50%]  (Sampling)\n",
      "Chain 3: Iteration: 600 / 1000 [ 60%]  (Sampling)\n",
      "Chain 3: Iteration: 700 / 1000 [ 70%]  (Sampling)\n",
      "Chain 3: Iteration: 800 / 1000 [ 80%]  (Sampling)\n",
      "Chain 3: Iteration: 900 / 1000 [ 90%]  (Sampling)\n",
      "Chain 3: Iteration: 1000 / 1000 [100%]  (Sampling)\n",
      "Chain 3: \n",
      "Chain 3:  Elapsed Time: 0.01 seconds (Warm-up)\n",
      "Chain 3:                0.011 seconds (Sampling)\n",
      "Chain 3:                0.021 seconds (Total)\n",
      "Chain 3: \n",
      "\n",
      "SAMPLING FOR MODEL '1016dad00d71412e9dffb1c8f58132a3' NOW (CHAIN 4).\n",
      "Chain 4: \n",
      "Chain 4: Gradient evaluation took 0 seconds\n",
      "Chain 4: 1000 transitions using 10 leapfrog steps per transition would take 0 seconds.\n",
      "Chain 4: Adjust your expectations accordingly!\n",
      "Chain 4: \n",
      "Chain 4: \n",
      "Chain 4: Iteration:   1 / 1000 [  0%]  (Warmup)\n",
      "Chain 4: Iteration: 100 / 1000 [ 10%]  (Warmup)\n",
      "Chain 4: Iteration: 200 / 1000 [ 20%]  (Warmup)\n",
      "Chain 4: Iteration: 300 / 1000 [ 30%]  (Warmup)\n",
      "Chain 4: Iteration: 400 / 1000 [ 40%]  (Warmup)\n",
      "Chain 4: Iteration: 500 / 1000 [ 50%]  (Warmup)\n",
      "Chain 4: Iteration: 501 / 1000 [ 50%]  (Sampling)\n",
      "Chain 4: Iteration: 600 / 1000 [ 60%]  (Sampling)\n",
      "Chain 4: Iteration: 700 / 1000 [ 70%]  (Sampling)\n",
      "Chain 4: Iteration: 800 / 1000 [ 80%]  (Sampling)\n",
      "Chain 4: Iteration: 900 / 1000 [ 90%]  (Sampling)\n",
      "Chain 4: Iteration: 1000 / 1000 [100%]  (Sampling)\n",
      "Chain 4: \n",
      "Chain 4:  Elapsed Time: 0.01 seconds (Warm-up)\n",
      "Chain 4:                0.009 seconds (Sampling)\n",
      "Chain 4:                0.019 seconds (Total)\n",
      "Chain 4: \n"
     ]
    }
   ],
   "source": [
    "# intercept only\n",
    "m11.9 <- ulam(\n",
    "    alist(\n",
    "        T ~ dpois( lambda ),\n",
    "        log(lambda) <- a,\n",
    "        a ~ dnorm(3,0.5)\n",
    "    ), data=dat , chains=4 , log_lik=TRUE )"
   ]
  },
  {
   "cell_type": "code",
   "execution_count": 175,
   "metadata": {},
   "outputs": [
    {
     "name": "stdout",
     "output_type": "stream",
     "text": [
      "data{\n",
      "    int cid[10];\n",
      "    vector[10] P;\n",
      "    int T[10];\n",
      "}\n",
      "parameters{\n",
      "    real a;\n",
      "}\n",
      "model{\n",
      "    real lambda;\n",
      "    a ~ normal( 3 , 0.5 );\n",
      "    lambda = a;\n",
      "    lambda = exp(lambda);\n",
      "    T ~ poisson( lambda );\n",
      "}\n",
      "generated quantities{\n",
      "    vector[10] log_lik;\n",
      "    real lambda;\n",
      "    lambda = a;\n",
      "    lambda = exp(lambda);\n",
      "    for ( i in 1:10 ) log_lik[i] = poisson_lpmf( T[i] | lambda );\n",
      "}\n",
      "\n"
     ]
    }
   ],
   "source": [
    "m11.9 %>% stancode()"
   ]
  },
  {
   "cell_type": "code",
   "execution_count": 26,
   "metadata": {
    "collapsed": true
   },
   "outputs": [
    {
     "name": "stdout",
     "output_type": "stream",
     "text": [
      "\n",
      "SAMPLING FOR MODEL 'bcde6ff526658b41ad114f427d1c9c2e' NOW (CHAIN 1).\n",
      "Chain 1: Unrecoverable error evaluating the log probability at the initial value.\n",
      "Chain 1: Exception: []: accessing element out of range. index 1 out of range; expecting index to be between 1 and 0; index position = 1P  (in 'model11503ef21ced_bcde6ff526658b41ad114f427d1c9c2e' at line 15)\n",
      "\n",
      "Error in sampler$call_sampler(args_list[[i]]) : \n",
      "  Exception: []: accessing element out of range. index 1 out of range; expecting index to be between 1 and 0; index position = 1P  (in 'model11503ef21ced_bcde6ff526658b41ad114f427d1c9c2e' at line 15)\n",
      "\n",
      "character(0)\n",
      "[1] \"error occurred during calling the sampler; sampling not done\"\n",
      "Stan model 'bcde6ff526658b41ad114f427d1c9c2e' does not contain samples.\n"
     ]
    },
    {
     "ename": "ERROR",
     "evalue": "Error in validObject(.Object): invalid class \"ulam\" object: invalid object for slot \"coef\" in class \"ulam\": got class \"NULL\", should be or extend class \"numeric\"\n",
     "output_type": "error",
     "traceback": [
      "Error in validObject(.Object): invalid class \"ulam\" object: invalid object for slot \"coef\" in class \"ulam\": got class \"NULL\", should be or extend class \"numeric\"\nTraceback:\n",
      "1. ulam(alist(T ~ dpois(lambda), log(lambda) <- a[cid] + b[cid] * \n .     P, a[cid] ~ dnorm(3, 0.5), b[cid] ~ dnorm(0, 0.2)), data = dat, \n .     chains = 4, log_lik = TRUE)",
      "2. new(\"ulam\", call = match.call(), model = model_code, stanfit = stanfit, \n .     coef = coef, vcov = varcov, data = data, start = list(start), \n .     pars = use_pars, formula = flist.orig, formula_parsed = formula_parsed)",
      "3. initialize(value, ...)",
      "4. initialize(value, ...)",
      "5. validObject(.Object)",
      "6. stop(msg, \": \", errors, domain = NA)"
     ]
    }
   ],
   "source": [
    "# interaction model\n",
    "m11.10 <- ulam(\n",
    "    alist(\n",
    "        T ~ dpois( lambda ),\n",
    "        log(lambda) <- a[cid] + b[cid]*P,\n",
    "        a[cid] ~ dnorm( 3 , 0.5 ),\n",
    "        b[cid] ~ dnorm( 0 , 0.2 )\n",
    "    ), data=dat , chains=4 , log_lik=TRUE )\n"
   ]
  },
  {
   "cell_type": "code",
   "execution_count": null,
   "metadata": {},
   "outputs": [],
   "source": []
  },
  {
   "cell_type": "code",
   "execution_count": 43,
   "metadata": {
    "scrolled": false
   },
   "outputs": [
    {
     "name": "stderr",
     "output_type": "stream",
     "text": [
      "Warning message:\n",
      "\"Some Pareto k diagnostic values are slightly high. See help('pareto-k-diagnostic') for details.\n",
      "\"Warning message:\n",
      "\"Some Pareto k diagnostic values are too high. See help('pareto-k-diagnostic') for details.\n",
      "\""
     ]
    },
    {
     "data": {
      "text/html": [
       "<table>\n",
       "<thead><tr><th></th><th scope=col>LOO</th><th scope=col>pLOO</th><th scope=col>dLOO</th><th scope=col>weight</th><th scope=col>SE</th><th scope=col>dSE</th></tr></thead>\n",
       "<tbody>\n",
       "\t<tr><th scope=row>m11.10</th><td> 84.80135   </td><td>6.729518    </td><td> 0.00000    </td><td>1.000000e+00</td><td>13.19998    </td><td>      NA    </td></tr>\n",
       "\t<tr><th scope=row>m11.9</th><td>141.03039   </td><td>7.924182    </td><td>56.22904    </td><td>6.166209e-13</td><td>33.47096    </td><td>33.13865    </td></tr>\n",
       "</tbody>\n",
       "</table>\n"
      ],
      "text/latex": [
       "\\begin{tabular}{r|llllll}\n",
       "  & LOO & pLOO & dLOO & weight & SE & dSE\\\\\n",
       "\\hline\n",
       "\tm11.10 &  84.80135    & 6.729518     &  0.00000     & 1.000000e+00 & 13.19998     &       NA    \\\\\n",
       "\tm11.9 & 141.03039    & 7.924182     & 56.22904     & 6.166209e-13 & 33.47096     & 33.13865    \\\\\n",
       "\\end{tabular}\n"
      ],
      "text/markdown": [
       "\n",
       "| <!--/--> | LOO | pLOO | dLOO | weight | SE | dSE |\n",
       "|---|---|---|---|---|---|---|\n",
       "| m11.10 |  84.80135    | 6.729518     |  0.00000     | 1.000000e+00 | 13.19998     |       NA     |\n",
       "| m11.9 | 141.03039    | 7.924182     | 56.22904     | 6.166209e-13 | 33.47096     | 33.13865     |\n",
       "\n"
      ],
      "text/plain": [
       "       LOO       pLOO     dLOO     weight       SE       dSE     \n",
       "m11.10  84.80135 6.729518  0.00000 1.000000e+00 13.19998       NA\n",
       "m11.9  141.03039 7.924182 56.22904 6.166209e-13 33.47096 33.13865"
      ]
     },
     "metadata": {},
     "output_type": "display_data"
    }
   ],
   "source": [
    "compare( m11.9 , m11.10 , func=LOO )"
   ]
  },
  {
   "cell_type": "code",
   "execution_count": 44,
   "metadata": {},
   "outputs": [
    {
     "name": "stderr",
     "output_type": "stream",
     "text": [
      "Warning message:\n",
      "\"Some Pareto k diagnostic values are too high. See help('pareto-k-diagnostic') for details.\n",
      "\""
     ]
    },
    {
     "data": {
      "image/png": "[encoded data removed]",
      "text/plain": [
       "plot without title"
      ]
     },
     "metadata": {},
     "output_type": "display_data"
    }
   ],
   "source": [
    "## R code 11.50\n",
    "k <- LOOPk(m11.10)\n",
    "plot( dat$P , dat$T , xlab=\"log population (std)\" , ylab=\"total tools\" ,\n",
    "    col=rangi2 , pch=ifelse( dat$cid==1 , 1 , 16 ) , lwd=2 ,\n",
    "    ylim=c(0,75) , cex=1+normalize(k) )\n",
    "\n",
    "# set up the horizontal axis values to compute predictions at\n",
    "ns <- 100\n",
    "P_seq <- seq( from=-1.4 , to=3 , length.out=ns )\n",
    "\n",
    "# predictions for cid=1 (low contact)\n",
    "lambda <- link( m11.10 , data=data.frame( P=P_seq , cid=1 ) )\n",
    "lmu <- apply( lambda , 2 , mean )\n",
    "lci <- apply( lambda , 2 , PI )\n",
    "lines( P_seq , lmu , lty=2 , lwd=1.5 )\n",
    "shade( lci , P_seq , xpd=TRUE )\n",
    "\n",
    "# predictions for cid=2 (high contact)\n",
    "lambda <- link( m11.10 , data=data.frame( P=P_seq , cid=2 ) )\n",
    "lmu <- apply( lambda , 2 , mean )\n",
    "lci <- apply( lambda , 2 , PI )\n",
    "lines( P_seq , lmu , lty=1 , lwd=1.5 )\n",
    "shade( lci , P_seq , xpd=TRUE )\n"
   ]
  },
  {
   "cell_type": "code",
   "execution_count": 45,
   "metadata": {},
   "outputs": [
    {
     "data": {
      "image/png": "[encoded data removed]",
      "text/plain": [
       "plot without title"
      ]
     },
     "metadata": {},
     "output_type": "display_data"
    }
   ],
   "source": [
    "## R code 11.51\n",
    "plot( d$population , d$total_tools , xlab=\"population\" , ylab=\"total tools\" ,\n",
    "    col=rangi2 , pch=ifelse( dat$cid==1 , 1 , 16 ) , lwd=2 ,\n",
    "    ylim=c(0,75) , cex=1+normalize(k) )\n",
    "\n",
    "ns <- 100\n",
    "P_seq <- seq( from=-5 , to=3 , length.out=ns )\n",
    "# 1.53 is sd of log(population)\n",
    "# 9 is mean of log(population)\n",
    "pop_seq <- exp( P_seq*1.53 + 9 )\n",
    "\n",
    "lambda <- link( m11.10 , data=data.frame( P=P_seq , cid=1 ) )\n",
    "lmu <- apply( lambda , 2 , mean )\n",
    "lci <- apply( lambda , 2 , PI )\n",
    "lines( pop_seq , lmu , lty=2 , lwd=1.5 )\n",
    "shade( lci , pop_seq , xpd=TRUE )\n",
    "\n",
    "lambda <- link( m11.10 , data=data.frame( P=P_seq , cid=2 ) )\n",
    "lmu <- apply( lambda , 2 , mean )\n",
    "lci <- apply( lambda , 2 , PI )\n",
    "lines( pop_seq , lmu , lty=1 , lwd=1.5 )\n",
    "shade( lci , pop_seq , xpd=TRUE )\n"
   ]
  },
  {
   "cell_type": "code",
   "execution_count": 46,
   "metadata": {},
   "outputs": [
    {
     "name": "stdout",
     "output_type": "stream",
     "text": [
      "\n",
      "SAMPLING FOR MODEL '1d9bfc94a8db83d885271311e6e47d39' NOW (CHAIN 1).\n",
      "Chain 1: \n",
      "Chain 1: Gradient evaluation took 0 seconds\n",
      "Chain 1: 1000 transitions using 10 leapfrog steps per transition would take 0 seconds.\n",
      "Chain 1: Adjust your expectations accordingly!\n",
      "Chain 1: \n",
      "Chain 1: \n",
      "Chain 1: Iteration:   1 / 1000 [  0%]  (Warmup)\n",
      "Chain 1: Iteration: 100 / 1000 [ 10%]  (Warmup)\n",
      "Chain 1: Iteration: 200 / 1000 [ 20%]  (Warmup)\n",
      "Chain 1: Iteration: 300 / 1000 [ 30%]  (Warmup)\n",
      "Chain 1: Iteration: 400 / 1000 [ 40%]  (Warmup)\n",
      "Chain 1: Iteration: 500 / 1000 [ 50%]  (Warmup)\n",
      "Chain 1: Iteration: 501 / 1000 [ 50%]  (Sampling)\n",
      "Chain 1: Iteration: 600 / 1000 [ 60%]  (Sampling)\n",
      "Chain 1: Iteration: 700 / 1000 [ 70%]  (Sampling)\n",
      "Chain 1: Iteration: 800 / 1000 [ 80%]  (Sampling)\n",
      "Chain 1: Iteration: 900 / 1000 [ 90%]  (Sampling)\n",
      "Chain 1: Iteration: 1000 / 1000 [100%]  (Sampling)\n",
      "Chain 1: \n",
      "Chain 1:  Elapsed Time: 0.848 seconds (Warm-up)\n",
      "Chain 1:                0.664 seconds (Sampling)\n",
      "Chain 1:                1.512 seconds (Total)\n",
      "Chain 1: \n",
      "\n",
      "SAMPLING FOR MODEL '1d9bfc94a8db83d885271311e6e47d39' NOW (CHAIN 2).\n",
      "Chain 2: \n",
      "Chain 2: Gradient evaluation took 0 seconds\n",
      "Chain 2: 1000 transitions using 10 leapfrog steps per transition would take 0 seconds.\n",
      "Chain 2: Adjust your expectations accordingly!\n",
      "Chain 2: \n",
      "Chain 2: \n",
      "Chain 2: Iteration:   1 / 1000 [  0%]  (Warmup)\n",
      "Chain 2: Iteration: 100 / 1000 [ 10%]  (Warmup)\n",
      "Chain 2: Iteration: 200 / 1000 [ 20%]  (Warmup)\n",
      "Chain 2: Iteration: 300 / 1000 [ 30%]  (Warmup)\n",
      "Chain 2: Iteration: 400 / 1000 [ 40%]  (Warmup)\n",
      "Chain 2: Iteration: 500 / 1000 [ 50%]  (Warmup)\n",
      "Chain 2: Iteration: 501 / 1000 [ 50%]  (Sampling)\n",
      "Chain 2: Iteration: 600 / 1000 [ 60%]  (Sampling)\n",
      "Chain 2: Iteration: 700 / 1000 [ 70%]  (Sampling)\n",
      "Chain 2: Iteration: 800 / 1000 [ 80%]  (Sampling)\n",
      "Chain 2: Iteration: 900 / 1000 [ 90%]  (Sampling)\n",
      "Chain 2: Iteration: 1000 / 1000 [100%]  (Sampling)\n",
      "Chain 2: \n",
      "Chain 2:  Elapsed Time: 0.975 seconds (Warm-up)\n",
      "Chain 2:                0.708 seconds (Sampling)\n",
      "Chain 2:                1.683 seconds (Total)\n",
      "Chain 2: \n",
      "\n",
      "SAMPLING FOR MODEL '1d9bfc94a8db83d885271311e6e47d39' NOW (CHAIN 3).\n",
      "Chain 3: \n",
      "Chain 3: Gradient evaluation took 0 seconds\n",
      "Chain 3: 1000 transitions using 10 leapfrog steps per transition would take 0 seconds.\n",
      "Chain 3: Adjust your expectations accordingly!\n",
      "Chain 3: \n",
      "Chain 3: \n",
      "Chain 3: Iteration:   1 / 1000 [  0%]  (Warmup)\n",
      "Chain 3: Iteration: 100 / 1000 [ 10%]  (Warmup)\n",
      "Chain 3: Iteration: 200 / 1000 [ 20%]  (Warmup)\n",
      "Chain 3: Iteration: 300 / 1000 [ 30%]  (Warmup)\n",
      "Chain 3: Iteration: 400 / 1000 [ 40%]  (Warmup)\n",
      "Chain 3: Iteration: 500 / 1000 [ 50%]  (Warmup)\n",
      "Chain 3: Iteration: 501 / 1000 [ 50%]  (Sampling)\n",
      "Chain 3: Iteration: 600 / 1000 [ 60%]  (Sampling)\n",
      "Chain 3: Iteration: 700 / 1000 [ 70%]  (Sampling)\n",
      "Chain 3: Iteration: 800 / 1000 [ 80%]  (Sampling)\n",
      "Chain 3: Iteration: 900 / 1000 [ 90%]  (Sampling)\n",
      "Chain 3: Iteration: 1000 / 1000 [100%]  (Sampling)\n",
      "Chain 3: \n",
      "Chain 3:  Elapsed Time: 0.948 seconds (Warm-up)\n",
      "Chain 3:                0.578 seconds (Sampling)\n",
      "Chain 3:                1.526 seconds (Total)\n",
      "Chain 3: \n",
      "\n",
      "SAMPLING FOR MODEL '1d9bfc94a8db83d885271311e6e47d39' NOW (CHAIN 4).\n",
      "Chain 4: \n",
      "Chain 4: Gradient evaluation took 0 seconds\n",
      "Chain 4: 1000 transitions using 10 leapfrog steps per transition would take 0 seconds.\n",
      "Chain 4: Adjust your expectations accordingly!\n",
      "Chain 4: \n",
      "Chain 4: \n",
      "Chain 4: Iteration:   1 / 1000 [  0%]  (Warmup)\n",
      "Chain 4: Iteration: 100 / 1000 [ 10%]  (Warmup)\n",
      "Chain 4: Iteration: 200 / 1000 [ 20%]  (Warmup)\n",
      "Chain 4: Iteration: 300 / 1000 [ 30%]  (Warmup)\n",
      "Chain 4: Iteration: 400 / 1000 [ 40%]  (Warmup)\n",
      "Chain 4: Iteration: 500 / 1000 [ 50%]  (Warmup)\n",
      "Chain 4: Iteration: 501 / 1000 [ 50%]  (Sampling)\n",
      "Chain 4: Iteration: 600 / 1000 [ 60%]  (Sampling)\n",
      "Chain 4: Iteration: 700 / 1000 [ 70%]  (Sampling)\n",
      "Chain 4: Iteration: 800 / 1000 [ 80%]  (Sampling)\n",
      "Chain 4: Iteration: 900 / 1000 [ 90%]  (Sampling)\n",
      "Chain 4: Iteration: 1000 / 1000 [100%]  (Sampling)\n",
      "Chain 4: \n",
      "Chain 4:  Elapsed Time: 0.802 seconds (Warm-up)\n",
      "Chain 4:                0.424 seconds (Sampling)\n",
      "Chain 4:                1.226 seconds (Total)\n",
      "Chain 4: \n"
     ]
    }
   ],
   "source": [
    "## R code 11.52\n",
    "dat2 <- list( T=d$total_tools, \n",
    "             P=d$population, \n",
    "             cid=d$contact_id %>% as.integer())\n",
    "m11.11 <- ulam(\n",
    "    alist(\n",
    "        T ~ dpois( lambda ),\n",
    "        lambda <- exp(a[cid])*P^b[cid]/g,\n",
    "        a[cid] ~ dnorm(1,1),\n",
    "        b[cid] ~ dexp(1),\n",
    "        g ~ dexp(1)\n",
    "    ), data=dat2 , chains=4 , log_lik=TRUE )\n"
   ]
  },
  {
   "cell_type": "code",
   "execution_count": 47,
   "metadata": {},
   "outputs": [
    {
     "data": {
      "text/html": [
       "<table>\n",
       "<thead><tr><th></th><th scope=col>mean</th><th scope=col>sd</th><th scope=col>5.5%</th><th scope=col>94.5%</th><th scope=col>n_eff</th><th scope=col>Rhat</th></tr></thead>\n",
       "<tbody>\n",
       "\t<tr><th scope=row>a[1]</th><td>0.86   </td><td>0.69   </td><td>-0.30  </td><td>1.90   </td><td> 520.21</td><td>1.00   </td></tr>\n",
       "\t<tr><th scope=row>a[2]</th><td>0.92   </td><td>0.82   </td><td>-0.37  </td><td>2.27   </td><td> 863.17</td><td>1.00   </td></tr>\n",
       "\t<tr><th scope=row>b[1]</th><td>0.26   </td><td>0.03   </td><td> 0.20  </td><td>0.31   </td><td>1127.20</td><td>1.00   </td></tr>\n",
       "\t<tr><th scope=row>b[2]</th><td>0.29   </td><td>0.10   </td><td> 0.11  </td><td>0.45   </td><td> 693.89</td><td>1.00   </td></tr>\n",
       "\t<tr><th scope=row>g</th><td>1.10   </td><td>0.76   </td><td> 0.28  </td><td>2.55   </td><td> 783.31</td><td>1.01   </td></tr>\n",
       "</tbody>\n",
       "</table>\n"
      ],
      "text/latex": [
       "\\begin{tabular}{r|llllll}\n",
       "  & mean & sd & 5.5\\% & 94.5\\% & n\\_eff & Rhat\\\\\n",
       "\\hline\n",
       "\ta{[}1{]} & 0.86    & 0.69    & -0.30   & 1.90    &  520.21 & 1.00   \\\\\n",
       "\ta{[}2{]} & 0.92    & 0.82    & -0.37   & 2.27    &  863.17 & 1.00   \\\\\n",
       "\tb{[}1{]} & 0.26    & 0.03    &  0.20   & 0.31    & 1127.20 & 1.00   \\\\\n",
       "\tb{[}2{]} & 0.29    & 0.10    &  0.11   & 0.45    &  693.89 & 1.00   \\\\\n",
       "\tg & 1.10    & 0.76    &  0.28   & 2.55    &  783.31 & 1.01   \\\\\n",
       "\\end{tabular}\n"
      ],
      "text/markdown": [
       "\n",
       "| <!--/--> | mean | sd | 5.5% | 94.5% | n_eff | Rhat |\n",
       "|---|---|---|---|---|---|---|\n",
       "| a[1] | 0.86    | 0.69    | -0.30   | 1.90    |  520.21 | 1.00    |\n",
       "| a[2] | 0.92    | 0.82    | -0.37   | 2.27    |  863.17 | 1.00    |\n",
       "| b[1] | 0.26    | 0.03    |  0.20   | 0.31    | 1127.20 | 1.00    |\n",
       "| b[2] | 0.29    | 0.10    |  0.11   | 0.45    |  693.89 | 1.00    |\n",
       "| g | 1.10    | 0.76    |  0.28   | 2.55    |  783.31 | 1.01    |\n",
       "\n"
      ],
      "text/plain": [
       "     mean sd   5.5%  94.5% n_eff   Rhat\n",
       "a[1] 0.86 0.69 -0.30 1.90   520.21 1.00\n",
       "a[2] 0.92 0.82 -0.37 2.27   863.17 1.00\n",
       "b[1] 0.26 0.03  0.20 0.31  1127.20 1.00\n",
       "b[2] 0.29 0.10  0.11 0.45   693.89 1.00\n",
       "g    1.10 0.76  0.28 2.55   783.31 1.01"
      ]
     },
     "metadata": {},
     "output_type": "display_data"
    }
   ],
   "source": [
    "m11.11 %>% precis(depth=2) %>% round(2)"
   ]
  },
  {
   "cell_type": "markdown",
   "metadata": {},
   "source": [
    "### Negative binomial (gamma-Poisson) models."
   ]
  },
  {
   "cell_type": "markdown",
   "metadata": {
    "heading_collapsed": true
   },
   "source": [
    "### Example: Exposure and the offset"
   ]
  },
  {
   "cell_type": "code",
   "execution_count": 2,
   "metadata": {
    "cell_style": "split",
    "hidden": true
   },
   "outputs": [
    {
     "data": {
      "image/png": "[encoded data removed]",
      "text/plain": [
       "Plot with title \"Histogram of .\""
      ]
     },
     "metadata": {},
     "output_type": "display_data"
    }
   ],
   "source": [
    "num_days <- 30\n",
    "y <- rpois( num_days , 1.5 )\n",
    "y %>% hist"
   ]
  },
  {
   "cell_type": "code",
   "execution_count": 3,
   "metadata": {
    "cell_style": "split",
    "hidden": true
   },
   "outputs": [
    {
     "data": {
      "image/png": "[encoded data removed]",
      "text/plain": [
       "Plot with title \"Histogram of .\""
      ]
     },
     "metadata": {},
     "output_type": "display_data"
    }
   ],
   "source": [
    "num_weeks <- 4 \n",
    "y_new <- rpois( num_weeks , 0.5*7 )\n",
    "y_new %>% hist"
   ]
  },
  {
   "cell_type": "code",
   "execution_count": 4,
   "metadata": {
    "hidden": true
   },
   "outputs": [
    {
     "name": "stdout",
     "output_type": "stream",
     "text": [
      " int [1:4] 4 3 0 2\n"
     ]
    }
   ],
   "source": [
    "y_new %>% str"
   ]
  },
  {
   "cell_type": "code",
   "execution_count": 5,
   "metadata": {
    "hidden": true
   },
   "outputs": [],
   "source": [
    "y_all <- c( y , y_new ) \n",
    "exposure <- c( rep(1,30) , rep(7,4) )\n",
    "monastery <- c( rep(0,30) , rep(1,4) )\n",
    "d <- data.frame( y=y_all , days=exposure , monastery=monastery )"
   ]
  },
  {
   "cell_type": "code",
   "execution_count": 6,
   "metadata": {
    "hidden": true
   },
   "outputs": [
    {
     "data": {
      "text/html": [
       "<ol class=list-inline>\n",
       "\t<li>4</li>\n",
       "\t<li>2</li>\n",
       "\t<li>3</li>\n",
       "\t<li>3</li>\n",
       "\t<li>0</li>\n",
       "\t<li>1</li>\n",
       "\t<li>2</li>\n",
       "\t<li>2</li>\n",
       "\t<li>2</li>\n",
       "\t<li>2</li>\n",
       "\t<li>1</li>\n",
       "\t<li>0</li>\n",
       "\t<li>0</li>\n",
       "\t<li>1</li>\n",
       "\t<li>2</li>\n",
       "\t<li>1</li>\n",
       "\t<li>3</li>\n",
       "\t<li>5</li>\n",
       "\t<li>0</li>\n",
       "\t<li>2</li>\n",
       "\t<li>1</li>\n",
       "\t<li>2</li>\n",
       "\t<li>0</li>\n",
       "\t<li>2</li>\n",
       "\t<li>1</li>\n",
       "\t<li>1</li>\n",
       "\t<li>2</li>\n",
       "\t<li>1</li>\n",
       "\t<li>0</li>\n",
       "\t<li>0</li>\n",
       "\t<li>4</li>\n",
       "\t<li>3</li>\n",
       "\t<li>0</li>\n",
       "\t<li>2</li>\n",
       "</ol>\n"
      ],
      "text/latex": [
       "\\begin{enumerate*}\n",
       "\\item 4\n",
       "\\item 2\n",
       "\\item 3\n",
       "\\item 3\n",
       "\\item 0\n",
       "\\item 1\n",
       "\\item 2\n",
       "\\item 2\n",
       "\\item 2\n",
       "\\item 2\n",
       "\\item 1\n",
       "\\item 0\n",
       "\\item 0\n",
       "\\item 1\n",
       "\\item 2\n",
       "\\item 1\n",
       "\\item 3\n",
       "\\item 5\n",
       "\\item 0\n",
       "\\item 2\n",
       "\\item 1\n",
       "\\item 2\n",
       "\\item 0\n",
       "\\item 2\n",
       "\\item 1\n",
       "\\item 1\n",
       "\\item 2\n",
       "\\item 1\n",
       "\\item 0\n",
       "\\item 0\n",
       "\\item 4\n",
       "\\item 3\n",
       "\\item 0\n",
       "\\item 2\n",
       "\\end{enumerate*}\n"
      ],
      "text/markdown": [
       "1. 4\n",
       "2. 2\n",
       "3. 3\n",
       "4. 3\n",
       "5. 0\n",
       "6. 1\n",
       "7. 2\n",
       "8. 2\n",
       "9. 2\n",
       "10. 2\n",
       "11. 1\n",
       "12. 0\n",
       "13. 0\n",
       "14. 1\n",
       "15. 2\n",
       "16. 1\n",
       "17. 3\n",
       "18. 5\n",
       "19. 0\n",
       "20. 2\n",
       "21. 1\n",
       "22. 2\n",
       "23. 0\n",
       "24. 2\n",
       "25. 1\n",
       "26. 1\n",
       "27. 2\n",
       "28. 1\n",
       "29. 0\n",
       "30. 0\n",
       "31. 4\n",
       "32. 3\n",
       "33. 0\n",
       "34. 2\n",
       "\n",
       "\n"
      ],
      "text/plain": [
       " [1] 4 2 3 3 0 1 2 2 2 2 1 0 0 1 2 1 3 5 0 2 1 2 0 2 1 1 2 1 0 0 4 3 0 2"
      ]
     },
     "metadata": {},
     "output_type": "display_data"
    },
    {
     "data": {
      "text/html": [
       "<table>\n",
       "<thead><tr><th scope=col>y</th><th scope=col>days</th><th scope=col>monastery</th></tr></thead>\n",
       "<tbody>\n",
       "\t<tr><td>4</td><td>1</td><td>0</td></tr>\n",
       "\t<tr><td>2</td><td>1</td><td>0</td></tr>\n",
       "\t<tr><td>3</td><td>1</td><td>0</td></tr>\n",
       "\t<tr><td>3</td><td>1</td><td>0</td></tr>\n",
       "\t<tr><td>0</td><td>1</td><td>0</td></tr>\n",
       "\t<tr><td>1</td><td>1</td><td>0</td></tr>\n",
       "</tbody>\n",
       "</table>\n"
      ],
      "text/latex": [
       "\\begin{tabular}{r|lll}\n",
       " y & days & monastery\\\\\n",
       "\\hline\n",
       "\t 4 & 1 & 0\\\\\n",
       "\t 2 & 1 & 0\\\\\n",
       "\t 3 & 1 & 0\\\\\n",
       "\t 3 & 1 & 0\\\\\n",
       "\t 0 & 1 & 0\\\\\n",
       "\t 1 & 1 & 0\\\\\n",
       "\\end{tabular}\n"
      ],
      "text/markdown": [
       "\n",
       "| y | days | monastery |\n",
       "|---|---|---|\n",
       "| 4 | 1 | 0 |\n",
       "| 2 | 1 | 0 |\n",
       "| 3 | 1 | 0 |\n",
       "| 3 | 1 | 0 |\n",
       "| 0 | 1 | 0 |\n",
       "| 1 | 1 | 0 |\n",
       "\n"
      ],
      "text/plain": [
       "  y days monastery\n",
       "1 4 1    0        \n",
       "2 2 1    0        \n",
       "3 3 1    0        \n",
       "4 3 1    0        \n",
       "5 0 1    0        \n",
       "6 1 1    0        "
      ]
     },
     "metadata": {},
     "output_type": "display_data"
    },
    {
     "data": {
      "text/html": [
       "<table>\n",
       "<thead><tr><th></th><th scope=col>y</th><th scope=col>days</th><th scope=col>monastery</th></tr></thead>\n",
       "<tbody>\n",
       "\t<tr><th scope=row>29</th><td>0</td><td>1</td><td>0</td></tr>\n",
       "\t<tr><th scope=row>30</th><td>0</td><td>1</td><td>0</td></tr>\n",
       "\t<tr><th scope=row>31</th><td>4</td><td>7</td><td>1</td></tr>\n",
       "\t<tr><th scope=row>32</th><td>3</td><td>7</td><td>1</td></tr>\n",
       "\t<tr><th scope=row>33</th><td>0</td><td>7</td><td>1</td></tr>\n",
       "\t<tr><th scope=row>34</th><td>2</td><td>7</td><td>1</td></tr>\n",
       "</tbody>\n",
       "</table>\n"
      ],
      "text/latex": [
       "\\begin{tabular}{r|lll}\n",
       "  & y & days & monastery\\\\\n",
       "\\hline\n",
       "\t29 & 0 & 1 & 0\\\\\n",
       "\t30 & 0 & 1 & 0\\\\\n",
       "\t31 & 4 & 7 & 1\\\\\n",
       "\t32 & 3 & 7 & 1\\\\\n",
       "\t33 & 0 & 7 & 1\\\\\n",
       "\t34 & 2 & 7 & 1\\\\\n",
       "\\end{tabular}\n"
      ],
      "text/markdown": [
       "\n",
       "| <!--/--> | y | days | monastery |\n",
       "|---|---|---|---|\n",
       "| 29 | 0 | 1 | 0 |\n",
       "| 30 | 0 | 1 | 0 |\n",
       "| 31 | 4 | 7 | 1 |\n",
       "| 32 | 3 | 7 | 1 |\n",
       "| 33 | 0 | 7 | 1 |\n",
       "| 34 | 2 | 7 | 1 |\n",
       "\n"
      ],
      "text/plain": [
       "   y days monastery\n",
       "29 0 1    0        \n",
       "30 0 1    0        \n",
       "31 4 7    1        \n",
       "32 3 7    1        \n",
       "33 0 7    1        \n",
       "34 2 7    1        "
      ]
     },
     "metadata": {},
     "output_type": "display_data"
    },
    {
     "data": {
      "text/html": [
       "<ol class=list-inline>\n",
       "\t<li>1</li>\n",
       "\t<li>1</li>\n",
       "\t<li>1</li>\n",
       "\t<li>1</li>\n",
       "\t<li>1</li>\n",
       "\t<li>1</li>\n",
       "\t<li>1</li>\n",
       "\t<li>1</li>\n",
       "\t<li>1</li>\n",
       "\t<li>1</li>\n",
       "\t<li>1</li>\n",
       "\t<li>1</li>\n",
       "\t<li>1</li>\n",
       "\t<li>1</li>\n",
       "\t<li>1</li>\n",
       "\t<li>1</li>\n",
       "\t<li>1</li>\n",
       "\t<li>1</li>\n",
       "\t<li>1</li>\n",
       "\t<li>1</li>\n",
       "\t<li>1</li>\n",
       "\t<li>1</li>\n",
       "\t<li>1</li>\n",
       "\t<li>1</li>\n",
       "\t<li>1</li>\n",
       "\t<li>1</li>\n",
       "\t<li>1</li>\n",
       "\t<li>1</li>\n",
       "\t<li>1</li>\n",
       "\t<li>1</li>\n",
       "\t<li>7</li>\n",
       "\t<li>7</li>\n",
       "\t<li>7</li>\n",
       "\t<li>7</li>\n",
       "</ol>\n"
      ],
      "text/latex": [
       "\\begin{enumerate*}\n",
       "\\item 1\n",
       "\\item 1\n",
       "\\item 1\n",
       "\\item 1\n",
       "\\item 1\n",
       "\\item 1\n",
       "\\item 1\n",
       "\\item 1\n",
       "\\item 1\n",
       "\\item 1\n",
       "\\item 1\n",
       "\\item 1\n",
       "\\item 1\n",
       "\\item 1\n",
       "\\item 1\n",
       "\\item 1\n",
       "\\item 1\n",
       "\\item 1\n",
       "\\item 1\n",
       "\\item 1\n",
       "\\item 1\n",
       "\\item 1\n",
       "\\item 1\n",
       "\\item 1\n",
       "\\item 1\n",
       "\\item 1\n",
       "\\item 1\n",
       "\\item 1\n",
       "\\item 1\n",
       "\\item 1\n",
       "\\item 7\n",
       "\\item 7\n",
       "\\item 7\n",
       "\\item 7\n",
       "\\end{enumerate*}\n"
      ],
      "text/markdown": [
       "1. 1\n",
       "2. 1\n",
       "3. 1\n",
       "4. 1\n",
       "5. 1\n",
       "6. 1\n",
       "7. 1\n",
       "8. 1\n",
       "9. 1\n",
       "10. 1\n",
       "11. 1\n",
       "12. 1\n",
       "13. 1\n",
       "14. 1\n",
       "15. 1\n",
       "16. 1\n",
       "17. 1\n",
       "18. 1\n",
       "19. 1\n",
       "20. 1\n",
       "21. 1\n",
       "22. 1\n",
       "23. 1\n",
       "24. 1\n",
       "25. 1\n",
       "26. 1\n",
       "27. 1\n",
       "28. 1\n",
       "29. 1\n",
       "30. 1\n",
       "31. 7\n",
       "32. 7\n",
       "33. 7\n",
       "34. 7\n",
       "\n",
       "\n"
      ],
      "text/plain": [
       " [1] 1 1 1 1 1 1 1 1 1 1 1 1 1 1 1 1 1 1 1 1 1 1 1 1 1 1 1 1 1 1 7 7 7 7"
      ]
     },
     "metadata": {},
     "output_type": "display_data"
    }
   ],
   "source": [
    "y_all\n",
    "d %>% head\n",
    "d %>% tail\n",
    "exposure"
   ]
  },
  {
   "cell_type": "code",
   "execution_count": 7,
   "metadata": {
    "hidden": true
   },
   "outputs": [],
   "source": [
    "## R code 11.56\n",
    "# compute the offset\n",
    "d$log_days <- log( d$days )\n",
    "\n",
    "# fit the model\n",
    "m11.12 <- quap(\n",
    "    alist(\n",
    "        y ~ dpois( lambda ),\n",
    "        log(lambda) <- log_days + a + b*monastery,\n",
    "        a ~ dnorm( 0 , 1 ),\n",
    "        b ~ dnorm( 0 , 1 )\n",
    "    ), data=d )"
   ]
  },
  {
   "cell_type": "code",
   "execution_count": 11,
   "metadata": {
    "hidden": true
   },
   "outputs": [
    {
     "data": {
      "text/html": [
       "<table>\n",
       "<thead><tr><th></th><th scope=col>mean</th><th scope=col>sd</th><th scope=col>5.5%</th><th scope=col>94.5%</th><th scope=col>histogram</th></tr></thead>\n",
       "<tbody>\n",
       "\t<tr><th scope=row>lambda_old</th><td>1.4888687                                                                                                                                                                                           </td><td>0.2186996                                                                                                                                                                                           </td><td>1.1694090                                                                                                                                                                                           </td><td>1.8597472                                                                                                                                                                                           </td><td><span style=white-space:pre-wrap>&lt;U+2581&gt;&lt;U+2581&gt;&lt;U+2582&gt;&lt;U+2587&gt;&lt;U+2587&gt;&lt;U+2583&gt;&lt;U+2581&gt;&lt;U+2581&gt;&lt;U+2581&gt;&lt;U+2581&gt;                </span></td></tr>\n",
       "\t<tr><th scope=row>lambda_new</th><td>0.3885192                                                                                                                                                               </td><td>0.1175778                                                                                                                                                               </td><td>0.2323718                                                                                                                                                               </td><td>0.5962298                                                                                                                                                               </td><td>&lt;U+2581&gt;&lt;U+2583&gt;&lt;U+2587&gt;&lt;U+2585&gt;&lt;U+2582&gt;&lt;U+2581&gt;&lt;U+2581&gt;&lt;U+2581&gt;&lt;U+2581&gt;&lt;U+2581&gt;&lt;U+2581&gt;&lt;U+2581&gt;</td></tr>\n",
       "</tbody>\n",
       "</table>\n"
      ],
      "text/latex": [
       "\\begin{tabular}{r|lllll}\n",
       "  & mean & sd & 5.5\\% & 94.5\\% & histogram\\\\\n",
       "\\hline\n",
       "\tlambda\\_old & 1.4888687                                                                                        & 0.2186996                                                                                        & 1.1694090                                                                                        & 1.8597472                                                                                        & <U+2581><U+2581><U+2582><U+2587><U+2587><U+2583><U+2581><U+2581><U+2581><U+2581>                \\\\\n",
       "\tlambda\\_new & 0.3885192                                                                                        & 0.1175778                                                                                        & 0.2323718                                                                                        & 0.5962298                                                                                        & <U+2581><U+2583><U+2587><U+2585><U+2582><U+2581><U+2581><U+2581><U+2581><U+2581><U+2581><U+2581>\\\\\n",
       "\\end{tabular}\n"
      ],
      "text/markdown": [
       "\n",
       "| <!--/--> | mean | sd | 5.5% | 94.5% | histogram |\n",
       "|---|---|---|---|---|---|\n",
       "| lambda_old | 1.4888687                                                                                        | 0.2186996                                                                                        | 1.1694090                                                                                        | 1.8597472                                                                                        | <U+2581><U+2581><U+2582><U+2587><U+2587><U+2583><U+2581><U+2581><U+2581><U+2581>                 |\n",
       "| lambda_new | 0.3885192                                                                                        | 0.1175778                                                                                        | 0.2323718                                                                                        | 0.5962298                                                                                        | <U+2581><U+2583><U+2587><U+2585><U+2582><U+2581><U+2581><U+2581><U+2581><U+2581><U+2581><U+2581> |\n",
       "\n"
      ],
      "text/plain": [
       "           mean      sd        5.5%      94.5%    \n",
       "lambda_old 1.4888687 0.2186996 1.1694090 1.8597472\n",
       "lambda_new 0.3885192 0.1175778 0.2323718 0.5962298\n",
       "           histogram                                                                                       \n",
       "lambda_old <U+2581><U+2581><U+2582><U+2587><U+2587><U+2583><U+2581><U+2581><U+2581><U+2581>                \n",
       "lambda_new <U+2581><U+2583><U+2587><U+2585><U+2582><U+2581><U+2581><U+2581><U+2581><U+2581><U+2581><U+2581>"
      ]
     },
     "metadata": {},
     "output_type": "display_data"
    }
   ],
   "source": [
    "post <- extract.samples( m11.12 ) \n",
    "lambda_old <- exp( post$a )\n",
    "lambda_new <- exp( post$a + post$b )\n",
    "precis( data.frame( lambda_old , lambda_new ) )"
   ]
  },
  {
   "cell_type": "code",
   "execution_count": 12,
   "metadata": {
    "hidden": true
   },
   "outputs": [
    {
     "name": "stdout",
     "output_type": "stream",
     "text": [
      "'data.frame':\t10000 obs. of  2 variables:\n",
      " $ a: num  0.419 0.0844 0.5331 0.3088 0.4869 ...\n",
      " $ b: num  -1.29 -1.22 -1.13 -1.32 -1.33 ...\n",
      " - attr(*, \"source\")= chr \"quap posterior: 10000 samples from m11.12\"\n"
     ]
    }
   ],
   "source": [
    "post %>% str"
   ]
  },
  {
   "cell_type": "code",
   "execution_count": 15,
   "metadata": {
    "hidden": true
   },
   "outputs": [
    {
     "data": {
      "text/html": [
       "<table>\n",
       "<thead><tr><th></th><th scope=col>a</th><th scope=col>b</th></tr></thead>\n",
       "<tbody>\n",
       "\t<tr><th scope=row>9995</th><td>0.5332026</td><td>-1.708810</td></tr>\n",
       "\t<tr><th scope=row>9996</th><td>0.2707839</td><td>-1.541463</td></tr>\n",
       "\t<tr><th scope=row>9997</th><td>0.3465526</td><td>-1.909749</td></tr>\n",
       "\t<tr><th scope=row>9998</th><td>0.6354311</td><td>-1.749785</td></tr>\n",
       "\t<tr><th scope=row>9999</th><td>0.3272311</td><td>-1.128755</td></tr>\n",
       "\t<tr><th scope=row>10000</th><td>0.3202335</td><td>-1.194769</td></tr>\n",
       "</tbody>\n",
       "</table>\n"
      ],
      "text/latex": [
       "\\begin{tabular}{r|ll}\n",
       "  & a & b\\\\\n",
       "\\hline\n",
       "\t9995 & 0.5332026 & -1.708810\\\\\n",
       "\t9996 & 0.2707839 & -1.541463\\\\\n",
       "\t9997 & 0.3465526 & -1.909749\\\\\n",
       "\t9998 & 0.6354311 & -1.749785\\\\\n",
       "\t9999 & 0.3272311 & -1.128755\\\\\n",
       "\t10000 & 0.3202335 & -1.194769\\\\\n",
       "\\end{tabular}\n"
      ],
      "text/markdown": [
       "\n",
       "| <!--/--> | a | b |\n",
       "|---|---|---|\n",
       "| 9995 | 0.5332026 | -1.708810 |\n",
       "| 9996 | 0.2707839 | -1.541463 |\n",
       "| 9997 | 0.3465526 | -1.909749 |\n",
       "| 9998 | 0.6354311 | -1.749785 |\n",
       "| 9999 | 0.3272311 | -1.128755 |\n",
       "| 10000 | 0.3202335 | -1.194769 |\n",
       "\n"
      ],
      "text/plain": [
       "      a         b        \n",
       "9995  0.5332026 -1.708810\n",
       "9996  0.2707839 -1.541463\n",
       "9997  0.3465526 -1.909749\n",
       "9998  0.6354311 -1.749785\n",
       "9999  0.3272311 -1.128755\n",
       "10000 0.3202335 -1.194769"
      ]
     },
     "metadata": {},
     "output_type": "display_data"
    }
   ],
   "source": [
    "post %>% tail"
   ]
  },
  {
   "cell_type": "code",
   "execution_count": 12,
   "metadata": {
    "hidden": true
   },
   "outputs": [
    {
     "data": {
      "text/html": [
       "<table>\n",
       "<thead><tr><th></th><th scope=col>a</th><th scope=col>b</th></tr></thead>\n",
       "<tbody>\n",
       "\t<tr><th scope=row>9995</th><td>0.4765548</td><td>-1.457512</td></tr>\n",
       "\t<tr><th scope=row>9996</th><td>0.5385096</td><td>-1.426344</td></tr>\n",
       "\t<tr><th scope=row>9997</th><td>0.3174760</td><td>-1.612152</td></tr>\n",
       "\t<tr><th scope=row>9998</th><td>0.7799767</td><td>-1.745005</td></tr>\n",
       "\t<tr><th scope=row>9999</th><td>0.1362109</td><td>-1.216304</td></tr>\n",
       "\t<tr><th scope=row>10000</th><td>0.3027866</td><td>-1.357407</td></tr>\n",
       "</tbody>\n",
       "</table>\n"
      ],
      "text/latex": [
       "\\begin{tabular}{r|ll}\n",
       "  & a & b\\\\\n",
       "\\hline\n",
       "\t9995 & 0.4765548 & -1.457512\\\\\n",
       "\t9996 & 0.5385096 & -1.426344\\\\\n",
       "\t9997 & 0.3174760 & -1.612152\\\\\n",
       "\t9998 & 0.7799767 & -1.745005\\\\\n",
       "\t9999 & 0.1362109 & -1.216304\\\\\n",
       "\t10000 & 0.3027866 & -1.357407\\\\\n",
       "\\end{tabular}\n"
      ],
      "text/markdown": [
       "\n",
       "| <!--/--> | a | b | \n",
       "|---|---|---|---|---|---|\n",
       "| 9995 | 0.4765548 | -1.457512 | \n",
       "| 9996 | 0.5385096 | -1.426344 | \n",
       "| 9997 | 0.3174760 | -1.612152 | \n",
       "| 9998 | 0.7799767 | -1.745005 | \n",
       "| 9999 | 0.1362109 | -1.216304 | \n",
       "| 10000 | 0.3027866 | -1.357407 | \n",
       "\n",
       "\n"
      ],
      "text/plain": [
       "      a         b        \n",
       "9995  0.4765548 -1.457512\n",
       "9996  0.5385096 -1.426344\n",
       "9997  0.3174760 -1.612152\n",
       "9998  0.7799767 -1.745005\n",
       "9999  0.1362109 -1.216304\n",
       "10000 0.3027866 -1.357407"
      ]
     },
     "metadata": {},
     "output_type": "display_data"
    },
    {
     "data": {
      "text/html": [
       "<ol class=list-inline>\n",
       "\t<li>10000</li>\n",
       "\t<li>2</li>\n",
       "</ol>\n"
      ],
      "text/latex": [
       "\\begin{enumerate*}\n",
       "\\item 10000\n",
       "\\item 2\n",
       "\\end{enumerate*}\n"
      ],
      "text/markdown": [
       "1. 10000\n",
       "2. 2\n",
       "\n",
       "\n"
      ],
      "text/plain": [
       "[1] 10000     2"
      ]
     },
     "metadata": {},
     "output_type": "display_data"
    }
   ],
   "source": [
    "post %>% tail\n",
    "post %>% dim\n"
   ]
  },
  {
   "cell_type": "markdown",
   "metadata": {
    "hidden": true
   },
   "source": [
    "`post` represents 10000 samples of regression lines (possible models), with the mean the most likely values"
   ]
  },
  {
   "cell_type": "markdown",
   "metadata": {
    "heading_collapsed": true
   },
   "source": [
    "### Multinomial in disguise as Poisson"
   ]
  },
  {
   "cell_type": "code",
   "execution_count": 109,
   "metadata": {
    "hidden": true
   },
   "outputs": [],
   "source": [
    "data(UCBadmit)\n",
    "d <- UCBadmit"
   ]
  },
  {
   "cell_type": "code",
   "execution_count": 110,
   "metadata": {
    "hidden": true
   },
   "outputs": [],
   "source": [
    "## R code 11.59\n",
    "# binomial model of overall admission probability\n",
    "m_binom <- map(\n",
    "    alist(\n",
    "        admit ~ dbinom(applications,p),\n",
    "        logit(p) <- a,\n",
    "        a ~ dnorm(0,100)\n",
    "    ),\n",
    "    data=d )"
   ]
  },
  {
   "cell_type": "code",
   "execution_count": 111,
   "metadata": {
    "hidden": true
   },
   "outputs": [
    {
     "name": "stderr",
     "output_type": "stream",
     "text": [
      "Warning: Variable 'applicant.gender' contains dots '.'.\n",
      "Will attempt to remove dots internally.\n",
      "Computing WAIC\n"
     ]
    }
   ],
   "source": [
    "# Poisson model of overall admission rate and rejection rate\n",
    "d$rej <- d$reject # 'reject' is a reserved word\n",
    "m_pois <- map2stan(\n",
    "    alist(\n",
    "        admit ~ dpois(lambda1),\n",
    "        rej ~ dpois(lambda2),\n",
    "        log(lambda1) <- a1,\n",
    "        log(lambda2) <- a2,\n",
    "        c(a1,a2) ~ dnorm(0,100)\n",
    "    ),\n",
    "    data=d , chains=3 , cores=3 )"
   ]
  },
  {
   "cell_type": "code",
   "execution_count": 114,
   "metadata": {
    "hidden": true
   },
   "outputs": [
    {
     "data": {
      "text/html": [
       "<table>\n",
       "<thead><tr><th></th><th scope=col>mean</th><th scope=col>sd</th><th scope=col>5.5%</th><th scope=col>94.5%</th></tr></thead>\n",
       "<tbody>\n",
       "\t<tr><th scope=row>a</th><td>-0.4567394</td><td>0.03050707</td><td>-0.5054956</td><td>-0.4079832</td></tr>\n",
       "</tbody>\n",
       "</table>\n"
      ],
      "text/latex": [
       "\\begin{tabular}{r|llll}\n",
       "  & mean & sd & 5.5\\% & 94.5\\%\\\\\n",
       "\\hline\n",
       "\ta & -0.4567394 & 0.03050707 & -0.5054956 & -0.4079832\\\\\n",
       "\\end{tabular}\n"
      ],
      "text/markdown": [
       "\n",
       "| <!--/--> | mean | sd | 5.5% | 94.5% | \n",
       "|---|\n",
       "| a | -0.4567394 | 0.03050707 | -0.5054956 | -0.4079832 | \n",
       "\n",
       "\n"
      ],
      "text/plain": [
       "  mean       sd         5.5%       94.5%     \n",
       "a -0.4567394 0.03050707 -0.5054956 -0.4079832"
      ]
     },
     "metadata": {},
     "output_type": "display_data"
    }
   ],
   "source": [
    "m_binom %>% precis()"
   ]
  },
  {
   "cell_type": "code",
   "execution_count": 117,
   "metadata": {
    "hidden": true,
    "scrolled": true
   },
   "outputs": [
    {
     "data": {
      "text/html": [
       "<table>\n",
       "<thead><tr><th></th><th scope=col>mean</th><th scope=col>sd</th><th scope=col>5.5%</th><th scope=col>94.5%</th><th scope=col>n_eff</th><th scope=col>Rhat</th></tr></thead>\n",
       "<tbody>\n",
       "\t<tr><th scope=row>a1</th><td>4.985516  </td><td>0.02391855</td><td>4.947394  </td><td>5.023608  </td><td>2313.538  </td><td>1.000140  </td></tr>\n",
       "\t<tr><th scope=row>a2</th><td>5.441509  </td><td>0.01925418</td><td>5.410640  </td><td>5.471849  </td><td>2111.361  </td><td>1.001858  </td></tr>\n",
       "</tbody>\n",
       "</table>\n"
      ],
      "text/latex": [
       "\\begin{tabular}{r|llllll}\n",
       "  & mean & sd & 5.5\\% & 94.5\\% & n\\_eff & Rhat\\\\\n",
       "\\hline\n",
       "\ta1 & 4.985516   & 0.02391855 & 4.947394   & 5.023608   & 2313.538   & 1.000140  \\\\\n",
       "\ta2 & 5.441509   & 0.01925418 & 5.410640   & 5.471849   & 2111.361   & 1.001858  \\\\\n",
       "\\end{tabular}\n"
      ],
      "text/markdown": [
       "\n",
       "| <!--/--> | mean | sd | 5.5% | 94.5% | n_eff | Rhat | \n",
       "|---|---|\n",
       "| a1 | 4.985516   | 0.02391855 | 4.947394   | 5.023608   | 2313.538   | 1.000140   | \n",
       "| a2 | 5.441509   | 0.01925418 | 5.410640   | 5.471849   | 2111.361   | 1.001858   | \n",
       "\n",
       "\n"
      ],
      "text/plain": [
       "   mean     sd         5.5%     94.5%    n_eff    Rhat    \n",
       "a1 4.985516 0.02391855 4.947394 5.023608 2313.538 1.000140\n",
       "a2 5.441509 0.01925418 5.410640 5.471849 2111.361 1.001858"
      ]
     },
     "metadata": {},
     "output_type": "display_data"
    }
   ],
   "source": [
    "m_pois %>% precis()"
   ]
  },
  {
   "cell_type": "markdown",
   "metadata": {},
   "source": [
    "## Censoring and survival"
   ]
  },
  {
   "cell_type": "markdown",
   "metadata": {},
   "source": [
    "##### <font color = 'blue'>Exponential and Gamma distribution simulation</font>"
   ]
  },
  {
   "cell_type": "markdown",
   "metadata": {},
   "source": [
    "Generative models for exponential and gamma distributions. Like all maximum entropy distributions, the exponential and gamma distributions arise from a class of generative processes that preserve only some of the information about the underlying mechanics. You can simulate an exponential by imagining a machine with N parts. Each of these parts has an equal chance of breaking on any given day. If any part breaks, the whole machine stops working. What is the probability that the machine stops working after x days?"
   ]
  },
  {
   "cell_type": "code",
   "execution_count": 16,
   "metadata": {},
   "outputs": [],
   "source": [
    "## exponential distribution \n",
    "\n",
    "# N <- how many parts the machine has\n",
    "# min  <- machine breaks down when the 1st of N parts breaks down\n",
    "\n",
    "N <- 2\n",
    "\n",
    "x <- replicate( 1e5 , min(runif(N,1,100)) )"
   ]
  },
  {
   "cell_type": "code",
   "execution_count": 17,
   "metadata": {},
   "outputs": [],
   "source": [
    "## gamma distribution\n",
    "\n",
    "N <- 5 \n",
    "M <- 3\n",
    "a <- replicate( 1e5 , sort(runif(N,1,100))[M] )\n",
    "\n",
    "# sort(runif(N,1,100))[M] finds the Mth term ordered from smallest to largest"
   ]
  },
  {
   "cell_type": "markdown",
   "metadata": {},
   "source": [
    "The plot on the right above is for the gamma distribution, which arises when the machine breaks only after M of its parts have broken."
   ]
  },
  {
   "cell_type": "code",
   "execution_count": 18,
   "metadata": {
    "cell_style": "split",
    "scrolled": true
   },
   "outputs": [
    {
     "data": {
      "image/png": "[encoded data removed]",
      "text/plain": [
       "Plot with title \"\""
      ]
     },
     "metadata": {},
     "output_type": "display_data"
    }
   ],
   "source": [
    "x %>% dens"
   ]
  },
  {
   "cell_type": "code",
   "execution_count": 19,
   "metadata": {
    "cell_style": "split",
    "scrolled": true
   },
   "outputs": [
    {
     "data": {
      "image/png": "[encoded data removed]",
      "text/plain": [
       "Plot with title \"\""
      ]
     },
     "metadata": {},
     "output_type": "display_data"
    }
   ],
   "source": [
    "a %>% dens"
   ]
  },
  {
   "cell_type": "markdown",
   "metadata": {},
   "source": [
    "Naturally the exponential is a just a special case of the gamma, when M = 1. Note that this is yet another way to get an approximate Gaussian distribution. As the gamma’s mean increases, it looks more Gaussian."
   ]
  },
  {
   "cell_type": "markdown",
   "metadata": {},
   "source": [
    "### Simulated Cats"
   ]
  },
  {
   "cell_type": "markdown",
   "metadata": {},
   "source": [
    "missing section in book"
   ]
  },
  {
   "cell_type": "markdown",
   "metadata": {},
   "source": [
    "### Actual Cats"
   ]
  },
  {
   "cell_type": "markdown",
   "metadata": {
    "heading_collapsed": true
   },
   "source": [
    "##### <font color = 'lightgrey'>old example</font>"
   ]
  },
  {
   "cell_type": "code",
   "execution_count": 50,
   "metadata": {
    "hidden": true
   },
   "outputs": [],
   "source": [
    "## R code 11.64\n",
    "# library(rethinking)\n",
    "\n",
    "data(AustinCats)\n",
    "d <- AustinCats\n",
    "d$adopt <- ifelse( d$out_event==\"Adoption\" , 1 , 0 )\n",
    "d$black <- ifelse( d$color==\"Black\" , 1 , 0 )\n",
    "\n",
    "dat <- list(\n",
    "    days_to_event = as.integer( d$days_to_event ),\n",
    "    black = as.integer( d$black ) ,\n",
    "    adopted = as.integer( d$adopt )\n",
    ")"
   ]
  },
  {
   "cell_type": "code",
   "execution_count": 51,
   "metadata": {
    "collapsed": true,
    "hidden": true
   },
   "outputs": [
    {
     "name": "stdout",
     "output_type": "stream",
     "text": [
      "\n",
      "SAMPLING FOR MODEL '3e8cb09c71188970afcb8a71bed1b6b0' NOW (CHAIN 1).\n",
      "Chain 1: \n",
      "Chain 1: Gradient evaluation took 0.016 seconds\n",
      "Chain 1: 1000 transitions using 10 leapfrog steps per transition would take 160 seconds.\n",
      "Chain 1: Adjust your expectations accordingly!\n",
      "Chain 1: \n",
      "Chain 1: \n",
      "Chain 1: Iteration:   1 / 1000 [  0%]  (Warmup)\n",
      "Chain 1: Iteration: 100 / 1000 [ 10%]  (Warmup)\n",
      "Chain 1: Iteration: 200 / 1000 [ 20%]  (Warmup)\n",
      "Chain 1: Iteration: 300 / 1000 [ 30%]  (Warmup)\n",
      "Chain 1: Iteration: 400 / 1000 [ 40%]  (Warmup)\n",
      "Chain 1: Iteration: 500 / 1000 [ 50%]  (Warmup)\n",
      "Chain 1: Iteration: 501 / 1000 [ 50%]  (Sampling)\n",
      "Chain 1: Iteration: 600 / 1000 [ 60%]  (Sampling)\n",
      "Chain 1: Iteration: 700 / 1000 [ 70%]  (Sampling)\n",
      "Chain 1: Iteration: 800 / 1000 [ 80%]  (Sampling)\n",
      "Chain 1: Iteration: 900 / 1000 [ 90%]  (Sampling)\n",
      "Chain 1: Iteration: 1000 / 1000 [100%]  (Sampling)\n",
      "Chain 1: \n",
      "Chain 1:  Elapsed Time: 16.333 seconds (Warm-up)\n",
      "Chain 1:                15.604 seconds (Sampling)\n",
      "Chain 1:                31.937 seconds (Total)\n",
      "Chain 1: \n",
      "\n",
      "SAMPLING FOR MODEL '3e8cb09c71188970afcb8a71bed1b6b0' NOW (CHAIN 2).\n",
      "Chain 2: \n",
      "Chain 2: Gradient evaluation took 0.015 seconds\n",
      "Chain 2: 1000 transitions using 10 leapfrog steps per transition would take 150 seconds.\n",
      "Chain 2: Adjust your expectations accordingly!\n",
      "Chain 2: \n",
      "Chain 2: \n",
      "Chain 2: Iteration:   1 / 1000 [  0%]  (Warmup)\n",
      "Chain 2: Iteration: 100 / 1000 [ 10%]  (Warmup)\n",
      "Chain 2: Iteration: 200 / 1000 [ 20%]  (Warmup)\n",
      "Chain 2: Iteration: 300 / 1000 [ 30%]  (Warmup)\n",
      "Chain 2: Iteration: 400 / 1000 [ 40%]  (Warmup)\n",
      "Chain 2: Iteration: 500 / 1000 [ 50%]  (Warmup)\n",
      "Chain 2: Iteration: 501 / 1000 [ 50%]  (Sampling)\n",
      "Chain 2: Iteration: 600 / 1000 [ 60%]  (Sampling)\n",
      "Chain 2: Iteration: 700 / 1000 [ 70%]  (Sampling)\n",
      "Chain 2: Iteration: 800 / 1000 [ 80%]  (Sampling)\n",
      "Chain 2: Iteration: 900 / 1000 [ 90%]  (Sampling)\n",
      "Chain 2: Iteration: 1000 / 1000 [100%]  (Sampling)\n",
      "Chain 2: \n",
      "Chain 2:  Elapsed Time: 21.628 seconds (Warm-up)\n",
      "Chain 2:                15.21 seconds (Sampling)\n",
      "Chain 2:                36.838 seconds (Total)\n",
      "Chain 2: \n",
      "\n",
      "SAMPLING FOR MODEL '3e8cb09c71188970afcb8a71bed1b6b0' NOW (CHAIN 3).\n",
      "Chain 3: \n",
      "Chain 3: Gradient evaluation took 0.005 seconds\n",
      "Chain 3: 1000 transitions using 10 leapfrog steps per transition would take 50 seconds.\n",
      "Chain 3: Adjust your expectations accordingly!\n",
      "Chain 3: \n",
      "Chain 3: \n",
      "Chain 3: Iteration:   1 / 1000 [  0%]  (Warmup)\n",
      "Chain 3: Iteration: 100 / 1000 [ 10%]  (Warmup)\n",
      "Chain 3: Iteration: 200 / 1000 [ 20%]  (Warmup)\n",
      "Chain 3: Iteration: 300 / 1000 [ 30%]  (Warmup)\n",
      "Chain 3: Iteration: 400 / 1000 [ 40%]  (Warmup)\n",
      "Chain 3: Iteration: 500 / 1000 [ 50%]  (Warmup)\n",
      "Chain 3: Iteration: 501 / 1000 [ 50%]  (Sampling)\n",
      "Chain 3: Iteration: 600 / 1000 [ 60%]  (Sampling)\n",
      "Chain 3: Iteration: 700 / 1000 [ 70%]  (Sampling)\n",
      "Chain 3: Iteration: 800 / 1000 [ 80%]  (Sampling)\n",
      "Chain 3: Iteration: 900 / 1000 [ 90%]  (Sampling)\n",
      "Chain 3: Iteration: 1000 / 1000 [100%]  (Sampling)\n",
      "Chain 3: \n",
      "Chain 3:  Elapsed Time: 17.757 seconds (Warm-up)\n",
      "Chain 3:                13.969 seconds (Sampling)\n",
      "Chain 3:                31.726 seconds (Total)\n",
      "Chain 3: \n",
      "\n",
      "SAMPLING FOR MODEL '3e8cb09c71188970afcb8a71bed1b6b0' NOW (CHAIN 4).\n",
      "Chain 4: \n",
      "Chain 4: Gradient evaluation took 0.016 seconds\n",
      "Chain 4: 1000 transitions using 10 leapfrog steps per transition would take 160 seconds.\n",
      "Chain 4: Adjust your expectations accordingly!\n",
      "Chain 4: \n",
      "Chain 4: \n",
      "Chain 4: Iteration:   1 / 1000 [  0%]  (Warmup)\n",
      "Chain 4: Iteration: 100 / 1000 [ 10%]  (Warmup)\n",
      "Chain 4: Iteration: 200 / 1000 [ 20%]  (Warmup)\n",
      "Chain 4: Iteration: 300 / 1000 [ 30%]  (Warmup)\n",
      "Chain 4: Iteration: 400 / 1000 [ 40%]  (Warmup)\n",
      "Chain 4: Iteration: 500 / 1000 [ 50%]  (Warmup)\n",
      "Chain 4: Iteration: 501 / 1000 [ 50%]  (Sampling)\n",
      "Chain 4: Iteration: 600 / 1000 [ 60%]  (Sampling)\n",
      "Chain 4: Iteration: 700 / 1000 [ 70%]  (Sampling)\n",
      "Chain 4: Iteration: 800 / 1000 [ 80%]  (Sampling)\n",
      "Chain 4: Iteration: 900 / 1000 [ 90%]  (Sampling)\n",
      "Chain 4: Iteration: 1000 / 1000 [100%]  (Sampling)\n",
      "Chain 4: \n",
      "Chain 4:  Elapsed Time: 17.61 seconds (Warm-up)\n",
      "Chain 4:                19.191 seconds (Sampling)\n",
      "Chain 4:                36.801 seconds (Total)\n",
      "Chain 4: \n"
     ]
    }
   ],
   "source": [
    "m00 <- ulam(\n",
    "    alist(\n",
    "        days_to_event|adopted==1 ~ exponential( lambda ),\n",
    "        days_to_event|adopted==0 ~ custom(exponential_lccdf( !Y | lambda )),\n",
    "        log(lambda) <- a + b*black,\n",
    "        a ~ normal(0,1),\n",
    "        b ~ normal(0,1)\n",
    "    ), data=dat , chains=4 )"
   ]
  },
  {
   "cell_type": "code",
   "execution_count": 52,
   "metadata": {
    "hidden": true
   },
   "outputs": [
    {
     "data": {
      "text/html": [
       "<table>\n",
       "<thead><tr><th></th><th scope=col>mean</th><th scope=col>sd</th><th scope=col>5.5%</th><th scope=col>94.5%</th><th scope=col>n_eff</th><th scope=col>Rhat</th></tr></thead>\n",
       "<tbody>\n",
       "\t<tr><th scope=row>a</th><td>-3.880147  </td><td>0.009684934</td><td>-3.8960379 </td><td>-3.8639374 </td><td>1194.523   </td><td>1.001800   </td></tr>\n",
       "\t<tr><th scope=row>b</th><td>-0.174171  </td><td>0.028079933</td><td>-0.2185939 </td><td>-0.1302418 </td><td>1182.983   </td><td>1.000184   </td></tr>\n",
       "</tbody>\n",
       "</table>\n"
      ],
      "text/latex": [
       "\\begin{tabular}{r|llllll}\n",
       "  & mean & sd & 5.5\\% & 94.5\\% & n\\_eff & Rhat\\\\\n",
       "\\hline\n",
       "\ta & -3.880147   & 0.009684934 & -3.8960379  & -3.8639374  & 1194.523    & 1.001800   \\\\\n",
       "\tb & -0.174171   & 0.028079933 & -0.2185939  & -0.1302418  & 1182.983    & 1.000184   \\\\\n",
       "\\end{tabular}\n"
      ],
      "text/markdown": [
       "\n",
       "| <!--/--> | mean | sd | 5.5% | 94.5% | n_eff | Rhat | \n",
       "|---|---|\n",
       "| a | -3.880147   | 0.009684934 | -3.8960379  | -3.8639374  | 1194.523    | 1.001800    | \n",
       "| b | -0.174171   | 0.028079933 | -0.2185939  | -0.1302418  | 1182.983    | 1.000184    | \n",
       "\n",
       "\n"
      ],
      "text/plain": [
       "  mean      sd          5.5%       94.5%      n_eff    Rhat    \n",
       "a -3.880147 0.009684934 -3.8960379 -3.8639374 1194.523 1.001800\n",
       "b -0.174171 0.028079933 -0.2185939 -0.1302418 1182.983 1.000184"
      ]
     },
     "metadata": {},
     "output_type": "display_data"
    }
   ],
   "source": [
    "precis(m00)"
   ]
  },
  {
   "cell_type": "code",
   "execution_count": 53,
   "metadata": {
    "hidden": true
   },
   "outputs": [
    {
     "data": {
      "text/html": [
       "<table>\n",
       "<thead><tr><th></th><th scope=col>mean</th><th scope=col>sd</th><th scope=col>5.5%</th><th scope=col>94.5%</th><th scope=col>histogram</th></tr></thead>\n",
       "<tbody>\n",
       "\t<tr><th scope=row>a</th><td>-3.88014741                                                                                                                                                                                                                           </td><td>0.009684934                                                                                                                                                                                                                           </td><td>-3.89603791                                                                                                                                                                                                                           </td><td>-3.86393736                                                                                                                                                                                                                           </td><td><span style=white-space:pre-wrap>&lt;U+2581&gt;&lt;U+2581&gt;&lt;U+2581&gt;&lt;U+2582&gt;&lt;U+2583&gt;&lt;U+2585&gt;&lt;U+2587&gt;&lt;U+2587&gt;&lt;U+2585&gt;&lt;U+2582&gt;&lt;U+2582&gt;&lt;U+2581&gt;&lt;U+2581&gt;        </span></td></tr>\n",
       "\t<tr><th scope=row>b</th><td>-0.17417102                                                                                                                                                                                                         </td><td>0.028079933                                                                                                                                                                                                         </td><td>-0.21859389                                                                                                                                                                                                         </td><td>-0.13024184                                                                                                                                                                                                         </td><td><span style=white-space:pre-wrap>&lt;U+2581&gt;&lt;U+2581&gt;&lt;U+2581&gt;&lt;U+2583&gt;&lt;U+2587&gt;&lt;U+2587&gt;&lt;U+2585&gt;&lt;U+2582&gt;&lt;U+2581&gt;&lt;U+2581&gt;                                </span></td></tr>\n",
       "\t<tr><th scope=row>D</th><td> 0.02064875                                                                                                                                                                                         </td><td>0.000199986                                                                                                                                                                                         </td><td> 0.02032227                                                                                                                                                                                         </td><td> 0.02098521                                                                                                                                                                                         </td><td>&lt;U+2581&gt;&lt;U+2581&gt;&lt;U+2581&gt;&lt;U+2581&gt;&lt;U+2582&gt;&lt;U+2583&gt;&lt;U+2587&gt;&lt;U+2587&gt;&lt;U+2587&gt;&lt;U+2583&gt;&lt;U+2582&gt;&lt;U+2581&gt;&lt;U+2581&gt;&lt;U+2581&gt;</td></tr>\n",
       "</tbody>\n",
       "</table>\n"
      ],
      "text/latex": [
       "\\begin{tabular}{r|lllll}\n",
       "  & mean & sd & 5.5\\% & 94.5\\% & histogram\\\\\n",
       "\\hline\n",
       "\ta & -3.88014741                                                                                                      & 0.009684934                                                                                                      & -3.89603791                                                                                                      & -3.86393736                                                                                                      & <U+2581><U+2581><U+2581><U+2582><U+2583><U+2585><U+2587><U+2587><U+2585><U+2582><U+2582><U+2581><U+2581>        \\\\\n",
       "\tb & -0.17417102                                                                                                      & 0.028079933                                                                                                      & -0.21859389                                                                                                      & -0.13024184                                                                                                      & <U+2581><U+2581><U+2581><U+2583><U+2587><U+2587><U+2585><U+2582><U+2581><U+2581>                                \\\\\n",
       "\tD &  0.02064875                                                                                                      & 0.000199986                                                                                                      &  0.02032227                                                                                                      &  0.02098521                                                                                                      & <U+2581><U+2581><U+2581><U+2581><U+2582><U+2583><U+2587><U+2587><U+2587><U+2583><U+2582><U+2581><U+2581><U+2581>\\\\\n",
       "\\end{tabular}\n"
      ],
      "text/markdown": [
       "\n",
       "| <!--/--> | mean | sd | 5.5% | 94.5% | histogram | \n",
       "|---|---|---|\n",
       "| a | -3.88014741                                                                                                      | 0.009684934                                                                                                      | -3.89603791                                                                                                      | -3.86393736                                                                                                      | <U+2581><U+2581><U+2581><U+2582><U+2583><U+2585><U+2587><U+2587><U+2585><U+2582><U+2582><U+2581><U+2581>         | \n",
       "| b | -0.17417102                                                                                                      | 0.028079933                                                                                                      | -0.21859389                                                                                                      | -0.13024184                                                                                                      | <U+2581><U+2581><U+2581><U+2583><U+2587><U+2587><U+2585><U+2582><U+2581><U+2581>                                 | \n",
       "| D |  0.02064875                                                                                                      | 0.000199986                                                                                                      |  0.02032227                                                                                                      |  0.02098521                                                                                                      | <U+2581><U+2581><U+2581><U+2581><U+2582><U+2583><U+2587><U+2587><U+2587><U+2583><U+2582><U+2581><U+2581><U+2581> | \n",
       "\n",
       "\n"
      ],
      "text/plain": [
       "  mean        sd          5.5%        94.5%      \n",
       "a -3.88014741 0.009684934 -3.89603791 -3.86393736\n",
       "b -0.17417102 0.028079933 -0.21859389 -0.13024184\n",
       "D  0.02064875 0.000199986  0.02032227  0.02098521\n",
       "  histogram                                                                                                       \n",
       "a <U+2581><U+2581><U+2581><U+2582><U+2583><U+2585><U+2587><U+2587><U+2585><U+2582><U+2582><U+2581><U+2581>        \n",
       "b <U+2581><U+2581><U+2581><U+2583><U+2587><U+2587><U+2585><U+2582><U+2581><U+2581>                                \n",
       "D <U+2581><U+2581><U+2581><U+2581><U+2582><U+2583><U+2587><U+2587><U+2587><U+2583><U+2582><U+2581><U+2581><U+2581>"
      ]
     },
     "metadata": {},
     "output_type": "display_data"
    }
   ],
   "source": [
    "post <- extract.samples( m00 ) \n",
    "post$D <- exp(post$a)\n",
    "precis( post , 2 )"
   ]
  },
  {
   "cell_type": "markdown",
   "metadata": {},
   "source": [
    "##### <font color = 'green'>COMPLEMENTARY CUMULATIVE PROBABILITY DISTRIBUTION</font>"
   ]
  },
  {
   "cell_type": "markdown",
   "metadata": {},
   "source": [
    "<font color = 'purple'>Cat Adoption Example</font>"
   ]
  },
  {
   "cell_type": "markdown",
   "metadata": {},
   "source": [
    "<font color = 'purple'>Suppose for example we are interested in the rate at which cats are adopted from an animal shelter. The cat can only be adopted once, at least until it is given up for adoption again</font>.\n",
    "\n",
    "* How long it waits for adoption gives us information about the rate of adoptions. And a model can tell us how the rate varies by breed or color.\n",
    "\n",
    "**<font color = 'purple' style='background-color: lightyellow'>Models for dealing with these data are called survival models.</font>** <span style='background-color: lightgreen'>Survival models</span> are models for countable things, but the outcomes we want to predict are durations. Durations are continuous deviations from some point of reference. So they are all positive real values. Distances are similarly positive real values, and both kinds of measurements are displacements and can be modeled in very similar ways. \n",
    "\n",
    "* The simplest distribution for displacements is the <font color = 'green'>**exponential distribution**</font>, which is the maximum entropy distribution when all we know about the values is their average displacement. So if our goal is just to estimate the average rate of events, it’s the most conservative choice. \n",
    "\n",
    "\n",
    "* The <font color = 'green'>**gamma distribution**</font> is also commonly used. Gamma is maximum entropy for fixed mean value and fixed mean magnitude (logarithm). \n",
    "\n",
    "**There are lots of other options**, as well, all of which allow for the rate of events to vary with time. We’ll start with the exponential, to keep things easy.\n",
    "\n",
    "**<font color = 'purple' style='background-color: lightyellow'>The tricky bit with survival models is not the probability distribution we assign to the durations. Instead the tricky bit is dealing with censoring</font>**. \n",
    "\n",
    "* Censoring occurs when the event of interest does not occur in the window of observation. This can happen most simply because observation ends before the event occurred. \n",
    "\n",
    "\n",
    "* <font color = 'purple'>For example, there are cats still waiting in the animal shelter</font>. Many of them will eventually be adopted. Another way censoring occurs is when some other event happens that makes the event of interest impossible. For example, a cat could die of old age while waiting to be adopted.\n",
    "\n",
    "**<font color = 'purple' style='background-color: lightyellow'>We can’t just toss out the censored individuals</font>**. <font color = 'red'>If we ignore how long the cats have waited already, it will bias downwards our inference about the rate of adoptions</font>. \n",
    "\n",
    "* Imagine a cohort of 100 cats who start waiting for adoption at the same time. After a few weeks, half of them have been adopted. The cats who haven’t been adopted yet, but eventually will be adopted, clearly have longer waiting times than the cats who have already been adopted. So the average rate among those who are already adopted is biased upwards—it is confounded by conditioning on adoption.\n",
    "\n",
    "It isn’t hard to include censored observations, but it does **<font color = 'purple' style='background-color: lightyellow'>require a new type of model that we haven’t seen yet in this book</font>**. \n",
    "\n",
    "> <font color = 'green'>The key idea is that the same distribution assumption for the outcomes tells us both the probability of any observed duration that end in the event as well as the probability that we would wait the observed duration without seeing the event</font>. \n",
    "\n",
    "This is an admittedly odd kind of creature. It might help to start out with a generative model—a simulation—and try to build intuition for the statistical model. Then we’ll analyze an actual sample of cat adoptions."
   ]
  },
  {
   "cell_type": "markdown",
   "metadata": {},
   "source": [
    "<hr>"
   ]
  },
  {
   "cell_type": "markdown",
   "metadata": {},
   "source": [
    "#### Model Structure"
   ]
  },
  {
   "cell_type": "markdown",
   "metadata": {},
   "source": [
    "For observed adoptions, probability of observed waiting time is simply:"
   ]
  },
  {
   "cell_type": "markdown",
   "metadata": {},
   "source": [
    "$D_i \\sim Exponential(\\lambda_i)$\n",
    "\n",
    "$\\lambda$ = 1 event / time period\n",
    "\n",
    "$\\mu$ = time period before first event\n",
    "\n",
    "In rawer form:\n",
    "\n",
    "$p(D_i|λ_i) = λ_i exp(−λ_iD_i)$"
   ]
  },
  {
   "cell_type": "markdown",
   "metadata": {},
   "source": [
    "It’s the censored cats that are tricky.**<font color = 'purple' style='background-color: lightyellow'> If something else happened before a cat could be adopted, or it simply hasn’t been adopted yet, then we need the probability of not being adopted, conditional on the observation time so far</font>**. \n",
    "\n",
    "<font color = 'purple'>One way to motivate this is to imagine a cohort of 100 cats, all joining the shelter on the same day. </font>\n",
    "\n",
    "* If half have been adopted after 30 days, then the probability of waiting 30 days and still not being adopted is 0.5. \n",
    "\n",
    "\n",
    "* If after 60 days, only 25 remain, then the probability of waiting 60 days and not yet being adopted is 0.25. \n",
    "\n",
    "\n",
    "<font color = 'blue'>Any given rate of adoption implies a proportion of the cohort of 100 cats that will remain after any given number of days</font>.\n",
    "\n",
    "**<font color = 'purple' style='background-color: lightyellow'>The probability we care comes from the cumulative probability distribution</font>**. \n",
    "\n",
    "> <font color = 'green'>**A cumulative distribution gives the proportion of cats adopted before or at a certain number of days**</font>. \n",
    "\n",
    "So one-minus the cumulative distribution gives the probability a cat is not adopted by the same number of days. <font color = 'purple'>That is the probability that we need</font>. \n",
    "\n",
    "\n",
    "* This distribution—one-minus the cumulative probability distribution—is called the <font color = 'green'>**complementary cumulative probability distribution**</font>. \n",
    "\n",
    "In the case of the exponential distribution, the cumulative is:"
   ]
  },
  {
   "cell_type": "markdown",
   "metadata": {},
   "source": [
    "$Pr(D_i|\\lambda)=1-exp(-\\lambda_iD_i)$\n",
    "\n",
    "So the complement is just:\n",
    "\n",
    "$Pr(D_i|\\lambda)=exp(-\\lambda_iD_i)$"
   ]
  },
  {
   "cell_type": "markdown",
   "metadata": {},
   "source": [
    "So that’s what we need in our model, since it is the probability of waiting Di days without being adopted yet."
   ]
  },
  {
   "cell_type": "markdown",
   "metadata": {},
   "source": [
    "#### **<font color = 'purple' style='background-color: lightyellow'>MODEL:</font>**"
   ]
  },
  {
   "cell_type": "markdown",
   "metadata": {},
   "source": [
    "###### Code"
   ]
  },
  {
   "cell_type": "markdown",
   "metadata": {},
   "source": [
    "$Di|Ai = 1 ∼ Exponential(λ_i)$\n",
    "\n",
    "$Di|Ai = 0 ∼ Exponential-CCDF(λi)$\n",
    "\n",
    "$\\lambda_i = \\frac{1}{µ_i}$\n",
    "\n",
    "$logµ_i = αcid[i]$"
   ]
  },
  {
   "cell_type": "code",
   "execution_count": 157,
   "metadata": {
    "scrolled": true
   },
   "outputs": [
    {
     "name": "stdout",
     "output_type": "stream",
     "text": [
      " int [1:22356] 1 25 4 41 9 4 4 5 24 2 ...\n"
     ]
    }
   ],
   "source": [
    "str(d$days_to_event)"
   ]
  },
  {
   "cell_type": "code",
   "execution_count": 5,
   "metadata": {},
   "outputs": [
    {
     "data": {
      "text/html": [
       "<table>\n",
       "<thead><tr><th scope=col>id</th><th scope=col>days_to_event</th><th scope=col>date_out</th><th scope=col>out_event</th><th scope=col>date_in</th><th scope=col>in_event</th><th scope=col>breed</th><th scope=col>color</th><th scope=col>intake_age</th></tr></thead>\n",
       "<tbody>\n",
       "\t<tr><td>A730601               </td><td> 1                    </td><td>07/08/2016 09:00:00 AM</td><td>Transfer              </td><td>07/07/2016 12:11:00 PM</td><td>Stray                 </td><td>Domestic Shorthair Mix</td><td>Blue Tabby            </td><td> 7                    </td></tr>\n",
       "\t<tr><td>A679549               </td><td>25                    </td><td>06/16/2014 01:54:00 PM</td><td>Transfer              </td><td>05/22/2014 03:43:00 PM</td><td>Stray                 </td><td>Domestic Shorthair Mix</td><td>Black/White           </td><td> 1                    </td></tr>\n",
       "\t<tr><td>A683656               </td><td> 4                    </td><td>07/17/2014 04:57:00 PM</td><td>Adoption              </td><td>07/13/2014 01:20:00 PM</td><td>Stray                 </td><td>Snowshoe Mix          </td><td>Lynx Point            </td><td> 2                    </td></tr>\n",
       "\t<tr><td>A709749               </td><td>41                    </td><td>09/22/2015 12:49:00 PM</td><td>Transfer              </td><td>08/12/2015 06:29:00 PM</td><td>Stray                 </td><td>Domestic Shorthair Mix</td><td>Calico                </td><td>12                    </td></tr>\n",
       "\t<tr><td>A733551               </td><td> 9                    </td><td>09/01/2016 12:00:00 AM</td><td>Transfer              </td><td>08/23/2016 02:35:00 PM</td><td>Stray                 </td><td>Domestic Shorthair Mix</td><td>Brown Tabby/White     </td><td> 1                    </td></tr>\n",
       "\t<tr><td>A756485               </td><td> 4                    </td><td>08/24/2017 05:34:00 PM</td><td>Adoption              </td><td>08/20/2017 03:07:00 PM</td><td>Stray                 </td><td>Domestic Shorthair Mix</td><td>Blue Tabby            </td><td> 1                    </td></tr>\n",
       "</tbody>\n",
       "</table>\n"
      ],
      "text/latex": [
       "\\begin{tabular}{r|lllllllll}\n",
       " id & days\\_to\\_event & date\\_out & out\\_event & date\\_in & in\\_event & breed & color & intake\\_age\\\\\n",
       "\\hline\n",
       "\t A730601                &  1                     & 07/08/2016 09:00:00 AM & Transfer               & 07/07/2016 12:11:00 PM & Stray                  & Domestic Shorthair Mix & Blue Tabby             &  7                    \\\\\n",
       "\t A679549                & 25                     & 06/16/2014 01:54:00 PM & Transfer               & 05/22/2014 03:43:00 PM & Stray                  & Domestic Shorthair Mix & Black/White            &  1                    \\\\\n",
       "\t A683656                &  4                     & 07/17/2014 04:57:00 PM & Adoption               & 07/13/2014 01:20:00 PM & Stray                  & Snowshoe Mix           & Lynx Point             &  2                    \\\\\n",
       "\t A709749                & 41                     & 09/22/2015 12:49:00 PM & Transfer               & 08/12/2015 06:29:00 PM & Stray                  & Domestic Shorthair Mix & Calico                 & 12                    \\\\\n",
       "\t A733551                &  9                     & 09/01/2016 12:00:00 AM & Transfer               & 08/23/2016 02:35:00 PM & Stray                  & Domestic Shorthair Mix & Brown Tabby/White      &  1                    \\\\\n",
       "\t A756485                &  4                     & 08/24/2017 05:34:00 PM & Adoption               & 08/20/2017 03:07:00 PM & Stray                  & Domestic Shorthair Mix & Blue Tabby             &  1                    \\\\\n",
       "\\end{tabular}\n"
      ],
      "text/markdown": [
       "\n",
       "| id | days_to_event | date_out | out_event | date_in | in_event | breed | color | intake_age |\n",
       "|---|---|---|---|---|---|---|---|---|\n",
       "| A730601                |  1                     | 07/08/2016 09:00:00 AM | Transfer               | 07/07/2016 12:11:00 PM | Stray                  | Domestic Shorthair Mix | Blue Tabby             |  7                     |\n",
       "| A679549                | 25                     | 06/16/2014 01:54:00 PM | Transfer               | 05/22/2014 03:43:00 PM | Stray                  | Domestic Shorthair Mix | Black/White            |  1                     |\n",
       "| A683656                |  4                     | 07/17/2014 04:57:00 PM | Adoption               | 07/13/2014 01:20:00 PM | Stray                  | Snowshoe Mix           | Lynx Point             |  2                     |\n",
       "| A709749                | 41                     | 09/22/2015 12:49:00 PM | Transfer               | 08/12/2015 06:29:00 PM | Stray                  | Domestic Shorthair Mix | Calico                 | 12                     |\n",
       "| A733551                |  9                     | 09/01/2016 12:00:00 AM | Transfer               | 08/23/2016 02:35:00 PM | Stray                  | Domestic Shorthair Mix | Brown Tabby/White      |  1                     |\n",
       "| A756485                |  4                     | 08/24/2017 05:34:00 PM | Adoption               | 08/20/2017 03:07:00 PM | Stray                  | Domestic Shorthair Mix | Blue Tabby             |  1                     |\n",
       "\n"
      ],
      "text/plain": [
       "  id      days_to_event date_out               out_event date_in               \n",
       "1 A730601  1            07/08/2016 09:00:00 AM Transfer  07/07/2016 12:11:00 PM\n",
       "2 A679549 25            06/16/2014 01:54:00 PM Transfer  05/22/2014 03:43:00 PM\n",
       "3 A683656  4            07/17/2014 04:57:00 PM Adoption  07/13/2014 01:20:00 PM\n",
       "4 A709749 41            09/22/2015 12:49:00 PM Transfer  08/12/2015 06:29:00 PM\n",
       "5 A733551  9            09/01/2016 12:00:00 AM Transfer  08/23/2016 02:35:00 PM\n",
       "6 A756485  4            08/24/2017 05:34:00 PM Adoption  08/20/2017 03:07:00 PM\n",
       "  in_event breed                  color             intake_age\n",
       "1 Stray    Domestic Shorthair Mix Blue Tabby         7        \n",
       "2 Stray    Domestic Shorthair Mix Black/White        1        \n",
       "3 Stray    Snowshoe Mix           Lynx Point         2        \n",
       "4 Stray    Domestic Shorthair Mix Calico            12        \n",
       "5 Stray    Domestic Shorthair Mix Brown Tabby/White  1        \n",
       "6 Stray    Domestic Shorthair Mix Blue Tabby         1        "
      ]
     },
     "metadata": {},
     "output_type": "display_data"
    }
   ],
   "source": [
    "d %>% head"
   ]
  },
  {
   "cell_type": "code",
   "execution_count": 22,
   "metadata": {},
   "outputs": [],
   "source": [
    "## R code 11.64\n",
    "# library(rethinking)\n",
    "data(AustinCats)\n",
    "d <- AustinCats\n",
    "\n",
    "d$adopt <- ifelse( d$out_event==\"Adoption\" , 1L , 0L )\n",
    "dat <- list(\n",
    "    days_to_event = as.integer( d$days_to_event ),\n",
    "    color_id = ifelse( d$color==\"Black\" , 1L , 2L ) ,\n",
    "    adopted = d$adopt\n",
    ")"
   ]
  },
  {
   "cell_type": "code",
   "execution_count": 33,
   "metadata": {},
   "outputs": [],
   "source": [
    "## R code 11.64\n",
    "# library(rethinking)\n",
    "data(AustinCats)\n",
    "d <- AustinCats\n",
    "\n",
    "dat <- list(\n",
    "    days_to_event = as.integer( d$days_to_event ),\n",
    "    color_id = ifelse( d$color==\"Black\" , 1L , 2L ) ,\n",
    "    adopted = ifelse( d$out_event==\"Adoption\" , 1L , 0L )\n",
    ")"
   ]
  },
  {
   "cell_type": "code",
   "execution_count": 6,
   "metadata": {},
   "outputs": [
    {
     "name": "stdout",
     "output_type": "stream",
     "text": [
      "List of 3\n",
      " $ days_to_event: int [1:22356] 1 25 4 41 9 4 4 5 24 2 ...\n",
      " $ color_id     : int [1:22356] 2 2 2 2 2 2 2 2 2 2 ...\n",
      " $ adopted      : int [1:22356] 0 0 1 0 0 1 1 1 1 0 ...\n"
     ]
    }
   ],
   "source": [
    "dat %>% str"
   ]
  },
  {
   "cell_type": "code",
   "execution_count": 4,
   "metadata": {
    "collapsed": true
   },
   "outputs": [
    {
     "data": {
      "text/html": [
       "<table>\n",
       "<thead><tr><th scope=col>id</th><th scope=col>days_to_event</th><th scope=col>date_out</th><th scope=col>out_event</th><th scope=col>date_in</th><th scope=col>in_event</th><th scope=col>breed</th><th scope=col>color</th><th scope=col>intake_age</th></tr></thead>\n",
       "<tbody>\n",
       "\t<tr><td>A730601               </td><td> 1                    </td><td>07/08/2016 09:00:00 AM</td><td>Transfer              </td><td>07/07/2016 12:11:00 PM</td><td>Stray                 </td><td>Domestic Shorthair Mix</td><td>Blue Tabby            </td><td> 7                    </td></tr>\n",
       "\t<tr><td>A679549               </td><td>25                    </td><td>06/16/2014 01:54:00 PM</td><td>Transfer              </td><td>05/22/2014 03:43:00 PM</td><td>Stray                 </td><td>Domestic Shorthair Mix</td><td>Black/White           </td><td> 1                    </td></tr>\n",
       "\t<tr><td>A683656               </td><td> 4                    </td><td>07/17/2014 04:57:00 PM</td><td>Adoption              </td><td>07/13/2014 01:20:00 PM</td><td>Stray                 </td><td>Snowshoe Mix          </td><td>Lynx Point            </td><td> 2                    </td></tr>\n",
       "\t<tr><td>A709749               </td><td>41                    </td><td>09/22/2015 12:49:00 PM</td><td>Transfer              </td><td>08/12/2015 06:29:00 PM</td><td>Stray                 </td><td>Domestic Shorthair Mix</td><td>Calico                </td><td>12                    </td></tr>\n",
       "\t<tr><td>A733551               </td><td> 9                    </td><td>09/01/2016 12:00:00 AM</td><td>Transfer              </td><td>08/23/2016 02:35:00 PM</td><td>Stray                 </td><td>Domestic Shorthair Mix</td><td>Brown Tabby/White     </td><td> 1                    </td></tr>\n",
       "\t<tr><td>A756485               </td><td> 4                    </td><td>08/24/2017 05:34:00 PM</td><td>Adoption              </td><td>08/20/2017 03:07:00 PM</td><td>Stray                 </td><td>Domestic Shorthair Mix</td><td>Blue Tabby            </td><td> 1                    </td></tr>\n",
       "</tbody>\n",
       "</table>\n"
      ],
      "text/latex": [
       "\\begin{tabular}{r|lllllllll}\n",
       " id & days\\_to\\_event & date\\_out & out\\_event & date\\_in & in\\_event & breed & color & intake\\_age\\\\\n",
       "\\hline\n",
       "\t A730601                &  1                     & 07/08/2016 09:00:00 AM & Transfer               & 07/07/2016 12:11:00 PM & Stray                  & Domestic Shorthair Mix & Blue Tabby             &  7                    \\\\\n",
       "\t A679549                & 25                     & 06/16/2014 01:54:00 PM & Transfer               & 05/22/2014 03:43:00 PM & Stray                  & Domestic Shorthair Mix & Black/White            &  1                    \\\\\n",
       "\t A683656                &  4                     & 07/17/2014 04:57:00 PM & Adoption               & 07/13/2014 01:20:00 PM & Stray                  & Snowshoe Mix           & Lynx Point             &  2                    \\\\\n",
       "\t A709749                & 41                     & 09/22/2015 12:49:00 PM & Transfer               & 08/12/2015 06:29:00 PM & Stray                  & Domestic Shorthair Mix & Calico                 & 12                    \\\\\n",
       "\t A733551                &  9                     & 09/01/2016 12:00:00 AM & Transfer               & 08/23/2016 02:35:00 PM & Stray                  & Domestic Shorthair Mix & Brown Tabby/White      &  1                    \\\\\n",
       "\t A756485                &  4                     & 08/24/2017 05:34:00 PM & Adoption               & 08/20/2017 03:07:00 PM & Stray                  & Domestic Shorthair Mix & Blue Tabby             &  1                    \\\\\n",
       "\\end{tabular}\n"
      ],
      "text/markdown": [
       "\n",
       "| id | days_to_event | date_out | out_event | date_in | in_event | breed | color | intake_age |\n",
       "|---|---|---|---|---|---|---|---|---|\n",
       "| A730601                |  1                     | 07/08/2016 09:00:00 AM | Transfer               | 07/07/2016 12:11:00 PM | Stray                  | Domestic Shorthair Mix | Blue Tabby             |  7                     |\n",
       "| A679549                | 25                     | 06/16/2014 01:54:00 PM | Transfer               | 05/22/2014 03:43:00 PM | Stray                  | Domestic Shorthair Mix | Black/White            |  1                     |\n",
       "| A683656                |  4                     | 07/17/2014 04:57:00 PM | Adoption               | 07/13/2014 01:20:00 PM | Stray                  | Snowshoe Mix           | Lynx Point             |  2                     |\n",
       "| A709749                | 41                     | 09/22/2015 12:49:00 PM | Transfer               | 08/12/2015 06:29:00 PM | Stray                  | Domestic Shorthair Mix | Calico                 | 12                     |\n",
       "| A733551                |  9                     | 09/01/2016 12:00:00 AM | Transfer               | 08/23/2016 02:35:00 PM | Stray                  | Domestic Shorthair Mix | Brown Tabby/White      |  1                     |\n",
       "| A756485                |  4                     | 08/24/2017 05:34:00 PM | Adoption               | 08/20/2017 03:07:00 PM | Stray                  | Domestic Shorthair Mix | Blue Tabby             |  1                     |\n",
       "\n"
      ],
      "text/plain": [
       "  id      days_to_event date_out               out_event date_in               \n",
       "1 A730601  1            07/08/2016 09:00:00 AM Transfer  07/07/2016 12:11:00 PM\n",
       "2 A679549 25            06/16/2014 01:54:00 PM Transfer  05/22/2014 03:43:00 PM\n",
       "3 A683656  4            07/17/2014 04:57:00 PM Adoption  07/13/2014 01:20:00 PM\n",
       "4 A709749 41            09/22/2015 12:49:00 PM Transfer  08/12/2015 06:29:00 PM\n",
       "5 A733551  9            09/01/2016 12:00:00 AM Transfer  08/23/2016 02:35:00 PM\n",
       "6 A756485  4            08/24/2017 05:34:00 PM Adoption  08/20/2017 03:07:00 PM\n",
       "  in_event breed                  color             intake_age\n",
       "1 Stray    Domestic Shorthair Mix Blue Tabby         7        \n",
       "2 Stray    Domestic Shorthair Mix Black/White        1        \n",
       "3 Stray    Snowshoe Mix           Lynx Point         2        \n",
       "4 Stray    Domestic Shorthair Mix Calico            12        \n",
       "5 Stray    Domestic Shorthair Mix Brown Tabby/White  1        \n",
       "6 Stray    Domestic Shorthair Mix Blue Tabby         1        "
      ]
     },
     "metadata": {},
     "output_type": "display_data"
    }
   ],
   "source": [
    "d %>% head()"
   ]
  },
  {
   "cell_type": "code",
   "execution_count": 98,
   "metadata": {
    "scrolled": true
   },
   "outputs": [],
   "source": [
    "\n",
    "m11.14 <- ulam(\n",
    "    alist(\n",
    "        days_to_event|adopted==1 ~ exponential( lambda ),\n",
    "        days_to_event|adopted==0 ~ custom(exponential_lccdf( !Y | lambda )),\n",
    "        lambda <- 1.0/mu,\n",
    "        log(mu) <- a[color_id],\n",
    "        a[color_id] ~ normal(0,1)\n",
    "    ), data=dat , chains=4 , cores=4)"
   ]
  },
  {
   "cell_type": "code",
   "execution_count": 99,
   "metadata": {},
   "outputs": [
    {
     "data": {
      "text/html": [
       "<table>\n",
       "<thead><tr><th></th><th scope=col>mean</th><th scope=col>sd</th><th scope=col>5.5%</th><th scope=col>94.5%</th><th scope=col>n_eff</th><th scope=col>Rhat</th></tr></thead>\n",
       "<tbody>\n",
       "\t<tr><th scope=row>a[1]</th><td>3.887479  </td><td>0.11462296</td><td>3.706615  </td><td>4.06893   </td><td>1304.728  </td><td>0.9998998 </td></tr>\n",
       "\t<tr><th scope=row>a[2]</th><td>3.885657  </td><td>0.04803993</td><td>3.809421  </td><td>3.96281   </td><td>1258.812  </td><td>0.9993166 </td></tr>\n",
       "</tbody>\n",
       "</table>\n"
      ],
      "text/latex": [
       "\\begin{tabular}{r|llllll}\n",
       "  & mean & sd & 5.5\\% & 94.5\\% & n\\_eff & Rhat\\\\\n",
       "\\hline\n",
       "\ta{[}1{]} & 3.887479   & 0.11462296 & 3.706615   & 4.06893    & 1304.728   & 0.9998998 \\\\\n",
       "\ta{[}2{]} & 3.885657   & 0.04803993 & 3.809421   & 3.96281    & 1258.812   & 0.9993166 \\\\\n",
       "\\end{tabular}\n"
      ],
      "text/markdown": [
       "\n",
       "| <!--/--> | mean | sd | 5.5% | 94.5% | n_eff | Rhat |\n",
       "|---|---|---|---|---|---|---|\n",
       "| a[1] | 3.887479   | 0.11462296 | 3.706615   | 4.06893    | 1304.728   | 0.9998998  |\n",
       "| a[2] | 3.885657   | 0.04803993 | 3.809421   | 3.96281    | 1258.812   | 0.9993166  |\n",
       "\n"
      ],
      "text/plain": [
       "     mean     sd         5.5%     94.5%   n_eff    Rhat     \n",
       "a[1] 3.887479 0.11462296 3.706615 4.06893 1304.728 0.9998998\n",
       "a[2] 3.885657 0.04803993 3.809421 3.96281 1258.812 0.9993166"
      ]
     },
     "metadata": {},
     "output_type": "display_data"
    }
   ],
   "source": [
    "m11.14  %>% precis(depth=2)"
   ]
  },
  {
   "cell_type": "code",
   "execution_count": 28,
   "metadata": {
    "collapsed": true
   },
   "outputs": [
    {
     "name": "stdout",
     "output_type": "stream",
     "text": [
      "data{\n",
      "    int adopted[22356];\n",
      "    int days_to_event[22356];\n",
      "    int color_id[22356];\n",
      "}\n",
      "parameters{\n",
      "    vector[2] a;\n",
      "}\n",
      "model{\n",
      "    vector[22356] lambda;\n",
      "    vector[22356] mu;\n",
      "    a ~ normal( 0 , 1 );\n",
      "    for ( i in 1:22356 ) {\n",
      "        mu[i] = a[color_id[i]];\n",
      "        mu[i] = exp(mu[i]);\n",
      "    }\n",
      "    for ( i in 1:22356 ) {\n",
      "        lambda[i] = 1/mu[i];\n",
      "    }\n",
      "    for ( i in 1:22356 ) \n",
      "        if ( adopted[i] == 0 ) target += exponential_lccdf(days_to_event[i] | lambda[i]);\n",
      "    for ( i in 1:22356 ) \n",
      "        if ( adopted[i] == 1 ) days_to_event[i] ~ exponential( lambda[i] );\n",
      "}\n",
      "\n"
     ]
    }
   ],
   "source": [
    "m11.14 %>% stancode()"
   ]
  },
  {
   "cell_type": "code",
   "execution_count": 101,
   "metadata": {
    "scrolled": true
   },
   "outputs": [],
   "source": [
    "dat <- list(\n",
    "    days_to_event = as.integer( d$days_to_event ),\n",
    "    in_event_id = d$in_event %>% as.factor() %>% as.integer() ,\n",
    "    adopted = ifelse( d$out_event==\"Adoption\" , 1L , 0L )\n",
    ")\n",
    "\n",
    "m11.14b <- ulam(\n",
    "    alist(\n",
    "        days_to_event|adopted==1 ~ exponential( lambda ),\n",
    "        days_to_event|adopted==0 ~ custom(exponential_lccdf( !Y | lambda )),\n",
    "        lambda <- 1.0/mu,\n",
    "        log(mu) <- a[in_event_id],\n",
    "        a[in_event_id] ~ normal(0,1)\n",
    "    ), data=dat , chains=4 , cores=4)"
   ]
  },
  {
   "cell_type": "code",
   "execution_count": 102,
   "metadata": {},
   "outputs": [
    {
     "data": {
      "text/html": [
       "<table>\n",
       "<thead><tr><th></th><th scope=col>mean</th><th scope=col>sd</th><th scope=col>5.5%</th><th scope=col>94.5%</th><th scope=col>n_eff</th><th scope=col>Rhat</th></tr></thead>\n",
       "<tbody>\n",
       "\t<tr><th scope=row>a[1]</th><td>4.096731  </td><td>0.34677014</td><td>3.585074  </td><td>4.665686  </td><td>2148.887  </td><td>0.9991549 </td></tr>\n",
       "\t<tr><th scope=row>a[2]</th><td>3.788017  </td><td>0.01942729</td><td>3.757603  </td><td>3.819130  </td><td>2081.374  </td><td>0.9995225 </td></tr>\n",
       "\t<tr><th scope=row>a[3]</th><td>4.477311  </td><td>0.08971981</td><td>4.336021  </td><td>4.627587  </td><td>2526.269  </td><td>1.0002564 </td></tr>\n",
       "\t<tr><th scope=row>a[4]</th><td>3.928993  </td><td>0.01085970</td><td>3.911968  </td><td>3.946595  </td><td>2629.529  </td><td>0.9988139 </td></tr>\n",
       "</tbody>\n",
       "</table>\n"
      ],
      "text/latex": [
       "\\begin{tabular}{r|llllll}\n",
       "  & mean & sd & 5.5\\% & 94.5\\% & n\\_eff & Rhat\\\\\n",
       "\\hline\n",
       "\ta{[}1{]} & 4.096731   & 0.34677014 & 3.585074   & 4.665686   & 2148.887   & 0.9991549 \\\\\n",
       "\ta{[}2{]} & 3.788017   & 0.01942729 & 3.757603   & 3.819130   & 2081.374   & 0.9995225 \\\\\n",
       "\ta{[}3{]} & 4.477311   & 0.08971981 & 4.336021   & 4.627587   & 2526.269   & 1.0002564 \\\\\n",
       "\ta{[}4{]} & 3.928993   & 0.01085970 & 3.911968   & 3.946595   & 2629.529   & 0.9988139 \\\\\n",
       "\\end{tabular}\n"
      ],
      "text/markdown": [
       "\n",
       "| <!--/--> | mean | sd | 5.5% | 94.5% | n_eff | Rhat |\n",
       "|---|---|---|---|---|---|---|\n",
       "| a[1] | 4.096731   | 0.34677014 | 3.585074   | 4.665686   | 2148.887   | 0.9991549  |\n",
       "| a[2] | 3.788017   | 0.01942729 | 3.757603   | 3.819130   | 2081.374   | 0.9995225  |\n",
       "| a[3] | 4.477311   | 0.08971981 | 4.336021   | 4.627587   | 2526.269   | 1.0002564  |\n",
       "| a[4] | 3.928993   | 0.01085970 | 3.911968   | 3.946595   | 2629.529   | 0.9988139  |\n",
       "\n"
      ],
      "text/plain": [
       "     mean     sd         5.5%     94.5%    n_eff    Rhat     \n",
       "a[1] 4.096731 0.34677014 3.585074 4.665686 2148.887 0.9991549\n",
       "a[2] 3.788017 0.01942729 3.757603 3.819130 2081.374 0.9995225\n",
       "a[3] 4.477311 0.08971981 4.336021 4.627587 2526.269 1.0002564\n",
       "a[4] 3.928993 0.01085970 3.911968 3.946595 2629.529 0.9988139"
      ]
     },
     "metadata": {},
     "output_type": "display_data"
    }
   ],
   "source": [
    "m11.14b  %>% precis(depth=2)"
   ]
  },
  {
   "cell_type": "code",
   "execution_count": 103,
   "metadata": {},
   "outputs": [
    {
     "name": "stdout",
     "output_type": "stream",
     "text": [
      "data{\n",
      "    int adopted[22356];\n",
      "    int days_to_event[22356];\n",
      "    int in_event_id[22356];\n",
      "}\n",
      "parameters{\n",
      "    vector[4] a;\n",
      "}\n",
      "model{\n",
      "    vector[22356] lambda;\n",
      "    vector[22356] mu;\n",
      "    a ~ normal( 0 , 1 );\n",
      "    for ( i in 1:22356 ) {\n",
      "        mu[i] = a[in_event_id[i]];\n",
      "        mu[i] = exp(mu[i]);\n",
      "    }\n",
      "    for ( i in 1:22356 ) {\n",
      "        lambda[i] = 1/mu[i];\n",
      "    }\n",
      "    for ( i in 1:22356 ) \n",
      "        if ( adopted[i] == 0 ) target += exponential_lccdf(days_to_event[i] | lambda[i]);\n",
      "    for ( i in 1:22356 ) \n",
      "        if ( adopted[i] == 1 ) days_to_event[i] ~ exponential( lambda[i] );\n",
      "}\n",
      "\n"
     ]
    }
   ],
   "source": [
    "stancode(m11.14b)"
   ]
  },
  {
   "cell_type": "markdown",
   "metadata": {},
   "source": [
    "#### Log_lik archive"
   ]
  },
  {
   "cell_type": "markdown",
   "metadata": {
    "heading_collapsed": true
   },
   "source": [
    "##### base"
   ]
  },
  {
   "cell_type": "code",
   "execution_count": 155,
   "metadata": {
    "hidden": true
   },
   "outputs": [],
   "source": [
    "dat <- list(\n",
    "    days_to_event = as.integer( d$days_to_event ),\n",
    "    color_id = ifelse( d$color==\"Black\" , 1L , 2L ) ,\n",
    "    adopted = ifelse( d$out_event==\"Adoption\" , 1L , 0L )\n",
    ")"
   ]
  },
  {
   "cell_type": "code",
   "execution_count": 156,
   "metadata": {
    "code_folding": [],
    "hidden": true
   },
   "outputs": [],
   "source": [
    "# base code\n",
    "\n",
    "m11.14_stan_base_code <- \"\n",
    "    data{\n",
    "        int adopted[22356];\n",
    "        int days_to_event[22356];\n",
    "        int color_id[22356];\n",
    "    }\n",
    "    parameters{\n",
    "        vector[2] a;\n",
    "    }\n",
    "    model{\n",
    "        vector[22356] lambda;\n",
    "        vector[22356] mu;\n",
    "        a ~ normal( 0 , 1 );\n",
    "        for ( i in 1:22356 ) {\n",
    "            mu[i] = a[color_id[i]];\n",
    "            mu[i] = exp(mu[i]);\n",
    "        }\n",
    "        for ( i in 1:22356 ) {\n",
    "            lambda[i] = 1/mu[i];\n",
    "        }\n",
    "        for ( i in 1:22356 ) \n",
    "            if ( adopted[i] == 0 ) target += exponential_lccdf(days_to_event[i] | lambda[i]);\n",
    "        for ( i in 1:22356 ) \n",
    "            if ( adopted[i] == 1 ) days_to_event[i] ~ exponential( lambda[i] );\n",
    "    }\n",
    "\""
   ]
  },
  {
   "cell_type": "code",
   "execution_count": 157,
   "metadata": {
    "collapsed": true,
    "hidden": true
   },
   "outputs": [
    {
     "name": "stdout",
     "output_type": "stream",
     "text": [
      "\n",
      "SAMPLING FOR MODEL 'b5b78efc10f9652a5e87d7bd299aa911' NOW (CHAIN 1).\n",
      "Chain 1: \n",
      "Chain 1: Gradient evaluation took 0.008 seconds\n",
      "Chain 1: 1000 transitions using 10 leapfrog steps per transition would take 80 seconds.\n",
      "Chain 1: Adjust your expectations accordingly!\n",
      "Chain 1: \n",
      "Chain 1: \n",
      "Chain 1: Iteration:    1 / 2000 [  0%]  (Warmup)\n",
      "Chain 1: Iteration:  200 / 2000 [ 10%]  (Warmup)\n",
      "Chain 1: Iteration:  400 / 2000 [ 20%]  (Warmup)\n",
      "Chain 1: Iteration:  600 / 2000 [ 30%]  (Warmup)\n",
      "Chain 1: Iteration:  800 / 2000 [ 40%]  (Warmup)\n",
      "Chain 1: Iteration: 1000 / 2000 [ 50%]  (Warmup)\n",
      "Chain 1: Iteration: 1001 / 2000 [ 50%]  (Sampling)\n",
      "Chain 1: Iteration: 1200 / 2000 [ 60%]  (Sampling)\n",
      "Chain 1: Iteration: 1400 / 2000 [ 70%]  (Sampling)\n",
      "Chain 1: Iteration: 1600 / 2000 [ 80%]  (Sampling)\n",
      "Chain 1: Iteration: 1800 / 2000 [ 90%]  (Sampling)\n",
      "Chain 1: Iteration: 2000 / 2000 [100%]  (Sampling)\n",
      "Chain 1: \n",
      "Chain 1:  Elapsed Time: 32.544 seconds (Warm-up)\n",
      "Chain 1:                31.695 seconds (Sampling)\n",
      "Chain 1:                64.239 seconds (Total)\n",
      "Chain 1: \n",
      "\n",
      "SAMPLING FOR MODEL 'b5b78efc10f9652a5e87d7bd299aa911' NOW (CHAIN 2).\n",
      "Chain 2: \n",
      "Chain 2: Gradient evaluation took 0.006 seconds\n",
      "Chain 2: 1000 transitions using 10 leapfrog steps per transition would take 60 seconds.\n",
      "Chain 2: Adjust your expectations accordingly!\n",
      "Chain 2: \n",
      "Chain 2: \n",
      "Chain 2: Iteration:    1 / 2000 [  0%]  (Warmup)\n",
      "Chain 2: Iteration:  200 / 2000 [ 10%]  (Warmup)\n",
      "Chain 2: Iteration:  400 / 2000 [ 20%]  (Warmup)\n",
      "Chain 2: Iteration:  600 / 2000 [ 30%]  (Warmup)\n",
      "Chain 2: Iteration:  800 / 2000 [ 40%]  (Warmup)\n",
      "Chain 2: Iteration: 1000 / 2000 [ 50%]  (Warmup)\n",
      "Chain 2: Iteration: 1001 / 2000 [ 50%]  (Sampling)\n",
      "Chain 2: Iteration: 1200 / 2000 [ 60%]  (Sampling)\n",
      "Chain 2: Iteration: 1400 / 2000 [ 70%]  (Sampling)\n",
      "Chain 2: Iteration: 1600 / 2000 [ 80%]  (Sampling)\n",
      "Chain 2: Iteration: 1800 / 2000 [ 90%]  (Sampling)\n",
      "Chain 2: Iteration: 2000 / 2000 [100%]  (Sampling)\n",
      "Chain 2: \n",
      "Chain 2:  Elapsed Time: 37.558 seconds (Warm-up)\n",
      "Chain 2:                21.104 seconds (Sampling)\n",
      "Chain 2:                58.662 seconds (Total)\n",
      "Chain 2: \n",
      "\n",
      "SAMPLING FOR MODEL 'b5b78efc10f9652a5e87d7bd299aa911' NOW (CHAIN 3).\n",
      "Chain 3: \n",
      "Chain 3: Gradient evaluation took 0.004 seconds\n",
      "Chain 3: 1000 transitions using 10 leapfrog steps per transition would take 40 seconds.\n",
      "Chain 3: Adjust your expectations accordingly!\n",
      "Chain 3: \n",
      "Chain 3: \n",
      "Chain 3: Iteration:    1 / 2000 [  0%]  (Warmup)\n",
      "Chain 3: Iteration:  200 / 2000 [ 10%]  (Warmup)\n",
      "Chain 3: Iteration:  400 / 2000 [ 20%]  (Warmup)\n",
      "Chain 3: Iteration:  600 / 2000 [ 30%]  (Warmup)\n",
      "Chain 3: Iteration:  800 / 2000 [ 40%]  (Warmup)\n",
      "Chain 3: Iteration: 1000 / 2000 [ 50%]  (Warmup)\n",
      "Chain 3: Iteration: 1001 / 2000 [ 50%]  (Sampling)\n",
      "Chain 3: Iteration: 1200 / 2000 [ 60%]  (Sampling)\n",
      "Chain 3: Iteration: 1400 / 2000 [ 70%]  (Sampling)\n",
      "Chain 3: Iteration: 1600 / 2000 [ 80%]  (Sampling)\n",
      "Chain 3: Iteration: 1800 / 2000 [ 90%]  (Sampling)\n",
      "Chain 3: Iteration: 2000 / 2000 [100%]  (Sampling)\n",
      "Chain 3: \n",
      "Chain 3:  Elapsed Time: 27.921 seconds (Warm-up)\n",
      "Chain 3:                24.641 seconds (Sampling)\n",
      "Chain 3:                52.562 seconds (Total)\n",
      "Chain 3: \n",
      "\n",
      "SAMPLING FOR MODEL 'b5b78efc10f9652a5e87d7bd299aa911' NOW (CHAIN 4).\n",
      "Chain 4: \n",
      "Chain 4: Gradient evaluation took 0.015 seconds\n",
      "Chain 4: 1000 transitions using 10 leapfrog steps per transition would take 150 seconds.\n",
      "Chain 4: Adjust your expectations accordingly!\n",
      "Chain 4: \n",
      "Chain 4: \n",
      "Chain 4: Iteration:    1 / 2000 [  0%]  (Warmup)\n",
      "Chain 4: Iteration:  200 / 2000 [ 10%]  (Warmup)\n",
      "Chain 4: Iteration:  400 / 2000 [ 20%]  (Warmup)\n",
      "Chain 4: Iteration:  600 / 2000 [ 30%]  (Warmup)\n",
      "Chain 4: Iteration:  800 / 2000 [ 40%]  (Warmup)\n",
      "Chain 4: Iteration: 1000 / 2000 [ 50%]  (Warmup)\n",
      "Chain 4: Iteration: 1001 / 2000 [ 50%]  (Sampling)\n",
      "Chain 4: Iteration: 1200 / 2000 [ 60%]  (Sampling)\n",
      "Chain 4: Iteration: 1400 / 2000 [ 70%]  (Sampling)\n",
      "Chain 4: Iteration: 1600 / 2000 [ 80%]  (Sampling)\n",
      "Chain 4: Iteration: 1800 / 2000 [ 90%]  (Sampling)\n",
      "Chain 4: Iteration: 2000 / 2000 [100%]  (Sampling)\n",
      "Chain 4: \n",
      "Chain 4:  Elapsed Time: 22.131 seconds (Warm-up)\n",
      "Chain 4:                24.406 seconds (Sampling)\n",
      "Chain 4:                46.537 seconds (Total)\n",
      "Chain 4: \n"
     ]
    }
   ],
   "source": [
    "m11.14_stan_base <- stan( model_code=m11.14_stan_base_code , data=dat , chains=4 )"
   ]
  },
  {
   "cell_type": "code",
   "execution_count": 160,
   "metadata": {
    "hidden": true
   },
   "outputs": [
    {
     "name": "stdout",
     "output_type": "stream",
     "text": [
      "List of 2\n",
      " $ a   : num [1:4000, 1:2] 4.04 4.02 4.01 4.04 4.04 ...\n",
      " $ lp__: num [1:4000(1d)] -55667 -55666 -55664 -55663 -55664 ...\n"
     ]
    }
   ],
   "source": [
    "post <- extract.samples( m11.14_stan_base ) \n",
    "\n",
    "str(post)"
   ]
  },
  {
   "cell_type": "code",
   "execution_count": 161,
   "metadata": {
    "hidden": true
   },
   "outputs": [
    {
     "name": "stdout",
     "output_type": "stream",
     "text": [
      "List of 2\n",
      " $ a   : num [1:4000, 1:2] 4.04 4.02 4.01 4.04 4.04 ...\n",
      " $ lp__: num [1:4000(1d)] -55667 -55666 -55664 -55663 -55664 ...\n"
     ]
    }
   ],
   "source": [
    "post <- extract.samples( m11.14_stan_base , clean=FALSE ) \n",
    "\n",
    "str(post)"
   ]
  },
  {
   "cell_type": "markdown",
   "metadata": {
    "heading_collapsed": true,
    "hidden": true
   },
   "source": [
    "###### a1"
   ]
  },
  {
   "cell_type": "raw",
   "metadata": {
    "hidden": true
   },
   "source": [
    "for ( i in 1:22356 ) \n",
    "            if ( adopted[i] == 0 ) target += exponential_lccdf(days_to_event[i] | lambda[i]);\n",
    "        for ( i in 1:22356 ) \n",
    "            if ( adopted[i] == 1 ) days_to_event[i] ~ exponential( lambda[i] );"
   ]
  },
  {
   "cell_type": "code",
   "execution_count": 83,
   "metadata": {
    "hidden": true
   },
   "outputs": [],
   "source": [
    "m11.14_stan_altcode <- \"\n",
    "    data{\n",
    "        int adopted[22356];\n",
    "        int days_to_event[22356];\n",
    "        int color_id[22356];\n",
    "    }\n",
    "    parameters{\n",
    "        vector[2] a;\n",
    "    }\n",
    "    model{\n",
    "        vector[22356] lambda;\n",
    "        vector[22356] mu;\n",
    "        a ~ normal( 0 , 1 );\n",
    "        for ( i in 1:22356 ) {\n",
    "            mu[i] = a[color_id[i]];\n",
    "            mu[i] = exp(mu[i]);\n",
    "        }\n",
    "        for ( i in 1:22356 ) {\n",
    "            lambda[i] = 1/mu[i];\n",
    "        }\n",
    "        for ( i in 1:22356 ) \n",
    "            if ( adopted[i] == 0 ) target += exponential_lccdf(days_to_event[i] | lambda[i]);\n",
    "        for ( i in 1:22356 ) \n",
    "            if ( adopted[i] == 1 ) days_to_event[i] ~ exponential( lambda[i] );\n",
    "    }\n",
    "    generated quantities{\n",
    "        vector[22356] log_lik;\n",
    "        vector[22356] lambda;\n",
    "        vector[22356] mu;\n",
    "        for ( i in 1:22356 ) {\n",
    "            mu[i] = a[color_id[i]];\n",
    "            mu[i] = exp(mu[i]);\n",
    "        }\n",
    "        for ( i in 1:22356 ) {\n",
    "            lambda[i] = 1/mu[i];\n",
    "        }\n",
    "        for ( i in 1:22356 )\n",
    "            if ( adopted[i] == 0 ) log_lik[i] = exponential_lccdf( days_to_event[i] | lambda[i] );\n",
    "        for ( i in 1:22356 )\n",
    "            if ( adopted[i] == 1 ) log_lik[i] = exponential_lpdf( days_to_event[i] | lambda[i] );\n",
    "    }\n",
    "\"\n",
    "\n",
    "# vector[22356] lambda;\n",
    "# vector[22356] mu;"
   ]
  },
  {
   "cell_type": "code",
   "execution_count": 84,
   "metadata": {
    "hidden": true,
    "scrolled": true
   },
   "outputs": [
    {
     "name": "stderr",
     "output_type": "stream",
     "text": [
      "recompiling to avoid crashing R session\n"
     ]
    },
    {
     "name": "stdout",
     "output_type": "stream",
     "text": [
      "\n",
      "SAMPLING FOR MODEL '25b288635da72efac45005bf13f414dd' NOW (CHAIN 1).\n",
      "Chain 1: \n",
      "Chain 1: Gradient evaluation took 0.009 seconds\n",
      "Chain 1: 1000 transitions using 10 leapfrog steps per transition would take 90 seconds.\n",
      "Chain 1: Adjust your expectations accordingly!\n",
      "Chain 1: \n",
      "Chain 1: \n",
      "Chain 1: Iteration:    1 / 2000 [  0%]  (Warmup)\n",
      "Chain 1: Iteration:  200 / 2000 [ 10%]  (Warmup)\n",
      "Chain 1: Iteration:  400 / 2000 [ 20%]  (Warmup)\n",
      "Chain 1: Iteration:  600 / 2000 [ 30%]  (Warmup)\n",
      "Chain 1: Iteration:  800 / 2000 [ 40%]  (Warmup)\n",
      "Chain 1: Iteration: 1000 / 2000 [ 50%]  (Warmup)\n",
      "Chain 1: Iteration: 1001 / 2000 [ 50%]  (Sampling)\n",
      "Chain 1: Iteration: 1200 / 2000 [ 60%]  (Sampling)\n",
      "Chain 1: Iteration: 1400 / 2000 [ 70%]  (Sampling)\n",
      "Chain 1: Iteration: 1600 / 2000 [ 80%]  (Sampling)\n",
      "Chain 1: Iteration: 1800 / 2000 [ 90%]  (Sampling)\n",
      "Chain 1: Iteration: 2000 / 2000 [100%]  (Sampling)\n",
      "Chain 1: \n",
      "Chain 1:  Elapsed Time: 34.834 seconds (Warm-up)\n",
      "Chain 1:                31.95 seconds (Sampling)\n",
      "Chain 1:                66.784 seconds (Total)\n",
      "Chain 1: \n",
      "\n",
      "SAMPLING FOR MODEL '25b288635da72efac45005bf13f414dd' NOW (CHAIN 2).\n",
      "Chain 2: \n",
      "Chain 2: Gradient evaluation took 0.005 seconds\n",
      "Chain 2: 1000 transitions using 10 leapfrog steps per transition would take 50 seconds.\n",
      "Chain 2: Adjust your expectations accordingly!\n",
      "Chain 2: \n",
      "Chain 2: \n",
      "Chain 2: Iteration:    1 / 2000 [  0%]  (Warmup)\n",
      "Chain 2: Iteration:  200 / 2000 [ 10%]  (Warmup)\n",
      "Chain 2: Iteration:  400 / 2000 [ 20%]  (Warmup)\n",
      "Chain 2: Iteration:  600 / 2000 [ 30%]  (Warmup)\n",
      "Chain 2: Iteration:  800 / 2000 [ 40%]  (Warmup)\n",
      "Chain 2: Iteration: 1000 / 2000 [ 50%]  (Warmup)\n",
      "Chain 2: Iteration: 1001 / 2000 [ 50%]  (Sampling)\n",
      "Chain 2: Iteration: 1200 / 2000 [ 60%]  (Sampling)\n",
      "Chain 2: Iteration: 1400 / 2000 [ 70%]  (Sampling)\n",
      "Chain 2: Iteration: 1600 / 2000 [ 80%]  (Sampling)\n",
      "Chain 2: Iteration: 1800 / 2000 [ 90%]  (Sampling)\n",
      "Chain 2: Iteration: 2000 / 2000 [100%]  (Sampling)\n",
      "Chain 2: \n",
      "Chain 2:  Elapsed Time: 33.008 seconds (Warm-up)\n",
      "Chain 2:                39.88 seconds (Sampling)\n",
      "Chain 2:                72.888 seconds (Total)\n",
      "Chain 2: \n",
      "\n",
      "SAMPLING FOR MODEL '25b288635da72efac45005bf13f414dd' NOW (CHAIN 3).\n",
      "Chain 3: \n",
      "Chain 3: Gradient evaluation took 0.02 seconds\n",
      "Chain 3: 1000 transitions using 10 leapfrog steps per transition would take 200 seconds.\n",
      "Chain 3: Adjust your expectations accordingly!\n",
      "Chain 3: \n",
      "Chain 3: \n",
      "Chain 3: Iteration:    1 / 2000 [  0%]  (Warmup)\n",
      "Chain 3: Iteration:  200 / 2000 [ 10%]  (Warmup)\n",
      "Chain 3: Iteration:  400 / 2000 [ 20%]  (Warmup)\n",
      "Chain 3: Iteration:  600 / 2000 [ 30%]  (Warmup)\n",
      "Chain 3: Iteration:  800 / 2000 [ 40%]  (Warmup)\n",
      "Chain 3: Iteration: 1000 / 2000 [ 50%]  (Warmup)\n",
      "Chain 3: Iteration: 1001 / 2000 [ 50%]  (Sampling)\n",
      "Chain 3: Iteration: 1200 / 2000 [ 60%]  (Sampling)\n",
      "Chain 3: Iteration: 1400 / 2000 [ 70%]  (Sampling)\n",
      "Chain 3: Iteration: 1600 / 2000 [ 80%]  (Sampling)\n",
      "Chain 3: Iteration: 1800 / 2000 [ 90%]  (Sampling)\n",
      "Chain 3: Iteration: 2000 / 2000 [100%]  (Sampling)\n",
      "Chain 3: \n",
      "Chain 3:  Elapsed Time: 36.184 seconds (Warm-up)\n",
      "Chain 3:                29.195 seconds (Sampling)\n",
      "Chain 3:                65.379 seconds (Total)\n",
      "Chain 3: \n",
      "\n",
      "SAMPLING FOR MODEL '25b288635da72efac45005bf13f414dd' NOW (CHAIN 4).\n",
      "Chain 4: \n",
      "Chain 4: Gradient evaluation took 0.004 seconds\n",
      "Chain 4: 1000 transitions using 10 leapfrog steps per transition would take 40 seconds.\n",
      "Chain 4: Adjust your expectations accordingly!\n",
      "Chain 4: \n",
      "Chain 4: \n",
      "Chain 4: Iteration:    1 / 2000 [  0%]  (Warmup)\n",
      "Chain 4: Iteration:  200 / 2000 [ 10%]  (Warmup)\n",
      "Chain 4: Iteration:  400 / 2000 [ 20%]  (Warmup)\n",
      "Chain 4: Iteration:  600 / 2000 [ 30%]  (Warmup)\n",
      "Chain 4: Iteration:  800 / 2000 [ 40%]  (Warmup)\n",
      "Chain 4: Iteration: 1000 / 2000 [ 50%]  (Warmup)\n",
      "Chain 4: Iteration: 1001 / 2000 [ 50%]  (Sampling)\n",
      "Chain 4: Iteration: 1200 / 2000 [ 60%]  (Sampling)\n",
      "Chain 4: Iteration: 1400 / 2000 [ 70%]  (Sampling)\n",
      "Chain 4: Iteration: 1600 / 2000 [ 80%]  (Sampling)\n",
      "Chain 4: Iteration: 1800 / 2000 [ 90%]  (Sampling)\n",
      "Chain 4: Iteration: 2000 / 2000 [100%]  (Sampling)\n",
      "Chain 4: \n",
      "Chain 4:  Elapsed Time: 30.525 seconds (Warm-up)\n",
      "Chain 4:                23.607 seconds (Sampling)\n",
      "Chain 4:                54.132 seconds (Total)\n",
      "Chain 4: \n"
     ]
    }
   ],
   "source": [
    "m11.14_stan_alt <- stan( model_code=m11.14_stan_altcode , data=dat , chains=4 )"
   ]
  },
  {
   "cell_type": "code",
   "execution_count": 90,
   "metadata": {
    "hidden": true
   },
   "outputs": [
    {
     "data": {
      "text/html": [
       "<table>\n",
       "<thead><tr><th></th><th scope=col>mean</th><th scope=col>sd</th><th scope=col>5.5%</th><th scope=col>94.5%</th><th scope=col>n_eff</th><th scope=col>Rhat</th></tr></thead>\n",
       "<tbody>\n",
       "\t<tr><th scope=row>a[1]</th><td>4.05   </td><td>0.03   </td><td>4.01   </td><td>4.09   </td><td>3626.75</td><td>1      </td></tr>\n",
       "\t<tr><th scope=row>a[2]</th><td>3.88   </td><td>0.01   </td><td>3.86   </td><td>3.90   </td><td>3677.38</td><td>1      </td></tr>\n",
       "\t<tr><th scope=row>lambda[1]</th><td>0.02   </td><td>0.00   </td><td>0.02   </td><td>0.02   </td><td>3677.23</td><td>1      </td></tr>\n",
       "\t<tr><th scope=row>lambda[2]</th><td>0.02   </td><td>0.00   </td><td>0.02   </td><td>0.02   </td><td>3677.23</td><td>1      </td></tr>\n",
       "\t<tr><th scope=row>lambda[3]</th><td>0.02   </td><td>0.00   </td><td>0.02   </td><td>0.02   </td><td>3677.23</td><td>1      </td></tr>\n",
       "\t<tr><th scope=row>lambda[4]</th><td>0.02   </td><td>0.00   </td><td>0.02   </td><td>0.02   </td><td>3677.23</td><td>1      </td></tr>\n",
       "\t<tr><th scope=row>lambda[5]</th><td>0.02   </td><td>0.00   </td><td>0.02   </td><td>0.02   </td><td>3677.23</td><td>1      </td></tr>\n",
       "\t<tr><th scope=row>lambda[6]</th><td>0.02   </td><td>0.00   </td><td>0.02   </td><td>0.02   </td><td>3677.23</td><td>1      </td></tr>\n",
       "\t<tr><th scope=row>lambda[7]</th><td>0.02   </td><td>0.00   </td><td>0.02   </td><td>0.02   </td><td>3677.23</td><td>1      </td></tr>\n",
       "\t<tr><th scope=row>lambda[8]</th><td>0.02   </td><td>0.00   </td><td>0.02   </td><td>0.02   </td><td>3677.23</td><td>1      </td></tr>\n",
       "\t<tr><th scope=row>lambda[9]</th><td>0.02   </td><td>0.00   </td><td>0.02   </td><td>0.02   </td><td>3677.23</td><td>1      </td></tr>\n",
       "\t<tr><th scope=row>lambda[10]</th><td>0.02   </td><td>0.00   </td><td>0.02   </td><td>0.02   </td><td>3677.23</td><td>1      </td></tr>\n",
       "\t<tr><th scope=row>lambda[11]</th><td>0.02   </td><td>0.00   </td><td>0.02   </td><td>0.02   </td><td>3677.23</td><td>1      </td></tr>\n",
       "\t<tr><th scope=row>lambda[12]</th><td>0.02   </td><td>0.00   </td><td>0.02   </td><td>0.02   </td><td>3677.23</td><td>1      </td></tr>\n",
       "\t<tr><th scope=row>lambda[13]</th><td>0.02   </td><td>0.00   </td><td>0.02   </td><td>0.02   </td><td>3677.23</td><td>1      </td></tr>\n",
       "\t<tr><th scope=row>lambda[14]</th><td>0.02   </td><td>0.00   </td><td>0.02   </td><td>0.02   </td><td>3677.23</td><td>1      </td></tr>\n",
       "\t<tr><th scope=row>lambda[15]</th><td>0.02   </td><td>0.00   </td><td>0.02   </td><td>0.02   </td><td>3677.23</td><td>1      </td></tr>\n",
       "\t<tr><th scope=row>lambda[16]</th><td>0.02   </td><td>0.00   </td><td>0.02   </td><td>0.02   </td><td>3632.43</td><td>1      </td></tr>\n",
       "\t<tr><th scope=row>lambda[17]</th><td>0.02   </td><td>0.00   </td><td>0.02   </td><td>0.02   </td><td>3632.43</td><td>1      </td></tr>\n",
       "\t<tr><th scope=row>lambda[18]</th><td>0.02   </td><td>0.00   </td><td>0.02   </td><td>0.02   </td><td>3632.43</td><td>1      </td></tr>\n",
       "\t<tr><th scope=row>lambda[19]</th><td>0.02   </td><td>0.00   </td><td>0.02   </td><td>0.02   </td><td>3677.23</td><td>1      </td></tr>\n",
       "\t<tr><th scope=row>lambda[20]</th><td>0.02   </td><td>0.00   </td><td>0.02   </td><td>0.02   </td><td>3677.23</td><td>1      </td></tr>\n",
       "\t<tr><th scope=row>lambda[21]</th><td>0.02   </td><td>0.00   </td><td>0.02   </td><td>0.02   </td><td>3677.23</td><td>1      </td></tr>\n",
       "\t<tr><th scope=row>lambda[22]</th><td>0.02   </td><td>0.00   </td><td>0.02   </td><td>0.02   </td><td>3677.23</td><td>1      </td></tr>\n",
       "\t<tr><th scope=row>lambda[23]</th><td>0.02   </td><td>0.00   </td><td>0.02   </td><td>0.02   </td><td>3677.23</td><td>1      </td></tr>\n",
       "\t<tr><th scope=row>lambda[24]</th><td>0.02   </td><td>0.00   </td><td>0.02   </td><td>0.02   </td><td>3677.23</td><td>1      </td></tr>\n",
       "\t<tr><th scope=row>lambda[25]</th><td>0.02   </td><td>0.00   </td><td>0.02   </td><td>0.02   </td><td>3677.23</td><td>1      </td></tr>\n",
       "\t<tr><th scope=row>lambda[26]</th><td>0.02   </td><td>0.00   </td><td>0.02   </td><td>0.02   </td><td>3677.23</td><td>1      </td></tr>\n",
       "\t<tr><th scope=row>lambda[27]</th><td>0.02   </td><td>0.00   </td><td>0.02   </td><td>0.02   </td><td>3677.23</td><td>1      </td></tr>\n",
       "\t<tr><th scope=row>lambda[28]</th><td>0.02   </td><td>0.00   </td><td>0.02   </td><td>0.02   </td><td>3632.43</td><td>1      </td></tr>\n",
       "\t<tr><th scope=row>...</th><td>...</td><td>...</td><td>...</td><td>...</td><td>...</td><td>...</td></tr>\n",
       "\t<tr><th scope=row>mu[22327]</th><td>48.44  </td><td>0.48   </td><td>47.67  </td><td>49.20  </td><td>3677.20</td><td>1      </td></tr>\n",
       "\t<tr><th scope=row>mu[22328]</th><td>48.44  </td><td>0.48   </td><td>47.67  </td><td>49.20  </td><td>3677.20</td><td>1      </td></tr>\n",
       "\t<tr><th scope=row>mu[22329]</th><td>48.44  </td><td>0.48   </td><td>47.67  </td><td>49.20  </td><td>3677.20</td><td>1      </td></tr>\n",
       "\t<tr><th scope=row>mu[22330]</th><td>48.44  </td><td>0.48   </td><td>47.67  </td><td>49.20  </td><td>3677.20</td><td>1      </td></tr>\n",
       "\t<tr><th scope=row>mu[22331]</th><td>48.44  </td><td>0.48   </td><td>47.67  </td><td>49.20  </td><td>3677.20</td><td>1      </td></tr>\n",
       "\t<tr><th scope=row>mu[22332]</th><td>48.44  </td><td>0.48   </td><td>47.67  </td><td>49.20  </td><td>3677.20</td><td>1      </td></tr>\n",
       "\t<tr><th scope=row>mu[22333]</th><td>48.44  </td><td>0.48   </td><td>47.67  </td><td>49.20  </td><td>3677.20</td><td>1      </td></tr>\n",
       "\t<tr><th scope=row>mu[22334]</th><td>48.44  </td><td>0.48   </td><td>47.67  </td><td>49.20  </td><td>3677.20</td><td>1      </td></tr>\n",
       "\t<tr><th scope=row>mu[22335]</th><td>57.47  </td><td>1.50   </td><td>55.10  </td><td>59.86  </td><td>3619.73</td><td>1      </td></tr>\n",
       "\t<tr><th scope=row>mu[22336]</th><td>48.44  </td><td>0.48   </td><td>47.67  </td><td>49.20  </td><td>3677.20</td><td>1      </td></tr>\n",
       "\t<tr><th scope=row>mu[22337]</th><td>57.47  </td><td>1.50   </td><td>55.10  </td><td>59.86  </td><td>3619.73</td><td>1      </td></tr>\n",
       "\t<tr><th scope=row>mu[22338]</th><td>48.44  </td><td>0.48   </td><td>47.67  </td><td>49.20  </td><td>3677.20</td><td>1      </td></tr>\n",
       "\t<tr><th scope=row>mu[22339]</th><td>48.44  </td><td>0.48   </td><td>47.67  </td><td>49.20  </td><td>3677.20</td><td>1      </td></tr>\n",
       "\t<tr><th scope=row>mu[22340]</th><td>48.44  </td><td>0.48   </td><td>47.67  </td><td>49.20  </td><td>3677.20</td><td>1      </td></tr>\n",
       "\t<tr><th scope=row>mu[22341]</th><td>48.44  </td><td>0.48   </td><td>47.67  </td><td>49.20  </td><td>3677.20</td><td>1      </td></tr>\n",
       "\t<tr><th scope=row>mu[22342]</th><td>48.44  </td><td>0.48   </td><td>47.67  </td><td>49.20  </td><td>3677.20</td><td>1      </td></tr>\n",
       "\t<tr><th scope=row>mu[22343]</th><td>48.44  </td><td>0.48   </td><td>47.67  </td><td>49.20  </td><td>3677.20</td><td>1      </td></tr>\n",
       "\t<tr><th scope=row>mu[22344]</th><td>57.47  </td><td>1.50   </td><td>55.10  </td><td>59.86  </td><td>3619.73</td><td>1      </td></tr>\n",
       "\t<tr><th scope=row>mu[22345]</th><td>48.44  </td><td>0.48   </td><td>47.67  </td><td>49.20  </td><td>3677.20</td><td>1      </td></tr>\n",
       "\t<tr><th scope=row>mu[22346]</th><td>48.44  </td><td>0.48   </td><td>47.67  </td><td>49.20  </td><td>3677.20</td><td>1      </td></tr>\n",
       "\t<tr><th scope=row>mu[22347]</th><td>48.44  </td><td>0.48   </td><td>47.67  </td><td>49.20  </td><td>3677.20</td><td>1      </td></tr>\n",
       "\t<tr><th scope=row>mu[22348]</th><td>57.47  </td><td>1.50   </td><td>55.10  </td><td>59.86  </td><td>3619.73</td><td>1      </td></tr>\n",
       "\t<tr><th scope=row>mu[22349]</th><td>48.44  </td><td>0.48   </td><td>47.67  </td><td>49.20  </td><td>3677.20</td><td>1      </td></tr>\n",
       "\t<tr><th scope=row>mu[22350]</th><td>48.44  </td><td>0.48   </td><td>47.67  </td><td>49.20  </td><td>3677.20</td><td>1      </td></tr>\n",
       "\t<tr><th scope=row>mu[22351]</th><td>48.44  </td><td>0.48   </td><td>47.67  </td><td>49.20  </td><td>3677.20</td><td>1      </td></tr>\n",
       "\t<tr><th scope=row>mu[22352]</th><td>48.44  </td><td>0.48   </td><td>47.67  </td><td>49.20  </td><td>3677.20</td><td>1      </td></tr>\n",
       "\t<tr><th scope=row>mu[22353]</th><td>48.44  </td><td>0.48   </td><td>47.67  </td><td>49.20  </td><td>3677.20</td><td>1      </td></tr>\n",
       "\t<tr><th scope=row>mu[22354]</th><td>48.44  </td><td>0.48   </td><td>47.67  </td><td>49.20  </td><td>3677.20</td><td>1      </td></tr>\n",
       "\t<tr><th scope=row>mu[22355]</th><td>48.44  </td><td>0.48   </td><td>47.67  </td><td>49.20  </td><td>3677.20</td><td>1      </td></tr>\n",
       "\t<tr><th scope=row>mu[22356]</th><td>48.44  </td><td>0.48   </td><td>47.67  </td><td>49.20  </td><td>3677.20</td><td>1      </td></tr>\n",
       "</tbody>\n",
       "</table>\n"
      ],
      "text/latex": [
       "\\begin{tabular}{r|llllll}\n",
       "  & mean & sd & 5.5\\% & 94.5\\% & n\\_eff & Rhat\\\\\n",
       "\\hline\n",
       "\ta{[}1{]} & 4.05    & 0.03    & 4.01    & 4.09    & 3626.75 & 1      \\\\\n",
       "\ta{[}2{]} & 3.88    & 0.01    & 3.86    & 3.90    & 3677.38 & 1      \\\\\n",
       "\tlambda{[}1{]} & 0.02    & 0.00    & 0.02    & 0.02    & 3677.23 & 1      \\\\\n",
       "\tlambda{[}2{]} & 0.02    & 0.00    & 0.02    & 0.02    & 3677.23 & 1      \\\\\n",
       "\tlambda{[}3{]} & 0.02    & 0.00    & 0.02    & 0.02    & 3677.23 & 1      \\\\\n",
       "\tlambda{[}4{]} & 0.02    & 0.00    & 0.02    & 0.02    & 3677.23 & 1      \\\\\n",
       "\tlambda{[}5{]} & 0.02    & 0.00    & 0.02    & 0.02    & 3677.23 & 1      \\\\\n",
       "\tlambda{[}6{]} & 0.02    & 0.00    & 0.02    & 0.02    & 3677.23 & 1      \\\\\n",
       "\tlambda{[}7{]} & 0.02    & 0.00    & 0.02    & 0.02    & 3677.23 & 1      \\\\\n",
       "\tlambda{[}8{]} & 0.02    & 0.00    & 0.02    & 0.02    & 3677.23 & 1      \\\\\n",
       "\tlambda{[}9{]} & 0.02    & 0.00    & 0.02    & 0.02    & 3677.23 & 1      \\\\\n",
       "\tlambda{[}10{]} & 0.02    & 0.00    & 0.02    & 0.02    & 3677.23 & 1      \\\\\n",
       "\tlambda{[}11{]} & 0.02    & 0.00    & 0.02    & 0.02    & 3677.23 & 1      \\\\\n",
       "\tlambda{[}12{]} & 0.02    & 0.00    & 0.02    & 0.02    & 3677.23 & 1      \\\\\n",
       "\tlambda{[}13{]} & 0.02    & 0.00    & 0.02    & 0.02    & 3677.23 & 1      \\\\\n",
       "\tlambda{[}14{]} & 0.02    & 0.00    & 0.02    & 0.02    & 3677.23 & 1      \\\\\n",
       "\tlambda{[}15{]} & 0.02    & 0.00    & 0.02    & 0.02    & 3677.23 & 1      \\\\\n",
       "\tlambda{[}16{]} & 0.02    & 0.00    & 0.02    & 0.02    & 3632.43 & 1      \\\\\n",
       "\tlambda{[}17{]} & 0.02    & 0.00    & 0.02    & 0.02    & 3632.43 & 1      \\\\\n",
       "\tlambda{[}18{]} & 0.02    & 0.00    & 0.02    & 0.02    & 3632.43 & 1      \\\\\n",
       "\tlambda{[}19{]} & 0.02    & 0.00    & 0.02    & 0.02    & 3677.23 & 1      \\\\\n",
       "\tlambda{[}20{]} & 0.02    & 0.00    & 0.02    & 0.02    & 3677.23 & 1      \\\\\n",
       "\tlambda{[}21{]} & 0.02    & 0.00    & 0.02    & 0.02    & 3677.23 & 1      \\\\\n",
       "\tlambda{[}22{]} & 0.02    & 0.00    & 0.02    & 0.02    & 3677.23 & 1      \\\\\n",
       "\tlambda{[}23{]} & 0.02    & 0.00    & 0.02    & 0.02    & 3677.23 & 1      \\\\\n",
       "\tlambda{[}24{]} & 0.02    & 0.00    & 0.02    & 0.02    & 3677.23 & 1      \\\\\n",
       "\tlambda{[}25{]} & 0.02    & 0.00    & 0.02    & 0.02    & 3677.23 & 1      \\\\\n",
       "\tlambda{[}26{]} & 0.02    & 0.00    & 0.02    & 0.02    & 3677.23 & 1      \\\\\n",
       "\tlambda{[}27{]} & 0.02    & 0.00    & 0.02    & 0.02    & 3677.23 & 1      \\\\\n",
       "\tlambda{[}28{]} & 0.02    & 0.00    & 0.02    & 0.02    & 3632.43 & 1      \\\\\n",
       "\t... & ... & ... & ... & ... & ... & ...\\\\\n",
       "\tmu{[}22327{]} & 48.44   & 0.48    & 47.67   & 49.20   & 3677.20 & 1      \\\\\n",
       "\tmu{[}22328{]} & 48.44   & 0.48    & 47.67   & 49.20   & 3677.20 & 1      \\\\\n",
       "\tmu{[}22329{]} & 48.44   & 0.48    & 47.67   & 49.20   & 3677.20 & 1      \\\\\n",
       "\tmu{[}22330{]} & 48.44   & 0.48    & 47.67   & 49.20   & 3677.20 & 1      \\\\\n",
       "\tmu{[}22331{]} & 48.44   & 0.48    & 47.67   & 49.20   & 3677.20 & 1      \\\\\n",
       "\tmu{[}22332{]} & 48.44   & 0.48    & 47.67   & 49.20   & 3677.20 & 1      \\\\\n",
       "\tmu{[}22333{]} & 48.44   & 0.48    & 47.67   & 49.20   & 3677.20 & 1      \\\\\n",
       "\tmu{[}22334{]} & 48.44   & 0.48    & 47.67   & 49.20   & 3677.20 & 1      \\\\\n",
       "\tmu{[}22335{]} & 57.47   & 1.50    & 55.10   & 59.86   & 3619.73 & 1      \\\\\n",
       "\tmu{[}22336{]} & 48.44   & 0.48    & 47.67   & 49.20   & 3677.20 & 1      \\\\\n",
       "\tmu{[}22337{]} & 57.47   & 1.50    & 55.10   & 59.86   & 3619.73 & 1      \\\\\n",
       "\tmu{[}22338{]} & 48.44   & 0.48    & 47.67   & 49.20   & 3677.20 & 1      \\\\\n",
       "\tmu{[}22339{]} & 48.44   & 0.48    & 47.67   & 49.20   & 3677.20 & 1      \\\\\n",
       "\tmu{[}22340{]} & 48.44   & 0.48    & 47.67   & 49.20   & 3677.20 & 1      \\\\\n",
       "\tmu{[}22341{]} & 48.44   & 0.48    & 47.67   & 49.20   & 3677.20 & 1      \\\\\n",
       "\tmu{[}22342{]} & 48.44   & 0.48    & 47.67   & 49.20   & 3677.20 & 1      \\\\\n",
       "\tmu{[}22343{]} & 48.44   & 0.48    & 47.67   & 49.20   & 3677.20 & 1      \\\\\n",
       "\tmu{[}22344{]} & 57.47   & 1.50    & 55.10   & 59.86   & 3619.73 & 1      \\\\\n",
       "\tmu{[}22345{]} & 48.44   & 0.48    & 47.67   & 49.20   & 3677.20 & 1      \\\\\n",
       "\tmu{[}22346{]} & 48.44   & 0.48    & 47.67   & 49.20   & 3677.20 & 1      \\\\\n",
       "\tmu{[}22347{]} & 48.44   & 0.48    & 47.67   & 49.20   & 3677.20 & 1      \\\\\n",
       "\tmu{[}22348{]} & 57.47   & 1.50    & 55.10   & 59.86   & 3619.73 & 1      \\\\\n",
       "\tmu{[}22349{]} & 48.44   & 0.48    & 47.67   & 49.20   & 3677.20 & 1      \\\\\n",
       "\tmu{[}22350{]} & 48.44   & 0.48    & 47.67   & 49.20   & 3677.20 & 1      \\\\\n",
       "\tmu{[}22351{]} & 48.44   & 0.48    & 47.67   & 49.20   & 3677.20 & 1      \\\\\n",
       "\tmu{[}22352{]} & 48.44   & 0.48    & 47.67   & 49.20   & 3677.20 & 1      \\\\\n",
       "\tmu{[}22353{]} & 48.44   & 0.48    & 47.67   & 49.20   & 3677.20 & 1      \\\\\n",
       "\tmu{[}22354{]} & 48.44   & 0.48    & 47.67   & 49.20   & 3677.20 & 1      \\\\\n",
       "\tmu{[}22355{]} & 48.44   & 0.48    & 47.67   & 49.20   & 3677.20 & 1      \\\\\n",
       "\tmu{[}22356{]} & 48.44   & 0.48    & 47.67   & 49.20   & 3677.20 & 1      \\\\\n",
       "\\end{tabular}\n"
      ],
      "text/markdown": [
       "\n",
       "| <!--/--> | mean | sd | 5.5% | 94.5% | n_eff | Rhat |\n",
       "|---|---|---|---|---|---|---|\n",
       "| a[1] | 4.05    | 0.03    | 4.01    | 4.09    | 3626.75 | 1       |\n",
       "| a[2] | 3.88    | 0.01    | 3.86    | 3.90    | 3677.38 | 1       |\n",
       "| lambda[1] | 0.02    | 0.00    | 0.02    | 0.02    | 3677.23 | 1       |\n",
       "| lambda[2] | 0.02    | 0.00    | 0.02    | 0.02    | 3677.23 | 1       |\n",
       "| lambda[3] | 0.02    | 0.00    | 0.02    | 0.02    | 3677.23 | 1       |\n",
       "| lambda[4] | 0.02    | 0.00    | 0.02    | 0.02    | 3677.23 | 1       |\n",
       "| lambda[5] | 0.02    | 0.00    | 0.02    | 0.02    | 3677.23 | 1       |\n",
       "| lambda[6] | 0.02    | 0.00    | 0.02    | 0.02    | 3677.23 | 1       |\n",
       "| lambda[7] | 0.02    | 0.00    | 0.02    | 0.02    | 3677.23 | 1       |\n",
       "| lambda[8] | 0.02    | 0.00    | 0.02    | 0.02    | 3677.23 | 1       |\n",
       "| lambda[9] | 0.02    | 0.00    | 0.02    | 0.02    | 3677.23 | 1       |\n",
       "| lambda[10] | 0.02    | 0.00    | 0.02    | 0.02    | 3677.23 | 1       |\n",
       "| lambda[11] | 0.02    | 0.00    | 0.02    | 0.02    | 3677.23 | 1       |\n",
       "| lambda[12] | 0.02    | 0.00    | 0.02    | 0.02    | 3677.23 | 1       |\n",
       "| lambda[13] | 0.02    | 0.00    | 0.02    | 0.02    | 3677.23 | 1       |\n",
       "| lambda[14] | 0.02    | 0.00    | 0.02    | 0.02    | 3677.23 | 1       |\n",
       "| lambda[15] | 0.02    | 0.00    | 0.02    | 0.02    | 3677.23 | 1       |\n",
       "| lambda[16] | 0.02    | 0.00    | 0.02    | 0.02    | 3632.43 | 1       |\n",
       "| lambda[17] | 0.02    | 0.00    | 0.02    | 0.02    | 3632.43 | 1       |\n",
       "| lambda[18] | 0.02    | 0.00    | 0.02    | 0.02    | 3632.43 | 1       |\n",
       "| lambda[19] | 0.02    | 0.00    | 0.02    | 0.02    | 3677.23 | 1       |\n",
       "| lambda[20] | 0.02    | 0.00    | 0.02    | 0.02    | 3677.23 | 1       |\n",
       "| lambda[21] | 0.02    | 0.00    | 0.02    | 0.02    | 3677.23 | 1       |\n",
       "| lambda[22] | 0.02    | 0.00    | 0.02    | 0.02    | 3677.23 | 1       |\n",
       "| lambda[23] | 0.02    | 0.00    | 0.02    | 0.02    | 3677.23 | 1       |\n",
       "| lambda[24] | 0.02    | 0.00    | 0.02    | 0.02    | 3677.23 | 1       |\n",
       "| lambda[25] | 0.02    | 0.00    | 0.02    | 0.02    | 3677.23 | 1       |\n",
       "| lambda[26] | 0.02    | 0.00    | 0.02    | 0.02    | 3677.23 | 1       |\n",
       "| lambda[27] | 0.02    | 0.00    | 0.02    | 0.02    | 3677.23 | 1       |\n",
       "| lambda[28] | 0.02    | 0.00    | 0.02    | 0.02    | 3632.43 | 1       |\n",
       "| ... | ... | ... | ... | ... | ... | ... |\n",
       "| mu[22327] | 48.44   | 0.48    | 47.67   | 49.20   | 3677.20 | 1       |\n",
       "| mu[22328] | 48.44   | 0.48    | 47.67   | 49.20   | 3677.20 | 1       |\n",
       "| mu[22329] | 48.44   | 0.48    | 47.67   | 49.20   | 3677.20 | 1       |\n",
       "| mu[22330] | 48.44   | 0.48    | 47.67   | 49.20   | 3677.20 | 1       |\n",
       "| mu[22331] | 48.44   | 0.48    | 47.67   | 49.20   | 3677.20 | 1       |\n",
       "| mu[22332] | 48.44   | 0.48    | 47.67   | 49.20   | 3677.20 | 1       |\n",
       "| mu[22333] | 48.44   | 0.48    | 47.67   | 49.20   | 3677.20 | 1       |\n",
       "| mu[22334] | 48.44   | 0.48    | 47.67   | 49.20   | 3677.20 | 1       |\n",
       "| mu[22335] | 57.47   | 1.50    | 55.10   | 59.86   | 3619.73 | 1       |\n",
       "| mu[22336] | 48.44   | 0.48    | 47.67   | 49.20   | 3677.20 | 1       |\n",
       "| mu[22337] | 57.47   | 1.50    | 55.10   | 59.86   | 3619.73 | 1       |\n",
       "| mu[22338] | 48.44   | 0.48    | 47.67   | 49.20   | 3677.20 | 1       |\n",
       "| mu[22339] | 48.44   | 0.48    | 47.67   | 49.20   | 3677.20 | 1       |\n",
       "| mu[22340] | 48.44   | 0.48    | 47.67   | 49.20   | 3677.20 | 1       |\n",
       "| mu[22341] | 48.44   | 0.48    | 47.67   | 49.20   | 3677.20 | 1       |\n",
       "| mu[22342] | 48.44   | 0.48    | 47.67   | 49.20   | 3677.20 | 1       |\n",
       "| mu[22343] | 48.44   | 0.48    | 47.67   | 49.20   | 3677.20 | 1       |\n",
       "| mu[22344] | 57.47   | 1.50    | 55.10   | 59.86   | 3619.73 | 1       |\n",
       "| mu[22345] | 48.44   | 0.48    | 47.67   | 49.20   | 3677.20 | 1       |\n",
       "| mu[22346] | 48.44   | 0.48    | 47.67   | 49.20   | 3677.20 | 1       |\n",
       "| mu[22347] | 48.44   | 0.48    | 47.67   | 49.20   | 3677.20 | 1       |\n",
       "| mu[22348] | 57.47   | 1.50    | 55.10   | 59.86   | 3619.73 | 1       |\n",
       "| mu[22349] | 48.44   | 0.48    | 47.67   | 49.20   | 3677.20 | 1       |\n",
       "| mu[22350] | 48.44   | 0.48    | 47.67   | 49.20   | 3677.20 | 1       |\n",
       "| mu[22351] | 48.44   | 0.48    | 47.67   | 49.20   | 3677.20 | 1       |\n",
       "| mu[22352] | 48.44   | 0.48    | 47.67   | 49.20   | 3677.20 | 1       |\n",
       "| mu[22353] | 48.44   | 0.48    | 47.67   | 49.20   | 3677.20 | 1       |\n",
       "| mu[22354] | 48.44   | 0.48    | 47.67   | 49.20   | 3677.20 | 1       |\n",
       "| mu[22355] | 48.44   | 0.48    | 47.67   | 49.20   | 3677.20 | 1       |\n",
       "| mu[22356] | 48.44   | 0.48    | 47.67   | 49.20   | 3677.20 | 1       |\n",
       "\n"
      ],
      "text/plain": [
       "           mean  sd   5.5%  94.5% n_eff   Rhat\n",
       "a[1]       4.05  0.03 4.01  4.09  3626.75 1   \n",
       "a[2]       3.88  0.01 3.86  3.90  3677.38 1   \n",
       "lambda[1]  0.02  0.00 0.02  0.02  3677.23 1   \n",
       "lambda[2]  0.02  0.00 0.02  0.02  3677.23 1   \n",
       "lambda[3]  0.02  0.00 0.02  0.02  3677.23 1   \n",
       "lambda[4]  0.02  0.00 0.02  0.02  3677.23 1   \n",
       "lambda[5]  0.02  0.00 0.02  0.02  3677.23 1   \n",
       "lambda[6]  0.02  0.00 0.02  0.02  3677.23 1   \n",
       "lambda[7]  0.02  0.00 0.02  0.02  3677.23 1   \n",
       "lambda[8]  0.02  0.00 0.02  0.02  3677.23 1   \n",
       "lambda[9]  0.02  0.00 0.02  0.02  3677.23 1   \n",
       "lambda[10] 0.02  0.00 0.02  0.02  3677.23 1   \n",
       "lambda[11] 0.02  0.00 0.02  0.02  3677.23 1   \n",
       "lambda[12] 0.02  0.00 0.02  0.02  3677.23 1   \n",
       "lambda[13] 0.02  0.00 0.02  0.02  3677.23 1   \n",
       "lambda[14] 0.02  0.00 0.02  0.02  3677.23 1   \n",
       "lambda[15] 0.02  0.00 0.02  0.02  3677.23 1   \n",
       "lambda[16] 0.02  0.00 0.02  0.02  3632.43 1   \n",
       "lambda[17] 0.02  0.00 0.02  0.02  3632.43 1   \n",
       "lambda[18] 0.02  0.00 0.02  0.02  3632.43 1   \n",
       "lambda[19] 0.02  0.00 0.02  0.02  3677.23 1   \n",
       "lambda[20] 0.02  0.00 0.02  0.02  3677.23 1   \n",
       "lambda[21] 0.02  0.00 0.02  0.02  3677.23 1   \n",
       "lambda[22] 0.02  0.00 0.02  0.02  3677.23 1   \n",
       "lambda[23] 0.02  0.00 0.02  0.02  3677.23 1   \n",
       "lambda[24] 0.02  0.00 0.02  0.02  3677.23 1   \n",
       "lambda[25] 0.02  0.00 0.02  0.02  3677.23 1   \n",
       "lambda[26] 0.02  0.00 0.02  0.02  3677.23 1   \n",
       "lambda[27] 0.02  0.00 0.02  0.02  3677.23 1   \n",
       "lambda[28] 0.02  0.00 0.02  0.02  3632.43 1   \n",
       "...        ...   ...  ...   ...   ...     ... \n",
       "mu[22327]  48.44 0.48 47.67 49.20 3677.20 1   \n",
       "mu[22328]  48.44 0.48 47.67 49.20 3677.20 1   \n",
       "mu[22329]  48.44 0.48 47.67 49.20 3677.20 1   \n",
       "mu[22330]  48.44 0.48 47.67 49.20 3677.20 1   \n",
       "mu[22331]  48.44 0.48 47.67 49.20 3677.20 1   \n",
       "mu[22332]  48.44 0.48 47.67 49.20 3677.20 1   \n",
       "mu[22333]  48.44 0.48 47.67 49.20 3677.20 1   \n",
       "mu[22334]  48.44 0.48 47.67 49.20 3677.20 1   \n",
       "mu[22335]  57.47 1.50 55.10 59.86 3619.73 1   \n",
       "mu[22336]  48.44 0.48 47.67 49.20 3677.20 1   \n",
       "mu[22337]  57.47 1.50 55.10 59.86 3619.73 1   \n",
       "mu[22338]  48.44 0.48 47.67 49.20 3677.20 1   \n",
       "mu[22339]  48.44 0.48 47.67 49.20 3677.20 1   \n",
       "mu[22340]  48.44 0.48 47.67 49.20 3677.20 1   \n",
       "mu[22341]  48.44 0.48 47.67 49.20 3677.20 1   \n",
       "mu[22342]  48.44 0.48 47.67 49.20 3677.20 1   \n",
       "mu[22343]  48.44 0.48 47.67 49.20 3677.20 1   \n",
       "mu[22344]  57.47 1.50 55.10 59.86 3619.73 1   \n",
       "mu[22345]  48.44 0.48 47.67 49.20 3677.20 1   \n",
       "mu[22346]  48.44 0.48 47.67 49.20 3677.20 1   \n",
       "mu[22347]  48.44 0.48 47.67 49.20 3677.20 1   \n",
       "mu[22348]  57.47 1.50 55.10 59.86 3619.73 1   \n",
       "mu[22349]  48.44 0.48 47.67 49.20 3677.20 1   \n",
       "mu[22350]  48.44 0.48 47.67 49.20 3677.20 1   \n",
       "mu[22351]  48.44 0.48 47.67 49.20 3677.20 1   \n",
       "mu[22352]  48.44 0.48 47.67 49.20 3677.20 1   \n",
       "mu[22353]  48.44 0.48 47.67 49.20 3677.20 1   \n",
       "mu[22354]  48.44 0.48 47.67 49.20 3677.20 1   \n",
       "mu[22355]  48.44 0.48 47.67 49.20 3677.20 1   \n",
       "mu[22356]  48.44 0.48 47.67 49.20 3677.20 1   "
      ]
     },
     "metadata": {},
     "output_type": "display_data"
    }
   ],
   "source": [
    "m11.14_stan_alt %>% precis(depth=2) %>% round(2)"
   ]
  },
  {
   "cell_type": "code",
   "execution_count": 88,
   "metadata": {
    "hidden": true
   },
   "outputs": [],
   "source": [
    "post <- extract.samples( m11.14_stan_alt , clean=FALSE ) "
   ]
  },
  {
   "cell_type": "code",
   "execution_count": 89,
   "metadata": {
    "hidden": true
   },
   "outputs": [
    {
     "name": "stdout",
     "output_type": "stream",
     "text": [
      " NULL\n"
     ]
    }
   ],
   "source": [
    "str(post)"
   ]
  },
  {
   "cell_type": "code",
   "execution_count": 64,
   "metadata": {
    "hidden": true
   },
   "outputs": [
    {
     "name": "stdout",
     "output_type": "stream",
     "text": [
      " NULL\n"
     ]
    }
   ],
   "source": [
    "str(post)"
   ]
  },
  {
   "cell_type": "markdown",
   "metadata": {
    "heading_collapsed": true
   },
   "source": [
    "##### a2"
   ]
  },
  {
   "cell_type": "code",
   "execution_count": 88,
   "metadata": {
    "hidden": true
   },
   "outputs": [],
   "source": [
    "## R code 11.64\n",
    "# library(rethinking)\n",
    "data(AustinCats)\n",
    "d <- AustinCats"
   ]
  },
  {
   "cell_type": "code",
   "execution_count": 44,
   "metadata": {
    "hidden": true
   },
   "outputs": [],
   "source": [
    "d <- d[sample(nrow(d), 1000),]"
   ]
  },
  {
   "cell_type": "code",
   "execution_count": 92,
   "metadata": {
    "collapsed": true,
    "hidden": true
   },
   "outputs": [
    {
     "data": {
      "text/html": [
       "<table>\n",
       "<thead><tr><th scope=col>id</th><th scope=col>days_to_event</th><th scope=col>date_out</th><th scope=col>out_event</th><th scope=col>date_in</th><th scope=col>in_event</th><th scope=col>breed</th><th scope=col>color</th><th scope=col>intake_age</th></tr></thead>\n",
       "<tbody>\n",
       "\t<tr><td>A730601               </td><td> 1                    </td><td>07/08/2016 09:00:00 AM</td><td>Transfer              </td><td>07/07/2016 12:11:00 PM</td><td>Stray                 </td><td>Domestic Shorthair Mix</td><td>Blue Tabby            </td><td> 7                    </td></tr>\n",
       "\t<tr><td>A679549               </td><td>25                    </td><td>06/16/2014 01:54:00 PM</td><td>Transfer              </td><td>05/22/2014 03:43:00 PM</td><td>Stray                 </td><td>Domestic Shorthair Mix</td><td>Black/White           </td><td> 1                    </td></tr>\n",
       "\t<tr><td>A683656               </td><td> 4                    </td><td>07/17/2014 04:57:00 PM</td><td>Adoption              </td><td>07/13/2014 01:20:00 PM</td><td>Stray                 </td><td>Snowshoe Mix          </td><td>Lynx Point            </td><td> 2                    </td></tr>\n",
       "\t<tr><td>A709749               </td><td>41                    </td><td>09/22/2015 12:49:00 PM</td><td>Transfer              </td><td>08/12/2015 06:29:00 PM</td><td>Stray                 </td><td>Domestic Shorthair Mix</td><td>Calico                </td><td>12                    </td></tr>\n",
       "\t<tr><td>A733551               </td><td> 9                    </td><td>09/01/2016 12:00:00 AM</td><td>Transfer              </td><td>08/23/2016 02:35:00 PM</td><td>Stray                 </td><td>Domestic Shorthair Mix</td><td>Brown Tabby/White     </td><td> 1                    </td></tr>\n",
       "\t<tr><td>A756485               </td><td> 4                    </td><td>08/24/2017 05:34:00 PM</td><td>Adoption              </td><td>08/20/2017 03:07:00 PM</td><td>Stray                 </td><td>Domestic Shorthair Mix</td><td>Blue Tabby            </td><td> 1                    </td></tr>\n",
       "</tbody>\n",
       "</table>\n"
      ],
      "text/latex": [
       "\\begin{tabular}{r|lllllllll}\n",
       " id & days\\_to\\_event & date\\_out & out\\_event & date\\_in & in\\_event & breed & color & intake\\_age\\\\\n",
       "\\hline\n",
       "\t A730601                &  1                     & 07/08/2016 09:00:00 AM & Transfer               & 07/07/2016 12:11:00 PM & Stray                  & Domestic Shorthair Mix & Blue Tabby             &  7                    \\\\\n",
       "\t A679549                & 25                     & 06/16/2014 01:54:00 PM & Transfer               & 05/22/2014 03:43:00 PM & Stray                  & Domestic Shorthair Mix & Black/White            &  1                    \\\\\n",
       "\t A683656                &  4                     & 07/17/2014 04:57:00 PM & Adoption               & 07/13/2014 01:20:00 PM & Stray                  & Snowshoe Mix           & Lynx Point             &  2                    \\\\\n",
       "\t A709749                & 41                     & 09/22/2015 12:49:00 PM & Transfer               & 08/12/2015 06:29:00 PM & Stray                  & Domestic Shorthair Mix & Calico                 & 12                    \\\\\n",
       "\t A733551                &  9                     & 09/01/2016 12:00:00 AM & Transfer               & 08/23/2016 02:35:00 PM & Stray                  & Domestic Shorthair Mix & Brown Tabby/White      &  1                    \\\\\n",
       "\t A756485                &  4                     & 08/24/2017 05:34:00 PM & Adoption               & 08/20/2017 03:07:00 PM & Stray                  & Domestic Shorthair Mix & Blue Tabby             &  1                    \\\\\n",
       "\\end{tabular}\n"
      ],
      "text/markdown": [
       "\n",
       "| id | days_to_event | date_out | out_event | date_in | in_event | breed | color | intake_age |\n",
       "|---|---|---|---|---|---|---|---|---|\n",
       "| A730601                |  1                     | 07/08/2016 09:00:00 AM | Transfer               | 07/07/2016 12:11:00 PM | Stray                  | Domestic Shorthair Mix | Blue Tabby             |  7                     |\n",
       "| A679549                | 25                     | 06/16/2014 01:54:00 PM | Transfer               | 05/22/2014 03:43:00 PM | Stray                  | Domestic Shorthair Mix | Black/White            |  1                     |\n",
       "| A683656                |  4                     | 07/17/2014 04:57:00 PM | Adoption               | 07/13/2014 01:20:00 PM | Stray                  | Snowshoe Mix           | Lynx Point             |  2                     |\n",
       "| A709749                | 41                     | 09/22/2015 12:49:00 PM | Transfer               | 08/12/2015 06:29:00 PM | Stray                  | Domestic Shorthair Mix | Calico                 | 12                     |\n",
       "| A733551                |  9                     | 09/01/2016 12:00:00 AM | Transfer               | 08/23/2016 02:35:00 PM | Stray                  | Domestic Shorthair Mix | Brown Tabby/White      |  1                     |\n",
       "| A756485                |  4                     | 08/24/2017 05:34:00 PM | Adoption               | 08/20/2017 03:07:00 PM | Stray                  | Domestic Shorthair Mix | Blue Tabby             |  1                     |\n",
       "\n"
      ],
      "text/plain": [
       "  id      days_to_event date_out               out_event date_in               \n",
       "1 A730601  1            07/08/2016 09:00:00 AM Transfer  07/07/2016 12:11:00 PM\n",
       "2 A679549 25            06/16/2014 01:54:00 PM Transfer  05/22/2014 03:43:00 PM\n",
       "3 A683656  4            07/17/2014 04:57:00 PM Adoption  07/13/2014 01:20:00 PM\n",
       "4 A709749 41            09/22/2015 12:49:00 PM Transfer  08/12/2015 06:29:00 PM\n",
       "5 A733551  9            09/01/2016 12:00:00 AM Transfer  08/23/2016 02:35:00 PM\n",
       "6 A756485  4            08/24/2017 05:34:00 PM Adoption  08/20/2017 03:07:00 PM\n",
       "  in_event breed                  color             intake_age\n",
       "1 Stray    Domestic Shorthair Mix Blue Tabby         7        \n",
       "2 Stray    Domestic Shorthair Mix Black/White        1        \n",
       "3 Stray    Snowshoe Mix           Lynx Point         2        \n",
       "4 Stray    Domestic Shorthair Mix Calico            12        \n",
       "5 Stray    Domestic Shorthair Mix Brown Tabby/White  1        \n",
       "6 Stray    Domestic Shorthair Mix Blue Tabby         1        "
      ]
     },
     "metadata": {},
     "output_type": "display_data"
    }
   ],
   "source": [
    "d %>% head"
   ]
  },
  {
   "cell_type": "code",
   "execution_count": 96,
   "metadata": {
    "collapsed": true,
    "hidden": true
   },
   "outputs": [
    {
     "data": {
      "text/plain": [
       ".\n",
       "Euthanasia Request    Owner Surrender      Public Assist              Stray \n",
       "                19               4489                358              17490 "
      ]
     },
     "metadata": {},
     "output_type": "display_data"
    }
   ],
   "source": [
    "d$in_event %>% table"
   ]
  },
  {
   "cell_type": "markdown",
   "metadata": {},
   "source": [
    "##### altcode, working version (double check calculations)"
   ]
  },
  {
   "cell_type": "code",
   "execution_count": 109,
   "metadata": {},
   "outputs": [],
   "source": [
    "d$adopt <- ifelse( d$out_event==\"Adoption\" , 1L , 0L )\n",
    "dat <- list(\n",
    "    days_to_event = as.integer( d$days_to_event ),\n",
    "    color_id = ifelse( d$color==\"Black\" , 1L , 2L ) ,\n",
    "    adopted = d$adopt\n",
    ")"
   ]
  },
  {
   "cell_type": "raw",
   "metadata": {
    "collapsed": true
   },
   "source": [
    "# log_lik = TRUE\n",
    "m11.14 <- ulam(\n",
    "    alist(\n",
    "        days_to_event|adopted==1 ~ exponential( lambda ),\n",
    "        days_to_event|adopted==0 ~ custom(exponential_lccdf( !Y | lambda )),\n",
    "        lambda <- 1.0/mu,\n",
    "        log(mu) <- a[color_id],\n",
    "        a[color_id] ~ normal(0,1)\n",
    "    ), data=dat ,   log_lik=TRUE)"
   ]
  },
  {
   "cell_type": "markdown",
   "metadata": {},
   "source": []
  },
  {
   "cell_type": "code",
   "execution_count": 46,
   "metadata": {
    "code_folding": []
   },
   "outputs": [],
   "source": [
    "# works\n",
    "m11.14_stan_altcode <- \"\n",
    "    data{\n",
    "        int adopted[1000];\n",
    "        int days_to_event[1000];\n",
    "        int color_id[1000];\n",
    "    }\n",
    "    parameters{\n",
    "        vector[2] a;\n",
    "    }\n",
    "    model{\n",
    "        vector[1000] lambda;\n",
    "        vector[1000] mu;\n",
    "        a ~ normal( 0 , 1 );\n",
    "        for ( i in 1:1000 ) {\n",
    "            mu[i] = a[color_id[i]];\n",
    "            mu[i] = exp(mu[i]);\n",
    "        }\n",
    "        for ( i in 1:1000 ) {\n",
    "            lambda[i] = 1/mu[i];\n",
    "        }\n",
    "        for ( i in 1:1000 ) {\n",
    "            if ( adopted[i] == 0 ) target += -lambda[i]*days_to_event[i];\n",
    "            if ( adopted[i] == 1 ) target += log(lambda[i]) - lambda[i]*days_to_event[i];\n",
    "        }\n",
    "        \n",
    "    }\n",
    "    generated quantities{\n",
    "        vector[1000] log_lik;\n",
    "        vector[1000] lambda;\n",
    "        vector[1000] mu;\n",
    "        for ( i in 1:1000 ) {\n",
    "            mu[i] = a[color_id[i]];\n",
    "            mu[i] = exp(mu[i]);\n",
    "        }\n",
    "    for ( i in 1:1000 ) {\n",
    "            lambda[i] = 1/mu[i];\n",
    "        }\n",
    "        for ( i in 1:1000 ) {\n",
    "            if ( adopted[i] == 0 ) log_lik[i] = exponential_lccdf( days_to_event[i] | lambda[i] );\n",
    "            if ( adopted[i] == 1 ) log_lik[i] = exponential_lpdf( days_to_event[i] | lambda[i] );\n",
    "        }\n",
    "    }\n",
    "\""
   ]
  },
  {
   "cell_type": "code",
   "execution_count": 110,
   "metadata": {
    "code_folding": []
   },
   "outputs": [],
   "source": [
    "# m11.14_stan_altcode works\n",
    "m11.14_stan_altcode <- \"\n",
    "    data{\n",
    "        int adopted[22356];\n",
    "        int days_to_event[22356];\n",
    "        int color_id[22356];\n",
    "    }\n",
    "    parameters{\n",
    "        vector[2] a;\n",
    "    }\n",
    "    model{\n",
    "        vector[22356] lambda;\n",
    "        vector[22356] mu;\n",
    "        a ~ normal( 0 , 1 );\n",
    "        for ( i in 1:22356 ) {\n",
    "            mu[i] = a[color_id[i]];\n",
    "            mu[i] = exp(mu[i]);\n",
    "            lambda[i] = 1/mu[i];\n",
    "        }\n",
    "        for ( i in 1:22356 ) {\n",
    "            if ( adopted[i] == 0 ) target += -lambda[i]*days_to_event[i];\n",
    "            if ( adopted[i] == 1 ) target += log(lambda[i]) - lambda[i]*days_to_event[i];\n",
    "        }\n",
    "        \n",
    "    }\n",
    "    generated quantities{\n",
    "        vector[22356] log_lik;\n",
    "        vector[22356] lambda;\n",
    "        for ( i in 1:22356 ) {\n",
    "            lambda[i] = 1/exp(a[color_id[i]]);\n",
    "        }\n",
    "        for ( i in 1:22356 ) {\n",
    "            if ( adopted[i] == 0 ) log_lik[i] = exponential_lccdf( days_to_event[i] | lambda[i] );\n",
    "            if ( adopted[i] == 1 ) log_lik[i] = exponential_lpdf( days_to_event[i] | lambda[i] );\n",
    "        }\n",
    "    }\n",
    "\""
   ]
  },
  {
   "cell_type": "code",
   "execution_count": 111,
   "metadata": {
    "cell_style": "center",
    "scrolled": true
   },
   "outputs": [
    {
     "name": "stdout",
     "output_type": "stream",
     "text": [
      "\n",
      "SAMPLING FOR MODEL '54d7f5e3b1df78a26e266259e69f4a34' NOW (CHAIN 1).\n",
      "Chain 1: \n",
      "Chain 1: Gradient evaluation took 0.005 seconds\n",
      "Chain 1: 1000 transitions using 10 leapfrog steps per transition would take 50 seconds.\n",
      "Chain 1: Adjust your expectations accordingly!\n",
      "Chain 1: \n",
      "Chain 1: \n",
      "Chain 1: Iteration:    1 / 2000 [  0%]  (Warmup)\n",
      "Chain 1: Iteration:  200 / 2000 [ 10%]  (Warmup)\n",
      "Chain 1: Iteration:  400 / 2000 [ 20%]  (Warmup)\n",
      "Chain 1: Iteration:  600 / 2000 [ 30%]  (Warmup)\n",
      "Chain 1: Iteration:  800 / 2000 [ 40%]  (Warmup)\n",
      "Chain 1: Iteration: 1000 / 2000 [ 50%]  (Warmup)\n",
      "Chain 1: Iteration: 1001 / 2000 [ 50%]  (Sampling)\n",
      "Chain 1: Iteration: 1200 / 2000 [ 60%]  (Sampling)\n",
      "Chain 1: Iteration: 1400 / 2000 [ 70%]  (Sampling)\n",
      "Chain 1: Iteration: 1600 / 2000 [ 80%]  (Sampling)\n",
      "Chain 1: Iteration: 1800 / 2000 [ 90%]  (Sampling)\n",
      "Chain 1: Iteration: 2000 / 2000 [100%]  (Sampling)\n",
      "Chain 1: \n",
      "Chain 1:  Elapsed Time: 27.694 seconds (Warm-up)\n",
      "Chain 1:                29.578 seconds (Sampling)\n",
      "Chain 1:                57.272 seconds (Total)\n",
      "Chain 1: \n",
      "\n",
      "SAMPLING FOR MODEL '54d7f5e3b1df78a26e266259e69f4a34' NOW (CHAIN 2).\n",
      "Chain 2: \n",
      "Chain 2: Gradient evaluation took 0.005 seconds\n",
      "Chain 2: 1000 transitions using 10 leapfrog steps per transition would take 50 seconds.\n",
      "Chain 2: Adjust your expectations accordingly!\n",
      "Chain 2: \n",
      "Chain 2: \n",
      "Chain 2: Iteration:    1 / 2000 [  0%]  (Warmup)\n",
      "Chain 2: Iteration:  200 / 2000 [ 10%]  (Warmup)\n",
      "Chain 2: Iteration:  400 / 2000 [ 20%]  (Warmup)\n",
      "Chain 2: Iteration:  600 / 2000 [ 30%]  (Warmup)\n",
      "Chain 2: Iteration:  800 / 2000 [ 40%]  (Warmup)\n",
      "Chain 2: Iteration: 1000 / 2000 [ 50%]  (Warmup)\n",
      "Chain 2: Iteration: 1001 / 2000 [ 50%]  (Sampling)\n",
      "Chain 2: Iteration: 1200 / 2000 [ 60%]  (Sampling)\n",
      "Chain 2: Iteration: 1400 / 2000 [ 70%]  (Sampling)\n",
      "Chain 2: Iteration: 1600 / 2000 [ 80%]  (Sampling)\n",
      "Chain 2: Iteration: 1800 / 2000 [ 90%]  (Sampling)\n",
      "Chain 2: Iteration: 2000 / 2000 [100%]  (Sampling)\n",
      "Chain 2: \n",
      "Chain 2:  Elapsed Time: 28.645 seconds (Warm-up)\n",
      "Chain 2:                34.941 seconds (Sampling)\n",
      "Chain 2:                63.586 seconds (Total)\n",
      "Chain 2: \n",
      "\n",
      "SAMPLING FOR MODEL '54d7f5e3b1df78a26e266259e69f4a34' NOW (CHAIN 3).\n",
      "Chain 3: \n",
      "Chain 3: Gradient evaluation took 0.004 seconds\n",
      "Chain 3: 1000 transitions using 10 leapfrog steps per transition would take 40 seconds.\n",
      "Chain 3: Adjust your expectations accordingly!\n",
      "Chain 3: \n",
      "Chain 3: \n",
      "Chain 3: Iteration:    1 / 2000 [  0%]  (Warmup)\n",
      "Chain 3: Iteration:  200 / 2000 [ 10%]  (Warmup)\n",
      "Chain 3: Iteration:  400 / 2000 [ 20%]  (Warmup)\n",
      "Chain 3: Iteration:  600 / 2000 [ 30%]  (Warmup)\n",
      "Chain 3: Iteration:  800 / 2000 [ 40%]  (Warmup)\n",
      "Chain 3: Iteration: 1000 / 2000 [ 50%]  (Warmup)\n",
      "Chain 3: Iteration: 1001 / 2000 [ 50%]  (Sampling)\n",
      "Chain 3: Iteration: 1200 / 2000 [ 60%]  (Sampling)\n",
      "Chain 3: Iteration: 1400 / 2000 [ 70%]  (Sampling)\n",
      "Chain 3: Iteration: 1600 / 2000 [ 80%]  (Sampling)\n",
      "Chain 3: Iteration: 1800 / 2000 [ 90%]  (Sampling)\n",
      "Chain 3: Iteration: 2000 / 2000 [100%]  (Sampling)\n",
      "Chain 3: \n",
      "Chain 3:  Elapsed Time: 28.156 seconds (Warm-up)\n",
      "Chain 3:                36.352 seconds (Sampling)\n",
      "Chain 3:                64.508 seconds (Total)\n",
      "Chain 3: \n",
      "\n",
      "SAMPLING FOR MODEL '54d7f5e3b1df78a26e266259e69f4a34' NOW (CHAIN 4).\n",
      "Chain 4: \n",
      "Chain 4: Gradient evaluation took 0.005 seconds\n",
      "Chain 4: 1000 transitions using 10 leapfrog steps per transition would take 50 seconds.\n",
      "Chain 4: Adjust your expectations accordingly!\n",
      "Chain 4: \n",
      "Chain 4: \n",
      "Chain 4: Iteration:    1 / 2000 [  0%]  (Warmup)\n",
      "Chain 4: Iteration:  200 / 2000 [ 10%]  (Warmup)\n",
      "Chain 4: Iteration:  400 / 2000 [ 20%]  (Warmup)\n",
      "Chain 4: Iteration:  600 / 2000 [ 30%]  (Warmup)\n",
      "Chain 4: Iteration:  800 / 2000 [ 40%]  (Warmup)\n",
      "Chain 4: Iteration: 1000 / 2000 [ 50%]  (Warmup)\n",
      "Chain 4: Iteration: 1001 / 2000 [ 50%]  (Sampling)\n",
      "Chain 4: Iteration: 1200 / 2000 [ 60%]  (Sampling)\n",
      "Chain 4: Iteration: 1400 / 2000 [ 70%]  (Sampling)\n",
      "Chain 4: Iteration: 1600 / 2000 [ 80%]  (Sampling)\n",
      "Chain 4: Iteration: 1800 / 2000 [ 90%]  (Sampling)\n",
      "Chain 4: Iteration: 2000 / 2000 [100%]  (Sampling)\n",
      "Chain 4: \n",
      "Chain 4:  Elapsed Time: 27.364 seconds (Warm-up)\n",
      "Chain 4:                26.646 seconds (Sampling)\n",
      "Chain 4:                54.01 seconds (Total)\n",
      "Chain 4: \n"
     ]
    }
   ],
   "source": [
    "m11.14_stan_alt <- stan( model_code=m11.14_stan_altcode , data=dat , chains=4 )\n",
    "\n",
    "m11.14_stan_alt %>% precis(depth=2) %>% round(2)"
   ]
  },
  {
   "cell_type": "code",
   "execution_count": 80,
   "metadata": {},
   "outputs": [
    {
     "name": "stdout",
     "output_type": "stream",
     "text": [
      "List of 4\n",
      " $ a      : num [1:4000, 1:2] 3.79 3.73 3.97 3.93 3.86 ...\n",
      " $ log_lik: num [1:4000, 1:1000] -4.28 -4.27 -4.22 -4.29 -4.28 ...\n",
      " $ lambda : num [1:4000, 1:1000] 0.0197 0.0202 0.0217 0.0195 0.0197 ...\n",
      " $ lp__   : num [1:4000(1d)] -2504 -2504 -2504 -2504 -2504 ...\n"
     ]
    }
   ],
   "source": [
    "post <- extract.samples( m11.14_stan_alt , clean=FALSE ) \n",
    "\n",
    "str(post)\n",
    "\n",
    "post <- extract.samples( m11.14_stan_alt ) \n",
    "\n",
    "str(post)"
   ]
  },
  {
   "cell_type": "markdown",
   "metadata": {
    "heading_collapsed": true
   },
   "source": [
    "##### altcodeb"
   ]
  },
  {
   "cell_type": "code",
   "execution_count": 123,
   "metadata": {
    "hidden": true
   },
   "outputs": [],
   "source": [
    "dat <- list(\n",
    "    days_to_event = as.integer( d$days_to_event ),\n",
    "    in_event_id = d$in_event %>% as.factor() %>% as.integer() ,\n",
    "    adopted = ifelse( d$out_event==\"Adoption\" , 1L , 0L )\n",
    ")\n"
   ]
  },
  {
   "cell_type": "code",
   "execution_count": 133,
   "metadata": {
    "hidden": true
   },
   "outputs": [
    {
     "data": {
      "text/plain": [
       ".\n",
       "    1     2     3     4 \n",
       "   19  4489   358 17490 "
      ]
     },
     "metadata": {},
     "output_type": "display_data"
    }
   ],
   "source": [
    "dat[2] %>% table"
   ]
  },
  {
   "cell_type": "code",
   "execution_count": 126,
   "metadata": {
    "code_folding": [
     0
    ],
    "hidden": true
   },
   "outputs": [],
   "source": [
    "# error\n",
    "m11.14_stan_altcodeb <- \"\n",
    "    data{\n",
    "        int adopted[22356];\n",
    "        int days_to_event[22356];\n",
    "        int in_event_id[22356];\n",
    "    }\n",
    "    parameters{\n",
    "        vector[2] a;\n",
    "    }\n",
    "    model{\n",
    "        vector[22356] lambda;\n",
    "        vector[22356] mu;\n",
    "        a ~ normal( 4 , 0.5 );\n",
    "        for ( i in 1:22356 ) {\n",
    "            mu[i] = a[in_event_id[i]];\n",
    "            mu[i] = exp(mu[i]);\n",
    "            lambda[i] = 1/mu[i];\n",
    "        }\n",
    "        for ( i in 1:22356 ) {\n",
    "            if ( adopted[i] == 0 ) target += -lambda[i]*days_to_event[i];\n",
    "            if ( adopted[i] == 1 ) target += log(lambda[i]) - lambda[i]*days_to_event[i];\n",
    "        }\n",
    "        \n",
    "    }\n",
    "    generated quantities{\n",
    "        vector[22356] log_lik;\n",
    "        vector[22356] lambda;\n",
    "        for ( i in 1:22356 ) {\n",
    "            lambda[i] = 1/exp(a[in_event_id[i]]);\n",
    "        }\n",
    "        for ( i in 1:22356 ) {\n",
    "            if ( adopted[i] == 0 ) log_lik[i] = exponential_lccdf( days_to_event[i] | lambda[i] );\n",
    "            if ( adopted[i] == 1 ) log_lik[i] = exponential_lpdf( days_to_event[i] | lambda[i] );\n",
    "        }\n",
    "    }\n",
    "\""
   ]
  },
  {
   "cell_type": "code",
   "execution_count": 149,
   "metadata": {
    "hidden": true
   },
   "outputs": [],
   "source": [
    "# test\n",
    "m11.14_stan_altcodeb <- \"\n",
    "    data{\n",
    "        int adopted[22356];\n",
    "        int days_to_event[22356];\n",
    "        int in_event_id[22356];\n",
    "    }\n",
    "    parameters{\n",
    "        vector[4] a;\n",
    "    }\n",
    "    model{\n",
    "        vector[22356] lambda;\n",
    "        vector[22356] mu;\n",
    "        a ~ normal( 4 , 0.5 );\n",
    "        for ( i in 1:22356 ) {\n",
    "            mu[i] = a[in_event_id[i]];\n",
    "            mu[i] = exp(mu[i]);\n",
    "            lambda[i] = 1/mu[i];\n",
    "        }\n",
    "        for ( i in 1:22356 ) {\n",
    "            if ( adopted[i] == 0 ) target += -lambda[i]*days_to_event[i];\n",
    "            if ( adopted[i] == 1 ) target += log(lambda[i]) - lambda[i]*days_to_event[i];\n",
    "        }\n",
    "        \n",
    "    }\n",
    "    generated quantities{\n",
    "        vector[22356] log_lik;\n",
    "        vector[22356] lambda;\n",
    "        for ( i in 1:22356 ) {\n",
    "            lambda[i] = 1/exp(a[in_event_id[i]]);\n",
    "        }\n",
    "        for ( i in 1:22356 ) {\n",
    "            if ( adopted[i] == 0 ) log_lik[i] = -lambda[i]*days_to_event[i];\n",
    "            if ( adopted[i] == 1 ) log_lik[i] = log(lambda[i]) - lambda[i]*days_to_event[i];\n",
    "        }\n",
    "    }\n",
    "\""
   ]
  },
  {
   "cell_type": "code",
   "execution_count": 150,
   "metadata": {
    "cell_style": "split",
    "hidden": true,
    "scrolled": true
   },
   "outputs": [
    {
     "name": "stderr",
     "output_type": "stream",
     "text": [
      "recompiling to avoid crashing R session\n"
     ]
    },
    {
     "name": "stdout",
     "output_type": "stream",
     "text": [
      "\n",
      "SAMPLING FOR MODEL 'ab66faa5897320f807097122098c007a' NOW (CHAIN 1).\n",
      "Chain 1: \n",
      "Chain 1: Gradient evaluation took 0.007 seconds\n",
      "Chain 1: 1000 transitions using 10 leapfrog steps per transition would take 70 seconds.\n",
      "Chain 1: Adjust your expectations accordingly!\n",
      "Chain 1: \n",
      "Chain 1: \n",
      "Chain 1: Iteration:    1 / 2000 [  0%]  (Warmup)\n",
      "Chain 1: Iteration:  200 / 2000 [ 10%]  (Warmup)\n",
      "Chain 1: Iteration:  400 / 2000 [ 20%]  (Warmup)\n",
      "Chain 1: Iteration:  600 / 2000 [ 30%]  (Warmup)\n",
      "Chain 1: Iteration:  800 / 2000 [ 40%]  (Warmup)\n",
      "Chain 1: Iteration: 1000 / 2000 [ 50%]  (Warmup)\n",
      "Chain 1: Iteration: 1001 / 2000 [ 50%]  (Sampling)\n",
      "Chain 1: Iteration: 1200 / 2000 [ 60%]  (Sampling)\n",
      "Chain 1: Iteration: 1400 / 2000 [ 70%]  (Sampling)\n",
      "Chain 1: Iteration: 1600 / 2000 [ 80%]  (Sampling)\n",
      "Chain 1: Iteration: 1800 / 2000 [ 90%]  (Sampling)\n",
      "Chain 1: Iteration: 2000 / 2000 [100%]  (Sampling)\n",
      "Chain 1: \n",
      "Chain 1:  Elapsed Time: 51.519 seconds (Warm-up)\n",
      "Chain 1:                35.04 seconds (Sampling)\n",
      "Chain 1:                86.559 seconds (Total)\n",
      "Chain 1: \n",
      "\n",
      "SAMPLING FOR MODEL 'ab66faa5897320f807097122098c007a' NOW (CHAIN 2).\n",
      "Chain 2: \n",
      "Chain 2: Gradient evaluation took 0 seconds\n",
      "Chain 2: 1000 transitions using 10 leapfrog steps per transition would take 0 seconds.\n",
      "Chain 2: Adjust your expectations accordingly!\n",
      "Chain 2: \n",
      "Chain 2: \n",
      "Chain 2: Iteration:    1 / 2000 [  0%]  (Warmup)\n",
      "Chain 2: Iteration:  200 / 2000 [ 10%]  (Warmup)\n",
      "Chain 2: Iteration:  400 / 2000 [ 20%]  (Warmup)\n",
      "Chain 2: Iteration:  600 / 2000 [ 30%]  (Warmup)\n",
      "Chain 2: Iteration:  800 / 2000 [ 40%]  (Warmup)\n",
      "Chain 2: Iteration: 1000 / 2000 [ 50%]  (Warmup)\n",
      "Chain 2: Iteration: 1001 / 2000 [ 50%]  (Sampling)\n",
      "Chain 2: Iteration: 1200 / 2000 [ 60%]  (Sampling)\n",
      "Chain 2: Iteration: 1400 / 2000 [ 70%]  (Sampling)\n",
      "Chain 2: Iteration: 1600 / 2000 [ 80%]  (Sampling)\n",
      "Chain 2: Iteration: 1800 / 2000 [ 90%]  (Sampling)\n",
      "Chain 2: Iteration: 2000 / 2000 [100%]  (Sampling)\n",
      "Chain 2: \n",
      "Chain 2:  Elapsed Time: 43.738 seconds (Warm-up)\n",
      "Chain 2:                35.844 seconds (Sampling)\n",
      "Chain 2:                79.582 seconds (Total)\n",
      "Chain 2: \n",
      "\n",
      "SAMPLING FOR MODEL 'ab66faa5897320f807097122098c007a' NOW (CHAIN 3).\n",
      "Error : cannot allocate vector of size 16 Kb\n",
      "character(0)\n",
      "[1] \"error occurred during calling the sampler; sampling not done\"\n",
      "Stan model 'ab66faa5897320f807097122098c007a' does not contain samples.\n"
     ]
    },
    {
     "data": {
      "text/html": [],
      "text/latex": [],
      "text/markdown": [],
      "text/plain": [
       "<0 x 0 matrix>"
      ]
     },
     "metadata": {},
     "output_type": "display_data"
    }
   ],
   "source": [
    "m11.14_stan_altb <- stan( model_code=m11.14_stan_altcodeb , data=dat , chains=4 )\n",
    "m11.14_stan_altb %>% precis(depth=2) %>% round(2)"
   ]
  },
  {
   "cell_type": "code",
   "execution_count": 151,
   "metadata": {
    "cell_style": "split",
    "hidden": true
   },
   "outputs": [
    {
     "name": "stdout",
     "output_type": "stream",
     "text": [
      "Stan model 'ab66faa5897320f807097122098c007a' does not contain samples.\n"
     ]
    }
   ],
   "source": [
    "post <- extract.samples( m11.14_stan_altb , clean=FALSE ) "
   ]
  },
  {
   "cell_type": "code",
   "execution_count": 152,
   "metadata": {
    "cell_style": "split",
    "hidden": true
   },
   "outputs": [
    {
     "name": "stdout",
     "output_type": "stream",
     "text": [
      " NULL\n"
     ]
    }
   ],
   "source": [
    "str(post)"
   ]
  },
  {
   "cell_type": "code",
   "execution_count": 136,
   "metadata": {
    "cell_style": "split",
    "hidden": true,
    "scrolled": true
   },
   "outputs": [],
   "source": [
    "post <- extract.samples( m11.14_stan_altb ) \n",
    "str(post)"
   ]
  },
  {
   "cell_type": "code",
   "execution_count": null,
   "metadata": {
    "cell_style": "split",
    "hidden": true
   },
   "outputs": [],
   "source": [
    "m11.14_stan_alt <- stan( model_code=m11.14_stan_altcode , data=dat , chains=4 )\n",
    "m11.14_stan_alt %>% precis(depth=2) %>% round(2)\n",
    "\n",
    "post <- extract.samples( m11.14_stan_alt , clean=FALSE ) \n",
    "str(post)\n",
    "post <- extract.samples( m11.14_stan_alt ) \n",
    "str(post)"
   ]
  },
  {
   "cell_type": "code",
   "execution_count": null,
   "metadata": {
    "hidden": true,
    "scrolled": false
   },
   "outputs": [],
   "source": [
    "precis( m11.14 , 2 ) %>% round(2)"
   ]
  },
  {
   "cell_type": "code",
   "execution_count": 10,
   "metadata": {
    "hidden": true
   },
   "outputs": [
    {
     "data": {
      "text/html": [
       "0.0174223746394935"
      ],
      "text/latex": [
       "0.0174223746394935"
      ],
      "text/markdown": [
       "0.0174223746394935"
      ],
      "text/plain": [
       "[1] 0.01742237"
      ]
     },
     "metadata": {},
     "output_type": "display_data"
    }
   ],
   "source": [
    "1/exp(4.05)\n",
    "exp(4.05)\n",
    "precis( post , 2 )[1,1]"
   ]
  },
  {
   "cell_type": "code",
   "execution_count": 144,
   "metadata": {
    "hidden": true,
    "scrolled": true
   },
   "outputs": [
    {
     "data": {
      "text/html": [
       "59.1174433970332"
      ],
      "text/latex": [
       "59.1174433970332"
      ],
      "text/markdown": [
       "59.1174433970332"
      ],
      "text/plain": [
       "[1] 59.11744"
      ]
     },
     "metadata": {},
     "output_type": "display_data"
    },
    {
     "data": {
      "text/html": [
       "56.7371928408239"
      ],
      "text/latex": [
       "56.7371928408239"
      ],
      "text/markdown": [
       "56.7371928408239"
      ],
      "text/plain": [
       "[1] 56.73719"
      ]
     },
     "metadata": {},
     "output_type": "display_data"
    }
   ],
   "source": [
    "post$D[1] %>% mean()\n",
    "post$D[2] %>% mean()"
   ]
  },
  {
   "cell_type": "code",
   "execution_count": 90,
   "metadata": {
    "collapsed": true,
    "hidden": true
   },
   "outputs": [
    {
     "data": {
      "image/png": "[encoded data removed]",
      "text/plain": [
       "Plot with title \"\""
      ]
     },
     "metadata": {},
     "output_type": "display_data"
    }
   ],
   "source": [
    "post$D %>% dens"
   ]
  },
  {
   "cell_type": "markdown",
   "metadata": {
    "heading_collapsed": true,
    "hidden": true
   },
   "source": [
    "###### Overthinking"
   ]
  },
  {
   "cell_type": "markdown",
   "metadata": {
    "hidden": true
   },
   "source": [
    "Overthinking: Custom distributions in Stan. <font color = 'blue'>The survival model above uses a custom probability assignment to define the complementary cumulative distribution for the censored cats</font>. \n",
    "\n",
    "<font color = 'lightgrey'>It is very easy to add any custom probability distribution this way. It will help to see what the strange custom distribution in ulam actual does in the Stan code, so you can go straight to Stan in the future. Focusing on the model block of stancode(m00):</font>"
   ]
  },
  {
   "cell_type": "markdown",
   "metadata": {
    "hidden": true
   },
   "source": [
    "<font color = 'blue'>The conditional statements create those two if statements</font>. And the custom distribution just adds the code you write, adding the `[i]` loop index to variables, to Stan’s target.\n",
    "\n",
    "**<font color = 'purple' style='background-color: lightyellow'>What is target?</font>** <font color = 'blue'>It is the logposterior that defines the surface our Hamiltonian simulation runs on</font>. \n",
    "\n",
    "* You add log-probability terms to it and Stan does all the automatic differentiation (back propagation) to figure out the curvature. \n",
    "\n",
    "<font color = 'green'>Any distribution statement like `y[i] ~ exponential(lambda[i])` is really just adding a term to target</font>. \n",
    "\n",
    "You could replace it with `target += exponential_lpdf(y[i]|lambda[i])`. The _lpdf means “log probability density function.”"
   ]
  },
  {
   "cell_type": "code",
   "execution_count": 158,
   "metadata": {
    "collapsed": true,
    "hidden": true
   },
   "outputs": [
    {
     "name": "stdout",
     "output_type": "stream",
     "text": [
      "data{\n",
      "    int adopted[22356];\n",
      "    int days_to_event[22356];\n",
      "    int color_id[22356];\n",
      "}\n",
      "parameters{\n",
      "    vector[2] a;\n",
      "}\n",
      "model{\n",
      "    vector[22356] lambda;\n",
      "    vector[22356] mu;\n",
      "    a ~ normal( 0 , 1 );\n",
      "    for ( i in 1:22356 ) {\n",
      "        mu[i] = a[color_id[i]];\n",
      "        mu[i] = exp(mu[i]);\n",
      "    }\n",
      "    for ( i in 1:22356 ) {\n",
      "        lambda[i] = 1/mu[i];\n",
      "    }\n",
      "    for ( i in 1:22356 ) \n",
      "        if ( adopted[i] == 0 ) target += exponential_lccdf(days_to_event[i] | lambda[i]);\n",
      "    for ( i in 1:22356 ) \n",
      "        if ( adopted[i] == 1 ) days_to_event[i] ~ exponential( lambda[i] );\n",
      "}\n",
      "\n"
     ]
    }
   ],
   "source": [
    "m11.14 %>% stancode"
   ]
  },
  {
   "cell_type": "markdown",
   "metadata": {
    "hidden": true
   },
   "source": [
    "To take this lesson to the next level, we can do away with built in distributions completely and code them using raw mathematical functions. The exponential probability density is just:\n",
    "\n",
    "$p(y|λ) = λ exp(−λy)$"
   ]
  },
  {
   "cell_type": "markdown",
   "metadata": {
    "hidden": true
   },
   "source": [
    "And the complementary cumulative distribution (which is one minus the cumulative) is just:\n",
    "\n",
    "$f(y|λ) = exp(−λy)$\n",
    "\n",
    "Yeah, they are very similar. Most distributions aren’t so easy as the exponential. But regardless of what these expressions look like, you can code them directly into Stan using basic functions. In this case, we could rewrite the model block with:\n",
    "\n"
   ]
  },
  {
   "cell_type": "raw",
   "metadata": {
    "hidden": true
   },
   "source": [
    "for ( i in 1:22356 ) {\n",
    "    if ( adopted[i] == 0 ) target += -lambda[i]*days_to_event[i];\n",
    "    if ( adopted[i] == 1 ) target += log(lambda[i]) - lambda[i]*days_to_event[i];\n",
    "}"
   ]
  },
  {
   "cell_type": "markdown",
   "metadata": {
    "hidden": true
   },
   "source": [
    "This is the same model. <font color = 'blue'>Using the built-in distributions has some speed advantages</font>, so usually you don’t want to do raw coding like this. But sometimes you need to, so it is worth understanding."
   ]
  },
  {
   "cell_type": "markdown",
   "metadata": {
    "heading_collapsed": true,
    "hidden": true
   },
   "source": [
    "###### Visualizations"
   ]
  },
  {
   "cell_type": "code",
   "execution_count": 14,
   "metadata": {
    "hidden": true
   },
   "outputs": [
    {
     "data": {
      "text/html": [
       "0.0174223746394935"
      ],
      "text/latex": [
       "0.0174223746394935"
      ],
      "text/markdown": [
       "0.0174223746394935"
      ],
      "text/plain": [
       "[1] 0.01742237"
      ]
     },
     "metadata": {},
     "output_type": "display_data"
    },
    {
     "data": {
      "text/html": [
       "57.3974570454462"
      ],
      "text/latex": [
       "57.3974570454462"
      ],
      "text/markdown": [
       "57.3974570454462"
      ],
      "text/plain": [
       "[1] 57.39746"
      ]
     },
     "metadata": {},
     "output_type": "display_data"
    }
   ],
   "source": [
    "1/exp(4.05)\n",
    "\n",
    "exp(4.05)"
   ]
  },
  {
   "cell_type": "code",
   "execution_count": 12,
   "metadata": {
    "cell_style": "center",
    "hidden": true
   },
   "outputs": [
    {
     "data": {
      "image/png": "[encoded data removed]",
      "text/plain": [
       "plot without title"
      ]
     },
     "metadata": {},
     "output_type": "display_data"
    },
    {
     "data": {
      "image/png": "[encoded data removed]",
      "text/plain": [
       "plot without title"
      ]
     },
     "metadata": {},
     "output_type": "display_data"
    },
    {
     "data": {
      "image/png": "[encoded data removed]",
      "text/plain": [
       "plot without title"
      ]
     },
     "metadata": {},
     "output_type": "display_data"
    }
   ],
   "source": [
    "l <- 1/exp(4.05)\n",
    "start <- 0\n",
    "end <- 100\n",
    "\n",
    "# density\n",
    "curve(dexp(x,l), from=start, to=end , \n",
    "      ylim=c(0,0.1) , xlab=\"day\" , ylab=\"Density\" )\n",
    "\n",
    "mtext( \"Probability adopted on day x\" )\n",
    "\n",
    "# cumulative density\n",
    "curve(1 - exp(-l*x), from=start, to=end ,\n",
    "      ylim=c(0,1) , xlab=\"day\" , ylab=\"probability\" )\n",
    "mtext( \"Probability adopted by day x\" )\n",
    "\n",
    "# complementary cumulative density\n",
    "curve( exp(-l*x) , from=start, to=end ,\n",
    "      ylim=c(0,1) , xlab=\"day\" , ylab=\"probability\" )\n",
    "mtext( \"Probability not adopted by day x\" )"
   ]
  },
  {
   "cell_type": "code",
   "execution_count": 198,
   "metadata": {
    "cell_style": "split",
    "hidden": true,
    "scrolled": true
   },
   "outputs": [
    {
     "data": {
      "image/png": "[encoded data removed]",
      "text/plain": [
       "plot without title"
      ]
     },
     "metadata": {},
     "output_type": "display_data"
    },
    {
     "data": {
      "image/png": "[encoded data removed]",
      "text/plain": [
       "plot without title"
      ]
     },
     "metadata": {},
     "output_type": "display_data"
    },
    {
     "data": {
      "image/png": "[encoded data removed]",
      "text/plain": [
       "plot without title"
      ]
     },
     "metadata": {},
     "output_type": "display_data"
    }
   ],
   "source": [
    "l <- 0.02065057\n",
    "# density\n",
    "curve(dexp(x,l) ,from=0, to=100 , \n",
    "      ylim=c(0,0.1) , xlab=\"day\" , ylab=\"Density\" )\n",
    "\n",
    "mtext( \"Probability adopted on day x\" )\n",
    "\n",
    "# cumulative density\n",
    "curve(1 - exp(-l*x) , from=0, to=100 , \n",
    "      ylim=c(0,1) , xlab=\"day\" , ylab=\"probability\" )\n",
    "mtext( \"Probability adopted by day x\" )\n",
    "\n",
    "# complementary cumulative density\n",
    "curve( exp(-l*x) , from=0, to=100 , \n",
    "      ylim=c(0,1) , xlab=\"day\" , ylab=\"probability\" )\n",
    "mtext( \"Probability not adopted by day x\" )"
   ]
  },
  {
   "cell_type": "code",
   "execution_count": 166,
   "metadata": {
    "collapsed": true,
    "hidden": true
   },
   "outputs": [
    {
     "data": {
      "image/png": "[encoded data removed]",
      "text/plain": [
       "Plot with title \"\""
      ]
     },
     "metadata": {},
     "output_type": "display_data"
    }
   ],
   "source": [
    "N <- 4.05069589\n",
    "x <- replicate( 1e5 , min(runif(N,1,100)) )\n",
    "\n",
    "x %>% dens"
   ]
  },
  {
   "cell_type": "code",
   "execution_count": 91,
   "metadata": {
    "collapsed": true,
    "hidden": true
   },
   "outputs": [
    {
     "data": {
      "image/png": "[encoded data removed]",
      "text/plain": [
       "plot without title"
      ]
     },
     "metadata": {},
     "output_type": "display_data"
    }
   ],
   "source": [
    "plot( NULL , type=\"n\" , xlab=\"days\" , ylab=\"probability\" ,\n",
    "xlim=c(0,1) , ylim=c(0,1) , xaxp=c(0,1,1) , yaxp=c(0,1,2) )"
   ]
  },
  {
   "cell_type": "code",
   "execution_count": 71,
   "metadata": {
    "cell_style": "split",
    "hidden": true
   },
   "outputs": [
    {
     "data": {
      "image/png": "[encoded data removed]",
      "text/plain": [
       "Plot with title \"\""
      ]
     },
     "metadata": {},
     "output_type": "display_data"
    }
   ],
   "source": [
    "post$D[,1] %>% dens()"
   ]
  },
  {
   "cell_type": "code",
   "execution_count": 72,
   "metadata": {
    "cell_style": "split",
    "collapsed": true,
    "hidden": true
   },
   "outputs": [
    {
     "data": {
      "image/png": "[encoded data removed]",
      "text/plain": [
       "Plot with title \"\""
      ]
     },
     "metadata": {},
     "output_type": "display_data"
    }
   ],
   "source": [
    "post$D[,2] %>% dens()"
   ]
  },
  {
   "cell_type": "code",
   "execution_count": 119,
   "metadata": {
    "hidden": true
   },
   "outputs": [
    {
     "data": {
      "text/html": [
       "57.4565906337612"
      ],
      "text/latex": [
       "57.4565906337612"
      ],
      "text/markdown": [
       "57.4565906337612"
      ],
      "text/plain": [
       "[1] 57.45659"
      ]
     },
     "metadata": {},
     "output_type": "display_data"
    }
   ],
   "source": [
    "post$D[,1] %>% mean()"
   ]
  },
  {
   "cell_type": "code",
   "execution_count": 117,
   "metadata": {
    "cell_style": "center",
    "collapsed": true,
    "hidden": true
   },
   "outputs": [
    {
     "name": "stderr",
     "output_type": "stream",
     "text": [
      "Warning message in 50:1:63:\n",
      "\"numerical expression has 50 elements: only the first used\""
     ]
    },
    {
     "data": {
      "image/png": "[encoded data removed]",
      "text/plain": [
       "plot without title"
      ]
     },
     "metadata": {},
     "output_type": "display_data"
    }
   ],
   "source": [
    "pr_d <- (post$D[,1] %>% table())/length(post$D[,1])\n",
    "\n",
    "cum_pr_d <- pr_d %>% cumsum()\n",
    "\n",
    "# cum_pr_d %>% plot()\n",
    "\n",
    "plot(50:1:63, type='b', xlab=\"days\",\n",
    "ylab=\"cumulative proportion\")"
   ]
  },
  {
   "cell_type": "markdown",
   "metadata": {},
   "source": [
    "#### <font color = 'blue'>Log_lik buffer</font>"
   ]
  },
  {
   "cell_type": "code",
   "execution_count": 2,
   "metadata": {},
   "outputs": [],
   "source": [
    "data(AustinCats)\n",
    "d <- AustinCats"
   ]
  },
  {
   "cell_type": "code",
   "execution_count": 3,
   "metadata": {},
   "outputs": [],
   "source": [
    "dat <- list(\n",
    "    days_to_event = as.integer( d$days_to_event ),\n",
    "    color_id = ifelse( d$color==\"Black\" , 1L , 2L ) ,\n",
    "    adopted = ifelse( d$out_event==\"Adoption\" , 1L , 0L )\n",
    ")"
   ]
  },
  {
   "cell_type": "code",
   "execution_count": 184,
   "metadata": {
    "code_folding": [
     0
    ]
   },
   "outputs": [],
   "source": [
    "# m11.14_stan_altcode works\n",
    "m11.14_stan_altcode <- \"\n",
    "    data{\n",
    "        int adopted[22356];\n",
    "        int days_to_event[22356];\n",
    "        int color_id[22356];\n",
    "    }\n",
    "    parameters{\n",
    "        vector[2] a;\n",
    "    }\n",
    "    model{\n",
    "        vector[22356] lambda;\n",
    "        vector[22356] mu;\n",
    "        a ~ normal( 0 , 1 );\n",
    "        for ( i in 1:22356 ) {\n",
    "            mu[i] = a[color_id[i]];\n",
    "            mu[i] = exp(mu[i]);\n",
    "            lambda[i] = 1/mu[i];\n",
    "        }\n",
    "        for ( i in 1:22356 ) {\n",
    "            if ( adopted[i] == 0 ) target += -lambda[i]*days_to_event[i];\n",
    "            if ( adopted[i] == 1 ) target += log(lambda[i]) - lambda[i]*days_to_event[i];\n",
    "        }\n",
    "        \n",
    "    }\n",
    "    generated quantities{\n",
    "        vector[22356] log_lik;\n",
    "        vector[22356] lambda;\n",
    "        vector[22356] mu;\n",
    "        for ( i in 1:22356 ) {\n",
    "            mu[i] = a[color_id[i]];\n",
    "            mu[i] = exp(mu[i]);\n",
    "            lambda[i] = 1/mu[i];\n",
    "        }\n",
    "        for ( i in 1:22356 ) {\n",
    "            if ( adopted[i] == 0 ) log_lik[i] = exponential_lccdf( days_to_event[i] | lambda[i] );\n",
    "            if ( adopted[i] == 1 ) log_lik[i] = exponential_lpdf( days_to_event[i] | lambda[i] );\n",
    "        }\n",
    "    }\n",
    "\""
   ]
  },
  {
   "cell_type": "code",
   "execution_count": 186,
   "metadata": {
    "code_folding": [
     0
    ]
   },
   "outputs": [],
   "source": [
    "# m11.14_stan_altcode works\n",
    "m11.14_stan_altcode <- \"\n",
    "    data{\n",
    "        int adopted[22356];\n",
    "        int days_to_event[22356];\n",
    "        int color_id[22356];\n",
    "    }\n",
    "    parameters{\n",
    "        vector[2] a;\n",
    "    }\n",
    "    model{\n",
    "        real lambda;\n",
    "        real mu;\n",
    "        a ~ normal( 0 , 1 );\n",
    "        for ( i in 1:22356 ) {\n",
    "            mu = a[color_id[i]];\n",
    "            mu = exp(mu);\n",
    "            lambda = 1/mu;\n",
    "        }\n",
    "        for ( i in 1:22356 ) {\n",
    "            if ( adopted[i] == 0 ) target += -lambda*days_to_event[i];\n",
    "            if ( adopted[i] == 1 ) target += log(lambda) - lambda*days_to_event[i];\n",
    "        }\n",
    "        \n",
    "    }\n",
    "    generated quantities{\n",
    "        vector[22356] log_lik;\n",
    "        real lambda;\n",
    "        real mu;\n",
    "        for ( i in 1:22356 ) {\n",
    "            mu = a[color_id[i]];\n",
    "            mu = exp(mu);\n",
    "            lambda = 1/mu;\n",
    "        }\n",
    "        for ( i in 1:22356 ) {\n",
    "            if ( adopted[i] == 0 ) log_lik[i] = exponential_lccdf( days_to_event[i] | lambda );\n",
    "            if ( adopted[i] == 1 ) log_lik[i] = exponential_lpdf( days_to_event[i] | lambda );\n",
    "        }\n",
    "    }\n",
    "\""
   ]
  },
  {
   "cell_type": "code",
   "execution_count": 4,
   "metadata": {},
   "outputs": [],
   "source": [
    "m11.14_stan_altcode <- \"\n",
    "    data{\n",
    "        int adopted[22356];\n",
    "        int days_to_event[22356];\n",
    "        int color_id[22356];\n",
    "    }\n",
    "    parameters{\n",
    "        vector[2] a;\n",
    "    }\n",
    "    transformed parameters {\n",
    "        vector[22356] lambda;\n",
    "        vector[22356] mu;\n",
    "        \n",
    "        for ( i in 1:22356 ) {\n",
    "            mu[i] = a[color_id[i]];\n",
    "            mu[i] = exp(mu[i]);\n",
    "            lambda[i] = 1/mu[i];\n",
    "        }\n",
    "    }\n",
    "    model{\n",
    "        a ~ normal( 0 , 1 );\n",
    "        for ( i in 1:22356 ) {\n",
    "            if ( adopted[i] == 0 ) target += exponential_lccdf(days_to_event[i] | lambda[i]);\n",
    "            if ( adopted[i] == 1 ) days_to_event[i] ~ exponential(lambda[i]);\n",
    "        }\n",
    "    }\n",
    "    generated quantities {\n",
    "        vector[22356] log_lik;\n",
    "        for ( i in 1:22356 ) {\n",
    "            if ( adopted[i] == 0 ) log_lik[i] = exponential_lccdf(days_to_event[i] | lambda[i]);\n",
    "            if ( adopted[i] == 1 ) log_lik[i] = exponential_lpdf(days_to_event[i] | lambda[i]);\n",
    "        }\n",
    "    }\n",
    "\""
   ]
  },
  {
   "cell_type": "code",
   "execution_count": 5,
   "metadata": {
    "collapsed": true
   },
   "outputs": [
    {
     "name": "stdout",
     "output_type": "stream",
     "text": [
      "\n",
      "SAMPLING FOR MODEL 'c90b36c26c55631057e3b271b6714b01' NOW (CHAIN 1).\n",
      "Chain 1: \n",
      "Chain 1: Gradient evaluation took 0.016 seconds\n",
      "Chain 1: 1000 transitions using 10 leapfrog steps per transition would take 160 seconds.\n",
      "Chain 1: Adjust your expectations accordingly!\n",
      "Chain 1: \n",
      "Chain 1: \n",
      "Chain 1: Iteration:    1 / 2000 [  0%]  (Warmup)\n",
      "Chain 1: Iteration:  200 / 2000 [ 10%]  (Warmup)\n",
      "Chain 1: Iteration:  400 / 2000 [ 20%]  (Warmup)\n",
      "Chain 1: Iteration:  600 / 2000 [ 30%]  (Warmup)\n",
      "Chain 1: Iteration:  800 / 2000 [ 40%]  (Warmup)\n",
      "Chain 1: Iteration: 1000 / 2000 [ 50%]  (Warmup)\n",
      "Chain 1: Iteration: 1001 / 2000 [ 50%]  (Sampling)\n",
      "Chain 1: Iteration: 1200 / 2000 [ 60%]  (Sampling)\n",
      "Chain 1: Iteration: 1400 / 2000 [ 70%]  (Sampling)\n",
      "Chain 1: Iteration: 1600 / 2000 [ 80%]  (Sampling)\n",
      "Chain 1: Iteration: 1800 / 2000 [ 90%]  (Sampling)\n",
      "Chain 1: Iteration: 2000 / 2000 [100%]  (Sampling)\n",
      "Chain 1: \n",
      "Chain 1:  Elapsed Time: 26.968 seconds (Warm-up)\n",
      "Chain 1:                31.859 seconds (Sampling)\n",
      "Chain 1:                58.827 seconds (Total)\n",
      "Chain 1: \n",
      "\n",
      "SAMPLING FOR MODEL 'c90b36c26c55631057e3b271b6714b01' NOW (CHAIN 2).\n",
      "Chain 2: \n",
      "Chain 2: Gradient evaluation took 0 seconds\n",
      "Chain 2: 1000 transitions using 10 leapfrog steps per transition would take 0 seconds.\n",
      "Chain 2: Adjust your expectations accordingly!\n",
      "Chain 2: \n",
      "Chain 2: \n",
      "Chain 2: Iteration:    1 / 2000 [  0%]  (Warmup)\n",
      "Chain 2: Iteration:  200 / 2000 [ 10%]  (Warmup)\n",
      "Chain 2: Iteration:  400 / 2000 [ 20%]  (Warmup)\n",
      "Chain 2: Iteration:  600 / 2000 [ 30%]  (Warmup)\n",
      "Chain 2: Iteration:  800 / 2000 [ 40%]  (Warmup)\n",
      "Chain 2: Iteration: 1000 / 2000 [ 50%]  (Warmup)\n",
      "Chain 2: Iteration: 1001 / 2000 [ 50%]  (Sampling)\n",
      "Chain 2: Iteration: 1200 / 2000 [ 60%]  (Sampling)\n",
      "Chain 2: Iteration: 1400 / 2000 [ 70%]  (Sampling)\n",
      "Chain 2: Iteration: 1600 / 2000 [ 80%]  (Sampling)\n",
      "Chain 2: Iteration: 1800 / 2000 [ 90%]  (Sampling)\n",
      "Chain 2: Iteration: 2000 / 2000 [100%]  (Sampling)\n",
      "Chain 2: \n",
      "Chain 2:  Elapsed Time: 26.202 seconds (Warm-up)\n",
      "Chain 2:                38.213 seconds (Sampling)\n",
      "Chain 2:                64.415 seconds (Total)\n",
      "Chain 2: \n",
      "\n",
      "SAMPLING FOR MODEL 'c90b36c26c55631057e3b271b6714b01' NOW (CHAIN 3).\n",
      "Chain 3: \n",
      "Chain 3: Gradient evaluation took 0 seconds\n",
      "Chain 3: 1000 transitions using 10 leapfrog steps per transition would take 0 seconds.\n",
      "Chain 3: Adjust your expectations accordingly!\n",
      "Chain 3: \n",
      "Chain 3: \n",
      "Chain 3: Iteration:    1 / 2000 [  0%]  (Warmup)\n",
      "Chain 3: Iteration:  200 / 2000 [ 10%]  (Warmup)\n",
      "Chain 3: Iteration:  400 / 2000 [ 20%]  (Warmup)\n",
      "Chain 3: Iteration:  600 / 2000 [ 30%]  (Warmup)\n",
      "Chain 3: Iteration:  800 / 2000 [ 40%]  (Warmup)\n",
      "Chain 3: Iteration: 1000 / 2000 [ 50%]  (Warmup)\n",
      "Chain 3: Iteration: 1001 / 2000 [ 50%]  (Sampling)\n",
      "Chain 3: Iteration: 1200 / 2000 [ 60%]  (Sampling)\n",
      "Chain 3: Iteration: 1400 / 2000 [ 70%]  (Sampling)\n",
      "Chain 3: Iteration: 1600 / 2000 [ 80%]  (Sampling)\n",
      "Chain 3: Iteration: 1800 / 2000 [ 90%]  (Sampling)\n",
      "Chain 3: Iteration: 2000 / 2000 [100%]  (Sampling)\n",
      "Chain 3: \n",
      "Chain 3:  Elapsed Time: 27.257 seconds (Warm-up)\n",
      "Chain 3:                36.87 seconds (Sampling)\n",
      "Chain 3:                64.127 seconds (Total)\n",
      "Chain 3: \n",
      "\n",
      "SAMPLING FOR MODEL 'c90b36c26c55631057e3b271b6714b01' NOW (CHAIN 4).\n",
      "Chain 4: \n",
      "Chain 4: Gradient evaluation took 0.016 seconds\n",
      "Chain 4: 1000 transitions using 10 leapfrog steps per transition would take 160 seconds.\n",
      "Chain 4: Adjust your expectations accordingly!\n",
      "Chain 4: \n",
      "Chain 4: \n",
      "Chain 4: Iteration:    1 / 2000 [  0%]  (Warmup)\n",
      "Chain 4: Iteration:  200 / 2000 [ 10%]  (Warmup)\n",
      "Chain 4: Iteration:  400 / 2000 [ 20%]  (Warmup)\n",
      "Chain 4: Iteration:  600 / 2000 [ 30%]  (Warmup)\n",
      "Chain 4: Iteration:  800 / 2000 [ 40%]  (Warmup)\n",
      "Chain 4: Iteration: 1000 / 2000 [ 50%]  (Warmup)\n",
      "Chain 4: Iteration: 1001 / 2000 [ 50%]  (Sampling)\n",
      "Chain 4: Iteration: 1200 / 2000 [ 60%]  (Sampling)\n",
      "Chain 4: Iteration: 1400 / 2000 [ 70%]  (Sampling)\n",
      "Chain 4: Iteration: 1600 / 2000 [ 80%]  (Sampling)\n",
      "Chain 4: Iteration: 1800 / 2000 [ 90%]  (Sampling)\n",
      "Chain 4: Iteration: 2000 / 2000 [100%]  (Sampling)\n",
      "Chain 4: \n",
      "Chain 4:  Elapsed Time: 27.695 seconds (Warm-up)\n",
      "Chain 4:                34.245 seconds (Sampling)\n",
      "Chain 4:                61.94 seconds (Total)\n",
      "Chain 4: \n"
     ]
    }
   ],
   "source": [
    "m11.14_stan_alt <- stan( model_code=m11.14_stan_altcode , data=dat , chains=4 )"
   ]
  },
  {
   "cell_type": "code",
   "execution_count": 6,
   "metadata": {
    "collapsed": true
   },
   "outputs": [
    {
     "data": {
      "text/html": [
       "<table>\n",
       "<thead><tr><th></th><th scope=col>mean</th><th scope=col>sd</th><th scope=col>5.5%</th><th scope=col>94.5%</th><th scope=col>n_eff</th><th scope=col>Rhat</th></tr></thead>\n",
       "<tbody>\n",
       "\t<tr><th scope=row>a[1]</th><td>4.05   </td><td>0.03   </td><td>4.01   </td><td>4.09   </td><td>3137.07</td><td>1      </td></tr>\n",
       "\t<tr><th scope=row>a[2]</th><td>3.88   </td><td>0.01   </td><td>3.86   </td><td>3.90   </td><td>3060.59</td><td>1      </td></tr>\n",
       "\t<tr><th scope=row>lambda[1]</th><td>0.02   </td><td>0.00   </td><td>0.02   </td><td>0.02   </td><td>3056.59</td><td>1      </td></tr>\n",
       "\t<tr><th scope=row>lambda[2]</th><td>0.02   </td><td>0.00   </td><td>0.02   </td><td>0.02   </td><td>3056.59</td><td>1      </td></tr>\n",
       "\t<tr><th scope=row>lambda[3]</th><td>0.02   </td><td>0.00   </td><td>0.02   </td><td>0.02   </td><td>3056.59</td><td>1      </td></tr>\n",
       "\t<tr><th scope=row>lambda[4]</th><td>0.02   </td><td>0.00   </td><td>0.02   </td><td>0.02   </td><td>3056.59</td><td>1      </td></tr>\n",
       "\t<tr><th scope=row>lambda[5]</th><td>0.02   </td><td>0.00   </td><td>0.02   </td><td>0.02   </td><td>3056.59</td><td>1      </td></tr>\n",
       "\t<tr><th scope=row>lambda[6]</th><td>0.02   </td><td>0.00   </td><td>0.02   </td><td>0.02   </td><td>3056.59</td><td>1      </td></tr>\n",
       "\t<tr><th scope=row>lambda[7]</th><td>0.02   </td><td>0.00   </td><td>0.02   </td><td>0.02   </td><td>3056.59</td><td>1      </td></tr>\n",
       "\t<tr><th scope=row>lambda[8]</th><td>0.02   </td><td>0.00   </td><td>0.02   </td><td>0.02   </td><td>3056.59</td><td>1      </td></tr>\n",
       "\t<tr><th scope=row>lambda[9]</th><td>0.02   </td><td>0.00   </td><td>0.02   </td><td>0.02   </td><td>3056.59</td><td>1      </td></tr>\n",
       "\t<tr><th scope=row>lambda[10]</th><td>0.02   </td><td>0.00   </td><td>0.02   </td><td>0.02   </td><td>3056.59</td><td>1      </td></tr>\n",
       "\t<tr><th scope=row>lambda[11]</th><td>0.02   </td><td>0.00   </td><td>0.02   </td><td>0.02   </td><td>3056.59</td><td>1      </td></tr>\n",
       "\t<tr><th scope=row>lambda[12]</th><td>0.02   </td><td>0.00   </td><td>0.02   </td><td>0.02   </td><td>3056.59</td><td>1      </td></tr>\n",
       "\t<tr><th scope=row>lambda[13]</th><td>0.02   </td><td>0.00   </td><td>0.02   </td><td>0.02   </td><td>3056.59</td><td>1      </td></tr>\n",
       "\t<tr><th scope=row>lambda[14]</th><td>0.02   </td><td>0.00   </td><td>0.02   </td><td>0.02   </td><td>3056.59</td><td>1      </td></tr>\n",
       "\t<tr><th scope=row>lambda[15]</th><td>0.02   </td><td>0.00   </td><td>0.02   </td><td>0.02   </td><td>3056.59</td><td>1      </td></tr>\n",
       "\t<tr><th scope=row>lambda[16]</th><td>0.02   </td><td>0.00   </td><td>0.02   </td><td>0.02   </td><td>3134.59</td><td>1      </td></tr>\n",
       "\t<tr><th scope=row>lambda[17]</th><td>0.02   </td><td>0.00   </td><td>0.02   </td><td>0.02   </td><td>3134.59</td><td>1      </td></tr>\n",
       "\t<tr><th scope=row>lambda[18]</th><td>0.02   </td><td>0.00   </td><td>0.02   </td><td>0.02   </td><td>3134.59</td><td>1      </td></tr>\n",
       "\t<tr><th scope=row>lambda[19]</th><td>0.02   </td><td>0.00   </td><td>0.02   </td><td>0.02   </td><td>3056.59</td><td>1      </td></tr>\n",
       "\t<tr><th scope=row>lambda[20]</th><td>0.02   </td><td>0.00   </td><td>0.02   </td><td>0.02   </td><td>3056.59</td><td>1      </td></tr>\n",
       "\t<tr><th scope=row>lambda[21]</th><td>0.02   </td><td>0.00   </td><td>0.02   </td><td>0.02   </td><td>3056.59</td><td>1      </td></tr>\n",
       "\t<tr><th scope=row>lambda[22]</th><td>0.02   </td><td>0.00   </td><td>0.02   </td><td>0.02   </td><td>3056.59</td><td>1      </td></tr>\n",
       "\t<tr><th scope=row>lambda[23]</th><td>0.02   </td><td>0.00   </td><td>0.02   </td><td>0.02   </td><td>3056.59</td><td>1      </td></tr>\n",
       "\t<tr><th scope=row>lambda[24]</th><td>0.02   </td><td>0.00   </td><td>0.02   </td><td>0.02   </td><td>3056.59</td><td>1      </td></tr>\n",
       "\t<tr><th scope=row>lambda[25]</th><td>0.02   </td><td>0.00   </td><td>0.02   </td><td>0.02   </td><td>3056.59</td><td>1      </td></tr>\n",
       "\t<tr><th scope=row>lambda[26]</th><td>0.02   </td><td>0.00   </td><td>0.02   </td><td>0.02   </td><td>3056.59</td><td>1      </td></tr>\n",
       "\t<tr><th scope=row>lambda[27]</th><td>0.02   </td><td>0.00   </td><td>0.02   </td><td>0.02   </td><td>3056.59</td><td>1      </td></tr>\n",
       "\t<tr><th scope=row>lambda[28]</th><td>0.02   </td><td>0.00   </td><td>0.02   </td><td>0.02   </td><td>3134.59</td><td>1      </td></tr>\n",
       "\t<tr><th scope=row>...</th><td>...</td><td>...</td><td>...</td><td>...</td><td>...</td><td>...</td></tr>\n",
       "\t<tr><th scope=row>mu[22327]</th><td>48.42  </td><td>0.50   </td><td>47.64  </td><td>49.21  </td><td>3064.38</td><td>1      </td></tr>\n",
       "\t<tr><th scope=row>mu[22328]</th><td>48.42  </td><td>0.50   </td><td>47.64  </td><td>49.21  </td><td>3064.38</td><td>1      </td></tr>\n",
       "\t<tr><th scope=row>mu[22329]</th><td>48.42  </td><td>0.50   </td><td>47.64  </td><td>49.21  </td><td>3064.38</td><td>1      </td></tr>\n",
       "\t<tr><th scope=row>mu[22330]</th><td>48.42  </td><td>0.50   </td><td>47.64  </td><td>49.21  </td><td>3064.38</td><td>1      </td></tr>\n",
       "\t<tr><th scope=row>mu[22331]</th><td>48.42  </td><td>0.50   </td><td>47.64  </td><td>49.21  </td><td>3064.38</td><td>1      </td></tr>\n",
       "\t<tr><th scope=row>mu[22332]</th><td>48.42  </td><td>0.50   </td><td>47.64  </td><td>49.21  </td><td>3064.38</td><td>1      </td></tr>\n",
       "\t<tr><th scope=row>mu[22333]</th><td>48.42  </td><td>0.50   </td><td>47.64  </td><td>49.21  </td><td>3064.38</td><td>1      </td></tr>\n",
       "\t<tr><th scope=row>mu[22334]</th><td>48.42  </td><td>0.50   </td><td>47.64  </td><td>49.21  </td><td>3064.38</td><td>1      </td></tr>\n",
       "\t<tr><th scope=row>mu[22335]</th><td>57.43  </td><td>1.51   </td><td>55.06  </td><td>59.87  </td><td>3138.27</td><td>1      </td></tr>\n",
       "\t<tr><th scope=row>mu[22336]</th><td>48.42  </td><td>0.50   </td><td>47.64  </td><td>49.21  </td><td>3064.38</td><td>1      </td></tr>\n",
       "\t<tr><th scope=row>mu[22337]</th><td>57.43  </td><td>1.51   </td><td>55.06  </td><td>59.87  </td><td>3138.27</td><td>1      </td></tr>\n",
       "\t<tr><th scope=row>mu[22338]</th><td>48.42  </td><td>0.50   </td><td>47.64  </td><td>49.21  </td><td>3064.38</td><td>1      </td></tr>\n",
       "\t<tr><th scope=row>mu[22339]</th><td>48.42  </td><td>0.50   </td><td>47.64  </td><td>49.21  </td><td>3064.38</td><td>1      </td></tr>\n",
       "\t<tr><th scope=row>mu[22340]</th><td>48.42  </td><td>0.50   </td><td>47.64  </td><td>49.21  </td><td>3064.38</td><td>1      </td></tr>\n",
       "\t<tr><th scope=row>mu[22341]</th><td>48.42  </td><td>0.50   </td><td>47.64  </td><td>49.21  </td><td>3064.38</td><td>1      </td></tr>\n",
       "\t<tr><th scope=row>mu[22342]</th><td>48.42  </td><td>0.50   </td><td>47.64  </td><td>49.21  </td><td>3064.38</td><td>1      </td></tr>\n",
       "\t<tr><th scope=row>mu[22343]</th><td>48.42  </td><td>0.50   </td><td>47.64  </td><td>49.21  </td><td>3064.38</td><td>1      </td></tr>\n",
       "\t<tr><th scope=row>mu[22344]</th><td>57.43  </td><td>1.51   </td><td>55.06  </td><td>59.87  </td><td>3138.27</td><td>1      </td></tr>\n",
       "\t<tr><th scope=row>mu[22345]</th><td>48.42  </td><td>0.50   </td><td>47.64  </td><td>49.21  </td><td>3064.38</td><td>1      </td></tr>\n",
       "\t<tr><th scope=row>mu[22346]</th><td>48.42  </td><td>0.50   </td><td>47.64  </td><td>49.21  </td><td>3064.38</td><td>1      </td></tr>\n",
       "\t<tr><th scope=row>mu[22347]</th><td>48.42  </td><td>0.50   </td><td>47.64  </td><td>49.21  </td><td>3064.38</td><td>1      </td></tr>\n",
       "\t<tr><th scope=row>mu[22348]</th><td>57.43  </td><td>1.51   </td><td>55.06  </td><td>59.87  </td><td>3138.27</td><td>1      </td></tr>\n",
       "\t<tr><th scope=row>mu[22349]</th><td>48.42  </td><td>0.50   </td><td>47.64  </td><td>49.21  </td><td>3064.38</td><td>1      </td></tr>\n",
       "\t<tr><th scope=row>mu[22350]</th><td>48.42  </td><td>0.50   </td><td>47.64  </td><td>49.21  </td><td>3064.38</td><td>1      </td></tr>\n",
       "\t<tr><th scope=row>mu[22351]</th><td>48.42  </td><td>0.50   </td><td>47.64  </td><td>49.21  </td><td>3064.38</td><td>1      </td></tr>\n",
       "\t<tr><th scope=row>mu[22352]</th><td>48.42  </td><td>0.50   </td><td>47.64  </td><td>49.21  </td><td>3064.38</td><td>1      </td></tr>\n",
       "\t<tr><th scope=row>mu[22353]</th><td>48.42  </td><td>0.50   </td><td>47.64  </td><td>49.21  </td><td>3064.38</td><td>1      </td></tr>\n",
       "\t<tr><th scope=row>mu[22354]</th><td>48.42  </td><td>0.50   </td><td>47.64  </td><td>49.21  </td><td>3064.38</td><td>1      </td></tr>\n",
       "\t<tr><th scope=row>mu[22355]</th><td>48.42  </td><td>0.50   </td><td>47.64  </td><td>49.21  </td><td>3064.38</td><td>1      </td></tr>\n",
       "\t<tr><th scope=row>mu[22356]</th><td>48.42  </td><td>0.50   </td><td>47.64  </td><td>49.21  </td><td>3064.38</td><td>1      </td></tr>\n",
       "</tbody>\n",
       "</table>\n"
      ],
      "text/latex": [
       "\\begin{tabular}{r|llllll}\n",
       "  & mean & sd & 5.5\\% & 94.5\\% & n\\_eff & Rhat\\\\\n",
       "\\hline\n",
       "\ta{[}1{]} & 4.05    & 0.03    & 4.01    & 4.09    & 3137.07 & 1      \\\\\n",
       "\ta{[}2{]} & 3.88    & 0.01    & 3.86    & 3.90    & 3060.59 & 1      \\\\\n",
       "\tlambda{[}1{]} & 0.02    & 0.00    & 0.02    & 0.02    & 3056.59 & 1      \\\\\n",
       "\tlambda{[}2{]} & 0.02    & 0.00    & 0.02    & 0.02    & 3056.59 & 1      \\\\\n",
       "\tlambda{[}3{]} & 0.02    & 0.00    & 0.02    & 0.02    & 3056.59 & 1      \\\\\n",
       "\tlambda{[}4{]} & 0.02    & 0.00    & 0.02    & 0.02    & 3056.59 & 1      \\\\\n",
       "\tlambda{[}5{]} & 0.02    & 0.00    & 0.02    & 0.02    & 3056.59 & 1      \\\\\n",
       "\tlambda{[}6{]} & 0.02    & 0.00    & 0.02    & 0.02    & 3056.59 & 1      \\\\\n",
       "\tlambda{[}7{]} & 0.02    & 0.00    & 0.02    & 0.02    & 3056.59 & 1      \\\\\n",
       "\tlambda{[}8{]} & 0.02    & 0.00    & 0.02    & 0.02    & 3056.59 & 1      \\\\\n",
       "\tlambda{[}9{]} & 0.02    & 0.00    & 0.02    & 0.02    & 3056.59 & 1      \\\\\n",
       "\tlambda{[}10{]} & 0.02    & 0.00    & 0.02    & 0.02    & 3056.59 & 1      \\\\\n",
       "\tlambda{[}11{]} & 0.02    & 0.00    & 0.02    & 0.02    & 3056.59 & 1      \\\\\n",
       "\tlambda{[}12{]} & 0.02    & 0.00    & 0.02    & 0.02    & 3056.59 & 1      \\\\\n",
       "\tlambda{[}13{]} & 0.02    & 0.00    & 0.02    & 0.02    & 3056.59 & 1      \\\\\n",
       "\tlambda{[}14{]} & 0.02    & 0.00    & 0.02    & 0.02    & 3056.59 & 1      \\\\\n",
       "\tlambda{[}15{]} & 0.02    & 0.00    & 0.02    & 0.02    & 3056.59 & 1      \\\\\n",
       "\tlambda{[}16{]} & 0.02    & 0.00    & 0.02    & 0.02    & 3134.59 & 1      \\\\\n",
       "\tlambda{[}17{]} & 0.02    & 0.00    & 0.02    & 0.02    & 3134.59 & 1      \\\\\n",
       "\tlambda{[}18{]} & 0.02    & 0.00    & 0.02    & 0.02    & 3134.59 & 1      \\\\\n",
       "\tlambda{[}19{]} & 0.02    & 0.00    & 0.02    & 0.02    & 3056.59 & 1      \\\\\n",
       "\tlambda{[}20{]} & 0.02    & 0.00    & 0.02    & 0.02    & 3056.59 & 1      \\\\\n",
       "\tlambda{[}21{]} & 0.02    & 0.00    & 0.02    & 0.02    & 3056.59 & 1      \\\\\n",
       "\tlambda{[}22{]} & 0.02    & 0.00    & 0.02    & 0.02    & 3056.59 & 1      \\\\\n",
       "\tlambda{[}23{]} & 0.02    & 0.00    & 0.02    & 0.02    & 3056.59 & 1      \\\\\n",
       "\tlambda{[}24{]} & 0.02    & 0.00    & 0.02    & 0.02    & 3056.59 & 1      \\\\\n",
       "\tlambda{[}25{]} & 0.02    & 0.00    & 0.02    & 0.02    & 3056.59 & 1      \\\\\n",
       "\tlambda{[}26{]} & 0.02    & 0.00    & 0.02    & 0.02    & 3056.59 & 1      \\\\\n",
       "\tlambda{[}27{]} & 0.02    & 0.00    & 0.02    & 0.02    & 3056.59 & 1      \\\\\n",
       "\tlambda{[}28{]} & 0.02    & 0.00    & 0.02    & 0.02    & 3134.59 & 1      \\\\\n",
       "\t... & ... & ... & ... & ... & ... & ...\\\\\n",
       "\tmu{[}22327{]} & 48.42   & 0.50    & 47.64   & 49.21   & 3064.38 & 1      \\\\\n",
       "\tmu{[}22328{]} & 48.42   & 0.50    & 47.64   & 49.21   & 3064.38 & 1      \\\\\n",
       "\tmu{[}22329{]} & 48.42   & 0.50    & 47.64   & 49.21   & 3064.38 & 1      \\\\\n",
       "\tmu{[}22330{]} & 48.42   & 0.50    & 47.64   & 49.21   & 3064.38 & 1      \\\\\n",
       "\tmu{[}22331{]} & 48.42   & 0.50    & 47.64   & 49.21   & 3064.38 & 1      \\\\\n",
       "\tmu{[}22332{]} & 48.42   & 0.50    & 47.64   & 49.21   & 3064.38 & 1      \\\\\n",
       "\tmu{[}22333{]} & 48.42   & 0.50    & 47.64   & 49.21   & 3064.38 & 1      \\\\\n",
       "\tmu{[}22334{]} & 48.42   & 0.50    & 47.64   & 49.21   & 3064.38 & 1      \\\\\n",
       "\tmu{[}22335{]} & 57.43   & 1.51    & 55.06   & 59.87   & 3138.27 & 1      \\\\\n",
       "\tmu{[}22336{]} & 48.42   & 0.50    & 47.64   & 49.21   & 3064.38 & 1      \\\\\n",
       "\tmu{[}22337{]} & 57.43   & 1.51    & 55.06   & 59.87   & 3138.27 & 1      \\\\\n",
       "\tmu{[}22338{]} & 48.42   & 0.50    & 47.64   & 49.21   & 3064.38 & 1      \\\\\n",
       "\tmu{[}22339{]} & 48.42   & 0.50    & 47.64   & 49.21   & 3064.38 & 1      \\\\\n",
       "\tmu{[}22340{]} & 48.42   & 0.50    & 47.64   & 49.21   & 3064.38 & 1      \\\\\n",
       "\tmu{[}22341{]} & 48.42   & 0.50    & 47.64   & 49.21   & 3064.38 & 1      \\\\\n",
       "\tmu{[}22342{]} & 48.42   & 0.50    & 47.64   & 49.21   & 3064.38 & 1      \\\\\n",
       "\tmu{[}22343{]} & 48.42   & 0.50    & 47.64   & 49.21   & 3064.38 & 1      \\\\\n",
       "\tmu{[}22344{]} & 57.43   & 1.51    & 55.06   & 59.87   & 3138.27 & 1      \\\\\n",
       "\tmu{[}22345{]} & 48.42   & 0.50    & 47.64   & 49.21   & 3064.38 & 1      \\\\\n",
       "\tmu{[}22346{]} & 48.42   & 0.50    & 47.64   & 49.21   & 3064.38 & 1      \\\\\n",
       "\tmu{[}22347{]} & 48.42   & 0.50    & 47.64   & 49.21   & 3064.38 & 1      \\\\\n",
       "\tmu{[}22348{]} & 57.43   & 1.51    & 55.06   & 59.87   & 3138.27 & 1      \\\\\n",
       "\tmu{[}22349{]} & 48.42   & 0.50    & 47.64   & 49.21   & 3064.38 & 1      \\\\\n",
       "\tmu{[}22350{]} & 48.42   & 0.50    & 47.64   & 49.21   & 3064.38 & 1      \\\\\n",
       "\tmu{[}22351{]} & 48.42   & 0.50    & 47.64   & 49.21   & 3064.38 & 1      \\\\\n",
       "\tmu{[}22352{]} & 48.42   & 0.50    & 47.64   & 49.21   & 3064.38 & 1      \\\\\n",
       "\tmu{[}22353{]} & 48.42   & 0.50    & 47.64   & 49.21   & 3064.38 & 1      \\\\\n",
       "\tmu{[}22354{]} & 48.42   & 0.50    & 47.64   & 49.21   & 3064.38 & 1      \\\\\n",
       "\tmu{[}22355{]} & 48.42   & 0.50    & 47.64   & 49.21   & 3064.38 & 1      \\\\\n",
       "\tmu{[}22356{]} & 48.42   & 0.50    & 47.64   & 49.21   & 3064.38 & 1      \\\\\n",
       "\\end{tabular}\n"
      ],
      "text/markdown": [
       "\n",
       "| <!--/--> | mean | sd | 5.5% | 94.5% | n_eff | Rhat |\n",
       "|---|---|---|---|---|---|---|\n",
       "| a[1] | 4.05    | 0.03    | 4.01    | 4.09    | 3137.07 | 1       |\n",
       "| a[2] | 3.88    | 0.01    | 3.86    | 3.90    | 3060.59 | 1       |\n",
       "| lambda[1] | 0.02    | 0.00    | 0.02    | 0.02    | 3056.59 | 1       |\n",
       "| lambda[2] | 0.02    | 0.00    | 0.02    | 0.02    | 3056.59 | 1       |\n",
       "| lambda[3] | 0.02    | 0.00    | 0.02    | 0.02    | 3056.59 | 1       |\n",
       "| lambda[4] | 0.02    | 0.00    | 0.02    | 0.02    | 3056.59 | 1       |\n",
       "| lambda[5] | 0.02    | 0.00    | 0.02    | 0.02    | 3056.59 | 1       |\n",
       "| lambda[6] | 0.02    | 0.00    | 0.02    | 0.02    | 3056.59 | 1       |\n",
       "| lambda[7] | 0.02    | 0.00    | 0.02    | 0.02    | 3056.59 | 1       |\n",
       "| lambda[8] | 0.02    | 0.00    | 0.02    | 0.02    | 3056.59 | 1       |\n",
       "| lambda[9] | 0.02    | 0.00    | 0.02    | 0.02    | 3056.59 | 1       |\n",
       "| lambda[10] | 0.02    | 0.00    | 0.02    | 0.02    | 3056.59 | 1       |\n",
       "| lambda[11] | 0.02    | 0.00    | 0.02    | 0.02    | 3056.59 | 1       |\n",
       "| lambda[12] | 0.02    | 0.00    | 0.02    | 0.02    | 3056.59 | 1       |\n",
       "| lambda[13] | 0.02    | 0.00    | 0.02    | 0.02    | 3056.59 | 1       |\n",
       "| lambda[14] | 0.02    | 0.00    | 0.02    | 0.02    | 3056.59 | 1       |\n",
       "| lambda[15] | 0.02    | 0.00    | 0.02    | 0.02    | 3056.59 | 1       |\n",
       "| lambda[16] | 0.02    | 0.00    | 0.02    | 0.02    | 3134.59 | 1       |\n",
       "| lambda[17] | 0.02    | 0.00    | 0.02    | 0.02    | 3134.59 | 1       |\n",
       "| lambda[18] | 0.02    | 0.00    | 0.02    | 0.02    | 3134.59 | 1       |\n",
       "| lambda[19] | 0.02    | 0.00    | 0.02    | 0.02    | 3056.59 | 1       |\n",
       "| lambda[20] | 0.02    | 0.00    | 0.02    | 0.02    | 3056.59 | 1       |\n",
       "| lambda[21] | 0.02    | 0.00    | 0.02    | 0.02    | 3056.59 | 1       |\n",
       "| lambda[22] | 0.02    | 0.00    | 0.02    | 0.02    | 3056.59 | 1       |\n",
       "| lambda[23] | 0.02    | 0.00    | 0.02    | 0.02    | 3056.59 | 1       |\n",
       "| lambda[24] | 0.02    | 0.00    | 0.02    | 0.02    | 3056.59 | 1       |\n",
       "| lambda[25] | 0.02    | 0.00    | 0.02    | 0.02    | 3056.59 | 1       |\n",
       "| lambda[26] | 0.02    | 0.00    | 0.02    | 0.02    | 3056.59 | 1       |\n",
       "| lambda[27] | 0.02    | 0.00    | 0.02    | 0.02    | 3056.59 | 1       |\n",
       "| lambda[28] | 0.02    | 0.00    | 0.02    | 0.02    | 3134.59 | 1       |\n",
       "| ... | ... | ... | ... | ... | ... | ... |\n",
       "| mu[22327] | 48.42   | 0.50    | 47.64   | 49.21   | 3064.38 | 1       |\n",
       "| mu[22328] | 48.42   | 0.50    | 47.64   | 49.21   | 3064.38 | 1       |\n",
       "| mu[22329] | 48.42   | 0.50    | 47.64   | 49.21   | 3064.38 | 1       |\n",
       "| mu[22330] | 48.42   | 0.50    | 47.64   | 49.21   | 3064.38 | 1       |\n",
       "| mu[22331] | 48.42   | 0.50    | 47.64   | 49.21   | 3064.38 | 1       |\n",
       "| mu[22332] | 48.42   | 0.50    | 47.64   | 49.21   | 3064.38 | 1       |\n",
       "| mu[22333] | 48.42   | 0.50    | 47.64   | 49.21   | 3064.38 | 1       |\n",
       "| mu[22334] | 48.42   | 0.50    | 47.64   | 49.21   | 3064.38 | 1       |\n",
       "| mu[22335] | 57.43   | 1.51    | 55.06   | 59.87   | 3138.27 | 1       |\n",
       "| mu[22336] | 48.42   | 0.50    | 47.64   | 49.21   | 3064.38 | 1       |\n",
       "| mu[22337] | 57.43   | 1.51    | 55.06   | 59.87   | 3138.27 | 1       |\n",
       "| mu[22338] | 48.42   | 0.50    | 47.64   | 49.21   | 3064.38 | 1       |\n",
       "| mu[22339] | 48.42   | 0.50    | 47.64   | 49.21   | 3064.38 | 1       |\n",
       "| mu[22340] | 48.42   | 0.50    | 47.64   | 49.21   | 3064.38 | 1       |\n",
       "| mu[22341] | 48.42   | 0.50    | 47.64   | 49.21   | 3064.38 | 1       |\n",
       "| mu[22342] | 48.42   | 0.50    | 47.64   | 49.21   | 3064.38 | 1       |\n",
       "| mu[22343] | 48.42   | 0.50    | 47.64   | 49.21   | 3064.38 | 1       |\n",
       "| mu[22344] | 57.43   | 1.51    | 55.06   | 59.87   | 3138.27 | 1       |\n",
       "| mu[22345] | 48.42   | 0.50    | 47.64   | 49.21   | 3064.38 | 1       |\n",
       "| mu[22346] | 48.42   | 0.50    | 47.64   | 49.21   | 3064.38 | 1       |\n",
       "| mu[22347] | 48.42   | 0.50    | 47.64   | 49.21   | 3064.38 | 1       |\n",
       "| mu[22348] | 57.43   | 1.51    | 55.06   | 59.87   | 3138.27 | 1       |\n",
       "| mu[22349] | 48.42   | 0.50    | 47.64   | 49.21   | 3064.38 | 1       |\n",
       "| mu[22350] | 48.42   | 0.50    | 47.64   | 49.21   | 3064.38 | 1       |\n",
       "| mu[22351] | 48.42   | 0.50    | 47.64   | 49.21   | 3064.38 | 1       |\n",
       "| mu[22352] | 48.42   | 0.50    | 47.64   | 49.21   | 3064.38 | 1       |\n",
       "| mu[22353] | 48.42   | 0.50    | 47.64   | 49.21   | 3064.38 | 1       |\n",
       "| mu[22354] | 48.42   | 0.50    | 47.64   | 49.21   | 3064.38 | 1       |\n",
       "| mu[22355] | 48.42   | 0.50    | 47.64   | 49.21   | 3064.38 | 1       |\n",
       "| mu[22356] | 48.42   | 0.50    | 47.64   | 49.21   | 3064.38 | 1       |\n",
       "\n"
      ],
      "text/plain": [
       "           mean  sd   5.5%  94.5% n_eff   Rhat\n",
       "a[1]       4.05  0.03 4.01  4.09  3137.07 1   \n",
       "a[2]       3.88  0.01 3.86  3.90  3060.59 1   \n",
       "lambda[1]  0.02  0.00 0.02  0.02  3056.59 1   \n",
       "lambda[2]  0.02  0.00 0.02  0.02  3056.59 1   \n",
       "lambda[3]  0.02  0.00 0.02  0.02  3056.59 1   \n",
       "lambda[4]  0.02  0.00 0.02  0.02  3056.59 1   \n",
       "lambda[5]  0.02  0.00 0.02  0.02  3056.59 1   \n",
       "lambda[6]  0.02  0.00 0.02  0.02  3056.59 1   \n",
       "lambda[7]  0.02  0.00 0.02  0.02  3056.59 1   \n",
       "lambda[8]  0.02  0.00 0.02  0.02  3056.59 1   \n",
       "lambda[9]  0.02  0.00 0.02  0.02  3056.59 1   \n",
       "lambda[10] 0.02  0.00 0.02  0.02  3056.59 1   \n",
       "lambda[11] 0.02  0.00 0.02  0.02  3056.59 1   \n",
       "lambda[12] 0.02  0.00 0.02  0.02  3056.59 1   \n",
       "lambda[13] 0.02  0.00 0.02  0.02  3056.59 1   \n",
       "lambda[14] 0.02  0.00 0.02  0.02  3056.59 1   \n",
       "lambda[15] 0.02  0.00 0.02  0.02  3056.59 1   \n",
       "lambda[16] 0.02  0.00 0.02  0.02  3134.59 1   \n",
       "lambda[17] 0.02  0.00 0.02  0.02  3134.59 1   \n",
       "lambda[18] 0.02  0.00 0.02  0.02  3134.59 1   \n",
       "lambda[19] 0.02  0.00 0.02  0.02  3056.59 1   \n",
       "lambda[20] 0.02  0.00 0.02  0.02  3056.59 1   \n",
       "lambda[21] 0.02  0.00 0.02  0.02  3056.59 1   \n",
       "lambda[22] 0.02  0.00 0.02  0.02  3056.59 1   \n",
       "lambda[23] 0.02  0.00 0.02  0.02  3056.59 1   \n",
       "lambda[24] 0.02  0.00 0.02  0.02  3056.59 1   \n",
       "lambda[25] 0.02  0.00 0.02  0.02  3056.59 1   \n",
       "lambda[26] 0.02  0.00 0.02  0.02  3056.59 1   \n",
       "lambda[27] 0.02  0.00 0.02  0.02  3056.59 1   \n",
       "lambda[28] 0.02  0.00 0.02  0.02  3134.59 1   \n",
       "...        ...   ...  ...   ...   ...     ... \n",
       "mu[22327]  48.42 0.50 47.64 49.21 3064.38 1   \n",
       "mu[22328]  48.42 0.50 47.64 49.21 3064.38 1   \n",
       "mu[22329]  48.42 0.50 47.64 49.21 3064.38 1   \n",
       "mu[22330]  48.42 0.50 47.64 49.21 3064.38 1   \n",
       "mu[22331]  48.42 0.50 47.64 49.21 3064.38 1   \n",
       "mu[22332]  48.42 0.50 47.64 49.21 3064.38 1   \n",
       "mu[22333]  48.42 0.50 47.64 49.21 3064.38 1   \n",
       "mu[22334]  48.42 0.50 47.64 49.21 3064.38 1   \n",
       "mu[22335]  57.43 1.51 55.06 59.87 3138.27 1   \n",
       "mu[22336]  48.42 0.50 47.64 49.21 3064.38 1   \n",
       "mu[22337]  57.43 1.51 55.06 59.87 3138.27 1   \n",
       "mu[22338]  48.42 0.50 47.64 49.21 3064.38 1   \n",
       "mu[22339]  48.42 0.50 47.64 49.21 3064.38 1   \n",
       "mu[22340]  48.42 0.50 47.64 49.21 3064.38 1   \n",
       "mu[22341]  48.42 0.50 47.64 49.21 3064.38 1   \n",
       "mu[22342]  48.42 0.50 47.64 49.21 3064.38 1   \n",
       "mu[22343]  48.42 0.50 47.64 49.21 3064.38 1   \n",
       "mu[22344]  57.43 1.51 55.06 59.87 3138.27 1   \n",
       "mu[22345]  48.42 0.50 47.64 49.21 3064.38 1   \n",
       "mu[22346]  48.42 0.50 47.64 49.21 3064.38 1   \n",
       "mu[22347]  48.42 0.50 47.64 49.21 3064.38 1   \n",
       "mu[22348]  57.43 1.51 55.06 59.87 3138.27 1   \n",
       "mu[22349]  48.42 0.50 47.64 49.21 3064.38 1   \n",
       "mu[22350]  48.42 0.50 47.64 49.21 3064.38 1   \n",
       "mu[22351]  48.42 0.50 47.64 49.21 3064.38 1   \n",
       "mu[22352]  48.42 0.50 47.64 49.21 3064.38 1   \n",
       "mu[22353]  48.42 0.50 47.64 49.21 3064.38 1   \n",
       "mu[22354]  48.42 0.50 47.64 49.21 3064.38 1   \n",
       "mu[22355]  48.42 0.50 47.64 49.21 3064.38 1   \n",
       "mu[22356]  48.42 0.50 47.64 49.21 3064.38 1   "
      ]
     },
     "metadata": {},
     "output_type": "display_data"
    }
   ],
   "source": [
    "m11.14_stan_alt %>% precis(depth=2) %>% round(2)"
   ]
  },
  {
   "cell_type": "code",
   "execution_count": null,
   "metadata": {},
   "outputs": [],
   "source": [
    "precis( m11.14_stan_alt, depth=2) "
   ]
  },
  {
   "cell_type": "code",
   "execution_count": 9,
   "metadata": {},
   "outputs": [],
   "source": [
    "post <- extract.samples( m11.14_stan_alt ) "
   ]
  },
  {
   "cell_type": "code",
   "execution_count": 10,
   "metadata": {},
   "outputs": [
    {
     "ename": "ERROR",
     "evalue": "Error in str(post): object 'post' not found\n",
     "output_type": "error",
     "traceback": [
      "Error in str(post): object 'post' not found\nTraceback:\n",
      "1. str(post)"
     ]
    }
   ],
   "source": [
    "str(post)"
   ]
  },
  {
   "cell_type": "code",
   "execution_count": null,
   "metadata": {},
   "outputs": [],
   "source": [
    "post <- extract.samples( m11.14_stan_alt , clean=FALSE ) "
   ]
  },
  {
   "cell_type": "code",
   "execution_count": 12,
   "metadata": {},
   "outputs": [
    {
     "ename": "ERROR",
     "evalue": "Error in str(post): object 'post' not found\n",
     "output_type": "error",
     "traceback": [
      "Error in str(post): object 'post' not found\nTraceback:\n",
      "1. str(post)"
     ]
    }
   ],
   "source": [
    "str(post)"
   ]
  },
  {
   "cell_type": "code",
   "execution_count": null,
   "metadata": {},
   "outputs": [],
   "source": []
  },
  {
   "cell_type": "markdown",
   "metadata": {},
   "source": [
    "## Summary"
   ]
  },
  {
   "cell_type": "markdown",
   "metadata": {},
   "source": [
    "## Practice"
   ]
  },
  {
   "cell_type": "markdown",
   "metadata": {},
   "source": [
    "<img src='pics/SR_n1.png' alt='Drawing' style='width:425pt'/>"
   ]
  },
  {
   "cell_type": "markdown",
   "metadata": {},
   "source": [
    "# Misc"
   ]
  },
  {
   "cell_type": "markdown",
   "metadata": {},
   "source": [
    "## 1e Oceanic Tools"
   ]
  },
  {
   "cell_type": "code",
   "execution_count": 27,
   "metadata": {
    "collapsed": true
   },
   "outputs": [
    {
     "data": {
      "text/html": [
       "<table>\n",
       "<thead><tr><th scope=col>culture</th><th scope=col>population</th><th scope=col>contact</th><th scope=col>total_tools</th><th scope=col>mean_TU</th></tr></thead>\n",
       "<tbody>\n",
       "\t<tr><td>Malekula  </td><td>  1100    </td><td>low       </td><td>13        </td><td>3.2       </td></tr>\n",
       "\t<tr><td>Tikopia   </td><td>  1500    </td><td>low       </td><td>22        </td><td>4.7       </td></tr>\n",
       "\t<tr><td>Santa Cruz</td><td>  3600    </td><td>low       </td><td>24        </td><td>4.0       </td></tr>\n",
       "\t<tr><td>Yap       </td><td>  4791    </td><td>high      </td><td>43        </td><td>5.0       </td></tr>\n",
       "\t<tr><td>Lau Fiji  </td><td>  7400    </td><td>high      </td><td>33        </td><td>5.0       </td></tr>\n",
       "\t<tr><td>Trobriand </td><td>  8000    </td><td>high      </td><td>19        </td><td>4.0       </td></tr>\n",
       "\t<tr><td>Chuuk     </td><td>  9200    </td><td>high      </td><td>40        </td><td>3.8       </td></tr>\n",
       "\t<tr><td>Manus     </td><td> 13000    </td><td>low       </td><td>28        </td><td>6.6       </td></tr>\n",
       "\t<tr><td>Tonga     </td><td> 17500    </td><td>high      </td><td>55        </td><td>5.4       </td></tr>\n",
       "\t<tr><td>Hawaii    </td><td>275000    </td><td>low       </td><td>71        </td><td>6.6       </td></tr>\n",
       "</tbody>\n",
       "</table>\n"
      ],
      "text/latex": [
       "\\begin{tabular}{r|lllll}\n",
       " culture & population & contact & total\\_tools & mean\\_TU\\\\\n",
       "\\hline\n",
       "\t Malekula   &   1100     & low        & 13         & 3.2       \\\\\n",
       "\t Tikopia    &   1500     & low        & 22         & 4.7       \\\\\n",
       "\t Santa Cruz &   3600     & low        & 24         & 4.0       \\\\\n",
       "\t Yap        &   4791     & high       & 43         & 5.0       \\\\\n",
       "\t Lau Fiji   &   7400     & high       & 33         & 5.0       \\\\\n",
       "\t Trobriand  &   8000     & high       & 19         & 4.0       \\\\\n",
       "\t Chuuk      &   9200     & high       & 40         & 3.8       \\\\\n",
       "\t Manus      &  13000     & low        & 28         & 6.6       \\\\\n",
       "\t Tonga      &  17500     & high       & 55         & 5.4       \\\\\n",
       "\t Hawaii     & 275000     & low        & 71         & 6.6       \\\\\n",
       "\\end{tabular}\n"
      ],
      "text/markdown": [
       "\n",
       "| culture | population | contact | total_tools | mean_TU |\n",
       "|---|---|---|---|---|\n",
       "| Malekula   |   1100     | low        | 13         | 3.2        |\n",
       "| Tikopia    |   1500     | low        | 22         | 4.7        |\n",
       "| Santa Cruz |   3600     | low        | 24         | 4.0        |\n",
       "| Yap        |   4791     | high       | 43         | 5.0        |\n",
       "| Lau Fiji   |   7400     | high       | 33         | 5.0        |\n",
       "| Trobriand  |   8000     | high       | 19         | 4.0        |\n",
       "| Chuuk      |   9200     | high       | 40         | 3.8        |\n",
       "| Manus      |  13000     | low        | 28         | 6.6        |\n",
       "| Tonga      |  17500     | high       | 55         | 5.4        |\n",
       "| Hawaii     | 275000     | low        | 71         | 6.6        |\n",
       "\n"
      ],
      "text/plain": [
       "   culture    population contact total_tools mean_TU\n",
       "1  Malekula     1100     low     13          3.2    \n",
       "2  Tikopia      1500     low     22          4.7    \n",
       "3  Santa Cruz   3600     low     24          4.0    \n",
       "4  Yap          4791     high    43          5.0    \n",
       "5  Lau Fiji     7400     high    33          5.0    \n",
       "6  Trobriand    8000     high    19          4.0    \n",
       "7  Chuuk        9200     high    40          3.8    \n",
       "8  Manus       13000     low     28          6.6    \n",
       "9  Tonga       17500     high    55          5.4    \n",
       "10 Hawaii     275000     low     71          6.6    "
      ]
     },
     "metadata": {},
     "output_type": "display_data"
    }
   ],
   "source": [
    "## R code 10.39\n",
    "library(rethinking)\n",
    "data(Kline)\n",
    "d <- Kline\n",
    "d\n",
    "\n",
    "## R code 10.40\n",
    "d$log_pop <- log(d$population)\n",
    "d$contact_high <- ifelse( d$contact==\"high\" , 1 , 0 )"
   ]
  },
  {
   "cell_type": "code",
   "execution_count": 28,
   "metadata": {},
   "outputs": [],
   "source": [
    "## R code 10.41\n",
    "m10.10 <- map(\n",
    "    alist(\n",
    "        total_tools ~ dpois( lambda ),\n",
    "        log(lambda) <- a + bp*log_pop +\n",
    "            bc*contact_high + bpc*contact_high*log_pop,\n",
    "        a ~ dnorm(0,100),\n",
    "        c(bp,bc,bpc) ~ dnorm(0,1)\n",
    "    ),\n",
    "    data=d )"
   ]
  },
  {
   "cell_type": "code",
   "execution_count": 29,
   "metadata": {},
   "outputs": [
    {
     "data": {
      "text/html": [
       "<table>\n",
       "<thead><tr><th></th><th scope=col>mean</th><th scope=col>sd</th><th scope=col>5.5%</th><th scope=col>94.5%</th></tr></thead>\n",
       "<tbody>\n",
       "\t<tr><th scope=row>a</th><td> 0.94443864</td><td>0.36007944 </td><td> 0.3689622 </td><td>1.5199151  </td></tr>\n",
       "\t<tr><th scope=row>bp</th><td> 0.26399737</td><td>0.03466707 </td><td> 0.2085927 </td><td>0.3194020  </td></tr>\n",
       "\t<tr><th scope=row>bc</th><td>-0.09007029</td><td>0.84140396 </td><td>-1.4347963 </td><td>1.2546558  </td></tr>\n",
       "\t<tr><th scope=row>bpc</th><td> 0.04254203</td><td>0.09227177 </td><td>-0.1049261 </td><td>0.1900101  </td></tr>\n",
       "</tbody>\n",
       "</table>\n"
      ],
      "text/latex": [
       "\\begin{tabular}{r|llll}\n",
       "  & mean & sd & 5.5\\% & 94.5\\%\\\\\n",
       "\\hline\n",
       "\ta &  0.94443864 & 0.36007944  &  0.3689622  & 1.5199151  \\\\\n",
       "\tbp &  0.26399737 & 0.03466707  &  0.2085927  & 0.3194020  \\\\\n",
       "\tbc & -0.09007029 & 0.84140396  & -1.4347963  & 1.2546558  \\\\\n",
       "\tbpc &  0.04254203 & 0.09227177  & -0.1049261  & 0.1900101  \\\\\n",
       "\\end{tabular}\n"
      ],
      "text/markdown": [
       "\n",
       "| <!--/--> | mean | sd | 5.5% | 94.5% |\n",
       "|---|---|---|---|---|\n",
       "| a |  0.94443864 | 0.36007944  |  0.3689622  | 1.5199151   |\n",
       "| bp |  0.26399737 | 0.03466707  |  0.2085927  | 0.3194020   |\n",
       "| bc | -0.09007029 | 0.84140396  | -1.4347963  | 1.2546558   |\n",
       "| bpc |  0.04254203 | 0.09227177  | -0.1049261  | 0.1900101   |\n",
       "\n"
      ],
      "text/plain": [
       "    mean        sd         5.5%       94.5%    \n",
       "a    0.94443864 0.36007944  0.3689622 1.5199151\n",
       "bp   0.26399737 0.03466707  0.2085927 0.3194020\n",
       "bc  -0.09007029 0.84140396 -1.4347963 1.2546558\n",
       "bpc  0.04254203 0.09227177 -0.1049261 0.1900101"
      ]
     },
     "metadata": {},
     "output_type": "display_data"
    },
    {
     "data": {
      "image/png": "[encoded data removed]",
      "text/plain": [
       "plot without title"
      ]
     },
     "metadata": {},
     "output_type": "display_data"
    }
   ],
   "source": [
    "## R code 10.42\n",
    "precis(m10.10,corr=TRUE)\n",
    "plot(precis(m10.10))"
   ]
  },
  {
   "cell_type": "code",
   "execution_count": 30,
   "metadata": {},
   "outputs": [],
   "source": [
    "## R code 10.43\n",
    "post <- extract.samples(m10.10)\n",
    "lambda_high <- exp( post$a + post$bc + (post$bp + post$bpc)*8 )\n",
    "lambda_low <- exp( post$a + post$bp*8 )"
   ]
  },
  {
   "cell_type": "code",
   "execution_count": 31,
   "metadata": {},
   "outputs": [
    {
     "data": {
      "text/html": [
       "0.9543"
      ],
      "text/latex": [
       "0.9543"
      ],
      "text/markdown": [
       "0.9543"
      ],
      "text/plain": [
       "[1] 0.9543"
      ]
     },
     "metadata": {},
     "output_type": "display_data"
    }
   ],
   "source": [
    "## R code 10.44\n",
    "diff <- lambda_high - lambda_low\n",
    "sum(diff > 0)/length(diff)\n",
    "\n",
    "## R code 10.45\n",
    "# no interaction\n",
    "m10.11 <- map(\n",
    "    alist(\n",
    "        total_tools ~ dpois( lambda ),\n",
    "        log(lambda) <- a + bp*log_pop + bc*contact_high,\n",
    "        a ~ dnorm(0,100),\n",
    "        c(bp,bc) ~ dnorm( 0 , 1 )\n",
    "    ), data=d )"
   ]
  },
  {
   "cell_type": "code",
   "execution_count": 32,
   "metadata": {},
   "outputs": [],
   "source": [
    "## R code 10.46\n",
    "# no contact rate\n",
    "m10.12 <- map(\n",
    "    alist(\n",
    "        total_tools ~ dpois( lambda ),\n",
    "        log(lambda) <- a + bp*log_pop,\n",
    "        a ~ dnorm(0,100),\n",
    "        bp ~ dnorm( 0 , 1 )\n",
    "    ), data=d )"
   ]
  },
  {
   "cell_type": "code",
   "execution_count": 33,
   "metadata": {},
   "outputs": [],
   "source": [
    "# no log-population\n",
    "m10.13 <- map(\n",
    "    alist(\n",
    "        total_tools ~ dpois( lambda ),\n",
    "        log(lambda) <- a + bc*contact_high,\n",
    "        a ~ dnorm(0,100),\n",
    "        bc ~ dnorm( 0 , 1 )\n",
    "    ), data=d )\n",
    "\n",
    "## R code 10.47\n",
    "# intercept onl"
   ]
  },
  {
   "cell_type": "code",
   "execution_count": 34,
   "metadata": {},
   "outputs": [],
   "source": [
    "# no log-population\n",
    "m10.13 <- map(\n",
    "    alist(\n",
    "        total_tools ~ dpois( lambda ),\n",
    "        log(lambda) <- a + bc*contact_high,\n",
    "        a ~ dnorm(0,100),\n",
    "        bc ~ dnorm( 0 , 1 )\n",
    "    ), data=d )"
   ]
  },
  {
   "cell_type": "code",
   "execution_count": 35,
   "metadata": {},
   "outputs": [],
   "source": [
    "## R code 10.47\n",
    "# intercept only\n",
    "m10.14 <- map(\n",
    "    alist(\n",
    "        total_tools ~ dpois( lambda ),\n",
    "        log(lambda) <- a,\n",
    "        a ~ dnorm(0,100)\n",
    "    ), data=d )"
   ]
  },
  {
   "cell_type": "code",
   "execution_count": 36,
   "metadata": {},
   "outputs": [
    {
     "data": {
      "text/html": [
       "<table>\n",
       "<thead><tr><th></th><th scope=col>WAIC</th><th scope=col>pWAIC</th><th scope=col>dWAIC</th><th scope=col>weight</th><th scope=col>SE</th><th scope=col>dSE</th></tr></thead>\n",
       "<tbody>\n",
       "\t<tr><th scope=row>m10.11</th><td> 79.09037   </td><td> 4.227663   </td><td> 0.000000   </td><td>6.177575e-01</td><td>11.181183   </td><td>       NA   </td></tr>\n",
       "\t<tr><th scope=row>m10.10</th><td> 80.28413   </td><td> 4.944445   </td><td> 1.193765   </td><td>3.400912e-01</td><td>11.426437   </td><td> 1.266681   </td></tr>\n",
       "\t<tr><th scope=row>m10.12</th><td> 84.46003   </td><td> 3.768031   </td><td> 5.369661   </td><td>4.215131e-02</td><td> 8.855465   </td><td> 8.362391   </td></tr>\n",
       "\t<tr><th scope=row>m10.14</th><td>141.45355   </td><td> 8.254933   </td><td>62.363179   </td><td>1.773478e-14</td><td>31.555117   </td><td>34.441480   </td></tr>\n",
       "\t<tr><th scope=row>m10.13</th><td>150.29972   </td><td>17.125347   </td><td>71.209348   </td><td>2.127671e-16</td><td>44.143969   </td><td>46.200177   </td></tr>\n",
       "</tbody>\n",
       "</table>\n"
      ],
      "text/latex": [
       "\\begin{tabular}{r|llllll}\n",
       "  & WAIC & pWAIC & dWAIC & weight & SE & dSE\\\\\n",
       "\\hline\n",
       "\tm10.11 &  79.09037    &  4.227663    &  0.000000    & 6.177575e-01 & 11.181183    &        NA   \\\\\n",
       "\tm10.10 &  80.28413    &  4.944445    &  1.193765    & 3.400912e-01 & 11.426437    &  1.266681   \\\\\n",
       "\tm10.12 &  84.46003    &  3.768031    &  5.369661    & 4.215131e-02 &  8.855465    &  8.362391   \\\\\n",
       "\tm10.14 & 141.45355    &  8.254933    & 62.363179    & 1.773478e-14 & 31.555117    & 34.441480   \\\\\n",
       "\tm10.13 & 150.29972    & 17.125347    & 71.209348    & 2.127671e-16 & 44.143969    & 46.200177   \\\\\n",
       "\\end{tabular}\n"
      ],
      "text/markdown": [
       "\n",
       "| <!--/--> | WAIC | pWAIC | dWAIC | weight | SE | dSE |\n",
       "|---|---|---|---|---|---|---|\n",
       "| m10.11 |  79.09037    |  4.227663    |  0.000000    | 6.177575e-01 | 11.181183    |        NA    |\n",
       "| m10.10 |  80.28413    |  4.944445    |  1.193765    | 3.400912e-01 | 11.426437    |  1.266681    |\n",
       "| m10.12 |  84.46003    |  3.768031    |  5.369661    | 4.215131e-02 |  8.855465    |  8.362391    |\n",
       "| m10.14 | 141.45355    |  8.254933    | 62.363179    | 1.773478e-14 | 31.555117    | 34.441480    |\n",
       "| m10.13 | 150.29972    | 17.125347    | 71.209348    | 2.127671e-16 | 44.143969    | 46.200177    |\n",
       "\n"
      ],
      "text/plain": [
       "       WAIC      pWAIC     dWAIC     weight       SE        dSE      \n",
       "m10.11  79.09037  4.227663  0.000000 6.177575e-01 11.181183        NA\n",
       "m10.10  80.28413  4.944445  1.193765 3.400912e-01 11.426437  1.266681\n",
       "m10.12  84.46003  3.768031  5.369661 4.215131e-02  8.855465  8.362391\n",
       "m10.14 141.45355  8.254933 62.363179 1.773478e-14 31.555117 34.441480\n",
       "m10.13 150.29972 17.125347 71.209348 2.127671e-16 44.143969 46.200177"
      ]
     },
     "metadata": {},
     "output_type": "display_data"
    },
    {
     "data": {
      "image/png": "[encoded data removed]",
      "text/plain": [
       "plot without title"
      ]
     },
     "metadata": {},
     "output_type": "display_data"
    }
   ],
   "source": [
    "# compare all using WAIC\n",
    "# adding n=1e4 for more stable WAIC estimates\n",
    "# will also plot the comparison\n",
    "( islands.compare <- compare(m10.10,m10.11,m10.12,m10.13,m10.14,n=1e4) )\n",
    "plot(islands.compare)"
   ]
  },
  {
   "cell_type": "markdown",
   "metadata": {},
   "source": [
    "## TESTING"
   ]
  },
  {
   "cell_type": "raw",
   "metadata": {},
   "source": [
    "##### t11.14"
   ]
  },
  {
   "cell_type": "code",
   "execution_count": 1,
   "metadata": {},
   "outputs": [
    {
     "name": "stderr",
     "output_type": "stream",
     "text": [
      "Warning message in data(AustinCats):\n",
      "\"data set 'AustinCats' not found\""
     ]
    },
    {
     "ename": "ERROR",
     "evalue": "Error in eval(expr, envir, enclos): object 'AustinCats' not found\n",
     "output_type": "error",
     "traceback": [
      "Error in eval(expr, envir, enclos): object 'AustinCats' not found\nTraceback:\n"
     ]
    }
   ],
   "source": [
    "## R code 11.64\n",
    "# library(rethinking)\n",
    "data(AustinCats)\n",
    "d <- AustinCats\n",
    "\n",
    "d$adopt <- ifelse( d$out_event==\"Adoption\" , 1L , 0L )\n",
    "dat <- list(\n",
    "    days_to_event = as.integer( d$days_to_event ),\n",
    "    color_id = ifelse( d$color==\"Black\" , 1L , 2L ) ,\n",
    "    adopted = d$adopt\n",
    ")"
   ]
  },
  {
   "cell_type": "code",
   "execution_count": 56,
   "metadata": {},
   "outputs": [],
   "source": [
    "t11.14 <- ulam(\n",
    "    alist(\n",
    "        days_to_event|adopted==1 ~ exponential( lambda ),\n",
    "        days_to_event|adopted==0 ~ custom(exponential_lccdf( !Y | lambda )),\n",
    "        log(lambda) <- a[color_id],\n",
    "        a[color_id] ~ normal(0,1)\n",
    "    ), data=dat , chains=4 , cores=4)"
   ]
  },
  {
   "cell_type": "code",
   "execution_count": 58,
   "metadata": {
    "collapsed": true
   },
   "outputs": [
    {
     "data": {
      "text/html": [
       "<table>\n",
       "<thead><tr><th></th><th scope=col>mean</th><th scope=col>sd</th><th scope=col>5.5%</th><th scope=col>94.5%</th><th scope=col>histogram</th></tr></thead>\n",
       "<tbody>\n",
       "\t<tr><th scope=row>a[1]</th><td>-4.05205249                                                                                                                                                                                                                 </td><td>0.0253807385                                                                                                                                                                                                                </td><td>-4.09335501                                                                                                                                                                                                                 </td><td>-4.01247755                                                                                                                                                                                                                 </td><td><span style=white-space:pre-wrap>&lt;U+2581&gt;&lt;U+2581&gt;&lt;U+2581&gt;&lt;U+2582&gt;&lt;U+2585&gt;&lt;U+2587&gt;&lt;U+2585&gt;&lt;U+2582&gt;&lt;U+2581&gt;&lt;U+2581&gt;                                        </span></td></tr>\n",
       "\t<tr><th scope=row>a[2]</th><td>-3.87998036                                                                                                                                                                                                                                         </td><td>0.0100981847                                                                                                                                                                                                                                        </td><td>-3.89633048                                                                                                                                                                                                                                         </td><td>-3.86412616                                                                                                                                                                                                                                         </td><td><span style=white-space:pre-wrap>&lt;U+2581&gt;&lt;U+2581&gt;&lt;U+2581&gt;&lt;U+2581&gt;&lt;U+2582&gt;&lt;U+2583&gt;&lt;U+2585&gt;&lt;U+2587&gt;&lt;U+2587&gt;&lt;U+2585&gt;&lt;U+2583&gt;&lt;U+2582&gt;&lt;U+2581&gt;&lt;U+2581&gt;        </span></td></tr>\n",
       "\t<tr><th scope=row>D[1]</th><td> 0.01739225                                                                                                                                                                                                     </td><td>0.0004413137                                                                                                                                                                                                    </td><td> 0.01668317                                                                                                                                                                                                     </td><td> 0.01808852                                                                                                                                                                                                     </td><td><span style=white-space:pre-wrap>&lt;U+2581&gt;&lt;U+2581&gt;&lt;U+2583&gt;&lt;U+2587&gt;&lt;U+2585&gt;&lt;U+2581&gt;&lt;U+2581&gt;&lt;U+2581&gt;                                                        </span></td></tr>\n",
       "\t<tr><th scope=row>D[2]</th><td> 0.02065228                                                                                                                                                                                                       </td><td>0.0002084857                                                                                                                                                                                                      </td><td> 0.02031633                                                                                                                                                                                                       </td><td> 0.02098125                                                                                                                                                                                                       </td><td>&lt;U+2581&gt;&lt;U+2581&gt;&lt;U+2581&gt;&lt;U+2581&gt;&lt;U+2581&gt;&lt;U+2582&gt;&lt;U+2583&gt;&lt;U+2587&gt;&lt;U+2587&gt;&lt;U+2587&gt;&lt;U+2585&gt;&lt;U+2582&gt;&lt;U+2581&gt;&lt;U+2581&gt;&lt;U+2581&gt;</td></tr>\n",
       "</tbody>\n",
       "</table>\n"
      ],
      "text/latex": [
       "\\begin{tabular}{r|lllll}\n",
       "  & mean & sd & 5.5\\% & 94.5\\% & histogram\\\\\n",
       "\\hline\n",
       "\ta{[}1{]} & -4.05205249                                                                                                              & 0.0253807385                                                                                                             & -4.09335501                                                                                                              & -4.01247755                                                                                                              & <U+2581><U+2581><U+2581><U+2582><U+2585><U+2587><U+2585><U+2582><U+2581><U+2581>                                        \\\\\n",
       "\ta{[}2{]} & -3.87998036                                                                                                              & 0.0100981847                                                                                                             & -3.89633048                                                                                                              & -3.86412616                                                                                                              & <U+2581><U+2581><U+2581><U+2581><U+2582><U+2583><U+2585><U+2587><U+2587><U+2585><U+2583><U+2582><U+2581><U+2581>        \\\\\n",
       "\tD{[}1{]} &  0.01739225                                                                                                              & 0.0004413137                                                                                                             &  0.01668317                                                                                                              &  0.01808852                                                                                                              & <U+2581><U+2581><U+2583><U+2587><U+2585><U+2581><U+2581><U+2581>                                                        \\\\\n",
       "\tD{[}2{]} &  0.02065228                                                                                                              & 0.0002084857                                                                                                             &  0.02031633                                                                                                              &  0.02098125                                                                                                              & <U+2581><U+2581><U+2581><U+2581><U+2581><U+2582><U+2583><U+2587><U+2587><U+2587><U+2585><U+2582><U+2581><U+2581><U+2581>\\\\\n",
       "\\end{tabular}\n"
      ],
      "text/markdown": [
       "\n",
       "| <!--/--> | mean | sd | 5.5% | 94.5% | histogram | \n",
       "|---|---|---|---|\n",
       "| a[1] | -4.05205249                                                                                                              | 0.0253807385                                                                                                             | -4.09335501                                                                                                              | -4.01247755                                                                                                              | <U+2581><U+2581><U+2581><U+2582><U+2585><U+2587><U+2585><U+2582><U+2581><U+2581>                                         | \n",
       "| a[2] | -3.87998036                                                                                                              | 0.0100981847                                                                                                             | -3.89633048                                                                                                              | -3.86412616                                                                                                              | <U+2581><U+2581><U+2581><U+2581><U+2582><U+2583><U+2585><U+2587><U+2587><U+2585><U+2583><U+2582><U+2581><U+2581>         | \n",
       "| D[1] |  0.01739225                                                                                                              | 0.0004413137                                                                                                             |  0.01668317                                                                                                              |  0.01808852                                                                                                              | <U+2581><U+2581><U+2583><U+2587><U+2585><U+2581><U+2581><U+2581>                                                         | \n",
       "| D[2] |  0.02065228                                                                                                              | 0.0002084857                                                                                                             |  0.02031633                                                                                                              |  0.02098125                                                                                                              | <U+2581><U+2581><U+2581><U+2581><U+2581><U+2582><U+2583><U+2587><U+2587><U+2587><U+2585><U+2582><U+2581><U+2581><U+2581> | \n",
       "\n",
       "\n"
      ],
      "text/plain": [
       "     mean        sd           5.5%        94.5%      \n",
       "a[1] -4.05205249 0.0253807385 -4.09335501 -4.01247755\n",
       "a[2] -3.87998036 0.0100981847 -3.89633048 -3.86412616\n",
       "D[1]  0.01739225 0.0004413137  0.01668317  0.01808852\n",
       "D[2]  0.02065228 0.0002084857  0.02031633  0.02098125\n",
       "     histogram                                                                                                               \n",
       "a[1] <U+2581><U+2581><U+2581><U+2582><U+2585><U+2587><U+2585><U+2582><U+2581><U+2581>                                        \n",
       "a[2] <U+2581><U+2581><U+2581><U+2581><U+2582><U+2583><U+2585><U+2587><U+2587><U+2585><U+2583><U+2582><U+2581><U+2581>        \n",
       "D[1] <U+2581><U+2581><U+2583><U+2587><U+2585><U+2581><U+2581><U+2581>                                                        \n",
       "D[2] <U+2581><U+2581><U+2581><U+2581><U+2581><U+2582><U+2583><U+2587><U+2587><U+2587><U+2585><U+2582><U+2581><U+2581><U+2581>"
      ]
     },
     "metadata": {},
     "output_type": "display_data"
    }
   ],
   "source": [
    "post <- extract.samples( t11.14 ) \n",
    "post$D <- exp(post$a)\n",
    "precis( post , 2 )"
   ]
  },
  {
   "cell_type": "code",
   "execution_count": 219,
   "metadata": {},
   "outputs": [
    {
     "data": {
      "text/plain": [
       "R version 3.5.1 (2018-07-02)\n",
       "Platform: x86_64-w64-mingw32/x64 (64-bit)\n",
       "Running under: Windows 10 x64 (build 17134)\n",
       "\n",
       "Matrix products: default\n",
       "\n",
       "locale:\n",
       "[1] LC_COLLATE=English_United States.1252 \n",
       "[2] LC_CTYPE=English_United States.1252   \n",
       "[3] LC_MONETARY=English_United States.1252\n",
       "[4] LC_NUMERIC=C                          \n",
       "[5] LC_TIME=English_United States.1252    \n",
       "\n",
       "attached base packages:\n",
       "[1] parallel  stats     graphics  grDevices utils     datasets  methods  \n",
       "[8] base     \n",
       "\n",
       "other attached packages:\n",
       " [1] survival_2.43-3      rethinking_1.84      rstan_2.18.2        \n",
       " [4] StanHeaders_2.18.0   forcats_0.3.0        stringr_1.3.1       \n",
       " [7] dplyr_0.7.8          purrr_0.2.5          readr_1.1.1         \n",
       "[10] tidyr_0.8.2          tibble_1.4.2         ggplot2_3.1.0       \n",
       "[13] tidyverse_1.2.1      jsonlite_1.5         RevoUtils_11.0.1    \n",
       "[16] RevoUtilsMath_11.0.0\n",
       "\n",
       "loaded via a namespace (and not attached):\n",
       " [1] httr_1.3.1         splines_3.5.1      modelr_0.1.2       assertthat_0.2.0  \n",
       " [5] stats4_3.5.1       cellranger_1.1.0   pillar_1.3.0       backports_1.1.2   \n",
       " [9] lattice_0.20-35    glue_1.3.0         uuid_0.1-2         digest_0.6.18     \n",
       "[13] rvest_0.3.2        colorspace_1.3-2   Matrix_1.2-14      htmltools_0.3.6   \n",
       "[17] plyr_1.8.4         pkgconfig_2.0.2    broom_0.5.0        haven_1.1.2       \n",
       "[21] mvtnorm_1.0-8      scales_1.0.0       processx_3.2.0     withr_2.1.2       \n",
       "[25] repr_0.17          lazyeval_0.2.1     cli_1.0.1          magrittr_1.5      \n",
       "[29] crayon_1.3.4       readxl_1.1.0       evaluate_0.12      ps_1.2.1          \n",
       "[33] nlme_3.1-137       MASS_7.3-50        xml2_1.2.0         pkgbuild_1.0.2    \n",
       "[37] tools_3.5.1        loo_2.0.0          prettyunits_1.0.2  hms_0.4.2         \n",
       "[41] matrixStats_0.54.0 munsell_0.5.0      bindrcpp_0.2.2     callr_3.0.0       \n",
       "[45] compiler_3.5.1     rlang_0.3.0.1      grid_3.5.1         pbdZMQ_0.3-3      \n",
       "[49] IRkernel_0.8.11    rstudioapi_0.8     base64enc_0.1-3    gtable_0.2.0      \n",
       "[53] codetools_0.2-15   inline_0.3.15      R6_2.3.0           gridExtra_2.3     \n",
       "[57] lubridate_1.7.4    bindr_0.1.1        stringi_1.2.4      IRdisplay_0.5.0   \n",
       "[61] Rcpp_1.0.0         tidyselect_0.2.5   coda_0.19-2       "
      ]
     },
     "metadata": {},
     "output_type": "display_data"
    }
   ],
   "source": [
    "sessionInfo()"
   ]
  },
  {
   "cell_type": "markdown",
   "metadata": {},
   "source": [
    "##### test"
   ]
  },
  {
   "cell_type": "code",
   "execution_count": 28,
   "metadata": {},
   "outputs": [],
   "source": [
    "## R code 11.64\n",
    "# library(rethinking)\n",
    "data(AustinCats)\n",
    "d <- AustinCats\n",
    "\n",
    "d$adopt <- ifelse( d$out_event==\"Adoption\" , 1L , 0L )\n",
    "dat <- list(\n",
    "    days_to_event = as.integer( d$days_to_event ),\n",
    "    color_id = ifelse( d$color==\"Black\" , 1L , 2L ) ,\n",
    "    adopted = d$adopt\n",
    ")"
   ]
  },
  {
   "cell_type": "code",
   "execution_count": 29,
   "metadata": {},
   "outputs": [
    {
     "name": "stderr",
     "output_type": "stream",
     "text": [
      "recompiling to avoid crashing R session\n"
     ]
    },
    {
     "name": "stdout",
     "output_type": "stream",
     "text": [
      "\n",
      "SAMPLING FOR MODEL '7bd21d9b79bf04ab589340ced5533e09' NOW (CHAIN 1).\n",
      "Chain 1: \n",
      "Chain 1: Gradient evaluation took 0.007 seconds\n",
      "Chain 1: 1000 transitions using 10 leapfrog steps per transition would take 70 seconds.\n",
      "Chain 1: Adjust your expectations accordingly!\n",
      "Chain 1: \n",
      "Chain 1: \n",
      "Chain 1: Iteration:   1 / 1000 [  0%]  (Warmup)\n",
      "Chain 1: Iteration: 100 / 1000 [ 10%]  (Warmup)\n",
      "Chain 1: Iteration: 200 / 1000 [ 20%]  (Warmup)\n",
      "Chain 1: Iteration: 300 / 1000 [ 30%]  (Warmup)\n",
      "Chain 1: Iteration: 400 / 1000 [ 40%]  (Warmup)\n",
      "Chain 1: Iteration: 500 / 1000 [ 50%]  (Warmup)\n",
      "Chain 1: Iteration: 501 / 1000 [ 50%]  (Sampling)\n",
      "Chain 1: Iteration: 600 / 1000 [ 60%]  (Sampling)\n",
      "Chain 1: Iteration: 700 / 1000 [ 70%]  (Sampling)\n",
      "Chain 1: Iteration: 800 / 1000 [ 80%]  (Sampling)\n",
      "Chain 1: Iteration: 900 / 1000 [ 90%]  (Sampling)\n",
      "Chain 1: Iteration: 1000 / 1000 [100%]  (Sampling)\n",
      "Chain 1: \n",
      "Chain 1:  Elapsed Time: 18.409 seconds (Warm-up)\n",
      "Chain 1:                14.498 seconds (Sampling)\n",
      "Chain 1:                32.907 seconds (Total)\n",
      "Chain 1: \n"
     ]
    }
   ],
   "source": [
    "m11.14 <- ulam(\n",
    "    alist(\n",
    "        days_to_event|adopted==1 ~ exponential( lambda ),\n",
    "        days_to_event|adopted==0 ~ custom(exponential_lccdf( !Y | lambda )),\n",
    "        lambda <- 1.0/mu,\n",
    "        log(mu) <- a[color_id],\n",
    "        a[color_id] ~ normal(0,1)\n",
    "    ), data=dat , chains=1, cores=1 )"
   ]
  },
  {
   "cell_type": "code",
   "execution_count": 32,
   "metadata": {},
   "outputs": [
    {
     "data": {
      "text/html": [
       "<table>\n",
       "<thead><tr><th></th><th scope=col>mean</th><th scope=col>sd</th><th scope=col>5.5%</th><th scope=col>94.5%</th><th scope=col>n_eff</th><th scope=col>Rhat</th></tr></thead>\n",
       "<tbody>\n",
       "\t<tr><th scope=row>a[1]</th><td>4.051384  </td><td>0.02486556</td><td>4.011836  </td><td>4.089036  </td><td>318.9016  </td><td>0.9980934 </td></tr>\n",
       "\t<tr><th scope=row>a[2]</th><td>3.879556  </td><td>0.01054159</td><td>3.862904  </td><td>3.896499  </td><td>347.4402  </td><td>0.9987190 </td></tr>\n",
       "</tbody>\n",
       "</table>\n"
      ],
      "text/latex": [
       "\\begin{tabular}{r|llllll}\n",
       "  & mean & sd & 5.5\\% & 94.5\\% & n\\_eff & Rhat\\\\\n",
       "\\hline\n",
       "\ta{[}1{]} & 4.051384   & 0.02486556 & 4.011836   & 4.089036   & 318.9016   & 0.9980934 \\\\\n",
       "\ta{[}2{]} & 3.879556   & 0.01054159 & 3.862904   & 3.896499   & 347.4402   & 0.9987190 \\\\\n",
       "\\end{tabular}\n"
      ],
      "text/markdown": [
       "\n",
       "| <!--/--> | mean | sd | 5.5% | 94.5% | n_eff | Rhat | \n",
       "|---|---|\n",
       "| a[1] | 4.051384   | 0.02486556 | 4.011836   | 4.089036   | 318.9016   | 0.9980934  | \n",
       "| a[2] | 3.879556   | 0.01054159 | 3.862904   | 3.896499   | 347.4402   | 0.9987190  | \n",
       "\n",
       "\n"
      ],
      "text/plain": [
       "     mean     sd         5.5%     94.5%    n_eff    Rhat     \n",
       "a[1] 4.051384 0.02486556 4.011836 4.089036 318.9016 0.9980934\n",
       "a[2] 3.879556 0.01054159 3.862904 3.896499 347.4402 0.9987190"
      ]
     },
     "metadata": {},
     "output_type": "display_data"
    }
   ],
   "source": [
    "m11.14 %>% precis(2)"
   ]
  },
  {
   "cell_type": "code",
   "execution_count": 27,
   "metadata": {},
   "outputs": [
    {
     "name": "stderr",
     "output_type": "stream",
     "text": [
      "recompiling to avoid crashing R session\n"
     ]
    }
   ],
   "source": [
    "m11.14 <- ulam(\n",
    "    alist(\n",
    "        days_to_event|adopted==1 ~ exponential( lambda ),\n",
    "        days_to_event|adopted==0 ~ custom(exponential_lccdf( !Y | lambda )),\n",
    "        lambda <- 1.0/mu,\n",
    "        log(mu) <- a[color_id],\n",
    "        a[color_id] ~ normal(0,1)\n",
    "    ), data=dat , chains=4 , cores=4 )"
   ]
  },
  {
   "cell_type": "code",
   "execution_count": 26,
   "metadata": {},
   "outputs": [
    {
     "name": "stderr",
     "output_type": "stream",
     "text": [
      "recompiling to avoid crashing R session\n"
     ]
    },
    {
     "data": {
      "text/html": [
       "<table>\n",
       "<thead><tr><th></th><th scope=col>mean</th><th scope=col>sd</th><th scope=col>5.5%</th><th scope=col>94.5%</th><th scope=col>n_eff</th><th scope=col>Rhat</th></tr></thead>\n",
       "<tbody>\n",
       "\t<tr><th scope=row>a[1]</th><td>4.050081  </td><td>0.02650090</td><td>4.007063  </td><td>4.092601  </td><td>1149.530  </td><td>1.001473  </td></tr>\n",
       "\t<tr><th scope=row>a[2]</th><td>3.879888  </td><td>0.01029853</td><td>3.863515  </td><td>3.896281  </td><td>1189.223  </td><td>1.001115  </td></tr>\n",
       "</tbody>\n",
       "</table>\n"
      ],
      "text/latex": [
       "\\begin{tabular}{r|llllll}\n",
       "  & mean & sd & 5.5\\% & 94.5\\% & n\\_eff & Rhat\\\\\n",
       "\\hline\n",
       "\ta{[}1{]} & 4.050081   & 0.02650090 & 4.007063   & 4.092601   & 1149.530   & 1.001473  \\\\\n",
       "\ta{[}2{]} & 3.879888   & 0.01029853 & 3.863515   & 3.896281   & 1189.223   & 1.001115  \\\\\n",
       "\\end{tabular}\n"
      ],
      "text/markdown": [
       "\n",
       "| <!--/--> | mean | sd | 5.5% | 94.5% | n_eff | Rhat | \n",
       "|---|---|\n",
       "| a[1] | 4.050081   | 0.02650090 | 4.007063   | 4.092601   | 1149.530   | 1.001473   | \n",
       "| a[2] | 3.879888   | 0.01029853 | 3.863515   | 3.896281   | 1189.223   | 1.001115   | \n",
       "\n",
       "\n"
      ],
      "text/plain": [
       "     mean     sd         5.5%     94.5%    n_eff    Rhat    \n",
       "a[1] 4.050081 0.02650090 4.007063 4.092601 1149.530 1.001473\n",
       "a[2] 3.879888 0.01029853 3.863515 3.896281 1189.223 1.001115"
      ]
     },
     "metadata": {},
     "output_type": "display_data"
    }
   ],
   "source": [
    "precis( m11.14 , 2 )"
   ]
  },
  {
   "cell_type": "code",
   "execution_count": 17,
   "metadata": {
    "code_folding": []
   },
   "outputs": [],
   "source": [
    "## R code 11.64\n",
    "# library(rethinking)\n",
    "data(AustinCats)\n",
    "d <- AustinCats\n",
    "\n",
    "d$adopt <- ifelse( d$out_event==\"Adoption\" , 1 , 0 )\n",
    "d$black <- ifelse( d$color==\"Black\" , 1 , 0 )\n",
    "\n",
    " d <- d[ complete.cases(d$days_to_event,d$black,d$adopt) , ]\n",
    "\n",
    "dat <- list(\n",
    "    days_to_event = as.integer( d$days_to_event ),\n",
    "    color_id = as.integer( d$black ) ,\n",
    "    adopted = as.integer( d$adopt )\n",
    ")"
   ]
  },
  {
   "cell_type": "code",
   "execution_count": 20,
   "metadata": {},
   "outputs": [
    {
     "name": "stdout",
     "output_type": "stream",
     "text": [
      " int [1:22356] 1 25 4 41 9 4 4 5 24 2 ...\n"
     ]
    },
    {
     "data": {
      "text/plain": [
       ".\n",
       "    0     1 \n",
       "19391  2965 "
      ]
     },
     "metadata": {},
     "output_type": "display_data"
    },
    {
     "data": {
      "text/plain": [
       ".\n",
       "    0     1 \n",
       "11005 11351 "
      ]
     },
     "metadata": {},
     "output_type": "display_data"
    }
   ],
   "source": [
    "d$days_to_event %>% str\n",
    "\n",
    "# d$days_to_event %>% table\n",
    "d$black %>% table\n",
    "d$adopt %>% table"
   ]
  },
  {
   "cell_type": "code",
   "execution_count": null,
   "metadata": {},
   "outputs": [],
   "source": [
    "m11.14 <- ulam(\n",
    "    alist(\n",
    "        days_to_event|adopted==1 ~ exponential( lambda ),\n",
    "        days_to_event|adopted==0 ~ custom(exponential_lccdf( !Y | lambda )),\n",
    "        lambda <- 1.0/mu,\n",
    "        log(mu) <- a[color_id],\n",
    "        a[color_id] ~ normal(0,1)\n",
    "    ), data=dat , chains=4, cores=4 )"
   ]
  },
  {
   "cell_type": "code",
   "execution_count": 190,
   "metadata": {},
   "outputs": [
    {
     "ename": "ERROR",
     "evalue": "Error in eval(lhs, parent, parent): object 'm11.14' not found\n",
     "output_type": "error",
     "traceback": [
      "Error in eval(lhs, parent, parent): object 'm11.14' not found\nTraceback:\n",
      "1. m11.14 %>% stancode",
      "2. eval(lhs, parent, parent)",
      "3. eval(lhs, parent, parent)"
     ]
    }
   ],
   "source": [
    "m11.14 %>% stancode"
   ]
  },
  {
   "cell_type": "code",
   "execution_count": null,
   "metadata": {},
   "outputs": [],
   "source": [
    "m00 <- ulam(\n",
    "    alist(\n",
    "        days_to_event|adopted==1 ~ exponential( lambda ),\n",
    "        days_to_event|adopted==0 ~ custom(exponential_lccdf( !Y | lambda )),\n",
    "        log(lambda) <- a + b*black,\n",
    "        a ~ normal(0,1),\n",
    "        b ~ normal(0,1)\n",
    "    ), data=dat , chains=4 )"
   ]
  },
  {
   "cell_type": "code",
   "execution_count": 151,
   "metadata": {
    "collapsed": true
   },
   "outputs": [
    {
     "name": "stdout",
     "output_type": "stream",
     "text": [
      "\n",
      "SAMPLING FOR MODEL '5f4ae255a23017dd269c302086162e2a' NOW (CHAIN 1).\n",
      "[1] \"Error in sampler$call_sampler(args_list[[i]]) : \"                      \n",
      "[2] \"  Must use algorithm=\\\"Fixed_param\\\" for model that has no parameters.\"\n",
      "[1] \"error occurred during calling the sampler; sampling not done\"\n",
      "Stan model '5f4ae255a23017dd269c302086162e2a' does not contain samples.\n"
     ]
    },
    {
     "ename": "ERROR",
     "evalue": "Error in validObject(.Object): invalid class \"ulam\" object: invalid object for slot \"coef\" in class \"ulam\": got class \"NULL\", should be or extend class \"numeric\"\n",
     "output_type": "error",
     "traceback": [
      "Error in validObject(.Object): invalid class \"ulam\" object: invalid object for slot \"coef\" in class \"ulam\": got class \"NULL\", should be or extend class \"numeric\"\nTraceback:\n",
      "1. ulam(alist(days_to_event | adopted == 1 ~ exponential(lambda), \n .     days_to_event | adopted == 0 ~ custom(exponential_lccdf(!Y | \n .         lambda)), lambda <- 1/mu, log(mu) <- a[color_id], a[colour_id] ~ \n .         normal(0, 1)), data = dat, chains = 4)",
      "2. new(\"ulam\", call = match.call(), model = model_code, stanfit = stanfit, \n .     coef = coef, vcov = varcov, data = data, start = list(start), \n .     pars = use_pars, formula = flist.orig, formula_parsed = formula_parsed)",
      "3. initialize(value, ...)",
      "4. initialize(value, ...)",
      "5. validObject(.Object)",
      "6. stop(msg, \": \", errors, domain = NA)"
     ]
    }
   ],
   "source": [
    "precis(m11.14) %>% round(2)"
   ]
  },
  {
   "cell_type": "code",
   "execution_count": 159,
   "metadata": {},
   "outputs": [
    {
     "ename": "ERROR",
     "evalue": "Error in parse(text = x, srcfile = src): <text>:2:6: unexpected '{'\n1: ## R code 11.65\n2: model{\n        ^\n",
     "output_type": "error",
     "traceback": [
      "Error in parse(text = x, srcfile = src): <text>:2:6: unexpected '{'\n1: ## R code 11.65\n2: model{\n        ^\nTraceback:\n"
     ]
    }
   ],
   "source": [
    "## R code 11.65\n",
    "model{\n",
    "    vector[22356] lambda;\n",
    "    b ~ normal( 0 , 1 );\n",
    "    a ~ normal( 0 , 1 );\n",
    "    for ( i in 1:22356 ) {\n",
    "        lambda[i] = a + b * black[i];\n",
    "        lambda[i] = exp(lambda[i]);\n",
    "    }\n",
    "    for ( i in 1:22356 )\n",
    "        if ( adopted[i] == 0 ) target += exponential_lccdf(days_to_event[i] | lambda[i]);\n",
    "    for ( i in 1:22356 )\n",
    "        if ( adopted[i] == 1 ) days_to_event[i] ~ exponential( lambda[i] );"
   ]
  },
  {
   "cell_type": "code",
   "execution_count": 23,
   "metadata": {
    "collapsed": true
   },
   "outputs": [
    {
     "data": {
      "text/plain": [
       "R version 3.5.1 (2018-07-02)\n",
       "Platform: x86_64-w64-mingw32/x64 (64-bit)\n",
       "Running under: Windows 10 x64 (build 17134)\n",
       "\n",
       "Matrix products: default\n",
       "\n",
       "locale:\n",
       "[1] LC_COLLATE=English_United States.1252 \n",
       "[2] LC_CTYPE=English_United States.1252   \n",
       "[3] LC_MONETARY=English_United States.1252\n",
       "[4] LC_NUMERIC=C                          \n",
       "[5] LC_TIME=English_United States.1252    \n",
       "\n",
       "attached base packages:\n",
       "[1] parallel  stats     graphics  grDevices utils     datasets  methods  \n",
       "[8] base     \n",
       "\n",
       "other attached packages:\n",
       " [1] rethinking_1.84      rstan_2.18.2         StanHeaders_2.18.0  \n",
       " [4] forcats_0.3.0        stringr_1.3.1        dplyr_0.7.8         \n",
       " [7] purrr_0.2.5          readr_1.1.1          tidyr_0.8.2         \n",
       "[10] tibble_1.4.2         ggplot2_3.1.0        tidyverse_1.2.1     \n",
       "[13] jsonlite_1.5         RevoUtils_11.0.1     RevoUtilsMath_11.0.0\n",
       "\n",
       "loaded via a namespace (and not attached):\n",
       " [1] Rcpp_1.0.0         mvtnorm_1.0-8      lubridate_1.7.4    lattice_0.20-35   \n",
       " [5] prettyunits_1.0.2  ps_1.2.1           assertthat_0.2.0   digest_0.6.18     \n",
       " [9] IRdisplay_0.5.0    R6_2.3.0           cellranger_1.1.0   plyr_1.8.4        \n",
       "[13] repr_0.17          backports_1.1.2    stats4_3.5.1       coda_0.19-2       \n",
       "[17] evaluate_0.12      httr_1.3.1         pillar_1.3.0       rlang_0.3.0.1     \n",
       "[21] lazyeval_0.2.1     uuid_0.1-2         readxl_1.1.0       rstudioapi_0.8    \n",
       "[25] callr_3.0.0        loo_2.0.0          munsell_0.5.0      broom_0.5.0       \n",
       "[29] compiler_3.5.1     modelr_0.1.2       pkgconfig_2.0.2    base64enc_0.1-3   \n",
       "[33] pkgbuild_1.0.2     htmltools_0.3.6    tidyselect_0.2.5   gridExtra_2.3     \n",
       "[37] codetools_0.2-15   matrixStats_0.54.0 crayon_1.3.4       withr_2.1.2       \n",
       "[41] MASS_7.3-50        grid_3.5.1         nlme_3.1-137       gtable_0.2.0      \n",
       "[45] magrittr_1.5       scales_1.0.0       cli_1.0.1          stringi_1.2.4     \n",
       "[49] bindrcpp_0.2.2     xml2_1.2.0         IRkernel_0.8.11    tools_3.5.1       \n",
       "[53] glue_1.3.0         hms_0.4.2          processx_3.2.0     inline_0.3.15     \n",
       "[57] colorspace_1.3-2   rvest_0.3.2        pbdZMQ_0.3-3       bindr_0.1.1       \n",
       "[61] haven_1.1.2       "
      ]
     },
     "metadata": {},
     "output_type": "display_data"
    }
   ],
   "source": [
    "sessionInfo() # lists loaded packages"
   ]
  },
  {
   "cell_type": "markdown",
   "metadata": {},
   "source": [
    "## Probability Density Function"
   ]
  },
  {
   "cell_type": "markdown",
   "metadata": {},
   "source": [
    "Consider the uniform distribution on the interval from 0 to 1/2. The value of the density is 2 on that interval, and 0 elsewhere. The area under the graph is the area of a rectangle. The length of the base is 1/2, and the height is 2\n",
    "\n",
    "∫density = area of rectangle = base⋅height = 1/2⋅2 = 1.\n",
    "\n",
    "> More generally, if the density has a large value over a small region, then the probability is comparable to the value times the size of the region. \n",
    "\n",
    "(I say \"comparable to\" rather than \"equal to\" because the value my not be the same at all points in the region.) The probability within the region must not exceed 1. \n",
    "\n",
    "<font color = 'red'>A large number---much larger than 1---multiplied by a small number (the size of the region) can be less than 1 if the latter number is small enough</font>."
   ]
  },
  {
   "cell_type": "markdown",
   "metadata": {},
   "source": [
    "Remember that the 'PD' in PDF stands for \"probability density\", not probability. <font color = 'blue'>Density means probability per unit value of the random variable</font>. That can easily exceed 1. <font color = 'red'>What has to be true is that the integral of this density function taken with respect to this value must be exactly 1</font>.\n",
    "\n",
    "If we know a PDF function (e.g. normal distribution), and want to know the \"probability\" of a given value, say x=1, what will people usually do? \n",
    "\n",
    "> <font color = 'green'>To find the probability that the output of a random event is within some range, you integrate the PDF over this range</font>.\n",
    "\n"
   ]
  },
  {
   "cell_type": "markdown",
   "metadata": {},
   "source": [
    "## Maximum Likelihood for the Exponential Distribution, Clearly Explained! V2.0"
   ]
  },
  {
   "cell_type": "markdown",
   "metadata": {},
   "source": [
    "https://www.youtube.com/watch?v=p3T-_LMrvBc"
   ]
  },
  {
   "cell_type": "markdown",
   "metadata": {},
   "source": [
    "## Exponential vs Poisson"
   ]
  },
  {
   "cell_type": "markdown",
   "metadata": {},
   "source": [
    "<img src='pics/SR_u34.png' alt='Drawing' style='width:425pt'/>"
   ]
  },
  {
   "cell_type": "markdown",
   "metadata": {},
   "source": [
    "<img src='pics/SR_u35.png' alt='Drawing' style='width:425pt'/>"
   ]
  },
  {
   "cell_type": "markdown",
   "metadata": {},
   "source": [
    "<img src='pics/SR_u36.png' alt='Drawing' style='width:425pt'/>"
   ]
  },
  {
   "cell_type": "markdown",
   "metadata": {},
   "source": [
    "https://www.youtube.com/watch?v=mE87Tj_KHYA"
   ]
  },
  {
   "cell_type": "markdown",
   "metadata": {},
   "source": [
    "<img src='pics/SR_u37.png' alt='Drawing' style='width:425pt'/>"
   ]
  },
  {
   "cell_type": "markdown",
   "metadata": {},
   "source": []
  },
  {
   "cell_type": "markdown",
   "metadata": {},
   "source": [
    "https://math.stackexchange.com/questions/1536497/what-is-the-difference-between-a-poisson-and-an-exponential-distribution"
   ]
  },
  {
   "cell_type": "markdown",
   "metadata": {},
   "source": [
    "<img src='pics/Snap33.png' alt='Drawing' style='width:525pt'/>"
   ]
  },
  {
   "cell_type": "markdown",
   "metadata": {},
   "source": [
    "## The Poisson distribution "
   ]
  },
  {
   "cell_type": "markdown",
   "metadata": {},
   "source": [
    "The Poisson distribution (bottom-left) is a count distribution like the binomial. It is actually a special case of the binomial, mathematically. \n",
    "\n",
    "* If the number of trials n is very large (and usually unknown) and the probability of a success p is very small, then a binomial distribution converges to a Poisson distribution with an expected rate of events per unit time of λ = np. \n",
    "\n",
    "\n",
    "* Practically, the Poisson distribution is used for counts that never get close to any theoretical maximum. As a special case of the binomial, it has maximum entropy under exactly the same constraints.\n",
    "\n",
    "\n",
    "* Its shape is described by a single parameter, the rate of events λ. Poisson GLMs are detailed in the next chapter."
   ]
  },
  {
   "cell_type": "markdown",
   "metadata": {},
   "source": [
    "**<font color = 'purple' style='background-color: lightyellow'>Relation to the exponential distribution </font>**\n",
    "\n",
    "The relation between the Poisson distribution and the exponential distribution is summarized by the following proposition.\n",
    "\n",
    "Proposition The number of occurrences of an event within a unit of time has a Poisson distribution with parameter $lambda $ if the time elapsed between two successive occurrences of the event has an exponential distribution with parameter $lambda $ and it is independent of previous occurrences."
   ]
  },
  {
   "cell_type": "markdown",
   "metadata": {},
   "source": [
    "## The exponential distribution"
   ]
  },
  {
   "cell_type": "markdown",
   "metadata": {},
   "source": [
    "The exponential distribution (center) is constrained to be zero or positive. It is a fundamental distribution of distance and duration, kinds of measurements that represent displacement from some point of reference, either in time or space. \n",
    "\n",
    "* If the probability of an event is constant in time or across space, then the distribution of events tends towards exponential. \n",
    "\n",
    "\n",
    "* The exponential distribution has maximum entropy among all non-negative continuous distributions with the same average displacement. \n",
    "\n",
    "\n",
    "* Its shape is described by a single parameter, the rate of events λ, or the average displacement $λ^{−1}$. This distribution is the core of survival and event history analysis, which is not covered in this book."
   ]
  },
  {
   "cell_type": "markdown",
   "metadata": {},
   "source": [
    "### \"C:\\Users\\bings\\DS\\0_McElreath_SR\\refs\\Exponential distribution.html\""
   ]
  },
  {
   "cell_type": "markdown",
   "metadata": {},
   "source": [
    "https://ipfs.io/ipfs/QmXoypizjW3WknFiJnKLwHCnL72vedxjQkDDP1mXWo6uco/wiki/Exponential_distribution.html"
   ]
  },
  {
   "cell_type": "markdown",
   "metadata": {},
   "source": [
    "The exponential distribution is used to model the time between the occurrence of events in an interval of time, or the distance between events in space. The exponential distribution may be useful to model events such as\n",
    "\n",
    "* The time between goals scored in a World Cup soccer match\n",
    "* The time between customer calls to a help center<sup id=\"cite_ref-1\">[[1]](https://ipfs.io/ipfs/QmXoypizjW3WknFiJnKLwHCnL72vedxjQkDDP1mXWo6uco/wiki/Exponential_distribution.html#cite_note-1)</sup>\n",
    "* The time between meteors greater than 1 meter diameter striking earth\n",
    "* The time between successive failures of a machine \n",
    "* The time from diagnosis until death in patients with metastatic cancer\n",
    "* The distance between successive breaks in a pipeline\n",
    "\n",
    "The exponential distribution is an appropriate model if the following conditions are true.\n",
    "\n",
    "* X is the time (or distance) between events, with X > 0. \n",
    "* The occurrence of one event does not affect the probability that a second event will occur. That is, events occur independently.\n",
    "* The rate at which events occur is constant. The rate cannot be higher in some intervals and lower in other intervals.\n",
    "* Two events cannot occur at exactly the same instant.\n",
    "\n",
    "If these conditions are true, then X is an exponential random variable, and the distribution of X is an exponential distribution. If these conditions are not true, then the exponential distribution is not appropriate. Alternative distributions such as the [Weibull](https://ipfs.io/ipfs/QmXoypizjW3WknFiJnKLwHCnL72vedxjQkDDP1mXWo6uco/wiki/Weibull_distribution.html \"Weibull distribution\") or [gamma](https://ipfs.io/ipfs/QmXoypizjW3WknFiJnKLwHCnL72vedxjQkDDP1mXWo6uco/wiki/Gamma_distribution.html \"Gamma distribution\") may give a better fit to the data, or a semi-parametric model, such as the [Cox proportional-hazards model](https://ipfs.io/ipfs/QmXoypizjW3WknFiJnKLwHCnL72vedxjQkDDP1mXWo6uco/wiki/Proportional_hazards_model.html \"Proportional hazards model\"), may be required for statistical analysis.\n",
    "\n",
    "The graph of an exponential distribution starts on the y-axis at a positive value (called lambda, λ) and decreases to the right."
   ]
  },
  {
   "cell_type": "markdown",
   "metadata": {},
   "source": [
    "##### lambda"
   ]
  },
  {
   "cell_type": "markdown",
   "metadata": {},
   "source": [
    "The exponential distribution is specified by the single parameter lambda (_λ_). Lambda is the event rate, and may have different names in other applications:\n",
    "\n",
    "* event rate\n",
    "* rate parameter\n",
    "* arrival rate\n",
    "* death rate\n",
    "* failure rate\n",
    "* transition rate\n",
    "\n",
    "Lambda is the number of events per unit time. The graph of the exponential distribution, called the probability density function (PDF), shows the distribution of time (or distance) between events. The PDF is specified in terms of lambda (events per unit time) and _x_ (time).\n",
    "\n",
    "${\\text{density}}=f(x)=\\lambda e^{-\\lambda x}$\n",
    "\n",
    "where \n",
    "\n",
    "* _λ_ is the rate parameter\n",
    "* _x_ > 0 \n",
    "* _e_ is the number 2.71828 …, the base of the natural logs"
   ]
  },
  {
   "cell_type": "markdown",
   "metadata": {},
   "source": [
    "##### **<font color = 'purple' style='background-color: lightyellow'>Examples</font>**"
   ]
  },
  {
   "cell_type": "markdown",
   "metadata": {},
   "source": [
    "Olkin [2] gives the following example of data modeled using an exponential distribution. The time between successive failures of the air-conditioning system of a particular jet airplane were recorded:\n",
    "\n",
    "Time between successive failures = 23, 261, 87, 7, 120, 14, 62, 47, 225, 71, 246, 21, 42, 20, 5, 12, 120, 11, 3, 14, 71, 11, 14, 11, 16, 90, 1, 16, 52, 95\n",
    "\n"
   ]
  },
  {
   "cell_type": "markdown",
   "metadata": {},
   "source": [
    "<img src='pics/SR_q32.png' alt='Drawing' style='width:325pt'/>"
   ]
  },
  {
   "cell_type": "markdown",
   "metadata": {},
   "source": [
    "The mean time between failures is 59.6. The median time between failures is 22. Because the exponential distribution is skewed right, the median is less than the mean. The figure shows a histogram of the time between failures and a fitted exponential density curve with λ = 1/(mean time to failure) = 1/59.6 = 0.0168."
   ]
  },
  {
   "cell_type": "markdown",
   "metadata": {},
   "source": [
    "**Cumulative distribution function**\n",
    "\n",
    "The probability that the time between events is less than a specified time x is given by the cumulative distribution function (CDF):\n",
    "\n",
    "$P(\\text{time between events is} \\leq \\ x)=1-e^{(-\\lambda x)}$\n",
    " \n",
    "The figures below show the probability density and cumulative distribution functions for the exponential distribution with lambda = 1.\n",
    "\n"
   ]
  },
  {
   "cell_type": "markdown",
   "metadata": {},
   "source": [
    "<img src='pics/Exponential_pdf_and_cdf.svg.png' alt='Drawing' style='width:425pt'/>"
   ]
  },
  {
   "cell_type": "markdown",
   "metadata": {},
   "source": [
    "###### **<font color = 'purple' style='background-color: lightyellow'>Examples using the CDF to calculate probability</font>**"
   ]
  },
  {
   "cell_type": "markdown",
   "metadata": {},
   "source": [
    "**<font color = 'purple' style='background-color: lightyellow'>Example 1. </font>** <font color = 'green'>The time between failures in the air-conditioner example was modelled as an exponential distribution with lambda = 0.0168. For λ = 0.0168, the mean time between failures is 1/0.0168 = 59.5 hours</font>. \n",
    "\n",
    "**<font color = 'purple'>What is the probability that the time until the next failure is less than 100 hours? </font>**This question can be answered using the cumulative distribution function. The graph shows the CDF for this example."
   ]
  },
  {
   "cell_type": "markdown",
   "metadata": {},
   "source": [
    "<img src='pics/Air_conditioning_failure_in_less_than_100_hours.svg.png' alt='Drawing' style='width:325pt'/>"
   ]
  },
  {
   "cell_type": "markdown",
   "metadata": {},
   "source": [
    "The graph shows that, using the cumulative distribution function with λ = 0.0168, the value of x = 100 corresponds to a value of y = 0.81. So the probability that the time until the next failure is less than 100 hours is p = 0.81. The same probability can be calculated using the formula for the CDF:\n",
    "\n",
    "<dl id=\"mwgQ\">\n",
    "    <dd id=\"mwgg\"> P(time between events is < _x_) = 1 − e^(−λx)</dd>\n",
    "</dl>\n",
    "\n",
    "<dl id=\"mwhA\">\n",
    "    <dd id=\"mwhQ\"> P(time between events is < 100)=1-e^(-0.0168×100) = 0.8136</dd>\n",
    "</dl>\n",
    "\n",
    "**<font color = 'purple' style='background-color: lightyellow'>Example 2.</font>** For an exponential distribution with λ = 4, <font color = 'purple'>**what is the probability that the time between events (x) is less than 0.5** </font>?\n",
    "\n",
    "From the equation for the CDF, P(time between events is < 0.5) = 1 − e^(-4·0.5) = 0.865\n",
    "\n",
    "This probability may also be visualized by examining the PDF and CDF, which show that 86.5% of the area under the curve is less than _x_ = 0.5."
   ]
  },
  {
   "cell_type": "markdown",
   "metadata": {},
   "source": [
    "<img src='pics/PDF_and_CDF_lambda_4.svg.png' alt='Drawing' style='width:325pt'/>"
   ]
  },
  {
   "cell_type": "markdown",
   "metadata": {},
   "source": [
    "**<font color = 'purple' style='background-color: lightyellow'>Exponential distribution in survival analysis</font>**"
   ]
  },
  {
   "cell_type": "markdown",
   "metadata": {},
   "source": [
    "In survival analysis, the exponential distribution can be used to model the distribution of survival times for subjects in the study. The survivor function is the probability that a subject survives longer than time x. Because the CDF is the probability that a subject survives less than time x, the survivor function = 1 − CDF.\n",
    "\n",
    "P(time between events is > 100) = 1 − P(time between events is < 100) = $1 − (1 − e^{−λx}) ) = e^{−λx}$\n",
    "\n",
    "The CDF graph below for the air conditioner failure example shows that P(x < 100) = 0.81. The survivor function graph shows that P(x > 100) = 1 − P(x < 100) = 1 – 0.81 = 0.19."
   ]
  },
  {
   "cell_type": "markdown",
   "metadata": {},
   "source": [
    "<img src='pics/Exponential_CDF_and_survival_function.svg.png' alt='Drawing' style='width:525pt'/>"
   ]
  },
  {
   "cell_type": "markdown",
   "metadata": {},
   "source": [
    "### Buffer"
   ]
  },
  {
   "cell_type": "markdown",
   "metadata": {},
   "source": [
    "##### **Kruschke Doing Bayesian Data Analysis**"
   ]
  },
  {
   "cell_type": "markdown",
   "metadata": {},
   "source": [
    "It is defined over positive values. It has a single parameter that specifies the reciprocal of its mean. Thus, the JAGS expression nuMinusOne ∼ dexp(1/29) says that the variable named nuMinusOne is exponentially distributed with a mean of 29."
   ]
  },
  {
   "cell_type": "markdown",
   "metadata": {},
   "source": [
    "##### https://stats.stackexchange.com/questions/325539/lambda-exponential-vs-poisson-interpretation"
   ]
  },
  {
   "cell_type": "markdown",
   "metadata": {},
   "source": [
    "**<font color = 'purple' style='background-color: lightyellow'>Suppose I am waiting for a bus at a stop. And suppose that a bus usually arrives at the stop in every 10 mins.</font>** Now I define λ to be the rate of arrival of a bus per minute. So, λ = (1/10).\n",
    "\n",
    "Now I want to compute the probability that no bus arrives in the next minute. I can do it using both the poisson and the exponential distribution.\n",
    "\n",
    "**Poisson**\n",
    "\n",
    "λ = 1/10\n",
    "\n",
    "Probability of 0 arrivals in the next minute: P(X = 0) = 0.9048\n",
    "\n",
    "**Exponential**\n",
    "\n",
    "λ = 1/10\n",
    "\n",
    "Probability of my having to wait for more than 1 minute: P(X>1) = 0.9048\n",
    "\n",
    "Note: Look at the expected values of both the distributions. For Poisson, we get that the average number of buses arriving per minute E(X) = λ = 0.10 buses. For exponential, the average waiting time for a bus to arrive E(X) = (1/λ) = 10 mins"
   ]
  },
  {
   "cell_type": "markdown",
   "metadata": {},
   "source": [
    "##### https://www.statlect.com/probability-distributions/exponential-distribution"
   ]
  },
  {
   "cell_type": "markdown",
   "metadata": {},
   "source": [
    "E[X] = $\\frac{1}{\\lambda}$\n",
    "\n",
    "Var[X] = $\\frac{1}{\\lambda^2}$"
   ]
  },
  {
   "cell_type": "markdown",
   "metadata": {},
   "source": []
  },
  {
   "cell_type": "markdown",
   "metadata": {},
   "source": [
    "## Logit/Log Scale"
   ]
  },
  {
   "cell_type": "markdown",
   "metadata": {},
   "source": [
    "<img src='pics/SR_o31.png' alt='Drawing' style='width:425pt'/>"
   ]
  },
  {
   "cell_type": "markdown",
   "metadata": {},
   "source": [
    "<img src='pics/SR_o32.png' alt='Drawing' style='width:425pt'/>"
   ]
  },
  {
   "cell_type": "code",
   "execution_count": 3,
   "metadata": {},
   "outputs": [
    {
     "data": {
      "text/html": [
       "-1.04982212449868"
      ],
      "text/latex": [
       "-1.04982212449868"
      ],
      "text/markdown": [
       "-1.04982212449868"
      ],
      "text/plain": [
       "[1] -1.049822"
      ]
     },
     "metadata": {},
     "output_type": "display_data"
    }
   ],
   "source": [
    "log(0.35)"
   ]
  },
  {
   "cell_type": "markdown",
   "metadata": {},
   "source": [
    "<img src='pics/SR_q1f.png' alt='Drawing' style='width:425pt'/>"
   ]
  },
  {
   "cell_type": "markdown",
   "metadata": {},
   "source": []
  },
  {
   "cell_type": "markdown",
   "metadata": {},
   "source": [
    "## rough"
   ]
  },
  {
   "cell_type": "code",
   "execution_count": 68,
   "metadata": {},
   "outputs": [
    {
     "data": {
      "text/html": [
       "<table>\n",
       "<tbody>\n",
       "\t<tr><td>0.7713979</td><td>0.8049984</td><td>0.7137373</td><td>0.7676945</td></tr>\n",
       "\t<tr><td>0.3476301</td><td>0.8053233</td><td>0.5288471</td><td>0.6541690</td></tr>\n",
       "\t<tr><td>0.8840334</td><td>0.8988298</td><td>0.7884155</td><td>0.8116421</td></tr>\n",
       "\t<tr><td>0.9481954</td><td>0.7352721</td><td>0.9323378</td><td>0.9408123</td></tr>\n",
       "\t<tr><td>0.4383109</td><td>0.5773124</td><td>0.5566019</td><td>0.6365602</td></tr>\n",
       "\t<tr><td>0.8007519</td><td>0.5696762</td><td>0.6684508</td><td>0.6935776</td></tr>\n",
       "</tbody>\n",
       "</table>\n"
      ],
      "text/latex": [
       "\\begin{tabular}{llll}\n",
       "\t 0.7713979 & 0.8049984 & 0.7137373 & 0.7676945\\\\\n",
       "\t 0.3476301 & 0.8053233 & 0.5288471 & 0.6541690\\\\\n",
       "\t 0.8840334 & 0.8988298 & 0.7884155 & 0.8116421\\\\\n",
       "\t 0.9481954 & 0.7352721 & 0.9323378 & 0.9408123\\\\\n",
       "\t 0.4383109 & 0.5773124 & 0.5566019 & 0.6365602\\\\\n",
       "\t 0.8007519 & 0.5696762 & 0.6684508 & 0.6935776\\\\\n",
       "\\end{tabular}\n"
      ],
      "text/markdown": [
       "\n",
       "| 0.7713979 | 0.8049984 | 0.7137373 | 0.7676945 | \n",
       "| 0.3476301 | 0.8053233 | 0.5288471 | 0.6541690 | \n",
       "| 0.8840334 | 0.8988298 | 0.7884155 | 0.8116421 | \n",
       "| 0.9481954 | 0.7352721 | 0.9323378 | 0.9408123 | \n",
       "| 0.4383109 | 0.5773124 | 0.5566019 | 0.6365602 | \n",
       "| 0.8007519 | 0.5696762 | 0.6684508 | 0.6935776 | \n",
       "\n",
       "\n"
      ],
      "text/plain": [
       "     [,1]      [,2]      [,3]      [,4]     \n",
       "[1,] 0.7713979 0.8049984 0.7137373 0.7676945\n",
       "[2,] 0.3476301 0.8053233 0.5288471 0.6541690\n",
       "[3,] 0.8840334 0.8988298 0.7884155 0.8116421\n",
       "[4,] 0.9481954 0.7352721 0.9323378 0.9408123\n",
       "[5,] 0.4383109 0.5773124 0.5566019 0.6365602\n",
       "[6,] 0.8007519 0.5696762 0.6684508 0.6935776"
      ]
     },
     "metadata": {},
     "output_type": "display_data"
    }
   ],
   "source": [
    "p <- sapply( 1:4 , function(k) inv_logit( prior$a + prior$b[,k] ) )\n",
    "p %>% head"
   ]
  },
  {
   "cell_type": "raw",
   "metadata": {},
   "source": [
    "sapply(mtcars, function(x) length(unique(x)))\n",
    "Filter(function(x) !is.numeric(x), mtcars)\n",
    "integrate(function(x) sin(x) ^ 2, 0, pi)"
   ]
  },
  {
   "cell_type": "code",
   "execution_count": 82,
   "metadata": {
    "collapsed": true
   },
   "outputs": [
    {
     "data": {
      "text/html": [
       "<table>\n",
       "<tbody>\n",
       "\t<tr><td>0.7713979</td><td>0.7137373</td></tr>\n",
       "\t<tr><td>0.3476301</td><td>0.5288471</td></tr>\n",
       "\t<tr><td>0.8840334</td><td>0.7884155</td></tr>\n",
       "\t<tr><td>0.9481954</td><td>0.9323378</td></tr>\n",
       "\t<tr><td>0.4383109</td><td>0.5566019</td></tr>\n",
       "\t<tr><td>0.8007519</td><td>0.6684508</td></tr>\n",
       "</tbody>\n",
       "</table>\n"
      ],
      "text/latex": [
       "\\begin{tabular}{ll}\n",
       "\t 0.7713979 & 0.7137373\\\\\n",
       "\t 0.3476301 & 0.5288471\\\\\n",
       "\t 0.8840334 & 0.7884155\\\\\n",
       "\t 0.9481954 & 0.9323378\\\\\n",
       "\t 0.4383109 & 0.5566019\\\\\n",
       "\t 0.8007519 & 0.6684508\\\\\n",
       "\\end{tabular}\n"
      ],
      "text/markdown": [
       "\n",
       "| 0.7713979 | 0.7137373 | \n",
       "| 0.3476301 | 0.5288471 | \n",
       "| 0.8840334 | 0.7884155 | \n",
       "| 0.9481954 | 0.9323378 | \n",
       "| 0.4383109 | 0.5566019 | \n",
       "| 0.8007519 | 0.6684508 | \n",
       "\n",
       "\n"
      ],
      "text/plain": [
       "     [,1]      [,2]     \n",
       "[1,] 0.7713979 0.7137373\n",
       "[2,] 0.3476301 0.5288471\n",
       "[3,] 0.8840334 0.7884155\n",
       "[4,] 0.9481954 0.9323378\n",
       "[5,] 0.4383109 0.5566019\n",
       "[6,] 0.8007519 0.6684508"
      ]
     },
     "metadata": {},
     "output_type": "display_data"
    }
   ],
   "source": [
    "p <- sapply( c(1,3) , function(k) inv_logit( prior$a + prior$b[,k] ) )\n",
    "p %>% head"
   ]
  },
  {
   "cell_type": "code",
   "execution_count": 69,
   "metadata": {},
   "outputs": [
    {
     "data": {
      "text/html": [
       "<dl class=dl-horizontal>\n",
       "\t<dt>mpg</dt>\n",
       "\t\t<dd>25</dd>\n",
       "\t<dt>cyl</dt>\n",
       "\t\t<dd>3</dd>\n",
       "\t<dt>disp</dt>\n",
       "\t\t<dd>27</dd>\n",
       "\t<dt>hp</dt>\n",
       "\t\t<dd>22</dd>\n",
       "\t<dt>drat</dt>\n",
       "\t\t<dd>22</dd>\n",
       "\t<dt>wt</dt>\n",
       "\t\t<dd>29</dd>\n",
       "\t<dt>qsec</dt>\n",
       "\t\t<dd>30</dd>\n",
       "\t<dt>vs</dt>\n",
       "\t\t<dd>2</dd>\n",
       "\t<dt>am</dt>\n",
       "\t\t<dd>2</dd>\n",
       "\t<dt>gear</dt>\n",
       "\t\t<dd>3</dd>\n",
       "\t<dt>carb</dt>\n",
       "\t\t<dd>6</dd>\n",
       "</dl>\n"
      ],
      "text/latex": [
       "\\begin{description*}\n",
       "\\item[mpg] 25\n",
       "\\item[cyl] 3\n",
       "\\item[disp] 27\n",
       "\\item[hp] 22\n",
       "\\item[drat] 22\n",
       "\\item[wt] 29\n",
       "\\item[qsec] 30\n",
       "\\item[vs] 2\n",
       "\\item[am] 2\n",
       "\\item[gear] 3\n",
       "\\item[carb] 6\n",
       "\\end{description*}\n"
      ],
      "text/markdown": [
       "mpg\n",
       ":   25cyl\n",
       ":   3disp\n",
       ":   27hp\n",
       ":   22drat\n",
       ":   22wt\n",
       ":   29qsec\n",
       ":   30vs\n",
       ":   2am\n",
       ":   2gear\n",
       ":   3carb\n",
       ":   6\n",
       "\n"
      ],
      "text/plain": [
       " mpg  cyl disp   hp drat   wt qsec   vs   am gear carb \n",
       "  25    3   27   22   22   29   30    2    2    3    6 "
      ]
     },
     "metadata": {},
     "output_type": "display_data"
    }
   ],
   "source": [
    "sapply(mtcars, function(x) length(unique(x)))\n",
    "# Filter(function(x) !is.numeric(x), mtcars)\n",
    "# integrate(function(x) sin(x) ^ 2, 0, pi)"
   ]
  },
  {
   "cell_type": "code",
   "execution_count": 76,
   "metadata": {},
   "outputs": [
    {
     "data": {
      "text/html": [
       "'integer'"
      ],
      "text/latex": [
       "'integer'"
      ],
      "text/markdown": [
       "'integer'"
      ],
      "text/plain": [
       "[1] \"integer\""
      ]
     },
     "metadata": {},
     "output_type": "display_data"
    }
   ],
   "source": [
    "1:4 %>% typeof()"
   ]
  },
  {
   "cell_type": "code",
   "execution_count": 30,
   "metadata": {
    "collapsed": true
   },
   "outputs": [
    {
     "data": {
      "image/png": "[encoded data removed]",
      "text/plain": [
       "plot without title"
      ]
     },
     "metadata": {},
     "output_type": "display_data"
    }
   ],
   "source": [
    "traceplot( m11.4 )"
   ]
  },
  {
   "cell_type": "code",
   "execution_count": null,
   "metadata": {},
   "outputs": [],
   "source": []
  }
 ],
 "metadata": {
  "hide_input": false,
  "kernelspec": {
   "display_name": "R",
   "language": "R",
   "name": "ir"
  },
  "language_info": {
   "codemirror_mode": "r",
   "file_extension": ".r",
   "mimetype": "text/x-r-source",
   "name": "R",
   "pygments_lexer": "r",
   "version": "3.6.2"
  },
  "latex_envs": {
   "LaTeX_envs_menu_present": true,
   "autoclose": true,
   "autocomplete": true,
   "bibliofile": "biblio.bib",
   "cite_by": "apalike",
   "current_citInitial": 1,
   "eqLabelWithNumbers": true,
   "eqNumInitial": 1,
   "hotkeys": {
    "equation": "Ctrl-E",
    "itemize": "Ctrl-I"
   },
   "labels_anchors": false,
   "latex_user_defs": false,
   "report_style_numbering": false,
   "user_envs_cfg": false
  },
  "notify_time": "10",
  "toc": {
   "base_numbering": 1,
   "nav_menu": {},
   "number_sections": true,
   "sideBar": true,
   "skip_h1_title": false,
   "title_cell": "Table of Contents",
   "title_sidebar": "Contents",
   "toc_cell": true,
   "toc_position": {
    "height": "calc(100% - 180px)",
    "left": "10px",
    "top": "150px",
    "width": "170.469px"
   },
   "toc_section_display": true,
   "toc_window_display": true
  },
  "varInspector": {
   "cols": {
    "lenName": 16,
    "lenType": 16,
    "lenVar": 40
   },
   "kernels_config": {
    "python": {
     "delete_cmd_postfix": "",
     "delete_cmd_prefix": "del ",
     "library": "var_list.py",
     "varRefreshCmd": "print(var_dic_list())"
    },
    "r": {
     "delete_cmd_postfix": ") ",
     "delete_cmd_prefix": "rm(",
     "library": "var_list.r",
     "varRefreshCmd": "cat(var_dic_list()) "
    }
   },
   "types_to_exclude": [
    "module",
    "function",
    "builtin_function_or_method",
    "instance",
    "_Feature"
   ],
   "window_display": false
  }
 },
 "nbformat": 4,
 "nbformat_minor": 2
}
