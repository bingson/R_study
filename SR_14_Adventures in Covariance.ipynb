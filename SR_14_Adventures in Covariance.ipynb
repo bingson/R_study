{
 "cells": [
  {
   "cell_type": "markdown",
   "metadata": {
    "toc": true
   },
   "source": [
    "<h1>Table of Contents<span class=\"tocSkip\"></span></h1>\n",
    "<div class=\"toc\"><ul class=\"toc-item\"><li><span><a href=\"#Ch-14\" data-toc-modified-id=\"Ch-14-1\"><span class=\"toc-item-num\">1&nbsp;&nbsp;</span>Ch 14</a></span><ul class=\"toc-item\"><li><span><a href=\"#Variying-slopes-by-construction\" data-toc-modified-id=\"Variying-slopes-by-construction-1.1\"><span class=\"toc-item-num\">1.1&nbsp;&nbsp;</span>Variying slopes by construction</a></span><ul class=\"toc-item\"><li><span><a href=\"#m14.1\" data-toc-modified-id=\"m14.1-1.1.1\"><span class=\"toc-item-num\">1.1.1&nbsp;&nbsp;</span>m14.1</a></span></li></ul></li><li><span><a href=\"#Advanced-Varying-Slopes-(14.2)\" data-toc-modified-id=\"Advanced-Varying-Slopes-(14.2)-1.2\"><span class=\"toc-item-num\">1.2&nbsp;&nbsp;</span>Advanced Varying Slopes (14.2)</a></span></li><li><span><a href=\"#Social-relations-as-correlated-varying-effects\" data-toc-modified-id=\"Social-relations-as-correlated-varying-effects-1.3\"><span class=\"toc-item-num\">1.3&nbsp;&nbsp;</span>Social relations as correlated varying effects</a></span></li><li><span><a href=\"#Continous-Categories-and-the-Gaussian-Process-(14.5)\" data-toc-modified-id=\"Continous-Categories-and-the-Gaussian-Process-(14.5)-1.4\"><span class=\"toc-item-num\">1.4&nbsp;&nbsp;</span>Continous Categories and the Gaussian Process (14.5)</a></span></li></ul></li><li><span><a href=\"#Misc\" data-toc-modified-id=\"Misc-2\"><span class=\"toc-item-num\">2&nbsp;&nbsp;</span>Misc</a></span><ul class=\"toc-item\"><li><span><a href=\"#rlkjcorr\" data-toc-modified-id=\"rlkjcorr-2.1\"><span class=\"toc-item-num\">2.1&nbsp;&nbsp;</span>rlkjcorr</a></span></li></ul></li></ul></div>"
   ]
  },
  {
   "cell_type": "markdown",
   "metadata": {},
   "source": [
    "# Ch 14"
   ]
  },
  {
   "cell_type": "markdown",
   "metadata": {},
   "source": [
    "## Variying slopes by construction"
   ]
  },
  {
   "cell_type": "code",
   "execution_count": 2,
   "metadata": {
    "ExecuteTime": {
     "end_time": "2019-05-28T13:31:36.065828Z",
     "start_time": "2019-05-28T13:31:35.918Z"
    }
   },
   "outputs": [],
   "source": [
    "library(tidyverse)\n",
    "\n",
    "# loads experimental branch of statistical rethinking pkg\n",
    "library(rethinking)"
   ]
  },
  {
   "cell_type": "code",
   "execution_count": 3,
   "metadata": {
    "ExecuteTime": {
     "end_time": "2019-05-28T13:31:36.158153Z",
     "start_time": "2019-05-28T13:31:35.923Z"
    }
   },
   "outputs": [],
   "source": [
    "## R code 14.1\n",
    "a <- 3.5            # average morning wait time\n",
    "b <- (-1)           # average difference afternoon wait time\n",
    "sigma_a <- 1        # std dev in intercepts\n",
    "sigma_b <- 0.5      # std dev in slopes\n",
    "rho <- (-0.7)       # correlation between intercepts and slopes"
   ]
  },
  {
   "cell_type": "code",
   "execution_count": 4,
   "metadata": {
    "ExecuteTime": {
     "end_time": "2019-05-28T13:31:36.216542Z",
     "start_time": "2019-05-28T13:31:35.930Z"
    }
   },
   "outputs": [
    {
     "data": {
      "text/html": [
       "<ol class=list-inline>\n",
       "\t<li>3.5</li>\n",
       "\t<li>-1</li>\n",
       "</ol>\n"
      ],
      "text/latex": [
       "\\begin{enumerate*}\n",
       "\\item 3.5\n",
       "\\item -1\n",
       "\\end{enumerate*}\n"
      ],
      "text/markdown": [
       "1. 3.5\n",
       "2. -1\n",
       "\n",
       "\n"
      ],
      "text/plain": [
       "[1]  3.5 -1.0"
      ]
     },
     "metadata": {},
     "output_type": "display_data"
    }
   ],
   "source": [
    "## R code 14.2\n",
    "Mu <- c( a , b )\n",
    "\n",
    "Mu"
   ]
  },
  {
   "cell_type": "code",
   "execution_count": 5,
   "metadata": {
    "ExecuteTime": {
     "end_time": "2019-05-28T13:31:36.294893Z",
     "start_time": "2019-05-28T13:31:35.936Z"
    }
   },
   "outputs": [
    {
     "data": {
      "text/html": [
       "-0.35"
      ],
      "text/latex": [
       "-0.35"
      ],
      "text/markdown": [
       "-0.35"
      ],
      "text/plain": [
       "[1] -0.35"
      ]
     },
     "metadata": {},
     "output_type": "display_data"
    },
    {
     "data": {
      "text/html": [
       "<table>\n",
       "<tbody>\n",
       "\t<tr><td> 1.00</td><td>-0.35</td></tr>\n",
       "\t<tr><td>-0.35</td><td> 0.25</td></tr>\n",
       "</tbody>\n",
       "</table>\n"
      ],
      "text/latex": [
       "\\begin{tabular}{ll}\n",
       "\t  1.00 & -0.35\\\\\n",
       "\t -0.35 &  0.25\\\\\n",
       "\\end{tabular}\n"
      ],
      "text/markdown": [
       "\n",
       "|  1.00 | -0.35 |\n",
       "| -0.35 |  0.25 |\n",
       "\n"
      ],
      "text/plain": [
       "     [,1]  [,2] \n",
       "[1,]  1.00 -0.35\n",
       "[2,] -0.35  0.25"
      ]
     },
     "metadata": {},
     "output_type": "display_data"
    }
   ],
   "source": [
    "## R code 14.3  \n",
    "cov_ab <- sigma_a*sigma_b*rho\n",
    "Sigma <- matrix( c(sigma_a^2,cov_ab,cov_ab,sigma_b^2) , ncol=2 )\n",
    "\n",
    "cov_ab\n",
    "Sigma"
   ]
  },
  {
   "cell_type": "code",
   "execution_count": 6,
   "metadata": {
    "ExecuteTime": {
     "end_time": "2019-05-28T13:31:36.382227Z",
     "start_time": "2019-05-28T13:31:35.943Z"
    }
   },
   "outputs": [
    {
     "data": {
      "text/html": [
       "<table>\n",
       "<tbody>\n",
       "\t<tr><td>1</td><td>3</td></tr>\n",
       "\t<tr><td>2</td><td>4</td></tr>\n",
       "</tbody>\n",
       "</table>\n"
      ],
      "text/latex": [
       "\\begin{tabular}{ll}\n",
       "\t 1 & 3\\\\\n",
       "\t 2 & 4\\\\\n",
       "\\end{tabular}\n"
      ],
      "text/markdown": [
       "\n",
       "| 1 | 3 |\n",
       "| 2 | 4 |\n",
       "\n"
      ],
      "text/plain": [
       "     [,1] [,2]\n",
       "[1,] 1    3   \n",
       "[2,] 2    4   "
      ]
     },
     "metadata": {},
     "output_type": "display_data"
    }
   ],
   "source": [
    "## R code 14.4\n",
    "# how matrices fill -> fills column first top to bottom, then next column\n",
    "test <- matrix( c(1,2,3,4) , nrow=2 , ncol=2 ); test"
   ]
  },
  {
   "cell_type": "code",
   "execution_count": 7,
   "metadata": {
    "ExecuteTime": {
     "end_time": "2019-05-28T13:31:36.452593Z",
     "start_time": "2019-05-28T13:31:35.950Z"
    }
   },
   "outputs": [
    {
     "data": {
      "text/html": [
       "<table>\n",
       "<tbody>\n",
       "\t<tr><td> 1.0</td><td>-0.7</td></tr>\n",
       "\t<tr><td>-0.7</td><td> 1.0</td></tr>\n",
       "</tbody>\n",
       "</table>\n"
      ],
      "text/latex": [
       "\\begin{tabular}{ll}\n",
       "\t  1.0 & -0.7\\\\\n",
       "\t -0.7 &  1.0\\\\\n",
       "\\end{tabular}\n"
      ],
      "text/markdown": [
       "\n",
       "|  1.0 | -0.7 |\n",
       "| -0.7 |  1.0 |\n",
       "\n"
      ],
      "text/plain": [
       "     [,1] [,2]\n",
       "[1,]  1.0 -0.7\n",
       "[2,] -0.7  1.0"
      ]
     },
     "metadata": {},
     "output_type": "display_data"
    }
   ],
   "source": [
    "## R code 14.5\n",
    "sigmas <- c(sigma_a,sigma_b) # standard deviations\n",
    "Rho <- matrix( c(1,rho,rho,1) , nrow=2 ) # correlation matrix\n",
    "Rho"
   ]
  },
  {
   "cell_type": "code",
   "execution_count": 8,
   "metadata": {
    "ExecuteTime": {
     "end_time": "2019-05-28T13:31:36.529447Z",
     "start_time": "2019-05-28T13:31:35.957Z"
    },
    "cell_style": "split"
   },
   "outputs": [
    {
     "data": {
      "text/html": [
       "<table>\n",
       "<tbody>\n",
       "\t<tr><td> 1.00</td><td>-0.35</td></tr>\n",
       "\t<tr><td>-0.35</td><td> 0.25</td></tr>\n",
       "</tbody>\n",
       "</table>\n"
      ],
      "text/latex": [
       "\\begin{tabular}{ll}\n",
       "\t  1.00 & -0.35\\\\\n",
       "\t -0.35 &  0.25\\\\\n",
       "\\end{tabular}\n"
      ],
      "text/markdown": [
       "\n",
       "|  1.00 | -0.35 |\n",
       "| -0.35 |  0.25 |\n",
       "\n"
      ],
      "text/plain": [
       "     [,1]  [,2] \n",
       "[1,]  1.00 -0.35\n",
       "[2,] -0.35  0.25"
      ]
     },
     "metadata": {},
     "output_type": "display_data"
    },
    {
     "data": {
      "text/html": [
       "'---sigmas'"
      ],
      "text/latex": [
       "'---sigmas'"
      ],
      "text/markdown": [
       "'---sigmas'"
      ],
      "text/plain": [
       "[1] \"---sigmas\""
      ]
     },
     "metadata": {},
     "output_type": "display_data"
    },
    {
     "data": {
      "text/html": [
       "<ol class=list-inline>\n",
       "\t<li>1</li>\n",
       "\t<li>0.5</li>\n",
       "</ol>\n"
      ],
      "text/latex": [
       "\\begin{enumerate*}\n",
       "\\item 1\n",
       "\\item 0.5\n",
       "\\end{enumerate*}\n"
      ],
      "text/markdown": [
       "1. 1\n",
       "2. 0.5\n",
       "\n",
       "\n"
      ],
      "text/plain": [
       "[1] 1.0 0.5"
      ]
     },
     "metadata": {},
     "output_type": "display_data"
    }
   ],
   "source": [
    "# now matrix multiply to get covariance matrix\n",
    "Sigma <- diag(sigmas) %*% Rho %*% diag(sigmas)\n",
    "Sigma\n",
    "\n",
    "\n",
    "\"---sigmas\"\n",
    "sigmas"
   ]
  },
  {
   "cell_type": "raw",
   "metadata": {
    "cell_style": "split"
   },
   "source": [
    "\"---test\"\n",
    "test\n",
    "\"---diag(test)\"\n",
    "diag(test)\n",
    "\"---test[1,]\"\n",
    "test[1,]\n",
    "\n",
    "\"---test[1,] %>% diag\"\n",
    "test[1,] %>% diag"
   ]
  },
  {
   "cell_type": "code",
   "execution_count": 9,
   "metadata": {
    "ExecuteTime": {
     "end_time": "2019-05-28T13:31:36.584842Z",
     "start_time": "2019-05-28T13:31:36.047Z"
    }
   },
   "outputs": [],
   "source": [
    "## R code 14.6\n",
    "N_cafes <- 20"
   ]
  },
  {
   "cell_type": "code",
   "execution_count": 10,
   "metadata": {
    "ExecuteTime": {
     "end_time": "2019-05-28T13:31:36.772985Z",
     "start_time": "2019-05-28T13:31:36.057Z"
    }
   },
   "outputs": [
    {
     "name": "stderr",
     "output_type": "stream",
     "text": [
      "Warning message:\n",
      "\"package 'MASS' was built under R version 3.5.2\"\n",
      "Attaching package: 'MASS'\n",
      "\n",
      "The following object is masked from 'package:dplyr':\n",
      "\n",
      "    select\n",
      "\n"
     ]
    }
   ],
   "source": [
    "## R code 14.7\n",
    "library(MASS)\n",
    "set.seed(5) # used to replicate example\n",
    "vary_effects <- mvrnorm( N_cafes , Mu , Sigma )"
   ]
  },
  {
   "cell_type": "code",
   "execution_count": 11,
   "metadata": {
    "ExecuteTime": {
     "end_time": "2019-05-28T13:31:36.836862Z",
     "start_time": "2019-05-28T13:31:36.085Z"
    },
    "scrolled": true
   },
   "outputs": [
    {
     "name": "stdout",
     "output_type": "stream",
     "text": [
      " num [1:20, 1:2] 4.22 2.01 4.57 3.34 1.7 ...\n",
      " - attr(*, \"dimnames\")=List of 2\n",
      "  ..$ : NULL\n",
      "  ..$ : NULL\n"
     ]
    },
    {
     "data": {
      "text/html": [
       "<ol class=list-inline>\n",
       "\t<li>20</li>\n",
       "\t<li>2</li>\n",
       "</ol>\n"
      ],
      "text/latex": [
       "\\begin{enumerate*}\n",
       "\\item 20\n",
       "\\item 2\n",
       "\\end{enumerate*}\n"
      ],
      "text/markdown": [
       "1. 20\n",
       "2. 2\n",
       "\n",
       "\n"
      ],
      "text/plain": [
       "[1] 20  2"
      ]
     },
     "metadata": {},
     "output_type": "display_data"
    }
   ],
   "source": [
    "vary_effects %>% str\n",
    "vary_effects %>% dim"
   ]
  },
  {
   "cell_type": "markdown",
   "metadata": {},
   "source": [
    "Look at the contents of vary_effects now. It should be a matrix with 20 rows and 2 columns. Each row is a café. The first column contains intercepts. The second column contains slopes."
   ]
  },
  {
   "cell_type": "code",
   "execution_count": 14,
   "metadata": {
    "scrolled": true
   },
   "outputs": [
    {
     "data": {
      "text/html": [
       "<table>\n",
       "<tbody>\n",
       "\t<tr><td>4.22 </td><td>-1.61</td></tr>\n",
       "\t<tr><td>2.01 </td><td>-0.75</td></tr>\n",
       "\t<tr><td>4.57 </td><td>-1.95</td></tr>\n",
       "\t<tr><td>3.34 </td><td>-1.19</td></tr>\n",
       "\t<tr><td>1.70 </td><td>-0.59</td></tr>\n",
       "\t<tr><td>4.13 </td><td>-1.14</td></tr>\n",
       "\t<tr><td>3.79 </td><td>-1.63</td></tr>\n",
       "\t<tr><td>3.95 </td><td>-1.72</td></tr>\n",
       "\t<tr><td>3.86 </td><td>-0.91</td></tr>\n",
       "\t<tr><td>3.47 </td><td>-0.68</td></tr>\n",
       "\t<tr><td>2.24 </td><td>-0.62</td></tr>\n",
       "\t<tr><td>4.16 </td><td>-1.66</td></tr>\n",
       "\t<tr><td>4.30 </td><td>-2.11</td></tr>\n",
       "\t<tr><td>3.51 </td><td>-1.44</td></tr>\n",
       "\t<tr><td>4.38 </td><td>-1.88</td></tr>\n",
       "\t<tr><td>3.52 </td><td>-1.35</td></tr>\n",
       "\t<tr><td>4.22 </td><td>-0.92</td></tr>\n",
       "\t<tr><td>5.91 </td><td>-1.23</td></tr>\n",
       "\t<tr><td>3.48 </td><td>-0.36</td></tr>\n",
       "\t<tr><td>3.77 </td><td>-1.06</td></tr>\n",
       "</tbody>\n",
       "</table>\n"
      ],
      "text/latex": [
       "\\begin{tabular}{ll}\n",
       "\t 4.22  & -1.61\\\\\n",
       "\t 2.01  & -0.75\\\\\n",
       "\t 4.57  & -1.95\\\\\n",
       "\t 3.34  & -1.19\\\\\n",
       "\t 1.70  & -0.59\\\\\n",
       "\t 4.13  & -1.14\\\\\n",
       "\t 3.79  & -1.63\\\\\n",
       "\t 3.95  & -1.72\\\\\n",
       "\t 3.86  & -0.91\\\\\n",
       "\t 3.47  & -0.68\\\\\n",
       "\t 2.24  & -0.62\\\\\n",
       "\t 4.16  & -1.66\\\\\n",
       "\t 4.30  & -2.11\\\\\n",
       "\t 3.51  & -1.44\\\\\n",
       "\t 4.38  & -1.88\\\\\n",
       "\t 3.52  & -1.35\\\\\n",
       "\t 4.22  & -0.92\\\\\n",
       "\t 5.91  & -1.23\\\\\n",
       "\t 3.48  & -0.36\\\\\n",
       "\t 3.77  & -1.06\\\\\n",
       "\\end{tabular}\n"
      ],
      "text/markdown": [
       "\n",
       "| 4.22  | -1.61 |\n",
       "| 2.01  | -0.75 |\n",
       "| 4.57  | -1.95 |\n",
       "| 3.34  | -1.19 |\n",
       "| 1.70  | -0.59 |\n",
       "| 4.13  | -1.14 |\n",
       "| 3.79  | -1.63 |\n",
       "| 3.95  | -1.72 |\n",
       "| 3.86  | -0.91 |\n",
       "| 3.47  | -0.68 |\n",
       "| 2.24  | -0.62 |\n",
       "| 4.16  | -1.66 |\n",
       "| 4.30  | -2.11 |\n",
       "| 3.51  | -1.44 |\n",
       "| 4.38  | -1.88 |\n",
       "| 3.52  | -1.35 |\n",
       "| 4.22  | -0.92 |\n",
       "| 5.91  | -1.23 |\n",
       "| 3.48  | -0.36 |\n",
       "| 3.77  | -1.06 |\n",
       "\n"
      ],
      "text/plain": [
       "      [,1] [,2] \n",
       " [1,] 4.22 -1.61\n",
       " [2,] 2.01 -0.75\n",
       " [3,] 4.57 -1.95\n",
       " [4,] 3.34 -1.19\n",
       " [5,] 1.70 -0.59\n",
       " [6,] 4.13 -1.14\n",
       " [7,] 3.79 -1.63\n",
       " [8,] 3.95 -1.72\n",
       " [9,] 3.86 -0.91\n",
       "[10,] 3.47 -0.68\n",
       "[11,] 2.24 -0.62\n",
       "[12,] 4.16 -1.66\n",
       "[13,] 4.30 -2.11\n",
       "[14,] 3.51 -1.44\n",
       "[15,] 4.38 -1.88\n",
       "[16,] 3.52 -1.35\n",
       "[17,] 4.22 -0.92\n",
       "[18,] 5.91 -1.23\n",
       "[19,] 3.48 -0.36\n",
       "[20,] 3.77 -1.06"
      ]
     },
     "metadata": {},
     "output_type": "display_data"
    }
   ],
   "source": [
    "vary_effects %>% round(2)"
   ]
  },
  {
   "cell_type": "code",
   "execution_count": 15,
   "metadata": {},
   "outputs": [],
   "source": [
    "## R code 14.8\n",
    "a_cafe <- vary_effects[,1]\n",
    "b_cafe <- vary_effects[,2]"
   ]
  },
  {
   "cell_type": "code",
   "execution_count": 16,
   "metadata": {
    "scrolled": true
   },
   "outputs": [
    {
     "name": "stderr",
     "output_type": "stream",
     "text": [
      "Warning message:\n",
      "\"package 'ellipse' was built under R version 3.5.2\"\n",
      "Attaching package: 'ellipse'\n",
      "\n",
      "The following object is masked from 'package:rethinking':\n",
      "\n",
      "    pairs\n",
      "\n",
      "The following object is masked from 'package:graphics':\n",
      "\n",
      "    pairs\n",
      "\n"
     ]
    }
   ],
   "source": [
    "library(ellipse)"
   ]
  },
  {
   "cell_type": "code",
   "execution_count": 17,
   "metadata": {
    "cell_style": "center"
   },
   "outputs": [
    {
     "data": {
      "image/png": "[encoded data removed]",
      "text/plain": [
       "plot without title"
      ]
     },
     "metadata": {},
     "output_type": "display_data"
    }
   ],
   "source": [
    "\n",
    "## R code 14.9\n",
    "plot( a_cafe , b_cafe , col=rangi2 ,\n",
    "    xlab=\"intercepts (a_cafe)\" , ylab=\"slopes (b_cafe)\" )\n",
    "\n",
    "# overlay population distribution\n",
    "\n",
    "for ( l in c(0.1,0.3,0.5,0.8,0.99) )\n",
    "    lines(ellipse(Sigma,centre=Mu,level=l),col=col.alpha(\"black\",0.2))\n"
   ]
  },
  {
   "cell_type": "code",
   "execution_count": 18,
   "metadata": {
    "cell_style": "center"
   },
   "outputs": [],
   "source": [
    "set.seed(22) \n",
    "N_visits <- 10\n",
    "afternoon <- rep(0:1,N_visits*N_cafes/2)\n",
    "\n",
    "cafe_id <- rep( 1:N_cafes , each=N_visits )\n",
    "\n",
    "mu <- a_cafe[cafe_id] + b_cafe[cafe_id]*afternoon\n",
    "\n",
    "sigma <- 0.5 # std dev within cafes\n",
    "\n",
    "wait <- rnorm( N_visits*N_cafes , mu , sigma )\n",
    "\n",
    "d <- data.frame( cafe=cafe_id , afternoon=afternoon , wait=wait )"
   ]
  },
  {
   "cell_type": "code",
   "execution_count": 19,
   "metadata": {},
   "outputs": [
    {
     "name": "stdout",
     "output_type": "stream",
     "text": [
      "'data.frame':\t200 obs. of  3 variables:\n",
      " $ cafe     : int  1 1 1 1 1 1 1 1 1 1 ...\n",
      " $ afternoon: int  0 1 0 1 0 1 0 1 0 1 ...\n",
      " $ wait     : num  3.97 3.86 4.73 2.76 4.12 ...\n"
     ]
    }
   ],
   "source": [
    "d %>% str()"
   ]
  },
  {
   "cell_type": "code",
   "execution_count": 20,
   "metadata": {
    "cell_style": "split"
   },
   "outputs": [
    {
     "data": {
      "image/png": "[encoded data removed]",
      "text/plain": [
       "Plot with title \"\""
      ]
     },
     "metadata": {},
     "output_type": "display_data"
    }
   ],
   "source": [
    "R <- rlkjcorr( 1e4 , K=3, eta=2 ) \n",
    "# k <- Dimension of correlation matrix\n",
    "\n",
    "dens( R[,1,2] , xlab=\"correlation\" )"
   ]
  },
  {
   "cell_type": "code",
   "execution_count": 21,
   "metadata": {
    "cell_style": "split"
   },
   "outputs": [
    {
     "data": {
      "text/plain": [
       "   Min. 1st Qu.  Median    Mean 3rd Qu.    Max. \n",
       "-0.9946 -0.1545  0.3059  0.3321  1.0000  1.0000 "
      ]
     },
     "metadata": {},
     "output_type": "display_data"
    },
    {
     "name": "stdout",
     "output_type": "stream",
     "text": [
      " num [1:10000, 1:3, 1:3] 1 1 1 1 1 1 1 1 1 1 ...\n"
     ]
    }
   ],
   "source": [
    "R %>% summary()\n",
    "R %>% str()\n"
   ]
  },
  {
   "cell_type": "markdown",
   "metadata": {},
   "source": [
    "### m14.1"
   ]
  },
  {
   "cell_type": "code",
   "execution_count": 22,
   "metadata": {},
   "outputs": [],
   "source": [
    "## R code 14.10\n",
    "set.seed(22)\n",
    "N_visits <- 10\n",
    "afternoon <- rep(0:1,N_visits*N_cafes/2)\n",
    "cafe_id <- rep( 1:N_cafes , each=N_visits )\n",
    "mu <- a_cafe[cafe_id] + b_cafe[cafe_id]*afternoon\n",
    "sigma <- 0.5  # std dev within cafes\n",
    "wait <- rnorm( N_visits*N_cafes , mu , sigma )\n",
    "d <- data.frame( cafe=cafe_id , afternoon=afternoon , wait=wait )"
   ]
  },
  {
   "cell_type": "code",
   "execution_count": 23,
   "metadata": {},
   "outputs": [],
   "source": [
    "dat <- list(\n",
    "    cafe = d$cafe %>% as.integer(),\n",
    "    afternoon = d$afternoon %>% as.integer(),\n",
    "    wait = d$wait %>% as.numeric()\n",
    ")\n"
   ]
  },
  {
   "cell_type": "code",
   "execution_count": 25,
   "metadata": {},
   "outputs": [
    {
     "ename": "ERROR",
     "evalue": "Error in symbols[[left[1]]]$dims[[1]]: object of type 'symbol' is not subsettable\n",
     "output_type": "error",
     "traceback": [
      "Error in symbols[[left[1]]]$dims[[1]]: object of type 'symbol' is not subsettable\nTraceback:\n",
      "1. ulam(alist(wait ~ normal(mu, sigma), mu <- a_cafe[cafe] + b_cafe[cafe] * \n .     afternoon, c(a_cafe, b_cafe)[cafe] ~ multi_normal(c(a, b), \n .     Rho, sigma_cafe), a ~ normal(5, 2), b ~ normal(-1, 0.5), \n .     sigma_cafe ~ exponential(1), sigma ~ exponential(1), Rho ~ \n .         lkj_corr(2)), data = d, chains = 4, cores = 4)",
      "2. compose_distibution(left_symbol, flist[[i]])",
      "3. do.call(build_func, list(left, fline[[3]], as_log_lik = as_log_lik), \n .     quote = TRUE)",
      "4. (function (left, right, as_log_lik = FALSE) \n . {\n .     flag_data_outcome <- FALSE\n .     if (left[1] %in% names(data)) \n .         flag_data_outcome <- TRUE\n .     n_vars <- length(left)\n .     n_cases <- 1\n .     if (n_vars > 1) {\n .         if (!is.null(attr(left, \"dims\"))) {\n .             n_cases <- length(unique(data[[as.character(attr(left, \n .                 \"dims\"))]]))\n .         }\n .         else {\n .             the_dims <- symbols[[left[1]]]$dims\n .             n_cases <- as.numeric(the_dims[[2]])\n .         }\n .     }\n .     SIGMA <- as.character(right[[3]])\n .     if (length(right) == 4) {\n .         SIGMA <- concat(\"quad_form_diag(\", as.character(right[[3]]), \n .             \" , \", as.character(right[[4]]), \")\")\n .     }\n .     MU <- as.character(right[[2]])\n .     if (class(right[[2]]) == \"call\") {\n .         if (as.character(right[[2]][[1]]) %in% c(\"c\", \"cbind\")) {\n .             MU <- MU[-1]\n .             n_vars <- length(MU)\n .         }\n .         else {\n .             stop(concat(\"Something unexpected: \", deparse(right)))\n .         }\n .     }\n .     if (n_vars == 1) {\n .         if (!is.null(attr(left, \"dims\"))) {\n .             dims <- attr(left, \"dims\")\n .             if (dims[[1]] == \"vector\") \n .                 n_vars <- dims[[2]]\n .             if (length(dims) == 3) {\n .                 n_cases <- length(unique(data[[as.character(dims[[3]])]]))\n .             }\n .         }\n .     }\n .     if (length(right) == 4) {\n .         Rho_name <- as.character(right[[3]])\n .         sigma_name <- as.character(right[[4]])\n .         if (!is.null(symbols[[Rho_name]])) {\n .             dims <- symbols[[Rho_name]]$dims\n .             if (!is.null(dims)) {\n .                 if (class(dims) == \"character\" || length(dims) == \n .                   1) {\n .                   new_symbols <- symbols\n .                   new_symbols[[Rho_name]]$dims <- list(\"corr_matrix\", \n .                     n_vars)\n .                   assign(\"symbols\", new_symbols, inherits = TRUE)\n .                 }\n .             }\n .             else {\n .                 new_symbols <- symbols\n .                 new_symbols[[Rho_name]]$dims <- list(\"corr_matrix\", \n .                   n_vars)\n .                 assign(\"symbols\", new_symbols, inherits = TRUE)\n .             }\n .         }\n .         if (!is.null(symbols[[sigma_name]])) {\n .             dims <- symbols[[sigma_name]]$dims\n .             if (!is.null(dims)) {\n .                 if (class(dims) == \"character\" || length(dims) == \n .                   1) {\n .                   new_symbols <- symbols\n .                   new_symbols[[sigma_name]]$dims <- list(\"vector\", \n .                     n_vars)\n .                   assign(\"symbols\", new_symbols, inherits = TRUE)\n .                 }\n .             }\n .             else {\n .                 new_symbols <- symbols\n .                 new_symbols[[sigma_name]]$dims <- list(\"vector\", \n .                   n_vars)\n .                 assign(\"symbols\", new_symbols, inherits = TRUE)\n .             }\n .         }\n .     }\n .     else {\n .         SIGMA_name <- as.character(right[[3]])\n .         if (!is.null(symbols[[SIGMA_name]])) {\n .             dims <- symbols[[SIGMA_name]]$dims\n .             if (!is.null(dims)) {\n .                 if (class(dims) == \"character\" || length(dims) == \n .                   1) {\n .                   new_symbols <- symbols\n .                   new_symbols[[SIGMA_name]]$dims <- list(\"cov_matrix\", \n .                     n_vars)\n .                   assign(\"symbols\", new_symbols, inherits = TRUE)\n .                 }\n .             }\n .             else {\n .                 new_symbols <- symbols\n .                 new_symbols[[SIGMA_name]]$dims <- list(\"cov_matrix\", \n .                   n_vars)\n .                 assign(\"symbols\", new_symbols, inherits = TRUE)\n .             }\n .         }\n .     }\n .     if (length(MU) == 1) \n .         if (MU == \"0\") {\n .             MU <- concat(\"rep_vector(0,\", n_vars, \")\")\n .         }\n .     out <- \"\"\n .     indent <- \"    \"\n .     if (length(MU) > 1 || length(left) > 1) {\n .         out <- concat(out, indent, \"{\\n\")\n .     }\n .     if (length(left) > 1) {\n .         out <- concat(out, indent, \"vector[\", n_vars, \"] YY\")\n .         if (n_cases > 1) \n .             out <- concat(out, \"[\", n_cases, \"];\\n\")\n .         else out <- concat(out, \";\\n\")\n .     }\n .     if (length(MU) > 1) {\n .         vlen <- 1\n .         vdims <- symbols[[MU[1]]]$dims\n .         if (class(vdims) == \"list\") {\n .             vlen <- vdims[[2]]\n .             if (vlen != n_cases) \n .                 warning(\"multi_normal mean vector has length > 1 but not same length as outcome\")\n .         }\n .         out <- concat(out, indent, \"vector[\", n_vars, \"] MU\")\n .         if (vlen > 1) \n .             out <- concat(out, \"[\", vlen, \"];\\n\")\n .         else out <- concat(out, \";\\n\")\n .         vsuf <- \"\"\n .         if (vlen == 1) \n .             out <- concat(out, indent, \"MU = [ \")\n .         else {\n .             out <- concat(out, indent, \"for ( j in 1:\", vlen, \n .                 \" ) \")\n .             out <- concat(out, \"MU[j] = [ \")\n .             vsuf <- \"[j]\"\n .         }\n .         for (j in 1:length(MU)) {\n .             out <- concat(out, MU[j], vsuf)\n .             if (j < length(MU)) \n .                 out <- concat(out, \" , \")\n .         }\n .         out <- concat(out, \" ]';\\n\")\n .     }\n .     if (length(left) > 1 && n_cases > 1) {\n .         out <- concat(out, indent, \"for ( j in 1:\", n_cases, \n .             \" ) \")\n .         out <- concat(out, \"YY[j] = [ \")\n .         for (j in 1:n_vars) {\n .             out <- concat(out, left[j], \"[j]\")\n .             if (j < n_vars) \n .                 out <- concat(out, \" , \")\n .         }\n .         out <- concat(out, \" ]';\\n\")\n .     }\n .     out_var <- \"YY\"\n .     if (length(left) == 1) \n .         out_var <- left[1]\n .     if (flag_data_outcome == TRUE || symbols[[left[1]]]$dims[[1]] == \n .         \"matrix\") {\n .         if (symbols[[left[1]]]$dims[[1]] == \"matrix\") {\n .             N_out <- symbols[[left[1]]]$dims[[2]]\n .             out_var <- concat(\"for ( i in 1:\", N_out, \" ) \", \n .                 out_var, \"[i,:]\")\n .         }\n .     }\n .     MU_var <- \"MU\"\n .     if (length(MU) == 1) \n .         MU_var <- MU[1]\n .     if (as_log_lik == FALSE) {\n .         out <- concat(out, indent, out_var, \" ~ multi_normal( \", \n .             MU_var, \" , \", SIGMA, \" );\\n\")\n .     }\n .     else {\n .         out <- concat(out, indent, \"log_lik = multi_normal_lpdf( \", \n .             out_var, \" | \", MU_var, \" , \", SIGMA, \" );\\n\")\n .     }\n .     if (length(MU) > 1 || length(left) > 1) {\n .         out <- concat(out, indent, \"}\\n\")\n .     }\n .     return(out)\n . })(quote(structure(c(\"a_cafe\", \"b_cafe\"), dims = cafe)), quote(multi_normal(c(a, \n .     b), Rho, sigma_cafe)), as_log_lik = quote(FALSE))"
     ]
    }
   ],
   "source": [
    "## R code 14.12\n",
    "m14.1 <- ulam(\n",
    "    alist(\n",
    "        wait ~ normal( mu , sigma ),\n",
    "        mu <- a_cafe[cafe] + b_cafe[cafe]*afternoon,\n",
    "        c(a_cafe,b_cafe)[cafe] ~ multi_normal( c(a,b) , Rho , sigma_cafe ),\n",
    "        a ~ normal(5,2),\n",
    "        b ~ normal(-1,0.5),\n",
    "        sigma_cafe ~ exponential(1),\n",
    "        sigma ~ exponential(1),\n",
    "        Rho ~ lkj_corr(2)\n",
    "    ) , data=d , chains=4 , cores=4 )"
   ]
  },
  {
   "cell_type": "markdown",
   "metadata": {},
   "source": [
    "## Advanced Varying Slopes (14.2)"
   ]
  },
  {
   "cell_type": "code",
   "execution_count": 26,
   "metadata": {},
   "outputs": [],
   "source": [
    "## R code 14.18\n",
    "library(rethinking)\n",
    "data(chimpanzees)\n",
    "d <- chimpanzees\n",
    "d$block_id <- d$block\n",
    "d$treatment <- 1L + d$prosoc_left + 2L*d$condition"
   ]
  },
  {
   "cell_type": "code",
   "execution_count": 27,
   "metadata": {},
   "outputs": [],
   "source": [
    "dat <- list(\n",
    "    L = d$pulled_left,\n",
    "    tid = d$treatment,\n",
    "    actor = d$actor,\n",
    "    block_id = as.integer(d$block_id) )"
   ]
  },
  {
   "cell_type": "code",
   "execution_count": 28,
   "metadata": {},
   "outputs": [
    {
     "name": "stderr",
     "output_type": "stream",
     "text": [
      "Warning message:\n",
      "\"There were 107 divergent transitions after warmup. Increasing adapt_delta above 0.95 may help. See\n",
      "http://mc-stan.org/misc/warnings.html#divergent-transitions-after-warmup\"Warning message:\n",
      "\"Examine the pairs() plot to diagnose sampling problems\n",
      "\""
     ]
    }
   ],
   "source": [
    "m14.2 <- ulam(\n",
    "    alist(\n",
    "        L ~ binomial(1,p),\n",
    "        logit(p) <- g[tid] + alpha[actor,tid] + beta[block_id,tid],\n",
    "\n",
    "        # adaptive priors\n",
    "        vector[4]:alpha[actor] ~ multi_normal(0,Rho_actor,sigma_actor),\n",
    "        vector[4]:beta[block_id] ~ multi_normal(0,Rho_block,sigma_block),\n",
    "\n",
    "        # fixed priors\n",
    "        g[tid] ~ dnorm(0,1),\n",
    "        sigma_actor ~ dexp(1),\n",
    "        Rho_actor ~ dlkjcorr(4),\n",
    "        sigma_block ~ dexp(1),\n",
    "        Rho_block ~ dlkjcorr(4)\n",
    "    ) , data=dat , chains=4 , cores=4 )"
   ]
  },
  {
   "cell_type": "code",
   "execution_count": 8,
   "metadata": {},
   "outputs": [
    {
     "ename": "ERROR",
     "evalue": "Error in eval(lhs, parent, parent): object 'm14.2' not found\n",
     "output_type": "error",
     "traceback": [
      "Error in eval(lhs, parent, parent): object 'm14.2' not found\nTraceback:\n",
      "1. m14.2 %>% stancode()",
      "2. eval(lhs, parent, parent)",
      "3. eval(lhs, parent, parent)"
     ]
    }
   ],
   "source": [
    "m14.2 %>% stancode()"
   ]
  },
  {
   "cell_type": "code",
   "execution_count": 34,
   "metadata": {},
   "outputs": [],
   "source": [
    "m14.3 <- ulam(\n",
    "    alist(\n",
    "        L ~ binomial(1,p),\n",
    "        logit(p) <- g[tid] + alpha[actor,tid] + beta[block_id,tid],\n",
    "\n",
    "        # adaptive priors - non-centered\n",
    "        transpars> matrix[actor,4]:alpha <-\n",
    "                compose_noncentered( sigma_actor , L_Rho_actor , z_actor ),\n",
    "        transpars> matrix[block_id,4]:beta <-\n",
    "                compose_noncentered( sigma_block , L_Rho_block , z_block ),\n",
    "        matrix[4,actor]:z_actor ~ normal( 0 , 1 ),\n",
    "        matrix[4,block_id]:z_block ~ normal( 0 , 1 ),\n",
    "\n",
    "        # fixed priors\n",
    "        g[tid] ~ normal(0,1),\n",
    "        vector[4]:sigma_actor ~ dexp(1),\n",
    "        cholesky_factor_corr[4]:L_Rho_actor ~ lkj_corr_cholesky( 2 ),\n",
    "        vector[4]:sigma_block ~ dexp(1),\n",
    "        cholesky_factor_corr[4]:L_Rho_block ~ lkj_corr_cholesky( 2 ),\n",
    "\n",
    "        # compute ordinary correlation matrixes from Cholesky factors\n",
    "        gq> matrix[4,4]:Rho_actor <<- multiply_lower_tri_self_transpose(L_Rho_actor),\n",
    "        gq> matrix[4,4]:Rho_block <<- multiply_lower_tri_self_transpose(L_Rho_block)\n",
    "    ) , data=dat , chains=4 , cores=4  )\n"
   ]
  },
  {
   "cell_type": "code",
   "execution_count": 31,
   "metadata": {
    "scrolled": true
   },
   "outputs": [
    {
     "name": "stdout",
     "output_type": "stream",
     "text": [
      "data{\n",
      "    int L[504];\n",
      "    int block_id[504];\n",
      "    int actor[504];\n",
      "    int tid[504];\n",
      "}\n",
      "parameters{\n",
      "    matrix[4,7] z_actor;\n",
      "    matrix[4,6] z_block;\n",
      "    vector[4] g;\n",
      "    vector<lower=0>[4] sigma_actor;\n",
      "    cholesky_factor_corr[4] L_Rho_actor;\n",
      "    vector<lower=0>[4] sigma_block;\n",
      "    cholesky_factor_corr[4] L_Rho_block;\n",
      "}\n",
      "transformed parameters{\n",
      "    matrix[7,4] alpha;\n",
      "    matrix[6,4] beta;\n",
      "    beta = (diag_pre_multiply(sigma_block, L_Rho_block) * z_block)';\n",
      "    alpha = (diag_pre_multiply(sigma_actor, L_Rho_actor) * z_actor)';\n",
      "}\n",
      "model{\n",
      "    vector[504] p;\n",
      "    L_Rho_block ~ lkj_corr_cholesky( 2 );\n",
      "    sigma_block ~ exponential( 1 );\n",
      "    L_Rho_actor ~ lkj_corr_cholesky( 2 );\n",
      "    sigma_actor ~ exponential( 1 );\n",
      "    g ~ normal( 0 , 1 );\n",
      "    to_vector( z_block ) ~ normal( 0 , 1 );\n",
      "    to_vector( z_actor ) ~ normal( 0 , 1 );\n",
      "    for ( i in 1:504 ) {\n",
      "        p[i] = g[tid[i]] + alpha[actor[i], tid[i]] + beta[block_id[i], tid[i]];\n",
      "        p[i] = inv_logit(p[i]);\n",
      "    }\n",
      "    L ~ binomial( 1 , p );\n",
      "}\n",
      "generated quantities{\n",
      "    vector[504] log_lik;\n",
      "    vector[504] p;\n",
      "    matrix[4,4] Rho_actor;\n",
      "    matrix[4,4] Rho_block;\n",
      "    Rho_block = multiply_lower_tri_self_transpose(L_Rho_block);\n",
      "    Rho_actor = multiply_lower_tri_self_transpose(L_Rho_actor);\n",
      "    for ( i in 1:504 ) {\n",
      "        p[i] = g[tid[i]] + alpha[actor[i], tid[i]] + beta[block_id[i], tid[i]];\n",
      "        p[i] = inv_logit(p[i]);\n",
      "    }\n",
      "    for ( i in 1:504 ) log_lik[i] = binomial_lpmf( L[i] | 1 , p[i] );\n",
      "}\n",
      "\n"
     ]
    }
   ],
   "source": [
    "stancode(m14.3)"
   ]
  },
  {
   "cell_type": "code",
   "execution_count": 35,
   "metadata": {
    "scrolled": true
   },
   "outputs": [
    {
     "name": "stderr",
     "output_type": "stream",
     "text": [
      "168 matrix parameters hidden. Use depth=3 to show them.\n"
     ]
    },
    {
     "data": {
      "text/html": [
       "<table>\n",
       "<thead><tr><th></th><th scope=col>mean</th><th scope=col>sd</th><th scope=col>5.5%</th><th scope=col>94.5%</th><th scope=col>n_eff</th><th scope=col>Rhat</th></tr></thead>\n",
       "<tbody>\n",
       "\t<tr><th scope=row>g[1]</th><td>0.21857780 </td><td>0.5039446  </td><td>-0.57613012</td><td>1.0329006  </td><td> 986.5246  </td><td>1.0029268  </td></tr>\n",
       "\t<tr><th scope=row>g[2]</th><td>0.63633673 </td><td>0.4144648  </td><td>-0.04703341</td><td>1.2876134  </td><td>1297.8552  </td><td>1.0064756  </td></tr>\n",
       "\t<tr><th scope=row>g[3]</th><td>0.02048886 </td><td>0.5761044  </td><td>-0.86393691</td><td>0.9881533  </td><td>1461.5575  </td><td>1.0014577  </td></tr>\n",
       "\t<tr><th scope=row>g[4]</th><td>0.66580688 </td><td>0.5719926  </td><td>-0.22019947</td><td>1.5919084  </td><td>1259.7855  </td><td>1.0037042  </td></tr>\n",
       "\t<tr><th scope=row>sigma_actor[1]</th><td>1.37561584 </td><td>0.4712863  </td><td> 0.77375241</td><td>2.2348660  </td><td>1111.0174  </td><td>1.0010529  </td></tr>\n",
       "\t<tr><th scope=row>sigma_actor[2]</th><td>0.91881515 </td><td>0.3917222  </td><td> 0.42649593</td><td>1.6747821  </td><td>1469.1641  </td><td>0.9992980  </td></tr>\n",
       "\t<tr><th scope=row>sigma_actor[3]</th><td>1.83078746 </td><td>0.5673200  </td><td> 1.12696395</td><td>2.8964570  </td><td>1274.3295  </td><td>0.9996191  </td></tr>\n",
       "\t<tr><th scope=row>sigma_actor[4]</th><td>1.55369980 </td><td>0.5959686  </td><td> 0.81106301</td><td>2.6207771  </td><td>1737.8972  </td><td>1.0016067  </td></tr>\n",
       "\t<tr><th scope=row>sigma_block[1]</th><td>0.44341486 </td><td>0.3411213  </td><td> 0.04841900</td><td>1.0379887  </td><td>1121.0926  </td><td>1.0003456  </td></tr>\n",
       "\t<tr><th scope=row>sigma_block[2]</th><td>0.44288397 </td><td>0.3389649  </td><td> 0.03795581</td><td>1.0473789  </td><td> 928.7896  </td><td>1.0055260  </td></tr>\n",
       "\t<tr><th scope=row>sigma_block[3]</th><td>0.30514877 </td><td>0.2759567  </td><td> 0.02419972</td><td>0.8169134  </td><td>1544.2371  </td><td>0.9991055  </td></tr>\n",
       "\t<tr><th scope=row>sigma_block[4]</th><td>0.46670228 </td><td>0.3780464  </td><td> 0.03742326</td><td>1.1287601  </td><td>1032.6494  </td><td>1.0016716  </td></tr>\n",
       "</tbody>\n",
       "</table>\n"
      ],
      "text/latex": [
       "\\begin{tabular}{r|llllll}\n",
       "  & mean & sd & 5.5\\% & 94.5\\% & n\\_eff & Rhat\\\\\n",
       "\\hline\n",
       "\tg{[}1{]} & 0.21857780  & 0.5039446   & -0.57613012 & 1.0329006   &  986.5246   & 1.0029268  \\\\\n",
       "\tg{[}2{]} & 0.63633673  & 0.4144648   & -0.04703341 & 1.2876134   & 1297.8552   & 1.0064756  \\\\\n",
       "\tg{[}3{]} & 0.02048886  & 0.5761044   & -0.86393691 & 0.9881533   & 1461.5575   & 1.0014577  \\\\\n",
       "\tg{[}4{]} & 0.66580688  & 0.5719926   & -0.22019947 & 1.5919084   & 1259.7855   & 1.0037042  \\\\\n",
       "\tsigma\\_actor{[}1{]} & 1.37561584  & 0.4712863   &  0.77375241 & 2.2348660   & 1111.0174   & 1.0010529  \\\\\n",
       "\tsigma\\_actor{[}2{]} & 0.91881515  & 0.3917222   &  0.42649593 & 1.6747821   & 1469.1641   & 0.9992980  \\\\\n",
       "\tsigma\\_actor{[}3{]} & 1.83078746  & 0.5673200   &  1.12696395 & 2.8964570   & 1274.3295   & 0.9996191  \\\\\n",
       "\tsigma\\_actor{[}4{]} & 1.55369980  & 0.5959686   &  0.81106301 & 2.6207771   & 1737.8972   & 1.0016067  \\\\\n",
       "\tsigma\\_block{[}1{]} & 0.44341486  & 0.3411213   &  0.04841900 & 1.0379887   & 1121.0926   & 1.0003456  \\\\\n",
       "\tsigma\\_block{[}2{]} & 0.44288397  & 0.3389649   &  0.03795581 & 1.0473789   &  928.7896   & 1.0055260  \\\\\n",
       "\tsigma\\_block{[}3{]} & 0.30514877  & 0.2759567   &  0.02419972 & 0.8169134   & 1544.2371   & 0.9991055  \\\\\n",
       "\tsigma\\_block{[}4{]} & 0.46670228  & 0.3780464   &  0.03742326 & 1.1287601   & 1032.6494   & 1.0016716  \\\\\n",
       "\\end{tabular}\n"
      ],
      "text/markdown": [
       "\n",
       "| <!--/--> | mean | sd | 5.5% | 94.5% | n_eff | Rhat |\n",
       "|---|---|---|---|---|---|---|\n",
       "| g[1] | 0.21857780  | 0.5039446   | -0.57613012 | 1.0329006   |  986.5246   | 1.0029268   |\n",
       "| g[2] | 0.63633673  | 0.4144648   | -0.04703341 | 1.2876134   | 1297.8552   | 1.0064756   |\n",
       "| g[3] | 0.02048886  | 0.5761044   | -0.86393691 | 0.9881533   | 1461.5575   | 1.0014577   |\n",
       "| g[4] | 0.66580688  | 0.5719926   | -0.22019947 | 1.5919084   | 1259.7855   | 1.0037042   |\n",
       "| sigma_actor[1] | 1.37561584  | 0.4712863   |  0.77375241 | 2.2348660   | 1111.0174   | 1.0010529   |\n",
       "| sigma_actor[2] | 0.91881515  | 0.3917222   |  0.42649593 | 1.6747821   | 1469.1641   | 0.9992980   |\n",
       "| sigma_actor[3] | 1.83078746  | 0.5673200   |  1.12696395 | 2.8964570   | 1274.3295   | 0.9996191   |\n",
       "| sigma_actor[4] | 1.55369980  | 0.5959686   |  0.81106301 | 2.6207771   | 1737.8972   | 1.0016067   |\n",
       "| sigma_block[1] | 0.44341486  | 0.3411213   |  0.04841900 | 1.0379887   | 1121.0926   | 1.0003456   |\n",
       "| sigma_block[2] | 0.44288397  | 0.3389649   |  0.03795581 | 1.0473789   |  928.7896   | 1.0055260   |\n",
       "| sigma_block[3] | 0.30514877  | 0.2759567   |  0.02419972 | 0.8169134   | 1544.2371   | 0.9991055   |\n",
       "| sigma_block[4] | 0.46670228  | 0.3780464   |  0.03742326 | 1.1287601   | 1032.6494   | 1.0016716   |\n",
       "\n"
      ],
      "text/plain": [
       "               mean       sd        5.5%        94.5%     n_eff     Rhat     \n",
       "g[1]           0.21857780 0.5039446 -0.57613012 1.0329006  986.5246 1.0029268\n",
       "g[2]           0.63633673 0.4144648 -0.04703341 1.2876134 1297.8552 1.0064756\n",
       "g[3]           0.02048886 0.5761044 -0.86393691 0.9881533 1461.5575 1.0014577\n",
       "g[4]           0.66580688 0.5719926 -0.22019947 1.5919084 1259.7855 1.0037042\n",
       "sigma_actor[1] 1.37561584 0.4712863  0.77375241 2.2348660 1111.0174 1.0010529\n",
       "sigma_actor[2] 0.91881515 0.3917222  0.42649593 1.6747821 1469.1641 0.9992980\n",
       "sigma_actor[3] 1.83078746 0.5673200  1.12696395 2.8964570 1274.3295 0.9996191\n",
       "sigma_actor[4] 1.55369980 0.5959686  0.81106301 2.6207771 1737.8972 1.0016067\n",
       "sigma_block[1] 0.44341486 0.3411213  0.04841900 1.0379887 1121.0926 1.0003456\n",
       "sigma_block[2] 0.44288397 0.3389649  0.03795581 1.0473789  928.7896 1.0055260\n",
       "sigma_block[3] 0.30514877 0.2759567  0.02419972 0.8169134 1544.2371 0.9991055\n",
       "sigma_block[4] 0.46670228 0.3780464  0.03742326 1.1287601 1032.6494 1.0016716"
      ]
     },
     "metadata": {},
     "output_type": "display_data"
    }
   ],
   "source": [
    "m14.3 %>% precis(depth=2)"
   ]
  },
  {
   "cell_type": "code",
   "execution_count": 36,
   "metadata": {},
   "outputs": [
    {
     "name": "stdout",
     "output_type": "stream",
     "text": [
      "List of 11\n",
      " $ z_actor    : num [1:2000, 1:4, 1:7] -0.864 0.186 -0.996 -0.767 -0.755 ...\n",
      " $ z_block    : num [1:2000, 1:4, 1:6] 0.59 -1.051 0.203 -0.662 -0.405 ...\n",
      " $ g          : num [1:2000, 1:4] -0.3225 -0.527 0.6278 0.3049 0.0771 ...\n",
      " $ sigma_actor: num [1:2000, 1:4] 1.503 1.311 0.733 0.592 1.431 ...\n",
      " $ L_Rho_actor: num [1:2000, 1:4, 1:4] 1 1 1 1 1 1 1 1 1 1 ...\n",
      " $ sigma_block: num [1:2000, 1:4] 0.571 0.206 0.148 0.375 0.583 ...\n",
      " $ L_Rho_block: num [1:2000, 1:4, 1:4] 1 1 1 1 1 1 1 1 1 1 ...\n",
      " $ Rho_block  : num [1:2000, 1:4, 1:4] 1 1 1 1 1 1 1 1 1 1 ...\n",
      " $ Rho_actor  : num [1:2000, 1:4, 1:4] 1 1 1 1 1 1 1 1 1 1 ...\n",
      " $ beta       : num [1:2000, 1:6, 1:4] 0.337 -0.217 0.03 -0.248 -0.236 ...\n",
      " $ alpha      : num [1:2000, 1:7, 1:4] -1.298 0.243 -0.731 -0.454 -1.08 ...\n",
      " - attr(*, \"source\")= chr \"ulam posterior: 2000 samples from m14.3\"\n"
     ]
    }
   ],
   "source": [
    "post <- extract.samples( m14.3 ) \n",
    "str(post)"
   ]
  },
  {
   "cell_type": "code",
   "execution_count": 37,
   "metadata": {},
   "outputs": [
    {
     "name": "stdout",
     "output_type": "stream",
     "text": [
      "List of 12\n",
      " $ z_actor    : num [1:2000, 1:4, 1:7] -0.864 0.186 -0.996 -0.767 -0.755 ...\n",
      " $ z_block    : num [1:2000, 1:4, 1:6] 0.59 -1.051 0.203 -0.662 -0.405 ...\n",
      " $ g          : num [1:2000, 1:4] -0.3225 -0.527 0.6278 0.3049 0.0771 ...\n",
      " $ sigma_actor: num [1:2000, 1:4] 1.503 1.311 0.733 0.592 1.431 ...\n",
      " $ L_Rho_actor: num [1:2000, 1:4, 1:4] 1 1 1 1 1 1 1 1 1 1 ...\n",
      " $ sigma_block: num [1:2000, 1:4] 0.571 0.206 0.148 0.375 0.583 ...\n",
      " $ L_Rho_block: num [1:2000, 1:4, 1:4] 1 1 1 1 1 1 1 1 1 1 ...\n",
      " $ Rho_block  : num [1:2000, 1:4, 1:4] 1 1 1 1 1 1 1 1 1 1 ...\n",
      " $ Rho_actor  : num [1:2000, 1:4, 1:4] 1 1 1 1 1 1 1 1 1 1 ...\n",
      " $ beta       : num [1:2000, 1:6, 1:4] 0.337 -0.217 0.03 -0.248 -0.236 ...\n",
      " $ alpha      : num [1:2000, 1:7, 1:4] -1.298 0.243 -0.731 -0.454 -1.08 ...\n",
      " $ lp__       : num [1:2000(1d)] -308 -307 -310 -306 -299 ...\n",
      " - attr(*, \"source\")= chr \"ulam posterior: 2000 samples from m14.3\"\n"
     ]
    }
   ],
   "source": [
    "post <- extract.samples( m14.3, clean=FALSE ) \n",
    "str(post)"
   ]
  },
  {
   "cell_type": "code",
   "execution_count": 31,
   "metadata": {},
   "outputs": [
    {
     "data": {
      "text/html": [
       "544.475012175648"
      ],
      "text/latex": [
       "544.475012175648"
      ],
      "text/markdown": [
       "544.475012175648"
      ],
      "text/plain": [
       "[1] 544.475\n",
       "attr(,\"lppd\")\n",
       "[1] -245.3923\n",
       "attr(,\"pWAIC\")\n",
       "[1] 26.84524\n",
       "attr(,\"se\")\n",
       "[1] 19.67601"
      ]
     },
     "metadata": {},
     "output_type": "display_data"
    }
   ],
   "source": [
    "WAIC(m14.3)"
   ]
  },
  {
   "cell_type": "code",
   "execution_count": 26,
   "metadata": {},
   "outputs": [
    {
     "data": {
      "image/png": "[encoded data removed]",
      "text/plain": [
       "plot without title"
      ]
     },
     "metadata": {},
     "output_type": "display_data"
    }
   ],
   "source": [
    "## R code 14.20\n",
    "# extract n_eff values for each model\n",
    "neff_nc <- precis(m14.3,3,pars=c(\"alpha\",\"beta\"))$n_eff\n",
    "neff_c <- precis(m14.2,3,pars=c(\"alpha\",\"beta\"))$n_eff\n",
    "plot( neff_c , neff_nc , xlab=\"centered (default)\" ,\n",
    "    ylab=\"non-centered (cholesky)\" , lwd=1.5 )\n",
    "abline(a=0,b=1,lty=2)\n"
   ]
  },
  {
   "cell_type": "code",
   "execution_count": 32,
   "metadata": {},
   "outputs": [
    {
     "data": {
      "text/html": [
       "<table>\n",
       "<thead><tr><th></th><th scope=col>mean</th><th scope=col>sd</th><th scope=col>5.5%</th><th scope=col>94.5%</th><th scope=col>n_eff</th><th scope=col>Rhat</th></tr></thead>\n",
       "<tbody>\n",
       "\t<tr><th scope=row>sigma_actor[1]</th><td>1.3995777 </td><td>0.4872363 </td><td>0.77317928</td><td>2.2828430 </td><td> 671.6991 </td><td>1.0031901 </td></tr>\n",
       "\t<tr><th scope=row>sigma_actor[2]</th><td>0.9319067 </td><td>0.4180889 </td><td>0.41320823</td><td>1.6982751 </td><td> 973.3103 </td><td>1.0031276 </td></tr>\n",
       "\t<tr><th scope=row>sigma_actor[3]</th><td>1.8426106 </td><td>0.5563785 </td><td>1.11932971</td><td>2.7626145 </td><td> 879.8985 </td><td>1.0055256 </td></tr>\n",
       "\t<tr><th scope=row>sigma_actor[4]</th><td>1.5630661 </td><td>0.5583437 </td><td>0.83831200</td><td>2.5932537 </td><td>1180.7426 </td><td>1.0021644 </td></tr>\n",
       "\t<tr><th scope=row>sigma_block[1]</th><td>0.4248146 </td><td>0.3263842 </td><td>0.03643476</td><td>1.0041230 </td><td> 702.5186 </td><td>1.0009731 </td></tr>\n",
       "\t<tr><th scope=row>sigma_block[2]</th><td>0.4162679 </td><td>0.3355671 </td><td>0.03549822</td><td>1.0405179 </td><td> 846.5839 </td><td>1.0001586 </td></tr>\n",
       "\t<tr><th scope=row>sigma_block[3]</th><td>0.3091995 </td><td>0.2767598 </td><td>0.02299397</td><td>0.8434509 </td><td>1722.1659 </td><td>0.9989866 </td></tr>\n",
       "\t<tr><th scope=row>sigma_block[4]</th><td>0.4839426 </td><td>0.3914502 </td><td>0.03903798</td><td>1.1604460 </td><td>1310.6262 </td><td>1.0019566 </td></tr>\n",
       "</tbody>\n",
       "</table>\n"
      ],
      "text/latex": [
       "\\begin{tabular}{r|llllll}\n",
       "  & mean & sd & 5.5\\% & 94.5\\% & n\\_eff & Rhat\\\\\n",
       "\\hline\n",
       "\tsigma\\_actor{[}1{]} & 1.3995777  & 0.4872363  & 0.77317928 & 2.2828430  &  671.6991  & 1.0031901 \\\\\n",
       "\tsigma\\_actor{[}2{]} & 0.9319067  & 0.4180889  & 0.41320823 & 1.6982751  &  973.3103  & 1.0031276 \\\\\n",
       "\tsigma\\_actor{[}3{]} & 1.8426106  & 0.5563785  & 1.11932971 & 2.7626145  &  879.8985  & 1.0055256 \\\\\n",
       "\tsigma\\_actor{[}4{]} & 1.5630661  & 0.5583437  & 0.83831200 & 2.5932537  & 1180.7426  & 1.0021644 \\\\\n",
       "\tsigma\\_block{[}1{]} & 0.4248146  & 0.3263842  & 0.03643476 & 1.0041230  &  702.5186  & 1.0009731 \\\\\n",
       "\tsigma\\_block{[}2{]} & 0.4162679  & 0.3355671  & 0.03549822 & 1.0405179  &  846.5839  & 1.0001586 \\\\\n",
       "\tsigma\\_block{[}3{]} & 0.3091995  & 0.2767598  & 0.02299397 & 0.8434509  & 1722.1659  & 0.9989866 \\\\\n",
       "\tsigma\\_block{[}4{]} & 0.4839426  & 0.3914502  & 0.03903798 & 1.1604460  & 1310.6262  & 1.0019566 \\\\\n",
       "\\end{tabular}\n"
      ],
      "text/markdown": [
       "\n",
       "| <!--/--> | mean | sd | 5.5% | 94.5% | n_eff | Rhat |\n",
       "|---|---|---|---|---|---|---|\n",
       "| sigma_actor[1] | 1.3995777  | 0.4872363  | 0.77317928 | 2.2828430  |  671.6991  | 1.0031901  |\n",
       "| sigma_actor[2] | 0.9319067  | 0.4180889  | 0.41320823 | 1.6982751  |  973.3103  | 1.0031276  |\n",
       "| sigma_actor[3] | 1.8426106  | 0.5563785  | 1.11932971 | 2.7626145  |  879.8985  | 1.0055256  |\n",
       "| sigma_actor[4] | 1.5630661  | 0.5583437  | 0.83831200 | 2.5932537  | 1180.7426  | 1.0021644  |\n",
       "| sigma_block[1] | 0.4248146  | 0.3263842  | 0.03643476 | 1.0041230  |  702.5186  | 1.0009731  |\n",
       "| sigma_block[2] | 0.4162679  | 0.3355671  | 0.03549822 | 1.0405179  |  846.5839  | 1.0001586  |\n",
       "| sigma_block[3] | 0.3091995  | 0.2767598  | 0.02299397 | 0.8434509  | 1722.1659  | 0.9989866  |\n",
       "| sigma_block[4] | 0.4839426  | 0.3914502  | 0.03903798 | 1.1604460  | 1310.6262  | 1.0019566  |\n",
       "\n"
      ],
      "text/plain": [
       "               mean      sd        5.5%       94.5%     n_eff     Rhat     \n",
       "sigma_actor[1] 1.3995777 0.4872363 0.77317928 2.2828430  671.6991 1.0031901\n",
       "sigma_actor[2] 0.9319067 0.4180889 0.41320823 1.6982751  973.3103 1.0031276\n",
       "sigma_actor[3] 1.8426106 0.5563785 1.11932971 2.7626145  879.8985 1.0055256\n",
       "sigma_actor[4] 1.5630661 0.5583437 0.83831200 2.5932537 1180.7426 1.0021644\n",
       "sigma_block[1] 0.4248146 0.3263842 0.03643476 1.0041230  702.5186 1.0009731\n",
       "sigma_block[2] 0.4162679 0.3355671 0.03549822 1.0405179  846.5839 1.0001586\n",
       "sigma_block[3] 0.3091995 0.2767598 0.02299397 0.8434509 1722.1659 0.9989866\n",
       "sigma_block[4] 0.4839426 0.3914502 0.03903798 1.1604460 1310.6262 1.0019566"
      ]
     },
     "metadata": {},
     "output_type": "display_data"
    }
   ],
   "source": [
    "precis( m14.3 , depth=2 , pars=c(\"sigma_actor\",\"sigma_block\") )"
   ]
  },
  {
   "cell_type": "code",
   "execution_count": 35,
   "metadata": {},
   "outputs": [
    {
     "name": "stderr",
     "output_type": "stream",
     "text": [
      "168 matrix parameters hidden. Use depth=3 to show them.\n"
     ]
    },
    {
     "data": {
      "text/html": [
       "<table>\n",
       "<thead><tr><th></th><th scope=col>mean</th><th scope=col>sd</th><th scope=col>5.5%</th><th scope=col>94.5%</th><th scope=col>n_eff</th><th scope=col>Rhat</th></tr></thead>\n",
       "<tbody>\n",
       "\t<tr><th scope=row>g[1]</th><td>0.215068769 </td><td>0.5011301   </td><td>-0.556317008</td><td>1.0225732   </td><td> 729.8878   </td><td>1.0036098   </td></tr>\n",
       "\t<tr><th scope=row>g[2]</th><td>0.663957780 </td><td>0.4188147   </td><td> 0.006875999</td><td>1.3131958   </td><td> 803.7660   </td><td>1.0036924   </td></tr>\n",
       "\t<tr><th scope=row>g[3]</th><td>0.006984381 </td><td>0.6007983   </td><td>-0.920572453</td><td>0.9631128   </td><td>1036.5073   </td><td>1.0023850   </td></tr>\n",
       "\t<tr><th scope=row>g[4]</th><td>0.679105498 </td><td>0.5229463   </td><td>-0.119102067</td><td>1.5623421   </td><td>1202.9810   </td><td>0.9996358   </td></tr>\n",
       "\t<tr><th scope=row>sigma_actor[1]</th><td>1.399577737 </td><td>0.4872363   </td><td> 0.773179278</td><td>2.2828430   </td><td> 671.6991   </td><td>1.0031901   </td></tr>\n",
       "\t<tr><th scope=row>sigma_actor[2]</th><td>0.931906706 </td><td>0.4180889   </td><td> 0.413208230</td><td>1.6982751   </td><td> 973.3103   </td><td>1.0031276   </td></tr>\n",
       "\t<tr><th scope=row>sigma_actor[3]</th><td>1.842610575 </td><td>0.5563785   </td><td> 1.119329709</td><td>2.7626145   </td><td> 879.8985   </td><td>1.0055256   </td></tr>\n",
       "\t<tr><th scope=row>sigma_actor[4]</th><td>1.563066113 </td><td>0.5583437   </td><td> 0.838311997</td><td>2.5932537   </td><td>1180.7426   </td><td>1.0021644   </td></tr>\n",
       "\t<tr><th scope=row>sigma_block[1]</th><td>0.424814611 </td><td>0.3263842   </td><td> 0.036434760</td><td>1.0041230   </td><td> 702.5186   </td><td>1.0009731   </td></tr>\n",
       "\t<tr><th scope=row>sigma_block[2]</th><td>0.416267883 </td><td>0.3355671   </td><td> 0.035498217</td><td>1.0405179   </td><td> 846.5839   </td><td>1.0001586   </td></tr>\n",
       "\t<tr><th scope=row>sigma_block[3]</th><td>0.309199499 </td><td>0.2767598   </td><td> 0.022993974</td><td>0.8434509   </td><td>1722.1659   </td><td>0.9989866   </td></tr>\n",
       "\t<tr><th scope=row>sigma_block[4]</th><td>0.483942597 </td><td>0.3914502   </td><td> 0.039037981</td><td>1.1604460   </td><td>1310.6262   </td><td>1.0019566   </td></tr>\n",
       "</tbody>\n",
       "</table>\n"
      ],
      "text/latex": [
       "\\begin{tabular}{r|llllll}\n",
       "  & mean & sd & 5.5\\% & 94.5\\% & n\\_eff & Rhat\\\\\n",
       "\\hline\n",
       "\tg{[}1{]} & 0.215068769  & 0.5011301    & -0.556317008 & 1.0225732    &  729.8878    & 1.0036098   \\\\\n",
       "\tg{[}2{]} & 0.663957780  & 0.4188147    &  0.006875999 & 1.3131958    &  803.7660    & 1.0036924   \\\\\n",
       "\tg{[}3{]} & 0.006984381  & 0.6007983    & -0.920572453 & 0.9631128    & 1036.5073    & 1.0023850   \\\\\n",
       "\tg{[}4{]} & 0.679105498  & 0.5229463    & -0.119102067 & 1.5623421    & 1202.9810    & 0.9996358   \\\\\n",
       "\tsigma\\_actor{[}1{]} & 1.399577737  & 0.4872363    &  0.773179278 & 2.2828430    &  671.6991    & 1.0031901   \\\\\n",
       "\tsigma\\_actor{[}2{]} & 0.931906706  & 0.4180889    &  0.413208230 & 1.6982751    &  973.3103    & 1.0031276   \\\\\n",
       "\tsigma\\_actor{[}3{]} & 1.842610575  & 0.5563785    &  1.119329709 & 2.7626145    &  879.8985    & 1.0055256   \\\\\n",
       "\tsigma\\_actor{[}4{]} & 1.563066113  & 0.5583437    &  0.838311997 & 2.5932537    & 1180.7426    & 1.0021644   \\\\\n",
       "\tsigma\\_block{[}1{]} & 0.424814611  & 0.3263842    &  0.036434760 & 1.0041230    &  702.5186    & 1.0009731   \\\\\n",
       "\tsigma\\_block{[}2{]} & 0.416267883  & 0.3355671    &  0.035498217 & 1.0405179    &  846.5839    & 1.0001586   \\\\\n",
       "\tsigma\\_block{[}3{]} & 0.309199499  & 0.2767598    &  0.022993974 & 0.8434509    & 1722.1659    & 0.9989866   \\\\\n",
       "\tsigma\\_block{[}4{]} & 0.483942597  & 0.3914502    &  0.039037981 & 1.1604460    & 1310.6262    & 1.0019566   \\\\\n",
       "\\end{tabular}\n"
      ],
      "text/markdown": [
       "\n",
       "| <!--/--> | mean | sd | 5.5% | 94.5% | n_eff | Rhat |\n",
       "|---|---|---|---|---|---|---|\n",
       "| g[1] | 0.215068769  | 0.5011301    | -0.556317008 | 1.0225732    |  729.8878    | 1.0036098    |\n",
       "| g[2] | 0.663957780  | 0.4188147    |  0.006875999 | 1.3131958    |  803.7660    | 1.0036924    |\n",
       "| g[3] | 0.006984381  | 0.6007983    | -0.920572453 | 0.9631128    | 1036.5073    | 1.0023850    |\n",
       "| g[4] | 0.679105498  | 0.5229463    | -0.119102067 | 1.5623421    | 1202.9810    | 0.9996358    |\n",
       "| sigma_actor[1] | 1.399577737  | 0.4872363    |  0.773179278 | 2.2828430    |  671.6991    | 1.0031901    |\n",
       "| sigma_actor[2] | 0.931906706  | 0.4180889    |  0.413208230 | 1.6982751    |  973.3103    | 1.0031276    |\n",
       "| sigma_actor[3] | 1.842610575  | 0.5563785    |  1.119329709 | 2.7626145    |  879.8985    | 1.0055256    |\n",
       "| sigma_actor[4] | 1.563066113  | 0.5583437    |  0.838311997 | 2.5932537    | 1180.7426    | 1.0021644    |\n",
       "| sigma_block[1] | 0.424814611  | 0.3263842    |  0.036434760 | 1.0041230    |  702.5186    | 1.0009731    |\n",
       "| sigma_block[2] | 0.416267883  | 0.3355671    |  0.035498217 | 1.0405179    |  846.5839    | 1.0001586    |\n",
       "| sigma_block[3] | 0.309199499  | 0.2767598    |  0.022993974 | 0.8434509    | 1722.1659    | 0.9989866    |\n",
       "| sigma_block[4] | 0.483942597  | 0.3914502    |  0.039037981 | 1.1604460    | 1310.6262    | 1.0019566    |\n",
       "\n"
      ],
      "text/plain": [
       "               mean        sd        5.5%         94.5%     n_eff     Rhat     \n",
       "g[1]           0.215068769 0.5011301 -0.556317008 1.0225732  729.8878 1.0036098\n",
       "g[2]           0.663957780 0.4188147  0.006875999 1.3131958  803.7660 1.0036924\n",
       "g[3]           0.006984381 0.6007983 -0.920572453 0.9631128 1036.5073 1.0023850\n",
       "g[4]           0.679105498 0.5229463 -0.119102067 1.5623421 1202.9810 0.9996358\n",
       "sigma_actor[1] 1.399577737 0.4872363  0.773179278 2.2828430  671.6991 1.0031901\n",
       "sigma_actor[2] 0.931906706 0.4180889  0.413208230 1.6982751  973.3103 1.0031276\n",
       "sigma_actor[3] 1.842610575 0.5563785  1.119329709 2.7626145  879.8985 1.0055256\n",
       "sigma_actor[4] 1.563066113 0.5583437  0.838311997 2.5932537 1180.7426 1.0021644\n",
       "sigma_block[1] 0.424814611 0.3263842  0.036434760 1.0041230  702.5186 1.0009731\n",
       "sigma_block[2] 0.416267883 0.3355671  0.035498217 1.0405179  846.5839 1.0001586\n",
       "sigma_block[3] 0.309199499 0.2767598  0.022993974 0.8434509 1722.1659 0.9989866\n",
       "sigma_block[4] 0.483942597 0.3914502  0.039037981 1.1604460 1310.6262 1.0019566"
      ]
     },
     "metadata": {},
     "output_type": "display_data"
    }
   ],
   "source": [
    "precis( m14.3 , depth=2 )"
   ]
  },
  {
   "cell_type": "code",
   "execution_count": 33,
   "metadata": {
    "collapsed": true
   },
   "outputs": [
    {
     "name": "stdout",
     "output_type": "stream",
     "text": [
      "Formal class 'ulam' [package \"rethinking\"] with 10 slots\n",
      "  ..@ call          : language ulam(flist = alist(L ~ binomial(1, p), logit(p) <- g[tid] + alpha[actor,      tid] + beta[block_id, tid], transpa| __truncated__ ...\n",
      "  ..@ model         : chr \"data{\\n    int L[504];\\n    int block_id[504];\\n    int actor[504];\\n    int tid[504];\\n}\\nparameters{\\n    mat\"| __truncated__\n",
      "  ..@ stanfit       :Formal class 'stanfit' [package \"rstan\"] with 10 slots\n",
      "  .. .. ..@ model_name: chr \"500908d37fcc91413600b82f49ca033d\"\n",
      "  .. .. ..@ model_pars: chr [1:14] \"z_actor\" \"z_block\" \"g\" \"sigma_actor\" ...\n",
      "  .. .. ..@ par_dims  :List of 14\n",
      "  .. .. .. ..$ z_actor    : num [1:2] 4 7\n",
      "  .. .. .. ..$ z_block    : num [1:2] 4 6\n",
      "  .. .. .. ..$ g          : num 4\n",
      "  .. .. .. ..$ sigma_actor: num 4\n",
      "  .. .. .. ..$ L_Rho_actor: num [1:2] 4 4\n",
      "  .. .. .. ..$ sigma_block: num 4\n",
      "  .. .. .. ..$ L_Rho_block: num [1:2] 4 4\n",
      "  .. .. .. ..$ alpha      : num [1:2] 7 4\n",
      "  .. .. .. ..$ beta       : num [1:2] 6 4\n",
      "  .. .. .. ..$ log_lik    : num 504\n",
      "  .. .. .. ..$ p          : num 504\n",
      "  .. .. .. ..$ Rho_actor  : num [1:2] 4 4\n",
      "  .. .. .. ..$ Rho_block  : num [1:2] 4 4\n",
      "  .. .. .. ..$ lp__       : num(0) \n",
      "  .. .. ..@ mode      : int 0\n",
      "  .. .. ..@ sim       :List of 12\n",
      "  .. .. .. ..$ samples    :List of 4\n",
      "  .. .. .. .. ..$ :List of 685\n",
      "  .. .. .. .. .. ..$ log_lik[1]      : num [1:1000] -1.7 -1.7 -1.7 -0.532 -0.787 ...\n",
      "  .. .. .. .. .. ..$ log_lik[2]      : num [1:1000] -0.202 -0.202 -0.202 -0.885 -0.607 ...\n",
      "  .. .. .. .. .. ..$ log_lik[3]      : num [1:1000] -1.216 -1.216 -1.216 -0.935 -0.884 ...\n",
      "  .. .. .. .. .. ..$ log_lik[4]      : num [1:1000] -1.7 -1.7 -1.7 -0.532 -0.787 ...\n",
      "  .. .. .. .. .. ..$ log_lik[5]      : num [1:1000] -0.351 -0.351 -0.351 -0.498 -0.533 ...\n",
      "  .. .. .. .. .. ..$ log_lik[6]      : num [1:1000] -0.351 -0.351 -0.351 -0.498 -0.533 ...\n",
      "  .. .. .. .. .. ..$ log_lik[7]      : num [1:1000] -1.009 -1.009 -1.009 -0.633 -0.916 ...\n",
      "  .. .. .. .. .. ..$ log_lik[8]      : num [1:1000] -1.009 -1.009 -1.009 -0.633 -0.916 ...\n",
      "  .. .. .. .. .. ..$ log_lik[9]      : num [1:1000] -1.662 -1.662 -1.662 -0.573 -0.614 ...\n",
      "  .. .. .. .. .. ..$ log_lik[10]     : num [1:1000] -1.662 -1.662 -1.662 -0.573 -0.614 ...\n",
      "  .. .. .. .. .. ..$ log_lik[11]     : num [1:1000] -0.21 -0.21 -0.21 -0.83 -0.779 ...\n",
      "  .. .. .. .. .. ..$ log_lik[12]     : num [1:1000] -1.009 -1.009 -1.009 -0.633 -0.916 ...\n",
      "  .. .. .. .. .. ..$ log_lik[13]     : num [1:1000] -0.235 -0.235 -0.235 -0.84 -0.643 ...\n",
      "  .. .. .. .. .. ..$ log_lik[14]     : num [1:1000] -0.772 -0.772 -0.772 -0.917 -0.503 ...\n",
      "  .. .. .. .. .. ..$ log_lik[15]     : num [1:1000] -1.562 -1.562 -1.562 -0.565 -0.746 ...\n",
      "  .. .. .. .. .. ..$ log_lik[16]     : num [1:1000] -0.772 -0.772 -0.772 -0.917 -0.503 ...\n",
      "  .. .. .. .. .. ..$ log_lik[17]     : num [1:1000] -0.62 -0.62 -0.62 -0.51 -0.928 ...\n",
      "  .. .. .. .. .. ..$ log_lik[18]     : num [1:1000] -1.562 -1.562 -1.562 -0.565 -0.746 ...\n",
      "  .. .. .. .. .. ..$ log_lik[19]     : num [1:1000] -0.494 -0.494 -0.494 -0.608 -0.533 ...\n",
      "  .. .. .. .. .. ..$ log_lik[20]     : num [1:1000] -0.22 -0.22 -0.22 -0.863 -0.577 ...\n",
      "  .. .. .. .. .. ..$ log_lik[21]     : num [1:1000] -0.22 -0.22 -0.22 -0.863 -0.577 ...\n",
      "  .. .. .. .. .. ..$ log_lik[22]     : num [1:1000] -1.622 -1.622 -1.622 -0.548 -0.825 ...\n",
      "  .. .. .. .. .. ..$ log_lik[23]     : num [1:1000] -0.494 -0.494 -0.494 -0.608 -0.533 ...\n",
      "  .. .. .. .. .. ..$ log_lik[24]     : num [1:1000] -0.942 -0.942 -0.942 -0.786 -0.884 ...\n",
      "  .. .. .. .. .. ..$ log_lik[25]     : num [1:1000] -1.732 -1.732 -1.732 -0.574 -0.538 ...\n",
      "  .. .. .. .. .. ..$ log_lik[26]     : num [1:1000] -0.195 -0.195 -0.195 -0.828 -0.877 ...\n",
      "  .. .. .. .. .. ..$ log_lik[27]     : num [1:1000] -0.372 -0.372 -0.372 -0.556 -0.949 ...\n",
      "  .. .. .. .. .. ..$ log_lik[28]     : num [1:1000] -0.372 -0.372 -0.372 -0.556 -0.949 ...\n",
      "  .. .. .. .. .. ..$ log_lik[29]     : num [1:1000] -1.732 -1.732 -1.732 -0.574 -0.538 ...\n",
      "  .. .. .. .. .. ..$ log_lik[30]     : num [1:1000] -0.372 -0.372 -0.372 -0.556 -0.949 ...\n",
      "  .. .. .. .. .. ..$ log_lik[31]     : num [1:1000] -1.734 -1.734 -1.734 -0.547 -0.632 ...\n",
      "  .. .. .. .. .. ..$ log_lik[32]     : num [1:1000] -1.2 -1.2 -1.2 -0.716 -0.494 ...\n",
      "  .. .. .. .. .. ..$ log_lik[33]     : num [1:1000] -1.2 -1.2 -1.2 -0.716 -0.494 ...\n",
      "  .. .. .. .. .. ..$ log_lik[34]     : num [1:1000] -1.2 -1.2 -1.2 -0.716 -0.494 ...\n",
      "  .. .. .. .. .. ..$ log_lik[35]     : num [1:1000] -1.734 -1.734 -1.734 -0.547 -0.632 ...\n",
      "  .. .. .. .. .. ..$ log_lik[36]     : num [1:1000] -1.734 -1.734 -1.734 -0.547 -0.632 ...\n",
      "  .. .. .. .. .. ..$ log_lik[37]     : num [1:1000] -0.79 -0.79 -0.79 -1.26 -1.14 ...\n",
      "  .. .. .. .. .. ..$ log_lik[38]     : num [1:1000] -0.605 -0.605 -0.605 -0.333 -0.385 ...\n",
      "  .. .. .. .. .. ..$ log_lik[39]     : num [1:1000] -0.182 -0.182 -0.182 -1.374 -0.347 ...\n",
      "  .. .. .. .. .. ..$ log_lik[40]     : num [1:1000] -0.605 -0.605 -0.605 -0.333 -0.385 ...\n",
      "  .. .. .. .. .. ..$ log_lik[41]     : num [1:1000] -0.79 -0.79 -0.79 -1.26 -1.14 ...\n",
      "  .. .. .. .. .. ..$ log_lik[42]     : num [1:1000] -0.605 -0.605 -0.605 -0.333 -0.385 ...\n",
      "  .. .. .. .. .. ..$ log_lik[43]     : num [1:1000] -0.793 -0.793 -0.793 -1.297 -0.351 ...\n",
      "  .. .. .. .. .. ..$ log_lik[44]     : num [1:1000] -0.34 -0.34 -0.34 -0.497 -0.374 ...\n",
      "  .. .. .. .. .. ..$ log_lik[45]     : num [1:1000] -0.793 -0.793 -0.793 -1.297 -0.351 ...\n",
      "  .. .. .. .. .. ..$ log_lik[46]     : num [1:1000] -1.245 -1.245 -1.245 -0.937 -1.164 ...\n",
      "  .. .. .. .. .. ..$ log_lik[47]     : num [1:1000] -0.602 -0.602 -0.602 -0.319 -1.217 ...\n",
      "  .. .. .. .. .. ..$ log_lik[48]     : num [1:1000] -1.245 -1.245 -1.245 -0.937 -1.164 ...\n",
      "  .. .. .. .. .. ..$ log_lik[49]     : num [1:1000] -1.6 -1.6 -1.6 -0.941 -0.369 ...\n",
      "  .. .. .. .. .. ..$ log_lik[50]     : num [1:1000] -0.0631 -0.0631 -0.0631 -0.375 -0.3654 ...\n",
      "  .. .. .. .. .. ..$ log_lik[51]     : num [1:1000] -0.226 -0.226 -0.226 -0.494 -1.176 ...\n",
      "  .. .. .. .. .. ..$ log_lik[52]     : num [1:1000] -0.226 -0.226 -0.226 -0.494 -1.176 ...\n",
      "  .. .. .. .. .. ..$ log_lik[53]     : num [1:1000] -0.226 -0.226 -0.226 -0.494 -1.176 ...\n",
      "  .. .. .. .. .. ..$ log_lik[54]     : num [1:1000] -2.8 -2.8 -2.8 -1.16 -1.18 ...\n",
      "  .. .. .. .. .. ..$ log_lik[55]     : num [1:1000] -0.212 -0.212 -0.212 -0.438 -0.367 ...\n",
      "  .. .. .. .. .. ..$ log_lik[56]     : num [1:1000] -0.46 -0.46 -0.46 -0.275 -1.253 ...\n",
      "  .. .. .. .. .. ..$ log_lik[57]     : num [1:1000] -0.998 -0.998 -0.998 -1.425 -0.336 ...\n",
      "  .. .. .. .. .. ..$ log_lik[58]     : num [1:1000] -0.212 -0.212 -0.212 -0.438 -0.367 ...\n",
      "  .. .. .. .. .. ..$ log_lik[59]     : num [1:1000] -0.212 -0.212 -0.212 -0.438 -0.367 ...\n",
      "  .. .. .. .. .. ..$ log_lik[60]     : num [1:1000] -0.212 -0.212 -0.212 -0.438 -0.367 ...\n",
      "  .. .. .. .. .. ..$ log_lik[61]     : num [1:1000] -0.826 -0.826 -0.826 -0.344 -1.222 ...\n",
      "  .. .. .. .. .. ..$ log_lik[62]     : num [1:1000] -0.576 -0.576 -0.576 -1.235 -0.349 ...\n",
      "  .. .. .. .. .. ..$ log_lik[63]     : num [1:1000] -0.826 -0.826 -0.826 -0.344 -1.222 ...\n",
      "  .. .. .. .. .. ..$ log_lik[64]     : num [1:1000] -0.407 -0.407 -0.407 -0.556 -0.35 ...\n",
      "  .. .. .. .. .. ..$ log_lik[65]     : num [1:1000] -0.407 -0.407 -0.407 -0.556 -0.35 ...\n",
      "  .. .. .. .. .. ..$ log_lik[66]     : num [1:1000] -0.826 -0.826 -0.826 -0.344 -1.222 ...\n",
      "  .. .. .. .. .. ..$ log_lik[67]     : num [1:1000] -0.587 -0.587 -0.587 -0.172 -1.232 ...\n",
      "  .. .. .. .. .. ..$ log_lik[68]     : num [1:1000] -0.811 -0.811 -0.811 -1.846 -0.345 ...\n",
      "  .. .. .. .. .. ..$ log_lik[69]     : num [1:1000] -0.409 -0.409 -0.409 -0.384 -0.343 ...\n",
      "  .. .. .. .. .. ..$ log_lik[70]     : num [1:1000] -0.811 -0.811 -0.811 -1.846 -0.345 ...\n",
      "  .. .. .. .. .. ..$ log_lik[71]     : num [1:1000] -0.587 -0.587 -0.587 -0.172 -1.232 ...\n",
      "  .. .. .. .. .. ..$ log_lik[72]     : num [1:1000] -0.409 -0.409 -0.409 -0.384 -0.343 ...\n",
      "  .. .. .. .. .. ..$ log_lik[73]     : num [1:1000] -0.06481 -0.06481 -0.06481 -0.35728 -0.00403 ...\n",
      "  .. .. .. .. .. ..$ log_lik[74]     : num [1:1000] -0.403 -0.403 -0.403 -0.852 -0.103 ...\n",
      "  .. .. .. .. .. ..$ log_lik[75]     : num [1:1000] -0.403 -0.403 -0.403 -0.852 -0.103 ...\n",
      "  .. .. .. .. .. ..$ log_lik[76]     : num [1:1000] -0.403 -0.403 -0.403 -0.852 -0.103 ...\n",
      "  .. .. .. .. .. ..$ log_lik[77]     : num [1:1000] -0.06481 -0.06481 -0.06481 -0.35728 -0.00403 ...\n",
      "  .. .. .. .. .. ..$ log_lik[78]     : num [1:1000] -0.06481 -0.06481 -0.06481 -0.35728 -0.00403 ...\n",
      "  .. .. .. .. .. ..$ log_lik[79]     : num [1:1000] -0.08735 -0.08735 -0.08735 -0.5612 -0.00381 ...\n",
      "  .. .. .. .. .. ..$ log_lik[80]     : num [1:1000] -0.08735 -0.08735 -0.08735 -0.5612 -0.00381 ...\n",
      "  .. .. .. .. .. ..$ log_lik[81]     : num [1:1000] -0.08735 -0.08735 -0.08735 -0.5612 -0.00381 ...\n",
      "  .. .. .. .. .. ..$ log_lik[82]     : num [1:1000] -0.419 -0.419 -0.419 -0.797 -0.142 ...\n",
      "  .. .. .. .. .. ..$ log_lik[83]     : num [1:1000] -0.419 -0.419 -0.419 -0.797 -0.142 ...\n",
      "  .. .. .. .. .. ..$ log_lik[84]     : num [1:1000] -0.419 -0.419 -0.419 -0.797 -0.142 ...\n",
      "  .. .. .. .. .. ..$ log_lik[85]     : num [1:1000] -0.463 -0.463 -0.463 -0.808 -0.11 ...\n",
      "  .. .. .. .. .. ..$ log_lik[86]     : num [1:1000] -0.463 -0.463 -0.463 -0.808 -0.11 ...\n",
      "  .. .. .. .. .. ..$ log_lik[87]     : num [1:1000] -0.16976 -0.16976 -0.16976 -0.69238 -0.00374 ...\n",
      "  .. .. .. .. .. ..$ log_lik[88]     : num [1:1000] -0.16976 -0.16976 -0.16976 -0.69238 -0.00374 ...\n",
      "  .. .. .. .. .. ..$ log_lik[89]     : num [1:1000] -0.463 -0.463 -0.463 -0.808 -0.11 ...\n",
      "  .. .. .. .. .. ..$ log_lik[90]     : num [1:1000] -0.16976 -0.16976 -0.16976 -0.69238 -0.00374 ...\n",
      "  .. .. .. .. .. ..$ log_lik[91]     : num [1:1000] -0.4359 -0.4359 -0.4359 -0.8296 -0.0962 ...\n",
      "  .. .. .. .. .. ..$ log_lik[92]     : num [1:1000] -0.4359 -0.4359 -0.4359 -0.8296 -0.0962 ...\n",
      "  .. .. .. .. .. ..$ log_lik[93]     : num [1:1000] -0.09674 -0.09674 -0.09674 -0.44244 -0.00402 ...\n",
      "  .. .. .. .. .. ..$ log_lik[94]     : num [1:1000] -0.4359 -0.4359 -0.4359 -0.8296 -0.0962 ...\n",
      "  .. .. .. .. .. ..$ log_lik[95]     : num [1:1000] -0.09674 -0.09674 -0.09674 -0.44244 -0.00402 ...\n",
      "  .. .. .. .. .. ..$ log_lik[96]     : num [1:1000] -0.09674 -0.09674 -0.09674 -0.44244 -0.00402 ...\n",
      "  .. .. .. .. .. ..$ log_lik[97]     : num [1:1000] -0.39 -0.39 -0.39 -0.796 -0.167 ...\n",
      "  .. .. .. .. .. ..$ log_lik[98]     : num [1:1000] -0.30227 -0.30227 -0.30227 -0.63899 -0.00361 ...\n",
      "  .. .. .. .. .. ..$ log_lik[99]     : num [1:1000] -0.39 -0.39 -0.39 -0.796 -0.167 ...\n",
      "  .. .. .. .. .. .. [list output truncated]\n",
      "  .. .. .. .. .. ..- attr(*, \"test_grad\")= logi FALSE\n",
      "  .. .. .. .. .. ..- attr(*, \"args\")=List of 16\n",
      "  .. .. .. .. .. .. ..$ append_samples    : logi FALSE\n",
      "  .. .. .. .. .. .. ..$ chain_id          : num 1\n",
      "  .. .. .. .. .. .. ..$ control           :List of 12\n",
      "  .. .. .. .. .. .. .. ..$ adapt_delta      : num 0.95\n",
      "  .. .. .. .. .. .. .. ..$ adapt_engaged    : logi TRUE\n",
      "  .. .. .. .. .. .. .. ..$ adapt_gamma      : num 0.05\n",
      "  .. .. .. .. .. .. .. ..$ adapt_init_buffer: num 75\n",
      "  .. .. .. .. .. .. .. ..$ adapt_kappa      : num 0.75\n",
      "  .. .. .. .. .. .. .. ..$ adapt_t0         : num 10\n",
      "  .. .. .. .. .. .. .. ..$ adapt_term_buffer: num 50\n",
      "  .. .. .. .. .. .. .. ..$ adapt_window     : num 25\n",
      "  .. .. .. .. .. .. .. ..$ max_treedepth    : int 10\n",
      "  .. .. .. .. .. .. .. ..$ metric           : chr \"diag_e\"\n",
      "  .. .. .. .. .. .. .. ..$ stepsize         : num 1\n",
      "  .. .. .. .. .. .. .. ..$ stepsize_jitter  : num 0\n",
      "  .. .. .. .. .. .. ..$ enable_random_init: logi TRUE\n",
      "  .. .. .. .. .. .. ..$ init              : chr \"random\"\n",
      "  .. .. .. .. .. .. ..$ init_list         : NULL\n",
      "  .. .. .. .. .. .. ..$ init_radius       : num 2\n",
      "  .. .. .. .. .. .. ..$ iter              : int 1000\n",
      "  .. .. .. .. .. .. ..$ method            : chr \"sampling\"\n",
      "  .. .. .. .. .. .. ..$ random_seed       : chr \"304168990\"\n",
      "  .. .. .. .. .. .. ..$ refresh           : int 100\n",
      "  .. .. .. .. .. .. ..$ sampler_t         : chr \"NUTS(diag_e)\"\n",
      "  .. .. .. .. .. .. ..$ save_warmup       : logi TRUE\n",
      "  .. .. .. .. .. .. ..$ test_grad         : logi FALSE\n",
      "  .. .. .. .. .. .. ..$ thin              : int 1\n",
      "  .. .. .. .. .. .. ..$ warmup            : int 500\n",
      "  .. .. .. .. .. ..- attr(*, \"inits\")= num [1:1188] 1.279 -1.453 -1.215 -0.107 -0.272 ...\n",
      "  .. .. .. .. .. ..- attr(*, \"mean_pars\")= num [1:1188] -0.6272 -0.4254 -0.1277 0.0276 2.3076 ...\n",
      "  .. .. .. .. .. ..- attr(*, \"mean_lp__\")= num -305\n",
      "  .. .. .. .. .. ..- attr(*, \"adaptation_info\")= chr \"# Adaptation terminated\\n# Step size = 0.102624\\n# Diagonal elements of inverse mass matrix:\\n# 0.191418, 0.358\"| __truncated__\n",
      "  .. .. .. .. .. ..- attr(*, \"elapsed_time\")= Named num [1:2] 6.89 4.94\n",
      "  .. .. .. .. .. .. ..- attr(*, \"names\")= chr [1:2] \"warmup\" \"sample\"\n",
      "  .. .. .. .. .. ..- attr(*, \"sampler_params\")=List of 6\n",
      "  .. .. .. .. .. .. ..$ accept_stat__: num [1:1000] 1 0 0 1 0.982 ...\n",
      "  .. .. .. .. .. .. ..$ stepsize__   : num [1:1000] 0.125 10.9517 1.1987 0.0723 0.0584 ...\n",
      "  .. .. .. .. .. .. ..$ treedepth__  : num [1:1000] 3 0 0 4 6 6 6 6 6 6 ...\n",
      "  .. .. .. .. .. .. ..$ n_leapfrog__ : num [1:1000] 7 1 1 15 63 63 63 63 63 127 ...\n",
      "  .. .. .. .. .. .. ..$ divergent__  : num [1:1000] 0 1 1 0 0 0 0 0 0 0 ...\n",
      "  .. .. .. .. .. .. ..$ energy__     : num [1:1000] 599 514 504 508 435 ...\n",
      "  .. .. .. .. .. ..- attr(*, \"return_code\")= int 0\n",
      "  .. .. .. .. ..$ :List of 685\n",
      "  .. .. .. .. .. ..$ log_lik[1]      : num [1:1000] -1.415 -1.415 -1.415 -0.886 -0.938 ...\n",
      "  .. .. .. .. .. ..$ log_lik[2]      : num [1:1000] -0.278 -0.278 -0.278 -0.532 -0.496 ...\n",
      "  .. .. .. .. .. ..$ log_lik[3]      : num [1:1000] -1.943 -1.943 -1.943 -0.845 -0.702 ...\n",
      "  .. .. .. .. .. ..$ log_lik[4]      : num [1:1000] -1.415 -1.415 -1.415 -0.886 -0.938 ...\n",
      "  .. .. .. .. .. ..$ log_lik[5]      : num [1:1000] -0.155 -0.155 -0.155 -0.562 -0.684 ...\n",
      "  .. .. .. .. .. ..$ log_lik[6]      : num [1:1000] -0.155 -0.155 -0.155 -0.562 -0.684 ...\n",
      "  .. .. .. .. .. ..$ log_lik[7]      : num [1:1000] -0.317 -0.317 -0.317 -0.736 -0.782 ...\n",
      "  .. .. .. .. .. ..$ log_lik[8]      : num [1:1000] -0.317 -0.317 -0.317 -0.736 -0.782 ...\n",
      "  .. .. .. .. .. ..$ log_lik[9]      : num [1:1000] -0.91 -0.91 -0.91 -0.981 -0.959 ...\n",
      "  .. .. .. .. .. ..$ log_lik[10]     : num [1:1000] -0.91 -0.91 -0.91 -0.981 -0.959 ...\n",
      "  .. .. .. .. .. ..$ log_lik[11]     : num [1:1000] -0.515 -0.515 -0.515 -0.47 -0.483 ...\n",
      "  .. .. .. .. .. ..$ log_lik[12]     : num [1:1000] -0.317 -0.317 -0.317 -0.736 -0.782 ...\n",
      "  .. .. .. .. .. ..$ log_lik[13]     : num [1:1000] -0.275 -0.275 -0.275 -0.54 -0.494 ...\n",
      "  .. .. .. .. .. ..$ log_lik[14]     : num [1:1000] -0.439 -0.439 -0.439 -0.806 -0.91 ...\n",
      "  .. .. .. .. .. ..$ log_lik[15]     : num [1:1000] -1.425 -1.425 -1.425 -0.874 -0.942 ...\n",
      "  .. .. .. .. .. ..$ log_lik[16]     : num [1:1000] -0.439 -0.439 -0.439 -0.806 -0.91 ...\n",
      "  .. .. .. .. .. ..$ log_lik[17]     : num [1:1000] -1.035 -1.035 -1.035 -0.591 -0.515 ...\n",
      "  .. .. .. .. .. ..$ log_lik[18]     : num [1:1000] -1.425 -1.425 -1.425 -0.874 -0.942 ...\n",
      "  .. .. .. .. .. ..$ log_lik[19]     : num [1:1000] -0.236 -0.236 -0.236 -0.407 -0.587 ...\n",
      "  .. .. .. .. .. ..$ log_lik[20]     : num [1:1000] -0.436 -0.436 -0.436 -0.785 -0.828 ...\n",
      "  .. .. .. .. .. ..$ log_lik[21]     : num [1:1000] -0.436 -0.436 -0.436 -0.785 -0.828 ...\n",
      "  .. .. .. .. .. ..$ log_lik[22]     : num [1:1000] -1.04 -1.04 -1.04 -0.609 -0.575 ...\n",
      "  .. .. .. .. .. ..$ log_lik[23]     : num [1:1000] -0.236 -0.236 -0.236 -0.407 -0.587 ...\n",
      "  .. .. .. .. .. ..$ log_lik[24]     : num [1:1000] -1.559 -1.559 -1.559 -1.095 -0.812 ...\n",
      "  .. .. .. .. .. ..$ log_lik[25]     : num [1:1000] -0.938 -0.938 -0.938 -0.524 -0.732 ...\n",
      "  .. .. .. .. .. ..$ log_lik[26]     : num [1:1000] -0.497 -0.497 -0.497 -0.897 -0.656 ...\n",
      "  .. .. .. .. .. ..$ log_lik[27]     : num [1:1000] -1.614 -1.614 -1.614 -1.233 -0.577 ...\n",
      "  .. .. .. .. .. ..$ log_lik[28]     : num [1:1000] -1.614 -1.614 -1.614 -1.233 -0.577 ...\n",
      "  .. .. .. .. .. ..$ log_lik[29]     : num [1:1000] -0.938 -0.938 -0.938 -0.524 -0.732 ...\n",
      "  .. .. .. .. .. ..$ log_lik[30]     : num [1:1000] -1.614 -1.614 -1.614 -1.233 -0.577 ...\n",
      "  .. .. .. .. .. ..$ log_lik[31]     : num [1:1000] -0.839 -0.839 -0.839 -1.067 -0.705 ...\n",
      "  .. .. .. .. .. ..$ log_lik[32]     : num [1:1000] -0.71 -0.71 -0.71 -0.739 -0.421 ...\n",
      "  .. .. .. .. .. ..$ log_lik[33]     : num [1:1000] -0.71 -0.71 -0.71 -0.739 -0.421 ...\n",
      "  .. .. .. .. .. ..$ log_lik[34]     : num [1:1000] -0.71 -0.71 -0.71 -0.739 -0.421 ...\n",
      "  .. .. .. .. .. ..$ log_lik[35]     : num [1:1000] -0.839 -0.839 -0.839 -1.067 -0.705 ...\n",
      "  .. .. .. .. .. ..$ log_lik[36]     : num [1:1000] -0.839 -0.839 -0.839 -1.067 -0.705 ...\n",
      "  .. .. .. .. .. ..$ log_lik[37]     : num [1:1000] -0.08 -0.08 -0.08 -1.043 -0.843 ...\n",
      "  .. .. .. .. .. ..$ log_lik[38]     : num [1:1000] -2.565 -2.565 -2.565 -0.434 -0.563 ...\n",
      "  .. .. .. .. .. ..$ log_lik[39]     : num [1:1000] -0.955 -0.955 -0.955 -0.807 -0.665 ...\n",
      "  .. .. .. .. .. ..$ log_lik[40]     : num [1:1000] -2.565 -2.565 -2.565 -0.434 -0.563 ...\n",
      "  .. .. .. .. .. ..$ log_lik[41]     : num [1:1000] -0.08 -0.08 -0.08 -1.043 -0.843 ...\n",
      "  .. .. .. .. .. ..$ log_lik[42]     : num [1:1000] -2.565 -2.565 -2.565 -0.434 -0.563 ...\n",
      "  .. .. .. .. .. ..$ log_lik[43]     : num [1:1000] -1.495 -1.495 -1.495 -0.779 -0.786 ...\n",
      "  .. .. .. .. .. ..$ log_lik[44]     : num [1:1000] -2.654 -2.654 -2.654 -0.416 -0.488 ...\n",
      "  .. .. .. .. .. ..$ log_lik[45]     : num [1:1000] -1.495 -1.495 -1.495 -0.779 -0.786 ...\n",
      "  .. .. .. .. .. ..$ log_lik[46]     : num [1:1000] -0.073 -0.073 -0.073 -1.079 -0.952 ...\n",
      "  .. .. .. .. .. ..$ log_lik[47]     : num [1:1000] -0.254 -0.254 -0.254 -0.614 -0.608 ...\n",
      "  .. .. .. .. .. ..$ log_lik[48]     : num [1:1000] -0.073 -0.073 -0.073 -1.079 -0.952 ...\n",
      "  .. .. .. .. .. ..$ log_lik[49]     : num [1:1000] -1.995 -1.995 -1.995 -0.913 -0.729 ...\n",
      "  .. .. .. .. .. ..$ log_lik[50]     : num [1:1000] -3.136 -3.136 -3.136 -0.421 -0.541 ...\n",
      "  .. .. .. .. .. ..$ log_lik[51]     : num [1:1000] -0.146 -0.146 -0.146 -0.513 -0.658 ...\n",
      "  .. .. .. .. .. ..$ log_lik[52]     : num [1:1000] -0.146 -0.146 -0.146 -0.513 -0.658 ...\n",
      "  .. .. .. .. .. ..$ log_lik[53]     : num [1:1000] -0.146 -0.146 -0.146 -0.513 -0.658 ...\n",
      "  .. .. .. .. .. ..$ log_lik[54]     : num [1:1000] -0.0444 -0.0444 -0.0444 -1.0681 -0.8732 ...\n",
      "  .. .. .. .. .. ..$ log_lik[55]     : num [1:1000] -1.623 -1.623 -1.623 -0.409 -0.417 ...\n",
      "  .. .. .. .. .. ..$ log_lik[56]     : num [1:1000] -1.228 -1.228 -1.228 -0.464 -0.729 ...\n",
      "  .. .. .. .. .. ..$ log_lik[57]     : num [1:1000] -0.347 -0.347 -0.347 -0.99 -0.659 ...\n",
      "  .. .. .. .. .. ..$ log_lik[58]     : num [1:1000] -1.623 -1.623 -1.623 -0.409 -0.417 ...\n",
      "  .. .. .. .. .. ..$ log_lik[59]     : num [1:1000] -1.623 -1.623 -1.623 -0.409 -0.417 ...\n",
      "  .. .. .. .. .. ..$ log_lik[60]     : num [1:1000] -1.623 -1.623 -1.623 -0.409 -0.417 ...\n",
      "  .. .. .. .. .. ..$ log_lik[61]     : num [1:1000] -0.812 -0.812 -0.812 -0.434 -0.557 ...\n",
      "  .. .. .. .. .. ..$ log_lik[62]     : num [1:1000] -0.587 -0.587 -0.587 -1.045 -0.851 ...\n",
      "  .. .. .. .. .. ..$ log_lik[63]     : num [1:1000] -0.812 -0.812 -0.812 -0.434 -0.557 ...\n",
      "  .. .. .. .. .. ..$ log_lik[64]     : num [1:1000] -2.049 -2.049 -2.049 -0.453 -0.501 ...\n",
      "  .. .. .. .. .. ..$ log_lik[65]     : num [1:1000] -2.049 -2.049 -2.049 -0.453 -0.501 ...\n",
      "  .. .. .. .. .. ..$ log_lik[66]     : num [1:1000] -0.812 -0.812 -0.812 -0.434 -0.557 ...\n",
      "  .. .. .. .. .. ..$ log_lik[67]     : num [1:1000] -0.64 -0.64 -0.64 -0.628 -0.859 ...\n",
      "  .. .. .. .. .. ..$ log_lik[68]     : num [1:1000] -0.75 -0.75 -0.75 -0.763 -0.551 ...\n",
      "  .. .. .. .. .. ..$ log_lik[69]     : num [1:1000] -2.293 -2.293 -2.293 -0.412 -0.517 ...\n",
      "  .. .. .. .. .. ..$ log_lik[70]     : num [1:1000] -0.75 -0.75 -0.75 -0.763 -0.551 ...\n",
      "  .. .. .. .. .. ..$ log_lik[71]     : num [1:1000] -0.64 -0.64 -0.64 -0.628 -0.859 ...\n",
      "  .. .. .. .. .. ..$ log_lik[72]     : num [1:1000] -2.293 -2.293 -2.293 -0.412 -0.517 ...\n",
      "  .. .. .. .. .. ..$ log_lik[73]     : num [1:1000] -0.1141 -0.1141 -0.1141 -0.0131 -0.2887 ...\n",
      "  .. .. .. .. .. ..$ log_lik[74]     : num [1:1000] -0.432 -0.432 -0.432 -0.606 -0.569 ...\n",
      "  .. .. .. .. .. ..$ log_lik[75]     : num [1:1000] -0.432 -0.432 -0.432 -0.606 -0.569 ...\n",
      "  .. .. .. .. .. ..$ log_lik[76]     : num [1:1000] -0.432 -0.432 -0.432 -0.606 -0.569 ...\n",
      "  .. .. .. .. .. ..$ log_lik[77]     : num [1:1000] -0.1141 -0.1141 -0.1141 -0.0131 -0.2887 ...\n",
      "  .. .. .. .. .. ..$ log_lik[78]     : num [1:1000] -0.1141 -0.1141 -0.1141 -0.0131 -0.2887 ...\n",
      "  .. .. .. .. .. ..$ log_lik[79]     : num [1:1000] -1.0781 -1.0781 -1.0781 -0.0159 -0.2526 ...\n",
      "  .. .. .. .. .. ..$ log_lik[80]     : num [1:1000] -1.0781 -1.0781 -1.0781 -0.0159 -0.2526 ...\n",
      "  .. .. .. .. .. ..$ log_lik[81]     : num [1:1000] -1.0781 -1.0781 -1.0781 -0.0159 -0.2526 ...\n",
      "  .. .. .. .. .. ..$ log_lik[82]     : num [1:1000] -0.759 -0.759 -0.759 -0.537 -0.555 ...\n",
      "  .. .. .. .. .. ..$ log_lik[83]     : num [1:1000] -0.759 -0.759 -0.759 -0.537 -0.555 ...\n",
      "  .. .. .. .. .. ..$ log_lik[84]     : num [1:1000] -0.759 -0.759 -0.759 -0.537 -0.555 ...\n",
      "  .. .. .. .. .. ..$ log_lik[85]     : num [1:1000] -0.427 -0.427 -0.427 -0.615 -0.567 ...\n",
      "  .. .. .. .. .. ..$ log_lik[86]     : num [1:1000] -0.427 -0.427 -0.427 -0.615 -0.567 ...\n",
      "  .. .. .. .. .. ..$ log_lik[87]     : num [1:1000] -0.3354 -0.3354 -0.3354 -0.0214 -0.4092 ...\n",
      "  .. .. .. .. .. ..$ log_lik[88]     : num [1:1000] -0.3354 -0.3354 -0.3354 -0.0214 -0.4092 ...\n",
      "  .. .. .. .. .. ..$ log_lik[89]     : num [1:1000] -0.427 -0.427 -0.427 -0.615 -0.567 ...\n",
      "  .. .. .. .. .. ..$ log_lik[90]     : num [1:1000] -0.3354 -0.3354 -0.3354 -0.0214 -0.4092 ...\n",
      "  .. .. .. .. .. ..$ log_lik[91]     : num [1:1000] -0.653 -0.653 -0.653 -0.882 -0.931 ...\n",
      "  .. .. .. .. .. ..$ log_lik[92]     : num [1:1000] -0.653 -0.653 -0.653 -0.882 -0.931 ...\n",
      "  .. .. .. .. .. ..$ log_lik[93]     : num [1:1000] -0.17614 -0.17614 -0.17614 -0.00873 -0.2405 ...\n",
      "  .. .. .. .. .. ..$ log_lik[94]     : num [1:1000] -0.653 -0.653 -0.653 -0.882 -0.931 ...\n",
      "  .. .. .. .. .. ..$ log_lik[95]     : num [1:1000] -0.17614 -0.17614 -0.17614 -0.00873 -0.2405 ...\n",
      "  .. .. .. .. .. ..$ log_lik[96]     : num [1:1000] -0.17614 -0.17614 -0.17614 -0.00873 -0.2405 ...\n",
      "  .. .. .. .. .. ..$ log_lik[97]     : num [1:1000] -0.734 -0.734 -0.734 -1.002 -0.745 ...\n",
      "  .. .. .. .. .. ..$ log_lik[98]     : num [1:1000] -0.16519 -0.16519 -0.16519 -0.00714 -0.36214 ...\n",
      "  .. .. .. .. .. ..$ log_lik[99]     : num [1:1000] -0.734 -0.734 -0.734 -1.002 -0.745 ...\n",
      "  .. .. .. .. .. .. [list output truncated]\n",
      "  .. .. .. .. .. ..- attr(*, \"test_grad\")= logi FALSE\n",
      "  .. .. .. .. .. ..- attr(*, \"args\")=List of 16\n",
      "  .. .. .. .. .. .. ..$ append_samples    : logi FALSE\n",
      "  .. .. .. .. .. .. ..$ chain_id          : num 2\n",
      "  .. .. .. .. .. .. ..$ control           :List of 12\n",
      "  .. .. .. .. .. .. .. ..$ adapt_delta      : num 0.95\n",
      "  .. .. .. .. .. .. .. ..$ adapt_engaged    : logi TRUE\n",
      "  .. .. .. .. .. .. .. ..$ adapt_gamma      : num 0.05\n",
      "  .. .. .. .. .. .. .. ..$ adapt_init_buffer: num 75\n",
      "  .. .. .. .. .. .. .. ..$ adapt_kappa      : num 0.75\n",
      "  .. .. .. .. .. .. .. ..$ adapt_t0         : num 10\n",
      "  .. .. .. .. .. .. .. ..$ adapt_term_buffer: num 50\n",
      "  .. .. .. .. .. .. .. ..$ adapt_window     : num 25\n",
      "  .. .. .. .. .. .. .. ..$ max_treedepth    : int 10\n",
      "  .. .. .. .. .. .. .. ..$ metric           : chr \"diag_e\"\n",
      "  .. .. .. .. .. .. .. ..$ stepsize         : num 1\n",
      "  .. .. .. .. .. .. .. ..$ stepsize_jitter  : num 0\n",
      "  .. .. .. .. .. .. ..$ enable_random_init: logi TRUE\n",
      "  .. .. .. .. .. .. ..$ init              : chr \"random\"\n",
      "  .. .. .. .. .. .. ..$ init_list         : NULL\n",
      "  .. .. .. .. .. .. ..$ init_radius       : num 2\n",
      "  .. .. .. .. .. .. ..$ iter              : int 1000\n",
      "  .. .. .. .. .. .. ..$ method            : chr \"sampling\"\n",
      "  .. .. .. .. .. .. ..$ random_seed       : chr \"304168990\"\n",
      "  .. .. .. .. .. .. ..$ refresh           : int 100\n",
      "  .. .. .. .. .. .. ..$ sampler_t         : chr \"NUTS(diag_e)\"\n",
      "  .. .. .. .. .. .. ..$ save_warmup       : logi TRUE\n",
      "  .. .. .. .. .. .. ..$ test_grad         : logi FALSE\n",
      "  .. .. .. .. .. .. ..$ thin              : int 1\n",
      "  .. .. .. .. .. .. ..$ warmup            : int 500\n",
      "  .. .. .. .. .. ..- attr(*, \"inits\")= num [1:1188] 1.4035 1.8093 0.0937 -1.579 -0.2643 ...\n",
      "  .. .. .. .. .. ..- attr(*, \"mean_pars\")= num [1:1188] -0.688 -0.353 -0.102 0.1 2.28 ...\n",
      "  .. .. .. .. .. ..- attr(*, \"mean_lp__\")= num -306\n",
      "  .. .. .. .. .. ..- attr(*, \"adaptation_info\")= chr \"# Adaptation terminated\\n# Step size = 0.10836\\n# Diagonal elements of inverse mass matrix:\\n# 0.196952, 0.4501\"| __truncated__\n",
      "  .. .. .. .. .. ..- attr(*, \"elapsed_time\")= Named num [1:2] 7.45 3.98\n",
      "  .. .. .. .. .. .. ..- attr(*, \"names\")= chr [1:2] \"warmup\" \"sample\"\n",
      "  .. .. .. .. .. ..- attr(*, \"sampler_params\")=List of 6\n",
      "  .. .. .. .. .. .. ..$ accept_stat__: num [1:1000] 3.33e-01 0.00 2.80e-22 1.00 1.00 ...\n",
      "  .. .. .. .. .. .. ..$ stepsize__   : num [1:1000] 0.125 3.25885 0.24905 0.01223 0.00869 ...\n",
      "  .. .. .. .. .. .. ..$ treedepth__  : num [1:1000] 2 0 2 7 9 9 9 9 9 9 ...\n",
      "  .. .. .. .. .. .. ..$ n_leapfrog__ : num [1:1000] 3 1 3 127 511 511 511 511 511 511 ...\n",
      "  .. .. .. .. .. .. ..$ divergent__  : num [1:1000] 0 1 0 0 0 0 0 0 0 0 ...\n",
      "  .. .. .. .. .. .. ..$ energy__     : num [1:1000] 1004 500 499 509 430 ...\n",
      "  .. .. .. .. .. ..- attr(*, \"return_code\")= int 0\n",
      "  .. .. .. .. ..$ :List of 685\n",
      "  .. .. .. .. .. ..$ log_lik[1]      : num [1:1000] -0.86 -0.86 -0.86 -0.679 -0.684 ...\n",
      "  .. .. .. .. .. ..$ log_lik[2]      : num [1:1000] -0.55 -0.55 -0.55 -0.707 -0.702 ...\n",
      "  .. .. .. .. .. ..$ log_lik[3]      : num [1:1000] -0.507 -0.507 -0.507 -1.028 -0.777 ...\n",
      "  .. .. .. .. .. ..$ log_lik[4]      : num [1:1000] -0.86 -0.86 -0.86 -0.679 -0.684 ...\n",
      "  .. .. .. .. .. ..$ log_lik[5]      : num [1:1000] -0.922 -0.922 -0.922 -0.443 -0.616 ...\n",
      "  .. .. .. .. .. ..$ log_lik[6]      : num [1:1000] -0.922 -0.922 -0.922 -0.443 -0.616 ...\n",
      "  .. .. .. .. .. ..$ log_lik[7]      : num [1:1000] -1.063 -1.063 -1.063 -0.815 -0.561 ...\n",
      "  .. .. .. .. .. ..$ log_lik[8]      : num [1:1000] -1.063 -1.063 -1.063 -0.815 -0.561 ...\n",
      "  .. .. .. .. .. ..$ log_lik[9]      : num [1:1000] -0.702 -0.702 -0.702 -0.716 -0.734 ...\n",
      "  .. .. .. .. .. ..$ log_lik[10]     : num [1:1000] -0.702 -0.702 -0.702 -0.716 -0.734 ...\n",
      "  .. .. .. .. .. ..$ log_lik[11]     : num [1:1000] -0.684 -0.684 -0.684 -0.671 -0.654 ...\n",
      "  .. .. .. .. .. ..$ log_lik[12]     : num [1:1000] -1.063 -1.063 -1.063 -0.815 -0.561 ...\n",
      "  .. .. .. .. .. ..$ log_lik[13]     : num [1:1000] -0.558 -0.558 -0.558 -0.723 -0.77 ...\n",
      "  .. .. .. .. .. ..$ log_lik[14]     : num [1:1000] -1.03 -1.03 -1.03 -0.45 -0.613 ...\n",
      "  .. .. .. .. .. ..$ log_lik[15]     : num [1:1000] -0.85 -0.85 -0.85 -0.664 -0.621 ...\n",
      "  .. .. .. .. .. ..$ log_lik[16]     : num [1:1000] -1.03 -1.03 -1.03 -0.45 -0.613 ...\n",
      "  .. .. .. .. .. ..$ log_lik[17]     : num [1:1000] -0.442 -0.442 -0.442 -1.014 -0.78 ...\n",
      "  .. .. .. .. .. ..$ log_lik[18]     : num [1:1000] -0.85 -0.85 -0.85 -0.664 -0.621 ...\n",
      "  .. .. .. .. .. ..$ log_lik[19]     : num [1:1000] -0.783 -0.783 -0.783 -0.427 -0.584 ...\n",
      "  .. .. .. .. .. ..$ log_lik[20]     : num [1:1000] -0.542 -0.542 -0.542 -0.67 -0.683 ...\n",
      "  .. .. .. .. .. ..$ log_lik[21]     : num [1:1000] -0.542 -0.542 -0.542 -0.67 -0.683 ...\n",
      "  .. .. .. .. .. ..$ log_lik[22]     : num [1:1000] -0.871 -0.871 -0.871 -0.717 -0.703 ...\n",
      "  .. .. .. .. .. ..$ log_lik[23]     : num [1:1000] -0.783 -0.783 -0.783 -0.427 -0.584 ...\n",
      "  .. .. .. .. .. ..$ log_lik[24]     : num [1:1000] -0.611 -0.611 -0.611 -1.057 -0.816 ...\n",
      "  .. .. .. .. .. ..$ log_lik[25]     : num [1:1000] -0.599 -0.599 -0.599 -0.55 -0.552 ...\n",
      "  .. .. .. .. .. ..$ log_lik[26]     : num [1:1000] -0.797 -0.797 -0.797 -0.86 -0.857 ...\n",
      "  .. .. .. .. .. ..$ log_lik[27]     : num [1:1000] -1.194 -1.194 -1.194 -0.99 -0.753 ...\n",
      "  .. .. .. .. .. ..$ log_lik[28]     : num [1:1000] -1.194 -1.194 -1.194 -0.99 -0.753 ...\n",
      "  .. .. .. .. .. ..$ log_lik[29]     : num [1:1000] -0.599 -0.599 -0.599 -0.55 -0.552 ...\n",
      "  .. .. .. .. .. ..$ log_lik[30]     : num [1:1000] -1.194 -1.194 -1.194 -0.99 -0.753 ...\n",
      "  .. .. .. .. .. ..$ log_lik[31]     : num [1:1000] -0.848 -0.848 -0.848 -0.453 -0.457 ...\n",
      "  .. .. .. .. .. ..$ log_lik[32]     : num [1:1000] -0.406 -0.406 -0.406 -0.343 -0.426 ...\n",
      "  .. .. .. .. .. ..$ log_lik[33]     : num [1:1000] -0.406 -0.406 -0.406 -0.343 -0.426 ...\n",
      "  .. .. .. .. .. ..$ log_lik[34]     : num [1:1000] -0.406 -0.406 -0.406 -0.343 -0.426 ...\n",
      "  .. .. .. .. .. ..$ log_lik[35]     : num [1:1000] -0.848 -0.848 -0.848 -0.453 -0.457 ...\n",
      "  .. .. .. .. .. ..$ log_lik[36]     : num [1:1000] -0.848 -0.848 -0.848 -0.453 -0.457 ...\n",
      "  .. .. .. .. .. ..$ log_lik[37]     : num [1:1000] -0.3 -0.3 -0.3 -1.28 -1.63 ...\n",
      "  .. .. .. .. .. ..$ log_lik[38]     : num [1:1000] -1.349 -1.349 -1.349 -0.327 -0.218 ...\n",
      "  .. .. .. .. .. ..$ log_lik[39]     : num [1:1000] -0.513 -0.513 -0.513 -0.687 -0.855 ...\n",
      "  .. .. .. .. .. ..$ log_lik[40]     : num [1:1000] -1.349 -1.349 -1.349 -0.327 -0.218 ...\n",
      "  .. .. .. .. .. ..$ log_lik[41]     : num [1:1000] -0.3 -0.3 -0.3 -1.28 -1.63 ...\n",
      "  .. .. .. .. .. ..$ log_lik[42]     : num [1:1000] -1.349 -1.349 -1.349 -0.327 -0.218 ...\n",
      "  .. .. .. .. .. ..$ log_lik[43]     : num [1:1000] -0.578 -0.578 -0.578 -0.674 -0.841 ...\n",
      "  .. .. .. .. .. ..$ log_lik[44]     : num [1:1000] -2.639 -2.639 -2.639 -0.353 -0.235 ...\n",
      "  .. .. .. .. .. ..$ log_lik[45]     : num [1:1000] -0.578 -0.578 -0.578 -0.674 -0.841 ...\n",
      "  .. .. .. .. .. ..$ log_lik[46]     : num [1:1000] -0.0741 -0.0741 -0.0741 -1.2125 -1.5619 ...\n",
      "  .. .. .. .. .. ..$ log_lik[47]     : num [1:1000] -0.823 -0.823 -0.823 -0.713 -0.565 ...\n",
      "  .. .. .. .. .. ..$ log_lik[48]     : num [1:1000] -0.0741 -0.0741 -0.0741 -1.2125 -1.5619 ...\n",
      "  .. .. .. .. .. ..$ log_lik[49]     : num [1:1000] -0.625 -0.625 -0.625 -0.689 -0.846 ...\n",
      "  .. .. .. .. .. ..$ log_lik[50]     : num [1:1000] -0.81 -0.81 -0.81 -0.338 -0.226 ...\n",
      "  .. .. .. .. .. ..$ log_lik[51]     : num [1:1000] -0.767 -0.767 -0.767 -0.698 -0.561 ...\n",
      "  .. .. .. .. .. ..$ log_lik[52]     : num [1:1000] -0.767 -0.767 -0.767 -0.698 -0.561 ...\n",
      "  .. .. .. .. .. ..$ log_lik[53]     : num [1:1000] -0.767 -0.767 -0.767 -0.698 -0.561 ...\n",
      "  .. .. .. .. .. ..$ log_lik[54]     : num [1:1000] -0.588 -0.588 -0.588 -1.249 -1.598 ...\n",
      "  .. .. .. .. .. ..$ log_lik[55]     : num [1:1000] -0.726 -0.726 -0.726 -0.336 -0.224 ...\n",
      "  .. .. .. .. .. ..$ log_lik[56]     : num [1:1000] -0.858 -0.858 -0.858 -0.675 -0.536 ...\n",
      "  .. .. .. .. .. ..$ log_lik[57]     : num [1:1000] -0.551 -0.551 -0.551 -0.712 -0.879 ...\n",
      "  .. .. .. .. .. ..$ log_lik[58]     : num [1:1000] -0.726 -0.726 -0.726 -0.336 -0.224 ...\n",
      "  .. .. .. .. .. ..$ log_lik[59]     : num [1:1000] -0.726 -0.726 -0.726 -0.336 -0.224 ...\n",
      "  .. .. .. .. .. ..$ log_lik[60]     : num [1:1000] -0.726 -0.726 -0.726 -0.336 -0.224 ...\n",
      "  .. .. .. .. .. ..$ log_lik[61]     : num [1:1000] -0.606 -0.606 -0.606 -0.727 -0.578 ...\n",
      "  .. .. .. .. .. ..$ log_lik[62]     : num [1:1000] -0.788 -0.788 -0.788 -0.66 -0.824 ...\n",
      "  .. .. .. .. .. ..$ log_lik[63]     : num [1:1000] -0.606 -0.606 -0.606 -0.727 -0.578 ...\n",
      "  .. .. .. .. .. ..$ log_lik[64]     : num [1:1000] -2.134 -2.134 -2.134 -0.342 -0.228 ...\n",
      "  .. .. .. .. .. ..$ log_lik[65]     : num [1:1000] -2.134 -2.134 -2.134 -0.342 -0.228 ...\n",
      "  .. .. .. .. .. ..$ log_lik[66]     : num [1:1000] -0.606 -0.606 -0.606 -0.727 -0.578 ...\n",
      "  .. .. .. .. .. ..$ log_lik[67]     : num [1:1000] -0.909 -0.909 -0.909 -0.729 -0.574 ...\n",
      "  .. .. .. .. .. ..$ log_lik[68]     : num [1:1000] -0.516 -0.516 -0.516 -0.659 -0.829 ...\n",
      "  .. .. .. .. .. ..$ log_lik[69]     : num [1:1000] -1.085 -1.085 -1.085 -0.323 -0.214 ...\n",
      "  .. .. .. .. .. ..$ log_lik[70]     : num [1:1000] -0.516 -0.516 -0.516 -0.659 -0.829 ...\n",
      "  .. .. .. .. .. ..$ log_lik[71]     : num [1:1000] -0.909 -0.909 -0.909 -0.729 -0.574 ...\n",
      "  .. .. .. .. .. ..$ log_lik[72]     : num [1:1000] -1.085 -1.085 -1.085 -0.323 -0.214 ...\n",
      "  .. .. .. .. .. ..$ log_lik[73]     : num [1:1000] -1.139 -1.139 -1.139 -0.092 -0.107 ...\n",
      "  .. .. .. .. .. ..$ log_lik[74]     : num [1:1000] -0.373 -0.373 -0.373 -0.214 -0.241 ...\n",
      "  .. .. .. .. .. ..$ log_lik[75]     : num [1:1000] -0.373 -0.373 -0.373 -0.214 -0.241 ...\n",
      "  .. .. .. .. .. ..$ log_lik[76]     : num [1:1000] -0.373 -0.373 -0.373 -0.214 -0.241 ...\n",
      "  .. .. .. .. .. ..$ log_lik[77]     : num [1:1000] -1.139 -1.139 -1.139 -0.092 -0.107 ...\n",
      "  .. .. .. .. .. ..$ log_lik[78]     : num [1:1000] -1.139 -1.139 -1.139 -0.092 -0.107 ...\n",
      "  .. .. .. .. .. ..$ log_lik[79]     : num [1:1000] -0.554 -0.554 -0.554 -0.129 -0.163 ...\n",
      "  .. .. .. .. .. ..$ log_lik[80]     : num [1:1000] -0.554 -0.554 -0.554 -0.129 -0.163 ...\n",
      "  .. .. .. .. .. ..$ log_lik[81]     : num [1:1000] -0.554 -0.554 -0.554 -0.129 -0.163 ...\n",
      "  .. .. .. .. .. ..$ log_lik[82]     : num [1:1000] -0.473 -0.473 -0.473 -0.2 -0.22 ...\n",
      "  .. .. .. .. .. ..$ log_lik[83]     : num [1:1000] -0.473 -0.473 -0.473 -0.2 -0.22 ...\n",
      "  .. .. .. .. .. ..$ log_lik[84]     : num [1:1000] -0.473 -0.473 -0.473 -0.2 -0.22 ...\n",
      "  .. .. .. .. .. ..$ log_lik[85]     : num [1:1000] -0.378 -0.378 -0.378 -0.22 -0.27 ...\n",
      "  .. .. .. .. .. ..$ log_lik[86]     : num [1:1000] -0.378 -0.378 -0.378 -0.22 -0.27 ...\n",
      "  .. .. .. .. .. ..$ log_lik[87]     : num [1:1000] -1.2606 -1.2606 -1.2606 -0.0938 -0.1066 ...\n",
      "  .. .. .. .. .. ..$ log_lik[88]     : num [1:1000] -1.2606 -1.2606 -1.2606 -0.0938 -0.1066 ...\n",
      "  .. .. .. .. .. ..$ log_lik[89]     : num [1:1000] -0.378 -0.378 -0.378 -0.22 -0.27 ...\n",
      "  .. .. .. .. .. ..$ log_lik[90]     : num [1:1000] -1.2606 -1.2606 -1.2606 -0.0938 -0.1066 ...\n",
      "  .. .. .. .. .. ..$ log_lik[91]     : num [1:1000] -0.367 -0.367 -0.367 -0.2 -0.233 ...\n",
      "  .. .. .. .. .. ..$ log_lik[92]     : num [1:1000] -0.367 -0.367 -0.367 -0.2 -0.233 ...\n",
      "  .. .. .. .. .. ..$ log_lik[93]     : num [1:1000] -0.981 -0.981 -0.981 -0.088 -0.1 ...\n",
      "  .. .. .. .. .. ..$ log_lik[94]     : num [1:1000] -0.367 -0.367 -0.367 -0.2 -0.233 ...\n",
      "  .. .. .. .. .. ..$ log_lik[95]     : num [1:1000] -0.981 -0.981 -0.981 -0.088 -0.1 ...\n",
      "  .. .. .. .. .. ..$ log_lik[96]     : num [1:1000] -0.981 -0.981 -0.981 -0.088 -0.1 ...\n",
      "  .. .. .. .. .. ..$ log_lik[97]     : num [1:1000] -0.56 -0.56 -0.56 -0.275 -0.31 ...\n",
      "  .. .. .. .. .. ..$ log_lik[98]     : num [1:1000] -0.476 -0.476 -0.476 -0.0973 -0.1117 ...\n",
      "  .. .. .. .. .. ..$ log_lik[99]     : num [1:1000] -0.56 -0.56 -0.56 -0.275 -0.31 ...\n",
      "  .. .. .. .. .. .. [list output truncated]\n",
      "  .. .. .. .. .. ..- attr(*, \"test_grad\")= logi FALSE\n",
      "  .. .. .. .. .. ..- attr(*, \"args\")=List of 16\n",
      "  .. .. .. .. .. .. ..$ append_samples    : logi FALSE\n",
      "  .. .. .. .. .. .. ..$ chain_id          : num 3\n",
      "  .. .. .. .. .. .. ..$ control           :List of 12\n",
      "  .. .. .. .. .. .. .. ..$ adapt_delta      : num 0.95\n",
      "  .. .. .. .. .. .. .. ..$ adapt_engaged    : logi TRUE\n",
      "  .. .. .. .. .. .. .. ..$ adapt_gamma      : num 0.05\n",
      "  .. .. .. .. .. .. .. ..$ adapt_init_buffer: num 75\n",
      "  .. .. .. .. .. .. .. ..$ adapt_kappa      : num 0.75\n",
      "  .. .. .. .. .. .. .. ..$ adapt_t0         : num 10\n",
      "  .. .. .. .. .. .. .. ..$ adapt_term_buffer: num 50\n",
      "  .. .. .. .. .. .. .. ..$ adapt_window     : num 25\n",
      "  .. .. .. .. .. .. .. ..$ max_treedepth    : int 10\n",
      "  .. .. .. .. .. .. .. ..$ metric           : chr \"diag_e\"\n",
      "  .. .. .. .. .. .. .. ..$ stepsize         : num 1\n",
      "  .. .. .. .. .. .. .. ..$ stepsize_jitter  : num 0\n",
      "  .. .. .. .. .. .. ..$ enable_random_init: logi TRUE\n",
      "  .. .. .. .. .. .. ..$ init              : chr \"random\"\n",
      "  .. .. .. .. .. .. ..$ init_list         : NULL\n",
      "  .. .. .. .. .. .. ..$ init_radius       : num 2\n",
      "  .. .. .. .. .. .. ..$ iter              : int 1000\n",
      "  .. .. .. .. .. .. ..$ method            : chr \"sampling\"\n",
      "  .. .. .. .. .. .. ..$ random_seed       : chr \"304168990\"\n",
      "  .. .. .. .. .. .. ..$ refresh           : int 100\n",
      "  .. .. .. .. .. .. ..$ sampler_t         : chr \"NUTS(diag_e)\"\n",
      "  .. .. .. .. .. .. ..$ save_warmup       : logi TRUE\n",
      "  .. .. .. .. .. .. ..$ test_grad         : logi FALSE\n",
      "  .. .. .. .. .. .. ..$ thin              : int 1\n",
      "  .. .. .. .. .. .. ..$ warmup            : int 500\n",
      "  .. .. .. .. .. ..- attr(*, \"inits\")= num [1:1188] 0.725 0.574 1.506 -0.266 1.332 ...\n",
      "  .. .. .. .. .. ..- attr(*, \"mean_pars\")= num [1:1188] -0.656 -0.38 -0.12 0.08 2.293 ...\n",
      "  .. .. .. .. .. ..- attr(*, \"mean_lp__\")= num -306\n",
      "  .. .. .. .. .. ..- attr(*, \"adaptation_info\")= chr \"# Adaptation terminated\\n# Step size = 0.117189\\n# Diagonal elements of inverse mass matrix:\\n# 0.178028, 0.349\"| __truncated__\n",
      "  .. .. .. .. .. ..- attr(*, \"elapsed_time\")= Named num [1:2] 6.58 3.76\n",
      "  .. .. .. .. .. .. ..- attr(*, \"names\")= chr [1:2] \"warmup\" \"sample\"\n",
      "  .. .. .. .. .. ..- attr(*, \"sampler_params\")=List of 6\n",
      "  .. .. .. .. .. .. ..$ accept_stat__: num [1:1000] 1 0 0 0.868 1 ...\n",
      "  .. .. .. .. .. .. ..$ stepsize__   : num [1:1000] 0.125 10.9517 1.1987 0.0723 0.0401 ...\n",
      "  .. .. .. .. .. .. ..$ treedepth__  : num [1:1000] 5 0 0 5 7 6 7 7 6 6 ...\n",
      "  .. .. .. .. .. .. ..$ n_leapfrog__ : num [1:1000] 31 1 1 31 127 63 127 127 63 127 ...\n",
      "  .. .. .. .. .. .. ..$ divergent__  : num [1:1000] 0 1 1 0 0 0 0 0 0 0 ...\n",
      "  .. .. .. .. .. .. ..$ energy__     : num [1:1000] 946 492 490 487 447 ...\n",
      "  .. .. .. .. .. ..- attr(*, \"return_code\")= int 0\n",
      "  .. .. .. .. ..$ :List of 685\n",
      "  .. .. .. .. .. ..$ log_lik[1]      : num [1:1000] -1.567 -1.567 -1.567 -0.367 -0.822 ...\n",
      "  .. .. .. .. .. ..$ log_lik[2]      : num [1:1000] -0.234 -0.234 -0.234 -1.179 -0.579 ...\n",
      "  .. .. .. .. .. ..$ log_lik[3]      : num [1:1000] -2.976 -2.976 -2.976 -0.944 -0.965 ...\n",
      "  .. .. .. .. .. ..$ log_lik[4]      : num [1:1000] -1.567 -1.567 -1.567 -0.367 -0.822 ...\n",
      "  .. .. .. .. .. ..$ log_lik[5]      : num [1:1000] -0.0524 -0.0524 -0.0524 -0.493 -0.4798 ...\n",
      "  .. .. .. .. .. ..$ log_lik[6]      : num [1:1000] -0.0524 -0.0524 -0.0524 -0.493 -0.4798 ...\n",
      "  .. .. .. .. .. ..$ log_lik[7]      : num [1:1000] -2.496 -2.496 -2.496 -0.873 -1.003 ...\n",
      "  .. .. .. .. .. ..$ log_lik[8]      : num [1:1000] -2.496 -2.496 -2.496 -0.873 -1.003 ...\n",
      "  .. .. .. .. .. ..$ log_lik[9]      : num [1:1000] -0.451 -0.451 -0.451 -0.358 -0.809 ...\n",
      "  .. .. .. .. .. ..$ log_lik[10]     : num [1:1000] -0.451 -0.451 -0.451 -0.358 -0.809 ...\n",
      "  .. .. .. .. .. ..$ log_lik[11]     : num [1:1000] -1.013 -1.013 -1.013 -1.2 -0.589 ...\n",
      "  .. .. .. .. .. ..$ log_lik[12]     : num [1:1000] -2.496 -2.496 -2.496 -0.873 -1.003 ...\n",
      "  .. .. .. .. .. ..$ log_lik[13]     : num [1:1000] -0.106 -0.106 -0.106 -0.911 -0.613 ...\n",
      "  .. .. .. .. .. ..$ log_lik[14]     : num [1:1000] -0.0288 -0.0288 -0.0288 -0.425 -0.6352 ...\n",
      "  .. .. .. .. .. ..$ log_lik[15]     : num [1:1000] -2.297 -2.297 -2.297 -0.514 -0.781 ...\n",
      "  .. .. .. .. .. ..$ log_lik[16]     : num [1:1000] -0.0288 -0.0288 -0.0288 -0.425 -0.6352 ...\n",
      "  .. .. .. .. .. ..$ log_lik[17]     : num [1:1000] -3.561 -3.561 -3.561 -1.061 -0.755 ...\n",
      "  .. .. .. .. .. ..$ log_lik[18]     : num [1:1000] -2.297 -2.297 -2.297 -0.514 -0.781 ...\n",
      "  .. .. .. .. .. ..$ log_lik[19]     : num [1:1000] -0.064 -0.064 -0.064 -0.562 -0.429 ...\n",
      "  .. .. .. .. .. ..$ log_lik[20]     : num [1:1000] -0.297 -0.297 -0.297 -1.161 -0.584 ...\n",
      "  .. .. .. .. .. ..$ log_lik[21]     : num [1:1000] -0.297 -0.297 -0.297 -1.161 -0.584 ...\n",
      "  .. .. .. .. .. ..$ log_lik[22]     : num [1:1000] -1.36 -1.36 -1.36 -0.376 -0.816 ...\n",
      "  .. .. .. .. .. ..$ log_lik[23]     : num [1:1000] -0.064 -0.064 -0.064 -0.562 -0.429 ...\n",
      "  .. .. .. .. .. ..$ log_lik[24]     : num [1:1000] -2.781 -2.781 -2.781 -0.843 -1.054 ...\n",
      "  .. .. .. .. .. ..$ log_lik[25]     : num [1:1000] -1.632 -1.632 -1.632 -0.321 -0.801 ...\n",
      "  .. .. .. .. .. ..$ log_lik[26]     : num [1:1000] -0.217 -0.217 -0.217 -1.292 -0.596 ...\n",
      "  .. .. .. .. .. ..$ log_lik[27]     : num [1:1000] -2.6 -2.6 -2.6 -0.753 -1.082 ...\n",
      "  .. .. .. .. .. ..$ log_lik[28]     : num [1:1000] -2.6 -2.6 -2.6 -0.753 -1.082 ...\n",
      "  .. .. .. .. .. ..$ log_lik[29]     : num [1:1000] -1.632 -1.632 -1.632 -0.321 -0.801 ...\n",
      "  .. .. .. .. .. ..$ log_lik[30]     : num [1:1000] -2.6 -2.6 -2.6 -0.753 -1.082 ...\n",
      "  .. .. .. .. .. ..$ log_lik[31]     : num [1:1000] -0.49 -0.49 -0.49 -0.499 -0.741 ...\n",
      "  .. .. .. .. .. ..$ log_lik[32]     : num [1:1000] -0.122 -0.122 -0.122 -0.52 -0.39 ...\n",
      "  .. .. .. .. .. ..$ log_lik[33]     : num [1:1000] -0.122 -0.122 -0.122 -0.52 -0.39 ...\n",
      "  .. .. .. .. .. ..$ log_lik[34]     : num [1:1000] -0.122 -0.122 -0.122 -0.52 -0.39 ...\n",
      "  .. .. .. .. .. ..$ log_lik[35]     : num [1:1000] -0.49 -0.49 -0.49 -0.499 -0.741 ...\n",
      "  .. .. .. .. .. ..$ log_lik[36]     : num [1:1000] -0.49 -0.49 -0.49 -0.499 -0.741 ...\n",
      "  .. .. .. .. .. ..$ log_lik[37]     : num [1:1000] -0.222 -0.222 -0.222 -3.138 -1.542 ...\n",
      "  .. .. .. .. .. ..$ log_lik[38]     : num [1:1000] -1.615 -1.615 -1.615 -0.0443 -0.2408 ...\n",
      "  .. .. .. .. .. ..$ log_lik[39]     : num [1:1000] -1.112 -1.112 -1.112 -0.82 -0.529 ...\n",
      "  .. .. .. .. .. ..$ log_lik[40]     : num [1:1000] -1.615 -1.615 -1.615 -0.0443 -0.2408 ...\n",
      "  .. .. .. .. .. ..$ log_lik[41]     : num [1:1000] -0.222 -0.222 -0.222 -3.138 -1.542 ...\n",
      "  .. .. .. .. .. ..$ log_lik[42]     : num [1:1000] -1.615 -1.615 -1.615 -0.0443 -0.2408 ...\n",
      "  .. .. .. .. .. ..$ log_lik[43]     : num [1:1000] -0.173 -0.173 -0.173 -0.832 -0.823 ...\n",
      "  .. .. .. .. .. ..$ log_lik[44]     : num [1:1000] -1.4137 -1.4137 -1.4137 -0.0549 -0.2412 ...\n",
      "  .. .. .. .. .. ..$ log_lik[45]     : num [1:1000] -0.173 -0.173 -0.173 -0.832 -0.823 ...\n",
      "  .. .. .. .. .. ..$ log_lik[46]     : num [1:1000] -0.279 -0.279 -0.279 -2.929 -1.54 ...\n",
      "  .. .. .. .. .. ..$ log_lik[47]     : num [1:1000] -1.838 -1.838 -1.838 -0.571 -0.578 ...\n",
      "  .. .. .. .. .. ..$ log_lik[48]     : num [1:1000] -0.279 -0.279 -0.279 -2.929 -1.54 ...\n",
      "  .. .. .. .. .. ..$ log_lik[49]     : num [1:1000] -1.008 -1.008 -1.008 -0.848 -1.015 ...\n",
      "  .. .. .. .. .. ..$ log_lik[50]     : num [1:1000] -1.569 -1.569 -1.569 -0.043 -0.269 ...\n",
      "  .. .. .. .. .. ..$ log_lik[51]     : num [1:1000] -0.454 -0.454 -0.454 -0.559 -0.45 ...\n",
      "  .. .. .. .. .. ..$ log_lik[52]     : num [1:1000] -0.454 -0.454 -0.454 -0.559 -0.45 ...\n",
      "  .. .. .. .. .. ..$ log_lik[53]     : num [1:1000] -0.454 -0.454 -0.454 -0.559 -0.45 ...\n",
      "  .. .. .. .. .. ..$ log_lik[54]     : num [1:1000] -0.234 -0.234 -0.234 -3.168 -1.446 ...\n",
      "  .. .. .. .. .. ..$ log_lik[55]     : num [1:1000] -1.8887 -1.8887 -1.8887 -0.0644 -0.2066 ...\n",
      "  .. .. .. .. .. ..$ log_lik[56]     : num [1:1000] -0.225 -0.225 -0.225 -0.562 -0.498 ...\n",
      "  .. .. .. .. .. ..$ log_lik[57]     : num [1:1000] -1.602 -1.602 -1.602 -0.844 -0.936 ...\n",
      "  .. .. .. .. .. ..$ log_lik[58]     : num [1:1000] -1.8887 -1.8887 -1.8887 -0.0644 -0.2066 ...\n",
      "  .. .. .. .. .. ..$ log_lik[59]     : num [1:1000] -1.8887 -1.8887 -1.8887 -0.0644 -0.2066 ...\n",
      "  .. .. .. .. .. ..$ log_lik[60]     : num [1:1000] -1.8887 -1.8887 -1.8887 -0.0644 -0.2066 ...\n",
      "  .. .. .. .. .. ..$ log_lik[61]     : num [1:1000] -0.116 -0.116 -0.116 -0.576 -0.616 ...\n",
      "  .. .. .. .. .. ..$ log_lik[62]     : num [1:1000] -2.215 -2.215 -2.215 -0.826 -0.776 ...\n",
      "  .. .. .. .. .. ..$ log_lik[63]     : num [1:1000] -0.116 -0.116 -0.116 -0.576 -0.616 ...\n",
      "  .. .. .. .. .. ..$ log_lik[64]     : num [1:1000] -1.8231 -1.8231 -1.8231 -0.0528 -0.2518 ...\n",
      "  .. .. .. .. .. ..$ log_lik[65]     : num [1:1000] -1.8231 -1.8231 -1.8231 -0.0528 -0.2518 ...\n",
      "  .. .. .. .. .. ..$ log_lik[66]     : num [1:1000] -0.116 -0.116 -0.116 -0.576 -0.616 ...\n",
      "  .. .. .. .. .. ..$ log_lik[67]     : num [1:1000] -1.786 -1.786 -1.786 -0.56 -0.394 ...\n",
      "  .. .. .. .. .. ..$ log_lik[68]     : num [1:1000] -0.183 -0.183 -0.183 -0.847 -1.121 ...\n",
      "  .. .. .. .. .. ..$ log_lik[69]     : num [1:1000] -1.5074 -1.5074 -1.5074 -0.0385 -0.2334 ...\n",
      "  .. .. .. .. .. ..$ log_lik[70]     : num [1:1000] -0.183 -0.183 -0.183 -0.847 -1.121 ...\n",
      "  .. .. .. .. .. ..$ log_lik[71]     : num [1:1000] -1.786 -1.786 -1.786 -0.56 -0.394 ...\n",
      "  .. .. .. .. .. ..$ log_lik[72]     : num [1:1000] -1.5074 -1.5074 -1.5074 -0.0385 -0.2334 ...\n",
      "  .. .. .. .. .. ..$ log_lik[73]     : num [1:1000] -0.3659 -0.3659 -0.3659 -0.3314 -0.0171 ...\n",
      "  .. .. .. .. .. ..$ log_lik[74]     : num [1:1000] -0.1978 -0.1978 -0.1978 -0.5303 -0.0175 ...\n",
      "  .. .. .. .. .. ..$ log_lik[75]     : num [1:1000] -0.1978 -0.1978 -0.1978 -0.5303 -0.0175 ...\n",
      "  .. .. .. .. .. ..$ log_lik[76]     : num [1:1000] -0.1978 -0.1978 -0.1978 -0.5303 -0.0175 ...\n",
      "  .. .. .. .. .. ..$ log_lik[77]     : num [1:1000] -0.3659 -0.3659 -0.3659 -0.3314 -0.0171 ...\n",
      "  .. .. .. .. .. ..$ log_lik[78]     : num [1:1000] -0.3659 -0.3659 -0.3659 -0.3314 -0.0171 ...\n",
      "  .. .. .. .. .. ..$ log_lik[79]     : num [1:1000] -0.5527 -0.5527 -0.5527 -0.3665 -0.0161 ...\n",
      "  .. .. .. .. .. ..$ log_lik[80]     : num [1:1000] -0.5527 -0.5527 -0.5527 -0.3665 -0.0161 ...\n",
      "  .. .. .. .. .. ..$ log_lik[81]     : num [1:1000] -0.5527 -0.5527 -0.5527 -0.3665 -0.0161 ...\n",
      "  .. .. .. .. .. ..$ log_lik[82]     : num [1:1000] -0.8983 -0.8983 -0.8983 -0.5426 -0.0179 ...\n",
      "  .. .. .. .. .. ..$ log_lik[83]     : num [1:1000] -0.8983 -0.8983 -0.8983 -0.5426 -0.0179 ...\n",
      "  .. .. .. .. .. ..$ log_lik[84]     : num [1:1000] -0.8983 -0.8983 -0.8983 -0.5426 -0.0179 ...\n",
      "  .. .. .. .. .. ..$ log_lik[85]     : num [1:1000] -0.0887 -0.0887 -0.0887 -0.3797 -0.0189 ...\n",
      "  .. .. .. .. .. ..$ log_lik[86]     : num [1:1000] -0.0887 -0.0887 -0.0887 -0.3797 -0.0189 ...\n",
      "  .. .. .. .. .. ..$ log_lik[87]     : num [1:1000] -0.2153 -0.2153 -0.2153 -0.2826 -0.0246 ...\n",
      "  .. .. .. .. .. ..$ log_lik[88]     : num [1:1000] -0.2153 -0.2153 -0.2153 -0.2826 -0.0246 ...\n",
      "  .. .. .. .. .. ..$ log_lik[89]     : num [1:1000] -0.0887 -0.0887 -0.0887 -0.3797 -0.0189 ...\n",
      "  .. .. .. .. .. ..$ log_lik[90]     : num [1:1000] -0.2153 -0.2153 -0.2153 -0.2826 -0.0246 ...\n",
      "  .. .. .. .. .. ..$ log_lik[91]     : num [1:1000] -0.252 -0.252 -0.252 -0.5191 -0.0177 ...\n",
      "  .. .. .. .. .. ..$ log_lik[92]     : num [1:1000] -0.252 -0.252 -0.252 -0.5191 -0.0177 ...\n",
      "  .. .. .. .. .. ..$ log_lik[93]     : num [1:1000] -0.4336 -0.4336 -0.4336 -0.3822 -0.0149 ...\n",
      "  .. .. .. .. .. ..$ log_lik[94]     : num [1:1000] -0.252 -0.252 -0.252 -0.5191 -0.0177 ...\n",
      "  .. .. .. .. .. ..$ log_lik[95]     : num [1:1000] -0.4336 -0.4336 -0.4336 -0.3822 -0.0149 ...\n",
      "  .. .. .. .. .. ..$ log_lik[96]     : num [1:1000] -0.4336 -0.4336 -0.4336 -0.3822 -0.0149 ...\n",
      "  .. .. .. .. .. ..$ log_lik[97]     : num [1:1000] -0.1836 -0.1836 -0.1836 -0.5984 -0.0182 ...\n",
      "  .. .. .. .. .. ..$ log_lik[98]     : num [1:1000] -0.5065 -0.5065 -0.5065 -0.4374 -0.0143 ...\n",
      "  .. .. .. .. .. ..$ log_lik[99]     : num [1:1000] -0.1836 -0.1836 -0.1836 -0.5984 -0.0182 ...\n",
      "  .. .. .. .. .. .. [list output truncated]\n",
      "  .. .. .. .. .. ..- attr(*, \"test_grad\")= logi FALSE\n",
      "  .. .. .. .. .. ..- attr(*, \"args\")=List of 16\n",
      "  .. .. .. .. .. .. ..$ append_samples    : logi FALSE\n",
      "  .. .. .. .. .. .. ..$ chain_id          : num 4\n",
      "  .. .. .. .. .. .. ..$ control           :List of 12\n",
      "  .. .. .. .. .. .. .. ..$ adapt_delta      : num 0.95\n",
      "  .. .. .. .. .. .. .. ..$ adapt_engaged    : logi TRUE\n",
      "  .. .. .. .. .. .. .. ..$ adapt_gamma      : num 0.05\n",
      "  .. .. .. .. .. .. .. ..$ adapt_init_buffer: num 75\n",
      "  .. .. .. .. .. .. .. ..$ adapt_kappa      : num 0.75\n",
      "  .. .. .. .. .. .. .. ..$ adapt_t0         : num 10\n",
      "  .. .. .. .. .. .. .. ..$ adapt_term_buffer: num 50\n",
      "  .. .. .. .. .. .. .. ..$ adapt_window     : num 25\n",
      "  .. .. .. .. .. .. .. ..$ max_treedepth    : int 10\n",
      "  .. .. .. .. .. .. .. ..$ metric           : chr \"diag_e\"\n",
      "  .. .. .. .. .. .. .. ..$ stepsize         : num 1\n",
      "  .. .. .. .. .. .. .. ..$ stepsize_jitter  : num 0\n",
      "  .. .. .. .. .. .. ..$ enable_random_init: logi TRUE\n",
      "  .. .. .. .. .. .. ..$ init              : chr \"random\"\n",
      "  .. .. .. .. .. .. ..$ init_list         : NULL\n",
      "  .. .. .. .. .. .. ..$ init_radius       : num 2\n",
      "  .. .. .. .. .. .. ..$ iter              : int 1000\n",
      "  .. .. .. .. .. .. ..$ method            : chr \"sampling\"\n",
      "  .. .. .. .. .. .. ..$ random_seed       : chr \"304168990\"\n",
      "  .. .. .. .. .. .. ..$ refresh           : int 100\n",
      "  .. .. .. .. .. .. ..$ sampler_t         : chr \"NUTS(diag_e)\"\n",
      "  .. .. .. .. .. .. ..$ save_warmup       : logi TRUE\n",
      "  .. .. .. .. .. .. ..$ test_grad         : logi FALSE\n",
      "  .. .. .. .. .. .. ..$ thin              : int 1\n",
      "  .. .. .. .. .. .. ..$ warmup            : int 500\n",
      "  .. .. .. .. .. ..- attr(*, \"inits\")= num [1:1188] 0.466 1.737 0.736 1.985 0.48 ...\n",
      "  .. .. .. .. .. ..- attr(*, \"mean_pars\")= num [1:1188] -0.6068 -0.3382 -0.0783 0.0739 2.3703 ...\n",
      "  .. .. .. .. .. ..- attr(*, \"mean_lp__\")= num -305\n",
      "  .. .. .. .. .. ..- attr(*, \"adaptation_info\")= chr \"# Adaptation terminated\\n# Step size = 0.11578\\n# Diagonal elements of inverse mass matrix:\\n# 0.19937, 0.31555\"| __truncated__\n",
      "  .. .. .. .. .. ..- attr(*, \"elapsed_time\")= Named num [1:2] 6.01 3.73\n",
      "  .. .. .. .. .. .. ..- attr(*, \"names\")= chr [1:2] \"warmup\" \"sample\"\n",
      "  .. .. .. .. .. ..- attr(*, \"sampler_params\")=List of 6\n",
      "  .. .. .. .. .. .. ..$ accept_stat__: num [1:1000] 1 0 0 1 1 ...\n",
      "  .. .. .. .. .. .. ..$ stepsize__   : num [1:1000] 0.125 10.9517 1.1987 0.0723 0.0584 ...\n",
      "  .. .. .. .. .. .. ..$ treedepth__  : num [1:1000] 2 0 0 4 6 6 6 6 6 6 ...\n",
      "  .. .. .. .. .. .. ..$ n_leapfrog__ : num [1:1000] 3 1 1 15 63 63 63 63 63 63 ...\n",
      "  .. .. .. .. .. .. ..$ divergent__  : num [1:1000] 0 1 1 0 0 0 0 0 0 0 ...\n",
      "  .. .. .. .. .. .. ..$ energy__     : num [1:1000] 1111 520 521 519 406 ...\n",
      "  .. .. .. .. .. ..- attr(*, \"return_code\")= int 0\n",
      "  .. .. .. ..$ chains     : int 4\n",
      "  .. .. .. ..$ iter       : num 1000\n",
      "  .. .. .. ..$ thin       : num 1\n",
      "  .. .. .. ..$ warmup     : num 500\n",
      "  .. .. .. ..$ n_save     : num [1:4] 1000 1000 1000 1000\n",
      "  .. .. .. ..$ warmup2    : num [1:4] 500 500 500 500\n",
      "  .. .. .. ..$ permutation:List of 4\n",
      "  .. .. .. .. ..$ : int [1:500] 85 260 386 38 408 23 460 343 390 158 ...\n",
      "  .. .. .. .. ..$ : int [1:500] 233 497 394 299 100 11 213 36 168 437 ...\n",
      "  .. .. .. .. ..$ : int [1:500] 362 487 132 304 252 410 324 329 33 150 ...\n",
      "  .. .. .. .. ..$ : int [1:500] 266 430 17 379 41 34 477 242 398 500 ...\n",
      "  .. .. .. ..$ pars_oi    : chr [1:13] \"log_lik\" \"z_actor\" \"z_block\" \"g\" ...\n",
      "  .. .. .. ..$ dims_oi    :List of 13\n",
      "  .. .. .. .. ..$ log_lik    : num 504\n",
      "  .. .. .. .. ..$ z_actor    : num [1:2] 4 7\n",
      "  .. .. .. .. ..$ z_block    : num [1:2] 4 6\n",
      "  .. .. .. .. ..$ g          : num 4\n",
      "  .. .. .. .. ..$ sigma_actor: num 4\n",
      "  .. .. .. .. ..$ L_Rho_actor: num [1:2] 4 4\n",
      "  .. .. .. .. ..$ sigma_block: num 4\n",
      "  .. .. .. .. ..$ L_Rho_block: num [1:2] 4 4\n",
      "  .. .. .. .. ..$ Rho_block  : num [1:2] 4 4\n",
      "  .. .. .. .. ..$ Rho_actor  : num [1:2] 4 4\n",
      "  .. .. .. .. ..$ beta       : num [1:2] 6 4\n",
      "  .. .. .. .. ..$ alpha      : num [1:2] 7 4\n",
      "  .. .. .. .. ..$ lp__       : num(0) \n",
      "  .. .. .. ..$ fnames_oi  : chr [1:685] \"log_lik[1]\" \"log_lik[2]\" \"log_lik[3]\" \"log_lik[4]\" ...\n",
      "  .. .. .. ..$ n_flatnames: int 685\n",
      "  .. .. ..@ inits     :List of 4\n",
      "  .. .. .. ..$ :List of 13\n",
      "  .. .. .. .. ..$ z_actor    : num [1:4, 1:7] 1.279 -1.453 -1.215 -0.107 -0.272 ...\n",
      "  .. .. .. .. ..$ z_block    : num [1:4, 1:6] 0.0805 1.9062 -1.2871 -0.6905 -0.6307 ...\n",
      "  .. .. .. .. ..$ g          : num [1:4(1d)] 0.887 1.553 0.446 -0.488\n",
      "  .. .. .. .. ..$ sigma_actor: num [1:4(1d)] 1.076 1.221 2.936 0.191\n",
      "  .. .. .. .. ..$ L_Rho_actor: num [1:4, 1:4] 1 -0.962 0.802 -0.845 0 ...\n",
      "  .. .. .. .. ..$ sigma_block: num [1:4(1d)] 0.175 1.223 1.182 1.473\n",
      "  .. .. .. .. ..$ L_Rho_block: num [1:4, 1:4] 1 -0.888 0.96 -0.846 0 ...\n",
      "  .. .. .. .. ..$ alpha      : num [1:7, 1:4] 1.376 -0.292 -0.598 1.005 1.815 ...\n",
      "  .. .. .. .. ..$ beta       : num [1:6, 1:4] 0.0141 -0.1102 -0.2522 -0.1091 0.017 ...\n",
      "  .. .. .. .. ..$ log_lik    : num [1:504(1d)] -2.3742 -0.0977 -1.0061 -2.3742 -0.4552 ...\n",
      "  .. .. .. .. ..$ p          : num [1:504(1d)] 0.907 0.907 0.634 0.907 0.634 ...\n",
      "  .. .. .. .. ..$ Rho_actor  : num [1:4, 1:4] 1 -0.962 0.802 -0.845 -0.962 ...\n",
      "  .. .. .. .. ..$ Rho_block  : num [1:4, 1:4] 1 -0.888 0.96 -0.846 -0.888 ...\n",
      "  .. .. .. ..$ :List of 13\n",
      "  .. .. .. .. ..$ z_actor    : num [1:4, 1:7] 1.4035 1.8093 0.0937 -1.579 -0.2643 ...\n",
      "  .. .. .. .. ..$ z_block    : num [1:4, 1:6] 1.7634 0.2668 1.7383 -1.5761 0.0094 ...\n",
      "  .. .. .. .. ..$ g          : num [1:4(1d)] 0.0171 -1.138 0.7034 1.2106\n",
      "  .. .. .. .. ..$ sigma_actor: num [1:4(1d)] 0.268 0.863 6.716 5.102\n",
      "  .. .. .. .. ..$ L_Rho_actor: num [1:4, 1:4] 1 -0.8105 -0.0652 -0.8664 0 ...\n",
      "  .. .. .. .. ..$ sigma_block: num [1:4(1d)] 0.791 2.057 5.619 0.974\n",
      "  .. .. .. .. ..$ L_Rho_block: num [1:4, 1:4] 1 0.903 0.38 -0.114 0 ...\n",
      "  .. .. .. .. ..$ alpha      : num [1:7, 1:4] 0.3761 -0.0708 0.0853 0.0159 0.2417 ...\n",
      "  .. .. .. .. ..$ beta       : num [1:6, 1:4] 1.39494 0.00744 1.19875 0.50082 0.40576 ...\n",
      "  .. .. .. .. ..$ log_lik    : num [1:504(1d)] -1.943 -0.155 -2.401 -1.943 -0.095 ...\n",
      "  .. .. .. .. ..$ p          : num [1:504(1d)] 0.857 0.857 0.909 0.857 0.909 ...\n",
      "  .. .. .. .. ..$ Rho_actor  : num [1:4, 1:4] 1 -0.8105 -0.0652 -0.8664 -0.8105 ...\n",
      "  .. .. .. .. ..$ Rho_block  : num [1:4, 1:4] 1 0.903 0.38 -0.114 0.903 ...\n",
      "  .. .. .. ..$ :List of 13\n",
      "  .. .. .. .. ..$ z_actor    : num [1:4, 1:7] 0.725 0.574 1.506 -0.266 1.332 ...\n",
      "  .. .. .. .. ..$ z_block    : num [1:4, 1:6] 0.835 -0.188 0.791 -1.656 -0.351 ...\n",
      "  .. .. .. .. ..$ g          : num [1:4(1d)] -0.378 -0.519 -0.282 -0.435\n",
      "  .. .. .. .. ..$ sigma_actor: num [1:4(1d)] 0.621 4.034 2.016 3.302\n",
      "  .. .. .. .. ..$ L_Rho_actor: num [1:4, 1:4] 1 0.307 0.39 0.876 0 ...\n",
      "  .. .. .. .. ..$ sigma_block: num [1:4(1d)] 0.408 0.794 3.83 0.723\n",
      "  .. .. .. .. ..$ L_Rho_block: num [1:4, 1:4] 1 0.0639 -0.6578 -0.9396 0 ...\n",
      "  .. .. .. .. ..$ alpha      : num [1:7, 1:4] 0.45 0.827 1.047 -0.95 0.336 ...\n",
      "  .. .. .. .. ..$ beta       : num [1:6, 1:4] 0.341 -0.143 0.32 0.422 -0.231 ...\n",
      "  .. .. .. .. ..$ log_lik    : num [1:504(1d)] -0.9207 -0.5079 -2.5549 -0.9207 -0.0809 ...\n",
      "  .. .. .. .. ..$ p          : num [1:504(1d)] 0.602 0.602 0.922 0.602 0.922 ...\n",
      "  .. .. .. .. ..$ Rho_actor  : num [1:4, 1:4] 1 0.307 0.39 0.876 0.307 ...\n",
      "  .. .. .. .. ..$ Rho_block  : num [1:4, 1:4] 1 0.0639 -0.6578 -0.9396 0.0639 ...\n",
      "  .. .. .. ..$ :List of 13\n",
      "  .. .. .. .. ..$ z_actor    : num [1:4, 1:7] 0.466 1.737 0.736 1.985 0.48 ...\n",
      "  .. .. .. .. ..$ z_block    : num [1:4, 1:6] 0.5767 -0.0737 -0.5323 -0.3897 -1.9204 ...\n",
      "  .. .. .. .. ..$ g          : num [1:4(1d)] 0.445 1.424 1.401 0.404\n",
      "  .. .. .. .. ..$ sigma_actor: num [1:4(1d)] 0.459 0.748 3.958 7.159\n",
      "  .. .. .. .. ..$ L_Rho_actor: num [1:4, 1:4] 1 -0.117 0.346 0.951 0 ...\n",
      "  .. .. .. .. ..$ sigma_block: num [1:4(1d)] 1.235 2.804 0.202 2.574\n",
      "  .. .. .. .. ..$ L_Rho_block: num [1:4, 1:4] 1 0.6254 0.0341 0.847 0 ...\n",
      "  .. .. .. .. ..$ alpha      : num [1:7, 1:4] 0.2141 0.2204 0.0742 -0.587 0.5615 ...\n",
      "  .. .. .. .. ..$ beta       : num [1:6, 1:4] 0.712 -2.372 2.165 0.407 0.856 ...\n",
      "  .. .. .. .. ..$ log_lik    : num [1:504(1d)] -1.597 -0.226 -3.554 -1.597 -0.029 ...\n",
      "  .. .. .. .. ..$ p          : num [1:504(1d)] 0.798 0.798 0.971 0.798 0.971 ...\n",
      "  .. .. .. .. ..$ Rho_actor  : num [1:4, 1:4] 1 -0.117 0.346 0.951 -0.117 ...\n",
      "  .. .. .. .. ..$ Rho_block  : num [1:4, 1:4] 1 0.6254 0.0341 0.847 0.6254 ...\n",
      "  .. .. ..@ stan_args :List of 4\n",
      "  .. .. .. ..$ :List of 10\n",
      "  .. .. .. .. ..$ chain_id          : int 1\n",
      "  .. .. .. .. ..$ iter              : int 1000\n",
      "  .. .. .. .. ..$ thin              : int 1\n",
      "  .. .. .. .. ..$ seed              : int 304168990\n",
      "  .. .. .. .. ..$ warmup            : num 500\n",
      "  .. .. .. .. ..$ init              : chr \"random\"\n",
      "  .. .. .. .. ..$ algorithm         : chr \"NUTS\"\n",
      "  .. .. .. .. ..$ check_unknown_args: logi FALSE\n",
      "  .. .. .. .. ..$ method            : chr \"sampling\"\n",
      "  .. .. .. .. ..$ control           :List of 1\n",
      "  .. .. .. .. .. ..$ adapt_delta: num 0.95\n",
      "  .. .. .. ..$ :List of 10\n",
      "  .. .. .. .. ..$ chain_id          : int 2\n",
      "  .. .. .. .. ..$ iter              : int 1000\n",
      "  .. .. .. .. ..$ thin              : int 1\n",
      "  .. .. .. .. ..$ seed              : int 304168990\n",
      "  .. .. .. .. ..$ warmup            : num 500\n",
      "  .. .. .. .. ..$ init              : chr \"random\"\n",
      "  .. .. .. .. ..$ algorithm         : chr \"NUTS\"\n",
      "  .. .. .. .. ..$ check_unknown_args: logi FALSE\n",
      "  .. .. .. .. ..$ method            : chr \"sampling\"\n",
      "  .. .. .. .. ..$ control           :List of 1\n",
      "  .. .. .. .. .. ..$ adapt_delta: num 0.95\n",
      "  .. .. .. ..$ :List of 10\n",
      "  .. .. .. .. ..$ chain_id          : int 3\n",
      "  .. .. .. .. ..$ iter              : int 1000\n",
      "  .. .. .. .. ..$ thin              : int 1\n",
      "  .. .. .. .. ..$ seed              : int 304168990\n",
      "  .. .. .. .. ..$ warmup            : num 500\n",
      "  .. .. .. .. ..$ init              : chr \"random\"\n",
      "  .. .. .. .. ..$ algorithm         : chr \"NUTS\"\n",
      "  .. .. .. .. ..$ check_unknown_args: logi FALSE\n",
      "  .. .. .. .. ..$ method            : chr \"sampling\"\n",
      "  .. .. .. .. ..$ control           :List of 1\n",
      "  .. .. .. .. .. ..$ adapt_delta: num 0.95\n",
      "  .. .. .. ..$ :List of 10\n",
      "  .. .. .. .. ..$ chain_id          : int 4\n",
      "  .. .. .. .. ..$ iter              : int 1000\n",
      "  .. .. .. .. ..$ thin              : int 1\n",
      "  .. .. .. .. ..$ seed              : int 304168990\n",
      "  .. .. .. .. ..$ warmup            : num 500\n",
      "  .. .. .. .. ..$ init              : chr \"random\"\n",
      "  .. .. .. .. ..$ algorithm         : chr \"NUTS\"\n",
      "  .. .. .. .. ..$ check_unknown_args: logi FALSE\n",
      "  .. .. .. .. ..$ method            : chr \"sampling\"\n",
      "  .. .. .. .. ..$ control           :List of 1\n",
      "  .. .. .. .. .. ..$ adapt_delta: num 0.95\n",
      "  .. .. ..@ stanmodel :Formal class 'stanmodel' [package \"rstan\"] with 5 slots\n",
      "  .. .. .. .. ..@ model_name  : chr \"500908d37fcc91413600b82f49ca033d\"\n",
      "  .. .. .. .. ..@ model_code  : chr \"data{\\n    int L[504];\\n    int block_id[504];\\n    int actor[504];\\n    int tid[504];\\n}\\nparameters{\\n    mat\"| __truncated__\n",
      "  .. .. .. .. .. ..- attr(*, \"model_name2\")= chr \"500908d37fcc91413600b82f49ca033d\"\n",
      "  .. .. .. .. ..@ model_cpp   :List of 2\n",
      "  .. .. .. .. .. ..$ model_cppname: chr \"model90c23bb5a55_500908d37fcc91413600b82f49ca033d\"\n",
      "  .. .. .. .. .. ..$ model_cppcode: chr \"// Code generated by Stan version 2.18.0\\n\\n#include <stan/model/model_header.hpp>\\n\\nnamespace model90c23bb5a5\"| __truncated__\n",
      "  .. .. .. .. ..@ mk_cppmodule:function (object)  \n",
      "  .. .. .. .. ..@ dso         :Formal class 'cxxdso' [package \"rstan\"] with 7 slots\n",
      "  .. .. .. .. .. .. ..@ sig         :List of 1\n",
      "  .. .. .. .. .. .. .. ..$ file90c6f472135: chr(0) \n",
      "  .. .. .. .. .. .. ..@ dso_saved   : logi TRUE\n",
      "  .. .. .. .. .. .. ..@ dso_filename: chr \"file90c6f472135\"\n",
      "  .. .. .. .. .. .. ..@ modulename  : chr \"stan_fit4model90c23bb5a55_500908d37fcc91413600b82f49ca033d_mod\"\n",
      "  .. .. .. .. .. .. ..@ system      : chr \"x86_64, mingw32\"\n",
      "  .. .. .. .. .. .. ..@ cxxflags    : chr \"CXXFLAGS = -O2 -Wall $(DEBUGFLAG) -mtune=core2\"\n",
      "  .. .. .. .. .. .. ..@ .CXXDSOMISC :<environment: 0x0000000034967b60> \n",
      "  .. .. ..@ date      : chr \"Sun Mar 10 04:15:13 2019\"\n",
      "  .. .. ..@ .MISC     :<environment: 0x0000000032a91ea0> \n",
      "  ..@ coef          : Named num [1:180] -0.645 2.313 -0.85 -0.729 -0.641 ...\n",
      "  .. ..- attr(*, \"names\")= chr [1:180] \"z_actor[1,1]\" \"z_actor[1,2]\" \"z_actor[1,3]\" \"z_actor[1,4]\" ...\n",
      "  ..@ vcov          : num [1:180, 1] 0.223 0.531 0.227 0.249 0.208 ...\n",
      "  .. ..- attr(*, \"dimnames\")=List of 2\n",
      "  .. .. ..$ : chr [1:180] \"z_actor[1,1]\" \"z_actor[1,2]\" \"z_actor[1,3]\" \"z_actor[1,4]\" ...\n",
      "  .. .. ..$ : NULL\n",
      "  ..@ data          :List of 4\n",
      "  .. ..$ L       : int [1:504] 0 1 0 0 1 1 0 0 0 0 ...\n",
      "  .. ..$ tid     : int [1:504] 1 1 2 1 2 2 2 2 1 1 ...\n",
      "  .. ..$ actor   : int [1:504] 1 1 1 1 1 1 1 1 1 1 ...\n",
      "  .. ..$ block_id: int [1:504] 1 1 1 1 1 1 2 2 2 2 ...\n",
      "  ..@ start         :List of 1\n",
      "  .. ..$ : list()\n",
      "  ..@ pars          : chr [1:12] \"log_lik\" \"z_actor\" \"z_block\" \"g\" ...\n",
      "  ..@ formula       :List of 13\n",
      "  .. ..$ : language L ~ binomial(1, p)\n",
      "  .. ..$ : language logit(p) <- g[tid] + alpha[actor, tid] + beta[block_id, tid]\n",
      "  .. ..$ : language transpars > matrix[actor, 4]:alpha <- compose_noncentered(sigma_actor,      L_Rho_actor, z_actor)\n",
      "  .. ..$ : language transpars > matrix[block_id, 4]:beta <- compose_noncentered(sigma_block,      L_Rho_block, z_block)\n",
      "  .. ..$ : language matrix[4, actor]:z_actor ~ normal(0, 1)\n",
      "  .. ..$ : language matrix[4, block_id]:z_block ~ normal(0, 1)\n",
      "  .. ..$ : language g[tid] ~ normal(0, 1)\n",
      "  .. ..$ : language vector[4]:sigma_actor ~ dexp(1)\n",
      "  .. ..$ : language cholesky_factor_corr[4]:L_Rho_actor ~ lkj_corr_cholesky(2)\n",
      "  .. ..$ : language vector[4]:sigma_block ~ dexp(1)\n",
      "  .. ..$ : language cholesky_factor_corr[4]:L_Rho_block ~ lkj_corr_cholesky(2)\n",
      "  .. ..$ : language gq > matrix[4, 4]:Rho_actor <<- multiply_lower_tri_self_transpose(L_Rho_actor)\n",
      "  .. ..$ : language gq > matrix[4, 4]:Rho_block <<- multiply_lower_tri_self_transpose(L_Rho_block)\n",
      "  ..@ formula_parsed:List of 7\n",
      "  .. ..$ formula         :List of 13\n",
      "  .. .. ..$ : language L ~ binomial(1, p)\n",
      "  .. .. ..$ : language logit(p) <- g[tid] + alpha[actor, tid] + beta[block_id, tid]\n",
      "  .. .. ..$ : language transpars > matrix[actor, 4]:alpha <- t(diag_pre_multiply(sigma_actor,      L_Rho_actor) * z_actor)\n",
      "  .. .. ..$ : language transpars > matrix[block_id, 4]:beta <- t(diag_pre_multiply(sigma_block,      L_Rho_block) * z_block)\n",
      "  .. .. ..$ : language matrix[4, actor]:z_actor ~ normal(0, 1)\n",
      "  .. .. ..$ : language matrix[4, block_id]:z_block ~ normal(0, 1)\n",
      "  .. .. ..$ : language g[tid] ~ normal(0, 1)\n",
      "  .. .. ..$ : language vector[4]:sigma_actor ~ dexp(1)\n",
      "  .. .. ..$ : language cholesky_factor_corr[4]:L_Rho_actor ~ lkj_corr_cholesky(2)\n",
      "  .. .. ..$ : language vector[4]:sigma_block ~ dexp(1)\n",
      "  .. .. ..$ : language cholesky_factor_corr[4]:L_Rho_block ~ lkj_corr_cholesky(2)\n",
      "  .. .. ..$ : language gq > matrix[4, 4]:Rho_actor <<- multiply_lower_tri_self_transpose(L_Rho_actor)\n",
      "  .. .. ..$ : language gq > matrix[4, 4]:Rho_block <<- multiply_lower_tri_self_transpose(L_Rho_block)\n",
      "  .. ..$ symbols         :List of 16\n",
      "  .. .. ..$ Rho_block  :List of 6\n",
      "  .. .. .. ..$ type         : chr \"local\"\n",
      "  .. .. .. ..$ dims         :List of 3\n",
      "  .. .. .. .. ..$ : chr \"matrix\"\n",
      "  .. .. .. .. ..$ : chr \"4\"\n",
      "  .. .. .. .. ..$ : chr \"4\"\n",
      "  .. .. .. ..$ link         : logi NA\n",
      "  .. .. .. ..$ block        : chr \"gq\"\n",
      "  .. .. .. ..$ right_iparsed: language multiply_lower_tri_self_transpose(L_Rho_block)\n",
      "  .. .. .. ..$ link_N       : num 1\n",
      "  .. .. ..$ Rho_actor  :List of 6\n",
      "  .. .. .. ..$ type         : chr \"local\"\n",
      "  .. .. .. ..$ dims         :List of 3\n",
      "  .. .. .. .. ..$ : chr \"matrix\"\n",
      "  .. .. .. .. ..$ : chr \"4\"\n",
      "  .. .. .. .. ..$ : chr \"4\"\n",
      "  .. .. .. ..$ link         : logi NA\n",
      "  .. .. .. ..$ block        : chr \"gq\"\n",
      "  .. .. .. ..$ right_iparsed: language multiply_lower_tri_self_transpose(L_Rho_actor)\n",
      "  .. .. .. ..$ link_N       : num 1\n",
      "  .. .. ..$ L_Rho_block:List of 3\n",
      "  .. .. .. ..$ type      : chr \"par\"\n",
      "  .. .. .. ..$ dims      :List of 2\n",
      "  .. .. .. .. ..$ : chr \"cholesky_factor_corr\"\n",
      "  .. .. .. .. ..$ : chr \"4\"\n",
      "  .. .. .. ..$ constraint: chr NA\n",
      "  .. .. ..$ sigma_block:List of 3\n",
      "  .. .. .. ..$ type      : chr \"par\"\n",
      "  .. .. .. ..$ dims      :List of 2\n",
      "  .. .. .. .. ..$ : chr \"vector\"\n",
      "  .. .. .. .. ..$ : chr \"4\"\n",
      "  .. .. .. ..$ constraint: chr \"lower=0\"\n",
      "  .. .. ..$ L_Rho_actor:List of 3\n",
      "  .. .. .. ..$ type      : chr \"par\"\n",
      "  .. .. .. ..$ dims      :List of 2\n",
      "  .. .. .. .. ..$ : chr \"cholesky_factor_corr\"\n",
      "  .. .. .. .. ..$ : chr \"4\"\n",
      "  .. .. .. ..$ constraint: chr NA\n",
      "  .. .. ..$ sigma_actor:List of 3\n",
      "  .. .. .. ..$ type      : chr \"par\"\n",
      "  .. .. .. ..$ dims      :List of 2\n",
      "  .. .. .. .. ..$ : chr \"vector\"\n",
      "  .. .. .. .. ..$ : chr \"4\"\n",
      "  .. .. .. ..$ constraint: chr \"lower=0\"\n",
      "  .. .. ..$ g          :List of 3\n",
      "  .. .. .. ..$ type      : chr \"par\"\n",
      "  .. .. .. ..$ dims      : symbol tid\n",
      "  .. .. .. ..$ constraint: chr NA\n",
      "  .. .. ..$ z_block    :List of 3\n",
      "  .. .. .. ..$ type      : chr \"par\"\n",
      "  .. .. .. ..$ dims      :List of 3\n",
      "  .. .. .. .. ..$ : chr \"matrix\"\n",
      "  .. .. .. .. ..$ : chr \"4\"\n",
      "  .. .. .. .. ..$ : chr \"block_id\"\n",
      "  .. .. .. ..$ constraint: chr NA\n",
      "  .. .. ..$ z_actor    :List of 3\n",
      "  .. .. .. ..$ type      : chr \"par\"\n",
      "  .. .. .. ..$ dims      :List of 3\n",
      "  .. .. .. .. ..$ : chr \"matrix\"\n",
      "  .. .. .. .. ..$ : chr \"4\"\n",
      "  .. .. .. .. ..$ : chr \"actor\"\n",
      "  .. .. .. ..$ constraint: chr NA\n",
      "  .. .. ..$ beta       :List of 6\n",
      "  .. .. .. ..$ type         : chr \"local\"\n",
      "  .. .. .. ..$ dims         :List of 3\n",
      "  .. .. .. .. ..$ : chr \"matrix\"\n",
      "  .. .. .. .. ..$ : chr \"block_id\"\n",
      "  .. .. .. .. ..$ : chr \"4\"\n",
      "  .. .. .. ..$ link         : logi NA\n",
      "  .. .. .. ..$ block        : chr \"transpars\"\n",
      "  .. .. .. ..$ right_iparsed: language t(diag_pre_multiply(sigma_block, L_Rho_block) * z_block)\n",
      "  .. .. .. ..$ link_N       : num 1\n",
      "  .. .. ..$ alpha      :List of 6\n",
      "  .. .. .. ..$ type         : chr \"local\"\n",
      "  .. .. .. ..$ dims         :List of 3\n",
      "  .. .. .. .. ..$ : chr \"matrix\"\n",
      "  .. .. .. .. ..$ : chr \"actor\"\n",
      "  .. .. .. .. ..$ : chr \"4\"\n",
      "  .. .. .. ..$ link         : logi NA\n",
      "  .. .. .. ..$ block        : chr \"transpars\"\n",
      "  .. .. .. ..$ right_iparsed: language t(diag_pre_multiply(sigma_actor, L_Rho_actor) * z_actor)\n",
      "  .. .. .. ..$ link_N       : num 1\n",
      "  .. .. ..$ p          :List of 6\n",
      "  .. .. .. ..$ type         : chr \"local\"\n",
      "  .. .. .. ..$ dims         :List of 2\n",
      "  .. .. .. .. ..$ : chr \"vector\"\n",
      "  .. .. .. .. ..$ : int 504\n",
      "  .. .. .. ..$ link         : chr \"logit\"\n",
      "  .. .. .. ..$ block        : chr \"model\"\n",
      "  .. .. .. ..$ right_iparsed: language g[TRUE, tid[i]] + alpha[TRUE, actor[i], tid[i]] + beta[TRUE, block_id[i],      tid[i]]\n",
      "  .. .. .. ..$ link_N       : int 504\n",
      "  .. .. ..$ tid        :List of 4\n",
      "  .. .. .. ..$ name      : chr \"tid\"\n",
      "  .. .. .. ..$ type      : chr \"data\"\n",
      "  .. .. .. ..$ dims      :List of 2\n",
      "  .. .. .. .. ..$ : chr \"int\"\n",
      "  .. .. .. .. ..$ : int 504\n",
      "  .. .. .. ..$ constraint: logi NA\n",
      "  .. .. ..$ actor      :List of 4\n",
      "  .. .. .. ..$ name      : chr \"actor\"\n",
      "  .. .. .. ..$ type      : chr \"data\"\n",
      "  .. .. .. ..$ dims      :List of 2\n",
      "  .. .. .. .. ..$ : chr \"int\"\n",
      "  .. .. .. .. ..$ : int 504\n",
      "  .. .. .. ..$ constraint: logi NA\n",
      "  .. .. ..$ block_id   :List of 4\n",
      "  .. .. .. ..$ name      : chr \"block_id\"\n",
      "  .. .. .. ..$ type      : chr \"data\"\n",
      "  .. .. .. ..$ dims      :List of 2\n",
      "  .. .. .. .. ..$ : chr \"int\"\n",
      "  .. .. .. .. ..$ : int 504\n",
      "  .. .. .. ..$ constraint: logi NA\n",
      "  .. .. ..$ L          :List of 4\n",
      "  .. .. .. ..$ name      : chr \"L\"\n",
      "  .. .. .. ..$ type      : chr \"data\"\n",
      "  .. .. .. ..$ dims      :List of 2\n",
      "  .. .. .. .. ..$ : chr \"int\"\n",
      "  .. .. .. .. ..$ : int 504\n",
      "  .. .. .. ..$ constraint: logi NA\n",
      "  .. ..$ indices         : list()\n",
      "  .. ..$ link_funcs      :List of 1\n",
      "  .. .. ..$ p:List of 4\n",
      "  .. .. .. ..$ func    : language g[TRUE, tid[i]] + alpha[TRUE, actor[i], tid[i]] + beta[TRUE, block_id[i],      tid[i]]\n",
      "  .. .. .. ..$ link    : chr \"logit\"\n",
      "  .. .. .. ..$ inv_link: chr \"inv_logit\"\n",
      "  .. .. .. ..$ N       : int 504\n",
      "  .. ..$ symbol_graph    : num [1:13, 1:13] 0 0 0 0 0 0 0 0 0 0 ...\n",
      "  .. .. ..- attr(*, \"dimnames\")=List of 2\n",
      "  .. .. .. ..$ : chr [1:13] \"L\" \"p\" \"alpha\" \"beta\" ...\n",
      "  .. .. .. ..$ : chr [1:13] \"L\" \"p\" \"alpha\" \"beta\" ...\n",
      "  .. ..$ impute_bank     : list()\n",
      "  .. ..$ marginalize_bank: list()\n"
     ]
    }
   ],
   "source": [
    "m14.3  %>% str"
   ]
  },
  {
   "cell_type": "markdown",
   "metadata": {},
   "source": [
    "## Social relations as correlated varying effects"
   ]
  },
  {
   "cell_type": "code",
   "execution_count": 61,
   "metadata": {},
   "outputs": [],
   "source": [
    "library(rethinking)\n",
    "data(KosterLeckie)"
   ]
  },
  {
   "cell_type": "code",
   "execution_count": null,
   "metadata": {},
   "outputs": [],
   "source": []
  },
  {
   "cell_type": "markdown",
   "metadata": {},
   "source": [
    "## Continous Categories and the Gaussian Process (14.5)"
   ]
  },
  {
   "cell_type": "code",
   "execution_count": 63,
   "metadata": {},
   "outputs": [
    {
     "data": {
      "text/html": [
       "<table>\n",
       "<thead><tr><th></th><th scope=col>Ml</th><th scope=col>Ti</th><th scope=col>SC</th><th scope=col>Ya</th><th scope=col>Fi</th><th scope=col>Tr</th><th scope=col>Ch</th><th scope=col>Mn</th><th scope=col>To</th><th scope=col>Ha</th></tr></thead>\n",
       "<tbody>\n",
       "\t<tr><th scope=row>Malekula</th><td>0.0</td><td>0.5</td><td>0.6</td><td>4.4</td><td>1.2</td><td>2.0</td><td>3.2</td><td>2.8</td><td>1.9</td><td>5.7</td></tr>\n",
       "\t<tr><th scope=row>Tikopia</th><td>0.5</td><td>0.0</td><td>0.3</td><td>4.2</td><td>1.2</td><td>2.0</td><td>2.9</td><td>2.7</td><td>2.0</td><td>5.3</td></tr>\n",
       "\t<tr><th scope=row>Santa Cruz</th><td>0.6</td><td>0.3</td><td>0.0</td><td>3.9</td><td>1.6</td><td>1.7</td><td>2.6</td><td>2.4</td><td>2.3</td><td>5.4</td></tr>\n",
       "\t<tr><th scope=row>Yap</th><td>4.4</td><td>4.2</td><td>3.9</td><td>0.0</td><td>5.4</td><td>2.5</td><td>1.6</td><td>1.6</td><td>6.1</td><td>7.2</td></tr>\n",
       "\t<tr><th scope=row>Lau Fiji</th><td>1.2</td><td>1.2</td><td>1.6</td><td>5.4</td><td>0.0</td><td>3.2</td><td>4.0</td><td>3.9</td><td>0.8</td><td>4.9</td></tr>\n",
       "\t<tr><th scope=row>Trobriand</th><td>2.0</td><td>2.0</td><td>1.7</td><td>2.5</td><td>3.2</td><td>0.0</td><td>1.8</td><td>0.8</td><td>3.9</td><td>6.7</td></tr>\n",
       "\t<tr><th scope=row>Chuuk</th><td>3.2</td><td>2.9</td><td>2.6</td><td>1.6</td><td>4.0</td><td>1.8</td><td>0.0</td><td>1.2</td><td>4.8</td><td>5.8</td></tr>\n",
       "\t<tr><th scope=row>Manus</th><td>2.8</td><td>2.7</td><td>2.4</td><td>1.6</td><td>3.9</td><td>0.8</td><td>1.2</td><td>0.0</td><td>4.6</td><td>6.7</td></tr>\n",
       "\t<tr><th scope=row>Tonga</th><td>1.9</td><td>2.0</td><td>2.3</td><td>6.1</td><td>0.8</td><td>3.9</td><td>4.8</td><td>4.6</td><td>0.0</td><td>5.0</td></tr>\n",
       "\t<tr><th scope=row>Hawaii</th><td>5.7</td><td>5.3</td><td>5.4</td><td>7.2</td><td>4.9</td><td>6.7</td><td>5.8</td><td>6.7</td><td>5.0</td><td>0.0</td></tr>\n",
       "</tbody>\n",
       "</table>\n"
      ],
      "text/latex": [
       "\\begin{tabular}{r|llllllllll}\n",
       "  & Ml & Ti & SC & Ya & Fi & Tr & Ch & Mn & To & Ha\\\\\n",
       "\\hline\n",
       "\tMalekula & 0.0 & 0.5 & 0.6 & 4.4 & 1.2 & 2.0 & 3.2 & 2.8 & 1.9 & 5.7\\\\\n",
       "\tTikopia & 0.5 & 0.0 & 0.3 & 4.2 & 1.2 & 2.0 & 2.9 & 2.7 & 2.0 & 5.3\\\\\n",
       "\tSanta Cruz & 0.6 & 0.3 & 0.0 & 3.9 & 1.6 & 1.7 & 2.6 & 2.4 & 2.3 & 5.4\\\\\n",
       "\tYap & 4.4 & 4.2 & 3.9 & 0.0 & 5.4 & 2.5 & 1.6 & 1.6 & 6.1 & 7.2\\\\\n",
       "\tLau Fiji & 1.2 & 1.2 & 1.6 & 5.4 & 0.0 & 3.2 & 4.0 & 3.9 & 0.8 & 4.9\\\\\n",
       "\tTrobriand & 2.0 & 2.0 & 1.7 & 2.5 & 3.2 & 0.0 & 1.8 & 0.8 & 3.9 & 6.7\\\\\n",
       "\tChuuk & 3.2 & 2.9 & 2.6 & 1.6 & 4.0 & 1.8 & 0.0 & 1.2 & 4.8 & 5.8\\\\\n",
       "\tManus & 2.8 & 2.7 & 2.4 & 1.6 & 3.9 & 0.8 & 1.2 & 0.0 & 4.6 & 6.7\\\\\n",
       "\tTonga & 1.9 & 2.0 & 2.3 & 6.1 & 0.8 & 3.9 & 4.8 & 4.6 & 0.0 & 5.0\\\\\n",
       "\tHawaii & 5.7 & 5.3 & 5.4 & 7.2 & 4.9 & 6.7 & 5.8 & 6.7 & 5.0 & 0.0\\\\\n",
       "\\end{tabular}\n"
      ],
      "text/markdown": [
       "\n",
       "| <!--/--> | Ml | Ti | SC | Ya | Fi | Tr | Ch | Mn | To | Ha |\n",
       "|---|---|---|---|---|---|---|---|---|---|---|\n",
       "| Malekula | 0.0 | 0.5 | 0.6 | 4.4 | 1.2 | 2.0 | 3.2 | 2.8 | 1.9 | 5.7 |\n",
       "| Tikopia | 0.5 | 0.0 | 0.3 | 4.2 | 1.2 | 2.0 | 2.9 | 2.7 | 2.0 | 5.3 |\n",
       "| Santa Cruz | 0.6 | 0.3 | 0.0 | 3.9 | 1.6 | 1.7 | 2.6 | 2.4 | 2.3 | 5.4 |\n",
       "| Yap | 4.4 | 4.2 | 3.9 | 0.0 | 5.4 | 2.5 | 1.6 | 1.6 | 6.1 | 7.2 |\n",
       "| Lau Fiji | 1.2 | 1.2 | 1.6 | 5.4 | 0.0 | 3.2 | 4.0 | 3.9 | 0.8 | 4.9 |\n",
       "| Trobriand | 2.0 | 2.0 | 1.7 | 2.5 | 3.2 | 0.0 | 1.8 | 0.8 | 3.9 | 6.7 |\n",
       "| Chuuk | 3.2 | 2.9 | 2.6 | 1.6 | 4.0 | 1.8 | 0.0 | 1.2 | 4.8 | 5.8 |\n",
       "| Manus | 2.8 | 2.7 | 2.4 | 1.6 | 3.9 | 0.8 | 1.2 | 0.0 | 4.6 | 6.7 |\n",
       "| Tonga | 1.9 | 2.0 | 2.3 | 6.1 | 0.8 | 3.9 | 4.8 | 4.6 | 0.0 | 5.0 |\n",
       "| Hawaii | 5.7 | 5.3 | 5.4 | 7.2 | 4.9 | 6.7 | 5.8 | 6.7 | 5.0 | 0.0 |\n",
       "\n"
      ],
      "text/plain": [
       "           Ml  Ti  SC  Ya  Fi  Tr  Ch  Mn  To  Ha \n",
       "Malekula   0.0 0.5 0.6 4.4 1.2 2.0 3.2 2.8 1.9 5.7\n",
       "Tikopia    0.5 0.0 0.3 4.2 1.2 2.0 2.9 2.7 2.0 5.3\n",
       "Santa Cruz 0.6 0.3 0.0 3.9 1.6 1.7 2.6 2.4 2.3 5.4\n",
       "Yap        4.4 4.2 3.9 0.0 5.4 2.5 1.6 1.6 6.1 7.2\n",
       "Lau Fiji   1.2 1.2 1.6 5.4 0.0 3.2 4.0 3.9 0.8 4.9\n",
       "Trobriand  2.0 2.0 1.7 2.5 3.2 0.0 1.8 0.8 3.9 6.7\n",
       "Chuuk      3.2 2.9 2.6 1.6 4.0 1.8 0.0 1.2 4.8 5.8\n",
       "Manus      2.8 2.7 2.4 1.6 3.9 0.8 1.2 0.0 4.6 6.7\n",
       "Tonga      1.9 2.0 2.3 6.1 0.8 3.9 4.8 4.6 0.0 5.0\n",
       "Hawaii     5.7 5.3 5.4 7.2 4.9 6.7 5.8 6.7 5.0 0.0"
      ]
     },
     "metadata": {},
     "output_type": "display_data"
    }
   ],
   "source": [
    "## R code 14.36\n",
    "# load the distance matrix\n",
    "library(rethinking)\n",
    "data(islandsDistMatrix)\n",
    "\n",
    "# display (measured in thousands of km)\n",
    "Dmat <- islandsDistMatrix\n",
    "colnames(Dmat) <- c(\"Ml\",\"Ti\",\"SC\",\"Ya\",\"Fi\",\"Tr\",\"Ch\",\"Mn\",\"To\",\"Ha\")\n",
    "round(Dmat,1)"
   ]
  },
  {
   "cell_type": "code",
   "execution_count": 66,
   "metadata": {},
   "outputs": [
    {
     "data": {
      "text/html": [
       "<table>\n",
       "<thead><tr><th></th><th scope=col>Ml</th><th scope=col>Ti</th><th scope=col>SC</th><th scope=col>Ya</th><th scope=col>Fi</th><th scope=col>Tr</th><th scope=col>Ch</th><th scope=col>Mn</th><th scope=col>To</th><th scope=col>Ha</th></tr></thead>\n",
       "<tbody>\n",
       "\t<tr><th scope=row>Malekula</th><td>0.00</td><td>0.48</td><td>0.63</td><td>4.36</td><td>1.23</td><td>2.04</td><td>3.18</td><td>2.79</td><td>1.86</td><td>5.68</td></tr>\n",
       "\t<tr><th scope=row>Tikopia</th><td>0.48</td><td>0.00</td><td>0.32</td><td>4.17</td><td>1.24</td><td>2.01</td><td>2.88</td><td>2.67</td><td>1.97</td><td>5.28</td></tr>\n",
       "\t<tr><th scope=row>Santa Cruz</th><td>0.63</td><td>0.32</td><td>0.00</td><td>3.86</td><td>1.55</td><td>1.71</td><td>2.59</td><td>2.36</td><td>2.28</td><td>5.40</td></tr>\n",
       "\t<tr><th scope=row>Yap</th><td>4.36</td><td>4.17</td><td>3.86</td><td>0.00</td><td>5.39</td><td>2.46</td><td>1.55</td><td>1.62</td><td>6.14</td><td>7.18</td></tr>\n",
       "\t<tr><th scope=row>Lau Fiji</th><td>1.23</td><td>1.24</td><td>1.55</td><td>5.39</td><td>0.00</td><td>3.22</td><td>4.03</td><td>3.91</td><td>0.76</td><td>4.88</td></tr>\n",
       "\t<tr><th scope=row>Trobriand</th><td>2.04</td><td>2.01</td><td>1.71</td><td>2.46</td><td>3.22</td><td>0.00</td><td>1.80</td><td>0.85</td><td>3.89</td><td>6.65</td></tr>\n",
       "\t<tr><th scope=row>Chuuk</th><td>3.18</td><td>2.88</td><td>2.59</td><td>1.55</td><td>4.03</td><td>1.80</td><td>0.00</td><td>1.21</td><td>4.79</td><td>5.79</td></tr>\n",
       "\t<tr><th scope=row>Manus</th><td>2.79</td><td>2.67</td><td>2.36</td><td>1.62</td><td>3.91</td><td>0.85</td><td>1.21</td><td>0.00</td><td>4.62</td><td>6.72</td></tr>\n",
       "\t<tr><th scope=row>Tonga</th><td>1.86</td><td>1.97</td><td>2.28</td><td>6.14</td><td>0.76</td><td>3.89</td><td>4.79</td><td>4.62</td><td>0.00</td><td>5.04</td></tr>\n",
       "\t<tr><th scope=row>Hawaii</th><td>5.68</td><td>5.28</td><td>5.40</td><td>7.18</td><td>4.88</td><td>6.65</td><td>5.79</td><td>6.72</td><td>5.04</td><td>0.00</td></tr>\n",
       "</tbody>\n",
       "</table>\n"
      ],
      "text/latex": [
       "\\begin{tabular}{r|llllllllll}\n",
       "  & Ml & Ti & SC & Ya & Fi & Tr & Ch & Mn & To & Ha\\\\\n",
       "\\hline\n",
       "\tMalekula & 0.00 & 0.48 & 0.63 & 4.36 & 1.23 & 2.04 & 3.18 & 2.79 & 1.86 & 5.68\\\\\n",
       "\tTikopia & 0.48 & 0.00 & 0.32 & 4.17 & 1.24 & 2.01 & 2.88 & 2.67 & 1.97 & 5.28\\\\\n",
       "\tSanta Cruz & 0.63 & 0.32 & 0.00 & 3.86 & 1.55 & 1.71 & 2.59 & 2.36 & 2.28 & 5.40\\\\\n",
       "\tYap & 4.36 & 4.17 & 3.86 & 0.00 & 5.39 & 2.46 & 1.55 & 1.62 & 6.14 & 7.18\\\\\n",
       "\tLau Fiji & 1.23 & 1.24 & 1.55 & 5.39 & 0.00 & 3.22 & 4.03 & 3.91 & 0.76 & 4.88\\\\\n",
       "\tTrobriand & 2.04 & 2.01 & 1.71 & 2.46 & 3.22 & 0.00 & 1.80 & 0.85 & 3.89 & 6.65\\\\\n",
       "\tChuuk & 3.18 & 2.88 & 2.59 & 1.55 & 4.03 & 1.80 & 0.00 & 1.21 & 4.79 & 5.79\\\\\n",
       "\tManus & 2.79 & 2.67 & 2.36 & 1.62 & 3.91 & 0.85 & 1.21 & 0.00 & 4.62 & 6.72\\\\\n",
       "\tTonga & 1.86 & 1.97 & 2.28 & 6.14 & 0.76 & 3.89 & 4.79 & 4.62 & 0.00 & 5.04\\\\\n",
       "\tHawaii & 5.68 & 5.28 & 5.40 & 7.18 & 4.88 & 6.65 & 5.79 & 6.72 & 5.04 & 0.00\\\\\n",
       "\\end{tabular}\n"
      ],
      "text/markdown": [
       "\n",
       "| <!--/--> | Ml | Ti | SC | Ya | Fi | Tr | Ch | Mn | To | Ha |\n",
       "|---|---|---|---|---|---|---|---|---|---|---|\n",
       "| Malekula | 0.00 | 0.48 | 0.63 | 4.36 | 1.23 | 2.04 | 3.18 | 2.79 | 1.86 | 5.68 |\n",
       "| Tikopia | 0.48 | 0.00 | 0.32 | 4.17 | 1.24 | 2.01 | 2.88 | 2.67 | 1.97 | 5.28 |\n",
       "| Santa Cruz | 0.63 | 0.32 | 0.00 | 3.86 | 1.55 | 1.71 | 2.59 | 2.36 | 2.28 | 5.40 |\n",
       "| Yap | 4.36 | 4.17 | 3.86 | 0.00 | 5.39 | 2.46 | 1.55 | 1.62 | 6.14 | 7.18 |\n",
       "| Lau Fiji | 1.23 | 1.24 | 1.55 | 5.39 | 0.00 | 3.22 | 4.03 | 3.91 | 0.76 | 4.88 |\n",
       "| Trobriand | 2.04 | 2.01 | 1.71 | 2.46 | 3.22 | 0.00 | 1.80 | 0.85 | 3.89 | 6.65 |\n",
       "| Chuuk | 3.18 | 2.88 | 2.59 | 1.55 | 4.03 | 1.80 | 0.00 | 1.21 | 4.79 | 5.79 |\n",
       "| Manus | 2.79 | 2.67 | 2.36 | 1.62 | 3.91 | 0.85 | 1.21 | 0.00 | 4.62 | 6.72 |\n",
       "| Tonga | 1.86 | 1.97 | 2.28 | 6.14 | 0.76 | 3.89 | 4.79 | 4.62 | 0.00 | 5.04 |\n",
       "| Hawaii | 5.68 | 5.28 | 5.40 | 7.18 | 4.88 | 6.65 | 5.79 | 6.72 | 5.04 | 0.00 |\n",
       "\n"
      ],
      "text/plain": [
       "           Ml   Ti   SC   Ya   Fi   Tr   Ch   Mn   To   Ha  \n",
       "Malekula   0.00 0.48 0.63 4.36 1.23 2.04 3.18 2.79 1.86 5.68\n",
       "Tikopia    0.48 0.00 0.32 4.17 1.24 2.01 2.88 2.67 1.97 5.28\n",
       "Santa Cruz 0.63 0.32 0.00 3.86 1.55 1.71 2.59 2.36 2.28 5.40\n",
       "Yap        4.36 4.17 3.86 0.00 5.39 2.46 1.55 1.62 6.14 7.18\n",
       "Lau Fiji   1.23 1.24 1.55 5.39 0.00 3.22 4.03 3.91 0.76 4.88\n",
       "Trobriand  2.04 2.01 1.71 2.46 3.22 0.00 1.80 0.85 3.89 6.65\n",
       "Chuuk      3.18 2.88 2.59 1.55 4.03 1.80 0.00 1.21 4.79 5.79\n",
       "Manus      2.79 2.67 2.36 1.62 3.91 0.85 1.21 0.00 4.62 6.72\n",
       "Tonga      1.86 1.97 2.28 6.14 0.76 3.89 4.79 4.62 0.00 5.04\n",
       "Hawaii     5.68 5.28 5.40 7.18 4.88 6.65 5.79 6.72 5.04 0.00"
      ]
     },
     "metadata": {},
     "output_type": "display_data"
    }
   ],
   "source": [
    "Dmat %>% round(2)"
   ]
  },
  {
   "cell_type": "code",
   "execution_count": 40,
   "metadata": {
    "cell_style": "split"
   },
   "outputs": [
    {
     "data": {
      "image/png": "[encoded data removed]",
      "text/plain": [
       "plot without title"
      ]
     },
     "metadata": {},
     "output_type": "display_data"
    }
   ],
   "source": [
    "## R code 14.37\n",
    "# linear\n",
    "curve( exp(-1*x) , from=0 , to=4 , lty=2 ,\n",
    "    xlab=\"distance\" , ylab=\"correlation\" )\n",
    "\n",
    "# squared\n",
    "curve( exp(-1*x^2) , add=TRUE )"
   ]
  },
  {
   "cell_type": "code",
   "execution_count": 37,
   "metadata": {},
   "outputs": [],
   "source": [
    "## R code 14.38\n",
    "data(Kline2) # load the ordinary data, now with coordinates\n",
    "d <- Kline2\n",
    "d$society <- 1:10 # index observations"
   ]
  },
  {
   "cell_type": "code",
   "execution_count": 41,
   "metadata": {},
   "outputs": [],
   "source": [
    "dat_list <- list(\n",
    "    T = d$total_tools,\n",
    "    P = d$population,\n",
    "    society = d$society,\n",
    "    Dmat=islandsDistMatrix )"
   ]
  },
  {
   "cell_type": "code",
   "execution_count": 42,
   "metadata": {},
   "outputs": [],
   "source": [
    "m14.7 <- ulam(\n",
    "    alist(\n",
    "        T ~ dpois(lambda),\n",
    "        lambda <- (a*P^b/g)*exp(k[society]),\n",
    "        vector[10]:k ~ multi_normal( 0 , SIGMA ),\n",
    "        matrix[10,10]:SIGMA <- cov_GPL2( Dmat , etasq , rhosq , 0.01 ),\n",
    "        c(a,b,g) ~ dexp( 1 ),\n",
    "        etasq ~ dexp( 2 ),\n",
    "        rhosq ~ dexp( 0.5 )\n",
    "    ), data=dat_list , chains=4 , cores=4 , iter=2000 )"
   ]
  },
  {
   "cell_type": "code",
   "execution_count": 43,
   "metadata": {},
   "outputs": [],
   "source": [
    "## R code 14.45\n",
    "m14.7nc <- ulam(\n",
    "    alist(\n",
    "        T ~ dpois(lambda),\n",
    "        lambda <- (a*P^b/g)*exp(k[society]),\n",
    "\n",
    "        # non-centered Gaussian Process prior\n",
    "        transpars> vector[10]: k <<- L_SIGMA * z,\n",
    "        vector[10]: z ~ normal( 0 , 1 ),\n",
    "        transpars> matrix[10,10]: L_SIGMA <<- cholesky_decompose( SIGMA ),\n",
    "        transpars> matrix[10,10]: SIGMA <- cov_GPL2( Dmat , etasq , rhosq , 0.01 ),\n",
    "\n",
    "        c(a,b,g) ~ dexp( 1 ),\n",
    "        etasq ~ dexp( 2 ),\n",
    "        rhosq ~ dexp( 0.5 )\n",
    "    ), data=dat_list , chains=4 , cores=4 , iter=2000 )"
   ]
  },
  {
   "cell_type": "code",
   "execution_count": null,
   "metadata": {},
   "outputs": [],
   "source": [
    "## R code 14.39\n",
    "precis( m14.7 , depth=3 )\n",
    "\n",
    "## R code 14.40\n",
    "post <- extract.samples(m14.7)\n",
    "\n",
    "# plot the posterior median covariance function\n",
    "plot( NULL , xlab=\"distance (thousand km)\" , ylab=\"covariance\" ,\n",
    "    xlim=c(0,10) , ylim=c(0,2) )\n",
    "\n",
    "# compute posterior mean covariance\n",
    "x_seq <- seq( from=0 , to=10 , length.out=100 )\n",
    "pmcov <- sapply( x_seq , function(x) post$etasq*exp(-post$rhosq*x^2) )\n",
    "pmcov_mu <- apply( pmcov , 2 , mean )\n",
    "lines( x_seq , pmcov_mu , lwd=2 )\n",
    "\n",
    "# plot 60 functions sampled from posterior\n",
    "for ( i in 1:50 )\n",
    "    curve( post$etasq[i]*exp(-post$rhosq[i]*x^2) , add=TRUE ,\n",
    "        col=col.alpha(\"black\",0.3) )\n",
    "\n",
    "## R code 14.41\n",
    "# compute posterior median covariance among societies\n",
    "K <- matrix(0,nrow=10,ncol=10)\n",
    "for ( i in 1:10 )\n",
    "    for ( j in 1:10 )\n",
    "        K[i,j] <- median(post$etasq) *\n",
    "                  exp( -median(post$rhosq) * islandsDistMatrix[i,j]^2 )\n",
    "diag(K) <- median(post$etasq) + 0.01\n",
    "\n",
    "## R code 14.42\n",
    "# convert to correlation matrix\n",
    "Rho <- round( cov2cor(K) , 2 )\n",
    "# add row/col names for convenience\n",
    "colnames(Rho) <- c(\"Ml\",\"Ti\",\"SC\",\"Ya\",\"Fi\",\"Tr\",\"Ch\",\"Mn\",\"To\",\"Ha\")\n",
    "rownames(Rho) <- colnames(Rho)\n",
    "Rho\n",
    "\n",
    "## R code 14.43\n",
    "# scale point size to logpop\n",
    "psize <- d$logpop / max(d$logpop)\n",
    "psize <- exp(psize*1.5)-2\n",
    "\n",
    "# plot raw data and labels\n",
    "plot( d$lon2 , d$lat , xlab=\"longitude\" , ylab=\"latitude\" ,\n",
    "    col=rangi2 , cex=psize , pch=16 , xlim=c(-50,30) )\n",
    "labels <- as.character(d$culture)\n",
    "text( d$lon2 , d$lat , labels=labels , cex=0.7 , pos=c(2,4,3,3,4,1,3,2,4,2) )\n",
    "\n",
    "# overlay lines shaded by Rho\n",
    "for( i in 1:10 )\n",
    "    for ( j in 1:10 )\n",
    "        if ( i < j )\n",
    "            lines( c( d$lon2[i],d$lon2[j] ) , c( d$lat[i],d$lat[j] ) ,\n",
    "                lwd=2 , col=col.alpha(\"black\",Rho[i,j]^2) )\n",
    "\n",
    "## R code 14.44\n",
    "# compute posterior median relationship, ignoring distance\n",
    "logpop.seq <- seq( from=6 , to=14 , length.out=30 )\n",
    "lambda <- sapply( logpop.seq , function(lp) exp( post$a + post$bp*lp ) )\n",
    "lambda.median <- apply( lambda , 2 , median )\n",
    "lambda.PI80 <- apply( lambda , 2 , PI , prob=0.8 )\n",
    "\n",
    "# plot raw data and labels\n",
    "plot( d$logpop , d$total_tools , col=rangi2 , cex=psize , pch=16 ,\n",
    "    xlab=\"log population\" , ylab=\"total tools\" )\n",
    "text( d$logpop , d$total_tools , labels=labels , cex=0.7 ,\n",
    "    pos=c(4,3,4,2,2,1,4,4,4,2) )\n",
    "\n",
    "# display posterior predictions\n",
    "lines( logpop.seq , lambda.median , lty=2 )\n",
    "lines( logpop.seq , lambda.PI80[1,] , lty=2 )\n",
    "lines( logpop.seq , lambda.PI80[2,] , lty=2 )\n",
    "\n",
    "# overlay correlations\n",
    "for( i in 1:10 )\n",
    "    for ( j in 1:10 )\n",
    "        if ( i < j )\n",
    "            lines( c( d$logpop[i],d$logpop[j] ) ,\n",
    "                   c( d$total_tools[i],d$total_tools[j] ) ,\n",
    "                   lwd=2 , col=col.alpha(\"black\",Rho[i,j]^2) )"
   ]
  },
  {
   "cell_type": "markdown",
   "metadata": {},
   "source": [
    "# Misc"
   ]
  },
  {
   "cell_type": "markdown",
   "metadata": {},
   "source": [
    "## rlkjcorr"
   ]
  },
  {
   "cell_type": "code",
   "execution_count": 34,
   "metadata": {
    "cell_style": "center",
    "collapsed": true
   },
   "outputs": [
    {
     "data": {
      "text/html": [
       "0.998573471907431"
      ],
      "text/latex": [
       "0.998573471907431"
      ],
      "text/markdown": [
       "0.998573471907431"
      ],
      "text/plain": [
       "[1] 0.9985735"
      ]
     },
     "metadata": {},
     "output_type": "display_data"
    },
    {
     "data": {
      "image/png": "[encoded data removed]",
      "text/plain": [
       "Plot with title \"\""
      ]
     },
     "metadata": {},
     "output_type": "display_data"
    },
    {
     "data": {
      "image/png": "[encoded data removed]",
      "text/plain": [
       "plot without title"
      ]
     },
     "metadata": {},
     "output_type": "display_data"
    }
   ],
   "source": [
    "R <- rlkjcorr(n=1,K=2,eta=4)\n",
    "dlkjcorr(R,4)\n",
    "\n",
    "# plot density of correlation\n",
    "R <- rlkjcorr(1e4,K=2,eta=4)\n",
    "dens( R[,1,2] )\n",
    "\n",
    "# visualize 3x3 matrix\n",
    "R <- rlkjcorr(1e3,K=3,eta=2)\n",
    "plot( R[,1,2] , R[,1,3] , col=col.alpha(\"black\",0.2) , pch=16 )"
   ]
  },
  {
   "cell_type": "code",
   "execution_count": 2,
   "metadata": {},
   "outputs": [
    {
     "data": {
      "text/html": [
       "<table>\n",
       "<tbody>\n",
       "\t<tr><td>1</td><td>3</td></tr>\n",
       "\t<tr><td>2</td><td>4</td></tr>\n",
       "</tbody>\n",
       "</table>\n"
      ],
      "text/latex": [
       "\\begin{tabular}{ll}\n",
       "\t 1 & 3\\\\\n",
       "\t 2 & 4\\\\\n",
       "\\end{tabular}\n"
      ],
      "text/markdown": [
       "\n",
       "| 1 | 3 |\n",
       "| 2 | 4 |\n",
       "\n"
      ],
      "text/plain": [
       "     [,1] [,2]\n",
       "[1,] 1    3   \n",
       "[2,] 2    4   "
      ]
     },
     "metadata": {},
     "output_type": "display_data"
    },
    {
     "name": "stderr",
     "output_type": "stream",
     "text": [
      "Warning message:\n",
      "\"package 'MASS' was built under R version 3.5.2\"\n",
      "Attaching package: 'MASS'\n",
      "\n",
      "The following object is masked from 'package:dplyr':\n",
      "\n",
      "    select\n",
      "\n"
     ]
    },
    {
     "ename": "ERROR",
     "evalue": "Error in symbols[[left[1]]]$dims[[1]]: object of type 'symbol' is not subsettable\n",
     "output_type": "error",
     "traceback": [
      "Error in symbols[[left[1]]]$dims[[1]]: object of type 'symbol' is not subsettable\nTraceback:\n",
      "1. ulam(alist(wait ~ normal(mu, sigma), mu <- a_cafe[cafe] + b_cafe[cafe] * \n .     afternoon, c(a_cafe, b_cafe)[cafe] ~ multi_normal(c(a, b), \n .     Rho, sigma_cafe), a ~ normal(5, 2), b ~ normal(-1, 0.5), \n .     sigma_cafe ~ exponential(1), sigma ~ exponential(1), Rho ~ \n .         lkj_corr(2)), data = d, chains = 4, cores = 4)",
      "2. compose_distibution(left_symbol, flist[[i]])",
      "3. do.call(build_func, list(left, fline[[3]], as_log_lik = as_log_lik), \n .     quote = TRUE)",
      "4. (function (left, right, as_log_lik = FALSE) \n . {\n .     flag_data_outcome <- FALSE\n .     if (left[1] %in% names(data)) \n .         flag_data_outcome <- TRUE\n .     n_vars <- length(left)\n .     n_cases <- 1\n .     if (n_vars > 1) {\n .         if (!is.null(attr(left, \"dims\"))) {\n .             n_cases <- length(unique(data[[as.character(attr(left, \n .                 \"dims\"))]]))\n .         }\n .         else {\n .             the_dims <- symbols[[left[1]]]$dims\n .             n_cases <- as.numeric(the_dims[[2]])\n .         }\n .     }\n .     SIGMA <- as.character(right[[3]])\n .     if (length(right) == 4) {\n .         SIGMA <- concat(\"quad_form_diag(\", as.character(right[[3]]), \n .             \" , \", as.character(right[[4]]), \")\")\n .     }\n .     MU <- as.character(right[[2]])\n .     if (class(right[[2]]) == \"call\") {\n .         if (as.character(right[[2]][[1]]) %in% c(\"c\", \"cbind\")) {\n .             MU <- MU[-1]\n .             n_vars <- length(MU)\n .         }\n .         else {\n .             stop(concat(\"Something unexpected: \", deparse(right)))\n .         }\n .     }\n .     if (n_vars == 1) {\n .         if (!is.null(attr(left, \"dims\"))) {\n .             dims <- attr(left, \"dims\")\n .             if (dims[[1]] == \"vector\") \n .                 n_vars <- dims[[2]]\n .             if (length(dims) == 3) {\n .                 n_cases <- length(unique(data[[as.character(dims[[3]])]]))\n .             }\n .         }\n .     }\n .     if (length(right) == 4) {\n .         Rho_name <- as.character(right[[3]])\n .         sigma_name <- as.character(right[[4]])\n .         if (!is.null(symbols[[Rho_name]])) {\n .             dims <- symbols[[Rho_name]]$dims\n .             if (!is.null(dims)) {\n .                 if (class(dims) == \"character\" || length(dims) == \n .                   1) {\n .                   new_symbols <- symbols\n .                   new_symbols[[Rho_name]]$dims <- list(\"corr_matrix\", \n .                     n_vars)\n .                   assign(\"symbols\", new_symbols, inherits = TRUE)\n .                 }\n .             }\n .             else {\n .                 new_symbols <- symbols\n .                 new_symbols[[Rho_name]]$dims <- list(\"corr_matrix\", \n .                   n_vars)\n .                 assign(\"symbols\", new_symbols, inherits = TRUE)\n .             }\n .         }\n .         if (!is.null(symbols[[sigma_name]])) {\n .             dims <- symbols[[sigma_name]]$dims\n .             if (!is.null(dims)) {\n .                 if (class(dims) == \"character\" || length(dims) == \n .                   1) {\n .                   new_symbols <- symbols\n .                   new_symbols[[sigma_name]]$dims <- list(\"vector\", \n .                     n_vars)\n .                   assign(\"symbols\", new_symbols, inherits = TRUE)\n .                 }\n .             }\n .             else {\n .                 new_symbols <- symbols\n .                 new_symbols[[sigma_name]]$dims <- list(\"vector\", \n .                   n_vars)\n .                 assign(\"symbols\", new_symbols, inherits = TRUE)\n .             }\n .         }\n .     }\n .     else {\n .         SIGMA_name <- as.character(right[[3]])\n .         if (!is.null(symbols[[SIGMA_name]])) {\n .             dims <- symbols[[SIGMA_name]]$dims\n .             if (!is.null(dims)) {\n .                 if (class(dims) == \"character\" || length(dims) == \n .                   1) {\n .                   new_symbols <- symbols\n .                   new_symbols[[SIGMA_name]]$dims <- list(\"cov_matrix\", \n .                     n_vars)\n .                   assign(\"symbols\", new_symbols, inherits = TRUE)\n .                 }\n .             }\n .             else {\n .                 new_symbols <- symbols\n .                 new_symbols[[SIGMA_name]]$dims <- list(\"cov_matrix\", \n .                   n_vars)\n .                 assign(\"symbols\", new_symbols, inherits = TRUE)\n .             }\n .         }\n .     }\n .     if (length(MU) == 1) \n .         if (MU == \"0\") {\n .             MU <- concat(\"rep_vector(0,\", n_vars, \")\")\n .         }\n .     out <- \"\"\n .     indent <- \"    \"\n .     if (length(MU) > 1 || length(left) > 1) {\n .         out <- concat(out, indent, \"{\\n\")\n .     }\n .     if (length(left) > 1) {\n .         out <- concat(out, indent, \"vector[\", n_vars, \"] YY\")\n .         if (n_cases > 1) \n .             out <- concat(out, \"[\", n_cases, \"];\\n\")\n .         else out <- concat(out, \";\\n\")\n .     }\n .     if (length(MU) > 1) {\n .         vlen <- 1\n .         vdims <- symbols[[MU[1]]]$dims\n .         if (class(vdims) == \"list\") {\n .             vlen <- vdims[[2]]\n .             if (vlen != n_cases) \n .                 warning(\"multi_normal mean vector has length > 1 but not same length as outcome\")\n .         }\n .         out <- concat(out, indent, \"vector[\", n_vars, \"] MU\")\n .         if (vlen > 1) \n .             out <- concat(out, \"[\", vlen, \"];\\n\")\n .         else out <- concat(out, \";\\n\")\n .         vsuf <- \"\"\n .         if (vlen == 1) \n .             out <- concat(out, indent, \"MU = [ \")\n .         else {\n .             out <- concat(out, indent, \"for ( j in 1:\", vlen, \n .                 \" ) \")\n .             out <- concat(out, \"MU[j] = [ \")\n .             vsuf <- \"[j]\"\n .         }\n .         for (j in 1:length(MU)) {\n .             out <- concat(out, MU[j], vsuf)\n .             if (j < length(MU)) \n .                 out <- concat(out, \" , \")\n .         }\n .         out <- concat(out, \" ]';\\n\")\n .     }\n .     if (length(left) > 1 && n_cases > 1) {\n .         out <- concat(out, indent, \"for ( j in 1:\", n_cases, \n .             \" ) \")\n .         out <- concat(out, \"YY[j] = [ \")\n .         for (j in 1:n_vars) {\n .             out <- concat(out, left[j], \"[j]\")\n .             if (j < n_vars) \n .                 out <- concat(out, \" , \")\n .         }\n .         out <- concat(out, \" ]';\\n\")\n .     }\n .     out_var <- \"YY\"\n .     if (length(left) == 1) \n .         out_var <- left[1]\n .     if (flag_data_outcome == TRUE || symbols[[left[1]]]$dims[[1]] == \n .         \"matrix\") {\n .         if (symbols[[left[1]]]$dims[[1]] == \"matrix\") {\n .             N_out <- symbols[[left[1]]]$dims[[2]]\n .             out_var <- concat(\"for ( i in 1:\", N_out, \" ) \", \n .                 out_var, \"[i,:]\")\n .         }\n .     }\n .     MU_var <- \"MU\"\n .     if (length(MU) == 1) \n .         MU_var <- MU[1]\n .     if (as_log_lik == FALSE) {\n .         out <- concat(out, indent, out_var, \" ~ multi_normal( \", \n .             MU_var, \" , \", SIGMA, \" );\\n\")\n .     }\n .     else {\n .         out <- concat(out, indent, \"log_lik = multi_normal_lpdf( \", \n .             out_var, \" | \", MU_var, \" , \", SIGMA, \" );\\n\")\n .     }\n .     if (length(MU) > 1 || length(left) > 1) {\n .         out <- concat(out, indent, \"}\\n\")\n .     }\n .     return(out)\n . })(quote(structure(c(\"a_cafe\", \"b_cafe\"), dims = cafe)), quote(multi_normal(c(a, \n .     b), Rho, sigma_cafe)), as_log_lik = quote(FALSE))"
     ]
    },
    {
     "data": {
      "image/png": "[encoded data removed]",
      "text/plain": [
       "Plot with title \"\""
      ]
     },
     "metadata": {},
     "output_type": "display_data"
    }
   ],
   "source": [
    "## R code 14.1\n",
    "a <- 3.5            # average morning wait time\n",
    "b <- (-1)           # average difference afternoon wait time\n",
    "sigma_a <- 1        # std dev in intercepts\n",
    "sigma_b <- 0.5      # std dev in slopes\n",
    "rho <- (-0.7)       # correlation between intercepts and slopes\n",
    "\n",
    "## R code 14.2\n",
    "Mu <- c( a , b )\n",
    "\n",
    "## R code 14.3\n",
    "cov_ab <- sigma_a*sigma_b*rho\n",
    "Sigma <- matrix( c(sigma_a^2,cov_ab,cov_ab,sigma_b^2) , ncol=2 )\n",
    "\n",
    "## R code 14.4\n",
    "matrix( c(1,2,3,4) , nrow=2 , ncol=2 )\n",
    "\n",
    "## R code 14.5\n",
    "sigmas <- c(sigma_a,sigma_b) # standard deviations\n",
    "Rho <- matrix( c(1,rho,rho,1) , nrow=2 ) # correlation matrix\n",
    "\n",
    "# now matrix multiply to get covariance matrix\n",
    "Sigma <- diag(sigmas) %*% Rho %*% diag(sigmas)\n",
    "\n",
    "## R code 14.6\n",
    "N_cafes <- 20\n",
    "\n",
    "## R code 14.7\n",
    "library(MASS)\n",
    "set.seed(5) # used to replicate example\n",
    "vary_effects <- mvrnorm( N_cafes , Mu , Sigma )\n",
    "\n",
    "## R code 14.8\n",
    "a_cafe <- vary_effects[,1]\n",
    "b_cafe <- vary_effects[,2]\n",
    "\n",
    "## R code 14.10\n",
    "set.seed(22)\n",
    "N_visits <- 10\n",
    "afternoon <- rep(0:1,N_visits*N_cafes/2)\n",
    "cafe_id <- rep( 1:N_cafes , each=N_visits )\n",
    "mu <- a_cafe[cafe_id] + b_cafe[cafe_id]*afternoon\n",
    "sigma <- 0.5  # std dev within cafes\n",
    "wait <- rnorm( N_visits*N_cafes , mu , sigma )\n",
    "d <- data.frame( cafe=cafe_id , afternoon=afternoon , wait=wait )\n",
    "\n",
    "## R code 14.11\n",
    "R <- rlkjcorr( 1e4 , K=2 , eta=2 )\n",
    "dens( R[,1,2] , xlab=\"correlation\" )\n",
    "\n",
    "## R code 14.12\n",
    "m14.1 <- ulam(\n",
    "  alist(\n",
    "    wait ~ normal( mu , sigma ),\n",
    "    mu <- a_cafe[cafe] + b_cafe[cafe]*afternoon,\n",
    "    c(a_cafe,b_cafe)[cafe] ~ multi_normal( c(a,b) , Rho , sigma_cafe ),\n",
    "    a ~ normal(5,2),\n",
    "    b ~ normal(-1,0.5),\n",
    "    sigma_cafe ~ exponential(1),\n",
    "    sigma ~ exponential(1),\n",
    "    Rho ~ lkj_corr(2)\n",
    "  ) , data=d , chains=4 , cores=4 )"
   ]
  },
  {
   "cell_type": "code",
   "execution_count": null,
   "metadata": {},
   "outputs": [],
   "source": []
  }
 ],
 "metadata": {
  "hide_input": false,
  "kernelspec": {
   "display_name": "R",
   "language": "R",
   "name": "ir"
  },
  "language_info": {
   "codemirror_mode": "r",
   "file_extension": ".r",
   "mimetype": "text/x-r-source",
   "name": "R",
   "pygments_lexer": "r",
   "version": "3.5.1"
  },
  "latex_envs": {
   "LaTeX_envs_menu_present": true,
   "autoclose": true,
   "autocomplete": true,
   "bibliofile": "biblio.bib",
   "cite_by": "apalike",
   "current_citInitial": 1,
   "eqLabelWithNumbers": true,
   "eqNumInitial": 1,
   "hotkeys": {
    "equation": "Ctrl-E",
    "itemize": "Ctrl-I"
   },
   "labels_anchors": false,
   "latex_user_defs": false,
   "report_style_numbering": false,
   "user_envs_cfg": false
  },
  "toc": {
   "base_numbering": 1,
   "nav_menu": {},
   "number_sections": true,
   "sideBar": true,
   "skip_h1_title": false,
   "title_cell": "Table of Contents",
   "title_sidebar": "Contents",
   "toc_cell": true,
   "toc_position": {
    "height": "calc(100% - 180px)",
    "left": "10px",
    "top": "150px",
    "width": "153.431px"
   },
   "toc_section_display": true,
   "toc_window_display": false
  }
 },
 "nbformat": 4,
 "nbformat_minor": 2
}
