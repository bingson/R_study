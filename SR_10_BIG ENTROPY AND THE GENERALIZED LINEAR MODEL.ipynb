{
 "cells": [
  {
   "cell_type": "markdown",
   "metadata": {
    "toc": true
   },
   "source": [
    "<h1>Table of Contents<span class=\"tocSkip\"></span></h1>\n",
    "<div class=\"toc\"><ul class=\"toc-item\"></ul></div>"
   ]
  },
  {
   "cell_type": "code",
   "execution_count": 4,
   "metadata": {
    "ExecuteTime": {
     "end_time": "2020-02-27T02:52:33.036054Z",
     "start_time": "2020-02-27T02:52:32.986Z"
    }
   },
   "outputs": [],
   "source": [
    "library(tidyverse)\n",
    "\n",
    "# loads experimental branch of statistical rethinking pkg\n",
    "library(rethinking)"
   ]
  },
  {
   "cell_type": "markdown",
   "metadata": {},
   "source": [
    "$-\\sum_i p_i log p_i$ \n",
    "\n",
    "$lppd(y,\\theta) = \\sum_i log \\frac{1}{S} \\sum_s(y_i|\\theta_s)$ \n",
    "\n",
    "$dX_t = k(\\mu - X_t)dt + \\sigma dW_t$\n",
    "\n",
    "$D_{KL} = \\sum_i {p_i} (log(p_i) - log(q_i))$ \n",
    "\n",
    "\n",
    "$\\text{WAIC}(y,\\theta) = -2(lppd - \\sum_i var_{\\theta} log p(y_i|\\theta))$\n",
    "\n",
    "<br> penalty has less to do with the number of parameters than with how the parameters are related to one another. When we get to multilevel models, adding parameters to the model can actually reduce the “effective number of parameters.” "
   ]
  },
  {
   "cell_type": "markdown",
   "metadata": {},
   "source": [
    "**<span style='background-color: lightgreen'>information entropy</span> is just the logarithm of the number of ways to realize a distribution**\n",
    "\n",
    "* Information entropy is maximized when the  distribution is flat and flatter  distributions have higher entropy."
   ]
  },
  {
   "cell_type": "markdown",
   "metadata": {},
   "source": [
    "The principle of maximum entropy applies this measure of uncertainty to the problem of choosing among probability distributions. Perhaps the simplest way to state the maximum entropy principle is: \n",
    "> The distribution that can happen the most ways is also the distribution with the biggest information entropy. The distribution with the biggest entropy is the most conservative distribution that obeys its constraints."
   ]
  },
  {
   "cell_type": "markdown",
   "metadata": {},
   "source": [
    "the maximum entropy problem so amazing  nothing is just a special case of this  larger inference framework and I'm not  saying that then we're gonna do it this  way it's just that you want to  understand that \n",
    "\n",
    "> what you're doing when you solve for the posterior distribution is you're getting the distribution that is as flat as possible and consistent with the data \n",
    "\n",
    "**<font color = 'purple' style='background-color: lightyellow'>that's what  the posterior distribution that Bayesian  inference gives you is </font>**\n",
    "> it's the flattest  distribution possible consistent with  the constraints and the data \n",
    "\n",
    "> no other  distribution could be flatter and still  be consistent with that information that  you put into it. \n",
    "\n",
    "**<font color = 'purple' style='background-color: lightyellow'>so it's the highest  entropy answer and why is that good</font>**"
   ]
  },
  {
   "cell_type": "markdown",
   "metadata": {},
   "source": [
    "that means  your distance to the truth is smaller!\n",
    "\n",
    "one way to think about this though is  that this is deflationary there's  nothing magic about statistics it's  saying well junk that can happen lots of  ways we're gonna bet on that"
   ]
  },
  {
   "cell_type": "markdown",
   "metadata": {},
   "source": [
    "$ \n",
    "\\begin{align*}  \n",
    "y_i &\\sim \\text{Binomial}(n,p_i) \\\\ \n",
    "logit(p_i) &= \\alpha + \\beta x_i \\\\ \n",
    "logit(p_i) &= log \\frac{p_i}{1-p_i} = \\alpha + \\beta x_i \\\\ \n",
    "\\text{Solve for} \\;  p_i \\\\ \n",
    "p_i &= \\frac{exp(\\alpha + \\beta x_i)}{1 + exp(\\alpha + \\beta x_i)} \n",
    "\\end{align*}  \n",
    "$ \n"
   ]
  },
  {
   "cell_type": "code",
   "execution_count": 5,
   "metadata": {
    "ExecuteTime": {
     "end_time": "2020-02-27T02:52:43.065121Z",
     "start_time": "2020-02-27T02:52:42.942Z"
    },
    "collapsed": true
   },
   "outputs": [
    {
     "data": {
      "text/plain": [
       ", , condition = 0\n",
       "\n",
       "         prosoc_left\n",
       "treatment   0   1\n",
       "        1 126   0\n",
       "        2   0 126\n",
       "        3   0   0\n",
       "        4   0   0\n",
       "\n",
       ", , condition = 1\n",
       "\n",
       "         prosoc_left\n",
       "treatment   0   1\n",
       "        1   0   0\n",
       "        2   0   0\n",
       "        3 126   0\n",
       "        4   0 126\n"
      ]
     },
     "metadata": {},
     "output_type": "display_data"
    }
   ],
   "source": [
    "## R code 11.1\n",
    "library(rethinking)\n",
    "data(chimpanzees)\n",
    "d <- chimpanzees\n",
    "\n",
    "## R code 11.2\n",
    "d$treatment <- 1 + d$prosoc_left + 2*d$condition\n",
    "\n",
    "## R code 11.3\n",
    "xtabs( ~ treatment + prosoc_left + condition , d )"
   ]
  },
  {
   "cell_type": "code",
   "execution_count": 17,
   "metadata": {
    "ExecuteTime": {
     "end_time": "2020-02-27T02:56:25.454146Z",
     "start_time": "2020-02-27T02:56:25.283Z"
    }
   },
   "outputs": [
    {
     "data": {
      "text/html": [
       "0.256328044994862"
      ],
      "text/latex": [
       "0.256328044994862"
      ],
      "text/markdown": [
       "0.256328044994862"
      ],
      "text/plain": [
       "[1] 0.256328"
      ]
     },
     "metadata": {},
     "output_type": "display_data"
    }
   ],
   "source": [
    "## R code 11.9\n",
    "m11.3 <- quap(\n",
    "    alist(\n",
    "        pulled_left ~ dbinom( 1 , p ) ,\n",
    "        logit(p) <- a + b[treatment] ,\n",
    "        a ~ dnorm( 0 , 1.5 ),\n",
    "        b[treatment] ~ dnorm( 0 , 1.5 )\n",
    "    ) , data=d )\n",
    "set.seed(1999)\n",
    "prior <- extract.prior( m11.3 , n=1e4 )\n",
    "p <- sapply( 1:4 , function(k) inv_logit( prior$a + prior$b[,k] ) )\n",
    "mean( abs( p[,1] - p[,2] ) )"
   ]
  },
  {
   "cell_type": "code",
   "execution_count": 7,
   "metadata": {
    "ExecuteTime": {
     "end_time": "2020-02-27T02:53:23.201460Z",
     "start_time": "2020-02-27T02:53:23.079Z"
    }
   },
   "outputs": [
    {
     "data": {
      "image/png": "[encoded data removed]",
      "text/plain": [
       "Plot with title \"\""
      ]
     },
     "metadata": {
      "image/png": {
       "height": 420,
       "width": 420
      }
     },
     "output_type": "display_data"
    }
   ],
   "source": [
    "## R code 11.6\n",
    "p <- inv_logit( prior$a )\n",
    "dens( p , adj=0.1 )"
   ]
  },
  {
   "cell_type": "code",
   "execution_count": 10,
   "metadata": {
    "ExecuteTime": {
     "end_time": "2020-02-27T02:55:14.004588Z",
     "start_time": "2020-02-27T02:55:13.879Z"
    }
   },
   "outputs": [
    {
     "data": {
      "image/png": "[encoded data removed]",
      "text/plain": [
       "Plot with title \"\""
      ]
     },
     "metadata": {
      "image/png": {
       "height": 420,
       "width": 420
      }
     },
     "output_type": "display_data"
    }
   ],
   "source": [
    "## R code 11.8\n",
    "dens( abs( p[,1] - p[,2] ) , adj=0.1 ) # prior for difference in treatments"
   ]
  },
  {
   "cell_type": "markdown",
   "metadata": {},
   "source": [
    "$ \n",
    "\\begin{align*}  \n",
    "y_i &\\sim \\text{Binomial}(N_i,p_i) \\\\ \n",
    "logit(p_i) &= \\alpha + \\beta x_i \\\\ \n",
    "logit(p_i) &= log \\frac{p_i}{1-p_i} = \\alpha + \\beta x_i \\\\ \n",
    "\\text{Solve for} \\;  p_i \\\\ \n",
    "p_i &= \\frac{exp(\\alpha + \\beta x_i)}{1 + exp(\\alpha + \\beta x_i)} \n",
    "\\end{align*}  \n",
    "$ \n"
   ]
  }
 ],
 "metadata": {
  "hide_input": false,
  "kernelspec": {
   "display_name": "R",
   "language": "R",
   "name": "ir"
  },
  "language_info": {
   "codemirror_mode": "r",
   "file_extension": ".r",
   "mimetype": "text/x-r-source",
   "name": "R",
   "pygments_lexer": "r",
   "version": "3.6.2"
  },
  "toc": {
   "base_numbering": 1,
   "nav_menu": {},
   "number_sections": true,
   "sideBar": true,
   "skip_h1_title": false,
   "title_cell": "Table of Contents",
   "title_sidebar": "Contents",
   "toc_cell": true,
   "toc_position": {},
   "toc_section_display": true,
   "toc_window_display": false
  },
  "varInspector": {
   "cols": {
    "lenName": 16,
    "lenType": 16,
    "lenVar": 40
   },
   "kernels_config": {
    "python": {
     "delete_cmd_postfix": "",
     "delete_cmd_prefix": "del ",
     "library": "var_list.py",
     "varRefreshCmd": "print(var_dic_list())"
    },
    "r": {
     "delete_cmd_postfix": ") ",
     "delete_cmd_prefix": "rm(",
     "library": "var_list.r",
     "varRefreshCmd": "cat(var_dic_list()) "
    }
   },
   "types_to_exclude": [
    "module",
    "function",
    "builtin_function_or_method",
    "instance",
    "_Feature"
   ],
   "window_display": false
  }
 },
 "nbformat": 4,
 "nbformat_minor": 2
}
