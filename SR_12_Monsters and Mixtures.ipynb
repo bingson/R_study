{
 "cells": [
  {
   "cell_type": "markdown",
   "metadata": {
    "toc": true
   },
   "source": [
    "<h1>Table of Contents<span class=\"tocSkip\"></span></h1>\n",
    "<div class=\"toc\"><ul class=\"toc-item\"><li><span><a href=\"#CH-12\" data-toc-modified-id=\"CH-12-1\"><span class=\"toc-item-num\">1&nbsp;&nbsp;</span>CH 12</a></span><ul class=\"toc-item\"><li><span><a href=\"#Ordered-categorical-outcomes\" data-toc-modified-id=\"Ordered-categorical-outcomes-1.1\"><span class=\"toc-item-num\">1.1&nbsp;&nbsp;</span>Ordered categorical outcomes</a></span></li></ul></li><li><span><a href=\"#Misc\" data-toc-modified-id=\"Misc-2\"><span class=\"toc-item-num\">2&nbsp;&nbsp;</span>Misc</a></span></li></ul></div>"
   ]
  },
  {
   "cell_type": "code",
   "execution_count": 2,
   "metadata": {},
   "outputs": [
    {
     "name": "stderr",
     "output_type": "stream",
     "text": [
      "-- Attaching packages --------------------------------------- tidyverse 1.2.1 --\n",
      "v tibble  2.0.1       v purrr   0.3.0  \n",
      "v tidyr   0.8.2       v dplyr   0.8.0.1\n",
      "v readr   1.3.1       v stringr 1.4.0  \n",
      "v tibble  2.0.1       v forcats 0.4.0  \n",
      "Warning message:\n",
      "\"package 'tibble' was built under R version 3.5.2\"Warning message:\n",
      "\"package 'readr' was built under R version 3.5.2\"Warning message:\n",
      "\"package 'purrr' was built under R version 3.5.2\"Warning message:\n",
      "\"package 'dplyr' was built under R version 3.5.2\"Warning message:\n",
      "\"package 'stringr' was built under R version 3.5.2\"Warning message:\n",
      "\"package 'forcats' was built under R version 3.5.2\"-- Conflicts ------------------------------------------ tidyverse_conflicts() --\n",
      "x tidyr::extract() masks rstan::extract()\n",
      "x dplyr::filter()  masks stats::filter()\n",
      "x dplyr::lag()     masks stats::lag()\n",
      "x purrr::map()     masks rethinking::map()\n"
     ]
    }
   ],
   "source": [
    "library(tidyverse)\n",
    "library(rethinking)\n",
    "# loads experimental branch of statistical rethinking pkg\n",
    "# library(rethinking, lib = \"C:/Users/bings/Documents/R/test-library\")"
   ]
  },
  {
   "cell_type": "markdown",
   "metadata": {},
   "source": [
    "# CH 12"
   ]
  },
  {
   "cell_type": "code",
   "execution_count": 4,
   "metadata": {
    "cell_style": "split"
   },
   "outputs": [
    {
     "data": {
      "image/png": "[encoded data removed]",
      "text/plain": [
       "plot without title"
      ]
     },
     "metadata": {},
     "output_type": "display_data"
    }
   ],
   "source": [
    "pbar <- 0.4\n",
    "theta <- 5\n",
    "curve( dbeta2(x,pbar,theta) , from=0 , to=1 ,\n",
    "    xlab=\"probability\" , ylab=\"Density\" )"
   ]
  },
  {
   "cell_type": "code",
   "execution_count": 5,
   "metadata": {
    "cell_style": "center"
   },
   "outputs": [],
   "source": [
    "data(UCBadmit)\n",
    "d <- UCBadmit\n",
    "d$gid <- ifelse( d$applicant.gender==\"male\" , 1L , 2L )\n",
    "dat <- list( A=d$admit , N=d$applications , gid=d$gid )"
   ]
  },
  {
   "cell_type": "code",
   "execution_count": 6,
   "metadata": {
    "cell_style": "center",
    "scrolled": true
   },
   "outputs": [
    {
     "name": "stdout",
     "output_type": "stream",
     "text": [
      "\n",
      "SAMPLING FOR MODEL '379c3c9629d2ce418bfe29904221f6bc' NOW (CHAIN 1).\n",
      "Chain 1: \n",
      "Chain 1: Gradient evaluation took 0 seconds\n",
      "Chain 1: 1000 transitions using 10 leapfrog steps per transition would take 0 seconds.\n",
      "Chain 1: Adjust your expectations accordingly!\n",
      "Chain 1: \n",
      "Chain 1: \n",
      "Chain 1: Iteration:   1 / 1000 [  0%]  (Warmup)\n",
      "Chain 1: Iteration: 100 / 1000 [ 10%]  (Warmup)\n",
      "Chain 1: Iteration: 200 / 1000 [ 20%]  (Warmup)\n",
      "Chain 1: Iteration: 300 / 1000 [ 30%]  (Warmup)\n",
      "Chain 1: Iteration: 400 / 1000 [ 40%]  (Warmup)\n",
      "Chain 1: Iteration: 500 / 1000 [ 50%]  (Warmup)\n",
      "Chain 1: Iteration: 501 / 1000 [ 50%]  (Sampling)\n",
      "Chain 1: Iteration: 600 / 1000 [ 60%]  (Sampling)\n",
      "Chain 1: Iteration: 700 / 1000 [ 70%]  (Sampling)\n",
      "Chain 1: Iteration: 800 / 1000 [ 80%]  (Sampling)\n",
      "Chain 1: Iteration: 900 / 1000 [ 90%]  (Sampling)\n",
      "Chain 1: Iteration: 1000 / 1000 [100%]  (Sampling)\n",
      "Chain 1: \n",
      "Chain 1:  Elapsed Time: 0.11 seconds (Warm-up)\n",
      "Chain 1:                0.088 seconds (Sampling)\n",
      "Chain 1:                0.198 seconds (Total)\n",
      "Chain 1: \n",
      "\n",
      "SAMPLING FOR MODEL '379c3c9629d2ce418bfe29904221f6bc' NOW (CHAIN 2).\n",
      "Chain 2: \n",
      "Chain 2: Gradient evaluation took 0 seconds\n",
      "Chain 2: 1000 transitions using 10 leapfrog steps per transition would take 0 seconds.\n",
      "Chain 2: Adjust your expectations accordingly!\n",
      "Chain 2: \n",
      "Chain 2: \n",
      "Chain 2: Iteration:   1 / 1000 [  0%]  (Warmup)\n",
      "Chain 2: Iteration: 100 / 1000 [ 10%]  (Warmup)\n",
      "Chain 2: Iteration: 200 / 1000 [ 20%]  (Warmup)\n",
      "Chain 2: Iteration: 300 / 1000 [ 30%]  (Warmup)\n",
      "Chain 2: Iteration: 400 / 1000 [ 40%]  (Warmup)\n",
      "Chain 2: Iteration: 500 / 1000 [ 50%]  (Warmup)\n",
      "Chain 2: Iteration: 501 / 1000 [ 50%]  (Sampling)\n",
      "Chain 2: Iteration: 600 / 1000 [ 60%]  (Sampling)\n",
      "Chain 2: Iteration: 700 / 1000 [ 70%]  (Sampling)\n",
      "Chain 2: Iteration: 800 / 1000 [ 80%]  (Sampling)\n",
      "Chain 2: Iteration: 900 / 1000 [ 90%]  (Sampling)\n",
      "Chain 2: Iteration: 1000 / 1000 [100%]  (Sampling)\n",
      "Chain 2: \n",
      "Chain 2:  Elapsed Time: 0.104 seconds (Warm-up)\n",
      "Chain 2:                0.095 seconds (Sampling)\n",
      "Chain 2:                0.199 seconds (Total)\n",
      "Chain 2: \n",
      "\n",
      "SAMPLING FOR MODEL '379c3c9629d2ce418bfe29904221f6bc' NOW (CHAIN 3).\n",
      "Chain 3: \n",
      "Chain 3: Gradient evaluation took 0 seconds\n",
      "Chain 3: 1000 transitions using 10 leapfrog steps per transition would take 0 seconds.\n",
      "Chain 3: Adjust your expectations accordingly!\n",
      "Chain 3: \n",
      "Chain 3: \n",
      "Chain 3: Iteration:   1 / 1000 [  0%]  (Warmup)\n",
      "Chain 3: Iteration: 100 / 1000 [ 10%]  (Warmup)\n",
      "Chain 3: Iteration: 200 / 1000 [ 20%]  (Warmup)\n",
      "Chain 3: Iteration: 300 / 1000 [ 30%]  (Warmup)\n",
      "Chain 3: Iteration: 400 / 1000 [ 40%]  (Warmup)\n",
      "Chain 3: Iteration: 500 / 1000 [ 50%]  (Warmup)\n",
      "Chain 3: Iteration: 501 / 1000 [ 50%]  (Sampling)\n",
      "Chain 3: Iteration: 600 / 1000 [ 60%]  (Sampling)\n",
      "Chain 3: Iteration: 700 / 1000 [ 70%]  (Sampling)\n",
      "Chain 3: Iteration: 800 / 1000 [ 80%]  (Sampling)\n",
      "Chain 3: Iteration: 900 / 1000 [ 90%]  (Sampling)\n",
      "Chain 3: Iteration: 1000 / 1000 [100%]  (Sampling)\n",
      "Chain 3: \n",
      "Chain 3:  Elapsed Time: 0.103 seconds (Warm-up)\n",
      "Chain 3:                0.094 seconds (Sampling)\n",
      "Chain 3:                0.197 seconds (Total)\n",
      "Chain 3: \n",
      "\n",
      "SAMPLING FOR MODEL '379c3c9629d2ce418bfe29904221f6bc' NOW (CHAIN 4).\n",
      "Chain 4: \n",
      "Chain 4: Gradient evaluation took 0 seconds\n",
      "Chain 4: 1000 transitions using 10 leapfrog steps per transition would take 0 seconds.\n",
      "Chain 4: Adjust your expectations accordingly!\n",
      "Chain 4: \n",
      "Chain 4: \n",
      "Chain 4: Iteration:   1 / 1000 [  0%]  (Warmup)\n",
      "Chain 4: Iteration: 100 / 1000 [ 10%]  (Warmup)\n",
      "Chain 4: Iteration: 200 / 1000 [ 20%]  (Warmup)\n",
      "Chain 4: Iteration: 300 / 1000 [ 30%]  (Warmup)\n",
      "Chain 4: Iteration: 400 / 1000 [ 40%]  (Warmup)\n",
      "Chain 4: Iteration: 500 / 1000 [ 50%]  (Warmup)\n",
      "Chain 4: Iteration: 501 / 1000 [ 50%]  (Sampling)\n",
      "Chain 4: Iteration: 600 / 1000 [ 60%]  (Sampling)\n",
      "Chain 4: Iteration: 700 / 1000 [ 70%]  (Sampling)\n",
      "Chain 4: Iteration: 800 / 1000 [ 80%]  (Sampling)\n",
      "Chain 4: Iteration: 900 / 1000 [ 90%]  (Sampling)\n",
      "Chain 4: Iteration: 1000 / 1000 [100%]  (Sampling)\n",
      "Chain 4: \n",
      "Chain 4:  Elapsed Time: 0.111 seconds (Warm-up)\n",
      "Chain 4:                0.111 seconds (Sampling)\n",
      "Chain 4:                0.222 seconds (Total)\n",
      "Chain 4: \n"
     ]
    }
   ],
   "source": [
    "m12.1 <- ulam(\n",
    "    alist(\n",
    "        A ~ dbetabinom( N , pbar , theta ),\n",
    "        logit(pbar) <- a[gid],\n",
    "        a[gid] ~ dnorm( 0 , 1.5 ),\n",
    "        theta ~ dexp(1)\n",
    "    ), data=dat , chains=4 )"
   ]
  },
  {
   "cell_type": "code",
   "execution_count": 8,
   "metadata": {
    "cell_style": "center",
    "scrolled": true
   },
   "outputs": [
    {
     "data": {
      "text/html": [
       "<table>\n",
       "<thead><tr><th></th><th scope=col>mean</th><th scope=col>sd</th><th scope=col>5.5%</th><th scope=col>94.5%</th></tr></thead>\n",
       "<tbody>\n",
       "\t<tr><th scope=row>a[1]</th><td>-0.4221755</td><td>0.4363855 </td><td>-1.1172937</td><td>0.2858072 </td></tr>\n",
       "\t<tr><th scope=row>a[2]</th><td>-0.3002211</td><td>0.4202903 </td><td>-0.9702082</td><td>0.3600066 </td></tr>\n",
       "\t<tr><th scope=row>theta</th><td> 2.7131859</td><td>0.9705717 </td><td> 1.4313366</td><td>4.4575013 </td></tr>\n",
       "\t<tr><th scope=row>da</th><td>-0.1219544</td><td>0.6086959 </td><td>-1.0690071</td><td>0.8587840 </td></tr>\n",
       "</tbody>\n",
       "</table>\n"
      ],
      "text/latex": [
       "\\begin{tabular}{r|llll}\n",
       "  & mean & sd & 5.5\\% & 94.5\\%\\\\\n",
       "\\hline\n",
       "\ta{[}1{]} & -0.4221755 & 0.4363855  & -1.1172937 & 0.2858072 \\\\\n",
       "\ta{[}2{]} & -0.3002211 & 0.4202903  & -0.9702082 & 0.3600066 \\\\\n",
       "\ttheta &  2.7131859 & 0.9705717  &  1.4313366 & 4.4575013 \\\\\n",
       "\tda & -0.1219544 & 0.6086959  & -1.0690071 & 0.8587840 \\\\\n",
       "\\end{tabular}\n"
      ],
      "text/markdown": [
       "\n",
       "| <!--/--> | mean | sd | 5.5% | 94.5% |\n",
       "|---|---|---|---|---|\n",
       "| a[1] | -0.4221755 | 0.4363855  | -1.1172937 | 0.2858072  |\n",
       "| a[2] | -0.3002211 | 0.4202903  | -0.9702082 | 0.3600066  |\n",
       "| theta |  2.7131859 | 0.9705717  |  1.4313366 | 4.4575013  |\n",
       "| da | -0.1219544 | 0.6086959  | -1.0690071 | 0.8587840  |\n",
       "\n"
      ],
      "text/plain": [
       "      mean       sd        5.5%       94.5%    \n",
       "a[1]  -0.4221755 0.4363855 -1.1172937 0.2858072\n",
       "a[2]  -0.3002211 0.4202903 -0.9702082 0.3600066\n",
       "theta  2.7131859 0.9705717  1.4313366 4.4575013\n",
       "da    -0.1219544 0.6086959 -1.0690071 0.8587840"
      ]
     },
     "metadata": {},
     "output_type": "display_data"
    }
   ],
   "source": [
    "## R code 12.3\n",
    "post <- extract.samples( m12.1 )\n",
    "post$da <- post$a[,1] - post$a[,2]\n",
    "precis( post , depth=2 )[1:4]"
   ]
  },
  {
   "cell_type": "code",
   "execution_count": 9,
   "metadata": {
    "scrolled": true
   },
   "outputs": [
    {
     "name": "stdout",
     "output_type": "stream",
     "text": [
      "\n",
      "SAMPLING FOR MODEL '1b1b1ec6a021defe7ac1cbee74458ec5' NOW (CHAIN 1).\n",
      "Chain 1: \n",
      "Chain 1: Gradient evaluation took 0 seconds\n",
      "Chain 1: 1000 transitions using 10 leapfrog steps per transition would take 0 seconds.\n",
      "Chain 1: Adjust your expectations accordingly!\n",
      "Chain 1: \n",
      "Chain 1: \n",
      "Chain 1: Iteration:   1 / 1000 [  0%]  (Warmup)\n",
      "Chain 1: Iteration: 100 / 1000 [ 10%]  (Warmup)\n",
      "Chain 1: Iteration: 200 / 1000 [ 20%]  (Warmup)\n",
      "Chain 1: Iteration: 300 / 1000 [ 30%]  (Warmup)\n",
      "Chain 1: Iteration: 400 / 1000 [ 40%]  (Warmup)\n",
      "Chain 1: Iteration: 500 / 1000 [ 50%]  (Warmup)\n",
      "Chain 1: Iteration: 501 / 1000 [ 50%]  (Sampling)\n",
      "Chain 1: Iteration: 600 / 1000 [ 60%]  (Sampling)\n",
      "Chain 1: Iteration: 700 / 1000 [ 70%]  (Sampling)\n",
      "Chain 1: Iteration: 800 / 1000 [ 80%]  (Sampling)\n",
      "Chain 1: Iteration: 900 / 1000 [ 90%]  (Sampling)\n",
      "Chain 1: Iteration: 1000 / 1000 [100%]  (Sampling)\n",
      "Chain 1: \n",
      "Chain 1:  Elapsed Time: 0.543 seconds (Warm-up)\n",
      "Chain 1:                0.43 seconds (Sampling)\n",
      "Chain 1:                0.973 seconds (Total)\n",
      "Chain 1: \n",
      "\n",
      "SAMPLING FOR MODEL '1b1b1ec6a021defe7ac1cbee74458ec5' NOW (CHAIN 2).\n",
      "Chain 2: \n",
      "Chain 2: Gradient evaluation took 0 seconds\n",
      "Chain 2: 1000 transitions using 10 leapfrog steps per transition would take 0 seconds.\n",
      "Chain 2: Adjust your expectations accordingly!\n",
      "Chain 2: \n",
      "Chain 2: \n",
      "Chain 2: Iteration:   1 / 1000 [  0%]  (Warmup)\n",
      "Chain 2: Iteration: 100 / 1000 [ 10%]  (Warmup)\n",
      "Chain 2: Iteration: 200 / 1000 [ 20%]  (Warmup)\n",
      "Chain 2: Iteration: 300 / 1000 [ 30%]  (Warmup)\n",
      "Chain 2: Iteration: 400 / 1000 [ 40%]  (Warmup)\n",
      "Chain 2: Iteration: 500 / 1000 [ 50%]  (Warmup)\n",
      "Chain 2: Iteration: 501 / 1000 [ 50%]  (Sampling)\n",
      "Chain 2: Iteration: 600 / 1000 [ 60%]  (Sampling)\n",
      "Chain 2: Iteration: 700 / 1000 [ 70%]  (Sampling)\n",
      "Chain 2: Iteration: 800 / 1000 [ 80%]  (Sampling)\n",
      "Chain 2: Iteration: 900 / 1000 [ 90%]  (Sampling)\n",
      "Chain 2: Iteration: 1000 / 1000 [100%]  (Sampling)\n",
      "Chain 2: \n",
      "Chain 2:  Elapsed Time: 0.44 seconds (Warm-up)\n",
      "Chain 2:                0.481 seconds (Sampling)\n",
      "Chain 2:                0.921 seconds (Total)\n",
      "Chain 2: \n",
      "\n",
      "SAMPLING FOR MODEL '1b1b1ec6a021defe7ac1cbee74458ec5' NOW (CHAIN 3).\n",
      "Chain 3: \n",
      "Chain 3: Gradient evaluation took 0 seconds\n",
      "Chain 3: 1000 transitions using 10 leapfrog steps per transition would take 0 seconds.\n",
      "Chain 3: Adjust your expectations accordingly!\n",
      "Chain 3: \n",
      "Chain 3: \n",
      "Chain 3: Iteration:   1 / 1000 [  0%]  (Warmup)\n",
      "Chain 3: Iteration: 100 / 1000 [ 10%]  (Warmup)\n",
      "Chain 3: Iteration: 200 / 1000 [ 20%]  (Warmup)\n",
      "Chain 3: Iteration: 300 / 1000 [ 30%]  (Warmup)\n",
      "Chain 3: Iteration: 400 / 1000 [ 40%]  (Warmup)\n",
      "Chain 3: Iteration: 500 / 1000 [ 50%]  (Warmup)\n",
      "Chain 3: Iteration: 501 / 1000 [ 50%]  (Sampling)\n",
      "Chain 3: Iteration: 600 / 1000 [ 60%]  (Sampling)\n",
      "Chain 3: Iteration: 700 / 1000 [ 70%]  (Sampling)\n",
      "Chain 3: Iteration: 800 / 1000 [ 80%]  (Sampling)\n",
      "Chain 3: Iteration: 900 / 1000 [ 90%]  (Sampling)\n",
      "Chain 3: Iteration: 1000 / 1000 [100%]  (Sampling)\n",
      "Chain 3: \n",
      "Chain 3:  Elapsed Time: 0.535 seconds (Warm-up)\n",
      "Chain 3:                0.322 seconds (Sampling)\n",
      "Chain 3:                0.857 seconds (Total)\n",
      "Chain 3: \n",
      "\n",
      "SAMPLING FOR MODEL '1b1b1ec6a021defe7ac1cbee74458ec5' NOW (CHAIN 4).\n",
      "Chain 4: \n",
      "Chain 4: Gradient evaluation took 0 seconds\n",
      "Chain 4: 1000 transitions using 10 leapfrog steps per transition would take 0 seconds.\n",
      "Chain 4: Adjust your expectations accordingly!\n",
      "Chain 4: \n",
      "Chain 4: \n",
      "Chain 4: Iteration:   1 / 1000 [  0%]  (Warmup)\n",
      "Chain 4: Iteration: 100 / 1000 [ 10%]  (Warmup)\n",
      "Chain 4: Iteration: 200 / 1000 [ 20%]  (Warmup)\n",
      "Chain 4: Iteration: 300 / 1000 [ 30%]  (Warmup)\n",
      "Chain 4: Iteration: 400 / 1000 [ 40%]  (Warmup)\n",
      "Chain 4: Iteration: 500 / 1000 [ 50%]  (Warmup)\n",
      "Chain 4: Iteration: 501 / 1000 [ 50%]  (Sampling)\n",
      "Chain 4: Iteration: 600 / 1000 [ 60%]  (Sampling)\n",
      "Chain 4: Iteration: 700 / 1000 [ 70%]  (Sampling)\n",
      "Chain 4: Iteration: 800 / 1000 [ 80%]  (Sampling)\n",
      "Chain 4: Iteration: 900 / 1000 [ 90%]  (Sampling)\n",
      "Chain 4: Iteration: 1000 / 1000 [100%]  (Sampling)\n",
      "Chain 4: \n",
      "Chain 4:  Elapsed Time: 0.48 seconds (Warm-up)\n",
      "Chain 4:                0.359 seconds (Sampling)\n",
      "Chain 4:                0.839 seconds (Total)\n",
      "Chain 4: \n"
     ]
    }
   ],
   "source": [
    "data(Kline)\n",
    "d <- Kline\n",
    "d$P <- standardize( log(d$population) )\n",
    "d$contact_id <- ifelse( d$contact==\"high\" , 2L , 1L )\n",
    "\n",
    "dat2 <- list(\n",
    "    T = d$total_tools,\n",
    "    P = d$population,\n",
    "    cid = d$contact_id )\n",
    "\n",
    "m12.3 <- ulam(\n",
    "    alist(\n",
    "        T ~ dgampois( lambda , phi ),\n",
    "        lambda <- exp(a[cid])*P^b[cid] / g,\n",
    "        a[cid] ~ dnorm(1,1),\n",
    "        b[cid] ~ dexp(1),\n",
    "        g ~ dexp(1),\n",
    "        phi ~ dexp(1)\n",
    "    ), data=dat2 , chains=4 , log_lik=TRUE )"
   ]
  },
  {
   "cell_type": "code",
   "execution_count": 10,
   "metadata": {},
   "outputs": [],
   "source": [
    "# define parameters\n",
    "prob_drink <- 0.2 # 20% of days\n",
    "rate_work <- 1 # average 1 manuscript per day\n",
    "\n",
    "# sample one year of production\n",
    "N <- 365\n",
    "\n",
    "# simulate days monks drink\n",
    "set.seed(365)\n",
    "drink <- rbinom( N , 1 , prob_drink )\n",
    "\n",
    "# simulate manuscripts completed\n",
    "y <- (1-drink)*rpois( N , rate_work )"
   ]
  },
  {
   "cell_type": "code",
   "execution_count": 16,
   "metadata": {},
   "outputs": [
    {
     "data": {
      "text/html": [
       "75"
      ],
      "text/latex": [
       "75"
      ],
      "text/markdown": [
       "75"
      ],
      "text/plain": [
       "[1] 75"
      ]
     },
     "metadata": {},
     "output_type": "display_data"
    }
   ],
   "source": [
    "drink %>% sum"
   ]
  },
  {
   "cell_type": "code",
   "execution_count": 18,
   "metadata": {},
   "outputs": [
    {
     "data": {
      "image/png": "[encoded data removed]",
      "text/plain": [
       "plot without title"
      ]
     },
     "metadata": {},
     "output_type": "display_data"
    }
   ],
   "source": [
    "simplehist( y , xlab=\"manuscripts completed\" , lwd=4 )\n",
    "zeros_drink <- sum(drink)\n",
    "zeros_work <- sum(y==0 & drink==0)\n",
    "zeros_total <- sum(y==0)\n",
    "lines( c(0,0) , c(zeros_work,zeros_total) , lwd=4 , col=rangi2 )"
   ]
  },
  {
   "cell_type": "markdown",
   "metadata": {},
   "source": [
    "## Ordered categorical outcomes"
   ]
  },
  {
   "cell_type": "code",
   "execution_count": null,
   "metadata": {},
   "outputs": [],
   "source": [
    "# library(rethinking)\n",
    "data(Trolley)\n",
    "d <- Trolley"
   ]
  },
  {
   "cell_type": "code",
   "execution_count": 3,
   "metadata": {
    "scrolled": true
   },
   "outputs": [
    {
     "data": {
      "text/html": [
       "<table>\n",
       "<thead><tr><th scope=col>case</th><th scope=col>response</th><th scope=col>order</th><th scope=col>id</th><th scope=col>age</th><th scope=col>male</th><th scope=col>edu</th><th scope=col>action</th><th scope=col>intention</th><th scope=col>contact</th><th scope=col>story</th><th scope=col>action2</th></tr></thead>\n",
       "<tbody>\n",
       "\t<tr><td>cfaqu        </td><td>4            </td><td> 2           </td><td>96;434       </td><td>14           </td><td>0            </td><td>Middle School</td><td>0            </td><td>0            </td><td>1            </td><td>aqu          </td><td>1            </td></tr>\n",
       "\t<tr><td>cfbur        </td><td>3            </td><td>31           </td><td>96;434       </td><td>14           </td><td>0            </td><td>Middle School</td><td>0            </td><td>0            </td><td>1            </td><td>bur          </td><td>1            </td></tr>\n",
       "\t<tr><td>cfrub        </td><td>4            </td><td>16           </td><td>96;434       </td><td>14           </td><td>0            </td><td>Middle School</td><td>0            </td><td>0            </td><td>1            </td><td>rub          </td><td>1            </td></tr>\n",
       "\t<tr><td>cibox        </td><td>3            </td><td>32           </td><td>96;434       </td><td>14           </td><td>0            </td><td>Middle School</td><td>0            </td><td>1            </td><td>1            </td><td>box          </td><td>1            </td></tr>\n",
       "\t<tr><td>cibur        </td><td>3            </td><td> 4           </td><td>96;434       </td><td>14           </td><td>0            </td><td>Middle School</td><td>0            </td><td>1            </td><td>1            </td><td>bur          </td><td>1            </td></tr>\n",
       "\t<tr><td>cispe        </td><td>3            </td><td> 9           </td><td>96;434       </td><td>14           </td><td>0            </td><td>Middle School</td><td>0            </td><td>1            </td><td>1            </td><td>spe          </td><td>1            </td></tr>\n",
       "</tbody>\n",
       "</table>\n"
      ],
      "text/latex": [
       "\\begin{tabular}{r|llllllllllll}\n",
       " case & response & order & id & age & male & edu & action & intention & contact & story & action2\\\\\n",
       "\\hline\n",
       "\t cfaqu         & 4             &  2            & 96;434        & 14            & 0             & Middle School & 0             & 0             & 1             & aqu           & 1            \\\\\n",
       "\t cfbur         & 3             & 31            & 96;434        & 14            & 0             & Middle School & 0             & 0             & 1             & bur           & 1            \\\\\n",
       "\t cfrub         & 4             & 16            & 96;434        & 14            & 0             & Middle School & 0             & 0             & 1             & rub           & 1            \\\\\n",
       "\t cibox         & 3             & 32            & 96;434        & 14            & 0             & Middle School & 0             & 1             & 1             & box           & 1            \\\\\n",
       "\t cibur         & 3             &  4            & 96;434        & 14            & 0             & Middle School & 0             & 1             & 1             & bur           & 1            \\\\\n",
       "\t cispe         & 3             &  9            & 96;434        & 14            & 0             & Middle School & 0             & 1             & 1             & spe           & 1            \\\\\n",
       "\\end{tabular}\n"
      ],
      "text/markdown": [
       "\n",
       "| case | response | order | id | age | male | edu | action | intention | contact | story | action2 |\n",
       "|---|---|---|---|---|---|---|---|---|---|---|---|\n",
       "| cfaqu         | 4             |  2            | 96;434        | 14            | 0             | Middle School | 0             | 0             | 1             | aqu           | 1             |\n",
       "| cfbur         | 3             | 31            | 96;434        | 14            | 0             | Middle School | 0             | 0             | 1             | bur           | 1             |\n",
       "| cfrub         | 4             | 16            | 96;434        | 14            | 0             | Middle School | 0             | 0             | 1             | rub           | 1             |\n",
       "| cibox         | 3             | 32            | 96;434        | 14            | 0             | Middle School | 0             | 1             | 1             | box           | 1             |\n",
       "| cibur         | 3             |  4            | 96;434        | 14            | 0             | Middle School | 0             | 1             | 1             | bur           | 1             |\n",
       "| cispe         | 3             |  9            | 96;434        | 14            | 0             | Middle School | 0             | 1             | 1             | spe           | 1             |\n",
       "\n"
      ],
      "text/plain": [
       "  case  response order id     age male edu           action intention contact\n",
       "1 cfaqu 4         2    96;434 14  0    Middle School 0      0         1      \n",
       "2 cfbur 3        31    96;434 14  0    Middle School 0      0         1      \n",
       "3 cfrub 4        16    96;434 14  0    Middle School 0      0         1      \n",
       "4 cibox 3        32    96;434 14  0    Middle School 0      1         1      \n",
       "5 cibur 3         4    96;434 14  0    Middle School 0      1         1      \n",
       "6 cispe 3         9    96;434 14  0    Middle School 0      1         1      \n",
       "  story action2\n",
       "1 aqu   1      \n",
       "2 bur   1      \n",
       "3 rub   1      \n",
       "4 box   1      \n",
       "5 bur   1      \n",
       "6 spe   1      "
      ]
     },
     "metadata": {},
     "output_type": "display_data"
    }
   ],
   "source": [
    "d %>% head"
   ]
  },
  {
   "cell_type": "markdown",
   "metadata": {},
   "source": [
    "# Misc"
   ]
  },
  {
   "cell_type": "code",
   "execution_count": 4,
   "metadata": {},
   "outputs": [
    {
     "data": {
      "text/html": [
       "<table>\n",
       "<thead><tr><th scope=col>woman</th><th scope=col>district</th><th scope=col>use.contraception</th><th scope=col>living.children</th><th scope=col>age.centered</th><th scope=col>urban</th></tr></thead>\n",
       "<tbody>\n",
       "\t<tr><td>1       </td><td>1       </td><td>0       </td><td>4       </td><td> 18.4400</td><td>1       </td></tr>\n",
       "\t<tr><td>2       </td><td>1       </td><td>0       </td><td>1       </td><td> -5.5599</td><td>1       </td></tr>\n",
       "\t<tr><td>3       </td><td>1       </td><td>0       </td><td>3       </td><td>  1.4400</td><td>1       </td></tr>\n",
       "\t<tr><td>4       </td><td>1       </td><td>0       </td><td>4       </td><td>  8.4400</td><td>1       </td></tr>\n",
       "\t<tr><td>5       </td><td>1       </td><td>0       </td><td>1       </td><td>-13.5590</td><td>1       </td></tr>\n",
       "\t<tr><td>6       </td><td>1       </td><td>0       </td><td>1       </td><td>-11.5600</td><td>1       </td></tr>\n",
       "</tbody>\n",
       "</table>\n"
      ],
      "text/latex": [
       "\\begin{tabular}{r|llllll}\n",
       " woman & district & use.contraception & living.children & age.centered & urban\\\\\n",
       "\\hline\n",
       "\t 1        & 1        & 0        & 4        &  18.4400 & 1       \\\\\n",
       "\t 2        & 1        & 0        & 1        &  -5.5599 & 1       \\\\\n",
       "\t 3        & 1        & 0        & 3        &   1.4400 & 1       \\\\\n",
       "\t 4        & 1        & 0        & 4        &   8.4400 & 1       \\\\\n",
       "\t 5        & 1        & 0        & 1        & -13.5590 & 1       \\\\\n",
       "\t 6        & 1        & 0        & 1        & -11.5600 & 1       \\\\\n",
       "\\end{tabular}\n"
      ],
      "text/markdown": [
       "\n",
       "| woman | district | use.contraception | living.children | age.centered | urban |\n",
       "|---|---|---|---|---|---|\n",
       "| 1        | 1        | 0        | 4        |  18.4400 | 1        |\n",
       "| 2        | 1        | 0        | 1        |  -5.5599 | 1        |\n",
       "| 3        | 1        | 0        | 3        |   1.4400 | 1        |\n",
       "| 4        | 1        | 0        | 4        |   8.4400 | 1        |\n",
       "| 5        | 1        | 0        | 1        | -13.5590 | 1        |\n",
       "| 6        | 1        | 0        | 1        | -11.5600 | 1        |\n",
       "\n"
      ],
      "text/plain": [
       "  woman district use.contraception living.children age.centered urban\n",
       "1 1     1        0                 4                18.4400     1    \n",
       "2 2     1        0                 1                -5.5599     1    \n",
       "3 3     1        0                 3                 1.4400     1    \n",
       "4 4     1        0                 4                 8.4400     1    \n",
       "5 5     1        0                 1               -13.5590     1    \n",
       "6 6     1        0                 1               -11.5600     1    "
      ]
     },
     "metadata": {},
     "output_type": "display_data"
    }
   ],
   "source": [
    "data(bangladesh)\n",
    "d <- bangladesh\n",
    "d %>% head"
   ]
  }
 ],
 "metadata": {
  "kernelspec": {
   "display_name": "R",
   "language": "R",
   "name": "ir"
  },
  "language_info": {
   "codemirror_mode": "r",
   "file_extension": ".r",
   "mimetype": "text/x-r-source",
   "name": "R",
   "pygments_lexer": "r",
   "version": "3.5.1"
  },
  "toc": {
   "base_numbering": 1,
   "nav_menu": {},
   "number_sections": true,
   "sideBar": true,
   "skip_h1_title": false,
   "title_cell": "Table of Contents",
   "title_sidebar": "Contents",
   "toc_cell": true,
   "toc_position": {},
   "toc_section_display": true,
   "toc_window_display": false
  },
  "varInspector": {
   "cols": {
    "lenName": "30",
    "lenType": "30",
    "lenVar": 40
   },
   "kernels_config": {
    "python": {
     "delete_cmd_postfix": "",
     "delete_cmd_prefix": "del ",
     "library": "var_list.py",
     "varRefreshCmd": "print(var_dic_list())"
    },
    "r": {
     "delete_cmd_postfix": ") ",
     "delete_cmd_prefix": "rm(",
     "library": "var_list.r",
     "varRefreshCmd": "cat(var_dic_list()) "
    }
   },
   "types_to_exclude": [
    "module",
    "function",
    "builtin_function_or_method",
    "instance",
    "_Feature"
   ],
   "window_display": false
  }
 },
 "nbformat": 4,
 "nbformat_minor": 2
}
