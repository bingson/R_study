{
 "cells": [
  {
   "cell_type": "markdown",
   "metadata": {
    "toc": true
   },
   "source": [
    "<h1>Table of Contents<span class=\"tocSkip\"></span></h1>\n",
    "<div class=\"toc\"><ul class=\"toc-item\"><li><span><a href=\"#Lecture-CH4\" data-toc-modified-id=\"Lecture-CH4-1\"><span class=\"toc-item-num\">1&nbsp;&nbsp;</span>Lecture CH4</a></span><ul class=\"toc-item\"><li><span><a href=\"#Why-normal-distributions-are-normal\" data-toc-modified-id=\"Why-normal-distributions-are-normal-1.1\"><span class=\"toc-item-num\">1.1&nbsp;&nbsp;</span>Why normal distributions are normal</a></span></li><li><span><a href=\"#A-language-for-describing-models\" data-toc-modified-id=\"A-language-for-describing-models-1.2\"><span class=\"toc-item-num\">1.2&nbsp;&nbsp;</span>A language for describing models</a></span></li><li><span><a href=\"#A-Gaussian-model-of-height\" data-toc-modified-id=\"A-Gaussian-model-of-height-1.3\"><span class=\"toc-item-num\">1.3&nbsp;&nbsp;</span>A Gaussian model of height</a></span><ul class=\"toc-item\"><li><span><a href=\"#THE-DATA\" data-toc-modified-id=\"THE-DATA-1.3.1\"><span class=\"toc-item-num\">1.3.1&nbsp;&nbsp;</span><font color=\"red\"><strong>THE DATA</strong></font></a></span></li><li><span><a href=\"#THE-MODEL\" data-toc-modified-id=\"THE-MODEL-1.3.2\"><span class=\"toc-item-num\">1.3.2&nbsp;&nbsp;</span><font color=\"red\"><strong>THE MODEL</strong></font></a></span></li><li><span><a href=\"#GRID-APPROXIMATION-OF-THE-POSTERIOR-DISTRIBUTION\" data-toc-modified-id=\"GRID-APPROXIMATION-OF-THE-POSTERIOR-DISTRIBUTION-1.3.3\"><span class=\"toc-item-num\">1.3.3&nbsp;&nbsp;</span><font color=\"red\"><strong>GRID APPROXIMATION OF THE POSTERIOR DISTRIBUTION</strong></font></a></span></li><li><span><a href=\"#Sampling-from-the-posterior\" data-toc-modified-id=\"Sampling-from-the-posterior-1.3.4\"><span class=\"toc-item-num\">1.3.4&nbsp;&nbsp;</span>Sampling from the posterior</a></span></li><li><span><a href=\"#Fitting-the-model-with-Quadratic-Approximation-(QUAP)\" data-toc-modified-id=\"Fitting-the-model-with-Quadratic-Approximation-(QUAP)-1.3.5\"><span class=\"toc-item-num\">1.3.5&nbsp;&nbsp;</span><font color=\"blue\">Fitting the model with Quadratic Approximation (QUAP)</font></a></span></li><li><span><a href=\"#Sampling-from-a-quap-fit\" data-toc-modified-id=\"Sampling-from-a-quap-fit-1.3.6\"><span class=\"toc-item-num\">1.3.6&nbsp;&nbsp;</span>Sampling from a quap fit</a></span></li></ul></li><li><span><a href=\"#Linear-Prediction\" data-toc-modified-id=\"Linear-Prediction-1.4\"><span class=\"toc-item-num\">1.4&nbsp;&nbsp;</span>Linear Prediction</a></span><ul class=\"toc-item\"><li><span><a href=\"#The-linear-model-strategy.\" data-toc-modified-id=\"The-linear-model-strategy.-1.4.1\"><span class=\"toc-item-num\">1.4.1&nbsp;&nbsp;</span>The linear model strategy.</a></span><ul class=\"toc-item\"><li><span><a href=\"#Likelihood\" data-toc-modified-id=\"Likelihood-1.4.1.1\"><span class=\"toc-item-num\">1.4.1.1&nbsp;&nbsp;</span>Likelihood</a></span></li><li><span><a href=\"#Linear-model\" data-toc-modified-id=\"Linear-model-1.4.1.2\"><span class=\"toc-item-num\">1.4.1.2&nbsp;&nbsp;</span>Linear model</a></span></li><li><span><a href=\"#Priors\" data-toc-modified-id=\"Priors-1.4.1.3\"><span class=\"toc-item-num\">1.4.1.3&nbsp;&nbsp;</span>Priors</a></span></li></ul></li><li><span><a href=\"#Finding-the-posterior-distribution-(m4.3)\" data-toc-modified-id=\"Finding-the-posterior-distribution-(m4.3)-1.4.2\"><span class=\"toc-item-num\">1.4.2&nbsp;&nbsp;</span>Finding the posterior distribution (m4.3)</a></span></li><li><span><a href=\"#Interpreting-the-posterior-distribution.\" data-toc-modified-id=\"Interpreting-the-posterior-distribution.-1.4.3\"><span class=\"toc-item-num\">1.4.3&nbsp;&nbsp;</span><font color=\"blue\">Interpreting the posterior distribution.</font></a></span><ul class=\"toc-item\"><li><span><a href=\"#Tables-of-marginal-distributions\" data-toc-modified-id=\"Tables-of-marginal-distributions-1.4.3.1\"><span class=\"toc-item-num\">1.4.3.1&nbsp;&nbsp;</span>Tables of marginal distributions</a></span></li><li><span><a href=\"#Plotting-posterior-inference-against-the-data\" data-toc-modified-id=\"Plotting-posterior-inference-against-the-data-1.4.3.2\"><span class=\"toc-item-num\">1.4.3.2&nbsp;&nbsp;</span>Plotting posterior inference against the data</a></span></li><li><span><a href=\"#Adding-uncertainty-around-the-mean\" data-toc-modified-id=\"Adding-uncertainty-around-the-mean-1.4.3.3\"><span class=\"toc-item-num\">1.4.3.3&nbsp;&nbsp;</span>Adding uncertainty around the mean</a></span></li><li><span><a href=\"#Plotting-regression-intervals-and-contours-(compatibility/confidence-regions/intervals)\" data-toc-modified-id=\"Plotting-regression-intervals-and-contours-(compatibility/confidence-regions/intervals)-1.4.3.4\"><span class=\"toc-item-num\">1.4.3.4&nbsp;&nbsp;</span><font color=\"green\">Plotting regression intervals and contours (<span style=\"background-color: lightyellow\">compatibility/confidence regions/intervals</span>)</font></a></span></li><li><span><a href=\"#Prediction-intervals\" data-toc-modified-id=\"Prediction-intervals-1.4.3.5\"><span class=\"toc-item-num\">1.4.3.5&nbsp;&nbsp;</span><font color=\"green\">Prediction intervals</font></a></span></li></ul></li></ul></li><li><span><a href=\"#Curves-from-lines\" data-toc-modified-id=\"Curves-from-lines-1.5\"><span class=\"toc-item-num\">1.5&nbsp;&nbsp;</span>Curves from lines</a></span><ul class=\"toc-item\"><li><span><a href=\"#Polynomial-regression\" data-toc-modified-id=\"Polynomial-regression-1.5.1\"><span class=\"toc-item-num\">1.5.1&nbsp;&nbsp;</span>Polynomial regression</a></span></li><li><span><a href=\"#Splines\" data-toc-modified-id=\"Splines-1.5.2\"><span class=\"toc-item-num\">1.5.2&nbsp;&nbsp;</span>Splines</a></span></li></ul></li><li><span><a href=\"#Practice\" data-toc-modified-id=\"Practice-1.6\"><span class=\"toc-item-num\">1.6&nbsp;&nbsp;</span>Practice</a></span><ul class=\"toc-item\"><li><span><a href=\"#EASY\" data-toc-modified-id=\"EASY-1.6.1\"><span class=\"toc-item-num\">1.6.1&nbsp;&nbsp;</span><font color=\"purple\" style=\"background-color: lightyellow\">EASY</font></a></span></li><li><span><a href=\"#MEDIUM\" data-toc-modified-id=\"MEDIUM-1.6.2\"><span class=\"toc-item-num\">1.6.2&nbsp;&nbsp;</span><font color=\"purple\" style=\"background-color: lightyellow\">MEDIUM</font></a></span></li><li><span><a href=\"#HARD\" data-toc-modified-id=\"HARD-1.6.3\"><span class=\"toc-item-num\">1.6.3&nbsp;&nbsp;</span><strong><font color=\"purple\" style=\"background-color: lightyellow\">HARD</font></strong></a></span></li></ul></li></ul></li><li><span><a href=\"#Misc\" data-toc-modified-id=\"Misc-2\"><span class=\"toc-item-num\">2&nbsp;&nbsp;</span>Misc</a></span><ul class=\"toc-item\"><li><span><a href=\"#Log-Normal-Distribution\" data-toc-modified-id=\"Log-Normal-Distribution-2.1\"><span class=\"toc-item-num\">2.1&nbsp;&nbsp;</span>Log Normal Distribution</a></span></li><li><span><a href=\"#Overthinking:-Matrix-multiplication-in-the-spline-model.\" data-toc-modified-id=\"Overthinking:-Matrix-multiplication-in-the-spline-model.-2.2\"><span class=\"toc-item-num\">2.2&nbsp;&nbsp;</span>Overthinking: Matrix multiplication in the spline model.</a></span></li><li><span><a href=\"#apply-vs-lapply-vs-sapply\" data-toc-modified-id=\"apply-vs-lapply-vs-sapply-2.3\"><span class=\"toc-item-num\">2.3&nbsp;&nbsp;</span>apply vs lapply vs sapply</a></span></li><li><span><a href=\"#Overthinking:-How-LINK-works\" data-toc-modified-id=\"Overthinking:-How-LINK-works-2.4\"><span class=\"toc-item-num\">2.4&nbsp;&nbsp;</span><font color=\"green\">Overthinking: How LINK works</font></a></span></li><li><span><a href=\"#Overthinking:-How-SIM-works\" data-toc-modified-id=\"Overthinking:-How-SIM-works-2.5\"><span class=\"toc-item-num\">2.5&nbsp;&nbsp;</span><font color=\"green\">Overthinking: How SIM works</font></a></span></li><li><span><a href=\"#dnorm\" data-toc-modified-id=\"dnorm-2.6\"><span class=\"toc-item-num\">2.6&nbsp;&nbsp;</span>dnorm</a></span></li><li><span><a href=\"#VOCAB\" data-toc-modified-id=\"VOCAB-2.7\"><span class=\"toc-item-num\">2.7&nbsp;&nbsp;</span>VOCAB</a></span></li></ul></li></ul></div>"
   ]
  },
  {
   "cell_type": "raw",
   "metadata": {
    "ExecuteTime": {
     "end_time": "2020-01-13T06:49:49.147683Z",
     "start_time": "2020-01-13T06:49:49.086Z"
    }
   },
   "source": [
    "detach(\"package:rethinking\", unload=TRUE)"
   ]
  },
  {
   "cell_type": "code",
   "execution_count": 14,
   "metadata": {
    "ExecuteTime": {
     "end_time": "2020-02-12T17:27:06.934575Z",
     "start_time": "2020-02-12T17:27:06.890Z"
    }
   },
   "outputs": [],
   "source": [
    "library(tidyverse)\n",
    "library(rethinking)"
   ]
  },
  {
   "cell_type": "markdown",
   "metadata": {},
   "source": [
    "# Lecture CH4"
   ]
  },
  {
   "cell_type": "markdown",
   "metadata": {},
   "source": [
    "> <span style='background-color: lightgreen'>Linear regression</span> is the geocentric model of applied statistics. By “linear regression,”\n",
    "we will mean a family of simple statistical golems that attempt to learn about the mean and\n",
    "variance of some measurement, using an additive combination of other measurements. "
   ]
  },
  {
   "cell_type": "markdown",
   "metadata": {
    "heading_collapsed": true
   },
   "source": [
    "## Why normal distributions are normal"
   ]
  },
  {
   "cell_type": "markdown",
   "metadata": {
    "hidden": true
   },
   "source": [
    "Suppose you and a thousand of your closest friends line up on the halfway line of a soccer field (football pitch). Each of you has a coin in your hand. At the sound of the whistle, you begin flipping the coins. Each time a coin comes up heads, that person moves one step towards the left-hand goal. Each time a coin comes up tails, that person moves one step towards the right-hand goal. Each person flips the coin 16 times, follows the implied moves, and then stands still. Now we measure the distance of each person from the halfway line. Can you predict what proportion of the thousand people who are standing on the halfway line? How about the proportion 5 yards left of the line? It’s hard to say where any individual person will end up, but you can say with great con- fidence what the collection of positions will be. The distances will be distributed in approxi- mately normal, or Gaussian, fashion. This is true even though the underlying distribution is binomial. It does this because there are so many more possible ways to realize a sequence of left-right steps that sums to zero. There are slightly fewer ways to realize a sequence that ends up one step left or right of zero, and so on, with the number of possible sequences declining in the characteristic bell curve of the normal distribution."
   ]
  },
  {
   "cell_type": "markdown",
   "metadata": {
    "hidden": true
   },
   "source": [
    "**NORMAL BY ADDITION.**"
   ]
  },
  {
   "cell_type": "markdown",
   "metadata": {
    "hidden": true
   },
   "source": [
    "A<font color = 'purple'>ny process that adds together random values from the same distribution converges to a normal. But it’s not easy to grasp why addition should result in a bell curve of sums.61 Here’s a conceptual way to think of the process</font>.\n",
    "\n",
    "* Whatever the average value of the source distribution, each sample from it can be thought of as a fluctuation from that average value. When we begin to add these fluctuations together, they also begin to cancel one another out. A large positive fluctuation will cancel a large negative one. \n",
    "\n",
    "\n",
    "* The more terms in the sum, the more chances for each fluctuation to be canceled by another, or by a series of smaller ones in the opposite direction. <font color = 'blue'>So eventually the most likely sum, in the sense that there are the most ways to realize it, will be a sum in which every fluctuation is canceled by another, a sum of zero (relative to the mean)</font>."
   ]
  },
  {
   "cell_type": "markdown",
   "metadata": {
    "hidden": true
   },
   "source": [
    "<font color = 'red'>It doesn’t matter what shape the underlying distribution possesses</font>. It could be uniform,\n",
    "like in our example above, or it could be (nearly) anything else.63 Depending upon the underlying distribution, the convergence might be slow, but it will be inevitable. Often, as in\n",
    "this example, convergence is rapid."
   ]
  },
  {
   "cell_type": "markdown",
   "metadata": {
    "hidden": true
   },
   "source": [
    "**NORMAL BY MULTIPLICATION.**\n",
    "\n",
    "<font color = 'purple'>Here’s another way to get a normal distribution. </font> \n",
    "\n",
    "* Suppose the growth rate of an organism is influenced by a dozen loci, each with several alleles that code for more growth. <font color = 'blue'>Suppose also that all of these loci interact with one another, such that each increase growth by a percentage</font>. This means that their effects multiply, rather than add. For example, we can sample a random growth rate for this example with this line of code:\n",
    "\n"
   ]
  },
  {
   "cell_type": "code",
   "execution_count": 15,
   "metadata": {
    "ExecuteTime": {
     "end_time": "2020-02-12T17:27:12.904873Z",
     "start_time": "2020-02-12T17:27:12.863Z"
    },
    "hidden": true,
    "scrolled": true
   },
   "outputs": [
    {
     "data": {
      "text/html": [
       "1.72180683550324"
      ],
      "text/latex": [
       "1.72180683550324"
      ],
      "text/markdown": [
       "1.72180683550324"
      ],
      "text/plain": [
       "[1] 1.721807"
      ]
     },
     "metadata": {},
     "output_type": "display_data"
    }
   ],
   "source": [
    "prod( 1 + runif(12,0,0.1) )"
   ]
  },
  {
   "cell_type": "markdown",
   "metadata": {
    "hidden": true
   },
   "source": [
    "<font color = 'purple'>This code just samples 12 random numbers between 1.0 and 1.1, each representing a proportional increase in growth. Thus 1.0 means no additional growth and 1.1 means a 10%\n",
    "increase. The product of all 12 is computed and returned as output. Now what distribution\n",
    "do you think these random products will take? Let’s generate 10,000 of them and see:</font>"
   ]
  },
  {
   "cell_type": "code",
   "execution_count": 16,
   "metadata": {
    "ExecuteTime": {
     "end_time": "2020-02-12T17:27:13.763341Z",
     "start_time": "2020-02-12T17:27:13.565Z"
    },
    "hidden": true
   },
   "outputs": [
    {
     "data": {
      "image/png": "[encoded data removed]",
      "text/plain": [
       "Plot with title \"\""
      ]
     },
     "metadata": {
      "image/png": {
       "height": 420,
       "width": 420
      }
     },
     "output_type": "display_data"
    }
   ],
   "source": [
    "growth <- replicate( 10000 , prod( 1 + runif(12,0,0.1) ) )\n",
    "dens( growth , norm.comp=TRUE )\n"
   ]
  },
  {
   "cell_type": "markdown",
   "metadata": {
    "hidden": true
   },
   "source": [
    "The reader should execute this code in R and see that the distribution is approximately nor- mal again. I said normal distributions arise from summing random fluctuations, which is true. But the effect at each locus was multiplied by the effects at all the others, not added. So what’s going on here? We again get convergence towards a normal distribution, because the effect at each lo- cus is quite small. Multipl<font color = 'blue'>ying small numbers is approximately the same as addition.</font> For example, if there are two loci with alleles increasing growth by 10% each, the product is:"
   ]
  },
  {
   "cell_type": "raw",
   "metadata": {
    "hidden": true
   },
   "source": [
    "1.1 * 1.1 = 1.21\n",
    "\n",
    "We could also approximate this product by just adding the increases, and be off by only 0.01:\n",
    "\n",
    "1.1 × 1.1 = (1 + 0.1)(1 + 0.1) = 1 + 0.2 + 0.01 ≈ 1.2"
   ]
  },
  {
   "cell_type": "markdown",
   "metadata": {
    "hidden": true
   },
   "source": [
    "The smaller the effect of each locus, the better this additive approximation will be. In this\n",
    "way, small effects that multiply together are approximately additive, and so they also tend to\n",
    "stabilize on Gaussian distributions. Verify this for yourself by comparing:"
   ]
  },
  {
   "cell_type": "code",
   "execution_count": 17,
   "metadata": {
    "ExecuteTime": {
     "end_time": "2020-02-12T17:27:15.466285Z",
     "start_time": "2020-02-12T17:27:15.113Z"
    },
    "hidden": true
   },
   "outputs": [
    {
     "data": {
      "image/png": "[encoded data removed]",
      "text/plain": [
       "Plot with title \"\""
      ]
     },
     "metadata": {
      "image/png": {
       "height": 420,
       "width": 420
      }
     },
     "output_type": "display_data"
    },
    {
     "data": {
      "image/png": "[encoded data removed]",
      "text/plain": [
       "Plot with title \"\""
      ]
     },
     "metadata": {
      "image/png": {
       "height": 420,
       "width": 420
      }
     },
     "output_type": "display_data"
    }
   ],
   "source": [
    "big <- replicate( 10000 , prod( 1 + runif(12,0,0.5) ) )\n",
    "small <- replicate( 10000 , prod( 1 + runif(12,0,0.01) ) )\n",
    "\n",
    "dens( big , norm.comp=TRUE )\n",
    "dens( small , norm.comp=TRUE )"
   ]
  },
  {
   "cell_type": "markdown",
   "metadata": {
    "hidden": true
   },
   "source": [
    "The interacting growth deviations, as long as they are sufficiently small, converge to a Gauss-\n",
    "ian distribution. In this way, the range of casual forces that tend towards Gaussian distribu-\n",
    "tions extends well beyond purely additive interactions."
   ]
  },
  {
   "cell_type": "markdown",
   "metadata": {
    "hidden": true
   },
   "source": [
    "**NORMAL BY LOG-MULTIPLICATION**\n",
    "\n",
    "But wait, there’s more. Large deviates that are multi-\n",
    "plied together do not produce Gaussian distributions, but they do tend to produce Gaussian\n",
    "distributions on the log scale. For example:"
   ]
  },
  {
   "cell_type": "code",
   "execution_count": 18,
   "metadata": {
    "ExecuteTime": {
     "end_time": "2020-02-12T17:27:16.833436Z",
     "start_time": "2020-02-12T17:27:16.647Z"
    },
    "hidden": true
   },
   "outputs": [
    {
     "data": {
      "image/png": "[encoded data removed]",
      "text/plain": [
       "Plot with title \"\""
      ]
     },
     "metadata": {
      "image/png": {
       "height": 420,
       "width": 420
      }
     },
     "output_type": "display_data"
    }
   ],
   "source": [
    "log.big <- replicate( 10000 , log(prod(1 + runif(12,0,0.5))) )\n",
    "dens( log.big , norm.comp=TRUE )"
   ]
  },
  {
   "cell_type": "markdown",
   "metadata": {
    "hidden": true
   },
   "source": [
    "Yet another Gaussian distribution. We get the Gaussian distribution back, because <font color = 'red'>adding\n",
    "logs is equivalent to multiplying the original numbers. So even multiplicative interactions\n",
    "of large deviations can produce Gaussian distributions, once we measure the outcomes on\n",
    "the log scale</font>. Since measurement scales are arbitrary, there’s nothing suspicious about this\n",
    "transformation. After all, it’s natural to measure sound and earthquakes and even informa-\n",
    "tion (Chapter 6) on a log scale."
   ]
  },
  {
   "cell_type": "markdown",
   "metadata": {
    "hidden": true
   },
   "source": [
    "\n",
    "Probability distributions with only discrete outcomes, like the binomial, are usually called <span style='background-color: lightgreen'>probability mass functions</span> and denoted Pr. Continuous ones like the Gaussian are called <span style='background-color: lightgreen'>probability density functions</span>, denoted with p or just plain old f, depending upon author and tradition."
   ]
  },
  {
   "cell_type": "markdown",
   "metadata": {
    "hidden": true
   },
   "source": [
    "For mathematical reasons, probability densities, but not masses, can be greater than 1. Try dnorm(0,0,0.1), for example, which is the way to make R calculate p(0|0, 0.1). The answer, about 4, is no mistake. "
   ]
  },
  {
   "cell_type": "code",
   "execution_count": 19,
   "metadata": {
    "ExecuteTime": {
     "end_time": "2020-02-12T17:27:18.911149Z",
     "start_time": "2020-02-12T17:27:18.866Z"
    },
    "hidden": true,
    "scrolled": true
   },
   "outputs": [
    {
     "data": {
      "text/html": [
       "3.98942280401433"
      ],
      "text/latex": [
       "3.98942280401433"
      ],
      "text/markdown": [
       "3.98942280401433"
      ],
      "text/plain": [
       "[1] 3.989423"
      ]
     },
     "metadata": {},
     "output_type": "display_data"
    }
   ],
   "source": [
    "dnorm(0,0,0.1)"
   ]
  },
  {
   "cell_type": "markdown",
   "metadata": {
    "hidden": true
   },
   "source": [
    "<font color = 'green'>Probability density is the rate of change in cumulative probability. So where cumulative probability is increasing rapidly, density can easily exceed 1</font>. But if we calculate the area under the density function, it will never exceed 1. Such areas are also called probability mass."
   ]
  },
  {
   "cell_type": "markdown",
   "metadata": {
    "hidden": true
   },
   "source": [
    "You can usually ignore all these density/mass details while doing computational work. In the conceptual parts of this book, I’ll treat them identically. But it’s good to be aware of the distinction. Sometimes the difference matters."
   ]
  },
  {
   "cell_type": "markdown",
   "metadata": {
    "hidden": true
   },
   "source": [
    "<img src='pics/SR_a14.png' alt='Drawing' style='width: 450pt'/>"
   ]
  },
  {
   "cell_type": "markdown",
   "metadata": {
    "hidden": true
   },
   "source": [
    "This form is common in Bayesian data analysis, and Bayesian model fitting software, such as BUGS\n",
    "or JAGS, sometimes requires using τ rather than σ."
   ]
  },
  {
   "cell_type": "markdown",
   "metadata": {
    "heading_collapsed": true
   },
   "source": [
    "## A language for describing models"
   ]
  },
  {
   "cell_type": "markdown",
   "metadata": {
    "hidden": true
   },
   "source": [
    "These numbered items describe the choices that will be encoded in your model description."
   ]
  },
  {
   "cell_type": "markdown",
   "metadata": {
    "hidden": true
   },
   "source": [
    "<img src='pics/SR_a15.png' alt='Drawing' style='width: 450pt'/>"
   ]
  },
  {
   "cell_type": "markdown",
   "metadata": {
    "hidden": true
   },
   "source": [
    "<font color = 'purple'>**Re-describing the globe tossing model**</font>. It’s good to work with examples. Recall the\n",
    "proportion of water problem from previous chapters. The model in that case was always:\n",
    "\n",
    "$w ∼ Binomial(n, p)$\n",
    "\n",
    "$p ∼ Uniform(0, 1)$"
   ]
  },
  {
   "cell_type": "markdown",
   "metadata": {
    "hidden": true
   },
   "source": [
    "* where w was the observed count of water samples, \n",
    "* n was the total number of samples, and \n",
    "* p was the proportion of water on the actual globe. \n",
    "\n",
    "Read the above statement as: \n",
    "> The count w is distributed binomially with sample size n and probability p. The prior for p is assumed to be uniform between zero and one."
   ]
  },
  {
   "cell_type": "markdown",
   "metadata": {
    "hidden": true
   },
   "source": [
    "Once we know the model in this way, we automatically know all of its assumptions. \n",
    "\n",
    "* We know the binomial distribution assumes that each sample (globe toss) is independent of the\n",
    "others, and \n",
    "* so we also know that the model assumes that sample points are independent of one another."
   ]
  },
  {
   "cell_type": "markdown",
   "metadata": {
    "hidden": true
   },
   "source": [
    "For now, we’ll focus on simple models like the above. In these models, the first line de- fines the likelihood function used in Bayes’ theorem. The other lines define priors. Both of the lines in this model are <span style='background-color: lightgreen'>stochastic</span>, as indicated by the <span style='background-color: lightgreen'>∼</span> symbol. \n",
    "* A stochastic relationship is just a mapping of a variable or parameter onto a distribution. It is stochastic because no single instance of the variable on the left is known with certainty. Instead, the mapping is probabilistic: Some values are more plausible than others, but very many different values are plausible under any model. Later, we’ll have models with deterministic definitions in them as well."
   ]
  },
  {
   "cell_type": "markdown",
   "metadata": {
    "hidden": true
   },
   "source": [
    "<img src='pics/SR_a16.png' alt='Drawing' style='width: 450pt'/>"
   ]
  },
  {
   "cell_type": "markdown",
   "metadata": {
    "heading_collapsed": true
   },
   "source": [
    "## A Gaussian model of height"
   ]
  },
  {
   "cell_type": "markdown",
   "metadata": {
    "hidden": true
   },
   "source": [
    "We’ll work through this material by using real sets of data. In this case, we want a single measurement variable to model as a Gaussian distribution. There will be two parameters describing the distribution’s shape, the mean µ and the standard deviation σ. \n",
    "\n",
    "**Bayesian updating will allow us to consider every possible combination of values for µ and σ and to score each combination by its relative plausibility, in light of the data**. These relative plausibilities are the posterior probabilities of each combination of values µ, σ.\n",
    "\n",
    "* Another way to say the above is this. There are an infinite number of possible Gaussian distributions. Some have small means. Others have large means. Some are wide, with a large σ. Others are narrow. <font color = 'blue'>We want our Bayesian machine to consider every possible distribution, each defined by a combination of µ and σ, and rank them by posterior plausibility. Posterior plausibility provides a measure of the logical compatibility of each possible distribution with the data and model</font>."
   ]
  },
  {
   "cell_type": "markdown",
   "metadata": {
    "hidden": true
   },
   "source": [
    "In practice we’ll use approximations to the formal analysis. So we won’t really consider every possible value of µ and σ. But that won’t cost us anything in most cases. <font color = 'blue'>Instead the thing to worry about is keeping in mind that the “estimate” here will be the entire posterior distribution, not any point within it. And as a result, the posterior distribution will be a distribution of Gaussian distributions.</font> Yes, a distribution of distributions. If that doesn’t make sense yet, then that just means you are being honest with yourself. Hold on, work hard, and it will make plenty of sense before long."
   ]
  },
  {
   "cell_type": "markdown",
   "metadata": {
    "heading_collapsed": true,
    "hidden": true
   },
   "source": [
    "### <font color = 'red'>**THE DATA**</font>"
   ]
  },
  {
   "cell_type": "markdown",
   "metadata": {
    "hidden": true
   },
   "source": [
    "The data. The data contained in data(Howell1) are partial census data for the Dobe area !Kung San, compiled from interviews conducted by Nancy Howell in the late 1960s.64 For the non-anthropologists reading along, the !Kung San are the most famous foraging population of the 20th century, largely because of detailed quantitative studies by people like Howell."
   ]
  },
  {
   "cell_type": "raw",
   "metadata": {
    "hidden": true
   },
   "source": [
    "library(rethinking) "
   ]
  },
  {
   "cell_type": "code",
   "execution_count": 20,
   "metadata": {
    "ExecuteTime": {
     "end_time": "2020-02-12T17:27:33.066371Z",
     "start_time": "2020-02-12T17:27:32.980Z"
    },
    "hidden": true
   },
   "outputs": [],
   "source": [
    "data(Howell1)\n",
    "d <- Howell1\n"
   ]
  },
  {
   "cell_type": "markdown",
   "metadata": {
    "hidden": true
   },
   "source": [
    "A data frame is a special kind of object in R. It is a table with named\n",
    "columns, corresponding to variables, and numbered rows, corresponding to individual cases."
   ]
  },
  {
   "cell_type": "code",
   "execution_count": 21,
   "metadata": {
    "ExecuteTime": {
     "end_time": "2020-02-12T17:27:33.806913Z",
     "start_time": "2020-02-12T17:27:33.747Z"
    },
    "hidden": true,
    "scrolled": false
   },
   "outputs": [
    {
     "data": {
      "text/html": [
       "<table>\n",
       "<caption>A data.frame: 6 × 4</caption>\n",
       "<thead>\n",
       "\t<tr><th></th><th scope=col>height</th><th scope=col>weight</th><th scope=col>age</th><th scope=col>male</th></tr>\n",
       "\t<tr><th></th><th scope=col>&lt;dbl&gt;</th><th scope=col>&lt;dbl&gt;</th><th scope=col>&lt;dbl&gt;</th><th scope=col>&lt;int&gt;</th></tr>\n",
       "</thead>\n",
       "<tbody>\n",
       "\t<tr><th scope=row>1</th><td>151.765</td><td>47.82561</td><td>63</td><td>1</td></tr>\n",
       "\t<tr><th scope=row>2</th><td>139.700</td><td>36.48581</td><td>63</td><td>0</td></tr>\n",
       "\t<tr><th scope=row>3</th><td>136.525</td><td>31.86484</td><td>65</td><td>0</td></tr>\n",
       "\t<tr><th scope=row>4</th><td>156.845</td><td>53.04191</td><td>41</td><td>1</td></tr>\n",
       "\t<tr><th scope=row>5</th><td>145.415</td><td>41.27687</td><td>51</td><td>0</td></tr>\n",
       "\t<tr><th scope=row>6</th><td>163.830</td><td>62.99259</td><td>35</td><td>1</td></tr>\n",
       "</tbody>\n",
       "</table>\n"
      ],
      "text/latex": [
       "A data.frame: 6 × 4\n",
       "\\begin{tabular}{r|llll}\n",
       "  & height & weight & age & male\\\\\n",
       "  & <dbl> & <dbl> & <dbl> & <int>\\\\\n",
       "\\hline\n",
       "\t1 & 151.765 & 47.82561 & 63 & 1\\\\\n",
       "\t2 & 139.700 & 36.48581 & 63 & 0\\\\\n",
       "\t3 & 136.525 & 31.86484 & 65 & 0\\\\\n",
       "\t4 & 156.845 & 53.04191 & 41 & 1\\\\\n",
       "\t5 & 145.415 & 41.27687 & 51 & 0\\\\\n",
       "\t6 & 163.830 & 62.99259 & 35 & 1\\\\\n",
       "\\end{tabular}\n"
      ],
      "text/markdown": [
       "\n",
       "A data.frame: 6 × 4\n",
       "\n",
       "| <!--/--> | height &lt;dbl&gt; | weight &lt;dbl&gt; | age &lt;dbl&gt; | male &lt;int&gt; |\n",
       "|---|---|---|---|---|\n",
       "| 1 | 151.765 | 47.82561 | 63 | 1 |\n",
       "| 2 | 139.700 | 36.48581 | 63 | 0 |\n",
       "| 3 | 136.525 | 31.86484 | 65 | 0 |\n",
       "| 4 | 156.845 | 53.04191 | 41 | 1 |\n",
       "| 5 | 145.415 | 41.27687 | 51 | 0 |\n",
       "| 6 | 163.830 | 62.99259 | 35 | 1 |\n",
       "\n"
      ],
      "text/plain": [
       "  height  weight   age male\n",
       "1 151.765 47.82561 63  1   \n",
       "2 139.700 36.48581 63  0   \n",
       "3 136.525 31.86484 65  0   \n",
       "4 156.845 53.04191 41  1   \n",
       "5 145.415 41.27687 51  0   \n",
       "6 163.830 62.99259 35  1   "
      ]
     },
     "metadata": {},
     "output_type": "display_data"
    }
   ],
   "source": [
    "d %>% head()"
   ]
  },
  {
   "cell_type": "code",
   "execution_count": 22,
   "metadata": {
    "ExecuteTime": {
     "end_time": "2020-02-12T17:27:33.887862Z",
     "start_time": "2020-02-12T17:27:33.764Z"
    },
    "hidden": true
   },
   "outputs": [
    {
     "data": {
      "text/html": [
       "<table>\n",
       "<caption>A precis: 4 × 4</caption>\n",
       "<thead>\n",
       "\t<tr><th></th><th scope=col>mean</th><th scope=col>sd</th><th scope=col>5.5%</th><th scope=col>94.5%</th></tr>\n",
       "\t<tr><th></th><th scope=col>&lt;dbl&gt;</th><th scope=col>&lt;dbl&gt;</th><th scope=col>&lt;dbl&gt;</th><th scope=col>&lt;dbl&gt;</th></tr>\n",
       "</thead>\n",
       "<tbody>\n",
       "\t<tr><th scope=row>height</th><td>138.2635963</td><td>27.6024476</td><td>81.108550</td><td>165.73500</td></tr>\n",
       "\t<tr><th scope=row>weight</th><td> 35.6106176</td><td>14.7191782</td><td> 9.360721</td><td> 54.50289</td></tr>\n",
       "\t<tr><th scope=row>age</th><td> 29.3443934</td><td>20.7468882</td><td> 1.000000</td><td> 66.13500</td></tr>\n",
       "\t<tr><th scope=row>male</th><td>  0.4724265</td><td> 0.4996986</td><td> 0.000000</td><td>  1.00000</td></tr>\n",
       "</tbody>\n",
       "</table>\n"
      ],
      "text/latex": [
       "A precis: 4 × 4\n",
       "\\begin{tabular}{r|llll}\n",
       "  & mean & sd & 5.5\\% & 94.5\\%\\\\\n",
       "  & <dbl> & <dbl> & <dbl> & <dbl>\\\\\n",
       "\\hline\n",
       "\theight & 138.2635963 & 27.6024476 & 81.108550 & 165.73500\\\\\n",
       "\tweight &  35.6106176 & 14.7191782 &  9.360721 &  54.50289\\\\\n",
       "\tage &  29.3443934 & 20.7468882 &  1.000000 &  66.13500\\\\\n",
       "\tmale &   0.4724265 &  0.4996986 &  0.000000 &   1.00000\\\\\n",
       "\\end{tabular}\n"
      ],
      "text/markdown": [
       "\n",
       "A precis: 4 × 4\n",
       "\n",
       "| <!--/--> | mean &lt;dbl&gt; | sd &lt;dbl&gt; | 5.5% &lt;dbl&gt; | 94.5% &lt;dbl&gt; |\n",
       "|---|---|---|---|---|\n",
       "| height | 138.2635963 | 27.6024476 | 81.108550 | 165.73500 |\n",
       "| weight |  35.6106176 | 14.7191782 |  9.360721 |  54.50289 |\n",
       "| age |  29.3443934 | 20.7468882 |  1.000000 |  66.13500 |\n",
       "| male |   0.4724265 |  0.4996986 |  0.000000 |   1.00000 |\n",
       "\n"
      ],
      "text/plain": [
       "       mean        sd         5.5%      94.5%    \n",
       "height 138.2635963 27.6024476 81.108550 165.73500\n",
       "weight  35.6106176 14.7191782  9.360721  54.50289\n",
       "age     29.3443934 20.7468882  1.000000  66.13500\n",
       "male     0.4724265  0.4996986  0.000000   1.00000"
      ]
     },
     "metadata": {},
     "output_type": "display_data"
    }
   ],
   "source": [
    "precis(d, hist=FALSE)"
   ]
  },
  {
   "cell_type": "code",
   "execution_count": 23,
   "metadata": {
    "ExecuteTime": {
     "end_time": "2020-02-12T17:27:34.195673Z",
     "start_time": "2020-02-12T17:27:33.779Z"
    },
    "hidden": true
   },
   "outputs": [
    {
     "data": {
      "image/png": "[encoded data removed]",
      "text/plain": [
       "Plot with title \"Histogram of .\""
      ]
     },
     "metadata": {
      "image/png": {
       "height": 420,
       "width": 420
      }
     },
     "output_type": "display_data"
    },
    {
     "data": {
      "image/png": "[encoded data removed]",
      "text/plain": [
       "Plot with title \"Histogram of .\""
      ]
     },
     "metadata": {
      "image/png": {
       "height": 420,
       "width": 420
      }
     },
     "output_type": "display_data"
    },
    {
     "data": {
      "image/png": "[encoded data removed]",
      "text/plain": [
       "Plot with title \"Histogram of .\""
      ]
     },
     "metadata": {
      "image/png": {
       "height": 420,
       "width": 420
      }
     },
     "output_type": "display_data"
    },
    {
     "data": {
      "image/png": "[encoded data removed]",
      "text/plain": [
       "Plot with title \"Histogram of .\""
      ]
     },
     "metadata": {
      "image/png": {
       "height": 420,
       "width": 420
      }
     },
     "output_type": "display_data"
    }
   ],
   "source": [
    "d$height %>% hist()\n",
    "d$weight %>% hist()\n",
    "d$age %>% hist()\n",
    "d$male %>% hist()"
   ]
  },
  {
   "cell_type": "markdown",
   "metadata": {
    "hidden": true
   },
   "source": [
    "In this example, the cases are individuals. Inspect the <span style='background-color: lightgreen'>structure</span> of the data frame, the same\n",
    "way you’d inspect the structure of any symbol in R:"
   ]
  },
  {
   "cell_type": "code",
   "execution_count": null,
   "metadata": {
    "ExecuteTime": {
     "start_time": "2020-02-12T17:27:34.647Z"
    },
    "hidden": true
   },
   "outputs": [],
   "source": [
    "str(d)"
   ]
  },
  {
   "cell_type": "code",
   "execution_count": null,
   "metadata": {
    "ExecuteTime": {
     "start_time": "2020-02-12T17:27:34.666Z"
    },
    "hidden": true
   },
   "outputs": [],
   "source": [
    "d$weight %>% head()\n",
    "d[[\"weight\"]] %>% head()\n",
    "d[[2]] %>% head()"
   ]
  },
  {
   "cell_type": "markdown",
   "metadata": {
    "hidden": true
   },
   "source": [
    "<font color = 'lightgrey'>**Overthinking**: Data frames. It might seem like this whole data frame thing is kind of annoying, right\n",
    "now. If we’re working with only one column here, why bother with this d thing at all? You don’t have\n",
    "to use a data frame, as you can just pass raw vectors to every command we’ll use in this book. But\n",
    "keeping related variables in the same data frame is a huge convenience. Once we have more than one\n",
    "variable, and we wish to model one as a function of the others, you’ll better see the value of the data\n",
    "frame. You won’t have to wait long.\n",
    "\n",
    "\n",
    "More technically, a data frame is a special kind of list in R. So you access the individual variables\n",
    "with the usual list “double bracket” notation, like d[[1]] for the first variable or d[['x']] for the\n",
    "variable named x. Unlike regular lists, however, data frames force all variables to have the same length.\n",
    "That isn’t always a good thing. And that’s why some statistical packages, like the powerful Stan Markov\n",
    "chain sampler (mc-stan.org), accept plain lists of data, rather than proper data frames.</font>"
   ]
  },
  {
   "cell_type": "markdown",
   "metadata": {
    "hidden": true
   },
   "source": [
    "All we want for now are heights of adults in the sample. The reason to filter out non-\n",
    "adults for now is that height is strongly correlated with age, before adulthood. Later in the\n",
    "chapter, I’ll ask you to tackle the age problem. But for now, better to postpone it. You can\n",
    "filter the data frame down to individuals of age 18 or greater with:"
   ]
  },
  {
   "cell_type": "code",
   "execution_count": null,
   "metadata": {
    "ExecuteTime": {
     "start_time": "2020-02-12T17:27:36.278Z"
    },
    "code_folding": [],
    "hidden": true
   },
   "outputs": [],
   "source": [
    "d2 <- d[ d$age >= 18 , ]; d2 %>% str()"
   ]
  },
  {
   "cell_type": "code",
   "execution_count": null,
   "metadata": {
    "ExecuteTime": {
     "start_time": "2020-02-12T17:27:36.294Z"
    },
    "hidden": true
   },
   "outputs": [],
   "source": [
    "d %>% filter(age >= 18) %>% str()"
   ]
  },
  {
   "cell_type": "markdown",
   "metadata": {
    "heading_collapsed": true,
    "hidden": true
   },
   "source": [
    "### <font color = 'red'>**THE MODEL**</font>"
   ]
  },
  {
   "cell_type": "markdown",
   "metadata": {
    "hidden": true
   },
   "source": [
    "Our goal is to model these values using a Gaussian distribution. First, go ahead and plot the distribution of heights, with dens(d2$height). These data look rather Gaussian in shape, as is typical of height data. This may be because height is a sum of many small growth factors. As you saw at the start of the chapter, a distribution of sums tends to converge to a Gaussian distribution. Whatever the reason, adult heights are nearly always approximately normal."
   ]
  },
  {
   "cell_type": "code",
   "execution_count": null,
   "metadata": {
    "ExecuteTime": {
     "start_time": "2020-02-12T17:27:38.052Z"
    },
    "cell_style": "center",
    "hidden": true
   },
   "outputs": [],
   "source": [
    "d2$height %>% dens()"
   ]
  },
  {
   "cell_type": "raw",
   "metadata": {
    "ExecuteTime": {
     "end_time": "2020-01-13T06:51:28.116513Z",
     "start_time": "2020-01-13T06:51:27.597Z"
    },
    "hidden": true
   },
   "source": [
    "help(curve)"
   ]
  },
  {
   "cell_type": "markdown",
   "metadata": {
    "cell_style": "center",
    "hidden": true
   },
   "source": [
    "So it’s reasonable for the moment to adopt the stance that the model’s likelihood should be Gaussian. <font color = 'red'>But be careful about choosing the Gaussian distribution only when the plotted outcome variable looks Gaussian to you.</font> Gawking at the raw data, to try to decide how to model them, is usually not a good idea. The data could be a mixture of different Gaussian distributions, for example, and in that case you won’t be able to detect the underlying normality just by eyeballing the outcome distribution. Furthermore, as mentioned earlier in this chapter, the empirical distribution needn’t be actually Gaussian in order to justify using a Gaussian likelihood."
   ]
  },
  {
   "cell_type": "markdown",
   "metadata": {
    "cell_style": "center",
    "hidden": true
   },
   "source": [
    "So which Gaussian distribution? There are an infinite number of them, with an infinite number of different means and standard deviations. We’re ready to write down the general model and compute the plausibility of each combination of µ and σ. <font color = 'green'>To define the heights as normally distributed with a mean µ and standard deviation σ, we write:\n",
    "\n",
    "$h_i \\sim Normal(\\mu,\\sigma)$</font>"
   ]
  },
  {
   "cell_type": "markdown",
   "metadata": {
    "hidden": true
   },
   "source": [
    "In many books you’ll see the same model written as $h_i ∼ N (µ, σ)$, which means the same thing. \n",
    "\n",
    "* The symbol h refers to the list of heights, and the subscript i means each individual element of this list. \n",
    "\n",
    "It is conventional to use i because it stands for index. The index i takes on row numbers, and so in this example can take any value from 1 to 352 (the number of heights in d2$height). As such, the model above is saying that all the golem knows about each height measurement is defined by the same normal distribution, with mean µ and standard deviation σ. Before long, those little i’s are going to show up on the right-hand side of the model definition, and you’ll be able to see why we must bother with them. So don’t ignore the i, even if it seems like useless ornamentation right now."
   ]
  },
  {
   "cell_type": "markdown",
   "metadata": {
    "hidden": true
   },
   "source": [
    "<font color = 'lightgrey'>**Rethinking**: Independent and identically distributed. The short model above is sometimes described as assuming that the values $h_i$ are independent and identically distributed, which may be abbreviated i.i.d., iid, or IID. You might even see the same model written: \n",
    "\n",
    "$h_i \\overset{iid}{\\sim}$ Normal(µ, σ). \n",
    "\n",
    "* “iid” indicates that each value $h_i$ has the same probability function, independent of the other h values and using the same parameters. \n",
    "\n",
    "A moment’s reflection tells us that this is hardly ever true, in a physical sense. Whether measuring the same distance repeatedly or studying a population of heights, it is hard to argue that every measurement is independent of the others. \n",
    "\n",
    "* <font color = 'lightgrey'>For example, heights within families are correlated because of alleles shared through recent shared ancestry. </font>\n",
    "\n",
    "The i.i.d. assumption doesn’t have to seem awkward, however, as long as you remember that probability is inside the golem, not outside in the world. \n",
    "* The i.i.d. assumption is about how the golem represents its uncertainty. It is an epistemological assumption. It is not a physical assumption about the world, an ontological one, unless you insist that it is. <font color = 'lightgrey'>E. T. Jaynes (1922–1998) called this the mind projection fallacy, the mistake of confusing epistemological claims with ontological claims.</font> \n",
    "\n",
    "* The point isn’t to say epistemology trumps reality, but rather that in ignorance of such correlations the most conservative distribution to use is i.i.d. \n",
    "\n",
    "This issue will return in Chapter 9. Furthermore, there is a mathematical result known as de Finetti’s theorem that tells us that values which are exchangeable can be approximated by mixtures of i.i.d. distributions. Colloquially, exchangeable values can be reordered. The practical impact of this is that “i.i.d.” as an assumption cannot be read too literally, as different process models again correspond to the same statistical model (as argued in Chapter 1). Even furthermore, there are many types of correlation that do little or nothing to the overall shape of a distribution, but only affect the precise sequence in which values appear. For example, pairs of sisters have highly correlated heights. But the overall distribution of female height remains almost perfectly normal. In such cases, i.i.d. remains perfectly useful, despite ignoring the correlations. Consider for example that Markov chain Monte Carlo (Chapter 8) can use highly correlated sequential samples to estimate most any iid distribution we like.</font>"
   ]
  },
  {
   "cell_type": "markdown",
   "metadata": {
    "hidden": true
   },
   "source": [
    "To complete the model, we’re going to need some priors. <font color = 'green'>The parameters to be estimated are both µ and σ, so we need a prior Pr(µ, σ), the joint prior probability for all parameters</font>. In most cases, priors are specified independently for each parameter, which amounts to assuming Pr(µ, σ) = Pr(µ) Pr(σ). Then we can write:\n",
    "\n",
    "$h_i$ ∼ Normal(µ, σ) [likelihood]\n",
    "\n",
    "µ ∼ Normal(178, 20) [µ prior]\n",
    "\n",
    "σ ∼ Uniform(0, 50) [σ prior]"
   ]
  },
  {
   "cell_type": "markdown",
   "metadata": {
    "hidden": true
   },
   "source": [
    "The labels on the right are not part of the model, but instead just notes to help you keep track\n",
    "of the purpose of each line. The prior for µ is a broad Gaussian prior, centered on 178cm,\n",
    "with 95% of probability between 178 ± 40."
   ]
  },
  {
   "cell_type": "markdown",
   "metadata": {
    "hidden": true
   },
   "source": [
    "Why 178 cm? Your author is 178 cm tall. And the range from 138 cm to 218 cm encompasses a huge range of plausible mean heights for human populations. So domain-specific information has gone into this prior. Everyone knows something about human height and can set a reasonable and vague prior of this kind. But in many regression problems, as you’ll see later, using prior information is more subtle, because parameters don’t always have such clear physical meaning."
   ]
  },
  {
   "cell_type": "markdown",
   "metadata": {
    "hidden": true
   },
   "source": [
    "Whatever the prior, it’s a very good idea to plot your priors, so you have a sense of the\n",
    "assumption they build into the model. In this case:"
   ]
  },
  {
   "cell_type": "code",
   "execution_count": null,
   "metadata": {
    "ExecuteTime": {
     "start_time": "2020-02-12T17:27:46.513Z"
    },
    "cell_style": "center",
    "hidden": true
   },
   "outputs": [],
   "source": [
    " curve( dnorm( x , 178 , 20 ) , from=100 , to=250 )"
   ]
  },
  {
   "cell_type": "markdown",
   "metadata": {
    "cell_style": "center",
    "hidden": true
   },
   "source": [
    "Execute that code yourself, to see that the golem is assuming that the average height (not\n",
    "each individual height) is almost certainly between 140 cm and 220 cm. So this prior carries\n",
    "a little information, but not a lot. The σ prior is a truly flat prior, a uniform one, that functions\n",
    "just to constrain σ to have positive probability between zero and 50cm. View it with:"
   ]
  },
  {
   "cell_type": "code",
   "execution_count": null,
   "metadata": {
    "ExecuteTime": {
     "start_time": "2020-02-12T17:27:47.889Z"
    },
    "cell_style": "center",
    "hidden": true
   },
   "outputs": [],
   "source": [
    "curve( dunif( x , 0 , 50 ) , from=-10 , to=60 )"
   ]
  },
  {
   "cell_type": "markdown",
   "metadata": {
    "hidden": true
   },
   "source": [
    "A standard deviation like σ must be positive, so bounding it at zero makes sense. <font color = 'purple'>How should we pick the upper bound?</font> \n",
    "\n",
    "In this case, a standard deviation of 50cm would imply that 95% of individual heights lie within 100cm of the average height. That’s a very large range. \n",
    "\n",
    "All this talk is nice, but it’ll help to really see what these priors imply about the distribution of individual heights. You didn’t specify a prior probability distribution of heights directly, but once you’ve chosen priors for µ and σ, these imply a prior distribution of individual heights. You can quickly simulate heights by sampling from the prior, like you sampled from the posterior back in Chapter 3. <font color = 'blue'>Remember, every posterior is also potentially a prior for a subsequent analysis, so you can process priors just like posteriors.</font>"
   ]
  },
  {
   "cell_type": "code",
   "execution_count": null,
   "metadata": {
    "ExecuteTime": {
     "start_time": "2020-02-12T17:27:49.089Z"
    },
    "cell_style": "center",
    "hidden": true
   },
   "outputs": [],
   "source": [
    "sample_mu <- rnorm( 1e4 , 178 , 20 ) \n",
    "sample_sigma <- runif( 1e4 , 0 , 50 )\n",
    "prior_h <- rnorm( 1e4 , sample_mu , sample_sigma )\n",
    "# prior_h <- sample 10,000 values from 10,000 different distributions\n",
    "dens( prior_h )\n",
    "\n",
    "simplehist(prior_h)\n",
    "prior_h %>% hist()"
   ]
  },
  {
   "cell_type": "markdown",
   "metadata": {
    "hidden": true
   },
   "source": [
    "dens( prior_h ) is not a normal distribution. <font color = 'blue'>It's more akin to a T-distribution because you have uncertainty about the standard deviation so you get these fat tails</font>."
   ]
  },
  {
   "cell_type": "code",
   "execution_count": null,
   "metadata": {
    "ExecuteTime": {
     "start_time": "2020-02-12T17:27:50.254Z"
    },
    "hidden": true
   },
   "outputs": [],
   "source": [
    "sample_mu %>% glimpse\n",
    "sample_sigma %>% glimpse\n",
    "prior_h %>% glimpse"
   ]
  },
  {
   "cell_type": "code",
   "execution_count": null,
   "metadata": {
    "ExecuteTime": {
     "start_time": "2020-02-12T17:27:50.271Z"
    },
    "hidden": true
   },
   "outputs": [],
   "source": [
    "rnorm(4, c(0,10), c(1,1))"
   ]
  },
  {
   "cell_type": "code",
   "execution_count": null,
   "metadata": {
    "ExecuteTime": {
     "start_time": "2020-02-12T17:27:50.289Z"
    },
    "hidden": true
   },
   "outputs": [],
   "source": [
    "# consequence of too wide a prior\n",
    "sample_mu <- rnorm( 1e4 , 178 , 100 ) \n",
    "prior_h <- rnorm( 1e4 , sample_mu , sample_sigma )\n",
    "dens( prior_h ); abline(v=0, col='red')"
   ]
  },
  {
   "cell_type": "code",
   "execution_count": null,
   "metadata": {
    "ExecuteTime": {
     "start_time": "2020-02-12T17:27:50.306Z"
    },
    "cell_style": "split",
    "hidden": true
   },
   "outputs": [],
   "source": [
    "hist(sample_mu)"
   ]
  },
  {
   "cell_type": "markdown",
   "metadata": {
    "hidden": true
   },
   "source": [
    "<font color = 'lightgrey'>dnorm gives the density, pnorm gives the distribution function, qnorm gives the quantile function, and rnorm generates random deviates.</font>\n",
    "\n",
    "<font color = 'lightgrey'>These functions provide information about the uniform distribution on the interval from min to max.  dunif gives the density, punif gives the distribution function qunif gives the quantile function and runif generates random deviates.</font>"
   ]
  },
  {
   "cell_type": "markdown",
   "metadata": {
    "hidden": true
   },
   "source": [
    "The density plot you get shows a vaguely bell-shaped density with thick tails. It is the expected distribution of heights, averaged over the prior. Notice that the prior probability distribution of height is not itself Gaussian. This is okay. The distribution you see is not an empirical expectation, but rather the distribution of relative plausibilities of different heights, before seeing the data. \n",
    "\n",
    "Play around with the numbers in the priors above, to explore their effects on the prior probability density of heights."
   ]
  },
  {
   "cell_type": "markdown",
   "metadata": {
    "hidden": true
   },
   "source": [
    "<img src='pics/SR_a17.png' alt='Drawing' style='width: 450pt'/>"
   ]
  },
  {
   "cell_type": "markdown",
   "metadata": {
    "hidden": true
   },
   "source": [
    "<img src='pics/SR_a20.png' alt='Drawing' style='width: 450pt'/>"
   ]
  },
  {
   "cell_type": "markdown",
   "metadata": {
    "hidden": true
   },
   "source": [
    "<img src='pics/SR_a19.png' alt='Drawing' style='width: 450pt'/>"
   ]
  },
  {
   "cell_type": "markdown",
   "metadata": {
    "hidden": true
   },
   "source": [
    "### <font color = 'red'>**GRID APPROXIMATION OF THE POSTERIOR DISTRIBUTION**</font>"
   ]
  },
  {
   "cell_type": "markdown",
   "metadata": {
    "hidden": true
   },
   "source": [
    "<font color = 'lightgrey'>Since this is the first Gaussian model in the book, and indeed the first model with more than one parameter, it’s worth quickly mapping out the posterior distribution through brute force calculations. This isn’t the approach I encourage in any other place, because it is laborious and computationally expensive. Indeed, it is usually so impractical as to be essentially impossible. But as always, it is worth knowing what the target actually looks like, before you start accepting approximations of it. A little later in this chapter, you’ll use quadratic approximation to estimate the posterior distribution, and that’s the approach you’ll use for several chapters more. Once you have the samples you’ll produce in this subsection, you can compare them to the quadratic approximation in the next.\n",
    "\n",
    "Unfortunately, doing the calculations here requires some technical tricks that add little, if any, conceptual insight. So I’m going to present the code here without explanation. You can execute it and keep going for now, but later return and follow the endnote for an explanation of the algorithm.67 For now, here are the guts of the golem:</font>"
   ]
  },
  {
   "cell_type": "code",
   "execution_count": null,
   "metadata": {
    "ExecuteTime": {
     "start_time": "2020-02-12T17:27:57.464Z"
    },
    "hidden": true
   },
   "outputs": [],
   "source": [
    "mu.list <- seq(from=1 , to=10 , length.out=200)\n",
    "sigma.list <- seq(from=4 , to=9 , length.out=200)\n",
    "post <- expand.grid(mu=mu.list , sigma=sigma.list)\n",
    "post"
   ]
  },
  {
   "cell_type": "code",
   "execution_count": null,
   "metadata": {
    "ExecuteTime": {
     "start_time": "2020-02-12T17:27:57.481Z"
    },
    "code_folding": [],
    "hidden": true
   },
   "outputs": [],
   "source": [
    "#1\n",
    "mu.list <- seq(from=140 , to=160 , length.out=200)\n",
    "\n",
    "#2\n",
    "sigma.list <- seq(from=4 , to=9 , length.out=200)\n",
    "\n",
    "#3\n",
    "post <- expand.grid(mu=mu.list , sigma=sigma.list)\n",
    "# creates list of unique combinations of mu.list and sigma.list items\n",
    "# size = 200*200\n",
    "\n",
    "# post %>% head()\n",
    "# post %>% str()\n",
    "# post %>% summary()\n",
    "\n",
    "#4: calc log-likelihood at each combination of µ and σ\n",
    "#   log-likelihood: magnitude of plausibility\n",
    "#   calculates densities for all 352 height points with every\n",
    "#   combination of mu and sigma, then sums them all. \n",
    "#   Combinations of mu and sigma that are more aligned with 352 points\n",
    "#   are given higher likelihood.\n",
    "\n",
    "#   dnorm gives the prob density (height of points in\n",
    "#   distribution implied by mu and sigma)\n",
    "#   \n",
    "\n",
    "post$LL <- sapply(1:nrow(post) , function(i) \n",
    "                sum( \n",
    "                    dnorm(d2$height, \n",
    "                          mean=post$mu[i], sd=post$sigma[i], \n",
    "                          log=TRUE)\n",
    "                )\n",
    "            ) \n",
    "\n",
    "#5: multiply the prior by the likelihood to get the product \n",
    "#   that is proportional to the posterior density.\n",
    "\n",
    "post$prod <- post$LL + dnorm( post$mu , 178 , 20 , TRUE ) + \n",
    "    dunif( post$sigma , 0 , 50 , TRUE )\n",
    "\n",
    "post$prob <- exp( post$prod - max(post$prod) )"
   ]
  },
  {
   "cell_type": "code",
   "execution_count": null,
   "metadata": {
    "ExecuteTime": {
     "start_time": "2020-02-12T17:27:57.510Z"
    },
    "hidden": true
   },
   "outputs": [],
   "source": [
    "dunif( post$sigma %>% head() , 0 , 50 , TRUE )\n",
    "dunif( post$sigma %>% head() , 0 , 50 )\n",
    "\n",
    "dnorm( post$mu %>% head(), 178 , 20 , TRUE )\n",
    "dnorm( post$mu %>% head(), 178 , 20 )"
   ]
  },
  {
   "cell_type": "code",
   "execution_count": null,
   "metadata": {
    "ExecuteTime": {
     "start_time": "2020-02-12T17:27:57.525Z"
    },
    "hidden": true
   },
   "outputs": [],
   "source": [
    " dnorm(c(0,0,0),mean=c(0,10), sd=c(1,1))"
   ]
  },
  {
   "cell_type": "code",
   "execution_count": null,
   "metadata": {
    "ExecuteTime": {
     "start_time": "2020-02-12T17:27:57.542Z"
    },
    "hidden": true
   },
   "outputs": [],
   "source": [
    " dnorm(c(0,1,2,4,2),mean=c(0), sd=c(1))"
   ]
  },
  {
   "cell_type": "markdown",
   "metadata": {
    "heading_collapsed": true,
    "hidden": true
   },
   "source": [
    "###### Dnorm deconstruction"
   ]
  },
  {
   "cell_type": "markdown",
   "metadata": {
    "hidden": true
   },
   "source": [
    "probability density function for a standard normal distribution is\n",
    "$f(x|\\mu,\\sigma) = \\frac{1}{\\sigma\\sqrt{2\\pi}}e^{-\\frac{(x-\\mu)^2}{2\\sigma^2}}$\n",
    "\n",
    "<br> The function ```dnorm``` returns the value of the probability density function for the normal distribution given parameters for x, μ, and σ. \n",
    "https://www.cyclismo.org/tutorial/R/probability.html\n",
    "* <font color = 'blue'>Given a set of values it returns the height of the probability distribution at each point.</font> \n",
    "\n",
    "* If you only give the points it assumes you want to use a mean of zero and standard deviation of one.\n",
    "\n",
    "\n",
    "In line 4, we're taking the gaussian distribution implied by each combination of mu and sigma, and getting the heights of the probability distribution at each point, then summing them on the log scale—which is the same as multiplying the probabilities together on the normal scale (log scale avoids rounding problems). \n"
   ]
  },
  {
   "cell_type": "code",
   "execution_count": null,
   "metadata": {
    "ExecuteTime": {
     "start_time": "2020-02-12T17:27:59.816Z"
    },
    "code_folding": [
     0
    ],
    "hidden": true
   },
   "outputs": [],
   "source": [
    "# dnorm deconstruction\n",
    "\n",
    "# v <- c(0,1,2); dnorm(v)\n",
    "# curve( exp( -x^2 ) , from=-3 , to=3 ) # gaussian prototype\n",
    "\n",
    "\n",
    "# https://stats.stackexchange.com/questions/157662/rnorm-vs-dnorm-in-r\n",
    "\n",
    "density_standard_norm <- function(x)\n",
    "{\n",
    "1/sqrt(2*pi)*exp(-0.5*x^2)\n",
    "}\n",
    "\n",
    "dnorm(1, mean = 0, sd = 1)\n",
    "density_standard_norm(1)\n",
    "\n",
    "dnorm(c(2,3), mean = 0, sd = 1)\n",
    "density_standard_norm(2) "
   ]
  },
  {
   "cell_type": "raw",
   "metadata": {
    "collapsed": true,
    "hidden": true
   },
   "source": [
    "post$prob %>% sum()\n",
    "post %>% head()\n",
    "post %>% str()\n",
    "post %>% summary()"
   ]
  },
  {
   "cell_type": "markdown",
   "metadata": {
    "heading_collapsed": true,
    "hidden": true
   },
   "source": [
    "##### <font color = 'blue'>Code Explained</font>"
   ]
  },
  {
   "cell_type": "markdown",
   "metadata": {
    "hidden": true
   },
   "source": [
    "(footnote 67) The strategy is the same grid approximation strategy as before (page 39). But now there are two dimensions, and so there is a geometric (literally) increase in bother. <font color = 'lightgrey'>The algorithm is mercifully short, however, if not transparent</font>. Think of the code as being six distinct commands. \n",
    "\n",
    "The **FIRST** two lines of code just establish the range of µ and σ values, respectively, to calculate over, as well as how many points to calculate in-between. \n",
    "\n",
    "\n",
    "<font color = 'blue'>The **THIRD** line of code expands those chosen µ and σ values into a matrix of all of the combinations of µ and σ. This matrix is stored in a data frame, post</font>. \n",
    "\n",
    "\n",
    "<font color = 'blue'> In the **FOURTH** line of code the log-likelihood at each combination of µ and σ is computed</font> (shown in expanded form to make it easier to read). \n",
    "\n",
    "This line looks so awful, because we have to be careful here to do everything on the <span style='background-color: lightyellow'>log scale</span>. <font color = 'red'>Otherwise rounding error will quickly make all of the posterior probabilities zero</font>.\n",
    "\n",
    "* Taking the log not only simplifies the subsequent mathematical analysis, but it also helps numerically because the product of a large number of small probabilities can easily underflow the numerical precision of the computer, and this is resolved by computing instead the sum of the log probabilities. https://math.stackexchange.com/questions/892832/why-we-consider-log-likelihood-instead-of-likelihood-in-gaussian-distribution\n",
    "\n",
    " \n",
    "\n",
    "* So what <b>sapply</b> does is <font color = 'blue'><span style='background-color: lightyellow'><b>pass the unique combination of µ and σ on each row</b></span> of post to a <b>function</b> that <span style='background-color: lightyellow'><b><b>computes</b></b></span> the <span style='background-color: lightyellow'><b>log-likelihood</b></span> of each observed <b>height</b>, and <b>adds</b> all of these <b>log-likelihoods together</b> (sum)</font>. \n",
    "    \n",
    "    \n",
    "In the **<span style='background-color: lightyellow'>FIFTH</span>** line, we multiply the prior by the likelihood to get the product that is proportional to the posterior density. The priors are also on the log scale, and so we add them to the log-likelihood, which is equivalent to multiplying the raw densities by the likelihood. \n",
    "\n",
    "\n",
    "Finally, the obstacle for getting back on the probability scale is that rounding error is always a threat when moving from log-probability to probability. If you use the obvious approach, like `exp( post$prod )`, you’ll get a vector full of zeros, which isn’t very helpful. \n",
    "* <font color = 'red'>This is a result of R’s rounding very small probabilities to zero</font>. Remember, in large samples, all unique samples are unlikely. This is why you have to work with log-probability. The code in the box dodges this problem by scaling all of the log-products by the maximum log-product. As a result, the values in `post$prob` are not all zero, but they also aren’t exactly probabilities. Instead they are relative posterior probabilities. But that’s good enough for what we wish to do with these values"
   ]
  },
  {
   "cell_type": "markdown",
   "metadata": {
    "heading_collapsed": true,
    "hidden": true
   },
   "source": [
    "##### 2-D Posterior Distribution of mu and sigma"
   ]
  },
  {
   "cell_type": "markdown",
   "metadata": {
    "hidden": true
   },
   "source": [
    "You can inspect this posterior distribution, now residing in post$prob, using a variety of\n",
    "plotting commands. You can get a simple contour plot with:"
   ]
  },
  {
   "cell_type": "code",
   "execution_count": null,
   "metadata": {
    "ExecuteTime": {
     "start_time": "2020-02-12T17:28:04.116Z"
    },
    "cell_style": "split",
    "hidden": true,
    "scrolled": true
   },
   "outputs": [],
   "source": [
    "contour_xyz(post$mu , \n",
    "            post$sigma , \n",
    "            post$prob,\n",
    "            xlim = c(153,156), ylim = c(7,9)  )"
   ]
  },
  {
   "cell_type": "code",
   "execution_count": null,
   "metadata": {
    "ExecuteTime": {
     "start_time": "2020-02-12T17:28:04.133Z"
    },
    "cell_style": "split",
    "hidden": true
   },
   "outputs": [],
   "source": [
    "image_xyz(post$mu , \n",
    "          post$sigma , \n",
    "          post$prob, \n",
    "          xlim = c(153,156), ylim = c(7,8.5)  )"
   ]
  },
  {
   "cell_type": "markdown",
   "metadata": {
    "hidden": true
   },
   "source": [
    "The functions contour_xyz and image_xyz are both in the rethinking package."
   ]
  },
  {
   "cell_type": "markdown",
   "metadata": {
    "hidden": true
   },
   "source": [
    "> <font color = 'blue'>At each combination of mu and sigma on the grid (sparseness we define) we compute the posterior distribution using bayes rule: \n",
    "* multiply (the probability of the observed height conditional on the Mew and sigma at that point) x (the prior probability of that Mu and the prior probability of that sigma). </font>"
   ]
  },
  {
   "cell_type": "markdown",
   "metadata": {
    "heading_collapsed": true,
    "hidden": true
   },
   "source": [
    "### Sampling from the posterior"
   ]
  },
  {
   "cell_type": "markdown",
   "metadata": {
    "heading_collapsed": true,
    "hidden": true
   },
   "source": [
    "###### C3_reminder"
   ]
  },
  {
   "cell_type": "markdown",
   "metadata": {
    "hidden": true
   },
   "source": [
    "<img src='pics/SR_z35.png' alt='Drawing' style='width:425pt'/>"
   ]
  },
  {
   "cell_type": "code",
   "execution_count": null,
   "metadata": {
    "ExecuteTime": {
     "start_time": "2020-02-12T17:28:08.770Z"
    },
    "hidden": true
   },
   "outputs": [],
   "source": [
    "p_grid <- seq( from=0 , to=1 , length.out=1000 )\n",
    "prior <- rep(1,1000)\n",
    "likelihood <- dbinom( 3 , size=3 , prob=p_grid )\n",
    "posterior <- likelihood * prior\n",
    "posterior <- posterior / sum(posterior)\n",
    "samples <- sample( p_grid , size=1e4 , replace=TRUE , prob=posterior )\n",
    "\n",
    "# All you need to propagate parameter uncertainty into these \n",
    "# predictions is replace the value 0.6 with samples from the posterior:\n",
    "w <- rbinom( 1e4 , size=9 , prob=samples )"
   ]
  },
  {
   "cell_type": "code",
   "execution_count": null,
   "metadata": {
    "ExecuteTime": {
     "start_time": "2020-02-12T17:28:08.786Z"
    },
    "hidden": true,
    "scrolled": true
   },
   "outputs": [],
   "source": [
    "w %>% str()"
   ]
  },
  {
   "cell_type": "code",
   "execution_count": null,
   "metadata": {
    "ExecuteTime": {
     "start_time": "2020-02-12T17:28:08.812Z"
    },
    "hidden": true
   },
   "outputs": [],
   "source": [
    "w %>% hist"
   ]
  },
  {
   "cell_type": "markdown",
   "metadata": {
    "hidden": true
   },
   "source": [
    "For each sampled value, a random binomial observation is generated. Since the sampled values appear in proportion to their posterior probabilities, the resulting simulated observations are averaged over the posterior"
   ]
  },
  {
   "cell_type": "markdown",
   "metadata": {
    "heading_collapsed": true,
    "hidden": true
   },
   "source": [
    "##### C4_sampling from the posterior"
   ]
  },
  {
   "cell_type": "markdown",
   "metadata": {
    "hidden": true
   },
   "source": [
    "To study this posterior distribution in more detail,\n",
    "again I’ll push the flexible approach of sampling parameter values from it. This works just\n",
    "like it did in Chapter 3, when you sampled values of p from the posterior distribution for\n",
    "the globe tossing example. \n",
    "\n",
    "<font color = 'blue'>The only new trick is that since there are two parameters, and we want to sample combinations of them</font>, we first randomly sample row numbers in post in proportion to the values in `post$prob`. Then we pull out the parameter values on those randomly sampled rows. This code will do it:"
   ]
  },
  {
   "cell_type": "code",
   "execution_count": null,
   "metadata": {
    "ExecuteTime": {
     "start_time": "2020-02-12T17:28:11.592Z"
    },
    "hidden": true
   },
   "outputs": [],
   "source": [
    "sample.rows  <- sample( 1:nrow(post) , size=1e4 , \n",
    "                      replace=TRUE , prob=post$prob )\n",
    "sample.mu    <- post$mu[ sample.rows ]\n",
    "sample.sigma <- post$sigma[ sample.rows ]"
   ]
  },
  {
   "cell_type": "markdown",
   "metadata": {
    "hidden": true
   },
   "source": [
    "You end up with 10,000 samples, with replacement, from the posterior for the height data.\n",
    "Take a look at these samples:"
   ]
  },
  {
   "cell_type": "code",
   "execution_count": null,
   "metadata": {
    "ExecuteTime": {
     "start_time": "2020-02-12T17:28:12.537Z"
    },
    "cell_style": "center",
    "hidden": true
   },
   "outputs": [],
   "source": [
    "plot( sample.mu , sample.sigma , \n",
    "     cex=0.5 , pch=16 , col=col.alpha(rangi2,0.1) )"
   ]
  },
  {
   "cell_type": "markdown",
   "metadata": {
    "cell_style": "center",
    "hidden": true
   },
   "source": [
    "I reproduce this plot in Figure 4.3. Note that the function col.alpha is part of the rethinking R package. All it does is make colors transparent, which helps the plot in Figure 4.3 more easily show density, where samples overlap. Adjust the plot to your tastes by playing around with cex (character expansion, the size of the points), pch (plot character), and the 0.1 transparency value."
   ]
  },
  {
   "cell_type": "markdown",
   "metadata": {
    "cell_style": "center",
    "hidden": true
   },
   "source": [
    "<img src='pics/SR_a22.png' alt='Drawing' style='width: 450pt'/>"
   ]
  },
  {
   "cell_type": "markdown",
   "metadata": {
    "hidden": true
   },
   "source": [
    "Now that you have these samples, you can describe the distribution of confidence in each combination of µ and σ by summarizing the samples. Think of them like data and describe them, just like in Chapter 3. For example, to characterize the shapes of the <span style='background-color: lightgreen'>marginal posterior densities</span> of µ and σ, all we need to do is:"
   ]
  },
  {
   "cell_type": "code",
   "execution_count": null,
   "metadata": {
    "ExecuteTime": {
     "start_time": "2020-02-12T17:28:15.511Z"
    },
    "cell_style": "split",
    "hidden": true
   },
   "outputs": [],
   "source": [
    "dens( sample.mu )\n",
    "dens( sample.sigma )"
   ]
  },
  {
   "cell_type": "markdown",
   "metadata": {
    "cell_style": "split",
    "hidden": true
   },
   "source": [
    "The jargon “<span style='background-color: lightgreen'>marginal</span>” here means “averaging over the other parameters.” Execute the above code and inspect the plots. These densities are very close to being normal distributions. And this is quite typical. <font color = 'green'>As sample size increases, posterior densities approach the normal distribution.</font> If you look closely, though, you’ll notice that the density for σ has a longer right-hand tail. I’ll exaggerate this tendency a bit later, to show you that this condition is very common for standard deviation parameters."
   ]
  },
  {
   "cell_type": "markdown",
   "metadata": {
    "cell_style": "split",
    "hidden": true
   },
   "source": [
    "To summarize the widths of these densities with highest posterior density intervals, just like in Chapter 3:"
   ]
  },
  {
   "cell_type": "code",
   "execution_count": null,
   "metadata": {
    "ExecuteTime": {
     "start_time": "2020-02-12T17:28:17.446Z"
    },
    "cell_style": "center",
    "hidden": true
   },
   "outputs": [],
   "source": [
    "HPDI( sample.mu ) \n",
    "HPDI( sample.sigma )"
   ]
  },
  {
   "cell_type": "markdown",
   "metadata": {
    "cell_style": "center",
    "hidden": true
   },
   "source": [
    "Since these samples are just vectors of numbers, you can compute any statistic from them that you could from ordinary data. If you want the mean or median, just use the corresponding R functions."
   ]
  },
  {
   "cell_type": "markdown",
   "metadata": {
    "heading_collapsed": true,
    "hidden": true
   },
   "source": [
    "###### A note on why the posterior of σ tends to have a long right-hand tail"
   ]
  },
  {
   "cell_type": "markdown",
   "metadata": {
    "cell_style": "center",
    "hidden": true
   },
   "source": [
    "Overthinking: Sample size and the normality of σ’s posterior. Before moving on to using quadratic approximation (map) as shortcut to all of this inference, it is worth repeating the analysis of the height data above, but now with only a fraction of the original data. The reason to do this is to demonstrate that, in principle, <font color = 'red'>the posterior is not always so Gaussian in shape.</font> There’s no trouble with the mean, µ. <font color = 'blue'>For a Gaussian likelihood and a Gaussian prior on µ, the posterior distribution is always Gaussian as well, regardless of sample size. It is the standard deviation σ that causes problems</font>. So if you care about σ—often people do not—you do need to be careful of abusing the quadratic approximation.\n",
    "\n",
    "<font color = 'blue'>The deep reasons for the posterior of σ tending to have a long right-hand tail are complex. But a useful way to conceive of the problem is that variances must be positive</font>. As a result, there must be more uncertainty about how big the variance (or standard deviation) is than about how small it is. For example, if the variance is estimated to be near zero, then you know for sure that it can’t be much smaller. But it could be a lot bigger. Let’s quickly analyze only 20 of the heights from the height data to reveal this issue. To sample 20 random heights from the original list:"
   ]
  },
  {
   "cell_type": "code",
   "execution_count": null,
   "metadata": {
    "ExecuteTime": {
     "start_time": "2020-02-12T17:28:21.108Z"
    },
    "cell_style": "center",
    "hidden": true
   },
   "outputs": [],
   "source": [
    "d3 <- sample( d2$height , size=20 )"
   ]
  },
  {
   "cell_type": "markdown",
   "metadata": {
    "cell_style": "center",
    "hidden": true
   },
   "source": [
    "Now I’ll repeat all the code from the previous subsection, modified to focus on the 20 heights in d3 rather than the original data. I’ll compress all of the code together, but it’s just what you’ve already seen above."
   ]
  },
  {
   "cell_type": "code",
   "execution_count": null,
   "metadata": {
    "ExecuteTime": {
     "start_time": "2020-02-12T17:28:22.124Z"
    },
    "hidden": true
   },
   "outputs": [],
   "source": [
    "mu.list <- seq( from=150, to=170 , length.out=200 )\n",
    "sigma.list <- seq( from=4 , to=20 , length.out=200 )\n",
    "post2 <- expand.grid( mu=mu.list , sigma=sigma.list )\n",
    "post2$LL <- sapply( 1:nrow(post2) , function(i)\n",
    "    sum( dnorm( d3 , mean=post2$mu[i] , sd=post2$sigma[i] ,\n",
    "    log=TRUE) ) )\n",
    "post2$prod <- post2$LL + dnorm( post2$mu , 178 , 20 , TRUE ) +\n",
    "    dunif( post2$sigma , 0 , 50 , TRUE )\n",
    "post2$prob <- exp( post2$prod - max(post2$prod) )\n",
    "sample2.rows <- sample( 1:nrow(post2) , size=1e4 , replace=TRUE ,\n",
    "    prob=post2$prob )\n",
    "sample2.mu <- post2$mu[ sample2.rows ]\n",
    "sample2.sigma <- post2$sigma[ sample2.rows ]\n",
    "plot( sample2.mu , sample2.sigma , cex=0.5 ,\n",
    "    col=col.alpha(rangi2,0.1) ,\n",
    "    xlab=\"mu\" , ylab=\"sigma\" , pch=16 )"
   ]
  },
  {
   "cell_type": "markdown",
   "metadata": {
    "hidden": true
   },
   "source": [
    "After executing the code above, <font color = 'blue'>you’ll see another scatter plot of the samples from the posterior density, but this time you’ll notice a distinctly longer tail at the top of the cloud of points</font>. You should also inspect the marginal posterior density for σ, averaging over µ, produced with:"
   ]
  },
  {
   "cell_type": "code",
   "execution_count": null,
   "metadata": {
    "ExecuteTime": {
     "start_time": "2020-02-12T17:28:23.282Z"
    },
    "hidden": true
   },
   "outputs": [],
   "source": [
    "dens( sample2.sigma , norm.comp=TRUE )"
   ]
  },
  {
   "cell_type": "markdown",
   "metadata": {
    "hidden": true
   },
   "source": [
    "This code will also show a normal approximation with the same mean and variance. Now you can see that the posterior for σ is not Gaussian, but rather has a long tail of uncertainty towards higher values."
   ]
  },
  {
   "cell_type": "markdown",
   "metadata": {
    "heading_collapsed": true,
    "hidden": true
   },
   "source": [
    "### <font color = 'blue'>Fitting the model with Quadratic Approximation (QUAP)</font>"
   ]
  },
  {
   "cell_type": "markdown",
   "metadata": {
    "hidden": true
   },
   "source": [
    "Now we leave grid approximation behind and move on to one of the great engines of applied statistics, the <span style='background-color: lightgreen'>quadratic approximation</span>. Our interest in quadratic approximation, recall, is as a handy way to quickly make inferences about the shape of the posterior. \n",
    "\n",
    "The posterior’s peak will lie at the maximum a posteriori estimate (MAP), and we can get a useful image of the posterior’s shape by using the quadratic approximation of the posterior distribution at this peak."
   ]
  },
  {
   "cell_type": "markdown",
   "metadata": {
    "hidden": true
   },
   "source": [
    "To find the values of µ and σ that maximize the posterior probability, we’ll use map, a command in the rethinking package. The way that map works is by using the model definition you were introduced to earlier in this chapter. Each line in the definition has a corresponding definition in the form of R code. The engine inside map then uses these definitions to define the posterior probability at each combination of parameter values. Then it can climb the posterior distribution and find the peak, its MAP."
   ]
  },
  {
   "cell_type": "code",
   "execution_count": null,
   "metadata": {
    "ExecuteTime": {
     "start_time": "2020-02-12T17:28:27.325Z"
    },
    "hidden": true
   },
   "outputs": [],
   "source": [
    "data(Howell1)\n",
    "d <- Howell1\n",
    "# d2 <- d[ d$age >= 18 , ]\n",
    "d2 <- d %>% filter(age >= 18)\n"
   ]
  },
  {
   "cell_type": "markdown",
   "metadata": {
    "hidden": true
   },
   "source": [
    "Now we’re ready to define the model, using R’s formula syntax. The model definition in this case is just as before, but now we’ll repeat it with each corresponding line of R code shown on the right-hand margin:"
   ]
  },
  {
   "cell_type": "markdown",
   "metadata": {
    "hidden": true
   },
   "source": [
    "<img src='pics/SR_a23.png' alt='Drawing' style='width: 450pt'/>"
   ]
  },
  {
   "cell_type": "markdown",
   "metadata": {
    "hidden": true
   },
   "source": [
    "Now place the R code equivalents into an alist. Here’s an alist of the formulas above:"
   ]
  },
  {
   "cell_type": "code",
   "execution_count": null,
   "metadata": {
    "ExecuteTime": {
     "start_time": "2020-02-12T17:28:30.293Z"
    },
    "hidden": true
   },
   "outputs": [],
   "source": [
    "flist <- alist( \n",
    "    height ~ dnorm( mu , sigma ) , # h_i ∼ Normal(µ, σ) \n",
    "    mu ~ dnorm( 178 , 20 ) ,       # µ ∼ Normal(178, 0.1)\n",
    "    sigma ~ dunif( 0 , 50 )        # σ ∼ Uniform(0, 50) \n",
    ")"
   ]
  },
  {
   "cell_type": "markdown",
   "metadata": {
    "hidden": true
   },
   "source": [
    "<span style='background-color: lightgreen'>alist</span> handles its arguments as if they described function arguments\n",
    "\n",
    "* <font color = 'green'>Note that the list of start values is a regular list, not an <span style='background-color: lightgreen'>alist</span> like the formula list is. The two functions alist and list do the same basic thing: allow you to make a collection of arbitrary R objects. They differ in one important respect: list evaluates the code you embed inside it, while alist does not. So when you define a list of formulas, you should use alist, so the code isn’t executed. But when you define a list of start values for parameters, you should use list, so that code like mean(d2$height) will be evaluated to a numeric value.</font>"
   ]
  },
  {
   "cell_type": "markdown",
   "metadata": {
    "hidden": true
   },
   "source": [
    "Note the commas at the end of each line, except the last. These commas separate each line of the model definition. Fit the model to the data in the data frame d2 with:"
   ]
  },
  {
   "cell_type": "code",
   "execution_count": null,
   "metadata": {
    "ExecuteTime": {
     "start_time": "2020-02-12T17:28:32.291Z"
    },
    "cell_style": "center",
    "hidden": true
   },
   "outputs": [],
   "source": [
    "# Fit the model to the data in the data frame d2 with:\n",
    "m4.1 <- quap( flist , data=d2 ) "
   ]
  },
  {
   "cell_type": "markdown",
   "metadata": {
    "cell_style": "center",
    "hidden": true
   },
   "source": [
    "After executing this code, you’ll have a fit model stored in the symbol m4.1. Now take a look at the fit maximum a posteriori model:"
   ]
  },
  {
   "cell_type": "code",
   "execution_count": null,
   "metadata": {
    "ExecuteTime": {
     "start_time": "2020-02-12T17:28:33.313Z"
    },
    "cell_style": "center",
    "hidden": true,
    "scrolled": false
   },
   "outputs": [],
   "source": [
    "# look at the fit maximum a posteriori model:\n",
    "precis( m4.1 ) "
   ]
  },
  {
   "cell_type": "markdown",
   "metadata": {
    "heading_collapsed": true,
    "hidden": true
   },
   "source": [
    "###### Adding more informative priors"
   ]
  },
  {
   "cell_type": "markdown",
   "metadata": {
    "hidden": true
   },
   "source": [
    "The priors we used before are very weak, both because they are nearly flat and because there is so much data. So I’ll splice in a more informative prior for µ, so you can see the effect. **<font color = 'green'>All I’m going to do is change the standard deviation of the prior to 0.1, so it’s a very narrow prior</font>**. I’ll also build the formula right into the call to map, so you can see how to build it all at once."
   ]
  },
  {
   "cell_type": "code",
   "execution_count": null,
   "metadata": {
    "ExecuteTime": {
     "start_time": "2020-02-12T17:28:35.376Z"
    },
    "hidden": true
   },
   "outputs": [],
   "source": [
    "m4.2 <- map(\n",
    "    alist(                             # define/specify the model\n",
    "        height ~ dnorm( mu , sigma ) , # h_i ∼ Normal(µ, σ) \n",
    "        mu ~ dnorm( 178 , 0.1 ) ,      # µ ∼ Normal(178, 0.1)\n",
    "        sigma ~ dunif( 0 , 50 )        # σ ∼ Uniform(0, 50) \n",
    "    ) ,\n",
    "    data=d2 )"
   ]
  },
  {
   "cell_type": "code",
   "execution_count": null,
   "metadata": {
    "ExecuteTime": {
     "start_time": "2020-02-12T17:28:35.392Z"
    },
    "hidden": true,
    "scrolled": true
   },
   "outputs": [],
   "source": [
    "precis( m4.2 )"
   ]
  },
  {
   "cell_type": "markdown",
   "metadata": {
    "hidden": true
   },
   "source": [
    "<b><font color = 'purple'>Notice that the estimate for µ has hardly moved off the prior </font></b>. \n",
    "* The prior was very concentrated around 178. So this is not surprising. \n",
    "\n",
    "\n",
    "* But also notice that the <font color = 'blue'>estimate for σ has changed</font> quite a lot, even though we didn’t change its prior at all. \n",
    "\n",
    "<font color = 'blue'>Once the golem is certain that the mean is near 178—as the prior insists—<b>then the golem has to estimate σ conditional on that fact</b>. \n",
    "* <font color = 'red'>This results in a different posterior for σ, even though all we changed is prior information about the other parameter</font>.</font>"
   ]
  },
  {
   "cell_type": "markdown",
   "metadata": {
    "hidden": true
   },
   "source": [
    "<img src='pics/SR_g1.png' alt='Drawing' style='width:425pt'/>"
   ]
  },
  {
   "cell_type": "markdown",
   "metadata": {
    "heading_collapsed": true,
    "hidden": true
   },
   "source": [
    "###### <font color = 'lightgrey'>Defining start values for QUAP gradient descent (Optional)</font>"
   ]
  },
  {
   "cell_type": "code",
   "execution_count": null,
   "metadata": {
    "ExecuteTime": {
     "start_time": "2020-02-12T17:28:39.542Z"
    },
    "hidden": true
   },
   "outputs": [],
   "source": [
    "# provide start values for MAP estimation\n",
    "# MAP <- posterior’s peak will lie at the maximum a posteriori (MAP)\n",
    "#        estimate\n",
    "\n",
    "start <- list(\n",
    "    mu=mean(d2$height),\n",
    "    sigma=sd(d2$height)\n",
    ")"
   ]
  },
  {
   "cell_type": "markdown",
   "metadata": {
    "hidden": true
   },
   "source": [
    "These start values are good guesses of the rough location of the MAP values."
   ]
  },
  {
   "cell_type": "markdown",
   "metadata": {
    "hidden": true
   },
   "source": [
    "Diff between alist and list:\n",
    "\n",
    "Note that the list of start values is a regular list, not an alist like the formula list is. The two functions alist and list do the same basic thing: allow you to make a collection of arbitrary R objects. They differ in one important respect: list evaluates the code you embed inside it, while alist does not. So when you define a list of formulas, you should use alist, so the code isn’t executed. But when you define a list of start values for parameters, you should use list, so that code like mean(d2$height) will be evaluated to a numeric value."
   ]
  },
  {
   "cell_type": "markdown",
   "metadata": {
    "hidden": true
   },
   "source": [
    "<hr>"
   ]
  },
  {
   "cell_type": "markdown",
   "metadata": {
    "heading_collapsed": true,
    "hidden": true
   },
   "source": [
    "### Sampling from a quap fit"
   ]
  },
  {
   "cell_type": "markdown",
   "metadata": {
    "heading_collapsed": true,
    "hidden": true
   },
   "source": [
    "##### **<font color = 'purple' style='background-color: lightyellow'> how do you then get samples from the quadratic approximate posterior distribution? </font>** (intuition)"
   ]
  },
  {
   "cell_type": "markdown",
   "metadata": {
    "hidden": true
   },
   "source": [
    "<font color = 'blue'>The answer is rather simple, but non-obvious, and it <b>requires recognizing</b> that a quadratic approximation to a posterior distribution with more than one parameter dimension—µ and σ each contribute one dimension—is just a <b>multidimensional Gaussian distribution</b></font>."
   ]
  },
  {
   "cell_type": "markdown",
   "metadata": {
    "hidden": true
   },
   "source": [
    "As a consequence, when R constructs a quadratic approximation, it <font color = 'blue'>calculates <b>not only standard deviations </b> for all parameters, <b>but also the covariances among all pairs of parameters</b></font>. \n",
    "\n",
    "* Just like a mean and standard deviation (or its square, a variance) are sufficient to describe a one-dimensional Gaussian distribution, a list of means and a matrix of variances and covariances are sufficient to describe a multi-dimensional Gaussian distribution. **<font color = 'purple' style='background-color: lightyellow'>To see this matrix of variances and covariances, for model m4.1, use</font>**:"
   ]
  },
  {
   "cell_type": "code",
   "execution_count": null,
   "metadata": {
    "ExecuteTime": {
     "start_time": "2020-02-12T17:28:47.186Z"
    },
    "hidden": true,
    "scrolled": false
   },
   "outputs": [],
   "source": [
    "vcov(m4.1)"
   ]
  },
  {
   "cell_type": "markdown",
   "metadata": {
    "hidden": true
   },
   "source": [
    "The above is a variance-covariance matrix. It is the multi-dimensional glue of a quadratic approximation, because it tells us how each parameter relates to every other parameter in the posterior distribution. A variance-covariance matrix can be factored into two elements: \n",
    "\n",
    "(1) a vector of variances for the parameters and \n",
    "\n",
    "(2) a correlation matrix that tells us how changes in any parameter lead to correlated changes in the others. \n",
    "\n",
    "This decomposition is usually easier to understand. So let’s do that now:"
   ]
  },
  {
   "cell_type": "code",
   "execution_count": null,
   "metadata": {
    "ExecuteTime": {
     "start_time": "2020-02-12T17:28:48.308Z"
    },
    "hidden": true
   },
   "outputs": [],
   "source": [
    "vcov( m4.1 )"
   ]
  },
  {
   "cell_type": "code",
   "execution_count": null,
   "metadata": {
    "ExecuteTime": {
     "start_time": "2020-02-12T17:28:48.321Z"
    },
    "hidden": true
   },
   "outputs": [],
   "source": [
    "diag( vcov( m4.1 ) )\n",
    "# variance"
   ]
  },
  {
   "cell_type": "code",
   "execution_count": null,
   "metadata": {
    "ExecuteTime": {
     "start_time": "2020-02-12T17:28:48.335Z"
    },
    "hidden": true,
    "scrolled": true
   },
   "outputs": [],
   "source": [
    "cov2cor( vcov( m4.1 ) )"
   ]
  },
  {
   "cell_type": "markdown",
   "metadata": {
    "hidden": true
   },
   "source": [
    "The 1’s indicate a parameter’s correlation with itself. If these values were anything except 1, we would be worried. The other entries are typically closer to zero, and they are very close to zero in this example. This indicates that learning µ tells us nothing about σ and likewise that learning σ tells us nothing about µ. This is typical of simple Gaussian models of this kind."
   ]
  },
  {
   "cell_type": "markdown",
   "metadata": {
    "heading_collapsed": true,
    "hidden": true
   },
   "source": [
    "##### **<font color = 'purple' style='background-color: lightyellow'>Okay, so how do we get samples from this multi-dimensional posterior? </font>**"
   ]
  },
  {
   "cell_type": "markdown",
   "metadata": {
    "hidden": true
   },
   "source": [
    "* Now instead of sampling single values from a simple Gaussian distribution, <font color = 'blue'>we sample vectors of values from a multi-dimensional Gaussian distribution</font>. The rethinking package provides a convenience function to do exactly that:"
   ]
  },
  {
   "cell_type": "code",
   "execution_count": null,
   "metadata": {
    "ExecuteTime": {
     "start_time": "2020-02-12T17:28:51.761Z"
    },
    "hidden": true
   },
   "outputs": [],
   "source": [
    "post <- extract.samples( m4.1 , n=1e4 )\n",
    "post %>% dim()\n",
    "head(post)"
   ]
  },
  {
   "cell_type": "markdown",
   "metadata": {
    "hidden": true
   },
   "source": [
    "Each value is a sample from the posterior, so the mean and standard deviation of each column will be very close to the MAP values from before. You can confirm this by summarizing the samples:"
   ]
  },
  {
   "cell_type": "code",
   "execution_count": null,
   "metadata": {
    "ExecuteTime": {
     "start_time": "2020-02-12T17:28:52.937Z"
    },
    "hidden": true,
    "scrolled": true
   },
   "outputs": [],
   "source": [
    "# samples from QUAP model\n",
    "precis(post, hist=F)"
   ]
  },
  {
   "cell_type": "markdown",
   "metadata": {
    "hidden": true
   },
   "source": [
    "Compare these values to the output from ```precis(m4.1)```. And you can use ```plot(post)``` to see how much they resemble the samples from the grid approximation in Figure 4.4 (page 88).\n",
    "\n",
    "<img src='pics/SR_z36.png' alt='Drawing' style='width:325pt'/>"
   ]
  },
  {
   "cell_type": "code",
   "execution_count": null,
   "metadata": {
    "ExecuteTime": {
     "start_time": "2020-02-12T17:28:54.095Z"
    },
    "hidden": true
   },
   "outputs": [],
   "source": [
    "precis(m4.1)"
   ]
  },
  {
   "cell_type": "markdown",
   "metadata": {
    "hidden": true
   },
   "source": [
    "Each value is a sample from the posterior, so the mean and standard deviation of each column will be very close to the QUAP values from before. You can confirm this by summarizing the samples:"
   ]
  },
  {
   "cell_type": "code",
   "execution_count": null,
   "metadata": {
    "ExecuteTime": {
     "start_time": "2020-02-12T17:28:55.240Z"
    },
    "hidden": true
   },
   "outputs": [],
   "source": [
    "plot(post)"
   ]
  },
  {
   "cell_type": "code",
   "execution_count": null,
   "metadata": {
    "hidden": true
   },
   "outputs": [],
   "source": []
  },
  {
   "cell_type": "markdown",
   "metadata": {
    "hidden": true
   },
   "source": [
    "<hr>"
   ]
  },
  {
   "cell_type": "markdown",
   "metadata": {
    "heading_collapsed": true,
    "hidden": true
   },
   "source": [
    "##### <b><font color = 'purple'>Overthinking </font></b>"
   ]
  },
  {
   "cell_type": "markdown",
   "metadata": {
    "hidden": true
   },
   "source": [
    "<b><font color = 'purple'>Overthinking </font></b>: Under the hood with multivariate sampling. The function extract.samples is for convenience. It is just running a simple simulation of the sort you conducted near the end of Chapter 3. Here’s a peak at the motor. <font color = 'blue'>The work is done by a multi-dimensional version of rnorm, <span style='background-color: lightgreen'>mvrnorm</span>.</font>\n",
    "The function rnorm simulates random Gaussian values, while mvrnorm simulates random vectors of multivariate Gaussian values. Here’s how to use it directly to do what extract.samples does:\n",
    "\n",
    "```\n",
    "library(MASS)\n",
    "post <- mvrnorm( n=1e4 , mu=coef(m4.1) , Sigma=vcov(m4.1) )\n",
    "\n",
    "```\n",
    "You don’t usually need to use mvrnorm directly like this, but sometimes you want to simulate multi-\n",
    "variate Gaussian outcomes. In that case, you’ll need to access mvrnorm directly. And of course it’s\n",
    "always good to know a little about how the machine operates. Later on, we’ll work with posterior\n",
    "distributions that cannot be correctly approximated this way."
   ]
  },
  {
   "cell_type": "markdown",
   "metadata": {
    "hidden": true
   },
   "source": [
    "**<font color = 'purple' style='background-color: lightyellow'>Overthinking</font>**: Getting σ right. The quadratic assumption for σ can be problematic, as seen on page 85. A conventional way to improve the situation is the estimate log(σ) instead. Why does this help? \n",
    "\n",
    "* While the posterior distribution of σ will often not be Gaussian, the distribution of its logarithm can be much closer to Gaussian. **So if we impose the quadratic approximation on the logarithm, rather than the standard deviation itself, we can often get a better approximation of the uncertainty**. Here’s how you can do this, using map."
   ]
  },
  {
   "cell_type": "code",
   "execution_count": null,
   "metadata": {
    "ExecuteTime": {
     "start_time": "2020-02-12T17:29:00.850Z"
    },
    "hidden": true
   },
   "outputs": [],
   "source": [
    "m4.1_logsigma <- map( \n",
    "    alist(\n",
    "        height ~ dnorm( mu , exp(log_sigma) ) ,\n",
    "        mu ~ dnorm( 178 , 20 ) ,\n",
    "        log_sigma ~ dnorm( 2 , 10 )\n",
    "    ) , \n",
    "    data=d2 )"
   ]
  },
  {
   "cell_type": "code",
   "execution_count": null,
   "metadata": {
    "ExecuteTime": {
     "start_time": "2020-02-12T17:29:00.863Z"
    },
    "hidden": true
   },
   "outputs": [],
   "source": [
    "dnorm( 2 , 10 ) %>% exp()"
   ]
  },
  {
   "cell_type": "markdown",
   "metadata": {
    "hidden": true
   },
   "source": [
    "* Notice the exp inside the likelihood. That converts a continuous parameter, log_sigma, to be strictly positive, because exp(x) > 0 for any real value x. \n",
    "* Notice also the prior for log_sigma. Since log_sigma is continuous now, it can have a Gaussian prior."
   ]
  },
  {
   "cell_type": "code",
   "execution_count": null,
   "metadata": {
    "ExecuteTime": {
     "start_time": "2020-02-12T17:29:02.032Z"
    },
    "hidden": true
   },
   "outputs": [],
   "source": [
    "post <- extract.samples( m4.1_logsigma ) \n",
    "sigma <- exp( post$log_sigma )\n",
    "\n",
    "sigma %>% hist()\n",
    "\n"
   ]
  },
  {
   "cell_type": "code",
   "execution_count": null,
   "metadata": {
    "hidden": true
   },
   "outputs": [],
   "source": []
  },
  {
   "cell_type": "markdown",
   "metadata": {},
   "source": [
    "## Linear Prediction"
   ]
  },
  {
   "cell_type": "markdown",
   "metadata": {},
   "source": [
    "<b><font color = 'purple'>What we’ve done above </font></b> is a Gaussian model of height in a population of adults. But it doesn’t really have the usual feel of “regression” to it.\n",
    "\n",
    "Typically, we are <font color = 'blue'>interested in modeling how an outcome is related to some other variable, a predictor variable</font>. If the predictor variable has any statistical association with the outcome variable, then we can use it to predict the outcome. When the predictor variable is built inside the model in a particular way, we’ll have linear regression."
   ]
  },
  {
   "cell_type": "markdown",
   "metadata": {
    "cell_style": "center"
   },
   "source": [
    "**<font color = 'purple' style='background-color: lightyellow'>So now let’s look at how height in these Kalahari foragers covaries with weight</font>**. \n",
    "\n",
    "<font color = 'lightgrey'>This isn’t the most thrilling scientific question, I know. But it is an easy relationship to start with, and it only seems dull because you don’t have a theory about growth and life history in mind. If you did, it would be thrilling</font>. Go ahead and plot height and weight against one another to get an idea of how strongly they covary:"
   ]
  },
  {
   "cell_type": "code",
   "execution_count": null,
   "metadata": {
    "ExecuteTime": {
     "start_time": "2020-02-12T17:29:05.516Z"
    },
    "cell_style": "center",
    "hide_input": true
   },
   "outputs": [],
   "source": [
    "plot( d2$height ~ d2$weight )"
   ]
  },
  {
   "cell_type": "markdown",
   "metadata": {},
   "source": [
    "### The linear model strategy."
   ]
  },
  {
   "cell_type": "markdown",
   "metadata": {
    "hide_input": true
   },
   "source": [
    "<font color = 'blue'>The strategy is to make the parameter for the mean of a Gaussian distribution, µ, into a linear function of the predictor variable and other, new parameters that we invent</font>. \n",
    "\n",
    "* The linear model strategy instructs the golem to <font color = 'blue'>assume that the predictor variable has a perfectly constant and additive relationship to the mean of the outcome</font>. The golem then computes the posterior distribution of this constant relationship.\n",
    "\n",
    "<font color = 'blue'>What this means, recall, is that the machine considers every possible combination of the parameter values</font>. \n",
    "\n",
    "* With a linear model, some of the parameters now stand for the strength of association between the mean of the outcome and the value of the predictor. \n",
    "\n",
    "* For each combination of values, the machine computes the posterior probability, which is a measure of relative plausibility, given the model and data. \n",
    "\n",
    "* So the posterior distribution ranks the infinite possible combinations of parameter values by their logical plausibility. As a result, the posterior distribution provides relative plausibilities of the different possible strengths of association, given the assumptions you programmed into the model."
   ]
  },
  {
   "cell_type": "markdown",
   "metadata": {},
   "source": [
    "<font color = 'purple'>Here’s how it works, in the simplest case of only <span style='background-color: lightyellow'>one predictor</span> variable. We’ll wait until the next chapter to confront more than one predictor. </font>"
   ]
  },
  {
   "cell_type": "markdown",
   "metadata": {},
   "source": [
    "$h_i \\sim Normal(\\mu, \\sigma)$ <br>\n",
    "$\\mu \\sim Normal(178, 20)$ <br>\n",
    "$\\sigma \\sim Uniform(0, 50)$"
   ]
  },
  {
   "cell_type": "markdown",
   "metadata": {},
   "source": [
    "<b><font color = 'purple'>how do we get weight into a Gaussian model of height? </font></b> \n",
    "\n",
    "<font color = 'purple'>Let <b><font color = 'purple' style='background-color: lightyellow'>x</font></b> be the name for the column of weight measurements, ```d2$weight```. Let the average of the x values be <b><font color = 'purple' style='background-color: lightyellow'>$\\bar{x}$</font></b>, “ex bar” </font>. \n",
    "\n",
    "Now we have a predictor variable x, which is a list of measures of the same length as h. <font color = 'blue'>To get weight into the model, we define the mean µ as a function of the values in x. </font> This is what it looks like, with explanation to follow:"
   ]
  },
  {
   "cell_type": "markdown",
   "metadata": {},
   "source": [
    "<img src='pics/SR_z37.png' alt='Drawing' style='width:325pt'/>"
   ]
  },
  {
   "cell_type": "markdown",
   "metadata": {
    "heading_collapsed": true
   },
   "source": [
    "#### Likelihood"
   ]
  },
  {
   "cell_type": "markdown",
   "metadata": {
    "hidden": true
   },
   "source": [
    "<b><font color = 'green'>Probability of the data (<span style='background-color: lightgreen'>likelihood</span>)</font></b>. Let’s begin with just the probability of the observed height, the first line of the model. This is nearly identical to before, except now there is a little index i on the µ as well as the h. You can read $h_i$ as “each h” and $µ_i$ as “each µ.” \n",
    "\n",
    "* The mean µ now depends upon unique values on each row i. So the little i on $µ_i$ indicates that the mean depends upon the row."
   ]
  },
  {
   "cell_type": "markdown",
   "metadata": {},
   "source": [
    "#### Linear model"
   ]
  },
  {
   "cell_type": "markdown",
   "metadata": {},
   "source": [
    "<font color = 'green'>**<span style='background-color: lightgreen'>Linear model</span>**</font>. <font color = 'green'>The mean µ is no longer a parameter to be estimated. Rather, as seen in the second line of the model, $µ_i$ is constructed from other parameters, α and β, and the observed variable x</font>. This line is not a stochastic relationship—there is no ```∼``` in it, but rather an ```=``` in it—because <font color = 'blue'>the definition of $µ_i$ is deterministic, not probabilistic</font>. \n",
    "\n",
    "* That is to say that, once we know α and β and $x_i$ , we also know $µ_i$.\n",
    "\n",
    "The value $x_i$ is just the weight value on row i. It refers to the same individual as the height value, $h_i$, on the same row. "
   ]
  },
  {
   "cell_type": "markdown",
   "metadata": {},
   "source": [
    "The parameters <b><font color = 'purple'>α and β </font></b> are more mysterious. <b><font color = 'purple'>Where did they come from? </font></b>\n",
    "\n",
    "<font color = 'blue'>We made them up.</font> <font color = 'blue'>The parameters µ and σ are necessary and sufficient to describe a Gaussian distribution</font>. \n",
    "\n",
    "> <font color = 'green'>But α and β are instead devices we invent for manipulating µ, allowing it to vary systematically across cases in the data</font>.\n",
    "\n",
    "<font color = 'lightgrey'>You’ll be making up all manner of parameters as your skills improve.</font> One way to understand these made-up parameters is to think of them as <font color = 'blue'>targets of learning</font>. \n",
    "* <font color = 'blue'>Each parameter is something that must be described in the posterior density</font>. So when you want to know something about the data, you ask your golem by inventing a parameter for it. This will make more and more sense as you progress. "
   ]
  },
  {
   "cell_type": "markdown",
   "metadata": {},
   "source": [
    "<b><font color = 'purple'>Here’s how it works in this context </font></b>. The second line of the model definition is just: $µ_i = α + β(x_i - \\bar{x})$\n",
    "\n",
    "(1) <font color = 'purple'>What is the expected height when $x_i = \\bar{x}$ </font>? The parameter α answers this question, because when $x_i$ = $\\bar{x}$, $µ_i$ = α. For this reason, α is often called the intercept. But we should think not in terms of some abstract line, but rather in terms of the meaning with respect to the observable variables. \n",
    "\n",
    "(2) <font color = 'purple'>What is the change in expected height, when $x_i$ changes by 1 unit? </font> The parameter β answers this question. It is often called a “slope,” again because of the abstract line. Better to think of it as a rate of change in expectation.\n",
    "\n",
    "<font color = 'green'>Jointly these two parameters, together with x, ask the golem to find a line that relates x to h, a line that passes through α when $x_i$ = $\\bar{x}$ and has slope β. </font> <font color = 'lightgrey'>That is a task that golems are very good at. It’s up to you, though, to be sure it’s a good question.</font>"
   ]
  },
  {
   "cell_type": "markdown",
   "metadata": {},
   "source": [
    "<img src='pics/SR_c35.png' alt='Drawing' style='width:425pt'/>"
   ]
  },
  {
   "cell_type": "markdown",
   "metadata": {},
   "source": [
    "#### Priors"
   ]
  },
  {
   "cell_type": "markdown",
   "metadata": {},
   "source": [
    "<span style='background-color: lightgreen'>Priors</span>. The remaining lines in the model define distributions for the unobserved variables. \n",
    "\n",
    "* <font color = 'blue'>These variables are commonly known as parameters, and their distributions as priors. There are three parameters: α, β, and σ</font>. \n",
    "\n",
    "You’ve seen priors for α and σ before, although α was called µ back then.\n",
    "\n",
    "* The prior for β deserves explanation. <b><font color = 'purple'>Why have a Gaussian prior with mean zero? </font></b> <font color = 'blue'>This prior places just as much probability below zero as it does above zero, and when β = 0, weight has no relationship to height. </font>\n",
    "\n",
    "    To figure out what this prior implies, we have to simulate the prior predictive distribution. There is no other reliable way to understand.\n",
    "    \n",
    "    <font color = 'blue'><b>The goal is to simulate heights from the model, using only the priors</b></font>. \n",
    "    \n",
    "    First, <b><font color = 'purple'>let’s consider a range of weight values to simulate over </font></b>. The range of observed weights will do fine. Then we need to simulate a bunch of lines, the lines implied by the priors for α and β. Here’s how to do it, setting a seed so you can reproduce it exactly:"
   ]
  },
  {
   "cell_type": "code",
   "execution_count": null,
   "metadata": {
    "ExecuteTime": {
     "start_time": "2020-02-12T17:29:23.935Z"
    }
   },
   "outputs": [],
   "source": [
    "# Simulating Priors\n",
    "\n",
    "set.seed(2971)\n",
    "\n",
    "N <- 100                   \n",
    "a <- rnorm( N , 178 , 20 ) # 100 draws from N(178,20) dist\n",
    "b <- rnorm( N , 0 , 10 )   # 100 draws from N(0,10) dist\n",
    "# The beta(b) prior places just as much probability \n",
    "# below zero as it does above zero\n",
    "\n",
    "# Now we have 100 pairs of α and β values. Now to plot the lines:"
   ]
  },
  {
   "cell_type": "code",
   "execution_count": null,
   "metadata": {
    "ExecuteTime": {
     "start_time": "2020-02-12T17:29:23.948Z"
    }
   },
   "outputs": [],
   "source": [
    "## R code 4.39\n",
    "plot( NULL , xlim=range(d2$weight) , ylim=c(-100,400) ,\n",
    "    xlab=\"weight\" , ylab=\"height\" )\n",
    "\n",
    "abline( h=0 , lty=2 )\n",
    "abline( h=272 , lty=1 , lwd=0.5 ) # height of tallest person\n",
    "mtext( \"b ~ dnorm(0,10)\" )\n",
    "xbar <- mean(d2$weight)\n",
    "\n",
    "for ( i in 1:N ) \n",
    "    curve( a[i] + b[i]*(x - xbar) ,\n",
    "          from=min(d2$weight) , to=max(d2$weight) , \n",
    "          add=TRUE , col=col.alpha(\"black\",0.2) )"
   ]
  },
  {
   "cell_type": "markdown",
   "metadata": {},
   "source": [
    "The result is displayed in Figure 4.5. For reference, I’ve added a dashed line at zero—no one is shorter than zero—and the “Wadlow” line at 272cm for the world’s tallest person. The pattern doesn’t look like any human population at all. It essentially says that the relationship between weight and height could be absurdly positive or negative. \n",
    "\n",
    "\n",
    "<font color = 'purple'>Before we’ve even seen the data, this is a bad model. Can we do better? </font>"
   ]
  },
  {
   "cell_type": "markdown",
   "metadata": {},
   "source": [
    "We can do better immediately. We know that average height increases with average weight, at least up to a point. <font color = 'blue'>Let’s try restricting it to positive values</font>. <font color = 'blue'><b>The easiest way to do this is to define the prior as Log-Normal instead. </b></font>\n",
    "\n",
    "<b><font color = 'green'>Defining β as Log-Normal(0,1) means to claim that the logarithm of β has a Normal(0,1) distribution</font>.</b> \n",
    "\n",
    "Plainly:\n",
    "\n",
    "&nbsp;&nbsp;&nbsp;&nbsp;&nbsp;&nbsp;<b>β ∼ Log-Normal(0, 1)</b>\n",
    "\n",
    "R provides the ```dlnorm``` and ```rlnorm``` densities and random draws for working with log-normal distributions. You can simulate this relationship to see what this means for β:"
   ]
  },
  {
   "cell_type": "code",
   "execution_count": null,
   "metadata": {
    "ExecuteTime": {
     "start_time": "2020-01-19T09:44:15.745Z"
    }
   },
   "outputs": [],
   "source": [
    "b <- rlnorm( 1e4 , 0 , 1 ) \n",
    "dens( b , xlim=c(0,5) , adj=0.1 )"
   ]
  },
  {
   "cell_type": "markdown",
   "metadata": {},
   "source": [
    "<font color = 'blue'>If the logarithm of β is normal, then β itself is strictly positive</font>. \n",
    "\n",
    "* <span style='background-color: lightyellow'>The reason is that exp(x) is greater than zero for any real number x.</span> \n",
    "\n",
    "    This is the reason that Log-Normal priors are commonplace. They are an easy way to enforce positive relationships. \n",
    "    \n",
    "<b><font color = 'purple'>So what does this earn us? </font></b> Do the prior predictive simulation again, now with the Log-Normal prior:"
   ]
  },
  {
   "cell_type": "code",
   "execution_count": null,
   "metadata": {
    "ExecuteTime": {
     "start_time": "2020-01-19T09:44:17.060Z"
    }
   },
   "outputs": [],
   "source": [
    "exp(1)\n",
    "\n",
    "# even a big negative number for x 1/e^(100000) -> \n",
    "# results in very small positive number"
   ]
  },
  {
   "cell_type": "code",
   "execution_count": null,
   "metadata": {
    "ExecuteTime": {
     "start_time": "2020-01-19T09:44:17.071Z"
    }
   },
   "outputs": [],
   "source": [
    "set.seed(2971) \n",
    "N <- 100 # 100 lines\n",
    "a <- rnorm( N , 178 , 20 )\n",
    "b <- rlnorm( N , 0 , 1 )"
   ]
  },
  {
   "cell_type": "code",
   "execution_count": null,
   "metadata": {
    "ExecuteTime": {
     "start_time": "2020-01-19T09:44:17.082Z"
    }
   },
   "outputs": [],
   "source": [
    "## R code 4.39\n",
    "plot( NULL , xlim=range(d2$weight) , ylim=c(-100,400) ,\n",
    "    xlab=\"weight\" , ylab=\"height\" )\n",
    "\n",
    "abline( h=0 , lty=2 )\n",
    "abline( h=272 , lty=1 , lwd=0.5 ) # height of tallest person\n",
    "mtext( \"b ~ dnorm(0,10)\" )\n",
    "xbar <- mean(d2$weight)\n",
    "\n",
    "for ( i in 1:N ) \n",
    "    curve( a[i] + b[i]*(x - xbar) ,\n",
    "          from=min(d2$weight) , to=max(d2$weight) , \n",
    "          add=TRUE , col=col.alpha(\"black\",0.2) )"
   ]
  },
  {
   "cell_type": "markdown",
   "metadata": {},
   "source": [
    "This is much more sensible. There is still a rare impossible relationship. But nearly all lines in the joint prior for α and β are now within human reason."
   ]
  },
  {
   "cell_type": "markdown",
   "metadata": {},
   "source": [
    "### Finding the posterior distribution (m4.3)"
   ]
  },
  {
   "cell_type": "markdown",
   "metadata": {},
   "source": [
    "The code needed to approximate the posterior is a straightforward modification of the kind of code you’ve already seen. \n",
    "\n",
    "> <font color = 'green'><b>All we have to do is incorporate our new model for the mean into the model specification inside quap and be sure to add a prior for the new parameter, β</b></font>. \n",
    "\n",
    "Let’s repeat the model definition, now with the corresponding R code on the right-hand side:"
   ]
  },
  {
   "cell_type": "markdown",
   "metadata": {},
   "source": [
    "<img src='pics/SR_c36.png' alt='Drawing' style='width:425pt'/>"
   ]
  },
  {
   "cell_type": "markdown",
   "metadata": {},
   "source": [
    "Notice that the linear model, in the R code on the right-hand side, uses the R assignment operator, <-, even though the mathematical definition uses the symbol =. \n",
    "\n",
    "* This is a code convention shared by several Bayesian model fitting engines, so it’s worth getting used to the switch. \n",
    "\n",
    "* You just have to remember to use <- instead of = when defining a linear model."
   ]
  },
  {
   "cell_type": "markdown",
   "metadata": {},
   "source": [
    "<font color = 'purple'>That’s it. The above allows us to build the posterior approximation: </font>"
   ]
  },
  {
   "cell_type": "code",
   "execution_count": 3,
   "metadata": {
    "ExecuteTime": {
     "end_time": "2020-01-19T09:47:36.478430Z",
     "start_time": "2020-01-19T09:47:36.354Z"
    }
   },
   "outputs": [],
   "source": [
    "## R code 4.42\n",
    "# load data again, since it's a long way back\n",
    "library(rethinking)\n",
    "data(Howell1)\n",
    "d <- Howell1\n",
    "d2 <- d[ d$age >= 18 , ]\n",
    "\n",
    "# define the average weight, x-bar\n",
    "xbar <- mean(d2$weight)\n",
    "\n",
    "# fit model\n",
    "m4.3 <- quap(\n",
    "    alist(\n",
    "        height ~ dnorm( mu , sigma ) ,\n",
    "        mu <- a + b*( weight - xbar ) ,\n",
    "        a ~ dnorm( 178 , 20 ) ,\n",
    "        b ~ dlnorm( 0 , 1 ) ,\n",
    "        sigma ~ dunif( 0 , 50 )\n",
    "    ) ,\n",
    "    data=d2 )\n"
   ]
  },
  {
   "cell_type": "markdown",
   "metadata": {
    "heading_collapsed": true
   },
   "source": [
    "##### <b><font color = 'purple'>Rethinking </font></b>: <font color = 'purple'>Everything that depends upon parameters has a posterior distribution. </font>"
   ]
  },
  {
   "cell_type": "markdown",
   "metadata": {
    "hidden": true
   },
   "source": [
    "In the model above, the <font color = 'blue'>parameter µ is no longer a parameter, since it has become a function of the parameters α and β</font>. But since the parameters α and β have a joint posterior, so too does µ. \n",
    "\n",
    "Later in the chapter, you’ll work directly the posterior distribution of µ, even though it’s not a parameter anymore. <font color = 'blue'>Since parameters are uncertain, everything that depends upon them is also uncertain.</font> <font color = 'blue'><b>This includes statistics like µ, as well as model-based predictions, measures of fit, and everything else that uses parameters</b></font>. \n",
    "\n",
    "<font color = 'blue'>By working with samples from the posterior, all you have to do to account for posterior uncertainty in any quantity is to compute that quantity for each sample from the posterior.</font>The resulting quantities, one for each posterior sample, will approximate the quantity’s posterior distribution."
   ]
  },
  {
   "cell_type": "markdown",
   "metadata": {
    "heading_collapsed": true
   },
   "source": [
    "##### <b><font color = 'purple'>Overthinking : Logarithms appear all the time in applied statistics. </font></b>"
   ]
  },
  {
   "cell_type": "markdown",
   "metadata": {
    "hidden": true
   },
   "source": [
    "* <font color = 'blue'>You can usefully think of <b>y = log(x)</b> as <b> assigning to y the order of magnitude of x </b></font>. \n",
    "\n",
    "\n",
    "* <font color = 'blue'>The function <b>x = exp(y)</b> is the reverse, <b>turning a magnitude into a value</b></font>. \n",
    "\n",
    "These definitions will make a mathematician shriek. But much of our computational work relies only on these intuitions. \n",
    "\n",
    "> <font color = 'purple'>These definitions allow the Log-Normal prior for β to be coded another way </font>. \n",
    "* <font color = 'green'>Instead of defining a parameter β, we define a parameter that is the logarithm of β and then assign it a normal distribution. Then we can reverse the logarithm inside the linear model. It looks like this</font>:"
   ]
  },
  {
   "cell_type": "raw",
   "metadata": {
    "ExecuteTime": {
     "end_time": "2020-02-12T22:15:12.062741Z",
     "start_time": "2020-02-12T22:15:11.992Z"
    },
    "hidden": true
   },
   "source": [
    "## R code 4.43\n",
    "m4.3b <- quap(\n",
    "    alist(\n",
    "        height ~ dnorm( mu , sigma ) ,\n",
    "        mu <- a + exp(log_b)*( weight - xbar ),\n",
    "        a ~ dnorm( 178 , 20 ) ,\n",
    "        log_b ~ dnorm( 0 , 1 ) ,\n",
    "        sigma ~ dunif( 0 , 50 )\n",
    "    ) ,\n",
    "    data=d2 )"
   ]
  },
  {
   "cell_type": "markdown",
   "metadata": {
    "hidden": true
   },
   "source": [
    "Note the exp(log_b) in the definition of mu. \n",
    "\n",
    "* <font color = 'blue'>This is the same model as m4.3. </font>It will make the same predictions. But instead of β in the posterior distribution, you get log(β). \n",
    "\n",
    "It is easy to translate between the two, because β = exp(log(β)). In code form: ```b <- exp(log_b)```."
   ]
  },
  {
   "cell_type": "markdown",
   "metadata": {},
   "source": [
    "### <font color = 'blue'>Interpreting the posterior distribution.</font>"
   ]
  },
  {
   "cell_type": "markdown",
   "metadata": {
    "heading_collapsed": true
   },
   "source": [
    "##### <b><font color = 'MAROON'>Intro/Intuition</font></b>"
   ]
  },
  {
   "cell_type": "markdown",
   "metadata": {
    "hidden": true
   },
   "source": [
    "One trouble with statistical models is that they are hard to understand. Once you’ve fit the model, it can only report posterior distribution. This is the right answer to the question you asked. But it’s your responsibility to process the answer and make sense of it.\n",
    "\n",
    "There are two broad categories of processing: \n",
    "1. reading tables and \n",
    "* plotting simulations. \n",
    "\n",
    "For some simple questions, it’s possible to learn a lot just from tables of marginal values. But most models are very hard to understand from tables of numbers alone. <font color = 'blue'>A major difficulty with tables alone is their apparent simplicity compared to the complexity of the model and data that generated them</font>. <font color = 'red'>Once you have more than a couple of parameters in a model, it is very hard to figure out from numbers alone how all of them act to influence prediction</font>. This is also the reason we simulate from priors. \n",
    "\n",
    "* Once you begin adding interaction terms (Chapter 8) or polynomials (later in this chapter), it <font color = 'blue'>may not even be possible to guess the direction of influence a predictor variable has on an outcome</font>."
   ]
  },
  {
   "cell_type": "markdown",
   "metadata": {
    "hidden": true
   },
   "source": [
    "Plotting the implications of your models will allow you to inquire about things that are hard to read from tables:\n",
    "\n",
    "1. Whether or not the model fitting procedure worked correctly\n",
    "* The absolute magnitude, rather than merely relative magnitude, of a relationship\n",
    "between outcome and predictor\n",
    "* The uncertainty surrounding an average relationship\n",
    "* The uncertainty surrounding the implied predictions of the model, as these are\n",
    "distinct from mere parameter uncertainty"
   ]
  },
  {
   "cell_type": "markdown",
   "metadata": {
    "hidden": true
   },
   "source": [
    "Once you get the hang of processing posterior distributions into plots, you can ask any question you can think of, for any model type. And readers of your results will appreciate a figure much more than they will a table of estimates."
   ]
  },
  {
   "cell_type": "markdown",
   "metadata": {
    "heading_collapsed": true
   },
   "source": [
    "##### <font color = 'maroon'><b>Rethinking: What do parameters mean?</b>  </font>"
   ]
  },
  {
   "cell_type": "markdown",
   "metadata": {
    "hidden": true
   },
   "source": [
    "A basic issue with interpreting model-based estimates is in knowing the meaning of parameters. There is no consensus about what a parameter means, however, because different people take different philosophical stances towards models, probability, and prediction. The perspective in this book is a common Bayesian perspective: \n",
    "> <font color = 'green'>Posterior probabilities of parameter values describe the relative compatibility of different states of the world with the data, according to the model</font>. \n",
    "\n",
    "These are small world (Chapter 2) numbers. So reasonable people may disagree about the large world meaning, and the details of those disagreements depend strongly upon context. Such disagreements are productive, because they lead to model criticism and revision, something that golems cannot do for themselves.\n",
    "\n",
    "In later chapters, you’ll see that parameters can refer to observable quantities—data—as well as unobservable values. This makes parameters even more useful and their interpretation even more context dependent."
   ]
  },
  {
   "cell_type": "markdown",
   "metadata": {},
   "source": [
    "#### Tables of marginal distributions"
   ]
  },
  {
   "cell_type": "markdown",
   "metadata": {},
   "source": [
    "<font color = 'purple'>With the new linear regression trained on the Kalahari data, we inspect the marginal posterior distributions of the parameters: </font>"
   ]
  },
  {
   "cell_type": "code",
   "execution_count": null,
   "metadata": {
    "ExecuteTime": {
     "start_time": "2020-01-19T09:44:46.232Z"
    }
   },
   "outputs": [],
   "source": [
    " precis( m4.3 )"
   ]
  },
  {
   "cell_type": "markdown",
   "metadata": {},
   "source": [
    "* The first row gives the quadratic approximation for <span style='background-color: lightgreen'>α</span>: <font color = 'blue'>The expected value of height when weight is at its average value = 154.6</font>\n",
    "    \n",
    "    \n",
    "* the second the approximation for <span style='background-color: lightgreen'>β</span>: <font color = 'blue'>for every unit change in weight, the expected change in height = 0.9</font>.\n",
    "\n",
    "* the third approximation for σ. \n",
    "\n",
    "Let’s focus on <span style='background-color: lightgreen'>b (β)</span>, because it’s the new parameter. \n",
    "\n",
    "* <font color = 'blue'>Since β is a slope, the value 0.90 can be read as a person 1 kg heavier is expected to be 0.90 cm taller</font>. \n",
    "\n",
    "\n",
    "* 89% of the posterior probability lies between 0.84 and 0.97. That suggests that β values close to zero or greatly above one are highly incompatible with these data and this model. \n",
    "\n",
    "    <font color = 'red'>It is most certainly not evidence that the relationship between weight and height is linear, because the model only considered lines</font>. <font color = 'blue'>It just says that, if you are committed to a line, then lines with a slope around 0.9 are plausible ones.</font>"
   ]
  },
  {
   "cell_type": "markdown",
   "metadata": {},
   "source": [
    "Remember, the numbers in the default precis output aren’t sufficient to describe the quadratic posterior completely. For that, we also require the <span style='background-color: lightgreen'>variance-covariance matrix</span>. <font color = 'green'>You can see the covariances among the parameters with ```vcov```</font>:"
   ]
  },
  {
   "cell_type": "code",
   "execution_count": null,
   "metadata": {
    "ExecuteTime": {
     "start_time": "2020-01-19T09:44:48.899Z"
    },
    "scrolled": true
   },
   "outputs": [],
   "source": [
    "round( vcov( m4.3 ) , 3 ) "
   ]
  },
  {
   "cell_type": "markdown",
   "metadata": {},
   "source": [
    "Very little covariation among the parameters in this case. Using ```pairs(m4.3)``` shows both the <span style='background-color: lightgreen'>marginal posteriors</span> and the <span style='background-color: lightgreen'>covariance</span>. \n",
    "\n",
    "In the problems at the end of the chapter, you’ll see that <font color = 'blue'>the lack of covariance among the parameters results from the something called centering</font>."
   ]
  },
  {
   "cell_type": "markdown",
   "metadata": {
    "heading_collapsed": true
   },
   "source": [
    "#### Plotting posterior inference against the data"
   ]
  },
  {
   "cell_type": "markdown",
   "metadata": {
    "hidden": true
   },
   "source": [
    "It’s almost always much more useful to plot the posterior inference against the data. <font color = 'blue'> Not only does plotting help in interpreting the posterior, but it also provides an informal check on model assumptions. When the model’s predictions don’t come close to key observations or patterns in the plotted data, then you might suspect the model either did not fit correctly or is rather badly specified.</font> But even if you only treat plots as a way to help in interpreting the posterior, they are invaluable. For simple models like this one, it is possible (but not always easy) to just read the table of numbers and understand what the model says. But for even slightly more complex models, especially those that include interaction effects (Chapter 8), interpreting posterior distributions is hard. <font color = 'blue'>Combine with this the problem of incorporating the information in vcov into your interpretations, and the plots are irreplaceable</font>.\n",
    "\n",
    "<b><font color = 'purple'>We’re going to start with a simple version of that task, superimposing just the posterior mean values over the height and weight data </font></b>. <font color = 'purple'>Then we’ll slowly add more and more information to the prediction plots, until we’ve used the entire posterior distribution. </font>\n",
    "\n",
    "We’ll start with just the raw data and a single line. The code below plots the raw data, computes the posterior mean values for a and b, then draws the implied line:"
   ]
  },
  {
   "cell_type": "code",
   "execution_count": 103,
   "metadata": {
    "ExecuteTime": {
     "end_time": "2020-01-20T03:36:51.893180Z",
     "start_time": "2020-01-20T03:36:51.718Z"
    },
    "hidden": true
   },
   "outputs": [
    {
     "data": {
      "image/png": "[encoded data removed]",
      "text/plain": [
       "plot without title"
      ]
     },
     "metadata": {
      "image/png": {
       "height": 420,
       "width": 420
      }
     },
     "output_type": "display_data"
    }
   ],
   "source": [
    "plot( height ~ weight , data=d2 , col=rangi2 ) \n",
    "post <- extract.samples( m4.3 )\n",
    "a_map <- mean(post$a)\n",
    "b_map <- mean(post$b)\n",
    "curve( a_map + b_map*(x - xbar) , add=TRUE ) # Figure 4.6"
   ]
  },
  {
   "cell_type": "markdown",
   "metadata": {
    "hidden": true
   },
   "source": [
    "* <font color = 'blue'>Each point in this plot is a single individual.</font> \n",
    "\n",
    "* The black line is defined by the mean slope β and mean intercept α. This is not a bad line. It certainly looks highly plausible. \n",
    "\n",
    "But there an infinite number of other highly plausible lines near it. Let’s draw those too."
   ]
  },
  {
   "cell_type": "markdown",
   "metadata": {},
   "source": [
    "#### Adding uncertainty around the mean"
   ]
  },
  {
   "cell_type": "markdown",
   "metadata": {},
   "source": [
    "<font color = 'green'><b>The <span style='background-color: lightgreen'>posterior mean line</span> is just the posterior mean</b>, the most plausible line in the infinite universe of lines the posterior distribution has considered</font>. \n",
    "\n",
    "* Plots of the average line, like Figure 4.6, are <font color = 'blue'>useful for getting an impression of the magnitude of the estimated influence of a variable</font>. <font color = 'blue'><b>But they do a poor job of communicating uncertainty</b></font>. \n",
    "\n",
    "Remember, the posterior distribution considers every possible regression line connecting height to weight. It assigns a relative plausibility to each. This means that <font color = 'blue'>each combination of α and β has a posterior probability</font>. \n",
    "\n",
    "* It could be that there are many lines with nearly the same posterior probability as the average line. Or it could be instead that the posterior distribution is rather narrow near the average line."
   ]
  },
  {
   "cell_type": "markdown",
   "metadata": {},
   "source": [
    "<b><font color = 'purple'>So how can we get that uncertainty onto the plot? </font></b> Together, a combination of α and β define a line. And so <font color = 'blue'>we could sample a bunch of lines from the posterior distribution. Then we could display those lines on the plot, to visualize the uncertainty in the regression relationship.</font>\n",
    "\n",
    "To better appreciate how the posterior distribution contains lines, we work with all of the samples from the model. Let’s take a closer look at the samples now:\n",
    "\n"
   ]
  },
  {
   "cell_type": "code",
   "execution_count": 102,
   "metadata": {
    "ExecuteTime": {
     "end_time": "2020-01-20T03:34:46.700824Z",
     "start_time": "2020-01-20T03:34:46.632Z"
    }
   },
   "outputs": [
    {
     "data": {
      "text/html": [
       "<table>\n",
       "<caption>A data.frame: 5 × 3</caption>\n",
       "<thead>\n",
       "\t<tr><th scope=col>a</th><th scope=col>b</th><th scope=col>sigma</th></tr>\n",
       "\t<tr><th scope=col>&lt;dbl&gt;</th><th scope=col>&lt;dbl&gt;</th><th scope=col>&lt;dbl&gt;</th></tr>\n",
       "</thead>\n",
       "<tbody>\n",
       "\t<tr><td>155.18</td><td>1.02</td><td>4.74</td></tr>\n",
       "\t<tr><td>154.22</td><td>0.87</td><td>4.91</td></tr>\n",
       "\t<tr><td>154.82</td><td>1.00</td><td>5.25</td></tr>\n",
       "\t<tr><td>154.73</td><td>0.91</td><td>5.11</td></tr>\n",
       "\t<tr><td>154.49</td><td>0.94</td><td>4.85</td></tr>\n",
       "</tbody>\n",
       "</table>\n"
      ],
      "text/latex": [
       "A data.frame: 5 × 3\n",
       "\\begin{tabular}{r|lll}\n",
       " a & b & sigma\\\\\n",
       " <dbl> & <dbl> & <dbl>\\\\\n",
       "\\hline\n",
       "\t 155.18 & 1.02 & 4.74\\\\\n",
       "\t 154.22 & 0.87 & 4.91\\\\\n",
       "\t 154.82 & 1.00 & 5.25\\\\\n",
       "\t 154.73 & 0.91 & 5.11\\\\\n",
       "\t 154.49 & 0.94 & 4.85\\\\\n",
       "\\end{tabular}\n"
      ],
      "text/markdown": [
       "\n",
       "A data.frame: 5 × 3\n",
       "\n",
       "| a &lt;dbl&gt; | b &lt;dbl&gt; | sigma &lt;dbl&gt; |\n",
       "|---|---|---|\n",
       "| 155.18 | 1.02 | 4.74 |\n",
       "| 154.22 | 0.87 | 4.91 |\n",
       "| 154.82 | 1.00 | 5.25 |\n",
       "| 154.73 | 0.91 | 5.11 |\n",
       "| 154.49 | 0.94 | 4.85 |\n",
       "\n"
      ],
      "text/plain": [
       "  a      b    sigma\n",
       "1 155.18 1.02 4.74 \n",
       "2 154.22 0.87 4.91 \n",
       "3 154.82 1.00 5.25 \n",
       "4 154.73 0.91 5.11 \n",
       "5 154.49 0.94 4.85 "
      ]
     },
     "metadata": {},
     "output_type": "display_data"
    }
   ],
   "source": [
    "post <- extract.samples( m4.3 )\n",
    "post[1:5,] %>% round(2)\n",
    "\n",
    "# each row line is line,lines that are more plausible \n",
    "# i.e., lines that have more ways to produce the observed data\n",
    "# are going to show up more in these random samples"
   ]
  },
  {
   "cell_type": "markdown",
   "metadata": {},
   "source": [
    "<font color = 'blue'>Each row is a <b>correlated random sample</b> from the <b>joint posterior</b> of all three parameters, using the covariances provided by vcov(m4.3)</font>. \n",
    "\n",
    "* The paired values of a and b on each row define a line. \n",
    "\n",
    "* The average of very many of these lines is the posterior mean line. But the scatter around that average is meaningful, because it alters our confidence in the relationship between the\n",
    "predictor and the outcome.\n",
    "\n",
    "<b><font color = 'purple'>So now let’s display a bunch of these lines, so you can see the scatter.  </font></b>\n",
    "\n",
    "This lesson will be easier to appreciate, if we use only some of the data to begin. Then you can see how adding in more data changes the scatter of the lines. <font color = 'purple'>So we’ll begin with just the first 10 cases in d2 </font>. The following code extracts the first 10 cases and re-estimates the model:"
   ]
  },
  {
   "cell_type": "code",
   "execution_count": 104,
   "metadata": {
    "ExecuteTime": {
     "end_time": "2020-01-20T03:56:54.990834Z",
     "start_time": "2020-01-20T03:56:54.879Z"
    }
   },
   "outputs": [],
   "source": [
    "## R code 4.48\n",
    "N <- 10\n",
    "dN <- d2[ 1:N , ]\n",
    "\n",
    "# model with only first 10 rows of data\n",
    "mN <- quap(\n",
    "    alist(\n",
    "        height ~ dnorm( mu , sigma ) ,\n",
    "        mu <- a + b*( weight - mean(weight) ) ,\n",
    "        a ~ dnorm( 178 , 20 ) ,\n",
    "        b ~ dlnorm( 0 , 1 ) ,\n",
    "        sigma ~ dunif( 0 , 50 )\n",
    "    ) , data=dN )\n"
   ]
  },
  {
   "cell_type": "code",
   "execution_count": 105,
   "metadata": {
    "ExecuteTime": {
     "end_time": "2020-01-20T03:56:55.550710Z",
     "start_time": "2020-01-20T03:56:55.473Z"
    },
    "hide_input": false
   },
   "outputs": [
    {
     "name": "stdout",
     "output_type": "stream",
     "text": [
      "'data.frame':\t352 obs. of  4 variables:\n",
      " $ height: num  152 140 137 157 145 ...\n",
      " $ weight: num  47.8 36.5 31.9 53 41.3 ...\n",
      " $ age   : num  63 63 65 41 51 35 32 27 19 54 ...\n",
      " $ male  : int  1 0 0 1 0 1 0 1 0 1 ...\n"
     ]
    },
    {
     "data": {
      "text/html": [
       "''"
      ],
      "text/latex": [
       "''"
      ],
      "text/markdown": [
       "''"
      ],
      "text/plain": [
       "[1] \"\""
      ]
     },
     "metadata": {},
     "output_type": "display_data"
    },
    {
     "name": "stdout",
     "output_type": "stream",
     "text": [
      "'data.frame':\t10 obs. of  4 variables:\n",
      " $ height: num  152 140 137 157 145 ...\n",
      " $ weight: num  47.8 36.5 31.9 53 41.3 ...\n",
      " $ age   : num  63 63 65 41 51 35 32 27 19 54\n",
      " $ male  : int  1 0 0 1 0 1 0 1 0 1\n"
     ]
    }
   ],
   "source": [
    "d2 %>% str()\n",
    "''\n",
    "d2[ 1:N , ] %>% str()\n"
   ]
  },
  {
   "cell_type": "markdown",
   "metadata": {},
   "source": [
    "Now let’s plot 20 of these lines, to see what the uncertainty looks like."
   ]
  },
  {
   "cell_type": "code",
   "execution_count": 108,
   "metadata": {
    "ExecuteTime": {
     "end_time": "2020-01-20T03:57:06.777548Z",
     "start_time": "2020-01-20T03:57:06.536Z"
    }
   },
   "outputs": [
    {
     "data": {
      "image/png": "[encoded data removed]",
      "text/plain": [
       "plot without title"
      ]
     },
     "metadata": {
      "image/png": {
       "height": 420,
       "width": 420
      }
     },
     "output_type": "display_data"
    }
   ],
   "source": [
    "## R code 4.49\n",
    "# extract 20 samples from the posterior\n",
    "post <- extract.samples( mN , n=20 )\n",
    "\n",
    "# display raw data and sample size\n",
    "plot( dN$weight , dN$height ,\n",
    "    xlim=range(d2$weight) , ylim=range(d2$height) ,\n",
    "    col=rangi2 , xlab=\"weight\" , ylab=\"height\" )\n",
    "mtext(concat(\"N = \",N))\n",
    "\n",
    "# plot the lines, with transparency\n",
    "for ( i in 1:20 )\n",
    "    curve( post$a[i] + post$b[i]*(x-mean(dN$weight)) ,\n",
    "        col=col.alpha(\"black\",0.3) , add=TRUE )\n",
    "\n",
    "# if we plot all the rows, they'll overlap more in areas where \n",
    "# it's more plausible that vblines exists, from that we get the uncertainty"
   ]
  },
  {
   "cell_type": "code",
   "execution_count": 110,
   "metadata": {
    "ExecuteTime": {
     "end_time": "2020-01-20T21:46:53.256790Z",
     "start_time": "2020-01-20T21:46:52.983Z"
    }
   },
   "outputs": [
    {
     "data": {
      "image/png": "[encoded data removed]",
      "text/plain": [
       "plot without title"
      ]
     },
     "metadata": {
      "image/png": {
       "height": 420,
       "width": 420
      }
     },
     "output_type": "display_data"
    }
   ],
   "source": [
    "## R code 4.49\n",
    "# extract 20 samples from the posterior\n",
    "post <- extract.samples( mN , n=20 )\n",
    "\n",
    "# display raw data and sample size\n",
    "plot( dN$weight , dN$height ,\n",
    "    xlim=range(d2$weight) , ylim=range(d2$height) ,\n",
    "    col=rangi2 , xlab=\"weight\" , ylab=\"height\" )\n",
    "mtext(concat(\"N = \",N))\n",
    "\n",
    "# plot the lines, with transparency\n",
    "for ( i in 1:20 )\n",
    "    curve( post$a[i] + post$b[i]*(x-mean(dN$weight)) ,\n",
    "        col=col.alpha(\"black\",0.3) , add=TRUE )"
   ]
  },
  {
   "cell_type": "markdown",
   "metadata": {},
   "source": [
    "The last line loops over all 20 lines, using curve to display each. The result is shown in the upper-left plot in Figure 4.7. \n",
    "\n",
    "By plotting multiple regression lines, sampled from the posterior, it is easy to see both the highly confident aspects of the relationship and the less confident aspects. \n",
    "\n",
    "* <font color = 'blue'>The cloud of regression lines displays greater uncertainty at extreme values for weight</font>. \n",
    "\n",
    "The other plots in Figure 4.7 show the same relationships, but for increasing amounts of data. Just re-use the code from before, but change ```N <- 10``` to some other value. \n",
    "\n",
    "* <font color = 'blue'>Notice that the cloud of regression lines grows more compact as the sample size increases</font>. This is a result of the model growing more confident about the location of the mean."
   ]
  },
  {
   "cell_type": "markdown",
   "metadata": {},
   "source": [
    "<img src='pics/SR_c37.png' alt='Drawing' style='width:425pt'/>"
   ]
  },
  {
   "cell_type": "markdown",
   "metadata": {},
   "source": [
    "<span style='background-color: pink'>The mean must pass through the mean of both variables</span>"
   ]
  },
  {
   "cell_type": "markdown",
   "metadata": {},
   "source": [
    "#### <font color = 'green'>Plotting regression intervals and contours (<span style='background-color: lightyellow'>compatibility/confidence regions/intervals</span>)</font>"
   ]
  },
  {
   "cell_type": "markdown",
   "metadata": {
    "cell_style": "center"
   },
   "source": [
    "##### Intro/Summary"
   ]
  },
  {
   "cell_type": "markdown",
   "metadata": {},
   "source": [
    "To summarize, here’s the recipe for generating predictions and intervals from the posterior of a fit model.\n",
    "\n",
    "(1) <font color = 'blue'>Use link to generate distributions of posterior values for µ</font>. The default behavior of link is to use the original data, so you have to pass it a list of new horizontal axis values you want to plot posterior predictions across.\n",
    "\n",
    "(2) <font color = 'blue'>Use summary functions like mean or PI to find averages and lower and upper bounds of µ for each value of the predictor variable.</font>\n",
    "\n",
    "(3) Finally,<font color = 'blue'> use plotting functions like lines and shade to draw the lines and intervals</font>. Or you might plot the distributions of the predictions, or do further numerical calculations with them. It’s really up to you.\n",
    "\n",
    "This recipe works for every model we fit in the book. As long as you know the structure of the model—how parameters relate to the data—you can use samples from the posterior to describe any aspect of the model’s behavior."
   ]
  },
  {
   "cell_type": "markdown",
   "metadata": {},
   "source": [
    "##### <b><font color = 'maroon'>(1) Generate distributions of posterior values for outcome variable of interest</font></b>: <b><font color = 'purple'>e.g., mu_at_50  </font></b>"
   ]
  },
  {
   "cell_type": "markdown",
   "metadata": {},
   "source": [
    "The cloud of regression lines in Figure 4.7 is an appealing display, because it communicates uncertainty about the relationship in a way that many people find intuitive. But it’s <font color = 'blue'>more common, and often much clearer</font>, to see the uncertainty displayed by <b><font color = 'purple'>plotting an interval or contour around the average regression line </font></b>. \n",
    "\n",
    "<font color = 'purple'>In this section, I’ll walk you through how to compute any arbitrary interval you like, using the underlying cloud of regression lines embodied in the posterior distribution. </font>\n",
    "\n",
    "<font color = 'blue'>Focus for the moment on a single weight value, say 50 kilograms. \n",
    "    \n",
    "* You can quickly make a list of 10,000 values of µ for an individual who weighs 50 kilograms, by using your samples from the posterior: </font>\n",
    "\n"
   ]
  },
  {
   "cell_type": "code",
   "execution_count": 6,
   "metadata": {
    "ExecuteTime": {
     "end_time": "2020-01-20T21:47:06.778351Z",
     "start_time": "2020-01-20T21:47:06.653Z"
    },
    "code_folding": []
   },
   "outputs": [],
   "source": [
    "# fit model\n",
    "m4.3 <- quap(\n",
    "    alist(\n",
    "        height ~ dnorm( mu , sigma ) ,\n",
    "        mu <- a + b*( weight - xbar ) ,\n",
    "        a ~ dnorm( 178 , 20 ) ,\n",
    "        b ~ dlnorm( 0 , 1 ) ,\n",
    "        sigma ~ dunif( 0 , 50 )\n",
    "    ) ,\n",
    "    data=d2 )"
   ]
  },
  {
   "cell_type": "code",
   "execution_count": 7,
   "metadata": {
    "ExecuteTime": {
     "end_time": "2020-01-20T21:47:07.542887Z",
     "start_time": "2020-01-20T21:47:07.488Z"
    },
    "hide_input": true
   },
   "outputs": [
    {
     "data": {
      "text/html": [
       "<table>\n",
       "<caption>A precis: 3 × 4</caption>\n",
       "<thead>\n",
       "\t<tr><th></th><th scope=col>mean</th><th scope=col>sd</th><th scope=col>5.5%</th><th scope=col>94.5%</th></tr>\n",
       "\t<tr><th></th><th scope=col>&lt;dbl&gt;</th><th scope=col>&lt;dbl&gt;</th><th scope=col>&lt;dbl&gt;</th><th scope=col>&lt;dbl&gt;</th></tr>\n",
       "</thead>\n",
       "<tbody>\n",
       "\t<tr><th scope=row>a</th><td>154.6013589</td><td>0.2703081</td><td>154.169354</td><td>155.0333634</td></tr>\n",
       "\t<tr><th scope=row>b</th><td>  0.9032792</td><td>0.0419237</td><td>  0.836277</td><td>  0.9702814</td></tr>\n",
       "\t<tr><th scope=row>sigma</th><td>  5.0718889</td><td>0.1911555</td><td>  4.766385</td><td>  5.3773923</td></tr>\n",
       "</tbody>\n",
       "</table>\n"
      ],
      "text/latex": [
       "A precis: 3 × 4\n",
       "\\begin{tabular}{r|llll}\n",
       "  & mean & sd & 5.5\\% & 94.5\\%\\\\\n",
       "  & <dbl> & <dbl> & <dbl> & <dbl>\\\\\n",
       "\\hline\n",
       "\ta & 154.6013589 & 0.2703081 & 154.169354 & 155.0333634\\\\\n",
       "\tb &   0.9032792 & 0.0419237 &   0.836277 &   0.9702814\\\\\n",
       "\tsigma &   5.0718889 & 0.1911555 &   4.766385 &   5.3773923\\\\\n",
       "\\end{tabular}\n"
      ],
      "text/markdown": [
       "\n",
       "A precis: 3 × 4\n",
       "\n",
       "| <!--/--> | mean &lt;dbl&gt; | sd &lt;dbl&gt; | 5.5% &lt;dbl&gt; | 94.5% &lt;dbl&gt; |\n",
       "|---|---|---|---|---|\n",
       "| a | 154.6013589 | 0.2703081 | 154.169354 | 155.0333634 |\n",
       "| b |   0.9032792 | 0.0419237 |   0.836277 |   0.9702814 |\n",
       "| sigma |   5.0718889 | 0.1911555 |   4.766385 |   5.3773923 |\n",
       "\n"
      ],
      "text/plain": [
       "      mean        sd        5.5%       94.5%      \n",
       "a     154.6013589 0.2703081 154.169354 155.0333634\n",
       "b       0.9032792 0.0419237   0.836277   0.9702814\n",
       "sigma   5.0718889 0.1911555   4.766385   5.3773923"
      ]
     },
     "metadata": {},
     "output_type": "display_data"
    }
   ],
   "source": [
    "m4.3 %>% precis"
   ]
  },
  {
   "cell_type": "code",
   "execution_count": 8,
   "metadata": {
    "ExecuteTime": {
     "end_time": "2020-01-20T21:47:08.135470Z",
     "start_time": "2020-01-20T21:47:08.071Z"
    }
   },
   "outputs": [
    {
     "name": "stdout",
     "output_type": "stream",
     "text": [
      "'data.frame':\t10000 obs. of  3 variables:\n",
      " $ a    : num  155 155 154 155 155 ...\n",
      " $ b    : num  0.973 0.967 0.892 0.931 0.924 ...\n",
      " $ sigma: num  5.01 4.78 5.02 4.87 5.09 ...\n",
      " - attr(*, \"source\")= chr \"quap posterior: 10000 samples from m4.3\"\n"
     ]
    }
   ],
   "source": [
    "# samples of parameters (a,b,sigma) from the \n",
    "# multi-dimensional posterior distribution of m4.3 \n",
    "# (gaussian approximation)\n",
    "\n",
    "post <- extract.samples( m4.3 )\n",
    "post %>% str\n",
    "\n",
    "mu_at_50 <- post$a + post$b * ( 50 - xbar )\n"
   ]
  },
  {
   "cell_type": "markdown",
   "metadata": {},
   "source": [
    "The code to the right of the ```<-``` above takes its form from the equation for $µ_i$:\n",
    "\n",
    "$µ_i = α + β(x_i − \\bar{x})$\n",
    "\n",
    "The value of $x_i$ in this case is 50. Go ahead and take a look inside the result, mu_at_50. "
   ]
  },
  {
   "cell_type": "code",
   "execution_count": 9,
   "metadata": {
    "ExecuteTime": {
     "end_time": "2020-01-20T21:47:10.507798Z",
     "start_time": "2020-01-20T21:47:10.450Z"
    },
    "hide_input": false
   },
   "outputs": [
    {
     "data": {
      "text/html": [
       "<ol class=list-inline>\n",
       "\t<li>159.839885150115</li>\n",
       "\t<li>159.790849708428</li>\n",
       "\t<li>158.777352748547</li>\n",
       "\t<li>159.299566284869</li>\n",
       "\t<li>159.285075267259</li>\n",
       "\t<li>159.003404933711</li>\n",
       "</ol>\n"
      ],
      "text/latex": [
       "\\begin{enumerate*}\n",
       "\\item 159.839885150115\n",
       "\\item 159.790849708428\n",
       "\\item 158.777352748547\n",
       "\\item 159.299566284869\n",
       "\\item 159.285075267259\n",
       "\\item 159.003404933711\n",
       "\\end{enumerate*}\n"
      ],
      "text/markdown": [
       "1. 159.839885150115\n",
       "2. 159.790849708428\n",
       "3. 158.777352748547\n",
       "4. 159.299566284869\n",
       "5. 159.285075267259\n",
       "6. 159.003404933711\n",
       "\n",
       "\n"
      ],
      "text/plain": [
       "[1] 159.8399 159.7908 158.7774 159.2996 159.2851 159.0034"
      ]
     },
     "metadata": {},
     "output_type": "display_data"
    },
    {
     "data": {
      "text/html": [
       "10000"
      ],
      "text/latex": [
       "10000"
      ],
      "text/markdown": [
       "10000"
      ],
      "text/plain": [
       "[1] 10000"
      ]
     },
     "metadata": {},
     "output_type": "display_data"
    }
   ],
   "source": [
    "mu_at_50 %>% head\n",
    "mu_at_50 %>% length()"
   ]
  },
  {
   "cell_type": "markdown",
   "metadata": {},
   "source": [
    "It’s a vector of predicted means, one for each random sample from the posterior. \n",
    "\n",
    "<font color = 'blue'>Since joint a and b went into computing each, the variation across those means incorporates the uncertainty in and correlation between both parameters</font>. It might be helpful at this point to actually plot the density for this vector of means:"
   ]
  },
  {
   "cell_type": "code",
   "execution_count": 10,
   "metadata": {
    "ExecuteTime": {
     "end_time": "2020-01-20T21:47:14.257770Z",
     "start_time": "2020-01-20T21:47:14.150Z"
    }
   },
   "outputs": [
    {
     "data": {
      "image/png": "[encoded data removed]",
      "text/plain": [
       "Plot with title \"Figure 4.8\""
      ]
     },
     "metadata": {
      "image/png": {
       "height": 420,
       "width": 420
      },
      "text/plain": {
       "height": 420,
       "width": 420
      }
     },
     "output_type": "display_data"
    }
   ],
   "source": [
    "# post$a %>% dens()\n",
    "# post$b %>% dens()\n",
    "# post$sigma %>% dens()\n",
    "dens( mu_at_50 , col=rangi2 , lwd=2 , \n",
    "     xlab=\"mu|weight=50\",  \n",
    "     main=\"Figure 4.8\")  #Fig 4.8"
   ]
  },
  {
   "cell_type": "markdown",
   "metadata": {},
   "source": [
    "<font color = 'blue'><b>Since the components of µ have distributions, so too does µ</b>. And since the distributions of α and β are Gaussian, so to is the distribution of µ (adding Gaussian distributions always produces a Gaussian distribution).</font>"
   ]
  },
  {
   "cell_type": "markdown",
   "metadata": {},
   "source": [
    "##### <b><font color = 'maroon'>(2) Use summary functions like mean or PI to find averages and lower and upper bounds of µ for each value of the predictor variable. </font></b>"
   ]
  },
  {
   "cell_type": "markdown",
   "metadata": {},
   "source": [
    "###### <b><font color = 'maroon'>Compatability interval for Mu_at_50</font></b>"
   ]
  },
  {
   "cell_type": "markdown",
   "metadata": {},
   "source": [
    "Since the posterior for µ is a distribution, you can find intervals for it, just like for any posterior distribution. To find the 89% compatibility interval of µ at 50 kg, just use the PI command as usual:"
   ]
  },
  {
   "cell_type": "code",
   "execution_count": 11,
   "metadata": {
    "ExecuteTime": {
     "end_time": "2020-01-20T22:18:50.792109Z",
     "start_time": "2020-01-20T22:18:50.740Z"
    }
   },
   "outputs": [
    {
     "data": {
      "text/html": [
       "<dl class=dl-horizontal>\n",
       "\t<dt>5%</dt>\n",
       "\t\t<dd>158.57</dd>\n",
       "\t<dt>94%</dt>\n",
       "\t\t<dd>159.67</dd>\n",
       "</dl>\n"
      ],
      "text/latex": [
       "\\begin{description*}\n",
       "\\item[5\\textbackslash{}\\%] 158.57\n",
       "\\item[94\\textbackslash{}\\%] 159.67\n",
       "\\end{description*}\n"
      ],
      "text/markdown": [
       "5%\n",
       ":   158.5794%\n",
       ":   159.67\n",
       "\n"
      ],
      "text/plain": [
       "    5%    94% \n",
       "158.57 159.67 "
      ]
     },
     "metadata": {},
     "output_type": "display_data"
    }
   ],
   "source": [
    "PI( mu_at_50 , prob=0.89 ) %>% round(2)"
   ]
  },
  {
   "cell_type": "markdown",
   "metadata": {},
   "source": [
    "> What these numbers mean is that <font color = 'blue'>the <b>central 89%</b> of the <b>ways for the model to produce the data</b> place the average <b>height between about 159 cm and 160 cm</b> (conditional on the model and data), assuming the weight is 50 kg</font>.\n",
    "\n",
    "That’s good so far, but <b><font color = 'purple'><span style='background-color: lightyellow'>we need to repeat the above calculation for every weight value on the horizontal axis</span> </font></b>, not just when it is 50 kg. <font color = 'purple'>We want to draw 89% intervals around the average slope in Figure 4.6 just below. </font>"
   ]
  },
  {
   "cell_type": "markdown",
   "metadata": {
    "heading_collapsed": true
   },
   "source": [
    "###### <b><font color = 'MAROON'>Predict every Mu (height) for every weight case in the data </span> </font></b>"
   ]
  },
  {
   "cell_type": "code",
   "execution_count": 12,
   "metadata": {
    "ExecuteTime": {
     "end_time": "2020-01-20T23:30:19.497906Z",
     "start_time": "2020-01-20T23:30:19.343Z"
    },
    "hidden": true,
    "hide_input": false
   },
   "outputs": [
    {
     "data": {
      "image/png": "[encoded data removed]",
      "text/plain": [
       "Plot with title \"Figure 4.6\""
      ]
     },
     "metadata": {
      "image/png": {
       "height": 420,
       "width": 420
      },
      "text/plain": {
       "height": 420,
       "width": 420
      }
     },
     "output_type": "display_data"
    }
   ],
   "source": [
    "plot( height ~ weight , data=d2 , col=rangi2, main=\"Figure 4.6\") \n",
    "post <- extract.samples( m4.3 )\n",
    "\n",
    "# highest posterior probability is same as\n",
    "# maximum a posteriori (MAP) estimate\n",
    "# MAP = quadratic approx with uniform priors/sufficient data\n",
    "a_map <- mean(post$a) \n",
    "b_map <- mean(post$b)\n",
    "\n",
    "curve( a_map + b_map*(x - xbar) , add=TRUE ) # Figure 4.6\n",
    "# draws the line of best fit\n"
   ]
  },
  {
   "cell_type": "markdown",
   "metadata": {
    "hidden": true
   },
   "source": [
    "<b><font color = 'purple'>This is made simple by strategic use of the ```link``` function, a part of the rethinking package </font></b>. \n",
    "\n",
    "> <font color = 'green'>What <span style='background-color: lightgreen'>link</span> will do is <b>take your quap approximation, sample from the posterior distribution</b>, and then <b><font color = 'red'>compute µ for each _case_ in the data</font></b> and sample from the posterior distribution</font>. \n",
    "\n",
    "Here’s what it looks like for the data you used to fit the model:"
   ]
  },
  {
   "cell_type": "code",
   "execution_count": 13,
   "metadata": {
    "ExecuteTime": {
     "end_time": "2020-01-20T23:30:22.311243Z",
     "start_time": "2020-01-20T23:30:22.037Z"
    },
    "hidden": true,
    "scrolled": true
   },
   "outputs": [
    {
     "name": "stdout",
     "output_type": "stream",
     "text": [
      " num [1:1000, 1:352] 157 158 157 157 157 ...\n"
     ]
    }
   ],
   "source": [
    "mu <- link( m4.3 )\n",
    "str(mu)\n",
    "# link( m4.3 ) gives us a distribution of µ for \n",
    "# each individual in the original data.\n",
    "# cols = 352 height cases\n",
    "# row = posterior distribution of heights for the column case"
   ]
  },
  {
   "cell_type": "code",
   "execution_count": 14,
   "metadata": {
    "ExecuteTime": {
     "end_time": "2020-01-20T23:30:23.871610Z",
     "start_time": "2020-01-20T23:30:23.811Z"
    },
    "hidden": true
   },
   "outputs": [
    {
     "data": {
      "text/html": [
       "1000"
      ],
      "text/latex": [
       "1000"
      ],
      "text/markdown": [
       "1000"
      ],
      "text/plain": [
       "[1] 1000"
      ]
     },
     "metadata": {},
     "output_type": "display_data"
    },
    {
     "data": {
      "text/html": [
       "352"
      ],
      "text/latex": [
       "352"
      ],
      "text/markdown": [
       "352"
      ],
      "text/plain": [
       "[1] 352"
      ]
     },
     "metadata": {},
     "output_type": "display_data"
    }
   ],
   "source": [
    "mu %>% nrow()\n",
    "mu %>% ncol()"
   ]
  },
  {
   "cell_type": "markdown",
   "metadata": {
    "hidden": true
   },
   "source": [
    "<font color = 'blue'><b>You end up with a big matrix of values of µ. Each row is a sample from the posterior distribution.</b></font> \n",
    "\n",
    "* The default is 1000 samples <font color = 'lightgrey'>, but you can use as many or as few as you like.</font> \n",
    "\n",
    "* <font color = 'blue'>Each column is a case (row/weight value) in the data</font>. There are 352 rows in d2, corresponding to 352 individuals. So there are 352 columns in the matrix mu above.\n",
    "\n",
    "    Each column represents 1000 samples from the posterior distribution of Mu (height) for the corresponding weight in d2"
   ]
  },
  {
   "cell_type": "markdown",
   "metadata": {
    "heading_collapsed": true
   },
   "source": [
    "###### <b><font color = 'maroon'>Calculate compatability interval for every Mu</span> </font></b>"
   ]
  },
  {
   "cell_type": "markdown",
   "metadata": {
    "hidden": true
   },
   "source": [
    "<b><font color = 'purple'>Now what can we do with this big matrix? </font></b> Lots of things. <font color = 'blue'><b>The function link provides a posterior distribution of µ for each case we feed it</b></font>. \n",
    "\n",
    "\n",
    "So above we have a <b>distribution of µ for each individual in the original data</b>. \n",
    "> <font color = 'purple'><b>We actually want something slightly different</b> </font>: <font color = 'green'><b>a distribution of µ for each unique weight value on the horizontal axis</b></font>. \n",
    "\n",
    "It’s only slightly harder to compute that, by just passing link some new data:\n"
   ]
  },
  {
   "cell_type": "code",
   "execution_count": 15,
   "metadata": {
    "ExecuteTime": {
     "end_time": "2020-01-20T23:32:05.632281Z",
     "start_time": "2020-01-20T23:32:05.268Z"
    },
    "hidden": true
   },
   "outputs": [
    {
     "name": "stdout",
     "output_type": "stream",
     "text": [
      " num [1:1000, 1:46] 138 136 138 136 138 ...\n"
     ]
    }
   ],
   "source": [
    "# define sequence of weights to compute predictions for\n",
    "# these values will be on the horizontal axis\n",
    "weight.seq <- seq( from=25 , to=70 , by=1 )\n",
    "\n",
    "# use link to compute mu\n",
    "# for each sample from posterior\n",
    "# and for each weight in weight.seq\n",
    "mu <- link( m4.3 , data=data.frame(weight=weight.seq) )\n",
    "str(mu)\n",
    "\n",
    "# OUTPUT:\n",
    "# each row is a sample from the posterior distribution \n",
    "# and each column is a value of weight"
   ]
  },
  {
   "cell_type": "markdown",
   "metadata": {
    "hidden": true
   },
   "source": [
    "And now there are only 46 columns in mu, because we fed it 46 different values for weight.\n",
    "To visualize what you’ve got here, <b><font color = 'purple'>let’s plot the distribution of µ values at each weight. </font></b>"
   ]
  },
  {
   "cell_type": "code",
   "execution_count": 16,
   "metadata": {
    "ExecuteTime": {
     "end_time": "2020-01-20T23:32:07.502403Z",
     "start_time": "2020-01-20T23:32:06.963Z"
    },
    "hidden": true
   },
   "outputs": [
    {
     "data": {
      "image/png": "[encoded data removed]",
      "text/plain": [
       "plot without title"
      ]
     },
     "metadata": {
      "image/png": {
       "height": 420,
       "width": 420
      },
      "text/plain": {
       "height": 420,
       "width": 420
      }
     },
     "output_type": "display_data"
    }
   ],
   "source": [
    "## R code 4.55\n",
    "# use type=\"n\" to hide raw data\n",
    "plot( height ~ weight , d2 , type=\"n\" )\n",
    "\n",
    "# loop over samples and plot each mu value\n",
    "for ( i in 1:100 )\n",
    "    points( weight.seq , mu[i,] , pch=16 , col=col.alpha(rangi2,0.1) )"
   ]
  },
  {
   "cell_type": "markdown",
   "metadata": {
    "hidden": true
   },
   "source": [
    "At each weight value in weight.seq, a pile of computed µ values are shown. Each of these piles is a Gaussian distribution, like that in Figure 4.8\n",
    "\n",
    "<b><font color = 'purple'>The final step is to summarize the distribution for each weight value.  </font></b> <font color = 'blue'>We’ll use <span style='background-color: lightgreen'>apply</span>, which applies a function of your choice to a matrix</font>."
   ]
  },
  {
   "cell_type": "code",
   "execution_count": 17,
   "metadata": {
    "ExecuteTime": {
     "end_time": "2020-01-20T23:32:13.752876Z",
     "start_time": "2020-01-20T23:32:13.679Z"
    },
    "hidden": true
   },
   "outputs": [],
   "source": [
    "# summarize the distribution of mu\n",
    "mu.mean <- apply( mu , 2 , mean )\n",
    "mu.PI <- apply( mu , 2 , PI , prob=0.89 )"
   ]
  },
  {
   "cell_type": "code",
   "execution_count": 18,
   "metadata": {
    "ExecuteTime": {
     "end_time": "2020-01-20T23:32:14.358889Z",
     "start_time": "2020-01-20T23:32:14.298Z"
    },
    "hidden": true
   },
   "outputs": [
    {
     "name": "stdout",
     "output_type": "stream",
     "text": [
      " num [1:2, 1:46] 135 138 136 139 137 ...\n",
      " - attr(*, \"dimnames\")=List of 2\n",
      "  ..$ : chr [1:2] \"5%\" \"94%\"\n",
      "  ..$ : NULL\n"
     ]
    },
    {
     "data": {
      "text/html": [
       "<table>\n",
       "<caption>A matrix: 2 × 46 of type dbl</caption>\n",
       "<tbody>\n",
       "\t<tr><th scope=row>5%</th><td>135.1624</td><td>136.1248</td><td>137.0947</td><td>138.0618</td><td>139.0285</td><td>140.0027</td><td>140.9797</td><td>141.9329</td><td>142.8958</td><td>143.8528</td><td>...</td><td>167.8559</td><td>168.694</td><td>169.5334</td><td>170.3641</td><td>171.1980</td><td>172.0331</td><td>172.8803</td><td>173.7225</td><td>174.5660</td><td>175.4137</td></tr>\n",
       "\t<tr><th scope=row>94%</th><td>137.9493</td><td>138.7791</td><td>139.6087</td><td>140.4480</td><td>141.2909</td><td>142.1319</td><td>142.9711</td><td>143.8197</td><td>144.6673</td><td>145.5044</td><td>...</td><td>170.2454</td><td>171.212</td><td>172.1942</td><td>173.1716</td><td>174.1592</td><td>175.1426</td><td>176.1244</td><td>177.0940</td><td>178.0525</td><td>179.0190</td></tr>\n",
       "</tbody>\n",
       "</table>\n"
      ],
      "text/latex": [
       "A matrix: 2 × 46 of type dbl\n",
       "\\begin{tabular}{r|llllllllllllllllllllllllllllllllllllllllllllll}\n",
       "\t5\\% & 135.1624 & 136.1248 & 137.0947 & 138.0618 & 139.0285 & 140.0027 & 140.9797 & 141.9329 & 142.8958 & 143.8528 & 144.8116 & 145.7784 & 146.7279 & 147.6921 & 148.6326 & 149.5584 & 150.5016 & 151.4388 & 152.3710 & 153.2797 & 154.1729 & 155.0523 & 155.9302 & 156.8153 & 157.6807 & 158.5434 & 159.4062 & 160.2698 & 161.1096 & 161.9502 & 162.7916 & 163.6348 & 164.4851 & 165.3258 & 166.1514 & 167.0039 & 167.8559 & 168.694 & 169.5334 & 170.3641 & 171.1980 & 172.0331 & 172.8803 & 173.7225 & 174.5660 & 175.4137\\\\\n",
       "\t94\\% & 137.9493 & 138.7791 & 139.6087 & 140.4480 & 141.2909 & 142.1319 & 142.9711 & 143.8197 & 144.6673 & 145.5044 & 146.3465 & 147.1912 & 148.0579 & 148.9226 & 149.7770 & 150.6229 & 151.4800 & 152.3328 & 153.2228 & 154.1142 & 155.0209 & 155.9243 & 156.8500 & 157.7951 & 158.7344 & 159.6699 & 160.6227 & 161.5916 & 162.5618 & 163.5103 & 164.4661 & 165.4289 & 166.3836 & 167.3539 & 168.3210 & 169.2770 & 170.2454 & 171.212 & 172.1942 & 173.1716 & 174.1592 & 175.1426 & 176.1244 & 177.0940 & 178.0525 & 179.0190\\\\\n",
       "\\end{tabular}\n"
      ],
      "text/markdown": [
       "\n",
       "A matrix: 2 × 46 of type dbl\n",
       "\n",
       "| 5% | 135.1624 | 136.1248 | 137.0947 | 138.0618 | 139.0285 | 140.0027 | 140.9797 | 141.9329 | 142.8958 | 143.8528 | ... | 167.8559 | 168.694 | 169.5334 | 170.3641 | 171.1980 | 172.0331 | 172.8803 | 173.7225 | 174.5660 | 175.4137 |\n",
       "| 94% | 137.9493 | 138.7791 | 139.6087 | 140.4480 | 141.2909 | 142.1319 | 142.9711 | 143.8197 | 144.6673 | 145.5044 | ... | 170.2454 | 171.212 | 172.1942 | 173.1716 | 174.1592 | 175.1426 | 176.1244 | 177.0940 | 178.0525 | 179.0190 |\n",
       "\n"
      ],
      "text/plain": [
       "    [,1]     [,2]     [,3]     [,4]     [,5]     [,6]     [,7]     [,8]    \n",
       "5%  135.1624 136.1248 137.0947 138.0618 139.0285 140.0027 140.9797 141.9329\n",
       "94% 137.9493 138.7791 139.6087 140.4480 141.2909 142.1319 142.9711 143.8197\n",
       "    [,9]     [,10]    [,11] [,12]    [,13]   [,14]    [,15]    [,16]   \n",
       "5%  142.8958 143.8528 ...   167.8559 168.694 169.5334 170.3641 171.1980\n",
       "94% 144.6673 145.5044 ...   170.2454 171.212 172.1942 173.1716 174.1592\n",
       "    [,17]    [,18]    [,19]    [,20]    [,21]   \n",
       "5%  172.0331 172.8803 173.7225 174.5660 175.4137\n",
       "94% 175.1426 176.1244 177.0940 178.0525 179.0190"
      ]
     },
     "metadata": {},
     "output_type": "display_data"
    }
   ],
   "source": [
    "mu.PI %>% str\n",
    "\n",
    "mu.PI %>% head"
   ]
  },
  {
   "cell_type": "markdown",
   "metadata": {
    "hidden": true
   },
   "source": [
    "<font color = 'green'>Read ```apply(mu,2,mean)``` as compute the mean of each column (dimension “2”) of the matrix mu</font>. \n",
    "\n",
    "* <font color = 'blue'>Now mu.mean contains the average µ at each weight value, and mu.PI contains 89% lower and upper bounds for each weight value</font>. \n",
    "\n",
    "Be sure to take a look inside mu.mean and mu.PI, to demystify them. They are just different kinds of summaries of the distributions in mu, with <font color = 'green'><b>each column being for a different weight value</b></font>. <font color = 'blue'>These summaries are only summaries. The “estimate” is the entire distribution.</font>"
   ]
  },
  {
   "cell_type": "markdown",
   "metadata": {
    "heading_collapsed": true
   },
   "source": [
    "##### <b><font color = 'maroon'>(3) Use plotting functions like lines and shade to draw the lines and intervals. </font></b>"
   ]
  },
  {
   "cell_type": "markdown",
   "metadata": {
    "hidden": true
   },
   "source": [
    "You can plot these summaries on top of the data with a few lines of R code:"
   ]
  },
  {
   "cell_type": "code",
   "execution_count": 39,
   "metadata": {
    "ExecuteTime": {
     "end_time": "2020-01-20T23:32:18.291322Z",
     "start_time": "2020-01-20T23:32:18.143Z"
    },
    "hidden": true
   },
   "outputs": [
    {
     "data": {
      "image/png": "[encoded data removed]",
      "text/plain": [
       "Plot with title \"Fig 4.9\""
      ]
     },
     "metadata": {
      "image/png": {
       "height": 420,
       "width": 420
      },
      "text/plain": {
       "height": 420,
       "width": 420
      }
     },
     "output_type": "display_data"
    }
   ],
   "source": [
    "# plot raw data \n",
    "# fading out points to make line and interval more visible\n",
    "plot( height ~ weight , data=d2 , col=col.alpha(rangi2,0.5), main=\"Fig 4.9\" )\n",
    "\n",
    "# plot the MAP line, aka the mean mu for each weight\n",
    "lines( weight.seq , mu.mean )\n",
    "\n",
    "# plot a shaded region for 89% PI\n",
    "shade( mu.PI , weight.seq )"
   ]
  },
  {
   "cell_type": "markdown",
   "metadata": {
    "hidden": true
   },
   "source": [
    "<font color = 'red'>Using this approach, you can derive and plot posterior prediction means and intervals for quite complicated models, for any data you choose</font>. \n",
    "\n",
    "<font color = 'lightgrey'>It’s true that it is possible to use analytical formulas to compute intervals like this. I have tried teaching such an analytical approach before, and it has always been disaster. Part of the reason is probably my own failure as a teacher, but another part is that most social and natural scientists have never had much training in probability theory and tend to get very nervous around integrals. I’m sure with enough effort, every one of them could learn to do the mathematics. But all of them can quickly learn to generate and summarize samples derived from the posterior distribution</font>. \n",
    "\n",
    "So while the mathematics would be a more elegant approach, and there is some additional insight that comes from knowing the mathematics, <font color = 'blue'>the pseudo-empirical approach presented here is very flexible and allows a much broader audience of scientists to pull insight from their statistical modeling</font>. And again, when you start estimating models with MCMC (Chapter 9), this is really the only approach available. So it’s worth learning now."
   ]
  },
  {
   "cell_type": "markdown",
   "metadata": {
    "heading_collapsed": true
   },
   "source": [
    "##### Rethinking: Overconfident confidence intervals. "
   ]
  },
  {
   "cell_type": "markdown",
   "metadata": {
    "hidden": true
   },
   "source": [
    "The confidence interval for <font color = 'blue'>the regression line in Figure 4.9 clings tightly to the MAP line. Thus there is very little uncertainty about the average height as a function of average weight</font>. <font color = 'red'>But you have to keep in mind that these inferences are always conditional on the model. Even a very bad model can have very tight confidence intervals</font>. \n",
    "\n",
    "> It may help if you think of the regression line in Figure 4.9 as saying: <font color = 'blue'>Conditional on the assumption that height and weight are related by a straight line, then this is the most plausible line, and these are its plausible bounds</font>."
   ]
  },
  {
   "cell_type": "markdown",
   "metadata": {
    "heading_collapsed": true
   },
   "source": [
    "#### <font color = 'green'>Prediction intervals</font>"
   ]
  },
  {
   "cell_type": "markdown",
   "metadata": {
    "heading_collapsed": true,
    "hidden": true
   },
   "source": [
    "##### <b><font color = 'maroon'>let’s walk through generating an 89% prediction interval for actual heights, not just the average height, µ </font></b>"
   ]
  },
  {
   "cell_type": "markdown",
   "metadata": {
    "hidden": true
   },
   "source": [
    "This means we’ll incorporate the standard deviation σ and its uncertainty as well. \n",
    "\n",
    "Remember, the first line of the statistical model here is:\n",
    "\n",
    "&nbsp;&nbsp;&nbsp;&nbsp;&nbsp;&nbsp;&nbsp;&nbsp;&nbsp;&nbsp;&nbsp;&nbsp;\n",
    "$\\begin{align}h_i ∼ Normal(µi, σ)\\end{align}$\n",
    "\n",
    "<font color = 'blue'>What you’ve done so far is just use samples from the posterior to visualize the uncertainty in $µ_i$</font>, <font color = 'blue'><b>the linear model of the mean</b></font>. But actual predictions of heights depend also upon the distribution in the first line. The Gaussian distribution on the first line tells us that the model expects observed heights to be distributed around µ, not right on top of it. And the spread around µ is governed by σ. \n",
    "\n",
    "<b><font color = 'purple'>All of this suggests we need to incorporate σ in the predictions somehow. </font></b>"
   ]
  },
  {
   "cell_type": "markdown",
   "metadata": {
    "hidden": true
   },
   "source": [
    "Here’s how you do it. \n",
    "\n",
    "> <font color = 'green'>IMAGINE SIMULATING HEIGHTS: For any unique weight value, you <b>sample from a Gaussian distribution</b> with the correct mean µ for that weight, using the correct value of σ sampled from the same posterior distribution</font>. \n",
    "\n",
    "> <font color = 'green'>If you do this for <b>every sample</b> from the posterior, for every weight value of interest, you <b>end up with a collection of simulated heights that embody the uncertainty in the posterior as well as the uncertainty in the Gaussian distribution of heights</font></b>. \n",
    "\n",
    "\n",
    "There is a tool called <span style='background-color: lightgreen'>sim</span> which does this:"
   ]
  },
  {
   "cell_type": "code",
   "execution_count": 35,
   "metadata": {
    "ExecuteTime": {
     "end_time": "2020-01-21T08:46:28.683014Z",
     "start_time": "2020-01-21T08:46:28.282Z"
    },
    "hidden": true
   },
   "outputs": [
    {
     "name": "stdout",
     "output_type": "stream",
     "text": [
      " num [1:1000, 1:46] 130 141 133 141 138 ...\n"
     ]
    },
    {
     "data": {
      "text/html": [
       "<ol class=list-inline>\n",
       "\t<li>1000</li>\n",
       "\t<li>46</li>\n",
       "</ol>\n"
      ],
      "text/latex": [
       "\\begin{enumerate*}\n",
       "\\item 1000\n",
       "\\item 46\n",
       "\\end{enumerate*}\n"
      ],
      "text/markdown": [
       "1. 1000\n",
       "2. 46\n",
       "\n",
       "\n"
      ],
      "text/plain": [
       "[1] 1000   46"
      ]
     },
     "metadata": {},
     "output_type": "display_data"
    }
   ],
   "source": [
    "sim.height <- sim( m4.3 , data=list(weight=weight.seq) ) \n",
    "str(sim.height)\n",
    "sim.height %>% dim\n"
   ]
  },
  {
   "cell_type": "markdown",
   "metadata": {
    "hidden": true
   },
   "source": [
    "This matrix is much like the earlier one, mu, but it <font color = 'blue'><b>contains simulated heights</b></font>, <font color = 'red'>not distributions of plausible average height</font>, µ. We can summarize these simulated heights in the same way we summarized the distributions of µ, by using apply:"
   ]
  },
  {
   "cell_type": "code",
   "execution_count": 33,
   "metadata": {
    "hidden": true
   },
   "outputs": [
    {
     "name": "stdout",
     "output_type": "stream",
     "text": [
      " num [1:2, 1:46] 128 145 129 145 130 ...\n",
      " - attr(*, \"dimnames\")=List of 2\n",
      "  ..$ : chr [1:2] \"5%\" \"94%\"\n",
      "  ..$ : NULL\n"
     ]
    }
   ],
   "source": [
    "height.PI <- apply( sim.height , 2 , PI , prob=0.89 )\n",
    "height.PI %>% str"
   ]
  },
  {
   "cell_type": "markdown",
   "metadata": {
    "hidden": true
   },
   "source": [
    "<font color = 'lightgrey'>Apply: returns a vector or array or list of values obtained by applying a function to margins of an array or matrix.\n",
    "\n",
    "Syntax for Apply function in R: ```Apply(x,1,sum)```\n",
    "* Where the first Argument X is a data frame or matrix\n",
    "* Second argument 1 indicated Processing along rows .if it is 2 then it indicated processing along the columns\n",
    "* Third Argument is some aggregate function like sum, mean etc or some other user defined functions.</font>"
   ]
  },
  {
   "cell_type": "markdown",
   "metadata": {
    "hidden": true
   },
   "source": [
    "Now height.PI contains the 89% posterior prediction interval of observable (according to the model) heights, across the values of weight in weight.seq. "
   ]
  },
  {
   "cell_type": "markdown",
   "metadata": {
    "heading_collapsed": true,
    "hidden": true
   },
   "source": [
    "##### <b><font color = 'maroon'>Let’s plot everything we’ve built up:  </font></b>"
   ]
  },
  {
   "cell_type": "markdown",
   "metadata": {
    "hidden": true
   },
   "source": [
    "(1) the average line, \n",
    "\n",
    "(2) the shaded region of 89% plausible µ, and \n",
    "\n",
    "(3) the boundaries of the simulated heights the model expects. "
   ]
  },
  {
   "cell_type": "code",
   "execution_count": 45,
   "metadata": {
    "hidden": true,
    "scrolled": true
   },
   "outputs": [
    {
     "data": {
      "image/png": "[encoded data removed]",
      "text/plain": [
       "Plot with title \"Fig 4.10: 89% prediction interval for height, as a function of weight.\""
      ]
     },
     "metadata": {
      "image/png": {
       "height": 420,
       "width": 420
      },
      "text/plain": {
       "height": 420,
       "width": 420
      }
     },
     "output_type": "display_data"
    }
   ],
   "source": [
    "# plot raw data \n",
    "plot( height ~ weight , d2 , col=col.alpha(rangi2,0.5), \n",
    "     main=\"Fig 4.10: 89% prediction interval for height, as a function of weight.\")\n",
    "\n",
    "# draw MAP line\n",
    "lines( weight.seq , mu.mean )\n",
    "\n",
    "# draw HPDI region for line\n",
    "shade( mu.PI , weight.seq )\n",
    "\n",
    "# draw PI region for simulated heights\n",
    "shade( height.PI , weight.seq )"
   ]
  },
  {
   "cell_type": "markdown",
   "metadata": {
    "hidden": true
   },
   "source": [
    "* The solid line is the average line for the mean height at each weight. \n",
    " \n",
    "* The two shaded regions show different 89% plausible regions.\n",
    "\n",
    "* The narrow shaded interval around the line is the distribution of µ. \n",
    "\n",
    "* The wider shaded region represents the region within which the model expects to find 89% of actual heights in the population, at each weight."
   ]
  },
  {
   "cell_type": "markdown",
   "metadata": {
    "hidden": true
   },
   "source": [
    "Notice that the outline for the wide shaded interval is a little rough. This is the simulation variance in the tails of the sampled Gaussian values. If it really bothers you, increase the number of samples you take from the posterior distribution. The optional n parameter for sim.height controls how many samples are used. Try for example:"
   ]
  },
  {
   "cell_type": "markdown",
   "metadata": {
    "heading_collapsed": true,
    "hidden": true
   },
   "source": [
    "##### <b><font color = 'MAROON'>Code for above graph all in one spot</font></b>"
   ]
  },
  {
   "cell_type": "code",
   "execution_count": 8,
   "metadata": {
    "ExecuteTime": {
     "end_time": "2020-01-22T08:01:30.754898Z",
     "start_time": "2020-01-22T08:01:30.572Z"
    },
    "hidden": true
   },
   "outputs": [
    {
     "data": {
      "image/png": "[encoded data removed]",
      "text/plain": [
       "Plot with title \"Fig 4.10: 89% prediction interval for height, as a function of weight.\""
      ]
     },
     "metadata": {
      "image/png": {
       "height": 420,
       "width": 420
      }
     },
     "output_type": "display_data"
    }
   ],
   "source": [
    "# plot raw data \n",
    "plot( height ~ weight , d2 , col=col.alpha(rangi2,0.5), \n",
    "     main=\"Fig 4.10: 89% prediction interval for height, as a function of weight.\")\n",
    "\n",
    "# draw MAP line\n",
    "lines( weight.seq , mu.mean )\n",
    "\n",
    "# draw HPDI region for line\n",
    "shade( mu.PI , weight.seq )\n",
    "\n",
    "# draw PI region for simulated heights\n",
    "shade( height.PI , weight.seq )"
   ]
  },
  {
   "cell_type": "code",
   "execution_count": 7,
   "metadata": {
    "ExecuteTime": {
     "end_time": "2020-01-22T08:01:26.722015Z",
     "start_time": "2020-01-22T08:01:22.815Z"
    },
    "hidden": true
   },
   "outputs": [],
   "source": [
    "library(rethinking)\n",
    "data(Howell1)\n",
    "d <- Howell1\n",
    "d2 <- d[ d$age >= 18 , ]\n",
    "\n",
    "# define the average weight, x-bar\n",
    "xbar <- mean(d2$weight)\n",
    "\n",
    "# fit model\n",
    "m4.3 <- quap(\n",
    "    alist(\n",
    "        height ~ dnorm( mu , sigma ) ,\n",
    "        mu <- a + b*( weight - xbar ) ,\n",
    "        a ~ dnorm( 178 , 20 ) ,\n",
    "        b ~ dlnorm( 0 , 1 ) ,\n",
    "        sigma ~ dunif( 0 , 50 )\n",
    "    ) ,\n",
    "    data=d2 )\n",
    "\n",
    "# define sequence of weights to compute predictions for\n",
    "# these values will be on the horizontal axis\n",
    "weight.seq <- seq( from=25 , to=70 , by=1 )\n",
    "\n",
    "# use link to compute mu\n",
    "# for each sample from posterior\n",
    "# and for each weight in weight.seq\n",
    "mu <- link( m4.3 , data=data.frame(weight=weight.seq) )\n",
    "\n",
    "# summarize the distribution of mu\n",
    "mu.mean <- apply( mu , 2 , mean )\n",
    "mu.PI <- apply( mu , 2 , PI , prob=0.89 )\n",
    "\n",
    "# simulate heights for weight.seq by random sampling from gausian multi-dimensional dist.\n",
    "sim.height <- sim( m4.3 , data=list(weight=weight.seq) , n=1e4 )\n",
    "height.PI <- apply( sim.height , 2 , PI , prob=0.89 )\n",
    "\n"
   ]
  },
  {
   "cell_type": "markdown",
   "metadata": {
    "heading_collapsed": true,
    "hidden": true
   },
   "source": [
    "##### Rethinking: Two kinds of uncertainty. "
   ]
  },
  {
   "cell_type": "markdown",
   "metadata": {
    "hidden": true
   },
   "source": [
    "In the procedure above, we encountered both uncertainty in <font color = 'blue'><b>parameter values</b></font> and uncertainty in a <font color = 'blue'><b>sampling process</b></font>. \n",
    "\n",
    "<font color = 'blue'>These are <b>distinct</b> concepts, even though they are processed much the same way and end up blended together in the posterior predictive simulation</font>. \n",
    "\n",
    "* The posterior distribution is a ranking of the relative plausibilities of every possible combination of parameter values. \n",
    "\n",
    "* The distribution of simulated outcomes, like height, is instead a distribution that includes sampling variation from some process that generates Gaussian random variables. \n",
    "\n",
    "<font color = 'blue'>This sampling variation is still a model assumption. It’s no more or less objective than the posterior distribution</font>. Both kinds of uncertainty matter, at least sometimes. But it’s important to keep them straight, because they depend upon different model assumptions. Furthermore, it’s possible to view the Gaussian likelihood as a purely epistemological assumption (a device for estimating the mean and variance of a variable), rather than an ontological assumption about what future data will look like. In that case, it may not make complete sense to simulate outcomes."
   ]
  },
  {
   "cell_type": "markdown",
   "metadata": {
    "heading_collapsed": true
   },
   "source": [
    "## Curves from lines"
   ]
  },
  {
   "cell_type": "markdown",
   "metadata": {
    "hidden": true
   },
   "source": [
    "In the next chapter, you’ll see how to use linear models to build regressions with more than one predictor variable. But before then, it helps to see how to model the outcome as a curved function of a single predictor. The models so far all assume that a straight line describes the relationship. But there’s nothing special about straight lines, aside from their simplicity. \n",
    "\n",
    "We’ll consider to commonplace methods that use the same essential linear regression approach to build curves. \n",
    "\n",
    "* The first is polynomial regression. \n",
    "* The second is b-splines. \n",
    "\n",
    "<font color = 'blue'>Both approaches work by <b>transforming a single predictor variable into several variables, using a parameter for the weight of each</b></font>. But splines have some clear advantages. Neither approach aims to do much more than describe the function that relates one variable to another. Causal inference, which we’ll consider much more beginning in the next chapter, needs more."
   ]
  },
  {
   "cell_type": "markdown",
   "metadata": {
    "heading_collapsed": true,
    "hidden": true
   },
   "source": [
    "### Polynomial regression"
   ]
  },
  {
   "cell_type": "markdown",
   "metadata": {
    "heading_collapsed": true,
    "hidden": true
   },
   "source": [
    "##### <b><font color = 'MAROON'>Intro/Intuition</font></b>"
   ]
  },
  {
   "cell_type": "markdown",
   "metadata": {
    "hidden": true
   },
   "source": [
    "<b><font color = 'green'>Polynomial regression uses powers of a variable—squares and cubes—as extra predictors. </font></b>This is an easy way to build curved associations. Polynomial regressions are very common, and understanding how they work will help scaffold later models. To understand how polynomial regression works, let’s work through an example, using the full !Kung data, not just the adults"
   ]
  },
  {
   "cell_type": "code",
   "execution_count": 12,
   "metadata": {
    "ExecuteTime": {
     "end_time": "2020-01-22T08:20:38.364945Z",
     "start_time": "2020-01-22T08:20:38.297Z"
    },
    "hidden": true
   },
   "outputs": [
    {
     "name": "stdout",
     "output_type": "stream",
     "text": [
      "'data.frame':\t544 obs. of  4 variables:\n",
      " $ height: num  152 140 137 157 145 ...\n",
      " $ weight: num  47.8 36.5 31.9 53 41.3 ...\n",
      " $ age   : num  63 63 65 41 51 35 32 27 19 54 ...\n",
      " $ male  : int  1 0 0 1 0 1 0 1 0 1 ...\n"
     ]
    }
   ],
   "source": [
    "library(rethinking) \n",
    "data(Howell1)\n",
    "d <- Howell1\n",
    "str(d)"
   ]
  },
  {
   "cell_type": "code",
   "execution_count": 15,
   "metadata": {
    "ExecuteTime": {
     "end_time": "2020-01-22T08:24:40.283884Z",
     "start_time": "2020-01-22T08:24:40.139Z"
    },
    "hidden": true
   },
   "outputs": [
    {
     "data": {
      "image/png": "[encoded data removed]",
      "text/plain": [
       "plot without title"
      ]
     },
     "metadata": {
      "image/png": {
       "height": 420,
       "width": 420
      }
     },
     "output_type": "display_data"
    }
   ],
   "source": [
    "plot(d$height ~ d$weight)\n",
    "# plot(height ~ weight, data = d) # same"
   ]
  },
  {
   "cell_type": "markdown",
   "metadata": {
    "hidden": true
   },
   "source": [
    "The relationship is visibly curved, now that we’ve included the non-adult individuals."
   ]
  },
  {
   "cell_type": "markdown",
   "metadata": {
    "heading_collapsed": true,
    "hidden": true
   },
   "source": [
    "##### <b><font color = 'maroon'>The most common polynomial regression is a parabolic model of the mean: </font></b>"
   ]
  },
  {
   "cell_type": "markdown",
   "metadata": {
    "hidden": true
   },
   "source": [
    "<br>\n",
    "<br>\n",
    "&nbsp;&nbsp;&nbsp;&nbsp;&nbsp;&nbsp;<font color = 'blue'><b>$µ_i = α + β_1x_i + β_2x_i^2$</b></font>\n",
    "\n",
    "The above is a parabolic (second order) polynomial. \n",
    "\n",
    "* The $α + β_1x_i$ part is the same linear function of x in a linear regression, just with a little “1” subscript added to the parameter name, so we can tell it apart from the new parameter. \n",
    "\n",
    "\n",
    "* The additional term uses the square of $x_i$ to construct a parabola, rather than a perfectly straight line. \n",
    "\n",
    "\n",
    "* The new parameter $β_2$ measures the curvature of the relationship.\n",
    "\n",
    "Fitting these models to data is easy. <font color = 'red'>Interpreting them can be hard.</font> We’ll begin with the easy part, fitting a parabolic model of height on weight. \n",
    "\n",
    "<b><font color = 'purple'>The first thing to do is to standardize the predictor variable </font></b>. We’ve done this is previous examples. But this is especially helpful for working with polynomial models. <font color = 'blue'>When predictor variables have very large values in them, there are sometimes numerical glitches</font>. Even well-known statistical software can suffer from these glitches, leading to mistaken estimates. <font color = 'blue'>These problems are very common for polynomial regression, because the square or cube of a large number can be truly massive</font>. Standardizing largely resolves this issue. <font color = 'blue'><b>It should be your default behavior</b></font>."
   ]
  },
  {
   "cell_type": "markdown",
   "metadata": {
    "hidden": true
   },
   "source": [
    "<b><font color = 'purple'>To define the parabolic model, just modify the definition of $µ_i$. Here’s the model: </font></b>"
   ]
  },
  {
   "cell_type": "markdown",
   "metadata": {
    "hidden": true
   },
   "source": [
    "<img src='pics/SR_d37.png' alt='Drawing' style='width:425pt'/>"
   ]
  },
  {
   "cell_type": "markdown",
   "metadata": {
    "hidden": true
   },
   "source": [
    "The confusing issue here is assigning a prior for $β_2$, the parameter on the squared value of x. Unlike $β_1$, we don’t want a positive constraint. \n",
    "\n",
    "In the problems at the end of the chapter, you’ll use prior predictive simulation to understand why. <font color = 'blue'>These polynomial parameters are in general very difficult to set realistic priors for, which is another reason to avoid polynomial models</font>."
   ]
  },
  {
   "cell_type": "markdown",
   "metadata": {
    "hidden": true
   },
   "source": [
    "<b><font color = 'purple'>Approximating the posterior is straightforward. </font></b> <font color = 'green'><b>Just modify the definition of mu so that it contains both the linear and quadratic terms</b></font>. \n",
    "\n",
    "<font color = 'blue'>But in general it is better to pre-process any variable transformations</font>. So I’ll also build the square of weight.s as a separate variable:"
   ]
  },
  {
   "cell_type": "code",
   "execution_count": 17,
   "metadata": {
    "ExecuteTime": {
     "end_time": "2020-01-22T08:49:14.449219Z",
     "start_time": "2020-01-22T08:49:14.320Z"
    },
    "hidden": true
   },
   "outputs": [],
   "source": [
    "## R code 4.65\n",
    "d$weight_s <- ( d$weight - mean(d$weight) )/sd(d$weight)\n",
    "d$weight_s2 <- d$weight_s^2\n",
    "m4.5 <- quap(\n",
    "    alist(\n",
    "        height ~ dnorm( mu , sigma ) ,\n",
    "        mu <- a + b1*weight_s + b2*weight_s2 ,\n",
    "        a ~ dnorm( 178 , 20 ) ,\n",
    "        b1 ~ dlnorm( 0 , 1 ) ,\n",
    "        b2 ~ dnorm( 0 , 1 ) ,\n",
    "        sigma ~ dunif( 0 , 50 )\n",
    "    ) ,\n",
    "    data=d )"
   ]
  },
  {
   "cell_type": "markdown",
   "metadata": {
    "hidden": true
   },
   "source": [
    "Now, since the relationship between the outcome height and the predictor weight depends upon two slopes, b1 and b2, it isn’t so easy to read the relationship off a table of coefficients:"
   ]
  },
  {
   "cell_type": "code",
   "execution_count": 21,
   "metadata": {
    "ExecuteTime": {
     "end_time": "2020-01-22T08:50:38.793515Z",
     "start_time": "2020-01-22T08:50:38.740Z"
    },
    "hidden": true
   },
   "outputs": [
    {
     "data": {
      "text/html": [
       "<table>\n",
       "<caption>A data.frame: 4 × 4</caption>\n",
       "<thead>\n",
       "\t<tr><th></th><th scope=col>mean</th><th scope=col>sd</th><th scope=col>5.5%</th><th scope=col>94.5%</th></tr>\n",
       "\t<tr><th></th><th scope=col>&lt;dbl&gt;</th><th scope=col>&lt;dbl&gt;</th><th scope=col>&lt;dbl&gt;</th><th scope=col>&lt;dbl&gt;</th></tr>\n",
       "</thead>\n",
       "<tbody>\n",
       "\t<tr><th scope=row>a</th><td>146.06</td><td>0.37</td><td>145.47</td><td>146.65</td></tr>\n",
       "\t<tr><th scope=row>b1</th><td> 21.73</td><td>0.29</td><td> 21.27</td><td> 22.19</td></tr>\n",
       "\t<tr><th scope=row>b2</th><td> -7.80</td><td>0.27</td><td> -8.24</td><td> -7.37</td></tr>\n",
       "\t<tr><th scope=row>sigma</th><td>  5.77</td><td>0.18</td><td>  5.49</td><td>  6.06</td></tr>\n",
       "</tbody>\n",
       "</table>\n"
      ],
      "text/latex": [
       "A data.frame: 4 × 4\n",
       "\\begin{tabular}{r|llll}\n",
       "  & mean & sd & 5.5\\% & 94.5\\%\\\\\n",
       "  & <dbl> & <dbl> & <dbl> & <dbl>\\\\\n",
       "\\hline\n",
       "\ta & 146.06 & 0.37 & 145.47 & 146.65\\\\\n",
       "\tb1 &  21.73 & 0.29 &  21.27 &  22.19\\\\\n",
       "\tb2 &  -7.80 & 0.27 &  -8.24 &  -7.37\\\\\n",
       "\tsigma &   5.77 & 0.18 &   5.49 &   6.06\\\\\n",
       "\\end{tabular}\n"
      ],
      "text/markdown": [
       "\n",
       "A data.frame: 4 × 4\n",
       "\n",
       "| <!--/--> | mean &lt;dbl&gt; | sd &lt;dbl&gt; | 5.5% &lt;dbl&gt; | 94.5% &lt;dbl&gt; |\n",
       "|---|---|---|---|---|\n",
       "| a | 146.06 | 0.37 | 145.47 | 146.65 |\n",
       "| b1 |  21.73 | 0.29 |  21.27 |  22.19 |\n",
       "| b2 |  -7.80 | 0.27 |  -8.24 |  -7.37 |\n",
       "| sigma |   5.77 | 0.18 |   5.49 |   6.06 |\n",
       "\n"
      ],
      "text/plain": [
       "      mean   sd   5.5%   94.5% \n",
       "a     146.06 0.37 145.47 146.65\n",
       "b1     21.73 0.29  21.27  22.19\n",
       "b2     -7.80 0.27  -8.24  -7.37\n",
       "sigma   5.77 0.18   5.49   6.06"
      ]
     },
     "metadata": {},
     "output_type": "display_data"
    }
   ],
   "source": [
    "## R code 4.66\n",
    "precis( m4.5 ) %>% round(2)"
   ]
  },
  {
   "cell_type": "code",
   "execution_count": 36,
   "metadata": {
    "ExecuteTime": {
     "end_time": "2020-01-22T18:55:34.181341Z",
     "start_time": "2020-01-22T18:55:33.592Z"
    },
    "code_folding": [],
    "hidden": true
   },
   "outputs": [],
   "source": [
    "## R code 4.67\n",
    "weight.seq <- seq( from=-2.2 , to=2 , length.out=30 )\n",
    "pred_dat <- list( weight_s=weight.seq , weight_s2=weight.seq^2 )\n",
    "mu <- link( m4.5 , data=pred_dat )\n",
    "mu.mean <- apply( mu , 2 , mean )\n",
    "mu.PI <- apply( mu , 2 , PI , prob=0.89 )\n",
    "sim.height <- sim( m4.5 , data=pred_dat )\n",
    "height.PI <- apply( sim.height , 2 , PI , prob=0.89 )"
   ]
  },
  {
   "cell_type": "code",
   "execution_count": 44,
   "metadata": {
    "ExecuteTime": {
     "end_time": "2020-01-22T19:08:37.414701Z",
     "start_time": "2020-01-22T19:08:37.218Z"
    },
    "hidden": true
   },
   "outputs": [
    {
     "data": {
      "image/png": "[encoded data removed]",
      "text/plain": [
       "Plot with title \"Fig 4.11b\""
      ]
     },
     "metadata": {
      "image/png": {
       "height": 420,
       "width": 420
      }
     },
     "output_type": "display_data"
    }
   ],
   "source": [
    "plot( height ~ weight_s , d , col=col.alpha(rangi2,0.5), main=\"Fig 4.11b\") \n",
    "lines( weight.seq , mu.mean )\n",
    "shade( mu.PI , weight.seq )\n",
    "shade( height.PI , weight.seq ) "
   ]
  },
  {
   "cell_type": "markdown",
   "metadata": {
    "hidden": true
   },
   "source": [
    "The left panel of the figure shows the familiar linear regression from earlier in the chapter, but now with the standardized predictor and full data with both adults and non-adults. <font color = 'red'>The linear model makes some spectacularly poor predictions, at both very low and middle weights</font>.\n",
    "\n",
    "Compare this to the middle panel, our new quadratic regression. "
   ]
  },
  {
   "cell_type": "markdown",
   "metadata": {
    "hidden": true
   },
   "source": [
    "<font color = 'blue'><b>The curve does a much better job of finding a central path through the data.</b></font>"
   ]
  },
  {
   "cell_type": "markdown",
   "metadata": {
    "heading_collapsed": true,
    "hidden": true
   },
   "source": [
    "##### <b><font color = 'MAROON'>Cubic model of the mean</font></b>"
   ]
  },
  {
   "cell_type": "markdown",
   "metadata": {
    "hidden": true
   },
   "source": [
    "The right panel in Figure 4.11 shows a higher-order polynomial regression, a cubic regression on weight. The model is:"
   ]
  },
  {
   "cell_type": "markdown",
   "metadata": {
    "hidden": true
   },
   "source": [
    "<img src='pics/SR_d38.png' alt='Drawing' style='width:425pt'/>"
   ]
  },
  {
   "cell_type": "markdown",
   "metadata": {
    "hidden": true
   },
   "source": [
    "Fit the model with a slight modification of the parabolic model’s code:"
   ]
  },
  {
   "cell_type": "code",
   "execution_count": 48,
   "metadata": {
    "ExecuteTime": {
     "end_time": "2020-01-22T19:34:33.670755Z",
     "start_time": "2020-01-22T19:34:33.477Z"
    },
    "hidden": true
   },
   "outputs": [],
   "source": [
    "## R code 4.69\n",
    "d$weight_s3 <- d$weight_s^3\n",
    "m4.6 <- quap(\n",
    "    alist(\n",
    "        height ~ dnorm( mu , sigma ) ,\n",
    "        mu <- a + b1*weight_s + b2*weight_s2 + b3*weight_s3 ,\n",
    "        a ~ dnorm( 178 , 20 ) ,\n",
    "        b1 ~ dlnorm( 0 , 1 ) ,\n",
    "        b2 ~ dnorm( 0 , 10 ) ,\n",
    "        b3 ~ dnorm( 0 , 10 ) ,\n",
    "        sigma ~ dunif( 0 , 50 )\n",
    "    ) ,\n",
    "    data=d )\n"
   ]
  },
  {
   "cell_type": "markdown",
   "metadata": {
    "hidden": true
   },
   "source": [
    "Computing the curve and intervals is similarly a small modification of the previous code. This cubic curve is even more flexible than the parabola, so it fits the data even better."
   ]
  },
  {
   "cell_type": "markdown",
   "metadata": {
    "hidden": true
   },
   "source": [
    "<font color = 'blue'>But it’s not clear that any of these models make a lot of sense.</font> They are good geocentric descriptions of the sample, yes. \n",
    "\n",
    "<font color = 'red'>But there are two clear problems.</font> \n",
    "\n",
    "1. First, a <font color = 'blue'><b>better fit to the sample might not actually be a better model</b></font>. That’s the subject of Chapter 7. \n",
    "\n",
    "* Second, the model <font color = 'blue'><b>contains no biological information</b>, so we aren’t learning anything about any causal relationship between height and weight</font>. We’ll deal with this second problem much later in the book, in Chapter 16."
   ]
  },
  {
   "cell_type": "markdown",
   "metadata": {
    "heading_collapsed": true,
    "hidden": true
   },
   "source": [
    "##### Rethinking: Linear, additive, funky. "
   ]
  },
  {
   "cell_type": "markdown",
   "metadata": {
    "hidden": true
   },
   "source": [
    "<font color = 'blue'>The parabolic model of $µ_i$ above is still a “linear model” of the mean, even though the equation is clearly not of a straight line</font>. \n",
    "\n",
    "Unfortunately, the word “linear” means different things in different contexts, and different people use it differently in the same context. \n",
    "\n",
    "What “linear” means in this context is that $µ_i$ is a linear function of any single parameter. \n",
    "\n",
    "* Such models have the advantage of being easier to fit to data. \n",
    "\n",
    "\n",
    "* They are also often easier to interpret, because they assume that parameters act independently on the mean. \n",
    "\n",
    "\n",
    "* They have the disadvantage of being strongly conventional. They are often used thoughtlessly. \n",
    "\n",
    "<font color = 'red'>When you have real knowledge of your study system, it is often easy to do better than a linear model</font>. \n",
    "\n",
    "These models are geocentric engines, devices for describing partial correlations among variables. <b>We should feel embarrassed to use them</b>, just so we don’t become satisfied with the phenomenological explanations they provide."
   ]
  },
  {
   "cell_type": "markdown",
   "metadata": {
    "heading_collapsed": true,
    "hidden": true
   },
   "source": [
    "##### Overthinking: Converting back to natural scale. "
   ]
  },
  {
   "cell_type": "markdown",
   "metadata": {
    "hidden": true
   },
   "source": [
    "The plots in Figure 4.11 have standard units on the horizontal axis. These units are sometimes called z-scores. But suppose you fit the model using standardized variables, but want to plot the estimates on the original scale. All that’s really needed is first to turn off the horizontal axis when you plot the raw data:"
   ]
  },
  {
   "cell_type": "code",
   "execution_count": 54,
   "metadata": {
    "ExecuteTime": {
     "end_time": "2020-01-22T20:38:32.108485Z",
     "start_time": "2020-01-22T20:38:31.937Z"
    },
    "hidden": true
   },
   "outputs": [
    {
     "data": {
      "image/png": "[encoded data removed]",
      "text/plain": [
       "plot without title"
      ]
     },
     "metadata": {
      "image/png": {
       "height": 420,
       "width": 420
      }
     },
     "output_type": "display_data"
    }
   ],
   "source": [
    "plot( height ~ weight_s , d , col=col.alpha(rangi2,0.5) , xaxt=\"n\" ) "
   ]
  },
  {
   "cell_type": "markdown",
   "metadata": {
    "hidden": true
   },
   "source": [
    "The xaxt at the end there turns off the horizontal axis. Then you explicitly construct the axis, using\n",
    "the axis function."
   ]
  },
  {
   "cell_type": "code",
   "execution_count": 56,
   "metadata": {
    "ExecuteTime": {
     "end_time": "2020-01-22T20:38:49.823685Z",
     "start_time": "2020-01-22T20:38:49.644Z"
    },
    "hidden": true
   },
   "outputs": [
    {
     "data": {
      "image/png": "[encoded data removed]",
      "text/plain": [
       "plot without title"
      ]
     },
     "metadata": {
      "image/png": {
       "height": 420,
       "width": 420
      }
     },
     "output_type": "display_data"
    }
   ],
   "source": [
    "plot( height ~ weight_s , d , col=col.alpha(rangi2,0.5) , xaxt=\"n\" ) \n",
    "\n",
    "# defines the location of the labels, in standardized units\n",
    "at <- c(-2,-1,0,1,2) \n",
    "\n",
    "# takes those units and converts them back to the original scale\n",
    "labels <- at*sd(d$weight) + mean(d$weight)\n",
    "\n",
    "# draws the relabeled axis\n",
    "axis( side=1 , at=at , labels=round(labels,1) )"
   ]
  },
  {
   "cell_type": "markdown",
   "metadata": {
    "ExecuteTime": {
     "end_time": "2020-01-22T20:38:22.010376Z",
     "start_time": "2020-01-22T20:38:21.977Z"
    },
    "hidden": true
   },
   "source": [
    "The first line above defines the location of the labels, in standardized units. The second line then takes\n",
    "those units and converts them back to the original scale. The third line draws the axis. Take a look at\n",
    "the help ?axis for more details."
   ]
  },
  {
   "cell_type": "markdown",
   "metadata": {
    "heading_collapsed": true,
    "hidden": true
   },
   "source": [
    "### Splines"
   ]
  },
  {
   "cell_type": "markdown",
   "metadata": {
    "heading_collapsed": true,
    "hidden": true
   },
   "source": [
    "##### <b><font color = 'maroon'>Intro: The second way to introduce a curve is to construct something known as a spline. </font></b> "
   ]
  },
  {
   "cell_type": "markdown",
   "metadata": {
    "hidden": true
   },
   "source": [
    "<font color = 'lightgrey'>The word spline originally referred to a long, thin piece of wood or metal that could be anchored in a few places in order to aid drafters or designers in drawing curves.</font> \n",
    "\n",
    "<font color = 'blue'>In statistics, a spline is a smooth function built out of smaller, component functions</font>. There are actually many types of splines. \n",
    "\n",
    "> The <span style='background-color: lightgreen'>b-spline</span> we’ll look at here are the most common and have lots of nice properties. The “B” stands for “basis,” which here just means “component.” <font color = 'green'><b>Bsplines build up wiggly functions from simpler less-wiggly components. Those components are called basis functions.</b></font>\n",
    "\n",
    "To see how B-splines work, we’ll need an example that is much wigglier—that’s a scientific term—than the !Kung stature data. \n",
    "\n",
    "<font color = 'purple'>Cherry trees blossom all over Japan in the Spring each year, and the tradition of flower viewing (Hanami 花見) follows. Let’s load a thousand years of Japanese cherry blossom dates: </font>"
   ]
  },
  {
   "cell_type": "code",
   "execution_count": 60,
   "metadata": {
    "ExecuteTime": {
     "end_time": "2020-01-22T22:35:19.290899Z",
     "start_time": "2020-01-22T22:35:19.191Z"
    },
    "hidden": true
   },
   "outputs": [
    {
     "data": {
      "text/html": [
       "<table>\n",
       "<caption>A data.frame: 5 × 4</caption>\n",
       "<thead>\n",
       "\t<tr><th></th><th scope=col>mean</th><th scope=col>sd</th><th scope=col>5.5%</th><th scope=col>94.5%</th></tr>\n",
       "\t<tr><th></th><th scope=col>&lt;dbl&gt;</th><th scope=col>&lt;dbl&gt;</th><th scope=col>&lt;dbl&gt;</th><th scope=col>&lt;dbl&gt;</th></tr>\n",
       "</thead>\n",
       "<tbody>\n",
       "\t<tr><th scope=row>year</th><td>1408.00</td><td>350.88</td><td>867.77</td><td>1948.23</td></tr>\n",
       "\t<tr><th scope=row>doy</th><td> 104.54</td><td>  6.41</td><td> 94.43</td><td> 115.00</td></tr>\n",
       "\t<tr><th scope=row>temp</th><td>   6.14</td><td>  0.66</td><td>  5.15</td><td>   7.29</td></tr>\n",
       "\t<tr><th scope=row>temp_upper</th><td>   7.19</td><td>  0.99</td><td>  5.90</td><td>   8.90</td></tr>\n",
       "\t<tr><th scope=row>temp_lower</th><td>   5.10</td><td>  0.85</td><td>  3.79</td><td>   6.37</td></tr>\n",
       "</tbody>\n",
       "</table>\n"
      ],
      "text/latex": [
       "A data.frame: 5 × 4\n",
       "\\begin{tabular}{r|llll}\n",
       "  & mean & sd & 5.5\\% & 94.5\\%\\\\\n",
       "  & <dbl> & <dbl> & <dbl> & <dbl>\\\\\n",
       "\\hline\n",
       "\tyear & 1408.00 & 350.88 & 867.77 & 1948.23\\\\\n",
       "\tdoy &  104.54 &   6.41 &  94.43 &  115.00\\\\\n",
       "\ttemp &    6.14 &   0.66 &   5.15 &    7.29\\\\\n",
       "\ttemp\\_upper &    7.19 &   0.99 &   5.90 &    8.90\\\\\n",
       "\ttemp\\_lower &    5.10 &   0.85 &   3.79 &    6.37\\\\\n",
       "\\end{tabular}\n"
      ],
      "text/markdown": [
       "\n",
       "A data.frame: 5 × 4\n",
       "\n",
       "| <!--/--> | mean &lt;dbl&gt; | sd &lt;dbl&gt; | 5.5% &lt;dbl&gt; | 94.5% &lt;dbl&gt; |\n",
       "|---|---|---|---|---|\n",
       "| year | 1408.00 | 350.88 | 867.77 | 1948.23 |\n",
       "| doy |  104.54 |   6.41 |  94.43 |  115.00 |\n",
       "| temp |    6.14 |   0.66 |   5.15 |    7.29 |\n",
       "| temp_upper |    7.19 |   0.99 |   5.90 |    8.90 |\n",
       "| temp_lower |    5.10 |   0.85 |   3.79 |    6.37 |\n",
       "\n"
      ],
      "text/plain": [
       "           mean    sd     5.5%   94.5%  \n",
       "year       1408.00 350.88 867.77 1948.23\n",
       "doy         104.54   6.41  94.43  115.00\n",
       "temp          6.14   0.66   5.15    7.29\n",
       "temp_upper    7.19   0.99   5.90    8.90\n",
       "temp_lower    5.10   0.85   3.79    6.37"
      ]
     },
     "metadata": {},
     "output_type": "display_data"
    }
   ],
   "source": [
    "library(rethinking)\n",
    "data(cherry_blossoms)\n",
    "d <- cherry_blossoms\n",
    "precis(d, hist=F) %>% round(2)"
   ]
  },
  {
   "cell_type": "code",
   "execution_count": 63,
   "metadata": {
    "ExecuteTime": {
     "end_time": "2020-01-22T22:37:08.158618Z",
     "start_time": "2020-01-22T22:37:07.909Z"
    },
    "hidden": true
   },
   "outputs": [],
   "source": [
    "?cherry_blossoms"
   ]
  },
  {
   "cell_type": "markdown",
   "metadata": {
    "hidden": true
   },
   "source": [
    "We’re going to work with just the reconstructed temperature record, temp, for now. It runs from the year 839 to 1980. It is very wiggly. You should go ahead and plot temp against year to see. <font color = 'red'>No parabolic curve is going to do the job here.</font>\n",
    "\n",
    "Here’s a longer explanation, with visual examples. \n",
    "> <font color = 'green'>Our goal is to approximate the temperature trend with a wiggly function. With B-splines, just like with polynomial regression, <b>we do this by generating new predictor variables and using those in the linear model, $µ_i$</b></font>. \n",
    "\n",
    "Unlike polynomial regression, B-splines do not directly transform the predictor by squaring or cubing it. Instead they invent a series of entirely new, synthetic predictor variables. Each of these variables serves to gradually turn a specific parameter on and off within a specific range of the predictor variables. Each of these variables is called a basis function. The linear model ends up looking very familiar:"
   ]
  },
  {
   "cell_type": "markdown",
   "metadata": {
    "hidden": true
   },
   "source": [
    "$µ_i = α + w_1B_{i,1} + w_2B_{i,2} + w_3B_{i,3} + ...$"
   ]
  },
  {
   "cell_type": "markdown",
   "metadata": {
    "hidden": true
   },
   "source": [
    "* where <font color = 'green'><b>$B_{i,n}$</b></font> is the n-th basis function’s value on row i, and \n",
    "\n",
    "* the <font color = 'green'>w parameters</font> are corresponding weights for each. \n",
    "\n",
    "<font color = 'blue'><b>The parameters act like slopes</b>, adjusting the influence of each basis function on the mean $µ_i$.</font> \n",
    "\n",
    "* So really this is just another linear regression, but with some fancy, synthetic predictor variables. These synthetic variables do some really elegant descriptive (geocentric) work for us."
   ]
  },
  {
   "cell_type": "markdown",
   "metadata": {
    "heading_collapsed": true,
    "hidden": true
   },
   "source": [
    "##### <b><font color = 'maroon'>How do we construct these basis variables B? (intuition)</font></b>"
   ]
  },
  {
   "cell_type": "markdown",
   "metadata": {
    "hidden": true
   },
   "source": [
    "I display the simplest case in Figure 4.12, in which I approximate the temperature data with four different linear approximations. \n",
    "\n",
    "* First, I divide the full range of the horizontal axis into four parts, using pivot points called <span style='background-color: lightgreen'>knots</span>. The knots are shown by the + symbols in the top plot. \n",
    "\n",
    "\n",
    "* Then five different basis functions, our <span style='background-color: lightgreen'>B variables</span>, are used to gently transition from one part to the next. Essentially, <font color = 'blue'>these variables tell you which knot you are close to</font>. \n",
    "\n",
    "    Beginning on the left of the top plot, basis function 1 has value 1 and all of the others are set to zero. \n",
    "    \n",
    "    As we move rightwards towards the second knot, basis 1 declines and basis 2 increases. \n",
    "    \n",
    "    At knot 2, basis 2 has value 1, and all of the others are set to zero."
   ]
  },
  {
   "cell_type": "markdown",
   "metadata": {
    "hidden": true
   },
   "source": [
    "<img src='pics/SR_d39.png' alt='Drawing' style='width:425pt'/>"
   ]
  },
  {
   "cell_type": "markdown",
   "metadata": {
    "hidden": true
   },
   "source": [
    "<font color = 'blue'>The nice feature of these basis functions is that they make the the <b>influence of each parameter quite local</b>. At any point on the horizontal axis in Figure 4.12, <b>only two basis functions have non-zero values</b>.</font> \n",
    "\n",
    "* <b><font color = 'purple'>For example </font></b>, <font color = 'purple'>the dashed blue line in the top plot shows the year 1306. Basis functions 2 and 3 are non-zero for that year </font>. \n",
    "\n",
    "    So the parameters for <font color = 'blue'>basis functions 2 and 3 are the only parameters influencing prediction for the year 1306</font>. \n",
    "    \n",
    "    <font color = 'red'>This is quite unlike polynomial regression, where parameters <b>influence the entire shape of the curve</b>.</font>"
   ]
  },
  {
   "cell_type": "markdown",
   "metadata": {
    "hidden": true
   },
   "source": [
    "<b><font color = 'purple'>In the middle plot in Figure 4.12, I show each basis function multiplied by its corresponding weight parameter </font></b>. I got these weights by fitting the model to the data. <font color = 'lightgrey'>I’ll show you how to do that in a moment. But focus on the figure for now. </font> \n",
    "\n",
    "* <font color = 'green'><b>Weight parameters can be positive or negative</b></font>. So for example basis functions 2 and 4 end up below the zero line. They have negative weights. \n",
    "\n",
    "* <b><font color = 'purple'>To construct a prediction for any given year </font></b>, say for example 1306 again, we <font color = 'green'><b>just add up these weighted basis functions at that year</b></font>. In the year 1306, only basis functions 2 and 3 influence prediction.\n",
    "\n",
    "<b><font color = 'purple'>Finally, in the bottom plot of Figure 4.12, I display the spline, as a 97% posterior interval for µ </font></b>, over the raw temperature data. This isn’t yet a very good approximation. There are two things we can do to improve it. \n",
    "\n",
    "* First, we can use more knots. The more knots, the more flexible the spline. \n",
    "\n",
    "* Second, instead of linear approximations, we can use higher degree polynomials."
   ]
  },
  {
   "cell_type": "markdown",
   "metadata": {
    "heading_collapsed": true,
    "hidden": true
   },
   "source": [
    "##### <b><font color = 'maroon'>Deconstruction of the code for the plots in Figure 4.12 </font></b>"
   ]
  },
  {
   "cell_type": "markdown",
   "metadata": {
    "hidden": true
   },
   "source": [
    "<b><font color = 'purple'>Let’s build up the code that will let you reproduce the plots in Figure 4.12 </font></b>, but also let you change the knots and degree to anything you like. \n",
    "\n",
    "<font color = 'purple'><b>First, we choose the knots</b></font>. Remember, the knots are just values of year that serve as pivots for our spline. \n",
    "\n",
    "<b><font color = 'purple'>Where should the knots go? </font></b>\n",
    "\n",
    "There are different ways to answer this question. You can, in principle, put the knots wherever you like. Their locations are part of the model, and you are responsible for them. \n",
    "\n",
    "<font color = 'purple'>Let’s do something simple </font>. <font color = 'blue'>It is often useful to place knots at different evenly-spaced quantiles of the predictor variable</font>. \n",
    "\n",
    "<font color = 'purple'>For example </font>, you might use 0%, 25%, 50%, 75%, and 100%. This gives you more knots where there are more observations. \n",
    "\n",
    "In the temperature data, the variable year is uniformly distributed. <font color = 'blue'>So using even quantiles will give us evenly spaced years. We used only 5 knots in the first example. <b>Now let’s go for 15</b></font>. \n",
    "\n",
    "<b><font color = 'purple'>This code will define a list of knot positions: </font></b>"
   ]
  },
  {
   "cell_type": "code",
   "execution_count": 72,
   "metadata": {
    "ExecuteTime": {
     "end_time": "2020-01-23T06:17:07.410271Z",
     "start_time": "2020-01-23T06:17:07.361Z"
    },
    "hidden": true
   },
   "outputs": [
    {
     "name": "stdout",
     "output_type": "stream",
     "text": [
      " Named num [1:15] 839 937 1017 1098 1178 ...\n",
      " - attr(*, \"names\")= chr [1:15] \"0%\" \"7.142857%\" \"14.28571%\" \"21.42857%\" ...\n"
     ]
    }
   ],
   "source": [
    "d2 <- d[ complete.cases(d$temp) , ] # complete cases on temp\n",
    "num_knots <- 15\n",
    "\n",
    "knot_list <- quantile( d2$year , probs=seq(0,1,length.out=num_knots) )\n",
    "# contains 15 evenly spaced dates, covering the full range of the data.\n",
    "\n",
    "knot_list %>% str"
   ]
  },
  {
   "cell_type": "markdown",
   "metadata": {
    "hidden": true
   },
   "source": [
    "<b><font color = 'purple'>The next choice is polynomial degree </font></b>. <font color = 'blue'><b>This determines how basis functions combine</b>, which determines how the parameters interact to produce the spline</font>. \n",
    "\n",
    "For degree one, as in Figure 4.12, two basis functions combine at each point. \n",
    "\n",
    "For degree two, three functions combine at each point. \n",
    "\n",
    "For degree three, four combine. \n",
    "\n",
    "R already has a nice function that will build you basis functions for any list of knots and degree you choose. \n",
    "\n",
    "<b><font color = 'purple'>This code will construct the necessary basis functions for a <span style='background-color: lightyellow'>degree 3</span>, cubic, spline: </font></b>"
   ]
  },
  {
   "cell_type": "code",
   "execution_count": 74,
   "metadata": {
    "ExecuteTime": {
     "end_time": "2020-01-23T06:20:12.926228Z",
     "start_time": "2020-01-23T06:20:12.889Z"
    },
    "hidden": true
   },
   "outputs": [],
   "source": [
    "library(splines)\n",
    "B <- bs(d2$year,\n",
    "        knots=knot_list[-c(1,num_knots)] ,\n",
    "        degree=3 , intercept=TRUE )"
   ]
  },
  {
   "cell_type": "code",
   "execution_count": 88,
   "metadata": {
    "ExecuteTime": {
     "end_time": "2020-01-23T06:27:46.090630Z",
     "start_time": "2020-01-23T06:27:46.021Z"
    },
    "hidden": true
   },
   "outputs": [
    {
     "data": {
      "text/html": [
       "<table>\n",
       "<caption>A matrix: 6 × 17 of type dbl</caption>\n",
       "<thead>\n",
       "\t<tr><th scope=col>1</th><th scope=col>2</th><th scope=col>3</th><th scope=col>4</th><th scope=col>5</th><th scope=col>6</th><th scope=col>7</th><th scope=col>8</th><th scope=col>9</th><th scope=col>10</th><th scope=col>11</th><th scope=col>12</th><th scope=col>13</th><th scope=col>14</th><th scope=col>15</th><th scope=col>16</th><th scope=col>17</th></tr>\n",
       "</thead>\n",
       "<tbody>\n",
       "\t<tr><td>1.0000000</td><td>0.00000000</td><td>0.0000000000</td><td>0.000000e+00</td><td>0</td><td>0</td><td>0</td><td>0</td><td>0</td><td>0</td><td>0</td><td>0</td><td>0</td><td>0</td><td>0</td><td>0</td><td>0</td></tr>\n",
       "\t<tr><td>0.9697645</td><td>0.03006521</td><td>0.0001700700</td><td>2.206279e-07</td><td>0</td><td>0</td><td>0</td><td>0</td><td>0</td><td>0</td><td>0</td><td>0</td><td>0</td><td>0</td><td>0</td><td>0</td><td>0</td></tr>\n",
       "\t<tr><td>0.9401447</td><td>0.05917776</td><td>0.0006757944</td><td>1.765023e-06</td><td>0</td><td>0</td><td>0</td><td>0</td><td>0</td><td>0</td><td>0</td><td>0</td><td>0</td><td>0</td><td>0</td><td>0</td><td>0</td></tr>\n",
       "\t<tr><td>0.9111342</td><td>0.08734939</td><td>0.0015104442</td><td>5.956954e-06</td><td>0</td><td>0</td><td>0</td><td>0</td><td>0</td><td>0</td><td>0</td><td>0</td><td>0</td><td>0</td><td>0</td><td>0</td><td>0</td></tr>\n",
       "\t<tr><td>0.8827268</td><td>0.11459183</td><td>0.0026672909</td><td>1.412019e-05</td><td>0</td><td>0</td><td>0</td><td>0</td><td>0</td><td>0</td><td>0</td><td>0</td><td>0</td><td>0</td><td>0</td><td>0</td><td>0</td></tr>\n",
       "\t<tr><td>0.8549160</td><td>0.14091682</td><td>0.0041396056</td><td>2.757849e-05</td><td>0</td><td>0</td><td>0</td><td>0</td><td>0</td><td>0</td><td>0</td><td>0</td><td>0</td><td>0</td><td>0</td><td>0</td><td>0</td></tr>\n",
       "</tbody>\n",
       "</table>\n"
      ],
      "text/latex": [
       "A matrix: 6 × 17 of type dbl\n",
       "\\begin{tabular}{lllllllllllllllll}\n",
       " 1 & 2 & 3 & 4 & 5 & 6 & 7 & 8 & 9 & 10 & 11 & 12 & 13 & 14 & 15 & 16 & 17\\\\\n",
       "\\hline\n",
       "\t 1.0000000 & 0.00000000 & 0.0000000000 & 0.000000e+00 & 0 & 0 & 0 & 0 & 0 & 0 & 0 & 0 & 0 & 0 & 0 & 0 & 0\\\\\n",
       "\t 0.9697645 & 0.03006521 & 0.0001700700 & 2.206279e-07 & 0 & 0 & 0 & 0 & 0 & 0 & 0 & 0 & 0 & 0 & 0 & 0 & 0\\\\\n",
       "\t 0.9401447 & 0.05917776 & 0.0006757944 & 1.765023e-06 & 0 & 0 & 0 & 0 & 0 & 0 & 0 & 0 & 0 & 0 & 0 & 0 & 0\\\\\n",
       "\t 0.9111342 & 0.08734939 & 0.0015104442 & 5.956954e-06 & 0 & 0 & 0 & 0 & 0 & 0 & 0 & 0 & 0 & 0 & 0 & 0 & 0\\\\\n",
       "\t 0.8827268 & 0.11459183 & 0.0026672909 & 1.412019e-05 & 0 & 0 & 0 & 0 & 0 & 0 & 0 & 0 & 0 & 0 & 0 & 0 & 0\\\\\n",
       "\t 0.8549160 & 0.14091682 & 0.0041396056 & 2.757849e-05 & 0 & 0 & 0 & 0 & 0 & 0 & 0 & 0 & 0 & 0 & 0 & 0 & 0\\\\\n",
       "\\end{tabular}\n"
      ],
      "text/markdown": [
       "\n",
       "A matrix: 6 × 17 of type dbl\n",
       "\n",
       "| 1 | 2 | 3 | 4 | 5 | 6 | 7 | 8 | 9 | 10 | 11 | 12 | 13 | 14 | 15 | 16 | 17 |\n",
       "|---|---|---|---|---|---|---|---|---|---|---|---|---|---|---|---|---|\n",
       "| 1.0000000 | 0.00000000 | 0.0000000000 | 0.000000e+00 | 0 | 0 | 0 | 0 | 0 | 0 | 0 | 0 | 0 | 0 | 0 | 0 | 0 |\n",
       "| 0.9697645 | 0.03006521 | 0.0001700700 | 2.206279e-07 | 0 | 0 | 0 | 0 | 0 | 0 | 0 | 0 | 0 | 0 | 0 | 0 | 0 |\n",
       "| 0.9401447 | 0.05917776 | 0.0006757944 | 1.765023e-06 | 0 | 0 | 0 | 0 | 0 | 0 | 0 | 0 | 0 | 0 | 0 | 0 | 0 |\n",
       "| 0.9111342 | 0.08734939 | 0.0015104442 | 5.956954e-06 | 0 | 0 | 0 | 0 | 0 | 0 | 0 | 0 | 0 | 0 | 0 | 0 | 0 |\n",
       "| 0.8827268 | 0.11459183 | 0.0026672909 | 1.412019e-05 | 0 | 0 | 0 | 0 | 0 | 0 | 0 | 0 | 0 | 0 | 0 | 0 | 0 |\n",
       "| 0.8549160 | 0.14091682 | 0.0041396056 | 2.757849e-05 | 0 | 0 | 0 | 0 | 0 | 0 | 0 | 0 | 0 | 0 | 0 | 0 | 0 |\n",
       "\n"
      ],
      "text/plain": [
       "     1         2          3            4            5 6 7 8 9 10 11 12 13 14 15\n",
       "[1,] 1.0000000 0.00000000 0.0000000000 0.000000e+00 0 0 0 0 0 0  0  0  0  0  0 \n",
       "[2,] 0.9697645 0.03006521 0.0001700700 2.206279e-07 0 0 0 0 0 0  0  0  0  0  0 \n",
       "[3,] 0.9401447 0.05917776 0.0006757944 1.765023e-06 0 0 0 0 0 0  0  0  0  0  0 \n",
       "[4,] 0.9111342 0.08734939 0.0015104442 5.956954e-06 0 0 0 0 0 0  0  0  0  0  0 \n",
       "[5,] 0.8827268 0.11459183 0.0026672909 1.412019e-05 0 0 0 0 0 0  0  0  0  0  0 \n",
       "[6,] 0.8549160 0.14091682 0.0041396056 2.757849e-05 0 0 0 0 0 0  0  0  0  0  0 \n",
       "     16 17\n",
       "[1,] 0  0 \n",
       "[2,] 0  0 \n",
       "[3,] 0  0 \n",
       "[4,] 0  0 \n",
       "[5,] 0  0 \n",
       "[6,] 0  0 "
      ]
     },
     "metadata": {},
     "output_type": "display_data"
    },
    {
     "name": "stdout",
     "output_type": "stream",
     "text": [
      " 'bs' num [1:1124, 1:17] 1 0.97 0.94 0.911 0.883 ...\n",
      " - attr(*, \"dimnames\")=List of 2\n",
      "  ..$ : NULL\n",
      "  ..$ : chr [1:17] \"1\" \"2\" \"3\" \"4\" ...\n",
      " - attr(*, \"degree\")= int 3\n",
      " - attr(*, \"knots\")= Named num [1:13] 937 1017 1098 1178 1258 ...\n",
      "  ..- attr(*, \"names\")= chr [1:13] \"7.142857%\" \"14.28571%\" \"21.42857%\" \"28.57143%\" ...\n",
      " - attr(*, \"Boundary.knots\")= int [1:2] 839 1980\n",
      " - attr(*, \"intercept\")= logi TRUE\n"
     ]
    }
   ],
   "source": [
    "B %>% head\n",
    "B %>% str"
   ]
  },
  {
   "cell_type": "code",
   "execution_count": 89,
   "metadata": {
    "ExecuteTime": {
     "end_time": "2020-01-23T06:28:38.533435Z",
     "start_time": "2020-01-23T06:28:38.481Z"
    },
    "collapsed": true,
    "hidden": true
   },
   "outputs": [
    {
     "name": "stdout",
     "output_type": "stream",
     "text": [
      "'data.frame':\t1124 obs. of  5 variables:\n",
      " $ year      : int  839 840 841 842 843 844 845 846 847 848 ...\n",
      " $ doy       : int  NA NA NA NA NA NA NA NA NA NA ...\n",
      " $ temp      : num  5.87 5.99 6.12 6.25 6.37 6.5 6.62 6.75 6.88 7 ...\n",
      " $ temp_upper: num  11 10.8 10.6 10.5 10.4 ...\n",
      " $ temp_lower: num  0.75 1.21 1.64 2.02 2.35 2.63 2.83 2.96 3.03 3.02 ...\n"
     ]
    }
   ],
   "source": [
    "d2 %>% str"
   ]
  },
  {
   "cell_type": "markdown",
   "metadata": {
    "hidden": true
   },
   "source": [
    "* The matrix B should have 1124 rows and 17 columns. \n",
    "\n",
    "* Each row is a year, corresponding to the rows in the d2 data frame. \n",
    "\n",
    "* <font color = 'blue'><b>Each column is a basis function</b>, one of our <b>synthetic variables defining a span of years</b> within which a <b>corresponding parameter will influence prediction</b></font>. \n",
    "\n",
    "<b><font color = 'purple'>To display the basis functions, just plot each column against year: </font></b>"
   ]
  },
  {
   "cell_type": "code",
   "execution_count": 101,
   "metadata": {
    "ExecuteTime": {
     "end_time": "2020-01-23T06:35:01.844815Z",
     "start_time": "2020-01-23T06:35:01.596Z"
    },
    "hidden": true
   },
   "outputs": [
    {
     "data": {
      "image/png": "[encoded data removed]",
      "text/plain": [
       "plot without title"
      ]
     },
     "metadata": {
      "image/png": {
       "height": 300,
       "width": 780
      }
     },
     "output_type": "display_data"
    }
   ],
   "source": [
    "options(repr.plot.width=13, repr.plot.height=5)\n",
    "\n",
    "## R code 4.75\n",
    "plot( NULL , xlim=range(d2$year) , ylim=c(0,1) , xlab=\"year\" , ylab=\"basis value\" )\n",
    "for ( i in 1:ncol(B) ) lines( d2$year , B[,i] )"
   ]
  },
  {
   "cell_type": "markdown",
   "metadata": {
    "hidden": true
   },
   "source": [
    "<b><font color = 'purple'>Now to get the parameter weights for each basis function </font></b>, <font color = 'blue'><b>we need to actually define the model and make it run</b></font>. \n",
    "\n",
    "<font color = 'blue'>This is just a linear regression, at this point</font>. \n",
    "\n",
    "* <font color = 'green'><b>We’ll use each column of the matrix B as a variable</b></font>. \n",
    "* <font color = 'green'><b>We’ll also have an intercept to capture the average temperature</b></font>. This will make it easier to define priors on the basis weights, because then we can just conceive of each as a deviation from the intercept. \n",
    "\n",
    "<b><font color = 'purple'>In mathematical form, this is our spline model: </font></b>"
   ]
  },
  {
   "cell_type": "markdown",
   "metadata": {
    "hidden": true
   },
   "source": [
    "<img src='pics/SR_d40.png' alt='Drawing' style='width:145pt'/>"
   ]
  },
  {
   "cell_type": "markdown",
   "metadata": {
    "hidden": true
   },
   "source": [
    "That linear model might look weird. But <font color = 'blue'>all it is doing is <b>multiplying</b> each <b>basis value</b> by a corresponding parameter <span style='background-color: lightgreen'>$w_k$</span> and <b>then adding up all K of those products</b></font>. \n",
    "\n",
    "* This is just a compact way of writing a linear model. The rest should be familiar. Although I will ask you to simulate from those priors in the problems at the end of the chapter."
   ]
  },
  {
   "cell_type": "markdown",
   "metadata": {
    "hidden": true
   },
   "source": [
    "<b><font color = 'purple'>To build this model in quap, we just need a way to do that sum. </font></b> \n",
    "\n",
    "<font color = 'blue'><b>The easiest way is to use matrix multiplication</b></font>. If you aren’t familiar with linear algebra in this context, that’s fine. There is an Overthinking box at the end with some more detail about why this works. The only other trick is to use a start list for the weights to tell quap how many there are."
   ]
  },
  {
   "cell_type": "code",
   "execution_count": 102,
   "metadata": {
    "ExecuteTime": {
     "end_time": "2020-01-23T06:46:34.958715Z",
     "start_time": "2020-01-23T06:46:31.910Z"
    },
    "hidden": true
   },
   "outputs": [],
   "source": [
    "## R code 4.76\n",
    "m4.7 <- quap(\n",
    "    alist(\n",
    "        T ~ dnorm( mu , sigma ) ,\n",
    "        mu <- a + B %*% w ,\n",
    "        a ~ dnorm(6,10),\n",
    "        w ~ dnorm(0,1),\n",
    "        sigma ~ dexp(1)\n",
    "    ),\n",
    "    data=list( T=d2$temp , B=B ) ,\n",
    "    start=list( w=rep( 0 , ncol(B) ) ) )\n"
   ]
  },
  {
   "cell_type": "code",
   "execution_count": 104,
   "metadata": {
    "ExecuteTime": {
     "end_time": "2020-01-23T06:47:11.261635Z",
     "start_time": "2020-01-23T06:47:11.194Z"
    },
    "hidden": true
   },
   "outputs": [
    {
     "data": {
      "text/html": [
       "<table>\n",
       "<caption>A precis: 19 × 4</caption>\n",
       "<thead>\n",
       "\t<tr><th></th><th scope=col>mean</th><th scope=col>sd</th><th scope=col>5.5%</th><th scope=col>94.5%</th></tr>\n",
       "\t<tr><th></th><th scope=col>&lt;dbl&gt;</th><th scope=col>&lt;dbl&gt;</th><th scope=col>&lt;dbl&gt;</th><th scope=col>&lt;dbl&gt;</th></tr>\n",
       "</thead>\n",
       "<tbody>\n",
       "\t<tr><th scope=row>w[1]</th><td> 0.09744058</td><td>0.267673912</td><td>-0.3303540</td><td> 0.5252352</td></tr>\n",
       "\t<tr><th scope=row>w[2]</th><td> 0.23883130</td><td>0.279071016</td><td>-0.2071781</td><td> 0.6848407</td></tr>\n",
       "\t<tr><th scope=row>w[3]</th><td> 1.20066569</td><td>0.271684927</td><td> 0.7664607</td><td> 1.6348707</td></tr>\n",
       "\t<tr><th scope=row>w[4]</th><td>-0.82197500</td><td>0.259287175</td><td>-1.2363660</td><td>-0.4075840</td></tr>\n",
       "\t<tr><th scope=row>w[5]</th><td> 0.10167534</td><td>0.257448185</td><td>-0.3097766</td><td> 0.5131273</td></tr>\n",
       "\t<tr><th scope=row>w[6]</th><td>-1.40471203</td><td>0.257092949</td><td>-1.8155962</td><td>-0.9938278</td></tr>\n",
       "\t<tr><th scope=row>w[7]</th><td> 1.15647826</td><td>0.256907740</td><td> 0.7458901</td><td> 1.5670665</td></tr>\n",
       "\t<tr><th scope=row>w[8]</th><td>-1.91587738</td><td>0.256912361</td><td>-2.3264730</td><td>-1.5052818</td></tr>\n",
       "\t<tr><th scope=row>w[9]</th><td> 2.34737282</td><td>0.256876291</td><td> 1.9368349</td><td> 2.7579107</td></tr>\n",
       "\t<tr><th scope=row>w[10]</th><td>-2.32069972</td><td>0.256924559</td><td>-2.7313148</td><td>-1.9100847</td></tr>\n",
       "\t<tr><th scope=row>w[11]</th><td> 0.93543488</td><td>0.256914774</td><td> 0.5248354</td><td> 1.3460343</td></tr>\n",
       "\t<tr><th scope=row>w[12]</th><td>-1.61487877</td><td>0.257200528</td><td>-2.0259349</td><td>-1.2038226</td></tr>\n",
       "\t<tr><th scope=row>w[13]</th><td> 0.18050041</td><td>0.257668615</td><td>-0.2313038</td><td> 0.5923046</td></tr>\n",
       "\t<tr><th scope=row>w[14]</th><td>-1.24149159</td><td>0.260466341</td><td>-1.6577671</td><td>-0.8252161</td></tr>\n",
       "\t<tr><th scope=row>w[15]</th><td> 0.03142334</td><td>0.270382426</td><td>-0.4007000</td><td> 0.4635467</td></tr>\n",
       "\t<tr><th scope=row>w[16]</th><td> 0.99679668</td><td>0.274756779</td><td> 0.5576823</td><td> 1.4359111</td></tr>\n",
       "\t<tr><th scope=row>w[17]</th><td> 2.03577700</td><td>0.268396960</td><td> 1.6068268</td><td> 2.4647272</td></tr>\n",
       "\t<tr><th scope=row>a</th><td> 6.32230266</td><td>0.242765639</td><td> 5.9343163</td><td> 6.7102890</td></tr>\n",
       "\t<tr><th scope=row>sigma</th><td> 0.34423725</td><td>0.007262319</td><td> 0.3326307</td><td> 0.3558438</td></tr>\n",
       "</tbody>\n",
       "</table>\n"
      ],
      "text/latex": [
       "A precis: 19 × 4\n",
       "\\begin{tabular}{r|llll}\n",
       "  & mean & sd & 5.5\\% & 94.5\\%\\\\\n",
       "  & <dbl> & <dbl> & <dbl> & <dbl>\\\\\n",
       "\\hline\n",
       "\tw{[}1{]} &  0.09744058 & 0.267673912 & -0.3303540 &  0.5252352\\\\\n",
       "\tw{[}2{]} &  0.23883130 & 0.279071016 & -0.2071781 &  0.6848407\\\\\n",
       "\tw{[}3{]} &  1.20066569 & 0.271684927 &  0.7664607 &  1.6348707\\\\\n",
       "\tw{[}4{]} & -0.82197500 & 0.259287175 & -1.2363660 & -0.4075840\\\\\n",
       "\tw{[}5{]} &  0.10167534 & 0.257448185 & -0.3097766 &  0.5131273\\\\\n",
       "\tw{[}6{]} & -1.40471203 & 0.257092949 & -1.8155962 & -0.9938278\\\\\n",
       "\tw{[}7{]} &  1.15647826 & 0.256907740 &  0.7458901 &  1.5670665\\\\\n",
       "\tw{[}8{]} & -1.91587738 & 0.256912361 & -2.3264730 & -1.5052818\\\\\n",
       "\tw{[}9{]} &  2.34737282 & 0.256876291 &  1.9368349 &  2.7579107\\\\\n",
       "\tw{[}10{]} & -2.32069972 & 0.256924559 & -2.7313148 & -1.9100847\\\\\n",
       "\tw{[}11{]} &  0.93543488 & 0.256914774 &  0.5248354 &  1.3460343\\\\\n",
       "\tw{[}12{]} & -1.61487877 & 0.257200528 & -2.0259349 & -1.2038226\\\\\n",
       "\tw{[}13{]} &  0.18050041 & 0.257668615 & -0.2313038 &  0.5923046\\\\\n",
       "\tw{[}14{]} & -1.24149159 & 0.260466341 & -1.6577671 & -0.8252161\\\\\n",
       "\tw{[}15{]} &  0.03142334 & 0.270382426 & -0.4007000 &  0.4635467\\\\\n",
       "\tw{[}16{]} &  0.99679668 & 0.274756779 &  0.5576823 &  1.4359111\\\\\n",
       "\tw{[}17{]} &  2.03577700 & 0.268396960 &  1.6068268 &  2.4647272\\\\\n",
       "\ta &  6.32230266 & 0.242765639 &  5.9343163 &  6.7102890\\\\\n",
       "\tsigma &  0.34423725 & 0.007262319 &  0.3326307 &  0.3558438\\\\\n",
       "\\end{tabular}\n"
      ],
      "text/markdown": [
       "\n",
       "A precis: 19 × 4\n",
       "\n",
       "| <!--/--> | mean &lt;dbl&gt; | sd &lt;dbl&gt; | 5.5% &lt;dbl&gt; | 94.5% &lt;dbl&gt; |\n",
       "|---|---|---|---|---|\n",
       "| w[1] |  0.09744058 | 0.267673912 | -0.3303540 |  0.5252352 |\n",
       "| w[2] |  0.23883130 | 0.279071016 | -0.2071781 |  0.6848407 |\n",
       "| w[3] |  1.20066569 | 0.271684927 |  0.7664607 |  1.6348707 |\n",
       "| w[4] | -0.82197500 | 0.259287175 | -1.2363660 | -0.4075840 |\n",
       "| w[5] |  0.10167534 | 0.257448185 | -0.3097766 |  0.5131273 |\n",
       "| w[6] | -1.40471203 | 0.257092949 | -1.8155962 | -0.9938278 |\n",
       "| w[7] |  1.15647826 | 0.256907740 |  0.7458901 |  1.5670665 |\n",
       "| w[8] | -1.91587738 | 0.256912361 | -2.3264730 | -1.5052818 |\n",
       "| w[9] |  2.34737282 | 0.256876291 |  1.9368349 |  2.7579107 |\n",
       "| w[10] | -2.32069972 | 0.256924559 | -2.7313148 | -1.9100847 |\n",
       "| w[11] |  0.93543488 | 0.256914774 |  0.5248354 |  1.3460343 |\n",
       "| w[12] | -1.61487877 | 0.257200528 | -2.0259349 | -1.2038226 |\n",
       "| w[13] |  0.18050041 | 0.257668615 | -0.2313038 |  0.5923046 |\n",
       "| w[14] | -1.24149159 | 0.260466341 | -1.6577671 | -0.8252161 |\n",
       "| w[15] |  0.03142334 | 0.270382426 | -0.4007000 |  0.4635467 |\n",
       "| w[16] |  0.99679668 | 0.274756779 |  0.5576823 |  1.4359111 |\n",
       "| w[17] |  2.03577700 | 0.268396960 |  1.6068268 |  2.4647272 |\n",
       "| a |  6.32230266 | 0.242765639 |  5.9343163 |  6.7102890 |\n",
       "| sigma |  0.34423725 | 0.007262319 |  0.3326307 |  0.3558438 |\n",
       "\n"
      ],
      "text/plain": [
       "      mean        sd          5.5%       94.5%     \n",
       "w[1]   0.09744058 0.267673912 -0.3303540  0.5252352\n",
       "w[2]   0.23883130 0.279071016 -0.2071781  0.6848407\n",
       "w[3]   1.20066569 0.271684927  0.7664607  1.6348707\n",
       "w[4]  -0.82197500 0.259287175 -1.2363660 -0.4075840\n",
       "w[5]   0.10167534 0.257448185 -0.3097766  0.5131273\n",
       "w[6]  -1.40471203 0.257092949 -1.8155962 -0.9938278\n",
       "w[7]   1.15647826 0.256907740  0.7458901  1.5670665\n",
       "w[8]  -1.91587738 0.256912361 -2.3264730 -1.5052818\n",
       "w[9]   2.34737282 0.256876291  1.9368349  2.7579107\n",
       "w[10] -2.32069972 0.256924559 -2.7313148 -1.9100847\n",
       "w[11]  0.93543488 0.256914774  0.5248354  1.3460343\n",
       "w[12] -1.61487877 0.257200528 -2.0259349 -1.2038226\n",
       "w[13]  0.18050041 0.257668615 -0.2313038  0.5923046\n",
       "w[14] -1.24149159 0.260466341 -1.6577671 -0.8252161\n",
       "w[15]  0.03142334 0.270382426 -0.4007000  0.4635467\n",
       "w[16]  0.99679668 0.274756779  0.5576823  1.4359111\n",
       "w[17]  2.03577700 0.268396960  1.6068268  2.4647272\n",
       "a      6.32230266 0.242765639  5.9343163  6.7102890\n",
       "sigma  0.34423725 0.007262319  0.3326307  0.3558438"
      ]
     },
     "metadata": {},
     "output_type": "display_data"
    }
   ],
   "source": [
    "precis(m4.7,depth=2)"
   ]
  },
  {
   "cell_type": "markdown",
   "metadata": {
    "hidden": true
   },
   "source": [
    "You can look at the posterior means if you like with precis(m4.7,depth=2). But it won’t reveal much. You should see 17 w parameters. But you can’t tell what the model thinks from the parameter summaries. Instead <b><font color = 'purple'>we need to plot the posterior predictions </font></b>.\n",
    "\n",
    "<b><font color = 'purple'>First, here are the weighted basis functions: </font></b>"
   ]
  },
  {
   "cell_type": "code",
   "execution_count": 107,
   "metadata": {
    "ExecuteTime": {
     "end_time": "2020-01-23T06:49:57.015591Z",
     "start_time": "2020-01-23T06:49:56.974Z"
    },
    "hidden": true
   },
   "outputs": [
    {
     "name": "stdout",
     "output_type": "stream",
     "text": [
      "List of 3\n",
      " $ a    : num [1:10000] 5.91 6.24 6.5 6.06 6.29 ...\n",
      " $ sigma: num [1:10000] 0.339 0.339 0.338 0.344 0.345 ...\n",
      " $ w    : num [1:10000, 1:17] 0.415 0.386 0.183 0.413 0.166 ...\n",
      " - attr(*, \"source\")= chr \"quap posterior: 10000 samples from m4.7\"\n"
     ]
    }
   ],
   "source": [
    "post %>% str"
   ]
  },
  {
   "cell_type": "code",
   "execution_count": 106,
   "metadata": {
    "ExecuteTime": {
     "end_time": "2020-01-23T06:48:23.903302Z",
     "start_time": "2020-01-23T06:48:23.616Z"
    },
    "hidden": true
   },
   "outputs": [
    {
     "data": {
      "image/png": "[encoded data removed]",
      "text/plain": [
       "plot without title"
      ]
     },
     "metadata": {
      "image/png": {
       "height": 300,
       "width": 780
      }
     },
     "output_type": "display_data"
    }
   ],
   "source": [
    "## R code 4.77\n",
    "\n",
    "# extract samples from multi-dimensional \n",
    "# gaussian approximated posterior\n",
    "post <- extract.samples(m4.7)\n",
    "\n",
    "\n",
    "w <- apply( post$w , 2 , mean )\n",
    "# 2 for column-wise fn evaluation\n",
    "\n",
    "# create empty plot with labels\n",
    "plot( NULL , xlim=range(d2$year) , ylim=c(-2,2) ,\n",
    "    xlab=\"year\" , ylab=\"basis * weight\" )\n",
    "\n",
    "# fill plot with basis function lines\n",
    "for ( i in 1:ncol(B) ) lines( d2$year , w[i]*B[,i] )\n"
   ]
  },
  {
   "cell_type": "markdown",
   "metadata": {
    "hidden": true
   },
   "source": [
    "This plot, with the knots added for reference, is displayed in the middle row of Figure 4.13. \n",
    "\n",
    "<b><font color = 'purple'>And finally the 97% posterior interval for µ, at each year: </font></b>"
   ]
  },
  {
   "cell_type": "code",
   "execution_count": 109,
   "metadata": {
    "ExecuteTime": {
     "end_time": "2020-01-23T06:54:15.755236Z",
     "start_time": "2020-01-23T06:54:15.017Z"
    },
    "hidden": true
   },
   "outputs": [
    {
     "data": {
      "image/png": "[encoded data removed]",
      "text/plain": [
       "plot without title"
      ]
     },
     "metadata": {
      "image/png": {
       "height": 300,
       "width": 780
      }
     },
     "output_type": "display_data"
    }
   ],
   "source": [
    "mu <- link( m4.7 )\n",
    "mu_PI <- apply(mu,2,PI,0.97)\n",
    "plot( d2$year , d2$temp , col=col.alpha(rangi2,0.3) , pch=16 )\n",
    "shade( mu_PI , d2$year , col=col.alpha(\"black\",0.5) )"
   ]
  },
  {
   "cell_type": "markdown",
   "metadata": {
    "hidden": true
   },
   "source": [
    "This is shown in the bottom of the figure. <font color = 'blue'>The spline is much wigglier now</font>. \n",
    "\n",
    "Try increasing the number of knots and the basis degree to see how this changes the spline. You might wonder how many knots is correct. We’ll be ready to address that question in a few more chapters. \n",
    "\n",
    "Really we’ll answer it by changing the question."
   ]
  },
  {
   "cell_type": "markdown",
   "metadata": {
    "heading_collapsed": true,
    "hidden": true
   },
   "source": [
    "##### <hr>"
   ]
  },
  {
   "cell_type": "markdown",
   "metadata": {
    "heading_collapsed": true
   },
   "source": [
    "## Practice"
   ]
  },
  {
   "cell_type": "markdown",
   "metadata": {
    "heading_collapsed": true,
    "hidden": true
   },
   "source": [
    "### <font color = 'purple' style='background-color: lightyellow'>EASY</font>"
   ]
  },
  {
   "cell_type": "markdown",
   "metadata": {
    "hidden": true
   },
   "source": [
    "**4E1. In the model definition below, which line is the likelihood?**\n",
    "\n",
    "<span style='background-color: lightgreen'>yi ∼ Normal(µ, σ)</span>\n",
    "\n",
    "µ ∼ Normal(0, 10)\n",
    "\n",
    "σ ∼ Uniform(0, 10)"
   ]
  },
  {
   "cell_type": "markdown",
   "metadata": {
    "hidden": true
   },
   "source": [
    "**4E2. In the model definition just above, how many parameters are in the posterior distribution?**"
   ]
  },
  {
   "cell_type": "raw",
   "metadata": {
    "hidden": true
   },
   "source": [
    "2"
   ]
  },
  {
   "cell_type": "markdown",
   "metadata": {
    "hidden": true
   },
   "source": [
    "**4E3. Using the model definition above, write down the appropriate form of Bayes’ theorem that\n",
    "includes the proper likelihood and priors.**"
   ]
  },
  {
   "cell_type": "markdown",
   "metadata": {
    "hidden": true
   },
   "source": [
    "<img src='pics/SR_h24.png' alt='Drawing' style='width:425pt'/>"
   ]
  },
  {
   "cell_type": "markdown",
   "metadata": {
    "hidden": true
   },
   "source": [
    "<img src='pics/SR_h27.png' alt='Drawing' style='width:425pt'/>"
   ]
  },
  {
   "cell_type": "markdown",
   "metadata": {
    "hidden": true
   },
   "source": [
    "<img src='pics/SR_h26.png' alt='Drawing' style='width:425pt'/>"
   ]
  },
  {
   "cell_type": "markdown",
   "metadata": {
    "hidden": true
   },
   "source": [
    "<img src='pics/SR_h25.png' alt='Drawing' style='width:525pt'/>"
   ]
  },
  {
   "cell_type": "markdown",
   "metadata": {
    "hidden": true
   },
   "source": [
    "4E4. In the model definition below, which line is the linear model?\n",
    "\n",
    "\\begin{align*} y_i &\\sim \\text{Normal}(\\mu_i, \\sigma) \\\\ \\mu_i &= \\alpha + \\beta x_i & \\text{This is the linear model}\\\\ \\alpha &\\sim \\text{Normal}(0,10) \\\\ \\beta &\\sim \\text{Normal}(0,1) \\\\ \\sigma &\\sim \\text{Uniform}(0,10) \\end{align*}"
   ]
  },
  {
   "cell_type": "markdown",
   "metadata": {
    "hidden": true
   },
   "source": [
    "**4E5. In the model definition just above, how many parameters are in the posterior distribution?**\n",
    "\n",
    "There are 3 parameters in the posterior distribution: $\\alpha, \\beta, \\sigma$."
   ]
  },
  {
   "cell_type": "markdown",
   "metadata": {
    "heading_collapsed": true,
    "hidden": true
   },
   "source": [
    "### <font color = 'purple' style='background-color: lightyellow'>MEDIUM</font>"
   ]
  },
  {
   "cell_type": "markdown",
   "metadata": {
    "heading_collapsed": true,
    "hidden": true
   },
   "source": [
    "##### **<font color = 'purple' style='background-color: lightyellow'>4M1. For the model definition below, simulate observed heights from the prior (not the posterior).</font>**"
   ]
  },
  {
   "cell_type": "raw",
   "metadata": {
    "hidden": true
   },
   "source": [
    "y_i ∼ Normal(µ, σ)\n",
    "µ ∼ Normal(0, 10)\n",
    "σ ∼ Uniform(0, 10)"
   ]
  },
  {
   "cell_type": "code",
   "execution_count": 53,
   "metadata": {
    "cell_style": "center",
    "hidden": true
   },
   "outputs": [
    {
     "data": {
      "image/png": "[encoded data removed]",
      "text/plain": [
       "Plot with title \"\""
      ]
     },
     "metadata": {},
     "output_type": "display_data"
    }
   ],
   "source": [
    "trials <- 1e4\n",
    "mu <- rnorm(trials, 0, 10)    \n",
    "sigma <- runif(trials, 0, 10)\n",
    "height <- rnorm(trials, mu, sigma)\n",
    "dens(height)"
   ]
  },
  {
   "cell_type": "markdown",
   "metadata": {
    "cell_style": "center",
    "hidden": true
   },
   "source": [
    "If you want to generate a vector of normally distributed random numbers, <span style='background-color: lightgreen'>rnorm</span> is the function you should use. The first argument n is the number of numbers you want to generate, followed by the standard mean and sd arguments\n",
    "\n",
    "<span style='background-color: lightgreen'>runif</span> generates a random value from the uniform distribution.\n",
    "\n",
    "rnorm(n, mean = , sd = ) is used to generate n normal random numbers with arguments mean and sd; while runif(n, min = , max = ) is used to generate n uniform random numbers lie in the interval (min, max)."
   ]
  },
  {
   "cell_type": "markdown",
   "metadata": {
    "heading_collapsed": true,
    "hidden": true
   },
   "source": [
    "##### **<font color = 'purple' style='background-color: lightyellow'>4M2. Translate the model just above into a map formula.</font>**"
   ]
  },
  {
   "cell_type": "code",
   "execution_count": 55,
   "metadata": {
    "hidden": true
   },
   "outputs": [],
   "source": [
    "formula_4M2 <- alist(\n",
    "    y ~ dnorm(mu, sigma),   # y_i ∼ Normal(µ, σ)\n",
    "    mu ~ dnorm(),           # µ ∼ Normal(0, 10)\n",
    "    sigma ~ dunif( 0 , 10 ) # σ ∼ Uniform(0, 10)\n",
    ")"
   ]
  },
  {
   "cell_type": "markdown",
   "metadata": {
    "hidden": true
   },
   "source": [
    "<span style='background-color: lightgreen'>dnorm</span> returns the value of the probability density function for the normal distribution given parameters for x, μ, and σ"
   ]
  },
  {
   "cell_type": "markdown",
   "metadata": {
    "heading_collapsed": true,
    "hidden": true
   },
   "source": [
    "##### **<font color = 'purple' style='background-color: lightyellow'>4M3. Translate the map model formula below into a mathematical model definition.</font>**"
   ]
  },
  {
   "cell_type": "code",
   "execution_count": null,
   "metadata": {
    "hidden": true
   },
   "outputs": [],
   "source": [
    "flist <- alist(\n",
    "    y ~ dnorm( mu , sigma ),\n",
    "    mu <- a + b*x,\n",
    "    a ~ dnorm( 0 , 50 ),\n",
    "    b ~ dunif( 0 , 10 ),\n",
    "    sigma ~ dunif( 0 , 50 )\n",
    ")"
   ]
  },
  {
   "cell_type": "markdown",
   "metadata": {
    "hidden": true
   },
   "source": [
    "$y_i \\sim Normal(µ, σ)$\n",
    "\n",
    "$µ = a + \\beta*x_i$\n",
    "\n",
    "$a \\sim Normal(0, 10)$\n",
    "\n",
    "$\\beta \\sim Uniform(0, 10)$\n",
    "\n",
    "$\\sigma \\sim Uniform(0, 50)$\n",
    "\n"
   ]
  },
  {
   "cell_type": "markdown",
   "metadata": {
    "hidden": true
   },
   "source": [
    "Remember that mathematical notation makes use of index variables like i, while the R code is instead implicitly vectorized over observations."
   ]
  },
  {
   "cell_type": "markdown",
   "metadata": {
    "heading_collapsed": true,
    "hidden": true
   },
   "source": [
    "##### **<font color = 'purple' style='background-color: lightyellow'>4M4. A sample of students is measured for height each year for 3 years. After the third year, you want to fit a linear regression predicting height using year as a predictor. </font>**.\n",
    "\n",
    "* Write down the mathematical model definition for this regression, using any variable names and priors you choose. Be prepared to defend your choice of priors"
   ]
  },
  {
   "cell_type": "raw",
   "metadata": {
    "hidden": true
   },
   "source": [
    "height ~ Normal(mu, sigma)\n",
    "mu = a + b*year\n",
    "a ~ Normal(0,10)\n",
    "b ~ Uniform(0,10)\n",
    "sigma ~ Uniform(0,50)"
   ]
  },
  {
   "cell_type": "markdown",
   "metadata": {
    "hidden": true
   },
   "source": [
    "<img src='pics/SR_h30.png' alt='Drawing' style='width:425pt'/>"
   ]
  },
  {
   "cell_type": "markdown",
   "metadata": {
    "heading_collapsed": true,
    "hidden": true
   },
   "source": [
    "##### <font color = 'purple' style='background-color: lightyellow'>4M5. Now suppose I tell you that the average height in the first year was 120 cm and that every\n",
    "student got taller each year. Does this information lead you to change your choice of priors? How?</font>"
   ]
  },
  {
   "cell_type": "markdown",
   "metadata": {
    "hidden": true
   },
   "source": [
    "This one is subtle. On the one hand, having information on measurement scale lets us set a more sensible prior for the intercept, α. You might center it on 120 now, for example. On the other hand, for the prior to really be “prior,” it needs to be ignorance of the actual data values. \n",
    "\n",
    "* Since the observed mean is a feature of the sample, not of the measurement scale, basing the prior on it could get you into trouble. What kind of trouble? It could lead to an illusionary fit to data, as essentially you’ve used the data twice: once in setting the prior and once in conditioning on the data (computing the posterior). Much later in the book, you’ll see how constraints on the data can be used to design models, without running the risk of using the data twice."
   ]
  },
  {
   "cell_type": "markdown",
   "metadata": {
    "heading_collapsed": true,
    "hidden": true
   },
   "source": [
    "##### **<font color = 'purple' style='background-color: lightyellow'>4M6. Now suppose I tell you that the variance among heights for students of the same age is never more than 64cm. How does this lead you to revise your priors?</font>**"
   ]
  },
  {
   "cell_type": "markdown",
   "metadata": {
    "hidden": true
   },
   "source": [
    "Again, this is a subtle issue. All the advice from just above applies. But it’s not clear here whether “variance among heights for students of the same age is never more than 64cm” is a feature of the sample or of the population. If it’s of the population, then setting a prior for it may be okay. In that case:\n",
    "\n",
    "`σ ∼ Uniform(0, 64)`"
   ]
  },
  {
   "cell_type": "markdown",
   "metadata": {
    "heading_collapsed": true,
    "hidden": true
   },
   "source": [
    "### **<font color = 'purple' style='background-color: lightyellow'>HARD</font>**"
   ]
  },
  {
   "cell_type": "markdown",
   "metadata": {
    "heading_collapsed": true,
    "hidden": true
   },
   "source": [
    "##### 4H1"
   ]
  },
  {
   "cell_type": "markdown",
   "metadata": {
    "heading_collapsed": true,
    "hidden": true
   },
   "source": [
    "###### teacher"
   ]
  },
  {
   "cell_type": "markdown",
   "metadata": {
    "hidden": true
   },
   "source": [
    "<img src='pics/SR_h31.png' alt='Drawing' style='width:425pt'/>"
   ]
  },
  {
   "cell_type": "markdown",
   "metadata": {
    "hidden": true
   },
   "source": [
    "<font color = 'green'>First, fit the model with map, to provide a quadratic approximation of the posterior. I’ll use quite flat priors here, but if you used stronger priors, that’s fine. What matters is the procedure be coherent.</font>"
   ]
  },
  {
   "cell_type": "code",
   "execution_count": 134,
   "metadata": {
    "hidden": true
   },
   "outputs": [
    {
     "data": {
      "text/html": [
       "<table>\n",
       "<thead><tr><th scope=col>height</th><th scope=col>weight</th><th scope=col>age</th><th scope=col>male</th><th scope=col>weight.centered</th></tr></thead>\n",
       "<tbody>\n",
       "\t<tr><td>151.765   </td><td>47.82561  </td><td>63        </td><td>1         </td><td> 0.4390970</td></tr>\n",
       "\t<tr><td>139.700   </td><td>36.48581  </td><td>63        </td><td>0         </td><td>-1.3171850</td></tr>\n",
       "\t<tr><td>136.525   </td><td>31.86484  </td><td>65        </td><td>0         </td><td>-2.0328699</td></tr>\n",
       "\t<tr><td>156.845   </td><td>53.04191  </td><td>41        </td><td>1         </td><td> 1.2469867</td></tr>\n",
       "\t<tr><td>145.415   </td><td>41.27687  </td><td>51        </td><td>0         </td><td>-0.5751559</td></tr>\n",
       "\t<tr><td>163.830   </td><td>62.99259  </td><td>35        </td><td>1         </td><td> 2.7881241</td></tr>\n",
       "</tbody>\n",
       "</table>\n"
      ],
      "text/latex": [
       "\\begin{tabular}{r|lllll}\n",
       " height & weight & age & male & weight.centered\\\\\n",
       "\\hline\n",
       "\t 151.765    & 47.82561   & 63         & 1          &  0.4390970\\\\\n",
       "\t 139.700    & 36.48581   & 63         & 0          & -1.3171850\\\\\n",
       "\t 136.525    & 31.86484   & 65         & 0          & -2.0328699\\\\\n",
       "\t 156.845    & 53.04191   & 41         & 1          &  1.2469867\\\\\n",
       "\t 145.415    & 41.27687   & 51         & 0          & -0.5751559\\\\\n",
       "\t 163.830    & 62.99259   & 35         & 1          &  2.7881241\\\\\n",
       "\\end{tabular}\n"
      ],
      "text/markdown": [
       "\n",
       "height | weight | age | male | weight.centered | \n",
       "|---|---|---|---|---|---|\n",
       "| 151.765    | 47.82561   | 63         | 1          |  0.4390970 | \n",
       "| 139.700    | 36.48581   | 63         | 0          | -1.3171850 | \n",
       "| 136.525    | 31.86484   | 65         | 0          | -2.0328699 | \n",
       "| 156.845    | 53.04191   | 41         | 1          |  1.2469867 | \n",
       "| 145.415    | 41.27687   | 51         | 0          | -0.5751559 | \n",
       "| 163.830    | 62.99259   | 35         | 1          |  2.7881241 | \n",
       "\n",
       "\n"
      ],
      "text/plain": [
       "  height  weight   age male weight.centered\n",
       "1 151.765 47.82561 63  1     0.4390970     \n",
       "2 139.700 36.48581 63  0    -1.3171850     \n",
       "3 136.525 31.86484 65  0    -2.0328699     \n",
       "4 156.845 53.04191 41  1     1.2469867     \n",
       "5 145.415 41.27687 51  0    -0.5751559     \n",
       "6 163.830 62.99259 35  1     2.7881241     "
      ]
     },
     "metadata": {},
     "output_type": "display_data"
    }
   ],
   "source": [
    "library(rethinking)\n",
    "data(Howell1)\n",
    "d <- Howell1\n",
    "\n",
    "d2 <- d[d$age>=18,] \n",
    "# All we want for now are heights of adults in the sample. The reason to filter out non-\n",
    "# adults for now is that height is strongly correlated with age, before adulthood. \n",
    "\n",
    "\n",
    "d2 <- d2 %>% \n",
    "    mutate(weight.centered = (weight - mean(weight)) / sd(weight))\n",
    "d2 %>% head()"
   ]
  },
  {
   "cell_type": "code",
   "execution_count": 135,
   "metadata": {
    "hidden": true
   },
   "outputs": [],
   "source": [
    "M_4H1 <- map(\n",
    "    alist(\n",
    "        height ~ dnorm( mu , sigma ) ,\n",
    "        mu <- a + b*weight.centered ,\n",
    "        a ~ dnorm( 0 , 100 ) ,\n",
    "        b ~ dnorm( 0 , 10 ) ,\n",
    "        sigma ~ dunif( 0 , 50 )\n",
    "    ) ,\n",
    "    data=d2 )"
   ]
  },
  {
   "cell_type": "markdown",
   "metadata": {
    "hidden": true
   },
   "source": [
    "<font color = 'green'>Then produce samples from the quadratic approximate posterior. You could use mvrnorm directly, or the convenient extract.samples function:</font>"
   ]
  },
  {
   "cell_type": "code",
   "execution_count": 136,
   "metadata": {
    "hidden": true
   },
   "outputs": [
    {
     "name": "stdout",
     "output_type": "stream",
     "text": [
      "'data.frame':\t10000 obs. of  3 variables:\n",
      " $ a    : num  155 155 154 154 154 ...\n",
      " $ b    : num  5.87 5.65 5.65 5.47 6.01 ...\n",
      " $ sigma: num  5.16 5.47 5.15 4.9 5.15 ...\n"
     ]
    }
   ],
   "source": [
    "posterior_samples <- extract.samples( M_4H1 )\n",
    "str(post)"
   ]
  },
  {
   "cell_type": "markdown",
   "metadata": {
    "hidden": true
   },
   "source": [
    "<font color = 'green'><span style='background-color: lightyellow'>Now we want to plug the weights in the table into this model, and then average over the posterior to compute predictions for each individual’s height</span>. The question is ambiguous as to whether it wants µ only or rather the distribution of individual height measurements (using σ). I’ll show the harder approach, that uses σ and simulates individual heights. Also, I won’t use link or sim, but it’s fine if you did. For the first individual, the code might look like this:</font>"
   ]
  },
  {
   "cell_type": "code",
   "execution_count": 232,
   "metadata": {
    "hidden": true,
    "scrolled": true
   },
   "outputs": [
    {
     "data": {
      "text/html": [
       "173.209388834056"
      ],
      "text/latex": [
       "173.209388834056"
      ],
      "text/markdown": [
       "173.209388834056"
      ],
      "text/plain": [
       "[1] 173.2094"
      ]
     },
     "metadata": {},
     "output_type": "display_data"
    },
    {
     "data": {
      "text/html": [
       "<dl class=dl-horizontal>\n",
       "\t<dt>|0.89</dt>\n",
       "\t\t<dd>164.931318161914</dd>\n",
       "\t<dt>0.89|</dt>\n",
       "\t\t<dd>181.41376283491</dd>\n",
       "</dl>\n"
      ],
      "text/latex": [
       "\\begin{description*}\n",
       "\\item[\\textbackslash{}textbar\\{\\}0.89] 164.931318161914\n",
       "\\item[0.89\\textbackslash{}textbar\\{\\}] 181.41376283491\n",
       "\\end{description*}\n"
      ],
      "text/markdown": [
       "|0.89\n",
       ":   164.9313181619140.89|\n",
       ":   181.41376283491\n",
       "\n"
      ],
      "text/plain": [
       "   |0.89    0.89| \n",
       "164.9313 181.4138 "
      ]
     },
     "metadata": {},
     "output_type": "display_data"
    }
   ],
   "source": [
    "y <- rnorm(n=1e5 , \n",
    "           mean = posterior_samples$a + posterior_samples$b*((46.95-mean(d2$weight))/sd(d2$weight)) , \n",
    "           sd = posterior_samples$sigma ) \n",
    "mean(y)\n",
    "HPDI(y,prob=0.89)"
   ]
  },
  {
   "cell_type": "markdown",
   "metadata": {
    "hidden": true
   },
   "source": [
    "<font color = 'green'>How does the code work? The first line, which includes rnorm, simulates 100-thousand heights, using\n",
    "the samples from the posterior and an assumed weight of 46.95 kg. The second line then computes\n",
    "the average of these simulated heights. That gives the expected (mean) height. The third line then\n",
    "computes the 90% HPDI of height.</font>"
   ]
  },
  {
   "cell_type": "markdown",
   "metadata": {
    "hidden": true
   },
   "source": [
    "<img src='pics/SR_h32.png' alt='Drawing' style='width:425pt'/>"
   ]
  },
  {
   "cell_type": "markdown",
   "metadata": {
    "heading_collapsed": true,
    "hidden": true
   },
   "source": [
    "###### student 1"
   ]
  },
  {
   "cell_type": "code",
   "execution_count": 141,
   "metadata": {
    "hidden": true
   },
   "outputs": [
    {
     "name": "stdout",
     "output_type": "stream",
     "text": [
      "[ 100 / 1000 ]\r",
      "[ 200 / 1000 ]\r",
      "[ 300 / 1000 ]\r",
      "[ 400 / 1000 ]\r",
      "[ 500 / 1000 ]\r",
      "[ 600 / 1000 ]\r",
      "[ 700 / 1000 ]\r",
      "[ 800 / 1000 ]\r",
      "[ 900 / 1000 ]\r",
      "[ 1000 / 1000 ]\r\n"
     ]
    }
   ],
   "source": [
    "# load data\n",
    "data(Howell1)\n",
    "d <- Howell1\n",
    "d$weight.centered <- (d$weight - mean(d$weight)) / sd(d$weight)\n",
    "\n",
    "# build model\n",
    "model <- map(\n",
    "  alist(\n",
    "    height ~ dnorm(mean = mu, sd = sigma),\n",
    "    mu <- alpha + beta*weight.centered,\n",
    "    alpha ~ dnorm(mean = 0, sd = 100),\n",
    "    beta ~ dnorm(mean = 0, sd = 10),\n",
    "    sigma ~ dunif(min = 0, max = 64)\n",
    "  ),\n",
    "  data = d\n",
    ")\n",
    "\n",
    "# simulate heights from model\n",
    "individual.weights <- c(46.95, 43.72, 64.78, 32.59, 54.63)\n",
    "individual.weights.centered <- (individual.weights - mean(d$weight)) / sd(d$weight)\n",
    "simulated.heights <- sim(model, data = list(weight.centered = individual.weights.centered))\n",
    "\n",
    "# summarize results\n",
    "simulated.heights.mean <- apply(X = simulated.heights, MARGIN = 2, FUN = mean)\n",
    "simulated.heights.PI <- apply(X = simulated.heights, MARGIN = 2, FUN = PI, prob = .89)\n",
    "\n",
    "# try it manually for the first individual\n",
    "posterior.samples <- extract.samples(model)\n",
    "simulated.heights.first.individual <- rnorm(n = trials, mean = posterior.samples$alpha + posterior.samples$beta*individual.weights.centered[1], sd = posterior.samples$sigma)\n",
    "simulated.heights.first.individual.mean <- mean(simulated.heights.first.individual)\n",
    "simulated.heights.first.individual.PI <- PI(samples = simulated.heights.first.individual, prob = .89)\n"
   ]
  },
  {
   "cell_type": "code",
   "execution_count": 144,
   "metadata": {
    "hidden": true
   },
   "outputs": [
    {
     "data": {
      "text/html": [
       "<ol class=list-inline>\n",
       "\t<li>158.227204741828</li>\n",
       "\t<li>152.746959747373</li>\n",
       "\t<li>189.528097978426</li>\n",
       "\t<li>132.898580722888</li>\n",
       "\t<li>171.728977121022</li>\n",
       "</ol>\n"
      ],
      "text/latex": [
       "\\begin{enumerate*}\n",
       "\\item 158.227204741828\n",
       "\\item 152.746959747373\n",
       "\\item 189.528097978426\n",
       "\\item 132.898580722888\n",
       "\\item 171.728977121022\n",
       "\\end{enumerate*}\n"
      ],
      "text/markdown": [
       "1. 158.227204741828\n",
       "2. 152.746959747373\n",
       "3. 189.528097978426\n",
       "4. 132.898580722888\n",
       "5. 171.728977121022\n",
       "\n",
       "\n"
      ],
      "text/plain": [
       "[1] 158.2272 152.7470 189.5281 132.8986 171.7290"
      ]
     },
     "metadata": {},
     "output_type": "display_data"
    },
    {
     "data": {
      "text/html": [
       "<table>\n",
       "<tbody>\n",
       "\t<tr><th scope=row>5%</th><td>143.7718</td><td>136.9658</td><td>173.8883</td><td>117.3704</td><td>156.8203</td></tr>\n",
       "\t<tr><th scope=row>94%</th><td>173.9034</td><td>167.6865</td><td>205.9746</td><td>147.9676</td><td>187.0009</td></tr>\n",
       "</tbody>\n",
       "</table>\n"
      ],
      "text/latex": [
       "\\begin{tabular}{r|lllll}\n",
       "\t5\\% & 143.7718 & 136.9658 & 173.8883 & 117.3704 & 156.8203\\\\\n",
       "\t94\\% & 173.9034 & 167.6865 & 205.9746 & 147.9676 & 187.0009\\\\\n",
       "\\end{tabular}\n"
      ],
      "text/markdown": [
       "\n",
       "| 5% | 143.7718 | 136.9658 | 173.8883 | 117.3704 | 156.8203 | \n",
       "| 94% | 173.9034 | 167.6865 | 205.9746 | 147.9676 | 187.0009 | \n",
       "\n",
       "\n"
      ],
      "text/plain": [
       "    [,1]     [,2]     [,3]     [,4]     [,5]    \n",
       "5%  143.7718 136.9658 173.8883 117.3704 156.8203\n",
       "94% 173.9034 167.6865 205.9746 147.9676 187.0009"
      ]
     },
     "metadata": {},
     "output_type": "display_data"
    }
   ],
   "source": [
    "simulated.heights.mean\n",
    "simulated.heights.PI "
   ]
  },
  {
   "cell_type": "markdown",
   "metadata": {
    "heading_collapsed": true,
    "hidden": true
   },
   "source": [
    "###### student 2"
   ]
  },
  {
   "cell_type": "code",
   "execution_count": 148,
   "metadata": {
    "hidden": true
   },
   "outputs": [],
   "source": [
    "# 4H1\n",
    "### load data\n",
    "data(\"Howell1\")\n",
    "d <- Howell1"
   ]
  },
  {
   "cell_type": "code",
   "execution_count": 149,
   "metadata": {
    "cell_style": "center",
    "collapsed": true,
    "hidden": true
   },
   "outputs": [
    {
     "data": {
      "text/plain": [
       "     height          weight           age             male       \n",
       " Min.   :136.5   Min.   :31.07   Min.   :12.00   Min.   :0.0000  \n",
       " 1st Qu.:148.0   1st Qu.:39.53   1st Qu.:27.00   1st Qu.:0.0000  \n",
       " Median :153.7   Median :44.34   Median :38.00   Median :0.0000  \n",
       " Mean   :154.3   Mean   :44.59   Mean   :39.85   Mean   :0.4717  \n",
       " 3rd Qu.:160.0   3rd Qu.:48.99   3rd Qu.:50.00   3rd Qu.:1.0000  \n",
       " Max.   :179.1   Max.   :62.99   Max.   :88.00   Max.   :1.0000  "
      ]
     },
     "metadata": {},
     "output_type": "display_data"
    },
    {
     "data": {},
     "metadata": {},
     "output_type": "display_data"
    },
    {
     "data": {
      "image/png": "[encoded data removed]",
      "text/plain": [
       "Plot with title \"Histogram of d2$age\""
      ]
     },
     "metadata": {},
     "output_type": "display_data"
    },
    {
     "data": {
      "image/png": "[encoded data removed]",
      "text/plain": [
       "plot without title"
      ]
     },
     "metadata": {},
     "output_type": "display_data"
    }
   ],
   "source": [
    "### check age and height for people with weight > 30\n",
    "d2 <- d[d$weight>=30,]\n",
    "hist(d2$age)\n",
    "summary(d2)\n",
    "ggplot(d2, aes(weight, height)) + geom_point()"
   ]
  },
  {
   "cell_type": "code",
   "execution_count": 151,
   "metadata": {
    "collapsed": true,
    "hidden": true
   },
   "outputs": [
    {
     "data": {
      "text/plain": [
       "     height          weight           age             male       \n",
       " Min.   :136.5   Min.   :31.07   Min.   :18.00   Min.   :0.0000  \n",
       " 1st Qu.:148.6   1st Qu.:40.26   1st Qu.:28.00   1st Qu.:0.0000  \n",
       " Median :154.3   Median :44.79   Median :39.00   Median :0.0000  \n",
       " Mean   :154.6   Mean   :44.99   Mean   :41.14   Mean   :0.4688  \n",
       " 3rd Qu.:160.7   3rd Qu.:49.29   3rd Qu.:51.00   3rd Qu.:1.0000  \n",
       " Max.   :179.1   Max.   :62.99   Max.   :88.00   Max.   :1.0000  "
      ]
     },
     "metadata": {},
     "output_type": "display_data"
    },
    {
     "data": {},
     "metadata": {},
     "output_type": "display_data"
    },
    {
     "data": {
      "image/png": "[encoded data removed]",
      "text/plain": [
       "plot without title"
      ]
     },
     "metadata": {},
     "output_type": "display_data"
    }
   ],
   "source": [
    "### to simplify life lets use linear regression as in chapter 4 for individuals with age>18\n",
    "d2 <- d[d$age>=18,]\n",
    "summary(d2)\n",
    "ggplot(d2, aes(weight, height)) + geom_point()"
   ]
  },
  {
   "cell_type": "code",
   "execution_count": 152,
   "metadata": {
    "hidden": true
   },
   "outputs": [
    {
     "data": {
      "text/plain": [
       "        Mean StdDev   5.5%  94.5%\n",
       "a     113.94   1.90 110.90 116.98\n",
       "b       0.90   0.04   0.84   0.97\n",
       "sigma   5.07   0.19   4.77   5.38"
      ]
     },
     "metadata": {},
     "output_type": "display_data"
    }
   ],
   "source": [
    "### fit map model \n",
    "m4h1 <- map(\n",
    "  alist(\n",
    "     height ~ dnorm(mu, sigma),\n",
    "     mu <- a + b*weight,\n",
    "     a ~ dnorm(155,50),\n",
    "     b ~ dnorm(0, 10),\n",
    "     sigma ~ dunif(0, 50)\n",
    "  ),\n",
    "  data=d2\n",
    ")\n",
    "summary(m4h1)"
   ]
  },
  {
   "cell_type": "code",
   "execution_count": 153,
   "metadata": {
    "hidden": true
   },
   "outputs": [
    {
     "name": "stdout",
     "output_type": "stream",
     "text": [
      "[ 10000 / 10000 ]\n",
      " num [1:10000, 1:5] 156 144 159 155 159 ...\n"
     ]
    },
    {
     "data": {
      "text/html": [
       "<table>\n",
       "<thead><tr><th scope=col>id</th><th scope=col>weight</th><th scope=col>height</th><th scope=col>hpdi.low</th><th scope=col>hpdi.high</th></tr></thead>\n",
       "<tbody>\n",
       "\t<tr><td>1       </td><td>46.95   </td><td>156.4021</td><td>148.3839</td><td>164.6617</td></tr>\n",
       "\t<tr><td>2       </td><td>43.72   </td><td>153.4760</td><td>145.5828</td><td>161.8180</td></tr>\n",
       "\t<tr><td>3       </td><td>64.78   </td><td>172.4959</td><td>164.2609</td><td>180.6380</td></tr>\n",
       "\t<tr><td>4       </td><td>32.59   </td><td>143.3560</td><td>135.2397</td><td>151.5114</td></tr>\n",
       "\t<tr><td>5       </td><td>54.63   </td><td>163.3233</td><td>155.3978</td><td>171.4222</td></tr>\n",
       "</tbody>\n",
       "</table>\n"
      ],
      "text/latex": [
       "\\begin{tabular}{r|lllll}\n",
       " id & weight & height & hpdi.low & hpdi.high\\\\\n",
       "\\hline\n",
       "\t 1        & 46.95    & 156.4021 & 148.3839 & 164.6617\\\\\n",
       "\t 2        & 43.72    & 153.4760 & 145.5828 & 161.8180\\\\\n",
       "\t 3        & 64.78    & 172.4959 & 164.2609 & 180.6380\\\\\n",
       "\t 4        & 32.59    & 143.3560 & 135.2397 & 151.5114\\\\\n",
       "\t 5        & 54.63    & 163.3233 & 155.3978 & 171.4222\\\\\n",
       "\\end{tabular}\n"
      ],
      "text/markdown": [
       "\n",
       "id | weight | height | hpdi.low | hpdi.high | \n",
       "|---|---|---|---|---|\n",
       "| 1        | 46.95    | 156.4021 | 148.3839 | 164.6617 | \n",
       "| 2        | 43.72    | 153.4760 | 145.5828 | 161.8180 | \n",
       "| 3        | 64.78    | 172.4959 | 164.2609 | 180.6380 | \n",
       "| 4        | 32.59    | 143.3560 | 135.2397 | 151.5114 | \n",
       "| 5        | 54.63    | 163.3233 | 155.3978 | 171.4222 | \n",
       "\n",
       "\n"
      ],
      "text/plain": [
       "  id weight height   hpdi.low hpdi.high\n",
       "1 1  46.95  156.4021 148.3839 164.6617 \n",
       "2 2  43.72  153.4760 145.5828 161.8180 \n",
       "3 3  64.78  172.4959 164.2609 180.6380 \n",
       "4 4  32.59  143.3560 135.2397 151.5114 \n",
       "5 5  54.63  163.3233 155.3978 171.4222 "
      ]
     },
     "metadata": {},
     "output_type": "display_data"
    }
   ],
   "source": [
    "### create dataframe with records of interest\n",
    "dnew <- data.frame(id=1:5, weight=c(46.95, 43.72, 64.78, 32.59, 54.63))\n",
    "sim.dnew <- sim(m4h1, data = dnew, n=1e4)\n",
    "str(sim.dnew) # simulated heights\n",
    "\n",
    "dnew$height <- apply(sim.dnew, 2, mean)\n",
    "hpdi.new <- apply(sim.dnew, 2, HPDI)\n",
    "dnew$hpdi.low <- hpdi.new[1,]\n",
    "dnew$hpdi.high <- hpdi.new[2,]\n",
    "dnew"
   ]
  },
  {
   "cell_type": "code",
   "execution_count": 154,
   "metadata": {
    "hidden": true,
    "scrolled": false
   },
   "outputs": [
    {
     "data": {
      "text/html": [
       "156.351491874683"
      ],
      "text/latex": [
       "156.351491874683"
      ],
      "text/markdown": [
       "156.351491874683"
      ],
      "text/plain": [
       "[1] 156.3515"
      ]
     },
     "metadata": {},
     "output_type": "display_data"
    },
    {
     "data": {
      "text/html": [
       "<dl class=dl-horizontal>\n",
       "\t<dt>|0.89</dt>\n",
       "\t\t<dd>148.552228272519</dd>\n",
       "\t<dt>0.89|</dt>\n",
       "\t\t<dd>164.559010070913</dd>\n",
       "</dl>\n"
      ],
      "text/latex": [
       "\\begin{description*}\n",
       "\\item[\\textbackslash{}textbar\\{\\}0.89] 148.552228272519\n",
       "\\item[0.89\\textbackslash{}textbar\\{\\}] 164.559010070913\n",
       "\\end{description*}\n"
      ],
      "text/markdown": [
       "|0.89\n",
       ":   148.5522282725190.89|\n",
       ":   164.559010070913\n",
       "\n"
      ],
      "text/plain": [
       "   |0.89    0.89| \n",
       "148.5522 164.5590 "
      ]
     },
     "metadata": {},
     "output_type": "display_data"
    }
   ],
   "source": [
    "# draw from posterior for the first individual\n",
    "post4h1 <- extract.samples(m4h1)\n",
    "sim4h1.p1 <- rnorm(n = 1e4, mean = post4h1$a + post4h1$b*dnew$weight[1], sd = post4h1$sigma)\n",
    "(p1.height <- mean(sim4h1.p1))\n",
    "(p1.hpdi <- HPDI(sim4h1.p1))"
   ]
  },
  {
   "cell_type": "markdown",
   "metadata": {
    "heading_collapsed": true,
    "hidden": true
   },
   "source": [
    "##### 4H2"
   ]
  },
  {
   "cell_type": "markdown",
   "metadata": {
    "hidden": true
   },
   "source": [
    "<img src='pics/SR_h33.png' alt='Drawing' style='width:425pt'/>"
   ]
  },
  {
   "cell_type": "code",
   "execution_count": 179,
   "metadata": {
    "hidden": true
   },
   "outputs": [
    {
     "data": {
      "text/html": [
       "<ol class=list-inline>\n",
       "\t<li>192</li>\n",
       "\t<li>5</li>\n",
       "</ol>\n"
      ],
      "text/latex": [
       "\\begin{enumerate*}\n",
       "\\item 192\n",
       "\\item 5\n",
       "\\end{enumerate*}\n"
      ],
      "text/markdown": [
       "1. 192\n",
       "2. 5\n",
       "\n",
       "\n"
      ],
      "text/plain": [
       "[1] 192   5"
      ]
     },
     "metadata": {},
     "output_type": "display_data"
    }
   ],
   "source": [
    "library(rethinking)\n",
    "data(Howell1)\n",
    "d <- Howell1\n",
    "\n",
    "d3 <- d[d$age<18,] \n",
    "# All we want for now are heights of adults in the sample. The reason to filter out non-\n",
    "# adults for now is that height is strongly correlated with age, before adulthood. \n",
    "\n",
    "\n",
    "d3 <- d3 %>% \n",
    "    # mutate(weight.centered = (weight - mean(weight)) / sd(weight))\n",
    "    mutate(weight.centered = scale (weight))\n",
    "\n",
    "d3 %>% dim()"
   ]
  },
  {
   "cell_type": "code",
   "execution_count": 173,
   "metadata": {
    "collapsed": true,
    "hidden": true
   },
   "outputs": [
    {
     "data": {
      "text/html": [
       "<table>\n",
       "<thead><tr><th scope=col>height</th><th scope=col>weight</th><th scope=col>age</th><th scope=col>male</th><th scope=col>weight.centered</th></tr></thead>\n",
       "<tbody>\n",
       "\t<tr><td>121.92    </td><td>19.61785  </td><td>12.0      </td><td>1         </td><td> 0.1346480</td></tr>\n",
       "\t<tr><td>105.41    </td><td>13.94795  </td><td> 8.0      </td><td>0         </td><td>-0.4996177</td></tr>\n",
       "\t<tr><td> 86.36    </td><td>10.48931  </td><td> 6.5      </td><td>0         </td><td>-0.8865198</td></tr>\n",
       "\t<tr><td>129.54    </td><td>23.58678  </td><td>13.0      </td><td>1         </td><td> 0.5786340</td></tr>\n",
       "\t<tr><td>109.22    </td><td>15.98912  </td><td> 7.0      </td><td>0         </td><td>-0.2712820</td></tr>\n",
       "\t<tr><td>137.16    </td><td>27.32892  </td><td>17.0      </td><td>1         </td><td> 0.9972494</td></tr>\n",
       "</tbody>\n",
       "</table>\n"
      ],
      "text/latex": [
       "\\begin{tabular}{r|lllll}\n",
       " height & weight & age & male & weight.centered\\\\\n",
       "\\hline\n",
       "\t 121.92     & 19.61785   & 12.0       & 1          &  0.1346480\\\\\n",
       "\t 105.41     & 13.94795   &  8.0       & 0          & -0.4996177\\\\\n",
       "\t  86.36     & 10.48931   &  6.5       & 0          & -0.8865198\\\\\n",
       "\t 129.54     & 23.58678   & 13.0       & 1          &  0.5786340\\\\\n",
       "\t 109.22     & 15.98912   &  7.0       & 0          & -0.2712820\\\\\n",
       "\t 137.16     & 27.32892   & 17.0       & 1          &  0.9972494\\\\\n",
       "\\end{tabular}\n"
      ],
      "text/markdown": [
       "\n",
       "height | weight | age | male | weight.centered | \n",
       "|---|---|---|---|---|---|\n",
       "| 121.92     | 19.61785   | 12.0       | 1          |  0.1346480 | \n",
       "| 105.41     | 13.94795   |  8.0       | 0          | -0.4996177 | \n",
       "|  86.36     | 10.48931   |  6.5       | 0          | -0.8865198 | \n",
       "| 129.54     | 23.58678   | 13.0       | 1          |  0.5786340 | \n",
       "| 109.22     | 15.98912   |  7.0       | 0          | -0.2712820 | \n",
       "| 137.16     | 27.32892   | 17.0       | 1          |  0.9972494 | \n",
       "\n",
       "\n"
      ],
      "text/plain": [
       "  height weight   age  male weight.centered\n",
       "1 121.92 19.61785 12.0 1     0.1346480     \n",
       "2 105.41 13.94795  8.0 0    -0.4996177     \n",
       "3  86.36 10.48931  6.5 0    -0.8865198     \n",
       "4 129.54 23.58678 13.0 1     0.5786340     \n",
       "5 109.22 15.98912  7.0 0    -0.2712820     \n",
       "6 137.16 27.32892 17.0 1     0.9972494     "
      ]
     },
     "metadata": {},
     "output_type": "display_data"
    }
   ],
   "source": [
    "d3 %>% head()"
   ]
  },
  {
   "cell_type": "raw",
   "metadata": {
    "hidden": true
   },
   "source": [
    "M_4H2 <- map(\n",
    "    alist(\n",
    "        height ~ dnorm( mu , sigma ) ,\n",
    "        mu <- a + b*weight.centered ,\n",
    "        a ~ dnorm( 0 , 100 ) ,\n",
    "        b ~ dnorm( 0 , 10 ) ,\n",
    "        sigma ~ dunif( 0 , 50 )\n",
    "    ) ,\n",
    "    data=d3 )"
   ]
  },
  {
   "cell_type": "code",
   "execution_count": 183,
   "metadata": {
    "hidden": true
   },
   "outputs": [],
   "source": [
    "M_4H2 <- map(\n",
    "    alist(\n",
    "        height ~ dnorm( mu , sigma ) ,\n",
    "        mu <- a + b*weight ,\n",
    "        a ~ dnorm( 100 , 100 ) ,\n",
    "        b ~ dnorm( 0 , 10 ) ,\n",
    "        sigma ~ dunif( 0 , 50 )\n",
    "    ) ,\n",
    "    data=d3 )"
   ]
  },
  {
   "cell_type": "code",
   "execution_count": 184,
   "metadata": {
    "hidden": true
   },
   "outputs": [
    {
     "data": {
      "text/plain": [
       "       Mean StdDev  5.5% 94.5%\n",
       "a     58.24   1.40 56.01 60.47\n",
       "b      2.72   0.07  2.61  2.83\n",
       "sigma  8.44   0.43  7.75  9.13"
      ]
     },
     "metadata": {},
     "output_type": "display_data"
    }
   ],
   "source": [
    "M_4H2 %>% precis()"
   ]
  },
  {
   "cell_type": "markdown",
   "metadata": {
    "hidden": true
   },
   "source": [
    "The estimates suggest that the MAP coefficient for weight is 2.7. This implies that for a unit change of 1kg of weight, we predict an average of 2.7cm of increase in height."
   ]
  },
  {
   "cell_type": "markdown",
   "metadata": {
    "hidden": true
   },
   "source": [
    "<font color = 'green'>(b) Now to plot the raw data and superimpose the model estimates, modify the code in Chapter 4. We will sample from the naive posterior, then compute 90% intervals for the mean and predicted heights. This is what the complete code looks like, if you opt not to use the convenience functions link and sim:</font>"
   ]
  },
  {
   "cell_type": "code",
   "execution_count": 193,
   "metadata": {
    "hidden": true
   },
   "outputs": [],
   "source": [
    "post <- extract.samples( M_4H2 )\n",
    "w.seq <- seq(from=1,to=45,length.out=50)\n",
    "mu <- sapply( w.seq , function(z) mean( post$a + post$b*z ) ) # sapply function to each weight value; \n",
    "mu.ci <- sapply( w.seq , function(z)                          # sapply will return a vector.\n",
    "    HPDI( post$a + post$b*z , prob=0.9 ) )\n",
    "pred.ci <- sapply( w.seq , function(z)\n",
    "    HPDI( rnorm(10000,post$a + post$b*z,post$sigma) , 0.9 ) )"
   ]
  },
  {
   "cell_type": "code",
   "execution_count": 194,
   "metadata": {
    "cell_style": "split",
    "code_folding": [],
    "hidden": true
   },
   "outputs": [
    {
     "data": {
      "image/png": "[encoded data removed]",
      "text/plain": [
       "plot without title"
      ]
     },
     "metadata": {},
     "output_type": "display_data"
    }
   ],
   "source": [
    "plot(height ~ weight , data=d3 ,\n",
    "     col=col.alpha(\"slateblue\",0.5) , cex=0.5 )\n",
    "lines( w.seq , mu )\n",
    "lines( w.seq , mu.ci[1,] , lty=2 )\n",
    "lines( w.seq , mu.ci[2,] , lty=2 )\n",
    "lines( w.seq , pred.ci[1,] , lty=2 )\n",
    "lines( w.seq , pred.ci[2,] , lty=2 )"
   ]
  },
  {
   "cell_type": "markdown",
   "metadata": {
    "heading_collapsed": true,
    "hidden": true
   },
   "source": [
    "###### student 1"
   ]
  },
  {
   "cell_type": "code",
   "execution_count": 198,
   "metadata": {
    "cell_style": "split",
    "hidden": true
   },
   "outputs": [],
   "source": [
    "## 4H2\n",
    "data(Howell1)\n",
    "d <- Howell1\n",
    "d <- d[d$age < 18,]"
   ]
  },
  {
   "cell_type": "code",
   "execution_count": 199,
   "metadata": {
    "cell_style": "center",
    "hidden": true
   },
   "outputs": [
    {
     "data": {
      "text/plain": [
       "       Mean StdDev  5.5% 94.5%\n",
       "alpha 58.24   1.40 56.01 60.47\n",
       "beta   2.72   0.07  2.61  2.83\n",
       "sigma  8.44   0.43  7.75  9.13"
      ]
     },
     "metadata": {},
     "output_type": "display_data"
    }
   ],
   "source": [
    "# scale weight column\n",
    "d$weight.standardized <- d$weight\n",
    "\n",
    "# a)\n",
    "model <- map(\n",
    "  alist(\n",
    "    height ~ dnorm(mean = mu, sd = sigma),\n",
    "    mu <- alpha + beta*weight.standardized,\n",
    "    alpha ~ dnorm(mean = 100, sd = 100),\n",
    "    beta ~ dnorm(mean = 0, sd = 10),\n",
    "    sigma ~ dunif(min = 0, max = 50)\n",
    "  ),\n",
    "  data = d\n",
    ")\n",
    "\n",
    "precis(model)"
   ]
  },
  {
   "cell_type": "code",
   "execution_count": 201,
   "metadata": {
    "hidden": true
   },
   "outputs": [],
   "source": [
    "# b)\n",
    "library(MASS)\n",
    "trials <- 1e5\n",
    "\n",
    "weight.seq <- seq(from = 1, to = 45, length.out = 50)\n",
    "\n",
    "# simulate mu then compute mean and hpdi\n",
    "posterior.samples <- data.frame( mvrnorm(n = trials, mu = coef(model), Sigma = vcov(model)) )\n",
    "mu.link <- function(weight) posterior.samples$alpha + posterior.samples$beta * weight\n",
    "mu <- sapply(X = weight.seq, FUN = mu.link)\n",
    "mu.mean <- apply(X = mu, MARGIN = 2, FUN = mean)\n",
    "mu.hpdi <- apply(X = mu, MARGIN = 2, FUN = HPDI, prob = .89)"
   ]
  },
  {
   "cell_type": "code",
   "execution_count": 202,
   "metadata": {
    "hidden": true
   },
   "outputs": [],
   "source": [
    "# simulate heights then compute hpdi\n",
    "height.link <- function(weight) rnorm(n = nrow(posterior.samples), mean = mu.link(weight), sd = posterior.samples$sigma)\n",
    "height.samples <- sapply(X = weight.seq, FUN = height.link)\n",
    "height.hpdi <- apply(X = height.samples, MARGIN = 2, FUN = HPDI, prob = .89)"
   ]
  },
  {
   "cell_type": "code",
   "execution_count": 200,
   "metadata": {
    "collapsed": true,
    "hidden": true
   },
   "outputs": [
    {
     "name": "stderr",
     "output_type": "stream",
     "text": [
      "\n",
      "Attaching package: 'MASS'\n",
      "\n",
      "The following object is masked from 'package:dplyr':\n",
      "\n",
      "    select\n",
      "\n"
     ]
    },
    {
     "data": {
      "image/png": "[encoded data removed]",
      "text/plain": [
       "plot without title"
      ]
     },
     "metadata": {},
     "output_type": "display_data"
    }
   ],
   "source": [
    "# plot results\n",
    "plot(height ~ weight.standardized, data = d, col = col.alpha(rangi2, .5))\n",
    "lines(x = weight.seq, y = mu.mean)\n",
    "shade(object = mu.hpdi, lim = weight.seq)\n",
    "shade(object = height.hpdi, lim = weight.seq)"
   ]
  },
  {
   "cell_type": "markdown",
   "metadata": {
    "heading_collapsed": true,
    "hidden": true
   },
   "source": [
    "###### student 2"
   ]
  },
  {
   "cell_type": "code",
   "execution_count": 206,
   "metadata": {
    "cell_style": "split",
    "hidden": true
   },
   "outputs": [
    {
     "data": {
      "image/png": "[encoded data removed]",
      "text/plain": [
       "plot without title"
      ]
     },
     "metadata": {},
     "output_type": "display_data"
    }
   ],
   "source": [
    "# 4H2\n",
    "d2 <- d[d$age<18,]\n",
    "stopifnot(nrow(d2)==192)\n",
    "plot(height~weight, d2)"
   ]
  },
  {
   "cell_type": "code",
   "execution_count": 219,
   "metadata": {
    "hidden": true
   },
   "outputs": [
    {
     "data": {
      "text/plain": [
       "       Mean StdDev  5.5% 94.5%\n",
       "a     58.27   1.40 56.03 60.50\n",
       "b      2.72   0.07  2.61  2.83\n",
       "sigma  8.44   0.43  7.75  9.13"
      ]
     },
     "metadata": {},
     "output_type": "display_data"
    }
   ],
   "source": [
    "## 4h2.a\n",
    "m4h2 <- map(\n",
    "  alist(\n",
    "    height ~ dnorm(mu, sigma),\n",
    "    mu <- a + b*weight,\n",
    "    a ~ dnorm(100,50),\n",
    "    b ~ dnorm(0, 10),\n",
    "    sigma ~ dunif(0, 50)\n",
    "  ),\n",
    "  data=d2\n",
    ")\n",
    "summary(m4h2)"
   ]
  },
  {
   "cell_type": "markdown",
   "metadata": {
    "hidden": true
   },
   "source": [
    "for every 10 units increase in weight on average we expect `10*coef(m4h2)['b']` increase in height"
   ]
  },
  {
   "cell_type": "code",
   "execution_count": 220,
   "metadata": {
    "hidden": true
   },
   "outputs": [
    {
     "data": {
      "text/html": [
       "<strong>b:</strong> 27.185288491096"
      ],
      "text/latex": [
       "\\textbf{b:} 27.185288491096"
      ],
      "text/markdown": [
       "**b:** 27.185288491096"
      ],
      "text/plain": [
       "       b \n",
       "27.18529 "
      ]
     },
     "metadata": {},
     "output_type": "display_data"
    }
   ],
   "source": [
    "10*coef(m4h2)['b']"
   ]
  },
  {
   "cell_type": "code",
   "execution_count": 221,
   "metadata": {
    "collapsed": true,
    "hidden": true
   },
   "outputs": [
    {
     "name": "stdout",
     "output_type": "stream",
     "text": [
      "[ 10000 / 10000 ]\n",
      " num [1:10000, 1:46] 64.7 64 62.4 65.2 64.4 ...\n"
     ]
    },
    {
     "data": {
      "text/plain": [
       "       V1              V2              V3              V4       \n",
       " Min.   :57.75   Min.   :60.76   Min.   :63.77   Min.   :66.78  \n",
       " 1st Qu.:62.85   1st Qu.:65.61   1st Qu.:68.36   1st Qu.:71.12  \n",
       " Median :63.71   Median :66.43   Median :69.15   Median :71.87  \n",
       " Mean   :63.70   Mean   :66.42   Mean   :69.14   Mean   :71.86  \n",
       " 3rd Qu.:64.56   3rd Qu.:67.24   3rd Qu.:69.92   3rd Qu.:72.61  \n",
       " Max.   :68.94   Max.   :71.45   Max.   :73.95   Max.   :76.46  \n",
       "       V5              V6              V7              V8       \n",
       " Min.   :69.79   Min.   :72.81   Min.   :75.82   Min.   :78.83  \n",
       " 1st Qu.:73.89   1st Qu.:76.64   1st Qu.:79.39   1st Qu.:82.14  \n",
       " Median :74.58   Median :77.30   Median :80.03   Median :82.74  \n",
       " Mean   :74.58   Mean   :77.30   Mean   :80.02   Mean   :82.74  \n",
       " 3rd Qu.:75.28   3rd Qu.:77.97   3rd Qu.:80.65   3rd Qu.:83.33  \n",
       " Max.   :78.96   Max.   :81.47   Max.   :83.97   Max.   :86.47  \n",
       "       V9             V10             V11             V12       \n",
       " Min.   :81.84   Min.   :84.86   Min.   :87.75   Min.   :90.59  \n",
       " 1st Qu.:84.89   1st Qu.:87.63   1st Qu.:90.39   1st Qu.:93.13  \n",
       " Median :85.46   Median :88.18   Median :90.89   Median :93.61  \n",
       " Mean   :85.45   Mean   :88.17   Mean   :90.89   Mean   :93.61  \n",
       " 3rd Qu.:86.02   3rd Qu.:88.71   3rd Qu.:91.40   3rd Qu.:94.09  \n",
       " Max.   :88.98   Max.   :91.48   Max.   :93.99   Max.   :96.49  \n",
       "      V13             V14              V15             V16       \n",
       " Min.   :93.43   Min.   : 96.27   Min.   : 99.1   Min.   :101.9  \n",
       " 1st Qu.:95.87   1st Qu.: 98.61   1st Qu.:101.3   1st Qu.:104.1  \n",
       " Median :96.33   Median : 99.05   Median :101.8   Median :104.5  \n",
       " Mean   :96.33   Mean   : 99.05   Mean   :101.8   Mean   :104.5  \n",
       " 3rd Qu.:96.79   3rd Qu.: 99.49   3rd Qu.:102.2   3rd Qu.:104.9  \n",
       " Max.   :99.01   Max.   :101.59   Max.   :104.2   Max.   :106.9  \n",
       "      V17             V18             V19             V20       \n",
       " Min.   :104.8   Min.   :107.6   Min.   :110.4   Min.   :113.0  \n",
       " 1st Qu.:106.8   1st Qu.:109.5   1st Qu.:112.2   1st Qu.:114.9  \n",
       " Median :107.2   Median :109.9   Median :112.6   Median :115.4  \n",
       " Mean   :107.2   Mean   :109.9   Mean   :112.6   Mean   :115.4  \n",
       " 3rd Qu.:107.6   3rd Qu.:110.3   3rd Qu.:113.1   3rd Qu.:115.8  \n",
       " Max.   :109.5   Max.   :112.2   Max.   :114.9   Max.   :117.7  \n",
       "      V21             V22             V23             V24       \n",
       " Min.   :115.7   Min.   :118.4   Min.   :121.0   Min.   :123.7  \n",
       " 1st Qu.:117.6   1st Qu.:120.3   1st Qu.:123.0   1st Qu.:125.7  \n",
       " Median :118.1   Median :120.8   Median :123.5   Median :126.2  \n",
       " Mean   :118.1   Mean   :120.8   Mean   :123.5   Mean   :126.2  \n",
       " 3rd Qu.:118.5   3rd Qu.:121.3   3rd Qu.:124.0   3rd Qu.:126.8  \n",
       " Max.   :120.5   Max.   :123.3   Max.   :126.1   Max.   :129.0  \n",
       "      V25             V26             V27             V28       \n",
       " Min.   :126.2   Min.   :128.8   Min.   :131.4   Min.   :133.9  \n",
       " 1st Qu.:128.4   1st Qu.:131.1   1st Qu.:133.8   1st Qu.:136.5  \n",
       " Median :129.0   Median :131.7   Median :134.4   Median :137.1  \n",
       " Mean   :129.0   Mean   :131.7   Mean   :134.4   Mean   :137.1  \n",
       " 3rd Qu.:129.5   3rd Qu.:132.3   3rd Qu.:135.0   3rd Qu.:137.8  \n",
       " Max.   :131.9   Max.   :134.8   Max.   :137.7   Max.   :140.6  \n",
       "      V29             V30             V31             V32       \n",
       " Min.   :136.4   Min.   :138.9   Min.   :141.4   Min.   :143.9  \n",
       " 1st Qu.:139.2   1st Qu.:141.8   1st Qu.:144.5   1st Qu.:147.2  \n",
       " Median :139.8   Median :142.6   Median :145.3   Median :148.0  \n",
       " Mean   :139.8   Mean   :142.6   Mean   :145.3   Mean   :148.0  \n",
       " 3rd Qu.:140.5   3rd Qu.:143.3   3rd Qu.:146.0   3rd Qu.:148.8  \n",
       " Max.   :143.6   Max.   :146.5   Max.   :149.5   Max.   :152.5  \n",
       "      V33             V34             V35             V36       \n",
       " Min.   :146.4   Min.   :148.8   Min.   :151.3   Min.   :153.8  \n",
       " 1st Qu.:149.9   1st Qu.:152.6   1st Qu.:155.2   1st Qu.:157.9  \n",
       " Median :150.7   Median :153.4   Median :156.2   Median :158.9  \n",
       " Mean   :150.7   Mean   :153.4   Mean   :156.2   Mean   :158.9  \n",
       " 3rd Qu.:151.5   3rd Qu.:154.3   3rd Qu.:157.1   3rd Qu.:159.8  \n",
       " Max.   :155.4   Max.   :158.4   Max.   :161.3   Max.   :164.3  \n",
       "      V37             V38             V39             V40       \n",
       " Min.   :156.3   Min.   :158.7   Min.   :161.2   Min.   :163.7  \n",
       " 1st Qu.:160.6   1st Qu.:163.3   1st Qu.:166.0   1st Qu.:168.6  \n",
       " Median :161.6   Median :164.3   Median :167.0   Median :169.8  \n",
       " Mean   :161.6   Mean   :164.3   Mean   :167.0   Mean   :169.8  \n",
       " 3rd Qu.:162.6   3rd Qu.:165.4   3rd Qu.:168.1   3rd Qu.:170.9  \n",
       " Max.   :167.2   Max.   :170.2   Max.   :173.2   Max.   :176.1  \n",
       "      V41             V42             V43             V44       \n",
       " Min.   :166.2   Min.   :168.7   Min.   :171.1   Min.   :173.6  \n",
       " 1st Qu.:171.3   1st Qu.:174.0   1st Qu.:176.7   1st Qu.:179.3  \n",
       " Median :172.5   Median :175.2   Median :177.9   Median :180.6  \n",
       " Mean   :172.5   Mean   :175.2   Mean   :177.9   Mean   :180.6  \n",
       " 3rd Qu.:173.6   3rd Qu.:176.4   3rd Qu.:179.2   3rd Qu.:181.9  \n",
       " Max.   :179.1   Max.   :182.0   Max.   :185.0   Max.   :187.9  \n",
       "      V45             V46       \n",
       " Min.   :176.1   Min.   :178.6  \n",
       " 1st Qu.:182.0   1st Qu.:184.7  \n",
       " Median :183.4   Median :186.1  \n",
       " Mean   :183.3   Mean   :186.1  \n",
       " 3rd Qu.:184.7   3rd Qu.:187.5  \n",
       " Max.   :190.9   Max.   :193.9  "
      ]
     },
     "metadata": {},
     "output_type": "display_data"
    }
   ],
   "source": [
    "weight.seq <- seq(round(min(d2$weight)-2), round(max(d2$weight)+2), 1)\n",
    "mu4h2 <- link(m4h2, data=list(weight=weight.seq), n=1e4)\n",
    "str(mu4h2)\n",
    "mu4h2 %>% summary()"
   ]
  },
  {
   "cell_type": "code",
   "execution_count": 213,
   "metadata": {
    "cell_style": "center",
    "collapsed": true,
    "hidden": true
   },
   "outputs": [
    {
     "name": "stdout",
     "output_type": "stream",
     "text": [
      "[ 1000 / 10000 ]\r",
      "[ 2000 / 10000 ]\r",
      "[ 3000 / 10000 ]\r",
      "[ 4000 / 10000 ]\r",
      "[ 5000 / 10000 ]\r",
      "[ 6000 / 10000 ]\r",
      "[ 7000 / 10000 ]\r",
      "[ 8000 / 10000 ]\r",
      "[ 9000 / 10000 ]\r",
      "[ 10000 / 10000 ]\r\n"
     ]
    },
    {
     "data": {
      "image/png": "[encoded data removed]",
      "text/plain": [
       "plot without title"
      ]
     },
     "metadata": {},
     "output_type": "display_data"
    }
   ],
   "source": [
    "mu4h2.mean <- apply(mu4h2, 2, mean)\n",
    "mu4h2.hpdi <- apply(mu4h2, 2, HPDI)\n",
    "\n",
    "sim4h2 <- sim(m4h2, data=list(weight=weight.seq), n=1e4)\n",
    "points4h2.hpdi <- apply(sim4h2, 2, HPDI)\n",
    "\n",
    "plot(height~weight, d2, col=col.alpha(\"red\",0.9))\n",
    "lines( weight.seq , mu4h2.mean )\n",
    "shade(mu4h2.hpdi, weight.seq)\n",
    "shade(points4h2.hpdi, weight.seq, col = col.alpha(\"green\",0.15))"
   ]
  },
  {
   "cell_type": "code",
   "execution_count": null,
   "metadata": {
    "hidden": true
   },
   "outputs": [],
   "source": [
    "# same stuff calculated manually\n",
    "post4h2.params <- data.frame( mvrnorm(n=1e4, mu=coef(m4h2), Sigma=vcov(m4h2)) )\n",
    "head(post4h2.params)\n",
    "mu4h2.mean.man <- sapply(weight.seq, function(w) mean(post4h2.params$a + post4h2.params$b*w))\n",
    "mu4h2.hpdi.man <- sapply(weight.seq, function(w) HPDI(post4h2.params$a + post4h2.params$b*w))\n",
    "\n",
    "height.link <- function(w){\n",
    "  # generates sample for the given height\n",
    "  rnorm(n = nrow(post4h2.params), \n",
    "        mean = post4h2.params$a + post4h2.params$b*w,\n",
    "        sd = post4h2.params$sigma)\n",
    "} \n",
    "sim4h2.man <- sapply(weight.seq, height.link)\n",
    "points4h2.hpdi.man <- apply(sim4h2.man, 2, HPDI)\n",
    "\n",
    "plot(height~weight, d2, col=col.alpha(\"red\",0.9))\n",
    "lines( weight.seq , mu4h2.mean.man )\n",
    "shade(mu4h2.hpdi.man, weight.seq)\n",
    "shade(points4h2.hpdi.man, weight.seq, col = col.alpha(\"blue\",0.15))"
   ]
  },
  {
   "cell_type": "markdown",
   "metadata": {
    "heading_collapsed": true,
    "hidden": true
   },
   "source": [
    "##### 4H3"
   ]
  },
  {
   "cell_type": "markdown",
   "metadata": {
    "hidden": true
   },
   "source": [
    "<img src='pics/SR_h34.png' alt='Drawing' style='width:425pt'/>"
   ]
  },
  {
   "cell_type": "code",
   "execution_count": 223,
   "metadata": {
    "hidden": true
   },
   "outputs": [],
   "source": [
    "library(rethinking) \n",
    "data(Howell1)\n",
    "d <- Howell1"
   ]
  },
  {
   "cell_type": "code",
   "execution_count": 224,
   "metadata": {
    "hidden": true
   },
   "outputs": [],
   "source": [
    "mlw <- map(\n",
    "    alist(\n",
    "        height ~ dnorm( mean=mu , sd=sigma ) ,\n",
    "        mu <- a + b*log(weight) ,\n",
    "        a ~ dnorm( 138 , 100 ) ,\n",
    "        b ~ dnorm( 0 , 100 ) ,\n",
    "        sigma ~ dunif( 0 , 50 )\n",
    "    ) ,\n",
    "    data=d )"
   ]
  },
  {
   "cell_type": "code",
   "execution_count": 226,
   "metadata": {
    "hidden": true,
    "scrolled": true
   },
   "outputs": [
    {
     "data": {
      "text/plain": [
       "        Mean StdDev   5.5%  94.5%\n",
       "a     -23.79   1.34 -25.93 -21.66\n",
       "b      47.08   0.38  46.47  47.69\n",
       "sigma   5.13   0.16   4.89   5.38"
      ]
     },
     "metadata": {},
     "output_type": "display_data"
    }
   ],
   "source": [
    "precis(mlw)"
   ]
  },
  {
   "cell_type": "markdown",
   "metadata": {
    "hidden": true
   },
   "source": [
    "Pretty hard to know what to make of these estimates, aside from the fact that the confidence intervals are quite narrow, owing to there being 544 rows. <font color = 'green'>**The estimate for b (β) is hard to understand, because it refers to log-kg, not raw kg. It means that for every increase of 1 log-kg of weight, you expect a increase of 47 cm of height. But what’s a log-kg? You want to know what the model predicts on the natural scale of measurement.**</font> So now to plotting..."
   ]
  },
  {
   "cell_type": "markdown",
   "metadata": {
    "hidden": true
   },
   "source": [
    "(b) Begin by sampling from the naive posterior and computing the confidence intervals as per the examples in the book. Again, I’ll not use the convenience functions, but it’s fine if you did."
   ]
  },
  {
   "cell_type": "code",
   "execution_count": 228,
   "metadata": {
    "hidden": true
   },
   "outputs": [],
   "source": [
    "post <- extract.samples(mlw)\n",
    "lw.seq <- seq(from=1.4,to=4.2,length.out=50)\n",
    "mu <- sapply( lw.seq , function(z) mean( post$a+post$b*z ) )\n",
    "mu.ci <- sapply( lw.seq , function(z) HPDI( post$a+post$b*z ) )\n",
    "h.ci <- sapply( lw.seq , function(z) HPDI( rnorm(10000,post$a+post$b*z,post$sigma) ) )"
   ]
  },
  {
   "cell_type": "markdown",
   "metadata": {
    "hidden": true
   },
   "source": [
    "Now you have lists of numbers that can be plotted to produce the confidence curves. But how to translate back to the non-log scale of measurement on the horizontal axis? Just exponentiate the x-axis coordinates in lw.seq, and the job is done:"
   ]
  },
  {
   "cell_type": "code",
   "execution_count": 233,
   "metadata": {
    "hidden": true
   },
   "outputs": [
    {
     "data": {
      "image/png": "[encoded data removed]",
      "text/plain": [
       "plot without title"
      ]
     },
     "metadata": {},
     "output_type": "display_data"
    }
   ],
   "source": [
    "plot( height ~ weight , data=d , col=col.alpha(\"slateblue\",0.4) )\n",
    "lines( exp(lw.seq) , mu )\n",
    "lines( exp(lw.seq) , mu.ci[1,] , lty=2 )\n",
    "lines( exp(lw.seq) , mu.ci[2,] , lty=2 )\n",
    "lines( exp(lw.seq) , h.ci[1,] , lty=2 )\n",
    "lines( exp(lw.seq) , h.ci[2,] , lty=2 )"
   ]
  },
  {
   "cell_type": "markdown",
   "metadata": {
    "hidden": true
   },
   "source": [
    "The model may have been linear, but plotted on the raw scale of measurement, it is clearly non-linear. \n",
    "* Not only is the trend for the mean curved, but the variance around the mean is not constant, on this scale. Instead, the variance around the mean increases with weight. \n",
    "\n",
    "* On the scale you fit the model on, the variance was assumed to be constant. But once you transform the measurement scale, it usually won’t be.\n",
    "\n",
    "Notice also that the estimate for the mean is so precise that you can hardly even see the confidence interval for it. Don’t get too confident about such results, though. Remember, all inferences of the model are conditional on the model. Even estimated trends that do a terrible job of prediction can have tight confidence intervals, when the data set is large."
   ]
  },
  {
   "cell_type": "markdown",
   "metadata": {},
   "source": [
    "# Misc"
   ]
  },
  {
   "cell_type": "markdown",
   "metadata": {
    "heading_collapsed": true
   },
   "source": [
    "## Log Normal Distribution"
   ]
  },
  {
   "cell_type": "markdown",
   "metadata": {
    "hidden": true
   },
   "source": [
    "##### Log Normal Probability Density Function (dlnorm Function)"
   ]
  },
  {
   "cell_type": "code",
   "execution_count": 8,
   "metadata": {
    "ExecuteTime": {
     "end_time": "2020-02-12T17:02:18.166671Z",
     "start_time": "2020-02-12T17:02:18.122Z"
    },
    "hidden": true
   },
   "outputs": [
    {
     "data": {
      "text/html": [
       "1001"
      ],
      "text/latex": [
       "1001"
      ],
      "text/markdown": [
       "1001"
      ],
      "text/plain": [
       "[1] 1001"
      ]
     },
     "metadata": {},
     "output_type": "display_data"
    }
   ],
   "source": [
    "# Specify x-values for dlnorm function\n",
    "x_dlnorm <- seq(0, 10, by = 0.01)   ; x_dlnorm %>% length()"
   ]
  },
  {
   "cell_type": "code",
   "execution_count": 9,
   "metadata": {
    "ExecuteTime": {
     "end_time": "2020-02-12T17:03:21.218425Z",
     "start_time": "2020-02-12T17:03:21.178Z"
    },
    "hidden": true
   },
   "outputs": [],
   "source": [
    "y_dlnorm <- dlnorm(x_dlnorm)     # Apply dlnorm function"
   ]
  },
  {
   "cell_type": "markdown",
   "metadata": {
    "hidden": true
   },
   "source": [
    "The previous R code stored the output of the dlnorm function in the data object y_dlnorm. We can now use the plot function to draw a graphic, representing the probability density function (PDF) of the log normal distribution:"
   ]
  },
  {
   "cell_type": "code",
   "execution_count": 10,
   "metadata": {
    "ExecuteTime": {
     "end_time": "2020-02-12T17:03:40.559066Z",
     "start_time": "2020-02-12T17:03:40.383Z"
    },
    "collapsed": true,
    "hidden": true
   },
   "outputs": [
    {
     "data": {
      "image/png": "[encoded data removed]",
      "text/plain": [
       "plot without title"
      ]
     },
     "metadata": {
      "image/png": {
       "height": 420,
       "width": 420
      }
     },
     "output_type": "display_data"
    }
   ],
   "source": [
    "plot(y_dlnorm)  # Plot dlnorm values"
   ]
  },
  {
   "cell_type": "markdown",
   "metadata": {
    "heading_collapsed": true
   },
   "source": [
    "## Overthinking: Matrix multiplication in the spline model."
   ]
  },
  {
   "cell_type": "markdown",
   "metadata": {
    "hidden": true
   },
   "source": [
    "To make model m4.7 easier to program, we used a matrix multiplication of the basis matrix B by the vector of parameters ```w: B %*% w```. \n",
    "\n",
    "This notation is just linear algebra shorthand for \n",
    "\n",
    "(1) multiplying each element of the vector w by each value in the corresponding column of B and then \n",
    "\n",
    "(2) summing up each row of the result. \n",
    "\n",
    "You could also fit the same model with the following less-elegant code:"
   ]
  },
  {
   "cell_type": "code",
   "execution_count": 111,
   "metadata": {
    "ExecuteTime": {
     "end_time": "2020-01-23T07:00:13.723575Z",
     "start_time": "2020-01-23T06:58:22.869Z"
    },
    "hidden": true
   },
   "outputs": [
    {
     "name": "stderr",
     "output_type": "stream",
     "text": [
      "Caution, model may not have converged.\n",
      "\n",
      "Code 1: Maximum iterations reached.\n",
      "\n"
     ]
    }
   ],
   "source": [
    "## R code 4.79\n",
    "m4.7alt <- quap(\n",
    "    alist(\n",
    "        T ~ dnorm( mu , sigma ) ,\n",
    "        mu <- a + sapply( 1:1124 , function(i) sum( B[i,]*w ) ) ,\n",
    "        a ~ dnorm(6,10),\n",
    "        w ~ dnorm(0,1),\n",
    "        sigma ~ dexp(1)\n",
    "    ),\n",
    "    data=list( T=d2$temp , B=B ) ,\n",
    "    start=list( w=rep( 0 , ncol(B) ) ) )"
   ]
  },
  {
   "cell_type": "markdown",
   "metadata": {
    "hidden": true
   },
   "source": [
    "So you end up with exactly what you need: A sum linear predictor for each year (row). If you haven’t worked with much linear algebra, matrix notation can be intimidating. It is useful to remember that it is nothing more than the mathematics you already know, but expressed in a highly compressed form that is convenient when working with repeated calculations on lists of numbers."
   ]
  },
  {
   "cell_type": "markdown",
   "metadata": {},
   "source": [
    "## apply vs lapply vs sapply"
   ]
  },
  {
   "cell_type": "markdown",
   "metadata": {},
   "source": [
    "he Apply family comprises: apply, lapply , sapply, vapply, mapply, rapply, and tapply. The Family of Apply functions pertains to the R base package, and is populated with functions to manipulate slices of data from matrices, arrays, lists and data frames in a repetitive way. <font color = 'blue'>Apply Function in R are designed to avoid explicit use of loop constructs</font>. They act on an input list, matrix or array, and apply a named function with one or several optional arguments."
   ]
  },
  {
   "cell_type": "markdown",
   "metadata": {},
   "source": [
    "http://www.datasciencemadesimple.com/apply-function-r/"
   ]
  },
  {
   "cell_type": "markdown",
   "metadata": {
    "heading_collapsed": true
   },
   "source": [
    "###### 1. Apply"
   ]
  },
  {
   "cell_type": "markdown",
   "metadata": {
    "hidden": true
   },
   "source": [
    "Returns a vector or array or list of values obtained by applying a function to margins of an array or matrix. (<font color = 'blue'>used for functions which reduce rows or columns to 1 summary value</font>)\n",
    "\n",
    "Syntax for Apply function in R:  \n",
    "```Apply(x,1,sum)```\n",
    "* Where the first Argument X is a data frame or matrix\n",
    "* Second argument 1 indicated Processing along rows .if it is 2 then it indicated processing along the columns\n",
    "* Third Argument is some aggregate function like sum, mean etc or some other user defined functions."
   ]
  },
  {
   "cell_type": "code",
   "execution_count": 126,
   "metadata": {
    "ExecuteTime": {
     "end_time": "2020-01-21T06:21:33.215768Z",
     "start_time": "2020-01-21T06:21:33.116Z"
    },
    "hidden": true,
    "scrolled": true
   },
   "outputs": [
    {
     "data": {
      "text/html": [
       "<table>\n",
       "<caption>A data.frame: 6 × 3</caption>\n",
       "<thead>\n",
       "\t<tr><th scope=col>Age</th><th scope=col>Weight</th><th scope=col>Height</th></tr>\n",
       "\t<tr><th scope=col>&lt;dbl&gt;</th><th scope=col>&lt;dbl&gt;</th><th scope=col>&lt;dbl&gt;</th></tr>\n",
       "</thead>\n",
       "<tbody>\n",
       "\t<tr><td>56</td><td>78</td><td>165</td></tr>\n",
       "\t<tr><td>34</td><td>67</td><td>171</td></tr>\n",
       "\t<tr><td>67</td><td>56</td><td>167</td></tr>\n",
       "\t<tr><td>33</td><td>44</td><td>167</td></tr>\n",
       "\t<tr><td>25</td><td>56</td><td>166</td></tr>\n",
       "\t<tr><td>28</td><td>89</td><td>181</td></tr>\n",
       "</tbody>\n",
       "</table>\n"
      ],
      "text/latex": [
       "A data.frame: 6 × 3\n",
       "\\begin{tabular}{r|lll}\n",
       " Age & Weight & Height\\\\\n",
       " <dbl> & <dbl> & <dbl>\\\\\n",
       "\\hline\n",
       "\t 56 & 78 & 165\\\\\n",
       "\t 34 & 67 & 171\\\\\n",
       "\t 67 & 56 & 167\\\\\n",
       "\t 33 & 44 & 167\\\\\n",
       "\t 25 & 56 & 166\\\\\n",
       "\t 28 & 89 & 181\\\\\n",
       "\\end{tabular}\n"
      ],
      "text/markdown": [
       "\n",
       "A data.frame: 6 × 3\n",
       "\n",
       "| Age &lt;dbl&gt; | Weight &lt;dbl&gt; | Height &lt;dbl&gt; |\n",
       "|---|---|---|\n",
       "| 56 | 78 | 165 |\n",
       "| 34 | 67 | 171 |\n",
       "| 67 | 56 | 167 |\n",
       "| 33 | 44 | 167 |\n",
       "| 25 | 56 | 166 |\n",
       "| 28 | 89 | 181 |\n",
       "\n"
      ],
      "text/plain": [
       "  Age Weight Height\n",
       "1 56  78     165   \n",
       "2 34  67     171   \n",
       "3 67  56     167   \n",
       "4 33  44     167   \n",
       "5 25  56     166   \n",
       "6 28  89     181   "
      ]
     },
     "metadata": {},
     "output_type": "display_data"
    }
   ],
   "source": [
    "# Example 1: Apply function in R:\n",
    "# Create data frame:\n",
    "\n",
    "Age    <- c(56,34,67,33,25,28)\n",
    "Weight <- c(78,67,56,44,56,89)\n",
    "Height <- c(165, 171,167,167,166,181)\n",
    " \n",
    "BMI_df <- data.frame(Age,Weight,Height)\n",
    "BMI_df "
   ]
  },
  {
   "cell_type": "code",
   "execution_count": 130,
   "metadata": {
    "ExecuteTime": {
     "end_time": "2020-01-21T06:22:37.619467Z",
     "start_time": "2020-01-21T06:22:37.542Z"
    },
    "hidden": true,
    "scrolled": true
   },
   "outputs": [
    {
     "data": {
      "text/html": [
       "<ol class=list-inline>\n",
       "\t<li>299</li>\n",
       "\t<li>272</li>\n",
       "\t<li>290</li>\n",
       "\t<li>244</li>\n",
       "\t<li>247</li>\n",
       "\t<li>298</li>\n",
       "</ol>\n"
      ],
      "text/latex": [
       "\\begin{enumerate*}\n",
       "\\item 299\n",
       "\\item 272\n",
       "\\item 290\n",
       "\\item 244\n",
       "\\item 247\n",
       "\\item 298\n",
       "\\end{enumerate*}\n"
      ],
      "text/markdown": [
       "1. 299\n",
       "2. 272\n",
       "3. 290\n",
       "4. 244\n",
       "5. 247\n",
       "6. 298\n",
       "\n",
       "\n"
      ],
      "text/plain": [
       "[1] 299 272 290 244 247 298"
      ]
     },
     "metadata": {},
     "output_type": "display_data"
    },
    {
     "data": {
      "text/html": [
       "<dl class=dl-horizontal>\n",
       "\t<dt>Age</dt>\n",
       "\t\t<dd>243</dd>\n",
       "\t<dt>Weight</dt>\n",
       "\t\t<dd>390</dd>\n",
       "\t<dt>Height</dt>\n",
       "\t\t<dd>1017</dd>\n",
       "</dl>\n"
      ],
      "text/latex": [
       "\\begin{description*}\n",
       "\\item[Age] 243\n",
       "\\item[Weight] 390\n",
       "\\item[Height] 1017\n",
       "\\end{description*}\n"
      ],
      "text/markdown": [
       "Age\n",
       ":   243Weight\n",
       ":   390Height\n",
       ":   1017\n",
       "\n"
      ],
      "text/plain": [
       "   Age Weight Height \n",
       "   243    390   1017 "
      ]
     },
     "metadata": {},
     "output_type": "display_data"
    },
    {
     "data": {
      "text/html": [
       "<dl class=dl-horizontal>\n",
       "\t<dt>Age</dt>\n",
       "\t\t<dd>40.5</dd>\n",
       "\t<dt>Weight</dt>\n",
       "\t\t<dd>65</dd>\n",
       "\t<dt>Height</dt>\n",
       "\t\t<dd>169.5</dd>\n",
       "</dl>\n"
      ],
      "text/latex": [
       "\\begin{description*}\n",
       "\\item[Age] 40.5\n",
       "\\item[Weight] 65\n",
       "\\item[Height] 169.5\n",
       "\\end{description*}\n"
      ],
      "text/markdown": [
       "Age\n",
       ":   40.5Weight\n",
       ":   65Height\n",
       ":   169.5\n",
       "\n"
      ],
      "text/plain": [
       "   Age Weight Height \n",
       "  40.5   65.0  169.5 "
      ]
     },
     "metadata": {},
     "output_type": "display_data"
    }
   ],
   "source": [
    "# row wise sum up of dataframe using apply function in R\n",
    "apply(BMI_df,1,sum)\n",
    "\n",
    "# column wise sum up of dataframe using apply function in R\n",
    "apply(BMI_df,2,sum)\n",
    "\n",
    "# column wise mean of dataframe using apply function in R\n",
    "apply(BMI_df,2,mean)"
   ]
  },
  {
   "cell_type": "markdown",
   "metadata": {
    "heading_collapsed": true
   },
   "source": [
    "###### 2. lapply"
   ]
  },
  {
   "cell_type": "markdown",
   "metadata": {
    "hidden": true
   },
   "source": [
    "lapply function takes list, vector or Data frame as input and returns only list as output."
   ]
  },
  {
   "cell_type": "code",
   "execution_count": 131,
   "metadata": {
    "ExecuteTime": {
     "end_time": "2020-01-21T06:23:16.297849Z",
     "start_time": "2020-01-21T06:23:16.237Z"
    },
    "hidden": true
   },
   "outputs": [
    {
     "data": {
      "text/html": [
       "<dl>\n",
       "\t<dt>$Age</dt>\n",
       "\t\t<dd><ol class=list-inline>\n",
       "\t<li>28</li>\n",
       "\t<li>17</li>\n",
       "\t<li>33.5</li>\n",
       "\t<li>16.5</li>\n",
       "\t<li>12.5</li>\n",
       "\t<li>14</li>\n",
       "</ol>\n",
       "</dd>\n",
       "\t<dt>$Weight</dt>\n",
       "\t\t<dd><ol class=list-inline>\n",
       "\t<li>39</li>\n",
       "\t<li>33.5</li>\n",
       "\t<li>28</li>\n",
       "\t<li>22</li>\n",
       "\t<li>28</li>\n",
       "\t<li>44.5</li>\n",
       "</ol>\n",
       "</dd>\n",
       "\t<dt>$Height</dt>\n",
       "\t\t<dd><ol class=list-inline>\n",
       "\t<li>82.5</li>\n",
       "\t<li>85.5</li>\n",
       "\t<li>83.5</li>\n",
       "\t<li>83.5</li>\n",
       "\t<li>83</li>\n",
       "\t<li>90.5</li>\n",
       "</ol>\n",
       "</dd>\n",
       "</dl>\n"
      ],
      "text/latex": [
       "\\begin{description}\n",
       "\\item[\\$Age] \\begin{enumerate*}\n",
       "\\item 28\n",
       "\\item 17\n",
       "\\item 33.5\n",
       "\\item 16.5\n",
       "\\item 12.5\n",
       "\\item 14\n",
       "\\end{enumerate*}\n",
       "\n",
       "\\item[\\$Weight] \\begin{enumerate*}\n",
       "\\item 39\n",
       "\\item 33.5\n",
       "\\item 28\n",
       "\\item 22\n",
       "\\item 28\n",
       "\\item 44.5\n",
       "\\end{enumerate*}\n",
       "\n",
       "\\item[\\$Height] \\begin{enumerate*}\n",
       "\\item 82.5\n",
       "\\item 85.5\n",
       "\\item 83.5\n",
       "\\item 83.5\n",
       "\\item 83\n",
       "\\item 90.5\n",
       "\\end{enumerate*}\n",
       "\n",
       "\\end{description}\n"
      ],
      "text/markdown": [
       "$Age\n",
       ":   1. 28\n",
       "2. 17\n",
       "3. 33.5\n",
       "4. 16.5\n",
       "5. 12.5\n",
       "6. 14\n",
       "\n",
       "\n",
       "\n",
       "$Weight\n",
       ":   1. 39\n",
       "2. 33.5\n",
       "3. 28\n",
       "4. 22\n",
       "5. 28\n",
       "6. 44.5\n",
       "\n",
       "\n",
       "\n",
       "$Height\n",
       ":   1. 82.5\n",
       "2. 85.5\n",
       "3. 83.5\n",
       "4. 83.5\n",
       "5. 83\n",
       "6. 90.5\n",
       "\n",
       "\n",
       "\n",
       "\n",
       "\n"
      ],
      "text/plain": [
       "$Age\n",
       "[1] 28.0 17.0 33.5 16.5 12.5 14.0\n",
       "\n",
       "$Weight\n",
       "[1] 39.0 33.5 28.0 22.0 28.0 44.5\n",
       "\n",
       "$Height\n",
       "[1] 82.5 85.5 83.5 83.5 83.0 90.5\n"
      ]
     },
     "metadata": {},
     "output_type": "display_data"
    }
   ],
   "source": [
    "lapply(BMI_df, function(BMI_df) BMI_df/2)\n",
    "       \n",
    "# the above lapply function divides the values in the dataframe by 2 and the\n",
    "# output will be in form of list"
   ]
  },
  {
   "cell_type": "code",
   "execution_count": 134,
   "metadata": {
    "ExecuteTime": {
     "end_time": "2020-01-21T06:24:59.438026Z",
     "start_time": "2020-01-21T06:24:59.383Z"
    },
    "hidden": true
   },
   "outputs": [
    {
     "name": "stdout",
     "output_type": "stream",
     "text": [
      "List of 3\n",
      " $ Age   : num 40.5\n",
      " $ Weight: num 65\n",
      " $ Height: num 170\n"
     ]
    }
   ],
   "source": [
    "# lapply function in R\n",
    "lapply(BMI_df, mean) %>% str\n",
    "# the above lapply function applies mean function to the columns\n",
    "# of the dataframe and the output will be in the form of list  \n",
    "\n"
   ]
  },
  {
   "cell_type": "markdown",
   "metadata": {
    "heading_collapsed": true
   },
   "source": [
    "###### 3. Sapply"
   ]
  },
  {
   "cell_type": "code",
   "execution_count": 126,
   "metadata": {
    "ExecuteTime": {
     "end_time": "2020-01-21T06:21:33.215768Z",
     "start_time": "2020-01-21T06:21:33.116Z"
    },
    "code_folding": [
     0
    ],
    "hidden": true
   },
   "outputs": [
    {
     "data": {
      "text/html": [
       "<table>\n",
       "<caption>A data.frame: 6 × 3</caption>\n",
       "<thead>\n",
       "\t<tr><th scope=col>Age</th><th scope=col>Weight</th><th scope=col>Height</th></tr>\n",
       "\t<tr><th scope=col>&lt;dbl&gt;</th><th scope=col>&lt;dbl&gt;</th><th scope=col>&lt;dbl&gt;</th></tr>\n",
       "</thead>\n",
       "<tbody>\n",
       "\t<tr><td>56</td><td>78</td><td>165</td></tr>\n",
       "\t<tr><td>34</td><td>67</td><td>171</td></tr>\n",
       "\t<tr><td>67</td><td>56</td><td>167</td></tr>\n",
       "\t<tr><td>33</td><td>44</td><td>167</td></tr>\n",
       "\t<tr><td>25</td><td>56</td><td>166</td></tr>\n",
       "\t<tr><td>28</td><td>89</td><td>181</td></tr>\n",
       "</tbody>\n",
       "</table>\n"
      ],
      "text/latex": [
       "A data.frame: 6 × 3\n",
       "\\begin{tabular}{r|lll}\n",
       " Age & Weight & Height\\\\\n",
       " <dbl> & <dbl> & <dbl>\\\\\n",
       "\\hline\n",
       "\t 56 & 78 & 165\\\\\n",
       "\t 34 & 67 & 171\\\\\n",
       "\t 67 & 56 & 167\\\\\n",
       "\t 33 & 44 & 167\\\\\n",
       "\t 25 & 56 & 166\\\\\n",
       "\t 28 & 89 & 181\\\\\n",
       "\\end{tabular}\n"
      ],
      "text/markdown": [
       "\n",
       "A data.frame: 6 × 3\n",
       "\n",
       "| Age &lt;dbl&gt; | Weight &lt;dbl&gt; | Height &lt;dbl&gt; |\n",
       "|---|---|---|\n",
       "| 56 | 78 | 165 |\n",
       "| 34 | 67 | 171 |\n",
       "| 67 | 56 | 167 |\n",
       "| 33 | 44 | 167 |\n",
       "| 25 | 56 | 166 |\n",
       "| 28 | 89 | 181 |\n",
       "\n"
      ],
      "text/plain": [
       "  Age Weight Height\n",
       "1 56  78     165   \n",
       "2 34  67     171   \n",
       "3 67  56     167   \n",
       "4 33  44     167   \n",
       "5 25  56     166   \n",
       "6 28  89     181   "
      ]
     },
     "metadata": {},
     "output_type": "display_data"
    }
   ],
   "source": [
    "# Create toy data frame:\n",
    "\n",
    "Age    <- c(56,34,67,33,25,28)\n",
    "Weight <- c(78,67,56,44,56,89)\n",
    "Height <- c(165, 171,167,167,166,181)\n",
    " \n",
    "BMI_df <- data.frame(Age,Weight,Height)\n",
    "BMI_df "
   ]
  },
  {
   "cell_type": "markdown",
   "metadata": {
    "hidden": true
   },
   "source": [
    "sapply function takes list, vector or Data frame as input. It is similar to lapply function but <font color = 'blue'>returns only vector as output</font>.\n",
    "\n"
   ]
  },
  {
   "cell_type": "code",
   "execution_count": 138,
   "metadata": {
    "ExecuteTime": {
     "end_time": "2020-01-21T06:28:05.827602Z",
     "start_time": "2020-01-21T06:28:05.778Z"
    },
    "hidden": true
   },
   "outputs": [
    {
     "data": {
      "text/html": [
       "<table>\n",
       "<caption>A matrix: 6 × 3 of type dbl</caption>\n",
       "<thead>\n",
       "\t<tr><th scope=col>Age</th><th scope=col>Weight</th><th scope=col>Height</th></tr>\n",
       "</thead>\n",
       "<tbody>\n",
       "\t<tr><td>28.0</td><td>39.0</td><td>82.5</td></tr>\n",
       "\t<tr><td>17.0</td><td>33.5</td><td>85.5</td></tr>\n",
       "\t<tr><td>33.5</td><td>28.0</td><td>83.5</td></tr>\n",
       "\t<tr><td>16.5</td><td>22.0</td><td>83.5</td></tr>\n",
       "\t<tr><td>12.5</td><td>28.0</td><td>83.0</td></tr>\n",
       "\t<tr><td>14.0</td><td>44.5</td><td>90.5</td></tr>\n",
       "</tbody>\n",
       "</table>\n"
      ],
      "text/latex": [
       "A matrix: 6 × 3 of type dbl\n",
       "\\begin{tabular}{lll}\n",
       " Age & Weight & Height\\\\\n",
       "\\hline\n",
       "\t 28.0 & 39.0 & 82.5\\\\\n",
       "\t 17.0 & 33.5 & 85.5\\\\\n",
       "\t 33.5 & 28.0 & 83.5\\\\\n",
       "\t 16.5 & 22.0 & 83.5\\\\\n",
       "\t 12.5 & 28.0 & 83.0\\\\\n",
       "\t 14.0 & 44.5 & 90.5\\\\\n",
       "\\end{tabular}\n"
      ],
      "text/markdown": [
       "\n",
       "A matrix: 6 × 3 of type dbl\n",
       "\n",
       "| Age | Weight | Height |\n",
       "|---|---|---|\n",
       "| 28.0 | 39.0 | 82.5 |\n",
       "| 17.0 | 33.5 | 85.5 |\n",
       "| 33.5 | 28.0 | 83.5 |\n",
       "| 16.5 | 22.0 | 83.5 |\n",
       "| 12.5 | 28.0 | 83.0 |\n",
       "| 14.0 | 44.5 | 90.5 |\n",
       "\n"
      ],
      "text/plain": [
       "     Age  Weight Height\n",
       "[1,] 28.0 39.0   82.5  \n",
       "[2,] 17.0 33.5   85.5  \n",
       "[3,] 33.5 28.0   83.5  \n",
       "[4,] 16.5 22.0   83.5  \n",
       "[5,] 12.5 28.0   83.0  \n",
       "[6,] 14.0 44.5   90.5  "
      ]
     },
     "metadata": {},
     "output_type": "display_data"
    }
   ],
   "source": [
    "# divides the values in the dataframe by 2 and the\n",
    "# output will be in form of vector\n",
    "sapply(BMI_df, function(BMI_df) BMI_df/2)       "
   ]
  },
  {
   "cell_type": "code",
   "execution_count": 139,
   "metadata": {
    "ExecuteTime": {
     "end_time": "2020-01-21T06:28:07.841924Z",
     "start_time": "2020-01-21T06:28:07.795Z"
    },
    "hidden": true
   },
   "outputs": [
    {
     "data": {
      "text/html": [
       "<dl class=dl-horizontal>\n",
       "\t<dt>Age</dt>\n",
       "\t\t<dd>40.5</dd>\n",
       "\t<dt>Weight</dt>\n",
       "\t\t<dd>65</dd>\n",
       "\t<dt>Height</dt>\n",
       "\t\t<dd>169.5</dd>\n",
       "</dl>\n"
      ],
      "text/latex": [
       "\\begin{description*}\n",
       "\\item[Age] 40.5\n",
       "\\item[Weight] 65\n",
       "\\item[Height] 169.5\n",
       "\\end{description*}\n"
      ],
      "text/markdown": [
       "Age\n",
       ":   40.5Weight\n",
       ":   65Height\n",
       ":   169.5\n",
       "\n"
      ],
      "text/plain": [
       "   Age Weight Height \n",
       "  40.5   65.0  169.5 "
      ]
     },
     "metadata": {},
     "output_type": "display_data"
    }
   ],
   "source": [
    "# applies mean function to the columns of the dataframe \n",
    "# and the output will be in the form of vector  \n",
    "sapply(BMI_df, mean)"
   ]
  },
  {
   "cell_type": "code",
   "execution_count": 145,
   "metadata": {
    "ExecuteTime": {
     "end_time": "2020-01-21T06:30:56.652257Z",
     "start_time": "2020-01-21T06:30:56.600Z"
    },
    "hidden": true
   },
   "outputs": [
    {
     "data": {
      "text/html": [
       "<dl class=dl-horizontal>\n",
       "\t<dt>This</dt>\n",
       "\t\t<dd>4</dd>\n",
       "\t<dt>is</dt>\n",
       "\t\t<dd>2</dd>\n",
       "\t<dt>random</dt>\n",
       "\t\t<dd>6</dd>\n",
       "\t<dt>vector</dt>\n",
       "\t\t<dd>6</dd>\n",
       "</dl>\n"
      ],
      "text/latex": [
       "\\begin{description*}\n",
       "\\item[This] 4\n",
       "\\item[is] 2\n",
       "\\item[random] 6\n",
       "\\item[vector] 6\n",
       "\\end{description*}\n"
      ],
      "text/markdown": [
       "This\n",
       ":   4is\n",
       ":   2random\n",
       ":   6vector\n",
       ":   6\n",
       "\n"
      ],
      "text/plain": [
       "  This     is random vector \n",
       "     4      2      6      6 "
      ]
     },
     "metadata": {},
     "output_type": "display_data"
    }
   ],
   "source": [
    "# applies nchar function and the output will be\n",
    "random <- c(\"This\", \"is\",\"random\",\"vector\")\n",
    "sapply(random, nchar) # nchar -> function that counts characters in a vector"
   ]
  },
  {
   "cell_type": "markdown",
   "metadata": {},
   "source": [
    "##### 4. Mapply"
   ]
  },
  {
   "cell_type": "markdown",
   "metadata": {},
   "source": [
    "mapply is a multivariate version of sapply. mapply applies FUN to the first elements of each (…) argument, the second elements, the third elements, and so on."
   ]
  },
  {
   "cell_type": "code",
   "execution_count": 2,
   "metadata": {
    "ExecuteTime": {
     "end_time": "2020-02-15T05:53:41.328238Z",
     "start_time": "2020-02-15T05:53:41.240Z"
    },
    "collapsed": true
   },
   "outputs": [
    {
     "data": {
      "text/html": [
       "<ol>\n",
       "\t<li>4</li>\n",
       "\t<li><style>\n",
       ".list-inline {list-style: none; margin:0; padding: 0}\n",
       ".list-inline>li {display: inline-block}\n",
       ".list-inline>li:not(:last-child)::after {content: \"\\00b7\"; padding: 0 .5ex}\n",
       "</style>\n",
       "<ol class=list-inline><li>3</li><li>3</li></ol>\n",
       "</li>\n",
       "\t<li><style>\n",
       ".list-inline {list-style: none; margin:0; padding: 0}\n",
       ".list-inline>li {display: inline-block}\n",
       ".list-inline>li:not(:last-child)::after {content: \"\\00b7\"; padding: 0 .5ex}\n",
       "</style>\n",
       "<ol class=list-inline><li>2</li><li>2</li><li>2</li></ol>\n",
       "</li>\n",
       "\t<li><style>\n",
       ".list-inline {list-style: none; margin:0; padding: 0}\n",
       ".list-inline>li {display: inline-block}\n",
       ".list-inline>li:not(:last-child)::after {content: \"\\00b7\"; padding: 0 .5ex}\n",
       "</style>\n",
       "<ol class=list-inline><li>1</li><li>1</li><li>1</li><li>1</li></ol>\n",
       "</li>\n",
       "</ol>\n"
      ],
      "text/latex": [
       "\\begin{enumerate}\n",
       "\\item 4\n",
       "\\item \\begin{enumerate*}\n",
       "\\item 3\n",
       "\\item 3\n",
       "\\end{enumerate*}\n",
       "\n",
       "\\item \\begin{enumerate*}\n",
       "\\item 2\n",
       "\\item 2\n",
       "\\item 2\n",
       "\\end{enumerate*}\n",
       "\n",
       "\\item \\begin{enumerate*}\n",
       "\\item 1\n",
       "\\item 1\n",
       "\\item 1\n",
       "\\item 1\n",
       "\\end{enumerate*}\n",
       "\n",
       "\\end{enumerate}\n"
      ],
      "text/markdown": [
       "1. 4\n",
       "2. 1. 3\n",
       "2. 3\n",
       "\n",
       "\n",
       "\n",
       "3. 1. 2\n",
       "2. 2\n",
       "3. 2\n",
       "\n",
       "\n",
       "\n",
       "4. 1. 1\n",
       "2. 1\n",
       "3. 1\n",
       "4. 1\n",
       "\n",
       "\n",
       "\n",
       "\n",
       "\n"
      ],
      "text/plain": [
       "[[1]]\n",
       "[1] 4\n",
       "\n",
       "[[2]]\n",
       "[1] 3 3\n",
       "\n",
       "[[3]]\n",
       "[1] 2 2 2\n",
       "\n",
       "[[4]]\n",
       "[1] 1 1 1 1\n"
      ]
     },
     "metadata": {},
     "output_type": "display_data"
    }
   ],
   "source": [
    "mapply(rep, times = 1:4, x = 4:1)"
   ]
  },
  {
   "cell_type": "code",
   "execution_count": 5,
   "metadata": {
    "ExecuteTime": {
     "end_time": "2020-02-15T05:54:31.637248Z",
     "start_time": "2020-02-15T05:54:31.562Z"
    },
    "collapsed": true
   },
   "outputs": [
    {
     "data": {
      "text/html": [
       "4"
      ],
      "text/latex": [
       "4"
      ],
      "text/markdown": [
       "4"
      ],
      "text/plain": [
       "[1] 4"
      ]
     },
     "metadata": {},
     "output_type": "display_data"
    },
    {
     "data": {
      "text/html": [
       "<style>\n",
       ".list-inline {list-style: none; margin:0; padding: 0}\n",
       ".list-inline>li {display: inline-block}\n",
       ".list-inline>li:not(:last-child)::after {content: \"\\00b7\"; padding: 0 .5ex}\n",
       "</style>\n",
       "<ol class=list-inline><li>3</li><li>3</li></ol>\n"
      ],
      "text/latex": [
       "\\begin{enumerate*}\n",
       "\\item 3\n",
       "\\item 3\n",
       "\\end{enumerate*}\n"
      ],
      "text/markdown": [
       "1. 3\n",
       "2. 3\n",
       "\n",
       "\n"
      ],
      "text/plain": [
       "[1] 3 3"
      ]
     },
     "metadata": {},
     "output_type": "display_data"
    },
    {
     "data": {
      "text/html": [
       "<style>\n",
       ".list-inline {list-style: none; margin:0; padding: 0}\n",
       ".list-inline>li {display: inline-block}\n",
       ".list-inline>li:not(:last-child)::after {content: \"\\00b7\"; padding: 0 .5ex}\n",
       "</style>\n",
       "<ol class=list-inline><li>2</li><li>2</li><li>2</li></ol>\n"
      ],
      "text/latex": [
       "\\begin{enumerate*}\n",
       "\\item 2\n",
       "\\item 2\n",
       "\\item 2\n",
       "\\end{enumerate*}\n"
      ],
      "text/markdown": [
       "1. 2\n",
       "2. 2\n",
       "3. 2\n",
       "\n",
       "\n"
      ],
      "text/plain": [
       "[1] 2 2 2"
      ]
     },
     "metadata": {},
     "output_type": "display_data"
    },
    {
     "data": {
      "text/html": [
       "<style>\n",
       ".list-inline {list-style: none; margin:0; padding: 0}\n",
       ".list-inline>li {display: inline-block}\n",
       ".list-inline>li:not(:last-child)::after {content: \"\\00b7\"; padding: 0 .5ex}\n",
       "</style>\n",
       "<ol class=list-inline><li>1</li><li>1</li><li>1</li><li>1</li></ol>\n"
      ],
      "text/latex": [
       "\\begin{enumerate*}\n",
       "\\item 1\n",
       "\\item 1\n",
       "\\item 1\n",
       "\\item 1\n",
       "\\end{enumerate*}\n"
      ],
      "text/markdown": [
       "1. 1\n",
       "2. 1\n",
       "3. 1\n",
       "4. 1\n",
       "\n",
       "\n"
      ],
      "text/plain": [
       "[1] 1 1 1 1"
      ]
     },
     "metadata": {},
     "output_type": "display_data"
    }
   ],
   "source": [
    "rep(times = 1, x = 4)\n",
    "rep(times = 2, x = 3)\n",
    "rep(times = 3, x = 2)\n",
    "rep(times = 4, x = 1)"
   ]
  },
  {
   "cell_type": "markdown",
   "metadata": {},
   "source": [
    "## <font color = 'green'>Overthinking: How LINK works</font>"
   ]
  },
  {
   "cell_type": "markdown",
   "metadata": {},
   "source": [
    "> <font color = 'green'>What link will do is take your quap approximation, sample from the posterior\n",
    "distribution, and then compute µ for each case in the data and sample from the posterior\n",
    "distribution. </font>"
   ]
  },
  {
   "cell_type": "markdown",
   "metadata": {},
   "source": [
    "The function link is not really very sophisticated. <font color = 'green'>All it is doing is <b>using the formula you provided when you fit the model to compute the value of the linear model. </b>\n",
    "</font>\n",
    "\n",
    "It does this for each sample from the posterior distribution, for each case in the data. You could accomplish the same thing for any model, fit by any means, by performing these steps yourself. This is how it’d look for m4.3."
   ]
  },
  {
   "cell_type": "markdown",
   "metadata": {},
   "source": [
    "<img src='pics/SR_d36.png' alt='Drawing' style='width:425pt'/>"
   ]
  },
  {
   "cell_type": "code",
   "execution_count": 33,
   "metadata": {
    "ExecuteTime": {
     "end_time": "2020-01-22T17:46:10.335189Z",
     "start_time": "2020-01-22T17:46:10.218Z"
    }
   },
   "outputs": [],
   "source": [
    "# exctract samples from the posterior of parameters\n",
    "post <- extract.samples(m4.3)\n",
    "\n",
    "# define linear model\n",
    "mu.link <- function(weight) post$a + post$b*( weight - xbar )\n",
    "\n",
    "# define sequence of predictor values (weight)\n",
    "weight.seq <- seq( from=25 , to=70 , by=1 )\n",
    "\n",
    "# For each predictor value, for each sample from the posterior\n",
    "# compute mu: a + b*(weight - bar)\n",
    "mu <- sapply( weight.seq , mu.link )\n",
    "# sapply takes the value in the first argument and it passes it \n",
    "# into the function in the second argument \n",
    "\n",
    "# s means simplified simplified apply it applies the \n",
    "# first thing to the second thing and then it simplifies the result\n",
    "# sapply simplifies the result which apply doesn't\n",
    "\n",
    "\n",
    "mu.mean <- apply( mu , 2 , mean )\n",
    "mu.CI <- apply( mu , 2 , PI , prob=0.89 )"
   ]
  },
  {
   "cell_type": "markdown",
   "metadata": {},
   "source": []
  },
  {
   "cell_type": "markdown",
   "metadata": {},
   "source": [
    "<font color = 'lightgrey'>And the values in mu.mean and mu.CI should be very similar (allowing for simulation variance) to what you got the automated way, using link. </font>\n",
    "\n",
    "Knowing this manual method is useful both for \n",
    "\n",
    "(1) understanding and \n",
    "\n",
    "(2) sheer power. \n",
    "\n",
    "Whatever the model you find yourself with, this approach can be used to generate posterior predictions for any component of it.\n",
    "\n",
    "Automated tools like link save effort, but they are never as flexible as the code you can write yourself."
   ]
  },
  {
   "cell_type": "code",
   "execution_count": 21,
   "metadata": {
    "ExecuteTime": {
     "start_time": "2020-01-19T09:31:12.579Z"
    },
    "code_folding": []
   },
   "outputs": [],
   "source": [
    "# alternate functional form\n",
    "post <- extract.samples(m4.3)\n",
    "mu.link <- function(weight) {\n",
    "    post$a + post$b*( weight - xbar ) # xbar <- mean(d2$weight)\n",
    "}\n",
    "weight.seq <- seq( from=25 , to=70 , by=1 )\n",
    "mu <- sapply( weight.seq , mu.link )\n",
    "mu.mean <- apply( mu , 2 , mean )\n",
    "mu.CI <- apply( mu , 2 , PI , prob=0.89 )"
   ]
  },
  {
   "cell_type": "code",
   "execution_count": 22,
   "metadata": {
    "ExecuteTime": {
     "end_time": "2020-01-19T09:49:26.876333Z",
     "start_time": "2020-01-19T09:49:26.818Z"
    }
   },
   "outputs": [
    {
     "data": {
      "text/html": [
       "<table>\n",
       "<caption>A matrix: 2 × 46 of type dbl</caption>\n",
       "<tbody>\n",
       "\t<tr><th scope=row>5%</th><td>135.1517</td><td>136.1201</td><td>137.0906</td><td>138.0554</td><td>139.0182</td><td>139.9771</td><td>140.9409</td><td>141.9026</td><td>142.8689</td><td>143.8282</td><td>...</td><td>167.8817</td><td>168.7219</td><td>169.5660</td><td>170.4039</td><td>171.2381</td><td>172.0771</td><td>172.9148</td><td>173.7551</td><td>174.5929</td><td>175.4288</td></tr>\n",
       "\t<tr><th scope=row>94%</th><td>137.9529</td><td>138.7898</td><td>139.6292</td><td>140.4711</td><td>141.3109</td><td>142.1483</td><td>142.9880</td><td>143.8322</td><td>144.6778</td><td>145.5241</td><td>...</td><td>170.2277</td><td>171.1940</td><td>172.1576</td><td>173.1267</td><td>174.0901</td><td>175.0574</td><td>176.0309</td><td>176.9971</td><td>177.9642</td><td>178.9301</td></tr>\n",
       "</tbody>\n",
       "</table>\n"
      ],
      "text/latex": [
       "A matrix: 2 × 46 of type dbl\n",
       "\\begin{tabular}{r|llllllllllllllllllllllllllllllllllllllllllllll}\n",
       "\t5\\% & 135.1517 & 136.1201 & 137.0906 & 138.0554 & 139.0182 & 139.9771 & 140.9409 & 141.9026 & 142.8689 & 143.8282 & 144.7892 & 145.7439 & 146.6980 & 147.6524 & 148.6026 & 149.5464 & 150.4871 & 151.4236 & 152.3528 & 153.2755 & 154.1822 & 155.0846 & 155.9740 & 156.8483 & 157.7164 & 158.5787 & 159.4330 & 160.2836 & 161.1377 & 161.9886 & 162.8356 & 163.6801 & 164.5226 & 165.3636 & 166.2009 & 167.0394 & 167.8817 & 168.7219 & 169.5660 & 170.4039 & 171.2381 & 172.0771 & 172.9148 & 173.7551 & 174.5929 & 175.4288\\\\\n",
       "\t94\\% & 137.9529 & 138.7898 & 139.6292 & 140.4711 & 141.3109 & 142.1483 & 142.9880 & 143.8322 & 144.6778 & 145.5241 & 146.3708 & 147.2190 & 148.0627 & 148.9171 & 149.7719 & 150.6318 & 151.4942 & 152.3651 & 153.2489 & 154.1360 & 155.0347 & 155.9477 & 156.8744 & 157.8047 & 158.7419 & 159.6858 & 160.6337 & 161.5873 & 162.5409 & 163.4960 & 164.4565 & 165.4150 & 166.3736 & 167.3341 & 168.2972 & 169.2646 & 170.2277 & 171.1940 & 172.1576 & 173.1267 & 174.0901 & 175.0574 & 176.0309 & 176.9971 & 177.9642 & 178.9301\\\\\n",
       "\\end{tabular}\n"
      ],
      "text/markdown": [
       "\n",
       "A matrix: 2 × 46 of type dbl\n",
       "\n",
       "| 5% | 135.1517 | 136.1201 | 137.0906 | 138.0554 | 139.0182 | 139.9771 | 140.9409 | 141.9026 | 142.8689 | 143.8282 | ... | 167.8817 | 168.7219 | 169.5660 | 170.4039 | 171.2381 | 172.0771 | 172.9148 | 173.7551 | 174.5929 | 175.4288 |\n",
       "| 94% | 137.9529 | 138.7898 | 139.6292 | 140.4711 | 141.3109 | 142.1483 | 142.9880 | 143.8322 | 144.6778 | 145.5241 | ... | 170.2277 | 171.1940 | 172.1576 | 173.1267 | 174.0901 | 175.0574 | 176.0309 | 176.9971 | 177.9642 | 178.9301 |\n",
       "\n"
      ],
      "text/plain": [
       "    [,1]     [,2]     [,3]     [,4]     [,5]     [,6]     [,7]     [,8]    \n",
       "5%  135.1517 136.1201 137.0906 138.0554 139.0182 139.9771 140.9409 141.9026\n",
       "94% 137.9529 138.7898 139.6292 140.4711 141.3109 142.1483 142.9880 143.8322\n",
       "    [,9]     [,10]    [,11] [,12]    [,13]    [,14]    [,15]    [,16]   \n",
       "5%  142.8689 143.8282 ...   167.8817 168.7219 169.5660 170.4039 171.2381\n",
       "94% 144.6778 145.5241 ...   170.2277 171.1940 172.1576 173.1267 174.0901\n",
       "    [,17]    [,18]    [,19]    [,20]    [,21]   \n",
       "5%  172.0771 172.9148 173.7551 174.5929 175.4288\n",
       "94% 175.0574 176.0309 176.9971 177.9642 178.9301"
      ]
     },
     "metadata": {},
     "output_type": "display_data"
    }
   ],
   "source": [
    "mu.CI %>% head"
   ]
  },
  {
   "cell_type": "code",
   "execution_count": 23,
   "metadata": {
    "ExecuteTime": {
     "end_time": "2020-01-19T09:49:39.805355Z",
     "start_time": "2020-01-19T09:49:39.571Z"
    }
   },
   "outputs": [
    {
     "name": "stdout",
     "output_type": "stream",
     "text": [
      "function (weight)  \n",
      " - attr(*, \"srcref\")= 'srcref' int [1:8] 1 12 1 61 12 61 1 1\n",
      "  ..- attr(*, \"srcfile\")=Classes 'srcfilecopy', 'srcfile' <environment: 0x0000000032ea59e0> \n"
     ]
    }
   ],
   "source": [
    "mu.link <- function(weight) post$a + post$b*( weight - xbar )\n",
    "\n",
    "mu.link %>% str"
   ]
  },
  {
   "cell_type": "code",
   "execution_count": null,
   "metadata": {},
   "outputs": [],
   "source": []
  },
  {
   "cell_type": "markdown",
   "metadata": {
    "heading_collapsed": true
   },
   "source": [
    "## <font color = 'green'>Overthinking: How SIM works</font>"
   ]
  },
  {
   "cell_type": "markdown",
   "metadata": {
    "hidden": true
   },
   "source": [
    "**Overthinking**: Rolling your own sim. \n",
    "\n",
    "For every distribution like <b>dnorm</b>, there is a <b>companion simulation function</b>. \n",
    "\n",
    "> <font color = 'green'>For the <b>Gaussian</b> distribution, the <b>companion is rnorm</b>, and it <b>(link) simulates sampling from a Gaussian distribution</b></font>. \n",
    "\n",
    "> What we want R to do is simulate a height for each set of samples, and to do this for each value of weight. \n",
    "\n",
    "The following will do it:\n",
    "\n",
    "R code 4.63"
   ]
  },
  {
   "cell_type": "code",
   "execution_count": 62,
   "metadata": {
    "ExecuteTime": {
     "end_time": "2020-02-13T02:12:13.632966Z",
     "start_time": "2020-02-13T02:12:13.580Z"
    },
    "code_folding": [],
    "collapsed": true,
    "hidden": true
   },
   "outputs": [
    {
     "ename": "ERROR",
     "evalue": "Error in extract.samples(m4.3): object 'm4.3' not found\n",
     "output_type": "error",
     "traceback": [
      "Error in extract.samples(m4.3): object 'm4.3' not found\nTraceback:\n",
      "1. extract.samples(m4.3)"
     ]
    }
   ],
   "source": [
    "# SIM under the hood\n",
    "post <- extract.samples(m4.3) \n",
    "weight.seq <- 25:70\n",
    "sim.height <- sapply( weight.seq , function(weight)\n",
    "    rnorm(\n",
    "        n=nrow(post) ,\n",
    "        mean=post$a + post$b*( weight - xbar ) ,\n",
    "        sd=post$sigma ) )\n",
    "height.PI <- apply( sim.height , 2 , PI , prob=0.89 )"
   ]
  },
  {
   "cell_type": "markdown",
   "metadata": {
    "hidden": true
   },
   "source": [
    "The values in height.PI will be practically identical to the ones computed in the main text and\n",
    "displayed in Figure 4.8."
   ]
  },
  {
   "cell_type": "markdown",
   "metadata": {
    "heading_collapsed": true
   },
   "source": [
    "## dnorm"
   ]
  },
  {
   "cell_type": "markdown",
   "metadata": {
    "hidden": true
   },
   "source": [
    "rnorm is the R function that simulates random variates having a specified normal distribution. As with pnorm , qnorm , and dnorm , optional arguments specify the mean and standard deviation of the distribution."
   ]
  },
  {
   "cell_type": "markdown",
   "metadata": {
    "hidden": true
   },
   "source": [
    "<font color = 'lightgrey'>dnorm gives the density, pnorm gives the distribution function, qnorm gives the quantile function, and rnorm generates random deviates.</font>\n",
    "\n",
    "<font color = 'lightgrey'>These functions provide information about the uniform distribution on the interval from min to max.  dunif gives the density, punif gives the distribution function qunif gives the quantile function and runif generates random deviates.</font>"
   ]
  },
  {
   "cell_type": "code",
   "execution_count": 41,
   "metadata": {
    "collapsed": true,
    "hidden": true
   },
   "outputs": [
    {
     "data": {
      "text/html": [
       "TRUE"
      ],
      "text/latex": [
       "TRUE"
      ],
      "text/markdown": [
       "TRUE"
      ],
      "text/plain": [
       "[1] TRUE"
      ]
     },
     "metadata": {},
     "output_type": "display_data"
    },
    {
     "data": {
      "text/html": [
       "TRUE"
      ],
      "text/latex": [
       "TRUE"
      ],
      "text/markdown": [
       "TRUE"
      ],
      "text/plain": [
       "[1] TRUE"
      ]
     },
     "metadata": {},
     "output_type": "display_data"
    },
    {
     "data": {
      "text/html": [
       "TRUE"
      ],
      "text/latex": [
       "TRUE"
      ],
      "text/markdown": [
       "TRUE"
      ],
      "text/plain": [
       "[1] TRUE"
      ]
     },
     "metadata": {},
     "output_type": "display_data"
    },
    {
     "data": {
      "image/png": "[encoded data removed]",
      "text/plain": [
       "Plot with title \"log { Normal Cumulative }\""
      ]
     },
     "metadata": {},
     "output_type": "display_data"
    }
   ],
   "source": [
    "require(graphics)\n",
    "\n",
    "dnorm(0) == 1/sqrt(2*pi)\n",
    "dnorm(1) == exp(-1/2)/sqrt(2*pi)\n",
    "dnorm(1) == 1/sqrt(2*pi*exp(1))\n",
    "\n",
    "## Using \"log = TRUE\" for an extended range :\n",
    "par(mfrow = c(2,1))\n",
    "plot(function(x) dnorm(x, log = TRUE), -60, 50,\n",
    "     main = \"log { Normal density }\")\n",
    "curve(log(dnorm(x)), add = TRUE, col = \"red\", lwd = 2)\n",
    "mtext(\"dnorm(x, log=TRUE)\", adj = 0)\n",
    "mtext(\"log(dnorm(x))\", col = \"red\", adj = 1)\n",
    "\n",
    "plot(function(x) pnorm(x, log.p = TRUE), -50, 10,\n",
    "     main = \"log { Normal Cumulative }\")\n",
    "curve(log(pnorm(x)), add = TRUE, col = \"red\", lwd = 2)\n",
    "mtext(\"pnorm(x, log=TRUE)\", adj = 0)\n",
    "mtext(\"log(pnorm(x))\", col = \"red\", adj = 1)"
   ]
  },
  {
   "cell_type": "markdown",
   "metadata": {
    "heading_collapsed": true
   },
   "source": [
    "## VOCAB"
   ]
  },
  {
   "cell_type": "markdown",
   "metadata": {
    "hidden": true
   },
   "source": [
    "In statistics, a <span style='background-color: lightyellow'>**power law**</span> is a functional relationship between two quantities, where a relative change in one quantity results in a proportional relative change in the other quantity, independent of the initial size of those quantities: one quantity varies as a power of another."
   ]
  },
  {
   "cell_type": "markdown",
   "metadata": {
    "hidden": true
   },
   "source": [
    "**quadratic approximation**. Under quite general conditions, the region near the peak of the posterior distribution will be nearly Gaussian—or “normal”—in shape. This means the posterior distribution can be usefully approximated by a Gaussian distribution. A Gaussian distribution is convenient, because it can be completely described by only two numbers: the location of its center (mean) and its spread (variance). \n",
    "\n",
    "* A Gaussian approximation is called “quadratic approximation” because the logarithm of a Gaussian distribution forms a parabola. And a parabola is a quadratic function. So this approximation essentially represents any log-posterior with a parabola."
   ]
  }
 ],
 "metadata": {
  "hide_input": false,
  "kernelspec": {
   "display_name": "R",
   "language": "R",
   "name": "ir"
  },
  "language_info": {
   "codemirror_mode": "r",
   "file_extension": ".r",
   "mimetype": "text/x-r-source",
   "name": "R",
   "pygments_lexer": "r",
   "version": "3.6.3"
  },
  "toc": {
   "base_numbering": 1,
   "nav_menu": {},
   "number_sections": true,
   "sideBar": true,
   "skip_h1_title": false,
   "title_cell": "Table of Contents",
   "title_sidebar": "Contents",
   "toc_cell": true,
   "toc_position": {
    "height": "calc(100% - 180px)",
    "left": "10px",
    "top": "150px",
    "width": "307.2px"
   },
   "toc_section_display": true,
   "toc_window_display": false
  },
  "varInspector": {
   "cols": {
    "lenName": 16,
    "lenType": 16,
    "lenVar": 40
   },
   "kernels_config": {
    "python": {
     "delete_cmd_postfix": "",
     "delete_cmd_prefix": "del ",
     "library": "var_list.py",
     "varRefreshCmd": "print(var_dic_list())"
    },
    "r": {
     "delete_cmd_postfix": ") ",
     "delete_cmd_prefix": "rm(",
     "library": "var_list.r",
     "varRefreshCmd": "cat(var_dic_list()) "
    }
   },
   "types_to_exclude": [
    "module",
    "function",
    "builtin_function_or_method",
    "instance",
    "_Feature"
   ],
   "window_display": false
  }
 },
 "nbformat": 4,
 "nbformat_minor": 2
}
