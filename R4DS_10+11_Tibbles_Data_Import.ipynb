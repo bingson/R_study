{
 "cells": [
  {
   "cell_type": "markdown",
   "metadata": {
    "toc": true
   },
   "source": [
    "<h1>Table of Contents<span class=\"tocSkip\"></span></h1>\n",
    "<div class=\"toc\"><ul class=\"toc-item\"><li><span><a href=\"#tibbles\" data-toc-modified-id=\"tibbles-1\"><span class=\"toc-item-num\">1&nbsp;&nbsp;</span>tibbles</a></span><ul class=\"toc-item\"><li><span><a href=\"#10.3-Tibbles-vs.-data.frame\" data-toc-modified-id=\"10.3-Tibbles-vs.-data.frame-1.1\"><span class=\"toc-item-num\">1.1&nbsp;&nbsp;</span>10.3 Tibbles vs. data.frame</a></span><ul class=\"toc-item\"><li><span><a href=\"#10.3.1-Printing\" data-toc-modified-id=\"10.3.1-Printing-1.1.1\"><span class=\"toc-item-num\">1.1.1&nbsp;&nbsp;</span>10.3.1 Printing</a></span></li><li><span><a href=\"#Subsetting\" data-toc-modified-id=\"Subsetting-1.1.2\"><span class=\"toc-item-num\">1.1.2&nbsp;&nbsp;</span>Subsetting</a></span></li></ul></li><li><span><a href=\"#Interacting-with-older-code\" data-toc-modified-id=\"Interacting-with-older-code-1.2\"><span class=\"toc-item-num\">1.2&nbsp;&nbsp;</span>Interacting with older code</a></span></li><li><span><a href=\"#Exercises\" data-toc-modified-id=\"Exercises-1.3\"><span class=\"toc-item-num\">1.3&nbsp;&nbsp;</span>Exercises</a></span></li></ul></li><li><span><a href=\"#Data-Import\" data-toc-modified-id=\"Data-Import-2\"><span class=\"toc-item-num\">2&nbsp;&nbsp;</span>Data Import</a></span><ul class=\"toc-item\"><li><span><a href=\"#Getting-started\" data-toc-modified-id=\"Getting-started-2.1\"><span class=\"toc-item-num\">2.1&nbsp;&nbsp;</span>Getting started</a></span><ul class=\"toc-item\"><li><span><a href=\"#Compared-to-base-R\" data-toc-modified-id=\"Compared-to-base-R-2.1.1\"><span class=\"toc-item-num\">2.1.1&nbsp;&nbsp;</span>Compared to base R</a></span></li></ul></li><li><span><a href=\"#Parsing-a-vector\" data-toc-modified-id=\"Parsing-a-vector-2.2\"><span class=\"toc-item-num\">2.2&nbsp;&nbsp;</span>Parsing a vector</a></span><ul class=\"toc-item\"><li><span><a href=\"#Numbers\" data-toc-modified-id=\"Numbers-2.2.1\"><span class=\"toc-item-num\">2.2.1&nbsp;&nbsp;</span>Numbers</a></span></li><li><span><a href=\"#Strings\" data-toc-modified-id=\"Strings-2.2.2\"><span class=\"toc-item-num\">2.2.2&nbsp;&nbsp;</span>Strings</a></span></li><li><span><a href=\"#Factors\" data-toc-modified-id=\"Factors-2.2.3\"><span class=\"toc-item-num\">2.2.3&nbsp;&nbsp;</span>Factors</a></span></li><li><span><a href=\"#Dates,-date-times,-and-times\" data-toc-modified-id=\"Dates,-date-times,-and-times-2.2.4\"><span class=\"toc-item-num\">2.2.4&nbsp;&nbsp;</span>Dates, date-times, and times</a></span></li><li><span><a href=\"#Exercises\" data-toc-modified-id=\"Exercises-2.2.5\"><span class=\"toc-item-num\">2.2.5&nbsp;&nbsp;</span>Exercises</a></span></li></ul></li><li><span><a href=\"#Parsing-a-file\" data-toc-modified-id=\"Parsing-a-file-2.3\"><span class=\"toc-item-num\">2.3&nbsp;&nbsp;</span>Parsing a file</a></span><ul class=\"toc-item\"><li><span><a href=\"#11.4.1-Strategy\" data-toc-modified-id=\"11.4.1-Strategy-2.3.1\"><span class=\"toc-item-num\">2.3.1&nbsp;&nbsp;</span>11.4.1 Strategy</a></span></li><li><span><a href=\"#11.4.2-Problems\" data-toc-modified-id=\"11.4.2-Problems-2.3.2\"><span class=\"toc-item-num\">2.3.2&nbsp;&nbsp;</span>11.4.2 Problems</a></span></li></ul></li></ul></li></ul></div>"
   ]
  },
  {
   "cell_type": "markdown",
   "metadata": {
    "heading_collapsed": true
   },
   "source": [
    "# tibbles"
   ]
  },
  {
   "cell_type": "code",
   "execution_count": 1,
   "metadata": {
    "ExecuteTime": {
     "end_time": "2020-02-05T06:45:51.367855Z",
     "start_time": "2020-02-05T06:45:44.342Z"
    },
    "hidden": true
   },
   "outputs": [
    {
     "name": "stderr",
     "output_type": "stream",
     "text": [
      "-- \u001b[1mAttaching packages\u001b[22m --------------------------------------- tidyverse 1.3.0 --\n",
      "\n",
      "\u001b[32mv\u001b[39m \u001b[34mggplot2\u001b[39m 3.2.1     \u001b[32mv\u001b[39m \u001b[34mpurrr  \u001b[39m 0.3.3\n",
      "\u001b[32mv\u001b[39m \u001b[34mtibble \u001b[39m 2.1.3     \u001b[32mv\u001b[39m \u001b[34mdplyr  \u001b[39m 0.8.4\n",
      "\u001b[32mv\u001b[39m \u001b[34mtidyr  \u001b[39m 1.0.2     \u001b[32mv\u001b[39m \u001b[34mstringr\u001b[39m 1.4.0\n",
      "\u001b[32mv\u001b[39m \u001b[34mreadr  \u001b[39m 1.3.1     \u001b[32mv\u001b[39m \u001b[34mforcats\u001b[39m 0.4.0\n",
      "\n",
      "-- \u001b[1mConflicts\u001b[22m ------------------------------------------ tidyverse_conflicts() --\n",
      "\u001b[31mx\u001b[39m \u001b[34mdplyr\u001b[39m::\u001b[32mfilter()\u001b[39m masks \u001b[34mstats\u001b[39m::filter()\n",
      "\u001b[31mx\u001b[39m \u001b[34mdplyr\u001b[39m::\u001b[32mlag()\u001b[39m    masks \u001b[34mstats\u001b[39m::lag()\n",
      "\n"
     ]
    }
   ],
   "source": [
    "library(tidyverse) \n"
   ]
  },
  {
   "cell_type": "markdown",
   "metadata": {
    "hidden": true
   },
   "source": [
    "Most other R packages use regular data frames, so you might want to coerce a data frame to a tibble. You can do that with as_tibble():"
   ]
  },
  {
   "cell_type": "code",
   "execution_count": 4,
   "metadata": {
    "ExecuteTime": {
     "end_time": "2020-02-05T06:46:51.185913Z",
     "start_time": "2020-02-05T06:46:50.944Z"
    },
    "hidden": true
   },
   "outputs": [
    {
     "data": {
      "text/html": [
       "<table>\n",
       "<caption>A tibble: 6 × 5</caption>\n",
       "<thead>\n",
       "\t<tr><th scope=col>Sepal.Length</th><th scope=col>Sepal.Width</th><th scope=col>Petal.Length</th><th scope=col>Petal.Width</th><th scope=col>Species</th></tr>\n",
       "\t<tr><th scope=col>&lt;dbl&gt;</th><th scope=col>&lt;dbl&gt;</th><th scope=col>&lt;dbl&gt;</th><th scope=col>&lt;dbl&gt;</th><th scope=col>&lt;fct&gt;</th></tr>\n",
       "</thead>\n",
       "<tbody>\n",
       "\t<tr><td>5.1</td><td>3.5</td><td>1.4</td><td>0.2</td><td>setosa</td></tr>\n",
       "\t<tr><td>4.9</td><td>3.0</td><td>1.4</td><td>0.2</td><td>setosa</td></tr>\n",
       "\t<tr><td>4.7</td><td>3.2</td><td>1.3</td><td>0.2</td><td>setosa</td></tr>\n",
       "\t<tr><td>4.6</td><td>3.1</td><td>1.5</td><td>0.2</td><td>setosa</td></tr>\n",
       "\t<tr><td>5.0</td><td>3.6</td><td>1.4</td><td>0.2</td><td>setosa</td></tr>\n",
       "\t<tr><td>5.4</td><td>3.9</td><td>1.7</td><td>0.4</td><td>setosa</td></tr>\n",
       "</tbody>\n",
       "</table>\n"
      ],
      "text/latex": [
       "A tibble: 6 × 5\n",
       "\\begin{tabular}{lllll}\n",
       " Sepal.Length & Sepal.Width & Petal.Length & Petal.Width & Species\\\\\n",
       " <dbl> & <dbl> & <dbl> & <dbl> & <fct>\\\\\n",
       "\\hline\n",
       "\t 5.1 & 3.5 & 1.4 & 0.2 & setosa\\\\\n",
       "\t 4.9 & 3.0 & 1.4 & 0.2 & setosa\\\\\n",
       "\t 4.7 & 3.2 & 1.3 & 0.2 & setosa\\\\\n",
       "\t 4.6 & 3.1 & 1.5 & 0.2 & setosa\\\\\n",
       "\t 5.0 & 3.6 & 1.4 & 0.2 & setosa\\\\\n",
       "\t 5.4 & 3.9 & 1.7 & 0.4 & setosa\\\\\n",
       "\\end{tabular}\n"
      ],
      "text/markdown": [
       "\n",
       "A tibble: 6 × 5\n",
       "\n",
       "| Sepal.Length &lt;dbl&gt; | Sepal.Width &lt;dbl&gt; | Petal.Length &lt;dbl&gt; | Petal.Width &lt;dbl&gt; | Species &lt;fct&gt; |\n",
       "|---|---|---|---|---|\n",
       "| 5.1 | 3.5 | 1.4 | 0.2 | setosa |\n",
       "| 4.9 | 3.0 | 1.4 | 0.2 | setosa |\n",
       "| 4.7 | 3.2 | 1.3 | 0.2 | setosa |\n",
       "| 4.6 | 3.1 | 1.5 | 0.2 | setosa |\n",
       "| 5.0 | 3.6 | 1.4 | 0.2 | setosa |\n",
       "| 5.4 | 3.9 | 1.7 | 0.4 | setosa |\n",
       "\n"
      ],
      "text/plain": [
       "  Sepal.Length Sepal.Width Petal.Length Petal.Width Species\n",
       "1 5.1          3.5         1.4          0.2         setosa \n",
       "2 4.9          3.0         1.4          0.2         setosa \n",
       "3 4.7          3.2         1.3          0.2         setosa \n",
       "4 4.6          3.1         1.5          0.2         setosa \n",
       "5 5.0          3.6         1.4          0.2         setosa \n",
       "6 5.4          3.9         1.7          0.4         setosa "
      ]
     },
     "metadata": {},
     "output_type": "display_data"
    }
   ],
   "source": [
    "as_tibble(iris) %>% head"
   ]
  },
  {
   "cell_type": "markdown",
   "metadata": {
    "hidden": true
   },
   "source": [
    "You can create a new tibble from individual vectors with `tibble()`. `tibble()` will automatically recycle inputs of length 1, and allows you to refer to variables that you just created, as shown below."
   ]
  },
  {
   "cell_type": "code",
   "execution_count": 5,
   "metadata": {
    "ExecuteTime": {
     "end_time": "2020-02-05T06:47:17.264584Z",
     "start_time": "2020-02-05T06:47:17.140Z"
    },
    "hidden": true
   },
   "outputs": [
    {
     "data": {
      "text/html": [
       "<table>\n",
       "<caption>A tibble: 5 × 3</caption>\n",
       "<thead>\n",
       "\t<tr><th scope=col>x</th><th scope=col>y</th><th scope=col>z</th></tr>\n",
       "\t<tr><th scope=col>&lt;int&gt;</th><th scope=col>&lt;dbl&gt;</th><th scope=col>&lt;dbl&gt;</th></tr>\n",
       "</thead>\n",
       "<tbody>\n",
       "\t<tr><td>1</td><td>1</td><td> 2</td></tr>\n",
       "\t<tr><td>2</td><td>1</td><td> 5</td></tr>\n",
       "\t<tr><td>3</td><td>1</td><td>10</td></tr>\n",
       "\t<tr><td>4</td><td>1</td><td>17</td></tr>\n",
       "\t<tr><td>5</td><td>1</td><td>26</td></tr>\n",
       "</tbody>\n",
       "</table>\n"
      ],
      "text/latex": [
       "A tibble: 5 × 3\n",
       "\\begin{tabular}{lll}\n",
       " x & y & z\\\\\n",
       " <int> & <dbl> & <dbl>\\\\\n",
       "\\hline\n",
       "\t 1 & 1 &  2\\\\\n",
       "\t 2 & 1 &  5\\\\\n",
       "\t 3 & 1 & 10\\\\\n",
       "\t 4 & 1 & 17\\\\\n",
       "\t 5 & 1 & 26\\\\\n",
       "\\end{tabular}\n"
      ],
      "text/markdown": [
       "\n",
       "A tibble: 5 × 3\n",
       "\n",
       "| x &lt;int&gt; | y &lt;dbl&gt; | z &lt;dbl&gt; |\n",
       "|---|---|---|\n",
       "| 1 | 1 |  2 |\n",
       "| 2 | 1 |  5 |\n",
       "| 3 | 1 | 10 |\n",
       "| 4 | 1 | 17 |\n",
       "| 5 | 1 | 26 |\n",
       "\n"
      ],
      "text/plain": [
       "  x y z \n",
       "1 1 1  2\n",
       "2 2 1  5\n",
       "3 3 1 10\n",
       "4 4 1 17\n",
       "5 5 1 26"
      ]
     },
     "metadata": {},
     "output_type": "display_data"
    }
   ],
   "source": [
    "tibble(\n",
    "  x = 1:5, \n",
    "  y = 1, \n",
    "  z = x ^ 2 + y\n",
    ")"
   ]
  },
  {
   "cell_type": "markdown",
   "metadata": {
    "hidden": true
   },
   "source": [
    "If you’re already familiar with `data.frame()`, note that `tibble()` does much less: it never changes the type of the inputs (e.g. it never converts strings to factors!), it never changes the names of variables, and it never creates row names.\n",
    "\n",
    "It’s possible for a tibble to have column names that are not valid R variable names, aka **non-syntactic** names. For example, they might not start with a letter, or they might contain unusual characters like a space. To refer to these variables, you need to surround them with backticks, `````:"
   ]
  },
  {
   "cell_type": "code",
   "execution_count": 7,
   "metadata": {
    "ExecuteTime": {
     "end_time": "2020-02-05T06:48:33.661887Z",
     "start_time": "2020-02-05T06:48:33.535Z"
    },
    "hidden": true
   },
   "outputs": [
    {
     "data": {
      "text/html": [
       "<table>\n",
       "<caption>A tibble: 1 × 3</caption>\n",
       "<thead>\n",
       "\t<tr><th scope=col>:)</th><th scope=col> </th><th scope=col>2000</th></tr>\n",
       "\t<tr><th scope=col>&lt;chr&gt;</th><th scope=col>&lt;chr&gt;</th><th scope=col>&lt;chr&gt;</th></tr>\n",
       "</thead>\n",
       "<tbody>\n",
       "\t<tr><td>smile</td><td>space</td><td>number</td></tr>\n",
       "</tbody>\n",
       "</table>\n"
      ],
      "text/latex": [
       "A tibble: 1 × 3\n",
       "\\begin{tabular}{lll}\n",
       " :) &   & 2000\\\\\n",
       " <chr> & <chr> & <chr>\\\\\n",
       "\\hline\n",
       "\t smile & space & number\\\\\n",
       "\\end{tabular}\n"
      ],
      "text/markdown": [
       "\n",
       "A tibble: 1 × 3\n",
       "\n",
       "| :) &lt;chr&gt; | <!----> &lt;chr&gt; | 2000 &lt;chr&gt; |\n",
       "|---|---|---|\n",
       "| smile | space | number |\n",
       "\n"
      ],
      "text/plain": [
       "  :)          2000  \n",
       "1 smile space number"
      ]
     },
     "metadata": {},
     "output_type": "display_data"
    }
   ],
   "source": [
    "tb <- tibble(\n",
    "  `:)` = \"smile\", \n",
    "  ` ` = \"space\",\n",
    "  `2000` = \"number\"\n",
    ")\n",
    "tb"
   ]
  },
  {
   "cell_type": "markdown",
   "metadata": {
    "hidden": true
   },
   "source": [
    "You’ll also need the backticks when working with these variables in other packages, like ggplot2, dplyr, and tidyr.\n",
    "\n",
    "<b><font color = 'purple'>Another way to create a tibble is with `tribble()` </font></b>, short for **tr**ansposed tibble. <font color = 'green'><b>`tribble()` is customised for data entry in code</b></font>: column headings are defined by formulas (i.e. they start with `~`), and entries are separated by commas. This makes it possible to lay out small amounts of data in easy to read form."
   ]
  },
  {
   "cell_type": "code",
   "execution_count": 8,
   "metadata": {
    "ExecuteTime": {
     "end_time": "2020-02-05T06:50:13.392552Z",
     "start_time": "2020-02-05T06:50:13.266Z"
    },
    "hidden": true
   },
   "outputs": [
    {
     "data": {
      "text/html": [
       "<table>\n",
       "<caption>A tibble: 2 × 3</caption>\n",
       "<thead>\n",
       "\t<tr><th scope=col>x</th><th scope=col>y</th><th scope=col>z</th></tr>\n",
       "\t<tr><th scope=col>&lt;chr&gt;</th><th scope=col>&lt;dbl&gt;</th><th scope=col>&lt;dbl&gt;</th></tr>\n",
       "</thead>\n",
       "<tbody>\n",
       "\t<tr><td>a</td><td>2</td><td>3.6</td></tr>\n",
       "\t<tr><td>b</td><td>1</td><td>8.5</td></tr>\n",
       "</tbody>\n",
       "</table>\n"
      ],
      "text/latex": [
       "A tibble: 2 × 3\n",
       "\\begin{tabular}{lll}\n",
       " x & y & z\\\\\n",
       " <chr> & <dbl> & <dbl>\\\\\n",
       "\\hline\n",
       "\t a & 2 & 3.6\\\\\n",
       "\t b & 1 & 8.5\\\\\n",
       "\\end{tabular}\n"
      ],
      "text/markdown": [
       "\n",
       "A tibble: 2 × 3\n",
       "\n",
       "| x &lt;chr&gt; | y &lt;dbl&gt; | z &lt;dbl&gt; |\n",
       "|---|---|---|\n",
       "| a | 2 | 3.6 |\n",
       "| b | 1 | 8.5 |\n",
       "\n"
      ],
      "text/plain": [
       "  x y z  \n",
       "1 a 2 3.6\n",
       "2 b 1 8.5"
      ]
     },
     "metadata": {},
     "output_type": "display_data"
    }
   ],
   "source": [
    "tribble(\n",
    "  ~x, ~y, ~z,\n",
    "  #--|--|----\n",
    "  \"a\", 2, 3.6,\n",
    "  \"b\", 1, 8.5\n",
    ")"
   ]
  },
  {
   "cell_type": "markdown",
   "metadata": {
    "hidden": true
   },
   "source": [
    "\n",
    "\n",
    "I often add a comment (the line starting with `#`), to make it really clear where the header is."
   ]
  },
  {
   "cell_type": "markdown",
   "metadata": {
    "hidden": true
   },
   "source": [
    "## 10.3 Tibbles vs. data.frame"
   ]
  },
  {
   "cell_type": "markdown",
   "metadata": {
    "hidden": true
   },
   "source": [
    "There are two main differences in the usage of a tibble vs. a classic `data.frame`: printing and subsetting."
   ]
  },
  {
   "cell_type": "markdown",
   "metadata": {
    "hidden": true
   },
   "source": [
    "### 10.3.1 Printing"
   ]
  },
  {
   "cell_type": "markdown",
   "metadata": {
    "hidden": true
   },
   "source": [
    "Tibbles have a refined print method that shows only the first 10 rows, and all the columns that fit on screen. This makes it much easier to work with large data. In addition to its name, each column reports its type, a nice feature borrowed from `str()`:"
   ]
  },
  {
   "cell_type": "code",
   "execution_count": 10,
   "metadata": {
    "ExecuteTime": {
     "end_time": "2020-02-05T06:53:23.831272Z",
     "start_time": "2020-02-05T06:53:23.674Z"
    },
    "hidden": true
   },
   "outputs": [
    {
     "data": {
      "text/html": [
       "<table>\n",
       "<caption>A tibble: 10 × 5</caption>\n",
       "<thead>\n",
       "\t<tr><th scope=col>a</th><th scope=col>b</th><th scope=col>c</th><th scope=col>d</th><th scope=col>e</th></tr>\n",
       "\t<tr><th scope=col>&lt;dttm&gt;</th><th scope=col>&lt;date&gt;</th><th scope=col>&lt;int&gt;</th><th scope=col>&lt;dbl&gt;</th><th scope=col>&lt;chr&gt;</th></tr>\n",
       "</thead>\n",
       "<tbody>\n",
       "\t<tr><td>2020-02-05 23:59:49</td><td>2020-02-19</td><td> 1</td><td>0.37208169</td><td>v</td></tr>\n",
       "\t<tr><td>2020-02-06 00:03:07</td><td>2020-02-25</td><td> 2</td><td>0.49759248</td><td>l</td></tr>\n",
       "\t<tr><td>2020-02-05 14:57:32</td><td>2020-02-19</td><td> 3</td><td>0.57364048</td><td>r</td></tr>\n",
       "\t<tr><td>2020-02-05 20:48:11</td><td>2020-03-04</td><td> 4</td><td>0.54733580</td><td>u</td></tr>\n",
       "\t<tr><td>2020-02-06 00:34:54</td><td>2020-02-12</td><td> 5</td><td>0.35295485</td><td>u</td></tr>\n",
       "\t<tr><td>2020-02-05 15:37:50</td><td>2020-03-03</td><td> 6</td><td>0.71115156</td><td>f</td></tr>\n",
       "\t<tr><td>2020-02-05 22:56:15</td><td>2020-02-05</td><td> 7</td><td>0.41592348</td><td>q</td></tr>\n",
       "\t<tr><td>2020-02-05 18:32:34</td><td>2020-02-12</td><td> 8</td><td>0.02039639</td><td>p</td></tr>\n",
       "\t<tr><td>2020-02-05 11:27:55</td><td>2020-02-10</td><td> 9</td><td>0.07608413</td><td>p</td></tr>\n",
       "\t<tr><td>2020-02-05 21:28:19</td><td>2020-02-11</td><td>10</td><td>0.84050956</td><td>s</td></tr>\n",
       "</tbody>\n",
       "</table>\n"
      ],
      "text/latex": [
       "A tibble: 10 × 5\n",
       "\\begin{tabular}{lllll}\n",
       " a & b & c & d & e\\\\\n",
       " <dttm> & <date> & <int> & <dbl> & <chr>\\\\\n",
       "\\hline\n",
       "\t 2020-02-05 23:59:49 & 2020-02-19 &  1 & 0.37208169 & v\\\\\n",
       "\t 2020-02-06 00:03:07 & 2020-02-25 &  2 & 0.49759248 & l\\\\\n",
       "\t 2020-02-05 14:57:32 & 2020-02-19 &  3 & 0.57364048 & r\\\\\n",
       "\t 2020-02-05 20:48:11 & 2020-03-04 &  4 & 0.54733580 & u\\\\\n",
       "\t 2020-02-06 00:34:54 & 2020-02-12 &  5 & 0.35295485 & u\\\\\n",
       "\t 2020-02-05 15:37:50 & 2020-03-03 &  6 & 0.71115156 & f\\\\\n",
       "\t 2020-02-05 22:56:15 & 2020-02-05 &  7 & 0.41592348 & q\\\\\n",
       "\t 2020-02-05 18:32:34 & 2020-02-12 &  8 & 0.02039639 & p\\\\\n",
       "\t 2020-02-05 11:27:55 & 2020-02-10 &  9 & 0.07608413 & p\\\\\n",
       "\t 2020-02-05 21:28:19 & 2020-02-11 & 10 & 0.84050956 & s\\\\\n",
       "\\end{tabular}\n"
      ],
      "text/markdown": [
       "\n",
       "A tibble: 10 × 5\n",
       "\n",
       "| a &lt;dttm&gt; | b &lt;date&gt; | c &lt;int&gt; | d &lt;dbl&gt; | e &lt;chr&gt; |\n",
       "|---|---|---|---|---|\n",
       "| 2020-02-05 23:59:49 | 2020-02-19 |  1 | 0.37208169 | v |\n",
       "| 2020-02-06 00:03:07 | 2020-02-25 |  2 | 0.49759248 | l |\n",
       "| 2020-02-05 14:57:32 | 2020-02-19 |  3 | 0.57364048 | r |\n",
       "| 2020-02-05 20:48:11 | 2020-03-04 |  4 | 0.54733580 | u |\n",
       "| 2020-02-06 00:34:54 | 2020-02-12 |  5 | 0.35295485 | u |\n",
       "| 2020-02-05 15:37:50 | 2020-03-03 |  6 | 0.71115156 | f |\n",
       "| 2020-02-05 22:56:15 | 2020-02-05 |  7 | 0.41592348 | q |\n",
       "| 2020-02-05 18:32:34 | 2020-02-12 |  8 | 0.02039639 | p |\n",
       "| 2020-02-05 11:27:55 | 2020-02-10 |  9 | 0.07608413 | p |\n",
       "| 2020-02-05 21:28:19 | 2020-02-11 | 10 | 0.84050956 | s |\n",
       "\n"
      ],
      "text/plain": [
       "   a                   b          c  d          e\n",
       "1  2020-02-05 23:59:49 2020-02-19  1 0.37208169 v\n",
       "2  2020-02-06 00:03:07 2020-02-25  2 0.49759248 l\n",
       "3  2020-02-05 14:57:32 2020-02-19  3 0.57364048 r\n",
       "4  2020-02-05 20:48:11 2020-03-04  4 0.54733580 u\n",
       "5  2020-02-06 00:34:54 2020-02-12  5 0.35295485 u\n",
       "6  2020-02-05 15:37:50 2020-03-03  6 0.71115156 f\n",
       "7  2020-02-05 22:56:15 2020-02-05  7 0.41592348 q\n",
       "8  2020-02-05 18:32:34 2020-02-12  8 0.02039639 p\n",
       "9  2020-02-05 11:27:55 2020-02-10  9 0.07608413 p\n",
       "10 2020-02-05 21:28:19 2020-02-11 10 0.84050956 s"
      ]
     },
     "metadata": {},
     "output_type": "display_data"
    }
   ],
   "source": [
    "tibble(\n",
    "  a = lubridate::now() + runif(1e3) * 86400,\n",
    "  b = lubridate::today() + runif(1e3) * 30,\n",
    "  c = 1:1e3,\n",
    "  d = runif(1e3),\n",
    "  e = sample(letters, 1e3, replace = TRUE)\n",
    ") %>% head(10)"
   ]
  },
  {
   "cell_type": "markdown",
   "metadata": {
    "hidden": true
   },
   "source": [
    "Tibbles are designed so that you don’t accidentally overwhelm your console when you print large data frames. But sometimes you need more output than the default display. There are a few options that can help.\n",
    "\n",
    "<font color = 'blue'><b>First, you can explicitly `print()` the data frame and control the number of rows (`n`) and the `width` of the display. `width = Inf` will display all columns:</b></font>"
   ]
  },
  {
   "cell_type": "code",
   "execution_count": 11,
   "metadata": {
    "ExecuteTime": {
     "end_time": "2020-02-05T06:54:52.756780Z",
     "start_time": "2020-02-05T06:54:51.325Z"
    },
    "hidden": true
   },
   "outputs": [
    {
     "name": "stdout",
     "output_type": "stream",
     "text": [
      "\u001b[90m# A tibble: 336,776 x 19\u001b[39m\n",
      "    year month   day dep_time sched_dep_time dep_delay arr_time sched_arr_time\n",
      "   \u001b[3m\u001b[90m<int>\u001b[39m\u001b[23m \u001b[3m\u001b[90m<int>\u001b[39m\u001b[23m \u001b[3m\u001b[90m<int>\u001b[39m\u001b[23m    \u001b[3m\u001b[90m<int>\u001b[39m\u001b[23m          \u001b[3m\u001b[90m<int>\u001b[39m\u001b[23m     \u001b[3m\u001b[90m<dbl>\u001b[39m\u001b[23m    \u001b[3m\u001b[90m<int>\u001b[39m\u001b[23m          \u001b[3m\u001b[90m<int>\u001b[39m\u001b[23m\n",
      "\u001b[90m 1\u001b[39m  \u001b[4m2\u001b[24m013     1     1      517            515         2      830            819\n",
      "\u001b[90m 2\u001b[39m  \u001b[4m2\u001b[24m013     1     1      533            529         4      850            830\n",
      "\u001b[90m 3\u001b[39m  \u001b[4m2\u001b[24m013     1     1      542            540         2      923            850\n",
      "\u001b[90m 4\u001b[39m  \u001b[4m2\u001b[24m013     1     1      544            545        -\u001b[31m1\u001b[39m     \u001b[4m1\u001b[24m004           \u001b[4m1\u001b[24m022\n",
      "\u001b[90m 5\u001b[39m  \u001b[4m2\u001b[24m013     1     1      554            600        -\u001b[31m6\u001b[39m      812            837\n",
      "\u001b[90m 6\u001b[39m  \u001b[4m2\u001b[24m013     1     1      554            558        -\u001b[31m4\u001b[39m      740            728\n",
      "\u001b[90m 7\u001b[39m  \u001b[4m2\u001b[24m013     1     1      555            600        -\u001b[31m5\u001b[39m      913            854\n",
      "\u001b[90m 8\u001b[39m  \u001b[4m2\u001b[24m013     1     1      557            600        -\u001b[31m3\u001b[39m      709            723\n",
      "\u001b[90m 9\u001b[39m  \u001b[4m2\u001b[24m013     1     1      557            600        -\u001b[31m3\u001b[39m      838            846\n",
      "\u001b[90m10\u001b[39m  \u001b[4m2\u001b[24m013     1     1      558            600        -\u001b[31m2\u001b[39m      753            745\n",
      "   arr_delay carrier flight tailnum origin dest  air_time distance  hour minute\n",
      "       \u001b[3m\u001b[90m<dbl>\u001b[39m\u001b[23m \u001b[3m\u001b[90m<chr>\u001b[39m\u001b[23m    \u001b[3m\u001b[90m<int>\u001b[39m\u001b[23m \u001b[3m\u001b[90m<chr>\u001b[39m\u001b[23m   \u001b[3m\u001b[90m<chr>\u001b[39m\u001b[23m  \u001b[3m\u001b[90m<chr>\u001b[39m\u001b[23m    \u001b[3m\u001b[90m<dbl>\u001b[39m\u001b[23m    \u001b[3m\u001b[90m<dbl>\u001b[39m\u001b[23m \u001b[3m\u001b[90m<dbl>\u001b[39m\u001b[23m  \u001b[3m\u001b[90m<dbl>\u001b[39m\u001b[23m\n",
      "\u001b[90m 1\u001b[39m        11 UA        \u001b[4m1\u001b[24m545 N14228  EWR    IAH        227     \u001b[4m1\u001b[24m400     5     15\n",
      "\u001b[90m 2\u001b[39m        20 UA        \u001b[4m1\u001b[24m714 N24211  LGA    IAH        227     \u001b[4m1\u001b[24m416     5     29\n",
      "\u001b[90m 3\u001b[39m        33 AA        \u001b[4m1\u001b[24m141 N619AA  JFK    MIA        160     \u001b[4m1\u001b[24m089     5     40\n",
      "\u001b[90m 4\u001b[39m       -\u001b[31m18\u001b[39m B6         725 N804JB  JFK    BQN        183     \u001b[4m1\u001b[24m576     5     45\n",
      "\u001b[90m 5\u001b[39m       -\u001b[31m25\u001b[39m DL         461 N668DN  LGA    ATL        116      762     6      0\n",
      "\u001b[90m 6\u001b[39m        12 UA        \u001b[4m1\u001b[24m696 N39463  EWR    ORD        150      719     5     58\n",
      "\u001b[90m 7\u001b[39m        19 B6         507 N516JB  EWR    FLL        158     \u001b[4m1\u001b[24m065     6      0\n",
      "\u001b[90m 8\u001b[39m       -\u001b[31m14\u001b[39m EV        \u001b[4m5\u001b[24m708 N829AS  LGA    IAD         53      229     6      0\n",
      "\u001b[90m 9\u001b[39m        -\u001b[31m8\u001b[39m B6          79 N593JB  JFK    MCO        140      944     6      0\n",
      "\u001b[90m10\u001b[39m         8 AA         301 N3ALAA  LGA    ORD        138      733     6      0\n",
      "   time_hour          \n",
      "   \u001b[3m\u001b[90m<dttm>\u001b[39m\u001b[23m             \n",
      "\u001b[90m 1\u001b[39m 2013-01-01 \u001b[90m05:00:00\u001b[39m\n",
      "\u001b[90m 2\u001b[39m 2013-01-01 \u001b[90m05:00:00\u001b[39m\n",
      "\u001b[90m 3\u001b[39m 2013-01-01 \u001b[90m05:00:00\u001b[39m\n",
      "\u001b[90m 4\u001b[39m 2013-01-01 \u001b[90m05:00:00\u001b[39m\n",
      "\u001b[90m 5\u001b[39m 2013-01-01 \u001b[90m06:00:00\u001b[39m\n",
      "\u001b[90m 6\u001b[39m 2013-01-01 \u001b[90m05:00:00\u001b[39m\n",
      "\u001b[90m 7\u001b[39m 2013-01-01 \u001b[90m06:00:00\u001b[39m\n",
      "\u001b[90m 8\u001b[39m 2013-01-01 \u001b[90m06:00:00\u001b[39m\n",
      "\u001b[90m 9\u001b[39m 2013-01-01 \u001b[90m06:00:00\u001b[39m\n",
      "\u001b[90m10\u001b[39m 2013-01-01 \u001b[90m06:00:00\u001b[39m\n",
      "\u001b[90m# ... with 3.368e+05 more rows\u001b[39m\n"
     ]
    }
   ],
   "source": [
    "nycflights13::flights %>% \n",
    "  print(n = 10, width = Inf)"
   ]
  },
  {
   "cell_type": "markdown",
   "metadata": {
    "hidden": true
   },
   "source": [
    "You can also control the default print behaviour by setting options:\n",
    "\n",
    "* `options(tibble.print_max = n, tibble.print_min = m)`: if more than `n`\n",
    "    rows, print only `m` rows. Use `options(tibble.print_min = Inf)` to always\n",
    "    show all rows.\n",
    "\n",
    "* Use `options(tibble.width = Inf)` to always print all columns, regardless\n",
    "    of the width of the screen.\n",
    "\n",
    "You can see a complete list of options by looking at the package help with `package?tibble`.\n",
    "\n",
    "A final option is to use RStudio’s built-in data viewer to get a scrollable view of the complete dataset. This is also often useful at the end of a long chain of manipulations."
   ]
  },
  {
   "cell_type": "code",
   "execution_count": 12,
   "metadata": {
    "ExecuteTime": {
     "end_time": "2020-02-05T06:55:38.358627Z",
     "start_time": "2020-02-05T06:55:38.193Z"
    },
    "collapsed": true,
    "hidden": true
   },
   "outputs": [
    {
     "ename": "ERROR",
     "evalue": "Error in View(.): 'View()' not yet supported in the Jupyter R kernel\n",
     "output_type": "error",
     "traceback": [
      "Error in View(.): 'View()' not yet supported in the Jupyter R kernel\nTraceback:\n",
      "1. nycflights13::flights %>% View()",
      "2. withVisible(eval(quote(`_fseq`(`_lhs`)), env, env))",
      "3. eval(quote(`_fseq`(`_lhs`)), env, env)",
      "4. eval(quote(`_fseq`(`_lhs`)), env, env)",
      "5. `_fseq`(`_lhs`)",
      "6. freduce(value, `_function_list`)",
      "7. withVisible(function_list[[k]](value))",
      "8. function_list[[k]](value)",
      "9. View(.)",
      "10. stop(sQuote(\"View()\"), \" not yet supported in the Jupyter R kernel\")"
     ]
    }
   ],
   "source": [
    "nycflights13::flights %>% \n",
    "  View()"
   ]
  },
  {
   "cell_type": "markdown",
   "metadata": {
    "hidden": true
   },
   "source": [
    "### Subsetting"
   ]
  },
  {
   "cell_type": "markdown",
   "metadata": {
    "hidden": true
   },
   "source": [
    "So far all the tools you’ve learned have worked with complete data frames. If you want to pull out a single variable, you need some new tools, `$` and `[[`. `[[` can extract by name or position; `$` only extracts by name but is a little less typing."
   ]
  },
  {
   "cell_type": "code",
   "execution_count": 14,
   "metadata": {
    "ExecuteTime": {
     "end_time": "2020-02-05T06:56:45.856827Z",
     "start_time": "2020-02-05T06:56:45.730Z"
    },
    "hidden": true
   },
   "outputs": [
    {
     "data": {
      "text/html": [
       "<table>\n",
       "<caption>A tibble: 5 × 2</caption>\n",
       "<thead>\n",
       "\t<tr><th scope=col>x</th><th scope=col>y</th></tr>\n",
       "\t<tr><th scope=col>&lt;dbl&gt;</th><th scope=col>&lt;dbl&gt;</th></tr>\n",
       "</thead>\n",
       "<tbody>\n",
       "\t<tr><td>0.6569941</td><td> 0.28198806</td></tr>\n",
       "\t<tr><td>0.7933843</td><td> 0.06036526</td></tr>\n",
       "\t<tr><td>0.5894810</td><td> 0.60885742</td></tr>\n",
       "\t<tr><td>0.8748079</td><td>-0.66456150</td></tr>\n",
       "\t<tr><td>0.4881001</td><td>-0.39967770</td></tr>\n",
       "</tbody>\n",
       "</table>\n"
      ],
      "text/latex": [
       "A tibble: 5 × 2\n",
       "\\begin{tabular}{ll}\n",
       " x & y\\\\\n",
       " <dbl> & <dbl>\\\\\n",
       "\\hline\n",
       "\t 0.6569941 &  0.28198806\\\\\n",
       "\t 0.7933843 &  0.06036526\\\\\n",
       "\t 0.5894810 &  0.60885742\\\\\n",
       "\t 0.8748079 & -0.66456150\\\\\n",
       "\t 0.4881001 & -0.39967770\\\\\n",
       "\\end{tabular}\n"
      ],
      "text/markdown": [
       "\n",
       "A tibble: 5 × 2\n",
       "\n",
       "| x &lt;dbl&gt; | y &lt;dbl&gt; |\n",
       "|---|---|\n",
       "| 0.6569941 |  0.28198806 |\n",
       "| 0.7933843 |  0.06036526 |\n",
       "| 0.5894810 |  0.60885742 |\n",
       "| 0.8748079 | -0.66456150 |\n",
       "| 0.4881001 | -0.39967770 |\n",
       "\n"
      ],
      "text/plain": [
       "  x         y          \n",
       "1 0.6569941  0.28198806\n",
       "2 0.7933843  0.06036526\n",
       "3 0.5894810  0.60885742\n",
       "4 0.8748079 -0.66456150\n",
       "5 0.4881001 -0.39967770"
      ]
     },
     "metadata": {},
     "output_type": "display_data"
    }
   ],
   "source": [
    "(df <- tibble(\n",
    "  x = runif(5),\n",
    "  y = rnorm(5)\n",
    "))"
   ]
  },
  {
   "cell_type": "code",
   "execution_count": 15,
   "metadata": {
    "ExecuteTime": {
     "end_time": "2020-02-05T06:57:07.015762Z",
     "start_time": "2020-02-05T06:57:06.941Z"
    },
    "hidden": true
   },
   "outputs": [
    {
     "data": {
      "text/html": [
       "<style>\n",
       ".list-inline {list-style: none; margin:0; padding: 0}\n",
       ".list-inline>li {display: inline-block}\n",
       ".list-inline>li:not(:last-child)::after {content: \"\\00b7\"; padding: 0 .5ex}\n",
       "</style>\n",
       "<ol class=list-inline><li>0.656994078774005</li><li>0.793384342454374</li><li>0.589481024304405</li><li>0.874807897023857</li><li>0.488100144313648</li></ol>\n"
      ],
      "text/latex": [
       "\\begin{enumerate*}\n",
       "\\item 0.656994078774005\n",
       "\\item 0.793384342454374\n",
       "\\item 0.589481024304405\n",
       "\\item 0.874807897023857\n",
       "\\item 0.488100144313648\n",
       "\\end{enumerate*}\n"
      ],
      "text/markdown": [
       "1. 0.656994078774005\n",
       "2. 0.793384342454374\n",
       "3. 0.589481024304405\n",
       "4. 0.874807897023857\n",
       "5. 0.488100144313648\n",
       "\n",
       "\n"
      ],
      "text/plain": [
       "[1] 0.6569941 0.7933843 0.5894810 0.8748079 0.4881001"
      ]
     },
     "metadata": {},
     "output_type": "display_data"
    }
   ],
   "source": [
    "# Extract by name\n",
    "df$x\n",
    "#> [1] 0.7330 0.2344 0.6604 0.0329 0.4605"
   ]
  },
  {
   "cell_type": "code",
   "execution_count": 16,
   "metadata": {
    "ExecuteTime": {
     "end_time": "2020-02-05T06:57:08.068745Z",
     "start_time": "2020-02-05T06:57:07.981Z"
    },
    "hidden": true
   },
   "outputs": [
    {
     "data": {
      "text/html": [
       "<style>\n",
       ".list-inline {list-style: none; margin:0; padding: 0}\n",
       ".list-inline>li {display: inline-block}\n",
       ".list-inline>li:not(:last-child)::after {content: \"\\00b7\"; padding: 0 .5ex}\n",
       "</style>\n",
       "<ol class=list-inline><li>0.656994078774005</li><li>0.793384342454374</li><li>0.589481024304405</li><li>0.874807897023857</li><li>0.488100144313648</li></ol>\n"
      ],
      "text/latex": [
       "\\begin{enumerate*}\n",
       "\\item 0.656994078774005\n",
       "\\item 0.793384342454374\n",
       "\\item 0.589481024304405\n",
       "\\item 0.874807897023857\n",
       "\\item 0.488100144313648\n",
       "\\end{enumerate*}\n"
      ],
      "text/markdown": [
       "1. 0.656994078774005\n",
       "2. 0.793384342454374\n",
       "3. 0.589481024304405\n",
       "4. 0.874807897023857\n",
       "5. 0.488100144313648\n",
       "\n",
       "\n"
      ],
      "text/plain": [
       "[1] 0.6569941 0.7933843 0.5894810 0.8748079 0.4881001"
      ]
     },
     "metadata": {},
     "output_type": "display_data"
    }
   ],
   "source": [
    "df[[\"x\"]]\n",
    "#> [1] 0.7330 0.2344 0.6604 0.0329 0.4605"
   ]
  },
  {
   "cell_type": "code",
   "execution_count": 17,
   "metadata": {
    "ExecuteTime": {
     "end_time": "2020-02-05T06:57:16.402772Z",
     "start_time": "2020-02-05T06:57:16.266Z"
    },
    "hidden": true
   },
   "outputs": [
    {
     "data": {
      "text/html": [
       "<style>\n",
       ".list-inline {list-style: none; margin:0; padding: 0}\n",
       ".list-inline>li {display: inline-block}\n",
       ".list-inline>li:not(:last-child)::after {content: \"\\00b7\"; padding: 0 .5ex}\n",
       "</style>\n",
       "<ol class=list-inline><li>0.656994078774005</li><li>0.793384342454374</li><li>0.589481024304405</li><li>0.874807897023857</li><li>0.488100144313648</li></ol>\n"
      ],
      "text/latex": [
       "\\begin{enumerate*}\n",
       "\\item 0.656994078774005\n",
       "\\item 0.793384342454374\n",
       "\\item 0.589481024304405\n",
       "\\item 0.874807897023857\n",
       "\\item 0.488100144313648\n",
       "\\end{enumerate*}\n"
      ],
      "text/markdown": [
       "1. 0.656994078774005\n",
       "2. 0.793384342454374\n",
       "3. 0.589481024304405\n",
       "4. 0.874807897023857\n",
       "5. 0.488100144313648\n",
       "\n",
       "\n"
      ],
      "text/plain": [
       "[1] 0.6569941 0.7933843 0.5894810 0.8748079 0.4881001"
      ]
     },
     "metadata": {},
     "output_type": "display_data"
    }
   ],
   "source": [
    "# Extract by position\n",
    "df[[1]]\n",
    "#> [1] 0.7330 0.2344 0.6604 0.0329 0.4605"
   ]
  },
  {
   "cell_type": "markdown",
   "metadata": {
    "hidden": true
   },
   "source": [
    "<font color = 'green'><b>To use these in a pipe, you’ll need to use the special placeholder .:</b></font>"
   ]
  },
  {
   "cell_type": "code",
   "execution_count": 20,
   "metadata": {
    "ExecuteTime": {
     "end_time": "2020-02-05T06:59:43.056566Z",
     "start_time": "2020-02-05T06:59:42.940Z"
    },
    "hidden": true
   },
   "outputs": [
    {
     "data": {
      "text/html": [
       "<style>\n",
       ".list-inline {list-style: none; margin:0; padding: 0}\n",
       ".list-inline>li {display: inline-block}\n",
       ".list-inline>li:not(:last-child)::after {content: \"\\00b7\"; padding: 0 .5ex}\n",
       "</style>\n",
       "<ol class=list-inline><li>0.656994078774005</li><li>0.793384342454374</li><li>0.589481024304405</li><li>0.874807897023857</li><li>0.488100144313648</li></ol>\n"
      ],
      "text/latex": [
       "\\begin{enumerate*}\n",
       "\\item 0.656994078774005\n",
       "\\item 0.793384342454374\n",
       "\\item 0.589481024304405\n",
       "\\item 0.874807897023857\n",
       "\\item 0.488100144313648\n",
       "\\end{enumerate*}\n"
      ],
      "text/markdown": [
       "1. 0.656994078774005\n",
       "2. 0.793384342454374\n",
       "3. 0.589481024304405\n",
       "4. 0.874807897023857\n",
       "5. 0.488100144313648\n",
       "\n",
       "\n"
      ],
      "text/plain": [
       "[1] 0.6569941 0.7933843 0.5894810 0.8748079 0.4881001"
      ]
     },
     "metadata": {},
     "output_type": "display_data"
    }
   ],
   "source": [
    "df %>% .$x\n",
    "#> [1] 0.7330 0.2344 0.6604 0.0329 0.4605"
   ]
  },
  {
   "cell_type": "code",
   "execution_count": 19,
   "metadata": {
    "ExecuteTime": {
     "end_time": "2020-02-05T06:59:41.966241Z",
     "start_time": "2020-02-05T06:59:41.864Z"
    },
    "hidden": true
   },
   "outputs": [
    {
     "data": {
      "text/html": [
       "<style>\n",
       ".list-inline {list-style: none; margin:0; padding: 0}\n",
       ".list-inline>li {display: inline-block}\n",
       ".list-inline>li:not(:last-child)::after {content: \"\\00b7\"; padding: 0 .5ex}\n",
       "</style>\n",
       "<ol class=list-inline><li>0.656994078774005</li><li>0.793384342454374</li><li>0.589481024304405</li><li>0.874807897023857</li><li>0.488100144313648</li></ol>\n"
      ],
      "text/latex": [
       "\\begin{enumerate*}\n",
       "\\item 0.656994078774005\n",
       "\\item 0.793384342454374\n",
       "\\item 0.589481024304405\n",
       "\\item 0.874807897023857\n",
       "\\item 0.488100144313648\n",
       "\\end{enumerate*}\n"
      ],
      "text/markdown": [
       "1. 0.656994078774005\n",
       "2. 0.793384342454374\n",
       "3. 0.589481024304405\n",
       "4. 0.874807897023857\n",
       "5. 0.488100144313648\n",
       "\n",
       "\n"
      ],
      "text/plain": [
       "[1] 0.6569941 0.7933843 0.5894810 0.8748079 0.4881001"
      ]
     },
     "metadata": {},
     "output_type": "display_data"
    }
   ],
   "source": [
    "df %>% .[[\"x\"]]\n",
    "#> [1] 0.7330 0.2344 0.6604 0.0329 0.4605"
   ]
  },
  {
   "cell_type": "markdown",
   "metadata": {
    "hidden": true
   },
   "source": [
    "Compared to a data.frame, tibbles are more strict: they never do partial matching, and they will generate a warning if the column you are trying to access does not exist."
   ]
  },
  {
   "cell_type": "markdown",
   "metadata": {
    "heading_collapsed": true,
    "hidden": true
   },
   "source": [
    "## Interacting with older code"
   ]
  },
  {
   "cell_type": "markdown",
   "metadata": {
    "hidden": true
   },
   "source": [
    "Some older functions don’t work with tibbles. If you encounter one of these functions, use `as.data.frame()` to turn a tibble back to a `data.frame`:"
   ]
  },
  {
   "cell_type": "code",
   "execution_count": 21,
   "metadata": {
    "ExecuteTime": {
     "end_time": "2020-02-05T07:00:31.562397Z",
     "start_time": "2020-02-05T07:00:31.444Z"
    },
    "hidden": true
   },
   "outputs": [
    {
     "data": {
      "text/html": [
       "'data.frame'"
      ],
      "text/latex": [
       "'data.frame'"
      ],
      "text/markdown": [
       "'data.frame'"
      ],
      "text/plain": [
       "[1] \"data.frame\""
      ]
     },
     "metadata": {},
     "output_type": "display_data"
    }
   ],
   "source": [
    "class(as.data.frame(tb))\n",
    "#> [1] \"data.frame\""
   ]
  },
  {
   "cell_type": "markdown",
   "metadata": {
    "hidden": true
   },
   "source": [
    "The main reason that some older functions don’t work with tibble is the `[` function. \n",
    "\n",
    "We don’t use `[` much in this book because `dplyr::filter()` and `dplyr::select()` allow you to solve the same problems with clearer code (but you will learn a little about it in [vector subsetting](https://r4ds.had.co.nz/vectors.html#vector-subsetting)). \n",
    "\n",
    "With base R data frames, `[` sometimes returns a data frame, and sometimes returns a vector. With tibbles, `[` always returns another tibble."
   ]
  },
  {
   "cell_type": "markdown",
   "metadata": {
    "heading_collapsed": true,
    "hidden": true
   },
   "source": [
    "## Exercises"
   ]
  },
  {
   "cell_type": "markdown",
   "metadata": {
    "hidden": true
   },
   "source": [
    "1.  How can you tell if an object is a tibble? (Hint: try printing `mtcars`,\n",
    "    which is a regular data frame)."
   ]
  },
  {
   "cell_type": "markdown",
   "metadata": {
    "hidden": true
   },
   "source": [
    "But when we first convert `mtcars` to a tibble using `as_tibble()`, it prints on the\n",
    "first ten observations. There are also some other differences in formatting\n",
    "of the printed data frame."
   ]
  },
  {
   "cell_type": "code",
   "execution_count": 23,
   "metadata": {
    "ExecuteTime": {
     "end_time": "2020-02-05T07:04:38.647058Z",
     "start_time": "2020-02-05T07:04:38.507Z"
    },
    "hidden": true
   },
   "outputs": [
    {
     "data": {
      "text/html": [
       "<table>\n",
       "<caption>A tibble: 6 × 11</caption>\n",
       "<thead>\n",
       "\t<tr><th scope=col>mpg</th><th scope=col>cyl</th><th scope=col>disp</th><th scope=col>hp</th><th scope=col>drat</th><th scope=col>wt</th><th scope=col>qsec</th><th scope=col>vs</th><th scope=col>am</th><th scope=col>gear</th><th scope=col>carb</th></tr>\n",
       "\t<tr><th scope=col>&lt;dbl&gt;</th><th scope=col>&lt;dbl&gt;</th><th scope=col>&lt;dbl&gt;</th><th scope=col>&lt;dbl&gt;</th><th scope=col>&lt;dbl&gt;</th><th scope=col>&lt;dbl&gt;</th><th scope=col>&lt;dbl&gt;</th><th scope=col>&lt;dbl&gt;</th><th scope=col>&lt;dbl&gt;</th><th scope=col>&lt;dbl&gt;</th><th scope=col>&lt;dbl&gt;</th></tr>\n",
       "</thead>\n",
       "<tbody>\n",
       "\t<tr><td>21.0</td><td>6</td><td>160</td><td>110</td><td>3.90</td><td>2.620</td><td>16.46</td><td>0</td><td>1</td><td>4</td><td>4</td></tr>\n",
       "\t<tr><td>21.0</td><td>6</td><td>160</td><td>110</td><td>3.90</td><td>2.875</td><td>17.02</td><td>0</td><td>1</td><td>4</td><td>4</td></tr>\n",
       "\t<tr><td>22.8</td><td>4</td><td>108</td><td> 93</td><td>3.85</td><td>2.320</td><td>18.61</td><td>1</td><td>1</td><td>4</td><td>1</td></tr>\n",
       "\t<tr><td>21.4</td><td>6</td><td>258</td><td>110</td><td>3.08</td><td>3.215</td><td>19.44</td><td>1</td><td>0</td><td>3</td><td>1</td></tr>\n",
       "\t<tr><td>18.7</td><td>8</td><td>360</td><td>175</td><td>3.15</td><td>3.440</td><td>17.02</td><td>0</td><td>0</td><td>3</td><td>2</td></tr>\n",
       "\t<tr><td>18.1</td><td>6</td><td>225</td><td>105</td><td>2.76</td><td>3.460</td><td>20.22</td><td>1</td><td>0</td><td>3</td><td>1</td></tr>\n",
       "</tbody>\n",
       "</table>\n"
      ],
      "text/latex": [
       "A tibble: 6 × 11\n",
       "\\begin{tabular}{lllllllllll}\n",
       " mpg & cyl & disp & hp & drat & wt & qsec & vs & am & gear & carb\\\\\n",
       " <dbl> & <dbl> & <dbl> & <dbl> & <dbl> & <dbl> & <dbl> & <dbl> & <dbl> & <dbl> & <dbl>\\\\\n",
       "\\hline\n",
       "\t 21.0 & 6 & 160 & 110 & 3.90 & 2.620 & 16.46 & 0 & 1 & 4 & 4\\\\\n",
       "\t 21.0 & 6 & 160 & 110 & 3.90 & 2.875 & 17.02 & 0 & 1 & 4 & 4\\\\\n",
       "\t 22.8 & 4 & 108 &  93 & 3.85 & 2.320 & 18.61 & 1 & 1 & 4 & 1\\\\\n",
       "\t 21.4 & 6 & 258 & 110 & 3.08 & 3.215 & 19.44 & 1 & 0 & 3 & 1\\\\\n",
       "\t 18.7 & 8 & 360 & 175 & 3.15 & 3.440 & 17.02 & 0 & 0 & 3 & 2\\\\\n",
       "\t 18.1 & 6 & 225 & 105 & 2.76 & 3.460 & 20.22 & 1 & 0 & 3 & 1\\\\\n",
       "\\end{tabular}\n"
      ],
      "text/markdown": [
       "\n",
       "A tibble: 6 × 11\n",
       "\n",
       "| mpg &lt;dbl&gt; | cyl &lt;dbl&gt; | disp &lt;dbl&gt; | hp &lt;dbl&gt; | drat &lt;dbl&gt; | wt &lt;dbl&gt; | qsec &lt;dbl&gt; | vs &lt;dbl&gt; | am &lt;dbl&gt; | gear &lt;dbl&gt; | carb &lt;dbl&gt; |\n",
       "|---|---|---|---|---|---|---|---|---|---|---|\n",
       "| 21.0 | 6 | 160 | 110 | 3.90 | 2.620 | 16.46 | 0 | 1 | 4 | 4 |\n",
       "| 21.0 | 6 | 160 | 110 | 3.90 | 2.875 | 17.02 | 0 | 1 | 4 | 4 |\n",
       "| 22.8 | 4 | 108 |  93 | 3.85 | 2.320 | 18.61 | 1 | 1 | 4 | 1 |\n",
       "| 21.4 | 6 | 258 | 110 | 3.08 | 3.215 | 19.44 | 1 | 0 | 3 | 1 |\n",
       "| 18.7 | 8 | 360 | 175 | 3.15 | 3.440 | 17.02 | 0 | 0 | 3 | 2 |\n",
       "| 18.1 | 6 | 225 | 105 | 2.76 | 3.460 | 20.22 | 1 | 0 | 3 | 1 |\n",
       "\n"
      ],
      "text/plain": [
       "  mpg  cyl disp hp  drat wt    qsec  vs am gear carb\n",
       "1 21.0 6   160  110 3.90 2.620 16.46 0  1  4    4   \n",
       "2 21.0 6   160  110 3.90 2.875 17.02 0  1  4    4   \n",
       "3 22.8 4   108   93 3.85 2.320 18.61 1  1  4    1   \n",
       "4 21.4 6   258  110 3.08 3.215 19.44 1  0  3    1   \n",
       "5 18.7 8   360  175 3.15 3.440 17.02 0  0  3    2   \n",
       "6 18.1 6   225  105 2.76 3.460 20.22 1  0  3    1   "
      ]
     },
     "metadata": {},
     "output_type": "display_data"
    }
   ],
   "source": [
    "as_tibble(mtcars) %>% head"
   ]
  },
  {
   "cell_type": "markdown",
   "metadata": {
    "hidden": true
   },
   "source": [
    "You can use the function `is_tibble()` to check whether a data frame is a tibble or not.\n",
    "The `mtcars` data frame is not a tibble."
   ]
  },
  {
   "cell_type": "code",
   "execution_count": 25,
   "metadata": {
    "ExecuteTime": {
     "end_time": "2020-02-05T07:05:55.767524Z",
     "start_time": "2020-02-05T07:05:55.643Z"
    },
    "hidden": true
   },
   "outputs": [
    {
     "data": {
      "text/html": [
       "FALSE"
      ],
      "text/latex": [
       "FALSE"
      ],
      "text/markdown": [
       "FALSE"
      ],
      "text/plain": [
       "[1] FALSE"
      ]
     },
     "metadata": {},
     "output_type": "display_data"
    },
    {
     "data": {
      "text/html": [
       "TRUE"
      ],
      "text/latex": [
       "TRUE"
      ],
      "text/markdown": [
       "TRUE"
      ],
      "text/plain": [
       "[1] TRUE"
      ]
     },
     "metadata": {},
     "output_type": "display_data"
    }
   ],
   "source": [
    "is_tibble(mtcars)\n",
    "is_tibble(as_tibble(mtcars))\n",
    "\n",
    "\n",
    "# But the diamonds and flights data are tibbles.\n",
    "is_tibble(ggplot2::diamonds)\n",
    "#> [1] TRUE\n",
    "is_tibble(nycflights13::flights)\n",
    "#> [1] TRUE\n",
    "is_tibble(as_tibble(mtcars))\n",
    "#> [1] TRUE"
   ]
  },
  {
   "cell_type": "markdown",
   "metadata": {
    "hidden": true
   },
   "source": [
    "More generally, you can use the `class()` function to find out the class of an\n",
    "object. Tibbles has the classes `c(\"tbl_df\", \"tbl\", \"data.frame\")`, while old\n",
    "data frames will only have the class `\"data.frame\"`."
   ]
  },
  {
   "cell_type": "code",
   "execution_count": 26,
   "metadata": {
    "ExecuteTime": {
     "end_time": "2020-02-05T07:06:18.540761Z",
     "start_time": "2020-02-05T07:06:18.289Z"
    },
    "hidden": true
   },
   "outputs": [
    {
     "data": {
      "text/html": [
       "'data.frame'"
      ],
      "text/latex": [
       "'data.frame'"
      ],
      "text/markdown": [
       "'data.frame'"
      ],
      "text/plain": [
       "[1] \"data.frame\""
      ]
     },
     "metadata": {},
     "output_type": "display_data"
    },
    {
     "data": {
      "text/html": [
       "<style>\n",
       ".list-inline {list-style: none; margin:0; padding: 0}\n",
       ".list-inline>li {display: inline-block}\n",
       ".list-inline>li:not(:last-child)::after {content: \"\\00b7\"; padding: 0 .5ex}\n",
       "</style>\n",
       "<ol class=list-inline><li>'tbl_df'</li><li>'tbl'</li><li>'data.frame'</li></ol>\n"
      ],
      "text/latex": [
       "\\begin{enumerate*}\n",
       "\\item 'tbl\\_df'\n",
       "\\item 'tbl'\n",
       "\\item 'data.frame'\n",
       "\\end{enumerate*}\n"
      ],
      "text/markdown": [
       "1. 'tbl_df'\n",
       "2. 'tbl'\n",
       "3. 'data.frame'\n",
       "\n",
       "\n"
      ],
      "text/plain": [
       "[1] \"tbl_df\"     \"tbl\"        \"data.frame\""
      ]
     },
     "metadata": {},
     "output_type": "display_data"
    },
    {
     "data": {
      "text/html": [
       "<style>\n",
       ".list-inline {list-style: none; margin:0; padding: 0}\n",
       ".list-inline>li {display: inline-block}\n",
       ".list-inline>li:not(:last-child)::after {content: \"\\00b7\"; padding: 0 .5ex}\n",
       "</style>\n",
       "<ol class=list-inline><li>'tbl_df'</li><li>'tbl'</li><li>'data.frame'</li></ol>\n"
      ],
      "text/latex": [
       "\\begin{enumerate*}\n",
       "\\item 'tbl\\_df'\n",
       "\\item 'tbl'\n",
       "\\item 'data.frame'\n",
       "\\end{enumerate*}\n"
      ],
      "text/markdown": [
       "1. 'tbl_df'\n",
       "2. 'tbl'\n",
       "3. 'data.frame'\n",
       "\n",
       "\n"
      ],
      "text/plain": [
       "[1] \"tbl_df\"     \"tbl\"        \"data.frame\""
      ]
     },
     "metadata": {},
     "output_type": "display_data"
    }
   ],
   "source": [
    "class(mtcars)\n",
    "#> [1] \"data.frame\"\n",
    "class(ggplot2::diamonds)\n",
    "#> [1] \"tbl_df\"     \"tbl\"        \"data.frame\"\n",
    "class(nycflights13::flights)\n",
    "#> [1] \"tbl_df\"     \"tbl\"        \"data.frame\""
   ]
  },
  {
   "cell_type": "markdown",
   "metadata": {
    "hidden": true
   },
   "source": [
    "2.  Compare and contrast the following operations on a `data.frame` and\n",
    "    equivalent tibble. What is different? Why might the default data frame\n",
    "    behaviours cause you frustration?"
   ]
  },
  {
   "cell_type": "code",
   "execution_count": 29,
   "metadata": {
    "ExecuteTime": {
     "end_time": "2020-02-05T07:07:27.030273Z",
     "start_time": "2020-02-05T07:07:26.902Z"
    },
    "hidden": true
   },
   "outputs": [
    {
     "data": {
      "text/html": [
       "<table>\n",
       "<caption>A data.frame: 1 × 2</caption>\n",
       "<thead>\n",
       "\t<tr><th scope=col>abc</th><th scope=col>xyz</th></tr>\n",
       "\t<tr><th scope=col>&lt;dbl&gt;</th><th scope=col>&lt;fct&gt;</th></tr>\n",
       "</thead>\n",
       "<tbody>\n",
       "\t<tr><td>1</td><td>a</td></tr>\n",
       "</tbody>\n",
       "</table>\n"
      ],
      "text/latex": [
       "A data.frame: 1 × 2\n",
       "\\begin{tabular}{ll}\n",
       " abc & xyz\\\\\n",
       " <dbl> & <fct>\\\\\n",
       "\\hline\n",
       "\t 1 & a\\\\\n",
       "\\end{tabular}\n"
      ],
      "text/markdown": [
       "\n",
       "A data.frame: 1 × 2\n",
       "\n",
       "| abc &lt;dbl&gt; | xyz &lt;fct&gt; |\n",
       "|---|---|\n",
       "| 1 | a |\n",
       "\n"
      ],
      "text/plain": [
       "  abc xyz\n",
       "1 1   a  "
      ]
     },
     "metadata": {},
     "output_type": "display_data"
    }
   ],
   "source": [
    "(df <- data.frame(abc = 1, xyz = \"a\"))"
   ]
  },
  {
   "cell_type": "code",
   "execution_count": 36,
   "metadata": {
    "ExecuteTime": {
     "end_time": "2020-02-05T07:10:52.671644Z",
     "start_time": "2020-02-05T07:10:52.520Z"
    },
    "hidden": true
   },
   "outputs": [
    {
     "data": {
      "text/html": [
       "a\n",
       "<details>\n",
       "\t<summary style=display:list-item;cursor:pointer>\n",
       "\t\t<strong>Levels</strong>:\n",
       "\t</summary>\n",
       "\t'a'\n",
       "</details>"
      ],
      "text/latex": [
       "a\n",
       "\\emph{Levels}: 'a'"
      ],
      "text/markdown": [
       "a\n",
       "**Levels**: 'a'"
      ],
      "text/plain": [
       "[1] a\n",
       "Levels: a"
      ]
     },
     "metadata": {},
     "output_type": "display_data"
    },
    {
     "data": {
      "text/html": [
       "a\n",
       "<details>\n",
       "\t<summary style=display:list-item;cursor:pointer>\n",
       "\t\t<strong>Levels</strong>:\n",
       "\t</summary>\n",
       "\t'a'\n",
       "</details>"
      ],
      "text/latex": [
       "a\n",
       "\\emph{Levels}: 'a'"
      ],
      "text/markdown": [
       "a\n",
       "**Levels**: 'a'"
      ],
      "text/plain": [
       "[1] a\n",
       "Levels: a"
      ]
     },
     "metadata": {},
     "output_type": "display_data"
    },
    {
     "data": {
      "text/html": [
       "<table>\n",
       "<caption>A data.frame: 1 × 2</caption>\n",
       "<thead>\n",
       "\t<tr><th scope=col>abc</th><th scope=col>xyz</th></tr>\n",
       "\t<tr><th scope=col>&lt;dbl&gt;</th><th scope=col>&lt;fct&gt;</th></tr>\n",
       "</thead>\n",
       "<tbody>\n",
       "\t<tr><td>1</td><td>a</td></tr>\n",
       "</tbody>\n",
       "</table>\n"
      ],
      "text/latex": [
       "A data.frame: 1 × 2\n",
       "\\begin{tabular}{ll}\n",
       " abc & xyz\\\\\n",
       " <dbl> & <fct>\\\\\n",
       "\\hline\n",
       "\t 1 & a\\\\\n",
       "\\end{tabular}\n"
      ],
      "text/markdown": [
       "\n",
       "A data.frame: 1 × 2\n",
       "\n",
       "| abc &lt;dbl&gt; | xyz &lt;fct&gt; |\n",
       "|---|---|\n",
       "| 1 | a |\n",
       "\n"
      ],
      "text/plain": [
       "  abc xyz\n",
       "1 1   a  "
      ]
     },
     "metadata": {},
     "output_type": "display_data"
    }
   ],
   "source": [
    "df$x\n",
    "#> [1] a\n",
    "#> Levels: a\n",
    "df[, \"xyz\"]\n",
    "#> [1] a\n",
    "#> Levels: a\n",
    "df[, c(\"abc\", \"xyz\")]\n",
    "#>   abc xyz\n",
    "#> 1   1   a"
   ]
  },
  {
   "cell_type": "code",
   "execution_count": 34,
   "metadata": {
    "ExecuteTime": {
     "end_time": "2020-02-05T07:08:55.997201Z",
     "start_time": "2020-02-05T07:08:55.815Z"
    },
    "hidden": true
   },
   "outputs": [
    {
     "name": "stderr",
     "output_type": "stream",
     "text": [
      "Warning message:\n",
      "\"Unknown or uninitialised column: 'x'.\"\n"
     ]
    },
    {
     "data": {
      "text/plain": [
       "NULL"
      ]
     },
     "metadata": {},
     "output_type": "display_data"
    },
    {
     "data": {
      "text/html": [
       "<table>\n",
       "<caption>A tibble: 1 × 1</caption>\n",
       "<thead>\n",
       "\t<tr><th scope=col>xyz</th></tr>\n",
       "\t<tr><th scope=col>&lt;fct&gt;</th></tr>\n",
       "</thead>\n",
       "<tbody>\n",
       "\t<tr><td>a</td></tr>\n",
       "</tbody>\n",
       "</table>\n"
      ],
      "text/latex": [
       "A tibble: 1 × 1\n",
       "\\begin{tabular}{l}\n",
       " xyz\\\\\n",
       " <fct>\\\\\n",
       "\\hline\n",
       "\t a\\\\\n",
       "\\end{tabular}\n"
      ],
      "text/markdown": [
       "\n",
       "A tibble: 1 × 1\n",
       "\n",
       "| xyz &lt;fct&gt; |\n",
       "|---|\n",
       "| a |\n",
       "\n"
      ],
      "text/plain": [
       "  xyz\n",
       "1 a  "
      ]
     },
     "metadata": {},
     "output_type": "display_data"
    },
    {
     "data": {
      "text/html": [
       "<table>\n",
       "<caption>A tibble: 1 × 2</caption>\n",
       "<thead>\n",
       "\t<tr><th scope=col>abc</th><th scope=col>xyz</th></tr>\n",
       "\t<tr><th scope=col>&lt;dbl&gt;</th><th scope=col>&lt;fct&gt;</th></tr>\n",
       "</thead>\n",
       "<tbody>\n",
       "\t<tr><td>1</td><td>a</td></tr>\n",
       "</tbody>\n",
       "</table>\n"
      ],
      "text/latex": [
       "A tibble: 1 × 2\n",
       "\\begin{tabular}{ll}\n",
       " abc & xyz\\\\\n",
       " <dbl> & <fct>\\\\\n",
       "\\hline\n",
       "\t 1 & a\\\\\n",
       "\\end{tabular}\n"
      ],
      "text/markdown": [
       "\n",
       "A tibble: 1 × 2\n",
       "\n",
       "| abc &lt;dbl&gt; | xyz &lt;fct&gt; |\n",
       "|---|---|\n",
       "| 1 | a |\n",
       "\n"
      ],
      "text/plain": [
       "  abc xyz\n",
       "1 1   a  "
      ]
     },
     "metadata": {},
     "output_type": "display_data"
    }
   ],
   "source": [
    "tbl <- as_tibble(df)\n",
    "tbl$x\n",
    "#> Warning: Unknown or uninitialised column: 'x'.\n",
    "#> NULL\n",
    "tbl[, \"xyz\"]\n",
    "#> # A tibble: 1 x 1\n",
    "#>   xyz  \n",
    "#>   <fct>\n",
    "#> 1 a\n",
    "tbl[, c(\"abc\", \"xyz\")]\n",
    "#> # A tibble: 1 x 2\n",
    "#>     abc xyz  \n",
    "#>   <dbl> <fct>\n",
    "#> 1     1 a"
   ]
  },
  {
   "cell_type": "markdown",
   "metadata": {
    "hidden": true
   },
   "source": [
    "The `$` operator will match any column name that starts with the name following it.\n",
    "Since there is a column named `xyz`, the expression `df$x` will be expanded to `df$xyz`.\n",
    "This behavior of the `$` operator saves a few keystrokes, but it can result in accidentally \n",
    "<hypothesis-highlight class=\"annotator-hl\">using a</hypothesis-highlight> different column than you thought you were using.\n",
    "\n",
    "With data.frames, with `[` the type of object that is returned differs on the\n",
    "number of columns. If it is one column, it won’t return a data.frame, but\n",
    "instead will return a vector. With more than one column, then it will return a\n",
    "data.frame. This is fine if you know what you are passing in, but suppose you\n",
    "did `df[ , vars]` where `vars` was a variable. Then what that code does\n",
    "depends on `length(vars)` and you’d have to write code to account for those\n",
    "situations or risk bugs."
   ]
  },
  {
   "cell_type": "markdown",
   "metadata": {
    "hidden": true
   },
   "source": [
    "3.  If you have the name of a variable stored in an object, e.g. `var <- \"mpg\"`,\n",
    "    how can you extract the reference variable from a tibble?"
   ]
  },
  {
   "cell_type": "markdown",
   "metadata": {
    "hidden": true
   },
   "source": [
    "You can use the double bracket, like `df[[var]]`. You cannot use the dollar sign, because `df$var` would look for a column named `var`."
   ]
  },
  {
   "cell_type": "markdown",
   "metadata": {
    "hidden": true
   },
   "source": [
    "4.  Practice referring to non-syntactic names in the following data frame by:\n",
    "    1.  Extracting the variable called `1`.\n",
    "\n",
    "    2.  Plotting a scatterplot of `1` vs `2`.\n",
    "\n",
    "    3.  Creating a new column called `3` which is `2` divided by `1`.\n",
    "\n",
    "    4.  Renaming the columns to `one`, `two` and `three`.\n",
    "\n",
    "\n",
    "```sourceCode"
   ]
  },
  {
   "cell_type": "code",
   "execution_count": 38,
   "metadata": {
    "ExecuteTime": {
     "end_time": "2020-02-05T07:12:27.205065Z",
     "start_time": "2020-02-05T07:12:27.077Z"
    },
    "collapsed": true,
    "hidden": true
   },
   "outputs": [
    {
     "data": {
      "text/html": [
       "<table>\n",
       "<caption>A tibble: 10 × 2</caption>\n",
       "<thead>\n",
       "\t<tr><th scope=col>1</th><th scope=col>2</th></tr>\n",
       "\t<tr><th scope=col>&lt;int&gt;</th><th scope=col>&lt;dbl&gt;</th></tr>\n",
       "</thead>\n",
       "<tbody>\n",
       "\t<tr><td> 1</td><td> 3.378387</td></tr>\n",
       "\t<tr><td> 2</td><td> 7.157514</td></tr>\n",
       "\t<tr><td> 3</td><td> 4.394185</td></tr>\n",
       "\t<tr><td> 4</td><td> 7.251243</td></tr>\n",
       "\t<tr><td> 5</td><td>12.068401</td></tr>\n",
       "\t<tr><td> 6</td><td>12.020555</td></tr>\n",
       "\t<tr><td> 7</td><td>14.901617</td></tr>\n",
       "\t<tr><td> 8</td><td>14.849963</td></tr>\n",
       "\t<tr><td> 9</td><td>18.518154</td></tr>\n",
       "\t<tr><td>10</td><td>17.996118</td></tr>\n",
       "</tbody>\n",
       "</table>\n"
      ],
      "text/latex": [
       "A tibble: 10 × 2\n",
       "\\begin{tabular}{ll}\n",
       " 1 & 2\\\\\n",
       " <int> & <dbl>\\\\\n",
       "\\hline\n",
       "\t  1 &  3.378387\\\\\n",
       "\t  2 &  7.157514\\\\\n",
       "\t  3 &  4.394185\\\\\n",
       "\t  4 &  7.251243\\\\\n",
       "\t  5 & 12.068401\\\\\n",
       "\t  6 & 12.020555\\\\\n",
       "\t  7 & 14.901617\\\\\n",
       "\t  8 & 14.849963\\\\\n",
       "\t  9 & 18.518154\\\\\n",
       "\t 10 & 17.996118\\\\\n",
       "\\end{tabular}\n"
      ],
      "text/markdown": [
       "\n",
       "A tibble: 10 × 2\n",
       "\n",
       "| 1 &lt;int&gt; | 2 &lt;dbl&gt; |\n",
       "|---|---|\n",
       "|  1 |  3.378387 |\n",
       "|  2 |  7.157514 |\n",
       "|  3 |  4.394185 |\n",
       "|  4 |  7.251243 |\n",
       "|  5 | 12.068401 |\n",
       "|  6 | 12.020555 |\n",
       "|  7 | 14.901617 |\n",
       "|  8 | 14.849963 |\n",
       "|  9 | 18.518154 |\n",
       "| 10 | 17.996118 |\n",
       "\n"
      ],
      "text/plain": [
       "   1  2        \n",
       "1   1  3.378387\n",
       "2   2  7.157514\n",
       "3   3  4.394185\n",
       "4   4  7.251243\n",
       "5   5 12.068401\n",
       "6   6 12.020555\n",
       "7   7 14.901617\n",
       "8   8 14.849963\n",
       "9   9 18.518154\n",
       "10 10 17.996118"
      ]
     },
     "metadata": {},
     "output_type": "display_data"
    }
   ],
   "source": [
    "(annoying <- tibble(\n",
    "  `1` = 1:10,\n",
    "  `2` = `1` * 2 + rnorm(length(`1`))\n",
    "))"
   ]
  },
  {
   "cell_type": "code",
   "execution_count": 44,
   "metadata": {
    "ExecuteTime": {
     "end_time": "2020-02-05T07:19:47.941429Z",
     "start_time": "2020-02-05T07:19:47.825Z"
    },
    "hidden": true
   },
   "outputs": [
    {
     "data": {
      "text/html": [
       "<style>\n",
       ".list-inline {list-style: none; margin:0; padding: 0}\n",
       ".list-inline>li {display: inline-block}\n",
       ".list-inline>li:not(:last-child)::after {content: \"\\00b7\"; padding: 0 .5ex}\n",
       "</style>\n",
       "<ol class=list-inline><li>1</li><li>2</li><li>3</li><li>4</li><li>5</li><li>6</li><li>7</li><li>8</li><li>9</li><li>10</li></ol>\n"
      ],
      "text/latex": [
       "\\begin{enumerate*}\n",
       "\\item 1\n",
       "\\item 2\n",
       "\\item 3\n",
       "\\item 4\n",
       "\\item 5\n",
       "\\item 6\n",
       "\\item 7\n",
       "\\item 8\n",
       "\\item 9\n",
       "\\item 10\n",
       "\\end{enumerate*}\n"
      ],
      "text/markdown": [
       "1. 1\n",
       "2. 2\n",
       "3. 3\n",
       "4. 4\n",
       "5. 5\n",
       "6. 6\n",
       "7. 7\n",
       "8. 8\n",
       "9. 9\n",
       "10. 10\n",
       "\n",
       "\n"
      ],
      "text/plain": [
       " [1]  1  2  3  4  5  6  7  8  9 10"
      ]
     },
     "metadata": {},
     "output_type": "display_data"
    },
    {
     "data": {
      "text/html": [
       "<style>\n",
       ".list-inline {list-style: none; margin:0; padding: 0}\n",
       ".list-inline>li {display: inline-block}\n",
       ".list-inline>li:not(:last-child)::after {content: \"\\00b7\"; padding: 0 .5ex}\n",
       "</style>\n",
       "<ol class=list-inline><li>1</li><li>2</li><li>3</li><li>4</li><li>5</li><li>6</li><li>7</li><li>8</li><li>9</li><li>10</li></ol>\n"
      ],
      "text/latex": [
       "\\begin{enumerate*}\n",
       "\\item 1\n",
       "\\item 2\n",
       "\\item 3\n",
       "\\item 4\n",
       "\\item 5\n",
       "\\item 6\n",
       "\\item 7\n",
       "\\item 8\n",
       "\\item 9\n",
       "\\item 10\n",
       "\\end{enumerate*}\n"
      ],
      "text/markdown": [
       "1. 1\n",
       "2. 2\n",
       "3. 3\n",
       "4. 4\n",
       "5. 5\n",
       "6. 6\n",
       "7. 7\n",
       "8. 8\n",
       "9. 9\n",
       "10. 10\n",
       "\n",
       "\n"
      ],
      "text/plain": [
       " [1]  1  2  3  4  5  6  7  8  9 10"
      ]
     },
     "metadata": {},
     "output_type": "display_data"
    }
   ],
   "source": [
    "annoying$`1`\n",
    "\n",
    "annoying[[\"1\"]]"
   ]
  },
  {
   "cell_type": "code",
   "execution_count": 45,
   "metadata": {
    "ExecuteTime": {
     "end_time": "2020-02-05T07:20:20.426313Z",
     "start_time": "2020-02-05T07:20:19.546Z"
    },
    "collapsed": true,
    "hidden": true
   },
   "outputs": [
    {
     "data": {
      "image/png": "[encoded data removed]",
      "text/plain": [
       "plot without title"
      ]
     },
     "metadata": {
      "image/png": {
       "height": 420,
       "width": 420
      }
     },
     "output_type": "display_data"
    }
   ],
   "source": [
    "ggplot(data = annoying, mapping = aes(x = `1`, y = `2`)) +\n",
    "    geom_point()"
   ]
  },
  {
   "cell_type": "code",
   "execution_count": 51,
   "metadata": {
    "ExecuteTime": {
     "end_time": "2020-02-05T07:25:34.771548Z",
     "start_time": "2020-02-05T07:25:34.674Z"
    },
    "hidden": true
   },
   "outputs": [],
   "source": [
    "annoying <- annoying %>% mutate(`3` = `2` / `1`) "
   ]
  },
  {
   "cell_type": "code",
   "execution_count": 50,
   "metadata": {
    "ExecuteTime": {
     "end_time": "2020-02-05T07:25:01.120657Z",
     "start_time": "2020-02-05T07:25:00.990Z"
    },
    "collapsed": true,
    "hidden": true
   },
   "outputs": [
    {
     "data": {
      "text/html": [
       "<table>\n",
       "<caption>A tibble: 10 × 3</caption>\n",
       "<thead>\n",
       "\t<tr><th scope=col>one</th><th scope=col>two</th><th scope=col>three</th></tr>\n",
       "\t<tr><th scope=col>&lt;int&gt;</th><th scope=col>&lt;dbl&gt;</th><th scope=col>&lt;dbl&gt;</th></tr>\n",
       "</thead>\n",
       "<tbody>\n",
       "\t<tr><td> 1</td><td> 3.378387</td><td>3.378387</td></tr>\n",
       "\t<tr><td> 2</td><td> 7.157514</td><td>3.578757</td></tr>\n",
       "\t<tr><td> 3</td><td> 4.394185</td><td>1.464728</td></tr>\n",
       "\t<tr><td> 4</td><td> 7.251243</td><td>1.812811</td></tr>\n",
       "\t<tr><td> 5</td><td>12.068401</td><td>2.413680</td></tr>\n",
       "\t<tr><td> 6</td><td>12.020555</td><td>2.003426</td></tr>\n",
       "\t<tr><td> 7</td><td>14.901617</td><td>2.128802</td></tr>\n",
       "\t<tr><td> 8</td><td>14.849963</td><td>1.856245</td></tr>\n",
       "\t<tr><td> 9</td><td>18.518154</td><td>2.057573</td></tr>\n",
       "\t<tr><td>10</td><td>17.996118</td><td>1.799612</td></tr>\n",
       "</tbody>\n",
       "</table>\n"
      ],
      "text/latex": [
       "A tibble: 10 × 3\n",
       "\\begin{tabular}{lll}\n",
       " one & two & three\\\\\n",
       " <int> & <dbl> & <dbl>\\\\\n",
       "\\hline\n",
       "\t  1 &  3.378387 & 3.378387\\\\\n",
       "\t  2 &  7.157514 & 3.578757\\\\\n",
       "\t  3 &  4.394185 & 1.464728\\\\\n",
       "\t  4 &  7.251243 & 1.812811\\\\\n",
       "\t  5 & 12.068401 & 2.413680\\\\\n",
       "\t  6 & 12.020555 & 2.003426\\\\\n",
       "\t  7 & 14.901617 & 2.128802\\\\\n",
       "\t  8 & 14.849963 & 1.856245\\\\\n",
       "\t  9 & 18.518154 & 2.057573\\\\\n",
       "\t 10 & 17.996118 & 1.799612\\\\\n",
       "\\end{tabular}\n"
      ],
      "text/markdown": [
       "\n",
       "A tibble: 10 × 3\n",
       "\n",
       "| one &lt;int&gt; | two &lt;dbl&gt; | three &lt;dbl&gt; |\n",
       "|---|---|---|\n",
       "|  1 |  3.378387 | 3.378387 |\n",
       "|  2 |  7.157514 | 3.578757 |\n",
       "|  3 |  4.394185 | 1.464728 |\n",
       "|  4 |  7.251243 | 1.812811 |\n",
       "|  5 | 12.068401 | 2.413680 |\n",
       "|  6 | 12.020555 | 2.003426 |\n",
       "|  7 | 14.901617 | 2.128802 |\n",
       "|  8 | 14.849963 | 1.856245 |\n",
       "|  9 | 18.518154 | 2.057573 |\n",
       "| 10 | 17.996118 | 1.799612 |\n",
       "\n"
      ],
      "text/plain": [
       "   one two       three   \n",
       "1   1   3.378387 3.378387\n",
       "2   2   7.157514 3.578757\n",
       "3   3   4.394185 1.464728\n",
       "4   4   7.251243 1.812811\n",
       "5   5  12.068401 2.413680\n",
       "6   6  12.020555 2.003426\n",
       "7   7  14.901617 2.128802\n",
       "8   8  14.849963 1.856245\n",
       "9   9  18.518154 2.057573\n",
       "10 10  17.996118 1.799612"
      ]
     },
     "metadata": {},
     "output_type": "display_data"
    }
   ],
   "source": [
    "annoying %>% mutate(`3` = `2` / `1`) %>% select(one = `1`,two = `2`,three = `3`)"
   ]
  },
  {
   "cell_type": "code",
   "execution_count": 52,
   "metadata": {
    "ExecuteTime": {
     "end_time": "2020-02-05T07:25:48.213139Z",
     "start_time": "2020-02-05T07:25:48.053Z"
    },
    "collapsed": true,
    "hidden": true
   },
   "outputs": [
    {
     "data": {
      "text/html": [
       "<table>\n",
       "<caption>A tibble: 10 × 3</caption>\n",
       "<thead>\n",
       "\t<tr><th scope=col>one</th><th scope=col>two</th><th scope=col>three</th></tr>\n",
       "\t<tr><th scope=col>&lt;int&gt;</th><th scope=col>&lt;dbl&gt;</th><th scope=col>&lt;dbl&gt;</th></tr>\n",
       "</thead>\n",
       "<tbody>\n",
       "\t<tr><td> 1</td><td> 3.378387</td><td>3.378387</td></tr>\n",
       "\t<tr><td> 2</td><td> 7.157514</td><td>3.578757</td></tr>\n",
       "\t<tr><td> 3</td><td> 4.394185</td><td>1.464728</td></tr>\n",
       "\t<tr><td> 4</td><td> 7.251243</td><td>1.812811</td></tr>\n",
       "\t<tr><td> 5</td><td>12.068401</td><td>2.413680</td></tr>\n",
       "\t<tr><td> 6</td><td>12.020555</td><td>2.003426</td></tr>\n",
       "\t<tr><td> 7</td><td>14.901617</td><td>2.128802</td></tr>\n",
       "\t<tr><td> 8</td><td>14.849963</td><td>1.856245</td></tr>\n",
       "\t<tr><td> 9</td><td>18.518154</td><td>2.057573</td></tr>\n",
       "\t<tr><td>10</td><td>17.996118</td><td>1.799612</td></tr>\n",
       "</tbody>\n",
       "</table>\n"
      ],
      "text/latex": [
       "A tibble: 10 × 3\n",
       "\\begin{tabular}{lll}\n",
       " one & two & three\\\\\n",
       " <int> & <dbl> & <dbl>\\\\\n",
       "\\hline\n",
       "\t  1 &  3.378387 & 3.378387\\\\\n",
       "\t  2 &  7.157514 & 3.578757\\\\\n",
       "\t  3 &  4.394185 & 1.464728\\\\\n",
       "\t  4 &  7.251243 & 1.812811\\\\\n",
       "\t  5 & 12.068401 & 2.413680\\\\\n",
       "\t  6 & 12.020555 & 2.003426\\\\\n",
       "\t  7 & 14.901617 & 2.128802\\\\\n",
       "\t  8 & 14.849963 & 1.856245\\\\\n",
       "\t  9 & 18.518154 & 2.057573\\\\\n",
       "\t 10 & 17.996118 & 1.799612\\\\\n",
       "\\end{tabular}\n"
      ],
      "text/markdown": [
       "\n",
       "A tibble: 10 × 3\n",
       "\n",
       "| one &lt;int&gt; | two &lt;dbl&gt; | three &lt;dbl&gt; |\n",
       "|---|---|---|\n",
       "|  1 |  3.378387 | 3.378387 |\n",
       "|  2 |  7.157514 | 3.578757 |\n",
       "|  3 |  4.394185 | 1.464728 |\n",
       "|  4 |  7.251243 | 1.812811 |\n",
       "|  5 | 12.068401 | 2.413680 |\n",
       "|  6 | 12.020555 | 2.003426 |\n",
       "|  7 | 14.901617 | 2.128802 |\n",
       "|  8 | 14.849963 | 1.856245 |\n",
       "|  9 | 18.518154 | 2.057573 |\n",
       "| 10 | 17.996118 | 1.799612 |\n",
       "\n"
      ],
      "text/plain": [
       "   one two       three   \n",
       "1   1   3.378387 3.378387\n",
       "2   2   7.157514 3.578757\n",
       "3   3   4.394185 1.464728\n",
       "4   4   7.251243 1.812811\n",
       "5   5  12.068401 2.413680\n",
       "6   6  12.020555 2.003426\n",
       "7   7  14.901617 2.128802\n",
       "8   8  14.849963 1.856245\n",
       "9   9  18.518154 2.057573\n",
       "10 10  17.996118 1.799612"
      ]
     },
     "metadata": {},
     "output_type": "display_data"
    }
   ],
   "source": [
    "(annoying <- rename(annoying, one = `1`, two = `2`, three = `3`))"
   ]
  },
  {
   "cell_type": "markdown",
   "metadata": {
    "hidden": true
   },
   "source": [
    "5.  What does `tibble::enframe()` do? When might you use it?"
   ]
  },
  {
   "cell_type": "markdown",
   "metadata": {
    "hidden": true
   },
   "source": [
    "The function `tibble::enframe()` converts named vectors to a data frame with names and values"
   ]
  },
  {
   "cell_type": "code",
   "execution_count": 39,
   "metadata": {
    "ExecuteTime": {
     "end_time": "2020-02-05T07:17:11.091993Z",
     "start_time": "2020-02-05T07:17:10.959Z"
    },
    "collapsed": true,
    "hidden": true
   },
   "outputs": [
    {
     "data": {
      "text/html": [
       "<table>\n",
       "<caption>A tibble: 3 × 2</caption>\n",
       "<thead>\n",
       "\t<tr><th scope=col>name</th><th scope=col>value</th></tr>\n",
       "\t<tr><th scope=col>&lt;chr&gt;</th><th scope=col>&lt;dbl&gt;</th></tr>\n",
       "</thead>\n",
       "<tbody>\n",
       "\t<tr><td>a</td><td>1</td></tr>\n",
       "\t<tr><td>b</td><td>2</td></tr>\n",
       "\t<tr><td>c</td><td>3</td></tr>\n",
       "</tbody>\n",
       "</table>\n"
      ],
      "text/latex": [
       "A tibble: 3 × 2\n",
       "\\begin{tabular}{ll}\n",
       " name & value\\\\\n",
       " <chr> & <dbl>\\\\\n",
       "\\hline\n",
       "\t a & 1\\\\\n",
       "\t b & 2\\\\\n",
       "\t c & 3\\\\\n",
       "\\end{tabular}\n"
      ],
      "text/markdown": [
       "\n",
       "A tibble: 3 × 2\n",
       "\n",
       "| name &lt;chr&gt; | value &lt;dbl&gt; |\n",
       "|---|---|\n",
       "| a | 1 |\n",
       "| b | 2 |\n",
       "| c | 3 |\n",
       "\n"
      ],
      "text/plain": [
       "  name value\n",
       "1 a    1    \n",
       "2 b    2    \n",
       "3 c    3    "
      ]
     },
     "metadata": {},
     "output_type": "display_data"
    }
   ],
   "source": [
    "enframe(c(a = 1, b = 2, c = 3))"
   ]
  },
  {
   "cell_type": "markdown",
   "metadata": {
    "hidden": true
   },
   "source": [
    "6.  What option controls how many additional column names are printed\n",
    "    at the footer of a tibble?"
   ]
  },
  {
   "cell_type": "markdown",
   "metadata": {
    "hidden": true
   },
   "source": [
    "The help page for the print() method of tibble objects is discussed in ?print.tbl. The n_extra argument determines the number of extra columns to print information for."
   ]
  },
  {
   "cell_type": "markdown",
   "metadata": {},
   "source": [
    "# Data Import"
   ]
  },
  {
   "cell_type": "code",
   "execution_count": 53,
   "metadata": {
    "ExecuteTime": {
     "end_time": "2020-02-05T07:27:47.382246Z",
     "start_time": "2020-02-05T07:27:47.297Z"
    }
   },
   "outputs": [],
   "source": [
    "library(tidyverse) "
   ]
  },
  {
   "cell_type": "markdown",
   "metadata": {},
   "source": [
    "## Getting started"
   ]
  },
  {
   "cell_type": "markdown",
   "metadata": {},
   "source": [
    "Most of readr’s functions are concerned with turning flat files into data frames:\n",
    "\n",
    "* `read_csv()` reads comma delimited files, `read_csv2()` reads semicolon\n",
    "    separated files (common in countries where `,` is used as the decimal place),\n",
    "    `read_tsv()` reads tab delimited files, and `read_delim()` reads in files\n",
    "    with any delimiter.\n",
    "\n",
    "* `read_fwf()` reads fixed width files. You can specify fields either by their\n",
    "    widths with `fwf_widths()` or their position with `fwf_positions()`.\n",
    "    `read_table()` reads a common variation of fixed width files where columns\n",
    "    are separated by white space.\n",
    "\n",
    "* `read_log()` reads Apache style log files. (But also check out\n",
    "    [webreadr](https://github.com/Ironholds/webreadr) which is built on top\n",
    "    of `read_log()` and provides many more helpful tools.)\n",
    "\n",
    "These functions all have similar syntax: once you’ve mastered one, you can use the others with ease. For the rest of this chapter we’ll focus on `read_csv()`. Not only are csv files one of the most common forms of data storage, but once you understand `read_csv()`, you can easily apply your knowledge to all the other functions in readr.\n",
    "\n",
    "The first argument to `read_csv()` is the most important: it’s the path to the file to read"
   ]
  },
  {
   "cell_type": "code",
   "execution_count": 54,
   "metadata": {
    "ExecuteTime": {
     "end_time": "2020-02-05T07:28:51.886234Z",
     "start_time": "2020-02-05T07:28:51.805Z"
    },
    "collapsed": true
   },
   "outputs": [
    {
     "ename": "ERROR",
     "evalue": "Error: 'data/heights.csv' does not exist in current working directory ('C:/Users/bings/DS/0_McElreath_SR').\n",
     "output_type": "error",
     "traceback": [
      "Error: 'data/heights.csv' does not exist in current working directory ('C:/Users/bings/DS/0_McElreath_SR').\nTraceback:\n",
      "1. read_csv(\"data/heights.csv\")",
      "2. read_delimited(file, tokenizer, col_names = col_names, col_types = col_types, \n .     locale = locale, skip = skip, skip_empty_rows = skip_empty_rows, \n .     comment = comment, n_max = n_max, guess_max = guess_max, \n .     progress = progress)",
      "3. standardise_path(file)",
      "4. check_path(path)",
      "5. stop(\"'\", path, \"' does not exist\", if (!is_absolute_path(path)) paste0(\" in current working directory ('\", \n .     getwd(), \"')\"), \".\", call. = FALSE)"
     ]
    }
   ],
   "source": [
    "heights <- read_csv(\"data/heights.csv\")"
   ]
  },
  {
   "cell_type": "markdown",
   "metadata": {},
   "source": [
    "When you run `read_csv()` it prints out a column specification that gives the name and type of each column. That’s an important part of readr, which we’ll come back to in [parsing a file](https://r4ds.had.co.nz/data-import.html#parsing-a-file).\n",
    "\n",
    "You can also supply an inline csv file. This is useful for experimenting with readr and for creating reproducible examples to share with others:"
   ]
  },
  {
   "cell_type": "code",
   "execution_count": 59,
   "metadata": {
    "ExecuteTime": {
     "end_time": "2020-02-05T07:32:10.976407Z",
     "start_time": "2020-02-05T07:32:10.841Z"
    }
   },
   "outputs": [
    {
     "data": {
      "text/html": [
       "<table>\n",
       "<caption>A spec_tbl_df: 2 × 3</caption>\n",
       "<thead>\n",
       "\t<tr><th scope=col>a</th><th scope=col>b</th><th scope=col>c</th></tr>\n",
       "\t<tr><th scope=col>&lt;dbl&gt;</th><th scope=col>&lt;dbl&gt;</th><th scope=col>&lt;dbl&gt;</th></tr>\n",
       "</thead>\n",
       "<tbody>\n",
       "\t<tr><td>1</td><td>2</td><td>3</td></tr>\n",
       "\t<tr><td>4</td><td>5</td><td>6</td></tr>\n",
       "</tbody>\n",
       "</table>\n"
      ],
      "text/latex": [
       "A spec\\_tbl\\_df: 2 × 3\n",
       "\\begin{tabular}{lll}\n",
       " a & b & c\\\\\n",
       " <dbl> & <dbl> & <dbl>\\\\\n",
       "\\hline\n",
       "\t 1 & 2 & 3\\\\\n",
       "\t 4 & 5 & 6\\\\\n",
       "\\end{tabular}\n"
      ],
      "text/markdown": [
       "\n",
       "A spec_tbl_df: 2 × 3\n",
       "\n",
       "| a &lt;dbl&gt; | b &lt;dbl&gt; | c &lt;dbl&gt; |\n",
       "|---|---|---|\n",
       "| 1 | 2 | 3 |\n",
       "| 4 | 5 | 6 |\n",
       "\n"
      ],
      "text/plain": [
       "  a b c\n",
       "1 1 2 3\n",
       "2 4 5 6"
      ]
     },
     "metadata": {},
     "output_type": "display_data"
    }
   ],
   "source": [
    "read_csv(\"a,b,c\n",
    "          1,2,3\n",
    "          4,5,6\")\n"
   ]
  },
  {
   "cell_type": "markdown",
   "metadata": {},
   "source": [
    "In both cases `read_csv()` uses the first line of the data for the column names, which is a very common convention. There are two cases where you might want to tweak this behaviour:\n",
    "\n",
    "1.  Sometimes there are a few lines of metadata at the top of the file. You can\n",
    "    use `skip = n` to skip the first `n` lines; or use `comment = \"#\"` to drop\n",
    "    all lines that start with (e.g.) `#`."
   ]
  },
  {
   "cell_type": "code",
   "execution_count": 63,
   "metadata": {
    "ExecuteTime": {
     "end_time": "2020-02-05T07:33:13.476672Z",
     "start_time": "2020-02-05T07:33:13.345Z"
    }
   },
   "outputs": [
    {
     "data": {
      "text/html": [
       "<table>\n",
       "<caption>A spec_tbl_df: 1 × 3</caption>\n",
       "<thead>\n",
       "\t<tr><th scope=col>x</th><th scope=col>y</th><th scope=col>z</th></tr>\n",
       "\t<tr><th scope=col>&lt;dbl&gt;</th><th scope=col>&lt;dbl&gt;</th><th scope=col>&lt;dbl&gt;</th></tr>\n",
       "</thead>\n",
       "<tbody>\n",
       "\t<tr><td>1</td><td>2</td><td>3</td></tr>\n",
       "</tbody>\n",
       "</table>\n"
      ],
      "text/latex": [
       "A spec\\_tbl\\_df: 1 × 3\n",
       "\\begin{tabular}{lll}\n",
       " x & y & z\\\\\n",
       " <dbl> & <dbl> & <dbl>\\\\\n",
       "\\hline\n",
       "\t 1 & 2 & 3\\\\\n",
       "\\end{tabular}\n"
      ],
      "text/markdown": [
       "\n",
       "A spec_tbl_df: 1 × 3\n",
       "\n",
       "| x &lt;dbl&gt; | y &lt;dbl&gt; | z &lt;dbl&gt; |\n",
       "|---|---|---|\n",
       "| 1 | 2 | 3 |\n",
       "\n"
      ],
      "text/plain": [
       "  x y z\n",
       "1 1 2 3"
      ]
     },
     "metadata": {},
     "output_type": "display_data"
    }
   ],
   "source": [
    "read_csv(\"The first line of metadata\n",
    "  The second line of metadata\n",
    "  x,y,z\n",
    "  1,2,3\", skip = 2)"
   ]
  },
  {
   "cell_type": "code",
   "execution_count": 65,
   "metadata": {
    "ExecuteTime": {
     "end_time": "2020-02-05T07:33:57.592232Z",
     "start_time": "2020-02-05T07:33:57.467Z"
    }
   },
   "outputs": [
    {
     "data": {
      "text/html": [
       "<table>\n",
       "<caption>A spec_tbl_df: 1 × 3</caption>\n",
       "<thead>\n",
       "\t<tr><th scope=col>x</th><th scope=col>y</th><th scope=col>z</th></tr>\n",
       "\t<tr><th scope=col>&lt;dbl&gt;</th><th scope=col>&lt;dbl&gt;</th><th scope=col>&lt;dbl&gt;</th></tr>\n",
       "</thead>\n",
       "<tbody>\n",
       "\t<tr><td>1</td><td>2</td><td>3</td></tr>\n",
       "</tbody>\n",
       "</table>\n"
      ],
      "text/latex": [
       "A spec\\_tbl\\_df: 1 × 3\n",
       "\\begin{tabular}{lll}\n",
       " x & y & z\\\\\n",
       " <dbl> & <dbl> & <dbl>\\\\\n",
       "\\hline\n",
       "\t 1 & 2 & 3\\\\\n",
       "\\end{tabular}\n"
      ],
      "text/markdown": [
       "\n",
       "A spec_tbl_df: 1 × 3\n",
       "\n",
       "| x &lt;dbl&gt; | y &lt;dbl&gt; | z &lt;dbl&gt; |\n",
       "|---|---|---|\n",
       "| 1 | 2 | 3 |\n",
       "\n"
      ],
      "text/plain": [
       "  x y z\n",
       "1 1 2 3"
      ]
     },
     "metadata": {},
     "output_type": "display_data"
    }
   ],
   "source": [
    "read_csv(\"# A comment I want to skip\n",
    "  x,y,z\n",
    "  1,2,3\", comment = \"#\")"
   ]
  },
  {
   "cell_type": "markdown",
   "metadata": {},
   "source": [
    "The data might not have column names. You can use `col_names = FALSE` to\n",
    "tell `read_csv()` not to treat the first row as headings, and instead\n",
    "label them sequentially from `X1` to `Xn`:\n",
    "\n"
   ]
  },
  {
   "cell_type": "code",
   "execution_count": 66,
   "metadata": {
    "ExecuteTime": {
     "end_time": "2020-02-05T07:34:22.603920Z",
     "start_time": "2020-02-05T07:34:22.468Z"
    }
   },
   "outputs": [
    {
     "data": {
      "text/html": [
       "<table>\n",
       "<caption>A spec_tbl_df: 2 × 3</caption>\n",
       "<thead>\n",
       "\t<tr><th scope=col>X1</th><th scope=col>X2</th><th scope=col>X3</th></tr>\n",
       "\t<tr><th scope=col>&lt;dbl&gt;</th><th scope=col>&lt;dbl&gt;</th><th scope=col>&lt;dbl&gt;</th></tr>\n",
       "</thead>\n",
       "<tbody>\n",
       "\t<tr><td>1</td><td>2</td><td>3</td></tr>\n",
       "\t<tr><td>4</td><td>5</td><td>6</td></tr>\n",
       "</tbody>\n",
       "</table>\n"
      ],
      "text/latex": [
       "A spec\\_tbl\\_df: 2 × 3\n",
       "\\begin{tabular}{lll}\n",
       " X1 & X2 & X3\\\\\n",
       " <dbl> & <dbl> & <dbl>\\\\\n",
       "\\hline\n",
       "\t 1 & 2 & 3\\\\\n",
       "\t 4 & 5 & 6\\\\\n",
       "\\end{tabular}\n"
      ],
      "text/markdown": [
       "\n",
       "A spec_tbl_df: 2 × 3\n",
       "\n",
       "| X1 &lt;dbl&gt; | X2 &lt;dbl&gt; | X3 &lt;dbl&gt; |\n",
       "|---|---|---|\n",
       "| 1 | 2 | 3 |\n",
       "| 4 | 5 | 6 |\n",
       "\n"
      ],
      "text/plain": [
       "  X1 X2 X3\n",
       "1 1  2  3 \n",
       "2 4  5  6 "
      ]
     },
     "metadata": {},
     "output_type": "display_data"
    }
   ],
   "source": [
    "read_csv(\"1,2,3\\n4,5,6\", col_names = FALSE)"
   ]
  },
  {
   "cell_type": "markdown",
   "metadata": {},
   "source": [
    "(`\"\\n\"` is a convenient shortcut for adding a new line. You’ll learn more\n",
    "about it and other types of string escape in [string basics](https://r4ds.had.co.nz/strings.html#string-basics).)\n",
    "\n",
    "Alternatively you can pass `col_names` a character vector which will be\n",
    "used as the column names:"
   ]
  },
  {
   "cell_type": "code",
   "execution_count": 67,
   "metadata": {
    "ExecuteTime": {
     "end_time": "2020-02-05T07:35:17.931750Z",
     "start_time": "2020-02-05T07:35:17.801Z"
    }
   },
   "outputs": [
    {
     "data": {
      "text/html": [
       "<table>\n",
       "<caption>A spec_tbl_df: 2 × 3</caption>\n",
       "<thead>\n",
       "\t<tr><th scope=col>x</th><th scope=col>y</th><th scope=col>z</th></tr>\n",
       "\t<tr><th scope=col>&lt;dbl&gt;</th><th scope=col>&lt;dbl&gt;</th><th scope=col>&lt;dbl&gt;</th></tr>\n",
       "</thead>\n",
       "<tbody>\n",
       "\t<tr><td>1</td><td>2</td><td>3</td></tr>\n",
       "\t<tr><td>4</td><td>5</td><td>6</td></tr>\n",
       "</tbody>\n",
       "</table>\n"
      ],
      "text/latex": [
       "A spec\\_tbl\\_df: 2 × 3\n",
       "\\begin{tabular}{lll}\n",
       " x & y & z\\\\\n",
       " <dbl> & <dbl> & <dbl>\\\\\n",
       "\\hline\n",
       "\t 1 & 2 & 3\\\\\n",
       "\t 4 & 5 & 6\\\\\n",
       "\\end{tabular}\n"
      ],
      "text/markdown": [
       "\n",
       "A spec_tbl_df: 2 × 3\n",
       "\n",
       "| x &lt;dbl&gt; | y &lt;dbl&gt; | z &lt;dbl&gt; |\n",
       "|---|---|---|\n",
       "| 1 | 2 | 3 |\n",
       "| 4 | 5 | 6 |\n",
       "\n"
      ],
      "text/plain": [
       "  x y z\n",
       "1 1 2 3\n",
       "2 4 5 6"
      ]
     },
     "metadata": {},
     "output_type": "display_data"
    }
   ],
   "source": [
    "read_csv(\"1,2,3\\n4,5,6\", col_names = c(\"x\", \"y\", \"z\"))"
   ]
  },
  {
   "cell_type": "markdown",
   "metadata": {},
   "source": [
    "nother option that commonly needs tweaking is `na`: this specifies the value (or values) that are used to represent missing values in your file:"
   ]
  },
  {
   "cell_type": "code",
   "execution_count": 68,
   "metadata": {
    "ExecuteTime": {
     "end_time": "2020-02-05T07:35:51.876335Z",
     "start_time": "2020-02-05T07:35:51.761Z"
    }
   },
   "outputs": [
    {
     "data": {
      "text/html": [
       "<table>\n",
       "<caption>A spec_tbl_df: 1 × 3</caption>\n",
       "<thead>\n",
       "\t<tr><th scope=col>a</th><th scope=col>b</th><th scope=col>c</th></tr>\n",
       "\t<tr><th scope=col>&lt;dbl&gt;</th><th scope=col>&lt;dbl&gt;</th><th scope=col>&lt;lgl&gt;</th></tr>\n",
       "</thead>\n",
       "<tbody>\n",
       "\t<tr><td>1</td><td>2</td><td>NA</td></tr>\n",
       "</tbody>\n",
       "</table>\n"
      ],
      "text/latex": [
       "A spec\\_tbl\\_df: 1 × 3\n",
       "\\begin{tabular}{lll}\n",
       " a & b & c\\\\\n",
       " <dbl> & <dbl> & <lgl>\\\\\n",
       "\\hline\n",
       "\t 1 & 2 & NA\\\\\n",
       "\\end{tabular}\n"
      ],
      "text/markdown": [
       "\n",
       "A spec_tbl_df: 1 × 3\n",
       "\n",
       "| a &lt;dbl&gt; | b &lt;dbl&gt; | c &lt;lgl&gt; |\n",
       "|---|---|---|\n",
       "| 1 | 2 | NA |\n",
       "\n"
      ],
      "text/plain": [
       "  a b c \n",
       "1 1 2 NA"
      ]
     },
     "metadata": {},
     "output_type": "display_data"
    }
   ],
   "source": [
    "read_csv(\"a,b,c\\n1,2,.\", na = \".\")"
   ]
  },
  {
   "cell_type": "markdown",
   "metadata": {},
   "source": [
    "This is all you need to know to read ~75% of CSV files that you’ll encounter in practice. You can also easily adapt what you’ve learned to read tab separated files with `read_tsv()` and fixed width files with `read_fwf()`. To read in more challenging files, you’ll need to learn more about how readr parses each column, turning them into R vectors."
   ]
  },
  {
   "cell_type": "markdown",
   "metadata": {},
   "source": [
    "### Compared to base R\n",
    "\n",
    "If you’ve used R before, you might wonder why we’re not using `read.csv()`. There are a few good reasons to favour readr functions over the base equivalents:\n",
    "\n",
    "* They are typically much faster (~10x) than their base equivalents.\n",
    "    Long running jobs have a progress bar, so you can see what’s happening.\n",
    "    If you’re looking for raw speed, try `data.table::fread()`. It doesn’t fit\n",
    "    quite so well into the tidyverse, but it can be quite a bit faster.\n",
    "\n",
    "* They produce tibbles, they don’t convert character vectors to factors,\n",
    "    use row names, or munge the column names. These are common sources of\n",
    "    frustration with the base R functions.\n",
    "\n",
    "* They are more reproducible. Base R functions inherit some behaviour from\n",
    "    your operating system and environment variables, so import code that works\n",
    "    on your computer might not work on someone else’s."
   ]
  },
  {
   "cell_type": "markdown",
   "metadata": {},
   "source": [
    "## Parsing a vector\n",
    "\n",
    "Before we get into the details of how readr reads files from disk, we need to take a little detour to talk about the `parse_*()` functions. <font color = 'green'><b>These functions take a <span style='background-color: lightyellow'>character vector</span> and <span style='background-color: lightyellow'>return a more specialised vector</span> like a logical, integer, or date:</b></font>"
   ]
  },
  {
   "cell_type": "code",
   "execution_count": 69,
   "metadata": {
    "ExecuteTime": {
     "end_time": "2020-02-05T07:53:46.778831Z",
     "start_time": "2020-02-05T07:53:46.621Z"
    }
   },
   "outputs": [
    {
     "name": "stdout",
     "output_type": "stream",
     "text": [
      " logi [1:3] TRUE FALSE NA\n",
      " int [1:3] 1 2 3\n",
      " Date[1:2], format: \"2010-01-01\" \"1979-10-14\"\n"
     ]
    }
   ],
   "source": [
    "str(parse_logical(c(\"TRUE\", \"FALSE\", \"NA\")))\n",
    "#>  logi [1:3] TRUE FALSE NA\n",
    "str(parse_integer(c(\"1\", \"2\", \"3\")))\n",
    "#>  int [1:3] 1 2 3\n",
    "str(parse_date(c(\"2010-01-01\", \"1979-10-14\")))\n",
    "#>  Date[1:2], format: \"2010-01-01\" \"1979-10-14\""
   ]
  },
  {
   "cell_type": "markdown",
   "metadata": {},
   "source": [
    "These functions are useful in their own right, but are also an important building block for readr. Once you’ve learned how the individual parsers work in this section, we’ll circle back and see how they fit together to parse a complete file in the next section.\n",
    "\n",
    "Like all functions in the tidyverse, the `parse_*()` functions are uniform: the first argument is a character vector to parse, and the `na` argument specifies which strings should be treated as missing:"
   ]
  },
  {
   "cell_type": "code",
   "execution_count": 70,
   "metadata": {
    "ExecuteTime": {
     "end_time": "2020-02-05T07:55:35.231553Z",
     "start_time": "2020-02-05T07:55:35.122Z"
    },
    "collapsed": true
   },
   "outputs": [
    {
     "data": {
      "text/html": [
       "<style>\n",
       ".list-inline {list-style: none; margin:0; padding: 0}\n",
       ".list-inline>li {display: inline-block}\n",
       ".list-inline>li:not(:last-child)::after {content: \"\\00b7\"; padding: 0 .5ex}\n",
       "</style>\n",
       "<ol class=list-inline><li>1</li><li>231</li><li>&lt;NA&gt;</li><li>456</li></ol>\n"
      ],
      "text/latex": [
       "\\begin{enumerate*}\n",
       "\\item 1\n",
       "\\item 231\n",
       "\\item <NA>\n",
       "\\item 456\n",
       "\\end{enumerate*}\n"
      ],
      "text/markdown": [
       "1. 1\n",
       "2. 231\n",
       "3. &lt;NA&gt;\n",
       "4. 456\n",
       "\n",
       "\n"
      ],
      "text/plain": [
       "[1]   1 231  NA 456"
      ]
     },
     "metadata": {},
     "output_type": "display_data"
    }
   ],
   "source": [
    "parse_integer(c(\"1\", \"231\", \".\", \"456\"), na = \".\")\n",
    "#> [1]   1 231  NA 456"
   ]
  },
  {
   "cell_type": "code",
   "execution_count": 71,
   "metadata": {
    "ExecuteTime": {
     "end_time": "2020-02-05T07:56:00.208791Z",
     "start_time": "2020-02-05T07:56:00.127Z"
    },
    "code_folding": [
     0
    ],
    "collapsed": true
   },
   "outputs": [
    {
     "name": "stderr",
     "output_type": "stream",
     "text": [
      "Warning message:\n",
      "\"2 parsing failures.\n",
      "row col               expected actual\n",
      "  3  -- an integer                abc\n",
      "  4  -- no trailing characters    .45\n",
      "\"\n"
     ]
    }
   ],
   "source": [
    "# If parsing fails, you’ll get a warning:\n",
    "x <- parse_integer(c(\"123\", \"345\", \"abc\", \"123.45\"))"
   ]
  },
  {
   "cell_type": "markdown",
   "metadata": {},
   "source": [
    "And the failures will be missing in the output:"
   ]
  },
  {
   "cell_type": "markdown",
   "metadata": {},
   "source": [
    "Using parsers is mostly a matter of understanding what’s available and how they deal with different types of input. There are eight particularly important parsers:\n",
    "\n",
    "1.  `parse_logical()` and `parse_integer()` parse logicals and integers\n",
    "    respectively. There’s basically nothing that can go wrong with these\n",
    "    parsers so I won’t describe them here further.\n",
    "\n",
    "2.  `parse_double()` is a strict numeric parser, and `parse_number()`\n",
    "    is a flexible numeric parser. These are more complicated than you might\n",
    "    expect because different parts of the world write numbers in different\n",
    "    ways.\n",
    "\n",
    "3.  `parse_character()` seems so simple that it shouldn’t be necessary. But\n",
    "    one complication makes it quite important: character encodings.\n",
    "\n",
    "4.  `parse_factor()` create factors, the data structure that R uses to represent\n",
    "    categorical variables with fixed and known values.\n",
    "\n",
    "5.  `parse_datetime()`, `parse_date()`, and `parse_time()` allow you to\n",
    "    parse various date & time specifications. These are the most complicated\n",
    "    because there are so many different ways of writing dates.\n",
    "\n",
    "The following sections describe these parsers in more detail."
   ]
  },
  {
   "cell_type": "markdown",
   "metadata": {
    "heading_collapsed": true
   },
   "source": [
    "### Numbers"
   ]
  },
  {
   "cell_type": "markdown",
   "metadata": {
    "hidden": true
   },
   "source": [
    "It seems like it should be straightforward to parse a number, but three problems make it tricky:\n",
    "\n",
    "1.  People write numbers differently in different parts of the world.\n",
    "    For example, some countries use `.` in between the integer and fractional\n",
    "    parts of a real number, while others use `,`.\n",
    "\n",
    "2.  Numbers are often surrounded by other characters that provide some\n",
    "    context, like “$1000” or “10%”.\n",
    "\n",
    "3.  Numbers often contain “grouping” characters to make them easier to read,\n",
    "    like “1,000,000”, and these grouping characters vary around the world.\n",
    "\n",
    "To address the first problem, readr has the notion of a “locale”, an object that specifies parsing options that differ from place to place. When parsing numbers, the most important option is the character you use for the decimal mark. You can override the default value of `.` by creating a new locale and setting the `decimal_mark` argument:"
   ]
  },
  {
   "cell_type": "code",
   "execution_count": 72,
   "metadata": {
    "ExecuteTime": {
     "end_time": "2020-02-05T15:25:35.726771Z",
     "start_time": "2020-02-05T15:25:35.483Z"
    },
    "hidden": true
   },
   "outputs": [
    {
     "data": {
      "text/html": [
       "1.23"
      ],
      "text/latex": [
       "1.23"
      ],
      "text/markdown": [
       "1.23"
      ],
      "text/plain": [
       "[1] 1.23"
      ]
     },
     "metadata": {},
     "output_type": "display_data"
    },
    {
     "data": {
      "text/html": [
       "1.23"
      ],
      "text/latex": [
       "1.23"
      ],
      "text/markdown": [
       "1.23"
      ],
      "text/plain": [
       "[1] 1.23"
      ]
     },
     "metadata": {},
     "output_type": "display_data"
    }
   ],
   "source": [
    "parse_double(\"1.23\")\n",
    "#> [1] 1.23\n",
    "parse_double(\"1,23\", locale = locale(decimal_mark = \",\"))\n",
    "#> [1] 1.23"
   ]
  },
  {
   "cell_type": "markdown",
   "metadata": {
    "hidden": true
   },
   "source": [
    "readr’s default locale is US-centric, because generally R is US-centric (i.e. the documentation of base R is written in American English). An alternative approach would be to try and guess the defaults from your operating system. This is hard to do well, and, more importantly, makes your code fragile: even if it works on your computer, it might fail when you email it to a colleague in another country.\n",
    "\n",
    "`parse_number()` addresses the second problem: it ignores non-numeric characters before and after the number. This is particularly useful for currencies and percentages, but also works to extract numbers embedded in text."
   ]
  },
  {
   "cell_type": "code",
   "execution_count": 76,
   "metadata": {
    "ExecuteTime": {
     "end_time": "2020-02-05T15:26:50.719869Z",
     "start_time": "2020-02-05T15:26:50.526Z"
    },
    "hidden": true
   },
   "outputs": [
    {
     "data": {
      "text/html": [
       "100"
      ],
      "text/latex": [
       "100"
      ],
      "text/markdown": [
       "100"
      ],
      "text/plain": [
       "[1] 100"
      ]
     },
     "metadata": {},
     "output_type": "display_data"
    },
    {
     "data": {
      "text/html": [
       "20"
      ],
      "text/latex": [
       "20"
      ],
      "text/markdown": [
       "20"
      ],
      "text/plain": [
       "[1] 20"
      ]
     },
     "metadata": {},
     "output_type": "display_data"
    },
    {
     "data": {
      "text/html": [
       "123.45"
      ],
      "text/latex": [
       "123.45"
      ],
      "text/markdown": [
       "123.45"
      ],
      "text/plain": [
       "[1] 123.45"
      ]
     },
     "metadata": {},
     "output_type": "display_data"
    }
   ],
   "source": [
    "parse_number(\"$100\")\n",
    "#> [1] 100\n",
    "parse_number(\"20%\")\n",
    "#> [1] 20\n",
    "parse_number(\"It cost $123.45\")\n",
    "#> [1] 123"
   ]
  },
  {
   "cell_type": "markdown",
   "metadata": {
    "hidden": true
   },
   "source": [
    "The final problem is addressed by the combination of `parse_number()` and the locale as `parse_number()` will ignore the “grouping mark”:\n"
   ]
  },
  {
   "cell_type": "code",
   "execution_count": 77,
   "metadata": {
    "ExecuteTime": {
     "end_time": "2020-02-05T15:27:35.409828Z",
     "start_time": "2020-02-05T15:27:35.068Z"
    },
    "hidden": true
   },
   "outputs": [
    {
     "data": {
      "text/html": [
       "123456789"
      ],
      "text/latex": [
       "123456789"
      ],
      "text/markdown": [
       "123456789"
      ],
      "text/plain": [
       "[1] 123456789"
      ]
     },
     "metadata": {},
     "output_type": "display_data"
    },
    {
     "data": {
      "text/html": [
       "123456789"
      ],
      "text/latex": [
       "123456789"
      ],
      "text/markdown": [
       "123456789"
      ],
      "text/plain": [
       "[1] 123456789"
      ]
     },
     "metadata": {},
     "output_type": "display_data"
    },
    {
     "data": {
      "text/html": [
       "123456789"
      ],
      "text/latex": [
       "123456789"
      ],
      "text/markdown": [
       "123456789"
      ],
      "text/plain": [
       "[1] 123456789"
      ]
     },
     "metadata": {},
     "output_type": "display_data"
    }
   ],
   "source": [
    "# Used in America\n",
    "parse_number(\"$123,456,789\")\n",
    "#> [1] 1.23e+08\n",
    "\n",
    "# Used in many parts of Europe\n",
    "parse_number(\"123.456.789\", locale = locale(grouping_mark = \".\"))\n",
    "#> [1] 1.23e+08\n",
    "\n",
    "# Used in Switzerland\n",
    "parse_number(\"123'456'789\", locale = locale(grouping_mark = \"'\"))\n",
    "#> [1] 1.23e+08"
   ]
  },
  {
   "cell_type": "markdown",
   "metadata": {
    "heading_collapsed": true
   },
   "source": [
    "### Strings"
   ]
  },
  {
   "cell_type": "markdown",
   "metadata": {
    "hidden": true
   },
   "source": [
    "It seems like `parse_character()` should be really simple — it could just return its input. Unfortunately life isn’t so simple, as there are multiple ways to represent the same string. To understand what’s going on, we need to dive into the details of how computers represent strings. In R, we can get at the underlying representation of a string using `charToRaw()`:"
   ]
  },
  {
   "cell_type": "code",
   "execution_count": 78,
   "metadata": {
    "ExecuteTime": {
     "end_time": "2020-02-05T15:28:25.864321Z",
     "start_time": "2020-02-05T15:28:25.767Z"
    },
    "hidden": true
   },
   "outputs": [
    {
     "data": {
      "text/plain": [
       "[1] 48 61 64 6c 65 79"
      ]
     },
     "metadata": {},
     "output_type": "display_data"
    }
   ],
   "source": [
    "charToRaw(\"Hadley\")\n",
    "#> [1] 48 61 64 6c 65 79"
   ]
  },
  {
   "cell_type": "markdown",
   "metadata": {
    "hidden": true
   },
   "source": [
    "<font color = 'blue'>Each hexadecimal number represents a byte of information: `48` is H, `61` is a, and so on. The mapping from hexadecimal number to character is called the encoding, and in this case the encoding is called ASCII</font>. ASCII does a great job of representing English characters, because it’s the **American** Standard Code for Information Interchange.\n",
    "\n",
    "Things get more complicated for languages other than English. In the early days of computing there were many competing standards for encoding non-English characters, and to correctly interpret a string you needed to know both the values and the encoding. For example, two common encodings are Latin1 (aka ISO-8859-1, used for Western European languages) and Latin2 (aka ISO-8859-2, used for Eastern European languages). In Latin1, the byte `b1` is “±”, but in Latin2, it’s “ą”! Fortunately, today there is one standard that is supported almost everywhere: UTF-8. UTF-8 can encode just about every character used by humans today, as well as many extra symbols (like emoji!).\n",
    "\n",
    "<font color = 'blue'>readr uses UTF-8 everywhere: it assumes your data is UTF-8 encoded</font> when you read it, and always uses it when writing. This is a good default, but will fail for data produced by older systems that don’t understand UTF-8. If this happens to you, your strings will look weird when you print them. Sometimes just one or two characters might be messed up; other times you’ll get complete gibberish. For example:"
   ]
  },
  {
   "cell_type": "code",
   "execution_count": 79,
   "metadata": {
    "ExecuteTime": {
     "end_time": "2020-02-05T15:30:35.715530Z",
     "start_time": "2020-02-05T15:30:35.543Z"
    },
    "hidden": true
   },
   "outputs": [
    {
     "name": "stderr",
     "output_type": "stream",
     "text": [
      "Your code contains a unicode char which cannot be displayed in your\n",
      "current locale and R will silently convert it to an escaped form when the\n",
      "R kernel executes this code. This can lead to subtle errors if you use\n",
      "such chars to do comparisons. For more information, please see\n",
      "https://github.com/IRkernel/repr/wiki/Problems-with-unicode-on-windows"
     ]
    },
    {
     "data": {
      "text/html": [
       "'El Niño was particularly bad this year'"
      ],
      "text/latex": [
       "'El Niño was particularly bad this year'"
      ],
      "text/markdown": [
       "'El Niño was particularly bad this year'"
      ],
      "text/plain": [
       "[1] \"El Niño was particularly bad this year\""
      ]
     },
     "metadata": {},
     "output_type": "display_data"
    },
    {
     "data": {
      "text/html": [
       "'‚±‚ñ‚É‚¿‚Í'"
      ],
      "text/latex": [
       "'‚±‚ñ‚É‚¿‚Í'"
      ],
      "text/markdown": [
       "'‚±‚ñ‚É‚¿‚Í'"
      ],
      "text/plain": [
       "[1] \"‚±‚ñ‚É‚¿‚Í\""
      ]
     },
     "metadata": {},
     "output_type": "display_data"
    }
   ],
   "source": [
    "x1 <- \"El Ni\\xf1o was particularly bad this year\"\n",
    "x2 <- \"\\x82\\xb1\\x82\\xf1\\x82\\xc9\\x82\\xbf\\x82\\xcd\"\n",
    "\n",
    "x1\n",
    "#> [1] \"El Ni\\xf1o was particularly bad this year\"\n",
    "x2\n",
    "#> [1] \"\\x82\\xb1\\x82\\xf1\\x82ɂ\\xbf\\x82\\xcd\""
   ]
  },
  {
   "cell_type": "markdown",
   "metadata": {
    "hidden": true
   },
   "source": [
    "To fix the problem you need to specify the encoding in parse_character():"
   ]
  },
  {
   "cell_type": "code",
   "execution_count": 80,
   "metadata": {
    "ExecuteTime": {
     "end_time": "2020-02-05T15:31:14.195701Z",
     "start_time": "2020-02-05T15:31:13.838Z"
    },
    "hidden": true
   },
   "outputs": [
    {
     "name": "stderr",
     "output_type": "stream",
     "text": [
      "Your code contains a unicode char which cannot be displayed in your\n",
      "current locale and R will silently convert it to an escaped form when the\n",
      "R kernel executes this code. This can lead to subtle errors if you use\n",
      "such chars to do comparisons. For more information, please see\n",
      "https://github.com/IRkernel/repr/wiki/Problems-with-unicode-on-windows"
     ]
    },
    {
     "data": {
      "text/html": [
       "'El Niño was particularly bad this year'"
      ],
      "text/latex": [
       "'El Niño was particularly bad this year'"
      ],
      "text/markdown": [
       "'El Niño was particularly bad this year'"
      ],
      "text/plain": [
       "[1] \"El Niño was particularly bad this year\""
      ]
     },
     "metadata": {},
     "output_type": "display_data"
    },
    {
     "data": {
      "text/html": [
       "'こんにちは'"
      ],
      "text/latex": [
       "'こんにちは'"
      ],
      "text/markdown": [
       "'こんにちは'"
      ],
      "text/plain": [
       "[1] \"<U+3053><U+3093><U+306B><U+3061><U+306F>\""
      ]
     },
     "metadata": {},
     "output_type": "display_data"
    }
   ],
   "source": [
    "parse_character(x1, locale = locale(encoding = \"Latin1\"))\n",
    "#> [1] \"El Niño was particularly bad this year\"\n",
    "parse_character(x2, locale = locale(encoding = \"Shift-JIS\"))\n",
    "#> [1] \"こんにちは\""
   ]
  },
  {
   "cell_type": "markdown",
   "metadata": {
    "hidden": true
   },
   "source": [
    "How do you find the correct encoding? If you’re lucky, it’ll be included somewhere in the data documentation. Unfortunately, that’s rarely the case, so readr provides `guess_encoding()` to help you figure it out. It’s not foolproof, and it works better when you have lots of text (unlike here), but it’s a reasonable place to start. Expect to try a few different encodings before you find the right one.\n"
   ]
  },
  {
   "cell_type": "code",
   "execution_count": 81,
   "metadata": {
    "ExecuteTime": {
     "end_time": "2020-02-05T15:32:09.751887Z",
     "start_time": "2020-02-05T15:32:09.581Z"
    },
    "hidden": true
   },
   "outputs": [
    {
     "data": {
      "text/html": [
       "<table>\n",
       "<caption>A tibble: 2 × 2</caption>\n",
       "<thead>\n",
       "\t<tr><th scope=col>encoding</th><th scope=col>confidence</th></tr>\n",
       "\t<tr><th scope=col>&lt;chr&gt;</th><th scope=col>&lt;dbl&gt;</th></tr>\n",
       "</thead>\n",
       "<tbody>\n",
       "\t<tr><td>ISO-8859-1</td><td>0.46</td></tr>\n",
       "\t<tr><td>ISO-8859-9</td><td>0.23</td></tr>\n",
       "</tbody>\n",
       "</table>\n"
      ],
      "text/latex": [
       "A tibble: 2 × 2\n",
       "\\begin{tabular}{ll}\n",
       " encoding & confidence\\\\\n",
       " <chr> & <dbl>\\\\\n",
       "\\hline\n",
       "\t ISO-8859-1 & 0.46\\\\\n",
       "\t ISO-8859-9 & 0.23\\\\\n",
       "\\end{tabular}\n"
      ],
      "text/markdown": [
       "\n",
       "A tibble: 2 × 2\n",
       "\n",
       "| encoding &lt;chr&gt; | confidence &lt;dbl&gt; |\n",
       "|---|---|\n",
       "| ISO-8859-1 | 0.46 |\n",
       "| ISO-8859-9 | 0.23 |\n",
       "\n"
      ],
      "text/plain": [
       "  encoding   confidence\n",
       "1 ISO-8859-1 0.46      \n",
       "2 ISO-8859-9 0.23      "
      ]
     },
     "metadata": {},
     "output_type": "display_data"
    },
    {
     "data": {
      "text/html": [
       "<table>\n",
       "<caption>A tibble: 1 × 2</caption>\n",
       "<thead>\n",
       "\t<tr><th scope=col>encoding</th><th scope=col>confidence</th></tr>\n",
       "\t<tr><th scope=col>&lt;chr&gt;</th><th scope=col>&lt;dbl&gt;</th></tr>\n",
       "</thead>\n",
       "<tbody>\n",
       "\t<tr><td>KOI8-R</td><td>0.42</td></tr>\n",
       "</tbody>\n",
       "</table>\n"
      ],
      "text/latex": [
       "A tibble: 1 × 2\n",
       "\\begin{tabular}{ll}\n",
       " encoding & confidence\\\\\n",
       " <chr> & <dbl>\\\\\n",
       "\\hline\n",
       "\t KOI8-R & 0.42\\\\\n",
       "\\end{tabular}\n"
      ],
      "text/markdown": [
       "\n",
       "A tibble: 1 × 2\n",
       "\n",
       "| encoding &lt;chr&gt; | confidence &lt;dbl&gt; |\n",
       "|---|---|\n",
       "| KOI8-R | 0.42 |\n",
       "\n"
      ],
      "text/plain": [
       "  encoding confidence\n",
       "1 KOI8-R   0.42      "
      ]
     },
     "metadata": {},
     "output_type": "display_data"
    }
   ],
   "source": [
    "guess_encoding(charToRaw(x1))\n",
    "#> # A tibble: 2 x 2\n",
    "#>   encoding   confidence\n",
    "#>   <chr>           <dbl>\n",
    "#> 1 ISO-8859-1       0.46\n",
    "#> 2 ISO-8859-9       0.23\n",
    "guess_encoding(charToRaw(x2))\n",
    "#> # A tibble: 1 x 2\n",
    "#>   encoding confidence\n",
    "#>   <chr>         <dbl>\n",
    "#> 1 KOI8-R         0.42"
   ]
  },
  {
   "cell_type": "markdown",
   "metadata": {
    "ExecuteTime": {
     "end_time": "2020-02-05T15:32:13.317680Z",
     "start_time": "2020-02-05T15:32:13.255Z"
    },
    "hidden": true
   },
   "source": [
    "The first argument to `guess_encoding()` can either be a path to a file, or, as in this case, a raw vector (useful if the strings are already in R).\n",
    "\n",
    "Encodings are a rich and complex topic, and I’ve only scratched the surface here. If you’d like to learn more I’d recommend reading the detailed explanation at http://kunststube.net/encoding/."
   ]
  },
  {
   "cell_type": "markdown",
   "metadata": {
    "heading_collapsed": true
   },
   "source": [
    "### Factors"
   ]
  },
  {
   "cell_type": "markdown",
   "metadata": {
    "hidden": true
   },
   "source": [
    "R uses factors to represent categorical variables that have a known set of possible values. Give `parse_factor()` a vector of known `levels` to generate a warning whenever an unexpected value is present:\n"
   ]
  },
  {
   "cell_type": "code",
   "execution_count": 83,
   "metadata": {
    "ExecuteTime": {
     "end_time": "2020-02-05T15:33:10.405271Z",
     "start_time": "2020-02-05T15:33:10.240Z"
    },
    "hidden": true
   },
   "outputs": [
    {
     "name": "stderr",
     "output_type": "stream",
     "text": [
      "Warning message:\n",
      "\"1 parsing failure.\n",
      "row col           expected   actual\n",
      "  3  -- value in level set bananana\n",
      "\"\n"
     ]
    },
    {
     "data": {
      "text/html": [
       "<style>\n",
       ".list-inline {list-style: none; margin:0; padding: 0}\n",
       ".list-inline>li {display: inline-block}\n",
       ".list-inline>li:not(:last-child)::after {content: \"\\00b7\"; padding: 0 .5ex}\n",
       "</style>\n",
       "<ol class=list-inline><li>apple</li><li>banana</li><li>&lt;NA&gt;</li></ol>\n",
       "\n",
       "<details>\n",
       "\t<summary style=display:list-item;cursor:pointer>\n",
       "\t\t<strong>Levels</strong>:\n",
       "\t</summary>\n",
       "\t<style>\n",
       "\t.list-inline {list-style: none; margin:0; padding: 0}\n",
       "\t.list-inline>li {display: inline-block}\n",
       "\t.list-inline>li:not(:last-child)::after {content: \"\\00b7\"; padding: 0 .5ex}\n",
       "\t</style>\n",
       "\t<ol class=list-inline><li>'apple'</li><li>'banana'</li></ol>\n",
       "</details>"
      ],
      "text/latex": [
       "\\begin{enumerate*}\n",
       "\\item apple\n",
       "\\item banana\n",
       "\\item <NA>\n",
       "\\end{enumerate*}\n",
       "\n",
       "\\emph{Levels}: \\begin{enumerate*}\n",
       "\\item 'apple'\n",
       "\\item 'banana'\n",
       "\\end{enumerate*}\n"
      ],
      "text/markdown": [
       "1. apple\n",
       "2. banana\n",
       "3. &lt;NA&gt;\n",
       "\n",
       "\n",
       "\n",
       "**Levels**: 1. 'apple'\n",
       "2. 'banana'\n",
       "\n",
       "\n"
      ],
      "text/plain": [
       "[1] apple  banana <NA>  \n",
       "attr(,\"problems\")\n",
       "\u001b[90m# A tibble: 1 x 4\u001b[39m\n",
       "    row   col expected           actual  \n",
       "  \u001b[3m\u001b[90m<int>\u001b[39m\u001b[23m \u001b[3m\u001b[90m<int>\u001b[39m\u001b[23m \u001b[3m\u001b[90m<chr>\u001b[39m\u001b[23m              \u001b[3m\u001b[90m<chr>\u001b[39m\u001b[23m   \n",
       "\u001b[90m1\u001b[39m     3    \u001b[31mNA\u001b[39m value in level set bananana\n",
       "Levels: apple banana"
      ]
     },
     "metadata": {},
     "output_type": "display_data"
    }
   ],
   "source": [
    "fruit <- c(\"apple\", \"banana\")\n",
    "parse_factor(c(\"apple\", \"banana\", \"bananana\"), levels = fruit)\n",
    "#> Warning: 1 parsing failure.\n",
    "#> row col           expected   actual\n",
    "#>   3  -- value in level set bananana\n",
    "#> [1] apple  banana <NA>  \n",
    "#> attr(,\"problems\")\n",
    "#> # A tibble: 1 x 4\n",
    "#>     row   col expected           actual  \n",
    "#>   <int> <int> <chr>              <chr>   \n",
    "#> 1     3    NA value in level set bananana\n",
    "#> Levels: apple banana"
   ]
  },
  {
   "cell_type": "markdown",
   "metadata": {
    "hidden": true
   },
   "source": [
    "But if you have many problematic entries, it’s often easier to leave as character vectors and then use the tools you’ll learn about in [strings](https://r4ds.had.co.nz/strings.html#strings) and [factors](https://r4ds.had.co.nz/vectors.html#factors-1) to clean them up."
   ]
  },
  {
   "cell_type": "markdown",
   "metadata": {
    "heading_collapsed": true
   },
   "source": [
    "### Dates, date-times, and times"
   ]
  },
  {
   "cell_type": "markdown",
   "metadata": {
    "hidden": true
   },
   "source": [
    "You pick between three parsers depending on whether you want a date (the number of days since 1970-01-01), a date-time (the number of seconds since midnight 1970-01-01), or a time (the number of seconds since midnight). When called without any additional arguments:\n",
    "\n",
    "* `parse_datetime()` expects an ISO8601 date-time. ISO8601 is an\n",
    "    international standard in which the components of a date are\n",
    "    organised from biggest to smallest: year, month, day, hour, minute,\n",
    "    second.\n"
   ]
  },
  {
   "cell_type": "code",
   "execution_count": 84,
   "metadata": {
    "ExecuteTime": {
     "end_time": "2020-02-05T15:34:59.189579Z",
     "start_time": "2020-02-05T15:34:59.014Z"
    },
    "hidden": true
   },
   "outputs": [
    {
     "data": {
      "text/plain": [
       "[1] \"2010-10-01 20:10:00 UTC\""
      ]
     },
     "metadata": {},
     "output_type": "display_data"
    },
    {
     "data": {
      "text/plain": [
       "[1] \"2010-10-10 UTC\""
      ]
     },
     "metadata": {},
     "output_type": "display_data"
    }
   ],
   "source": [
    "parse_datetime(\"2010-10-01T2010\")\n",
    "#> [1] \"2010-10-01 20:10:00 UTC\"\n",
    "# If time is omitted, it will be set to midnight\n",
    "parse_datetime(\"20101010\")\n",
    "#> [1] \"2010-10-10 UTC\"\n"
   ]
  },
  {
   "cell_type": "markdown",
   "metadata": {
    "hidden": true
   },
   "source": [
    "This is the most important date/time standard, and if you work with\n",
    "    dates and times frequently, I recommend reading\n",
    "    https://en.wikipedia.org/wiki/ISO_8601\n",
    "\n",
    "2.  `parse_date()` expects a four digit year, a `-` or `/`, the month, a `-`\n",
    "    or `/`, then the day:"
   ]
  },
  {
   "cell_type": "code",
   "execution_count": 85,
   "metadata": {
    "ExecuteTime": {
     "end_time": "2020-02-05T15:37:10.537270Z",
     "start_time": "2020-02-05T15:37:10.373Z"
    },
    "hidden": true
   },
   "outputs": [
    {
     "data": {
      "text/html": [
       "<time datetime=\"2010-10-01\">2010-10-01</time>"
      ],
      "text/latex": [
       "2010-10-01"
      ],
      "text/markdown": [
       "2010-10-01"
      ],
      "text/plain": [
       "[1] \"2010-10-01\""
      ]
     },
     "metadata": {},
     "output_type": "display_data"
    }
   ],
   "source": [
    "parse_date(\"2010-10-01\")\n",
    "#> [1] \"2010-10-01\""
   ]
  },
  {
   "cell_type": "markdown",
   "metadata": {
    "hidden": true
   },
   "source": [
    "`parse_time()` expects the hour, `:`, minutes, optionally `:` and seconds,\n",
    "and an optional am/pm specifier:"
   ]
  },
  {
   "cell_type": "code",
   "execution_count": 87,
   "metadata": {
    "ExecuteTime": {
     "end_time": "2020-02-05T15:37:34.409120Z",
     "start_time": "2020-02-05T15:37:34.210Z"
    },
    "hidden": true
   },
   "outputs": [
    {
     "data": {
      "text/plain": [
       "01:10:00"
      ]
     },
     "metadata": {},
     "output_type": "display_data"
    },
    {
     "data": {
      "text/plain": [
       "20:10:01"
      ]
     },
     "metadata": {},
     "output_type": "display_data"
    }
   ],
   "source": [
    "library(hms)\n",
    "parse_time(\"01:10 am\")\n",
    "#> 01:10:00\n",
    "parse_time(\"20:10:01\")\n",
    "#> 20:10:01"
   ]
  },
  {
   "cell_type": "markdown",
   "metadata": {
    "hidden": true
   },
   "source": [
    "* Base R doesn’t have a great built in class for time data, so we use\n",
    "    the one provided in the hms package.\n",
    "\n",
    "If these defaults don’t work for your data you can supply your own date-time `format`, built up of the following pieces:"
   ]
  },
  {
   "cell_type": "markdown",
   "metadata": {
    "hidden": true
   },
   "source": [
    "<img src='pics/Snap37.png' alt='Drawing' style='width:525pt'/>"
   ]
  },
  {
   "cell_type": "markdown",
   "metadata": {
    "hidden": true
   },
   "source": [
    "The best way to figure out the correct format is to create a few examples in a character vector, and test with one of the parsing functions. For example:"
   ]
  },
  {
   "cell_type": "code",
   "execution_count": 88,
   "metadata": {
    "ExecuteTime": {
     "end_time": "2020-02-05T16:17:19.325215Z",
     "start_time": "2020-02-05T16:17:19.158Z"
    },
    "hidden": true
   },
   "outputs": [
    {
     "data": {
      "text/html": [
       "<time datetime=\"2015-01-02\">2015-01-02</time>"
      ],
      "text/latex": [
       "2015-01-02"
      ],
      "text/markdown": [
       "2015-01-02"
      ],
      "text/plain": [
       "[1] \"2015-01-02\""
      ]
     },
     "metadata": {},
     "output_type": "display_data"
    },
    {
     "data": {
      "text/html": [
       "<time datetime=\"2015-02-01\">2015-02-01</time>"
      ],
      "text/latex": [
       "2015-02-01"
      ],
      "text/markdown": [
       "2015-02-01"
      ],
      "text/plain": [
       "[1] \"2015-02-01\""
      ]
     },
     "metadata": {},
     "output_type": "display_data"
    },
    {
     "data": {
      "text/html": [
       "<time datetime=\"2001-02-15\">2001-02-15</time>"
      ],
      "text/latex": [
       "2001-02-15"
      ],
      "text/markdown": [
       "2001-02-15"
      ],
      "text/plain": [
       "[1] \"2001-02-15\""
      ]
     },
     "metadata": {},
     "output_type": "display_data"
    }
   ],
   "source": [
    "parse_date(\"01/02/15\", \"%m/%d/%y\")\n",
    "#> [1] \"2015-01-02\"\n",
    "parse_date(\"01/02/15\", \"%d/%m/%y\")\n",
    "#> [1] \"2015-02-01\"\n",
    "parse_date(\"01/02/15\", \"%y/%m/%d\")\n",
    "#> [1] \"2001-02-15\""
   ]
  },
  {
   "cell_type": "markdown",
   "metadata": {},
   "source": [
    "### Exercises"
   ]
  },
  {
   "cell_type": "markdown",
   "metadata": {},
   "source": [
    "##### 1.  What are the most important arguments to `locale()`?"
   ]
  },
  {
   "cell_type": "markdown",
   "metadata": {},
   "source": [
    "The locale object has arguments to set the following:\n",
    "\n",
    "* date and time formats: `date_names`, `date_format`, and `time_format`\n",
    "* time zone: `tz`\n",
    "* numbers: `decimal_mark`, `grouping_mark`\n",
    "* encoding: `encoding`"
   ]
  },
  {
   "cell_type": "markdown",
   "metadata": {
    "heading_collapsed": true
   },
   "source": [
    "##### 2. What happens if you try and set `decimal_mark` and `grouping_mark`   to the same character? \n",
    "\n",
    "What happens to the default value of   `grouping_mark` when you set `decimal_mark` to “,”? \n",
    "\n",
    "What happens   to the default value of `decimal_mark` when you set the `grouping_mark`   to “.”?"
   ]
  },
  {
   "cell_type": "markdown",
   "metadata": {
    "hidden": true
   },
   "source": [
    "If the decimal and grouping marks are set to the same character, `locale` throws an error:\n",
    "\n",
    "<button type=\"button\" class=\"copy-to-clipboard-button\" title=\"Copy to clipboard\" aria-label=\"Copy to clipboard\"><i class=\"fa fa-copy\"></i></button>\n",
    "\n",
    "```sourceCode\n",
    "locale(decimal_mark = \".\", grouping_mark = \".\")\n",
    "#> Error: `decimal_mark` and `grouping_mark` must be different\n",
    "```\n",
    "\n",
    "If the `decimal_mark` is set to the comma \"`,\"`, then the grouping mark is set to the period `\".\"`:\n",
    "\n",
    "<button type=\"button\" class=\"copy-to-clipboard-button\" title=\"Copy to clipboard\" aria-label=\"Copy to clipboard\"><i class=\"fa fa-copy\"></i></button>\n",
    "\n",
    "```sourceCode\n",
    "locale(decimal_mark = \",\")\n",
    "#> <locale>\n",
    "#> Numbers:  123.456,78\n",
    "#> Formats:  %AD / %AT\n",
    "#> Timezone: UTC\n",
    "#> Encoding: UTF-8\n",
    "#> <date_names>\n",
    "#> Days:   Sunday (Sun), Monday (Mon), Tuesday (Tue), Wednesday (Wed),\n",
    "#>         Thursday (Thu), Friday (Fri), Saturday (Sat)\n",
    "#> Months: January (Jan), February (Feb), March (Mar), April (Apr), May\n",
    "#>         (May), June (Jun), July (Jul), August (Aug), September\n",
    "#>         (Sep), October (Oct), November (Nov), December (Dec)\n",
    "#> AM/PM:  AM/PM\n",
    "```\n",
    "\n",
    "If the grouping mark is set to a period, then the decimal mark is set to a comma\n",
    "\n",
    "<button type=\"button\" class=\"copy-to-clipboard-button\" title=\"Copy to clipboard\" aria-label=\"Copy to clipboard\"><i class=\"fa fa-copy\"></i></button>\n",
    "\n",
    "```sourceCode\n",
    "locale(grouping_mark = \",\")\n",
    "#> <locale>\n",
    "#> Numbers:  123,456.78\n",
    "#> Formats:  %AD / %AT\n",
    "#> Timezone: UTC\n",
    "#> Encoding: UTF-8\n",
    "#> <date_names>\n",
    "#> Days:   Sunday (Sun), Monday (Mon), Tuesday (Tue), Wednesday (Wed),\n",
    "#>         Thursday (Thu), Friday (Fri), Saturday (Sat)\n",
    "#> Months: January (Jan), February (Feb), March (Mar), April (Apr), May\n",
    "#>         (May), June (Jun), July (Jul), August (Aug), September\n",
    "#>         (Sep), October (Oct), November (Nov), December (Dec)\n",
    "#> AM/PM:  AM/PM\n",
    "```"
   ]
  },
  {
   "cell_type": "markdown",
   "metadata": {},
   "source": [
    "##### 3. I didn’t discuss the `date_format` and `time_format` options to   `locale()`. What do they do? Construct an example that shows when   they might be useful."
   ]
  },
  {
   "cell_type": "markdown",
   "metadata": {},
   "source": [
    "They provide default date and time formats.\n",
    "The [readr vignette](https://cran.r-project.org/web/packages/readr/vignettes/locales.html) discusses using these to parse dates: since dates can include languages specific weekday and month names, and different conventions for specifying AM/PM\n",
    "\n",
    "<button type=\"button\" class=\"copy-to-clipboard-button\" title=\"Copy to clipboard\" aria-label=\"Copy to clipboard\"><i class=\"fa fa-copy\"></i></button>\n",
    "\n",
    "```sourceCode\n",
    "locale()\n",
    "#> <locale>\n",
    "#> Numbers:  123,456.78\n",
    "#> Formats:  %AD / %AT\n",
    "#> Timezone: UTC\n",
    "#> Encoding: UTF-8\n",
    "#> <date_names>\n",
    "#> Days:   Sunday (Sun), Monday (Mon), Tuesday (Tue), Wednesday (Wed),\n",
    "#>         Thursday (Thu), Friday (Fri), Saturday (Sat)\n",
    "#> Months: January (Jan), February (Feb), March (Mar), April (Apr), May\n",
    "#>         (May), June (Jun), July (Jul), August (Aug), September\n",
    "#>         (Sep), October (Oct), November (Nov), December (Dec)\n",
    "#> AM/PM:  AM/PM\n",
    "```\n",
    "\n",
    "Examples from the readr vignette of parsing French dates\n",
    "\n",
    "<button type=\"button\" class=\"copy-to-clipboard-button\" title=\"Copy to clipboard\" aria-label=\"Copy to clipboard\"><i class=\"fa fa-copy\"></i></button>\n",
    "\n",
    "```sourceCode\n",
    "parse_date(\"1 janvier 2015\", \"%d %B %Y\", locale = locale(\"fr\"))\n",
    "#> [1] \"2015-01-01\"\n",
    "parse_date(\"14 oct. 1979\", \"%d %b %Y\", locale = locale(\"fr\"))\n",
    "#> [1] \"1979-10-14\"\n",
    "```\n",
    "\n",
    "Apparently the time format is not used for anything, but the date format is used for guessing column types."
   ]
  },
  {
   "cell_type": "markdown",
   "metadata": {},
   "source": [
    "##### 4. If you live outside the US, create a new locale object that encapsulates   the settings for the types of file you read most commonly."
   ]
  },
  {
   "cell_type": "markdown",
   "metadata": {},
   "source": [
    "Read the help page for `locale()` using `?locale` to learn about the different variables that can be set.\n",
    "\n",
    "As an example, consider Australia.\n",
    "Most of the defaults values are valid, except that the date format is “(d)d/mm/yyyy”, meaning that January 2, 2006 is written as `02/01/2006`.\n",
    "\n",
    "However, default locale will parse that date as February 1, 2006.\n",
    "\n",
    "\n",
    "\n",
    "```sourceCode\n",
    "parse_date(\"02/01/2006\")\n",
    "#> Warning: 1 parsing failure.\n",
    "#> row col   expected     actual\n",
    "#>   1  -- date like  02/01/2006\n",
    "#> [1] NA\n",
    "```\n",
    "\n",
    "To correctly parse Australian dates, define a new `locale` object.\n",
    "\n",
    "```sourceCode\n",
    "au_locale <- locale(date_format = \"%d/%m/%Y\")\n",
    "```\n",
    "\n",
    "Using `parse_date()` with the `au_locale` as its locale will correctly parse our example date.\n",
    "\n",
    "\n",
    "```sourceCode\n",
    "parse_date(\"02/01/2006\", locale = au_locale)\n",
    "#> [1] \"2006-01-02\"\n",
    "```"
   ]
  },
  {
   "cell_type": "markdown",
   "metadata": {},
   "source": [
    "##### 5.  What’s the difference between `read_csv()` and `read_csv2()`?"
   ]
  },
  {
   "cell_type": "markdown",
   "metadata": {},
   "source": [
    "The delimiter. The function `read_csv()` uses a comma, while `read_csv2()` uses a semi-colon (`;`). Using a semi-colon is useful when commas are used as the decimal point (as in Europe)."
   ]
  },
  {
   "cell_type": "markdown",
   "metadata": {},
   "source": [
    "##### 6.  What are the most common encodings used in Europe? \n",
    "\n",
    "What are the   most common encodings used in Asia? Do some googling to find out."
   ]
  },
  {
   "cell_type": "markdown",
   "metadata": {},
   "source": [
    "UTF-8 is standard now, and ASCII has been around forever.\n",
    "\n",
    "For the European languages, there are separate encodings for Romance languages and Eastern European languages using Latin script, Cyrillic, Greek, Hebrew, Turkish: usually with separate ISO and Windows encoding standards.\n",
    "There is also Mac OS Roman.\n",
    "\n",
    "For Asian languages Arabic and Vietnamese have ISO and Windows standards. The other major Asian scripts have their own:\n",
    "\n",
    "* Japanese: JIS X 0208, Shift JIS, ISO-2022-JP\n",
    "* Chinese: GB 2312, GBK, GB 18030\n",
    "* Korean: KS X 1001, EUC-KR, ISO-2022-KR\n",
    "\n",
    "The list in the documentation for `stringi::stri_enc_detect()` is a good list of encodings since it supports the most common encodings.\n",
    "\n",
    "* Western European Latin script languages: ISO-8859-1, Windows-1250 (also CP-1250 for code-point)\n",
    "* Eastern European Latin script languages: ISO-8859-2, Windows-1252\n",
    "* Greek: ISO-8859-7\n",
    "* Turkish: ISO-8859-9, Windows-1254\n",
    "* Hebrew: ISO-8859-8, IBM424, Windows 1255\n",
    "* Russian: Windows 1251\n",
    "* Japanese: Shift JIS, ISO-2022-JP, EUC-JP\n",
    "* Korean: ISO-2022-KR, EUC-KR\n",
    "* Chinese: GB18030, ISO-2022-CN (Simplified), Big5 (Traditional)\n",
    "* Arabic: ISO-8859-6, IBM420, Windows 1256\n",
    "\n",
    "For more information on character encodings see the following sources.\n",
    "\n",
    "* The Wikipedia page [Character encoding](https://en.wikipedia.org/wiki/Character_encoding), has a good list of encodings.\n",
    "* Unicode [CLDR](http://cldr.unicode.org/) project\n",
    "* [What is the most common encoding of each language](https://stackoverflow.com/questions/8509339/what-is-the-most-common-encoding-of-each-language) (Stack Overflow)\n",
    "* “What Every Programmer Absolutely, Positively Needs To Know About Encodings And Character Sets To Work With Text”, http://kunststube.net/encoding/.\n",
    "\n",
    "Programs that identify the encoding of text include:\n",
    "\n",
    "* `readr::guess_encoding()`\n",
    "* `stringi::str_enc_detect()`\n",
    "* [iconv](https://en.wikipedia.org/wiki/Iconv)\n",
    "* [chardet](https://github.com/chardet/chardet) (Python)"
   ]
  },
  {
   "cell_type": "markdown",
   "metadata": {},
   "source": [
    "##### 7.  Generate the correct format string to parse each of the following  dates and times:"
   ]
  },
  {
   "cell_type": "code",
   "execution_count": null,
   "metadata": {},
   "outputs": [],
   "source": [
    "  \n",
    "d1 <- \"January 1, 2010\"\n",
    "d2 <- \"2015-Mar-07\"\n",
    "d3 <- \"06-Jun-2017\"\n",
    "d4 <- c(\"August 19 (2015)\", \"July 1 (2015)\")\n",
    "d5 <- \"12/30/14\" # Dec 30, 2014\n",
    "t1 <- \"1705\"\n",
    "t2 <- \"11:15:10.12 PM\""
   ]
  },
  {
   "cell_type": "code",
   "execution_count": null,
   "metadata": {},
   "outputs": [],
   "source": [
    "parse_date(d1, \"%B %d, %Y\")\n",
    "#> [1] \"2010-01-01\"\n",
    "parse_date(d2, \"%Y-%b-%d\")\n",
    "#> [1] \"2015-03-07\"\n",
    "parse_date(d3, \"%d-%b-%Y\")\n",
    "#> [1] \"2017-06-06\"\n",
    "parse_date(d4, \"%B %d (%Y)\")\n",
    "#> [1] \"2015-08-19\" \"2015-07-01\"\n",
    "parse_date(d5, \"%m/%d/%y\")\n",
    "#> [1] \"2014-12-30\"\n",
    "parse_time(t1, \"%H%M\")\n",
    "#> 17:05:00"
   ]
  },
  {
   "cell_type": "markdown",
   "metadata": {},
   "source": [
    "## Parsing a file"
   ]
  },
  {
   "cell_type": "markdown",
   "metadata": {},
   "source": [
    "Now that you’ve learned how to parse an individual vector, it’s time to return to the beginning and explore how readr parses a file. There are two new things that you’ll learn about in this section:\n",
    "\n",
    "1.  How readr automatically guesses the type of each column.\n",
    "2.  How to override the default specification."
   ]
  },
  {
   "cell_type": "markdown",
   "metadata": {},
   "source": [
    "### 11.4.1 Strategy"
   ]
  },
  {
   "cell_type": "markdown",
   "metadata": {},
   "source": [
    "readr uses a heuristic to figure out the type of each column: it reads the first 1000 rows and uses some (moderately conservative) heuristics to figure out the type of each column. You can emulate this process with a character vector using `guess_parser()`, which returns readr’s best guess, and `parse_guess()` which uses that guess to parse the column:\n",
    "\n",
    "\n",
    "```sourceCode\n",
    "guess_parser(\"2010-10-01\")\n",
    "#> [1] \"date\"\n",
    "guess_parser(\"15:01\")\n",
    "#> [1] \"time\"\n",
    "guess_parser(c(\"TRUE\", \"FALSE\"))\n",
    "#> [1] \"logical\"\n",
    "guess_parser(c(\"1\", \"5\", \"9\"))\n",
    "#> [1] \"double\"\n",
    "guess_parser(c(\"12,352,561\"))\n",
    "#> [1] \"number\"\n",
    "\n",
    "str(parse_guess(\"2010-10-10\"))\n",
    "#>  Date[1:1], format: \"2010-10-10\"\n",
    "```\n",
    "\n",
    "The heuristic tries each of the following types, stopping when it finds a match:\n",
    "\n",
    "* logical: contains only “F”, “T”, “FALSE”, or “TRUE”.\n",
    "* integer: contains only numeric characters (and `-`).\n",
    "* double: contains only valid doubles (including numbers like `4.5e-5`).\n",
    "* number: contains valid doubles with the grouping mark inside.\n",
    "* time: matches the default `time_format`.\n",
    "* date: matches the default `date_format`.\n",
    "* date-time: any ISO8601 date.\n",
    "\n",
    "If none of these rules apply, then the column will stay as a vector of strings."
   ]
  },
  {
   "cell_type": "markdown",
   "metadata": {},
   "source": [
    "### 11.4.2 Problems"
   ]
  },
  {
   "cell_type": "markdown",
   "metadata": {},
   "source": [
    "These defaults don’t always work for larger files. There are two basic problems:\n",
    "\n",
    "1.  The first thousand rows might be a special case, and readr guesses\n",
    "    a type that is not sufficiently general. For example, you might have\n",
    "    a column of doubles that only contains integers in the first 1000 rows.\n",
    "\n",
    "2.  The column might contain a lot of missing values. If the first 1000\n",
    "    rows contain only `NA`s, readr will guess that it’s a logical\n",
    "    vector, whereas you probably want to parse it as something more\n",
    "    specific.\n",
    "\n",
    "readr contains a challenging CSV that illustrates both of these problems:"
   ]
  },
  {
   "cell_type": "code",
   "execution_count": null,
   "metadata": {},
   "outputs": [],
   "source": []
  }
 ],
 "metadata": {
  "hide_input": false,
  "kernelspec": {
   "display_name": "R",
   "language": "R",
   "name": "ir"
  },
  "language_info": {
   "codemirror_mode": "r",
   "file_extension": ".r",
   "mimetype": "text/x-r-source",
   "name": "R",
   "pygments_lexer": "r",
   "version": "3.6.2"
  },
  "toc": {
   "base_numbering": 1,
   "nav_menu": {},
   "number_sections": true,
   "sideBar": true,
   "skip_h1_title": false,
   "title_cell": "Table of Contents",
   "title_sidebar": "Contents",
   "toc_cell": true,
   "toc_position": {},
   "toc_section_display": true,
   "toc_window_display": false
  }
 },
 "nbformat": 4,
 "nbformat_minor": 4
}
