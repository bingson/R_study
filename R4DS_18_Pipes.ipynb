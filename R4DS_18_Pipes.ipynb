{
 "cells": [
  {
   "cell_type": "markdown",
   "metadata": {
    "toc": true
   },
   "source": [
    "<h1>Table of Contents<span class=\"tocSkip\"></span></h1>\n",
    "<div class=\"toc\"><ul class=\"toc-item\"></ul></div>"
   ]
  },
  {
   "cell_type": "code",
   "execution_count": 11,
   "metadata": {
    "ExecuteTime": {
     "end_time": "2020-02-18T08:10:20.506739Z",
     "start_time": "2020-02-18T08:10:20.462Z"
    }
   },
   "outputs": [],
   "source": [
    "library(tidyverse) \n",
    "# library(rethinking)"
   ]
  },
  {
   "cell_type": "markdown",
   "metadata": {},
   "source": []
  },
  {
   "cell_type": "markdown",
   "metadata": {},
   "source": [
    "When working with more complex pipes, it’s sometimes useful to call a\n",
    "function for its side-effects. Maybe you want to print out the current\n",
    "object, or plot it, or save it to disk. Many times, such functions don’t\n",
    "return anything, effectively terminating the pipe.\n",
    "\n",
    "To work around this problem, you can use the “tee” pipe. `%T>%` works like\n",
    "`%>%` except that it returns the left-hand side instead of the right-hand\n",
    "side. It’s called “tee” because it’s like a literal T-shaped pipe.\n"
   ]
  },
  {
   "cell_type": "code",
   "execution_count": 14,
   "metadata": {
    "ExecuteTime": {
     "end_time": "2020-02-18T08:11:09.990312Z",
     "start_time": "2020-02-18T08:11:09.890Z"
    }
   },
   "outputs": [
    {
     "name": "stdout",
     "output_type": "stream",
     "text": [
      " NULL\n"
     ]
    },
    {
     "data": {
      "image/png": "[encoded data removed]",
      "text/plain": [
       "plot without title"
      ]
     },
     "metadata": {
      "image/png": {
       "height": 420,
       "width": 420
      }
     },
     "output_type": "display_data"
    }
   ],
   "source": [
    "set.seed(5)\n",
    "rnorm(100) %>%\n",
    "  matrix(ncol = 2) %>%\n",
    "  plot() %>%\n",
    "  str()\n",
    "#>  NULL"
   ]
  },
  {
   "cell_type": "code",
   "execution_count": 15,
   "metadata": {
    "ExecuteTime": {
     "end_time": "2020-02-18T08:11:11.160623Z",
     "start_time": "2020-02-18T08:11:11.056Z"
    }
   },
   "outputs": [
    {
     "name": "stdout",
     "output_type": "stream",
     "text": [
      " num [1:50, 1:2] -0.8409 1.3844 -1.2555 0.0701 1.7114 ...\n"
     ]
    },
    {
     "data": {
      "image/png": "[encoded data removed]",
      "text/plain": [
       "plot without title"
      ]
     },
     "metadata": {
      "image/png": {
       "height": 420,
       "width": 420
      }
     },
     "output_type": "display_data"
    }
   ],
   "source": [
    "set.seed(5)\n",
    "rnorm(100) %>%\n",
    "  matrix(ncol = 2) %T>%\n",
    "  plot() %>%\n",
    "  str()\n",
    "#>  num [1:50, 1:2] -0.387 -0.785 -1.057 -0.796 -1.756 ..."
   ]
  },
  {
   "cell_type": "markdown",
   "metadata": {},
   "source": [
    "<b><font color = 'purple'>If you’re working with functions that don’t have a data frame based API   </font></b>\n",
    "\n",
    "(i.e. you pass them individual vectors, not a data frame and expressions\n",
    "to be evaluated in the context of that data frame), you might find `%$%`\n",
    "useful. It “explodes” out the variables in a data frame so that you can\n",
    "refer to them explicitly. This is useful when working with many functions\n",
    "in base R:"
   ]
  },
  {
   "cell_type": "code",
   "execution_count": 19,
   "metadata": {
    "ExecuteTime": {
     "end_time": "2020-02-18T08:13:39.829001Z",
     "start_time": "2020-02-18T08:13:39.790Z"
    }
   },
   "outputs": [],
   "source": [
    "library(magrittr)"
   ]
  },
  {
   "cell_type": "code",
   "execution_count": 20,
   "metadata": {
    "ExecuteTime": {
     "end_time": "2020-02-18T08:13:40.622257Z",
     "start_time": "2020-02-18T08:13:40.572Z"
    }
   },
   "outputs": [
    {
     "data": {
      "text/html": [
       "-0.847551379262479"
      ],
      "text/latex": [
       "-0.847551379262479"
      ],
      "text/markdown": [
       "-0.847551379262479"
      ],
      "text/plain": [
       "[1] -0.8475514"
      ]
     },
     "metadata": {},
     "output_type": "display_data"
    }
   ],
   "source": [
    "mtcars %$%\n",
    "  cor(disp, mpg)"
   ]
  },
  {
   "cell_type": "code",
   "execution_count": 23,
   "metadata": {
    "ExecuteTime": {
     "end_time": "2020-02-18T08:14:22.881070Z",
     "start_time": "2020-02-18T08:14:22.832Z"
    }
   },
   "outputs": [
    {
     "data": {
      "text/html": [
       "-0.847551379262479"
      ],
      "text/latex": [
       "-0.847551379262479"
      ],
      "text/markdown": [
       "-0.847551379262479"
      ],
      "text/plain": [
       "[1] -0.8475514"
      ]
     },
     "metadata": {},
     "output_type": "display_data"
    }
   ],
   "source": [
    "cor(mtcars$disp, mtcars$mpg)"
   ]
  },
  {
   "cell_type": "markdown",
   "metadata": {},
   "source": [
    "For assignment magrittr provides the `%<>%` operator which allows you to\n",
    "replace code like:\n"
   ]
  },
  {
   "cell_type": "code",
   "execution_count": 26,
   "metadata": {
    "ExecuteTime": {
     "end_time": "2020-02-18T08:15:26.074654Z",
     "start_time": "2020-02-18T08:15:26.040Z"
    }
   },
   "outputs": [],
   "source": [
    "mtcars <- mtcars %>% \n",
    "  transform(cyl = cyl * 2)"
   ]
  },
  {
   "cell_type": "markdown",
   "metadata": {},
   "source": [
    "with"
   ]
  },
  {
   "cell_type": "code",
   "execution_count": 25,
   "metadata": {
    "ExecuteTime": {
     "end_time": "2020-02-18T08:15:25.068192Z",
     "start_time": "2020-02-18T08:15:25.029Z"
    }
   },
   "outputs": [],
   "source": [
    "mtcars %<>% transform(cyl = cyl * 2)"
   ]
  },
  {
   "cell_type": "markdown",
   "metadata": {},
   "source": [
    "<font color = 'red'>I’m not a fan of this operator because I think assignment is such a special operation that it should always be clear when it’s occurring</font>. In my opinion, a little bit of duplication (i.e. repeating the name of the object twice) is fine in return for making assignment more explicit.\n",
    "\n"
   ]
  }
 ],
 "metadata": {
  "hide_input": false,
  "kernelspec": {
   "display_name": "R",
   "language": "R",
   "name": "ir"
  },
  "language_info": {
   "codemirror_mode": "r",
   "file_extension": ".r",
   "mimetype": "text/x-r-source",
   "name": "R",
   "pygments_lexer": "r",
   "version": "3.6.2"
  },
  "toc": {
   "base_numbering": 1,
   "nav_menu": {},
   "number_sections": true,
   "sideBar": true,
   "skip_h1_title": false,
   "title_cell": "Table of Contents",
   "title_sidebar": "Contents",
   "toc_cell": true,
   "toc_position": {},
   "toc_section_display": true,
   "toc_window_display": false
  }
 },
 "nbformat": 4,
 "nbformat_minor": 4
}
