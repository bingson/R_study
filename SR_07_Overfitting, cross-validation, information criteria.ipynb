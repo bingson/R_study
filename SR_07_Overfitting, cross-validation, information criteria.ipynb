{
 "cells": [
  {
   "cell_type": "markdown",
   "metadata": {
    "toc": true
   },
   "source": [
    "<h1>Table of Contents<span class=\"tocSkip\"></span></h1>\n",
    "<div class=\"toc\"><ul class=\"toc-item\"><li><span><a href=\"#Chapter-7-Ulysses''-Compass\" data-toc-modified-id=\"Chapter-7-Ulysses''-Compass-1\"><span class=\"toc-item-num\">1&nbsp;&nbsp;</span>Chapter 7 Ulysses'' Compass</a></span><ul class=\"toc-item\"><li><span><a href=\"#The-problem-with-parameters\" data-toc-modified-id=\"The-problem-with-parameters-1.1\"><span class=\"toc-item-num\">1.1&nbsp;&nbsp;</span>The problem with parameters</a></span></li><li><span><a href=\"#Entropy-and-accuracy\" data-toc-modified-id=\"Entropy-and-accuracy-1.2\"><span class=\"toc-item-num\">1.2&nbsp;&nbsp;</span>Entropy and accuracy</a></span></li><li><span><a href=\"#Golem-Taming:-Regularization\" data-toc-modified-id=\"Golem-Taming:-Regularization-1.3\"><span class=\"toc-item-num\">1.3&nbsp;&nbsp;</span>Golem Taming: Regularization</a></span></li><li><span><a href=\"#Predicting-predictive-accuracy\" data-toc-modified-id=\"Predicting-predictive-accuracy-1.4\"><span class=\"toc-item-num\">1.4&nbsp;&nbsp;</span>Predicting predictive accuracy</a></span></li><li><span><a href=\"#Using-cross-validation-and-information-criteria\" data-toc-modified-id=\"Using-cross-validation-and-information-criteria-1.5\"><span class=\"toc-item-num\">1.5&nbsp;&nbsp;</span>Using cross-validation and information criteria</a></span><ul class=\"toc-item\"><li><span><a href=\"#Model-mis-selection.\" data-toc-modified-id=\"Model-mis-selection.-1.5.1\"><span class=\"toc-item-num\">1.5.1&nbsp;&nbsp;</span>Model mis-selection.</a></span></li><li><span><a href=\"#Something-about-Cebus\" data-toc-modified-id=\"Something-about-Cebus-1.5.2\"><span class=\"toc-item-num\">1.5.2&nbsp;&nbsp;</span>Something about Cebus</a></span></li><li><span><a href=\"#7.2.5.-Scoring-the-right-data\" data-toc-modified-id=\"7.2.5.-Scoring-the-right-data-1.5.3\"><span class=\"toc-item-num\">1.5.3&nbsp;&nbsp;</span>7.2.5. Scoring the right data</a></span></li></ul></li><li><span><a href=\"#Practice-Problems\" data-toc-modified-id=\"Practice-Problems-1.6\"><span class=\"toc-item-num\">1.6&nbsp;&nbsp;</span>Practice Problems</a></span></li></ul></li><li><span><a href=\"#MISC\" data-toc-modified-id=\"MISC-2\"><span class=\"toc-item-num\">2&nbsp;&nbsp;</span>MISC</a></span><ul class=\"toc-item\"><li><span><a href=\"#Notation\" data-toc-modified-id=\"Notation-2.1\"><span class=\"toc-item-num\">2.1&nbsp;&nbsp;</span>Notation</a></span></li><li><span><a href=\"#vocab\" data-toc-modified-id=\"vocab-2.2\"><span class=\"toc-item-num\">2.2&nbsp;&nbsp;</span>vocab</a></span></li></ul></li></ul></div>"
   ]
  },
  {
   "cell_type": "code",
   "execution_count": 1,
   "metadata": {
    "collapsed": true
   },
   "outputs": [
    {
     "name": "stderr",
     "output_type": "stream",
     "text": [
      "-- Attaching packages --------------------------------------- tidyverse 1.2.1 --\n",
      "v ggplot2 3.1.0       v purrr   0.3.0  \n",
      "v tibble  2.0.1       v dplyr   0.8.0.1\n",
      "v tidyr   0.8.2       v stringr 1.4.0  \n",
      "v readr   1.3.1       v forcats 0.4.0  \n",
      "Warning message:\n",
      "\"package 'tibble' was built under R version 3.5.2\"Warning message:\n",
      "\"package 'readr' was built under R version 3.5.2\"Warning message:\n",
      "\"package 'purrr' was built under R version 3.5.2\"Warning message:\n",
      "\"package 'dplyr' was built under R version 3.5.2\"Warning message:\n",
      "\"package 'stringr' was built under R version 3.5.2\"Warning message:\n",
      "\"package 'forcats' was built under R version 3.5.2\"-- Conflicts ------------------------------------------ tidyverse_conflicts() --\n",
      "x dplyr::filter() masks stats::filter()\n",
      "x dplyr::lag()    masks stats::lag()\n",
      "Loading required package: rstan\n",
      "Loading required package: StanHeaders\n",
      "Warning message:\n",
      "\"package 'StanHeaders' was built under R version 3.5.2\"rstan (Version 2.18.2, GitRev: 2e1f913d3ca3)\n",
      "For execution on a local, multicore CPU with excess RAM we recommend calling\n",
      "options(mc.cores = parallel::detectCores()).\n",
      "To avoid recompilation of unchanged Stan programs, we recommend calling\n",
      "rstan_options(auto_write = TRUE)\n",
      "For improved execution time, we recommend calling\n",
      "Sys.setenv(LOCAL_CPPFLAGS = '-march=native')\n",
      "although this causes Stan to throw an error on a few processors.\n",
      "\n",
      "Attaching package: 'rstan'\n",
      "\n",
      "The following object is masked from 'package:tidyr':\n",
      "\n",
      "    extract\n",
      "\n",
      "Loading required package: parallel\n",
      "rethinking (Version 1.84)\n",
      "\n",
      "Attaching package: 'rethinking'\n",
      "\n",
      "The following object is masked from 'package:purrr':\n",
      "\n",
      "    map\n",
      "\n"
     ]
    }
   ],
   "source": [
    "library(tidyverse)\n",
    "\n",
    "# loads experimental branch of statistical rethinking pkg\n",
    "# library(rethinking, lib = \"C:/Users/bings/Documents/R/test-library\")"
   ]
  },
  {
   "cell_type": "code",
   "execution_count": 1,
   "metadata": {
    "ExecuteTime": {
     "end_time": "2020-02-26T01:50:36.305334Z",
     "start_time": "2020-02-26T01:50:29.152Z"
    },
    "collapsed": true
   },
   "outputs": [
    {
     "name": "stderr",
     "output_type": "stream",
     "text": [
      "-- \u001b[1mAttaching packages\u001b[22m --------------------------------------- tidyverse 1.3.0 --\n",
      "\n",
      "\u001b[32mv\u001b[39m \u001b[34mggplot2\u001b[39m 3.2.1     \u001b[32mv\u001b[39m \u001b[34mpurrr  \u001b[39m 0.3.3\n",
      "\u001b[32mv\u001b[39m \u001b[34mtibble \u001b[39m 2.1.3     \u001b[32mv\u001b[39m \u001b[34mdplyr  \u001b[39m 0.8.4\n",
      "\u001b[32mv\u001b[39m \u001b[34mtidyr  \u001b[39m 1.0.2     \u001b[32mv\u001b[39m \u001b[34mstringr\u001b[39m 1.4.0\n",
      "\u001b[32mv\u001b[39m \u001b[34mreadr  \u001b[39m 1.3.1     \u001b[32mv\u001b[39m \u001b[34mforcats\u001b[39m 0.4.0\n",
      "\n",
      "-- \u001b[1mConflicts\u001b[22m ------------------------------------------ tidyverse_conflicts() --\n",
      "\u001b[31mx\u001b[39m \u001b[34mdplyr\u001b[39m::\u001b[32mfilter()\u001b[39m masks \u001b[34mstats\u001b[39m::filter()\n",
      "\u001b[31mx\u001b[39m \u001b[34mdplyr\u001b[39m::\u001b[32mlag()\u001b[39m    masks \u001b[34mstats\u001b[39m::lag()\n",
      "\n",
      "Loading required package: rstan\n",
      "\n",
      "Loading required package: StanHeaders\n",
      "\n",
      "rstan (Version 2.19.2, GitRev: 2e1f913d3ca3)\n",
      "\n",
      "For execution on a local, multicore CPU with excess RAM we recommend calling\n",
      "options(mc.cores = parallel::detectCores()).\n",
      "To avoid recompilation of unchanged Stan programs, we recommend calling\n",
      "rstan_options(auto_write = TRUE)\n",
      "\n",
      "For improved execution time, we recommend calling\n",
      "Sys.setenv(LOCAL_CPPFLAGS = '-march=native')\n",
      "although this causes Stan to throw an error on a few processors.\n",
      "\n",
      "\n",
      "Attaching package: 'rstan'\n",
      "\n",
      "\n",
      "The following object is masked from 'package:tidyr':\n",
      "\n",
      "    extract\n",
      "\n",
      "\n",
      "Loading required package: parallel\n",
      "\n",
      "Loading required package: dagitty\n",
      "\n",
      "rethinking (Version 1.95)\n",
      "\n",
      "\n",
      "Attaching package: 'rethinking'\n",
      "\n",
      "\n",
      "The following object is masked from 'package:purrr':\n",
      "\n",
      "    map\n",
      "\n",
      "\n",
      "The following object is masked from 'package:stats':\n",
      "\n",
      "    rstudent\n",
      "\n",
      "\n",
      "\n",
      "Attaching package: 'lubridate'\n",
      "\n",
      "\n",
      "The following object is masked from 'package:base':\n",
      "\n",
      "    date\n",
      "\n",
      "\n"
     ]
    }
   ],
   "source": [
    "library(tidyverse) \n",
    "library(rethinking) \n",
    "library(lubridate) \n",
    "# detach(\"package:rethinking\", unload=TRUE)"
   ]
  },
  {
   "cell_type": "markdown",
   "metadata": {},
   "source": [
    "# Chapter 7 Ulysses'' Compass"
   ]
  },
  {
   "cell_type": "markdown",
   "metadata": {},
   "source": [
    "## The problem with parameters"
   ]
  },
  {
   "cell_type": "code",
   "execution_count": 2,
   "metadata": {
    "ExecuteTime": {
     "end_time": "2020-03-23T20:59:50.859958Z",
     "start_time": "2020-03-23T20:59:50.719Z"
    }
   },
   "outputs": [
    {
     "data": {
      "text/html": [
       "<table>\n",
       "<caption>A data.frame: 7 × 3</caption>\n",
       "<thead>\n",
       "\t<tr><th scope=col>species</th><th scope=col>brain</th><th scope=col>mass</th></tr>\n",
       "\t<tr><th scope=col>&lt;fct&gt;</th><th scope=col>&lt;dbl&gt;</th><th scope=col>&lt;dbl&gt;</th></tr>\n",
       "</thead>\n",
       "<tbody>\n",
       "\t<tr><td>afarensis  </td><td> 438</td><td>37.0</td></tr>\n",
       "\t<tr><td>africanus  </td><td> 452</td><td>35.5</td></tr>\n",
       "\t<tr><td>habilis    </td><td> 612</td><td>34.5</td></tr>\n",
       "\t<tr><td>boisei     </td><td> 521</td><td>41.5</td></tr>\n",
       "\t<tr><td>rudolfensis</td><td> 752</td><td>55.5</td></tr>\n",
       "\t<tr><td>ergaster   </td><td> 871</td><td>61.0</td></tr>\n",
       "\t<tr><td>sapiens    </td><td>1350</td><td>53.5</td></tr>\n",
       "</tbody>\n",
       "</table>\n"
      ],
      "text/latex": [
       "A data.frame: 7 × 3\n",
       "\\begin{tabular}{lll}\n",
       " species & brain & mass\\\\\n",
       " <fct> & <dbl> & <dbl>\\\\\n",
       "\\hline\n",
       "\t afarensis   &  438 & 37.0\\\\\n",
       "\t africanus   &  452 & 35.5\\\\\n",
       "\t habilis     &  612 & 34.5\\\\\n",
       "\t boisei      &  521 & 41.5\\\\\n",
       "\t rudolfensis &  752 & 55.5\\\\\n",
       "\t ergaster    &  871 & 61.0\\\\\n",
       "\t sapiens     & 1350 & 53.5\\\\\n",
       "\\end{tabular}\n"
      ],
      "text/markdown": [
       "\n",
       "A data.frame: 7 × 3\n",
       "\n",
       "| species &lt;fct&gt; | brain &lt;dbl&gt; | mass &lt;dbl&gt; |\n",
       "|---|---|---|\n",
       "| afarensis   |  438 | 37.0 |\n",
       "| africanus   |  452 | 35.5 |\n",
       "| habilis     |  612 | 34.5 |\n",
       "| boisei      |  521 | 41.5 |\n",
       "| rudolfensis |  752 | 55.5 |\n",
       "| ergaster    |  871 | 61.0 |\n",
       "| sapiens     | 1350 | 53.5 |\n",
       "\n"
      ],
      "text/plain": [
       "  species     brain mass\n",
       "1 afarensis    438  37.0\n",
       "2 africanus    452  35.5\n",
       "3 habilis      612  34.5\n",
       "4 boisei       521  41.5\n",
       "5 rudolfensis  752  55.5\n",
       "6 ergaster     871  61.0\n",
       "7 sapiens     1350  53.5"
      ]
     },
     "metadata": {},
     "output_type": "display_data"
    }
   ],
   "source": [
    "sppnames <- c( \"afarensis\",\"africanus\",\"habilis\",\"boisei\", \n",
    "    \"rudolfensis\",\"ergaster\",\"sapiens\")\n",
    "\n",
    "brainvolcc <- c( 438 , 452 , 612, 521, 752, 871, 1350 )\n",
    "\n",
    "masskg <- c( 37.0 , 35.5 , 34.5 , 41.5 , 55.5 , 61.0 , 53.5 )\n",
    "\n",
    "(d <- data.frame( species=sppnames , brain=brainvolcc , mass=masskg ))\n"
   ]
  },
  {
   "cell_type": "code",
   "execution_count": 5,
   "metadata": {
    "ExecuteTime": {
     "end_time": "2020-03-23T21:01:40.096700Z",
     "start_time": "2020-03-23T21:01:39.768Z"
    }
   },
   "outputs": [],
   "source": [
    "## R code 7.2\n",
    "d$mass_std <- (d$mass - mean(d$mass))/sd(d$mass)\n",
    "d$brain_std <- d$brain / max(d$brain)\n",
    "\n",
    "## R code 7.3\n",
    "m7.1 <- quap(\n",
    "    alist(\n",
    "        brain_std ~ dnorm( mu , exp(log_sigma) ),\n",
    "        mu <- a + b*mass_std,\n",
    "        a ~ dnorm( 0.5 , 1 ),\n",
    "        b ~ dnorm( 0 , 10 ),\n",
    "        log_sigma ~ dnorm( 0 , 1 )\n",
    "    ), data=d )\n"
   ]
  },
  {
   "cell_type": "code",
   "execution_count": null,
   "metadata": {},
   "outputs": [],
   "source": []
  },
  {
   "cell_type": "markdown",
   "metadata": {},
   "source": [
    "## Entropy and accuracy"
   ]
  },
  {
   "cell_type": "markdown",
   "metadata": {},
   "source": [
    "**<font color = 'purple'>To use DKL to compare models, it seems like we would have to know p, the target probability distribution </font>**. In all of the examples so far, I’ve just assumed that p is known. But when we want to find a model q that is the best approximation to p, the “truth,” there is usually no way to access p directly. We wouldn’t be doing statistical inference, if we already knew p. \n",
    "\n",
    "**<font color = 'purple'>But there’s an amazing way out of this predicament. </font>** <font color = 'blue'>It helps that we are only interested in comparing the divergences of different candidates, say q and r. In that case, most of p just subtracts out, because there is a E log(pi) term in the divergence of both q and r</font>. This term has no effect on the distance of q and r from one another. So while we don’t know where p is, we can estimate how far apart q and r are, and which is closer to the target. It’s as if we can’t tell how far any particular archer is from hitting the target, but we can tell which archer gets closer and by how much.\n",
    "\n",
    "> All of this also means that all we need to know is a model’s average log-probability: E log(qi) for q and E log(ri) for r"
   ]
  },
  {
   "cell_type": "markdown",
   "metadata": {},
   "source": [
    "These expressions look a lot like log-probabilities of outcomes you’ve been using already to simulate implied predictions of a fit model. Indeed, just summing the log-probabilities of each observed case provides an approximation of E log(qi). We don’t have to know the p inside the expectation.\n",
    "\n",
    "So we can compare the average log-probability from each model to get an estimate of the relative distance of each model from the target. This also means that the absolute magnitude of these values will not be interpretable—neither E log(qi) nor E log(ri) by itself suggests a good or bad model. <font color = 'red'>Only the difference E log(qi)−E log(ri) informs us about the divergence of each model from the target p.</font>\n",
    "\n",
    "To put all this into practice, it is conventional to sum over all the observations i, yielding a total score for a model q:"
   ]
  },
  {
   "cell_type": "markdown",
   "metadata": {},
   "source": [
    "## Golem Taming: Regularization"
   ]
  },
  {
   "cell_type": "markdown",
   "metadata": {},
   "source": [
    "## Predicting predictive accuracy"
   ]
  },
  {
   "cell_type": "markdown",
   "metadata": {},
   "source": [
    "## Using cross-validation and information criteria"
   ]
  },
  {
   "cell_type": "markdown",
   "metadata": {
    "heading_collapsed": true
   },
   "source": [
    "### Model mis-selection."
   ]
  },
  {
   "cell_type": "code",
   "execution_count": null,
   "metadata": {
    "hidden": true
   },
   "outputs": [],
   "source": [
    "## R code 6.14\n",
    "set.seed(71)\n",
    "# number of plants\n",
    "N <- 100\n",
    "\n",
    "# simulate initial heights\n",
    "h0 <- rnorm(N,10,2)\n",
    "\n",
    "# assign treatments and simulate fungus and growth\n",
    "treatment <- rep( 0:1 , each=N/2 )\n",
    "fungus <- rbinom( N , size=1 , prob=0.5 - treatment*0.4 )\n",
    "h1 <- h0 + rnorm(N, 5 - 3*fungus)\n",
    "\n",
    "# compose a clean data frame\n",
    "d <- data.frame( h0=h0 , h1=h1 , treatment=treatment , fungus=fungus )\n",
    "# precis(d)\n",
    "\n",
    "## R code 6.15\n",
    "sim_p <- rlnorm( 1e4 , 0 , 0.25 )\n",
    "# precis( data.frame(sim_p) )\n",
    "\n",
    "## R code 6.16"
   ]
  },
  {
   "cell_type": "code",
   "execution_count": 39,
   "metadata": {
    "hidden": true
   },
   "outputs": [
    {
     "data": {
      "text/html": [
       "<table>\n",
       "<thead><tr><th></th><th scope=col>mean</th><th scope=col>sd</th><th scope=col>5.5%</th><th scope=col>94.5%</th></tr></thead>\n",
       "<tbody>\n",
       "\t<tr><th scope=row>p</th><td>1.43</td><td>0.02</td><td>1.40</td><td>1.45</td></tr>\n",
       "\t<tr><th scope=row>sigma</th><td>1.79</td><td>0.13</td><td>1.59</td><td>1.99</td></tr>\n",
       "</tbody>\n",
       "</table>\n"
      ],
      "text/latex": [
       "\\begin{tabular}{r|llll}\n",
       "  & mean & sd & 5.5\\% & 94.5\\%\\\\\n",
       "\\hline\n",
       "\tp & 1.43 & 0.02 & 1.40 & 1.45\\\\\n",
       "\tsigma & 1.79 & 0.13 & 1.59 & 1.99\\\\\n",
       "\\end{tabular}\n"
      ],
      "text/markdown": [
       "\n",
       "| <!--/--> | mean | sd | 5.5% | 94.5% | \n",
       "|---|---|\n",
       "| p | 1.43 | 0.02 | 1.40 | 1.45 | \n",
       "| sigma | 1.79 | 0.13 | 1.59 | 1.99 | \n",
       "\n",
       "\n"
      ],
      "text/plain": [
       "      mean sd   5.5% 94.5%\n",
       "p     1.43 0.02 1.40 1.45 \n",
       "sigma 1.79 0.13 1.59 1.99 "
      ]
     },
     "metadata": {},
     "output_type": "display_data"
    }
   ],
   "source": [
    "m6.6 <- quap(\n",
    "    alist(\n",
    "        h1 ~ dnorm( mu , sigma ),\n",
    "        mu <- h0*p,\n",
    "        p ~ dlnorm( 0 , 0.25 ),\n",
    "        sigma ~ dexp( 1 )\n",
    "    ), data=d )\n",
    "precis(m6.6) %>% round(2)"
   ]
  },
  {
   "cell_type": "code",
   "execution_count": 12,
   "metadata": {
    "hidden": true
   },
   "outputs": [
    {
     "data": {
      "text/html": [
       "<table>\n",
       "<thead><tr><th></th><th scope=col>mean</th><th scope=col>sd</th><th scope=col>5.5%</th><th scope=col>94.5%</th></tr></thead>\n",
       "<tbody>\n",
       "\t<tr><th scope=row>a</th><td> 1.48</td><td>0.02 </td><td> 1.44</td><td> 1.52</td></tr>\n",
       "\t<tr><th scope=row>bt</th><td> 0.00</td><td>0.03 </td><td>-0.05</td><td> 0.05</td></tr>\n",
       "\t<tr><th scope=row>bf</th><td>-0.27</td><td>0.04 </td><td>-0.33</td><td>-0.21</td></tr>\n",
       "\t<tr><th scope=row>sigma</th><td> 1.41</td><td>0.10 </td><td> 1.25</td><td> 1.57</td></tr>\n",
       "</tbody>\n",
       "</table>\n"
      ],
      "text/latex": [
       "\\begin{tabular}{r|llll}\n",
       "  & mean & sd & 5.5\\% & 94.5\\%\\\\\n",
       "\\hline\n",
       "\ta &  1.48 & 0.02  &  1.44 &  1.52\\\\\n",
       "\tbt &  0.00 & 0.03  & -0.05 &  0.05\\\\\n",
       "\tbf & -0.27 & 0.04  & -0.33 & -0.21\\\\\n",
       "\tsigma &  1.41 & 0.10  &  1.25 &  1.57\\\\\n",
       "\\end{tabular}\n"
      ],
      "text/markdown": [
       "\n",
       "| <!--/--> | mean | sd | 5.5% | 94.5% | \n",
       "|---|---|---|---|\n",
       "| a |  1.48 | 0.02  |  1.44 |  1.52 | \n",
       "| bt |  0.00 | 0.03  | -0.05 |  0.05 | \n",
       "| bf | -0.27 | 0.04  | -0.33 | -0.21 | \n",
       "| sigma |  1.41 | 0.10  |  1.25 |  1.57 | \n",
       "\n",
       "\n"
      ],
      "text/plain": [
       "      mean  sd   5.5%  94.5%\n",
       "a      1.48 0.02  1.44  1.52\n",
       "bt     0.00 0.03 -0.05  0.05\n",
       "bf    -0.27 0.04 -0.33 -0.21\n",
       "sigma  1.41 0.10  1.25  1.57"
      ]
     },
     "metadata": {},
     "output_type": "display_data"
    }
   ],
   "source": [
    "## R code 6.17\n",
    "m6.7 <- quap(\n",
    "    alist(\n",
    "        h1 ~ dnorm( mu , sigma ),\n",
    "        mu <- h0 * p,\n",
    "        p <- a + bt*treatment + bf*fungus,\n",
    "        a ~ dlnorm( 0 , 0.2 ) ,\n",
    "        bt ~ dnorm( 0 , 0.5 ),\n",
    "        bf ~ dnorm( 0 , 0.5 ),\n",
    "        sigma ~ dexp( 1 )\n",
    "    ), data=d )\n",
    "precis(m6.7) %>% round(2) "
   ]
  },
  {
   "cell_type": "code",
   "execution_count": 13,
   "metadata": {
    "hidden": true
   },
   "outputs": [
    {
     "data": {
      "text/html": [
       "<table>\n",
       "<thead><tr><th></th><th scope=col>mean</th><th scope=col>sd</th><th scope=col>5.5%</th><th scope=col>94.5%</th></tr></thead>\n",
       "<tbody>\n",
       "\t<tr><th scope=row>a</th><td>1.38</td><td>0.03</td><td>1.34</td><td>1.42</td></tr>\n",
       "\t<tr><th scope=row>bt</th><td>0.08</td><td>0.03</td><td>0.03</td><td>0.14</td></tr>\n",
       "\t<tr><th scope=row>sigma</th><td>1.75</td><td>0.12</td><td>1.55</td><td>1.94</td></tr>\n",
       "</tbody>\n",
       "</table>\n"
      ],
      "text/latex": [
       "\\begin{tabular}{r|llll}\n",
       "  & mean & sd & 5.5\\% & 94.5\\%\\\\\n",
       "\\hline\n",
       "\ta & 1.38 & 0.03 & 1.34 & 1.42\\\\\n",
       "\tbt & 0.08 & 0.03 & 0.03 & 0.14\\\\\n",
       "\tsigma & 1.75 & 0.12 & 1.55 & 1.94\\\\\n",
       "\\end{tabular}\n"
      ],
      "text/markdown": [
       "\n",
       "| <!--/--> | mean | sd | 5.5% | 94.5% | \n",
       "|---|---|---|\n",
       "| a | 1.38 | 0.03 | 1.34 | 1.42 | \n",
       "| bt | 0.08 | 0.03 | 0.03 | 0.14 | \n",
       "| sigma | 1.75 | 0.12 | 1.55 | 1.94 | \n",
       "\n",
       "\n"
      ],
      "text/plain": [
       "      mean sd   5.5% 94.5%\n",
       "a     1.38 0.03 1.34 1.42 \n",
       "bt    0.08 0.03 0.03 0.14 \n",
       "sigma 1.75 0.12 1.55 1.94 "
      ]
     },
     "metadata": {},
     "output_type": "display_data"
    }
   ],
   "source": [
    "## R code 6.18\n",
    "m6.8 <- quap(\n",
    "    alist(\n",
    "        h1 ~ dnorm( mu , sigma ),\n",
    "        mu <- h0 * p,\n",
    "        p <- a + bt*treatment,\n",
    "        a ~ dlnorm( 0 , 0.2 ),\n",
    "        bt ~ dnorm( 0 , 0.5 ),\n",
    "        sigma ~ dexp( 1 )\n",
    "    ), data=d )\n",
    "precis(m6.8) %>% round(2) "
   ]
  },
  {
   "cell_type": "code",
   "execution_count": 14,
   "metadata": {
    "hidden": true
   },
   "outputs": [
    {
     "data": {
      "text/html": [
       "361.450922218932"
      ],
      "text/latex": [
       "361.450922218932"
      ],
      "text/markdown": [
       "361.450922218932"
      ],
      "text/plain": [
       "[1] 361.4509\n",
       "attr(,\"lppd\")\n",
       "[1] -177.1724\n",
       "attr(,\"pWAIC\")\n",
       "[1] 3.553014\n",
       "attr(,\"se\")\n",
       "[1] 14.16956"
      ]
     },
     "metadata": {},
     "output_type": "display_data"
    }
   ],
   "source": [
    "set.seed(11)\n",
    "WAIC( m6.7 )"
   ]
  },
  {
   "cell_type": "code",
   "execution_count": 17,
   "metadata": {
    "hidden": true
   },
   "outputs": [
    {
     "data": {
      "text/html": [
       "<table>\n",
       "<thead><tr><th></th><th scope=col>WAIC</th><th scope=col>pWAIC</th><th scope=col>dWAIC</th><th scope=col>weight</th><th scope=col>SE</th><th scope=col>dSE</th></tr></thead>\n",
       "<tbody>\n",
       "\t<tr><th scope=row>m6.7</th><td>361.89</td><td>3.84  </td><td> 0.00 </td><td>1     </td><td>14.26 </td><td>   NA </td></tr>\n",
       "\t<tr><th scope=row>m6.8</th><td>402.78</td><td>2.65  </td><td>40.89 </td><td>0     </td><td>11.28 </td><td>10.48 </td></tr>\n",
       "\t<tr><th scope=row>m6.6</th><td>405.91</td><td>1.58  </td><td>44.02 </td><td>0     </td><td>11.65 </td><td>12.22 </td></tr>\n",
       "</tbody>\n",
       "</table>\n"
      ],
      "text/latex": [
       "\\begin{tabular}{r|llllll}\n",
       "  & WAIC & pWAIC & dWAIC & weight & SE & dSE\\\\\n",
       "\\hline\n",
       "\tm6.7 & 361.89 & 3.84   &  0.00  & 1      & 14.26  &    NA \\\\\n",
       "\tm6.8 & 402.78 & 2.65   & 40.89  & 0      & 11.28  & 10.48 \\\\\n",
       "\tm6.6 & 405.91 & 1.58   & 44.02  & 0      & 11.65  & 12.22 \\\\\n",
       "\\end{tabular}\n"
      ],
      "text/markdown": [
       "\n",
       "| <!--/--> | WAIC | pWAIC | dWAIC | weight | SE | dSE | \n",
       "|---|---|---|\n",
       "| m6.7 | 361.89 | 3.84   |  0.00  | 1      | 14.26  |    NA  | \n",
       "| m6.8 | 402.78 | 2.65   | 40.89  | 0      | 11.28  | 10.48  | \n",
       "| m6.6 | 405.91 | 1.58   | 44.02  | 0      | 11.65  | 12.22  | \n",
       "\n",
       "\n"
      ],
      "text/plain": [
       "     WAIC   pWAIC dWAIC weight SE    dSE  \n",
       "m6.7 361.89 3.84   0.00 1      14.26    NA\n",
       "m6.8 402.78 2.65  40.89 0      11.28 10.48\n",
       "m6.6 405.91 1.58  44.02 0      11.65 12.22"
      ]
     },
     "metadata": {},
     "output_type": "display_data"
    }
   ],
   "source": [
    "set.seed(77)\n",
    "compare( m6.6 , m6.7 , m6.8 ) %>% round(2) "
   ]
  },
  {
   "cell_type": "code",
   "execution_count": 22,
   "metadata": {
    "hidden": true
   },
   "outputs": [],
   "source": [
    "set.seed(91) \n",
    "waic_m6.6 <- WAIC( m6.6 , pointwise=TRUE )\n",
    "waic_m6.7 <- WAIC( m6.7 , pointwise=TRUE )\n",
    "waic_m6.8 <- WAIC( m6.8 , pointwise=TRUE )\n",
    "n <- length(waic_m6.6)\n",
    "diff_m6.7_m6.8 <- waic_m6.7 - waic_m6.8"
   ]
  },
  {
   "cell_type": "code",
   "execution_count": 24,
   "metadata": {
    "collapsed": true,
    "hidden": true
   },
   "outputs": [
    {
     "data": {
      "text/html": [
       "<ol class=list-inline>\n",
       "\t<li>-1.09</li>\n",
       "\t<li>-1.19</li>\n",
       "\t<li>-1.13</li>\n",
       "\t<li>-0.65</li>\n",
       "\t<li>-0.82</li>\n",
       "\t<li>-0.52</li>\n",
       "\t<li>0.32</li>\n",
       "\t<li>-0.97</li>\n",
       "\t<li>-0.8</li>\n",
       "\t<li>1.72</li>\n",
       "\t<li>-1.85</li>\n",
       "\t<li>-0.16</li>\n",
       "\t<li>-0.26</li>\n",
       "\t<li>-1.31</li>\n",
       "\t<li>-0.92</li>\n",
       "\t<li>-0.68</li>\n",
       "\t<li>-1.02</li>\n",
       "\t<li>0.59</li>\n",
       "\t<li>-1.77</li>\n",
       "\t<li>-2</li>\n",
       "\t<li>-0.64</li>\n",
       "\t<li>-0.8</li>\n",
       "\t<li>-1.12</li>\n",
       "\t<li>-0.5</li>\n",
       "\t<li>-0.83</li>\n",
       "\t<li>-0.73</li>\n",
       "\t<li>-2.94</li>\n",
       "\t<li>0.44</li>\n",
       "\t<li>-1.19</li>\n",
       "\t<li>-1.08</li>\n",
       "\t<li>-2.23</li>\n",
       "\t<li>-0.29</li>\n",
       "\t<li>-0.46</li>\n",
       "\t<li>0.03</li>\n",
       "\t<li>-2.53</li>\n",
       "\t<li>-1.2</li>\n",
       "\t<li>1.27</li>\n",
       "\t<li>-0.1</li>\n",
       "\t<li>-2.73</li>\n",
       "\t<li>-0.93</li>\n",
       "\t<li>-0.78</li>\n",
       "\t<li>-2.49</li>\n",
       "\t<li>-1.07</li>\n",
       "\t<li>0.03</li>\n",
       "\t<li>-0.55</li>\n",
       "\t<li>-1.7</li>\n",
       "\t<li>-0.14</li>\n",
       "\t<li>-0.65</li>\n",
       "\t<li>-0.9</li>\n",
       "\t<li>-1.22</li>\n",
       "\t<li>0.08</li>\n",
       "\t<li>1.97</li>\n",
       "\t<li>-4.11</li>\n",
       "\t<li>0.09</li>\n",
       "\t<li>-0.29</li>\n",
       "\t<li>1.46</li>\n",
       "\t<li>-0.42</li>\n",
       "\t<li>1.65</li>\n",
       "\t<li>0.09</li>\n",
       "\t<li>-0.45</li>\n",
       "\t<li>2.36</li>\n",
       "\t<li>0</li>\n",
       "\t<li>-0.33</li>\n",
       "\t<li>0.88</li>\n",
       "\t<li>0.86</li>\n",
       "\t<li>-0.16</li>\n",
       "\t<li>-0.42</li>\n",
       "\t<li>-0.42</li>\n",
       "\t<li>-1.33</li>\n",
       "\t<li>-0.35</li>\n",
       "\t<li>-0.32</li>\n",
       "\t<li>0.23</li>\n",
       "\t<li>0.03</li>\n",
       "\t<li>-0.44</li>\n",
       "\t<li>-0.42</li>\n",
       "\t<li>-0.17</li>\n",
       "\t<li>-0.42</li>\n",
       "\t<li>-0.08</li>\n",
       "\t<li>-0.35</li>\n",
       "\t<li>-0.59</li>\n",
       "\t<li>-0.35</li>\n",
       "\t<li>-0.29</li>\n",
       "\t<li>-0.26</li>\n",
       "\t<li>-0.48</li>\n",
       "\t<li>-0.39</li>\n",
       "\t<li>0.15</li>\n",
       "\t<li>-0.41</li>\n",
       "\t<li>-0.42</li>\n",
       "\t<li>-0.13</li>\n",
       "\t<li>0.33</li>\n",
       "\t<li>0.57</li>\n",
       "\t<li>1.87</li>\n",
       "\t<li>1.83</li>\n",
       "\t<li>0.39</li>\n",
       "\t<li>0.12</li>\n",
       "\t<li>0.11</li>\n",
       "\t<li>-0.46</li>\n",
       "\t<li>1.2</li>\n",
       "\t<li>-0.43</li>\n",
       "\t<li>-0.07</li>\n",
       "</ol>\n"
      ],
      "text/latex": [
       "\\begin{enumerate*}\n",
       "\\item -1.09\n",
       "\\item -1.19\n",
       "\\item -1.13\n",
       "\\item -0.65\n",
       "\\item -0.82\n",
       "\\item -0.52\n",
       "\\item 0.32\n",
       "\\item -0.97\n",
       "\\item -0.8\n",
       "\\item 1.72\n",
       "\\item -1.85\n",
       "\\item -0.16\n",
       "\\item -0.26\n",
       "\\item -1.31\n",
       "\\item -0.92\n",
       "\\item -0.68\n",
       "\\item -1.02\n",
       "\\item 0.59\n",
       "\\item -1.77\n",
       "\\item -2\n",
       "\\item -0.64\n",
       "\\item -0.8\n",
       "\\item -1.12\n",
       "\\item -0.5\n",
       "\\item -0.83\n",
       "\\item -0.73\n",
       "\\item -2.94\n",
       "\\item 0.44\n",
       "\\item -1.19\n",
       "\\item -1.08\n",
       "\\item -2.23\n",
       "\\item -0.29\n",
       "\\item -0.46\n",
       "\\item 0.03\n",
       "\\item -2.53\n",
       "\\item -1.2\n",
       "\\item 1.27\n",
       "\\item -0.1\n",
       "\\item -2.73\n",
       "\\item -0.93\n",
       "\\item -0.78\n",
       "\\item -2.49\n",
       "\\item -1.07\n",
       "\\item 0.03\n",
       "\\item -0.55\n",
       "\\item -1.7\n",
       "\\item -0.14\n",
       "\\item -0.65\n",
       "\\item -0.9\n",
       "\\item -1.22\n",
       "\\item 0.08\n",
       "\\item 1.97\n",
       "\\item -4.11\n",
       "\\item 0.09\n",
       "\\item -0.29\n",
       "\\item 1.46\n",
       "\\item -0.42\n",
       "\\item 1.65\n",
       "\\item 0.09\n",
       "\\item -0.45\n",
       "\\item 2.36\n",
       "\\item 0\n",
       "\\item -0.33\n",
       "\\item 0.88\n",
       "\\item 0.86\n",
       "\\item -0.16\n",
       "\\item -0.42\n",
       "\\item -0.42\n",
       "\\item -1.33\n",
       "\\item -0.35\n",
       "\\item -0.32\n",
       "\\item 0.23\n",
       "\\item 0.03\n",
       "\\item -0.44\n",
       "\\item -0.42\n",
       "\\item -0.17\n",
       "\\item -0.42\n",
       "\\item -0.08\n",
       "\\item -0.35\n",
       "\\item -0.59\n",
       "\\item -0.35\n",
       "\\item -0.29\n",
       "\\item -0.26\n",
       "\\item -0.48\n",
       "\\item -0.39\n",
       "\\item 0.15\n",
       "\\item -0.41\n",
       "\\item -0.42\n",
       "\\item -0.13\n",
       "\\item 0.33\n",
       "\\item 0.57\n",
       "\\item 1.87\n",
       "\\item 1.83\n",
       "\\item 0.39\n",
       "\\item 0.12\n",
       "\\item 0.11\n",
       "\\item -0.46\n",
       "\\item 1.2\n",
       "\\item -0.43\n",
       "\\item -0.07\n",
       "\\end{enumerate*}\n"
      ],
      "text/markdown": [
       "1. -1.09\n",
       "2. -1.19\n",
       "3. -1.13\n",
       "4. -0.65\n",
       "5. -0.82\n",
       "6. -0.52\n",
       "7. 0.32\n",
       "8. -0.97\n",
       "9. -0.8\n",
       "10. 1.72\n",
       "11. -1.85\n",
       "12. -0.16\n",
       "13. -0.26\n",
       "14. -1.31\n",
       "15. -0.92\n",
       "16. -0.68\n",
       "17. -1.02\n",
       "18. 0.59\n",
       "19. -1.77\n",
       "20. -2\n",
       "21. -0.64\n",
       "22. -0.8\n",
       "23. -1.12\n",
       "24. -0.5\n",
       "25. -0.83\n",
       "26. -0.73\n",
       "27. -2.94\n",
       "28. 0.44\n",
       "29. -1.19\n",
       "30. -1.08\n",
       "31. -2.23\n",
       "32. -0.29\n",
       "33. -0.46\n",
       "34. 0.03\n",
       "35. -2.53\n",
       "36. -1.2\n",
       "37. 1.27\n",
       "38. -0.1\n",
       "39. -2.73\n",
       "40. -0.93\n",
       "41. -0.78\n",
       "42. -2.49\n",
       "43. -1.07\n",
       "44. 0.03\n",
       "45. -0.55\n",
       "46. -1.7\n",
       "47. -0.14\n",
       "48. -0.65\n",
       "49. -0.9\n",
       "50. -1.22\n",
       "51. 0.08\n",
       "52. 1.97\n",
       "53. -4.11\n",
       "54. 0.09\n",
       "55. -0.29\n",
       "56. 1.46\n",
       "57. -0.42\n",
       "58. 1.65\n",
       "59. 0.09\n",
       "60. -0.45\n",
       "61. 2.36\n",
       "62. 0\n",
       "63. -0.33\n",
       "64. 0.88\n",
       "65. 0.86\n",
       "66. -0.16\n",
       "67. -0.42\n",
       "68. -0.42\n",
       "69. -1.33\n",
       "70. -0.35\n",
       "71. -0.32\n",
       "72. 0.23\n",
       "73. 0.03\n",
       "74. -0.44\n",
       "75. -0.42\n",
       "76. -0.17\n",
       "77. -0.42\n",
       "78. -0.08\n",
       "79. -0.35\n",
       "80. -0.59\n",
       "81. -0.35\n",
       "82. -0.29\n",
       "83. -0.26\n",
       "84. -0.48\n",
       "85. -0.39\n",
       "86. 0.15\n",
       "87. -0.41\n",
       "88. -0.42\n",
       "89. -0.13\n",
       "90. 0.33\n",
       "91. 0.57\n",
       "92. 1.87\n",
       "93. 1.83\n",
       "94. 0.39\n",
       "95. 0.12\n",
       "96. 0.11\n",
       "97. -0.46\n",
       "98. 1.2\n",
       "99. -0.43\n",
       "100. -0.07\n",
       "\n",
       "\n"
      ],
      "text/plain": [
       "  [1] -1.09 -1.19 -1.13 -0.65 -0.82 -0.52  0.32 -0.97 -0.80  1.72 -1.85 -0.16\n",
       " [13] -0.26 -1.31 -0.92 -0.68 -1.02  0.59 -1.77 -2.00 -0.64 -0.80 -1.12 -0.50\n",
       " [25] -0.83 -0.73 -2.94  0.44 -1.19 -1.08 -2.23 -0.29 -0.46  0.03 -2.53 -1.20\n",
       " [37]  1.27 -0.10 -2.73 -0.93 -0.78 -2.49 -1.07  0.03 -0.55 -1.70 -0.14 -0.65\n",
       " [49] -0.90 -1.22  0.08  1.97 -4.11  0.09 -0.29  1.46 -0.42  1.65  0.09 -0.45\n",
       " [61]  2.36  0.00 -0.33  0.88  0.86 -0.16 -0.42 -0.42 -1.33 -0.35 -0.32  0.23\n",
       " [73]  0.03 -0.44 -0.42 -0.17 -0.42 -0.08 -0.35 -0.59 -0.35 -0.29 -0.26 -0.48\n",
       " [85] -0.39  0.15 -0.41 -0.42 -0.13  0.33  0.57  1.87  1.83  0.39  0.12  0.11\n",
       " [97] -0.46  1.20 -0.43 -0.07\n",
       "attr(,\"lppd\")\n",
       "  [1] -1.434527 -2.403324 -1.515200 -1.286782 -1.306424 -1.274945 -1.618581\n",
       "  [8] -1.280975 -1.281626 -2.336867 -1.316413 -1.415696 -1.409738 -2.065833\n",
       " [15] -1.317231 -2.552974 -1.340500 -1.748616 -1.333538 -1.401893 -1.274132\n",
       " [22] -1.870878 -1.416772 -1.305825 -1.701263 -1.919633 -1.998302 -1.666305\n",
       " [29] -1.454595 -1.312962 -1.396085 -1.373973 -1.302270 -1.485352 -1.738233\n",
       " [36] -2.754336 -2.072803 -1.576884 -1.408908 -1.284337 -1.275312 -1.395089\n",
       " [43] -1.401658 -1.503099 -1.366953 -1.647398 -1.417049 -1.274411 -1.364354\n",
       " [50] -1.475419 -2.250091 -3.598913 -1.327477 -2.353314 -1.684650 -3.142996\n",
       " [57] -1.273302 -3.356497 -2.390441 -1.309395 -3.998598 -2.230604 -1.327003\n",
       " [64] -2.398821 -2.464838 -1.937035 -1.404238 -1.452940 -1.363891 -1.316624\n",
       " [71] -1.338910 -1.859283 -2.227910 -1.354149 -1.273643 -1.840811 -1.414121\n",
       " [78] -1.547800 -1.569245 -1.522355 -1.557520 -1.354141 -1.393268 -1.320223\n",
       " [85] -1.491708 -1.767465 -1.276256 -1.479445 -1.990483 -1.938733 -3.068132\n",
       " [92] -4.703116 -2.398259 -2.813980 -1.744234 -2.268941 -1.300837 -3.784880\n",
       " [99] -1.360299 -1.578244\n",
       "attr(,\"pWAIC\")\n",
       "  [1] 0.012185180 0.073844984 0.015694802 0.005523722 0.007547838 0.004772330\n",
       "  [7] 0.025255377 0.005459339 0.005356367 0.130452862 0.008780189 0.014308294\n",
       " [13] 0.013627167 0.053184635 0.006861110 0.052793863 0.013934810 0.045188641\n",
       " [19] 0.009725821 0.016313142 0.004855746 0.017606601 0.012131534 0.006376793\n",
       " [25] 0.012918298 0.016998139 0.096560482 0.049858644 0.014991173 0.007754193\n",
       " [31] 0.018319508 0.009015434 0.005786793 0.016519502 0.053826650 0.112299248\n",
       " [37] 0.100367926 0.060525744 0.025093495 0.005711821 0.005101064 0.020869244\n",
       " [43] 0.006912428 0.018749242 0.013353619 0.024588865 0.012631651 0.004868630\n",
       " [49] 0.007671054 0.016333274 0.026466984 0.250649935 0.012627065 0.045632929\n",
       " [55] 0.013097658 0.155202587 0.005064968 0.180209975 0.055872250 0.004812230\n",
       " [61] 0.317627489 0.044336769 0.007307462 0.122480066 0.097775491 0.023868907\n",
       " [67] 0.006341498 0.008321180 0.018254671 0.006787726 0.006737909 0.031791403\n",
       " [73] 0.034138756 0.005351828 0.005045544 0.011478125 0.006887020 0.016527653\n",
       " [79] 0.009203993 0.046834101 0.008792544 0.008350473 0.007543911 0.006618151\n",
       " [85] 0.008668775 0.029753170 0.005074136 0.011162192 0.026361778 0.044381334\n",
       " [91] 0.096557011 0.248503322 0.075090126 0.080709074 0.025520872 0.023256395\n",
       " [97] 0.005117306 0.120852982 0.005393709 0.012214803\n",
       "attr(,\"se\")\n",
       "[1] 14.16519"
      ]
     },
     "metadata": {},
     "output_type": "display_data"
    }
   ],
   "source": [
    "diff_m6.7_m6.8  %>% round(2)"
   ]
  },
  {
   "cell_type": "code",
   "execution_count": 42,
   "metadata": {
    "hidden": true
   },
   "outputs": [
    {
     "data": {
      "text/html": [
       "0.04"
      ],
      "text/latex": [
       "0.04"
      ],
      "text/markdown": [
       "0.04"
      ],
      "text/plain": [
       "[1] 0.04"
      ]
     },
     "metadata": {},
     "output_type": "display_data"
    }
   ],
   "source": [
    "(waic_m6.6 - waic_m6.8) %>% mean() %>% round(2)"
   ]
  },
  {
   "cell_type": "code",
   "execution_count": 26,
   "metadata": {
    "hidden": true,
    "scrolled": true
   },
   "outputs": [
    {
     "data": {
      "text/html": [
       "<table>\n",
       "<thead><tr><th></th><th scope=col>m6.6</th><th scope=col>m6.7</th><th scope=col>m6.8</th></tr></thead>\n",
       "<tbody>\n",
       "\t<tr><th scope=row>m6.6</th><td>   NA</td><td>12.20</td><td> 4.93</td></tr>\n",
       "\t<tr><th scope=row>m6.7</th><td>12.20</td><td>   NA</td><td>10.43</td></tr>\n",
       "\t<tr><th scope=row>m6.8</th><td> 4.93</td><td>10.43</td><td>   NA</td></tr>\n",
       "</tbody>\n",
       "</table>\n"
      ],
      "text/latex": [
       "\\begin{tabular}{r|lll}\n",
       "  & m6.6 & m6.7 & m6.8\\\\\n",
       "\\hline\n",
       "\tm6.6 &    NA & 12.20 &  4.93\\\\\n",
       "\tm6.7 & 12.20 &    NA & 10.43\\\\\n",
       "\tm6.8 &  4.93 & 10.43 &    NA\\\\\n",
       "\\end{tabular}\n"
      ],
      "text/markdown": [
       "\n",
       "| <!--/--> | m6.6 | m6.7 | m6.8 | \n",
       "|---|---|---|\n",
       "| m6.6 |    NA | 12.20 |  4.93 | \n",
       "| m6.7 | 12.20 |    NA | 10.43 | \n",
       "| m6.8 |  4.93 | 10.43 |    NA | \n",
       "\n",
       "\n"
      ],
      "text/plain": [
       "     m6.6  m6.7  m6.8 \n",
       "m6.6    NA 12.20  4.93\n",
       "m6.7 12.20    NA 10.43\n",
       "m6.8  4.93 10.43    NA"
      ]
     },
     "metadata": {},
     "output_type": "display_data"
    }
   ],
   "source": [
    "set.seed(93)\n",
    "compare( m6.6 , m6.7 , m6.8 )@dSE %>% round(2)"
   ]
  },
  {
   "cell_type": "code",
   "execution_count": 28,
   "metadata": {
    "hidden": true
   },
   "outputs": [
    {
     "data": {
      "text/html": [
       "<ol class=list-inline>\n",
       "\t<li>12.96</li>\n",
       "\t<li>67.04</li>\n",
       "</ol>\n"
      ],
      "text/latex": [
       "\\begin{enumerate*}\n",
       "\\item 12.96\n",
       "\\item 67.04\n",
       "\\end{enumerate*}\n"
      ],
      "text/markdown": [
       "1. 12.96\n",
       "2. 67.04\n",
       "\n",
       "\n"
      ],
      "text/plain": [
       "[1] 12.96 67.04"
      ]
     },
     "metadata": {},
     "output_type": "display_data"
    }
   ],
   "source": [
    "40.0 + c(-1,1)*10.4*2.6 "
   ]
  },
  {
   "cell_type": "code",
   "execution_count": 33,
   "metadata": {
    "hidden": true
   },
   "outputs": [
    {
     "data": {
      "image/png": "[encoded data removed]",
      "text/plain": [
       "plot without title"
      ]
     },
     "metadata": {},
     "output_type": "display_data"
    }
   ],
   "source": [
    "plot( compare( m6.6 , m6.7 , m6.8 ) ) \n",
    "options(repr.plot.width=3,repr.plot.height=5)"
   ]
  },
  {
   "cell_type": "code",
   "execution_count": 35,
   "metadata": {
    "hidden": true
   },
   "outputs": [
    {
     "data": {
      "text/html": [
       "4.86"
      ],
      "text/latex": [
       "4.86"
      ],
      "text/markdown": [
       "4.86"
      ],
      "text/plain": [
       "[1] 4.86"
      ]
     },
     "metadata": {},
     "output_type": "display_data"
    }
   ],
   "source": [
    "set.seed(92)\n",
    "waic_m6.6 <- WAIC( m6.6 , pointwise=TRUE )\n",
    "diff_m6.6_m6.8 <- waic_m6.6 - waic_m6.8\n",
    "sqrt( n*var( diff_m6.6_m6.8 ) ) %>% round(2)"
   ]
  },
  {
   "cell_type": "code",
   "execution_count": 37,
   "metadata": {
    "hidden": true,
    "scrolled": true
   },
   "outputs": [
    {
     "data": {
      "text/html": [
       "<table>\n",
       "<thead><tr><th></th><th scope=col>m6.6</th><th scope=col>m6.7</th><th scope=col>m6.8</th></tr></thead>\n",
       "<tbody>\n",
       "\t<tr><th scope=row>m6.6</th><td>   NA</td><td>12.20</td><td> 4.93</td></tr>\n",
       "\t<tr><th scope=row>m6.7</th><td>12.20</td><td>   NA</td><td>10.43</td></tr>\n",
       "\t<tr><th scope=row>m6.8</th><td> 4.93</td><td>10.43</td><td>   NA</td></tr>\n",
       "</tbody>\n",
       "</table>\n"
      ],
      "text/latex": [
       "\\begin{tabular}{r|lll}\n",
       "  & m6.6 & m6.7 & m6.8\\\\\n",
       "\\hline\n",
       "\tm6.6 &    NA & 12.20 &  4.93\\\\\n",
       "\tm6.7 & 12.20 &    NA & 10.43\\\\\n",
       "\tm6.8 &  4.93 & 10.43 &    NA\\\\\n",
       "\\end{tabular}\n"
      ],
      "text/markdown": [
       "\n",
       "| <!--/--> | m6.6 | m6.7 | m6.8 | \n",
       "|---|---|---|\n",
       "| m6.6 |    NA | 12.20 |  4.93 | \n",
       "| m6.7 | 12.20 |    NA | 10.43 | \n",
       "| m6.8 |  4.93 | 10.43 |    NA | \n",
       "\n",
       "\n"
      ],
      "text/plain": [
       "     m6.6  m6.7  m6.8 \n",
       "m6.6    NA 12.20  4.93\n",
       "m6.7 12.20    NA 10.43\n",
       "m6.8  4.93 10.43    NA"
      ]
     },
     "metadata": {},
     "output_type": "display_data"
    }
   ],
   "source": [
    "set.seed(93)\n",
    "compare( m6.6 , m6.7 , m6.8 )@dSE %>% round(2)"
   ]
  },
  {
   "cell_type": "markdown",
   "metadata": {},
   "source": [
    "### Something about Cebus"
   ]
  },
  {
   "cell_type": "code",
   "execution_count": 2,
   "metadata": {},
   "outputs": [],
   "source": [
    "data(Primates301)\n",
    "d <- Primates301"
   ]
  },
  {
   "cell_type": "code",
   "execution_count": 3,
   "metadata": {
    "collapsed": true
   },
   "outputs": [
    {
     "name": "stderr",
     "output_type": "stream",
     "text": [
      "Warning message in file(out, \"wt\"):\n",
      "\"cannot open file 'C:\\Users\\bings\\AppData\\Local\\Temp\\Rtmpo3UQ1b\\file29f83bf93e7a': No such file or directory\"Warning message in file(con, \"r\"):\n",
      "\"cannot open file 'C:\\Users\\bings\\AppData\\Local\\Temp\\Rtmpo3UQ1b\\file29f83bf93e7a': No such file or directory\"ERROR while rich displaying an object: Error in file(con, \"r\"): cannot open the connection\n",
      "\n",
      "Traceback:\n",
      "1. FUN(X[[i]], ...)\n",
      "2. tryCatch(withCallingHandlers({\n",
      " .     rpr <- mime2repr[[mime]](obj)\n",
      " .     if (is.null(rpr)) \n",
      " .         return(NULL)\n",
      " .     prepare_content(is.raw(rpr), rpr)\n",
      " . }, error = error_handler), error = outer_handler)\n",
      "3. tryCatchList(expr, classes, parentenv, handlers)\n",
      "4. tryCatchOne(expr, names, parentenv, handlers[[1L]])\n",
      "5. doTryCatch(return(expr), name, parentenv, handler)\n",
      "6. withCallingHandlers({\n",
      " .     rpr <- mime2repr[[mime]](obj)\n",
      " .     if (is.null(rpr)) \n",
      " .         return(NULL)\n",
      " .     prepare_content(is.raw(rpr), rpr)\n",
      " . }, error = error_handler)\n",
      "7. mime2repr[[mime]](obj)\n",
      "8. repr_latex.help_files_with_topic(obj)\n",
      "9. repr_help_files_with_topic_generic(obj, Rd2latex)\n",
      "10. capture.output(Rd2_(rd, package = pkgname, outputEncoding = \"UTF-8\"))\n",
      "11. evalVis(expr)\n",
      "12. withVisible(eval(expr, pf))\n",
      "13. eval(expr, pf)\n",
      "14. eval(expr, pf)\n",
      "15. Rd2_(rd, package = pkgname, outputEncoding = \"UTF-8\")\n",
      "16. .Rd_get_latex(.Rd_get_section(Rd, \"title\"))\n",
      "17. readLines(tf, warn = FALSE, encoding = \"UTF-8\")\n",
      "18. file(con, \"r\")\n"
     ]
    }
   ],
   "source": [
    "?Primates301"
   ]
  },
  {
   "cell_type": "code",
   "execution_count": 4,
   "metadata": {
    "cell_style": "center"
   },
   "outputs": [
    {
     "data": {
      "image/png": "[encoded data removed]",
      "text/plain": [
       "plot without title"
      ]
     },
     "metadata": {},
     "output_type": "display_data"
    }
   ],
   "source": [
    "## R code 6.19\n",
    "library(dagitty)\n",
    "primate_dag <- dagitty( \"dag {\n",
    "    B -> L\n",
    "    M -> L\n",
    "    M -> B\n",
    "    U -> M\n",
    "    U -> L\n",
    "}\")\n",
    "coordinates( primate_dag ) <- list( x=c(M=0, B=1, L=2, U=1) ,\n",
    "                                  y=c(M=1, B=0, L=1, U=2) )\n",
    "plot( primate_dag )"
   ]
  },
  {
   "cell_type": "code",
   "execution_count": 5,
   "metadata": {
    "cell_style": "center"
   },
   "outputs": [
    {
     "data": {
      "text/plain": [
       "B _||_ U | M"
      ]
     },
     "metadata": {},
     "output_type": "display_data"
    }
   ],
   "source": [
    "impliedConditionalIndependencies( primate_dag )"
   ]
  },
  {
   "cell_type": "code",
   "execution_count": null,
   "metadata": {
    "cell_style": "center"
   },
   "outputs": [],
   "source": [
    "adjustmentSets( primate_dag , exposure=\"B\" , outcome=\"L\" )"
   ]
  },
  {
   "cell_type": "code",
   "execution_count": 6,
   "metadata": {
    "cell_style": "center"
   },
   "outputs": [
    {
     "data": {
      "text/plain": [
       " { U }"
      ]
     },
     "metadata": {},
     "output_type": "display_data"
    }
   ],
   "source": [
    "adjustmentSets( primate_dag , exposure=\"M\" , outcome=\"L\" )"
   ]
  },
  {
   "cell_type": "code",
   "execution_count": 7,
   "metadata": {},
   "outputs": [],
   "source": [
    "## R code 7.34\n",
    "d$log_L <- scale( log(d$longevity) )\n",
    "d$log_B <- scale( log(d$brain) )\n",
    "d$log_M <- scale( log(d$body) )"
   ]
  },
  {
   "cell_type": "code",
   "execution_count": 8,
   "metadata": {},
   "outputs": [
    {
     "data": {
      "image/png": "[encoded data removed]",
      "text/plain": [
       "plot without title"
      ]
     },
     "metadata": {},
     "output_type": "display_data"
    }
   ],
   "source": [
    "pairs( ~ longevity + brain + body , data=d , col=rangi2 ) "
   ]
  },
  {
   "cell_type": "code",
   "execution_count": 133,
   "metadata": {
    "collapsed": true
   },
   "outputs": [
    {
     "data": {
      "image/png": "[encoded data removed]",
      "text/plain": [
       "plot without title"
      ]
     },
     "metadata": {},
     "output_type": "display_data"
    }
   ],
   "source": [
    "pairs( ~ log_L + log_B + log_M , data=d , col=rangi2 ) "
   ]
  },
  {
   "cell_type": "code",
   "execution_count": 9,
   "metadata": {
    "scrolled": true
   },
   "outputs": [
    {
     "data": {
      "text/html": [
       "<dl class=dl-horizontal>\n",
       "\t<dt>log_L</dt>\n",
       "\t\t<dd>181</dd>\n",
       "\t<dt>log_B</dt>\n",
       "\t\t<dd>117</dd>\n",
       "\t<dt>log_M</dt>\n",
       "\t\t<dd>63</dd>\n",
       "</dl>\n"
      ],
      "text/latex": [
       "\\begin{description*}\n",
       "\\item[log\\textbackslash{}\\_L] 181\n",
       "\\item[log\\textbackslash{}\\_B] 117\n",
       "\\item[log\\textbackslash{}\\_M] 63\n",
       "\\end{description*}\n"
      ],
      "text/markdown": [
       "log_L\n",
       ":   181log_B\n",
       ":   117log_M\n",
       ":   63\n",
       "\n"
      ],
      "text/plain": [
       "log_L log_B log_M \n",
       "  181   117    63 "
      ]
     },
     "metadata": {},
     "output_type": "display_data"
    }
   ],
   "source": [
    "# check for missing values. \n",
    "sapply( d[,c(\"log_L\",\"log_B\",\"log_M\")] , function(x) sum(is.na(x)) )"
   ]
  },
  {
   "cell_type": "code",
   "execution_count": null,
   "metadata": {},
   "outputs": [],
   "source": []
  },
  {
   "cell_type": "code",
   "execution_count": 10,
   "metadata": {},
   "outputs": [
    {
     "data": {
      "text/html": [
       "112"
      ],
      "text/latex": [
       "112"
      ],
      "text/markdown": [
       "112"
      ],
      "text/plain": [
       "[1] 112"
      ]
     },
     "metadata": {},
     "output_type": "display_data"
    }
   ],
   "source": [
    "# select the cases with observed values for these three variables\n",
    "## R code 7.36\n",
    "d2 <- d[ complete.cases( d$log_L , d$log_M , d$log_B ) , ]\n",
    "nrow(d2)"
   ]
  },
  {
   "cell_type": "code",
   "execution_count": 11,
   "metadata": {},
   "outputs": [],
   "source": [
    "## R code 7.37\n",
    "m7.8 <- quap(\n",
    "    alist(\n",
    "        log_L ~ dnorm( mu , sigma ),\n",
    "        mu <- a + bM*log_M + bB*log_B,\n",
    "        a ~ dnorm(0,0.1),\n",
    "        bM ~ dnorm(0,0.5),\n",
    "        bB ~ dnorm(0,0.5),\n",
    "        sigma ~ dexp(1)\n",
    "    ) , data=d2 )\n"
   ]
  },
  {
   "cell_type": "markdown",
   "metadata": {},
   "source": [
    "Before inspecting the posterior, let’s also run two simpler models, each with just one of the\n",
    "predictor variables. This will allow us to ask WAIC to evaluate the predictive accuracy of\n",
    "each model."
   ]
  },
  {
   "cell_type": "code",
   "execution_count": 12,
   "metadata": {},
   "outputs": [],
   "source": [
    "\n",
    "## R code 7.38\n",
    "m7.9 <- quap(\n",
    "    alist(\n",
    "        log_L ~ dnorm( mu , sigma ),\n",
    "        mu <- a + bB*log_B,\n",
    "        a ~ dnorm(0,0.1),\n",
    "        bB ~ dnorm(0,0.5),\n",
    "        sigma ~ dexp(1)\n",
    "    ) , data=d2 )\n",
    "\n",
    "m7.10 <- quap(\n",
    "    alist(\n",
    "        log_L ~ dnorm( mu , sigma ),\n",
    "        mu <- a + bM*log_M,\n",
    "        a ~ dnorm(0,0.1),\n",
    "        bM ~ dnorm(0,0.5),\n",
    "        sigma ~ dexp(1)\n",
    "    ) , data=d2 )"
   ]
  },
  {
   "cell_type": "markdown",
   "metadata": {},
   "source": [
    "So what does WAIC think of these models? Let’s use compare:"
   ]
  },
  {
   "cell_type": "code",
   "execution_count": 13,
   "metadata": {},
   "outputs": [
    {
     "data": {
      "text/html": [
       "<table>\n",
       "<thead><tr><th></th><th scope=col>WAIC</th><th scope=col>pWAIC</th><th scope=col>dWAIC</th><th scope=col>weight</th><th scope=col>SE</th><th scope=col>dSE</th></tr></thead>\n",
       "<tbody>\n",
       "\t<tr><th scope=row>m7.8</th><td>216.2</td><td>3.5  </td><td> 0.0 </td><td>0.5  </td><td>14.7 </td><td> NA  </td></tr>\n",
       "\t<tr><th scope=row>m7.9</th><td>216.5</td><td>2.6  </td><td> 0.3 </td><td>0.5  </td><td>14.8 </td><td>1.5  </td></tr>\n",
       "\t<tr><th scope=row>m7.10</th><td>229.4</td><td>2.5  </td><td>13.2 </td><td>0.0  </td><td>16.3 </td><td>7.0  </td></tr>\n",
       "</tbody>\n",
       "</table>\n"
      ],
      "text/latex": [
       "\\begin{tabular}{r|llllll}\n",
       "  & WAIC & pWAIC & dWAIC & weight & SE & dSE\\\\\n",
       "\\hline\n",
       "\tm7.8 & 216.2 & 3.5   &  0.0  & 0.5   & 14.7  &  NA  \\\\\n",
       "\tm7.9 & 216.5 & 2.6   &  0.3  & 0.5   & 14.8  & 1.5  \\\\\n",
       "\tm7.10 & 229.4 & 2.5   & 13.2  & 0.0   & 16.3  & 7.0  \\\\\n",
       "\\end{tabular}\n"
      ],
      "text/markdown": [
       "\n",
       "| <!--/--> | WAIC | pWAIC | dWAIC | weight | SE | dSE |\n",
       "|---|---|---|---|---|---|---|\n",
       "| m7.8 | 216.2 | 3.5   |  0.0  | 0.5   | 14.7  |  NA   |\n",
       "| m7.9 | 216.5 | 2.6   |  0.3  | 0.5   | 14.8  | 1.5   |\n",
       "| m7.10 | 229.4 | 2.5   | 13.2  | 0.0   | 16.3  | 7.0   |\n",
       "\n"
      ],
      "text/plain": [
       "      WAIC  pWAIC dWAIC weight SE   dSE\n",
       "m7.8  216.2 3.5    0.0  0.5    14.7  NA\n",
       "m7.9  216.5 2.6    0.3  0.5    14.8 1.5\n",
       "m7.10 229.4 2.5   13.2  0.0    16.3 7.0"
      ]
     },
     "metadata": {},
     "output_type": "display_data"
    }
   ],
   "source": [
    "set.seed(301)\n",
    "compare( m7.8 , m7.9 , m7.10 ) %>% round(1)"
   ]
  },
  {
   "cell_type": "code",
   "execution_count": 14,
   "metadata": {},
   "outputs": [
    {
     "data": {
      "image/png": "[encoded data removed]",
      "text/plain": [
       "plot without title"
      ]
     },
     "metadata": {},
     "output_type": "display_data"
    }
   ],
   "source": [
    "plot( compare( m7.8 , m7.9 , m7.10 ) )\n",
    "\n",
    "options(repr.plot.width=6, repr.plot.height=3)"
   ]
  },
  {
   "cell_type": "code",
   "execution_count": 15,
   "metadata": {
    "scrolled": true
   },
   "outputs": [
    {
     "data": {
      "image/png": "[encoded data removed]",
      "text/plain": [
       "plot without title"
      ]
     },
     "metadata": {},
     "output_type": "display_data"
    }
   ],
   "source": [
    "plot( coeftab( m7.8 , m7.9 , m7.10 ) , pars=c(\"bM\",\"bB\") )\n",
    "options(repr.plot.width=6, repr.plot.height=4)"
   ]
  },
  {
   "cell_type": "markdown",
   "metadata": {},
   "source": [
    "Notice that the posterior distributions of bB and bM are much wider in the model that contains both. This might remind you of the multicollinearity examples from Chapter 6. Indeed, the variables log_B and log_M are very highly correlated:"
   ]
  },
  {
   "cell_type": "code",
   "execution_count": 16,
   "metadata": {},
   "outputs": [
    {
     "data": {
      "text/html": [
       "<table>\n",
       "<tbody>\n",
       "\t<tr><td>0.9796272</td></tr>\n",
       "</tbody>\n",
       "</table>\n"
      ],
      "text/latex": [
       "\\begin{tabular}{l}\n",
       "\t 0.9796272\\\\\n",
       "\\end{tabular}\n"
      ],
      "text/markdown": [
       "\n",
       "| 0.9796272 |\n",
       "\n"
      ],
      "text/plain": [
       "     [,1]     \n",
       "[1,] 0.9796272"
      ]
     },
     "metadata": {},
     "output_type": "display_data"
    }
   ],
   "source": [
    "cor( d2$log_B , d2$log_M ) "
   ]
  },
  {
   "cell_type": "markdown",
   "metadata": {},
   "source": [
    "Brain size scales strongly with overall body size. But there is more going on here than just multicollinearity, because these variables are not substitutes for one another. \n",
    "\n",
    "* Models m7.9 and m7.10 demonstrate that, and brain volume remains strongly associated, even after adding body mass. And body mass has flipped to mostly negative, in the presence of brain volume. \n",
    "\n",
    "* If we had used flat priors, we’d have gotten an even more negative posterior for body mass, just as you’d get if you slummed it with a non-Bayesian regression. \n",
    "\n",
    "**<font color = 'purple' style='background-color: lightyellow'>What is going on here? </font>** Are we to believe that, controlling for brain size, larger primates actually have somewhat shorter lifespans? The same partial regression result has been found for general in mammals, not just in primates."
   ]
  },
  {
   "cell_type": "code",
   "execution_count": 17,
   "metadata": {},
   "outputs": [],
   "source": [
    "waic_m7.8 <- WAIC( m7.8 , pointwise=TRUE )\n",
    "waic_m7.9 <- WAIC( m7.9 , pointwise=TRUE )"
   ]
  },
  {
   "cell_type": "markdown",
   "metadata": {},
   "source": [
    "Inspect the contents, str(waic_m7.8), and you’ll see 112 WAIC values, one for each species, as well as 112 lppd and penalty values. We want to see which species each model does better at. So let’s plot the pointwise differences. \n",
    "* I’ll show these differences against the outcome variable, log_L. \n",
    "\n",
    "\n",
    "* I’ll also scale each point by the difference in the z-scores of two predictor variables. This will turn out to be helpful, you’ll see."
   ]
  },
  {
   "cell_type": "code",
   "execution_count": 18,
   "metadata": {},
   "outputs": [
    {
     "data": {
      "image/png": "[encoded data removed]",
      "text/plain": [
       "plot without title"
      ]
     },
     "metadata": {},
     "output_type": "display_data"
    }
   ],
   "source": [
    "## R code 7.44\n",
    "# compute point scaling\n",
    "x <- d2$log_B - d2$log_M\n",
    "x <- x - min(x)\n",
    "x <- x / max(x)\n",
    "\n",
    "# draw the plot\n",
    "plot( waic_m7.8 - waic_m7.9 , d2$log_L ,\n",
    "    xlab=\"pointwise difference in WAIC\" , ylab=\"log longevity (std)\" , pch=21 ,\n",
    "    col=col.alpha(\"black\",0.8) , cex=1+x , lwd=2 , bg=col.alpha(rangi2,0.4) )\n",
    "abline( v=0 , lty=2 )\n",
    "abline( h=0 , lty=2 )\n",
    "\n",
    "options(repr.plot.width=8, repr.plot.height=5) "
   ]
  },
  {
   "cell_type": "code",
   "execution_count": 19,
   "metadata": {},
   "outputs": [
    {
     "data": {
      "text/html": [
       "<table>\n",
       "<thead><tr><th></th><th scope=col>mean</th><th scope=col>sd</th><th scope=col>5.5%</th><th scope=col>94.5%</th></tr></thead>\n",
       "<tbody>\n",
       "\t<tr><th scope=row>a</th><td>-0.05</td><td>0.02 </td><td>-0.07</td><td>-0.02</td></tr>\n",
       "\t<tr><th scope=row>bM</th><td> 0.94</td><td>0.03 </td><td> 0.90</td><td> 0.98</td></tr>\n",
       "\t<tr><th scope=row>bL</th><td> 0.12</td><td>0.03 </td><td> 0.07</td><td> 0.16</td></tr>\n",
       "\t<tr><th scope=row>sigma</th><td> 0.19</td><td>0.01 </td><td> 0.17</td><td> 0.21</td></tr>\n",
       "</tbody>\n",
       "</table>\n"
      ],
      "text/latex": [
       "\\begin{tabular}{r|llll}\n",
       "  & mean & sd & 5.5\\% & 94.5\\%\\\\\n",
       "\\hline\n",
       "\ta & -0.05 & 0.02  & -0.07 & -0.02\\\\\n",
       "\tbM &  0.94 & 0.03  &  0.90 &  0.98\\\\\n",
       "\tbL &  0.12 & 0.03  &  0.07 &  0.16\\\\\n",
       "\tsigma &  0.19 & 0.01  &  0.17 &  0.21\\\\\n",
       "\\end{tabular}\n"
      ],
      "text/markdown": [
       "\n",
       "| <!--/--> | mean | sd | 5.5% | 94.5% |\n",
       "|---|---|---|---|---|\n",
       "| a | -0.05 | 0.02  | -0.07 | -0.02 |\n",
       "| bM |  0.94 | 0.03  |  0.90 |  0.98 |\n",
       "| bL |  0.12 | 0.03  |  0.07 |  0.16 |\n",
       "| sigma |  0.19 | 0.01  |  0.17 |  0.21 |\n",
       "\n"
      ],
      "text/plain": [
       "      mean  sd   5.5%  94.5%\n",
       "a     -0.05 0.02 -0.07 -0.02\n",
       "bM     0.94 0.03  0.90  0.98\n",
       "bL     0.12 0.03  0.07  0.16\n",
       "sigma  0.19 0.01  0.17  0.21"
      ]
     },
     "metadata": {},
     "output_type": "display_data"
    }
   ],
   "source": [
    "## R code 7.45\n",
    "m7.11 <- quap(\n",
    "    alist(\n",
    "        log_B ~ dnorm( mu , sigma ),\n",
    "        mu <- a + bM*log_M + bL*log_L,\n",
    "        a ~ dnorm(0,0.1),\n",
    "        bM ~ dnorm(0,0.5),\n",
    "        bL ~ dnorm(0,0.5),\n",
    "        sigma ~ dexp(1)\n",
    "    ) , data=d2 )\n",
    "precis( m7.11 ) %>% round(2)"
   ]
  },
  {
   "cell_type": "code",
   "execution_count": null,
   "metadata": {},
   "outputs": [],
   "source": []
  },
  {
   "cell_type": "markdown",
   "metadata": {},
   "source": [
    "### 7.2.5. Scoring the right data"
   ]
  },
  {
   "cell_type": "code",
   "execution_count": 3,
   "metadata": {
    "ExecuteTime": {
     "end_time": "2020-02-26T02:02:41.891193Z",
     "start_time": "2020-02-26T02:02:41.840Z"
    }
   },
   "outputs": [
    {
     "data": {
      "text/html": [
       "<pre class=language-r><code>function (N = 20, k = 3, rho = c(0.15, -0.4), b_sigma = 100, \n",
       "<span style=white-space:pre-wrap>    WAIC = FALSE, LOOCV = FALSE, LOOIC = FALSE, cv.cores = 1, </span>\n",
       "<span style=white-space:pre-wrap>    return_model = FALSE) </span>\n",
       "{\n",
       "<span style=white-space:pre-wrap>    n_dim &lt;- 1 + length(rho)</span>\n",
       "<span style=white-space:pre-wrap>    if (n_dim &lt; k) </span>\n",
       "<span style=white-space:pre-wrap>        n_dim &lt;- k</span>\n",
       "<span style=white-space:pre-wrap>    Rho &lt;- diag(n_dim)</span>\n",
       "<span style=white-space:pre-wrap>    for (i in 1:length(rho)) {</span>\n",
       "<span style=white-space:pre-wrap>        Rho[1, i + 1] &lt;- rho[i]</span>\n",
       "<span style=white-space:pre-wrap>    }</span>\n",
       "<span style=white-space:pre-wrap>    Rho[lower.tri(Rho)] &lt;- Rho[upper.tri(Rho)]</span>\n",
       "<span style=white-space:pre-wrap>    X.train &lt;- mvrnorm(n = N, mu = rep(0, n_dim), Sigma = Rho)</span>\n",
       "<span style=white-space:pre-wrap>    X.test &lt;- mvrnorm(n = N, mu = rep(0, n_dim), Sigma = Rho)</span>\n",
       "<span style=white-space:pre-wrap>    mm.train &lt;- matrix(1, nrow = N, ncol = 1)</span>\n",
       "<span style=white-space:pre-wrap>    bnames &lt;- \"a\"</span>\n",
       "<span style=white-space:pre-wrap>    if (k &gt; 1) {</span>\n",
       "<span style=white-space:pre-wrap>        mm.train &lt;- cbind(mm.train, X.train[, 2:k])</span>\n",
       "<span style=white-space:pre-wrap>        bnames &lt;- c(\"a\", paste(\"b\", 1:(k - 1), sep = \"\"))</span>\n",
       "<span style=white-space:pre-wrap>        pnames &lt;- paste(\"b\", 1:(k - 1), sep = \"\")</span>\n",
       "<span style=white-space:pre-wrap>        P &lt;- paste(\"c(\", paste(pnames, collapse = \",\"), \")\", </span>\n",
       "<span style=white-space:pre-wrap>            sep = \"\", collapse = \"\")</span>\n",
       "<span style=white-space:pre-wrap>        Pf &lt;- paste(P, \"~ dnorm(0,\", b_sigma, \")\")</span>\n",
       "<span style=white-space:pre-wrap>    }</span>\n",
       "<span style=white-space:pre-wrap>    B &lt;- paste(\"c(\", paste(bnames, collapse = \",\"), \")\", sep = \"\", </span>\n",
       "<span style=white-space:pre-wrap>        collapse = \"\")</span>\n",
       "<span style=white-space:pre-wrap>    d &lt;- list(y = X.train[, 1], mm = mm.train, Bvec = B)</span>\n",
       "<span style=white-space:pre-wrap>    flist &lt;- list(y ~ dnorm(mu, 1), mu ~ 0 + mm %*% eval(parse(text = Bvec)))</span>\n",
       "<span style=white-space:pre-wrap>    start.list &lt;- list(a = 0)</span>\n",
       "<span style=white-space:pre-wrap>    if (k &gt; 1) {</span>\n",
       "<span style=white-space:pre-wrap>        flist[[3]] &lt;- eval(parse(text = Pf))</span>\n",
       "<span style=white-space:pre-wrap>        for (i in 2:k) {</span>\n",
       "<span style=white-space:pre-wrap>            ptext &lt;- paste(\"b\", i - 1, sep = \"\", collapse = \"\")</span>\n",
       "<span style=white-space:pre-wrap>            start.list[[i]] &lt;- 0</span>\n",
       "<span style=white-space:pre-wrap>            names(start.list)[i] &lt;- ptext</span>\n",
       "<span style=white-space:pre-wrap>        }</span>\n",
       "<span style=white-space:pre-wrap>    }</span>\n",
       "<span style=white-space:pre-wrap>    m &lt;- quap(flist, data = d, start = start.list)</span>\n",
       "<span style=white-space:pre-wrap>    dev.train &lt;- (-2) * sum(lppd(m))</span>\n",
       "<span style=white-space:pre-wrap>    mm.test &lt;- matrix(1, nrow = N, ncol = 1)</span>\n",
       "<span style=white-space:pre-wrap>    if (k &gt; 1) </span>\n",
       "<span style=white-space:pre-wrap>        mm.test &lt;- cbind(mm.test, X.test[, 2:k])</span>\n",
       "<span style=white-space:pre-wrap>    d_test &lt;- list(y = X.test[, 1], mm = mm.test, Bvec = B)</span>\n",
       "<span style=white-space:pre-wrap>    dev.test &lt;- (-2) * sum(lppd(m, data = d_test))</span>\n",
       "<span style=white-space:pre-wrap>    result &lt;- c(dev.train, dev.test)</span>\n",
       "<span style=white-space:pre-wrap>    if (WAIC == TRUE) {</span>\n",
       "<span style=white-space:pre-wrap>        wx &lt;- WAIC(m)</span>\n",
       "<span style=white-space:pre-wrap>        result &lt;- c(result, wx, abs(wx - dev.test))</span>\n",
       "<span style=white-space:pre-wrap>    }</span>\n",
       "<span style=white-space:pre-wrap>    if (LOOIC == TRUE) {</span>\n",
       "<span style=white-space:pre-wrap>        lx &lt;- LOO(m)</span>\n",
       "<span style=white-space:pre-wrap>        result &lt;- c(result, lx, abs(lx - dev.test))</span>\n",
       "<span style=white-space:pre-wrap>    }</span>\n",
       "<span style=white-space:pre-wrap>    if (LOOCV == TRUE) {</span>\n",
       "<span style=white-space:pre-wrap>        cvx &lt;- (-2) * cv_quap(m, start = start.list, cores = cv.cores)</span>\n",
       "<span style=white-space:pre-wrap>        result &lt;- c(result, cvx, abs(cvx - dev.test))</span>\n",
       "<span style=white-space:pre-wrap>    }</span>\n",
       "<span style=white-space:pre-wrap>    if (return_model == TRUE) {</span>\n",
       "<span style=white-space:pre-wrap>        result &lt;- list(model = m, result = result)</span>\n",
       "<span style=white-space:pre-wrap>    }</span>\n",
       "<span style=white-space:pre-wrap>    return(result)</span>\n",
       "}</code></pre>"
      ],
      "text/latex": [
       "\\begin{minted}{r}\n",
       "function (N = 20, k = 3, rho = c(0.15, -0.4), b\\_sigma = 100, \n",
       "    WAIC = FALSE, LOOCV = FALSE, LOOIC = FALSE, cv.cores = 1, \n",
       "    return\\_model = FALSE) \n",
       "\\{\n",
       "    n\\_dim <- 1 + length(rho)\n",
       "    if (n\\_dim < k) \n",
       "        n\\_dim <- k\n",
       "    Rho <- diag(n\\_dim)\n",
       "    for (i in 1:length(rho)) \\{\n",
       "        Rho{[}1, i + 1{]} <- rho{[}i{]}\n",
       "    \\}\n",
       "    Rho{[}lower.tri(Rho){]} <- Rho{[}upper.tri(Rho){]}\n",
       "    X.train <- mvrnorm(n = N, mu = rep(0, n\\_dim), Sigma = Rho)\n",
       "    X.test <- mvrnorm(n = N, mu = rep(0, n\\_dim), Sigma = Rho)\n",
       "    mm.train <- matrix(1, nrow = N, ncol = 1)\n",
       "    bnames <- \"a\"\n",
       "    if (k > 1) \\{\n",
       "        mm.train <- cbind(mm.train, X.train{[}, 2:k{]})\n",
       "        bnames <- c(\"a\", paste(\"b\", 1:(k - 1), sep = \"\"))\n",
       "        pnames <- paste(\"b\", 1:(k - 1), sep = \"\")\n",
       "        P <- paste(\"c(\", paste(pnames, collapse = \",\"), \")\", \n",
       "            sep = \"\", collapse = \"\")\n",
       "        Pf <- paste(P, \"\\textasciitilde{} dnorm(0,\", b\\_sigma, \")\")\n",
       "    \\}\n",
       "    B <- paste(\"c(\", paste(bnames, collapse = \",\"), \")\", sep = \"\", \n",
       "        collapse = \"\")\n",
       "    d <- list(y = X.train{[}, 1{]}, mm = mm.train, Bvec = B)\n",
       "    flist <- list(y \\textasciitilde{} dnorm(mu, 1), mu \\textasciitilde{} 0 + mm \\%*\\% eval(parse(text = Bvec)))\n",
       "    start.list <- list(a = 0)\n",
       "    if (k > 1) \\{\n",
       "        flist{[}{[}3{]}{]} <- eval(parse(text = Pf))\n",
       "        for (i in 2:k) \\{\n",
       "            ptext <- paste(\"b\", i - 1, sep = \"\", collapse = \"\")\n",
       "            start.list{[}{[}i{]}{]} <- 0\n",
       "            names(start.list){[}i{]} <- ptext\n",
       "        \\}\n",
       "    \\}\n",
       "    m <- quap(flist, data = d, start = start.list)\n",
       "    dev.train <- (-2) * sum(lppd(m))\n",
       "    mm.test <- matrix(1, nrow = N, ncol = 1)\n",
       "    if (k > 1) \n",
       "        mm.test <- cbind(mm.test, X.test{[}, 2:k{]})\n",
       "    d\\_test <- list(y = X.test{[}, 1{]}, mm = mm.test, Bvec = B)\n",
       "    dev.test <- (-2) * sum(lppd(m, data = d\\_test))\n",
       "    result <- c(dev.train, dev.test)\n",
       "    if (WAIC == TRUE) \\{\n",
       "        wx <- WAIC(m)\n",
       "        result <- c(result, wx, abs(wx - dev.test))\n",
       "    \\}\n",
       "    if (LOOIC == TRUE) \\{\n",
       "        lx <- LOO(m)\n",
       "        result <- c(result, lx, abs(lx - dev.test))\n",
       "    \\}\n",
       "    if (LOOCV == TRUE) \\{\n",
       "        cvx <- (-2) * cv\\_quap(m, start = start.list, cores = cv.cores)\n",
       "        result <- c(result, cvx, abs(cvx - dev.test))\n",
       "    \\}\n",
       "    if (return\\_model == TRUE) \\{\n",
       "        result <- list(model = m, result = result)\n",
       "    \\}\n",
       "    return(result)\n",
       "\\}\n",
       "\\end{minted}"
      ],
      "text/markdown": [
       "```r\n",
       "function (N = 20, k = 3, rho = c(0.15, -0.4), b_sigma = 100, \n",
       "    WAIC = FALSE, LOOCV = FALSE, LOOIC = FALSE, cv.cores = 1, \n",
       "    return_model = FALSE) \n",
       "{\n",
       "    n_dim <- 1 + length(rho)\n",
       "    if (n_dim < k) \n",
       "        n_dim <- k\n",
       "    Rho <- diag(n_dim)\n",
       "    for (i in 1:length(rho)) {\n",
       "        Rho[1, i + 1] <- rho[i]\n",
       "    }\n",
       "    Rho[lower.tri(Rho)] <- Rho[upper.tri(Rho)]\n",
       "    X.train <- mvrnorm(n = N, mu = rep(0, n_dim), Sigma = Rho)\n",
       "    X.test <- mvrnorm(n = N, mu = rep(0, n_dim), Sigma = Rho)\n",
       "    mm.train <- matrix(1, nrow = N, ncol = 1)\n",
       "    bnames <- \"a\"\n",
       "    if (k > 1) {\n",
       "        mm.train <- cbind(mm.train, X.train[, 2:k])\n",
       "        bnames <- c(\"a\", paste(\"b\", 1:(k - 1), sep = \"\"))\n",
       "        pnames <- paste(\"b\", 1:(k - 1), sep = \"\")\n",
       "        P <- paste(\"c(\", paste(pnames, collapse = \",\"), \")\", \n",
       "            sep = \"\", collapse = \"\")\n",
       "        Pf <- paste(P, \"~ dnorm(0,\", b_sigma, \")\")\n",
       "    }\n",
       "    B <- paste(\"c(\", paste(bnames, collapse = \",\"), \")\", sep = \"\", \n",
       "        collapse = \"\")\n",
       "    d <- list(y = X.train[, 1], mm = mm.train, Bvec = B)\n",
       "    flist <- list(y ~ dnorm(mu, 1), mu ~ 0 + mm %*% eval(parse(text = Bvec)))\n",
       "    start.list <- list(a = 0)\n",
       "    if (k > 1) {\n",
       "        flist[[3]] <- eval(parse(text = Pf))\n",
       "        for (i in 2:k) {\n",
       "            ptext <- paste(\"b\", i - 1, sep = \"\", collapse = \"\")\n",
       "            start.list[[i]] <- 0\n",
       "            names(start.list)[i] <- ptext\n",
       "        }\n",
       "    }\n",
       "    m <- quap(flist, data = d, start = start.list)\n",
       "    dev.train <- (-2) * sum(lppd(m))\n",
       "    mm.test <- matrix(1, nrow = N, ncol = 1)\n",
       "    if (k > 1) \n",
       "        mm.test <- cbind(mm.test, X.test[, 2:k])\n",
       "    d_test <- list(y = X.test[, 1], mm = mm.test, Bvec = B)\n",
       "    dev.test <- (-2) * sum(lppd(m, data = d_test))\n",
       "    result <- c(dev.train, dev.test)\n",
       "    if (WAIC == TRUE) {\n",
       "        wx <- WAIC(m)\n",
       "        result <- c(result, wx, abs(wx - dev.test))\n",
       "    }\n",
       "    if (LOOIC == TRUE) {\n",
       "        lx <- LOO(m)\n",
       "        result <- c(result, lx, abs(lx - dev.test))\n",
       "    }\n",
       "    if (LOOCV == TRUE) {\n",
       "        cvx <- (-2) * cv_quap(m, start = start.list, cores = cv.cores)\n",
       "        result <- c(result, cvx, abs(cvx - dev.test))\n",
       "    }\n",
       "    if (return_model == TRUE) {\n",
       "        result <- list(model = m, result = result)\n",
       "    }\n",
       "    return(result)\n",
       "}\n",
       "```"
      ],
      "text/plain": [
       "function (N = 20, k = 3, rho = c(0.15, -0.4), b_sigma = 100, \n",
       "    WAIC = FALSE, LOOCV = FALSE, LOOIC = FALSE, cv.cores = 1, \n",
       "    return_model = FALSE) \n",
       "{\n",
       "    n_dim <- 1 + length(rho)\n",
       "    if (n_dim < k) \n",
       "        n_dim <- k\n",
       "    Rho <- diag(n_dim)\n",
       "    for (i in 1:length(rho)) {\n",
       "        Rho[1, i + 1] <- rho[i]\n",
       "    }\n",
       "    Rho[lower.tri(Rho)] <- Rho[upper.tri(Rho)]\n",
       "    X.train <- mvrnorm(n = N, mu = rep(0, n_dim), Sigma = Rho)\n",
       "    X.test <- mvrnorm(n = N, mu = rep(0, n_dim), Sigma = Rho)\n",
       "    mm.train <- matrix(1, nrow = N, ncol = 1)\n",
       "    bnames <- \"a\"\n",
       "    if (k > 1) {\n",
       "        mm.train <- cbind(mm.train, X.train[, 2:k])\n",
       "        bnames <- c(\"a\", paste(\"b\", 1:(k - 1), sep = \"\"))\n",
       "        pnames <- paste(\"b\", 1:(k - 1), sep = \"\")\n",
       "        P <- paste(\"c(\", paste(pnames, collapse = \",\"), \")\", \n",
       "            sep = \"\", collapse = \"\")\n",
       "        Pf <- paste(P, \"~ dnorm(0,\", b_sigma, \")\")\n",
       "    }\n",
       "    B <- paste(\"c(\", paste(bnames, collapse = \",\"), \")\", sep = \"\", \n",
       "        collapse = \"\")\n",
       "    d <- list(y = X.train[, 1], mm = mm.train, Bvec = B)\n",
       "    flist <- list(y ~ dnorm(mu, 1), mu ~ 0 + mm %*% eval(parse(text = Bvec)))\n",
       "    start.list <- list(a = 0)\n",
       "    if (k > 1) {\n",
       "        flist[[3]] <- eval(parse(text = Pf))\n",
       "        for (i in 2:k) {\n",
       "            ptext <- paste(\"b\", i - 1, sep = \"\", collapse = \"\")\n",
       "            start.list[[i]] <- 0\n",
       "            names(start.list)[i] <- ptext\n",
       "        }\n",
       "    }\n",
       "    m <- quap(flist, data = d, start = start.list)\n",
       "    dev.train <- (-2) * sum(lppd(m))\n",
       "    mm.test <- matrix(1, nrow = N, ncol = 1)\n",
       "    if (k > 1) \n",
       "        mm.test <- cbind(mm.test, X.test[, 2:k])\n",
       "    d_test <- list(y = X.test[, 1], mm = mm.test, Bvec = B)\n",
       "    dev.test <- (-2) * sum(lppd(m, data = d_test))\n",
       "    result <- c(dev.train, dev.test)\n",
       "    if (WAIC == TRUE) {\n",
       "        wx <- WAIC(m)\n",
       "        result <- c(result, wx, abs(wx - dev.test))\n",
       "    }\n",
       "    if (LOOIC == TRUE) {\n",
       "        lx <- LOO(m)\n",
       "        result <- c(result, lx, abs(lx - dev.test))\n",
       "    }\n",
       "    if (LOOCV == TRUE) {\n",
       "        cvx <- (-2) * cv_quap(m, start = start.list, cores = cv.cores)\n",
       "        result <- c(result, cvx, abs(cvx - dev.test))\n",
       "    }\n",
       "    if (return_model == TRUE) {\n",
       "        result <- list(model = m, result = result)\n",
       "    }\n",
       "    return(result)\n",
       "}\n",
       "<bytecode: 0x000000003acbeeb0>\n",
       "<environment: namespace:rethinking>"
      ]
     },
     "metadata": {},
     "output_type": "display_data"
    }
   ],
   "source": [
    "sim_train_test"
   ]
  },
  {
   "cell_type": "code",
   "execution_count": 11,
   "metadata": {
    "ExecuteTime": {
     "end_time": "2020-02-26T02:36:00.828465Z",
     "start_time": "2020-02-26T02:36:00.188Z"
    }
   },
   "outputs": [],
   "source": [
    "help(mvrnorm)"
   ]
  },
  {
   "cell_type": "markdown",
   "metadata": {},
   "source": [
    "## Practice Problems"
   ]
  },
  {
   "cell_type": "code",
   "execution_count": 2,
   "metadata": {
    "cell_style": "split"
   },
   "outputs": [
    {
     "data": {
      "text/html": [
       "0.610864302054894"
      ],
      "text/latex": [
       "0.610864302054894"
      ],
      "text/markdown": [
       "0.610864302054894"
      ],
      "text/plain": [
       "[1] 0.6108643"
      ]
     },
     "metadata": {},
     "output_type": "display_data"
    }
   ],
   "source": [
    "# define probabilities of heads and tails\n",
    "p <- c( 0.7 , 0.3 )\n",
    "\n",
    "# compute entropy\n",
    "-sum( p*log(p) )"
   ]
  },
  {
   "cell_type": "code",
   "execution_count": 5,
   "metadata": {
    "cell_style": "split",
    "scrolled": true
   },
   "outputs": [
    {
     "data": {
      "text/html": [
       "<ol class=list-inline>\n",
       "\t<li>-0.249672460757113</li>\n",
       "\t<li>-0.361191841297781</li>\n",
       "</ol>\n"
      ],
      "text/latex": [
       "\\begin{enumerate*}\n",
       "\\item -0.249672460757113\n",
       "\\item -0.361191841297781\n",
       "\\end{enumerate*}\n"
      ],
      "text/markdown": [
       "1. -0.249672460757113\n",
       "2. -0.361191841297781\n",
       "\n",
       "\n"
      ],
      "text/plain": [
       "[1] -0.2496725 -0.3611918"
      ]
     },
     "metadata": {},
     "output_type": "display_data"
    }
   ],
   "source": [
    "p*log(p) "
   ]
  },
  {
   "cell_type": "code",
   "execution_count": 6,
   "metadata": {},
   "outputs": [
    {
     "data": {
      "text/html": [
       "1.37622660434455"
      ],
      "text/latex": [
       "1.37622660434455"
      ],
      "text/markdown": [
       "1.37622660434455"
      ],
      "text/plain": [
       "[1] 1.376227"
      ]
     },
     "metadata": {},
     "output_type": "display_data"
    }
   ],
   "source": [
    "# define probabilities of sides\n",
    "p <- c( 0.2 , 0.25 , 0.25 , 0.3 )\n",
    "\n",
    "# compute entropy\n",
    "-sum( p*log(p) )"
   ]
  },
  {
   "cell_type": "code",
   "execution_count": 9,
   "metadata": {},
   "outputs": [
    {
     "data": {
      "text/html": [
       "1.09861228866811"
      ],
      "text/latex": [
       "1.09861228866811"
      ],
      "text/markdown": [
       "1.09861228866811"
      ],
      "text/plain": [
       "[1] 1.098612"
      ]
     },
     "metadata": {},
     "output_type": "display_data"
    }
   ],
   "source": [
    "# define probabilities of sides\n",
    "p <- c( 1/3 , 1/3 , 1/3 )\n",
    "\n",
    "# compute entropy\n",
    "-sum( p*log(p) )"
   ]
  },
  {
   "cell_type": "code",
   "execution_count": null,
   "metadata": {},
   "outputs": [],
   "source": []
  },
  {
   "cell_type": "markdown",
   "metadata": {},
   "source": [
    "# MISC"
   ]
  },
  {
   "cell_type": "markdown",
   "metadata": {},
   "source": [
    "##### rough"
   ]
  },
  {
   "cell_type": "code",
   "execution_count": 1,
   "metadata": {
    "collapsed": true
   },
   "outputs": [
    {
     "name": "stderr",
     "output_type": "stream",
     "text": [
      "-- Attaching packages --------------------------------------- tidyverse 1.2.1 --\n",
      "v ggplot2 3.1.0     v purrr   0.2.5\n",
      "v tibble  1.4.2     v dplyr   0.7.8\n",
      "v tidyr   0.8.2     v stringr 1.3.1\n",
      "v readr   1.1.1     v forcats 0.3.0\n",
      "-- Conflicts ------------------------------------------ tidyverse_conflicts() --\n",
      "x dplyr::filter()  masks stats::filter()\n",
      "x purrr::flatten() masks jsonlite::flatten()\n",
      "x dplyr::lag()     masks stats::lag()\n",
      "Loading required package: rstan\n",
      "Loading required package: StanHeaders\n",
      "rstan (Version 2.18.2, GitRev: 2e1f913d3ca3)\n",
      "For execution on a local, multicore CPU with excess RAM we recommend calling\n",
      "options(mc.cores = parallel::detectCores()).\n",
      "To avoid recompilation of unchanged Stan programs, we recommend calling\n",
      "rstan_options(auto_write = TRUE)\n",
      "For improved execution time, we recommend calling\n",
      "Sys.setenv(LOCAL_CPPFLAGS = '-march=native')\n",
      "although this causes Stan to throw an error on a few processors.\n",
      "\n",
      "Attaching package: 'rstan'\n",
      "\n",
      "The following object is masked from 'package:tidyr':\n",
      "\n",
      "    extract\n",
      "\n",
      "Loading required package: parallel\n",
      "rethinking (Version 1.81)\n",
      "\n",
      "Attaching package: 'rethinking'\n",
      "\n",
      "The following object is masked from 'package:purrr':\n",
      "\n",
      "    map\n",
      "\n"
     ]
    }
   ],
   "source": [
    "## R code 7.13\n",
    "p <- c( 0.7 , 0.15 , 0.15)\n",
    "-sum( p*log(p) )\n",
    "\n",
    "## R code 7.1\n",
    "sppnames <- c( \"afarensis\",\"africanus\",\"habilis\",\"boisei\",\n",
    "    \"rudolfensis\",\"ergaster\",\"sapiens\")\n",
    "brainvolcc <- c( 438 , 452 , 612, 521, 752, 871, 1350 )\n",
    "masskg <- c( 37.0 , 35.5 , 34.5 , 41.5 , 55.5 , 61.0 , 53.5 )\n",
    "d <- data.frame( species=sppnames , brain=brainvolcc , mass=masskg )\n",
    "\n",
    "## R code 7.2\n",
    "d$mass_std <- (d$mass - mean(d$mass))/sd(d$mass)\n",
    "d$brain_std <- d$brain / max(d$brain)\n",
    "\n",
    "## R code 7.3\n",
    "m7.1 <- quap(\n",
    "    alist(\n",
    "        brain_std ~ dnorm( mu , exp(log_sigma) ),\n",
    "        mu <- a + b*mass_std,\n",
    "        a ~ dnorm( 0.5 , 1 ),\n",
    "        b ~ dnorm( 0 , 10 ),\n",
    "        log_sigma ~ dnorm( 0 , 1 )\n",
    "    ), data=d )\n",
    "\n",
    "## R code 7.15\n",
    "set.seed(1)\n",
    "logprob <- sim( m7.1 , ll=TRUE , n=1e4 )\n",
    "n <- ncol(logprob)\n",
    "ns <- nrow(logprob)\n",
    "f <- function( i ){\n",
    "    log_sum_exp( logprob[,i] ) - log(ns)( lppd <- sapply( 1:n , f ) )\n",
    "}\n",
    "\n",
    "\n",
    "\n",
    "## R code 7.20\n",
    "data(cars)\n",
    "m <- quap(\n",
    "    alist(\n",
    "        dist ~ dnorm(mu,sigma),\n",
    "        mu <- a + b*speed,\n",
    "        a ~ dnorm(0,100),\n",
    "        b ~ dnorm(0,10),\n",
    "        sigma ~ dexp(1)\n",
    "    ) , data=cars )\n",
    "set.seed(94)\n",
    "post <- extract.samples(m,n=1000)\n",
    "\n",
    "## R code 7.21\n",
    "n_samples <- 1000\n",
    "logprob <- sapply( 1:n_samples ,\n",
    "    function(s) {\n",
    "        mu <- post$a[s] + post$b[s]*cars$speed\n",
    "        dnorm( cars$dist , mu , post$sigma[s] , log=TRUE )\n",
    "    } )\n",
    "\n",
    "\n",
    "logprob %>% head()"
   ]
  },
  {
   "cell_type": "markdown",
   "metadata": {},
   "source": [
    "##### anonymous functions"
   ]
  },
  {
   "cell_type": "code",
   "execution_count": 15,
   "metadata": {},
   "outputs": [
    {
     "data": {
      "text/html": [
       "13"
      ],
      "text/latex": [
       "13"
      ],
      "text/markdown": [
       "13"
      ],
      "text/plain": [
       "[1] 13"
      ]
     },
     "metadata": {},
     "output_type": "display_data"
    },
    {
     "data": {
      "text/html": [
       "4"
      ],
      "text/latex": [
       "4"
      ],
      "text/markdown": [
       "4"
      ],
      "text/plain": [
       "[1] 4"
      ]
     },
     "metadata": {},
     "output_type": "display_data"
    }
   ],
   "source": [
    "(function(x) x + 3)(10)\n",
    " \n",
    " (function(x) x + 3)(1)"
   ]
  },
  {
   "cell_type": "markdown",
   "metadata": {},
   "source": [
    "## Notation"
   ]
  },
  {
   "cell_type": "markdown",
   "metadata": {},
   "source": [
    "average log-probability: E log(qi)"
   ]
  },
  {
   "cell_type": "markdown",
   "metadata": {},
   "source": [
    "## vocab"
   ]
  },
  {
   "cell_type": "markdown",
   "metadata": {},
   "source": [
    "<span style='background-color: lightgreen'>log probability</span> is simply the logarithm of a probability"
   ]
  }
 ],
 "metadata": {
  "hide_input": false,
  "kernelspec": {
   "display_name": "R",
   "language": "R",
   "name": "ir"
  },
  "language_info": {
   "codemirror_mode": "r",
   "file_extension": ".r",
   "mimetype": "text/x-r-source",
   "name": "R",
   "pygments_lexer": "r",
   "version": "3.6.3"
  },
  "toc": {
   "base_numbering": 1,
   "nav_menu": {},
   "number_sections": true,
   "sideBar": true,
   "skip_h1_title": false,
   "title_cell": "Table of Contents",
   "title_sidebar": "Contents",
   "toc_cell": true,
   "toc_position": {},
   "toc_section_display": true,
   "toc_window_display": false
  },
  "varInspector": {
   "cols": {
    "lenName": 16,
    "lenType": 16,
    "lenVar": 40
   },
   "kernels_config": {
    "python": {
     "delete_cmd_postfix": "",
     "delete_cmd_prefix": "del ",
     "library": "var_list.py",
     "varRefreshCmd": "print(var_dic_list())"
    },
    "r": {
     "delete_cmd_postfix": ") ",
     "delete_cmd_prefix": "rm(",
     "library": "var_list.r",
     "varRefreshCmd": "cat(var_dic_list()) "
    }
   },
   "types_to_exclude": [
    "module",
    "function",
    "builtin_function_or_method",
    "instance",
    "_Feature"
   ],
   "window_display": false
  }
 },
 "nbformat": 4,
 "nbformat_minor": 2
}
