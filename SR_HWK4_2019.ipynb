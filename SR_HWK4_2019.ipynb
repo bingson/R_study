{
 "cells": [
  {
   "cell_type": "markdown",
   "metadata": {
    "toc": true
   },
   "source": [
    "<h1>Table of Contents<span class=\"tocSkip\"></span></h1>\n",
    "<div class=\"toc\"><ul class=\"toc-item\"><li><span><a href=\"#Homework-4\" data-toc-modified-id=\"Homework-4-1\"><span class=\"toc-item-num\">1&nbsp;&nbsp;</span>Homework 4</a></span><ul class=\"toc-item\"><li><span><a href=\"#Question-1:-Consider-three-fictional-Polynesian-islands.\" data-toc-modified-id=\"Question-1:-Consider-three-fictional-Polynesian-islands.-1.1\"><span class=\"toc-item-num\">1.1&nbsp;&nbsp;</span>Question 1: Consider three fictional Polynesian islands.</a></span></li><li><span><a href=\"#Question-2:-marriage,-age,-and-happiness-collider-bias\" data-toc-modified-id=\"Question-2:-marriage,-age,-and-happiness-collider-bias-1.2\"><span class=\"toc-item-num\">1.2&nbsp;&nbsp;</span>Question 2: marriage, age, and happiness collider bias</a></span></li><li><span><a href=\"#Question-3:-urban-fox-analysis\" data-toc-modified-id=\"Question-3:-urban-fox-analysis-1.3\"><span class=\"toc-item-num\">1.3&nbsp;&nbsp;</span>Question 3: urban fox analysis</a></span></li></ul></li><li><span><a href=\"#Notes\" data-toc-modified-id=\"Notes-2\"><span class=\"toc-item-num\">2&nbsp;&nbsp;</span>Notes</a></span><ul class=\"toc-item\"><li><span><a href=\"#Q1\" data-toc-modified-id=\"Q1-2.1\"><span class=\"toc-item-num\">2.1&nbsp;&nbsp;</span>Q1</a></span></li></ul></li></ul></div>"
   ]
  },
  {
   "cell_type": "markdown",
   "metadata": {},
   "source": [
    "# Homework 4"
   ]
  },
  {
   "cell_type": "markdown",
   "metadata": {
    "heading_collapsed": true
   },
   "source": [
    "## Question 1: Consider three fictional Polynesian islands. "
   ]
  },
  {
   "cell_type": "markdown",
   "metadata": {
    "hidden": true
   },
   "source": [
    "On each there is a Royal Ornithologist charged by the king with surveying the birb population. They have each found the following proportions of 5 important birb species:\n",
    "\n",
    "-|Birb A | Birb B | Birb C | Birb D | Birb E\n",
    "-|-------|--------|--------|--------|-------\n",
    "Island 1| 0.2 |0.2 |0.2| 0.2| 0.2\n",
    "Island 2| 0.8|0.1|0.05|0.025|0.025\n",
    "Island 3|0.05|0.15|0.7|0.05|0.05\n",
    "\n",
    "\n",
    "Notice that each row sums to 1, all the birbs. This problem has two parts. It\n",
    "is not computationally complicated. But it is conceptually tricky."
   ]
  },
  {
   "cell_type": "markdown",
   "metadata": {
    "hidden": true
   },
   "source": [
    "* <b><font color = 'purple'>First </font></b>, compute the entropy of each island’s birb distribution. <b><font color = 'purple'>Interpret </font></b> these entropy values. \n",
    "\n",
    "\n",
    "* <b><font color = 'purple'>Second </font></b>, use each island’s birb distribution to predict the other two. \n",
    "\n",
    "    This means to compute the K-L Divergence of each island from the others, treating each island as if it were a statistical model of the other islands. \n",
    "    \n",
    "    You should end up with 6 different K-L Divergence values. \n",
    "    \n",
    "    <font color = 'purple'><b>Which</b> island predicts the others best? Why? </font>"
   ]
  },
  {
   "cell_type": "markdown",
   "metadata": {
    "heading_collapsed": true,
    "hidden": true
   },
   "source": [
    "##### <b><font color = 'MAROON'>entropy of each island’s birb distribution</font></b>"
   ]
  },
  {
   "cell_type": "markdown",
   "metadata": {
    "hidden": true
   },
   "source": [
    "$H(p) = −( p_1*log(p_1) + p_2*log(p_2)) ≈ 0.61 $"
   ]
  },
  {
   "cell_type": "code",
   "execution_count": 11,
   "metadata": {
    "ExecuteTime": {
     "end_time": "2020-03-22T19:51:49.316719Z",
     "start_time": "2020-03-22T19:51:49.260Z"
    },
    "hidden": true
   },
   "outputs": [
    {
     "data": {
      "text/html": [
       "1.6094379124341"
      ],
      "text/latex": [
       "1.6094379124341"
      ],
      "text/markdown": [
       "1.6094379124341"
      ],
      "text/plain": [
       "[1] 1.609438"
      ]
     },
     "metadata": {},
     "output_type": "display_data"
    }
   ],
   "source": [
    "# bas\n",
    "p <- c(0.2, 0.2, 0.2, 0.2, 0.2)\n",
    "-sum( p*log(p) )"
   ]
  },
  {
   "cell_type": "code",
   "execution_count": 42,
   "metadata": {
    "ExecuteTime": {
     "end_time": "2020-03-24T01:35:19.466673Z",
     "start_time": "2020-03-24T01:35:19.372Z"
    },
    "hidden": true
   },
   "outputs": [
    {
     "data": {
      "text/html": [
       "1.609"
      ],
      "text/latex": [
       "1.609"
      ],
      "text/markdown": [
       "1.609"
      ],
      "text/plain": [
       "[1] 1.609"
      ]
     },
     "metadata": {},
     "output_type": "display_data"
    },
    {
     "data": {
      "text/html": [
       "0.743"
      ],
      "text/latex": [
       "0.743"
      ],
      "text/markdown": [
       "0.743"
      ],
      "text/plain": [
       "[1] 0.743"
      ]
     },
     "metadata": {},
     "output_type": "display_data"
    },
    {
     "data": {
      "text/html": [
       "0.984"
      ],
      "text/latex": [
       "0.984"
      ],
      "text/markdown": [
       "0.984"
      ],
      "text/plain": [
       "[1] 0.984"
      ]
     },
     "metadata": {},
     "output_type": "display_data"
    }
   ],
   "source": [
    "H <- function(p) -sum(p*log(p))\n",
    "\n",
    "entropy <- compose(H,\n",
    "                  ~ round(., digits = 3),\n",
    "                  .dir = 'forward')\n",
    "\n",
    "# island 1\n",
    "entropy(c(0.2, 0.2, 0.2, 0.2, 0.2))\n",
    "\n",
    "# island 2\n",
    "entropy(c(0.8, 0.1, 0.05, 0.025, 0.025))\n",
    "\n",
    "# island 3\n",
    "entropy(c(0.05, 0.15, 0.7, 0.05, 0.05))"
   ]
  },
  {
   "cell_type": "code",
   "execution_count": 20,
   "metadata": {
    "ExecuteTime": {
     "end_time": "2020-03-22T21:14:11.468567Z",
     "start_time": "2020-03-22T21:14:11.399Z"
    },
    "code_folding": [],
    "collapsed": true,
    "hidden": true
   },
   "outputs": [
    {
     "data": {
      "text/html": [
       "<ol>\n",
       "\t<li>1.6094379124341</li>\n",
       "\t<li>0.743003936734169</li>\n",
       "\t<li>0.983600299523093</li>\n",
       "</ol>\n"
      ],
      "text/latex": [
       "\\begin{enumerate}\n",
       "\\item 1.6094379124341\n",
       "\\item 0.743003936734169\n",
       "\\item 0.983600299523093\n",
       "\\end{enumerate}\n"
      ],
      "text/markdown": [
       "1. 1.6094379124341\n",
       "2. 0.743003936734169\n",
       "3. 0.983600299523093\n",
       "\n",
       "\n"
      ],
      "text/plain": [
       "[[1]]\n",
       "[1] 1.609438\n",
       "\n",
       "[[2]]\n",
       "[1] 0.7430039\n",
       "\n",
       "[[3]]\n",
       "[1] 0.9836003\n"
      ]
     },
     "metadata": {},
     "output_type": "display_data"
    }
   ],
   "source": [
    "# Teacher soln\n",
    "H <- function(p) -sum(p*log(p))\n",
    "IB <- list()\n",
    "\n",
    "IB[[1]] <- c( 0.2 , 0.2 , 0.2 , 0.2 , 0.2 )\n",
    "IB[[2]] <- c( 0.8 , 0.1 , 0.05 , 0.025 , 0.025 )\n",
    "IB[[3]] <- c( 0.05 , 0.15 , 0.7 , 0.05 , 0.05 )\n",
    "\n",
    "map( IB , H ) # sapply( IB , H )"
   ]
  },
  {
   "cell_type": "markdown",
   "metadata": {
    "hidden": true
   },
   "source": [
    "Flatest distribution has the highest entropy because entropy is a measure of potential surprise, with distributions with lower potential surprise having higher entropy. \n",
    "\n",
    "The first island has the largest entropy, followed by the third, and then the second in last place. Why is this? <font color = 'blue'>Entropy is a measure of the evenness of a distribution</font>. \n",
    "\n",
    "* The first islands has the most even distribution of birbs. This means you wouldn’t be very surprised by any particular birb. \n",
    "\n",
    "\n",
    "* The second island, in contrast, has a very uneven distribution of birbs. If you saw any birb other than the first species, it would be surprising."
   ]
  },
  {
   "cell_type": "markdown",
   "metadata": {
    "heading_collapsed": true,
    "hidden": true
   },
   "source": [
    "##### <b><font color = 'MAROON'>use each island’s birb distribution to predict the other two.</font></b>"
   ]
  },
  {
   "cell_type": "code",
   "execution_count": 37,
   "metadata": {
    "ExecuteTime": {
     "end_time": "2020-03-24T01:34:38.945297Z",
     "start_time": "2020-03-24T01:34:38.897Z"
    },
    "hidden": true
   },
   "outputs": [],
   "source": [
    "IB <- list()\n",
    "\n",
    "IB[[1]] <- c( 0.2 , 0.2 , 0.2 , 0.2 , 0.2 )\n",
    "IB[[2]] <- c( 0.8 , 0.1 , 0.05 , 0.025 , 0.025 )\n",
    "IB[[3]] <- c( 0.05 , 0.15 , 0.7 , 0.05 , 0.05 )"
   ]
  },
  {
   "cell_type": "code",
   "execution_count": 51,
   "metadata": {
    "ExecuteTime": {
     "end_time": "2020-03-24T01:45:13.283780Z",
     "start_time": "2020-03-24T01:45:13.224Z"
    },
    "hidden": true
   },
   "outputs": [
    {
     "data": {
      "text/html": [
       "0.97"
      ],
      "text/latex": [
       "0.97"
      ],
      "text/markdown": [
       "0.97"
      ],
      "text/plain": [
       "[1] 0.97"
      ]
     },
     "metadata": {},
     "output_type": "display_data"
    }
   ],
   "source": [
    "DKL <- function(p,q) sum(p*(log(p) - log(q)))\n",
    "\n",
    "divergence <- compose(DKL,\n",
    "                      ~ round(., digits = 3),\n",
    "                      .dir = 'forward')\n",
    "\n",
    "divergence(IB[[1]], IB[[2]])\n",
    "                       "
   ]
  },
  {
   "cell_type": "code",
   "execution_count": 68,
   "metadata": {
    "ExecuteTime": {
     "end_time": "2020-03-24T01:52:30.145077Z",
     "start_time": "2020-03-24T01:52:30.059Z"
    },
    "hidden": true
   },
   "outputs": [
    {
     "data": {
      "text/html": [
       "<table>\n",
       "<caption>A matrix: 3 × 3 of type dbl</caption>\n",
       "<thead>\n",
       "\t<tr><th></th><th scope=col>1</th><th scope=col>2</th><th scope=col>3</th></tr>\n",
       "</thead>\n",
       "<tbody>\n",
       "\t<tr><th scope=row>1</th><td>0.00</td><td>0.87</td><td>0.63</td></tr>\n",
       "\t<tr><th scope=row>2</th><td>0.97</td><td>0.00</td><td>1.84</td></tr>\n",
       "\t<tr><th scope=row>3</th><td>0.64</td><td>2.01</td><td>0.00</td></tr>\n",
       "</tbody>\n",
       "</table>\n"
      ],
      "text/latex": [
       "A matrix: 3 × 3 of type dbl\n",
       "\\begin{tabular}{r|lll}\n",
       "  & 1 & 2 & 3\\\\\n",
       "\\hline\n",
       "\t1 & 0.00 & 0.87 & 0.63\\\\\n",
       "\t2 & 0.97 & 0.00 & 1.84\\\\\n",
       "\t3 & 0.64 & 2.01 & 0.00\\\\\n",
       "\\end{tabular}\n"
      ],
      "text/markdown": [
       "\n",
       "A matrix: 3 × 3 of type dbl\n",
       "\n",
       "| <!--/--> | 1 | 2 | 3 |\n",
       "|---|---|---|---|\n",
       "| 1 | 0.00 | 0.87 | 0.63 |\n",
       "| 2 | 0.97 | 0.00 | 1.84 |\n",
       "| 3 | 0.64 | 2.01 | 0.00 |\n",
       "\n"
      ],
      "text/plain": [
       "  1    2    3   \n",
       "1 0.00 0.87 0.63\n",
       "2 0.97 0.00 1.84\n",
       "3 0.64 2.01 0.00"
      ]
     },
     "metadata": {},
     "output_type": "display_data"
    }
   ],
   "source": [
    "Dm <- matrix( NA , nrow=3 , ncol=3 , dimnames  = list(1:3,1:3))\n",
    "\n",
    "for ( i in 1:3 ) \n",
    "    for ( j in 1:3 ) \n",
    "        Dm[i,j] <- DKL( IB[[j]] , IB[[i]] )\n",
    "    \n",
    "round( Dm , 2 )\n",
    "\n"
   ]
  },
  {
   "cell_type": "code",
   "execution_count": 90,
   "metadata": {
    "ExecuteTime": {
     "end_time": "2020-03-24T02:00:53.363342Z",
     "start_time": "2020-03-24T02:00:53.308Z"
    },
    "hidden": true
   },
   "outputs": [
    {
     "name": "stdout",
     "output_type": "stream",
     "text": [
      "[1] 1.492272\n",
      "[1] 2.809251\n",
      "[1] 2.649675\n"
     ]
    }
   ],
   "source": [
    "for (i in 1:nrow(Dm))\n",
    "    print(sum(Dm[i,]))"
   ]
  },
  {
   "cell_type": "markdown",
   "metadata": {
    "hidden": true
   },
   "source": [
    "The way to read this is <font color = 'blue'>each row as a model</font> and <font color = 'blue'>each column as a true distribution</font>. \n",
    "\n",
    "<font color = 'blue'>So the first island, the first row, has the smaller distances to the other islands</font>. This makes sense, since it has the highest entropy. Why does that give it a shorter distance to the other islands? Because it is less surprised by the other islands, due to its high entropy."
   ]
  },
  {
   "cell_type": "markdown",
   "metadata": {
    "heading_collapsed": true
   },
   "source": [
    "## Question 2: marriage, age, and happiness collider bias"
   ]
  },
  {
   "cell_type": "markdown",
   "metadata": {
    "hidden": true
   },
   "source": [
    "Recall the marriage, age, and happiness collider bias example from Chapter 6. \n",
    "\n",
    "1. Run models m6.9 and m6.10 again. \n",
    "* Compare these two models using WAIC (or LOO, they will produce identical results). \n",
    "\n",
    "    a. Which model is expected to make better predictions? \n",
    "\n",
    "    b. Which model provides the correct causal inference about the influence of age on happiness? \n",
    "\n",
    "    c. Can you explain why the answers to these two questions disagree?"
   ]
  },
  {
   "cell_type": "code",
   "execution_count": 93,
   "metadata": {
    "ExecuteTime": {
     "end_time": "2020-03-24T04:31:54.382959Z",
     "start_time": "2020-03-24T04:31:48.370Z"
    },
    "hidden": true
   },
   "outputs": [
    {
     "data": {
      "text/html": [
       "<table>\n",
       "<caption>A precis: 3 × 4</caption>\n",
       "<thead>\n",
       "\t<tr><th></th><th scope=col>mean</th><th scope=col>sd</th><th scope=col>5.5%</th><th scope=col>94.5%</th></tr>\n",
       "\t<tr><th></th><th scope=col>&lt;dbl&gt;</th><th scope=col>&lt;dbl&gt;</th><th scope=col>&lt;dbl&gt;</th><th scope=col>&lt;dbl&gt;</th></tr>\n",
       "</thead>\n",
       "<tbody>\n",
       "\t<tr><th scope=row>age</th><td> 3.300000e+01</td><td>18.768883</td><td> 4.000000</td><td>62.000000</td></tr>\n",
       "\t<tr><th scope=row>married</th><td> 3.007692e-01</td><td> 0.458769</td><td> 0.000000</td><td> 1.000000</td></tr>\n",
       "\t<tr><th scope=row>happiness</th><td>-1.000070e-16</td><td> 1.214421</td><td>-1.789474</td><td> 1.789474</td></tr>\n",
       "</tbody>\n",
       "</table>\n"
      ],
      "text/latex": [
       "A precis: 3 × 4\n",
       "\\begin{tabular}{r|llll}\n",
       "  & mean & sd & 5.5\\% & 94.5\\%\\\\\n",
       "  & <dbl> & <dbl> & <dbl> & <dbl>\\\\\n",
       "\\hline\n",
       "\tage &  3.300000e+01 & 18.768883 &  4.000000 & 62.000000\\\\\n",
       "\tmarried &  3.007692e-01 &  0.458769 &  0.000000 &  1.000000\\\\\n",
       "\thappiness & -1.000070e-16 &  1.214421 & -1.789474 &  1.789474\\\\\n",
       "\\end{tabular}\n"
      ],
      "text/markdown": [
       "\n",
       "A precis: 3 × 4\n",
       "\n",
       "| <!--/--> | mean &lt;dbl&gt; | sd &lt;dbl&gt; | 5.5% &lt;dbl&gt; | 94.5% &lt;dbl&gt; |\n",
       "|---|---|---|---|---|\n",
       "| age |  3.300000e+01 | 18.768883 |  4.000000 | 62.000000 |\n",
       "| married |  3.007692e-01 |  0.458769 |  0.000000 |  1.000000 |\n",
       "| happiness | -1.000070e-16 |  1.214421 | -1.789474 |  1.789474 |\n",
       "\n"
      ],
      "text/plain": [
       "          mean          sd        5.5%      94.5%    \n",
       "age        3.300000e+01 18.768883  4.000000 62.000000\n",
       "married    3.007692e-01  0.458769  0.000000  1.000000\n",
       "happiness -1.000070e-16  1.214421 -1.789474  1.789474"
      ]
     },
     "metadata": {},
     "output_type": "display_data"
    }
   ],
   "source": [
    "## R code 6.21\n",
    "library(rethinking)\n",
    "d <- sim_happiness( seed=1977 , N_years=1000 )\n",
    "precis(d, hist=F)\n",
    "\n",
    "## R code 6.22\n",
    "d2 <- d[ d$age>17 , ] # only adults\n",
    "d2$A <- ( d2$age - 18 ) / ( 65 - 18 )"
   ]
  },
  {
   "cell_type": "code",
   "execution_count": 101,
   "metadata": {
    "ExecuteTime": {
     "end_time": "2020-03-24T04:38:57.138793Z",
     "start_time": "2020-03-24T04:38:57.078Z"
    },
    "hidden": true
   },
   "outputs": [
    {
     "data": {
      "text/html": [
       "<table>\n",
       "<caption>A data.frame: 6 × 5</caption>\n",
       "<thead>\n",
       "\t<tr><th></th><th scope=col>age</th><th scope=col>married</th><th scope=col>happiness</th><th scope=col>A</th><th scope=col>mid</th></tr>\n",
       "\t<tr><th></th><th scope=col>&lt;dbl&gt;</th><th scope=col>&lt;dbl&gt;</th><th scope=col>&lt;dbl&gt;</th><th scope=col>&lt;dbl&gt;</th><th scope=col>&lt;dbl&gt;</th></tr>\n",
       "</thead>\n",
       "<tbody>\n",
       "\t<tr><th scope=row>1</th><td>65</td><td>0</td><td>-2.0000000</td><td>1</td><td>1</td></tr>\n",
       "\t<tr><th scope=row>2</th><td>65</td><td>0</td><td>-1.7894737</td><td>1</td><td>1</td></tr>\n",
       "\t<tr><th scope=row>3</th><td>65</td><td>1</td><td>-1.5789474</td><td>1</td><td>2</td></tr>\n",
       "\t<tr><th scope=row>4</th><td>65</td><td>0</td><td>-1.3684211</td><td>1</td><td>1</td></tr>\n",
       "\t<tr><th scope=row>5</th><td>65</td><td>0</td><td>-1.1578947</td><td>1</td><td>1</td></tr>\n",
       "\t<tr><th scope=row>6</th><td>65</td><td>0</td><td>-0.9473684</td><td>1</td><td>1</td></tr>\n",
       "</tbody>\n",
       "</table>\n"
      ],
      "text/latex": [
       "A data.frame: 6 × 5\n",
       "\\begin{tabular}{r|lllll}\n",
       "  & age & married & happiness & A & mid\\\\\n",
       "  & <dbl> & <dbl> & <dbl> & <dbl> & <dbl>\\\\\n",
       "\\hline\n",
       "\t1 & 65 & 0 & -2.0000000 & 1 & 1\\\\\n",
       "\t2 & 65 & 0 & -1.7894737 & 1 & 1\\\\\n",
       "\t3 & 65 & 1 & -1.5789474 & 1 & 2\\\\\n",
       "\t4 & 65 & 0 & -1.3684211 & 1 & 1\\\\\n",
       "\t5 & 65 & 0 & -1.1578947 & 1 & 1\\\\\n",
       "\t6 & 65 & 0 & -0.9473684 & 1 & 1\\\\\n",
       "\\end{tabular}\n"
      ],
      "text/markdown": [
       "\n",
       "A data.frame: 6 × 5\n",
       "\n",
       "| <!--/--> | age &lt;dbl&gt; | married &lt;dbl&gt; | happiness &lt;dbl&gt; | A &lt;dbl&gt; | mid &lt;dbl&gt; |\n",
       "|---|---|---|---|---|---|\n",
       "| 1 | 65 | 0 | -2.0000000 | 1 | 1 |\n",
       "| 2 | 65 | 0 | -1.7894737 | 1 | 1 |\n",
       "| 3 | 65 | 1 | -1.5789474 | 1 | 2 |\n",
       "| 4 | 65 | 0 | -1.3684211 | 1 | 1 |\n",
       "| 5 | 65 | 0 | -1.1578947 | 1 | 1 |\n",
       "| 6 | 65 | 0 | -0.9473684 | 1 | 1 |\n",
       "\n"
      ],
      "text/plain": [
       "  age married happiness  A mid\n",
       "1 65  0       -2.0000000 1 1  \n",
       "2 65  0       -1.7894737 1 1  \n",
       "3 65  1       -1.5789474 1 2  \n",
       "4 65  0       -1.3684211 1 1  \n",
       "5 65  0       -1.1578947 1 1  \n",
       "6 65  0       -0.9473684 1 1  "
      ]
     },
     "metadata": {},
     "output_type": "display_data"
    }
   ],
   "source": [
    "d2 %>% head()"
   ]
  },
  {
   "cell_type": "code",
   "execution_count": 94,
   "metadata": {
    "ExecuteTime": {
     "end_time": "2020-03-24T04:34:29.529979Z",
     "start_time": "2020-03-24T04:34:29.350Z"
    },
    "hidden": true
   },
   "outputs": [
    {
     "data": {
      "text/html": [
       "<table>\n",
       "<caption>A data.frame: 4 × 4</caption>\n",
       "<thead>\n",
       "\t<tr><th></th><th scope=col>mean</th><th scope=col>sd</th><th scope=col>5.5%</th><th scope=col>94.5%</th></tr>\n",
       "\t<tr><th></th><th scope=col>&lt;dbl&gt;</th><th scope=col>&lt;dbl&gt;</th><th scope=col>&lt;dbl&gt;</th><th scope=col>&lt;dbl&gt;</th></tr>\n",
       "</thead>\n",
       "<tbody>\n",
       "\t<tr><th scope=row>a[1]</th><td>-0.24</td><td>0.06</td><td>-0.34</td><td>-0.13</td></tr>\n",
       "\t<tr><th scope=row>a[2]</th><td> 1.26</td><td>0.08</td><td> 1.12</td><td> 1.39</td></tr>\n",
       "\t<tr><th scope=row>bA</th><td>-0.75</td><td>0.11</td><td>-0.93</td><td>-0.57</td></tr>\n",
       "\t<tr><th scope=row>sigma</th><td> 0.99</td><td>0.02</td><td> 0.95</td><td> 1.03</td></tr>\n",
       "</tbody>\n",
       "</table>\n"
      ],
      "text/latex": [
       "A data.frame: 4 × 4\n",
       "\\begin{tabular}{r|llll}\n",
       "  & mean & sd & 5.5\\% & 94.5\\%\\\\\n",
       "  & <dbl> & <dbl> & <dbl> & <dbl>\\\\\n",
       "\\hline\n",
       "\ta{[}1{]} & -0.24 & 0.06 & -0.34 & -0.13\\\\\n",
       "\ta{[}2{]} &  1.26 & 0.08 &  1.12 &  1.39\\\\\n",
       "\tbA & -0.75 & 0.11 & -0.93 & -0.57\\\\\n",
       "\tsigma &  0.99 & 0.02 &  0.95 &  1.03\\\\\n",
       "\\end{tabular}\n"
      ],
      "text/markdown": [
       "\n",
       "A data.frame: 4 × 4\n",
       "\n",
       "| <!--/--> | mean &lt;dbl&gt; | sd &lt;dbl&gt; | 5.5% &lt;dbl&gt; | 94.5% &lt;dbl&gt; |\n",
       "|---|---|---|---|---|\n",
       "| a[1] | -0.24 | 0.06 | -0.34 | -0.13 |\n",
       "| a[2] |  1.26 | 0.08 |  1.12 |  1.39 |\n",
       "| bA | -0.75 | 0.11 | -0.93 | -0.57 |\n",
       "| sigma |  0.99 | 0.02 |  0.95 |  1.03 |\n",
       "\n"
      ],
      "text/plain": [
       "      mean  sd   5.5%  94.5%\n",
       "a[1]  -0.24 0.06 -0.34 -0.13\n",
       "a[2]   1.26 0.08  1.12  1.39\n",
       "bA    -0.75 0.11 -0.93 -0.57\n",
       "sigma  0.99 0.02  0.95  1.03"
      ]
     },
     "metadata": {},
     "output_type": "display_data"
    }
   ],
   "source": [
    "## R code 6.23\n",
    "\n",
    "# create marriage status index variable\n",
    "d2$mid <- d2$married + 1 \n",
    "\n",
    "\n",
    "m6.9 <- quap(\n",
    "    alist(\n",
    "        happiness ~ dnorm( mu , sigma ),\n",
    "        mu <- a[mid] + bA*A,    # mid=marriage_status, A=Age\n",
    "        a[mid] ~ dnorm( 0 , 1 ),\n",
    "        bA ~ dnorm( 0 , 2 ),\n",
    "        sigma ~ dexp(1)\n",
    "    ) , data=d2 )\n",
    "precis(m6.9,depth=2) %>% round(2)"
   ]
  },
  {
   "cell_type": "code",
   "execution_count": 95,
   "metadata": {
    "ExecuteTime": {
     "end_time": "2020-03-24T04:34:37.881044Z",
     "start_time": "2020-03-24T04:34:37.751Z"
    },
    "hidden": true
   },
   "outputs": [
    {
     "data": {
      "text/html": [
       "<table>\n",
       "<caption>A data.frame: 3 × 4</caption>\n",
       "<thead>\n",
       "\t<tr><th></th><th scope=col>mean</th><th scope=col>sd</th><th scope=col>5.5%</th><th scope=col>94.5%</th></tr>\n",
       "\t<tr><th></th><th scope=col>&lt;dbl&gt;</th><th scope=col>&lt;dbl&gt;</th><th scope=col>&lt;dbl&gt;</th><th scope=col>&lt;dbl&gt;</th></tr>\n",
       "</thead>\n",
       "<tbody>\n",
       "\t<tr><th scope=row>a</th><td>0.00</td><td>0.08</td><td>-0.12</td><td>0.12</td></tr>\n",
       "\t<tr><th scope=row>bA</th><td>0.00</td><td>0.13</td><td>-0.21</td><td>0.21</td></tr>\n",
       "\t<tr><th scope=row>sigma</th><td>1.21</td><td>0.03</td><td> 1.17</td><td>1.26</td></tr>\n",
       "</tbody>\n",
       "</table>\n"
      ],
      "text/latex": [
       "A data.frame: 3 × 4\n",
       "\\begin{tabular}{r|llll}\n",
       "  & mean & sd & 5.5\\% & 94.5\\%\\\\\n",
       "  & <dbl> & <dbl> & <dbl> & <dbl>\\\\\n",
       "\\hline\n",
       "\ta & 0.00 & 0.08 & -0.12 & 0.12\\\\\n",
       "\tbA & 0.00 & 0.13 & -0.21 & 0.21\\\\\n",
       "\tsigma & 1.21 & 0.03 &  1.17 & 1.26\\\\\n",
       "\\end{tabular}\n"
      ],
      "text/markdown": [
       "\n",
       "A data.frame: 3 × 4\n",
       "\n",
       "| <!--/--> | mean &lt;dbl&gt; | sd &lt;dbl&gt; | 5.5% &lt;dbl&gt; | 94.5% &lt;dbl&gt; |\n",
       "|---|---|---|---|---|\n",
       "| a | 0.00 | 0.08 | -0.12 | 0.12 |\n",
       "| bA | 0.00 | 0.13 | -0.21 | 0.21 |\n",
       "| sigma | 1.21 | 0.03 |  1.17 | 1.26 |\n",
       "\n"
      ],
      "text/plain": [
       "      mean sd   5.5%  94.5%\n",
       "a     0.00 0.08 -0.12 0.12 \n",
       "bA    0.00 0.13 -0.21 0.21 \n",
       "sigma 1.21 0.03  1.17 1.26 "
      ]
     },
     "metadata": {},
     "output_type": "display_data"
    }
   ],
   "source": [
    "## R code 6.24\n",
    "m6.10 <- quap(\n",
    "    alist(\n",
    "        happiness ~ dnorm( mu , sigma ),\n",
    "        mu <- a + bA*A, \n",
    "        a ~ dnorm( 0 , 1 ),\n",
    "        bA ~ dnorm( 0 , 2 ),\n",
    "        sigma ~ dexp(1)\n",
    "    ) , data=d2 )\n",
    "\n",
    "precis(m6.10) %>% round(2)"
   ]
  },
  {
   "cell_type": "code",
   "execution_count": 100,
   "metadata": {
    "ExecuteTime": {
     "end_time": "2020-03-24T04:37:25.808119Z",
     "start_time": "2020-03-24T04:37:24.738Z"
    },
    "hidden": true,
    "scrolled": true
   },
   "outputs": [
    {
     "data": {
      "text/html": [
       "<table>\n",
       "<caption>A data.frame: 2 × 6</caption>\n",
       "<thead>\n",
       "\t<tr><th></th><th scope=col>WAIC</th><th scope=col>SE</th><th scope=col>dWAIC</th><th scope=col>dSE</th><th scope=col>pWAIC</th><th scope=col>weight</th></tr>\n",
       "\t<tr><th></th><th scope=col>&lt;dbl&gt;</th><th scope=col>&lt;dbl&gt;</th><th scope=col>&lt;dbl&gt;</th><th scope=col>&lt;dbl&gt;</th><th scope=col>&lt;dbl&gt;</th><th scope=col>&lt;dbl&gt;</th></tr>\n",
       "</thead>\n",
       "<tbody>\n",
       "\t<tr><th scope=row>m6.9</th><td>2713.91</td><td>37.48</td><td>  0.00</td><td>   NA</td><td>3.70</td><td>1</td></tr>\n",
       "\t<tr><th scope=row>m6.10</th><td>3102.00</td><td>27.77</td><td>388.09</td><td>35.36</td><td>2.41</td><td>0</td></tr>\n",
       "</tbody>\n",
       "</table>\n"
      ],
      "text/latex": [
       "A data.frame: 2 × 6\n",
       "\\begin{tabular}{r|llllll}\n",
       "  & WAIC & SE & dWAIC & dSE & pWAIC & weight\\\\\n",
       "  & <dbl> & <dbl> & <dbl> & <dbl> & <dbl> & <dbl>\\\\\n",
       "\\hline\n",
       "\tm6.9 & 2713.91 & 37.48 &   0.00 &    NA & 3.70 & 1\\\\\n",
       "\tm6.10 & 3102.00 & 27.77 & 388.09 & 35.36 & 2.41 & 0\\\\\n",
       "\\end{tabular}\n"
      ],
      "text/markdown": [
       "\n",
       "A data.frame: 2 × 6\n",
       "\n",
       "| <!--/--> | WAIC &lt;dbl&gt; | SE &lt;dbl&gt; | dWAIC &lt;dbl&gt; | dSE &lt;dbl&gt; | pWAIC &lt;dbl&gt; | weight &lt;dbl&gt; |\n",
       "|---|---|---|---|---|---|---|\n",
       "| m6.9 | 2713.91 | 37.48 |   0.00 |    NA | 3.70 | 1 |\n",
       "| m6.10 | 3102.00 | 27.77 | 388.09 | 35.36 | 2.41 | 0 |\n",
       "\n"
      ],
      "text/plain": [
       "      WAIC    SE    dWAIC  dSE   pWAIC weight\n",
       "m6.9  2713.91 37.48   0.00    NA 3.70  1     \n",
       "m6.10 3102.00 27.77 388.09 35.36 2.41  0     "
      ]
     },
     "metadata": {},
     "output_type": "display_data"
    }
   ],
   "source": [
    "compare( m6.9 , m6.10 ) %>% round(2)"
   ]
  },
  {
   "cell_type": "code",
   "execution_count": 105,
   "metadata": {
    "ExecuteTime": {
     "end_time": "2020-03-24T04:46:33.291874Z",
     "start_time": "2020-03-24T04:46:28.620Z"
    },
    "hidden": true,
    "scrolled": true
   },
   "outputs": [
    {
     "data": {
      "text/html": [
       "<table>\n",
       "<caption>A data.frame: 2 × 6</caption>\n",
       "<thead>\n",
       "\t<tr><th></th><th scope=col>PSIS</th><th scope=col>SE</th><th scope=col>dPSIS</th><th scope=col>dSE</th><th scope=col>pPSIS</th><th scope=col>weight</th></tr>\n",
       "\t<tr><th></th><th scope=col>&lt;dbl&gt;</th><th scope=col>&lt;dbl&gt;</th><th scope=col>&lt;dbl&gt;</th><th scope=col>&lt;dbl&gt;</th><th scope=col>&lt;dbl&gt;</th><th scope=col>&lt;dbl&gt;</th></tr>\n",
       "</thead>\n",
       "<tbody>\n",
       "\t<tr><th scope=row>m6.9</th><td>2713.43</td><td>37.51</td><td>  0.00</td><td>   NA</td><td>3.47</td><td>1</td></tr>\n",
       "\t<tr><th scope=row>m6.10</th><td>3101.85</td><td>27.76</td><td>388.42</td><td>35.34</td><td>2.31</td><td>0</td></tr>\n",
       "</tbody>\n",
       "</table>\n"
      ],
      "text/latex": [
       "A data.frame: 2 × 6\n",
       "\\begin{tabular}{r|llllll}\n",
       "  & PSIS & SE & dPSIS & dSE & pPSIS & weight\\\\\n",
       "  & <dbl> & <dbl> & <dbl> & <dbl> & <dbl> & <dbl>\\\\\n",
       "\\hline\n",
       "\tm6.9 & 2713.43 & 37.51 &   0.00 &    NA & 3.47 & 1\\\\\n",
       "\tm6.10 & 3101.85 & 27.76 & 388.42 & 35.34 & 2.31 & 0\\\\\n",
       "\\end{tabular}\n"
      ],
      "text/markdown": [
       "\n",
       "A data.frame: 2 × 6\n",
       "\n",
       "| <!--/--> | PSIS &lt;dbl&gt; | SE &lt;dbl&gt; | dPSIS &lt;dbl&gt; | dSE &lt;dbl&gt; | pPSIS &lt;dbl&gt; | weight &lt;dbl&gt; |\n",
       "|---|---|---|---|---|---|---|\n",
       "| m6.9 | 2713.43 | 37.51 |   0.00 |    NA | 3.47 | 1 |\n",
       "| m6.10 | 3101.85 | 27.76 | 388.42 | 35.34 | 2.31 | 0 |\n",
       "\n"
      ],
      "text/plain": [
       "      PSIS    SE    dPSIS  dSE   pPSIS weight\n",
       "m6.9  2713.43 37.51   0.00    NA 3.47  1     \n",
       "m6.10 3101.85 27.76 388.42 35.34 2.31  0     "
      ]
     },
     "metadata": {},
     "output_type": "display_data"
    }
   ],
   "source": [
    "compare( m6.9 , m6.10, func=PSIS ) %>% round(2)"
   ]
  },
  {
   "cell_type": "code",
   "execution_count": 107,
   "metadata": {
    "ExecuteTime": {
     "end_time": "2020-03-24T04:47:00.720665Z",
     "start_time": "2020-03-24T04:46:56.414Z"
    },
    "collapsed": true,
    "hidden": true
   },
   "outputs": [
    {
     "data": {
      "text/html": [
       "<table>\n",
       "<caption>A data.frame: 2 × 6</caption>\n",
       "<thead>\n",
       "\t<tr><th></th><th scope=col>PSIS</th><th scope=col>SE</th><th scope=col>dPSIS</th><th scope=col>dSE</th><th scope=col>pPSIS</th><th scope=col>weight</th></tr>\n",
       "\t<tr><th></th><th scope=col>&lt;dbl&gt;</th><th scope=col>&lt;dbl&gt;</th><th scope=col>&lt;dbl&gt;</th><th scope=col>&lt;dbl&gt;</th><th scope=col>&lt;dbl&gt;</th><th scope=col>&lt;dbl&gt;</th></tr>\n",
       "</thead>\n",
       "<tbody>\n",
       "\t<tr><th scope=row>m6.9</th><td>2713.70</td><td>37.55</td><td>  0.00</td><td>   NA</td><td>3.58</td><td>1</td></tr>\n",
       "\t<tr><th scope=row>m6.10</th><td>3101.96</td><td>27.75</td><td>388.26</td><td>35.38</td><td>2.39</td><td>0</td></tr>\n",
       "</tbody>\n",
       "</table>\n"
      ],
      "text/latex": [
       "A data.frame: 2 × 6\n",
       "\\begin{tabular}{r|llllll}\n",
       "  & PSIS & SE & dPSIS & dSE & pPSIS & weight\\\\\n",
       "  & <dbl> & <dbl> & <dbl> & <dbl> & <dbl> & <dbl>\\\\\n",
       "\\hline\n",
       "\tm6.9 & 2713.70 & 37.55 &   0.00 &    NA & 3.58 & 1\\\\\n",
       "\tm6.10 & 3101.96 & 27.75 & 388.26 & 35.38 & 2.39 & 0\\\\\n",
       "\\end{tabular}\n"
      ],
      "text/markdown": [
       "\n",
       "A data.frame: 2 × 6\n",
       "\n",
       "| <!--/--> | PSIS &lt;dbl&gt; | SE &lt;dbl&gt; | dPSIS &lt;dbl&gt; | dSE &lt;dbl&gt; | pPSIS &lt;dbl&gt; | weight &lt;dbl&gt; |\n",
       "|---|---|---|---|---|---|---|\n",
       "| m6.9 | 2713.70 | 37.55 |   0.00 |    NA | 3.58 | 1 |\n",
       "| m6.10 | 3101.96 | 27.75 | 388.26 | 35.38 | 2.39 | 0 |\n",
       "\n"
      ],
      "text/plain": [
       "      PSIS    SE    dPSIS  dSE   pPSIS weight\n",
       "m6.9  2713.70 37.55   0.00    NA 3.58  1     \n",
       "m6.10 3101.96 27.75 388.26 35.38 2.39  0     "
      ]
     },
     "metadata": {},
     "output_type": "display_data"
    }
   ],
   "source": [
    "compare( m6.9 , m6.10, func=LOO ) %>% round(2)"
   ]
  },
  {
   "cell_type": "markdown",
   "metadata": {
    "hidden": true
   },
   "source": [
    "<b><font color = 'purple'>a. Which model is expected to make better predictions? </font></b>\n",
    "\n",
    "m6.9 is expected to make better predictions based on WAIC/LOO.\n",
    "\n",
    "\n",
    "\n",
    "<b><font color = 'purple'>b. Which model provides the correct causal inference about the influence of age on happiness?\n",
    " </font></b>\n",
    " \n",
    " m6.10 provides the correct causal inference about the influence of age on happiness because we know from the simulation that happiness is uniformly distributed in the population. The slope of zero in m6.10 is the correct causal influence.\n",
    "\n",
    "<b><font color = 'purple'>c. Can you explain why the answers to these two questions disagree? </font></b>\n",
    "\n",
    "because Marriage status is a collider with Happiness and Age, creating a backdoor path when included in the model."
   ]
  },
  {
   "cell_type": "markdown",
   "metadata": {
    "hidden": true
   },
   "source": [
    "Teacher soln:\n",
    "The model that produces the invalid inference, m6.9, is expected to predict much better. And it would. <font color = 'blue'>This is because the collider path does convey actual association. We simply end up mistaken about the causal inference.</font> We should not use WAIC (or LOO) to choose among models, unless we have some clear sense of the causal model. These criteria will happily favor confounded models."
   ]
  },
  {
   "cell_type": "markdown",
   "metadata": {},
   "source": [
    "## Question 3: urban fox analysis"
   ]
  },
  {
   "cell_type": "markdown",
   "metadata": {},
   "source": [
    "Reconsider the urban fox analysis from last week’s homework. <b><font color = 'purple'>Use WAIC\n",
    "or LOO based model comparison on five different models, each using weight\n",
    "as the outcome, and containing these sets of predictor variables </font></b>:\n",
    "\n",
    "1. avgfood + groupsize + area\n",
    "* avgfood + groupsize\n",
    "* groupsize + area\n",
    "* avgfood\n",
    "* area\n",
    "\n",
    "Can you explain the relative differences in WAIC scores, using the fox DAG\n",
    "from last week’s homework? Be sure to pay attention to the standard error\n",
    "of the score differences (dSE)."
   ]
  },
  {
   "cell_type": "code",
   "execution_count": 114,
   "metadata": {
    "ExecuteTime": {
     "end_time": "2020-03-24T05:03:56.036744Z",
     "start_time": "2020-03-24T05:03:55.945Z"
    },
    "cell_style": "split"
   },
   "outputs": [
    {
     "data": {
      "text/html": [
       "<table>\n",
       "<caption>A matrix: 5 × 2 of type dbl</caption>\n",
       "<thead>\n",
       "\t<tr><th></th><th scope=col>1</th><th scope=col>2</th></tr>\n",
       "</thead>\n",
       "<tbody>\n",
       "\t<tr><th scope=row>group</th><td>1.00</td><td>1.00</td></tr>\n",
       "\t<tr><th scope=row>avgfood</th><td>0.37</td><td>0.37</td></tr>\n",
       "\t<tr><th scope=row>groupsize</th><td>2.00</td><td>2.00</td></tr>\n",
       "\t<tr><th scope=row>area</th><td>1.09</td><td>1.09</td></tr>\n",
       "\t<tr><th scope=row>weight</th><td>5.02</td><td>2.84</td></tr>\n",
       "</tbody>\n",
       "</table>\n"
      ],
      "text/latex": [
       "A matrix: 5 × 2 of type dbl\n",
       "\\begin{tabular}{r|ll}\n",
       "  & 1 & 2\\\\\n",
       "\\hline\n",
       "\tgroup & 1.00 & 1.00\\\\\n",
       "\tavgfood & 0.37 & 0.37\\\\\n",
       "\tgroupsize & 2.00 & 2.00\\\\\n",
       "\tarea & 1.09 & 1.09\\\\\n",
       "\tweight & 5.02 & 2.84\\\\\n",
       "\\end{tabular}\n"
      ],
      "text/markdown": [
       "\n",
       "A matrix: 5 × 2 of type dbl\n",
       "\n",
       "| <!--/--> | 1 | 2 |\n",
       "|---|---|---|\n",
       "| group | 1.00 | 1.00 |\n",
       "| avgfood | 0.37 | 0.37 |\n",
       "| groupsize | 2.00 | 2.00 |\n",
       "| area | 1.09 | 1.09 |\n",
       "| weight | 5.02 | 2.84 |\n",
       "\n"
      ],
      "text/plain": [
       "          1    2   \n",
       "group     1.00 1.00\n",
       "avgfood   0.37 0.37\n",
       "groupsize 2.00 2.00\n",
       "area      1.09 1.09\n",
       "weight    5.02 2.84"
      ]
     },
     "metadata": {},
     "output_type": "display_data"
    }
   ],
   "source": [
    "data(foxes)\n",
    "f <- foxes\n",
    "f %>% head(2) %>% t()"
   ]
  },
  {
   "cell_type": "code",
   "execution_count": 111,
   "metadata": {
    "ExecuteTime": {
     "end_time": "2020-03-24T05:03:23.456965Z",
     "start_time": "2020-03-24T05:03:23.347Z"
    },
    "cell_style": "split",
    "code_folding": [
     0
    ]
   },
   "outputs": [
    {
     "data": {
      "image/png": "[encoded data removed]",
      "text/plain": [
       "plot without title"
      ]
     },
     "metadata": {
      "image/png": {
       "height": 420,
       "width": 420
      }
     },
     "output_type": "display_data"
    }
   ],
   "source": [
    "# DAG\n",
    "fox_dag <- dagitty('dag {\n",
    "\n",
    "bb=\"-2.714,-3.328,2.791,2.921\"\n",
    "area [pos=\"0.670,-1.303\"]\n",
    "avgfood [pos=\"-0.303,-0.426\"]\n",
    "groupsize [pos=\"1.662,-0.446\"]\n",
    "weight [pos=\"0.686,0.411\"]\n",
    "\n",
    "area -> avgfood\n",
    "avgfood -> groupsize\n",
    "avgfood -> weight\n",
    "groupsize -> weight\n",
    "}')\n",
    "\n",
    "plot( fox_dag )\n"
   ]
  },
  {
   "cell_type": "code",
   "execution_count": 138,
   "metadata": {
    "ExecuteTime": {
     "end_time": "2020-03-24T23:56:16.599976Z",
     "start_time": "2020-03-24T23:56:16.537Z"
    },
    "code_folding": [
     0
    ],
    "collapsed": true
   },
   "outputs": [
    {
     "data": {
      "text/html": [
       "<table>\n",
       "<caption>A data.frame: 6 × 9</caption>\n",
       "<thead>\n",
       "\t<tr><th></th><th scope=col>group</th><th scope=col>avgfood</th><th scope=col>groupsize</th><th scope=col>area</th><th scope=col>weight</th><th scope=col>area_s</th><th scope=col>weight_s</th><th scope=col>avgfood_s</th><th scope=col>groupsize_s</th></tr>\n",
       "\t<tr><th></th><th scope=col>&lt;dbl&gt;</th><th scope=col>&lt;dbl&gt;</th><th scope=col>&lt;dbl&gt;</th><th scope=col>&lt;dbl&gt;</th><th scope=col>&lt;dbl&gt;</th><th scope=col>&lt;dbl[,1]&gt;</th><th scope=col>&lt;dbl[,1]&gt;</th><th scope=col>&lt;dbl[,1]&gt;</th><th scope=col>&lt;dbl[,1]&gt;</th></tr>\n",
       "</thead>\n",
       "<tbody>\n",
       "\t<tr><th scope=row>1</th><td>1</td><td>0.37</td><td>2</td><td>1.09</td><td>5.02</td><td>-2.24</td><td> 0.41</td><td>-1.92</td><td>-1.52</td></tr>\n",
       "\t<tr><th scope=row>2</th><td>1</td><td>0.37</td><td>2</td><td>1.09</td><td>2.84</td><td>-2.24</td><td>-1.43</td><td>-1.92</td><td>-1.52</td></tr>\n",
       "\t<tr><th scope=row>3</th><td>2</td><td>0.53</td><td>2</td><td>2.05</td><td>5.33</td><td>-1.21</td><td> 0.68</td><td>-1.12</td><td>-1.52</td></tr>\n",
       "\t<tr><th scope=row>4</th><td>2</td><td>0.53</td><td>2</td><td>2.05</td><td>6.07</td><td>-1.21</td><td> 1.30</td><td>-1.12</td><td>-1.52</td></tr>\n",
       "\t<tr><th scope=row>5</th><td>3</td><td>0.49</td><td>2</td><td>2.12</td><td>5.85</td><td>-1.13</td><td> 1.12</td><td>-1.32</td><td>-1.52</td></tr>\n",
       "\t<tr><th scope=row>6</th><td>3</td><td>0.49</td><td>2</td><td>2.12</td><td>3.25</td><td>-1.13</td><td>-1.08</td><td>-1.32</td><td>-1.52</td></tr>\n",
       "</tbody>\n",
       "</table>\n"
      ],
      "text/latex": [
       "A data.frame: 6 × 9\n",
       "\\begin{tabular}{r|lllllllll}\n",
       "  & group & avgfood & groupsize & area & weight & area\\_s & weight\\_s & avgfood\\_s & groupsize\\_s\\\\\n",
       "  & <dbl> & <dbl> & <dbl> & <dbl> & <dbl> & <dbl{[},1{]}> & <dbl{[},1{]}> & <dbl{[},1{]}> & <dbl{[},1{]}>\\\\\n",
       "\\hline\n",
       "\t1 & 1 & 0.37 & 2 & 1.09 & 5.02 & -2.24 &  0.41 & -1.92 & -1.52\\\\\n",
       "\t2 & 1 & 0.37 & 2 & 1.09 & 2.84 & -2.24 & -1.43 & -1.92 & -1.52\\\\\n",
       "\t3 & 2 & 0.53 & 2 & 2.05 & 5.33 & -1.21 &  0.68 & -1.12 & -1.52\\\\\n",
       "\t4 & 2 & 0.53 & 2 & 2.05 & 6.07 & -1.21 &  1.30 & -1.12 & -1.52\\\\\n",
       "\t5 & 3 & 0.49 & 2 & 2.12 & 5.85 & -1.13 &  1.12 & -1.32 & -1.52\\\\\n",
       "\t6 & 3 & 0.49 & 2 & 2.12 & 3.25 & -1.13 & -1.08 & -1.32 & -1.52\\\\\n",
       "\\end{tabular}\n"
      ],
      "text/markdown": [
       "\n",
       "A data.frame: 6 × 9\n",
       "\n",
       "| <!--/--> | group &lt;dbl&gt; | avgfood &lt;dbl&gt; | groupsize &lt;dbl&gt; | area &lt;dbl&gt; | weight &lt;dbl&gt; | area_s &lt;dbl[,1]&gt; | weight_s &lt;dbl[,1]&gt; | avgfood_s &lt;dbl[,1]&gt; | groupsize_s &lt;dbl[,1]&gt; |\n",
       "|---|---|---|---|---|---|---|---|---|---|\n",
       "| 1 | 1 | 0.37 | 2 | 1.09 | 5.02 | -2.24 |  0.41 | -1.92 | -1.52 |\n",
       "| 2 | 1 | 0.37 | 2 | 1.09 | 2.84 | -2.24 | -1.43 | -1.92 | -1.52 |\n",
       "| 3 | 2 | 0.53 | 2 | 2.05 | 5.33 | -1.21 |  0.68 | -1.12 | -1.52 |\n",
       "| 4 | 2 | 0.53 | 2 | 2.05 | 6.07 | -1.21 |  1.30 | -1.12 | -1.52 |\n",
       "| 5 | 3 | 0.49 | 2 | 2.12 | 5.85 | -1.13 |  1.12 | -1.32 | -1.52 |\n",
       "| 6 | 3 | 0.49 | 2 | 2.12 | 3.25 | -1.13 | -1.08 | -1.32 | -1.52 |\n",
       "\n"
      ],
      "text/plain": [
       "  group avgfood groupsize area weight area_s weight_s avgfood_s groupsize_s\n",
       "1 1     0.37    2         1.09 5.02   -2.24   0.41    -1.92     -1.52      \n",
       "2 1     0.37    2         1.09 2.84   -2.24  -1.43    -1.92     -1.52      \n",
       "3 2     0.53    2         2.05 5.33   -1.21   0.68    -1.12     -1.52      \n",
       "4 2     0.53    2         2.05 6.07   -1.21   1.30    -1.12     -1.52      \n",
       "5 3     0.49    2         2.12 5.85   -1.13   1.12    -1.32     -1.52      \n",
       "6 3     0.49    2         2.12 3.25   -1.13  -1.08    -1.32     -1.52      "
      ]
     },
     "metadata": {},
     "output_type": "display_data"
    }
   ],
   "source": [
    "# create standardized variables \n",
    "(f <- f %>%\n",
    "    mutate(area_s = area %>% scale(),\n",
    "           weight_s = weight %>% scale(),\n",
    "           avgfood_s = avgfood %>% scale(),\n",
    "           groupsize_s = groupsize %>% scale()\n",
    "          )) %>% head() %>% round(2)"
   ]
  },
  {
   "cell_type": "code",
   "execution_count": 146,
   "metadata": {
    "ExecuteTime": {
     "end_time": "2020-03-25T00:01:46.468019Z",
     "start_time": "2020-03-25T00:01:46.379Z"
    },
    "code_folding": [
     0
    ],
    "collapsed": true
   },
   "outputs": [
    {
     "data": {
      "text/html": [
       "<table>\n",
       "<caption>A data.frame: 3 × 4</caption>\n",
       "<thead>\n",
       "\t<tr><th></th><th scope=col>mean</th><th scope=col>sd</th><th scope=col>5.5%</th><th scope=col>94.5%</th></tr>\n",
       "\t<tr><th></th><th scope=col>&lt;dbl&gt;</th><th scope=col>&lt;dbl&gt;</th><th scope=col>&lt;dbl&gt;</th><th scope=col>&lt;dbl&gt;</th></tr>\n",
       "</thead>\n",
       "<tbody>\n",
       "\t<tr><th scope=row>a</th><td>0.00</td><td>0.08</td><td>-0.13</td><td>0.13</td></tr>\n",
       "\t<tr><th scope=row>bA</th><td>0.02</td><td>0.09</td><td>-0.13</td><td>0.16</td></tr>\n",
       "\t<tr><th scope=row>sigma</th><td>0.99</td><td>0.06</td><td> 0.89</td><td>1.09</td></tr>\n",
       "</tbody>\n",
       "</table>\n"
      ],
      "text/latex": [
       "A data.frame: 3 × 4\n",
       "\\begin{tabular}{r|llll}\n",
       "  & mean & sd & 5.5\\% & 94.5\\%\\\\\n",
       "  & <dbl> & <dbl> & <dbl> & <dbl>\\\\\n",
       "\\hline\n",
       "\ta & 0.00 & 0.08 & -0.13 & 0.13\\\\\n",
       "\tbA & 0.02 & 0.09 & -0.13 & 0.16\\\\\n",
       "\tsigma & 0.99 & 0.06 &  0.89 & 1.09\\\\\n",
       "\\end{tabular}\n"
      ],
      "text/markdown": [
       "\n",
       "A data.frame: 3 × 4\n",
       "\n",
       "| <!--/--> | mean &lt;dbl&gt; | sd &lt;dbl&gt; | 5.5% &lt;dbl&gt; | 94.5% &lt;dbl&gt; |\n",
       "|---|---|---|---|---|\n",
       "| a | 0.00 | 0.08 | -0.13 | 0.13 |\n",
       "| bA | 0.02 | 0.09 | -0.13 | 0.16 |\n",
       "| sigma | 0.99 | 0.06 |  0.89 | 1.09 |\n",
       "\n"
      ],
      "text/plain": [
       "      mean sd   5.5%  94.5%\n",
       "a     0.00 0.08 -0.13 0.13 \n",
       "bA    0.02 0.09 -0.13 0.16 \n",
       "sigma 0.99 0.06  0.89 1.09 "
      ]
     },
     "metadata": {},
     "output_type": "display_data"
    }
   ],
   "source": [
    "# M5 weight ~ area\n",
    "M5 <- quap(  alist(\n",
    "    weight_s ~ dnorm( mu , sigma ) ,\n",
    "    mu <- a + bA*area_s ,\n",
    "    a ~ dnorm( 0 , 0.2 ) ,\n",
    "    bA ~ dnorm( 0 , 0.5 ) ,\n",
    "    sigma ~ dexp( 1 )\n",
    ") , data = f )\n",
    "\n",
    "M5 %>% precis() %>% round(2)"
   ]
  },
  {
   "cell_type": "code",
   "execution_count": 147,
   "metadata": {
    "ExecuteTime": {
     "end_time": "2020-03-25T00:01:46.892868Z",
     "start_time": "2020-03-25T00:01:46.807Z"
    },
    "code_folding": [
     0
    ],
    "collapsed": true
   },
   "outputs": [
    {
     "data": {
      "text/html": [
       "<table>\n",
       "<caption>A data.frame: 3 × 4</caption>\n",
       "<thead>\n",
       "\t<tr><th></th><th scope=col>mean</th><th scope=col>sd</th><th scope=col>5.5%</th><th scope=col>94.5%</th></tr>\n",
       "\t<tr><th></th><th scope=col>&lt;dbl&gt;</th><th scope=col>&lt;dbl&gt;</th><th scope=col>&lt;dbl&gt;</th><th scope=col>&lt;dbl&gt;</th></tr>\n",
       "</thead>\n",
       "<tbody>\n",
       "\t<tr><th scope=row>a</th><td> 0.00</td><td>0.08</td><td>-0.13</td><td>0.13</td></tr>\n",
       "\t<tr><th scope=row>bAF</th><td>-0.02</td><td>0.09</td><td>-0.17</td><td>0.12</td></tr>\n",
       "\t<tr><th scope=row>sigma</th><td> 0.99</td><td>0.06</td><td> 0.89</td><td>1.09</td></tr>\n",
       "</tbody>\n",
       "</table>\n"
      ],
      "text/latex": [
       "A data.frame: 3 × 4\n",
       "\\begin{tabular}{r|llll}\n",
       "  & mean & sd & 5.5\\% & 94.5\\%\\\\\n",
       "  & <dbl> & <dbl> & <dbl> & <dbl>\\\\\n",
       "\\hline\n",
       "\ta &  0.00 & 0.08 & -0.13 & 0.13\\\\\n",
       "\tbAF & -0.02 & 0.09 & -0.17 & 0.12\\\\\n",
       "\tsigma &  0.99 & 0.06 &  0.89 & 1.09\\\\\n",
       "\\end{tabular}\n"
      ],
      "text/markdown": [
       "\n",
       "A data.frame: 3 × 4\n",
       "\n",
       "| <!--/--> | mean &lt;dbl&gt; | sd &lt;dbl&gt; | 5.5% &lt;dbl&gt; | 94.5% &lt;dbl&gt; |\n",
       "|---|---|---|---|---|\n",
       "| a |  0.00 | 0.08 | -0.13 | 0.13 |\n",
       "| bAF | -0.02 | 0.09 | -0.17 | 0.12 |\n",
       "| sigma |  0.99 | 0.06 |  0.89 | 1.09 |\n",
       "\n"
      ],
      "text/plain": [
       "      mean  sd   5.5%  94.5%\n",
       "a      0.00 0.08 -0.13 0.13 \n",
       "bAF   -0.02 0.09 -0.17 0.12 \n",
       "sigma  0.99 0.06  0.89 1.09 "
      ]
     },
     "metadata": {},
     "output_type": "display_data"
    }
   ],
   "source": [
    "# M4 weight ~ avgfood  \n",
    "M4 <- quap(  alist(\n",
    "    weight_s ~ dnorm( mu , sigma ) ,\n",
    "    mu <- a + bAF*avgfood_s,\n",
    "    a ~ dnorm( 0 , 0.2 ) ,\n",
    "    bAF ~ dnorm( 0 , 0.5 ) ,\n",
    "    sigma ~ dexp( 1 )\n",
    ") , data = f )\n",
    "\n",
    "M4 %>% precis() %>% round(2)"
   ]
  },
  {
   "cell_type": "code",
   "execution_count": 148,
   "metadata": {
    "ExecuteTime": {
     "end_time": "2020-03-25T00:01:47.350890Z",
     "start_time": "2020-03-25T00:01:47.150Z"
    },
    "code_folding": [
     0
    ],
    "collapsed": true
   },
   "outputs": [
    {
     "data": {
      "text/html": [
       "<table>\n",
       "<caption>A data.frame: 4 × 4</caption>\n",
       "<thead>\n",
       "\t<tr><th></th><th scope=col>mean</th><th scope=col>sd</th><th scope=col>5.5%</th><th scope=col>94.5%</th></tr>\n",
       "\t<tr><th></th><th scope=col>&lt;dbl&gt;</th><th scope=col>&lt;dbl&gt;</th><th scope=col>&lt;dbl&gt;</th><th scope=col>&lt;dbl&gt;</th></tr>\n",
       "</thead>\n",
       "<tbody>\n",
       "\t<tr><th scope=row>a</th><td> 0.00</td><td>0.08</td><td>-0.13</td><td> 0.13</td></tr>\n",
       "\t<tr><th scope=row>bA</th><td> 0.41</td><td>0.15</td><td> 0.17</td><td> 0.64</td></tr>\n",
       "\t<tr><th scope=row>bGS</th><td>-0.48</td><td>0.15</td><td>-0.71</td><td>-0.25</td></tr>\n",
       "\t<tr><th scope=row>sigma</th><td> 0.94</td><td>0.06</td><td> 0.84</td><td> 1.04</td></tr>\n",
       "</tbody>\n",
       "</table>\n"
      ],
      "text/latex": [
       "A data.frame: 4 × 4\n",
       "\\begin{tabular}{r|llll}\n",
       "  & mean & sd & 5.5\\% & 94.5\\%\\\\\n",
       "  & <dbl> & <dbl> & <dbl> & <dbl>\\\\\n",
       "\\hline\n",
       "\ta &  0.00 & 0.08 & -0.13 &  0.13\\\\\n",
       "\tbA &  0.41 & 0.15 &  0.17 &  0.64\\\\\n",
       "\tbGS & -0.48 & 0.15 & -0.71 & -0.25\\\\\n",
       "\tsigma &  0.94 & 0.06 &  0.84 &  1.04\\\\\n",
       "\\end{tabular}\n"
      ],
      "text/markdown": [
       "\n",
       "A data.frame: 4 × 4\n",
       "\n",
       "| <!--/--> | mean &lt;dbl&gt; | sd &lt;dbl&gt; | 5.5% &lt;dbl&gt; | 94.5% &lt;dbl&gt; |\n",
       "|---|---|---|---|---|\n",
       "| a |  0.00 | 0.08 | -0.13 |  0.13 |\n",
       "| bA |  0.41 | 0.15 |  0.17 |  0.64 |\n",
       "| bGS | -0.48 | 0.15 | -0.71 | -0.25 |\n",
       "| sigma |  0.94 | 0.06 |  0.84 |  1.04 |\n",
       "\n"
      ],
      "text/plain": [
       "      mean  sd   5.5%  94.5%\n",
       "a      0.00 0.08 -0.13  0.13\n",
       "bA     0.41 0.15  0.17  0.64\n",
       "bGS   -0.48 0.15 -0.71 -0.25\n",
       "sigma  0.94 0.06  0.84  1.04"
      ]
     },
     "metadata": {},
     "output_type": "display_data"
    }
   ],
   "source": [
    "# #M3 weight ~ groupsize + area\n",
    "M3 <- quap(  alist(\n",
    "    weight_s ~ dnorm( mu , sigma ) ,\n",
    "    mu <- a + bGS*groupsize_s + bA*area_s,\n",
    "    a ~ dnorm( 0 , 0.2 ) ,\n",
    "    bA ~ dnorm( 0 , 0.5 ) ,\n",
    "    bGS ~ dnorm( 0 , 0.5 ) ,\n",
    "    sigma ~ dexp( 1 )\n",
    ") , data = f )\n",
    "\n",
    "M3 %>% precis() %>% round(2)"
   ]
  },
  {
   "cell_type": "code",
   "execution_count": 149,
   "metadata": {
    "ExecuteTime": {
     "end_time": "2020-03-25T00:01:47.666918Z",
     "start_time": "2020-03-25T00:01:47.514Z"
    },
    "code_folding": []
   },
   "outputs": [
    {
     "data": {
      "text/html": [
       "<table>\n",
       "<caption>A data.frame: 4 × 4</caption>\n",
       "<thead>\n",
       "\t<tr><th></th><th scope=col>mean</th><th scope=col>sd</th><th scope=col>5.5%</th><th scope=col>94.5%</th></tr>\n",
       "\t<tr><th></th><th scope=col>&lt;dbl&gt;</th><th scope=col>&lt;dbl&gt;</th><th scope=col>&lt;dbl&gt;</th><th scope=col>&lt;dbl&gt;</th></tr>\n",
       "</thead>\n",
       "<tbody>\n",
       "\t<tr><th scope=row>a</th><td> 0.00</td><td>0.08</td><td>-0.13</td><td> 0.13</td></tr>\n",
       "\t<tr><th scope=row>bA</th><td> 0.41</td><td>0.15</td><td> 0.17</td><td> 0.64</td></tr>\n",
       "\t<tr><th scope=row>bGS</th><td>-0.48</td><td>0.15</td><td>-0.71</td><td>-0.25</td></tr>\n",
       "\t<tr><th scope=row>sigma</th><td> 0.94</td><td>0.06</td><td> 0.84</td><td> 1.04</td></tr>\n",
       "</tbody>\n",
       "</table>\n"
      ],
      "text/latex": [
       "A data.frame: 4 × 4\n",
       "\\begin{tabular}{r|llll}\n",
       "  & mean & sd & 5.5\\% & 94.5\\%\\\\\n",
       "  & <dbl> & <dbl> & <dbl> & <dbl>\\\\\n",
       "\\hline\n",
       "\ta &  0.00 & 0.08 & -0.13 &  0.13\\\\\n",
       "\tbA &  0.41 & 0.15 &  0.17 &  0.64\\\\\n",
       "\tbGS & -0.48 & 0.15 & -0.71 & -0.25\\\\\n",
       "\tsigma &  0.94 & 0.06 &  0.84 &  1.04\\\\\n",
       "\\end{tabular}\n"
      ],
      "text/markdown": [
       "\n",
       "A data.frame: 4 × 4\n",
       "\n",
       "| <!--/--> | mean &lt;dbl&gt; | sd &lt;dbl&gt; | 5.5% &lt;dbl&gt; | 94.5% &lt;dbl&gt; |\n",
       "|---|---|---|---|---|\n",
       "| a |  0.00 | 0.08 | -0.13 |  0.13 |\n",
       "| bA |  0.41 | 0.15 |  0.17 |  0.64 |\n",
       "| bGS | -0.48 | 0.15 | -0.71 | -0.25 |\n",
       "| sigma |  0.94 | 0.06 |  0.84 |  1.04 |\n",
       "\n"
      ],
      "text/plain": [
       "      mean  sd   5.5%  94.5%\n",
       "a      0.00 0.08 -0.13  0.13\n",
       "bA     0.41 0.15  0.17  0.64\n",
       "bGS   -0.48 0.15 -0.71 -0.25\n",
       "sigma  0.94 0.06  0.84  1.04"
      ]
     },
     "metadata": {},
     "output_type": "display_data"
    }
   ],
   "source": [
    "# M2 weight ~ avgfood + groupsize\n",
    "M2 <- quap(  alist(\n",
    "    weight_s ~ dnorm( mu , sigma ) ,\n",
    "    mu <- a + bAF*avgfood_s + bGS*groupsize_s,\n",
    "    a ~ dnorm( 0 , 0.2 ) ,\n",
    "    bAF ~ dnorm( 0 , 0.5 ) ,\n",
    "    bGS ~ dnorm( 0 , 0.5 ) ,\n",
    "    sigma ~ dexp( 1 )\n",
    ") , data = f )\n",
    "\n",
    "M3 %>% precis() %>% round(2)"
   ]
  },
  {
   "cell_type": "code",
   "execution_count": 150,
   "metadata": {
    "ExecuteTime": {
     "end_time": "2020-03-25T00:01:48.071348Z",
     "start_time": "2020-03-25T00:01:47.887Z"
    },
    "code_folding": [
     0
    ],
    "collapsed": true
   },
   "outputs": [
    {
     "data": {
      "text/html": [
       "<table>\n",
       "<caption>A data.frame: 5 × 4</caption>\n",
       "<thead>\n",
       "\t<tr><th></th><th scope=col>mean</th><th scope=col>sd</th><th scope=col>5.5%</th><th scope=col>94.5%</th></tr>\n",
       "\t<tr><th></th><th scope=col>&lt;dbl&gt;</th><th scope=col>&lt;dbl&gt;</th><th scope=col>&lt;dbl&gt;</th><th scope=col>&lt;dbl&gt;</th></tr>\n",
       "</thead>\n",
       "<tbody>\n",
       "\t<tr><th scope=row>a</th><td> 0.00</td><td>0.08</td><td>-0.13</td><td> 0.13</td></tr>\n",
       "\t<tr><th scope=row>bAF</th><td> 0.30</td><td>0.21</td><td>-0.04</td><td> 0.63</td></tr>\n",
       "\t<tr><th scope=row>bA</th><td> 0.28</td><td>0.17</td><td> 0.01</td><td> 0.55</td></tr>\n",
       "\t<tr><th scope=row>bGS</th><td>-0.64</td><td>0.18</td><td>-0.93</td><td>-0.35</td></tr>\n",
       "\t<tr><th scope=row>sigma</th><td> 0.93</td><td>0.06</td><td> 0.83</td><td> 1.03</td></tr>\n",
       "</tbody>\n",
       "</table>\n"
      ],
      "text/latex": [
       "A data.frame: 5 × 4\n",
       "\\begin{tabular}{r|llll}\n",
       "  & mean & sd & 5.5\\% & 94.5\\%\\\\\n",
       "  & <dbl> & <dbl> & <dbl> & <dbl>\\\\\n",
       "\\hline\n",
       "\ta &  0.00 & 0.08 & -0.13 &  0.13\\\\\n",
       "\tbAF &  0.30 & 0.21 & -0.04 &  0.63\\\\\n",
       "\tbA &  0.28 & 0.17 &  0.01 &  0.55\\\\\n",
       "\tbGS & -0.64 & 0.18 & -0.93 & -0.35\\\\\n",
       "\tsigma &  0.93 & 0.06 &  0.83 &  1.03\\\\\n",
       "\\end{tabular}\n"
      ],
      "text/markdown": [
       "\n",
       "A data.frame: 5 × 4\n",
       "\n",
       "| <!--/--> | mean &lt;dbl&gt; | sd &lt;dbl&gt; | 5.5% &lt;dbl&gt; | 94.5% &lt;dbl&gt; |\n",
       "|---|---|---|---|---|\n",
       "| a |  0.00 | 0.08 | -0.13 |  0.13 |\n",
       "| bAF |  0.30 | 0.21 | -0.04 |  0.63 |\n",
       "| bA |  0.28 | 0.17 |  0.01 |  0.55 |\n",
       "| bGS | -0.64 | 0.18 | -0.93 | -0.35 |\n",
       "| sigma |  0.93 | 0.06 |  0.83 |  1.03 |\n",
       "\n"
      ],
      "text/plain": [
       "      mean  sd   5.5%  94.5%\n",
       "a      0.00 0.08 -0.13  0.13\n",
       "bAF    0.30 0.21 -0.04  0.63\n",
       "bA     0.28 0.17  0.01  0.55\n",
       "bGS   -0.64 0.18 -0.93 -0.35\n",
       "sigma  0.93 0.06  0.83  1.03"
      ]
     },
     "metadata": {},
     "output_type": "display_data"
    }
   ],
   "source": [
    "# M1 weight ~ avgfood + groupsize + area\n",
    "\n",
    "M1 <- quap(  alist(\n",
    "    weight_s ~ dnorm( mu , sigma ) ,\n",
    "    mu <- a + bAF*avgfood_s + bGS*groupsize_s +bA*area_s,\n",
    "    a   ~ dnorm( 0 , 0.2 ) ,\n",
    "    bAF  ~ dnorm( 0 , 0.5 ) ,\n",
    "    bA  ~ dnorm( 0 , 0.5 ) ,\n",
    "    bGS ~ dnorm( 0 , 0.5 ) ,\n",
    "    sigma ~ dexp( 1 )\n",
    ") , data = f )\n",
    "\n",
    "M1 %>% precis() %>% round(2)\n"
   ]
  },
  {
   "cell_type": "code",
   "execution_count": 151,
   "metadata": {
    "ExecuteTime": {
     "end_time": "2020-03-25T00:01:50.610838Z",
     "start_time": "2020-03-25T00:01:48.444Z"
    },
    "hide_input": false,
    "scrolled": true
   },
   "outputs": [
    {
     "data": {
      "text/html": [
       "<table>\n",
       "<caption>A data.frame: 5 × 6</caption>\n",
       "<thead>\n",
       "\t<tr><th></th><th scope=col>WAIC</th><th scope=col>SE</th><th scope=col>dWAIC</th><th scope=col>dSE</th><th scope=col>pWAIC</th><th scope=col>weight</th></tr>\n",
       "\t<tr><th></th><th scope=col>&lt;dbl&gt;</th><th scope=col>&lt;dbl&gt;</th><th scope=col>&lt;dbl&gt;</th><th scope=col>&lt;dbl&gt;</th><th scope=col>&lt;dbl&gt;</th><th scope=col>&lt;dbl&gt;</th></tr>\n",
       "</thead>\n",
       "<tbody>\n",
       "\t<tr><th scope=row>M1</th><td>323.26</td><td>16.30</td><td> 0.00</td><td>  NA</td><td>4.82</td><td>0.42</td></tr>\n",
       "\t<tr><th scope=row>M3</th><td>323.85</td><td>15.76</td><td> 0.59</td><td>3.02</td><td>3.71</td><td>0.31</td></tr>\n",
       "\t<tr><th scope=row>M2</th><td>324.18</td><td>16.25</td><td> 0.92</td><td>3.54</td><td>3.91</td><td>0.26</td></tr>\n",
       "\t<tr><th scope=row>M4</th><td>333.47</td><td>13.95</td><td>10.21</td><td>7.13</td><td>2.45</td><td>0.00</td></tr>\n",
       "\t<tr><th scope=row>M5</th><td>333.78</td><td>13.94</td><td>10.52</td><td>7.22</td><td>2.66</td><td>0.00</td></tr>\n",
       "</tbody>\n",
       "</table>\n"
      ],
      "text/latex": [
       "A data.frame: 5 × 6\n",
       "\\begin{tabular}{r|llllll}\n",
       "  & WAIC & SE & dWAIC & dSE & pWAIC & weight\\\\\n",
       "  & <dbl> & <dbl> & <dbl> & <dbl> & <dbl> & <dbl>\\\\\n",
       "\\hline\n",
       "\tM1 & 323.26 & 16.30 &  0.00 &   NA & 4.82 & 0.42\\\\\n",
       "\tM3 & 323.85 & 15.76 &  0.59 & 3.02 & 3.71 & 0.31\\\\\n",
       "\tM2 & 324.18 & 16.25 &  0.92 & 3.54 & 3.91 & 0.26\\\\\n",
       "\tM4 & 333.47 & 13.95 & 10.21 & 7.13 & 2.45 & 0.00\\\\\n",
       "\tM5 & 333.78 & 13.94 & 10.52 & 7.22 & 2.66 & 0.00\\\\\n",
       "\\end{tabular}\n"
      ],
      "text/markdown": [
       "\n",
       "A data.frame: 5 × 6\n",
       "\n",
       "| <!--/--> | WAIC &lt;dbl&gt; | SE &lt;dbl&gt; | dWAIC &lt;dbl&gt; | dSE &lt;dbl&gt; | pWAIC &lt;dbl&gt; | weight &lt;dbl&gt; |\n",
       "|---|---|---|---|---|---|---|\n",
       "| M1 | 323.26 | 16.30 |  0.00 |   NA | 4.82 | 0.42 |\n",
       "| M3 | 323.85 | 15.76 |  0.59 | 3.02 | 3.71 | 0.31 |\n",
       "| M2 | 324.18 | 16.25 |  0.92 | 3.54 | 3.91 | 0.26 |\n",
       "| M4 | 333.47 | 13.95 | 10.21 | 7.13 | 2.45 | 0.00 |\n",
       "| M5 | 333.78 | 13.94 | 10.52 | 7.22 | 2.66 | 0.00 |\n",
       "\n"
      ],
      "text/plain": [
       "   WAIC   SE    dWAIC dSE  pWAIC weight\n",
       "M1 323.26 16.30  0.00   NA 4.82  0.42  \n",
       "M3 323.85 15.76  0.59 3.02 3.71  0.31  \n",
       "M2 324.18 16.25  0.92 3.54 3.91  0.26  \n",
       "M4 333.47 13.95 10.21 7.13 2.45  0.00  \n",
       "M5 333.78 13.94 10.52 7.22 2.66  0.00  "
      ]
     },
     "metadata": {},
     "output_type": "display_data"
    }
   ],
   "source": [
    "compare( M1 , M2 , M3 , M4 , M5 ) %>% round(2)"
   ]
  },
  {
   "cell_type": "markdown",
   "metadata": {},
   "source": [
    "Notice that the top three models are m1, m3, and m2 have very similar WAIC values. \n",
    "\n",
    "* The differences are small and <font color = 'blue'>smaller in all cases than the standard error of the difference</font>. WAIC sees these models are tied. \n",
    "\n",
    "* <font color = 'blue'>This makes sense, given the DAG, because as long as a model has groupsize in it, we can include either avgfood or area or both and get the same inferences</font>. Another way to think of this is that the influence of avgfood, adjusting for group size, is (according to the DAG) the same as the influence of area, adjusting for group size, because the influence of area is routed entirely through food and group size. There are no backdoor paths.\n",
    "\n"
   ]
  },
  {
   "cell_type": "markdown",
   "metadata": {},
   "source": [
    "What about the other two models, m4 and m5? \n",
    "\n",
    "* These models are tied with one another, and both omit group size. \n",
    "\n",
    "* Again, the influence of area passes entirely through food. So including only food or only area should produce the same inference—the total causal influence of area (or food) is just about zero. \n",
    "\n",
    "That’s indeed what the posterior distributions suggest:"
   ]
  },
  {
   "cell_type": "code",
   "execution_count": 153,
   "metadata": {
    "ExecuteTime": {
     "end_time": "2020-03-25T15:40:21.017926Z",
     "start_time": "2020-03-25T15:40:20.946Z"
    }
   },
   "outputs": [
    {
     "data": {
      "text/plain": [
       "      M4      M5     \n",
       "a           0       0\n",
       "bAF     -0.02      NA\n",
       "sigma    0.99    0.99\n",
       "bA         NA    0.02\n",
       "nobs      116     116"
      ]
     },
     "metadata": {},
     "output_type": "display_data"
    }
   ],
   "source": [
    "coeftab(M4,M5)"
   ]
  },
  {
   "cell_type": "code",
   "execution_count": 155,
   "metadata": {
    "ExecuteTime": {
     "end_time": "2020-03-25T19:22:25.332375Z",
     "start_time": "2020-03-25T19:22:25.187Z"
    }
   },
   "outputs": [
    {
     "data": {
      "text/plain": [
       "      M1      M2      M3      M4      M5     \n",
       "a           0       0       0       0       0\n",
       "bAF      0.30    0.48      NA   -0.02      NA\n",
       "bA       0.28      NA    0.41      NA    0.02\n",
       "bGS     -0.64   -0.57   -0.48      NA      NA\n",
       "sigma    0.93    0.94    0.94    0.99    0.99\n",
       "nobs      116     116     116     116     116"
      ]
     },
     "metadata": {},
     "output_type": "display_data"
    }
   ],
   "source": [
    "coeftab(M1, M2, M3, M4, M5) "
   ]
  },
  {
   "cell_type": "markdown",
   "metadata": {
    "heading_collapsed": true
   },
   "source": [
    "# Notes"
   ]
  },
  {
   "cell_type": "markdown",
   "metadata": {
    "heading_collapsed": true,
    "hidden": true
   },
   "source": [
    "## Q1"
   ]
  },
  {
   "cell_type": "markdown",
   "metadata": {
    "hidden": true
   },
   "source": [
    " To compute the information entropy for the weather, suppose the true probabilities of rain and shine are p1 = 0.3 and p2 = 0.7, respectively. Then: \n",
    " \n",
    " H(p) = −(p1 log(p1) + p2 log(p2)) ≈ 0.61"
   ]
  },
  {
   "cell_type": "markdown",
   "metadata": {
    "hidden": true
   },
   "source": [
    ";"
   ]
  }
 ],
 "metadata": {
  "hide_input": false,
  "kernelspec": {
   "display_name": "R",
   "language": "R",
   "name": "ir"
  },
  "language_info": {
   "codemirror_mode": "r",
   "file_extension": ".r",
   "mimetype": "text/x-r-source",
   "name": "R",
   "pygments_lexer": "r",
   "version": "3.6.3"
  },
  "toc": {
   "base_numbering": 1,
   "nav_menu": {},
   "number_sections": true,
   "sideBar": true,
   "skip_h1_title": false,
   "title_cell": "Table of Contents",
   "title_sidebar": "Contents",
   "toc_cell": true,
   "toc_position": {},
   "toc_section_display": true,
   "toc_window_display": false
  }
 },
 "nbformat": 4,
 "nbformat_minor": 4
}
