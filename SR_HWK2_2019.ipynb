{
 "cells": [
  {
   "cell_type": "markdown",
   "metadata": {
    "toc": true
   },
   "source": [
    "<h1>Table of Contents<span class=\"tocSkip\"></span></h1>\n",
    "<div class=\"toc\"><ul class=\"toc-item\"><li><span><a href=\"#wk-2\" data-toc-modified-id=\"wk-2-1\"><span class=\"toc-item-num\">1&nbsp;&nbsp;</span>wk 2</a></span><ul class=\"toc-item\"><li><span><a href=\"#predict-heights-and-compatibility-intervals\" data-toc-modified-id=\"predict-heights-and-compatibility-intervals-1.1\"><span class=\"toc-item-num\">1.1&nbsp;&nbsp;</span>predict heights and compatibility intervals</a></span></li><li><span><a href=\"#relationship-between-height-(cm)-and-the-natural-logarithm-of-weight-(log-kg)\" data-toc-modified-id=\"relationship-between-height-(cm)-and-the-natural-logarithm-of-weight-(log-kg)-1.2\"><span class=\"toc-item-num\">1.2&nbsp;&nbsp;</span>relationship between height (cm) and the natural logarithm of weight (log-kg)</a></span></li><li><span><a href=\"#Prior-Predictive-Simulation\" data-toc-modified-id=\"Prior-Predictive-Simulation-1.3\"><span class=\"toc-item-num\">1.3&nbsp;&nbsp;</span>Prior Predictive Simulation</a></span></li></ul></li></ul></div>"
   ]
  },
  {
   "cell_type": "markdown",
   "metadata": {},
   "source": [
    "# wk 2"
   ]
  },
  {
   "cell_type": "markdown",
   "metadata": {},
   "source": [
    "## predict heights and compatibility intervals "
   ]
  },
  {
   "cell_type": "markdown",
   "metadata": {},
   "source": [
    "<b><font color = 'purple'> Provide predicted heights and 89% compatibility intervals for each of these individuals. \n",
    "\n",
    "```weights <- c(45,40,65,31,53)```\n",
    "\n",
    " Using model-based predictions, predict the height associated with these weights. </font></b>"
   ]
  },
  {
   "cell_type": "markdown",
   "metadata": {},
   "source": [
    "The weights that interest us are all adult weights, so we can analyze only\n",
    "the adults and make an okay linear approximation. If you did something\n",
    "else, that’s okay. I deliberately made the question a little vague. Loading the\n",
    "data, selecting out adults, and doing the regression from the book:"
   ]
  },
  {
   "cell_type": "code",
   "execution_count": 9,
   "metadata": {
    "ExecuteTime": {
     "end_time": "2020-02-13T19:52:07.140164Z",
     "start_time": "2020-02-13T19:52:07.035Z"
    },
    "code_folding": [
     0
    ]
   },
   "outputs": [],
   "source": [
    "# data preprocessing\n",
    "library(rethinking)\n",
    "data(Howell1)\n",
    "d <- Howell1\n",
    "d2 <- d[ d$age >= 18 , ]\n",
    "xbar <- mean(d2$weight)"
   ]
  },
  {
   "cell_type": "code",
   "execution_count": 8,
   "metadata": {
    "ExecuteTime": {
     "end_time": "2020-02-13T19:52:04.423472Z",
     "start_time": "2020-02-13T19:52:04.338Z"
    },
    "code_folding": [
     0
    ],
    "collapsed": true
   },
   "outputs": [],
   "source": [
    "# define quap model\n",
    "m4.3 <- quap(\n",
    "    alist(\n",
    "        height ~ dnorm( mu , sigma ) ,\n",
    "        mu <- a + b*( weight - xbar ) ,\n",
    "        a ~ dnorm( 178 , 20 ) ,\n",
    "        b ~ dlnorm( 0 , 1 ) ,\n",
    "        sigma ~ dunif( 0 , 50 )\n",
    "    ) ,\n",
    "    data=d2 )"
   ]
  },
  {
   "cell_type": "markdown",
   "metadata": {},
   "source": [
    "<b><font color = 'purple'>Now we need posterior predictions for each case in the table </font></b>. \n",
    "\n",
    "Easiest way to do this is to use sim. <b><font color = 'blue'>We need sim, not just link, because we are trying to predict an individual’s height. </font><font color = 'red'>So the relevant compatibility interval includes the Gaussian variance from sigma</b>. </font>\n",
    "\n",
    "If you provided only the compatibility interval for µ, that’s okay. But be sure you understand the difference."
   ]
  },
  {
   "cell_type": "code",
   "execution_count": null,
   "metadata": {
    "ExecuteTime": {
     "end_time": "2020-02-13T20:26:28.636420Z",
     "start_time": "2020-02-13T20:26:28.262Z"
    },
    "code_folding": [
     0
    ]
   },
   "outputs": [],
   "source": [
    "# simulate heights for the weights asked for above\n",
    "\n",
    "dat <- data.frame( weight=c(45,40,65,31,53) )\n",
    "h_sim <- sim( m4.3 , data=dat )\n",
    "# 10,000 simulations of the height prediction for each weight \n",
    "# each column represents a set of height predictions for a particular weight input"
   ]
  },
  {
   "cell_type": "code",
   "execution_count": 18,
   "metadata": {
    "ExecuteTime": {
     "end_time": "2020-02-13T20:26:28.636420Z",
     "start_time": "2020-02-13T20:26:28.262Z"
    },
    "code_folding": [
     0
    ],
    "collapsed": true
   },
   "outputs": [],
   "source": [
    "# extract mean heights and compatability intervals\n",
    "Eh <- apply(h_sim,2,mean)\n",
    "h_ci <- apply(h_sim,2,PI,prob=0.89)"
   ]
  },
  {
   "cell_type": "code",
   "execution_count": 170,
   "metadata": {
    "ExecuteTime": {
     "end_time": "2020-02-15T08:00:38.316117Z",
     "start_time": "2020-02-15T08:00:38.217Z"
    },
    "code_folding": [
     0
    ],
    "collapsed": true
   },
   "outputs": [
    {
     "data": {
      "text/html": [
       "<table>\n",
       "<caption>A matrix: 6 × 5 of type dbl</caption>\n",
       "<tbody>\n",
       "\t<tr><td>151.2690</td><td>159.3785</td><td>171.8398</td><td>146.1656</td><td>159.2732</td></tr>\n",
       "\t<tr><td>146.1567</td><td>144.1262</td><td>180.0244</td><td>133.2396</td><td>168.8089</td></tr>\n",
       "\t<tr><td>153.5292</td><td>156.2753</td><td>171.1845</td><td>134.9248</td><td>158.7660</td></tr>\n",
       "\t<tr><td>148.4600</td><td>151.4807</td><td>171.8021</td><td>142.2844</td><td>165.3471</td></tr>\n",
       "\t<tr><td>153.6891</td><td>142.9431</td><td>173.2451</td><td>150.8968</td><td>153.7825</td></tr>\n",
       "\t<tr><td>155.2776</td><td>149.4766</td><td>176.3904</td><td>131.9514</td><td>158.4453</td></tr>\n",
       "</tbody>\n",
       "</table>\n"
      ],
      "text/latex": [
       "A matrix: 6 × 5 of type dbl\n",
       "\\begin{tabular}{lllll}\n",
       "\t 151.2690 & 159.3785 & 171.8398 & 146.1656 & 159.2732\\\\\n",
       "\t 146.1567 & 144.1262 & 180.0244 & 133.2396 & 168.8089\\\\\n",
       "\t 153.5292 & 156.2753 & 171.1845 & 134.9248 & 158.7660\\\\\n",
       "\t 148.4600 & 151.4807 & 171.8021 & 142.2844 & 165.3471\\\\\n",
       "\t 153.6891 & 142.9431 & 173.2451 & 150.8968 & 153.7825\\\\\n",
       "\t 155.2776 & 149.4766 & 176.3904 & 131.9514 & 158.4453\\\\\n",
       "\\end{tabular}\n"
      ],
      "text/markdown": [
       "\n",
       "A matrix: 6 × 5 of type dbl\n",
       "\n",
       "| 151.2690 | 159.3785 | 171.8398 | 146.1656 | 159.2732 |\n",
       "| 146.1567 | 144.1262 | 180.0244 | 133.2396 | 168.8089 |\n",
       "| 153.5292 | 156.2753 | 171.1845 | 134.9248 | 158.7660 |\n",
       "| 148.4600 | 151.4807 | 171.8021 | 142.2844 | 165.3471 |\n",
       "| 153.6891 | 142.9431 | 173.2451 | 150.8968 | 153.7825 |\n",
       "| 155.2776 | 149.4766 | 176.3904 | 131.9514 | 158.4453 |\n",
       "\n"
      ],
      "text/plain": [
       "     [,1]     [,2]     [,3]     [,4]     [,5]    \n",
       "[1,] 151.2690 159.3785 171.8398 146.1656 159.2732\n",
       "[2,] 146.1567 144.1262 180.0244 133.2396 168.8089\n",
       "[3,] 153.5292 156.2753 171.1845 134.9248 158.7660\n",
       "[4,] 148.4600 151.4807 171.8021 142.2844 165.3471\n",
       "[5,] 153.6891 142.9431 173.2451 150.8968 153.7825\n",
       "[6,] 155.2776 149.4766 176.3904 131.9514 158.4453"
      ]
     },
     "metadata": {},
     "output_type": "display_data"
    },
    {
     "data": {
      "text/plain": [
       "   Min. 1st Qu.  Median    Mean 3rd Qu.    Max. \n",
       "  137.4   151.5   154.8   154.8   158.2   169.1 "
      ]
     },
     "metadata": {},
     "output_type": "display_data"
    },
    {
     "data": {
      "text/html": [
       "<style>\n",
       ".list-inline {list-style: none; margin:0; padding: 0}\n",
       ".list-inline>li {display: inline-block}\n",
       ".list-inline>li:not(:last-child)::after {content: \"\\00b7\"; padding: 0 .5ex}\n",
       "</style>\n",
       "<ol class=list-inline><li>154.773159694543</li><li>149.960262224188</li><li>172.64703077233</li><li>142.01475949352</li><li>161.782727341624</li></ol>\n"
      ],
      "text/latex": [
       "\\begin{enumerate*}\n",
       "\\item 154.773159694543\n",
       "\\item 149.960262224188\n",
       "\\item 172.64703077233\n",
       "\\item 142.01475949352\n",
       "\\item 161.782727341624\n",
       "\\end{enumerate*}\n"
      ],
      "text/markdown": [
       "1. 154.773159694543\n",
       "2. 149.960262224188\n",
       "3. 172.64703077233\n",
       "4. 142.01475949352\n",
       "5. 161.782727341624\n",
       "\n",
       "\n"
      ],
      "text/plain": [
       "[1] 154.7732 149.9603 172.6470 142.0148 161.7827"
      ]
     },
     "metadata": {},
     "output_type": "display_data"
    },
    {
     "data": {
      "text/html": [
       "<table>\n",
       "<caption>A matrix: 2 × 5 of type dbl</caption>\n",
       "<tbody>\n",
       "\t<tr><th scope=row>5%</th><td>146.4584</td><td>141.9192</td><td>164.2969</td><td>133.8684</td><td>153.7766</td></tr>\n",
       "\t<tr><th scope=row>94%</th><td>162.5645</td><td>158.9053</td><td>181.2138</td><td>150.0062</td><td>169.9919</td></tr>\n",
       "</tbody>\n",
       "</table>\n"
      ],
      "text/latex": [
       "A matrix: 2 × 5 of type dbl\n",
       "\\begin{tabular}{r|lllll}\n",
       "\t5\\% & 146.4584 & 141.9192 & 164.2969 & 133.8684 & 153.7766\\\\\n",
       "\t94\\% & 162.5645 & 158.9053 & 181.2138 & 150.0062 & 169.9919\\\\\n",
       "\\end{tabular}\n"
      ],
      "text/markdown": [
       "\n",
       "A matrix: 2 × 5 of type dbl\n",
       "\n",
       "| 5% | 146.4584 | 141.9192 | 164.2969 | 133.8684 | 153.7766 |\n",
       "| 94% | 162.5645 | 158.9053 | 181.2138 | 150.0062 | 169.9919 |\n",
       "\n"
      ],
      "text/plain": [
       "    [,1]     [,2]     [,3]     [,4]     [,5]    \n",
       "5%  146.4584 141.9192 164.2969 133.8684 153.7766\n",
       "94% 162.5645 158.9053 181.2138 150.0062 169.9919"
      ]
     },
     "metadata": {},
     "output_type": "display_data"
    }
   ],
   "source": [
    "# audit\n",
    "\n",
    "h_sim %>% head\n",
    "h_sim[,1] %>% summary()\n",
    "\n",
    "Eh\n",
    "h_ci %>% head"
   ]
  },
  {
   "cell_type": "markdown",
   "metadata": {},
   "source": [
    "Now all in table form:"
   ]
  },
  {
   "cell_type": "code",
   "execution_count": 34,
   "metadata": {
    "ExecuteTime": {
     "end_time": "2020-02-13T22:48:13.823072Z",
     "start_time": "2020-02-13T22:48:13.760Z"
    },
    "code_folding": [
     0
    ],
    "collapsed": true
   },
   "outputs": [
    {
     "data": {
      "text/html": [
       "<table>\n",
       "<caption>A data.frame: 5 × 4</caption>\n",
       "<thead>\n",
       "\t<tr><th scope=col>weight</th><th scope=col>Eh</th><th scope=col>L89</th><th scope=col>U89</th></tr>\n",
       "\t<tr><th scope=col>&lt;dbl&gt;</th><th scope=col>&lt;dbl&gt;</th><th scope=col>&lt;dbl&gt;</th><th scope=col>&lt;dbl&gt;</th></tr>\n",
       "</thead>\n",
       "<tbody>\n",
       "\t<tr><td>45</td><td>154.8</td><td>146.5</td><td>162.6</td></tr>\n",
       "\t<tr><td>40</td><td>150.0</td><td>141.9</td><td>158.9</td></tr>\n",
       "\t<tr><td>65</td><td>172.6</td><td>164.3</td><td>181.2</td></tr>\n",
       "\t<tr><td>31</td><td>142.0</td><td>133.9</td><td>150.0</td></tr>\n",
       "\t<tr><td>53</td><td>161.8</td><td>153.8</td><td>170.0</td></tr>\n",
       "</tbody>\n",
       "</table>\n"
      ],
      "text/latex": [
       "A data.frame: 5 × 4\n",
       "\\begin{tabular}{llll}\n",
       " weight & Eh & L89 & U89\\\\\n",
       " <dbl> & <dbl> & <dbl> & <dbl>\\\\\n",
       "\\hline\n",
       "\t 45 & 154.8 & 146.5 & 162.6\\\\\n",
       "\t 40 & 150.0 & 141.9 & 158.9\\\\\n",
       "\t 65 & 172.6 & 164.3 & 181.2\\\\\n",
       "\t 31 & 142.0 & 133.9 & 150.0\\\\\n",
       "\t 53 & 161.8 & 153.8 & 170.0\\\\\n",
       "\\end{tabular}\n"
      ],
      "text/markdown": [
       "\n",
       "A data.frame: 5 × 4\n",
       "\n",
       "| weight &lt;dbl&gt; | Eh &lt;dbl&gt; | L89 &lt;dbl&gt; | U89 &lt;dbl&gt; |\n",
       "|---|---|---|---|\n",
       "| 45 | 154.8 | 146.5 | 162.6 |\n",
       "| 40 | 150.0 | 141.9 | 158.9 |\n",
       "| 65 | 172.6 | 164.3 | 181.2 |\n",
       "| 31 | 142.0 | 133.9 | 150.0 |\n",
       "| 53 | 161.8 | 153.8 | 170.0 |\n",
       "\n"
      ],
      "text/plain": [
       "  weight Eh    L89   U89  \n",
       "1 45     154.8 146.5 162.6\n",
       "2 40     150.0 141.9 158.9\n",
       "3 65     172.6 164.3 181.2\n",
       "4 31     142.0 133.9 150.0\n",
       "5 53     161.8 153.8 170.0"
      ]
     },
     "metadata": {},
     "output_type": "display_data"
    }
   ],
   "source": [
    "# create table with answer\n",
    "dat$Eh <- Eh\n",
    "dat$L89 <- h_ci[1,]\n",
    "dat$U89 <- h_ci[2,]\n",
    "round(dat,1)"
   ]
  },
  {
   "cell_type": "markdown",
   "metadata": {
    "heading_collapsed": true
   },
   "source": [
    "##### SIM under the hood\n"
   ]
  },
  {
   "cell_type": "code",
   "execution_count": 29,
   "metadata": {
    "ExecuteTime": {
     "end_time": "2020-02-13T22:26:47.935992Z",
     "start_time": "2020-02-13T22:26:47.857Z"
    },
    "hidden": true
   },
   "outputs": [],
   "source": [
    "# SIM under the hood\n",
    "post <- extract.samples(m4.3) \n",
    "weight.seq <- c(45,40,65,31,53)\n",
    "\n",
    "\n",
    "sim.height <- sapply( weight.seq , function(weight)\n",
    "    rnorm( \n",
    "        n=nrow(post) ,\n",
    "        mean=post$a + post$b*( weight - xbar ) ,\n",
    "        sd=post$sigma ) )\n",
    "# 10,000 simulations of the height prediction for each weight \n",
    "# each column represents a set of height predictions for a particular weight input\n",
    "\n",
    "expected_heights <- apply( sim.height , 2 , mean)                      \n",
    "height.PI <- apply( sim.height , 2 , PI , prob=0.89 )"
   ]
  },
  {
   "cell_type": "code",
   "execution_count": 32,
   "metadata": {
    "ExecuteTime": {
     "end_time": "2020-02-13T22:27:20.373965Z",
     "start_time": "2020-02-13T22:27:20.331Z"
    },
    "hidden": true
   },
   "outputs": [
    {
     "data": {
      "text/html": [
       "<style>\n",
       ".list-inline {list-style: none; margin:0; padding: 0}\n",
       ".list-inline>li {display: inline-block}\n",
       ".list-inline>li:not(:last-child)::after {content: \"\\00b7\"; padding: 0 .5ex}\n",
       "</style>\n",
       "<ol class=list-inline><li>154.637405568402</li><li>150.151626071841</li><li>172.796251087633</li><li>141.777617022675</li><li>161.810606486808</li></ol>\n"
      ],
      "text/latex": [
       "\\begin{enumerate*}\n",
       "\\item 154.637405568402\n",
       "\\item 150.151626071841\n",
       "\\item 172.796251087633\n",
       "\\item 141.777617022675\n",
       "\\item 161.810606486808\n",
       "\\end{enumerate*}\n"
      ],
      "text/markdown": [
       "1. 154.637405568402\n",
       "2. 150.151626071841\n",
       "3. 172.796251087633\n",
       "4. 141.777617022675\n",
       "5. 161.810606486808\n",
       "\n",
       "\n"
      ],
      "text/plain": [
       "[1] 154.6374 150.1516 172.7963 141.7776 161.8106"
      ]
     },
     "metadata": {},
     "output_type": "display_data"
    }
   ],
   "source": [
    "expected_heights "
   ]
  },
  {
   "cell_type": "code",
   "execution_count": 27,
   "metadata": {
    "ExecuteTime": {
     "end_time": "2020-02-13T22:02:37.497008Z",
     "start_time": "2020-02-13T22:02:37.445Z"
    },
    "collapsed": true,
    "hidden": true
   },
   "outputs": [
    {
     "data": {
      "text/html": [
       "<table>\n",
       "<caption>A matrix: 6 × 5 of type dbl</caption>\n",
       "<tbody>\n",
       "\t<tr><td>158.9053</td><td>158.6291</td><td>168.2353</td><td>142.0849</td><td>160.9284</td></tr>\n",
       "\t<tr><td>148.9443</td><td>153.7130</td><td>169.6917</td><td>151.0368</td><td>169.2770</td></tr>\n",
       "\t<tr><td>157.9636</td><td>147.4133</td><td>178.4411</td><td>146.8059</td><td>169.7294</td></tr>\n",
       "\t<tr><td>141.5763</td><td>141.3270</td><td>168.5090</td><td>141.2683</td><td>160.5098</td></tr>\n",
       "\t<tr><td>158.0450</td><td>147.8916</td><td>166.5478</td><td>144.4662</td><td>153.8646</td></tr>\n",
       "\t<tr><td>152.9050</td><td>146.7453</td><td>160.9594</td><td>134.6328</td><td>156.4622</td></tr>\n",
       "</tbody>\n",
       "</table>\n"
      ],
      "text/latex": [
       "A matrix: 6 × 5 of type dbl\n",
       "\\begin{tabular}{lllll}\n",
       "\t 158.9053 & 158.6291 & 168.2353 & 142.0849 & 160.9284\\\\\n",
       "\t 148.9443 & 153.7130 & 169.6917 & 151.0368 & 169.2770\\\\\n",
       "\t 157.9636 & 147.4133 & 178.4411 & 146.8059 & 169.7294\\\\\n",
       "\t 141.5763 & 141.3270 & 168.5090 & 141.2683 & 160.5098\\\\\n",
       "\t 158.0450 & 147.8916 & 166.5478 & 144.4662 & 153.8646\\\\\n",
       "\t 152.9050 & 146.7453 & 160.9594 & 134.6328 & 156.4622\\\\\n",
       "\\end{tabular}\n"
      ],
      "text/markdown": [
       "\n",
       "A matrix: 6 × 5 of type dbl\n",
       "\n",
       "| 158.9053 | 158.6291 | 168.2353 | 142.0849 | 160.9284 |\n",
       "| 148.9443 | 153.7130 | 169.6917 | 151.0368 | 169.2770 |\n",
       "| 157.9636 | 147.4133 | 178.4411 | 146.8059 | 169.7294 |\n",
       "| 141.5763 | 141.3270 | 168.5090 | 141.2683 | 160.5098 |\n",
       "| 158.0450 | 147.8916 | 166.5478 | 144.4662 | 153.8646 |\n",
       "| 152.9050 | 146.7453 | 160.9594 | 134.6328 | 156.4622 |\n",
       "\n"
      ],
      "text/plain": [
       "     [,1]     [,2]     [,3]     [,4]     [,5]    \n",
       "[1,] 158.9053 158.6291 168.2353 142.0849 160.9284\n",
       "[2,] 148.9443 153.7130 169.6917 151.0368 169.2770\n",
       "[3,] 157.9636 147.4133 178.4411 146.8059 169.7294\n",
       "[4,] 141.5763 141.3270 168.5090 141.2683 160.5098\n",
       "[5,] 158.0450 147.8916 166.5478 144.4662 153.8646\n",
       "[6,] 152.9050 146.7453 160.9594 134.6328 156.4622"
      ]
     },
     "metadata": {},
     "output_type": "display_data"
    }
   ],
   "source": [
    "sim.height %>% head"
   ]
  },
  {
   "cell_type": "code",
   "execution_count": 26,
   "metadata": {
    "ExecuteTime": {
     "end_time": "2020-02-13T22:02:14.999384Z",
     "start_time": "2020-02-13T22:02:14.941Z"
    },
    "hidden": true
   },
   "outputs": [
    {
     "data": {
      "text/plain": [
       "   Min. 1st Qu.  Median    Mean 3rd Qu.    Max. \n",
       "  134.8   151.1   154.6   154.5   157.9   173.4 "
      ]
     },
     "metadata": {},
     "output_type": "display_data"
    }
   ],
   "source": [
    "sim.height[,1] %>% summary()"
   ]
  },
  {
   "cell_type": "markdown",
   "metadata": {},
   "source": [
    "## relationship between height (cm) and the natural logarithm of weight (log-kg)"
   ]
  },
  {
   "cell_type": "markdown",
   "metadata": {},
   "source": [
    "<b><font color = 'purple'>Model the relationship between height (cm) and the natural logarithm of\n",
    "weight (log-kg): log(weight). \n",
    "    \n",
    "  Use the entire Howell1 data frame, all 544\n",
    "rows, adults and non-adults. \n",
    "    \n",
    "Use any model type from Chapter 4 that you\n",
    "think useful: an ordinary linear regression, a polynomial or a spline. \n",
    "    \n",
    "Plot the posterior predictions against the raw data. </font></b>"
   ]
  },
  {
   "cell_type": "code",
   "execution_count": 40,
   "metadata": {
    "ExecuteTime": {
     "end_time": "2020-02-14T06:34:23.066560Z",
     "start_time": "2020-02-14T06:34:22.960Z"
    },
    "code_folding": []
   },
   "outputs": [],
   "source": [
    "# model\n",
    "d$log_weight <- log(d$weight)\n",
    "xbar <- mean(d$log_weight)\n",
    "m2 <- quap( alist(\n",
    "        height ~ dnorm( mu , sigma ) ,\n",
    "        mu <- a + b*( log_weight - xbar ) ,\n",
    "        a ~ dnorm( 178 , 20 ) ,\n",
    "        b ~ dlnorm( 0 , 1 ) ,\n",
    "        sigma ~ dunif( 0 , 50 )\n",
    "    ) ,\n",
    "    data=d )"
   ]
  },
  {
   "cell_type": "code",
   "execution_count": 41,
   "metadata": {
    "ExecuteTime": {
     "end_time": "2020-02-14T06:34:25.282100Z",
     "start_time": "2020-02-14T06:34:24.768Z"
    }
   },
   "outputs": [
    {
     "data": {
      "image/png": "[encoded data removed]",
      "text/plain": [
       "plot without title"
      ]
     },
     "metadata": {
      "image/png": {
       "height": 420,
       "width": 420
      }
     },
     "output_type": "display_data"
    }
   ],
   "source": [
    "plot( d$weight , d$height , col=col.alpha(rangi2,0.7) )\n",
    "\n",
    "x_seq <- log(1:60) # sequence of x-values on log scale\n",
    "\n",
    "mu <- sim( m2 , data=list(log_weight=x_seq) )\n",
    "# 1,000 simulations of the height prediction for each weight \n",
    "# each column represents a set of height predictions for a particular weight input\n",
    "\n",
    "mu_mean <- apply(mu,2,mean)  # mean height predicted for each weight input\n",
    "mu_ci <- apply(mu,2,PI,0.99) # compatability interval\n",
    "\n",
    "lines( exp(x_seq) , mu_mean )  # adds mean height to plot\n",
    "shade( mu_ci , exp(x_seq) )    # adds shaded compatability interval to plot"
   ]
  },
  {
   "cell_type": "markdown",
   "metadata": {
    "heading_collapsed": true
   },
   "source": [
    "##### Improving the model"
   ]
  },
  {
   "cell_type": "markdown",
   "metadata": {
    "hidden": true
   },
   "source": [
    "You could certainly do better—the trend is under-predicting in the mid ages. But just taking the log of weight does most of the work. Why? It’ll help to think of a human body as a cylinder. Roughly. The weight of a cylinder is proportional to its volume. And the volume of a cylinder is:\n",
    "\n",
    "$V =\\pi r^2h$\n",
    "\n",
    "where r is the radius and h is the height. As the cylinder, uh human, gets taller, the radius gets bigger. So we can just say the radius is some fraction α of the height:\n",
    "\n",
    "$r =\\alpha h$\n",
    "\n",
    "Substituting that in:\n",
    "\n",
    "$V =πα^2h^3 =kh^3$\n",
    "\n",
    "where $k =πα^2$ is just some proportionality constant. Now let’s plot volume (weight) as a function of height, and I’ll compare it to the data viewed the same way:"
   ]
  },
  {
   "cell_type": "markdown",
   "metadata": {
    "hidden": true
   },
   "source": [
    "<img src='pics/SR_d1.png' alt='Drawing' style='width:425pt'/>"
   ]
  },
  {
   "cell_type": "code",
   "execution_count": 56,
   "metadata": {
    "ExecuteTime": {
     "end_time": "2020-02-14T06:44:03.230834Z",
     "start_time": "2020-02-14T06:44:03.180Z"
    },
    "hidden": true
   },
   "outputs": [
    {
     "data": {
      "text/html": [
       "<style>\n",
       ".list-inline {list-style: none; margin:0; padding: 0}\n",
       ".list-inline>li {display: inline-block}\n",
       ".list-inline>li:not(:last-child)::after {content: \"\\00b7\"; padding: 0 .5ex}\n",
       "</style>\n",
       "<ol class=list-inline><li>1000</li><li>60</li></ol>\n"
      ],
      "text/latex": [
       "\\begin{enumerate*}\n",
       "\\item 1000\n",
       "\\item 60\n",
       "\\end{enumerate*}\n"
      ],
      "text/markdown": [
       "1. 1000\n",
       "2. 60\n",
       "\n",
       "\n"
      ],
      "text/plain": [
       "[1] 1000   60"
      ]
     },
     "metadata": {},
     "output_type": "display_data"
    }
   ],
   "source": [
    "mu %>% dim"
   ]
  },
  {
   "cell_type": "code",
   "execution_count": 52,
   "metadata": {
    "ExecuteTime": {
     "end_time": "2020-02-14T06:43:18.027326Z",
     "start_time": "2020-02-14T06:43:17.974Z"
    },
    "hidden": true
   },
   "outputs": [
    {
     "data": {
      "text/html": [
       "<style>\n",
       ".list-inline {list-style: none; margin:0; padding: 0}\n",
       ".list-inline>li {display: inline-block}\n",
       ".list-inline>li:not(:last-child)::after {content: \"\\00b7\"; padding: 0 .5ex}\n",
       "</style>\n",
       "<ol class=list-inline><li>0</li><li>0.693147180559945</li><li>1.09861228866811</li><li>1.38629436111989</li><li>1.6094379124341</li><li>1.79175946922805</li><li>1.94591014905531</li><li>2.07944154167984</li><li>2.19722457733622</li><li>2.30258509299405</li><li>2.39789527279837</li><li>2.484906649788</li><li>2.56494935746154</li><li>2.63905732961526</li><li>2.70805020110221</li><li>2.77258872223978</li><li>2.83321334405622</li><li>2.89037175789616</li><li>2.94443897916644</li><li>2.99573227355399</li><li>3.04452243772342</li><li>3.09104245335832</li><li>3.13549421592915</li><li>3.17805383034795</li><li>3.2188758248682</li><li>3.25809653802148</li><li>3.29583686600433</li><li>3.3322045101752</li><li>3.36729582998647</li><li>3.40119738166216</li><li>3.43398720448515</li><li>3.46573590279973</li><li>3.49650756146648</li><li>3.52636052461616</li><li>3.55534806148941</li><li>3.58351893845611</li><li>3.61091791264422</li><li>3.63758615972639</li><li>3.66356164612965</li><li>3.68887945411394</li><li>3.71357206670431</li><li>3.73766961828337</li><li>3.76120011569356</li><li>3.78418963391826</li><li>3.80666248977032</li><li>3.8286413964891</li><li>3.85014760171006</li><li>3.87120101090789</li><li>3.89182029811063</li><li>3.91202300542815</li><li>3.93182563272433</li><li>3.95124371858143</li><li>3.97029191355212</li><li>3.98898404656427</li><li>4.00733318523247</li><li>4.02535169073515</li><li>4.04305126783455</li><li>4.06044301054642</li><li>4.07753744390572</li><li>4.0943445622221</li></ol>\n"
      ],
      "text/latex": [
       "\\begin{enumerate*}\n",
       "\\item 0\n",
       "\\item 0.693147180559945\n",
       "\\item 1.09861228866811\n",
       "\\item 1.38629436111989\n",
       "\\item 1.6094379124341\n",
       "\\item 1.79175946922805\n",
       "\\item 1.94591014905531\n",
       "\\item 2.07944154167984\n",
       "\\item 2.19722457733622\n",
       "\\item 2.30258509299405\n",
       "\\item 2.39789527279837\n",
       "\\item 2.484906649788\n",
       "\\item 2.56494935746154\n",
       "\\item 2.63905732961526\n",
       "\\item 2.70805020110221\n",
       "\\item 2.77258872223978\n",
       "\\item 2.83321334405622\n",
       "\\item 2.89037175789616\n",
       "\\item 2.94443897916644\n",
       "\\item 2.99573227355399\n",
       "\\item 3.04452243772342\n",
       "\\item 3.09104245335832\n",
       "\\item 3.13549421592915\n",
       "\\item 3.17805383034795\n",
       "\\item 3.2188758248682\n",
       "\\item 3.25809653802148\n",
       "\\item 3.29583686600433\n",
       "\\item 3.3322045101752\n",
       "\\item 3.36729582998647\n",
       "\\item 3.40119738166216\n",
       "\\item 3.43398720448515\n",
       "\\item 3.46573590279973\n",
       "\\item 3.49650756146648\n",
       "\\item 3.52636052461616\n",
       "\\item 3.55534806148941\n",
       "\\item 3.58351893845611\n",
       "\\item 3.61091791264422\n",
       "\\item 3.63758615972639\n",
       "\\item 3.66356164612965\n",
       "\\item 3.68887945411394\n",
       "\\item 3.71357206670431\n",
       "\\item 3.73766961828337\n",
       "\\item 3.76120011569356\n",
       "\\item 3.78418963391826\n",
       "\\item 3.80666248977032\n",
       "\\item 3.8286413964891\n",
       "\\item 3.85014760171006\n",
       "\\item 3.87120101090789\n",
       "\\item 3.89182029811063\n",
       "\\item 3.91202300542815\n",
       "\\item 3.93182563272433\n",
       "\\item 3.95124371858143\n",
       "\\item 3.97029191355212\n",
       "\\item 3.98898404656427\n",
       "\\item 4.00733318523247\n",
       "\\item 4.02535169073515\n",
       "\\item 4.04305126783455\n",
       "\\item 4.06044301054642\n",
       "\\item 4.07753744390572\n",
       "\\item 4.0943445622221\n",
       "\\end{enumerate*}\n"
      ],
      "text/markdown": [
       "1. 0\n",
       "2. 0.693147180559945\n",
       "3. 1.09861228866811\n",
       "4. 1.38629436111989\n",
       "5. 1.6094379124341\n",
       "6. 1.79175946922805\n",
       "7. 1.94591014905531\n",
       "8. 2.07944154167984\n",
       "9. 2.19722457733622\n",
       "10. 2.30258509299405\n",
       "11. 2.39789527279837\n",
       "12. 2.484906649788\n",
       "13. 2.56494935746154\n",
       "14. 2.63905732961526\n",
       "15. 2.70805020110221\n",
       "16. 2.77258872223978\n",
       "17. 2.83321334405622\n",
       "18. 2.89037175789616\n",
       "19. 2.94443897916644\n",
       "20. 2.99573227355399\n",
       "21. 3.04452243772342\n",
       "22. 3.09104245335832\n",
       "23. 3.13549421592915\n",
       "24. 3.17805383034795\n",
       "25. 3.2188758248682\n",
       "26. 3.25809653802148\n",
       "27. 3.29583686600433\n",
       "28. 3.3322045101752\n",
       "29. 3.36729582998647\n",
       "30. 3.40119738166216\n",
       "31. 3.43398720448515\n",
       "32. 3.46573590279973\n",
       "33. 3.49650756146648\n",
       "34. 3.52636052461616\n",
       "35. 3.55534806148941\n",
       "36. 3.58351893845611\n",
       "37. 3.61091791264422\n",
       "38. 3.63758615972639\n",
       "39. 3.66356164612965\n",
       "40. 3.68887945411394\n",
       "41. 3.71357206670431\n",
       "42. 3.73766961828337\n",
       "43. 3.76120011569356\n",
       "44. 3.78418963391826\n",
       "45. 3.80666248977032\n",
       "46. 3.8286413964891\n",
       "47. 3.85014760171006\n",
       "48. 3.87120101090789\n",
       "49. 3.89182029811063\n",
       "50. 3.91202300542815\n",
       "51. 3.93182563272433\n",
       "52. 3.95124371858143\n",
       "53. 3.97029191355212\n",
       "54. 3.98898404656427\n",
       "55. 4.00733318523247\n",
       "56. 4.02535169073515\n",
       "57. 4.04305126783455\n",
       "58. 4.06044301054642\n",
       "59. 4.07753744390572\n",
       "60. 4.0943445622221\n",
       "\n",
       "\n"
      ],
      "text/plain": [
       " [1] 0.0000000 0.6931472 1.0986123 1.3862944 1.6094379 1.7917595 1.9459101\n",
       " [8] 2.0794415 2.1972246 2.3025851 2.3978953 2.4849066 2.5649494 2.6390573\n",
       "[15] 2.7080502 2.7725887 2.8332133 2.8903718 2.9444390 2.9957323 3.0445224\n",
       "[22] 3.0910425 3.1354942 3.1780538 3.2188758 3.2580965 3.2958369 3.3322045\n",
       "[29] 3.3672958 3.4011974 3.4339872 3.4657359 3.4965076 3.5263605 3.5553481\n",
       "[36] 3.5835189 3.6109179 3.6375862 3.6635616 3.6888795 3.7135721 3.7376696\n",
       "[43] 3.7612001 3.7841896 3.8066625 3.8286414 3.8501476 3.8712010 3.8918203\n",
       "[50] 3.9120230 3.9318256 3.9512437 3.9702919 3.9889840 4.0073332 4.0253517\n",
       "[57] 4.0430513 4.0604430 4.0775374 4.0943446"
      ]
     },
     "metadata": {},
     "output_type": "display_data"
    }
   ],
   "source": [
    " log(1:60)"
   ]
  },
  {
   "cell_type": "markdown",
   "metadata": {
    "heading_collapsed": true
   },
   "source": [
    "##### straight line example for comparison"
   ]
  },
  {
   "cell_type": "code",
   "execution_count": 50,
   "metadata": {
    "ExecuteTime": {
     "end_time": "2020-02-14T06:42:20.017291Z",
     "start_time": "2020-02-14T06:42:19.937Z"
    },
    "hidden": true
   },
   "outputs": [],
   "source": [
    "d$log_weight <- log(d$weight)\n",
    "xbar <- mean(d$weight)\n",
    "m2b <- quap( alist(\n",
    "        height ~ dnorm( mu , sigma ) ,\n",
    "        mu <- a + b*( weight - xbar ) ,\n",
    "        a ~ dnorm( 178 , 20 ) ,\n",
    "        b ~ dlnorm( 0 , 1 ) ,\n",
    "        sigma ~ dunif( 0 , 50 )\n",
    "    ) ,\n",
    "    data=d )"
   ]
  },
  {
   "cell_type": "code",
   "execution_count": 51,
   "metadata": {
    "ExecuteTime": {
     "end_time": "2020-02-14T06:42:21.846745Z",
     "start_time": "2020-02-14T06:42:21.328Z"
    },
    "hidden": true
   },
   "outputs": [
    {
     "data": {
      "image/png": "[encoded data removed]",
      "text/plain": [
       "plot without title"
      ]
     },
     "metadata": {
      "image/png": {
       "height": 420,
       "width": 420
      }
     },
     "output_type": "display_data"
    }
   ],
   "source": [
    "plot( d$weight , d$height , col=col.alpha(rangi2,0.7) )\n",
    "\n",
    "# x_seq <- log(1:60)\n",
    "x_seq <- 1:60\n",
    "mu <- sim( m2b , data=list(weight=x_seq) )\n",
    "mu_mean <- apply(mu,2,mean)\n",
    "mu_ci <- apply(mu,2,PI,0.99)\n",
    "lines( x_seq, mu_mean )\n",
    "shade( mu_ci , x_seq )"
   ]
  },
  {
   "cell_type": "code",
   "execution_count": null,
   "metadata": {
    "hidden": true
   },
   "outputs": [],
   "source": [
    "m5.3 <- quap(  alist(\n",
    "    D ~ dnorm( mu , sigma ) ,\n",
    "    mu <- a + log_w + bA*A ,\n",
    "    a ~ dnorm( 0 , 0.2 ) ,\n",
    "    bM ~ dnorm( 0 , 0.5 ) ,\n",
    "    bA ~ dnorm( 0 , 0.5 ) ,\n",
    "    sigma ~ dexp( 1 )\n",
    ") , data = d )\n",
    "precis( m5.3 )\n",
    "\n"
   ]
  },
  {
   "cell_type": "markdown",
   "metadata": {
    "heading_collapsed": true
   },
   "source": [
    "## Prior Predictive Simulation"
   ]
  },
  {
   "cell_type": "markdown",
   "metadata": {
    "hidden": true
   },
   "source": [
    "<b><font color = 'purple'>Plot the prior predictive distribution for the polynomial regression model in Chapter 4.  </font></b>\n",
    "\n",
    "* You can modify the the code that plots the linear regression prior predictive distribution. \n",
    "\n",
    "* 20 or 30 parabolas from the prior should suffice to show where the prior probability resides. \n",
    "\n",
    "<b><font color = 'purple'>Can you modify the prior distributions of α, β1, and β2 so that the prior predictions stay within the biologically reasonable outcome space?  </font></b>\n",
    "\n",
    "* That is to say: Do not try to fit the data by hand. But do try to keep the curves consistent with what you know about height and weight, before seeing these exact data."
   ]
  },
  {
   "cell_type": "code",
   "execution_count": 165,
   "metadata": {
    "ExecuteTime": {
     "end_time": "2020-02-15T07:53:53.917375Z",
     "start_time": "2020-02-15T07:53:53.745Z"
    },
    "code_folding": [
     0
    ],
    "hidden": true
   },
   "outputs": [],
   "source": [
    "# Define Model and priors\n",
    "library(rethinking)\n",
    "data(Howell1)\n",
    "d <- Howell1\n",
    "d$weight_s <- ( d$weight - mean(d$weight) )/sd(d$weight)\n",
    "d$weight_s2 <- d$weight_s^2\n",
    "m4.5 <- quap(\n",
    "    alist(\n",
    "        height ~ dnorm( mu , sigma ) ,\n",
    "        mu <- a + b1*weight_s + b2*weight_s2 ,\n",
    "        a ~ dnorm( 178 , 20 ) ,\n",
    "        b1 ~ dlnorm( 0 , 1 ) ,\n",
    "        b2 ~ dnorm( 0 , 1 ) ,\n",
    "        sigma ~ dunif( 0 , 50 )\n",
    "    ) ,\n",
    "    data=d )"
   ]
  },
  {
   "cell_type": "code",
   "execution_count": null,
   "metadata": {
    "ExecuteTime": {
     "end_time": "2020-02-14T19:03:31.558529Z",
     "start_time": "2020-02-14T19:03:31.491Z"
    },
    "code_folding": [
     0
    ],
    "hidden": true
   },
   "outputs": [],
   "source": [
    "# extract prior\n",
    "set.seed(45)\n",
    "prior <- extract.prior( m4.5 )"
   ]
  },
  {
   "cell_type": "code",
   "execution_count": 66,
   "metadata": {
    "ExecuteTime": {
     "end_time": "2020-02-14T19:03:31.558529Z",
     "start_time": "2020-02-14T19:03:31.491Z"
    },
    "code_folding": [
     0
    ],
    "collapsed": true,
    "hidden": true
   },
   "outputs": [
    {
     "data": {
      "text/html": [
       "<table>\n",
       "<caption>A data.frame: 4 × 4</caption>\n",
       "<thead>\n",
       "\t<tr><th></th><th scope=col>mean</th><th scope=col>sd</th><th scope=col>5.5%</th><th scope=col>94.5%</th></tr>\n",
       "\t<tr><th></th><th scope=col>&lt;dbl&gt;</th><th scope=col>&lt;dbl&gt;</th><th scope=col>&lt;dbl&gt;</th><th scope=col>&lt;dbl&gt;</th></tr>\n",
       "</thead>\n",
       "<tbody>\n",
       "\t<tr><th scope=row>a</th><td>177.61</td><td>20.72</td><td>144.18</td><td>211.42</td></tr>\n",
       "\t<tr><th scope=row>b1</th><td>  1.61</td><td> 1.88</td><td>  0.19</td><td>  4.43</td></tr>\n",
       "\t<tr><th scope=row>b2</th><td> -0.05</td><td> 0.97</td><td> -1.64</td><td>  1.45</td></tr>\n",
       "\t<tr><th scope=row>sigma</th><td> 25.14</td><td>14.59</td><td>  2.52</td><td> 47.37</td></tr>\n",
       "</tbody>\n",
       "</table>\n"
      ],
      "text/latex": [
       "A data.frame: 4 × 4\n",
       "\\begin{tabular}{r|llll}\n",
       "  & mean & sd & 5.5\\% & 94.5\\%\\\\\n",
       "  & <dbl> & <dbl> & <dbl> & <dbl>\\\\\n",
       "\\hline\n",
       "\ta & 177.61 & 20.72 & 144.18 & 211.42\\\\\n",
       "\tb1 &   1.61 &  1.88 &   0.19 &   4.43\\\\\n",
       "\tb2 &  -0.05 &  0.97 &  -1.64 &   1.45\\\\\n",
       "\tsigma &  25.14 & 14.59 &   2.52 &  47.37\\\\\n",
       "\\end{tabular}\n"
      ],
      "text/markdown": [
       "\n",
       "A data.frame: 4 × 4\n",
       "\n",
       "| <!--/--> | mean &lt;dbl&gt; | sd &lt;dbl&gt; | 5.5% &lt;dbl&gt; | 94.5% &lt;dbl&gt; |\n",
       "|---|---|---|---|---|\n",
       "| a | 177.61 | 20.72 | 144.18 | 211.42 |\n",
       "| b1 |   1.61 |  1.88 |   0.19 |   4.43 |\n",
       "| b2 |  -0.05 |  0.97 |  -1.64 |   1.45 |\n",
       "| sigma |  25.14 | 14.59 |   2.52 |  47.37 |\n",
       "\n"
      ],
      "text/plain": [
       "      mean   sd    5.5%   94.5% \n",
       "a     177.61 20.72 144.18 211.42\n",
       "b1      1.61  1.88   0.19   4.43\n",
       "b2     -0.05  0.97  -1.64   1.45\n",
       "sigma  25.14 14.59   2.52  47.37"
      ]
     },
     "metadata": {},
     "output_type": "display_data"
    }
   ],
   "source": [
    "# view prior parameter distributions\n",
    "precis( prior, hist=FALSE ) %>% round(2)"
   ]
  },
  {
   "cell_type": "code",
   "execution_count": 166,
   "metadata": {
    "ExecuteTime": {
     "end_time": "2020-02-15T07:56:04.786144Z",
     "start_time": "2020-02-15T07:56:04.723Z"
    },
    "code_folding": [
     0
    ],
    "collapsed": true,
    "hidden": true
   },
   "outputs": [
    {
     "data": {
      "text/html": [
       "<table>\n",
       "<caption>A matrix: 4 × 4 of type dbl</caption>\n",
       "<thead>\n",
       "\t<tr><th></th><th scope=col>a</th><th scope=col>b1</th><th scope=col>b2</th><th scope=col>sigma</th></tr>\n",
       "</thead>\n",
       "<tbody>\n",
       "\t<tr><th scope=row>a</th><td> 0.136</td><td>-0.041</td><td>-0.075</td><td>-0.006</td></tr>\n",
       "\t<tr><th scope=row>b1</th><td>-0.041</td><td> 0.083</td><td> 0.041</td><td> 0.003</td></tr>\n",
       "\t<tr><th scope=row>b2</th><td>-0.075</td><td> 0.041</td><td> 0.075</td><td> 0.006</td></tr>\n",
       "\t<tr><th scope=row>sigma</th><td>-0.006</td><td> 0.003</td><td> 0.006</td><td> 0.031</td></tr>\n",
       "</tbody>\n",
       "</table>\n"
      ],
      "text/latex": [
       "A matrix: 4 × 4 of type dbl\n",
       "\\begin{tabular}{r|llll}\n",
       "  & a & b1 & b2 & sigma\\\\\n",
       "\\hline\n",
       "\ta &  0.136 & -0.041 & -0.075 & -0.006\\\\\n",
       "\tb1 & -0.041 &  0.083 &  0.041 &  0.003\\\\\n",
       "\tb2 & -0.075 &  0.041 &  0.075 &  0.006\\\\\n",
       "\tsigma & -0.006 &  0.003 &  0.006 &  0.031\\\\\n",
       "\\end{tabular}\n"
      ],
      "text/markdown": [
       "\n",
       "A matrix: 4 × 4 of type dbl\n",
       "\n",
       "| <!--/--> | a | b1 | b2 | sigma |\n",
       "|---|---|---|---|---|\n",
       "| a |  0.136 | -0.041 | -0.075 | -0.006 |\n",
       "| b1 | -0.041 |  0.083 |  0.041 |  0.003 |\n",
       "| b2 | -0.075 |  0.041 |  0.075 |  0.006 |\n",
       "| sigma | -0.006 |  0.003 |  0.006 |  0.031 |\n",
       "\n"
      ],
      "text/plain": [
       "      a      b1     b2     sigma \n",
       "a      0.136 -0.041 -0.075 -0.006\n",
       "b1    -0.041  0.083  0.041  0.003\n",
       "b2    -0.075  0.041  0.075  0.006\n",
       "sigma -0.006  0.003  0.006  0.031"
      ]
     },
     "metadata": {},
     "output_type": "display_data"
    }
   ],
   "source": [
    "# covariance matrix needed to complete describe the distribution\n",
    "round( vcov( m4.5 ) , 3 ) ;"
   ]
  },
  {
   "cell_type": "code",
   "execution_count": 79,
   "metadata": {
    "ExecuteTime": {
     "end_time": "2020-02-14T19:17:57.552577Z",
     "start_time": "2020-02-14T19:17:56.193Z"
    },
    "code_folding": [
     0
    ],
    "collapsed": true,
    "hidden": true
   },
   "outputs": [
    {
     "name": "stderr",
     "output_type": "stream",
     "text": [
      "`stat_bin()` using `bins = 30`. Pick better value with `binwidth`.\n",
      "\n",
      "`stat_bin()` using `bins = 30`. Pick better value with `binwidth`.\n",
      "\n"
     ]
    },
    {
     "data": {
      "image/png": "[encoded data removed]",
      "text/plain": [
       "plot without title"
      ]
     },
     "metadata": {
      "image/png": {
       "height": 420,
       "width": 420
      }
     },
     "output_type": "display_data"
    },
    {
     "name": "stderr",
     "output_type": "stream",
     "text": [
      "`stat_bin()` using `bins = 30`. Pick better value with `binwidth`.\n",
      "\n"
     ]
    },
    {
     "data": {
      "image/png": "[encoded data removed]",
      "text/plain": [
       "plot without title"
      ]
     },
     "metadata": {
      "image/png": {
       "height": 420,
       "width": 420
      }
     },
     "output_type": "display_data"
    },
    {
     "name": "stderr",
     "output_type": "stream",
     "text": [
      "`stat_bin()` using `bins = 30`. Pick better value with `binwidth`.\n",
      "\n"
     ]
    },
    {
     "data": {
      "image/png": "[encoded data removed]",
      "text/plain": [
       "plot without title"
      ]
     },
     "metadata": {
      "image/png": {
       "height": 420,
       "width": 420
      }
     },
     "output_type": "display_data"
    },
    {
     "data": {
      "image/png": "[encoded data removed]",
      "text/plain": [
       "plot without title"
      ]
     },
     "metadata": {
      "image/png": {
       "height": 420,
       "width": 420
      }
     },
     "output_type": "display_data"
    }
   ],
   "source": [
    "# prior parameter histograms\n",
    "ggplot(mapping = aes(x = prior$a)) +\n",
    "    geom_histogram()\n",
    "\n",
    "ggplot(mapping = aes(x = prior$b1)) +\n",
    "    geom_histogram()\n",
    "\n",
    "ggplot(mapping = aes(x = prior$b2)) +\n",
    "    geom_histogram()\n",
    "\n",
    "ggplot(mapping = aes(x = prior$sigma)) +\n",
    "    geom_histogram()"
   ]
  },
  {
   "cell_type": "markdown",
   "metadata": {
    "hidden": true
   },
   "source": [
    "We want to simulate curves (parabolas) from this prior. One way is to use link. Then we won’t have to write the linear model again."
   ]
  },
  {
   "cell_type": "code",
   "execution_count": 150,
   "metadata": {
    "ExecuteTime": {
     "end_time": "2020-02-15T05:57:22.545092Z",
     "start_time": "2020-02-15T05:57:22.431Z"
    },
    "code_folding": [
     0
    ],
    "hidden": true
   },
   "outputs": [],
   "source": [
    "# simulate curves (parabolas) from the prior using link\n",
    "\n",
    "w_seq <- seq( from = min(d$weight_s), to = max(d$weight_s), length.out = 50 ) \n",
    "w2_seq <- w_seq^2  \n",
    "\n",
    "mu <- link( m4.5 , post=prior ,\n",
    "    data=list( weight_s=w_seq , weight_s2=w2_seq ) )\n",
    "\n",
    "# link takes our model (quap approximation), samples from the posterior distribution, \n",
    "# and then computes mu for each case in the data (sequence of predictor values) and \n",
    "# sample from the posterior distribution."
   ]
  },
  {
   "cell_type": "markdown",
   "metadata": {
    "hidden": true
   },
   "source": [
    "<b><font color = 'purple'>Now mu should contain 1000 parabolas. We’ll plot just the first 50. </font></b>"
   ]
  },
  {
   "cell_type": "code",
   "execution_count": 156,
   "metadata": {
    "ExecuteTime": {
     "end_time": "2020-02-15T06:01:00.892823Z",
     "start_time": "2020-02-15T06:01:00.555Z"
    },
    "code_folding": [
     0
    ],
    "collapsed": true,
    "hidden": true
   },
   "outputs": [
    {
     "data": {
      "image/png": "[encoded data removed]",
      "text/plain": [
       "plot without title"
      ]
     },
     "metadata": {
      "image/png": {
       "height": 420,
       "width": 420
      }
     },
     "output_type": "display_data"
    }
   ],
   "source": [
    "# plot first 50 lines\n",
    "plot( NULL , xlim=range(w_seq) , ylim=c(55,270) ,\n",
    "    xlab=\"weight (std)\" , ylab=\"height\" )\n",
    "\n",
    "for ( i in 1:50 ) lines( w_seq , mu[i,] , col=col.alpha(\"black\",0.5) )"
   ]
  },
  {
   "cell_type": "markdown",
   "metadata": {
    "heading_collapsed": true,
    "hidden": true
   },
   "source": [
    "###### Supplemental Notes"
   ]
  },
  {
   "cell_type": "markdown",
   "metadata": {
    "hidden": true
   },
   "source": [
    "<font color = 'blue'>Recall that the world’s tallest person was 270cm tall. The tallest person in the sample is about 180cm. The prior curvature is not very strong</font>. Those parabolas hardly bend at all. \n",
    "\n",
    "<b><font color = 'purple'>We can increase the standard deviation on the b2 prior, but that will produce some silly shapes (left below), where either average weight is tallest or shortest. That can’t be right.  </font></b>\n",
    "\n",
    "* The basic problem is that b2 needs to be negative to make the curve bend down, but b1 has to also change in order to move the maximum height to the right. It’s all a bit confusing, and is they key reason that working with polynomial models is so hard. \n",
    "\n",
    "<font color = 'blue'><b><font color = 'purple'>The prior on the right below can only bend down </font></b>, but I’ve made the linear model $a + b1*\\text{weight_s} - b2*\\text{weight_s2}$ and given $b2$ a logNormal prior.</font>"
   ]
  },
  {
   "cell_type": "markdown",
   "metadata": {
    "hidden": true
   },
   "source": [
    "<img src='pics/SR_e38.png' alt='Drawing' style='width:425pt'/>"
   ]
  },
  {
   "cell_type": "markdown",
   "metadata": {
    "hidden": true
   },
   "source": [
    "<font color = 'blue'>A key problem in getting reasonable curves here is that obviously a and b1 and b2 are correlated in the family of reasonable curves. But the priors are uncorrelated—they are independent of one another</font>. \n",
    "\n",
    "Still, if you can get independent priors to at least live within some reasonably space of outcome values, that’s a lot better than flat priors. What would flat priors look like here? Something like this:"
   ]
  },
  {
   "cell_type": "markdown",
   "metadata": {
    "ExecuteTime": {
     "end_time": "2020-02-15T07:51:59.994612Z",
     "start_time": "2020-02-15T07:51:59.954Z"
    },
    "hidden": true
   },
   "source": [
    "<img src='pics/SR_e39.png' alt='Drawing' style='width:225pt'/>"
   ]
  },
  {
   "cell_type": "markdown",
   "metadata": {
    "hidden": true
   },
   "source": [
    "These prior curves actually strongly favor explosive growth or shrinkage near the mean. This is a general phenomenon with “flat” priors: Once the predictor is at all complicated, “flat” does not imply “no relationship.” Do any of the priors above make a difference for inference in this sample? No. There is a lot of data and the model is quite simple, in terms of the way that parameters relate to predictions. This will not always be the case."
   ]
  },
  {
   "cell_type": "code",
   "execution_count": 63,
   "metadata": {
    "ExecuteTime": {
     "end_time": "2020-02-14T18:48:23.842329Z",
     "start_time": "2020-02-14T18:48:23.644Z"
    },
    "hidden": true
   },
   "outputs": [],
   "source": [
    "# parabola model\n",
    "library(rethinking)\n",
    "data(Howell1)\n",
    "d <- Howell1\n",
    "d$weight_s <- ( d$weight - mean(d$weight) )/sd(d$weight)\n",
    "d$weight_s2 <- d$weight_s^2\n",
    "m4.5 <- quap(\n",
    "    alist(\n",
    "        height ~ dnorm( mu , sigma ) ,\n",
    "        mu <- a + b1*weight_s + b2*weight_s2 ,\n",
    "        a ~ dnorm( 178 , 20 ) ,\n",
    "        b1 ~ dlnorm( 0 , 1 ) ,\n",
    "        b2 ~ dnorm( 0 , 1 ) ,\n",
    "        sigma ~ dunif( 0 , 50 )\n",
    "    ) ,\n",
    "    data=d )"
   ]
  },
  {
   "cell_type": "markdown",
   "metadata": {
    "heading_collapsed": true,
    "hidden": true
   },
   "source": [
    "###### <font color = 'lightgrey'>link under the hood</font>"
   ]
  },
  {
   "cell_type": "code",
   "execution_count": 163,
   "metadata": {
    "ExecuteTime": {
     "end_time": "2020-02-15T07:34:54.124136Z",
     "start_time": "2020-02-15T07:34:53.837Z"
    },
    "code_folding": [],
    "hidden": true
   },
   "outputs": [
    {
     "data": {
      "text/html": [
       "<style>\n",
       ".list-inline {list-style: none; margin:0; padding: 0}\n",
       ".list-inline>li {display: inline-block}\n",
       ".list-inline>li:not(:last-child)::after {content: \"\\00b7\"; padding: 0 .5ex}\n",
       "</style>\n",
       "<ol class=list-inline><li>64.3329221477367</li><li>68.7595601412117</li><li>73.0826677668267</li><li>77.3022450245818</li><li>81.4182919144771</li></ol>\n"
      ],
      "text/latex": [
       "\\begin{enumerate*}\n",
       "\\item 64.3329221477367\n",
       "\\item 68.7595601412117\n",
       "\\item 73.0826677668267\n",
       "\\item 77.3022450245818\n",
       "\\item 81.4182919144771\n",
       "\\end{enumerate*}\n"
      ],
      "text/markdown": [
       "1. 64.3329221477367\n",
       "2. 68.7595601412117\n",
       "3. 73.0826677668267\n",
       "4. 77.3022450245818\n",
       "5. 81.4182919144771\n",
       "\n",
       "\n"
      ],
      "text/plain": [
       "[1] 64.33292 68.75956 73.08267 77.30225 81.41829"
      ]
     },
     "metadata": {},
     "output_type": "display_data"
    },
    {
     "data": {
      "text/html": [
       "<table>\n",
       "<caption>A matrix: 2 × 50 of type dbl</caption>\n",
       "<tbody>\n",
       "\t<tr><th scope=row>5%</th><td>62.95559</td><td>67.49749</td><td>71.92933</td><td>76.23839</td><td>80.44131</td><td>84.53695</td><td>88.50866</td><td>92.37547</td><td>96.12790</td><td> 99.75946</td><td>...</td><td>159.9311</td><td>160.1344</td><td>160.2289</td><td>160.2078</td><td>160.0788</td><td>159.8428</td><td>159.4799</td><td>159.0096</td><td>158.4393</td><td>157.7534</td></tr>\n",
       "\t<tr><th scope=row>94%</th><td>65.71772</td><td>70.03553</td><td>74.26331</td><td>78.37729</td><td>82.39903</td><td>86.32764</td><td>90.16623</td><td>93.91757</td><td>97.56753</td><td>101.13245</td><td>...</td><td>161.3517</td><td>161.7160</td><td>161.9871</td><td>162.1580</td><td>162.2432</td><td>162.2374</td><td>162.1283</td><td>161.9192</td><td>161.6142</td><td>161.2183</td></tr>\n",
       "</tbody>\n",
       "</table>\n"
      ],
      "text/latex": [
       "A matrix: 2 × 50 of type dbl\n",
       "\\begin{tabular}{r|lllllllllllllllllllll}\n",
       "\t5\\% & 62.95559 & 67.49749 & 71.92933 & 76.23839 & 80.44131 & 84.53695 & 88.50866 & 92.37547 & 96.12790 &  99.75946 & ... & 159.9311 & 160.1344 & 160.2289 & 160.2078 & 160.0788 & 159.8428 & 159.4799 & 159.0096 & 158.4393 & 157.7534\\\\\n",
       "\t94\\% & 65.71772 & 70.03553 & 74.26331 & 78.37729 & 82.39903 & 86.32764 & 90.16623 & 93.91757 & 97.56753 & 101.13245 & ... & 161.3517 & 161.7160 & 161.9871 & 162.1580 & 162.2432 & 162.2374 & 162.1283 & 161.9192 & 161.6142 & 161.2183\\\\\n",
       "\\end{tabular}\n"
      ],
      "text/markdown": [
       "\n",
       "A matrix: 2 × 50 of type dbl\n",
       "\n",
       "| 5% | 62.95559 | 67.49749 | 71.92933 | 76.23839 | 80.44131 | 84.53695 | 88.50866 | 92.37547 | 96.12790 |  99.75946 | ... | 159.9311 | 160.1344 | 160.2289 | 160.2078 | 160.0788 | 159.8428 | 159.4799 | 159.0096 | 158.4393 | 157.7534 |\n",
       "| 94% | 65.71772 | 70.03553 | 74.26331 | 78.37729 | 82.39903 | 86.32764 | 90.16623 | 93.91757 | 97.56753 | 101.13245 | ... | 161.3517 | 161.7160 | 161.9871 | 162.1580 | 162.2432 | 162.2374 | 162.1283 | 161.9192 | 161.6142 | 161.2183 |\n",
       "\n"
      ],
      "text/plain": [
       "    [,1]     [,2]     [,3]     [,4]     [,5]     [,6]     [,7]     [,8]    \n",
       "5%  62.95559 67.49749 71.92933 76.23839 80.44131 84.53695 88.50866 92.37547\n",
       "94% 65.71772 70.03553 74.26331 78.37729 82.39903 86.32764 90.16623 93.91757\n",
       "    [,9]     [,10]     [,11] [,12]    [,13]    [,14]    [,15]    [,16]   \n",
       "5%  96.12790  99.75946 ...   159.9311 160.1344 160.2289 160.2078 160.0788\n",
       "94% 97.56753 101.13245 ...   161.3517 161.7160 161.9871 162.1580 162.2432\n",
       "    [,17]    [,18]    [,19]    [,20]    [,21]   \n",
       "5%  159.8428 159.4799 159.0096 158.4393 157.7534\n",
       "94% 162.2374 162.1283 161.9192 161.6142 161.2183"
      ]
     },
     "metadata": {},
     "output_type": "display_data"
    }
   ],
   "source": [
    "##  link under the hood\n",
    "\n",
    "# exctract samples from the posterior of parameters\n",
    "post <- extract.samples(m4.5)\n",
    "\n",
    "# define linear model\n",
    "mu.link <- function(weight_s, weight_s2) post$a + post$b1*weight_s + post$b2*weight_s2\n",
    "       \n",
    "# define sequence of predictor values (weight)\n",
    "w_seq <- seq( from = min(d$weight_s), to = max(d$weight_s), length.out = 50 ) \n",
    "w2_seq <- w_seq^2 \n",
    "\n",
    "# For each predictor value, for each sample from the posterior\n",
    "# compute mu: a + b1*weight_s + b2*weight_s^2\n",
    "mu <- mapply( mu.link, weight_s=w_seq , weight_s2=w2_seq)\n",
    "\n",
    "u\n",
    "mu.mean <- apply( mu , 2 , mean )\n",
    "mu.CI <- apply( mu , 2 , PI , prob=0.89 )\n",
    "\n",
    "mu.mean %>% head(5)\n",
    "mu.CI %>% head"
   ]
  }
 ],
 "metadata": {
  "hide_input": false,
  "kernelspec": {
   "display_name": "R",
   "language": "R",
   "name": "ir"
  },
  "language_info": {
   "codemirror_mode": "r",
   "file_extension": ".r",
   "mimetype": "text/x-r-source",
   "name": "R",
   "pygments_lexer": "r",
   "version": "3.6.3"
  },
  "latex_envs": {
   "LaTeX_envs_menu_present": true,
   "autoclose": true,
   "autocomplete": true,
   "bibliofile": "biblio.bib",
   "cite_by": "apalike",
   "current_citInitial": 1,
   "eqLabelWithNumbers": true,
   "eqNumInitial": 1,
   "hotkeys": {
    "equation": "Ctrl-E",
    "itemize": "Ctrl-I"
   },
   "labels_anchors": false,
   "latex_user_defs": false,
   "report_style_numbering": false,
   "user_envs_cfg": false
  },
  "toc": {
   "base_numbering": 1,
   "nav_menu": {},
   "number_sections": true,
   "sideBar": true,
   "skip_h1_title": false,
   "title_cell": "Table of Contents",
   "title_sidebar": "Contents",
   "toc_cell": true,
   "toc_position": {},
   "toc_section_display": true,
   "toc_window_display": false
  }
 },
 "nbformat": 4,
 "nbformat_minor": 2
}
