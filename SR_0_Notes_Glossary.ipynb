{
 "cells": [
  {
   "cell_type": "markdown",
   "metadata": {
    "toc": true
   },
   "source": [
    "<h1>Table of Contents<span class=\"tocSkip\"></span></h1>\n",
    "<div class=\"toc\"><ul class=\"toc-item\"><li><span><a href=\"#CH4\" data-toc-modified-id=\"CH4-1\"><span class=\"toc-item-num\">1&nbsp;&nbsp;</span>CH4</a></span><ul class=\"toc-item\"><li><span><a href=\"#Log-Normal-Distribution\" data-toc-modified-id=\"Log-Normal-Distribution-1.1\"><span class=\"toc-item-num\">1.1&nbsp;&nbsp;</span>Log Normal Distribution</a></span></li><li><span><a href=\"#Overthinking:-Matrix-multiplication-in-the-spline-model.\" data-toc-modified-id=\"Overthinking:-Matrix-multiplication-in-the-spline-model.-1.2\"><span class=\"toc-item-num\">1.2&nbsp;&nbsp;</span>Overthinking: Matrix multiplication in the spline model.</a></span></li><li><span><a href=\"#apply-vs-lapply-vs-sapply\" data-toc-modified-id=\"apply-vs-lapply-vs-sapply-1.3\"><span class=\"toc-item-num\">1.3&nbsp;&nbsp;</span>apply vs lapply vs sapply</a></span></li><li><span><a href=\"#Overthinking:-How-LINK-works\" data-toc-modified-id=\"Overthinking:-How-LINK-works-1.4\"><span class=\"toc-item-num\">1.4&nbsp;&nbsp;</span><font color=\"green\">Overthinking: How LINK works</font></a></span></li><li><span><a href=\"#Overthinking:-How-SIM-works\" data-toc-modified-id=\"Overthinking:-How-SIM-works-1.5\"><span class=\"toc-item-num\">1.5&nbsp;&nbsp;</span><font color=\"green\">Overthinking: How SIM works</font></a></span></li><li><span><a href=\"#dnorm\" data-toc-modified-id=\"dnorm-1.6\"><span class=\"toc-item-num\">1.6&nbsp;&nbsp;</span>dnorm</a></span></li><li><span><a href=\"#VOCAB\" data-toc-modified-id=\"VOCAB-1.7\"><span class=\"toc-item-num\">1.7&nbsp;&nbsp;</span>VOCAB</a></span></li></ul></li></ul></div>"
   ]
  },
  {
   "cell_type": "raw",
   "metadata": {
    "ExecuteTime": {
     "end_time": "2020-01-13T06:49:49.147683Z",
     "start_time": "2020-01-13T06:49:49.086Z"
    }
   },
   "source": [
    "detach(\"package:rethinking\", unload=TRUE)"
   ]
  },
  {
   "cell_type": "code",
   "execution_count": 5,
   "metadata": {
    "ExecuteTime": {
     "end_time": "2020-02-22T19:44:48.692619Z",
     "start_time": "2020-02-22T19:44:42.808Z"
    },
    "collapsed": true
   },
   "outputs": [
    {
     "name": "stderr",
     "output_type": "stream",
     "text": [
      "-- \u001b[1mAttaching packages\u001b[22m --------------------------------------- tidyverse 1.3.0 --\n",
      "\n",
      "\u001b[32mv\u001b[39m \u001b[34mggplot2\u001b[39m 3.2.1     \u001b[32mv\u001b[39m \u001b[34mpurrr  \u001b[39m 0.3.3\n",
      "\u001b[32mv\u001b[39m \u001b[34mtibble \u001b[39m 2.1.3     \u001b[32mv\u001b[39m \u001b[34mdplyr  \u001b[39m 0.8.4\n",
      "\u001b[32mv\u001b[39m \u001b[34mtidyr  \u001b[39m 1.0.2     \u001b[32mv\u001b[39m \u001b[34mstringr\u001b[39m 1.4.0\n",
      "\u001b[32mv\u001b[39m \u001b[34mreadr  \u001b[39m 1.3.1     \u001b[32mv\u001b[39m \u001b[34mforcats\u001b[39m 0.4.0\n",
      "\n",
      "-- \u001b[1mConflicts\u001b[22m ------------------------------------------ tidyverse_conflicts() --\n",
      "\u001b[31mx\u001b[39m \u001b[34mdplyr\u001b[39m::\u001b[32mfilter()\u001b[39m masks \u001b[34mstats\u001b[39m::filter()\n",
      "\u001b[31mx\u001b[39m \u001b[34mdplyr\u001b[39m::\u001b[32mlag()\u001b[39m    masks \u001b[34mstats\u001b[39m::lag()\n",
      "\n",
      "Loading required package: rstan\n",
      "\n",
      "Loading required package: StanHeaders\n",
      "\n",
      "rstan (Version 2.19.2, GitRev: 2e1f913d3ca3)\n",
      "\n",
      "For execution on a local, multicore CPU with excess RAM we recommend calling\n",
      "options(mc.cores = parallel::detectCores()).\n",
      "To avoid recompilation of unchanged Stan programs, we recommend calling\n",
      "rstan_options(auto_write = TRUE)\n",
      "\n",
      "For improved execution time, we recommend calling\n",
      "Sys.setenv(LOCAL_CPPFLAGS = '-march=native')\n",
      "although this causes Stan to throw an error on a few processors.\n",
      "\n",
      "\n",
      "Attaching package: 'rstan'\n",
      "\n",
      "\n",
      "The following object is masked from 'package:tidyr':\n",
      "\n",
      "    extract\n",
      "\n",
      "\n",
      "Loading required package: parallel\n",
      "\n",
      "Loading required package: dagitty\n",
      "\n",
      "rethinking (Version 1.95)\n",
      "\n",
      "\n",
      "Attaching package: 'rethinking'\n",
      "\n",
      "\n",
      "The following object is masked from 'package:purrr':\n",
      "\n",
      "    map\n",
      "\n",
      "\n",
      "The following object is masked from 'package:stats':\n",
      "\n",
      "    rstudent\n",
      "\n",
      "\n"
     ]
    }
   ],
   "source": [
    "library(tidyverse)\n",
    "library(rethinking)"
   ]
  },
  {
   "cell_type": "markdown",
   "metadata": {},
   "source": [
    "# CH4"
   ]
  },
  {
   "cell_type": "markdown",
   "metadata": {
    "heading_collapsed": true
   },
   "source": [
    "## Log Normal Distribution"
   ]
  },
  {
   "cell_type": "markdown",
   "metadata": {
    "heading_collapsed": true,
    "hidden": true
   },
   "source": [
    "##### Log Normal Probability Density Function (dlnorm Function)"
   ]
  },
  {
   "cell_type": "code",
   "execution_count": 8,
   "metadata": {
    "ExecuteTime": {
     "end_time": "2020-02-12T17:02:18.166671Z",
     "start_time": "2020-02-12T17:02:18.122Z"
    },
    "hidden": true
   },
   "outputs": [
    {
     "data": {
      "text/html": [
       "1001"
      ],
      "text/latex": [
       "1001"
      ],
      "text/markdown": [
       "1001"
      ],
      "text/plain": [
       "[1] 1001"
      ]
     },
     "metadata": {},
     "output_type": "display_data"
    }
   ],
   "source": [
    "# Specify x-values for dlnorm function\n",
    "x_dlnorm <- seq(0, 10, by = 0.01)   ; x_dlnorm %>% length()"
   ]
  },
  {
   "cell_type": "code",
   "execution_count": 9,
   "metadata": {
    "ExecuteTime": {
     "end_time": "2020-02-12T17:03:21.218425Z",
     "start_time": "2020-02-12T17:03:21.178Z"
    },
    "hidden": true
   },
   "outputs": [],
   "source": [
    "y_dlnorm <- dlnorm(x_dlnorm)     # Apply dlnorm function"
   ]
  },
  {
   "cell_type": "markdown",
   "metadata": {
    "hidden": true
   },
   "source": [
    "The previous R code stored the output of the dlnorm function in the data object y_dlnorm. We can now use the plot function to draw a graphic, representing the probability density function (PDF) of the log normal distribution:"
   ]
  },
  {
   "cell_type": "code",
   "execution_count": 10,
   "metadata": {
    "ExecuteTime": {
     "end_time": "2020-02-12T17:03:40.559066Z",
     "start_time": "2020-02-12T17:03:40.383Z"
    },
    "collapsed": true,
    "hidden": true
   },
   "outputs": [
    {
     "data": {
      "image/png": "[encoded data removed]",
      "text/plain": [
       "plot without title"
      ]
     },
     "metadata": {
      "image/png": {
       "height": 420,
       "width": 420
      }
     },
     "output_type": "display_data"
    }
   ],
   "source": [
    "plot(y_dlnorm)  # Plot dlnorm values"
   ]
  },
  {
   "cell_type": "markdown",
   "metadata": {
    "heading_collapsed": true
   },
   "source": [
    "## Overthinking: Matrix multiplication in the spline model."
   ]
  },
  {
   "cell_type": "markdown",
   "metadata": {
    "hidden": true
   },
   "source": [
    "To make model m4.7 easier to program, we used a matrix multiplication of the basis matrix B by the vector of parameters ```w: B %*% w```. \n",
    "\n",
    "This notation is just linear algebra shorthand for \n",
    "\n",
    "(1) multiplying each element of the vector w by each value in the corresponding column of B and then \n",
    "\n",
    "(2) summing up each row of the result. \n",
    "\n",
    "You could also fit the same model with the following less-elegant code:"
   ]
  },
  {
   "cell_type": "code",
   "execution_count": 111,
   "metadata": {
    "ExecuteTime": {
     "end_time": "2020-01-23T07:00:13.723575Z",
     "start_time": "2020-01-23T06:58:22.869Z"
    },
    "hidden": true
   },
   "outputs": [
    {
     "name": "stderr",
     "output_type": "stream",
     "text": [
      "Caution, model may not have converged.\n",
      "\n",
      "Code 1: Maximum iterations reached.\n",
      "\n"
     ]
    }
   ],
   "source": [
    "## R code 4.79\n",
    "m4.7alt <- quap(\n",
    "    alist(\n",
    "        T ~ dnorm( mu , sigma ) ,\n",
    "        mu <- a + sapply( 1:1124 , function(i) sum( B[i,]*w ) ) ,\n",
    "        a ~ dnorm(6,10),\n",
    "        w ~ dnorm(0,1),\n",
    "        sigma ~ dexp(1)\n",
    "    ),\n",
    "    data=list( T=d2$temp , B=B ) ,\n",
    "    start=list( w=rep( 0 , ncol(B) ) ) )"
   ]
  },
  {
   "cell_type": "markdown",
   "metadata": {
    "hidden": true
   },
   "source": [
    "So you end up with exactly what you need: A sum linear predictor for each year (row). If you haven’t worked with much linear algebra, matrix notation can be intimidating. It is useful to remember that it is nothing more than the mathematics you already know, but expressed in a highly compressed form that is convenient when working with repeated calculations on lists of numbers."
   ]
  },
  {
   "cell_type": "markdown",
   "metadata": {
    "heading_collapsed": true
   },
   "source": [
    "## apply vs lapply vs sapply"
   ]
  },
  {
   "cell_type": "markdown",
   "metadata": {
    "hidden": true
   },
   "source": [
    "he Apply family comprises: apply, lapply , sapply, vapply, mapply, rapply, and tapply. The Family of Apply functions pertains to the R base package, and is populated with functions to manipulate slices of data from matrices, arrays, lists and data frames in a repetitive way. <font color = 'blue'>Apply Function in R are designed to avoid explicit use of loop constructs</font>. They act on an input list, matrix or array, and apply a named function with one or several optional arguments."
   ]
  },
  {
   "cell_type": "markdown",
   "metadata": {
    "hidden": true
   },
   "source": [
    "http://www.datasciencemadesimple.com/apply-function-r/"
   ]
  },
  {
   "cell_type": "markdown",
   "metadata": {
    "hidden": true
   },
   "source": [
    "###### 1. Apply"
   ]
  },
  {
   "cell_type": "markdown",
   "metadata": {
    "hidden": true
   },
   "source": [
    "Returns a vector or array or list of values obtained by applying a function to margins of an array or matrix. (<font color = 'blue'>used for functions which reduce rows or columns to 1 summary value</font>)\n",
    "\n",
    "Syntax for Apply function in R:  \n",
    "```Apply(x,1,sum)```\n",
    "* Where the first Argument X is a data frame or matrix\n",
    "* Second argument 1 indicated Processing along rows .if it is 2 then it indicated processing along the columns\n",
    "* Third Argument is some aggregate function like sum, mean etc or some other user defined functions."
   ]
  },
  {
   "cell_type": "code",
   "execution_count": 2,
   "metadata": {
    "ExecuteTime": {
     "end_time": "2020-02-22T19:44:18.154385Z",
     "start_time": "2020-02-22T19:44:17.952Z"
    },
    "hidden": true,
    "scrolled": true
   },
   "outputs": [
    {
     "data": {
      "text/html": [
       "<table>\n",
       "<caption>A data.frame: 6 × 3</caption>\n",
       "<thead>\n",
       "\t<tr><th scope=col>Age</th><th scope=col>Weight</th><th scope=col>Height</th></tr>\n",
       "\t<tr><th scope=col>&lt;dbl&gt;</th><th scope=col>&lt;dbl&gt;</th><th scope=col>&lt;dbl&gt;</th></tr>\n",
       "</thead>\n",
       "<tbody>\n",
       "\t<tr><td>56</td><td>78</td><td>165</td></tr>\n",
       "\t<tr><td>34</td><td>67</td><td>171</td></tr>\n",
       "\t<tr><td>67</td><td>56</td><td>167</td></tr>\n",
       "\t<tr><td>33</td><td>44</td><td>167</td></tr>\n",
       "\t<tr><td>25</td><td>56</td><td>166</td></tr>\n",
       "\t<tr><td>28</td><td>89</td><td>181</td></tr>\n",
       "</tbody>\n",
       "</table>\n"
      ],
      "text/latex": [
       "A data.frame: 6 × 3\n",
       "\\begin{tabular}{lll}\n",
       " Age & Weight & Height\\\\\n",
       " <dbl> & <dbl> & <dbl>\\\\\n",
       "\\hline\n",
       "\t 56 & 78 & 165\\\\\n",
       "\t 34 & 67 & 171\\\\\n",
       "\t 67 & 56 & 167\\\\\n",
       "\t 33 & 44 & 167\\\\\n",
       "\t 25 & 56 & 166\\\\\n",
       "\t 28 & 89 & 181\\\\\n",
       "\\end{tabular}\n"
      ],
      "text/markdown": [
       "\n",
       "A data.frame: 6 × 3\n",
       "\n",
       "| Age &lt;dbl&gt; | Weight &lt;dbl&gt; | Height &lt;dbl&gt; |\n",
       "|---|---|---|\n",
       "| 56 | 78 | 165 |\n",
       "| 34 | 67 | 171 |\n",
       "| 67 | 56 | 167 |\n",
       "| 33 | 44 | 167 |\n",
       "| 25 | 56 | 166 |\n",
       "| 28 | 89 | 181 |\n",
       "\n"
      ],
      "text/plain": [
       "  Age Weight Height\n",
       "1 56  78     165   \n",
       "2 34  67     171   \n",
       "3 67  56     167   \n",
       "4 33  44     167   \n",
       "5 25  56     166   \n",
       "6 28  89     181   "
      ]
     },
     "metadata": {},
     "output_type": "display_data"
    }
   ],
   "source": [
    "# Example 1: Apply function in R:\n",
    "# Create data frame:\n",
    "\n",
    "Age    <- c(56,34,67,33,25,28)\n",
    "Weight <- c(78,67,56,44,56,89)\n",
    "Height <- c(165, 171,167,167,166,181)\n",
    " \n",
    "BMI_df <- data.frame(Age,Weight,Height)\n",
    "BMI_df "
   ]
  },
  {
   "cell_type": "code",
   "execution_count": 7,
   "metadata": {
    "ExecuteTime": {
     "end_time": "2020-02-22T19:44:57.123831Z",
     "start_time": "2020-02-22T19:44:57.038Z"
    },
    "hidden": true,
    "scrolled": true
   },
   "outputs": [
    {
     "data": {
      "text/html": [
       "<style>\n",
       ".list-inline {list-style: none; margin:0; padding: 0}\n",
       ".list-inline>li {display: inline-block}\n",
       ".list-inline>li:not(:last-child)::after {content: \"\\00b7\"; padding: 0 .5ex}\n",
       "</style>\n",
       "<ol class=list-inline><li>299</li><li>272</li><li>290</li><li>244</li><li>247</li><li>298</li></ol>\n"
      ],
      "text/latex": [
       "\\begin{enumerate*}\n",
       "\\item 299\n",
       "\\item 272\n",
       "\\item 290\n",
       "\\item 244\n",
       "\\item 247\n",
       "\\item 298\n",
       "\\end{enumerate*}\n"
      ],
      "text/markdown": [
       "1. 299\n",
       "2. 272\n",
       "3. 290\n",
       "4. 244\n",
       "5. 247\n",
       "6. 298\n",
       "\n",
       "\n"
      ],
      "text/plain": [
       "[1] 299 272 290 244 247 298"
      ]
     },
     "metadata": {},
     "output_type": "display_data"
    },
    {
     "data": {
      "text/html": [
       "<style>\n",
       ".list-inline {list-style: none; margin:0; padding: 0}\n",
       ".list-inline>li {display: inline-block}\n",
       ".list-inline>li:not(:last-child)::after {content: \"\\00b7\"; padding: 0 .5ex}\n",
       "</style>\n",
       "<ol class=list-inline><li>99.7</li><li>90.7</li><li>96.7</li><li>81.3</li><li>82.3</li><li>99.3</li></ol>\n"
      ],
      "text/latex": [
       "\\begin{enumerate*}\n",
       "\\item 99.7\n",
       "\\item 90.7\n",
       "\\item 96.7\n",
       "\\item 81.3\n",
       "\\item 82.3\n",
       "\\item 99.3\n",
       "\\end{enumerate*}\n"
      ],
      "text/markdown": [
       "1. 99.7\n",
       "2. 90.7\n",
       "3. 96.7\n",
       "4. 81.3\n",
       "5. 82.3\n",
       "6. 99.3\n",
       "\n",
       "\n"
      ],
      "text/plain": [
       "[1] 99.7 90.7 96.7 81.3 82.3 99.3"
      ]
     },
     "metadata": {},
     "output_type": "display_data"
    },
    {
     "data": {
      "text/html": [
       "<style>\n",
       ".dl-inline {width: auto; margin:0; padding: 0}\n",
       ".dl-inline>dt, .dl-inline>dd {float: none; width: auto; display: inline-block}\n",
       ".dl-inline>dt::after {content: \":\\0020\"; padding-right: .5ex}\n",
       ".dl-inline>dt:not(:first-of-type) {padding-left: .5ex}\n",
       "</style><dl class=dl-inline><dt>Age</dt><dd>243</dd><dt>Weight</dt><dd>390</dd><dt>Height</dt><dd>1017</dd></dl>\n"
      ],
      "text/latex": [
       "\\begin{description*}\n",
       "\\item[Age] 243\n",
       "\\item[Weight] 390\n",
       "\\item[Height] 1017\n",
       "\\end{description*}\n"
      ],
      "text/markdown": [
       "Age\n",
       ":   243Weight\n",
       ":   390Height\n",
       ":   1017\n",
       "\n"
      ],
      "text/plain": [
       "   Age Weight Height \n",
       "   243    390   1017 "
      ]
     },
     "metadata": {},
     "output_type": "display_data"
    },
    {
     "data": {
      "text/html": [
       "<style>\n",
       ".dl-inline {width: auto; margin:0; padding: 0}\n",
       ".dl-inline>dt, .dl-inline>dd {float: none; width: auto; display: inline-block}\n",
       ".dl-inline>dt::after {content: \":\\0020\"; padding-right: .5ex}\n",
       ".dl-inline>dt:not(:first-of-type) {padding-left: .5ex}\n",
       "</style><dl class=dl-inline><dt>Age</dt><dd>40.5</dd><dt>Weight</dt><dd>65</dd><dt>Height</dt><dd>169.5</dd></dl>\n"
      ],
      "text/latex": [
       "\\begin{description*}\n",
       "\\item[Age] 40.5\n",
       "\\item[Weight] 65\n",
       "\\item[Height] 169.5\n",
       "\\end{description*}\n"
      ],
      "text/markdown": [
       "Age\n",
       ":   40.5Weight\n",
       ":   65Height\n",
       ":   169.5\n",
       "\n"
      ],
      "text/plain": [
       "   Age Weight Height \n",
       "  40.5   65.0  169.5 "
      ]
     },
     "metadata": {},
     "output_type": "display_data"
    }
   ],
   "source": [
    "# row wise sum up of dataframe using apply function in R\n",
    "apply(BMI_df,1,sum)\n",
    "\n",
    "# row wise mean of dataframe using apply function in R\n",
    "apply(BMI_df,1,mean) %>% round(1)\n",
    "\n",
    "# column wise sum up of dataframe using apply function in R\n",
    "apply(BMI_df,2,sum)\n",
    "\n",
    "# column wise mean of dataframe using apply function in R\n",
    "apply(BMI_df,2,mean)"
   ]
  },
  {
   "cell_type": "markdown",
   "metadata": {
    "heading_collapsed": true,
    "hidden": true
   },
   "source": [
    "###### 2. lapply"
   ]
  },
  {
   "cell_type": "markdown",
   "metadata": {
    "hidden": true
   },
   "source": [
    "lapply function takes list, vector or Data frame as input and returns only list as output."
   ]
  },
  {
   "cell_type": "code",
   "execution_count": 131,
   "metadata": {
    "ExecuteTime": {
     "end_time": "2020-01-21T06:23:16.297849Z",
     "start_time": "2020-01-21T06:23:16.237Z"
    },
    "hidden": true
   },
   "outputs": [
    {
     "data": {
      "text/html": [
       "<dl>\n",
       "\t<dt>$Age</dt>\n",
       "\t\t<dd><ol class=list-inline>\n",
       "\t<li>28</li>\n",
       "\t<li>17</li>\n",
       "\t<li>33.5</li>\n",
       "\t<li>16.5</li>\n",
       "\t<li>12.5</li>\n",
       "\t<li>14</li>\n",
       "</ol>\n",
       "</dd>\n",
       "\t<dt>$Weight</dt>\n",
       "\t\t<dd><ol class=list-inline>\n",
       "\t<li>39</li>\n",
       "\t<li>33.5</li>\n",
       "\t<li>28</li>\n",
       "\t<li>22</li>\n",
       "\t<li>28</li>\n",
       "\t<li>44.5</li>\n",
       "</ol>\n",
       "</dd>\n",
       "\t<dt>$Height</dt>\n",
       "\t\t<dd><ol class=list-inline>\n",
       "\t<li>82.5</li>\n",
       "\t<li>85.5</li>\n",
       "\t<li>83.5</li>\n",
       "\t<li>83.5</li>\n",
       "\t<li>83</li>\n",
       "\t<li>90.5</li>\n",
       "</ol>\n",
       "</dd>\n",
       "</dl>\n"
      ],
      "text/latex": [
       "\\begin{description}\n",
       "\\item[\\$Age] \\begin{enumerate*}\n",
       "\\item 28\n",
       "\\item 17\n",
       "\\item 33.5\n",
       "\\item 16.5\n",
       "\\item 12.5\n",
       "\\item 14\n",
       "\\end{enumerate*}\n",
       "\n",
       "\\item[\\$Weight] \\begin{enumerate*}\n",
       "\\item 39\n",
       "\\item 33.5\n",
       "\\item 28\n",
       "\\item 22\n",
       "\\item 28\n",
       "\\item 44.5\n",
       "\\end{enumerate*}\n",
       "\n",
       "\\item[\\$Height] \\begin{enumerate*}\n",
       "\\item 82.5\n",
       "\\item 85.5\n",
       "\\item 83.5\n",
       "\\item 83.5\n",
       "\\item 83\n",
       "\\item 90.5\n",
       "\\end{enumerate*}\n",
       "\n",
       "\\end{description}\n"
      ],
      "text/markdown": [
       "$Age\n",
       ":   1. 28\n",
       "2. 17\n",
       "3. 33.5\n",
       "4. 16.5\n",
       "5. 12.5\n",
       "6. 14\n",
       "\n",
       "\n",
       "\n",
       "$Weight\n",
       ":   1. 39\n",
       "2. 33.5\n",
       "3. 28\n",
       "4. 22\n",
       "5. 28\n",
       "6. 44.5\n",
       "\n",
       "\n",
       "\n",
       "$Height\n",
       ":   1. 82.5\n",
       "2. 85.5\n",
       "3. 83.5\n",
       "4. 83.5\n",
       "5. 83\n",
       "6. 90.5\n",
       "\n",
       "\n",
       "\n",
       "\n",
       "\n"
      ],
      "text/plain": [
       "$Age\n",
       "[1] 28.0 17.0 33.5 16.5 12.5 14.0\n",
       "\n",
       "$Weight\n",
       "[1] 39.0 33.5 28.0 22.0 28.0 44.5\n",
       "\n",
       "$Height\n",
       "[1] 82.5 85.5 83.5 83.5 83.0 90.5\n"
      ]
     },
     "metadata": {},
     "output_type": "display_data"
    }
   ],
   "source": [
    "lapply(BMI_df, function(BMI_df) BMI_df/2)\n",
    "       \n",
    "# the above lapply function divides the values in the dataframe by 2 and the\n",
    "# output will be in form of list"
   ]
  },
  {
   "cell_type": "code",
   "execution_count": 134,
   "metadata": {
    "ExecuteTime": {
     "end_time": "2020-01-21T06:24:59.438026Z",
     "start_time": "2020-01-21T06:24:59.383Z"
    },
    "hidden": true
   },
   "outputs": [
    {
     "name": "stdout",
     "output_type": "stream",
     "text": [
      "List of 3\n",
      " $ Age   : num 40.5\n",
      " $ Weight: num 65\n",
      " $ Height: num 170\n"
     ]
    }
   ],
   "source": [
    "# lapply function in R\n",
    "lapply(BMI_df, mean) %>% str\n",
    "# the above lapply function applies mean function to the columns\n",
    "# of the dataframe and the output will be in the form of list  \n",
    "\n"
   ]
  },
  {
   "cell_type": "markdown",
   "metadata": {
    "heading_collapsed": true,
    "hidden": true
   },
   "source": [
    "###### 3. Sapply"
   ]
  },
  {
   "cell_type": "code",
   "execution_count": 126,
   "metadata": {
    "ExecuteTime": {
     "end_time": "2020-01-21T06:21:33.215768Z",
     "start_time": "2020-01-21T06:21:33.116Z"
    },
    "code_folding": [
     0
    ],
    "hidden": true
   },
   "outputs": [
    {
     "data": {
      "text/html": [
       "<table>\n",
       "<caption>A data.frame: 6 × 3</caption>\n",
       "<thead>\n",
       "\t<tr><th scope=col>Age</th><th scope=col>Weight</th><th scope=col>Height</th></tr>\n",
       "\t<tr><th scope=col>&lt;dbl&gt;</th><th scope=col>&lt;dbl&gt;</th><th scope=col>&lt;dbl&gt;</th></tr>\n",
       "</thead>\n",
       "<tbody>\n",
       "\t<tr><td>56</td><td>78</td><td>165</td></tr>\n",
       "\t<tr><td>34</td><td>67</td><td>171</td></tr>\n",
       "\t<tr><td>67</td><td>56</td><td>167</td></tr>\n",
       "\t<tr><td>33</td><td>44</td><td>167</td></tr>\n",
       "\t<tr><td>25</td><td>56</td><td>166</td></tr>\n",
       "\t<tr><td>28</td><td>89</td><td>181</td></tr>\n",
       "</tbody>\n",
       "</table>\n"
      ],
      "text/latex": [
       "A data.frame: 6 × 3\n",
       "\\begin{tabular}{r|lll}\n",
       " Age & Weight & Height\\\\\n",
       " <dbl> & <dbl> & <dbl>\\\\\n",
       "\\hline\n",
       "\t 56 & 78 & 165\\\\\n",
       "\t 34 & 67 & 171\\\\\n",
       "\t 67 & 56 & 167\\\\\n",
       "\t 33 & 44 & 167\\\\\n",
       "\t 25 & 56 & 166\\\\\n",
       "\t 28 & 89 & 181\\\\\n",
       "\\end{tabular}\n"
      ],
      "text/markdown": [
       "\n",
       "A data.frame: 6 × 3\n",
       "\n",
       "| Age &lt;dbl&gt; | Weight &lt;dbl&gt; | Height &lt;dbl&gt; |\n",
       "|---|---|---|\n",
       "| 56 | 78 | 165 |\n",
       "| 34 | 67 | 171 |\n",
       "| 67 | 56 | 167 |\n",
       "| 33 | 44 | 167 |\n",
       "| 25 | 56 | 166 |\n",
       "| 28 | 89 | 181 |\n",
       "\n"
      ],
      "text/plain": [
       "  Age Weight Height\n",
       "1 56  78     165   \n",
       "2 34  67     171   \n",
       "3 67  56     167   \n",
       "4 33  44     167   \n",
       "5 25  56     166   \n",
       "6 28  89     181   "
      ]
     },
     "metadata": {},
     "output_type": "display_data"
    }
   ],
   "source": [
    "# Create toy data frame:\n",
    "\n",
    "Age    <- c(56,34,67,33,25,28)\n",
    "Weight <- c(78,67,56,44,56,89)\n",
    "Height <- c(165, 171,167,167,166,181)\n",
    " \n",
    "BMI_df <- data.frame(Age,Weight,Height)\n",
    "BMI_df "
   ]
  },
  {
   "cell_type": "markdown",
   "metadata": {
    "hidden": true
   },
   "source": [
    "sapply function takes list, vector or Data frame as input. It is similar to lapply function but <font color = 'blue'>returns only vector as output</font>.\n",
    "\n"
   ]
  },
  {
   "cell_type": "code",
   "execution_count": 138,
   "metadata": {
    "ExecuteTime": {
     "end_time": "2020-01-21T06:28:05.827602Z",
     "start_time": "2020-01-21T06:28:05.778Z"
    },
    "hidden": true
   },
   "outputs": [
    {
     "data": {
      "text/html": [
       "<table>\n",
       "<caption>A matrix: 6 × 3 of type dbl</caption>\n",
       "<thead>\n",
       "\t<tr><th scope=col>Age</th><th scope=col>Weight</th><th scope=col>Height</th></tr>\n",
       "</thead>\n",
       "<tbody>\n",
       "\t<tr><td>28.0</td><td>39.0</td><td>82.5</td></tr>\n",
       "\t<tr><td>17.0</td><td>33.5</td><td>85.5</td></tr>\n",
       "\t<tr><td>33.5</td><td>28.0</td><td>83.5</td></tr>\n",
       "\t<tr><td>16.5</td><td>22.0</td><td>83.5</td></tr>\n",
       "\t<tr><td>12.5</td><td>28.0</td><td>83.0</td></tr>\n",
       "\t<tr><td>14.0</td><td>44.5</td><td>90.5</td></tr>\n",
       "</tbody>\n",
       "</table>\n"
      ],
      "text/latex": [
       "A matrix: 6 × 3 of type dbl\n",
       "\\begin{tabular}{lll}\n",
       " Age & Weight & Height\\\\\n",
       "\\hline\n",
       "\t 28.0 & 39.0 & 82.5\\\\\n",
       "\t 17.0 & 33.5 & 85.5\\\\\n",
       "\t 33.5 & 28.0 & 83.5\\\\\n",
       "\t 16.5 & 22.0 & 83.5\\\\\n",
       "\t 12.5 & 28.0 & 83.0\\\\\n",
       "\t 14.0 & 44.5 & 90.5\\\\\n",
       "\\end{tabular}\n"
      ],
      "text/markdown": [
       "\n",
       "A matrix: 6 × 3 of type dbl\n",
       "\n",
       "| Age | Weight | Height |\n",
       "|---|---|---|\n",
       "| 28.0 | 39.0 | 82.5 |\n",
       "| 17.0 | 33.5 | 85.5 |\n",
       "| 33.5 | 28.0 | 83.5 |\n",
       "| 16.5 | 22.0 | 83.5 |\n",
       "| 12.5 | 28.0 | 83.0 |\n",
       "| 14.0 | 44.5 | 90.5 |\n",
       "\n"
      ],
      "text/plain": [
       "     Age  Weight Height\n",
       "[1,] 28.0 39.0   82.5  \n",
       "[2,] 17.0 33.5   85.5  \n",
       "[3,] 33.5 28.0   83.5  \n",
       "[4,] 16.5 22.0   83.5  \n",
       "[5,] 12.5 28.0   83.0  \n",
       "[6,] 14.0 44.5   90.5  "
      ]
     },
     "metadata": {},
     "output_type": "display_data"
    }
   ],
   "source": [
    "# divides the values in the dataframe by 2 and the\n",
    "# output will be in form of vector\n",
    "sapply(BMI_df, function(BMI_df) BMI_df/2)       "
   ]
  },
  {
   "cell_type": "code",
   "execution_count": 139,
   "metadata": {
    "ExecuteTime": {
     "end_time": "2020-01-21T06:28:07.841924Z",
     "start_time": "2020-01-21T06:28:07.795Z"
    },
    "hidden": true
   },
   "outputs": [
    {
     "data": {
      "text/html": [
       "<dl class=dl-horizontal>\n",
       "\t<dt>Age</dt>\n",
       "\t\t<dd>40.5</dd>\n",
       "\t<dt>Weight</dt>\n",
       "\t\t<dd>65</dd>\n",
       "\t<dt>Height</dt>\n",
       "\t\t<dd>169.5</dd>\n",
       "</dl>\n"
      ],
      "text/latex": [
       "\\begin{description*}\n",
       "\\item[Age] 40.5\n",
       "\\item[Weight] 65\n",
       "\\item[Height] 169.5\n",
       "\\end{description*}\n"
      ],
      "text/markdown": [
       "Age\n",
       ":   40.5Weight\n",
       ":   65Height\n",
       ":   169.5\n",
       "\n"
      ],
      "text/plain": [
       "   Age Weight Height \n",
       "  40.5   65.0  169.5 "
      ]
     },
     "metadata": {},
     "output_type": "display_data"
    }
   ],
   "source": [
    "# applies mean function to the columns of the dataframe \n",
    "# and the output will be in the form of vector  \n",
    "sapply(BMI_df, mean)"
   ]
  },
  {
   "cell_type": "code",
   "execution_count": 145,
   "metadata": {
    "ExecuteTime": {
     "end_time": "2020-01-21T06:30:56.652257Z",
     "start_time": "2020-01-21T06:30:56.600Z"
    },
    "hidden": true
   },
   "outputs": [
    {
     "data": {
      "text/html": [
       "<dl class=dl-horizontal>\n",
       "\t<dt>This</dt>\n",
       "\t\t<dd>4</dd>\n",
       "\t<dt>is</dt>\n",
       "\t\t<dd>2</dd>\n",
       "\t<dt>random</dt>\n",
       "\t\t<dd>6</dd>\n",
       "\t<dt>vector</dt>\n",
       "\t\t<dd>6</dd>\n",
       "</dl>\n"
      ],
      "text/latex": [
       "\\begin{description*}\n",
       "\\item[This] 4\n",
       "\\item[is] 2\n",
       "\\item[random] 6\n",
       "\\item[vector] 6\n",
       "\\end{description*}\n"
      ],
      "text/markdown": [
       "This\n",
       ":   4is\n",
       ":   2random\n",
       ":   6vector\n",
       ":   6\n",
       "\n"
      ],
      "text/plain": [
       "  This     is random vector \n",
       "     4      2      6      6 "
      ]
     },
     "metadata": {},
     "output_type": "display_data"
    }
   ],
   "source": [
    "# applies nchar function and the output will be\n",
    "random <- c(\"This\", \"is\",\"random\",\"vector\")\n",
    "sapply(random, nchar) # nchar -> function that counts characters in a vector"
   ]
  },
  {
   "cell_type": "markdown",
   "metadata": {
    "heading_collapsed": true,
    "hidden": true
   },
   "source": [
    "##### 4. Mapply"
   ]
  },
  {
   "cell_type": "markdown",
   "metadata": {
    "hidden": true
   },
   "source": [
    "mapply is a multivariate version of sapply. mapply applies FUN to the first elements of each (…) argument, the second elements, the third elements, and so on."
   ]
  },
  {
   "cell_type": "code",
   "execution_count": 2,
   "metadata": {
    "ExecuteTime": {
     "end_time": "2020-02-15T05:53:41.328238Z",
     "start_time": "2020-02-15T05:53:41.240Z"
    },
    "collapsed": true,
    "hidden": true
   },
   "outputs": [
    {
     "data": {
      "text/html": [
       "<ol>\n",
       "\t<li>4</li>\n",
       "\t<li><style>\n",
       ".list-inline {list-style: none; margin:0; padding: 0}\n",
       ".list-inline>li {display: inline-block}\n",
       ".list-inline>li:not(:last-child)::after {content: \"\\00b7\"; padding: 0 .5ex}\n",
       "</style>\n",
       "<ol class=list-inline><li>3</li><li>3</li></ol>\n",
       "</li>\n",
       "\t<li><style>\n",
       ".list-inline {list-style: none; margin:0; padding: 0}\n",
       ".list-inline>li {display: inline-block}\n",
       ".list-inline>li:not(:last-child)::after {content: \"\\00b7\"; padding: 0 .5ex}\n",
       "</style>\n",
       "<ol class=list-inline><li>2</li><li>2</li><li>2</li></ol>\n",
       "</li>\n",
       "\t<li><style>\n",
       ".list-inline {list-style: none; margin:0; padding: 0}\n",
       ".list-inline>li {display: inline-block}\n",
       ".list-inline>li:not(:last-child)::after {content: \"\\00b7\"; padding: 0 .5ex}\n",
       "</style>\n",
       "<ol class=list-inline><li>1</li><li>1</li><li>1</li><li>1</li></ol>\n",
       "</li>\n",
       "</ol>\n"
      ],
      "text/latex": [
       "\\begin{enumerate}\n",
       "\\item 4\n",
       "\\item \\begin{enumerate*}\n",
       "\\item 3\n",
       "\\item 3\n",
       "\\end{enumerate*}\n",
       "\n",
       "\\item \\begin{enumerate*}\n",
       "\\item 2\n",
       "\\item 2\n",
       "\\item 2\n",
       "\\end{enumerate*}\n",
       "\n",
       "\\item \\begin{enumerate*}\n",
       "\\item 1\n",
       "\\item 1\n",
       "\\item 1\n",
       "\\item 1\n",
       "\\end{enumerate*}\n",
       "\n",
       "\\end{enumerate}\n"
      ],
      "text/markdown": [
       "1. 4\n",
       "2. 1. 3\n",
       "2. 3\n",
       "\n",
       "\n",
       "\n",
       "3. 1. 2\n",
       "2. 2\n",
       "3. 2\n",
       "\n",
       "\n",
       "\n",
       "4. 1. 1\n",
       "2. 1\n",
       "3. 1\n",
       "4. 1\n",
       "\n",
       "\n",
       "\n",
       "\n",
       "\n"
      ],
      "text/plain": [
       "[[1]]\n",
       "[1] 4\n",
       "\n",
       "[[2]]\n",
       "[1] 3 3\n",
       "\n",
       "[[3]]\n",
       "[1] 2 2 2\n",
       "\n",
       "[[4]]\n",
       "[1] 1 1 1 1\n"
      ]
     },
     "metadata": {},
     "output_type": "display_data"
    }
   ],
   "source": [
    "mapply(rep, times = 1:4, x = 4:1)"
   ]
  },
  {
   "cell_type": "code",
   "execution_count": 5,
   "metadata": {
    "ExecuteTime": {
     "end_time": "2020-02-15T05:54:31.637248Z",
     "start_time": "2020-02-15T05:54:31.562Z"
    },
    "collapsed": true,
    "hidden": true
   },
   "outputs": [
    {
     "data": {
      "text/html": [
       "4"
      ],
      "text/latex": [
       "4"
      ],
      "text/markdown": [
       "4"
      ],
      "text/plain": [
       "[1] 4"
      ]
     },
     "metadata": {},
     "output_type": "display_data"
    },
    {
     "data": {
      "text/html": [
       "<style>\n",
       ".list-inline {list-style: none; margin:0; padding: 0}\n",
       ".list-inline>li {display: inline-block}\n",
       ".list-inline>li:not(:last-child)::after {content: \"\\00b7\"; padding: 0 .5ex}\n",
       "</style>\n",
       "<ol class=list-inline><li>3</li><li>3</li></ol>\n"
      ],
      "text/latex": [
       "\\begin{enumerate*}\n",
       "\\item 3\n",
       "\\item 3\n",
       "\\end{enumerate*}\n"
      ],
      "text/markdown": [
       "1. 3\n",
       "2. 3\n",
       "\n",
       "\n"
      ],
      "text/plain": [
       "[1] 3 3"
      ]
     },
     "metadata": {},
     "output_type": "display_data"
    },
    {
     "data": {
      "text/html": [
       "<style>\n",
       ".list-inline {list-style: none; margin:0; padding: 0}\n",
       ".list-inline>li {display: inline-block}\n",
       ".list-inline>li:not(:last-child)::after {content: \"\\00b7\"; padding: 0 .5ex}\n",
       "</style>\n",
       "<ol class=list-inline><li>2</li><li>2</li><li>2</li></ol>\n"
      ],
      "text/latex": [
       "\\begin{enumerate*}\n",
       "\\item 2\n",
       "\\item 2\n",
       "\\item 2\n",
       "\\end{enumerate*}\n"
      ],
      "text/markdown": [
       "1. 2\n",
       "2. 2\n",
       "3. 2\n",
       "\n",
       "\n"
      ],
      "text/plain": [
       "[1] 2 2 2"
      ]
     },
     "metadata": {},
     "output_type": "display_data"
    },
    {
     "data": {
      "text/html": [
       "<style>\n",
       ".list-inline {list-style: none; margin:0; padding: 0}\n",
       ".list-inline>li {display: inline-block}\n",
       ".list-inline>li:not(:last-child)::after {content: \"\\00b7\"; padding: 0 .5ex}\n",
       "</style>\n",
       "<ol class=list-inline><li>1</li><li>1</li><li>1</li><li>1</li></ol>\n"
      ],
      "text/latex": [
       "\\begin{enumerate*}\n",
       "\\item 1\n",
       "\\item 1\n",
       "\\item 1\n",
       "\\item 1\n",
       "\\end{enumerate*}\n"
      ],
      "text/markdown": [
       "1. 1\n",
       "2. 1\n",
       "3. 1\n",
       "4. 1\n",
       "\n",
       "\n"
      ],
      "text/plain": [
       "[1] 1 1 1 1"
      ]
     },
     "metadata": {},
     "output_type": "display_data"
    }
   ],
   "source": [
    "rep(times = 1, x = 4)\n",
    "rep(times = 2, x = 3)\n",
    "rep(times = 3, x = 2)\n",
    "rep(times = 4, x = 1)"
   ]
  },
  {
   "cell_type": "markdown",
   "metadata": {},
   "source": [
    "## <font color = 'green'>Overthinking: How LINK works</font>"
   ]
  },
  {
   "cell_type": "markdown",
   "metadata": {},
   "source": [
    "> <font color = 'green'>What link will do is take your quap approximation, sample from the posterior\n",
    "distribution, and then compute µ for each case in the data and sample from the posterior\n",
    "distribution. </font>"
   ]
  },
  {
   "cell_type": "markdown",
   "metadata": {},
   "source": [
    "The function link is not really very sophisticated. <font color = 'green'>All it is doing is <b>using the formula you provided when you fit the model to compute the value of the linear model. </b>\n",
    "</font>\n",
    "\n",
    "It does this for each sample from the posterior distribution, for each case in the data. You could accomplish the same thing for any model, fit by any means, by performing these steps yourself. This is how it’d look for m4.3."
   ]
  },
  {
   "cell_type": "markdown",
   "metadata": {},
   "source": [
    "<img src='pics/SR_d36.png' alt='Drawing' style='width:425pt'/>"
   ]
  },
  {
   "cell_type": "code",
   "execution_count": 3,
   "metadata": {
    "ExecuteTime": {
     "end_time": "2020-03-08T18:39:27.247134Z",
     "start_time": "2020-03-08T18:39:27.087Z"
    }
   },
   "outputs": [],
   "source": [
    "## R code 4.42 \n",
    "# load data again, since it's a long way back \n",
    "library(rethinking) \n",
    "data(Howell1) \n",
    "d <- Howell1 \n",
    "d2 <- d[ d$age >= 18 , ] \n",
    " \n",
    "# define the average weight, x-bar \n",
    "xbar <- mean(d2$weight) \n",
    " \n",
    "# fit model \n",
    "m4.3 <- quap( \n",
    "    alist( \n",
    "        height ~ dnorm( mu , sigma ) , \n",
    "        mu <- a + b*( weight - xbar ) , \n",
    "        a ~ dnorm( 178 , 20 ) , \n",
    "        b ~ dlnorm( 0 , 1 ) , \n",
    "        sigma ~ dunif( 0 , 50 ) \n",
    "    ) , \n",
    "    data=d2 ) \n"
   ]
  },
  {
   "cell_type": "code",
   "execution_count": 43,
   "metadata": {
    "ExecuteTime": {
     "end_time": "2020-03-08T19:23:33.688853Z",
     "start_time": "2020-03-08T19:23:33.564Z"
    }
   },
   "outputs": [],
   "source": [
    "# exctract samples from the posterior of parameters\n",
    "post <- extract.samples(m4.3)\n",
    "\n",
    "# define linear model\n",
    "mu.link <- function(weight) post$a + post$b*( weight - xbar )\n",
    "\n",
    "# define sequence of predictor values (weight)\n",
    "weight.seq <- seq( from=25 , to=70 , by=1 )\n",
    "\n",
    "# For each predictor value, for each sample from the posterior\n",
    "# compute mu: a + b*(weight - bar)\n",
    "mu <- sapply( weight.seq , mu.link )\n",
    "# sapply takes the value in the first argument and it passes it \n",
    "# into the function in the second argument \n",
    "\n",
    "# s means simplified simplified apply it applies the \n",
    "# first thing to the second thing and then it simplifies the result\n",
    "# sapply simplifies the result which apply doesn't\n",
    "\n",
    "\n",
    "mu.mean <- apply( mu , 2 , mean )\n",
    "mu.CI <- apply( mu , 2 , PI , prob=0.89 )"
   ]
  },
  {
   "cell_type": "code",
   "execution_count": 36,
   "metadata": {
    "ExecuteTime": {
     "end_time": "2020-03-08T19:15:40.686566Z",
     "start_time": "2020-03-08T19:15:40.623Z"
    },
    "scrolled": true
   },
   "outputs": [
    {
     "data": {
      "text/html": [
       "<table>\n",
       "<caption>A matrix: 3 × 46 of type dbl</caption>\n",
       "<tbody>\n",
       "\t<tr><td>136.5857</td><td>137.5034</td><td>138.4212</td><td>139.3389</td><td>140.2566</td><td>141.1744</td><td>142.0921</td><td>143.0098</td><td>143.9275</td><td>144.8453</td><td>...</td><td>169.6239</td><td>170.5416</td><td>171.4594</td><td>172.3771</td><td>173.2948</td><td>174.2125</td><td>175.1303</td><td>176.0480</td><td>176.9657</td><td>177.8834</td></tr>\n",
       "\t<tr><td>136.6198</td><td>137.5273</td><td>138.4348</td><td>139.3423</td><td>140.2497</td><td>141.1572</td><td>142.0647</td><td>142.9722</td><td>143.8796</td><td>144.7871</td><td>...</td><td>169.2889</td><td>170.1964</td><td>171.1039</td><td>172.0113</td><td>172.9188</td><td>173.8263</td><td>174.7338</td><td>175.6412</td><td>176.5487</td><td>177.4562</td></tr>\n",
       "\t<tr><td>135.7582</td><td>136.7126</td><td>137.6670</td><td>138.6215</td><td>139.5759</td><td>140.5303</td><td>141.4847</td><td>142.4392</td><td>143.3936</td><td>144.3480</td><td>...</td><td>170.1175</td><td>171.0719</td><td>172.0264</td><td>172.9808</td><td>173.9352</td><td>174.8896</td><td>175.8441</td><td>176.7985</td><td>177.7529</td><td>178.7073</td></tr>\n",
       "</tbody>\n",
       "</table>\n"
      ],
      "text/latex": [
       "A matrix: 3 × 46 of type dbl\n",
       "\\begin{tabular}{lllllllllllllllllllll}\n",
       "\t 136.5857 & 137.5034 & 138.4212 & 139.3389 & 140.2566 & 141.1744 & 142.0921 & 143.0098 & 143.9275 & 144.8453 & ... & 169.6239 & 170.5416 & 171.4594 & 172.3771 & 173.2948 & 174.2125 & 175.1303 & 176.0480 & 176.9657 & 177.8834\\\\\n",
       "\t 136.6198 & 137.5273 & 138.4348 & 139.3423 & 140.2497 & 141.1572 & 142.0647 & 142.9722 & 143.8796 & 144.7871 & ... & 169.2889 & 170.1964 & 171.1039 & 172.0113 & 172.9188 & 173.8263 & 174.7338 & 175.6412 & 176.5487 & 177.4562\\\\\n",
       "\t 135.7582 & 136.7126 & 137.6670 & 138.6215 & 139.5759 & 140.5303 & 141.4847 & 142.4392 & 143.3936 & 144.3480 & ... & 170.1175 & 171.0719 & 172.0264 & 172.9808 & 173.9352 & 174.8896 & 175.8441 & 176.7985 & 177.7529 & 178.7073\\\\\n",
       "\\end{tabular}\n"
      ],
      "text/markdown": [
       "\n",
       "A matrix: 3 × 46 of type dbl\n",
       "\n",
       "| 136.5857 | 137.5034 | 138.4212 | 139.3389 | 140.2566 | 141.1744 | 142.0921 | 143.0098 | 143.9275 | 144.8453 | ... | 169.6239 | 170.5416 | 171.4594 | 172.3771 | 173.2948 | 174.2125 | 175.1303 | 176.0480 | 176.9657 | 177.8834 |\n",
       "| 136.6198 | 137.5273 | 138.4348 | 139.3423 | 140.2497 | 141.1572 | 142.0647 | 142.9722 | 143.8796 | 144.7871 | ... | 169.2889 | 170.1964 | 171.1039 | 172.0113 | 172.9188 | 173.8263 | 174.7338 | 175.6412 | 176.5487 | 177.4562 |\n",
       "| 135.7582 | 136.7126 | 137.6670 | 138.6215 | 139.5759 | 140.5303 | 141.4847 | 142.4392 | 143.3936 | 144.3480 | ... | 170.1175 | 171.0719 | 172.0264 | 172.9808 | 173.9352 | 174.8896 | 175.8441 | 176.7985 | 177.7529 | 178.7073 |\n",
       "\n"
      ],
      "text/plain": [
       "     [,1]     [,2]     [,3]     [,4]     [,5]     [,6]     [,7]     [,8]    \n",
       "[1,] 136.5857 137.5034 138.4212 139.3389 140.2566 141.1744 142.0921 143.0098\n",
       "[2,] 136.6198 137.5273 138.4348 139.3423 140.2497 141.1572 142.0647 142.9722\n",
       "[3,] 135.7582 136.7126 137.6670 138.6215 139.5759 140.5303 141.4847 142.4392\n",
       "     [,9]     [,10]    [,11] [,12]    [,13]    [,14]    [,15]    [,16]   \n",
       "[1,] 143.9275 144.8453 ...   169.6239 170.5416 171.4594 172.3771 173.2948\n",
       "[2,] 143.8796 144.7871 ...   169.2889 170.1964 171.1039 172.0113 172.9188\n",
       "[3,] 143.3936 144.3480 ...   170.1175 171.0719 172.0264 172.9808 173.9352\n",
       "     [,17]    [,18]    [,19]    [,20]    [,21]   \n",
       "[1,] 174.2125 175.1303 176.0480 176.9657 177.8834\n",
       "[2,] 173.8263 174.7338 175.6412 176.5487 177.4562\n",
       "[3,] 174.8896 175.8441 176.7985 177.7529 178.7073"
      ]
     },
     "metadata": {},
     "output_type": "display_data"
    }
   ],
   "source": [
    "mu %>% head(3)"
   ]
  },
  {
   "cell_type": "code",
   "execution_count": 41,
   "metadata": {
    "ExecuteTime": {
     "end_time": "2020-03-08T19:22:54.254292Z",
     "start_time": "2020-03-08T19:22:54.176Z"
    },
    "code_folding": [
     0
    ],
    "collapsed": true
   },
   "outputs": [
    {
     "ename": "ERROR",
     "evalue": "Error in apply(mu, 2, mean): dim(X) must have a positive length\n",
     "output_type": "error",
     "traceback": [
      "Error in apply(mu, 2, mean): dim(X) must have a positive length\nTraceback:\n",
      "1. apply(mu, 2, mean)",
      "2. stop(\"dim(X) must have a positive length\")"
     ]
    }
   ],
   "source": [
    "# purrr can't get this to work...how do you return a 46*10000 matrix of doubles?\n",
    "\n",
    "# exctract samples from the posterior of parameters\n",
    "post <- extract.samples(m4.3)\n",
    "\n",
    "# define linear model\n",
    "mu.link <- function(weight) post$a + post$b*( weight - xbar )\n",
    "\n",
    "# define sequence of predictor values (weight)\n",
    "weight.seq <- seq( from=25 , to=70 , by=1 )\n",
    "\n",
    "# For each predictor value, for each sample from the posterior\n",
    "# compute mu: a + b*(weight - bar)\n",
    "mu <- purrr::map( weight.seq , mu.link )\n",
    "# sapply takes the value in the first argument and it passes it \n",
    "# into the function in the second argument \n",
    "\n",
    "# s means simplified simplified apply it applies the \n",
    "# first thing to the second thing and then it simplifies the result\n",
    "# sapply simplifies the result which apply doesn't\n",
    "\n",
    "\n",
    "mu.mean <- apply( mu , 2 , mean )\n",
    "mu.CI <- apply( mu , 2 , PI , prob=0.89 )"
   ]
  },
  {
   "cell_type": "code",
   "execution_count": 27,
   "metadata": {
    "ExecuteTime": {
     "end_time": "2020-03-08T19:03:57.540581Z",
     "start_time": "2020-03-08T19:03:57.487Z"
    },
    "collapsed": true
   },
   "outputs": [
    {
     "data": {
      "text/html": [
       "<pre class=language-r><code>new(\"standardGeneric\", .Data = function (fit, data, n = 1000, \n",
       "<span style=white-space:pre-wrap>    ...) </span>\n",
       "standardGeneric(\"link\"), generic = structure(\"link\", package = \"rethinking\"), \n",
       "<span style=white-space:pre-wrap>    package = \"rethinking\", group = list(), valueClass = character(0), </span>\n",
       "<span style=white-space:pre-wrap>    signature = c(\"fit\", \"data\", \"n\"), default = new(\"derivedDefaultMethod\", </span>\n",
       "<span style=white-space:pre-wrap>        .Data = function (fit, data, n = 1000, ...) </span>\n",
       "<span style=white-space:pre-wrap>        {</span>\n",
       "<span style=white-space:pre-wrap>            print(class(fit))</span>\n",
       "<span style=white-space:pre-wrap>        }, target = new(\"signature\", .Data = \"ANY\", names = \"fit\", </span>\n",
       "<span style=white-space:pre-wrap>            package = \"methods\"), defined = new(\"signature\", </span>\n",
       "<span style=white-space:pre-wrap>            .Data = \"ANY\", names = \"fit\", package = \"methods\"), </span>\n",
       "<span style=white-space:pre-wrap>        generic = structure(\"link\", package = \"rethinking\")), </span>\n",
       "<span style=white-space:pre-wrap>    skeleton = (new(\"derivedDefaultMethod\", .Data = function (fit, </span>\n",
       "<span style=white-space:pre-wrap>        data, n = 1000, ...) </span>\n",
       "<span style=white-space:pre-wrap>    {</span>\n",
       "<span style=white-space:pre-wrap>        print(class(fit))</span>\n",
       "<span style=white-space:pre-wrap>    }, target = new(\"signature\", .Data = \"ANY\", names = \"fit\", </span>\n",
       "<span style=white-space:pre-wrap>        package = \"methods\"), defined = new(\"signature\", .Data = \"ANY\", </span>\n",
       "<span style=white-space:pre-wrap>        names = \"fit\", package = \"methods\"), generic = structure(\"link\", package = \"rethinking\")))(fit, </span>\n",
       "<span style=white-space:pre-wrap>        data, n, ...))</span></code></pre>"
      ],
      "text/latex": [
       "\\begin{minted}{r}\n",
       "new(\"standardGeneric\", .Data = function (fit, data, n = 1000, \n",
       "    ...) \n",
       "standardGeneric(\"link\"), generic = structure(\"link\", package = \"rethinking\"), \n",
       "    package = \"rethinking\", group = list(), valueClass = character(0), \n",
       "    signature = c(\"fit\", \"data\", \"n\"), default = new(\"derivedDefaultMethod\", \n",
       "        .Data = function (fit, data, n = 1000, ...) \n",
       "        \\{\n",
       "            print(class(fit))\n",
       "        \\}, target = new(\"signature\", .Data = \"ANY\", names = \"fit\", \n",
       "            package = \"methods\"), defined = new(\"signature\", \n",
       "            .Data = \"ANY\", names = \"fit\", package = \"methods\"), \n",
       "        generic = structure(\"link\", package = \"rethinking\")), \n",
       "    skeleton = (new(\"derivedDefaultMethod\", .Data = function (fit, \n",
       "        data, n = 1000, ...) \n",
       "    \\{\n",
       "        print(class(fit))\n",
       "    \\}, target = new(\"signature\", .Data = \"ANY\", names = \"fit\", \n",
       "        package = \"methods\"), defined = new(\"signature\", .Data = \"ANY\", \n",
       "        names = \"fit\", package = \"methods\"), generic = structure(\"link\", package = \"rethinking\")))(fit, \n",
       "        data, n, ...))\n",
       "\\end{minted}"
      ],
      "text/markdown": [
       "```r\n",
       "new(\"standardGeneric\", .Data = function (fit, data, n = 1000, \n",
       "    ...) \n",
       "standardGeneric(\"link\"), generic = structure(\"link\", package = \"rethinking\"), \n",
       "    package = \"rethinking\", group = list(), valueClass = character(0), \n",
       "    signature = c(\"fit\", \"data\", \"n\"), default = new(\"derivedDefaultMethod\", \n",
       "        .Data = function (fit, data, n = 1000, ...) \n",
       "        {\n",
       "            print(class(fit))\n",
       "        }, target = new(\"signature\", .Data = \"ANY\", names = \"fit\", \n",
       "            package = \"methods\"), defined = new(\"signature\", \n",
       "            .Data = \"ANY\", names = \"fit\", package = \"methods\"), \n",
       "        generic = structure(\"link\", package = \"rethinking\")), \n",
       "    skeleton = (new(\"derivedDefaultMethod\", .Data = function (fit, \n",
       "        data, n = 1000, ...) \n",
       "    {\n",
       "        print(class(fit))\n",
       "    }, target = new(\"signature\", .Data = \"ANY\", names = \"fit\", \n",
       "        package = \"methods\"), defined = new(\"signature\", .Data = \"ANY\", \n",
       "        names = \"fit\", package = \"methods\"), generic = structure(\"link\", package = \"rethinking\")))(fit, \n",
       "        data, n, ...))\n",
       "```"
      ],
      "text/plain": [
       "new(\"standardGeneric\", .Data = function (fit, data, n = 1000, \n",
       "    ...) \n",
       "standardGeneric(\"link\"), generic = \"link\", package = \"rethinking\", \n",
       "    group = list(), valueClass = character(0), signature = c(\"fit\", \n",
       "    \"data\", \"n\"), default = new(\"derivedDefaultMethod\", .Data = function (fit, \n",
       "        data, n = 1000, ...) \n",
       "    {\n",
       "        print(class(fit))\n",
       "    }, target = new(\"signature\", .Data = \"ANY\", names = \"fit\", \n",
       "        package = \"methods\"), defined = new(\"signature\", .Data = \"ANY\", \n",
       "        names = \"fit\", package = \"methods\"), generic = \"link\"), \n",
       "    skeleton = (new(\"derivedDefaultMethod\", .Data = function (fit, \n",
       "        data, n = 1000, ...) \n",
       "    {\n",
       "        print(class(fit))\n",
       "    }, target = new(\"signature\", .Data = \"ANY\", names = \"fit\", \n",
       "        package = \"methods\"), defined = new(\"signature\", .Data = \"ANY\", \n",
       "        names = \"fit\", package = \"methods\"), generic = \"link\"))(fit, \n",
       "        data, n, ...))\n",
       "<bytecode: 0x000000001f9d3eb0>\n",
       "<environment: 0x000000001f8b6c18>\n",
       "attr(,\"generic\")\n",
       "[1] \"link\"\n",
       "attr(,\"generic\")attr(,\"package\")\n",
       "[1] \"rethinking\"\n",
       "attr(,\"package\")\n",
       "[1] \"rethinking\"\n",
       "attr(,\"group\")\n",
       "list()\n",
       "attr(,\"valueClass\")\n",
       "character(0)\n",
       "attr(,\"signature\")\n",
       "[1] \"fit\"  \"data\" \"n\"   \n",
       "attr(,\"default\")\n",
       "Method Definition (Class \"derivedDefaultMethod\"):\n",
       "\n",
       "function (fit, data, n = 1000, ...) \n",
       "{\n",
       "    print(class(fit))\n",
       "}\n",
       "<environment: namespace:rethinking>\n",
       "\n",
       "Signatures:\n",
       "        fit  \n",
       "target  \"ANY\"\n",
       "defined \"ANY\"\n",
       "attr(,\"skeleton\")\n",
       "(new(\"derivedDefaultMethod\", .Data = function (fit, data, n = 1000, \n",
       "    ...) \n",
       "{\n",
       "    print(class(fit))\n",
       "}, target = new(\"signature\", .Data = \"ANY\", names = \"fit\", package = \"methods\"), \n",
       "    defined = new(\"signature\", .Data = \"ANY\", names = \"fit\", \n",
       "        package = \"methods\"), generic = \"link\"))(fit, data, n, \n",
       "    ...)\n",
       "attr(,\"class\")\n",
       "[1] \"standardGeneric\"\n",
       "attr(,\"class\")attr(,\"package\")\n",
       "[1] \"methods\""
      ]
     },
     "metadata": {},
     "output_type": "display_data"
    }
   ],
   "source": [
    "link"
   ]
  },
  {
   "cell_type": "markdown",
   "metadata": {},
   "source": []
  },
  {
   "cell_type": "markdown",
   "metadata": {},
   "source": [
    "<font color = 'lightgrey'>And the values in mu.mean and mu.CI should be very similar (allowing for simulation variance) to what you got the automated way, using link. </font>\n",
    "\n",
    "Knowing this manual method is useful both for \n",
    "\n",
    "(1) understanding and \n",
    "\n",
    "(2) sheer power. \n",
    "\n",
    "Whatever the model you find yourself with, this approach can be used to generate posterior predictions for any component of it.\n",
    "\n",
    "Automated tools like link save effort, but they are never as flexible as the code you can write yourself."
   ]
  },
  {
   "cell_type": "code",
   "execution_count": 5,
   "metadata": {
    "ExecuteTime": {
     "end_time": "2020-03-08T18:39:32.205350Z",
     "start_time": "2020-03-08T18:39:32.097Z"
    },
    "code_folding": []
   },
   "outputs": [],
   "source": [
    "# alternate functional form\n",
    "post <- extract.samples(m4.3)\n",
    "mu.link <- function(weight) {\n",
    "    post$a + post$b*( weight - xbar ) # xbar <- mean(d2$weight)\n",
    "}\n",
    "weight.seq <- seq( from=25 , to=70 , by=1 )\n",
    "mu <- sapply( weight.seq , mu.link )\n",
    "mu.mean <- apply( mu , 2 , mean )\n",
    "mu.CI <- apply( mu , 2 , PI , prob=0.89 )"
   ]
  },
  {
   "cell_type": "code",
   "execution_count": 6,
   "metadata": {
    "ExecuteTime": {
     "end_time": "2020-03-08T18:39:33.380598Z",
     "start_time": "2020-03-08T18:39:33.323Z"
    }
   },
   "outputs": [
    {
     "data": {
      "text/html": [
       "<table>\n",
       "<caption>A matrix: 2 × 46 of type dbl</caption>\n",
       "<tbody>\n",
       "\t<tr><th scope=row>5%</th><td>135.1500</td><td>136.1138</td><td>137.0815</td><td>138.0484</td><td>139.0146</td><td>139.9788</td><td>140.9433</td><td>141.9064</td><td>142.8690</td><td>143.8311</td><td>...</td><td>167.9160</td><td>168.7587</td><td>169.6010</td><td>170.4413</td><td>171.2819</td><td>172.1177</td><td>172.9596</td><td>173.7982</td><td>174.6336</td><td>175.4741</td></tr>\n",
       "\t<tr><th scope=row>94%</th><td>137.9373</td><td>138.7741</td><td>139.6149</td><td>140.4535</td><td>141.2942</td><td>142.1359</td><td>142.9820</td><td>143.8205</td><td>144.6648</td><td>145.5177</td><td>...</td><td>170.2084</td><td>171.1655</td><td>172.1326</td><td>173.0964</td><td>174.0670</td><td>175.0326</td><td>175.9990</td><td>176.9616</td><td>177.9308</td><td>178.8975</td></tr>\n",
       "</tbody>\n",
       "</table>\n"
      ],
      "text/latex": [
       "A matrix: 2 × 46 of type dbl\n",
       "\\begin{tabular}{r|lllllllllllllllllllll}\n",
       "\t5\\% & 135.1500 & 136.1138 & 137.0815 & 138.0484 & 139.0146 & 139.9788 & 140.9433 & 141.9064 & 142.8690 & 143.8311 & ... & 167.9160 & 168.7587 & 169.6010 & 170.4413 & 171.2819 & 172.1177 & 172.9596 & 173.7982 & 174.6336 & 175.4741\\\\\n",
       "\t94\\% & 137.9373 & 138.7741 & 139.6149 & 140.4535 & 141.2942 & 142.1359 & 142.9820 & 143.8205 & 144.6648 & 145.5177 & ... & 170.2084 & 171.1655 & 172.1326 & 173.0964 & 174.0670 & 175.0326 & 175.9990 & 176.9616 & 177.9308 & 178.8975\\\\\n",
       "\\end{tabular}\n"
      ],
      "text/markdown": [
       "\n",
       "A matrix: 2 × 46 of type dbl\n",
       "\n",
       "| 5% | 135.1500 | 136.1138 | 137.0815 | 138.0484 | 139.0146 | 139.9788 | 140.9433 | 141.9064 | 142.8690 | 143.8311 | ... | 167.9160 | 168.7587 | 169.6010 | 170.4413 | 171.2819 | 172.1177 | 172.9596 | 173.7982 | 174.6336 | 175.4741 |\n",
       "| 94% | 137.9373 | 138.7741 | 139.6149 | 140.4535 | 141.2942 | 142.1359 | 142.9820 | 143.8205 | 144.6648 | 145.5177 | ... | 170.2084 | 171.1655 | 172.1326 | 173.0964 | 174.0670 | 175.0326 | 175.9990 | 176.9616 | 177.9308 | 178.8975 |\n",
       "\n"
      ],
      "text/plain": [
       "    [,1]     [,2]     [,3]     [,4]     [,5]     [,6]     [,7]     [,8]    \n",
       "5%  135.1500 136.1138 137.0815 138.0484 139.0146 139.9788 140.9433 141.9064\n",
       "94% 137.9373 138.7741 139.6149 140.4535 141.2942 142.1359 142.9820 143.8205\n",
       "    [,9]     [,10]    [,11] [,12]    [,13]    [,14]    [,15]    [,16]   \n",
       "5%  142.8690 143.8311 ...   167.9160 168.7587 169.6010 170.4413 171.2819\n",
       "94% 144.6648 145.5177 ...   170.2084 171.1655 172.1326 173.0964 174.0670\n",
       "    [,17]    [,18]    [,19]    [,20]    [,21]   \n",
       "5%  172.1177 172.9596 173.7982 174.6336 175.4741\n",
       "94% 175.0326 175.9990 176.9616 177.9308 178.8975"
      ]
     },
     "metadata": {},
     "output_type": "display_data"
    }
   ],
   "source": [
    "mu.CI %>% head"
   ]
  },
  {
   "cell_type": "code",
   "execution_count": 23,
   "metadata": {
    "ExecuteTime": {
     "end_time": "2020-01-19T09:49:39.805355Z",
     "start_time": "2020-01-19T09:49:39.571Z"
    }
   },
   "outputs": [
    {
     "name": "stdout",
     "output_type": "stream",
     "text": [
      "function (weight)  \n",
      " - attr(*, \"srcref\")= 'srcref' int [1:8] 1 12 1 61 12 61 1 1\n",
      "  ..- attr(*, \"srcfile\")=Classes 'srcfilecopy', 'srcfile' <environment: 0x0000000032ea59e0> \n"
     ]
    }
   ],
   "source": [
    "mu.link <- function(weight) post$a + post$b*( weight - xbar )\n",
    "\n",
    "mu.link %>% str"
   ]
  },
  {
   "cell_type": "code",
   "execution_count": null,
   "metadata": {},
   "outputs": [],
   "source": []
  },
  {
   "cell_type": "markdown",
   "metadata": {
    "heading_collapsed": true
   },
   "source": [
    "## <font color = 'green'>Overthinking: How SIM works</font>"
   ]
  },
  {
   "cell_type": "markdown",
   "metadata": {
    "hidden": true
   },
   "source": [
    "**Overthinking**: Rolling your own sim. \n",
    "\n",
    "For every distribution like <b>dnorm</b>, there is a <b>companion simulation function</b>. \n",
    "\n",
    "> <font color = 'green'>For the <b>Gaussian</b> distribution, the <b>companion is rnorm</b>, and it <b>(link) simulates sampling from a Gaussian distribution</b></font>. \n",
    "\n",
    "> What we want R to do is simulate a height for each set of samples, and to do this for each value of weight. \n",
    "\n",
    "The following will do it:\n",
    "\n",
    "R code 4.63"
   ]
  },
  {
   "cell_type": "code",
   "execution_count": 62,
   "metadata": {
    "ExecuteTime": {
     "end_time": "2020-02-13T02:12:13.632966Z",
     "start_time": "2020-02-13T02:12:13.580Z"
    },
    "code_folding": [],
    "collapsed": true,
    "hidden": true
   },
   "outputs": [
    {
     "ename": "ERROR",
     "evalue": "Error in extract.samples(m4.3): object 'm4.3' not found\n",
     "output_type": "error",
     "traceback": [
      "Error in extract.samples(m4.3): object 'm4.3' not found\nTraceback:\n",
      "1. extract.samples(m4.3)"
     ]
    }
   ],
   "source": [
    "# SIM under the hood\n",
    "post <- extract.samples(m4.3) \n",
    "weight.seq <- 25:70\n",
    "sim.height <- sapply( weight.seq , function(weight)\n",
    "    rnorm(\n",
    "        n=nrow(post) ,\n",
    "        mean=post$a + post$b*( weight - xbar ) ,\n",
    "        sd=post$sigma ) )\n",
    "height.PI <- apply( sim.height , 2 , PI , prob=0.89 )"
   ]
  },
  {
   "cell_type": "markdown",
   "metadata": {
    "hidden": true
   },
   "source": [
    "The values in height.PI will be practically identical to the ones computed in the main text and\n",
    "displayed in Figure 4.8."
   ]
  },
  {
   "cell_type": "markdown",
   "metadata": {
    "heading_collapsed": true
   },
   "source": [
    "## dnorm"
   ]
  },
  {
   "cell_type": "markdown",
   "metadata": {
    "hidden": true
   },
   "source": [
    "rnorm is the R function that simulates random variates having a specified normal distribution. As with pnorm , qnorm , and dnorm , optional arguments specify the mean and standard deviation of the distribution."
   ]
  },
  {
   "cell_type": "markdown",
   "metadata": {
    "hidden": true
   },
   "source": [
    "<font color = 'lightgrey'>dnorm gives the density, pnorm gives the distribution function, qnorm gives the quantile function, and rnorm generates random deviates.</font>\n",
    "\n",
    "<font color = 'lightgrey'>These functions provide information about the uniform distribution on the interval from min to max.  dunif gives the density, punif gives the distribution function qunif gives the quantile function and runif generates random deviates.</font>"
   ]
  },
  {
   "cell_type": "code",
   "execution_count": 41,
   "metadata": {
    "collapsed": true,
    "hidden": true
   },
   "outputs": [
    {
     "data": {
      "text/html": [
       "TRUE"
      ],
      "text/latex": [
       "TRUE"
      ],
      "text/markdown": [
       "TRUE"
      ],
      "text/plain": [
       "[1] TRUE"
      ]
     },
     "metadata": {},
     "output_type": "display_data"
    },
    {
     "data": {
      "text/html": [
       "TRUE"
      ],
      "text/latex": [
       "TRUE"
      ],
      "text/markdown": [
       "TRUE"
      ],
      "text/plain": [
       "[1] TRUE"
      ]
     },
     "metadata": {},
     "output_type": "display_data"
    },
    {
     "data": {
      "text/html": [
       "TRUE"
      ],
      "text/latex": [
       "TRUE"
      ],
      "text/markdown": [
       "TRUE"
      ],
      "text/plain": [
       "[1] TRUE"
      ]
     },
     "metadata": {},
     "output_type": "display_data"
    },
    {
     "data": {
      "image/png": "[encoded data removed]",
      "text/plain": [
       "Plot with title \"log { Normal Cumulative }\""
      ]
     },
     "metadata": {},
     "output_type": "display_data"
    }
   ],
   "source": [
    "require(graphics)\n",
    "\n",
    "dnorm(0) == 1/sqrt(2*pi)\n",
    "dnorm(1) == exp(-1/2)/sqrt(2*pi)\n",
    "dnorm(1) == 1/sqrt(2*pi*exp(1))\n",
    "\n",
    "## Using \"log = TRUE\" for an extended range :\n",
    "par(mfrow = c(2,1))\n",
    "plot(function(x) dnorm(x, log = TRUE), -60, 50,\n",
    "     main = \"log { Normal density }\")\n",
    "curve(log(dnorm(x)), add = TRUE, col = \"red\", lwd = 2)\n",
    "mtext(\"dnorm(x, log=TRUE)\", adj = 0)\n",
    "mtext(\"log(dnorm(x))\", col = \"red\", adj = 1)\n",
    "\n",
    "plot(function(x) pnorm(x, log.p = TRUE), -50, 10,\n",
    "     main = \"log { Normal Cumulative }\")\n",
    "curve(log(pnorm(x)), add = TRUE, col = \"red\", lwd = 2)\n",
    "mtext(\"pnorm(x, log=TRUE)\", adj = 0)\n",
    "mtext(\"log(pnorm(x))\", col = \"red\", adj = 1)"
   ]
  },
  {
   "cell_type": "markdown",
   "metadata": {},
   "source": [
    "## VOCAB"
   ]
  },
  {
   "cell_type": "markdown",
   "metadata": {},
   "source": [
    "In statistics, a <span style='background-color: lightyellow'>**power law**</span> is a functional relationship between two quantities, where a relative change in one quantity results in a proportional relative change in the other quantity, independent of the initial size of those quantities: one quantity varies as a power of another."
   ]
  },
  {
   "cell_type": "markdown",
   "metadata": {},
   "source": [
    "**quadratic approximation**. Under quite general conditions, the region near the peak of the posterior distribution will be nearly Gaussian—or “normal”—in shape. This means the posterior distribution can be usefully approximated by a Gaussian distribution. A Gaussian distribution is convenient, because it can be completely described by only two numbers: the location of its center (mean) and its spread (variance). \n",
    "\n",
    "* A Gaussian approximation is called “quadratic approximation” because the logarithm of a Gaussian distribution forms a parabola. And a parabola is a quadratic function. So this approximation essentially represents any log-posterior with a parabola."
   ]
  }
 ],
 "metadata": {
  "hide_input": false,
  "kernelspec": {
   "display_name": "R",
   "language": "R",
   "name": "ir"
  },
  "language_info": {
   "codemirror_mode": "r",
   "file_extension": ".r",
   "mimetype": "text/x-r-source",
   "name": "R",
   "pygments_lexer": "r",
   "version": "3.6.3"
  },
  "toc": {
   "base_numbering": 1,
   "nav_menu": {},
   "number_sections": true,
   "sideBar": true,
   "skip_h1_title": false,
   "title_cell": "Table of Contents",
   "title_sidebar": "Contents",
   "toc_cell": true,
   "toc_position": {
    "height": "calc(100% - 180px)",
    "left": "10px",
    "top": "150px",
    "width": "307.2px"
   },
   "toc_section_display": true,
   "toc_window_display": false
  },
  "varInspector": {
   "cols": {
    "lenName": 16,
    "lenType": 16,
    "lenVar": 40
   },
   "kernels_config": {
    "python": {
     "delete_cmd_postfix": "",
     "delete_cmd_prefix": "del ",
     "library": "var_list.py",
     "varRefreshCmd": "print(var_dic_list())"
    },
    "r": {
     "delete_cmd_postfix": ") ",
     "delete_cmd_prefix": "rm(",
     "library": "var_list.r",
     "varRefreshCmd": "cat(var_dic_list()) "
    }
   },
   "types_to_exclude": [
    "module",
    "function",
    "builtin_function_or_method",
    "instance",
    "_Feature"
   ],
   "window_display": false
  }
 },
 "nbformat": 4,
 "nbformat_minor": 2
}
