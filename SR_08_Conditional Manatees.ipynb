{
 "cells": [
  {
   "cell_type": "markdown",
   "metadata": {
    "toc": true
   },
   "source": [
    "<h1>Table of Contents<span class=\"tocSkip\"></span></h1>\n",
    "<div class=\"toc\"><ul class=\"toc-item\"><li><span><a href=\"#CH-8\" data-toc-modified-id=\"CH-8-1\"><span class=\"toc-item-num\">1&nbsp;&nbsp;</span>CH 8</a></span><ul class=\"toc-item\"><li><span><a href=\"#Building-an-interaction\" data-toc-modified-id=\"Building-an-interaction-1.1\"><span class=\"toc-item-num\">1.1&nbsp;&nbsp;</span>Building an interaction</a></span><ul class=\"toc-item\"><li><span><a href=\"#Making-two-models\" data-toc-modified-id=\"Making-two-models-1.1.1\"><span class=\"toc-item-num\">1.1.1&nbsp;&nbsp;</span>Making two models</a></span></li><li><span><a href=\"#Adding-an-indicator-variable-doesn’t-work\" data-toc-modified-id=\"Adding-an-indicator-variable-doesn’t-work-1.1.2\"><span class=\"toc-item-num\">1.1.2&nbsp;&nbsp;</span>Adding an indicator variable doesn’t work</a></span></li><li><span><a href=\"#Adding-an-interaction-does-work\" data-toc-modified-id=\"Adding-an-interaction-does-work-1.1.3\"><span class=\"toc-item-num\">1.1.3&nbsp;&nbsp;</span>Adding an interaction does work</a></span></li><li><span><a href=\"#Plotting-the-interaction\" data-toc-modified-id=\"Plotting-the-interaction-1.1.4\"><span class=\"toc-item-num\">1.1.4&nbsp;&nbsp;</span>Plotting the interaction</a></span></li></ul></li><li><span><a href=\"#Symmetry-of-interactions\" data-toc-modified-id=\"Symmetry-of-interactions-1.2\"><span class=\"toc-item-num\">1.2&nbsp;&nbsp;</span>Symmetry of interactions</a></span></li><li><span><a href=\"#Continuous-interactions\" data-toc-modified-id=\"Continuous-interactions-1.3\"><span class=\"toc-item-num\">1.3&nbsp;&nbsp;</span>Continuous interactions</a></span><ul class=\"toc-item\"><li><span><a href=\"#A-winter-flower\" data-toc-modified-id=\"A-winter-flower-1.3.1\"><span class=\"toc-item-num\">1.3.1&nbsp;&nbsp;</span>A winter flower</a></span></li><li><span><a href=\"#The-models\" data-toc-modified-id=\"The-models-1.3.2\"><span class=\"toc-item-num\">1.3.2&nbsp;&nbsp;</span>The models</a></span></li><li><span><a href=\"#Plotting-posterior-predictions\" data-toc-modified-id=\"Plotting-posterior-predictions-1.3.3\"><span class=\"toc-item-num\">1.3.3&nbsp;&nbsp;</span>Plotting posterior predictions</a></span></li><li><span><a href=\"#Plotting-prior-predictions\" data-toc-modified-id=\"Plotting-prior-predictions-1.3.4\"><span class=\"toc-item-num\">1.3.4&nbsp;&nbsp;</span>Plotting prior predictions</a></span></li></ul></li></ul></li><li><span><a href=\"#Practice-Problems\" data-toc-modified-id=\"Practice-Problems-2\"><span class=\"toc-item-num\">2&nbsp;&nbsp;</span>Practice Problems</a></span></li><li><span><a href=\"#Homework-2019\" data-toc-modified-id=\"Homework-2019-3\"><span class=\"toc-item-num\">3&nbsp;&nbsp;</span>Homework 2019</a></span></li></ul></div>"
   ]
  },
  {
   "cell_type": "code",
   "execution_count": 3,
   "metadata": {},
   "outputs": [
    {
     "name": "stderr",
     "output_type": "stream",
     "text": [
      "-- Attaching packages --------------------------------------- tidyverse 1.2.1 --\n",
      "v tibble  2.0.1       v purrr   0.3.0  \n",
      "v tidyr   0.8.2       v dplyr   0.8.0.1\n",
      "v readr   1.3.1       v stringr 1.4.0  \n",
      "v tibble  2.0.1       v forcats 0.4.0  \n",
      "Warning message:\n",
      "\"package 'tibble' was built under R version 3.5.2\"Warning message:\n",
      "\"package 'readr' was built under R version 3.5.2\"Warning message:\n",
      "\"package 'purrr' was built under R version 3.5.2\"Warning message:\n",
      "\"package 'dplyr' was built under R version 3.5.2\"Warning message:\n",
      "\"package 'stringr' was built under R version 3.5.2\"Warning message:\n",
      "\"package 'forcats' was built under R version 3.5.2\"-- Conflicts ------------------------------------------ tidyverse_conflicts() --\n",
      "x tidyr::extract() masks rstan::extract()\n",
      "x dplyr::filter()  masks stats::filter()\n",
      "x dplyr::lag()     masks stats::lag()\n",
      "x purrr::map()     masks rethinking::map()\n"
     ]
    }
   ],
   "source": [
    "library(tidyverse)\n",
    "\n",
    "# loads experimental branch of statistical rethinking pkg\n",
    "library(rethinking, lib = \"C:/Users/bings/Documents/R/test-library\")"
   ]
  },
  {
   "cell_type": "markdown",
   "metadata": {},
   "source": [
    "# CH 8"
   ]
  },
  {
   "cell_type": "markdown",
   "metadata": {},
   "source": [
    "## Building an interaction"
   ]
  },
  {
   "cell_type": "code",
   "execution_count": 2,
   "metadata": {},
   "outputs": [
    {
     "data": {
      "text/html": [
       "<table>\n",
       "<thead><tr><th scope=col>isocode</th><th scope=col>isonum</th><th scope=col>country</th><th scope=col>rugged</th><th scope=col>rugged_popw</th><th scope=col>rugged_slope</th><th scope=col>rugged_lsd</th><th scope=col>rugged_pc</th><th scope=col>land_area</th><th scope=col>lat</th><th scope=col>...</th><th scope=col>africa_region_w</th><th scope=col>africa_region_e</th><th scope=col>africa_region_c</th><th scope=col>slave_exports</th><th scope=col>dist_slavemkt_atlantic</th><th scope=col>dist_slavemkt_indian</th><th scope=col>dist_slavemkt_saharan</th><th scope=col>dist_slavemkt_redsea</th><th scope=col>pop_1400</th><th scope=col>european_descent</th></tr></thead>\n",
       "<tbody>\n",
       "\t<tr><td>ABW        </td><td>533        </td><td>Aruba      </td><td>0.462      </td><td>0.380      </td><td> 1.226     </td><td>0.144      </td><td> 0.000     </td><td>    18     </td><td> 12.508    </td><td>...        </td><td>0          </td><td>0          </td><td>0          </td><td>      0    </td><td>   NA      </td><td>   NA      </td><td>   NA      </td><td>   NA      </td><td>    614    </td><td> NA        </td></tr>\n",
       "\t<tr><td>AFG        </td><td>  4        </td><td>Afghanistan</td><td>2.518      </td><td>1.469      </td><td> 7.414     </td><td>0.720      </td><td>39.004     </td><td> 65209     </td><td> 33.833    </td><td>...        </td><td>0          </td><td>0          </td><td>0          </td><td>      0    </td><td>   NA      </td><td>   NA      </td><td>   NA      </td><td>   NA      </td><td>1870829    </td><td>  0        </td></tr>\n",
       "\t<tr><td>AGO        </td><td> 24        </td><td>Angola     </td><td>0.858      </td><td>0.714      </td><td> 2.274     </td><td>0.228      </td><td> 4.906     </td><td>124670     </td><td>-12.299    </td><td>...        </td><td>0          </td><td>0          </td><td>1          </td><td>3610000    </td><td>5.669      </td><td>6.981      </td><td>4.926      </td><td>3.872      </td><td>1223208    </td><td>  2        </td></tr>\n",
       "\t<tr><td>AIA        </td><td>660        </td><td>Anguilla   </td><td>0.013      </td><td>0.010      </td><td> 0.026     </td><td>0.006      </td><td> 0.000     </td><td>     9     </td><td> 18.231    </td><td>...        </td><td>0          </td><td>0          </td><td>0          </td><td>      0    </td><td>   NA      </td><td>   NA      </td><td>   NA      </td><td>   NA      </td><td>     NA    </td><td> NA        </td></tr>\n",
       "\t<tr><td>ALB        </td><td>  8        </td><td>Albania    </td><td>3.427      </td><td>1.597      </td><td>10.451     </td><td>1.006      </td><td>62.133     </td><td>  2740     </td><td> 41.143    </td><td>...        </td><td>0          </td><td>0          </td><td>0          </td><td>      0    </td><td>   NA      </td><td>   NA      </td><td>   NA      </td><td>   NA      </td><td> 200000    </td><td>100        </td></tr>\n",
       "\t<tr><td>AND        </td><td> 20        </td><td>Andorra    </td><td>5.717      </td><td>6.722      </td><td>17.774     </td><td>1.616      </td><td>99.064     </td><td>    47     </td><td> 42.551    </td><td>...        </td><td>0          </td><td>0          </td><td>0          </td><td>      0    </td><td>   NA      </td><td>   NA      </td><td>   NA      </td><td>   NA      </td><td>     NA    </td><td> NA        </td></tr>\n",
       "</tbody>\n",
       "</table>\n"
      ],
      "text/latex": [
       "\\begin{tabular}{r|lllllllllllllllllllllllllllllllllllllllllllllllllll}\n",
       " isocode & isonum & country & rugged & rugged\\_popw & rugged\\_slope & rugged\\_lsd & rugged\\_pc & land\\_area & lat & ... & africa\\_region\\_w & africa\\_region\\_e & africa\\_region\\_c & slave\\_exports & dist\\_slavemkt\\_atlantic & dist\\_slavemkt\\_indian & dist\\_slavemkt\\_saharan & dist\\_slavemkt\\_redsea & pop\\_1400 & european\\_descent\\\\\n",
       "\\hline\n",
       "\t ABW         & 533         & Aruba       & 0.462       & 0.380       &  1.226      & 0.144       &  0.000      &     18      &  12.508     & ...         & 0           & 0           & 0           &       0     &    NA       &    NA       &    NA       &    NA       &     614     &  NA        \\\\\n",
       "\t AFG         &   4         & Afghanistan & 2.518       & 1.469       &  7.414      & 0.720       & 39.004      &  65209      &  33.833     & ...         & 0           & 0           & 0           &       0     &    NA       &    NA       &    NA       &    NA       & 1870829     &   0        \\\\\n",
       "\t AGO         &  24         & Angola      & 0.858       & 0.714       &  2.274      & 0.228       &  4.906      & 124670      & -12.299     & ...         & 0           & 0           & 1           & 3610000     & 5.669       & 6.981       & 4.926       & 3.872       & 1223208     &   2        \\\\\n",
       "\t AIA         & 660         & Anguilla    & 0.013       & 0.010       &  0.026      & 0.006       &  0.000      &      9      &  18.231     & ...         & 0           & 0           & 0           &       0     &    NA       &    NA       &    NA       &    NA       &      NA     &  NA        \\\\\n",
       "\t ALB         &   8         & Albania     & 3.427       & 1.597       & 10.451      & 1.006       & 62.133      &   2740      &  41.143     & ...         & 0           & 0           & 0           &       0     &    NA       &    NA       &    NA       &    NA       &  200000     & 100        \\\\\n",
       "\t AND         &  20         & Andorra     & 5.717       & 6.722       & 17.774      & 1.616       & 99.064      &     47      &  42.551     & ...         & 0           & 0           & 0           &       0     &    NA       &    NA       &    NA       &    NA       &      NA     &  NA        \\\\\n",
       "\\end{tabular}\n"
      ],
      "text/markdown": [
       "\n",
       "| isocode | isonum | country | rugged | rugged_popw | rugged_slope | rugged_lsd | rugged_pc | land_area | lat | ... | africa_region_w | africa_region_e | africa_region_c | slave_exports | dist_slavemkt_atlantic | dist_slavemkt_indian | dist_slavemkt_saharan | dist_slavemkt_redsea | pop_1400 | european_descent |\n",
       "|---|---|---|---|---|---|---|---|---|---|---|---|---|---|---|---|---|---|---|---|---|\n",
       "| ABW         | 533         | Aruba       | 0.462       | 0.380       |  1.226      | 0.144       |  0.000      |     18      |  12.508     | ...         | 0           | 0           | 0           |       0     |    NA       |    NA       |    NA       |    NA       |     614     |  NA         |\n",
       "| AFG         |   4         | Afghanistan | 2.518       | 1.469       |  7.414      | 0.720       | 39.004      |  65209      |  33.833     | ...         | 0           | 0           | 0           |       0     |    NA       |    NA       |    NA       |    NA       | 1870829     |   0         |\n",
       "| AGO         |  24         | Angola      | 0.858       | 0.714       |  2.274      | 0.228       |  4.906      | 124670      | -12.299     | ...         | 0           | 0           | 1           | 3610000     | 5.669       | 6.981       | 4.926       | 3.872       | 1223208     |   2         |\n",
       "| AIA         | 660         | Anguilla    | 0.013       | 0.010       |  0.026      | 0.006       |  0.000      |      9      |  18.231     | ...         | 0           | 0           | 0           |       0     |    NA       |    NA       |    NA       |    NA       |      NA     |  NA         |\n",
       "| ALB         |   8         | Albania     | 3.427       | 1.597       | 10.451      | 1.006       | 62.133      |   2740      |  41.143     | ...         | 0           | 0           | 0           |       0     |    NA       |    NA       |    NA       |    NA       |  200000     | 100         |\n",
       "| AND         |  20         | Andorra     | 5.717       | 6.722       | 17.774      | 1.616       | 99.064      |     47      |  42.551     | ...         | 0           | 0           | 0           |       0     |    NA       |    NA       |    NA       |    NA       |      NA     |  NA         |\n",
       "\n"
      ],
      "text/plain": [
       "  isocode isonum country     rugged rugged_popw rugged_slope rugged_lsd\n",
       "1 ABW     533    Aruba       0.462  0.380        1.226       0.144     \n",
       "2 AFG       4    Afghanistan 2.518  1.469        7.414       0.720     \n",
       "3 AGO      24    Angola      0.858  0.714        2.274       0.228     \n",
       "4 AIA     660    Anguilla    0.013  0.010        0.026       0.006     \n",
       "5 ALB       8    Albania     3.427  1.597       10.451       1.006     \n",
       "6 AND      20    Andorra     5.717  6.722       17.774       1.616     \n",
       "  rugged_pc land_area lat     ... africa_region_w africa_region_e\n",
       "1  0.000        18     12.508 ... 0               0              \n",
       "2 39.004     65209     33.833 ... 0               0              \n",
       "3  4.906    124670    -12.299 ... 0               0              \n",
       "4  0.000         9     18.231 ... 0               0              \n",
       "5 62.133      2740     41.143 ... 0               0              \n",
       "6 99.064        47     42.551 ... 0               0              \n",
       "  africa_region_c slave_exports dist_slavemkt_atlantic dist_slavemkt_indian\n",
       "1 0                     0          NA                     NA               \n",
       "2 0                     0          NA                     NA               \n",
       "3 1               3610000       5.669                  6.981               \n",
       "4 0                     0          NA                     NA               \n",
       "5 0                     0          NA                     NA               \n",
       "6 0                     0          NA                     NA               \n",
       "  dist_slavemkt_saharan dist_slavemkt_redsea pop_1400 european_descent\n",
       "1    NA                    NA                    614   NA             \n",
       "2    NA                    NA                1870829    0             \n",
       "3 4.926                 3.872                1223208    2             \n",
       "4    NA                    NA                     NA   NA             \n",
       "5    NA                    NA                 200000  100             \n",
       "6    NA                    NA                     NA   NA             "
      ]
     },
     "metadata": {},
     "output_type": "display_data"
    }
   ],
   "source": [
    "## R code 8.1\n",
    "# library(rethinking)\n",
    "data(rugged)\n",
    "d <- rugged\n",
    "d %>% head"
   ]
  },
  {
   "cell_type": "markdown",
   "metadata": {},
   "source": [
    "### Making two models"
   ]
  },
  {
   "cell_type": "code",
   "execution_count": 3,
   "metadata": {},
   "outputs": [],
   "source": [
    "# make log version of outcome\n",
    "d$log_gdp <- log( d$rgdppc_2000 )\n",
    "\n",
    "# extract countries with GDP data\n",
    "dd <- d[ complete.cases(d$rgdppc_2000) , ]\n",
    "\n",
    "# rescale variables\n",
    "dd$log_gdp_std <- dd$log_gdp / mean(dd$log_gdp)\n",
    "dd$rugged_std <- dd$rugged / max(dd$rugged)\n",
    "\n",
    "# split countries into Africa and not-Africa\n",
    "d.A1 <- dd[ dd$cont_africa==1 , ] # Africa\n",
    "d.A0 <- dd[ dd$cont_africa==0 , ] # not Africa"
   ]
  },
  {
   "cell_type": "code",
   "execution_count": 4,
   "metadata": {},
   "outputs": [],
   "source": [
    "## R code 8.2\n",
    "m8.1 <- quap(\n",
    "    alist(\n",
    "        log_gdp_std ~ dnorm( mu , sigma ) ,\n",
    "        mu <- a + b*( rugged_std - 0.215 ) ,\n",
    "        a ~ dnorm( 1 , 1 ) ,\n",
    "        b ~ dnorm( 0 , 1 ) ,\n",
    "        sigma ~ dexp( 1 )\n",
    "    ) , data=d.A1 )\n"
   ]
  },
  {
   "cell_type": "code",
   "execution_count": 6,
   "metadata": {},
   "outputs": [
    {
     "ename": "ERROR",
     "evalue": "Error in png(tf, width, height, \"in\", pointsize, bg, res, antialias = antialias): unable to start png() device\n",
     "output_type": "error",
     "traceback": [
      "Error in png(tf, width, height, \"in\", pointsize, bg, res, antialias = antialias): unable to start png() device\nTraceback:\n"
     ]
    },
    {
     "data": {
      "text/plain": [
       "plot without title"
      ]
     },
     "metadata": {},
     "output_type": "display_data"
    }
   ],
   "source": [
    "## R code 8.3\n",
    "set.seed(7)\n",
    "prior <- extract.prior( m8.1 )\n",
    "\n",
    "# set up the plot dimensions\n",
    "plot( NULL , xlim=c(0,1) , ylim=c(0.5,1.5) ,\n",
    "    xlab=\"ruggedness\" , ylab=\"log GDP\" )\n",
    "abline( h=min(dd$log_gdp_std) , lty=2 )\n",
    "abline( h=max(dd$log_gdp_std) , lty=2 )\n",
    "\n",
    "# draw 50 lines from the prior\n",
    "rugged_seq <- seq( from=-0.1 , to=1.1 , length.out=30 )\n",
    "mu <- link( m8.1 , post=prior , data=data.frame(rugged_std=rugged_seq) )\n",
    "for ( i in 1:50 ) lines( rugged_seq , mu[i,] , col=col.alpha(\"black\",0.3) )\n",
    "\n",
    "options(repr.plot.width=4.5, repr.plot.height=5)"
   ]
  },
  {
   "cell_type": "code",
   "execution_count": null,
   "metadata": {},
   "outputs": [],
   "source": [
    "## R code 8.5\n",
    "m8.1 <- quap(\n",
    "    alist(\n",
    "        log_gdp_std ~ dnorm( mu , sigma ) ,\n",
    "        mu <- a + b*( rugged_std - 0.215 ) ,\n",
    "        a ~ dnorm( 1 , 0.1 ) ,\n",
    "        b ~ dnorm( 0 , 0.3 ) ,\n",
    "        sigma ~ dexp(1)\n",
    "    ) , data=d.A1 )\n"
   ]
  },
  {
   "cell_type": "code",
   "execution_count": null,
   "metadata": {},
   "outputs": [],
   "source": [
    "## R code 8.3 \n",
    "set.seed(7)\n",
    "prior <- extract.prior( m8.1 )\n",
    "\n",
    "# set up the plot dimensions\n",
    "plot( NULL , xlim=c(0,1) , ylim=c(0.5,1.5) ,\n",
    "    xlab=\"ruggedness\" , ylab=\"log GDP\" )\n",
    "abline( h=min(dd$log_gdp_std) , lty=2 )\n",
    "abline( h=max(dd$log_gdp_std) , lty=2 )\n",
    "\n",
    "# draw 50 lines from the prior\n",
    "rugged_seq <- seq( from=-0.1 , to=1.1 , length.out=30 )\n",
    "mu <- link( m8.1 , post=prior , data=data.frame(rugged_std=rugged_seq) )\n",
    "for ( i in 1:50 ) lines( rugged_seq , mu[i,] , col=col.alpha(\"black\",0.3) )\n",
    "\n",
    "options(repr.plot.width=4.5, repr.plot.height=5)"
   ]
  },
  {
   "cell_type": "code",
   "execution_count": null,
   "metadata": {},
   "outputs": [],
   "source": [
    "## R code 8.6\n",
    "# Non-African nations\n",
    "m8.2 <- quap(\n",
    "    alist(\n",
    "        log_gdp_std ~ dnorm( mu , sigma ) ,\n",
    "        mu <- a + b*( rugged_std - 0.215 ) ,\n",
    "        a ~ dnorm( 1 , 0.1 ) ,\n",
    "        b ~ dnorm( 0 , 0.25 ) ,\n",
    "        sigma ~ dexp(1)\n",
    "    ) ,\n",
    "    data=d.A0 )\n"
   ]
  },
  {
   "cell_type": "markdown",
   "metadata": {},
   "source": [
    "### Adding an indicator variable doesn’t work"
   ]
  },
  {
   "cell_type": "code",
   "execution_count": null,
   "metadata": {},
   "outputs": [],
   "source": [
    "## R code 8.7\n",
    "m8.3 <- quap(\n",
    "    alist(\n",
    "        log_gdp_std ~ dnorm( mu , sigma ) ,\n",
    "        mu <- a + b*( rugged_std - 0.215 ) ,\n",
    "        a ~ dnorm( 1 , 0.1 ) ,\n",
    "        b ~ dnorm( 0 , 0.3 ) ,\n",
    "        sigma ~ dexp( 1 )\n",
    "    ) ,\n",
    "    data=dd )\n"
   ]
  },
  {
   "cell_type": "code",
   "execution_count": null,
   "metadata": {},
   "outputs": [],
   "source": [
    "## R code 8.8\n",
    "# make variable to index Africa (1) or not (2)\n",
    "dd$cid <- ifelse( dd$cont_africa==1 , 1 , 2 )"
   ]
  },
  {
   "cell_type": "code",
   "execution_count": null,
   "metadata": {},
   "outputs": [],
   "source": [
    "## R code 8.9\n",
    "m8.4 <- quap(\n",
    "    alist(\n",
    "        log_gdp_std ~ dnorm( mu , sigma ) ,\n",
    "        mu <- a[cid] + b*( rugged_std - 0.215 ) ,\n",
    "        a[cid] ~ dnorm( 1 , 0.1 ) ,\n",
    "        b ~ dnorm( 0 , 0.3 ) ,\n",
    "        sigma ~ dexp( 1 )\n",
    "    ) ,\n",
    "    data=dd )\n"
   ]
  },
  {
   "cell_type": "code",
   "execution_count": null,
   "metadata": {},
   "outputs": [],
   "source": [
    "## R code 8.10\n",
    "compare( m8.3 , m8.4 ) %>% round(2)"
   ]
  },
  {
   "cell_type": "code",
   "execution_count": null,
   "metadata": {},
   "outputs": [],
   "source": [
    "precis( m8.4 , depth=2 ) %>% round(2)"
   ]
  },
  {
   "cell_type": "code",
   "execution_count": null,
   "metadata": {},
   "outputs": [],
   "source": [
    "\n",
    "## R code 8.12\n",
    "rugged.seq <- seq( from=-0.1 , to=1.1 , length.out=30 )\n",
    "\n",
    "# compute mu over samples, fixing cid=2\n",
    "mu.NotAfrica <- link( m8.4 ,\n",
    "    data=data.frame( cid=2 , rugged_std=rugged.seq ) )\n",
    "\n",
    "# compute mu over samples, fixing cid=1\n",
    "mu.Africa <- link( m8.4 ,\n",
    "    data=data.frame( cid=1 , rugged_std=rugged.seq ) )\n",
    "\n",
    "# summarize to means and intervals\n",
    "mu.NotAfrica_mu <- apply( mu.NotAfrica , 2 , mean )\n",
    "mu.NotAfrica_ci <- apply( mu.NotAfrica , 2 , PI , prob=0.97 )\n",
    "mu.Africa_mu <- apply( mu.Africa , 2 , mean )\n",
    "mu.Africa_ci <- apply( mu.Africa , 2 , PI , prob=0.97 )\n"
   ]
  },
  {
   "cell_type": "markdown",
   "metadata": {},
   "source": [
    "### Adding an interaction does work"
   ]
  },
  {
   "cell_type": "code",
   "execution_count": null,
   "metadata": {},
   "outputs": [],
   "source": [
    "## R code 8.13\n",
    "m8.5 <- quap(\n",
    "    alist(\n",
    "        log_gdp_std ~ dnorm( mu , sigma ) ,\n",
    "        mu <- a[cid] + b[cid]*( rugged_std - 0.215 ) ,\n",
    "        a[cid] ~ dnorm( 1 , 0.1 ) ,\n",
    "        b[cid] ~ dnorm( 0 , 0.3 ) ,\n",
    "        sigma ~ dexp( 1 )\n",
    "    ) ,\n",
    "    data=dd )"
   ]
  },
  {
   "cell_type": "code",
   "execution_count": null,
   "metadata": {},
   "outputs": [],
   "source": [
    "precis( m8.5 , depth=2 ) %>% round(2)"
   ]
  },
  {
   "cell_type": "markdown",
   "metadata": {},
   "source": [
    "How much does allowing the slope to vary improve expected prediction? Let’s use WAIC\n",
    "to compare this new model to the previous two. You could use LOO here as well. It’ll give\n",
    "almost identical results."
   ]
  },
  {
   "cell_type": "code",
   "execution_count": null,
   "metadata": {},
   "outputs": [],
   "source": [
    "compare( m8.3 , m8.4 , m8.5 ) %>% round(2)"
   ]
  },
  {
   "cell_type": "code",
   "execution_count": null,
   "metadata": {},
   "outputs": [],
   "source": [
    "waic_list <- WAIC( m8.5 , pointwise=TRUE ) "
   ]
  },
  {
   "cell_type": "code",
   "execution_count": 43,
   "metadata": {
    "scrolled": true
   },
   "outputs": [
    {
     "data": {
      "image/png": "[encoded data removed]",
      "text/plain": [
       "plot without title"
      ]
     },
     "metadata": {},
     "output_type": "display_data"
    }
   ],
   "source": [
    "waic_list %>% plot"
   ]
  },
  {
   "cell_type": "markdown",
   "metadata": {},
   "source": [
    "### Plotting the interaction"
   ]
  },
  {
   "cell_type": "code",
   "execution_count": 45,
   "metadata": {},
   "outputs": [
    {
     "data": {
      "image/png": "[encoded data removed]",
      "text/plain": [
       "plot without title"
      ]
     },
     "metadata": {},
     "output_type": "display_data"
    },
    {
     "data": {
      "image/png": "[encoded data removed]",
      "text/plain": [
       "plot without title"
      ]
     },
     "metadata": {},
     "output_type": "display_data"
    }
   ],
   "source": [
    "## R code 8.17\n",
    "# plot Africa - cid=1\n",
    "plot( d.A1$rugged_std , d.A1$log_gdp_std , pch=16 , col=rangi2 ,\n",
    "    xlab=\"ruggedness (standardized)\" , ylab=\"log GDP (as proportion of mean)\" ,\n",
    "    xlim=c(0,1) )\n",
    "mu <- link( m8.5 , data=data.frame( cid=1 , rugged_std=rugged_seq ) )\n",
    "mu_mean <- apply( mu , 2 , mean )\n",
    "mu_ci <- apply( mu , 2 , PI , prob=0.97 )\n",
    "lines( rugged_seq , mu_mean , lwd=2 )\n",
    "shade( mu_ci , rugged_seq , col=col.alpha(rangi2,0.3) )\n",
    "mtext(\"African nations\")\n",
    "\n",
    "# plot non-Africa - cid=2\n",
    "plot( d.A0$rugged_std , d.A0$log_gdp_std , pch=1 , col=\"black\" ,\n",
    "    xlab=\"ruggedness (standardized)\" , ylab=\"log GDP (as proportion of mean)\" ,\n",
    "    xlim=c(0,1) )\n",
    "mu <- link( m8.5 , data=data.frame( cid=2 , rugged_std=rugged_seq ) )\n",
    "mu_mean <- apply( mu , 2 , mean )\n",
    "mu_ci <- apply( mu , 2 , PI , prob=0.97 )\n",
    "lines( rugged_seq , mu_mean , lwd=2 )\n",
    "shade( mu_ci , rugged_seq )\n",
    "mtext(\"Non-African nations\")\n"
   ]
  },
  {
   "cell_type": "markdown",
   "metadata": {},
   "source": [
    "## Symmetry of interactions"
   ]
  },
  {
   "cell_type": "markdown",
   "metadata": {},
   "source": [
    "## Continuous interactions"
   ]
  },
  {
   "cell_type": "markdown",
   "metadata": {},
   "source": [
    "### A winter flower"
   ]
  },
  {
   "cell_type": "markdown",
   "metadata": {},
   "source": [
    "### The models"
   ]
  },
  {
   "cell_type": "code",
   "execution_count": 47,
   "metadata": {},
   "outputs": [
    {
     "name": "stdout",
     "output_type": "stream",
     "text": [
      "'data.frame':\t27 obs. of  4 variables:\n",
      " $ bed   : Factor w/ 3 levels \"a\",\"b\",\"c\": 1 1 1 1 1 1 1 1 1 2 ...\n",
      " $ water : int  1 1 1 2 2 2 3 3 3 1 ...\n",
      " $ shade : int  1 2 3 1 2 3 1 2 3 1 ...\n",
      " $ blooms: num  0 0 111 183.5 59.2 ...\n"
     ]
    }
   ],
   "source": [
    "## R code 8.19\n",
    "library(rethinking)\n",
    "data(tulips)\n",
    "d <- tulips\n",
    "str(d)"
   ]
  },
  {
   "cell_type": "code",
   "execution_count": 50,
   "metadata": {},
   "outputs": [],
   "source": [
    "\n",
    "## R code 8.20\n",
    "d$blooms_std <- d$blooms / max(d$blooms)\n",
    "d$water_cent <- d$water - mean(d$water)\n",
    "d$shade_cent <- d$shade - mean(d$shade)\n"
   ]
  },
  {
   "cell_type": "code",
   "execution_count": 55,
   "metadata": {},
   "outputs": [
    {
     "data": {
      "text/html": [
       "0.6194"
      ],
      "text/latex": [
       "0.6194"
      ],
      "text/markdown": [
       "0.6194"
      ],
      "text/plain": [
       "[1] 0.6194"
      ]
     },
     "metadata": {},
     "output_type": "display_data"
    },
    {
     "data": {
      "text/html": [
       "0.0438"
      ],
      "text/latex": [
       "0.0438"
      ],
      "text/markdown": [
       "0.0438"
      ],
      "text/plain": [
       "[1] 0.0438"
      ]
     },
     "metadata": {},
     "output_type": "display_data"
    }
   ],
   "source": [
    "## R code 8.21\n",
    "a <- rnorm( 1e4 , 0.5 , 1 )\n",
    "sum( a < 0 | a > 1 ) / length( a )\n",
    "\n",
    "## R code 8.22\n",
    "a <- rnorm( 1e4 , 0.5 , 0.25 )\n",
    "sum( a < 0 | a > 1 ) / length( a )"
   ]
  },
  {
   "cell_type": "code",
   "execution_count": 52,
   "metadata": {},
   "outputs": [],
   "source": [
    "## R code 8.23\n",
    "m8.6 <- quap(\n",
    "    alist(\n",
    "        blooms_std ~ dnorm( mu , sigma ) ,\n",
    "        mu <- a + bw*water_cent + bs*shade_cent ,\n",
    "        a ~ dnorm( 0.5 , 0.25 ) ,\n",
    "        bw ~ dnorm( 0 , 0.25 ) ,\n",
    "        bs ~ dnorm( 0 , 0.25 ) ,\n",
    "        sigma ~ dexp( 1 )\n",
    "    ) ,\n",
    "    data=d )\n"
   ]
  },
  {
   "cell_type": "code",
   "execution_count": 56,
   "metadata": {},
   "outputs": [],
   "source": [
    "\n",
    "## R code 8.24\n",
    "m8.7 <- quap(\n",
    "    alist(\n",
    "        blooms_std ~ dnorm( mu , sigma ) ,\n",
    "        mu <- a + bw*water_cent + bs*shade_cent + bws*water_cent*shade_cent ,\n",
    "        a ~ dnorm( 0.5 , 0.25 ) ,\n",
    "        bw ~ dnorm( 0 , 0.25 ) ,\n",
    "        bs ~ dnorm( 0 , 0.25 ) ,\n",
    "        bws ~ dnorm( 0 , 0.25 ) ,\n",
    "        sigma ~ dexp( 1 )\n",
    "    ) ,\n",
    "    data=d )\n"
   ]
  },
  {
   "cell_type": "markdown",
   "metadata": {},
   "source": [
    "### Plotting posterior predictions"
   ]
  },
  {
   "cell_type": "code",
   "execution_count": 66,
   "metadata": {},
   "outputs": [
    {
     "data": {
      "image/png": "[encoded data removed]",
      "text/plain": [
       "plot without title"
      ]
     },
     "metadata": {},
     "output_type": "display_data"
    }
   ],
   "source": [
    "## R code 8.25\n",
    "par(mfrow=c(1,3)) # 3 plots in 1 row\n",
    "for ( s in -1:1 ) {\n",
    "    idx <- which( d$shade_cent==s )\n",
    "    plot( d$water_cent[idx] , d$blooms_std[idx] , xlim=c(-1,1) , ylim=c(0,1) ,\n",
    "        xlab=\"water\" , ylab=\"blooms\" , pch=16 , col=rangi2 )\n",
    "    mu <- link( m8.6 , data=data.frame( shade_cent=s , water_cent=-1:1 ) )\n",
    "    for ( i in 1:20 ) lines( -1:1 , mu[i,] , col=col.alpha(\"black\",0.3) )\n",
    "}\n",
    "options(repr.plot.width=8, repr.plot.height=4)"
   ]
  },
  {
   "cell_type": "code",
   "execution_count": 68,
   "metadata": {},
   "outputs": [
    {
     "data": {
      "image/png": "[encoded data removed]",
      "text/plain": [
       "plot without title"
      ]
     },
     "metadata": {},
     "output_type": "display_data"
    }
   ],
   "source": [
    "## R code 8.25\n",
    "par(mfrow=c(1,3)) # 3 plots in 1 row\n",
    "for ( s in -1:1 ) {\n",
    "    idx <- which( d$shade_cent==s )\n",
    "    plot( d$water_cent[idx] , d$blooms_std[idx] , xlim=c(-1,1) , ylim=c(0,1) ,\n",
    "        xlab=\"water\" , ylab=\"blooms\" , pch=16 , col=rangi2 )\n",
    "    mu <- link( m8.7 , data=data.frame( shade_cent=s , water_cent=-1:1 ) )\n",
    "    for ( i in 1:20 ) lines( -1:1 , mu[i,] , col=col.alpha(\"black\",0.3) )\n",
    "}\n",
    "options(repr.plot.width=8, repr.plot.height=4)"
   ]
  },
  {
   "cell_type": "markdown",
   "metadata": {},
   "source": [
    "### Plotting prior predictions"
   ]
  },
  {
   "cell_type": "code",
   "execution_count": 77,
   "metadata": {},
   "outputs": [
    {
     "data": {
      "image/png": "[encoded data removed]",
      "text/plain": [
       "plot without title"
      ]
     },
     "metadata": {},
     "output_type": "display_data"
    }
   ],
   "source": [
    "## R code 8.26\n",
    "set.seed(7)\n",
    "prior <- extract.prior(m8.6)\n",
    "\n",
    "\n",
    "## R code 8.25\n",
    "par(mfrow=c(1,3)) # 3 plots in 1 row\n",
    "for ( s in -1:1 ) {\n",
    "    idx <- which( d$shade_cent==s )\n",
    "    plot( d$water_cent[idx] , d$blooms_std[idx] , xlim=c(-1,1) , ylim=c(-1,2) ,\n",
    "        xlab=\"water\" , ylab=\"blooms\" , pch=16 , col=rangi2 )\n",
    "    mu <- link( m8.6 , data=data.frame( shade_cent=s , water_cent=-1:1 ), post=prior )\n",
    "    for ( i in 1:20 ) lines( -1:1 , mu[i,] , col=col.alpha(\"black\",0.3) )\n",
    "}\n",
    "options(repr.plot.width=8, repr.plot.height=4)"
   ]
  },
  {
   "cell_type": "code",
   "execution_count": 79,
   "metadata": {
    "scrolled": true
   },
   "outputs": [
    {
     "data": {
      "image/png": "[encoded data removed]",
      "text/plain": [
       "plot without title"
      ]
     },
     "metadata": {},
     "output_type": "display_data"
    }
   ],
   "source": [
    "## R code 8.26\n",
    "set.seed(7)\n",
    "prior <- extract.prior(m8.7)\n",
    "\n",
    "\n",
    "## R code 8.25\n",
    "par(mfrow=c(1,3)) # 3 plots in 1 row\n",
    "for ( s in -1:1 ) {\n",
    "    idx <- which( d$shade_cent==s )\n",
    "    plot( d$water_cent[idx] , d$blooms_std[idx] , xlim=c(-1,1) , ylim=c(-1,2) ,\n",
    "        xlab=\"water\" , ylab=\"blooms\" , pch=16 , col=rangi2 )\n",
    "    mu <- link( m8.7 , data=data.frame( shade_cent=s , water_cent=-1:1 ), post=prior )\n",
    "    for ( i in 1:20 ) lines( -1:1 , mu[i,] , col=col.alpha(\"black\",0.3) )\n",
    "}\n",
    "options(repr.plot.width=8, repr.plot.height=4)"
   ]
  },
  {
   "cell_type": "markdown",
   "metadata": {},
   "source": []
  },
  {
   "cell_type": "markdown",
   "metadata": {},
   "source": [
    "# Practice Problems"
   ]
  },
  {
   "cell_type": "markdown",
   "metadata": {},
   "source": [
    "##### 7H1"
   ]
  },
  {
   "cell_type": "code",
   "execution_count": null,
   "metadata": {},
   "outputs": [],
   "source": [
    "library(rethinking) \n",
    "data(tulips)\n",
    "d <- tulips"
   ]
  },
  {
   "cell_type": "code",
   "execution_count": 7,
   "metadata": {
    "cell_style": "split"
   },
   "outputs": [
    {
     "data": {
      "text/html": [
       "<ol class=list-inline>\n",
       "\t<li>a</li>\n",
       "\t<li>a</li>\n",
       "\t<li>a</li>\n",
       "\t<li>a</li>\n",
       "\t<li>a</li>\n",
       "\t<li>a</li>\n",
       "\t<li>a</li>\n",
       "\t<li>a</li>\n",
       "\t<li>a</li>\n",
       "\t<li>b</li>\n",
       "\t<li>b</li>\n",
       "\t<li>b</li>\n",
       "\t<li>b</li>\n",
       "\t<li>b</li>\n",
       "\t<li>b</li>\n",
       "\t<li>b</li>\n",
       "\t<li>b</li>\n",
       "\t<li>b</li>\n",
       "\t<li>c</li>\n",
       "\t<li>c</li>\n",
       "\t<li>c</li>\n",
       "\t<li>c</li>\n",
       "\t<li>c</li>\n",
       "\t<li>c</li>\n",
       "\t<li>c</li>\n",
       "\t<li>c</li>\n",
       "\t<li>c</li>\n",
       "</ol>\n",
       "\n",
       "<details>\n",
       "\t<summary style=display:list-item;cursor:pointer>\n",
       "\t\t<strong>Levels</strong>:\n",
       "\t</summary>\n",
       "\t<ol class=list-inline>\n",
       "\t\t<li>'a'</li>\n",
       "\t\t<li>'b'</li>\n",
       "\t\t<li>'c'</li>\n",
       "\t</ol>\n",
       "</details>"
      ],
      "text/latex": [
       "\\begin{enumerate*}\n",
       "\\item a\n",
       "\\item a\n",
       "\\item a\n",
       "\\item a\n",
       "\\item a\n",
       "\\item a\n",
       "\\item a\n",
       "\\item a\n",
       "\\item a\n",
       "\\item b\n",
       "\\item b\n",
       "\\item b\n",
       "\\item b\n",
       "\\item b\n",
       "\\item b\n",
       "\\item b\n",
       "\\item b\n",
       "\\item b\n",
       "\\item c\n",
       "\\item c\n",
       "\\item c\n",
       "\\item c\n",
       "\\item c\n",
       "\\item c\n",
       "\\item c\n",
       "\\item c\n",
       "\\item c\n",
       "\\end{enumerate*}\n",
       "\n",
       "\\emph{Levels}: \\begin{enumerate*}\n",
       "\\item 'a'\n",
       "\\item 'b'\n",
       "\\item 'c'\n",
       "\\end{enumerate*}\n"
      ],
      "text/markdown": [
       "1. a\n",
       "2. a\n",
       "3. a\n",
       "4. a\n",
       "5. a\n",
       "6. a\n",
       "7. a\n",
       "8. a\n",
       "9. a\n",
       "10. b\n",
       "11. b\n",
       "12. b\n",
       "13. b\n",
       "14. b\n",
       "15. b\n",
       "16. b\n",
       "17. b\n",
       "18. b\n",
       "19. c\n",
       "20. c\n",
       "21. c\n",
       "22. c\n",
       "23. c\n",
       "24. c\n",
       "25. c\n",
       "26. c\n",
       "27. c\n",
       "\n",
       "\n",
       "\n",
       "**Levels**: 1. 'a'\n",
       "2. 'b'\n",
       "3. 'c'\n",
       "\n",
       "\n"
      ],
      "text/plain": [
       " [1] a a a a a a a a a b b b b b b b b b c c c c c c c c c\n",
       "Levels: a b c"
      ]
     },
     "metadata": {},
     "output_type": "display_data"
    }
   ],
   "source": [
    "d$bed"
   ]
  },
  {
   "cell_type": "code",
   "execution_count": 4,
   "metadata": {
    "cell_style": "split"
   },
   "outputs": [
    {
     "data": {
      "text/html": [
       "<table>\n",
       "<thead><tr><th scope=col>bed</th><th scope=col>water</th><th scope=col>shade</th><th scope=col>blooms</th></tr></thead>\n",
       "<tbody>\n",
       "\t<tr><td>a     </td><td>1     </td><td>1     </td><td>  0.00</td></tr>\n",
       "\t<tr><td>a     </td><td>1     </td><td>2     </td><td>  0.00</td></tr>\n",
       "\t<tr><td>a     </td><td>1     </td><td>3     </td><td>111.04</td></tr>\n",
       "\t<tr><td>a     </td><td>2     </td><td>1     </td><td>183.47</td></tr>\n",
       "\t<tr><td>a     </td><td>2     </td><td>2     </td><td> 59.16</td></tr>\n",
       "\t<tr><td>a     </td><td>2     </td><td>3     </td><td> 76.75</td></tr>\n",
       "</tbody>\n",
       "</table>\n"
      ],
      "text/latex": [
       "\\begin{tabular}{r|llll}\n",
       " bed & water & shade & blooms\\\\\n",
       "\\hline\n",
       "\t a      & 1      & 1      &   0.00\\\\\n",
       "\t a      & 1      & 2      &   0.00\\\\\n",
       "\t a      & 1      & 3      & 111.04\\\\\n",
       "\t a      & 2      & 1      & 183.47\\\\\n",
       "\t a      & 2      & 2      &  59.16\\\\\n",
       "\t a      & 2      & 3      &  76.75\\\\\n",
       "\\end{tabular}\n"
      ],
      "text/markdown": [
       "\n",
       "| bed | water | shade | blooms |\n",
       "|---|---|---|---|\n",
       "| a      | 1      | 1      |   0.00 |\n",
       "| a      | 1      | 2      |   0.00 |\n",
       "| a      | 1      | 3      | 111.04 |\n",
       "| a      | 2      | 1      | 183.47 |\n",
       "| a      | 2      | 2      |  59.16 |\n",
       "| a      | 2      | 3      |  76.75 |\n",
       "\n"
      ],
      "text/plain": [
       "  bed water shade blooms\n",
       "1 a   1     1       0.00\n",
       "2 a   1     2       0.00\n",
       "3 a   1     3     111.04\n",
       "4 a   2     1     183.47\n",
       "5 a   2     2      59.16\n",
       "6 a   2     3      76.75"
      ]
     },
     "metadata": {},
     "output_type": "display_data"
    }
   ],
   "source": [
    "d %>% head"
   ]
  },
  {
   "cell_type": "code",
   "execution_count": 6,
   "metadata": {
    "cell_style": "split",
    "scrolled": true
   },
   "outputs": [
    {
     "data": {
      "text/plain": [
       "   Min. 1st Qu.  Median    Mean 3rd Qu.    Max. \n",
       "      1       1       2       2       3       3 "
      ]
     },
     "metadata": {},
     "output_type": "display_data"
    },
    {
     "data": {
      "text/plain": [
       ".\n",
       "1 2 3 \n",
       "9 9 9 "
      ]
     },
     "metadata": {},
     "output_type": "display_data"
    }
   ],
   "source": [
    "d$water %>% summary\n",
    "d$water %>% table"
   ]
  },
  {
   "cell_type": "code",
   "execution_count": 8,
   "metadata": {},
   "outputs": [],
   "source": [
    "library(rethinking) \n",
    "data(nettle)\n",
    "d <- nettle\n",
    "d$log_langpc <- log( d$num.lang / d$k.pop )\n",
    "d$log_area <- log(d$area)"
   ]
  },
  {
   "cell_type": "code",
   "execution_count": 9,
   "metadata": {
    "cell_style": "center"
   },
   "outputs": [
    {
     "data": {
      "text/html": [
       "<table>\n",
       "<thead><tr><th scope=col>country</th><th scope=col>num.lang</th><th scope=col>area</th><th scope=col>k.pop</th><th scope=col>num.stations</th><th scope=col>mean.growing.season</th><th scope=col>sd.growing.season</th><th scope=col>log_langpc</th><th scope=col>log_area</th></tr></thead>\n",
       "<tbody>\n",
       "\t<tr><td>Algeria   </td><td> 18       </td><td>2381741   </td><td> 25660    </td><td>102       </td><td>6.60      </td><td>2.29      </td><td>-7.262317 </td><td>14.68334  </td></tr>\n",
       "\t<tr><td>Angola    </td><td> 42       </td><td>1246700   </td><td> 10303    </td><td> 50       </td><td>6.22      </td><td>1.87      </td><td>-5.502521 </td><td>14.03601  </td></tr>\n",
       "\t<tr><td>Australia </td><td>234       </td><td>7713364   </td><td> 17336    </td><td>134       </td><td>6.00      </td><td>4.17      </td><td>-4.305219 </td><td>15.85846  </td></tr>\n",
       "\t<tr><td>Bangladesh</td><td> 37       </td><td> 143998   </td><td>118745    </td><td> 20       </td><td>7.40      </td><td>0.73      </td><td>-8.073816 </td><td>11.87755  </td></tr>\n",
       "\t<tr><td>Benin     </td><td> 52       </td><td> 112622   </td><td>  4889    </td><td>  7       </td><td>7.14      </td><td>0.99      </td><td>-4.543499 </td><td>11.63179  </td></tr>\n",
       "\t<tr><td>Bolivia   </td><td> 38       </td><td>1098581   </td><td>  7612    </td><td> 48       </td><td>6.92      </td><td>2.50      </td><td>-5.299895 </td><td>13.90953  </td></tr>\n",
       "</tbody>\n",
       "</table>\n"
      ],
      "text/latex": [
       "\\begin{tabular}{r|lllllllll}\n",
       " country & num.lang & area & k.pop & num.stations & mean.growing.season & sd.growing.season & log\\_langpc & log\\_area\\\\\n",
       "\\hline\n",
       "\t Algeria    &  18        & 2381741    &  25660     & 102        & 6.60       & 2.29       & -7.262317  & 14.68334  \\\\\n",
       "\t Angola     &  42        & 1246700    &  10303     &  50        & 6.22       & 1.87       & -5.502521  & 14.03601  \\\\\n",
       "\t Australia  & 234        & 7713364    &  17336     & 134        & 6.00       & 4.17       & -4.305219  & 15.85846  \\\\\n",
       "\t Bangladesh &  37        &  143998    & 118745     &  20        & 7.40       & 0.73       & -8.073816  & 11.87755  \\\\\n",
       "\t Benin      &  52        &  112622    &   4889     &   7        & 7.14       & 0.99       & -4.543499  & 11.63179  \\\\\n",
       "\t Bolivia    &  38        & 1098581    &   7612     &  48        & 6.92       & 2.50       & -5.299895  & 13.90953  \\\\\n",
       "\\end{tabular}\n"
      ],
      "text/markdown": [
       "\n",
       "| country | num.lang | area | k.pop | num.stations | mean.growing.season | sd.growing.season | log_langpc | log_area |\n",
       "|---|---|---|---|---|---|---|---|---|\n",
       "| Algeria    |  18        | 2381741    |  25660     | 102        | 6.60       | 2.29       | -7.262317  | 14.68334   |\n",
       "| Angola     |  42        | 1246700    |  10303     |  50        | 6.22       | 1.87       | -5.502521  | 14.03601   |\n",
       "| Australia  | 234        | 7713364    |  17336     | 134        | 6.00       | 4.17       | -4.305219  | 15.85846   |\n",
       "| Bangladesh |  37        |  143998    | 118745     |  20        | 7.40       | 0.73       | -8.073816  | 11.87755   |\n",
       "| Benin      |  52        |  112622    |   4889     |   7        | 7.14       | 0.99       | -4.543499  | 11.63179   |\n",
       "| Bolivia    |  38        | 1098581    |   7612     |  48        | 6.92       | 2.50       | -5.299895  | 13.90953   |\n",
       "\n"
      ],
      "text/plain": [
       "  country    num.lang area    k.pop  num.stations mean.growing.season\n",
       "1 Algeria     18      2381741  25660 102          6.60               \n",
       "2 Angola      42      1246700  10303  50          6.22               \n",
       "3 Australia  234      7713364  17336 134          6.00               \n",
       "4 Bangladesh  37       143998 118745  20          7.40               \n",
       "5 Benin       52       112622   4889   7          7.14               \n",
       "6 Bolivia     38      1098581   7612  48          6.92               \n",
       "  sd.growing.season log_langpc log_area\n",
       "1 2.29              -7.262317  14.68334\n",
       "2 1.87              -5.502521  14.03601\n",
       "3 4.17              -4.305219  15.85846\n",
       "4 0.73              -8.073816  11.87755\n",
       "5 0.99              -4.543499  11.63179\n",
       "6 2.50              -5.299895  13.90953"
      ]
     },
     "metadata": {},
     "output_type": "display_data"
    }
   ],
   "source": [
    "d %>% head"
   ]
  },
  {
   "cell_type": "markdown",
   "metadata": {},
   "source": [
    "# Homework 2019"
   ]
  },
  {
   "cell_type": "markdown",
   "metadata": {},
   "source": []
  }
 ],
 "metadata": {
  "hide_input": false,
  "kernelspec": {
   "display_name": "R",
   "language": "R",
   "name": "ir"
  },
  "language_info": {
   "codemirror_mode": "r",
   "file_extension": ".r",
   "mimetype": "text/x-r-source",
   "name": "R",
   "pygments_lexer": "r",
   "version": "3.5.1"
  },
  "latex_envs": {
   "LaTeX_envs_menu_present": true,
   "autoclose": true,
   "autocomplete": true,
   "bibliofile": "biblio.bib",
   "cite_by": "apalike",
   "current_citInitial": 1,
   "eqLabelWithNumbers": true,
   "eqNumInitial": 1,
   "hotkeys": {
    "equation": "Ctrl-E",
    "itemize": "Ctrl-I"
   },
   "labels_anchors": false,
   "latex_user_defs": false,
   "report_style_numbering": false,
   "user_envs_cfg": false
  },
  "toc": {
   "base_numbering": 1,
   "nav_menu": {},
   "number_sections": true,
   "sideBar": true,
   "skip_h1_title": false,
   "title_cell": "Table of Contents",
   "title_sidebar": "Contents",
   "toc_cell": true,
   "toc_position": {
    "height": "calc(100% - 180px)",
    "left": "10px",
    "top": "150px",
    "width": "384px"
   },
   "toc_section_display": true,
   "toc_window_display": true
  },
  "varInspector": {
   "cols": {
    "lenName": 16,
    "lenType": 16,
    "lenVar": 40
   },
   "kernels_config": {
    "python": {
     "delete_cmd_postfix": "",
     "delete_cmd_prefix": "del ",
     "library": "var_list.py",
     "varRefreshCmd": "print(var_dic_list())"
    },
    "r": {
     "delete_cmd_postfix": ") ",
     "delete_cmd_prefix": "rm(",
     "library": "var_list.r",
     "varRefreshCmd": "cat(var_dic_list()) "
    }
   },
   "types_to_exclude": [
    "module",
    "function",
    "builtin_function_or_method",
    "instance",
    "_Feature"
   ],
   "window_display": false
  }
 },
 "nbformat": 4,
 "nbformat_minor": 2
}
