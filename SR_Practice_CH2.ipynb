{
 "cells": [
  {
   "cell_type": "code",
   "execution_count": 2,
   "metadata": {},
   "outputs": [],
   "source": [
    "# libraries \n",
    "library(rethinking)  \n",
    "library(tidyverse)  \n",
    "library(lubridate)  \n",
    "# library(data.table)  \n",
    "# detach(\"package:rethinking\", unload=TRUE) \n"
   ]
  },
  {
   "cell_type": "markdown",
   "metadata": {},
   "source": [
    "# Chapter 2 Practice Problems"
   ]
  },
  {
   "cell_type": "markdown",
   "metadata": {},
   "source": [
    "## Easy"
   ]
  },
  {
   "cell_type": "markdown",
   "metadata": {
    "heading_collapsed": true
   },
   "source": [
    "##### 2E1. Which of the expressions below correspond to the statement: the probability of rain on Monday?"
   ]
  },
  {
   "cell_type": "raw",
   "metadata": {
    "hidden": true
   },
   "source": [
    "(1) Pr(rain)\n",
    "(2) Pr(rain|Monday) <-\n",
    "(3) Pr(Monday|rain)\n",
    "(4) Pr(rain, Monday)/ Pr(Monday) <-"
   ]
  },
  {
   "cell_type": "markdown",
   "metadata": {
    "heading_collapsed": true
   },
   "source": [
    "##### 2E2. Which of the following statements corresponds to the expression: Pr(Monday|rain)?"
   ]
  },
  {
   "cell_type": "markdown",
   "metadata": {
    "hidden": true
   },
   "source": [
    "(1) The probability of rain on Monday.\n",
    "(2) The probability of rain, given that it is Monday. \n",
    "(3) The probability that it is Monday, given that it is raining. <-\n",
    "(4) The probability that it is Monday and that it is raining."
   ]
  },
  {
   "cell_type": "markdown",
   "metadata": {
    "heading_collapsed": true
   },
   "source": [
    "##### 2E3. Which of the expressions below correspond to the statement: the probability that it is Monday, given that it is raining?"
   ]
  },
  {
   "cell_type": "markdown",
   "metadata": {
    "hidden": true
   },
   "source": [
    "(1) Pr(Monday|rain) <-\n",
    "(2) Pr(rain|Monday)\n",
    "(3) Pr(rain|Monday) Pr(Monday)\n",
    "(4) Pr(rain|Monday) Pr(Monday)/ Pr(rain) <-\n",
    "(5) Pr(Monday|rain) Pr(rain)/ Pr(Monday)"
   ]
  },
  {
   "cell_type": "raw",
   "metadata": {
    "hidden": true
   },
   "source": [
    "For (4), the product Pr(rain|Monday) Pr(Monday) is just the joint\n",
    "probability of rain and Monday, Pr(rain, Monday). Then dividing by the probability of rain provides\n",
    "the conditional probability.\n",
    "\n",
    "p(rain|Monday) = p(rain and Monday)/p(Monday)\n",
    "p(rain and Monday) = p(rain|Monday)p(Monday)\n",
    "\n",
    "P(Monday|rain) = p(Monday and rain)/p(rain)\n",
    "P(Monday|rain) = p(rain|Monday)p(Monday)/p(rain)\n",
    " "
   ]
  },
  {
   "cell_type": "markdown",
   "metadata": {
    "heading_collapsed": true
   },
   "source": [
    "##### 2E4. The Bayesian statistician Bruno de Finetti (1906–1985) began his 1973 book on probability theory with the declaration: “PROBABILITY DOES NOT EXIST.” "
   ]
  },
  {
   "cell_type": "markdown",
   "metadata": {
    "hidden": true
   },
   "source": [
    "The capitals appeared in the original, so I imagine de Finetti wanted us to shout this statement. \n",
    "\n",
    "What he meant is that probability is a device for describing uncertainty from the perspective of an observer with limited knowledge; it has no objective reality. \n",
    "\n",
    "Discuss the globe tossing example from the chapter, in light of this statement. \n",
    "\n",
    "What does it mean to say “the probability of water is 0.7”?"
   ]
  },
  {
   "cell_type": "markdown",
   "metadata": {
    "hidden": true
   },
   "source": [
    "This problem is merely a prompt for readers to explore intuitions about probability.<font color = 'blue'> The goal is to help understand statements like “the probability of water is 0.7” as statements about partial knowledge, not as statements about physical processes. </font> \n",
    "\n",
    "> The physics of the globe toss are deterministic, not “random.” But we are substantially ignorant of those physics when we toss the globe. So when someone states that a process is “random,” this can mean nothing more than ignorance of the details that would permit predicting the outcome.\n",
    "\n",
    "As a consequence, probabilities change when our information (or a model’s information) changes. Frequencies, in contrast, are facts about particular empirical contexts. They do not depend upon our information (although our beliefs about frequencies do).\n",
    "\n",
    "This gives a new meaning to words like “randomization,” because it makes clear that when we shuffle a deck of playing cards, what we have done is merely remove our knowledge of the card order. A card is “random” because we cannot guess it."
   ]
  },
  {
   "cell_type": "markdown",
   "metadata": {},
   "source": [
    "## Medium"
   ]
  },
  {
   "cell_type": "markdown",
   "metadata": {},
   "source": [
    "#### 2M1. Recall the globe tossing model from the chapter. "
   ]
  },
  {
   "cell_type": "raw",
   "metadata": {},
   "source": [
    "Compute and plot the grid approximate posterior distribution for each of the following sets of observations. In each case, assume a uniform prior for p.\n",
    "\n",
    "(1) W, W, W\n",
    "(2) W, W, W, L\n",
    "(3) L, W, W, L, W, W, W"
   ]
  },
  {
   "cell_type": "markdown",
   "metadata": {},
   "source": []
  },
  {
   "cell_type": "markdown",
   "metadata": {},
   "source": [
    "2M2. Now assume a prior for p that is equal to zero when p < 0.5 and is a positive constant when\n",
    "p ≥ 0.5. Again compute and plot the grid approximate posterior distribution for each of the sets of\n",
    "observations in the problem just above.\n",
    "\n",
    "2M3. Suppose there are two globes, one for Earth and one for Mars. The Earth globe is 70% covered\n",
    "in water. The Mars globe is 100% land. Further suppose that one of these globes—you don’t know\n",
    "which—was tossed in the air and produced a “land” observation. Assume that each globe was equally\n",
    "likely to be tossed. Show that the posterior probability that the globe was the Earth, conditional on\n",
    "seeing “land” (Pr(Earth|land)), is 0.23.\n",
    "\n",
    "2M4. Suppose you have a deck with only three cards. Each card has two sides, and each side is either\n",
    "black or white. One card has two black sides. The second card has one black and one white side. The\n",
    "third card has two white sides. Now suppose all three cards are placed in a bag and shuffled. Someone\n",
    "reaches into the bag and pulls out a card and places it flat on a table. A black side is shown facing up,\n",
    "but you don’t know the color of the side facing down. Show that the probability that the other side is\n",
    "also black is 2/3. Use the counting method (Section 2 of the chapter) to approach this problem. This\n",
    "means counting up the ways that each card could produce the observed data (a black side facing up\n",
    "on the table).\n",
    "\n",
    "2M5. Now suppose there are four cards: B/B, B/W, W/W, and another B/B. Again suppose a card is\n",
    "drawn from the bag and a black side appears face up. Again calculate the probability that the other\n",
    "side is black.\n",
    "\n",
    "2M6. Imagine that black ink is heavy, and so cards with black sides are heavier than cards with white\n",
    "sides. As a result, it’s less likely that a card with black sides is pulled from the bag. So again assume\n",
    "there are three cards: B/B, B/W, and W/W. After experimenting a number of times, you conclude that\n",
    "for every way to pull the B/B card from the bag, there are 2 ways to pull the B/W card and 3 ways to\n",
    "pull the W/W card. Again suppose that a card is pulled and a black side appears face up. Show that\n",
    "the probability the other side is black is now 0.5. Use the counting method, as before.\n",
    "\n",
    "2M7. Assume again the original card problem, with a single card showing a black side face up. Before\n",
    "looking at the other side, we draw another card from the bag and lay it face up on the table. The face\n",
    "that is shown on the new card is white. Show that the probability that the first card, the one showing\n",
    "a black side, has black on its other side is now 0.75. Use the counting method, if you can. Hint: Treat\n",
    "this like the sequence of globe tosses, counting all the ways to see each observation, for each possible\n",
    "first card."
   ]
  }
 ],
 "metadata": {
  "kernelspec": {
   "display_name": "R",
   "language": "R",
   "name": "ir"
  },
  "language_info": {
   "codemirror_mode": "r",
   "file_extension": ".r",
   "mimetype": "text/x-r-source",
   "name": "R",
   "pygments_lexer": "r",
   "version": "3.6.1"
  }
 },
 "nbformat": 4,
 "nbformat_minor": 4
}
