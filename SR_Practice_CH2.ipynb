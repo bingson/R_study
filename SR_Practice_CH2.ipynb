{
 "cells": [
  {
   "cell_type": "code",
   "execution_count": 2,
   "metadata": {},
   "outputs": [],
   "source": [
    "# libraries \n",
    "library(rethinking)  \n",
    "library(tidyverse)  \n",
    "library(lubridate)  \n",
    "# library(data.table)  \n",
    "# detach(\"package:rethinking\", unload=TRUE) \n"
   ]
  },
  {
   "cell_type": "markdown",
   "metadata": {},
   "source": [
    "# Chapter 2 Practice Problems"
   ]
  },
  {
   "cell_type": "markdown",
   "metadata": {},
   "source": [
    "## Easy"
   ]
  },
  {
   "cell_type": "markdown",
   "metadata": {
    "heading_collapsed": true
   },
   "source": [
    "##### 2E1. Which of the expressions below correspond to the statement: the probability of rain on Monday?"
   ]
  },
  {
   "cell_type": "raw",
   "metadata": {
    "hidden": true
   },
   "source": [
    "(1) Pr(rain)\n",
    "(2) Pr(rain|Monday) <-\n",
    "(3) Pr(Monday|rain)\n",
    "(4) Pr(rain, Monday)/ Pr(Monday) <-"
   ]
  },
  {
   "cell_type": "markdown",
   "metadata": {
    "heading_collapsed": true
   },
   "source": [
    "##### 2E2. Which of the following statements corresponds to the expression: Pr(Monday|rain)?"
   ]
  },
  {
   "cell_type": "markdown",
   "metadata": {
    "hidden": true
   },
   "source": [
    "(1) The probability of rain on Monday.\n",
    "(2) The probability of rain, given that it is Monday. \n",
    "(3) The probability that it is Monday, given that it is raining. <-\n",
    "(4) The probability that it is Monday and that it is raining."
   ]
  },
  {
   "cell_type": "markdown",
   "metadata": {
    "heading_collapsed": true
   },
   "source": [
    "##### 2E3. Which of the expressions below correspond to the statement: the probability that it is Monday, given that it is raining?"
   ]
  },
  {
   "cell_type": "markdown",
   "metadata": {
    "hidden": true
   },
   "source": [
    "(1) Pr(Monday|rain) <-\n",
    "(2) Pr(rain|Monday)\n",
    "(3) Pr(rain|Monday) Pr(Monday)\n",
    "(4) Pr(rain|Monday) Pr(Monday)/ Pr(rain) <-\n",
    "(5) Pr(Monday|rain) Pr(rain)/ Pr(Monday)"
   ]
  },
  {
   "cell_type": "raw",
   "metadata": {
    "hidden": true
   },
   "source": [
    "For (4), the product Pr(rain|Monday) Pr(Monday) is just the joint\n",
    "probability of rain and Monday, Pr(rain, Monday). Then dividing by the probability of rain provides\n",
    "the conditional probability.\n",
    "\n",
    "p(rain|Monday) = p(rain and Monday)/p(Monday)\n",
    "p(rain and Monday) = p(rain|Monday)p(Monday)\n",
    "\n",
    "P(Monday|rain) = p(Monday and rain)/p(rain)\n",
    "P(Monday|rain) = p(rain|Monday)p(Monday)/p(rain)\n",
    " "
   ]
  },
  {
   "cell_type": "markdown",
   "metadata": {
    "heading_collapsed": true
   },
   "source": [
    "##### 2E4. The Bayesian statistician Bruno de Finetti (1906–1985) began his 1973 book on probability theory with the declaration: “PROBABILITY DOES NOT EXIST.” "
   ]
  },
  {
   "cell_type": "markdown",
   "metadata": {
    "hidden": true
   },
   "source": [
    "The capitals appeared in the original, so I imagine de Finetti wanted us to shout this statement. \n",
    "\n",
    "What he meant is that probability is a device for describing uncertainty from the perspective of an observer with limited knowledge; it has no objective reality. \n",
    "\n",
    "Discuss the globe tossing example from the chapter, in light of this statement. \n",
    "\n",
    "What does it mean to say “the probability of water is 0.7”?"
   ]
  },
  {
   "cell_type": "markdown",
   "metadata": {
    "hidden": true
   },
   "source": [
    "This problem is merely a prompt for readers to explore intuitions about probability.<font color = 'blue'> The goal is to help understand statements like “the probability of water is 0.7” as statements about partial knowledge, not as statements about physical processes. </font> \n",
    "\n",
    "> The physics of the globe toss are deterministic, not “random.” But we are substantially ignorant of those physics when we toss the globe. So when someone states that a process is “random,” this can mean nothing more than ignorance of the details that would permit predicting the outcome.\n",
    "\n",
    "As a consequence, probabilities change when our information (or a model’s information) changes. Frequencies, in contrast, are facts about particular empirical contexts. They do not depend upon our information (although our beliefs about frequencies do).\n",
    "\n",
    "This gives a new meaning to words like “randomization,” because it makes clear that when we shuffle a deck of playing cards, what we have done is merely remove our knowledge of the card order. A card is “random” because we cannot guess it."
   ]
  },
  {
   "cell_type": "markdown",
   "metadata": {},
   "source": [
    "## Medium"
   ]
  }
 ],
 "metadata": {
  "kernelspec": {
   "display_name": "R",
   "language": "R",
   "name": "ir"
  },
  "language_info": {
   "codemirror_mode": "r",
   "file_extension": ".r",
   "mimetype": "text/x-r-source",
   "name": "R",
   "pygments_lexer": "r",
   "version": "3.6.1"
  }
 },
 "nbformat": 4,
 "nbformat_minor": 4
}
