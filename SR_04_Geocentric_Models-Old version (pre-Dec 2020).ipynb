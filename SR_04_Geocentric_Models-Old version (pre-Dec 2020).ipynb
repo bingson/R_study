{
 "cells": [
  {
   "cell_type": "markdown",
   "metadata": {
    "toc": true
   },
   "source": [
    "<h1>Table of Contents<span class=\"tocSkip\"></span></h1>\n",
    "<div class=\"toc\"><ul class=\"toc-item\"><li><span><a href=\"#Lecture-CH4\" data-toc-modified-id=\"Lecture-CH4-1\"><span class=\"toc-item-num\">1&nbsp;&nbsp;</span>Lecture CH4</a></span><ul class=\"toc-item\"><li><span><a href=\"#Why-normal-distributions-are-normal\" data-toc-modified-id=\"Why-normal-distributions-are-normal-1.1\"><span class=\"toc-item-num\">1.1&nbsp;&nbsp;</span>Why normal distributions are normal</a></span></li><li><span><a href=\"#A-language-for-describing-models\" data-toc-modified-id=\"A-language-for-describing-models-1.2\"><span class=\"toc-item-num\">1.2&nbsp;&nbsp;</span>A language for describing models</a></span></li><li><span><a href=\"#A-Gaussian-model-of-height\" data-toc-modified-id=\"A-Gaussian-model-of-height-1.3\"><span class=\"toc-item-num\">1.3&nbsp;&nbsp;</span>A Gaussian model of height</a></span><ul class=\"toc-item\"><li><span><a href=\"#THE-DATA\" data-toc-modified-id=\"THE-DATA-1.3.1\"><span class=\"toc-item-num\">1.3.1&nbsp;&nbsp;</span><font color=\"red\"><strong>THE DATA</strong></font></a></span></li><li><span><a href=\"#THE-MODEL\" data-toc-modified-id=\"THE-MODEL-1.3.2\"><span class=\"toc-item-num\">1.3.2&nbsp;&nbsp;</span><font color=\"red\"><strong>THE MODEL</strong></font></a></span></li><li><span><a href=\"#GRID-APPROXIMATION-OF-THE-POSTERIOR-DISTRIBUTION\" data-toc-modified-id=\"GRID-APPROXIMATION-OF-THE-POSTERIOR-DISTRIBUTION-1.3.3\"><span class=\"toc-item-num\">1.3.3&nbsp;&nbsp;</span><font color=\"red\"><strong>GRID APPROXIMATION OF THE POSTERIOR DISTRIBUTION</strong></font></a></span></li><li><span><a href=\"#Sampling-from-the-posterior\" data-toc-modified-id=\"Sampling-from-the-posterior-1.3.4\"><span class=\"toc-item-num\">1.3.4&nbsp;&nbsp;</span>Sampling from the posterior</a></span></li><li><span><a href=\"#Fitting-the-model-with-Quadratic-Approximation-(QUAP)\" data-toc-modified-id=\"Fitting-the-model-with-Quadratic-Approximation-(QUAP)-1.3.5\"><span class=\"toc-item-num\">1.3.5&nbsp;&nbsp;</span><font color=\"blue\">Fitting the model with Quadratic Approximation (QUAP)</font></a></span></li><li><span><a href=\"#Sampling-from-a-quap-fit\" data-toc-modified-id=\"Sampling-from-a-quap-fit-1.3.6\"><span class=\"toc-item-num\">1.3.6&nbsp;&nbsp;</span>Sampling from a quap fit</a></span></li></ul></li><li><span><a href=\"#Adding-a-predictor\" data-toc-modified-id=\"Adding-a-predictor-1.4\"><span class=\"toc-item-num\">1.4&nbsp;&nbsp;</span>Adding a predictor</a></span><ul class=\"toc-item\"><li><span><a href=\"#The-linear-model-strategy.\" data-toc-modified-id=\"The-linear-model-strategy.-1.4.1\"><span class=\"toc-item-num\">1.4.1&nbsp;&nbsp;</span>The linear model strategy.</a></span></li><li><span><a href=\"#Fitting-the-model.\" data-toc-modified-id=\"Fitting-the-model.-1.4.2\"><span class=\"toc-item-num\">1.4.2&nbsp;&nbsp;</span>Fitting the model.</a></span></li><li><span><a href=\"#Interpreting-the-model-fit.\" data-toc-modified-id=\"Interpreting-the-model-fit.-1.4.3\"><span class=\"toc-item-num\">1.4.3&nbsp;&nbsp;</span>Interpreting the model fit.</a></span></li></ul></li><li><span><a href=\"#Polynomial-regression\" data-toc-modified-id=\"Polynomial-regression-1.5\"><span class=\"toc-item-num\">1.5&nbsp;&nbsp;</span>Polynomial regression</a></span></li><li><span><a href=\"#Practice\" data-toc-modified-id=\"Practice-1.6\"><span class=\"toc-item-num\">1.6&nbsp;&nbsp;</span>Practice</a></span><ul class=\"toc-item\"><li><span><a href=\"#EASY\" data-toc-modified-id=\"EASY-1.6.1\"><span class=\"toc-item-num\">1.6.1&nbsp;&nbsp;</span><font color=\"purple\" style=\"background-color: lightyellow\">EASY</font></a></span></li><li><span><a href=\"#MEDIUM\" data-toc-modified-id=\"MEDIUM-1.6.2\"><span class=\"toc-item-num\">1.6.2&nbsp;&nbsp;</span><font color=\"purple\" style=\"background-color: lightyellow\">MEDIUM</font></a></span></li><li><span><a href=\"#HARD\" data-toc-modified-id=\"HARD-1.6.3\"><span class=\"toc-item-num\">1.6.3&nbsp;&nbsp;</span><strong><font color=\"purple\" style=\"background-color: lightyellow\">HARD</font></strong></a></span></li></ul></li></ul></li><li><span><a href=\"#Misc\" data-toc-modified-id=\"Misc-2\"><span class=\"toc-item-num\">2&nbsp;&nbsp;</span>Misc</a></span><ul class=\"toc-item\"><li><span><a href=\"#how-sim-works\" data-toc-modified-id=\"how-sim-works-2.1\"><span class=\"toc-item-num\">2.1&nbsp;&nbsp;</span>how sim works</a></span></li><li><span><a href=\"#dnorm\" data-toc-modified-id=\"dnorm-2.2\"><span class=\"toc-item-num\">2.2&nbsp;&nbsp;</span>dnorm</a></span></li><li><span><a href=\"#how-link-works\" data-toc-modified-id=\"how-link-works-2.3\"><span class=\"toc-item-num\">2.3&nbsp;&nbsp;</span>how link works</a></span></li><li><span><a href=\"#VOCAB\" data-toc-modified-id=\"VOCAB-2.4\"><span class=\"toc-item-num\">2.4&nbsp;&nbsp;</span>VOCAB</a></span></li></ul></li></ul></div>"
   ]
  },
  {
   "cell_type": "raw",
   "metadata": {
    "ExecuteTime": {
     "end_time": "2020-01-13T06:49:49.147683Z",
     "start_time": "2020-01-13T06:49:49.086Z"
    }
   },
   "source": [
    "detach(\"package:rethinking\", unload=TRUE)"
   ]
  },
  {
   "cell_type": "code",
   "execution_count": 96,
   "metadata": {
    "ExecuteTime": {
     "end_time": "2020-01-14T21:24:05.867123Z",
     "start_time": "2020-01-14T21:24:05.819Z"
    }
   },
   "outputs": [],
   "source": [
    "library(tidyverse)\n",
    "\n",
    "library(rethinking)"
   ]
  },
  {
   "cell_type": "markdown",
   "metadata": {},
   "source": [
    "# Lecture CH4"
   ]
  },
  {
   "cell_type": "markdown",
   "metadata": {},
   "source": [
    "> <span style='background-color: lightgreen'>Linear regression</span> is the geocentric model of applied statistics. By “linear regression,”\n",
    "we will mean a family of simple statistical golems that attempt to learn about the mean and\n",
    "variance of some measurement, using an additive combination of other measurements. "
   ]
  },
  {
   "cell_type": "markdown",
   "metadata": {
    "heading_collapsed": true
   },
   "source": [
    "## Why normal distributions are normal"
   ]
  },
  {
   "cell_type": "markdown",
   "metadata": {
    "hidden": true
   },
   "source": [
    "Suppose you and a thousand of your closest friends line up on the halfway line of a soccer field (football pitch). Each of you has a coin in your hand. At the sound of the whistle, you begin flipping the coins. Each time a coin comes up heads, that person moves one step towards the left-hand goal. Each time a coin comes up tails, that person moves one step towards the right-hand goal. Each person flips the coin 16 times, follows the implied moves, and then stands still. Now we measure the distance of each person from the halfway line. Can you predict what proportion of the thousand people who are standing on the halfway line? How about the proportion 5 yards left of the line? It’s hard to say where any individual person will end up, but you can say with great con- fidence what the collection of positions will be. The distances will be distributed in approxi- mately normal, or Gaussian, fashion. This is true even though the underlying distribution is binomial. It does this because there are so many more possible ways to realize a sequence of left-right steps that sums to zero. There are slightly fewer ways to realize a sequence that ends up one step left or right of zero, and so on, with the number of possible sequences declining in the characteristic bell curve of the normal distribution."
   ]
  },
  {
   "cell_type": "markdown",
   "metadata": {
    "hidden": true
   },
   "source": [
    "**NORMAL BY ADDITION.**"
   ]
  },
  {
   "cell_type": "markdown",
   "metadata": {
    "hidden": true
   },
   "source": [
    "A<font color = 'purple'>ny process that adds together random values from the same distribution converges to a normal. But it’s not easy to grasp why addition should result in a bell curve of sums.61 Here’s a conceptual way to think of the process</font>.\n",
    "\n",
    "* Whatever the average value of the source distribution, each sample from it can be thought of as a fluctuation from that average value. When we begin to add these fluctuations together, they also begin to cancel one another out. A large positive fluctuation will cancel a large negative one. \n",
    "\n",
    "\n",
    "* The more terms in the sum, the more chances for each fluctuation to be canceled by another, or by a series of smaller ones in the opposite direction. <font color = 'blue'>So eventually the most likely sum, in the sense that there are the most ways to realize it, will be a sum in which every fluctuation is canceled by another, a sum of zero (relative to the mean)</font>."
   ]
  },
  {
   "cell_type": "markdown",
   "metadata": {
    "hidden": true
   },
   "source": [
    "<font color = 'red'>It doesn’t matter what shape the underlying distribution possesses</font>. It could be uniform,\n",
    "like in our example above, or it could be (nearly) anything else.63 Depending upon the underlying distribution, the convergence might be slow, but it will be inevitable. Often, as in\n",
    "this example, convergence is rapid."
   ]
  },
  {
   "cell_type": "markdown",
   "metadata": {
    "hidden": true
   },
   "source": [
    "**NORMAL BY MULTIPLICATION.**\n",
    "\n",
    "<font color = 'purple'>Here’s another way to get a normal distribution. </font> \n",
    "\n",
    "* Suppose the growth rate of an organism is influenced by a dozen loci, each with several alleles that code for more growth. <font color = 'blue'>Suppose also that all of these loci interact with one another, such that each increase growth by a percentage</font>. This means that their effects multiply, rather than add. For example, we can sample a random growth rate for this example with this line of code:\n",
    "\n"
   ]
  },
  {
   "cell_type": "code",
   "execution_count": 2,
   "metadata": {
    "hidden": true,
    "scrolled": true
   },
   "outputs": [
    {
     "data": {
      "text/html": [
       "1.78617310145494"
      ],
      "text/latex": [
       "1.78617310145494"
      ],
      "text/markdown": [
       "1.78617310145494"
      ],
      "text/plain": [
       "[1] 1.786173"
      ]
     },
     "metadata": {},
     "output_type": "display_data"
    }
   ],
   "source": [
    "prod( 1 + runif(12,0,0.1) )"
   ]
  },
  {
   "cell_type": "markdown",
   "metadata": {
    "hidden": true
   },
   "source": [
    "<font color = 'purple'>This code just samples 12 random numbers between 1.0 and 1.1, each representing a proportional increase in growth. Thus 1.0 means no additional growth and 1.1 means a 10%\n",
    "increase. The product of all 12 is computed and returned as output. Now what distribution\n",
    "do you think these random products will take? Let’s generate 10,000 of them and see:</font>"
   ]
  },
  {
   "cell_type": "code",
   "execution_count": 6,
   "metadata": {
    "collapsed": true,
    "hidden": true
   },
   "outputs": [
    {
     "data": {
      "image/png": "[encoded data removed]",
      "text/plain": [
       "Plot with title \"\""
      ]
     },
     "metadata": {},
     "output_type": "display_data"
    }
   ],
   "source": [
    "growth <- replicate( 10000 , prod( 1 + runif(12,0,0.1) ) )\n",
    "dens( growth , norm.comp=TRUE )\n"
   ]
  },
  {
   "cell_type": "markdown",
   "metadata": {
    "hidden": true
   },
   "source": [
    "The reader should execute this code in R and see that the distribution is approximately nor- mal again. I said normal distributions arise from summing random fluctuations, which is true. But the effect at each locus was multiplied by the effects at all the others, not added. So what’s going on here? We again get convergence towards a normal distribution, because the effect at each lo- cus is quite small. Multipl<font color = 'blue'>ying small numbers is approximately the same as addition.</font> For example, if there are two loci with alleles increasing growth by 10% each, the product is:"
   ]
  },
  {
   "cell_type": "raw",
   "metadata": {
    "hidden": true
   },
   "source": [
    "1.1 * 1.1 = 1.21\n",
    "\n",
    "We could also approximate this product by just adding the increases, and be off by only 0.01:\n",
    "\n",
    "1.1 × 1.1 = (1 + 0.1)(1 + 0.1) = 1 + 0.2 + 0.01 ≈ 1.2"
   ]
  },
  {
   "cell_type": "markdown",
   "metadata": {
    "hidden": true
   },
   "source": [
    "The smaller the effect of each locus, the better this additive approximation will be. In this\n",
    "way, small effects that multiply together are approximately additive, and so they also tend to\n",
    "stabilize on Gaussian distributions. Verify this for yourself by comparing:"
   ]
  },
  {
   "cell_type": "code",
   "execution_count": 9,
   "metadata": {
    "hidden": true
   },
   "outputs": [
    {
     "data": {
      "image/png": "[encoded data removed]",
      "text/plain": [
       "Plot with title \"\""
      ]
     },
     "metadata": {},
     "output_type": "display_data"
    },
    {
     "data": {
      "image/png": "[encoded data removed]",
      "text/plain": [
       "Plot with title \"\""
      ]
     },
     "metadata": {},
     "output_type": "display_data"
    }
   ],
   "source": [
    "big <- replicate( 10000 , prod( 1 + runif(12,0,0.5) ) )\n",
    "small <- replicate( 10000 , prod( 1 + runif(12,0,0.01) ) )\n",
    "\n",
    "dens( big , norm.comp=TRUE )\n",
    "dens( small , norm.comp=TRUE )"
   ]
  },
  {
   "cell_type": "markdown",
   "metadata": {
    "hidden": true
   },
   "source": [
    "The interacting growth deviations, as long as they are sufficiently small, converge to a Gauss-\n",
    "ian distribution. In this way, the range of casual forces that tend towards Gaussian distribu-\n",
    "tions extends well beyond purely additive interactions."
   ]
  },
  {
   "cell_type": "markdown",
   "metadata": {
    "hidden": true
   },
   "source": [
    "**NORMAL BY LOG-MULTIPLICATION**\n",
    "\n",
    "But wait, there’s more. Large deviates that are multi-\n",
    "plied together do not produce Gaussian distributions, but they do tend to produce Gaussian\n",
    "distributions on the log scale. For example:"
   ]
  },
  {
   "cell_type": "code",
   "execution_count": 12,
   "metadata": {
    "hidden": true
   },
   "outputs": [
    {
     "data": {
      "image/png": "[encoded data removed]",
      "text/plain": [
       "Plot with title \"\""
      ]
     },
     "metadata": {},
     "output_type": "display_data"
    }
   ],
   "source": [
    "log.big <- replicate( 10000 , log(prod(1 + runif(12,0,0.5))) )\n",
    "dens( log.big , norm.comp=TRUE )"
   ]
  },
  {
   "cell_type": "markdown",
   "metadata": {
    "hidden": true
   },
   "source": [
    "Yet another Gaussian distribution. We get the Gaussian distribution back, because <font color = 'red'>adding\n",
    "logs is equivalent to multiplying the original numbers. So even multiplicative interactions\n",
    "of large deviations can produce Gaussian distributions, once we measure the outcomes on\n",
    "the log scale</font>. Since measurement scales are arbitrary, there’s nothing suspicious about this\n",
    "transformation. After all, it’s natural to measure sound and earthquakes and even informa-\n",
    "tion (Chapter 6) on a log scale."
   ]
  },
  {
   "cell_type": "markdown",
   "metadata": {
    "hidden": true
   },
   "source": [
    "\n",
    "Probability distributions with only discrete outcomes, like the binomial, are usually called <span style='background-color: lightgreen'>probability mass functions</span> and denoted Pr. Continuous ones like the Gaussian are called <span style='background-color: lightgreen'>probability density functions</span>, denoted with p or just plain old f, depending upon author and tradition."
   ]
  },
  {
   "cell_type": "markdown",
   "metadata": {
    "hidden": true
   },
   "source": [
    "For mathematical reasons, probability densities, but not masses, can be greater than 1. Try dnorm(0,0,0.1), for example, which is the way to make R calculate p(0|0, 0.1). The answer, about 4, is no mistake. "
   ]
  },
  {
   "cell_type": "code",
   "execution_count": 13,
   "metadata": {
    "hidden": true,
    "scrolled": true
   },
   "outputs": [
    {
     "data": {
      "text/html": [
       "3.98942280401433"
      ],
      "text/latex": [
       "3.98942280401433"
      ],
      "text/markdown": [
       "3.98942280401433"
      ],
      "text/plain": [
       "[1] 3.989423"
      ]
     },
     "metadata": {},
     "output_type": "display_data"
    }
   ],
   "source": [
    "dnorm(0,0,0.1)"
   ]
  },
  {
   "cell_type": "markdown",
   "metadata": {
    "hidden": true
   },
   "source": [
    "<font color = 'green'>Probability density is the rate of change in cumulative probability. So where cumulative probability is increasing rapidly, density can easily exceed 1</font>. But if we calculate the area under the density function, it will never exceed 1. Such areas are also called probability mass."
   ]
  },
  {
   "cell_type": "markdown",
   "metadata": {
    "hidden": true
   },
   "source": [
    "You can usually ignore all these density/mass details while doing computational work. In the conceptual parts of this book, I’ll treat them identically. But it’s good to be aware of the distinction. Sometimes the difference matters."
   ]
  },
  {
   "cell_type": "markdown",
   "metadata": {
    "hidden": true
   },
   "source": [
    "<img src='pics/SR_a14.png' alt='Drawing' style='width: 450pt'/>"
   ]
  },
  {
   "cell_type": "markdown",
   "metadata": {
    "hidden": true
   },
   "source": [
    "This form is common in Bayesian data analysis, and Bayesian model fitting software, such as BUGS\n",
    "or JAGS, sometimes requires using τ rather than σ."
   ]
  },
  {
   "cell_type": "markdown",
   "metadata": {
    "heading_collapsed": true
   },
   "source": [
    "## A language for describing models"
   ]
  },
  {
   "cell_type": "markdown",
   "metadata": {
    "hidden": true
   },
   "source": [
    "These numbered items describe the choices that will be encoded in your model description."
   ]
  },
  {
   "cell_type": "markdown",
   "metadata": {
    "hidden": true
   },
   "source": [
    "<img src='pics/SR_a15.png' alt='Drawing' style='width: 450pt'/>"
   ]
  },
  {
   "cell_type": "markdown",
   "metadata": {
    "hidden": true
   },
   "source": [
    "<font color = 'purple'>**Re-describing the globe tossing model**</font>. It’s good to work with examples. Recall the\n",
    "proportion of water problem from previous chapters. The model in that case was always:\n",
    "\n",
    "$w ∼ Binomial(n, p)$\n",
    "\n",
    "$p ∼ Uniform(0, 1)$"
   ]
  },
  {
   "cell_type": "markdown",
   "metadata": {
    "hidden": true
   },
   "source": [
    "* where w was the observed count of water samples, \n",
    "* n was the total number of samples, and \n",
    "* p was the proportion of water on the actual globe. \n",
    "\n",
    "Read the above statement as: \n",
    "> The count w is distributed binomially with sample size n and probability p. The prior for p is assumed to be uniform between zero and one."
   ]
  },
  {
   "cell_type": "markdown",
   "metadata": {
    "hidden": true
   },
   "source": [
    "Once we know the model in this way, we automatically know all of its assumptions. \n",
    "\n",
    "* We know the binomial distribution assumes that each sample (globe toss) is independent of the\n",
    "others, and \n",
    "* so we also know that the model assumes that sample points are independent of one another."
   ]
  },
  {
   "cell_type": "markdown",
   "metadata": {
    "hidden": true
   },
   "source": [
    "For now, we’ll focus on simple models like the above. In these models, the first line de- fines the likelihood function used in Bayes’ theorem. The other lines define priors. Both of the lines in this model are <span style='background-color: lightgreen'>stochastic</span>, as indicated by the <span style='background-color: lightgreen'>∼</span> symbol. \n",
    "* A stochastic relationship is just a mapping of a variable or parameter onto a distribution. It is stochastic because no single instance of the variable on the left is known with certainty. Instead, the mapping is probabilistic: Some values are more plausible than others, but very many different values are plausible under any model. Later, we’ll have models with deterministic definitions in them as well."
   ]
  },
  {
   "cell_type": "markdown",
   "metadata": {
    "hidden": true
   },
   "source": [
    "<img src='pics/SR_a16.png' alt='Drawing' style='width: 450pt'/>"
   ]
  },
  {
   "cell_type": "markdown",
   "metadata": {},
   "source": [
    "## A Gaussian model of height"
   ]
  },
  {
   "cell_type": "markdown",
   "metadata": {},
   "source": [
    "We’ll work through this material by using real sets of data. In this case, we want a single measurement variable to model as a Gaussian distribution. There will be two parameters describing the distribution’s shape, the mean µ and the standard deviation σ. \n",
    "\n",
    "**Bayesian updating will allow us to consider every possible combination of values for µ and σ and to score each combination by its relative plausibility, in light of the data**. These relative plausibilities are the posterior probabilities of each combination of values µ, σ.\n",
    "\n",
    "* Another way to say the above is this. There are an infinite number of possible Gaussian distributions. Some have small means. Others have large means. Some are wide, with a large σ. Others are narrow. <font color = 'blue'>We want our Bayesian machine to consider every possible distribution, each defined by a combination of µ and σ, and rank them by posterior plausibility. Posterior plausibility provides a measure of the logical compatibility of each possible distribution with the data and model</font>."
   ]
  },
  {
   "cell_type": "markdown",
   "metadata": {},
   "source": [
    "In practice we’ll use approximations to the formal analysis. So we won’t really consider every possible value of µ and σ. But that won’t cost us anything in most cases. <font color = 'blue'>Instead the thing to worry about is keeping in mind that the “estimate” here will be the entire posterior distribution, not any point within it. And as a result, the posterior distribution will be a distribution of Gaussian distributions.</font> Yes, a distribution of distributions. If that doesn’t make sense yet, then that just means you are being honest with yourself. Hold on, work hard, and it will make plenty of sense before long."
   ]
  },
  {
   "cell_type": "markdown",
   "metadata": {
    "heading_collapsed": true
   },
   "source": [
    "### <font color = 'red'>**THE DATA**</font>"
   ]
  },
  {
   "cell_type": "markdown",
   "metadata": {
    "hidden": true
   },
   "source": [
    "The data. The data contained in data(Howell1) are partial census data for the Dobe area !Kung San, compiled from interviews conducted by Nancy Howell in the late 1960s.64 For the non-anthropologists reading along, the !Kung San are the most famous foraging population of the 20th century, largely because of detailed quantitative studies by people like Howell."
   ]
  },
  {
   "cell_type": "raw",
   "metadata": {
    "hidden": true
   },
   "source": [
    "library(rethinking) "
   ]
  },
  {
   "cell_type": "code",
   "execution_count": 7,
   "metadata": {
    "ExecuteTime": {
     "end_time": "2020-01-13T06:50:06.004851Z",
     "start_time": "2020-01-13T06:50:05.922Z"
    },
    "hidden": true
   },
   "outputs": [],
   "source": [
    "data(Howell1)\n",
    "d <- Howell1\n"
   ]
  },
  {
   "cell_type": "markdown",
   "metadata": {
    "hidden": true
   },
   "source": [
    "A data frame is a special kind of object in R. It is a table with named\n",
    "columns, corresponding to variables, and numbered rows, corresponding to individual cases."
   ]
  },
  {
   "cell_type": "code",
   "execution_count": 8,
   "metadata": {
    "ExecuteTime": {
     "end_time": "2020-01-13T06:50:08.111568Z",
     "start_time": "2020-01-13T06:50:08.056Z"
    },
    "hidden": true,
    "scrolled": false
   },
   "outputs": [
    {
     "data": {
      "text/html": [
       "<table>\n",
       "<caption>A data.frame: 6 × 4</caption>\n",
       "<thead>\n",
       "\t<tr><th scope=col>height</th><th scope=col>weight</th><th scope=col>age</th><th scope=col>male</th></tr>\n",
       "\t<tr><th scope=col>&lt;dbl&gt;</th><th scope=col>&lt;dbl&gt;</th><th scope=col>&lt;dbl&gt;</th><th scope=col>&lt;int&gt;</th></tr>\n",
       "</thead>\n",
       "<tbody>\n",
       "\t<tr><td>151.765</td><td>47.82561</td><td>63</td><td>1</td></tr>\n",
       "\t<tr><td>139.700</td><td>36.48581</td><td>63</td><td>0</td></tr>\n",
       "\t<tr><td>136.525</td><td>31.86484</td><td>65</td><td>0</td></tr>\n",
       "\t<tr><td>156.845</td><td>53.04191</td><td>41</td><td>1</td></tr>\n",
       "\t<tr><td>145.415</td><td>41.27687</td><td>51</td><td>0</td></tr>\n",
       "\t<tr><td>163.830</td><td>62.99259</td><td>35</td><td>1</td></tr>\n",
       "</tbody>\n",
       "</table>\n"
      ],
      "text/latex": [
       "A data.frame: 6 × 4\n",
       "\\begin{tabular}{r|llll}\n",
       " height & weight & age & male\\\\\n",
       " <dbl> & <dbl> & <dbl> & <int>\\\\\n",
       "\\hline\n",
       "\t 151.765 & 47.82561 & 63 & 1\\\\\n",
       "\t 139.700 & 36.48581 & 63 & 0\\\\\n",
       "\t 136.525 & 31.86484 & 65 & 0\\\\\n",
       "\t 156.845 & 53.04191 & 41 & 1\\\\\n",
       "\t 145.415 & 41.27687 & 51 & 0\\\\\n",
       "\t 163.830 & 62.99259 & 35 & 1\\\\\n",
       "\\end{tabular}\n"
      ],
      "text/markdown": [
       "\n",
       "A data.frame: 6 × 4\n",
       "\n",
       "| height &lt;dbl&gt; | weight &lt;dbl&gt; | age &lt;dbl&gt; | male &lt;int&gt; |\n",
       "|---|---|---|---|\n",
       "| 151.765 | 47.82561 | 63 | 1 |\n",
       "| 139.700 | 36.48581 | 63 | 0 |\n",
       "| 136.525 | 31.86484 | 65 | 0 |\n",
       "| 156.845 | 53.04191 | 41 | 1 |\n",
       "| 145.415 | 41.27687 | 51 | 0 |\n",
       "| 163.830 | 62.99259 | 35 | 1 |\n",
       "\n"
      ],
      "text/plain": [
       "  height  weight   age male\n",
       "1 151.765 47.82561 63  1   \n",
       "2 139.700 36.48581 63  0   \n",
       "3 136.525 31.86484 65  0   \n",
       "4 156.845 53.04191 41  1   \n",
       "5 145.415 41.27687 51  0   \n",
       "6 163.830 62.99259 35  1   "
      ]
     },
     "metadata": {},
     "output_type": "display_data"
    }
   ],
   "source": [
    "d %>% head()"
   ]
  },
  {
   "cell_type": "code",
   "execution_count": 12,
   "metadata": {
    "ExecuteTime": {
     "end_time": "2020-01-13T06:51:01.779753Z",
     "start_time": "2020-01-13T06:51:01.626Z"
    },
    "hidden": true
   },
   "outputs": [
    {
     "data": {
      "text/html": [
       "<table>\n",
       "<caption>A precis: 4 × 4</caption>\n",
       "<thead>\n",
       "\t<tr><th></th><th scope=col>mean</th><th scope=col>sd</th><th scope=col>5.5%</th><th scope=col>94.5%</th></tr>\n",
       "\t<tr><th></th><th scope=col>&lt;dbl&gt;</th><th scope=col>&lt;dbl&gt;</th><th scope=col>&lt;dbl&gt;</th><th scope=col>&lt;dbl&gt;</th></tr>\n",
       "</thead>\n",
       "<tbody>\n",
       "\t<tr><th scope=row>height</th><td>138.2635963</td><td>27.6024476</td><td>81.108550</td><td>165.73500</td></tr>\n",
       "\t<tr><th scope=row>weight</th><td> 35.6106176</td><td>14.7191782</td><td> 9.360721</td><td> 54.50289</td></tr>\n",
       "\t<tr><th scope=row>age</th><td> 29.3443934</td><td>20.7468882</td><td> 1.000000</td><td> 66.13500</td></tr>\n",
       "\t<tr><th scope=row>male</th><td>  0.4724265</td><td> 0.4996986</td><td> 0.000000</td><td>  1.00000</td></tr>\n",
       "</tbody>\n",
       "</table>\n"
      ],
      "text/latex": [
       "A precis: 4 × 4\n",
       "\\begin{tabular}{r|llll}\n",
       "  & mean & sd & 5.5\\% & 94.5\\%\\\\\n",
       "  & <dbl> & <dbl> & <dbl> & <dbl>\\\\\n",
       "\\hline\n",
       "\theight & 138.2635963 & 27.6024476 & 81.108550 & 165.73500\\\\\n",
       "\tweight &  35.6106176 & 14.7191782 &  9.360721 &  54.50289\\\\\n",
       "\tage &  29.3443934 & 20.7468882 &  1.000000 &  66.13500\\\\\n",
       "\tmale &   0.4724265 &  0.4996986 &  0.000000 &   1.00000\\\\\n",
       "\\end{tabular}\n"
      ],
      "text/markdown": [
       "\n",
       "A precis: 4 × 4\n",
       "\n",
       "| <!--/--> | mean &lt;dbl&gt; | sd &lt;dbl&gt; | 5.5% &lt;dbl&gt; | 94.5% &lt;dbl&gt; |\n",
       "|---|---|---|---|---|\n",
       "| height | 138.2635963 | 27.6024476 | 81.108550 | 165.73500 |\n",
       "| weight |  35.6106176 | 14.7191782 |  9.360721 |  54.50289 |\n",
       "| age |  29.3443934 | 20.7468882 |  1.000000 |  66.13500 |\n",
       "| male |   0.4724265 |  0.4996986 |  0.000000 |   1.00000 |\n",
       "\n"
      ],
      "text/plain": [
       "       mean        sd         5.5%      94.5%    \n",
       "height 138.2635963 27.6024476 81.108550 165.73500\n",
       "weight  35.6106176 14.7191782  9.360721  54.50289\n",
       "age     29.3443934 20.7468882  1.000000  66.13500\n",
       "male     0.4724265  0.4996986  0.000000   1.00000"
      ]
     },
     "metadata": {},
     "output_type": "display_data"
    }
   ],
   "source": [
    "precis(d, hist=FALSE)"
   ]
  },
  {
   "cell_type": "code",
   "execution_count": 10,
   "metadata": {
    "ExecuteTime": {
     "end_time": "2020-01-13T06:50:11.992531Z",
     "start_time": "2020-01-13T06:50:11.698Z"
    },
    "collapsed": true,
    "hidden": true
   },
   "outputs": [
    {
     "data": {
      "image/png": "[encoded data removed]",
      "text/plain": [
       "Plot with title \"Histogram of .\""
      ]
     },
     "metadata": {
      "image/png": {
       "height": 420,
       "width": 420
      }
     },
     "output_type": "display_data"
    },
    {
     "data": {
      "image/png": "[encoded data removed]",
      "text/plain": [
       "Plot with title \"Histogram of .\""
      ]
     },
     "metadata": {
      "image/png": {
       "height": 420,
       "width": 420
      }
     },
     "output_type": "display_data"
    },
    {
     "data": {
      "image/png": "[encoded data removed]",
      "text/plain": [
       "Plot with title \"Histogram of .\""
      ]
     },
     "metadata": {
      "image/png": {
       "height": 420,
       "width": 420
      }
     },
     "output_type": "display_data"
    },
    {
     "data": {
      "image/png": "[encoded data removed]",
      "text/plain": [
       "Plot with title \"Histogram of .\""
      ]
     },
     "metadata": {
      "image/png": {
       "height": 420,
       "width": 420
      }
     },
     "output_type": "display_data"
    }
   ],
   "source": [
    "d$height %>% hist()\n",
    "d$weight %>% hist()\n",
    "d$age %>% hist()\n",
    "d$male %>% hist()"
   ]
  },
  {
   "cell_type": "markdown",
   "metadata": {
    "hidden": true
   },
   "source": [
    "In this example, the cases are individuals. Inspect the <span style='background-color: lightgreen'>structure</span> of the data frame, the same\n",
    "way you’d inspect the structure of any symbol in R:"
   ]
  },
  {
   "cell_type": "code",
   "execution_count": 13,
   "metadata": {
    "ExecuteTime": {
     "end_time": "2020-01-13T06:51:09.033019Z",
     "start_time": "2020-01-13T06:51:08.987Z"
    },
    "hidden": true
   },
   "outputs": [
    {
     "name": "stdout",
     "output_type": "stream",
     "text": [
      "'data.frame':\t544 obs. of  4 variables:\n",
      " $ height: num  152 140 137 157 145 ...\n",
      " $ weight: num  47.8 36.5 31.9 53 41.3 ...\n",
      " $ age   : num  63 63 65 41 51 35 32 27 19 54 ...\n",
      " $ male  : int  1 0 0 1 0 1 0 1 0 1 ...\n"
     ]
    }
   ],
   "source": [
    "str(d)"
   ]
  },
  {
   "cell_type": "code",
   "execution_count": 14,
   "metadata": {
    "ExecuteTime": {
     "end_time": "2020-01-13T06:51:09.493979Z",
     "start_time": "2020-01-13T06:51:09.433Z"
    },
    "hidden": true
   },
   "outputs": [
    {
     "data": {
      "text/html": [
       "<ol class=list-inline>\n",
       "\t<li>47.8256065</li>\n",
       "\t<li>36.4858065</li>\n",
       "\t<li>31.864838</li>\n",
       "\t<li>53.0419145</li>\n",
       "\t<li>41.276872</li>\n",
       "\t<li>62.992589</li>\n",
       "</ol>\n"
      ],
      "text/latex": [
       "\\begin{enumerate*}\n",
       "\\item 47.8256065\n",
       "\\item 36.4858065\n",
       "\\item 31.864838\n",
       "\\item 53.0419145\n",
       "\\item 41.276872\n",
       "\\item 62.992589\n",
       "\\end{enumerate*}\n"
      ],
      "text/markdown": [
       "1. 47.8256065\n",
       "2. 36.4858065\n",
       "3. 31.864838\n",
       "4. 53.0419145\n",
       "5. 41.276872\n",
       "6. 62.992589\n",
       "\n",
       "\n"
      ],
      "text/plain": [
       "[1] 47.82561 36.48581 31.86484 53.04191 41.27687 62.99259"
      ]
     },
     "metadata": {},
     "output_type": "display_data"
    },
    {
     "data": {
      "text/html": [
       "<ol class=list-inline>\n",
       "\t<li>47.8256065</li>\n",
       "\t<li>36.4858065</li>\n",
       "\t<li>31.864838</li>\n",
       "\t<li>53.0419145</li>\n",
       "\t<li>41.276872</li>\n",
       "\t<li>62.992589</li>\n",
       "</ol>\n"
      ],
      "text/latex": [
       "\\begin{enumerate*}\n",
       "\\item 47.8256065\n",
       "\\item 36.4858065\n",
       "\\item 31.864838\n",
       "\\item 53.0419145\n",
       "\\item 41.276872\n",
       "\\item 62.992589\n",
       "\\end{enumerate*}\n"
      ],
      "text/markdown": [
       "1. 47.8256065\n",
       "2. 36.4858065\n",
       "3. 31.864838\n",
       "4. 53.0419145\n",
       "5. 41.276872\n",
       "6. 62.992589\n",
       "\n",
       "\n"
      ],
      "text/plain": [
       "[1] 47.82561 36.48581 31.86484 53.04191 41.27687 62.99259"
      ]
     },
     "metadata": {},
     "output_type": "display_data"
    },
    {
     "data": {
      "text/html": [
       "<ol class=list-inline>\n",
       "\t<li>47.8256065</li>\n",
       "\t<li>36.4858065</li>\n",
       "\t<li>31.864838</li>\n",
       "\t<li>53.0419145</li>\n",
       "\t<li>41.276872</li>\n",
       "\t<li>62.992589</li>\n",
       "</ol>\n"
      ],
      "text/latex": [
       "\\begin{enumerate*}\n",
       "\\item 47.8256065\n",
       "\\item 36.4858065\n",
       "\\item 31.864838\n",
       "\\item 53.0419145\n",
       "\\item 41.276872\n",
       "\\item 62.992589\n",
       "\\end{enumerate*}\n"
      ],
      "text/markdown": [
       "1. 47.8256065\n",
       "2. 36.4858065\n",
       "3. 31.864838\n",
       "4. 53.0419145\n",
       "5. 41.276872\n",
       "6. 62.992589\n",
       "\n",
       "\n"
      ],
      "text/plain": [
       "[1] 47.82561 36.48581 31.86484 53.04191 41.27687 62.99259"
      ]
     },
     "metadata": {},
     "output_type": "display_data"
    }
   ],
   "source": [
    "d$weight %>% head()\n",
    "d[[\"weight\"]] %>% head()\n",
    "d[[2]] %>% head()"
   ]
  },
  {
   "cell_type": "markdown",
   "metadata": {
    "hidden": true
   },
   "source": [
    "<font color = 'lightgrey'>**Overthinking**: Data frames. It might seem like this whole data frame thing is kind of annoying, right\n",
    "now. If we’re working with only one column here, why bother with this d thing at all? You don’t have\n",
    "to use a data frame, as you can just pass raw vectors to every command we’ll use in this book. But\n",
    "keeping related variables in the same data frame is a huge convenience. Once we have more than one\n",
    "variable, and we wish to model one as a function of the others, you’ll better see the value of the data\n",
    "frame. You won’t have to wait long.\n",
    "\n",
    "\n",
    "More technically, a data frame is a special kind of list in R. So you access the individual variables\n",
    "with the usual list “double bracket” notation, like d[[1]] for the first variable or d[['x']] for the\n",
    "variable named x. Unlike regular lists, however, data frames force all variables to have the same length.\n",
    "That isn’t always a good thing. And that’s why some statistical packages, like the powerful Stan Markov\n",
    "chain sampler (mc-stan.org), accept plain lists of data, rather than proper data frames.</font>"
   ]
  },
  {
   "cell_type": "markdown",
   "metadata": {
    "hidden": true
   },
   "source": [
    "All we want for now are heights of adults in the sample. The reason to filter out non-\n",
    "adults for now is that height is strongly correlated with age, before adulthood. Later in the\n",
    "chapter, I’ll ask you to tackle the age problem. But for now, better to postpone it. You can\n",
    "filter the data frame down to individuals of age 18 or greater with:"
   ]
  },
  {
   "cell_type": "code",
   "execution_count": 15,
   "metadata": {
    "ExecuteTime": {
     "end_time": "2020-01-13T06:51:18.188374Z",
     "start_time": "2020-01-13T06:51:18.136Z"
    },
    "code_folding": [],
    "hidden": true
   },
   "outputs": [
    {
     "name": "stdout",
     "output_type": "stream",
     "text": [
      "'data.frame':\t352 obs. of  4 variables:\n",
      " $ height: num  152 140 137 157 145 ...\n",
      " $ weight: num  47.8 36.5 31.9 53 41.3 ...\n",
      " $ age   : num  63 63 65 41 51 35 32 27 19 54 ...\n",
      " $ male  : int  1 0 0 1 0 1 0 1 0 1 ...\n"
     ]
    }
   ],
   "source": [
    "d2 <- d[ d$age >= 18 , ]; d2 %>% str()"
   ]
  },
  {
   "cell_type": "code",
   "execution_count": 16,
   "metadata": {
    "ExecuteTime": {
     "end_time": "2020-01-13T06:51:18.735778Z",
     "start_time": "2020-01-13T06:51:18.672Z"
    },
    "hidden": true
   },
   "outputs": [
    {
     "name": "stdout",
     "output_type": "stream",
     "text": [
      "'data.frame':\t352 obs. of  4 variables:\n",
      " $ height: num  152 140 137 157 145 ...\n",
      " $ weight: num  47.8 36.5 31.9 53 41.3 ...\n",
      " $ age   : num  63 63 65 41 51 35 32 27 19 54 ...\n",
      " $ male  : int  1 0 0 1 0 1 0 1 0 1 ...\n"
     ]
    }
   ],
   "source": [
    "d %>% filter(age >= 18) %>% str()"
   ]
  },
  {
   "cell_type": "markdown",
   "metadata": {
    "heading_collapsed": true
   },
   "source": [
    "### <font color = 'red'>**THE MODEL**</font>"
   ]
  },
  {
   "cell_type": "markdown",
   "metadata": {
    "hidden": true
   },
   "source": [
    "Our goal is to model these values using a Gaussian distribution. First, go ahead and plot the distribution of heights, with dens(d2$height). These data look rather Gaussian in shape, as is typical of height data. This may be because height is a sum of many small growth factors. As you saw at the start of the chapter, a distribution of sums tends to converge to a Gaussian distribution. Whatever the reason, adult heights are nearly always approximately normal."
   ]
  },
  {
   "cell_type": "code",
   "execution_count": 18,
   "metadata": {
    "ExecuteTime": {
     "end_time": "2020-01-13T06:51:27.151767Z",
     "start_time": "2020-01-13T06:51:27.055Z"
    },
    "cell_style": "center",
    "hidden": true
   },
   "outputs": [
    {
     "data": {
      "image/png": "[encoded data removed]",
      "text/plain": [
       "Plot with title \"\""
      ]
     },
     "metadata": {
      "image/png": {
       "height": 420,
       "width": 420
      }
     },
     "output_type": "display_data"
    }
   ],
   "source": [
    "d2$height %>% dens()"
   ]
  },
  {
   "cell_type": "raw",
   "metadata": {
    "ExecuteTime": {
     "end_time": "2020-01-13T06:51:28.116513Z",
     "start_time": "2020-01-13T06:51:27.597Z"
    },
    "hidden": true
   },
   "source": [
    "help(curve)"
   ]
  },
  {
   "cell_type": "markdown",
   "metadata": {
    "cell_style": "center",
    "hidden": true
   },
   "source": [
    "So it’s reasonable for the moment to adopt the stance that the model’s likelihood should be Gaussian. <font color = 'red'>But be careful about choosing the Gaussian distribution only when the plotted outcome variable looks Gaussian to you.</font> Gawking at the raw data, to try to decide how to model them, is usually not a good idea. The data could be a mixture of different Gaussian distributions, for example, and in that case you won’t be able to detect the underlying normality just by eyeballing the outcome distribution. Furthermore, as mentioned earlier in this chapter, the empirical distribution needn’t be actually Gaussian in order to justify using a Gaussian likelihood."
   ]
  },
  {
   "cell_type": "markdown",
   "metadata": {
    "cell_style": "center",
    "hidden": true
   },
   "source": [
    "So which Gaussian distribution? There are an infinite number of them, with an infinite number of different means and standard deviations. We’re ready to write down the general model and compute the plausibility of each combination of µ and σ. <font color = 'green'>To define the heights as normally distributed with a mean µ and standard deviation σ, we write:\n",
    "\n",
    "$h_i \\sim Normal(\\mu,\\sigma)$</font>"
   ]
  },
  {
   "cell_type": "markdown",
   "metadata": {
    "hidden": true
   },
   "source": [
    "In many books you’ll see the same model written as $h_i ∼ N (µ, σ)$, which means the same thing. \n",
    "\n",
    "* The symbol h refers to the list of heights, and the subscript i means each individual element of this list. \n",
    "\n",
    "It is conventional to use i because it stands for index. The index i takes on row numbers, and so in this example can take any value from 1 to 352 (the number of heights in d2$height). As such, the model above is saying that all the golem knows about each height measurement is defined by the same normal distribution, with mean µ and standard deviation σ. Before long, those little i’s are going to show up on the right-hand side of the model definition, and you’ll be able to see why we must bother with them. So don’t ignore the i, even if it seems like useless ornamentation right now."
   ]
  },
  {
   "cell_type": "markdown",
   "metadata": {
    "hidden": true
   },
   "source": [
    "<font color = 'lightgrey'>**Rethinking**: Independent and identically distributed. The short model above is sometimes described as assuming that the values $h_i$ are independent and identically distributed, which may be abbreviated i.i.d., iid, or IID. You might even see the same model written: \n",
    "\n",
    "$h_i \\overset{iid}{\\sim}$ Normal(µ, σ). \n",
    "\n",
    "* “iid” indicates that each value $h_i$ has the same probability function, independent of the other h values and using the same parameters. \n",
    "\n",
    "A moment’s reflection tells us that this is hardly ever true, in a physical sense. Whether measuring the same distance repeatedly or studying a population of heights, it is hard to argue that every measurement is independent of the others. \n",
    "\n",
    "* <font color = 'lightgrey'>For example, heights within families are correlated because of alleles shared through recent shared ancestry. </font>\n",
    "\n",
    "The i.i.d. assumption doesn’t have to seem awkward, however, as long as you remember that probability is inside the golem, not outside in the world. \n",
    "* The i.i.d. assumption is about how the golem represents its uncertainty. It is an epistemological assumption. It is not a physical assumption about the world, an ontological one, unless you insist that it is. <font color = 'lightgrey'>E. T. Jaynes (1922–1998) called this the mind projection fallacy, the mistake of confusing epistemological claims with ontological claims.</font> \n",
    "\n",
    "* The point isn’t to say epistemology trumps reality, but rather that in ignorance of such correlations the most conservative distribution to use is i.i.d. \n",
    "\n",
    "This issue will return in Chapter 9. Furthermore, there is a mathematical result known as de Finetti’s theorem that tells us that values which are exchangeable can be approximated by mixtures of i.i.d. distributions. Colloquially, exchangeable values can be reordered. The practical impact of this is that “i.i.d.” as an assumption cannot be read too literally, as different process models again correspond to the same statistical model (as argued in Chapter 1). Even furthermore, there are many types of correlation that do little or nothing to the overall shape of a distribution, but only affect the precise sequence in which values appear. For example, pairs of sisters have highly correlated heights. But the overall distribution of female height remains almost perfectly normal. In such cases, i.i.d. remains perfectly useful, despite ignoring the correlations. Consider for example that Markov chain Monte Carlo (Chapter 8) can use highly correlated sequential samples to estimate most any iid distribution we like.</font>"
   ]
  },
  {
   "cell_type": "markdown",
   "metadata": {
    "hidden": true
   },
   "source": [
    "To complete the model, we’re going to need some priors. <font color = 'green'>The parameters to be estimated are both µ and σ, so we need a prior Pr(µ, σ), the joint prior probability for all parameters</font>. In most cases, priors are specified independently for each parameter, which amounts to assuming Pr(µ, σ) = Pr(µ) Pr(σ). Then we can write:\n",
    "\n",
    "$h_i$ ∼ Normal(µ, σ) [likelihood]\n",
    "\n",
    "µ ∼ Normal(178, 20) [µ prior]\n",
    "\n",
    "σ ∼ Uniform(0, 50) [σ prior]"
   ]
  },
  {
   "cell_type": "markdown",
   "metadata": {
    "hidden": true
   },
   "source": [
    "The labels on the right are not part of the model, but instead just notes to help you keep track\n",
    "of the purpose of each line. The prior for µ is a broad Gaussian prior, centered on 178cm,\n",
    "with 95% of probability between 178 ± 40."
   ]
  },
  {
   "cell_type": "markdown",
   "metadata": {
    "hidden": true
   },
   "source": [
    "Why 178 cm? Your author is 178 cm tall. And the range from 138 cm to 218 cm encompasses a huge range of plausible mean heights for human populations. So domain-specific information has gone into this prior. Everyone knows something about human height and can set a reasonable and vague prior of this kind. But in many regression problems, as you’ll see later, using prior information is more subtle, because parameters don’t always have such clear physical meaning."
   ]
  },
  {
   "cell_type": "markdown",
   "metadata": {
    "hidden": true
   },
   "source": [
    "Whatever the prior, it’s a very good idea to plot your priors, so you have a sense of the\n",
    "assumption they build into the model. In this case:"
   ]
  },
  {
   "cell_type": "code",
   "execution_count": 20,
   "metadata": {
    "ExecuteTime": {
     "end_time": "2020-01-13T06:51:46.110535Z",
     "start_time": "2020-01-13T06:51:46.022Z"
    },
    "cell_style": "center",
    "hidden": true
   },
   "outputs": [
    {
     "data": {
      "image/png": "[encoded data removed]",
      "text/plain": [
       "plot without title"
      ]
     },
     "metadata": {
      "image/png": {
       "height": 420,
       "width": 420
      }
     },
     "output_type": "display_data"
    }
   ],
   "source": [
    " curve( dnorm( x , 178 , 20 ) , from=100 , to=250 )"
   ]
  },
  {
   "cell_type": "markdown",
   "metadata": {
    "cell_style": "center",
    "hidden": true
   },
   "source": [
    "Execute that code yourself, to see that the golem is assuming that the average height (not\n",
    "each individual height) is almost certainly between 140 cm and 220 cm. So this prior carries\n",
    "a little information, but not a lot. The σ prior is a truly flat prior, a uniform one, that functions\n",
    "just to constrain σ to have positive probability between zero and 50cm. View it with:"
   ]
  },
  {
   "cell_type": "code",
   "execution_count": 21,
   "metadata": {
    "ExecuteTime": {
     "end_time": "2020-01-13T06:51:47.593258Z",
     "start_time": "2020-01-13T06:51:47.501Z"
    },
    "cell_style": "center",
    "hidden": true
   },
   "outputs": [
    {
     "data": {
      "image/png": "[encoded data removed]",
      "text/plain": [
       "plot without title"
      ]
     },
     "metadata": {
      "image/png": {
       "height": 420,
       "width": 420
      }
     },
     "output_type": "display_data"
    }
   ],
   "source": [
    "curve( dunif( x , 0 , 50 ) , from=-10 , to=60 )"
   ]
  },
  {
   "cell_type": "markdown",
   "metadata": {
    "hidden": true
   },
   "source": [
    "A standard deviation like σ must be positive, so bounding it at zero makes sense. <font color = 'purple'>How should we pick the upper bound?</font> \n",
    "\n",
    "In this case, a standard deviation of 50cm would imply that 95% of individual heights lie within 100cm of the average height. That’s a very large range. \n",
    "\n",
    "All this talk is nice, but it’ll help to really see what these priors imply about the distribution of individual heights. You didn’t specify a prior probability distribution of heights directly, but once you’ve chosen priors for µ and σ, these imply a prior distribution of individual heights. You can quickly simulate heights by sampling from the prior, like you sampled from the posterior back in Chapter 3. <font color = 'blue'>Remember, every posterior is also potentially a prior for a subsequent analysis, so you can process priors just like posteriors.</font>"
   ]
  },
  {
   "cell_type": "code",
   "execution_count": 22,
   "metadata": {
    "ExecuteTime": {
     "end_time": "2020-01-13T06:51:49.696895Z",
     "start_time": "2020-01-13T06:51:49.390Z"
    },
    "cell_style": "center",
    "collapsed": true,
    "hidden": true
   },
   "outputs": [
    {
     "data": {
      "image/png": "[encoded data removed]",
      "text/plain": [
       "Plot with title \"\""
      ]
     },
     "metadata": {
      "image/png": {
       "height": 420,
       "width": 420
      }
     },
     "output_type": "display_data"
    },
    {
     "data": {
      "image/png": "[encoded data removed]",
      "text/plain": [
       "plot without title"
      ]
     },
     "metadata": {
      "image/png": {
       "height": 420,
       "width": 420
      }
     },
     "output_type": "display_data"
    },
    {
     "data": {
      "image/png": "[encoded data removed]",
      "text/plain": [
       "Plot with title \"Histogram of .\""
      ]
     },
     "metadata": {
      "image/png": {
       "height": 420,
       "width": 420
      }
     },
     "output_type": "display_data"
    }
   ],
   "source": [
    "sample_mu <- rnorm( 1e4 , 178 , 20 ) \n",
    "sample_sigma <- runif( 1e4 , 0 , 50 )\n",
    "prior_h <- rnorm( 1e4 , sample_mu , sample_sigma )\n",
    "# prior_h <- sample 10,000 values from 10,000 different distributions\n",
    "dens( prior_h )\n",
    "\n",
    "simplehist(prior_h)\n",
    "prior_h %>% hist()"
   ]
  },
  {
   "cell_type": "markdown",
   "metadata": {
    "hidden": true
   },
   "source": [
    "dens( prior_h ) is not a normal distribution. <font color = 'blue'>It's more akin to a T-distribution because you have uncertainty about the standard deviation so you get these fat tails</font>."
   ]
  },
  {
   "cell_type": "code",
   "execution_count": 26,
   "metadata": {
    "ExecuteTime": {
     "end_time": "2020-01-13T15:44:21.830343Z",
     "start_time": "2020-01-13T15:44:21.772Z"
    },
    "hidden": true
   },
   "outputs": [
    {
     "name": "stdout",
     "output_type": "stream",
     "text": [
      " num [1:10000] 128 200 173 190 166 ...\n",
      " num [1:10000] 27.4 11 13.6 34.5 26.8 ...\n",
      " num [1:10000] 115 202 153 162 172 ...\n"
     ]
    }
   ],
   "source": [
    "sample_mu %>% glimpse\n",
    "sample_sigma %>% glimpse\n",
    "prior_h %>% glimpse"
   ]
  },
  {
   "cell_type": "code",
   "execution_count": 41,
   "metadata": {
    "ExecuteTime": {
     "end_time": "2020-01-13T17:03:36.024286Z",
     "start_time": "2020-01-13T17:03:35.970Z"
    },
    "hidden": true
   },
   "outputs": [
    {
     "data": {
      "text/html": [
       "<ol class=list-inline>\n",
       "\t<li>0.701137255262604</li>\n",
       "\t<li>8.90581728663216</li>\n",
       "\t<li>-0.553737715255742</li>\n",
       "\t<li>9.13858289577343</li>\n",
       "</ol>\n"
      ],
      "text/latex": [
       "\\begin{enumerate*}\n",
       "\\item 0.701137255262604\n",
       "\\item 8.90581728663216\n",
       "\\item -0.553737715255742\n",
       "\\item 9.13858289577343\n",
       "\\end{enumerate*}\n"
      ],
      "text/markdown": [
       "1. 0.701137255262604\n",
       "2. 8.90581728663216\n",
       "3. -0.553737715255742\n",
       "4. 9.13858289577343\n",
       "\n",
       "\n"
      ],
      "text/plain": [
       "[1]  0.7011373  8.9058173 -0.5537377  9.1385829"
      ]
     },
     "metadata": {},
     "output_type": "display_data"
    }
   ],
   "source": [
    "rnorm(4, c(0,10), c(1,1))"
   ]
  },
  {
   "cell_type": "code",
   "execution_count": 31,
   "metadata": {
    "hidden": true
   },
   "outputs": [
    {
     "data": {
      "image/png": "[encoded data removed]",
      "text/plain": [
       "Plot with title \"\""
      ]
     },
     "metadata": {
      "image/png": {
       "height": 420,
       "width": 420
      },
      "text/plain": {
       "height": 420,
       "width": 420
      }
     },
     "output_type": "display_data"
    }
   ],
   "source": [
    "# consequence of too wide a prior\n",
    "sample_mu <- rnorm( 1e4 , 178 , 100 ) \n",
    "prior_h <- rnorm( 1e4 , sample_mu , sample_sigma )\n",
    "dens( prior_h ); abline(v=0, col='red')"
   ]
  },
  {
   "cell_type": "code",
   "execution_count": 26,
   "metadata": {
    "cell_style": "split",
    "hidden": true
   },
   "outputs": [
    {
     "data": {
      "image/png": "[encoded data removed]",
      "text/plain": [
       "Plot with title \"Histogram of sample_mu\""
      ]
     },
     "metadata": {
      "image/png": {
       "height": 420,
       "width": 420
      },
      "text/plain": {
       "height": 420,
       "width": 420
      }
     },
     "output_type": "display_data"
    }
   ],
   "source": [
    "hist(sample_mu)"
   ]
  },
  {
   "cell_type": "markdown",
   "metadata": {
    "hidden": true
   },
   "source": [
    "<font color = 'lightgrey'>dnorm gives the density, pnorm gives the distribution function, qnorm gives the quantile function, and rnorm generates random deviates.</font>"
   ]
  },
  {
   "cell_type": "markdown",
   "metadata": {
    "hidden": true
   },
   "source": [
    "<font color = 'lightgrey'>These functions provide information about the uniform distribution on the interval from min to max.  dunif gives the density, punif gives the distribution function qunif gives the quantile function and runif generates random deviates.</font>"
   ]
  },
  {
   "cell_type": "markdown",
   "metadata": {
    "hidden": true
   },
   "source": [
    "The density plot you get shows a vaguely bell-shaped density with thick tails. It is the expected distribution of heights, averaged over the prior. Notice that the prior probability distribution of height is not itself Gaussian. This is okay. The distribution you see is not an empirical expectation, but rather the distribution of relative plausibilities of different heights, before seeing the data. \n",
    "\n",
    "Play around with the numbers in the priors above, to explore their effects on the prior probability density of heights."
   ]
  },
  {
   "cell_type": "markdown",
   "metadata": {
    "hidden": true
   },
   "source": [
    "<img src='pics/SR_a17.png' alt='Drawing' style='width: 450pt'/>"
   ]
  },
  {
   "cell_type": "markdown",
   "metadata": {
    "hidden": true
   },
   "source": [
    "<img src='pics/SR_a20.png' alt='Drawing' style='width: 450pt'/>"
   ]
  },
  {
   "cell_type": "markdown",
   "metadata": {
    "hidden": true
   },
   "source": [
    "<img src='pics/SR_a19.png' alt='Drawing' style='width: 450pt'/>"
   ]
  },
  {
   "cell_type": "markdown",
   "metadata": {},
   "source": [
    "### <font color = 'red'>**GRID APPROXIMATION OF THE POSTERIOR DISTRIBUTION**</font>"
   ]
  },
  {
   "cell_type": "markdown",
   "metadata": {},
   "source": [
    "<font color = 'lightgrey'>Since this is the first Gaussian model in the book, and indeed the first model with more than one parameter, it’s worth quickly mapping out the posterior distribution through brute force calculations. This isn’t the approach I encourage in any other place, because it is laborious and computationally expensive. Indeed, it is usually so impractical as to be essentially impossible. But as always, it is worth knowing what the target actually looks like, before you start accepting approximations of it. A little later in this chapter, you’ll use quadratic approximation to estimate the posterior distribution, and that’s the approach you’ll use for several chapters more. Once you have the samples you’ll produce in this subsection, you can compare them to the quadratic approximation in the next.\n",
    "\n",
    "Unfortunately, doing the calculations here requires some technical tricks that add little, if any, conceptual insight. So I’m going to present the code here without explanation. You can execute it and keep going for now, but later return and follow the endnote for an explanation of the algorithm.67 For now, here are the guts of the golem:</font>"
   ]
  },
  {
   "cell_type": "code",
   "execution_count": 13,
   "metadata": {
    "collapsed": true
   },
   "outputs": [
    {
     "data": {
      "text/html": [
       "<table>\n",
       "<caption>A data.frame: 40000 × 2</caption>\n",
       "<thead>\n",
       "\t<tr><th scope=col>mu</th><th scope=col>sigma</th></tr>\n",
       "\t<tr><th scope=col>&lt;dbl&gt;</th><th scope=col>&lt;dbl&gt;</th></tr>\n",
       "</thead>\n",
       "<tbody>\n",
       "\t<tr><td>1.000000</td><td>4</td></tr>\n",
       "\t<tr><td>1.045226</td><td>4</td></tr>\n",
       "\t<tr><td>1.090452</td><td>4</td></tr>\n",
       "\t<tr><td>1.135678</td><td>4</td></tr>\n",
       "\t<tr><td>1.180905</td><td>4</td></tr>\n",
       "\t<tr><td>1.226131</td><td>4</td></tr>\n",
       "\t<tr><td>1.271357</td><td>4</td></tr>\n",
       "\t<tr><td>1.316583</td><td>4</td></tr>\n",
       "\t<tr><td>1.361809</td><td>4</td></tr>\n",
       "\t<tr><td>1.407035</td><td>4</td></tr>\n",
       "\t<tr><td>1.452261</td><td>4</td></tr>\n",
       "\t<tr><td>1.497487</td><td>4</td></tr>\n",
       "\t<tr><td>1.542714</td><td>4</td></tr>\n",
       "\t<tr><td>1.587940</td><td>4</td></tr>\n",
       "\t<tr><td>1.633166</td><td>4</td></tr>\n",
       "\t<tr><td>1.678392</td><td>4</td></tr>\n",
       "\t<tr><td>1.723618</td><td>4</td></tr>\n",
       "\t<tr><td>1.768844</td><td>4</td></tr>\n",
       "\t<tr><td>1.814070</td><td>4</td></tr>\n",
       "\t<tr><td>1.859296</td><td>4</td></tr>\n",
       "\t<tr><td>1.904523</td><td>4</td></tr>\n",
       "\t<tr><td>1.949749</td><td>4</td></tr>\n",
       "\t<tr><td>1.994975</td><td>4</td></tr>\n",
       "\t<tr><td>2.040201</td><td>4</td></tr>\n",
       "\t<tr><td>2.085427</td><td>4</td></tr>\n",
       "\t<tr><td>2.130653</td><td>4</td></tr>\n",
       "\t<tr><td>2.175879</td><td>4</td></tr>\n",
       "\t<tr><td>2.221106</td><td>4</td></tr>\n",
       "\t<tr><td>2.266332</td><td>4</td></tr>\n",
       "\t<tr><td>2.311558</td><td>4</td></tr>\n",
       "\t<tr><td>...</td><td>...</td></tr>\n",
       "\t<tr><td> 8.688442</td><td>9</td></tr>\n",
       "\t<tr><td> 8.733668</td><td>9</td></tr>\n",
       "\t<tr><td> 8.778894</td><td>9</td></tr>\n",
       "\t<tr><td> 8.824121</td><td>9</td></tr>\n",
       "\t<tr><td> 8.869347</td><td>9</td></tr>\n",
       "\t<tr><td> 8.914573</td><td>9</td></tr>\n",
       "\t<tr><td> 8.959799</td><td>9</td></tr>\n",
       "\t<tr><td> 9.005025</td><td>9</td></tr>\n",
       "\t<tr><td> 9.050251</td><td>9</td></tr>\n",
       "\t<tr><td> 9.095477</td><td>9</td></tr>\n",
       "\t<tr><td> 9.140704</td><td>9</td></tr>\n",
       "\t<tr><td> 9.185930</td><td>9</td></tr>\n",
       "\t<tr><td> 9.231156</td><td>9</td></tr>\n",
       "\t<tr><td> 9.276382</td><td>9</td></tr>\n",
       "\t<tr><td> 9.321608</td><td>9</td></tr>\n",
       "\t<tr><td> 9.366834</td><td>9</td></tr>\n",
       "\t<tr><td> 9.412060</td><td>9</td></tr>\n",
       "\t<tr><td> 9.457286</td><td>9</td></tr>\n",
       "\t<tr><td> 9.502513</td><td>9</td></tr>\n",
       "\t<tr><td> 9.547739</td><td>9</td></tr>\n",
       "\t<tr><td> 9.592965</td><td>9</td></tr>\n",
       "\t<tr><td> 9.638191</td><td>9</td></tr>\n",
       "\t<tr><td> 9.683417</td><td>9</td></tr>\n",
       "\t<tr><td> 9.728643</td><td>9</td></tr>\n",
       "\t<tr><td> 9.773869</td><td>9</td></tr>\n",
       "\t<tr><td> 9.819095</td><td>9</td></tr>\n",
       "\t<tr><td> 9.864322</td><td>9</td></tr>\n",
       "\t<tr><td> 9.909548</td><td>9</td></tr>\n",
       "\t<tr><td> 9.954774</td><td>9</td></tr>\n",
       "\t<tr><td>10.000000</td><td>9</td></tr>\n",
       "</tbody>\n",
       "</table>\n"
      ],
      "text/latex": [
       "A data.frame: 40000 × 2\n",
       "\\begin{tabular}{r|ll}\n",
       " mu & sigma\\\\\n",
       " <dbl> & <dbl>\\\\\n",
       "\\hline\n",
       "\t 1.000000 & 4\\\\\n",
       "\t 1.045226 & 4\\\\\n",
       "\t 1.090452 & 4\\\\\n",
       "\t 1.135678 & 4\\\\\n",
       "\t 1.180905 & 4\\\\\n",
       "\t 1.226131 & 4\\\\\n",
       "\t 1.271357 & 4\\\\\n",
       "\t 1.316583 & 4\\\\\n",
       "\t 1.361809 & 4\\\\\n",
       "\t 1.407035 & 4\\\\\n",
       "\t 1.452261 & 4\\\\\n",
       "\t 1.497487 & 4\\\\\n",
       "\t 1.542714 & 4\\\\\n",
       "\t 1.587940 & 4\\\\\n",
       "\t 1.633166 & 4\\\\\n",
       "\t 1.678392 & 4\\\\\n",
       "\t 1.723618 & 4\\\\\n",
       "\t 1.768844 & 4\\\\\n",
       "\t 1.814070 & 4\\\\\n",
       "\t 1.859296 & 4\\\\\n",
       "\t 1.904523 & 4\\\\\n",
       "\t 1.949749 & 4\\\\\n",
       "\t 1.994975 & 4\\\\\n",
       "\t 2.040201 & 4\\\\\n",
       "\t 2.085427 & 4\\\\\n",
       "\t 2.130653 & 4\\\\\n",
       "\t 2.175879 & 4\\\\\n",
       "\t 2.221106 & 4\\\\\n",
       "\t 2.266332 & 4\\\\\n",
       "\t 2.311558 & 4\\\\\n",
       "\t ... & ...\\\\\n",
       "\t  8.688442 & 9\\\\\n",
       "\t  8.733668 & 9\\\\\n",
       "\t  8.778894 & 9\\\\\n",
       "\t  8.824121 & 9\\\\\n",
       "\t  8.869347 & 9\\\\\n",
       "\t  8.914573 & 9\\\\\n",
       "\t  8.959799 & 9\\\\\n",
       "\t  9.005025 & 9\\\\\n",
       "\t  9.050251 & 9\\\\\n",
       "\t  9.095477 & 9\\\\\n",
       "\t  9.140704 & 9\\\\\n",
       "\t  9.185930 & 9\\\\\n",
       "\t  9.231156 & 9\\\\\n",
       "\t  9.276382 & 9\\\\\n",
       "\t  9.321608 & 9\\\\\n",
       "\t  9.366834 & 9\\\\\n",
       "\t  9.412060 & 9\\\\\n",
       "\t  9.457286 & 9\\\\\n",
       "\t  9.502513 & 9\\\\\n",
       "\t  9.547739 & 9\\\\\n",
       "\t  9.592965 & 9\\\\\n",
       "\t  9.638191 & 9\\\\\n",
       "\t  9.683417 & 9\\\\\n",
       "\t  9.728643 & 9\\\\\n",
       "\t  9.773869 & 9\\\\\n",
       "\t  9.819095 & 9\\\\\n",
       "\t  9.864322 & 9\\\\\n",
       "\t  9.909548 & 9\\\\\n",
       "\t  9.954774 & 9\\\\\n",
       "\t 10.000000 & 9\\\\\n",
       "\\end{tabular}\n"
      ],
      "text/markdown": [
       "\n",
       "A data.frame: 40000 × 2\n",
       "\n",
       "| mu &lt;dbl&gt; | sigma &lt;dbl&gt; |\n",
       "|---|---|\n",
       "| 1.000000 | 4 |\n",
       "| 1.045226 | 4 |\n",
       "| 1.090452 | 4 |\n",
       "| 1.135678 | 4 |\n",
       "| 1.180905 | 4 |\n",
       "| 1.226131 | 4 |\n",
       "| 1.271357 | 4 |\n",
       "| 1.316583 | 4 |\n",
       "| 1.361809 | 4 |\n",
       "| 1.407035 | 4 |\n",
       "| 1.452261 | 4 |\n",
       "| 1.497487 | 4 |\n",
       "| 1.542714 | 4 |\n",
       "| 1.587940 | 4 |\n",
       "| 1.633166 | 4 |\n",
       "| 1.678392 | 4 |\n",
       "| 1.723618 | 4 |\n",
       "| 1.768844 | 4 |\n",
       "| 1.814070 | 4 |\n",
       "| 1.859296 | 4 |\n",
       "| 1.904523 | 4 |\n",
       "| 1.949749 | 4 |\n",
       "| 1.994975 | 4 |\n",
       "| 2.040201 | 4 |\n",
       "| 2.085427 | 4 |\n",
       "| 2.130653 | 4 |\n",
       "| 2.175879 | 4 |\n",
       "| 2.221106 | 4 |\n",
       "| 2.266332 | 4 |\n",
       "| 2.311558 | 4 |\n",
       "| ... | ... |\n",
       "|  8.688442 | 9 |\n",
       "|  8.733668 | 9 |\n",
       "|  8.778894 | 9 |\n",
       "|  8.824121 | 9 |\n",
       "|  8.869347 | 9 |\n",
       "|  8.914573 | 9 |\n",
       "|  8.959799 | 9 |\n",
       "|  9.005025 | 9 |\n",
       "|  9.050251 | 9 |\n",
       "|  9.095477 | 9 |\n",
       "|  9.140704 | 9 |\n",
       "|  9.185930 | 9 |\n",
       "|  9.231156 | 9 |\n",
       "|  9.276382 | 9 |\n",
       "|  9.321608 | 9 |\n",
       "|  9.366834 | 9 |\n",
       "|  9.412060 | 9 |\n",
       "|  9.457286 | 9 |\n",
       "|  9.502513 | 9 |\n",
       "|  9.547739 | 9 |\n",
       "|  9.592965 | 9 |\n",
       "|  9.638191 | 9 |\n",
       "|  9.683417 | 9 |\n",
       "|  9.728643 | 9 |\n",
       "|  9.773869 | 9 |\n",
       "|  9.819095 | 9 |\n",
       "|  9.864322 | 9 |\n",
       "|  9.909548 | 9 |\n",
       "|  9.954774 | 9 |\n",
       "| 10.000000 | 9 |\n",
       "\n"
      ],
      "text/plain": [
       "      mu        sigma\n",
       "1     1.000000  4    \n",
       "2     1.045226  4    \n",
       "3     1.090452  4    \n",
       "4     1.135678  4    \n",
       "5     1.180905  4    \n",
       "6     1.226131  4    \n",
       "7     1.271357  4    \n",
       "8     1.316583  4    \n",
       "9     1.361809  4    \n",
       "10    1.407035  4    \n",
       "11    1.452261  4    \n",
       "12    1.497487  4    \n",
       "13    1.542714  4    \n",
       "14    1.587940  4    \n",
       "15    1.633166  4    \n",
       "16    1.678392  4    \n",
       "17    1.723618  4    \n",
       "18    1.768844  4    \n",
       "19    1.814070  4    \n",
       "20    1.859296  4    \n",
       "21    1.904523  4    \n",
       "22    1.949749  4    \n",
       "23    1.994975  4    \n",
       "24    2.040201  4    \n",
       "25    2.085427  4    \n",
       "26    2.130653  4    \n",
       "27    2.175879  4    \n",
       "28    2.221106  4    \n",
       "29    2.266332  4    \n",
       "30    2.311558  4    \n",
       "...   ...       ...  \n",
       "39971  8.688442 9    \n",
       "39972  8.733668 9    \n",
       "39973  8.778894 9    \n",
       "39974  8.824121 9    \n",
       "39975  8.869347 9    \n",
       "39976  8.914573 9    \n",
       "39977  8.959799 9    \n",
       "39978  9.005025 9    \n",
       "39979  9.050251 9    \n",
       "39980  9.095477 9    \n",
       "39981  9.140704 9    \n",
       "39982  9.185930 9    \n",
       "39983  9.231156 9    \n",
       "39984  9.276382 9    \n",
       "39985  9.321608 9    \n",
       "39986  9.366834 9    \n",
       "39987  9.412060 9    \n",
       "39988  9.457286 9    \n",
       "39989  9.502513 9    \n",
       "39990  9.547739 9    \n",
       "39991  9.592965 9    \n",
       "39992  9.638191 9    \n",
       "39993  9.683417 9    \n",
       "39994  9.728643 9    \n",
       "39995  9.773869 9    \n",
       "39996  9.819095 9    \n",
       "39997  9.864322 9    \n",
       "39998  9.909548 9    \n",
       "39999  9.954774 9    \n",
       "40000 10.000000 9    "
      ]
     },
     "metadata": {},
     "output_type": "display_data"
    }
   ],
   "source": [
    "mu.list <- seq(from=1 , to=10 , length.out=200)\n",
    "sigma.list <- seq(from=4 , to=9 , length.out=200)\n",
    "post <- expand.grid(mu=mu.list , sigma=sigma.list)\n",
    "post"
   ]
  },
  {
   "cell_type": "code",
   "execution_count": 49,
   "metadata": {
    "ExecuteTime": {
     "end_time": "2020-01-13T20:12:30.549751Z",
     "start_time": "2020-01-13T20:12:28.923Z"
    },
    "code_folding": []
   },
   "outputs": [],
   "source": [
    "#1\n",
    "mu.list <- seq(from=140 , to=160 , length.out=200)\n",
    "\n",
    "#2\n",
    "sigma.list <- seq(from=4 , to=9 , length.out=200)\n",
    "\n",
    "#3\n",
    "post <- expand.grid(mu=mu.list , sigma=sigma.list)\n",
    "# creates list of unique combinations of mu.list and sigma.list items\n",
    "# size = 200*200\n",
    "\n",
    "# post %>% head()\n",
    "# post %>% str()\n",
    "# post %>% summary()\n",
    "\n",
    "#4: calc log-likelihood at each combination of µ and σ\n",
    "#   log-likelihood: magnitude of plausibility\n",
    "#   calculates densities for all 352 height points with every\n",
    "#   combination of mu and sigma, then sums them all. \n",
    "#   Combinations of mu and sigma that are more aligned with 352 points\n",
    "#   are given higher likelihood.\n",
    "\n",
    "#   dnorm gives the prob density (height of points in\n",
    "#   distribution implied by mu and sigma)\n",
    "#   \n",
    "\n",
    "post$LL <- sapply(1:nrow(post) , function(i) \n",
    "                sum( \n",
    "                    dnorm(d2$height, \n",
    "                          mean=post$mu[i], sd=post$sigma[i], \n",
    "                          log=TRUE)\n",
    "                )\n",
    "            ) \n",
    "\n",
    "#5: multiply the prior by the likelihood to get the product \n",
    "#   that is proportional to the posterior density.\n",
    "\n",
    "post$prod <- post$LL + dnorm( post$mu , 178 , 20 , TRUE ) + \n",
    "    dunif( post$sigma , 0 , 50 , TRUE )\n",
    "\n",
    "post$prob <- exp( post$prod - max(post$prod) )"
   ]
  },
  {
   "cell_type": "code",
   "execution_count": 72,
   "metadata": {
    "collapsed": true
   },
   "outputs": [
    {
     "data": {
      "text/html": [
       "<ol class=list-inline>\n",
       "\t<li>-3.91202300542815</li>\n",
       "\t<li>-3.91202300542815</li>\n",
       "\t<li>-3.91202300542815</li>\n",
       "\t<li>-3.91202300542815</li>\n",
       "\t<li>-3.91202300542815</li>\n",
       "\t<li>-3.91202300542815</li>\n",
       "</ol>\n"
      ],
      "text/latex": [
       "\\begin{enumerate*}\n",
       "\\item -3.91202300542815\n",
       "\\item -3.91202300542815\n",
       "\\item -3.91202300542815\n",
       "\\item -3.91202300542815\n",
       "\\item -3.91202300542815\n",
       "\\item -3.91202300542815\n",
       "\\end{enumerate*}\n"
      ],
      "text/markdown": [
       "1. -3.91202300542815\n",
       "2. -3.91202300542815\n",
       "3. -3.91202300542815\n",
       "4. -3.91202300542815\n",
       "5. -3.91202300542815\n",
       "6. -3.91202300542815\n",
       "\n",
       "\n"
      ],
      "text/plain": [
       "[1] -3.912023 -3.912023 -3.912023 -3.912023 -3.912023 -3.912023"
      ]
     },
     "metadata": {},
     "output_type": "display_data"
    },
    {
     "data": {
      "text/html": [
       "<ol class=list-inline>\n",
       "\t<li>0.02</li>\n",
       "\t<li>0.02</li>\n",
       "\t<li>0.02</li>\n",
       "\t<li>0.02</li>\n",
       "\t<li>0.02</li>\n",
       "\t<li>0.02</li>\n",
       "</ol>\n"
      ],
      "text/latex": [
       "\\begin{enumerate*}\n",
       "\\item 0.02\n",
       "\\item 0.02\n",
       "\\item 0.02\n",
       "\\item 0.02\n",
       "\\item 0.02\n",
       "\\item 0.02\n",
       "\\end{enumerate*}\n"
      ],
      "text/markdown": [
       "1. 0.02\n",
       "2. 0.02\n",
       "3. 0.02\n",
       "4. 0.02\n",
       "5. 0.02\n",
       "6. 0.02\n",
       "\n",
       "\n"
      ],
      "text/plain": [
       "[1] 0.02 0.02 0.02 0.02 0.02 0.02"
      ]
     },
     "metadata": {},
     "output_type": "display_data"
    },
    {
     "data": {
      "text/html": [
       "<ol class=list-inline>\n",
       "\t<li>-5.71967080675866</li>\n",
       "\t<li>-5.71013569400898</li>\n",
       "\t<li>-5.70062583314689</li>\n",
       "\t<li>-5.69114122417236</li>\n",
       "\t<li>-5.68168186708542</li>\n",
       "\t<li>-5.67224776188606</li>\n",
       "</ol>\n"
      ],
      "text/latex": [
       "\\begin{enumerate*}\n",
       "\\item -5.71967080675866\n",
       "\\item -5.71013569400898\n",
       "\\item -5.70062583314689\n",
       "\\item -5.69114122417236\n",
       "\\item -5.68168186708542\n",
       "\\item -5.67224776188606\n",
       "\\end{enumerate*}\n"
      ],
      "text/markdown": [
       "1. -5.71967080675866\n",
       "2. -5.71013569400898\n",
       "3. -5.70062583314689\n",
       "4. -5.69114122417236\n",
       "5. -5.68168186708542\n",
       "6. -5.67224776188606\n",
       "\n",
       "\n"
      ],
      "text/plain": [
       "[1] -5.719671 -5.710136 -5.700626 -5.691141 -5.681682 -5.672248"
      ]
     },
     "metadata": {},
     "output_type": "display_data"
    },
    {
     "data": {
      "text/html": [
       "<ol class=list-inline>\n",
       "\t<li>0.00328079073873383</li>\n",
       "\t<li>0.00331222306557834</li>\n",
       "\t<li>0.00334387209649532</li>\n",
       "\t<li>0.00337573829612881</li>\n",
       "\t<li>0.00340782211702675</li>\n",
       "\t<li>0.00344012399947986</li>\n",
       "</ol>\n"
      ],
      "text/latex": [
       "\\begin{enumerate*}\n",
       "\\item 0.00328079073873383\n",
       "\\item 0.00331222306557834\n",
       "\\item 0.00334387209649532\n",
       "\\item 0.00337573829612881\n",
       "\\item 0.00340782211702675\n",
       "\\item 0.00344012399947986\n",
       "\\end{enumerate*}\n"
      ],
      "text/markdown": [
       "1. 0.00328079073873383\n",
       "2. 0.00331222306557834\n",
       "3. 0.00334387209649532\n",
       "4. 0.00337573829612881\n",
       "5. 0.00340782211702675\n",
       "6. 0.00344012399947986\n",
       "\n",
       "\n"
      ],
      "text/plain": [
       "[1] 0.003280791 0.003312223 0.003343872 0.003375738 0.003407822 0.003440124"
      ]
     },
     "metadata": {},
     "output_type": "display_data"
    }
   ],
   "source": [
    "dunif( post$sigma %>% head() , 0 , 50 , TRUE )\n",
    "dunif( post$sigma %>% head() , 0 , 50 )\n",
    "\n",
    "dnorm( post$mu %>% head(), 178 , 20 , TRUE )\n",
    "dnorm( post$mu %>% head(), 178 , 20 )"
   ]
  },
  {
   "cell_type": "code",
   "execution_count": 45,
   "metadata": {
    "ExecuteTime": {
     "end_time": "2020-01-13T19:50:17.946079Z",
     "start_time": "2020-01-13T19:50:17.899Z"
    }
   },
   "outputs": [
    {
     "data": {
      "text/html": [
       "<ol class=list-inline>\n",
       "\t<li>0.398942280401433</li>\n",
       "\t<li>7.69459862670642e-23</li>\n",
       "\t<li>0.398942280401433</li>\n",
       "</ol>\n"
      ],
      "text/latex": [
       "\\begin{enumerate*}\n",
       "\\item 0.398942280401433\n",
       "\\item 7.69459862670642e-23\n",
       "\\item 0.398942280401433\n",
       "\\end{enumerate*}\n"
      ],
      "text/markdown": [
       "1. 0.398942280401433\n",
       "2. 7.69459862670642e-23\n",
       "3. 0.398942280401433\n",
       "\n",
       "\n"
      ],
      "text/plain": [
       "[1] 3.989423e-01 7.694599e-23 3.989423e-01"
      ]
     },
     "metadata": {},
     "output_type": "display_data"
    }
   ],
   "source": [
    " dnorm(c(0,0,0),mean=c(0,10), sd=c(1,1))"
   ]
  },
  {
   "cell_type": "code",
   "execution_count": 48,
   "metadata": {
    "ExecuteTime": {
     "end_time": "2020-01-13T19:50:46.495070Z",
     "start_time": "2020-01-13T19:50:46.449Z"
    }
   },
   "outputs": [
    {
     "data": {
      "text/html": [
       "<ol class=list-inline>\n",
       "\t<li>0.398942280401433</li>\n",
       "\t<li>0.241970724519143</li>\n",
       "\t<li>0.0539909665131881</li>\n",
       "\t<li>0.000133830225764885</li>\n",
       "\t<li>0.0539909665131881</li>\n",
       "</ol>\n"
      ],
      "text/latex": [
       "\\begin{enumerate*}\n",
       "\\item 0.398942280401433\n",
       "\\item 0.241970724519143\n",
       "\\item 0.0539909665131881\n",
       "\\item 0.000133830225764885\n",
       "\\item 0.0539909665131881\n",
       "\\end{enumerate*}\n"
      ],
      "text/markdown": [
       "1. 0.398942280401433\n",
       "2. 0.241970724519143\n",
       "3. 0.0539909665131881\n",
       "4. 0.000133830225764885\n",
       "5. 0.0539909665131881\n",
       "\n",
       "\n"
      ],
      "text/plain": [
       "[1] 0.3989422804 0.2419707245 0.0539909665 0.0001338302 0.0539909665"
      ]
     },
     "metadata": {},
     "output_type": "display_data"
    }
   ],
   "source": [
    " dnorm(c(0,1,2,4,2),mean=c(0), sd=c(1))"
   ]
  },
  {
   "cell_type": "markdown",
   "metadata": {
    "heading_collapsed": true
   },
   "source": [
    "###### Dnorm deconstruction"
   ]
  },
  {
   "cell_type": "markdown",
   "metadata": {
    "hidden": true
   },
   "source": [
    "probability density function for a standard normal distribution is\n",
    "$f(x|\\mu,\\sigma) = \\frac{1}{\\sigma\\sqrt{2\\pi}}e^{-\\frac{(x-\\mu)^2}{2\\sigma^2}}$\n",
    "\n",
    "<br> The function ```dnorm``` returns the value of the probability density function for the normal distribution given parameters for x, μ, and σ. \n",
    "https://www.cyclismo.org/tutorial/R/probability.html\n",
    "* <font color = 'blue'>Given a set of values it returns the height of the probability distribution at each point.</font> \n",
    "\n",
    "* If you only give the points it assumes you want to use a mean of zero and standard deviation of one.\n",
    "\n",
    "\n",
    "In line 4, we're taking the gaussian distribution implied by each combination of mu and sigma, and getting the heights of the probability distribution at each point, then summing them on the log scale—which is the same as multiplying the probabilities together on the normal scale (log scale avoids rounding problems). \n"
   ]
  },
  {
   "cell_type": "code",
   "execution_count": 68,
   "metadata": {
    "code_folding": [
     0
    ],
    "collapsed": true,
    "hidden": true
   },
   "outputs": [
    {
     "data": {
      "text/html": [
       "<ol class=list-inline>\n",
       "\t<li>0.398942280401433</li>\n",
       "\t<li>0.241970724519143</li>\n",
       "\t<li>0.0539909665131881</li>\n",
       "</ol>\n"
      ],
      "text/latex": [
       "\\begin{enumerate*}\n",
       "\\item 0.398942280401433\n",
       "\\item 0.241970724519143\n",
       "\\item 0.0539909665131881\n",
       "\\end{enumerate*}\n"
      ],
      "text/markdown": [
       "1. 0.398942280401433\n",
       "2. 0.241970724519143\n",
       "3. 0.0539909665131881\n",
       "\n",
       "\n"
      ],
      "text/plain": [
       "[1] 0.39894228 0.24197072 0.05399097"
      ]
     },
     "metadata": {},
     "output_type": "display_data"
    },
    {
     "data": {
      "image/png": "[encoded data removed]",
      "text/plain": [
       "plot without title"
      ]
     },
     "metadata": {
      "image/png": {
       "height": 420,
       "width": 420
      },
      "text/plain": {
       "height": 420,
       "width": 420
      }
     },
     "output_type": "display_data"
    }
   ],
   "source": [
    "# dnorm deconstruction\n",
    "\n",
    "# v <- c(0,1,2); dnorm(v)\n",
    "# curve( exp( -x^2 ) , from=-3 , to=3 ) # gaussian prototype\n",
    "\n",
    "\n",
    "# https://stats.stackexchange.com/questions/157662/rnorm-vs-dnorm-in-r\n",
    "\n",
    "density_standard_norm <- function(x)\n",
    "{\n",
    "1/sqrt(2*pi)*exp(-0.5*x^2)\n",
    "}\n",
    "\n",
    "dnorm(1, mean = 0, sd = 1)\n",
    "density_standard_norm(1)\n",
    "\n",
    "dnorm(c(2,3), mean = 0, sd = 1)\n",
    "density_standard_norm(2) "
   ]
  },
  {
   "cell_type": "raw",
   "metadata": {
    "collapsed": true,
    "hidden": true
   },
   "source": [
    "post$prob %>% sum()\n",
    "post %>% head()\n",
    "post %>% str()\n",
    "post %>% summary()"
   ]
  },
  {
   "cell_type": "markdown",
   "metadata": {
    "heading_collapsed": true
   },
   "source": [
    "##### <font color = 'blue'>Code Explained</font>"
   ]
  },
  {
   "cell_type": "markdown",
   "metadata": {
    "hidden": true
   },
   "source": [
    "(footnote 67) The strategy is the same grid approximation strategy as before (page 39). But now there are two dimensions, and so there is a geometric (literally) increase in bother. <font color = 'lightgrey'>The algorithm is mercifully short, however, if not transparent</font>. Think of the code as being six distinct commands. \n",
    "\n",
    "The **FIRST** two lines of code just establish the range of µ and σ values, respectively, to calculate over, as well as how many points to calculate in-between. \n",
    "\n",
    "\n",
    "<font color = 'blue'>The **THIRD** line of code expands those chosen µ and σ values into a matrix of all of the combinations of µ and σ. This matrix is stored in a data frame, post</font>. \n",
    "\n",
    "\n",
    "<font color = 'blue'> In the **FOURTH** line of code the log-likelihood at each combination of µ and σ is computed</font> (shown in expanded form to make it easier to read). \n",
    "\n",
    "This line looks so awful, because we have to be careful here to do everything on the <span style='background-color: lightyellow'>log scale</span>. <font color = 'red'>Otherwise rounding error will quickly make all of the posterior probabilities zero</font>.\n",
    "\n",
    "* Taking the log not only simplifies the subsequent mathematical analysis, but it also helps numerically because the product of a large number of small probabilities can easily underflow the numerical precision of the computer, and this is resolved by computing instead the sum of the log probabilities. https://math.stackexchange.com/questions/892832/why-we-consider-log-likelihood-instead-of-likelihood-in-gaussian-distribution\n",
    "\n",
    " \n",
    "\n",
    "* So what <b>sapply</b> does is <font color = 'blue'><span style='background-color: lightyellow'><b>pass the unique combination of µ and σ on each row</b></span> of post to a <b>function</b> that <span style='background-color: lightyellow'><b><b>computes</b></b></span> the <span style='background-color: lightyellow'><b>log-likelihood</b></span> of each observed <b>height</b>, and <b>adds</b> all of these <b>log-likelihoods together</b> (sum)</font>. \n",
    "    \n",
    "    \n",
    "In the **<span style='background-color: lightyellow'>FIFTH</span>** line, we multiply the prior by the likelihood to get the product that is proportional to the posterior density. The priors are also on the log scale, and so we add them to the log-likelihood, which is equivalent to multiplying the raw densities by the likelihood. \n",
    "\n",
    "\n",
    "Finally, the obstacle for getting back on the probability scale is that rounding error is always a threat when moving from log-probability to probability. If you use the obvious approach, like `exp( post$prod )`, you’ll get a vector full of zeros, which isn’t very helpful. \n",
    "* <font color = 'red'>This is a result of R’s rounding very small probabilities to zero</font>. Remember, in large samples, all unique samples are unlikely. This is why you have to work with log-probability. The code in the box dodges this problem by scaling all of the log-products by the maximum log-product. As a result, the values in `post$prob` are not all zero, but they also aren’t exactly probabilities. Instead they are relative posterior probabilities. But that’s good enough for what we wish to do with these values"
   ]
  },
  {
   "cell_type": "markdown",
   "metadata": {
    "heading_collapsed": true
   },
   "source": [
    "##### 2-D Posterior Distribution of mu and sigma"
   ]
  },
  {
   "cell_type": "markdown",
   "metadata": {
    "hidden": true
   },
   "source": [
    "You can inspect this posterior distribution, now residing in post$prob, using a variety of\n",
    "plotting commands. You can get a simple contour plot with:"
   ]
  },
  {
   "cell_type": "code",
   "execution_count": 30,
   "metadata": {
    "cell_style": "split",
    "hidden": true,
    "scrolled": true
   },
   "outputs": [
    {
     "data": {
      "image/png": "[encoded data removed]",
      "text/plain": [
       "plot without title"
      ]
     },
     "metadata": {
      "image/png": {
       "height": 420,
       "width": 420
      },
      "text/plain": {
       "height": 420,
       "width": 420
      }
     },
     "output_type": "display_data"
    }
   ],
   "source": [
    "contour_xyz(post$mu , \n",
    "            post$sigma , \n",
    "            post$prob,\n",
    "            xlim = c(153,156), ylim = c(7,9)  )"
   ]
  },
  {
   "cell_type": "code",
   "execution_count": 32,
   "metadata": {
    "cell_style": "split",
    "hidden": true
   },
   "outputs": [
    {
     "data": {
      "image/png": "[encoded data removed]",
      "text/plain": [
       "plot without title"
      ]
     },
     "metadata": {
      "image/png": {
       "height": 420,
       "width": 420
      },
      "text/plain": {
       "height": 420,
       "width": 420
      }
     },
     "output_type": "display_data"
    }
   ],
   "source": [
    "image_xyz(post$mu , \n",
    "          post$sigma , \n",
    "          post$prob, \n",
    "          xlim = c(153,156), ylim = c(7,8.5)  )"
   ]
  },
  {
   "cell_type": "markdown",
   "metadata": {
    "hidden": true
   },
   "source": [
    "The functions contour_xyz and image_xyz are both in the rethinking package."
   ]
  },
  {
   "cell_type": "markdown",
   "metadata": {
    "hidden": true
   },
   "source": [
    "> <font color = 'blue'>At each combination of mu and sigma on the grid (sparseness we define) we compute the posterior distribution using bayes rule: \n",
    "* multiply (the probability of the observed height conditional on the Mew and sigma at that point) x (the prior probability of that Mu and the prior probability of that sigma). </font>"
   ]
  },
  {
   "cell_type": "markdown",
   "metadata": {},
   "source": [
    "### Sampling from the posterior"
   ]
  },
  {
   "cell_type": "markdown",
   "metadata": {
    "heading_collapsed": true
   },
   "source": [
    "###### C3_reminder"
   ]
  },
  {
   "cell_type": "markdown",
   "metadata": {
    "hidden": true
   },
   "source": [
    "<img src='pics/SR_z35.png' alt='Drawing' style='width:425pt'/>"
   ]
  },
  {
   "cell_type": "code",
   "execution_count": 61,
   "metadata": {
    "ExecuteTime": {
     "end_time": "2020-01-14T03:46:46.736041Z",
     "start_time": "2020-01-14T03:46:46.543Z"
    },
    "hidden": true
   },
   "outputs": [],
   "source": [
    "p_grid <- seq( from=0 , to=1 , length.out=1000 )\n",
    "prior <- rep(1,1000)\n",
    "likelihood <- dbinom( 3 , size=3 , prob=p_grid )\n",
    "posterior <- likelihood * prior\n",
    "posterior <- posterior / sum(posterior)\n",
    "samples <- sample( p_grid , size=1e4 , replace=TRUE , prob=posterior )\n",
    "\n",
    "# All you need to propagate parameter uncertainty into these \n",
    "# predictions is replace the value 0.6 with samples from the posterior:\n",
    "w <- rbinom( 1e4 , size=9 , prob=samples )"
   ]
  },
  {
   "cell_type": "code",
   "execution_count": 67,
   "metadata": {
    "ExecuteTime": {
     "end_time": "2020-01-14T03:48:11.256410Z",
     "start_time": "2020-01-14T03:48:11.198Z"
    },
    "hidden": true,
    "scrolled": true
   },
   "outputs": [
    {
     "name": "stdout",
     "output_type": "stream",
     "text": [
      " int [1:10000] 8 9 9 3 9 3 6 6 8 8 ...\n"
     ]
    }
   ],
   "source": [
    "w %>% str()"
   ]
  },
  {
   "cell_type": "code",
   "execution_count": 69,
   "metadata": {
    "ExecuteTime": {
     "end_time": "2020-01-14T03:49:07.859997Z",
     "start_time": "2020-01-14T03:49:07.740Z"
    },
    "hidden": true
   },
   "outputs": [
    {
     "data": {
      "image/png": "[encoded data removed]",
      "text/plain": [
       "Plot with title \"Histogram of .\""
      ]
     },
     "metadata": {
      "image/png": {
       "height": 420,
       "width": 420
      }
     },
     "output_type": "display_data"
    }
   ],
   "source": [
    "w %>% hist"
   ]
  },
  {
   "cell_type": "markdown",
   "metadata": {
    "hidden": true
   },
   "source": [
    "For each sampled value, a random binomial observation is generated. Since the sampled values appear in proportion to their posterior probabilities, the resulting simulated observations are averaged over the posterior"
   ]
  },
  {
   "cell_type": "markdown",
   "metadata": {
    "heading_collapsed": true
   },
   "source": [
    "##### C4_sampling from the posterior"
   ]
  },
  {
   "cell_type": "markdown",
   "metadata": {
    "hidden": true
   },
   "source": [
    "To study this posterior distribution in more detail,\n",
    "again I’ll push the flexible approach of sampling parameter values from it. This works just\n",
    "like it did in Chapter 3, when you sampled values of p from the posterior distribution for\n",
    "the globe tossing example. \n",
    "\n",
    "<font color = 'blue'>The only new trick is that since there are two parameters, and we want to sample combinations of them</font>, we first randomly sample row numbers in post in proportion to the values in `post$prob`. Then we pull out the parameter values on those randomly sampled rows. This code will do it:"
   ]
  },
  {
   "cell_type": "code",
   "execution_count": 59,
   "metadata": {
    "ExecuteTime": {
     "end_time": "2020-01-14T03:39:35.814289Z",
     "start_time": "2020-01-14T03:39:35.732Z"
    },
    "hidden": true
   },
   "outputs": [],
   "source": [
    "sample.rows  <- sample( 1:nrow(post) , size=1e4 , \n",
    "                      replace=TRUE , prob=post$prob )\n",
    "sample.mu    <- post$mu[ sample.rows ]\n",
    "sample.sigma <- post$sigma[ sample.rows ]"
   ]
  },
  {
   "cell_type": "markdown",
   "metadata": {
    "hidden": true
   },
   "source": [
    "You end up with 10,000 samples, with replacement, from the posterior for the height data.\n",
    "Take a look at these samples:"
   ]
  },
  {
   "cell_type": "code",
   "execution_count": 60,
   "metadata": {
    "ExecuteTime": {
     "end_time": "2020-01-14T03:39:38.428910Z",
     "start_time": "2020-01-14T03:39:37.343Z"
    },
    "cell_style": "center",
    "hidden": true
   },
   "outputs": [
    {
     "data": {
      "image/png": "[encoded data removed]",
      "text/plain": [
       "plot without title"
      ]
     },
     "metadata": {
      "image/png": {
       "height": 420,
       "width": 420
      }
     },
     "output_type": "display_data"
    }
   ],
   "source": [
    "plot( sample.mu , sample.sigma , \n",
    "     cex=0.5 , pch=16 , col=col.alpha(rangi2,0.1) )"
   ]
  },
  {
   "cell_type": "markdown",
   "metadata": {
    "cell_style": "center",
    "hidden": true
   },
   "source": [
    "I reproduce this plot in Figure 4.3. Note that the function col.alpha is part of the rethinking R package. All it does is make colors transparent, which helps the plot in Figure 4.3 more easily show density, where samples overlap. Adjust the plot to your tastes by playing around with cex (character expansion, the size of the points), pch (plot character), and the 0.1 transparency value."
   ]
  },
  {
   "cell_type": "markdown",
   "metadata": {
    "cell_style": "center",
    "hidden": true
   },
   "source": [
    "<img src='pics/SR_a22.png' alt='Drawing' style='width: 450pt'/>"
   ]
  },
  {
   "cell_type": "markdown",
   "metadata": {
    "hidden": true
   },
   "source": [
    "Now that you have these samples, you can describe the distribution of confidence in each combination of µ and σ by summarizing the samples. Think of them like data and describe them, just like in Chapter 3. For example, to characterize the shapes of the <span style='background-color: lightgreen'>marginal posterior densities</span> of µ and σ, all we need to do is:"
   ]
  },
  {
   "cell_type": "code",
   "execution_count": 15,
   "metadata": {
    "cell_style": "split",
    "hidden": true
   },
   "outputs": [
    {
     "data": {
      "image/png": "[encoded data removed]",
      "text/plain": [
       "Plot with title \"\""
      ]
     },
     "metadata": {},
     "output_type": "display_data"
    },
    {
     "data": {
      "image/png": "[encoded data removed]",
      "text/plain": [
       "Plot with title \"\""
      ]
     },
     "metadata": {},
     "output_type": "display_data"
    }
   ],
   "source": [
    "dens( sample.mu )\n",
    "dens( sample.sigma )"
   ]
  },
  {
   "cell_type": "markdown",
   "metadata": {
    "cell_style": "split",
    "hidden": true
   },
   "source": [
    "The jargon “<span style='background-color: lightgreen'>marginal</span>” here means “averaging over the other parameters.” Execute the above code and inspect the plots. These densities are very close to being normal distributions. And this is quite typical. <font color = 'green'>As sample size increases, posterior densities approach the normal distribution.</font> If you look closely, though, you’ll notice that the density for σ has a longer right-hand tail. I’ll exaggerate this tendency a bit later, to show you that this condition is very common for standard deviation parameters."
   ]
  },
  {
   "cell_type": "markdown",
   "metadata": {
    "cell_style": "split",
    "hidden": true
   },
   "source": [
    "To summarize the widths of these densities with highest posterior density intervals, just like in Chapter 3:"
   ]
  },
  {
   "cell_type": "code",
   "execution_count": 48,
   "metadata": {
    "cell_style": "center",
    "hidden": true
   },
   "outputs": [
    {
     "data": {
      "text/html": [
       "<dl class=dl-horizontal>\n",
       "\t<dt>|0.89</dt>\n",
       "\t\t<dd>153.869346733668</dd>\n",
       "\t<dt>0.89|</dt>\n",
       "\t\t<dd>155.175879396985</dd>\n",
       "</dl>\n"
      ],
      "text/latex": [
       "\\begin{description*}\n",
       "\\item[\\textbackslash{}textbar\\{\\}0.89] 153.869346733668\n",
       "\\item[0.89\\textbackslash{}textbar\\{\\}] 155.175879396985\n",
       "\\end{description*}\n"
      ],
      "text/markdown": [
       "|0.89\n",
       ":   153.8693467336680.89|\n",
       ":   155.175879396985\n",
       "\n"
      ],
      "text/plain": [
       "   |0.89    0.89| \n",
       "153.8693 155.1759 "
      ]
     },
     "metadata": {},
     "output_type": "display_data"
    },
    {
     "data": {
      "text/html": [
       "<dl class=dl-horizontal>\n",
       "\t<dt>|0.89</dt>\n",
       "\t\t<dd>7.26633165829146</dd>\n",
       "\t<dt>0.89|</dt>\n",
       "\t\t<dd>8.19597989949749</dd>\n",
       "</dl>\n"
      ],
      "text/latex": [
       "\\begin{description*}\n",
       "\\item[\\textbackslash{}textbar\\{\\}0.89] 7.26633165829146\n",
       "\\item[0.89\\textbackslash{}textbar\\{\\}] 8.19597989949749\n",
       "\\end{description*}\n"
      ],
      "text/markdown": [
       "|0.89\n",
       ":   7.266331658291460.89|\n",
       ":   8.19597989949749\n",
       "\n"
      ],
      "text/plain": [
       "   |0.89    0.89| \n",
       "7.266332 8.195980 "
      ]
     },
     "metadata": {},
     "output_type": "display_data"
    }
   ],
   "source": [
    "HPDI( sample.mu ) \n",
    "HPDI( sample.sigma )"
   ]
  },
  {
   "cell_type": "markdown",
   "metadata": {
    "cell_style": "center",
    "hidden": true
   },
   "source": [
    "Since these samples are just vectors of numbers, you can compute any statistic from them that you could from ordinary data. If you want the mean or median, just use the corresponding R functions."
   ]
  },
  {
   "cell_type": "markdown",
   "metadata": {
    "heading_collapsed": true,
    "hidden": true
   },
   "source": [
    "###### A note on why the posterior of σ tends to have a long right-hand tail"
   ]
  },
  {
   "cell_type": "markdown",
   "metadata": {
    "cell_style": "center",
    "hidden": true
   },
   "source": [
    "Overthinking: Sample size and the normality of σ’s posterior. Before moving on to using quadratic approximation (map) as shortcut to all of this inference, it is worth repeating the analysis of the height data above, but now with only a fraction of the original data. The reason to do this is to demonstrate that, in principle, <font color = 'red'>the posterior is not always so Gaussian in shape.</font> There’s no trouble with the mean, µ. <font color = 'blue'>For a Gaussian likelihood and a Gaussian prior on µ, the posterior distribution is always Gaussian as well, regardless of sample size. It is the standard deviation σ that causes problems</font>. So if you care about σ—often people do not—you do need to be careful of abusing the quadratic approximation.\n",
    "\n",
    "<font color = 'blue'>The deep reasons for the posterior of σ tending to have a long right-hand tail are complex. But a useful way to conceive of the problem is that variances must be positive</font>. As a result, there must be more uncertainty about how big the variance (or standard deviation) is than about how small it is. For example, if the variance is estimated to be near zero, then you know for sure that it can’t be much smaller. But it could be a lot bigger. Let’s quickly analyze only 20 of the heights from the height data to reveal this issue. To sample 20 random heights from the original list:"
   ]
  },
  {
   "cell_type": "code",
   "execution_count": 70,
   "metadata": {
    "ExecuteTime": {
     "end_time": "2020-01-14T16:33:00.183522Z",
     "start_time": "2020-01-14T16:33:00.138Z"
    },
    "cell_style": "center",
    "hidden": true
   },
   "outputs": [],
   "source": [
    "d3 <- sample( d2$height , size=20 )"
   ]
  },
  {
   "cell_type": "markdown",
   "metadata": {
    "cell_style": "center",
    "hidden": true
   },
   "source": [
    "Now I’ll repeat all the code from the previous subsection, modified to focus on the 20 heights in d3 rather than the original data. I’ll compress all of the code together, but it’s just what you’ve already seen above."
   ]
  },
  {
   "cell_type": "code",
   "execution_count": 71,
   "metadata": {
    "ExecuteTime": {
     "end_time": "2020-01-14T16:33:03.304019Z",
     "start_time": "2020-01-14T16:33:01.545Z"
    },
    "hidden": true
   },
   "outputs": [
    {
     "data": {
      "image/png": "[encoded data removed]",
      "text/plain": [
       "plot without title"
      ]
     },
     "metadata": {
      "image/png": {
       "height": 420,
       "width": 420
      }
     },
     "output_type": "display_data"
    }
   ],
   "source": [
    "mu.list <- seq( from=150, to=170 , length.out=200 )\n",
    "sigma.list <- seq( from=4 , to=20 , length.out=200 )\n",
    "post2 <- expand.grid( mu=mu.list , sigma=sigma.list )\n",
    "post2$LL <- sapply( 1:nrow(post2) , function(i)\n",
    "    sum( dnorm( d3 , mean=post2$mu[i] , sd=post2$sigma[i] ,\n",
    "    log=TRUE) ) )\n",
    "post2$prod <- post2$LL + dnorm( post2$mu , 178 , 20 , TRUE ) +\n",
    "    dunif( post2$sigma , 0 , 50 , TRUE )\n",
    "post2$prob <- exp( post2$prod - max(post2$prod) )\n",
    "sample2.rows <- sample( 1:nrow(post2) , size=1e4 , replace=TRUE ,\n",
    "    prob=post2$prob )\n",
    "sample2.mu <- post2$mu[ sample2.rows ]\n",
    "sample2.sigma <- post2$sigma[ sample2.rows ]\n",
    "plot( sample2.mu , sample2.sigma , cex=0.5 ,\n",
    "    col=col.alpha(rangi2,0.1) ,\n",
    "    xlab=\"mu\" , ylab=\"sigma\" , pch=16 )"
   ]
  },
  {
   "cell_type": "markdown",
   "metadata": {
    "hidden": true
   },
   "source": [
    "After executing the code above, <font color = 'blue'>you’ll see another scatter plot of the samples from the posterior density, but this time you’ll notice a distinctly longer tail at the top of the cloud of points</font>. You should also inspect the marginal posterior density for σ, averaging over µ, produced with:"
   ]
  },
  {
   "cell_type": "code",
   "execution_count": 72,
   "metadata": {
    "ExecuteTime": {
     "end_time": "2020-01-14T16:33:04.560870Z",
     "start_time": "2020-01-14T16:33:04.462Z"
    },
    "hidden": true
   },
   "outputs": [
    {
     "data": {
      "image/png": "[encoded data removed]",
      "text/plain": [
       "Plot with title \"\""
      ]
     },
     "metadata": {
      "image/png": {
       "height": 420,
       "width": 420
      }
     },
     "output_type": "display_data"
    }
   ],
   "source": [
    "dens( sample2.sigma , norm.comp=TRUE )"
   ]
  },
  {
   "cell_type": "markdown",
   "metadata": {
    "hidden": true
   },
   "source": [
    "This code will also show a normal approximation with the same mean and variance. Now you can see that the posterior for σ is not Gaussian, but rather has a long tail of uncertainty towards higher values."
   ]
  },
  {
   "cell_type": "markdown",
   "metadata": {
    "heading_collapsed": true
   },
   "source": [
    "### <font color = 'blue'>Fitting the model with Quadratic Approximation (QUAP)</font>"
   ]
  },
  {
   "cell_type": "markdown",
   "metadata": {
    "hidden": true
   },
   "source": [
    "Now we leave grid approximation behind and move on to one of the great engines of applied statistics, the <span style='background-color: lightgreen'>quadratic approximation</span>. Our interest in quadratic approximation, recall, is as a handy way to quickly make inferences about the shape of the posterior. \n",
    "\n",
    "The posterior’s peak will lie at the maximum a posteriori estimate (MAP), and we can get a useful image of the posterior’s shape by using the quadratic approximation of the posterior distribution at this peak."
   ]
  },
  {
   "cell_type": "markdown",
   "metadata": {
    "hidden": true
   },
   "source": [
    "To find the values of µ and σ that maximize the posterior probability, we’ll use map, a command in the rethinking package. The way that map works is by using the model definition you were introduced to earlier in this chapter. Each line in the definition has a corresponding definition in the form of R code. The engine inside map then uses these definitions to define the posterior probability at each combination of parameter values. Then it can climb the posterior distribution and find the peak, its MAP."
   ]
  },
  {
   "cell_type": "code",
   "execution_count": 97,
   "metadata": {
    "ExecuteTime": {
     "end_time": "2020-01-14T22:08:43.486811Z",
     "start_time": "2020-01-14T22:08:43.421Z"
    },
    "hidden": true
   },
   "outputs": [],
   "source": [
    "data(Howell1)\n",
    "d <- Howell1\n",
    "# d2 <- d[ d$age >= 18 , ]\n",
    "d2 <- d %>% filter(age >= 18)\n"
   ]
  },
  {
   "cell_type": "markdown",
   "metadata": {
    "hidden": true
   },
   "source": [
    "Now we’re ready to define the model, using R’s formula syntax. The model definition in this case is just as before, but now we’ll repeat it with each corresponding line of R code shown on the right-hand margin:"
   ]
  },
  {
   "cell_type": "markdown",
   "metadata": {
    "hidden": true
   },
   "source": [
    "<img src='pics/SR_a23.png' alt='Drawing' style='width: 450pt'/>"
   ]
  },
  {
   "cell_type": "markdown",
   "metadata": {
    "hidden": true
   },
   "source": [
    "Now place the R code equivalents into an alist. Here’s an alist of the formulas above:"
   ]
  },
  {
   "cell_type": "code",
   "execution_count": 98,
   "metadata": {
    "ExecuteTime": {
     "end_time": "2020-01-14T22:08:45.782628Z",
     "start_time": "2020-01-14T22:08:45.743Z"
    },
    "hidden": true
   },
   "outputs": [],
   "source": [
    "flist <- alist( \n",
    "    height ~ dnorm( mu , sigma ) , # h_i ∼ Normal(µ, σ) \n",
    "    mu ~ dnorm( 178 , 20 ) ,       # µ ∼ Normal(178, 0.1)\n",
    "    sigma ~ dunif( 0 , 50 )        # σ ∼ Uniform(0, 50) \n",
    ")"
   ]
  },
  {
   "cell_type": "markdown",
   "metadata": {
    "hidden": true
   },
   "source": [
    "<span style='background-color: lightgreen'>alist</span> handles its arguments as if they described function arguments\n",
    "\n",
    "* <font color = 'green'>Note that the list of start values is a regular list, not an <span style='background-color: lightgreen'>alist</span> like the formula list is. The two functions alist and list do the same basic thing: allow you to make a collection of arbitrary R objects. They differ in one important respect: list evaluates the code you embed inside it, while alist does not. So when you define a list of formulas, you should use alist, so the code isn’t executed. But when you define a list of start values for parameters, you should use list, so that code like mean(d2$height) will be evaluated to a numeric value.</font>"
   ]
  },
  {
   "cell_type": "markdown",
   "metadata": {
    "hidden": true
   },
   "source": [
    "Note the commas at the end of each line, except the last. These commas separate each line of the model definition. Fit the model to the data in the data frame d2 with:"
   ]
  },
  {
   "cell_type": "code",
   "execution_count": 99,
   "metadata": {
    "ExecuteTime": {
     "end_time": "2020-01-14T22:09:15.260562Z",
     "start_time": "2020-01-14T22:09:15.160Z"
    },
    "cell_style": "center",
    "hidden": true
   },
   "outputs": [],
   "source": [
    "# Fit the model to the data in the data frame d2 with:\n",
    "m4.1 <- quap( flist , data=d2 ) "
   ]
  },
  {
   "cell_type": "markdown",
   "metadata": {
    "cell_style": "center",
    "hidden": true
   },
   "source": [
    "After executing this code, you’ll have a fit model stored in the symbol m4.1. Now take a look at the fit maximum a posteriori model:"
   ]
  },
  {
   "cell_type": "code",
   "execution_count": 101,
   "metadata": {
    "ExecuteTime": {
     "end_time": "2020-01-14T22:09:33.252447Z",
     "start_time": "2020-01-14T22:09:33.192Z"
    },
    "cell_style": "center",
    "hidden": true,
    "scrolled": false
   },
   "outputs": [
    {
     "data": {
      "text/html": [
       "<table>\n",
       "<caption>A precis: 2 × 4</caption>\n",
       "<thead>\n",
       "\t<tr><th></th><th scope=col>mean</th><th scope=col>sd</th><th scope=col>5.5%</th><th scope=col>94.5%</th></tr>\n",
       "\t<tr><th></th><th scope=col>&lt;dbl&gt;</th><th scope=col>&lt;dbl&gt;</th><th scope=col>&lt;dbl&gt;</th><th scope=col>&lt;dbl&gt;</th></tr>\n",
       "</thead>\n",
       "<tbody>\n",
       "\t<tr><th scope=row>mu</th><td>154.607223</td><td>0.4119744</td><td>153.948808</td><td>155.265637</td></tr>\n",
       "\t<tr><th scope=row>sigma</th><td>  7.730952</td><td>0.2913501</td><td>  7.265318</td><td>  8.196586</td></tr>\n",
       "</tbody>\n",
       "</table>\n"
      ],
      "text/latex": [
       "A precis: 2 × 4\n",
       "\\begin{tabular}{r|llll}\n",
       "  & mean & sd & 5.5\\% & 94.5\\%\\\\\n",
       "  & <dbl> & <dbl> & <dbl> & <dbl>\\\\\n",
       "\\hline\n",
       "\tmu & 154.607223 & 0.4119744 & 153.948808 & 155.265637\\\\\n",
       "\tsigma &   7.730952 & 0.2913501 &   7.265318 &   8.196586\\\\\n",
       "\\end{tabular}\n"
      ],
      "text/markdown": [
       "\n",
       "A precis: 2 × 4\n",
       "\n",
       "| <!--/--> | mean &lt;dbl&gt; | sd &lt;dbl&gt; | 5.5% &lt;dbl&gt; | 94.5% &lt;dbl&gt; |\n",
       "|---|---|---|---|---|\n",
       "| mu | 154.607223 | 0.4119744 | 153.948808 | 155.265637 |\n",
       "| sigma |   7.730952 | 0.2913501 |   7.265318 |   8.196586 |\n",
       "\n"
      ],
      "text/plain": [
       "      mean       sd        5.5%       94.5%     \n",
       "mu    154.607223 0.4119744 153.948808 155.265637\n",
       "sigma   7.730952 0.2913501   7.265318   8.196586"
      ]
     },
     "metadata": {},
     "output_type": "display_data"
    }
   ],
   "source": [
    "# look at the fit maximum a posteriori model:\n",
    "precis( m4.1 ) "
   ]
  },
  {
   "cell_type": "markdown",
   "metadata": {
    "heading_collapsed": true,
    "hidden": true
   },
   "source": [
    "###### Adding more informative priors"
   ]
  },
  {
   "cell_type": "markdown",
   "metadata": {
    "hidden": true
   },
   "source": [
    "The priors we used before are very weak, both because they are nearly flat and because there is so much data. So I’ll splice in a more informative prior for µ, so you can see the effect. **<font color = 'green'>All I’m going to do is change the standard deviation of the prior to 0.1, so it’s a very narrow prior</font>**. I’ll also build the formula right into the call to map, so you can see how to build it all at once."
   ]
  },
  {
   "cell_type": "code",
   "execution_count": 35,
   "metadata": {
    "hidden": true
   },
   "outputs": [],
   "source": [
    "m4.2 <- map(\n",
    "    alist(                             # define/specify the model\n",
    "        height ~ dnorm( mu , sigma ) , # h_i ∼ Normal(µ, σ) \n",
    "        mu ~ dnorm( 178 , 0.1 ) ,      # µ ∼ Normal(178, 0.1)\n",
    "        sigma ~ dunif( 0 , 50 )        # σ ∼ Uniform(0, 50) \n",
    "    ) ,\n",
    "    data=d2 )"
   ]
  },
  {
   "cell_type": "code",
   "execution_count": 36,
   "metadata": {
    "hidden": true,
    "scrolled": true
   },
   "outputs": [
    {
     "data": {
      "text/plain": [
       "        Mean StdDev   5.5%  94.5%\n",
       "mu    177.86   0.10 177.70 178.02\n",
       "sigma  24.52   0.93  23.03  26.00"
      ]
     },
     "metadata": {},
     "output_type": "display_data"
    }
   ],
   "source": [
    "precis( m4.2 )"
   ]
  },
  {
   "cell_type": "markdown",
   "metadata": {
    "hidden": true
   },
   "source": [
    "<b><font color = 'purple'>Notice that the estimate for µ has hardly moved off the prior </font></b>. \n",
    "* The prior was very concentrated around 178. So this is not surprising. \n",
    "\n",
    "\n",
    "* But also notice that the <font color = 'blue'>estimate for σ has changed</font> quite a lot, even though we didn’t change its prior at all. \n",
    "\n",
    "<font color = 'blue'>Once the golem is certain that the mean is near 178—as the prior insists—<b>then the golem has to estimate σ conditional on that fact</b>. \n",
    "* <font color = 'red'>This results in a different posterior for σ, even though all we changed is prior information about the other parameter</font>.</font>"
   ]
  },
  {
   "cell_type": "markdown",
   "metadata": {
    "hidden": true
   },
   "source": [
    "<img src='pics/SR_g1.png' alt='Drawing' style='width:425pt'/>"
   ]
  },
  {
   "cell_type": "markdown",
   "metadata": {
    "heading_collapsed": true,
    "hidden": true
   },
   "source": [
    "###### <font color = 'lightgrey'>Defining start values for QUAP gradient descent (Optional)</font>"
   ]
  },
  {
   "cell_type": "code",
   "execution_count": 34,
   "metadata": {
    "hidden": true
   },
   "outputs": [],
   "source": [
    "# provide start values for MAP estimation\n",
    "# MAP <- posterior’s peak will lie at the maximum a posteriori (MAP)\n",
    "#        estimate\n",
    "\n",
    "start <- list(\n",
    "    mu=mean(d2$height),\n",
    "    sigma=sd(d2$height)\n",
    ")"
   ]
  },
  {
   "cell_type": "markdown",
   "metadata": {
    "hidden": true
   },
   "source": [
    "These start values are good guesses of the rough location of the MAP values."
   ]
  },
  {
   "cell_type": "markdown",
   "metadata": {
    "hidden": true
   },
   "source": [
    "Diff between alist and list:\n",
    "\n",
    "Note that the list of start values is a regular list, not an alist like the formula list is. The two functions alist and list do the same basic thing: allow you to make a collection of arbitrary R objects. They differ in one important respect: list evaluates the code you embed inside it, while alist does not. So when you define a list of formulas, you should use alist, so the code isn’t executed. But when you define a list of start values for parameters, you should use list, so that code like mean(d2$height) will be evaluated to a numeric value."
   ]
  },
  {
   "cell_type": "markdown",
   "metadata": {
    "hidden": true
   },
   "source": [
    "<hr>"
   ]
  },
  {
   "cell_type": "markdown",
   "metadata": {},
   "source": [
    "### Sampling from a quap fit"
   ]
  },
  {
   "cell_type": "markdown",
   "metadata": {
    "heading_collapsed": true
   },
   "source": [
    "##### **<font color = 'purple' style='background-color: lightyellow'> how do you then get samples from the quadratic approximate posterior distribution? </font>** (intuition)"
   ]
  },
  {
   "cell_type": "markdown",
   "metadata": {
    "hidden": true
   },
   "source": [
    "<font color = 'blue'>The answer is rather simple, but non-obvious, and it <b>requires recognizing</b> that a quadratic approximation to a posterior distribution with more than one parameter dimension—µ and σ each contribute one dimension—is just a <b>multidimensional Gaussian distribution</b></font>."
   ]
  },
  {
   "cell_type": "markdown",
   "metadata": {
    "hidden": true
   },
   "source": [
    "As a consequence, when R constructs a quadratic approximation, it <font color = 'blue'>calculates <b>not only standard deviations </b> for all parameters, <b>but also the covariances among all pairs of parameters</b></font>. \n",
    "\n",
    "* Just like a mean and standard deviation (or its square, a variance) are sufficient to describe a one-dimensional Gaussian distribution, a list of means and a matrix of variances and covariances are sufficient to describe a multi-dimensional Gaussian distribution. **<font color = 'purple' style='background-color: lightyellow'>To see this matrix of variances and covariances, for model m4.1, use</font>**:"
   ]
  },
  {
   "cell_type": "code",
   "execution_count": 105,
   "metadata": {
    "ExecuteTime": {
     "end_time": "2020-01-15T04:39:49.058848Z",
     "start_time": "2020-01-15T04:39:49.010Z"
    },
    "hidden": true,
    "scrolled": false
   },
   "outputs": [
    {
     "data": {
      "text/html": [
       "<table>\n",
       "<caption>A matrix: 2 × 2 of type dbl</caption>\n",
       "<thead>\n",
       "\t<tr><th></th><th scope=col>mu</th><th scope=col>sigma</th></tr>\n",
       "</thead>\n",
       "<tbody>\n",
       "\t<tr><th scope=row>mu</th><td>0.1697229024</td><td>0.0002223618</td></tr>\n",
       "\t<tr><th scope=row>sigma</th><td>0.0002223618</td><td>0.0848848940</td></tr>\n",
       "</tbody>\n",
       "</table>\n"
      ],
      "text/latex": [
       "A matrix: 2 × 2 of type dbl\n",
       "\\begin{tabular}{r|ll}\n",
       "  & mu & sigma\\\\\n",
       "\\hline\n",
       "\tmu & 0.1697229024 & 0.0002223618\\\\\n",
       "\tsigma & 0.0002223618 & 0.0848848940\\\\\n",
       "\\end{tabular}\n"
      ],
      "text/markdown": [
       "\n",
       "A matrix: 2 × 2 of type dbl\n",
       "\n",
       "| <!--/--> | mu | sigma |\n",
       "|---|---|---|\n",
       "| mu | 0.1697229024 | 0.0002223618 |\n",
       "| sigma | 0.0002223618 | 0.0848848940 |\n",
       "\n"
      ],
      "text/plain": [
       "      mu           sigma       \n",
       "mu    0.1697229024 0.0002223618\n",
       "sigma 0.0002223618 0.0848848940"
      ]
     },
     "metadata": {},
     "output_type": "display_data"
    }
   ],
   "source": [
    "vcov(m4.1)"
   ]
  },
  {
   "cell_type": "markdown",
   "metadata": {
    "hidden": true
   },
   "source": [
    "The above is a variance-covariance matrix. It is the multi-dimensional glue of a quadratic approximation, because it tells us how each parameter relates to every other parameter in the posterior distribution. A variance-covariance matrix can be factored into two elements: \n",
    "\n",
    "(1) a vector of variances for the parameters and \n",
    "\n",
    "(2) a correlation matrix that tells us how changes in any parameter lead to correlated changes in the others. \n",
    "\n",
    "This decomposition is usually easier to understand. So let’s do that now:"
   ]
  },
  {
   "cell_type": "code",
   "execution_count": 106,
   "metadata": {
    "ExecuteTime": {
     "end_time": "2020-01-15T05:51:06.604971Z",
     "start_time": "2020-01-15T05:51:06.526Z"
    },
    "hidden": true
   },
   "outputs": [
    {
     "data": {
      "text/html": [
       "<table>\n",
       "<caption>A matrix: 2 × 2 of type dbl</caption>\n",
       "<thead>\n",
       "\t<tr><th></th><th scope=col>mu</th><th scope=col>sigma</th></tr>\n",
       "</thead>\n",
       "<tbody>\n",
       "\t<tr><th scope=row>mu</th><td>0.1697229024</td><td>0.0002223618</td></tr>\n",
       "\t<tr><th scope=row>sigma</th><td>0.0002223618</td><td>0.0848848940</td></tr>\n",
       "</tbody>\n",
       "</table>\n"
      ],
      "text/latex": [
       "A matrix: 2 × 2 of type dbl\n",
       "\\begin{tabular}{r|ll}\n",
       "  & mu & sigma\\\\\n",
       "\\hline\n",
       "\tmu & 0.1697229024 & 0.0002223618\\\\\n",
       "\tsigma & 0.0002223618 & 0.0848848940\\\\\n",
       "\\end{tabular}\n"
      ],
      "text/markdown": [
       "\n",
       "A matrix: 2 × 2 of type dbl\n",
       "\n",
       "| <!--/--> | mu | sigma |\n",
       "|---|---|---|\n",
       "| mu | 0.1697229024 | 0.0002223618 |\n",
       "| sigma | 0.0002223618 | 0.0848848940 |\n",
       "\n"
      ],
      "text/plain": [
       "      mu           sigma       \n",
       "mu    0.1697229024 0.0002223618\n",
       "sigma 0.0002223618 0.0848848940"
      ]
     },
     "metadata": {},
     "output_type": "display_data"
    }
   ],
   "source": [
    "vcov( m4.1 )"
   ]
  },
  {
   "cell_type": "code",
   "execution_count": 108,
   "metadata": {
    "ExecuteTime": {
     "end_time": "2020-01-15T05:51:35.463150Z",
     "start_time": "2020-01-15T05:51:35.403Z"
    },
    "hidden": true
   },
   "outputs": [
    {
     "data": {
      "text/html": [
       "<dl class=dl-horizontal>\n",
       "\t<dt>mu</dt>\n",
       "\t\t<dd>0.169722902409253</dd>\n",
       "\t<dt>sigma</dt>\n",
       "\t\t<dd>0.0848848940448766</dd>\n",
       "</dl>\n"
      ],
      "text/latex": [
       "\\begin{description*}\n",
       "\\item[mu] 0.169722902409253\n",
       "\\item[sigma] 0.0848848940448766\n",
       "\\end{description*}\n"
      ],
      "text/markdown": [
       "mu\n",
       ":   0.169722902409253sigma\n",
       ":   0.0848848940448766\n",
       "\n"
      ],
      "text/plain": [
       "        mu      sigma \n",
       "0.16972290 0.08488489 "
      ]
     },
     "metadata": {},
     "output_type": "display_data"
    }
   ],
   "source": [
    "diag( vcov( m4.1 ) )\n",
    "# variance"
   ]
  },
  {
   "cell_type": "code",
   "execution_count": 107,
   "metadata": {
    "ExecuteTime": {
     "end_time": "2020-01-15T05:51:34.225477Z",
     "start_time": "2020-01-15T05:51:34.126Z"
    },
    "hidden": true,
    "scrolled": true
   },
   "outputs": [
    {
     "data": {
      "text/html": [
       "<table>\n",
       "<caption>A matrix: 2 × 2 of type dbl</caption>\n",
       "<thead>\n",
       "\t<tr><th></th><th scope=col>mu</th><th scope=col>sigma</th></tr>\n",
       "</thead>\n",
       "<tbody>\n",
       "\t<tr><th scope=row>mu</th><td>1.000000000</td><td>0.001852571</td></tr>\n",
       "\t<tr><th scope=row>sigma</th><td>0.001852571</td><td>1.000000000</td></tr>\n",
       "</tbody>\n",
       "</table>\n"
      ],
      "text/latex": [
       "A matrix: 2 × 2 of type dbl\n",
       "\\begin{tabular}{r|ll}\n",
       "  & mu & sigma\\\\\n",
       "\\hline\n",
       "\tmu & 1.000000000 & 0.001852571\\\\\n",
       "\tsigma & 0.001852571 & 1.000000000\\\\\n",
       "\\end{tabular}\n"
      ],
      "text/markdown": [
       "\n",
       "A matrix: 2 × 2 of type dbl\n",
       "\n",
       "| <!--/--> | mu | sigma |\n",
       "|---|---|---|\n",
       "| mu | 1.000000000 | 0.001852571 |\n",
       "| sigma | 0.001852571 | 1.000000000 |\n",
       "\n"
      ],
      "text/plain": [
       "      mu          sigma      \n",
       "mu    1.000000000 0.001852571\n",
       "sigma 0.001852571 1.000000000"
      ]
     },
     "metadata": {},
     "output_type": "display_data"
    }
   ],
   "source": [
    "cov2cor( vcov( m4.1 ) )"
   ]
  },
  {
   "cell_type": "markdown",
   "metadata": {
    "hidden": true
   },
   "source": [
    "The 1’s indicate a parameter’s correlation with itself. If these values were anything except 1, we would be worried. The other entries are typically closer to zero, and they are very close to zero in this example. This indicates that learning µ tells us nothing about σ and likewise that learning σ tells us nothing about µ. This is typical of simple Gaussian models of this kind."
   ]
  },
  {
   "cell_type": "markdown",
   "metadata": {
    "heading_collapsed": true
   },
   "source": [
    "##### **<font color = 'purple' style='background-color: lightyellow'>Okay, so how do we get samples from this multi-dimensional posterior? </font>**"
   ]
  },
  {
   "cell_type": "markdown",
   "metadata": {
    "hidden": true
   },
   "source": [
    "* Now instead of sampling single values from a simple Gaussian distribution, <font color = 'blue'>we sample vectors of values from a multi-dimensional Gaussian distribution</font>. The rethinking package provides a convenience function to do exactly that:"
   ]
  },
  {
   "cell_type": "code",
   "execution_count": 115,
   "metadata": {
    "ExecuteTime": {
     "end_time": "2020-01-15T15:52:58.664878Z",
     "start_time": "2020-01-15T15:52:58.376Z"
    },
    "collapsed": true,
    "hidden": true
   },
   "outputs": [
    {
     "data": {
      "text/html": [
       "<ol class=list-inline>\n",
       "\t<li>10000</li>\n",
       "\t<li>2</li>\n",
       "</ol>\n"
      ],
      "text/latex": [
       "\\begin{enumerate*}\n",
       "\\item 10000\n",
       "\\item 2\n",
       "\\end{enumerate*}\n"
      ],
      "text/markdown": [
       "1. 10000\n",
       "2. 2\n",
       "\n",
       "\n"
      ],
      "text/plain": [
       "[1] 10000     2"
      ]
     },
     "metadata": {},
     "output_type": "display_data"
    },
    {
     "data": {
      "text/html": [
       "<table>\n",
       "<caption>A data.frame: 6 × 2</caption>\n",
       "<thead>\n",
       "\t<tr><th scope=col>mu</th><th scope=col>sigma</th></tr>\n",
       "\t<tr><th scope=col>&lt;dbl&gt;</th><th scope=col>&lt;dbl&gt;</th></tr>\n",
       "</thead>\n",
       "<tbody>\n",
       "\t<tr><td>153.8407</td><td>7.889325</td></tr>\n",
       "\t<tr><td>154.6234</td><td>8.003041</td></tr>\n",
       "\t<tr><td>154.0346</td><td>7.834457</td></tr>\n",
       "\t<tr><td>155.4395</td><td>7.439438</td></tr>\n",
       "\t<tr><td>154.9600</td><td>7.748163</td></tr>\n",
       "\t<tr><td>155.4032</td><td>8.038799</td></tr>\n",
       "</tbody>\n",
       "</table>\n"
      ],
      "text/latex": [
       "A data.frame: 6 × 2\n",
       "\\begin{tabular}{r|ll}\n",
       " mu & sigma\\\\\n",
       " <dbl> & <dbl>\\\\\n",
       "\\hline\n",
       "\t 153.8407 & 7.889325\\\\\n",
       "\t 154.6234 & 8.003041\\\\\n",
       "\t 154.0346 & 7.834457\\\\\n",
       "\t 155.4395 & 7.439438\\\\\n",
       "\t 154.9600 & 7.748163\\\\\n",
       "\t 155.4032 & 8.038799\\\\\n",
       "\\end{tabular}\n"
      ],
      "text/markdown": [
       "\n",
       "A data.frame: 6 × 2\n",
       "\n",
       "| mu &lt;dbl&gt; | sigma &lt;dbl&gt; |\n",
       "|---|---|\n",
       "| 153.8407 | 7.889325 |\n",
       "| 154.6234 | 8.003041 |\n",
       "| 154.0346 | 7.834457 |\n",
       "| 155.4395 | 7.439438 |\n",
       "| 154.9600 | 7.748163 |\n",
       "| 155.4032 | 8.038799 |\n",
       "\n"
      ],
      "text/plain": [
       "  mu       sigma   \n",
       "1 153.8407 7.889325\n",
       "2 154.6234 8.003041\n",
       "3 154.0346 7.834457\n",
       "4 155.4395 7.439438\n",
       "5 154.9600 7.748163\n",
       "6 155.4032 8.038799"
      ]
     },
     "metadata": {},
     "output_type": "display_data"
    }
   ],
   "source": [
    "post <- extract.samples( m4.1 , n=1e4 )\n",
    "post %>% dim()\n",
    "head(post)"
   ]
  },
  {
   "cell_type": "markdown",
   "metadata": {
    "hidden": true
   },
   "source": [
    "Each value is a sample from the posterior, so the mean and standard deviation of each column will be very close to the MAP values from before. You can confirm this by summarizing the samples:"
   ]
  },
  {
   "cell_type": "code",
   "execution_count": 120,
   "metadata": {
    "ExecuteTime": {
     "end_time": "2020-01-15T15:54:30.957332Z",
     "start_time": "2020-01-15T15:54:30.894Z"
    },
    "hidden": true,
    "scrolled": true
   },
   "outputs": [
    {
     "data": {
      "text/html": [
       "<table>\n",
       "<caption>A precis: 2 × 4</caption>\n",
       "<thead>\n",
       "\t<tr><th></th><th scope=col>mean</th><th scope=col>sd</th><th scope=col>5.5%</th><th scope=col>94.5%</th></tr>\n",
       "\t<tr><th></th><th scope=col>&lt;dbl&gt;</th><th scope=col>&lt;dbl&gt;</th><th scope=col>&lt;dbl&gt;</th><th scope=col>&lt;dbl&gt;</th></tr>\n",
       "</thead>\n",
       "<tbody>\n",
       "\t<tr><th scope=row>mu</th><td>154.6081</td><td>0.4109040</td><td>153.94834</td><td>155.266225</td></tr>\n",
       "\t<tr><th scope=row>sigma</th><td>  7.7324</td><td>0.2911536</td><td>  7.26927</td><td>  8.198552</td></tr>\n",
       "</tbody>\n",
       "</table>\n"
      ],
      "text/latex": [
       "A precis: 2 × 4\n",
       "\\begin{tabular}{r|llll}\n",
       "  & mean & sd & 5.5\\% & 94.5\\%\\\\\n",
       "  & <dbl> & <dbl> & <dbl> & <dbl>\\\\\n",
       "\\hline\n",
       "\tmu & 154.6081 & 0.4109040 & 153.94834 & 155.266225\\\\\n",
       "\tsigma &   7.7324 & 0.2911536 &   7.26927 &   8.198552\\\\\n",
       "\\end{tabular}\n"
      ],
      "text/markdown": [
       "\n",
       "A precis: 2 × 4\n",
       "\n",
       "| <!--/--> | mean &lt;dbl&gt; | sd &lt;dbl&gt; | 5.5% &lt;dbl&gt; | 94.5% &lt;dbl&gt; |\n",
       "|---|---|---|---|---|\n",
       "| mu | 154.6081 | 0.4109040 | 153.94834 | 155.266225 |\n",
       "| sigma |   7.7324 | 0.2911536 |   7.26927 |   8.198552 |\n",
       "\n"
      ],
      "text/plain": [
       "      mean     sd        5.5%      94.5%     \n",
       "mu    154.6081 0.4109040 153.94834 155.266225\n",
       "sigma   7.7324 0.2911536   7.26927   8.198552"
      ]
     },
     "metadata": {},
     "output_type": "display_data"
    }
   ],
   "source": [
    "# samples from QUAP model\n",
    "precis(post, hist=F)"
   ]
  },
  {
   "cell_type": "markdown",
   "metadata": {
    "hidden": true
   },
   "source": [
    "Compare these values to the output from ```precis(m4.1)```. And you can use ```plot(post)``` to see how much they resemble the samples from the grid approximation in Figure 4.4 (page 88).\n",
    "\n",
    "<img src='pics/SR_z36.png' alt='Drawing' style='width:325pt'/>"
   ]
  },
  {
   "cell_type": "code",
   "execution_count": 127,
   "metadata": {
    "ExecuteTime": {
     "end_time": "2020-01-15T16:52:57.039612Z",
     "start_time": "2020-01-15T16:52:56.977Z"
    },
    "hidden": true
   },
   "outputs": [
    {
     "data": {
      "text/html": [
       "<table>\n",
       "<caption>A precis: 2 × 4</caption>\n",
       "<thead>\n",
       "\t<tr><th></th><th scope=col>mean</th><th scope=col>sd</th><th scope=col>5.5%</th><th scope=col>94.5%</th></tr>\n",
       "\t<tr><th></th><th scope=col>&lt;dbl&gt;</th><th scope=col>&lt;dbl&gt;</th><th scope=col>&lt;dbl&gt;</th><th scope=col>&lt;dbl&gt;</th></tr>\n",
       "</thead>\n",
       "<tbody>\n",
       "\t<tr><th scope=row>mu</th><td>154.607223</td><td>0.4119744</td><td>153.948808</td><td>155.265637</td></tr>\n",
       "\t<tr><th scope=row>sigma</th><td>  7.730952</td><td>0.2913501</td><td>  7.265318</td><td>  8.196586</td></tr>\n",
       "</tbody>\n",
       "</table>\n"
      ],
      "text/latex": [
       "A precis: 2 × 4\n",
       "\\begin{tabular}{r|llll}\n",
       "  & mean & sd & 5.5\\% & 94.5\\%\\\\\n",
       "  & <dbl> & <dbl> & <dbl> & <dbl>\\\\\n",
       "\\hline\n",
       "\tmu & 154.607223 & 0.4119744 & 153.948808 & 155.265637\\\\\n",
       "\tsigma &   7.730952 & 0.2913501 &   7.265318 &   8.196586\\\\\n",
       "\\end{tabular}\n"
      ],
      "text/markdown": [
       "\n",
       "A precis: 2 × 4\n",
       "\n",
       "| <!--/--> | mean &lt;dbl&gt; | sd &lt;dbl&gt; | 5.5% &lt;dbl&gt; | 94.5% &lt;dbl&gt; |\n",
       "|---|---|---|---|---|\n",
       "| mu | 154.607223 | 0.4119744 | 153.948808 | 155.265637 |\n",
       "| sigma |   7.730952 | 0.2913501 |   7.265318 |   8.196586 |\n",
       "\n"
      ],
      "text/plain": [
       "      mean       sd        5.5%       94.5%     \n",
       "mu    154.607223 0.4119744 153.948808 155.265637\n",
       "sigma   7.730952 0.2913501   7.265318   8.196586"
      ]
     },
     "metadata": {},
     "output_type": "display_data"
    }
   ],
   "source": [
    "precis(m4.1)"
   ]
  },
  {
   "cell_type": "markdown",
   "metadata": {
    "hidden": true
   },
   "source": [
    "Each value is a sample from the posterior, so the mean and standard deviation of each column will be very close to the QUAP values from before. You can confirm this by summarizing the samples:"
   ]
  },
  {
   "cell_type": "code",
   "execution_count": 128,
   "metadata": {
    "ExecuteTime": {
     "end_time": "2020-01-15T17:08:08.559151Z",
     "start_time": "2020-01-15T17:08:07.600Z"
    },
    "hidden": true
   },
   "outputs": [
    {
     "data": {
      "image/png": "[encoded data removed]",
      "text/plain": [
       "plot without title"
      ]
     },
     "metadata": {
      "image/png": {
       "height": 420,
       "width": 420
      }
     },
     "output_type": "display_data"
    }
   ],
   "source": [
    "plot(post)"
   ]
  },
  {
   "cell_type": "code",
   "execution_count": null,
   "metadata": {
    "hidden": true
   },
   "outputs": [],
   "source": []
  },
  {
   "cell_type": "markdown",
   "metadata": {
    "hidden": true
   },
   "source": [
    "<hr>"
   ]
  },
  {
   "cell_type": "markdown",
   "metadata": {
    "heading_collapsed": true
   },
   "source": [
    "##### <b><font color = 'purple'>Overthinking </font></b>"
   ]
  },
  {
   "cell_type": "markdown",
   "metadata": {
    "hidden": true
   },
   "source": [
    "<b><font color = 'purple'>Overthinking </font></b>: Under the hood with multivariate sampling. The function extract.samples is for convenience. It is just running a simple simulation of the sort you conducted near the end of Chapter 3. Here’s a peak at the motor. <font color = 'blue'>The work is done by a multi-dimensional version of rnorm, <span style='background-color: lightgreen'>mvrnorm</span>.</font>\n",
    "The function rnorm simulates random Gaussian values, while mvrnorm simulates random vectors of multivariate Gaussian values. Here’s how to use it directly to do what extract.samples does:\n",
    "\n",
    "```\n",
    "library(MASS)\n",
    "post <- mvrnorm( n=1e4 , mu=coef(m4.1) , Sigma=vcov(m4.1) )\n",
    "\n",
    "```\n",
    "You don’t usually need to use mvrnorm directly like this, but sometimes you want to simulate multi-\n",
    "variate Gaussian outcomes. In that case, you’ll need to access mvrnorm directly. And of course it’s\n",
    "always good to know a little about how the machine operates. Later on, we’ll work with posterior\n",
    "distributions that cannot be correctly approximated this way."
   ]
  },
  {
   "cell_type": "markdown",
   "metadata": {
    "hidden": true
   },
   "source": [
    "**<font color = 'purple' style='background-color: lightyellow'>Overthinking</font>**: Getting σ right. The quadratic assumption for σ can be problematic, as seen on page 85. A conventional way to improve the situation is the estimate log(σ) instead. Why does this help? \n",
    "\n",
    "* While the posterior distribution of σ will often not be Gaussian, the distribution of its logarithm can be much closer to Gaussian. **So if we impose the quadratic approximation on the logarithm, rather than the standard deviation itself, we can often get a better approximation of the uncertainty**. Here’s how you can do this, using map."
   ]
  },
  {
   "cell_type": "code",
   "execution_count": 64,
   "metadata": {
    "hidden": true
   },
   "outputs": [],
   "source": [
    "m4.1_logsigma <- map( \n",
    "    alist(\n",
    "        height ~ dnorm( mu , exp(log_sigma) ) ,\n",
    "        mu ~ dnorm( 178 , 20 ) ,\n",
    "        log_sigma ~ dnorm( 2 , 10 )\n",
    "    ) , \n",
    "    data=d2 )"
   ]
  },
  {
   "cell_type": "code",
   "execution_count": 65,
   "metadata": {
    "hidden": true
   },
   "outputs": [
    {
     "data": {
      "text/html": [
       "1.00000000000001"
      ],
      "text/latex": [
       "1.00000000000001"
      ],
      "text/markdown": [
       "1.00000000000001"
      ],
      "text/plain": [
       "[1] 1"
      ]
     },
     "metadata": {},
     "output_type": "display_data"
    }
   ],
   "source": [
    "dnorm( 2 , 10 ) %>% exp()"
   ]
  },
  {
   "cell_type": "markdown",
   "metadata": {
    "hidden": true
   },
   "source": [
    "* Notice the exp inside the likelihood. That converts a continuous parameter, log_sigma, to be strictly positive, because exp(x) > 0 for any real value x. \n",
    "* Notice also the prior for log_sigma. Since log_sigma is continuous now, it can have a Gaussian prior."
   ]
  },
  {
   "cell_type": "code",
   "execution_count": 63,
   "metadata": {
    "collapsed": true,
    "hidden": true
   },
   "outputs": [
    {
     "data": {
      "image/png": "[encoded data removed]",
      "text/plain": [
       "Plot with title \"Histogram of .\""
      ]
     },
     "metadata": {},
     "output_type": "display_data"
    }
   ],
   "source": [
    "post <- extract.samples( m4.1_logsigma ) \n",
    "sigma <- exp( post$log_sigma )\n",
    "\n",
    "sigma %>% hist()\n",
    "\n"
   ]
  },
  {
   "cell_type": "code",
   "execution_count": null,
   "metadata": {
    "hidden": true
   },
   "outputs": [],
   "source": []
  },
  {
   "cell_type": "markdown",
   "metadata": {},
   "source": [
    "## Adding a predictor"
   ]
  },
  {
   "cell_type": "markdown",
   "metadata": {
    "cell_style": "split"
   },
   "source": [
    "**<font color = 'purple' style='background-color: lightyellow'>So now let’s look at how height in these Kalahari foragers covaries with weight</font>**. This isn’t the most thrilling scientific question, I know. But it is an easy relationship to start with, and it only seems dull because you don’t have a theory about growth and life history in mind. If you did, it would be thrilling. Go ahead and plot height and weight against one another to get an idea of how strongly they covary:"
   ]
  },
  {
   "cell_type": "code",
   "execution_count": 66,
   "metadata": {
    "cell_style": "split"
   },
   "outputs": [
    {
     "data": {
      "image/png": "[encoded data removed]",
      "text/plain": [
       "plot without title"
      ]
     },
     "metadata": {},
     "output_type": "display_data"
    }
   ],
   "source": [
    "plot( d2$height ~ d2$weight )"
   ]
  },
  {
   "cell_type": "markdown",
   "metadata": {},
   "source": [
    "### The linear model strategy."
   ]
  },
  {
   "cell_type": "markdown",
   "metadata": {},
   "source": [
    "The strategy is to make the parameter for the mean of a Gaussian distribution, µ, into a linear function of the predictor variable and other, new parameters that we invent. \n",
    "\n",
    "* This strategy is often simply called the linear model. The linear model strategy instructs the golem to assume that the predictor variable has a perfectly constant and additive relationship to the mean of the outcome. The golem then computes the posterior distribution of this constant relationship.\n",
    "\n",
    "What this means, recall, is that the machine considers every possible combination of the parameter values. \n",
    "\n",
    "* With a linear model, some of the parameters now stand for the strength of association between the mean of the outcome and the value of the predictor. \n",
    "\n",
    "* For each combination of values, the machine computes the posterior probability, which is a measure of relative plausibility, given the model and data. \n",
    "\n",
    "* So the posterior distribution ranks the infinite possible combinations of parameter values by their logical plausibility. As a result, the posterior distribution provides relative plausibilities of the different possible strengths of association, given the assumptions you programmed into the model."
   ]
  },
  {
   "cell_type": "markdown",
   "metadata": {},
   "source": [
    "<img src='pics/SR_g18.png' alt='Drawing' style='width:325pt'/>"
   ]
  },
  {
   "cell_type": "markdown",
   "metadata": {},
   "source": [
    "<font color = 'green'>**<span style='background-color: lightgreen'>Likelihood</span>**</font>. To decode all of this, let’s begin with just the likelihood, the first line of the model. This is nearly identical to before, except now there is a little index i on the µ, as well as the h. This is necessary now, because the mean µ now depends upon unique predictor values on each row i. So the little i on µi indicates that the mean depends upon the row."
   ]
  },
  {
   "cell_type": "markdown",
   "metadata": {},
   "source": [
    "<font color = 'green'>**<span style='background-color: lightgreen'>Linear model</span>**</font>. <font color = 'green'>The mean µ is no longer a parameter to be estimated. Rather, as seen in the second line of the model, $µ_i$ is constructed from other parameters, α and β, and the predictor variable x</font>. This line is not a stochastic relationship—there is no ∼ in it, but rather an = in it—because the definition of µi is deterministic, not probabilistic. That is to say that, once we know α and β and $x_i$, we also know µ_i.\n",
    "\n",
    "The value $x_i$ is just the weight value on row i. It refers to the same individual as the height value, $h_i$, on the same row. \n",
    "\n",
    "**<font color = 'purple' style='background-color: lightyellow'>The parameters α and β are more mysterious. Where did they come from? </font>**We made them up. The parameters µ and σ are necessary and sufficient to describe a Gaussian distribution. But α and β are instead devices we invent for manipulating µ, allowing it to vary systematically across cases in the data.\n",
    "\n",
    "You’ll be making up all manner of parameters as your skills improve. One way to understand these made-up parameters is to think of them as targets of learning. \n",
    "* Each parameter is something that must be described in the posterior density. So when you want to know something about the data, you ask your golem by inventing a parameter for it. This will make more and more sense as you progress. Here’s how it works in this context. The second line of the model definition is just: $µ_i = α + βx_i$\n",
    "\n",
    "(1) **<font color = 'purple' style='background-color: lightyellow'>What is the expected height, when $x_i$ = 0</font>**? The parameter α answers this question. For this reason, α is often called the intercept. \n",
    "\n",
    "(2) **<font color = 'purple' style='background-color: lightyellow'>What is the change in expected height, when $x_i$ changes by 1 unit</font>**? The parameter β answers this question.\n",
    "\n",
    "<font color = 'green'>Jointly these two parameters, together with x, ask the golem to find a line that relates x to h, a line that passes through α when xi = 0 and has slope β. That is a task that golems are very good at. It’s up to you, though, to be sure it’s a good question.</font>"
   ]
  },
  {
   "cell_type": "markdown",
   "metadata": {},
   "source": [
    "<span style='background-color: lightgreen'>Priors</span>. <font color = 'green'>The remaining lines in the model define priors for the parameters to be estimated: α, β, and σ</font>. All of these are weak priors, leading to inferences that will echo nonBayesian methods of model fitting, such as maximum likelihood. But as always, you should play around with the priors—plotting them, changing them, and refitting the model—to get a sense of their influence. \n",
    "\n",
    "You’ve seen priors for α and σ before, although α was called µ back then. I’ve widened the prior for α, since as you’ll see it is common for the intercept in a linear model to swing a long way from the mean of the outcome variable. The flat prior here with a huge standard deviation will allow it to move wherever it needs to. This won’t make sense right now, but once you see the posterior distribution, it will. \n",
    "\n",
    "**<font color = 'purple' style='background-color: lightyellow'>The prior for β deserves explanation. Why have a Gaussian prior with mean zero? </font>** This prior places just as much probability below zero as it does above zero, and when β = 0, weight has no relationship to height. So many people see it as conservative assumption. And such a prior will pull probability mass towards zero, leading to more conservative estimates than a perfectly flat prior will. \n",
    "\n",
    "* But note that a Gaussian prior with standard deviation of 10 is still very weak, so the amount of conservatism it induces will be very small. **As you make the standard deviation in this prior smaller, the amount of shrinkage towards zero increases and your model produces more and more conservative estimates about the relationship between height and weight**. In Chapter 6, you’ll see why such conservative priors are useful for improving inference.\n",
    "\n",
    "<font color = 'lightgrey'> Before fitting this model, though, consider whether this zero-centered prior really makes sense. Do you think there’s just as much chance that the relationship between height and weight is negative as that it is positive? Of course you don’t. In this context, such a silly prior is harmless, because there is a lot of data. But in other contexts, your golem may need a little nudge in the right direction.</font>"
   ]
  },
  {
   "cell_type": "markdown",
   "metadata": {
    "heading_collapsed": true
   },
   "source": [
    "### Fitting the model."
   ]
  },
  {
   "cell_type": "markdown",
   "metadata": {
    "hidden": true
   },
   "source": [
    "The code needed to fit this model via quadratic approximation is a straightforward modification of the kind of code you’ve already seen. All we have to do is incorporate our new model for the mean into the model specification inside map and be sure to add our new parameters to the start list. Let’s repeat the model definition, now with the corresponding R code on the right-hand side:"
   ]
  },
  {
   "cell_type": "markdown",
   "metadata": {
    "hidden": true
   },
   "source": [
    "<img src='pics/SR_g19.png' alt='Drawing' style='width:425pt'/>"
   ]
  },
  {
   "cell_type": "markdown",
   "metadata": {
    "hidden": true
   },
   "source": [
    "Notice that the linear model, in the R code on the right-hand side, uses the <span style='background-color: lightgreen'>R assignment operator, <-</span>, even though the mathematical definition uses the symbol =. This is a code convention shared by several Bayesian model fitting engines, so it’s worth getting used to the switch. You just have to remember to use <instead of = when defining a linear model. That’s it."
   ]
  },
  {
   "cell_type": "code",
   "execution_count": 16,
   "metadata": {
    "hidden": true
   },
   "outputs": [],
   "source": [
    "# the above allows us to build the MAP model fit:\n",
    "\n",
    "# load data again, since it's a long way back\n",
    "library(rethinking)\n",
    "data(Howell1)\n",
    "d <- Howell1\n",
    "d2 <- d[ d$age >= 18 , ]\n",
    "\n",
    "# fit model\n",
    "m4.3 <- map(\n",
    "    alist(\n",
    "        height ~ dnorm( mu , sigma ) ,\n",
    "        mu <- a + b*weight ,\n",
    "        a ~ dnorm( 156 , 100 ) ,\n",
    "        b ~ dnorm( 0 , 10 ) ,\n",
    "        sigma ~ dunif( 0 , 50 )\n",
    "    ) ,\n",
    "    data=d2 )\n",
    "\n"
   ]
  },
  {
   "cell_type": "code",
   "execution_count": 56,
   "metadata": {
    "hidden": true
   },
   "outputs": [
    {
     "ename": "ERROR",
     "evalue": "Error in quap(alist(W ~ dbinom(W + L, p), p ~ dunif(0, 1)), data = list(W = 6, : could not find function \"quap\"\n",
     "output_type": "error",
     "traceback": [
      "Error in quap(alist(W ~ dbinom(W + L, p), p ~ dunif(0, 1)), data = list(W = 6, : could not find function \"quap\"\nTraceback:\n"
     ]
    }
   ],
   "source": [
    "library(rethinking)\n",
    "globe.qa <- quap(\n",
    "    alist(\n",
    "        W ~ dbinom( W+L ,p) ,  # binomial likelihood\n",
    "        p ~ dunif(0,1)     # uniform prior\n",
    "    ) ,\n",
    "    data=list(W=6,L=3) )\n",
    "\n",
    "# display summary of quadratic approximation\n",
    "precis( globe.qa )"
   ]
  },
  {
   "cell_type": "markdown",
   "metadata": {
    "hidden": true
   },
   "source": [
    "**<font color = 'green'>The parameter mu is no longer really a parameter here, because it has been replaced by the linear model, a+b*weight</font>**, where a is α and b is β and weight is of course our x in this instance. \n",
    "> So there is a prior for the parameter a now, but not one for mu, since mu is defined by the linear model instead."
   ]
  },
  {
   "cell_type": "markdown",
   "metadata": {
    "hidden": true
   },
   "source": [
    "<font color = 'blue'>**Rethinking**</font>: Everything that depends upon parameters has a posterior distribution. In the model introduced above, the parameter µ is no longer a parameter, since it has become a function of the parameters α and β. But since the parameters α and β have a joint posterior, so too does µ. Later in the chapter, you’ll work directly the posterior distribution of µ, even though it’s not a parameter anymore. \n",
    "\n",
    "<font color = 'blue'>Since parameters are uncertain, everything that depends upon them is also uncertain</font>. This includes statistics like µ, as well as model-based predictions, measures of fit, and everything else that uses parameters. By working with samples from the posterior, all you have to do to account for posterior uncertainty in any quantity is to compute that quantity for each sample from the posterior. The resulting quantities, one for each posterior sample, will approximate the quantity’s posterior distribution."
   ]
  },
  {
   "cell_type": "markdown",
   "metadata": {
    "hidden": true
   },
   "source": [
    "<hr>"
   ]
  },
  {
   "cell_type": "markdown",
   "metadata": {
    "hidden": true
   },
   "source": [
    "Overthinking: Embedding linear models. It may help to understand what the linear model is doing, by seeing another way to fit the same model, but without a separate line for the linear model. You can just merge the linear model into the likelihood definition, like this:"
   ]
  },
  {
   "cell_type": "code",
   "execution_count": 15,
   "metadata": {
    "hidden": true
   },
   "outputs": [],
   "source": [
    "m4.3 <- map( \n",
    "    alist(\n",
    "        height ~ dnorm( a + b*weight , sigma ) ,\n",
    "        a ~ dnorm( 178 , 100 ) ,\n",
    "        b ~ dnorm( 0 , 10 ) ,\n",
    "        sigma ~ dunif( 0 , 50 )\n",
    "    ) ,\n",
    "    data=d2 )"
   ]
  },
  {
   "cell_type": "markdown",
   "metadata": {
    "hidden": true
   },
   "source": [
    "This is exactly the same model, but with the linear definition for µ embedded \n",
    "in the first line of code. The form with the explicit linear model, `mu <- a + b*weight`, is easier to read. But the form just above better reflects the actual computation. Some of the helper functions you’ll use later depend upon the explicit linear model however, so I recommend using it. It’ll make life a little easier."
   ]
  },
  {
   "cell_type": "markdown",
   "metadata": {
    "heading_collapsed": true
   },
   "source": [
    "### Interpreting the model fit."
   ]
  },
  {
   "cell_type": "markdown",
   "metadata": {
    "hidden": true
   },
   "source": [
    "Plotting the implications of your estimates will allow you to inquire about several things that are sometimes hard to read from tables:\n",
    "\n",
    "1. Whether or not the model fitting procedure worked correctly\n",
    "* The absolute magnitude, rather than merely relative magnitude, of a relationship between outcome and predictor\n",
    "* The uncertainty surrounding an average relationship\n",
    "* The uncertainty surrounding the implied predictions of the model, as these are distinct from mere parameter uncertainty"
   ]
  },
  {
   "cell_type": "markdown",
   "metadata": {
    "hidden": true
   },
   "source": [
    "The perspective in this book is a common Bayesian perspective: Posterior probabilities of parameter values describe the relative compatibility of different states of the world with the data, according to the model. These are small world (Chapter 2) numbers. So reasonable people may disagree about the large world meaning, and the details of those disagreements depend strongly upon context. Such disagreements are productive, because they lead to model criticism and revision, something that golems cannot do for themselves."
   ]
  },
  {
   "cell_type": "markdown",
   "metadata": {
    "heading_collapsed": true,
    "hidden": true
   },
   "source": [
    "#### <HR>\n",
    "<span style='background-color: lightyellow'><font color = 'purple'>**TABLES**</font></span>"
   ]
  },
  {
   "cell_type": "code",
   "execution_count": 69,
   "metadata": {
    "hidden": true
   },
   "outputs": [
    {
     "data": {
      "text/plain": [
       "        Mean StdDev   5.5%  94.5%\n",
       "a     113.90   1.91 110.86 116.95\n",
       "b       0.90   0.04   0.84   0.97\n",
       "sigma   5.07   0.19   4.77   5.38"
      ]
     },
     "metadata": {},
     "output_type": "display_data"
    }
   ],
   "source": [
    "precis(m4.3)"
   ]
  },
  {
   "cell_type": "markdown",
   "metadata": {
    "hidden": true
   },
   "source": [
    "The first row gives the quadratic approximation for α, the second the approximation for β, and the third approximation for σ. Let’s try to make some sense of them in this very simple model.\n",
    "\n",
    "<font color = 'green'>**Best to begin with b (β)**</font>, because it’s the new parameter. \n",
    "\n",
    "* Since β is a slope, the value 0.90 can be read as a person 1 kg heavier is expected to be 0.90 cm taller. 89% of the posterior probability lies between 0.84 and 0.97. That suggests that β values close to zero or greatly above one are highly incompatible with these data and this model. \n",
    "\n",
    "    If you were thinking that perhaps there was no relationship at all between height and weight, then this estimate indicates strong evidence of a positive relationship instead. \n",
    "    > But maybe you just wanted as precise a measurement as possible of the relationship between height and weight. This estimate embodies that measurement, conditional on the model. For a different model, the measure of the relationship might be different."
   ]
  },
  {
   "cell_type": "markdown",
   "metadata": {
    "hidden": true
   },
   "source": [
    "<font color = 'green'>**The estimate of α**</font>, a in the precis table, indicates that a person of weight 0 should be 114cm tall. This is nonsense, since real people always have positive weight, yet it is also true. Parameters like α are “intercepts” that tell us the value of µ when all of the predictor variables have value zero. As a consequence, the value of the intercept is frequently uninterpretable without also studying any β parameters. This is why we need very weak priors for intercepts, in many cases."
   ]
  },
  {
   "cell_type": "markdown",
   "metadata": {
    "hidden": true
   },
   "source": [
    "Finally, <font color = 'green'>**the estimate for σ, sigma**</font>, informs us of the width of the distribution of heights around the mean. A quick way to interpret it is to recall that about 95% of the probability in a Gaussian distribution lies between two standard deviations. So in this case, the estimate tells us that 95% of plausible heights lie within 10cm (2σ) of the mean height. But there is also uncertainty about this, as indicated by the 89% percentile interval."
   ]
  },
  {
   "cell_type": "markdown",
   "metadata": {
    "hidden": true
   },
   "source": [
    "As I mentioned at the start of this section, <font color = 'green'>**the numbers in the default precis output aren’t sufficient to describe the quadratic posterior completely. For that, we also require the variance-covariance matrix**</font>. We’re interested in correlations among parameters—we already have their variance in the table above—so let’s go straight to the correlation matrix:"
   ]
  },
  {
   "cell_type": "code",
   "execution_count": 70,
   "metadata": {
    "hidden": true
   },
   "outputs": [
    {
     "data": {
      "text/html": [
       "<table>\n",
       "<thead><tr><th></th><th scope=col>a</th><th scope=col>b</th><th scope=col>sigma</th></tr></thead>\n",
       "<tbody>\n",
       "\t<tr><th scope=row>a</th><td> 3.6300481346</td><td>-7.906106e-02</td><td> 3.481379e-04</td></tr>\n",
       "\t<tr><th scope=row>b</th><td>-0.0790610589</td><td> 1.757297e-03</td><td>-7.587229e-06</td></tr>\n",
       "\t<tr><th scope=row>sigma</th><td> 0.0003481379</td><td>-7.587229e-06</td><td> 3.653969e-02</td></tr>\n",
       "</tbody>\n",
       "</table>\n"
      ],
      "text/latex": [
       "\\begin{tabular}{r|lll}\n",
       "  & a & b & sigma\\\\\n",
       "\\hline\n",
       "\ta &  3.6300481346 & -7.906106e-02 &  3.481379e-04\\\\\n",
       "\tb & -0.0790610589 &  1.757297e-03 & -7.587229e-06\\\\\n",
       "\tsigma &  0.0003481379 & -7.587229e-06 &  3.653969e-02\\\\\n",
       "\\end{tabular}\n"
      ],
      "text/markdown": [
       "\n",
       "| <!--/--> | a | b | sigma | \n",
       "|---|---|---|\n",
       "| a |  3.6300481346 | -7.906106e-02 |  3.481379e-04 | \n",
       "| b | -0.0790610589 |  1.757297e-03 | -7.587229e-06 | \n",
       "| sigma |  0.0003481379 | -7.587229e-06 |  3.653969e-02 | \n",
       "\n",
       "\n"
      ],
      "text/plain": [
       "      a             b             sigma        \n",
       "a      3.6300481346 -7.906106e-02  3.481379e-04\n",
       "b     -0.0790610589  1.757297e-03 -7.587229e-06\n",
       "sigma  0.0003481379 -7.587229e-06  3.653969e-02"
      ]
     },
     "metadata": {},
     "output_type": "display_data"
    }
   ],
   "source": [
    "# covariance matrix\n",
    "vcov(m4.3)"
   ]
  },
  {
   "cell_type": "code",
   "execution_count": 73,
   "metadata": {
    "hidden": true
   },
   "outputs": [
    {
     "data": {
      "text/plain": [
       "        Mean StdDev   5.5%  94.5%     a     b sigma\n",
       "a     113.90   1.91 110.86 116.95  1.00 -0.99     0\n",
       "b       0.90   0.04   0.84   0.97 -0.99  1.00     0\n",
       "sigma   5.07   0.19   4.77   5.38  0.00  0.00     1"
      ]
     },
     "metadata": {},
     "output_type": "display_data"
    }
   ],
   "source": [
    "# correlation matrix\n",
    "precis(m4.3, corr=TRUE)"
   ]
  },
  {
   "cell_type": "raw",
   "metadata": {
    "hidden": true
   },
   "source": [
    "diag( vcov( m4.3 ) )\n",
    "cov2cor( vcov( m4.3 ) )"
   ]
  },
  {
   "cell_type": "markdown",
   "metadata": {
    "hidden": true
   },
   "source": [
    "The new columns on the far right show the correlations among the parameters. This is the same information you’d get by using cov2cor(vcov(m4.3)). <font color = 'blue'>Notice that α and β are almost perfectly negatively correlated</font>. Right now, this is harmless. It just means that these two parameters carry the same information—as you change the slope of the line, the best intercept changes to match it. **<font color = 'purple' style='background-color: lightyellow'>But in more complex models, strong correlations like this can make it difficult to fit the model to the data. So we’ll want to use some golem engineering tricks to avoid it, when possible.</font>**"
   ]
  },
  {
   "cell_type": "code",
   "execution_count": 77,
   "metadata": {
    "hidden": true
   },
   "outputs": [],
   "source": [
    "# The first trick is centering. Centering is the procedure of subtracting \n",
    "# the mean of a variable from each value. \n",
    "\n",
    "# Creates a centered version of the weight variable:\n",
    "d2$weight.c <- d2$weight - mean(d2$weight) "
   ]
  },
  {
   "cell_type": "code",
   "execution_count": 79,
   "metadata": {
    "hidden": true
   },
   "outputs": [
    {
     "data": {
      "text/html": [
       "7.67071804985571e-16"
      ],
      "text/latex": [
       "7.67071804985571e-16"
      ],
      "text/markdown": [
       "7.67071804985571e-16"
      ],
      "text/plain": [
       "[1] 7.670718e-16"
      ]
     },
     "metadata": {},
     "output_type": "display_data"
    }
   ],
   "source": [
    "# You can confirm that the average value of weight.c is zero: \n",
    "\n",
    "mean(d2$weight.c)"
   ]
  },
  {
   "cell_type": "markdown",
   "metadata": {
    "hidden": true
   },
   "source": [
    "Now let’s refit the model and see what this gains us:"
   ]
  },
  {
   "cell_type": "code",
   "execution_count": 80,
   "metadata": {
    "hidden": true
   },
   "outputs": [],
   "source": [
    "m4.4 <- map( \n",
    "    alist(\n",
    "        height ~ dnorm( mu , sigma ) ,\n",
    "        mu <- a + b*weight.c ,\n",
    "        a ~ dnorm( 178 , 100 ) ,\n",
    "        b ~ dnorm( 0 , 10 ) ,\n",
    "        sigma ~ dunif( 0 , 50 )\n",
    "    ) ,\n",
    "    data=d2 )"
   ]
  },
  {
   "cell_type": "markdown",
   "metadata": {
    "hidden": true
   },
   "source": [
    "The above code just replaces weight with weight.c, the new variable. Now for the new estimates:"
   ]
  },
  {
   "cell_type": "code",
   "execution_count": 81,
   "metadata": {
    "hidden": true
   },
   "outputs": [
    {
     "data": {
      "text/plain": [
       "        Mean StdDev   5.5%  94.5% a b sigma\n",
       "a     154.60   0.27 154.17 155.03 1 0     0\n",
       "b       0.91   0.04   0.84   0.97 0 1     0\n",
       "sigma   5.07   0.19   4.77   5.38 0 0     1"
      ]
     },
     "metadata": {},
     "output_type": "display_data"
    }
   ],
   "source": [
    "precis( m4.4 , corr=TRUE ) "
   ]
  },
  {
   "cell_type": "markdown",
   "metadata": {
    "hidden": true
   },
   "source": [
    "**<font color = 'purple' style='background-color: lightyellow'>The estimates for β and σ are unchanged (within rounding error), but the estimate for α (a) is now the same as the average height value in the raw data. And the correlations among parameters are now all zero. What has happened here</font>**? "
   ]
  },
  {
   "cell_type": "code",
   "execution_count": 83,
   "metadata": {
    "hidden": true
   },
   "outputs": [
    {
     "data": {
      "text/html": [
       "154.597092613636"
      ],
      "text/latex": [
       "154.597092613636"
      ],
      "text/markdown": [
       "154.597092613636"
      ],
      "text/plain": [
       "[1] 154.5971"
      ]
     },
     "metadata": {},
     "output_type": "display_data"
    }
   ],
   "source": [
    "# Try it yourself: \n",
    "mean(d2$height)"
   ]
  },
  {
   "cell_type": "markdown",
   "metadata": {
    "hidden": true
   },
   "source": [
    "The estimate for the intercept, α, still means the same thing it did before: the expected value of the outcome variable, when the predictor variable is equal to zero. <font color = 'green'>But now the mean value of the predictor is also zero. So the intercept also means: the expected value of the outcome, when the predictor is at its average value. This makes interpreting the intercept a lot easier</font>."
   ]
  },
  {
   "cell_type": "markdown",
   "metadata": {
    "heading_collapsed": true,
    "hidden": true
   },
   "source": [
    "#### <hr>\n",
    "\n",
    "<span style='background-color: lightyellow'><font color = 'purple'>**PLOTS**</font></span>"
   ]
  },
  {
   "cell_type": "markdown",
   "metadata": {
    "hidden": true
   },
   "source": [
    "<FONT COLOR = 'GREEN'>**PLOTTING POSTERIOR INFERENCE AGAINST THE DATA**</FONT>"
   ]
  },
  {
   "cell_type": "markdown",
   "metadata": {
    "hidden": true
   },
   "source": [
    "Tables of estimates are usually insufficient for understanding the information contained in the posterior distribution. It’s almost always much more useful to plot the posterior inference against the data. Not only does plotting help in interpreting the posterior, but it also provides an informal check on model assumptions. When the model’s predictions don’t come close to key observations or patterns in the plotted data, then you might suspect the model either did not fit correctly or is rather badly specified. \n",
    "\n",
    "But even if you only treat plots as a way to help in interpreting the posterior, they are invaluable. For simple models like this one, it is easy to just read the table of numbers and understand what the model says. But for even slightly more complex models, especially those that include interaction effects (Chapter 7), interpreting posterior distributions is hard. Combine with this the problem of incorporating the information in vcov into your interpretations, and the plots are irreplaceable."
   ]
  },
  {
   "cell_type": "markdown",
   "metadata": {
    "hidden": true
   },
   "source": [
    "**<font color = 'purple' style='background-color: lightyellow'>We’re going to start with a simple version of that task, superimposing just the MAP values over the height and weight data</font>**. Then we’ll slowly add more and more information to the prediction plots, until we’ve used the entire posterior distribution. To superimpose the MAP values for mean height over the actual data:"
   ]
  },
  {
   "cell_type": "code",
   "execution_count": 6,
   "metadata": {
    "cell_style": "center",
    "hidden": true
   },
   "outputs": [
    {
     "data": {
      "image/png": "[encoded data removed]",
      "text/plain": [
       "plot without title"
      ]
     },
     "metadata": {},
     "output_type": "display_data"
    }
   ],
   "source": [
    "# figure 4.4\n",
    "plot( height ~ weight , data=d2 )\n",
    "abline( a=coef(m4.3)[\"a\"] , b=coef(m4.3)[\"b\"] )"
   ]
  },
  {
   "cell_type": "markdown",
   "metadata": {
    "hidden": true
   },
   "source": [
    "You can see the resulting plot in Figure 4.4. Each point in this plot is a single individual. <font color = 'green'>**The black line is defined by the MAP slope β and MAP intercept α.**</font> \n",
    "\n",
    "Notice that in the code above, I pulled the numbers straight from the fit model. The function coef returns a vector of MAP values, and the names of the parameters extract the intercept and slope."
   ]
  },
  {
   "cell_type": "markdown",
   "metadata": {
    "hidden": true
   },
   "source": [
    "<font color = 'green'>**ADDING UNCERTAINTY AROUND THE MEAN**</font>"
   ]
  },
  {
   "cell_type": "markdown",
   "metadata": {
    "hidden": true
   },
   "source": [
    "The MAP line is just the posterior mean, the most plausible line in the infinite universe of lines the posterior distribution has considered. Plots of the MAP line, like Figure 4.4, are useful for getting an impression of the magnitude of the estimated influence of a variable, like weight, on an outcome, like height.\n",
    "\n",
    "But they do a poor job of communicating uncertainty. Remember, the posterior distribution considers every possible regression line connecting height to weight. It assigns a relative plausibility to each. This means that each combination of α and β has a posterior probability. It could be that there are many lines with nearly the same posterior probability as the MAP line. Or it could be instead that the posterior distribution is rather narrow near the MAP line."
   ]
  },
  {
   "cell_type": "markdown",
   "metadata": {
    "hidden": true
   },
   "source": [
    "**<font color = 'purple' style='background-color: lightyellow'>So how can we get that uncertainty onto the plot?</font>** Together, a combination of α and β define a line. And so we could sample a bunch of lines from the posterior distribution. Then we could display those lines on the plot, to visualize the uncertainty in the regression relationship.\n",
    "\n",
    "To better appreciate how the posterior distribution contains lines, extract some samples from the model:"
   ]
  },
  {
   "cell_type": "code",
   "execution_count": 7,
   "metadata": {
    "hidden": true
   },
   "outputs": [
    {
     "data": {
      "text/html": [
       "<table>\n",
       "<thead><tr><th scope=col>a</th><th scope=col>b</th><th scope=col>sigma</th></tr></thead>\n",
       "<tbody>\n",
       "\t<tr><td>111.0335 </td><td>0.9783931</td><td>5.317455 </td></tr>\n",
       "\t<tr><td>115.6076 </td><td>0.8699909</td><td>5.093007 </td></tr>\n",
       "\t<tr><td>111.2162 </td><td>0.9666035</td><td>5.240632 </td></tr>\n",
       "\t<tr><td>114.1848 </td><td>0.8990597</td><td>4.884391 </td></tr>\n",
       "\t<tr><td>113.5276 </td><td>0.9016486</td><td>5.034012 </td></tr>\n",
       "\t<tr><td>114.3357 </td><td>0.8883874</td><td>4.959853 </td></tr>\n",
       "</tbody>\n",
       "</table>\n"
      ],
      "text/latex": [
       "\\begin{tabular}{r|lll}\n",
       " a & b & sigma\\\\\n",
       "\\hline\n",
       "\t 111.0335  & 0.9783931 & 5.317455 \\\\\n",
       "\t 115.6076  & 0.8699909 & 5.093007 \\\\\n",
       "\t 111.2162  & 0.9666035 & 5.240632 \\\\\n",
       "\t 114.1848  & 0.8990597 & 4.884391 \\\\\n",
       "\t 113.5276  & 0.9016486 & 5.034012 \\\\\n",
       "\t 114.3357  & 0.8883874 & 4.959853 \\\\\n",
       "\\end{tabular}\n"
      ],
      "text/markdown": [
       "\n",
       "a | b | sigma | \n",
       "|---|---|---|---|---|---|\n",
       "| 111.0335  | 0.9783931 | 5.317455  | \n",
       "| 115.6076  | 0.8699909 | 5.093007  | \n",
       "| 111.2162  | 0.9666035 | 5.240632  | \n",
       "| 114.1848  | 0.8990597 | 4.884391  | \n",
       "| 113.5276  | 0.9016486 | 5.034012  | \n",
       "| 114.3357  | 0.8883874 | 4.959853  | \n",
       "\n",
       "\n"
      ],
      "text/plain": [
       "  a        b         sigma   \n",
       "1 111.0335 0.9783931 5.317455\n",
       "2 115.6076 0.8699909 5.093007\n",
       "3 111.2162 0.9666035 5.240632\n",
       "4 114.1848 0.8990597 4.884391\n",
       "5 113.5276 0.9016486 5.034012\n",
       "6 114.3357 0.8883874 4.959853"
      ]
     },
     "metadata": {},
     "output_type": "display_data"
    }
   ],
   "source": [
    "post <- extract.samples( m4.3 )\n",
    "post %>% head()"
   ]
  },
  {
   "cell_type": "markdown",
   "metadata": {
    "hidden": true
   },
   "source": [
    "<font color = 'green'>**Each row is a correlated random sample from the joint posterior of all three parameters, using the covariances provided by vcov(m4.3)**</font>. \n",
    "\n",
    "* The paired values of a and b on each row define a line. \n",
    "\n",
    "\n",
    "* The average of very many of these lines is the MAP line. \n",
    "\n",
    "\n",
    "* But the scatter around that average is meaningful, because it alters our confidence in the relationship between the predictor and the outcome."
   ]
  },
  {
   "cell_type": "markdown",
   "metadata": {
    "hidden": true
   },
   "source": [
    "So now let’s display a bunch of these lines, so you can see the scatter. This lesson will be easier to appreciate, if we use only some of the data to begin. **<font color = 'purple' style='background-color: lightyellow'>Then you can see how adding in more data changes the scatter of the lines. So we’ll begin with just the first 10 cases in d2. The following code extracts the first 10 cases and re-estimates the model:</font>**"
   ]
  },
  {
   "cell_type": "code",
   "execution_count": 19,
   "metadata": {
    "hidden": true
   },
   "outputs": [],
   "source": [
    " N <- 352\n",
    "dN <- d2[ 1:N , ]\n",
    "mN <- map(\n",
    "alist(\n",
    "        height ~ dnorm( mu , sigma ) ,\n",
    "        mu <- a + b*weight ,\n",
    "        a ~ dnorm( 178 , 100 ) ,\n",
    "        b ~ dnorm( 0 , 10 ) ,\n",
    "        sigma ~ dunif( 0 , 50 )\n",
    "    ) , data=dN )"
   ]
  },
  {
   "cell_type": "markdown",
   "metadata": {
    "hidden": true
   },
   "source": [
    "Now let’s plot 20 of these lines, to see what the uncertainty looks like."
   ]
  },
  {
   "cell_type": "code",
   "execution_count": 20,
   "metadata": {
    "hidden": true
   },
   "outputs": [
    {
     "data": {
      "image/png": "[encoded data removed]",
      "text/plain": [
       "plot without title"
      ]
     },
     "metadata": {},
     "output_type": "display_data"
    }
   ],
   "source": [
    "### Figure 4.4\n",
    "# extract 20 samples from the posterior\n",
    "post <- extract.samples( mN , n=20 )\n",
    "\n",
    "# display raw data and sample size\n",
    "plot( dN$weight , dN$height ,\n",
    "    xlim=range(d2$weight) , ylim=range(d2$height) ,\n",
    "    col=rangi2 , xlab=\"weight\" , ylab=\"height\" )\n",
    "mtext(concat(\"N = \",N))\n",
    "\n",
    "# plot the lines, with transparency\n",
    "for ( i in 1:20 )\n",
    "    abline( a=post$a[i] , b=post$b[i] , col=col.alpha(\"black\",0.3) )"
   ]
  },
  {
   "cell_type": "code",
   "execution_count": 13,
   "metadata": {
    "hidden": true,
    "scrolled": true
   },
   "outputs": [
    {
     "data": {
      "text/html": [
       "<ol class=list-inline>\n",
       "\t<li>159.312367554174</li>\n",
       "\t<li>159.485320393585</li>\n",
       "\t<li>159.109329946145</li>\n",
       "\t<li>159.334211621335</li>\n",
       "\t<li>159.779473776346</li>\n",
       "\t<li>158.909049545628</li>\n",
       "</ol>\n"
      ],
      "text/latex": [
       "\\begin{enumerate*}\n",
       "\\item 159.312367554174\n",
       "\\item 159.485320393585\n",
       "\\item 159.109329946145\n",
       "\\item 159.334211621335\n",
       "\\item 159.779473776346\n",
       "\\item 158.909049545628\n",
       "\\end{enumerate*}\n"
      ],
      "text/markdown": [
       "1. 159.312367554174\n",
       "2. 159.485320393585\n",
       "3. 159.109329946145\n",
       "4. 159.334211621335\n",
       "5. 159.779473776346\n",
       "6. 158.909049545628\n",
       "\n",
       "\n"
      ],
      "text/plain": [
       "[1] 159.3124 159.4853 159.1093 159.3342 159.7795 158.9090"
      ]
     },
     "metadata": {},
     "output_type": "display_data"
    }
   ],
   "source": [
    "post <- extract.samples(m4.3)\n",
    "mu_at_50 <- post$a + post$b * 50 \n",
    "mu_at_50 %>% head()"
   ]
  },
  {
   "cell_type": "code",
   "execution_count": 14,
   "metadata": {
    "cell_style": "center",
    "hidden": true
   },
   "outputs": [
    {
     "data": {
      "image/png": "[encoded data removed]",
      "text/plain": [
       "Plot with title \"\""
      ]
     },
     "metadata": {},
     "output_type": "display_data"
    }
   ],
   "source": [
    " dens( mu_at_50 , \n",
    "      col=rangi2 , \n",
    "      lwd=2 , \n",
    "      xlab=\"mu|weight=50\" )"
   ]
  },
  {
   "cell_type": "markdown",
   "metadata": {
    "cell_style": "center",
    "hidden": true
   },
   "source": [
    "<font color = 'blue'>The quadratic approximate posterior distribution of the mean height, µ, when weight is 50 kg. This distribution represents the relative plausibility of different values of the mean. \n",
    "\n",
    "Since the components of µ have distributions, so too does µ. And since the distributions of α and β are Gaussian, so to is the distribution of µ (adding Gaussian distributions always produces a Gaussian distribution).</font>"
   ]
  },
  {
   "cell_type": "markdown",
   "metadata": {
    "hidden": true
   },
   "source": [
    "Since the posterior for µ is a distribution, you can find intervals for it, just like for any posterior distribution. To find the 89% highest posterior density interval of µ at 50 kg, just use the HPDI command as usual:"
   ]
  },
  {
   "cell_type": "code",
   "execution_count": 23,
   "metadata": {
    "cell_style": "center",
    "hidden": true
   },
   "outputs": [
    {
     "data": {
      "text/html": [
       "<dl class=dl-horizontal>\n",
       "\t<dt>|0.89</dt>\n",
       "\t\t<dd>158.596152795579</dd>\n",
       "\t<dt>0.89|</dt>\n",
       "\t\t<dd>159.681885397265</dd>\n",
       "</dl>\n"
      ],
      "text/latex": [
       "\\begin{description*}\n",
       "\\item[\\textbackslash{}textbar\\{\\}0.89] 158.596152795579\n",
       "\\item[0.89\\textbackslash{}textbar\\{\\}] 159.681885397265\n",
       "\\end{description*}\n"
      ],
      "text/markdown": [
       "|0.89\n",
       ":   158.5961527955790.89|\n",
       ":   159.681885397265\n",
       "\n"
      ],
      "text/plain": [
       "   |0.89    0.89| \n",
       "158.5962 159.6819 "
      ]
     },
     "metadata": {},
     "output_type": "display_data"
    }
   ],
   "source": [
    "HPDI( mu_at_50 , prob=0.89 )"
   ]
  },
  {
   "cell_type": "markdown",
   "metadata": {
    "hidden": true
   },
   "source": [
    "What these numbers mean is that the central 89% of the ways for the model to produce the data place the average height between about 159 cm and 160 cm (conditional on the model and data), assuming the weight is 50 kg."
   ]
  },
  {
   "cell_type": "markdown",
   "metadata": {
    "hidden": true
   },
   "source": [
    "That’s good so far, but we need to repeat the above calculation for every weight value on the horizontal axis, not just when it is 50 kg. **<font color = 'purple' style='background-color: lightyellow'>We want to draw 89% HPDIs around the MAP slope in Figure 4.4. </font>**\n",
    "\n",
    "This is made simple by strategic use of the <span style='background-color: lightgreen'>link function</span>, a part of the rethinking package. \n",
    "\n",
    "> <font color = 'green'>What link will do is \n",
    "> * take your map model fit, \n",
    "> * sample from the posterior distribution, and then \n",
    "> * compute µ for each case in the data and sample from the posterior distribution</font>. \n",
    "\n",
    "Here’s what it looks like for the data you used to fit the model:"
   ]
  },
  {
   "cell_type": "code",
   "execution_count": 24,
   "metadata": {
    "hidden": true,
    "scrolled": true
   },
   "outputs": [
    {
     "name": "stdout",
     "output_type": "stream",
     "text": [
      "[ 1000 / 1000 ]\n",
      " num [1:1000, 1:352] 157 157 157 157 157 ...\n"
     ]
    }
   ],
   "source": [
    "mu <- link( m4.3 )\n",
    "str(mu)"
   ]
  },
  {
   "cell_type": "markdown",
   "metadata": {
    "hidden": true
   },
   "source": [
    "You end up with a big matrix of values of µ. Each row is a sample from the posterior distribution. The default is 1000 samples, but you can use as many or as few as you like. \n",
    "\n",
    "Each column is a case (row) in the data. There are 352 rows in d2, corresponding to 352 individuals. So there are 352 columns in the matrix mu above."
   ]
  },
  {
   "cell_type": "markdown",
   "metadata": {
    "hidden": true
   },
   "source": [
    "**<font color = 'purple' style='background-color: lightyellow'>Now what can we do with this big matrix?</font>** Lots of things. \n",
    "\n",
    "* The function link provides a posterior distribution of µ for each case we feed it. So above we have a distribution of µ for each individual in the original data. <font color = 'green'>**We actually want something slightly different: a distribution of µ for each unique weight value on the horizontal axis**</font>. It’s only slightly harder to compute that, by just passing link some new data:"
   ]
  },
  {
   "cell_type": "code",
   "execution_count": 25,
   "metadata": {
    "hidden": true
   },
   "outputs": [
    {
     "name": "stdout",
     "output_type": "stream",
     "text": [
      "[ 1000 / 1000 ]\n",
      " num [1:1000, 1:46] 136 136 136 137 136 ...\n"
     ]
    }
   ],
   "source": [
    "# define sequence of weights to compute predictions for \n",
    "# these values will be on the horizontal axis\n",
    "weight.seq <- seq( from=25 , to=70 , by=1 )\n",
    "\n",
    "# use link to compute mu\n",
    "# for each sample from posterior\n",
    "# and for each weight in weight.seq\n",
    "mu <- link( m4.3 , data=data.frame(weight=weight.seq) )\n",
    "str(mu)"
   ]
  },
  {
   "cell_type": "markdown",
   "metadata": {
    "hidden": true
   },
   "source": [
    "And now <font color = 'green'>**there are only 46 columns in mu, because we fed it 46 different values for weight**</font>. To visualize what you’ve got here, let’s plot the distribution of µ values at each height, on the plot."
   ]
  },
  {
   "cell_type": "code",
   "execution_count": 26,
   "metadata": {
    "hidden": true
   },
   "outputs": [
    {
     "data": {
      "image/png": "[encoded data removed]",
      "text/plain": [
       "plot without title"
      ]
     },
     "metadata": {},
     "output_type": "display_data"
    }
   ],
   "source": [
    "# use type=\"n\" to hide raw data \n",
    "plot( height ~ weight , d2 , type=\"n\" )\n",
    "\n",
    "# loop over samples and plot each mu value\n",
    "for ( i in 1:100 )\n",
    "    points( weight.seq , mu[i,] , pch=16 , col=col.alpha(rangi2,0.1) )"
   ]
  },
  {
   "cell_type": "markdown",
   "metadata": {
    "hidden": true
   },
   "source": [
    "<img src='pics/Snap18.png' alt='Drawing' style='width:425pt'/>"
   ]
  },
  {
   "cell_type": "markdown",
   "metadata": {
    "hidden": true
   },
   "source": [
    "At each weight value in weight.seq, a pile of computed µ values are shown. <font color = 'red'>**Each of these piles is a Gaussian distribution, like that in Figure 4.6. You can see now that the amount of uncertainty in µ depends upon the value of weight**</font>. And this is the same fact you saw in the right-hand plot in Figure 4.5. \n",
    "\n",
    "The final step is to summarize the distribution for each weight value. We’ll use apply, which applies a function of your choice to a matrix."
   ]
  },
  {
   "cell_type": "code",
   "execution_count": 28,
   "metadata": {
    "hidden": true
   },
   "outputs": [],
   "source": [
    "# summarize the distribution of mu \n",
    "mu.mean <- apply( mu , 2 , mean )\n",
    "mu.HPDI <- apply( mu , 2 , HPDI , prob=0.89 )"
   ]
  },
  {
   "cell_type": "markdown",
   "metadata": {
    "hidden": true
   },
   "source": [
    "Read `apply(mu,2,mean)` as compute the mean of each column (dimension “2”) of the matrix mu. \n",
    "\n",
    "* Now `mu.mean` contains the average µ at each weight value, and \n",
    "\n",
    "* `mu.HPDI` contains 89% lower and upper bounds for each weight value. \n",
    "\n",
    "Be sure to take a look inside mu.mean and mu.HPDI, to demystify them. They are just different kinds of summaries of the distributions in mu, with each column being for a different weight value. \n",
    "\n",
    "You can plot these summaries on top of the data with a few lines of R code:"
   ]
  },
  {
   "cell_type": "code",
   "execution_count": 30,
   "metadata": {
    "hidden": true
   },
   "outputs": [
    {
     "data": {
      "text/html": [
       "<ol class=list-inline>\n",
       "\t<li>136.533652368534</li>\n",
       "\t<li>137.437059817011</li>\n",
       "\t<li>138.340467265488</li>\n",
       "\t<li>139.243874713966</li>\n",
       "\t<li>140.147282162443</li>\n",
       "\t<li>141.05068961092</li>\n",
       "</ol>\n"
      ],
      "text/latex": [
       "\\begin{enumerate*}\n",
       "\\item 136.533652368534\n",
       "\\item 137.437059817011\n",
       "\\item 138.340467265488\n",
       "\\item 139.243874713966\n",
       "\\item 140.147282162443\n",
       "\\item 141.05068961092\n",
       "\\end{enumerate*}\n"
      ],
      "text/markdown": [
       "1. 136.533652368534\n",
       "2. 137.437059817011\n",
       "3. 138.340467265488\n",
       "4. 139.243874713966\n",
       "5. 140.147282162443\n",
       "6. 141.05068961092\n",
       "\n",
       "\n"
      ],
      "text/plain": [
       "[1] 136.5337 137.4371 138.3405 139.2439 140.1473 141.0507"
      ]
     },
     "metadata": {},
     "output_type": "display_data"
    },
    {
     "data": {
      "text/html": [
       "<table>\n",
       "<tbody>\n",
       "\t<tr><th scope=row>|0.89</th><td>134.9603</td><td>135.9757</td><td>136.9385</td><td>137.8863</td><td>138.8246</td><td>139.8305</td><td>140.8280</td><td>141.7900</td><td>142.7465</td><td>143.6872</td><td>...     </td><td>167.9016</td><td>168.7772</td><td>169.5387</td><td>170.3923</td><td>171.2322</td><td>172.0753</td><td>172.9528</td><td>173.7789</td><td>174.5809</td><td>175.4345</td></tr>\n",
       "\t<tr><th scope=row>0.89|</th><td>137.8243</td><td>138.7007</td><td>139.5409</td><td>140.3689</td><td>141.1885</td><td>142.0652</td><td>142.9483</td><td>143.8001</td><td>144.6364</td><td>145.4705</td><td>...     </td><td>170.1705</td><td>171.1672</td><td>172.0408</td><td>172.9963</td><td>173.9691</td><td>174.9626</td><td>175.9410</td><td>176.9072</td><td>177.8540</td><td>178.8459</td></tr>\n",
       "</tbody>\n",
       "</table>\n"
      ],
      "text/latex": [
       "\\begin{tabular}{r|llllllllllllllllllllllllllllllllllllllllllllll}\n",
       "\t\\textbar{}0.89 & 134.9603 & 135.9757 & 136.9385 & 137.8863 & 138.8246 & 139.8305 & 140.8280 & 141.7900 & 142.7465 & 143.6872 & ...      & 167.9016 & 168.7772 & 169.5387 & 170.3923 & 171.2322 & 172.0753 & 172.9528 & 173.7789 & 174.5809 & 175.4345\\\\\n",
       "\t0.89\\textbar{} & 137.8243 & 138.7007 & 139.5409 & 140.3689 & 141.1885 & 142.0652 & 142.9483 & 143.8001 & 144.6364 & 145.4705 & ...      & 170.1705 & 171.1672 & 172.0408 & 172.9963 & 173.9691 & 174.9626 & 175.9410 & 176.9072 & 177.8540 & 178.8459\\\\\n",
       "\\end{tabular}\n"
      ],
      "text/markdown": [
       "\n",
       "| |0.89 | 134.9603 | 135.9757 | 136.9385 | 137.8863 | 138.8246 | 139.8305 | 140.8280 | 141.7900 | 142.7465 | 143.6872 | ...      | 167.9016 | 168.7772 | 169.5387 | 170.3923 | 171.2322 | 172.0753 | 172.9528 | 173.7789 | 174.5809 | 175.4345 | \n",
       "| 0.89| | 137.8243 | 138.7007 | 139.5409 | 140.3689 | 141.1885 | 142.0652 | 142.9483 | 143.8001 | 144.6364 | 145.4705 | ...      | 170.1705 | 171.1672 | 172.0408 | 172.9963 | 173.9691 | 174.9626 | 175.9410 | 176.9072 | 177.8540 | 178.8459 | \n",
       "\n",
       "\n"
      ],
      "text/plain": [
       "      [,1]     [,2]     [,3]     [,4]     [,5]     [,6]     [,7]     [,8]    \n",
       "|0.89 134.9603 135.9757 136.9385 137.8863 138.8246 139.8305 140.8280 141.7900\n",
       "0.89| 137.8243 138.7007 139.5409 140.3689 141.1885 142.0652 142.9483 143.8001\n",
       "      [,9]     [,10]    [,11] [,12]    [,13]    [,14]    [,15]    [,16]   \n",
       "|0.89 142.7465 143.6872 ...   167.9016 168.7772 169.5387 170.3923 171.2322\n",
       "0.89| 144.6364 145.4705 ...   170.1705 171.1672 172.0408 172.9963 173.9691\n",
       "      [,17]    [,18]    [,19]    [,20]    [,21]   \n",
       "|0.89 172.0753 172.9528 173.7789 174.5809 175.4345\n",
       "0.89| 174.9626 175.9410 176.9072 177.8540 178.8459"
      ]
     },
     "metadata": {},
     "output_type": "display_data"
    }
   ],
   "source": [
    "mu.mean %>% head()\n",
    "mu.HPDI %>% head()\n"
   ]
  },
  {
   "cell_type": "code",
   "execution_count": 29,
   "metadata": {
    "hidden": true
   },
   "outputs": [
    {
     "data": {
      "image/png": "[encoded data removed]",
      "text/plain": [
       "plot without title"
      ]
     },
     "metadata": {},
     "output_type": "display_data"
    }
   ],
   "source": [
    "# plot raw data R code 4.57\n",
    "# fading out points to make line and interval more visible\n",
    "plot( height ~ weight , data=d2 , col=col.alpha(rangi2,0.5) )\n",
    "\n",
    "# plot the MAP line, aka the mean mu for each weight\n",
    "lines( weight.seq , mu.mean )\n",
    "\n",
    "# plot a shaded region for 89% HPDI\n",
    "shade( mu.HPDI , weight.seq )"
   ]
  },
  {
   "cell_type": "markdown",
   "metadata": {
    "hidden": true
   },
   "source": [
    "<img src='pics/Snap19.png' alt='Drawing' style='width:425pt'/>"
   ]
  },
  {
   "cell_type": "markdown",
   "metadata": {
    "hidden": true
   },
   "source": [
    "**<font color = 'purple' style='background-color: lightyellow'>Using this approach, you can derive and plot posterior prediction means and intervals for quite complicated models, for any data you choose</font>**. \n",
    "\n",
    "<font color = 'lightgrey'>It’s true that it is possible to use analytical formulas to compute intervals like this. I have tried teaching such an analytical approach before, and it has always been disaster. Part of the reason is probably my own failure as a teacher, but another part is that most social and natural scientists have never had much training in probability theory and tend to get very nervous around ∫’s. I’m sure with enough effort, every one of them could learn to do the mathematics. But all of them can quickly learn to generate and summarize samples derived from the posterior distribution. So while the mathematics would be a more elegant approach, and there is some additional insight that comes from knowing the mathematics, the pseudo-empirical approach presented here is very flexible and allows a much broader audience of scientists to pull insight from their statistical modeling</font>. And again, when you start estimating models with MCMC (Chapter 8), this is really the only approach available. So it’s worth learning now."
   ]
  },
  {
   "cell_type": "markdown",
   "metadata": {
    "hidden": true
   },
   "source": [
    "**<font color = 'purple' style='background-color: lightyellow'>To summarize, here’s the recipe for generating predictions and intervals from the posterior of a fit model.</font>**\n",
    "\n",
    "<font color = 'green'>**(1) Use link to generate distributions of posterior values for µ**</font>. The default behavior of link is to use the original data, so you have to pass it a list of new horizontal axis values you want to plot posterior predictions across.\n",
    "\n",
    "\n",
    "<font color = 'green'>**(2) Use summary functions like mean or HPDI or PI to find averages and lower and upper bounds of µ for each value of the predictor variable**</font>.\n",
    "\n",
    "\n",
    "<font color = 'green'>**(3) Finally, use plotting functions like lines and shade to draw the lines and intervals**</font>. Or you might plot the distributions of the predictions, or do further numerical calculations with them. It’s really up to you.\n",
    "\n",
    "This recipe works for every model we fit in the book. As long as you know how parameters relate to the data, you can use samples from the posterior to describe any aspect of the model’s behavior.\n"
   ]
  },
  {
   "cell_type": "markdown",
   "metadata": {
    "hidden": true
   },
   "source": [
    "**Rethinking**: Overconfident confidence intervals. The confidence interval for the regression line in Figure 4.7 clings tightly to the MAP line. Thus there is very little uncertainty about the average height as a function of average weight. But you have to keep in mind that these inferences are always conditional on the model. Even a very bad model can have very tight confidence intervals. It may help if you think of the regression line in Figure 4.7 as saying: Conditional on the assumption that height and weight are related by a straight line, then this is the most plausible line, and these are its plausible bounds."
   ]
  },
  {
   "cell_type": "markdown",
   "metadata": {
    "hidden": true
   },
   "source": [
    "<hr>\n",
    "\n",
    "<font color = 'green'>**PREDICTION INTERVALS.**</font>"
   ]
  },
  {
   "cell_type": "markdown",
   "metadata": {
    "hidden": true
   },
   "source": [
    "**<font color = 'purple' style='background-color: lightyellow'>Now let’s walk through generating an 89% prediction interval for actual heights, not just the average height, µ</font>**. This means we’ll incorporate the standard deviation σ and its uncertainty as well. Remember, the statistical model here is (omitting priors for brevity):\n",
    "\n",
    "$hi ∼ Normal(µi, σ)$\n",
    "\n",
    "$µi = α + βxi$"
   ]
  },
  {
   "cell_type": "markdown",
   "metadata": {
    "hidden": true
   },
   "source": [
    "**<font color = 'purple' style='background-color: lightyellow'>What you’ve done so far is just use samples from the posterior to visualize the uncertainty in $µ_i$</font>**, the linear model of the mean. \n",
    "\n",
    "* But actual predictions of heights depend also upon the stochastic definition in the first line. <font color = 'green'>**The Gaussian distribution on the first line tells us that the model expects observed heights to be distributed around µ, not right on top of it. And the spread around µ is governed by σ. All of this suggests we need to incorporate σ in the predictions somehow**</font>. \n",
    "\n",
    "<font color = 'green'>**Here’s how you do it. Imagine simulating heights. For any unique weight value, you sample from a Gaussian distribution with the correct mean µ for that weight, using the correct value of σ sampled from the same posterior distribution**</font>. \n",
    "\n",
    "> If you do this for every sample from the posterior, for every weight value of interest, you end up with a collection of simulated heights that embody the uncertainty in the posterior as well as the uncertainty in the Gaussian likelihood."
   ]
  },
  {
   "cell_type": "code",
   "execution_count": 32,
   "metadata": {
    "hidden": true
   },
   "outputs": [
    {
     "name": "stdout",
     "output_type": "stream",
     "text": [
      "[ 1000 / 1000 ]\n",
      " num [1:1000, 1:46] 134 134 146 137 140 ...\n"
     ]
    }
   ],
   "source": [
    "sim.height <- sim( m4.3 , data=list(weight=weight.seq) )\n",
    "str(sim.height)"
   ]
  },
  {
   "cell_type": "markdown",
   "metadata": {
    "hidden": true
   },
   "source": [
    "This matrix is much like the earlier one, mu, but it contains simulated heights, not distributions of plausible average height, µ. \n",
    "\n",
    "We can summarize these simulated heights in the same way we summarized the distributions of µ, by using apply:"
   ]
  },
  {
   "cell_type": "code",
   "execution_count": 35,
   "metadata": {
    "hidden": true
   },
   "outputs": [],
   "source": [
    "# contains simulated heights, not distributions of \n",
    "# plausible average height, µ.\n",
    "height.PI <- apply( sim.height , 2 , PI , prob=0.89 )"
   ]
  },
  {
   "cell_type": "markdown",
   "metadata": {
    "hidden": true
   },
   "source": [
    "Now height.PI contains the 89% posterior prediction interval of observable (according to the model) heights, across the values of weight in weight.seq. \n",
    "\n",
    "**<font color = 'purple' style='background-color: lightyellow'>Let’s plot everything we’ve built up</font>**: \n",
    "\n",
    "(1) the MAP line, \n",
    "\n",
    "(2) the shaded region of 89% plausible µ, and \n",
    "\n",
    "(3) the boundaries of the simulated heights the model expects."
   ]
  },
  {
   "cell_type": "code",
   "execution_count": 38,
   "metadata": {
    "hidden": true
   },
   "outputs": [
    {
     "data": {
      "image/png": "[encoded data removed]",
      "text/plain": [
       "plot without title"
      ]
     },
     "metadata": {},
     "output_type": "display_data"
    }
   ],
   "source": [
    "# figure 4.8\n",
    "# plot raw data\n",
    "plot( height ~ weight , d2 , col=col.alpha(rangi2,0.5) )\n",
    "\n",
    "# draw MAP line\n",
    "lines( weight.seq , mu.mean )\n",
    "\n",
    "# draw HPDI region for line\n",
    "shade( mu.HPDI , weight.seq )\n",
    "\n",
    "# draw PI region for simulated heights\n",
    "shade( height.PI , weight.seq )"
   ]
  },
  {
   "cell_type": "markdown",
   "metadata": {
    "hidden": true
   },
   "source": [
    "The wide shaded region in the figure represents the area within which the model expects to find 89% of actual heights in the population, at each weight. There is nothing special about the value 89% here. You could plot the boundary for other percents, such as 67% and 97% (also both primes), and add those to the plot. Doing so would help you see more of the shape of the predicted distribution of heights. I leave that as an exercise for the reader. Just go back to the code above and add prob=0.67, for example, to the call to PI. That will give you 67% intervals, instead of 89% ones.\n",
    "\n",
    "Notice that the outline for the wide shaded interval is a little jagged. This is the simulation variance in the tails of the sampled Gaussian values. If it really bothers you, increase the number of samples you take from the posterior distribution. The optional n parameter for sim.height controls how many samples are used. Try for example:\n",
    "\n"
   ]
  },
  {
   "cell_type": "code",
   "execution_count": 37,
   "metadata": {
    "hidden": true
   },
   "outputs": [
    {
     "name": "stdout",
     "output_type": "stream",
     "text": [
      "[ 1000 / 10000 ]\r",
      "[ 2000 / 10000 ]\r",
      "[ 3000 / 10000 ]\r",
      "[ 4000 / 10000 ]\r",
      "[ 5000 / 10000 ]\r",
      "[ 6000 / 10000 ]\r",
      "[ 7000 / 10000 ]\r",
      "[ 8000 / 10000 ]\r",
      "[ 9000 / 10000 ]\r",
      "[ 10000 / 10000 ]\r\n"
     ]
    }
   ],
   "source": [
    "sim.height <- sim( m4.3 , data=list(weight=weight.seq) , n=1e4 ) \n",
    "height.PI <- apply( sim.height , 2 , PI , prob=0.89 )"
   ]
  },
  {
   "cell_type": "markdown",
   "metadata": {
    "hidden": true
   },
   "source": [
    "Run the plotting code again, and you’ll see the shaded boundary smooth out some. With extreme percentiles, it can be very hard to get out all of the jaggedness. Luckily, it hardly matters, except for aesthetics. Moreover, it serves to remind us that all statistical inference is approximate. The fact that we can compute an expected value to the 10th decimal place does not imply that our inferences are precise to the 10th decimal place."
   ]
  },
  {
   "cell_type": "markdown",
   "metadata": {
    "hidden": true
   },
   "source": [
    "Rethinking: <font color = 'blue'>Two kinds of uncertainty. In the procedure above, we encountered both uncertainty in parameter values and uncertainty in a sampling process</font>. \n",
    "\n",
    "These are distinct concepts, even though they are processed much the same way and end up blended together in the posterior predictive simulation. \n",
    "\n",
    "* The posterior distribution is a ranking of the relative plausibilities of every possible combination of parameter values. \n",
    "\n",
    "\n",
    "* The distribution of simulated outcomes, like height, is instead a distribution that includes sampling variation from some process that generates Gaussian random variables. This sampling variation is still a model assumption. It’s no more or less objective than the posterior distribution. \n",
    "\n",
    "Both kinds of uncertainty matter, at least sometimes. But it’s important to keep them straight, because they depend upon different model assumptions. \n",
    "\n",
    "Furthermore, it’s possible to view the Gaussian likelihood as a purely epistemological assumption (a device for estimating the mean and variance of a variable), rather than an ontological assumption about what future data will look like. In that case, it may not make complete sense to simulate outcomes."
   ]
  },
  {
   "cell_type": "markdown",
   "metadata": {},
   "source": [
    "## Polynomial regression"
   ]
  },
  {
   "cell_type": "markdown",
   "metadata": {},
   "source": [
    "It helps to see how to model the outcome as a curved function of a single predictor. The models so far all assume that a straight line describes the relationship. But there’s nothing special about straight lines, aside from their simplicity. Let’s work through an example, using the full !Kung data:"
   ]
  },
  {
   "cell_type": "code",
   "execution_count": 44,
   "metadata": {},
   "outputs": [
    {
     "name": "stdout",
     "output_type": "stream",
     "text": [
      "'data.frame':\t544 obs. of  4 variables:\n",
      " $ height: num  152 140 137 157 145 ...\n",
      " $ weight: num  47.8 36.5 31.9 53 41.3 ...\n",
      " $ age   : num  63 63 65 41 51 35 32 27 19 54 ...\n",
      " $ male  : int  1 0 0 1 0 1 0 1 0 1 ...\n"
     ]
    }
   ],
   "source": [
    "library(rethinking)\n",
    "data(Howell1)\n",
    "d <- Howell1\n",
    "str(d)"
   ]
  },
  {
   "cell_type": "code",
   "execution_count": 45,
   "metadata": {
    "cell_style": "center"
   },
   "outputs": [
    {
     "data": {
      "image/png": "[encoded data removed]",
      "text/plain": [
       "plot without title"
      ]
     },
     "metadata": {},
     "output_type": "display_data"
    }
   ],
   "source": [
    "plot( height ~ weight , data=d )"
   ]
  },
  {
   "cell_type": "markdown",
   "metadata": {},
   "source": [
    "<img src='pics/SR_h20.png' alt='Drawing' style='width:425pt'/>"
   ]
  },
  {
   "cell_type": "markdown",
   "metadata": {},
   "source": [
    "There are many ways to model a curved relationship between two variables. Here, I’ll show you a very common one, polynomial regression. In this context, “polynomial” means equations for µi that add additional terms with squares, cubes, and even higher powers of the predictor variable. There’s still only one predictor variable in the model, so this is still a bivariate regression. But the definition of µi has more parameters now.\n",
    "\n",
    "<font color = 'red'>While this section teaches polynomial regression, in general it’s a bad thing to do. Why? Because polynomials are very hard to interpret</font>. Better would be to have a more mechanistic model of the data, one that builds the non-linear relationship up from a principled beginning. In the practice problems for this chapter, you’ll see how to do this with the height data."
   ]
  },
  {
   "cell_type": "markdown",
   "metadata": {},
   "source": [
    "**Rethinking**: Linear, additive, funky. The parabolic model of µi above is still called a “linear model” of the mean. This is so, even though the equation is clearly not of a straight line. Unfortunately, the word “linear” means different things in different contexts, and different people use it differently in the same context. <font color = 'blue'>What “linear” usually means in this context is that $µ_i$ is a linear function of any single parameter</font>. Such models have the advantage of being easier to fit to data. They are also often easier to interpret, because they assume that parameters act independently on the mean. They have the disadvantage of being strongly conventional. They are often used thoughtlessly. When you have real knowledge of your study system, it is often easy to do better than a linear model. \n",
    "\n",
    "These models are geocentric engines, devices for describing partial correlations among variables. We should feel embarrassed to use them, just so we don’t become satisfied with the phenomenological explanations they provide."
   ]
  },
  {
   "cell_type": "markdown",
   "metadata": {},
   "source": [
    "Fitting these models to data is easy. Interpreting them can be hard. We’ll begin with the easy part, fitting a parabolic model of height on weight. The first thing to do is to standardize the predictor variable. This means to first center the variable and then divide it by its standard deviation. Why do this? You already have some sense of the value of centering. Going further to standardize leaves the mean at zero but also rescales the range of the data. \n",
    "\n",
    "This is helpful for two reasons: \n",
    "\n",
    "<font color = 'blue'>(1) Interpretation might be easier</font>. For a standardized variable, a change of one unit is equivalent to a change of one standard deviation. In many contexts, this is more interesting and more revealing than a one unit change on the natural scale. And once you start making regressions with more than one kind of predictor variable, standardizing all of them makes it easier to compare their relative influence on the outcome, using only estimates. On the other hand, you might want to interpret the data on the natural scale. So standardization can make interpretation harder, not easier. With a little practice, though, you can learn to quickly convert back and forth between natural and standard scales. \n",
    "\n",
    "<font color = 'blue'>(2) More important though are the advantages for fitting the model to the data</font>. When predictor variables have very large values in them, there are sometimes numerical glitches. Even well-known statistical software can suffer from these glitches, leading to mistaken estimates. These problems are very common for polynomial regression, because the square or cube of a large number can be truly massive. Standardizing largely resolves this issue. To standardize weight, all you do is subtract the mean and then divide by the standard deviation. This will do it:;"
   ]
  },
  {
   "cell_type": "code",
   "execution_count": 71,
   "metadata": {},
   "outputs": [],
   "source": [
    "d$weight.s <- ( d$weight - mean(d$weight) )/sd(d$weight)"
   ]
  },
  {
   "cell_type": "markdown",
   "metadata": {},
   "source": [
    "This new variable weight.s has mean zero and standard deviation 1. No information has been lost in this procedure. Go ahead and plot height on weight.s to verify that. You’ll see the same curved relationship as before, but now with a different range on the horizontal axis. \n",
    "\n",
    "To fit the parabolic model, just modify the definition of $µ_i$. Here’s the model (with very weak priors):"
   ]
  },
  {
   "cell_type": "markdown",
   "metadata": {},
   "source": [
    "<img src='pics/SR_h21.png' alt='Drawing' style='width:425pt'/>"
   ]
  },
  {
   "cell_type": "markdown",
   "metadata": {},
   "source": [
    "And fitting is straightforward, as well. Just modify the definition of mu so that it contains both the ordinary and quadratic terms. But in general it is better to pre-process any variable transformations. So I’ll also build the square of weight.s as a separate variable:"
   ]
  },
  {
   "cell_type": "code",
   "execution_count": 47,
   "metadata": {},
   "outputs": [],
   "source": [
    "d$weight.s2 <- d$weight.s^2\n",
    "m4.5 <- map(\n",
    "    alist(\n",
    "        height ~ dnorm( mu , sigma ) ,\n",
    "        mu <- a + b1*weight.s + b2*weight.s2 ,\n",
    "        a ~ dnorm( 178 , 100 ) ,\n",
    "        b1 ~ dnorm( 0 , 10 ) ,\n",
    "        b2 ~ dnorm( 0 , 10 ) ,\n",
    "        sigma ~ dunif( 0 , 50 )\n",
    "    ) ,\n",
    "    data=d )"
   ]
  },
  {
   "cell_type": "markdown",
   "metadata": {},
   "source": [
    "Interpreting the estimates from the summary table can be hard, though. Let’s take a look:"
   ]
  },
  {
   "cell_type": "code",
   "execution_count": 49,
   "metadata": {},
   "outputs": [
    {
     "data": {
      "text/plain": [
       "        Mean StdDev   5.5%  94.5%\n",
       "a     146.66   0.37 146.07 147.26\n",
       "b1     21.40   0.29  20.94  21.86\n",
       "b2     -8.42   0.28  -8.86  -7.97\n",
       "sigma   5.75   0.17   5.47   6.03"
      ]
     },
     "metadata": {},
     "output_type": "display_data"
    }
   ],
   "source": [
    "precis( m4.5 )"
   ]
  },
  {
   "cell_type": "markdown",
   "metadata": {},
   "source": [
    "The parameter α (a) is still the intercept, so it tells us the expected value of height when weight.s is zero. But it is no longer equal to the mean height in the sample, since there is no guarantee it should in a polynomial regression. And those β1 and β2 parameters are the linear and square components of the curve, respectively. But that doesn’t make them transparent."
   ]
  },
  {
   "cell_type": "markdown",
   "metadata": {},
   "source": [
    "You have to plot these model fits to understand what they are saying. So let’s do that. We’ll calculate the mean relationship and the 89% intervals of the mean and the predictions, like in the previous section. Here’s the working code:"
   ]
  },
  {
   "cell_type": "code",
   "execution_count": 50,
   "metadata": {
    "collapsed": true
   },
   "outputs": [
    {
     "name": "stdout",
     "output_type": "stream",
     "text": [
      "[ 1000 / 1000 ]\n",
      "[ 1000 / 1000 ]\n"
     ]
    },
    {
     "data": {
      "image/png": "[encoded data removed]",
      "text/plain": [
       "plot without title"
      ]
     },
     "metadata": {},
     "output_type": "display_data"
    }
   ],
   "source": [
    "weight.seq <- seq( from=-2.2 , to=2 , length.out=30 ) \n",
    "pred_dat <- list( weight.s=weight.seq , weight.s2=weight.seq^2 )\n",
    "mu <- link( m4.5 , data=pred_dat )\n",
    "mu.mean <- apply( mu , 2 , mean )\n",
    "mu.PI <- apply( mu , 2 , PI , prob=0.89 )\n",
    "sim.height <- sim( m4.5 , data=pred_dat )\n",
    "height.PI <- apply( sim.height , 2 , PI , prob=0.89 )\n",
    "\n",
    "plot( height ~ weight.s , d , col=col.alpha(rangi2,0.5) ) \n",
    "lines( weight.seq , mu.mean )\n",
    "shade( mu.PI , weight.seq )\n",
    "shade( height.PI , weight.seq )"
   ]
  },
  {
   "cell_type": "markdown",
   "metadata": {},
   "source": [
    "Panel (c) in Figure 4.9 shows a higher-order polynomial regression, a cubic regression\n",
    "on weight. The model is (hiding the priors, but they are the same as before):\n",
    "\n",
    "$h_i ∼ Normal(µ_i, σ)$\n",
    "\n",
    "$µ_i = α + β_1x_i + β_2x^2_i + β_3x_i^3$\n",
    "\n",
    "Fit the model with a slight modification of the parabolic model’s code:"
   ]
  },
  {
   "cell_type": "code",
   "execution_count": 51,
   "metadata": {},
   "outputs": [],
   "source": [
    "d$weight.s3 <- d$weight.s^3\n",
    "m4.6 <- map(\n",
    "    alist(\n",
    "        height ~ dnorm( mu , sigma ) ,\n",
    "        mu <- a + b1*weight.s + b2*weight.s2 + b3*weight.s3 ,\n",
    "        a ~ dnorm( 178 , 100 ) ,\n",
    "        b1 ~ dnorm( 0 , 10 ) ,\n",
    "        b2 ~ dnorm( 0 , 10 ) ,\n",
    "        b3 ~ dnorm( 0 , 10 ) ,\n",
    "        sigma ~ dunif( 0 , 50 )\n",
    "    ) ,\n",
    "    data=d )"
   ]
  },
  {
   "cell_type": "markdown",
   "metadata": {},
   "source": [
    "It’s not clear that any of these models make a lot of sense. They are good geocentric descriptions of the sample, yes. But later in the book (Chapter 6), you’ll see how a better fit might not actually be a better model. For the moment, consider that a pregnant promise. The same issue arises in regression models with more than one type of predictor. That’s the subject of the next chapter."
   ]
  },
  {
   "cell_type": "markdown",
   "metadata": {},
   "source": [
    "SR_h33.png"
   ]
  },
  {
   "cell_type": "markdown",
   "metadata": {},
   "source": [
    "\"<img src='pics/\" SR_h33.png \"' alt='Drawing' style='width:\" img_width "
   ]
  },
  {
   "cell_type": "markdown",
   "metadata": {},
   "source": [
    "\"<img src='pics/\" SR_h33.png \"' alt='Drawing' style='wi:425 pt'/>\""
   ]
  },
  {
   "cell_type": "markdown",
   "metadata": {},
   "source": [
    "\"<img src='pics/\" SR_h33.png \"' alt='Drawing' style='width:\"425 \"pt'/>\""
   ]
  },
  {
   "cell_type": "markdown",
   "metadata": {},
   "source": []
  },
  {
   "cell_type": "markdown",
   "metadata": {
    "heading_collapsed": true
   },
   "source": [
    "## Practice"
   ]
  },
  {
   "cell_type": "markdown",
   "metadata": {
    "heading_collapsed": true,
    "hidden": true
   },
   "source": [
    "### <font color = 'purple' style='background-color: lightyellow'>EASY</font>"
   ]
  },
  {
   "cell_type": "markdown",
   "metadata": {
    "hidden": true
   },
   "source": [
    "**4E1. In the model definition below, which line is the likelihood?**\n",
    "\n",
    "<span style='background-color: lightgreen'>yi ∼ Normal(µ, σ)</span>\n",
    "\n",
    "µ ∼ Normal(0, 10)\n",
    "\n",
    "σ ∼ Uniform(0, 10)"
   ]
  },
  {
   "cell_type": "markdown",
   "metadata": {
    "hidden": true
   },
   "source": [
    "**4E2. In the model definition just above, how many parameters are in the posterior distribution?**"
   ]
  },
  {
   "cell_type": "raw",
   "metadata": {
    "hidden": true
   },
   "source": [
    "2"
   ]
  },
  {
   "cell_type": "markdown",
   "metadata": {
    "hidden": true
   },
   "source": [
    "**4E3. Using the model definition above, write down the appropriate form of Bayes’ theorem that\n",
    "includes the proper likelihood and priors.**"
   ]
  },
  {
   "cell_type": "markdown",
   "metadata": {
    "hidden": true
   },
   "source": [
    "<img src='pics/SR_h24.png' alt='Drawing' style='width:425pt'/>"
   ]
  },
  {
   "cell_type": "markdown",
   "metadata": {
    "hidden": true
   },
   "source": [
    "<img src='pics/SR_h27.png' alt='Drawing' style='width:425pt'/>"
   ]
  },
  {
   "cell_type": "markdown",
   "metadata": {
    "hidden": true
   },
   "source": [
    "<img src='pics/SR_h26.png' alt='Drawing' style='width:425pt'/>"
   ]
  },
  {
   "cell_type": "markdown",
   "metadata": {
    "hidden": true
   },
   "source": [
    "<img src='pics/SR_h25.png' alt='Drawing' style='width:525pt'/>"
   ]
  },
  {
   "cell_type": "markdown",
   "metadata": {
    "hidden": true
   },
   "source": [
    "4E4. In the model definition below, which line is the linear model?\n",
    "\n",
    "\\begin{align*} y_i &\\sim \\text{Normal}(\\mu_i, \\sigma) \\\\ \\mu_i &= \\alpha + \\beta x_i & \\text{This is the linear model}\\\\ \\alpha &\\sim \\text{Normal}(0,10) \\\\ \\beta &\\sim \\text{Normal}(0,1) \\\\ \\sigma &\\sim \\text{Uniform}(0,10) \\end{align*}"
   ]
  },
  {
   "cell_type": "markdown",
   "metadata": {
    "hidden": true
   },
   "source": [
    "**4E5. In the model definition just above, how many parameters are in the posterior distribution?**\n",
    "\n",
    "There are 3 parameters in the posterior distribution: $\\alpha, \\beta, \\sigma$."
   ]
  },
  {
   "cell_type": "markdown",
   "metadata": {
    "heading_collapsed": true,
    "hidden": true
   },
   "source": [
    "### <font color = 'purple' style='background-color: lightyellow'>MEDIUM</font>"
   ]
  },
  {
   "cell_type": "markdown",
   "metadata": {
    "heading_collapsed": true,
    "hidden": true
   },
   "source": [
    "##### **<font color = 'purple' style='background-color: lightyellow'>4M1. For the model definition below, simulate observed heights from the prior (not the posterior).</font>**"
   ]
  },
  {
   "cell_type": "raw",
   "metadata": {
    "hidden": true
   },
   "source": [
    "y_i ∼ Normal(µ, σ)\n",
    "µ ∼ Normal(0, 10)\n",
    "σ ∼ Uniform(0, 10)"
   ]
  },
  {
   "cell_type": "code",
   "execution_count": 53,
   "metadata": {
    "cell_style": "center",
    "hidden": true
   },
   "outputs": [
    {
     "data": {
      "image/png": "[encoded data removed]",
      "text/plain": [
       "Plot with title \"\""
      ]
     },
     "metadata": {},
     "output_type": "display_data"
    }
   ],
   "source": [
    "trials <- 1e4\n",
    "mu <- rnorm(trials, 0, 10)    \n",
    "sigma <- runif(trials, 0, 10)\n",
    "height <- rnorm(trials, mu, sigma)\n",
    "dens(height)"
   ]
  },
  {
   "cell_type": "markdown",
   "metadata": {
    "cell_style": "center",
    "hidden": true
   },
   "source": [
    "If you want to generate a vector of normally distributed random numbers, <span style='background-color: lightgreen'>rnorm</span> is the function you should use. The first argument n is the number of numbers you want to generate, followed by the standard mean and sd arguments\n",
    "\n",
    "<span style='background-color: lightgreen'>runif</span> generates a random value from the uniform distribution.\n",
    "\n",
    "rnorm(n, mean = , sd = ) is used to generate n normal random numbers with arguments mean and sd; while runif(n, min = , max = ) is used to generate n uniform random numbers lie in the interval (min, max)."
   ]
  },
  {
   "cell_type": "markdown",
   "metadata": {
    "heading_collapsed": true,
    "hidden": true
   },
   "source": [
    "##### **<font color = 'purple' style='background-color: lightyellow'>4M2. Translate the model just above into a map formula.</font>**"
   ]
  },
  {
   "cell_type": "code",
   "execution_count": 55,
   "metadata": {
    "hidden": true
   },
   "outputs": [],
   "source": [
    "formula_4M2 <- alist(\n",
    "    y ~ dnorm(mu, sigma),   # y_i ∼ Normal(µ, σ)\n",
    "    mu ~ dnorm(),           # µ ∼ Normal(0, 10)\n",
    "    sigma ~ dunif( 0 , 10 ) # σ ∼ Uniform(0, 10)\n",
    ")"
   ]
  },
  {
   "cell_type": "markdown",
   "metadata": {
    "hidden": true
   },
   "source": [
    "<span style='background-color: lightgreen'>dnorm</span> returns the value of the probability density function for the normal distribution given parameters for x, μ, and σ"
   ]
  },
  {
   "cell_type": "markdown",
   "metadata": {
    "heading_collapsed": true,
    "hidden": true
   },
   "source": [
    "##### **<font color = 'purple' style='background-color: lightyellow'>4M3. Translate the map model formula below into a mathematical model definition.</font>**"
   ]
  },
  {
   "cell_type": "code",
   "execution_count": null,
   "metadata": {
    "hidden": true
   },
   "outputs": [],
   "source": [
    "flist <- alist(\n",
    "    y ~ dnorm( mu , sigma ),\n",
    "    mu <- a + b*x,\n",
    "    a ~ dnorm( 0 , 50 ),\n",
    "    b ~ dunif( 0 , 10 ),\n",
    "    sigma ~ dunif( 0 , 50 )\n",
    ")"
   ]
  },
  {
   "cell_type": "markdown",
   "metadata": {
    "hidden": true
   },
   "source": [
    "$y_i \\sim Normal(µ, σ)$\n",
    "\n",
    "$µ = a + \\beta*x_i$\n",
    "\n",
    "$a \\sim Normal(0, 10)$\n",
    "\n",
    "$\\beta \\sim Uniform(0, 10)$\n",
    "\n",
    "$\\sigma \\sim Uniform(0, 50)$\n",
    "\n"
   ]
  },
  {
   "cell_type": "markdown",
   "metadata": {
    "hidden": true
   },
   "source": [
    "Remember that mathematical notation makes use of index variables like i, while the R code is instead implicitly vectorized over observations."
   ]
  },
  {
   "cell_type": "markdown",
   "metadata": {
    "heading_collapsed": true,
    "hidden": true
   },
   "source": [
    "##### **<font color = 'purple' style='background-color: lightyellow'>4M4. A sample of students is measured for height each year for 3 years. After the third year, you want to fit a linear regression predicting height using year as a predictor. </font>**.\n",
    "\n",
    "* Write down the mathematical model definition for this regression, using any variable names and priors you choose. Be prepared to defend your choice of priors"
   ]
  },
  {
   "cell_type": "raw",
   "metadata": {
    "hidden": true
   },
   "source": [
    "height ~ Normal(mu, sigma)\n",
    "mu = a + b*year\n",
    "a ~ Normal(0,10)\n",
    "b ~ Uniform(0,10)\n",
    "sigma ~ Uniform(0,50)"
   ]
  },
  {
   "cell_type": "markdown",
   "metadata": {
    "hidden": true
   },
   "source": [
    "<img src='pics/SR_h30.png' alt='Drawing' style='width:425pt'/>"
   ]
  },
  {
   "cell_type": "markdown",
   "metadata": {
    "heading_collapsed": true,
    "hidden": true
   },
   "source": [
    "##### <font color = 'purple' style='background-color: lightyellow'>4M5. Now suppose I tell you that the average height in the first year was 120 cm and that every\n",
    "student got taller each year. Does this information lead you to change your choice of priors? How?</font>"
   ]
  },
  {
   "cell_type": "markdown",
   "metadata": {
    "hidden": true
   },
   "source": [
    "This one is subtle. On the one hand, having information on measurement scale lets us set a more sensible prior for the intercept, α. You might center it on 120 now, for example. On the other hand, for the prior to really be “prior,” it needs to be ignorance of the actual data values. \n",
    "\n",
    "* Since the observed mean is a feature of the sample, not of the measurement scale, basing the prior on it could get you into trouble. What kind of trouble? It could lead to an illusionary fit to data, as essentially you’ve used the data twice: once in setting the prior and once in conditioning on the data (computing the posterior). Much later in the book, you’ll see how constraints on the data can be used to design models, without running the risk of using the data twice."
   ]
  },
  {
   "cell_type": "markdown",
   "metadata": {
    "heading_collapsed": true,
    "hidden": true
   },
   "source": [
    "##### **<font color = 'purple' style='background-color: lightyellow'>4M6. Now suppose I tell you that the variance among heights for students of the same age is never more than 64cm. How does this lead you to revise your priors?</font>**"
   ]
  },
  {
   "cell_type": "markdown",
   "metadata": {
    "hidden": true
   },
   "source": [
    "Again, this is a subtle issue. All the advice from just above applies. But it’s not clear here whether “variance among heights for students of the same age is never more than 64cm” is a feature of the sample or of the population. If it’s of the population, then setting a prior for it may be okay. In that case:\n",
    "\n",
    "`σ ∼ Uniform(0, 64)`"
   ]
  },
  {
   "cell_type": "markdown",
   "metadata": {
    "heading_collapsed": true,
    "hidden": true
   },
   "source": [
    "### **<font color = 'purple' style='background-color: lightyellow'>HARD</font>**"
   ]
  },
  {
   "cell_type": "markdown",
   "metadata": {
    "heading_collapsed": true,
    "hidden": true
   },
   "source": [
    "##### 4H1"
   ]
  },
  {
   "cell_type": "markdown",
   "metadata": {
    "heading_collapsed": true,
    "hidden": true
   },
   "source": [
    "###### teacher"
   ]
  },
  {
   "cell_type": "markdown",
   "metadata": {
    "hidden": true
   },
   "source": [
    "<img src='pics/SR_h31.png' alt='Drawing' style='width:425pt'/>"
   ]
  },
  {
   "cell_type": "markdown",
   "metadata": {
    "hidden": true
   },
   "source": [
    "<font color = 'green'>First, fit the model with map, to provide a quadratic approximation of the posterior. I’ll use quite flat priors here, but if you used stronger priors, that’s fine. What matters is the procedure be coherent.</font>"
   ]
  },
  {
   "cell_type": "code",
   "execution_count": 134,
   "metadata": {
    "hidden": true
   },
   "outputs": [
    {
     "data": {
      "text/html": [
       "<table>\n",
       "<thead><tr><th scope=col>height</th><th scope=col>weight</th><th scope=col>age</th><th scope=col>male</th><th scope=col>weight.centered</th></tr></thead>\n",
       "<tbody>\n",
       "\t<tr><td>151.765   </td><td>47.82561  </td><td>63        </td><td>1         </td><td> 0.4390970</td></tr>\n",
       "\t<tr><td>139.700   </td><td>36.48581  </td><td>63        </td><td>0         </td><td>-1.3171850</td></tr>\n",
       "\t<tr><td>136.525   </td><td>31.86484  </td><td>65        </td><td>0         </td><td>-2.0328699</td></tr>\n",
       "\t<tr><td>156.845   </td><td>53.04191  </td><td>41        </td><td>1         </td><td> 1.2469867</td></tr>\n",
       "\t<tr><td>145.415   </td><td>41.27687  </td><td>51        </td><td>0         </td><td>-0.5751559</td></tr>\n",
       "\t<tr><td>163.830   </td><td>62.99259  </td><td>35        </td><td>1         </td><td> 2.7881241</td></tr>\n",
       "</tbody>\n",
       "</table>\n"
      ],
      "text/latex": [
       "\\begin{tabular}{r|lllll}\n",
       " height & weight & age & male & weight.centered\\\\\n",
       "\\hline\n",
       "\t 151.765    & 47.82561   & 63         & 1          &  0.4390970\\\\\n",
       "\t 139.700    & 36.48581   & 63         & 0          & -1.3171850\\\\\n",
       "\t 136.525    & 31.86484   & 65         & 0          & -2.0328699\\\\\n",
       "\t 156.845    & 53.04191   & 41         & 1          &  1.2469867\\\\\n",
       "\t 145.415    & 41.27687   & 51         & 0          & -0.5751559\\\\\n",
       "\t 163.830    & 62.99259   & 35         & 1          &  2.7881241\\\\\n",
       "\\end{tabular}\n"
      ],
      "text/markdown": [
       "\n",
       "height | weight | age | male | weight.centered | \n",
       "|---|---|---|---|---|---|\n",
       "| 151.765    | 47.82561   | 63         | 1          |  0.4390970 | \n",
       "| 139.700    | 36.48581   | 63         | 0          | -1.3171850 | \n",
       "| 136.525    | 31.86484   | 65         | 0          | -2.0328699 | \n",
       "| 156.845    | 53.04191   | 41         | 1          |  1.2469867 | \n",
       "| 145.415    | 41.27687   | 51         | 0          | -0.5751559 | \n",
       "| 163.830    | 62.99259   | 35         | 1          |  2.7881241 | \n",
       "\n",
       "\n"
      ],
      "text/plain": [
       "  height  weight   age male weight.centered\n",
       "1 151.765 47.82561 63  1     0.4390970     \n",
       "2 139.700 36.48581 63  0    -1.3171850     \n",
       "3 136.525 31.86484 65  0    -2.0328699     \n",
       "4 156.845 53.04191 41  1     1.2469867     \n",
       "5 145.415 41.27687 51  0    -0.5751559     \n",
       "6 163.830 62.99259 35  1     2.7881241     "
      ]
     },
     "metadata": {},
     "output_type": "display_data"
    }
   ],
   "source": [
    "library(rethinking)\n",
    "data(Howell1)\n",
    "d <- Howell1\n",
    "\n",
    "d2 <- d[d$age>=18,] \n",
    "# All we want for now are heights of adults in the sample. The reason to filter out non-\n",
    "# adults for now is that height is strongly correlated with age, before adulthood. \n",
    "\n",
    "\n",
    "d2 <- d2 %>% \n",
    "    mutate(weight.centered = (weight - mean(weight)) / sd(weight))\n",
    "d2 %>% head()"
   ]
  },
  {
   "cell_type": "code",
   "execution_count": 135,
   "metadata": {
    "hidden": true
   },
   "outputs": [],
   "source": [
    "M_4H1 <- map(\n",
    "    alist(\n",
    "        height ~ dnorm( mu , sigma ) ,\n",
    "        mu <- a + b*weight.centered ,\n",
    "        a ~ dnorm( 0 , 100 ) ,\n",
    "        b ~ dnorm( 0 , 10 ) ,\n",
    "        sigma ~ dunif( 0 , 50 )\n",
    "    ) ,\n",
    "    data=d2 )"
   ]
  },
  {
   "cell_type": "markdown",
   "metadata": {
    "hidden": true
   },
   "source": [
    "<font color = 'green'>Then produce samples from the quadratic approximate posterior. You could use mvrnorm directly, or the convenient extract.samples function:</font>"
   ]
  },
  {
   "cell_type": "code",
   "execution_count": 136,
   "metadata": {
    "hidden": true
   },
   "outputs": [
    {
     "name": "stdout",
     "output_type": "stream",
     "text": [
      "'data.frame':\t10000 obs. of  3 variables:\n",
      " $ a    : num  155 155 154 154 154 ...\n",
      " $ b    : num  5.87 5.65 5.65 5.47 6.01 ...\n",
      " $ sigma: num  5.16 5.47 5.15 4.9 5.15 ...\n"
     ]
    }
   ],
   "source": [
    "posterior_samples <- extract.samples( M_4H1 )\n",
    "str(post)"
   ]
  },
  {
   "cell_type": "markdown",
   "metadata": {
    "hidden": true
   },
   "source": [
    "<font color = 'green'><span style='background-color: lightyellow'>Now we want to plug the weights in the table into this model, and then average over the posterior to compute predictions for each individual’s height</span>. The question is ambiguous as to whether it wants µ only or rather the distribution of individual height measurements (using σ). I’ll show the harder approach, that uses σ and simulates individual heights. Also, I won’t use link or sim, but it’s fine if you did. For the first individual, the code might look like this:</font>"
   ]
  },
  {
   "cell_type": "code",
   "execution_count": 232,
   "metadata": {
    "hidden": true,
    "scrolled": true
   },
   "outputs": [
    {
     "data": {
      "text/html": [
       "173.209388834056"
      ],
      "text/latex": [
       "173.209388834056"
      ],
      "text/markdown": [
       "173.209388834056"
      ],
      "text/plain": [
       "[1] 173.2094"
      ]
     },
     "metadata": {},
     "output_type": "display_data"
    },
    {
     "data": {
      "text/html": [
       "<dl class=dl-horizontal>\n",
       "\t<dt>|0.89</dt>\n",
       "\t\t<dd>164.931318161914</dd>\n",
       "\t<dt>0.89|</dt>\n",
       "\t\t<dd>181.41376283491</dd>\n",
       "</dl>\n"
      ],
      "text/latex": [
       "\\begin{description*}\n",
       "\\item[\\textbackslash{}textbar\\{\\}0.89] 164.931318161914\n",
       "\\item[0.89\\textbackslash{}textbar\\{\\}] 181.41376283491\n",
       "\\end{description*}\n"
      ],
      "text/markdown": [
       "|0.89\n",
       ":   164.9313181619140.89|\n",
       ":   181.41376283491\n",
       "\n"
      ],
      "text/plain": [
       "   |0.89    0.89| \n",
       "164.9313 181.4138 "
      ]
     },
     "metadata": {},
     "output_type": "display_data"
    }
   ],
   "source": [
    "y <- rnorm(n=1e5 , \n",
    "           mean = posterior_samples$a + posterior_samples$b*((46.95-mean(d2$weight))/sd(d2$weight)) , \n",
    "           sd = posterior_samples$sigma ) \n",
    "mean(y)\n",
    "HPDI(y,prob=0.89)"
   ]
  },
  {
   "cell_type": "markdown",
   "metadata": {
    "hidden": true
   },
   "source": [
    "<font color = 'green'>How does the code work? The first line, which includes rnorm, simulates 100-thousand heights, using\n",
    "the samples from the posterior and an assumed weight of 46.95 kg. The second line then computes\n",
    "the average of these simulated heights. That gives the expected (mean) height. The third line then\n",
    "computes the 90% HPDI of height.</font>"
   ]
  },
  {
   "cell_type": "markdown",
   "metadata": {
    "hidden": true
   },
   "source": [
    "<img src='pics/SR_h32.png' alt='Drawing' style='width:425pt'/>"
   ]
  },
  {
   "cell_type": "markdown",
   "metadata": {
    "heading_collapsed": true,
    "hidden": true
   },
   "source": [
    "###### student 1"
   ]
  },
  {
   "cell_type": "code",
   "execution_count": 141,
   "metadata": {
    "hidden": true
   },
   "outputs": [
    {
     "name": "stdout",
     "output_type": "stream",
     "text": [
      "[ 100 / 1000 ]\r",
      "[ 200 / 1000 ]\r",
      "[ 300 / 1000 ]\r",
      "[ 400 / 1000 ]\r",
      "[ 500 / 1000 ]\r",
      "[ 600 / 1000 ]\r",
      "[ 700 / 1000 ]\r",
      "[ 800 / 1000 ]\r",
      "[ 900 / 1000 ]\r",
      "[ 1000 / 1000 ]\r\n"
     ]
    }
   ],
   "source": [
    "# load data\n",
    "data(Howell1)\n",
    "d <- Howell1\n",
    "d$weight.centered <- (d$weight - mean(d$weight)) / sd(d$weight)\n",
    "\n",
    "# build model\n",
    "model <- map(\n",
    "  alist(\n",
    "    height ~ dnorm(mean = mu, sd = sigma),\n",
    "    mu <- alpha + beta*weight.centered,\n",
    "    alpha ~ dnorm(mean = 0, sd = 100),\n",
    "    beta ~ dnorm(mean = 0, sd = 10),\n",
    "    sigma ~ dunif(min = 0, max = 64)\n",
    "  ),\n",
    "  data = d\n",
    ")\n",
    "\n",
    "# simulate heights from model\n",
    "individual.weights <- c(46.95, 43.72, 64.78, 32.59, 54.63)\n",
    "individual.weights.centered <- (individual.weights - mean(d$weight)) / sd(d$weight)\n",
    "simulated.heights <- sim(model, data = list(weight.centered = individual.weights.centered))\n",
    "\n",
    "# summarize results\n",
    "simulated.heights.mean <- apply(X = simulated.heights, MARGIN = 2, FUN = mean)\n",
    "simulated.heights.PI <- apply(X = simulated.heights, MARGIN = 2, FUN = PI, prob = .89)\n",
    "\n",
    "# try it manually for the first individual\n",
    "posterior.samples <- extract.samples(model)\n",
    "simulated.heights.first.individual <- rnorm(n = trials, mean = posterior.samples$alpha + posterior.samples$beta*individual.weights.centered[1], sd = posterior.samples$sigma)\n",
    "simulated.heights.first.individual.mean <- mean(simulated.heights.first.individual)\n",
    "simulated.heights.first.individual.PI <- PI(samples = simulated.heights.first.individual, prob = .89)\n"
   ]
  },
  {
   "cell_type": "code",
   "execution_count": 144,
   "metadata": {
    "hidden": true
   },
   "outputs": [
    {
     "data": {
      "text/html": [
       "<ol class=list-inline>\n",
       "\t<li>158.227204741828</li>\n",
       "\t<li>152.746959747373</li>\n",
       "\t<li>189.528097978426</li>\n",
       "\t<li>132.898580722888</li>\n",
       "\t<li>171.728977121022</li>\n",
       "</ol>\n"
      ],
      "text/latex": [
       "\\begin{enumerate*}\n",
       "\\item 158.227204741828\n",
       "\\item 152.746959747373\n",
       "\\item 189.528097978426\n",
       "\\item 132.898580722888\n",
       "\\item 171.728977121022\n",
       "\\end{enumerate*}\n"
      ],
      "text/markdown": [
       "1. 158.227204741828\n",
       "2. 152.746959747373\n",
       "3. 189.528097978426\n",
       "4. 132.898580722888\n",
       "5. 171.728977121022\n",
       "\n",
       "\n"
      ],
      "text/plain": [
       "[1] 158.2272 152.7470 189.5281 132.8986 171.7290"
      ]
     },
     "metadata": {},
     "output_type": "display_data"
    },
    {
     "data": {
      "text/html": [
       "<table>\n",
       "<tbody>\n",
       "\t<tr><th scope=row>5%</th><td>143.7718</td><td>136.9658</td><td>173.8883</td><td>117.3704</td><td>156.8203</td></tr>\n",
       "\t<tr><th scope=row>94%</th><td>173.9034</td><td>167.6865</td><td>205.9746</td><td>147.9676</td><td>187.0009</td></tr>\n",
       "</tbody>\n",
       "</table>\n"
      ],
      "text/latex": [
       "\\begin{tabular}{r|lllll}\n",
       "\t5\\% & 143.7718 & 136.9658 & 173.8883 & 117.3704 & 156.8203\\\\\n",
       "\t94\\% & 173.9034 & 167.6865 & 205.9746 & 147.9676 & 187.0009\\\\\n",
       "\\end{tabular}\n"
      ],
      "text/markdown": [
       "\n",
       "| 5% | 143.7718 | 136.9658 | 173.8883 | 117.3704 | 156.8203 | \n",
       "| 94% | 173.9034 | 167.6865 | 205.9746 | 147.9676 | 187.0009 | \n",
       "\n",
       "\n"
      ],
      "text/plain": [
       "    [,1]     [,2]     [,3]     [,4]     [,5]    \n",
       "5%  143.7718 136.9658 173.8883 117.3704 156.8203\n",
       "94% 173.9034 167.6865 205.9746 147.9676 187.0009"
      ]
     },
     "metadata": {},
     "output_type": "display_data"
    }
   ],
   "source": [
    "simulated.heights.mean\n",
    "simulated.heights.PI "
   ]
  },
  {
   "cell_type": "markdown",
   "metadata": {
    "heading_collapsed": true,
    "hidden": true
   },
   "source": [
    "###### student 2"
   ]
  },
  {
   "cell_type": "code",
   "execution_count": 148,
   "metadata": {
    "hidden": true
   },
   "outputs": [],
   "source": [
    "# 4H1\n",
    "### load data\n",
    "data(\"Howell1\")\n",
    "d <- Howell1"
   ]
  },
  {
   "cell_type": "code",
   "execution_count": 149,
   "metadata": {
    "cell_style": "center",
    "collapsed": true,
    "hidden": true
   },
   "outputs": [
    {
     "data": {
      "text/plain": [
       "     height          weight           age             male       \n",
       " Min.   :136.5   Min.   :31.07   Min.   :12.00   Min.   :0.0000  \n",
       " 1st Qu.:148.0   1st Qu.:39.53   1st Qu.:27.00   1st Qu.:0.0000  \n",
       " Median :153.7   Median :44.34   Median :38.00   Median :0.0000  \n",
       " Mean   :154.3   Mean   :44.59   Mean   :39.85   Mean   :0.4717  \n",
       " 3rd Qu.:160.0   3rd Qu.:48.99   3rd Qu.:50.00   3rd Qu.:1.0000  \n",
       " Max.   :179.1   Max.   :62.99   Max.   :88.00   Max.   :1.0000  "
      ]
     },
     "metadata": {},
     "output_type": "display_data"
    },
    {
     "data": {},
     "metadata": {},
     "output_type": "display_data"
    },
    {
     "data": {
      "image/png": "[encoded data removed]",
      "text/plain": [
       "Plot with title \"Histogram of d2$age\""
      ]
     },
     "metadata": {},
     "output_type": "display_data"
    },
    {
     "data": {
      "image/png": "[encoded data removed]",
      "text/plain": [
       "plot without title"
      ]
     },
     "metadata": {},
     "output_type": "display_data"
    }
   ],
   "source": [
    "### check age and height for people with weight > 30\n",
    "d2 <- d[d$weight>=30,]\n",
    "hist(d2$age)\n",
    "summary(d2)\n",
    "ggplot(d2, aes(weight, height)) + geom_point()"
   ]
  },
  {
   "cell_type": "code",
   "execution_count": 151,
   "metadata": {
    "collapsed": true,
    "hidden": true
   },
   "outputs": [
    {
     "data": {
      "text/plain": [
       "     height          weight           age             male       \n",
       " Min.   :136.5   Min.   :31.07   Min.   :18.00   Min.   :0.0000  \n",
       " 1st Qu.:148.6   1st Qu.:40.26   1st Qu.:28.00   1st Qu.:0.0000  \n",
       " Median :154.3   Median :44.79   Median :39.00   Median :0.0000  \n",
       " Mean   :154.6   Mean   :44.99   Mean   :41.14   Mean   :0.4688  \n",
       " 3rd Qu.:160.7   3rd Qu.:49.29   3rd Qu.:51.00   3rd Qu.:1.0000  \n",
       " Max.   :179.1   Max.   :62.99   Max.   :88.00   Max.   :1.0000  "
      ]
     },
     "metadata": {},
     "output_type": "display_data"
    },
    {
     "data": {},
     "metadata": {},
     "output_type": "display_data"
    },
    {
     "data": {
      "image/png": "[encoded data removed]",
      "text/plain": [
       "plot without title"
      ]
     },
     "metadata": {},
     "output_type": "display_data"
    }
   ],
   "source": [
    "### to simplify life lets use linear regression as in chapter 4 for individuals with age>18\n",
    "d2 <- d[d$age>=18,]\n",
    "summary(d2)\n",
    "ggplot(d2, aes(weight, height)) + geom_point()"
   ]
  },
  {
   "cell_type": "code",
   "execution_count": 152,
   "metadata": {
    "hidden": true
   },
   "outputs": [
    {
     "data": {
      "text/plain": [
       "        Mean StdDev   5.5%  94.5%\n",
       "a     113.94   1.90 110.90 116.98\n",
       "b       0.90   0.04   0.84   0.97\n",
       "sigma   5.07   0.19   4.77   5.38"
      ]
     },
     "metadata": {},
     "output_type": "display_data"
    }
   ],
   "source": [
    "### fit map model \n",
    "m4h1 <- map(\n",
    "  alist(\n",
    "     height ~ dnorm(mu, sigma),\n",
    "     mu <- a + b*weight,\n",
    "     a ~ dnorm(155,50),\n",
    "     b ~ dnorm(0, 10),\n",
    "     sigma ~ dunif(0, 50)\n",
    "  ),\n",
    "  data=d2\n",
    ")\n",
    "summary(m4h1)"
   ]
  },
  {
   "cell_type": "code",
   "execution_count": 153,
   "metadata": {
    "hidden": true
   },
   "outputs": [
    {
     "name": "stdout",
     "output_type": "stream",
     "text": [
      "[ 10000 / 10000 ]\n",
      " num [1:10000, 1:5] 156 144 159 155 159 ...\n"
     ]
    },
    {
     "data": {
      "text/html": [
       "<table>\n",
       "<thead><tr><th scope=col>id</th><th scope=col>weight</th><th scope=col>height</th><th scope=col>hpdi.low</th><th scope=col>hpdi.high</th></tr></thead>\n",
       "<tbody>\n",
       "\t<tr><td>1       </td><td>46.95   </td><td>156.4021</td><td>148.3839</td><td>164.6617</td></tr>\n",
       "\t<tr><td>2       </td><td>43.72   </td><td>153.4760</td><td>145.5828</td><td>161.8180</td></tr>\n",
       "\t<tr><td>3       </td><td>64.78   </td><td>172.4959</td><td>164.2609</td><td>180.6380</td></tr>\n",
       "\t<tr><td>4       </td><td>32.59   </td><td>143.3560</td><td>135.2397</td><td>151.5114</td></tr>\n",
       "\t<tr><td>5       </td><td>54.63   </td><td>163.3233</td><td>155.3978</td><td>171.4222</td></tr>\n",
       "</tbody>\n",
       "</table>\n"
      ],
      "text/latex": [
       "\\begin{tabular}{r|lllll}\n",
       " id & weight & height & hpdi.low & hpdi.high\\\\\n",
       "\\hline\n",
       "\t 1        & 46.95    & 156.4021 & 148.3839 & 164.6617\\\\\n",
       "\t 2        & 43.72    & 153.4760 & 145.5828 & 161.8180\\\\\n",
       "\t 3        & 64.78    & 172.4959 & 164.2609 & 180.6380\\\\\n",
       "\t 4        & 32.59    & 143.3560 & 135.2397 & 151.5114\\\\\n",
       "\t 5        & 54.63    & 163.3233 & 155.3978 & 171.4222\\\\\n",
       "\\end{tabular}\n"
      ],
      "text/markdown": [
       "\n",
       "id | weight | height | hpdi.low | hpdi.high | \n",
       "|---|---|---|---|---|\n",
       "| 1        | 46.95    | 156.4021 | 148.3839 | 164.6617 | \n",
       "| 2        | 43.72    | 153.4760 | 145.5828 | 161.8180 | \n",
       "| 3        | 64.78    | 172.4959 | 164.2609 | 180.6380 | \n",
       "| 4        | 32.59    | 143.3560 | 135.2397 | 151.5114 | \n",
       "| 5        | 54.63    | 163.3233 | 155.3978 | 171.4222 | \n",
       "\n",
       "\n"
      ],
      "text/plain": [
       "  id weight height   hpdi.low hpdi.high\n",
       "1 1  46.95  156.4021 148.3839 164.6617 \n",
       "2 2  43.72  153.4760 145.5828 161.8180 \n",
       "3 3  64.78  172.4959 164.2609 180.6380 \n",
       "4 4  32.59  143.3560 135.2397 151.5114 \n",
       "5 5  54.63  163.3233 155.3978 171.4222 "
      ]
     },
     "metadata": {},
     "output_type": "display_data"
    }
   ],
   "source": [
    "### create dataframe with records of interest\n",
    "dnew <- data.frame(id=1:5, weight=c(46.95, 43.72, 64.78, 32.59, 54.63))\n",
    "sim.dnew <- sim(m4h1, data = dnew, n=1e4)\n",
    "str(sim.dnew) # simulated heights\n",
    "\n",
    "dnew$height <- apply(sim.dnew, 2, mean)\n",
    "hpdi.new <- apply(sim.dnew, 2, HPDI)\n",
    "dnew$hpdi.low <- hpdi.new[1,]\n",
    "dnew$hpdi.high <- hpdi.new[2,]\n",
    "dnew"
   ]
  },
  {
   "cell_type": "code",
   "execution_count": 154,
   "metadata": {
    "hidden": true,
    "scrolled": false
   },
   "outputs": [
    {
     "data": {
      "text/html": [
       "156.351491874683"
      ],
      "text/latex": [
       "156.351491874683"
      ],
      "text/markdown": [
       "156.351491874683"
      ],
      "text/plain": [
       "[1] 156.3515"
      ]
     },
     "metadata": {},
     "output_type": "display_data"
    },
    {
     "data": {
      "text/html": [
       "<dl class=dl-horizontal>\n",
       "\t<dt>|0.89</dt>\n",
       "\t\t<dd>148.552228272519</dd>\n",
       "\t<dt>0.89|</dt>\n",
       "\t\t<dd>164.559010070913</dd>\n",
       "</dl>\n"
      ],
      "text/latex": [
       "\\begin{description*}\n",
       "\\item[\\textbackslash{}textbar\\{\\}0.89] 148.552228272519\n",
       "\\item[0.89\\textbackslash{}textbar\\{\\}] 164.559010070913\n",
       "\\end{description*}\n"
      ],
      "text/markdown": [
       "|0.89\n",
       ":   148.5522282725190.89|\n",
       ":   164.559010070913\n",
       "\n"
      ],
      "text/plain": [
       "   |0.89    0.89| \n",
       "148.5522 164.5590 "
      ]
     },
     "metadata": {},
     "output_type": "display_data"
    }
   ],
   "source": [
    "# draw from posterior for the first individual\n",
    "post4h1 <- extract.samples(m4h1)\n",
    "sim4h1.p1 <- rnorm(n = 1e4, mean = post4h1$a + post4h1$b*dnew$weight[1], sd = post4h1$sigma)\n",
    "(p1.height <- mean(sim4h1.p1))\n",
    "(p1.hpdi <- HPDI(sim4h1.p1))"
   ]
  },
  {
   "cell_type": "markdown",
   "metadata": {
    "heading_collapsed": true,
    "hidden": true
   },
   "source": [
    "##### 4H2"
   ]
  },
  {
   "cell_type": "markdown",
   "metadata": {
    "hidden": true
   },
   "source": [
    "<img src='pics/SR_h33.png' alt='Drawing' style='width:425pt'/>"
   ]
  },
  {
   "cell_type": "code",
   "execution_count": 179,
   "metadata": {
    "hidden": true
   },
   "outputs": [
    {
     "data": {
      "text/html": [
       "<ol class=list-inline>\n",
       "\t<li>192</li>\n",
       "\t<li>5</li>\n",
       "</ol>\n"
      ],
      "text/latex": [
       "\\begin{enumerate*}\n",
       "\\item 192\n",
       "\\item 5\n",
       "\\end{enumerate*}\n"
      ],
      "text/markdown": [
       "1. 192\n",
       "2. 5\n",
       "\n",
       "\n"
      ],
      "text/plain": [
       "[1] 192   5"
      ]
     },
     "metadata": {},
     "output_type": "display_data"
    }
   ],
   "source": [
    "library(rethinking)\n",
    "data(Howell1)\n",
    "d <- Howell1\n",
    "\n",
    "d3 <- d[d$age<18,] \n",
    "# All we want for now are heights of adults in the sample. The reason to filter out non-\n",
    "# adults for now is that height is strongly correlated with age, before adulthood. \n",
    "\n",
    "\n",
    "d3 <- d3 %>% \n",
    "    # mutate(weight.centered = (weight - mean(weight)) / sd(weight))\n",
    "    mutate(weight.centered = scale (weight))\n",
    "\n",
    "d3 %>% dim()"
   ]
  },
  {
   "cell_type": "code",
   "execution_count": 173,
   "metadata": {
    "collapsed": true,
    "hidden": true
   },
   "outputs": [
    {
     "data": {
      "text/html": [
       "<table>\n",
       "<thead><tr><th scope=col>height</th><th scope=col>weight</th><th scope=col>age</th><th scope=col>male</th><th scope=col>weight.centered</th></tr></thead>\n",
       "<tbody>\n",
       "\t<tr><td>121.92    </td><td>19.61785  </td><td>12.0      </td><td>1         </td><td> 0.1346480</td></tr>\n",
       "\t<tr><td>105.41    </td><td>13.94795  </td><td> 8.0      </td><td>0         </td><td>-0.4996177</td></tr>\n",
       "\t<tr><td> 86.36    </td><td>10.48931  </td><td> 6.5      </td><td>0         </td><td>-0.8865198</td></tr>\n",
       "\t<tr><td>129.54    </td><td>23.58678  </td><td>13.0      </td><td>1         </td><td> 0.5786340</td></tr>\n",
       "\t<tr><td>109.22    </td><td>15.98912  </td><td> 7.0      </td><td>0         </td><td>-0.2712820</td></tr>\n",
       "\t<tr><td>137.16    </td><td>27.32892  </td><td>17.0      </td><td>1         </td><td> 0.9972494</td></tr>\n",
       "</tbody>\n",
       "</table>\n"
      ],
      "text/latex": [
       "\\begin{tabular}{r|lllll}\n",
       " height & weight & age & male & weight.centered\\\\\n",
       "\\hline\n",
       "\t 121.92     & 19.61785   & 12.0       & 1          &  0.1346480\\\\\n",
       "\t 105.41     & 13.94795   &  8.0       & 0          & -0.4996177\\\\\n",
       "\t  86.36     & 10.48931   &  6.5       & 0          & -0.8865198\\\\\n",
       "\t 129.54     & 23.58678   & 13.0       & 1          &  0.5786340\\\\\n",
       "\t 109.22     & 15.98912   &  7.0       & 0          & -0.2712820\\\\\n",
       "\t 137.16     & 27.32892   & 17.0       & 1          &  0.9972494\\\\\n",
       "\\end{tabular}\n"
      ],
      "text/markdown": [
       "\n",
       "height | weight | age | male | weight.centered | \n",
       "|---|---|---|---|---|---|\n",
       "| 121.92     | 19.61785   | 12.0       | 1          |  0.1346480 | \n",
       "| 105.41     | 13.94795   |  8.0       | 0          | -0.4996177 | \n",
       "|  86.36     | 10.48931   |  6.5       | 0          | -0.8865198 | \n",
       "| 129.54     | 23.58678   | 13.0       | 1          |  0.5786340 | \n",
       "| 109.22     | 15.98912   |  7.0       | 0          | -0.2712820 | \n",
       "| 137.16     | 27.32892   | 17.0       | 1          |  0.9972494 | \n",
       "\n",
       "\n"
      ],
      "text/plain": [
       "  height weight   age  male weight.centered\n",
       "1 121.92 19.61785 12.0 1     0.1346480     \n",
       "2 105.41 13.94795  8.0 0    -0.4996177     \n",
       "3  86.36 10.48931  6.5 0    -0.8865198     \n",
       "4 129.54 23.58678 13.0 1     0.5786340     \n",
       "5 109.22 15.98912  7.0 0    -0.2712820     \n",
       "6 137.16 27.32892 17.0 1     0.9972494     "
      ]
     },
     "metadata": {},
     "output_type": "display_data"
    }
   ],
   "source": [
    "d3 %>% head()"
   ]
  },
  {
   "cell_type": "raw",
   "metadata": {
    "hidden": true
   },
   "source": [
    "M_4H2 <- map(\n",
    "    alist(\n",
    "        height ~ dnorm( mu , sigma ) ,\n",
    "        mu <- a + b*weight.centered ,\n",
    "        a ~ dnorm( 0 , 100 ) ,\n",
    "        b ~ dnorm( 0 , 10 ) ,\n",
    "        sigma ~ dunif( 0 , 50 )\n",
    "    ) ,\n",
    "    data=d3 )"
   ]
  },
  {
   "cell_type": "code",
   "execution_count": 183,
   "metadata": {
    "hidden": true
   },
   "outputs": [],
   "source": [
    "M_4H2 <- map(\n",
    "    alist(\n",
    "        height ~ dnorm( mu , sigma ) ,\n",
    "        mu <- a + b*weight ,\n",
    "        a ~ dnorm( 100 , 100 ) ,\n",
    "        b ~ dnorm( 0 , 10 ) ,\n",
    "        sigma ~ dunif( 0 , 50 )\n",
    "    ) ,\n",
    "    data=d3 )"
   ]
  },
  {
   "cell_type": "code",
   "execution_count": 184,
   "metadata": {
    "hidden": true
   },
   "outputs": [
    {
     "data": {
      "text/plain": [
       "       Mean StdDev  5.5% 94.5%\n",
       "a     58.24   1.40 56.01 60.47\n",
       "b      2.72   0.07  2.61  2.83\n",
       "sigma  8.44   0.43  7.75  9.13"
      ]
     },
     "metadata": {},
     "output_type": "display_data"
    }
   ],
   "source": [
    "M_4H2 %>% precis()"
   ]
  },
  {
   "cell_type": "markdown",
   "metadata": {
    "hidden": true
   },
   "source": [
    "The estimates suggest that the MAP coefficient for weight is 2.7. This implies that for a unit change of 1kg of weight, we predict an average of 2.7cm of increase in height."
   ]
  },
  {
   "cell_type": "markdown",
   "metadata": {
    "hidden": true
   },
   "source": [
    "<font color = 'green'>(b) Now to plot the raw data and superimpose the model estimates, modify the code in Chapter 4. We will sample from the naive posterior, then compute 90% intervals for the mean and predicted heights. This is what the complete code looks like, if you opt not to use the convenience functions link and sim:</font>"
   ]
  },
  {
   "cell_type": "code",
   "execution_count": 193,
   "metadata": {
    "hidden": true
   },
   "outputs": [],
   "source": [
    "post <- extract.samples( M_4H2 )\n",
    "w.seq <- seq(from=1,to=45,length.out=50)\n",
    "mu <- sapply( w.seq , function(z) mean( post$a + post$b*z ) ) # sapply function to each weight value; \n",
    "mu.ci <- sapply( w.seq , function(z)                          # sapply will return a vector.\n",
    "    HPDI( post$a + post$b*z , prob=0.9 ) )\n",
    "pred.ci <- sapply( w.seq , function(z)\n",
    "    HPDI( rnorm(10000,post$a + post$b*z,post$sigma) , 0.9 ) )"
   ]
  },
  {
   "cell_type": "code",
   "execution_count": 194,
   "metadata": {
    "cell_style": "split",
    "code_folding": [],
    "hidden": true
   },
   "outputs": [
    {
     "data": {
      "image/png": "[encoded data removed]",
      "text/plain": [
       "plot without title"
      ]
     },
     "metadata": {},
     "output_type": "display_data"
    }
   ],
   "source": [
    "plot(height ~ weight , data=d3 ,\n",
    "     col=col.alpha(\"slateblue\",0.5) , cex=0.5 )\n",
    "lines( w.seq , mu )\n",
    "lines( w.seq , mu.ci[1,] , lty=2 )\n",
    "lines( w.seq , mu.ci[2,] , lty=2 )\n",
    "lines( w.seq , pred.ci[1,] , lty=2 )\n",
    "lines( w.seq , pred.ci[2,] , lty=2 )"
   ]
  },
  {
   "cell_type": "markdown",
   "metadata": {
    "heading_collapsed": true,
    "hidden": true
   },
   "source": [
    "###### student 1"
   ]
  },
  {
   "cell_type": "code",
   "execution_count": 198,
   "metadata": {
    "cell_style": "split",
    "hidden": true
   },
   "outputs": [],
   "source": [
    "## 4H2\n",
    "data(Howell1)\n",
    "d <- Howell1\n",
    "d <- d[d$age < 18,]"
   ]
  },
  {
   "cell_type": "code",
   "execution_count": 199,
   "metadata": {
    "cell_style": "center",
    "hidden": true
   },
   "outputs": [
    {
     "data": {
      "text/plain": [
       "       Mean StdDev  5.5% 94.5%\n",
       "alpha 58.24   1.40 56.01 60.47\n",
       "beta   2.72   0.07  2.61  2.83\n",
       "sigma  8.44   0.43  7.75  9.13"
      ]
     },
     "metadata": {},
     "output_type": "display_data"
    }
   ],
   "source": [
    "# scale weight column\n",
    "d$weight.standardized <- d$weight\n",
    "\n",
    "# a)\n",
    "model <- map(\n",
    "  alist(\n",
    "    height ~ dnorm(mean = mu, sd = sigma),\n",
    "    mu <- alpha + beta*weight.standardized,\n",
    "    alpha ~ dnorm(mean = 100, sd = 100),\n",
    "    beta ~ dnorm(mean = 0, sd = 10),\n",
    "    sigma ~ dunif(min = 0, max = 50)\n",
    "  ),\n",
    "  data = d\n",
    ")\n",
    "\n",
    "precis(model)"
   ]
  },
  {
   "cell_type": "code",
   "execution_count": 201,
   "metadata": {
    "hidden": true
   },
   "outputs": [],
   "source": [
    "# b)\n",
    "library(MASS)\n",
    "trials <- 1e5\n",
    "\n",
    "weight.seq <- seq(from = 1, to = 45, length.out = 50)\n",
    "\n",
    "# simulate mu then compute mean and hpdi\n",
    "posterior.samples <- data.frame( mvrnorm(n = trials, mu = coef(model), Sigma = vcov(model)) )\n",
    "mu.link <- function(weight) posterior.samples$alpha + posterior.samples$beta * weight\n",
    "mu <- sapply(X = weight.seq, FUN = mu.link)\n",
    "mu.mean <- apply(X = mu, MARGIN = 2, FUN = mean)\n",
    "mu.hpdi <- apply(X = mu, MARGIN = 2, FUN = HPDI, prob = .89)"
   ]
  },
  {
   "cell_type": "code",
   "execution_count": 202,
   "metadata": {
    "hidden": true
   },
   "outputs": [],
   "source": [
    "# simulate heights then compute hpdi\n",
    "height.link <- function(weight) rnorm(n = nrow(posterior.samples), mean = mu.link(weight), sd = posterior.samples$sigma)\n",
    "height.samples <- sapply(X = weight.seq, FUN = height.link)\n",
    "height.hpdi <- apply(X = height.samples, MARGIN = 2, FUN = HPDI, prob = .89)"
   ]
  },
  {
   "cell_type": "code",
   "execution_count": 200,
   "metadata": {
    "collapsed": true,
    "hidden": true
   },
   "outputs": [
    {
     "name": "stderr",
     "output_type": "stream",
     "text": [
      "\n",
      "Attaching package: 'MASS'\n",
      "\n",
      "The following object is masked from 'package:dplyr':\n",
      "\n",
      "    select\n",
      "\n"
     ]
    },
    {
     "data": {
      "image/png": "[encoded data removed]",
      "text/plain": [
       "plot without title"
      ]
     },
     "metadata": {},
     "output_type": "display_data"
    }
   ],
   "source": [
    "# plot results\n",
    "plot(height ~ weight.standardized, data = d, col = col.alpha(rangi2, .5))\n",
    "lines(x = weight.seq, y = mu.mean)\n",
    "shade(object = mu.hpdi, lim = weight.seq)\n",
    "shade(object = height.hpdi, lim = weight.seq)"
   ]
  },
  {
   "cell_type": "markdown",
   "metadata": {
    "heading_collapsed": true,
    "hidden": true
   },
   "source": [
    "###### student 2"
   ]
  },
  {
   "cell_type": "code",
   "execution_count": 206,
   "metadata": {
    "cell_style": "split",
    "hidden": true
   },
   "outputs": [
    {
     "data": {
      "image/png": "[encoded data removed]",
      "text/plain": [
       "plot without title"
      ]
     },
     "metadata": {},
     "output_type": "display_data"
    }
   ],
   "source": [
    "# 4H2\n",
    "d2 <- d[d$age<18,]\n",
    "stopifnot(nrow(d2)==192)\n",
    "plot(height~weight, d2)"
   ]
  },
  {
   "cell_type": "code",
   "execution_count": 219,
   "metadata": {
    "hidden": true
   },
   "outputs": [
    {
     "data": {
      "text/plain": [
       "       Mean StdDev  5.5% 94.5%\n",
       "a     58.27   1.40 56.03 60.50\n",
       "b      2.72   0.07  2.61  2.83\n",
       "sigma  8.44   0.43  7.75  9.13"
      ]
     },
     "metadata": {},
     "output_type": "display_data"
    }
   ],
   "source": [
    "## 4h2.a\n",
    "m4h2 <- map(\n",
    "  alist(\n",
    "    height ~ dnorm(mu, sigma),\n",
    "    mu <- a + b*weight,\n",
    "    a ~ dnorm(100,50),\n",
    "    b ~ dnorm(0, 10),\n",
    "    sigma ~ dunif(0, 50)\n",
    "  ),\n",
    "  data=d2\n",
    ")\n",
    "summary(m4h2)"
   ]
  },
  {
   "cell_type": "markdown",
   "metadata": {
    "hidden": true
   },
   "source": [
    "for every 10 units increase in weight on average we expect `10*coef(m4h2)['b']` increase in height"
   ]
  },
  {
   "cell_type": "code",
   "execution_count": 220,
   "metadata": {
    "hidden": true
   },
   "outputs": [
    {
     "data": {
      "text/html": [
       "<strong>b:</strong> 27.185288491096"
      ],
      "text/latex": [
       "\\textbf{b:} 27.185288491096"
      ],
      "text/markdown": [
       "**b:** 27.185288491096"
      ],
      "text/plain": [
       "       b \n",
       "27.18529 "
      ]
     },
     "metadata": {},
     "output_type": "display_data"
    }
   ],
   "source": [
    "10*coef(m4h2)['b']"
   ]
  },
  {
   "cell_type": "code",
   "execution_count": 221,
   "metadata": {
    "collapsed": true,
    "hidden": true
   },
   "outputs": [
    {
     "name": "stdout",
     "output_type": "stream",
     "text": [
      "[ 10000 / 10000 ]\n",
      " num [1:10000, 1:46] 64.7 64 62.4 65.2 64.4 ...\n"
     ]
    },
    {
     "data": {
      "text/plain": [
       "       V1              V2              V3              V4       \n",
       " Min.   :57.75   Min.   :60.76   Min.   :63.77   Min.   :66.78  \n",
       " 1st Qu.:62.85   1st Qu.:65.61   1st Qu.:68.36   1st Qu.:71.12  \n",
       " Median :63.71   Median :66.43   Median :69.15   Median :71.87  \n",
       " Mean   :63.70   Mean   :66.42   Mean   :69.14   Mean   :71.86  \n",
       " 3rd Qu.:64.56   3rd Qu.:67.24   3rd Qu.:69.92   3rd Qu.:72.61  \n",
       " Max.   :68.94   Max.   :71.45   Max.   :73.95   Max.   :76.46  \n",
       "       V5              V6              V7              V8       \n",
       " Min.   :69.79   Min.   :72.81   Min.   :75.82   Min.   :78.83  \n",
       " 1st Qu.:73.89   1st Qu.:76.64   1st Qu.:79.39   1st Qu.:82.14  \n",
       " Median :74.58   Median :77.30   Median :80.03   Median :82.74  \n",
       " Mean   :74.58   Mean   :77.30   Mean   :80.02   Mean   :82.74  \n",
       " 3rd Qu.:75.28   3rd Qu.:77.97   3rd Qu.:80.65   3rd Qu.:83.33  \n",
       " Max.   :78.96   Max.   :81.47   Max.   :83.97   Max.   :86.47  \n",
       "       V9             V10             V11             V12       \n",
       " Min.   :81.84   Min.   :84.86   Min.   :87.75   Min.   :90.59  \n",
       " 1st Qu.:84.89   1st Qu.:87.63   1st Qu.:90.39   1st Qu.:93.13  \n",
       " Median :85.46   Median :88.18   Median :90.89   Median :93.61  \n",
       " Mean   :85.45   Mean   :88.17   Mean   :90.89   Mean   :93.61  \n",
       " 3rd Qu.:86.02   3rd Qu.:88.71   3rd Qu.:91.40   3rd Qu.:94.09  \n",
       " Max.   :88.98   Max.   :91.48   Max.   :93.99   Max.   :96.49  \n",
       "      V13             V14              V15             V16       \n",
       " Min.   :93.43   Min.   : 96.27   Min.   : 99.1   Min.   :101.9  \n",
       " 1st Qu.:95.87   1st Qu.: 98.61   1st Qu.:101.3   1st Qu.:104.1  \n",
       " Median :96.33   Median : 99.05   Median :101.8   Median :104.5  \n",
       " Mean   :96.33   Mean   : 99.05   Mean   :101.8   Mean   :104.5  \n",
       " 3rd Qu.:96.79   3rd Qu.: 99.49   3rd Qu.:102.2   3rd Qu.:104.9  \n",
       " Max.   :99.01   Max.   :101.59   Max.   :104.2   Max.   :106.9  \n",
       "      V17             V18             V19             V20       \n",
       " Min.   :104.8   Min.   :107.6   Min.   :110.4   Min.   :113.0  \n",
       " 1st Qu.:106.8   1st Qu.:109.5   1st Qu.:112.2   1st Qu.:114.9  \n",
       " Median :107.2   Median :109.9   Median :112.6   Median :115.4  \n",
       " Mean   :107.2   Mean   :109.9   Mean   :112.6   Mean   :115.4  \n",
       " 3rd Qu.:107.6   3rd Qu.:110.3   3rd Qu.:113.1   3rd Qu.:115.8  \n",
       " Max.   :109.5   Max.   :112.2   Max.   :114.9   Max.   :117.7  \n",
       "      V21             V22             V23             V24       \n",
       " Min.   :115.7   Min.   :118.4   Min.   :121.0   Min.   :123.7  \n",
       " 1st Qu.:117.6   1st Qu.:120.3   1st Qu.:123.0   1st Qu.:125.7  \n",
       " Median :118.1   Median :120.8   Median :123.5   Median :126.2  \n",
       " Mean   :118.1   Mean   :120.8   Mean   :123.5   Mean   :126.2  \n",
       " 3rd Qu.:118.5   3rd Qu.:121.3   3rd Qu.:124.0   3rd Qu.:126.8  \n",
       " Max.   :120.5   Max.   :123.3   Max.   :126.1   Max.   :129.0  \n",
       "      V25             V26             V27             V28       \n",
       " Min.   :126.2   Min.   :128.8   Min.   :131.4   Min.   :133.9  \n",
       " 1st Qu.:128.4   1st Qu.:131.1   1st Qu.:133.8   1st Qu.:136.5  \n",
       " Median :129.0   Median :131.7   Median :134.4   Median :137.1  \n",
       " Mean   :129.0   Mean   :131.7   Mean   :134.4   Mean   :137.1  \n",
       " 3rd Qu.:129.5   3rd Qu.:132.3   3rd Qu.:135.0   3rd Qu.:137.8  \n",
       " Max.   :131.9   Max.   :134.8   Max.   :137.7   Max.   :140.6  \n",
       "      V29             V30             V31             V32       \n",
       " Min.   :136.4   Min.   :138.9   Min.   :141.4   Min.   :143.9  \n",
       " 1st Qu.:139.2   1st Qu.:141.8   1st Qu.:144.5   1st Qu.:147.2  \n",
       " Median :139.8   Median :142.6   Median :145.3   Median :148.0  \n",
       " Mean   :139.8   Mean   :142.6   Mean   :145.3   Mean   :148.0  \n",
       " 3rd Qu.:140.5   3rd Qu.:143.3   3rd Qu.:146.0   3rd Qu.:148.8  \n",
       " Max.   :143.6   Max.   :146.5   Max.   :149.5   Max.   :152.5  \n",
       "      V33             V34             V35             V36       \n",
       " Min.   :146.4   Min.   :148.8   Min.   :151.3   Min.   :153.8  \n",
       " 1st Qu.:149.9   1st Qu.:152.6   1st Qu.:155.2   1st Qu.:157.9  \n",
       " Median :150.7   Median :153.4   Median :156.2   Median :158.9  \n",
       " Mean   :150.7   Mean   :153.4   Mean   :156.2   Mean   :158.9  \n",
       " 3rd Qu.:151.5   3rd Qu.:154.3   3rd Qu.:157.1   3rd Qu.:159.8  \n",
       " Max.   :155.4   Max.   :158.4   Max.   :161.3   Max.   :164.3  \n",
       "      V37             V38             V39             V40       \n",
       " Min.   :156.3   Min.   :158.7   Min.   :161.2   Min.   :163.7  \n",
       " 1st Qu.:160.6   1st Qu.:163.3   1st Qu.:166.0   1st Qu.:168.6  \n",
       " Median :161.6   Median :164.3   Median :167.0   Median :169.8  \n",
       " Mean   :161.6   Mean   :164.3   Mean   :167.0   Mean   :169.8  \n",
       " 3rd Qu.:162.6   3rd Qu.:165.4   3rd Qu.:168.1   3rd Qu.:170.9  \n",
       " Max.   :167.2   Max.   :170.2   Max.   :173.2   Max.   :176.1  \n",
       "      V41             V42             V43             V44       \n",
       " Min.   :166.2   Min.   :168.7   Min.   :171.1   Min.   :173.6  \n",
       " 1st Qu.:171.3   1st Qu.:174.0   1st Qu.:176.7   1st Qu.:179.3  \n",
       " Median :172.5   Median :175.2   Median :177.9   Median :180.6  \n",
       " Mean   :172.5   Mean   :175.2   Mean   :177.9   Mean   :180.6  \n",
       " 3rd Qu.:173.6   3rd Qu.:176.4   3rd Qu.:179.2   3rd Qu.:181.9  \n",
       " Max.   :179.1   Max.   :182.0   Max.   :185.0   Max.   :187.9  \n",
       "      V45             V46       \n",
       " Min.   :176.1   Min.   :178.6  \n",
       " 1st Qu.:182.0   1st Qu.:184.7  \n",
       " Median :183.4   Median :186.1  \n",
       " Mean   :183.3   Mean   :186.1  \n",
       " 3rd Qu.:184.7   3rd Qu.:187.5  \n",
       " Max.   :190.9   Max.   :193.9  "
      ]
     },
     "metadata": {},
     "output_type": "display_data"
    }
   ],
   "source": [
    "weight.seq <- seq(round(min(d2$weight)-2), round(max(d2$weight)+2), 1)\n",
    "mu4h2 <- link(m4h2, data=list(weight=weight.seq), n=1e4)\n",
    "str(mu4h2)\n",
    "mu4h2 %>% summary()"
   ]
  },
  {
   "cell_type": "code",
   "execution_count": 213,
   "metadata": {
    "cell_style": "center",
    "collapsed": true,
    "hidden": true
   },
   "outputs": [
    {
     "name": "stdout",
     "output_type": "stream",
     "text": [
      "[ 1000 / 10000 ]\r",
      "[ 2000 / 10000 ]\r",
      "[ 3000 / 10000 ]\r",
      "[ 4000 / 10000 ]\r",
      "[ 5000 / 10000 ]\r",
      "[ 6000 / 10000 ]\r",
      "[ 7000 / 10000 ]\r",
      "[ 8000 / 10000 ]\r",
      "[ 9000 / 10000 ]\r",
      "[ 10000 / 10000 ]\r\n"
     ]
    },
    {
     "data": {
      "image/png": "[encoded data removed]",
      "text/plain": [
       "plot without title"
      ]
     },
     "metadata": {},
     "output_type": "display_data"
    }
   ],
   "source": [
    "mu4h2.mean <- apply(mu4h2, 2, mean)\n",
    "mu4h2.hpdi <- apply(mu4h2, 2, HPDI)\n",
    "\n",
    "sim4h2 <- sim(m4h2, data=list(weight=weight.seq), n=1e4)\n",
    "points4h2.hpdi <- apply(sim4h2, 2, HPDI)\n",
    "\n",
    "plot(height~weight, d2, col=col.alpha(\"red\",0.9))\n",
    "lines( weight.seq , mu4h2.mean )\n",
    "shade(mu4h2.hpdi, weight.seq)\n",
    "shade(points4h2.hpdi, weight.seq, col = col.alpha(\"green\",0.15))"
   ]
  },
  {
   "cell_type": "code",
   "execution_count": null,
   "metadata": {
    "hidden": true
   },
   "outputs": [],
   "source": [
    "# same stuff calculated manually\n",
    "post4h2.params <- data.frame( mvrnorm(n=1e4, mu=coef(m4h2), Sigma=vcov(m4h2)) )\n",
    "head(post4h2.params)\n",
    "mu4h2.mean.man <- sapply(weight.seq, function(w) mean(post4h2.params$a + post4h2.params$b*w))\n",
    "mu4h2.hpdi.man <- sapply(weight.seq, function(w) HPDI(post4h2.params$a + post4h2.params$b*w))\n",
    "\n",
    "height.link <- function(w){\n",
    "  # generates sample for the given height\n",
    "  rnorm(n = nrow(post4h2.params), \n",
    "        mean = post4h2.params$a + post4h2.params$b*w,\n",
    "        sd = post4h2.params$sigma)\n",
    "} \n",
    "sim4h2.man <- sapply(weight.seq, height.link)\n",
    "points4h2.hpdi.man <- apply(sim4h2.man, 2, HPDI)\n",
    "\n",
    "plot(height~weight, d2, col=col.alpha(\"red\",0.9))\n",
    "lines( weight.seq , mu4h2.mean.man )\n",
    "shade(mu4h2.hpdi.man, weight.seq)\n",
    "shade(points4h2.hpdi.man, weight.seq, col = col.alpha(\"blue\",0.15))"
   ]
  },
  {
   "cell_type": "markdown",
   "metadata": {
    "heading_collapsed": true,
    "hidden": true
   },
   "source": [
    "##### 4H3"
   ]
  },
  {
   "cell_type": "markdown",
   "metadata": {
    "hidden": true
   },
   "source": [
    "<img src='pics/SR_h34.png' alt='Drawing' style='width:425pt'/>"
   ]
  },
  {
   "cell_type": "code",
   "execution_count": 223,
   "metadata": {
    "hidden": true
   },
   "outputs": [],
   "source": [
    "library(rethinking) \n",
    "data(Howell1)\n",
    "d <- Howell1"
   ]
  },
  {
   "cell_type": "code",
   "execution_count": 224,
   "metadata": {
    "hidden": true
   },
   "outputs": [],
   "source": [
    "mlw <- map(\n",
    "    alist(\n",
    "        height ~ dnorm( mean=mu , sd=sigma ) ,\n",
    "        mu <- a + b*log(weight) ,\n",
    "        a ~ dnorm( 138 , 100 ) ,\n",
    "        b ~ dnorm( 0 , 100 ) ,\n",
    "        sigma ~ dunif( 0 , 50 )\n",
    "    ) ,\n",
    "    data=d )"
   ]
  },
  {
   "cell_type": "code",
   "execution_count": 226,
   "metadata": {
    "hidden": true,
    "scrolled": true
   },
   "outputs": [
    {
     "data": {
      "text/plain": [
       "        Mean StdDev   5.5%  94.5%\n",
       "a     -23.79   1.34 -25.93 -21.66\n",
       "b      47.08   0.38  46.47  47.69\n",
       "sigma   5.13   0.16   4.89   5.38"
      ]
     },
     "metadata": {},
     "output_type": "display_data"
    }
   ],
   "source": [
    "precis(mlw)"
   ]
  },
  {
   "cell_type": "markdown",
   "metadata": {
    "hidden": true
   },
   "source": [
    "Pretty hard to know what to make of these estimates, aside from the fact that the confidence intervals are quite narrow, owing to there being 544 rows. <font color = 'green'>**The estimate for b (β) is hard to understand, because it refers to log-kg, not raw kg. It means that for every increase of 1 log-kg of weight, you expect a increase of 47 cm of height. But what’s a log-kg? You want to know what the model predicts on the natural scale of measurement.**</font> So now to plotting..."
   ]
  },
  {
   "cell_type": "markdown",
   "metadata": {
    "hidden": true
   },
   "source": [
    "(b) Begin by sampling from the naive posterior and computing the confidence intervals as per the examples in the book. Again, I’ll not use the convenience functions, but it’s fine if you did."
   ]
  },
  {
   "cell_type": "code",
   "execution_count": 228,
   "metadata": {
    "hidden": true
   },
   "outputs": [],
   "source": [
    "post <- extract.samples(mlw)\n",
    "lw.seq <- seq(from=1.4,to=4.2,length.out=50)\n",
    "mu <- sapply( lw.seq , function(z) mean( post$a+post$b*z ) )\n",
    "mu.ci <- sapply( lw.seq , function(z) HPDI( post$a+post$b*z ) )\n",
    "h.ci <- sapply( lw.seq , function(z) HPDI( rnorm(10000,post$a+post$b*z,post$sigma) ) )"
   ]
  },
  {
   "cell_type": "markdown",
   "metadata": {
    "hidden": true
   },
   "source": [
    "Now you have lists of numbers that can be plotted to produce the confidence curves. But how to translate back to the non-log scale of measurement on the horizontal axis? Just exponentiate the x-axis coordinates in lw.seq, and the job is done:"
   ]
  },
  {
   "cell_type": "code",
   "execution_count": 233,
   "metadata": {
    "hidden": true
   },
   "outputs": [
    {
     "data": {
      "image/png": "[encoded data removed]",
      "text/plain": [
       "plot without title"
      ]
     },
     "metadata": {},
     "output_type": "display_data"
    }
   ],
   "source": [
    "plot( height ~ weight , data=d , col=col.alpha(\"slateblue\",0.4) )\n",
    "lines( exp(lw.seq) , mu )\n",
    "lines( exp(lw.seq) , mu.ci[1,] , lty=2 )\n",
    "lines( exp(lw.seq) , mu.ci[2,] , lty=2 )\n",
    "lines( exp(lw.seq) , h.ci[1,] , lty=2 )\n",
    "lines( exp(lw.seq) , h.ci[2,] , lty=2 )"
   ]
  },
  {
   "cell_type": "markdown",
   "metadata": {
    "hidden": true
   },
   "source": [
    "The model may have been linear, but plotted on the raw scale of measurement, it is clearly non-linear. \n",
    "* Not only is the trend for the mean curved, but the variance around the mean is not constant, on this scale. Instead, the variance around the mean increases with weight. \n",
    "\n",
    "* On the scale you fit the model on, the variance was assumed to be constant. But once you transform the measurement scale, it usually won’t be.\n",
    "\n",
    "Notice also that the estimate for the mean is so precise that you can hardly even see the confidence interval for it. Don’t get too confident about such results, though. Remember, all inferences of the model are conditional on the model. Even estimated trends that do a terrible job of prediction can have tight confidence intervals, when the data set is large."
   ]
  },
  {
   "cell_type": "markdown",
   "metadata": {
    "heading_collapsed": true
   },
   "source": [
    "# Misc"
   ]
  },
  {
   "cell_type": "code",
   "execution_count": 61,
   "metadata": {
    "hidden": true
   },
   "outputs": [
    {
     "data": {
      "text/html": [
       "7"
      ],
      "text/latex": [
       "7"
      ],
      "text/markdown": [
       "7"
      ],
      "text/plain": [
       "[1] 7"
      ]
     },
     "metadata": {},
     "output_type": "display_data"
    }
   ],
   "source": [
    "rbinom( 1 , size=10 , prob=0.7 )"
   ]
  },
  {
   "cell_type": "code",
   "execution_count": 67,
   "metadata": {
    "hidden": true
   },
   "outputs": [
    {
     "data": {
      "text/html": [
       "<ol class=list-inline>\n",
       "\t<li>5</li>\n",
       "\t<li>7</li>\n",
       "\t<li>8</li>\n",
       "\t<li>5</li>\n",
       "\t<li>6</li>\n",
       "\t<li>7</li>\n",
       "\t<li>6</li>\n",
       "\t<li>8</li>\n",
       "\t<li>6</li>\n",
       "\t<li>7</li>\n",
       "\t<li>7</li>\n",
       "\t<li>6</li>\n",
       "\t<li>7</li>\n",
       "\t<li>9</li>\n",
       "\t<li>8</li>\n",
       "\t<li>7</li>\n",
       "\t<li>7</li>\n",
       "\t<li>6</li>\n",
       "\t<li>6</li>\n",
       "\t<li>8</li>\n",
       "</ol>\n"
      ],
      "text/latex": [
       "\\begin{enumerate*}\n",
       "\\item 5\n",
       "\\item 7\n",
       "\\item 8\n",
       "\\item 5\n",
       "\\item 6\n",
       "\\item 7\n",
       "\\item 6\n",
       "\\item 8\n",
       "\\item 6\n",
       "\\item 7\n",
       "\\item 7\n",
       "\\item 6\n",
       "\\item 7\n",
       "\\item 9\n",
       "\\item 8\n",
       "\\item 7\n",
       "\\item 7\n",
       "\\item 6\n",
       "\\item 6\n",
       "\\item 8\n",
       "\\end{enumerate*}\n"
      ],
      "text/markdown": [
       "1. 5\n",
       "2. 7\n",
       "3. 8\n",
       "4. 5\n",
       "5. 6\n",
       "6. 7\n",
       "7. 6\n",
       "8. 8\n",
       "9. 6\n",
       "10. 7\n",
       "11. 7\n",
       "12. 6\n",
       "13. 7\n",
       "14. 9\n",
       "15. 8\n",
       "16. 7\n",
       "17. 7\n",
       "18. 6\n",
       "19. 6\n",
       "20. 8\n",
       "\n",
       "\n"
      ],
      "text/plain": [
       " [1] 5 7 8 5 6 7 6 8 6 7 7 6 7 9 8 7 7 6 6 8"
      ]
     },
     "metadata": {},
     "output_type": "display_data"
    }
   ],
   "source": [
    "rbinom( 20 , size=10 , prob=0.7 ) "
   ]
  },
  {
   "cell_type": "markdown",
   "metadata": {
    "hidden": true
   },
   "source": [
    "20 trials where I pick 10 samples (with replacement) from a binomial distribution with a probability of success of 0.7\n",
    "\n",
    "the 20 numbers corresponds to counts of successes in each of the 20 trials"
   ]
  },
  {
   "cell_type": "code",
   "execution_count": null,
   "metadata": {
    "hidden": true
   },
   "outputs": [],
   "source": []
  },
  {
   "cell_type": "markdown",
   "metadata": {
    "heading_collapsed": true,
    "hidden": true
   },
   "source": [
    "## how sim works"
   ]
  },
  {
   "cell_type": "markdown",
   "metadata": {
    "hidden": true
   },
   "source": [
    "**Overthinking**: Rolling your own sim. Just like with link, it’s useful to know a little about how sim operates. For every distribution like dnorm, there is a companion simulation function. For the Gaussian distribution, the companion is rnorm, and it simulates sampling from a Gaussian distribution. What we want R to do is simulate a height for each set of samples, and to do this for each value of weight. The following will do it:\n",
    "\n",
    "R code 4.63"
   ]
  },
  {
   "cell_type": "code",
   "execution_count": 43,
   "metadata": {
    "hidden": true
   },
   "outputs": [],
   "source": [
    "post <- extract.samples(m4.3)\n",
    "weight.seq <- 25:70\n",
    "sim.height <- sapply( weight.seq , function(weight)\n",
    "    rnorm(\n",
    "        n=nrow(post) ,\n",
    "        mean=post$a + post$b*weight ,\n",
    "        sd=post$sigma ) )\n",
    "height.PI <- apply( sim.height , 2 , PI , prob=0.89 )"
   ]
  },
  {
   "cell_type": "markdown",
   "metadata": {
    "hidden": true
   },
   "source": [
    "The values in height.PI will be practically identical to the ones computed in the main text and\n",
    "displayed in Figure 4.8."
   ]
  },
  {
   "cell_type": "markdown",
   "metadata": {
    "heading_collapsed": true,
    "hidden": true
   },
   "source": [
    "## dnorm"
   ]
  },
  {
   "cell_type": "markdown",
   "metadata": {
    "hidden": true
   },
   "source": [
    "rnorm is the R function that simulates random variates having a specified normal distribution. As with pnorm , qnorm , and dnorm , optional arguments specify the mean and standard deviation of the distribution."
   ]
  },
  {
   "cell_type": "code",
   "execution_count": 41,
   "metadata": {
    "collapsed": true,
    "hidden": true
   },
   "outputs": [
    {
     "data": {
      "text/html": [
       "TRUE"
      ],
      "text/latex": [
       "TRUE"
      ],
      "text/markdown": [
       "TRUE"
      ],
      "text/plain": [
       "[1] TRUE"
      ]
     },
     "metadata": {},
     "output_type": "display_data"
    },
    {
     "data": {
      "text/html": [
       "TRUE"
      ],
      "text/latex": [
       "TRUE"
      ],
      "text/markdown": [
       "TRUE"
      ],
      "text/plain": [
       "[1] TRUE"
      ]
     },
     "metadata": {},
     "output_type": "display_data"
    },
    {
     "data": {
      "text/html": [
       "TRUE"
      ],
      "text/latex": [
       "TRUE"
      ],
      "text/markdown": [
       "TRUE"
      ],
      "text/plain": [
       "[1] TRUE"
      ]
     },
     "metadata": {},
     "output_type": "display_data"
    },
    {
     "data": {
      "image/png": "[encoded data removed]",
      "text/plain": [
       "Plot with title \"log { Normal Cumulative }\""
      ]
     },
     "metadata": {},
     "output_type": "display_data"
    }
   ],
   "source": [
    "require(graphics)\n",
    "\n",
    "dnorm(0) == 1/sqrt(2*pi)\n",
    "dnorm(1) == exp(-1/2)/sqrt(2*pi)\n",
    "dnorm(1) == 1/sqrt(2*pi*exp(1))\n",
    "\n",
    "## Using \"log = TRUE\" for an extended range :\n",
    "par(mfrow = c(2,1))\n",
    "plot(function(x) dnorm(x, log = TRUE), -60, 50,\n",
    "     main = \"log { Normal density }\")\n",
    "curve(log(dnorm(x)), add = TRUE, col = \"red\", lwd = 2)\n",
    "mtext(\"dnorm(x, log=TRUE)\", adj = 0)\n",
    "mtext(\"log(dnorm(x))\", col = \"red\", adj = 1)\n",
    "\n",
    "plot(function(x) pnorm(x, log.p = TRUE), -50, 10,\n",
    "     main = \"log { Normal Cumulative }\")\n",
    "curve(log(pnorm(x)), add = TRUE, col = \"red\", lwd = 2)\n",
    "mtext(\"pnorm(x, log=TRUE)\", adj = 0)\n",
    "mtext(\"log(pnorm(x))\", col = \"red\", adj = 1)"
   ]
  },
  {
   "cell_type": "markdown",
   "metadata": {
    "heading_collapsed": true,
    "hidden": true
   },
   "source": [
    "## how link works"
   ]
  },
  {
   "cell_type": "markdown",
   "metadata": {
    "hidden": true
   },
   "source": [
    "**Overthinking**: How link works. The function link is not really very sophisticated. \n",
    "\n",
    "<font color = 'green'>**All it is doing is using the formula you provided when you fit the model to compute the value of the linear model**</font>.\n",
    "\n",
    "* It does this for each sample from the posterior distribution, for each case in the data. You could accomplish the same thing for any model, fit by any means, by performing these steps yourself. This is how it’d look for m4.3."
   ]
  },
  {
   "cell_type": "code",
   "execution_count": 31,
   "metadata": {
    "hidden": true
   },
   "outputs": [],
   "source": [
    "post <- extract.samples(m4.3) \n",
    "mu.link <- function(weight) post$a + post$b*weight\n",
    "weight.seq <- seq( from=25 , to=70 , by=1 )\n",
    "mu <- sapply( weight.seq , mu.link )\n",
    "mu.mean <- apply( mu , 2 , mean )\n",
    "mu.HPDI <- apply( mu , 2 , HPDI , prob=0.89 )"
   ]
  },
  {
   "cell_type": "markdown",
   "metadata": {
    "hidden": true
   },
   "source": [
    "And the values in mu.mean and mu.HPDI should be very similar (allowing for simulation variance) to what you got the automated way, using link. Knowing this manual method is useful both for (1) understanding and (2) sheer power. \n",
    "\n",
    "Whatever the model you find yourself with, this approach can be used to generate posterior predictions for any component of it. Automated tools like link save effort, but they are never as flexible as the code you can write yourself."
   ]
  },
  {
   "cell_type": "markdown",
   "metadata": {
    "hidden": true
   },
   "source": [
    "These numbers provide Gaussian approximations for each parameter’s marginal distribution.<font color = 'green'> This means the plausibility of each value of µ, after averaging over the plausibilities of each value of σ, is given by a Gaussian distribution with mean 154.6 and standard deviation 0.4.</font>"
   ]
  },
  {
   "cell_type": "markdown",
   "metadata": {
    "hidden": true
   },
   "source": [
    "<img src='pics/SR_b16.png' alt='Drawing' style='width: 350pt'/>"
   ]
  },
  {
   "cell_type": "markdown",
   "metadata": {
    "hidden": true
   },
   "source": []
  },
  {
   "cell_type": "markdown",
   "metadata": {
    "heading_collapsed": true,
    "hidden": true
   },
   "source": [
    "## VOCAB"
   ]
  },
  {
   "cell_type": "markdown",
   "metadata": {
    "hidden": true
   },
   "source": [
    "In statistics, a <span style='background-color: lightyellow'>**power law**</span> is a functional relationship between two quantities, where a relative change in one quantity results in a proportional relative change in the other quantity, independent of the initial size of those quantities: one quantity varies as a power of another."
   ]
  },
  {
   "cell_type": "markdown",
   "metadata": {
    "hidden": true
   },
   "source": [
    "**quadratic approximation**. Under quite general conditions, the region near the peak of the posterior distribution will be nearly Gaussian—or “normal”—in shape. This means the posterior distribution can be usefully approximated by a Gaussian distribution. A Gaussian distribution is convenient, because it can be completely described by only two numbers: the location of its center (mean) and its spread (variance). \n",
    "\n",
    "* A Gaussian approximation is called “quadratic approximation” because the logarithm of a Gaussian distribution forms a parabola. And a parabola is a quadratic function. So this approximation essentially represents any log-posterior with a parabola."
   ]
  },
  {
   "cell_type": "markdown",
   "metadata": {
    "hidden": true
   },
   "source": []
  },
  {
   "cell_type": "markdown",
   "metadata": {
    "hidden": true
   },
   "source": []
  },
  {
   "cell_type": "markdown",
   "metadata": {
    "hidden": true
   },
   "source": []
  },
  {
   "cell_type": "markdown",
   "metadata": {
    "hidden": true
   },
   "source": []
  },
  {
   "cell_type": "markdown",
   "metadata": {
    "hidden": true
   },
   "source": []
  },
  {
   "cell_type": "markdown",
   "metadata": {
    "hidden": true
   },
   "source": []
  },
  {
   "cell_type": "markdown",
   "metadata": {
    "hidden": true
   },
   "source": []
  },
  {
   "cell_type": "markdown",
   "metadata": {
    "hidden": true
   },
   "source": []
  },
  {
   "cell_type": "markdown",
   "metadata": {
    "hidden": true
   },
   "source": []
  }
 ],
 "metadata": {
  "hide_input": false,
  "kernelspec": {
   "display_name": "R",
   "language": "R",
   "name": "ir"
  },
  "language_info": {
   "codemirror_mode": "r",
   "file_extension": ".r",
   "mimetype": "text/x-r-source",
   "name": "R",
   "pygments_lexer": "r",
   "version": "3.6.1"
  },
  "toc": {
   "base_numbering": 1,
   "nav_menu": {},
   "number_sections": true,
   "sideBar": true,
   "skip_h1_title": false,
   "title_cell": "Table of Contents",
   "title_sidebar": "Contents",
   "toc_cell": true,
   "toc_position": {},
   "toc_section_display": true,
   "toc_window_display": false
  },
  "varInspector": {
   "cols": {
    "lenName": 16,
    "lenType": 16,
    "lenVar": 40
   },
   "kernels_config": {
    "python": {
     "delete_cmd_postfix": "",
     "delete_cmd_prefix": "del ",
     "library": "var_list.py",
     "varRefreshCmd": "print(var_dic_list())"
    },
    "r": {
     "delete_cmd_postfix": ") ",
     "delete_cmd_prefix": "rm(",
     "library": "var_list.r",
     "varRefreshCmd": "cat(var_dic_list()) "
    }
   },
   "types_to_exclude": [
    "module",
    "function",
    "builtin_function_or_method",
    "instance",
    "_Feature"
   ],
   "window_display": false
  }
 },
 "nbformat": 4,
 "nbformat_minor": 2
}
