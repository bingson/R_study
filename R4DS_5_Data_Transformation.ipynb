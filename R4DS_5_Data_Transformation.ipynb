{
 "cells": [
  {
   "cell_type": "markdown",
   "metadata": {
    "toc": true
   },
   "source": [
    "<h1>Table of Contents<span class=\"tocSkip\"></span></h1>\n",
    "<div class=\"toc\"><ul class=\"toc-item\"><li><span><a href=\"#Contingency-Table\" data-toc-modified-id=\"Contingency-Table-1\"><span class=\"toc-item-num\">1&nbsp;&nbsp;</span>Contingency Table</a></span></li><li><span><a href=\"#DPLYR\" data-toc-modified-id=\"DPLYR-2\"><span class=\"toc-item-num\">2&nbsp;&nbsp;</span>DPLYR</a></span><ul class=\"toc-item\"><li><span><a href=\"#dplyr-Basics\" data-toc-modified-id=\"dplyr-Basics-2.1\"><span class=\"toc-item-num\">2.1&nbsp;&nbsp;</span>dplyr Basics</a></span></li><li><span><a href=\"#Filter\" data-toc-modified-id=\"Filter-2.2\"><span class=\"toc-item-num\">2.2&nbsp;&nbsp;</span>Filter</a></span><ul class=\"toc-item\"><li><span><a href=\"#Comparisons\" data-toc-modified-id=\"Comparisons-2.2.1\"><span class=\"toc-item-num\">2.2.1&nbsp;&nbsp;</span>Comparisons</a></span></li><li><span><a href=\"#Logical-operators\" data-toc-modified-id=\"Logical-operators-2.2.2\"><span class=\"toc-item-num\">2.2.2&nbsp;&nbsp;</span>Logical operators</a></span></li><li><span><a href=\"#Missing-values\" data-toc-modified-id=\"Missing-values-2.2.3\"><span class=\"toc-item-num\">2.2.3&nbsp;&nbsp;</span>Missing values</a></span></li><li><span><a href=\"#Exercises\" data-toc-modified-id=\"Exercises-2.2.4\"><span class=\"toc-item-num\">2.2.4&nbsp;&nbsp;</span>Exercises</a></span></li></ul></li><li><span><a href=\"#Arrange\" data-toc-modified-id=\"Arrange-2.3\"><span class=\"toc-item-num\">2.3&nbsp;&nbsp;</span>Arrange</a></span></li><li><span><a href=\"#Select\" data-toc-modified-id=\"Select-2.4\"><span class=\"toc-item-num\">2.4&nbsp;&nbsp;</span>Select</a></span><ul class=\"toc-item\"><li><span><a href=\"#Exercises\" data-toc-modified-id=\"Exercises-2.4.1\"><span class=\"toc-item-num\">2.4.1&nbsp;&nbsp;</span>Exercises</a></span></li></ul></li><li><span><a href=\"#Mutate\" data-toc-modified-id=\"Mutate-2.5\"><span class=\"toc-item-num\">2.5&nbsp;&nbsp;</span>Mutate</a></span><ul class=\"toc-item\"><li><span><a href=\"#Useful-creation-functions-(incl.-window-fns)\" data-toc-modified-id=\"Useful-creation-functions-(incl.-window-fns)-2.5.1\"><span class=\"toc-item-num\">2.5.1&nbsp;&nbsp;</span>Useful creation functions (incl. window fns)</a></span></li><li><span><a href=\"#Exercises\" data-toc-modified-id=\"Exercises-2.5.2\"><span class=\"toc-item-num\">2.5.2&nbsp;&nbsp;</span>Exercises</a></span></li></ul></li><li><span><a href=\"#Grouped-Summaries-with-summarize()\" data-toc-modified-id=\"Grouped-Summaries-with-summarize()-2.6\"><span class=\"toc-item-num\">2.6&nbsp;&nbsp;</span>Grouped Summaries with summarize()</a></span><ul class=\"toc-item\"><li><span><a href=\"#Combining-multiple-operations-with-the-pipe\" data-toc-modified-id=\"Combining-multiple-operations-with-the-pipe-2.6.1\"><span class=\"toc-item-num\">2.6.1&nbsp;&nbsp;</span>Combining multiple operations with the pipe</a></span></li><li><span><a href=\"#Missing-values\" data-toc-modified-id=\"Missing-values-2.6.2\"><span class=\"toc-item-num\">2.6.2&nbsp;&nbsp;</span>Missing values</a></span></li><li><span><a href=\"#Counts\" data-toc-modified-id=\"Counts-2.6.3\"><span class=\"toc-item-num\">2.6.3&nbsp;&nbsp;</span>Counts</a></span></li><li><span><a href=\"#Useful-summary-functions\" data-toc-modified-id=\"Useful-summary-functions-2.6.4\"><span class=\"toc-item-num\">2.6.4&nbsp;&nbsp;</span><font color=\"green\">Useful summary functions</font></a></span></li><li><span><a href=\"#Grouping-by-multiple-variables\" data-toc-modified-id=\"Grouping-by-multiple-variables-2.6.5\"><span class=\"toc-item-num\">2.6.5&nbsp;&nbsp;</span>Grouping by multiple variables</a></span></li><li><span><a href=\"#Ungrouping\" data-toc-modified-id=\"Ungrouping-2.6.6\"><span class=\"toc-item-num\">2.6.6&nbsp;&nbsp;</span>Ungrouping</a></span></li><li><span><a href=\"#Exercises\" data-toc-modified-id=\"Exercises-2.6.7\"><span class=\"toc-item-num\">2.6.7&nbsp;&nbsp;</span>Exercises</a></span></li></ul></li><li><span><a href=\"#Grouped-mutates-(and-filters)\" data-toc-modified-id=\"Grouped-mutates-(and-filters)-2.7\"><span class=\"toc-item-num\">2.7&nbsp;&nbsp;</span>Grouped mutates (and filters)</a></span><ul class=\"toc-item\"><li><span><a href=\"#Window-Functions-\" data-toc-modified-id=\"Window-Functions--2.7.1\"><span class=\"toc-item-num\">2.7.1&nbsp;&nbsp;</span><b><font color=\"purple\">Window Functions </font></b></a></span></li><li><span><a href=\"#Exercises\" data-toc-modified-id=\"Exercises-2.7.2\"><span class=\"toc-item-num\">2.7.2&nbsp;&nbsp;</span>Exercises</a></span></li></ul></li></ul></li></ul></div>"
   ]
  },
  {
   "cell_type": "code",
   "execution_count": 12,
   "metadata": {
    "ExecuteTime": {
     "end_time": "2020-02-09T21:01:47.625636Z",
     "start_time": "2020-02-09T21:01:47.538Z"
    }
   },
   "outputs": [],
   "source": [
    "library(nycflights13)\n",
    "\n",
    "library(tidyverse)"
   ]
  },
  {
   "cell_type": "markdown",
   "metadata": {},
   "source": [
    "# Contingency Table"
   ]
  },
  {
   "cell_type": "code",
   "execution_count": 13,
   "metadata": {
    "ExecuteTime": {
     "end_time": "2020-02-09T21:01:49.062131Z",
     "start_time": "2020-02-09T21:01:48.953Z"
    }
   },
   "outputs": [
    {
     "data": {
      "text/html": [
       "<table>\n",
       "<caption>A data.frame: 6 × 4</caption>\n",
       "<thead>\n",
       "\t<tr><th></th><th scope=col>Admit</th><th scope=col>Gender</th><th scope=col>Dept</th><th scope=col>Freq</th></tr>\n",
       "\t<tr><th></th><th scope=col>&lt;fct&gt;</th><th scope=col>&lt;fct&gt;</th><th scope=col>&lt;fct&gt;</th><th scope=col>&lt;dbl&gt;</th></tr>\n",
       "</thead>\n",
       "<tbody>\n",
       "\t<tr><th scope=row>1</th><td>Admitted</td><td>Male  </td><td>A</td><td>512</td></tr>\n",
       "\t<tr><th scope=row>2</th><td>Rejected</td><td>Male  </td><td>A</td><td>313</td></tr>\n",
       "\t<tr><th scope=row>3</th><td>Admitted</td><td>Female</td><td>A</td><td> 89</td></tr>\n",
       "\t<tr><th scope=row>4</th><td>Rejected</td><td>Female</td><td>A</td><td> 19</td></tr>\n",
       "\t<tr><th scope=row>5</th><td>Admitted</td><td>Male  </td><td>B</td><td>353</td></tr>\n",
       "\t<tr><th scope=row>6</th><td>Rejected</td><td>Male  </td><td>B</td><td>207</td></tr>\n",
       "</tbody>\n",
       "</table>\n"
      ],
      "text/latex": [
       "A data.frame: 6 × 4\n",
       "\\begin{tabular}{r|llll}\n",
       "  & Admit & Gender & Dept & Freq\\\\\n",
       "  & <fct> & <fct> & <fct> & <dbl>\\\\\n",
       "\\hline\n",
       "\t1 & Admitted & Male   & A & 512\\\\\n",
       "\t2 & Rejected & Male   & A & 313\\\\\n",
       "\t3 & Admitted & Female & A &  89\\\\\n",
       "\t4 & Rejected & Female & A &  19\\\\\n",
       "\t5 & Admitted & Male   & B & 353\\\\\n",
       "\t6 & Rejected & Male   & B & 207\\\\\n",
       "\\end{tabular}\n"
      ],
      "text/markdown": [
       "\n",
       "A data.frame: 6 × 4\n",
       "\n",
       "| <!--/--> | Admit &lt;fct&gt; | Gender &lt;fct&gt; | Dept &lt;fct&gt; | Freq &lt;dbl&gt; |\n",
       "|---|---|---|---|---|\n",
       "| 1 | Admitted | Male   | A | 512 |\n",
       "| 2 | Rejected | Male   | A | 313 |\n",
       "| 3 | Admitted | Female | A |  89 |\n",
       "| 4 | Rejected | Female | A |  19 |\n",
       "| 5 | Admitted | Male   | B | 353 |\n",
       "| 6 | Rejected | Male   | B | 207 |\n",
       "\n"
      ],
      "text/plain": [
       "  Admit    Gender Dept Freq\n",
       "1 Admitted Male   A    512 \n",
       "2 Rejected Male   A    313 \n",
       "3 Admitted Female A     89 \n",
       "4 Rejected Female A     19 \n",
       "5 Admitted Male   B    353 \n",
       "6 Rejected Male   B    207 "
      ]
     },
     "metadata": {},
     "output_type": "display_data"
    }
   ],
   "source": [
    "## This is already a contingency table in array form.\n",
    "DF <- as.data.frame(UCBAdmissions)\n",
    "## Now 'DF' is a data frame with a grid of the factors and the counts\n",
    "## in variable 'Freq'.\n",
    "DF  %>% head"
   ]
  },
  {
   "cell_type": "code",
   "execution_count": 11,
   "metadata": {
    "ExecuteTime": {
     "end_time": "2020-02-09T18:55:00.561413Z",
     "start_time": "2020-02-09T18:55:00.513Z"
    }
   },
   "outputs": [
    {
     "data": {
      "text/plain": [
       "        Dept\n",
       "Gender     A   B   C   D   E   F\n",
       "  Male   825 560 325 417 191 373\n",
       "  Female 108  25 593 375 393 341"
      ]
     },
     "metadata": {},
     "output_type": "display_data"
    }
   ],
   "source": [
    "## Nice for taking margins ...\n",
    "xtabs(Freq ~ Gender + Dept, DF)"
   ]
  },
  {
   "cell_type": "code",
   "execution_count": 7,
   "metadata": {
    "ExecuteTime": {
     "end_time": "2020-02-09T18:53:37.095744Z",
     "start_time": "2020-02-09T18:53:37.051Z"
    }
   },
   "outputs": [
    {
     "data": {
      "text/plain": [
       "Call: xtabs(formula = Freq ~ ., data = DF)\n",
       "Number of cases in table: 4526 \n",
       "Number of factors: 3 \n",
       "Test for independence of all factors:\n",
       "\tChisq = 2000.3, df = 16, p-value = 0"
      ]
     },
     "metadata": {},
     "output_type": "display_data"
    }
   ],
   "source": [
    "## And for testing independence ...\n",
    "summary(xtabs(Freq ~ ., DF))"
   ]
  },
  {
   "cell_type": "markdown",
   "metadata": {},
   "source": [
    "# DPLYR"
   ]
  },
  {
   "cell_type": "markdown",
   "metadata": {},
   "source": [
    "Take careful note of the conflicts message that’s printed when you load the tidyverse. It tells you that dplyr overwrites some functions in base R. If you want to use the base version of these functions after loading dplyr, you’ll need to use their full names: `stats::filter()` and `stats::lag()`."
   ]
  },
  {
   "cell_type": "markdown",
   "metadata": {},
   "source": [
    "To explore the basic data manipulation verbs of dplyr, we’ll use `nycflights13::flights`. This data frame contains all 336,776 flights that departed from New York City in 2013. The data comes from the US [Bureau of Transportation Statistics](http://www.transtats.bts.gov/DatabaseInfo.asp?DB_ID=120&Link=0), and is documented in `?flights`."
   ]
  },
  {
   "cell_type": "code",
   "execution_count": 14,
   "metadata": {
    "ExecuteTime": {
     "end_time": "2020-02-09T21:01:54.964532Z",
     "start_time": "2020-02-09T21:01:54.221Z"
    }
   },
   "outputs": [
    {
     "name": "stdout",
     "output_type": "stream",
     "text": [
      "Classes 'tbl_df', 'tbl' and 'data.frame':\t336776 obs. of  19 variables:\n",
      " $ year          : int  2013 2013 2013 2013 2013 2013 2013 2013 2013 2013 ...\n",
      " $ month         : int  1 1 1 1 1 1 1 1 1 1 ...\n",
      " $ day           : int  1 1 1 1 1 1 1 1 1 1 ...\n",
      " $ dep_time      : int  517 533 542 544 554 554 555 557 557 558 ...\n",
      " $ sched_dep_time: int  515 529 540 545 600 558 600 600 600 600 ...\n",
      " $ dep_delay     : num  2 4 2 -1 -6 -4 -5 -3 -3 -2 ...\n",
      " $ arr_time      : int  830 850 923 1004 812 740 913 709 838 753 ...\n",
      " $ sched_arr_time: int  819 830 850 1022 837 728 854 723 846 745 ...\n",
      " $ arr_delay     : num  11 20 33 -18 -25 12 19 -14 -8 8 ...\n",
      " $ carrier       : chr  \"UA\" \"UA\" \"AA\" \"B6\" ...\n",
      " $ flight        : int  1545 1714 1141 725 461 1696 507 5708 79 301 ...\n",
      " $ tailnum       : chr  \"N14228\" \"N24211\" \"N619AA\" \"N804JB\" ...\n",
      " $ origin        : chr  \"EWR\" \"LGA\" \"JFK\" \"JFK\" ...\n",
      " $ dest          : chr  \"IAH\" \"IAH\" \"MIA\" \"BQN\" ...\n",
      " $ air_time      : num  227 227 160 183 116 150 158 53 140 138 ...\n",
      " $ distance      : num  1400 1416 1089 1576 762 ...\n",
      " $ hour          : num  5 5 5 5 6 5 6 6 6 6 ...\n",
      " $ minute        : num  15 29 40 45 0 58 0 0 0 0 ...\n",
      " $ time_hour     : POSIXct, format: \"2013-01-01 05:00:00\" \"2013-01-01 05:00:00\" ...\n"
     ]
    }
   ],
   "source": [
    "flights %>% str()"
   ]
  },
  {
   "cell_type": "markdown",
   "metadata": {
    "ExecuteTime": {
     "end_time": "2020-01-27T03:27:10.066003Z",
     "start_time": "2020-01-27T03:27:10.005Z"
    }
   },
   "source": [
    "You might notice that this data frame prints a little differently from other data frames you might have used in the past: it only shows the first few rows and all the columns that fit on one screen. (To see the whole dataset, you can run `View(flights)` which will open the dataset in the RStudio viewer). It prints differently because it’s a **tibble**. Tibbles are data frames, but slightly tweaked to work better in the tidyverse. For now, you don’t need to worry about the differences; we’ll come back to tibbles in more detail in [wrangle](https://r4ds.had.co.nz/wrangle-intro.html#wrangle-intro).\n",
    "\n",
    "You might also have noticed the row of three (or four) letter abbreviations under the column names. These describe the type of each variable:\n",
    "\n",
    "* `int` stands for integers.\n",
    "\n",
    "* `dbl` stands for doubles, or real numbers.\n",
    "\n",
    "* `chr` stands for character vectors, or strings.\n",
    "\n",
    "* `dttm` stands for date-times (a date + a time).\n",
    "\n",
    "There are three other common types of variables that aren’t used in this dataset but you’ll encounter later in the book:\n",
    "\n",
    "* `lgl` stands for logical, vectors that contain only `TRUE` or `FALSE`.\n",
    "\n",
    "* `fctr` stands for factors, which R uses to represent categorical variables\n",
    "    with fixed possible values.\n",
    "\n",
    "* `date` stands for dates."
   ]
  },
  {
   "cell_type": "markdown",
   "metadata": {
    "heading_collapsed": true
   },
   "source": [
    "## dplyr Basics"
   ]
  },
  {
   "cell_type": "markdown",
   "metadata": {
    "hidden": true
   },
   "source": [
    "In this chapter you are going to learn the five key dplyr functions that allow you to solve the vast majority of your data manipulation challenges:\n",
    "\n",
    "* Pick observations by their values (`filter()`).\n",
    "* Reorder the rows (`arrange()`).\n",
    "* Pick variables by their names (`select()`).\n",
    "* Create new variables with functions of existing variables (`mutate()`).\n",
    "* Collapse many values down to a single summary (`summarise()`).\n",
    "\n",
    "These can all be used in conjunction with `group_by()` which changes the scope of each function from operating on the entire dataset to operating on it group-by-group. These six functions provide the verbs for a language of data manipulation.\n",
    "\n",
    "All verbs work similarly:\n",
    "\n",
    "1.  The first argument is a data frame.\n",
    "\n",
    "2.  The subsequent arguments describe what to do with the data frame,\n",
    "    using the variable names (without quotes).\n",
    "\n",
    "3.  The result is a new data frame.\n",
    "\n",
    "Together these properties make it easy to chain together multiple simple steps to achieve a complex result. Let’s dive in and see how these verbs work."
   ]
  },
  {
   "cell_type": "markdown",
   "metadata": {
    "heading_collapsed": true
   },
   "source": [
    "## Filter"
   ]
  },
  {
   "cell_type": "markdown",
   "metadata": {
    "heading_collapsed": true,
    "hidden": true
   },
   "source": [
    "### Comparisons"
   ]
  },
  {
   "cell_type": "markdown",
   "metadata": {
    "hidden": true
   },
   "source": [
    "There’s another common problem you might encounter when using `==`: floating point numbers. These results might surprise you!\n",
    "\n",
    "\n",
    "```sourceCode\n",
    "sqrt(2) ^ 2 == 2\n",
    "#> [1] FALSE\n",
    "1 / 49 * 49 == 1\n",
    "#> [1] FALSE\n",
    "```\n",
    "\n",
    "Computers use finite precision arithmetic (they obviously can’t store an infinite number of digits!) so remember that every number you see is an approximation. Instead of relying on `==`, use `near()`:\n",
    "\n",
    "\n",
    "```sourceCode\n",
    "near(sqrt(2) ^ 2,  2)\n",
    "#> [1] TRUE\n",
    "near(1 / 49 * 49, 1)\n",
    "#> [1] TRUE\n",
    "```"
   ]
  },
  {
   "cell_type": "markdown",
   "metadata": {
    "heading_collapsed": true,
    "hidden": true
   },
   "source": [
    "### Logical operators"
   ]
  },
  {
   "cell_type": "markdown",
   "metadata": {
    "hidden": true
   },
   "source": [
    "Multiple arguments to `filter()` are combined with “and”: every expression must be true in order for a row to be included in the output. For other types of combinations, you’ll need to use Boolean operators yourself: `&` is “and”, `|` is “or”, and `!` is “not”. Figure [5.1](https://r4ds.had.co.nz/transform.html#fig:bool-ops) shows the complete set of Boolean operations."
   ]
  },
  {
   "cell_type": "markdown",
   "metadata": {
    "hidden": true
   },
   "source": [
    "Figure 5.1: Complete set of boolean operations. x is the left-hand circle, y is the right-hand circle, and the shaded region show which parts each operator selects.\n",
    "\n"
   ]
  },
  {
   "cell_type": "markdown",
   "metadata": {
    "hidden": true
   },
   "source": [
    "<img src='pics/transform-logical.png' alt='Drawing' style='width:425pt'/>"
   ]
  },
  {
   "cell_type": "markdown",
   "metadata": {
    "hidden": true
   },
   "source": [
    "The order of operations doesn’t work like English. You can’t write `filter(flights, month == (11 | 12))`, which you might literally translate into “finds all flights that departed in November or December”. Instead it finds all months that equal `11 | 12`, an expression that evaluates to `TRUE`. In a numeric context (like here), `TRUE` becomes one, so this finds all flights in January, not November or December. This is quite confusing!\n",
    "\n",
    "A useful short-hand for this problem is `x %in% y`. This will select every row where `x` is one of the values in `y`. We could use it to rewrite the code above:"
   ]
  },
  {
   "cell_type": "code",
   "execution_count": 12,
   "metadata": {
    "ExecuteTime": {
     "end_time": "2020-01-27T03:41:20.850411Z",
     "start_time": "2020-01-27T03:41:20.739Z"
    },
    "collapsed": true,
    "hidden": true
   },
   "outputs": [
    {
     "data": {
      "text/html": [
       "<table>\n",
       "<caption>A tibble: 6 × 19</caption>\n",
       "<thead>\n",
       "\t<tr><th scope=col>year</th><th scope=col>month</th><th scope=col>day</th><th scope=col>dep_time</th><th scope=col>sched_dep_time</th><th scope=col>dep_delay</th><th scope=col>arr_time</th><th scope=col>sched_arr_time</th><th scope=col>arr_delay</th><th scope=col>carrier</th><th scope=col>flight</th><th scope=col>tailnum</th><th scope=col>origin</th><th scope=col>dest</th><th scope=col>air_time</th><th scope=col>distance</th><th scope=col>hour</th><th scope=col>minute</th><th scope=col>time_hour</th></tr>\n",
       "\t<tr><th scope=col>&lt;int&gt;</th><th scope=col>&lt;int&gt;</th><th scope=col>&lt;int&gt;</th><th scope=col>&lt;int&gt;</th><th scope=col>&lt;int&gt;</th><th scope=col>&lt;dbl&gt;</th><th scope=col>&lt;int&gt;</th><th scope=col>&lt;int&gt;</th><th scope=col>&lt;dbl&gt;</th><th scope=col>&lt;chr&gt;</th><th scope=col>&lt;int&gt;</th><th scope=col>&lt;chr&gt;</th><th scope=col>&lt;chr&gt;</th><th scope=col>&lt;chr&gt;</th><th scope=col>&lt;dbl&gt;</th><th scope=col>&lt;dbl&gt;</th><th scope=col>&lt;dbl&gt;</th><th scope=col>&lt;dbl&gt;</th><th scope=col>&lt;dttm&gt;</th></tr>\n",
       "</thead>\n",
       "<tbody>\n",
       "\t<tr><td>2013</td><td>11</td><td>1</td><td>  5</td><td>2359</td><td>  6</td><td>352</td><td> 345</td><td>  7</td><td>B6</td><td> 745</td><td>N568JB</td><td>JFK</td><td>PSE</td><td>205</td><td>1617</td><td>23</td><td>59</td><td>2013-11-01 23:00:00</td></tr>\n",
       "\t<tr><td>2013</td><td>11</td><td>1</td><td> 35</td><td>2250</td><td>105</td><td>123</td><td>2356</td><td> 87</td><td>B6</td><td>1816</td><td>N353JB</td><td>JFK</td><td>SYR</td><td> 36</td><td> 209</td><td>22</td><td>50</td><td>2013-11-01 22:00:00</td></tr>\n",
       "\t<tr><td>2013</td><td>11</td><td>1</td><td>455</td><td> 500</td><td> -5</td><td>641</td><td> 651</td><td>-10</td><td>US</td><td>1895</td><td>N192UW</td><td>EWR</td><td>CLT</td><td> 88</td><td> 529</td><td> 5</td><td> 0</td><td>2013-11-01 05:00:00</td></tr>\n",
       "\t<tr><td>2013</td><td>11</td><td>1</td><td>539</td><td> 545</td><td> -6</td><td>856</td><td> 827</td><td> 29</td><td>UA</td><td>1714</td><td>N38727</td><td>LGA</td><td>IAH</td><td>229</td><td>1416</td><td> 5</td><td>45</td><td>2013-11-01 05:00:00</td></tr>\n",
       "\t<tr><td>2013</td><td>11</td><td>1</td><td>542</td><td> 545</td><td> -3</td><td>831</td><td> 855</td><td>-24</td><td>AA</td><td>2243</td><td>N5CLAA</td><td>JFK</td><td>MIA</td><td>147</td><td>1089</td><td> 5</td><td>45</td><td>2013-11-01 05:00:00</td></tr>\n",
       "\t<tr><td>2013</td><td>11</td><td>1</td><td>549</td><td> 600</td><td>-11</td><td>912</td><td> 923</td><td>-11</td><td>UA</td><td> 303</td><td>N595UA</td><td>JFK</td><td>SFO</td><td>359</td><td>2586</td><td> 6</td><td> 0</td><td>2013-11-01 06:00:00</td></tr>\n",
       "</tbody>\n",
       "</table>\n"
      ],
      "text/latex": [
       "A tibble: 6 × 19\n",
       "\\begin{tabular}{r|lllllllllllllllllll}\n",
       " year & month & day & dep\\_time & sched\\_dep\\_time & dep\\_delay & arr\\_time & sched\\_arr\\_time & arr\\_delay & carrier & flight & tailnum & origin & dest & air\\_time & distance & hour & minute & time\\_hour\\\\\n",
       " <int> & <int> & <int> & <int> & <int> & <dbl> & <int> & <int> & <dbl> & <chr> & <int> & <chr> & <chr> & <chr> & <dbl> & <dbl> & <dbl> & <dbl> & <dttm>\\\\\n",
       "\\hline\n",
       "\t 2013 & 11 & 1 &   5 & 2359 &   6 & 352 &  345 &   7 & B6 &  745 & N568JB & JFK & PSE & 205 & 1617 & 23 & 59 & 2013-11-01 23:00:00\\\\\n",
       "\t 2013 & 11 & 1 &  35 & 2250 & 105 & 123 & 2356 &  87 & B6 & 1816 & N353JB & JFK & SYR &  36 &  209 & 22 & 50 & 2013-11-01 22:00:00\\\\\n",
       "\t 2013 & 11 & 1 & 455 &  500 &  -5 & 641 &  651 & -10 & US & 1895 & N192UW & EWR & CLT &  88 &  529 &  5 &  0 & 2013-11-01 05:00:00\\\\\n",
       "\t 2013 & 11 & 1 & 539 &  545 &  -6 & 856 &  827 &  29 & UA & 1714 & N38727 & LGA & IAH & 229 & 1416 &  5 & 45 & 2013-11-01 05:00:00\\\\\n",
       "\t 2013 & 11 & 1 & 542 &  545 &  -3 & 831 &  855 & -24 & AA & 2243 & N5CLAA & JFK & MIA & 147 & 1089 &  5 & 45 & 2013-11-01 05:00:00\\\\\n",
       "\t 2013 & 11 & 1 & 549 &  600 & -11 & 912 &  923 & -11 & UA &  303 & N595UA & JFK & SFO & 359 & 2586 &  6 &  0 & 2013-11-01 06:00:00\\\\\n",
       "\\end{tabular}\n"
      ],
      "text/markdown": [
       "\n",
       "A tibble: 6 × 19\n",
       "\n",
       "| year &lt;int&gt; | month &lt;int&gt; | day &lt;int&gt; | dep_time &lt;int&gt; | sched_dep_time &lt;int&gt; | dep_delay &lt;dbl&gt; | arr_time &lt;int&gt; | sched_arr_time &lt;int&gt; | arr_delay &lt;dbl&gt; | carrier &lt;chr&gt; | flight &lt;int&gt; | tailnum &lt;chr&gt; | origin &lt;chr&gt; | dest &lt;chr&gt; | air_time &lt;dbl&gt; | distance &lt;dbl&gt; | hour &lt;dbl&gt; | minute &lt;dbl&gt; | time_hour &lt;dttm&gt; |\n",
       "|---|---|---|---|---|---|---|---|---|---|---|---|---|---|---|---|---|---|---|\n",
       "| 2013 | 11 | 1 |   5 | 2359 |   6 | 352 |  345 |   7 | B6 |  745 | N568JB | JFK | PSE | 205 | 1617 | 23 | 59 | 2013-11-01 23:00:00 |\n",
       "| 2013 | 11 | 1 |  35 | 2250 | 105 | 123 | 2356 |  87 | B6 | 1816 | N353JB | JFK | SYR |  36 |  209 | 22 | 50 | 2013-11-01 22:00:00 |\n",
       "| 2013 | 11 | 1 | 455 |  500 |  -5 | 641 |  651 | -10 | US | 1895 | N192UW | EWR | CLT |  88 |  529 |  5 |  0 | 2013-11-01 05:00:00 |\n",
       "| 2013 | 11 | 1 | 539 |  545 |  -6 | 856 |  827 |  29 | UA | 1714 | N38727 | LGA | IAH | 229 | 1416 |  5 | 45 | 2013-11-01 05:00:00 |\n",
       "| 2013 | 11 | 1 | 542 |  545 |  -3 | 831 |  855 | -24 | AA | 2243 | N5CLAA | JFK | MIA | 147 | 1089 |  5 | 45 | 2013-11-01 05:00:00 |\n",
       "| 2013 | 11 | 1 | 549 |  600 | -11 | 912 |  923 | -11 | UA |  303 | N595UA | JFK | SFO | 359 | 2586 |  6 |  0 | 2013-11-01 06:00:00 |\n",
       "\n"
      ],
      "text/plain": [
       "  year month day dep_time sched_dep_time dep_delay arr_time sched_arr_time\n",
       "1 2013 11    1     5      2359             6       352       345          \n",
       "2 2013 11    1    35      2250           105       123      2356          \n",
       "3 2013 11    1   455       500            -5       641       651          \n",
       "4 2013 11    1   539       545            -6       856       827          \n",
       "5 2013 11    1   542       545            -3       831       855          \n",
       "6 2013 11    1   549       600           -11       912       923          \n",
       "  arr_delay carrier flight tailnum origin dest air_time distance hour minute\n",
       "1   7       B6       745   N568JB  JFK    PSE  205      1617     23   59    \n",
       "2  87       B6      1816   N353JB  JFK    SYR   36       209     22   50    \n",
       "3 -10       US      1895   N192UW  EWR    CLT   88       529      5    0    \n",
       "4  29       UA      1714   N38727  LGA    IAH  229      1416      5   45    \n",
       "5 -24       AA      2243   N5CLAA  JFK    MIA  147      1089      5   45    \n",
       "6 -11       UA       303   N595UA  JFK    SFO  359      2586      6    0    \n",
       "  time_hour          \n",
       "1 2013-11-01 23:00:00\n",
       "2 2013-11-01 22:00:00\n",
       "3 2013-11-01 05:00:00\n",
       "4 2013-11-01 05:00:00\n",
       "5 2013-11-01 05:00:00\n",
       "6 2013-11-01 06:00:00"
      ]
     },
     "metadata": {},
     "output_type": "display_data"
    }
   ],
   "source": [
    "nov_dec <- filter(flights, month %in% c(11, 12))\n",
    "nov_dec  %>% head()"
   ]
  },
  {
   "cell_type": "markdown",
   "metadata": {
    "hidden": true
   },
   "source": [
    "Sometimes you can simplify complicated subsetting by remembering De Morgan’s law: `!(x & y)` is the same as `!x | !y`, and `!(x | y)` is the same as `!x & !y`. For example, if you wanted to find flights that weren’t delayed (on arrival or departure) by more than two hours, you could use either of the following two filters:"
   ]
  },
  {
   "cell_type": "raw",
   "metadata": {
    "ExecuteTime": {
     "end_time": "2020-01-27T03:42:11.641035Z",
     "start_time": "2020-01-27T03:42:08.469Z"
    },
    "hidden": true
   },
   "source": [
    "filter(flights, !(arr_delay > 120 | dep_delay > 120))\n",
    "filter(flights, arr_delay <= 120, dep_delay <= 120)"
   ]
  },
  {
   "cell_type": "markdown",
   "metadata": {
    "hidden": true
   },
   "source": [
    "As well as `&` and `|`, R also has `&&` and `||`. Don’t use them here! You’ll learn when you should use them in [conditional execution](https://r4ds.had.co.nz/functions.html#conditional-execution).\n",
    "\n",
    "<font color = 'red'>Whenever you start using complicated, multipart expressions in `filter()`, consider making them explicit variables instead</font>. That makes it much easier to check your work. You’ll learn how to create new variables shortly."
   ]
  },
  {
   "cell_type": "markdown",
   "metadata": {
    "heading_collapsed": true,
    "hidden": true
   },
   "source": [
    "### Missing values"
   ]
  },
  {
   "cell_type": "markdown",
   "metadata": {
    "hidden": true
   },
   "source": [
    "One important feature of R that can make comparison tricky are missing values, or `NA`s (“not availables”). `NA` represents an unknown value so missing values are “contagious”: almost any operation involving an unknown value will also be unknown.\n",
    "\n"
   ]
  },
  {
   "cell_type": "code",
   "execution_count": 17,
   "metadata": {
    "ExecuteTime": {
     "end_time": "2020-01-27T03:47:02.643878Z",
     "start_time": "2020-01-27T03:47:02.571Z"
    },
    "hidden": true
   },
   "outputs": [
    {
     "data": {
      "text/html": [
       "&lt;NA&gt;"
      ],
      "text/latex": [
       "<NA>"
      ],
      "text/markdown": [
       "&lt;NA&gt;"
      ],
      "text/plain": [
       "[1] NA"
      ]
     },
     "metadata": {},
     "output_type": "display_data"
    },
    {
     "data": {
      "text/html": [
       "&lt;NA&gt;"
      ],
      "text/latex": [
       "<NA>"
      ],
      "text/markdown": [
       "&lt;NA&gt;"
      ],
      "text/plain": [
       "[1] NA"
      ]
     },
     "metadata": {},
     "output_type": "display_data"
    },
    {
     "data": {
      "text/html": [
       "&lt;NA&gt;"
      ],
      "text/latex": [
       "<NA>"
      ],
      "text/markdown": [
       "&lt;NA&gt;"
      ],
      "text/plain": [
       "[1] NA"
      ]
     },
     "metadata": {},
     "output_type": "display_data"
    },
    {
     "data": {
      "text/html": [
       "&lt;NA&gt;"
      ],
      "text/latex": [
       "<NA>"
      ],
      "text/markdown": [
       "&lt;NA&gt;"
      ],
      "text/plain": [
       "[1] NA"
      ]
     },
     "metadata": {},
     "output_type": "display_data"
    }
   ],
   "source": [
    "NA > 5\n",
    "\n",
    "10 == NA\n",
    "\n",
    "NA + 10\n",
    "\n",
    "NA / 2"
   ]
  },
  {
   "cell_type": "code",
   "execution_count": 95,
   "metadata": {
    "ExecuteTime": {
     "end_time": "2020-01-27T17:09:11.072116Z",
     "start_time": "2020-01-27T17:09:11.023Z"
    },
    "hidden": true
   },
   "outputs": [
    {
     "data": {
      "text/html": [
       "&lt;NA&gt;"
      ],
      "text/latex": [
       "<NA>"
      ],
      "text/markdown": [
       "&lt;NA&gt;"
      ],
      "text/plain": [
       "[1] NA"
      ]
     },
     "metadata": {},
     "output_type": "display_data"
    }
   ],
   "source": [
    "NA * 0"
   ]
  },
  {
   "cell_type": "code",
   "execution_count": 16,
   "metadata": {
    "ExecuteTime": {
     "end_time": "2020-01-27T03:47:00.978360Z",
     "start_time": "2020-01-27T03:47:00.907Z"
    },
    "hidden": true
   },
   "outputs": [
    {
     "data": {
      "text/html": [
       "&lt;NA&gt;"
      ],
      "text/latex": [
       "<NA>"
      ],
      "text/markdown": [
       "&lt;NA&gt;"
      ],
      "text/plain": [
       "[1] NA"
      ]
     },
     "metadata": {},
     "output_type": "display_data"
    },
    {
     "data": {
      "text/html": [
       "&lt;NA&gt;"
      ],
      "text/latex": [
       "<NA>"
      ],
      "text/markdown": [
       "&lt;NA&gt;"
      ],
      "text/plain": [
       "[1] NA"
      ]
     },
     "metadata": {},
     "output_type": "display_data"
    }
   ],
   "source": [
    "NA == NA\n",
    "\n",
    "# Let x be Mary's age. We don't know how old she is.\n",
    "x <- NA\n",
    "\n",
    "# Let y be John's age. We don't know how old he is.\n",
    "y <- NA\n",
    "\n",
    "# Are John and Mary the same age?\n",
    "x == y\n",
    "#> [1] NA\n",
    "# We don't know!"
   ]
  },
  {
   "cell_type": "markdown",
   "metadata": {
    "ExecuteTime": {
     "end_time": "2020-01-27T03:47:43.762015Z",
     "start_time": "2020-01-27T03:47:43.726Z"
    },
    "hidden": true
   },
   "source": [
    "<font color = 'blue'>If you want to determine if a value is missing, use is.na():</font>"
   ]
  },
  {
   "cell_type": "code",
   "execution_count": 19,
   "metadata": {
    "ExecuteTime": {
     "end_time": "2020-01-27T03:48:32.614653Z",
     "start_time": "2020-01-27T03:48:32.554Z"
    },
    "hidden": true
   },
   "outputs": [
    {
     "data": {
      "text/html": [
       "TRUE"
      ],
      "text/latex": [
       "TRUE"
      ],
      "text/markdown": [
       "TRUE"
      ],
      "text/plain": [
       "[1] TRUE"
      ]
     },
     "metadata": {},
     "output_type": "display_data"
    }
   ],
   "source": [
    "is.na(x)\n",
    "#> [1] TRUE"
   ]
  },
  {
   "cell_type": "markdown",
   "metadata": {
    "hidden": true
   },
   "source": [
    "`filter()` only includes rows where the condition is `TRUE`; it excludes both `FALSE` and `NA` values. If you want to preserve missing values, ask for them explicitly:"
   ]
  },
  {
   "cell_type": "code",
   "execution_count": 22,
   "metadata": {
    "ExecuteTime": {
     "end_time": "2020-01-27T03:49:11.540333Z",
     "start_time": "2020-01-27T03:49:11.471Z"
    },
    "hidden": true
   },
   "outputs": [
    {
     "data": {
      "text/html": [
       "<table>\n",
       "<caption>A tibble: 3 × 1</caption>\n",
       "<thead>\n",
       "\t<tr><th scope=col>x</th></tr>\n",
       "\t<tr><th scope=col>&lt;dbl&gt;</th></tr>\n",
       "</thead>\n",
       "<tbody>\n",
       "\t<tr><td> 1</td></tr>\n",
       "\t<tr><td>NA</td></tr>\n",
       "\t<tr><td> 3</td></tr>\n",
       "</tbody>\n",
       "</table>\n"
      ],
      "text/latex": [
       "A tibble: 3 × 1\n",
       "\\begin{tabular}{r|l}\n",
       " x\\\\\n",
       " <dbl>\\\\\n",
       "\\hline\n",
       "\t  1\\\\\n",
       "\t NA\\\\\n",
       "\t  3\\\\\n",
       "\\end{tabular}\n"
      ],
      "text/markdown": [
       "\n",
       "A tibble: 3 × 1\n",
       "\n",
       "| x &lt;dbl&gt; |\n",
       "|---|\n",
       "|  1 |\n",
       "| NA |\n",
       "|  3 |\n",
       "\n"
      ],
      "text/plain": [
       "  x \n",
       "1  1\n",
       "2 NA\n",
       "3  3"
      ]
     },
     "metadata": {},
     "output_type": "display_data"
    }
   ],
   "source": [
    "df <- tibble(x = c(1, NA, 3)); df"
   ]
  },
  {
   "cell_type": "code",
   "execution_count": 23,
   "metadata": {
    "ExecuteTime": {
     "end_time": "2020-01-27T03:49:19.108378Z",
     "start_time": "2020-01-27T03:49:19.056Z"
    },
    "hidden": true
   },
   "outputs": [
    {
     "data": {
      "text/html": [
       "<table>\n",
       "<caption>A tibble: 1 × 1</caption>\n",
       "<thead>\n",
       "\t<tr><th scope=col>x</th></tr>\n",
       "\t<tr><th scope=col>&lt;dbl&gt;</th></tr>\n",
       "</thead>\n",
       "<tbody>\n",
       "\t<tr><td>3</td></tr>\n",
       "</tbody>\n",
       "</table>\n"
      ],
      "text/latex": [
       "A tibble: 1 × 1\n",
       "\\begin{tabular}{r|l}\n",
       " x\\\\\n",
       " <dbl>\\\\\n",
       "\\hline\n",
       "\t 3\\\\\n",
       "\\end{tabular}\n"
      ],
      "text/markdown": [
       "\n",
       "A tibble: 1 × 1\n",
       "\n",
       "| x &lt;dbl&gt; |\n",
       "|---|\n",
       "| 3 |\n",
       "\n"
      ],
      "text/plain": [
       "  x\n",
       "1 3"
      ]
     },
     "metadata": {},
     "output_type": "display_data"
    }
   ],
   "source": [
    "filter(df, x > 1)\n",
    "#> # A tibble: 1 x 1\n",
    "#>       x\n",
    "#>   <dbl>\n",
    "#> 1     3"
   ]
  },
  {
   "cell_type": "code",
   "execution_count": 24,
   "metadata": {
    "ExecuteTime": {
     "end_time": "2020-01-27T03:49:20.045010Z",
     "start_time": "2020-01-27T03:49:19.990Z"
    },
    "hidden": true
   },
   "outputs": [
    {
     "data": {
      "text/html": [
       "<table>\n",
       "<caption>A tibble: 2 × 1</caption>\n",
       "<thead>\n",
       "\t<tr><th scope=col>x</th></tr>\n",
       "\t<tr><th scope=col>&lt;dbl&gt;</th></tr>\n",
       "</thead>\n",
       "<tbody>\n",
       "\t<tr><td>NA</td></tr>\n",
       "\t<tr><td> 3</td></tr>\n",
       "</tbody>\n",
       "</table>\n"
      ],
      "text/latex": [
       "A tibble: 2 × 1\n",
       "\\begin{tabular}{r|l}\n",
       " x\\\\\n",
       " <dbl>\\\\\n",
       "\\hline\n",
       "\t NA\\\\\n",
       "\t  3\\\\\n",
       "\\end{tabular}\n"
      ],
      "text/markdown": [
       "\n",
       "A tibble: 2 × 1\n",
       "\n",
       "| x &lt;dbl&gt; |\n",
       "|---|\n",
       "| NA |\n",
       "|  3 |\n",
       "\n"
      ],
      "text/plain": [
       "  x \n",
       "1 NA\n",
       "2  3"
      ]
     },
     "metadata": {},
     "output_type": "display_data"
    }
   ],
   "source": [
    "filter(df, is.na(x) | x > 1)\n",
    "#> # A tibble: 2 x 1\n",
    "#>       x\n",
    "#>   <dbl>\n",
    "#> 1    NA\n",
    "#> 2     3"
   ]
  },
  {
   "cell_type": "markdown",
   "metadata": {
    "heading_collapsed": true,
    "hidden": true
   },
   "source": [
    "### Exercises"
   ]
  },
  {
   "cell_type": "markdown",
   "metadata": {
    "heading_collapsed": true,
    "hidden": true
   },
   "source": [
    "##### 1.  Find all flights that"
   ]
  },
  {
   "cell_type": "markdown",
   "metadata": {
    "hidden": true
   },
   "source": [
    "1.  Had an arrival delay of two or more hours\n",
    "2.  Flew to Houston (`IAH` or `HOU`)\n",
    "3.  Were operated by United, American, or Delta\n",
    "4.  Departed in summer (July, August, and September)\n",
    "5.  Arrived more than two hours late, but didn’t leave late\n",
    "6.  Were delayed by at least an hour, but made up over 30 minutes in flight\n",
    "7.  Departed between midnight and 6am (inclusive)"
   ]
  },
  {
   "cell_type": "code",
   "execution_count": 43,
   "metadata": {
    "ExecuteTime": {
     "end_time": "2020-01-27T04:05:39.957860Z",
     "start_time": "2020-01-27T04:05:39.905Z"
    },
    "hidden": true
   },
   "outputs": [
    {
     "data": {
      "text/html": [
       "<ol class=list-inline>\n",
       "\t<li>'year'</li>\n",
       "\t<li>'month'</li>\n",
       "\t<li>'day'</li>\n",
       "\t<li>'dep_time'</li>\n",
       "\t<li>'sched_dep_time'</li>\n",
       "\t<li>'dep_delay'</li>\n",
       "\t<li>'arr_time'</li>\n",
       "\t<li>'sched_arr_time'</li>\n",
       "\t<li>'arr_delay'</li>\n",
       "\t<li>'carrier'</li>\n",
       "\t<li>'flight'</li>\n",
       "\t<li>'tailnum'</li>\n",
       "\t<li>'origin'</li>\n",
       "\t<li>'dest'</li>\n",
       "\t<li>'air_time'</li>\n",
       "\t<li>'distance'</li>\n",
       "\t<li>'hour'</li>\n",
       "\t<li>'minute'</li>\n",
       "\t<li>'time_hour'</li>\n",
       "</ol>\n"
      ],
      "text/latex": [
       "\\begin{enumerate*}\n",
       "\\item 'year'\n",
       "\\item 'month'\n",
       "\\item 'day'\n",
       "\\item 'dep\\_time'\n",
       "\\item 'sched\\_dep\\_time'\n",
       "\\item 'dep\\_delay'\n",
       "\\item 'arr\\_time'\n",
       "\\item 'sched\\_arr\\_time'\n",
       "\\item 'arr\\_delay'\n",
       "\\item 'carrier'\n",
       "\\item 'flight'\n",
       "\\item 'tailnum'\n",
       "\\item 'origin'\n",
       "\\item 'dest'\n",
       "\\item 'air\\_time'\n",
       "\\item 'distance'\n",
       "\\item 'hour'\n",
       "\\item 'minute'\n",
       "\\item 'time\\_hour'\n",
       "\\end{enumerate*}\n"
      ],
      "text/markdown": [
       "1. 'year'\n",
       "2. 'month'\n",
       "3. 'day'\n",
       "4. 'dep_time'\n",
       "5. 'sched_dep_time'\n",
       "6. 'dep_delay'\n",
       "7. 'arr_time'\n",
       "8. 'sched_arr_time'\n",
       "9. 'arr_delay'\n",
       "10. 'carrier'\n",
       "11. 'flight'\n",
       "12. 'tailnum'\n",
       "13. 'origin'\n",
       "14. 'dest'\n",
       "15. 'air_time'\n",
       "16. 'distance'\n",
       "17. 'hour'\n",
       "18. 'minute'\n",
       "19. 'time_hour'\n",
       "\n",
       "\n"
      ],
      "text/plain": [
       " [1] \"year\"           \"month\"          \"day\"            \"dep_time\"      \n",
       " [5] \"sched_dep_time\" \"dep_delay\"      \"arr_time\"       \"sched_arr_time\"\n",
       " [9] \"arr_delay\"      \"carrier\"        \"flight\"         \"tailnum\"       \n",
       "[13] \"origin\"         \"dest\"           \"air_time\"       \"distance\"      \n",
       "[17] \"hour\"           \"minute\"         \"time_hour\"     "
      ]
     },
     "metadata": {},
     "output_type": "display_data"
    }
   ],
   "source": [
    "flights %>% colnames()"
   ]
  },
  {
   "cell_type": "code",
   "execution_count": 71,
   "metadata": {
    "ExecuteTime": {
     "end_time": "2020-01-27T09:38:34.032517Z",
     "start_time": "2020-01-27T09:38:33.952Z"
    },
    "hidden": true
   },
   "outputs": [
    {
     "name": "stdout",
     "output_type": "stream",
     "text": [
      "Observations: 10,200\n",
      "Variables: 19\n",
      "$ year           \u001b[3m\u001b[90m<int>\u001b[39m\u001b[23m 2013, 2013, 2013, 2013, 2013, 2013, 2013, 2013, 2013...\n",
      "$ month          \u001b[3m\u001b[90m<int>\u001b[39m\u001b[23m 1, 1, 1, 1, 1, 1, 1, 1, 1, 1, 1, 1, 1, 1, 1, 1, 1, 1...\n",
      "$ day            \u001b[3m\u001b[90m<int>\u001b[39m\u001b[23m 1, 1, 1, 1, 1, 1, 1, 1, 1, 1, 1, 1, 1, 1, 1, 1, 1, 1...\n",
      "$ dep_time       \u001b[3m\u001b[90m<int>\u001b[39m\u001b[23m 811, 848, 957, 1114, 1505, 1525, 1549, 1558, 1732, 1...\n",
      "$ sched_dep_time \u001b[3m\u001b[90m<int>\u001b[39m\u001b[23m 630, 1835, 733, 900, 1310, 1340, 1445, 1359, 1630, 1...\n",
      "$ dep_delay      \u001b[3m\u001b[90m<dbl>\u001b[39m\u001b[23m 101, 853, 144, 134, 115, 105, 64, 119, 62, 103, 290,...\n",
      "$ arr_time       \u001b[3m\u001b[90m<int>\u001b[39m\u001b[23m 1047, 1001, 1056, 1447, 1638, 1831, 1912, 1718, 2028...\n",
      "$ sched_arr_time \u001b[3m\u001b[90m<int>\u001b[39m\u001b[23m 830, 1950, 853, 1222, 1431, 1626, 1656, 1515, 1825, ...\n",
      "$ arr_delay      \u001b[3m\u001b[90m<dbl>\u001b[39m\u001b[23m 137, 851, 123, 145, 127, 125, 136, 123, 123, 138, 33...\n",
      "$ carrier        \u001b[3m\u001b[90m<chr>\u001b[39m\u001b[23m \"MQ\", \"MQ\", \"UA\", \"UA\", \"EV\", \"B6\", \"EV\", \"EV\", \"EV\"...\n",
      "$ flight         \u001b[3m\u001b[90m<int>\u001b[39m\u001b[23m 4576, 3944, 856, 1086, 4497, 525, 4181, 5712, 4092, ...\n",
      "$ tailnum        \u001b[3m\u001b[90m<chr>\u001b[39m\u001b[23m \"N531MQ\", \"N942MQ\", \"N534UA\", \"N76502\", \"N17984\", \"N...\n",
      "$ origin         \u001b[3m\u001b[90m<chr>\u001b[39m\u001b[23m \"LGA\", \"JFK\", \"EWR\", \"LGA\", \"EWR\", \"EWR\", \"EWR\", \"JF...\n",
      "$ dest           \u001b[3m\u001b[90m<chr>\u001b[39m\u001b[23m \"CLT\", \"BWI\", \"BOS\", \"IAH\", \"RIC\", \"MCO\", \"MCI\", \"IA...\n",
      "$ air_time       \u001b[3m\u001b[90m<dbl>\u001b[39m\u001b[23m 118, 41, 37, 248, 63, 152, 234, 53, 119, 154, 213, 4...\n",
      "$ distance       \u001b[3m\u001b[90m<dbl>\u001b[39m\u001b[23m 544, 184, 200, 1416, 277, 937, 1092, 228, 533, 764, ...\n",
      "$ hour           \u001b[3m\u001b[90m<dbl>\u001b[39m\u001b[23m 6, 18, 7, 9, 13, 13, 14, 13, 16, 16, 13, 14, 16, 17,...\n",
      "$ minute         \u001b[3m\u001b[90m<dbl>\u001b[39m\u001b[23m 30, 35, 33, 0, 10, 40, 45, 59, 30, 20, 25, 22, 45, 2...\n",
      "$ time_hour      \u001b[3m\u001b[90m<dttm>\u001b[39m\u001b[23m 2013-01-01 06:00:00, 2013-01-01 18:00:00, 2013-01-0...\n"
     ]
    }
   ],
   "source": [
    "#1 :*:in>:: %in%\n",
    "flights %>% filter(arr_delay >= 120) %>% glimpse"
   ]
  },
  {
   "cell_type": "code",
   "execution_count": 72,
   "metadata": {
    "ExecuteTime": {
     "end_time": "2020-01-27T09:38:40.988756Z",
     "start_time": "2020-01-27T09:38:40.909Z"
    },
    "hidden": true
   },
   "outputs": [
    {
     "name": "stdout",
     "output_type": "stream",
     "text": [
      "Observations: 9,313\n",
      "Variables: 19\n",
      "$ year           \u001b[3m\u001b[90m<int>\u001b[39m\u001b[23m 2013, 2013, 2013, 2013, 2013, 2013, 2013, 2013, 2013...\n",
      "$ month          \u001b[3m\u001b[90m<int>\u001b[39m\u001b[23m 1, 1, 1, 1, 1, 1, 1, 1, 1, 1, 1, 1, 1, 1, 1, 1, 1, 1...\n",
      "$ day            \u001b[3m\u001b[90m<int>\u001b[39m\u001b[23m 1, 1, 1, 1, 1, 1, 1, 1, 1, 1, 1, 1, 1, 1, 1, 1, 1, 1...\n",
      "$ dep_time       \u001b[3m\u001b[90m<int>\u001b[39m\u001b[23m 517, 533, 623, 728, 739, 908, 1028, 1044, 1114, 1205...\n",
      "$ sched_dep_time \u001b[3m\u001b[90m<int>\u001b[39m\u001b[23m 515, 529, 627, 732, 739, 908, 1026, 1045, 900, 1200,...\n",
      "$ dep_delay      \u001b[3m\u001b[90m<dbl>\u001b[39m\u001b[23m 2, 4, -4, -4, 0, 0, 2, -1, 134, 5, 10, -2, 6, 6, 0, ...\n",
      "$ arr_time       \u001b[3m\u001b[90m<int>\u001b[39m\u001b[23m 830, 850, 933, 1041, 1104, 1228, 1350, 1352, 1447, 1...\n",
      "$ sched_arr_time \u001b[3m\u001b[90m<int>\u001b[39m\u001b[23m 819, 830, 932, 1038, 1038, 1219, 1339, 1351, 1222, 1...\n",
      "$ arr_delay      \u001b[3m\u001b[90m<dbl>\u001b[39m\u001b[23m 11, 20, 1, 3, 26, 9, 11, 1, 145, -2, 38, 0, 12, 19, ...\n",
      "$ carrier        \u001b[3m\u001b[90m<chr>\u001b[39m\u001b[23m \"UA\", \"UA\", \"UA\", \"UA\", \"UA\", \"UA\", \"UA\", \"UA\", \"UA\"...\n",
      "$ flight         \u001b[3m\u001b[90m<int>\u001b[39m\u001b[23m 1545, 1714, 496, 473, 1479, 1220, 1004, 455, 1086, 1...\n",
      "$ tailnum        \u001b[3m\u001b[90m<chr>\u001b[39m\u001b[23m \"N14228\", \"N24211\", \"N459UA\", \"N488UA\", \"N37408\", \"N...\n",
      "$ origin         \u001b[3m\u001b[90m<chr>\u001b[39m\u001b[23m \"EWR\", \"LGA\", \"LGA\", \"LGA\", \"EWR\", \"EWR\", \"LGA\", \"EW...\n",
      "$ dest           \u001b[3m\u001b[90m<chr>\u001b[39m\u001b[23m \"IAH\", \"IAH\", \"IAH\", \"IAH\", \"IAH\", \"IAH\", \"IAH\", \"IA...\n",
      "$ air_time       \u001b[3m\u001b[90m<dbl>\u001b[39m\u001b[23m 227, 227, 229, 238, 249, 233, 237, 229, 248, 221, 25...\n",
      "$ distance       \u001b[3m\u001b[90m<dbl>\u001b[39m\u001b[23m 1400, 1416, 1416, 1416, 1400, 1400, 1416, 1400, 1416...\n",
      "$ hour           \u001b[3m\u001b[90m<dbl>\u001b[39m\u001b[23m 5, 5, 6, 7, 7, 9, 10, 10, 9, 12, 11, 12, 13, 13, 14,...\n",
      "$ minute         \u001b[3m\u001b[90m<dbl>\u001b[39m\u001b[23m 15, 29, 27, 32, 39, 8, 26, 45, 0, 0, 58, 50, 0, 50, ...\n",
      "$ time_hour      \u001b[3m\u001b[90m<dttm>\u001b[39m\u001b[23m 2013-01-01 05:00:00, 2013-01-01 05:00:00, 2013-01-0...\n"
     ]
    }
   ],
   "source": [
    "# 2.  Flew to Houston (`IAH` or `HOU`)\n",
    "flights %>% filter(dest %in% c('IAH','HOU')) %>% glimpse"
   ]
  },
  {
   "cell_type": "code",
   "execution_count": 74,
   "metadata": {
    "ExecuteTime": {
     "end_time": "2020-01-27T09:38:59.182489Z",
     "start_time": "2020-01-27T09:38:59.084Z"
    },
    "hidden": true
   },
   "outputs": [
    {
     "name": "stdout",
     "output_type": "stream",
     "text": [
      "Observations: 139,504\n",
      "Variables: 19\n",
      "$ year           \u001b[3m\u001b[90m<int>\u001b[39m\u001b[23m 2013, 2013, 2013, 2013, 2013, 2013, 2013, 2013, 2013...\n",
      "$ month          \u001b[3m\u001b[90m<int>\u001b[39m\u001b[23m 1, 1, 1, 1, 1, 1, 1, 1, 1, 1, 1, 1, 1, 1, 1, 1, 1, 1...\n",
      "$ day            \u001b[3m\u001b[90m<int>\u001b[39m\u001b[23m 1, 1, 1, 1, 1, 1, 1, 1, 1, 1, 1, 1, 1, 1, 1, 1, 1, 1...\n",
      "$ dep_time       \u001b[3m\u001b[90m<int>\u001b[39m\u001b[23m 517, 533, 542, 554, 554, 558, 558, 558, 559, 559, 60...\n",
      "$ sched_dep_time \u001b[3m\u001b[90m<int>\u001b[39m\u001b[23m 515, 529, 540, 600, 558, 600, 600, 600, 600, 600, 61...\n",
      "$ dep_delay      \u001b[3m\u001b[90m<dbl>\u001b[39m\u001b[23m 2, 4, 2, -6, -4, -2, -2, -2, -1, -1, -8, -4, -4, 0, ...\n",
      "$ arr_time       \u001b[3m\u001b[90m<int>\u001b[39m\u001b[23m 830, 850, 923, 812, 740, 753, 924, 923, 941, 854, 81...\n",
      "$ sched_arr_time \u001b[3m\u001b[90m<int>\u001b[39m\u001b[23m 819, 830, 850, 837, 728, 745, 917, 937, 910, 902, 82...\n",
      "$ arr_delay      \u001b[3m\u001b[90m<dbl>\u001b[39m\u001b[23m 11, 20, 33, -25, 12, 8, 7, -14, 31, -8, -8, -12, -8,...\n",
      "$ carrier        \u001b[3m\u001b[90m<chr>\u001b[39m\u001b[23m \"UA\", \"UA\", \"AA\", \"DL\", \"UA\", \"AA\", \"UA\", \"UA\", \"AA\"...\n",
      "$ flight         \u001b[3m\u001b[90m<int>\u001b[39m\u001b[23m 1545, 1714, 1141, 461, 1696, 301, 194, 1124, 707, 11...\n",
      "$ tailnum        \u001b[3m\u001b[90m<chr>\u001b[39m\u001b[23m \"N14228\", \"N24211\", \"N619AA\", \"N668DN\", \"N39463\", \"N...\n",
      "$ origin         \u001b[3m\u001b[90m<chr>\u001b[39m\u001b[23m \"EWR\", \"LGA\", \"JFK\", \"LGA\", \"EWR\", \"LGA\", \"JFK\", \"EW...\n",
      "$ dest           \u001b[3m\u001b[90m<chr>\u001b[39m\u001b[23m \"IAH\", \"IAH\", \"MIA\", \"ATL\", \"ORD\", \"ORD\", \"LAX\", \"SF...\n",
      "$ air_time       \u001b[3m\u001b[90m<dbl>\u001b[39m\u001b[23m 227, 227, 160, 116, 150, 138, 345, 361, 257, 337, 17...\n",
      "$ distance       \u001b[3m\u001b[90m<dbl>\u001b[39m\u001b[23m 1400, 1416, 1089, 762, 719, 733, 2475, 2565, 1389, 2...\n",
      "$ hour           \u001b[3m\u001b[90m<dbl>\u001b[39m\u001b[23m 5, 5, 5, 6, 5, 6, 6, 6, 6, 6, 6, 6, 6, 6, 6, 6, 6, 6...\n",
      "$ minute         \u001b[3m\u001b[90m<dbl>\u001b[39m\u001b[23m 15, 29, 40, 0, 58, 0, 0, 0, 0, 0, 10, 10, 10, 7, 0, ...\n",
      "$ time_hour      \u001b[3m\u001b[90m<dttm>\u001b[39m\u001b[23m 2013-01-01 05:00:00, 2013-01-01 05:00:00, 2013-01-0...\n"
     ]
    }
   ],
   "source": [
    "#3. Were operated by United, American, or Delta\n",
    "flights %>% filter(carrier %in% c('UA', 'AA', 'DL')) %>% glimpse"
   ]
  },
  {
   "cell_type": "code",
   "execution_count": 49,
   "metadata": {
    "ExecuteTime": {
     "end_time": "2020-01-27T04:10:25.587291Z",
     "start_time": "2020-01-27T04:10:25.489Z"
    },
    "hidden": true
   },
   "outputs": [
    {
     "name": "stdout",
     "output_type": "stream",
     "text": [
      "Observations: 86,326\n",
      "Variables: 19\n",
      "$ year           \u001b[3m\u001b[90m<int>\u001b[39m\u001b[23m 2013, 2013, 2013, 2013, 2013, 2013, 2013, 2013, 2013...\n",
      "$ month          \u001b[3m\u001b[90m<int>\u001b[39m\u001b[23m 7, 7, 7, 7, 7, 7, 7, 7, 7, 7, 7, 7, 7, 7, 7, 7, 7, 7...\n",
      "$ day            \u001b[3m\u001b[90m<int>\u001b[39m\u001b[23m 1, 1, 1, 1, 1, 1, 1, 1, 1, 1, 1, 1, 1, 1, 1, 1, 1, 1...\n",
      "$ dep_time       \u001b[3m\u001b[90m<int>\u001b[39m\u001b[23m 1, 2, 29, 43, 44, 46, 48, 58, 100, 100, 107, 111, 11...\n",
      "$ sched_dep_time \u001b[3m\u001b[90m<int>\u001b[39m\u001b[23m 2029, 2359, 2245, 2130, 2150, 2051, 2001, 2155, 2146...\n",
      "$ dep_delay      \u001b[3m\u001b[90m<dbl>\u001b[39m\u001b[23m 212, 3, 104, 193, 174, 235, 287, 183, 194, 135, 142,...\n",
      "$ arr_time       \u001b[3m\u001b[90m<int>\u001b[39m\u001b[23m 236, 344, 151, 322, 300, 304, 308, 335, 327, 337, 15...\n",
      "$ sched_arr_time \u001b[3m\u001b[90m<int>\u001b[39m\u001b[23m 2359, 344, 1, 14, 100, 2358, 2305, 43, 30, 135, 2359...\n",
      "$ arr_delay      \u001b[3m\u001b[90m<dbl>\u001b[39m\u001b[23m 157, 0, 110, 188, 120, 186, 243, 172, 177, 122, 119,...\n",
      "$ carrier        \u001b[3m\u001b[90m<chr>\u001b[39m\u001b[23m \"B6\", \"B6\", \"B6\", \"B6\", \"AA\", \"B6\", \"VX\", \"B6\", \"B6\"...\n",
      "$ flight         \u001b[3m\u001b[90m<int>\u001b[39m\u001b[23m 915, 1503, 234, 1371, 185, 165, 415, 425, 1183, 623,...\n",
      "$ tailnum        \u001b[3m\u001b[90m<chr>\u001b[39m\u001b[23m \"N653JB\", \"N805JB\", \"N348JB\", \"N794JB\", \"N324AA\", \"N...\n",
      "$ origin         \u001b[3m\u001b[90m<chr>\u001b[39m\u001b[23m \"JFK\", \"JFK\", \"JFK\", \"LGA\", \"JFK\", \"JFK\", \"JFK\", \"JF...\n",
      "$ dest           \u001b[3m\u001b[90m<chr>\u001b[39m\u001b[23m \"SFO\", \"SJU\", \"BTV\", \"FLL\", \"LAX\", \"PDX\", \"LAX\", \"TP...\n",
      "$ air_time       \u001b[3m\u001b[90m<dbl>\u001b[39m\u001b[23m 315, 200, 66, 143, 297, 304, 298, 140, 126, 304, 39,...\n",
      "$ distance       \u001b[3m\u001b[90m<dbl>\u001b[39m\u001b[23m 2586, 1598, 266, 1076, 2475, 2454, 2475, 1005, 944, ...\n",
      "$ hour           \u001b[3m\u001b[90m<dbl>\u001b[39m\u001b[23m 20, 23, 22, 21, 21, 20, 20, 21, 21, 22, 22, 23, 21, ...\n",
      "$ minute         \u001b[3m\u001b[90m<dbl>\u001b[39m\u001b[23m 29, 59, 45, 30, 50, 51, 1, 55, 46, 45, 45, 59, 35, 0...\n",
      "$ time_hour      \u001b[3m\u001b[90m<dttm>\u001b[39m\u001b[23m 2013-07-01 20:00:00, 2013-07-01 23:00:00, 2013-07-0...\n"
     ]
    }
   ],
   "source": [
    "# 4. Departed in summer (July, August, and September)\n",
    "flights %>% filter(month %in% c(7,8,9)) %>% glimpse"
   ]
  },
  {
   "cell_type": "code",
   "execution_count": 48,
   "metadata": {
    "ExecuteTime": {
     "end_time": "2020-01-27T04:09:50.788396Z",
     "start_time": "2020-01-27T04:09:50.709Z"
    },
    "collapsed": true,
    "hidden": true,
    "jupyter": {
     "outputs_hidden": true
    }
   },
   "outputs": [
    {
     "data": {
      "text/html": [
       "<table>\n",
       "<caption>A tibble: 12 × 1</caption>\n",
       "<thead>\n",
       "\t<tr><th scope=col>month</th></tr>\n",
       "\t<tr><th scope=col>&lt;int&gt;</th></tr>\n",
       "</thead>\n",
       "<tbody>\n",
       "\t<tr><td> 1</td></tr>\n",
       "\t<tr><td>10</td></tr>\n",
       "\t<tr><td>11</td></tr>\n",
       "\t<tr><td>12</td></tr>\n",
       "\t<tr><td> 2</td></tr>\n",
       "\t<tr><td> 3</td></tr>\n",
       "\t<tr><td> 4</td></tr>\n",
       "\t<tr><td> 5</td></tr>\n",
       "\t<tr><td> 6</td></tr>\n",
       "\t<tr><td> 7</td></tr>\n",
       "\t<tr><td> 8</td></tr>\n",
       "\t<tr><td> 9</td></tr>\n",
       "</tbody>\n",
       "</table>\n"
      ],
      "text/latex": [
       "A tibble: 12 × 1\n",
       "\\begin{tabular}{r|l}\n",
       " month\\\\\n",
       " <int>\\\\\n",
       "\\hline\n",
       "\t  1\\\\\n",
       "\t 10\\\\\n",
       "\t 11\\\\\n",
       "\t 12\\\\\n",
       "\t  2\\\\\n",
       "\t  3\\\\\n",
       "\t  4\\\\\n",
       "\t  5\\\\\n",
       "\t  6\\\\\n",
       "\t  7\\\\\n",
       "\t  8\\\\\n",
       "\t  9\\\\\n",
       "\\end{tabular}\n"
      ],
      "text/markdown": [
       "\n",
       "A tibble: 12 × 1\n",
       "\n",
       "| month &lt;int&gt; |\n",
       "|---|\n",
       "|  1 |\n",
       "| 10 |\n",
       "| 11 |\n",
       "| 12 |\n",
       "|  2 |\n",
       "|  3 |\n",
       "|  4 |\n",
       "|  5 |\n",
       "|  6 |\n",
       "|  7 |\n",
       "|  8 |\n",
       "|  9 |\n",
       "\n"
      ],
      "text/plain": [
       "   month\n",
       "1   1   \n",
       "2  10   \n",
       "3  11   \n",
       "4  12   \n",
       "5   2   \n",
       "6   3   \n",
       "7   4   \n",
       "8   5   \n",
       "9   6   \n",
       "10  7   \n",
       "11  8   \n",
       "12  9   "
      ]
     },
     "metadata": {},
     "output_type": "display_data"
    }
   ],
   "source": [
    "flights %>% distinct(month)"
   ]
  },
  {
   "cell_type": "code",
   "execution_count": 58,
   "metadata": {
    "ExecuteTime": {
     "end_time": "2020-01-27T08:14:20.757671Z",
     "start_time": "2020-01-27T08:14:20.680Z"
    },
    "hidden": true
   },
   "outputs": [
    {
     "name": "stdout",
     "output_type": "stream",
     "text": [
      "Observations: 29\n",
      "Variables: 19\n",
      "$ year           \u001b[3m\u001b[90m<int>\u001b[39m\u001b[23m 2013, 2013, 2013, 2013, 2013, 2013, 2013, 2013, 2013...\n",
      "$ month          \u001b[3m\u001b[90m<int>\u001b[39m\u001b[23m 1, 10, 10, 10, 11, 3, 4, 4, 4, 5, 5, 6, 6, 6, 6, 6, ...\n",
      "$ day            \u001b[3m\u001b[90m<int>\u001b[39m\u001b[23m 27, 7, 7, 16, 1, 18, 17, 18, 18, 22, 23, 5, 14, 24, ...\n",
      "$ dep_time       \u001b[3m\u001b[90m<int>\u001b[39m\u001b[23m 1419, 1350, 1357, 657, 658, 1844, 1635, 558, 655, 18...\n",
      "$ sched_dep_time \u001b[3m\u001b[90m<int>\u001b[39m\u001b[23m 1420, 1350, 1359, 700, 700, 1847, 1640, 600, 700, 18...\n",
      "$ dep_delay      \u001b[3m\u001b[90m<dbl>\u001b[39m\u001b[23m -1, 0, -2, -3, -2, -3, -5, -2, -5, -3, 0, -11, -2, -...\n",
      "$ arr_time       \u001b[3m\u001b[90m<int>\u001b[39m\u001b[23m 1754, 1736, 1858, 1258, 1329, 39, 2049, 1149, 1213, ...\n",
      "$ sched_arr_time \u001b[3m\u001b[90m<int>\u001b[39m\u001b[23m 1550, 1526, 1654, 1056, 1015, 2219, 1845, 850, 950, ...\n",
      "$ arr_delay      \u001b[3m\u001b[90m<dbl>\u001b[39m\u001b[23m 124, 130, 124, 122, 194, 140, 124, 179, 143, 127, 12...\n",
      "$ carrier        \u001b[3m\u001b[90m<chr>\u001b[39m\u001b[23m \"MQ\", \"EV\", \"AA\", \"B6\", \"VX\", \"UA\", \"MQ\", \"AA\", \"AA\"...\n",
      "$ flight         \u001b[3m\u001b[90m<int>\u001b[39m\u001b[23m 3728, 5181, 1151, 3, 399, 389, 4540, 707, 2083, 4674...\n",
      "$ tailnum        \u001b[3m\u001b[90m<chr>\u001b[39m\u001b[23m \"N1EAMQ\", \"N611QX\", \"N3CMAA\", \"N703JB\", \"N629VA\", \"N...\n",
      "$ origin         \u001b[3m\u001b[90m<chr>\u001b[39m\u001b[23m \"EWR\", \"LGA\", \"LGA\", \"JFK\", \"JFK\", \"JFK\", \"LGA\", \"LG...\n",
      "$ dest           \u001b[3m\u001b[90m<chr>\u001b[39m\u001b[23m \"ORD\", \"MSN\", \"DFW\", \"SJU\", \"LAX\", \"SFO\", \"DTW\", \"DF...\n",
      "$ air_time       \u001b[3m\u001b[90m<dbl>\u001b[39m\u001b[23m 135, 117, 192, 225, 336, 386, 130, 234, 230, 90, 82,...\n",
      "$ distance       \u001b[3m\u001b[90m<dbl>\u001b[39m\u001b[23m 719, 812, 1389, 1598, 2475, 2586, 502, 1389, 1372, 4...\n",
      "$ hour           \u001b[3m\u001b[90m<dbl>\u001b[39m\u001b[23m 14, 13, 13, 7, 7, 18, 16, 6, 7, 18, 18, 16, 17, 16, ...\n",
      "$ minute         \u001b[3m\u001b[90m<dbl>\u001b[39m\u001b[23m 20, 50, 59, 0, 0, 47, 40, 0, 0, 30, 10, 15, 10, 5, 0...\n",
      "$ time_hour      \u001b[3m\u001b[90m<dttm>\u001b[39m\u001b[23m 2013-01-27 14:00:00, 2013-10-07 13:00:00, 2013-10-0...\n"
     ]
    }
   ],
   "source": [
    "#5 Arrived more than two hours late, but didn’t leave late\n",
    "flights %>% filter(arr_delay>120 & dep_delay<=0) %>% glimpse"
   ]
  },
  {
   "cell_type": "code",
   "execution_count": 89,
   "metadata": {
    "ExecuteTime": {
     "end_time": "2020-01-27T09:51:16.109798Z",
     "start_time": "2020-01-27T09:51:16.031Z"
    },
    "hidden": true
   },
   "outputs": [
    {
     "name": "stdout",
     "output_type": "stream",
     "text": [
      "Observations: 1,844\n",
      "Variables: 19\n",
      "$ year           \u001b[3m\u001b[90m<int>\u001b[39m\u001b[23m 2013, 2013, 2013, 2013, 2013, 2013, 2013, 2013, 2013...\n",
      "$ month          \u001b[3m\u001b[90m<int>\u001b[39m\u001b[23m 1, 1, 1, 1, 1, 1, 1, 1, 1, 1, 1, 1, 1, 1, 1, 1, 1, 1...\n",
      "$ day            \u001b[3m\u001b[90m<int>\u001b[39m\u001b[23m 1, 1, 3, 3, 3, 3, 3, 3, 3, 4, 4, 4, 4, 4, 4, 5, 6, 7...\n",
      "$ dep_time       \u001b[3m\u001b[90m<int>\u001b[39m\u001b[23m 2205, 2326, 1503, 1839, 1850, 1941, 1950, 2015, 2257...\n",
      "$ sched_dep_time \u001b[3m\u001b[90m<int>\u001b[39m\u001b[23m 1720, 2130, 1221, 1700, 1745, 1759, 1845, 1915, 2000...\n",
      "$ dep_delay      \u001b[3m\u001b[90m<dbl>\u001b[39m\u001b[23m 285, 116, 162, 99, 65, 102, 65, 60, 177, 137, 145, 9...\n",
      "$ arr_time       \u001b[3m\u001b[90m<int>\u001b[39m\u001b[23m 46, 131, 1803, 2056, 2148, 2246, 2228, 2135, 45, 213...\n",
      "$ sched_arr_time \u001b[3m\u001b[90m<int>\u001b[39m\u001b[23m 2040, 18, 1555, 1950, 2120, 2139, 2227, 2111, 2224, ...\n",
      "$ arr_delay      \u001b[3m\u001b[90m<dbl>\u001b[39m\u001b[23m 246, 73, 128, 66, 28, 67, 1, 24, 141, 105, 97, 55, 1...\n",
      "$ carrier        \u001b[3m\u001b[90m<chr>\u001b[39m\u001b[23m \"AA\", \"B6\", \"UA\", \"AA\", \"AA\", \"UA\", \"B6\", \"9E\", \"9E\"...\n",
      "$ flight         \u001b[3m\u001b[90m<int>\u001b[39m\u001b[23m 1999, 199, 551, 575, 177, 979, 91, 3525, 3439, 575, ...\n",
      "$ tailnum        \u001b[3m\u001b[90m<chr>\u001b[39m\u001b[23m \"N5DNAA\", \"N594JB\", \"N835UA\", \"N631AA\", \"N332AA\", \"N...\n",
      "$ origin         \u001b[3m\u001b[90m<chr>\u001b[39m\u001b[23m \"EWR\", \"JFK\", \"EWR\", \"JFK\", \"JFK\", \"EWR\", \"JFK\", \"JF...\n",
      "$ dest           \u001b[3m\u001b[90m<chr>\u001b[39m\u001b[23m \"MIA\", \"LAS\", \"SFO\", \"EGE\", \"SFO\", \"PHX\", \"OAK\", \"OR...\n",
      "$ air_time       \u001b[3m\u001b[90m<dbl>\u001b[39m\u001b[23m 146, 290, 320, 239, 314, 274, 319, 110, 90, 239, 327...\n",
      "$ distance       \u001b[3m\u001b[90m<dbl>\u001b[39m\u001b[23m 1085, 2248, 2565, 1747, 2586, 2133, 2576, 740, 589, ...\n",
      "$ hour           \u001b[3m\u001b[90m<dbl>\u001b[39m\u001b[23m 17, 21, 12, 17, 17, 17, 18, 19, 20, 17, 17, 19, 17, ...\n",
      "$ minute         \u001b[3m\u001b[90m<dbl>\u001b[39m\u001b[23m 20, 30, 21, 0, 45, 59, 45, 15, 0, 0, 45, 12, 30, 20,...\n",
      "$ time_hour      \u001b[3m\u001b[90m<dttm>\u001b[39m\u001b[23m 2013-01-01 17:00:00, 2013-01-01 21:00:00, 2013-01-0...\n"
     ]
    }
   ],
   "source": [
    "#6 Were delayed by at least an hour, but made up over 30 minutes in \n",
    "# flight\n",
    "\n",
    "flights %>% \n",
    "    filter(dep_delay >= 60 & (dep_delay - arr_delay) > 30) %>% \n",
    "    glimpse()"
   ]
  },
  {
   "cell_type": "code",
   "execution_count": 81,
   "metadata": {
    "ExecuteTime": {
     "end_time": "2020-01-27T09:47:35.051712Z",
     "start_time": "2020-01-27T09:47:34.818Z"
    },
    "collapsed": true,
    "hidden": true,
    "jupyter": {
     "outputs_hidden": true
    }
   },
   "outputs": [
    {
     "data": {
      "text/html": [
       "<table>\n",
       "<caption>A tibble: 1844 × 19</caption>\n",
       "<thead>\n",
       "\t<tr><th scope=col>year</th><th scope=col>month</th><th scope=col>day</th><th scope=col>dep_time</th><th scope=col>sched_dep_time</th><th scope=col>dep_delay</th><th scope=col>arr_time</th><th scope=col>sched_arr_time</th><th scope=col>arr_delay</th><th scope=col>carrier</th><th scope=col>flight</th><th scope=col>tailnum</th><th scope=col>origin</th><th scope=col>dest</th><th scope=col>air_time</th><th scope=col>distance</th><th scope=col>hour</th><th scope=col>minute</th><th scope=col>time_hour</th></tr>\n",
       "\t<tr><th scope=col>&lt;int&gt;</th><th scope=col>&lt;int&gt;</th><th scope=col>&lt;int&gt;</th><th scope=col>&lt;int&gt;</th><th scope=col>&lt;int&gt;</th><th scope=col>&lt;dbl&gt;</th><th scope=col>&lt;int&gt;</th><th scope=col>&lt;int&gt;</th><th scope=col>&lt;dbl&gt;</th><th scope=col>&lt;chr&gt;</th><th scope=col>&lt;int&gt;</th><th scope=col>&lt;chr&gt;</th><th scope=col>&lt;chr&gt;</th><th scope=col>&lt;chr&gt;</th><th scope=col>&lt;dbl&gt;</th><th scope=col>&lt;dbl&gt;</th><th scope=col>&lt;dbl&gt;</th><th scope=col>&lt;dbl&gt;</th><th scope=col>&lt;dttm&gt;</th></tr>\n",
       "</thead>\n",
       "<tbody>\n",
       "\t<tr><td>2013</td><td>1</td><td> 1</td><td>2205</td><td>1720</td><td>285</td><td>  46</td><td>2040</td><td>246</td><td>AA</td><td>1999</td><td>N5DNAA</td><td>EWR</td><td>MIA</td><td>146</td><td>1085</td><td>17</td><td>20</td><td>2013-01-01 17:00:00</td></tr>\n",
       "\t<tr><td>2013</td><td>1</td><td> 1</td><td>2326</td><td>2130</td><td>116</td><td> 131</td><td>  18</td><td> 73</td><td>B6</td><td> 199</td><td>N594JB</td><td>JFK</td><td>LAS</td><td>290</td><td>2248</td><td>21</td><td>30</td><td>2013-01-01 21:00:00</td></tr>\n",
       "\t<tr><td>2013</td><td>1</td><td> 3</td><td>1503</td><td>1221</td><td>162</td><td>1803</td><td>1555</td><td>128</td><td>UA</td><td> 551</td><td>N835UA</td><td>EWR</td><td>SFO</td><td>320</td><td>2565</td><td>12</td><td>21</td><td>2013-01-03 12:00:00</td></tr>\n",
       "\t<tr><td>2013</td><td>1</td><td> 3</td><td>1839</td><td>1700</td><td> 99</td><td>2056</td><td>1950</td><td> 66</td><td>AA</td><td> 575</td><td>N631AA</td><td>JFK</td><td>EGE</td><td>239</td><td>1747</td><td>17</td><td> 0</td><td>2013-01-03 17:00:00</td></tr>\n",
       "\t<tr><td>2013</td><td>1</td><td> 3</td><td>1850</td><td>1745</td><td> 65</td><td>2148</td><td>2120</td><td> 28</td><td>AA</td><td> 177</td><td>N332AA</td><td>JFK</td><td>SFO</td><td>314</td><td>2586</td><td>17</td><td>45</td><td>2013-01-03 17:00:00</td></tr>\n",
       "\t<tr><td>2013</td><td>1</td><td> 3</td><td>1941</td><td>1759</td><td>102</td><td>2246</td><td>2139</td><td> 67</td><td>UA</td><td> 979</td><td>N402UA</td><td>EWR</td><td>PHX</td><td>274</td><td>2133</td><td>17</td><td>59</td><td>2013-01-03 17:00:00</td></tr>\n",
       "\t<tr><td>2013</td><td>1</td><td> 3</td><td>1950</td><td>1845</td><td> 65</td><td>2228</td><td>2227</td><td>  1</td><td>B6</td><td>  91</td><td>N636JB</td><td>JFK</td><td>OAK</td><td>319</td><td>2576</td><td>18</td><td>45</td><td>2013-01-03 18:00:00</td></tr>\n",
       "\t<tr><td>2013</td><td>1</td><td> 3</td><td>2015</td><td>1915</td><td> 60</td><td>2135</td><td>2111</td><td> 24</td><td>9E</td><td>3525</td><td>N903XJ</td><td>JFK</td><td>ORD</td><td>110</td><td> 740</td><td>19</td><td>15</td><td>2013-01-03 19:00:00</td></tr>\n",
       "\t<tr><td>2013</td><td>1</td><td> 3</td><td>2257</td><td>2000</td><td>177</td><td>  45</td><td>2224</td><td>141</td><td>9E</td><td>3439</td><td>N931XJ</td><td>JFK</td><td>CVG</td><td> 90</td><td> 589</td><td>20</td><td> 0</td><td>2013-01-03 20:00:00</td></tr>\n",
       "\t<tr><td>2013</td><td>1</td><td> 4</td><td>1917</td><td>1700</td><td>137</td><td>2135</td><td>1950</td><td>105</td><td>AA</td><td> 575</td><td>N5EUAA</td><td>JFK</td><td>EGE</td><td>239</td><td>1747</td><td>17</td><td> 0</td><td>2013-01-04 17:00:00</td></tr>\n",
       "\t<tr><td>2013</td><td>1</td><td> 4</td><td>2010</td><td>1745</td><td>145</td><td>2257</td><td>2120</td><td> 97</td><td>AA</td><td> 177</td><td>N332AA</td><td>JFK</td><td>SFO</td><td>327</td><td>2586</td><td>17</td><td>45</td><td>2013-01-04 17:00:00</td></tr>\n",
       "\t<tr><td>2013</td><td>1</td><td> 4</td><td>2048</td><td>1912</td><td> 96</td><td>2332</td><td>2237</td><td> 55</td><td>B6</td><td>  87</td><td>N570JB</td><td>JFK</td><td>SLC</td><td>266</td><td>1990</td><td>19</td><td>12</td><td>2013-01-04 19:00:00</td></tr>\n",
       "\t<tr><td>2013</td><td>1</td><td> 4</td><td>2058</td><td>1730</td><td>208</td><td>   2</td><td>2110</td><td>172</td><td>B6</td><td> 179</td><td>N523JB</td><td>JFK</td><td>PHX</td><td>285</td><td>2153</td><td>17</td><td>30</td><td>2013-01-04 17:00:00</td></tr>\n",
       "\t<tr><td>2013</td><td>1</td><td> 4</td><td>2100</td><td>1920</td><td>100</td><td>2224</td><td>2121</td><td> 63</td><td>9E</td><td>3373</td><td>N931XJ</td><td>JFK</td><td>RDU</td><td> 66</td><td> 427</td><td>19</td><td>20</td><td>2013-01-04 19:00:00</td></tr>\n",
       "\t<tr><td>2013</td><td>1</td><td> 4</td><td>2221</td><td>1858</td><td>203</td><td> 116</td><td>2240</td><td>156</td><td>UA</td><td>1111</td><td>N33284</td><td>EWR</td><td>PHX</td><td>279</td><td>2133</td><td>18</td><td>58</td><td>2013-01-04 18:00:00</td></tr>\n",
       "\t<tr><td>2013</td><td>1</td><td> 5</td><td>2005</td><td>1824</td><td>101</td><td>2237</td><td>2142</td><td> 55</td><td>UA</td><td>1656</td><td>N16709</td><td>EWR</td><td>SNA</td><td>317</td><td>2434</td><td>18</td><td>24</td><td>2013-01-05 18:00:00</td></tr>\n",
       "\t<tr><td>2013</td><td>1</td><td> 6</td><td>1019</td><td> 900</td><td> 79</td><td>1558</td><td>1530</td><td> 28</td><td>HA</td><td>  51</td><td>N385HA</td><td>JFK</td><td>HNL</td><td>611</td><td>4983</td><td> 9</td><td> 0</td><td>2013-01-06 09:00:00</td></tr>\n",
       "\t<tr><td>2013</td><td>1</td><td> 7</td><td> 824</td><td> 630</td><td>114</td><td>1007</td><td> 845</td><td> 82</td><td>EV</td><td>4471</td><td>N14907</td><td>EWR</td><td>CLT</td><td> 79</td><td> 529</td><td> 6</td><td>30</td><td>2013-01-07 06:00:00</td></tr>\n",
       "\t<tr><td>2013</td><td>1</td><td> 7</td><td>1042</td><td> 900</td><td>102</td><td>1620</td><td>1530</td><td> 50</td><td>HA</td><td>  51</td><td>N385HA</td><td>JFK</td><td>HNL</td><td>612</td><td>4983</td><td> 9</td><td> 0</td><td>2013-01-07 09:00:00</td></tr>\n",
       "\t<tr><td>2013</td><td>1</td><td> 7</td><td>1244</td><td>1100</td><td>104</td><td>1536</td><td>1432</td><td> 64</td><td>UA</td><td>1120</td><td>N78511</td><td>EWR</td><td>SFO</td><td>333</td><td>2565</td><td>11</td><td> 0</td><td>2013-01-07 11:00:00</td></tr>\n",
       "\t<tr><td>2013</td><td>1</td><td> 7</td><td>1323</td><td> 830</td><td>293</td><td>1604</td><td>1154</td><td>250</td><td>UA</td><td> 112</td><td>N12116</td><td>JFK</td><td>LAX</td><td>311</td><td>2475</td><td> 8</td><td>30</td><td>2013-01-07 08:00:00</td></tr>\n",
       "\t<tr><td>2013</td><td>1</td><td> 7</td><td>1432</td><td>1240</td><td>112</td><td>1700</td><td>1540</td><td> 80</td><td>AA</td><td>1853</td><td>N4YUAA</td><td>EWR</td><td>DFW</td><td>186</td><td>1372</td><td>12</td><td>40</td><td>2013-01-07 12:00:00</td></tr>\n",
       "\t<tr><td>2013</td><td>1</td><td> 7</td><td>1543</td><td>1430</td><td> 73</td><td>1758</td><td>1735</td><td> 23</td><td>AA</td><td> 883</td><td>N4XBAA</td><td>EWR</td><td>DFW</td><td>177</td><td>1372</td><td>14</td><td>30</td><td>2013-01-07 14:00:00</td></tr>\n",
       "\t<tr><td>2013</td><td>1</td><td> 7</td><td>2047</td><td>1810</td><td>157</td><td>2341</td><td>2150</td><td>111</td><td>UA</td><td> 979</td><td>N835UA</td><td>EWR</td><td>PHX</td><td>275</td><td>2133</td><td>18</td><td>10</td><td>2013-01-07 18:00:00</td></tr>\n",
       "\t<tr><td>2013</td><td>1</td><td> 8</td><td> 942</td><td> 825</td><td> 77</td><td>1213</td><td>1137</td><td> 36</td><td>B6</td><td> 181</td><td>N556JB</td><td>JFK</td><td>SAN</td><td>316</td><td>2446</td><td> 8</td><td>25</td><td>2013-01-08 08:00:00</td></tr>\n",
       "\t<tr><td>2013</td><td>1</td><td>10</td><td>1708</td><td>1550</td><td> 78</td><td>1913</td><td>1826</td><td> 47</td><td>9E</td><td>3427</td><td>N931XJ</td><td>JFK</td><td>IND</td><td>108</td><td> 665</td><td>15</td><td>50</td><td>2013-01-10 15:00:00</td></tr>\n",
       "\t<tr><td>2013</td><td>1</td><td>10</td><td>2006</td><td>1830</td><td> 96</td><td>2300</td><td>2205</td><td> 55</td><td>AA</td><td> 269</td><td>N3ECAA</td><td>JFK</td><td>SEA</td><td>323</td><td>2422</td><td>18</td><td>30</td><td>2013-01-10 18:00:00</td></tr>\n",
       "\t<tr><td>2013</td><td>1</td><td>11</td><td>1020</td><td> 920</td><td> 60</td><td>1311</td><td>1245</td><td> 26</td><td>AA</td><td> 721</td><td>N434AA</td><td>LGA</td><td>DFW</td><td>201</td><td>1389</td><td> 9</td><td>20</td><td>2013-01-11 09:00:00</td></tr>\n",
       "\t<tr><td>2013</td><td>1</td><td>11</td><td>2136</td><td>1735</td><td>241</td><td>2245</td><td>1925</td><td>200</td><td>WN</td><td> 408</td><td>N286WN</td><td>LGA</td><td>BNA</td><td>115</td><td> 764</td><td>17</td><td>35</td><td>2013-01-11 17:00:00</td></tr>\n",
       "\t<tr><td>2013</td><td>1</td><td>12</td><td>1706</td><td>1600</td><td> 66</td><td>1949</td><td>1927</td><td> 22</td><td>DL</td><td>2139</td><td>N982DL</td><td>LGA</td><td>MIA</td><td>141</td><td>1096</td><td>16</td><td> 0</td><td>2013-01-12 16:00:00</td></tr>\n",
       "\t<tr><td>...</td><td>...</td><td>...</td><td>...</td><td>...</td><td>...</td><td>...</td><td>...</td><td>...</td><td>...</td><td>...</td><td>...</td><td>...</td><td>...</td><td>...</td><td>...</td><td>...</td><td>...</td><td>...</td></tr>\n",
       "\t<tr><td>2013</td><td>9</td><td>20</td><td>1032</td><td> 929</td><td> 63</td><td>1257</td><td>1234</td><td> 23</td><td>UA</td><td> 456</td><td>N458UA</td><td>EWR</td><td>FLL</td><td>130</td><td>1065</td><td> 9</td><td>29</td><td>2013-09-20 09:00:00</td></tr>\n",
       "\t<tr><td>2013</td><td>9</td><td>20</td><td>2028</td><td>1530</td><td>298</td><td>2217</td><td>1754</td><td>263</td><td>EV</td><td>5199</td><td>N758EV</td><td>LGA</td><td>CHS</td><td> 80</td><td> 641</td><td>15</td><td>30</td><td>2013-09-20 15:00:00</td></tr>\n",
       "\t<tr><td>2013</td><td>9</td><td>21</td><td>1652</td><td>1429</td><td>143</td><td>1843</td><td>1705</td><td> 98</td><td>UA</td><td> 578</td><td>N484UA</td><td>EWR</td><td>LAS</td><td>272</td><td>2227</td><td>14</td><td>29</td><td>2013-09-21 14:00:00</td></tr>\n",
       "\t<tr><td>2013</td><td>9</td><td>21</td><td>2048</td><td>1735</td><td>193</td><td>2333</td><td>2055</td><td>158</td><td>AA</td><td>2351</td><td>N351AA</td><td>JFK</td><td>MIA</td><td>131</td><td>1089</td><td>17</td><td>35</td><td>2013-09-21 17:00:00</td></tr>\n",
       "\t<tr><td>2013</td><td>9</td><td>22</td><td>2031</td><td>1735</td><td>176</td><td>2307</td><td>2055</td><td>132</td><td>AA</td><td>2351</td><td>N359AA</td><td>JFK</td><td>MIA</td><td>139</td><td>1089</td><td>17</td><td>35</td><td>2013-09-22 17:00:00</td></tr>\n",
       "\t<tr><td>2013</td><td>9</td><td>22</td><td>2127</td><td>1945</td><td>102</td><td>2257</td><td>2146</td><td> 71</td><td>EV</td><td>5306</td><td>N712EV</td><td>LGA</td><td>GSO</td><td> 69</td><td> 461</td><td>19</td><td>45</td><td>2013-09-22 19:00:00</td></tr>\n",
       "\t<tr><td>2013</td><td>9</td><td>23</td><td>1821</td><td>1715</td><td> 66</td><td>2013</td><td>1940</td><td> 33</td><td>9E</td><td>3310</td><td>N909XJ</td><td>JFK</td><td>MCI</td><td>149</td><td>1113</td><td>17</td><td>15</td><td>2013-09-23 17:00:00</td></tr>\n",
       "\t<tr><td>2013</td><td>9</td><td>23</td><td>2051</td><td>1930</td><td> 81</td><td>2340</td><td>2250</td><td> 50</td><td>AA</td><td> 235</td><td>N3BLAA</td><td>JFK</td><td>SEA</td><td>322</td><td>2422</td><td>19</td><td>30</td><td>2013-09-23 19:00:00</td></tr>\n",
       "\t<tr><td>2013</td><td>9</td><td>23</td><td>2119</td><td>1950</td><td> 89</td><td>2226</td><td>2141</td><td> 45</td><td>EV</td><td>5038</td><td>N717EV</td><td>LGA</td><td>BHM</td><td>111</td><td> 866</td><td>19</td><td>50</td><td>2013-09-23 19:00:00</td></tr>\n",
       "\t<tr><td>2013</td><td>9</td><td>23</td><td>2227</td><td>2040</td><td>107</td><td>  15</td><td>2259</td><td> 76</td><td>EV</td><td>4085</td><td>N13161</td><td>EWR</td><td>OMA</td><td>154</td><td>1134</td><td>20</td><td>40</td><td>2013-09-23 20:00:00</td></tr>\n",
       "\t<tr><td>2013</td><td>9</td><td>24</td><td>1947</td><td>1805</td><td>102</td><td>2134</td><td>2033</td><td> 61</td><td>UA</td><td> 485</td><td>N456UA</td><td>EWR</td><td>DEN</td><td>204</td><td>1605</td><td>18</td><td> 5</td><td>2013-09-24 18:00:00</td></tr>\n",
       "\t<tr><td>2013</td><td>9</td><td>25</td><td>1650</td><td>1545</td><td> 65</td><td>1800</td><td>1733</td><td> 27</td><td>9E</td><td>3459</td><td>N905XJ</td><td>JFK</td><td>BNA</td><td>104</td><td> 765</td><td>15</td><td>45</td><td>2013-09-25 15:00:00</td></tr>\n",
       "\t<tr><td>2013</td><td>9</td><td>25</td><td>1729</td><td>1625</td><td> 64</td><td>2013</td><td>1955</td><td> 18</td><td>DL</td><td>1373</td><td>N320US</td><td>JFK</td><td>MIA</td><td>144</td><td>1089</td><td>16</td><td>25</td><td>2013-09-25 16:00:00</td></tr>\n",
       "\t<tr><td>2013</td><td>9</td><td>26</td><td>2036</td><td>1830</td><td>126</td><td>2315</td><td>2142</td><td> 93</td><td>DL</td><td>1543</td><td>N667DN</td><td>JFK</td><td>SEA</td><td>313</td><td>2422</td><td>18</td><td>30</td><td>2013-09-26 18:00:00</td></tr>\n",
       "\t<tr><td>2013</td><td>9</td><td>27</td><td>1811</td><td>1625</td><td>106</td><td>2049</td><td>1955</td><td> 54</td><td>DL</td><td>1373</td><td>N339NW</td><td>JFK</td><td>MIA</td><td>136</td><td>1089</td><td>16</td><td>25</td><td>2013-09-27 16:00:00</td></tr>\n",
       "\t<tr><td>2013</td><td>9</td><td>27</td><td>2057</td><td>1842</td><td>135</td><td>2203</td><td>2019</td><td>104</td><td>EV</td><td>5274</td><td>N720EV</td><td>LGA</td><td>BNA</td><td> 98</td><td> 764</td><td>18</td><td>42</td><td>2013-09-27 18:00:00</td></tr>\n",
       "\t<tr><td>2013</td><td>9</td><td>28</td><td>1253</td><td> 910</td><td>223</td><td>1422</td><td>1112</td><td>190</td><td>EV</td><td>5222</td><td>N759EV</td><td>EWR</td><td>DTW</td><td> 74</td><td> 488</td><td> 9</td><td>10</td><td>2013-09-28 09:00:00</td></tr>\n",
       "\t<tr><td>2013</td><td>9</td><td>28</td><td>1449</td><td>1329</td><td> 80</td><td>1710</td><td>1634</td><td> 36</td><td>UA</td><td> 483</td><td>N843UA</td><td>EWR</td><td>FLL</td><td>124</td><td>1065</td><td>13</td><td>29</td><td>2013-09-28 13:00:00</td></tr>\n",
       "\t<tr><td>2013</td><td>9</td><td>28</td><td>1640</td><td>1539</td><td> 61</td><td>1902</td><td>1844</td><td> 18</td><td>B6</td><td>  83</td><td>N589JB</td><td>JFK</td><td>MCO</td><td>111</td><td> 944</td><td>15</td><td>39</td><td>2013-09-28 15:00:00</td></tr>\n",
       "\t<tr><td>2013</td><td>9</td><td>28</td><td>1934</td><td>1815</td><td> 79</td><td>2202</td><td>2135</td><td> 27</td><td>AA</td><td>1611</td><td>N3JSAA</td><td>LGA</td><td>MIA</td><td>128</td><td>1096</td><td>18</td><td>15</td><td>2013-09-28 18:00:00</td></tr>\n",
       "\t<tr><td>2013</td><td>9</td><td>29</td><td>1644</td><td>1500</td><td>104</td><td>1908</td><td>1758</td><td> 70</td><td>B6</td><td> 573</td><td>N615JB</td><td>EWR</td><td>TPA</td><td>125</td><td> 997</td><td>15</td><td> 0</td><td>2013-09-29 15:00:00</td></tr>\n",
       "\t<tr><td>2013</td><td>9</td><td>29</td><td>1709</td><td>1500</td><td>129</td><td>1939</td><td>1804</td><td> 95</td><td>DL</td><td>1935</td><td>N316NB</td><td>LGA</td><td>TPA</td><td>126</td><td>1010</td><td>15</td><td> 0</td><td>2013-09-29 15:00:00</td></tr>\n",
       "\t<tr><td>2013</td><td>9</td><td>29</td><td>1755</td><td>1629</td><td> 86</td><td>2022</td><td>1933</td><td> 49</td><td>B6</td><td>1161</td><td>N729JB</td><td>LGA</td><td>PBI</td><td>121</td><td>1035</td><td>16</td><td>29</td><td>2013-09-29 16:00:00</td></tr>\n",
       "\t<tr><td>2013</td><td>9</td><td>29</td><td>2253</td><td>2000</td><td>173</td><td> 121</td><td>2300</td><td>141</td><td>VX</td><td> 415</td><td>N628VA</td><td>JFK</td><td>LAX</td><td>303</td><td>2475</td><td>20</td><td> 0</td><td>2013-09-29 20:00:00</td></tr>\n",
       "\t<tr><td>2013</td><td>9</td><td>29</td><td>2327</td><td>1942</td><td>225</td><td> 153</td><td>2250</td><td>183</td><td>B6</td><td>1271</td><td>N659JB</td><td>LGA</td><td>FLL</td><td>129</td><td>1076</td><td>19</td><td>42</td><td>2013-09-29 19:00:00</td></tr>\n",
       "\t<tr><td>2013</td><td>9</td><td>30</td><td>1818</td><td>1715</td><td> 63</td><td>2001</td><td>1940</td><td> 21</td><td>9E</td><td>3310</td><td>N934XJ</td><td>JFK</td><td>MCI</td><td>142</td><td>1113</td><td>17</td><td>15</td><td>2013-09-30 17:00:00</td></tr>\n",
       "\t<tr><td>2013</td><td>9</td><td>30</td><td>1823</td><td>1545</td><td>158</td><td>1934</td><td>1733</td><td>121</td><td>9E</td><td>3459</td><td>N916XJ</td><td>JFK</td><td>BNA</td><td> 95</td><td> 765</td><td>15</td><td>45</td><td>2013-09-30 15:00:00</td></tr>\n",
       "\t<tr><td>2013</td><td>9</td><td>30</td><td>1956</td><td>1825</td><td> 91</td><td>2208</td><td>2121</td><td> 47</td><td>DL</td><td>1576</td><td>N3772H</td><td>JFK</td><td>SAN</td><td>292</td><td>2446</td><td>18</td><td>25</td><td>2013-09-30 18:00:00</td></tr>\n",
       "\t<tr><td>2013</td><td>9</td><td>30</td><td>2028</td><td>1910</td><td> 78</td><td>2255</td><td>2215</td><td> 40</td><td>AA</td><td>  21</td><td>N338AA</td><td>JFK</td><td>LAX</td><td>294</td><td>2475</td><td>19</td><td>10</td><td>2013-09-30 19:00:00</td></tr>\n",
       "\t<tr><td>2013</td><td>9</td><td>30</td><td>2233</td><td>2113</td><td> 80</td><td> 112</td><td>  30</td><td> 42</td><td>UA</td><td> 471</td><td>N578UA</td><td>EWR</td><td>SFO</td><td>318</td><td>2565</td><td>21</td><td>13</td><td>2013-09-30 21:00:00</td></tr>\n",
       "</tbody>\n",
       "</table>\n"
      ],
      "text/latex": [
       "A tibble: 1844 × 19\n",
       "\\begin{tabular}{r|lllllllllllllllllll}\n",
       " year & month & day & dep\\_time & sched\\_dep\\_time & dep\\_delay & arr\\_time & sched\\_arr\\_time & arr\\_delay & carrier & flight & tailnum & origin & dest & air\\_time & distance & hour & minute & time\\_hour\\\\\n",
       " <int> & <int> & <int> & <int> & <int> & <dbl> & <int> & <int> & <dbl> & <chr> & <int> & <chr> & <chr> & <chr> & <dbl> & <dbl> & <dbl> & <dbl> & <dttm>\\\\\n",
       "\\hline\n",
       "\t 2013 & 1 &  1 & 2205 & 1720 & 285 &   46 & 2040 & 246 & AA & 1999 & N5DNAA & EWR & MIA & 146 & 1085 & 17 & 20 & 2013-01-01 17:00:00\\\\\n",
       "\t 2013 & 1 &  1 & 2326 & 2130 & 116 &  131 &   18 &  73 & B6 &  199 & N594JB & JFK & LAS & 290 & 2248 & 21 & 30 & 2013-01-01 21:00:00\\\\\n",
       "\t 2013 & 1 &  3 & 1503 & 1221 & 162 & 1803 & 1555 & 128 & UA &  551 & N835UA & EWR & SFO & 320 & 2565 & 12 & 21 & 2013-01-03 12:00:00\\\\\n",
       "\t 2013 & 1 &  3 & 1839 & 1700 &  99 & 2056 & 1950 &  66 & AA &  575 & N631AA & JFK & EGE & 239 & 1747 & 17 &  0 & 2013-01-03 17:00:00\\\\\n",
       "\t 2013 & 1 &  3 & 1850 & 1745 &  65 & 2148 & 2120 &  28 & AA &  177 & N332AA & JFK & SFO & 314 & 2586 & 17 & 45 & 2013-01-03 17:00:00\\\\\n",
       "\t 2013 & 1 &  3 & 1941 & 1759 & 102 & 2246 & 2139 &  67 & UA &  979 & N402UA & EWR & PHX & 274 & 2133 & 17 & 59 & 2013-01-03 17:00:00\\\\\n",
       "\t 2013 & 1 &  3 & 1950 & 1845 &  65 & 2228 & 2227 &   1 & B6 &   91 & N636JB & JFK & OAK & 319 & 2576 & 18 & 45 & 2013-01-03 18:00:00\\\\\n",
       "\t 2013 & 1 &  3 & 2015 & 1915 &  60 & 2135 & 2111 &  24 & 9E & 3525 & N903XJ & JFK & ORD & 110 &  740 & 19 & 15 & 2013-01-03 19:00:00\\\\\n",
       "\t 2013 & 1 &  3 & 2257 & 2000 & 177 &   45 & 2224 & 141 & 9E & 3439 & N931XJ & JFK & CVG &  90 &  589 & 20 &  0 & 2013-01-03 20:00:00\\\\\n",
       "\t 2013 & 1 &  4 & 1917 & 1700 & 137 & 2135 & 1950 & 105 & AA &  575 & N5EUAA & JFK & EGE & 239 & 1747 & 17 &  0 & 2013-01-04 17:00:00\\\\\n",
       "\t 2013 & 1 &  4 & 2010 & 1745 & 145 & 2257 & 2120 &  97 & AA &  177 & N332AA & JFK & SFO & 327 & 2586 & 17 & 45 & 2013-01-04 17:00:00\\\\\n",
       "\t 2013 & 1 &  4 & 2048 & 1912 &  96 & 2332 & 2237 &  55 & B6 &   87 & N570JB & JFK & SLC & 266 & 1990 & 19 & 12 & 2013-01-04 19:00:00\\\\\n",
       "\t 2013 & 1 &  4 & 2058 & 1730 & 208 &    2 & 2110 & 172 & B6 &  179 & N523JB & JFK & PHX & 285 & 2153 & 17 & 30 & 2013-01-04 17:00:00\\\\\n",
       "\t 2013 & 1 &  4 & 2100 & 1920 & 100 & 2224 & 2121 &  63 & 9E & 3373 & N931XJ & JFK & RDU &  66 &  427 & 19 & 20 & 2013-01-04 19:00:00\\\\\n",
       "\t 2013 & 1 &  4 & 2221 & 1858 & 203 &  116 & 2240 & 156 & UA & 1111 & N33284 & EWR & PHX & 279 & 2133 & 18 & 58 & 2013-01-04 18:00:00\\\\\n",
       "\t 2013 & 1 &  5 & 2005 & 1824 & 101 & 2237 & 2142 &  55 & UA & 1656 & N16709 & EWR & SNA & 317 & 2434 & 18 & 24 & 2013-01-05 18:00:00\\\\\n",
       "\t 2013 & 1 &  6 & 1019 &  900 &  79 & 1558 & 1530 &  28 & HA &   51 & N385HA & JFK & HNL & 611 & 4983 &  9 &  0 & 2013-01-06 09:00:00\\\\\n",
       "\t 2013 & 1 &  7 &  824 &  630 & 114 & 1007 &  845 &  82 & EV & 4471 & N14907 & EWR & CLT &  79 &  529 &  6 & 30 & 2013-01-07 06:00:00\\\\\n",
       "\t 2013 & 1 &  7 & 1042 &  900 & 102 & 1620 & 1530 &  50 & HA &   51 & N385HA & JFK & HNL & 612 & 4983 &  9 &  0 & 2013-01-07 09:00:00\\\\\n",
       "\t 2013 & 1 &  7 & 1244 & 1100 & 104 & 1536 & 1432 &  64 & UA & 1120 & N78511 & EWR & SFO & 333 & 2565 & 11 &  0 & 2013-01-07 11:00:00\\\\\n",
       "\t 2013 & 1 &  7 & 1323 &  830 & 293 & 1604 & 1154 & 250 & UA &  112 & N12116 & JFK & LAX & 311 & 2475 &  8 & 30 & 2013-01-07 08:00:00\\\\\n",
       "\t 2013 & 1 &  7 & 1432 & 1240 & 112 & 1700 & 1540 &  80 & AA & 1853 & N4YUAA & EWR & DFW & 186 & 1372 & 12 & 40 & 2013-01-07 12:00:00\\\\\n",
       "\t 2013 & 1 &  7 & 1543 & 1430 &  73 & 1758 & 1735 &  23 & AA &  883 & N4XBAA & EWR & DFW & 177 & 1372 & 14 & 30 & 2013-01-07 14:00:00\\\\\n",
       "\t 2013 & 1 &  7 & 2047 & 1810 & 157 & 2341 & 2150 & 111 & UA &  979 & N835UA & EWR & PHX & 275 & 2133 & 18 & 10 & 2013-01-07 18:00:00\\\\\n",
       "\t 2013 & 1 &  8 &  942 &  825 &  77 & 1213 & 1137 &  36 & B6 &  181 & N556JB & JFK & SAN & 316 & 2446 &  8 & 25 & 2013-01-08 08:00:00\\\\\n",
       "\t 2013 & 1 & 10 & 1708 & 1550 &  78 & 1913 & 1826 &  47 & 9E & 3427 & N931XJ & JFK & IND & 108 &  665 & 15 & 50 & 2013-01-10 15:00:00\\\\\n",
       "\t 2013 & 1 & 10 & 2006 & 1830 &  96 & 2300 & 2205 &  55 & AA &  269 & N3ECAA & JFK & SEA & 323 & 2422 & 18 & 30 & 2013-01-10 18:00:00\\\\\n",
       "\t 2013 & 1 & 11 & 1020 &  920 &  60 & 1311 & 1245 &  26 & AA &  721 & N434AA & LGA & DFW & 201 & 1389 &  9 & 20 & 2013-01-11 09:00:00\\\\\n",
       "\t 2013 & 1 & 11 & 2136 & 1735 & 241 & 2245 & 1925 & 200 & WN &  408 & N286WN & LGA & BNA & 115 &  764 & 17 & 35 & 2013-01-11 17:00:00\\\\\n",
       "\t 2013 & 1 & 12 & 1706 & 1600 &  66 & 1949 & 1927 &  22 & DL & 2139 & N982DL & LGA & MIA & 141 & 1096 & 16 &  0 & 2013-01-12 16:00:00\\\\\n",
       "\t ... & ... & ... & ... & ... & ... & ... & ... & ... & ... & ... & ... & ... & ... & ... & ... & ... & ... & ...\\\\\n",
       "\t 2013 & 9 & 20 & 1032 &  929 &  63 & 1257 & 1234 &  23 & UA &  456 & N458UA & EWR & FLL & 130 & 1065 &  9 & 29 & 2013-09-20 09:00:00\\\\\n",
       "\t 2013 & 9 & 20 & 2028 & 1530 & 298 & 2217 & 1754 & 263 & EV & 5199 & N758EV & LGA & CHS &  80 &  641 & 15 & 30 & 2013-09-20 15:00:00\\\\\n",
       "\t 2013 & 9 & 21 & 1652 & 1429 & 143 & 1843 & 1705 &  98 & UA &  578 & N484UA & EWR & LAS & 272 & 2227 & 14 & 29 & 2013-09-21 14:00:00\\\\\n",
       "\t 2013 & 9 & 21 & 2048 & 1735 & 193 & 2333 & 2055 & 158 & AA & 2351 & N351AA & JFK & MIA & 131 & 1089 & 17 & 35 & 2013-09-21 17:00:00\\\\\n",
       "\t 2013 & 9 & 22 & 2031 & 1735 & 176 & 2307 & 2055 & 132 & AA & 2351 & N359AA & JFK & MIA & 139 & 1089 & 17 & 35 & 2013-09-22 17:00:00\\\\\n",
       "\t 2013 & 9 & 22 & 2127 & 1945 & 102 & 2257 & 2146 &  71 & EV & 5306 & N712EV & LGA & GSO &  69 &  461 & 19 & 45 & 2013-09-22 19:00:00\\\\\n",
       "\t 2013 & 9 & 23 & 1821 & 1715 &  66 & 2013 & 1940 &  33 & 9E & 3310 & N909XJ & JFK & MCI & 149 & 1113 & 17 & 15 & 2013-09-23 17:00:00\\\\\n",
       "\t 2013 & 9 & 23 & 2051 & 1930 &  81 & 2340 & 2250 &  50 & AA &  235 & N3BLAA & JFK & SEA & 322 & 2422 & 19 & 30 & 2013-09-23 19:00:00\\\\\n",
       "\t 2013 & 9 & 23 & 2119 & 1950 &  89 & 2226 & 2141 &  45 & EV & 5038 & N717EV & LGA & BHM & 111 &  866 & 19 & 50 & 2013-09-23 19:00:00\\\\\n",
       "\t 2013 & 9 & 23 & 2227 & 2040 & 107 &   15 & 2259 &  76 & EV & 4085 & N13161 & EWR & OMA & 154 & 1134 & 20 & 40 & 2013-09-23 20:00:00\\\\\n",
       "\t 2013 & 9 & 24 & 1947 & 1805 & 102 & 2134 & 2033 &  61 & UA &  485 & N456UA & EWR & DEN & 204 & 1605 & 18 &  5 & 2013-09-24 18:00:00\\\\\n",
       "\t 2013 & 9 & 25 & 1650 & 1545 &  65 & 1800 & 1733 &  27 & 9E & 3459 & N905XJ & JFK & BNA & 104 &  765 & 15 & 45 & 2013-09-25 15:00:00\\\\\n",
       "\t 2013 & 9 & 25 & 1729 & 1625 &  64 & 2013 & 1955 &  18 & DL & 1373 & N320US & JFK & MIA & 144 & 1089 & 16 & 25 & 2013-09-25 16:00:00\\\\\n",
       "\t 2013 & 9 & 26 & 2036 & 1830 & 126 & 2315 & 2142 &  93 & DL & 1543 & N667DN & JFK & SEA & 313 & 2422 & 18 & 30 & 2013-09-26 18:00:00\\\\\n",
       "\t 2013 & 9 & 27 & 1811 & 1625 & 106 & 2049 & 1955 &  54 & DL & 1373 & N339NW & JFK & MIA & 136 & 1089 & 16 & 25 & 2013-09-27 16:00:00\\\\\n",
       "\t 2013 & 9 & 27 & 2057 & 1842 & 135 & 2203 & 2019 & 104 & EV & 5274 & N720EV & LGA & BNA &  98 &  764 & 18 & 42 & 2013-09-27 18:00:00\\\\\n",
       "\t 2013 & 9 & 28 & 1253 &  910 & 223 & 1422 & 1112 & 190 & EV & 5222 & N759EV & EWR & DTW &  74 &  488 &  9 & 10 & 2013-09-28 09:00:00\\\\\n",
       "\t 2013 & 9 & 28 & 1449 & 1329 &  80 & 1710 & 1634 &  36 & UA &  483 & N843UA & EWR & FLL & 124 & 1065 & 13 & 29 & 2013-09-28 13:00:00\\\\\n",
       "\t 2013 & 9 & 28 & 1640 & 1539 &  61 & 1902 & 1844 &  18 & B6 &   83 & N589JB & JFK & MCO & 111 &  944 & 15 & 39 & 2013-09-28 15:00:00\\\\\n",
       "\t 2013 & 9 & 28 & 1934 & 1815 &  79 & 2202 & 2135 &  27 & AA & 1611 & N3JSAA & LGA & MIA & 128 & 1096 & 18 & 15 & 2013-09-28 18:00:00\\\\\n",
       "\t 2013 & 9 & 29 & 1644 & 1500 & 104 & 1908 & 1758 &  70 & B6 &  573 & N615JB & EWR & TPA & 125 &  997 & 15 &  0 & 2013-09-29 15:00:00\\\\\n",
       "\t 2013 & 9 & 29 & 1709 & 1500 & 129 & 1939 & 1804 &  95 & DL & 1935 & N316NB & LGA & TPA & 126 & 1010 & 15 &  0 & 2013-09-29 15:00:00\\\\\n",
       "\t 2013 & 9 & 29 & 1755 & 1629 &  86 & 2022 & 1933 &  49 & B6 & 1161 & N729JB & LGA & PBI & 121 & 1035 & 16 & 29 & 2013-09-29 16:00:00\\\\\n",
       "\t 2013 & 9 & 29 & 2253 & 2000 & 173 &  121 & 2300 & 141 & VX &  415 & N628VA & JFK & LAX & 303 & 2475 & 20 &  0 & 2013-09-29 20:00:00\\\\\n",
       "\t 2013 & 9 & 29 & 2327 & 1942 & 225 &  153 & 2250 & 183 & B6 & 1271 & N659JB & LGA & FLL & 129 & 1076 & 19 & 42 & 2013-09-29 19:00:00\\\\\n",
       "\t 2013 & 9 & 30 & 1818 & 1715 &  63 & 2001 & 1940 &  21 & 9E & 3310 & N934XJ & JFK & MCI & 142 & 1113 & 17 & 15 & 2013-09-30 17:00:00\\\\\n",
       "\t 2013 & 9 & 30 & 1823 & 1545 & 158 & 1934 & 1733 & 121 & 9E & 3459 & N916XJ & JFK & BNA &  95 &  765 & 15 & 45 & 2013-09-30 15:00:00\\\\\n",
       "\t 2013 & 9 & 30 & 1956 & 1825 &  91 & 2208 & 2121 &  47 & DL & 1576 & N3772H & JFK & SAN & 292 & 2446 & 18 & 25 & 2013-09-30 18:00:00\\\\\n",
       "\t 2013 & 9 & 30 & 2028 & 1910 &  78 & 2255 & 2215 &  40 & AA &   21 & N338AA & JFK & LAX & 294 & 2475 & 19 & 10 & 2013-09-30 19:00:00\\\\\n",
       "\t 2013 & 9 & 30 & 2233 & 2113 &  80 &  112 &   30 &  42 & UA &  471 & N578UA & EWR & SFO & 318 & 2565 & 21 & 13 & 2013-09-30 21:00:00\\\\\n",
       "\\end{tabular}\n"
      ],
      "text/markdown": [
       "\n",
       "A tibble: 1844 × 19\n",
       "\n",
       "| year &lt;int&gt; | month &lt;int&gt; | day &lt;int&gt; | dep_time &lt;int&gt; | sched_dep_time &lt;int&gt; | dep_delay &lt;dbl&gt; | arr_time &lt;int&gt; | sched_arr_time &lt;int&gt; | arr_delay &lt;dbl&gt; | carrier &lt;chr&gt; | flight &lt;int&gt; | tailnum &lt;chr&gt; | origin &lt;chr&gt; | dest &lt;chr&gt; | air_time &lt;dbl&gt; | distance &lt;dbl&gt; | hour &lt;dbl&gt; | minute &lt;dbl&gt; | time_hour &lt;dttm&gt; |\n",
       "|---|---|---|---|---|---|---|---|---|---|---|---|---|---|---|---|---|---|---|\n",
       "| 2013 | 1 |  1 | 2205 | 1720 | 285 |   46 | 2040 | 246 | AA | 1999 | N5DNAA | EWR | MIA | 146 | 1085 | 17 | 20 | 2013-01-01 17:00:00 |\n",
       "| 2013 | 1 |  1 | 2326 | 2130 | 116 |  131 |   18 |  73 | B6 |  199 | N594JB | JFK | LAS | 290 | 2248 | 21 | 30 | 2013-01-01 21:00:00 |\n",
       "| 2013 | 1 |  3 | 1503 | 1221 | 162 | 1803 | 1555 | 128 | UA |  551 | N835UA | EWR | SFO | 320 | 2565 | 12 | 21 | 2013-01-03 12:00:00 |\n",
       "| 2013 | 1 |  3 | 1839 | 1700 |  99 | 2056 | 1950 |  66 | AA |  575 | N631AA | JFK | EGE | 239 | 1747 | 17 |  0 | 2013-01-03 17:00:00 |\n",
       "| 2013 | 1 |  3 | 1850 | 1745 |  65 | 2148 | 2120 |  28 | AA |  177 | N332AA | JFK | SFO | 314 | 2586 | 17 | 45 | 2013-01-03 17:00:00 |\n",
       "| 2013 | 1 |  3 | 1941 | 1759 | 102 | 2246 | 2139 |  67 | UA |  979 | N402UA | EWR | PHX | 274 | 2133 | 17 | 59 | 2013-01-03 17:00:00 |\n",
       "| 2013 | 1 |  3 | 1950 | 1845 |  65 | 2228 | 2227 |   1 | B6 |   91 | N636JB | JFK | OAK | 319 | 2576 | 18 | 45 | 2013-01-03 18:00:00 |\n",
       "| 2013 | 1 |  3 | 2015 | 1915 |  60 | 2135 | 2111 |  24 | 9E | 3525 | N903XJ | JFK | ORD | 110 |  740 | 19 | 15 | 2013-01-03 19:00:00 |\n",
       "| 2013 | 1 |  3 | 2257 | 2000 | 177 |   45 | 2224 | 141 | 9E | 3439 | N931XJ | JFK | CVG |  90 |  589 | 20 |  0 | 2013-01-03 20:00:00 |\n",
       "| 2013 | 1 |  4 | 1917 | 1700 | 137 | 2135 | 1950 | 105 | AA |  575 | N5EUAA | JFK | EGE | 239 | 1747 | 17 |  0 | 2013-01-04 17:00:00 |\n",
       "| 2013 | 1 |  4 | 2010 | 1745 | 145 | 2257 | 2120 |  97 | AA |  177 | N332AA | JFK | SFO | 327 | 2586 | 17 | 45 | 2013-01-04 17:00:00 |\n",
       "| 2013 | 1 |  4 | 2048 | 1912 |  96 | 2332 | 2237 |  55 | B6 |   87 | N570JB | JFK | SLC | 266 | 1990 | 19 | 12 | 2013-01-04 19:00:00 |\n",
       "| 2013 | 1 |  4 | 2058 | 1730 | 208 |    2 | 2110 | 172 | B6 |  179 | N523JB | JFK | PHX | 285 | 2153 | 17 | 30 | 2013-01-04 17:00:00 |\n",
       "| 2013 | 1 |  4 | 2100 | 1920 | 100 | 2224 | 2121 |  63 | 9E | 3373 | N931XJ | JFK | RDU |  66 |  427 | 19 | 20 | 2013-01-04 19:00:00 |\n",
       "| 2013 | 1 |  4 | 2221 | 1858 | 203 |  116 | 2240 | 156 | UA | 1111 | N33284 | EWR | PHX | 279 | 2133 | 18 | 58 | 2013-01-04 18:00:00 |\n",
       "| 2013 | 1 |  5 | 2005 | 1824 | 101 | 2237 | 2142 |  55 | UA | 1656 | N16709 | EWR | SNA | 317 | 2434 | 18 | 24 | 2013-01-05 18:00:00 |\n",
       "| 2013 | 1 |  6 | 1019 |  900 |  79 | 1558 | 1530 |  28 | HA |   51 | N385HA | JFK | HNL | 611 | 4983 |  9 |  0 | 2013-01-06 09:00:00 |\n",
       "| 2013 | 1 |  7 |  824 |  630 | 114 | 1007 |  845 |  82 | EV | 4471 | N14907 | EWR | CLT |  79 |  529 |  6 | 30 | 2013-01-07 06:00:00 |\n",
       "| 2013 | 1 |  7 | 1042 |  900 | 102 | 1620 | 1530 |  50 | HA |   51 | N385HA | JFK | HNL | 612 | 4983 |  9 |  0 | 2013-01-07 09:00:00 |\n",
       "| 2013 | 1 |  7 | 1244 | 1100 | 104 | 1536 | 1432 |  64 | UA | 1120 | N78511 | EWR | SFO | 333 | 2565 | 11 |  0 | 2013-01-07 11:00:00 |\n",
       "| 2013 | 1 |  7 | 1323 |  830 | 293 | 1604 | 1154 | 250 | UA |  112 | N12116 | JFK | LAX | 311 | 2475 |  8 | 30 | 2013-01-07 08:00:00 |\n",
       "| 2013 | 1 |  7 | 1432 | 1240 | 112 | 1700 | 1540 |  80 | AA | 1853 | N4YUAA | EWR | DFW | 186 | 1372 | 12 | 40 | 2013-01-07 12:00:00 |\n",
       "| 2013 | 1 |  7 | 1543 | 1430 |  73 | 1758 | 1735 |  23 | AA |  883 | N4XBAA | EWR | DFW | 177 | 1372 | 14 | 30 | 2013-01-07 14:00:00 |\n",
       "| 2013 | 1 |  7 | 2047 | 1810 | 157 | 2341 | 2150 | 111 | UA |  979 | N835UA | EWR | PHX | 275 | 2133 | 18 | 10 | 2013-01-07 18:00:00 |\n",
       "| 2013 | 1 |  8 |  942 |  825 |  77 | 1213 | 1137 |  36 | B6 |  181 | N556JB | JFK | SAN | 316 | 2446 |  8 | 25 | 2013-01-08 08:00:00 |\n",
       "| 2013 | 1 | 10 | 1708 | 1550 |  78 | 1913 | 1826 |  47 | 9E | 3427 | N931XJ | JFK | IND | 108 |  665 | 15 | 50 | 2013-01-10 15:00:00 |\n",
       "| 2013 | 1 | 10 | 2006 | 1830 |  96 | 2300 | 2205 |  55 | AA |  269 | N3ECAA | JFK | SEA | 323 | 2422 | 18 | 30 | 2013-01-10 18:00:00 |\n",
       "| 2013 | 1 | 11 | 1020 |  920 |  60 | 1311 | 1245 |  26 | AA |  721 | N434AA | LGA | DFW | 201 | 1389 |  9 | 20 | 2013-01-11 09:00:00 |\n",
       "| 2013 | 1 | 11 | 2136 | 1735 | 241 | 2245 | 1925 | 200 | WN |  408 | N286WN | LGA | BNA | 115 |  764 | 17 | 35 | 2013-01-11 17:00:00 |\n",
       "| 2013 | 1 | 12 | 1706 | 1600 |  66 | 1949 | 1927 |  22 | DL | 2139 | N982DL | LGA | MIA | 141 | 1096 | 16 |  0 | 2013-01-12 16:00:00 |\n",
       "| ... | ... | ... | ... | ... | ... | ... | ... | ... | ... | ... | ... | ... | ... | ... | ... | ... | ... | ... |\n",
       "| 2013 | 9 | 20 | 1032 |  929 |  63 | 1257 | 1234 |  23 | UA |  456 | N458UA | EWR | FLL | 130 | 1065 |  9 | 29 | 2013-09-20 09:00:00 |\n",
       "| 2013 | 9 | 20 | 2028 | 1530 | 298 | 2217 | 1754 | 263 | EV | 5199 | N758EV | LGA | CHS |  80 |  641 | 15 | 30 | 2013-09-20 15:00:00 |\n",
       "| 2013 | 9 | 21 | 1652 | 1429 | 143 | 1843 | 1705 |  98 | UA |  578 | N484UA | EWR | LAS | 272 | 2227 | 14 | 29 | 2013-09-21 14:00:00 |\n",
       "| 2013 | 9 | 21 | 2048 | 1735 | 193 | 2333 | 2055 | 158 | AA | 2351 | N351AA | JFK | MIA | 131 | 1089 | 17 | 35 | 2013-09-21 17:00:00 |\n",
       "| 2013 | 9 | 22 | 2031 | 1735 | 176 | 2307 | 2055 | 132 | AA | 2351 | N359AA | JFK | MIA | 139 | 1089 | 17 | 35 | 2013-09-22 17:00:00 |\n",
       "| 2013 | 9 | 22 | 2127 | 1945 | 102 | 2257 | 2146 |  71 | EV | 5306 | N712EV | LGA | GSO |  69 |  461 | 19 | 45 | 2013-09-22 19:00:00 |\n",
       "| 2013 | 9 | 23 | 1821 | 1715 |  66 | 2013 | 1940 |  33 | 9E | 3310 | N909XJ | JFK | MCI | 149 | 1113 | 17 | 15 | 2013-09-23 17:00:00 |\n",
       "| 2013 | 9 | 23 | 2051 | 1930 |  81 | 2340 | 2250 |  50 | AA |  235 | N3BLAA | JFK | SEA | 322 | 2422 | 19 | 30 | 2013-09-23 19:00:00 |\n",
       "| 2013 | 9 | 23 | 2119 | 1950 |  89 | 2226 | 2141 |  45 | EV | 5038 | N717EV | LGA | BHM | 111 |  866 | 19 | 50 | 2013-09-23 19:00:00 |\n",
       "| 2013 | 9 | 23 | 2227 | 2040 | 107 |   15 | 2259 |  76 | EV | 4085 | N13161 | EWR | OMA | 154 | 1134 | 20 | 40 | 2013-09-23 20:00:00 |\n",
       "| 2013 | 9 | 24 | 1947 | 1805 | 102 | 2134 | 2033 |  61 | UA |  485 | N456UA | EWR | DEN | 204 | 1605 | 18 |  5 | 2013-09-24 18:00:00 |\n",
       "| 2013 | 9 | 25 | 1650 | 1545 |  65 | 1800 | 1733 |  27 | 9E | 3459 | N905XJ | JFK | BNA | 104 |  765 | 15 | 45 | 2013-09-25 15:00:00 |\n",
       "| 2013 | 9 | 25 | 1729 | 1625 |  64 | 2013 | 1955 |  18 | DL | 1373 | N320US | JFK | MIA | 144 | 1089 | 16 | 25 | 2013-09-25 16:00:00 |\n",
       "| 2013 | 9 | 26 | 2036 | 1830 | 126 | 2315 | 2142 |  93 | DL | 1543 | N667DN | JFK | SEA | 313 | 2422 | 18 | 30 | 2013-09-26 18:00:00 |\n",
       "| 2013 | 9 | 27 | 1811 | 1625 | 106 | 2049 | 1955 |  54 | DL | 1373 | N339NW | JFK | MIA | 136 | 1089 | 16 | 25 | 2013-09-27 16:00:00 |\n",
       "| 2013 | 9 | 27 | 2057 | 1842 | 135 | 2203 | 2019 | 104 | EV | 5274 | N720EV | LGA | BNA |  98 |  764 | 18 | 42 | 2013-09-27 18:00:00 |\n",
       "| 2013 | 9 | 28 | 1253 |  910 | 223 | 1422 | 1112 | 190 | EV | 5222 | N759EV | EWR | DTW |  74 |  488 |  9 | 10 | 2013-09-28 09:00:00 |\n",
       "| 2013 | 9 | 28 | 1449 | 1329 |  80 | 1710 | 1634 |  36 | UA |  483 | N843UA | EWR | FLL | 124 | 1065 | 13 | 29 | 2013-09-28 13:00:00 |\n",
       "| 2013 | 9 | 28 | 1640 | 1539 |  61 | 1902 | 1844 |  18 | B6 |   83 | N589JB | JFK | MCO | 111 |  944 | 15 | 39 | 2013-09-28 15:00:00 |\n",
       "| 2013 | 9 | 28 | 1934 | 1815 |  79 | 2202 | 2135 |  27 | AA | 1611 | N3JSAA | LGA | MIA | 128 | 1096 | 18 | 15 | 2013-09-28 18:00:00 |\n",
       "| 2013 | 9 | 29 | 1644 | 1500 | 104 | 1908 | 1758 |  70 | B6 |  573 | N615JB | EWR | TPA | 125 |  997 | 15 |  0 | 2013-09-29 15:00:00 |\n",
       "| 2013 | 9 | 29 | 1709 | 1500 | 129 | 1939 | 1804 |  95 | DL | 1935 | N316NB | LGA | TPA | 126 | 1010 | 15 |  0 | 2013-09-29 15:00:00 |\n",
       "| 2013 | 9 | 29 | 1755 | 1629 |  86 | 2022 | 1933 |  49 | B6 | 1161 | N729JB | LGA | PBI | 121 | 1035 | 16 | 29 | 2013-09-29 16:00:00 |\n",
       "| 2013 | 9 | 29 | 2253 | 2000 | 173 |  121 | 2300 | 141 | VX |  415 | N628VA | JFK | LAX | 303 | 2475 | 20 |  0 | 2013-09-29 20:00:00 |\n",
       "| 2013 | 9 | 29 | 2327 | 1942 | 225 |  153 | 2250 | 183 | B6 | 1271 | N659JB | LGA | FLL | 129 | 1076 | 19 | 42 | 2013-09-29 19:00:00 |\n",
       "| 2013 | 9 | 30 | 1818 | 1715 |  63 | 2001 | 1940 |  21 | 9E | 3310 | N934XJ | JFK | MCI | 142 | 1113 | 17 | 15 | 2013-09-30 17:00:00 |\n",
       "| 2013 | 9 | 30 | 1823 | 1545 | 158 | 1934 | 1733 | 121 | 9E | 3459 | N916XJ | JFK | BNA |  95 |  765 | 15 | 45 | 2013-09-30 15:00:00 |\n",
       "| 2013 | 9 | 30 | 1956 | 1825 |  91 | 2208 | 2121 |  47 | DL | 1576 | N3772H | JFK | SAN | 292 | 2446 | 18 | 25 | 2013-09-30 18:00:00 |\n",
       "| 2013 | 9 | 30 | 2028 | 1910 |  78 | 2255 | 2215 |  40 | AA |   21 | N338AA | JFK | LAX | 294 | 2475 | 19 | 10 | 2013-09-30 19:00:00 |\n",
       "| 2013 | 9 | 30 | 2233 | 2113 |  80 |  112 |   30 |  42 | UA |  471 | N578UA | EWR | SFO | 318 | 2565 | 21 | 13 | 2013-09-30 21:00:00 |\n",
       "\n"
      ],
      "text/plain": [
       "     year month day dep_time sched_dep_time dep_delay arr_time sched_arr_time\n",
       "1    2013 1      1  2205     1720           285         46     2040          \n",
       "2    2013 1      1  2326     2130           116        131       18          \n",
       "3    2013 1      3  1503     1221           162       1803     1555          \n",
       "4    2013 1      3  1839     1700            99       2056     1950          \n",
       "5    2013 1      3  1850     1745            65       2148     2120          \n",
       "6    2013 1      3  1941     1759           102       2246     2139          \n",
       "7    2013 1      3  1950     1845            65       2228     2227          \n",
       "8    2013 1      3  2015     1915            60       2135     2111          \n",
       "9    2013 1      3  2257     2000           177         45     2224          \n",
       "10   2013 1      4  1917     1700           137       2135     1950          \n",
       "11   2013 1      4  2010     1745           145       2257     2120          \n",
       "12   2013 1      4  2048     1912            96       2332     2237          \n",
       "13   2013 1      4  2058     1730           208          2     2110          \n",
       "14   2013 1      4  2100     1920           100       2224     2121          \n",
       "15   2013 1      4  2221     1858           203        116     2240          \n",
       "16   2013 1      5  2005     1824           101       2237     2142          \n",
       "17   2013 1      6  1019      900            79       1558     1530          \n",
       "18   2013 1      7   824      630           114       1007      845          \n",
       "19   2013 1      7  1042      900           102       1620     1530          \n",
       "20   2013 1      7  1244     1100           104       1536     1432          \n",
       "21   2013 1      7  1323      830           293       1604     1154          \n",
       "22   2013 1      7  1432     1240           112       1700     1540          \n",
       "23   2013 1      7  1543     1430            73       1758     1735          \n",
       "24   2013 1      7  2047     1810           157       2341     2150          \n",
       "25   2013 1      8   942      825            77       1213     1137          \n",
       "26   2013 1     10  1708     1550            78       1913     1826          \n",
       "27   2013 1     10  2006     1830            96       2300     2205          \n",
       "28   2013 1     11  1020      920            60       1311     1245          \n",
       "29   2013 1     11  2136     1735           241       2245     1925          \n",
       "30   2013 1     12  1706     1600            66       1949     1927          \n",
       "...  ...  ...   ... ...      ...            ...       ...      ...           \n",
       "1815 2013 9     20  1032      929            63       1257     1234          \n",
       "1816 2013 9     20  2028     1530           298       2217     1754          \n",
       "1817 2013 9     21  1652     1429           143       1843     1705          \n",
       "1818 2013 9     21  2048     1735           193       2333     2055          \n",
       "1819 2013 9     22  2031     1735           176       2307     2055          \n",
       "1820 2013 9     22  2127     1945           102       2257     2146          \n",
       "1821 2013 9     23  1821     1715            66       2013     1940          \n",
       "1822 2013 9     23  2051     1930            81       2340     2250          \n",
       "1823 2013 9     23  2119     1950            89       2226     2141          \n",
       "1824 2013 9     23  2227     2040           107         15     2259          \n",
       "1825 2013 9     24  1947     1805           102       2134     2033          \n",
       "1826 2013 9     25  1650     1545            65       1800     1733          \n",
       "1827 2013 9     25  1729     1625            64       2013     1955          \n",
       "1828 2013 9     26  2036     1830           126       2315     2142          \n",
       "1829 2013 9     27  1811     1625           106       2049     1955          \n",
       "1830 2013 9     27  2057     1842           135       2203     2019          \n",
       "1831 2013 9     28  1253      910           223       1422     1112          \n",
       "1832 2013 9     28  1449     1329            80       1710     1634          \n",
       "1833 2013 9     28  1640     1539            61       1902     1844          \n",
       "1834 2013 9     28  1934     1815            79       2202     2135          \n",
       "1835 2013 9     29  1644     1500           104       1908     1758          \n",
       "1836 2013 9     29  1709     1500           129       1939     1804          \n",
       "1837 2013 9     29  1755     1629            86       2022     1933          \n",
       "1838 2013 9     29  2253     2000           173        121     2300          \n",
       "1839 2013 9     29  2327     1942           225        153     2250          \n",
       "1840 2013 9     30  1818     1715            63       2001     1940          \n",
       "1841 2013 9     30  1823     1545           158       1934     1733          \n",
       "1842 2013 9     30  1956     1825            91       2208     2121          \n",
       "1843 2013 9     30  2028     1910            78       2255     2215          \n",
       "1844 2013 9     30  2233     2113            80        112       30          \n",
       "     arr_delay carrier flight tailnum origin dest air_time distance hour minute\n",
       "1    246       AA      1999   N5DNAA  EWR    MIA  146      1085     17   20    \n",
       "2     73       B6       199   N594JB  JFK    LAS  290      2248     21   30    \n",
       "3    128       UA       551   N835UA  EWR    SFO  320      2565     12   21    \n",
       "4     66       AA       575   N631AA  JFK    EGE  239      1747     17    0    \n",
       "5     28       AA       177   N332AA  JFK    SFO  314      2586     17   45    \n",
       "6     67       UA       979   N402UA  EWR    PHX  274      2133     17   59    \n",
       "7      1       B6        91   N636JB  JFK    OAK  319      2576     18   45    \n",
       "8     24       9E      3525   N903XJ  JFK    ORD  110       740     19   15    \n",
       "9    141       9E      3439   N931XJ  JFK    CVG   90       589     20    0    \n",
       "10   105       AA       575   N5EUAA  JFK    EGE  239      1747     17    0    \n",
       "11    97       AA       177   N332AA  JFK    SFO  327      2586     17   45    \n",
       "12    55       B6        87   N570JB  JFK    SLC  266      1990     19   12    \n",
       "13   172       B6       179   N523JB  JFK    PHX  285      2153     17   30    \n",
       "14    63       9E      3373   N931XJ  JFK    RDU   66       427     19   20    \n",
       "15   156       UA      1111   N33284  EWR    PHX  279      2133     18   58    \n",
       "16    55       UA      1656   N16709  EWR    SNA  317      2434     18   24    \n",
       "17    28       HA        51   N385HA  JFK    HNL  611      4983      9    0    \n",
       "18    82       EV      4471   N14907  EWR    CLT   79       529      6   30    \n",
       "19    50       HA        51   N385HA  JFK    HNL  612      4983      9    0    \n",
       "20    64       UA      1120   N78511  EWR    SFO  333      2565     11    0    \n",
       "21   250       UA       112   N12116  JFK    LAX  311      2475      8   30    \n",
       "22    80       AA      1853   N4YUAA  EWR    DFW  186      1372     12   40    \n",
       "23    23       AA       883   N4XBAA  EWR    DFW  177      1372     14   30    \n",
       "24   111       UA       979   N835UA  EWR    PHX  275      2133     18   10    \n",
       "25    36       B6       181   N556JB  JFK    SAN  316      2446      8   25    \n",
       "26    47       9E      3427   N931XJ  JFK    IND  108       665     15   50    \n",
       "27    55       AA       269   N3ECAA  JFK    SEA  323      2422     18   30    \n",
       "28    26       AA       721   N434AA  LGA    DFW  201      1389      9   20    \n",
       "29   200       WN       408   N286WN  LGA    BNA  115       764     17   35    \n",
       "30    22       DL      2139   N982DL  LGA    MIA  141      1096     16    0    \n",
       "...  ...       ...     ...    ...     ...    ...  ...      ...      ...  ...   \n",
       "1815  23       UA       456   N458UA  EWR    FLL  130      1065      9   29    \n",
       "1816 263       EV      5199   N758EV  LGA    CHS   80       641     15   30    \n",
       "1817  98       UA       578   N484UA  EWR    LAS  272      2227     14   29    \n",
       "1818 158       AA      2351   N351AA  JFK    MIA  131      1089     17   35    \n",
       "1819 132       AA      2351   N359AA  JFK    MIA  139      1089     17   35    \n",
       "1820  71       EV      5306   N712EV  LGA    GSO   69       461     19   45    \n",
       "1821  33       9E      3310   N909XJ  JFK    MCI  149      1113     17   15    \n",
       "1822  50       AA       235   N3BLAA  JFK    SEA  322      2422     19   30    \n",
       "1823  45       EV      5038   N717EV  LGA    BHM  111       866     19   50    \n",
       "1824  76       EV      4085   N13161  EWR    OMA  154      1134     20   40    \n",
       "1825  61       UA       485   N456UA  EWR    DEN  204      1605     18    5    \n",
       "1826  27       9E      3459   N905XJ  JFK    BNA  104       765     15   45    \n",
       "1827  18       DL      1373   N320US  JFK    MIA  144      1089     16   25    \n",
       "1828  93       DL      1543   N667DN  JFK    SEA  313      2422     18   30    \n",
       "1829  54       DL      1373   N339NW  JFK    MIA  136      1089     16   25    \n",
       "1830 104       EV      5274   N720EV  LGA    BNA   98       764     18   42    \n",
       "1831 190       EV      5222   N759EV  EWR    DTW   74       488      9   10    \n",
       "1832  36       UA       483   N843UA  EWR    FLL  124      1065     13   29    \n",
       "1833  18       B6        83   N589JB  JFK    MCO  111       944     15   39    \n",
       "1834  27       AA      1611   N3JSAA  LGA    MIA  128      1096     18   15    \n",
       "1835  70       B6       573   N615JB  EWR    TPA  125       997     15    0    \n",
       "1836  95       DL      1935   N316NB  LGA    TPA  126      1010     15    0    \n",
       "1837  49       B6      1161   N729JB  LGA    PBI  121      1035     16   29    \n",
       "1838 141       VX       415   N628VA  JFK    LAX  303      2475     20    0    \n",
       "1839 183       B6      1271   N659JB  LGA    FLL  129      1076     19   42    \n",
       "1840  21       9E      3310   N934XJ  JFK    MCI  142      1113     17   15    \n",
       "1841 121       9E      3459   N916XJ  JFK    BNA   95       765     15   45    \n",
       "1842  47       DL      1576   N3772H  JFK    SAN  292      2446     18   25    \n",
       "1843  40       AA        21   N338AA  JFK    LAX  294      2475     19   10    \n",
       "1844  42       UA       471   N578UA  EWR    SFO  318      2565     21   13    \n",
       "     time_hour          \n",
       "1    2013-01-01 17:00:00\n",
       "2    2013-01-01 21:00:00\n",
       "3    2013-01-03 12:00:00\n",
       "4    2013-01-03 17:00:00\n",
       "5    2013-01-03 17:00:00\n",
       "6    2013-01-03 17:00:00\n",
       "7    2013-01-03 18:00:00\n",
       "8    2013-01-03 19:00:00\n",
       "9    2013-01-03 20:00:00\n",
       "10   2013-01-04 17:00:00\n",
       "11   2013-01-04 17:00:00\n",
       "12   2013-01-04 19:00:00\n",
       "13   2013-01-04 17:00:00\n",
       "14   2013-01-04 19:00:00\n",
       "15   2013-01-04 18:00:00\n",
       "16   2013-01-05 18:00:00\n",
       "17   2013-01-06 09:00:00\n",
       "18   2013-01-07 06:00:00\n",
       "19   2013-01-07 09:00:00\n",
       "20   2013-01-07 11:00:00\n",
       "21   2013-01-07 08:00:00\n",
       "22   2013-01-07 12:00:00\n",
       "23   2013-01-07 14:00:00\n",
       "24   2013-01-07 18:00:00\n",
       "25   2013-01-08 08:00:00\n",
       "26   2013-01-10 15:00:00\n",
       "27   2013-01-10 18:00:00\n",
       "28   2013-01-11 09:00:00\n",
       "29   2013-01-11 17:00:00\n",
       "30   2013-01-12 16:00:00\n",
       "...  ...                \n",
       "1815 2013-09-20 09:00:00\n",
       "1816 2013-09-20 15:00:00\n",
       "1817 2013-09-21 14:00:00\n",
       "1818 2013-09-21 17:00:00\n",
       "1819 2013-09-22 17:00:00\n",
       "1820 2013-09-22 19:00:00\n",
       "1821 2013-09-23 17:00:00\n",
       "1822 2013-09-23 19:00:00\n",
       "1823 2013-09-23 19:00:00\n",
       "1824 2013-09-23 20:00:00\n",
       "1825 2013-09-24 18:00:00\n",
       "1826 2013-09-25 15:00:00\n",
       "1827 2013-09-25 16:00:00\n",
       "1828 2013-09-26 18:00:00\n",
       "1829 2013-09-27 16:00:00\n",
       "1830 2013-09-27 18:00:00\n",
       "1831 2013-09-28 09:00:00\n",
       "1832 2013-09-28 13:00:00\n",
       "1833 2013-09-28 15:00:00\n",
       "1834 2013-09-28 18:00:00\n",
       "1835 2013-09-29 15:00:00\n",
       "1836 2013-09-29 15:00:00\n",
       "1837 2013-09-29 16:00:00\n",
       "1838 2013-09-29 20:00:00\n",
       "1839 2013-09-29 19:00:00\n",
       "1840 2013-09-30 17:00:00\n",
       "1841 2013-09-30 15:00:00\n",
       "1842 2013-09-30 18:00:00\n",
       "1843 2013-09-30 19:00:00\n",
       "1844 2013-09-30 21:00:00"
      ]
     },
     "metadata": {},
     "output_type": "display_data"
    }
   ],
   "source": [
    "filter(flights, dep_delay >= 60, (dep_delay - arr_delay) > 30)"
   ]
  },
  {
   "cell_type": "code",
   "execution_count": 69,
   "metadata": {
    "ExecuteTime": {
     "end_time": "2020-01-27T09:37:25.614529Z",
     "start_time": "2020-01-27T09:37:25.538Z"
    },
    "hidden": true
   },
   "outputs": [
    {
     "name": "stdout",
     "output_type": "stream",
     "text": [
      "Observations: 8,730\n",
      "Variables: 19\n",
      "$ year           \u001b[3m\u001b[90m<int>\u001b[39m\u001b[23m 2013, 2013, 2013, 2013, 2013, 2013, 2013, 2013, 2013...\n",
      "$ month          \u001b[3m\u001b[90m<int>\u001b[39m\u001b[23m 1, 1, 1, 1, 1, 1, 1, 1, 1, 1, 1, 1, 1, 1, 1, 1, 1, 1...\n",
      "$ day            \u001b[3m\u001b[90m<int>\u001b[39m\u001b[23m 1, 1, 1, 1, 1, 1, 1, 1, 1, 1, 1, 1, 1, 1, 1, 1, 1, 2...\n",
      "$ dep_time       \u001b[3m\u001b[90m<int>\u001b[39m\u001b[23m 517, 533, 542, 544, 554, 554, 555, 557, 557, 558, 55...\n",
      "$ sched_dep_time \u001b[3m\u001b[90m<int>\u001b[39m\u001b[23m 515, 529, 540, 545, 600, 558, 600, 600, 600, 600, 60...\n",
      "$ dep_delay      \u001b[3m\u001b[90m<dbl>\u001b[39m\u001b[23m 2, 4, 2, -1, -6, -4, -5, -3, -3, -2, -2, -2, -2, -2,...\n",
      "$ arr_time       \u001b[3m\u001b[90m<int>\u001b[39m\u001b[23m 830, 850, 923, 1004, 812, 740, 913, 709, 838, 753, 8...\n",
      "$ sched_arr_time \u001b[3m\u001b[90m<int>\u001b[39m\u001b[23m 819, 830, 850, 1022, 837, 728, 854, 723, 846, 745, 8...\n",
      "$ arr_delay      \u001b[3m\u001b[90m<dbl>\u001b[39m\u001b[23m 11, 20, 33, -18, -25, 12, 19, -14, -8, 8, -2, -3, 7,...\n",
      "$ carrier        \u001b[3m\u001b[90m<chr>\u001b[39m\u001b[23m \"UA\", \"UA\", \"AA\", \"B6\", \"DL\", \"UA\", \"B6\", \"EV\", \"B6\"...\n",
      "$ flight         \u001b[3m\u001b[90m<int>\u001b[39m\u001b[23m 1545, 1714, 1141, 725, 461, 1696, 507, 5708, 79, 301...\n",
      "$ tailnum        \u001b[3m\u001b[90m<chr>\u001b[39m\u001b[23m \"N14228\", \"N24211\", \"N619AA\", \"N804JB\", \"N668DN\", \"N...\n",
      "$ origin         \u001b[3m\u001b[90m<chr>\u001b[39m\u001b[23m \"EWR\", \"LGA\", \"JFK\", \"JFK\", \"LGA\", \"EWR\", \"EWR\", \"LG...\n",
      "$ dest           \u001b[3m\u001b[90m<chr>\u001b[39m\u001b[23m \"IAH\", \"IAH\", \"MIA\", \"BQN\", \"ATL\", \"ORD\", \"FLL\", \"IA...\n",
      "$ air_time       \u001b[3m\u001b[90m<dbl>\u001b[39m\u001b[23m 227, 227, 160, 183, 116, 150, 158, 53, 140, 138, 149...\n",
      "$ distance       \u001b[3m\u001b[90m<dbl>\u001b[39m\u001b[23m 1400, 1416, 1089, 1576, 762, 719, 1065, 229, 944, 73...\n",
      "$ hour           \u001b[3m\u001b[90m<dbl>\u001b[39m\u001b[23m 5, 5, 5, 5, 6, 5, 6, 6, 6, 6, 6, 6, 6, 6, 6, 5, 6, 2...\n",
      "$ minute         \u001b[3m\u001b[90m<dbl>\u001b[39m\u001b[23m 15, 29, 40, 45, 0, 58, 0, 0, 0, 0, 0, 0, 0, 0, 0, 59...\n",
      "$ time_hour      \u001b[3m\u001b[90m<dttm>\u001b[39m\u001b[23m 2013-01-01 05:00:00, 2013-01-01 05:00:00, 2013-01-0...\n"
     ]
    }
   ],
   "source": [
    "# 7\n",
    "#1.G Departed between midnight and 6am (inclusive)\n",
    "flights %>% filter(dep_time >= 0 & dep_time < 600) %>% glimpse\n",
    "       "
   ]
  },
  {
   "cell_type": "code",
   "execution_count": 68,
   "metadata": {
    "ExecuteTime": {
     "end_time": "2020-01-27T09:36:55.708529Z",
     "start_time": "2020-01-27T09:36:55.504Z"
    },
    "hidden": true
   },
   "outputs": [
    {
     "data": {
      "text/html": [
       "<table>\n",
       "<caption>A tibble: 6 × 19</caption>\n",
       "<thead>\n",
       "\t<tr><th scope=col>year</th><th scope=col>month</th><th scope=col>day</th><th scope=col>dep_time</th><th scope=col>sched_dep_time</th><th scope=col>dep_delay</th><th scope=col>arr_time</th><th scope=col>sched_arr_time</th><th scope=col>arr_delay</th><th scope=col>carrier</th><th scope=col>flight</th><th scope=col>tailnum</th><th scope=col>origin</th><th scope=col>dest</th><th scope=col>air_time</th><th scope=col>distance</th><th scope=col>hour</th><th scope=col>minute</th><th scope=col>time_hour</th></tr>\n",
       "\t<tr><th scope=col>&lt;int&gt;</th><th scope=col>&lt;int&gt;</th><th scope=col>&lt;int&gt;</th><th scope=col>&lt;int&gt;</th><th scope=col>&lt;int&gt;</th><th scope=col>&lt;dbl&gt;</th><th scope=col>&lt;int&gt;</th><th scope=col>&lt;int&gt;</th><th scope=col>&lt;dbl&gt;</th><th scope=col>&lt;chr&gt;</th><th scope=col>&lt;int&gt;</th><th scope=col>&lt;chr&gt;</th><th scope=col>&lt;chr&gt;</th><th scope=col>&lt;chr&gt;</th><th scope=col>&lt;dbl&gt;</th><th scope=col>&lt;dbl&gt;</th><th scope=col>&lt;dbl&gt;</th><th scope=col>&lt;dbl&gt;</th><th scope=col>&lt;dttm&gt;</th></tr>\n",
       "</thead>\n",
       "<tbody>\n",
       "\t<tr><td>2013</td><td>1</td><td>1</td><td>517</td><td>515</td><td> 2</td><td> 830</td><td> 819</td><td> 11</td><td>UA</td><td>1545</td><td>N14228</td><td>EWR</td><td>IAH</td><td>227</td><td>1400</td><td>5</td><td>15</td><td>2013-01-01 05:00:00</td></tr>\n",
       "\t<tr><td>2013</td><td>1</td><td>1</td><td>533</td><td>529</td><td> 4</td><td> 850</td><td> 830</td><td> 20</td><td>UA</td><td>1714</td><td>N24211</td><td>LGA</td><td>IAH</td><td>227</td><td>1416</td><td>5</td><td>29</td><td>2013-01-01 05:00:00</td></tr>\n",
       "\t<tr><td>2013</td><td>1</td><td>1</td><td>542</td><td>540</td><td> 2</td><td> 923</td><td> 850</td><td> 33</td><td>AA</td><td>1141</td><td>N619AA</td><td>JFK</td><td>MIA</td><td>160</td><td>1089</td><td>5</td><td>40</td><td>2013-01-01 05:00:00</td></tr>\n",
       "\t<tr><td>2013</td><td>1</td><td>1</td><td>544</td><td>545</td><td>-1</td><td>1004</td><td>1022</td><td>-18</td><td>B6</td><td> 725</td><td>N804JB</td><td>JFK</td><td>BQN</td><td>183</td><td>1576</td><td>5</td><td>45</td><td>2013-01-01 05:00:00</td></tr>\n",
       "\t<tr><td>2013</td><td>1</td><td>1</td><td>554</td><td>600</td><td>-6</td><td> 812</td><td> 837</td><td>-25</td><td>DL</td><td> 461</td><td>N668DN</td><td>LGA</td><td>ATL</td><td>116</td><td> 762</td><td>6</td><td> 0</td><td>2013-01-01 06:00:00</td></tr>\n",
       "\t<tr><td>2013</td><td>1</td><td>1</td><td>554</td><td>558</td><td>-4</td><td> 740</td><td> 728</td><td> 12</td><td>UA</td><td>1696</td><td>N39463</td><td>EWR</td><td>ORD</td><td>150</td><td> 719</td><td>5</td><td>58</td><td>2013-01-01 05:00:00</td></tr>\n",
       "</tbody>\n",
       "</table>\n"
      ],
      "text/latex": [
       "A tibble: 6 × 19\n",
       "\\begin{tabular}{r|lllllllllllllllllll}\n",
       " year & month & day & dep\\_time & sched\\_dep\\_time & dep\\_delay & arr\\_time & sched\\_arr\\_time & arr\\_delay & carrier & flight & tailnum & origin & dest & air\\_time & distance & hour & minute & time\\_hour\\\\\n",
       " <int> & <int> & <int> & <int> & <int> & <dbl> & <int> & <int> & <dbl> & <chr> & <int> & <chr> & <chr> & <chr> & <dbl> & <dbl> & <dbl> & <dbl> & <dttm>\\\\\n",
       "\\hline\n",
       "\t 2013 & 1 & 1 & 517 & 515 &  2 &  830 &  819 &  11 & UA & 1545 & N14228 & EWR & IAH & 227 & 1400 & 5 & 15 & 2013-01-01 05:00:00\\\\\n",
       "\t 2013 & 1 & 1 & 533 & 529 &  4 &  850 &  830 &  20 & UA & 1714 & N24211 & LGA & IAH & 227 & 1416 & 5 & 29 & 2013-01-01 05:00:00\\\\\n",
       "\t 2013 & 1 & 1 & 542 & 540 &  2 &  923 &  850 &  33 & AA & 1141 & N619AA & JFK & MIA & 160 & 1089 & 5 & 40 & 2013-01-01 05:00:00\\\\\n",
       "\t 2013 & 1 & 1 & 544 & 545 & -1 & 1004 & 1022 & -18 & B6 &  725 & N804JB & JFK & BQN & 183 & 1576 & 5 & 45 & 2013-01-01 05:00:00\\\\\n",
       "\t 2013 & 1 & 1 & 554 & 600 & -6 &  812 &  837 & -25 & DL &  461 & N668DN & LGA & ATL & 116 &  762 & 6 &  0 & 2013-01-01 06:00:00\\\\\n",
       "\t 2013 & 1 & 1 & 554 & 558 & -4 &  740 &  728 &  12 & UA & 1696 & N39463 & EWR & ORD & 150 &  719 & 5 & 58 & 2013-01-01 05:00:00\\\\\n",
       "\\end{tabular}\n"
      ],
      "text/markdown": [
       "\n",
       "A tibble: 6 × 19\n",
       "\n",
       "| year &lt;int&gt; | month &lt;int&gt; | day &lt;int&gt; | dep_time &lt;int&gt; | sched_dep_time &lt;int&gt; | dep_delay &lt;dbl&gt; | arr_time &lt;int&gt; | sched_arr_time &lt;int&gt; | arr_delay &lt;dbl&gt; | carrier &lt;chr&gt; | flight &lt;int&gt; | tailnum &lt;chr&gt; | origin &lt;chr&gt; | dest &lt;chr&gt; | air_time &lt;dbl&gt; | distance &lt;dbl&gt; | hour &lt;dbl&gt; | minute &lt;dbl&gt; | time_hour &lt;dttm&gt; |\n",
       "|---|---|---|---|---|---|---|---|---|---|---|---|---|---|---|---|---|---|---|\n",
       "| 2013 | 1 | 1 | 517 | 515 |  2 |  830 |  819 |  11 | UA | 1545 | N14228 | EWR | IAH | 227 | 1400 | 5 | 15 | 2013-01-01 05:00:00 |\n",
       "| 2013 | 1 | 1 | 533 | 529 |  4 |  850 |  830 |  20 | UA | 1714 | N24211 | LGA | IAH | 227 | 1416 | 5 | 29 | 2013-01-01 05:00:00 |\n",
       "| 2013 | 1 | 1 | 542 | 540 |  2 |  923 |  850 |  33 | AA | 1141 | N619AA | JFK | MIA | 160 | 1089 | 5 | 40 | 2013-01-01 05:00:00 |\n",
       "| 2013 | 1 | 1 | 544 | 545 | -1 | 1004 | 1022 | -18 | B6 |  725 | N804JB | JFK | BQN | 183 | 1576 | 5 | 45 | 2013-01-01 05:00:00 |\n",
       "| 2013 | 1 | 1 | 554 | 600 | -6 |  812 |  837 | -25 | DL |  461 | N668DN | LGA | ATL | 116 |  762 | 6 |  0 | 2013-01-01 06:00:00 |\n",
       "| 2013 | 1 | 1 | 554 | 558 | -4 |  740 |  728 |  12 | UA | 1696 | N39463 | EWR | ORD | 150 |  719 | 5 | 58 | 2013-01-01 05:00:00 |\n",
       "\n"
      ],
      "text/plain": [
       "  year month day dep_time sched_dep_time dep_delay arr_time sched_arr_time\n",
       "1 2013 1     1   517      515             2         830      819          \n",
       "2 2013 1     1   533      529             4         850      830          \n",
       "3 2013 1     1   542      540             2         923      850          \n",
       "4 2013 1     1   544      545            -1        1004     1022          \n",
       "5 2013 1     1   554      600            -6         812      837          \n",
       "6 2013 1     1   554      558            -4         740      728          \n",
       "  arr_delay carrier flight tailnum origin dest air_time distance hour minute\n",
       "1  11       UA      1545   N14228  EWR    IAH  227      1400     5    15    \n",
       "2  20       UA      1714   N24211  LGA    IAH  227      1416     5    29    \n",
       "3  33       AA      1141   N619AA  JFK    MIA  160      1089     5    40    \n",
       "4 -18       B6       725   N804JB  JFK    BQN  183      1576     5    45    \n",
       "5 -25       DL       461   N668DN  LGA    ATL  116       762     6     0    \n",
       "6  12       UA      1696   N39463  EWR    ORD  150       719     5    58    \n",
       "  time_hour          \n",
       "1 2013-01-01 05:00:00\n",
       "2 2013-01-01 05:00:00\n",
       "3 2013-01-01 05:00:00\n",
       "4 2013-01-01 05:00:00\n",
       "5 2013-01-01 06:00:00\n",
       "6 2013-01-01 05:00:00"
      ]
     },
     "metadata": {},
     "output_type": "display_data"
    }
   ],
   "source": [
    "flights %>% arrange(!desc(dep_time)) %>% head"
   ]
  },
  {
   "cell_type": "code",
   "execution_count": 56,
   "metadata": {
    "ExecuteTime": {
     "end_time": "2020-01-27T08:13:37.560897Z",
     "start_time": "2020-01-27T08:13:37.486Z"
    },
    "hidden": true
   },
   "outputs": [
    {
     "data": {
      "text/plain": [
       "    Min.  1st Qu.   Median     Mean  3rd Qu.     Max.     NA's \n",
       " -86.000  -17.000   -5.000    6.895   14.000 1272.000     9430 "
      ]
     },
     "metadata": {},
     "output_type": "display_data"
    }
   ],
   "source": [
    "flights$arr_delay %>% summary()"
   ]
  },
  {
   "cell_type": "markdown",
   "metadata": {
    "heading_collapsed": true,
    "hidden": true
   },
   "source": [
    "##### 2. Another useful dplyr filtering helper is `between()`. What does it do?   Can you use it to simplify the code needed to answer the previous   challenges?"
   ]
  },
  {
   "cell_type": "markdown",
   "metadata": {
    "hidden": true
   },
   "source": [
    "The expression `between(x, left, right)` is equivalent to `x >= left & x <= right`.\n",
    "\n",
    "Of the answers in the previous question, we could simplify the statement of _departed in summer_ (`month >= 7 & month <= 9`) using the `between()` function."
   ]
  },
  {
   "cell_type": "code",
   "execution_count": 92,
   "metadata": {
    "ExecuteTime": {
     "end_time": "2020-01-27T09:55:37.000061Z",
     "start_time": "2020-01-27T09:55:36.908Z"
    },
    "hidden": true
   },
   "outputs": [
    {
     "name": "stdout",
     "output_type": "stream",
     "text": [
      "Observations: 86,326\n",
      "Variables: 19\n",
      "$ year           \u001b[3m\u001b[90m<int>\u001b[39m\u001b[23m 2013, 2013, 2013, 2013, 2013, 2013, 2013, 2013, 2013...\n",
      "$ month          \u001b[3m\u001b[90m<int>\u001b[39m\u001b[23m 7, 7, 7, 7, 7, 7, 7, 7, 7, 7, 7, 7, 7, 7, 7, 7, 7, 7...\n",
      "$ day            \u001b[3m\u001b[90m<int>\u001b[39m\u001b[23m 1, 1, 1, 1, 1, 1, 1, 1, 1, 1, 1, 1, 1, 1, 1, 1, 1, 1...\n",
      "$ dep_time       \u001b[3m\u001b[90m<int>\u001b[39m\u001b[23m 1, 2, 29, 43, 44, 46, 48, 58, 100, 100, 107, 111, 11...\n",
      "$ sched_dep_time \u001b[3m\u001b[90m<int>\u001b[39m\u001b[23m 2029, 2359, 2245, 2130, 2150, 2051, 2001, 2155, 2146...\n",
      "$ dep_delay      \u001b[3m\u001b[90m<dbl>\u001b[39m\u001b[23m 212, 3, 104, 193, 174, 235, 287, 183, 194, 135, 142,...\n",
      "$ arr_time       \u001b[3m\u001b[90m<int>\u001b[39m\u001b[23m 236, 344, 151, 322, 300, 304, 308, 335, 327, 337, 15...\n",
      "$ sched_arr_time \u001b[3m\u001b[90m<int>\u001b[39m\u001b[23m 2359, 344, 1, 14, 100, 2358, 2305, 43, 30, 135, 2359...\n",
      "$ arr_delay      \u001b[3m\u001b[90m<dbl>\u001b[39m\u001b[23m 157, 0, 110, 188, 120, 186, 243, 172, 177, 122, 119,...\n",
      "$ carrier        \u001b[3m\u001b[90m<chr>\u001b[39m\u001b[23m \"B6\", \"B6\", \"B6\", \"B6\", \"AA\", \"B6\", \"VX\", \"B6\", \"B6\"...\n",
      "$ flight         \u001b[3m\u001b[90m<int>\u001b[39m\u001b[23m 915, 1503, 234, 1371, 185, 165, 415, 425, 1183, 623,...\n",
      "$ tailnum        \u001b[3m\u001b[90m<chr>\u001b[39m\u001b[23m \"N653JB\", \"N805JB\", \"N348JB\", \"N794JB\", \"N324AA\", \"N...\n",
      "$ origin         \u001b[3m\u001b[90m<chr>\u001b[39m\u001b[23m \"JFK\", \"JFK\", \"JFK\", \"LGA\", \"JFK\", \"JFK\", \"JFK\", \"JF...\n",
      "$ dest           \u001b[3m\u001b[90m<chr>\u001b[39m\u001b[23m \"SFO\", \"SJU\", \"BTV\", \"FLL\", \"LAX\", \"PDX\", \"LAX\", \"TP...\n",
      "$ air_time       \u001b[3m\u001b[90m<dbl>\u001b[39m\u001b[23m 315, 200, 66, 143, 297, 304, 298, 140, 126, 304, 39,...\n",
      "$ distance       \u001b[3m\u001b[90m<dbl>\u001b[39m\u001b[23m 2586, 1598, 266, 1076, 2475, 2454, 2475, 1005, 944, ...\n",
      "$ hour           \u001b[3m\u001b[90m<dbl>\u001b[39m\u001b[23m 20, 23, 22, 21, 21, 20, 20, 21, 21, 22, 22, 23, 21, ...\n",
      "$ minute         \u001b[3m\u001b[90m<dbl>\u001b[39m\u001b[23m 29, 59, 45, 30, 50, 51, 1, 55, 46, 45, 45, 59, 35, 0...\n",
      "$ time_hour      \u001b[3m\u001b[90m<dttm>\u001b[39m\u001b[23m 2013-07-01 20:00:00, 2013-07-01 23:00:00, 2013-07-0...\n"
     ]
    }
   ],
   "source": [
    "filter(flights, between(month, 7, 9)) %>% glimpse()"
   ]
  },
  {
   "cell_type": "markdown",
   "metadata": {
    "heading_collapsed": true,
    "hidden": true
   },
   "source": [
    "##### 3. How many flights have a missing `dep_time`? What other variables are   missing? What might these rows represent?"
   ]
  },
  {
   "cell_type": "code",
   "execution_count": 94,
   "metadata": {
    "ExecuteTime": {
     "end_time": "2020-01-27T16:55:42.536044Z",
     "start_time": "2020-01-27T16:55:42.456Z"
    },
    "hidden": true
   },
   "outputs": [
    {
     "name": "stdout",
     "output_type": "stream",
     "text": [
      "Observations: 8,255\n",
      "Variables: 19\n",
      "$ year           \u001b[3m\u001b[90m<int>\u001b[39m\u001b[23m 2013, 2013, 2013, 2013, 2013, 2013, 2013, 2013, 2013...\n",
      "$ month          \u001b[3m\u001b[90m<int>\u001b[39m\u001b[23m 1, 1, 1, 1, 1, 1, 1, 1, 1, 1, 1, 1, 1, 1, 1, 1, 1, 1...\n",
      "$ day            \u001b[3m\u001b[90m<int>\u001b[39m\u001b[23m 1, 1, 1, 1, 2, 2, 2, 2, 2, 2, 2, 2, 3, 3, 3, 3, 3, 3...\n",
      "$ dep_time       \u001b[3m\u001b[90m<int>\u001b[39m\u001b[23m NA, NA, NA, NA, NA, NA, NA, NA, NA, NA, NA, NA, NA, ...\n",
      "$ sched_dep_time \u001b[3m\u001b[90m<int>\u001b[39m\u001b[23m 1630, 1935, 1500, 600, 1540, 1620, 1355, 1420, 1321,...\n",
      "$ dep_delay      \u001b[3m\u001b[90m<dbl>\u001b[39m\u001b[23m NA, NA, NA, NA, NA, NA, NA, NA, NA, NA, NA, NA, NA, ...\n",
      "$ arr_time       \u001b[3m\u001b[90m<int>\u001b[39m\u001b[23m NA, NA, NA, NA, NA, NA, NA, NA, NA, NA, NA, NA, NA, ...\n",
      "$ sched_arr_time \u001b[3m\u001b[90m<int>\u001b[39m\u001b[23m 1815, 2240, 1825, 901, 1747, 1746, 1459, 1644, 1536,...\n",
      "$ arr_delay      \u001b[3m\u001b[90m<dbl>\u001b[39m\u001b[23m NA, NA, NA, NA, NA, NA, NA, NA, NA, NA, NA, NA, NA, ...\n",
      "$ carrier        \u001b[3m\u001b[90m<chr>\u001b[39m\u001b[23m \"EV\", \"AA\", \"AA\", \"B6\", \"EV\", \"EV\", \"EV\", \"EV\", \"EV\"...\n",
      "$ flight         \u001b[3m\u001b[90m<int>\u001b[39m\u001b[23m 4308, 791, 1925, 125, 4352, 4406, 4434, 4935, 3849, ...\n",
      "$ tailnum        \u001b[3m\u001b[90m<chr>\u001b[39m\u001b[23m \"N18120\", \"N3EHAA\", \"N3EVAA\", \"N618JB\", \"N10575\", \"N...\n",
      "$ origin         \u001b[3m\u001b[90m<chr>\u001b[39m\u001b[23m \"EWR\", \"LGA\", \"LGA\", \"JFK\", \"EWR\", \"EWR\", \"EWR\", \"EW...\n",
      "$ dest           \u001b[3m\u001b[90m<chr>\u001b[39m\u001b[23m \"RDU\", \"DFW\", \"MIA\", \"FLL\", \"CVG\", \"PIT\", \"MHT\", \"AT...\n",
      "$ air_time       \u001b[3m\u001b[90m<dbl>\u001b[39m\u001b[23m NA, NA, NA, NA, NA, NA, NA, NA, NA, NA, NA, NA, NA, ...\n",
      "$ distance       \u001b[3m\u001b[90m<dbl>\u001b[39m\u001b[23m 416, 1389, 1096, 1069, 569, 319, 209, 746, 645, 2475...\n",
      "$ hour           \u001b[3m\u001b[90m<dbl>\u001b[39m\u001b[23m 16, 19, 15, 6, 15, 16, 13, 14, 13, 15, 13, 16, 6, 10...\n",
      "$ minute         \u001b[3m\u001b[90m<dbl>\u001b[39m\u001b[23m 30, 35, 0, 0, 40, 20, 55, 20, 21, 45, 30, 1, 45, 30,...\n",
      "$ time_hour      \u001b[3m\u001b[90m<dttm>\u001b[39m\u001b[23m 2013-01-01 16:00:00, 2013-01-01 19:00:00, 2013-01-0...\n"
     ]
    }
   ],
   "source": [
    "flights %>% filter( is.na(dep_time)) %>% glimpse"
   ]
  },
  {
   "cell_type": "code",
   "execution_count": 99,
   "metadata": {
    "ExecuteTime": {
     "end_time": "2020-01-27T18:48:10.150246Z",
     "start_time": "2020-01-27T18:48:01.434Z"
    },
    "hidden": true
   },
   "outputs": [],
   "source": [
    "# returns vector of rows that have an NA value \n",
    "\n",
    "rows_with_NA <- flights %>% \n",
    "    apply(1, function(r) any(r %in% c(NA))) %>% \n",
    "    which()\n",
    "          \n",
    "flights[rows_with_NA,] %>% head"
   ]
  },
  {
   "cell_type": "code",
   "execution_count": 104,
   "metadata": {
    "ExecuteTime": {
     "end_time": "2020-01-27T19:29:45.412127Z",
     "start_time": "2020-01-27T19:29:36.661Z"
    },
    "hidden": true
   },
   "outputs": [
    {
     "data": {
      "text/html": [
       "<ol class=list-inline>\n",
       "\t<li>FALSE</li>\n",
       "\t<li>FALSE</li>\n",
       "\t<li>FALSE</li>\n",
       "\t<li>FALSE</li>\n",
       "\t<li>FALSE</li>\n",
       "\t<li>FALSE</li>\n",
       "</ol>\n"
      ],
      "text/latex": [
       "\\begin{enumerate*}\n",
       "\\item FALSE\n",
       "\\item FALSE\n",
       "\\item FALSE\n",
       "\\item FALSE\n",
       "\\item FALSE\n",
       "\\item FALSE\n",
       "\\end{enumerate*}\n"
      ],
      "text/markdown": [
       "1. FALSE\n",
       "2. FALSE\n",
       "3. FALSE\n",
       "4. FALSE\n",
       "5. FALSE\n",
       "6. FALSE\n",
       "\n",
       "\n"
      ],
      "text/plain": [
       "[1] FALSE FALSE FALSE FALSE FALSE FALSE"
      ]
     },
     "metadata": {},
     "output_type": "display_data"
    }
   ],
   "source": [
    "flights %>% \n",
    "    apply(1, function(r) any(r %in% c(NA)))  %>% head()"
   ]
  },
  {
   "cell_type": "code",
   "execution_count": 106,
   "metadata": {
    "ExecuteTime": {
     "end_time": "2020-01-27T19:33:02.019667Z",
     "start_time": "2020-01-27T19:32:53.700Z"
    },
    "collapsed": true,
    "hidden": true,
    "jupyter": {
     "outputs_hidden": true
    }
   },
   "outputs": [
    {
     "name": "stdout",
     "output_type": "stream",
     "text": [
      "Observations: 9,430\n",
      "Variables: 19\n",
      "$ year           \u001b[3m\u001b[90m<int>\u001b[39m\u001b[23m 2013, 2013, 2013, 2013, 2013, 2013, 2013, 2013, 2013...\n",
      "$ month          \u001b[3m\u001b[90m<int>\u001b[39m\u001b[23m 1, 1, 1, 1, 1, 1, 1, 1, 1, 1, 1, 1, 1, 1, 1, 1, 1, 1...\n",
      "$ day            \u001b[3m\u001b[90m<int>\u001b[39m\u001b[23m 1, 1, 1, 1, 1, 1, 1, 1, 1, 1, 1, 2, 2, 2, 2, 2, 2, 2...\n",
      "$ dep_time       \u001b[3m\u001b[90m<int>\u001b[39m\u001b[23m 1525, 1528, 1740, 1807, 1939, 1952, 2016, NA, NA, NA...\n",
      "$ sched_dep_time \u001b[3m\u001b[90m<int>\u001b[39m\u001b[23m 1530, 1459, 1745, 1738, 1840, 1930, 1930, 1630, 1935...\n",
      "$ dep_delay      \u001b[3m\u001b[90m<dbl>\u001b[39m\u001b[23m -5, 29, -5, 29, 59, 22, 46, NA, NA, NA, NA, 43, 120,...\n",
      "$ arr_time       \u001b[3m\u001b[90m<int>\u001b[39m\u001b[23m 1934, 2002, 2158, 2251, 29, 2358, NA, NA, NA, NA, NA...\n",
      "$ sched_arr_time \u001b[3m\u001b[90m<int>\u001b[39m\u001b[23m 1805, 1647, 2020, 2103, 2151, 2207, 2220, 1815, 2240...\n",
      "$ arr_delay      \u001b[3m\u001b[90m<dbl>\u001b[39m\u001b[23m NA, NA, NA, NA, NA, NA, NA, NA, NA, NA, NA, NA, NA, ...\n",
      "$ carrier        \u001b[3m\u001b[90m<chr>\u001b[39m\u001b[23m \"MQ\", \"EV\", \"MQ\", \"UA\", \"9E\", \"EV\", \"EV\", \"EV\", \"AA\"...\n",
      "$ flight         \u001b[3m\u001b[90m<int>\u001b[39m\u001b[23m 4525, 3806, 4413, 1228, 3325, 4333, 4204, 4308, 791,...\n",
      "$ tailnum        \u001b[3m\u001b[90m<chr>\u001b[39m\u001b[23m \"N719MQ\", \"N17108\", \"N739MQ\", \"N31412\", \"N905XJ\", \"N...\n",
      "$ origin         \u001b[3m\u001b[90m<chr>\u001b[39m\u001b[23m \"LGA\", \"EWR\", \"LGA\", \"EWR\", \"JFK\", \"EWR\", \"EWR\", \"EW...\n",
      "$ dest           \u001b[3m\u001b[90m<chr>\u001b[39m\u001b[23m \"XNA\", \"STL\", \"XNA\", \"SAN\", \"DFW\", \"TUL\", \"OKC\", \"RD...\n",
      "$ air_time       \u001b[3m\u001b[90m<dbl>\u001b[39m\u001b[23m NA, NA, NA, NA, NA, NA, NA, NA, NA, NA, NA, NA, NA, ...\n",
      "$ distance       \u001b[3m\u001b[90m<dbl>\u001b[39m\u001b[23m 1147, 872, 1147, 2425, 1391, 1215, 1325, 416, 1389, ...\n",
      "$ hour           \u001b[3m\u001b[90m<dbl>\u001b[39m\u001b[23m 15, 14, 17, 17, 18, 19, 19, 16, 19, 15, 6, 8, 9, 18,...\n",
      "$ minute         \u001b[3m\u001b[90m<dbl>\u001b[39m\u001b[23m 30, 59, 45, 38, 40, 30, 30, 30, 35, 0, 0, 22, 25, 40...\n",
      "$ time_hour      \u001b[3m\u001b[90m<dttm>\u001b[39m\u001b[23m 2013-01-01 15:00:00, 2013-01-01 14:00:00, 2013-01-0...\n"
     ]
    }
   ],
   "source": [
    "rows_with_NA <- flights %>%\n",
    "    apply(1, function(r) any(r %in% c(NA))) %>%\n",
    "    which\n",
    "\n",
    "flights[rows_with_NA,] %>% glimpse()"
   ]
  },
  {
   "cell_type": "markdown",
   "metadata": {
    "heading_collapsed": true,
    "hidden": true
   },
   "source": [
    "##### 4. Why is `NA ^ 0` not missing? Why is `NA | TRUE` not missing?   Why is `FALSE & NA` not missing? Can you figure out the general   rule? (`NA * 0` is a tricky counterexample!)"
   ]
  },
  {
   "cell_type": "markdown",
   "metadata": {
    "ExecuteTime": {
     "end_time": "2020-01-27T20:12:21.498262Z",
     "start_time": "2020-01-27T20:12:21.421Z"
    },
    "hidden": true
   },
   "source": [
    "`NA ^ 0 == 1` since for all numeric values x0=1<math xmlns=\"http://www.w3.org/1998/Math/MathML\"><msup><mi>x</mi><mn>0</mn></msup><mo>=</mo><mn>1</mn></math>.\n",
    "\n",
    "\n",
    "```sourceCode\n",
    "NA^0\n",
    "#> [1] 1\n",
    "```\n",
    "\n",
    "`NA | TRUE` is `TRUE` because the value of the missing `TRUE` or `FALSE`,\n",
    "x<math xmlns=\"http://www.w3.org/1998/Math/MathML\"><mi>x</mi></math> or `TRUE` is `TRUE` for all values of x<math xmlns=\"http://www.w3.org/1998/Math/MathML\"><mi>x</mi></math>.\n",
    "\n",
    "\n",
    "\n",
    "```sourceCode\n",
    "NA | TRUE\n",
    "#> [1] TRUE\n",
    "```\n",
    "\n",
    "Likewise, anything and `FALSE` is always `FALSE`.\n",
    "\n",
    "\n",
    "\n",
    "\n",
    "\n",
    "```sourceCode\n",
    "NA & FALSE\n",
    "#> [1] FALSE\n",
    "```\n",
    "\n",
    "Because the value of the missing element matters in `NA | FALSE` and `NA & TRUE`, these are missing:\n",
    "\n",
    "\n",
    "\n",
    "```sourceCode\n",
    "NA | FALSE\n",
    "#> [1] NA\n",
    "NA & TRUE\n",
    "#> [1] NA\n",
    "```\n",
    "\n",
    "Since <math xmlns=\"http://www.w3.org/1998/Math/MathML\"><mi>x</mi><mo>∗</mo><mn>0</mn><mo>=</mo><mn>0</mn></math> for all finite, numeric <math xmlns=\"http://www.w3.org/1998/Math/MathML\"><mi>x</mi></math>, we might expect `NA * 0 == 0`, but that’s not the case."
   ]
  },
  {
   "cell_type": "markdown",
   "metadata": {
    "ExecuteTime": {
     "end_time": "2020-01-27T20:12:21.498262Z",
     "start_time": "2020-01-27T20:12:21.421Z"
    },
    "hidden": true
   },
   "source": [
    "```sourceCode\n",
    "NA * 0\n",
    "#> [1] NA\n",
    "```\n",
    "\n",
    "The reason that `NA * 0` is not equal to `0` is that <math xmlns=\"http://www.w3.org/1998/Math/MathML\"><mi>x</mi><mo>*</mo><mi mathvariant=\"normal\">$\\infty$</mi></math> and <math xmlns=\"http://www.w3.org/1998/Math/MathML\"><mi>x</mi><mo>*</mo>(<mo>−</mo><mi mathvariant=\"normal\">$\\infty$</mi></math>) is undefined.\n",
    "R represents undefined results as `NaN`, which is an abbreviation of “[not a number](https://en.wikipedia.org/wiki/NaN)”.\n",
    "\n",
    "\n",
    "\n",
    "```sourceCode\n",
    "Inf * 0\n",
    "#> [1] NaN\n",
    "-Inf * 0\n",
    "#> [1] NaN\n",
    "```"
   ]
  },
  {
   "cell_type": "markdown",
   "metadata": {
    "heading_collapsed": true
   },
   "source": [
    "## Arrange"
   ]
  },
  {
   "cell_type": "markdown",
   "metadata": {
    "hidden": true
   },
   "source": [
    "`arrange()` works similarly to `filter()` except that instead of selecting rows, it changes their order. \n",
    "\n",
    "* It takes a data frame and a set of column names (or more complicated expressions) to order by. \n",
    "\n",
    "* If you provide more than one column name, each additional column will be used to break ties in the values of preceding columns:"
   ]
  },
  {
   "cell_type": "code",
   "execution_count": 122,
   "metadata": {
    "ExecuteTime": {
     "end_time": "2020-01-27T20:30:13.978836Z",
     "start_time": "2020-01-27T20:30:13.717Z"
    },
    "hidden": true
   },
   "outputs": [
    {
     "name": "stdout",
     "output_type": "stream",
     "text": [
      "Observations: 336,776\n",
      "Variables: 19\n",
      "$ year           \u001b[3m\u001b[90m<int>\u001b[39m\u001b[23m 2013, 2013, 2013, 2013, 2013, 2013, 2013, 2013, 2013...\n",
      "$ month          \u001b[3m\u001b[90m<int>\u001b[39m\u001b[23m 1, 1, 1, 1, 1, 1, 1, 1, 1, 1, 1, 1, 1, 1, 1, 1, 1, 1...\n",
      "$ day            \u001b[3m\u001b[90m<int>\u001b[39m\u001b[23m 1, 1, 1, 1, 1, 1, 1, 1, 1, 1, 1, 1, 1, 1, 1, 1, 1, 1...\n",
      "$ dep_time       \u001b[3m\u001b[90m<int>\u001b[39m\u001b[23m 517, 533, 542, 544, 554, 554, 555, 557, 557, 558, 55...\n",
      "$ sched_dep_time \u001b[3m\u001b[90m<int>\u001b[39m\u001b[23m 515, 529, 540, 545, 600, 558, 600, 600, 600, 600, 60...\n",
      "$ dep_delay      \u001b[3m\u001b[90m<dbl>\u001b[39m\u001b[23m 2, 4, 2, -1, -6, -4, -5, -3, -3, -2, -2, -2, -2, -2,...\n",
      "$ arr_time       \u001b[3m\u001b[90m<int>\u001b[39m\u001b[23m 830, 850, 923, 1004, 812, 740, 913, 709, 838, 753, 8...\n",
      "$ sched_arr_time \u001b[3m\u001b[90m<int>\u001b[39m\u001b[23m 819, 830, 850, 1022, 837, 728, 854, 723, 846, 745, 8...\n",
      "$ arr_delay      \u001b[3m\u001b[90m<dbl>\u001b[39m\u001b[23m 11, 20, 33, -18, -25, 12, 19, -14, -8, 8, -2, -3, 7,...\n",
      "$ carrier        \u001b[3m\u001b[90m<chr>\u001b[39m\u001b[23m \"UA\", \"UA\", \"AA\", \"B6\", \"DL\", \"UA\", \"B6\", \"EV\", \"B6\"...\n",
      "$ flight         \u001b[3m\u001b[90m<int>\u001b[39m\u001b[23m 1545, 1714, 1141, 725, 461, 1696, 507, 5708, 79, 301...\n",
      "$ tailnum        \u001b[3m\u001b[90m<chr>\u001b[39m\u001b[23m \"N14228\", \"N24211\", \"N619AA\", \"N804JB\", \"N668DN\", \"N...\n",
      "$ origin         \u001b[3m\u001b[90m<chr>\u001b[39m\u001b[23m \"EWR\", \"LGA\", \"JFK\", \"JFK\", \"LGA\", \"EWR\", \"EWR\", \"LG...\n",
      "$ dest           \u001b[3m\u001b[90m<chr>\u001b[39m\u001b[23m \"IAH\", \"IAH\", \"MIA\", \"BQN\", \"ATL\", \"ORD\", \"FLL\", \"IA...\n",
      "$ air_time       \u001b[3m\u001b[90m<dbl>\u001b[39m\u001b[23m 227, 227, 160, 183, 116, 150, 158, 53, 140, 138, 149...\n",
      "$ distance       \u001b[3m\u001b[90m<dbl>\u001b[39m\u001b[23m 1400, 1416, 1089, 1576, 762, 719, 1065, 229, 944, 73...\n",
      "$ hour           \u001b[3m\u001b[90m<dbl>\u001b[39m\u001b[23m 5, 5, 5, 5, 6, 5, 6, 6, 6, 6, 6, 6, 6, 6, 6, 5, 6, 6...\n",
      "$ minute         \u001b[3m\u001b[90m<dbl>\u001b[39m\u001b[23m 15, 29, 40, 45, 0, 58, 0, 0, 0, 0, 0, 0, 0, 0, 0, 59...\n",
      "$ time_hour      \u001b[3m\u001b[90m<dttm>\u001b[39m\u001b[23m 2013-01-01 05:00:00, 2013-01-01 05:00:00, 2013-01-0...\n"
     ]
    }
   ],
   "source": [
    "arrange(flights, year, month, day) %>% glimpse()"
   ]
  },
  {
   "cell_type": "code",
   "execution_count": 147,
   "metadata": {
    "ExecuteTime": {
     "end_time": "2020-01-27T21:48:15.242391Z",
     "start_time": "2020-01-27T21:48:14.532Z"
    },
    "collapsed": true,
    "hidden": true,
    "jupyter": {
     "outputs_hidden": true
    }
   },
   "outputs": [
    {
     "name": "stdout",
     "output_type": "stream",
     "text": [
      "Observations: 336,776\n",
      "Variables: 19\n",
      "$ year           \u001b[3m\u001b[90m<int>\u001b[39m\u001b[23m 2013, 2013, 2013, 2013, 2013, 2013, 2013, 2013, 2013...\n",
      "$ month          \u001b[3m\u001b[90m<int>\u001b[39m\u001b[23m 1, 1, 1, 1, 1, 1, 1, 1, 1, 1, 1, 1, 1, 1, 1, 1, 1, 1...\n",
      "$ day            \u001b[3m\u001b[90m<int>\u001b[39m\u001b[23m 1, 1, 1, 1, 2, 2, 2, 2, 2, 2, 2, 2, 3, 3, 3, 3, 3, 3...\n",
      "$ dep_time       \u001b[3m\u001b[90m<int>\u001b[39m\u001b[23m NA, NA, NA, NA, NA, NA, NA, NA, NA, NA, NA, NA, NA, ...\n",
      "$ sched_dep_time \u001b[3m\u001b[90m<int>\u001b[39m\u001b[23m 1630, 1935, 1500, 600, 1540, 1620, 1355, 1420, 1321,...\n",
      "$ dep_delay      \u001b[3m\u001b[90m<dbl>\u001b[39m\u001b[23m NA, NA, NA, NA, NA, NA, NA, NA, NA, NA, NA, NA, NA, ...\n",
      "$ arr_time       \u001b[3m\u001b[90m<int>\u001b[39m\u001b[23m NA, NA, NA, NA, NA, NA, NA, NA, NA, NA, NA, NA, NA, ...\n",
      "$ sched_arr_time \u001b[3m\u001b[90m<int>\u001b[39m\u001b[23m 1815, 2240, 1825, 901, 1747, 1746, 1459, 1644, 1536,...\n",
      "$ arr_delay      \u001b[3m\u001b[90m<dbl>\u001b[39m\u001b[23m NA, NA, NA, NA, NA, NA, NA, NA, NA, NA, NA, NA, NA, ...\n",
      "$ carrier        \u001b[3m\u001b[90m<chr>\u001b[39m\u001b[23m \"EV\", \"AA\", \"AA\", \"B6\", \"EV\", \"EV\", \"EV\", \"EV\", \"EV\"...\n",
      "$ flight         \u001b[3m\u001b[90m<int>\u001b[39m\u001b[23m 4308, 791, 1925, 125, 4352, 4406, 4434, 4935, 3849, ...\n",
      "$ tailnum        \u001b[3m\u001b[90m<chr>\u001b[39m\u001b[23m \"N18120\", \"N3EHAA\", \"N3EVAA\", \"N618JB\", \"N10575\", \"N...\n",
      "$ origin         \u001b[3m\u001b[90m<chr>\u001b[39m\u001b[23m \"EWR\", \"LGA\", \"LGA\", \"JFK\", \"EWR\", \"EWR\", \"EWR\", \"EW...\n",
      "$ dest           \u001b[3m\u001b[90m<chr>\u001b[39m\u001b[23m \"RDU\", \"DFW\", \"MIA\", \"FLL\", \"CVG\", \"PIT\", \"MHT\", \"AT...\n",
      "$ air_time       \u001b[3m\u001b[90m<dbl>\u001b[39m\u001b[23m NA, NA, NA, NA, NA, NA, NA, NA, NA, NA, NA, NA, NA, ...\n",
      "$ distance       \u001b[3m\u001b[90m<dbl>\u001b[39m\u001b[23m 416, 1389, 1096, 1069, 569, 319, 209, 746, 645, 2475...\n",
      "$ hour           \u001b[3m\u001b[90m<dbl>\u001b[39m\u001b[23m 16, 19, 15, 6, 15, 16, 13, 14, 13, 15, 13, 16, 6, 10...\n",
      "$ minute         \u001b[3m\u001b[90m<dbl>\u001b[39m\u001b[23m 30, 35, 0, 0, 40, 20, 55, 20, 21, 45, 30, 1, 45, 30,...\n",
      "$ time_hour      \u001b[3m\u001b[90m<dttm>\u001b[39m\u001b[23m 2013-01-01 16:00:00, 2013-01-01 19:00:00, 2013-01-0...\n"
     ]
    },
    {
     "data": {
      "text/html": [
       "<table>\n",
       "<caption>A tibble: 6 × 19</caption>\n",
       "<thead>\n",
       "\t<tr><th scope=col>year</th><th scope=col>month</th><th scope=col>day</th><th scope=col>dep_time</th><th scope=col>sched_dep_time</th><th scope=col>dep_delay</th><th scope=col>arr_time</th><th scope=col>sched_arr_time</th><th scope=col>arr_delay</th><th scope=col>carrier</th><th scope=col>flight</th><th scope=col>tailnum</th><th scope=col>origin</th><th scope=col>dest</th><th scope=col>air_time</th><th scope=col>distance</th><th scope=col>hour</th><th scope=col>minute</th><th scope=col>time_hour</th></tr>\n",
       "\t<tr><th scope=col>&lt;int&gt;</th><th scope=col>&lt;int&gt;</th><th scope=col>&lt;int&gt;</th><th scope=col>&lt;int&gt;</th><th scope=col>&lt;int&gt;</th><th scope=col>&lt;dbl&gt;</th><th scope=col>&lt;int&gt;</th><th scope=col>&lt;int&gt;</th><th scope=col>&lt;dbl&gt;</th><th scope=col>&lt;chr&gt;</th><th scope=col>&lt;int&gt;</th><th scope=col>&lt;chr&gt;</th><th scope=col>&lt;chr&gt;</th><th scope=col>&lt;chr&gt;</th><th scope=col>&lt;dbl&gt;</th><th scope=col>&lt;dbl&gt;</th><th scope=col>&lt;dbl&gt;</th><th scope=col>&lt;dbl&gt;</th><th scope=col>&lt;dttm&gt;</th></tr>\n",
       "</thead>\n",
       "<tbody>\n",
       "\t<tr><td>2013</td><td>4</td><td>10</td><td>1100</td><td>1900</td><td> 960</td><td>1342</td><td>2211</td><td> 931</td><td>DL</td><td>2391</td><td>N959DL</td><td>JFK</td><td>TPA</td><td>139</td><td>1005</td><td>19</td><td> 0</td><td>2013-04-10 19:00:00</td></tr>\n",
       "\t<tr><td>2013</td><td>7</td><td>22</td><td> 845</td><td>1600</td><td>1005</td><td>1044</td><td>1815</td><td> 989</td><td>MQ</td><td>3075</td><td>N665MQ</td><td>JFK</td><td>CVG</td><td> 96</td><td> 589</td><td>16</td><td> 0</td><td>2013-07-22 16:00:00</td></tr>\n",
       "\t<tr><td>2013</td><td>9</td><td>20</td><td>1139</td><td>1845</td><td>1014</td><td>1457</td><td>2210</td><td>1007</td><td>AA</td><td> 177</td><td>N338AA</td><td>JFK</td><td>SFO</td><td>354</td><td>2586</td><td>18</td><td>45</td><td>2013-09-20 18:00:00</td></tr>\n",
       "\t<tr><td>2013</td><td>1</td><td>10</td><td>1121</td><td>1635</td><td>1126</td><td>1239</td><td>1810</td><td>1109</td><td>MQ</td><td>3695</td><td>N517MQ</td><td>EWR</td><td>ORD</td><td>111</td><td> 719</td><td>16</td><td>35</td><td>2013-01-10 16:00:00</td></tr>\n",
       "\t<tr><td>2013</td><td>6</td><td>15</td><td>1432</td><td>1935</td><td>1137</td><td>1607</td><td>2120</td><td>1127</td><td>MQ</td><td>3535</td><td>N504MQ</td><td>JFK</td><td>CMH</td><td> 74</td><td> 483</td><td>19</td><td>35</td><td>2013-06-15 19:00:00</td></tr>\n",
       "\t<tr><td>2013</td><td>1</td><td> 9</td><td> 641</td><td> 900</td><td>1301</td><td>1242</td><td>1530</td><td>1272</td><td>HA</td><td>  51</td><td>N384HA</td><td>JFK</td><td>HNL</td><td>640</td><td>4983</td><td> 9</td><td> 0</td><td>2013-01-09 09:00:00</td></tr>\n",
       "</tbody>\n",
       "</table>\n"
      ],
      "text/latex": [
       "A tibble: 6 × 19\n",
       "\\begin{tabular}{r|lllllllllllllllllll}\n",
       " year & month & day & dep\\_time & sched\\_dep\\_time & dep\\_delay & arr\\_time & sched\\_arr\\_time & arr\\_delay & carrier & flight & tailnum & origin & dest & air\\_time & distance & hour & minute & time\\_hour\\\\\n",
       " <int> & <int> & <int> & <int> & <int> & <dbl> & <int> & <int> & <dbl> & <chr> & <int> & <chr> & <chr> & <chr> & <dbl> & <dbl> & <dbl> & <dbl> & <dttm>\\\\\n",
       "\\hline\n",
       "\t 2013 & 4 & 10 & 1100 & 1900 &  960 & 1342 & 2211 &  931 & DL & 2391 & N959DL & JFK & TPA & 139 & 1005 & 19 &  0 & 2013-04-10 19:00:00\\\\\n",
       "\t 2013 & 7 & 22 &  845 & 1600 & 1005 & 1044 & 1815 &  989 & MQ & 3075 & N665MQ & JFK & CVG &  96 &  589 & 16 &  0 & 2013-07-22 16:00:00\\\\\n",
       "\t 2013 & 9 & 20 & 1139 & 1845 & 1014 & 1457 & 2210 & 1007 & AA &  177 & N338AA & JFK & SFO & 354 & 2586 & 18 & 45 & 2013-09-20 18:00:00\\\\\n",
       "\t 2013 & 1 & 10 & 1121 & 1635 & 1126 & 1239 & 1810 & 1109 & MQ & 3695 & N517MQ & EWR & ORD & 111 &  719 & 16 & 35 & 2013-01-10 16:00:00\\\\\n",
       "\t 2013 & 6 & 15 & 1432 & 1935 & 1137 & 1607 & 2120 & 1127 & MQ & 3535 & N504MQ & JFK & CMH &  74 &  483 & 19 & 35 & 2013-06-15 19:00:00\\\\\n",
       "\t 2013 & 1 &  9 &  641 &  900 & 1301 & 1242 & 1530 & 1272 & HA &   51 & N384HA & JFK & HNL & 640 & 4983 &  9 &  0 & 2013-01-09 09:00:00\\\\\n",
       "\\end{tabular}\n"
      ],
      "text/markdown": [
       "\n",
       "A tibble: 6 × 19\n",
       "\n",
       "| year &lt;int&gt; | month &lt;int&gt; | day &lt;int&gt; | dep_time &lt;int&gt; | sched_dep_time &lt;int&gt; | dep_delay &lt;dbl&gt; | arr_time &lt;int&gt; | sched_arr_time &lt;int&gt; | arr_delay &lt;dbl&gt; | carrier &lt;chr&gt; | flight &lt;int&gt; | tailnum &lt;chr&gt; | origin &lt;chr&gt; | dest &lt;chr&gt; | air_time &lt;dbl&gt; | distance &lt;dbl&gt; | hour &lt;dbl&gt; | minute &lt;dbl&gt; | time_hour &lt;dttm&gt; |\n",
       "|---|---|---|---|---|---|---|---|---|---|---|---|---|---|---|---|---|---|---|\n",
       "| 2013 | 4 | 10 | 1100 | 1900 |  960 | 1342 | 2211 |  931 | DL | 2391 | N959DL | JFK | TPA | 139 | 1005 | 19 |  0 | 2013-04-10 19:00:00 |\n",
       "| 2013 | 7 | 22 |  845 | 1600 | 1005 | 1044 | 1815 |  989 | MQ | 3075 | N665MQ | JFK | CVG |  96 |  589 | 16 |  0 | 2013-07-22 16:00:00 |\n",
       "| 2013 | 9 | 20 | 1139 | 1845 | 1014 | 1457 | 2210 | 1007 | AA |  177 | N338AA | JFK | SFO | 354 | 2586 | 18 | 45 | 2013-09-20 18:00:00 |\n",
       "| 2013 | 1 | 10 | 1121 | 1635 | 1126 | 1239 | 1810 | 1109 | MQ | 3695 | N517MQ | EWR | ORD | 111 |  719 | 16 | 35 | 2013-01-10 16:00:00 |\n",
       "| 2013 | 6 | 15 | 1432 | 1935 | 1137 | 1607 | 2120 | 1127 | MQ | 3535 | N504MQ | JFK | CMH |  74 |  483 | 19 | 35 | 2013-06-15 19:00:00 |\n",
       "| 2013 | 1 |  9 |  641 |  900 | 1301 | 1242 | 1530 | 1272 | HA |   51 | N384HA | JFK | HNL | 640 | 4983 |  9 |  0 | 2013-01-09 09:00:00 |\n",
       "\n"
      ],
      "text/plain": [
       "  year month day dep_time sched_dep_time dep_delay arr_time sched_arr_time\n",
       "1 2013 4     10  1100     1900            960      1342     2211          \n",
       "2 2013 7     22   845     1600           1005      1044     1815          \n",
       "3 2013 9     20  1139     1845           1014      1457     2210          \n",
       "4 2013 1     10  1121     1635           1126      1239     1810          \n",
       "5 2013 6     15  1432     1935           1137      1607     2120          \n",
       "6 2013 1      9   641      900           1301      1242     1530          \n",
       "  arr_delay carrier flight tailnum origin dest air_time distance hour minute\n",
       "1  931      DL      2391   N959DL  JFK    TPA  139      1005     19    0    \n",
       "2  989      MQ      3075   N665MQ  JFK    CVG   96       589     16    0    \n",
       "3 1007      AA       177   N338AA  JFK    SFO  354      2586     18   45    \n",
       "4 1109      MQ      3695   N517MQ  EWR    ORD  111       719     16   35    \n",
       "5 1127      MQ      3535   N504MQ  JFK    CMH   74       483     19   35    \n",
       "6 1272      HA        51   N384HA  JFK    HNL  640      4983      9    0    \n",
       "  time_hour          \n",
       "1 2013-04-10 19:00:00\n",
       "2 2013-07-22 16:00:00\n",
       "3 2013-09-20 18:00:00\n",
       "4 2013-01-10 16:00:00\n",
       "5 2013-06-15 19:00:00\n",
       "6 2013-01-09 09:00:00"
      ]
     },
     "metadata": {},
     "output_type": "display_data"
    }
   ],
   "source": [
    "# How could you use arrange() to sort all missing values to the start?\n",
    "# (Hint: use is.na()).\n",
    "\n",
    "flights %>% arrange(desc(is.na(dep_delay)),dep_delay) %>% glimpse()\n",
    "flights %>% arrange(desc(is.na(dep_delay)),dep_delay) %>% tail()"
   ]
  },
  {
   "cell_type": "code",
   "execution_count": null,
   "metadata": {
    "ExecuteTime": {
     "end_time": "2020-01-27T21:50:18.203213Z",
     "start_time": "2020-01-27T21:50:17.621Z"
    },
    "hidden": true
   },
   "outputs": [],
   "source": [
    "# Sort flights to find the most delayed flights. \n",
    "flights %>% arrange(desc(dep_delay)) %>% glimpse()"
   ]
  },
  {
   "cell_type": "code",
   "execution_count": 150,
   "metadata": {
    "ExecuteTime": {
     "end_time": "2020-01-27T21:50:18.203213Z",
     "start_time": "2020-01-27T21:50:17.621Z"
    },
    "collapsed": true,
    "hidden": true,
    "jupyter": {
     "outputs_hidden": true
    }
   },
   "outputs": [
    {
     "name": "stdout",
     "output_type": "stream",
     "text": [
      "Observations: 336,776\n",
      "Variables: 19\n",
      "$ year           \u001b[3m\u001b[90m<int>\u001b[39m\u001b[23m 2013, 2013, 2013, 2013, 2013, 2013, 2013, 2013, 2013...\n",
      "$ month          \u001b[3m\u001b[90m<int>\u001b[39m\u001b[23m 1, 6, 1, 9, 7, 4, 3, 6, 7, 12, 5, 1, 2, 5, 12, 12, 1...\n",
      "$ day            \u001b[3m\u001b[90m<int>\u001b[39m\u001b[23m 9, 15, 10, 20, 22, 10, 17, 27, 22, 5, 3, 1, 10, 19, ...\n",
      "$ dep_time       \u001b[3m\u001b[90m<int>\u001b[39m\u001b[23m 641, 1432, 1121, 1139, 845, 1100, 2321, 959, 2257, 7...\n",
      "$ sched_dep_time \u001b[3m\u001b[90m<int>\u001b[39m\u001b[23m 900, 1935, 1635, 1845, 1600, 1900, 810, 1900, 759, 1...\n",
      "$ dep_delay      \u001b[3m\u001b[90m<dbl>\u001b[39m\u001b[23m 1301, 1137, 1126, 1014, 1005, 960, 911, 899, 898, 89...\n",
      "$ arr_time       \u001b[3m\u001b[90m<int>\u001b[39m\u001b[23m 1242, 1607, 1239, 1457, 1044, 1342, 135, 1236, 121, ...\n",
      "$ sched_arr_time \u001b[3m\u001b[90m<int>\u001b[39m\u001b[23m 1530, 2120, 1810, 2210, 1815, 2211, 1020, 2226, 1026...\n",
      "$ arr_delay      \u001b[3m\u001b[90m<dbl>\u001b[39m\u001b[23m 1272, 1127, 1109, 1007, 989, 931, 915, 850, 895, 878...\n",
      "$ carrier        \u001b[3m\u001b[90m<chr>\u001b[39m\u001b[23m \"HA\", \"MQ\", \"MQ\", \"AA\", \"MQ\", \"DL\", \"DL\", \"DL\", \"DL\"...\n",
      "$ flight         \u001b[3m\u001b[90m<int>\u001b[39m\u001b[23m 51, 3535, 3695, 177, 3075, 2391, 2119, 2007, 2047, 1...\n",
      "$ tailnum        \u001b[3m\u001b[90m<chr>\u001b[39m\u001b[23m \"N384HA\", \"N504MQ\", \"N517MQ\", \"N338AA\", \"N665MQ\", \"N...\n",
      "$ origin         \u001b[3m\u001b[90m<chr>\u001b[39m\u001b[23m \"JFK\", \"JFK\", \"EWR\", \"JFK\", \"JFK\", \"JFK\", \"LGA\", \"JF...\n",
      "$ dest           \u001b[3m\u001b[90m<chr>\u001b[39m\u001b[23m \"HNL\", \"CMH\", \"ORD\", \"SFO\", \"CVG\", \"TPA\", \"MSP\", \"PD...\n",
      "$ air_time       \u001b[3m\u001b[90m<dbl>\u001b[39m\u001b[23m 640, 74, 111, 354, 96, 139, 167, 313, 109, 149, 112,...\n",
      "$ distance       \u001b[3m\u001b[90m<dbl>\u001b[39m\u001b[23m 4983, 483, 719, 2586, 589, 1005, 1020, 2454, 762, 10...\n",
      "$ hour           \u001b[3m\u001b[90m<dbl>\u001b[39m\u001b[23m 9, 19, 16, 18, 16, 19, 8, 19, 7, 17, 20, 18, 8, 17, ...\n",
      "$ minute         \u001b[3m\u001b[90m<dbl>\u001b[39m\u001b[23m 0, 35, 35, 45, 0, 0, 10, 0, 59, 0, 55, 35, 30, 0, 25...\n",
      "$ time_hour      \u001b[3m\u001b[90m<dttm>\u001b[39m\u001b[23m 2013-01-09 09:00:00, 2013-06-15 19:00:00, 2013-01-1...\n",
      "Observations: 336,776\n",
      "Variables: 19\n",
      "$ year           \u001b[3m\u001b[90m<int>\u001b[39m\u001b[23m 2013, 2013, 2013, 2013, 2013, 2013, 2013, 2013, 2013...\n",
      "$ month          \u001b[3m\u001b[90m<int>\u001b[39m\u001b[23m 12, 2, 11, 1, 1, 8, 10, 3, 3, 5, 5, 9, 10, 11, 12, 5...\n",
      "$ day            \u001b[3m\u001b[90m<int>\u001b[39m\u001b[23m 7, 3, 10, 11, 29, 9, 23, 30, 2, 5, 14, 18, 29, 18, 2...\n",
      "$ dep_time       \u001b[3m\u001b[90m<int>\u001b[39m\u001b[23m 2040, 2022, 1408, 1900, 1703, 729, 1907, 2030, 1431,...\n",
      "$ sched_dep_time \u001b[3m\u001b[90m<int>\u001b[39m\u001b[23m 2123, 2055, 1440, 1930, 1730, 755, 1932, 2055, 1455,...\n",
      "$ dep_delay      \u001b[3m\u001b[90m<dbl>\u001b[39m\u001b[23m -43, -33, -32, -30, -27, -26, -25, -25, -24, -24, -2...\n",
      "$ arr_time       \u001b[3m\u001b[90m<int>\u001b[39m\u001b[23m 40, 2240, 1549, 2233, 1947, 1002, 2143, 2213, 1601, ...\n",
      "$ sched_arr_time \u001b[3m\u001b[90m<int>\u001b[39m\u001b[23m 2352, 2338, 1559, 2243, 1957, 955, 2143, 2250, 1631,...\n",
      "$ arr_delay      \u001b[3m\u001b[90m<dbl>\u001b[39m\u001b[23m 48, -58, -10, -10, -10, 7, 0, -37, -30, -44, -21, -3...\n",
      "$ carrier        \u001b[3m\u001b[90m<chr>\u001b[39m\u001b[23m \"B6\", \"DL\", \"EV\", \"DL\", \"F9\", \"MQ\", \"EV\", \"MQ\", \"9E\"...\n",
      "$ flight         \u001b[3m\u001b[90m<int>\u001b[39m\u001b[23m 97, 1715, 5713, 1435, 837, 3478, 4361, 4573, 3318, 3...\n",
      "$ tailnum        \u001b[3m\u001b[90m<chr>\u001b[39m\u001b[23m \"N592JB\", \"N612DL\", \"N825AS\", \"N934DL\", \"N208FR\", \"N...\n",
      "$ origin         \u001b[3m\u001b[90m<chr>\u001b[39m\u001b[23m \"JFK\", \"LGA\", \"LGA\", \"LGA\", \"LGA\", \"LGA\", \"EWR\", \"LG...\n",
      "$ dest           \u001b[3m\u001b[90m<chr>\u001b[39m\u001b[23m \"DEN\", \"MSY\", \"IAD\", \"TPA\", \"DEN\", \"DTW\", \"TYS\", \"DT...\n",
      "$ air_time       \u001b[3m\u001b[90m<dbl>\u001b[39m\u001b[23m 265, 162, 52, 139, 250, 88, 111, 87, 55, 150, 107, 1...\n",
      "$ distance       \u001b[3m\u001b[90m<dbl>\u001b[39m\u001b[23m 1626, 1183, 229, 1010, 1620, 502, 631, 502, 301, 107...\n",
      "$ hour           \u001b[3m\u001b[90m<dbl>\u001b[39m\u001b[23m 21, 20, 14, 19, 17, 7, 19, 20, 14, 9, 9, 16, 21, 20,...\n",
      "$ minute         \u001b[3m\u001b[90m<dbl>\u001b[39m\u001b[23m 23, 55, 40, 30, 30, 55, 32, 55, 55, 58, 38, 55, 6, 2...\n",
      "$ time_hour      \u001b[3m\u001b[90m<dttm>\u001b[39m\u001b[23m 2013-12-07 21:00:00, 2013-02-03 20:00:00, 2013-11-1...\n"
     ]
    }
   ],
   "source": [
    "# Find the flights that left earliest.\n",
    "flights %>% arrange(dep_delay) %>% glimpse()"
   ]
  },
  {
   "cell_type": "code",
   "execution_count": 161,
   "metadata": {
    "ExecuteTime": {
     "end_time": "2020-01-28T00:38:19.685286Z",
     "start_time": "2020-01-28T00:38:19.367Z"
    },
    "hidden": true
   },
   "outputs": [
    {
     "name": "stdout",
     "output_type": "stream",
     "text": [
      "Observations: 336,776\n",
      "Variables: 20\n",
      "$ year           \u001b[3m\u001b[90m<int>\u001b[39m\u001b[23m 2013, 2013, 2013, 2013, 2013, 2013, 2013, 2013, 2013...\n",
      "$ month          \u001b[3m\u001b[90m<int>\u001b[39m\u001b[23m 5, 7, 5, 3, 1, 11, 2, 11, 11, 11, 11, 11, 12, 2, 2, ...\n",
      "$ day            \u001b[3m\u001b[90m<int>\u001b[39m\u001b[23m 25, 2, 13, 23, 12, 17, 21, 17, 16, 16, 17, 17, 5, 10...\n",
      "$ dep_time       \u001b[3m\u001b[90m<int>\u001b[39m\u001b[23m 1709, 1558, 2040, 1914, 1559, 650, 2355, 759, 2003, ...\n",
      "$ sched_dep_time \u001b[3m\u001b[90m<int>\u001b[39m\u001b[23m 1700, 1513, 2025, 1910, 1600, 655, 2358, 800, 1925, ...\n",
      "$ dep_delay      \u001b[3m\u001b[90m<dbl>\u001b[39m\u001b[23m 9, 45, 15, 4, -1, -5, -3, -1, 38, -10, -4, 1, -2, -2...\n",
      "$ arr_time       \u001b[3m\u001b[90m<int>\u001b[39m\u001b[23m 1923, 1745, 2225, 2045, 1849, 1059, 412, 1212, 17, 4...\n",
      "$ sched_arr_time \u001b[3m\u001b[90m<int>\u001b[39m\u001b[23m 1937, 1719, 2226, 2043, 1917, 1150, 438, 1255, 36, 4...\n",
      "$ arr_delay      \u001b[3m\u001b[90m<dbl>\u001b[39m\u001b[23m -14, 26, -1, 2, -28, -51, -26, -43, -19, -38, -38, -...\n",
      "$ carrier        \u001b[3m\u001b[90m<chr>\u001b[39m\u001b[23m \"DL\", \"EV\", \"EV\", \"EV\", \"DL\", \"DL\", \"B6\", \"AA\", \"DL\"...\n",
      "$ flight         \u001b[3m\u001b[90m<int>\u001b[39m\u001b[23m 1499, 4667, 4292, 3805, 1902, 315, 707, 936, 347, 15...\n",
      "$ tailnum        \u001b[3m\u001b[90m<chr>\u001b[39m\u001b[23m \"N666DN\", \"N17196\", \"N14568\", \"N12567\", \"N956DL\", \"N...\n",
      "$ origin         \u001b[3m\u001b[90m<chr>\u001b[39m\u001b[23m \"LGA\", \"EWR\", \"EWR\", \"EWR\", \"LGA\", \"JFK\", \"JFK\", \"JF...\n",
      "$ dest           \u001b[3m\u001b[90m<chr>\u001b[39m\u001b[23m \"ATL\", \"MSP\", \"GSP\", \"BNA\", \"PBI\", \"SJU\", \"SJU\", \"ST...\n",
      "$ air_time       \u001b[3m\u001b[90m<dbl>\u001b[39m\u001b[23m 65, 93, 55, 70, 105, 170, 172, 175, 173, 173, 173, 1...\n",
      "$ distance       \u001b[3m\u001b[90m<dbl>\u001b[39m\u001b[23m 762, 1008, 594, 748, 1035, 1598, 1598, 1623, 1598, 1...\n",
      "$ hour           \u001b[3m\u001b[90m<dbl>\u001b[39m\u001b[23m 17, 15, 20, 19, 16, 6, 23, 8, 19, 23, 8, 19, 19, 17,...\n",
      "$ minute         \u001b[3m\u001b[90m<dbl>\u001b[39m\u001b[23m 0, 13, 25, 10, 0, 55, 58, 0, 25, 59, 55, 25, 0, 0, 5...\n",
      "$ time_hour      \u001b[3m\u001b[90m<dttm>\u001b[39m\u001b[23m 2013-05-25 17:00:00, 2013-07-02 15:00:00, 2013-05-1...\n",
      "$ speed          \u001b[3m\u001b[90m<dbl>\u001b[39m\u001b[23m 11.723077, 10.838710, 10.800000, 10.685714, 9.857143...\n"
     ]
    }
   ],
   "source": [
    "# Sort flights to find the fastest (highest speed) flights.\n",
    "# flights %>% arrange(desc(distance/air_time)) %>% glimpse()\n",
    "flights %>% \n",
    "    mutate(speed = distance/air_time) %>% \n",
    "    arrange(desc(speed)) %>% \n",
    "    glimpse()"
   ]
  },
  {
   "cell_type": "code",
   "execution_count": 160,
   "metadata": {
    "ExecuteTime": {
     "end_time": "2020-01-28T00:37:35.149021Z",
     "start_time": "2020-01-28T00:37:34.778Z"
    },
    "hidden": true
   },
   "outputs": [
    {
     "data": {
      "text/html": [
       "<table>\n",
       "<caption>A tibble: 6 × 6</caption>\n",
       "<thead>\n",
       "\t<tr><th scope=col>flight</th><th scope=col>tailnum</th><th scope=col>origin</th><th scope=col>dest</th><th scope=col>air_time</th><th scope=col>distance</th></tr>\n",
       "\t<tr><th scope=col>&lt;int&gt;</th><th scope=col>&lt;chr&gt;</th><th scope=col>&lt;chr&gt;</th><th scope=col>&lt;chr&gt;</th><th scope=col>&lt;dbl&gt;</th><th scope=col>&lt;dbl&gt;</th></tr>\n",
       "</thead>\n",
       "<tbody>\n",
       "\t<tr><td>51</td><td>N388HA</td><td>JFK</td><td>HNL</td><td>616</td><td>4983</td></tr>\n",
       "\t<tr><td>51</td><td>N389HA</td><td>JFK</td><td>HNL</td><td>636</td><td>4983</td></tr>\n",
       "\t<tr><td>51</td><td>N390HA</td><td>JFK</td><td>HNL</td><td>629</td><td>4983</td></tr>\n",
       "\t<tr><td>51</td><td>N391HA</td><td>JFK</td><td>HNL</td><td>584</td><td>4983</td></tr>\n",
       "\t<tr><td>51</td><td>N384HA</td><td>JFK</td><td>HNL</td><td>580</td><td>4983</td></tr>\n",
       "\t<tr><td>51</td><td>N392HA</td><td>JFK</td><td>HNL</td><td>603</td><td>4983</td></tr>\n",
       "</tbody>\n",
       "</table>\n"
      ],
      "text/latex": [
       "A tibble: 6 × 6\n",
       "\\begin{tabular}{r|llllll}\n",
       " flight & tailnum & origin & dest & air\\_time & distance\\\\\n",
       " <int> & <chr> & <chr> & <chr> & <dbl> & <dbl>\\\\\n",
       "\\hline\n",
       "\t 51 & N388HA & JFK & HNL & 616 & 4983\\\\\n",
       "\t 51 & N389HA & JFK & HNL & 636 & 4983\\\\\n",
       "\t 51 & N390HA & JFK & HNL & 629 & 4983\\\\\n",
       "\t 51 & N391HA & JFK & HNL & 584 & 4983\\\\\n",
       "\t 51 & N384HA & JFK & HNL & 580 & 4983\\\\\n",
       "\t 51 & N392HA & JFK & HNL & 603 & 4983\\\\\n",
       "\\end{tabular}\n"
      ],
      "text/markdown": [
       "\n",
       "A tibble: 6 × 6\n",
       "\n",
       "| flight &lt;int&gt; | tailnum &lt;chr&gt; | origin &lt;chr&gt; | dest &lt;chr&gt; | air_time &lt;dbl&gt; | distance &lt;dbl&gt; |\n",
       "|---|---|---|---|---|---|\n",
       "| 51 | N388HA | JFK | HNL | 616 | 4983 |\n",
       "| 51 | N389HA | JFK | HNL | 636 | 4983 |\n",
       "| 51 | N390HA | JFK | HNL | 629 | 4983 |\n",
       "| 51 | N391HA | JFK | HNL | 584 | 4983 |\n",
       "| 51 | N384HA | JFK | HNL | 580 | 4983 |\n",
       "| 51 | N392HA | JFK | HNL | 603 | 4983 |\n",
       "\n"
      ],
      "text/plain": [
       "  flight tailnum origin dest air_time distance\n",
       "1 51     N388HA  JFK    HNL  616      4983    \n",
       "2 51     N389HA  JFK    HNL  636      4983    \n",
       "3 51     N390HA  JFK    HNL  629      4983    \n",
       "4 51     N391HA  JFK    HNL  584      4983    \n",
       "5 51     N384HA  JFK    HNL  580      4983    \n",
       "6 51     N392HA  JFK    HNL  603      4983    "
      ]
     },
     "metadata": {},
     "output_type": "display_data"
    }
   ],
   "source": [
    "# Which flights travelled the farthest? \n",
    "flights %>% arrange(distance) %>% select(flight:distance) %>% tail()"
   ]
  },
  {
   "cell_type": "code",
   "execution_count": 158,
   "metadata": {
    "ExecuteTime": {
     "end_time": "2020-01-28T00:37:06.720396Z",
     "start_time": "2020-01-28T00:37:06.442Z"
    },
    "hidden": true
   },
   "outputs": [
    {
     "data": {
      "text/html": [
       "<table>\n",
       "<caption>A tibble: 6 × 6</caption>\n",
       "<thead>\n",
       "\t<tr><th scope=col>flight</th><th scope=col>tailnum</th><th scope=col>origin</th><th scope=col>dest</th><th scope=col>air_time</th><th scope=col>distance</th></tr>\n",
       "\t<tr><th scope=col>&lt;int&gt;</th><th scope=col>&lt;chr&gt;</th><th scope=col>&lt;chr&gt;</th><th scope=col>&lt;chr&gt;</th><th scope=col>&lt;dbl&gt;</th><th scope=col>&lt;dbl&gt;</th></tr>\n",
       "</thead>\n",
       "<tbody>\n",
       "\t<tr><td>1632</td><td>NA    </td><td>EWR</td><td>LGA</td><td>NA</td><td>17</td></tr>\n",
       "\t<tr><td>3833</td><td>N13989</td><td>EWR</td><td>PHL</td><td>30</td><td>80</td></tr>\n",
       "\t<tr><td>4193</td><td>N14972</td><td>EWR</td><td>PHL</td><td>30</td><td>80</td></tr>\n",
       "\t<tr><td>4502</td><td>N15983</td><td>EWR</td><td>PHL</td><td>28</td><td>80</td></tr>\n",
       "\t<tr><td>4645</td><td>N27962</td><td>EWR</td><td>PHL</td><td>32</td><td>80</td></tr>\n",
       "\t<tr><td>4193</td><td>N14902</td><td>EWR</td><td>PHL</td><td>29</td><td>80</td></tr>\n",
       "</tbody>\n",
       "</table>\n"
      ],
      "text/latex": [
       "A tibble: 6 × 6\n",
       "\\begin{tabular}{r|llllll}\n",
       " flight & tailnum & origin & dest & air\\_time & distance\\\\\n",
       " <int> & <chr> & <chr> & <chr> & <dbl> & <dbl>\\\\\n",
       "\\hline\n",
       "\t 1632 & NA     & EWR & LGA & NA & 17\\\\\n",
       "\t 3833 & N13989 & EWR & PHL & 30 & 80\\\\\n",
       "\t 4193 & N14972 & EWR & PHL & 30 & 80\\\\\n",
       "\t 4502 & N15983 & EWR & PHL & 28 & 80\\\\\n",
       "\t 4645 & N27962 & EWR & PHL & 32 & 80\\\\\n",
       "\t 4193 & N14902 & EWR & PHL & 29 & 80\\\\\n",
       "\\end{tabular}\n"
      ],
      "text/markdown": [
       "\n",
       "A tibble: 6 × 6\n",
       "\n",
       "| flight &lt;int&gt; | tailnum &lt;chr&gt; | origin &lt;chr&gt; | dest &lt;chr&gt; | air_time &lt;dbl&gt; | distance &lt;dbl&gt; |\n",
       "|---|---|---|---|---|---|\n",
       "| 1632 | NA     | EWR | LGA | NA | 17 |\n",
       "| 3833 | N13989 | EWR | PHL | 30 | 80 |\n",
       "| 4193 | N14972 | EWR | PHL | 30 | 80 |\n",
       "| 4502 | N15983 | EWR | PHL | 28 | 80 |\n",
       "| 4645 | N27962 | EWR | PHL | 32 | 80 |\n",
       "| 4193 | N14902 | EWR | PHL | 29 | 80 |\n",
       "\n"
      ],
      "text/plain": [
       "  flight tailnum origin dest air_time distance\n",
       "1 1632   NA      EWR    LGA  NA       17      \n",
       "2 3833   N13989  EWR    PHL  30       80      \n",
       "3 4193   N14972  EWR    PHL  30       80      \n",
       "4 4502   N15983  EWR    PHL  28       80      \n",
       "5 4645   N27962  EWR    PHL  32       80      \n",
       "6 4193   N14902  EWR    PHL  29       80      "
      ]
     },
     "metadata": {},
     "output_type": "display_data"
    }
   ],
   "source": [
    "# Which travelled the shortest?\n",
    "\n",
    "flights %>% arrange(distance) %>% select(flight:distance) %>% head()\n"
   ]
  },
  {
   "cell_type": "markdown",
   "metadata": {
    "heading_collapsed": true
   },
   "source": [
    "## Select"
   ]
  },
  {
   "cell_type": "markdown",
   "metadata": {
    "hidden": true
   },
   "source": [
    "`select()` can be used to rename variables, but it’s rarely useful because it drops all of the variables not explicitly mentioned. Instead, use `rename()`, which is a variant of `select()` that keeps all the variables that aren’t explicitly mentioned:"
   ]
  },
  {
   "cell_type": "code",
   "execution_count": 167,
   "metadata": {
    "ExecuteTime": {
     "end_time": "2020-01-28T02:19:35.525272Z",
     "start_time": "2020-01-28T02:19:35.458Z"
    },
    "hidden": true
   },
   "outputs": [
    {
     "data": {
      "text/html": [
       "<table>\n",
       "<caption>A tibble: 2 × 19</caption>\n",
       "<thead>\n",
       "\t<tr><th scope=col>year</th><th scope=col>month</th><th scope=col>day</th><th scope=col>dep_time</th><th scope=col>sched_dep_time</th><th scope=col>dep_delay</th><th scope=col>arr_time</th><th scope=col>sched_arr_time</th><th scope=col>arr_delay</th><th scope=col>carrier</th><th scope=col>flight</th><th scope=col>tail_num</th><th scope=col>origin</th><th scope=col>dest</th><th scope=col>air_time</th><th scope=col>distance</th><th scope=col>hour</th><th scope=col>minute</th><th scope=col>time_hour</th></tr>\n",
       "\t<tr><th scope=col>&lt;int&gt;</th><th scope=col>&lt;int&gt;</th><th scope=col>&lt;int&gt;</th><th scope=col>&lt;int&gt;</th><th scope=col>&lt;int&gt;</th><th scope=col>&lt;dbl&gt;</th><th scope=col>&lt;int&gt;</th><th scope=col>&lt;int&gt;</th><th scope=col>&lt;dbl&gt;</th><th scope=col>&lt;chr&gt;</th><th scope=col>&lt;int&gt;</th><th scope=col>&lt;chr&gt;</th><th scope=col>&lt;chr&gt;</th><th scope=col>&lt;chr&gt;</th><th scope=col>&lt;dbl&gt;</th><th scope=col>&lt;dbl&gt;</th><th scope=col>&lt;dbl&gt;</th><th scope=col>&lt;dbl&gt;</th><th scope=col>&lt;dttm&gt;</th></tr>\n",
       "</thead>\n",
       "<tbody>\n",
       "\t<tr><td>2013</td><td>1</td><td>1</td><td>517</td><td>515</td><td>2</td><td>830</td><td>819</td><td>11</td><td>UA</td><td>1545</td><td>N14228</td><td>EWR</td><td>IAH</td><td>227</td><td>1400</td><td>5</td><td>15</td><td>2013-01-01 05:00:00</td></tr>\n",
       "\t<tr><td>2013</td><td>1</td><td>1</td><td>533</td><td>529</td><td>4</td><td>850</td><td>830</td><td>20</td><td>UA</td><td>1714</td><td>N24211</td><td>LGA</td><td>IAH</td><td>227</td><td>1416</td><td>5</td><td>29</td><td>2013-01-01 05:00:00</td></tr>\n",
       "</tbody>\n",
       "</table>\n"
      ],
      "text/latex": [
       "A tibble: 2 × 19\n",
       "\\begin{tabular}{r|lllllllllllllllllll}\n",
       " year & month & day & dep\\_time & sched\\_dep\\_time & dep\\_delay & arr\\_time & sched\\_arr\\_time & arr\\_delay & carrier & flight & tail\\_num & origin & dest & air\\_time & distance & hour & minute & time\\_hour\\\\\n",
       " <int> & <int> & <int> & <int> & <int> & <dbl> & <int> & <int> & <dbl> & <chr> & <int> & <chr> & <chr> & <chr> & <dbl> & <dbl> & <dbl> & <dbl> & <dttm>\\\\\n",
       "\\hline\n",
       "\t 2013 & 1 & 1 & 517 & 515 & 2 & 830 & 819 & 11 & UA & 1545 & N14228 & EWR & IAH & 227 & 1400 & 5 & 15 & 2013-01-01 05:00:00\\\\\n",
       "\t 2013 & 1 & 1 & 533 & 529 & 4 & 850 & 830 & 20 & UA & 1714 & N24211 & LGA & IAH & 227 & 1416 & 5 & 29 & 2013-01-01 05:00:00\\\\\n",
       "\\end{tabular}\n"
      ],
      "text/markdown": [
       "\n",
       "A tibble: 2 × 19\n",
       "\n",
       "| year &lt;int&gt; | month &lt;int&gt; | day &lt;int&gt; | dep_time &lt;int&gt; | sched_dep_time &lt;int&gt; | dep_delay &lt;dbl&gt; | arr_time &lt;int&gt; | sched_arr_time &lt;int&gt; | arr_delay &lt;dbl&gt; | carrier &lt;chr&gt; | flight &lt;int&gt; | tail_num &lt;chr&gt; | origin &lt;chr&gt; | dest &lt;chr&gt; | air_time &lt;dbl&gt; | distance &lt;dbl&gt; | hour &lt;dbl&gt; | minute &lt;dbl&gt; | time_hour &lt;dttm&gt; |\n",
       "|---|---|---|---|---|---|---|---|---|---|---|---|---|---|---|---|---|---|---|\n",
       "| 2013 | 1 | 1 | 517 | 515 | 2 | 830 | 819 | 11 | UA | 1545 | N14228 | EWR | IAH | 227 | 1400 | 5 | 15 | 2013-01-01 05:00:00 |\n",
       "| 2013 | 1 | 1 | 533 | 529 | 4 | 850 | 830 | 20 | UA | 1714 | N24211 | LGA | IAH | 227 | 1416 | 5 | 29 | 2013-01-01 05:00:00 |\n",
       "\n"
      ],
      "text/plain": [
       "  year month day dep_time sched_dep_time dep_delay arr_time sched_arr_time\n",
       "1 2013 1     1   517      515            2         830      819           \n",
       "2 2013 1     1   533      529            4         850      830           \n",
       "  arr_delay carrier flight tail_num origin dest air_time distance hour minute\n",
       "1 11        UA      1545   N14228   EWR    IAH  227      1400     5    15    \n",
       "2 20        UA      1714   N24211   LGA    IAH  227      1416     5    29    \n",
       "  time_hour          \n",
       "1 2013-01-01 05:00:00\n",
       "2 2013-01-01 05:00:00"
      ]
     },
     "metadata": {},
     "output_type": "display_data"
    }
   ],
   "source": [
    "rename(flights, tail_num = tailnum) %>% head(2)"
   ]
  },
  {
   "cell_type": "markdown",
   "metadata": {
    "hidden": true
   },
   "source": [
    "Another option is to use `select()` in conjunction with the `everything()` helper. This is useful if you have a handful of variables you’d like to move to the start of the data frame.\n"
   ]
  },
  {
   "cell_type": "code",
   "execution_count": 166,
   "metadata": {
    "ExecuteTime": {
     "end_time": "2020-01-28T02:19:27.493383Z",
     "start_time": "2020-01-28T02:19:27.426Z"
    },
    "hidden": true,
    "scrolled": true
   },
   "outputs": [
    {
     "data": {
      "text/html": [
       "<table>\n",
       "<caption>A tibble: 3 × 19</caption>\n",
       "<thead>\n",
       "\t<tr><th scope=col>time_hour</th><th scope=col>air_time</th><th scope=col>year</th><th scope=col>month</th><th scope=col>day</th><th scope=col>dep_time</th><th scope=col>sched_dep_time</th><th scope=col>dep_delay</th><th scope=col>arr_time</th><th scope=col>sched_arr_time</th><th scope=col>arr_delay</th><th scope=col>carrier</th><th scope=col>flight</th><th scope=col>tailnum</th><th scope=col>origin</th><th scope=col>dest</th><th scope=col>distance</th><th scope=col>hour</th><th scope=col>minute</th></tr>\n",
       "\t<tr><th scope=col>&lt;dttm&gt;</th><th scope=col>&lt;dbl&gt;</th><th scope=col>&lt;int&gt;</th><th scope=col>&lt;int&gt;</th><th scope=col>&lt;int&gt;</th><th scope=col>&lt;int&gt;</th><th scope=col>&lt;int&gt;</th><th scope=col>&lt;dbl&gt;</th><th scope=col>&lt;int&gt;</th><th scope=col>&lt;int&gt;</th><th scope=col>&lt;dbl&gt;</th><th scope=col>&lt;chr&gt;</th><th scope=col>&lt;int&gt;</th><th scope=col>&lt;chr&gt;</th><th scope=col>&lt;chr&gt;</th><th scope=col>&lt;chr&gt;</th><th scope=col>&lt;dbl&gt;</th><th scope=col>&lt;dbl&gt;</th><th scope=col>&lt;dbl&gt;</th></tr>\n",
       "</thead>\n",
       "<tbody>\n",
       "\t<tr><td>2013-01-01 05:00:00</td><td>227</td><td>2013</td><td>1</td><td>1</td><td>517</td><td>515</td><td>2</td><td>830</td><td>819</td><td>11</td><td>UA</td><td>1545</td><td>N14228</td><td>EWR</td><td>IAH</td><td>1400</td><td>5</td><td>15</td></tr>\n",
       "\t<tr><td>2013-01-01 05:00:00</td><td>227</td><td>2013</td><td>1</td><td>1</td><td>533</td><td>529</td><td>4</td><td>850</td><td>830</td><td>20</td><td>UA</td><td>1714</td><td>N24211</td><td>LGA</td><td>IAH</td><td>1416</td><td>5</td><td>29</td></tr>\n",
       "\t<tr><td>2013-01-01 05:00:00</td><td>160</td><td>2013</td><td>1</td><td>1</td><td>542</td><td>540</td><td>2</td><td>923</td><td>850</td><td>33</td><td>AA</td><td>1141</td><td>N619AA</td><td>JFK</td><td>MIA</td><td>1089</td><td>5</td><td>40</td></tr>\n",
       "</tbody>\n",
       "</table>\n"
      ],
      "text/latex": [
       "A tibble: 3 × 19\n",
       "\\begin{tabular}{r|lllllllllllllllllll}\n",
       " time\\_hour & air\\_time & year & month & day & dep\\_time & sched\\_dep\\_time & dep\\_delay & arr\\_time & sched\\_arr\\_time & arr\\_delay & carrier & flight & tailnum & origin & dest & distance & hour & minute\\\\\n",
       " <dttm> & <dbl> & <int> & <int> & <int> & <int> & <int> & <dbl> & <int> & <int> & <dbl> & <chr> & <int> & <chr> & <chr> & <chr> & <dbl> & <dbl> & <dbl>\\\\\n",
       "\\hline\n",
       "\t 2013-01-01 05:00:00 & 227 & 2013 & 1 & 1 & 517 & 515 & 2 & 830 & 819 & 11 & UA & 1545 & N14228 & EWR & IAH & 1400 & 5 & 15\\\\\n",
       "\t 2013-01-01 05:00:00 & 227 & 2013 & 1 & 1 & 533 & 529 & 4 & 850 & 830 & 20 & UA & 1714 & N24211 & LGA & IAH & 1416 & 5 & 29\\\\\n",
       "\t 2013-01-01 05:00:00 & 160 & 2013 & 1 & 1 & 542 & 540 & 2 & 923 & 850 & 33 & AA & 1141 & N619AA & JFK & MIA & 1089 & 5 & 40\\\\\n",
       "\\end{tabular}\n"
      ],
      "text/markdown": [
       "\n",
       "A tibble: 3 × 19\n",
       "\n",
       "| time_hour &lt;dttm&gt; | air_time &lt;dbl&gt; | year &lt;int&gt; | month &lt;int&gt; | day &lt;int&gt; | dep_time &lt;int&gt; | sched_dep_time &lt;int&gt; | dep_delay &lt;dbl&gt; | arr_time &lt;int&gt; | sched_arr_time &lt;int&gt; | arr_delay &lt;dbl&gt; | carrier &lt;chr&gt; | flight &lt;int&gt; | tailnum &lt;chr&gt; | origin &lt;chr&gt; | dest &lt;chr&gt; | distance &lt;dbl&gt; | hour &lt;dbl&gt; | minute &lt;dbl&gt; |\n",
       "|---|---|---|---|---|---|---|---|---|---|---|---|---|---|---|---|---|---|---|\n",
       "| 2013-01-01 05:00:00 | 227 | 2013 | 1 | 1 | 517 | 515 | 2 | 830 | 819 | 11 | UA | 1545 | N14228 | EWR | IAH | 1400 | 5 | 15 |\n",
       "| 2013-01-01 05:00:00 | 227 | 2013 | 1 | 1 | 533 | 529 | 4 | 850 | 830 | 20 | UA | 1714 | N24211 | LGA | IAH | 1416 | 5 | 29 |\n",
       "| 2013-01-01 05:00:00 | 160 | 2013 | 1 | 1 | 542 | 540 | 2 | 923 | 850 | 33 | AA | 1141 | N619AA | JFK | MIA | 1089 | 5 | 40 |\n",
       "\n"
      ],
      "text/plain": [
       "  time_hour           air_time year month day dep_time sched_dep_time dep_delay\n",
       "1 2013-01-01 05:00:00 227      2013 1     1   517      515            2        \n",
       "2 2013-01-01 05:00:00 227      2013 1     1   533      529            4        \n",
       "3 2013-01-01 05:00:00 160      2013 1     1   542      540            2        \n",
       "  arr_time sched_arr_time arr_delay carrier flight tailnum origin dest distance\n",
       "1 830      819            11        UA      1545   N14228  EWR    IAH  1400    \n",
       "2 850      830            20        UA      1714   N24211  LGA    IAH  1416    \n",
       "3 923      850            33        AA      1141   N619AA  JFK    MIA  1089    \n",
       "  hour minute\n",
       "1 5    15    \n",
       "2 5    29    \n",
       "3 5    40    "
      ]
     },
     "metadata": {},
     "output_type": "display_data"
    }
   ],
   "source": [
    "select(flights, time_hour, air_time, everything()) %>% head(3)"
   ]
  },
  {
   "cell_type": "markdown",
   "metadata": {
    "heading_collapsed": true,
    "hidden": true
   },
   "source": [
    "### Exercises"
   ]
  },
  {
   "cell_type": "code",
   "execution_count": 169,
   "metadata": {
    "ExecuteTime": {
     "end_time": "2020-01-28T02:21:31.650383Z",
     "start_time": "2020-01-28T02:21:30.336Z"
    },
    "collapsed": true,
    "hidden": true,
    "jupyter": {
     "outputs_hidden": true
    }
   },
   "outputs": [
    {
     "data": {
      "text/html": [
       "<table>\n",
       "<caption>A tibble: 336776 × 4</caption>\n",
       "<thead>\n",
       "\t<tr><th scope=col>dep_time</th><th scope=col>dep_delay</th><th scope=col>arr_time</th><th scope=col>arr_delay</th></tr>\n",
       "\t<tr><th scope=col>&lt;int&gt;</th><th scope=col>&lt;dbl&gt;</th><th scope=col>&lt;int&gt;</th><th scope=col>&lt;dbl&gt;</th></tr>\n",
       "</thead>\n",
       "<tbody>\n",
       "\t<tr><td>517</td><td> 2</td><td> 830</td><td> 11</td></tr>\n",
       "\t<tr><td>533</td><td> 4</td><td> 850</td><td> 20</td></tr>\n",
       "\t<tr><td>542</td><td> 2</td><td> 923</td><td> 33</td></tr>\n",
       "\t<tr><td>544</td><td>-1</td><td>1004</td><td>-18</td></tr>\n",
       "\t<tr><td>554</td><td>-6</td><td> 812</td><td>-25</td></tr>\n",
       "\t<tr><td>554</td><td>-4</td><td> 740</td><td> 12</td></tr>\n",
       "\t<tr><td>555</td><td>-5</td><td> 913</td><td> 19</td></tr>\n",
       "\t<tr><td>557</td><td>-3</td><td> 709</td><td>-14</td></tr>\n",
       "\t<tr><td>557</td><td>-3</td><td> 838</td><td> -8</td></tr>\n",
       "\t<tr><td>558</td><td>-2</td><td> 753</td><td>  8</td></tr>\n",
       "\t<tr><td>558</td><td>-2</td><td> 849</td><td> -2</td></tr>\n",
       "\t<tr><td>558</td><td>-2</td><td> 853</td><td> -3</td></tr>\n",
       "\t<tr><td>558</td><td>-2</td><td> 924</td><td>  7</td></tr>\n",
       "\t<tr><td>558</td><td>-2</td><td> 923</td><td>-14</td></tr>\n",
       "\t<tr><td>559</td><td>-1</td><td> 941</td><td> 31</td></tr>\n",
       "\t<tr><td>559</td><td> 0</td><td> 702</td><td> -4</td></tr>\n",
       "\t<tr><td>559</td><td>-1</td><td> 854</td><td> -8</td></tr>\n",
       "\t<tr><td>600</td><td> 0</td><td> 851</td><td> -7</td></tr>\n",
       "\t<tr><td>600</td><td> 0</td><td> 837</td><td> 12</td></tr>\n",
       "\t<tr><td>601</td><td> 1</td><td> 844</td><td> -6</td></tr>\n",
       "\t<tr><td>602</td><td>-8</td><td> 812</td><td> -8</td></tr>\n",
       "\t<tr><td>602</td><td>-3</td><td> 821</td><td> 16</td></tr>\n",
       "\t<tr><td>606</td><td>-4</td><td> 858</td><td>-12</td></tr>\n",
       "\t<tr><td>606</td><td>-4</td><td> 837</td><td> -8</td></tr>\n",
       "\t<tr><td>607</td><td> 0</td><td> 858</td><td>-17</td></tr>\n",
       "\t<tr><td>608</td><td> 8</td><td> 807</td><td> 32</td></tr>\n",
       "\t<tr><td>611</td><td>11</td><td> 945</td><td> 14</td></tr>\n",
       "\t<tr><td>613</td><td> 3</td><td> 925</td><td>  4</td></tr>\n",
       "\t<tr><td>615</td><td> 0</td><td>1039</td><td>-21</td></tr>\n",
       "\t<tr><td>615</td><td> 0</td><td> 833</td><td> -9</td></tr>\n",
       "\t<tr><td>...</td><td>...</td><td>...</td><td>...</td></tr>\n",
       "\t<tr><td>2123</td><td> -2</td><td>2223</td><td>-24</td></tr>\n",
       "\t<tr><td>2127</td><td> -2</td><td>2314</td><td> -9</td></tr>\n",
       "\t<tr><td>2128</td><td> -2</td><td>2328</td><td>-31</td></tr>\n",
       "\t<tr><td>2129</td><td> 30</td><td>2230</td><td> -2</td></tr>\n",
       "\t<tr><td>2131</td><td> -9</td><td>2225</td><td>-30</td></tr>\n",
       "\t<tr><td>2140</td><td>  0</td><td>  10</td><td>-30</td></tr>\n",
       "\t<tr><td>2142</td><td> 13</td><td>2250</td><td> 11</td></tr>\n",
       "\t<tr><td>2145</td><td>  0</td><td> 115</td><td>-25</td></tr>\n",
       "\t<tr><td>2147</td><td> 10</td><td>  30</td><td>  3</td></tr>\n",
       "\t<tr><td>2149</td><td> -7</td><td>2245</td><td>-23</td></tr>\n",
       "\t<tr><td>2150</td><td> -9</td><td>2250</td><td>-16</td></tr>\n",
       "\t<tr><td>2159</td><td>194</td><td>2344</td><td>194</td></tr>\n",
       "\t<tr><td>2203</td><td> -2</td><td>2339</td><td>  8</td></tr>\n",
       "\t<tr><td>2207</td><td> 27</td><td>2257</td><td>  7</td></tr>\n",
       "\t<tr><td>2211</td><td> 72</td><td>2339</td><td> 57</td></tr>\n",
       "\t<tr><td>2231</td><td>-14</td><td>2335</td><td>-21</td></tr>\n",
       "\t<tr><td>2233</td><td> 80</td><td> 112</td><td> 42</td></tr>\n",
       "\t<tr><td>2235</td><td>154</td><td>  59</td><td>130</td></tr>\n",
       "\t<tr><td>2237</td><td> -8</td><td>2345</td><td> -8</td></tr>\n",
       "\t<tr><td>2240</td><td> -5</td><td>2334</td><td>-17</td></tr>\n",
       "\t<tr><td>2240</td><td>-10</td><td>2347</td><td>-20</td></tr>\n",
       "\t<tr><td>2241</td><td> -5</td><td>2345</td><td>-16</td></tr>\n",
       "\t<tr><td>2307</td><td> 12</td><td>2359</td><td>  1</td></tr>\n",
       "\t<tr><td>2349</td><td>-10</td><td> 325</td><td>-25</td></tr>\n",
       "\t<tr><td>  NA</td><td> NA</td><td>  NA</td><td> NA</td></tr>\n",
       "\t<tr><td>  NA</td><td> NA</td><td>  NA</td><td> NA</td></tr>\n",
       "\t<tr><td>  NA</td><td> NA</td><td>  NA</td><td> NA</td></tr>\n",
       "\t<tr><td>  NA</td><td> NA</td><td>  NA</td><td> NA</td></tr>\n",
       "\t<tr><td>  NA</td><td> NA</td><td>  NA</td><td> NA</td></tr>\n",
       "\t<tr><td>  NA</td><td> NA</td><td>  NA</td><td> NA</td></tr>\n",
       "</tbody>\n",
       "</table>\n"
      ],
      "text/latex": [
       "A tibble: 336776 × 4\n",
       "\\begin{tabular}{r|llll}\n",
       " dep\\_time & dep\\_delay & arr\\_time & arr\\_delay\\\\\n",
       " <int> & <dbl> & <int> & <dbl>\\\\\n",
       "\\hline\n",
       "\t 517 &  2 &  830 &  11\\\\\n",
       "\t 533 &  4 &  850 &  20\\\\\n",
       "\t 542 &  2 &  923 &  33\\\\\n",
       "\t 544 & -1 & 1004 & -18\\\\\n",
       "\t 554 & -6 &  812 & -25\\\\\n",
       "\t 554 & -4 &  740 &  12\\\\\n",
       "\t 555 & -5 &  913 &  19\\\\\n",
       "\t 557 & -3 &  709 & -14\\\\\n",
       "\t 557 & -3 &  838 &  -8\\\\\n",
       "\t 558 & -2 &  753 &   8\\\\\n",
       "\t 558 & -2 &  849 &  -2\\\\\n",
       "\t 558 & -2 &  853 &  -3\\\\\n",
       "\t 558 & -2 &  924 &   7\\\\\n",
       "\t 558 & -2 &  923 & -14\\\\\n",
       "\t 559 & -1 &  941 &  31\\\\\n",
       "\t 559 &  0 &  702 &  -4\\\\\n",
       "\t 559 & -1 &  854 &  -8\\\\\n",
       "\t 600 &  0 &  851 &  -7\\\\\n",
       "\t 600 &  0 &  837 &  12\\\\\n",
       "\t 601 &  1 &  844 &  -6\\\\\n",
       "\t 602 & -8 &  812 &  -8\\\\\n",
       "\t 602 & -3 &  821 &  16\\\\\n",
       "\t 606 & -4 &  858 & -12\\\\\n",
       "\t 606 & -4 &  837 &  -8\\\\\n",
       "\t 607 &  0 &  858 & -17\\\\\n",
       "\t 608 &  8 &  807 &  32\\\\\n",
       "\t 611 & 11 &  945 &  14\\\\\n",
       "\t 613 &  3 &  925 &   4\\\\\n",
       "\t 615 &  0 & 1039 & -21\\\\\n",
       "\t 615 &  0 &  833 &  -9\\\\\n",
       "\t ... & ... & ... & ...\\\\\n",
       "\t 2123 &  -2 & 2223 & -24\\\\\n",
       "\t 2127 &  -2 & 2314 &  -9\\\\\n",
       "\t 2128 &  -2 & 2328 & -31\\\\\n",
       "\t 2129 &  30 & 2230 &  -2\\\\\n",
       "\t 2131 &  -9 & 2225 & -30\\\\\n",
       "\t 2140 &   0 &   10 & -30\\\\\n",
       "\t 2142 &  13 & 2250 &  11\\\\\n",
       "\t 2145 &   0 &  115 & -25\\\\\n",
       "\t 2147 &  10 &   30 &   3\\\\\n",
       "\t 2149 &  -7 & 2245 & -23\\\\\n",
       "\t 2150 &  -9 & 2250 & -16\\\\\n",
       "\t 2159 & 194 & 2344 & 194\\\\\n",
       "\t 2203 &  -2 & 2339 &   8\\\\\n",
       "\t 2207 &  27 & 2257 &   7\\\\\n",
       "\t 2211 &  72 & 2339 &  57\\\\\n",
       "\t 2231 & -14 & 2335 & -21\\\\\n",
       "\t 2233 &  80 &  112 &  42\\\\\n",
       "\t 2235 & 154 &   59 & 130\\\\\n",
       "\t 2237 &  -8 & 2345 &  -8\\\\\n",
       "\t 2240 &  -5 & 2334 & -17\\\\\n",
       "\t 2240 & -10 & 2347 & -20\\\\\n",
       "\t 2241 &  -5 & 2345 & -16\\\\\n",
       "\t 2307 &  12 & 2359 &   1\\\\\n",
       "\t 2349 & -10 &  325 & -25\\\\\n",
       "\t   NA &  NA &   NA &  NA\\\\\n",
       "\t   NA &  NA &   NA &  NA\\\\\n",
       "\t   NA &  NA &   NA &  NA\\\\\n",
       "\t   NA &  NA &   NA &  NA\\\\\n",
       "\t   NA &  NA &   NA &  NA\\\\\n",
       "\t   NA &  NA &   NA &  NA\\\\\n",
       "\\end{tabular}\n"
      ],
      "text/markdown": [
       "\n",
       "A tibble: 336776 × 4\n",
       "\n",
       "| dep_time &lt;int&gt; | dep_delay &lt;dbl&gt; | arr_time &lt;int&gt; | arr_delay &lt;dbl&gt; |\n",
       "|---|---|---|---|\n",
       "| 517 |  2 |  830 |  11 |\n",
       "| 533 |  4 |  850 |  20 |\n",
       "| 542 |  2 |  923 |  33 |\n",
       "| 544 | -1 | 1004 | -18 |\n",
       "| 554 | -6 |  812 | -25 |\n",
       "| 554 | -4 |  740 |  12 |\n",
       "| 555 | -5 |  913 |  19 |\n",
       "| 557 | -3 |  709 | -14 |\n",
       "| 557 | -3 |  838 |  -8 |\n",
       "| 558 | -2 |  753 |   8 |\n",
       "| 558 | -2 |  849 |  -2 |\n",
       "| 558 | -2 |  853 |  -3 |\n",
       "| 558 | -2 |  924 |   7 |\n",
       "| 558 | -2 |  923 | -14 |\n",
       "| 559 | -1 |  941 |  31 |\n",
       "| 559 |  0 |  702 |  -4 |\n",
       "| 559 | -1 |  854 |  -8 |\n",
       "| 600 |  0 |  851 |  -7 |\n",
       "| 600 |  0 |  837 |  12 |\n",
       "| 601 |  1 |  844 |  -6 |\n",
       "| 602 | -8 |  812 |  -8 |\n",
       "| 602 | -3 |  821 |  16 |\n",
       "| 606 | -4 |  858 | -12 |\n",
       "| 606 | -4 |  837 |  -8 |\n",
       "| 607 |  0 |  858 | -17 |\n",
       "| 608 |  8 |  807 |  32 |\n",
       "| 611 | 11 |  945 |  14 |\n",
       "| 613 |  3 |  925 |   4 |\n",
       "| 615 |  0 | 1039 | -21 |\n",
       "| 615 |  0 |  833 |  -9 |\n",
       "| ... | ... | ... | ... |\n",
       "| 2123 |  -2 | 2223 | -24 |\n",
       "| 2127 |  -2 | 2314 |  -9 |\n",
       "| 2128 |  -2 | 2328 | -31 |\n",
       "| 2129 |  30 | 2230 |  -2 |\n",
       "| 2131 |  -9 | 2225 | -30 |\n",
       "| 2140 |   0 |   10 | -30 |\n",
       "| 2142 |  13 | 2250 |  11 |\n",
       "| 2145 |   0 |  115 | -25 |\n",
       "| 2147 |  10 |   30 |   3 |\n",
       "| 2149 |  -7 | 2245 | -23 |\n",
       "| 2150 |  -9 | 2250 | -16 |\n",
       "| 2159 | 194 | 2344 | 194 |\n",
       "| 2203 |  -2 | 2339 |   8 |\n",
       "| 2207 |  27 | 2257 |   7 |\n",
       "| 2211 |  72 | 2339 |  57 |\n",
       "| 2231 | -14 | 2335 | -21 |\n",
       "| 2233 |  80 |  112 |  42 |\n",
       "| 2235 | 154 |   59 | 130 |\n",
       "| 2237 |  -8 | 2345 |  -8 |\n",
       "| 2240 |  -5 | 2334 | -17 |\n",
       "| 2240 | -10 | 2347 | -20 |\n",
       "| 2241 |  -5 | 2345 | -16 |\n",
       "| 2307 |  12 | 2359 |   1 |\n",
       "| 2349 | -10 |  325 | -25 |\n",
       "|   NA |  NA |   NA |  NA |\n",
       "|   NA |  NA |   NA |  NA |\n",
       "|   NA |  NA |   NA |  NA |\n",
       "|   NA |  NA |   NA |  NA |\n",
       "|   NA |  NA |   NA |  NA |\n",
       "|   NA |  NA |   NA |  NA |\n",
       "\n"
      ],
      "text/plain": [
       "       dep_time dep_delay arr_time arr_delay\n",
       "1      517       2         830      11      \n",
       "2      533       4         850      20      \n",
       "3      542       2         923      33      \n",
       "4      544      -1        1004     -18      \n",
       "5      554      -6         812     -25      \n",
       "6      554      -4         740      12      \n",
       "7      555      -5         913      19      \n",
       "8      557      -3         709     -14      \n",
       "9      557      -3         838      -8      \n",
       "10     558      -2         753       8      \n",
       "11     558      -2         849      -2      \n",
       "12     558      -2         853      -3      \n",
       "13     558      -2         924       7      \n",
       "14     558      -2         923     -14      \n",
       "15     559      -1         941      31      \n",
       "16     559       0         702      -4      \n",
       "17     559      -1         854      -8      \n",
       "18     600       0         851      -7      \n",
       "19     600       0         837      12      \n",
       "20     601       1         844      -6      \n",
       "21     602      -8         812      -8      \n",
       "22     602      -3         821      16      \n",
       "23     606      -4         858     -12      \n",
       "24     606      -4         837      -8      \n",
       "25     607       0         858     -17      \n",
       "26     608       8         807      32      \n",
       "27     611      11         945      14      \n",
       "28     613       3         925       4      \n",
       "29     615       0        1039     -21      \n",
       "30     615       0         833      -9      \n",
       "...    ...      ...       ...      ...      \n",
       "336747 2123      -2       2223     -24      \n",
       "336748 2127      -2       2314      -9      \n",
       "336749 2128      -2       2328     -31      \n",
       "336750 2129      30       2230      -2      \n",
       "336751 2131      -9       2225     -30      \n",
       "336752 2140       0         10     -30      \n",
       "336753 2142      13       2250      11      \n",
       "336754 2145       0        115     -25      \n",
       "336755 2147      10         30       3      \n",
       "336756 2149      -7       2245     -23      \n",
       "336757 2150      -9       2250     -16      \n",
       "336758 2159     194       2344     194      \n",
       "336759 2203      -2       2339       8      \n",
       "336760 2207      27       2257       7      \n",
       "336761 2211      72       2339      57      \n",
       "336762 2231     -14       2335     -21      \n",
       "336763 2233      80        112      42      \n",
       "336764 2235     154         59     130      \n",
       "336765 2237      -8       2345      -8      \n",
       "336766 2240      -5       2334     -17      \n",
       "336767 2240     -10       2347     -20      \n",
       "336768 2241      -5       2345     -16      \n",
       "336769 2307      12       2359       1      \n",
       "336770 2349     -10        325     -25      \n",
       "336771   NA      NA         NA      NA      \n",
       "336772   NA      NA         NA      NA      \n",
       "336773   NA      NA         NA      NA      \n",
       "336774   NA      NA         NA      NA      \n",
       "336775   NA      NA         NA      NA      \n",
       "336776   NA      NA         NA      NA      "
      ]
     },
     "metadata": {},
     "output_type": "display_data"
    }
   ],
   "source": [
    "# Brainstorm as many ways as possible to select \n",
    "# dep_time, dep_delay, arr_time, and arr_delay from flights.\n",
    "\n",
    "flights %>% select(dep_time, dep_delay, arr_time, arr_delay)"
   ]
  },
  {
   "cell_type": "code",
   "execution_count": 172,
   "metadata": {
    "ExecuteTime": {
     "end_time": "2020-01-28T02:22:40.077285Z",
     "start_time": "2020-01-28T02:22:40.017Z"
    },
    "hidden": true
   },
   "outputs": [
    {
     "data": {
      "text/html": [
       "<table>\n",
       "<caption>A tibble: 6 × 1</caption>\n",
       "<thead>\n",
       "\t<tr><th scope=col>dep_time</th></tr>\n",
       "\t<tr><th scope=col>&lt;int&gt;</th></tr>\n",
       "</thead>\n",
       "<tbody>\n",
       "\t<tr><td>517</td></tr>\n",
       "\t<tr><td>533</td></tr>\n",
       "\t<tr><td>542</td></tr>\n",
       "\t<tr><td>544</td></tr>\n",
       "\t<tr><td>554</td></tr>\n",
       "\t<tr><td>554</td></tr>\n",
       "</tbody>\n",
       "</table>\n"
      ],
      "text/latex": [
       "A tibble: 6 × 1\n",
       "\\begin{tabular}{r|l}\n",
       " dep\\_time\\\\\n",
       " <int>\\\\\n",
       "\\hline\n",
       "\t 517\\\\\n",
       "\t 533\\\\\n",
       "\t 542\\\\\n",
       "\t 544\\\\\n",
       "\t 554\\\\\n",
       "\t 554\\\\\n",
       "\\end{tabular}\n"
      ],
      "text/markdown": [
       "\n",
       "A tibble: 6 × 1\n",
       "\n",
       "| dep_time &lt;int&gt; |\n",
       "|---|\n",
       "| 517 |\n",
       "| 533 |\n",
       "| 542 |\n",
       "| 544 |\n",
       "| 554 |\n",
       "| 554 |\n",
       "\n"
      ],
      "text/plain": [
       "  dep_time\n",
       "1 517     \n",
       "2 533     \n",
       "3 542     \n",
       "4 544     \n",
       "5 554     \n",
       "6 554     "
      ]
     },
     "metadata": {},
     "output_type": "display_data"
    }
   ],
   "source": [
    "# What happens if you include the name of a variable multiple times \n",
    "# in a select() call?\n",
    "\n",
    "# column only appears once instead of multiple times\n",
    "flights %>% select(dep_time, dep_time, dep_time) %>% head()"
   ]
  },
  {
   "cell_type": "code",
   "execution_count": null,
   "metadata": {
    "hidden": true
   },
   "outputs": [],
   "source": [
    "# Q: What does the one_of() function do? \n",
    "# A: Matches variable names in a character vector."
   ]
  },
  {
   "cell_type": "code",
   "execution_count": null,
   "metadata": {
    "hidden": true
   },
   "outputs": [],
   "source": [
    "# Q:Why might it be helpful in conjunction with this vector?\n",
    "\n",
    "# A:This is useful because the names of the variables can be \n",
    "# stored in a variable and passed to one_of()."
   ]
  },
  {
   "cell_type": "code",
   "execution_count": 179,
   "metadata": {
    "ExecuteTime": {
     "end_time": "2020-01-28T02:26:50.468954Z",
     "start_time": "2020-01-28T02:26:50.402Z"
    },
    "hidden": true
   },
   "outputs": [
    {
     "data": {
      "text/html": [
       "<table>\n",
       "<caption>A tibble: 6 × 5</caption>\n",
       "<thead>\n",
       "\t<tr><th scope=col>year</th><th scope=col>month</th><th scope=col>day</th><th scope=col>dep_delay</th><th scope=col>arr_delay</th></tr>\n",
       "\t<tr><th scope=col>&lt;int&gt;</th><th scope=col>&lt;int&gt;</th><th scope=col>&lt;int&gt;</th><th scope=col>&lt;dbl&gt;</th><th scope=col>&lt;dbl&gt;</th></tr>\n",
       "</thead>\n",
       "<tbody>\n",
       "\t<tr><td>2013</td><td>1</td><td>1</td><td> 2</td><td> 11</td></tr>\n",
       "\t<tr><td>2013</td><td>1</td><td>1</td><td> 4</td><td> 20</td></tr>\n",
       "\t<tr><td>2013</td><td>1</td><td>1</td><td> 2</td><td> 33</td></tr>\n",
       "\t<tr><td>2013</td><td>1</td><td>1</td><td>-1</td><td>-18</td></tr>\n",
       "\t<tr><td>2013</td><td>1</td><td>1</td><td>-6</td><td>-25</td></tr>\n",
       "\t<tr><td>2013</td><td>1</td><td>1</td><td>-4</td><td> 12</td></tr>\n",
       "</tbody>\n",
       "</table>\n"
      ],
      "text/latex": [
       "A tibble: 6 × 5\n",
       "\\begin{tabular}{r|lllll}\n",
       " year & month & day & dep\\_delay & arr\\_delay\\\\\n",
       " <int> & <int> & <int> & <dbl> & <dbl>\\\\\n",
       "\\hline\n",
       "\t 2013 & 1 & 1 &  2 &  11\\\\\n",
       "\t 2013 & 1 & 1 &  4 &  20\\\\\n",
       "\t 2013 & 1 & 1 &  2 &  33\\\\\n",
       "\t 2013 & 1 & 1 & -1 & -18\\\\\n",
       "\t 2013 & 1 & 1 & -6 & -25\\\\\n",
       "\t 2013 & 1 & 1 & -4 &  12\\\\\n",
       "\\end{tabular}\n"
      ],
      "text/markdown": [
       "\n",
       "A tibble: 6 × 5\n",
       "\n",
       "| year &lt;int&gt; | month &lt;int&gt; | day &lt;int&gt; | dep_delay &lt;dbl&gt; | arr_delay &lt;dbl&gt; |\n",
       "|---|---|---|---|---|\n",
       "| 2013 | 1 | 1 |  2 |  11 |\n",
       "| 2013 | 1 | 1 |  4 |  20 |\n",
       "| 2013 | 1 | 1 |  2 |  33 |\n",
       "| 2013 | 1 | 1 | -1 | -18 |\n",
       "| 2013 | 1 | 1 | -6 | -25 |\n",
       "| 2013 | 1 | 1 | -4 |  12 |\n",
       "\n"
      ],
      "text/plain": [
       "  year month day dep_delay arr_delay\n",
       "1 2013 1     1    2         11      \n",
       "2 2013 1     1    4         20      \n",
       "3 2013 1     1    2         33      \n",
       "4 2013 1     1   -1        -18      \n",
       "5 2013 1     1   -6        -25      \n",
       "6 2013 1     1   -4         12      "
      ]
     },
     "metadata": {},
     "output_type": "display_data"
    }
   ],
   "source": [
    "vars <- c(\"year\", \"month\", \"day\", \"dep_delay\", \"arr_delay\")\n",
    "select(flights, one_of(vars)) %>% head()"
   ]
  },
  {
   "cell_type": "code",
   "execution_count": null,
   "metadata": {
    "hidden": true
   },
   "outputs": [],
   "source": [
    "# Q:Does the result of running the following code surprise you? \n",
    "# A:yes because it's not case sensitive\n",
    "\n",
    "# Q:How do the select helpers deal with case by default? \n",
    "\n",
    "\n",
    "# Q:How can you change that default?"
   ]
  },
  {
   "cell_type": "markdown",
   "metadata": {
    "hidden": true
   },
   "source": [
    "The default behavior for `contains()` is to ignore case.\n",
    "This may or may not surprise you.\n",
    "If this behavior does not surprise you, that could be why it is the default.\n",
    "Users searching for variable names probably have a better sense of the letters\n",
    "in the variable than their capitalization.\n",
    "A second, technical, reason is that dplyr works with more than R data frames.\n",
    "It can also work with a variety of [databases](https://db.rstudio.com/dplyr/).\n",
    "Some of these database engines have case insensitive column names, so making functions that match variable names\n",
    "case insensitive by default will make the behavior of\n",
    "`select()` consistent regardless of whether the table is\n",
    "stored as an R data frame or in a database.\n",
    "\n",
    "To change the behavior add the argument `ignore.case = FALSE`."
   ]
  },
  {
   "cell_type": "code",
   "execution_count": 174,
   "metadata": {
    "ExecuteTime": {
     "end_time": "2020-01-28T02:24:51.138963Z",
     "start_time": "2020-01-28T02:24:51.077Z"
    },
    "hidden": true
   },
   "outputs": [
    {
     "data": {
      "text/html": [
       "<table>\n",
       "<caption>A tibble: 2 × 6</caption>\n",
       "<thead>\n",
       "\t<tr><th scope=col>dep_time</th><th scope=col>sched_dep_time</th><th scope=col>arr_time</th><th scope=col>sched_arr_time</th><th scope=col>air_time</th><th scope=col>time_hour</th></tr>\n",
       "\t<tr><th scope=col>&lt;int&gt;</th><th scope=col>&lt;int&gt;</th><th scope=col>&lt;int&gt;</th><th scope=col>&lt;int&gt;</th><th scope=col>&lt;dbl&gt;</th><th scope=col>&lt;dttm&gt;</th></tr>\n",
       "</thead>\n",
       "<tbody>\n",
       "\t<tr><td>517</td><td>515</td><td>830</td><td>819</td><td>227</td><td>2013-01-01 05:00:00</td></tr>\n",
       "\t<tr><td>533</td><td>529</td><td>850</td><td>830</td><td>227</td><td>2013-01-01 05:00:00</td></tr>\n",
       "</tbody>\n",
       "</table>\n"
      ],
      "text/latex": [
       "A tibble: 2 × 6\n",
       "\\begin{tabular}{r|llllll}\n",
       " dep\\_time & sched\\_dep\\_time & arr\\_time & sched\\_arr\\_time & air\\_time & time\\_hour\\\\\n",
       " <int> & <int> & <int> & <int> & <dbl> & <dttm>\\\\\n",
       "\\hline\n",
       "\t 517 & 515 & 830 & 819 & 227 & 2013-01-01 05:00:00\\\\\n",
       "\t 533 & 529 & 850 & 830 & 227 & 2013-01-01 05:00:00\\\\\n",
       "\\end{tabular}\n"
      ],
      "text/markdown": [
       "\n",
       "A tibble: 2 × 6\n",
       "\n",
       "| dep_time &lt;int&gt; | sched_dep_time &lt;int&gt; | arr_time &lt;int&gt; | sched_arr_time &lt;int&gt; | air_time &lt;dbl&gt; | time_hour &lt;dttm&gt; |\n",
       "|---|---|---|---|---|---|\n",
       "| 517 | 515 | 830 | 819 | 227 | 2013-01-01 05:00:00 |\n",
       "| 533 | 529 | 850 | 830 | 227 | 2013-01-01 05:00:00 |\n",
       "\n"
      ],
      "text/plain": [
       "  dep_time sched_dep_time arr_time sched_arr_time air_time time_hour          \n",
       "1 517      515            830      819            227      2013-01-01 05:00:00\n",
       "2 533      529            850      830            227      2013-01-01 05:00:00"
      ]
     },
     "metadata": {},
     "output_type": "display_data"
    }
   ],
   "source": [
    "select(flights, contains(\"TIME\")) %>% head(2)"
   ]
  },
  {
   "cell_type": "code",
   "execution_count": 180,
   "metadata": {
    "ExecuteTime": {
     "end_time": "2020-01-28T03:08:14.017820Z",
     "start_time": "2020-01-28T03:08:13.949Z"
    },
    "hidden": true,
    "scrolled": true
   },
   "outputs": [
    {
     "data": {
      "text/html": [
       "<table>\n",
       "<caption>A tibble: 2 × 6</caption>\n",
       "<thead>\n",
       "\t<tr><th scope=col>dep_time</th><th scope=col>sched_dep_time</th><th scope=col>arr_time</th><th scope=col>sched_arr_time</th><th scope=col>air_time</th><th scope=col>time_hour</th></tr>\n",
       "\t<tr><th scope=col>&lt;int&gt;</th><th scope=col>&lt;int&gt;</th><th scope=col>&lt;int&gt;</th><th scope=col>&lt;int&gt;</th><th scope=col>&lt;dbl&gt;</th><th scope=col>&lt;dttm&gt;</th></tr>\n",
       "</thead>\n",
       "<tbody>\n",
       "\t<tr><td>517</td><td>515</td><td>830</td><td>819</td><td>227</td><td>2013-01-01 05:00:00</td></tr>\n",
       "\t<tr><td>533</td><td>529</td><td>850</td><td>830</td><td>227</td><td>2013-01-01 05:00:00</td></tr>\n",
       "</tbody>\n",
       "</table>\n"
      ],
      "text/latex": [
       "A tibble: 2 × 6\n",
       "\\begin{tabular}{r|llllll}\n",
       " dep\\_time & sched\\_dep\\_time & arr\\_time & sched\\_arr\\_time & air\\_time & time\\_hour\\\\\n",
       " <int> & <int> & <int> & <int> & <dbl> & <dttm>\\\\\n",
       "\\hline\n",
       "\t 517 & 515 & 830 & 819 & 227 & 2013-01-01 05:00:00\\\\\n",
       "\t 533 & 529 & 850 & 830 & 227 & 2013-01-01 05:00:00\\\\\n",
       "\\end{tabular}\n"
      ],
      "text/markdown": [
       "\n",
       "A tibble: 2 × 6\n",
       "\n",
       "| dep_time &lt;int&gt; | sched_dep_time &lt;int&gt; | arr_time &lt;int&gt; | sched_arr_time &lt;int&gt; | air_time &lt;dbl&gt; | time_hour &lt;dttm&gt; |\n",
       "|---|---|---|---|---|---|\n",
       "| 517 | 515 | 830 | 819 | 227 | 2013-01-01 05:00:00 |\n",
       "| 533 | 529 | 850 | 830 | 227 | 2013-01-01 05:00:00 |\n",
       "\n"
      ],
      "text/plain": [
       "  dep_time sched_dep_time arr_time sched_arr_time air_time time_hour          \n",
       "1 517      515            830      819            227      2013-01-01 05:00:00\n",
       "2 533      529            850      830            227      2013-01-01 05:00:00"
      ]
     },
     "metadata": {},
     "output_type": "display_data"
    }
   ],
   "source": [
    "select(flights, contains(\"time\")) %>% head(2)"
   ]
  },
  {
   "cell_type": "markdown",
   "metadata": {
    "heading_collapsed": true
   },
   "source": [
    "## Mutate\n"
   ]
  },
  {
   "cell_type": "markdown",
   "metadata": {
    "hidden": true
   },
   "source": [
    "Besides selecting sets of existing columns, it’s often useful to add new columns that are functions of existing columns. That’s the job of `mutate()`.\n",
    "\n",
    "`mutate()` always adds new columns at the end of your dataset so we’ll start by creating a narrower dataset so we can see the new variables. Remember that when you’re in RStudio, the easiest way to see all the columns is `View()`.\n"
   ]
  },
  {
   "cell_type": "markdown",
   "metadata": {
    "hidden": true
   },
   "source": [
    "If you only want to keep the new variables, use `transmute()`:"
   ]
  },
  {
   "cell_type": "code",
   "execution_count": 182,
   "metadata": {
    "ExecuteTime": {
     "end_time": "2020-01-28T05:55:45.680064Z",
     "start_time": "2020-01-28T05:55:45.575Z"
    },
    "hidden": true
   },
   "outputs": [
    {
     "data": {
      "text/html": [
       "<table>\n",
       "<caption>A tibble: 6 × 3</caption>\n",
       "<thead>\n",
       "\t<tr><th scope=col>gain</th><th scope=col>hours</th><th scope=col>gain_per_hour</th></tr>\n",
       "\t<tr><th scope=col>&lt;dbl&gt;</th><th scope=col>&lt;dbl&gt;</th><th scope=col>&lt;dbl&gt;</th></tr>\n",
       "</thead>\n",
       "<tbody>\n",
       "\t<tr><td> -9</td><td>3.783333</td><td> -2.378855</td></tr>\n",
       "\t<tr><td>-16</td><td>3.783333</td><td> -4.229075</td></tr>\n",
       "\t<tr><td>-31</td><td>2.666667</td><td>-11.625000</td></tr>\n",
       "\t<tr><td> 17</td><td>3.050000</td><td>  5.573770</td></tr>\n",
       "\t<tr><td> 19</td><td>1.933333</td><td>  9.827586</td></tr>\n",
       "\t<tr><td>-16</td><td>2.500000</td><td> -6.400000</td></tr>\n",
       "</tbody>\n",
       "</table>\n"
      ],
      "text/latex": [
       "A tibble: 6 × 3\n",
       "\\begin{tabular}{r|lll}\n",
       " gain & hours & gain\\_per\\_hour\\\\\n",
       " <dbl> & <dbl> & <dbl>\\\\\n",
       "\\hline\n",
       "\t  -9 & 3.783333 &  -2.378855\\\\\n",
       "\t -16 & 3.783333 &  -4.229075\\\\\n",
       "\t -31 & 2.666667 & -11.625000\\\\\n",
       "\t  17 & 3.050000 &   5.573770\\\\\n",
       "\t  19 & 1.933333 &   9.827586\\\\\n",
       "\t -16 & 2.500000 &  -6.400000\\\\\n",
       "\\end{tabular}\n"
      ],
      "text/markdown": [
       "\n",
       "A tibble: 6 × 3\n",
       "\n",
       "| gain &lt;dbl&gt; | hours &lt;dbl&gt; | gain_per_hour &lt;dbl&gt; |\n",
       "|---|---|---|\n",
       "|  -9 | 3.783333 |  -2.378855 |\n",
       "| -16 | 3.783333 |  -4.229075 |\n",
       "| -31 | 2.666667 | -11.625000 |\n",
       "|  17 | 3.050000 |   5.573770 |\n",
       "|  19 | 1.933333 |   9.827586 |\n",
       "| -16 | 2.500000 |  -6.400000 |\n",
       "\n"
      ],
      "text/plain": [
       "  gain hours    gain_per_hour\n",
       "1  -9  3.783333  -2.378855   \n",
       "2 -16  3.783333  -4.229075   \n",
       "3 -31  2.666667 -11.625000   \n",
       "4  17  3.050000   5.573770   \n",
       "5  19  1.933333   9.827586   \n",
       "6 -16  2.500000  -6.400000   "
      ]
     },
     "metadata": {},
     "output_type": "display_data"
    }
   ],
   "source": [
    "transmute(flights,\n",
    "  gain = dep_delay - arr_delay,\n",
    "  hours = air_time / 60,\n",
    "  gain_per_hour = gain / hours\n",
    ") %>% head()\n"
   ]
  },
  {
   "cell_type": "markdown",
   "metadata": {
    "heading_collapsed": true,
    "hidden": true
   },
   "source": [
    "### Useful creation functions (incl. window fns)"
   ]
  },
  {
   "cell_type": "markdown",
   "metadata": {
    "hidden": true
   },
   "source": [
    "<b><font color = 'purple'>There are many functions for creating new variables that you can use with  </font></b>`mutate()`. <font color = 'blue'><b>The key property is that the function must be vectorised</b></font>: it must take a vector of values as input, return a vector with the same number of values as output. <font color = 'lightgrey'>There’s no way to list every possible function that you might use, but here’s a selection of functions that are frequently useful:</font>\n",
    "\n",
    "* <font color = 'green'><b>Arithmetic operators</b></font>: `+`, `-`, `*`, `/`, `^`. These are all vectorised,\n",
    "    using the so called “recycling rules”. If one parameter is shorter than\n",
    "    the other, it will be automatically extended to be the same length. This\n",
    "    is most useful when one of the arguments is a single number: `air_time / 60`,\n",
    "    `hours * 60 + minute`, etc.\n",
    "\n",
    "    Arithmetic operators are also useful in conjunction with the aggregate\n",
    "    functions you’ll learn about later. For example, `x / sum(x)` calculates\n",
    "    the proportion of a total, and `y - mean(y)` computes the difference from\n",
    "    the mean.\n",
    "    \n",
    "\n",
    "* <font color = 'green'><b>Modular arithmetic</b></font>: `%/%` (integer division, quotient) and `%%` (remainder), where\n",
    "    `x == y * (x %/% y) + (x %% y)`. Modular arithmetic is a handy tool because\n",
    "    it allows you to break integers up into pieces. For example, in the\n",
    "    flights dataset, you can compute `hour` and `minute` from `dep_time` with:"
   ]
  },
  {
   "cell_type": "code",
   "execution_count": 184,
   "metadata": {
    "ExecuteTime": {
     "end_time": "2020-01-28T06:24:49.235759Z",
     "start_time": "2020-01-28T06:24:49.134Z"
    },
    "code_folding": [
     0
    ],
    "collapsed": true,
    "hidden": true,
    "jupyter": {
     "outputs_hidden": true
    }
   },
   "outputs": [
    {
     "data": {
      "text/html": [
       "<table>\n",
       "<caption>A tibble: 6 × 3</caption>\n",
       "<thead>\n",
       "\t<tr><th scope=col>dep_time</th><th scope=col>hour</th><th scope=col>minute</th></tr>\n",
       "\t<tr><th scope=col>&lt;int&gt;</th><th scope=col>&lt;dbl&gt;</th><th scope=col>&lt;dbl&gt;</th></tr>\n",
       "</thead>\n",
       "<tbody>\n",
       "\t<tr><td>517</td><td>5</td><td>17</td></tr>\n",
       "\t<tr><td>533</td><td>5</td><td>33</td></tr>\n",
       "\t<tr><td>542</td><td>5</td><td>42</td></tr>\n",
       "\t<tr><td>544</td><td>5</td><td>44</td></tr>\n",
       "\t<tr><td>554</td><td>5</td><td>54</td></tr>\n",
       "\t<tr><td>554</td><td>5</td><td>54</td></tr>\n",
       "</tbody>\n",
       "</table>\n"
      ],
      "text/latex": [
       "A tibble: 6 × 3\n",
       "\\begin{tabular}{r|lll}\n",
       " dep\\_time & hour & minute\\\\\n",
       " <int> & <dbl> & <dbl>\\\\\n",
       "\\hline\n",
       "\t 517 & 5 & 17\\\\\n",
       "\t 533 & 5 & 33\\\\\n",
       "\t 542 & 5 & 42\\\\\n",
       "\t 544 & 5 & 44\\\\\n",
       "\t 554 & 5 & 54\\\\\n",
       "\t 554 & 5 & 54\\\\\n",
       "\\end{tabular}\n"
      ],
      "text/markdown": [
       "\n",
       "A tibble: 6 × 3\n",
       "\n",
       "| dep_time &lt;int&gt; | hour &lt;dbl&gt; | minute &lt;dbl&gt; |\n",
       "|---|---|---|\n",
       "| 517 | 5 | 17 |\n",
       "| 533 | 5 | 33 |\n",
       "| 542 | 5 | 42 |\n",
       "| 544 | 5 | 44 |\n",
       "| 554 | 5 | 54 |\n",
       "| 554 | 5 | 54 |\n",
       "\n"
      ],
      "text/plain": [
       "  dep_time hour minute\n",
       "1 517      5    17    \n",
       "2 533      5    33    \n",
       "3 542      5    42    \n",
       "4 544      5    44    \n",
       "5 554      5    54    \n",
       "6 554      5    54    "
      ]
     },
     "metadata": {},
     "output_type": "display_data"
    }
   ],
   "source": [
    "# %/% (integer division, quotient) and %% (remainder),\n",
    "transmute(flights,\n",
    "  dep_time,\n",
    "  hour = dep_time %/% 100,\n",
    "  minute = dep_time %% 100\n",
    ") %>% head()"
   ]
  },
  {
   "cell_type": "markdown",
   "metadata": {
    "hidden": true
   },
   "source": [
    "1.  <font color = 'green'><b>Logs</b></font>: `log()`, `log2()`, `log10()`. Logarithms are an incredibly useful <font color = 'blue'><b> transformation for dealing with data that ranges across multiple orders of magnitude</b></font>. They also <font color = 'blue'><b>convert multiplicative relationships to additive</b></font>, a   feature we’ll come back to in modelling.\n",
    "\n",
    "    All else being equal, I recommend using `log2()` because it’s easy to   interpret: a difference of 1 on the log scale corresponds to doubling on   the original scale and a difference of -1 corresponds to halving.\n",
    "\n",
    "\n",
    "2.  <font color = 'green'><b>Offsets</b></font>: `lead()` and `lag()` allow you to refer to leading or lagging   values. \n",
    "\n",
    "    This allows you to compute running differences (e.g. `x - lag(x)`)   or find when values change (`x != lag(x)`). They are most useful in   conjunction with `group_by()`, which you’ll learn about shortly."
   ]
  },
  {
   "cell_type": "code",
   "execution_count": 35,
   "metadata": {
    "ExecuteTime": {
     "end_time": "2020-01-28T17:42:52.351124Z",
     "start_time": "2020-01-28T17:42:52.283Z"
    },
    "code_folding": [
     0
    ],
    "collapsed": true,
    "hidden": true,
    "jupyter": {
     "outputs_hidden": true
    }
   },
   "outputs": [
    {
     "data": {
      "text/html": [
       "<ol class=list-inline>\n",
       "\t<li>1</li>\n",
       "\t<li>2</li>\n",
       "\t<li>3</li>\n",
       "\t<li>4</li>\n",
       "\t<li>5</li>\n",
       "\t<li>6</li>\n",
       "\t<li>7</li>\n",
       "\t<li>8</li>\n",
       "\t<li>9</li>\n",
       "\t<li>10</li>\n",
       "</ol>\n"
      ],
      "text/latex": [
       "\\begin{enumerate*}\n",
       "\\item 1\n",
       "\\item 2\n",
       "\\item 3\n",
       "\\item 4\n",
       "\\item 5\n",
       "\\item 6\n",
       "\\item 7\n",
       "\\item 8\n",
       "\\item 9\n",
       "\\item 10\n",
       "\\end{enumerate*}\n"
      ],
      "text/markdown": [
       "1. 1\n",
       "2. 2\n",
       "3. 3\n",
       "4. 4\n",
       "5. 5\n",
       "6. 6\n",
       "7. 7\n",
       "8. 8\n",
       "9. 9\n",
       "10. 10\n",
       "\n",
       "\n"
      ],
      "text/plain": [
       " [1]  1  2  3  4  5  6  7  8  9 10"
      ]
     },
     "metadata": {},
     "output_type": "display_data"
    },
    {
     "data": {
      "text/html": [
       "<ol class=list-inline>\n",
       "\t<li>&lt;NA&gt;</li>\n",
       "\t<li>1</li>\n",
       "\t<li>2</li>\n",
       "\t<li>3</li>\n",
       "\t<li>4</li>\n",
       "\t<li>5</li>\n",
       "\t<li>6</li>\n",
       "\t<li>7</li>\n",
       "\t<li>8</li>\n",
       "\t<li>9</li>\n",
       "</ol>\n"
      ],
      "text/latex": [
       "\\begin{enumerate*}\n",
       "\\item <NA>\n",
       "\\item 1\n",
       "\\item 2\n",
       "\\item 3\n",
       "\\item 4\n",
       "\\item 5\n",
       "\\item 6\n",
       "\\item 7\n",
       "\\item 8\n",
       "\\item 9\n",
       "\\end{enumerate*}\n"
      ],
      "text/markdown": [
       "1. &lt;NA&gt;\n",
       "2. 1\n",
       "3. 2\n",
       "4. 3\n",
       "5. 4\n",
       "6. 5\n",
       "7. 6\n",
       "8. 7\n",
       "9. 8\n",
       "10. 9\n",
       "\n",
       "\n"
      ],
      "text/plain": [
       " [1] NA  1  2  3  4  5  6  7  8  9"
      ]
     },
     "metadata": {},
     "output_type": "display_data"
    },
    {
     "data": {
      "text/html": [
       "<ol class=list-inline>\n",
       "\t<li>2</li>\n",
       "\t<li>3</li>\n",
       "\t<li>4</li>\n",
       "\t<li>5</li>\n",
       "\t<li>6</li>\n",
       "\t<li>7</li>\n",
       "\t<li>8</li>\n",
       "\t<li>9</li>\n",
       "\t<li>10</li>\n",
       "\t<li>&lt;NA&gt;</li>\n",
       "</ol>\n"
      ],
      "text/latex": [
       "\\begin{enumerate*}\n",
       "\\item 2\n",
       "\\item 3\n",
       "\\item 4\n",
       "\\item 5\n",
       "\\item 6\n",
       "\\item 7\n",
       "\\item 8\n",
       "\\item 9\n",
       "\\item 10\n",
       "\\item <NA>\n",
       "\\end{enumerate*}\n"
      ],
      "text/markdown": [
       "1. 2\n",
       "2. 3\n",
       "3. 4\n",
       "4. 5\n",
       "5. 6\n",
       "6. 7\n",
       "7. 8\n",
       "8. 9\n",
       "9. 10\n",
       "10. &lt;NA&gt;\n",
       "\n",
       "\n"
      ],
      "text/plain": [
       " [1]  2  3  4  5  6  7  8  9 10 NA"
      ]
     },
     "metadata": {},
     "output_type": "display_data"
    }
   ],
   "source": [
    "# lead/lag eg.\n",
    "(x <- 1:10)\n",
    "lag(x)\n",
    "lead(x)"
   ]
  },
  {
   "cell_type": "markdown",
   "metadata": {
    "hidden": true
   },
   "source": [
    "<font color = 'green'><b>Cumulative and rolling aggregates</b></font>: R provides functions for running sums,\n",
    "products, mins and maxes: `cumsum()`, `cumprod()`, `cummin()`, `cummax()`;\n",
    "and dplyr provides `cummean()` for cumulative means. If you need rolling\n",
    "aggregates (i.e. a sum computed over a rolling window), try the RcppRoll\n",
    "package.\n"
   ]
  },
  {
   "cell_type": "code",
   "execution_count": 192,
   "metadata": {
    "ExecuteTime": {
     "end_time": "2020-01-28T06:34:30.106862Z",
     "start_time": "2020-01-28T06:34:30.056Z"
    },
    "code_folding": [
     0
    ],
    "collapsed": true,
    "hidden": true,
    "jupyter": {
     "outputs_hidden": true
    }
   },
   "outputs": [
    {
     "data": {
      "text/html": [
       "<ol class=list-inline>\n",
       "\t<li>1</li>\n",
       "\t<li>2</li>\n",
       "\t<li>3</li>\n",
       "\t<li>4</li>\n",
       "\t<li>5</li>\n",
       "\t<li>6</li>\n",
       "\t<li>7</li>\n",
       "\t<li>8</li>\n",
       "\t<li>9</li>\n",
       "\t<li>10</li>\n",
       "</ol>\n"
      ],
      "text/latex": [
       "\\begin{enumerate*}\n",
       "\\item 1\n",
       "\\item 2\n",
       "\\item 3\n",
       "\\item 4\n",
       "\\item 5\n",
       "\\item 6\n",
       "\\item 7\n",
       "\\item 8\n",
       "\\item 9\n",
       "\\item 10\n",
       "\\end{enumerate*}\n"
      ],
      "text/markdown": [
       "1. 1\n",
       "2. 2\n",
       "3. 3\n",
       "4. 4\n",
       "5. 5\n",
       "6. 6\n",
       "7. 7\n",
       "8. 8\n",
       "9. 9\n",
       "10. 10\n",
       "\n",
       "\n"
      ],
      "text/plain": [
       " [1]  1  2  3  4  5  6  7  8  9 10"
      ]
     },
     "metadata": {},
     "output_type": "display_data"
    }
   ],
   "source": [
    "# cumulative and rolling aggregates eg.\n",
    "x\n",
    "#>  [1]  1  2  3  4  5  6  7  8  9 10\n",
    "\n",
    "cumsum(x)\n",
    "#>  [1]  1  3  6 10 15 21 28 36 45 55\n",
    "\n",
    "cummean(x)\n",
    "#>  [1] 1.0 1.5 2.0 2.5 3.0 3.5 4.0 4.5 5.0 5.5"
   ]
  },
  {
   "cell_type": "markdown",
   "metadata": {
    "hidden": true
   },
   "source": [
    "*  <font color = 'green'><b>Logical comparisons</b></font>, `<`, `<=`, `>`, `>=`, `!=`, and `==`, which you learned about\n",
    "    earlier. If you’re doing a complex sequence of logical operations it’s\n",
    "    often a good idea to store the interim values in new variables so you can\n",
    "    check that each step is working as expected.\n",
    "\n",
    "\n",
    "*  <font color = 'green'><b>Ranking</b></font>: there are a number of ranking functions, but you should\n",
    "    start with `min_rank()`. It does the most usual type of ranking\n",
    "    (e.g. 1st, 2nd, 2nd, 4th). The default gives smallest values the small\n",
    "    ranks; use `desc(x)` to give the largest values the smallest ranks."
   ]
  },
  {
   "cell_type": "markdown",
   "metadata": {
    "hidden": true
   },
   "source": [
    "If `min_rank()` doesn’t do what you need, look at the variants\n",
    "`row_number()`, `dense_rank()`, `percent_rank()`, `cume_dist()`,\n",
    "`ntile()`. See their help pages for more details."
   ]
  },
  {
   "cell_type": "code",
   "execution_count": 198,
   "metadata": {
    "ExecuteTime": {
     "end_time": "2020-01-28T06:38:33.960005Z",
     "start_time": "2020-01-28T06:38:33.877Z"
    },
    "code_folding": [
     0
    ],
    "collapsed": true,
    "hidden": true,
    "jupyter": {
     "outputs_hidden": true
    }
   },
   "outputs": [
    {
     "data": {
      "text/html": [
       "<ol class=list-inline>\n",
       "\t<li>1</li>\n",
       "\t<li>2</li>\n",
       "\t<li>3</li>\n",
       "\t<li>&lt;NA&gt;</li>\n",
       "\t<li>4</li>\n",
       "\t<li>5</li>\n",
       "</ol>\n"
      ],
      "text/latex": [
       "\\begin{enumerate*}\n",
       "\\item 1\n",
       "\\item 2\n",
       "\\item 3\n",
       "\\item <NA>\n",
       "\\item 4\n",
       "\\item 5\n",
       "\\end{enumerate*}\n"
      ],
      "text/markdown": [
       "1. 1\n",
       "2. 2\n",
       "3. 3\n",
       "4. &lt;NA&gt;\n",
       "5. 4\n",
       "6. 5\n",
       "\n",
       "\n"
      ],
      "text/plain": [
       "[1]  1  2  3 NA  4  5"
      ]
     },
     "metadata": {},
     "output_type": "display_data"
    },
    {
     "data": {
      "text/html": [
       "<ol class=list-inline>\n",
       "\t<li>1</li>\n",
       "\t<li>2</li>\n",
       "\t<li>2</li>\n",
       "\t<li>&lt;NA&gt;</li>\n",
       "\t<li>3</li>\n",
       "\t<li>4</li>\n",
       "</ol>\n"
      ],
      "text/latex": [
       "\\begin{enumerate*}\n",
       "\\item 1\n",
       "\\item 2\n",
       "\\item 2\n",
       "\\item <NA>\n",
       "\\item 3\n",
       "\\item 4\n",
       "\\end{enumerate*}\n"
      ],
      "text/markdown": [
       "1. 1\n",
       "2. 2\n",
       "3. 2\n",
       "4. &lt;NA&gt;\n",
       "5. 3\n",
       "6. 4\n",
       "\n",
       "\n"
      ],
      "text/plain": [
       "[1]  1  2  2 NA  3  4"
      ]
     },
     "metadata": {},
     "output_type": "display_data"
    },
    {
     "data": {
      "text/html": [
       "<ol class=list-inline>\n",
       "\t<li>0</li>\n",
       "\t<li>0.25</li>\n",
       "\t<li>0.25</li>\n",
       "\t<li>&lt;NA&gt;</li>\n",
       "\t<li>0.75</li>\n",
       "\t<li>1</li>\n",
       "</ol>\n"
      ],
      "text/latex": [
       "\\begin{enumerate*}\n",
       "\\item 0\n",
       "\\item 0.25\n",
       "\\item 0.25\n",
       "\\item <NA>\n",
       "\\item 0.75\n",
       "\\item 1\n",
       "\\end{enumerate*}\n"
      ],
      "text/markdown": [
       "1. 0\n",
       "2. 0.25\n",
       "3. 0.25\n",
       "4. &lt;NA&gt;\n",
       "5. 0.75\n",
       "6. 1\n",
       "\n",
       "\n"
      ],
      "text/plain": [
       "[1] 0.00 0.25 0.25   NA 0.75 1.00"
      ]
     },
     "metadata": {},
     "output_type": "display_data"
    },
    {
     "data": {
      "text/html": [
       "<ol class=list-inline>\n",
       "\t<li>0.2</li>\n",
       "\t<li>0.6</li>\n",
       "\t<li>0.6</li>\n",
       "\t<li>&lt;NA&gt;</li>\n",
       "\t<li>0.8</li>\n",
       "\t<li>1</li>\n",
       "</ol>\n"
      ],
      "text/latex": [
       "\\begin{enumerate*}\n",
       "\\item 0.2\n",
       "\\item 0.6\n",
       "\\item 0.6\n",
       "\\item <NA>\n",
       "\\item 0.8\n",
       "\\item 1\n",
       "\\end{enumerate*}\n"
      ],
      "text/markdown": [
       "1. 0.2\n",
       "2. 0.6\n",
       "3. 0.6\n",
       "4. &lt;NA&gt;\n",
       "5. 0.8\n",
       "6. 1\n",
       "\n",
       "\n"
      ],
      "text/plain": [
       "[1] 0.2 0.6 0.6  NA 0.8 1.0"
      ]
     },
     "metadata": {},
     "output_type": "display_data"
    }
   ],
   "source": [
    "# Rank eg.\n",
    "row_number(y)\n",
    "#> [1]  1  2  3 NA  4  5\n",
    "dense_rank(y)\n",
    "#> [1]  1  2  2 NA  3  4\n",
    "percent_rank(y)\n",
    "#> [1] 0.00 0.25 0.25   NA 0.75 1.00\n",
    "cume_dist(y)\n",
    "#> [1] 0.2 0.6 0.6  NA 0.8 1.0"
   ]
  },
  {
   "cell_type": "markdown",
   "metadata": {
    "heading_collapsed": true,
    "hidden": true
   },
   "source": [
    "### Exercises"
   ]
  },
  {
   "cell_type": "markdown",
   "metadata": {
    "heading_collapsed": true,
    "hidden": true
   },
   "source": [
    "###### 1. Currently `dep_time` and `sched_dep_time` are convenient to look at, but   hard to compute with because they’re not really continuous numbers.   Convert them to a more convenient representation of number of minutes   since midnight."
   ]
  },
  {
   "cell_type": "code",
   "execution_count": 199,
   "metadata": {
    "ExecuteTime": {
     "end_time": "2020-01-28T06:42:17.867259Z",
     "start_time": "2020-01-28T06:42:17.784Z"
    },
    "hidden": true
   },
   "outputs": [
    {
     "name": "stdout",
     "output_type": "stream",
     "text": [
      "Observations: 336,776\n",
      "Variables: 19\n",
      "$ year           \u001b[3m\u001b[90m<int>\u001b[39m\u001b[23m 2013, 2013, 2013, 2013, 2013, 2013, 2013, 2013, 2013...\n",
      "$ month          \u001b[3m\u001b[90m<int>\u001b[39m\u001b[23m 1, 1, 1, 1, 1, 1, 1, 1, 1, 1, 1, 1, 1, 1, 1, 1, 1, 1...\n",
      "$ day            \u001b[3m\u001b[90m<int>\u001b[39m\u001b[23m 1, 1, 1, 1, 1, 1, 1, 1, 1, 1, 1, 1, 1, 1, 1, 1, 1, 1...\n",
      "$ dep_time       \u001b[3m\u001b[90m<int>\u001b[39m\u001b[23m 517, 533, 542, 544, 554, 554, 555, 557, 557, 558, 55...\n",
      "$ sched_dep_time \u001b[3m\u001b[90m<int>\u001b[39m\u001b[23m 515, 529, 540, 545, 600, 558, 600, 600, 600, 600, 60...\n",
      "$ dep_delay      \u001b[3m\u001b[90m<dbl>\u001b[39m\u001b[23m 2, 4, 2, -1, -6, -4, -5, -3, -3, -2, -2, -2, -2, -2,...\n",
      "$ arr_time       \u001b[3m\u001b[90m<int>\u001b[39m\u001b[23m 830, 850, 923, 1004, 812, 740, 913, 709, 838, 753, 8...\n",
      "$ sched_arr_time \u001b[3m\u001b[90m<int>\u001b[39m\u001b[23m 819, 830, 850, 1022, 837, 728, 854, 723, 846, 745, 8...\n",
      "$ arr_delay      \u001b[3m\u001b[90m<dbl>\u001b[39m\u001b[23m 11, 20, 33, -18, -25, 12, 19, -14, -8, 8, -2, -3, 7,...\n",
      "$ carrier        \u001b[3m\u001b[90m<chr>\u001b[39m\u001b[23m \"UA\", \"UA\", \"AA\", \"B6\", \"DL\", \"UA\", \"B6\", \"EV\", \"B6\"...\n",
      "$ flight         \u001b[3m\u001b[90m<int>\u001b[39m\u001b[23m 1545, 1714, 1141, 725, 461, 1696, 507, 5708, 79, 301...\n",
      "$ tailnum        \u001b[3m\u001b[90m<chr>\u001b[39m\u001b[23m \"N14228\", \"N24211\", \"N619AA\", \"N804JB\", \"N668DN\", \"N...\n",
      "$ origin         \u001b[3m\u001b[90m<chr>\u001b[39m\u001b[23m \"EWR\", \"LGA\", \"JFK\", \"JFK\", \"LGA\", \"EWR\", \"EWR\", \"LG...\n",
      "$ dest           \u001b[3m\u001b[90m<chr>\u001b[39m\u001b[23m \"IAH\", \"IAH\", \"MIA\", \"BQN\", \"ATL\", \"ORD\", \"FLL\", \"IA...\n",
      "$ air_time       \u001b[3m\u001b[90m<dbl>\u001b[39m\u001b[23m 227, 227, 160, 183, 116, 150, 158, 53, 140, 138, 149...\n",
      "$ distance       \u001b[3m\u001b[90m<dbl>\u001b[39m\u001b[23m 1400, 1416, 1089, 1576, 762, 719, 1065, 229, 944, 73...\n",
      "$ hour           \u001b[3m\u001b[90m<dbl>\u001b[39m\u001b[23m 5, 5, 5, 5, 6, 5, 6, 6, 6, 6, 6, 6, 6, 6, 6, 5, 6, 6...\n",
      "$ minute         \u001b[3m\u001b[90m<dbl>\u001b[39m\u001b[23m 15, 29, 40, 45, 0, 58, 0, 0, 0, 0, 0, 0, 0, 0, 0, 59...\n",
      "$ time_hour      \u001b[3m\u001b[90m<dttm>\u001b[39m\u001b[23m 2013-01-01 05:00:00, 2013-01-01 05:00:00, 2013-01-0...\n"
     ]
    }
   ],
   "source": [
    "flights %>% glimpse()"
   ]
  },
  {
   "cell_type": "code",
   "execution_count": 205,
   "metadata": {
    "ExecuteTime": {
     "end_time": "2020-01-28T07:09:35.674358Z",
     "start_time": "2020-01-28T07:09:35.528Z"
    },
    "collapsed": true,
    "hidden": true,
    "jupyter": {
     "outputs_hidden": true
    }
   },
   "outputs": [
    {
     "data": {
      "text/html": [
       "<table>\n",
       "<caption>A tibble: 6 × 23</caption>\n",
       "<thead>\n",
       "\t<tr><th scope=col>year</th><th scope=col>month</th><th scope=col>day</th><th scope=col>dep_time</th><th scope=col>sched_dep_time</th><th scope=col>dep_delay</th><th scope=col>arr_time</th><th scope=col>sched_arr_time</th><th scope=col>arr_delay</th><th scope=col>carrier</th><th scope=col>...</th><th scope=col>dest</th><th scope=col>air_time</th><th scope=col>distance</th><th scope=col>hour</th><th scope=col>minute</th><th scope=col>time_hour</th><th scope=col>hr</th><th scope=col>min</th><th scope=col>dep_time_min</th><th scope=col>sched_dep_time_min</th></tr>\n",
       "\t<tr><th scope=col>&lt;int&gt;</th><th scope=col>&lt;int&gt;</th><th scope=col>&lt;int&gt;</th><th scope=col>&lt;int&gt;</th><th scope=col>&lt;int&gt;</th><th scope=col>&lt;dbl&gt;</th><th scope=col>&lt;int&gt;</th><th scope=col>&lt;int&gt;</th><th scope=col>&lt;dbl&gt;</th><th scope=col>&lt;chr&gt;</th><th scope=col>...</th><th scope=col>&lt;chr&gt;</th><th scope=col>&lt;dbl&gt;</th><th scope=col>&lt;dbl&gt;</th><th scope=col>&lt;dbl&gt;</th><th scope=col>&lt;dbl&gt;</th><th scope=col>&lt;dttm&gt;</th><th scope=col>&lt;dbl&gt;</th><th scope=col>&lt;dbl&gt;</th><th scope=col>&lt;dbl&gt;</th><th scope=col>&lt;dbl&gt;</th></tr>\n",
       "</thead>\n",
       "<tbody>\n",
       "\t<tr><td>2013</td><td>1</td><td>1</td><td>517</td><td>515</td><td> 2</td><td> 830</td><td> 819</td><td> 11</td><td>UA</td><td>...</td><td>IAH</td><td>227</td><td>1400</td><td>5</td><td>15</td><td>2013-01-01 05:00:00</td><td>5</td><td>15</td><td>317</td><td>315</td></tr>\n",
       "\t<tr><td>2013</td><td>1</td><td>1</td><td>533</td><td>529</td><td> 4</td><td> 850</td><td> 830</td><td> 20</td><td>UA</td><td>...</td><td>IAH</td><td>227</td><td>1416</td><td>5</td><td>29</td><td>2013-01-01 05:00:00</td><td>5</td><td>29</td><td>333</td><td>329</td></tr>\n",
       "\t<tr><td>2013</td><td>1</td><td>1</td><td>542</td><td>540</td><td> 2</td><td> 923</td><td> 850</td><td> 33</td><td>AA</td><td>...</td><td>MIA</td><td>160</td><td>1089</td><td>5</td><td>40</td><td>2013-01-01 05:00:00</td><td>5</td><td>40</td><td>342</td><td>340</td></tr>\n",
       "\t<tr><td>2013</td><td>1</td><td>1</td><td>544</td><td>545</td><td>-1</td><td>1004</td><td>1022</td><td>-18</td><td>B6</td><td>...</td><td>BQN</td><td>183</td><td>1576</td><td>5</td><td>45</td><td>2013-01-01 05:00:00</td><td>5</td><td>45</td><td>344</td><td>345</td></tr>\n",
       "\t<tr><td>2013</td><td>1</td><td>1</td><td>554</td><td>600</td><td>-6</td><td> 812</td><td> 837</td><td>-25</td><td>DL</td><td>...</td><td>ATL</td><td>116</td><td> 762</td><td>6</td><td> 0</td><td>2013-01-01 06:00:00</td><td>6</td><td> 0</td><td>354</td><td>360</td></tr>\n",
       "\t<tr><td>2013</td><td>1</td><td>1</td><td>554</td><td>558</td><td>-4</td><td> 740</td><td> 728</td><td> 12</td><td>UA</td><td>...</td><td>ORD</td><td>150</td><td> 719</td><td>5</td><td>58</td><td>2013-01-01 05:00:00</td><td>5</td><td>58</td><td>354</td><td>358</td></tr>\n",
       "</tbody>\n",
       "</table>\n"
      ],
      "text/latex": [
       "A tibble: 6 × 23\n",
       "\\begin{tabular}{r|lllllllllllllllllllllll}\n",
       " year & month & day & dep\\_time & sched\\_dep\\_time & dep\\_delay & arr\\_time & sched\\_arr\\_time & arr\\_delay & carrier & flight & tailnum & origin & dest & air\\_time & distance & hour & minute & time\\_hour & hr & min & dep\\_time\\_min & sched\\_dep\\_time\\_min\\\\\n",
       " <int> & <int> & <int> & <int> & <int> & <dbl> & <int> & <int> & <dbl> & <chr> & <int> & <chr> & <chr> & <chr> & <dbl> & <dbl> & <dbl> & <dbl> & <dttm> & <dbl> & <dbl> & <dbl> & <dbl>\\\\\n",
       "\\hline\n",
       "\t 2013 & 1 & 1 & 517 & 515 &  2 &  830 &  819 &  11 & UA & 1545 & N14228 & EWR & IAH & 227 & 1400 & 5 & 15 & 2013-01-01 05:00:00 & 5 & 15 & 317 & 315\\\\\n",
       "\t 2013 & 1 & 1 & 533 & 529 &  4 &  850 &  830 &  20 & UA & 1714 & N24211 & LGA & IAH & 227 & 1416 & 5 & 29 & 2013-01-01 05:00:00 & 5 & 29 & 333 & 329\\\\\n",
       "\t 2013 & 1 & 1 & 542 & 540 &  2 &  923 &  850 &  33 & AA & 1141 & N619AA & JFK & MIA & 160 & 1089 & 5 & 40 & 2013-01-01 05:00:00 & 5 & 40 & 342 & 340\\\\\n",
       "\t 2013 & 1 & 1 & 544 & 545 & -1 & 1004 & 1022 & -18 & B6 &  725 & N804JB & JFK & BQN & 183 & 1576 & 5 & 45 & 2013-01-01 05:00:00 & 5 & 45 & 344 & 345\\\\\n",
       "\t 2013 & 1 & 1 & 554 & 600 & -6 &  812 &  837 & -25 & DL &  461 & N668DN & LGA & ATL & 116 &  762 & 6 &  0 & 2013-01-01 06:00:00 & 6 &  0 & 354 & 360\\\\\n",
       "\t 2013 & 1 & 1 & 554 & 558 & -4 &  740 &  728 &  12 & UA & 1696 & N39463 & EWR & ORD & 150 &  719 & 5 & 58 & 2013-01-01 05:00:00 & 5 & 58 & 354 & 358\\\\\n",
       "\\end{tabular}\n"
      ],
      "text/markdown": [
       "\n",
       "A tibble: 6 × 23\n",
       "\n",
       "| year &lt;int&gt; | month &lt;int&gt; | day &lt;int&gt; | dep_time &lt;int&gt; | sched_dep_time &lt;int&gt; | dep_delay &lt;dbl&gt; | arr_time &lt;int&gt; | sched_arr_time &lt;int&gt; | arr_delay &lt;dbl&gt; | carrier &lt;chr&gt; | ... ... | dest &lt;chr&gt; | air_time &lt;dbl&gt; | distance &lt;dbl&gt; | hour &lt;dbl&gt; | minute &lt;dbl&gt; | time_hour &lt;dttm&gt; | hr &lt;dbl&gt; | min &lt;dbl&gt; | dep_time_min &lt;dbl&gt; | sched_dep_time_min &lt;dbl&gt; |\n",
       "|---|---|---|---|---|---|---|---|---|---|---|---|---|---|---|---|---|---|---|---|---|\n",
       "| 2013 | 1 | 1 | 517 | 515 |  2 |  830 |  819 |  11 | UA | ... | IAH | 227 | 1400 | 5 | 15 | 2013-01-01 05:00:00 | 5 | 15 | 317 | 315 |\n",
       "| 2013 | 1 | 1 | 533 | 529 |  4 |  850 |  830 |  20 | UA | ... | IAH | 227 | 1416 | 5 | 29 | 2013-01-01 05:00:00 | 5 | 29 | 333 | 329 |\n",
       "| 2013 | 1 | 1 | 542 | 540 |  2 |  923 |  850 |  33 | AA | ... | MIA | 160 | 1089 | 5 | 40 | 2013-01-01 05:00:00 | 5 | 40 | 342 | 340 |\n",
       "| 2013 | 1 | 1 | 544 | 545 | -1 | 1004 | 1022 | -18 | B6 | ... | BQN | 183 | 1576 | 5 | 45 | 2013-01-01 05:00:00 | 5 | 45 | 344 | 345 |\n",
       "| 2013 | 1 | 1 | 554 | 600 | -6 |  812 |  837 | -25 | DL | ... | ATL | 116 |  762 | 6 |  0 | 2013-01-01 06:00:00 | 6 |  0 | 354 | 360 |\n",
       "| 2013 | 1 | 1 | 554 | 558 | -4 |  740 |  728 |  12 | UA | ... | ORD | 150 |  719 | 5 | 58 | 2013-01-01 05:00:00 | 5 | 58 | 354 | 358 |\n",
       "\n"
      ],
      "text/plain": [
       "  year month day dep_time sched_dep_time dep_delay arr_time sched_arr_time\n",
       "1 2013 1     1   517      515             2         830      819          \n",
       "2 2013 1     1   533      529             4         850      830          \n",
       "3 2013 1     1   542      540             2         923      850          \n",
       "4 2013 1     1   544      545            -1        1004     1022          \n",
       "5 2013 1     1   554      600            -6         812      837          \n",
       "6 2013 1     1   554      558            -4         740      728          \n",
       "  arr_delay carrier ... dest air_time distance hour minute time_hour          \n",
       "1  11       UA      ... IAH  227      1400     5    15     2013-01-01 05:00:00\n",
       "2  20       UA      ... IAH  227      1416     5    29     2013-01-01 05:00:00\n",
       "3  33       AA      ... MIA  160      1089     5    40     2013-01-01 05:00:00\n",
       "4 -18       B6      ... BQN  183      1576     5    45     2013-01-01 05:00:00\n",
       "5 -25       DL      ... ATL  116       762     6     0     2013-01-01 06:00:00\n",
       "6  12       UA      ... ORD  150       719     5    58     2013-01-01 05:00:00\n",
       "  hr min dep_time_min sched_dep_time_min\n",
       "1 5  15  317          315               \n",
       "2 5  29  333          329               \n",
       "3 5  40  342          340               \n",
       "4 5  45  344          345               \n",
       "5 6   0  354          360               \n",
       "6 5  58  354          358               "
      ]
     },
     "metadata": {},
     "output_type": "display_data"
    }
   ],
   "source": [
    "flights %>% \n",
    "    mutate(hr = dep_time %/% 100,\n",
    "          min = dep_time %% 100,\n",
    "          dep_time_min = hr*60 + min, \n",
    "           \n",
    "          hr = sched_dep_time %/% 100,\n",
    "          min = sched_dep_time %% 100,\n",
    "          sched_dep_time_min = hr*60 + min) %>% \n",
    "    head()"
   ]
  },
  {
   "cell_type": "markdown",
   "metadata": {
    "heading_collapsed": true,
    "hidden": true
   },
   "source": [
    "###### 2. Compare `air_time` with `arr_time dep_time`. What do you expect to see?   What do you see? What do you need to do to fix it?"
   ]
  },
  {
   "cell_type": "code",
   "execution_count": 207,
   "metadata": {
    "ExecuteTime": {
     "end_time": "2020-01-28T07:10:53.017987Z",
     "start_time": "2020-01-28T07:10:52.958Z"
    },
    "hidden": true
   },
   "outputs": [
    {
     "name": "stdout",
     "output_type": "stream",
     "text": [
      "Observations: 336,776\n",
      "Variables: 3\n",
      "$ air_time \u001b[3m\u001b[90m<dbl>\u001b[39m\u001b[23m 227, 227, 160, 183, 116, 150, 158, 53, 140, 138, 149, 158,...\n",
      "$ arr_time \u001b[3m\u001b[90m<int>\u001b[39m\u001b[23m 830, 850, 923, 1004, 812, 740, 913, 709, 838, 753, 849, 85...\n",
      "$ dep_time \u001b[3m\u001b[90m<int>\u001b[39m\u001b[23m 517, 533, 542, 544, 554, 554, 555, 557, 557, 558, 558, 558...\n"
     ]
    }
   ],
   "source": [
    "flights %>% select(air_time, arr_time, dep_time) %>% glimpse()"
   ]
  },
  {
   "cell_type": "markdown",
   "metadata": {
    "heading_collapsed": true,
    "hidden": true
   },
   "source": [
    "###### 3. Compare `dep_time`, `sched_dep_time`, and `dep_delay`. How would you   expect those three numbers to be related?"
   ]
  },
  {
   "cell_type": "code",
   "execution_count": 8,
   "metadata": {
    "ExecuteTime": {
     "end_time": "2020-01-28T17:15:26.130605Z",
     "start_time": "2020-01-28T17:15:26.065Z"
    },
    "hidden": true
   },
   "outputs": [
    {
     "name": "stdout",
     "output_type": "stream",
     "text": [
      "Observations: 99,777\n",
      "Variables: 4\n",
      "$ dep_time       \u001b[3m\u001b[90m<int>\u001b[39m\u001b[23m 554, 555, 557, 557, 558, 558, 558, 558, 558, 559, 55...\n",
      "$ sched_dep_time \u001b[3m\u001b[90m<int>\u001b[39m\u001b[23m 600, 600, 600, 600, 600, 600, 600, 600, 600, 600, 60...\n",
      "$ dep_delay      \u001b[3m\u001b[90m<dbl>\u001b[39m\u001b[23m -6, -5, -3, -3, -2, -2, -2, -2, -2, -1, -1, -7, -5, ...\n",
      "$ dep_delay_calc \u001b[3m\u001b[90m<int>\u001b[39m\u001b[23m -46, -45, -43, -43, -42, -42, -42, -42, -42, -41, -4...\n"
     ]
    }
   ],
   "source": [
    "flights %>% \n",
    "    select(contains('dep')) %>% \n",
    "    mutate(dep_delay_calc = dep_time - sched_dep_time) %>% \n",
    "    filter(dep_delay_calc != dep_delay) %>% \n",
    "    glimpse()"
   ]
  },
  {
   "cell_type": "markdown",
   "metadata": {
    "heading_collapsed": true,
    "hidden": true
   },
   "source": [
    "###### 4. Find the 10 most delayed flights using a ranking function. How do you want   to handle ties? Carefully read the documentation for `min_rank()`."
   ]
  },
  {
   "cell_type": "code",
   "execution_count": 21,
   "metadata": {
    "ExecuteTime": {
     "end_time": "2020-01-28T17:22:59.094448Z",
     "start_time": "2020-01-28T17:22:59.007Z"
    },
    "collapsed": true,
    "hidden": true,
    "jupyter": {
     "outputs_hidden": true
    }
   },
   "outputs": [
    {
     "data": {
      "text/html": [
       "<ol class=list-inline>\n",
       "\t<li>5</li>\n",
       "\t<li>1</li>\n",
       "\t<li>4</li>\n",
       "\t<li>2</li>\n",
       "\t<li>2</li>\n",
       "\t<li>&lt;NA&gt;</li>\n",
       "</ol>\n"
      ],
      "text/latex": [
       "\\begin{enumerate*}\n",
       "\\item 5\n",
       "\\item 1\n",
       "\\item 4\n",
       "\\item 2\n",
       "\\item 2\n",
       "\\item <NA>\n",
       "\\end{enumerate*}\n"
      ],
      "text/markdown": [
       "1. 5\n",
       "2. 1\n",
       "3. 4\n",
       "4. 2\n",
       "5. 2\n",
       "6. &lt;NA&gt;\n",
       "\n",
       "\n"
      ],
      "text/plain": [
       "[1]  5  1  4  2  2 NA"
      ]
     },
     "metadata": {},
     "output_type": "display_data"
    },
    {
     "data": {
      "text/html": [
       "<ol class=list-inline>\n",
       "\t<li>5</li>\n",
       "\t<li>1</li>\n",
       "\t<li>4</li>\n",
       "\t<li>2</li>\n",
       "\t<li>3</li>\n",
       "\t<li>&lt;NA&gt;</li>\n",
       "</ol>\n"
      ],
      "text/latex": [
       "\\begin{enumerate*}\n",
       "\\item 5\n",
       "\\item 1\n",
       "\\item 4\n",
       "\\item 2\n",
       "\\item 3\n",
       "\\item <NA>\n",
       "\\end{enumerate*}\n"
      ],
      "text/markdown": [
       "1. 5\n",
       "2. 1\n",
       "3. 4\n",
       "4. 2\n",
       "5. 3\n",
       "6. &lt;NA&gt;\n",
       "\n",
       "\n"
      ],
      "text/plain": [
       "[1]  5  1  4  2  3 NA"
      ]
     },
     "metadata": {},
     "output_type": "display_data"
    },
    {
     "data": {
      "text/html": [
       "<ol class=list-inline>\n",
       "\t<li>4</li>\n",
       "\t<li>1</li>\n",
       "\t<li>3</li>\n",
       "\t<li>2</li>\n",
       "\t<li>2</li>\n",
       "\t<li>&lt;NA&gt;</li>\n",
       "</ol>\n"
      ],
      "text/latex": [
       "\\begin{enumerate*}\n",
       "\\item 4\n",
       "\\item 1\n",
       "\\item 3\n",
       "\\item 2\n",
       "\\item 2\n",
       "\\item <NA>\n",
       "\\end{enumerate*}\n"
      ],
      "text/markdown": [
       "1. 4\n",
       "2. 1\n",
       "3. 3\n",
       "4. 2\n",
       "5. 2\n",
       "6. &lt;NA&gt;\n",
       "\n",
       "\n"
      ],
      "text/plain": [
       "[1]  4  1  3  2  2 NA"
      ]
     },
     "metadata": {},
     "output_type": "display_data"
    },
    {
     "data": {
      "text/html": [
       "<ol class=list-inline>\n",
       "\t<li>1</li>\n",
       "\t<li>0</li>\n",
       "\t<li>0.75</li>\n",
       "\t<li>0.25</li>\n",
       "\t<li>0.25</li>\n",
       "\t<li>&lt;NA&gt;</li>\n",
       "</ol>\n"
      ],
      "text/latex": [
       "\\begin{enumerate*}\n",
       "\\item 1\n",
       "\\item 0\n",
       "\\item 0.75\n",
       "\\item 0.25\n",
       "\\item 0.25\n",
       "\\item <NA>\n",
       "\\end{enumerate*}\n"
      ],
      "text/markdown": [
       "1. 1\n",
       "2. 0\n",
       "3. 0.75\n",
       "4. 0.25\n",
       "5. 0.25\n",
       "6. &lt;NA&gt;\n",
       "\n",
       "\n"
      ],
      "text/plain": [
       "[1] 1.00 0.00 0.75 0.25 0.25   NA"
      ]
     },
     "metadata": {},
     "output_type": "display_data"
    },
    {
     "data": {
      "text/html": [
       "<ol class=list-inline>\n",
       "\t<li>1</li>\n",
       "\t<li>0.2</li>\n",
       "\t<li>0.8</li>\n",
       "\t<li>0.6</li>\n",
       "\t<li>0.6</li>\n",
       "\t<li>&lt;NA&gt;</li>\n",
       "</ol>\n"
      ],
      "text/latex": [
       "\\begin{enumerate*}\n",
       "\\item 1\n",
       "\\item 0.2\n",
       "\\item 0.8\n",
       "\\item 0.6\n",
       "\\item 0.6\n",
       "\\item <NA>\n",
       "\\end{enumerate*}\n"
      ],
      "text/markdown": [
       "1. 1\n",
       "2. 0.2\n",
       "3. 0.8\n",
       "4. 0.6\n",
       "5. 0.6\n",
       "6. &lt;NA&gt;\n",
       "\n",
       "\n"
      ],
      "text/plain": [
       "[1] 1.0 0.2 0.8 0.6 0.6  NA"
      ]
     },
     "metadata": {},
     "output_type": "display_data"
    }
   ],
   "source": [
    "x <- c(5, 1, 3, 2, 2, NA)\n",
    "\n",
    "min_rank(x)\n",
    "row_number(x)\n",
    "dense_rank(x)\n",
    "percent_rank(x)\n",
    "cume_dist(x)"
   ]
  },
  {
   "cell_type": "code",
   "execution_count": 25,
   "metadata": {
    "ExecuteTime": {
     "end_time": "2020-01-28T17:38:21.932352Z",
     "start_time": "2020-01-28T17:38:21.721Z"
    },
    "hidden": true
   },
   "outputs": [
    {
     "name": "stdout",
     "output_type": "stream",
     "text": [
      "Observations: 336,776\n",
      "Variables: 4\n",
      "$ dep_time       \u001b[3m\u001b[90m<int>\u001b[39m\u001b[23m 641, 1432, 1121, 1139, 845, 1100, 2321, 959, 2257, 7...\n",
      "$ sched_dep_time \u001b[3m\u001b[90m<int>\u001b[39m\u001b[23m 900, 1935, 1635, 1845, 1600, 1900, 810, 1900, 759, 1...\n",
      "$ dep_delay      \u001b[3m\u001b[90m<dbl>\u001b[39m\u001b[23m 1301, 1137, 1126, 1014, 1005, 960, 911, 899, 898, 89...\n",
      "$ dep_delay_calc \u001b[3m\u001b[90m<int>\u001b[39m\u001b[23m -259, -503, -514, -706, -755, -800, 1511, -941, 1498...\n"
     ]
    }
   ],
   "source": [
    "flights %>% \n",
    "    select(contains('dep')) %>% \n",
    "    mutate(dep_delay_calc = dep_time - sched_dep_time) %>% \n",
    "    arrange(desc(dep_delay)) %>% glimpse()"
   ]
  },
  {
   "cell_type": "code",
   "execution_count": 29,
   "metadata": {
    "ExecuteTime": {
     "end_time": "2020-01-28T17:40:16.204184Z",
     "start_time": "2020-01-28T17:40:16.097Z"
    },
    "hidden": true
   },
   "outputs": [
    {
     "name": "stdout",
     "output_type": "stream",
     "text": [
      "Observations: 99,777\n",
      "Variables: 4\n",
      "$ dep_time       \u001b[3m\u001b[90m<int>\u001b[39m\u001b[23m 641, 1432, 1121, 1139, 845, 1100, 2321, 959, 2257, 7...\n",
      "$ sched_dep_time \u001b[3m\u001b[90m<int>\u001b[39m\u001b[23m 900, 1935, 1635, 1845, 1600, 1900, 810, 1900, 759, 1...\n",
      "$ dep_delay      \u001b[3m\u001b[90m<dbl>\u001b[39m\u001b[23m 1301, 1137, 1126, 1014, 1005, 960, 911, 899, 898, 89...\n",
      "$ dep_delay_calc \u001b[3m\u001b[90m<int>\u001b[39m\u001b[23m -259, -503, -514, -706, -755, -800, 1511, -941, 1498...\n"
     ]
    }
   ],
   "source": [
    "flights %>% \n",
    "    select(contains('dep')) %>% \n",
    "    mutate(dep_delay_calc = dep_time - sched_dep_time) %>% \n",
    "    filter(dep_delay_calc != dep_delay) %>% \n",
    "    arrange(desc(dep_delay)) %>% glimpse()"
   ]
  },
  {
   "cell_type": "code",
   "execution_count": 30,
   "metadata": {
    "ExecuteTime": {
     "end_time": "2020-01-28T17:40:29.887555Z",
     "start_time": "2020-01-28T17:40:29.710Z"
    },
    "hidden": true
   },
   "outputs": [
    {
     "name": "stdout",
     "output_type": "stream",
     "text": [
      "Observations: 336,776\n",
      "Variables: 4\n",
      "$ dep_time       \u001b[3m\u001b[90m<int>\u001b[39m\u001b[23m 641, 1432, 1121, 1139, 845, 1100, 2321, 959, 2257, 7...\n",
      "$ sched_dep_time \u001b[3m\u001b[90m<int>\u001b[39m\u001b[23m 900, 1935, 1635, 1845, 1600, 1900, 810, 1900, 759, 1...\n",
      "$ dep_delay      \u001b[3m\u001b[90m<dbl>\u001b[39m\u001b[23m 1301, 1137, 1126, 1014, 1005, 960, 911, 899, 898, 89...\n",
      "$ dep_delay_rank \u001b[3m\u001b[90m<int>\u001b[39m\u001b[23m 328521, 328520, 328519, 328518, 328517, 328516, 3285...\n"
     ]
    }
   ],
   "source": [
    "flights %>% \n",
    "    select(contains('dep')) %>% \n",
    "    mutate(dep_delay_rank = min_rank(dep_delay)) %>% \n",
    "    arrange(desc(dep_delay_rank)) %>% glimpse()"
   ]
  },
  {
   "cell_type": "markdown",
   "metadata": {
    "heading_collapsed": true,
    "hidden": true
   },
   "source": [
    "###### 5.  What does `1:3 + 1:10` return? Why?"
   ]
  },
  {
   "cell_type": "code",
   "execution_count": 34,
   "metadata": {
    "ExecuteTime": {
     "end_time": "2020-01-28T17:41:18.117189Z",
     "start_time": "2020-01-28T17:41:18.070Z"
    },
    "hidden": true
   },
   "outputs": [
    {
     "name": "stderr",
     "output_type": "stream",
     "text": [
      "Warning message in 1:3 + 1:10:\n",
      "\"longer object length is not a multiple of shorter object length\"\n"
     ]
    },
    {
     "data": {
      "text/html": [
       "<ol class=list-inline>\n",
       "\t<li>2</li>\n",
       "\t<li>4</li>\n",
       "\t<li>6</li>\n",
       "\t<li>5</li>\n",
       "\t<li>7</li>\n",
       "\t<li>9</li>\n",
       "\t<li>8</li>\n",
       "\t<li>10</li>\n",
       "\t<li>12</li>\n",
       "\t<li>11</li>\n",
       "</ol>\n"
      ],
      "text/latex": [
       "\\begin{enumerate*}\n",
       "\\item 2\n",
       "\\item 4\n",
       "\\item 6\n",
       "\\item 5\n",
       "\\item 7\n",
       "\\item 9\n",
       "\\item 8\n",
       "\\item 10\n",
       "\\item 12\n",
       "\\item 11\n",
       "\\end{enumerate*}\n"
      ],
      "text/markdown": [
       "1. 2\n",
       "2. 4\n",
       "3. 6\n",
       "4. 5\n",
       "5. 7\n",
       "6. 9\n",
       "7. 8\n",
       "8. 10\n",
       "9. 12\n",
       "10. 11\n",
       "\n",
       "\n"
      ],
      "text/plain": [
       " [1]  2  4  6  5  7  9  8 10 12 11"
      ]
     },
     "metadata": {},
     "output_type": "display_data"
    }
   ],
   "source": [
    "1:3 + 1:10"
   ]
  },
  {
   "cell_type": "code",
   "execution_count": 33,
   "metadata": {
    "ExecuteTime": {
     "end_time": "2020-01-28T17:41:06.726840Z",
     "start_time": "2020-01-28T17:41:06.670Z"
    },
    "hidden": true
   },
   "outputs": [
    {
     "data": {
      "text/html": [
       "<ol class=list-inline>\n",
       "\t<li>1</li>\n",
       "\t<li>2</li>\n",
       "\t<li>3</li>\n",
       "\t<li>1</li>\n",
       "\t<li>2</li>\n",
       "\t<li>3</li>\n",
       "\t<li>1</li>\n",
       "\t<li>2</li>\n",
       "\t<li>3</li>\n",
       "\t<li>1</li>\n",
       "</ol>\n"
      ],
      "text/latex": [
       "\\begin{enumerate*}\n",
       "\\item 1\n",
       "\\item 2\n",
       "\\item 3\n",
       "\\item 1\n",
       "\\item 2\n",
       "\\item 3\n",
       "\\item 1\n",
       "\\item 2\n",
       "\\item 3\n",
       "\\item 1\n",
       "\\end{enumerate*}\n"
      ],
      "text/markdown": [
       "1. 1\n",
       "2. 2\n",
       "3. 3\n",
       "4. 1\n",
       "5. 2\n",
       "6. 3\n",
       "7. 1\n",
       "8. 2\n",
       "9. 3\n",
       "10. 1\n",
       "\n",
       "\n"
      ],
      "text/plain": [
       " [1] 1 2 3 1 2 3 1 2 3 1"
      ]
     },
     "metadata": {},
     "output_type": "display_data"
    },
    {
     "data": {
      "text/html": [
       "<ol class=list-inline>\n",
       "\t<li>1</li>\n",
       "\t<li>2</li>\n",
       "\t<li>3</li>\n",
       "\t<li>4</li>\n",
       "\t<li>5</li>\n",
       "\t<li>6</li>\n",
       "\t<li>7</li>\n",
       "\t<li>8</li>\n",
       "\t<li>9</li>\n",
       "\t<li>10</li>\n",
       "</ol>\n"
      ],
      "text/latex": [
       "\\begin{enumerate*}\n",
       "\\item 1\n",
       "\\item 2\n",
       "\\item 3\n",
       "\\item 4\n",
       "\\item 5\n",
       "\\item 6\n",
       "\\item 7\n",
       "\\item 8\n",
       "\\item 9\n",
       "\\item 10\n",
       "\\end{enumerate*}\n"
      ],
      "text/markdown": [
       "1. 1\n",
       "2. 2\n",
       "3. 3\n",
       "4. 4\n",
       "5. 5\n",
       "6. 6\n",
       "7. 7\n",
       "8. 8\n",
       "9. 9\n",
       "10. 10\n",
       "\n",
       "\n"
      ],
      "text/plain": [
       " [1]  1  2  3  4  5  6  7  8  9 10"
      ]
     },
     "metadata": {},
     "output_type": "display_data"
    }
   ],
   "source": [
    "rep(1:3,4)[1:10]\n",
    "1:10"
   ]
  },
  {
   "cell_type": "markdown",
   "metadata": {
    "heading_collapsed": true,
    "hidden": true
   },
   "source": [
    "###### 6.  What trigonometric functions does R provide?"
   ]
  },
  {
   "cell_type": "code",
   "execution_count": 36,
   "metadata": {
    "ExecuteTime": {
     "end_time": "2020-01-28T17:47:24.649161Z",
     "start_time": "2020-01-28T17:47:24.251Z"
    },
    "hidden": true
   },
   "outputs": [],
   "source": [
    "?Trig"
   ]
  },
  {
   "cell_type": "code",
   "execution_count": null,
   "metadata": {
    "code_folding": [],
    "hidden": true
   },
   "outputs": [],
   "source": [
    "\n",
    "\n",
    "y <- c(1, 2, 2, NA, 3, 4)\n",
    "\n",
    "min_rank(y)\n",
    "#> [1]  1  2  2 NA  4  5\n",
    "\n",
    "min_rank(desc(y))\n",
    "#> [1]  5  3  3 NA  2  1"
   ]
  },
  {
   "cell_type": "markdown",
   "metadata": {},
   "source": [
    "## Grouped Summaries with summarize()"
   ]
  },
  {
   "cell_type": "markdown",
   "metadata": {
    "heading_collapsed": true
   },
   "source": [
    "##### Summarise & group_by"
   ]
  },
  {
   "cell_type": "markdown",
   "metadata": {
    "hidden": true
   },
   "source": [
    "The last key verb is `summarise()`. It <font color = 'blue'><b>collapses a data frame to a single row:</b></font>"
   ]
  },
  {
   "cell_type": "code",
   "execution_count": 63,
   "metadata": {
    "ExecuteTime": {
     "end_time": "2020-01-28T21:55:49.470542Z",
     "start_time": "2020-01-28T21:55:49.419Z"
    },
    "collapsed": true,
    "hidden": true,
    "jupyter": {
     "outputs_hidden": true
    }
   },
   "outputs": [
    {
     "data": {
      "text/html": [
       "<table>\n",
       "<caption>A tibble: 1 × 1</caption>\n",
       "<thead>\n",
       "\t<tr><th scope=col>delay</th></tr>\n",
       "\t<tr><th scope=col>&lt;dbl&gt;</th></tr>\n",
       "</thead>\n",
       "<tbody>\n",
       "\t<tr><td>12.63907</td></tr>\n",
       "</tbody>\n",
       "</table>\n"
      ],
      "text/latex": [
       "A tibble: 1 × 1\n",
       "\\begin{tabular}{r|l}\n",
       " delay\\\\\n",
       " <dbl>\\\\\n",
       "\\hline\n",
       "\t 12.63907\\\\\n",
       "\\end{tabular}\n"
      ],
      "text/markdown": [
       "\n",
       "A tibble: 1 × 1\n",
       "\n",
       "| delay &lt;dbl&gt; |\n",
       "|---|\n",
       "| 12.63907 |\n",
       "\n"
      ],
      "text/plain": [
       "  delay   \n",
       "1 12.63907"
      ]
     },
     "metadata": {},
     "output_type": "display_data"
    }
   ],
   "source": [
    "flights %>% summarise(delay = mean(dep_delay, na.rm = TRUE))"
   ]
  },
  {
   "cell_type": "markdown",
   "metadata": {
    "hidden": true
   },
   "source": [
    "<b><font color = 'blue'>`summarise()` is not terribly useful unless we pair it with `group_by()`. </font></b>\n",
    "\n",
    "* This changes the unit of analysis from the complete dataset to individual groups. \n",
    "\n",
    "* Then, when you use the dplyr verbs on a grouped data frame they’ll be automatically applied “by group”. \n",
    "\n",
    "<b><font color = 'purple'>For example, if we applied exactly the same code to a data frame grouped by date, we get the average delay per date </font>:</b>"
   ]
  },
  {
   "cell_type": "code",
   "execution_count": 67,
   "metadata": {
    "ExecuteTime": {
     "end_time": "2020-01-28T21:57:59.591642Z",
     "start_time": "2020-01-28T21:57:59.503Z"
    },
    "collapsed": true,
    "hidden": true,
    "jupyter": {
     "outputs_hidden": true
    }
   },
   "outputs": [
    {
     "data": {
      "text/html": [
       "<table>\n",
       "<caption>A grouped_df: 6 × 4</caption>\n",
       "<thead>\n",
       "\t<tr><th scope=col>year</th><th scope=col>month</th><th scope=col>day</th><th scope=col>delay</th></tr>\n",
       "\t<tr><th scope=col>&lt;int&gt;</th><th scope=col>&lt;int&gt;</th><th scope=col>&lt;int&gt;</th><th scope=col>&lt;dbl&gt;</th></tr>\n",
       "</thead>\n",
       "<tbody>\n",
       "\t<tr><td>2013</td><td>1</td><td>1</td><td>11.548926</td></tr>\n",
       "\t<tr><td>2013</td><td>1</td><td>2</td><td>13.858824</td></tr>\n",
       "\t<tr><td>2013</td><td>1</td><td>3</td><td>10.987832</td></tr>\n",
       "\t<tr><td>2013</td><td>1</td><td>4</td><td> 8.951595</td></tr>\n",
       "\t<tr><td>2013</td><td>1</td><td>5</td><td> 5.732218</td></tr>\n",
       "\t<tr><td>2013</td><td>1</td><td>6</td><td> 7.148014</td></tr>\n",
       "</tbody>\n",
       "</table>\n"
      ],
      "text/latex": [
       "A grouped_df: 6 × 4\n",
       "\\begin{tabular}{r|llll}\n",
       " year & month & day & delay\\\\\n",
       " <int> & <int> & <int> & <dbl>\\\\\n",
       "\\hline\n",
       "\t 2013 & 1 & 1 & 11.548926\\\\\n",
       "\t 2013 & 1 & 2 & 13.858824\\\\\n",
       "\t 2013 & 1 & 3 & 10.987832\\\\\n",
       "\t 2013 & 1 & 4 &  8.951595\\\\\n",
       "\t 2013 & 1 & 5 &  5.732218\\\\\n",
       "\t 2013 & 1 & 6 &  7.148014\\\\\n",
       "\\end{tabular}\n"
      ],
      "text/markdown": [
       "\n",
       "A grouped_df: 6 × 4\n",
       "\n",
       "| year &lt;int&gt; | month &lt;int&gt; | day &lt;int&gt; | delay &lt;dbl&gt; |\n",
       "|---|---|---|---|\n",
       "| 2013 | 1 | 1 | 11.548926 |\n",
       "| 2013 | 1 | 2 | 13.858824 |\n",
       "| 2013 | 1 | 3 | 10.987832 |\n",
       "| 2013 | 1 | 4 |  8.951595 |\n",
       "| 2013 | 1 | 5 |  5.732218 |\n",
       "| 2013 | 1 | 6 |  7.148014 |\n",
       "\n"
      ],
      "text/plain": [
       "  year month day delay    \n",
       "1 2013 1     1   11.548926\n",
       "2 2013 1     2   13.858824\n",
       "3 2013 1     3   10.987832\n",
       "4 2013 1     4    8.951595\n",
       "5 2013 1     5    5.732218\n",
       "6 2013 1     6    7.148014"
      ]
     },
     "metadata": {},
     "output_type": "display_data"
    }
   ],
   "source": [
    "flights %>% \n",
    "    group_by(year, month, day) %>% \n",
    "    summarise(delay = mean(dep_delay, na.rm = TRUE)) %>% head()"
   ]
  },
  {
   "cell_type": "markdown",
   "metadata": {
    "hidden": true
   },
   "source": [
    "Together `group_by()` and `summarise()` provide one of the tools that you’ll use most commonly when working with dplyr: grouped summaries. \n"
   ]
  },
  {
   "cell_type": "markdown",
   "metadata": {
    "hidden": true
   },
   "source": [
    "Just using means, counts, and sum can get you a long way, but R provides many other useful summary functions:\n",
    "\n",
    "* Measures of location: we’ve used `mean(x)`, but `median(x)` is also\n",
    "    useful. The mean is the sum divided by the length; the median is a value\n",
    "    where 50% of `x` is above it, and 50% is below it.\n",
    "\n",
    "    It’s sometimes useful to combine aggregation with logical subsetting.\n",
    "    We haven’t talked about this sort of subsetting yet, but you’ll learn more\n",
    "    about it in [subsetting](https://r4ds.had.co.nz/vectors.html#subsetting-1)."
   ]
  },
  {
   "cell_type": "markdown",
   "metadata": {
    "heading_collapsed": true
   },
   "source": [
    "### Combining multiple operations with the pipe"
   ]
  },
  {
   "cell_type": "markdown",
   "metadata": {
    "hidden": true
   },
   "source": [
    " skipped because about %>% "
   ]
  },
  {
   "cell_type": "markdown",
   "metadata": {
    "heading_collapsed": true
   },
   "source": [
    "### Missing values"
   ]
  },
  {
   "cell_type": "markdown",
   "metadata": {
    "hidden": true
   },
   "source": [
    "You may have wondered about the na.rm argument we used above. What happens if we don’t set it?"
   ]
  },
  {
   "cell_type": "code",
   "execution_count": 70,
   "metadata": {
    "ExecuteTime": {
     "end_time": "2020-01-28T22:02:49.475728Z",
     "start_time": "2020-01-28T22:02:49.379Z"
    },
    "hidden": true
   },
   "outputs": [
    {
     "data": {
      "text/html": [
       "<table>\n",
       "<caption>A grouped_df: 6 × 4</caption>\n",
       "<thead>\n",
       "\t<tr><th scope=col>year</th><th scope=col>month</th><th scope=col>day</th><th scope=col>mean</th></tr>\n",
       "\t<tr><th scope=col>&lt;int&gt;</th><th scope=col>&lt;int&gt;</th><th scope=col>&lt;int&gt;</th><th scope=col>&lt;dbl&gt;</th></tr>\n",
       "</thead>\n",
       "<tbody>\n",
       "\t<tr><td>2013</td><td>1</td><td>1</td><td>NA</td></tr>\n",
       "\t<tr><td>2013</td><td>1</td><td>2</td><td>NA</td></tr>\n",
       "\t<tr><td>2013</td><td>1</td><td>3</td><td>NA</td></tr>\n",
       "\t<tr><td>2013</td><td>1</td><td>4</td><td>NA</td></tr>\n",
       "\t<tr><td>2013</td><td>1</td><td>5</td><td>NA</td></tr>\n",
       "\t<tr><td>2013</td><td>1</td><td>6</td><td>NA</td></tr>\n",
       "</tbody>\n",
       "</table>\n"
      ],
      "text/latex": [
       "A grouped_df: 6 × 4\n",
       "\\begin{tabular}{r|llll}\n",
       " year & month & day & mean\\\\\n",
       " <int> & <int> & <int> & <dbl>\\\\\n",
       "\\hline\n",
       "\t 2013 & 1 & 1 & NA\\\\\n",
       "\t 2013 & 1 & 2 & NA\\\\\n",
       "\t 2013 & 1 & 3 & NA\\\\\n",
       "\t 2013 & 1 & 4 & NA\\\\\n",
       "\t 2013 & 1 & 5 & NA\\\\\n",
       "\t 2013 & 1 & 6 & NA\\\\\n",
       "\\end{tabular}\n"
      ],
      "text/markdown": [
       "\n",
       "A grouped_df: 6 × 4\n",
       "\n",
       "| year &lt;int&gt; | month &lt;int&gt; | day &lt;int&gt; | mean &lt;dbl&gt; |\n",
       "|---|---|---|---|\n",
       "| 2013 | 1 | 1 | NA |\n",
       "| 2013 | 1 | 2 | NA |\n",
       "| 2013 | 1 | 3 | NA |\n",
       "| 2013 | 1 | 4 | NA |\n",
       "| 2013 | 1 | 5 | NA |\n",
       "| 2013 | 1 | 6 | NA |\n",
       "\n"
      ],
      "text/plain": [
       "  year month day mean\n",
       "1 2013 1     1   NA  \n",
       "2 2013 1     2   NA  \n",
       "3 2013 1     3   NA  \n",
       "4 2013 1     4   NA  \n",
       "5 2013 1     5   NA  \n",
       "6 2013 1     6   NA  "
      ]
     },
     "metadata": {},
     "output_type": "display_data"
    }
   ],
   "source": [
    "flights %>% \n",
    "  group_by(year, month, day) %>% \n",
    "  summarise(mean = mean(dep_delay)) %>% head()"
   ]
  },
  {
   "cell_type": "markdown",
   "metadata": {
    "hidden": true
   },
   "source": [
    "We get a lot of missing values! \n",
    "\n",
    "That’s because aggregation functions obey the usual rule of missing values: <font color = 'red'>if there’s any missing value in the input, the output will be a missing value</font>. \n",
    "\n",
    "* Fortunately, all aggregation functions have an `na.rm` argument which removes the missing values prior to computation:\n",
    "\n"
   ]
  },
  {
   "cell_type": "code",
   "execution_count": 72,
   "metadata": {
    "ExecuteTime": {
     "end_time": "2020-01-28T22:03:50.728169Z",
     "start_time": "2020-01-28T22:03:50.633Z"
    },
    "hidden": true
   },
   "outputs": [
    {
     "data": {
      "text/html": [
       "<table>\n",
       "<caption>A grouped_df: 6 × 4</caption>\n",
       "<thead>\n",
       "\t<tr><th scope=col>year</th><th scope=col>month</th><th scope=col>day</th><th scope=col>mean</th></tr>\n",
       "\t<tr><th scope=col>&lt;int&gt;</th><th scope=col>&lt;int&gt;</th><th scope=col>&lt;int&gt;</th><th scope=col>&lt;dbl&gt;</th></tr>\n",
       "</thead>\n",
       "<tbody>\n",
       "\t<tr><td>2013</td><td>1</td><td>1</td><td>11.548926</td></tr>\n",
       "\t<tr><td>2013</td><td>1</td><td>2</td><td>13.858824</td></tr>\n",
       "\t<tr><td>2013</td><td>1</td><td>3</td><td>10.987832</td></tr>\n",
       "\t<tr><td>2013</td><td>1</td><td>4</td><td> 8.951595</td></tr>\n",
       "\t<tr><td>2013</td><td>1</td><td>5</td><td> 5.732218</td></tr>\n",
       "\t<tr><td>2013</td><td>1</td><td>6</td><td> 7.148014</td></tr>\n",
       "</tbody>\n",
       "</table>\n"
      ],
      "text/latex": [
       "A grouped_df: 6 × 4\n",
       "\\begin{tabular}{r|llll}\n",
       " year & month & day & mean\\\\\n",
       " <int> & <int> & <int> & <dbl>\\\\\n",
       "\\hline\n",
       "\t 2013 & 1 & 1 & 11.548926\\\\\n",
       "\t 2013 & 1 & 2 & 13.858824\\\\\n",
       "\t 2013 & 1 & 3 & 10.987832\\\\\n",
       "\t 2013 & 1 & 4 &  8.951595\\\\\n",
       "\t 2013 & 1 & 5 &  5.732218\\\\\n",
       "\t 2013 & 1 & 6 &  7.148014\\\\\n",
       "\\end{tabular}\n"
      ],
      "text/markdown": [
       "\n",
       "A grouped_df: 6 × 4\n",
       "\n",
       "| year &lt;int&gt; | month &lt;int&gt; | day &lt;int&gt; | mean &lt;dbl&gt; |\n",
       "|---|---|---|---|\n",
       "| 2013 | 1 | 1 | 11.548926 |\n",
       "| 2013 | 1 | 2 | 13.858824 |\n",
       "| 2013 | 1 | 3 | 10.987832 |\n",
       "| 2013 | 1 | 4 |  8.951595 |\n",
       "| 2013 | 1 | 5 |  5.732218 |\n",
       "| 2013 | 1 | 6 |  7.148014 |\n",
       "\n"
      ],
      "text/plain": [
       "  year month day mean     \n",
       "1 2013 1     1   11.548926\n",
       "2 2013 1     2   13.858824\n",
       "3 2013 1     3   10.987832\n",
       "4 2013 1     4    8.951595\n",
       "5 2013 1     5    5.732218\n",
       "6 2013 1     6    7.148014"
      ]
     },
     "metadata": {},
     "output_type": "display_data"
    }
   ],
   "source": [
    "flights %>% \n",
    "  group_by(year, month, day) %>% \n",
    "  summarise(mean = mean(dep_delay, na.rm = TRUE)) %>% head()"
   ]
  },
  {
   "cell_type": "markdown",
   "metadata": {
    "hidden": true
   },
   "source": [
    "In this case, where missing values represent cancelled flights, we could also tackle the problem by first removing the cancelled flights. We’ll save this dataset so we can reuse it in the next few examples.\n",
    "\n"
   ]
  },
  {
   "cell_type": "code",
   "execution_count": 74,
   "metadata": {
    "ExecuteTime": {
     "end_time": "2020-01-28T22:04:19.814320Z",
     "start_time": "2020-01-28T22:04:19.692Z"
    },
    "hidden": true
   },
   "outputs": [
    {
     "data": {
      "text/html": [
       "<table>\n",
       "<caption>A grouped_df: 6 × 4</caption>\n",
       "<thead>\n",
       "\t<tr><th scope=col>year</th><th scope=col>month</th><th scope=col>day</th><th scope=col>mean</th></tr>\n",
       "\t<tr><th scope=col>&lt;int&gt;</th><th scope=col>&lt;int&gt;</th><th scope=col>&lt;int&gt;</th><th scope=col>&lt;dbl&gt;</th></tr>\n",
       "</thead>\n",
       "<tbody>\n",
       "\t<tr><td>2013</td><td>1</td><td>1</td><td>11.435620</td></tr>\n",
       "\t<tr><td>2013</td><td>1</td><td>2</td><td>13.677802</td></tr>\n",
       "\t<tr><td>2013</td><td>1</td><td>3</td><td>10.907778</td></tr>\n",
       "\t<tr><td>2013</td><td>1</td><td>4</td><td> 8.965859</td></tr>\n",
       "\t<tr><td>2013</td><td>1</td><td>5</td><td> 5.732218</td></tr>\n",
       "\t<tr><td>2013</td><td>1</td><td>6</td><td> 7.145959</td></tr>\n",
       "</tbody>\n",
       "</table>\n"
      ],
      "text/latex": [
       "A grouped_df: 6 × 4\n",
       "\\begin{tabular}{r|llll}\n",
       " year & month & day & mean\\\\\n",
       " <int> & <int> & <int> & <dbl>\\\\\n",
       "\\hline\n",
       "\t 2013 & 1 & 1 & 11.435620\\\\\n",
       "\t 2013 & 1 & 2 & 13.677802\\\\\n",
       "\t 2013 & 1 & 3 & 10.907778\\\\\n",
       "\t 2013 & 1 & 4 &  8.965859\\\\\n",
       "\t 2013 & 1 & 5 &  5.732218\\\\\n",
       "\t 2013 & 1 & 6 &  7.145959\\\\\n",
       "\\end{tabular}\n"
      ],
      "text/markdown": [
       "\n",
       "A grouped_df: 6 × 4\n",
       "\n",
       "| year &lt;int&gt; | month &lt;int&gt; | day &lt;int&gt; | mean &lt;dbl&gt; |\n",
       "|---|---|---|---|\n",
       "| 2013 | 1 | 1 | 11.435620 |\n",
       "| 2013 | 1 | 2 | 13.677802 |\n",
       "| 2013 | 1 | 3 | 10.907778 |\n",
       "| 2013 | 1 | 4 |  8.965859 |\n",
       "| 2013 | 1 | 5 |  5.732218 |\n",
       "| 2013 | 1 | 6 |  7.145959 |\n",
       "\n"
      ],
      "text/plain": [
       "  year month day mean     \n",
       "1 2013 1     1   11.435620\n",
       "2 2013 1     2   13.677802\n",
       "3 2013 1     3   10.907778\n",
       "4 2013 1     4    8.965859\n",
       "5 2013 1     5    5.732218\n",
       "6 2013 1     6    7.145959"
      ]
     },
     "metadata": {},
     "output_type": "display_data"
    }
   ],
   "source": [
    "not_cancelled <- flights %>% \n",
    "  filter(!is.na(dep_delay), !is.na(arr_delay))\n",
    "\n",
    "not_cancelled %>% \n",
    "  group_by(year, month, day) %>% \n",
    "  summarise(mean = mean(dep_delay)) %>% head()"
   ]
  },
  {
   "cell_type": "markdown",
   "metadata": {
    "heading_collapsed": true
   },
   "source": [
    "### Counts"
   ]
  },
  {
   "cell_type": "markdown",
   "metadata": {
    "hidden": true
   },
   "source": [
    "Whenever you do any aggregation, it’s always a good idea to include either a count (`n()`), or a count of non-missing values (`sum(!is.na(x))`). \n",
    "\n",
    "That way you can check that you’re not drawing conclusions based on very small amounts of data. For example, let’s look at the planes (identified by their tail number) that have the highest average delays:"
   ]
  },
  {
   "cell_type": "code",
   "execution_count": 75,
   "metadata": {
    "ExecuteTime": {
     "end_time": "2020-01-28T22:07:28.679026Z",
     "start_time": "2020-01-28T22:07:28.084Z"
    },
    "hidden": true
   },
   "outputs": [
    {
     "data": {
      "image/png": "[encoded data removed]",
      "text/plain": [
       "plot without title"
      ]
     },
     "metadata": {
      "image/png": {
       "height": 420,
       "width": 420
      }
     },
     "output_type": "display_data"
    }
   ],
   "source": [
    "delays <- not_cancelled %>% \n",
    "  group_by(tailnum) %>% \n",
    "  summarise(\n",
    "    delay = mean(arr_delay)\n",
    "  )\n",
    "\n",
    "ggplot(data = delays, mapping = aes(x = delay)) + \n",
    "  geom_freqpoly(binwidth = 10)"
   ]
  },
  {
   "cell_type": "markdown",
   "metadata": {
    "hidden": true
   },
   "source": [
    "Wow, there are some planes that have an _average_ delay of 5 hours (300 minutes)!\n",
    "\n",
    "The story is actually a little more nuanced. We can get more insight if we draw a scatterplot of number of flights vs. average delay:\n"
   ]
  },
  {
   "cell_type": "code",
   "execution_count": 77,
   "metadata": {
    "ExecuteTime": {
     "end_time": "2020-01-28T22:10:37.112141Z",
     "start_time": "2020-01-28T22:10:35.583Z"
    },
    "hidden": true
   },
   "outputs": [
    {
     "data": {
      "image/png": "[encoded data removed]",
      "text/plain": [
       "plot without title"
      ]
     },
     "metadata": {
      "image/png": {
       "height": 420,
       "width": 420
      }
     },
     "output_type": "display_data"
    }
   ],
   "source": [
    "delays <- not_cancelled %>% \n",
    "  group_by(tailnum) %>% \n",
    "  summarise(\n",
    "    delay = mean(arr_delay, na.rm = TRUE),\n",
    "    n = n()\n",
    "  )\n",
    "\n",
    "ggplot(data = delays, mapping = aes(x = n, y = delay)) + \n",
    "  geom_point(alpha = 1/10)"
   ]
  },
  {
   "cell_type": "markdown",
   "metadata": {
    "hidden": true
   },
   "source": [
    "Not surprisingly, there is much greater variation in the average delay when there are few flights. <font color = 'blue'>The shape of this plot is very characteristic: whenever you plot a mean (or other summary) vs. group size, you’ll see that the <b>variation decreases as the sample size increases</b></font>.\n",
    "\n",
    "<font color = 'blue'>When looking at this sort of plot, it’s often useful to filter out the groups with the smallest numbers of observations, so you can see more of the pattern and less of the extreme variation in the smallest groups</font>. \n",
    "\n",
    "This is what the following code does, as well as showing you a handy pattern for integrating ggplot2 into dplyr flows. It’s a bit painful that you have to switch from `%>%` to `+`, but once you get the hang of it, it’s quite convenient.\n"
   ]
  },
  {
   "cell_type": "code",
   "execution_count": 78,
   "metadata": {
    "ExecuteTime": {
     "end_time": "2020-01-28T22:20:53.703514Z",
     "start_time": "2020-01-28T22:20:52.789Z"
    },
    "hidden": true
   },
   "outputs": [
    {
     "data": {
      "image/png": "[encoded data removed]",
      "text/plain": [
       "plot without title"
      ]
     },
     "metadata": {
      "image/png": {
       "height": 420,
       "width": 420
      }
     },
     "output_type": "display_data"
    }
   ],
   "source": [
    "delays %>% \n",
    "  filter(n > 25) %>% \n",
    "  ggplot(mapping = aes(x = n, y = delay)) + \n",
    "    geom_point(alpha = 1/10)"
   ]
  },
  {
   "cell_type": "markdown",
   "metadata": {
    "hidden": true
   },
   "source": [
    "There’s another common variation of this type of pattern. \n",
    "\n",
    "<b><font color = 'purple'>Let’s look at how the average performance of batters in baseball is related to the number of times they’re at bat </font></b>. \n",
    "\n",
    "Here I use data from the **Lahman** package to compute the batting average (number of hits / number of attempts) of every major league baseball player.\n",
    "\n",
    "<font color = 'purple'>When I plot the skill of the batter (measured by the batting average, `ba`) against the number of opportunities to hit the ball (measured by at bat, `ab`), you see two patterns </font>:\n",
    "\n",
    "1.  As above, the variation in our aggregate decreases as we get more\n",
    "    data points.\n",
    "\n",
    "2.  There’s a positive correlation between skill (`ba`) and opportunities to\n",
    "    hit the ball (`ab`). This is because teams control who gets to play,\n",
    "    and obviously they’ll pick their best players."
   ]
  },
  {
   "cell_type": "code",
   "execution_count": 80,
   "metadata": {
    "ExecuteTime": {
     "end_time": "2020-01-28T23:43:06.776758Z",
     "start_time": "2020-01-28T23:43:06.702Z"
    },
    "collapsed": true,
    "hidden": true,
    "jupyter": {
     "outputs_hidden": true
    }
   },
   "outputs": [
    {
     "name": "stdout",
     "output_type": "stream",
     "text": [
      "Observations: 105,861\n",
      "Variables: 22\n",
      "$ playerID \u001b[3m\u001b[90m<chr>\u001b[39m\u001b[23m \"abercda01\", \"addybo01\", \"allisar01\", \"allisdo01\", \"ansonc...\n",
      "$ yearID   \u001b[3m\u001b[90m<int>\u001b[39m\u001b[23m 1871, 1871, 1871, 1871, 1871, 1871, 1871, 1871, 1871, 1871...\n",
      "$ stint    \u001b[3m\u001b[90m<int>\u001b[39m\u001b[23m 1, 1, 1, 1, 1, 1, 1, 1, 1, 1, 1, 1, 1, 1, 1, 1, 1, 1, 1, 1...\n",
      "$ teamID   \u001b[3m\u001b[90m<fct>\u001b[39m\u001b[23m TRO, RC1, CL1, WS3, RC1, FW1, RC1, BS1, FW1, BS1, CL1, CL1...\n",
      "$ lgID     \u001b[3m\u001b[90m<fct>\u001b[39m\u001b[23m NA, NA, NA, NA, NA, NA, NA, NA, NA, NA, NA, NA, NA, NA, NA...\n",
      "$ G        \u001b[3m\u001b[90m<int>\u001b[39m\u001b[23m 1, 25, 29, 27, 25, 12, 1, 31, 1, 18, 22, 1, 10, 3, 20, 29,...\n",
      "$ AB       \u001b[3m\u001b[90m<int>\u001b[39m\u001b[23m 4, 118, 137, 133, 120, 49, 4, 157, 5, 86, 89, 3, 36, 15, 9...\n",
      "$ R        \u001b[3m\u001b[90m<int>\u001b[39m\u001b[23m 0, 30, 28, 28, 29, 9, 0, 66, 1, 13, 18, 0, 6, 7, 24, 26, 0...\n",
      "$ H        \u001b[3m\u001b[90m<int>\u001b[39m\u001b[23m 0, 32, 40, 44, 39, 11, 1, 63, 1, 13, 27, 0, 7, 6, 33, 32, ...\n",
      "$ X2B      \u001b[3m\u001b[90m<int>\u001b[39m\u001b[23m 0, 6, 4, 10, 11, 2, 0, 10, 1, 2, 1, 0, 0, 0, 9, 3, 0, 0, 1...\n",
      "$ X3B      \u001b[3m\u001b[90m<int>\u001b[39m\u001b[23m 0, 0, 5, 2, 3, 1, 0, 9, 0, 1, 10, 0, 0, 0, 1, 3, 0, 0, 1, ...\n",
      "$ HR       \u001b[3m\u001b[90m<int>\u001b[39m\u001b[23m 0, 0, 0, 2, 0, 0, 0, 0, 0, 0, 3, 0, 0, 0, 1, 0, 0, 0, 0, 0...\n",
      "$ RBI      \u001b[3m\u001b[90m<int>\u001b[39m\u001b[23m 0, 13, 19, 27, 16, 5, 2, 34, 1, 11, 18, 0, 1, 5, 21, 23, 0...\n",
      "$ SB       \u001b[3m\u001b[90m<int>\u001b[39m\u001b[23m 0, 8, 3, 1, 6, 0, 0, 11, 0, 1, 0, 0, 2, 2, 4, 4, 0, 0, 3, ...\n",
      "$ CS       \u001b[3m\u001b[90m<int>\u001b[39m\u001b[23m 0, 1, 1, 1, 2, 1, 0, 6, 0, 0, 1, 0, 0, 0, 0, 4, 0, 0, 1, 0...\n",
      "$ BB       \u001b[3m\u001b[90m<int>\u001b[39m\u001b[23m 0, 4, 2, 0, 2, 0, 1, 13, 0, 0, 3, 1, 2, 0, 2, 9, 0, 0, 4, ...\n",
      "$ SO       \u001b[3m\u001b[90m<int>\u001b[39m\u001b[23m 0, 0, 5, 2, 1, 1, 0, 1, 0, 0, 4, 0, 0, 0, 2, 2, 3, 0, 2, 0...\n",
      "$ IBB      \u001b[3m\u001b[90m<int>\u001b[39m\u001b[23m NA, NA, NA, NA, NA, NA, NA, NA, NA, NA, NA, NA, NA, NA, NA...\n",
      "$ HBP      \u001b[3m\u001b[90m<int>\u001b[39m\u001b[23m NA, NA, NA, NA, NA, NA, NA, NA, NA, NA, NA, NA, NA, NA, NA...\n",
      "$ SH       \u001b[3m\u001b[90m<int>\u001b[39m\u001b[23m NA, NA, NA, NA, NA, NA, NA, NA, NA, NA, NA, NA, NA, NA, NA...\n",
      "$ SF       \u001b[3m\u001b[90m<int>\u001b[39m\u001b[23m NA, NA, NA, NA, NA, NA, NA, NA, NA, NA, NA, NA, NA, NA, NA...\n",
      "$ GIDP     \u001b[3m\u001b[90m<int>\u001b[39m\u001b[23m 0, 0, 1, 0, 0, 0, 0, 1, 0, 0, 0, 0, 2, 0, 1, 2, 0, 0, 0, 0...\n"
     ]
    }
   ],
   "source": [
    "as_tibble(Lahman::Batting) %>% glimpse()"
   ]
  },
  {
   "cell_type": "code",
   "execution_count": 82,
   "metadata": {
    "ExecuteTime": {
     "end_time": "2020-01-28T23:43:17.863189Z",
     "start_time": "2020-01-28T23:43:17.791Z"
    },
    "collapsed": true,
    "hidden": true,
    "jupyter": {
     "outputs_hidden": true
    }
   },
   "outputs": [
    {
     "name": "stdout",
     "output_type": "stream",
     "text": [
      "Observations: 105,861\n",
      "Variables: 22\n",
      "$ playerID \u001b[3m\u001b[90m<chr>\u001b[39m\u001b[23m \"abercda01\", \"addybo01\", \"allisar01\", \"allisdo01\", \"ansonc...\n",
      "$ yearID   \u001b[3m\u001b[90m<int>\u001b[39m\u001b[23m 1871, 1871, 1871, 1871, 1871, 1871, 1871, 1871, 1871, 1871...\n",
      "$ stint    \u001b[3m\u001b[90m<int>\u001b[39m\u001b[23m 1, 1, 1, 1, 1, 1, 1, 1, 1, 1, 1, 1, 1, 1, 1, 1, 1, 1, 1, 1...\n",
      "$ teamID   \u001b[3m\u001b[90m<fct>\u001b[39m\u001b[23m TRO, RC1, CL1, WS3, RC1, FW1, RC1, BS1, FW1, BS1, CL1, CL1...\n",
      "$ lgID     \u001b[3m\u001b[90m<fct>\u001b[39m\u001b[23m NA, NA, NA, NA, NA, NA, NA, NA, NA, NA, NA, NA, NA, NA, NA...\n",
      "$ G        \u001b[3m\u001b[90m<int>\u001b[39m\u001b[23m 1, 25, 29, 27, 25, 12, 1, 31, 1, 18, 22, 1, 10, 3, 20, 29,...\n",
      "$ AB       \u001b[3m\u001b[90m<int>\u001b[39m\u001b[23m 4, 118, 137, 133, 120, 49, 4, 157, 5, 86, 89, 3, 36, 15, 9...\n",
      "$ R        \u001b[3m\u001b[90m<int>\u001b[39m\u001b[23m 0, 30, 28, 28, 29, 9, 0, 66, 1, 13, 18, 0, 6, 7, 24, 26, 0...\n",
      "$ H        \u001b[3m\u001b[90m<int>\u001b[39m\u001b[23m 0, 32, 40, 44, 39, 11, 1, 63, 1, 13, 27, 0, 7, 6, 33, 32, ...\n",
      "$ X2B      \u001b[3m\u001b[90m<int>\u001b[39m\u001b[23m 0, 6, 4, 10, 11, 2, 0, 10, 1, 2, 1, 0, 0, 0, 9, 3, 0, 0, 1...\n",
      "$ X3B      \u001b[3m\u001b[90m<int>\u001b[39m\u001b[23m 0, 0, 5, 2, 3, 1, 0, 9, 0, 1, 10, 0, 0, 0, 1, 3, 0, 0, 1, ...\n",
      "$ HR       \u001b[3m\u001b[90m<int>\u001b[39m\u001b[23m 0, 0, 0, 2, 0, 0, 0, 0, 0, 0, 3, 0, 0, 0, 1, 0, 0, 0, 0, 0...\n",
      "$ RBI      \u001b[3m\u001b[90m<int>\u001b[39m\u001b[23m 0, 13, 19, 27, 16, 5, 2, 34, 1, 11, 18, 0, 1, 5, 21, 23, 0...\n",
      "$ SB       \u001b[3m\u001b[90m<int>\u001b[39m\u001b[23m 0, 8, 3, 1, 6, 0, 0, 11, 0, 1, 0, 0, 2, 2, 4, 4, 0, 0, 3, ...\n",
      "$ CS       \u001b[3m\u001b[90m<int>\u001b[39m\u001b[23m 0, 1, 1, 1, 2, 1, 0, 6, 0, 0, 1, 0, 0, 0, 0, 4, 0, 0, 1, 0...\n",
      "$ BB       \u001b[3m\u001b[90m<int>\u001b[39m\u001b[23m 0, 4, 2, 0, 2, 0, 1, 13, 0, 0, 3, 1, 2, 0, 2, 9, 0, 0, 4, ...\n",
      "$ SO       \u001b[3m\u001b[90m<int>\u001b[39m\u001b[23m 0, 0, 5, 2, 1, 1, 0, 1, 0, 0, 4, 0, 0, 0, 2, 2, 3, 0, 2, 0...\n",
      "$ IBB      \u001b[3m\u001b[90m<int>\u001b[39m\u001b[23m NA, NA, NA, NA, NA, NA, NA, NA, NA, NA, NA, NA, NA, NA, NA...\n",
      "$ HBP      \u001b[3m\u001b[90m<int>\u001b[39m\u001b[23m NA, NA, NA, NA, NA, NA, NA, NA, NA, NA, NA, NA, NA, NA, NA...\n",
      "$ SH       \u001b[3m\u001b[90m<int>\u001b[39m\u001b[23m NA, NA, NA, NA, NA, NA, NA, NA, NA, NA, NA, NA, NA, NA, NA...\n",
      "$ SF       \u001b[3m\u001b[90m<int>\u001b[39m\u001b[23m NA, NA, NA, NA, NA, NA, NA, NA, NA, NA, NA, NA, NA, NA, NA...\n",
      "$ GIDP     \u001b[3m\u001b[90m<int>\u001b[39m\u001b[23m 0, 0, 1, 0, 0, 0, 0, 1, 0, 0, 0, 0, 2, 0, 1, 2, 0, 0, 0, 0...\n"
     ]
    }
   ],
   "source": [
    "batting <- as_tibble(Lahman::Batting)\n",
    "batting %>% glimpse()"
   ]
  },
  {
   "cell_type": "code",
   "execution_count": 83,
   "metadata": {
    "ExecuteTime": {
     "end_time": "2020-01-28T23:44:23.338666Z",
     "start_time": "2020-01-28T23:44:21.255Z"
    },
    "hidden": true
   },
   "outputs": [
    {
     "name": "stderr",
     "output_type": "stream",
     "text": [
      "`geom_smooth()` using method = 'gam' and formula 'y ~ s(x, bs = \"cs\")'\n",
      "\n"
     ]
    },
    {
     "data": {
      "image/png": "[encoded data removed]",
      "text/plain": [
       "plot without title"
      ]
     },
     "metadata": {
      "image/png": {
       "height": 420,
       "width": 420
      }
     },
     "output_type": "display_data"
    }
   ],
   "source": [
    "# Convert to a tibble so it prints nicely\n",
    "batting <- as_tibble(Lahman::Batting)\n",
    "\n",
    "batters <- batting %>% \n",
    "  group_by(playerID) %>% \n",
    "  summarise(\n",
    "    ba = sum(H, na.rm = TRUE) / sum(AB, na.rm = TRUE),\n",
    "    ab = sum(AB, na.rm = TRUE)\n",
    "  )\n",
    "\n",
    "batters %>% \n",
    "  filter(ab > 100) %>% \n",
    "  ggplot(mapping = aes(x = ab, y = ba)) +\n",
    "    geom_point() + \n",
    "    geom_smooth(se = FALSE)\n",
    "#> `geom_smooth()` using method = 'gam' and formula 'y ~ s(x, bs = \"cs\")'"
   ]
  },
  {
   "cell_type": "markdown",
   "metadata": {
    "hidden": true
   },
   "source": [
    "You can find a good explanation of this problem at http://varianceexplained.org/r/empirical_bayes_baseball/ and http://www.evanmiller.org/how-not-to-sort-by-average-rating.html."
   ]
  },
  {
   "cell_type": "markdown",
   "metadata": {},
   "source": [
    "### <font color = 'green'>Useful summary functions</font>"
   ]
  },
  {
   "cell_type": "markdown",
   "metadata": {},
   "source": [
    "Just using means, counts, and sum can get you a long way, but R provides many other useful summary functions:"
   ]
  },
  {
   "cell_type": "markdown",
   "metadata": {
    "heading_collapsed": true
   },
   "source": [
    "##### <b><font color = 'MAROON'>Measures of location</font></b>"
   ]
  },
  {
   "cell_type": "markdown",
   "metadata": {
    "hidden": true
   },
   "source": [
    "* <font color = 'green'><b>Measures of location</b></font>: we’ve used `mean(x)`, but `median(x)` is also\n",
    "    useful. The mean is the sum divided by the length; the median is a value\n",
    "    where 50% of `x` is above it, and 50% is below it.\n",
    "\n",
    "    It’s sometimes useful to combine aggregation with logical subsetting.\n",
    "    We haven’t talked about this sort of subsetting yet, but you’ll learn more\n",
    "    about it in [subsetting](https://r4ds.had.co.nz/vectors.html#subsetting-1)."
   ]
  },
  {
   "cell_type": "code",
   "execution_count": 86,
   "metadata": {
    "ExecuteTime": {
     "end_time": "2020-01-28T23:50:39.976820Z",
     "start_time": "2020-01-28T23:50:39.843Z"
    },
    "hidden": true
   },
   "outputs": [
    {
     "name": "stdout",
     "output_type": "stream",
     "text": [
      "Observations: 365\n",
      "Variables: 5\n",
      "Groups: year, month [12]\n",
      "$ year       \u001b[3m\u001b[90m<int>\u001b[39m\u001b[23m 2013, 2013, 2013, 2013, 2013, 2013, 2013, 2013, 2013, 20...\n",
      "$ month      \u001b[3m\u001b[90m<int>\u001b[39m\u001b[23m 1, 1, 1, 1, 1, 1, 1, 1, 1, 1, 1, 1, 1, 1, 1, 1, 1, 1, 1,...\n",
      "$ day        \u001b[3m\u001b[90m<int>\u001b[39m\u001b[23m 1, 2, 3, 4, 5, 6, 7, 8, 9, 10, 11, 12, 13, 14, 15, 16, 1...\n",
      "$ avg_delay1 \u001b[3m\u001b[90m<dbl>\u001b[39m\u001b[23m 12.6510229, 12.6928879, 5.7333333, -1.9328194, -1.525802...\n",
      "$ avg_delay2 \u001b[3m\u001b[90m<dbl>\u001b[39m\u001b[23m 32.48156, 32.02991, 27.66087, 28.30976, 22.55882, 24.372...\n"
     ]
    }
   ],
   "source": [
    "not_cancelled <- flights %>%\n",
    "  filter(!is.na(dep_delay), !is.na(arr_delay))\n",
    "\n",
    "not_cancelled %>% \n",
    "  group_by(year, month, day) %>% \n",
    "  summarise(\n",
    "    avg_delay1 = mean(arr_delay),\n",
    "    avg_delay2 = mean(arr_delay[arr_delay > 0]) # the average positive delay\n",
    "  ) %>% glimpse()"
   ]
  },
  {
   "cell_type": "markdown",
   "metadata": {
    "heading_collapsed": true
   },
   "source": [
    "##### <b><font color = 'MAROON'>Measures of spread</font></b>"
   ]
  },
  {
   "cell_type": "markdown",
   "metadata": {
    "hidden": true
   },
   "source": [
    "* <font color = 'green'><b>Measures of spread</b></font>: `sd(x)`, `IQR(x)`, `mad(x)`. The root mean squared deviation,\n",
    "or standard deviation `sd(x)`, is the standard measure of spread.\n",
    "The interquartile range `IQR(x)` and median absolute deviation `mad(x)`\n",
    "are robust equivalents that may be more useful if you have outliers."
   ]
  },
  {
   "cell_type": "code",
   "execution_count": 99,
   "metadata": {
    "ExecuteTime": {
     "end_time": "2020-01-29T02:27:42.093337Z",
     "start_time": "2020-01-29T02:27:41.995Z"
    },
    "hidden": true
   },
   "outputs": [
    {
     "data": {
      "text/html": [
       "<table>\n",
       "<caption>A tibble: 6 × 2</caption>\n",
       "<thead>\n",
       "\t<tr><th scope=col>dest</th><th scope=col>distance_sd</th></tr>\n",
       "\t<tr><th scope=col>&lt;chr&gt;</th><th scope=col>&lt;dbl&gt;</th></tr>\n",
       "</thead>\n",
       "<tbody>\n",
       "\t<tr><td>EGE</td><td>10.542765</td></tr>\n",
       "\t<tr><td>SAN</td><td>10.350094</td></tr>\n",
       "\t<tr><td>SFO</td><td>10.216017</td></tr>\n",
       "\t<tr><td>HNL</td><td>10.004197</td></tr>\n",
       "\t<tr><td>SEA</td><td> 9.977993</td></tr>\n",
       "\t<tr><td>LAS</td><td> 9.907786</td></tr>\n",
       "</tbody>\n",
       "</table>\n"
      ],
      "text/latex": [
       "A tibble: 6 × 2\n",
       "\\begin{tabular}{r|ll}\n",
       " dest & distance\\_sd\\\\\n",
       " <chr> & <dbl>\\\\\n",
       "\\hline\n",
       "\t EGE & 10.542765\\\\\n",
       "\t SAN & 10.350094\\\\\n",
       "\t SFO & 10.216017\\\\\n",
       "\t HNL & 10.004197\\\\\n",
       "\t SEA &  9.977993\\\\\n",
       "\t LAS &  9.907786\\\\\n",
       "\\end{tabular}\n"
      ],
      "text/markdown": [
       "\n",
       "A tibble: 6 × 2\n",
       "\n",
       "| dest &lt;chr&gt; | distance_sd &lt;dbl&gt; |\n",
       "|---|---|\n",
       "| EGE | 10.542765 |\n",
       "| SAN | 10.350094 |\n",
       "| SFO | 10.216017 |\n",
       "| HNL | 10.004197 |\n",
       "| SEA |  9.977993 |\n",
       "| LAS |  9.907786 |\n",
       "\n"
      ],
      "text/plain": [
       "  dest distance_sd\n",
       "1 EGE  10.542765  \n",
       "2 SAN  10.350094  \n",
       "3 SFO  10.216017  \n",
       "4 HNL  10.004197  \n",
       "5 SEA   9.977993  \n",
       "6 LAS   9.907786  "
      ]
     },
     "metadata": {},
     "output_type": "display_data"
    }
   ],
   "source": [
    "# Why is distance to some destinations more variable than to others?\n",
    "not_cancelled %>% \n",
    "  group_by(dest) %>% \n",
    "  summarise(distance_sd = sd(distance)) %>% \n",
    "  arrange(desc(distance_sd)) %>% head()"
   ]
  },
  {
   "cell_type": "markdown",
   "metadata": {
    "heading_collapsed": true
   },
   "source": [
    "##### <b><font color = 'MAROON'>Measures of rank</font></b>"
   ]
  },
  {
   "cell_type": "markdown",
   "metadata": {
    "hidden": true
   },
   "source": [
    "Measures of rank: `min(x)`, `quantile(x, 0.25)`, `max(x)`. Quantiles\n",
    "are a generalisation of the median. For example, `quantile(x, 0.25)`\n",
    "will find a value of `x` that is greater than 25% of the values,\n",
    "and less than the remaining 75%."
   ]
  },
  {
   "cell_type": "code",
   "execution_count": 96,
   "metadata": {
    "ExecuteTime": {
     "end_time": "2020-01-29T02:25:00.088838Z",
     "start_time": "2020-01-29T02:24:59.887Z"
    },
    "code_folding": [],
    "collapsed": true,
    "hidden": true,
    "jupyter": {
     "outputs_hidden": true
    }
   },
   "outputs": [
    {
     "data": {
      "text/html": [
       "<table>\n",
       "<caption>A grouped_df: 365 × 5</caption>\n",
       "<thead>\n",
       "\t<tr><th scope=col>year</th><th scope=col>month</th><th scope=col>day</th><th scope=col>first</th><th scope=col>last</th></tr>\n",
       "\t<tr><th scope=col>&lt;int&gt;</th><th scope=col>&lt;int&gt;</th><th scope=col>&lt;int&gt;</th><th scope=col>&lt;int&gt;</th><th scope=col>&lt;int&gt;</th></tr>\n",
       "</thead>\n",
       "<tbody>\n",
       "\t<tr><td>2013</td><td>1</td><td> 1</td><td>517</td><td>2356</td></tr>\n",
       "\t<tr><td>2013</td><td>1</td><td> 2</td><td> 42</td><td>2354</td></tr>\n",
       "\t<tr><td>2013</td><td>1</td><td> 3</td><td> 32</td><td>2349</td></tr>\n",
       "\t<tr><td>2013</td><td>1</td><td> 4</td><td> 25</td><td>2358</td></tr>\n",
       "\t<tr><td>2013</td><td>1</td><td> 5</td><td> 14</td><td>2357</td></tr>\n",
       "\t<tr><td>2013</td><td>1</td><td> 6</td><td> 16</td><td>2355</td></tr>\n",
       "\t<tr><td>2013</td><td>1</td><td> 7</td><td> 49</td><td>2359</td></tr>\n",
       "\t<tr><td>2013</td><td>1</td><td> 8</td><td>454</td><td>2351</td></tr>\n",
       "\t<tr><td>2013</td><td>1</td><td> 9</td><td>  2</td><td>2252</td></tr>\n",
       "\t<tr><td>2013</td><td>1</td><td>10</td><td>  3</td><td>2320</td></tr>\n",
       "\t<tr><td>2013</td><td>1</td><td>11</td><td> 11</td><td>2304</td></tr>\n",
       "\t<tr><td>2013</td><td>1</td><td>12</td><td> 30</td><td>2359</td></tr>\n",
       "\t<tr><td>2013</td><td>1</td><td>13</td><td>  1</td><td>2359</td></tr>\n",
       "\t<tr><td>2013</td><td>1</td><td>14</td><td>453</td><td>2353</td></tr>\n",
       "\t<tr><td>2013</td><td>1</td><td>15</td><td>453</td><td>2356</td></tr>\n",
       "\t<tr><td>2013</td><td>1</td><td>16</td><td>  2</td><td>2358</td></tr>\n",
       "\t<tr><td>2013</td><td>1</td><td>17</td><td>453</td><td>2352</td></tr>\n",
       "\t<tr><td>2013</td><td>1</td><td>18</td><td>455</td><td>2359</td></tr>\n",
       "\t<tr><td>2013</td><td>1</td><td>19</td><td>456</td><td>2359</td></tr>\n",
       "\t<tr><td>2013</td><td>1</td><td>20</td><td>525</td><td>2356</td></tr>\n",
       "\t<tr><td>2013</td><td>1</td><td>21</td><td>455</td><td>2352</td></tr>\n",
       "\t<tr><td>2013</td><td>1</td><td>22</td><td>  5</td><td>2358</td></tr>\n",
       "\t<tr><td>2013</td><td>1</td><td>23</td><td>158</td><td>2358</td></tr>\n",
       "\t<tr><td>2013</td><td>1</td><td>24</td><td> 37</td><td>2350</td></tr>\n",
       "\t<tr><td>2013</td><td>1</td><td>25</td><td> 15</td><td>2359</td></tr>\n",
       "\t<tr><td>2013</td><td>1</td><td>26</td><td>107</td><td>2352</td></tr>\n",
       "\t<tr><td>2013</td><td>1</td><td>27</td><td>523</td><td>2355</td></tr>\n",
       "\t<tr><td>2013</td><td>1</td><td>28</td><td> 10</td><td>2356</td></tr>\n",
       "\t<tr><td>2013</td><td>1</td><td>29</td><td>448</td><td>2354</td></tr>\n",
       "\t<tr><td>2013</td><td>1</td><td>30</td><td>  3</td><td>2354</td></tr>\n",
       "\t<tr><td>...</td><td>...</td><td>...</td><td>...</td><td>...</td></tr>\n",
       "\t<tr><td>2013</td><td>12</td><td> 2</td><td> 12</td><td>2358</td></tr>\n",
       "\t<tr><td>2013</td><td>12</td><td> 3</td><td>457</td><td>2358</td></tr>\n",
       "\t<tr><td>2013</td><td>12</td><td> 4</td><td>457</td><td>2355</td></tr>\n",
       "\t<tr><td>2013</td><td>12</td><td> 5</td><td> 16</td><td>2400</td></tr>\n",
       "\t<tr><td>2013</td><td>12</td><td> 6</td><td>  6</td><td>2357</td></tr>\n",
       "\t<tr><td>2013</td><td>12</td><td> 7</td><td>  3</td><td>2358</td></tr>\n",
       "\t<tr><td>2013</td><td>12</td><td> 8</td><td> 16</td><td>2354</td></tr>\n",
       "\t<tr><td>2013</td><td>12</td><td> 9</td><td> 11</td><td>2400</td></tr>\n",
       "\t<tr><td>2013</td><td>12</td><td>10</td><td>  7</td><td>2348</td></tr>\n",
       "\t<tr><td>2013</td><td>12</td><td>11</td><td>459</td><td>2359</td></tr>\n",
       "\t<tr><td>2013</td><td>12</td><td>12</td><td>  2</td><td>2356</td></tr>\n",
       "\t<tr><td>2013</td><td>12</td><td>13</td><td> 15</td><td>2400</td></tr>\n",
       "\t<tr><td>2013</td><td>12</td><td>14</td><td>  3</td><td>2359</td></tr>\n",
       "\t<tr><td>2013</td><td>12</td><td>15</td><td>  5</td><td>2359</td></tr>\n",
       "\t<tr><td>2013</td><td>12</td><td>16</td><td>  1</td><td>2332</td></tr>\n",
       "\t<tr><td>2013</td><td>12</td><td>17</td><td>  4</td><td>2358</td></tr>\n",
       "\t<tr><td>2013</td><td>12</td><td>18</td><td>500</td><td>2358</td></tr>\n",
       "\t<tr><td>2013</td><td>12</td><td>19</td><td> 17</td><td>2400</td></tr>\n",
       "\t<tr><td>2013</td><td>12</td><td>20</td><td>  1</td><td>2358</td></tr>\n",
       "\t<tr><td>2013</td><td>12</td><td>21</td><td>  2</td><td>2357</td></tr>\n",
       "\t<tr><td>2013</td><td>12</td><td>22</td><td>  7</td><td>2358</td></tr>\n",
       "\t<tr><td>2013</td><td>12</td><td>23</td><td> 11</td><td>2354</td></tr>\n",
       "\t<tr><td>2013</td><td>12</td><td>24</td><td>  9</td><td>2358</td></tr>\n",
       "\t<tr><td>2013</td><td>12</td><td>25</td><td>456</td><td>2357</td></tr>\n",
       "\t<tr><td>2013</td><td>12</td><td>26</td><td>  1</td><td>2355</td></tr>\n",
       "\t<tr><td>2013</td><td>12</td><td>27</td><td>  2</td><td>2351</td></tr>\n",
       "\t<tr><td>2013</td><td>12</td><td>28</td><td>  7</td><td>2358</td></tr>\n",
       "\t<tr><td>2013</td><td>12</td><td>29</td><td>  3</td><td>2400</td></tr>\n",
       "\t<tr><td>2013</td><td>12</td><td>30</td><td>  1</td><td>2356</td></tr>\n",
       "\t<tr><td>2013</td><td>12</td><td>31</td><td> 13</td><td>2356</td></tr>\n",
       "</tbody>\n",
       "</table>\n"
      ],
      "text/latex": [
       "A grouped_df: 365 × 5\n",
       "\\begin{tabular}{r|lllll}\n",
       " year & month & day & first & last\\\\\n",
       " <int> & <int> & <int> & <int> & <int>\\\\\n",
       "\\hline\n",
       "\t 2013 & 1 &  1 & 517 & 2356\\\\\n",
       "\t 2013 & 1 &  2 &  42 & 2354\\\\\n",
       "\t 2013 & 1 &  3 &  32 & 2349\\\\\n",
       "\t 2013 & 1 &  4 &  25 & 2358\\\\\n",
       "\t 2013 & 1 &  5 &  14 & 2357\\\\\n",
       "\t 2013 & 1 &  6 &  16 & 2355\\\\\n",
       "\t 2013 & 1 &  7 &  49 & 2359\\\\\n",
       "\t 2013 & 1 &  8 & 454 & 2351\\\\\n",
       "\t 2013 & 1 &  9 &   2 & 2252\\\\\n",
       "\t 2013 & 1 & 10 &   3 & 2320\\\\\n",
       "\t 2013 & 1 & 11 &  11 & 2304\\\\\n",
       "\t 2013 & 1 & 12 &  30 & 2359\\\\\n",
       "\t 2013 & 1 & 13 &   1 & 2359\\\\\n",
       "\t 2013 & 1 & 14 & 453 & 2353\\\\\n",
       "\t 2013 & 1 & 15 & 453 & 2356\\\\\n",
       "\t 2013 & 1 & 16 &   2 & 2358\\\\\n",
       "\t 2013 & 1 & 17 & 453 & 2352\\\\\n",
       "\t 2013 & 1 & 18 & 455 & 2359\\\\\n",
       "\t 2013 & 1 & 19 & 456 & 2359\\\\\n",
       "\t 2013 & 1 & 20 & 525 & 2356\\\\\n",
       "\t 2013 & 1 & 21 & 455 & 2352\\\\\n",
       "\t 2013 & 1 & 22 &   5 & 2358\\\\\n",
       "\t 2013 & 1 & 23 & 158 & 2358\\\\\n",
       "\t 2013 & 1 & 24 &  37 & 2350\\\\\n",
       "\t 2013 & 1 & 25 &  15 & 2359\\\\\n",
       "\t 2013 & 1 & 26 & 107 & 2352\\\\\n",
       "\t 2013 & 1 & 27 & 523 & 2355\\\\\n",
       "\t 2013 & 1 & 28 &  10 & 2356\\\\\n",
       "\t 2013 & 1 & 29 & 448 & 2354\\\\\n",
       "\t 2013 & 1 & 30 &   3 & 2354\\\\\n",
       "\t ... & ... & ... & ... & ...\\\\\n",
       "\t 2013 & 12 &  2 &  12 & 2358\\\\\n",
       "\t 2013 & 12 &  3 & 457 & 2358\\\\\n",
       "\t 2013 & 12 &  4 & 457 & 2355\\\\\n",
       "\t 2013 & 12 &  5 &  16 & 2400\\\\\n",
       "\t 2013 & 12 &  6 &   6 & 2357\\\\\n",
       "\t 2013 & 12 &  7 &   3 & 2358\\\\\n",
       "\t 2013 & 12 &  8 &  16 & 2354\\\\\n",
       "\t 2013 & 12 &  9 &  11 & 2400\\\\\n",
       "\t 2013 & 12 & 10 &   7 & 2348\\\\\n",
       "\t 2013 & 12 & 11 & 459 & 2359\\\\\n",
       "\t 2013 & 12 & 12 &   2 & 2356\\\\\n",
       "\t 2013 & 12 & 13 &  15 & 2400\\\\\n",
       "\t 2013 & 12 & 14 &   3 & 2359\\\\\n",
       "\t 2013 & 12 & 15 &   5 & 2359\\\\\n",
       "\t 2013 & 12 & 16 &   1 & 2332\\\\\n",
       "\t 2013 & 12 & 17 &   4 & 2358\\\\\n",
       "\t 2013 & 12 & 18 & 500 & 2358\\\\\n",
       "\t 2013 & 12 & 19 &  17 & 2400\\\\\n",
       "\t 2013 & 12 & 20 &   1 & 2358\\\\\n",
       "\t 2013 & 12 & 21 &   2 & 2357\\\\\n",
       "\t 2013 & 12 & 22 &   7 & 2358\\\\\n",
       "\t 2013 & 12 & 23 &  11 & 2354\\\\\n",
       "\t 2013 & 12 & 24 &   9 & 2358\\\\\n",
       "\t 2013 & 12 & 25 & 456 & 2357\\\\\n",
       "\t 2013 & 12 & 26 &   1 & 2355\\\\\n",
       "\t 2013 & 12 & 27 &   2 & 2351\\\\\n",
       "\t 2013 & 12 & 28 &   7 & 2358\\\\\n",
       "\t 2013 & 12 & 29 &   3 & 2400\\\\\n",
       "\t 2013 & 12 & 30 &   1 & 2356\\\\\n",
       "\t 2013 & 12 & 31 &  13 & 2356\\\\\n",
       "\\end{tabular}\n"
      ],
      "text/markdown": [
       "\n",
       "A grouped_df: 365 × 5\n",
       "\n",
       "| year &lt;int&gt; | month &lt;int&gt; | day &lt;int&gt; | first &lt;int&gt; | last &lt;int&gt; |\n",
       "|---|---|---|---|---|\n",
       "| 2013 | 1 |  1 | 517 | 2356 |\n",
       "| 2013 | 1 |  2 |  42 | 2354 |\n",
       "| 2013 | 1 |  3 |  32 | 2349 |\n",
       "| 2013 | 1 |  4 |  25 | 2358 |\n",
       "| 2013 | 1 |  5 |  14 | 2357 |\n",
       "| 2013 | 1 |  6 |  16 | 2355 |\n",
       "| 2013 | 1 |  7 |  49 | 2359 |\n",
       "| 2013 | 1 |  8 | 454 | 2351 |\n",
       "| 2013 | 1 |  9 |   2 | 2252 |\n",
       "| 2013 | 1 | 10 |   3 | 2320 |\n",
       "| 2013 | 1 | 11 |  11 | 2304 |\n",
       "| 2013 | 1 | 12 |  30 | 2359 |\n",
       "| 2013 | 1 | 13 |   1 | 2359 |\n",
       "| 2013 | 1 | 14 | 453 | 2353 |\n",
       "| 2013 | 1 | 15 | 453 | 2356 |\n",
       "| 2013 | 1 | 16 |   2 | 2358 |\n",
       "| 2013 | 1 | 17 | 453 | 2352 |\n",
       "| 2013 | 1 | 18 | 455 | 2359 |\n",
       "| 2013 | 1 | 19 | 456 | 2359 |\n",
       "| 2013 | 1 | 20 | 525 | 2356 |\n",
       "| 2013 | 1 | 21 | 455 | 2352 |\n",
       "| 2013 | 1 | 22 |   5 | 2358 |\n",
       "| 2013 | 1 | 23 | 158 | 2358 |\n",
       "| 2013 | 1 | 24 |  37 | 2350 |\n",
       "| 2013 | 1 | 25 |  15 | 2359 |\n",
       "| 2013 | 1 | 26 | 107 | 2352 |\n",
       "| 2013 | 1 | 27 | 523 | 2355 |\n",
       "| 2013 | 1 | 28 |  10 | 2356 |\n",
       "| 2013 | 1 | 29 | 448 | 2354 |\n",
       "| 2013 | 1 | 30 |   3 | 2354 |\n",
       "| ... | ... | ... | ... | ... |\n",
       "| 2013 | 12 |  2 |  12 | 2358 |\n",
       "| 2013 | 12 |  3 | 457 | 2358 |\n",
       "| 2013 | 12 |  4 | 457 | 2355 |\n",
       "| 2013 | 12 |  5 |  16 | 2400 |\n",
       "| 2013 | 12 |  6 |   6 | 2357 |\n",
       "| 2013 | 12 |  7 |   3 | 2358 |\n",
       "| 2013 | 12 |  8 |  16 | 2354 |\n",
       "| 2013 | 12 |  9 |  11 | 2400 |\n",
       "| 2013 | 12 | 10 |   7 | 2348 |\n",
       "| 2013 | 12 | 11 | 459 | 2359 |\n",
       "| 2013 | 12 | 12 |   2 | 2356 |\n",
       "| 2013 | 12 | 13 |  15 | 2400 |\n",
       "| 2013 | 12 | 14 |   3 | 2359 |\n",
       "| 2013 | 12 | 15 |   5 | 2359 |\n",
       "| 2013 | 12 | 16 |   1 | 2332 |\n",
       "| 2013 | 12 | 17 |   4 | 2358 |\n",
       "| 2013 | 12 | 18 | 500 | 2358 |\n",
       "| 2013 | 12 | 19 |  17 | 2400 |\n",
       "| 2013 | 12 | 20 |   1 | 2358 |\n",
       "| 2013 | 12 | 21 |   2 | 2357 |\n",
       "| 2013 | 12 | 22 |   7 | 2358 |\n",
       "| 2013 | 12 | 23 |  11 | 2354 |\n",
       "| 2013 | 12 | 24 |   9 | 2358 |\n",
       "| 2013 | 12 | 25 | 456 | 2357 |\n",
       "| 2013 | 12 | 26 |   1 | 2355 |\n",
       "| 2013 | 12 | 27 |   2 | 2351 |\n",
       "| 2013 | 12 | 28 |   7 | 2358 |\n",
       "| 2013 | 12 | 29 |   3 | 2400 |\n",
       "| 2013 | 12 | 30 |   1 | 2356 |\n",
       "| 2013 | 12 | 31 |  13 | 2356 |\n",
       "\n"
      ],
      "text/plain": [
       "    year month day first last\n",
       "1   2013 1      1  517   2356\n",
       "2   2013 1      2   42   2354\n",
       "3   2013 1      3   32   2349\n",
       "4   2013 1      4   25   2358\n",
       "5   2013 1      5   14   2357\n",
       "6   2013 1      6   16   2355\n",
       "7   2013 1      7   49   2359\n",
       "8   2013 1      8  454   2351\n",
       "9   2013 1      9    2   2252\n",
       "10  2013 1     10    3   2320\n",
       "11  2013 1     11   11   2304\n",
       "12  2013 1     12   30   2359\n",
       "13  2013 1     13    1   2359\n",
       "14  2013 1     14  453   2353\n",
       "15  2013 1     15  453   2356\n",
       "16  2013 1     16    2   2358\n",
       "17  2013 1     17  453   2352\n",
       "18  2013 1     18  455   2359\n",
       "19  2013 1     19  456   2359\n",
       "20  2013 1     20  525   2356\n",
       "21  2013 1     21  455   2352\n",
       "22  2013 1     22    5   2358\n",
       "23  2013 1     23  158   2358\n",
       "24  2013 1     24   37   2350\n",
       "25  2013 1     25   15   2359\n",
       "26  2013 1     26  107   2352\n",
       "27  2013 1     27  523   2355\n",
       "28  2013 1     28   10   2356\n",
       "29  2013 1     29  448   2354\n",
       "30  2013 1     30    3   2354\n",
       "... ...  ...   ... ...   ... \n",
       "336 2013 12     2   12   2358\n",
       "337 2013 12     3  457   2358\n",
       "338 2013 12     4  457   2355\n",
       "339 2013 12     5   16   2400\n",
       "340 2013 12     6    6   2357\n",
       "341 2013 12     7    3   2358\n",
       "342 2013 12     8   16   2354\n",
       "343 2013 12     9   11   2400\n",
       "344 2013 12    10    7   2348\n",
       "345 2013 12    11  459   2359\n",
       "346 2013 12    12    2   2356\n",
       "347 2013 12    13   15   2400\n",
       "348 2013 12    14    3   2359\n",
       "349 2013 12    15    5   2359\n",
       "350 2013 12    16    1   2332\n",
       "351 2013 12    17    4   2358\n",
       "352 2013 12    18  500   2358\n",
       "353 2013 12    19   17   2400\n",
       "354 2013 12    20    1   2358\n",
       "355 2013 12    21    2   2357\n",
       "356 2013 12    22    7   2358\n",
       "357 2013 12    23   11   2354\n",
       "358 2013 12    24    9   2358\n",
       "359 2013 12    25  456   2357\n",
       "360 2013 12    26    1   2355\n",
       "361 2013 12    27    2   2351\n",
       "362 2013 12    28    7   2358\n",
       "363 2013 12    29    3   2400\n",
       "364 2013 12    30    1   2356\n",
       "365 2013 12    31   13   2356"
      ]
     },
     "metadata": {},
     "output_type": "display_data"
    }
   ],
   "source": [
    "# When do the first and last flights leave each day?\n",
    "not_cancelled %>% \n",
    "  group_by(year, month, day) %>% \n",
    "  summarise(\n",
    "    first = min(dep_time),\n",
    "    last = max(dep_time)\n",
    "  )"
   ]
  },
  {
   "cell_type": "markdown",
   "metadata": {
    "heading_collapsed": true
   },
   "source": [
    "##### <b><font color = 'MAROON'>Measures of position</font></b>"
   ]
  },
  {
   "cell_type": "markdown",
   "metadata": {
    "hidden": true
   },
   "source": [
    "Measures of position: first(x), nth(x, 2), last(x). These work similarly to x[1], x[2], and x[length(x)] but let you set a default value if that position does not exist (i.e. you’re trying to get the 3rd element from a group that only has two elements). For example, we can find the first and last departure for each day:"
   ]
  },
  {
   "cell_type": "code",
   "execution_count": 101,
   "metadata": {
    "ExecuteTime": {
     "end_time": "2020-01-29T02:34:14.155266Z",
     "start_time": "2020-01-29T02:34:14.052Z"
    },
    "hidden": true
   },
   "outputs": [
    {
     "data": {
      "text/html": [
       "<table>\n",
       "<caption>A grouped_df: 6 × 5</caption>\n",
       "<thead>\n",
       "\t<tr><th scope=col>year</th><th scope=col>month</th><th scope=col>day</th><th scope=col>first_dep</th><th scope=col>last_dep</th></tr>\n",
       "\t<tr><th scope=col>&lt;int&gt;</th><th scope=col>&lt;int&gt;</th><th scope=col>&lt;int&gt;</th><th scope=col>&lt;int&gt;</th><th scope=col>&lt;int&gt;</th></tr>\n",
       "</thead>\n",
       "<tbody>\n",
       "\t<tr><td>2013</td><td>1</td><td>1</td><td>517</td><td>2356</td></tr>\n",
       "\t<tr><td>2013</td><td>1</td><td>2</td><td> 42</td><td>2354</td></tr>\n",
       "\t<tr><td>2013</td><td>1</td><td>3</td><td> 32</td><td>2349</td></tr>\n",
       "\t<tr><td>2013</td><td>1</td><td>4</td><td> 25</td><td>2358</td></tr>\n",
       "\t<tr><td>2013</td><td>1</td><td>5</td><td> 14</td><td>2357</td></tr>\n",
       "\t<tr><td>2013</td><td>1</td><td>6</td><td> 16</td><td>2355</td></tr>\n",
       "</tbody>\n",
       "</table>\n"
      ],
      "text/latex": [
       "A grouped_df: 6 × 5\n",
       "\\begin{tabular}{r|lllll}\n",
       " year & month & day & first\\_dep & last\\_dep\\\\\n",
       " <int> & <int> & <int> & <int> & <int>\\\\\n",
       "\\hline\n",
       "\t 2013 & 1 & 1 & 517 & 2356\\\\\n",
       "\t 2013 & 1 & 2 &  42 & 2354\\\\\n",
       "\t 2013 & 1 & 3 &  32 & 2349\\\\\n",
       "\t 2013 & 1 & 4 &  25 & 2358\\\\\n",
       "\t 2013 & 1 & 5 &  14 & 2357\\\\\n",
       "\t 2013 & 1 & 6 &  16 & 2355\\\\\n",
       "\\end{tabular}\n"
      ],
      "text/markdown": [
       "\n",
       "A grouped_df: 6 × 5\n",
       "\n",
       "| year &lt;int&gt; | month &lt;int&gt; | day &lt;int&gt; | first_dep &lt;int&gt; | last_dep &lt;int&gt; |\n",
       "|---|---|---|---|---|\n",
       "| 2013 | 1 | 1 | 517 | 2356 |\n",
       "| 2013 | 1 | 2 |  42 | 2354 |\n",
       "| 2013 | 1 | 3 |  32 | 2349 |\n",
       "| 2013 | 1 | 4 |  25 | 2358 |\n",
       "| 2013 | 1 | 5 |  14 | 2357 |\n",
       "| 2013 | 1 | 6 |  16 | 2355 |\n",
       "\n"
      ],
      "text/plain": [
       "  year month day first_dep last_dep\n",
       "1 2013 1     1   517       2356    \n",
       "2 2013 1     2    42       2354    \n",
       "3 2013 1     3    32       2349    \n",
       "4 2013 1     4    25       2358    \n",
       "5 2013 1     5    14       2357    \n",
       "6 2013 1     6    16       2355    "
      ]
     },
     "metadata": {},
     "output_type": "display_data"
    }
   ],
   "source": [
    "not_cancelled %>% \n",
    "  group_by(year, month, day) %>% \n",
    "  summarise(\n",
    "    first_dep = first(dep_time), \n",
    "    last_dep = last(dep_time)\n",
    "  ) %>% head()"
   ]
  },
  {
   "cell_type": "markdown",
   "metadata": {
    "hidden": true
   },
   "source": [
    "These functions are complementary to filtering on ranks. Filtering gives you all variables, with each observation in a separate row:"
   ]
  },
  {
   "cell_type": "code",
   "execution_count": 129,
   "metadata": {
    "ExecuteTime": {
     "end_time": "2020-01-29T03:45:57.446344Z",
     "start_time": "2020-01-29T03:45:57.205Z"
    },
    "hidden": true
   },
   "outputs": [
    {
     "data": {
      "text/html": [
       "<table>\n",
       "<caption>A grouped_df: 4 × 20</caption>\n",
       "<thead>\n",
       "\t<tr><th scope=col>year</th><th scope=col>month</th><th scope=col>day</th><th scope=col>dep_time</th><th scope=col>sched_dep_time</th><th scope=col>dep_delay</th><th scope=col>arr_time</th><th scope=col>sched_arr_time</th><th scope=col>arr_delay</th><th scope=col>carrier</th><th scope=col>flight</th><th scope=col>tailnum</th><th scope=col>origin</th><th scope=col>dest</th><th scope=col>air_time</th><th scope=col>distance</th><th scope=col>hour</th><th scope=col>minute</th><th scope=col>time_hour</th><th scope=col>r</th></tr>\n",
       "\t<tr><th scope=col>&lt;int&gt;</th><th scope=col>&lt;int&gt;</th><th scope=col>&lt;int&gt;</th><th scope=col>&lt;int&gt;</th><th scope=col>&lt;int&gt;</th><th scope=col>&lt;dbl&gt;</th><th scope=col>&lt;int&gt;</th><th scope=col>&lt;int&gt;</th><th scope=col>&lt;dbl&gt;</th><th scope=col>&lt;chr&gt;</th><th scope=col>&lt;int&gt;</th><th scope=col>&lt;chr&gt;</th><th scope=col>&lt;chr&gt;</th><th scope=col>&lt;chr&gt;</th><th scope=col>&lt;dbl&gt;</th><th scope=col>&lt;dbl&gt;</th><th scope=col>&lt;dbl&gt;</th><th scope=col>&lt;dbl&gt;</th><th scope=col>&lt;dttm&gt;</th><th scope=col>&lt;int&gt;</th></tr>\n",
       "</thead>\n",
       "<tbody>\n",
       "\t<tr><td>2013</td><td>1</td><td>1</td><td> 517</td><td> 515</td><td> 2</td><td>830</td><td>819</td><td> 11</td><td>UA</td><td>1545</td><td>N14228</td><td>EWR</td><td>IAH</td><td>227</td><td>1400</td><td> 5</td><td>15</td><td>2013-01-01 05:00:00</td><td>831</td></tr>\n",
       "\t<tr><td>2013</td><td>1</td><td>1</td><td>2356</td><td>2359</td><td>-3</td><td>425</td><td>437</td><td>-12</td><td>B6</td><td> 727</td><td>N588JB</td><td>JFK</td><td>BQN</td><td>186</td><td>1576</td><td>23</td><td>59</td><td>2013-01-01 23:00:00</td><td>  1</td></tr>\n",
       "\t<tr><td>2013</td><td>1</td><td>2</td><td>  42</td><td>2359</td><td>43</td><td>518</td><td>442</td><td> 36</td><td>B6</td><td> 707</td><td>N580JB</td><td>JFK</td><td>SJU</td><td>189</td><td>1598</td><td>23</td><td>59</td><td>2013-01-02 23:00:00</td><td>928</td></tr>\n",
       "\t<tr><td>2013</td><td>1</td><td>2</td><td>2354</td><td>2359</td><td>-5</td><td>413</td><td>437</td><td>-24</td><td>B6</td><td> 727</td><td>N789JB</td><td>JFK</td><td>BQN</td><td>180</td><td>1576</td><td>23</td><td>59</td><td>2013-01-02 23:00:00</td><td>  1</td></tr>\n",
       "</tbody>\n",
       "</table>\n"
      ],
      "text/latex": [
       "A grouped_df: 4 × 20\n",
       "\\begin{tabular}{r|llllllllllllllllllll}\n",
       " year & month & day & dep\\_time & sched\\_dep\\_time & dep\\_delay & arr\\_time & sched\\_arr\\_time & arr\\_delay & carrier & flight & tailnum & origin & dest & air\\_time & distance & hour & minute & time\\_hour & r\\\\\n",
       " <int> & <int> & <int> & <int> & <int> & <dbl> & <int> & <int> & <dbl> & <chr> & <int> & <chr> & <chr> & <chr> & <dbl> & <dbl> & <dbl> & <dbl> & <dttm> & <int>\\\\\n",
       "\\hline\n",
       "\t 2013 & 1 & 1 &  517 &  515 &  2 & 830 & 819 &  11 & UA & 1545 & N14228 & EWR & IAH & 227 & 1400 &  5 & 15 & 2013-01-01 05:00:00 & 831\\\\\n",
       "\t 2013 & 1 & 1 & 2356 & 2359 & -3 & 425 & 437 & -12 & B6 &  727 & N588JB & JFK & BQN & 186 & 1576 & 23 & 59 & 2013-01-01 23:00:00 &   1\\\\\n",
       "\t 2013 & 1 & 2 &   42 & 2359 & 43 & 518 & 442 &  36 & B6 &  707 & N580JB & JFK & SJU & 189 & 1598 & 23 & 59 & 2013-01-02 23:00:00 & 928\\\\\n",
       "\t 2013 & 1 & 2 & 2354 & 2359 & -5 & 413 & 437 & -24 & B6 &  727 & N789JB & JFK & BQN & 180 & 1576 & 23 & 59 & 2013-01-02 23:00:00 &   1\\\\\n",
       "\\end{tabular}\n"
      ],
      "text/markdown": [
       "\n",
       "A grouped_df: 4 × 20\n",
       "\n",
       "| year &lt;int&gt; | month &lt;int&gt; | day &lt;int&gt; | dep_time &lt;int&gt; | sched_dep_time &lt;int&gt; | dep_delay &lt;dbl&gt; | arr_time &lt;int&gt; | sched_arr_time &lt;int&gt; | arr_delay &lt;dbl&gt; | carrier &lt;chr&gt; | flight &lt;int&gt; | tailnum &lt;chr&gt; | origin &lt;chr&gt; | dest &lt;chr&gt; | air_time &lt;dbl&gt; | distance &lt;dbl&gt; | hour &lt;dbl&gt; | minute &lt;dbl&gt; | time_hour &lt;dttm&gt; | r &lt;int&gt; |\n",
       "|---|---|---|---|---|---|---|---|---|---|---|---|---|---|---|---|---|---|---|---|\n",
       "| 2013 | 1 | 1 |  517 |  515 |  2 | 830 | 819 |  11 | UA | 1545 | N14228 | EWR | IAH | 227 | 1400 |  5 | 15 | 2013-01-01 05:00:00 | 831 |\n",
       "| 2013 | 1 | 1 | 2356 | 2359 | -3 | 425 | 437 | -12 | B6 |  727 | N588JB | JFK | BQN | 186 | 1576 | 23 | 59 | 2013-01-01 23:00:00 |   1 |\n",
       "| 2013 | 1 | 2 |   42 | 2359 | 43 | 518 | 442 |  36 | B6 |  707 | N580JB | JFK | SJU | 189 | 1598 | 23 | 59 | 2013-01-02 23:00:00 | 928 |\n",
       "| 2013 | 1 | 2 | 2354 | 2359 | -5 | 413 | 437 | -24 | B6 |  727 | N789JB | JFK | BQN | 180 | 1576 | 23 | 59 | 2013-01-02 23:00:00 |   1 |\n",
       "\n"
      ],
      "text/plain": [
       "  year month day dep_time sched_dep_time dep_delay arr_time sched_arr_time\n",
       "1 2013 1     1    517      515            2        830      819           \n",
       "2 2013 1     1   2356     2359           -3        425      437           \n",
       "3 2013 1     2     42     2359           43        518      442           \n",
       "4 2013 1     2   2354     2359           -5        413      437           \n",
       "  arr_delay carrier flight tailnum origin dest air_time distance hour minute\n",
       "1  11       UA      1545   N14228  EWR    IAH  227      1400      5   15    \n",
       "2 -12       B6       727   N588JB  JFK    BQN  186      1576     23   59    \n",
       "3  36       B6       707   N580JB  JFK    SJU  189      1598     23   59    \n",
       "4 -24       B6       727   N789JB  JFK    BQN  180      1576     23   59    \n",
       "  time_hour           r  \n",
       "1 2013-01-01 05:00:00 831\n",
       "2 2013-01-01 23:00:00   1\n",
       "3 2013-01-02 23:00:00 928\n",
       "4 2013-01-02 23:00:00   1"
      ]
     },
     "metadata": {},
     "output_type": "display_data"
    }
   ],
   "source": [
    "not_cancelled <- flights %>%\n",
    "  filter(!is.na(dep_delay), !is.na(arr_delay))\n",
    "\n",
    "# shows both the earliest and latest departure time\n",
    "# for each day, showing ties\n",
    "not_cancelled %>% \n",
    "  group_by(year, month, day) %>% \n",
    "  mutate(r = min_rank(desc(dep_time))) %>% \n",
    "  filter(r %in% range(r)) %>% head(4)\n"
   ]
  },
  {
   "cell_type": "code",
   "execution_count": 120,
   "metadata": {
    "ExecuteTime": {
     "end_time": "2020-01-29T03:18:02.292543Z",
     "start_time": "2020-01-29T03:18:02.240Z"
    },
    "code_folding": [
     0
    ],
    "collapsed": true,
    "hidden": true,
    "jupyter": {
     "outputs_hidden": true
    }
   },
   "outputs": [
    {
     "data": {
      "text/html": [
       "<ol class=list-inline>\n",
       "\t<li>-2.19400100900909</li>\n",
       "\t<li>3.42964047122864</li>\n",
       "</ol>\n"
      ],
      "text/latex": [
       "\\begin{enumerate*}\n",
       "\\item -2.19400100900909\n",
       "\\item 3.42964047122864\n",
       "\\end{enumerate*}\n"
      ],
      "text/markdown": [
       "1. -2.19400100900909\n",
       "2. 3.42964047122864\n",
       "\n",
       "\n"
      ],
      "text/plain": [
       "[1] -2.194001  3.429640"
      ]
     },
     "metadata": {},
     "output_type": "display_data"
    },
    {
     "data": {
      "text/html": [
       "5.62364148023773"
      ],
      "text/latex": [
       "5.62364148023773"
      ],
      "text/markdown": [
       "5.62364148023773"
      ],
      "text/plain": [
       "[1] 5.623641"
      ]
     },
     "metadata": {},
     "output_type": "display_data"
    }
   ],
   "source": [
    "# range()\n",
    "(r.x <- range(stats::rnorm(100)))\n",
    "diff(r.x) # the SAMPLE range\n",
    "\n",
    "x <- c(NA, 1:3, -1:1/0); x\n",
    "\n",
    "range(x)\n",
    "range(x, na.rm = TRUE)\n",
    "range(x, finite = TRUE)"
   ]
  },
  {
   "cell_type": "markdown",
   "metadata": {
    "heading_collapsed": true
   },
   "source": [
    "##### <b><font color = 'MAROON'>Counts</font></b>"
   ]
  },
  {
   "cell_type": "code",
   "execution_count": 137,
   "metadata": {
    "ExecuteTime": {
     "end_time": "2020-01-29T04:40:59.114058Z",
     "start_time": "2020-01-29T04:40:59.058Z"
    },
    "hidden": true
   },
   "outputs": [
    {
     "data": {
      "text/html": [
       "<table>\n",
       "<caption>A tibble: 1 × 1</caption>\n",
       "<thead>\n",
       "\t<tr><th scope=col>count_ATL</th></tr>\n",
       "\t<tr><th scope=col>&lt;int&gt;</th></tr>\n",
       "</thead>\n",
       "<tbody>\n",
       "\t<tr><td>17215</td></tr>\n",
       "</tbody>\n",
       "</table>\n"
      ],
      "text/latex": [
       "A tibble: 1 × 1\n",
       "\\begin{tabular}{r|l}\n",
       " count\\_ATL\\\\\n",
       " <int>\\\\\n",
       "\\hline\n",
       "\t 17215\\\\\n",
       "\\end{tabular}\n"
      ],
      "text/markdown": [
       "\n",
       "A tibble: 1 × 1\n",
       "\n",
       "| count_ATL &lt;int&gt; |\n",
       "|---|\n",
       "| 17215 |\n",
       "\n"
      ],
      "text/plain": [
       "  count_ATL\n",
       "1 17215    "
      ]
     },
     "metadata": {},
     "output_type": "display_data"
    }
   ],
   "source": [
    "flights %>% \n",
    "    filter(dest=='ATL') %>% \n",
    "    summarise(count_ATL = n())"
   ]
  },
  {
   "cell_type": "code",
   "execution_count": 143,
   "metadata": {
    "ExecuteTime": {
     "end_time": "2020-01-29T04:42:43.151956Z",
     "start_time": "2020-01-29T04:42:43.095Z"
    },
    "hidden": true
   },
   "outputs": [
    {
     "data": {
      "text/html": [
       "<table>\n",
       "<caption>A tibble: 1 × 1</caption>\n",
       "<thead>\n",
       "\t<tr><th scope=col>n</th></tr>\n",
       "\t<tr><th scope=col>&lt;int&gt;</th></tr>\n",
       "</thead>\n",
       "<tbody>\n",
       "\t<tr><td>17215</td></tr>\n",
       "</tbody>\n",
       "</table>\n"
      ],
      "text/latex": [
       "A tibble: 1 × 1\n",
       "\\begin{tabular}{r|l}\n",
       " n\\\\\n",
       " <int>\\\\\n",
       "\\hline\n",
       "\t 17215\\\\\n",
       "\\end{tabular}\n"
      ],
      "text/markdown": [
       "\n",
       "A tibble: 1 × 1\n",
       "\n",
       "| n &lt;int&gt; |\n",
       "|---|\n",
       "| 17215 |\n",
       "\n"
      ],
      "text/plain": [
       "  n    \n",
       "1 17215"
      ]
     },
     "metadata": {},
     "output_type": "display_data"
    }
   ],
   "source": [
    "flights %>% \n",
    "    filter(dest=='ATL') %>% \n",
    "    count()"
   ]
  },
  {
   "cell_type": "markdown",
   "metadata": {
    "hidden": true
   },
   "source": [
    "Counts: You<font color = 'blue'>’ve seen `n()`, which <b>takes no arguments</b></font>, and <font color = 'green'><b>returns the size of the current group. </b></font>To count the number of non-missing values, use `sum(!is.na(x))`. To count the number of distinct (unique) values, use `n_distinct(x)`.\n"
   ]
  },
  {
   "cell_type": "code",
   "execution_count": 138,
   "metadata": {
    "ExecuteTime": {
     "end_time": "2020-01-29T04:41:35.209529Z",
     "start_time": "2020-01-29T04:41:35.098Z"
    },
    "hidden": true
   },
   "outputs": [
    {
     "data": {
      "text/html": [
       "<table>\n",
       "<caption>A tibble: 6 × 2</caption>\n",
       "<thead>\n",
       "\t<tr><th scope=col>dest</th><th scope=col>carriers</th></tr>\n",
       "\t<tr><th scope=col>&lt;chr&gt;</th><th scope=col>&lt;int&gt;</th></tr>\n",
       "</thead>\n",
       "<tbody>\n",
       "\t<tr><td>ATL</td><td>7</td></tr>\n",
       "\t<tr><td>BOS</td><td>7</td></tr>\n",
       "\t<tr><td>CLT</td><td>7</td></tr>\n",
       "\t<tr><td>ORD</td><td>7</td></tr>\n",
       "\t<tr><td>TPA</td><td>7</td></tr>\n",
       "\t<tr><td>AUS</td><td>6</td></tr>\n",
       "</tbody>\n",
       "</table>\n"
      ],
      "text/latex": [
       "A tibble: 6 × 2\n",
       "\\begin{tabular}{r|ll}\n",
       " dest & carriers\\\\\n",
       " <chr> & <int>\\\\\n",
       "\\hline\n",
       "\t ATL & 7\\\\\n",
       "\t BOS & 7\\\\\n",
       "\t CLT & 7\\\\\n",
       "\t ORD & 7\\\\\n",
       "\t TPA & 7\\\\\n",
       "\t AUS & 6\\\\\n",
       "\\end{tabular}\n"
      ],
      "text/markdown": [
       "\n",
       "A tibble: 6 × 2\n",
       "\n",
       "| dest &lt;chr&gt; | carriers &lt;int&gt; |\n",
       "|---|---|\n",
       "| ATL | 7 |\n",
       "| BOS | 7 |\n",
       "| CLT | 7 |\n",
       "| ORD | 7 |\n",
       "| TPA | 7 |\n",
       "| AUS | 6 |\n",
       "\n"
      ],
      "text/plain": [
       "  dest carriers\n",
       "1 ATL  7       \n",
       "2 BOS  7       \n",
       "3 CLT  7       \n",
       "4 ORD  7       \n",
       "5 TPA  7       \n",
       "6 AUS  6       "
      ]
     },
     "metadata": {},
     "output_type": "display_data"
    }
   ],
   "source": [
    "# Which destinations have the most carriers?\n",
    "not_cancelled %>% \n",
    "  group_by(dest) %>% \n",
    "  summarise(carriers = n_distinct(carrier)) %>% \n",
    "  arrange(desc(carriers)) %>% head()"
   ]
  },
  {
   "cell_type": "markdown",
   "metadata": {
    "hidden": true
   },
   "source": [
    "Counts are so useful that dplyr provides a simple helper if all you want is a count:"
   ]
  },
  {
   "cell_type": "code",
   "execution_count": 144,
   "metadata": {
    "ExecuteTime": {
     "end_time": "2020-01-29T04:42:52.935284Z",
     "start_time": "2020-01-29T04:42:52.854Z"
    },
    "hidden": true
   },
   "outputs": [
    {
     "data": {
      "text/html": [
       "<table>\n",
       "<caption>A tibble: 6 × 2</caption>\n",
       "<thead>\n",
       "\t<tr><th scope=col>dest</th><th scope=col>n</th></tr>\n",
       "\t<tr><th scope=col>&lt;chr&gt;</th><th scope=col>&lt;int&gt;</th></tr>\n",
       "</thead>\n",
       "<tbody>\n",
       "\t<tr><td>ABQ</td><td>  254</td></tr>\n",
       "\t<tr><td>ACK</td><td>  264</td></tr>\n",
       "\t<tr><td>ALB</td><td>  418</td></tr>\n",
       "\t<tr><td>ANC</td><td>    8</td></tr>\n",
       "\t<tr><td>ATL</td><td>16837</td></tr>\n",
       "\t<tr><td>AUS</td><td> 2411</td></tr>\n",
       "</tbody>\n",
       "</table>\n"
      ],
      "text/latex": [
       "A tibble: 6 × 2\n",
       "\\begin{tabular}{r|ll}\n",
       " dest & n\\\\\n",
       " <chr> & <int>\\\\\n",
       "\\hline\n",
       "\t ABQ &   254\\\\\n",
       "\t ACK &   264\\\\\n",
       "\t ALB &   418\\\\\n",
       "\t ANC &     8\\\\\n",
       "\t ATL & 16837\\\\\n",
       "\t AUS &  2411\\\\\n",
       "\\end{tabular}\n"
      ],
      "text/markdown": [
       "\n",
       "A tibble: 6 × 2\n",
       "\n",
       "| dest &lt;chr&gt; | n &lt;int&gt; |\n",
       "|---|---|\n",
       "| ABQ |   254 |\n",
       "| ACK |   264 |\n",
       "| ALB |   418 |\n",
       "| ANC |     8 |\n",
       "| ATL | 16837 |\n",
       "| AUS |  2411 |\n",
       "\n"
      ],
      "text/plain": [
       "  dest n    \n",
       "1 ABQ    254\n",
       "2 ACK    264\n",
       "3 ALB    418\n",
       "4 ANC      8\n",
       "5 ATL  16837\n",
       "6 AUS   2411"
      ]
     },
     "metadata": {},
     "output_type": "display_data"
    }
   ],
   "source": [
    "not_cancelled %>% \n",
    "  count(dest) %>% head()"
   ]
  },
  {
   "cell_type": "markdown",
   "metadata": {
    "hidden": true
   },
   "source": [
    "<font color = 'green'><b>You can optionally provide a weight variable</b></font>. \n",
    "\n",
    "For example, you could use this to “count” (sum) the <b><font color = 'purple'>total number of miles a plane flew </font></b>:"
   ]
  },
  {
   "cell_type": "code",
   "execution_count": 146,
   "metadata": {
    "ExecuteTime": {
     "end_time": "2020-01-29T04:44:34.567183Z",
     "start_time": "2020-01-29T04:44:34.387Z"
    },
    "hidden": true
   },
   "outputs": [
    {
     "data": {
      "text/html": [
       "<table>\n",
       "<caption>A tibble: 6 × 2</caption>\n",
       "<thead>\n",
       "\t<tr><th scope=col>tailnum</th><th scope=col>n</th></tr>\n",
       "\t<tr><th scope=col>&lt;chr&gt;</th><th scope=col>&lt;dbl&gt;</th></tr>\n",
       "</thead>\n",
       "<tbody>\n",
       "\t<tr><td>D942DN</td><td>  3418</td></tr>\n",
       "\t<tr><td>N0EGMQ</td><td>239143</td></tr>\n",
       "\t<tr><td>N10156</td><td>109664</td></tr>\n",
       "\t<tr><td>N102UW</td><td> 25722</td></tr>\n",
       "\t<tr><td>N103US</td><td> 24619</td></tr>\n",
       "\t<tr><td>N104UW</td><td> 24616</td></tr>\n",
       "</tbody>\n",
       "</table>\n"
      ],
      "text/latex": [
       "A tibble: 6 × 2\n",
       "\\begin{tabular}{r|ll}\n",
       " tailnum & n\\\\\n",
       " <chr> & <dbl>\\\\\n",
       "\\hline\n",
       "\t D942DN &   3418\\\\\n",
       "\t N0EGMQ & 239143\\\\\n",
       "\t N10156 & 109664\\\\\n",
       "\t N102UW &  25722\\\\\n",
       "\t N103US &  24619\\\\\n",
       "\t N104UW &  24616\\\\\n",
       "\\end{tabular}\n"
      ],
      "text/markdown": [
       "\n",
       "A tibble: 6 × 2\n",
       "\n",
       "| tailnum &lt;chr&gt; | n &lt;dbl&gt; |\n",
       "|---|---|\n",
       "| D942DN |   3418 |\n",
       "| N0EGMQ | 239143 |\n",
       "| N10156 | 109664 |\n",
       "| N102UW |  25722 |\n",
       "| N103US |  24619 |\n",
       "| N104UW |  24616 |\n",
       "\n"
      ],
      "text/plain": [
       "  tailnum n     \n",
       "1 D942DN    3418\n",
       "2 N0EGMQ  239143\n",
       "3 N10156  109664\n",
       "4 N102UW   25722\n",
       "5 N103US   24619\n",
       "6 N104UW   24616"
      ]
     },
     "metadata": {},
     "output_type": "display_data"
    }
   ],
   "source": [
    "not_cancelled %>% \n",
    "  count(tailnum, wt = distance) %>% head()"
   ]
  },
  {
   "cell_type": "markdown",
   "metadata": {
    "heading_collapsed": true
   },
   "source": [
    "##### <b><font color = 'MAROON'>Counts and proportions of logical values</font></b>"
   ]
  },
  {
   "cell_type": "markdown",
   "metadata": {
    "hidden": true
   },
   "source": [
    "Counts and proportions of logical values: `sum(x > 10)`, `mean(y == 0)`. \n",
    "\n",
    "* When used with numeric functions, `TRUE` is converted to 1 and `FALSE` to 0. \n",
    "\n",
    "* This makes `sum()` and `mean()` very useful: <font color = 'green'><b>`sum(x)` gives the number of `TRUE`s in `x`, and `mean(x)` gives the proportion</b></font>."
   ]
  },
  {
   "cell_type": "code",
   "execution_count": 148,
   "metadata": {
    "ExecuteTime": {
     "end_time": "2020-01-29T04:47:07.048462Z",
     "start_time": "2020-01-29T04:47:06.967Z"
    },
    "hidden": true
   },
   "outputs": [
    {
     "data": {
      "text/html": [
       "<table>\n",
       "<caption>A grouped_df: 6 × 4</caption>\n",
       "<thead>\n",
       "\t<tr><th scope=col>year</th><th scope=col>month</th><th scope=col>day</th><th scope=col>n_early</th></tr>\n",
       "\t<tr><th scope=col>&lt;int&gt;</th><th scope=col>&lt;int&gt;</th><th scope=col>&lt;int&gt;</th><th scope=col>&lt;int&gt;</th></tr>\n",
       "</thead>\n",
       "<tbody>\n",
       "\t<tr><td>2013</td><td>1</td><td>1</td><td>0</td></tr>\n",
       "\t<tr><td>2013</td><td>1</td><td>2</td><td>3</td></tr>\n",
       "\t<tr><td>2013</td><td>1</td><td>3</td><td>4</td></tr>\n",
       "\t<tr><td>2013</td><td>1</td><td>4</td><td>3</td></tr>\n",
       "\t<tr><td>2013</td><td>1</td><td>5</td><td>3</td></tr>\n",
       "\t<tr><td>2013</td><td>1</td><td>6</td><td>2</td></tr>\n",
       "</tbody>\n",
       "</table>\n"
      ],
      "text/latex": [
       "A grouped_df: 6 × 4\n",
       "\\begin{tabular}{r|llll}\n",
       " year & month & day & n\\_early\\\\\n",
       " <int> & <int> & <int> & <int>\\\\\n",
       "\\hline\n",
       "\t 2013 & 1 & 1 & 0\\\\\n",
       "\t 2013 & 1 & 2 & 3\\\\\n",
       "\t 2013 & 1 & 3 & 4\\\\\n",
       "\t 2013 & 1 & 4 & 3\\\\\n",
       "\t 2013 & 1 & 5 & 3\\\\\n",
       "\t 2013 & 1 & 6 & 2\\\\\n",
       "\\end{tabular}\n"
      ],
      "text/markdown": [
       "\n",
       "A grouped_df: 6 × 4\n",
       "\n",
       "| year &lt;int&gt; | month &lt;int&gt; | day &lt;int&gt; | n_early &lt;int&gt; |\n",
       "|---|---|---|---|\n",
       "| 2013 | 1 | 1 | 0 |\n",
       "| 2013 | 1 | 2 | 3 |\n",
       "| 2013 | 1 | 3 | 4 |\n",
       "| 2013 | 1 | 4 | 3 |\n",
       "| 2013 | 1 | 5 | 3 |\n",
       "| 2013 | 1 | 6 | 2 |\n",
       "\n"
      ],
      "text/plain": [
       "  year month day n_early\n",
       "1 2013 1     1   0      \n",
       "2 2013 1     2   3      \n",
       "3 2013 1     3   4      \n",
       "4 2013 1     4   3      \n",
       "5 2013 1     5   3      \n",
       "6 2013 1     6   2      "
      ]
     },
     "metadata": {},
     "output_type": "display_data"
    }
   ],
   "source": [
    "# How many flights left before 5am? \n",
    "# (these usually indicate delayed # flights from the previous day)\n",
    "not_cancelled %>% \n",
    "  group_by(year, month, day) %>% \n",
    "  summarise(n_early = sum(dep_time < 500)) %>% head()"
   ]
  },
  {
   "cell_type": "code",
   "execution_count": 149,
   "metadata": {
    "ExecuteTime": {
     "end_time": "2020-01-29T04:47:14.806185Z",
     "start_time": "2020-01-29T04:47:14.707Z"
    },
    "hidden": true
   },
   "outputs": [
    {
     "data": {
      "text/html": [
       "<table>\n",
       "<caption>A grouped_df: 6 × 4</caption>\n",
       "<thead>\n",
       "\t<tr><th scope=col>year</th><th scope=col>month</th><th scope=col>day</th><th scope=col>hour_prop</th></tr>\n",
       "\t<tr><th scope=col>&lt;int&gt;</th><th scope=col>&lt;int&gt;</th><th scope=col>&lt;int&gt;</th><th scope=col>&lt;dbl&gt;</th></tr>\n",
       "</thead>\n",
       "<tbody>\n",
       "\t<tr><td>2013</td><td>1</td><td>1</td><td>0.07220217</td></tr>\n",
       "\t<tr><td>2013</td><td>1</td><td>2</td><td>0.08512931</td></tr>\n",
       "\t<tr><td>2013</td><td>1</td><td>3</td><td>0.05666667</td></tr>\n",
       "\t<tr><td>2013</td><td>1</td><td>4</td><td>0.03964758</td></tr>\n",
       "\t<tr><td>2013</td><td>1</td><td>5</td><td>0.03486750</td></tr>\n",
       "\t<tr><td>2013</td><td>1</td><td>6</td><td>0.04704463</td></tr>\n",
       "</tbody>\n",
       "</table>\n"
      ],
      "text/latex": [
       "A grouped_df: 6 × 4\n",
       "\\begin{tabular}{r|llll}\n",
       " year & month & day & hour\\_prop\\\\\n",
       " <int> & <int> & <int> & <dbl>\\\\\n",
       "\\hline\n",
       "\t 2013 & 1 & 1 & 0.07220217\\\\\n",
       "\t 2013 & 1 & 2 & 0.08512931\\\\\n",
       "\t 2013 & 1 & 3 & 0.05666667\\\\\n",
       "\t 2013 & 1 & 4 & 0.03964758\\\\\n",
       "\t 2013 & 1 & 5 & 0.03486750\\\\\n",
       "\t 2013 & 1 & 6 & 0.04704463\\\\\n",
       "\\end{tabular}\n"
      ],
      "text/markdown": [
       "\n",
       "A grouped_df: 6 × 4\n",
       "\n",
       "| year &lt;int&gt; | month &lt;int&gt; | day &lt;int&gt; | hour_prop &lt;dbl&gt; |\n",
       "|---|---|---|---|\n",
       "| 2013 | 1 | 1 | 0.07220217 |\n",
       "| 2013 | 1 | 2 | 0.08512931 |\n",
       "| 2013 | 1 | 3 | 0.05666667 |\n",
       "| 2013 | 1 | 4 | 0.03964758 |\n",
       "| 2013 | 1 | 5 | 0.03486750 |\n",
       "| 2013 | 1 | 6 | 0.04704463 |\n",
       "\n"
      ],
      "text/plain": [
       "  year month day hour_prop \n",
       "1 2013 1     1   0.07220217\n",
       "2 2013 1     2   0.08512931\n",
       "3 2013 1     3   0.05666667\n",
       "4 2013 1     4   0.03964758\n",
       "5 2013 1     5   0.03486750\n",
       "6 2013 1     6   0.04704463"
      ]
     },
     "metadata": {},
     "output_type": "display_data"
    }
   ],
   "source": [
    "# What proportion of flights are delayed by more than an hour?\n",
    "not_cancelled %>% \n",
    "  group_by(year, month, day) %>% \n",
    "  summarise(hour_prop = mean(arr_delay > 60)) %>% head()"
   ]
  },
  {
   "cell_type": "markdown",
   "metadata": {
    "heading_collapsed": true
   },
   "source": [
    "### Grouping by multiple variables"
   ]
  },
  {
   "cell_type": "markdown",
   "metadata": {
    "hidden": true
   },
   "source": [
    "When you group by multiple variables, <font color = 'green'><b>each summary peels off one level of the grouping</b></font>. That makes it easy to progressively roll up a dataset:"
   ]
  },
  {
   "cell_type": "code",
   "execution_count": null,
   "metadata": {
    "ExecuteTime": {
     "end_time": "2020-01-31T02:05:55.993695Z",
     "start_time": "2020-01-31T02:05:55.348Z"
    },
    "hidden": true
   },
   "outputs": [],
   "source": [
    "daily <- group_by(flights, year, month, day)"
   ]
  },
  {
   "cell_type": "code",
   "execution_count": 4,
   "metadata": {
    "ExecuteTime": {
     "end_time": "2020-01-31T02:06:02.396385Z",
     "start_time": "2020-01-31T02:06:02.342Z"
    },
    "collapsed": true,
    "hidden": true
   },
   "outputs": [
    {
     "data": {
      "text/html": [
       "<table>\n",
       "<caption>A grouped_df: 6 × 4</caption>\n",
       "<thead>\n",
       "\t<tr><th scope=col>year</th><th scope=col>month</th><th scope=col>day</th><th scope=col>flights</th></tr>\n",
       "\t<tr><th scope=col>&lt;int&gt;</th><th scope=col>&lt;int&gt;</th><th scope=col>&lt;int&gt;</th><th scope=col>&lt;int&gt;</th></tr>\n",
       "</thead>\n",
       "<tbody>\n",
       "\t<tr><td>2013</td><td>1</td><td>1</td><td>842</td></tr>\n",
       "\t<tr><td>2013</td><td>1</td><td>2</td><td>943</td></tr>\n",
       "\t<tr><td>2013</td><td>1</td><td>3</td><td>914</td></tr>\n",
       "\t<tr><td>2013</td><td>1</td><td>4</td><td>915</td></tr>\n",
       "\t<tr><td>2013</td><td>1</td><td>5</td><td>720</td></tr>\n",
       "\t<tr><td>2013</td><td>1</td><td>6</td><td>832</td></tr>\n",
       "</tbody>\n",
       "</table>\n"
      ],
      "text/latex": [
       "A grouped_df: 6 × 4\n",
       "\\begin{tabular}{r|llll}\n",
       " year & month & day & flights\\\\\n",
       " <int> & <int> & <int> & <int>\\\\\n",
       "\\hline\n",
       "\t 2013 & 1 & 1 & 842\\\\\n",
       "\t 2013 & 1 & 2 & 943\\\\\n",
       "\t 2013 & 1 & 3 & 914\\\\\n",
       "\t 2013 & 1 & 4 & 915\\\\\n",
       "\t 2013 & 1 & 5 & 720\\\\\n",
       "\t 2013 & 1 & 6 & 832\\\\\n",
       "\\end{tabular}\n"
      ],
      "text/markdown": [
       "\n",
       "A grouped_df: 6 × 4\n",
       "\n",
       "| year &lt;int&gt; | month &lt;int&gt; | day &lt;int&gt; | flights &lt;int&gt; |\n",
       "|---|---|---|---|\n",
       "| 2013 | 1 | 1 | 842 |\n",
       "| 2013 | 1 | 2 | 943 |\n",
       "| 2013 | 1 | 3 | 914 |\n",
       "| 2013 | 1 | 4 | 915 |\n",
       "| 2013 | 1 | 5 | 720 |\n",
       "| 2013 | 1 | 6 | 832 |\n",
       "\n"
      ],
      "text/plain": [
       "  year month day flights\n",
       "1 2013 1     1   842    \n",
       "2 2013 1     2   943    \n",
       "3 2013 1     3   914    \n",
       "4 2013 1     4   915    \n",
       "5 2013 1     5   720    \n",
       "6 2013 1     6   832    "
      ]
     },
     "metadata": {},
     "output_type": "display_data"
    }
   ],
   "source": [
    "(per_day   <- daily %>% \n",
    "  summarise(flights = n())) %>% \n",
    "  head()"
   ]
  },
  {
   "cell_type": "code",
   "execution_count": 157,
   "metadata": {
    "ExecuteTime": {
     "end_time": "2020-01-29T04:54:41.371261Z",
     "start_time": "2020-01-29T04:54:41.319Z"
    },
    "collapsed": true,
    "hidden": true
   },
   "outputs": [
    {
     "data": {
      "text/html": [
       "<table>\n",
       "<caption>A grouped_df: 6 × 3</caption>\n",
       "<thead>\n",
       "\t<tr><th scope=col>year</th><th scope=col>month</th><th scope=col>flights</th></tr>\n",
       "\t<tr><th scope=col>&lt;int&gt;</th><th scope=col>&lt;int&gt;</th><th scope=col>&lt;int&gt;</th></tr>\n",
       "</thead>\n",
       "<tbody>\n",
       "\t<tr><td>2013</td><td>1</td><td>27004</td></tr>\n",
       "\t<tr><td>2013</td><td>2</td><td>24951</td></tr>\n",
       "\t<tr><td>2013</td><td>3</td><td>28834</td></tr>\n",
       "\t<tr><td>2013</td><td>4</td><td>28330</td></tr>\n",
       "\t<tr><td>2013</td><td>5</td><td>28796</td></tr>\n",
       "\t<tr><td>2013</td><td>6</td><td>28243</td></tr>\n",
       "</tbody>\n",
       "</table>\n"
      ],
      "text/latex": [
       "A grouped_df: 6 × 3\n",
       "\\begin{tabular}{r|lll}\n",
       " year & month & flights\\\\\n",
       " <int> & <int> & <int>\\\\\n",
       "\\hline\n",
       "\t 2013 & 1 & 27004\\\\\n",
       "\t 2013 & 2 & 24951\\\\\n",
       "\t 2013 & 3 & 28834\\\\\n",
       "\t 2013 & 4 & 28330\\\\\n",
       "\t 2013 & 5 & 28796\\\\\n",
       "\t 2013 & 6 & 28243\\\\\n",
       "\\end{tabular}\n"
      ],
      "text/markdown": [
       "\n",
       "A grouped_df: 6 × 3\n",
       "\n",
       "| year &lt;int&gt; | month &lt;int&gt; | flights &lt;int&gt; |\n",
       "|---|---|---|\n",
       "| 2013 | 1 | 27004 |\n",
       "| 2013 | 2 | 24951 |\n",
       "| 2013 | 3 | 28834 |\n",
       "| 2013 | 4 | 28330 |\n",
       "| 2013 | 5 | 28796 |\n",
       "| 2013 | 6 | 28243 |\n",
       "\n"
      ],
      "text/plain": [
       "  year month flights\n",
       "1 2013 1     27004  \n",
       "2 2013 2     24951  \n",
       "3 2013 3     28834  \n",
       "4 2013 4     28330  \n",
       "5 2013 5     28796  \n",
       "6 2013 6     28243  "
      ]
     },
     "metadata": {},
     "output_type": "display_data"
    }
   ],
   "source": [
    "(per_month <- per_day %>% \n",
    "  summarise(flights = sum(flights))) %>% \n",
    "  head()"
   ]
  },
  {
   "cell_type": "code",
   "execution_count": 156,
   "metadata": {
    "ExecuteTime": {
     "end_time": "2020-01-29T04:54:13.546795Z",
     "start_time": "2020-01-29T04:54:13.471Z"
    },
    "collapsed": true,
    "hidden": true
   },
   "outputs": [
    {
     "data": {
      "text/html": [
       "<table>\n",
       "<caption>A tibble: 1 × 2</caption>\n",
       "<thead>\n",
       "\t<tr><th scope=col>year</th><th scope=col>flights</th></tr>\n",
       "\t<tr><th scope=col>&lt;int&gt;</th><th scope=col>&lt;int&gt;</th></tr>\n",
       "</thead>\n",
       "<tbody>\n",
       "\t<tr><td>2013</td><td>336776</td></tr>\n",
       "</tbody>\n",
       "</table>\n"
      ],
      "text/latex": [
       "A tibble: 1 × 2\n",
       "\\begin{tabular}{r|ll}\n",
       " year & flights\\\\\n",
       " <int> & <int>\\\\\n",
       "\\hline\n",
       "\t 2013 & 336776\\\\\n",
       "\\end{tabular}\n"
      ],
      "text/markdown": [
       "\n",
       "A tibble: 1 × 2\n",
       "\n",
       "| year &lt;int&gt; | flights &lt;int&gt; |\n",
       "|---|---|\n",
       "| 2013 | 336776 |\n",
       "\n"
      ],
      "text/plain": [
       "  year flights\n",
       "1 2013 336776 "
      ]
     },
     "metadata": {},
     "output_type": "display_data"
    }
   ],
   "source": [
    "(per_year  <- per_month %>% \n",
    "  summarise(flights = sum(flights))) %>% \n",
    "  head()"
   ]
  },
  {
   "cell_type": "code",
   "execution_count": 167,
   "metadata": {
    "ExecuteTime": {
     "end_time": "2020-01-29T04:58:32.917163Z",
     "start_time": "2020-01-29T04:58:32.854Z"
    },
    "collapsed": true,
    "hidden": true
   },
   "outputs": [
    {
     "data": {
      "text/html": [
       "<table>\n",
       "<caption>A tibble: 1 × 2</caption>\n",
       "<thead>\n",
       "\t<tr><th scope=col>year</th><th scope=col>n</th></tr>\n",
       "\t<tr><th scope=col>&lt;int&gt;</th><th scope=col>&lt;int&gt;</th></tr>\n",
       "</thead>\n",
       "<tbody>\n",
       "\t<tr><td>2013</td><td>336776</td></tr>\n",
       "</tbody>\n",
       "</table>\n"
      ],
      "text/latex": [
       "A tibble: 1 × 2\n",
       "\\begin{tabular}{r|ll}\n",
       " year & n\\\\\n",
       " <int> & <int>\\\\\n",
       "\\hline\n",
       "\t 2013 & 336776\\\\\n",
       "\\end{tabular}\n"
      ],
      "text/markdown": [
       "\n",
       "A tibble: 1 × 2\n",
       "\n",
       "| year &lt;int&gt; | n &lt;int&gt; |\n",
       "|---|---|\n",
       "| 2013 | 336776 |\n",
       "\n"
      ],
      "text/plain": [
       "  year n     \n",
       "1 2013 336776"
      ]
     },
     "metadata": {},
     "output_type": "display_data"
    }
   ],
   "source": [
    "flights %>% count(year)"
   ]
  },
  {
   "cell_type": "markdown",
   "metadata": {
    "hidden": true
   },
   "source": [
    "Be careful when progressively rolling up summaries: it’s OK for sums and counts, but you <font color = 'blue'>need to think about weighting means and variances</font>, and it’s not possible to do it exactly for rank-based statistics like the median. \n",
    "\n",
    "* In other words, <font color = 'blue'>the sum of groupwise sums is the overall sum, but <b>the median of groupwise medians is not the overall median</b>.</font>"
   ]
  },
  {
   "cell_type": "markdown",
   "metadata": {
    "heading_collapsed": true
   },
   "source": [
    "### Ungrouping"
   ]
  },
  {
   "cell_type": "markdown",
   "metadata": {
    "hidden": true
   },
   "source": [
    "If you need to remove grouping, and return to operations on ungrouped data, use `ungroup()`."
   ]
  },
  {
   "cell_type": "code",
   "execution_count": 45,
   "metadata": {
    "ExecuteTime": {
     "end_time": "2020-01-31T02:51:04.880703Z",
     "start_time": "2020-01-31T02:51:04.830Z"
    },
    "hidden": true,
    "jupyter": {
     "outputs_hidden": true
    }
   },
   "outputs": [
    {
     "data": {
      "text/html": [
       "<table>\n",
       "<caption>A tibble: 1 × 1</caption>\n",
       "<thead>\n",
       "\t<tr><th scope=col>flights</th></tr>\n",
       "\t<tr><th scope=col>&lt;int&gt;</th></tr>\n",
       "</thead>\n",
       "<tbody>\n",
       "\t<tr><td>336776</td></tr>\n",
       "</tbody>\n",
       "</table>\n"
      ],
      "text/latex": [
       "A tibble: 1 × 1\n",
       "\\begin{tabular}{r|l}\n",
       " flights\\\\\n",
       " <int>\\\\\n",
       "\\hline\n",
       "\t 336776\\\\\n",
       "\\end{tabular}\n"
      ],
      "text/markdown": [
       "\n",
       "A tibble: 1 × 1\n",
       "\n",
       "| flights &lt;int&gt; |\n",
       "|---|\n",
       "| 336776 |\n",
       "\n"
      ],
      "text/plain": [
       "  flights\n",
       "1 336776 "
      ]
     },
     "metadata": {},
     "output_type": "display_data"
    }
   ],
   "source": [
    "daily %>% \n",
    "  ungroup() %>%             # no longer grouped by date\n",
    "  summarise(flights = n())  # all flights"
   ]
  },
  {
   "cell_type": "markdown",
   "metadata": {
    "heading_collapsed": true
   },
   "source": [
    "### Exercises"
   ]
  },
  {
   "cell_type": "markdown",
   "metadata": {
    "heading_collapsed": true,
    "hidden": true
   },
   "source": [
    "##### <font color = 'purple'>Brainstorm at least 5 different ways to assess the typical delay characteristics of a group of flights. Consider the following scenarios:\n",
    "\n",
    "* A flight is 15 minutes early 50% of the time, and 15 minutes late 50% of the time.\n",
    "\n",
    "* A flight is always 10 minutes late.\n",
    "\n",
    "* A flight is 30 minutes early 50% of the time, and 30 minutes late 50% of the time.\n",
    "\n",
    "* 99% of the time a flight is on time. 1% of the time it’s 2 hours late.\n",
    "\n",
    "Which is more important: arrival delay or departure delay? </font>"
   ]
  },
  {
   "cell_type": "markdown",
   "metadata": {
    "hidden": true
   },
   "source": [
    "<b><font color = 'purple'>What this question gets at is a fundamental question of data analysis: the cost function </font></b>.\n",
    "As analysts, the reason we are interested in flight delay because it is costly to passengers.\n",
    "But it is worth thinking carefully about how it is costly and use that information in \n",
    "<hypothesis-highlight class=\"annotator-hl\">ranking and mea</hypothesis-highlight>suring these scenarios.\n",
    "\n",
    "In many scenarios, <font color = 'blue'>arrival delay is more important.</font>\n",
    "In most cases, <font color = 'blue'>arriving late is more costly to the passenger since it could disrupt the next stages of their travel</font>, such as connecting flights or scheduled meetings.  \n",
    "\n",
    "<font color = 'blue'>If a departure is delayed without affecting the arrival time, this delay will not have those affects plans nor does it affect the total time spent traveling.</font>\n",
    "This delay could be \n",
    "<hypothesis-highlight class=\"annotator-hl\">beneficial</hypothesis-highlight>, if less time is spent in the cramped confines of the airplane itself, or a negative, if that delayed time is still spent in the cramped confines of the airplane on the runway.\n",
    "\n",
    "Variation in arrival time is worse than consistency.\n",
    "If a flight is always 30 minutes late and that delay is known, then it is as if the arrival time is that delayed time.\n",
    "The traveler could easily plan for this.\n",
    "But <font color = 'blue'>higher variation in flight times makes it harder to plan.</font>"
   ]
  },
  {
   "cell_type": "markdown",
   "metadata": {
    "heading_collapsed": true,
    "hidden": true
   },
   "source": [
    "##### <font color = 'purple'>Come up with another approach that will give you the same output as not_cancelled %>% count(dest) and not_cancelled %>% count(tailnum, wt = distance) (without using count()). </font>"
   ]
  },
  {
   "cell_type": "code",
   "execution_count": 171,
   "metadata": {
    "ExecuteTime": {
     "end_time": "2020-01-29T05:15:25.081711Z",
     "start_time": "2020-01-29T05:15:24.916Z"
    },
    "collapsed": true,
    "hidden": true,
    "jupyter": {
     "outputs_hidden": true
    }
   },
   "outputs": [
    {
     "data": {
      "text/html": [
       "<table>\n",
       "<caption>A tibble: 6 × 2</caption>\n",
       "<thead>\n",
       "\t<tr><th scope=col>dest</th><th scope=col>n</th></tr>\n",
       "\t<tr><th scope=col>&lt;chr&gt;</th><th scope=col>&lt;int&gt;</th></tr>\n",
       "</thead>\n",
       "<tbody>\n",
       "\t<tr><td>ABQ</td><td>  254</td></tr>\n",
       "\t<tr><td>ACK</td><td>  264</td></tr>\n",
       "\t<tr><td>ALB</td><td>  418</td></tr>\n",
       "\t<tr><td>ANC</td><td>    8</td></tr>\n",
       "\t<tr><td>ATL</td><td>16837</td></tr>\n",
       "\t<tr><td>AUS</td><td> 2411</td></tr>\n",
       "</tbody>\n",
       "</table>\n"
      ],
      "text/latex": [
       "A tibble: 6 × 2\n",
       "\\begin{tabular}{r|ll}\n",
       " dest & n\\\\\n",
       " <chr> & <int>\\\\\n",
       "\\hline\n",
       "\t ABQ &   254\\\\\n",
       "\t ACK &   264\\\\\n",
       "\t ALB &   418\\\\\n",
       "\t ANC &     8\\\\\n",
       "\t ATL & 16837\\\\\n",
       "\t AUS &  2411\\\\\n",
       "\\end{tabular}\n"
      ],
      "text/markdown": [
       "\n",
       "A tibble: 6 × 2\n",
       "\n",
       "| dest &lt;chr&gt; | n &lt;int&gt; |\n",
       "|---|---|\n",
       "| ABQ |   254 |\n",
       "| ACK |   264 |\n",
       "| ALB |   418 |\n",
       "| ANC |     8 |\n",
       "| ATL | 16837 |\n",
       "| AUS |  2411 |\n",
       "\n"
      ],
      "text/plain": [
       "  dest n    \n",
       "1 ABQ    254\n",
       "2 ACK    264\n",
       "3 ALB    418\n",
       "4 ANC      8\n",
       "5 ATL  16837\n",
       "6 AUS   2411"
      ]
     },
     "metadata": {},
     "output_type": "display_data"
    }
   ],
   "source": [
    "not_cancelled <- flights %>%\n",
    "  filter(!is.na(dep_delay), !is.na(arr_delay))\n",
    "\n",
    "not_cancelled %>%\n",
    "  count(dest) %>% head()"
   ]
  },
  {
   "cell_type": "markdown",
   "metadata": {
    "hidden": true
   },
   "source": [
    "The `count()` function counts the number of instances within each group of variables.\n",
    "<font color = 'blue'>Instead of using the `count()` function,we can combine the `group_by()` and `summarise()` verbs.</font>"
   ]
  },
  {
   "cell_type": "code",
   "execution_count": 173,
   "metadata": {
    "ExecuteTime": {
     "end_time": "2020-01-29T05:27:49.627933Z",
     "start_time": "2020-01-29T05:27:49.534Z"
    },
    "collapsed": true,
    "hidden": true,
    "jupyter": {
     "outputs_hidden": true
    }
   },
   "outputs": [
    {
     "data": {
      "text/html": [
       "<table>\n",
       "<caption>A tibble: 6 × 2</caption>\n",
       "<thead>\n",
       "\t<tr><th scope=col>dest</th><th scope=col>n</th></tr>\n",
       "\t<tr><th scope=col>&lt;chr&gt;</th><th scope=col>&lt;int&gt;</th></tr>\n",
       "</thead>\n",
       "<tbody>\n",
       "\t<tr><td>ABQ</td><td>  254</td></tr>\n",
       "\t<tr><td>ACK</td><td>  264</td></tr>\n",
       "\t<tr><td>ALB</td><td>  418</td></tr>\n",
       "\t<tr><td>ANC</td><td>    8</td></tr>\n",
       "\t<tr><td>ATL</td><td>16837</td></tr>\n",
       "\t<tr><td>AUS</td><td> 2411</td></tr>\n",
       "</tbody>\n",
       "</table>\n"
      ],
      "text/latex": [
       "A tibble: 6 × 2\n",
       "\\begin{tabular}{r|ll}\n",
       " dest & n\\\\\n",
       " <chr> & <int>\\\\\n",
       "\\hline\n",
       "\t ABQ &   254\\\\\n",
       "\t ACK &   264\\\\\n",
       "\t ALB &   418\\\\\n",
       "\t ANC &     8\\\\\n",
       "\t ATL & 16837\\\\\n",
       "\t AUS &  2411\\\\\n",
       "\\end{tabular}\n"
      ],
      "text/markdown": [
       "\n",
       "A tibble: 6 × 2\n",
       "\n",
       "| dest &lt;chr&gt; | n &lt;int&gt; |\n",
       "|---|---|\n",
       "| ABQ |   254 |\n",
       "| ACK |   264 |\n",
       "| ALB |   418 |\n",
       "| ANC |     8 |\n",
       "| ATL | 16837 |\n",
       "| AUS |  2411 |\n",
       "\n"
      ],
      "text/plain": [
       "  dest n    \n",
       "1 ABQ    254\n",
       "2 ACK    264\n",
       "3 ALB    418\n",
       "4 ANC      8\n",
       "5 ATL  16837\n",
       "6 AUS   2411"
      ]
     },
     "metadata": {},
     "output_type": "display_data"
    }
   ],
   "source": [
    "not_cancelled %>%\n",
    "  group_by(dest) %>%\n",
    "  summarise(n = length(dest)) %>% head()"
   ]
  },
  {
   "cell_type": "markdown",
   "metadata": {
    "hidden": true
   },
   "source": [
    "An alternative method for getting the number of observations in a data frame is the function `n()`."
   ]
  },
  {
   "cell_type": "code",
   "execution_count": 175,
   "metadata": {
    "ExecuteTime": {
     "end_time": "2020-01-29T05:30:23.994146Z",
     "start_time": "2020-01-29T05:30:23.912Z"
    },
    "collapsed": true,
    "hidden": true,
    "jupyter": {
     "outputs_hidden": true
    }
   },
   "outputs": [
    {
     "data": {
      "text/html": [
       "<table>\n",
       "<caption>A tibble: 6 × 2</caption>\n",
       "<thead>\n",
       "\t<tr><th scope=col>dest</th><th scope=col>n</th></tr>\n",
       "\t<tr><th scope=col>&lt;chr&gt;</th><th scope=col>&lt;int&gt;</th></tr>\n",
       "</thead>\n",
       "<tbody>\n",
       "\t<tr><td>ABQ</td><td>  254</td></tr>\n",
       "\t<tr><td>ACK</td><td>  264</td></tr>\n",
       "\t<tr><td>ALB</td><td>  418</td></tr>\n",
       "\t<tr><td>ANC</td><td>    8</td></tr>\n",
       "\t<tr><td>ATL</td><td>16837</td></tr>\n",
       "\t<tr><td>AUS</td><td> 2411</td></tr>\n",
       "</tbody>\n",
       "</table>\n"
      ],
      "text/latex": [
       "A tibble: 6 × 2\n",
       "\\begin{tabular}{r|ll}\n",
       " dest & n\\\\\n",
       " <chr> & <int>\\\\\n",
       "\\hline\n",
       "\t ABQ &   254\\\\\n",
       "\t ACK &   264\\\\\n",
       "\t ALB &   418\\\\\n",
       "\t ANC &     8\\\\\n",
       "\t ATL & 16837\\\\\n",
       "\t AUS &  2411\\\\\n",
       "\\end{tabular}\n"
      ],
      "text/markdown": [
       "\n",
       "A tibble: 6 × 2\n",
       "\n",
       "| dest &lt;chr&gt; | n &lt;int&gt; |\n",
       "|---|---|\n",
       "| ABQ |   254 |\n",
       "| ACK |   264 |\n",
       "| ALB |   418 |\n",
       "| ANC |     8 |\n",
       "| ATL | 16837 |\n",
       "| AUS |  2411 |\n",
       "\n"
      ],
      "text/plain": [
       "  dest n    \n",
       "1 ABQ    254\n",
       "2 ACK    264\n",
       "3 ALB    418\n",
       "4 ANC      8\n",
       "5 ATL  16837\n",
       "6 AUS   2411"
      ]
     },
     "metadata": {},
     "output_type": "display_data"
    }
   ],
   "source": [
    "not_cancelled %>%\n",
    "  group_by(dest) %>%\n",
    "  summarise(n = n()) %>% head()"
   ]
  },
  {
   "cell_type": "markdown",
   "metadata": {
    "hidden": true
   },
   "source": [
    "<font color = 'blue'>Another alternative to `count()` is to use the combination of the `group_by()` and `tally()` verbs</font>.\n",
    "In fact, `count()` is effectively a short-cut for `group_by()` followed by `tally()`.\n",
    "\n"
   ]
  },
  {
   "cell_type": "code",
   "execution_count": 179,
   "metadata": {
    "ExecuteTime": {
     "end_time": "2020-01-29T05:38:29.305694Z",
     "start_time": "2020-01-29T05:38:29.153Z"
    },
    "hidden": true,
    "scrolled": true
   },
   "outputs": [
    {
     "data": {
      "text/html": [
       "<table>\n",
       "<caption>A tibble: 6 × 2</caption>\n",
       "<thead>\n",
       "\t<tr><th scope=col>tailnum</th><th scope=col>n</th></tr>\n",
       "\t<tr><th scope=col>&lt;chr&gt;</th><th scope=col>&lt;int&gt;</th></tr>\n",
       "</thead>\n",
       "<tbody>\n",
       "\t<tr><td>D942DN</td><td>  4</td></tr>\n",
       "\t<tr><td>N0EGMQ</td><td>352</td></tr>\n",
       "\t<tr><td>N10156</td><td>145</td></tr>\n",
       "\t<tr><td>N102UW</td><td> 48</td></tr>\n",
       "\t<tr><td>N103US</td><td> 46</td></tr>\n",
       "\t<tr><td>N104UW</td><td> 46</td></tr>\n",
       "</tbody>\n",
       "</table>\n"
      ],
      "text/latex": [
       "A tibble: 6 × 2\n",
       "\\begin{tabular}{r|ll}\n",
       " tailnum & n\\\\\n",
       " <chr> & <int>\\\\\n",
       "\\hline\n",
       "\t D942DN &   4\\\\\n",
       "\t N0EGMQ & 352\\\\\n",
       "\t N10156 & 145\\\\\n",
       "\t N102UW &  48\\\\\n",
       "\t N103US &  46\\\\\n",
       "\t N104UW &  46\\\\\n",
       "\\end{tabular}\n"
      ],
      "text/markdown": [
       "\n",
       "A tibble: 6 × 2\n",
       "\n",
       "| tailnum &lt;chr&gt; | n &lt;int&gt; |\n",
       "|---|---|\n",
       "| D942DN |   4 |\n",
       "| N0EGMQ | 352 |\n",
       "| N10156 | 145 |\n",
       "| N102UW |  48 |\n",
       "| N103US |  46 |\n",
       "| N104UW |  46 |\n",
       "\n"
      ],
      "text/plain": [
       "  tailnum n  \n",
       "1 D942DN    4\n",
       "2 N0EGMQ  352\n",
       "3 N10156  145\n",
       "4 N102UW   48\n",
       "5 N103US   46\n",
       "6 N104UW   46"
      ]
     },
     "metadata": {},
     "output_type": "display_data"
    }
   ],
   "source": [
    "not_cancelled %>%\n",
    "    group_by(tailnum) %>%\n",
    "    tally() %>% \n",
    "    head()"
   ]
  },
  {
   "cell_type": "markdown",
   "metadata": {
    "hidden": true
   },
   "source": [
    "The second expression also uses the count() function, but adds a wt argument."
   ]
  },
  {
   "cell_type": "code",
   "execution_count": 182,
   "metadata": {
    "ExecuteTime": {
     "end_time": "2020-01-29T05:39:55.951278Z",
     "start_time": "2020-01-29T05:39:55.804Z"
    },
    "hidden": true
   },
   "outputs": [
    {
     "data": {
      "text/html": [
       "<table>\n",
       "<caption>A tibble: 6 × 2</caption>\n",
       "<thead>\n",
       "\t<tr><th scope=col>tailnum</th><th scope=col>n</th></tr>\n",
       "\t<tr><th scope=col>&lt;chr&gt;</th><th scope=col>&lt;dbl&gt;</th></tr>\n",
       "</thead>\n",
       "<tbody>\n",
       "\t<tr><td>D942DN</td><td>  3418</td></tr>\n",
       "\t<tr><td>N0EGMQ</td><td>239143</td></tr>\n",
       "\t<tr><td>N10156</td><td>109664</td></tr>\n",
       "\t<tr><td>N102UW</td><td> 25722</td></tr>\n",
       "\t<tr><td>N103US</td><td> 24619</td></tr>\n",
       "\t<tr><td>N104UW</td><td> 24616</td></tr>\n",
       "</tbody>\n",
       "</table>\n"
      ],
      "text/latex": [
       "A tibble: 6 × 2\n",
       "\\begin{tabular}{r|ll}\n",
       " tailnum & n\\\\\n",
       " <chr> & <dbl>\\\\\n",
       "\\hline\n",
       "\t D942DN &   3418\\\\\n",
       "\t N0EGMQ & 239143\\\\\n",
       "\t N10156 & 109664\\\\\n",
       "\t N102UW &  25722\\\\\n",
       "\t N103US &  24619\\\\\n",
       "\t N104UW &  24616\\\\\n",
       "\\end{tabular}\n"
      ],
      "text/markdown": [
       "\n",
       "A tibble: 6 × 2\n",
       "\n",
       "| tailnum &lt;chr&gt; | n &lt;dbl&gt; |\n",
       "|---|---|\n",
       "| D942DN |   3418 |\n",
       "| N0EGMQ | 239143 |\n",
       "| N10156 | 109664 |\n",
       "| N102UW |  25722 |\n",
       "| N103US |  24619 |\n",
       "| N104UW |  24616 |\n",
       "\n"
      ],
      "text/plain": [
       "  tailnum n     \n",
       "1 D942DN    3418\n",
       "2 N0EGMQ  239143\n",
       "3 N10156  109664\n",
       "4 N102UW   25722\n",
       "5 N103US   24619\n",
       "6 N104UW   24616"
      ]
     },
     "metadata": {},
     "output_type": "display_data"
    }
   ],
   "source": [
    "not_cancelled %>%\n",
    "  count(tailnum, wt = distance) %>% head()"
   ]
  },
  {
   "cell_type": "markdown",
   "metadata": {
    "hidden": true
   },
   "source": [
    "As before, we can replicate `count()` by combining the `group_by()` and `summarise()` verbs.\n",
    "But this time instead of using `length()`, we will use `sum()` with the weighting variable."
   ]
  },
  {
   "cell_type": "code",
   "execution_count": 183,
   "metadata": {
    "ExecuteTime": {
     "end_time": "2020-01-29T05:40:18.097121Z",
     "start_time": "2020-01-29T05:40:17.942Z"
    },
    "hidden": true
   },
   "outputs": [
    {
     "data": {
      "text/html": [
       "<table>\n",
       "<caption>A tibble: 6 × 2</caption>\n",
       "<thead>\n",
       "\t<tr><th scope=col>tailnum</th><th scope=col>n</th></tr>\n",
       "\t<tr><th scope=col>&lt;chr&gt;</th><th scope=col>&lt;dbl&gt;</th></tr>\n",
       "</thead>\n",
       "<tbody>\n",
       "\t<tr><td>D942DN</td><td>  3418</td></tr>\n",
       "\t<tr><td>N0EGMQ</td><td>239143</td></tr>\n",
       "\t<tr><td>N10156</td><td>109664</td></tr>\n",
       "\t<tr><td>N102UW</td><td> 25722</td></tr>\n",
       "\t<tr><td>N103US</td><td> 24619</td></tr>\n",
       "\t<tr><td>N104UW</td><td> 24616</td></tr>\n",
       "</tbody>\n",
       "</table>\n"
      ],
      "text/latex": [
       "A tibble: 6 × 2\n",
       "\\begin{tabular}{r|ll}\n",
       " tailnum & n\\\\\n",
       " <chr> & <dbl>\\\\\n",
       "\\hline\n",
       "\t D942DN &   3418\\\\\n",
       "\t N0EGMQ & 239143\\\\\n",
       "\t N10156 & 109664\\\\\n",
       "\t N102UW &  25722\\\\\n",
       "\t N103US &  24619\\\\\n",
       "\t N104UW &  24616\\\\\n",
       "\\end{tabular}\n"
      ],
      "text/markdown": [
       "\n",
       "A tibble: 6 × 2\n",
       "\n",
       "| tailnum &lt;chr&gt; | n &lt;dbl&gt; |\n",
       "|---|---|\n",
       "| D942DN |   3418 |\n",
       "| N0EGMQ | 239143 |\n",
       "| N10156 | 109664 |\n",
       "| N102UW |  25722 |\n",
       "| N103US |  24619 |\n",
       "| N104UW |  24616 |\n",
       "\n"
      ],
      "text/plain": [
       "  tailnum n     \n",
       "1 D942DN    3418\n",
       "2 N0EGMQ  239143\n",
       "3 N10156  109664\n",
       "4 N102UW   25722\n",
       "5 N103US   24619\n",
       "6 N104UW   24616"
      ]
     },
     "metadata": {},
     "output_type": "display_data"
    }
   ],
   "source": [
    "not_cancelled %>%\n",
    "  group_by(tailnum) %>%\n",
    "  summarise(n = sum(distance)) %>% \n",
    "  head()"
   ]
  },
  {
   "cell_type": "markdown",
   "metadata": {
    "heading_collapsed": true,
    "hidden": true
   },
   "source": [
    "##### <font color = 'purple'>Our definition of cancelled flights (is.na(dep_delay) | is.na(arr_delay) ) is slightly suboptimal. Why? Which is the most important column? </font>"
   ]
  },
  {
   "cell_type": "markdown",
   "metadata": {
    "hidden": true
   },
   "source": [
    "<font color = 'blue'>If a flight never departs, then it won’t arrive.</font>\n",
    "A flight could also depart and not arrive if it crashes, or if it is redirected and lands in an airport other than its intended destination.\n",
    "\n",
    "<font color = 'blue'><b>So the most important column is `arr_delay`\n",
    "<hypothesis-highlight class=\"annotator-hl\">, which indicates </hypothesis-highlight>the amount of delay in arrival.\n",
    "\n",
    "</b></font>"
   ]
  },
  {
   "cell_type": "code",
   "execution_count": 184,
   "metadata": {
    "ExecuteTime": {
     "end_time": "2020-01-29T05:45:16.618407Z",
     "start_time": "2020-01-29T05:45:16.544Z"
    },
    "hidden": true
   },
   "outputs": [
    {
     "data": {
      "text/html": [
       "<table>\n",
       "<caption>A tibble: 6 × 5</caption>\n",
       "<thead>\n",
       "\t<tr><th scope=col>dep_time</th><th scope=col>arr_time</th><th scope=col>sched_arr_time</th><th scope=col>dep_delay</th><th scope=col>arr_delay</th></tr>\n",
       "\t<tr><th scope=col>&lt;int&gt;</th><th scope=col>&lt;int&gt;</th><th scope=col>&lt;int&gt;</th><th scope=col>&lt;dbl&gt;</th><th scope=col>&lt;dbl&gt;</th></tr>\n",
       "</thead>\n",
       "<tbody>\n",
       "\t<tr><td>1525</td><td>1934</td><td>1805</td><td>-5</td><td>NA</td></tr>\n",
       "\t<tr><td>1528</td><td>2002</td><td>1647</td><td>29</td><td>NA</td></tr>\n",
       "\t<tr><td>1740</td><td>2158</td><td>2020</td><td>-5</td><td>NA</td></tr>\n",
       "\t<tr><td>1807</td><td>2251</td><td>2103</td><td>29</td><td>NA</td></tr>\n",
       "\t<tr><td>1939</td><td>  29</td><td>2151</td><td>59</td><td>NA</td></tr>\n",
       "\t<tr><td>1952</td><td>2358</td><td>2207</td><td>22</td><td>NA</td></tr>\n",
       "</tbody>\n",
       "</table>\n"
      ],
      "text/latex": [
       "A tibble: 6 × 5\n",
       "\\begin{tabular}{r|lllll}\n",
       " dep\\_time & arr\\_time & sched\\_arr\\_time & dep\\_delay & arr\\_delay\\\\\n",
       " <int> & <int> & <int> & <dbl> & <dbl>\\\\\n",
       "\\hline\n",
       "\t 1525 & 1934 & 1805 & -5 & NA\\\\\n",
       "\t 1528 & 2002 & 1647 & 29 & NA\\\\\n",
       "\t 1740 & 2158 & 2020 & -5 & NA\\\\\n",
       "\t 1807 & 2251 & 2103 & 29 & NA\\\\\n",
       "\t 1939 &   29 & 2151 & 59 & NA\\\\\n",
       "\t 1952 & 2358 & 2207 & 22 & NA\\\\\n",
       "\\end{tabular}\n"
      ],
      "text/markdown": [
       "\n",
       "A tibble: 6 × 5\n",
       "\n",
       "| dep_time &lt;int&gt; | arr_time &lt;int&gt; | sched_arr_time &lt;int&gt; | dep_delay &lt;dbl&gt; | arr_delay &lt;dbl&gt; |\n",
       "|---|---|---|---|---|\n",
       "| 1525 | 1934 | 1805 | -5 | NA |\n",
       "| 1528 | 2002 | 1647 | 29 | NA |\n",
       "| 1740 | 2158 | 2020 | -5 | NA |\n",
       "| 1807 | 2251 | 2103 | 29 | NA |\n",
       "| 1939 |   29 | 2151 | 59 | NA |\n",
       "| 1952 | 2358 | 2207 | 22 | NA |\n",
       "\n"
      ],
      "text/plain": [
       "  dep_time arr_time sched_arr_time dep_delay arr_delay\n",
       "1 1525     1934     1805           -5        NA       \n",
       "2 1528     2002     1647           29        NA       \n",
       "3 1740     2158     2020           -5        NA       \n",
       "4 1807     2251     2103           29        NA       \n",
       "5 1939       29     2151           59        NA       \n",
       "6 1952     2358     2207           22        NA       "
      ]
     },
     "metadata": {},
     "output_type": "display_data"
    }
   ],
   "source": [
    "filter(flights, !is.na(dep_delay), is.na(arr_delay)) %>%\n",
    "  select(dep_time, arr_time, \n",
    "         sched_arr_time, \n",
    "         dep_delay, arr_delay) %>% \n",
    "  head()"
   ]
  },
  {
   "cell_type": "markdown",
   "metadata": {
    "hidden": true
   },
   "source": [
    "<hypothesis-highlight class=\"annotator-hl\">Okay, I’m not sure what’s going on in this data.</hypothesis-highlight>`dep_time` can be non-missing and `arr_delay` missing but `arr_time` not missing.\n",
    "They may be combining different flights?"
   ]
  },
  {
   "cell_type": "markdown",
   "metadata": {
    "heading_collapsed": true,
    "hidden": true
   },
   "source": [
    "##### <font color = 'purple'>Look at the number of cancelled flights per day. Is there a pattern? Is the proportion of cancelled flights related to the average delay? </font>"
   ]
  },
  {
   "cell_type": "markdown",
   "metadata": {
    "hidden": true
   },
   "source": [
    "* One pattern in cancelled flights per day is that the number of cancelled flights increases with the total number of flights per day.\n",
    "* The proportion of cancelled flights increases with the average delay of flights.\n",
    "\n",
    "To answer these questions, use definition of cancelled used in the\n",
    "chapter [Section 5.6.3](https://r4ds.had.co.nz/transform.html#counts) and the\n",
    "relationship `!(is.na(arr_delay) & is.na(dep_delay))` is equal to\n",
    "`!is.na(arr_delay) | !is.na(dep_delay)` by [De Morgan’s law](https://en.wikipedia.org/wiki/De_Morgan%27s_laws).\n",
    "\n",
    "The first part of the question asks for any pattern in the number of cancelled flights per day.\n",
    "\n",
    "I’ll look at the relationship between the number of cancelled flights per day and the total number of flights in a day.\n",
    "There should be an increasing relationship for two reasons.\n",
    "First, if all flights are equally likely to be cancelled, then days with more flights should have a higher number of cancellations.\n",
    "Second, it is likely that days with more flights would have a higher probability of cancellations because congestion itself can cause delays and any delay would affect more flights, and large delays can lead to cancellations."
   ]
  },
  {
   "cell_type": "code",
   "execution_count": 206,
   "metadata": {
    "ExecuteTime": {
     "end_time": "2020-01-29T06:07:42.190430Z",
     "start_time": "2020-01-29T06:07:42.104Z"
    },
    "collapsed": true,
    "hidden": true,
    "jupyter": {
     "outputs_hidden": true
    }
   },
   "outputs": [
    {
     "data": {
      "text/html": [
       "<table>\n",
       "<caption>A grouped_df: 6 × 5</caption>\n",
       "<thead>\n",
       "\t<tr><th scope=col>year</th><th scope=col>month</th><th scope=col>day</th><th scope=col>cancelled_num</th><th scope=col>flights_num</th></tr>\n",
       "\t<tr><th scope=col>&lt;int&gt;</th><th scope=col>&lt;int&gt;</th><th scope=col>&lt;int&gt;</th><th scope=col>&lt;int&gt;</th><th scope=col>&lt;int&gt;</th></tr>\n",
       "</thead>\n",
       "<tbody>\n",
       "\t<tr><td>2013</td><td>1</td><td>1</td><td>11</td><td>842</td></tr>\n",
       "\t<tr><td>2013</td><td>1</td><td>2</td><td>15</td><td>943</td></tr>\n",
       "\t<tr><td>2013</td><td>1</td><td>3</td><td>14</td><td>914</td></tr>\n",
       "\t<tr><td>2013</td><td>1</td><td>4</td><td> 7</td><td>915</td></tr>\n",
       "\t<tr><td>2013</td><td>1</td><td>5</td><td> 3</td><td>720</td></tr>\n",
       "\t<tr><td>2013</td><td>1</td><td>6</td><td> 3</td><td>832</td></tr>\n",
       "</tbody>\n",
       "</table>\n"
      ],
      "text/latex": [
       "A grouped_df: 6 × 5\n",
       "\\begin{tabular}{r|lllll}\n",
       " year & month & day & cancelled\\_num & flights\\_num\\\\\n",
       " <int> & <int> & <int> & <int> & <int>\\\\\n",
       "\\hline\n",
       "\t 2013 & 1 & 1 & 11 & 842\\\\\n",
       "\t 2013 & 1 & 2 & 15 & 943\\\\\n",
       "\t 2013 & 1 & 3 & 14 & 914\\\\\n",
       "\t 2013 & 1 & 4 &  7 & 915\\\\\n",
       "\t 2013 & 1 & 5 &  3 & 720\\\\\n",
       "\t 2013 & 1 & 6 &  3 & 832\\\\\n",
       "\\end{tabular}\n"
      ],
      "text/markdown": [
       "\n",
       "A grouped_df: 6 × 5\n",
       "\n",
       "| year &lt;int&gt; | month &lt;int&gt; | day &lt;int&gt; | cancelled_num &lt;int&gt; | flights_num &lt;int&gt; |\n",
       "|---|---|---|---|---|\n",
       "| 2013 | 1 | 1 | 11 | 842 |\n",
       "| 2013 | 1 | 2 | 15 | 943 |\n",
       "| 2013 | 1 | 3 | 14 | 914 |\n",
       "| 2013 | 1 | 4 |  7 | 915 |\n",
       "| 2013 | 1 | 5 |  3 | 720 |\n",
       "| 2013 | 1 | 6 |  3 | 832 |\n",
       "\n"
      ],
      "text/plain": [
       "  year month day cancelled_num flights_num\n",
       "1 2013 1     1   11            842        \n",
       "2 2013 1     2   15            943        \n",
       "3 2013 1     3   14            914        \n",
       "4 2013 1     4    7            915        \n",
       "5 2013 1     5    3            720        \n",
       "6 2013 1     6    3            832        "
      ]
     },
     "metadata": {},
     "output_type": "display_data"
    }
   ],
   "source": [
    "flights %>% \n",
    "  mutate(cancelled = (is.na(arr_delay) | is.na(dep_delay))) %>% \n",
    "  group_by(year, month, day) %>% \n",
    "  summarise(\n",
    "      cancelled_num = sum(cancelled),\n",
    "      flights_num = n()) %>% \n",
    "  head()"
   ]
  },
  {
   "cell_type": "code",
   "execution_count": 189,
   "metadata": {
    "ExecuteTime": {
     "end_time": "2020-01-29T05:53:39.175979Z",
     "start_time": "2020-01-29T05:53:39.089Z"
    },
    "hidden": true
   },
   "outputs": [
    {
     "data": {
      "text/html": [
       "<table>\n",
       "<caption>A grouped_df: 6 × 5</caption>\n",
       "<thead>\n",
       "\t<tr><th scope=col>year</th><th scope=col>month</th><th scope=col>day</th><th scope=col>cancelled_num</th><th scope=col>flights_num</th></tr>\n",
       "\t<tr><th scope=col>&lt;int&gt;</th><th scope=col>&lt;int&gt;</th><th scope=col>&lt;int&gt;</th><th scope=col>&lt;int&gt;</th><th scope=col>&lt;int&gt;</th></tr>\n",
       "</thead>\n",
       "<tbody>\n",
       "\t<tr><td>2013</td><td>1</td><td>1</td><td>11</td><td>842</td></tr>\n",
       "\t<tr><td>2013</td><td>1</td><td>2</td><td>15</td><td>943</td></tr>\n",
       "\t<tr><td>2013</td><td>1</td><td>3</td><td>14</td><td>914</td></tr>\n",
       "\t<tr><td>2013</td><td>1</td><td>4</td><td> 7</td><td>915</td></tr>\n",
       "\t<tr><td>2013</td><td>1</td><td>5</td><td> 3</td><td>720</td></tr>\n",
       "\t<tr><td>2013</td><td>1</td><td>6</td><td> 3</td><td>832</td></tr>\n",
       "</tbody>\n",
       "</table>\n"
      ],
      "text/latex": [
       "A grouped_df: 6 × 5\n",
       "\\begin{tabular}{r|lllll}\n",
       " year & month & day & cancelled\\_num & flights\\_num\\\\\n",
       " <int> & <int> & <int> & <int> & <int>\\\\\n",
       "\\hline\n",
       "\t 2013 & 1 & 1 & 11 & 842\\\\\n",
       "\t 2013 & 1 & 2 & 15 & 943\\\\\n",
       "\t 2013 & 1 & 3 & 14 & 914\\\\\n",
       "\t 2013 & 1 & 4 &  7 & 915\\\\\n",
       "\t 2013 & 1 & 5 &  3 & 720\\\\\n",
       "\t 2013 & 1 & 6 &  3 & 832\\\\\n",
       "\\end{tabular}\n"
      ],
      "text/markdown": [
       "\n",
       "A grouped_df: 6 × 5\n",
       "\n",
       "| year &lt;int&gt; | month &lt;int&gt; | day &lt;int&gt; | cancelled_num &lt;int&gt; | flights_num &lt;int&gt; |\n",
       "|---|---|---|---|---|\n",
       "| 2013 | 1 | 1 | 11 | 842 |\n",
       "| 2013 | 1 | 2 | 15 | 943 |\n",
       "| 2013 | 1 | 3 | 14 | 914 |\n",
       "| 2013 | 1 | 4 |  7 | 915 |\n",
       "| 2013 | 1 | 5 |  3 | 720 |\n",
       "| 2013 | 1 | 6 |  3 | 832 |\n",
       "\n"
      ],
      "text/plain": [
       "  year month day cancelled_num flights_num\n",
       "1 2013 1     1   11            842        \n",
       "2 2013 1     2   15            943        \n",
       "3 2013 1     3   14            914        \n",
       "4 2013 1     4    7            915        \n",
       "5 2013 1     5    3            720        \n",
       "6 2013 1     6    3            832        "
      ]
     },
     "metadata": {},
     "output_type": "display_data"
    }
   ],
   "source": [
    "(cancelled_per_day <-\n",
    "  flights %>%\n",
    "  mutate(cancelled = (is.na(arr_delay) | is.na(dep_delay))) %>%\n",
    "  group_by(year, month, day) %>%\n",
    "  summarise(\n",
    "    cancelled_num = sum(cancelled),\n",
    "    flights_num = n(),\n",
    "  )) %>% head()"
   ]
  },
  {
   "cell_type": "markdown",
   "metadata": {
    "hidden": true
   },
   "source": [
    "Plotting `flights_num` against `cancelled_num` shows that the number of flights\n",
    "cancelled increases with the total number of flights."
   ]
  },
  {
   "cell_type": "markdown",
   "metadata": {
    "heading_collapsed": true,
    "hidden": true
   },
   "source": [
    "##### <font color = 'purple'>Which carrier has the worst delays? \n",
    "    \n",
    "Challenge: can you disentangle the effects of bad airports vs. bad carriers? \n",
    "\n",
    "Why/why not? (Hint: think about flights %>% group_by(carrier, dest) %>% summarise(n())) </font>"
   ]
  },
  {
   "cell_type": "code",
   "execution_count": 224,
   "metadata": {
    "ExecuteTime": {
     "end_time": "2020-01-29T07:43:20.248874Z",
     "start_time": "2020-01-29T07:43:20.156Z"
    },
    "hidden": true
   },
   "outputs": [
    {
     "data": {
      "text/html": [
       "<table>\n",
       "<caption>A tibble: 6 × 2</caption>\n",
       "<thead>\n",
       "\t<tr><th scope=col>carrier</th><th scope=col>arr_delay</th></tr>\n",
       "\t<tr><th scope=col>&lt;chr&gt;</th><th scope=col>&lt;dbl&gt;</th></tr>\n",
       "</thead>\n",
       "<tbody>\n",
       "\t<tr><td>F9</td><td>21.92070</td></tr>\n",
       "\t<tr><td>FL</td><td>20.11591</td></tr>\n",
       "\t<tr><td>EV</td><td>15.79643</td></tr>\n",
       "\t<tr><td>YV</td><td>15.55699</td></tr>\n",
       "\t<tr><td>OO</td><td>11.93103</td></tr>\n",
       "\t<tr><td>MQ</td><td>10.77473</td></tr>\n",
       "</tbody>\n",
       "</table>\n"
      ],
      "text/latex": [
       "A tibble: 6 × 2\n",
       "\\begin{tabular}{r|ll}\n",
       " carrier & arr\\_delay\\\\\n",
       " <chr> & <dbl>\\\\\n",
       "\\hline\n",
       "\t F9 & 21.92070\\\\\n",
       "\t FL & 20.11591\\\\\n",
       "\t EV & 15.79643\\\\\n",
       "\t YV & 15.55699\\\\\n",
       "\t OO & 11.93103\\\\\n",
       "\t MQ & 10.77473\\\\\n",
       "\\end{tabular}\n"
      ],
      "text/markdown": [
       "\n",
       "A tibble: 6 × 2\n",
       "\n",
       "| carrier &lt;chr&gt; | arr_delay &lt;dbl&gt; |\n",
       "|---|---|\n",
       "| F9 | 21.92070 |\n",
       "| FL | 20.11591 |\n",
       "| EV | 15.79643 |\n",
       "| YV | 15.55699 |\n",
       "| OO | 11.93103 |\n",
       "| MQ | 10.77473 |\n",
       "\n"
      ],
      "text/plain": [
       "  carrier arr_delay\n",
       "1 F9      21.92070 \n",
       "2 FL      20.11591 \n",
       "3 EV      15.79643 \n",
       "4 YV      15.55699 \n",
       "5 OO      11.93103 \n",
       "6 MQ      10.77473 "
      ]
     },
     "metadata": {},
     "output_type": "display_data"
    }
   ],
   "source": [
    "flights %>% \n",
    "  group_by(carrier) %>% \n",
    "  summarise(arr_delay = mean(arr_delay, na.rm = TRUE)) %>%  \n",
    "  arrange(desc(arr_delay)) %>% \n",
    "  head() "
   ]
  },
  {
   "cell_type": "code",
   "execution_count": 225,
   "metadata": {
    "ExecuteTime": {
     "end_time": "2020-01-29T07:43:26.423446Z",
     "start_time": "2020-01-29T07:43:26.324Z"
    },
    "hidden": true
   },
   "outputs": [
    {
     "data": {
      "text/html": [
       "<table>\n",
       "<caption>A tibble: 6 × 2</caption>\n",
       "<thead>\n",
       "\t<tr><th scope=col>carrier</th><th scope=col>arr_delay</th></tr>\n",
       "\t<tr><th scope=col>&lt;chr&gt;</th><th scope=col>&lt;dbl&gt;</th></tr>\n",
       "</thead>\n",
       "<tbody>\n",
       "\t<tr><td>F9</td><td>21.92070</td></tr>\n",
       "\t<tr><td>FL</td><td>20.11591</td></tr>\n",
       "\t<tr><td>EV</td><td>15.79643</td></tr>\n",
       "\t<tr><td>YV</td><td>15.55699</td></tr>\n",
       "\t<tr><td>OO</td><td>11.93103</td></tr>\n",
       "\t<tr><td>MQ</td><td>10.77473</td></tr>\n",
       "</tbody>\n",
       "</table>\n"
      ],
      "text/latex": [
       "A tibble: 6 × 2\n",
       "\\begin{tabular}{r|ll}\n",
       " carrier & arr\\_delay\\\\\n",
       " <chr> & <dbl>\\\\\n",
       "\\hline\n",
       "\t F9 & 21.92070\\\\\n",
       "\t FL & 20.11591\\\\\n",
       "\t EV & 15.79643\\\\\n",
       "\t YV & 15.55699\\\\\n",
       "\t OO & 11.93103\\\\\n",
       "\t MQ & 10.77473\\\\\n",
       "\\end{tabular}\n"
      ],
      "text/markdown": [
       "\n",
       "A tibble: 6 × 2\n",
       "\n",
       "| carrier &lt;chr&gt; | arr_delay &lt;dbl&gt; |\n",
       "|---|---|\n",
       "| F9 | 21.92070 |\n",
       "| FL | 20.11591 |\n",
       "| EV | 15.79643 |\n",
       "| YV | 15.55699 |\n",
       "| OO | 11.93103 |\n",
       "| MQ | 10.77473 |\n",
       "\n"
      ],
      "text/plain": [
       "  carrier arr_delay\n",
       "1 F9      21.92070 \n",
       "2 FL      20.11591 \n",
       "3 EV      15.79643 \n",
       "4 YV      15.55699 \n",
       "5 OO      11.93103 \n",
       "6 MQ      10.77473 "
      ]
     },
     "metadata": {},
     "output_type": "display_data"
    }
   ],
   "source": [
    "flights %>%\n",
    "  group_by(carrier) %>%\n",
    "  summarise(arr_delay = mean(arr_delay, na.rm = TRUE)) %>%\n",
    "  arrange(desc(arr_delay)) %>% head()"
   ]
  },
  {
   "cell_type": "markdown",
   "metadata": {
    "heading_collapsed": true,
    "hidden": true
   },
   "source": [
    "##### <font color = 'purple'>What does the sort argument to count() do. When might you use it? </font>"
   ]
  },
  {
   "cell_type": "code",
   "execution_count": 11,
   "metadata": {
    "ExecuteTime": {
     "end_time": "2020-01-31T02:10:29.250608Z",
     "start_time": "2020-01-31T02:10:29.172Z"
    },
    "collapsed": true,
    "hidden": true
   },
   "outputs": [
    {
     "data": {
      "text/html": [
       "<table>\n",
       "<caption>A tibble: 3 × 2</caption>\n",
       "<thead>\n",
       "\t<tr><th scope=col>origin</th><th scope=col>n</th></tr>\n",
       "\t<tr><th scope=col>&lt;chr&gt;</th><th scope=col>&lt;int&gt;</th></tr>\n",
       "</thead>\n",
       "<tbody>\n",
       "\t<tr><td>EWR</td><td>120835</td></tr>\n",
       "\t<tr><td>JFK</td><td>111279</td></tr>\n",
       "\t<tr><td>LGA</td><td>104662</td></tr>\n",
       "</tbody>\n",
       "</table>\n"
      ],
      "text/latex": [
       "A tibble: 3 × 2\n",
       "\\begin{tabular}{r|ll}\n",
       " origin & n\\\\\n",
       " <chr> & <int>\\\\\n",
       "\\hline\n",
       "\t EWR & 120835\\\\\n",
       "\t JFK & 111279\\\\\n",
       "\t LGA & 104662\\\\\n",
       "\\end{tabular}\n"
      ],
      "text/markdown": [
       "\n",
       "A tibble: 3 × 2\n",
       "\n",
       "| origin &lt;chr&gt; | n &lt;int&gt; |\n",
       "|---|---|\n",
       "| EWR | 120835 |\n",
       "| JFK | 111279 |\n",
       "| LGA | 104662 |\n",
       "\n"
      ],
      "text/plain": [
       "  origin n     \n",
       "1 EWR    120835\n",
       "2 JFK    111279\n",
       "3 LGA    104662"
      ]
     },
     "metadata": {},
     "output_type": "display_data"
    }
   ],
   "source": [
    "flights %>% count(origin) %>% arrange(desc(n))"
   ]
  },
  {
   "cell_type": "markdown",
   "metadata": {
    "heading_collapsed": true
   },
   "source": [
    "## Grouped mutates (and filters)\n"
   ]
  },
  {
   "cell_type": "markdown",
   "metadata": {
    "hidden": true
   },
   "source": [
    "<font color = 'blue'><b>Grouping is most useful in conjunction with `summarise()`, but you can also do convenient operations with `mutate()` and `filter()`</b></font>"
   ]
  },
  {
   "cell_type": "markdown",
   "metadata": {
    "hidden": true
   },
   "source": [
    "<font color = 'purple'>Find the worst members of each group: </font></b>"
   ]
  },
  {
   "cell_type": "code",
   "execution_count": 42,
   "metadata": {
    "ExecuteTime": {
     "end_time": "2020-01-28T19:11:57.708048Z",
     "start_time": "2020-01-28T19:11:57.509Z"
    },
    "collapsed": true,
    "hidden": true,
    "jupyter": {
     "outputs_hidden": true
    }
   },
   "outputs": [
    {
     "name": "stdout",
     "output_type": "stream",
     "text": [
      "Observations: 3,306\n",
      "Variables: 19\n",
      "Groups: year, month, day [365]\n",
      "$ year           \u001b[3m\u001b[90m<int>\u001b[39m\u001b[23m 2013, 2013, 2013, 2013, 2013, 2013, 2013, 2013, 2013...\n",
      "$ month          \u001b[3m\u001b[90m<int>\u001b[39m\u001b[23m 1, 1, 1, 1, 1, 1, 1, 1, 1, 1, 1, 1, 1, 1, 1, 1, 1, 1...\n",
      "$ day            \u001b[3m\u001b[90m<int>\u001b[39m\u001b[23m 1, 1, 1, 1, 1, 1, 1, 1, 1, 2, 2, 2, 2, 2, 2, 2, 2, 2...\n",
      "$ dep_time       \u001b[3m\u001b[90m<int>\u001b[39m\u001b[23m 848, 1815, 1842, 1942, 2006, 2115, 2205, 2312, 2343,...\n",
      "$ sched_dep_time \u001b[3m\u001b[90m<int>\u001b[39m\u001b[23m 1835, 1325, 1422, 1705, 1630, 1700, 1720, 2000, 1724...\n",
      "$ dep_delay      \u001b[3m\u001b[90m<dbl>\u001b[39m\u001b[23m 853, 290, 260, 157, 216, 255, 285, 192, 379, 224, 26...\n",
      "$ arr_time       \u001b[3m\u001b[90m<int>\u001b[39m\u001b[23m 1001, 2120, 1958, 2124, 2230, 2330, 46, 21, 314, 143...\n",
      "$ sched_arr_time \u001b[3m\u001b[90m<int>\u001b[39m\u001b[23m 1950, 1542, 1535, 1830, 1848, 1920, 2040, 2110, 1938...\n",
      "$ arr_delay      \u001b[3m\u001b[90m<dbl>\u001b[39m\u001b[23m 851, 338, 263, 174, 222, 250, 246, 191, 456, 207, 28...\n",
      "$ carrier        \u001b[3m\u001b[90m<chr>\u001b[39m\u001b[23m \"MQ\", \"EV\", \"EV\", \"MQ\", \"EV\", \"9E\", \"AA\", \"EV\", \"EV\"...\n",
      "$ flight         \u001b[3m\u001b[90m<int>\u001b[39m\u001b[23m 3944, 4417, 4633, 4410, 4644, 3347, 1999, 4312, 4321...\n",
      "$ tailnum        \u001b[3m\u001b[90m<chr>\u001b[39m\u001b[23m \"N942MQ\", \"N17185\", \"N18120\", \"N835MQ\", \"N14972\", \"N...\n",
      "$ origin         \u001b[3m\u001b[90m<chr>\u001b[39m\u001b[23m \"JFK\", \"EWR\", \"EWR\", \"JFK\", \"EWR\", \"JFK\", \"EWR\", \"EW...\n",
      "$ dest           \u001b[3m\u001b[90m<chr>\u001b[39m\u001b[23m \"BWI\", \"OMA\", \"BTV\", \"DCA\", \"SAV\", \"CVG\", \"MIA\", \"DC...\n",
      "$ air_time       \u001b[3m\u001b[90m<dbl>\u001b[39m\u001b[23m 41, 213, 46, 60, 121, 115, 146, 44, 222, 94, 203, 15...\n",
      "$ distance       \u001b[3m\u001b[90m<dbl>\u001b[39m\u001b[23m 184, 1134, 266, 213, 708, 589, 1085, 199, 1092, 550,...\n",
      "$ hour           \u001b[3m\u001b[90m<dbl>\u001b[39m\u001b[23m 18, 13, 14, 17, 16, 17, 17, 20, 17, 9, 9, 8, 10, 16,...\n",
      "$ minute         \u001b[3m\u001b[90m<dbl>\u001b[39m\u001b[23m 35, 25, 22, 5, 30, 0, 20, 0, 24, 0, 4, 38, 30, 21, 5...\n",
      "$ time_hour      \u001b[3m\u001b[90m<dttm>\u001b[39m\u001b[23m 2013-01-01 18:00:00, 2013-01-01 13:00:00, 2013-01-0...\n"
     ]
    }
   ],
   "source": [
    "flights %>% \n",
    "  group_by(year, month, day) %>%\n",
    "  filter(rank(desc(arr_delay)) < 10) %>% glimpse()"
   ]
  },
  {
   "cell_type": "markdown",
   "metadata": {
    "hidden": true
   },
   "source": [
    "<font color = 'purple'>Find all groups bigger than a threshold: </font></b>"
   ]
  },
  {
   "cell_type": "code",
   "execution_count": 14,
   "metadata": {
    "ExecuteTime": {
     "end_time": "2020-01-31T02:12:06.829356Z",
     "start_time": "2020-01-31T02:12:06.544Z"
    },
    "collapsed": true,
    "hidden": true,
    "jupyter": {
     "outputs_hidden": true
    }
   },
   "outputs": [
    {
     "data": {
      "text/html": [
       "<table>\n",
       "<caption>A grouped_df: 77 × 2</caption>\n",
       "<thead>\n",
       "\t<tr><th scope=col>dest</th><th scope=col>n</th></tr>\n",
       "\t<tr><th scope=col>&lt;chr&gt;</th><th scope=col>&lt;int&gt;</th></tr>\n",
       "</thead>\n",
       "<tbody>\n",
       "\t<tr><td>BUR</td><td> 371</td></tr>\n",
       "\t<tr><td>BGR</td><td> 375</td></tr>\n",
       "\t<tr><td>PVD</td><td> 376</td></tr>\n",
       "\t<tr><td>ALB</td><td> 439</td></tr>\n",
       "\t<tr><td>BDL</td><td> 443</td></tr>\n",
       "\t<tr><td>STT</td><td> 522</td></tr>\n",
       "\t<tr><td>DSM</td><td> 569</td></tr>\n",
       "\t<tr><td>MSN</td><td> 572</td></tr>\n",
       "\t<tr><td>TYS</td><td> 631</td></tr>\n",
       "\t<tr><td>LGB</td><td> 668</td></tr>\n",
       "\t<tr><td>SAT</td><td> 686</td></tr>\n",
       "\t<tr><td>HNL</td><td> 707</td></tr>\n",
       "\t<tr><td>GRR</td><td> 765</td></tr>\n",
       "\t<tr><td>SAV</td><td> 804</td></tr>\n",
       "\t<tr><td>SNA</td><td> 825</td></tr>\n",
       "\t<tr><td>GSP</td><td> 849</td></tr>\n",
       "\t<tr><td>OMA</td><td> 849</td></tr>\n",
       "\t<tr><td>CAK</td><td> 864</td></tr>\n",
       "\t<tr><td>BQN</td><td> 896</td></tr>\n",
       "\t<tr><td>MHT</td><td>1009</td></tr>\n",
       "\t<tr><td>XNA</td><td>1036</td></tr>\n",
       "\t<tr><td>SDF</td><td>1157</td></tr>\n",
       "\t<tr><td>SRQ</td><td>1211</td></tr>\n",
       "\t<tr><td>PDX</td><td>1354</td></tr>\n",
       "\t<tr><td>DAY</td><td>1525</td></tr>\n",
       "\t<tr><td>ORF</td><td>1536</td></tr>\n",
       "\t<tr><td>GSO</td><td>1606</td></tr>\n",
       "\t<tr><td>PHL</td><td>1632</td></tr>\n",
       "\t<tr><td>SYR</td><td>1761</td></tr>\n",
       "\t<tr><td>BWI</td><td>1781</td></tr>\n",
       "\t<tr><td>...</td><td>...</td></tr>\n",
       "\t<tr><td>MSY</td><td> 3799</td></tr>\n",
       "\t<tr><td>SEA</td><td> 3923</td></tr>\n",
       "\t<tr><td>CVG</td><td> 3941</td></tr>\n",
       "\t<tr><td>MDW</td><td> 4113</td></tr>\n",
       "\t<tr><td>STL</td><td> 4339</td></tr>\n",
       "\t<tr><td>CLE</td><td> 4573</td></tr>\n",
       "\t<tr><td>PHX</td><td> 4656</td></tr>\n",
       "\t<tr><td>BUF</td><td> 4681</td></tr>\n",
       "\t<tr><td>IAD</td><td> 5700</td></tr>\n",
       "\t<tr><td>SJU</td><td> 5819</td></tr>\n",
       "\t<tr><td>LAS</td><td> 5997</td></tr>\n",
       "\t<tr><td>BNA</td><td> 6333</td></tr>\n",
       "\t<tr><td>PBI</td><td> 6554</td></tr>\n",
       "\t<tr><td>MSP</td><td> 7185</td></tr>\n",
       "\t<tr><td>IAH</td><td> 7198</td></tr>\n",
       "\t<tr><td>DEN</td><td> 7266</td></tr>\n",
       "\t<tr><td>TPA</td><td> 7466</td></tr>\n",
       "\t<tr><td>RDU</td><td> 8163</td></tr>\n",
       "\t<tr><td>DFW</td><td> 8738</td></tr>\n",
       "\t<tr><td>DTW</td><td> 9384</td></tr>\n",
       "\t<tr><td>DCA</td><td> 9705</td></tr>\n",
       "\t<tr><td>MIA</td><td>11728</td></tr>\n",
       "\t<tr><td>FLL</td><td>12055</td></tr>\n",
       "\t<tr><td>SFO</td><td>13331</td></tr>\n",
       "\t<tr><td>CLT</td><td>14064</td></tr>\n",
       "\t<tr><td>MCO</td><td>14082</td></tr>\n",
       "\t<tr><td>BOS</td><td>15508</td></tr>\n",
       "\t<tr><td>LAX</td><td>16174</td></tr>\n",
       "\t<tr><td>ATL</td><td>17215</td></tr>\n",
       "\t<tr><td>ORD</td><td>17283</td></tr>\n",
       "</tbody>\n",
       "</table>\n"
      ],
      "text/latex": [
       "A grouped_df: 77 × 2\n",
       "\\begin{tabular}{r|ll}\n",
       " dest & n\\\\\n",
       " <chr> & <int>\\\\\n",
       "\\hline\n",
       "\t BUR &  371\\\\\n",
       "\t BGR &  375\\\\\n",
       "\t PVD &  376\\\\\n",
       "\t ALB &  439\\\\\n",
       "\t BDL &  443\\\\\n",
       "\t STT &  522\\\\\n",
       "\t DSM &  569\\\\\n",
       "\t MSN &  572\\\\\n",
       "\t TYS &  631\\\\\n",
       "\t LGB &  668\\\\\n",
       "\t SAT &  686\\\\\n",
       "\t HNL &  707\\\\\n",
       "\t GRR &  765\\\\\n",
       "\t SAV &  804\\\\\n",
       "\t SNA &  825\\\\\n",
       "\t GSP &  849\\\\\n",
       "\t OMA &  849\\\\\n",
       "\t CAK &  864\\\\\n",
       "\t BQN &  896\\\\\n",
       "\t MHT & 1009\\\\\n",
       "\t XNA & 1036\\\\\n",
       "\t SDF & 1157\\\\\n",
       "\t SRQ & 1211\\\\\n",
       "\t PDX & 1354\\\\\n",
       "\t DAY & 1525\\\\\n",
       "\t ORF & 1536\\\\\n",
       "\t GSO & 1606\\\\\n",
       "\t PHL & 1632\\\\\n",
       "\t SYR & 1761\\\\\n",
       "\t BWI & 1781\\\\\n",
       "\t ... & ...\\\\\n",
       "\t MSY &  3799\\\\\n",
       "\t SEA &  3923\\\\\n",
       "\t CVG &  3941\\\\\n",
       "\t MDW &  4113\\\\\n",
       "\t STL &  4339\\\\\n",
       "\t CLE &  4573\\\\\n",
       "\t PHX &  4656\\\\\n",
       "\t BUF &  4681\\\\\n",
       "\t IAD &  5700\\\\\n",
       "\t SJU &  5819\\\\\n",
       "\t LAS &  5997\\\\\n",
       "\t BNA &  6333\\\\\n",
       "\t PBI &  6554\\\\\n",
       "\t MSP &  7185\\\\\n",
       "\t IAH &  7198\\\\\n",
       "\t DEN &  7266\\\\\n",
       "\t TPA &  7466\\\\\n",
       "\t RDU &  8163\\\\\n",
       "\t DFW &  8738\\\\\n",
       "\t DTW &  9384\\\\\n",
       "\t DCA &  9705\\\\\n",
       "\t MIA & 11728\\\\\n",
       "\t FLL & 12055\\\\\n",
       "\t SFO & 13331\\\\\n",
       "\t CLT & 14064\\\\\n",
       "\t MCO & 14082\\\\\n",
       "\t BOS & 15508\\\\\n",
       "\t LAX & 16174\\\\\n",
       "\t ATL & 17215\\\\\n",
       "\t ORD & 17283\\\\\n",
       "\\end{tabular}\n"
      ],
      "text/markdown": [
       "\n",
       "A grouped_df: 77 × 2\n",
       "\n",
       "| dest &lt;chr&gt; | n &lt;int&gt; |\n",
       "|---|---|\n",
       "| BUR |  371 |\n",
       "| BGR |  375 |\n",
       "| PVD |  376 |\n",
       "| ALB |  439 |\n",
       "| BDL |  443 |\n",
       "| STT |  522 |\n",
       "| DSM |  569 |\n",
       "| MSN |  572 |\n",
       "| TYS |  631 |\n",
       "| LGB |  668 |\n",
       "| SAT |  686 |\n",
       "| HNL |  707 |\n",
       "| GRR |  765 |\n",
       "| SAV |  804 |\n",
       "| SNA |  825 |\n",
       "| GSP |  849 |\n",
       "| OMA |  849 |\n",
       "| CAK |  864 |\n",
       "| BQN |  896 |\n",
       "| MHT | 1009 |\n",
       "| XNA | 1036 |\n",
       "| SDF | 1157 |\n",
       "| SRQ | 1211 |\n",
       "| PDX | 1354 |\n",
       "| DAY | 1525 |\n",
       "| ORF | 1536 |\n",
       "| GSO | 1606 |\n",
       "| PHL | 1632 |\n",
       "| SYR | 1761 |\n",
       "| BWI | 1781 |\n",
       "| ... | ... |\n",
       "| MSY |  3799 |\n",
       "| SEA |  3923 |\n",
       "| CVG |  3941 |\n",
       "| MDW |  4113 |\n",
       "| STL |  4339 |\n",
       "| CLE |  4573 |\n",
       "| PHX |  4656 |\n",
       "| BUF |  4681 |\n",
       "| IAD |  5700 |\n",
       "| SJU |  5819 |\n",
       "| LAS |  5997 |\n",
       "| BNA |  6333 |\n",
       "| PBI |  6554 |\n",
       "| MSP |  7185 |\n",
       "| IAH |  7198 |\n",
       "| DEN |  7266 |\n",
       "| TPA |  7466 |\n",
       "| RDU |  8163 |\n",
       "| DFW |  8738 |\n",
       "| DTW |  9384 |\n",
       "| DCA |  9705 |\n",
       "| MIA | 11728 |\n",
       "| FLL | 12055 |\n",
       "| SFO | 13331 |\n",
       "| CLT | 14064 |\n",
       "| MCO | 14082 |\n",
       "| BOS | 15508 |\n",
       "| LAX | 16174 |\n",
       "| ATL | 17215 |\n",
       "| ORD | 17283 |\n",
       "\n"
      ],
      "text/plain": [
       "    dest n    \n",
       "1   BUR   371 \n",
       "2   BGR   375 \n",
       "3   PVD   376 \n",
       "4   ALB   439 \n",
       "5   BDL   443 \n",
       "6   STT   522 \n",
       "7   DSM   569 \n",
       "8   MSN   572 \n",
       "9   TYS   631 \n",
       "10  LGB   668 \n",
       "11  SAT   686 \n",
       "12  HNL   707 \n",
       "13  GRR   765 \n",
       "14  SAV   804 \n",
       "15  SNA   825 \n",
       "16  GSP   849 \n",
       "17  OMA   849 \n",
       "18  CAK   864 \n",
       "19  BQN   896 \n",
       "20  MHT  1009 \n",
       "21  XNA  1036 \n",
       "22  SDF  1157 \n",
       "23  SRQ  1211 \n",
       "24  PDX  1354 \n",
       "25  DAY  1525 \n",
       "26  ORF  1536 \n",
       "27  GSO  1606 \n",
       "28  PHL  1632 \n",
       "29  SYR  1761 \n",
       "30  BWI  1781 \n",
       "... ...  ...  \n",
       "48  MSY   3799\n",
       "49  SEA   3923\n",
       "50  CVG   3941\n",
       "51  MDW   4113\n",
       "52  STL   4339\n",
       "53  CLE   4573\n",
       "54  PHX   4656\n",
       "55  BUF   4681\n",
       "56  IAD   5700\n",
       "57  SJU   5819\n",
       "58  LAS   5997\n",
       "59  BNA   6333\n",
       "60  PBI   6554\n",
       "61  MSP   7185\n",
       "62  IAH   7198\n",
       "63  DEN   7266\n",
       "64  TPA   7466\n",
       "65  RDU   8163\n",
       "66  DFW   8738\n",
       "67  DTW   9384\n",
       "68  DCA   9705\n",
       "69  MIA  11728\n",
       "70  FLL  12055\n",
       "71  SFO  13331\n",
       "72  CLT  14064\n",
       "73  MCO  14082\n",
       "74  BOS  15508\n",
       "75  LAX  16174\n",
       "76  ATL  17215\n",
       "77  ORD  17283"
      ]
     },
     "metadata": {},
     "output_type": "display_data"
    }
   ],
   "source": [
    "popular_dests <- flights %>% \n",
    "  group_by(dest) %>% \n",
    "  filter(n() > 365)\n",
    "\n",
    "popular_dests %>% count(dest) %>% arrange(n)"
   ]
  },
  {
   "cell_type": "markdown",
   "metadata": {
    "hidden": true
   },
   "source": [
    "<font color = 'purple'>Standardise to compute per group metrics: </font>"
   ]
  },
  {
   "cell_type": "code",
   "execution_count": 49,
   "metadata": {
    "ExecuteTime": {
     "end_time": "2020-01-28T19:16:55.578406Z",
     "start_time": "2020-01-28T19:16:55.463Z"
    },
    "collapsed": true,
    "hidden": true,
    "jupyter": {
     "outputs_hidden": true
    }
   },
   "outputs": [
    {
     "name": "stdout",
     "output_type": "stream",
     "text": [
      "Observations: 131,106\n",
      "Variables: 6\n",
      "Groups: dest [77]\n",
      "$ year       \u001b[3m\u001b[90m<int>\u001b[39m\u001b[23m 2013, 2013, 2013, 2013, 2013, 2013, 2013, 2013, 2013, 20...\n",
      "$ month      \u001b[3m\u001b[90m<int>\u001b[39m\u001b[23m 1, 1, 1, 1, 1, 1, 1, 1, 1, 1, 1, 1, 1, 1, 1, 1, 1, 1, 1,...\n",
      "$ day        \u001b[3m\u001b[90m<int>\u001b[39m\u001b[23m 1, 1, 1, 1, 1, 1, 1, 1, 1, 1, 1, 1, 1, 1, 1, 1, 1, 1, 1,...\n",
      "$ dest       \u001b[3m\u001b[90m<chr>\u001b[39m\u001b[23m \"IAH\", \"IAH\", \"MIA\", \"ORD\", \"FLL\", \"ORD\", \"LAX\", \"DFW\", ...\n",
      "$ arr_delay  \u001b[3m\u001b[90m<dbl>\u001b[39m\u001b[23m 11, 20, 33, 12, 19, 8, 7, 31, 12, 16, 32, 14, 4, 3, 5, 1...\n",
      "$ prop_delay \u001b[3m\u001b[90m<dbl>\u001b[39m\u001b[23m 1.106740e-04, 2.012255e-04, 2.350026e-04, 4.239594e-05, ...\n"
     ]
    }
   ],
   "source": [
    "popular_dests %>% \n",
    "  filter(arr_delay > 0) %>% \n",
    "  mutate(prop_delay = arr_delay / sum(arr_delay)) %>% \n",
    "  select(year:day, dest, arr_delay, prop_delay) %>% glimpse()"
   ]
  },
  {
   "cell_type": "code",
   "execution_count": 53,
   "metadata": {
    "ExecuteTime": {
     "end_time": "2020-01-28T19:20:07.250767Z",
     "start_time": "2020-01-28T19:20:07.134Z"
    },
    "collapsed": true,
    "hidden": true,
    "jupyter": {
     "outputs_hidden": true
    }
   },
   "outputs": [
    {
     "data": {
      "text/html": [
       "<table>\n",
       "<caption>A grouped_df: 6 × 19</caption>\n",
       "<thead>\n",
       "\t<tr><th scope=col>year</th><th scope=col>month</th><th scope=col>day</th><th scope=col>dep_time</th><th scope=col>sched_dep_time</th><th scope=col>dep_delay</th><th scope=col>arr_time</th><th scope=col>sched_arr_time</th><th scope=col>arr_delay</th><th scope=col>carrier</th><th scope=col>flight</th><th scope=col>tailnum</th><th scope=col>origin</th><th scope=col>dest</th><th scope=col>air_time</th><th scope=col>distance</th><th scope=col>hour</th><th scope=col>minute</th><th scope=col>time_hour</th></tr>\n",
       "\t<tr><th scope=col>&lt;int&gt;</th><th scope=col>&lt;int&gt;</th><th scope=col>&lt;int&gt;</th><th scope=col>&lt;int&gt;</th><th scope=col>&lt;int&gt;</th><th scope=col>&lt;dbl&gt;</th><th scope=col>&lt;int&gt;</th><th scope=col>&lt;int&gt;</th><th scope=col>&lt;dbl&gt;</th><th scope=col>&lt;chr&gt;</th><th scope=col>&lt;int&gt;</th><th scope=col>&lt;chr&gt;</th><th scope=col>&lt;chr&gt;</th><th scope=col>&lt;chr&gt;</th><th scope=col>&lt;dbl&gt;</th><th scope=col>&lt;dbl&gt;</th><th scope=col>&lt;dbl&gt;</th><th scope=col>&lt;dbl&gt;</th><th scope=col>&lt;dttm&gt;</th></tr>\n",
       "</thead>\n",
       "<tbody>\n",
       "\t<tr><td>2013</td><td>1</td><td>1</td><td>517</td><td>515</td><td> 2</td><td> 830</td><td> 819</td><td> 11</td><td>UA</td><td>1545</td><td>N14228</td><td>EWR</td><td>IAH</td><td>227</td><td>1400</td><td>5</td><td>15</td><td>2013-01-01 05:00:00</td></tr>\n",
       "\t<tr><td>2013</td><td>1</td><td>1</td><td>533</td><td>529</td><td> 4</td><td> 850</td><td> 830</td><td> 20</td><td>UA</td><td>1714</td><td>N24211</td><td>LGA</td><td>IAH</td><td>227</td><td>1416</td><td>5</td><td>29</td><td>2013-01-01 05:00:00</td></tr>\n",
       "\t<tr><td>2013</td><td>1</td><td>1</td><td>542</td><td>540</td><td> 2</td><td> 923</td><td> 850</td><td> 33</td><td>AA</td><td>1141</td><td>N619AA</td><td>JFK</td><td>MIA</td><td>160</td><td>1089</td><td>5</td><td>40</td><td>2013-01-01 05:00:00</td></tr>\n",
       "\t<tr><td>2013</td><td>1</td><td>1</td><td>544</td><td>545</td><td>-1</td><td>1004</td><td>1022</td><td>-18</td><td>B6</td><td> 725</td><td>N804JB</td><td>JFK</td><td>BQN</td><td>183</td><td>1576</td><td>5</td><td>45</td><td>2013-01-01 05:00:00</td></tr>\n",
       "\t<tr><td>2013</td><td>1</td><td>1</td><td>554</td><td>600</td><td>-6</td><td> 812</td><td> 837</td><td>-25</td><td>DL</td><td> 461</td><td>N668DN</td><td>LGA</td><td>ATL</td><td>116</td><td> 762</td><td>6</td><td> 0</td><td>2013-01-01 06:00:00</td></tr>\n",
       "\t<tr><td>2013</td><td>1</td><td>1</td><td>554</td><td>558</td><td>-4</td><td> 740</td><td> 728</td><td> 12</td><td>UA</td><td>1696</td><td>N39463</td><td>EWR</td><td>ORD</td><td>150</td><td> 719</td><td>5</td><td>58</td><td>2013-01-01 05:00:00</td></tr>\n",
       "</tbody>\n",
       "</table>\n"
      ],
      "text/latex": [
       "A grouped_df: 6 × 19\n",
       "\\begin{tabular}{r|lllllllllllllllllll}\n",
       " year & month & day & dep\\_time & sched\\_dep\\_time & dep\\_delay & arr\\_time & sched\\_arr\\_time & arr\\_delay & carrier & flight & tailnum & origin & dest & air\\_time & distance & hour & minute & time\\_hour\\\\\n",
       " <int> & <int> & <int> & <int> & <int> & <dbl> & <int> & <int> & <dbl> & <chr> & <int> & <chr> & <chr> & <chr> & <dbl> & <dbl> & <dbl> & <dbl> & <dttm>\\\\\n",
       "\\hline\n",
       "\t 2013 & 1 & 1 & 517 & 515 &  2 &  830 &  819 &  11 & UA & 1545 & N14228 & EWR & IAH & 227 & 1400 & 5 & 15 & 2013-01-01 05:00:00\\\\\n",
       "\t 2013 & 1 & 1 & 533 & 529 &  4 &  850 &  830 &  20 & UA & 1714 & N24211 & LGA & IAH & 227 & 1416 & 5 & 29 & 2013-01-01 05:00:00\\\\\n",
       "\t 2013 & 1 & 1 & 542 & 540 &  2 &  923 &  850 &  33 & AA & 1141 & N619AA & JFK & MIA & 160 & 1089 & 5 & 40 & 2013-01-01 05:00:00\\\\\n",
       "\t 2013 & 1 & 1 & 544 & 545 & -1 & 1004 & 1022 & -18 & B6 &  725 & N804JB & JFK & BQN & 183 & 1576 & 5 & 45 & 2013-01-01 05:00:00\\\\\n",
       "\t 2013 & 1 & 1 & 554 & 600 & -6 &  812 &  837 & -25 & DL &  461 & N668DN & LGA & ATL & 116 &  762 & 6 &  0 & 2013-01-01 06:00:00\\\\\n",
       "\t 2013 & 1 & 1 & 554 & 558 & -4 &  740 &  728 &  12 & UA & 1696 & N39463 & EWR & ORD & 150 &  719 & 5 & 58 & 2013-01-01 05:00:00\\\\\n",
       "\\end{tabular}\n"
      ],
      "text/markdown": [
       "\n",
       "A grouped_df: 6 × 19\n",
       "\n",
       "| year &lt;int&gt; | month &lt;int&gt; | day &lt;int&gt; | dep_time &lt;int&gt; | sched_dep_time &lt;int&gt; | dep_delay &lt;dbl&gt; | arr_time &lt;int&gt; | sched_arr_time &lt;int&gt; | arr_delay &lt;dbl&gt; | carrier &lt;chr&gt; | flight &lt;int&gt; | tailnum &lt;chr&gt; | origin &lt;chr&gt; | dest &lt;chr&gt; | air_time &lt;dbl&gt; | distance &lt;dbl&gt; | hour &lt;dbl&gt; | minute &lt;dbl&gt; | time_hour &lt;dttm&gt; |\n",
       "|---|---|---|---|---|---|---|---|---|---|---|---|---|---|---|---|---|---|---|\n",
       "| 2013 | 1 | 1 | 517 | 515 |  2 |  830 |  819 |  11 | UA | 1545 | N14228 | EWR | IAH | 227 | 1400 | 5 | 15 | 2013-01-01 05:00:00 |\n",
       "| 2013 | 1 | 1 | 533 | 529 |  4 |  850 |  830 |  20 | UA | 1714 | N24211 | LGA | IAH | 227 | 1416 | 5 | 29 | 2013-01-01 05:00:00 |\n",
       "| 2013 | 1 | 1 | 542 | 540 |  2 |  923 |  850 |  33 | AA | 1141 | N619AA | JFK | MIA | 160 | 1089 | 5 | 40 | 2013-01-01 05:00:00 |\n",
       "| 2013 | 1 | 1 | 544 | 545 | -1 | 1004 | 1022 | -18 | B6 |  725 | N804JB | JFK | BQN | 183 | 1576 | 5 | 45 | 2013-01-01 05:00:00 |\n",
       "| 2013 | 1 | 1 | 554 | 600 | -6 |  812 |  837 | -25 | DL |  461 | N668DN | LGA | ATL | 116 |  762 | 6 |  0 | 2013-01-01 06:00:00 |\n",
       "| 2013 | 1 | 1 | 554 | 558 | -4 |  740 |  728 |  12 | UA | 1696 | N39463 | EWR | ORD | 150 |  719 | 5 | 58 | 2013-01-01 05:00:00 |\n",
       "\n"
      ],
      "text/plain": [
       "  year month day dep_time sched_dep_time dep_delay arr_time sched_arr_time\n",
       "1 2013 1     1   517      515             2         830      819          \n",
       "2 2013 1     1   533      529             4         850      830          \n",
       "3 2013 1     1   542      540             2         923      850          \n",
       "4 2013 1     1   544      545            -1        1004     1022          \n",
       "5 2013 1     1   554      600            -6         812      837          \n",
       "6 2013 1     1   554      558            -4         740      728          \n",
       "  arr_delay carrier flight tailnum origin dest air_time distance hour minute\n",
       "1  11       UA      1545   N14228  EWR    IAH  227      1400     5    15    \n",
       "2  20       UA      1714   N24211  LGA    IAH  227      1416     5    29    \n",
       "3  33       AA      1141   N619AA  JFK    MIA  160      1089     5    40    \n",
       "4 -18       B6       725   N804JB  JFK    BQN  183      1576     5    45    \n",
       "5 -25       DL       461   N668DN  LGA    ATL  116       762     6     0    \n",
       "6  12       UA      1696   N39463  EWR    ORD  150       719     5    58    \n",
       "  time_hour          \n",
       "1 2013-01-01 05:00:00\n",
       "2 2013-01-01 05:00:00\n",
       "3 2013-01-01 05:00:00\n",
       "4 2013-01-01 05:00:00\n",
       "5 2013-01-01 06:00:00\n",
       "6 2013-01-01 05:00:00"
      ]
     },
     "metadata": {},
     "output_type": "display_data"
    }
   ],
   "source": [
    "popular_dests %>% head()"
   ]
  },
  {
   "cell_type": "markdown",
   "metadata": {
    "hidden": true
   },
   "source": [
    "A grouped filter is a grouped mutate followed by an ungrouped filter. I generally avoid them except for quick and dirty manipulations: otherwise it’s hard to check that you’ve done the manipulation correctly.\n",
    "\n",
    "Functions that work most naturally in grouped mutates and filters are known as window functions (vs. the summary functions used for summaries). You can learn more about useful window functions in the corresponding vignette: `vignette(\"window-functions\")`."
   ]
  },
  {
   "cell_type": "code",
   "execution_count": 55,
   "metadata": {
    "ExecuteTime": {
     "end_time": "2020-01-28T19:20:28.929435Z",
     "start_time": "2020-01-28T19:20:26.544Z"
    },
    "hidden": true
   },
   "outputs": [
    {
     "name": "stderr",
     "output_type": "stream",
     "text": [
      "starting httpd help server ...\n",
      " done\n",
      "\n"
     ]
    }
   ],
   "source": [
    "vignette(\"window-functions\")"
   ]
  },
  {
   "cell_type": "code",
   "execution_count": 57,
   "metadata": {
    "ExecuteTime": {
     "end_time": "2020-01-28T21:21:08.077243Z",
     "start_time": "2020-01-28T21:21:07.998Z"
    },
    "hidden": true
   },
   "outputs": [
    {
     "data": {
      "text/html": [
       "<table>\n",
       "<caption>A tibble: 3 × 2</caption>\n",
       "<thead>\n",
       "\t<tr><th scope=col>cyl</th><th scope=col>avg</th></tr>\n",
       "\t<tr><th scope=col>&lt;dbl&gt;</th><th scope=col>&lt;dbl&gt;</th></tr>\n",
       "</thead>\n",
       "<tbody>\n",
       "\t<tr><td>4</td><td>26.66364</td></tr>\n",
       "\t<tr><td>6</td><td>19.74286</td></tr>\n",
       "\t<tr><td>8</td><td>15.10000</td></tr>\n",
       "</tbody>\n",
       "</table>\n"
      ],
      "text/latex": [
       "A tibble: 3 × 2\n",
       "\\begin{tabular}{r|ll}\n",
       " cyl & avg\\\\\n",
       " <dbl> & <dbl>\\\\\n",
       "\\hline\n",
       "\t 4 & 26.66364\\\\\n",
       "\t 6 & 19.74286\\\\\n",
       "\t 8 & 15.10000\\\\\n",
       "\\end{tabular}\n"
      ],
      "text/markdown": [
       "\n",
       "A tibble: 3 × 2\n",
       "\n",
       "| cyl &lt;dbl&gt; | avg &lt;dbl&gt; |\n",
       "|---|---|\n",
       "| 4 | 26.66364 |\n",
       "| 6 | 19.74286 |\n",
       "| 8 | 15.10000 |\n",
       "\n"
      ],
      "text/plain": [
       "  cyl avg     \n",
       "1 4   26.66364\n",
       "2 6   19.74286\n",
       "3 8   15.10000"
      ]
     },
     "metadata": {},
     "output_type": "display_data"
    }
   ],
   "source": [
    "mtcars %>% \n",
    "    group_by(cyl) %>% \n",
    "    summarise(avg = mean(mpg))"
   ]
  },
  {
   "cell_type": "code",
   "execution_count": null,
   "metadata": {
    "hidden": true
   },
   "outputs": [],
   "source": [
    "drop_na(flights)\n"
   ]
  },
  {
   "cell_type": "code",
   "execution_count": 58,
   "metadata": {
    "ExecuteTime": {
     "end_time": "2020-01-28T21:32:29.345192Z",
     "start_time": "2020-01-28T21:32:19.631Z"
    },
    "collapsed": true,
    "hidden": true,
    "jupyter": {
     "outputs_hidden": true
    }
   },
   "outputs": [
    {
     "name": "stdout",
     "output_type": "stream",
     "text": [
      "Observations: 9,430\n",
      "Variables: 19\n",
      "$ year           \u001b[3m\u001b[90m<int>\u001b[39m\u001b[23m 2013, 2013, 2013, 2013, 2013, 2013, 2013, 2013, 2013...\n",
      "$ month          \u001b[3m\u001b[90m<int>\u001b[39m\u001b[23m 1, 1, 1, 1, 1, 1, 1, 1, 1, 1, 1, 1, 1, 1, 1, 1, 1, 1...\n",
      "$ day            \u001b[3m\u001b[90m<int>\u001b[39m\u001b[23m 1, 1, 1, 1, 1, 1, 1, 1, 1, 1, 1, 2, 2, 2, 2, 2, 2, 2...\n",
      "$ dep_time       \u001b[3m\u001b[90m<int>\u001b[39m\u001b[23m 1525, 1528, 1740, 1807, 1939, 1952, 2016, NA, NA, NA...\n",
      "$ sched_dep_time \u001b[3m\u001b[90m<int>\u001b[39m\u001b[23m 1530, 1459, 1745, 1738, 1840, 1930, 1930, 1630, 1935...\n",
      "$ dep_delay      \u001b[3m\u001b[90m<dbl>\u001b[39m\u001b[23m -5, 29, -5, 29, 59, 22, 46, NA, NA, NA, NA, 43, 120,...\n",
      "$ arr_time       \u001b[3m\u001b[90m<int>\u001b[39m\u001b[23m 1934, 2002, 2158, 2251, 29, 2358, NA, NA, NA, NA, NA...\n",
      "$ sched_arr_time \u001b[3m\u001b[90m<int>\u001b[39m\u001b[23m 1805, 1647, 2020, 2103, 2151, 2207, 2220, 1815, 2240...\n",
      "$ arr_delay      \u001b[3m\u001b[90m<dbl>\u001b[39m\u001b[23m NA, NA, NA, NA, NA, NA, NA, NA, NA, NA, NA, NA, NA, ...\n",
      "$ carrier        \u001b[3m\u001b[90m<chr>\u001b[39m\u001b[23m \"MQ\", \"EV\", \"MQ\", \"UA\", \"9E\", \"EV\", \"EV\", \"EV\", \"AA\"...\n",
      "$ flight         \u001b[3m\u001b[90m<int>\u001b[39m\u001b[23m 4525, 3806, 4413, 1228, 3325, 4333, 4204, 4308, 791,...\n",
      "$ tailnum        \u001b[3m\u001b[90m<chr>\u001b[39m\u001b[23m \"N719MQ\", \"N17108\", \"N739MQ\", \"N31412\", \"N905XJ\", \"N...\n",
      "$ origin         \u001b[3m\u001b[90m<chr>\u001b[39m\u001b[23m \"LGA\", \"EWR\", \"LGA\", \"EWR\", \"JFK\", \"EWR\", \"EWR\", \"EW...\n",
      "$ dest           \u001b[3m\u001b[90m<chr>\u001b[39m\u001b[23m \"XNA\", \"STL\", \"XNA\", \"SAN\", \"DFW\", \"TUL\", \"OKC\", \"RD...\n",
      "$ air_time       \u001b[3m\u001b[90m<dbl>\u001b[39m\u001b[23m NA, NA, NA, NA, NA, NA, NA, NA, NA, NA, NA, NA, NA, ...\n",
      "$ distance       \u001b[3m\u001b[90m<dbl>\u001b[39m\u001b[23m 1147, 872, 1147, 2425, 1391, 1215, 1325, 416, 1389, ...\n",
      "$ hour           \u001b[3m\u001b[90m<dbl>\u001b[39m\u001b[23m 15, 14, 17, 17, 18, 19, 19, 16, 19, 15, 6, 8, 9, 18,...\n",
      "$ minute         \u001b[3m\u001b[90m<dbl>\u001b[39m\u001b[23m 30, 59, 45, 38, 40, 30, 30, 30, 35, 0, 0, 22, 25, 40...\n",
      "$ time_hour      \u001b[3m\u001b[90m<dttm>\u001b[39m\u001b[23m 2013-01-01 15:00:00, 2013-01-01 14:00:00, 2013-01-0...\n"
     ]
    }
   ],
   "source": [
    "rows_with_NA <- flights %>%\n",
    "    apply(1, function(r) any(r %in% c(NA))) %>%\n",
    "    which()\n",
    "\n",
    "flights[rows_with_NA,] %>% glimpse()\n",
    "# drop_na()"
   ]
  },
  {
   "cell_type": "markdown",
   "metadata": {
    "hidden": true
   },
   "source": [
    "### <b><font color = 'purple'>Window Functions </font></b>"
   ]
  },
  {
   "cell_type": "markdown",
   "metadata": {
    "hidden": true
   },
   "source": [
    "* <b>Aggregation function</b>: n inputs -> 1 output\n",
    "* <b>Window function:</b> n inputs -> n outputs\n",
    "    <br>—excludes functions that could operate row by row\n",
    "\n",
    "<font color = 'purple'><b>Types of window functions</b> </font>:\n",
    " (see mutate and filtering functions above)\n",
    "* ranking and ordering\n",
    "* offsets: lead & lag\n",
    "* cumulative aggregates"
   ]
  },
  {
   "cell_type": "markdown",
   "metadata": {
    "heading_collapsed": true,
    "hidden": true
   },
   "source": [
    "### Exercises"
   ]
  },
  {
   "cell_type": "markdown",
   "metadata": {
    "heading_collapsed": true,
    "hidden": true
   },
   "source": [
    "##### 1. Refer back to the lists of useful mutate and filtering functions. Describe how each operation changes when you combine it with grouping."
   ]
  },
  {
   "cell_type": "markdown",
   "metadata": {
    "hidden": true
   },
   "source": [
    "Summary functions (`mean()`), offset functions (`lead()`, `lag()`), ranking functions (`min_rank()`, `row_number()`), <font color = 'blue'>operate within each group when used with `group_by()` in\n",
    "`mutate()` or `filter()`</font>.\n",
    "\n",
    "Arithmetic operators (`+`, `-`), logical operators (`<`, `==`), modular arithmetic operators (`%%`, `%/%`), logarithmic functions (`log`) <font color = 'blue'>are not affected by `group_by`</font>.\n",
    "\n",
    "Summary functions like `mean()`, `median()`, `sum()`, `std()` and others covered\n",
    "in the section [Useful Summary Functions](https://r4ds.had.co.nz/transform.html#summarise-funs)\n",
    "<font color = 'blue'>calculate their values within each group</font> when used with `mutate()` or `filter()` and `group_by()`."
   ]
  },
  {
   "cell_type": "code",
   "execution_count": 89,
   "metadata": {
    "ExecuteTime": {
     "end_time": "2020-01-29T02:10:04.347887Z",
     "start_time": "2020-01-29T02:10:04.282Z"
    },
    "cell_style": "center",
    "collapsed": true,
    "hidden": true,
    "jupyter": {
     "outputs_hidden": true
    }
   },
   "outputs": [
    {
     "data": {
      "text/html": [
       "<table>\n",
       "<caption>A tibble: 9 × 2</caption>\n",
       "<thead>\n",
       "\t<tr><th scope=col>x</th><th scope=col>group</th></tr>\n",
       "\t<tr><th scope=col>&lt;int&gt;</th><th scope=col>&lt;chr&gt;</th></tr>\n",
       "</thead>\n",
       "<tbody>\n",
       "\t<tr><td>1</td><td>a</td></tr>\n",
       "\t<tr><td>2</td><td>a</td></tr>\n",
       "\t<tr><td>3</td><td>a</td></tr>\n",
       "\t<tr><td>4</td><td>b</td></tr>\n",
       "\t<tr><td>5</td><td>b</td></tr>\n",
       "\t<tr><td>6</td><td>b</td></tr>\n",
       "\t<tr><td>7</td><td>c</td></tr>\n",
       "\t<tr><td>8</td><td>c</td></tr>\n",
       "\t<tr><td>9</td><td>c</td></tr>\n",
       "</tbody>\n",
       "</table>\n"
      ],
      "text/latex": [
       "A tibble: 9 × 2\n",
       "\\begin{tabular}{r|ll}\n",
       " x & group\\\\\n",
       " <int> & <chr>\\\\\n",
       "\\hline\n",
       "\t 1 & a\\\\\n",
       "\t 2 & a\\\\\n",
       "\t 3 & a\\\\\n",
       "\t 4 & b\\\\\n",
       "\t 5 & b\\\\\n",
       "\t 6 & b\\\\\n",
       "\t 7 & c\\\\\n",
       "\t 8 & c\\\\\n",
       "\t 9 & c\\\\\n",
       "\\end{tabular}\n"
      ],
      "text/markdown": [
       "\n",
       "A tibble: 9 × 2\n",
       "\n",
       "| x &lt;int&gt; | group &lt;chr&gt; |\n",
       "|---|---|\n",
       "| 1 | a |\n",
       "| 2 | a |\n",
       "| 3 | a |\n",
       "| 4 | b |\n",
       "| 5 | b |\n",
       "| 6 | b |\n",
       "| 7 | c |\n",
       "| 8 | c |\n",
       "| 9 | c |\n",
       "\n"
      ],
      "text/plain": [
       "  x group\n",
       "1 1 a    \n",
       "2 2 a    \n",
       "3 3 a    \n",
       "4 4 b    \n",
       "5 5 b    \n",
       "6 6 b    \n",
       "7 7 c    \n",
       "8 8 c    \n",
       "9 9 c    "
      ]
     },
     "metadata": {},
     "output_type": "display_data"
    }
   ],
   "source": [
    "D <- tibble(\n",
    "  x = 1:9,\n",
    "  group = rep(c(\"a\", \"b\", \"c\"), each = 3)\n",
    ")\n",
    "\n",
    "D"
   ]
  },
  {
   "cell_type": "code",
   "execution_count": 94,
   "metadata": {
    "ExecuteTime": {
     "end_time": "2020-01-29T02:15:18.062253Z",
     "start_time": "2020-01-29T02:15:17.993Z"
    },
    "cell_style": "center",
    "collapsed": true,
    "hidden": true,
    "jupyter": {
     "outputs_hidden": true
    }
   },
   "outputs": [
    {
     "data": {
      "text/html": [
       "<table>\n",
       "<caption>A grouped_df: 9 × 4</caption>\n",
       "<thead>\n",
       "\t<tr><th scope=col>x</th><th scope=col>group</th><th scope=col>x_mean</th><th scope=col>x_mean_2</th></tr>\n",
       "\t<tr><th scope=col>&lt;int&gt;</th><th scope=col>&lt;chr&gt;</th><th scope=col>&lt;dbl&gt;</th><th scope=col>&lt;dbl&gt;</th></tr>\n",
       "</thead>\n",
       "<tbody>\n",
       "\t<tr><td>1</td><td>a</td><td>5</td><td>2</td></tr>\n",
       "\t<tr><td>2</td><td>a</td><td>5</td><td>2</td></tr>\n",
       "\t<tr><td>3</td><td>a</td><td>5</td><td>2</td></tr>\n",
       "\t<tr><td>4</td><td>b</td><td>5</td><td>5</td></tr>\n",
       "\t<tr><td>5</td><td>b</td><td>5</td><td>5</td></tr>\n",
       "\t<tr><td>6</td><td>b</td><td>5</td><td>5</td></tr>\n",
       "\t<tr><td>7</td><td>c</td><td>5</td><td>8</td></tr>\n",
       "\t<tr><td>8</td><td>c</td><td>5</td><td>8</td></tr>\n",
       "\t<tr><td>9</td><td>c</td><td>5</td><td>8</td></tr>\n",
       "</tbody>\n",
       "</table>\n"
      ],
      "text/latex": [
       "A grouped_df: 9 × 4\n",
       "\\begin{tabular}{r|llll}\n",
       " x & group & x\\_mean & x\\_mean\\_2\\\\\n",
       " <int> & <chr> & <dbl> & <dbl>\\\\\n",
       "\\hline\n",
       "\t 1 & a & 5 & 2\\\\\n",
       "\t 2 & a & 5 & 2\\\\\n",
       "\t 3 & a & 5 & 2\\\\\n",
       "\t 4 & b & 5 & 5\\\\\n",
       "\t 5 & b & 5 & 5\\\\\n",
       "\t 6 & b & 5 & 5\\\\\n",
       "\t 7 & c & 5 & 8\\\\\n",
       "\t 8 & c & 5 & 8\\\\\n",
       "\t 9 & c & 5 & 8\\\\\n",
       "\\end{tabular}\n"
      ],
      "text/markdown": [
       "\n",
       "A grouped_df: 9 × 4\n",
       "\n",
       "| x &lt;int&gt; | group &lt;chr&gt; | x_mean &lt;dbl&gt; | x_mean_2 &lt;dbl&gt; |\n",
       "|---|---|---|---|\n",
       "| 1 | a | 5 | 2 |\n",
       "| 2 | a | 5 | 2 |\n",
       "| 3 | a | 5 | 2 |\n",
       "| 4 | b | 5 | 5 |\n",
       "| 5 | b | 5 | 5 |\n",
       "| 6 | b | 5 | 5 |\n",
       "| 7 | c | 5 | 8 |\n",
       "| 8 | c | 5 | 8 |\n",
       "| 9 | c | 5 | 8 |\n",
       "\n"
      ],
      "text/plain": [
       "  x group x_mean x_mean_2\n",
       "1 1 a     5      2       \n",
       "2 2 a     5      2       \n",
       "3 3 a     5      2       \n",
       "4 4 b     5      5       \n",
       "5 5 b     5      5       \n",
       "6 6 b     5      5       \n",
       "7 7 c     5      8       \n",
       "8 8 c     5      8       \n",
       "9 9 c     5      8       "
      ]
     },
     "metadata": {},
     "output_type": "display_data"
    }
   ],
   "source": [
    "D %>%\n",
    "  mutate(x_mean = mean(x)) %>%\n",
    "  group_by(group) %>%\n",
    "  mutate(x_mean_2 = mean(x))"
   ]
  },
  {
   "cell_type": "markdown",
   "metadata": {
    "hidden": true
   },
   "source": [
    "Arithmetic operators `+`, `-`, `*`, `/`, `^` are <font color = 'blue'><b>not affected</b></font> by `group_by()`.\n",
    "\n"
   ]
  },
  {
   "cell_type": "code",
   "execution_count": 92,
   "metadata": {
    "ExecuteTime": {
     "end_time": "2020-01-29T02:12:30.425317Z",
     "start_time": "2020-01-29T02:12:30.178Z"
    },
    "collapsed": true,
    "hidden": true,
    "jupyter": {
     "outputs_hidden": true
    }
   },
   "outputs": [
    {
     "data": {
      "text/html": [
       "<table>\n",
       "<caption>A grouped_df: 9 × 4</caption>\n",
       "<thead>\n",
       "\t<tr><th scope=col>x</th><th scope=col>group</th><th scope=col>y</th><th scope=col>z</th></tr>\n",
       "\t<tr><th scope=col>&lt;int&gt;</th><th scope=col>&lt;chr&gt;</th><th scope=col>&lt;dbl&gt;</th><th scope=col>&lt;dbl&gt;</th></tr>\n",
       "</thead>\n",
       "<tbody>\n",
       "\t<tr><td>1</td><td>a</td><td> 3</td><td> 3</td></tr>\n",
       "\t<tr><td>2</td><td>a</td><td> 4</td><td> 4</td></tr>\n",
       "\t<tr><td>3</td><td>a</td><td> 5</td><td> 5</td></tr>\n",
       "\t<tr><td>4</td><td>b</td><td> 6</td><td> 6</td></tr>\n",
       "\t<tr><td>5</td><td>b</td><td> 7</td><td> 7</td></tr>\n",
       "\t<tr><td>6</td><td>b</td><td> 8</td><td> 8</td></tr>\n",
       "\t<tr><td>7</td><td>c</td><td> 9</td><td> 9</td></tr>\n",
       "\t<tr><td>8</td><td>c</td><td>10</td><td>10</td></tr>\n",
       "\t<tr><td>9</td><td>c</td><td>11</td><td>11</td></tr>\n",
       "</tbody>\n",
       "</table>\n"
      ],
      "text/latex": [
       "A grouped_df: 9 × 4\n",
       "\\begin{tabular}{r|llll}\n",
       " x & group & y & z\\\\\n",
       " <int> & <chr> & <dbl> & <dbl>\\\\\n",
       "\\hline\n",
       "\t 1 & a &  3 &  3\\\\\n",
       "\t 2 & a &  4 &  4\\\\\n",
       "\t 3 & a &  5 &  5\\\\\n",
       "\t 4 & b &  6 &  6\\\\\n",
       "\t 5 & b &  7 &  7\\\\\n",
       "\t 6 & b &  8 &  8\\\\\n",
       "\t 7 & c &  9 &  9\\\\\n",
       "\t 8 & c & 10 & 10\\\\\n",
       "\t 9 & c & 11 & 11\\\\\n",
       "\\end{tabular}\n"
      ],
      "text/markdown": [
       "\n",
       "A grouped_df: 9 × 4\n",
       "\n",
       "| x &lt;int&gt; | group &lt;chr&gt; | y &lt;dbl&gt; | z &lt;dbl&gt; |\n",
       "|---|---|---|---|\n",
       "| 1 | a |  3 |  3 |\n",
       "| 2 | a |  4 |  4 |\n",
       "| 3 | a |  5 |  5 |\n",
       "| 4 | b |  6 |  6 |\n",
       "| 5 | b |  7 |  7 |\n",
       "| 6 | b |  8 |  8 |\n",
       "| 7 | c |  9 |  9 |\n",
       "| 8 | c | 10 | 10 |\n",
       "| 9 | c | 11 | 11 |\n",
       "\n"
      ],
      "text/plain": [
       "  x group y  z \n",
       "1 1 a      3  3\n",
       "2 2 a      4  4\n",
       "3 3 a      5  5\n",
       "4 4 b      6  6\n",
       "5 5 b      7  7\n",
       "6 6 b      8  8\n",
       "7 7 c      9  9\n",
       "8 8 c     10 10\n",
       "9 9 c     11 11"
      ]
     },
     "metadata": {},
     "output_type": "display_data"
    }
   ],
   "source": [
    "tibble(\n",
    "  x = 1:9,\n",
    "  group = rep(c(\"a\", \"b\", \"c\"), each = 3)\n",
    ") %>%\n",
    "  mutate(y = x + 2) %>%\n",
    "  group_by(group) %>%\n",
    "  mutate(z = x + 2)"
   ]
  },
  {
   "cell_type": "markdown",
   "metadata": {
    "hidden": true
   },
   "source": [
    "The modular arithmetic operators `%/%` and `%%` are <font color = 'blue'><b>not affected</b></font> by `group_by()`"
   ]
  },
  {
   "cell_type": "code",
   "execution_count": 93,
   "metadata": {
    "ExecuteTime": {
     "end_time": "2020-01-29T02:13:47.779779Z",
     "start_time": "2020-01-29T02:13:47.718Z"
    },
    "collapsed": true,
    "hidden": true,
    "jupyter": {
     "outputs_hidden": true
    }
   },
   "outputs": [
    {
     "data": {
      "text/html": [
       "<table>\n",
       "<caption>A grouped_df: 9 × 4</caption>\n",
       "<thead>\n",
       "\t<tr><th scope=col>x</th><th scope=col>group</th><th scope=col>y</th><th scope=col>z</th></tr>\n",
       "\t<tr><th scope=col>&lt;int&gt;</th><th scope=col>&lt;chr&gt;</th><th scope=col>&lt;dbl&gt;</th><th scope=col>&lt;dbl&gt;</th></tr>\n",
       "</thead>\n",
       "<tbody>\n",
       "\t<tr><td>1</td><td>a</td><td>1</td><td>1</td></tr>\n",
       "\t<tr><td>2</td><td>a</td><td>0</td><td>0</td></tr>\n",
       "\t<tr><td>3</td><td>a</td><td>1</td><td>1</td></tr>\n",
       "\t<tr><td>4</td><td>b</td><td>0</td><td>0</td></tr>\n",
       "\t<tr><td>5</td><td>b</td><td>1</td><td>1</td></tr>\n",
       "\t<tr><td>6</td><td>b</td><td>0</td><td>0</td></tr>\n",
       "\t<tr><td>7</td><td>c</td><td>1</td><td>1</td></tr>\n",
       "\t<tr><td>8</td><td>c</td><td>0</td><td>0</td></tr>\n",
       "\t<tr><td>9</td><td>c</td><td>1</td><td>1</td></tr>\n",
       "</tbody>\n",
       "</table>\n"
      ],
      "text/latex": [
       "A grouped_df: 9 × 4\n",
       "\\begin{tabular}{r|llll}\n",
       " x & group & y & z\\\\\n",
       " <int> & <chr> & <dbl> & <dbl>\\\\\n",
       "\\hline\n",
       "\t 1 & a & 1 & 1\\\\\n",
       "\t 2 & a & 0 & 0\\\\\n",
       "\t 3 & a & 1 & 1\\\\\n",
       "\t 4 & b & 0 & 0\\\\\n",
       "\t 5 & b & 1 & 1\\\\\n",
       "\t 6 & b & 0 & 0\\\\\n",
       "\t 7 & c & 1 & 1\\\\\n",
       "\t 8 & c & 0 & 0\\\\\n",
       "\t 9 & c & 1 & 1\\\\\n",
       "\\end{tabular}\n"
      ],
      "text/markdown": [
       "\n",
       "A grouped_df: 9 × 4\n",
       "\n",
       "| x &lt;int&gt; | group &lt;chr&gt; | y &lt;dbl&gt; | z &lt;dbl&gt; |\n",
       "|---|---|---|---|\n",
       "| 1 | a | 1 | 1 |\n",
       "| 2 | a | 0 | 0 |\n",
       "| 3 | a | 1 | 1 |\n",
       "| 4 | b | 0 | 0 |\n",
       "| 5 | b | 1 | 1 |\n",
       "| 6 | b | 0 | 0 |\n",
       "| 7 | c | 1 | 1 |\n",
       "| 8 | c | 0 | 0 |\n",
       "| 9 | c | 1 | 1 |\n",
       "\n"
      ],
      "text/plain": [
       "  x group y z\n",
       "1 1 a     1 1\n",
       "2 2 a     0 0\n",
       "3 3 a     1 1\n",
       "4 4 b     0 0\n",
       "5 5 b     1 1\n",
       "6 6 b     0 0\n",
       "7 7 c     1 1\n",
       "8 8 c     0 0\n",
       "9 9 c     1 1"
      ]
     },
     "metadata": {},
     "output_type": "display_data"
    }
   ],
   "source": [
    "tibble(\n",
    "  x = 1:9,\n",
    "  group = rep(c(\"a\", \"b\", \"c\"), each = 3)\n",
    ") %>%\n",
    "  mutate(y = x %% 2) %>%\n",
    "  group_by(group) %>%\n",
    "  mutate(z = x %% 2)"
   ]
  },
  {
   "cell_type": "markdown",
   "metadata": {
    "hidden": true
   },
   "source": [
    "The logarithmic functions `log()`, `log2()`, and `log10()` are <font color = 'blue'><b>not affected</b></font> by\n",
    "`group_by()`."
   ]
  },
  {
   "cell_type": "code",
   "execution_count": 95,
   "metadata": {
    "ExecuteTime": {
     "end_time": "2020-01-29T02:18:33.459195Z",
     "start_time": "2020-01-29T02:18:33.390Z"
    },
    "collapsed": true,
    "hidden": true,
    "jupyter": {
     "outputs_hidden": true
    }
   },
   "outputs": [
    {
     "data": {
      "text/html": [
       "<table>\n",
       "<caption>A grouped_df: 9 × 4</caption>\n",
       "<thead>\n",
       "\t<tr><th scope=col>x</th><th scope=col>group</th><th scope=col>y</th><th scope=col>z</th></tr>\n",
       "\t<tr><th scope=col>&lt;int&gt;</th><th scope=col>&lt;chr&gt;</th><th scope=col>&lt;dbl&gt;</th><th scope=col>&lt;dbl&gt;</th></tr>\n",
       "</thead>\n",
       "<tbody>\n",
       "\t<tr><td>1</td><td>a</td><td>0.0000000</td><td>0.0000000</td></tr>\n",
       "\t<tr><td>2</td><td>a</td><td>0.6931472</td><td>0.6931472</td></tr>\n",
       "\t<tr><td>3</td><td>a</td><td>1.0986123</td><td>1.0986123</td></tr>\n",
       "\t<tr><td>4</td><td>b</td><td>1.3862944</td><td>1.3862944</td></tr>\n",
       "\t<tr><td>5</td><td>b</td><td>1.6094379</td><td>1.6094379</td></tr>\n",
       "\t<tr><td>6</td><td>b</td><td>1.7917595</td><td>1.7917595</td></tr>\n",
       "\t<tr><td>7</td><td>c</td><td>1.9459101</td><td>1.9459101</td></tr>\n",
       "\t<tr><td>8</td><td>c</td><td>2.0794415</td><td>2.0794415</td></tr>\n",
       "\t<tr><td>9</td><td>c</td><td>2.1972246</td><td>2.1972246</td></tr>\n",
       "</tbody>\n",
       "</table>\n"
      ],
      "text/latex": [
       "A grouped_df: 9 × 4\n",
       "\\begin{tabular}{r|llll}\n",
       " x & group & y & z\\\\\n",
       " <int> & <chr> & <dbl> & <dbl>\\\\\n",
       "\\hline\n",
       "\t 1 & a & 0.0000000 & 0.0000000\\\\\n",
       "\t 2 & a & 0.6931472 & 0.6931472\\\\\n",
       "\t 3 & a & 1.0986123 & 1.0986123\\\\\n",
       "\t 4 & b & 1.3862944 & 1.3862944\\\\\n",
       "\t 5 & b & 1.6094379 & 1.6094379\\\\\n",
       "\t 6 & b & 1.7917595 & 1.7917595\\\\\n",
       "\t 7 & c & 1.9459101 & 1.9459101\\\\\n",
       "\t 8 & c & 2.0794415 & 2.0794415\\\\\n",
       "\t 9 & c & 2.1972246 & 2.1972246\\\\\n",
       "\\end{tabular}\n"
      ],
      "text/markdown": [
       "\n",
       "A grouped_df: 9 × 4\n",
       "\n",
       "| x &lt;int&gt; | group &lt;chr&gt; | y &lt;dbl&gt; | z &lt;dbl&gt; |\n",
       "|---|---|---|---|\n",
       "| 1 | a | 0.0000000 | 0.0000000 |\n",
       "| 2 | a | 0.6931472 | 0.6931472 |\n",
       "| 3 | a | 1.0986123 | 1.0986123 |\n",
       "| 4 | b | 1.3862944 | 1.3862944 |\n",
       "| 5 | b | 1.6094379 | 1.6094379 |\n",
       "| 6 | b | 1.7917595 | 1.7917595 |\n",
       "| 7 | c | 1.9459101 | 1.9459101 |\n",
       "| 8 | c | 2.0794415 | 2.0794415 |\n",
       "| 9 | c | 2.1972246 | 2.1972246 |\n",
       "\n"
      ],
      "text/plain": [
       "  x group y         z        \n",
       "1 1 a     0.0000000 0.0000000\n",
       "2 2 a     0.6931472 0.6931472\n",
       "3 3 a     1.0986123 1.0986123\n",
       "4 4 b     1.3862944 1.3862944\n",
       "5 5 b     1.6094379 1.6094379\n",
       "6 6 b     1.7917595 1.7917595\n",
       "7 7 c     1.9459101 1.9459101\n",
       "8 8 c     2.0794415 2.0794415\n",
       "9 9 c     2.1972246 2.1972246"
      ]
     },
     "metadata": {},
     "output_type": "display_data"
    }
   ],
   "source": [
    "tibble(\n",
    "  x = 1:9,\n",
    "  group = rep(c(\"a\", \"b\", \"c\"), each = 3)\n",
    ") %>%\n",
    "  mutate(y = log(x)) %>%\n",
    "  group_by(group) %>%\n",
    "  mutate(z = log(x))"
   ]
  },
  {
   "cell_type": "markdown",
   "metadata": {
    "heading_collapsed": true,
    "hidden": true
   },
   "source": [
    "##### Which plane (tailnum) has the worst on-time record?"
   ]
  },
  {
   "cell_type": "code",
   "execution_count": 19,
   "metadata": {
    "ExecuteTime": {
     "end_time": "2020-01-31T02:17:17.234846Z",
     "start_time": "2020-01-31T02:17:16.841Z"
    },
    "hidden": true
   },
   "outputs": [
    {
     "data": {
      "text/html": [
       "<table>\n",
       "<caption>A tibble: 6 × 2</caption>\n",
       "<thead>\n",
       "\t<tr><th scope=col>arr_delay</th><th scope=col>tailnum</th></tr>\n",
       "\t<tr><th scope=col>&lt;dbl&gt;</th><th scope=col>&lt;chr&gt;</th></tr>\n",
       "</thead>\n",
       "<tbody>\n",
       "\t<tr><td>1272</td><td>N384HA</td></tr>\n",
       "\t<tr><td>1127</td><td>N504MQ</td></tr>\n",
       "\t<tr><td>1109</td><td>N517MQ</td></tr>\n",
       "\t<tr><td>1007</td><td>N338AA</td></tr>\n",
       "\t<tr><td> 989</td><td>N665MQ</td></tr>\n",
       "\t<tr><td> 931</td><td>N959DL</td></tr>\n",
       "</tbody>\n",
       "</table>\n"
      ],
      "text/latex": [
       "A tibble: 6 × 2\n",
       "\\begin{tabular}{r|ll}\n",
       " arr\\_delay & tailnum\\\\\n",
       " <dbl> & <chr>\\\\\n",
       "\\hline\n",
       "\t 1272 & N384HA\\\\\n",
       "\t 1127 & N504MQ\\\\\n",
       "\t 1109 & N517MQ\\\\\n",
       "\t 1007 & N338AA\\\\\n",
       "\t  989 & N665MQ\\\\\n",
       "\t  931 & N959DL\\\\\n",
       "\\end{tabular}\n"
      ],
      "text/markdown": [
       "\n",
       "A tibble: 6 × 2\n",
       "\n",
       "| arr_delay &lt;dbl&gt; | tailnum &lt;chr&gt; |\n",
       "|---|---|\n",
       "| 1272 | N384HA |\n",
       "| 1127 | N504MQ |\n",
       "| 1109 | N517MQ |\n",
       "| 1007 | N338AA |\n",
       "|  989 | N665MQ |\n",
       "|  931 | N959DL |\n",
       "\n"
      ],
      "text/plain": [
       "  arr_delay tailnum\n",
       "1 1272      N384HA \n",
       "2 1127      N504MQ \n",
       "3 1109      N517MQ \n",
       "4 1007      N338AA \n",
       "5  989      N665MQ \n",
       "6  931      N959DL "
      ]
     },
     "metadata": {},
     "output_type": "display_data"
    }
   ],
   "source": [
    "flights %>% \n",
    "  arrange(desc(arr_delay)) %>%\n",
    "  select(arr_delay, tailnum) %>% \n",
    "  head()"
   ]
  },
  {
   "cell_type": "code",
   "execution_count": 26,
   "metadata": {
    "ExecuteTime": {
     "end_time": "2020-01-31T02:24:27.835696Z",
     "start_time": "2020-01-31T02:24:27.507Z"
    },
    "collapsed": true,
    "hidden": true
   },
   "outputs": [
    {
     "data": {
      "text/html": [
       "<table>\n",
       "<caption>A tibble: 4037 × 2</caption>\n",
       "<thead>\n",
       "\t<tr><th scope=col>tailnum</th><th scope=col>mean_dep_delay</th></tr>\n",
       "\t<tr><th scope=col>&lt;chr&gt;</th><th scope=col>&lt;dbl&gt;</th></tr>\n",
       "</thead>\n",
       "<tbody>\n",
       "\t<tr><td>N844MH</td><td>297.00000</td></tr>\n",
       "\t<tr><td>N922EV</td><td>274.00000</td></tr>\n",
       "\t<tr><td>N587NW</td><td>272.00000</td></tr>\n",
       "\t<tr><td>N911DA</td><td>268.00000</td></tr>\n",
       "\t<tr><td>N851NW</td><td>233.00000</td></tr>\n",
       "\t<tr><td>N654UA</td><td>227.00000</td></tr>\n",
       "\t<tr><td>N928DN</td><td>203.00000</td></tr>\n",
       "\t<tr><td>N7715E</td><td>186.00000</td></tr>\n",
       "\t<tr><td>N665MQ</td><td>177.00000</td></tr>\n",
       "\t<tr><td>N136DL</td><td>165.00000</td></tr>\n",
       "\t<tr><td>N633AW</td><td>164.00000</td></tr>\n",
       "\t<tr><td>N790SK</td><td>154.00000</td></tr>\n",
       "\t<tr><td>N670US</td><td>132.00000</td></tr>\n",
       "\t<tr><td>N427SW</td><td>131.00000</td></tr>\n",
       "\t<tr><td>N305AS</td><td>112.50000</td></tr>\n",
       "\t<tr><td>N78003</td><td>111.00000</td></tr>\n",
       "\t<tr><td>N7ASAA</td><td>104.00000</td></tr>\n",
       "\t<tr><td>N828AW</td><td> 97.00000</td></tr>\n",
       "\t<tr><td>N657UA</td><td> 91.00000</td></tr>\n",
       "\t<tr><td>N937DN</td><td> 90.00000</td></tr>\n",
       "\t<tr><td>N521SW</td><td> 85.00000</td></tr>\n",
       "\t<tr><td>N762SK</td><td> 85.00000</td></tr>\n",
       "\t<tr><td>N276AT</td><td> 84.83333</td></tr>\n",
       "\t<tr><td>N303AS</td><td> 83.00000</td></tr>\n",
       "\t<tr><td>N309AS</td><td> 81.50000</td></tr>\n",
       "\t<tr><td>N586AS</td><td> 81.50000</td></tr>\n",
       "\t<tr><td>N652SW</td><td> 79.50000</td></tr>\n",
       "\t<tr><td>N919FJ</td><td> 78.00000</td></tr>\n",
       "\t<tr><td>N162PQ</td><td> 77.00000</td></tr>\n",
       "\t<tr><td>N7AEAA</td><td> 74.00000</td></tr>\n",
       "\t<tr><td>...</td><td>...</td></tr>\n",
       "\t<tr><td>N943DN</td><td> -7.000000</td></tr>\n",
       "\t<tr><td>N945DN</td><td> -7.000000</td></tr>\n",
       "\t<tr><td>N593AS</td><td> -7.500000</td></tr>\n",
       "\t<tr><td>N523AS</td><td> -7.857143</td></tr>\n",
       "\t<tr><td>N517AS</td><td> -8.000000</td></tr>\n",
       "\t<tr><td>N557AS</td><td> -8.000000</td></tr>\n",
       "\t<tr><td>N560AS</td><td> -8.000000</td></tr>\n",
       "\t<tr><td>N627AW</td><td> -8.000000</td></tr>\n",
       "\t<tr><td>N693CA</td><td> -8.000000</td></tr>\n",
       "\t<tr><td>N907DA</td><td> -8.000000</td></tr>\n",
       "\t<tr><td>N941DN</td><td> -8.000000</td></tr>\n",
       "\t<tr><td>N287AT</td><td> -8.500000</td></tr>\n",
       "\t<tr><td>N518AS</td><td> -8.500000</td></tr>\n",
       "\t<tr><td>N585AS</td><td> -8.500000</td></tr>\n",
       "\t<tr><td>N789SK</td><td> -8.500000</td></tr>\n",
       "\t<tr><td>N509AA</td><td> -9.000000</td></tr>\n",
       "\t<tr><td>N632AW</td><td> -9.000000</td></tr>\n",
       "\t<tr><td>N661UA</td><td> -9.000000</td></tr>\n",
       "\t<tr><td>N778SK</td><td> -9.000000</td></tr>\n",
       "\t<tr><td>N913EV</td><td> -9.000000</td></tr>\n",
       "\t<tr><td>N926LR</td><td> -9.000000</td></tr>\n",
       "\t<tr><td>N583AS</td><td> -9.500000</td></tr>\n",
       "\t<tr><td>N14628</td><td>-10.000000</td></tr>\n",
       "\t<tr><td>N794SK</td><td>-10.000000</td></tr>\n",
       "\t<tr><td>N17627</td><td>-10.500000</td></tr>\n",
       "\t<tr><td>N701SK</td><td>-11.000000</td></tr>\n",
       "\t<tr><td>N726SK</td><td>-11.000000</td></tr>\n",
       "\t<tr><td>N859AS</td><td>-11.000000</td></tr>\n",
       "\t<tr><td>N710SK</td><td>-13.000000</td></tr>\n",
       "\t<tr><td>N785SK</td><td>-14.000000</td></tr>\n",
       "</tbody>\n",
       "</table>\n"
      ],
      "text/latex": [
       "A tibble: 4037 × 2\n",
       "\\begin{tabular}{r|ll}\n",
       " tailnum & mean\\_dep\\_delay\\\\\n",
       " <chr> & <dbl>\\\\\n",
       "\\hline\n",
       "\t N844MH & 297.00000\\\\\n",
       "\t N922EV & 274.00000\\\\\n",
       "\t N587NW & 272.00000\\\\\n",
       "\t N911DA & 268.00000\\\\\n",
       "\t N851NW & 233.00000\\\\\n",
       "\t N654UA & 227.00000\\\\\n",
       "\t N928DN & 203.00000\\\\\n",
       "\t N7715E & 186.00000\\\\\n",
       "\t N665MQ & 177.00000\\\\\n",
       "\t N136DL & 165.00000\\\\\n",
       "\t N633AW & 164.00000\\\\\n",
       "\t N790SK & 154.00000\\\\\n",
       "\t N670US & 132.00000\\\\\n",
       "\t N427SW & 131.00000\\\\\n",
       "\t N305AS & 112.50000\\\\\n",
       "\t N78003 & 111.00000\\\\\n",
       "\t N7ASAA & 104.00000\\\\\n",
       "\t N828AW &  97.00000\\\\\n",
       "\t N657UA &  91.00000\\\\\n",
       "\t N937DN &  90.00000\\\\\n",
       "\t N521SW &  85.00000\\\\\n",
       "\t N762SK &  85.00000\\\\\n",
       "\t N276AT &  84.83333\\\\\n",
       "\t N303AS &  83.00000\\\\\n",
       "\t N309AS &  81.50000\\\\\n",
       "\t N586AS &  81.50000\\\\\n",
       "\t N652SW &  79.50000\\\\\n",
       "\t N919FJ &  78.00000\\\\\n",
       "\t N162PQ &  77.00000\\\\\n",
       "\t N7AEAA &  74.00000\\\\\n",
       "\t ... & ...\\\\\n",
       "\t N943DN &  -7.000000\\\\\n",
       "\t N945DN &  -7.000000\\\\\n",
       "\t N593AS &  -7.500000\\\\\n",
       "\t N523AS &  -7.857143\\\\\n",
       "\t N517AS &  -8.000000\\\\\n",
       "\t N557AS &  -8.000000\\\\\n",
       "\t N560AS &  -8.000000\\\\\n",
       "\t N627AW &  -8.000000\\\\\n",
       "\t N693CA &  -8.000000\\\\\n",
       "\t N907DA &  -8.000000\\\\\n",
       "\t N941DN &  -8.000000\\\\\n",
       "\t N287AT &  -8.500000\\\\\n",
       "\t N518AS &  -8.500000\\\\\n",
       "\t N585AS &  -8.500000\\\\\n",
       "\t N789SK &  -8.500000\\\\\n",
       "\t N509AA &  -9.000000\\\\\n",
       "\t N632AW &  -9.000000\\\\\n",
       "\t N661UA &  -9.000000\\\\\n",
       "\t N778SK &  -9.000000\\\\\n",
       "\t N913EV &  -9.000000\\\\\n",
       "\t N926LR &  -9.000000\\\\\n",
       "\t N583AS &  -9.500000\\\\\n",
       "\t N14628 & -10.000000\\\\\n",
       "\t N794SK & -10.000000\\\\\n",
       "\t N17627 & -10.500000\\\\\n",
       "\t N701SK & -11.000000\\\\\n",
       "\t N726SK & -11.000000\\\\\n",
       "\t N859AS & -11.000000\\\\\n",
       "\t N710SK & -13.000000\\\\\n",
       "\t N785SK & -14.000000\\\\\n",
       "\\end{tabular}\n"
      ],
      "text/markdown": [
       "\n",
       "A tibble: 4037 × 2\n",
       "\n",
       "| tailnum &lt;chr&gt; | mean_dep_delay &lt;dbl&gt; |\n",
       "|---|---|\n",
       "| N844MH | 297.00000 |\n",
       "| N922EV | 274.00000 |\n",
       "| N587NW | 272.00000 |\n",
       "| N911DA | 268.00000 |\n",
       "| N851NW | 233.00000 |\n",
       "| N654UA | 227.00000 |\n",
       "| N928DN | 203.00000 |\n",
       "| N7715E | 186.00000 |\n",
       "| N665MQ | 177.00000 |\n",
       "| N136DL | 165.00000 |\n",
       "| N633AW | 164.00000 |\n",
       "| N790SK | 154.00000 |\n",
       "| N670US | 132.00000 |\n",
       "| N427SW | 131.00000 |\n",
       "| N305AS | 112.50000 |\n",
       "| N78003 | 111.00000 |\n",
       "| N7ASAA | 104.00000 |\n",
       "| N828AW |  97.00000 |\n",
       "| N657UA |  91.00000 |\n",
       "| N937DN |  90.00000 |\n",
       "| N521SW |  85.00000 |\n",
       "| N762SK |  85.00000 |\n",
       "| N276AT |  84.83333 |\n",
       "| N303AS |  83.00000 |\n",
       "| N309AS |  81.50000 |\n",
       "| N586AS |  81.50000 |\n",
       "| N652SW |  79.50000 |\n",
       "| N919FJ |  78.00000 |\n",
       "| N162PQ |  77.00000 |\n",
       "| N7AEAA |  74.00000 |\n",
       "| ... | ... |\n",
       "| N943DN |  -7.000000 |\n",
       "| N945DN |  -7.000000 |\n",
       "| N593AS |  -7.500000 |\n",
       "| N523AS |  -7.857143 |\n",
       "| N517AS |  -8.000000 |\n",
       "| N557AS |  -8.000000 |\n",
       "| N560AS |  -8.000000 |\n",
       "| N627AW |  -8.000000 |\n",
       "| N693CA |  -8.000000 |\n",
       "| N907DA |  -8.000000 |\n",
       "| N941DN |  -8.000000 |\n",
       "| N287AT |  -8.500000 |\n",
       "| N518AS |  -8.500000 |\n",
       "| N585AS |  -8.500000 |\n",
       "| N789SK |  -8.500000 |\n",
       "| N509AA |  -9.000000 |\n",
       "| N632AW |  -9.000000 |\n",
       "| N661UA |  -9.000000 |\n",
       "| N778SK |  -9.000000 |\n",
       "| N913EV |  -9.000000 |\n",
       "| N926LR |  -9.000000 |\n",
       "| N583AS |  -9.500000 |\n",
       "| N14628 | -10.000000 |\n",
       "| N794SK | -10.000000 |\n",
       "| N17627 | -10.500000 |\n",
       "| N701SK | -11.000000 |\n",
       "| N726SK | -11.000000 |\n",
       "| N859AS | -11.000000 |\n",
       "| N710SK | -13.000000 |\n",
       "| N785SK | -14.000000 |\n",
       "\n"
      ],
      "text/plain": [
       "     tailnum mean_dep_delay\n",
       "1    N844MH  297.00000     \n",
       "2    N922EV  274.00000     \n",
       "3    N587NW  272.00000     \n",
       "4    N911DA  268.00000     \n",
       "5    N851NW  233.00000     \n",
       "6    N654UA  227.00000     \n",
       "7    N928DN  203.00000     \n",
       "8    N7715E  186.00000     \n",
       "9    N665MQ  177.00000     \n",
       "10   N136DL  165.00000     \n",
       "11   N633AW  164.00000     \n",
       "12   N790SK  154.00000     \n",
       "13   N670US  132.00000     \n",
       "14   N427SW  131.00000     \n",
       "15   N305AS  112.50000     \n",
       "16   N78003  111.00000     \n",
       "17   N7ASAA  104.00000     \n",
       "18   N828AW   97.00000     \n",
       "19   N657UA   91.00000     \n",
       "20   N937DN   90.00000     \n",
       "21   N521SW   85.00000     \n",
       "22   N762SK   85.00000     \n",
       "23   N276AT   84.83333     \n",
       "24   N303AS   83.00000     \n",
       "25   N309AS   81.50000     \n",
       "26   N586AS   81.50000     \n",
       "27   N652SW   79.50000     \n",
       "28   N919FJ   78.00000     \n",
       "29   N162PQ   77.00000     \n",
       "30   N7AEAA   74.00000     \n",
       "...  ...     ...           \n",
       "4008 N943DN   -7.000000    \n",
       "4009 N945DN   -7.000000    \n",
       "4010 N593AS   -7.500000    \n",
       "4011 N523AS   -7.857143    \n",
       "4012 N517AS   -8.000000    \n",
       "4013 N557AS   -8.000000    \n",
       "4014 N560AS   -8.000000    \n",
       "4015 N627AW   -8.000000    \n",
       "4016 N693CA   -8.000000    \n",
       "4017 N907DA   -8.000000    \n",
       "4018 N941DN   -8.000000    \n",
       "4019 N287AT   -8.500000    \n",
       "4020 N518AS   -8.500000    \n",
       "4021 N585AS   -8.500000    \n",
       "4022 N789SK   -8.500000    \n",
       "4023 N509AA   -9.000000    \n",
       "4024 N632AW   -9.000000    \n",
       "4025 N661UA   -9.000000    \n",
       "4026 N778SK   -9.000000    \n",
       "4027 N913EV   -9.000000    \n",
       "4028 N926LR   -9.000000    \n",
       "4029 N583AS   -9.500000    \n",
       "4030 N14628  -10.000000    \n",
       "4031 N794SK  -10.000000    \n",
       "4032 N17627  -10.500000    \n",
       "4033 N701SK  -11.000000    \n",
       "4034 N726SK  -11.000000    \n",
       "4035 N859AS  -11.000000    \n",
       "4036 N710SK  -13.000000    \n",
       "4037 N785SK  -14.000000    "
      ]
     },
     "metadata": {},
     "output_type": "display_data"
    },
    {
     "ename": "ERROR",
     "evalue": "Error in head.default(): argument \"x\" is missing, with no default\n",
     "output_type": "error",
     "traceback": [
      "Error in head.default(): argument \"x\" is missing, with no default\nTraceback:\n",
      "1. head()",
      "2. head.default()"
     ]
    }
   ],
   "source": [
    "flights %>% \n",
    "  group_by(tailnum) %>% \n",
    "  filter(!is.na(dep_delay)) %>% \n",
    "  summarize(mean_dep_delay = mean(dep_delay)) %>% \n",
    "  arrange(desc(mean_dep_delay))\n",
    "  head()"
   ]
  },
  {
   "cell_type": "markdown",
   "metadata": {
    "heading_collapsed": true,
    "hidden": true
   },
   "source": [
    "##### What time of day should you fly if you want to avoid delays as much as possible?"
   ]
  },
  {
   "cell_type": "code",
   "execution_count": 33,
   "metadata": {
    "ExecuteTime": {
     "end_time": "2020-01-31T02:30:57.062414Z",
     "start_time": "2020-01-31T02:30:56.934Z"
    },
    "hidden": true
   },
   "outputs": [
    {
     "data": {
      "text/html": [
       "<table>\n",
       "<caption>A tibble: 6 × 2</caption>\n",
       "<thead>\n",
       "\t<tr><th scope=col>hour</th><th scope=col>avg_dep_delay</th></tr>\n",
       "\t<tr><th scope=col>&lt;dbl&gt;</th><th scope=col>&lt;dbl&gt;</th></tr>\n",
       "</thead>\n",
       "<tbody>\n",
       "\t<tr><td> 5</td><td>0.6877572</td></tr>\n",
       "\t<tr><td> 6</td><td>1.6427956</td></tr>\n",
       "\t<tr><td> 7</td><td>1.9140778</td></tr>\n",
       "\t<tr><td> 8</td><td>4.1279478</td></tr>\n",
       "\t<tr><td> 9</td><td>4.5837378</td></tr>\n",
       "\t<tr><td>10</td><td>6.4982946</td></tr>\n",
       "</tbody>\n",
       "</table>\n"
      ],
      "text/latex": [
       "A tibble: 6 × 2\n",
       "\\begin{tabular}{r|ll}\n",
       " hour & avg\\_dep\\_delay\\\\\n",
       " <dbl> & <dbl>\\\\\n",
       "\\hline\n",
       "\t  5 & 0.6877572\\\\\n",
       "\t  6 & 1.6427956\\\\\n",
       "\t  7 & 1.9140778\\\\\n",
       "\t  8 & 4.1279478\\\\\n",
       "\t  9 & 4.5837378\\\\\n",
       "\t 10 & 6.4982946\\\\\n",
       "\\end{tabular}\n"
      ],
      "text/markdown": [
       "\n",
       "A tibble: 6 × 2\n",
       "\n",
       "| hour &lt;dbl&gt; | avg_dep_delay &lt;dbl&gt; |\n",
       "|---|---|\n",
       "|  5 | 0.6877572 |\n",
       "|  6 | 1.6427956 |\n",
       "|  7 | 1.9140778 |\n",
       "|  8 | 4.1279478 |\n",
       "|  9 | 4.5837378 |\n",
       "| 10 | 6.4982946 |\n",
       "\n"
      ],
      "text/plain": [
       "  hour avg_dep_delay\n",
       "1  5   0.6877572    \n",
       "2  6   1.6427956    \n",
       "3  7   1.9140778    \n",
       "4  8   4.1279478    \n",
       "5  9   4.5837378    \n",
       "6 10   6.4982946    "
      ]
     },
     "metadata": {},
     "output_type": "display_data"
    }
   ],
   "source": [
    "flights %>% \n",
    "  filter(!is.na(dep_delay)) %>% \n",
    "  group_by(hour) %>% \n",
    "  summarise(avg_dep_delay = mean(dep_delay)) %>% \n",
    "  arrange(avg_dep_delay) %>% \n",
    "  select(hour, avg_dep_delay) %>% \n",
    "  head()\n",
    "    "
   ]
  },
  {
   "cell_type": "markdown",
   "metadata": {
    "heading_collapsed": true,
    "hidden": true
   },
   "source": [
    "##### For each destination, compute the total minutes of delay. For each flight, compute the proportion of the total delay for its destination."
   ]
  },
  {
   "cell_type": "code",
   "execution_count": 89,
   "metadata": {
    "ExecuteTime": {
     "end_time": "2020-01-31T03:22:17.869207Z",
     "start_time": "2020-01-31T03:22:17.777Z"
    },
    "collapsed": true,
    "hidden": true
   },
   "outputs": [
    {
     "data": {
      "text/html": [
       "<table>\n",
       "<caption>A tibble: 20 × 2</caption>\n",
       "<thead>\n",
       "\t<tr><th scope=col>dest</th><th scope=col>dest_arr_delay</th></tr>\n",
       "\t<tr><th scope=col>&lt;chr&gt;</th><th scope=col>&lt;dbl&gt;</th></tr>\n",
       "</thead>\n",
       "<tbody>\n",
       "\t<tr><td>ABQ</td><td>  4487</td></tr>\n",
       "\t<tr><td>ACK</td><td>  2974</td></tr>\n",
       "\t<tr><td>ALB</td><td>  9580</td></tr>\n",
       "\t<tr><td>ANC</td><td>    62</td></tr>\n",
       "\t<tr><td>ATL</td><td>300299</td></tr>\n",
       "\t<tr><td>AUS</td><td> 39940</td></tr>\n",
       "\t<tr><td>AVL</td><td>  3671</td></tr>\n",
       "\t<tr><td>BDL</td><td>  6953</td></tr>\n",
       "\t<tr><td>BGR</td><td>  6940</td></tr>\n",
       "\t<tr><td>BHM</td><td>  7267</td></tr>\n",
       "\t<tr><td>BNA</td><td>122152</td></tr>\n",
       "\t<tr><td>BOS</td><td>190190</td></tr>\n",
       "\t<tr><td>BQN</td><td> 12872</td></tr>\n",
       "\t<tr><td>BTV</td><td> 41288</td></tr>\n",
       "\t<tr><td>BUF</td><td> 76478</td></tr>\n",
       "\t<tr><td>BUR</td><td>  7027</td></tr>\n",
       "\t<tr><td>BWI</td><td> 33918</td></tr>\n",
       "\t<tr><td>BZN</td><td>   491</td></tr>\n",
       "\t<tr><td>CAE</td><td>  4666</td></tr>\n",
       "\t<tr><td>CAK</td><td> 21494</td></tr>\n",
       "</tbody>\n",
       "</table>\n"
      ],
      "text/latex": [
       "A tibble: 20 × 2\n",
       "\\begin{tabular}{r|ll}\n",
       " dest & dest\\_arr\\_delay\\\\\n",
       " <chr> & <dbl>\\\\\n",
       "\\hline\n",
       "\t ABQ &   4487\\\\\n",
       "\t ACK &   2974\\\\\n",
       "\t ALB &   9580\\\\\n",
       "\t ANC &     62\\\\\n",
       "\t ATL & 300299\\\\\n",
       "\t AUS &  39940\\\\\n",
       "\t AVL &   3671\\\\\n",
       "\t BDL &   6953\\\\\n",
       "\t BGR &   6940\\\\\n",
       "\t BHM &   7267\\\\\n",
       "\t BNA & 122152\\\\\n",
       "\t BOS & 190190\\\\\n",
       "\t BQN &  12872\\\\\n",
       "\t BTV &  41288\\\\\n",
       "\t BUF &  76478\\\\\n",
       "\t BUR &   7027\\\\\n",
       "\t BWI &  33918\\\\\n",
       "\t BZN &    491\\\\\n",
       "\t CAE &   4666\\\\\n",
       "\t CAK &  21494\\\\\n",
       "\\end{tabular}\n"
      ],
      "text/markdown": [
       "\n",
       "A tibble: 20 × 2\n",
       "\n",
       "| dest &lt;chr&gt; | dest_arr_delay &lt;dbl&gt; |\n",
       "|---|---|\n",
       "| ABQ |   4487 |\n",
       "| ACK |   2974 |\n",
       "| ALB |   9580 |\n",
       "| ANC |     62 |\n",
       "| ATL | 300299 |\n",
       "| AUS |  39940 |\n",
       "| AVL |   3671 |\n",
       "| BDL |   6953 |\n",
       "| BGR |   6940 |\n",
       "| BHM |   7267 |\n",
       "| BNA | 122152 |\n",
       "| BOS | 190190 |\n",
       "| BQN |  12872 |\n",
       "| BTV |  41288 |\n",
       "| BUF |  76478 |\n",
       "| BUR |   7027 |\n",
       "| BWI |  33918 |\n",
       "| BZN |    491 |\n",
       "| CAE |   4666 |\n",
       "| CAK |  21494 |\n",
       "\n"
      ],
      "text/plain": [
       "   dest dest_arr_delay\n",
       "1  ABQ    4487        \n",
       "2  ACK    2974        \n",
       "3  ALB    9580        \n",
       "4  ANC      62        \n",
       "5  ATL  300299        \n",
       "6  AUS   39940        \n",
       "7  AVL    3671        \n",
       "8  BDL    6953        \n",
       "9  BGR    6940        \n",
       "10 BHM    7267        \n",
       "11 BNA  122152        \n",
       "12 BOS  190190        \n",
       "13 BQN   12872        \n",
       "14 BTV   41288        \n",
       "15 BUF   76478        \n",
       "16 BUR    7027        \n",
       "17 BWI   33918        \n",
       "18 BZN     491        \n",
       "19 CAE    4666        \n",
       "20 CAK   21494        "
      ]
     },
     "metadata": {},
     "output_type": "display_data"
    }
   ],
   "source": [
    "flights %>% \n",
    "    filter(arr_delay > 0) %>% \n",
    "    group_by(dest) %>% \n",
    "    summarise(dest_arr_delay = sum(arr_delay)) %>% \n",
    "    head(20)\n"
   ]
  },
  {
   "cell_type": "code",
   "execution_count": 87,
   "metadata": {
    "ExecuteTime": {
     "end_time": "2020-01-31T03:20:40.678268Z",
     "start_time": "2020-01-31T03:20:40.565Z"
    },
    "collapsed": true,
    "hidden": true
   },
   "outputs": [
    {
     "data": {
      "text/html": [
       "<table>\n",
       "<caption>A grouped_df: 20 × 4</caption>\n",
       "<thead>\n",
       "\t<tr><th scope=col>dest</th><th scope=col>flight</th><th scope=col>flight_arr_delay</th><th scope=col>arr_delay_prop</th></tr>\n",
       "\t<tr><th scope=col>&lt;chr&gt;</th><th scope=col>&lt;int&gt;</th><th scope=col>&lt;dbl&gt;</th><th scope=col>&lt;dbl&gt;</th></tr>\n",
       "</thead>\n",
       "<tbody>\n",
       "\t<tr><td>ABQ</td><td>  65</td><td>1943</td><td>0.4330287497</td></tr>\n",
       "\t<tr><td>ABQ</td><td>1505</td><td>2544</td><td>0.5669712503</td></tr>\n",
       "\t<tr><td>ACK</td><td>1191</td><td>1413</td><td>0.4751176866</td></tr>\n",
       "\t<tr><td>ACK</td><td>1195</td><td>  62</td><td>0.0208473436</td></tr>\n",
       "\t<tr><td>ACK</td><td>1291</td><td> 267</td><td>0.0897780767</td></tr>\n",
       "\t<tr><td>ACK</td><td>1491</td><td>1232</td><td>0.4142568931</td></tr>\n",
       "\t<tr><td>ALB</td><td>3260</td><td> 111</td><td>0.0115866388</td></tr>\n",
       "\t<tr><td>ALB</td><td>3264</td><td>   4</td><td>0.0004175365</td></tr>\n",
       "\t<tr><td>ALB</td><td>3811</td><td> 599</td><td>0.0625260960</td></tr>\n",
       "\t<tr><td>ALB</td><td>3817</td><td> 196</td><td>0.0204592902</td></tr>\n",
       "\t<tr><td>ALB</td><td>4088</td><td> 829</td><td>0.0865344468</td></tr>\n",
       "\t<tr><td>ALB</td><td>4093</td><td> 175</td><td>0.0182672234</td></tr>\n",
       "\t<tr><td>ALB</td><td>4117</td><td> 911</td><td>0.0950939457</td></tr>\n",
       "\t<tr><td>ALB</td><td>4120</td><td>  38</td><td>0.0039665971</td></tr>\n",
       "\t<tr><td>ALB</td><td>4125</td><td> 175</td><td>0.0182672234</td></tr>\n",
       "\t<tr><td>ALB</td><td>4162</td><td> 513</td><td>0.0535490605</td></tr>\n",
       "\t<tr><td>ALB</td><td>4170</td><td> 126</td><td>0.0131524008</td></tr>\n",
       "\t<tr><td>ALB</td><td>4194</td><td> 132</td><td>0.0137787056</td></tr>\n",
       "\t<tr><td>ALB</td><td>4233</td><td> 119</td><td>0.0124217119</td></tr>\n",
       "\t<tr><td>ALB</td><td>4263</td><td>  18</td><td>0.0018789144</td></tr>\n",
       "</tbody>\n",
       "</table>\n"
      ],
      "text/latex": [
       "A grouped_df: 20 × 4\n",
       "\\begin{tabular}{r|llll}\n",
       " dest & flight & flight\\_arr\\_delay & arr\\_delay\\_prop\\\\\n",
       " <chr> & <int> & <dbl> & <dbl>\\\\\n",
       "\\hline\n",
       "\t ABQ &   65 & 1943 & 0.4330287497\\\\\n",
       "\t ABQ & 1505 & 2544 & 0.5669712503\\\\\n",
       "\t ACK & 1191 & 1413 & 0.4751176866\\\\\n",
       "\t ACK & 1195 &   62 & 0.0208473436\\\\\n",
       "\t ACK & 1291 &  267 & 0.0897780767\\\\\n",
       "\t ACK & 1491 & 1232 & 0.4142568931\\\\\n",
       "\t ALB & 3260 &  111 & 0.0115866388\\\\\n",
       "\t ALB & 3264 &    4 & 0.0004175365\\\\\n",
       "\t ALB & 3811 &  599 & 0.0625260960\\\\\n",
       "\t ALB & 3817 &  196 & 0.0204592902\\\\\n",
       "\t ALB & 4088 &  829 & 0.0865344468\\\\\n",
       "\t ALB & 4093 &  175 & 0.0182672234\\\\\n",
       "\t ALB & 4117 &  911 & 0.0950939457\\\\\n",
       "\t ALB & 4120 &   38 & 0.0039665971\\\\\n",
       "\t ALB & 4125 &  175 & 0.0182672234\\\\\n",
       "\t ALB & 4162 &  513 & 0.0535490605\\\\\n",
       "\t ALB & 4170 &  126 & 0.0131524008\\\\\n",
       "\t ALB & 4194 &  132 & 0.0137787056\\\\\n",
       "\t ALB & 4233 &  119 & 0.0124217119\\\\\n",
       "\t ALB & 4263 &   18 & 0.0018789144\\\\\n",
       "\\end{tabular}\n"
      ],
      "text/markdown": [
       "\n",
       "A grouped_df: 20 × 4\n",
       "\n",
       "| dest &lt;chr&gt; | flight &lt;int&gt; | flight_arr_delay &lt;dbl&gt; | arr_delay_prop &lt;dbl&gt; |\n",
       "|---|---|---|---|\n",
       "| ABQ |   65 | 1943 | 0.4330287497 |\n",
       "| ABQ | 1505 | 2544 | 0.5669712503 |\n",
       "| ACK | 1191 | 1413 | 0.4751176866 |\n",
       "| ACK | 1195 |   62 | 0.0208473436 |\n",
       "| ACK | 1291 |  267 | 0.0897780767 |\n",
       "| ACK | 1491 | 1232 | 0.4142568931 |\n",
       "| ALB | 3260 |  111 | 0.0115866388 |\n",
       "| ALB | 3264 |    4 | 0.0004175365 |\n",
       "| ALB | 3811 |  599 | 0.0625260960 |\n",
       "| ALB | 3817 |  196 | 0.0204592902 |\n",
       "| ALB | 4088 |  829 | 0.0865344468 |\n",
       "| ALB | 4093 |  175 | 0.0182672234 |\n",
       "| ALB | 4117 |  911 | 0.0950939457 |\n",
       "| ALB | 4120 |   38 | 0.0039665971 |\n",
       "| ALB | 4125 |  175 | 0.0182672234 |\n",
       "| ALB | 4162 |  513 | 0.0535490605 |\n",
       "| ALB | 4170 |  126 | 0.0131524008 |\n",
       "| ALB | 4194 |  132 | 0.0137787056 |\n",
       "| ALB | 4233 |  119 | 0.0124217119 |\n",
       "| ALB | 4263 |   18 | 0.0018789144 |\n",
       "\n"
      ],
      "text/plain": [
       "   dest flight flight_arr_delay arr_delay_prop\n",
       "1  ABQ    65   1943             0.4330287497  \n",
       "2  ABQ  1505   2544             0.5669712503  \n",
       "3  ACK  1191   1413             0.4751176866  \n",
       "4  ACK  1195     62             0.0208473436  \n",
       "5  ACK  1291    267             0.0897780767  \n",
       "6  ACK  1491   1232             0.4142568931  \n",
       "7  ALB  3260    111             0.0115866388  \n",
       "8  ALB  3264      4             0.0004175365  \n",
       "9  ALB  3811    599             0.0625260960  \n",
       "10 ALB  3817    196             0.0204592902  \n",
       "11 ALB  4088    829             0.0865344468  \n",
       "12 ALB  4093    175             0.0182672234  \n",
       "13 ALB  4117    911             0.0950939457  \n",
       "14 ALB  4120     38             0.0039665971  \n",
       "15 ALB  4125    175             0.0182672234  \n",
       "16 ALB  4162    513             0.0535490605  \n",
       "17 ALB  4170    126             0.0131524008  \n",
       "18 ALB  4194    132             0.0137787056  \n",
       "19 ALB  4233    119             0.0124217119  \n",
       "20 ALB  4263     18             0.0018789144  "
      ]
     },
     "metadata": {},
     "output_type": "display_data"
    }
   ],
   "source": [
    "flights %>% \n",
    "    filter(arr_delay > 0) %>% \n",
    "    group_by(dest,flight) %>% \n",
    "    summarise(flight_arr_delay = sum(arr_delay)) %>% \n",
    "    mutate(arr_delay_prop = flight_arr_delay / sum(flight_arr_delay)) %>% \n",
    "    head(20)\n"
   ]
  },
  {
   "cell_type": "markdown",
   "metadata": {
    "heading_collapsed": true,
    "hidden": true
   },
   "source": [
    "##### Delays are typically temporally correlated: even once the problem that caused the initial delay has been resolved, later flights are delayed to allow earlier flights to leave. Using lag(), explore how the delay of a flight is related to the delay of the immediately preceding flight."
   ]
  },
  {
   "cell_type": "code",
   "execution_count": 132,
   "metadata": {
    "ExecuteTime": {
     "end_time": "2020-01-31T03:56:15.860595Z",
     "start_time": "2020-01-31T03:55:32.336Z"
    },
    "collapsed": true,
    "hidden": true
   },
   "outputs": [
    {
     "data": {
      "image/png": "[encoded data removed]",
      "text/plain": [
       "plot without title"
      ]
     },
     "metadata": {
      "image/png": {
       "height": 420,
       "width": 420
      }
     },
     "output_type": "display_data"
    }
   ],
   "source": [
    "flights %>% \n",
    "    arrange(origin,year,month,day,hour,minute) %>% \n",
    "    group_by(origin) %>% \n",
    "    mutate(prev_flight_delay = lag(dep_delay)) %>% \n",
    "    select(prev_flight_delay,\n",
    "           origin,\n",
    "           year,\n",
    "           month,\n",
    "           day,\n",
    "           hour,\n",
    "           minute,\n",
    "           everything()) %>% \n",
    "    filter(!is.na(prev_flight_delay),!is.na(dep_delay)) %>% \n",
    "    ggplot() + \n",
    "        geom_point(mapping = aes(x = prev_flight_delay, y = dep_delay)) +\n",
    "        facet_wrap(~origin,ncol=1)\n",
    "        "
   ]
  },
  {
   "cell_type": "markdown",
   "metadata": {
    "heading_collapsed": true,
    "hidden": true
   },
   "source": [
    "##### Look at each destination. Can you find flights that are suspiciously fast? (i.e. flights that represent a potential data entry error). Compute the air time of a flight relative to the shortest flight to that destination. Which flights were most delayed in the air?"
   ]
  },
  {
   "cell_type": "code",
   "execution_count": 192,
   "metadata": {
    "ExecuteTime": {
     "end_time": "2020-01-31T04:38:19.939118Z",
     "start_time": "2020-01-31T04:38:19.900Z"
    },
    "hidden": true
   },
   "outputs": [],
   "source": [
    "options(repr.plot.width=8, repr.plot.height=5)"
   ]
  },
  {
   "cell_type": "code",
   "execution_count": 194,
   "metadata": {
    "ExecuteTime": {
     "end_time": "2020-01-31T04:39:23.203624Z",
     "start_time": "2020-01-31T04:39:22.317Z"
    },
    "hidden": true
   },
   "outputs": [
    {
     "name": "stderr",
     "output_type": "stream",
     "text": [
      "`stat_bin()` using `bins = 30`. Pick better value with `binwidth`.\n",
      "\n"
     ]
    },
    {
     "data": {
      "image/png": "[encoded data removed]",
      "text/plain": [
       "plot without title"
      ]
     },
     "metadata": {
      "image/png": {
       "height": 300,
       "width": 480
      }
     },
     "output_type": "display_data"
    }
   ],
   "source": [
    "flights %>% \n",
    "    filter(!is.na(air_time)) %>% \n",
    "    group_by(origin,dest)  %>% \n",
    "    mutate(std_air_time = scale(air_time)) %>% \n",
    "    select(origin,dest,std_air_time,air_time)  %>% \n",
    "    arrange(origin,dest,std_air_time) %>% \n",
    "    filter(!is.na(air_time), origin == \"EWR\", dest == \"ALB\") %>%     \n",
    "    ggplot() + \n",
    "        geom_histogram(mapping = aes(x = std_air_time))\n"
   ]
  },
  {
   "cell_type": "markdown",
   "metadata": {
    "heading_collapsed": true,
    "hidden": true
   },
   "source": [
    "##### Find all destinations that are flown by at least two carriers. Use that information to rank the carriers."
   ]
  },
  {
   "cell_type": "code",
   "execution_count": 204,
   "metadata": {
    "ExecuteTime": {
     "end_time": "2020-01-31T04:46:29.982290Z",
     "start_time": "2020-01-31T04:46:29.775Z"
    },
    "collapsed": true,
    "hidden": true
   },
   "outputs": [
    {
     "data": {
      "text/html": [
       "<table>\n",
       "<caption>A tibble: 16 × 2</caption>\n",
       "<thead>\n",
       "\t<tr><th scope=col>carrier</th><th scope=col>num_dest</th></tr>\n",
       "\t<tr><th scope=col>&lt;chr&gt;</th><th scope=col>&lt;int&gt;</th></tr>\n",
       "</thead>\n",
       "<tbody>\n",
       "\t<tr><td>EV</td><td>51</td></tr>\n",
       "\t<tr><td>9E</td><td>48</td></tr>\n",
       "\t<tr><td>UA</td><td>42</td></tr>\n",
       "\t<tr><td>DL</td><td>39</td></tr>\n",
       "\t<tr><td>B6</td><td>35</td></tr>\n",
       "\t<tr><td>AA</td><td>19</td></tr>\n",
       "\t<tr><td>MQ</td><td>19</td></tr>\n",
       "\t<tr><td>WN</td><td>10</td></tr>\n",
       "\t<tr><td>OO</td><td> 5</td></tr>\n",
       "\t<tr><td>US</td><td> 5</td></tr>\n",
       "\t<tr><td>VX</td><td> 4</td></tr>\n",
       "\t<tr><td>YV</td><td> 3</td></tr>\n",
       "\t<tr><td>FL</td><td> 2</td></tr>\n",
       "\t<tr><td>AS</td><td> 1</td></tr>\n",
       "\t<tr><td>F9</td><td> 1</td></tr>\n",
       "\t<tr><td>HA</td><td> 1</td></tr>\n",
       "</tbody>\n",
       "</table>\n"
      ],
      "text/latex": [
       "A tibble: 16 × 2\n",
       "\\begin{tabular}{r|ll}\n",
       " carrier & num\\_dest\\\\\n",
       " <chr> & <int>\\\\\n",
       "\\hline\n",
       "\t EV & 51\\\\\n",
       "\t 9E & 48\\\\\n",
       "\t UA & 42\\\\\n",
       "\t DL & 39\\\\\n",
       "\t B6 & 35\\\\\n",
       "\t AA & 19\\\\\n",
       "\t MQ & 19\\\\\n",
       "\t WN & 10\\\\\n",
       "\t OO &  5\\\\\n",
       "\t US &  5\\\\\n",
       "\t VX &  4\\\\\n",
       "\t YV &  3\\\\\n",
       "\t FL &  2\\\\\n",
       "\t AS &  1\\\\\n",
       "\t F9 &  1\\\\\n",
       "\t HA &  1\\\\\n",
       "\\end{tabular}\n"
      ],
      "text/markdown": [
       "\n",
       "A tibble: 16 × 2\n",
       "\n",
       "| carrier &lt;chr&gt; | num_dest &lt;int&gt; |\n",
       "|---|---|\n",
       "| EV | 51 |\n",
       "| 9E | 48 |\n",
       "| UA | 42 |\n",
       "| DL | 39 |\n",
       "| B6 | 35 |\n",
       "| AA | 19 |\n",
       "| MQ | 19 |\n",
       "| WN | 10 |\n",
       "| OO |  5 |\n",
       "| US |  5 |\n",
       "| VX |  4 |\n",
       "| YV |  3 |\n",
       "| FL |  2 |\n",
       "| AS |  1 |\n",
       "| F9 |  1 |\n",
       "| HA |  1 |\n",
       "\n"
      ],
      "text/plain": [
       "   carrier num_dest\n",
       "1  EV      51      \n",
       "2  9E      48      \n",
       "3  UA      42      \n",
       "4  DL      39      \n",
       "5  B6      35      \n",
       "6  AA      19      \n",
       "7  MQ      19      \n",
       "8  WN      10      \n",
       "9  OO       5      \n",
       "10 US       5      \n",
       "11 VX       4      \n",
       "12 YV       3      \n",
       "13 FL       2      \n",
       "14 AS       1      \n",
       "15 F9       1      \n",
       "16 HA       1      "
      ]
     },
     "metadata": {},
     "output_type": "display_data"
    }
   ],
   "source": [
    "flights %>% \n",
    "    group_by(dest) %>% \n",
    "    mutate(num_carriers = n_distinct(carrier)) %>% \n",
    "    filter(num_carriers > 1) %>% \n",
    "    group_by(carrier) %>% \n",
    "    summarise(num_dest = n_distinct(dest)) %>% \n",
    "    arrange(desc(num_dest))\n",
    "\n",
    "    \n"
   ]
  },
  {
   "cell_type": "markdown",
   "metadata": {
    "heading_collapsed": true,
    "hidden": true
   },
   "source": [
    "##### For each plane, count the number of flights before the first delay of greater than 1 hour."
   ]
  },
  {
   "cell_type": "code",
   "execution_count": 227,
   "metadata": {
    "ExecuteTime": {
     "end_time": "2020-01-31T05:24:52.365928Z",
     "start_time": "2020-01-31T05:24:52.299Z"
    },
    "hidden": true
   },
   "outputs": [
    {
     "data": {
      "text/html": [
       "<table>\n",
       "<caption>A tibble: 2 × 2</caption>\n",
       "<thead>\n",
       "\t<tr><th scope=col>tailnum</th><th scope=col>no_of_flights</th></tr>\n",
       "\t<tr><th scope=col>&lt;chr&gt;</th><th scope=col>&lt;int&gt;</th></tr>\n",
       "</thead>\n",
       "<tbody>\n",
       "\t<tr><td>N1200K</td><td>6</td></tr>\n",
       "\t<tr><td>N173DZ</td><td>3</td></tr>\n",
       "</tbody>\n",
       "</table>\n"
      ],
      "text/latex": [
       "A tibble: 2 × 2\n",
       "\\begin{tabular}{r|ll}\n",
       " tailnum & no\\_of\\_flights\\\\\n",
       " <chr> & <int>\\\\\n",
       "\\hline\n",
       "\t N1200K & 6\\\\\n",
       "\t N173DZ & 3\\\\\n",
       "\\end{tabular}\n"
      ],
      "text/markdown": [
       "\n",
       "A tibble: 2 × 2\n",
       "\n",
       "| tailnum &lt;chr&gt; | no_of_flights &lt;int&gt; |\n",
       "|---|---|\n",
       "| N1200K | 6 |\n",
       "| N173DZ | 3 |\n",
       "\n"
      ],
      "text/plain": [
       "  tailnum no_of_flights\n",
       "1 N1200K  6            \n",
       "2 N173DZ  3            "
      ]
     },
     "metadata": {},
     "output_type": "display_data"
    }
   ],
   "source": [
    "flights %>% \n",
    "    filter(!is.na(dep_delay), tailnum == c(\"N1200K\",\"N173DZ\")) %>%\n",
    "    group_by(tailnum) %>% \n",
    "    select(tailnum,year, month, day, hour, minute,dep_delay) %>%  \n",
    "    arrange(tailnum,year, month, day, hour, minute) %>% \n",
    "    mutate(cummax_delay = cummax(dep_delay))  %>% \n",
    "    summarise(no_of_flights = sum(cummax_delay<=60)) %>% \n",
    "    arrange(desc(no_of_flights))\n",
    "\n",
    "\n",
    "\n"
   ]
  },
  {
   "cell_type": "code",
   "execution_count": 226,
   "metadata": {
    "ExecuteTime": {
     "end_time": "2020-01-31T05:24:32.438937Z",
     "start_time": "2020-01-31T05:24:32.367Z"
    },
    "hidden": true
   },
   "outputs": [
    {
     "data": {
      "text/html": [
       "<table>\n",
       "<caption>A grouped_df: 14 × 8</caption>\n",
       "<thead>\n",
       "\t<tr><th scope=col>tailnum</th><th scope=col>year</th><th scope=col>month</th><th scope=col>day</th><th scope=col>hour</th><th scope=col>minute</th><th scope=col>dep_delay</th><th scope=col>cummax_delay</th></tr>\n",
       "\t<tr><th scope=col>&lt;chr&gt;</th><th scope=col>&lt;int&gt;</th><th scope=col>&lt;int&gt;</th><th scope=col>&lt;int&gt;</th><th scope=col>&lt;dbl&gt;</th><th scope=col>&lt;dbl&gt;</th><th scope=col>&lt;dbl&gt;</th><th scope=col>&lt;dbl&gt;</th></tr>\n",
       "</thead>\n",
       "<tbody>\n",
       "\t<tr><td>N1200K</td><td>2013</td><td> 4</td><td>28</td><td>18</td><td>55</td><td> 13</td><td> 13</td></tr>\n",
       "\t<tr><td>N1200K</td><td>2013</td><td> 6</td><td>28</td><td>16</td><td>25</td><td>  9</td><td> 13</td></tr>\n",
       "\t<tr><td>N1200K</td><td>2013</td><td> 9</td><td>10</td><td>15</td><td> 0</td><td> -2</td><td> 13</td></tr>\n",
       "\t<tr><td>N1200K</td><td>2013</td><td>10</td><td>23</td><td> 7</td><td> 0</td><td> -1</td><td> 13</td></tr>\n",
       "\t<tr><td>N1200K</td><td>2013</td><td>10</td><td>27</td><td>21</td><td> 0</td><td>  7</td><td> 13</td></tr>\n",
       "\t<tr><td>N1200K</td><td>2013</td><td>11</td><td> 2</td><td> 7</td><td> 0</td><td> -1</td><td> 13</td></tr>\n",
       "\t<tr><td>N173DZ</td><td>2013</td><td> 1</td><td> 1</td><td>18</td><td>55</td><td>  1</td><td>  1</td></tr>\n",
       "\t<tr><td>N173DZ</td><td>2013</td><td> 1</td><td> 9</td><td>18</td><td>55</td><td>  2</td><td>  2</td></tr>\n",
       "\t<tr><td>N173DZ</td><td>2013</td><td> 4</td><td>26</td><td>18</td><td>55</td><td>  0</td><td>  2</td></tr>\n",
       "\t<tr><td>N173DZ</td><td>2013</td><td> 7</td><td>10</td><td>16</td><td>20</td><td> 75</td><td> 75</td></tr>\n",
       "\t<tr><td>N173DZ</td><td>2013</td><td> 9</td><td> 7</td><td>15</td><td> 0</td><td>  5</td><td> 75</td></tr>\n",
       "\t<tr><td>N173DZ</td><td>2013</td><td> 9</td><td>11</td><td>21</td><td> 0</td><td>143</td><td>143</td></tr>\n",
       "\t<tr><td>N173DZ</td><td>2013</td><td> 9</td><td>13</td><td>18</td><td>40</td><td> -1</td><td>143</td></tr>\n",
       "\t<tr><td>N173DZ</td><td>2013</td><td> 9</td><td>18</td><td>21</td><td> 0</td><td>  9</td><td>143</td></tr>\n",
       "</tbody>\n",
       "</table>\n"
      ],
      "text/latex": [
       "A grouped_df: 14 × 8\n",
       "\\begin{tabular}{r|llllllll}\n",
       " tailnum & year & month & day & hour & minute & dep\\_delay & cummax\\_delay\\\\\n",
       " <chr> & <int> & <int> & <int> & <dbl> & <dbl> & <dbl> & <dbl>\\\\\n",
       "\\hline\n",
       "\t N1200K & 2013 &  4 & 28 & 18 & 55 &  13 &  13\\\\\n",
       "\t N1200K & 2013 &  6 & 28 & 16 & 25 &   9 &  13\\\\\n",
       "\t N1200K & 2013 &  9 & 10 & 15 &  0 &  -2 &  13\\\\\n",
       "\t N1200K & 2013 & 10 & 23 &  7 &  0 &  -1 &  13\\\\\n",
       "\t N1200K & 2013 & 10 & 27 & 21 &  0 &   7 &  13\\\\\n",
       "\t N1200K & 2013 & 11 &  2 &  7 &  0 &  -1 &  13\\\\\n",
       "\t N173DZ & 2013 &  1 &  1 & 18 & 55 &   1 &   1\\\\\n",
       "\t N173DZ & 2013 &  1 &  9 & 18 & 55 &   2 &   2\\\\\n",
       "\t N173DZ & 2013 &  4 & 26 & 18 & 55 &   0 &   2\\\\\n",
       "\t N173DZ & 2013 &  7 & 10 & 16 & 20 &  75 &  75\\\\\n",
       "\t N173DZ & 2013 &  9 &  7 & 15 &  0 &   5 &  75\\\\\n",
       "\t N173DZ & 2013 &  9 & 11 & 21 &  0 & 143 & 143\\\\\n",
       "\t N173DZ & 2013 &  9 & 13 & 18 & 40 &  -1 & 143\\\\\n",
       "\t N173DZ & 2013 &  9 & 18 & 21 &  0 &   9 & 143\\\\\n",
       "\\end{tabular}\n"
      ],
      "text/markdown": [
       "\n",
       "A grouped_df: 14 × 8\n",
       "\n",
       "| tailnum &lt;chr&gt; | year &lt;int&gt; | month &lt;int&gt; | day &lt;int&gt; | hour &lt;dbl&gt; | minute &lt;dbl&gt; | dep_delay &lt;dbl&gt; | cummax_delay &lt;dbl&gt; |\n",
       "|---|---|---|---|---|---|---|---|\n",
       "| N1200K | 2013 |  4 | 28 | 18 | 55 |  13 |  13 |\n",
       "| N1200K | 2013 |  6 | 28 | 16 | 25 |   9 |  13 |\n",
       "| N1200K | 2013 |  9 | 10 | 15 |  0 |  -2 |  13 |\n",
       "| N1200K | 2013 | 10 | 23 |  7 |  0 |  -1 |  13 |\n",
       "| N1200K | 2013 | 10 | 27 | 21 |  0 |   7 |  13 |\n",
       "| N1200K | 2013 | 11 |  2 |  7 |  0 |  -1 |  13 |\n",
       "| N173DZ | 2013 |  1 |  1 | 18 | 55 |   1 |   1 |\n",
       "| N173DZ | 2013 |  1 |  9 | 18 | 55 |   2 |   2 |\n",
       "| N173DZ | 2013 |  4 | 26 | 18 | 55 |   0 |   2 |\n",
       "| N173DZ | 2013 |  7 | 10 | 16 | 20 |  75 |  75 |\n",
       "| N173DZ | 2013 |  9 |  7 | 15 |  0 |   5 |  75 |\n",
       "| N173DZ | 2013 |  9 | 11 | 21 |  0 | 143 | 143 |\n",
       "| N173DZ | 2013 |  9 | 13 | 18 | 40 |  -1 | 143 |\n",
       "| N173DZ | 2013 |  9 | 18 | 21 |  0 |   9 | 143 |\n",
       "\n"
      ],
      "text/plain": [
       "   tailnum year month day hour minute dep_delay cummax_delay\n",
       "1  N1200K  2013  4    28  18   55      13        13         \n",
       "2  N1200K  2013  6    28  16   25       9        13         \n",
       "3  N1200K  2013  9    10  15    0      -2        13         \n",
       "4  N1200K  2013 10    23   7    0      -1        13         \n",
       "5  N1200K  2013 10    27  21    0       7        13         \n",
       "6  N1200K  2013 11     2   7    0      -1        13         \n",
       "7  N173DZ  2013  1     1  18   55       1         1         \n",
       "8  N173DZ  2013  1     9  18   55       2         2         \n",
       "9  N173DZ  2013  4    26  18   55       0         2         \n",
       "10 N173DZ  2013  7    10  16   20      75        75         \n",
       "11 N173DZ  2013  9     7  15    0       5        75         \n",
       "12 N173DZ  2013  9    11  21    0     143       143         \n",
       "13 N173DZ  2013  9    13  18   40      -1       143         \n",
       "14 N173DZ  2013  9    18  21    0       9       143         "
      ]
     },
     "metadata": {},
     "output_type": "display_data"
    }
   ],
   "source": [
    "flights %>% \n",
    "    filter(!is.na(dep_delay), tailnum == c(\"N1200K\",\"N173DZ\")) %>%\n",
    "    group_by(tailnum) %>% \n",
    "    select(tailnum,year, month, day, hour, minute,dep_delay) %>%  \n",
    "    arrange(tailnum,year, month, day, hour, minute) %>% \n",
    "    mutate(cummax_delay = cummax(dep_delay)) # %>% head\n",
    "\n"
   ]
  },
  {
   "cell_type": "code",
   "execution_count": 225,
   "metadata": {
    "ExecuteTime": {
     "end_time": "2020-01-31T05:24:05.684044Z",
     "start_time": "2020-01-31T05:24:05.478Z"
    },
    "hidden": true
   },
   "outputs": [
    {
     "data": {
      "text/html": [
       "<table>\n",
       "<caption>A tibble: 3138 × 2</caption>\n",
       "<thead>\n",
       "\t<tr><th scope=col>tailnum</th><th scope=col>n</th></tr>\n",
       "\t<tr><th scope=col>&lt;chr&gt;</th><th scope=col>&lt;int&gt;</th></tr>\n",
       "</thead>\n",
       "<tbody>\n",
       "\t<tr><td>N1200K</td><td>21</td></tr>\n",
       "\t<tr><td>N173DZ</td><td>21</td></tr>\n",
       "\t<tr><td>N205WN</td><td>21</td></tr>\n",
       "\t<tr><td>N206WN</td><td>21</td></tr>\n",
       "\t<tr><td>N230WN</td><td>21</td></tr>\n",
       "\t<tr><td>N240WN</td><td>21</td></tr>\n",
       "\t<tr><td>N256WN</td><td>21</td></tr>\n",
       "\t<tr><td>N267AT</td><td>21</td></tr>\n",
       "\t<tr><td>N293WN</td><td>21</td></tr>\n",
       "\t<tr><td>N329AT</td><td>21</td></tr>\n",
       "\t<tr><td>N345AA</td><td>21</td></tr>\n",
       "\t<tr><td>N352AA</td><td>21</td></tr>\n",
       "\t<tr><td>N353AT</td><td>21</td></tr>\n",
       "\t<tr><td>N356AA</td><td>21</td></tr>\n",
       "\t<tr><td>N360AA</td><td>21</td></tr>\n",
       "\t<tr><td>N391HA</td><td>21</td></tr>\n",
       "\t<tr><td>N396AA</td><td>21</td></tr>\n",
       "\t<tr><td>N419WN</td><td>21</td></tr>\n",
       "\t<tr><td>N448WN</td><td>21</td></tr>\n",
       "\t<tr><td>N484WN</td><td>21</td></tr>\n",
       "\t<tr><td>N4WRAA</td><td>21</td></tr>\n",
       "\t<tr><td>N507MJ</td><td>21</td></tr>\n",
       "\t<tr><td>N5EJAA</td><td>21</td></tr>\n",
       "\t<tr><td>N616MQ</td><td>21</td></tr>\n",
       "\t<tr><td>N624MQ</td><td>21</td></tr>\n",
       "\t<tr><td>N640MQ</td><td>21</td></tr>\n",
       "\t<tr><td>N667MQ</td><td>21</td></tr>\n",
       "\t<tr><td>N6714Q</td><td>21</td></tr>\n",
       "\t<tr><td>N692MQ</td><td>21</td></tr>\n",
       "\t<tr><td>N711HK</td><td>21</td></tr>\n",
       "\t<tr><td>...</td><td>...</td></tr>\n",
       "\t<tr><td>N247JB</td><td> 350</td></tr>\n",
       "\t<tr><td>N336AA</td><td> 353</td></tr>\n",
       "\t<tr><td>N319AA</td><td> 354</td></tr>\n",
       "\t<tr><td>N249JB</td><td> 355</td></tr>\n",
       "\t<tr><td>N296JB</td><td> 357</td></tr>\n",
       "\t<tr><td>N323AA</td><td> 357</td></tr>\n",
       "\t<tr><td>N183JB</td><td> 361</td></tr>\n",
       "\t<tr><td>N190JB</td><td> 362</td></tr>\n",
       "\t<tr><td>N542MQ</td><td> 363</td></tr>\n",
       "\t<tr><td>N229JB</td><td> 364</td></tr>\n",
       "\t<tr><td>N534MQ</td><td> 364</td></tr>\n",
       "\t<tr><td>N274JB</td><td> 370</td></tr>\n",
       "\t<tr><td>N324JB</td><td> 370</td></tr>\n",
       "\t<tr><td>N0EGMQ</td><td> 371</td></tr>\n",
       "\t<tr><td>N335AA</td><td> 385</td></tr>\n",
       "\t<tr><td>N327AA</td><td> 387</td></tr>\n",
       "\t<tr><td>N228JB</td><td> 388</td></tr>\n",
       "\t<tr><td>N338AA</td><td> 388</td></tr>\n",
       "\t<tr><td>N328AA</td><td> 393</td></tr>\n",
       "\t<tr><td>N735MQ</td><td> 396</td></tr>\n",
       "\t<tr><td>N351JB</td><td> 402</td></tr>\n",
       "\t<tr><td>N353JB</td><td> 404</td></tr>\n",
       "\t<tr><td>N298JB</td><td> 407</td></tr>\n",
       "\t<tr><td>N258JB</td><td> 427</td></tr>\n",
       "\t<tr><td>N713MQ</td><td> 483</td></tr>\n",
       "\t<tr><td>N711MQ</td><td> 486</td></tr>\n",
       "\t<tr><td>N723MQ</td><td> 507</td></tr>\n",
       "\t<tr><td>N722MQ</td><td> 513</td></tr>\n",
       "\t<tr><td>N725MQ</td><td> 575</td></tr>\n",
       "\t<tr><td>NA    </td><td>2512</td></tr>\n",
       "</tbody>\n",
       "</table>\n"
      ],
      "text/latex": [
       "A tibble: 3138 × 2\n",
       "\\begin{tabular}{r|ll}\n",
       " tailnum & n\\\\\n",
       " <chr> & <int>\\\\\n",
       "\\hline\n",
       "\t N1200K & 21\\\\\n",
       "\t N173DZ & 21\\\\\n",
       "\t N205WN & 21\\\\\n",
       "\t N206WN & 21\\\\\n",
       "\t N230WN & 21\\\\\n",
       "\t N240WN & 21\\\\\n",
       "\t N256WN & 21\\\\\n",
       "\t N267AT & 21\\\\\n",
       "\t N293WN & 21\\\\\n",
       "\t N329AT & 21\\\\\n",
       "\t N345AA & 21\\\\\n",
       "\t N352AA & 21\\\\\n",
       "\t N353AT & 21\\\\\n",
       "\t N356AA & 21\\\\\n",
       "\t N360AA & 21\\\\\n",
       "\t N391HA & 21\\\\\n",
       "\t N396AA & 21\\\\\n",
       "\t N419WN & 21\\\\\n",
       "\t N448WN & 21\\\\\n",
       "\t N484WN & 21\\\\\n",
       "\t N4WRAA & 21\\\\\n",
       "\t N507MJ & 21\\\\\n",
       "\t N5EJAA & 21\\\\\n",
       "\t N616MQ & 21\\\\\n",
       "\t N624MQ & 21\\\\\n",
       "\t N640MQ & 21\\\\\n",
       "\t N667MQ & 21\\\\\n",
       "\t N6714Q & 21\\\\\n",
       "\t N692MQ & 21\\\\\n",
       "\t N711HK & 21\\\\\n",
       "\t ... & ...\\\\\n",
       "\t N247JB &  350\\\\\n",
       "\t N336AA &  353\\\\\n",
       "\t N319AA &  354\\\\\n",
       "\t N249JB &  355\\\\\n",
       "\t N296JB &  357\\\\\n",
       "\t N323AA &  357\\\\\n",
       "\t N183JB &  361\\\\\n",
       "\t N190JB &  362\\\\\n",
       "\t N542MQ &  363\\\\\n",
       "\t N229JB &  364\\\\\n",
       "\t N534MQ &  364\\\\\n",
       "\t N274JB &  370\\\\\n",
       "\t N324JB &  370\\\\\n",
       "\t N0EGMQ &  371\\\\\n",
       "\t N335AA &  385\\\\\n",
       "\t N327AA &  387\\\\\n",
       "\t N228JB &  388\\\\\n",
       "\t N338AA &  388\\\\\n",
       "\t N328AA &  393\\\\\n",
       "\t N735MQ &  396\\\\\n",
       "\t N351JB &  402\\\\\n",
       "\t N353JB &  404\\\\\n",
       "\t N298JB &  407\\\\\n",
       "\t N258JB &  427\\\\\n",
       "\t N713MQ &  483\\\\\n",
       "\t N711MQ &  486\\\\\n",
       "\t N723MQ &  507\\\\\n",
       "\t N722MQ &  513\\\\\n",
       "\t N725MQ &  575\\\\\n",
       "\t NA     & 2512\\\\\n",
       "\\end{tabular}\n"
      ],
      "text/markdown": [
       "\n",
       "A tibble: 3138 × 2\n",
       "\n",
       "| tailnum &lt;chr&gt; | n &lt;int&gt; |\n",
       "|---|---|\n",
       "| N1200K | 21 |\n",
       "| N173DZ | 21 |\n",
       "| N205WN | 21 |\n",
       "| N206WN | 21 |\n",
       "| N230WN | 21 |\n",
       "| N240WN | 21 |\n",
       "| N256WN | 21 |\n",
       "| N267AT | 21 |\n",
       "| N293WN | 21 |\n",
       "| N329AT | 21 |\n",
       "| N345AA | 21 |\n",
       "| N352AA | 21 |\n",
       "| N353AT | 21 |\n",
       "| N356AA | 21 |\n",
       "| N360AA | 21 |\n",
       "| N391HA | 21 |\n",
       "| N396AA | 21 |\n",
       "| N419WN | 21 |\n",
       "| N448WN | 21 |\n",
       "| N484WN | 21 |\n",
       "| N4WRAA | 21 |\n",
       "| N507MJ | 21 |\n",
       "| N5EJAA | 21 |\n",
       "| N616MQ | 21 |\n",
       "| N624MQ | 21 |\n",
       "| N640MQ | 21 |\n",
       "| N667MQ | 21 |\n",
       "| N6714Q | 21 |\n",
       "| N692MQ | 21 |\n",
       "| N711HK | 21 |\n",
       "| ... | ... |\n",
       "| N247JB |  350 |\n",
       "| N336AA |  353 |\n",
       "| N319AA |  354 |\n",
       "| N249JB |  355 |\n",
       "| N296JB |  357 |\n",
       "| N323AA |  357 |\n",
       "| N183JB |  361 |\n",
       "| N190JB |  362 |\n",
       "| N542MQ |  363 |\n",
       "| N229JB |  364 |\n",
       "| N534MQ |  364 |\n",
       "| N274JB |  370 |\n",
       "| N324JB |  370 |\n",
       "| N0EGMQ |  371 |\n",
       "| N335AA |  385 |\n",
       "| N327AA |  387 |\n",
       "| N228JB |  388 |\n",
       "| N338AA |  388 |\n",
       "| N328AA |  393 |\n",
       "| N735MQ |  396 |\n",
       "| N351JB |  402 |\n",
       "| N353JB |  404 |\n",
       "| N298JB |  407 |\n",
       "| N258JB |  427 |\n",
       "| N713MQ |  483 |\n",
       "| N711MQ |  486 |\n",
       "| N723MQ |  507 |\n",
       "| N722MQ |  513 |\n",
       "| N725MQ |  575 |\n",
       "| NA     | 2512 |\n",
       "\n"
      ],
      "text/plain": [
       "     tailnum n   \n",
       "1    N1200K  21  \n",
       "2    N173DZ  21  \n",
       "3    N205WN  21  \n",
       "4    N206WN  21  \n",
       "5    N230WN  21  \n",
       "6    N240WN  21  \n",
       "7    N256WN  21  \n",
       "8    N267AT  21  \n",
       "9    N293WN  21  \n",
       "10   N329AT  21  \n",
       "11   N345AA  21  \n",
       "12   N352AA  21  \n",
       "13   N353AT  21  \n",
       "14   N356AA  21  \n",
       "15   N360AA  21  \n",
       "16   N391HA  21  \n",
       "17   N396AA  21  \n",
       "18   N419WN  21  \n",
       "19   N448WN  21  \n",
       "20   N484WN  21  \n",
       "21   N4WRAA  21  \n",
       "22   N507MJ  21  \n",
       "23   N5EJAA  21  \n",
       "24   N616MQ  21  \n",
       "25   N624MQ  21  \n",
       "26   N640MQ  21  \n",
       "27   N667MQ  21  \n",
       "28   N6714Q  21  \n",
       "29   N692MQ  21  \n",
       "30   N711HK  21  \n",
       "...  ...     ... \n",
       "3109 N247JB   350\n",
       "3110 N336AA   353\n",
       "3111 N319AA   354\n",
       "3112 N249JB   355\n",
       "3113 N296JB   357\n",
       "3114 N323AA   357\n",
       "3115 N183JB   361\n",
       "3116 N190JB   362\n",
       "3117 N542MQ   363\n",
       "3118 N229JB   364\n",
       "3119 N534MQ   364\n",
       "3120 N274JB   370\n",
       "3121 N324JB   370\n",
       "3122 N0EGMQ   371\n",
       "3123 N335AA   385\n",
       "3124 N327AA   387\n",
       "3125 N228JB   388\n",
       "3126 N338AA   388\n",
       "3127 N328AA   393\n",
       "3128 N735MQ   396\n",
       "3129 N351JB   402\n",
       "3130 N353JB   404\n",
       "3131 N298JB   407\n",
       "3132 N258JB   427\n",
       "3133 N713MQ   483\n",
       "3134 N711MQ   486\n",
       "3135 N723MQ   507\n",
       "3136 N722MQ   513\n",
       "3137 N725MQ   575\n",
       "3138 NA      2512"
      ]
     },
     "metadata": {},
     "output_type": "display_data"
    }
   ],
   "source": [
    "flights %>% count(tailnum) %>% filter(n>20) %>% arrange(n)"
   ]
  },
  {
   "cell_type": "code",
   "execution_count": null,
   "metadata": {
    "hidden": true
   },
   "outputs": [],
   "source": []
  }
 ],
 "metadata": {
  "hide_input": false,
  "kernelspec": {
   "display_name": "R",
   "language": "R",
   "name": "ir"
  },
  "language_info": {
   "codemirror_mode": "r",
   "file_extension": ".r",
   "mimetype": "text/x-r-source",
   "name": "R",
   "pygments_lexer": "r",
   "version": "3.6.2"
  },
  "toc": {
   "base_numbering": 1,
   "nav_menu": {},
   "number_sections": true,
   "sideBar": true,
   "skip_h1_title": false,
   "title_cell": "Table of Contents",
   "title_sidebar": "Contents",
   "toc_cell": true,
   "toc_position": {
    "height": "calc(100% - 180px)",
    "left": "10px",
    "top": "150px",
    "width": "410.766px"
   },
   "toc_section_display": true,
   "toc_window_display": false
  }
 },
 "nbformat": 4,
 "nbformat_minor": 4
}
