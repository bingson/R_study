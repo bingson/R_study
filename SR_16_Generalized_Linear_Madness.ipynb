{
 "cells": [
  {
   "cell_type": "markdown",
   "metadata": {
    "Collapsed": "true",
    "toc": true
   },
   "source": [
    "<h1>Table of Contents<span class=\"tocSkip\"></span></h1>\n",
    "<div class=\"toc\"><ul class=\"toc-item\"><li><span><a href=\"#Chapter-16\" data-toc-modified-id=\"Chapter-16-1\"><span class=\"toc-item-num\">1&nbsp;&nbsp;</span>Chapter 16</a></span><ul class=\"toc-item\"><li><span><a href=\"#16.1.-Geometric-people\" data-toc-modified-id=\"16.1.-Geometric-people-1.1\"><span class=\"toc-item-num\">1.1&nbsp;&nbsp;</span>16.1. Geometric people</a></span></li><li><span><a href=\"#16.2.-Hidden-minds-and-observed-behavior\" data-toc-modified-id=\"16.2.-Hidden-minds-and-observed-behavior-1.2\"><span class=\"toc-item-num\">1.2&nbsp;&nbsp;</span>16.2. Hidden minds and observed behavior</a></span></li></ul></li></ul></div>"
   ]
  },
  {
   "cell_type": "code",
   "execution_count": 2,
   "metadata": {
    "Collapsed": "false",
    "ExecuteTime": {
     "start_time": "2019-12-09T02:34:32.039Z"
    },
    "collapsed": true,
    "jupyter": {
     "outputs_hidden": true
    }
   },
   "outputs": [
    {
     "name": "stderr",
     "output_type": "stream",
     "text": [
      "-- \u001b[1mAttaching packages\u001b[22m --------------------------------------- tidyverse 1.3.0 --\n",
      "\n",
      "\u001b[32mv\u001b[39m \u001b[34mggplot2\u001b[39m 3.2.1     \u001b[32mv\u001b[39m \u001b[34mpurrr  \u001b[39m 0.3.3\n",
      "\u001b[32mv\u001b[39m \u001b[34mtibble \u001b[39m 2.1.3     \u001b[32mv\u001b[39m \u001b[34mdplyr  \u001b[39m 0.8.3\n",
      "\u001b[32mv\u001b[39m \u001b[34mtidyr  \u001b[39m 1.0.0     \u001b[32mv\u001b[39m \u001b[34mstringr\u001b[39m 1.4.0\n",
      "\u001b[32mv\u001b[39m \u001b[34mreadr  \u001b[39m 1.3.1     \u001b[32mv\u001b[39m \u001b[34mforcats\u001b[39m 0.4.0\n",
      "\n",
      "-- \u001b[1mConflicts\u001b[22m ------------------------------------------ tidyverse_conflicts() --\n",
      "\u001b[31mx\u001b[39m \u001b[34mdplyr\u001b[39m::\u001b[32mfilter()\u001b[39m masks \u001b[34mstats\u001b[39m::filter()\n",
      "\u001b[31mx\u001b[39m \u001b[34mdplyr\u001b[39m::\u001b[32mlag()\u001b[39m    masks \u001b[34mstats\u001b[39m::lag()\n",
      "\n",
      "Loading required package: rstan\n",
      "\n",
      "Loading required package: StanHeaders\n",
      "\n",
      "rstan (Version 2.19.2, GitRev: 2e1f913d3ca3)\n",
      "\n",
      "For execution on a local, multicore CPU with excess RAM we recommend calling\n",
      "options(mc.cores = parallel::detectCores()).\n",
      "To avoid recompilation of unchanged Stan programs, we recommend calling\n",
      "rstan_options(auto_write = TRUE)\n",
      "\n",
      "For improved execution time, we recommend calling\n",
      "Sys.setenv(LOCAL_CPPFLAGS = '-march=native')\n",
      "although this causes Stan to throw an error on a few processors.\n",
      "\n",
      "\n",
      "Attaching package: 'rstan'\n",
      "\n",
      "\n",
      "The following object is masked from 'package:tidyr':\n",
      "\n",
      "    extract\n",
      "\n",
      "\n",
      "Loading required package: parallel\n",
      "\n",
      "Loading required package: dagitty\n",
      "\n",
      "rethinking (Version 1.93)\n",
      "\n",
      "\n",
      "Attaching package: 'rethinking'\n",
      "\n",
      "\n",
      "The following object is masked from 'package:purrr':\n",
      "\n",
      "    map\n",
      "\n",
      "\n",
      "The following object is masked from 'package:stats':\n",
      "\n",
      "    rstudent\n",
      "\n",
      "\n"
     ]
    }
   ],
   "source": [
    "library(tidyverse)\n",
    "\n",
    "# loads experimental branch of statistical rethinking pkg\n",
    "library(rethinking)"
   ]
  },
  {
   "cell_type": "markdown",
   "metadata": {
    "Collapsed": "false"
   },
   "source": [
    "# Chapter 16"
   ]
  },
  {
   "cell_type": "markdown",
   "metadata": {
    "Collapsed": "true",
    "heading_collapsed": true
   },
   "source": [
    "## 16.1. Geometric people"
   ]
  },
  {
   "cell_type": "code",
   "execution_count": 4,
   "metadata": {
    "Collapsed": "false",
    "ExecuteTime": {
     "end_time": "2019-12-08T06:19:49.751053Z",
     "start_time": "2019-12-08T06:19:49.601Z"
    },
    "hidden": true
   },
   "outputs": [],
   "source": [
    "data(Howell1)\n",
    "d <- Howell1 "
   ]
  },
  {
   "cell_type": "code",
   "execution_count": 5,
   "metadata": {
    "Collapsed": "false",
    "collapsed": true,
    "hidden": true,
    "jupyter": {
     "outputs_hidden": true
    }
   },
   "outputs": [
    {
     "data": {
      "text/html": [
       "<table>\n",
       "<caption>A data.frame: 6 × 4</caption>\n",
       "<thead>\n",
       "\t<tr><th scope=col>height</th><th scope=col>weight</th><th scope=col>age</th><th scope=col>male</th></tr>\n",
       "\t<tr><th scope=col>&lt;dbl&gt;</th><th scope=col>&lt;dbl&gt;</th><th scope=col>&lt;dbl&gt;</th><th scope=col>&lt;int&gt;</th></tr>\n",
       "</thead>\n",
       "<tbody>\n",
       "\t<tr><td>151.765</td><td>47.82561</td><td>63</td><td>1</td></tr>\n",
       "\t<tr><td>139.700</td><td>36.48581</td><td>63</td><td>0</td></tr>\n",
       "\t<tr><td>136.525</td><td>31.86484</td><td>65</td><td>0</td></tr>\n",
       "\t<tr><td>156.845</td><td>53.04191</td><td>41</td><td>1</td></tr>\n",
       "\t<tr><td>145.415</td><td>41.27687</td><td>51</td><td>0</td></tr>\n",
       "\t<tr><td>163.830</td><td>62.99259</td><td>35</td><td>1</td></tr>\n",
       "</tbody>\n",
       "</table>\n"
      ],
      "text/latex": [
       "A data.frame: 6 × 4\n",
       "\\begin{tabular}{r|llll}\n",
       " height & weight & age & male\\\\\n",
       " <dbl> & <dbl> & <dbl> & <int>\\\\\n",
       "\\hline\n",
       "\t 151.765 & 47.82561 & 63 & 1\\\\\n",
       "\t 139.700 & 36.48581 & 63 & 0\\\\\n",
       "\t 136.525 & 31.86484 & 65 & 0\\\\\n",
       "\t 156.845 & 53.04191 & 41 & 1\\\\\n",
       "\t 145.415 & 41.27687 & 51 & 0\\\\\n",
       "\t 163.830 & 62.99259 & 35 & 1\\\\\n",
       "\\end{tabular}\n"
      ],
      "text/markdown": [
       "\n",
       "A data.frame: 6 × 4\n",
       "\n",
       "| height &lt;dbl&gt; | weight &lt;dbl&gt; | age &lt;dbl&gt; | male &lt;int&gt; |\n",
       "|---|---|---|---|\n",
       "| 151.765 | 47.82561 | 63 | 1 |\n",
       "| 139.700 | 36.48581 | 63 | 0 |\n",
       "| 136.525 | 31.86484 | 65 | 0 |\n",
       "| 156.845 | 53.04191 | 41 | 1 |\n",
       "| 145.415 | 41.27687 | 51 | 0 |\n",
       "| 163.830 | 62.99259 | 35 | 1 |\n",
       "\n"
      ],
      "text/plain": [
       "  height  weight   age male\n",
       "1 151.765 47.82561 63  1   \n",
       "2 139.700 36.48581 63  0   \n",
       "3 136.525 31.86484 65  0   \n",
       "4 156.845 53.04191 41  1   \n",
       "5 145.415 41.27687 51  0   \n",
       "6 163.830 62.99259 35  1   "
      ]
     },
     "metadata": {},
     "output_type": "display_data"
    }
   ],
   "source": [
    "d %>% head()"
   ]
  },
  {
   "cell_type": "code",
   "execution_count": 6,
   "metadata": {
    "Collapsed": "false",
    "ExecuteTime": {
     "end_time": "2019-12-08T06:19:55.448782Z",
     "start_time": "2019-12-08T06:19:55.365Z"
    },
    "hidden": true
   },
   "outputs": [],
   "source": [
    "# scale observed variables\n",
    "d$w <- d$weight / mean(d$weight)\n",
    "d$h <- d$height / mean(d$height)"
   ]
  },
  {
   "cell_type": "code",
   "execution_count": 7,
   "metadata": {
    "Collapsed": "false",
    "ExecuteTime": {
     "end_time": "2019-12-08T06:20:02.874608Z",
     "start_time": "2019-12-08T06:20:02.762Z"
    },
    "hidden": true
   },
   "outputs": [],
   "source": [
    "## R code 16.2\n",
    "m16.1 <- ulam(\n",
    "    alist(\n",
    "        w ~ dlnorm( mu , sigma ),\n",
    "        exp(mu) <- 3.141593 * k * p^2 * h^3,\n",
    "        p ~ beta( 2 , 18 ),\n",
    "        k ~ exponential( 0.5 ),\n",
    "        sigma ~ exponential( 1 )\n",
    "    ), data=d , chains=4 , cores=4 )"
   ]
  },
  {
   "cell_type": "code",
   "execution_count": 8,
   "metadata": {
    "Collapsed": "false",
    "hidden": true
   },
   "outputs": [
    {
     "data": {
      "image/png": "[encoded data removed]",
      "text/plain": [
       "plot without title"
      ]
     },
     "metadata": {
      "image/png": {
       "height": 420,
       "width": 420
      }
     },
     "output_type": "display_data"
    }
   ],
   "source": [
    "## R code 16.3\n",
    "h_seq <- seq( from=0 , to=max(d$h) , length.out=30 )\n",
    "w_sim <- sim( m16.1 , data=list(h=h_seq) )\n",
    "mu_mean <- apply( w_sim , 2 , mean )\n",
    "w_CI <- apply( w_sim , 2 , PI )\n",
    "plot( d$h , d$w , xlim=c(0,max(d$h)) , ylim=c(0,max(d$w)) , col=rangi2 ,\n",
    "    lwd=2 , xlab=\"height (scaled)\" , ylab=\"weight (scaled)\" )\n",
    "lines( h_seq , mu_mean )\n",
    "shade( w_CI , h_seq )"
   ]
  },
  {
   "cell_type": "markdown",
   "metadata": {
    "Collapsed": "false"
   },
   "source": [
    "## 16.2. Hidden minds and observed behavior"
   ]
  },
  {
   "cell_type": "code",
   "execution_count": 3,
   "metadata": {
    "Collapsed": "false",
    "collapsed": true,
    "jupyter": {
     "outputs_hidden": true
    }
   },
   "outputs": [
    {
     "data": {
      "text/html": [
       "<table>\n",
       "<caption>A precis: 5 × 5</caption>\n",
       "<thead>\n",
       "\t<tr><th></th><th scope=col>mean</th><th scope=col>sd</th><th scope=col>5.5%</th><th scope=col>94.5%</th><th scope=col>histogram</th></tr>\n",
       "\t<tr><th></th><th scope=col>&lt;dbl&gt;</th><th scope=col>&lt;dbl&gt;</th><th scope=col>&lt;dbl&gt;</th><th scope=col>&lt;dbl&gt;</th><th scope=col>&lt;chr&gt;</th></tr>\n",
       "</thead>\n",
       "<tbody>\n",
       "\t<tr><th scope=row>y</th><td>2.1208267</td><td>0.7279860</td><td>1</td><td> 3</td><td><span style=white-space:pre-wrap>&lt;U+2583&gt;&lt;U+2581&gt;&lt;U+2581&gt;&lt;U+2581&gt;&lt;U+2587&gt;&lt;U+2581&gt;&lt;U+2581&gt;&lt;U+2581&gt;&lt;U+2581&gt;&lt;U+2585&gt;                                </span></td></tr>\n",
       "\t<tr><th scope=row>gender</th><td>1.5055644</td><td>0.5003669</td><td>1</td><td> 2</td><td><span style=white-space:pre-wrap>&lt;U+2587&gt;&lt;U+2581&gt;&lt;U+2581&gt;&lt;U+2581&gt;&lt;U+2581&gt;&lt;U+2581&gt;&lt;U+2581&gt;&lt;U+2581&gt;&lt;U+2581&gt;&lt;U+2587&gt;                                </span></td></tr>\n",
       "\t<tr><th scope=row>age</th><td>8.0302067</td><td>2.4979055</td><td>5</td><td>13</td><td><span style=white-space:pre-wrap>&lt;U+2587&gt;&lt;U+2583&gt;&lt;U+2585&gt;&lt;U+2583&gt;&lt;U+2583&gt;&lt;U+2583&gt;&lt;U+2582&gt;&lt;U+2582&gt;&lt;U+2582&gt;&lt;U+2581&gt;                                </span></td></tr>\n",
       "\t<tr><th scope=row>majority_first</th><td>0.4848967</td><td>0.5001696</td><td>0</td><td> 1</td><td><span style=white-space:pre-wrap>&lt;U+2587&gt;&lt;U+2581&gt;&lt;U+2581&gt;&lt;U+2581&gt;&lt;U+2581&gt;&lt;U+2581&gt;&lt;U+2581&gt;&lt;U+2581&gt;&lt;U+2581&gt;&lt;U+2587&gt;                                </span></td></tr>\n",
       "\t<tr><th scope=row>culture</th><td>3.7519873</td><td>1.9603189</td><td>1</td><td> 8</td><td>&lt;U+2583&gt;&lt;U+2582&gt;&lt;U+2581&gt;&lt;U+2587&gt;&lt;U+2581&gt;&lt;U+2582&gt;&lt;U+2581&gt;&lt;U+2582&gt;&lt;U+2581&gt;&lt;U+2582&gt;&lt;U+2581&gt;&lt;U+2581&gt;&lt;U+2581&gt;&lt;U+2581&gt;</td></tr>\n",
       "</tbody>\n",
       "</table>\n"
      ],
      "text/latex": [
       "A precis: 5 × 5\n",
       "\\begin{tabular}{r|lllll}\n",
       "  & mean & sd & 5.5\\% & 94.5\\% & histogram\\\\\n",
       "  & <dbl> & <dbl> & <dbl> & <dbl> & <chr>\\\\\n",
       "\\hline\n",
       "\ty & 2.1208267 & 0.7279860 & 1 &  3 & <U+2583><U+2581><U+2581><U+2581><U+2587><U+2581><U+2581><U+2581><U+2581><U+2585>                                \\\\\n",
       "\tgender & 1.5055644 & 0.5003669 & 1 &  2 & <U+2587><U+2581><U+2581><U+2581><U+2581><U+2581><U+2581><U+2581><U+2581><U+2587>                                \\\\\n",
       "\tage & 8.0302067 & 2.4979055 & 5 & 13 & <U+2587><U+2583><U+2585><U+2583><U+2583><U+2583><U+2582><U+2582><U+2582><U+2581>                                \\\\\n",
       "\tmajority\\_first & 0.4848967 & 0.5001696 & 0 &  1 & <U+2587><U+2581><U+2581><U+2581><U+2581><U+2581><U+2581><U+2581><U+2581><U+2587>                                \\\\\n",
       "\tculture & 3.7519873 & 1.9603189 & 1 &  8 & <U+2583><U+2582><U+2581><U+2587><U+2581><U+2582><U+2581><U+2582><U+2581><U+2582><U+2581><U+2581><U+2581><U+2581>\\\\\n",
       "\\end{tabular}\n"
      ],
      "text/markdown": [
       "\n",
       "A precis: 5 × 5\n",
       "\n",
       "| <!--/--> | mean &lt;dbl&gt; | sd &lt;dbl&gt; | 5.5% &lt;dbl&gt; | 94.5% &lt;dbl&gt; | histogram &lt;chr&gt; |\n",
       "|---|---|---|---|---|---|\n",
       "| y | 2.1208267 | 0.7279860 | 1 |  3 | &lt;U+2583&gt;&lt;U+2581&gt;&lt;U+2581&gt;&lt;U+2581&gt;&lt;U+2587&gt;&lt;U+2581&gt;&lt;U+2581&gt;&lt;U+2581&gt;&lt;U+2581&gt;&lt;U+2585&gt;                                 |\n",
       "| gender | 1.5055644 | 0.5003669 | 1 |  2 | &lt;U+2587&gt;&lt;U+2581&gt;&lt;U+2581&gt;&lt;U+2581&gt;&lt;U+2581&gt;&lt;U+2581&gt;&lt;U+2581&gt;&lt;U+2581&gt;&lt;U+2581&gt;&lt;U+2587&gt;                                 |\n",
       "| age | 8.0302067 | 2.4979055 | 5 | 13 | &lt;U+2587&gt;&lt;U+2583&gt;&lt;U+2585&gt;&lt;U+2583&gt;&lt;U+2583&gt;&lt;U+2583&gt;&lt;U+2582&gt;&lt;U+2582&gt;&lt;U+2582&gt;&lt;U+2581&gt;                                 |\n",
       "| majority_first | 0.4848967 | 0.5001696 | 0 |  1 | &lt;U+2587&gt;&lt;U+2581&gt;&lt;U+2581&gt;&lt;U+2581&gt;&lt;U+2581&gt;&lt;U+2581&gt;&lt;U+2581&gt;&lt;U+2581&gt;&lt;U+2581&gt;&lt;U+2587&gt;                                 |\n",
       "| culture | 3.7519873 | 1.9603189 | 1 |  8 | &lt;U+2583&gt;&lt;U+2582&gt;&lt;U+2581&gt;&lt;U+2587&gt;&lt;U+2581&gt;&lt;U+2582&gt;&lt;U+2581&gt;&lt;U+2582&gt;&lt;U+2581&gt;&lt;U+2582&gt;&lt;U+2581&gt;&lt;U+2581&gt;&lt;U+2581&gt;&lt;U+2581&gt; |\n",
       "\n"
      ],
      "text/plain": [
       "               mean      sd        5.5% 94.5%\n",
       "y              2.1208267 0.7279860 1     3   \n",
       "gender         1.5055644 0.5003669 1     2   \n",
       "age            8.0302067 2.4979055 5    13   \n",
       "majority_first 0.4848967 0.5001696 0     1   \n",
       "culture        3.7519873 1.9603189 1     8   \n",
       "               histogram                                                                                                       \n",
       "y              <U+2583><U+2581><U+2581><U+2581><U+2587><U+2581><U+2581><U+2581><U+2581><U+2585>                                \n",
       "gender         <U+2587><U+2581><U+2581><U+2581><U+2581><U+2581><U+2581><U+2581><U+2581><U+2587>                                \n",
       "age            <U+2587><U+2583><U+2585><U+2583><U+2583><U+2583><U+2582><U+2582><U+2582><U+2581>                                \n",
       "majority_first <U+2587><U+2581><U+2581><U+2581><U+2581><U+2581><U+2581><U+2581><U+2581><U+2587>                                \n",
       "culture        <U+2583><U+2582><U+2581><U+2587><U+2581><U+2582><U+2581><U+2582><U+2581><U+2582><U+2581><U+2581><U+2581><U+2581>"
      ]
     },
     "metadata": {},
     "output_type": "display_data"
    }
   ],
   "source": [
    "data(Boxes)\n",
    "precis(Boxes)"
   ]
  },
  {
   "cell_type": "code",
   "execution_count": 4,
   "metadata": {
    "Collapsed": "false"
   },
   "outputs": [
    {
     "data": {
      "text/plain": [
       "\n",
       "        1         2         3 \n",
       "0.2114467 0.4562798 0.3322734 "
      ]
     },
     "metadata": {},
     "output_type": "display_data"
    }
   ],
   "source": [
    "table( Boxes$y ) / length( Boxes$y )"
   ]
  },
  {
   "cell_type": "code",
   "execution_count": 5,
   "metadata": {
    "Collapsed": "false"
   },
   "outputs": [
    {
     "data": {
      "text/plain": [
       "\n",
       "  1   2   3 \n",
       "133 287 209 "
      ]
     },
     "metadata": {},
     "output_type": "display_data"
    }
   ],
   "source": [
    "table( Boxes$y )"
   ]
  },
  {
   "cell_type": "code",
   "execution_count": 7,
   "metadata": {
    "Collapsed": "false"
   },
   "outputs": [
    {
     "data": {
      "text/html": [
       "629"
      ],
      "text/latex": [
       "629"
      ],
      "text/markdown": [
       "629"
      ],
      "text/plain": [
       "[1] 629"
      ]
     },
     "metadata": {},
     "output_type": "display_data"
    }
   ],
   "source": [
    "length( Boxes$y )"
   ]
  },
  {
   "cell_type": "code",
   "execution_count": 10,
   "metadata": {
    "Collapsed": "false"
   },
   "outputs": [
    {
     "data": {
      "text/html": [
       "0.733333333333333"
      ],
      "text/latex": [
       "0.733333333333333"
      ],
      "text/markdown": [
       "0.733333333333333"
      ],
      "text/plain": [
       "[1] 0.7333333"
      ]
     },
     "metadata": {},
     "output_type": "display_data"
    }
   ],
   "source": [
    "set.seed(7)\n",
    "N <- 30 # number of children\n",
    "\n",
    "# half are random\n",
    "# sample from 1,2,3 at random for each\n",
    "y1 <- sample( 1:3 , size=N/2 , replace=TRUE )\n",
    "\n",
    "# half follow majority\n",
    "y2 <- rep( 2 , N/2 )\n",
    "\n",
    "# combine and shuffle y1 and y2\n",
    "y <- sample( c(y1,y2) )\n",
    "\n",
    "# count the 2s\n",
    "sum(y==2)/N"
   ]
  },
  {
   "cell_type": "markdown",
   "metadata": {
    "Collapsed": "false"
   },
   "source": [
    "About two-thirds of the choices are for the majority color, but only half the children are\n",
    "actually following the majority. The above is only one simulation, but it demonstrates the\n",
    "problem. When different hidden strategies can produce the same behavior, inference about\n",
    "strategy is more complicated than just counting behavior."
   ]
  },
  {
   "cell_type": "markdown",
   "metadata": {
    "Collapsed": "false"
   },
   "source": [
    "Now we need a statistical model that reflects the generative model above. <font color = 'blue'>Remember, statistical models run in reverse of generative models. \n",
    "    \n",
    "* In the generative model, we assume strategies and simulate observed behavior. \n",
    "    \n",
    "* In the statistical model, we instead assume observed behavior (the data) and simulate strategies (parameters)</font>. \n",
    "\n",
    "In this example, we can’t directly measure each child’s strategy. It is an unobserved variable. \n",
    "\n",
    "* But each strategy has a specific probability of producing each choice. We can use that fact to compute the probability of each choice, given parameters which specify the probability of each strategy. \n",
    "\n",
    "* Then we let Bayes loose and get the posterior distribution of each strategy back. \n",
    "\n",
    "<b><font color = 'purple'>Before we can let Bayes loose, we’ll need to enumerate the parameters, assign priors to each, and also figure out some technical issues for coding. </font></b> I’ll move through these tasks slowly. \n",
    "\n",
    "<font color = 'blue'>The unobserved variables are the probabilities that a child uses each of the five strategies.</font> This means five values, but since these must sum to one, we need only four parameters. There is a variable type called a <span style='background-color: lightgreen'>simplex</span> that handles this for us. <font color = 'green'>A simplex is a vector of values that must sum to some constant, usually one.</font> \n",
    "\n",
    "> <font color = 'green'>Stan allows us to declare a vector of parameters as a simplex, and then Stan handles the bookkeeping of the constant sum for us</font>. We can give this simplex a Dirichlet prior, which is a prior for probability distributions. \n",
    "\n",
    "We used both Dirichlet and a simplex already back in Chapter 12 to construct ordered categorical predictors (page 405). We’ll use a weak uniform prior on the simplex of strategy probabilities, which we’ll label p: "
   ]
  },
  {
   "cell_type": "markdown",
   "metadata": {
    "Collapsed": "false"
   },
   "source": [
    "$p ∼ Dirichlet([4, 4, 4, 4, 4])$"
   ]
  },
  {
   "cell_type": "markdown",
   "metadata": {
    "Collapsed": "false"
   },
   "source": [
    "As you saw back in Chapter 12, this prior doesn’t mean that we expect the strategies to be equally probable. Instead it <font color = 'blue'>means that we expect that any one of them could be more or less probable than any other</font>. If you make those 4s larger, the prior starts to say that we expect them to be actually equal."
   ]
  }
 ],
 "metadata": {
  "hide_input": false,
  "kernelspec": {
   "display_name": "R",
   "language": "R",
   "name": "ir"
  },
  "language_info": {
   "codemirror_mode": "r",
   "file_extension": ".r",
   "mimetype": "text/x-r-source",
   "name": "R",
   "pygments_lexer": "r",
   "version": "3.6.1"
  },
  "toc": {
   "base_numbering": 1,
   "nav_menu": {},
   "number_sections": true,
   "sideBar": true,
   "skip_h1_title": false,
   "title_cell": "Table of Contents",
   "title_sidebar": "Contents",
   "toc_cell": true,
   "toc_position": {},
   "toc_section_display": true,
   "toc_window_display": false
  }
 },
 "nbformat": 4,
 "nbformat_minor": 4
}
