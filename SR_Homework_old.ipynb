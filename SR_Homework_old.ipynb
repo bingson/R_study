{
 "cells": [
  {
   "cell_type": "markdown",
   "metadata": {
    "toc": true
   },
   "source": [
    "<h1>Table of Contents<span class=\"tocSkip\"></span></h1>\n",
    "<div class=\"toc\"><ul class=\"toc-item\"><li><span><a href=\"#wk-1\" data-toc-modified-id=\"wk-1-1\"><span class=\"toc-item-num\">1&nbsp;&nbsp;</span>wk 1</a></span></li><li><span><a href=\"#wk-2\" data-toc-modified-id=\"wk-2-2\"><span class=\"toc-item-num\">2&nbsp;&nbsp;</span>wk 2</a></span><ul class=\"toc-item\"><li><span><a href=\"#predict-heights-and-compatibility-intervals\" data-toc-modified-id=\"predict-heights-and-compatibility-intervals-2.1\"><span class=\"toc-item-num\">2.1&nbsp;&nbsp;</span>predict heights and compatibility intervals</a></span></li><li><span><a href=\"#relationship-between-height-(cm)-and-the-natural-logarithm-of-weight-(log-kg)\" data-toc-modified-id=\"relationship-between-height-(cm)-and-the-natural-logarithm-of-weight-(log-kg)-2.2\"><span class=\"toc-item-num\">2.2&nbsp;&nbsp;</span>relationship between height (cm) and the natural logarithm of weight (log-kg)</a></span></li><li><span><a href=\"#Prior-Predictive-Simulation\" data-toc-modified-id=\"Prior-Predictive-Simulation-2.3\"><span class=\"toc-item-num\">2.3&nbsp;&nbsp;</span>Prior Predictive Simulation</a></span></li></ul></li><li><span><a href=\"#wk-3\" data-toc-modified-id=\"wk-3-3\"><span class=\"toc-item-num\">3&nbsp;&nbsp;</span>wk 3</a></span></li><li><span><a href=\"#wk-4\" data-toc-modified-id=\"wk-4-4\"><span class=\"toc-item-num\">4&nbsp;&nbsp;</span>wk 4</a></span><ul class=\"toc-item\"><li><span><a href=\"#Polynesian-islands\" data-toc-modified-id=\"Polynesian-islands-4.1\"><span class=\"toc-item-num\">4.1&nbsp;&nbsp;</span>Polynesian islands</a></span></li><li><span><a href=\"#marriage,-age,-and-happiness-collider-bias-example\" data-toc-modified-id=\"marriage,-age,-and-happiness-collider-bias-example-4.2\"><span class=\"toc-item-num\">4.2&nbsp;&nbsp;</span>marriage, age, and happiness collider bias example</a></span></li><li><span><a href=\"#Reconsider-the-urban-fox-analysis-from-last-week’s-homework.\" data-toc-modified-id=\"Reconsider-the-urban-fox-analysis-from-last-week’s-homework.-4.3\"><span class=\"toc-item-num\">4.3&nbsp;&nbsp;</span>Reconsider the urban fox analysis from last week’s homework.</a></span></li><li><span><a href=\"#misc\" data-toc-modified-id=\"misc-4.4\"><span class=\"toc-item-num\">4.4&nbsp;&nbsp;</span>misc</a></span></li></ul></li><li><span><a href=\"#wk-5\" data-toc-modified-id=\"wk-5-5\"><span class=\"toc-item-num\">5&nbsp;&nbsp;</span>wk 5</a></span><ul class=\"toc-item\"><li><span><a href=\"#consider-only-variation-among-judges-and-wines.\" data-toc-modified-id=\"consider-only-variation-among-judges-and-wines.-5.1\"><span class=\"toc-item-num\">5.1&nbsp;&nbsp;</span>consider only variation among judges and wines.</a></span></li><li><span><a href=\"#Now-consider-three-features-of-the-wines-and-judges:\" data-toc-modified-id=\"Now-consider-three-features-of-the-wines-and-judges:-5.2\"><span class=\"toc-item-num\">5.2&nbsp;&nbsp;</span>Now consider three features of the wines and judges:</a></span></li><li><span><a href=\"#Now-consider-two-way-interactions-among-the-three-features\" data-toc-modified-id=\"Now-consider-two-way-interactions-among-the-three-features-5.3\"><span class=\"toc-item-num\">5.3&nbsp;&nbsp;</span>Now consider two-way interactions among the three features</a></span></li></ul></li><li><span><a href=\"#wk-6\" data-toc-modified-id=\"wk-6-6\"><span class=\"toc-item-num\">6&nbsp;&nbsp;</span>wk 6</a></span></li><li><span><a href=\"#wk-7\" data-toc-modified-id=\"wk-7-7\"><span class=\"toc-item-num\">7&nbsp;&nbsp;</span>wk 7</a></span><ul class=\"toc-item\"><li><span><a href=\"#Q1\" data-toc-modified-id=\"Q1-7.1\"><span class=\"toc-item-num\">7.1&nbsp;&nbsp;</span>Q1</a></span></li><li><span><a href=\"#Q2\" data-toc-modified-id=\"Q2-7.2\"><span class=\"toc-item-num\">7.2&nbsp;&nbsp;</span>Q2</a></span></li><li><span><a href=\"#Q3-consider-how-brain-size-is-associated-with-social-learning.\" data-toc-modified-id=\"Q3-consider-how-brain-size-is-associated-with-social-learning.-7.3\"><span class=\"toc-item-num\">7.3&nbsp;&nbsp;</span>Q3 consider how brain size is associated with social learning.</a></span></li></ul></li><li><span><a href=\"#wk-8\" data-toc-modified-id=\"wk-8-8\"><span class=\"toc-item-num\">8&nbsp;&nbsp;</span>wk 8</a></span><ul class=\"toc-item\"><li><span><a href=\"#Q1\" data-toc-modified-id=\"Q1-8.1\"><span class=\"toc-item-num\">8.1&nbsp;&nbsp;</span>Q1</a></span></li><li><span><a href=\"#Q2\" data-toc-modified-id=\"Q2-8.2\"><span class=\"toc-item-num\">8.2&nbsp;&nbsp;</span>Q2</a></span></li><li><span><a href=\"#Q3\" data-toc-modified-id=\"Q3-8.3\"><span class=\"toc-item-num\">8.3&nbsp;&nbsp;</span>Q3</a></span></li></ul></li></ul></div>"
   ]
  },
  {
   "cell_type": "markdown",
   "metadata": {},
   "source": [
    "# wk 1"
   ]
  },
  {
   "cell_type": "markdown",
   "metadata": {},
   "source": [
    "# wk 2"
   ]
  },
  {
   "cell_type": "markdown",
   "metadata": {},
   "source": [
    "## predict heights and compatibility intervals "
   ]
  },
  {
   "cell_type": "markdown",
   "metadata": {},
   "source": [
    "<b><font color = 'purple'> Provide predicted heights and 89% compatibility intervals for each of these individuals. \n",
    "\n",
    "```weights <- c(45,40,65,31,53)```\n",
    "\n",
    " Using model-based predictions, predict the height associated with these weights. </font></b>"
   ]
  },
  {
   "cell_type": "markdown",
   "metadata": {},
   "source": [
    "The weights that interest us are all adult weights, so we can analyze only\n",
    "the adults and make an okay linear approximation. If you did something\n",
    "else, that’s okay. I deliberately made the question a little vague. Loading the\n",
    "data, selecting out adults, and doing the regression from the book:"
   ]
  },
  {
   "cell_type": "code",
   "execution_count": 9,
   "metadata": {
    "ExecuteTime": {
     "end_time": "2020-02-13T19:52:07.140164Z",
     "start_time": "2020-02-13T19:52:07.035Z"
    }
   },
   "outputs": [],
   "source": [
    "library(rethinking)\n",
    "data(Howell1)\n",
    "d <- Howell1\n",
    "d2 <- d[ d$age >= 18 , ]\n",
    "xbar <- mean(d2$weight)"
   ]
  },
  {
   "cell_type": "code",
   "execution_count": 8,
   "metadata": {
    "ExecuteTime": {
     "end_time": "2020-02-13T19:52:04.423472Z",
     "start_time": "2020-02-13T19:52:04.338Z"
    }
   },
   "outputs": [],
   "source": [
    "m4.3 <- quap(\n",
    "    alist(\n",
    "        height ~ dnorm( mu , sigma ) ,\n",
    "        mu <- a + b*( weight - xbar ) ,\n",
    "        a ~ dnorm( 178 , 20 ) ,\n",
    "        b ~ dlnorm( 0 , 1 ) ,\n",
    "        sigma ~ dunif( 0 , 50 )\n",
    "    ) ,\n",
    "    data=d2 )"
   ]
  },
  {
   "cell_type": "markdown",
   "metadata": {},
   "source": [
    "<b><font color = 'purple'>Now we need posterior predictions for each case in the table </font></b>. \n",
    "\n",
    "Easiest way to do this is to use sim. <b><font color = 'blue'>We need sim, not just link, because we are trying to predict an individual’s height. </font><font color = 'red'>So the relevant compatibility interval includes the Gaussian variance from sigma</b>. </font>\n",
    "\n",
    "If you provided only the compatibility interval for µ, that’s okay. But be sure you understand the difference."
   ]
  },
  {
   "cell_type": "code",
   "execution_count": 18,
   "metadata": {
    "ExecuteTime": {
     "end_time": "2020-02-13T20:26:28.636420Z",
     "start_time": "2020-02-13T20:26:28.262Z"
    }
   },
   "outputs": [],
   "source": [
    "dat <- data.frame( weight=c(45,40,65,31,53) )\n",
    "\n",
    "h_sim <- sim( m4.3 , data=dat )\n",
    "# 10,000 simulations of the height prediction for each weight \n",
    "# each column represents a set of height predictions for a particular weight input\n",
    "\n",
    "Eh <- apply(h_sim,2,mean)\n",
    "h_ci <- apply(h_sim,2,PI,prob=0.89)"
   ]
  },
  {
   "cell_type": "code",
   "execution_count": 33,
   "metadata": {
    "ExecuteTime": {
     "end_time": "2020-02-13T22:27:27.350721Z",
     "start_time": "2020-02-13T22:27:27.295Z"
    }
   },
   "outputs": [
    {
     "data": {
      "text/html": [
       "<style>\n",
       ".list-inline {list-style: none; margin:0; padding: 0}\n",
       ".list-inline>li {display: inline-block}\n",
       ".list-inline>li:not(:last-child)::after {content: \"\\00b7\"; padding: 0 .5ex}\n",
       "</style>\n",
       "<ol class=list-inline><li>154.773159694543</li><li>149.960262224188</li><li>172.64703077233</li><li>142.01475949352</li><li>161.782727341624</li></ol>\n"
      ],
      "text/latex": [
       "\\begin{enumerate*}\n",
       "\\item 154.773159694543\n",
       "\\item 149.960262224188\n",
       "\\item 172.64703077233\n",
       "\\item 142.01475949352\n",
       "\\item 161.782727341624\n",
       "\\end{enumerate*}\n"
      ],
      "text/markdown": [
       "1. 154.773159694543\n",
       "2. 149.960262224188\n",
       "3. 172.64703077233\n",
       "4. 142.01475949352\n",
       "5. 161.782727341624\n",
       "\n",
       "\n"
      ],
      "text/plain": [
       "[1] 154.7732 149.9603 172.6470 142.0148 161.7827"
      ]
     },
     "metadata": {},
     "output_type": "display_data"
    }
   ],
   "source": [
    "Eh"
   ]
  },
  {
   "cell_type": "code",
   "execution_count": 28,
   "metadata": {
    "ExecuteTime": {
     "end_time": "2020-02-13T22:02:54.994194Z",
     "start_time": "2020-02-13T22:02:54.947Z"
    }
   },
   "outputs": [
    {
     "data": {
      "text/plain": [
       "   Min. 1st Qu.  Median    Mean 3rd Qu.    Max. \n",
       "  137.4   151.5   154.8   154.8   158.2   169.1 "
      ]
     },
     "metadata": {},
     "output_type": "display_data"
    }
   ],
   "source": [
    "h_sim[,1] %>% summary()"
   ]
  },
  {
   "cell_type": "code",
   "execution_count": 19,
   "metadata": {
    "ExecuteTime": {
     "end_time": "2020-02-13T22:01:06.948138Z",
     "start_time": "2020-02-13T22:01:06.874Z"
    }
   },
   "outputs": [
    {
     "data": {
      "text/html": [
       "<table>\n",
       "<caption>A matrix: 6 × 5 of type dbl</caption>\n",
       "<tbody>\n",
       "\t<tr><td>151.2690</td><td>159.3785</td><td>171.8398</td><td>146.1656</td><td>159.2732</td></tr>\n",
       "\t<tr><td>146.1567</td><td>144.1262</td><td>180.0244</td><td>133.2396</td><td>168.8089</td></tr>\n",
       "\t<tr><td>153.5292</td><td>156.2753</td><td>171.1845</td><td>134.9248</td><td>158.7660</td></tr>\n",
       "\t<tr><td>148.4600</td><td>151.4807</td><td>171.8021</td><td>142.2844</td><td>165.3471</td></tr>\n",
       "\t<tr><td>153.6891</td><td>142.9431</td><td>173.2451</td><td>150.8968</td><td>153.7825</td></tr>\n",
       "\t<tr><td>155.2776</td><td>149.4766</td><td>176.3904</td><td>131.9514</td><td>158.4453</td></tr>\n",
       "</tbody>\n",
       "</table>\n"
      ],
      "text/latex": [
       "A matrix: 6 × 5 of type dbl\n",
       "\\begin{tabular}{lllll}\n",
       "\t 151.2690 & 159.3785 & 171.8398 & 146.1656 & 159.2732\\\\\n",
       "\t 146.1567 & 144.1262 & 180.0244 & 133.2396 & 168.8089\\\\\n",
       "\t 153.5292 & 156.2753 & 171.1845 & 134.9248 & 158.7660\\\\\n",
       "\t 148.4600 & 151.4807 & 171.8021 & 142.2844 & 165.3471\\\\\n",
       "\t 153.6891 & 142.9431 & 173.2451 & 150.8968 & 153.7825\\\\\n",
       "\t 155.2776 & 149.4766 & 176.3904 & 131.9514 & 158.4453\\\\\n",
       "\\end{tabular}\n"
      ],
      "text/markdown": [
       "\n",
       "A matrix: 6 × 5 of type dbl\n",
       "\n",
       "| 151.2690 | 159.3785 | 171.8398 | 146.1656 | 159.2732 |\n",
       "| 146.1567 | 144.1262 | 180.0244 | 133.2396 | 168.8089 |\n",
       "| 153.5292 | 156.2753 | 171.1845 | 134.9248 | 158.7660 |\n",
       "| 148.4600 | 151.4807 | 171.8021 | 142.2844 | 165.3471 |\n",
       "| 153.6891 | 142.9431 | 173.2451 | 150.8968 | 153.7825 |\n",
       "| 155.2776 | 149.4766 | 176.3904 | 131.9514 | 158.4453 |\n",
       "\n"
      ],
      "text/plain": [
       "     [,1]     [,2]     [,3]     [,4]     [,5]    \n",
       "[1,] 151.2690 159.3785 171.8398 146.1656 159.2732\n",
       "[2,] 146.1567 144.1262 180.0244 133.2396 168.8089\n",
       "[3,] 153.5292 156.2753 171.1845 134.9248 158.7660\n",
       "[4,] 148.4600 151.4807 171.8021 142.2844 165.3471\n",
       "[5,] 153.6891 142.9431 173.2451 150.8968 153.7825\n",
       "[6,] 155.2776 149.4766 176.3904 131.9514 158.4453"
      ]
     },
     "metadata": {},
     "output_type": "display_data"
    }
   ],
   "source": [
    "h_sim %>% head"
   ]
  },
  {
   "cell_type": "markdown",
   "metadata": {},
   "source": [
    "Now all in table form:"
   ]
  },
  {
   "cell_type": "code",
   "execution_count": 34,
   "metadata": {
    "ExecuteTime": {
     "end_time": "2020-02-13T22:48:13.823072Z",
     "start_time": "2020-02-13T22:48:13.760Z"
    }
   },
   "outputs": [
    {
     "data": {
      "text/html": [
       "<table>\n",
       "<caption>A data.frame: 5 × 4</caption>\n",
       "<thead>\n",
       "\t<tr><th scope=col>weight</th><th scope=col>Eh</th><th scope=col>L89</th><th scope=col>U89</th></tr>\n",
       "\t<tr><th scope=col>&lt;dbl&gt;</th><th scope=col>&lt;dbl&gt;</th><th scope=col>&lt;dbl&gt;</th><th scope=col>&lt;dbl&gt;</th></tr>\n",
       "</thead>\n",
       "<tbody>\n",
       "\t<tr><td>45</td><td>154.8</td><td>146.5</td><td>162.6</td></tr>\n",
       "\t<tr><td>40</td><td>150.0</td><td>141.9</td><td>158.9</td></tr>\n",
       "\t<tr><td>65</td><td>172.6</td><td>164.3</td><td>181.2</td></tr>\n",
       "\t<tr><td>31</td><td>142.0</td><td>133.9</td><td>150.0</td></tr>\n",
       "\t<tr><td>53</td><td>161.8</td><td>153.8</td><td>170.0</td></tr>\n",
       "</tbody>\n",
       "</table>\n"
      ],
      "text/latex": [
       "A data.frame: 5 × 4\n",
       "\\begin{tabular}{llll}\n",
       " weight & Eh & L89 & U89\\\\\n",
       " <dbl> & <dbl> & <dbl> & <dbl>\\\\\n",
       "\\hline\n",
       "\t 45 & 154.8 & 146.5 & 162.6\\\\\n",
       "\t 40 & 150.0 & 141.9 & 158.9\\\\\n",
       "\t 65 & 172.6 & 164.3 & 181.2\\\\\n",
       "\t 31 & 142.0 & 133.9 & 150.0\\\\\n",
       "\t 53 & 161.8 & 153.8 & 170.0\\\\\n",
       "\\end{tabular}\n"
      ],
      "text/markdown": [
       "\n",
       "A data.frame: 5 × 4\n",
       "\n",
       "| weight &lt;dbl&gt; | Eh &lt;dbl&gt; | L89 &lt;dbl&gt; | U89 &lt;dbl&gt; |\n",
       "|---|---|---|---|\n",
       "| 45 | 154.8 | 146.5 | 162.6 |\n",
       "| 40 | 150.0 | 141.9 | 158.9 |\n",
       "| 65 | 172.6 | 164.3 | 181.2 |\n",
       "| 31 | 142.0 | 133.9 | 150.0 |\n",
       "| 53 | 161.8 | 153.8 | 170.0 |\n",
       "\n"
      ],
      "text/plain": [
       "  weight Eh    L89   U89  \n",
       "1 45     154.8 146.5 162.6\n",
       "2 40     150.0 141.9 158.9\n",
       "3 65     172.6 164.3 181.2\n",
       "4 31     142.0 133.9 150.0\n",
       "5 53     161.8 153.8 170.0"
      ]
     },
     "metadata": {},
     "output_type": "display_data"
    }
   ],
   "source": [
    "dat$Eh <- Eh\n",
    "dat$L89 <- h_ci[1,]\n",
    "dat$U89 <- h_ci[2,]\n",
    "round(dat,1)"
   ]
  },
  {
   "cell_type": "markdown",
   "metadata": {
    "heading_collapsed": true
   },
   "source": [
    "##### SIM under the hood\n"
   ]
  },
  {
   "cell_type": "code",
   "execution_count": 29,
   "metadata": {
    "ExecuteTime": {
     "end_time": "2020-02-13T22:26:47.935992Z",
     "start_time": "2020-02-13T22:26:47.857Z"
    },
    "hidden": true
   },
   "outputs": [],
   "source": [
    "# SIM under the hood\n",
    "post <- extract.samples(m4.3) \n",
    "weight.seq <- c(45,40,65,31,53)\n",
    "\n",
    "\n",
    "sim.height <- sapply( weight.seq , function(weight)\n",
    "    rnorm( \n",
    "        n=nrow(post) ,\n",
    "        mean=post$a + post$b*( weight - xbar ) ,\n",
    "        sd=post$sigma ) )\n",
    "# 10,000 simulations of the height prediction for each weight \n",
    "# each column represents a set of height predictions for a particular weight input\n",
    "\n",
    "expected_heights <- apply( sim.height , 2 , mean)                      \n",
    "height.PI <- apply( sim.height , 2 , PI , prob=0.89 )"
   ]
  },
  {
   "cell_type": "code",
   "execution_count": 32,
   "metadata": {
    "ExecuteTime": {
     "end_time": "2020-02-13T22:27:20.373965Z",
     "start_time": "2020-02-13T22:27:20.331Z"
    },
    "hidden": true
   },
   "outputs": [
    {
     "data": {
      "text/html": [
       "<style>\n",
       ".list-inline {list-style: none; margin:0; padding: 0}\n",
       ".list-inline>li {display: inline-block}\n",
       ".list-inline>li:not(:last-child)::after {content: \"\\00b7\"; padding: 0 .5ex}\n",
       "</style>\n",
       "<ol class=list-inline><li>154.637405568402</li><li>150.151626071841</li><li>172.796251087633</li><li>141.777617022675</li><li>161.810606486808</li></ol>\n"
      ],
      "text/latex": [
       "\\begin{enumerate*}\n",
       "\\item 154.637405568402\n",
       "\\item 150.151626071841\n",
       "\\item 172.796251087633\n",
       "\\item 141.777617022675\n",
       "\\item 161.810606486808\n",
       "\\end{enumerate*}\n"
      ],
      "text/markdown": [
       "1. 154.637405568402\n",
       "2. 150.151626071841\n",
       "3. 172.796251087633\n",
       "4. 141.777617022675\n",
       "5. 161.810606486808\n",
       "\n",
       "\n"
      ],
      "text/plain": [
       "[1] 154.6374 150.1516 172.7963 141.7776 161.8106"
      ]
     },
     "metadata": {},
     "output_type": "display_data"
    }
   ],
   "source": [
    "expected_heights "
   ]
  },
  {
   "cell_type": "code",
   "execution_count": 27,
   "metadata": {
    "ExecuteTime": {
     "end_time": "2020-02-13T22:02:37.497008Z",
     "start_time": "2020-02-13T22:02:37.445Z"
    },
    "collapsed": true,
    "hidden": true
   },
   "outputs": [
    {
     "data": {
      "text/html": [
       "<table>\n",
       "<caption>A matrix: 6 × 5 of type dbl</caption>\n",
       "<tbody>\n",
       "\t<tr><td>158.9053</td><td>158.6291</td><td>168.2353</td><td>142.0849</td><td>160.9284</td></tr>\n",
       "\t<tr><td>148.9443</td><td>153.7130</td><td>169.6917</td><td>151.0368</td><td>169.2770</td></tr>\n",
       "\t<tr><td>157.9636</td><td>147.4133</td><td>178.4411</td><td>146.8059</td><td>169.7294</td></tr>\n",
       "\t<tr><td>141.5763</td><td>141.3270</td><td>168.5090</td><td>141.2683</td><td>160.5098</td></tr>\n",
       "\t<tr><td>158.0450</td><td>147.8916</td><td>166.5478</td><td>144.4662</td><td>153.8646</td></tr>\n",
       "\t<tr><td>152.9050</td><td>146.7453</td><td>160.9594</td><td>134.6328</td><td>156.4622</td></tr>\n",
       "</tbody>\n",
       "</table>\n"
      ],
      "text/latex": [
       "A matrix: 6 × 5 of type dbl\n",
       "\\begin{tabular}{lllll}\n",
       "\t 158.9053 & 158.6291 & 168.2353 & 142.0849 & 160.9284\\\\\n",
       "\t 148.9443 & 153.7130 & 169.6917 & 151.0368 & 169.2770\\\\\n",
       "\t 157.9636 & 147.4133 & 178.4411 & 146.8059 & 169.7294\\\\\n",
       "\t 141.5763 & 141.3270 & 168.5090 & 141.2683 & 160.5098\\\\\n",
       "\t 158.0450 & 147.8916 & 166.5478 & 144.4662 & 153.8646\\\\\n",
       "\t 152.9050 & 146.7453 & 160.9594 & 134.6328 & 156.4622\\\\\n",
       "\\end{tabular}\n"
      ],
      "text/markdown": [
       "\n",
       "A matrix: 6 × 5 of type dbl\n",
       "\n",
       "| 158.9053 | 158.6291 | 168.2353 | 142.0849 | 160.9284 |\n",
       "| 148.9443 | 153.7130 | 169.6917 | 151.0368 | 169.2770 |\n",
       "| 157.9636 | 147.4133 | 178.4411 | 146.8059 | 169.7294 |\n",
       "| 141.5763 | 141.3270 | 168.5090 | 141.2683 | 160.5098 |\n",
       "| 158.0450 | 147.8916 | 166.5478 | 144.4662 | 153.8646 |\n",
       "| 152.9050 | 146.7453 | 160.9594 | 134.6328 | 156.4622 |\n",
       "\n"
      ],
      "text/plain": [
       "     [,1]     [,2]     [,3]     [,4]     [,5]    \n",
       "[1,] 158.9053 158.6291 168.2353 142.0849 160.9284\n",
       "[2,] 148.9443 153.7130 169.6917 151.0368 169.2770\n",
       "[3,] 157.9636 147.4133 178.4411 146.8059 169.7294\n",
       "[4,] 141.5763 141.3270 168.5090 141.2683 160.5098\n",
       "[5,] 158.0450 147.8916 166.5478 144.4662 153.8646\n",
       "[6,] 152.9050 146.7453 160.9594 134.6328 156.4622"
      ]
     },
     "metadata": {},
     "output_type": "display_data"
    }
   ],
   "source": [
    "sim.height %>% head"
   ]
  },
  {
   "cell_type": "code",
   "execution_count": 26,
   "metadata": {
    "ExecuteTime": {
     "end_time": "2020-02-13T22:02:14.999384Z",
     "start_time": "2020-02-13T22:02:14.941Z"
    },
    "hidden": true
   },
   "outputs": [
    {
     "data": {
      "text/plain": [
       "   Min. 1st Qu.  Median    Mean 3rd Qu.    Max. \n",
       "  134.8   151.1   154.6   154.5   157.9   173.4 "
      ]
     },
     "metadata": {},
     "output_type": "display_data"
    }
   ],
   "source": [
    "sim.height[,1] %>% summary()"
   ]
  },
  {
   "cell_type": "markdown",
   "metadata": {},
   "source": [
    "## relationship between height (cm) and the natural logarithm of weight (log-kg)"
   ]
  },
  {
   "cell_type": "markdown",
   "metadata": {},
   "source": [
    "<b><font color = 'purple'>Model the relationship between height (cm) and the natural logarithm of\n",
    "weight (log-kg): log(weight). \n",
    "    \n",
    "  Use the entire Howell1 data frame, all 544\n",
    "rows, adults and non-adults. \n",
    "    \n",
    "Use any model type from Chapter 4 that you\n",
    "think useful: an ordinary linear regression, a polynomial or a spline. \n",
    "    \n",
    "Plot the posterior predictions against the raw data. </font></b>"
   ]
  },
  {
   "cell_type": "code",
   "execution_count": 40,
   "metadata": {
    "ExecuteTime": {
     "end_time": "2020-02-14T06:34:23.066560Z",
     "start_time": "2020-02-14T06:34:22.960Z"
    }
   },
   "outputs": [],
   "source": [
    "d$log_weight <- log(d$weight)\n",
    "xbar <- mean(d$log_weight)\n",
    "m2 <- quap( alist(\n",
    "        height ~ dnorm( mu , sigma ) ,\n",
    "        mu <- a + b*( log_weight - xbar ) ,\n",
    "        a ~ dnorm( 178 , 20 ) ,\n",
    "        b ~ dlnorm( 0 , 1 ) ,\n",
    "        sigma ~ dunif( 0 , 50 )\n",
    "    ) ,\n",
    "    data=d )"
   ]
  },
  {
   "cell_type": "code",
   "execution_count": 41,
   "metadata": {
    "ExecuteTime": {
     "end_time": "2020-02-14T06:34:25.282100Z",
     "start_time": "2020-02-14T06:34:24.768Z"
    }
   },
   "outputs": [
    {
     "data": {
      "image/png": "[encoded data removed]",
      "text/plain": [
       "plot without title"
      ]
     },
     "metadata": {
      "image/png": {
       "height": 420,
       "width": 420
      }
     },
     "output_type": "display_data"
    }
   ],
   "source": [
    "plot( d$weight , d$height , col=col.alpha(rangi2,0.7) )\n",
    "\n",
    "x_seq <- log(1:60) # sequence of x-values on log scale\n",
    "\n",
    "mu <- sim( m2 , data=list(log_weight=x_seq) )\n",
    "# 1,000 simulations of the height prediction for each weight \n",
    "# each column represents a set of height predictions for a particular weight input\n",
    "\n",
    "mu_mean <- apply(mu,2,mean)  # mean height predicted for each weight input\n",
    "mu_ci <- apply(mu,2,PI,0.99) # compatability interval\n",
    "\n",
    "lines( exp(x_seq) , mu_mean )  # adds mean height to plot\n",
    "shade( mu_ci , exp(x_seq) )    # adds shaded compatability interval to plot"
   ]
  },
  {
   "cell_type": "markdown",
   "metadata": {},
   "source": [
    "##### Improving the model"
   ]
  },
  {
   "cell_type": "markdown",
   "metadata": {},
   "source": [
    "You could certainly do better—the trend is under-predicting in the mid ages. But just taking the log of weight does most of the work. Why? It’ll help to think of a human body as a cylinder. Roughly. The weight of a cylinder is proportional to its volume. And the volume of a cylinder is:\n",
    "\n",
    "$V =\\pi r^2h$\n",
    "\n",
    "where r is the radius and h is the height. As the cylinder, uh human, gets taller, the radius gets bigger. So we can just say the radius is some fraction α of the height:\n",
    "\n",
    "$r =\\alpha h$\n",
    "\n",
    "Substituting that in:\n",
    "\n",
    "$V =πα^2h^3 =kh^3$\n",
    "\n",
    "where $k =πα^2$ is just some proportionality constant. Now let’s plot volume (weight) as a function of height, and I’ll compare it to the data viewed the same way:"
   ]
  },
  {
   "cell_type": "markdown",
   "metadata": {},
   "source": [
    "<img src='pics/SR_d1.png' alt='Drawing' style='width:425pt'/>"
   ]
  },
  {
   "cell_type": "code",
   "execution_count": 56,
   "metadata": {
    "ExecuteTime": {
     "end_time": "2020-02-14T06:44:03.230834Z",
     "start_time": "2020-02-14T06:44:03.180Z"
    }
   },
   "outputs": [
    {
     "data": {
      "text/html": [
       "<style>\n",
       ".list-inline {list-style: none; margin:0; padding: 0}\n",
       ".list-inline>li {display: inline-block}\n",
       ".list-inline>li:not(:last-child)::after {content: \"\\00b7\"; padding: 0 .5ex}\n",
       "</style>\n",
       "<ol class=list-inline><li>1000</li><li>60</li></ol>\n"
      ],
      "text/latex": [
       "\\begin{enumerate*}\n",
       "\\item 1000\n",
       "\\item 60\n",
       "\\end{enumerate*}\n"
      ],
      "text/markdown": [
       "1. 1000\n",
       "2. 60\n",
       "\n",
       "\n"
      ],
      "text/plain": [
       "[1] 1000   60"
      ]
     },
     "metadata": {},
     "output_type": "display_data"
    }
   ],
   "source": [
    "mu %>% dim"
   ]
  },
  {
   "cell_type": "code",
   "execution_count": 52,
   "metadata": {
    "ExecuteTime": {
     "end_time": "2020-02-14T06:43:18.027326Z",
     "start_time": "2020-02-14T06:43:17.974Z"
    }
   },
   "outputs": [
    {
     "data": {
      "text/html": [
       "<style>\n",
       ".list-inline {list-style: none; margin:0; padding: 0}\n",
       ".list-inline>li {display: inline-block}\n",
       ".list-inline>li:not(:last-child)::after {content: \"\\00b7\"; padding: 0 .5ex}\n",
       "</style>\n",
       "<ol class=list-inline><li>0</li><li>0.693147180559945</li><li>1.09861228866811</li><li>1.38629436111989</li><li>1.6094379124341</li><li>1.79175946922805</li><li>1.94591014905531</li><li>2.07944154167984</li><li>2.19722457733622</li><li>2.30258509299405</li><li>2.39789527279837</li><li>2.484906649788</li><li>2.56494935746154</li><li>2.63905732961526</li><li>2.70805020110221</li><li>2.77258872223978</li><li>2.83321334405622</li><li>2.89037175789616</li><li>2.94443897916644</li><li>2.99573227355399</li><li>3.04452243772342</li><li>3.09104245335832</li><li>3.13549421592915</li><li>3.17805383034795</li><li>3.2188758248682</li><li>3.25809653802148</li><li>3.29583686600433</li><li>3.3322045101752</li><li>3.36729582998647</li><li>3.40119738166216</li><li>3.43398720448515</li><li>3.46573590279973</li><li>3.49650756146648</li><li>3.52636052461616</li><li>3.55534806148941</li><li>3.58351893845611</li><li>3.61091791264422</li><li>3.63758615972639</li><li>3.66356164612965</li><li>3.68887945411394</li><li>3.71357206670431</li><li>3.73766961828337</li><li>3.76120011569356</li><li>3.78418963391826</li><li>3.80666248977032</li><li>3.8286413964891</li><li>3.85014760171006</li><li>3.87120101090789</li><li>3.89182029811063</li><li>3.91202300542815</li><li>3.93182563272433</li><li>3.95124371858143</li><li>3.97029191355212</li><li>3.98898404656427</li><li>4.00733318523247</li><li>4.02535169073515</li><li>4.04305126783455</li><li>4.06044301054642</li><li>4.07753744390572</li><li>4.0943445622221</li></ol>\n"
      ],
      "text/latex": [
       "\\begin{enumerate*}\n",
       "\\item 0\n",
       "\\item 0.693147180559945\n",
       "\\item 1.09861228866811\n",
       "\\item 1.38629436111989\n",
       "\\item 1.6094379124341\n",
       "\\item 1.79175946922805\n",
       "\\item 1.94591014905531\n",
       "\\item 2.07944154167984\n",
       "\\item 2.19722457733622\n",
       "\\item 2.30258509299405\n",
       "\\item 2.39789527279837\n",
       "\\item 2.484906649788\n",
       "\\item 2.56494935746154\n",
       "\\item 2.63905732961526\n",
       "\\item 2.70805020110221\n",
       "\\item 2.77258872223978\n",
       "\\item 2.83321334405622\n",
       "\\item 2.89037175789616\n",
       "\\item 2.94443897916644\n",
       "\\item 2.99573227355399\n",
       "\\item 3.04452243772342\n",
       "\\item 3.09104245335832\n",
       "\\item 3.13549421592915\n",
       "\\item 3.17805383034795\n",
       "\\item 3.2188758248682\n",
       "\\item 3.25809653802148\n",
       "\\item 3.29583686600433\n",
       "\\item 3.3322045101752\n",
       "\\item 3.36729582998647\n",
       "\\item 3.40119738166216\n",
       "\\item 3.43398720448515\n",
       "\\item 3.46573590279973\n",
       "\\item 3.49650756146648\n",
       "\\item 3.52636052461616\n",
       "\\item 3.55534806148941\n",
       "\\item 3.58351893845611\n",
       "\\item 3.61091791264422\n",
       "\\item 3.63758615972639\n",
       "\\item 3.66356164612965\n",
       "\\item 3.68887945411394\n",
       "\\item 3.71357206670431\n",
       "\\item 3.73766961828337\n",
       "\\item 3.76120011569356\n",
       "\\item 3.78418963391826\n",
       "\\item 3.80666248977032\n",
       "\\item 3.8286413964891\n",
       "\\item 3.85014760171006\n",
       "\\item 3.87120101090789\n",
       "\\item 3.89182029811063\n",
       "\\item 3.91202300542815\n",
       "\\item 3.93182563272433\n",
       "\\item 3.95124371858143\n",
       "\\item 3.97029191355212\n",
       "\\item 3.98898404656427\n",
       "\\item 4.00733318523247\n",
       "\\item 4.02535169073515\n",
       "\\item 4.04305126783455\n",
       "\\item 4.06044301054642\n",
       "\\item 4.07753744390572\n",
       "\\item 4.0943445622221\n",
       "\\end{enumerate*}\n"
      ],
      "text/markdown": [
       "1. 0\n",
       "2. 0.693147180559945\n",
       "3. 1.09861228866811\n",
       "4. 1.38629436111989\n",
       "5. 1.6094379124341\n",
       "6. 1.79175946922805\n",
       "7. 1.94591014905531\n",
       "8. 2.07944154167984\n",
       "9. 2.19722457733622\n",
       "10. 2.30258509299405\n",
       "11. 2.39789527279837\n",
       "12. 2.484906649788\n",
       "13. 2.56494935746154\n",
       "14. 2.63905732961526\n",
       "15. 2.70805020110221\n",
       "16. 2.77258872223978\n",
       "17. 2.83321334405622\n",
       "18. 2.89037175789616\n",
       "19. 2.94443897916644\n",
       "20. 2.99573227355399\n",
       "21. 3.04452243772342\n",
       "22. 3.09104245335832\n",
       "23. 3.13549421592915\n",
       "24. 3.17805383034795\n",
       "25. 3.2188758248682\n",
       "26. 3.25809653802148\n",
       "27. 3.29583686600433\n",
       "28. 3.3322045101752\n",
       "29. 3.36729582998647\n",
       "30. 3.40119738166216\n",
       "31. 3.43398720448515\n",
       "32. 3.46573590279973\n",
       "33. 3.49650756146648\n",
       "34. 3.52636052461616\n",
       "35. 3.55534806148941\n",
       "36. 3.58351893845611\n",
       "37. 3.61091791264422\n",
       "38. 3.63758615972639\n",
       "39. 3.66356164612965\n",
       "40. 3.68887945411394\n",
       "41. 3.71357206670431\n",
       "42. 3.73766961828337\n",
       "43. 3.76120011569356\n",
       "44. 3.78418963391826\n",
       "45. 3.80666248977032\n",
       "46. 3.8286413964891\n",
       "47. 3.85014760171006\n",
       "48. 3.87120101090789\n",
       "49. 3.89182029811063\n",
       "50. 3.91202300542815\n",
       "51. 3.93182563272433\n",
       "52. 3.95124371858143\n",
       "53. 3.97029191355212\n",
       "54. 3.98898404656427\n",
       "55. 4.00733318523247\n",
       "56. 4.02535169073515\n",
       "57. 4.04305126783455\n",
       "58. 4.06044301054642\n",
       "59. 4.07753744390572\n",
       "60. 4.0943445622221\n",
       "\n",
       "\n"
      ],
      "text/plain": [
       " [1] 0.0000000 0.6931472 1.0986123 1.3862944 1.6094379 1.7917595 1.9459101\n",
       " [8] 2.0794415 2.1972246 2.3025851 2.3978953 2.4849066 2.5649494 2.6390573\n",
       "[15] 2.7080502 2.7725887 2.8332133 2.8903718 2.9444390 2.9957323 3.0445224\n",
       "[22] 3.0910425 3.1354942 3.1780538 3.2188758 3.2580965 3.2958369 3.3322045\n",
       "[29] 3.3672958 3.4011974 3.4339872 3.4657359 3.4965076 3.5263605 3.5553481\n",
       "[36] 3.5835189 3.6109179 3.6375862 3.6635616 3.6888795 3.7135721 3.7376696\n",
       "[43] 3.7612001 3.7841896 3.8066625 3.8286414 3.8501476 3.8712010 3.8918203\n",
       "[50] 3.9120230 3.9318256 3.9512437 3.9702919 3.9889840 4.0073332 4.0253517\n",
       "[57] 4.0430513 4.0604430 4.0775374 4.0943446"
      ]
     },
     "metadata": {},
     "output_type": "display_data"
    }
   ],
   "source": [
    " log(1:60)"
   ]
  },
  {
   "cell_type": "markdown",
   "metadata": {},
   "source": [
    "##### straight line example for comparison"
   ]
  },
  {
   "cell_type": "code",
   "execution_count": 50,
   "metadata": {
    "ExecuteTime": {
     "end_time": "2020-02-14T06:42:20.017291Z",
     "start_time": "2020-02-14T06:42:19.937Z"
    }
   },
   "outputs": [],
   "source": [
    "d$log_weight <- log(d$weight)\n",
    "xbar <- mean(d$weight)\n",
    "m2b <- quap( alist(\n",
    "        height ~ dnorm( mu , sigma ) ,\n",
    "        mu <- a + b*( weight - xbar ) ,\n",
    "        a ~ dnorm( 178 , 20 ) ,\n",
    "        b ~ dlnorm( 0 , 1 ) ,\n",
    "        sigma ~ dunif( 0 , 50 )\n",
    "    ) ,\n",
    "    data=d )"
   ]
  },
  {
   "cell_type": "code",
   "execution_count": 51,
   "metadata": {
    "ExecuteTime": {
     "end_time": "2020-02-14T06:42:21.846745Z",
     "start_time": "2020-02-14T06:42:21.328Z"
    }
   },
   "outputs": [
    {
     "data": {
      "image/png": "[encoded data removed]",
      "text/plain": [
       "plot without title"
      ]
     },
     "metadata": {
      "image/png": {
       "height": 420,
       "width": 420
      }
     },
     "output_type": "display_data"
    }
   ],
   "source": [
    "plot( d$weight , d$height , col=col.alpha(rangi2,0.7) )\n",
    "\n",
    "# x_seq <- log(1:60)\n",
    "x_seq <- 1:60\n",
    "mu <- sim( m2b , data=list(weight=x_seq) )\n",
    "mu_mean <- apply(mu,2,mean)\n",
    "mu_ci <- apply(mu,2,PI,0.99)\n",
    "lines( x_seq, mu_mean )\n",
    "shade( mu_ci , x_seq )"
   ]
  },
  {
   "cell_type": "code",
   "execution_count": null,
   "metadata": {},
   "outputs": [],
   "source": [
    "m5.3 <- quap(  alist(\n",
    "    D ~ dnorm( mu , sigma ) ,\n",
    "    mu <- a + log_w + bA*A ,\n",
    "    a ~ dnorm( 0 , 0.2 ) ,\n",
    "    bM ~ dnorm( 0 , 0.5 ) ,\n",
    "    bA ~ dnorm( 0 , 0.5 ) ,\n",
    "    sigma ~ dexp( 1 )\n",
    ") , data = d )\n",
    "precis( m5.3 )\n",
    "\n"
   ]
  },
  {
   "cell_type": "markdown",
   "metadata": {},
   "source": [
    "## Prior Predictive Simulation"
   ]
  },
  {
   "cell_type": "markdown",
   "metadata": {},
   "source": [
    "<b><font color = 'purple'>Plot the prior predictive distribution for the polynomial regression model in Chapter 4.  </font></b>\n",
    "\n",
    "* You can modify the the code that plots the linear regression prior predictive distribution. \n",
    "\n",
    "* 20 or 30 parabolas from the prior should suffice to show where the prior probability resides. \n",
    "\n",
    "<b><font color = 'purple'>Can you modify the prior distributions of α, β1, and β2 so that the prior predictions stay within the biologically reasonable outcome space?  </font></b>\n",
    "\n",
    "* That is to say: Do not try to fit the data by hand. But do try to keep the curves consistent with what you know about height and weight, before seeing these exact data."
   ]
  },
  {
   "cell_type": "markdown",
   "metadata": {
    "heading_collapsed": true
   },
   "source": [
    "##### <b><font color = 'MAROON'>Model</font></b>"
   ]
  },
  {
   "cell_type": "code",
   "execution_count": 63,
   "metadata": {
    "ExecuteTime": {
     "end_time": "2020-02-14T18:48:23.842329Z",
     "start_time": "2020-02-14T18:48:23.644Z"
    },
    "hidden": true
   },
   "outputs": [],
   "source": [
    "library(rethinking)\n",
    "data(Howell1)\n",
    "d <- Howell1\n",
    "d$weight_s <- ( d$weight - mean(d$weight) )/sd(d$weight)\n",
    "d$weight_s2 <- d$weight_s^2\n",
    "m4.5 <- quap(\n",
    "    alist(\n",
    "        height ~ dnorm( mu , sigma ) ,\n",
    "        mu <- a + b1*weight_s + b2*weight_s2 ,\n",
    "        a ~ dnorm( 178 , 20 ) ,\n",
    "        b1 ~ dlnorm( 0 , 1 ) ,\n",
    "        b2 ~ dnorm( 0 , 1 ) ,\n",
    "        sigma ~ dunif( 0 , 50 )\n",
    "    ) ,\n",
    "    data=d )"
   ]
  },
  {
   "cell_type": "markdown",
   "metadata": {},
   "source": [
    "##### <b><font color = 'MAROON'>extract the prior:</font></b>"
   ]
  },
  {
   "cell_type": "code",
   "execution_count": 66,
   "metadata": {
    "ExecuteTime": {
     "end_time": "2020-02-14T19:03:31.558529Z",
     "start_time": "2020-02-14T19:03:31.491Z"
    }
   },
   "outputs": [
    {
     "data": {
      "text/html": [
       "<table>\n",
       "<caption>A data.frame: 4 × 4</caption>\n",
       "<thead>\n",
       "\t<tr><th></th><th scope=col>mean</th><th scope=col>sd</th><th scope=col>5.5%</th><th scope=col>94.5%</th></tr>\n",
       "\t<tr><th></th><th scope=col>&lt;dbl&gt;</th><th scope=col>&lt;dbl&gt;</th><th scope=col>&lt;dbl&gt;</th><th scope=col>&lt;dbl&gt;</th></tr>\n",
       "</thead>\n",
       "<tbody>\n",
       "\t<tr><th scope=row>a</th><td>177.61</td><td>20.72</td><td>144.18</td><td>211.42</td></tr>\n",
       "\t<tr><th scope=row>b1</th><td>  1.61</td><td> 1.88</td><td>  0.19</td><td>  4.43</td></tr>\n",
       "\t<tr><th scope=row>b2</th><td> -0.05</td><td> 0.97</td><td> -1.64</td><td>  1.45</td></tr>\n",
       "\t<tr><th scope=row>sigma</th><td> 25.14</td><td>14.59</td><td>  2.52</td><td> 47.37</td></tr>\n",
       "</tbody>\n",
       "</table>\n"
      ],
      "text/latex": [
       "A data.frame: 4 × 4\n",
       "\\begin{tabular}{r|llll}\n",
       "  & mean & sd & 5.5\\% & 94.5\\%\\\\\n",
       "  & <dbl> & <dbl> & <dbl> & <dbl>\\\\\n",
       "\\hline\n",
       "\ta & 177.61 & 20.72 & 144.18 & 211.42\\\\\n",
       "\tb1 &   1.61 &  1.88 &   0.19 &   4.43\\\\\n",
       "\tb2 &  -0.05 &  0.97 &  -1.64 &   1.45\\\\\n",
       "\tsigma &  25.14 & 14.59 &   2.52 &  47.37\\\\\n",
       "\\end{tabular}\n"
      ],
      "text/markdown": [
       "\n",
       "A data.frame: 4 × 4\n",
       "\n",
       "| <!--/--> | mean &lt;dbl&gt; | sd &lt;dbl&gt; | 5.5% &lt;dbl&gt; | 94.5% &lt;dbl&gt; |\n",
       "|---|---|---|---|---|\n",
       "| a | 177.61 | 20.72 | 144.18 | 211.42 |\n",
       "| b1 |   1.61 |  1.88 |   0.19 |   4.43 |\n",
       "| b2 |  -0.05 |  0.97 |  -1.64 |   1.45 |\n",
       "| sigma |  25.14 | 14.59 |   2.52 |  47.37 |\n",
       "\n"
      ],
      "text/plain": [
       "      mean   sd    5.5%   94.5% \n",
       "a     177.61 20.72 144.18 211.42\n",
       "b1      1.61  1.88   0.19   4.43\n",
       "b2     -0.05  0.97  -1.64   1.45\n",
       "sigma  25.14 14.59   2.52  47.37"
      ]
     },
     "metadata": {},
     "output_type": "display_data"
    }
   ],
   "source": [
    "set.seed(45)\n",
    "prior <- extract.prior( m4.5 )\n",
    "precis( prior, hist=FALSE ) %>% round(2)"
   ]
  },
  {
   "cell_type": "code",
   "execution_count": 79,
   "metadata": {
    "ExecuteTime": {
     "end_time": "2020-02-14T19:17:57.552577Z",
     "start_time": "2020-02-14T19:17:56.193Z"
    },
    "code_folding": [
     0
    ],
    "collapsed": true
   },
   "outputs": [
    {
     "name": "stderr",
     "output_type": "stream",
     "text": [
      "`stat_bin()` using `bins = 30`. Pick better value with `binwidth`.\n",
      "\n",
      "`stat_bin()` using `bins = 30`. Pick better value with `binwidth`.\n",
      "\n"
     ]
    },
    {
     "data": {
      "image/png": "[encoded data removed]",
      "text/plain": [
       "plot without title"
      ]
     },
     "metadata": {
      "image/png": {
       "height": 420,
       "width": 420
      }
     },
     "output_type": "display_data"
    },
    {
     "name": "stderr",
     "output_type": "stream",
     "text": [
      "`stat_bin()` using `bins = 30`. Pick better value with `binwidth`.\n",
      "\n"
     ]
    },
    {
     "data": {
      "image/png": "[encoded data removed]",
      "text/plain": [
       "plot without title"
      ]
     },
     "metadata": {
      "image/png": {
       "height": 420,
       "width": 420
      }
     },
     "output_type": "display_data"
    },
    {
     "name": "stderr",
     "output_type": "stream",
     "text": [
      "`stat_bin()` using `bins = 30`. Pick better value with `binwidth`.\n",
      "\n"
     ]
    },
    {
     "data": {
      "image/png": "[encoded data removed]",
      "text/plain": [
       "plot without title"
      ]
     },
     "metadata": {
      "image/png": {
       "height": 420,
       "width": 420
      }
     },
     "output_type": "display_data"
    },
    {
     "data": {
      "image/png": "[encoded data removed]",
      "text/plain": [
       "plot without title"
      ]
     },
     "metadata": {
      "image/png": {
       "height": 420,
       "width": 420
      }
     },
     "output_type": "display_data"
    }
   ],
   "source": [
    "# histograms\n",
    "ggplot(mapping = aes(x = prior$a)) +\n",
    "    geom_histogram()\n",
    "\n",
    "ggplot(mapping = aes(x = prior$b1)) +\n",
    "    geom_histogram()\n",
    "\n",
    "ggplot(mapping = aes(x = prior$b2)) +\n",
    "    geom_histogram()\n",
    "\n",
    "ggplot(mapping = aes(x = prior$sigma)) +\n",
    "    geom_histogram()"
   ]
  },
  {
   "cell_type": "markdown",
   "metadata": {},
   "source": [
    "We want to simulate curves (parabolas) from this prior. One way is to use link. Then we won’t have to write the linear model again."
   ]
  },
  {
   "cell_type": "code",
   "execution_count": 150,
   "metadata": {
    "ExecuteTime": {
     "end_time": "2020-02-15T05:57:22.545092Z",
     "start_time": "2020-02-15T05:57:22.431Z"
    }
   },
   "outputs": [],
   "source": [
    "w_seq <- seq( from = min(d$weight_s), to = max(d$weight_s), length.out = 50 ) \n",
    "w2_seq <- w_seq^2  \n",
    "\n",
    "mu <- link( m4.5 , post=prior ,\n",
    "    data=list( weight_s=w_seq , weight_s2=w2_seq ) )\n",
    "\n",
    "# link takes our model (quap approximation), samples from the posterior distribution, \n",
    "# and then computes mu for each case in the data (sequence of predictor values) and \n",
    "# sample from the posterior distribution."
   ]
  },
  {
   "cell_type": "markdown",
   "metadata": {},
   "source": [
    "<b><font color = 'purple'>Now mu should contain 1000 parabolas. We’ll plot just the first 50. </font></b>"
   ]
  },
  {
   "cell_type": "code",
   "execution_count": 156,
   "metadata": {
    "ExecuteTime": {
     "end_time": "2020-02-15T06:01:00.892823Z",
     "start_time": "2020-02-15T06:01:00.555Z"
    }
   },
   "outputs": [
    {
     "data": {
      "image/png": "[encoded data removed]",
      "text/plain": [
       "plot without title"
      ]
     },
     "metadata": {
      "image/png": {
       "height": 420,
       "width": 420
      }
     },
     "output_type": "display_data"
    }
   ],
   "source": [
    "plot( NULL , xlim=range(w_seq) , ylim=c(55,270) ,\n",
    "    xlab=\"weight (std)\" , ylab=\"height\" )\n",
    "for ( i in 1:50 ) lines( w_seq , mu[i,] , col=col.alpha(\"black\",0.5) )"
   ]
  },
  {
   "cell_type": "markdown",
   "metadata": {},
   "source": [
    "<font color = 'blue'>Recall that the world’s tallest person was 270cm tall. The tallest person in the sample is about 180cm. The prior curvature is not very strong</font>. Those parabolas hardly bend at all. \n",
    "\n",
    "We can increase the standard deviation on the b2 prior, but that will produce some silly shapes (left below), where either average weight is tallest or shortest. That can’t be right. The basic problem is that b2 needs to be negative to make the curve bend down, but b1 has to also change in order to move the maximum height to the right. It’s all a bit confusing, and is they key reason that working with polynomial models is so hard. The prior on the right below can only bend down, but I’ve made the linear model a + b1*weight_s b2*weight_s2 and given b2 a logNormal prior."
   ]
  },
  {
   "cell_type": "markdown",
   "metadata": {},
   "source": [
    "<img src='pics/SR_e38.png' alt='Drawing' style='width:425pt'/>"
   ]
  },
  {
   "cell_type": "markdown",
   "metadata": {},
   "source": [
    "###### <font color = 'lightgrey'>link under the hood</font>"
   ]
  },
  {
   "cell_type": "code",
   "execution_count": 146,
   "metadata": {
    "ExecuteTime": {
     "end_time": "2020-02-15T05:56:17.305071Z",
     "start_time": "2020-02-15T05:56:17.184Z"
    },
    "code_folding": []
   },
   "outputs": [],
   "source": [
    "##  link under the hood\n",
    "\n",
    "# exctract samples from the posterior of parameters\n",
    "post <- extract.samples(m4.5)\n",
    "\n",
    "# define linear model\n",
    "mu.link <- function(weight_s, weight_s2) post$a + post$b1*weight_s + post$b2*weight_s2\n",
    "       \n",
    "# define sequence of predictor values (weight)\n",
    "w_seq <- seq( from = min(d$weight_s), to = max(d$weight_s), length.out = 50 ) \n",
    "w2_seq <- w_seq^2 \n",
    "\n",
    "# For each predictor value, for each sample from the posterior\n",
    "# compute mu: a + b1*weight_s + b2*weight_s^2\n",
    "mu <- mapply( mu.link, weight_s=w_seq , weight_s2=w2_seq)\n",
    "\n",
    "\n",
    "mu.mean <- apply( mu , 2 , mean )\n",
    "mu.CI <- apply( mu , 2 , PI , prob=0.89 )"
   ]
  },
  {
   "cell_type": "code",
   "execution_count": 147,
   "metadata": {
    "ExecuteTime": {
     "end_time": "2020-02-15T05:56:18.904213Z",
     "start_time": "2020-02-15T05:56:18.838Z"
    }
   },
   "outputs": [
    {
     "data": {
      "text/html": [
       "50"
      ],
      "text/latex": [
       "50"
      ],
      "text/markdown": [
       "50"
      ],
      "text/plain": [
       "[1] 50"
      ]
     },
     "metadata": {},
     "output_type": "display_data"
    },
    {
     "data": {
      "text/html": [
       "<table>\n",
       "<caption>A matrix: 2 × 50 of type dbl</caption>\n",
       "<tbody>\n",
       "\t<tr><th scope=row>5%</th><td>62.95138</td><td>67.49147</td><td>71.90996</td><td>76.22618</td><td>80.42863</td><td>84.52648</td><td>88.50298</td><td>92.36430</td><td>96.11796</td><td> 99.75878</td><td>...</td><td>159.9437</td><td>160.1471</td><td>160.2376</td><td>160.2165</td><td>160.0800</td><td>159.8436</td><td>159.4936</td><td>159.0294</td><td>158.4596</td><td>157.7801</td></tr>\n",
       "\t<tr><th scope=row>94%</th><td>65.74856</td><td>70.05628</td><td>74.27151</td><td>78.39248</td><td>82.41639</td><td>86.33753</td><td>90.17551</td><td>93.92625</td><td>97.57577</td><td>101.13337</td><td>...</td><td>161.3609</td><td>161.7350</td><td>162.0129</td><td>162.1953</td><td>162.2738</td><td>162.2588</td><td>162.1514</td><td>161.9379</td><td>161.6399</td><td>161.2391</td></tr>\n",
       "</tbody>\n",
       "</table>\n"
      ],
      "text/latex": [
       "A matrix: 2 × 50 of type dbl\n",
       "\\begin{tabular}{r|lllllllllllllllllllll}\n",
       "\t5\\% & 62.95138 & 67.49147 & 71.90996 & 76.22618 & 80.42863 & 84.52648 & 88.50298 & 92.36430 & 96.11796 &  99.75878 & ... & 159.9437 & 160.1471 & 160.2376 & 160.2165 & 160.0800 & 159.8436 & 159.4936 & 159.0294 & 158.4596 & 157.7801\\\\\n",
       "\t94\\% & 65.74856 & 70.05628 & 74.27151 & 78.39248 & 82.41639 & 86.33753 & 90.17551 & 93.92625 & 97.57577 & 101.13337 & ... & 161.3609 & 161.7350 & 162.0129 & 162.1953 & 162.2738 & 162.2588 & 162.1514 & 161.9379 & 161.6399 & 161.2391\\\\\n",
       "\\end{tabular}\n"
      ],
      "text/markdown": [
       "\n",
       "A matrix: 2 × 50 of type dbl\n",
       "\n",
       "| 5% | 62.95138 | 67.49147 | 71.90996 | 76.22618 | 80.42863 | 84.52648 | 88.50298 | 92.36430 | 96.11796 |  99.75878 | ... | 159.9437 | 160.1471 | 160.2376 | 160.2165 | 160.0800 | 159.8436 | 159.4936 | 159.0294 | 158.4596 | 157.7801 |\n",
       "| 94% | 65.74856 | 70.05628 | 74.27151 | 78.39248 | 82.41639 | 86.33753 | 90.17551 | 93.92625 | 97.57577 | 101.13337 | ... | 161.3609 | 161.7350 | 162.0129 | 162.1953 | 162.2738 | 162.2588 | 162.1514 | 161.9379 | 161.6399 | 161.2391 |\n",
       "\n"
      ],
      "text/plain": [
       "    [,1]     [,2]     [,3]     [,4]     [,5]     [,6]     [,7]     [,8]    \n",
       "5%  62.95138 67.49147 71.90996 76.22618 80.42863 84.52648 88.50298 92.36430\n",
       "94% 65.74856 70.05628 74.27151 78.39248 82.41639 86.33753 90.17551 93.92625\n",
       "    [,9]     [,10]     [,11] [,12]    [,13]    [,14]    [,15]    [,16]   \n",
       "5%  96.11796  99.75878 ...   159.9437 160.1471 160.2376 160.2165 160.0800\n",
       "94% 97.57577 101.13337 ...   161.3609 161.7350 162.0129 162.1953 162.2738\n",
       "    [,17]    [,18]    [,19]    [,20]    [,21]   \n",
       "5%  159.8436 159.4936 159.0294 158.4596 157.7801\n",
       "94% 162.2588 162.1514 161.9379 161.6399 161.2391"
      ]
     },
     "metadata": {},
     "output_type": "display_data"
    }
   ],
   "source": [
    "mu.mean %>% length\n",
    "mu.CI %>% head"
   ]
  },
  {
   "cell_type": "markdown",
   "metadata": {
    "heading_collapsed": true
   },
   "source": [
    "# wk 3"
   ]
  },
  {
   "cell_type": "markdown",
   "metadata": {
    "heading_collapsed": true
   },
   "source": [
    "# wk 4"
   ]
  },
  {
   "cell_type": "markdown",
   "metadata": {
    "hidden": true
   },
   "source": [
    "## Polynesian islands"
   ]
  },
  {
   "cell_type": "code",
   "execution_count": 2,
   "metadata": {
    "ExecuteTime": {
     "end_time": "2019-08-10T01:34:48.850679Z",
     "start_time": "2019-08-10T01:34:48.700Z"
    },
    "hidden": true
   },
   "outputs": [],
   "source": [
    "H <- function(p) -sum(p*log(p))"
   ]
  },
  {
   "cell_type": "code",
   "execution_count": 3,
   "metadata": {
    "ExecuteTime": {
     "end_time": "2019-08-10T01:34:49.651418Z",
     "start_time": "2019-08-10T01:34:49.588Z"
    },
    "hidden": true
   },
   "outputs": [
    {
     "data": {
      "text/html": [
       "<ol class=list-inline>\n",
       "\t<li>1.6094379124341</li>\n",
       "\t<li>0.743003936734169</li>\n",
       "\t<li>0.983600299523093</li>\n",
       "</ol>\n"
      ],
      "text/latex": [
       "\\begin{enumerate*}\n",
       "\\item 1.6094379124341\n",
       "\\item 0.743003936734169\n",
       "\\item 0.983600299523093\n",
       "\\end{enumerate*}\n"
      ],
      "text/markdown": [
       "1. 1.6094379124341\n",
       "2. 0.743003936734169\n",
       "3. 0.983600299523093\n",
       "\n",
       "\n"
      ],
      "text/plain": [
       "[1] 1.6094379 0.7430039 0.9836003"
      ]
     },
     "metadata": {},
     "output_type": "display_data"
    }
   ],
   "source": [
    "IB <- list()\n",
    "IB[[1]] <- c( 0.2 , 0.2 , 0.2 , 0.2 , 0.2 )\n",
    "IB[[2]] <- c( 0.8 , 0.1 , 0.05 , 0.025 , 0.025 )\n",
    "IB[[3]] <- c( 0.05 , 0.15 , 0.7 , 0.05 , 0.05 )\n",
    "sapply( IB , H )"
   ]
  },
  {
   "cell_type": "code",
   "execution_count": 4,
   "metadata": {
    "ExecuteTime": {
     "end_time": "2019-08-10T01:34:50.372015Z",
     "start_time": "2019-08-10T01:34:50.331Z"
    },
    "hidden": true
   },
   "outputs": [],
   "source": [
    "DKL <- function(p,q) sum( p*(log(p)-log(q)) )"
   ]
  },
  {
   "cell_type": "markdown",
   "metadata": {
    "hidden": true
   },
   "source": [
    "This is the distance from q to p, regarding p as true and q as the model"
   ]
  },
  {
   "cell_type": "code",
   "execution_count": 5,
   "metadata": {
    "ExecuteTime": {
     "end_time": "2019-08-10T01:34:51.942472Z",
     "start_time": "2019-08-10T01:34:51.880Z"
    },
    "hidden": true
   },
   "outputs": [
    {
     "data": {
      "text/html": [
       "<table>\n",
       "<tbody>\n",
       "\t<tr><td>0.00</td><td>0.87</td><td>0.63</td></tr>\n",
       "\t<tr><td>0.97</td><td>0.00</td><td>1.84</td></tr>\n",
       "\t<tr><td>0.64</td><td>2.01</td><td>0.00</td></tr>\n",
       "</tbody>\n",
       "</table>\n"
      ],
      "text/latex": [
       "\\begin{tabular}{lll}\n",
       "\t 0.00 & 0.87 & 0.63\\\\\n",
       "\t 0.97 & 0.00 & 1.84\\\\\n",
       "\t 0.64 & 2.01 & 0.00\\\\\n",
       "\\end{tabular}\n"
      ],
      "text/markdown": [
       "\n",
       "| 0.00 | 0.87 | 0.63 |\n",
       "| 0.97 | 0.00 | 1.84 |\n",
       "| 0.64 | 2.01 | 0.00 |\n",
       "\n"
      ],
      "text/plain": [
       "     [,1] [,2] [,3]\n",
       "[1,] 0.00 0.87 0.63\n",
       "[2,] 0.97 0.00 1.84\n",
       "[3,] 0.64 2.01 0.00"
      ]
     },
     "metadata": {},
     "output_type": "display_data"
    }
   ],
   "source": [
    "Dm <- matrix( NA , nrow=3 , ncol=3 ) # creates 3x3 matrix of NAs\n",
    "for ( i in 1:3 ) for ( j in 1:3 ) Dm[i,j] <- DKL( IB[[j]] , IB[[i]] )\n",
    "round( Dm , 2 )"
   ]
  },
  {
   "cell_type": "markdown",
   "metadata": {
    "hidden": true
   },
   "source": [
    "The way to read this is each row as a model and each column as a true distribution. \n",
    "\n",
    "* notice the 0 values = 100% prediction accuracy\n",
    "\n",
    "So the first island, the first row, has the smaller distances to the\n",
    "other islands. This makes sense, since it has the highest entropy. Why does\n",
    "that give it a shorter distance to the other islands? Because it is less surprised\n",
    "by the other islands, due to its high entropy."
   ]
  },
  {
   "cell_type": "markdown",
   "metadata": {
    "hidden": true
   },
   "source": [
    "## marriage, age, and happiness collider bias example "
   ]
  },
  {
   "cell_type": "code",
   "execution_count": 5,
   "metadata": {
    "collapsed": true,
    "hidden": true
   },
   "outputs": [
    {
     "name": "stderr",
     "output_type": "stream",
     "text": [
      "-- Attaching packages --------------------------------------- tidyverse 1.2.1 --\n",
      "v ggplot2 3.1.0       v purrr   0.3.0  \n",
      "v tibble  2.0.1       v dplyr   0.8.0.1\n",
      "v tidyr   0.8.2       v stringr 1.4.0  \n",
      "v readr   1.3.1       v forcats 0.4.0  \n",
      "Warning message:\n",
      "\"package 'tibble' was built under R version 3.5.2\"Warning message:\n",
      "\"package 'readr' was built under R version 3.5.2\"Warning message:\n",
      "\"package 'purrr' was built under R version 3.5.2\"Warning message:\n",
      "\"package 'dplyr' was built under R version 3.5.2\"Warning message:\n",
      "\"package 'stringr' was built under R version 3.5.2\"Warning message:\n",
      "\"package 'forcats' was built under R version 3.5.2\"-- Conflicts ------------------------------------------ tidyverse_conflicts() --\n",
      "x dplyr::filter() masks stats::filter()\n",
      "x dplyr::lag()    masks stats::lag()\n",
      "Loading required package: rstan\n",
      "Loading required package: StanHeaders\n",
      "Warning message:\n",
      "\"package 'StanHeaders' was built under R version 3.5.2\"rstan (Version 2.18.2, GitRev: 2e1f913d3ca3)\n",
      "For execution on a local, multicore CPU with excess RAM we recommend calling\n",
      "options(mc.cores = parallel::detectCores()).\n",
      "To avoid recompilation of unchanged Stan programs, we recommend calling\n",
      "rstan_options(auto_write = TRUE)\n",
      "For improved execution time, we recommend calling\n",
      "Sys.setenv(LOCAL_CPPFLAGS = '-march=native')\n",
      "although this causes Stan to throw an error on a few processors.\n",
      "\n",
      "Attaching package: 'rstan'\n",
      "\n",
      "The following object is masked from 'package:tidyr':\n",
      "\n",
      "    extract\n",
      "\n",
      "Loading required package: parallel\n",
      "rethinking (Version 1.86)\n",
      "\n",
      "Attaching package: 'rethinking'\n",
      "\n",
      "The following object is masked from 'package:purrr':\n",
      "\n",
      "    map\n",
      "\n"
     ]
    }
   ],
   "source": [
    "library(tidyverse)\n",
    "\n",
    "# loads experimental branch of statistical rethinking pkg\n",
    "library(rethinking)"
   ]
  },
  {
   "cell_type": "code",
   "execution_count": 6,
   "metadata": {
    "hidden": true
   },
   "outputs": [],
   "source": [
    "d <- sim_happiness( seed=1977 , N_years=1000 )"
   ]
  },
  {
   "cell_type": "code",
   "execution_count": 7,
   "metadata": {
    "hidden": true
   },
   "outputs": [],
   "source": [
    "d2 <- d[ d$age>17 , ] # only adults\n",
    "d2$A <- ( d2$age - 18 ) / ( 65 - 18 )"
   ]
  },
  {
   "cell_type": "code",
   "execution_count": 8,
   "metadata": {
    "hidden": true
   },
   "outputs": [
    {
     "data": {
      "text/html": [
       "<table>\n",
       "<thead><tr><th></th><th scope=col>mean</th><th scope=col>sd</th><th scope=col>5.5%</th><th scope=col>94.5%</th></tr></thead>\n",
       "<tbody>\n",
       "\t<tr><th scope=row>a[1]</th><td>-0.24</td><td>0.06 </td><td>-0.34</td><td>-0.13</td></tr>\n",
       "\t<tr><th scope=row>a[2]</th><td> 1.26</td><td>0.08 </td><td> 1.12</td><td> 1.39</td></tr>\n",
       "\t<tr><th scope=row>bA</th><td>-0.75</td><td>0.11 </td><td>-0.93</td><td>-0.57</td></tr>\n",
       "\t<tr><th scope=row>sigma</th><td> 0.99</td><td>0.02 </td><td> 0.95</td><td> 1.03</td></tr>\n",
       "</tbody>\n",
       "</table>\n"
      ],
      "text/latex": [
       "\\begin{tabular}{r|llll}\n",
       "  & mean & sd & 5.5\\% & 94.5\\%\\\\\n",
       "\\hline\n",
       "\ta{[}1{]} & -0.24 & 0.06  & -0.34 & -0.13\\\\\n",
       "\ta{[}2{]} &  1.26 & 0.08  &  1.12 &  1.39\\\\\n",
       "\tbA & -0.75 & 0.11  & -0.93 & -0.57\\\\\n",
       "\tsigma &  0.99 & 0.02  &  0.95 &  1.03\\\\\n",
       "\\end{tabular}\n"
      ],
      "text/markdown": [
       "\n",
       "| <!--/--> | mean | sd | 5.5% | 94.5% |\n",
       "|---|---|---|---|---|\n",
       "| a[1] | -0.24 | 0.06  | -0.34 | -0.13 |\n",
       "| a[2] |  1.26 | 0.08  |  1.12 |  1.39 |\n",
       "| bA | -0.75 | 0.11  | -0.93 | -0.57 |\n",
       "| sigma |  0.99 | 0.02  |  0.95 |  1.03 |\n",
       "\n"
      ],
      "text/plain": [
       "      mean  sd   5.5%  94.5%\n",
       "a[1]  -0.24 0.06 -0.34 -0.13\n",
       "a[2]   1.26 0.08  1.12  1.39\n",
       "bA    -0.75 0.11 -0.93 -0.57\n",
       "sigma  0.99 0.02  0.95  1.03"
      ]
     },
     "metadata": {},
     "output_type": "display_data"
    }
   ],
   "source": [
    "## R code 6.24\n",
    "d2$mid <- d2$married + 1\n",
    "m6.9 <- quap(\n",
    "    alist(\n",
    "        happiness ~ dnorm( mu , sigma ),\n",
    "        mu <- a[mid] + bA*A, #[mid] <- categorical for marriage status\n",
    "        a[mid] ~ dnorm( 0 , 1 ), \n",
    "        bA ~ dnorm( 0 , 2 ),\n",
    "        sigma ~ dexp(1)\n",
    "    ) , data=d2 )\n",
    "precis(m6.9,depth=2) %>% round(2)\n"
   ]
  },
  {
   "cell_type": "code",
   "execution_count": 9,
   "metadata": {
    "hidden": true
   },
   "outputs": [
    {
     "data": {
      "text/html": [
       "<table>\n",
       "<thead><tr><th></th><th scope=col>mean</th><th scope=col>sd</th><th scope=col>5.5%</th><th scope=col>94.5%</th></tr></thead>\n",
       "<tbody>\n",
       "\t<tr><th scope=row>a</th><td>0.00 </td><td>0.08 </td><td>-0.12</td><td>0.12 </td></tr>\n",
       "\t<tr><th scope=row>bA</th><td>0.00 </td><td>0.13 </td><td>-0.21</td><td>0.21 </td></tr>\n",
       "\t<tr><th scope=row>sigma</th><td>1.21 </td><td>0.03 </td><td> 1.17</td><td>1.26 </td></tr>\n",
       "</tbody>\n",
       "</table>\n"
      ],
      "text/latex": [
       "\\begin{tabular}{r|llll}\n",
       "  & mean & sd & 5.5\\% & 94.5\\%\\\\\n",
       "\\hline\n",
       "\ta & 0.00  & 0.08  & -0.12 & 0.12 \\\\\n",
       "\tbA & 0.00  & 0.13  & -0.21 & 0.21 \\\\\n",
       "\tsigma & 1.21  & 0.03  &  1.17 & 1.26 \\\\\n",
       "\\end{tabular}\n"
      ],
      "text/markdown": [
       "\n",
       "| <!--/--> | mean | sd | 5.5% | 94.5% |\n",
       "|---|---|---|---|---|\n",
       "| a | 0.00  | 0.08  | -0.12 | 0.12  |\n",
       "| bA | 0.00  | 0.13  | -0.21 | 0.21  |\n",
       "| sigma | 1.21  | 0.03  |  1.17 | 1.26  |\n",
       "\n"
      ],
      "text/plain": [
       "      mean sd   5.5%  94.5%\n",
       "a     0.00 0.08 -0.12 0.12 \n",
       "bA    0.00 0.13 -0.21 0.21 \n",
       "sigma 1.21 0.03  1.17 1.26 "
      ]
     },
     "metadata": {},
     "output_type": "display_data"
    }
   ],
   "source": [
    "## R code 6.25\n",
    "m6.10 <- quap(\n",
    "    alist(\n",
    "        happiness ~ dnorm( mu , sigma ),\n",
    "        mu <- a + bA*A,\n",
    "        a ~ dnorm( 0 , 1 ),\n",
    "        bA ~ dnorm( 0 , 2 ),\n",
    "        sigma ~ dexp(1)\n",
    "    ) , data=d2 )\n",
    "precis(m6.10) %>% round(2)"
   ]
  },
  {
   "cell_type": "markdown",
   "metadata": {
    "hidden": true
   },
   "source": [
    "Model m6.9 contains both marriage status and age. Model m6.10 contains only age. Model m6.9 produces a confounded inference about the relationship between age and happiness, due to opening a collider path. To compare these models using WAIC:"
   ]
  },
  {
   "cell_type": "code",
   "execution_count": 10,
   "metadata": {
    "hidden": true
   },
   "outputs": [
    {
     "data": {
      "text/html": [
       "<table>\n",
       "<thead><tr><th></th><th scope=col>WAIC</th><th scope=col>pWAIC</th><th scope=col>dWAIC</th><th scope=col>weight</th><th scope=col>SE</th><th scope=col>dSE</th></tr></thead>\n",
       "<tbody>\n",
       "\t<tr><th scope=row>m6.9</th><td>2713.97</td><td>3.74   </td><td>  0.00 </td><td>1      </td><td>37.54  </td><td>  NA   </td></tr>\n",
       "\t<tr><th scope=row>m6.10</th><td>3101.91</td><td>2.34   </td><td>387.93 </td><td>0      </td><td>27.74  </td><td>35.4   </td></tr>\n",
       "</tbody>\n",
       "</table>\n"
      ],
      "text/latex": [
       "\\begin{tabular}{r|llllll}\n",
       "  & WAIC & pWAIC & dWAIC & weight & SE & dSE\\\\\n",
       "\\hline\n",
       "\tm6.9 & 2713.97 & 3.74    &   0.00  & 1       & 37.54   &   NA   \\\\\n",
       "\tm6.10 & 3101.91 & 2.34    & 387.93  & 0       & 27.74   & 35.4   \\\\\n",
       "\\end{tabular}\n"
      ],
      "text/markdown": [
       "\n",
       "| <!--/--> | WAIC | pWAIC | dWAIC | weight | SE | dSE |\n",
       "|---|---|---|---|---|---|---|\n",
       "| m6.9 | 2713.97 | 3.74    |   0.00  | 1       | 37.54   |   NA    |\n",
       "| m6.10 | 3101.91 | 2.34    | 387.93  | 0       | 27.74   | 35.4    |\n",
       "\n"
      ],
      "text/plain": [
       "      WAIC    pWAIC dWAIC  weight SE    dSE \n",
       "m6.9  2713.97 3.74    0.00 1      37.54   NA\n",
       "m6.10 3101.91 2.34  387.93 0      27.74 35.4"
      ]
     },
     "metadata": {},
     "output_type": "display_data"
    }
   ],
   "source": [
    "compare( m6.9 , m6.10 ) %>% round(2)"
   ]
  },
  {
   "cell_type": "markdown",
   "metadata": {
    "hidden": true
   },
   "source": [
    "The model that produces the invalid inference, m6.9, is expected to predict much better. And it would. <font color = 'red'>This is because the collider path does convey actual association. We simply end up mistaken about the causal inference We should not use WAIC (or LOO) to choose among models, unless we have some clear sense of the causal model</font>. These criteria will happily favor confounded models."
   ]
  },
  {
   "cell_type": "markdown",
   "metadata": {
    "hidden": true
   },
   "source": [
    "## Reconsider the urban fox analysis from last week’s homework."
   ]
  },
  {
   "cell_type": "raw",
   "metadata": {
    "hidden": true
   },
   "source": [
    "Use WAIC or LOO based model comparison on five different models, each using weight\n",
    "as the outcome, and containing these sets of predictor variables:\n",
    "\n",
    "(1) avgfood + groupsize + area\n",
    "(2) avgfood + groupsize\n",
    "(3) groupsize + area\n",
    "(4) avgfood\n",
    "(5) area\n",
    "\n",
    "Can you explain the relative differences in WAIC scores, using the fox DAG\n",
    "from last week’s homework? Be sure to pay attention to the standard error\n",
    "of the score differences (dSE)."
   ]
  },
  {
   "cell_type": "code",
   "execution_count": 11,
   "metadata": {
    "hidden": true
   },
   "outputs": [],
   "source": [
    "library(rethinking)\n",
    "data(foxes)\n",
    "d <- foxes\n",
    "d$W <- standardize(d$weight)\n",
    "d$A <- standardize(d$area)\n",
    "d$F <- standardize(d$avgfood)\n",
    "d$G <- standardize(d$groupsize)\n",
    "\n",
    "m1 <- quap(\n",
    "    alist(\n",
    "    W ~ dnorm( mu , sigma ),\n",
    "    mu <- a + bF*F + bG*G + bA*A,\n",
    "    a ~ dnorm(0,0.2),\n",
    "    c(bF,bG,bA) ~ dnorm(0,0.5),\n",
    "    sigma ~ dexp(1)\n",
    "    ), data=d )\n",
    "\n",
    "m2 <- quap(\n",
    "    alist(\n",
    "        W ~ dnorm( mu , sigma ),\n",
    "        mu <- a + bF*F + bG*G,\n",
    "        a ~ dnorm(0,0.2),\n",
    "        c(bF,bG) ~ dnorm(0,0.5),\n",
    "        sigma ~ dexp(1)\n",
    "    ), data=d )\n",
    "\n",
    "m3 <- quap(\n",
    "    alist(\n",
    "        W ~ dnorm( mu , sigma ),\n",
    "        mu <- a + bG*G + bA*A,\n",
    "        a ~ dnorm(0,0.2),\n",
    "        c(bG,bA) ~ dnorm(0,0.5),\n",
    "        sigma ~ dexp(1)\n",
    "    ), data=d )\n",
    "\n",
    "m4 <- quap(\n",
    "    alist(\n",
    "        W ~ dnorm( mu , sigma ),\n",
    "        mu <- a + bF*F,\n",
    "        a ~ dnorm(0,0.2),\n",
    "        bF ~ dnorm(0,0.5),\n",
    "        sigma ~ dexp(1)\n",
    "    ), data=d )\n",
    "\n",
    "m5 <- quap(\n",
    "    alist(\n",
    "        W ~ dnorm( mu , sigma ),\n",
    "        mu <- a + bA*A,\n",
    "        a ~ dnorm(0,0.2),\n",
    "        bA ~ dnorm(0,0.5),\n",
    "        sigma ~ dexp(1)\n",
    "    ), data=d )"
   ]
  },
  {
   "cell_type": "code",
   "execution_count": 12,
   "metadata": {
    "hidden": true
   },
   "outputs": [
    {
     "data": {
      "text/html": [
       "<table>\n",
       "<thead><tr><th></th><th scope=col>WAIC</th><th scope=col>pWAIC</th><th scope=col>dWAIC</th><th scope=col>weight</th><th scope=col>SE</th><th scope=col>dSE</th></tr></thead>\n",
       "<tbody>\n",
       "\t<tr><th scope=row>m1</th><td>322.88</td><td>4.66  </td><td> 0.00 </td><td>0.46  </td><td>16.28 </td><td>  NA  </td></tr>\n",
       "\t<tr><th scope=row>m3</th><td>323.90</td><td>3.72  </td><td> 1.01 </td><td>0.28  </td><td>15.68 </td><td>2.90  </td></tr>\n",
       "\t<tr><th scope=row>m2</th><td>324.07</td><td>3.81  </td><td> 1.18 </td><td>0.26  </td><td>16.12 </td><td>3.59  </td></tr>\n",
       "\t<tr><th scope=row>m4</th><td>333.44</td><td>2.43  </td><td>10.56 </td><td>0.00  </td><td>13.79 </td><td>7.19  </td></tr>\n",
       "\t<tr><th scope=row>m5</th><td>333.72</td><td>2.65  </td><td>10.84 </td><td>0.00  </td><td>13.79 </td><td>7.24  </td></tr>\n",
       "</tbody>\n",
       "</table>\n"
      ],
      "text/latex": [
       "\\begin{tabular}{r|llllll}\n",
       "  & WAIC & pWAIC & dWAIC & weight & SE & dSE\\\\\n",
       "\\hline\n",
       "\tm1 & 322.88 & 4.66   &  0.00  & 0.46   & 16.28  &   NA  \\\\\n",
       "\tm3 & 323.90 & 3.72   &  1.01  & 0.28   & 15.68  & 2.90  \\\\\n",
       "\tm2 & 324.07 & 3.81   &  1.18  & 0.26   & 16.12  & 3.59  \\\\\n",
       "\tm4 & 333.44 & 2.43   & 10.56  & 0.00   & 13.79  & 7.19  \\\\\n",
       "\tm5 & 333.72 & 2.65   & 10.84  & 0.00   & 13.79  & 7.24  \\\\\n",
       "\\end{tabular}\n"
      ],
      "text/markdown": [
       "\n",
       "| <!--/--> | WAIC | pWAIC | dWAIC | weight | SE | dSE |\n",
       "|---|---|---|---|---|---|---|\n",
       "| m1 | 322.88 | 4.66   |  0.00  | 0.46   | 16.28  |   NA   |\n",
       "| m3 | 323.90 | 3.72   |  1.01  | 0.28   | 15.68  | 2.90   |\n",
       "| m2 | 324.07 | 3.81   |  1.18  | 0.26   | 16.12  | 3.59   |\n",
       "| m4 | 333.44 | 2.43   | 10.56  | 0.00   | 13.79  | 7.19   |\n",
       "| m5 | 333.72 | 2.65   | 10.84  | 0.00   | 13.79  | 7.24   |\n",
       "\n"
      ],
      "text/plain": [
       "   WAIC   pWAIC dWAIC weight SE    dSE \n",
       "m1 322.88 4.66   0.00 0.46   16.28   NA\n",
       "m3 323.90 3.72   1.01 0.28   15.68 2.90\n",
       "m2 324.07 3.81   1.18 0.26   16.12 3.59\n",
       "m4 333.44 2.43  10.56 0.00   13.79 7.19\n",
       "m5 333.72 2.65  10.84 0.00   13.79 7.24"
      ]
     },
     "metadata": {},
     "output_type": "display_data"
    }
   ],
   "source": [
    "compare( m1 , m2 , m3 , m4 , m5 ) %>% round(2)"
   ]
  },
  {
   "cell_type": "markdown",
   "metadata": {
    "hidden": true
   },
   "source": [
    "<img src='pics/SR_s33.png' alt='Drawing' style='width:425pt'/>"
   ]
  },
  {
   "cell_type": "markdown",
   "metadata": {
    "hidden": true
   },
   "source": [
    "(1) avgfood + groupsize + area\n",
    "(2) avgfood + groupsize\n",
    "(3) groupsize + area\n",
    "(4) avgfood\n",
    "(5) area\n",
    "\n",
    "Notice that the top three models are m1, m3, and m2. They have very similar WAIC values. The differences are small and smaller in all cases than the standard error of the difference (dSE). WAIC sees these models are tied. <font color = 'blue'>This makes sense, given the DAG, because as long as a model has groupsize in it, we can include either avgfood or area or both and get the same inferences</font>. \n",
    "\n",
    "* Another way to think of this is that the influence of avg food, adjusting for group size, is (according to the DAG) the same as the influence of area, adjusting for group size, because the influence of area is routed entirely through food and group size. There are no backdoor paths. \n",
    "\n",
    "What about the other two models, m4 and m5? These models are tied with one another, and both omit group size. Again, the influence of area passes entirely through food. So including only food or only area should produce the same inference—the total causal influence of area (or food) is just about zero. That’s indeed what the posterior distributions suggest:"
   ]
  },
  {
   "cell_type": "code",
   "execution_count": 13,
   "metadata": {
    "hidden": true
   },
   "outputs": [
    {
     "data": {
      "text/plain": [
       "      m4      m5     \n",
       "a           0       0\n",
       "bF      -0.02      NA\n",
       "sigma    0.99    0.99\n",
       "bA         NA    0.02\n",
       "nobs      116     116"
      ]
     },
     "metadata": {},
     "output_type": "display_data"
    }
   ],
   "source": [
    "coeftab(m4,m5)"
   ]
  },
  {
   "cell_type": "markdown",
   "metadata": {
    "hidden": true
   },
   "source": [
    "## misc"
   ]
  },
  {
   "cell_type": "code",
   "execution_count": 16,
   "metadata": {
    "hidden": true
   },
   "outputs": [
    {
     "data": {
      "text/html": [
       "<table>\n",
       "<tbody>\n",
       "\t<tr><td>1.1</td><td>1.2</td><td>1.3</td></tr>\n",
       "\t<tr><td>2.1</td><td>2.2</td><td>2.3</td></tr>\n",
       "\t<tr><td>3.1</td><td>3.2</td><td>3.3</td></tr>\n",
       "</tbody>\n",
       "</table>\n"
      ],
      "text/latex": [
       "\\begin{tabular}{lll}\n",
       "\t 1.1 & 1.2 & 1.3\\\\\n",
       "\t 2.1 & 2.2 & 2.3\\\\\n",
       "\t 3.1 & 3.2 & 3.3\\\\\n",
       "\\end{tabular}\n"
      ],
      "text/markdown": [
       "\n",
       "| 1.1 | 1.2 | 1.3 |\n",
       "| 2.1 | 2.2 | 2.3 |\n",
       "| 3.1 | 3.2 | 3.3 |\n",
       "\n"
      ],
      "text/plain": [
       "     [,1] [,2] [,3]\n",
       "[1,] 1.1  1.2  1.3 \n",
       "[2,] 2.1  2.2  2.3 \n",
       "[3,] 3.1  3.2  3.3 "
      ]
     },
     "metadata": {},
     "output_type": "display_data"
    }
   ],
   "source": [
    "# deconstruct double for loop and matrix code\n",
    "Dm <- matrix( NA , nrow=3 , ncol=3 ) # creates 3x3 matrix of NAs\n",
    "for ( i in 1:3 ) for ( j in 1:3 ) Dm[i,j] <- i+(j*.1)\n",
    "    \n",
    "Dm"
   ]
  },
  {
   "cell_type": "code",
   "execution_count": null,
   "metadata": {
    "hidden": true
   },
   "outputs": [],
   "source": []
  },
  {
   "cell_type": "markdown",
   "metadata": {
    "heading_collapsed": true
   },
   "source": [
    "# wk 5"
   ]
  },
  {
   "cell_type": "code",
   "execution_count": 4,
   "metadata": {
    "hidden": true
   },
   "outputs": [],
   "source": [
    "library(rethinking)\n",
    "data(Wines2012)\n",
    "d <- Wines2012"
   ]
  },
  {
   "cell_type": "markdown",
   "metadata": {
    "hidden": true
   },
   "source": [
    "##  consider only variation among judges and wines.\n",
    "Construct index variables of judge and wine and then use these index vari-\n",
    "ables to construct a linear regression model. Justify your priors. "
   ]
  },
  {
   "cell_type": "code",
   "execution_count": 17,
   "metadata": {
    "hidden": true
   },
   "outputs": [
    {
     "data": {
      "text/html": [
       "<table>\n",
       "<thead><tr><th scope=col>judge</th><th scope=col>flight</th><th scope=col>wine</th><th scope=col>score</th><th scope=col>wine.amer</th><th scope=col>judge.amer</th></tr></thead>\n",
       "<tbody>\n",
       "\t<tr><td>Jean-M Cardebat</td><td>white          </td><td>A1             </td><td>10             </td><td>1              </td><td>0              </td></tr>\n",
       "\t<tr><td>Jean-M Cardebat</td><td>white          </td><td>B1             </td><td>13             </td><td>1              </td><td>0              </td></tr>\n",
       "\t<tr><td>Jean-M Cardebat</td><td>white          </td><td>C1             </td><td>14             </td><td>0              </td><td>0              </td></tr>\n",
       "\t<tr><td>Jean-M Cardebat</td><td>white          </td><td>D1             </td><td>15             </td><td>0              </td><td>0              </td></tr>\n",
       "\t<tr><td>Jean-M Cardebat</td><td>white          </td><td>E1             </td><td> 8             </td><td>1              </td><td>0              </td></tr>\n",
       "\t<tr><td>Jean-M Cardebat</td><td>white          </td><td>F1             </td><td>13             </td><td>1              </td><td>0              </td></tr>\n",
       "</tbody>\n",
       "</table>\n"
      ],
      "text/latex": [
       "\\begin{tabular}{r|llllll}\n",
       " judge & flight & wine & score & wine.amer & judge.amer\\\\\n",
       "\\hline\n",
       "\t Jean-M Cardebat & white           & A1              & 10              & 1               & 0              \\\\\n",
       "\t Jean-M Cardebat & white           & B1              & 13              & 1               & 0              \\\\\n",
       "\t Jean-M Cardebat & white           & C1              & 14              & 0               & 0              \\\\\n",
       "\t Jean-M Cardebat & white           & D1              & 15              & 0               & 0              \\\\\n",
       "\t Jean-M Cardebat & white           & E1              &  8              & 1               & 0              \\\\\n",
       "\t Jean-M Cardebat & white           & F1              & 13              & 1               & 0              \\\\\n",
       "\\end{tabular}\n"
      ],
      "text/markdown": [
       "\n",
       "| judge | flight | wine | score | wine.amer | judge.amer |\n",
       "|---|---|---|---|---|---|\n",
       "| Jean-M Cardebat | white           | A1              | 10              | 1               | 0               |\n",
       "| Jean-M Cardebat | white           | B1              | 13              | 1               | 0               |\n",
       "| Jean-M Cardebat | white           | C1              | 14              | 0               | 0               |\n",
       "| Jean-M Cardebat | white           | D1              | 15              | 0               | 0               |\n",
       "| Jean-M Cardebat | white           | E1              |  8              | 1               | 0               |\n",
       "| Jean-M Cardebat | white           | F1              | 13              | 1               | 0               |\n",
       "\n"
      ],
      "text/plain": [
       "  judge           flight wine score wine.amer judge.amer\n",
       "1 Jean-M Cardebat white  A1   10    1         0         \n",
       "2 Jean-M Cardebat white  B1   13    1         0         \n",
       "3 Jean-M Cardebat white  C1   14    0         0         \n",
       "4 Jean-M Cardebat white  D1   15    0         0         \n",
       "5 Jean-M Cardebat white  E1    8    1         0         \n",
       "6 Jean-M Cardebat white  F1   13    1         0         "
      ]
     },
     "metadata": {},
     "output_type": "display_data"
    }
   ],
   "source": [
    "d %>% head"
   ]
  },
  {
   "cell_type": "code",
   "execution_count": 19,
   "metadata": {
    "hidden": true,
    "scrolled": true
   },
   "outputs": [],
   "source": [
    "dat_list <- list(\n",
    "    S = standardize(d$score),\n",
    "    jid = as.integer(d$judge),\n",
    "    wid = as.integer(d$wine)\n",
    ")"
   ]
  },
  {
   "cell_type": "code",
   "execution_count": 20,
   "metadata": {
    "hidden": true
   },
   "outputs": [],
   "source": [
    "m1 <- ulam(\n",
    "    alist(\n",
    "        S ~ dnorm( mu , sigma ),\n",
    "        mu <- a[jid] + w[wid],\n",
    "        a[jid] ~ dnorm(0,0.5),\n",
    "        w[wid] ~ dnorm(0,0.5),\n",
    "        sigma ~ dexp(1)\n",
    "    ), data=dat_list , chains=4 , cores=4 )"
   ]
  },
  {
   "cell_type": "code",
   "execution_count": 22,
   "metadata": {
    "collapsed": true,
    "hidden": true
   },
   "outputs": [
    {
     "data": {
      "text/html": [
       "<table>\n",
       "<thead><tr><th></th><th scope=col>mean</th><th scope=col>sd</th><th scope=col>5.5%</th><th scope=col>94.5%</th><th scope=col>n_eff</th><th scope=col>Rhat</th></tr></thead>\n",
       "<tbody>\n",
       "\t<tr><th scope=row>a[1]</th><td>-0.27  </td><td>0.19   </td><td>-0.59  </td><td> 0.04  </td><td>2287.86</td><td>1      </td></tr>\n",
       "\t<tr><th scope=row>a[2]</th><td> 0.22  </td><td>0.20   </td><td>-0.10  </td><td> 0.54  </td><td>2108.01</td><td>1      </td></tr>\n",
       "\t<tr><th scope=row>a[3]</th><td> 0.21  </td><td>0.20   </td><td>-0.10  </td><td> 0.52  </td><td>2112.42</td><td>1      </td></tr>\n",
       "\t<tr><th scope=row>a[4]</th><td>-0.54  </td><td>0.20   </td><td>-0.85  </td><td>-0.21  </td><td>1906.01</td><td>1      </td></tr>\n",
       "\t<tr><th scope=row>a[5]</th><td> 0.80  </td><td>0.20   </td><td> 0.49  </td><td> 1.12  </td><td>2123.06</td><td>1      </td></tr>\n",
       "\t<tr><th scope=row>a[6]</th><td> 0.47  </td><td>0.20   </td><td> 0.16  </td><td> 0.79  </td><td>2279.99</td><td>1      </td></tr>\n",
       "\t<tr><th scope=row>a[7]</th><td> 0.14  </td><td>0.20   </td><td>-0.19  </td><td> 0.46  </td><td>2358.16</td><td>1      </td></tr>\n",
       "\t<tr><th scope=row>a[8]</th><td>-0.65  </td><td>0.19   </td><td>-0.95  </td><td>-0.35  </td><td>2561.15</td><td>1      </td></tr>\n",
       "\t<tr><th scope=row>a[9]</th><td>-0.34  </td><td>0.19   </td><td>-0.64  </td><td>-0.03  </td><td>1951.92</td><td>1      </td></tr>\n",
       "\t<tr><th scope=row>w[1]</th><td> 0.11  </td><td>0.24   </td><td>-0.28  </td><td> 0.49  </td><td>2949.97</td><td>1      </td></tr>\n",
       "\t<tr><th scope=row>w[2]</th><td> 0.08  </td><td>0.27   </td><td>-0.34  </td><td> 0.53  </td><td>3550.59</td><td>1      </td></tr>\n",
       "\t<tr><th scope=row>w[3]</th><td> 0.23  </td><td>0.26   </td><td>-0.19  </td><td> 0.64  </td><td>3706.13</td><td>1      </td></tr>\n",
       "\t<tr><th scope=row>w[4]</th><td> 0.46  </td><td>0.25   </td><td> 0.06  </td><td> 0.85  </td><td>3077.42</td><td>1      </td></tr>\n",
       "\t<tr><th scope=row>w[5]</th><td>-0.12  </td><td>0.26   </td><td>-0.53  </td><td> 0.30  </td><td>2953.64</td><td>1      </td></tr>\n",
       "\t<tr><th scope=row>w[6]</th><td>-0.32  </td><td>0.25   </td><td>-0.72  </td><td> 0.08  </td><td>3269.37</td><td>1      </td></tr>\n",
       "\t<tr><th scope=row>w[7]</th><td> 0.24  </td><td>0.26   </td><td>-0.19  </td><td> 0.64  </td><td>2929.03</td><td>1      </td></tr>\n",
       "\t<tr><th scope=row>w[8]</th><td> 0.23  </td><td>0.25   </td><td>-0.19  </td><td> 0.62  </td><td>2185.75</td><td>1      </td></tr>\n",
       "\t<tr><th scope=row>w[9]</th><td> 0.06  </td><td>0.25   </td><td>-0.34  </td><td> 0.47  </td><td>3025.03</td><td>1      </td></tr>\n",
       "\t<tr><th scope=row>w[10]</th><td> 0.10  </td><td>0.25   </td><td>-0.30  </td><td> 0.49  </td><td>2134.76</td><td>1      </td></tr>\n",
       "\t<tr><th scope=row>w[11]</th><td>-0.01  </td><td>0.27   </td><td>-0.44  </td><td> 0.42  </td><td>2840.89</td><td>1      </td></tr>\n",
       "\t<tr><th scope=row>w[12]</th><td>-0.03  </td><td>0.25   </td><td>-0.44  </td><td> 0.37  </td><td>2819.05</td><td>1      </td></tr>\n",
       "\t<tr><th scope=row>w[13]</th><td>-0.09  </td><td>0.25   </td><td>-0.50  </td><td> 0.32  </td><td>3197.31</td><td>1      </td></tr>\n",
       "\t<tr><th scope=row>w[14]</th><td> 0.00  </td><td>0.25   </td><td>-0.39  </td><td> 0.39  </td><td>2991.88</td><td>1      </td></tr>\n",
       "\t<tr><th scope=row>w[15]</th><td>-0.19  </td><td>0.26   </td><td>-0.62  </td><td> 0.22  </td><td>2704.57</td><td>1      </td></tr>\n",
       "\t<tr><th scope=row>w[16]</th><td>-0.18  </td><td>0.26   </td><td>-0.60  </td><td> 0.24  </td><td>2784.44</td><td>1      </td></tr>\n",
       "\t<tr><th scope=row>w[17]</th><td>-0.13  </td><td>0.26   </td><td>-0.53  </td><td> 0.29  </td><td>2150.89</td><td>1      </td></tr>\n",
       "\t<tr><th scope=row>w[18]</th><td>-0.73  </td><td>0.26   </td><td>-1.13  </td><td>-0.32  </td><td>2645.40</td><td>1      </td></tr>\n",
       "\t<tr><th scope=row>w[19]</th><td>-0.14  </td><td>0.26   </td><td>-0.55  </td><td> 0.28  </td><td>2841.54</td><td>1      </td></tr>\n",
       "\t<tr><th scope=row>w[20]</th><td> 0.31  </td><td>0.25   </td><td>-0.09  </td><td> 0.71  </td><td>2237.19</td><td>1      </td></tr>\n",
       "\t<tr><th scope=row>sigma</th><td> 0.85  </td><td>0.05   </td><td> 0.78  </td><td> 0.93  </td><td>2874.82</td><td>1      </td></tr>\n",
       "</tbody>\n",
       "</table>\n"
      ],
      "text/latex": [
       "\\begin{tabular}{r|llllll}\n",
       "  & mean & sd & 5.5\\% & 94.5\\% & n\\_eff & Rhat\\\\\n",
       "\\hline\n",
       "\ta{[}1{]} & -0.27   & 0.19    & -0.59   &  0.04   & 2287.86 & 1      \\\\\n",
       "\ta{[}2{]} &  0.22   & 0.20    & -0.10   &  0.54   & 2108.01 & 1      \\\\\n",
       "\ta{[}3{]} &  0.21   & 0.20    & -0.10   &  0.52   & 2112.42 & 1      \\\\\n",
       "\ta{[}4{]} & -0.54   & 0.20    & -0.85   & -0.21   & 1906.01 & 1      \\\\\n",
       "\ta{[}5{]} &  0.80   & 0.20    &  0.49   &  1.12   & 2123.06 & 1      \\\\\n",
       "\ta{[}6{]} &  0.47   & 0.20    &  0.16   &  0.79   & 2279.99 & 1      \\\\\n",
       "\ta{[}7{]} &  0.14   & 0.20    & -0.19   &  0.46   & 2358.16 & 1      \\\\\n",
       "\ta{[}8{]} & -0.65   & 0.19    & -0.95   & -0.35   & 2561.15 & 1      \\\\\n",
       "\ta{[}9{]} & -0.34   & 0.19    & -0.64   & -0.03   & 1951.92 & 1      \\\\\n",
       "\tw{[}1{]} &  0.11   & 0.24    & -0.28   &  0.49   & 2949.97 & 1      \\\\\n",
       "\tw{[}2{]} &  0.08   & 0.27    & -0.34   &  0.53   & 3550.59 & 1      \\\\\n",
       "\tw{[}3{]} &  0.23   & 0.26    & -0.19   &  0.64   & 3706.13 & 1      \\\\\n",
       "\tw{[}4{]} &  0.46   & 0.25    &  0.06   &  0.85   & 3077.42 & 1      \\\\\n",
       "\tw{[}5{]} & -0.12   & 0.26    & -0.53   &  0.30   & 2953.64 & 1      \\\\\n",
       "\tw{[}6{]} & -0.32   & 0.25    & -0.72   &  0.08   & 3269.37 & 1      \\\\\n",
       "\tw{[}7{]} &  0.24   & 0.26    & -0.19   &  0.64   & 2929.03 & 1      \\\\\n",
       "\tw{[}8{]} &  0.23   & 0.25    & -0.19   &  0.62   & 2185.75 & 1      \\\\\n",
       "\tw{[}9{]} &  0.06   & 0.25    & -0.34   &  0.47   & 3025.03 & 1      \\\\\n",
       "\tw{[}10{]} &  0.10   & 0.25    & -0.30   &  0.49   & 2134.76 & 1      \\\\\n",
       "\tw{[}11{]} & -0.01   & 0.27    & -0.44   &  0.42   & 2840.89 & 1      \\\\\n",
       "\tw{[}12{]} & -0.03   & 0.25    & -0.44   &  0.37   & 2819.05 & 1      \\\\\n",
       "\tw{[}13{]} & -0.09   & 0.25    & -0.50   &  0.32   & 3197.31 & 1      \\\\\n",
       "\tw{[}14{]} &  0.00   & 0.25    & -0.39   &  0.39   & 2991.88 & 1      \\\\\n",
       "\tw{[}15{]} & -0.19   & 0.26    & -0.62   &  0.22   & 2704.57 & 1      \\\\\n",
       "\tw{[}16{]} & -0.18   & 0.26    & -0.60   &  0.24   & 2784.44 & 1      \\\\\n",
       "\tw{[}17{]} & -0.13   & 0.26    & -0.53   &  0.29   & 2150.89 & 1      \\\\\n",
       "\tw{[}18{]} & -0.73   & 0.26    & -1.13   & -0.32   & 2645.40 & 1      \\\\\n",
       "\tw{[}19{]} & -0.14   & 0.26    & -0.55   &  0.28   & 2841.54 & 1      \\\\\n",
       "\tw{[}20{]} &  0.31   & 0.25    & -0.09   &  0.71   & 2237.19 & 1      \\\\\n",
       "\tsigma &  0.85   & 0.05    &  0.78   &  0.93   & 2874.82 & 1      \\\\\n",
       "\\end{tabular}\n"
      ],
      "text/markdown": [
       "\n",
       "| <!--/--> | mean | sd | 5.5% | 94.5% | n_eff | Rhat |\n",
       "|---|---|---|---|---|---|---|\n",
       "| a[1] | -0.27   | 0.19    | -0.59   |  0.04   | 2287.86 | 1       |\n",
       "| a[2] |  0.22   | 0.20    | -0.10   |  0.54   | 2108.01 | 1       |\n",
       "| a[3] |  0.21   | 0.20    | -0.10   |  0.52   | 2112.42 | 1       |\n",
       "| a[4] | -0.54   | 0.20    | -0.85   | -0.21   | 1906.01 | 1       |\n",
       "| a[5] |  0.80   | 0.20    |  0.49   |  1.12   | 2123.06 | 1       |\n",
       "| a[6] |  0.47   | 0.20    |  0.16   |  0.79   | 2279.99 | 1       |\n",
       "| a[7] |  0.14   | 0.20    | -0.19   |  0.46   | 2358.16 | 1       |\n",
       "| a[8] | -0.65   | 0.19    | -0.95   | -0.35   | 2561.15 | 1       |\n",
       "| a[9] | -0.34   | 0.19    | -0.64   | -0.03   | 1951.92 | 1       |\n",
       "| w[1] |  0.11   | 0.24    | -0.28   |  0.49   | 2949.97 | 1       |\n",
       "| w[2] |  0.08   | 0.27    | -0.34   |  0.53   | 3550.59 | 1       |\n",
       "| w[3] |  0.23   | 0.26    | -0.19   |  0.64   | 3706.13 | 1       |\n",
       "| w[4] |  0.46   | 0.25    |  0.06   |  0.85   | 3077.42 | 1       |\n",
       "| w[5] | -0.12   | 0.26    | -0.53   |  0.30   | 2953.64 | 1       |\n",
       "| w[6] | -0.32   | 0.25    | -0.72   |  0.08   | 3269.37 | 1       |\n",
       "| w[7] |  0.24   | 0.26    | -0.19   |  0.64   | 2929.03 | 1       |\n",
       "| w[8] |  0.23   | 0.25    | -0.19   |  0.62   | 2185.75 | 1       |\n",
       "| w[9] |  0.06   | 0.25    | -0.34   |  0.47   | 3025.03 | 1       |\n",
       "| w[10] |  0.10   | 0.25    | -0.30   |  0.49   | 2134.76 | 1       |\n",
       "| w[11] | -0.01   | 0.27    | -0.44   |  0.42   | 2840.89 | 1       |\n",
       "| w[12] | -0.03   | 0.25    | -0.44   |  0.37   | 2819.05 | 1       |\n",
       "| w[13] | -0.09   | 0.25    | -0.50   |  0.32   | 3197.31 | 1       |\n",
       "| w[14] |  0.00   | 0.25    | -0.39   |  0.39   | 2991.88 | 1       |\n",
       "| w[15] | -0.19   | 0.26    | -0.62   |  0.22   | 2704.57 | 1       |\n",
       "| w[16] | -0.18   | 0.26    | -0.60   |  0.24   | 2784.44 | 1       |\n",
       "| w[17] | -0.13   | 0.26    | -0.53   |  0.29   | 2150.89 | 1       |\n",
       "| w[18] | -0.73   | 0.26    | -1.13   | -0.32   | 2645.40 | 1       |\n",
       "| w[19] | -0.14   | 0.26    | -0.55   |  0.28   | 2841.54 | 1       |\n",
       "| w[20] |  0.31   | 0.25    | -0.09   |  0.71   | 2237.19 | 1       |\n",
       "| sigma |  0.85   | 0.05    |  0.78   |  0.93   | 2874.82 | 1       |\n",
       "\n"
      ],
      "text/plain": [
       "      mean  sd   5.5%  94.5% n_eff   Rhat\n",
       "a[1]  -0.27 0.19 -0.59  0.04 2287.86 1   \n",
       "a[2]   0.22 0.20 -0.10  0.54 2108.01 1   \n",
       "a[3]   0.21 0.20 -0.10  0.52 2112.42 1   \n",
       "a[4]  -0.54 0.20 -0.85 -0.21 1906.01 1   \n",
       "a[5]   0.80 0.20  0.49  1.12 2123.06 1   \n",
       "a[6]   0.47 0.20  0.16  0.79 2279.99 1   \n",
       "a[7]   0.14 0.20 -0.19  0.46 2358.16 1   \n",
       "a[8]  -0.65 0.19 -0.95 -0.35 2561.15 1   \n",
       "a[9]  -0.34 0.19 -0.64 -0.03 1951.92 1   \n",
       "w[1]   0.11 0.24 -0.28  0.49 2949.97 1   \n",
       "w[2]   0.08 0.27 -0.34  0.53 3550.59 1   \n",
       "w[3]   0.23 0.26 -0.19  0.64 3706.13 1   \n",
       "w[4]   0.46 0.25  0.06  0.85 3077.42 1   \n",
       "w[5]  -0.12 0.26 -0.53  0.30 2953.64 1   \n",
       "w[6]  -0.32 0.25 -0.72  0.08 3269.37 1   \n",
       "w[7]   0.24 0.26 -0.19  0.64 2929.03 1   \n",
       "w[8]   0.23 0.25 -0.19  0.62 2185.75 1   \n",
       "w[9]   0.06 0.25 -0.34  0.47 3025.03 1   \n",
       "w[10]  0.10 0.25 -0.30  0.49 2134.76 1   \n",
       "w[11] -0.01 0.27 -0.44  0.42 2840.89 1   \n",
       "w[12] -0.03 0.25 -0.44  0.37 2819.05 1   \n",
       "w[13] -0.09 0.25 -0.50  0.32 3197.31 1   \n",
       "w[14]  0.00 0.25 -0.39  0.39 2991.88 1   \n",
       "w[15] -0.19 0.26 -0.62  0.22 2704.57 1   \n",
       "w[16] -0.18 0.26 -0.60  0.24 2784.44 1   \n",
       "w[17] -0.13 0.26 -0.53  0.29 2150.89 1   \n",
       "w[18] -0.73 0.26 -1.13 -0.32 2645.40 1   \n",
       "w[19] -0.14 0.26 -0.55  0.28 2841.54 1   \n",
       "w[20]  0.31 0.25 -0.09  0.71 2237.19 1   \n",
       "sigma  0.85 0.05  0.78  0.93 2874.82 1   "
      ]
     },
     "metadata": {},
     "output_type": "display_data"
    }
   ],
   "source": [
    "precis( m1 , 2 ) %>% round(2)"
   ]
  },
  {
   "cell_type": "code",
   "execution_count": 23,
   "metadata": {
    "hidden": true
   },
   "outputs": [
    {
     "name": "stderr",
     "output_type": "stream",
     "text": [
      "Waiting to draw page 2 of 2\n"
     ]
    },
    {
     "data": {
      "image/png": "[encoded data removed]",
      "text/plain": [
       "plot without title"
      ]
     },
     "metadata": {},
     "output_type": "display_data"
    },
    {
     "data": {
      "image/png": "[encoded data removed]",
      "text/plain": [
       "plot without title"
      ]
     },
     "metadata": {},
     "output_type": "display_data"
    }
   ],
   "source": [
    "traceplot( m1 )"
   ]
  },
  {
   "cell_type": "markdown",
   "metadata": {
    "hidden": true
   },
   "source": [
    "These pass the hairy-caterpillar-ocular-inspection-test: all the chains mix in the same region, and they move quickly through it, not getting stuck anyplace."
   ]
  },
  {
   "cell_type": "code",
   "execution_count": 24,
   "metadata": {
    "hidden": true
   },
   "outputs": [
    {
     "data": {
      "image/png": "[encoded data removed]",
      "text/plain": [
       "plot without title"
      ]
     },
     "metadata": {},
     "output_type": "display_data"
    }
   ],
   "source": [
    "plot( precis( m1 , 2 ) )"
   ]
  },
  {
   "cell_type": "markdown",
   "metadata": {
    "hidden": true
   },
   "source": [
    "The `a` parameters are the judges. Each represents an average deviation of the scores. So judges with lower values are harsher on average. Judges with higher values liked the wines more on average. There is some noticeable variation here. It is fairly easy to tell the judges apart. \n",
    "\n",
    "The `w` parameters are the wines. Each represents an average score across all judges. Except for wine 18 (a New Jersey red I think), there isn’t that much variation. These are good wines, after all. Overall, there is more variation from judge than from wine."
   ]
  },
  {
   "cell_type": "markdown",
   "metadata": {
    "hidden": true
   },
   "source": [
    "## Now consider three features of the wines and judges:"
   ]
  },
  {
   "cell_type": "raw",
   "metadata": {
    "hidden": true
   },
   "source": [
    "(1) flight: Whether the wine is red or white.\n",
    "(2) wine.amer: Indicator variable for American wines.\n",
    "(3) judge.amer: Indicator variable for American judges.\n",
    "\n",
    "Use indicator or index variables to model the influence of these features on\n",
    "the scores. Omit the individual judge and wine index variables from Problem\n",
    "1. \n",
    "\n",
    "Do not include interaction effects yet. Again use ulam, justify your priors,\n",
    "and be sure to check the chains. What do you conclude about the differences\n",
    "among the wines and judges? Try to relate the results to the inferences in\n",
    "Problem 1."
   ]
  },
  {
   "cell_type": "markdown",
   "metadata": {
    "hidden": true
   },
   "source": [
    "##### indicator variable version"
   ]
  },
  {
   "cell_type": "code",
   "execution_count": 30,
   "metadata": {
    "hidden": true
   },
   "outputs": [],
   "source": [
    "dat_list2 <- list(\n",
    "    S = standardize(d$score),\n",
    "    W = d$wine.amer,\n",
    "    J = d$judge.amer,\n",
    "    R = ifelse(d$flight==\"red\",1L,0L)\n",
    ")"
   ]
  },
  {
   "cell_type": "markdown",
   "metadata": {
    "hidden": true
   },
   "source": [
    "The model structure is just a linear model with an ordinary intercept. I’ll put a relatively tight prior on the intercept, since it must be near zero (centered outcome). What about the coefficients for the indicator variables? Let’s pretend we haven’t already seen the results from Problem 1—there aren’t any big wine differences to find there. Without that cheating foresight, we should consider what the most extreme effect could be. \n",
    "\n",
    "\n",
    "**<font color = 'purple'>How big could the difference between NJ and French wines be? </font>** Could it be a full standard deviation? If so, then maybe a Normal(0,0.5) prior makes sense, since they place a full standard deviation difference out in the tails of the prior. I’d personally be inclined to something even tighter, so that it regularizes more. But let’s go with these wide priors, which nevertheless stay within the outcome space. It would make even more sense to put a tighter prior on the difference between red and white wines—on average they should be the no different, because judges only compare within flights. Here’s the model:"
   ]
  },
  {
   "cell_type": "code",
   "execution_count": null,
   "metadata": {
    "hidden": true
   },
   "outputs": [],
   "source": [
    "m2a <- ulam(\n",
    "    alist(\n",
    "        S ~ dnorm( mu , sigma ),\n",
    "        mu <- a + bW*W + bJ*J + bR*R,\n",
    "        a ~ dnorm( 0 , 0.2 ),\n",
    "        c(bW,bJ,bR) ~ dnorm( 0 , 0.5 ),\n",
    "        sigma ~ dexp(1)\n",
    "    ), data=dat_list2 , chains=4 , cores=4 )"
   ]
  },
  {
   "cell_type": "code",
   "execution_count": 28,
   "metadata": {
    "hidden": true
   },
   "outputs": [
    {
     "data": {
      "text/html": [
       "<table>\n",
       "<thead><tr><th></th><th scope=col>mean</th><th scope=col>sd</th><th scope=col>5.5%</th><th scope=col>94.5%</th><th scope=col>n_eff</th><th scope=col>Rhat</th></tr></thead>\n",
       "<tbody>\n",
       "\t<tr><th scope=row>a</th><td>-0.01  </td><td>0.12   </td><td>-0.20  </td><td>0.18   </td><td>1423.73</td><td>1      </td></tr>\n",
       "\t<tr><th scope=row>bR</th><td> 0.00  </td><td>0.13   </td><td>-0.21  </td><td>0.21   </td><td>1819.52</td><td>1      </td></tr>\n",
       "\t<tr><th scope=row>bJ</th><td> 0.22  </td><td>0.14   </td><td> 0.00  </td><td>0.44   </td><td>1622.03</td><td>1      </td></tr>\n",
       "\t<tr><th scope=row>bW</th><td>-0.19  </td><td>0.14   </td><td>-0.41  </td><td>0.03   </td><td>1508.55</td><td>1      </td></tr>\n",
       "\t<tr><th scope=row>sigma</th><td> 1.00  </td><td>0.05   </td><td> 0.92  </td><td>1.09   </td><td>2241.47</td><td>1      </td></tr>\n",
       "</tbody>\n",
       "</table>\n"
      ],
      "text/latex": [
       "\\begin{tabular}{r|llllll}\n",
       "  & mean & sd & 5.5\\% & 94.5\\% & n\\_eff & Rhat\\\\\n",
       "\\hline\n",
       "\ta & -0.01   & 0.12    & -0.20   & 0.18    & 1423.73 & 1      \\\\\n",
       "\tbR &  0.00   & 0.13    & -0.21   & 0.21    & 1819.52 & 1      \\\\\n",
       "\tbJ &  0.22   & 0.14    &  0.00   & 0.44    & 1622.03 & 1      \\\\\n",
       "\tbW & -0.19   & 0.14    & -0.41   & 0.03    & 1508.55 & 1      \\\\\n",
       "\tsigma &  1.00   & 0.05    &  0.92   & 1.09    & 2241.47 & 1      \\\\\n",
       "\\end{tabular}\n"
      ],
      "text/markdown": [
       "\n",
       "| <!--/--> | mean | sd | 5.5% | 94.5% | n_eff | Rhat |\n",
       "|---|---|---|---|---|---|---|\n",
       "| a | -0.01   | 0.12    | -0.20   | 0.18    | 1423.73 | 1       |\n",
       "| bR |  0.00   | 0.13    | -0.21   | 0.21    | 1819.52 | 1       |\n",
       "| bJ |  0.22   | 0.14    |  0.00   | 0.44    | 1622.03 | 1       |\n",
       "| bW | -0.19   | 0.14    | -0.41   | 0.03    | 1508.55 | 1       |\n",
       "| sigma |  1.00   | 0.05    |  0.92   | 1.09    | 2241.47 | 1       |\n",
       "\n"
      ],
      "text/plain": [
       "      mean  sd   5.5%  94.5% n_eff   Rhat\n",
       "a     -0.01 0.12 -0.20 0.18  1423.73 1   \n",
       "bR     0.00 0.13 -0.21 0.21  1819.52 1   \n",
       "bJ     0.22 0.14  0.00 0.44  1622.03 1   \n",
       "bW    -0.19 0.14 -0.41 0.03  1508.55 1   \n",
       "sigma  1.00 0.05  0.92 1.09  2241.47 1   "
      ]
     },
     "metadata": {},
     "output_type": "display_data"
    }
   ],
   "source": [
    "precis( m2a ) %>% round(2)"
   ]
  },
  {
   "cell_type": "markdown",
   "metadata": {
    "hidden": true
   },
   "source": [
    "##### index variable version"
   ]
  },
  {
   "cell_type": "code",
   "execution_count": 5,
   "metadata": {
    "hidden": true
   },
   "outputs": [],
   "source": [
    "dat_list2b <- list(\n",
    "    S = standardize(d$score),\n",
    "    wid = d$wine.amer + 1L,\n",
    "    jid = d$judge.amer + 1L,\n",
    "    fid = ifelse(d$flight==\"red\",1L,2L)\n",
    ")"
   ]
  },
  {
   "cell_type": "code",
   "execution_count": 7,
   "metadata": {
    "hidden": true
   },
   "outputs": [
    {
     "data": {
      "text/plain": [
       ".\n",
       "  0   1 \n",
       " 80 100 "
      ]
     },
     "metadata": {},
     "output_type": "display_data"
    }
   ],
   "source": [
    "d$judge.amer %>% table"
   ]
  },
  {
   "cell_type": "code",
   "execution_count": null,
   "metadata": {
    "hidden": true
   },
   "outputs": [],
   "source": [
    "m2b <- ulam(\n",
    "    alist(\n",
    "        S ~ dnorm( mu , sigma ),\n",
    "        mu <- w[wid] + j[jid] + f[fid],\n",
    "        w[wid] ~ dnorm( 0 , 0.5 ),\n",
    "        j[wid] ~ dnorm( 0 , 0.5 ),\n",
    "        f[wid] ~ dnorm( 0 , 0.5 ),\n",
    "        sigma ~ dexp(1)\n",
    "    ), data=dat_list2b , chains=4 , cores=4 )"
   ]
  },
  {
   "cell_type": "code",
   "execution_count": 31,
   "metadata": {
    "hidden": true
   },
   "outputs": [
    {
     "data": {
      "text/html": [
       "<table>\n",
       "<thead><tr><th></th><th scope=col>mean</th><th scope=col>sd</th><th scope=col>5.5%</th><th scope=col>94.5%</th><th scope=col>n_eff</th><th scope=col>Rhat</th></tr></thead>\n",
       "<tbody>\n",
       "\t<tr><th scope=row>w[1]</th><td> 0.11  </td><td>0.30   </td><td>-0.38  </td><td>0.59   </td><td> 857.43</td><td>1      </td></tr>\n",
       "\t<tr><th scope=row>w[2]</th><td>-0.08  </td><td>0.30   </td><td>-0.55  </td><td>0.40   </td><td> 910.26</td><td>1      </td></tr>\n",
       "\t<tr><th scope=row>j[1]</th><td>-0.12  </td><td>0.29   </td><td>-0.59  </td><td>0.33   </td><td> 909.28</td><td>1      </td></tr>\n",
       "\t<tr><th scope=row>j[2]</th><td> 0.11  </td><td>0.29   </td><td>-0.36  </td><td>0.58   </td><td> 915.94</td><td>1      </td></tr>\n",
       "\t<tr><th scope=row>f[1]</th><td>-0.01  </td><td>0.30   </td><td>-0.49  </td><td>0.47   </td><td> 957.55</td><td>1      </td></tr>\n",
       "\t<tr><th scope=row>f[2]</th><td> 0.00  </td><td>0.30   </td><td>-0.49  </td><td>0.46   </td><td> 958.20</td><td>1      </td></tr>\n",
       "\t<tr><th scope=row>sigma</th><td> 1.00  </td><td>0.05   </td><td> 0.92  </td><td>1.09   </td><td>1357.93</td><td>1      </td></tr>\n",
       "</tbody>\n",
       "</table>\n"
      ],
      "text/latex": [
       "\\begin{tabular}{r|llllll}\n",
       "  & mean & sd & 5.5\\% & 94.5\\% & n\\_eff & Rhat\\\\\n",
       "\\hline\n",
       "\tw{[}1{]} &  0.11   & 0.30    & -0.38   & 0.59    &  857.43 & 1      \\\\\n",
       "\tw{[}2{]} & -0.08   & 0.30    & -0.55   & 0.40    &  910.26 & 1      \\\\\n",
       "\tj{[}1{]} & -0.12   & 0.29    & -0.59   & 0.33    &  909.28 & 1      \\\\\n",
       "\tj{[}2{]} &  0.11   & 0.29    & -0.36   & 0.58    &  915.94 & 1      \\\\\n",
       "\tf{[}1{]} & -0.01   & 0.30    & -0.49   & 0.47    &  957.55 & 1      \\\\\n",
       "\tf{[}2{]} &  0.00   & 0.30    & -0.49   & 0.46    &  958.20 & 1      \\\\\n",
       "\tsigma &  1.00   & 0.05    &  0.92   & 1.09    & 1357.93 & 1      \\\\\n",
       "\\end{tabular}\n"
      ],
      "text/markdown": [
       "\n",
       "| <!--/--> | mean | sd | 5.5% | 94.5% | n_eff | Rhat |\n",
       "|---|---|---|---|---|---|---|\n",
       "| w[1] |  0.11   | 0.30    | -0.38   | 0.59    |  857.43 | 1       |\n",
       "| w[2] | -0.08   | 0.30    | -0.55   | 0.40    |  910.26 | 1       |\n",
       "| j[1] | -0.12   | 0.29    | -0.59   | 0.33    |  909.28 | 1       |\n",
       "| j[2] |  0.11   | 0.29    | -0.36   | 0.58    |  915.94 | 1       |\n",
       "| f[1] | -0.01   | 0.30    | -0.49   | 0.47    |  957.55 | 1       |\n",
       "| f[2] |  0.00   | 0.30    | -0.49   | 0.46    |  958.20 | 1       |\n",
       "| sigma |  1.00   | 0.05    |  0.92   | 1.09    | 1357.93 | 1       |\n",
       "\n"
      ],
      "text/plain": [
       "      mean  sd   5.5%  94.5% n_eff   Rhat\n",
       "w[1]   0.11 0.30 -0.38 0.59   857.43 1   \n",
       "w[2]  -0.08 0.30 -0.55 0.40   910.26 1   \n",
       "j[1]  -0.12 0.29 -0.59 0.33   909.28 1   \n",
       "j[2]   0.11 0.29 -0.36 0.58   915.94 1   \n",
       "f[1]  -0.01 0.30 -0.49 0.47   957.55 1   \n",
       "f[2]   0.00 0.30 -0.49 0.46   958.20 1   \n",
       "sigma  1.00 0.05  0.92 1.09  1357.93 1   "
      ]
     },
     "metadata": {},
     "output_type": "display_data"
    }
   ],
   "source": [
    "precis( m2b, depth=2 ) %>% round(2)"
   ]
  },
  {
   "cell_type": "markdown",
   "metadata": {
    "hidden": true
   },
   "source": [
    "Now wid is 1 for a French wine and 2 for a NJ wine, jid is 1 for a French judge and 2 for an American judge, and fid is 1 for red and 2 for white. Those 1L numbers are just the R way to type the number as an integer—“1L” is the integer 1, while “1” is the real number 1. We want integers for an index variable. Now let’s think about priors for the parameters that correspond to each index value. \n",
    "\n",
    "\n",
    "**<font color = 'purple' style='background-color: lightyellow'>Now the question isn’t how big the difference could be, but rather how far from the mean an indexed category could be</font>**. <font color = 'blue'>If we use Normal(0,0.5) priors, that would make a full standard deviation difference from the global mean rare</font>. It will also match what we had above, in a crude sense. Again, I’d be tempted to something narrow, for the sake of regularization. But certainly something like Normal(0,10) is flat out silly, because it makes impossible values routine. Let’s see what we get:"
   ]
  },
  {
   "cell_type": "markdown",
   "metadata": {
    "hidden": true
   },
   "source": [
    "To see that this model is the same as the previous, let’s compute contrasts.\n",
    "The contrast between American and French wines is:"
   ]
  },
  {
   "cell_type": "code",
   "execution_count": 32,
   "metadata": {
    "hidden": true
   },
   "outputs": [
    {
     "data": {
      "text/html": [
       "<table>\n",
       "<thead><tr><th></th><th scope=col>mean</th><th scope=col>sd</th><th scope=col>5.5%</th><th scope=col>94.5%</th><th scope=col>histogram</th></tr></thead>\n",
       "<tbody>\n",
       "\t<tr><th scope=row>diff_w</th><td>-0.1871466                                                                                                                                                              </td><td>0.1494911                                                                                                                                                               </td><td>-0.4227372                                                                                                                                                              </td><td>0.05178186                                                                                                                                                              </td><td>&lt;U+2581&gt;&lt;U+2581&gt;&lt;U+2582&gt;&lt;U+2585&gt;&lt;U+2587&gt;&lt;U+2587&gt;&lt;U+2585&gt;&lt;U+2582&gt;&lt;U+2581&gt;&lt;U+2581&gt;&lt;U+2581&gt;&lt;U+2581&gt;</td></tr>\n",
       "</tbody>\n",
       "</table>\n"
      ],
      "text/latex": [
       "\\begin{tabular}{r|lllll}\n",
       "  & mean & sd & 5.5\\% & 94.5\\% & histogram\\\\\n",
       "\\hline\n",
       "\tdiff\\_w & -0.1871466                                                                                       & 0.1494911                                                                                        & -0.4227372                                                                                       & 0.05178186                                                                                       & <U+2581><U+2581><U+2582><U+2585><U+2587><U+2587><U+2585><U+2582><U+2581><U+2581><U+2581><U+2581>\\\\\n",
       "\\end{tabular}\n"
      ],
      "text/markdown": [
       "\n",
       "| <!--/--> | mean | sd | 5.5% | 94.5% | histogram |\n",
       "|---|---|---|---|---|---|\n",
       "| diff_w | -0.1871466                                                                                       | 0.1494911                                                                                        | -0.4227372                                                                                       | 0.05178186                                                                                       | <U+2581><U+2581><U+2582><U+2585><U+2587><U+2587><U+2585><U+2582><U+2581><U+2581><U+2581><U+2581> |\n",
       "\n"
      ],
      "text/plain": [
       "       mean       sd        5.5%       94.5%     \n",
       "diff_w -0.1871466 0.1494911 -0.4227372 0.05178186\n",
       "       histogram                                                                                       \n",
       "diff_w <U+2581><U+2581><U+2582><U+2585><U+2587><U+2587><U+2585><U+2582><U+2581><U+2581><U+2581><U+2581>"
      ]
     },
     "metadata": {},
     "output_type": "display_data"
    }
   ],
   "source": [
    "post <- extract.samples(m2b)\n",
    "diff_w <- post$w[,2] - post$w[,1]\n",
    "precis( diff_w )"
   ]
  },
  {
   "cell_type": "markdown",
   "metadata": {
    "hidden": true
   },
   "source": [
    "That’s almost exactly the same mean and standard deviation as bW in the first\n",
    "model. The other contrasts match as well."
   ]
  },
  {
   "cell_type": "code",
   "execution_count": 37,
   "metadata": {
    "hidden": true
   },
   "outputs": [
    {
     "data": {
      "text/html": [
       "2000"
      ],
      "text/latex": [
       "2000"
      ],
      "text/markdown": [
       "2000"
      ],
      "text/plain": [
       "[1] 2000"
      ]
     },
     "metadata": {},
     "output_type": "display_data"
    }
   ],
   "source": [
    "diff_w %>% length"
   ]
  },
  {
   "cell_type": "markdown",
   "metadata": {
    "hidden": true
   },
   "source": [
    "## Now consider two-way interactions among the three features"
   ]
  },
  {
   "cell_type": "markdown",
   "metadata": {
    "hidden": true
   },
   "source": [
    "##### indicator approach"
   ]
  },
  {
   "cell_type": "code",
   "execution_count": 39,
   "metadata": {
    "hidden": true
   },
   "outputs": [],
   "source": [
    "library(rethinking)\n",
    "data(Wines2012)\n",
    "d <- Wines2012\n",
    "\n",
    "dat_list2 <- list(\n",
    "    S = standardize(d$score),\n",
    "    W = d$wine.amer,\n",
    "    J = d$judge.amer,\n",
    "    R = ifelse(d$flight==\"red\",1L,0L)\n",
    ")"
   ]
  },
  {
   "cell_type": "code",
   "execution_count": 40,
   "metadata": {
    "hidden": true
   },
   "outputs": [],
   "source": [
    "m3 <- ulam(\n",
    "    alist(\n",
    "        S ~ dnorm( mu , sigma ),\n",
    "        mu <- a + bW*W + bJ*J + bR*R +\n",
    "            bWJ*W*J + bWR*W*R + bJR*J*R,\n",
    "        a ~ dnorm(0,0.2),\n",
    "        c(bW,bJ,bR) ~ dnorm(0,0.5),\n",
    "        c(bWJ,bWR,bJR) ~ dnorm(0,0.25),\n",
    "        sigma ~ dexp(1)\n",
    "    ), data=dat_list2 , chains=4 , cores=4 )"
   ]
  },
  {
   "cell_type": "markdown",
   "metadata": {
    "hidden": true
   },
   "source": [
    "I used the same priors as before for the main effects. I used tighter priors for the interactions. Why? Because interactions represent sub-categories of data, and if we keep slicing up the sample, differences can’t keep getting bigger. Again, the most important thing is not to use flat priors like Normal(0,10) that produce impossible outcomes."
   ]
  },
  {
   "cell_type": "code",
   "execution_count": 42,
   "metadata": {
    "hidden": true,
    "scrolled": true
   },
   "outputs": [
    {
     "data": {
      "text/html": [
       "<table>\n",
       "<thead><tr><th></th><th scope=col>mean</th><th scope=col>sd</th><th scope=col>5.5%</th><th scope=col>94.5%</th><th scope=col>n_eff</th><th scope=col>Rhat</th></tr></thead>\n",
       "<tbody>\n",
       "\t<tr><th scope=row>a</th><td>-0.05  </td><td>0.13   </td><td>-0.25  </td><td>0.15   </td><td>1104.08</td><td>1      </td></tr>\n",
       "\t<tr><th scope=row>bR</th><td> 0.09  </td><td>0.19   </td><td>-0.21  </td><td>0.39   </td><td>1245.38</td><td>1      </td></tr>\n",
       "\t<tr><th scope=row>bJ</th><td> 0.21  </td><td>0.18   </td><td>-0.09  </td><td>0.50   </td><td>1203.71</td><td>1      </td></tr>\n",
       "\t<tr><th scope=row>bW</th><td>-0.07  </td><td>0.17   </td><td>-0.36  </td><td>0.20   </td><td>1154.22</td><td>1      </td></tr>\n",
       "\t<tr><th scope=row>bJR</th><td> 0.04  </td><td>0.19   </td><td>-0.26  </td><td>0.34   </td><td>1550.15</td><td>1      </td></tr>\n",
       "\t<tr><th scope=row>bWR</th><td>-0.23  </td><td>0.18   </td><td>-0.51  </td><td>0.05   </td><td>1405.02</td><td>1      </td></tr>\n",
       "\t<tr><th scope=row>bWJ</th><td>-0.02  </td><td>0.19   </td><td>-0.33  </td><td>0.27   </td><td>1219.60</td><td>1      </td></tr>\n",
       "\t<tr><th scope=row>sigma</th><td> 1.00  </td><td>0.05   </td><td> 0.92  </td><td>1.09   </td><td>1891.83</td><td>1      </td></tr>\n",
       "</tbody>\n",
       "</table>\n"
      ],
      "text/latex": [
       "\\begin{tabular}{r|llllll}\n",
       "  & mean & sd & 5.5\\% & 94.5\\% & n\\_eff & Rhat\\\\\n",
       "\\hline\n",
       "\ta & -0.05   & 0.13    & -0.25   & 0.15    & 1104.08 & 1      \\\\\n",
       "\tbR &  0.09   & 0.19    & -0.21   & 0.39    & 1245.38 & 1      \\\\\n",
       "\tbJ &  0.21   & 0.18    & -0.09   & 0.50    & 1203.71 & 1      \\\\\n",
       "\tbW & -0.07   & 0.17    & -0.36   & 0.20    & 1154.22 & 1      \\\\\n",
       "\tbJR &  0.04   & 0.19    & -0.26   & 0.34    & 1550.15 & 1      \\\\\n",
       "\tbWR & -0.23   & 0.18    & -0.51   & 0.05    & 1405.02 & 1      \\\\\n",
       "\tbWJ & -0.02   & 0.19    & -0.33   & 0.27    & 1219.60 & 1      \\\\\n",
       "\tsigma &  1.00   & 0.05    &  0.92   & 1.09    & 1891.83 & 1      \\\\\n",
       "\\end{tabular}\n"
      ],
      "text/markdown": [
       "\n",
       "| <!--/--> | mean | sd | 5.5% | 94.5% | n_eff | Rhat |\n",
       "|---|---|---|---|---|---|---|\n",
       "| a | -0.05   | 0.13    | -0.25   | 0.15    | 1104.08 | 1       |\n",
       "| bR |  0.09   | 0.19    | -0.21   | 0.39    | 1245.38 | 1       |\n",
       "| bJ |  0.21   | 0.18    | -0.09   | 0.50    | 1203.71 | 1       |\n",
       "| bW | -0.07   | 0.17    | -0.36   | 0.20    | 1154.22 | 1       |\n",
       "| bJR |  0.04   | 0.19    | -0.26   | 0.34    | 1550.15 | 1       |\n",
       "| bWR | -0.23   | 0.18    | -0.51   | 0.05    | 1405.02 | 1       |\n",
       "| bWJ | -0.02   | 0.19    | -0.33   | 0.27    | 1219.60 | 1       |\n",
       "| sigma |  1.00   | 0.05    |  0.92   | 1.09    | 1891.83 | 1       |\n",
       "\n"
      ],
      "text/plain": [
       "      mean  sd   5.5%  94.5% n_eff   Rhat\n",
       "a     -0.05 0.13 -0.25 0.15  1104.08 1   \n",
       "bR     0.09 0.19 -0.21 0.39  1245.38 1   \n",
       "bJ     0.21 0.18 -0.09 0.50  1203.71 1   \n",
       "bW    -0.07 0.17 -0.36 0.20  1154.22 1   \n",
       "bJR    0.04 0.19 -0.26 0.34  1550.15 1   \n",
       "bWR   -0.23 0.18 -0.51 0.05  1405.02 1   \n",
       "bWJ   -0.02 0.19 -0.33 0.27  1219.60 1   \n",
       "sigma  1.00 0.05  0.92 1.09  1891.83 1   "
      ]
     },
     "metadata": {},
     "output_type": "display_data"
    }
   ],
   "source": [
    "precis(m3) %>% round(2)"
   ]
  },
  {
   "cell_type": "markdown",
   "metadata": {
    "hidden": true
   },
   "source": [
    "Reading the parameters this way is not easy. But right away you might notice that bW is now close to zero and overlaps it a lot on both sides. NJ wines are no longer on average worse. So the interactions did something. \n",
    "\n",
    "Glancing at the interaction parameters, you can see that only one of them has much mass away from zero, bWR, the interaction between NJ wines and red flight, so red NJ wines. To get the predicted scores for red and white wines from both NJ and France, for both types of judges, we can use link:"
   ]
  },
  {
   "cell_type": "code",
   "execution_count": 44,
   "metadata": {
    "hidden": true
   },
   "outputs": [],
   "source": [
    "pred_dat <- data.frame(\n",
    "    W = rep( 0:1 , times=4 ),\n",
    "    J = rep( 0:1 , each=4 ),\n",
    "    R = rep( c(0,0,1,1) , times=2 )\n",
    ")"
   ]
  },
  {
   "cell_type": "code",
   "execution_count": 54,
   "metadata": {
    "hidden": true
   },
   "outputs": [
    {
     "data": {
      "text/html": [
       "<table>\n",
       "<thead><tr><th scope=col>W</th><th scope=col>J</th><th scope=col>R</th></tr></thead>\n",
       "<tbody>\n",
       "\t<tr><td>0</td><td>0</td><td>0</td></tr>\n",
       "\t<tr><td>1</td><td>0</td><td>0</td></tr>\n",
       "\t<tr><td>0</td><td>0</td><td>1</td></tr>\n",
       "\t<tr><td>1</td><td>0</td><td>1</td></tr>\n",
       "\t<tr><td>0</td><td>1</td><td>0</td></tr>\n",
       "\t<tr><td>1</td><td>1</td><td>0</td></tr>\n",
       "\t<tr><td>0</td><td>1</td><td>1</td></tr>\n",
       "\t<tr><td>1</td><td>1</td><td>1</td></tr>\n",
       "</tbody>\n",
       "</table>\n"
      ],
      "text/latex": [
       "\\begin{tabular}{r|lll}\n",
       " W & J & R\\\\\n",
       "\\hline\n",
       "\t 0 & 0 & 0\\\\\n",
       "\t 1 & 0 & 0\\\\\n",
       "\t 0 & 0 & 1\\\\\n",
       "\t 1 & 0 & 1\\\\\n",
       "\t 0 & 1 & 0\\\\\n",
       "\t 1 & 1 & 0\\\\\n",
       "\t 0 & 1 & 1\\\\\n",
       "\t 1 & 1 & 1\\\\\n",
       "\\end{tabular}\n"
      ],
      "text/markdown": [
       "\n",
       "| W | J | R |\n",
       "|---|---|---|\n",
       "| 0 | 0 | 0 |\n",
       "| 1 | 0 | 0 |\n",
       "| 0 | 0 | 1 |\n",
       "| 1 | 0 | 1 |\n",
       "| 0 | 1 | 0 |\n",
       "| 1 | 1 | 0 |\n",
       "| 0 | 1 | 1 |\n",
       "| 1 | 1 | 1 |\n",
       "\n"
      ],
      "text/plain": [
       "  W J R\n",
       "1 0 0 0\n",
       "2 1 0 0\n",
       "3 0 0 1\n",
       "4 1 0 1\n",
       "5 0 1 0\n",
       "6 1 1 0\n",
       "7 0 1 1\n",
       "8 1 1 1"
      ]
     },
     "metadata": {},
     "output_type": "display_data"
    }
   ],
   "source": [
    "pred_dat"
   ]
  },
  {
   "cell_type": "code",
   "execution_count": 47,
   "metadata": {
    "hidden": true
   },
   "outputs": [],
   "source": [
    "mu <- link( m3 , data=pred_dat )"
   ]
  },
  {
   "cell_type": "code",
   "execution_count": 48,
   "metadata": {
    "hidden": true
   },
   "outputs": [
    {
     "data": {
      "text/html": [
       "<ol class=list-inline>\n",
       "\t<li>'FFW'</li>\n",
       "\t<li>'AFW'</li>\n",
       "\t<li>'FFR'</li>\n",
       "\t<li>'AFR'</li>\n",
       "\t<li>'FAW'</li>\n",
       "\t<li>'AAW'</li>\n",
       "\t<li>'FAR'</li>\n",
       "\t<li>'AAR'</li>\n",
       "</ol>\n"
      ],
      "text/latex": [
       "\\begin{enumerate*}\n",
       "\\item 'FFW'\n",
       "\\item 'AFW'\n",
       "\\item 'FFR'\n",
       "\\item 'AFR'\n",
       "\\item 'FAW'\n",
       "\\item 'AAW'\n",
       "\\item 'FAR'\n",
       "\\item 'AAR'\n",
       "\\end{enumerate*}\n"
      ],
      "text/markdown": [
       "1. 'FFW'\n",
       "2. 'AFW'\n",
       "3. 'FFR'\n",
       "4. 'AFR'\n",
       "5. 'FAW'\n",
       "6. 'AAW'\n",
       "7. 'FAR'\n",
       "8. 'AAR'\n",
       "\n",
       "\n"
      ],
      "text/plain": [
       "[1] \"FFW\" \"AFW\" \"FFR\" \"AFR\" \"FAW\" \"AAW\" \"FAR\" \"AAR\""
      ]
     },
     "metadata": {},
     "output_type": "display_data"
    }
   ],
   "source": [
    "row_labels <- paste( ifelse(pred_dat$W==1,\"A\",\"F\") ,\n",
    "    ifelse(pred_dat$J==1,\"A\",\"F\") ,\n",
    "    ifelse(pred_dat$R==1,\"R\",\"W\") , sep=\"\" )\n",
    "\n",
    "row_labels"
   ]
  },
  {
   "cell_type": "code",
   "execution_count": 43,
   "metadata": {
    "hidden": true
   },
   "outputs": [
    {
     "data": {
      "image/png": "[encoded data removed]",
      "text/plain": [
       "plot without title"
      ]
     },
     "metadata": {},
     "output_type": "display_data"
    }
   ],
   "source": [
    "plot( precis( list(mu=mu) , 2 ) , labels=row_labels )"
   ]
  },
  {
   "cell_type": "code",
   "execution_count": 50,
   "metadata": {
    "hidden": true
   },
   "outputs": [],
   "source": [
    "post <- extract.samples(m3)"
   ]
  },
  {
   "cell_type": "code",
   "execution_count": 52,
   "metadata": {
    "hidden": true,
    "scrolled": true
   },
   "outputs": [
    {
     "name": "stdout",
     "output_type": "stream",
     "text": [
      "List of 8\n",
      " $ a    : num [1:2000(1d)] -0.1381 -0.0899 0.021 -0.0833 0.1437 ...\n",
      " $ bR   : num [1:2000(1d)] 0.095 0.1712 -0.0957 0.0693 0.1092 ...\n",
      " $ bJ   : num [1:2000(1d)] 0.102 0.365 0.218 0.407 0.331 ...\n",
      " $ bW   : num [1:2000(1d)] -0.044 -0.2296 -0.196 0.0363 -0.1173 ...\n",
      " $ bJR  : num [1:2000(1d)] -0.00288 -0.18581 0.20755 0.05088 -0.16388 ...\n",
      " $ bWR  : num [1:2000(1d)] -0.1937 -0.1955 -0.288 -0.1548 -0.0816 ...\n",
      " $ bWJ  : num [1:2000(1d)] -0.0928 0.0979 -0.0601 -0.2215 -0.2451 ...\n",
      " $ sigma: num [1:2000(1d)] 0.947 0.907 0.996 1.019 0.979 ...\n",
      " - attr(*, \"source\")= chr \"ulam posterior: 2000 samples from m3\"\n"
     ]
    }
   ],
   "source": [
    "post %>% str()"
   ]
  },
  {
   "cell_type": "markdown",
   "metadata": {
    "hidden": true
   },
   "source": [
    "##### index approach"
   ]
  },
  {
   "cell_type": "code",
   "execution_count": 8,
   "metadata": {
    "hidden": true
   },
   "outputs": [],
   "source": [
    "dat_list2b <- list(\n",
    "    S = standardize(d$score),\n",
    "    wid = d$wine.amer + 1L,\n",
    "    jid = d$judge.amer + 1L,\n",
    "    fid = ifelse(d$flight==\"red\",1L,2L)\n",
    ")"
   ]
  },
  {
   "cell_type": "code",
   "execution_count": 57,
   "metadata": {
    "collapsed": true,
    "hidden": true
   },
   "outputs": [
    {
     "data": {
      "image/png": "[encoded data removed]",
      "text/plain": [
       "plot without title"
      ]
     },
     "metadata": {},
     "output_type": "display_data"
    }
   ],
   "source": [
    "mcode <- \"\n",
    "data{\n",
    "    vector[180] S;\n",
    "    int fid[180];\n",
    "    int jid[180];\n",
    "    int wid[180];\n",
    "}\n",
    "\n",
    "parameters{\n",
    "    real w[2,2,2];\n",
    "    real<lower=0> sigma;\n",
    "}\n",
    "\n",
    "model{\n",
    "    vector[180] mu;\n",
    "    sigma ~ exponential( 1 );\n",
    "    for ( i in 1:2 )\n",
    "        for ( j in 1:2 )\n",
    "            for ( k in 1:2 )\n",
    "                w[i,j,k] ~ normal( 0 , 0.5 );\n",
    "    for ( i in 1:180 ) {\n",
    "        mu[i] = w[wid[i], jid[i], fid[i]];\n",
    "    }\n",
    "    S ~ normal( mu , sigma );\n",
    "}\n",
    "\"\n",
    "\n",
    "m3bt <- stan( model_code=mcode , data=dat_list2b , chains=4 , cores=4 )\n",
    "\n",
    "row_labels = c(\"FFR\",\"FFW\",\"FAR\",\"FAW\",\"AFR\",\"AFW\",\"AAR\",\"AAW\" )\n",
    "plot( precis( m3bt , 3 , pars=\"w\" ) , labels=row_labels )"
   ]
  },
  {
   "cell_type": "code",
   "execution_count": 9,
   "metadata": {
    "hidden": true
   },
   "outputs": [],
   "source": [
    "m3b <- ulam(\n",
    "    alist(\n",
    "        S ~ dnorm( mu , sigma ),\n",
    "        mu <- w[wid,jid,fid],\n",
    "        real['2,2,2']:w ~ normal(0,0.5),\n",
    "        sigma ~ dexp(1)\n",
    "    ), data=dat_list2b , chains=4 , cores=4 )"
   ]
  },
  {
   "cell_type": "markdown",
   "metadata": {
    "heading_collapsed": true
   },
   "source": [
    "# wk 6"
   ]
  },
  {
   "cell_type": "code",
   "execution_count": 106,
   "metadata": {
    "hidden": true,
    "scrolled": true
   },
   "outputs": [
    {
     "data": {
      "text/html": [
       "<table>\n",
       "<thead><tr><th scope=col>discipline</th><th scope=col>gender</th><th scope=col>applications</th><th scope=col>awards</th></tr></thead>\n",
       "<tbody>\n",
       "\t<tr><td>Chemical sciences</td><td>m                </td><td> 83              </td><td>22               </td></tr>\n",
       "\t<tr><td>Chemical sciences</td><td>f                </td><td> 39              </td><td>10               </td></tr>\n",
       "\t<tr><td>Physical sciences</td><td>m                </td><td>135              </td><td>26               </td></tr>\n",
       "\t<tr><td>Physical sciences</td><td>f                </td><td> 39              </td><td> 9               </td></tr>\n",
       "\t<tr><td>Physics          </td><td>m                </td><td> 67              </td><td>18               </td></tr>\n",
       "\t<tr><td>Physics          </td><td>f                </td><td>  9              </td><td> 2               </td></tr>\n",
       "</tbody>\n",
       "</table>\n"
      ],
      "text/latex": [
       "\\begin{tabular}{r|llll}\n",
       " discipline & gender & applications & awards\\\\\n",
       "\\hline\n",
       "\t Chemical sciences & m                 &  83               & 22               \\\\\n",
       "\t Chemical sciences & f                 &  39               & 10               \\\\\n",
       "\t Physical sciences & m                 & 135               & 26               \\\\\n",
       "\t Physical sciences & f                 &  39               &  9               \\\\\n",
       "\t Physics           & m                 &  67               & 18               \\\\\n",
       "\t Physics           & f                 &   9               &  2               \\\\\n",
       "\\end{tabular}\n"
      ],
      "text/markdown": [
       "\n",
       "| discipline | gender | applications | awards |\n",
       "|---|---|---|---|\n",
       "| Chemical sciences | m                 |  83               | 22                |\n",
       "| Chemical sciences | f                 |  39               | 10                |\n",
       "| Physical sciences | m                 | 135               | 26                |\n",
       "| Physical sciences | f                 |  39               |  9                |\n",
       "| Physics           | m                 |  67               | 18                |\n",
       "| Physics           | f                 |   9               |  2                |\n",
       "\n"
      ],
      "text/plain": [
       "  discipline        gender applications awards\n",
       "1 Chemical sciences m       83          22    \n",
       "2 Chemical sciences f       39          10    \n",
       "3 Physical sciences m      135          26    \n",
       "4 Physical sciences f       39           9    \n",
       "5 Physics           m       67          18    \n",
       "6 Physics           f        9           2    "
      ]
     },
     "metadata": {},
     "output_type": "display_data"
    }
   ],
   "source": [
    "library(rethinking)\n",
    "data(NWOGrants)\n",
    "d <- NWOGrants\n",
    "d %>% head"
   ]
  },
  {
   "cell_type": "markdown",
   "metadata": {
    "hidden": true
   },
   "source": [
    "<img src='pics/SR_s34.png' alt='Drawing' style='width:425pt'/>"
   ]
  },
  {
   "cell_type": "markdown",
   "metadata": {
    "hidden": true
   },
   "source": [
    "##### Total Causal Influence"
   ]
  },
  {
   "cell_type": "code",
   "execution_count": 61,
   "metadata": {
    "hidden": true
   },
   "outputs": [],
   "source": [
    "dat_list <- list(\n",
    "    awards = as.integer(d$awards),\n",
    "    apps = as.integer(d$applications),\n",
    "    gid = ifelse( d$gender==\"m\" , 1L , 2L )\n",
    ")"
   ]
  },
  {
   "cell_type": "code",
   "execution_count": 62,
   "metadata": {
    "collapsed": true,
    "hidden": true
   },
   "outputs": [
    {
     "name": "stdout",
     "output_type": "stream",
     "text": [
      "\n",
      "SAMPLING FOR MODEL '7b97d6bf27f8434a1b6a55478eb4ef4d' NOW (CHAIN 1).\n",
      "Chain 1: \n",
      "Chain 1: Gradient evaluation took 0 seconds\n",
      "Chain 1: 1000 transitions using 10 leapfrog steps per transition would take 0 seconds.\n",
      "Chain 1: Adjust your expectations accordingly!\n",
      "Chain 1: \n",
      "Chain 1: \n",
      "Chain 1: Iteration:   1 / 1000 [  0%]  (Warmup)\n",
      "Chain 1: Iteration: 100 / 1000 [ 10%]  (Warmup)\n",
      "Chain 1: Iteration: 200 / 1000 [ 20%]  (Warmup)\n",
      "Chain 1: Iteration: 300 / 1000 [ 30%]  (Warmup)\n",
      "Chain 1: Iteration: 400 / 1000 [ 40%]  (Warmup)\n",
      "Chain 1: Iteration: 500 / 1000 [ 50%]  (Warmup)\n",
      "Chain 1: Iteration: 501 / 1000 [ 50%]  (Sampling)\n",
      "Chain 1: Iteration: 600 / 1000 [ 60%]  (Sampling)\n",
      "Chain 1: Iteration: 700 / 1000 [ 70%]  (Sampling)\n",
      "Chain 1: Iteration: 800 / 1000 [ 80%]  (Sampling)\n",
      "Chain 1: Iteration: 900 / 1000 [ 90%]  (Sampling)\n",
      "Chain 1: Iteration: 1000 / 1000 [100%]  (Sampling)\n",
      "Chain 1: \n",
      "Chain 1:  Elapsed Time: 0.028 seconds (Warm-up)\n",
      "Chain 1:                0.019 seconds (Sampling)\n",
      "Chain 1:                0.047 seconds (Total)\n",
      "Chain 1: \n",
      "\n",
      "SAMPLING FOR MODEL '7b97d6bf27f8434a1b6a55478eb4ef4d' NOW (CHAIN 2).\n",
      "Chain 2: \n",
      "Chain 2: Gradient evaluation took 0 seconds\n",
      "Chain 2: 1000 transitions using 10 leapfrog steps per transition would take 0 seconds.\n",
      "Chain 2: Adjust your expectations accordingly!\n",
      "Chain 2: \n",
      "Chain 2: \n",
      "Chain 2: Iteration:   1 / 1000 [  0%]  (Warmup)\n",
      "Chain 2: Iteration: 100 / 1000 [ 10%]  (Warmup)\n",
      "Chain 2: Iteration: 200 / 1000 [ 20%]  (Warmup)\n",
      "Chain 2: Iteration: 300 / 1000 [ 30%]  (Warmup)\n",
      "Chain 2: Iteration: 400 / 1000 [ 40%]  (Warmup)\n",
      "Chain 2: Iteration: 500 / 1000 [ 50%]  (Warmup)\n",
      "Chain 2: Iteration: 501 / 1000 [ 50%]  (Sampling)\n",
      "Chain 2: Iteration: 600 / 1000 [ 60%]  (Sampling)\n",
      "Chain 2: Iteration: 700 / 1000 [ 70%]  (Sampling)\n",
      "Chain 2: Iteration: 800 / 1000 [ 80%]  (Sampling)\n",
      "Chain 2: Iteration: 900 / 1000 [ 90%]  (Sampling)\n",
      "Chain 2: Iteration: 1000 / 1000 [100%]  (Sampling)\n",
      "Chain 2: \n",
      "Chain 2:  Elapsed Time: 0.023 seconds (Warm-up)\n",
      "Chain 2:                0.019 seconds (Sampling)\n",
      "Chain 2:                0.042 seconds (Total)\n",
      "Chain 2: \n",
      "\n",
      "SAMPLING FOR MODEL '7b97d6bf27f8434a1b6a55478eb4ef4d' NOW (CHAIN 3).\n",
      "Chain 3: \n",
      "Chain 3: Gradient evaluation took 0 seconds\n",
      "Chain 3: 1000 transitions using 10 leapfrog steps per transition would take 0 seconds.\n",
      "Chain 3: Adjust your expectations accordingly!\n",
      "Chain 3: \n",
      "Chain 3: \n",
      "Chain 3: Iteration:   1 / 1000 [  0%]  (Warmup)\n",
      "Chain 3: Iteration: 100 / 1000 [ 10%]  (Warmup)\n",
      "Chain 3: Iteration: 200 / 1000 [ 20%]  (Warmup)\n",
      "Chain 3: Iteration: 300 / 1000 [ 30%]  (Warmup)\n",
      "Chain 3: Iteration: 400 / 1000 [ 40%]  (Warmup)\n",
      "Chain 3: Iteration: 500 / 1000 [ 50%]  (Warmup)\n",
      "Chain 3: Iteration: 501 / 1000 [ 50%]  (Sampling)\n",
      "Chain 3: Iteration: 600 / 1000 [ 60%]  (Sampling)\n",
      "Chain 3: Iteration: 700 / 1000 [ 70%]  (Sampling)\n",
      "Chain 3: Iteration: 800 / 1000 [ 80%]  (Sampling)\n",
      "Chain 3: Iteration: 900 / 1000 [ 90%]  (Sampling)\n",
      "Chain 3: Iteration: 1000 / 1000 [100%]  (Sampling)\n",
      "Chain 3: \n",
      "Chain 3:  Elapsed Time: 0.021 seconds (Warm-up)\n",
      "Chain 3:                0.018 seconds (Sampling)\n",
      "Chain 3:                0.039 seconds (Total)\n",
      "Chain 3: \n",
      "\n",
      "SAMPLING FOR MODEL '7b97d6bf27f8434a1b6a55478eb4ef4d' NOW (CHAIN 4).\n",
      "Chain 4: \n",
      "Chain 4: Gradient evaluation took 0 seconds\n",
      "Chain 4: 1000 transitions using 10 leapfrog steps per transition would take 0 seconds.\n",
      "Chain 4: Adjust your expectations accordingly!\n",
      "Chain 4: \n",
      "Chain 4: \n",
      "Chain 4: Iteration:   1 / 1000 [  0%]  (Warmup)\n",
      "Chain 4: Iteration: 100 / 1000 [ 10%]  (Warmup)\n",
      "Chain 4: Iteration: 200 / 1000 [ 20%]  (Warmup)\n",
      "Chain 4: Iteration: 300 / 1000 [ 30%]  (Warmup)\n",
      "Chain 4: Iteration: 400 / 1000 [ 40%]  (Warmup)\n",
      "Chain 4: Iteration: 500 / 1000 [ 50%]  (Warmup)\n",
      "Chain 4: Iteration: 501 / 1000 [ 50%]  (Sampling)\n",
      "Chain 4: Iteration: 600 / 1000 [ 60%]  (Sampling)\n",
      "Chain 4: Iteration: 700 / 1000 [ 70%]  (Sampling)\n",
      "Chain 4: Iteration: 800 / 1000 [ 80%]  (Sampling)\n",
      "Chain 4: Iteration: 900 / 1000 [ 90%]  (Sampling)\n",
      "Chain 4: Iteration: 1000 / 1000 [100%]  (Sampling)\n",
      "Chain 4: \n",
      "Chain 4:  Elapsed Time: 0.021 seconds (Warm-up)\n",
      "Chain 4:                0.019 seconds (Sampling)\n",
      "Chain 4:                0.04 seconds (Total)\n",
      "Chain 4: \n"
     ]
    }
   ],
   "source": [
    "m1_total <- ulam(\n",
    "    alist(\n",
    "        awards ~ binomial( apps , p ),\n",
    "        logit(p) <- a[gid],\n",
    "        a[gid] ~ normal(-1,1)\n",
    "    ), data=dat_list , chains=4 )"
   ]
  },
  {
   "cell_type": "code",
   "execution_count": 64,
   "metadata": {
    "hidden": true
   },
   "outputs": [
    {
     "data": {
      "text/html": [
       "<table>\n",
       "<thead><tr><th></th><th scope=col>mean</th><th scope=col>sd</th><th scope=col>5.5%</th><th scope=col>94.5%</th><th scope=col>n_eff</th><th scope=col>Rhat</th></tr></thead>\n",
       "<tbody>\n",
       "\t<tr><th scope=row>a[1]</th><td>-1.53  </td><td>0.07   </td><td>-1.64  </td><td>-1.43  </td><td>1104.97</td><td>1      </td></tr>\n",
       "\t<tr><th scope=row>a[2]</th><td>-1.74  </td><td>0.08   </td><td>-1.86  </td><td>-1.62  </td><td>1343.04</td><td>1      </td></tr>\n",
       "</tbody>\n",
       "</table>\n"
      ],
      "text/latex": [
       "\\begin{tabular}{r|llllll}\n",
       "  & mean & sd & 5.5\\% & 94.5\\% & n\\_eff & Rhat\\\\\n",
       "\\hline\n",
       "\ta{[}1{]} & -1.53   & 0.07    & -1.64   & -1.43   & 1104.97 & 1      \\\\\n",
       "\ta{[}2{]} & -1.74   & 0.08    & -1.86   & -1.62   & 1343.04 & 1      \\\\\n",
       "\\end{tabular}\n"
      ],
      "text/markdown": [
       "\n",
       "| <!--/--> | mean | sd | 5.5% | 94.5% | n_eff | Rhat |\n",
       "|---|---|---|---|---|---|---|\n",
       "| a[1] | -1.53   | 0.07    | -1.64   | -1.43   | 1104.97 | 1       |\n",
       "| a[2] | -1.74   | 0.08    | -1.86   | -1.62   | 1343.04 | 1       |\n",
       "\n"
      ],
      "text/plain": [
       "     mean  sd   5.5%  94.5% n_eff   Rhat\n",
       "a[1] -1.53 0.07 -1.64 -1.43 1104.97 1   \n",
       "a[2] -1.74 0.08 -1.86 -1.62 1343.04 1   "
      ]
     },
     "metadata": {},
     "output_type": "display_data"
    }
   ],
   "source": [
    "precis(m1_total,2) %>% round(2)"
   ]
  },
  {
   "cell_type": "code",
   "execution_count": 70,
   "metadata": {
    "hidden": true
   },
   "outputs": [],
   "source": [
    "post <- extract.samples(m1_total)\n",
    "diff <- inv_logit( post$a[,1] ) - inv_logit( post$a[,2] )"
   ]
  },
  {
   "cell_type": "code",
   "execution_count": 105,
   "metadata": {
    "hidden": true,
    "scrolled": true
   },
   "outputs": [
    {
     "name": "stdout",
     "output_type": "stream",
     "text": [
      "List of 1\n",
      " $ a: num [1:2000, 1:2] -1.65 -1.66 -1.51 -1.58 -1.61 ...\n",
      " - attr(*, \"source\")= chr \"ulam posterior: 2000 samples from m1_total\"\n"
     ]
    },
    {
     "data": {
      "text/html": [
       "<table>\n",
       "<tbody>\n",
       "\t<tr><td>-1.65</td><td>-1.63</td></tr>\n",
       "\t<tr><td>-1.66</td><td>-1.78</td></tr>\n",
       "\t<tr><td>-1.51</td><td>-1.78</td></tr>\n",
       "\t<tr><td>-1.58</td><td>-1.67</td></tr>\n",
       "\t<tr><td>-1.61</td><td>-1.67</td></tr>\n",
       "\t<tr><td>-1.50</td><td>-1.78</td></tr>\n",
       "</tbody>\n",
       "</table>\n"
      ],
      "text/latex": [
       "\\begin{tabular}{ll}\n",
       "\t -1.65 & -1.63\\\\\n",
       "\t -1.66 & -1.78\\\\\n",
       "\t -1.51 & -1.78\\\\\n",
       "\t -1.58 & -1.67\\\\\n",
       "\t -1.61 & -1.67\\\\\n",
       "\t -1.50 & -1.78\\\\\n",
       "\\end{tabular}\n"
      ],
      "text/markdown": [
       "\n",
       "| -1.65 | -1.63 |\n",
       "| -1.66 | -1.78 |\n",
       "| -1.51 | -1.78 |\n",
       "| -1.58 | -1.67 |\n",
       "| -1.61 | -1.67 |\n",
       "| -1.50 | -1.78 |\n",
       "\n"
      ],
      "text/plain": [
       "     [,1]  [,2] \n",
       "[1,] -1.65 -1.63\n",
       "[2,] -1.66 -1.78\n",
       "[3,] -1.51 -1.78\n",
       "[4,] -1.58 -1.67\n",
       "[5,] -1.61 -1.67\n",
       "[6,] -1.50 -1.78"
      ]
     },
     "metadata": {},
     "output_type": "display_data"
    }
   ],
   "source": [
    "post %>% str\n",
    "post$a %>% head %>% round(2)"
   ]
  },
  {
   "cell_type": "code",
   "execution_count": 104,
   "metadata": {
    "hidden": true
   },
   "outputs": [
    {
     "data": {
      "text/html": [
       "-1.67"
      ],
      "text/latex": [
       "-1.67"
      ],
      "text/markdown": [
       "-1.67"
      ],
      "text/plain": [
       "[1] -1.67"
      ]
     },
     "metadata": {},
     "output_type": "display_data"
    }
   ],
   "source": [
    "post$a[4,2] %>% round(2)"
   ]
  },
  {
   "cell_type": "code",
   "execution_count": 87,
   "metadata": {
    "hidden": true
   },
   "outputs": [
    {
     "data": {
      "text/html": [
       "<table>\n",
       "<thead><tr><th></th><th scope=col>mean</th><th scope=col>sd</th><th scope=col>5.5%</th><th scope=col>94.5%</th></tr></thead>\n",
       "<tbody>\n",
       "\t<tr><th scope=row>diff</th><td>0.03</td><td>0.01</td><td>0.01</td><td>0.05</td></tr>\n",
       "</tbody>\n",
       "</table>\n"
      ],
      "text/latex": [
       "\\begin{tabular}{r|llll}\n",
       "  & mean & sd & 5.5\\% & 94.5\\%\\\\\n",
       "\\hline\n",
       "\tdiff & 0.03 & 0.01 & 0.01 & 0.05\\\\\n",
       "\\end{tabular}\n"
      ],
      "text/markdown": [
       "\n",
       "| <!--/--> | mean | sd | 5.5% | 94.5% |\n",
       "|---|---|---|---|---|\n",
       "| diff | 0.03 | 0.01 | 0.01 | 0.05 |\n",
       "\n"
      ],
      "text/plain": [
       "     mean sd   5.5% 94.5%\n",
       "diff 0.03 0.01 0.01 0.05 "
      ]
     },
     "metadata": {},
     "output_type": "display_data"
    }
   ],
   "source": [
    "precis( list( diff=diff ) )[1:4] %>% round(2)"
   ]
  },
  {
   "cell_type": "markdown",
   "metadata": {
    "hidden": true
   },
   "source": [
    "##### direct influence of gender"
   ]
  },
  {
   "cell_type": "code",
   "execution_count": 107,
   "metadata": {
    "hidden": true
   },
   "outputs": [],
   "source": [
    "dat_list$disc <- as.integer(d$discipline)\n",
    "m1_direct <- ulam(\n",
    "    alist(\n",
    "        awards ~ binomial( apps , p ),\n",
    "        logit(p) <- a[gid] + d[disc],\n",
    "        a[gid] ~ normal(-1,1),\n",
    "        d[disc] ~ normal(0,1)\n",
    "    ),\n",
    "    data=dat_list , chains=4 , cores=4 , iter=3000 )"
   ]
  },
  {
   "cell_type": "code",
   "execution_count": 113,
   "metadata": {
    "hidden": true
   },
   "outputs": [
    {
     "data": {
      "text/html": [
       "<table>\n",
       "<thead><tr><th></th><th scope=col>mean</th><th scope=col>sd</th><th scope=col>5.5%</th><th scope=col>94.5%</th><th scope=col>n_eff</th><th scope=col>Rhat</th></tr></thead>\n",
       "<tbody>\n",
       "\t<tr><th scope=row>a[1]</th><td>-1.35 </td><td>0.31  </td><td>-1.85 </td><td>-0.87 </td><td>540.63</td><td>1     </td></tr>\n",
       "\t<tr><th scope=row>a[2]</th><td>-1.50 </td><td>0.31  </td><td>-2.00 </td><td>-1.00 </td><td>562.41</td><td>1     </td></tr>\n",
       "\t<tr><th scope=row>d[1]</th><td> 0.34 </td><td>0.36  </td><td>-0.23 </td><td> 0.91 </td><td>712.02</td><td>1     </td></tr>\n",
       "\t<tr><th scope=row>d[2]</th><td> 0.01 </td><td>0.34  </td><td>-0.53 </td><td> 0.54 </td><td>653.89</td><td>1     </td></tr>\n",
       "\t<tr><th scope=row>d[3]</th><td>-0.22 </td><td>0.33  </td><td>-0.75 </td><td> 0.31 </td><td>623.50</td><td>1     </td></tr>\n",
       "\t<tr><th scope=row>d[4]</th><td>-0.26 </td><td>0.35  </td><td>-0.82 </td><td> 0.29 </td><td>696.35</td><td>1     </td></tr>\n",
       "\t<tr><th scope=row>d[5]</th><td>-0.32 </td><td>0.33  </td><td>-0.84 </td><td> 0.21 </td><td>619.47</td><td>1     </td></tr>\n",
       "\t<tr><th scope=row>d[6]</th><td> 0.00 </td><td>0.35  </td><td>-0.57 </td><td> 0.57 </td><td>649.98</td><td>1     </td></tr>\n",
       "\t<tr><th scope=row>d[7]</th><td> 0.31 </td><td>0.39  </td><td>-0.33 </td><td> 0.92 </td><td>836.11</td><td>1     </td></tr>\n",
       "\t<tr><th scope=row>d[8]</th><td>-0.44 </td><td>0.32  </td><td>-0.96 </td><td> 0.07 </td><td>567.64</td><td>1     </td></tr>\n",
       "\t<tr><th scope=row>d[9]</th><td>-0.19 </td><td>0.34  </td><td>-0.74 </td><td> 0.35 </td><td>694.32</td><td>1     </td></tr>\n",
       "</tbody>\n",
       "</table>\n"
      ],
      "text/latex": [
       "\\begin{tabular}{r|llllll}\n",
       "  & mean & sd & 5.5\\% & 94.5\\% & n\\_eff & Rhat\\\\\n",
       "\\hline\n",
       "\ta{[}1{]} & -1.35  & 0.31   & -1.85  & -0.87  & 540.63 & 1     \\\\\n",
       "\ta{[}2{]} & -1.50  & 0.31   & -2.00  & -1.00  & 562.41 & 1     \\\\\n",
       "\td{[}1{]} &  0.34  & 0.36   & -0.23  &  0.91  & 712.02 & 1     \\\\\n",
       "\td{[}2{]} &  0.01  & 0.34   & -0.53  &  0.54  & 653.89 & 1     \\\\\n",
       "\td{[}3{]} & -0.22  & 0.33   & -0.75  &  0.31  & 623.50 & 1     \\\\\n",
       "\td{[}4{]} & -0.26  & 0.35   & -0.82  &  0.29  & 696.35 & 1     \\\\\n",
       "\td{[}5{]} & -0.32  & 0.33   & -0.84  &  0.21  & 619.47 & 1     \\\\\n",
       "\td{[}6{]} &  0.00  & 0.35   & -0.57  &  0.57  & 649.98 & 1     \\\\\n",
       "\td{[}7{]} &  0.31  & 0.39   & -0.33  &  0.92  & 836.11 & 1     \\\\\n",
       "\td{[}8{]} & -0.44  & 0.32   & -0.96  &  0.07  & 567.64 & 1     \\\\\n",
       "\td{[}9{]} & -0.19  & 0.34   & -0.74  &  0.35  & 694.32 & 1     \\\\\n",
       "\\end{tabular}\n"
      ],
      "text/markdown": [
       "\n",
       "| <!--/--> | mean | sd | 5.5% | 94.5% | n_eff | Rhat |\n",
       "|---|---|---|---|---|---|---|\n",
       "| a[1] | -1.35  | 0.31   | -1.85  | -0.87  | 540.63 | 1      |\n",
       "| a[2] | -1.50  | 0.31   | -2.00  | -1.00  | 562.41 | 1      |\n",
       "| d[1] |  0.34  | 0.36   | -0.23  |  0.91  | 712.02 | 1      |\n",
       "| d[2] |  0.01  | 0.34   | -0.53  |  0.54  | 653.89 | 1      |\n",
       "| d[3] | -0.22  | 0.33   | -0.75  |  0.31  | 623.50 | 1      |\n",
       "| d[4] | -0.26  | 0.35   | -0.82  |  0.29  | 696.35 | 1      |\n",
       "| d[5] | -0.32  | 0.33   | -0.84  |  0.21  | 619.47 | 1      |\n",
       "| d[6] |  0.00  | 0.35   | -0.57  |  0.57  | 649.98 | 1      |\n",
       "| d[7] |  0.31  | 0.39   | -0.33  |  0.92  | 836.11 | 1      |\n",
       "| d[8] | -0.44  | 0.32   | -0.96  |  0.07  | 567.64 | 1      |\n",
       "| d[9] | -0.19  | 0.34   | -0.74  |  0.35  | 694.32 | 1      |\n",
       "\n"
      ],
      "text/plain": [
       "     mean  sd   5.5%  94.5% n_eff  Rhat\n",
       "a[1] -1.35 0.31 -1.85 -0.87 540.63 1   \n",
       "a[2] -1.50 0.31 -2.00 -1.00 562.41 1   \n",
       "d[1]  0.34 0.36 -0.23  0.91 712.02 1   \n",
       "d[2]  0.01 0.34 -0.53  0.54 653.89 1   \n",
       "d[3] -0.22 0.33 -0.75  0.31 623.50 1   \n",
       "d[4] -0.26 0.35 -0.82  0.29 696.35 1   \n",
       "d[5] -0.32 0.33 -0.84  0.21 619.47 1   \n",
       "d[6]  0.00 0.35 -0.57  0.57 649.98 1   \n",
       "d[7]  0.31 0.39 -0.33  0.92 836.11 1   \n",
       "d[8] -0.44 0.32 -0.96  0.07 567.64 1   \n",
       "d[9] -0.19 0.34 -0.74  0.35 694.32 1   "
      ]
     },
     "metadata": {},
     "output_type": "display_data"
    }
   ],
   "source": [
    "precis(m1_direct, depth=2) %>% round(2)"
   ]
  },
  {
   "cell_type": "code",
   "execution_count": 114,
   "metadata": {
    "hidden": true
   },
   "outputs": [
    {
     "data": {
      "image/png": "[encoded data removed]",
      "text/plain": [
       "plot without title"
      ]
     },
     "metadata": {},
     "output_type": "display_data"
    }
   ],
   "source": [
    "postcheck(m1_direct)"
   ]
  },
  {
   "cell_type": "markdown",
   "metadata": {
    "hidden": true
   },
   "source": [
    "Blue points are observed proportions admitted for each row in the data, with points from the same department connected by a blue line. \n",
    "\n",
    "Open points, the tiny vertical black lines within them, and the crosses are expected proportions, 89% intervals of the expectation, and 89% interval of simulated samples, respectively."
   ]
  },
  {
   "cell_type": "code",
   "execution_count": 125,
   "metadata": {
    "cell_style": "split",
    "hidden": true
   },
   "outputs": [
    {
     "data": {
      "image/png": "[encoded data removed]",
      "text/plain": [
       "plot without title"
      ]
     },
     "metadata": {},
     "output_type": "display_data"
    }
   ],
   "source": [
    "library(dagitty)\n",
    "a_dag <- dagitty( \"dag{\n",
    "    \n",
    "    G -> D <- S -> A\n",
    "    D -> A <- G\n",
    "}\")\n",
    "\n",
    "coordinates(a_dag) <- list(x= c(G=0 , D =1 , S =2, A=1),\n",
    "                           y= c(G=0 , D =0 , S =0, A=1))                                                     \n",
    "\n",
    "plot( a_dag )\n",
    "# plot(graphLayout(a_dag)) # without coordinates (auto-generated)"
   ]
  },
  {
   "cell_type": "code",
   "execution_count": 126,
   "metadata": {
    "cell_style": "split",
    "hidden": true
   },
   "outputs": [
    {
     "data": {
      "text/plain": [
       "G _||_ S"
      ]
     },
     "metadata": {},
     "output_type": "display_data"
    }
   ],
   "source": [
    "impliedConditionalIndependencies(a_dag)"
   ]
  },
  {
   "cell_type": "code",
   "execution_count": 127,
   "metadata": {
    "cell_style": "split",
    "hidden": true
   },
   "outputs": [
    {
     "data": {
      "text/plain": [
       " { G, S }"
      ]
     },
     "metadata": {},
     "output_type": "display_data"
    }
   ],
   "source": [
    "adjustmentSets( a_dag , exposure=\"D\" , outcome=\"A\" )"
   ]
  },
  {
   "cell_type": "code",
   "execution_count": 128,
   "metadata": {
    "cell_style": "split",
    "hidden": true
   },
   "outputs": [],
   "source": [
    "set.seed(1913)\n",
    "N <- 1000\n",
    "G <- rbern(N)\n",
    "S <- rbern(N)\n",
    "D <- rbern( N , p=inv_logit( G + S ) )\n",
    "A <- rbern( N , p=inv_logit( 0.25*G + D + 2*S - 2 ) )\n",
    "dat_sim <- list( G=G , D=D , A=A )"
   ]
  },
  {
   "cell_type": "code",
   "execution_count": 138,
   "metadata": {
    "cell_style": "split",
    "hidden": true
   },
   "outputs": [
    {
     "data": {
      "text/html": [
       "<ol class=list-inline>\n",
       "\t<li>0.731058578630005</li>\n",
       "\t<li>0.880797077977882</li>\n",
       "\t<li>0.5</li>\n",
       "\t<li>0.731058578630005</li>\n",
       "\t<li>0.731058578630005</li>\n",
       "\t<li>0.731058578630005</li>\n",
       "</ol>\n"
      ],
      "text/latex": [
       "\\begin{enumerate*}\n",
       "\\item 0.731058578630005\n",
       "\\item 0.880797077977882\n",
       "\\item 0.5\n",
       "\\item 0.731058578630005\n",
       "\\item 0.731058578630005\n",
       "\\item 0.731058578630005\n",
       "\\end{enumerate*}\n"
      ],
      "text/markdown": [
       "1. 0.731058578630005\n",
       "2. 0.880797077977882\n",
       "3. 0.5\n",
       "4. 0.731058578630005\n",
       "5. 0.731058578630005\n",
       "6. 0.731058578630005\n",
       "\n",
       "\n"
      ],
      "text/plain": [
       "[1] 0.7310586 0.8807971 0.5000000 0.7310586 0.7310586 0.7310586"
      ]
     },
     "metadata": {},
     "output_type": "display_data"
    }
   ],
   "source": [
    "inv_logit( G + S ) %>% head"
   ]
  },
  {
   "cell_type": "code",
   "execution_count": 140,
   "metadata": {
    "hidden": true
   },
   "outputs": [],
   "source": [
    "library(rethinking)\n",
    "data(Primates301)\n",
    "d <- Primates301\n",
    "d2 <- d[ complete.cases( d$social_learning , d$brain , d$research_effort ) , ]\n",
    "\n",
    "dat <- list(\n",
    "    soc_learn = d2$social_learning,\n",
    "    log_brain = standardize( log(d2$brain) ),\n",
    "    log_effort = log(d2$research_effort)\n",
    ")"
   ]
  },
  {
   "cell_type": "code",
   "execution_count": 146,
   "metadata": {
    "hidden": true
   },
   "outputs": [
    {
     "data": {
      "text/html": [
       "<table>\n",
       "<thead><tr><th></th><th scope=col>1</th><th scope=col>3</th><th scope=col>4</th><th scope=col>5</th><th scope=col>6</th><th scope=col>7</th></tr></thead>\n",
       "<tbody>\n",
       "\t<tr><th scope=row>name</th><td>Allenopithecus_nigroviridis</td><td>Alouatta_belzebul          </td><td>Alouatta_caraya            </td><td>Alouatta_guariba           </td><td>Alouatta_palliata          </td><td>Alouatta_pigra             </td></tr>\n",
       "\t<tr><th scope=row>genus</th><td>Allenopithecus             </td><td>Alouatta                   </td><td>Alouatta                   </td><td>Alouatta                   </td><td>Alouatta                   </td><td>Alouatta                   </td></tr>\n",
       "\t<tr><th scope=row>species</th><td>nigroviridis               </td><td>belzebul                   </td><td>caraya                     </td><td>guariba                    </td><td>palliata                   </td><td>pigra                      </td></tr>\n",
       "\t<tr><th scope=row>subspecies</th><td>NA                         </td><td>NA                         </td><td>NA                         </td><td>NA                         </td><td>NA                         </td><td>NA                         </td></tr>\n",
       "\t<tr><th scope=row>spp_id</th><td>1                          </td><td>3                          </td><td>4                          </td><td>5                          </td><td>6                          </td><td>7                          </td></tr>\n",
       "\t<tr><th scope=row>genus_id</th><td>1                          </td><td>3                          </td><td>3                          </td><td>3                          </td><td>3                          </td><td>3                          </td></tr>\n",
       "\t<tr><th scope=row>social_learning</th><td>0                          </td><td>0                          </td><td>0                          </td><td>0                          </td><td>3                          </td><td>0                          </td></tr>\n",
       "\t<tr><th scope=row>research_effort</th><td> 6                         </td><td>15                         </td><td>45                         </td><td>37                         </td><td>79                         </td><td>25                         </td></tr>\n",
       "\t<tr><th scope=row>brain</th><td>58.02                      </td><td>52.84                      </td><td>52.63                      </td><td>51.70                      </td><td>49.88                      </td><td>51.13                      </td></tr>\n",
       "\t<tr><th scope=row>body</th><td>4655                       </td><td>6395                       </td><td>5383                       </td><td>5175                       </td><td>6250                       </td><td>8915                       </td></tr>\n",
       "\t<tr><th scope=row>group_size</th><td>40.0                       </td><td> 7.4                       </td><td> 8.9                       </td><td> 7.4                       </td><td>13.1                       </td><td> 5.5                       </td></tr>\n",
       "\t<tr><th scope=row>gestation</th><td>NA                         </td><td>NA                         </td><td>185.92                     </td><td>NA                         </td><td>185.42                     </td><td>185.92                     </td></tr>\n",
       "\t<tr><th scope=row>weaning</th><td>106.15                     </td><td>NA                         </td><td>323.16                     </td><td>NA                         </td><td>495.60                     </td><td>NA                         </td></tr>\n",
       "\t<tr><th scope=row>longevity</th><td>276.0                      </td><td>NA                         </td><td>243.6                      </td><td>NA                         </td><td>300.0                      </td><td>240.0                      </td></tr>\n",
       "\t<tr><th scope=row>sex_maturity</th><td>NA                         </td><td>NA                         </td><td>1276.72                    </td><td>NA                         </td><td>1578.42                    </td><td>NA                         </td></tr>\n",
       "\t<tr><th scope=row>maternal_investment</th><td>NA                         </td><td>NA                         </td><td>509.08                     </td><td>NA                         </td><td>681.02                     </td><td>NA                         </td></tr>\n",
       "</tbody>\n",
       "</table>\n"
      ],
      "text/latex": [
       "\\begin{tabular}{r|llllll}\n",
       "  & 1 & 3 & 4 & 5 & 6 & 7\\\\\n",
       "\\hline\n",
       "\tname & Allenopithecus\\_nigroviridis & Alouatta\\_belzebul           & Alouatta\\_caraya             & Alouatta\\_guariba            & Alouatta\\_palliata           & Alouatta\\_pigra             \\\\\n",
       "\tgenus & Allenopithecus              & Alouatta                    & Alouatta                    & Alouatta                    & Alouatta                    & Alouatta                   \\\\\n",
       "\tspecies & nigroviridis                & belzebul                    & caraya                      & guariba                     & palliata                    & pigra                      \\\\\n",
       "\tsubspecies & NA                          & NA                          & NA                          & NA                          & NA                          & NA                         \\\\\n",
       "\tspp\\_id & 1                           & 3                           & 4                           & 5                           & 6                           & 7                          \\\\\n",
       "\tgenus\\_id & 1                           & 3                           & 3                           & 3                           & 3                           & 3                          \\\\\n",
       "\tsocial\\_learning & 0                           & 0                           & 0                           & 0                           & 3                           & 0                          \\\\\n",
       "\tresearch\\_effort &  6                          & 15                          & 45                          & 37                          & 79                          & 25                         \\\\\n",
       "\tbrain & 58.02                       & 52.84                       & 52.63                       & 51.70                       & 49.88                       & 51.13                      \\\\\n",
       "\tbody & 4655                        & 6395                        & 5383                        & 5175                        & 6250                        & 8915                       \\\\\n",
       "\tgroup\\_size & 40.0                        &  7.4                        &  8.9                        &  7.4                        & 13.1                        &  5.5                       \\\\\n",
       "\tgestation & NA                          & NA                          & 185.92                      & NA                          & 185.42                      & 185.92                     \\\\\n",
       "\tweaning & 106.15                      & NA                          & 323.16                      & NA                          & 495.60                      & NA                         \\\\\n",
       "\tlongevity & 276.0                       & NA                          & 243.6                       & NA                          & 300.0                       & 240.0                      \\\\\n",
       "\tsex\\_maturity & NA                          & NA                          & 1276.72                     & NA                          & 1578.42                     & NA                         \\\\\n",
       "\tmaternal\\_investment & NA                          & NA                          & 509.08                      & NA                          & 681.02                      & NA                         \\\\\n",
       "\\end{tabular}\n"
      ],
      "text/markdown": [
       "\n",
       "| <!--/--> | 1 | 3 | 4 | 5 | 6 | 7 |\n",
       "|---|---|---|---|---|---|---|\n",
       "| name | Allenopithecus_nigroviridis | Alouatta_belzebul           | Alouatta_caraya             | Alouatta_guariba            | Alouatta_palliata           | Alouatta_pigra              |\n",
       "| genus | Allenopithecus              | Alouatta                    | Alouatta                    | Alouatta                    | Alouatta                    | Alouatta                    |\n",
       "| species | nigroviridis                | belzebul                    | caraya                      | guariba                     | palliata                    | pigra                       |\n",
       "| subspecies | NA                          | NA                          | NA                          | NA                          | NA                          | NA                          |\n",
       "| spp_id | 1                           | 3                           | 4                           | 5                           | 6                           | 7                           |\n",
       "| genus_id | 1                           | 3                           | 3                           | 3                           | 3                           | 3                           |\n",
       "| social_learning | 0                           | 0                           | 0                           | 0                           | 3                           | 0                           |\n",
       "| research_effort |  6                          | 15                          | 45                          | 37                          | 79                          | 25                          |\n",
       "| brain | 58.02                       | 52.84                       | 52.63                       | 51.70                       | 49.88                       | 51.13                       |\n",
       "| body | 4655                        | 6395                        | 5383                        | 5175                        | 6250                        | 8915                        |\n",
       "| group_size | 40.0                        |  7.4                        |  8.9                        |  7.4                        | 13.1                        |  5.5                        |\n",
       "| gestation | NA                          | NA                          | 185.92                      | NA                          | 185.42                      | 185.92                      |\n",
       "| weaning | 106.15                      | NA                          | 323.16                      | NA                          | 495.60                      | NA                          |\n",
       "| longevity | 276.0                       | NA                          | 243.6                       | NA                          | 300.0                       | 240.0                       |\n",
       "| sex_maturity | NA                          | NA                          | 1276.72                     | NA                          | 1578.42                     | NA                          |\n",
       "| maternal_investment | NA                          | NA                          | 509.08                      | NA                          | 681.02                      | NA                          |\n",
       "\n"
      ],
      "text/plain": [
       "                    1                           3                \n",
       "name                Allenopithecus_nigroviridis Alouatta_belzebul\n",
       "genus               Allenopithecus              Alouatta         \n",
       "species             nigroviridis                belzebul         \n",
       "subspecies          NA                          NA               \n",
       "spp_id              1                           3                \n",
       "genus_id            1                           3                \n",
       "social_learning     0                           0                \n",
       "research_effort      6                          15               \n",
       "brain               58.02                       52.84            \n",
       "body                4655                        6395             \n",
       "group_size          40.0                         7.4             \n",
       "gestation           NA                          NA               \n",
       "weaning             106.15                      NA               \n",
       "longevity           276.0                       NA               \n",
       "sex_maturity        NA                          NA               \n",
       "maternal_investment NA                          NA               \n",
       "                    4               5                6                \n",
       "name                Alouatta_caraya Alouatta_guariba Alouatta_palliata\n",
       "genus               Alouatta        Alouatta         Alouatta         \n",
       "species             caraya          guariba          palliata         \n",
       "subspecies          NA              NA               NA               \n",
       "spp_id              4               5                6                \n",
       "genus_id            3               3                3                \n",
       "social_learning     0               0                3                \n",
       "research_effort     45              37               79               \n",
       "brain               52.63           51.70            49.88            \n",
       "body                5383            5175             6250             \n",
       "group_size           8.9             7.4             13.1             \n",
       "gestation           185.92          NA               185.42           \n",
       "weaning             323.16          NA               495.60           \n",
       "longevity           243.6           NA               300.0            \n",
       "sex_maturity        1276.72         NA               1578.42          \n",
       "maternal_investment 509.08          NA               681.02           \n",
       "                    7             \n",
       "name                Alouatta_pigra\n",
       "genus               Alouatta      \n",
       "species             pigra         \n",
       "subspecies          NA            \n",
       "spp_id              7             \n",
       "genus_id            3             \n",
       "social_learning     0             \n",
       "research_effort     25            \n",
       "brain               51.13         \n",
       "body                8915          \n",
       "group_size           5.5          \n",
       "gestation           185.92        \n",
       "weaning             NA            \n",
       "longevity           240.0         \n",
       "sex_maturity        NA            \n",
       "maternal_investment NA            "
      ]
     },
     "metadata": {},
     "output_type": "display_data"
    }
   ],
   "source": [
    "d2 %>% head() %>% t"
   ]
  },
  {
   "cell_type": "code",
   "execution_count": 145,
   "metadata": {
    "hidden": true
   },
   "outputs": [
    {
     "data": {
      "text/plain": [
       "   Min. 1st Qu.  Median    Mean 3rd Qu.    Max. \n",
       "  0.000   0.000   0.000   3.093   0.750 214.000 "
      ]
     },
     "metadata": {},
     "output_type": "display_data"
    }
   ],
   "source": [
    "d2$social_learning  %>% summary"
   ]
  },
  {
   "cell_type": "code",
   "execution_count": 147,
   "metadata": {
    "hidden": true
   },
   "outputs": [
    {
     "data": {
      "text/plain": [
       "   Min. 1st Qu.  Median    Mean 3rd Qu.    Max. \n",
       "   1.63   12.52   61.37   65.94   90.09  490.41 "
      ]
     },
     "metadata": {},
     "output_type": "display_data"
    }
   ],
   "source": [
    "d2$brain  %>% summary"
   ]
  },
  {
   "cell_type": "code",
   "execution_count": null,
   "metadata": {
    "hidden": true
   },
   "outputs": [],
   "source": [
    "m3_1 <- ulam(\n",
    "    alist(\n",
    "        soc_learn ~ poisson( lambda ),\n",
    "        log(lambda) <- a + bb*log_brain,\n",
    "        a ~ normal(0,1),\n",
    "        bb ~ normal(0,0.5)\n",
    "    ), data=dat , chains=4 , cores=4 )"
   ]
  },
  {
   "cell_type": "code",
   "execution_count": 149,
   "metadata": {
    "hidden": true
   },
   "outputs": [
    {
     "data": {
      "text/html": [
       "<table>\n",
       "<thead><tr><th></th><th scope=col>mean</th><th scope=col>sd</th><th scope=col>5.5%</th><th scope=col>94.5%</th><th scope=col>n_eff</th><th scope=col>Rhat</th></tr></thead>\n",
       "<tbody>\n",
       "\t<tr><th scope=row>a</th><td>-1.18 </td><td>0.12  </td><td>-1.37 </td><td>-0.99 </td><td>493.67</td><td>1     </td></tr>\n",
       "\t<tr><th scope=row>bb</th><td> 2.76 </td><td>0.08  </td><td> 2.64 </td><td> 2.88 </td><td>497.41</td><td>1     </td></tr>\n",
       "</tbody>\n",
       "</table>\n"
      ],
      "text/latex": [
       "\\begin{tabular}{r|llllll}\n",
       "  & mean & sd & 5.5\\% & 94.5\\% & n\\_eff & Rhat\\\\\n",
       "\\hline\n",
       "\ta & -1.18  & 0.12   & -1.37  & -0.99  & 493.67 & 1     \\\\\n",
       "\tbb &  2.76  & 0.08   &  2.64  &  2.88  & 497.41 & 1     \\\\\n",
       "\\end{tabular}\n"
      ],
      "text/markdown": [
       "\n",
       "| <!--/--> | mean | sd | 5.5% | 94.5% | n_eff | Rhat |\n",
       "|---|---|---|---|---|---|---|\n",
       "| a | -1.18  | 0.12   | -1.37  | -0.99  | 493.67 | 1      |\n",
       "| bb |  2.76  | 0.08   |  2.64  |  2.88  | 497.41 | 1      |\n",
       "\n"
      ],
      "text/plain": [
       "   mean  sd   5.5%  94.5% n_eff  Rhat\n",
       "a  -1.18 0.12 -1.37 -0.99 493.67 1   \n",
       "bb  2.76 0.08  2.64  2.88 497.41 1   "
      ]
     },
     "metadata": {},
     "output_type": "display_data"
    }
   ],
   "source": [
    "precis( m3_1, depth=2) %>% round(2)"
   ]
  },
  {
   "cell_type": "markdown",
   "metadata": {
    "heading_collapsed": true
   },
   "source": [
    "# wk 7"
   ]
  },
  {
   "cell_type": "markdown",
   "metadata": {
    "hidden": true
   },
   "source": [
    "## Q1"
   ]
  },
  {
   "cell_type": "markdown",
   "metadata": {
    "hidden": true
   },
   "source": [
    "## Q2"
   ]
  },
  {
   "cell_type": "markdown",
   "metadata": {
    "hidden": true
   },
   "source": [
    "## Q3 consider how brain size is associated with social learning."
   ]
  },
  {
   "cell_type": "code",
   "execution_count": 1,
   "metadata": {
    "collapsed": true,
    "hidden": true
   },
   "outputs": [
    {
     "name": "stderr",
     "output_type": "stream",
     "text": [
      "Loading required package: rstan\n",
      "Loading required package: ggplot2\n",
      "Loading required package: StanHeaders\n",
      "Warning message:\n",
      "\"package 'StanHeaders' was built under R version 3.5.2\"rstan (Version 2.18.2, GitRev: 2e1f913d3ca3)\n",
      "For execution on a local, multicore CPU with excess RAM we recommend calling\n",
      "options(mc.cores = parallel::detectCores()).\n",
      "To avoid recompilation of unchanged Stan programs, we recommend calling\n",
      "rstan_options(auto_write = TRUE)\n",
      "For improved execution time, we recommend calling\n",
      "Sys.setenv(LOCAL_CPPFLAGS = '-march=native')\n",
      "although this causes Stan to throw an error on a few processors.\n",
      "Loading required package: parallel\n",
      "rethinking (Version 1.86)\n",
      "-- Attaching packages --------------------------------------- tidyverse 1.2.1 --\n",
      "v tibble  2.0.1       v purrr   0.3.0  \n",
      "v tidyr   0.8.2       v dplyr   0.8.0.1\n",
      "v readr   1.3.1       v stringr 1.4.0  \n",
      "v tibble  2.0.1       v forcats 0.4.0  \n",
      "Warning message:\n",
      "\"package 'tibble' was built under R version 3.5.2\"Warning message:\n",
      "\"package 'readr' was built under R version 3.5.2\"Warning message:\n",
      "\"package 'purrr' was built under R version 3.5.2\"Warning message:\n",
      "\"package 'dplyr' was built under R version 3.5.2\"Warning message:\n",
      "\"package 'stringr' was built under R version 3.5.2\"Warning message:\n",
      "\"package 'forcats' was built under R version 3.5.2\"-- Conflicts ------------------------------------------ tidyverse_conflicts() --\n",
      "x tidyr::extract() masks rstan::extract()\n",
      "x dplyr::filter()  masks stats::filter()\n",
      "x dplyr::lag()     masks stats::lag()\n",
      "x purrr::map()     masks rethinking::map()\n"
     ]
    }
   ],
   "source": [
    "library(rethinking)\n",
    "library(tidyverse)\n",
    "data(Primates301)\n",
    "d <- Primates301\n",
    "d2 <- d[ complete.cases( d$social_learning , d$brain , d$research_effort ) , ]"
   ]
  },
  {
   "cell_type": "code",
   "execution_count": 2,
   "metadata": {
    "hidden": true
   },
   "outputs": [],
   "source": [
    "dat <- list(\n",
    "    soc_learn = d2$social_learning,\n",
    "    log_brain = standardize( log(d2$brain) ),\n",
    "    log_effort = log(d2$research_effort)\n",
    ")"
   ]
  },
  {
   "cell_type": "code",
   "execution_count": 30,
   "metadata": {
    "hidden": true
   },
   "outputs": [
    {
     "data": {
      "text/plain": [
       "   Min. 1st Qu.  Median    Mean 3rd Qu.    Max. \n",
       "  0.000   2.079   2.833   2.918   3.761   6.627 "
      ]
     },
     "metadata": {},
     "output_type": "display_data"
    }
   ],
   "source": [
    " log(d2$research_effort) %>% summary"
   ]
  },
  {
   "cell_type": "markdown",
   "metadata": {
    "hidden": true
   },
   "source": [
    "##### **<font color = 'purple'>First, model the number of observations of social_learning for each species as a function of the log brain size. Use a Poisson distribution for the social_learning outcome variable. Interpret the resulting posterior. </font>**"
   ]
  },
  {
   "cell_type": "code",
   "execution_count": 26,
   "metadata": {
    "hidden": true
   },
   "outputs": [],
   "source": [
    "?Primates301"
   ]
  },
  {
   "cell_type": "raw",
   "metadata": {
    "hidden": true
   },
   "source": [
    "social_learning : Count of mentions of social learning in literature\n",
    "brain : Brain volume (endocranial volume) in cubic centimeters\n",
    "research_effort : Size of literature on species"
   ]
  },
  {
   "cell_type": "code",
   "execution_count": 4,
   "metadata": {
    "hidden": true
   },
   "outputs": [],
   "source": [
    "m3_1 <- ulam(\n",
    "    alist(\n",
    "        soc_learn ~ poisson( lambda ),\n",
    "        log(lambda) <- a + bb*log_brain,\n",
    "        a ~ normal(0,1),\n",
    "        bb ~ normal(0,0.5)\n",
    "    ), data=dat , chains=4 , cores=4 )"
   ]
  },
  {
   "cell_type": "code",
   "execution_count": 5,
   "metadata": {
    "hidden": true,
    "scrolled": false
   },
   "outputs": [
    {
     "data": {
      "text/html": [
       "<table>\n",
       "<thead><tr><th></th><th scope=col>mean</th><th scope=col>sd</th><th scope=col>5.5%</th><th scope=col>94.5%</th><th scope=col>n_eff</th><th scope=col>Rhat</th></tr></thead>\n",
       "<tbody>\n",
       "\t<tr><th scope=row>a</th><td>-1.18 </td><td>0.11  </td><td>-1.36 </td><td>-1.00 </td><td>524.15</td><td>1     </td></tr>\n",
       "\t<tr><th scope=row>bb</th><td> 2.76 </td><td>0.07  </td><td> 2.65 </td><td> 2.88 </td><td>509.53</td><td>1     </td></tr>\n",
       "</tbody>\n",
       "</table>\n"
      ],
      "text/latex": [
       "\\begin{tabular}{r|llllll}\n",
       "  & mean & sd & 5.5\\% & 94.5\\% & n\\_eff & Rhat\\\\\n",
       "\\hline\n",
       "\ta & -1.18  & 0.11   & -1.36  & -1.00  & 524.15 & 1     \\\\\n",
       "\tbb &  2.76  & 0.07   &  2.65  &  2.88  & 509.53 & 1     \\\\\n",
       "\\end{tabular}\n"
      ],
      "text/markdown": [
       "\n",
       "| <!--/--> | mean | sd | 5.5% | 94.5% | n_eff | Rhat |\n",
       "|---|---|---|---|---|---|---|\n",
       "| a | -1.18  | 0.11   | -1.36  | -1.00  | 524.15 | 1      |\n",
       "| bb |  2.76  | 0.07   |  2.65  |  2.88  | 509.53 | 1      |\n",
       "\n"
      ],
      "text/plain": [
       "   mean  sd   5.5%  94.5% n_eff  Rhat\n",
       "a  -1.18 0.11 -1.36 -1.00 524.15 1   \n",
       "bb  2.76 0.07  2.65  2.88 509.53 1   "
      ]
     },
     "metadata": {},
     "output_type": "display_data"
    }
   ],
   "source": [
    "precis( m3_1 ) %>% round(2)"
   ]
  },
  {
   "cell_type": "code",
   "execution_count": 25,
   "metadata": {
    "cell_style": "center",
    "hidden": true
   },
   "outputs": [
    {
     "data": {
      "image/png": "[encoded data removed]",
      "text/plain": [
       "plot without title"
      ]
     },
     "metadata": {},
     "output_type": "display_data"
    },
    {
     "data": {
      "image/png": "[encoded data removed]",
      "text/plain": [
       "plot without title"
      ]
     },
     "metadata": {},
     "output_type": "display_data"
    },
    {
     "data": {
      "image/png": "[encoded data removed]",
      "text/plain": [
       "plot without title"
      ]
     },
     "metadata": {},
     "output_type": "display_data"
    }
   ],
   "source": [
    "postcheck(m3_1,window=50)\n",
    "options(repr.plot.width=7, repr.plot.height=2.5)"
   ]
  },
  {
   "cell_type": "code",
   "execution_count": 27,
   "metadata": {
    "hidden": true
   },
   "outputs": [],
   "source": [
    "m3_2 <- ulam(\n",
    "    alist(\n",
    "        soc_learn ~ poisson( lambda ),\n",
    "        log(lambda) <- a + be*log_effort + bb*log_brain,\n",
    "        a ~ normal(0,1),\n",
    "        c(bb,be) ~ normal(0,0.5)\n",
    "    ), data=dat , chains=4 , cores=4 )\n",
    "    "
   ]
  },
  {
   "cell_type": "code",
   "execution_count": 29,
   "metadata": {
    "hidden": true
   },
   "outputs": [
    {
     "data": {
      "text/html": [
       "<table>\n",
       "<thead><tr><th></th><th scope=col>mean</th><th scope=col>sd</th><th scope=col>5.5%</th><th scope=col>94.5%</th><th scope=col>n_eff</th><th scope=col>Rhat</th></tr></thead>\n",
       "<tbody>\n",
       "\t<tr><th scope=row>a</th><td>-5.95 </td><td>0.29  </td><td>-6.44 </td><td>-5.49 </td><td>527.64</td><td>1.01  </td></tr>\n",
       "\t<tr><th scope=row>be</th><td> 1.53 </td><td>0.06  </td><td> 1.43 </td><td> 1.63 </td><td>480.33</td><td>1.01  </td></tr>\n",
       "\t<tr><th scope=row>bb</th><td> 0.47 </td><td>0.08  </td><td> 0.34 </td><td> 0.59 </td><td>527.50</td><td>1.00  </td></tr>\n",
       "</tbody>\n",
       "</table>\n"
      ],
      "text/latex": [
       "\\begin{tabular}{r|llllll}\n",
       "  & mean & sd & 5.5\\% & 94.5\\% & n\\_eff & Rhat\\\\\n",
       "\\hline\n",
       "\ta & -5.95  & 0.29   & -6.44  & -5.49  & 527.64 & 1.01  \\\\\n",
       "\tbe &  1.53  & 0.06   &  1.43  &  1.63  & 480.33 & 1.01  \\\\\n",
       "\tbb &  0.47  & 0.08   &  0.34  &  0.59  & 527.50 & 1.00  \\\\\n",
       "\\end{tabular}\n"
      ],
      "text/markdown": [
       "\n",
       "| <!--/--> | mean | sd | 5.5% | 94.5% | n_eff | Rhat |\n",
       "|---|---|---|---|---|---|---|\n",
       "| a | -5.95  | 0.29   | -6.44  | -5.49  | 527.64 | 1.01   |\n",
       "| be |  1.53  | 0.06   |  1.43  |  1.63  | 480.33 | 1.01   |\n",
       "| bb |  0.47  | 0.08   |  0.34  |  0.59  | 527.50 | 1.00   |\n",
       "\n"
      ],
      "text/plain": [
       "   mean  sd   5.5%  94.5% n_eff  Rhat\n",
       "a  -5.95 0.29 -6.44 -5.49 527.64 1.01\n",
       "be  1.53 0.06  1.43  1.63 480.33 1.01\n",
       "bb  0.47 0.08  0.34  0.59 527.50 1.00"
      ]
     },
     "metadata": {},
     "output_type": "display_data"
    }
   ],
   "source": [
    "precis( m3_2 ) %>% round(2)"
   ]
  },
  {
   "cell_type": "markdown",
   "metadata": {
    "heading_collapsed": true
   },
   "source": [
    "# wk 8"
   ]
  },
  {
   "cell_type": "markdown",
   "metadata": {
    "hidden": true
   },
   "source": [
    "## Q1"
   ]
  },
  {
   "cell_type": "code",
   "execution_count": 2,
   "metadata": {
    "collapsed": true,
    "hidden": true
   },
   "outputs": [
    {
     "name": "stderr",
     "output_type": "stream",
     "text": [
      "-- Attaching packages --------------------------------------- tidyverse 1.2.1 --\n",
      "v tibble  2.0.1       v purrr   0.3.0  \n",
      "v tidyr   0.8.2       v dplyr   0.8.0.1\n",
      "v readr   1.3.1       v stringr 1.4.0  \n",
      "v tibble  2.0.1       v forcats 0.4.0  \n",
      "Warning message:\n",
      "\"package 'tibble' was built under R version 3.5.2\"Warning message:\n",
      "\"package 'readr' was built under R version 3.5.2\"Warning message:\n",
      "\"package 'purrr' was built under R version 3.5.2\"Warning message:\n",
      "\"package 'dplyr' was built under R version 3.5.2\"Warning message:\n",
      "\"package 'stringr' was built under R version 3.5.2\"Warning message:\n",
      "\"package 'forcats' was built under R version 3.5.2\"-- Conflicts ------------------------------------------ tidyverse_conflicts() --\n",
      "x tidyr::extract() masks rstan::extract()\n",
      "x dplyr::filter()  masks stats::filter()\n",
      "x dplyr::lag()     masks stats::lag()\n",
      "x purrr::map()     masks rethinking::map()\n"
     ]
    }
   ],
   "source": [
    "library(tidyverse)"
   ]
  },
  {
   "cell_type": "code",
   "execution_count": 1,
   "metadata": {
    "collapsed": true,
    "hidden": true
   },
   "outputs": [
    {
     "name": "stderr",
     "output_type": "stream",
     "text": [
      "Loading required package: rstan\n",
      "Loading required package: ggplot2\n",
      "Loading required package: StanHeaders\n",
      "Warning message:\n",
      "\"package 'StanHeaders' was built under R version 3.5.2\"rstan (Version 2.18.2, GitRev: 2e1f913d3ca3)\n",
      "For execution on a local, multicore CPU with excess RAM we recommend calling\n",
      "options(mc.cores = parallel::detectCores()).\n",
      "To avoid recompilation of unchanged Stan programs, we recommend calling\n",
      "rstan_options(auto_write = TRUE)\n",
      "For improved execution time, we recommend calling\n",
      "Sys.setenv(LOCAL_CPPFLAGS = '-march=native')\n",
      "although this causes Stan to throw an error on a few processors.\n",
      "Loading required package: parallel\n",
      "rethinking (Version 1.86)\n"
     ]
    }
   ],
   "source": [
    "library(rethinking)\n",
    "data(reedfrogs)\n",
    "d <- reedfrogs\n",
    "\n",
    "dat <- list(\n",
    "    S = d$surv,\n",
    "    n = d$density,\n",
    "    tank = 1:nrow(d),\n",
    "    pred = ifelse( d$pred==\"no\" , 0L , 1L ),\n",
    "    size_ = ifelse( d$size==\"small\" , 1L , 2L )\n",
    ")"
   ]
  },
  {
   "cell_type": "code",
   "execution_count": 3,
   "metadata": {
    "hidden": true
   },
   "outputs": [
    {
     "data": {
      "text/html": [
       "<table>\n",
       "<thead><tr><th scope=col>density</th><th scope=col>pred</th><th scope=col>size</th><th scope=col>surv</th><th scope=col>propsurv</th></tr></thead>\n",
       "<tbody>\n",
       "\t<tr><td>10   </td><td>no   </td><td>big  </td><td> 9   </td><td>0.9  </td></tr>\n",
       "\t<tr><td>10   </td><td>no   </td><td>big  </td><td>10   </td><td>1.0  </td></tr>\n",
       "\t<tr><td>10   </td><td>no   </td><td>big  </td><td> 7   </td><td>0.7  </td></tr>\n",
       "\t<tr><td>10   </td><td>no   </td><td>big  </td><td>10   </td><td>1.0  </td></tr>\n",
       "\t<tr><td>10   </td><td>no   </td><td>small</td><td> 9   </td><td>0.9  </td></tr>\n",
       "\t<tr><td>10   </td><td>no   </td><td>small</td><td> 9   </td><td>0.9  </td></tr>\n",
       "</tbody>\n",
       "</table>\n"
      ],
      "text/latex": [
       "\\begin{tabular}{r|lllll}\n",
       " density & pred & size & surv & propsurv\\\\\n",
       "\\hline\n",
       "\t 10    & no    & big   &  9    & 0.9  \\\\\n",
       "\t 10    & no    & big   & 10    & 1.0  \\\\\n",
       "\t 10    & no    & big   &  7    & 0.7  \\\\\n",
       "\t 10    & no    & big   & 10    & 1.0  \\\\\n",
       "\t 10    & no    & small &  9    & 0.9  \\\\\n",
       "\t 10    & no    & small &  9    & 0.9  \\\\\n",
       "\\end{tabular}\n"
      ],
      "text/markdown": [
       "\n",
       "| density | pred | size | surv | propsurv |\n",
       "|---|---|---|---|---|\n",
       "| 10    | no    | big   |  9    | 0.9   |\n",
       "| 10    | no    | big   | 10    | 1.0   |\n",
       "| 10    | no    | big   |  7    | 0.7   |\n",
       "| 10    | no    | big   | 10    | 1.0   |\n",
       "| 10    | no    | small |  9    | 0.9   |\n",
       "| 10    | no    | small |  9    | 0.9   |\n",
       "\n"
      ],
      "text/plain": [
       "  density pred size  surv propsurv\n",
       "1 10      no   big    9   0.9     \n",
       "2 10      no   big   10   1.0     \n",
       "3 10      no   big    7   0.7     \n",
       "4 10      no   big   10   1.0     \n",
       "5 10      no   small  9   0.9     \n",
       "6 10      no   small  9   0.9     "
      ]
     },
     "metadata": {},
     "output_type": "display_data"
    }
   ],
   "source": [
    "d %>% head()"
   ]
  },
  {
   "cell_type": "code",
   "execution_count": 4,
   "metadata": {
    "hidden": true
   },
   "outputs": [
    {
     "name": "stdout",
     "output_type": "stream",
     "text": [
      " Factor w/ 2 levels \"no\",\"pred\": 1 1 1 1 1 1 1 1 2 2 ...\n"
     ]
    }
   ],
   "source": [
    "d$pred %>% str"
   ]
  },
  {
   "cell_type": "code",
   "execution_count": 3,
   "metadata": {
    "code_folding": [
     0
    ],
    "hidden": true
   },
   "outputs": [],
   "source": [
    "# m1.1: varying intercepts for tank\n",
    "m1.1 <- ulam(\n",
    "    alist(\n",
    "        S ~ binomial( n , p ),\n",
    "        logit(p) <- a[tank],\n",
    "        a[tank] ~ normal( a_bar , sigma ),\n",
    "        a_bar ~ normal( 0 , 1.5 ),\n",
    "        sigma ~ exponential( 1 )\n",
    "    ), data=dat , chains=4 , cores=4 , log_lik=TRUE )"
   ]
  },
  {
   "cell_type": "code",
   "execution_count": 4,
   "metadata": {
    "code_folding": [
     0
    ],
    "hidden": true
   },
   "outputs": [],
   "source": [
    "# m1.2: pred\n",
    "m1.2 <- ulam(\n",
    "    alist(\n",
    "        S ~ binomial( n , p ),\n",
    "        logit(p) <- a[tank] + bp*pred,\n",
    "        a[tank] ~ normal( a_bar , sigma ),\n",
    "        bp ~ normal( -0.5 , 1 ),\n",
    "        a_bar ~ normal( 0 , 1.5 ),\n",
    "        sigma ~ exponential( 1 )\n",
    "    ), data=dat , chains=4 , cores=4 , log_lik=TRUE )"
   ]
  },
  {
   "cell_type": "code",
   "execution_count": 5,
   "metadata": {
    "code_folding": [
     0
    ],
    "hidden": true
   },
   "outputs": [],
   "source": [
    "# m1.3: size\n",
    "m1.3 <- ulam(\n",
    "    alist(\n",
    "        S ~ binomial( n , p ),\n",
    "        logit(p) <- a[tank] + s[size_],\n",
    "        a[tank] ~ normal( a_bar , sigma ),\n",
    "        s[size_] ~ normal( 0 , 0.5 ),\n",
    "        a_bar ~ normal( 0 , 1.5 ),\n",
    "        sigma ~ exponential( 1 )\n",
    "    ), data=dat , chains=4 , cores=4 , log_lik=TRUE )"
   ]
  },
  {
   "cell_type": "code",
   "execution_count": 6,
   "metadata": {
    "code_folding": [
     0
    ],
    "hidden": true
   },
   "outputs": [],
   "source": [
    "# m1.4: pred + size\n",
    "m1.4 <- ulam(\n",
    "    alist(\n",
    "        S ~ binomial( n , p ),\n",
    "        logit(p) <- a[tank] + bp*pred + s[size_],\n",
    "        a[tank] ~ normal( a_bar , sigma ),\n",
    "        bp ~ normal( -0.5 , 1 ),\n",
    "        s[size_] ~ normal( 0 , 0.5 ),\n",
    "        a_bar ~ normal( 0 , 1.5 ),\n",
    "        sigma ~ exponential( 1 )\n",
    "    ), data=dat , chains=4 , cores=4 , log_lik=TRUE )"
   ]
  },
  {
   "cell_type": "code",
   "execution_count": 8,
   "metadata": {
    "code_folding": [
     0
    ],
    "hidden": true
   },
   "outputs": [
    {
     "name": "stderr",
     "output_type": "stream",
     "text": [
      "recompiling to avoid crashing R session\n"
     ]
    }
   ],
   "source": [
    "# m1.5: pred + size + interaction\n",
    "m1.5 <- ulam(\n",
    "    alist(\n",
    "        S ~ binomial( n , p ),\n",
    "        logit(p) <- a_bar + z[tank]*sigma + bp[size_]*pred + s[size_],\n",
    "        z[tank] ~ normal( 0 , 1 ),\n",
    "        bp[size_] ~ normal( -0.5 , 1 ),\n",
    "        s[size_] ~ normal( 0 , 0.5 ),\n",
    "        a_bar ~ normal( 0 , 1.5 ),\n",
    "        sigma ~ exponential( 1 )\n",
    "    ), data=dat , chains=4 , cores=4 , log_lik=TRUE )"
   ]
  },
  {
   "cell_type": "code",
   "execution_count": 9,
   "metadata": {
    "hidden": true
   },
   "outputs": [
    {
     "name": "stdout",
     "output_type": "stream",
     "text": [
      "data{\n",
      "    int size_[48];\n",
      "    int pred[48];\n",
      "    int n[48];\n",
      "    int S[48];\n",
      "    int tank[48];\n",
      "}\n",
      "parameters{\n",
      "    vector[48] a;\n",
      "    real a_bar;\n",
      "    real<lower=0> sigma;\n",
      "}\n",
      "model{\n",
      "    vector[48] p;\n",
      "    sigma ~ exponential( 1 );\n",
      "    a_bar ~ normal( 0 , 1.5 );\n",
      "    a ~ normal( a_bar , sigma );\n",
      "    for ( i in 1:48 ) {\n",
      "        p[i] = a[tank[i]];\n",
      "        p[i] = inv_logit(p[i]);\n",
      "    }\n",
      "    S ~ binomial( n , p );\n",
      "}\n",
      "generated quantities{\n",
      "    vector[48] log_lik;\n",
      "    vector[48] p;\n",
      "    for ( i in 1:48 ) {\n",
      "        p[i] = a[tank[i]];\n",
      "        p[i] = inv_logit(p[i]);\n",
      "    }\n",
      "    for ( i in 1:48 ) log_lik[i] = binomial_lpmf( S[i] | n[i] , p[i] );\n",
      "}\n",
      "\n"
     ]
    }
   ],
   "source": [
    "m1.1 %>% stancode()"
   ]
  },
  {
   "cell_type": "code",
   "execution_count": 15,
   "metadata": {
    "hidden": true
   },
   "outputs": [
    {
     "name": "stdout",
     "output_type": "stream",
     "text": [
      "List of 3\n",
      " $ a    : num [1:2000, 1:48] 0.805 1.209 0.985 3.016 1.374 ...\n",
      " $ a_bar: num [1:2000(1d)] 1.14 1.55 1.4 1.36 1.3 ...\n",
      " $ sigma: num [1:2000(1d)] 1.8 1.5 1.51 1.66 1.46 ...\n",
      " - attr(*, \"source\")= chr \"ulam posterior: 2000 samples from m1.1\"\n"
     ]
    }
   ],
   "source": [
    "post <- extract.samples( m1.1) \n",
    "post %>% str()"
   ]
  },
  {
   "cell_type": "code",
   "execution_count": 14,
   "metadata": {
    "hidden": true,
    "scrolled": true
   },
   "outputs": [
    {
     "name": "stdout",
     "output_type": "stream",
     "text": [
      "List of 5\n",
      " $ log_lik: num [1:2000, 1:48] -2.2 -1.52 -1.86 -1.19 -1.33 ...\n",
      " $ a      : num [1:2000, 1:48] 0.805 1.209 0.985 3.016 1.374 ...\n",
      " $ a_bar  : num [1:2000(1d)] 1.14 1.55 1.4 1.36 1.3 ...\n",
      " $ sigma  : num [1:2000(1d)] 1.8 1.5 1.51 1.66 1.46 ...\n",
      " $ lp__   : num [1:2000(1d)] -530 -530 -545 -531 -534 ...\n",
      " - attr(*, \"source\")= chr \"ulam posterior: 2000 samples from m1.1\"\n"
     ]
    }
   ],
   "source": [
    "post <- extract.samples( m1.1 , clean=FALSE ) \n",
    "post %>% str()"
   ]
  },
  {
   "cell_type": "code",
   "execution_count": 10,
   "metadata": {
    "hidden": true
   },
   "outputs": [
    {
     "name": "stdout",
     "output_type": "stream",
     "text": [
      "data{\n",
      "    int size_[48];\n",
      "    int n[48];\n",
      "    int S[48];\n",
      "    int pred[48];\n",
      "    int tank[48];\n",
      "}\n",
      "parameters{\n",
      "    vector[48] a;\n",
      "    real bp;\n",
      "    real a_bar;\n",
      "    real<lower=0> sigma;\n",
      "}\n",
      "model{\n",
      "    vector[48] p;\n",
      "    sigma ~ exponential( 1 );\n",
      "    a_bar ~ normal( 0 , 1.5 );\n",
      "    bp ~ normal( -0.5 , 1 );\n",
      "    a ~ normal( a_bar , sigma );\n",
      "    for ( i in 1:48 ) {\n",
      "        p[i] = a[tank[i]] + bp * pred[i];\n",
      "        p[i] = inv_logit(p[i]);\n",
      "    }\n",
      "    S ~ binomial( n , p );\n",
      "}\n",
      "generated quantities{\n",
      "    vector[48] log_lik;\n",
      "    vector[48] p;\n",
      "    for ( i in 1:48 ) {\n",
      "        p[i] = a[tank[i]] + bp * pred[i];\n",
      "        p[i] = inv_logit(p[i]);\n",
      "    }\n",
      "    for ( i in 1:48 ) log_lik[i] = binomial_lpmf( S[i] | n[i] , p[i] );\n",
      "}\n",
      "\n"
     ]
    }
   ],
   "source": [
    "m1.2 %>% stancode()"
   ]
  },
  {
   "cell_type": "code",
   "execution_count": 11,
   "metadata": {
    "hidden": true
   },
   "outputs": [
    {
     "name": "stdout",
     "output_type": "stream",
     "text": [
      "data{\n",
      "    int pred[48];\n",
      "    int n[48];\n",
      "    int S[48];\n",
      "    int size_[48];\n",
      "    int tank[48];\n",
      "}\n",
      "parameters{\n",
      "    vector[48] a;\n",
      "    vector[2] s;\n",
      "    real a_bar;\n",
      "    real<lower=0> sigma;\n",
      "}\n",
      "model{\n",
      "    vector[48] p;\n",
      "    sigma ~ exponential( 1 );\n",
      "    a_bar ~ normal( 0 , 1.5 );\n",
      "    s ~ normal( 0 , 0.5 );\n",
      "    a ~ normal( a_bar , sigma );\n",
      "    for ( i in 1:48 ) {\n",
      "        p[i] = a[tank[i]] + s[size_[i]];\n",
      "        p[i] = inv_logit(p[i]);\n",
      "    }\n",
      "    S ~ binomial( n , p );\n",
      "}\n",
      "generated quantities{\n",
      "    vector[48] log_lik;\n",
      "    vector[48] p;\n",
      "    for ( i in 1:48 ) {\n",
      "        p[i] = a[tank[i]] + s[size_[i]];\n",
      "        p[i] = inv_logit(p[i]);\n",
      "    }\n",
      "    for ( i in 1:48 ) log_lik[i] = binomial_lpmf( S[i] | n[i] , p[i] );\n",
      "}\n",
      "\n"
     ]
    }
   ],
   "source": [
    "m1.3 %>% stancode()"
   ]
  },
  {
   "cell_type": "code",
   "execution_count": 12,
   "metadata": {
    "hidden": true
   },
   "outputs": [
    {
     "name": "stdout",
     "output_type": "stream",
     "text": [
      "data{\n",
      "    int n[48];\n",
      "    int S[48];\n",
      "    int size_[48];\n",
      "    int pred[48];\n",
      "    int tank[48];\n",
      "}\n",
      "parameters{\n",
      "    vector[48] a;\n",
      "    real bp;\n",
      "    vector[2] s;\n",
      "    real a_bar;\n",
      "    real<lower=0> sigma;\n",
      "}\n",
      "model{\n",
      "    vector[48] p;\n",
      "    sigma ~ exponential( 1 );\n",
      "    a_bar ~ normal( 0 , 1.5 );\n",
      "    s ~ normal( 0 , 0.5 );\n",
      "    bp ~ normal( -0.5 , 1 );\n",
      "    a ~ normal( a_bar , sigma );\n",
      "    for ( i in 1:48 ) {\n",
      "        p[i] = a[tank[i]] + bp * pred[i] + s[size_[i]];\n",
      "        p[i] = inv_logit(p[i]);\n",
      "    }\n",
      "    S ~ binomial( n , p );\n",
      "}\n",
      "generated quantities{\n",
      "    vector[48] log_lik;\n",
      "    vector[48] p;\n",
      "    for ( i in 1:48 ) {\n",
      "        p[i] = a[tank[i]] + bp * pred[i] + s[size_[i]];\n",
      "        p[i] = inv_logit(p[i]);\n",
      "    }\n",
      "    for ( i in 1:48 ) log_lik[i] = binomial_lpmf( S[i] | n[i] , p[i] );\n",
      "}\n",
      "\n"
     ]
    }
   ],
   "source": [
    "m1.4 %>% stancode()"
   ]
  },
  {
   "cell_type": "code",
   "execution_count": 13,
   "metadata": {
    "hidden": true
   },
   "outputs": [
    {
     "name": "stdout",
     "output_type": "stream",
     "text": [
      "data{\n",
      "    int n[48];\n",
      "    int S[48];\n",
      "    int pred[48];\n",
      "    int size_[48];\n",
      "    int tank[48];\n",
      "}\n",
      "parameters{\n",
      "    vector[48] z;\n",
      "    vector[2] bp;\n",
      "    vector[2] s;\n",
      "    real a_bar;\n",
      "    real<lower=0> sigma;\n",
      "}\n",
      "model{\n",
      "    vector[48] p;\n",
      "    sigma ~ exponential( 1 );\n",
      "    a_bar ~ normal( 0 , 1.5 );\n",
      "    s ~ normal( 0 , 0.5 );\n",
      "    bp ~ normal( -0.5 , 1 );\n",
      "    z ~ normal( 0 , 1 );\n",
      "    for ( i in 1:48 ) {\n",
      "        p[i] = a_bar + z[tank[i]] * sigma + bp[size_[i]] * pred[i] + s[size_[i]];\n",
      "        p[i] = inv_logit(p[i]);\n",
      "    }\n",
      "    S ~ binomial( n , p );\n",
      "}\n",
      "generated quantities{\n",
      "    vector[48] log_lik;\n",
      "    vector[48] p;\n",
      "    for ( i in 1:48 ) {\n",
      "        p[i] = a_bar + z[tank[i]] * sigma + bp[size_[i]] * pred[i] + s[size_[i]];\n",
      "        p[i] = inv_logit(p[i]);\n",
      "    }\n",
      "    for ( i in 1:48 ) log_lik[i] = binomial_lpmf( S[i] | n[i] , p[i] );\n",
      "}\n",
      "\n"
     ]
    }
   ],
   "source": [
    "m1.5 %>% stancode()"
   ]
  },
  {
   "cell_type": "markdown",
   "metadata": {
    "hidden": true
   },
   "source": [
    "## Q2"
   ]
  },
  {
   "cell_type": "code",
   "execution_count": 16,
   "metadata": {
    "hidden": true
   },
   "outputs": [],
   "source": [
    "library(rethinking)\n",
    "data(bangladesh)\n",
    "d <- bangladesh\n",
    "d$district_id <- as.integer(as.factor(d$district))\n",
    "\n",
    "dat_list <- list(\n",
    "    C = d$use.contraception,\n",
    "    did = d$district_id\n",
    ")"
   ]
  },
  {
   "cell_type": "code",
   "execution_count": 17,
   "metadata": {
    "hidden": true
   },
   "outputs": [],
   "source": [
    "m2.1 <- ulam(\n",
    "    alist(\n",
    "        C ~ bernoulli( p ),\n",
    "        logit(p) <- a[did],\n",
    "        a[did] ~ normal( 0 , 1.5 )\n",
    "    ) , data=dat_list , chains=4 , cores=4 , log_lik=TRUE )"
   ]
  },
  {
   "cell_type": "code",
   "execution_count": 18,
   "metadata": {
    "hidden": true
   },
   "outputs": [
    {
     "name": "stdout",
     "output_type": "stream",
     "text": [
      "List of 1\n",
      " $ a: num [1:2000, 1:60] -0.678 -0.972 -1.218 -0.914 -1.063 ...\n",
      " - attr(*, \"source\")= chr \"ulam posterior: 2000 samples from m2.1\"\n"
     ]
    }
   ],
   "source": [
    "post <- extract.samples( m2.1 ) \n",
    "post %>% str()"
   ]
  },
  {
   "cell_type": "code",
   "execution_count": 19,
   "metadata": {
    "hidden": true,
    "scrolled": true
   },
   "outputs": [
    {
     "name": "stdout",
     "output_type": "stream",
     "text": [
      "List of 3\n",
      " $ log_lik: num [1:2000, 1:1934] -0.41 -0.321 -0.259 -0.337 -0.297 ...\n",
      " $ a      : num [1:2000, 1:60] -0.678 -0.972 -1.218 -0.914 -1.063 ...\n",
      " $ lp__   : num [1:2000(1d)] -1247 -1241 -1248 -1237 -1244 ...\n",
      " - attr(*, \"source\")= chr \"ulam posterior: 2000 samples from m2.1\"\n"
     ]
    }
   ],
   "source": [
    "post <- extract.samples( m2.1 , clean=FALSE ) \n",
    "post %>% str()"
   ]
  },
  {
   "cell_type": "code",
   "execution_count": 20,
   "metadata": {
    "hidden": true
   },
   "outputs": [
    {
     "name": "stdout",
     "output_type": "stream",
     "text": [
      "data{\n",
      "    int C[1934];\n",
      "    int did[1934];\n",
      "}\n",
      "parameters{\n",
      "    vector[60] a;\n",
      "}\n",
      "model{\n",
      "    vector[1934] p;\n",
      "    a ~ normal( 0 , 1.5 );\n",
      "    for ( i in 1:1934 ) {\n",
      "        p[i] = a[did[i]];\n",
      "        p[i] = inv_logit(p[i]);\n",
      "    }\n",
      "    C ~ bernoulli( p );\n",
      "}\n",
      "generated quantities{\n",
      "    vector[1934] log_lik;\n",
      "    vector[1934] p;\n",
      "    for ( i in 1:1934 ) {\n",
      "        p[i] = a[did[i]];\n",
      "        p[i] = inv_logit(p[i]);\n",
      "    }\n",
      "    for ( i in 1:1934 ) log_lik[i] = bernoulli_lpmf( C[i] | p[i] );\n",
      "}\n",
      "\n"
     ]
    }
   ],
   "source": [
    "m2.1  %>% stancode()"
   ]
  },
  {
   "cell_type": "markdown",
   "metadata": {
    "hidden": true
   },
   "source": [
    "## Q3"
   ]
  },
  {
   "cell_type": "code",
   "execution_count": null,
   "metadata": {
    "hidden": true
   },
   "outputs": [],
   "source": [
    "data(Trolley)\n",
    "d <- Trolley\n",
    "\n",
    "dat <- list(\n",
    "R = d$response,\n",
    "A = d$action,\n",
    "I = d$intention,\n",
    "C = d$contact )\n",
    "\n",
    "m3.1 <- ulam(\n",
    "alist(\n",
    "R ~ dordlogit( phi , cutpoints ),\n",
    "phi <- bA*A + bC*C + BI*I ,\n",
    "BI <- bI + bIA*A + bIC*C ,\n",
    "c(bA,bI,bC,bIA,bIC) ~ dnorm( 0 , 0.5 ),\n",
    "cutpoints ~ dnorm( 0 , 1.5 )\n",
    ") , data=dat , chains=4 , cores=4 , log_lik=TRUE )"
   ]
  }
 ],
 "metadata": {
  "hide_input": false,
  "kernelspec": {
   "display_name": "R",
   "language": "R",
   "name": "ir"
  },
  "language_info": {
   "codemirror_mode": "r",
   "file_extension": ".r",
   "mimetype": "text/x-r-source",
   "name": "R",
   "pygments_lexer": "r",
   "version": "3.6.2"
  },
  "latex_envs": {
   "LaTeX_envs_menu_present": true,
   "autoclose": true,
   "autocomplete": true,
   "bibliofile": "biblio.bib",
   "cite_by": "apalike",
   "current_citInitial": 1,
   "eqLabelWithNumbers": true,
   "eqNumInitial": 1,
   "hotkeys": {
    "equation": "Ctrl-E",
    "itemize": "Ctrl-I"
   },
   "labels_anchors": false,
   "latex_user_defs": false,
   "report_style_numbering": false,
   "user_envs_cfg": false
  },
  "toc": {
   "base_numbering": 1,
   "nav_menu": {},
   "number_sections": true,
   "sideBar": true,
   "skip_h1_title": false,
   "title_cell": "Table of Contents",
   "title_sidebar": "Contents",
   "toc_cell": true,
   "toc_position": {},
   "toc_section_display": true,
   "toc_window_display": false
  }
 },
 "nbformat": 4,
 "nbformat_minor": 2
}
