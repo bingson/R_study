{
 "cells": [
  {
   "cell_type": "markdown",
   "metadata": {
    "toc": true
   },
   "source": [
    "<h1>Table of Contents<span class=\"tocSkip\"></span></h1>\n",
    "<div class=\"toc\"><ul class=\"toc-item\"></ul></div>"
   ]
  },
  {
   "cell_type": "code",
   "execution_count": 62,
   "metadata": {
    "collapsed": true
   },
   "outputs": [
    {
     "data": {
      "text/html": [
       "<table>\n",
       "<thead><tr><th scope=col>height</th><th scope=col>weight</th><th scope=col>age</th><th scope=col>male</th></tr></thead>\n",
       "<tbody>\n",
       "\t<tr><td>151.765 </td><td>47.82561</td><td>63      </td><td>1       </td></tr>\n",
       "\t<tr><td>139.700 </td><td>36.48581</td><td>63      </td><td>0       </td></tr>\n",
       "\t<tr><td>136.525 </td><td>31.86484</td><td>65      </td><td>0       </td></tr>\n",
       "\t<tr><td>156.845 </td><td>53.04191</td><td>41      </td><td>1       </td></tr>\n",
       "\t<tr><td>145.415 </td><td>41.27687</td><td>51      </td><td>0       </td></tr>\n",
       "\t<tr><td>163.830 </td><td>62.99259</td><td>35      </td><td>1       </td></tr>\n",
       "</tbody>\n",
       "</table>\n"
      ],
      "text/latex": [
       "\\begin{tabular}{r|llll}\n",
       " height & weight & age & male\\\\\n",
       "\\hline\n",
       "\t 151.765  & 47.82561 & 63       & 1       \\\\\n",
       "\t 139.700  & 36.48581 & 63       & 0       \\\\\n",
       "\t 136.525  & 31.86484 & 65       & 0       \\\\\n",
       "\t 156.845  & 53.04191 & 41       & 1       \\\\\n",
       "\t 145.415  & 41.27687 & 51       & 0       \\\\\n",
       "\t 163.830  & 62.99259 & 35       & 1       \\\\\n",
       "\\end{tabular}\n"
      ],
      "text/markdown": [
       "\n",
       "height | weight | age | male | \n",
       "|---|---|---|---|---|---|\n",
       "| 151.765  | 47.82561 | 63       | 1        | \n",
       "| 139.700  | 36.48581 | 63       | 0        | \n",
       "| 136.525  | 31.86484 | 65       | 0        | \n",
       "| 156.845  | 53.04191 | 41       | 1        | \n",
       "| 145.415  | 41.27687 | 51       | 0        | \n",
       "| 163.830  | 62.99259 | 35       | 1        | \n",
       "\n",
       "\n"
      ],
      "text/plain": [
       "  height  weight   age male\n",
       "1 151.765 47.82561 63  1   \n",
       "2 139.700 36.48581 63  0   \n",
       "3 136.525 31.86484 65  0   \n",
       "4 156.845 53.04191 41  1   \n",
       "5 145.415 41.27687 51  0   \n",
       "6 163.830 62.99259 35  1   "
      ]
     },
     "metadata": {},
     "output_type": "display_data"
    },
    {
     "data": {
      "image/png": "[encoded data removed]",
      "text/plain": [
       "Plot with title \"\""
      ]
     },
     "metadata": {},
     "output_type": "display_data"
    }
   ],
   "source": [
    "library(tidyverse)\n",
    "\n",
    "library(rethinking)\n",
    "\n",
    "data(Howell1)\n",
    "\n",
    "d <- Howell1\n",
    "\n",
    "d %>% head()\n",
    "\n",
    "sample_mu <- rnorm( 1e4,178,20)\n",
    "sample_sigma <- runif(1e4,0,50)\n",
    "prior_h <- rnorm(1e4, sample_mu, sample_sigma)\n",
    "dens(prior_h)\n",
    "\n",
    "data(Howell1)\n",
    "d <- Howell1\n",
    "d2 <- d[ d$age >= 18 , ]"
   ]
  },
  {
   "cell_type": "code",
   "execution_count": 63,
   "metadata": {},
   "outputs": [
    {
     "ename": "ERROR",
     "evalue": "Error in as_mapper(.f, ...): argument \".f\" is missing, with no default\n",
     "output_type": "error",
     "traceback": [
      "Error in as_mapper(.f, ...): argument \".f\" is missing, with no default\nTraceback:\n",
      "1. map(flist, data = d2)",
      "2. as_mapper(.f, ...)"
     ]
    }
   ],
   "source": [
    "flist <- alist( \n",
    "    height ~ dnorm( mu , sigma ) ,\n",
    "    mu ~ dnorm( 178 , 20 ) ,\n",
    "    sigma ~ dunif( 0 , 50 )\n",
    ")\n",
    "\n",
    "m4.1 <- map( flist , data=d2 ) "
   ]
  },
  {
   "cell_type": "code",
   "execution_count": null,
   "metadata": {},
   "outputs": [],
   "source": [
    "precis( m4.1)"
   ]
  }
 ],
 "metadata": {
  "kernelspec": {
   "display_name": "R",
   "language": "R",
   "name": "ir"
  },
  "language_info": {
   "codemirror_mode": "r",
   "file_extension": ".r",
   "mimetype": "text/x-r-source",
   "name": "R",
   "pygments_lexer": "r",
   "version": "3.5.1"
  },
  "toc": {
   "base_numbering": 1,
   "nav_menu": {},
   "number_sections": true,
   "sideBar": true,
   "skip_h1_title": false,
   "title_cell": "Table of Contents",
   "title_sidebar": "Contents",
   "toc_cell": true,
   "toc_position": {},
   "toc_section_display": true,
   "toc_window_display": false
  },
  "varInspector": {
   "cols": {
    "lenName": 16,
    "lenType": 16,
    "lenVar": 40
   },
   "kernels_config": {
    "python": {
     "delete_cmd_postfix": "",
     "delete_cmd_prefix": "del ",
     "library": "var_list.py",
     "varRefreshCmd": "print(var_dic_list())"
    },
    "r": {
     "delete_cmd_postfix": ") ",
     "delete_cmd_prefix": "rm(",
     "library": "var_list.r",
     "varRefreshCmd": "cat(var_dic_list()) "
    }
   },
   "types_to_exclude": [
    "module",
    "function",
    "builtin_function_or_method",
    "instance",
    "_Feature"
   ],
   "window_display": false
  }
 },
 "nbformat": 4,
 "nbformat_minor": 2
}
