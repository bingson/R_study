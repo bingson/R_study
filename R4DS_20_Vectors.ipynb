{
 "cells": [
  {
   "cell_type": "markdown",
   "metadata": {
    "toc": true
   },
   "source": [
    "<h1>Table of Contents<span class=\"tocSkip\"></span></h1>\n",
    "<div class=\"toc\"><ul class=\"toc-item\"><li><span><a href=\"#Vectors\" data-toc-modified-id=\"Vectors-1\"><span class=\"toc-item-num\">1&nbsp;&nbsp;</span>Vectors</a></span><ul class=\"toc-item\"><li><span><a href=\"#Introduction\" data-toc-modified-id=\"Introduction-1.1\"><span class=\"toc-item-num\">1.1&nbsp;&nbsp;</span>Introduction</a></span></li><li><span><a href=\"#Vector-Basics\" data-toc-modified-id=\"Vector-Basics-1.2\"><span class=\"toc-item-num\">1.2&nbsp;&nbsp;</span>Vector Basics</a></span></li><li><span><a href=\"#Important-types-of-atomic-vector\" data-toc-modified-id=\"Important-types-of-atomic-vector-1.3\"><span class=\"toc-item-num\">1.3&nbsp;&nbsp;</span>Important types of atomic vector</a></span><ul class=\"toc-item\"><li><span><a href=\"#Logical\" data-toc-modified-id=\"Logical-1.3.1\"><span class=\"toc-item-num\">1.3.1&nbsp;&nbsp;</span>Logical</a></span></li><li><span><a href=\"#Numeric\" data-toc-modified-id=\"Numeric-1.3.2\"><span class=\"toc-item-num\">1.3.2&nbsp;&nbsp;</span>Numeric</a></span></li><li><span><a href=\"#Character\" data-toc-modified-id=\"Character-1.3.3\"><span class=\"toc-item-num\">1.3.3&nbsp;&nbsp;</span>Character</a></span></li><li><span><a href=\"#Missing-values\" data-toc-modified-id=\"Missing-values-1.3.4\"><span class=\"toc-item-num\">1.3.4&nbsp;&nbsp;</span>Missing values</a></span></li><li><span><a href=\"#Exercises\" data-toc-modified-id=\"Exercises-1.3.5\"><span class=\"toc-item-num\">1.3.5&nbsp;&nbsp;</span>Exercises</a></span></li></ul></li><li><span><a href=\"#Using-atomic-vectors\" data-toc-modified-id=\"Using-atomic-vectors-1.4\"><span class=\"toc-item-num\">1.4&nbsp;&nbsp;</span>Using atomic vectors</a></span><ul class=\"toc-item\"><li><span><a href=\"#Coercion\" data-toc-modified-id=\"Coercion-1.4.1\"><span class=\"toc-item-num\">1.4.1&nbsp;&nbsp;</span>Coercion</a></span></li><li><span><a href=\"#Test-functions\" data-toc-modified-id=\"Test-functions-1.4.2\"><span class=\"toc-item-num\">1.4.2&nbsp;&nbsp;</span>Test functions</a></span></li><li><span><a href=\"#Scalars-and-recycling-rules\" data-toc-modified-id=\"Scalars-and-recycling-rules-1.4.3\"><span class=\"toc-item-num\">1.4.3&nbsp;&nbsp;</span>Scalars and recycling rules</a></span></li><li><span><a href=\"#Naming-vectors\" data-toc-modified-id=\"Naming-vectors-1.4.4\"><span class=\"toc-item-num\">1.4.4&nbsp;&nbsp;</span>Naming vectors</a></span></li><li><span><a href=\"#Subsetting\" data-toc-modified-id=\"Subsetting-1.4.5\"><span class=\"toc-item-num\">1.4.5&nbsp;&nbsp;</span>Subsetting</a></span></li><li><span><a href=\"#Exercises\" data-toc-modified-id=\"Exercises-1.4.6\"><span class=\"toc-item-num\">1.4.6&nbsp;&nbsp;</span>Exercises</a></span></li></ul></li><li><span><a href=\"#Recursive-vectors-(lists)\" data-toc-modified-id=\"Recursive-vectors-(lists)-1.5\"><span class=\"toc-item-num\">1.5&nbsp;&nbsp;</span>Recursive vectors (lists)</a></span><ul class=\"toc-item\"><li><span><a href=\"#20.5.1-Visualising-lists\" data-toc-modified-id=\"20.5.1-Visualising-lists-1.5.1\"><span class=\"toc-item-num\">1.5.1&nbsp;&nbsp;</span>20.5.1 Visualising lists</a></span></li><li><span><a href=\"#Subsetting\" data-toc-modified-id=\"Subsetting-1.5.2\"><span class=\"toc-item-num\">1.5.2&nbsp;&nbsp;</span>Subsetting</a></span></li><li><span><a href=\"#Exercise\" data-toc-modified-id=\"Exercise-1.5.3\"><span class=\"toc-item-num\">1.5.3&nbsp;&nbsp;</span>Exercise</a></span></li></ul></li><li><span><a href=\"#Attributes\" data-toc-modified-id=\"Attributes-1.6\"><span class=\"toc-item-num\">1.6&nbsp;&nbsp;</span>Attributes</a></span></li><li><span><a href=\"#20.7-Augmented-vectors\" data-toc-modified-id=\"20.7-Augmented-vectors-1.7\"><span class=\"toc-item-num\">1.7&nbsp;&nbsp;</span>20.7 Augmented vectors</a></span><ul class=\"toc-item\"><li><span><a href=\"#20.7.1-Factors\" data-toc-modified-id=\"20.7.1-Factors-1.7.1\"><span class=\"toc-item-num\">1.7.1&nbsp;&nbsp;</span>20.7.1 Factors</a></span></li><li><span><a href=\"#20.7.2-Dates-and-date-times\" data-toc-modified-id=\"20.7.2-Dates-and-date-times-1.7.2\"><span class=\"toc-item-num\">1.7.2&nbsp;&nbsp;</span>20.7.2 Dates and date-times</a></span></li><li><span><a href=\"#20.7.3-Tibbles\" data-toc-modified-id=\"20.7.3-Tibbles-1.7.3\"><span class=\"toc-item-num\">1.7.3&nbsp;&nbsp;</span>20.7.3 Tibbles</a></span></li><li><span><a href=\"#20.7.4-Exercises\" data-toc-modified-id=\"20.7.4-Exercises-1.7.4\"><span class=\"toc-item-num\">1.7.4&nbsp;&nbsp;</span>20.7.4 Exercises</a></span></li><li><span><a href=\"#Exercise-20.7.2__\" data-toc-modified-id=\"Exercise-20.7.2__-1.7.5\"><span class=\"toc-item-num\">1.7.5&nbsp;&nbsp;</span>Exercise 20.7.2<a href=\"https://jrnold.github.io/r4ds-exercise-solutions/vectors.html#exercise-20.7.2\" target=\"_blank\">__</a></a></span></li><li><span><a href=\"#Exercise-20.7.3__\" data-toc-modified-id=\"Exercise-20.7.3__-1.7.6\"><span class=\"toc-item-num\">1.7.6&nbsp;&nbsp;</span>Exercise 20.7.3<a href=\"https://jrnold.github.io/r4ds-exercise-solutions/vectors.html#exercise-20.7.3\" target=\"_blank\">__</a></a></span></li></ul></li></ul></li><li><span><a href=\"#Misc\" data-toc-modified-id=\"Misc-2\"><span class=\"toc-item-num\">2&nbsp;&nbsp;</span>Misc</a></span></li></ul></div>"
   ]
  },
  {
   "cell_type": "code",
   "execution_count": 1,
   "metadata": {
    "ExecuteTime": {
     "end_time": "2020-02-20T02:41:31.061152Z",
     "start_time": "2020-02-20T02:41:28.109Z"
    },
    "collapsed": true
   },
   "outputs": [
    {
     "name": "stderr",
     "output_type": "stream",
     "text": [
      "-- \u001b[1mAttaching packages\u001b[22m --------------------------------------- tidyverse 1.3.0 --\n",
      "\n",
      "\u001b[32mv\u001b[39m \u001b[34mggplot2\u001b[39m 3.2.1     \u001b[32mv\u001b[39m \u001b[34mpurrr  \u001b[39m 0.3.3\n",
      "\u001b[32mv\u001b[39m \u001b[34mtibble \u001b[39m 2.1.3     \u001b[32mv\u001b[39m \u001b[34mdplyr  \u001b[39m 0.8.4\n",
      "\u001b[32mv\u001b[39m \u001b[34mtidyr  \u001b[39m 1.0.2     \u001b[32mv\u001b[39m \u001b[34mstringr\u001b[39m 1.4.0\n",
      "\u001b[32mv\u001b[39m \u001b[34mreadr  \u001b[39m 1.3.1     \u001b[32mv\u001b[39m \u001b[34mforcats\u001b[39m 0.4.0\n",
      "\n",
      "-- \u001b[1mConflicts\u001b[22m ------------------------------------------ tidyverse_conflicts() --\n",
      "\u001b[31mx\u001b[39m \u001b[34mdplyr\u001b[39m::\u001b[32mfilter()\u001b[39m masks \u001b[34mstats\u001b[39m::filter()\n",
      "\u001b[31mx\u001b[39m \u001b[34mdplyr\u001b[39m::\u001b[32mlag()\u001b[39m    masks \u001b[34mstats\u001b[39m::lag()\n",
      "\n",
      "\n",
      "Attaching package: 'lubridate'\n",
      "\n",
      "\n",
      "The following object is masked from 'package:base':\n",
      "\n",
      "    date\n",
      "\n",
      "\n"
     ]
    }
   ],
   "source": [
    "library(tidyverse) \n",
    "# library(rethinking) \n",
    "library(lubridate)"
   ]
  },
  {
   "cell_type": "markdown",
   "metadata": {},
   "source": [
    "# Vectors"
   ]
  },
  {
   "cell_type": "markdown",
   "metadata": {},
   "source": [
    "## Introduction"
   ]
  },
  {
   "cell_type": "markdown",
   "metadata": {
    "heading_collapsed": true
   },
   "source": [
    "## Vector Basics"
   ]
  },
  {
   "cell_type": "markdown",
   "metadata": {
    "hidden": true
   },
   "source": [
    "here are two types of vectors:\n",
    "\n",
    "1.  **Atomic** vectors, of which there are six types:\n",
    "    **logical**, **integer**, **double**, **character**, **complex**, and\n",
    "    **raw**. Integer and double vectors are collectively known as\n",
    "    **numeric** vectors.\n",
    "\n",
    "\n",
    "2.  **Lists**, which are sometimes called recursive vectors because lists can\n",
    "    contain other lists.\n",
    "\n",
    "<b><font color = 'purple'>The chief difference between atomic vectors and lists </font></b><font color = 'blue'> is that atomic vectors are **homogeneous**, while lists can be **heterogeneous**.</font>\n",
    "\n",
    "<b><font color = 'purple'>There’s one other related object: `NULL` </font></b>. `NULL` is often used to represent the absence of a vector (as opposed to `NA` which is used to represent the absence of a value in a vector). `NULL` typically behaves like a vector of length 0. Figure [20.1](https://r4ds.had.co.nz/vectors.html#fig:datatypes) summarises the interrelationships."
   ]
  },
  {
   "cell_type": "markdown",
   "metadata": {
    "hidden": true
   },
   "source": [
    "<img src='pics/data-structures-overview.png' alt='Drawing' style='width:225pt'/>"
   ]
  },
  {
   "cell_type": "markdown",
   "metadata": {
    "hidden": true
   },
   "source": [
    "<b><font color = 'purple'>Every vector has two key properties: </font></b>\n",
    "\n",
    "1.  Its **type**, which you can determine with `typeof()`."
   ]
  },
  {
   "cell_type": "code",
   "execution_count": 2,
   "metadata": {
    "ExecuteTime": {
     "end_time": "2020-02-20T02:46:49.837547Z",
     "start_time": "2020-02-20T02:46:49.734Z"
    },
    "hidden": true
   },
   "outputs": [
    {
     "data": {
      "text/html": [
       "'character'"
      ],
      "text/latex": [
       "'character'"
      ],
      "text/markdown": [
       "'character'"
      ],
      "text/plain": [
       "[1] \"character\""
      ]
     },
     "metadata": {},
     "output_type": "display_data"
    },
    {
     "data": {
      "text/html": [
       "'integer'"
      ],
      "text/latex": [
       "'integer'"
      ],
      "text/markdown": [
       "'integer'"
      ],
      "text/plain": [
       "[1] \"integer\""
      ]
     },
     "metadata": {},
     "output_type": "display_data"
    }
   ],
   "source": [
    "typeof(letters)\n",
    "#> [1] \"character\"\n",
    "typeof(1:10)\n",
    "#> [1] \"integer\"\n"
   ]
  },
  {
   "cell_type": "markdown",
   "metadata": {
    "hidden": true
   },
   "source": [
    "2.  Its **length**, which you can determine with `length()`."
   ]
  },
  {
   "cell_type": "code",
   "execution_count": 3,
   "metadata": {
    "ExecuteTime": {
     "end_time": "2020-02-20T02:56:04.935994Z",
     "start_time": "2020-02-20T02:56:04.875Z"
    },
    "hidden": true
   },
   "outputs": [
    {
     "data": {
      "text/html": [
       "3"
      ],
      "text/latex": [
       "3"
      ],
      "text/markdown": [
       "3"
      ],
      "text/plain": [
       "[1] 3"
      ]
     },
     "metadata": {},
     "output_type": "display_data"
    }
   ],
   "source": [
    "x <- list(\"a\", \"b\", 1:10)\n",
    "length(x)\n",
    "#> [1] 3"
   ]
  },
  {
   "cell_type": "markdown",
   "metadata": {
    "hidden": true
   },
   "source": [
    "<font color = 'purple'><b>Vectors can also contain arbitrary additional metadata in the form of attributes</b></font>. These attributes are used to create **augmented vectors** which build on additional behaviour. \n",
    "\n",
    "<b><font color = 'purple'>There are three important types of augmented vector: </font></b>\n",
    "\n",
    "* Factors are built on top of integer vectors.\n",
    "* Dates and date-times are built on top of numeric vectors.\n",
    "* Data frames and tibbles are built on top of lists.\n",
    "\n",
    "This chapter will introduce you to these important vectors from simplest to most complicated. You’ll start with atomic vectors, then build up to lists, and finish off with augmented vectors."
   ]
  },
  {
   "cell_type": "markdown",
   "metadata": {
    "heading_collapsed": true
   },
   "source": [
    "## Important types of atomic vector"
   ]
  },
  {
   "cell_type": "markdown",
   "metadata": {
    "hidden": true
   },
   "source": [
    "<b><font color = 'purple'>The four most important types of atomic vector are logical, integer, double, and character </font></b>. Raw and complex are rarely used during a data analysis, so I won’t discuss them here."
   ]
  },
  {
   "cell_type": "markdown",
   "metadata": {
    "hidden": true
   },
   "source": [
    "### Logical"
   ]
  },
  {
   "cell_type": "markdown",
   "metadata": {
    "hidden": true
   },
   "source": [
    "Logical vectors are the simplest type of atomic vector because they can take only three possible values: `FALSE`, `TRUE`, and `NA`. Logical vectors are usually constructed with comparison operators, as described in [comparisons](https://r4ds.had.co.nz/transform.html#comparisons). You can also create them by hand with `c()`:"
   ]
  },
  {
   "cell_type": "code",
   "execution_count": 4,
   "metadata": {
    "ExecuteTime": {
     "end_time": "2020-02-20T02:59:11.029563Z",
     "start_time": "2020-02-20T02:59:10.972Z"
    },
    "hidden": true
   },
   "outputs": [
    {
     "data": {
      "text/html": [
       "<style>\n",
       ".list-inline {list-style: none; margin:0; padding: 0}\n",
       ".list-inline>li {display: inline-block}\n",
       ".list-inline>li:not(:last-child)::after {content: \"\\00b7\"; padding: 0 .5ex}\n",
       "</style>\n",
       "<ol class=list-inline><li>FALSE</li><li>FALSE</li><li>TRUE</li><li>FALSE</li><li>FALSE</li><li>TRUE</li><li>FALSE</li><li>FALSE</li><li>TRUE</li><li>FALSE</li></ol>\n"
      ],
      "text/latex": [
       "\\begin{enumerate*}\n",
       "\\item FALSE\n",
       "\\item FALSE\n",
       "\\item TRUE\n",
       "\\item FALSE\n",
       "\\item FALSE\n",
       "\\item TRUE\n",
       "\\item FALSE\n",
       "\\item FALSE\n",
       "\\item TRUE\n",
       "\\item FALSE\n",
       "\\end{enumerate*}\n"
      ],
      "text/markdown": [
       "1. FALSE\n",
       "2. FALSE\n",
       "3. TRUE\n",
       "4. FALSE\n",
       "5. FALSE\n",
       "6. TRUE\n",
       "7. FALSE\n",
       "8. FALSE\n",
       "9. TRUE\n",
       "10. FALSE\n",
       "\n",
       "\n"
      ],
      "text/plain": [
       " [1] FALSE FALSE  TRUE FALSE FALSE  TRUE FALSE FALSE  TRUE FALSE"
      ]
     },
     "metadata": {},
     "output_type": "display_data"
    },
    {
     "data": {
      "text/html": [
       "<style>\n",
       ".list-inline {list-style: none; margin:0; padding: 0}\n",
       ".list-inline>li {display: inline-block}\n",
       ".list-inline>li:not(:last-child)::after {content: \"\\00b7\"; padding: 0 .5ex}\n",
       "</style>\n",
       "<ol class=list-inline><li>TRUE</li><li>TRUE</li><li>FALSE</li><li>&lt;NA&gt;</li></ol>\n"
      ],
      "text/latex": [
       "\\begin{enumerate*}\n",
       "\\item TRUE\n",
       "\\item TRUE\n",
       "\\item FALSE\n",
       "\\item <NA>\n",
       "\\end{enumerate*}\n"
      ],
      "text/markdown": [
       "1. TRUE\n",
       "2. TRUE\n",
       "3. FALSE\n",
       "4. &lt;NA&gt;\n",
       "\n",
       "\n"
      ],
      "text/plain": [
       "[1]  TRUE  TRUE FALSE    NA"
      ]
     },
     "metadata": {},
     "output_type": "display_data"
    }
   ],
   "source": [
    "1:10 %% 3 == 0\n",
    "#>  [1] FALSE FALSE  TRUE FALSE FALSE  TRUE FALSE FALSE  TRUE FALSE\n",
    "\n",
    "c(TRUE, TRUE, FALSE, NA)\n",
    "#> [1]  TRUE  TRUE FALSE    NA"
   ]
  },
  {
   "cell_type": "markdown",
   "metadata": {
    "hidden": true
   },
   "source": [
    "### Numeric"
   ]
  },
  {
   "cell_type": "markdown",
   "metadata": {
    "hidden": true
   },
   "source": [
    "Integer and double vectors are known collectively as numeric vectors. <font color = 'blue'>In R, numbers are doubles by default</font>. \n",
    "\n",
    "<font color = 'green'><b>To make an integer, place an `L` after the number:</b></font>"
   ]
  },
  {
   "cell_type": "code",
   "execution_count": 5,
   "metadata": {
    "ExecuteTime": {
     "end_time": "2020-02-20T03:00:36.659947Z",
     "start_time": "2020-02-20T03:00:36.575Z"
    },
    "hidden": true
   },
   "outputs": [
    {
     "data": {
      "text/html": [
       "'double'"
      ],
      "text/latex": [
       "'double'"
      ],
      "text/markdown": [
       "'double'"
      ],
      "text/plain": [
       "[1] \"double\""
      ]
     },
     "metadata": {},
     "output_type": "display_data"
    },
    {
     "data": {
      "text/html": [
       "'integer'"
      ],
      "text/latex": [
       "'integer'"
      ],
      "text/markdown": [
       "'integer'"
      ],
      "text/plain": [
       "[1] \"integer\""
      ]
     },
     "metadata": {},
     "output_type": "display_data"
    },
    {
     "data": {
      "text/html": [
       "1.5"
      ],
      "text/latex": [
       "1.5"
      ],
      "text/markdown": [
       "1.5"
      ],
      "text/plain": [
       "[1] 1.5"
      ]
     },
     "metadata": {},
     "output_type": "display_data"
    }
   ],
   "source": [
    "typeof(1)\n",
    "#> [1] \"double\"\n",
    "typeof(1L)\n",
    "#> [1] \"integer\"\n",
    "1.5L\n",
    "#> [1] 1.5"
   ]
  },
  {
   "cell_type": "markdown",
   "metadata": {
    "hidden": true
   },
   "source": [
    "The distinction between integers and doubles is not usually important, but there are two important differences that you should be aware of:\n",
    "\n",
    "1.  <b>Doubles are approximations</b>. Doubles represent floating point numbers that\n",
    "    can not always be precisely represented with a fixed amount of memory.\n",
    "    This means that you should consider all doubles to be approximations.\n",
    "    For example, what is square of the square root of two?"
   ]
  },
  {
   "cell_type": "code",
   "execution_count": 6,
   "metadata": {
    "ExecuteTime": {
     "end_time": "2020-02-20T03:01:39.744989Z",
     "start_time": "2020-02-20T03:01:39.679Z"
    },
    "hidden": true
   },
   "outputs": [
    {
     "data": {
      "text/html": [
       "2"
      ],
      "text/latex": [
       "2"
      ],
      "text/markdown": [
       "2"
      ],
      "text/plain": [
       "[1] 2"
      ]
     },
     "metadata": {},
     "output_type": "display_data"
    },
    {
     "data": {
      "text/html": [
       "4.44089209850063e-16"
      ],
      "text/latex": [
       "4.44089209850063e-16"
      ],
      "text/markdown": [
       "4.44089209850063e-16"
      ],
      "text/plain": [
       "[1] 4.440892e-16"
      ]
     },
     "metadata": {},
     "output_type": "display_data"
    }
   ],
   "source": [
    "x <- sqrt(2) ^ 2\n",
    "x\n",
    "#> [1] 2\n",
    "x - 2\n",
    "#> [1] 4.44e-16"
   ]
  },
  {
   "cell_type": "markdown",
   "metadata": {
    "hidden": true
   },
   "source": [
    "This behaviour is common when working with floating point numbers: most   calculations include some approximation error. Instead of comparing floating   point numbers using `==`, you should use `dplyr::near()` which allows for   some numerical tolerance.\n",
    "\n",
    "2.  Integers have one special value: `NA`, while doubles have four:\n",
    "    `NA`, `NaN`, `Inf` and `-Inf`. All three special values `NaN`, `Inf` and `-Inf` can arise during division:"
   ]
  },
  {
   "cell_type": "code",
   "execution_count": 8,
   "metadata": {
    "ExecuteTime": {
     "end_time": "2020-02-20T03:05:06.541388Z",
     "start_time": "2020-02-20T03:05:06.493Z"
    },
    "hidden": true
   },
   "outputs": [
    {
     "data": {
      "text/html": [
       "<style>\n",
       ".list-inline {list-style: none; margin:0; padding: 0}\n",
       ".list-inline>li {display: inline-block}\n",
       ".list-inline>li:not(:last-child)::after {content: \"\\00b7\"; padding: 0 .5ex}\n",
       "</style>\n",
       "<ol class=list-inline><li>-Inf</li><li>NaN</li><li>Inf</li></ol>\n"
      ],
      "text/latex": [
       "\\begin{enumerate*}\n",
       "\\item -Inf\n",
       "\\item NaN\n",
       "\\item Inf\n",
       "\\end{enumerate*}\n"
      ],
      "text/markdown": [
       "1. -Inf\n",
       "2. NaN\n",
       "3. Inf\n",
       "\n",
       "\n"
      ],
      "text/plain": [
       "[1] -Inf  NaN  Inf"
      ]
     },
     "metadata": {},
     "output_type": "display_data"
    }
   ],
   "source": [
    "c(-1, 0, 1) / 0\n",
    "#> [1] -Inf  NaN  Inf"
   ]
  },
  {
   "cell_type": "markdown",
   "metadata": {
    "hidden": true
   },
   "source": [
    "Avoid using `==` to check for these other special values. Instead use the   helper functions `is.finite()`, `is.infinite()`, and `is.nan()`:"
   ]
  },
  {
   "cell_type": "raw",
   "metadata": {
    "hidden": true
   },
   "source": [
    "                | 0 | Inf | NA | NaN\n",
    "--------------- | - | --- | -- | ---\n",
    "`is.finite()`   | x |     |    |    \n",
    "`is.infinite()` |   | x   |    |    \n",
    "`is.na()`       |   |     | x  | x  \n",
    "`is.nan()`      |   |     |    | x  "
   ]
  },
  {
   "cell_type": "markdown",
   "metadata": {
    "hidden": true
   },
   "source": [
    "### Character"
   ]
  },
  {
   "cell_type": "markdown",
   "metadata": {
    "hidden": true
   },
   "source": [
    "Character vectors are the most complex type of atomic vector, because each element of a character vector is a string, and a string can contain an arbitrary amount of data.\n",
    "\n",
    "You’ve already learned a lot about working with strings in [strings](https://r4ds.had.co.nz/strings.html#strings). Here I wanted to mention one important feature of the underlying string implementation: R uses a global string pool. \n",
    "\n",
    "This <font color = 'blue'>means that each unique string is only stored in memory once, and every use of the string points to that representation. This reduces the amount of memory needed by duplicated strings</font>. You can see this behaviour in practice with `pryr::object_size()`:\n",
    "\n",
    "```sourceCode\n",
    "x <- \"This is a reasonably long string.\"\n",
    "pryr::object_size(x)\n",
    "#> Registered S3 method overwritten by 'pryr':\n",
    "#>   method      from\n",
    "#>   print.bytes Rcpp\n",
    "#> 152 B\n",
    "\n",
    "y <- rep(x, 1000)\n",
    "pryr::object_size(y)\n",
    "#> 8.14 kB\n",
    "```\n",
    "\n",
    "`y` doesn’t take up 1,000x as much memory as `x`, because each element of `y` is just a pointer to that same string. A pointer is 8 bytes, so 1000 pointers to a 136 B string is 8 * 1000 + 136 = 8.13 kB.\n"
   ]
  },
  {
   "cell_type": "markdown",
   "metadata": {
    "hidden": true
   },
   "source": [
    "### Missing values"
   ]
  },
  {
   "cell_type": "markdown",
   "metadata": {
    "hidden": true
   },
   "source": [
    "Note that each type of atomic vector has its own missing value:"
   ]
  },
  {
   "cell_type": "code",
   "execution_count": 9,
   "metadata": {
    "ExecuteTime": {
     "end_time": "2020-02-20T03:40:13.778774Z",
     "start_time": "2020-02-20T03:40:13.684Z"
    },
    "hidden": true
   },
   "outputs": [
    {
     "data": {
      "text/html": [
       "&lt;NA&gt;"
      ],
      "text/latex": [
       "<NA>"
      ],
      "text/markdown": [
       "&lt;NA&gt;"
      ],
      "text/plain": [
       "[1] NA"
      ]
     },
     "metadata": {},
     "output_type": "display_data"
    },
    {
     "data": {
      "text/html": [
       "&lt;NA&gt;"
      ],
      "text/latex": [
       "<NA>"
      ],
      "text/markdown": [
       "&lt;NA&gt;"
      ],
      "text/plain": [
       "[1] NA"
      ]
     },
     "metadata": {},
     "output_type": "display_data"
    },
    {
     "data": {
      "text/html": [
       "&lt;NA&gt;"
      ],
      "text/latex": [
       "<NA>"
      ],
      "text/markdown": [
       "&lt;NA&gt;"
      ],
      "text/plain": [
       "[1] NA"
      ]
     },
     "metadata": {},
     "output_type": "display_data"
    },
    {
     "data": {
      "text/html": [
       "NA"
      ],
      "text/latex": [
       "NA"
      ],
      "text/markdown": [
       "NA"
      ],
      "text/plain": [
       "[1] NA"
      ]
     },
     "metadata": {},
     "output_type": "display_data"
    }
   ],
   "source": [
    "NA            # logical\n",
    "#> [1] NA\n",
    "NA_integer_   # integer\n",
    "#> [1] NA\n",
    "NA_real_      # double\n",
    "#> [1] NA\n",
    "NA_character_ # character\n",
    "#> [1] NA"
   ]
  },
  {
   "cell_type": "markdown",
   "metadata": {
    "hidden": true
   },
   "source": [
    "Normally you don’t need to know about these different types because you can always use `NA` and it will be converted to the correct type using the implicit coercion rules described next. However, there are some functions that are strict about their inputs, so it’s useful to have this knowledge sitting in your back pocket so you can be specific when needed."
   ]
  },
  {
   "cell_type": "markdown",
   "metadata": {
    "heading_collapsed": true,
    "hidden": true
   },
   "source": [
    "###  Exercises"
   ]
  },
  {
   "cell_type": "markdown",
   "metadata": {
    "hidden": true
   },
   "source": [
    "<b><font color = 'purple'>1.  Describe the difference between `is.finite(x)` and `!is.infinite(x)`. </font></b>"
   ]
  },
  {
   "cell_type": "code",
   "execution_count": 10,
   "metadata": {
    "ExecuteTime": {
     "end_time": "2020-02-20T03:43:00.232266Z",
     "start_time": "2020-02-20T03:43:00.154Z"
    },
    "hidden": true,
    "scrolled": true
   },
   "outputs": [
    {
     "data": {
      "text/html": [
       "<style>\n",
       ".list-inline {list-style: none; margin:0; padding: 0}\n",
       ".list-inline>li {display: inline-block}\n",
       ".list-inline>li:not(:last-child)::after {content: \"\\00b7\"; padding: 0 .5ex}\n",
       "</style>\n",
       "<ol class=list-inline><li>TRUE</li><li>FALSE</li><li>FALSE</li><li>FALSE</li><li>FALSE</li></ol>\n"
      ],
      "text/latex": [
       "\\begin{enumerate*}\n",
       "\\item TRUE\n",
       "\\item FALSE\n",
       "\\item FALSE\n",
       "\\item FALSE\n",
       "\\item FALSE\n",
       "\\end{enumerate*}\n"
      ],
      "text/markdown": [
       "1. TRUE\n",
       "2. FALSE\n",
       "3. FALSE\n",
       "4. FALSE\n",
       "5. FALSE\n",
       "\n",
       "\n"
      ],
      "text/plain": [
       "[1]  TRUE FALSE FALSE FALSE FALSE"
      ]
     },
     "metadata": {},
     "output_type": "display_data"
    },
    {
     "data": {
      "text/html": [
       "<style>\n",
       ".list-inline {list-style: none; margin:0; padding: 0}\n",
       ".list-inline>li {display: inline-block}\n",
       ".list-inline>li:not(:last-child)::after {content: \"\\00b7\"; padding: 0 .5ex}\n",
       "</style>\n",
       "<ol class=list-inline><li>TRUE</li><li>TRUE</li><li>TRUE</li><li>FALSE</li><li>FALSE</li></ol>\n"
      ],
      "text/latex": [
       "\\begin{enumerate*}\n",
       "\\item TRUE\n",
       "\\item TRUE\n",
       "\\item TRUE\n",
       "\\item FALSE\n",
       "\\item FALSE\n",
       "\\end{enumerate*}\n"
      ],
      "text/markdown": [
       "1. TRUE\n",
       "2. TRUE\n",
       "3. TRUE\n",
       "4. FALSE\n",
       "5. FALSE\n",
       "\n",
       "\n"
      ],
      "text/plain": [
       "[1]  TRUE  TRUE  TRUE FALSE FALSE"
      ]
     },
     "metadata": {},
     "output_type": "display_data"
    }
   ],
   "source": [
    "x <- c(0, NA, NaN, Inf, -Inf)\n",
    "is.finite(x)\n",
    "#> [1]  TRUE FALSE FALSE FALSE FALSE\n",
    "!is.infinite(x)\n",
    "#> [1]  TRUE  TRUE  TRUE FALSE FALSE"
   ]
  },
  {
   "cell_type": "markdown",
   "metadata": {
    "hidden": true
   },
   "source": [
    "<b><font color = 'purple'>2. Read the source code for `dplyr::near()` (Hint: to see the source code, drop the `()`). How does it work? </font></b>"
   ]
  },
  {
   "cell_type": "code",
   "execution_count": 11,
   "metadata": {
    "ExecuteTime": {
     "end_time": "2020-02-20T03:55:23.181675Z",
     "start_time": "2020-02-20T03:55:23.125Z"
    },
    "hidden": true,
    "scrolled": true
   },
   "outputs": [
    {
     "data": {
      "text/html": [
       "<pre class=language-r><code>function (x, y, tol = .Machine$double.eps^0.5) \n",
       "{\n",
       "<span style=white-space:pre-wrap>    abs(x - y) &lt; tol</span>\n",
       "}</code></pre>"
      ],
      "text/latex": [
       "\\begin{minted}{r}\n",
       "function (x, y, tol = .Machine\\$double.eps\\textasciicircum{}0.5) \n",
       "\\{\n",
       "    abs(x - y) < tol\n",
       "\\}\n",
       "\\end{minted}"
      ],
      "text/markdown": [
       "```r\n",
       "function (x, y, tol = .Machine$double.eps^0.5) \n",
       "{\n",
       "    abs(x - y) < tol\n",
       "}\n",
       "```"
      ],
      "text/plain": [
       "function (x, y, tol = .Machine$double.eps^0.5) \n",
       "{\n",
       "    abs(x - y) < tol\n",
       "}\n",
       "<bytecode: 0x0000000009b42668>\n",
       "<environment: namespace:dplyr>"
      ]
     },
     "metadata": {},
     "output_type": "display_data"
    }
   ],
   "source": [
    "dplyr::near"
   ]
  },
  {
   "cell_type": "markdown",
   "metadata": {
    "hidden": true
   },
   "source": [
    "Instead of checking for exact equality, it checks that two numbers are within a certain tolerance, `tol`. By default the tolerance is set to the square root of `.Machine$double.eps`, which is the smallest floating point number that the computer can represent.\n"
   ]
  },
  {
   "cell_type": "markdown",
   "metadata": {
    "hidden": true
   },
   "source": [
    "<b><font color = 'purple'>3. A logical vector can take 3 possible values. How many possible values can an integer vector take? How many possible values can a double take? Use google to do some research. </font></b>"
   ]
  },
  {
   "cell_type": "markdown",
   "metadata": {
    "hidden": true
   },
   "source": [
    "<b><font color = 'purple'>4. Brainstorm at least four functions that allow you to convert a double to an integer. How do they differ? Be precise. </font></b>"
   ]
  },
  {
   "cell_type": "markdown",
   "metadata": {
    "hidden": true
   },
   "source": [
    "The difference between to convert a double to an integer differ in how they deal with the fractional part of the double.\n",
    "There are are a variety of rules that could be used to do this.\n",
    "\n",
    "* Round down, towards −∞<math xmlns=\"http://www.w3.org/1998/Math/MathML\"><mo>−</mo><mi mathvariant=\"normal\">∞</mi></math>. This is also called taking the `floor` of a number. This is the method the `floor()` function uses.\n",
    "* Round up, towards +∞<math xmlns=\"http://www.w3.org/1998/Math/MathML\"><mo>+</mo><mi mathvariant=\"normal\">∞</mi></math>. This is also called taking the `ceiling`. This is the method the `ceiling()` function uses.\n",
    "* Round towards zero. This is the method that the `trunc()` and `as.integer()` functions use.\n",
    "* Round away from zero.\n",
    "* Round to the nearest integer. There several different methods for handling ties, which are\n",
    "    numbers with a fractional part of 0.5.\n",
    "    * Round half down, towards −∞<math xmlns=\"http://www.w3.org/1998/Math/MathML\"><mo>−</mo><mi mathvariant=\"normal\">∞</mi></math>.\n",
    "    * Round half up, towards +∞<math xmlns=\"http://www.w3.org/1998/Math/MathML\"><mo>+</mo><mi mathvariant=\"normal\">∞</mi></math>.\n",
    "    * Round half towards zero\n",
    "    * Round half away from zero\n",
    "    * Round half towards the even integer. This is the method that the\n",
    "        `round()` function uses.\n",
    "    * Round half towards the odd integer."
   ]
  },
  {
   "cell_type": "code",
   "execution_count": 13,
   "metadata": {
    "ExecuteTime": {
     "end_time": "2020-02-20T04:03:21.343060Z",
     "start_time": "2020-02-20T04:03:21.286Z"
    },
    "code_folding": [],
    "collapsed": true,
    "hidden": true
   },
   "outputs": [
    {
     "data": {
      "text/html": [
       "<pre class=language-r><code>function (x, method) \n",
       "{\n",
       "<span style=white-space:pre-wrap>    if (method == \"round down\") {</span>\n",
       "<span style=white-space:pre-wrap>        floor(x)</span>\n",
       "<span style=white-space:pre-wrap>    }</span>\n",
       "<span style=white-space:pre-wrap>    else if (method == \"round up\") {</span>\n",
       "<span style=white-space:pre-wrap>        ceiling(x)</span>\n",
       "<span style=white-space:pre-wrap>    }</span>\n",
       "<span style=white-space:pre-wrap>    else if (method == \"round towards zero\") {</span>\n",
       "<span style=white-space:pre-wrap>        trunc(x)</span>\n",
       "<span style=white-space:pre-wrap>    }</span>\n",
       "<span style=white-space:pre-wrap>    else if (method == \"round away from zero\") {</span>\n",
       "<span style=white-space:pre-wrap>        sign(x) * ceiling(abs(x))</span>\n",
       "<span style=white-space:pre-wrap>    }</span>\n",
       "<span style=white-space:pre-wrap>    else if (method == \"nearest, round half up\") {</span>\n",
       "<span style=white-space:pre-wrap>        floor(x + 0.5)</span>\n",
       "<span style=white-space:pre-wrap>    }</span>\n",
       "<span style=white-space:pre-wrap>    else if (method == \"nearest, round half down\") {</span>\n",
       "<span style=white-space:pre-wrap>        ceiling(x - 0.5)</span>\n",
       "<span style=white-space:pre-wrap>    }</span>\n",
       "<span style=white-space:pre-wrap>    else if (method == \"nearest, round half towards zero\") {</span>\n",
       "<span style=white-space:pre-wrap>        sign(x) * ceiling(abs(x) - 0.5)</span>\n",
       "<span style=white-space:pre-wrap>    }</span>\n",
       "<span style=white-space:pre-wrap>    else if (method == \"nearest, round half away from zero\") {</span>\n",
       "<span style=white-space:pre-wrap>        sign(x) * floor(abs(x) + 0.5)</span>\n",
       "<span style=white-space:pre-wrap>    }</span>\n",
       "<span style=white-space:pre-wrap>    else if (method == \"nearest, round half to even\") {</span>\n",
       "<span style=white-space:pre-wrap>        round(x, digits = 0)</span>\n",
       "<span style=white-space:pre-wrap>    }</span>\n",
       "<span style=white-space:pre-wrap>    else if (method == \"nearest, round half to odd\") {</span>\n",
       "<span style=white-space:pre-wrap>        case_when(floor(x)%%2 ~ ceiling(x - 0.5), TRUE ~ floor(x + </span>\n",
       "<span style=white-space:pre-wrap>            0.5))</span>\n",
       "<span style=white-space:pre-wrap>    }</span>\n",
       "<span style=white-space:pre-wrap>    else if (method == \"nearest, round half randomly\") {</span>\n",
       "<span style=white-space:pre-wrap>        round_half_up &lt;- sample(c(TRUE, FALSE), length(x), replace = TRUE)</span>\n",
       "<span style=white-space:pre-wrap>        y &lt;- x</span>\n",
       "<span style=white-space:pre-wrap>        y[round_half_up] &lt;- ceiling(x[round_half_up] - 0.5)</span>\n",
       "<span style=white-space:pre-wrap>        y[!round_half_up] &lt;- floor(x[!round_half_up] + 0.5)</span>\n",
       "<span style=white-space:pre-wrap>        y</span>\n",
       "<span style=white-space:pre-wrap>    }</span>\n",
       "}</code></pre>"
      ],
      "text/latex": [
       "\\begin{minted}{r}\n",
       "function (x, method) \n",
       "\\{\n",
       "    if (method == \"round down\") \\{\n",
       "        floor(x)\n",
       "    \\}\n",
       "    else if (method == \"round up\") \\{\n",
       "        ceiling(x)\n",
       "    \\}\n",
       "    else if (method == \"round towards zero\") \\{\n",
       "        trunc(x)\n",
       "    \\}\n",
       "    else if (method == \"round away from zero\") \\{\n",
       "        sign(x) * ceiling(abs(x))\n",
       "    \\}\n",
       "    else if (method == \"nearest, round half up\") \\{\n",
       "        floor(x + 0.5)\n",
       "    \\}\n",
       "    else if (method == \"nearest, round half down\") \\{\n",
       "        ceiling(x - 0.5)\n",
       "    \\}\n",
       "    else if (method == \"nearest, round half towards zero\") \\{\n",
       "        sign(x) * ceiling(abs(x) - 0.5)\n",
       "    \\}\n",
       "    else if (method == \"nearest, round half away from zero\") \\{\n",
       "        sign(x) * floor(abs(x) + 0.5)\n",
       "    \\}\n",
       "    else if (method == \"nearest, round half to even\") \\{\n",
       "        round(x, digits = 0)\n",
       "    \\}\n",
       "    else if (method == \"nearest, round half to odd\") \\{\n",
       "        case\\_when(floor(x)\\%\\%2 \\textasciitilde{} ceiling(x - 0.5), TRUE \\textasciitilde{} floor(x + \n",
       "            0.5))\n",
       "    \\}\n",
       "    else if (method == \"nearest, round half randomly\") \\{\n",
       "        round\\_half\\_up <- sample(c(TRUE, FALSE), length(x), replace = TRUE)\n",
       "        y <- x\n",
       "        y{[}round\\_half\\_up{]} <- ceiling(x{[}round\\_half\\_up{]} - 0.5)\n",
       "        y{[}!round\\_half\\_up{]} <- floor(x{[}!round\\_half\\_up{]} + 0.5)\n",
       "        y\n",
       "    \\}\n",
       "\\}\n",
       "\\end{minted}"
      ],
      "text/markdown": [
       "```r\n",
       "function (x, method) \n",
       "{\n",
       "    if (method == \"round down\") {\n",
       "        floor(x)\n",
       "    }\n",
       "    else if (method == \"round up\") {\n",
       "        ceiling(x)\n",
       "    }\n",
       "    else if (method == \"round towards zero\") {\n",
       "        trunc(x)\n",
       "    }\n",
       "    else if (method == \"round away from zero\") {\n",
       "        sign(x) * ceiling(abs(x))\n",
       "    }\n",
       "    else if (method == \"nearest, round half up\") {\n",
       "        floor(x + 0.5)\n",
       "    }\n",
       "    else if (method == \"nearest, round half down\") {\n",
       "        ceiling(x - 0.5)\n",
       "    }\n",
       "    else if (method == \"nearest, round half towards zero\") {\n",
       "        sign(x) * ceiling(abs(x) - 0.5)\n",
       "    }\n",
       "    else if (method == \"nearest, round half away from zero\") {\n",
       "        sign(x) * floor(abs(x) + 0.5)\n",
       "    }\n",
       "    else if (method == \"nearest, round half to even\") {\n",
       "        round(x, digits = 0)\n",
       "    }\n",
       "    else if (method == \"nearest, round half to odd\") {\n",
       "        case_when(floor(x)%%2 ~ ceiling(x - 0.5), TRUE ~ floor(x + \n",
       "            0.5))\n",
       "    }\n",
       "    else if (method == \"nearest, round half randomly\") {\n",
       "        round_half_up <- sample(c(TRUE, FALSE), length(x), replace = TRUE)\n",
       "        y <- x\n",
       "        y[round_half_up] <- ceiling(x[round_half_up] - 0.5)\n",
       "        y[!round_half_up] <- floor(x[!round_half_up] + 0.5)\n",
       "        y\n",
       "    }\n",
       "}\n",
       "```"
      ],
      "text/plain": [
       "function(x, method) {\n",
       "  if (method == \"round down\") {\n",
       "    floor(x)\n",
       "  } else if (method == \"round up\") {\n",
       "    ceiling(x)\n",
       "  } else if (method == \"round towards zero\") {\n",
       "    trunc(x)\n",
       "  } else if (method == \"round away from zero\") {\n",
       "    sign(x) * ceiling(abs(x))\n",
       "  } else if (method == \"nearest, round half up\") {\n",
       "    floor(x + 0.5)\n",
       "  } else if (method == \"nearest, round half down\") {\n",
       "    ceiling(x - 0.5)\n",
       "  } else if (method == \"nearest, round half towards zero\") {\n",
       "    sign(x) * ceiling(abs(x) - 0.5)\n",
       "  } else if (method == \"nearest, round half away from zero\") {\n",
       "    sign(x) * floor(abs(x) + 0.5)\n",
       "  } else if (method == \"nearest, round half to even\") {\n",
       "    round(x, digits = 0)\n",
       "  } else if (method == \"nearest, round half to odd\") {\n",
       "    case_when(\n",
       "      # smaller integer is odd - round half down\n",
       "      floor(x) %% 2 ~ ceiling(x - 0.5),\n",
       "      # otherwise, round half up\n",
       "      TRUE ~ floor(x + 0.5)\n",
       "    )\n",
       "  } else if (method == \"nearest, round half randomly\") {\n",
       "    round_half_up <- sample(c(TRUE, FALSE), length(x), replace = TRUE)\n",
       "    y <- x\n",
       "    y[round_half_up] <- ceiling(x[round_half_up] - 0.5)\n",
       "    y[!round_half_up] <- floor(x[!round_half_up] + 0.5)\n",
       "    y\n",
       "  }\n",
       "}"
      ]
     },
     "metadata": {},
     "output_type": "display_data"
    }
   ],
   "source": [
    "function(x, method) {\n",
    "  if (method == \"round down\") {\n",
    "    floor(x)\n",
    "  } else if (method == \"round up\") {\n",
    "    ceiling(x)\n",
    "  } else if (method == \"round towards zero\") {\n",
    "    trunc(x)\n",
    "  } else if (method == \"round away from zero\") {\n",
    "    sign(x) * ceiling(abs(x))\n",
    "  } else if (method == \"nearest, round half up\") {\n",
    "    floor(x + 0.5)\n",
    "  } else if (method == \"nearest, round half down\") {\n",
    "    ceiling(x - 0.5)\n",
    "  } else if (method == \"nearest, round half towards zero\") {\n",
    "    sign(x) * ceiling(abs(x) - 0.5)\n",
    "  } else if (method == \"nearest, round half away from zero\") {\n",
    "    sign(x) * floor(abs(x) + 0.5)\n",
    "  } else if (method == \"nearest, round half to even\") {\n",
    "    round(x, digits = 0)\n",
    "  } else if (method == \"nearest, round half to odd\") {\n",
    "    case_when(\n",
    "      # smaller integer is odd - round half down\n",
    "      floor(x) %% 2 ~ ceiling(x - 0.5),\n",
    "      # otherwise, round half up\n",
    "      TRUE ~ floor(x + 0.5)\n",
    "    )\n",
    "  } else if (method == \"nearest, round half randomly\") {\n",
    "    round_half_up <- sample(c(TRUE, FALSE), length(x), replace = TRUE)\n",
    "    y <- x\n",
    "    y[round_half_up] <- ceiling(x[round_half_up] - 0.5)\n",
    "    y[!round_half_up] <- floor(x[!round_half_up] + 0.5)\n",
    "    y\n",
    "  }\n",
    "}"
   ]
  },
  {
   "cell_type": "raw",
   "metadata": {
    "hidden": true
   },
   "source": [
    "double_vector %>% as.factor() %>% as.integer()"
   ]
  },
  {
   "cell_type": "markdown",
   "metadata": {
    "hidden": true
   },
   "source": [
    "<b><font color = 'purple'>5. What functions from the readr package allow you to turn a string into logical, integer, and double vector? </font></b>"
   ]
  },
  {
   "cell_type": "raw",
   "metadata": {
    "ExecuteTime": {
     "end_time": "2020-02-20T03:55:47.107988Z",
     "start_time": "2020-02-20T03:55:47.059Z"
    },
    "hidden": true
   },
   "source": [
    "# load data from excel\n",
    "LI <- read_excel(\"1-LOCInfo.xlsx\", sheet = \"LOCInfo\")\n",
    "TI <- read_excel(\"2-TransactionInfo.xlsx\", \n",
    "                 col_types = c(\"text\",\"date\",\"text\",\"numeric\",\"text\"), \n",
    "                 sheet     = \"TransactionInfo\")\n",
    "CI <- read_excel(\"3-CustomerInfo.xlsx\", \n",
    "                 sheet = \"CustomerInfo\")\n",
    "FI <- read_excel(\"4-FraudInfo.xlsx\", \n",
    "                 col_types = c(\"text\",\"logical\"), \n",
    "                 sheet = \"FraudInfo\")\n",
    "\n",
    "CI <- CI %>% mutate(Age = as.integer(Age))\n",
    "TI <- TI %>% mutate(Transaction_Date = ymd(Transaction_Date))\n"
   ]
  },
  {
   "cell_type": "markdown",
   "metadata": {
    "heading_collapsed": true
   },
   "source": [
    "## Using atomic vectors"
   ]
  },
  {
   "cell_type": "markdown",
   "metadata": {
    "hidden": true
   },
   "source": [
    "Now that you understand the different types of atomic vector, it’s useful to review some of the important tools for working with them. These include:\n",
    "\n",
    "1.  How to convert from one type to another, and when that happens\n",
    "    automatically.\n",
    "\n",
    "2.  How to tell if an object is a specific type of vector.\n",
    "\n",
    "3.  What happens when you work with vectors of different lengths.\n",
    "\n",
    "4.  How to name the elements of a vector.\n",
    "\n",
    "5.  How to pull out elements of interest."
   ]
  },
  {
   "cell_type": "markdown",
   "metadata": {
    "hidden": true
   },
   "source": [
    "###  Coercion"
   ]
  },
  {
   "cell_type": "markdown",
   "metadata": {
    "hidden": true
   },
   "source": [
    "There are two ways to convert, or coerce, one type of vector to another:\n",
    "\n",
    "1.  Explicit coercion happens when you call a function like `as.logical()`,\n",
    "    `as.integer()`, `as.double()`, or `as.character()`. Whenever you find\n",
    "    yourself using explicit coercion, you should always check whether you can\n",
    "    make the fix upstream, so that the vector never had the wrong type in\n",
    "    the first place. For example, you may need to tweak your readr\n",
    "    `col_types` specification.\n",
    "\n",
    "2.  Implicit coercion happens when you use a vector in a specific context\n",
    "    that expects a certain type of vector. For example, when you use a logical\n",
    "    vector with a numeric summary function, or when you use a double vector\n",
    "    where an integer vector is expected."
   ]
  },
  {
   "cell_type": "markdown",
   "metadata": {
    "hidden": true
   },
   "source": [
    "Because explicit coercion is used relatively rarely, and is largely easy to understand, I’ll focus on implicit coercion here.\n",
    "\n",
    "You’ve already seen the most important type of implicit coercion: using a logical vector in a numeric context. In this case `TRUE` is converted to `1` and `FALSE` converted to `0`. That means the sum of a logical vector is the number of trues, and the mean of a logical vector is the proportion of trues:\n",
    "\n",
    "```sourceCode\n",
    "x <- sample(20, 100, replace = TRUE)\n",
    "y <- x > 10\n",
    "sum(y)  # how many are greater than 10?\n",
    "#> [1] 38\n",
    "mean(y) # what proportion are greater than 10?\n",
    "#> [1] 0.38\n",
    "```"
   ]
  },
  {
   "cell_type": "markdown",
   "metadata": {
    "hidden": true
   },
   "source": [
    "You may see some code (typically older) that relies on implicit coercion in the opposite direction, from integer to logical:\n",
    "\n",
    "```sourceCode\n",
    "if (length(x)) {\n",
    "  # do something\n",
    "}\n",
    "```"
   ]
  },
  {
   "cell_type": "markdown",
   "metadata": {
    "hidden": true
   },
   "source": [
    "In this case, 0 is converted to `FALSE` and everything else is converted to `TRUE`. I think this makes it harder to understand your code, and I don’t recommend it. Instead be explicit: `length(x) > 0`.\n",
    "\n",
    "<font color = 'blue'>It’s also important to understand what happens when you try and create a vector containing multiple types with `c()`: the most complex type always wins.</font>\n",
    "\n",
    "```sourceCode\n",
    "typeof(c(TRUE, 1L))\n",
    "#> [1] \"integer\"\n",
    "typeof(c(1L, 1.5))\n",
    "#> [1] \"double\"\n",
    "typeof(c(1.5, \"a\"))\n",
    "#> [1] \"character\"\n",
    "```\n",
    "\n",
    "<font color = 'blue'>An atomic vector can not have a mix of different types because the type is a property of the complete vector, not the individual elements. If you need to mix multiple types in the same vector, you should use a list, which you’ll learn about shortly.</font>"
   ]
  },
  {
   "cell_type": "markdown",
   "metadata": {
    "hidden": true
   },
   "source": [
    "### Test functions"
   ]
  },
  {
   "cell_type": "markdown",
   "metadata": {
    "hidden": true
   },
   "source": [
    "Sometimes you want to do different things based on the type of vector. One option is to use `typeof()`. Another is to use a test function which returns a `TRUE` or `FALSE`. Base R provides many functions like `is.vector()` and `is.atomic()`, but they often return surprising results. Instead, it’s safer to use the `is_*` functions provided by purrr, which are summarised in the table below."
   ]
  },
  {
   "cell_type": "raw",
   "metadata": {
    "hidden": true
   },
   "source": [
    "                 | lgl | int | dbl | chr | list\n",
    "---------------- | --- | --- | --- | --- | ----\n",
    "`is_logical()`   | x   |     |     |     |     \n",
    "`is_integer()`   |     | x   |     |     |     \n",
    "`is_double()`    |     |     | x   |     |     \n",
    "`is_numeric()`   |     | x   | x   |     |     \n",
    "`is_character()` |     |     |     | x   |     \n",
    "`is_atomic()`    | x   | x   | x   | x   |     \n",
    "`is_list()`      |     |     |     |     | x   \n",
    "`is_vector()`    | x   | x   | x   | x   | x   "
   ]
  },
  {
   "cell_type": "markdown",
   "metadata": {
    "hidden": true
   },
   "source": [
    "Each predicate also comes with a “scalar” version, like `is_scalar_atomic()`, which checks that the length is 1. This is useful, for example, if you want to check that an argument to your function is a single logical value."
   ]
  },
  {
   "cell_type": "markdown",
   "metadata": {
    "hidden": true
   },
   "source": [
    "### Scalars and recycling rules"
   ]
  },
  {
   "cell_type": "markdown",
   "metadata": {
    "hidden": true
   },
   "source": [
    "As well as implicitly coercing the types of vectors to be compatible, <font color = 'green'><b>R will also implicitly coerce the length of vectors</b></font>. <font color = 'blue'>This is called vector **recycling**, because the shorter vector is repeated, or recycled, to the same length as the longer vector.</font>\n",
    "\n",
    "This is generally most useful when you are mixing vectors and “scalars”. I put scalars in quotes because <font color = 'blue'>R doesn’t actually have scalars: instead, a single number is a vector of length 1</font>. Because there are no scalars, most built-in functions are **vectorised**, meaning that they will operate on a vector of numbers. That’s why, for example, this code works:\n",
    "\n",
    "```sourceCode\n",
    "sample(10) + 100\n",
    "#>  [1] 107 104 103 109 102 101 106 110 105 108\n",
    "runif(10) > 0.5\n",
    "#>  [1] FALSE  TRUE FALSE FALSE  TRUE  TRUE  TRUE  TRUE  TRUE  TRUE\n",
    "```"
   ]
  },
  {
   "cell_type": "markdown",
   "metadata": {
    "hidden": true
   },
   "source": [
    "In R, basic mathematical operations work with vectors. That means that you should never need to perform explicit iteration when performing simple mathematical computations.\n",
    "\n",
    "It’s intuitive what should happen if you add two vectors of the same length, or a vector and a “scalar”, but what happens if you add two vectors of different lengths?\n",
    "\n",
    "```sourceCode\n",
    "1:10 + 1:2\n",
    "#>  [1]  2  4  4  6  6  8  8 10 10 12\n",
    "```"
   ]
  },
  {
   "cell_type": "markdown",
   "metadata": {
    "hidden": true
   },
   "source": [
    "Here, R will expand the shortest vector to the same length as the longest, so called recycling. This is silent except when the length of the longer is not an integer multiple of the length of the shorter:\n",
    "\n",
    "```sourceCode\n",
    "1:10 + 1:3\n",
    "#> Warning in 1:10 + 1:3: longer object length is not a multiple of shorter object\n",
    "#> length\n",
    "#>  [1]  2  4  6  5  7  9  8 10 12 11\n",
    "```"
   ]
  },
  {
   "cell_type": "markdown",
   "metadata": {
    "hidden": true
   },
   "source": [
    "While vector recycling can be used to create very succinct, clever code, it can also silently conceal problems. For this reason, the vectorised functions in <font color = 'blue'>tidyverse will throw errors when you recycle anything other than a scalar</font>. <font color = 'blue'>If you do want to recycle, you’ll need to do it yourself with `rep()`:</font>\n",
    "\n",
    "```sourceCode\n",
    "tibble(x = 1:4, y = 1:2)\n",
    "#> Error: Tibble columns must have consistent lengths, only values of length one are recycled:\n",
    "#> * Length 2: Column `y`\n",
    "#> * Length 4: Column `x`\n",
    "\n",
    "tibble(x = 1:4, y = rep(1:2, 2))\n",
    "#> # A tibble: 4 x 2\n",
    "#>       x     y\n",
    "#>   <int> <int>\n",
    "#> 1     1     1\n",
    "#> 2     2     2\n",
    "#> 3     3     1\n",
    "#> 4     4     2\n",
    "\n",
    "tibble(x = 1:4, y = rep(1:2, each = 2))\n",
    "#> # A tibble: 4 x 2\n",
    "#>       x     y\n",
    "#>   <int> <int>\n",
    "#> 1     1     1\n",
    "#> 2     2     1\n",
    "#> 3     3     2\n",
    "#> 4     4     2\n",
    "```"
   ]
  },
  {
   "cell_type": "markdown",
   "metadata": {
    "hidden": true
   },
   "source": [
    "### Naming vectors"
   ]
  },
  {
   "cell_type": "markdown",
   "metadata": {
    "hidden": true
   },
   "source": [
    "All types of vectors can be named. You can name them during creation with `c()`:\n",
    "\n",
    "```sourceCode\n",
    "c(x = 1, y = 2, z = 4)\n",
    "#> x y z \n",
    "#> 1 2 4\n",
    "```\n",
    "\n",
    "Or after the fact with `purrr::set_names()`:\n",
    "\n",
    "```sourceCode\n",
    "set_names(1:3, c(\"a\", \"b\", \"c\"))\n",
    "#> a b c \n",
    "#> 1 2 3\n",
    "```\n",
    "\n",
    "Named vectors are most useful for subsetting, described next."
   ]
  },
  {
   "cell_type": "markdown",
   "metadata": {
    "hidden": true
   },
   "source": [
    "### Subsetting"
   ]
  },
  {
   "cell_type": "markdown",
   "metadata": {
    "hidden": true
   },
   "source": [
    "So far we’ve used `dplyr::filter()` to filter the rows in a tibble. `filter()` only works with tibble, so we’ll need new tool for vectors: `[`. `[` is the subsetting function, and is called like `x[a]`. There are four types of things that you can subset a vector with:"
   ]
  },
  {
   "cell_type": "markdown",
   "metadata": {
    "hidden": true
   },
   "source": [
    "1.  A numeric vector containing only integers. The integers must either be all\n",
    "    positive, all negative, or zero.\n",
    "\n",
    "    Subsetting with positive integers keeps the elements at those positions:\n",
    "\n",
    "    ```sourceCode\n",
    "    x <- c(\"one\", \"two\", \"three\", \"four\", \"five\")\n",
    "    x[c(3, 2, 5)]\n",
    "    #> [1] \"three\" \"two\"   \"five\"\n",
    "    ```\n",
    "\n",
    "    By repeating a position, you can actually make a longer output than\n",
    "    input:\n",
    "\n",
    "    ```sourceCode\n",
    "    x[c(1, 1, 5, 5, 5, 2)]\n",
    "    #> [1] \"one\"  \"one\"  \"five\" \"five\" \"five\" \"two\"\n",
    "    ```\n",
    "\n",
    "    Negative values drop the elements at the specified positions:\n",
    "\n",
    "    ```sourceCode\n",
    "    x[c(-1, -3, -5)]\n",
    "    #> [1] \"two\"  \"four\"\n",
    "    ```\n",
    "\n",
    "    It’s an error to mix positive and negative values:\n",
    "\n",
    "    ```sourceCode\n",
    "    x[c(1, -1)]\n",
    "    #> Error in x[c(1, -1)]: only 0's may be mixed with negative subscripts\n",
    "    ```\n",
    "\n",
    "    The error message mentions subsetting with zero, which returns no values:\n",
    "\n",
    "    ```sourceCode\n",
    "    x[0]\n",
    "    #> character(0)\n",
    "    ```\n",
    "\n",
    "    This is not useful very often, but it can be helpful if you want to create\n",
    "    unusual data structures to test your functions with."
   ]
  },
  {
   "cell_type": "markdown",
   "metadata": {
    "hidden": true
   },
   "source": [
    "2.  Subsetting with a logical vector keeps all values corresponding to a\n",
    "    `TRUE` value. This is most often useful in conjunction with the\n",
    "    comparison functions.\n",
    "\n",
    "    ```sourceCode\n",
    "    x <- c(10, 3, NA, 5, 8, 1, NA)\n",
    "\n",
    "    # All non-missing values of x\n",
    "    x[!is.na(x)]\n",
    "    #> [1] 10  3  5  8  1\n",
    "\n",
    "    # All even (or missing!) values of x\n",
    "    x[x %% 2 == 0]\n",
    "    #> [1] 10 NA  8 NA\n",
    "    ```"
   ]
  },
  {
   "cell_type": "markdown",
   "metadata": {
    "hidden": true
   },
   "source": [
    "3.  If you have a named vector, you can subset it with a character vector:\n",
    "\n",
    "    ```sourceCode\n",
    "    x <- c(abc = 1, def = 2, xyz = 5)\n",
    "    x[c(\"xyz\", \"def\")]\n",
    "    #> xyz def \n",
    "    #>   5   2\n",
    "    ```\n",
    "\n",
    "    Like with positive integers, you can also use a character vector to\n",
    "    duplicate individual entries."
   ]
  },
  {
   "cell_type": "markdown",
   "metadata": {
    "hidden": true
   },
   "source": [
    "4.  The simplest type of subsetting is nothing, `x[]`, which returns the\n",
    "    complete `x`. This is not useful for subsetting vectors, but it is useful\n",
    "    when subsetting matrices (and other high dimensional structures) because\n",
    "    it lets you select all the rows or all the columns, by leaving that\n",
    "    index blank. For example, if `x` is 2d, `x[1, ]` selects the first row and\n",
    "    all the columns, and `x[, -1]` selects all rows and all columns except\n",
    "    the first.\n",
    "\n",
    "To learn more about the applications of subsetting, reading the “Subsetting” chapter of _Advanced R_: http://adv-r.had.co.nz/Subsetting.html#applications.\n",
    "\n",
    "There is an important variation of `[` called `[[`. `[[` only ever extracts a single element, and always drops names. It’s a good idea to use it whenever you want to make it clear that you’re extracting a single item, as in a for loop. The distinction between `[` and `[[` is most important for lists, as we’ll see shortly."
   ]
  },
  {
   "cell_type": "markdown",
   "metadata": {
    "heading_collapsed": true,
    "hidden": true
   },
   "source": [
    "### Exercises"
   ]
  },
  {
   "cell_type": "markdown",
   "metadata": {
    "hidden": true
   },
   "source": [
    "##### Exercise 20.4.1[__](https://jrnold.github.io/r4ds-exercise-solutions/vectors.html#exercise-20.4.1)\n",
    "\n",
    "What does `mean(is.na(x))` tell you about a vector `x`? What about `sum(!is.finite(x))`?"
   ]
  },
  {
   "cell_type": "markdown",
   "metadata": {
    "hidden": true
   },
   "source": [
    "I’ll use the numeric vector `x` to compare the behaviors of `is.na()`\n",
    "and `is.finite()`. It contains numbers (`-1`, `0`, `1`) as\n",
    "well as all the special numeric values: infinity (`Inf`),\n",
    "missing (`NA`), and not-a-number (`NaN`).\n",
    "\n",
    "```sourceCode\n",
    "x <- c(-Inf, -1, 0, 1, Inf, NA, NaN)\n",
    "```\n",
    "\n",
    "The expression `mean(is.na(x))` calculates the proportion of missing values (values equal to `NA`) in a vector.\n",
    "\n",
    "```sourceCode\n",
    "mean(is.na(x))\n",
    "#> [1] 0.286\n",
    "```\n",
    "\n",
    "The expression `sum(!is.finite(x))` calculates the number of elements in the vector that are equal to missing (`NA`), not-a-number (`NaN`), or infinity (`Inf`).\n",
    "\n",
    "<button type=\"button\" class=\"copy-to-clipboard-button\" title=\"Copy to clipboard\" aria-label=\"Copy to clipboard\"><i class=\"fa fa-copy\"></i></button>\n",
    "\n",
    "```sourceCode\n",
    "sum(!is.finite(x))\n",
    "#> [1] 4\n",
    "```\n",
    "\n",
    "Review the [Numeric](https://r4ds.had.co.nz/vectors.html#numeric) section for the differences between `is.na()` and `is.finite()`."
   ]
  },
  {
   "cell_type": "markdown",
   "metadata": {
    "hidden": true
   },
   "source": [
    "##### Exercise 20.4.2[__](https://jrnold.github.io/r4ds-exercise-solutions/vectors.html#exercise-20.4.2)\n",
    "\n",
    "Carefully read the documentation of `is.vector()`. What does it actually test for? Why does `is.atomic()` not agree with the definition of atomic vectors above?"
   ]
  },
  {
   "cell_type": "markdown",
   "metadata": {
    "hidden": true
   },
   "source": [
    "The function `is.vector()` only checks whether the object has no attributes other than names. Thus a `list` is a vector:\n",
    "\n",
    "```R\n",
    "is.vector(list(a = 1, b = 2))\n",
    "#> [1] TRUE\n",
    "```\n",
    "\n",
    "But any object that has an attribute (other than names) is not:\n",
    "\n",
    "```R\n",
    "x <- 1:10\n",
    "attr(x, \"something\") <- TRUE\n",
    "is.vector(x)\n",
    "#> [1] FALSE\n",
    "```\n",
    "\n",
    "The idea behind this is that object oriented classes will include attributes, including, but not limited to `\"class\"`.\n",
    "\n",
    "The function `is.atomic()` explicitly checks whether an object is one of the atomic types (“logical”, “integer”, “numeric”, “complex”, “character”, and “raw”) or NULL.\n",
    "\n",
    "```R\n",
    "is.atomic(1:10)\n",
    "#> [1] TRUE\n",
    "is.atomic(list(a = 1))\n",
    "#> [1] FALSE\n",
    "```\n",
    "\n",
    "The function `is.atomic()` will consider objects to be atomic even if they have extra attributes.\n",
    "\n",
    "```R\n",
    "is.atomic(x)\n",
    "#> [1] TRUE\n",
    "```"
   ]
  },
  {
   "cell_type": "markdown",
   "metadata": {
    "hidden": true
   },
   "source": [
    "##### Exercise 20.4.3[__](https://jrnold.github.io/r4ds-exercise-solutions/vectors.html#exercise-20.4.3)\n",
    "\n",
    "Compare and contrast `setNames()` with `purrr::set_names()`."
   ]
  },
  {
   "cell_type": "markdown",
   "metadata": {
    "hidden": true
   },
   "source": [
    "The function `setNames()` takes two arguments, a vector to be named and a vector\n",
    "of names to apply to its elements.\n",
    "\n",
    "\n",
    "\n",
    "```R\n",
    "setNames(1:4, c(\"a\", \"b\", \"c\", \"d\"))\n",
    "#> a b c d \n",
    "#> 1 2 3 4\n",
    "```\n",
    "\n",
    "You can use the values of the vector as its names if the `nm` argument is used.\n",
    "\n",
    "\n",
    "\n",
    "```R\n",
    "setNames(nm = c(\"a\", \"b\", \"c\", \"d\"))\n",
    "#>   a   b   c   d \n",
    "#> \"a\" \"b\" \"c\" \"d\"\n",
    "```\n",
    "\n",
    "The function `set_names()` has more ways to set the names than `setNames()`.\n",
    "The names can be specified in the same manner as `setNames()`.\n",
    "\n",
    "\n",
    "\n",
    "```R\n",
    "purrr::set_names(1:4, c(\"a\", \"b\", \"c\", \"d\"))\n",
    "#> a b c d \n",
    "#> 1 2 3 4\n",
    "```\n",
    "\n",
    "The names can also be specified as unnamed arguments,\n",
    "\n",
    "\n",
    "\n",
    "```R\n",
    "purrr::set_names(1:4, \"a\", \"b\", \"c\", \"d\")\n",
    "#> a b c d \n",
    "#> 1 2 3 4\n",
    "```\n",
    "\n",
    "The function `set_names()` will name an object with itself if no `nm` argument is\n",
    "provided (the opposite of `setNames()` behavior).\n",
    "\n",
    "\n",
    "\n",
    "```R\n",
    "purrr::set_names(c(\"a\", \"b\", \"c\", \"d\"))\n",
    "#>   a   b   c   d \n",
    "#> \"a\" \"b\" \"c\" \"d\"\n",
    "```\n",
    "\n",
    "The biggest difference between `set_names()` and `setNames()` is that `set_names()` allows for using a function or formula to transform the existing names.\n",
    "\n",
    "\n",
    "\n",
    "```R\n",
    "purrr::set_names(c(a = 1, b = 2, c = 3), toupper)\n",
    "#> A B C \n",
    "#> 1 2 3\n",
    "purrr::set_names(c(a = 1, b = 2, c = 3), ~ toupper(.))\n",
    "#> A B C \n",
    "#> 1 2 3\n",
    "```\n",
    "\n",
    "The `set_names()` function also checks that the length of the names argument is the\n",
    "same length as the vector that is being named, and will raise an error if it is not.\n",
    "\n",
    "\n",
    "\n",
    "```R\n",
    "purrr::set_names(1:4, c(\"a\", \"b\"))\n",
    "#> `nm` must be `NULL` or a character vector the same length as `x`\n",
    "```\n",
    "\n",
    "The `setNames()` function will allow the names to be shorter than the vector being\n",
    "named, and will set the missing names to `NA`.\n",
    "\n",
    "\n",
    "\n",
    "```R\n",
    "setNames(1:4, c(\"a\", \"b\"))\n",
    "#>    a    b <NA> <NA> \n",
    "#>    1    2    3    4\n",
    "```"
   ]
  },
  {
   "cell_type": "markdown",
   "metadata": {
    "hidden": true
   },
   "source": [
    "##### Exercise 20.4.4[__](https://jrnold.github.io/r4ds-exercise-solutions/vectors.html#exercise-20.4.4)\n",
    "\n",
    "Create functions that take a vector as input and returns:\n",
    "\n",
    "1.  The last value. Should you use `[` or `[[`?\n",
    "2.  The elements at even numbered positions.\n",
    "3.  Every element except the last value.\n",
    "4.  Only even numbers (and no missing values)."
   ]
  },
  {
   "cell_type": "markdown",
   "metadata": {
    "hidden": true
   },
   "source": [
    "The answers to the parts follow.\n",
    "\n",
    "1.  This function find the last value in a vector.\n",
    "\n",
    "\n",
    "\n",
    "```R\n",
    "last_value <- function(x) {\n",
    "# check for case with no length\n",
    "if (length(x)) {\n",
    "x[[length(x)]]\n",
    "} else {\n",
    "x\n",
    "}\n",
    "}\n",
    "last_value(numeric())\n",
    "#> numeric(0)\n",
    "last_value(1)\n",
    "#> [1] 1\n",
    "last_value(1:10)\n",
    "#> [1] 10\n",
    "```\n",
    "\n",
    "The function uses `[[` in order to extract a single element.\n",
    "\n",
    "2.  This function returns the elements at even number positions.\n",
    "\n",
    "\n",
    "\n",
    "```R\n",
    "even_indices <- function(x) {\n",
    "  if (length(x)) {\n",
    "    x[seq_along(x) %% 2 == 0]\n",
    "  } else {\n",
    "    x\n",
    "  }\n",
    "}\n",
    "even_indices(numeric())\n",
    "#> numeric(0)\n",
    "even_indices(1)\n",
    "#> numeric(0)\n",
    "even_indices(1:10)\n",
    "#> [1]  2  4  6  8 10\n",
    "# test using case to ensure that values not indices\n",
    "# are being returned\n",
    "even_indices(letters)\n",
    "#>  [1] \"b\" \"d\" \"f\" \"h\" \"j\" \"l\" \"n\" \"p\" \"r\" \"t\" \"v\" \"x\" \"z\"\n",
    "```\n",
    "\n",
    "3.  This function returns a vector with every element except the last.\n",
    "\n",
    "\n",
    "\n",
    "```R\n",
    "not_last <- function(x) {\n",
    "  n <- length(x)\n",
    "  if (n) {\n",
    "    x[-n]\n",
    "  } else {\n",
    "    # n == 0\n",
    "    x\n",
    "  }\n",
    "}\n",
    "not_last(1:3)\n",
    "#> [1] 1 2\n",
    "```\n",
    "\n",
    "We should also confirm that the function works with some edge cases, like\n",
    "a vector with one element, and a vector with zero elements.\n",
    "\n",
    "\n",
    "\n",
    "```R\n",
    "not_last(1)\n",
    "#> numeric(0)\n",
    "not_last(numeric())\n",
    "#> numeric(0)\n",
    "```\n",
    "\n",
    "In both these cases, `not_last()` correctly returns an empty vector.\n",
    "\n",
    "4.  This function returns the elements of a vector that are even numbers.\n",
    "\n",
    "\n",
    "\n",
    "```R\n",
    "even_numbers <- function(x) {\n",
    "  x[x %% 2 == 0]\n",
    "}\n",
    "even_numbers(-4:4)\n",
    "#> [1] -4 -2  0  2  4\n",
    "```\n",
    "\n",
    "We could improve this function by handling the special numeric values:\n",
    "`NA`, `NaN`, `Inf`. However, first we need to decide how to handle them.\n",
    "Neither `NaN` nor `Inf` are numbers, and so they are neither even nor odd.\n",
    "In other words, since `NaN` nor `Inf` aren’t _even_ numbers, they aren’t _even numbers_.\n",
    "What about `NA`? Well, we don’t know. `NA` is a number, but we don’t know its\n",
    "value. The missing number could be even or odd, but we don’t know.\n",
    "Another reason to return `NA` is that it is consistent with the behavior of other R functions,\n",
    "which generally return `NA` values instead of dropping them.\n",
    "\n",
    "\n",
    "\n",
    "```R\n",
    "even_numbers2 <- function(x) {\n",
    "  x[!is.infinite(x) & !is.nan(x) & (x %% 2 == 0)]\n",
    "}\n",
    "even_numbers2(c(0:4, NA, NaN, Inf, -Inf))\n",
    "#> [1]  0  2  4 NA\n",
    "```"
   ]
  },
  {
   "cell_type": "code",
   "execution_count": null,
   "metadata": {
    "hidden": true
   },
   "outputs": [],
   "source": []
  },
  {
   "cell_type": "markdown",
   "metadata": {
    "hidden": true
   },
   "source": [
    "##### Exercise 20.4.5[__](https://jrnold.github.io/r4ds-exercise-solutions/vectors.html#exercise-20.4.5)\n",
    "\n",
    "Why is `x[-which(x > 0)]` not the same as `x[x <= 0]`?"
   ]
  },
  {
   "cell_type": "markdown",
   "metadata": {
    "hidden": true
   },
   "source": [
    "These expressions differ in the way that they treat missing values.\n",
    "Let’s test how they work by creating a vector with positive and negative integers,\n",
    "and special values (`NA`, `NaN`, and `Inf`). These values should encompass\n",
    "all relevant types of values that these expressions would encounter.\n",
    "\n",
    "\n",
    "\n",
    "```R\n",
    "x <- c(-1:1, Inf, -Inf, NaN, NA)\n",
    "x[-which(x > 0)]\n",
    "#> [1]   -1    0 -Inf  NaN   NA\n",
    "x[x <= 0]\n",
    "#> [1]   -1    0 -Inf   NA   NA\n",
    "```\n",
    "\n",
    "The expressions `x[-which(x > 0)]` and `x[x <= 0]` return the same values except\n",
    "for a `NaN` instead of a `NA` in the `which()` based expression.\n",
    "\n",
    "So what is going on here? Let’s work through each part of these expressions and\n",
    "see where the different occurs.\n",
    "Let’s start with the expression `x[x <= 0]`.\n",
    "\n",
    "\n",
    "\n",
    "```R\n",
    "x <= 0\n",
    "#> [1]  TRUE  TRUE FALSE FALSE  TRUE    NA    NA\n",
    "```\n",
    "\n",
    "Recall how the logical relational operators (`<`, `<=`, `==`, `!=`, `>`, `>=`) treat `NA` values.\n",
    "Any relational operation that includes a `NA` returns an `NA`.\n",
    "Is `NA <= 0`? We don’t know because it depends on the unknown value of `NA`, so the answer is `NA`.\n",
    "This same argument applies to `NaN`. Asking whether `NaN <= 0` does not make sense because you can’t compare a number to “Not a Number”.\n",
    "\n",
    "Now recall how indexing treats `NA` values.\n",
    "Indexing can take a logical vector as in input, in which case it will include those elements where the logical vector is `TRUE`, and will \n",
    "<hypothesis-highlight class=\"hypothesis-highlight\">not </hypothesis-highlight>return those elements where the logical vector is `FALSE`.\n",
    "Logical vectors can also include `NA` values, and it is not clear how they should be treated.\n",
    "Well, since the value is `NA`, it could be `TRUE` or `FALSE`, we don’t know.\n",
    "Keeping elements with `NA` would treat the `NA` as `TRUE`, and dropping them would treat the `NA` as `FALSE`.  \n",
    "The way R decides to handle the `NA` values so that they are treated differently than `TRUE` or `FALSE` values is to include elements where the indexing vector is `NA`, but set their values to `NA`.\n",
    "\n",
    "Now consider the expression `x[-which(x > 0)]`.\n",
    "As before, to understand this expression we’ll work from the inside out.\n",
    "Consider `x > 0`.\n",
    "\n",
    "\n",
    "\n",
    "```R\n",
    "x > 0\n",
    "#> [1] FALSE FALSE  TRUE  TRUE FALSE    NA    NA\n",
    "```\n",
    "\n",
    "As with `x <= 0`, it returns `NA` for comparisons involving `NA` and `NaN`.\n",
    "\n",
    "What does `which()` do?\n",
    "\n",
    "\n",
    "\n",
    "```R\n",
    "which(x > 0)\n",
    "#> [1] 3 4\n",
    "```\n",
    "\n",
    "The `which()` function returns the indexes for which the argument is `TRUE`.\n",
    "This means that it is not including the indexes for which the argument is `FALSE` or `NA`.\n",
    "\n",
    "Now consider the full expression `x[-which(x > 0)]`?\n",
    "The `which()` function returned a vector of integers.\n",
    "How does indexing treat negative integers?\n",
    "\n",
    "\n",
    "\n",
    "```R\n",
    "x[1:2]\n",
    "#> [1] -1  0\n",
    "x[-(1:2)]\n",
    "#> [1]    1  Inf -Inf  NaN   NA\n",
    "```\n",
    "\n",
    "If indexing gets a vector of positive integers, it will select those indexes;\n",
    "if it receives a vector of negative integers, it will drop those indexes.\n",
    "Thus, `x[-which(x > 0)]` ends up dropping the elements for which `x > 0` is true,\n",
    "and keeps all the other elements and their original values, including `NA` and `NaN`.\n",
    "\n",
    "There’s one other special case that we should consider. How do these two expressions work with\n",
    "an empty vector?\n",
    "\n",
    "\n",
    "\n",
    "```R\n",
    "x <- numeric()\n",
    "x[x <= 0]\n",
    "#> numeric(0)\n",
    "x[-which(x > 0)]\n",
    "#> numeric(0)\n",
    "```\n",
    "\n",
    "Thankfully, they both handle empty vectors the same.\n",
    "\n",
    "This exercise is a reminder to always test your code. Even though these two expressions looked\n",
    "equivalent, they are not in practice. And when you do test code, consider both\n",
    "how it works on typical values as well as special values and edge cases, like a\n",
    "vector with `NA` or `NaN` or `Inf` values, or an empty vector. These are where\n",
    "unexpected behavior is most likely to occur."
   ]
  },
  {
   "cell_type": "markdown",
   "metadata": {
    "heading_collapsed": true,
    "hidden": true
   },
   "source": [
    "##### Exercise 20.4.6[__](https://jrnold.github.io/r4ds-exercise-solutions/vectors.html#exercise-20.4.6)\n",
    "\n",
    "What happens when you subset with a positive integer that’s bigger than the length of the vector? What happens when you subset with a name that doesn’t exist?"
   ]
  },
  {
   "cell_type": "markdown",
   "metadata": {
    "hidden": true
   },
   "source": [
    "Let’s consider the named vector,\n",
    "\n",
    "\n",
    "\n",
    "```R\n",
    "x <- c(a = 10, b = 20)\n",
    "```\n",
    "\n",
    "If we subset it by an integer larger than its length, it returns a vector of missing values.\n",
    "\n",
    "\n",
    "\n",
    "```R\n",
    "x[3]\n",
    "#> <NA> \n",
    "#>   NA\n",
    "```\n",
    "\n",
    "This also applies to ranges.\n",
    "\n",
    "\n",
    "\n",
    "```R\n",
    "x[3:5]\n",
    "#> <NA> <NA> <NA> \n",
    "#>   NA   NA   NA\n",
    "```\n",
    "\n",
    "If some indexes are larger than the length of the vector, those elements are `NA`.\n",
    "\n",
    "\n",
    "\n",
    "```R\n",
    "x[1:5]\n",
    "#>    a    b <NA> <NA> <NA> \n",
    "#>   10   20   NA   NA   NA\n",
    "```\n",
    "\n",
    "Likewise, when `[` is provided names not in the vector’s names, it will return\n",
    "`NA` for those elements.\n",
    "\n",
    "\n",
    "\n",
    "```R\n",
    "x[\"c\"]\n",
    "#> <NA> \n",
    "#>   NA\n",
    "x[c(\"c\", \"d\", \"e\")]\n",
    "#> <NA> <NA> <NA> \n",
    "#>   NA   NA   NA\n",
    "x[c(\"a\", \"b\", \"c\")]\n",
    "#>    a    b <NA> \n",
    "#>   10   20   NA\n",
    "```\n",
    "\n",
    "Though not yet discussed much in this chapter, the `[[` behaves differently.\n",
    "With an atomic vector, if `[[` is given an index outside the range of the vector or an invalid name, it raises an error.\n",
    "\n",
    "\n",
    "\n",
    "```R\n",
    "x[[\"c\"]]\n",
    "#> Error in x[[\"c\"]]: subscript out of bounds\n",
    "```\n",
    "\n",
    "\n",
    "\n",
    "```R\n",
    "x[[5]]\n",
    "#> Error in x[[5]]: subscript out of bounds\n",
    "```"
   ]
  },
  {
   "cell_type": "markdown",
   "metadata": {
    "heading_collapsed": true
   },
   "source": [
    "## Recursive vectors (lists)\n"
   ]
  },
  {
   "cell_type": "markdown",
   "metadata": {
    "hidden": true
   },
   "source": [
    "Lists are a step up in complexity from atomic vectors, because lists can contain other lists. This makes them suitable for representing hierarchical or tree-like structures. You create a list with `list()`:\n",
    "\n",
    "```sourceCode\n",
    "x <- list(1, 2, 3)\n",
    "x\n",
    "#> [[1]]\n",
    "#> [1] 1\n",
    "#> \n",
    "#> [[2]]\n",
    "#> [1] 2\n",
    "#> \n",
    "#> [[3]]\n",
    "#> [1] 3\n",
    "```"
   ]
  },
  {
   "cell_type": "markdown",
   "metadata": {
    "hidden": true
   },
   "source": [
    "A very useful tool for working with lists is `str()` because it focusses on the **str**ucture, not the contents.\n",
    "\n",
    "```R\n",
    "str(x)\n",
    "#> List of 3\n",
    "#>  $ : num 1\n",
    "#>  $ : num 2\n",
    "#>  $ : num 3\n",
    "\n",
    "x_named <- list(a = 1, b = 2, c = 3)\n",
    "str(x_named)\n",
    "#> List of 3\n",
    "#>  $ a: num 1\n",
    "#>  $ b: num 2\n",
    "#>  $ c: num 3\n",
    "```"
   ]
  },
  {
   "cell_type": "markdown",
   "metadata": {
    "hidden": true
   },
   "source": [
    "Unlike atomic vectors, `list()` can contain a mix of objects:\n",
    "\n",
    "```sourceCode\n",
    "y <- list(\"a\", 1L, 1.5, TRUE)\n",
    "str(y)\n",
    "#> List of 4\n",
    "#>  $ : chr \"a\"\n",
    "#>  $ : int 1\n",
    "#>  $ : num 1.5\n",
    "#>  $ : logi TRUE\n",
    "```"
   ]
  },
  {
   "cell_type": "markdown",
   "metadata": {
    "hidden": true
   },
   "source": [
    "Lists can even contain other lists!\n",
    "\n",
    "```R\n",
    "z <- list(list(1, 2), list(3, 4))\n",
    "str(z)\n",
    "#> List of 2\n",
    "#>  $ :List of 2\n",
    "#>   ..$ : num 1\n",
    "#>   ..$ : num 2\n",
    "#>  $ :List of 2\n",
    "#>   ..$ : num 3\n",
    "#>   ..$ : num 4\n",
    "```"
   ]
  },
  {
   "cell_type": "markdown",
   "metadata": {
    "hidden": true
   },
   "source": [
    "### 20.5.1 Visualising lists"
   ]
  },
  {
   "cell_type": "markdown",
   "metadata": {
    "hidden": true
   },
   "source": [
    "To explain more complicated list manipulation functions, it’s helpful to have a visual representation of lists. For example, take these three lists:\n",
    "\n",
    "```R\n",
    "x1 <- list(c(1, 2), c(3, 4))\n",
    "x2 <- list(list(1, 2), list(3, 4))\n",
    "x3 <- list(1, list(2, list(3)))\n",
    "```\n",
    "\n",
    "I’ll draw them as follows:"
   ]
  },
  {
   "cell_type": "markdown",
   "metadata": {
    "hidden": true
   },
   "source": [
    "<img src='pics/lists-structure.png' alt='Drawing' style='width:325pt'/>"
   ]
  },
  {
   "cell_type": "markdown",
   "metadata": {
    "hidden": true
   },
   "source": [
    "There are three principles:\n",
    "\n",
    "1.  Lists have rounded corners. Atomic vectors have square corners.\n",
    "\n",
    "\n",
    "2.  Children are drawn inside their parent, and have a slightly darker\n",
    "    background to make it easier to see the hierarchy.\n",
    "\n",
    "\n",
    "3.  The orientation of the children (i.e. rows or columns) isn’t important,\n",
    "    so I’ll pick a row or column orientation to either save space or illustrate\n",
    "    an important property in the example."
   ]
  },
  {
   "cell_type": "markdown",
   "metadata": {
    "heading_collapsed": true,
    "hidden": true
   },
   "source": [
    "### Subsetting"
   ]
  },
  {
   "cell_type": "markdown",
   "metadata": {
    "hidden": true
   },
   "source": [
    "There are three ways to subset a list, which I’ll illustrate with a list named `a`:\n",
    "\n",
    "```R\n",
    "\n",
    "```"
   ]
  },
  {
   "cell_type": "code",
   "execution_count": 45,
   "metadata": {
    "ExecuteTime": {
     "end_time": "2020-02-20T21:46:03.435248Z",
     "start_time": "2020-02-20T21:46:03.381Z"
    },
    "hidden": true
   },
   "outputs": [
    {
     "data": {
      "text/html": [
       "<dl>\n",
       "\t<dt>$a</dt>\n",
       "\t\t<dd><style>\n",
       ".list-inline {list-style: none; margin:0; padding: 0}\n",
       ".list-inline>li {display: inline-block}\n",
       ".list-inline>li:not(:last-child)::after {content: \"\\00b7\"; padding: 0 .5ex}\n",
       "</style>\n",
       "<ol class=list-inline><li>1</li><li>2</li><li>3</li></ol>\n",
       "</dd>\n",
       "\t<dt>$b</dt>\n",
       "\t\t<dd>'a string'</dd>\n",
       "\t<dt>$c</dt>\n",
       "\t\t<dd>3.14159265358979</dd>\n",
       "\t<dt>$d</dt>\n",
       "\t\t<dd><ol>\n",
       "\t<li>-1</li>\n",
       "\t<li>-5</li>\n",
       "</ol>\n",
       "</dd>\n",
       "</dl>\n"
      ],
      "text/latex": [
       "\\begin{description}\n",
       "\\item[\\$a] \\begin{enumerate*}\n",
       "\\item 1\n",
       "\\item 2\n",
       "\\item 3\n",
       "\\end{enumerate*}\n",
       "\n",
       "\\item[\\$b] 'a string'\n",
       "\\item[\\$c] 3.14159265358979\n",
       "\\item[\\$d] \\begin{enumerate}\n",
       "\\item -1\n",
       "\\item -5\n",
       "\\end{enumerate}\n",
       "\n",
       "\\end{description}\n"
      ],
      "text/markdown": [
       "$a\n",
       ":   1. 1\n",
       "2. 2\n",
       "3. 3\n",
       "\n",
       "\n",
       "\n",
       "$b\n",
       ":   'a string'\n",
       "$c\n",
       ":   3.14159265358979\n",
       "$d\n",
       ":   1. -1\n",
       "2. -5\n",
       "\n",
       "\n",
       "\n",
       "\n",
       "\n"
      ],
      "text/plain": [
       "$a\n",
       "[1] 1 2 3\n",
       "\n",
       "$b\n",
       "[1] \"a string\"\n",
       "\n",
       "$c\n",
       "[1] 3.141593\n",
       "\n",
       "$d\n",
       "$d[[1]]\n",
       "[1] -1\n",
       "\n",
       "$d[[2]]\n",
       "[1] -5\n",
       "\n"
      ]
     },
     "metadata": {},
     "output_type": "display_data"
    }
   ],
   "source": [
    "a <- list(a = 1:3, b = \"a string\", c = pi, d = list(-1, -5))\n",
    "\n",
    "a"
   ]
  },
  {
   "cell_type": "markdown",
   "metadata": {
    "hidden": true
   },
   "source": [
    "* `[` extracts a sub-list. The result will always be a list.\n",
    "\n",
    "    ```R\n",
    "\n",
    "    ```"
   ]
  },
  {
   "cell_type": "code",
   "execution_count": 67,
   "metadata": {
    "ExecuteTime": {
     "end_time": "2020-02-20T21:53:49.778470Z",
     "start_time": "2020-02-20T21:53:49.717Z"
    },
    "hidden": true
   },
   "outputs": [
    {
     "name": "stdout",
     "output_type": "stream",
     "text": [
      "List of 2\n",
      " $ a: int [1:3] 1 2 3\n",
      " $ b: chr \"a string\"\n",
      "\n",
      "List of 1\n",
      " $ d:List of 2\n",
      "  ..$ : num -1\n",
      "  ..$ : num -5\n"
     ]
    }
   ],
   "source": [
    "str(a[1:2])\n",
    "#> List of 2\n",
    "#>  $ a: int [1:3] 1 2 3\n",
    "#>  $ b: chr \"a string\"\n",
    "\n",
    "cat('\\n')\n",
    "\n",
    "str(a[4])\n",
    "#> List of 1\n",
    "#>  $ d:List of 2\n",
    "#>   ..$ : num -1\n",
    "#>   ..$ : num -5"
   ]
  },
  {
   "cell_type": "markdown",
   "metadata": {
    "hidden": true
   },
   "source": [
    "Like with vectors, you can subset with a logical, integer, or character vector.\n",
    "\n",
    "* `[[` extracts a single component from a list. It removes a level of\n",
    "    hierarchy from the list.\n",
    "\n",
    "    ```R\n",
    "\n",
    "    ```"
   ]
  },
  {
   "cell_type": "code",
   "execution_count": 62,
   "metadata": {
    "ExecuteTime": {
     "end_time": "2020-02-20T21:53:10.898666Z",
     "start_time": "2020-02-20T21:53:10.842Z"
    },
    "hidden": true
   },
   "outputs": [
    {
     "name": "stdout",
     "output_type": "stream",
     "text": [
      " int [1:3] 1 2 3\n",
      "List of 2\n",
      " $ : num -1\n",
      " $ : num -5\n"
     ]
    }
   ],
   "source": [
    "str(a[[1]])\n",
    "#>  int [1:3] 1 2 3\n",
    "\n",
    "str(a[[4]])\n",
    "#> List of 2\n",
    "#>  $ : num -1\n",
    "#>  $ : num -5"
   ]
  },
  {
   "cell_type": "markdown",
   "metadata": {
    "hidden": true
   },
   "source": [
    "* `$` is a shorthand for extracting named elements of a list. It works\n",
    "    similarly to `[[` except that you don’t need to use quotes.\n",
    "\n",
    "    ```R\n",
    "\n",
    "    ```"
   ]
  },
  {
   "cell_type": "code",
   "execution_count": 69,
   "metadata": {
    "ExecuteTime": {
     "end_time": "2020-02-20T21:54:41.555960Z",
     "start_time": "2020-02-20T21:54:41.500Z"
    },
    "hidden": true
   },
   "outputs": [
    {
     "data": {
      "text/html": [
       "<style>\n",
       ".list-inline {list-style: none; margin:0; padding: 0}\n",
       ".list-inline>li {display: inline-block}\n",
       ".list-inline>li:not(:last-child)::after {content: \"\\00b7\"; padding: 0 .5ex}\n",
       "</style>\n",
       "<ol class=list-inline><li>1</li><li>2</li><li>3</li></ol>\n"
      ],
      "text/latex": [
       "\\begin{enumerate*}\n",
       "\\item 1\n",
       "\\item 2\n",
       "\\item 3\n",
       "\\end{enumerate*}\n"
      ],
      "text/markdown": [
       "1. 1\n",
       "2. 2\n",
       "3. 3\n",
       "\n",
       "\n"
      ],
      "text/plain": [
       "[1] 1 2 3"
      ]
     },
     "metadata": {},
     "output_type": "display_data"
    },
    {
     "data": {
      "text/html": [
       "<style>\n",
       ".list-inline {list-style: none; margin:0; padding: 0}\n",
       ".list-inline>li {display: inline-block}\n",
       ".list-inline>li:not(:last-child)::after {content: \"\\00b7\"; padding: 0 .5ex}\n",
       "</style>\n",
       "<ol class=list-inline><li>1</li><li>2</li><li>3</li></ol>\n"
      ],
      "text/latex": [
       "\\begin{enumerate*}\n",
       "\\item 1\n",
       "\\item 2\n",
       "\\item 3\n",
       "\\end{enumerate*}\n"
      ],
      "text/markdown": [
       "1. 1\n",
       "2. 2\n",
       "3. 3\n",
       "\n",
       "\n"
      ],
      "text/plain": [
       "[1] 1 2 3"
      ]
     },
     "metadata": {},
     "output_type": "display_data"
    }
   ],
   "source": [
    "a$a\n",
    "#> [1] 1 2 3\n",
    "\n",
    "a[[\"a\"]]\n",
    "#> [1] 1 2 3"
   ]
  },
  {
   "cell_type": "markdown",
   "metadata": {
    "hidden": true
   },
   "source": [
    "The distinction between `[` and `[[` is really important for lists, because `[[` drills down into the list while `[` returns a new, smaller list. Compare the code and output above with the visual representation in Figure [20.2](https://r4ds.had.co.nz/vectors.html#fig:lists-subsetting)."
   ]
  },
  {
   "cell_type": "markdown",
   "metadata": {
    "hidden": true
   },
   "source": [
    "<img src='pics/lists-subsetting.png' alt='Drawing' style='width:325pt'/>"
   ]
  },
  {
   "cell_type": "markdown",
   "metadata": {
    "heading_collapsed": true,
    "hidden": true
   },
   "source": [
    "### Exercise"
   ]
  },
  {
   "cell_type": "markdown",
   "metadata": {
    "heading_collapsed": true,
    "hidden": true
   },
   "source": [
    "##### Exercise 20.5.1[__](https://jrnold.github.io/r4ds-exercise-solutions/vectors.html#exercise-20.5.1)"
   ]
  },
  {
   "cell_type": "markdown",
   "metadata": {
    "hidden": true
   },
   "source": [
    "Draw the following lists as nested sets:\n",
    "\n",
    "1.  `list(a, b, list(c, d), list(e, f))`\n",
    "2.  `list(list(list(list(list(list(a))))))`\n",
    "\n",
    "There are a variety of ways to draw these graphs.\n",
    "The original diagrams in _R for Data Science_ were produced with [Graffle](https://www.omnigroup.com/omnigraffle).\n",
    "You could also use various diagramming, drawing, or presentation software, including Adobe Illustrator, Inkscape, PowerPoint, Keynote, and Google Slides.\n",
    "\n",
    "For these examples, I generated these diagrams programmatically using the\n",
    "[DiagrammeR](http://rich-iannone.github.io/DiagrammeR/graphviz_and_mermaid.html) R package to render [Graphviz](https://www.graphviz.org/) diagrams.\n",
    "\n",
    "1.  The nested set diagram for\n",
    "`list(a, b, list(c, d), list(e, f))`\n",
    "is:[<sup>7</sup>](https://jrnold.github.io/r4ds-exercise-solutions/vectors.html#fn7)\n",
    "\n",
    "2.  The nested set diagram for\n",
    "`list(list(list(list(list(list(a))))))`\n",
    "is:\n",
    "\n",
    "<!--?xml version=\"1.0\" encoding=\"UTF-8\" standalone=\"no\"?-->\n",
    "\n",
    "<!-- Generated by graphviz version 2.40.1 (20161225.0304)\n",
    " -->\n",
    "\n",
    "<!-- Title: nested_set_2 Pages: 1 -->\n",
    "\n",
    "<svg viewBox=\"0.00 0.00 174.00 156.00\" xmlns=\"http://www.w3.org/2000/svg\" xmlns:xlink=\"http://www.w3.org/1999/xlink\" style=\"width: 100%; height: 100%;\">\n",
    "<g id=\"graph0\" class=\"graph\" transform=\"scale(1 1) rotate(0) translate(4 152)\">\n",
    "<title>nested_set_2</title>\n",
    "<polygon fill=\"#ffffff\" stroke=\"transparent\" points=\"-4,4 -4,-152 170,-152 170,4 -4,4\"></polygon>\n",
    "<g id=\"clust1\" class=\"cluster\">\n",
    "<title>cluster_1</title>\n",
    "<path fill=\"none\" stroke=\"#000000\" d=\"M20,-8C20,-8 146,-8 146,-8 152,-8 158,-14 158,-20 158,-20 158,-128 158,-128 158,-134 152,-140 146,-140 146,-140 20,-140 20,-140 14,-140 8,-134 8,-128 8,-128 8,-20 8,-20 8,-14 14,-8 20,-8\"></path>\n",
    "</g>\n",
    "<g id=\"clust2\" class=\"cluster\">\n",
    "<title>cluster_2</title>\n",
    "<path fill=\"#e5e5e5\" stroke=\"#000000\" d=\"M28,-16C28,-16 138,-16 138,-16 144,-16 150,-22 150,-28 150,-28 150,-120 150,-120 150,-126 144,-132 138,-132 138,-132 28,-132 28,-132 22,-132 16,-126 16,-120 16,-120 16,-28 16,-28 16,-22 22,-16 28,-16\"></path>\n",
    "</g>\n",
    "<g id=\"clust3\" class=\"cluster\">\n",
    "<title>cluster_3</title>\n",
    "<path fill=\"#cccccc\" stroke=\"#000000\" d=\"M36,-24C36,-24 130,-24 130,-24 136,-24 142,-30 142,-36 142,-36 142,-112 142,-112 142,-118 136,-124 130,-124 130,-124 36,-124 36,-124 30,-124 24,-118 24,-112 24,-112 24,-36 24,-36 24,-30 30,-24 36,-24\"></path>\n",
    "</g>\n",
    "<g id=\"clust4\" class=\"cluster\">\n",
    "<title>cluster_4</title>\n",
    "<path fill=\"#b3b3b3\" stroke=\"#000000\" d=\"M44,-32C44,-32 122,-32 122,-32 128,-32 134,-38 134,-44 134,-44 134,-104 134,-104 134,-110 128,-116 122,-116 122,-116 44,-116 44,-116 38,-116 32,-110 32,-104 32,-104 32,-44 32,-44 32,-38 38,-32 44,-32\"></path>\n",
    "</g>\n",
    "<g id=\"clust5\" class=\"cluster\">\n",
    "<title>cluster_5</title>\n",
    "<path fill=\"#999999\" stroke=\"#000000\" d=\"M52,-40C52,-40 114,-40 114,-40 120,-40 126,-46 126,-52 126,-52 126,-96 126,-96 126,-102 120,-108 114,-108 114,-108 52,-108 52,-108 46,-108 40,-102 40,-96 40,-96 40,-52 40,-52 40,-46 46,-40 52,-40\"></path>\n",
    "</g>\n",
    "<g id=\"clust6\" class=\"cluster\">\n",
    "<title>cluster_6</title>\n",
    "<path fill=\"#7f7f7f\" stroke=\"#000000\" d=\"M60,-48C60,-48 106,-48 106,-48 112,-48 118,-54 118,-60 118,-60 118,-88 118,-88 118,-94 112,-100 106,-100 106,-100 60,-100 60,-100 54,-100 48,-94 48,-88 48,-88 48,-60 48,-60 48,-54 54,-48 60,-48\"></path>\n",
    "</g>\n",
    "<!-- a -->\n",
    "<g id=\"node1\" class=\"node\">\n",
    "<title>a</title>\n",
    "<polygon fill=\"#666666\" stroke=\"#000000\" points=\"110,-92 56,-92 56,-56 110,-56 110,-92\"></polygon>\n",
    "<text text-anchor=\"middle\" x=\"83\" y=\"-69.8\" font-family=\"Times,serif\" font-size=\"14.00\" fill=\"#000000\">a</text>\n",
    "</g>\n",
    "</g>\n",
    "</svg>"
   ]
  },
  {
   "cell_type": "markdown",
   "metadata": {
    "hidden": true
   },
   "source": [
    "##### Exercise 20.5.2[__](https://jrnold.github.io/r4ds-exercise-solutions/vectors.html#exercise-20.5.2)"
   ]
  },
  {
   "cell_type": "markdown",
   "metadata": {
    "cell_style": "center",
    "hidden": true
   },
   "source": [
    "What happens if you subset a `tibble` as if you’re subsetting a list? What are the key differences between a list and a `tibble`?\n",
    "\n",
    "<font color = 'blue'>Subsetting a `tibble` works the same way as a list; a data frame can be thought of as a list of columns.</font>\n",
    "\n",
    "<font color = 'red'>The key difference between a list and a `tibble` is that all the elements (columns) of a tibble must have the same length (number of rows).</font>\n",
    "Lists can have vectors with different lengths as elements.\n",
    "\n",
    "\n",
    "\n",
    "```R\n",
    "x <- tibble(a = 1:2, b = 3:4)\n",
    "\n",
    "x[[\"a\"]]\n",
    "#> [1] 1 2\n",
    "\n",
    "x[\"a\"]\n",
    "#> # A tibble: 2 x 1\n",
    "#>       a\n",
    "#>   <int>\n",
    "#> 1     1\n",
    "#> 2     2\n",
    "\n",
    "x[1]\n",
    "#> # A tibble: 2 x 1\n",
    "#>       a\n",
    "#>   <int>\n",
    "#> 1     1\n",
    "#> 2     2\n",
    "\n",
    "x[1, ]\n",
    "#> # A tibble: 1 x 2\n",
    "#>       a     b\n",
    "#>   <int> <int>\n",
    "#> 1     1     3\n",
    "```"
   ]
  },
  {
   "cell_type": "code",
   "execution_count": 70,
   "metadata": {
    "ExecuteTime": {
     "end_time": "2020-02-20T22:19:44.402450Z",
     "start_time": "2020-02-20T22:19:44.330Z"
    },
    "cell_style": "center",
    "code_folding": [
     0
    ],
    "hidden": true
   },
   "outputs": [
    {
     "data": {
      "text/html": [
       "<table>\n",
       "<caption>A tibble: 2 × 2</caption>\n",
       "<thead>\n",
       "\t<tr><th scope=col>a</th><th scope=col>b</th></tr>\n",
       "\t<tr><th scope=col>&lt;int&gt;</th><th scope=col>&lt;int&gt;</th></tr>\n",
       "</thead>\n",
       "<tbody>\n",
       "\t<tr><td>1</td><td>3</td></tr>\n",
       "\t<tr><td>2</td><td>4</td></tr>\n",
       "</tbody>\n",
       "</table>\n"
      ],
      "text/latex": [
       "A tibble: 2 × 2\n",
       "\\begin{tabular}{ll}\n",
       " a & b\\\\\n",
       " <int> & <int>\\\\\n",
       "\\hline\n",
       "\t 1 & 3\\\\\n",
       "\t 2 & 4\\\\\n",
       "\\end{tabular}\n"
      ],
      "text/markdown": [
       "\n",
       "A tibble: 2 × 2\n",
       "\n",
       "| a &lt;int&gt; | b &lt;int&gt; |\n",
       "|---|---|\n",
       "| 1 | 3 |\n",
       "| 2 | 4 |\n",
       "\n"
      ],
      "text/plain": [
       "  a b\n",
       "1 1 3\n",
       "2 2 4"
      ]
     },
     "metadata": {},
     "output_type": "display_data"
    }
   ],
   "source": [
    "# x\n",
    "x <- tibble(a = 1:2, b = 3:4)\n",
    "x"
   ]
  },
  {
   "cell_type": "markdown",
   "metadata": {},
   "source": [
    "## Attributes"
   ]
  },
  {
   "cell_type": "markdown",
   "metadata": {},
   "source": [
    "<font color = 'blue'>Any vector can contain arbitrary additional metadata through its **attributes**. \n",
    "    \n",
    "* You can think of attributes as named list of vectors that can be attached to any object.  \n",
    "* You can get and set individual attribute values with `attr()` or see them all at once with `attributes()`.</font> \n",
    "\n",
    "\n",
    "\n",
    "```R\n",
    "x <- 1:10\n",
    "attr(x, \"greeting\")\n",
    "#> NULL\n",
    "\n",
    "attr(x, \"greeting\") <- \"Hi!\"\n",
    "attr(x, \"farewell\") <- \"Bye!\"\n",
    "\n",
    "attributes(x)\n",
    "#> $greeting\n",
    "#> [1] \"Hi!\"\n",
    "#> \n",
    "#> $farewell\n",
    "#> [1] \"Bye!\"\n",
    "```"
   ]
  },
  {
   "cell_type": "code",
   "execution_count": 71,
   "metadata": {
    "ExecuteTime": {
     "end_time": "2020-02-20T22:32:56.970472Z",
     "start_time": "2020-02-20T22:32:56.898Z"
    },
    "code_folding": [
     0
    ]
   },
   "outputs": [
    {
     "data": {
      "text/plain": [
       "NULL"
      ]
     },
     "metadata": {},
     "output_type": "display_data"
    },
    {
     "data": {
      "text/html": [
       "<dl>\n",
       "\t<dt>$greeting</dt>\n",
       "\t\t<dd>'Hi!'</dd>\n",
       "\t<dt>$farewell</dt>\n",
       "\t\t<dd>'Bye!'</dd>\n",
       "</dl>\n"
      ],
      "text/latex": [
       "\\begin{description}\n",
       "\\item[\\$greeting] 'Hi!'\n",
       "\\item[\\$farewell] 'Bye!'\n",
       "\\end{description}\n"
      ],
      "text/markdown": [
       "$greeting\n",
       ":   'Hi!'\n",
       "$farewell\n",
       ":   'Bye!'\n",
       "\n",
       "\n"
      ],
      "text/plain": [
       "$greeting\n",
       "[1] \"Hi!\"\n",
       "\n",
       "$farewell\n",
       "[1] \"Bye!\"\n"
      ]
     },
     "metadata": {},
     "output_type": "display_data"
    }
   ],
   "source": [
    "# code\n",
    "\n",
    "x <- 1:10\n",
    "attr(x, \"greeting\")\n",
    "#> NULL\n",
    "\n",
    "attr(x, \"greeting\") <- \"Hi!\"\n",
    "attr(x, \"farewell\") <- \"Bye!\"\n",
    "\n",
    "attributes(x)\n",
    "#> $greeting\n",
    "#> [1] \"Hi!\"\n",
    "#> \n",
    "#> $farewell\n",
    "#> [1] \"Bye!\""
   ]
  },
  {
   "cell_type": "code",
   "execution_count": 74,
   "metadata": {
    "ExecuteTime": {
     "end_time": "2020-02-20T22:36:17.756315Z",
     "start_time": "2020-02-20T22:36:17.695Z"
    }
   },
   "outputs": [
    {
     "data": {
      "text/html": [
       "<style>\n",
       ".list-inline {list-style: none; margin:0; padding: 0}\n",
       ".list-inline>li {display: inline-block}\n",
       ".list-inline>li:not(:last-child)::after {content: \"\\00b7\"; padding: 0 .5ex}\n",
       "</style>\n",
       "<ol class=list-inline><li>1</li><li>2</li><li>3</li><li>4</li><li>5</li><li>6</li><li>7</li><li>8</li><li>9</li><li>10</li></ol>\n"
      ],
      "text/latex": [
       "\\begin{enumerate*}\n",
       "\\item 1\n",
       "\\item 2\n",
       "\\item 3\n",
       "\\item 4\n",
       "\\item 5\n",
       "\\item 6\n",
       "\\item 7\n",
       "\\item 8\n",
       "\\item 9\n",
       "\\item 10\n",
       "\\end{enumerate*}\n"
      ],
      "text/markdown": [
       "1. 1\n",
       "2. 2\n",
       "3. 3\n",
       "4. 4\n",
       "5. 5\n",
       "6. 6\n",
       "7. 7\n",
       "8. 8\n",
       "9. 9\n",
       "10. 10\n",
       "\n",
       "\n"
      ],
      "text/plain": [
       " [1]  1  2  3  4  5  6  7  8  9 10\n",
       "attr(,\"greeting\")\n",
       "[1] \"Hi!\"\n",
       "attr(,\"farewell\")\n",
       "[1] \"Bye!\""
      ]
     },
     "metadata": {},
     "output_type": "display_data"
    },
    {
     "name": "stdout",
     "output_type": "stream",
     "text": [
      " int [1:10] 1 2 3 4 5 6 7 8 9 10\n",
      " - attr(*, \"greeting\")= chr \"Hi!\"\n",
      " - attr(*, \"farewell\")= chr \"Bye!\"\n"
     ]
    }
   ],
   "source": [
    "x\n",
    "x %>% str"
   ]
  },
  {
   "cell_type": "markdown",
   "metadata": {},
   "source": [
    "There are three very important attributes that are used to implement fundamental parts of R:\n",
    "\n",
    "1.  **Names** are used to name the elements of a vector.\n",
    "2.  **Dimensions** (dims, for short) make a vector behave like a matrix or array.\n",
    "3.  **Class** is used to implement the S3 object oriented system.\n",
    "\n",
    "You’ve seen names above, and we won’t cover dimensions because we don’t use matrices in this book. \n",
    "\n",
    "<b><font color = 'purple'>It remains to describe the class, which controls how **generic functions** work</font></b>. <font color = 'blue'>Generic functions are key to object oriented programming in R, because they make functions behave differently for different classes of input</font>. <font color = 'lightgrey'>A detailed discussion of object oriented programming is beyond the scope of this book, but you can read more about it in _Advanced R_ at http://adv-r.had.co.nz/OO-essentials.html#s3.</font>"
   ]
  },
  {
   "cell_type": "markdown",
   "metadata": {},
   "source": [
    "<b><font color = 'purple'>Here’s what a typical generic function looks like: </font></b>\n",
    "\n",
    "\n",
    "```R\n",
    "as.Date\n",
    "#> function (x, ...) \n",
    "#> UseMethod(\"as.Date\")\n",
    "#> <bytecode: 0x42f6968>\n",
    "#> <environment: namespace:base>\n",
    "```"
   ]
  },
  {
   "cell_type": "markdown",
   "metadata": {},
   "source": [
    "The call to “UseMethod” means that this is a generic function, and it will call a specific **method**, a function, based on the class of the first argument. (All methods are functions; not all functions are methods). You can list all the methods for a generic with `methods()`:\n",
    "\n",
    "\n",
    "\n",
    "\n",
    "\n",
    "```R\n",
    "methods(\"as.Date\")\n",
    "#> [1] as.Date.character   as.Date.default     as.Date.factor     \n",
    "#> [4] as.Date.numeric     as.Date.POSIXct     as.Date.POSIXlt    \n",
    "#> [7] as.Date.vctrs_sclr* as.Date.vctrs_vctr*\n",
    "#> see '?methods' for accessing help and source code\n",
    "```"
   ]
  },
  {
   "cell_type": "markdown",
   "metadata": {},
   "source": [
    "For example, if `x` is a character vector, `as.Date()` will call `as.Date.character()`; if it’s a factor, it’ll call `as.Date.factor()`.\n",
    "\n",
    "You can see the specific implementation of a method with `getS3method()`:\n",
    "\n",
    "\n",
    "\n",
    "\n",
    "\n",
    "```R\n",
    "getS3method(\"as.Date\", \"default\")\n",
    "#> function (x, ...) \n",
    "#> {\n",
    "#>     if (inherits(x, \"Date\")) \n",
    "#>         x\n",
    "#>     else if (is.logical(x) && all(is.na(x))) \n",
    "#>         .Date(as.numeric(x))\n",
    "#>     else stop(gettextf(\"do not know how to convert '%s' to class %s\", \n",
    "#>         deparse(substitute(x)), dQuote(\"Date\")), domain = NA)\n",
    "#> }\n",
    "#> <bytecode: 0x4f30d48>\n",
    "#> <environment: namespace:base>\n",
    "\n",
    "getS3method(\"as.Date\", \"numeric\")\n",
    "#> function (x, origin, ...) \n",
    "#> {\n",
    "#>     if (missing(origin)) \n",
    "#>         stop(\"'origin' must be supplied\")\n",
    "#>     as.Date(origin, ...) + x\n",
    "#> }\n",
    "#> <bytecode: 0x84fa058>\n",
    "#> <environment: namespace:base>\n",
    "```"
   ]
  },
  {
   "cell_type": "markdown",
   "metadata": {},
   "source": [
    "The most important S3 generic is `print()`: it controls how the object is printed when you type its name at the console. Other important generics are the subsetting functions `[`, `[[`, and `$`."
   ]
  },
  {
   "cell_type": "markdown",
   "metadata": {},
   "source": [
    "## 20.7 Augmented vectors"
   ]
  },
  {
   "cell_type": "markdown",
   "metadata": {},
   "source": [
    "Atomic vectors and lists are the building blocks for other important vector types like factors and dates. I call these **augmented vectors**, because they are vectors with additional **attributes**, including class. Because augmented vectors have a class, they behave differently to the atomic vector on which they are built. In this book, we make use of four important augmented vectors:\n",
    "\n",
    "* Factors\n",
    "* Dates\n",
    "* Date-times\n",
    "* Tibbles\n",
    "\n",
    "These are described below."
   ]
  },
  {
   "cell_type": "markdown",
   "metadata": {},
   "source": [
    "### 20.7.1 Factors"
   ]
  },
  {
   "cell_type": "markdown",
   "metadata": {},
   "source": [
    "Factors are designed to represent categorical data that can take a fixed set of possible values. Factors are built on top of integers, and have a levels attribute:\n",
    "\n",
    "\n",
    "\n",
    "\n",
    "\n",
    "```R\n",
    "x <- factor(c(\"ab\", \"cd\", \"ab\"), levels = c(\"ab\", \"cd\", \"ef\"))\n",
    "\n",
    "typeof(x)\n",
    "#> [1] \"integer\"\n",
    "\n",
    "attributes(x)\n",
    "#> $levels\n",
    "#> [1] \"ab\" \"cd\" \"ef\"\n",
    "#> \n",
    "#> $class\n",
    "#> [1] \"factor\"\n",
    "```"
   ]
  },
  {
   "cell_type": "markdown",
   "metadata": {},
   "source": [
    "### 20.7.2 Dates and date-times"
   ]
  },
  {
   "cell_type": "markdown",
   "metadata": {},
   "source": [
    "Dates in R are numeric vectors that represent the number of days since 1 January 1970.\n",
    "\n",
    "\n",
    "\n",
    "\n",
    "\n",
    "```R\n",
    "x <- as.Date(\"1971-01-01\")\n",
    "unclass(x)\n",
    "#> [1] 365\n",
    "\n",
    "typeof(x)\n",
    "#> [1] \"double\"\n",
    "\n",
    "attributes(x)\n",
    "#> $class\n",
    "#> [1] \"Date\"\n",
    "```"
   ]
  },
  {
   "cell_type": "markdown",
   "metadata": {},
   "source": [
    "<font color = 'blue'>Date-times are numeric vectors with class `POSIXct` that represent the number of seconds since 1 January 1970.</font> (In case you were wondering, “POSIXct” stands for “Portable Operating System Interface”, calendar time.)\n",
    "\n",
    "\n",
    "\n",
    "\n",
    "\n",
    "```R\n",
    "x <- lubridate::ymd_hm(\"1970-01-01 01:00\")\n",
    "\n",
    "unclass(x)\n",
    "#> [1] 3600\n",
    "#> attr(,\"tzone\")\n",
    "#> [1] \"UTC\"\n",
    "\n",
    "typeof(x)\n",
    "#> [1] \"double\"\n",
    "\n",
    "attributes(x)\n",
    "#> $class\n",
    "#> [1] \"POSIXct\" \"POSIXt\" \n",
    "#> \n",
    "#> $tzone\n",
    "#> [1] \"UTC\"\n",
    "\n",
    "```"
   ]
  },
  {
   "cell_type": "code",
   "execution_count": 77,
   "metadata": {
    "ExecuteTime": {
     "end_time": "2020-02-21T02:42:17.965612Z",
     "start_time": "2020-02-21T02:42:17.877Z"
    }
   },
   "outputs": [
    {
     "data": {
      "text/html": [
       "<dl>\n",
       "\t<dt>$class</dt>\n",
       "\t\t<dd><style>\n",
       ".list-inline {list-style: none; margin:0; padding: 0}\n",
       ".list-inline>li {display: inline-block}\n",
       ".list-inline>li:not(:last-child)::after {content: \"\\00b7\"; padding: 0 .5ex}\n",
       "</style>\n",
       "<ol class=list-inline><li>'POSIXct'</li><li>'POSIXt'</li></ol>\n",
       "</dd>\n",
       "\t<dt>$tzone</dt>\n",
       "\t\t<dd>'UTC'</dd>\n",
       "</dl>\n"
      ],
      "text/latex": [
       "\\begin{description}\n",
       "\\item[\\$class] \\begin{enumerate*}\n",
       "\\item 'POSIXct'\n",
       "\\item 'POSIXt'\n",
       "\\end{enumerate*}\n",
       "\n",
       "\\item[\\$tzone] 'UTC'\n",
       "\\end{description}\n"
      ],
      "text/markdown": [
       "$class\n",
       ":   1. 'POSIXct'\n",
       "2. 'POSIXt'\n",
       "\n",
       "\n",
       "\n",
       "$tzone\n",
       ":   'UTC'\n",
       "\n",
       "\n"
      ],
      "text/plain": [
       "$class\n",
       "[1] \"POSIXct\" \"POSIXt\" \n",
       "\n",
       "$tzone\n",
       "[1] \"UTC\"\n"
      ]
     },
     "metadata": {},
     "output_type": "display_data"
    }
   ],
   "source": [
    "x <- lubridate::ymd_hm(\"1970-01-01 01:00\")\n",
    "x %>% attributes()"
   ]
  },
  {
   "cell_type": "markdown",
   "metadata": {},
   "source": [
    "The `tzone` attribute is optional. It controls how the time is printed, not what absolute time it refers to.\n",
    "\n",
    "\n",
    "\n",
    "\n",
    "\n",
    "```R\n",
    "attr(x, \"tzone\") <- \"US/Pacific\"\n",
    "x\n",
    "#> [1] \"1969-12-31 17:00:00 PST\"\n",
    "\n",
    "attr(x, \"tzone\") <- \"US/Eastern\"\n",
    "x\n",
    "#> [1] \"1969-12-31 20:00:00 EST\"\n",
    "```"
   ]
  },
  {
   "cell_type": "markdown",
   "metadata": {},
   "source": [
    "There is another type of date-times called POSIXlt. These are built on top of named lists:\n",
    "\n",
    "\n",
    "\n",
    "\n",
    "\n",
    "```R\n",
    "y <- as.POSIXlt(x)\n",
    "typeof(y)\n",
    "#> [1] \"list\"\n",
    "\n",
    "attributes(y)\n",
    "#> $names\n",
    "#>  [1] \"sec\"    \"min\"    \"hour\"   \"mday\"   \"mon\"    \"year\"   \"wday\"   \"yday\"  \n",
    "#>  [9] \"isdst\"  \"zone\"   \"gmtoff\"\n",
    "#> \n",
    "#> $class\n",
    "#> [1] \"POSIXlt\" \"POSIXt\" \n",
    "#> \n",
    "#> $tzone\n",
    "#> [1] \"US/Eastern\" \"EST\"        \"EDT\"\n",
    "```"
   ]
  },
  {
   "cell_type": "markdown",
   "metadata": {},
   "source": [
    "<font color = 'blue'>POSIXlts are rare inside the tidyverse</font>. They do crop up in base R, because they are needed to extract specific components of a date, like the year or month. <font color = 'blue'>Since lubridate provides helpers for you to do this instead, you don’t need them</font>. <b>POSIXct’s are always easier to work with</b>, so if you find you have a POSIXlt, you should always convert it to a regular data time `lubridate::as_date_time()`."
   ]
  },
  {
   "cell_type": "markdown",
   "metadata": {},
   "source": [
    "### 20.7.3 Tibbles"
   ]
  },
  {
   "cell_type": "markdown",
   "metadata": {},
   "source": [
    "Tibbles are augmented lists: they have class “tbl_df” + “tbl” + “data.frame”, and `names` (column) and `row.names` attributes:\n",
    "\n",
    "\n",
    "\n",
    "\n",
    "\n",
    "```R\n",
    "tb <- tibble::tibble(x = 1:5, y = 5:1)\n",
    "\n",
    "typeof(tb)\n",
    "#> [1] \"list\"\n",
    "\n",
    "attributes(tb)\n",
    "#> $names\n",
    "#> [1] \"x\" \"y\"\n",
    "#> \n",
    "#> $row.names\n",
    "#> [1] 1 2 3 4 5\n",
    "#> \n",
    "#> $class\n",
    "#> [1] \"tbl_df\"     \"tbl\"        \"data.frame\"\n",
    "```"
   ]
  },
  {
   "cell_type": "markdown",
   "metadata": {},
   "source": [
    "<font color = 'blue'><b><font color = 'purple'>The difference between a tibble and a list </font></b> is that all the elements of a data frame must be vectors with the same length.</font> All functions that work with tibbles enforce this constraint.\n",
    "\n",
    "Traditional data.frames have a very similar structure:"
   ]
  },
  {
   "cell_type": "markdown",
   "metadata": {},
   "source": [
    "```R\n",
    "df <- data.frame(x = 1:5, y = 5:1)\n",
    "\n",
    "typeof(df)\n",
    "#> [1] \"list\"\n",
    "\n",
    "attributes(df)\n",
    "#> $names\n",
    "#> [1] \"x\" \"y\"\n",
    "#> \n",
    "#> $class\n",
    "#> [1] \"data.frame\"\n",
    "#> \n",
    "#> $row.names\n",
    "#> [1] 1 2 3 4 5\n",
    "```"
   ]
  },
  {
   "cell_type": "markdown",
   "metadata": {},
   "source": [
    "The main difference is the class. The class of tibble includes “data.frame” which means tibbles inherit the regular data frame behaviour by default."
   ]
  },
  {
   "cell_type": "markdown",
   "metadata": {},
   "source": [
    "### 20.7.4 Exercises"
   ]
  },
  {
   "cell_type": "markdown",
   "metadata": {},
   "source": [
    "<div class=\"alert alert-block alert-warning\">\n",
    "    \n",
    "1.  What does `hms::hms(3600)` return? How does it print? What primitive\n",
    "    type is the augmented vector built on top of? What attributes does it\n",
    "    use?\n",
    "\n",
    "\n",
    "2.  Try and make a tibble that has columns with different lengths. What\n",
    "    happens?\n",
    "\n",
    "\n",
    "3.  Based on the definition above, is it ok to have a list as a\n",
    "    column of a tibble?"
   ]
  },
  {
   "cell_type": "markdown",
   "metadata": {},
   "source": [
    "##### Exercise 20.7.1[__](https://jrnold.github.io/r4ds-exercise-solutions/vectors.html#exercise-20.7.1)"
   ]
  },
  {
   "cell_type": "markdown",
   "metadata": {},
   "source": [
    "What does `hms::hms(3600)` return? How does it print? What primitive type is the augmented vector built on top of? What attributes does it use?\n",
    "\n",
    "\n",
    "\n",
    "\n",
    "\n",
    "```R\n",
    "x <- hms::hms(3600)\n",
    "class(x)\n",
    "#> [1] \"hms\"      \"difftime\"\n",
    "x\n",
    "#> 01:00:00\n",
    "```"
   ]
  },
  {
   "cell_type": "code",
   "execution_count": 78,
   "metadata": {
    "ExecuteTime": {
     "end_time": "2020-02-21T03:35:57.135725Z",
     "start_time": "2020-02-21T03:35:57.071Z"
    }
   },
   "outputs": [
    {
     "data": {
      "text/plain": [
       "01:00:00"
      ]
     },
     "metadata": {},
     "output_type": "display_data"
    }
   ],
   "source": [
    " hms::hms(3600)"
   ]
  },
  {
   "cell_type": "markdown",
   "metadata": {},
   "source": [
    "`hms::hms` returns an object of class, and prints the time in “%H:%M:%S” format.\n",
    "\n",
    "The primitive type is a double\n",
    "\n",
    "\n",
    "\n",
    "\n",
    "\n",
    "```R\n",
    "typeof(x)\n",
    "#> [1] \"double\"\n",
    "```"
   ]
  },
  {
   "cell_type": "markdown",
   "metadata": {},
   "source": [
    "The attributes is uses are `\"units\"` and `\"class\"`.\n",
    "\n",
    "\n",
    "\n",
    "\n",
    "\n",
    "```R\n",
    "attributes(x)\n",
    "#> $units\n",
    "#> [1] \"secs\"\n",
    "#> \n",
    "#> $class\n",
    "#> [1] \"hms\"      \"difftime\"\n",
    "```"
   ]
  },
  {
   "cell_type": "markdown",
   "metadata": {},
   "source": [
    "### Exercise 20.7.2[__](https://jrnold.github.io/r4ds-exercise-solutions/vectors.html#exercise-20.7.2)"
   ]
  },
  {
   "cell_type": "markdown",
   "metadata": {},
   "source": [
    "Try and make a tibble that has columns with different lengths. What </hypothesis-highlight>happens?\n",
    "\n",
    "If I try to create a tibble with a scalar and column of a different length there are no issues, and <font color = 'blue'>the scalar is repeated to the length of the longer vector.</font>\n",
    "\n",
    "\n",
    "\n",
    "\n",
    "\n",
    "```R\n",
    "tibble(x = 1, y = 1:5)\n",
    "#> # A tibble: 5 x 2\n",
    "#>       x     y\n",
    "#>   <dbl> <int>\n",
    "#> 1     1     1\n",
    "#> 2     1     2\n",
    "#> 3     1     3\n",
    "#> 4     1     4\n",
    "#> 5     1     5\n",
    "```"
   ]
  },
  {
   "cell_type": "markdown",
   "metadata": {},
   "source": [
    "However, <font color = 'blue'>if I try to create a tibble with two vectors of different lengths (other than one), the `tibble` function throws an error.</font>\n",
    "\n",
    "\n",
    "\n",
    "\n",
    "\n",
    "```R\n",
    "tibble(x = 1:3, y = 1:4)\n",
    "#> Tibble columns must have consistent lengths, only values of length one are recycled:\n",
    "#> * Length 3: Column `x`\n",
    "#> * Length 4: Column `y`\n",
    "```"
   ]
  },
  {
   "cell_type": "markdown",
   "metadata": {},
   "source": [
    "### Exercise 20.7.3[__](https://jrnold.github.io/r4ds-exercise-solutions/vectors.html#exercise-20.7.3)"
   ]
  },
  {
   "cell_type": "markdown",
   "metadata": {},
   "source": [
    "Based on the definition above, is it OK to have a list as a column of a tibble?\n",
    "\n",
    "If I didn’t already know the answer, what I would do is try it out.\n",
    "From the above, the error message was about vectors having different lengths.\n",
    "\n",
    "<font color = 'blue'>But there is nothing that prevents a tibble from having vectors of different types</font>: doubles, character, integers, logical, factor, date.\n",
    "\n",
    "The later are still atomic, but they have additional attributes.\n",
    "So, maybe there won’t be an issue with a list vector as long as it is the same length."
   ]
  },
  {
   "cell_type": "markdown",
   "metadata": {},
   "source": [
    "```R\n",
    "tibble(x = 1:3, y = list(\"a\", 1, list(1:3)))\n",
    "#> # A tibble: 3 x 2\n",
    "#>       x y         \n",
    "#>   <int> <list>    \n",
    "#> 1     1 <chr [1]> \n",
    "#> 2     2 <dbl [1]> \n",
    "#> 3     3 <list [1]>\n",
    "```"
   ]
  },
  {
   "cell_type": "code",
   "execution_count": 80,
   "metadata": {
    "ExecuteTime": {
     "end_time": "2020-02-21T03:57:26.609890Z",
     "start_time": "2020-02-21T03:57:26.537Z"
    }
   },
   "outputs": [
    {
     "data": {
      "text/html": [
       "<table>\n",
       "<caption>A tibble: 3 × 2</caption>\n",
       "<thead>\n",
       "\t<tr><th scope=col>x</th><th scope=col>y</th></tr>\n",
       "\t<tr><th scope=col>&lt;int&gt;</th><th scope=col>&lt;list&gt;</th></tr>\n",
       "</thead>\n",
       "<tbody>\n",
       "\t<tr><td>1</td><td>a</td></tr>\n",
       "\t<tr><td>2</td><td>1</td></tr>\n",
       "\t<tr><td>3</td><td>1, 2, 3</td></tr>\n",
       "</tbody>\n",
       "</table>\n"
      ],
      "text/latex": [
       "A tibble: 3 × 2\n",
       "\\begin{tabular}{ll}\n",
       " x & y\\\\\n",
       " <int> & <list>\\\\\n",
       "\\hline\n",
       "\t 1 & a\\\\\n",
       "\t 2 & 1\\\\\n",
       "\t 3 & 1, 2, 3\\\\\n",
       "\\end{tabular}\n"
      ],
      "text/markdown": [
       "\n",
       "A tibble: 3 × 2\n",
       "\n",
       "| x &lt;int&gt; | y &lt;list&gt; |\n",
       "|---|---|\n",
       "| 1 | a |\n",
       "| 2 | 1 |\n",
       "| 3 | 1, 2, 3 |\n",
       "\n"
      ],
      "text/plain": [
       "  x y      \n",
       "1 1 a      \n",
       "2 2 1      \n",
       "3 3 1, 2, 3"
      ]
     },
     "metadata": {},
     "output_type": "display_data"
    }
   ],
   "source": [
    "tibble(x = 1:3, y = list(\"a\", 1, list(1:3)))"
   ]
  },
  {
   "cell_type": "markdown",
   "metadata": {},
   "source": [
    "It works! I even used a list with heterogeneous types and there wasn’t an issue.\n",
    "In following chapters we’ll see that list vectors can be very useful: for example, when processing many different models."
   ]
  },
  {
   "cell_type": "markdown",
   "metadata": {},
   "source": [
    "# Misc"
   ]
  },
  {
   "cell_type": "code",
   "execution_count": 26,
   "metadata": {
    "ExecuteTime": {
     "end_time": "2020-02-20T14:01:37.370987Z",
     "start_time": "2020-02-20T14:01:37.315Z"
    },
    "code_folding": []
   },
   "outputs": [
    {
     "name": "stdout",
     "output_type": "stream",
     "text": [
      "[1] \"TRU\"\n"
     ]
    }
   ],
   "source": [
    "if(2) {\n",
    "    print('TRU')\n",
    "} else {\n",
    "    print('FALSE')   \n",
    "}"
   ]
  },
  {
   "cell_type": "code",
   "execution_count": 41,
   "metadata": {
    "ExecuteTime": {
     "end_time": "2020-02-20T14:21:43.000464Z",
     "start_time": "2020-02-20T14:21:42.924Z"
    },
    "collapsed": true
   },
   "outputs": [
    {
     "data": {
      "text/html": [
       "0"
      ],
      "text/latex": [
       "0"
      ],
      "text/markdown": [
       "0"
      ],
      "text/plain": [
       "[1] 0"
      ]
     },
     "metadata": {},
     "output_type": "display_data"
    },
    {
     "data": {
      "text/html": [
       "1"
      ],
      "text/latex": [
       "1"
      ],
      "text/markdown": [
       "1"
      ],
      "text/plain": [
       "[1] 1"
      ]
     },
     "metadata": {},
     "output_type": "display_data"
    },
    {
     "data": {
      "text/html": [
       "1"
      ],
      "text/latex": [
       "1"
      ],
      "text/markdown": [
       "1"
      ],
      "text/plain": [
       "[1] 1"
      ]
     },
     "metadata": {},
     "output_type": "display_data"
    },
    {
     "data": {
      "text/html": [
       "0"
      ],
      "text/latex": [
       "0"
      ],
      "text/markdown": [
       "0"
      ],
      "text/plain": [
       "[1] 0"
      ]
     },
     "metadata": {},
     "output_type": "display_data"
    }
   ],
   "source": [
    "0 %% 2\n",
    "3 %% 2\n",
    "5 %% 2\n",
    "4 %% 2"
   ]
  },
  {
   "cell_type": "code",
   "execution_count": null,
   "metadata": {},
   "outputs": [],
   "source": []
  },
  {
   "cell_type": "code",
   "execution_count": null,
   "metadata": {},
   "outputs": [],
   "source": [
    "seq(_from=0_ _to=10_ _length.out=100_)_"
   ]
  },
  {
   "cell_type": "code",
   "execution_count": 28,
   "metadata": {
    "ExecuteTime": {
     "end_time": "2020-02-20T14:03:52.680744Z",
     "start_time": "2020-02-20T14:03:52.635Z"
    }
   },
   "outputs": [
    {
     "name": "stderr",
     "output_type": "stream",
     "text": [
      "Warning message in if (0:2) {:\n",
      "\"the condition has length > 1 and only the first element will be used\"\n"
     ]
    },
    {
     "name": "stdout",
     "output_type": "stream",
     "text": [
      "[1] \"FALSE\"\n"
     ]
    }
   ],
   "source": [
    "if(0:2) {\n",
    "    print('TRU')\n",
    "} else {\n",
    "    print('FALSE')   \n",
    "}"
   ]
  },
  {
   "cell_type": "code",
   "execution_count": null,
   "metadata": {},
   "outputs": [],
   "source": []
  },
  {
   "cell_type": "code",
   "execution_count": 27,
   "metadata": {
    "ExecuteTime": {
     "end_time": "2020-02-20T14:03:42.659937Z",
     "start_time": "2020-02-20T14:03:42.618Z"
    }
   },
   "outputs": [
    {
     "name": "stdout",
     "output_type": "stream",
     "text": [
      "[1] \"FALSE\"\n"
     ]
    }
   ],
   "source": [
    "if(0) {\n",
    "    print('TRU')\n",
    "} else {\n",
    "    print('FALSE')   \n",
    "}"
   ]
  },
  {
   "cell_type": "code",
   "execution_count": 20,
   "metadata": {
    "ExecuteTime": {
     "end_time": "2020-02-20T06:11:56.426449Z",
     "start_time": "2020-02-20T06:11:56.367Z"
    }
   },
   "outputs": [
    {
     "data": {
      "text/html": [
       "<style>\n",
       ".list-inline {list-style: none; margin:0; padding: 0}\n",
       ".list-inline>li {display: inline-block}\n",
       ".list-inline>li:not(:last-child)::after {content: \"\\00b7\"; padding: 0 .5ex}\n",
       "</style>\n",
       "<ol class=list-inline><li>1</li><li>2</li><li>3</li><li>4</li><li>5</li><li>6</li><li>7</li><li>8</li><li>9</li><li>10</li></ol>\n"
      ],
      "text/latex": [
       "\\begin{enumerate*}\n",
       "\\item 1\n",
       "\\item 2\n",
       "\\item 3\n",
       "\\item 4\n",
       "\\item 5\n",
       "\\item 6\n",
       "\\item 7\n",
       "\\item 8\n",
       "\\item 9\n",
       "\\item 10\n",
       "\\end{enumerate*}\n"
      ],
      "text/markdown": [
       "1. 1\n",
       "2. 2\n",
       "3. 3\n",
       "4. 4\n",
       "5. 5\n",
       "6. 6\n",
       "7. 7\n",
       "8. 8\n",
       "9. 9\n",
       "10. 10\n",
       "\n",
       "\n"
      ],
      "text/plain": [
       " [1]  1  2  3  4  5  6  7  8  9 10\n",
       "attr(,\"something\")\n",
       "[1] TRUE"
      ]
     },
     "metadata": {},
     "output_type": "display_data"
    }
   ],
   "source": [
    "attr(x, \"something\") <- TRUE\n",
    "x"
   ]
  },
  {
   "cell_type": "code",
   "execution_count": 18,
   "metadata": {
    "ExecuteTime": {
     "end_time": "2020-02-20T06:11:45.500633Z",
     "start_time": "2020-02-20T06:11:45.441Z"
    }
   },
   "outputs": [
    {
     "data": {
      "text/html": [
       "FALSE"
      ],
      "text/latex": [
       "FALSE"
      ],
      "text/markdown": [
       "FALSE"
      ],
      "text/plain": [
       "[1] FALSE"
      ]
     },
     "metadata": {},
     "output_type": "display_data"
    }
   ],
   "source": [
    "x <- 1:10\n",
    "attr(x, \"something\") <- TRUE\n",
    "is.vector(x)\n",
    "#> [1] FALSE  "
   ]
  }
 ],
 "metadata": {
  "hide_input": false,
  "kernelspec": {
   "display_name": "R",
   "language": "R",
   "name": "ir"
  },
  "language_info": {
   "codemirror_mode": "r",
   "file_extension": ".r",
   "mimetype": "text/x-r-source",
   "name": "R",
   "pygments_lexer": "r",
   "version": "3.6.2"
  },
  "toc": {
   "base_numbering": 1,
   "nav_menu": {},
   "number_sections": true,
   "sideBar": true,
   "skip_h1_title": false,
   "title_cell": "Table of Contents",
   "title_sidebar": "Contents",
   "toc_cell": true,
   "toc_position": {},
   "toc_section_display": true,
   "toc_window_display": false
  }
 },
 "nbformat": 4,
 "nbformat_minor": 4
}
