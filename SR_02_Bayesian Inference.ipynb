{
 "cells": [
  {
   "cell_type": "markdown",
   "metadata": {
    "Collapsed": "true",
    "toc": true
   },
   "source": [
    "<h1>Table of Contents<span class=\"tocSkip\"></span></h1>\n",
    "<div class=\"toc\"><ul class=\"toc-item\"><li><span><a href=\"#CH1\" data-toc-modified-id=\"CH1-1\"><span class=\"toc-item-num\">1&nbsp;&nbsp;</span>CH1</a></span><ul class=\"toc-item\"><li><span><a href=\"#Misc-Examples\" data-toc-modified-id=\"Misc-Examples-1.1\"><span class=\"toc-item-num\">1.1&nbsp;&nbsp;</span>Misc Examples</a></span><ul class=\"toc-item\"><li><span><a href=\"#Marble-Example\" data-toc-modified-id=\"Marble-Example-1.1.1\"><span class=\"toc-item-num\">1.1.1&nbsp;&nbsp;</span>Marble Example</a></span></li><li><span><a href=\"#Globe-Example\" data-toc-modified-id=\"Globe-Example-1.1.2\"><span class=\"toc-item-num\">1.1.2&nbsp;&nbsp;</span>Globe Example</a></span></li></ul></li><li><span><a href=\"#Numerical-Techniques-to-approximate-Bayes-Theorem\" data-toc-modified-id=\"Numerical-Techniques-to-approximate-Bayes-Theorem-1.2\"><span class=\"toc-item-num\">1.2&nbsp;&nbsp;</span>Numerical Techniques to approximate Bayes Theorem</a></span><ul class=\"toc-item\"><li><span><a href=\"#Grid-Approximation\" data-toc-modified-id=\"Grid-Approximation-1.2.1\"><span class=\"toc-item-num\">1.2.1&nbsp;&nbsp;</span>Grid Approximation</a></span></li><li><span><a href=\"#Quadratic-approximation\" data-toc-modified-id=\"Quadratic-approximation-1.2.2\"><span class=\"toc-item-num\">1.2.2&nbsp;&nbsp;</span>Quadratic approximation</a></span></li></ul></li></ul></li><li><span><a href=\"#CH2\" data-toc-modified-id=\"CH2-2\"><span class=\"toc-item-num\">2&nbsp;&nbsp;</span>CH2</a></span><ul class=\"toc-item\"><li><span><a href=\"#The-garden-of-forking-data\" data-toc-modified-id=\"The-garden-of-forking-data-2.1\"><span class=\"toc-item-num\">2.1&nbsp;&nbsp;</span>The garden of forking data</a></span></li><li><span><a href=\"#Building-a-model\" data-toc-modified-id=\"Building-a-model-2.2\"><span class=\"toc-item-num\">2.2&nbsp;&nbsp;</span>Building a model</a></span></li><li><span><a href=\"#Components-of-the-model\" data-toc-modified-id=\"Components-of-the-model-2.3\"><span class=\"toc-item-num\">2.3&nbsp;&nbsp;</span>Components of the model</a></span></li><li><span><a href=\"#Making-the-model-go\" data-toc-modified-id=\"Making-the-model-go-2.4\"><span class=\"toc-item-num\">2.4&nbsp;&nbsp;</span>Making the model go</a></span></li><li><span><a href=\"#Practice-Problems\" data-toc-modified-id=\"Practice-Problems-2.5\"><span class=\"toc-item-num\">2.5&nbsp;&nbsp;</span><font color=\"purple\">Practice Problems</font></a></span><ul class=\"toc-item\"><li><span><a href=\"#EASY\" data-toc-modified-id=\"EASY-2.5.1\"><span class=\"toc-item-num\">2.5.1&nbsp;&nbsp;</span><strong>EASY</strong></a></span></li><li><span><a href=\"#Medium\" data-toc-modified-id=\"Medium-2.5.2\"><span class=\"toc-item-num\">2.5.2&nbsp;&nbsp;</span>Medium</a></span></li><li><span><a href=\"#Hard\" data-toc-modified-id=\"Hard-2.5.3\"><span class=\"toc-item-num\">2.5.3&nbsp;&nbsp;</span>Hard</a></span></li></ul></li></ul></li><li><span><a href=\"#HOMEWORK-WEEK-1\" data-toc-modified-id=\"HOMEWORK-WEEK-1-3\"><span class=\"toc-item-num\">3&nbsp;&nbsp;</span>HOMEWORK WEEK 1</a></span></li></ul></div>"
   ]
  },
  {
   "cell_type": "code",
   "execution_count": 4,
   "metadata": {
    "Collapsed": "false",
    "ExecuteTime": {
     "end_time": "2019-12-19T18:09:46.281895Z",
     "start_time": "2019-12-19T18:09:39.529Z"
    },
    "collapsed": true
   },
   "outputs": [
    {
     "name": "stderr",
     "output_type": "stream",
     "text": [
      "-- \u001b[1mAttaching packages\u001b[22m --------------------------------------- tidyverse 1.3.0 --\n",
      "\n",
      "\u001b[32mv\u001b[39m \u001b[34mggplot2\u001b[39m 3.2.1     \u001b[32mv\u001b[39m \u001b[34mpurrr  \u001b[39m 0.3.3\n",
      "\u001b[32mv\u001b[39m \u001b[34mtibble \u001b[39m 2.1.3     \u001b[32mv\u001b[39m \u001b[34mdplyr  \u001b[39m 0.8.3\n",
      "\u001b[32mv\u001b[39m \u001b[34mtidyr  \u001b[39m 1.0.0     \u001b[32mv\u001b[39m \u001b[34mstringr\u001b[39m 1.4.0\n",
      "\u001b[32mv\u001b[39m \u001b[34mreadr  \u001b[39m 1.3.1     \u001b[32mv\u001b[39m \u001b[34mforcats\u001b[39m 0.4.0\n",
      "\n",
      "-- \u001b[1mConflicts\u001b[22m ------------------------------------------ tidyverse_conflicts() --\n",
      "\u001b[31mx\u001b[39m \u001b[34mdplyr\u001b[39m::\u001b[32mfilter()\u001b[39m masks \u001b[34mstats\u001b[39m::filter()\n",
      "\u001b[31mx\u001b[39m \u001b[34mdplyr\u001b[39m::\u001b[32mlag()\u001b[39m    masks \u001b[34mstats\u001b[39m::lag()\n",
      "\n",
      "Loading required package: rstan\n",
      "\n",
      "Loading required package: StanHeaders\n",
      "\n",
      "rstan (Version 2.19.2, GitRev: 2e1f913d3ca3)\n",
      "\n",
      "For execution on a local, multicore CPU with excess RAM we recommend calling\n",
      "options(mc.cores = parallel::detectCores()).\n",
      "To avoid recompilation of unchanged Stan programs, we recommend calling\n",
      "rstan_options(auto_write = TRUE)\n",
      "\n",
      "For improved execution time, we recommend calling\n",
      "Sys.setenv(LOCAL_CPPFLAGS = '-march=native')\n",
      "although this causes Stan to throw an error on a few processors.\n",
      "\n",
      "\n",
      "Attaching package: 'rstan'\n",
      "\n",
      "\n",
      "The following object is masked from 'package:tidyr':\n",
      "\n",
      "    extract\n",
      "\n",
      "\n",
      "Loading required package: parallel\n",
      "\n",
      "Loading required package: dagitty\n",
      "\n",
      "rethinking (Version 1.93)\n",
      "\n",
      "\n",
      "Attaching package: 'rethinking'\n",
      "\n",
      "\n",
      "The following object is masked from 'package:purrr':\n",
      "\n",
      "    map\n",
      "\n",
      "\n",
      "The following object is masked from 'package:stats':\n",
      "\n",
      "    rstudent\n",
      "\n",
      "\n"
     ]
    }
   ],
   "source": [
    "library(tidyverse)\n",
    "library(rethinking)"
   ]
  },
  {
   "cell_type": "markdown",
   "metadata": {
    "Collapsed": "true"
   },
   "source": [
    "# CH1"
   ]
  },
  {
   "cell_type": "markdown",
   "metadata": {
    "Collapsed": "false"
   },
   "source": [
    "## Misc Examples"
   ]
  },
  {
   "cell_type": "markdown",
   "metadata": {
    "Collapsed": "true",
    "heading_collapsed": true
   },
   "source": [
    "### Marble Example"
   ]
  },
  {
   "cell_type": "markdown",
   "metadata": {
    "Collapsed": "false",
    "hidden": true
   },
   "source": [
    "<img src='pics/SR_b12.png' alt='Drawing' style='width: 550pt'/>"
   ]
  },
  {
   "cell_type": "markdown",
   "metadata": {
    "Collapsed": "true",
    "heading_collapsed": true
   },
   "source": [
    "### Globe Example"
   ]
  },
  {
   "cell_type": "code",
   "execution_count": 2,
   "metadata": {
    "Collapsed": "false",
    "ExecuteTime": {
     "end_time": "2019-12-11T22:00:49.304900Z",
     "start_time": "2019-12-11T22:00:49.206Z"
    },
    "hidden": true
   },
   "outputs": [
    {
     "data": {
      "text/html": [
       "<ol class=list-inline>\n",
       "\t<li>0</li>\n",
       "\t<li>0.15</li>\n",
       "\t<li>0.4</li>\n",
       "\t<li>0.45</li>\n",
       "\t<li>0</li>\n",
       "</ol>\n"
      ],
      "text/latex": [
       "\\begin{enumerate*}\n",
       "\\item 0\n",
       "\\item 0.15\n",
       "\\item 0.4\n",
       "\\item 0.45\n",
       "\\item 0\n",
       "\\end{enumerate*}\n"
      ],
      "text/markdown": [
       "1. 0\n",
       "2. 0.15\n",
       "3. 0.4\n",
       "4. 0.45\n",
       "5. 0\n",
       "\n",
       "\n"
      ],
      "text/plain": [
       "[1] 0.00 0.15 0.40 0.45 0.00"
      ]
     },
     "metadata": {},
     "output_type": "display_data"
    }
   ],
   "source": [
    "ways <- c( 0 , 3 , 8 , 9 , 0 )\n",
    "ways/sum(ways)"
   ]
  },
  {
   "cell_type": "markdown",
   "metadata": {
    "Collapsed": "false",
    "hidden": true
   },
   "source": [
    "The count of “water” observations w is distributed binomially, with probability p of “water” on each toss and n tosses in total. And the binomial distribution formula is built into R, so you can easily compute the likelihood of the data—six W’s in nine tosses—under any value of p with:\n"
   ]
  },
  {
   "cell_type": "markdown",
   "metadata": {
    "Collapsed": "false",
    "hidden": true
   },
   "source": [
    "$Pr(w|n,p) = \\frac{n!}{w!(n-w)}p^w(1-p)^(n-w)$"
   ]
  },
  {
   "cell_type": "code",
   "execution_count": 105,
   "metadata": {
    "Collapsed": "false",
    "hidden": true
   },
   "outputs": [
    {
     "data": {
      "text/html": [
       "0.1640625"
      ],
      "text/latex": [
       "0.1640625"
      ],
      "text/markdown": [
       "0.1640625"
      ],
      "text/plain": [
       "[1] 0.1640625"
      ]
     },
     "metadata": {},
     "output_type": "display_data"
    }
   ],
   "source": [
    "dbinom( 6 , size=9 , prob=0.5 ) "
   ]
  },
  {
   "cell_type": "markdown",
   "metadata": {
    "Collapsed": "false",
    "hidden": true
   },
   "source": [
    "That number is the relative number of ways to get six W’s, holding p at 0.5 and n at nine. So\n",
    "it does the job of counting relative number of paths through the garden. Change the 0.5 to\n",
    "any other value, to see how the value changes."
   ]
  },
  {
   "cell_type": "markdown",
   "metadata": {
    "Collapsed": "true",
    "heading_collapsed": true
   },
   "source": [
    "## Numerical Techniques to approximate Bayes Theorem"
   ]
  },
  {
   "cell_type": "markdown",
   "metadata": {
    "Collapsed": "false",
    "hidden": true
   },
   "source": [
    "What this means is that various numerical techniques are needed to approximate the mathematics that follows from the definition of Bayes’ theorem. In this book, you’ll meet three different conditioning engines, numerical techniques for computing posterior distributions:\n",
    "\n",
    "(1) Grid approximation\n",
    "\n",
    "(2) Quadratic approximation\n",
    "\n",
    "(3) Markov chain Monte Carlo (MCMC)\n",
    "\n"
   ]
  },
  {
   "cell_type": "markdown",
   "metadata": {
    "Collapsed": "true",
    "heading_collapsed": true,
    "hidden": true
   },
   "source": [
    "### Grid Approximation"
   ]
  },
  {
   "cell_type": "markdown",
   "metadata": {
    "Collapsed": "false",
    "hidden": true
   },
   "source": [
    "One of the simplest conditioning techniques is grid approximation. While most parameters are continuous, capable of taking on an infinite number of values, it turns out that we can achieve an excellent approximation of the continuous posterior distribution by considering only a finite grid of parameter values. \n",
    "\n",
    "* At any particular value of a parameter, p′, it’s a simple matter to compute the posterior probability: just multiply the prior probability of p′ by the likelihood at p′. Repeating this procedure for each value in the grid generates an approximate picture of the exact posterior distribution. \n",
    "* This procedure is called grid approximation. In this section, you’ll see how to perform a grid approximation, using simple bits of R code.\n",
    "\n",
    "**Grid approximation will mainly be useful as a pedagogical tool**, as learning it forces the user to really understand the nature of Bayesian updating. But in most of your real modeling, grid approximation isn’t practical. \n",
    "* The reason is that it scales very poorly, as the number of parameters increases. So in later chapters, grid approximation will fade away, to be replaced by other, more efficient techniques. Still, the conceptual value of this exercise will carry forward, as you graduate to other techniques.\n",
    "\n",
    "In the context of the globe tossing problem, grid approximation works extremely well. So let’s build a grid approximation for the model we’ve constructed so far. Here is the recipe:\n",
    "1.\tDefine the grid. This means you decide how many points to use in estimating the posterior, and then you make a list of the parameter values on the grid. \n",
    "2.\tCompute the value of the prior at each parameter value on the grid.\n",
    "3.\tCompute the likelihood at each parameter value.\n",
    "4.\tCompute the unstandardized posterior at each parameter value, by multiplying the prior by the likelihood. \n",
    "5.\tFinally, standardize the posterior, by dividing each value by the sum of all values.\n",
    "In the globe tossing context, here’s the code to complete all five of these steps:\n"
   ]
  },
  {
   "cell_type": "markdown",
   "metadata": {
    "Collapsed": "false",
    "hidden": true
   },
   "source": [
    "**<font color = 'purple'>In the globe tossing context, here’s the code to complete all five of these steps:</font>**"
   ]
  },
  {
   "cell_type": "code",
   "execution_count": 3,
   "metadata": {
    "Collapsed": "false",
    "hidden": true
   },
   "outputs": [
    {
     "data": {
      "image/png": "[encoded data removed]",
      "text/plain": [
       "plot without title"
      ]
     },
     "metadata": {
      "image/png": {
       "height": 420,
       "width": 420
      }
     },
     "output_type": "display_data"
    }
   ],
   "source": [
    "points = 20\n",
    "\n",
    "# define grid\n",
    "p_grid <- seq( from=0 , to=1 , length.out=points)\n",
    "    # length.out=20 -> 20 intervals between 0 and 1\n",
    "\n",
    "# define prior\n",
    "# prior <- rep( 1 , points )\n",
    "prior <- ifelse( p_grid < 0.5 , 0 , 1 )\n",
    "# prior <- exp( -5*abs( p_grid - 0.5 ) )\n",
    "\n",
    "# compute likelihood at each value in grid\n",
    "likelihood <- dbinom( 6 , size=9 , prob=p_grid )\n",
    "\n",
    "# compute product of likelihood and prior\n",
    "unstd.posterior <- likelihood * prior\n",
    "\n",
    "# standardize the posterior, so it sums to 1\n",
    "posterior <- unstd.posterior / sum(unstd.posterior)\n",
    "\n",
    "plot( p_grid , posterior , type=\"b\" ,\n",
    "     xlab=\"probability of water\" , \n",
    "     ylab=\"posterior probability\" )\n",
    "mtext( \"20 points\" )"
   ]
  },
  {
   "cell_type": "markdown",
   "metadata": {
    "Collapsed": "true",
    "heading_collapsed": true,
    "hidden": true
   },
   "source": [
    "### Quadratic approximation"
   ]
  },
  {
   "cell_type": "markdown",
   "metadata": {
    "Collapsed": "false",
    "hidden": true
   },
   "source": [
    "To compute the quadratic approximation to the globe tossing data:"
   ]
  },
  {
   "cell_type": "code",
   "execution_count": 54,
   "metadata": {
    "Collapsed": "false",
    "collapsed": true,
    "hidden": true,
    "jupyter": {
     "outputs_hidden": true
    }
   },
   "outputs": [
    {
     "name": "stderr",
     "output_type": "stream",
     "text": [
      "Loading required package: rstan\n",
      "Loading required package: StanHeaders\n",
      "rstan (Version 2.18.2, GitRev: 2e1f913d3ca3)\n",
      "For execution on a local, multicore CPU with excess RAM we recommend calling\n",
      "options(mc.cores = parallel::detectCores()).\n",
      "To avoid recompilation of unchanged Stan programs, we recommend calling\n",
      "rstan_options(auto_write = TRUE)\n",
      "For improved execution time, we recommend calling\n",
      "Sys.setenv(LOCAL_CPPFLAGS = '-march=native')\n",
      "although this causes Stan to throw an error on a few processors.\n",
      "\n",
      "Attaching package: 'rstan'\n",
      "\n",
      "The following object is masked from 'package:tidyr':\n",
      "\n",
      "    extract\n",
      "\n",
      "Loading required package: parallel\n",
      "rethinking (Version 1.59)\n",
      "\n",
      "Attaching package: 'rethinking'\n",
      "\n",
      "The following object is masked from 'package:purrr':\n",
      "\n",
      "    map\n",
      "\n"
     ]
    }
   ],
   "source": [
    "library(rethinking)"
   ]
  },
  {
   "cell_type": "code",
   "execution_count": 56,
   "metadata": {
    "Collapsed": "false",
    "hidden": true
   },
   "outputs": [
    {
     "data": {
      "text/plain": [
       "  Mean StdDev 5.5% 94.5%\n",
       "p 0.67   0.16 0.42  0.92"
      ]
     },
     "metadata": {},
     "output_type": "display_data"
    }
   ],
   "source": [
    "globe.qa <- map(\n",
    "    alist(\n",
    "        w ~ dbinom(9,p) , # binomial likelihood\n",
    "        p ~ dunif(0,1)    # uniform prior\n",
    "    ) ,\n",
    "    data=list(w=6) )\n",
    "\n",
    "# display summary of quadratic approximation\n",
    "precis( globe.qa )"
   ]
  },
  {
   "cell_type": "code",
   "execution_count": 64,
   "metadata": {
    "Collapsed": "false",
    "cell_style": "center",
    "hidden": true
   },
   "outputs": [
    {
     "data": {
      "image/png": "[encoded data removed]",
      "text/plain": [
       "plot without title"
      ]
     },
     "metadata": {},
     "output_type": "display_data"
    }
   ],
   "source": [
    "# analytical calculation 2\n",
    "w <- 6\n",
    "n <- 9\n",
    "curve( dbeta( x , w+1 , n-w+1 ) , from=0 , to=1 )\n",
    "# quadratic approximation\n",
    "curve( dnorm( x , 0.67 , 0.16 ) , lty=2 , add=TRUE )"
   ]
  },
  {
   "cell_type": "markdown",
   "metadata": {
    "Collapsed": "false"
   },
   "source": [
    "# CH2"
   ]
  },
  {
   "cell_type": "markdown",
   "metadata": {
    "Collapsed": "true"
   },
   "source": [
    "## The garden of forking data"
   ]
  },
  {
   "cell_type": "markdown",
   "metadata": {
    "Collapsed": "true"
   },
   "source": [
    "## Building a model"
   ]
  },
  {
   "cell_type": "markdown",
   "metadata": {
    "Collapsed": "false"
   },
   "source": [
    "## Components of the model"
   ]
  },
  {
   "cell_type": "code",
   "execution_count": 2,
   "metadata": {
    "Collapsed": "false",
    "ExecuteTime": {
     "end_time": "2019-12-18T07:38:13.446707Z",
     "start_time": "2019-12-18T07:38:13.354Z"
    }
   },
   "outputs": [
    {
     "data": {
      "text/html": [
       "0.1640625"
      ],
      "text/latex": [
       "0.1640625"
      ],
      "text/markdown": [
       "0.1640625"
      ],
      "text/plain": [
       "[1] 0.1640625"
      ]
     },
     "metadata": {},
     "output_type": "display_data"
    }
   ],
   "source": [
    "dbinom( 6 , size=9 , prob=0.5 )\n",
    "\n",
    "# compute the likelihood of the data—six W’s in nine tosses—\n",
    "# with a p=0.5 chance of getting a W during any draw \n"
   ]
  },
  {
   "cell_type": "code",
   "execution_count": 5,
   "metadata": {
    "ExecuteTime": {
     "end_time": "2019-12-18T07:39:05.967367Z",
     "start_time": "2019-12-18T07:39:05.850Z"
    }
   },
   "outputs": [
    {
     "data": {
      "image/png": "[encoded data removed]",
      "text/plain": [
       "plot without title"
      ]
     },
     "metadata": {
      "image/png": {
       "height": 420,
       "width": 420
      }
     },
     "output_type": "display_data"
    }
   ],
   "source": [
    " # define grid\n",
    "p_grid <- seq( from=0 , to=1 , length.out=20 )\n",
    "\n",
    "# define prior\n",
    "# prior <- rep( 1 , 20 )\n",
    "# prior <- ifelse( p_grid < 0.5 , 0 , 1 ) \n",
    "prior <- exp( -5*abs( p_grid - 0.5 ) )\n",
    "\n",
    "# compute likelihood at each value in grid\n",
    "likelihood <- dbinom( 6 , size=9 , prob=p_grid )\n",
    "\n",
    "# compute product of likelihood and prior\n",
    "unstd.posterior <- likelihood * prior\n",
    "\n",
    "# standardize the posterior, so it sums to 1\n",
    "posterior <- unstd.posterior / sum(unstd.posterior)\n",
    "\n",
    "plot( p_grid , posterior , type=\"b\" ,\n",
    "     xlab=\"probability of water\" , ylab=\"posterior probability\" )\n",
    "mtext( \"20 points\" )"
   ]
  },
  {
   "cell_type": "code",
   "execution_count": 7,
   "metadata": {
    "ExecuteTime": {
     "end_time": "2019-12-18T07:39:34.331622Z",
     "start_time": "2019-12-18T07:39:34.199Z"
    }
   },
   "outputs": [
    {
     "data": {
      "image/png": "[encoded data removed]",
      "text/plain": [
       "plot without title"
      ]
     },
     "metadata": {
      "image/png": {
       "height": 420,
       "width": 420
      }
     },
     "output_type": "display_data"
    }
   ],
   "source": [
    " # define grid\n",
    "p_grid <- seq( from=0 , to=1 , length.out=100 )\n",
    "\n",
    "# define prior\n",
    "# prior <- rep( 1 , 20 )\n",
    "# prior <- ifelse( p_grid < 0.5 , 0 , 1 ) \n",
    "prior <- exp( -5*abs( p_grid - 0.5 ) )\n",
    "\n",
    "# compute likelihood at each value in grid\n",
    "likelihood <- dbinom( 6 , size=9 , prob=p_grid )\n",
    "\n",
    "# compute product of likelihood and prior\n",
    "unstd.posterior <- likelihood * prior\n",
    "\n",
    "# standardize the posterior, so it sums to 1\n",
    "posterior <- unstd.posterior / sum(unstd.posterior)\n",
    "\n",
    "plot( p_grid , prior , type=\"b\" ,\n",
    "     xlab=\"probability of water\" , ylab=\"posterior probability\" )\n",
    "mtext( \"20 points\" )"
   ]
  },
  {
   "cell_type": "code",
   "execution_count": 9,
   "metadata": {
    "ExecuteTime": {
     "end_time": "2019-12-18T08:43:24.678465Z",
     "start_time": "2019-12-18T08:43:24.564Z"
    }
   },
   "outputs": [
    {
     "data": {
      "text/html": [
       "<table>\n",
       "<caption>A precis: 1 × 4</caption>\n",
       "<thead>\n",
       "\t<tr><th></th><th scope=col>mean</th><th scope=col>sd</th><th scope=col>5.5%</th><th scope=col>94.5%</th></tr>\n",
       "\t<tr><th></th><th scope=col>&lt;dbl&gt;</th><th scope=col>&lt;dbl&gt;</th><th scope=col>&lt;dbl&gt;</th><th scope=col>&lt;dbl&gt;</th></tr>\n",
       "</thead>\n",
       "<tbody>\n",
       "\t<tr><th scope=row>p</th><td>0.6666663</td><td>0.1571339</td><td>0.4155361</td><td>0.9177966</td></tr>\n",
       "</tbody>\n",
       "</table>\n"
      ],
      "text/latex": [
       "A precis: 1 × 4\n",
       "\\begin{tabular}{r|llll}\n",
       "  & mean & sd & 5.5\\% & 94.5\\%\\\\\n",
       "  & <dbl> & <dbl> & <dbl> & <dbl>\\\\\n",
       "\\hline\n",
       "\tp & 0.6666663 & 0.1571339 & 0.4155361 & 0.9177966\\\\\n",
       "\\end{tabular}\n"
      ],
      "text/markdown": [
       "\n",
       "A precis: 1 × 4\n",
       "\n",
       "| <!--/--> | mean &lt;dbl&gt; | sd &lt;dbl&gt; | 5.5% &lt;dbl&gt; | 94.5% &lt;dbl&gt; |\n",
       "|---|---|---|---|---|\n",
       "| p | 0.6666663 | 0.1571339 | 0.4155361 | 0.9177966 |\n",
       "\n"
      ],
      "text/plain": [
       "  mean      sd        5.5%      94.5%    \n",
       "p 0.6666663 0.1571339 0.4155361 0.9177966"
      ]
     },
     "metadata": {},
     "output_type": "display_data"
    }
   ],
   "source": [
    "globe.qa <- quap(\n",
    "    alist(\n",
    "        W ~ dbinom( W+L ,p) , # binomial likelihood\n",
    "        p ~ dunif(0,1)        # uniform prior\n",
    "    ) ,\n",
    "    data=list(W=6,L=3) )\n",
    "\n",
    "# display summary of quadratic approximation\n",
    "precis( globe.qa )"
   ]
  },
  {
   "cell_type": "markdown",
   "metadata": {
    "heading_collapsed": true
   },
   "source": [
    "## Making the model go"
   ]
  },
  {
   "cell_type": "code",
   "execution_count": 6,
   "metadata": {
    "ExecuteTime": {
     "end_time": "2019-12-19T18:11:38.821374Z",
     "start_time": "2019-12-19T18:11:38.618Z"
    },
    "hidden": true
   },
   "outputs": [
    {
     "data": {
      "image/png": "[encoded data removed]",
      "text/plain": [
       "Plot with title \"\""
      ]
     },
     "metadata": {
      "image/png": {
       "height": 420,
       "width": 420
      }
     },
     "output_type": "display_data"
    }
   ],
   "source": [
    "n_samples <- 1000 \n",
    "p <- rep( NA , n_samples )\n",
    "p[1] <- 0.5\n",
    "W <- 6\n",
    "L <- 3\n",
    "for ( i in 2:n_samples ) {\n",
    "    p_new <- rnorm( 1 , p[i-1] , 0.1 )\n",
    "    if ( p_new < 0 ) p_new <- abs( p_new )\n",
    "    if ( p_new > 1 ) p_new <- 2 - p_new\n",
    "    q0 <- dbinom( W , W+L , p[i-1] )\n",
    "    q1 <- dbinom( W , W+L , p_new )\n",
    "    p[i] <- ifelse( runif(1) < q1/q0 , p_new , p[i-1] )\n",
    "}\n",
    "dens( p , xlim=c(0,1) )\n",
    "curve( dbeta( x , W+1 , L+1 ) , lty=2 , add=TRUE )"
   ]
  },
  {
   "cell_type": "markdown",
   "metadata": {
    "Collapsed": "true",
    "heading_collapsed": true
   },
   "source": [
    "## <font color = 'purple'>Practice Problems</font>"
   ]
  },
  {
   "cell_type": "markdown",
   "metadata": {
    "Collapsed": "false",
    "heading_collapsed": true,
    "hidden": true
   },
   "source": [
    "### **EASY**"
   ]
  },
  {
   "cell_type": "raw",
   "metadata": {
    "Collapsed": "false",
    "hidden": true
   },
   "source": [
    "2E1. Which of the expressions below correspond to the statement: the probability of rain on Monday?\n",
    "(1) Pr(rain)\n",
    "(2)# Pr(rain|Monday)\n",
    "(3) Pr(Monday|rain)\n",
    "(4)# Pr(rain, Monday)/ Pr(Monday)\n",
    "\n",
    "2E2. Which of the following statements corresponds to the expression: Pr(Monday|rain)?\n",
    "(1) The probability of rain on Monday.\n",
    "(2) The probability of rain, given that it is Monday.\n",
    "(3)# The probability that it is Monday, given that it is raining.\n",
    "(4) The probability that it is Monday and that it is raining.\n",
    "\n",
    "2E3. Which of the expressions below correspond to the statement: the probability that it is Monday, given that it is raining?\n",
    "(1)# Pr(Monday|rain)\n",
    "(2) Pr(rain|Monday)\n",
    "(3) Pr(rain|Monday) Pr(Monday)\n",
    "(4) Pr(rain|Monday) Pr(Monday)/ Pr(rain)\n",
    "(5) Pr(Monday|rain) Pr(rain)/ Pr(Monday)\n",
    "\n",
    "2E4. The Bayesian statistician Bruno de Finetti (1906–1985) began his book on probability theory with the declaration: “PROBABILITY DOES NOT EXIST.” The capitals appeared in the original, so I imagine de Finetti wanted us to shout this statement. What he meant is that probability is a device for describing uncertainty from the perspective of an observer with limited knowledge; it has no objective reality. Discuss the globe tossing example from the chapter, in light of this statement. What does it mean to say “the probability of water is 0.7”?\n",
    "\n",
    "\n",
    "The probability is only a model in \"small world\", and it allows us to formalize and model our uncertainty and thus make inferences (and reduce it with information from observations) taking it into account; However, we do not have access to the real state of the world and we will have to limit ourselves to our knowledge and model."
   ]
  },
  {
   "cell_type": "markdown",
   "metadata": {
    "Collapsed": "false",
    "heading_collapsed": true,
    "hidden": true
   },
   "source": [
    "### Medium"
   ]
  },
  {
   "cell_type": "markdown",
   "metadata": {
    "Collapsed": "false",
    "hidden": true
   },
   "source": [
    "**<font color = 'purple'>2M1. Recall the globe tossing model from the chapter. Compute and plot the grid approximate posterior distribution for each of the following sets of observations. In each case, assume a uniform prior for p</font>**."
   ]
  },
  {
   "cell_type": "raw",
   "metadata": {
    "Collapsed": "false",
    "hidden": true
   },
   "source": [
    "(1) W, W, W\n",
    "(2) W, W, W, L\n",
    "(3) L, W, W, L, W, W, W"
   ]
  },
  {
   "cell_type": "markdown",
   "metadata": {
    "Collapsed": "false",
    "hidden": true
   },
   "source": [
    "<font color = 'green'>dbinom() =\n",
    "$Pr(w|n,p) = \\frac{n!}{w!(n-w)}p^w(1-p)^(n-w)$</font>"
   ]
  },
  {
   "cell_type": "code",
   "execution_count": 12,
   "metadata": {
    "Collapsed": "false",
    "hidden": true
   },
   "outputs": [],
   "source": [
    "compute_posterior <- function(w,n,prior,p=p_grid){\n",
    "    likelihood               <- dbinom(x=w,size=n,prob=p)    \n",
    "    unstandardized.posterior <- likelihood*prior\n",
    "    return(unstandardized.posterior/sum(unstandardized.posterior))\n",
    "}\n",
    "\n",
    "plot_posterior <- function(x,y){\n",
    "    plot(x=x,y=y,type='b',\n",
    "        xlab=\"Probability of Water\",\n",
    "        ylab=\"Posterior Probability\")\n",
    "    title <- paste(length(x),\"Points\") \n",
    "    # paste <- Concatenate vectors after converting to character.\n",
    "    mtext(title)\n",
    "}"
   ]
  },
  {
   "cell_type": "code",
   "execution_count": 13,
   "metadata": {
    "Collapsed": "false",
    "hidden": true
   },
   "outputs": [],
   "source": [
    "p_grid <- seq(from=0, to=1, length.out=20)\n",
    "prior  <- rep(x=1, length=length(p_grid))"
   ]
  },
  {
   "cell_type": "code",
   "execution_count": 14,
   "metadata": {
    "Collapsed": "false",
    "cell_style": "split",
    "hidden": true
   },
   "outputs": [
    {
     "data": {
      "image/png": "[encoded data removed]",
      "text/plain": [
       "plot without title"
      ]
     },
     "metadata": {},
     "output_type": "display_data"
    }
   ],
   "source": [
    "w <- 3; n <- 3\n",
    "posterior <- compute_posterior(w=w, n=n, prior=prior)\n",
    "plot_posterior(x=p_grid, y=posterior)"
   ]
  },
  {
   "cell_type": "code",
   "execution_count": 15,
   "metadata": {
    "Collapsed": "false",
    "cell_style": "split",
    "hidden": true
   },
   "outputs": [
    {
     "data": {
      "image/png": "[encoded data removed]",
      "text/plain": [
       "plot without title"
      ]
     },
     "metadata": {},
     "output_type": "display_data"
    }
   ],
   "source": [
    "w <- 3; n <- 4\n",
    "posterior <- compute_posterior(w=w, n=n, prior=prior)\n",
    "plot_posterior(x=p_grid, y=posterior)"
   ]
  },
  {
   "cell_type": "code",
   "execution_count": 123,
   "metadata": {
    "Collapsed": "false",
    "cell_style": "split",
    "hidden": true
   },
   "outputs": [
    {
     "data": {
      "image/png": "[encoded data removed]",
      "text/plain": [
       "plot without title"
      ]
     },
     "metadata": {},
     "output_type": "display_data"
    }
   ],
   "source": [
    "w <- 4; n <- 7\n",
    "posterior <- compute_posterior(w=w, n=n, prior=prior)\n",
    "plot_posterior(x=p_grid, y=posterior)"
   ]
  },
  {
   "cell_type": "markdown",
   "metadata": {
    "Collapsed": "false",
    "hidden": true
   },
   "source": [
    "**<font color = 'purple'>2M2. Now assume a prior for p that is equal to zero when p < 0.5 and is a positive constant when p ≥ 0.5. Again compute and plot the grid approximate posterior distribution for each of the sets of observations in the problem just above</font>**."
   ]
  },
  {
   "cell_type": "code",
   "execution_count": 144,
   "metadata": {
    "Collapsed": "false",
    "cell_style": "center",
    "collapsed": true,
    "hidden": true,
    "jupyter": {
     "outputs_hidden": true
    }
   },
   "outputs": [
    {
     "data": {
      "image/png": "[encoded data removed]",
      "text/plain": [
       "plot without title"
      ]
     },
     "metadata": {},
     "output_type": "display_data"
    },
    {
     "data": {
      "image/png": "[encoded data removed]",
      "text/plain": [
       "plot without title"
      ]
     },
     "metadata": {},
     "output_type": "display_data"
    },
    {
     "data": {
      "image/png": "[encoded data removed]",
      "text/plain": [
       "plot without title"
      ]
     },
     "metadata": {},
     "output_type": "display_data"
    }
   ],
   "source": [
    "# prior <- ifelse(test = p_grid < .5, yes = 0, no = 1)\n",
    "# plot_posterior(x=p_grid, y=prior)\n",
    "\n",
    "\n",
    "p_grid <- seq(from=0, to=1, length.out=20)\n",
    "prior <- ifelse(p_grid<0.5, 0, 1)\n",
    "\n",
    "w <- 3; n <- 3\n",
    "posterior <- compute_posterior(w=w, n=n, prior=prior)\n",
    "plot_posterior(x=p_grid, y=posterior)\n",
    "\n",
    "w <- 3; n <- 4\n",
    "posterior <- compute_posterior(w=w, n=n, prior=prior)\n",
    "plot_posterior(x=p_grid, y=posterior)\n",
    "\n",
    "w <- 4; n <- 7\n",
    "posterior <- compute_posterior(w=w, n=n, prior=prior)\n",
    "plot_posterior(x=p_grid, y=posterior)"
   ]
  },
  {
   "cell_type": "code",
   "execution_count": 138,
   "metadata": {
    "Collapsed": "false",
    "cell_style": "center",
    "collapsed": true,
    "hidden": true,
    "jupyter": {
     "outputs_hidden": true
    }
   },
   "outputs": [
    {
     "data": {
      "image/png": "[encoded data removed]",
      "text/plain": [
       "plot without title"
      ]
     },
     "metadata": {},
     "output_type": "display_data"
    }
   ],
   "source": [
    "## Medium #### alternate soln\n",
    "# 2M1, 2M2\n",
    "data <- c('W','W', 'W')\n",
    "# data <- c('W','W', 'W', 'L')\n",
    "# data <- c('L','W', 'W', 'L', 'W', 'W', 'W')\n",
    "\n",
    "n = length(data)\n",
    "w = sum(data=='W')\n",
    "\n",
    "p_grid <- seq(0, 1, length.out = 25)\n",
    "ng = length(p_grid)\n",
    "\n",
    "prior <- rep(1, ng)               # 2M1\n",
    "# prior <- ifelse(p_grid<0.5, 0, 1) # 2M2\n",
    "\n",
    "likelihood <- dbinom(w, n, p_grid)\n",
    "\n",
    "posterior <- likelihood * prior\n",
    "posterior <- posterior / sum(posterior)\n",
    "\n",
    "df <- data.frame(param=c(p_grid,p_grid),\n",
    "                 prob=c(prior,posterior),\n",
    "                 ptype=c(rep('prior',ng), rep('posterior',ng)))\n",
    "\n",
    "x <- ggplot(df %>% filter(ptype=='posterior'), \n",
    "            aes(x=param, y=prob, group=ptype, color=ptype)) + \n",
    "    geom_line() + geom_point()\n",
    "print(x)"
   ]
  },
  {
   "cell_type": "markdown",
   "metadata": {
    "Collapsed": "false",
    "hidden": true
   },
   "source": [
    "<font color = 'purple'>2M3. Suppose there are two globes, one for Earth and one for Mars. \n",
    "    \n",
    "* The Earth globe is 70% covered in water. \n",
    "* The Mars globe is 100% land. \n",
    "* Further suppose that one of these globes—you don’t know which—was tossed in the air and produced a “land” observation. Assume that each globe was equally likely to be tossed. \n",
    "\n",
    "**Show that the posterior probability that the globe was the Earth, conditional on seeing “land” (Pr(Earth|land)), is 0.23**</font>."
   ]
  },
  {
   "cell_type": "markdown",
   "metadata": {
    "Collapsed": "false",
    "hidden": true
   },
   "source": [
    "$posterior = \\frac{likelihood * Prior}{Average Likelihood)}$\n",
    "\n",
    "$p(Earth|Land) = \\frac{P(Land|Earth)*P(Earth)}{(P(Land|Earth)*P(Earth)+P(Land|Mars)*P(Mars))}$"
   ]
  },
  {
   "cell_type": "code",
   "execution_count": 153,
   "metadata": {
    "Collapsed": "false",
    "hidden": true
   },
   "outputs": [
    {
     "name": "stdout",
     "output_type": "stream",
     "text": [
      "[1] 0.2307692\n"
     ]
    },
    {
     "data": {
      "text/html": [
       "TRUE"
      ],
      "text/latex": [
       "TRUE"
      ],
      "text/markdown": [
       "TRUE"
      ],
      "text/plain": [
       "[1] TRUE"
      ]
     },
     "metadata": {},
     "output_type": "display_data"
    }
   ],
   "source": [
    "# 2M3\n",
    "# p(Earth|Land) = P(Land|Earth)*P(Earth)/(P(Land|Earth)*P(Earth)+P(Land|Mars)*P(Mars))\n",
    "p_e_l           = (1-0.7)*0.5 / ((1-0.7)*0.5 + 1.*0.5)\n",
    "print(p_e_l)\n",
    "\n",
    "## 2M3\n",
    "prior <- c(.5, .5)\n",
    "likelihood <- c(.3, 1)\n",
    "unstandardized.posterior <- prior * likelihood\n",
    "posterior <- unstandardized.posterior / sum(unstandardized.posterior)\n",
    "round( posterior[1], 2) == .23"
   ]
  },
  {
   "cell_type": "code",
   "execution_count": 145,
   "metadata": {
    "Collapsed": "false",
    "hidden": true,
    "scrolled": true
   },
   "outputs": [
    {
     "data": {
      "text/html": [
       "TRUE"
      ],
      "text/latex": [
       "TRUE"
      ],
      "text/markdown": [
       "TRUE"
      ],
      "text/plain": [
       "[1] TRUE"
      ]
     },
     "metadata": {},
     "output_type": "display_data"
    }
   ],
   "source": [
    "prior <- c(.5, .5)\n",
    "likelihood <- c(.3, 1)\n",
    "unstandardized.posterior <- prior * likelihood\n",
    "posterior <- unstandardized.posterior / sum(unstandardized.posterior)\n",
    "round( posterior[1], 2) == .23\n"
   ]
  },
  {
   "cell_type": "markdown",
   "metadata": {
    "Collapsed": "false",
    "hidden": true
   },
   "source": [
    "<font color = 'purple'>**2M4. Suppose you have a deck with only three cards.**\n",
    "    \n",
    "  * Each card has two sides, and each side is eitherblack or white. \n",
    "  * One card has two black sides. \n",
    "  * The second card has one black and one white side. \n",
    "  * The third card has two white sides. \n",
    "  * Now suppose all three cards are placed in a bag and shuffled. \n",
    "  * Someone reaches into the bag and pulls out a card and places it flat on a table. \n",
    "  * A black side is shown facing up, but you don’t know the color of the side facing down. \n",
    "  \n",
    "**Show that the probability that the other side is also black is 2/3. Use the counting method (Section 2 of the chapter) to approach this problem. This means counting upthe ways that each card could produce the observed data (a black side facing up\n",
    "on the table)**</font>."
   ]
  },
  {
   "cell_type": "raw",
   "metadata": {
    "Collapsed": "false",
    "hidden": true
   },
   "source": [
    "#P(b=black|f=black) =  (ways p cand produce Dnew x prior plausibility p)/(sum of products)"
   ]
  },
  {
   "cell_type": "code",
   "execution_count": 159,
   "metadata": {
    "Collapsed": "false",
    "hidden": true
   },
   "outputs": [
    {
     "data": {
      "text/html": [
       "0.666666666666667"
      ],
      "text/latex": [
       "0.666666666666667"
      ],
      "text/markdown": [
       "0.666666666666667"
      ],
      "text/plain": [
       "[1] 0.6666667"
      ]
     },
     "metadata": {},
     "output_type": "display_data"
    }
   ],
   "source": [
    "card.bb.likelihood  <- 2\n",
    "card.wb.likelihood  <- 1\n",
    "card.ww.likelihood  <- 0\n",
    "likelihood <- c(card.bb.likelihood, card.wb.likelihood, card.ww.likelihood)\n",
    "prior <- c(1,1,1)\n",
    "unstd.posterior <- prior * likelihood\n",
    "posterior <- unstd.posterior/sum(unstd.posterior)\n",
    "posterior[1]\n",
    "\n",
    "\n"
   ]
  },
  {
   "cell_type": "code",
   "execution_count": 156,
   "metadata": {
    "Collapsed": "false",
    "hidden": true
   },
   "outputs": [
    {
     "data": {
      "text/html": [
       "TRUE"
      ],
      "text/latex": [
       "TRUE"
      ],
      "text/markdown": [
       "TRUE"
      ],
      "text/plain": [
       "[1] TRUE"
      ]
     },
     "metadata": {},
     "output_type": "display_data"
    }
   ],
   "source": [
    "# 2M4\n",
    "# BB WB WW\n",
    "# By probability formula\n",
    "# P(Down=B|Upper=B) = P(Down=B,Upper=B) / P(Upper=B) = P(BB) / (P(BB) + P(WB)*P(Upper=B|WB)) =  \n",
    "#    = (1/3) / (1/3 + 1/3 * 1/2) = 2/3\n",
    "# by counting\n",
    "card.bb.likelihood <- 2\n",
    "card.wb.likelihood <- 1\n",
    "card.ww.likelihood <- 0\n",
    "likelihood <- c(card.bb.likelihood, card.wb.likelihood, card.ww.likelihood)\n",
    "prior <- c(1,1,1)\n",
    "posterior <- prior * likelihood\n",
    "posterior <- posterior/sum(posterior)\n",
    "posterior[1] == 2/3\n"
   ]
  },
  {
   "cell_type": "code",
   "execution_count": null,
   "metadata": {
    "Collapsed": "false",
    "hidden": true
   },
   "outputs": [],
   "source": [
    "## 2M4\n",
    "card.1.likelihood <- 2\n",
    "card.2.likelihood <- 1\n",
    "card.3.likelihood <- 0\n",
    "likelihood <- c(card.1.likelihood, card.2.likelihood, card.3.likelihood)\n",
    "prior <- rep(x = 1, length = length(likelihood))\n",
    "\n",
    "unstandardized.posterior <- prior * likelihood\n",
    "posterior <- unstandardized.posterior / sum(unstandardized.posterior)\n",
    "\n",
    "# the probability the other size is black is equal to the probability that we've drawn card 1\n",
    "posterior[1] == 2/3"
   ]
  },
  {
   "cell_type": "markdown",
   "metadata": {
    "Collapsed": "false",
    "hidden": true
   },
   "source": [
    "**<font color = 'purple'>2M5. Now suppose there are four cards: B/B, B/W, W/W, and another B/B. Again suppose a card is\n",
    "drawn from the bag and a black side appears face up. Again calculate the probability that the other\n",
    "side is black</font>**."
   ]
  },
  {
   "cell_type": "code",
   "execution_count": 164,
   "metadata": {
    "Collapsed": "false",
    "hidden": true
   },
   "outputs": [
    {
     "data": {
      "text/html": [
       "0.8"
      ],
      "text/latex": [
       "0.8"
      ],
      "text/markdown": [
       "0.8"
      ],
      "text/plain": [
       "[1] 0.8"
      ]
     },
     "metadata": {},
     "output_type": "display_data"
    }
   ],
   "source": [
    "card.bb.likelihood <- 2\n",
    "card.wb.likelihood <- 1\n",
    "card.ww.likelihood <- 0\n",
    "card.bb.likelihood <- 2\n",
    "\n",
    "likelihood <- c(card.bb.likelihood, card.wb.likelihood, card.ww.likelihood, card.bb.likelihood)\n",
    "prior <- c(1,1,1,1)\n",
    "\n",
    "unstandardized.posterior <- prior*likelihood\n",
    "posterior <- unstandardized.posterior/sum(unstandardized.posterior)\n",
    "\n",
    "posterior[1] + posterior[4]"
   ]
  },
  {
   "cell_type": "markdown",
   "metadata": {
    "Collapsed": "false",
    "hidden": true
   },
   "source": [
    "<font color = 'purple'>2M6. Imagine that black ink is heavy, and so cards with black sides are heavier than cards with white sides. As a result, it’s less likely that a card with black sides is pulled from the bag. \n",
    "\n",
    "* So again assume there are three cards: B/B, B/W, and W/W. \n",
    "* After experimenting a number of times, you conclude that for every way to pull the B/B card from the bag, there are 2 ways to pull the B/W card and 3 ways to pull the W/W card. \n",
    "* Again suppose that a card is pulled and a black side appears face up. \n",
    "\n",
    "**Show that the probability the other side is black is now 0.5. Use the counting method, as before**</font>."
   ]
  },
  {
   "cell_type": "code",
   "execution_count": 168,
   "metadata": {
    "Collapsed": "false",
    "hidden": true
   },
   "outputs": [
    {
     "data": {
      "text/html": [
       "0.5"
      ],
      "text/latex": [
       "0.5"
      ],
      "text/markdown": [
       "0.5"
      ],
      "text/plain": [
       "[1] 0.5"
      ]
     },
     "metadata": {},
     "output_type": "display_data"
    }
   ],
   "source": [
    "card.bb.likelihood <- 2\n",
    "card.wb.likelihood <- 1\n",
    "card.ww.likelihood <- 0\n",
    "\n",
    "likelihood <- c(card.bb.likelihood, card.wb.likelihood, card.ww.likelihood)\n",
    "prior <- c(1,2,3)\n",
    "unstandardized.posterior <- prior*likelihood\n",
    "\n",
    "posterior   <- unstandardized.posterior/sum(unstandardized.posterior)\n",
    "posterior[1]\n"
   ]
  },
  {
   "cell_type": "markdown",
   "metadata": {
    "Collapsed": "false",
    "hidden": true
   },
   "source": [
    "<font color = 'purple'>2M7. Assume again the original card problem, with a single card showing a black side face up. \n",
    "    \n",
    "* Before looking at the other side, we draw another card from the bag and lay it face up on the table. The face that is shown on the new card is white. \n",
    "\n",
    "**Show that the probability that the first card, the one showing a black side, has black on its other side is now 0.75.**\n",
    "Use the counting method, if you can. Hint: Treat this like the sequence of globe tosses, counting all the ways to see each observation, for each possible first card</font>."
   ]
  },
  {
   "cell_type": "code",
   "execution_count": 175,
   "metadata": {
    "Collapsed": "false",
    "hidden": true
   },
   "outputs": [
    {
     "data": {
      "text/html": [
       "0.75"
      ],
      "text/latex": [
       "0.75"
      ],
      "text/markdown": [
       "0.75"
      ],
      "text/plain": [
       "[1] 0.75"
      ]
     },
     "metadata": {},
     "output_type": "display_data"
    }
   ],
   "source": [
    "# ways to produce 2 cards of each color\n",
    "card.bb.likelihood <- 2*3 #2 blacks choices, for each there are 3 options = ww->2 + wb->1\n",
    "card.wb.likelihood <- 1*2 \n",
    "card.ww.likelihood <- 0\n",
    "\n",
    "likelihood <- c(card.bb.likelihood, card.wb.likelihood, card.ww.likelihood)\n",
    "prior <- c(1,1,1)\n",
    "unstandardized.posterior <- prior*likelihood\n",
    "\n",
    "posterior   <- unstandardized.posterior/sum(unstandardized.posterior)\n",
    "posterior[1]\n"
   ]
  },
  {
   "cell_type": "code",
   "execution_count": 180,
   "metadata": {
    "Collapsed": "false",
    "hidden": true
   },
   "outputs": [
    {
     "data": {
      "text/html": [
       "TRUE"
      ],
      "text/latex": [
       "TRUE"
      ],
      "text/markdown": [
       "TRUE"
      ],
      "text/plain": [
       "[1] TRUE"
      ]
     },
     "metadata": {},
     "output_type": "display_data"
    }
   ],
   "source": [
    "card.1.2.likelihood <- 2\n",
    "card.2.1.likelihood <- 0\n",
    "card.1.3.likelihood <- 4\n",
    "card.3.1.likelihood <- 0\n",
    "card.2.3.likelihood <- 2\n",
    "card.3.2.likelihood <- 0\n",
    "\n",
    "likelihood <- c(card.1.2.likelihood, card.2.1.likelihood, card.1.3.likelihood, card.3.1.likelihood, card.2.3.likelihood, card.3.2.likelihood)\n",
    "prior <- rep(x = 1, length = length(likelihood))\n",
    "unstandardized.posterior <- prior * likelihood\n",
    "posterior <- unstandardized.posterior / sum(unstandardized.posterior)\n",
    "\n",
    "# the probability that the other side of the first card is black is equal to the probability that the first card is card 1,\n",
    "# which equals the probability that the sequence we've chosen is either (1, 2), or (1, 3)\n",
    "posterior[1] + posterior[3] == .75"
   ]
  },
  {
   "cell_type": "markdown",
   "metadata": {
    "Collapsed": "false",
    "hidden": true
   },
   "source": [
    "### Hard"
   ]
  },
  {
   "cell_type": "markdown",
   "metadata": {
    "Collapsed": "false",
    "hidden": true
   },
   "source": [
    "<font color = 'purple'>2H1. Suppose there are two species of panda bear. \n",
    "* Both are equally common in the wild and live in the same places. They look exactly alike and eat the same food, and there is yet no genetic assay capable of telling them apart. \n",
    "* They differ however in their family sizes. Species A gives birth to twins 10% of the time, otherwise birthing a single infant. Species B births twins 20% of the time, otherwise birthing singleton infants. Assume these numbers are known with certainty, from many years of field research. \n",
    "\n",
    "**Now suppose you are managing a captive panda breeding program. You have a new female panda of unknown species, and she has just given birth to twins. What is the probability that her next birth will also be twins**</font>?"
   ]
  },
  {
   "cell_type": "code",
   "execution_count": 194,
   "metadata": {
    "Collapsed": "false",
    "hidden": true
   },
   "outputs": [
    {
     "data": {
      "text/html": [
       "0.166666666666667"
      ],
      "text/latex": [
       "0.166666666666667"
      ],
      "text/markdown": [
       "0.166666666666667"
      ],
      "text/plain": [
       "[1] 0.1666667"
      ]
     },
     "metadata": {},
     "output_type": "display_data"
    },
    {
     "data": {
      "text/html": [
       "<ol class=list-inline>\n",
       "\t<li>0.333333333333333</li>\n",
       "\t<li>0.666666666666667</li>\n",
       "</ol>\n"
      ],
      "text/latex": [
       "\\begin{enumerate*}\n",
       "\\item 0.333333333333333\n",
       "\\item 0.666666666666667\n",
       "\\end{enumerate*}\n"
      ],
      "text/markdown": [
       "1. 0.333333333333333\n",
       "2. 0.666666666666667\n",
       "\n",
       "\n"
      ],
      "text/plain": [
       "[1] 0.3333333 0.6666667"
      ]
     },
     "metadata": {},
     "output_type": "display_data"
    }
   ],
   "source": [
    "panda.A <- .10\n",
    "panda.B <- .20\n",
    "\n",
    "prior <- c(1,1)\n",
    "likelihood <- c(panda.A, panda.B)\n",
    "unstandardized.posterior <- prior*likelihood\n",
    "posterior <- unstandardized.posterior / sum(unstandardized.posterior )\n",
    "\n",
    "sum(posterior * likelihood)\n",
    "\n"
   ]
  },
  {
   "cell_type": "code",
   "execution_count": 182,
   "metadata": {
    "Collapsed": "false",
    "hidden": true
   },
   "outputs": [
    {
     "data": {
      "text/html": [
       "0.166666666666667"
      ],
      "text/latex": [
       "0.166666666666667"
      ],
      "text/markdown": [
       "0.166666666666667"
      ],
      "text/plain": [
       "[1] 0.1666667"
      ]
     },
     "metadata": {},
     "output_type": "display_data"
    },
    {
     "data": {
      "text/html": [
       "0.166666666666667"
      ],
      "text/latex": [
       "0.166666666666667"
      ],
      "text/markdown": [
       "0.166666666666667"
      ],
      "text/plain": [
       "[1] 0.1666667"
      ]
     },
     "metadata": {},
     "output_type": "display_data"
    }
   ],
   "source": [
    "## Hard ####\n",
    "# 2H1\n",
    "# p(twins) = p(species=A)*p(twins|A)+p(species=B)*p(twins|B)\n",
    "# before first breeding P(species=A)=p(species=B)=0.5\n",
    "# to get answer for the second round we need to calculate new p(A) and p(B)\n",
    "# it's posterior of first breeding that becomes prior for the second one\n",
    "# p(tweens_2|tweens_1) = p(species=A|tweens_1)*p(twins|A)+p(species=B|tweens_1)*p(twins|B)\n",
    "p_twins_A <- 0.1\n",
    "p_twins_B <- 0.2\n",
    "likelihood <- c(p_twins_A, p_twins_B)\n",
    "prior <- c(1, 1)\n",
    "posterior <- prior * likelihood\n",
    "posterior <- posterior/sum(posterior)\n",
    "\n",
    "# result\n",
    "sum(posterior*likelihood)\n",
    "# --------------------------------------------------------------------------\n",
    "# find posterior for plausibility of each pandas species following the first birth of twins\n",
    "species.1.likelihood <- .1\n",
    "species.2.likelihood <- .2\n",
    "likelihood <- c(species.1.likelihood, species.2.likelihood)\n",
    "prior <- c(1, 1)\n",
    "unstandardized.posterior <- likelihood * prior\n",
    "posterior <- unstandardized.posterior / sum(unstandardized.posterior)\n",
    "\n",
    "# probability next birth is set of twins\n",
    "posterior[1] * .1 + posterior[2] * .2"
   ]
  },
  {
   "cell_type": "markdown",
   "metadata": {
    "Collapsed": "false",
    "hidden": true
   },
   "source": [
    "<font color = 'purple'>2H2. Recall all the facts from the problem above. Now compute the probability that the panda we have is from species A, assuming we have observed only the first birth and that it was twins</font>."
   ]
  },
  {
   "cell_type": "code",
   "execution_count": 184,
   "metadata": {
    "Collapsed": "false",
    "hidden": true
   },
   "outputs": [
    {
     "data": {
      "text/html": [
       "0.333333333333333"
      ],
      "text/latex": [
       "0.333333333333333"
      ],
      "text/markdown": [
       "0.333333333333333"
      ],
      "text/plain": [
       "[1] 0.3333333"
      ]
     },
     "metadata": {},
     "output_type": "display_data"
    }
   ],
   "source": [
    "panda.A <- .10\n",
    "panda.B <- .20\n",
    "\n",
    "prior <- c(1,1)\n",
    "likelihood <- c(panda.A, panda.B)\n",
    "unstandardized.posterior <- prior*likelihood\n",
    "posterior <- unstandardized.posterior / sum(unstandardized.posterior )\n",
    "\n",
    "posterior[1]\n",
    "\n"
   ]
  },
  {
   "cell_type": "code",
   "execution_count": 186,
   "metadata": {
    "Collapsed": "false",
    "hidden": true
   },
   "outputs": [
    {
     "data": {
      "text/html": [
       "0.333333333333333"
      ],
      "text/latex": [
       "0.333333333333333"
      ],
      "text/markdown": [
       "0.333333333333333"
      ],
      "text/plain": [
       "[1] 0.3333333"
      ]
     },
     "metadata": {},
     "output_type": "display_data"
    },
    {
     "data": {
      "text/html": [
       "0.333333333333333"
      ],
      "text/latex": [
       "0.333333333333333"
      ],
      "text/markdown": [
       "0.333333333333333"
      ],
      "text/plain": [
       "[1] 0.3333333"
      ]
     },
     "metadata": {},
     "output_type": "display_data"
    }
   ],
   "source": [
    "## 2H2\n",
    "species.1.likelihood <- .1\n",
    "species.2.likelihood <- .2\n",
    "likelihood <- c(species.1.likelihood, species.2.likelihood)\n",
    "prior <- c(1, 1)\n",
    "unstandardized.posterior <- likelihood * prior\n",
    "posterior <- unstandardized.posterior / sum(unstandardized.posterior)\n",
    "\n",
    "# probability pandas is from species 1\n",
    "posterior[1]\n",
    "\n",
    "\n",
    "# 2H2\n",
    "# vanila Bayes rule\n",
    "p_twins_A <- 0.1\n",
    "p_twins_B <- 0.2\n",
    "likelihood <- c(p_twins_A, p_twins_B)\n",
    "prior <- c(1, 1)\n",
    "posterior <- prior * likelihood\n",
    "posterior <- posterior/sum(posterior)\n",
    "\n",
    "posterior[1] #0.33"
   ]
  },
  {
   "cell_type": "markdown",
   "metadata": {
    "Collapsed": "false",
    "hidden": true
   },
   "source": [
    "<font color = 'purple'>2H3. Continuing on from the previous problem, suppose the same panda mother has a second birth and that it is not twins, but a singleton infant. Compute the posterior probability that this panda is species A</font>."
   ]
  },
  {
   "cell_type": "code",
   "execution_count": 197,
   "metadata": {
    "Collapsed": "false",
    "hidden": true
   },
   "outputs": [
    {
     "data": {
      "text/html": [
       "0.36"
      ],
      "text/latex": [
       "0.36"
      ],
      "text/markdown": [
       "0.36"
      ],
      "text/plain": [
       "[1] 0.36"
      ]
     },
     "metadata": {},
     "output_type": "display_data"
    }
   ],
   "source": [
    "# single infant likelihood for round 2\n",
    "panda.A <- 0.1 * .90\n",
    "panda.B <- 0.2 * .80\n",
    "\n",
    "prior <- c(1,1)\n",
    "likelihood <- c(panda.A, panda.B)\n",
    "unstandardized.posterior <- prior * likelihood\n",
    "posterior <- unstandardized.posterior/sum(unstandardized.posterior)\n",
    "posterior[1]"
   ]
  },
  {
   "cell_type": "code",
   "execution_count": 210,
   "metadata": {
    "Collapsed": "false",
    "hidden": true
   },
   "outputs": [
    {
     "data": {
      "text/html": [
       "0.36"
      ],
      "text/latex": [
       "0.36"
      ],
      "text/markdown": [
       "0.36"
      ],
      "text/plain": [
       "[1] 0.36"
      ]
     },
     "metadata": {},
     "output_type": "display_data"
    }
   ],
   "source": [
    "### 2H3\n",
    "\n",
    "species.1.likelihood <- .1 * (1 - .1)\n",
    "species.2.likelihood <- .2 * (1 - .2)\n",
    "likelihood <- c(species.1.likelihood, species.2.likelihood)\n",
    "prior <- c(1, 1)\n",
    "unstandardized.posterior <- likelihood * prior\n",
    "posterior <- unstandardized.posterior / sum(unstandardized.posterior)\n",
    "\n",
    "# probability pandas is from species 1\n",
    "posterior[1]"
   ]
  },
  {
   "cell_type": "markdown",
   "metadata": {
    "Collapsed": "false",
    "hidden": true
   },
   "source": [
    "<font color = 'purple'>2H4. Acommon boast of Bayesian statisticians is that Bayesian inference makes it easy to use all of the data, even if the data are of different types.\n",
    "\n",
    "So suppose now that a veterinarian comes along who has a new genetic test that she claims can identify the species of our mother panda. But the test, like all tests, is imperfect. This is the information you have about the test:\n",
    "\n",
    "* The probability it correctly identifies a species A panda is 0.8.\n",
    "* The probability it correctly identifies a species B panda is 0.65.\n",
    "\n",
    "The vet administers the test to your panda and tells you that the test is positive for species A. First ignore your previous information from the births and compute the posterior probability that your panda is species A. Then redo your calculation, now using the birth data as well</font>."
   ]
  },
  {
   "cell_type": "markdown",
   "metadata": {
    "Collapsed": "false",
    "hidden": true
   },
   "source": [
    "<font color = 'purple'>**PART 1** without birth information</font>\n",
    "<hr>"
   ]
  },
  {
   "cell_type": "code",
   "execution_count": 217,
   "metadata": {
    "Collapsed": "false",
    "hidden": true
   },
   "outputs": [
    {
     "data": {
      "text/html": [
       "0.695652173913044"
      ],
      "text/latex": [
       "0.695652173913044"
      ],
      "text/markdown": [
       "0.695652173913044"
      ],
      "text/plain": [
       "[1] 0.6956522"
      ]
     },
     "metadata": {},
     "output_type": "display_data"
    }
   ],
   "source": [
    "# P(test=A | species=A) = 0.80\n",
    "# P(test=B | species=A) = 0.20\n",
    "# P(test=B | species=B) = 0.65\n",
    "# P(test=A | species=B) = 0.35\n",
    "\n",
    "# p(t=A)     = P(t=A|s=A)*p(s=A) + p(t=A|s=B)*p(s=B)\n",
    "# P(s=A|t=A) = (P(t=A|s=A)*p(s=A))/p(t=A)\n",
    "# P(s=A|t=A) = (0.8*0.5)/(0.80*0.5+0.35*0.5)\n",
    "\n",
    "posterior <- (0.8*0.5)/(0.80*0.5+0.35*0.5)\n",
    "posterior \n"
   ]
  },
  {
   "cell_type": "code",
   "execution_count": 221,
   "metadata": {
    "Collapsed": "false",
    "hidden": true
   },
   "outputs": [
    {
     "data": {
      "text/html": [
       "<ol class=list-inline>\n",
       "\t<li>0.695652173913044</li>\n",
       "\t<li>0.304347826086957</li>\n",
       "</ol>\n"
      ],
      "text/latex": [
       "\\begin{enumerate*}\n",
       "\\item 0.695652173913044\n",
       "\\item 0.304347826086957\n",
       "\\end{enumerate*}\n"
      ],
      "text/markdown": [
       "1. 0.695652173913044\n",
       "2. 0.304347826086957\n",
       "\n",
       "\n"
      ],
      "text/plain": [
       "[1] 0.6956522 0.3043478"
      ]
     },
     "metadata": {},
     "output_type": "display_data"
    },
    {
     "data": {
      "text/html": [
       "0.695652173913044"
      ],
      "text/latex": [
       "0.695652173913044"
      ],
      "text/markdown": [
       "0.695652173913044"
      ],
      "text/plain": [
       "[1] 0.6956522"
      ]
     },
     "metadata": {},
     "output_type": "display_data"
    }
   ],
   "source": [
    "### alternate soln\n",
    "\n",
    "# without birth information\n",
    "species.A.likelihood <- .8        #  <- P(test=A | species=A) \n",
    "species.B.likelihood <- 1 - .65   #  <-  P(test=A | species=B)\n",
    "\n",
    "likelihood <- c(species.A.likelihood, species.B.likelihood)\n",
    "prior <- c(1, 1)\n",
    "unstandardized.posterior <- likelihood * prior\n",
    "posterior.vtest <- unstandardized.posterior / sum(unstandardized.posterior)\n",
    "\n",
    "# probability pandas is from species 1, given veterinarian test\n",
    "posterior.vtest\n",
    "posterior.vtest[1]"
   ]
  },
  {
   "cell_type": "markdown",
   "metadata": {
    "Collapsed": "false",
    "hidden": true
   },
   "source": [
    "<font color = 'purple'>**PART 2** with birth information</font>\n",
    "<hr>"
   ]
  },
  {
   "cell_type": "code",
   "execution_count": 213,
   "metadata": {
    "Collapsed": "false",
    "hidden": true
   },
   "outputs": [
    {
     "data": {
      "text/html": [
       "<ol class=list-inline>\n",
       "\t<li>0.533333333333333</li>\n",
       "\t<li>0.466666666666667</li>\n",
       "</ol>\n"
      ],
      "text/latex": [
       "\\begin{enumerate*}\n",
       "\\item 0.533333333333333\n",
       "\\item 0.466666666666667\n",
       "\\end{enumerate*}\n"
      ],
      "text/markdown": [
       "1. 0.533333333333333\n",
       "2. 0.466666666666667\n",
       "\n",
       "\n"
      ],
      "text/plain": [
       "[1] 0.5333333 0.4666667"
      ]
     },
     "metadata": {},
     "output_type": "display_data"
    }
   ],
   "source": [
    "species.A.likelihood <- .8*0.10\n",
    "species.B.likelihood <- (1 - .65)*0.20\n",
    "likelihood <- c(species.A.likelihood, species.B.likelihood)\n",
    "prior <- c(1, 1)\n",
    "unstandardized.posterior <- likelihood * prior\n",
    "posterior<- unstandardized.posterior / sum(unstandardized.posterior)\n",
    "posterior\n"
   ]
  },
  {
   "cell_type": "code",
   "execution_count": 220,
   "metadata": {
    "Collapsed": "false",
    "hidden": true
   },
   "outputs": [
    {
     "data": {
      "text/html": [
       "<ol class=list-inline>\n",
       "\t<li>0.533333333333333</li>\n",
       "\t<li>0.466666666666667</li>\n",
       "</ol>\n"
      ],
      "text/latex": [
       "\\begin{enumerate*}\n",
       "\\item 0.533333333333333\n",
       "\\item 0.466666666666667\n",
       "\\end{enumerate*}\n"
      ],
      "text/markdown": [
       "1. 0.533333333333333\n",
       "2. 0.466666666666667\n",
       "\n",
       "\n"
      ],
      "text/plain": [
       "[1] 0.5333333 0.4666667"
      ]
     },
     "metadata": {},
     "output_type": "display_data"
    }
   ],
   "source": [
    "species.A.likelihood <- 0.10\n",
    "species.B.likelihood <- 0.20\n",
    "\n",
    "prior <- posterior.vtest  # c(0.695652173913044, 0.304347826086957)\n",
    "\n",
    "likelihood <- c(species.A.likelihood, species.B.likelihood)\n",
    "unstandardized.posterior <- prior * likelihood\n",
    "posterior <- unstandardized.posterior/sum(unstandardized.posterior)\n",
    "posterior\n"
   ]
  },
  {
   "cell_type": "code",
   "execution_count": 222,
   "metadata": {
    "Collapsed": "false",
    "hidden": true,
    "scrolled": true
   },
   "outputs": [
    {
     "data": {},
     "metadata": {},
     "output_type": "display_data"
    },
    {
     "data": {
      "image/png": "[encoded data removed]",
      "text/plain": [
       "plot without title"
      ]
     },
     "metadata": {},
     "output_type": "display_data"
    }
   ],
   "source": [
    "evidence = factor(rep(c(\"prior\", \n",
    "                        \"prior + twins\", \n",
    "                        \"prior + twins + single\", \n",
    "                        \"prior + twins + single + test = A\"), \n",
    "               each = 2), \n",
    "               levels = c(\"prior\", \n",
    "                        \"prior + twins\", \n",
    "                        \"prior + twins + single\", \n",
    "                        \"prior + twins + single + test = A\"))\n",
    "species = rep(c(\"Species A\", \"Species B\"), 4)\n",
    "prob = c(0.5, 0.5, 0.33, 0.67, 0.36, 0.64, 0.57, 0.43)\n",
    "change_df <- data.frame(species = species,\n",
    "                        evidence = evidence,\n",
    "                        prob = prob)\n",
    "ggplot(change_df, aes(x = evidence, \n",
    "                      y = prob, \n",
    "                      colour = species, \n",
    "                      group = species)) +\n",
    "  geom_line() +\n",
    "  geom_point(size = 3) +\n",
    "  theme_classic() +\n",
    "  theme(axis.text.x = element_text(angle = 45, vjust = 0.5)) +\n",
    "  xlab(\"Data\") +\n",
    "  ylab(\"Posterior Probability\")\n"
   ]
  },
  {
   "cell_type": "markdown",
   "metadata": {
    "Collapsed": "true"
   },
   "source": [
    "# HOMEWORK WEEK 1"
   ]
  },
  {
   "cell_type": "markdown",
   "metadata": {},
   "source": [
    "Lecture 1: The Golem of Prague\n",
    "\n",
    "- [Video](https://www.youtube.com/watch?v=4WVelCswXo4)\n",
    "- [Slides](https://speakerdeck.com/rmcelreath/l01-statistical-rethinking-winter-2019)\n",
    "\n",
    "Lecture 2: Garden of Forking Data\n",
    "\n",
    "- [Video](https://www.youtube.com/watch?v=XoVtOAN0htU)\n",
    "- [Slides](https://speakerdeck.com/rmcelreath/l02-statistical-rethinking-winter-2019)\n",
    "\n",
    "[Proposed problems](https://github.com/gbosquechacon/statrethinking_winter2019/blob/master/homework/week01.pdf) and [solutions in R](https://github.com/gbosquechacon/statrethinking_winter2019/blob/master/homework/week01_solutions.pdf) for the exercises of the week."
   ]
  },
  {
   "cell_type": "code",
   "execution_count": 11,
   "metadata": {
    "ExecuteTime": {
     "end_time": "2019-12-19T19:19:16.622753Z",
     "start_time": "2019-12-19T19:19:16.490Z"
    }
   },
   "outputs": [
    {
     "data": {
      "image/png": "[encoded data removed]",
      "text/plain": [
       "plot without title"
      ]
     },
     "metadata": {
      "image/png": {
       "height": 420,
       "width": 420
      }
     },
     "output_type": "display_data"
    }
   ],
   "source": [
    "# Question 1\n",
    "# Suppose the globe tossing data had turned out to be 8 water in 15 \n",
    "# tosses. Construct the posterior distribution, using grid \n",
    "# approximation. Use the same flat prior as before.\n",
    "\n",
    "intervals = 100\n",
    " # define grid\n",
    "p_grid <- seq( from=0 , to=1 , length.out=intervals )\n",
    "\n",
    "# define prior\n",
    "prior <- rep( 1 , intervals )                    # flat prior\n",
    "# prior <- ifelse( p_grid < 0.5 , 0 , 1 ) # step prior\n",
    "# prior <- exp( -5*abs( p_grid - 0.5 ) )  # peaked prior\n",
    "\n",
    "# compute likelihood at each value in grid\n",
    "likelihood <- dbinom( 8 , size=15 , prob=p_grid )\n",
    "\n",
    "# compute product of likelihood and prior\n",
    "unstd.posterior <- likelihood * prior\n",
    "\n",
    "# standardize the posterior, so it sums to 1\n",
    "posterior <- unstd.posterior / sum(unstd.posterior)\n",
    "\n",
    "plot( p_grid , posterior , type=\"b\" ,\n",
    "     xlab=\"probability of water\" , ylab=\"posterior probability\" )\n",
    "\n",
    "mtext( \"100 points\" )"
   ]
  }
 ],
 "metadata": {
  "hide_input": false,
  "kernelspec": {
   "display_name": "R",
   "language": "R",
   "name": "ir"
  },
  "language_info": {
   "codemirror_mode": "r",
   "file_extension": ".r",
   "mimetype": "text/x-r-source",
   "name": "R",
   "pygments_lexer": "r",
   "version": "3.6.2"
  },
  "toc": {
   "base_numbering": 1,
   "nav_menu": {},
   "number_sections": true,
   "sideBar": true,
   "skip_h1_title": false,
   "title_cell": "Table of Contents",
   "title_sidebar": "Contents",
   "toc_cell": true,
   "toc_position": {},
   "toc_section_display": true,
   "toc_window_display": false
  },
  "varInspector": {
   "cols": {
    "lenName": 16,
    "lenType": 16,
    "lenVar": 40
   },
   "kernels_config": {
    "python": {
     "delete_cmd_postfix": "",
     "delete_cmd_prefix": "del ",
     "library": "var_list.py",
     "varRefreshCmd": "print(var_dic_list())"
    },
    "r": {
     "delete_cmd_postfix": ") ",
     "delete_cmd_prefix": "rm(",
     "library": "var_list.r",
     "varRefreshCmd": "cat(var_dic_list()) "
    }
   },
   "position": {
    "height": "311px",
    "left": "1599px",
    "right": "20px",
    "top": "120px",
    "width": "301px"
   },
   "types_to_exclude": [
    "module",
    "function",
    "builtin_function_or_method",
    "instance",
    "_Feature"
   ],
   "window_display": false
  }
 },
 "nbformat": 4,
 "nbformat_minor": 4
}
