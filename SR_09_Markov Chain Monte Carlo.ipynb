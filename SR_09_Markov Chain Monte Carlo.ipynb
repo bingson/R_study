{
 "cells": [
  {
   "cell_type": "markdown",
   "metadata": {
    "toc": true
   },
   "source": [
    "<h1>Table of Contents<span class=\"tocSkip\"></span></h1>\n",
    "<div class=\"toc\"><ul class=\"toc-item\"><li><span><a href=\"#C9\" data-toc-modified-id=\"C9-1\"><span class=\"toc-item-num\">1&nbsp;&nbsp;</span>C9</a></span><ul class=\"toc-item\"><li><span><a href=\"#Good-king-Markov\" data-toc-modified-id=\"Good-king-Markov-1.1\"><span class=\"toc-item-num\">1.1&nbsp;&nbsp;</span>Good king Markov</a></span></li><li><span><a href=\"#Metropolis,-Gibbs,-and-Sadness\" data-toc-modified-id=\"Metropolis,-Gibbs,-and-Sadness-1.2\"><span class=\"toc-item-num\">1.2&nbsp;&nbsp;</span>Metropolis, Gibbs, and Sadness</a></span></li><li><span><a href=\"#Hamiltonian-Monte-Carlo\" data-toc-modified-id=\"Hamiltonian-Monte-Carlo-1.3\"><span class=\"toc-item-num\">1.3&nbsp;&nbsp;</span>Hamiltonian Monte Carlo</a></span></li><li><span><a href=\"#Easy-HMC:-ulam\" data-toc-modified-id=\"Easy-HMC:-ulam-1.4\"><span class=\"toc-item-num\">1.4&nbsp;&nbsp;</span>Easy HMC: ulam</a></span><ul class=\"toc-item\"><li><span><a href=\"#Preparation\" data-toc-modified-id=\"Preparation-1.4.1\"><span class=\"toc-item-num\">1.4.1&nbsp;&nbsp;</span>Preparation</a></span></li><li><span><a href=\"#Sampling-from-the-posterior\" data-toc-modified-id=\"Sampling-from-the-posterior-1.4.2\"><span class=\"toc-item-num\">1.4.2&nbsp;&nbsp;</span>Sampling from the posterior</a></span></li><li><span><a href=\"#Sampling-again,-in-parallel\" data-toc-modified-id=\"Sampling-again,-in-parallel-1.4.3\"><span class=\"toc-item-num\">1.4.3&nbsp;&nbsp;</span>Sampling again, in parallel</a></span></li></ul></li><li><span><a href=\"#Care-and-feeding-of-your-Markov-chain\" data-toc-modified-id=\"Care-and-feeding-of-your-Markov-chain-1.5\"><span class=\"toc-item-num\">1.5&nbsp;&nbsp;</span>Care and feeding of your Markov chain</a></span></li><li><span><a href=\"#Summary\" data-toc-modified-id=\"Summary-1.6\"><span class=\"toc-item-num\">1.6&nbsp;&nbsp;</span>Summary</a></span></li><li><span><a href=\"#Practice\" data-toc-modified-id=\"Practice-1.7\"><span class=\"toc-item-num\">1.7&nbsp;&nbsp;</span>Practice</a></span></li></ul></li><li><span><a href=\"#Misc\" data-toc-modified-id=\"Misc-2\"><span class=\"toc-item-num\">2&nbsp;&nbsp;</span>Misc</a></span><ul class=\"toc-item\"><li><span><a href=\"#1st-edition-MAP2STAN-code\" data-toc-modified-id=\"1st-edition-MAP2STAN-code-2.1\"><span class=\"toc-item-num\">2.1&nbsp;&nbsp;</span>1st edition MAP2STAN code</a></span></li><li><span><a href=\"#Setup\" data-toc-modified-id=\"Setup-2.2\"><span class=\"toc-item-num\">2.2&nbsp;&nbsp;</span>Setup</a></span></li><li><span><a href=\"#buffer\" data-toc-modified-id=\"buffer-2.3\"><span class=\"toc-item-num\">2.3&nbsp;&nbsp;</span>buffer</a></span></li></ul></li></ul></div>"
   ]
  },
  {
   "cell_type": "code",
   "execution_count": 2,
   "metadata": {},
   "outputs": [
    {
     "name": "stderr",
     "output_type": "stream",
     "text": [
      "-- Attaching packages --------------------------------------- tidyverse 1.2.1 --\n",
      "v ggplot2 3.1.0     v purrr   0.2.5\n",
      "v tibble  1.4.2     v dplyr   0.7.8\n",
      "v tidyr   0.8.2     v stringr 1.3.1\n",
      "v readr   1.1.1     v forcats 0.3.0\n",
      "-- Conflicts ------------------------------------------ tidyverse_conflicts() --\n",
      "x dplyr::filter()  masks stats::filter()\n",
      "x purrr::flatten() masks jsonlite::flatten()\n",
      "x dplyr::lag()     masks stats::lag()\n",
      "Loading required package: rstan\n",
      "Loading required package: StanHeaders\n",
      "rstan (Version 2.18.2, GitRev: 2e1f913d3ca3)\n",
      "For execution on a local, multicore CPU with excess RAM we recommend calling\n",
      "options(mc.cores = parallel::detectCores()).\n",
      "To avoid recompilation of unchanged Stan programs, we recommend calling\n",
      "rstan_options(auto_write = TRUE)\n",
      "For improved execution time, we recommend calling\n",
      "Sys.setenv(LOCAL_CPPFLAGS = '-march=native')\n",
      "although this causes Stan to throw an error on a few processors.\n",
      "\n",
      "Attaching package: 'rstan'\n",
      "\n",
      "The following object is masked from 'package:tidyr':\n",
      "\n",
      "    extract\n",
      "\n",
      "Loading required package: parallel\n",
      "rethinking (Version 1.84)\n",
      "\n",
      "Attaching package: 'rethinking'\n",
      "\n",
      "The following object is masked from 'package:purrr':\n",
      "\n",
      "    map\n",
      "\n"
     ]
    }
   ],
   "source": [
    "library(tidyverse)\n",
    "\n",
    "# loads experimental branch of statistical rethinking pkg\n",
    "library(rethinking, lib = \"C:/Users/bings/Documents/R/test-library\")"
   ]
  },
  {
   "cell_type": "markdown",
   "metadata": {},
   "source": [
    "# C9"
   ]
  },
  {
   "cell_type": "markdown",
   "metadata": {},
   "source": [
    "## Good king Markov "
   ]
  },
  {
   "cell_type": "markdown",
   "metadata": {},
   "source": [
    "## Metropolis, Gibbs, and Sadness"
   ]
  },
  {
   "cell_type": "markdown",
   "metadata": {},
   "source": [
    "## Hamiltonian Monte Carlo"
   ]
  },
  {
   "cell_type": "code",
   "execution_count": null,
   "metadata": {},
   "outputs": [],
   "source": [
    "mp <- map2stan( \n",
    "    alist(\n",
    "        a ~ dnorm(0,1),\n",
    "        b ~ dcauchy(0,1)\n",
    "    ),\n",
    "    data=list(y=1),\n",
    "    start=list(a=0,b=0),\n",
    "    iter=1e4, warmup=100 , WAIC=FALSE )"
   ]
  },
  {
   "cell_type": "code",
   "execution_count": 21,
   "metadata": {},
   "outputs": [
    {
     "name": "stdout",
     "output_type": "stream",
     "text": [
      "List of 3\n",
      " $ log_gpd_std: num [1:170] 0.88 0.965 1.166 1.104 0.915 ...\n",
      " $ rugged_std : num [1:170] 0.138 0.553 0.124 0.125 0.433 ...\n",
      " $ cid        : int [1:170] 1 2 2 2 2 2 2 2 2 1 ...\n"
     ]
    }
   ],
   "source": [
    "## R code 9.8\n",
    "# library(rethinking)\n",
    "data(rugged)\n",
    "d <- rugged\n",
    "d$log_gdp <- log(d$rgdppc_2000)\n",
    "dd <- d[ complete.cases(d$rgdppc_2000) , ]\n",
    "dd$log_gdp_std <- dd$log_gdp / mean(dd$log_gdp)\n",
    "dd$rugged_std <- dd$rugged / max(dd$rugged)\n",
    "dd$cid <- ifelse( dd$cont_africa==1 , 1 , 2 )\n",
    "\n",
    "## R code 9.10\n",
    "dat_slim <- list(\n",
    "    log_gpd_std = dd$log_gdp_std,\n",
    "    rugged_std = dd$rugged_std,\n",
    "    cid = as.integer( dd$cid )\n",
    ")\n",
    "str(dat_slim)"
   ]
  },
  {
   "cell_type": "code",
   "execution_count": 22,
   "metadata": {},
   "outputs": [
    {
     "name": "stderr",
     "output_type": "stream",
     "text": [
      "recompiling to avoid crashing R session\n",
      "no parameter log_lik; sampling not done\n"
     ]
    },
    {
     "name": "stdout",
     "output_type": "stream",
     "text": [
      "Stan model '0b611da47d227c55fe4fc3a5d9cb0482' does not contain samples.\n"
     ]
    },
    {
     "ename": "ERROR",
     "evalue": "Error in validObject(.Object): invalid class \"ulam\" object: invalid object for slot \"coef\" in class \"ulam\": got class \"NULL\", should be or extend class \"numeric\"\n",
     "output_type": "error",
     "traceback": [
      "Error in validObject(.Object): invalid class \"ulam\" object: invalid object for slot \"coef\" in class \"ulam\": got class \"NULL\", should be or extend class \"numeric\"\nTraceback:\n",
      "1. ulam(alist(log_gdp_std ~ dnorm(mu, sigma), mu <- a[cid] + b[cid] * \n .     (rugged_std - 0.215), a[cid] ~ dnorm(1, 0.1), b[cid] ~ dnorm(0, \n .     0.3), sigma ~ dexp(1)), data = dat_slim, chains = 1, log_lik = TRUE)",
      "2. new(\"ulam\", call = match.call(), model = model_code, stanfit = stanfit, \n .     coef = coef, vcov = varcov, data = data, start = list(start), \n .     pars = use_pars, formula = flist.orig, formula_parsed = formula_parsed)",
      "3. initialize(value, ...)",
      "4. initialize(value, ...)",
      "5. validObject(.Object)",
      "6. stop(msg, \": \", errors, domain = NA)"
     ]
    }
   ],
   "source": [
    "## R code 9.11\n",
    "m9.1 <- ulam(\n",
    "    alist(\n",
    "        log_gdp_std ~ dnorm( mu , sigma ) ,\n",
    "        mu <- a[cid] + b[cid]*( rugged_std - 0.215 ) ,\n",
    "        a[cid] ~ dnorm( 1 , 0.1 ) ,\n",
    "        b[cid] ~ dnorm( 0 , 0.3 ) ,\n",
    "        sigma ~ dexp( 1 )\n",
    "    ) ,\n",
    "    data=dat_slim , chains=1, log_lik=TRUE )"
   ]
  },
  {
   "cell_type": "code",
   "execution_count": null,
   "metadata": {},
   "outputs": [],
   "source": [
    "D <- 10\n",
    "T <- 1e3\n",
    "Y <- rmvnorm(T,rep(0,D),diag(D))\n",
    "rad_dist <- function( Y ) sqrt( sum(Y^2) )\n",
    "Rd <- sapply( 1:T , function(i) rad_dist( Y[i,] ) )\n",
    "dens( Rd )"
   ]
  },
  {
   "cell_type": "markdown",
   "metadata": {},
   "source": [
    "##### Overthinking: Hamiltonian Monte Carlo in the raw."
   ]
  },
  {
   "cell_type": "code",
   "execution_count": null,
   "metadata": {},
   "outputs": [],
   "source": [
    "# U needs to return neg-log-probability\n",
    "myU4 <- function( q , a=0 , b=1 , k=0 , d=1 ) {\n",
    "    muy <- q[1]\n",
    "    mux <- q[2]\n",
    "    U <- sum( dnorm(y,muy,1,log=TRUE) ) + sum( dnorm(x,mux,1,log=TRUE) ) +\n",
    "        dnorm(muy,a,b,log=TRUE) + dnorm(mux,k,d,log=TRUE)\n",
    "    return( -U )\n",
    "}"
   ]
  },
  {
   "cell_type": "code",
   "execution_count": null,
   "metadata": {},
   "outputs": [],
   "source": [
    " # gradient function\n",
    "# need vector of partial derivatives of U with respect to vector q\n",
    "myU_grad4 <- function( q , a=0 , b=1 , k=0 , d=1 ) {\n",
    "    muy <- q[1]\n",
    "    mux <- q[2]\n",
    "    G1 <- sum( y - muy ) + (a - muy)/b^2 #dU/dmuy\n",
    "    G2 <- sum( x - mux ) + (k - mux)/d^2 #dU/dmuy\n",
    "    return( c( -G1 , -G2 ) ) # negative bc energy is neg-log-prob\n",
    "}\n",
    "# test data\n",
    "set.seed(7)\n",
    "y <- rnorm(50)\n",
    "x <- rnorm(50)\n",
    "x <- as.numeric(scale(x))\n",
    "y <- as.numeric(scale(y))"
   ]
  },
  {
   "cell_type": "code",
   "execution_count": null,
   "metadata": {},
   "outputs": [],
   "source": [
    "library(shape) # for fancy arrows\n",
    "Q <- list()\n",
    "Q$q <- c(-0.1,0.2)\n",
    "pr <- 0.3\n",
    "plot( NULL , ylab=\"muy\" , xlab=\"mux\" , xlim=c(-pr,pr) , ylim=c(-pr,pr) )\n",
    "step <- 0.03\n",
    "\n",
    "L <- 11 # 0.03/28 for U-turns --- 11 for working example\n",
    "n_samples <- 4\n",
    "path_col <- col.alpha(\"black\",0.5)\n",
    "points( Q$q[1] , Q$q[2] , pch=4 , col=\"black\" )\n",
    "for ( i in 1:n_samples ) {\n",
    "    Q <- HMC2( myU4 , myU_grad4 , step , L , Q$q )\n",
    "    if ( n_samples < 10 ) {\n",
    "        for ( j in 1:L ) {\n",
    "            K0 <- sum(Q$ptraj[j,]^2)/2 # kinetic energy\n",
    "            lines( Q$traj[j:(j+1),1] , Q$traj[j:(j+1),2] , col=path_col , lwd=1+2*K0 )\n",
    "        }\n",
    "        points( Q$traj[1:L+1,] , pch=16 , col=\"white\" , cex=0.35 )\n",
    "        Arrows( Q$traj[L,1] , Q$traj[L,2] , Q$traj[L+1,1] , Q$traj[L+1,2] ,\n",
    "            arr.length=0.35 , arr.adj = 0.7 )\n",
    "        text( Q$traj[L+1,1] , Q$traj[L+1,2] , i , cex=0.8 , pos=4 , offset=0.4 )\n",
    "    }\n",
    "    points( Q$traj[L+1,1] , Q$traj[L+1,2] , pch=ifelse( Q$accept==1 , 16 , 1 ) ,\n",
    "        col=ifelse( abs(Q$dH)>0.1 , \"red\" , \"black\" ) )\n",
    "}"
   ]
  },
  {
   "cell_type": "code",
   "execution_count": null,
   "metadata": {},
   "outputs": [],
   "source": [
    "HMC2 <- function (U, grad_U, epsilon, L, current_q) { 9.6\n",
    "    q = current_q\n",
    "    p = rnorm(length(q),0,1) # random flick - p is momentum.\n",
    "    current_p = p\n",
    "    # Make a half step for momentum at the beginning\n",
    "    p = p - epsilon * grad_U(q) / 2\n",
    "    # initialize bookkeeping - saves trajectory\n",
    "    qtraj <- matrix(NA,nrow=L+1,ncol=length(q))\n",
    "    ptraj <- qtraj\n",
    "    qtraj[1,] <- current_q\n",
    "    ptraj[1,] <- p\n",
    "}\n",
    "                                                     \n",
    "                                                "
   ]
  },
  {
   "cell_type": "markdown",
   "metadata": {},
   "source": [
    "## Easy HMC: ulam"
   ]
  },
  {
   "cell_type": "markdown",
   "metadata": {},
   "source": [
    "### Preparation"
   ]
  },
  {
   "cell_type": "code",
   "execution_count": 3,
   "metadata": {},
   "outputs": [],
   "source": [
    "## R code 9.8\n",
    "# library(rethinking)\n",
    "data(rugged)\n",
    "d <- rugged\n",
    "d$log_gdp <- log(d$rgdppc_2000)\n",
    "dd <- d[ complete.cases(d$rgdppc_2000) , ]\n",
    "dd$log_gdp_std <- dd$log_gdp / mean(dd$log_gdp)\n",
    "dd$rugged_std <- dd$rugged / max(dd$rugged)\n",
    "dd$cid <- ifelse( dd$cont_africa==1 , 1 , 2 )"
   ]
  },
  {
   "cell_type": "code",
   "execution_count": 4,
   "metadata": {},
   "outputs": [
    {
     "data": {
      "text/html": [
       "<table>\n",
       "<thead><tr><th></th><th scope=col>mean</th><th scope=col>sd</th><th scope=col>5.5%</th><th scope=col>94.5%</th></tr></thead>\n",
       "<tbody>\n",
       "\t<tr><th scope=row>a[1]</th><td> 0.89</td><td>0.02 </td><td> 0.86</td><td> 0.91</td></tr>\n",
       "\t<tr><th scope=row>a[2]</th><td> 1.05</td><td>0.01 </td><td> 1.03</td><td> 1.07</td></tr>\n",
       "\t<tr><th scope=row>b[1]</th><td> 0.13</td><td>0.07 </td><td> 0.01</td><td> 0.25</td></tr>\n",
       "\t<tr><th scope=row>b[2]</th><td>-0.14</td><td>0.05 </td><td>-0.23</td><td>-0.06</td></tr>\n",
       "\t<tr><th scope=row>sigma</th><td> 0.11</td><td>0.01 </td><td> 0.10</td><td> 0.12</td></tr>\n",
       "</tbody>\n",
       "</table>\n"
      ],
      "text/latex": [
       "\\begin{tabular}{r|llll}\n",
       "  & mean & sd & 5.5\\% & 94.5\\%\\\\\n",
       "\\hline\n",
       "\ta{[}1{]} &  0.89 & 0.02  &  0.86 &  0.91\\\\\n",
       "\ta{[}2{]} &  1.05 & 0.01  &  1.03 &  1.07\\\\\n",
       "\tb{[}1{]} &  0.13 & 0.07  &  0.01 &  0.25\\\\\n",
       "\tb{[}2{]} & -0.14 & 0.05  & -0.23 & -0.06\\\\\n",
       "\tsigma &  0.11 & 0.01  &  0.10 &  0.12\\\\\n",
       "\\end{tabular}\n"
      ],
      "text/markdown": [
       "\n",
       "| <!--/--> | mean | sd | 5.5% | 94.5% | \n",
       "|---|---|---|---|---|\n",
       "| a[1] |  0.89 | 0.02  |  0.86 |  0.91 | \n",
       "| a[2] |  1.05 | 0.01  |  1.03 |  1.07 | \n",
       "| b[1] |  0.13 | 0.07  |  0.01 |  0.25 | \n",
       "| b[2] | -0.14 | 0.05  | -0.23 | -0.06 | \n",
       "| sigma |  0.11 | 0.01  |  0.10 |  0.12 | \n",
       "\n",
       "\n"
      ],
      "text/plain": [
       "      mean  sd   5.5%  94.5%\n",
       "a[1]   0.89 0.02  0.86  0.91\n",
       "a[2]   1.05 0.01  1.03  1.07\n",
       "b[1]   0.13 0.07  0.01  0.25\n",
       "b[2]  -0.14 0.05 -0.23 -0.06\n",
       "sigma  0.11 0.01  0.10  0.12"
      ]
     },
     "metadata": {},
     "output_type": "display_data"
    }
   ],
   "source": [
    "## R code 9.10\n",
    "m8.5 <- quap(\n",
    "    alist(\n",
    "        log_gdp_std ~ dnorm( mu , sigma ) ,\n",
    "        mu <- a[cid] + b[cid]*( rugged_std - 0.215 ) ,\n",
    "        a[cid] ~ dnorm( 1 , 0.1 ) ,\n",
    "        b[cid] ~ dnorm( 0 , 0.3 ) ,\n",
    "        sigma ~ dexp( 1 )\n",
    "    ) ,\n",
    "    data=dd )\n",
    "precis( m8.5 , depth=2 ) %>% round(2)"
   ]
  },
  {
   "cell_type": "code",
   "execution_count": 5,
   "metadata": {},
   "outputs": [
    {
     "name": "stdout",
     "output_type": "stream",
     "text": [
      "List of 3\n",
      " $ log_gpd_std: num [1:170] 0.88 0.965 1.166 1.104 0.915 ...\n",
      " $ rugged_std : num [1:170] 0.138 0.553 0.124 0.125 0.433 ...\n",
      " $ cid        : int [1:170] 1 2 2 2 2 2 2 2 2 1 ...\n"
     ]
    }
   ],
   "source": [
    "dat_slim <- list(\n",
    "    log_gpd_std = dd$log_gdp_std,\n",
    "    rugged_std = dd$rugged_std,\n",
    "    cid = as.integer( dd$cid )\n",
    ")\n",
    "str(dat_slim)"
   ]
  },
  {
   "cell_type": "markdown",
   "metadata": {},
   "source": [
    "### Sampling from the posterior"
   ]
  },
  {
   "cell_type": "code",
   "execution_count": 7,
   "metadata": {},
   "outputs": [
    {
     "name": "stderr",
     "output_type": "stream",
     "text": [
      "recompiling to avoid crashing R session\n"
     ]
    },
    {
     "name": "stdout",
     "output_type": "stream",
     "text": [
      "\n",
      "SAMPLING FOR MODEL '80a897196485f3ddc0a84a5d5f9d588c' NOW (CHAIN 1).\n",
      "Chain 1: \n",
      "Chain 1: Gradient evaluation took 0.001 seconds\n",
      "Chain 1: 1000 transitions using 10 leapfrog steps per transition would take 10 seconds.\n",
      "Chain 1: Adjust your expectations accordingly!\n",
      "Chain 1: \n",
      "Chain 1: \n",
      "Chain 1: Iteration:   1 / 1000 [  0%]  (Warmup)\n",
      "Chain 1: Iteration: 100 / 1000 [ 10%]  (Warmup)\n",
      "Chain 1: Iteration: 200 / 1000 [ 20%]  (Warmup)\n",
      "Chain 1: Iteration: 300 / 1000 [ 30%]  (Warmup)\n",
      "Chain 1: Iteration: 400 / 1000 [ 40%]  (Warmup)\n",
      "Chain 1: Iteration: 500 / 1000 [ 50%]  (Warmup)\n",
      "Chain 1: Iteration: 501 / 1000 [ 50%]  (Sampling)\n",
      "Chain 1: Iteration: 600 / 1000 [ 60%]  (Sampling)\n",
      "Chain 1: Iteration: 700 / 1000 [ 70%]  (Sampling)\n",
      "Chain 1: Iteration: 800 / 1000 [ 80%]  (Sampling)\n",
      "Chain 1: Iteration: 900 / 1000 [ 90%]  (Sampling)\n",
      "Chain 1: Iteration: 1000 / 1000 [100%]  (Sampling)\n",
      "Chain 1: \n",
      "Chain 1:  Elapsed Time: 1.949 seconds (Warm-up)\n",
      "Chain 1:                2.685 seconds (Sampling)\n",
      "Chain 1:                4.634 seconds (Total)\n",
      "Chain 1: \n"
     ]
    },
    {
     "name": "stderr",
     "output_type": "stream",
     "text": [
      "Warning message:\n",
      "\"There were 238 transitions after warmup that exceeded the maximum treedepth. Increase max_treedepth above 10. See\n",
      "http://mc-stan.org/misc/warnings.html#maximum-treedepth-exceeded\"Warning message:\n",
      "\"There were 1 chains where the estimated Bayesian Fraction of Missing Information was low. See\n",
      "http://mc-stan.org/misc/warnings.html#bfmi-low\"Warning message:\n",
      "\"Examine the pairs() plot to diagnose sampling problems\n",
      "\""
     ]
    }
   ],
   "source": [
    "m9.1 <- ulam(\n",
    "    alist(\n",
    "        log_gdp_std ~ dnorm( mu , sigma ) ,\n",
    "        mu <- a[cid] + b[cid]*( rugged_std - 0.215 ) ,\n",
    "        a[cid] ~ dnorm( 1 , 0.1 ) ,\n",
    "        b[cid] ~ dnorm( 0 , 0.3 ) ,\n",
    "        sigma ~ dexp( 1 )\n",
    "    ) ,\n",
    "    data=dat_slim , \n",
    "    chains=1,\n",
    "    control=list(adapt_delta=0.99))"
   ]
  },
  {
   "cell_type": "raw",
   "metadata": {
    "collapsed": true
   },
   "source": [
    "m9.1 <- ulam(\n",
    "    alist(\n",
    "        log_gdp_std ~ dnorm( mu , sigma ) ,\n",
    "        mu <- a[cid] + b[cid]*( rugged_std - 0.215 ) ,\n",
    "        a[cid] ~ dnorm( 1 , 0.1 ) ,\n",
    "        b[cid] ~ dnorm( 0 , 0.3 ) ,\n",
    "        sigma ~ dexp( 1 )\n",
    "    ) ,\n",
    "    data=dat_slim , \n",
    "    chains=1,  \n",
    "    control=list(max_treedepth=20, adapt_delta=0.99) )"
   ]
  },
  {
   "cell_type": "markdown",
   "metadata": {},
   "source": [
    "All that ulam does is translate the formula above into a Stan model, and then Stan defines the sampler and does the hard part. Stan models look very similar, but require some more explicit definitions. This also makes them much more flexible. If you’d rather start working directly with Stan code, I’ll present this same model in raw Stan for a bit later. You can always extract the Stan code with `stancode(m9.1)`."
   ]
  },
  {
   "cell_type": "code",
   "execution_count": null,
   "metadata": {},
   "outputs": [],
   "source": [
    "stancode(m9.1)"
   ]
  },
  {
   "cell_type": "code",
   "execution_count": 7,
   "metadata": {
    "scrolled": false
   },
   "outputs": [
    {
     "data": {
      "text/html": [
       "<table>\n",
       "<thead><tr><th></th><th scope=col>mean</th><th scope=col>sd</th><th scope=col>5.5%</th><th scope=col>94.5%</th><th scope=col>n_eff</th><th scope=col>Rhat</th></tr></thead>\n",
       "<tbody>\n",
       "\t<tr><th scope=row>log_gdp_std</th><td>0.85  </td><td>0     </td><td>0.85  </td><td>0.85  </td><td>  5.19</td><td>1.01  </td></tr>\n",
       "\t<tr><th scope=row>a[1]</th><td>0.85  </td><td>0     </td><td>0.85  </td><td>0.85  </td><td>  5.19</td><td>1.01  </td></tr>\n",
       "\t<tr><th scope=row>a[2]</th><td>0.85  </td><td>0     </td><td>0.85  </td><td>0.85  </td><td>  5.19</td><td>1.01  </td></tr>\n",
       "\t<tr><th scope=row>b[1]</th><td>0.00  </td><td>0     </td><td>0.00  </td><td>0.00  </td><td>429.60</td><td>1.00  </td></tr>\n",
       "\t<tr><th scope=row>b[2]</th><td>0.00  </td><td>0     </td><td>0.00  </td><td>0.00  </td><td>349.66</td><td>1.00  </td></tr>\n",
       "\t<tr><th scope=row>sigma</th><td>0.00  </td><td>0     </td><td>0.00  </td><td>0.00  </td><td>  2.52</td><td>2.55  </td></tr>\n",
       "</tbody>\n",
       "</table>\n"
      ],
      "text/latex": [
       "\\begin{tabular}{r|llllll}\n",
       "  & mean & sd & 5.5\\% & 94.5\\% & n\\_eff & Rhat\\\\\n",
       "\\hline\n",
       "\tlog\\_gdp\\_std & 0.85   & 0      & 0.85   & 0.85   &   5.19 & 1.01  \\\\\n",
       "\ta{[}1{]} & 0.85   & 0      & 0.85   & 0.85   &   5.19 & 1.01  \\\\\n",
       "\ta{[}2{]} & 0.85   & 0      & 0.85   & 0.85   &   5.19 & 1.01  \\\\\n",
       "\tb{[}1{]} & 0.00   & 0      & 0.00   & 0.00   & 429.60 & 1.00  \\\\\n",
       "\tb{[}2{]} & 0.00   & 0      & 0.00   & 0.00   & 349.66 & 1.00  \\\\\n",
       "\tsigma & 0.00   & 0      & 0.00   & 0.00   &   2.52 & 2.55  \\\\\n",
       "\\end{tabular}\n"
      ],
      "text/markdown": [
       "\n",
       "| <!--/--> | mean | sd | 5.5% | 94.5% | n_eff | Rhat | \n",
       "|---|---|---|---|---|---|\n",
       "| log_gdp_std | 0.85   | 0      | 0.85   | 0.85   |   5.19 | 1.01   | \n",
       "| a[1] | 0.85   | 0      | 0.85   | 0.85   |   5.19 | 1.01   | \n",
       "| a[2] | 0.85   | 0      | 0.85   | 0.85   |   5.19 | 1.01   | \n",
       "| b[1] | 0.00   | 0      | 0.00   | 0.00   | 429.60 | 1.00   | \n",
       "| b[2] | 0.00   | 0      | 0.00   | 0.00   | 349.66 | 1.00   | \n",
       "| sigma | 0.00   | 0      | 0.00   | 0.00   |   2.52 | 2.55   | \n",
       "\n",
       "\n"
      ],
      "text/plain": [
       "            mean sd 5.5% 94.5% n_eff  Rhat\n",
       "log_gdp_std 0.85 0  0.85 0.85    5.19 1.01\n",
       "a[1]        0.85 0  0.85 0.85    5.19 1.01\n",
       "a[2]        0.85 0  0.85 0.85    5.19 1.01\n",
       "b[1]        0.00 0  0.00 0.00  429.60 1.00\n",
       "b[2]        0.00 0  0.00 0.00  349.66 1.00\n",
       "sigma       0.00 0  0.00 0.00    2.52 2.55"
      ]
     },
     "metadata": {},
     "output_type": "display_data"
    }
   ],
   "source": [
    "precis( m9.1 , depth=2 ) %>% round(2)"
   ]
  },
  {
   "cell_type": "markdown",
   "metadata": {},
   "source": [
    "### Sampling again, in parallel"
   ]
  },
  {
   "cell_type": "code",
   "execution_count": null,
   "metadata": {},
   "outputs": [],
   "source": [
    "## R code 9.14\n",
    "m9.1 <- ulam(\n",
    "    alist(\n",
    "        log_gdp_std ~ dnorm( mu , sigma ) ,\n",
    "        mu <- a[cid] + b[cid]*( rugged_std - 0.215 ) ,\n",
    "        a[cid] ~ dnorm( 1 , 0.1 ) ,\n",
    "        b[cid] ~ dnorm( 0 , 0.3 ) ,\n",
    "        sigma ~ dexp( 1 )\n",
    "    ) ,\n",
    "    data=dat_slim , chains=2 , cores=2 , iter=1000,\n",
    "    control=list(max_treedepth=20, adapt_delta=0.99))"
   ]
  },
  {
   "cell_type": "raw",
   "metadata": {
    "code_folding": []
   },
   "source": [
    "## R code 9.14\n",
    "m9.1 <- map2stan(\n",
    "    alist(\n",
    "        log_gdp_std ~ dnorm( mu , sigma ) ,\n",
    "        mu <- a[cid] + b[cid]*( rugged_std - 0.215 ) ,\n",
    "        a[cid] ~ dnorm( 1 , 0.1 ) ,\n",
    "        b[cid] ~ dnorm( 0 , 0.3 ) ,\n",
    "        sigma ~ dexp( 1 )\n",
    "    ) ,\n",
    "    data=dat_slim , chains=4 , cores=2 , iter=1000,\n",
    "    control=list(max_treedepth=20, adapt_delta=0.99))"
   ]
  },
  {
   "cell_type": "code",
   "execution_count": 9,
   "metadata": {
    "collapsed": true
   },
   "outputs": [
    {
     "data": {
      "image/png": "[encoded data removed]",
      "text/plain": [
       "plot without title"
      ]
     },
     "metadata": {},
     "output_type": "display_data"
    }
   ],
   "source": [
    "pairs( m9.1@stanfit )"
   ]
  },
  {
   "cell_type": "code",
   "execution_count": 8,
   "metadata": {
    "collapsed": true
   },
   "outputs": [
    {
     "data": {
      "image/png": "[encoded data removed]",
      "text/plain": [
       "plot without title"
      ]
     },
     "metadata": {},
     "output_type": "display_data"
    }
   ],
   "source": [
    "traceplot( m9.1 )"
   ]
  },
  {
   "cell_type": "code",
   "execution_count": null,
   "metadata": {},
   "outputs": [],
   "source": [
    "precis( m9.1 , depth=2 ) %>% round(2)"
   ]
  },
  {
   "cell_type": "code",
   "execution_count": null,
   "metadata": {},
   "outputs": [],
   "source": [
    "show( m9.1 )"
   ]
  },
  {
   "cell_type": "code",
   "execution_count": null,
   "metadata": {},
   "outputs": [],
   "source": [
    "pairs( m9.1 )"
   ]
  },
  {
   "cell_type": "markdown",
   "metadata": {},
   "source": []
  },
  {
   "cell_type": "code",
   "execution_count": null,
   "metadata": {},
   "outputs": [],
   "source": []
  },
  {
   "cell_type": "markdown",
   "metadata": {},
   "source": [
    "## Care and feeding of your Markov chain"
   ]
  },
  {
   "cell_type": "markdown",
   "metadata": {},
   "source": [
    "## Summary"
   ]
  },
  {
   "cell_type": "markdown",
   "metadata": {},
   "source": [
    "## Practice"
   ]
  },
  {
   "cell_type": "markdown",
   "metadata": {
    "heading_collapsed": true
   },
   "source": [
    "##### Easy"
   ]
  },
  {
   "cell_type": "raw",
   "metadata": {
    "hidden": true
   },
   "source": [
    "8E1. Which of the following is a requirement of the simple Metropolis algorithm?\n",
    "\n",
    "(1) The parameters must be discrete.\n",
    "(2) The likelihood function must be Gaussian.\n",
    "(3) The proposal distribution must be symmetric."
   ]
  },
  {
   "cell_type": "markdown",
   "metadata": {
    "hidden": true
   },
   "source": [
    "Only (3) is required."
   ]
  },
  {
   "cell_type": "markdown",
   "metadata": {
    "hidden": true
   },
   "source": [
    "**<font color = 'purple' style='background-color: lightyellow'>8E2. Gibbs sampling is more efficient than the Metropolis algorithm. How does it achieve this extra efficiency? Are there any limitations to the Gibbs sampling strategy?</font>**"
   ]
  },
  {
   "cell_type": "markdown",
   "metadata": {
    "hidden": true
   },
   "source": [
    "Gibbs sampling requires that we use special priors that are conjugate with the likelihood. \n",
    "\n",
    "* This means that holding all the other parameters constant, it is possible to derive analytical solutions for the posterior distribution of each parameter. \n",
    "\n",
    "* These conditional distributions are used to make smart proposals for jumps in the Markov chain. \n",
    "\n",
    "* <font color = 'red'>Gibbs sampling is limited both by the necessity to use conjugate priors, as well as its tendency to get stuck in small regions of the posterior when the posterior distribution has either highly correlated parameters or high dimension</font>."
   ]
  },
  {
   "cell_type": "markdown",
   "metadata": {
    "hidden": true
   },
   "source": [
    "**<font color = 'purple' style='background-color: lightyellow'>8E3. Which sort of parameters can Hamiltonian Monte Carlo not handle? Can you explain why?</font>**"
   ]
  },
  {
   "cell_type": "markdown",
   "metadata": {
    "hidden": true
   },
   "source": [
    "Hamiltonian Monte Carlo cannot handle discrete parameters. This is because it requires a smooth surface to glide its imaginary particle over while sampling from the posterior distribution."
   ]
  },
  {
   "cell_type": "markdown",
   "metadata": {
    "hidden": true
   },
   "source": [
    "**<font color = 'purple' style='background-color: lightyellow'>8E4. Explain the difference between the effective number of samples, n_eff as calculated by Stan, and the actual number of samples.</font>**"
   ]
  },
  {
   "cell_type": "markdown",
   "metadata": {
    "hidden": true
   },
   "source": [
    "better than random samples of the function contours. "
   ]
  },
  {
   "cell_type": "markdown",
   "metadata": {
    "hidden": true
   },
   "source": [
    "8E4. The effect number of samples n_eff is an <font color = 'blue'>estimate of the number of completely independent samples that would hold equivalent information about the posterior distribution</font>. \n",
    "\n",
    "* It is always smaller than the actual number of samples, because samples from a Markov chain tend to sequentially correlated or autocorrelated. \n",
    "\n",
    "* As autocorrelation rises, n_eff gets smaller. At the limit of perfect autocorrelation, for example, all samples would have the same value and n_eff would be equal to 1, no matter the actual number of samples drawn."
   ]
  },
  {
   "cell_type": "markdown",
   "metadata": {
    "hidden": true
   },
   "source": [
    "**<font color = 'purple' style='background-color: lightyellow'>8E5. Which value should Rhat approach, when a chain is sampling the posterior distribution correctly?</font>**"
   ]
  },
  {
   "cell_type": "markdown",
   "metadata": {
    "hidden": true
   },
   "source": [
    "8E5. Rhat should approach 1. How close should it get? People disagree, but it is common to judge that <font color = 'blue'>any value less than 1.1 indicates convergence. But like all heuristic indicators, Rhat can be fooled.</font>"
   ]
  },
  {
   "cell_type": "markdown",
   "metadata": {
    "hidden": true
   },
   "source": [
    "**<font color = 'purple' style='background-color: lightyellow'>8E6. Sketch a good trace plot for a Markov chain, one that is effectively sampling from the posterior distribution. What is good about its shape? Then sketch a trace plot for a malfunctioning Markov chain. What about its shape indicates malfunction?</font>**"
   ]
  },
  {
   "cell_type": "markdown",
   "metadata": {
    "hidden": true
   },
   "source": [
    "8E6. <font color = 'blue'>A healthy Markov chain should be both stationary and well-mixing</font>. The first is necessary for inference. The second is desirable, because it means the chain is more efficient. \n",
    "\n",
    "A chain that is both of these things should resemble horizontal noise. A chain that is malfunctioning, as the problem asks, would not be stationary. <font color = 'blue'>THis means it is not converging to the target distribution, the posterior distribution</font>. Examples were provided in the chapter. A virtue of Hamiltonian Monte Carlo is that it makes such chains very obvious: they tend to be rather flat wandering trends. Sometimes they are perfectly flat. \n",
    "\n",
    "The best test of convergence is always to compare multiple chains. So the best sketch of a malfunctioning trace plot would be one that shows multiple chains wandering into different regions of the parameter space. Figure 8.7 in the chapter, left side, provides an example."
   ]
  },
  {
   "cell_type": "markdown",
   "metadata": {},
   "source": [
    "##### Medium"
   ]
  },
  {
   "cell_type": "markdown",
   "metadata": {},
   "source": [
    "**<font color = 'purple' style='background-color: lightyellow'>8M1. Re-estimate the terrain ruggedness model from the chapter, but now using a uniform prior and an exponential prior for the standard deviation, sigma. The uniform prior should be dunif(0,10) and the exponential should be dexp(1). Do the different priors have any detectible influence on the posterior distribution?</font>**"
   ]
  },
  {
   "cell_type": "code",
   "execution_count": 2,
   "metadata": {},
   "outputs": [],
   "source": [
    "# load and rep data 7.1\n",
    "# library(rethinking)\n",
    "data(rugged)\n",
    "d <- rugged\n",
    "d$log_gdp <- log(d$rgdppc_2000)\n",
    "dd <- d[ complete.cases(d$rgdppc_2000) , ]\n",
    "\n",
    "dd.trim <- dd[ , c(\"log_gdp\",\"rugged\",\"cont_africa\") ]"
   ]
  },
  {
   "cell_type": "code",
   "execution_count": 3,
   "metadata": {
    "collapsed": true
   },
   "outputs": [
    {
     "name": "stdout",
     "output_type": "stream",
     "text": [
      "\n",
      "SAMPLING FOR MODEL 'bd26149503beddf8dc469911ea270182' NOW (CHAIN 1).\n",
      "Chain 1: \n",
      "Chain 1: Gradient evaluation took 0 seconds\n",
      "Chain 1: 1000 transitions using 10 leapfrog steps per transition would take 0 seconds.\n",
      "Chain 1: Adjust your expectations accordingly!\n",
      "Chain 1: \n",
      "Chain 1: \n",
      "Chain 1: Iteration:    1 / 2000 [  0%]  (Warmup)\n",
      "Chain 1: Iteration:  200 / 2000 [ 10%]  (Warmup)\n",
      "Chain 1: Iteration:  400 / 2000 [ 20%]  (Warmup)\n",
      "Chain 1: Iteration:  600 / 2000 [ 30%]  (Warmup)\n",
      "Chain 1: Iteration:  800 / 2000 [ 40%]  (Warmup)\n",
      "Chain 1: Iteration: 1000 / 2000 [ 50%]  (Warmup)\n",
      "Chain 1: Iteration: 1001 / 2000 [ 50%]  (Sampling)\n",
      "Chain 1: Iteration: 1200 / 2000 [ 60%]  (Sampling)\n",
      "Chain 1: Iteration: 1400 / 2000 [ 70%]  (Sampling)\n",
      "Chain 1: Iteration: 1600 / 2000 [ 80%]  (Sampling)\n",
      "Chain 1: Iteration: 1800 / 2000 [ 90%]  (Sampling)\n",
      "Chain 1: Iteration: 2000 / 2000 [100%]  (Sampling)\n",
      "Chain 1: \n",
      "Chain 1:  Elapsed Time: 0.337 seconds (Warm-up)\n",
      "Chain 1:                0.312 seconds (Sampling)\n",
      "Chain 1:                0.649 seconds (Total)\n",
      "Chain 1: \n",
      "\n",
      "SAMPLING FOR MODEL 'bd26149503beddf8dc469911ea270182' NOW (CHAIN 2).\n",
      "Chain 2: \n",
      "Chain 2: Gradient evaluation took 0.001 seconds\n",
      "Chain 2: 1000 transitions using 10 leapfrog steps per transition would take 10 seconds.\n",
      "Chain 2: Adjust your expectations accordingly!\n",
      "Chain 2: \n",
      "Chain 2: \n",
      "Chain 2: Iteration:    1 / 2000 [  0%]  (Warmup)\n",
      "Chain 2: Iteration:  200 / 2000 [ 10%]  (Warmup)\n",
      "Chain 2: Iteration:  400 / 2000 [ 20%]  (Warmup)\n",
      "Chain 2: Iteration:  600 / 2000 [ 30%]  (Warmup)\n",
      "Chain 2: Iteration:  800 / 2000 [ 40%]  (Warmup)\n",
      "Chain 2: Iteration: 1000 / 2000 [ 50%]  (Warmup)\n",
      "Chain 2: Iteration: 1001 / 2000 [ 50%]  (Sampling)\n",
      "Chain 2: Iteration: 1200 / 2000 [ 60%]  (Sampling)\n",
      "Chain 2: Iteration: 1400 / 2000 [ 70%]  (Sampling)\n",
      "Chain 2: Iteration: 1600 / 2000 [ 80%]  (Sampling)\n",
      "Chain 2: Iteration: 1800 / 2000 [ 90%]  (Sampling)\n",
      "Chain 2: Iteration: 2000 / 2000 [100%]  (Sampling)\n",
      "Chain 2: \n",
      "Chain 2:  Elapsed Time: 0.32 seconds (Warm-up)\n",
      "Chain 2:                0.313 seconds (Sampling)\n",
      "Chain 2:                0.633 seconds (Total)\n",
      "Chain 2: \n"
     ]
    },
    {
     "name": "stderr",
     "output_type": "stream",
     "text": [
      "Computing WAIC\n"
     ]
    }
   ],
   "source": [
    "# new model with uniform prior on sigma\n",
    "m8.1_unif <- map2stan(\n",
    "    alist(\n",
    "        log_gdp ~ dnorm(mu,sigma),\n",
    "        mu <- a + bR*rugged + bA*cont_africa + bAR*rugged*cont_africa,\n",
    "        a ~ dnorm(0,100),\n",
    "        bR ~ dnorm(0,10),\n",
    "        bA ~ dnorm(0,10),\n",
    "        bAR ~ dnorm(0,10),\n",
    "        sigma ~ dunif(0,10)\n",
    "    ),\n",
    "    data=dd.trim , chains=2 )"
   ]
  },
  {
   "cell_type": "code",
   "execution_count": 4,
   "metadata": {
    "collapsed": true
   },
   "outputs": [
    {
     "data": {
      "text/html": [
       "<table>\n",
       "<thead><tr><th></th><th scope=col>mean</th><th scope=col>sd</th><th scope=col>5.5%</th><th scope=col>94.5%</th><th scope=col>n_eff</th><th scope=col>Rhat</th></tr></thead>\n",
       "<tbody>\n",
       "\t<tr><th scope=row>a</th><td> 9.2234466 </td><td>0.14021921 </td><td> 8.9955962 </td><td> 9.44723369</td><td> 890.3668  </td><td>1.0007796  </td></tr>\n",
       "\t<tr><th scope=row>bR</th><td>-0.2042282 </td><td>0.07786305 </td><td>-0.3271945 </td><td>-0.08108495</td><td> 918.6120  </td><td>1.0018062  </td></tr>\n",
       "\t<tr><th scope=row>bA</th><td>-1.9445261 </td><td>0.22983262 </td><td>-2.3132160 </td><td>-1.58226218</td><td> 974.8050  </td><td>1.0031165  </td></tr>\n",
       "\t<tr><th scope=row>bAR</th><td> 0.3962788 </td><td>0.13301770 </td><td> 0.1874993 </td><td> 0.60023162</td><td> 945.0240  </td><td>1.0036934  </td></tr>\n",
       "\t<tr><th scope=row>sigma</th><td> 0.9492472 </td><td>0.05236843 </td><td> 0.8700220 </td><td> 1.03355972</td><td>1330.7277  </td><td>0.9996952  </td></tr>\n",
       "</tbody>\n",
       "</table>\n"
      ],
      "text/latex": [
       "\\begin{tabular}{r|llllll}\n",
       "  & mean & sd & 5.5\\% & 94.5\\% & n\\_eff & Rhat\\\\\n",
       "\\hline\n",
       "\ta &  9.2234466  & 0.14021921  &  8.9955962  &  9.44723369 &  890.3668   & 1.0007796  \\\\\n",
       "\tbR & -0.2042282  & 0.07786305  & -0.3271945  & -0.08108495 &  918.6120   & 1.0018062  \\\\\n",
       "\tbA & -1.9445261  & 0.22983262  & -2.3132160  & -1.58226218 &  974.8050   & 1.0031165  \\\\\n",
       "\tbAR &  0.3962788  & 0.13301770  &  0.1874993  &  0.60023162 &  945.0240   & 1.0036934  \\\\\n",
       "\tsigma &  0.9492472  & 0.05236843  &  0.8700220  &  1.03355972 & 1330.7277   & 0.9996952  \\\\\n",
       "\\end{tabular}\n"
      ],
      "text/markdown": [
       "\n",
       "| <!--/--> | mean | sd | 5.5% | 94.5% | n_eff | Rhat | \n",
       "|---|---|---|---|---|\n",
       "| a |  9.2234466  | 0.14021921  |  8.9955962  |  9.44723369 |  890.3668   | 1.0007796   | \n",
       "| bR | -0.2042282  | 0.07786305  | -0.3271945  | -0.08108495 |  918.6120   | 1.0018062   | \n",
       "| bA | -1.9445261  | 0.22983262  | -2.3132160  | -1.58226218 |  974.8050   | 1.0031165   | \n",
       "| bAR |  0.3962788  | 0.13301770  |  0.1874993  |  0.60023162 |  945.0240   | 1.0036934   | \n",
       "| sigma |  0.9492472  | 0.05236843  |  0.8700220  |  1.03355972 | 1330.7277   | 0.9996952   | \n",
       "\n",
       "\n"
      ],
      "text/plain": [
       "      mean       sd         5.5%       94.5%       n_eff     Rhat     \n",
       "a      9.2234466 0.14021921  8.9955962  9.44723369  890.3668 1.0007796\n",
       "bR    -0.2042282 0.07786305 -0.3271945 -0.08108495  918.6120 1.0018062\n",
       "bA    -1.9445261 0.22983262 -2.3132160 -1.58226218  974.8050 1.0031165\n",
       "bAR    0.3962788 0.13301770  0.1874993  0.60023162  945.0240 1.0036934\n",
       "sigma  0.9492472 0.05236843  0.8700220  1.03355972 1330.7277 0.9996952"
      ]
     },
     "metadata": {},
     "output_type": "display_data"
    }
   ],
   "source": [
    "m8.1_unif %>% precis"
   ]
  },
  {
   "cell_type": "code",
   "execution_count": 8,
   "metadata": {
    "collapsed": true
   },
   "outputs": [
    {
     "name": "stdout",
     "output_type": "stream",
     "text": [
      "\n",
      "SAMPLING FOR MODEL '584f8ee6daf764d25322e2f8555e6cf5' NOW (CHAIN 1).\n",
      "Chain 1: Rejecting initial value:\n",
      "Chain 1:   Error evaluating the log probability at the initial value.\n",
      "Chain 1: Exception: normal_lpdf: Scale parameter is -1.24028, but must be > 0!  (in 'model3a1c49982542_584f8ee6daf764d25322e2f8555e6cf5' at line 23)\n",
      "\n",
      "Chain 1: \n",
      "Chain 1: Gradient evaluation took 0 seconds\n",
      "Chain 1: 1000 transitions using 10 leapfrog steps per transition would take 0 seconds.\n",
      "Chain 1: Adjust your expectations accordingly!\n",
      "Chain 1: \n",
      "Chain 1: \n",
      "Chain 1: Iteration:   1 / 1000 [  0%]  (Warmup)\n",
      "Chain 1: Iteration: 100 / 1000 [ 10%]  (Warmup)\n",
      "Chain 1: Iteration: 200 / 1000 [ 20%]  (Warmup)\n",
      "Chain 1: Iteration: 300 / 1000 [ 30%]  (Warmup)\n",
      "Chain 1: Iteration: 400 / 1000 [ 40%]  (Warmup)\n",
      "Chain 1: Iteration: 500 / 1000 [ 50%]  (Warmup)\n",
      "Chain 1: Iteration: 501 / 1000 [ 50%]  (Sampling)\n",
      "Chain 1: Iteration: 600 / 1000 [ 60%]  (Sampling)\n",
      "Chain 1: Iteration: 700 / 1000 [ 70%]  (Sampling)\n",
      "Chain 1: Iteration: 800 / 1000 [ 80%]  (Sampling)\n",
      "Chain 1: Iteration: 900 / 1000 [ 90%]  (Sampling)\n",
      "Chain 1: Iteration: 1000 / 1000 [100%]  (Sampling)\n",
      "Chain 1: \n",
      "Chain 1:  Elapsed Time: 0.202 seconds (Warm-up)\n",
      "Chain 1:                0.192 seconds (Sampling)\n",
      "Chain 1:                0.394 seconds (Total)\n",
      "Chain 1: \n",
      "\n",
      "SAMPLING FOR MODEL '584f8ee6daf764d25322e2f8555e6cf5' NOW (CHAIN 2).\n",
      "Chain 2: Rejecting initial value:\n",
      "Chain 2:   Error evaluating the log probability at the initial value.\n",
      "Chain 2: Exception: normal_lpdf: Scale parameter is -1.45528, but must be > 0!  (in 'model3a1c49982542_584f8ee6daf764d25322e2f8555e6cf5' at line 23)\n",
      "\n",
      "Chain 2: Rejecting initial value:\n",
      "Chain 2:   Error evaluating the log probability at the initial value.\n",
      "Chain 2: Exception: normal_lpdf: Scale parameter is -0.144379, but must be > 0!  (in 'model3a1c49982542_584f8ee6daf764d25322e2f8555e6cf5' at line 23)\n",
      "\n",
      "Chain 2: Rejecting initial value:\n",
      "Chain 2:   Error evaluating the log probability at the initial value.\n",
      "Chain 2: Exception: normal_lpdf: Scale parameter is -0.244432, but must be > 0!  (in 'model3a1c49982542_584f8ee6daf764d25322e2f8555e6cf5' at line 23)\n",
      "\n",
      "Chain 2: Rejecting initial value:\n",
      "Chain 2:   Error evaluating the log probability at the initial value.\n",
      "Chain 2: Exception: normal_lpdf: Scale parameter is -1.82847, but must be > 0!  (in 'model3a1c49982542_584f8ee6daf764d25322e2f8555e6cf5' at line 23)\n",
      "\n",
      "Chain 2: \n",
      "Chain 2: Gradient evaluation took 0 seconds\n",
      "Chain 2: 1000 transitions using 10 leapfrog steps per transition would take 0 seconds.\n",
      "Chain 2: Adjust your expectations accordingly!\n",
      "Chain 2: \n",
      "Chain 2: \n",
      "Chain 2: Iteration:   1 / 1000 [  0%]  (Warmup)\n",
      "Chain 2: Iteration: 100 / 1000 [ 10%]  (Warmup)\n",
      "Chain 2: Iteration: 200 / 1000 [ 20%]  (Warmup)\n",
      "Chain 2: Iteration: 300 / 1000 [ 30%]  (Warmup)\n",
      "Chain 2: Iteration: 400 / 1000 [ 40%]  (Warmup)\n",
      "Chain 2: Iteration: 500 / 1000 [ 50%]  (Warmup)\n",
      "Chain 2: Iteration: 501 / 1000 [ 50%]  (Sampling)\n",
      "Chain 2: Iteration: 600 / 1000 [ 60%]  (Sampling)\n",
      "Chain 2: Iteration: 700 / 1000 [ 70%]  (Sampling)\n",
      "Chain 2: Iteration: 800 / 1000 [ 80%]  (Sampling)\n",
      "Chain 2: Iteration: 900 / 1000 [ 90%]  (Sampling)\n",
      "Chain 2: Iteration: 1000 / 1000 [100%]  (Sampling)\n",
      "Chain 2: \n",
      "Chain 2:  Elapsed Time: 0.177 seconds (Warm-up)\n",
      "Chain 2:                0.171 seconds (Sampling)\n",
      "Chain 2:                0.348 seconds (Total)\n",
      "Chain 2: \n",
      "\n",
      "SAMPLING FOR MODEL '584f8ee6daf764d25322e2f8555e6cf5' NOW (CHAIN 3).\n",
      "Chain 3: \n",
      "Chain 3: Gradient evaluation took 0 seconds\n",
      "Chain 3: 1000 transitions using 10 leapfrog steps per transition would take 0 seconds.\n",
      "Chain 3: Adjust your expectations accordingly!\n",
      "Chain 3: \n",
      "Chain 3: \n",
      "Chain 3: Iteration:   1 / 1000 [  0%]  (Warmup)\n",
      "Chain 3: Iteration: 100 / 1000 [ 10%]  (Warmup)\n",
      "Chain 3: Iteration: 200 / 1000 [ 20%]  (Warmup)\n",
      "Chain 3: Iteration: 300 / 1000 [ 30%]  (Warmup)\n",
      "Chain 3: Iteration: 400 / 1000 [ 40%]  (Warmup)\n",
      "Chain 3: Iteration: 500 / 1000 [ 50%]  (Warmup)\n",
      "Chain 3: Iteration: 501 / 1000 [ 50%]  (Sampling)\n",
      "Chain 3: Iteration: 600 / 1000 [ 60%]  (Sampling)\n",
      "Chain 3: Iteration: 700 / 1000 [ 70%]  (Sampling)\n",
      "Chain 3: Iteration: 800 / 1000 [ 80%]  (Sampling)\n",
      "Chain 3: Iteration: 900 / 1000 [ 90%]  (Sampling)\n",
      "Chain 3: Iteration: 1000 / 1000 [100%]  (Sampling)\n",
      "Chain 3: \n",
      "Chain 3:  Elapsed Time: 0.178 seconds (Warm-up)\n",
      "Chain 3:                0.175 seconds (Sampling)\n",
      "Chain 3:                0.353 seconds (Total)\n",
      "Chain 3: \n",
      "\n",
      "SAMPLING FOR MODEL '584f8ee6daf764d25322e2f8555e6cf5' NOW (CHAIN 4).\n",
      "Chain 4: \n",
      "Chain 4: Gradient evaluation took 0 seconds\n",
      "Chain 4: 1000 transitions using 10 leapfrog steps per transition would take 0 seconds.\n",
      "Chain 4: Adjust your expectations accordingly!\n",
      "Chain 4: \n",
      "Chain 4: \n",
      "Chain 4: Iteration:   1 / 1000 [  0%]  (Warmup)\n",
      "Chain 4: Iteration: 100 / 1000 [ 10%]  (Warmup)\n",
      "Chain 4: Iteration: 200 / 1000 [ 20%]  (Warmup)\n",
      "Chain 4: Iteration: 300 / 1000 [ 30%]  (Warmup)\n",
      "Chain 4: Iteration: 400 / 1000 [ 40%]  (Warmup)\n",
      "Chain 4: Iteration: 500 / 1000 [ 50%]  (Warmup)\n",
      "Chain 4: Iteration: 501 / 1000 [ 50%]  (Sampling)\n",
      "Chain 4: Iteration: 600 / 1000 [ 60%]  (Sampling)\n",
      "Chain 4: Iteration: 700 / 1000 [ 70%]  (Sampling)\n",
      "Chain 4: Iteration: 800 / 1000 [ 80%]  (Sampling)\n",
      "Chain 4: Iteration: 900 / 1000 [ 90%]  (Sampling)\n",
      "Chain 4: Iteration: 1000 / 1000 [100%]  (Sampling)\n",
      "Chain 4: \n",
      "Chain 4:  Elapsed Time: 0.185 seconds (Warm-up)\n",
      "Chain 4:                0.18 seconds (Sampling)\n",
      "Chain 4:                0.365 seconds (Total)\n",
      "Chain 4: \n"
     ]
    }
   ],
   "source": [
    "# new model with uniform prior on sigma\n",
    "m8.1_unif_u <- ulam(\n",
    "    alist(\n",
    "        log_gdp ~ dnorm(mu,sigma),\n",
    "        mu <- a + bR*rugged + bA*cont_africa + bAR*rugged*cont_africa,\n",
    "        a ~ dnorm(0,100),\n",
    "        bR ~ dnorm(0,10),\n",
    "        bA ~ dnorm(0,10),\n",
    "        bAR ~ dnorm(0,10),\n",
    "        sigma ~ dunif(0,10)\n",
    "    ),\n",
    "    data=dd.trim , chains=4, log_lik=TRUE)"
   ]
  },
  {
   "cell_type": "code",
   "execution_count": 9,
   "metadata": {},
   "outputs": [
    {
     "data": {
      "text/html": [
       "<table>\n",
       "<thead><tr><th></th><th scope=col>mean</th><th scope=col>sd</th><th scope=col>5.5%</th><th scope=col>94.5%</th><th scope=col>n_eff</th><th scope=col>Rhat</th></tr></thead>\n",
       "<tbody>\n",
       "\t<tr><th scope=row>a</th><td> 9.2182097 </td><td>0.13969354 </td><td> 8.9976971 </td><td> 9.44063933</td><td> 828.6575  </td><td>1.001829   </td></tr>\n",
       "\t<tr><th scope=row>bR</th><td>-0.1990373 </td><td>0.07774897 </td><td>-0.3256420 </td><td>-0.07685226</td><td> 851.1853  </td><td>1.001303   </td></tr>\n",
       "\t<tr><th scope=row>bA</th><td>-1.9360912 </td><td>0.23301551 </td><td>-2.3040562 </td><td>-1.56397531</td><td>1089.1012  </td><td>1.000870   </td></tr>\n",
       "\t<tr><th scope=row>bAR</th><td> 0.3847616 </td><td>0.13538440 </td><td> 0.1732993 </td><td> 0.60559486</td><td> 964.0078  </td><td>1.000943   </td></tr>\n",
       "\t<tr><th scope=row>sigma</th><td> 0.9541927 </td><td>0.05329153 </td><td> 0.8744828 </td><td> 1.04380764</td><td>1260.4326  </td><td>1.000334   </td></tr>\n",
       "</tbody>\n",
       "</table>\n"
      ],
      "text/latex": [
       "\\begin{tabular}{r|llllll}\n",
       "  & mean & sd & 5.5\\% & 94.5\\% & n\\_eff & Rhat\\\\\n",
       "\\hline\n",
       "\ta &  9.2182097  & 0.13969354  &  8.9976971  &  9.44063933 &  828.6575   & 1.001829   \\\\\n",
       "\tbR & -0.1990373  & 0.07774897  & -0.3256420  & -0.07685226 &  851.1853   & 1.001303   \\\\\n",
       "\tbA & -1.9360912  & 0.23301551  & -2.3040562  & -1.56397531 & 1089.1012   & 1.000870   \\\\\n",
       "\tbAR &  0.3847616  & 0.13538440  &  0.1732993  &  0.60559486 &  964.0078   & 1.000943   \\\\\n",
       "\tsigma &  0.9541927  & 0.05329153  &  0.8744828  &  1.04380764 & 1260.4326   & 1.000334   \\\\\n",
       "\\end{tabular}\n"
      ],
      "text/markdown": [
       "\n",
       "| <!--/--> | mean | sd | 5.5% | 94.5% | n_eff | Rhat | \n",
       "|---|---|---|---|---|\n",
       "| a |  9.2182097  | 0.13969354  |  8.9976971  |  9.44063933 |  828.6575   | 1.001829    | \n",
       "| bR | -0.1990373  | 0.07774897  | -0.3256420  | -0.07685226 |  851.1853   | 1.001303    | \n",
       "| bA | -1.9360912  | 0.23301551  | -2.3040562  | -1.56397531 | 1089.1012   | 1.000870    | \n",
       "| bAR |  0.3847616  | 0.13538440  |  0.1732993  |  0.60559486 |  964.0078   | 1.000943    | \n",
       "| sigma |  0.9541927  | 0.05329153  |  0.8744828  |  1.04380764 | 1260.4326   | 1.000334    | \n",
       "\n",
       "\n"
      ],
      "text/plain": [
       "      mean       sd         5.5%       94.5%       n_eff     Rhat    \n",
       "a      9.2182097 0.13969354  8.9976971  9.44063933  828.6575 1.001829\n",
       "bR    -0.1990373 0.07774897 -0.3256420 -0.07685226  851.1853 1.001303\n",
       "bA    -1.9360912 0.23301551 -2.3040562 -1.56397531 1089.1012 1.000870\n",
       "bAR    0.3847616 0.13538440  0.1732993  0.60559486  964.0078 1.000943\n",
       "sigma  0.9541927 0.05329153  0.8744828  1.04380764 1260.4326 1.000334"
      ]
     },
     "metadata": {},
     "output_type": "display_data"
    }
   ],
   "source": [
    "m8.1_unif_u %>% precis"
   ]
  },
  {
   "cell_type": "code",
   "execution_count": 10,
   "metadata": {
    "collapsed": true
   },
   "outputs": [
    {
     "name": "stderr",
     "output_type": "stream",
     "text": [
      "Warning message in compare(m8.1_unif, m8.1_unif_u):\n",
      "\"Not all model fits of same class.\n",
      "This is usually a bad idea, because it implies they were fit by different algorithms.\n",
      "Check yourself, before you wreck yourself.\""
     ]
    },
    {
     "data": {
      "text/html": [
       "<table>\n",
       "<thead><tr><th></th><th scope=col>WAIC</th><th scope=col>pWAIC</th><th scope=col>dWAIC</th><th scope=col>weight</th><th scope=col>SE</th><th scope=col>dSE</th></tr></thead>\n",
       "<tbody>\n",
       "\t<tr><th scope=row>m8.1_unif</th><td>469.5416 </td><td>5.236353 </td><td>0.0000000</td><td>0.5235773</td><td>14.83634 </td><td>      NA </td></tr>\n",
       "\t<tr><th scope=row>m8.1_unif_u</th><td>469.7303 </td><td>5.271116 </td><td>0.1887581</td><td>0.4764227</td><td>14.68413 </td><td>0.313468 </td></tr>\n",
       "</tbody>\n",
       "</table>\n"
      ],
      "text/latex": [
       "\\begin{tabular}{r|llllll}\n",
       "  & WAIC & pWAIC & dWAIC & weight & SE & dSE\\\\\n",
       "\\hline\n",
       "\tm8.1\\_unif & 469.5416  & 5.236353  & 0.0000000 & 0.5235773 & 14.83634  &       NA \\\\\n",
       "\tm8.1\\_unif\\_u & 469.7303  & 5.271116  & 0.1887581 & 0.4764227 & 14.68413  & 0.313468 \\\\\n",
       "\\end{tabular}\n"
      ],
      "text/markdown": [
       "\n",
       "| <!--/--> | WAIC | pWAIC | dWAIC | weight | SE | dSE | \n",
       "|---|---|\n",
       "| m8.1_unif | 469.5416  | 5.236353  | 0.0000000 | 0.5235773 | 14.83634  |       NA  | \n",
       "| m8.1_unif_u | 469.7303  | 5.271116  | 0.1887581 | 0.4764227 | 14.68413  | 0.313468  | \n",
       "\n",
       "\n"
      ],
      "text/plain": [
       "            WAIC     pWAIC    dWAIC     weight    SE       dSE     \n",
       "m8.1_unif   469.5416 5.236353 0.0000000 0.5235773 14.83634       NA\n",
       "m8.1_unif_u 469.7303 5.271116 0.1887581 0.4764227 14.68413 0.313468"
      ]
     },
     "metadata": {},
     "output_type": "display_data"
    }
   ],
   "source": [
    "compare(m8.1_unif, m8.1_unif_u)"
   ]
  },
  {
   "cell_type": "code",
   "execution_count": 19,
   "metadata": {},
   "outputs": [
    {
     "name": "stderr",
     "output_type": "stream",
     "text": [
      "recompiling to avoid crashing R session\n"
     ]
    },
    {
     "name": "stdout",
     "output_type": "stream",
     "text": [
      "\n",
      "SAMPLING FOR MODEL 'c7cd5274fc85d36b6de85525eca847e6' NOW (CHAIN 1).\n",
      "Chain 1: \n",
      "Chain 1: Gradient evaluation took 0 seconds\n",
      "Chain 1: 1000 transitions using 10 leapfrog steps per transition would take 0 seconds.\n",
      "Chain 1: Adjust your expectations accordingly!\n",
      "Chain 1: \n",
      "Chain 1: \n",
      "Chain 1: Iteration:   1 / 1000 [  0%]  (Warmup)\n",
      "Chain 1: Iteration: 100 / 1000 [ 10%]  (Warmup)\n",
      "Chain 1: Iteration: 200 / 1000 [ 20%]  (Warmup)\n",
      "Chain 1: Iteration: 300 / 1000 [ 30%]  (Warmup)\n",
      "Chain 1: Iteration: 400 / 1000 [ 40%]  (Warmup)\n",
      "Chain 1: Iteration: 500 / 1000 [ 50%]  (Warmup)\n",
      "Chain 1: Iteration: 501 / 1000 [ 50%]  (Sampling)\n",
      "Chain 1: Iteration: 600 / 1000 [ 60%]  (Sampling)\n",
      "Chain 1: Iteration: 700 / 1000 [ 70%]  (Sampling)\n",
      "Chain 1: Iteration: 800 / 1000 [ 80%]  (Sampling)\n",
      "Chain 1: Iteration: 900 / 1000 [ 90%]  (Sampling)\n",
      "Chain 1: Iteration: 1000 / 1000 [100%]  (Sampling)\n",
      "Chain 1: \n",
      "Chain 1:  Elapsed Time: 0.252 seconds (Warm-up)\n",
      "Chain 1:                0.193 seconds (Sampling)\n",
      "Chain 1:                0.445 seconds (Total)\n",
      "Chain 1: \n",
      "\n",
      "SAMPLING FOR MODEL 'c7cd5274fc85d36b6de85525eca847e6' NOW (CHAIN 2).\n",
      "Chain 2: \n",
      "Chain 2: Gradient evaluation took 0 seconds\n",
      "Chain 2: 1000 transitions using 10 leapfrog steps per transition would take 0 seconds.\n",
      "Chain 2: Adjust your expectations accordingly!\n",
      "Chain 2: \n",
      "Chain 2: \n",
      "Chain 2: Iteration:   1 / 1000 [  0%]  (Warmup)\n",
      "Chain 2: Iteration: 100 / 1000 [ 10%]  (Warmup)\n",
      "Chain 2: Iteration: 200 / 1000 [ 20%]  (Warmup)\n",
      "Chain 2: Iteration: 300 / 1000 [ 30%]  (Warmup)\n",
      "Chain 2: Iteration: 400 / 1000 [ 40%]  (Warmup)\n",
      "Chain 2: Iteration: 500 / 1000 [ 50%]  (Warmup)\n",
      "Chain 2: Iteration: 501 / 1000 [ 50%]  (Sampling)\n",
      "Chain 2: Iteration: 600 / 1000 [ 60%]  (Sampling)\n",
      "Chain 2: Iteration: 700 / 1000 [ 70%]  (Sampling)\n",
      "Chain 2: Iteration: 800 / 1000 [ 80%]  (Sampling)\n",
      "Chain 2: Iteration: 900 / 1000 [ 90%]  (Sampling)\n",
      "Chain 2: Iteration: 1000 / 1000 [100%]  (Sampling)\n",
      "Chain 2: \n",
      "Chain 2:  Elapsed Time: 0.245 seconds (Warm-up)\n",
      "Chain 2:                0.197 seconds (Sampling)\n",
      "Chain 2:                0.442 seconds (Total)\n",
      "Chain 2: \n"
     ]
    }
   ],
   "source": [
    "m8.1_exp <- ulam(\n",
    "    alist(\n",
    "        log_gdp ~ dnorm(mu,sigma),\n",
    "        mu <- a + bR*rugged + bA*cont_africa + bAR*rugged*cont_africa,\n",
    "        a ~ dnorm(0,100),\n",
    "        bR ~ dnorm(0,10),\n",
    "        bA ~ dnorm(0,10),\n",
    "        bAR ~ dnorm(0,10),\n",
    "        sigma ~ dexp(1)\n",
    "    ),\n",
    "    data=dd.trim , chains=2, log_lik=TRUE )"
   ]
  },
  {
   "cell_type": "code",
   "execution_count": 12,
   "metadata": {
    "scrolled": true
   },
   "outputs": [
    {
     "data": {
      "text/html": [
       "<table>\n",
       "<thead><tr><th></th><th scope=col>mean</th><th scope=col>sd</th><th scope=col>5.5%</th><th scope=col>94.5%</th><th scope=col>n_eff</th><th scope=col>Rhat</th></tr></thead>\n",
       "<tbody>\n",
       "\t<tr><th scope=row>a</th><td> 9.2252473 </td><td>0.14783519 </td><td> 9.0030422 </td><td> 9.46543625</td><td>431.0332   </td><td>1.003409   </td></tr>\n",
       "\t<tr><th scope=row>bR</th><td>-0.2031874 </td><td>0.08112668 </td><td>-0.3383518 </td><td>-0.08233731</td><td>442.3633   </td><td>1.003280   </td></tr>\n",
       "\t<tr><th scope=row>bA</th><td>-1.9529092 </td><td>0.23058480 </td><td>-2.3272978 </td><td>-1.58386200</td><td>487.0761   </td><td>1.004495   </td></tr>\n",
       "\t<tr><th scope=row>bAR</th><td> 0.3955915 </td><td>0.13525467 </td><td> 0.1874293 </td><td> 0.60081656</td><td>551.4056   </td><td>1.003435   </td></tr>\n",
       "\t<tr><th scope=row>sigma</th><td> 0.9488083 </td><td>0.05175575 </td><td> 0.8763723 </td><td> 1.03466642</td><td>676.9862   </td><td>1.003069   </td></tr>\n",
       "</tbody>\n",
       "</table>\n"
      ],
      "text/latex": [
       "\\begin{tabular}{r|llllll}\n",
       "  & mean & sd & 5.5\\% & 94.5\\% & n\\_eff & Rhat\\\\\n",
       "\\hline\n",
       "\ta &  9.2252473  & 0.14783519  &  9.0030422  &  9.46543625 & 431.0332    & 1.003409   \\\\\n",
       "\tbR & -0.2031874  & 0.08112668  & -0.3383518  & -0.08233731 & 442.3633    & 1.003280   \\\\\n",
       "\tbA & -1.9529092  & 0.23058480  & -2.3272978  & -1.58386200 & 487.0761    & 1.004495   \\\\\n",
       "\tbAR &  0.3955915  & 0.13525467  &  0.1874293  &  0.60081656 & 551.4056    & 1.003435   \\\\\n",
       "\tsigma &  0.9488083  & 0.05175575  &  0.8763723  &  1.03466642 & 676.9862    & 1.003069   \\\\\n",
       "\\end{tabular}\n"
      ],
      "text/markdown": [
       "\n",
       "| <!--/--> | mean | sd | 5.5% | 94.5% | n_eff | Rhat | \n",
       "|---|---|---|---|---|\n",
       "| a |  9.2252473  | 0.14783519  |  9.0030422  |  9.46543625 | 431.0332    | 1.003409    | \n",
       "| bR | -0.2031874  | 0.08112668  | -0.3383518  | -0.08233731 | 442.3633    | 1.003280    | \n",
       "| bA | -1.9529092  | 0.23058480  | -2.3272978  | -1.58386200 | 487.0761    | 1.004495    | \n",
       "| bAR |  0.3955915  | 0.13525467  |  0.1874293  |  0.60081656 | 551.4056    | 1.003435    | \n",
       "| sigma |  0.9488083  | 0.05175575  |  0.8763723  |  1.03466642 | 676.9862    | 1.003069    | \n",
       "\n",
       "\n"
      ],
      "text/plain": [
       "      mean       sd         5.5%       94.5%       n_eff    Rhat    \n",
       "a      9.2252473 0.14783519  9.0030422  9.46543625 431.0332 1.003409\n",
       "bR    -0.2031874 0.08112668 -0.3383518 -0.08233731 442.3633 1.003280\n",
       "bA    -1.9529092 0.23058480 -2.3272978 -1.58386200 487.0761 1.004495\n",
       "bAR    0.3955915 0.13525467  0.1874293  0.60081656 551.4056 1.003435\n",
       "sigma  0.9488083 0.05175575  0.8763723  1.03466642 676.9862 1.003069"
      ]
     },
     "metadata": {},
     "output_type": "display_data"
    }
   ],
   "source": [
    "m8.1_exp %>% precis"
   ]
  },
  {
   "cell_type": "code",
   "execution_count": 13,
   "metadata": {},
   "outputs": [
    {
     "data": {
      "text/html": [
       "<table>\n",
       "<thead><tr><th></th><th scope=col>WAIC</th><th scope=col>pWAIC</th><th scope=col>dWAIC</th><th scope=col>weight</th><th scope=col>SE</th><th scope=col>dSE</th></tr></thead>\n",
       "<tbody>\n",
       "\t<tr><th scope=row>m8.1_unif_u</th><td>469.7303 </td><td>5.271116 </td><td>0.0000000</td><td>0.5511197</td><td>14.68413 </td><td>       NA</td></tr>\n",
       "\t<tr><th scope=row>m8.1_exp</th><td>470.1407 </td><td>5.549436 </td><td>0.4103912</td><td>0.4488803</td><td>14.89480 </td><td>0.3438224</td></tr>\n",
       "</tbody>\n",
       "</table>\n"
      ],
      "text/latex": [
       "\\begin{tabular}{r|llllll}\n",
       "  & WAIC & pWAIC & dWAIC & weight & SE & dSE\\\\\n",
       "\\hline\n",
       "\tm8.1\\_unif\\_u & 469.7303  & 5.271116  & 0.0000000 & 0.5511197 & 14.68413  &        NA\\\\\n",
       "\tm8.1\\_exp & 470.1407  & 5.549436  & 0.4103912 & 0.4488803 & 14.89480  & 0.3438224\\\\\n",
       "\\end{tabular}\n"
      ],
      "text/markdown": [
       "\n",
       "| <!--/--> | WAIC | pWAIC | dWAIC | weight | SE | dSE | \n",
       "|---|---|\n",
       "| m8.1_unif_u | 469.7303  | 5.271116  | 0.0000000 | 0.5511197 | 14.68413  |        NA | \n",
       "| m8.1_exp | 470.1407  | 5.549436  | 0.4103912 | 0.4488803 | 14.89480  | 0.3438224 | \n",
       "\n",
       "\n"
      ],
      "text/plain": [
       "            WAIC     pWAIC    dWAIC     weight    SE       dSE      \n",
       "m8.1_unif_u 469.7303 5.271116 0.0000000 0.5511197 14.68413        NA\n",
       "m8.1_exp    470.1407 5.549436 0.4103912 0.4488803 14.89480 0.3438224"
      ]
     },
     "metadata": {},
     "output_type": "display_data"
    }
   ],
   "source": [
    "compare(m8.1_exp, m8.1_unif_u)"
   ]
  },
  {
   "cell_type": "code",
   "execution_count": 14,
   "metadata": {
    "scrolled": true
   },
   "outputs": [
    {
     "data": {
      "image/png": "[encoded data removed]",
      "text/plain": [
       "plot without title"
      ]
     },
     "metadata": {},
     "output_type": "display_data"
    }
   ],
   "source": [
    "curve( dcauchy(x,0,2) , from=0 , to=10 ,\n",
    "    xlab=\"sigma\" , ylab=\"Density\" , ylim=c(0,1) )\n",
    "curve( dunif(x,0,10) , add=TRUE , col=\"red\" )\n",
    "curve( dexp(x,1) , add=TRUE , col=\"blue\" )"
   ]
  },
  {
   "cell_type": "code",
   "execution_count": 18,
   "metadata": {
    "collapsed": true
   },
   "outputs": [
    {
     "data": {
      "image/png": "[encoded data removed]",
      "text/plain": [
       "Plot with title \"\""
      ]
     },
     "metadata": {},
     "output_type": "display_data"
    }
   ],
   "source": [
    "sigma_cauchy <- extract.samples(m9.1,pars=\"sigma\") \n",
    "sigma_unif <- extract.samples(m8.1_unif,pars=\"sigma\")\n",
    "sigma_exp <- extract.samples(m8.1_exp,pars=\"sigma\")\n",
    "dens( sigma_cauchy[[1]] , xlab=\"sigma\" , xlim=c(0.5,1.5) )\n",
    "dens( sigma_unif[[1]] , add=TRUE , col=\"red\" )\n",
    "dens( sigma_exp[[1]] , add=TRUE , col=\"blue\" )"
   ]
  },
  {
   "cell_type": "markdown",
   "metadata": {},
   "source": [
    "# Misc"
   ]
  },
  {
   "cell_type": "markdown",
   "metadata": {
    "heading_collapsed": true
   },
   "source": [
    "## 1st edition MAP2STAN code"
   ]
  },
  {
   "cell_type": "code",
   "execution_count": 8,
   "metadata": {
    "hidden": true
   },
   "outputs": [],
   "source": [
    "## R code 8.2\n",
    "# library(rethinking)\n",
    "data(rugged)\n",
    "d <- rugged\n",
    "d$log_gdp <- log(d$rgdppc_2000)\n",
    "dd <- d[ complete.cases(d$rgdppc_2000) , ]"
   ]
  },
  {
   "cell_type": "code",
   "execution_count": 11,
   "metadata": {
    "hidden": true,
    "scrolled": true
   },
   "outputs": [
    {
     "data": {
      "text/html": [
       "<table>\n",
       "<thead><tr><th></th><th scope=col>mean</th><th scope=col>sd</th><th scope=col>5.5%</th><th scope=col>94.5%</th></tr></thead>\n",
       "<tbody>\n",
       "\t<tr><th scope=row>a</th><td> 9.22</td><td>0.14 </td><td> 9.00</td><td> 9.44</td></tr>\n",
       "\t<tr><th scope=row>bR</th><td>-0.20</td><td>0.08 </td><td>-0.32</td><td>-0.08</td></tr>\n",
       "\t<tr><th scope=row>bA</th><td>-1.95</td><td>0.22 </td><td>-2.31</td><td>-1.59</td></tr>\n",
       "\t<tr><th scope=row>bAR</th><td> 0.39</td><td>0.13 </td><td> 0.19</td><td> 0.60</td></tr>\n",
       "\t<tr><th scope=row>sigma</th><td> 0.93</td><td>0.05 </td><td> 0.85</td><td> 1.01</td></tr>\n",
       "</tbody>\n",
       "</table>\n"
      ],
      "text/latex": [
       "\\begin{tabular}{r|llll}\n",
       "  & mean & sd & 5.5\\% & 94.5\\%\\\\\n",
       "\\hline\n",
       "\ta &  9.22 & 0.14  &  9.00 &  9.44\\\\\n",
       "\tbR & -0.20 & 0.08  & -0.32 & -0.08\\\\\n",
       "\tbA & -1.95 & 0.22  & -2.31 & -1.59\\\\\n",
       "\tbAR &  0.39 & 0.13  &  0.19 &  0.60\\\\\n",
       "\tsigma &  0.93 & 0.05  &  0.85 &  1.01\\\\\n",
       "\\end{tabular}\n"
      ],
      "text/markdown": [
       "\n",
       "| <!--/--> | mean | sd | 5.5% | 94.5% | \n",
       "|---|---|---|---|---|\n",
       "| a |  9.22 | 0.14  |  9.00 |  9.44 | \n",
       "| bR | -0.20 | 0.08  | -0.32 | -0.08 | \n",
       "| bA | -1.95 | 0.22  | -2.31 | -1.59 | \n",
       "| bAR |  0.39 | 0.13  |  0.19 |  0.60 | \n",
       "| sigma |  0.93 | 0.05  |  0.85 |  1.01 | \n",
       "\n",
       "\n"
      ],
      "text/plain": [
       "      mean  sd   5.5%  94.5%\n",
       "a      9.22 0.14  9.00  9.44\n",
       "bR    -0.20 0.08 -0.32 -0.08\n",
       "bA    -1.95 0.22 -2.31 -1.59\n",
       "bAR    0.39 0.13  0.19  0.60\n",
       "sigma  0.93 0.05  0.85  1.01"
      ]
     },
     "metadata": {},
     "output_type": "display_data"
    }
   ],
   "source": [
    "## R code 8.3\n",
    "m8.1 <- map(\n",
    "    alist(\n",
    "        log_gdp ~ dnorm( mu , sigma ) ,\n",
    "        mu <- a + bR*rugged + bA*cont_africa + bAR*rugged*cont_africa ,\n",
    "        a ~ dnorm(0,100),\n",
    "        bR ~ dnorm(0,10),\n",
    "        bA ~ dnorm(0,10),\n",
    "        bAR ~ dnorm(0,10),\n",
    "        sigma ~ dunif(0,10)\n",
    "    ) ,\n",
    "    data=dd )\n",
    "precis(m8.1) %>% round(2)"
   ]
  },
  {
   "cell_type": "code",
   "execution_count": 12,
   "metadata": {
    "hidden": true
   },
   "outputs": [
    {
     "name": "stdout",
     "output_type": "stream",
     "text": [
      "'data.frame':\t170 obs. of  3 variables:\n",
      " $ log_gdp    : num  7.49 8.22 9.93 9.41 7.79 ...\n",
      " $ rugged     : num  0.858 3.427 0.769 0.775 2.688 ...\n",
      " $ cont_africa: int  1 0 0 0 0 0 0 0 0 1 ...\n"
     ]
    }
   ],
   "source": [
    "## R code 8.4\n",
    "dd.trim <- dd[ , c(\"log_gdp\",\"rugged\",\"cont_africa\") ]\n",
    "str(dd.trim)"
   ]
  },
  {
   "cell_type": "code",
   "execution_count": 13,
   "metadata": {
    "hidden": true
   },
   "outputs": [
    {
     "name": "stdout",
     "output_type": "stream",
     "text": [
      "\n",
      "SAMPLING FOR MODEL 'dac9105512b08203d25926c0708d3760' NOW (CHAIN 1).\n",
      "Chain 1: \n",
      "Chain 1: Gradient evaluation took 0 seconds\n",
      "Chain 1: 1000 transitions using 10 leapfrog steps per transition would take 0 seconds.\n",
      "Chain 1: Adjust your expectations accordingly!\n",
      "Chain 1: \n",
      "Chain 1: \n",
      "Chain 1: Iteration:    1 / 2000 [  0%]  (Warmup)\n",
      "Chain 1: Iteration:  200 / 2000 [ 10%]  (Warmup)\n",
      "Chain 1: Iteration:  400 / 2000 [ 20%]  (Warmup)\n",
      "Chain 1: Iteration:  600 / 2000 [ 30%]  (Warmup)\n",
      "Chain 1: Iteration:  800 / 2000 [ 40%]  (Warmup)\n",
      "Chain 1: Iteration: 1000 / 2000 [ 50%]  (Warmup)\n",
      "Chain 1: Iteration: 1001 / 2000 [ 50%]  (Sampling)\n",
      "Chain 1: Iteration: 1200 / 2000 [ 60%]  (Sampling)\n",
      "Chain 1: Iteration: 1400 / 2000 [ 70%]  (Sampling)\n",
      "Chain 1: Iteration: 1600 / 2000 [ 80%]  (Sampling)\n",
      "Chain 1: Iteration: 1800 / 2000 [ 90%]  (Sampling)\n",
      "Chain 1: Iteration: 2000 / 2000 [100%]  (Sampling)\n",
      "Chain 1: \n",
      "Chain 1:  Elapsed Time: 0.395 seconds (Warm-up)\n",
      "Chain 1:                0.355 seconds (Sampling)\n",
      "Chain 1:                0.75 seconds (Total)\n",
      "Chain 1: \n"
     ]
    },
    {
     "name": "stderr",
     "output_type": "stream",
     "text": [
      "Computing WAIC\n"
     ]
    }
   ],
   "source": [
    "## R code 8.5\n",
    "m8.1stan <- map2stan(\n",
    "    alist(\n",
    "        log_gdp ~ dnorm( mu , sigma ) ,\n",
    "        mu <- a + bR*rugged + bA*cont_africa + bAR*rugged*cont_africa ,\n",
    "        a ~ dnorm(0,100),\n",
    "        bR ~ dnorm(0,10),\n",
    "        bA ~ dnorm(0,10),\n",
    "        bAR ~ dnorm(0,10),\n",
    "        sigma ~ dcauchy(0,2)\n",
    "    ) ,\n",
    "    data=dd.trim )"
   ]
  },
  {
   "cell_type": "code",
   "execution_count": 17,
   "metadata": {
    "hidden": true
   },
   "outputs": [
    {
     "data": {
      "text/html": [
       "<table>\n",
       "<thead><tr><th></th><th scope=col>mean</th><th scope=col>sd</th><th scope=col>5.5%</th><th scope=col>94.5%</th><th scope=col>n_eff</th><th scope=col>Rhat</th></tr></thead>\n",
       "<tbody>\n",
       "\t<tr><th scope=row>a</th><td> 9.21 </td><td>0.15  </td><td> 8.97 </td><td> 9.43 </td><td>335.75</td><td>1.01  </td></tr>\n",
       "\t<tr><th scope=row>bR</th><td>-0.20 </td><td>0.08  </td><td>-0.32 </td><td>-0.06 </td><td>353.19</td><td>1.00  </td></tr>\n",
       "\t<tr><th scope=row>bA</th><td>-1.93 </td><td>0.24  </td><td>-2.32 </td><td>-1.55 </td><td>429.51</td><td>1.00  </td></tr>\n",
       "\t<tr><th scope=row>bAR</th><td> 0.39 </td><td>0.13  </td><td> 0.17 </td><td> 0.60 </td><td>455.95</td><td>1.00  </td></tr>\n",
       "\t<tr><th scope=row>sigma</th><td> 0.95 </td><td>0.05  </td><td> 0.87 </td><td> 1.03 </td><td>659.69</td><td>1.00  </td></tr>\n",
       "</tbody>\n",
       "</table>\n"
      ],
      "text/latex": [
       "\\begin{tabular}{r|llllll}\n",
       "  & mean & sd & 5.5\\% & 94.5\\% & n\\_eff & Rhat\\\\\n",
       "\\hline\n",
       "\ta &  9.21  & 0.15   &  8.97  &  9.43  & 335.75 & 1.01  \\\\\n",
       "\tbR & -0.20  & 0.08   & -0.32  & -0.06  & 353.19 & 1.00  \\\\\n",
       "\tbA & -1.93  & 0.24   & -2.32  & -1.55  & 429.51 & 1.00  \\\\\n",
       "\tbAR &  0.39  & 0.13   &  0.17  &  0.60  & 455.95 & 1.00  \\\\\n",
       "\tsigma &  0.95  & 0.05   &  0.87  &  1.03  & 659.69 & 1.00  \\\\\n",
       "\\end{tabular}\n"
      ],
      "text/markdown": [
       "\n",
       "| <!--/--> | mean | sd | 5.5% | 94.5% | n_eff | Rhat | \n",
       "|---|---|---|---|---|\n",
       "| a |  9.21  | 0.15   |  8.97  |  9.43  | 335.75 | 1.01   | \n",
       "| bR | -0.20  | 0.08   | -0.32  | -0.06  | 353.19 | 1.00   | \n",
       "| bA | -1.93  | 0.24   | -2.32  | -1.55  | 429.51 | 1.00   | \n",
       "| bAR |  0.39  | 0.13   |  0.17  |  0.60  | 455.95 | 1.00   | \n",
       "| sigma |  0.95  | 0.05   |  0.87  |  1.03  | 659.69 | 1.00   | \n",
       "\n",
       "\n"
      ],
      "text/plain": [
       "      mean  sd   5.5%  94.5% n_eff  Rhat\n",
       "a      9.21 0.15  8.97  9.43 335.75 1.01\n",
       "bR    -0.20 0.08 -0.32 -0.06 353.19 1.00\n",
       "bA    -1.93 0.24 -2.32 -1.55 429.51 1.00\n",
       "bAR    0.39 0.13  0.17  0.60 455.95 1.00\n",
       "sigma  0.95 0.05  0.87  1.03 659.69 1.00"
      ]
     },
     "metadata": {},
     "output_type": "display_data"
    }
   ],
   "source": [
    "## R code 8.6\n",
    "precis(m8.1stan) %>% round(2)"
   ]
  },
  {
   "cell_type": "code",
   "execution_count": 22,
   "metadata": {
    "hidden": true
   },
   "outputs": [
    {
     "data": {
      "image/png": "[encoded data removed]",
      "text/plain": [
       "plot without title"
      ]
     },
     "metadata": {},
     "output_type": "display_data"
    }
   ],
   "source": [
    "plot( m8.1stan )"
   ]
  },
  {
   "cell_type": "markdown",
   "metadata": {},
   "source": [
    "## Setup"
   ]
  },
  {
   "cell_type": "markdown",
   "metadata": {},
   "source": [
    "https://en.wikipedia.org/wiki/Log_probability"
   ]
  },
  {
   "cell_type": "code",
   "execution_count": null,
   "metadata": {},
   "outputs": [],
   "source": [
    "sessionInfo()"
   ]
  },
  {
   "cell_type": "code",
   "execution_count": null,
   "metadata": {},
   "outputs": [],
   "source": [
    "find_rtools()"
   ]
  },
  {
   "cell_type": "markdown",
   "metadata": {},
   "source": [
    "## buffer"
   ]
  },
  {
   "cell_type": "code",
   "execution_count": null,
   "metadata": {},
   "outputs": [],
   "source": [
    "## R code 9.1\n",
    "num_weeks <- 1e5\n",
    "positions <- rep(0,num_weeks)\n",
    "current <- 10\n",
    "for ( i in 1:num_weeks ) {\n",
    "    # record current position\n",
    "    positions[i] <- current\n",
    "\n",
    "    # flip coin to generate proposal\n",
    "    proposal <- current + sample( c(-1,1) , size=1 )\n",
    "    # now make sure he loops around the archipelago\n",
    "    if ( proposal < 1 ) proposal <- 10\n",
    "    if ( proposal > 10 ) proposal <- 1\n",
    "\n",
    "    # move?\n",
    "    prob_move <- proposal/current\n",
    "    current <- ifelse( runif(1) < prob_move , proposal , current )\n",
    "}\n",
    "\n",
    "## R code 9.2\n",
    "D <- 10\n",
    "T <- 1e3\n",
    "Y <- rmvnorm(T,rep(0,D),diag(D))\n",
    "rad_dist <- function( Y ) sqrt( sum(Y^2) )\n",
    "Rd <- sapply( 1:T , function(i) rad_dist( Y[i,] ) )\n",
    "dens( Rd )\n",
    "\n",
    "## R code 9.3\n",
    "# U needs to return neg-log-probability\n",
    "myU4 <- function( q , a=0 , b=1 , k=0 , d=1 ) {\n",
    "    muy <- q[1]\n",
    "    mux <- q[2]\n",
    "    U <- sum( dnorm(y,muy,1,log=TRUE) ) + sum( dnorm(x,mux,1,log=TRUE) ) +\n",
    "        dnorm(muy,a,b,log=TRUE) + dnorm(mux,k,d,log=TRUE)\n",
    "    return( -U )\n",
    "}\n",
    "\n",
    "## R code 9.4\n",
    "# gradient function\n",
    "# need vector of partial derivatives of U with respect to vector q\n",
    "myU_grad4 <- function( q , a=0 , b=1 , k=0 , d=1 ) {\n",
    "    muy <- q[1]\n",
    "    mux <- q[2]\n",
    "    G1 <- sum( y - muy ) + (a - muy)/b^2 #dU/dmuy\n",
    "    G2 <- sum( x - mux ) + (k - mux)/d^2 #dU/dmuy\n",
    "    return( c( -G1 , -G2 ) ) # negative bc energy is neg-log-prob\n",
    "}\n",
    "# test data\n",
    "set.seed(7)\n",
    "y <- rnorm(50)\n",
    "x <- rnorm(50)\n",
    "x <- as.numeric(scale(x))\n",
    "y <- as.numeric(scale(y))"
   ]
  },
  {
   "cell_type": "code",
   "execution_count": null,
   "metadata": {},
   "outputs": [],
   "source": []
  }
 ],
 "metadata": {
  "kernelspec": {
   "display_name": "R",
   "language": "R",
   "name": "ir"
  },
  "language_info": {
   "codemirror_mode": "r",
   "file_extension": ".r",
   "mimetype": "text/x-r-source",
   "name": "R",
   "pygments_lexer": "r",
   "version": "3.5.1"
  },
  "toc": {
   "base_numbering": 1,
   "nav_menu": {},
   "number_sections": true,
   "sideBar": true,
   "skip_h1_title": false,
   "title_cell": "Table of Contents",
   "title_sidebar": "Contents",
   "toc_cell": true,
   "toc_position": {},
   "toc_section_display": true,
   "toc_window_display": false
  },
  "varInspector": {
   "cols": {
    "lenName": 16,
    "lenType": 16,
    "lenVar": 40
   },
   "kernels_config": {
    "python": {
     "delete_cmd_postfix": "",
     "delete_cmd_prefix": "del ",
     "library": "var_list.py",
     "varRefreshCmd": "print(var_dic_list())"
    },
    "r": {
     "delete_cmd_postfix": ") ",
     "delete_cmd_prefix": "rm(",
     "library": "var_list.r",
     "varRefreshCmd": "cat(var_dic_list()) "
    }
   },
   "types_to_exclude": [
    "module",
    "function",
    "builtin_function_or_method",
    "instance",
    "_Feature"
   ],
   "window_display": false
  }
 },
 "nbformat": 4,
 "nbformat_minor": 2
}
