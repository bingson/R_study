{
 "cells": [
  {
   "cell_type": "markdown",
   "metadata": {
    "toc": true
   },
   "source": [
    "<h1>Table of Contents<span class=\"tocSkip\"></span></h1>\n",
    "<div class=\"toc\"><ul class=\"toc-item\"><li><span><a href=\"#Iteration\" data-toc-modified-id=\"Iteration-1\"><span class=\"toc-item-num\">1&nbsp;&nbsp;</span>Iteration</a></span><ul class=\"toc-item\"><li><span><a href=\"#21.1-Introduction\" data-toc-modified-id=\"21.1-Introduction-1.1\"><span class=\"toc-item-num\">1.1&nbsp;&nbsp;</span>21.1 Introduction</a></span><ul class=\"toc-item\"><li><span><a href=\"#21.1.1-Prerequisites\" data-toc-modified-id=\"21.1.1-Prerequisites-1.1.1\"><span class=\"toc-item-num\">1.1.1&nbsp;&nbsp;</span>21.1.1 Prerequisites</a></span></li></ul></li><li><span><a href=\"#21.2-For-loops\" data-toc-modified-id=\"21.2-For-loops-1.2\"><span class=\"toc-item-num\">1.2&nbsp;&nbsp;</span>21.2 For loops</a></span><ul class=\"toc-item\"><li><span><a href=\"#21.2.1-Exercises\" data-toc-modified-id=\"21.2.1-Exercises-1.2.1\"><span class=\"toc-item-num\">1.2.1&nbsp;&nbsp;</span>21.2.1 Exercises</a></span></li></ul></li><li><span><a href=\"#21.3-For-loop-variations\" data-toc-modified-id=\"21.3-For-loop-variations-1.3\"><span class=\"toc-item-num\">1.3&nbsp;&nbsp;</span>21.3 For loop variations</a></span><ul class=\"toc-item\"><li><span><a href=\"#21.3.1-Modifying-an-existing-object\" data-toc-modified-id=\"21.3.1-Modifying-an-existing-object-1.3.1\"><span class=\"toc-item-num\">1.3.1&nbsp;&nbsp;</span>21.3.1 Modifying an existing object</a></span></li><li><span><a href=\"#21.3.2-Looping-patterns\" data-toc-modified-id=\"21.3.2-Looping-patterns-1.3.2\"><span class=\"toc-item-num\">1.3.2&nbsp;&nbsp;</span>21.3.2 Looping patterns</a></span></li><li><span><a href=\"#21.3.3-Unknown-output-length\" data-toc-modified-id=\"21.3.3-Unknown-output-length-1.3.3\"><span class=\"toc-item-num\">1.3.3&nbsp;&nbsp;</span>21.3.3 Unknown output length</a></span></li><li><span><a href=\"#21.3.4-Unknown-sequence-length\" data-toc-modified-id=\"21.3.4-Unknown-sequence-length-1.3.4\"><span class=\"toc-item-num\">1.3.4&nbsp;&nbsp;</span>21.3.4 Unknown sequence length</a></span></li><li><span><a href=\"#21.3.5-Exercises\" data-toc-modified-id=\"21.3.5-Exercises-1.3.5\"><span class=\"toc-item-num\">1.3.5&nbsp;&nbsp;</span>21.3.5 Exercises</a></span></li></ul></li><li><span><a href=\"#For-loops-vs.-functionals\" data-toc-modified-id=\"For-loops-vs.-functionals-1.4\"><span class=\"toc-item-num\">1.4&nbsp;&nbsp;</span>For loops vs. functionals</a></span><ul class=\"toc-item\"><li><span><a href=\"#21.4.1-Exercises\" data-toc-modified-id=\"21.4.1-Exercises-1.4.1\"><span class=\"toc-item-num\">1.4.1&nbsp;&nbsp;</span>21.4.1 Exercises</a></span></li><li><span><a href=\"#Exercise-21.4.2__\" data-toc-modified-id=\"Exercise-21.4.2__-1.4.2\"><span class=\"toc-item-num\">1.4.2&nbsp;&nbsp;</span>Exercise 21.4.2<a href=\"https://jrnold.github.io/r4ds-exercise-solutions/iteration.html#exercise-21.4.2\" target=\"_blank\">__</a></a></span></li></ul></li><li><span><a href=\"#21.5-The-map-functions\" data-toc-modified-id=\"21.5-The-map-functions-1.5\"><span class=\"toc-item-num\">1.5&nbsp;&nbsp;</span>21.5 The map functions</a></span><ul class=\"toc-item\"><li><span><a href=\"#21.5.1-Shortcuts\" data-toc-modified-id=\"21.5.1-Shortcuts-1.5.1\"><span class=\"toc-item-num\">1.5.1&nbsp;&nbsp;</span>21.5.1 Shortcuts</a></span></li><li><span><a href=\"#21.5.2-Base-R\" data-toc-modified-id=\"21.5.2-Base-R-1.5.2\"><span class=\"toc-item-num\">1.5.2&nbsp;&nbsp;</span>21.5.2 Base R</a></span></li><li><span><a href=\"#21.5.3-Exercises\" data-toc-modified-id=\"21.5.3-Exercises-1.5.3\"><span class=\"toc-item-num\">1.5.3&nbsp;&nbsp;</span>21.5.3 Exercises</a></span></li><li><span><a href=\"#Exercise-21.5.5__\" data-toc-modified-id=\"Exercise-21.5.5__-1.5.4\"><span class=\"toc-item-num\">1.5.4&nbsp;&nbsp;</span>Exercise 21.5.5<a href=\"https://jrnold.github.io/r4ds-exercise-solutions/iteration.html#exercise-21.5.5\" target=\"_blank\">__</a></a></span></li></ul></li><li><span><a href=\"#21.6-Dealing-with-failure\" data-toc-modified-id=\"21.6-Dealing-with-failure-1.6\"><span class=\"toc-item-num\">1.6&nbsp;&nbsp;</span>21.6 Dealing with failure</a></span></li><li><span><a href=\"#21.7-Mapping-over-multiple-arguments\" data-toc-modified-id=\"21.7-Mapping-over-multiple-arguments-1.7\"><span class=\"toc-item-num\">1.7&nbsp;&nbsp;</span>21.7 Mapping over multiple arguments</a></span><ul class=\"toc-item\"><li><span><a href=\"#21.7.1-Invoking-different-functions\" data-toc-modified-id=\"21.7.1-Invoking-different-functions-1.7.1\"><span class=\"toc-item-num\">1.7.1&nbsp;&nbsp;</span>21.7.1 Invoking different functions</a></span></li></ul></li><li><span><a href=\"#21.8-Walk\" data-toc-modified-id=\"21.8-Walk-1.8\"><span class=\"toc-item-num\">1.8&nbsp;&nbsp;</span>21.8 Walk</a></span></li><li><span><a href=\"#21.9-Other-patterns-of-for-loops\" data-toc-modified-id=\"21.9-Other-patterns-of-for-loops-1.9\"><span class=\"toc-item-num\">1.9&nbsp;&nbsp;</span>21.9 Other patterns of for loops</a></span><ul class=\"toc-item\"><li><span><a href=\"#21.9.1-Predicate-functions\" data-toc-modified-id=\"21.9.1-Predicate-functions-1.9.1\"><span class=\"toc-item-num\">1.9.1&nbsp;&nbsp;</span>21.9.1 Predicate functions</a></span></li><li><span><a href=\"#21.9.2-Reduce-and-accumulate\" data-toc-modified-id=\"21.9.2-Reduce-and-accumulate-1.9.2\"><span class=\"toc-item-num\">1.9.2&nbsp;&nbsp;</span>21.9.2 Reduce and accumulate</a></span></li><li><span><a href=\"#21.9.3-Exercises\" data-toc-modified-id=\"21.9.3-Exercises-1.9.3\"><span class=\"toc-item-num\">1.9.3&nbsp;&nbsp;</span>21.9.3 Exercises</a></span></li><li><span><a href=\"#Exercise-21.9.3__\" data-toc-modified-id=\"Exercise-21.9.3__-1.9.4\"><span class=\"toc-item-num\">1.9.4&nbsp;&nbsp;</span>Exercise 21.9.3<a href=\"https://jrnold.github.io/r4ds-exercise-solutions/iteration.html#exercise-21.9.3\" target=\"_blank\">__</a></a></span></li></ul></li></ul></li><li><span><a href=\"#Purrr-beyond-map\" data-toc-modified-id=\"Purrr-beyond-map-2\"><span class=\"toc-item-num\">2&nbsp;&nbsp;</span>Purrr beyond map</a></span><ul class=\"toc-item\"><li><span><a href=\"#map()-Apply-to-all\" data-toc-modified-id=\"map()-Apply-to-all-2.1\"><span class=\"toc-item-num\">2.1&nbsp;&nbsp;</span>map() Apply to all</a></span></li><li><span><a href=\"#map()-has-siblings:-walk()-and-modify()\" data-toc-modified-id=\"map()-has-siblings:-walk()-and-modify()-2.2\"><span class=\"toc-item-num\">2.2&nbsp;&nbsp;</span>map() has siblings: walk() and modify()</a></span></li><li><span><a href=\"#map()-variants-cheatsheet\" data-toc-modified-id=\"map()-variants-cheatsheet-2.3\"><span class=\"toc-item-num\">2.3&nbsp;&nbsp;</span>map() variants cheatsheet</a></span></li><li><span><a href=\"#Predicate-functionals\" data-toc-modified-id=\"Predicate-functionals-2.4\"><span class=\"toc-item-num\">2.4&nbsp;&nbsp;</span>Predicate functionals</a></span></li><li><span><a href=\"#Other-vector-transformations\" data-toc-modified-id=\"Other-vector-transformations-2.5\"><span class=\"toc-item-num\">2.5&nbsp;&nbsp;</span>Other vector transformations</a></span><ul class=\"toc-item\"><li><span><a href=\"#Using-accumulate()\" data-toc-modified-id=\"Using-accumulate()-2.5.1\"><span class=\"toc-item-num\">2.5.1&nbsp;&nbsp;</span>Using <code>accumulate()</code></a></span></li></ul></li><li><span><a href=\"#Adverbs\" data-toc-modified-id=\"Adverbs-2.6\"><span class=\"toc-item-num\">2.6&nbsp;&nbsp;</span>Adverbs</a></span></li><li><span><a href=\"#safely(),-possibly(),-and-insistently()\" data-toc-modified-id=\"safely(),-possibly(),-and-insistently()-2.7\"><span class=\"toc-item-num\">2.7&nbsp;&nbsp;</span><code>safely()</code>, <code>possibly()</code>, and <code>insistently()</code></a></span></li><li><span><a href=\"#More-purrr-fun(ctions)But-wait,-there's-more...\" data-toc-modified-id=\"More-purrr-fun(ctions)But-wait,-there's-more...-2.8\"><span class=\"toc-item-num\">2.8&nbsp;&nbsp;</span>More <code>purrr</code> fun(ctions)But wait, there's more...</a></span></li></ul></li><li><span><a href=\"#Misc\" data-toc-modified-id=\"Misc-3\"><span class=\"toc-item-num\">3&nbsp;&nbsp;</span>Misc</a></span><ul class=\"toc-item\"><li><span><a href=\"#Paste\" data-toc-modified-id=\"Paste-3.1\"><span class=\"toc-item-num\">3.1&nbsp;&nbsp;</span>Paste</a></span></li><li><span><a href=\"#group_nest()\" data-toc-modified-id=\"group_nest()-3.2\"><span class=\"toc-item-num\">3.2&nbsp;&nbsp;</span>group_nest()</a></span></li><li><span><a href=\"#glue\" data-toc-modified-id=\"glue-3.3\"><span class=\"toc-item-num\">3.3&nbsp;&nbsp;</span>glue</a></span></li><li><span><a href=\"#Map\" data-toc-modified-id=\"Map-3.4\"><span class=\"toc-item-num\">3.4&nbsp;&nbsp;</span>Map</a></span></li></ul></li></ul></div>"
   ]
  },
  {
   "cell_type": "markdown",
   "metadata": {
    "heading_collapsed": true
   },
   "source": [
    "# Iteration"
   ]
  },
  {
   "cell_type": "markdown",
   "metadata": {
    "heading_collapsed": true,
    "hidden": true
   },
   "source": [
    "## 21.1 Introduction"
   ]
  },
  {
   "cell_type": "markdown",
   "metadata": {
    "hidden": true
   },
   "source": [
    "In [functions](https://r4ds.had.co.nz/functions.html#functions), we talked about how important it is to reduce duplication in your code by creating functions instead of copying-and-pasting. Reducing code duplication has three main benefits:\n",
    "\n",
    "1.  It’s easier to see the intent of your code, because your eyes are\n",
    "    drawn to what’s different, not what stays the same.\n",
    "\n",
    "\n",
    "2.  It’s easier to respond to changes in requirements. As your needs\n",
    "    change, you only need to make changes in one place, rather than\n",
    "    remembering to change every place that you copied-and-pasted the\n",
    "    code.\n",
    "\n",
    "\n",
    "3.  You’re likely to have fewer bugs because each line of code is\n",
    "    used in more places."
   ]
  },
  {
   "cell_type": "markdown",
   "metadata": {
    "hidden": true
   },
   "source": [
    "One tool for reducing duplication is functions, which reduce duplication by identifying repeated patterns of code and extract them out into independent pieces that can be easily reused and updated. \n",
    "\n",
    "<b><font color = 'purple'>Another tool for reducing duplication is **iteration**, which helps you when you need to do the same thing to multiple inputs </font></b>: repeating the same operation on different columns, or on different datasets.\n",
    "\n",
    "\n",
    "<b><font color = 'purple'>In this chapter you’ll learn about two important iteration paradigms:  </font></b> <font color = 'blue'><b>imperative programming and functional programming</b></font>. \n",
    "\n",
    "On the <font color = 'green'><b>imperative</b></font> side you have tools like for loops and while loops, which are a great place to start because they make iteration very explicit, so it’s obvious what’s happening. \n",
    "\n",
    "* However, for loops are quite verbose, and require quite a bit of bookkeeping code that is duplicated for every for loop. \n",
    "\n",
    "<font color = 'green'><b>Functional programming (FP)</b></font> <font color = 'blue'>offers tools to extract out this duplicated code, so each common for loop pattern gets its own function</font>. Once you master the vocabulary of FP, you can solve many common iteration problems with less code, more ease, and fewer errors."
   ]
  },
  {
   "cell_type": "markdown",
   "metadata": {
    "heading_collapsed": true,
    "hidden": true
   },
   "source": [
    "### 21.1.1 Prerequisites"
   ]
  },
  {
   "cell_type": "markdown",
   "metadata": {
    "hidden": true
   },
   "source": [
    "Once you’ve mastered the for loops provided by base R, you’ll learn some of the powerful programming tools provided by purrr, one of the tidyverse core packages."
   ]
  },
  {
   "cell_type": "code",
   "execution_count": null,
   "metadata": {
    "ExecuteTime": {
     "end_time": "2020-02-21T04:10:00.840318Z",
     "start_time": "2020-02-21T04:10:00.759Z"
    },
    "hidden": true
   },
   "outputs": [],
   "source": [
    "library(tidyverse)"
   ]
  },
  {
   "cell_type": "markdown",
   "metadata": {
    "heading_collapsed": true,
    "hidden": true
   },
   "source": [
    "## 21.2 For loops"
   ]
  },
  {
   "cell_type": "markdown",
   "metadata": {
    "hidden": true
   },
   "source": [
    "Imagine we have this simple tibble:\n",
    "\n",
    "\n",
    "\n",
    "```R\n",
    "df <- tibble(\n",
    "  a = rnorm(10),\n",
    "  b = rnorm(10),\n",
    "  c = rnorm(10),\n",
    "  d = rnorm(10)\n",
    ")\n",
    "```"
   ]
  },
  {
   "cell_type": "markdown",
   "metadata": {
    "hidden": true
   },
   "source": [
    "We want to compute the median of each column. You _could_ do with copy-and-paste:\n",
    "\n",
    "\n",
    "\n",
    "```R\n",
    "median(df$a)\n",
    "#> [1] -0.246\n",
    "median(df$b)\n",
    "#> [1] -0.287\n",
    "median(df$c)\n",
    "#> [1] -0.0567\n",
    "median(df$d)\n",
    "#> [1] 0.144\n",
    "```"
   ]
  },
  {
   "cell_type": "markdown",
   "metadata": {
    "hidden": true
   },
   "source": [
    "But that breaks our rule of thumb: never copy and paste more than twice. Instead, we could use a for loop:\n",
    "\n",
    "\n",
    "\n",
    "```R\n",
    "output <- vector(\"double\", ncol(df))  # 1. output\n",
    "\n",
    "for (i in seq_along(df)) {            # 2. sequence\n",
    "  output[[i]] <- median(df[[i]])      # 3. body\n",
    "}\n",
    "\n",
    "output\n",
    "#> [1] -0.2458 -0.2873 -0.0567  0.1443\n",
    "```"
   ]
  },
  {
   "cell_type": "markdown",
   "metadata": {
    "hidden": true
   },
   "source": [
    "Every for loop has three components:\n",
    "\n",
    "1.  The **output**: `output <- vector(\"double\", length(x))`.\n",
    "    Before you start the loop, you must always <font color = 'blue'>allocate sufficient space\n",
    "    for the output</font>. This is very important for efficiency: <font color = 'red'>if you grow\n",
    "    the for loop at each iteration using `c()` (for example), your for loop\n",
    "    will be very slow</font>.\n",
    "\n",
    "    <font color = 'blue'>A general way of creating an empty vector of given length is the `vector()`\n",
    "    function</font>. It has two arguments: the type of the vector (“logical”,\n",
    "    “integer”, “double”, “character”, etc) and the length of the vector.\n",
    "    "
   ]
  },
  {
   "cell_type": "markdown",
   "metadata": {
    "hidden": true
   },
   "source": [
    "2.  The **sequence**: `i in seq_along(df)`. This determines what to loop over:\n",
    "    each run of the for loop will assign `i` to a different value from\n",
    "    `seq_along(df)`. It’s useful to think of `i` as a pronoun, like “it”.\n",
    "\n",
    "    You might not have seen `seq_along()` before. It’s a safe version of the\n",
    "    familiar `1:length(l)`, with an important difference: if you have a\n",
    "    zero-length vector, `seq_along()` does the right thing:\n",
    "\n",
    "    "
   ]
  },
  {
   "cell_type": "markdown",
   "metadata": {
    "hidden": true
   },
   "source": [
    "```R\n",
    "y <- vector(\"double\", 0)\n",
    "\n",
    "seq_along(y)\n",
    "#> integer(0)\n",
    "\n",
    "1:length(y)\n",
    "#> [1] 1 0\n",
    "```\n",
    "\n",
    "You probably won’t create a zero-length vector deliberately, but\n",
    "it’s easy to create them accidentally. If you use `1:length(x)` instead\n",
    "of `seq_along(x)`, you’re likely to get a confusing error message."
   ]
  },
  {
   "cell_type": "markdown",
   "metadata": {
    "hidden": true
   },
   "source": [
    "3.  The **body**: `output[[i]] <- median(df[[i]])`. This is the code that does\n",
    "    the work. It’s run repeatedly, each time with a different value for `i`.\n",
    "    The first iteration will run `output[[1]] <- median(df[[1]])`,\n",
    "    the second will run `output[[2]] <- median(df[[2]])`, and so on.\n",
    "\n",
    "That’s all there is to the for loop! Now is a good time to practice creating some basic (and not so basic) for loops using the exercises below. Then we’ll move on some variations of the for loop that help you solve other problems that will crop up in practice."
   ]
  },
  {
   "cell_type": "markdown",
   "metadata": {
    "heading_collapsed": true,
    "hidden": true
   },
   "source": [
    "### 21.2.1 Exercises"
   ]
  },
  {
   "cell_type": "markdown",
   "metadata": {
    "hidden": true
   },
   "source": [
    "<b>1.  Write for loops to:\n",
    "    1.  Compute the mean of every column in `mtcars`.\n",
    "    2.  Determine the type of each column in `nycflights13::flights`.\n",
    "    3.  Compute the number of unique values in each column of `iris`.\n",
    "    4.  Generate 10 random normals from distributions with means of -10, 0, 10, and 100.\n",
    "\n",
    "Think about the output, sequence, and body **before** you start writing\n",
    "    the loop.</b>"
   ]
  },
  {
   "cell_type": "markdown",
   "metadata": {
    "heading_collapsed": true,
    "hidden": true
   },
   "source": [
    "###### my attempt"
   ]
  },
  {
   "cell_type": "code",
   "execution_count": null,
   "metadata": {
    "ExecuteTime": {
     "end_time": "2020-02-21T04:36:01.336284Z",
     "start_time": "2020-02-21T04:36:01.275Z"
    },
    "hidden": true
   },
   "outputs": [],
   "source": [
    "output <- vector(\"double\", ncol(mtcars))\n",
    "\n",
    "for (i in seq_along(mtcars)) {\n",
    "    output[[i]] = mtcars[[i]] %>% mean()\n",
    "}\n",
    "\n",
    "output"
   ]
  },
  {
   "cell_type": "code",
   "execution_count": null,
   "metadata": {
    "ExecuteTime": {
     "end_time": "2020-02-21T04:43:48.755096Z",
     "start_time": "2020-02-21T04:43:48.703Z"
    },
    "hidden": true
   },
   "outputs": [],
   "source": [
    "flights <- nycflights13::flights\n",
    "\n",
    "for (i in seq_along(flights)) {\n",
    "    print(typeof(flights[[i]]))\n",
    "}"
   ]
  },
  {
   "cell_type": "code",
   "execution_count": null,
   "metadata": {
    "ExecuteTime": {
     "end_time": "2020-02-21T04:35:01.587192Z",
     "start_time": "2020-02-21T04:35:01.533Z"
    },
    "hidden": true
   },
   "outputs": [],
   "source": [
    "for (i in seq_along(iris)) {\n",
    "    print(unique(iris[[i]]) %>% length())\n",
    "}"
   ]
  },
  {
   "cell_type": "code",
   "execution_count": null,
   "metadata": {
    "ExecuteTime": {
     "end_time": "2020-02-21T04:38:49.643964Z",
     "start_time": "2020-02-21T04:38:49.591Z"
    },
    "hidden": true
   },
   "outputs": [],
   "source": [
    "for (i in c(-10, 0, 10, 100)) {\n",
    "    print(rnorm(10, mean = i))\n",
    "}"
   ]
  },
  {
   "cell_type": "markdown",
   "metadata": {
    "heading_collapsed": true,
    "hidden": true
   },
   "source": [
    "###### jrnold"
   ]
  },
  {
   "cell_type": "code",
   "execution_count": null,
   "metadata": {
    "ExecuteTime": {
     "end_time": "2020-02-21T04:41:47.646479Z",
     "start_time": "2020-02-21T04:41:47.585Z"
    },
    "hidden": true
   },
   "outputs": [],
   "source": [
    "output <- vector(\"double\", ncol(mtcars))\n",
    "names(output) <- names(mtcars)\n",
    "\n",
    "for (i in names(mtcars)) {\n",
    "  output[i] <- mean(mtcars[[i]])\n",
    "}\n",
    "\n",
    "output"
   ]
  },
  {
   "cell_type": "code",
   "execution_count": null,
   "metadata": {
    "ExecuteTime": {
     "end_time": "2020-02-21T04:44:01.616712Z",
     "start_time": "2020-02-21T04:44:01.545Z"
    },
    "hidden": true
   },
   "outputs": [],
   "source": [
    "output <- vector(\"list\", ncol(nycflights13::flights))\n",
    "names(output) <- names(nycflights13::flights)\n",
    "\n",
    "for (i in names(nycflights13::flights)) {\n",
    "  output[[i]] <- class(nycflights13::flights[[i]])\n",
    "}\n",
    "output"
   ]
  },
  {
   "cell_type": "code",
   "execution_count": null,
   "metadata": {
    "ExecuteTime": {
     "end_time": "2020-02-21T04:44:47.982919Z",
     "start_time": "2020-02-21T04:44:47.866Z"
    },
    "hidden": true
   },
   "outputs": [],
   "source": [
    "data(\"iris\")\n",
    "iris_uniq <- vector(\"double\", ncol(iris))\n",
    "names(iris_uniq) <- names(iris)\n",
    "\n",
    "for (i in names(iris)) {\n",
    "  iris_uniq[i] <- length(unique(iris[[i]]))\n",
    "}\n",
    "iris_uniq"
   ]
  },
  {
   "cell_type": "code",
   "execution_count": null,
   "metadata": {
    "ExecuteTime": {
     "end_time": "2020-02-21T04:45:47.963487Z",
     "start_time": "2020-02-21T04:45:47.893Z"
    },
    "hidden": true
   },
   "outputs": [],
   "source": [
    "# number to draw\n",
    "n <- 10\n",
    "\n",
    "# values of the mean\n",
    "mu <- c(-10, 0, 10, 100)\n",
    "\n",
    "normals <- vector(\"list\", length(mu))\n",
    "\n",
    "for (i in seq_along(normals)) {\n",
    "  normals[[i]] <- rnorm(n, mean = mu[i])\n",
    "}\n",
    "\n",
    "normals"
   ]
  },
  {
   "cell_type": "markdown",
   "metadata": {
    "heading_collapsed": true,
    "hidden": true
   },
   "source": [
    "##### <b>2. Eliminate the for loop in each of the following examples by taking advantage of an existing function that works with vectors: </b>"
   ]
  },
  {
   "cell_type": "markdown",
   "metadata": {
    "hidden": true
   },
   "source": [
    "```R\n",
    "out <- \"\"\n",
    "for (x in letters) {\n",
    "  out <- stringr::str_c(out, x)\n",
    "}\n",
    "\n",
    "x <- sample(100)\n",
    "sd <- 0\n",
    "for (i in seq_along(x)) {\n",
    "  sd <- sd + (x[i] - mean(x)) ^ 2\n",
    "}\n",
    "sd <- sqrt(sd / (length(x) - 1))\n",
    "\n",
    "x <- runif(100)\n",
    "out <- vector(\"numeric\", length(x))\n",
    "out[1] <- x[1]\n",
    "for (i in 2:length(x)) {\n",
    "  out[i] <- out[i - 1] + x[i]\n",
    "}\n",
    "```"
   ]
  },
  {
   "cell_type": "markdown",
   "metadata": {
    "heading_collapsed": true,
    "hidden": true
   },
   "source": [
    "##### <hr>"
   ]
  },
  {
   "cell_type": "code",
   "execution_count": null,
   "metadata": {
    "ExecuteTime": {
     "end_time": "2020-02-21T05:02:04.007869Z",
     "start_time": "2020-02-21T05:02:03.917Z"
    },
    "hidden": true
   },
   "outputs": [],
   "source": [
    "out <- \"\"\n",
    "for (x in letters) {\n",
    "  out <- stringr::str_c(out, x)\n",
    "}\n",
    "out"
   ]
  },
  {
   "cell_type": "code",
   "execution_count": null,
   "metadata": {
    "ExecuteTime": {
     "end_time": "2020-02-21T05:04:46.674135Z",
     "start_time": "2020-02-21T05:04:46.614Z"
    },
    "hidden": true
   },
   "outputs": [],
   "source": [
    "# Since str_c() already works with vectors, \n",
    "# use str_c() with the collapse argument to return a single string.\n",
    "\n",
    "str_c(letters, collapse = \"\")"
   ]
  },
  {
   "cell_type": "markdown",
   "metadata": {
    "hidden": true
   },
   "source": [
    "<hr>"
   ]
  },
  {
   "cell_type": "code",
   "execution_count": null,
   "metadata": {
    "ExecuteTime": {
     "end_time": "2020-02-21T05:03:04.598176Z",
     "start_time": "2020-02-21T05:03:04.530Z"
    },
    "hidden": true
   },
   "outputs": [],
   "source": [
    "x <- sample(100)\n",
    "sd <- 0\n",
    "for (i in seq_along(x)) {\n",
    "  sd <- sd + (x[i] - mean(x)) ^ 2\n",
    "}\n",
    "sd <- sqrt(sd / (length(x) - 1))\n",
    "sd"
   ]
  },
  {
   "cell_type": "code",
   "execution_count": null,
   "metadata": {
    "ExecuteTime": {
     "end_time": "2020-02-21T05:05:55.619004Z",
     "start_time": "2020-02-21T05:05:55.575Z"
    },
    "hidden": true
   },
   "outputs": [],
   "source": [
    "# We could simply use the sd function.\n",
    "\n",
    "sd(x)"
   ]
  },
  {
   "cell_type": "markdown",
   "metadata": {
    "hidden": true
   },
   "source": [
    "<hr>"
   ]
  },
  {
   "cell_type": "code",
   "execution_count": null,
   "metadata": {
    "ExecuteTime": {
     "end_time": "2020-02-21T05:27:32.489529Z",
     "start_time": "2020-02-21T05:27:32.412Z"
    },
    "hidden": true
   },
   "outputs": [],
   "source": [
    "x <- runif(100)\n",
    "out <- vector(\"numeric\", length(x))\n",
    "out[1] <- x[1]\n",
    "\n",
    "for (i in 2:length(x)) {\n",
    "  out[i] <- out[i - 1] + x[i]\n",
    "}\n",
    "\n",
    "out %>% head"
   ]
  },
  {
   "cell_type": "code",
   "execution_count": null,
   "metadata": {
    "ExecuteTime": {
     "end_time": "2020-02-21T05:27:33.241969Z",
     "start_time": "2020-02-21T05:27:33.195Z"
    },
    "hidden": true
   },
   "outputs": [],
   "source": [
    "cumsum(x) %>% head"
   ]
  },
  {
   "cell_type": "code",
   "execution_count": null,
   "metadata": {
    "ExecuteTime": {
     "end_time": "2020-02-21T05:27:05.079599Z",
     "start_time": "2020-02-21T05:27:05.029Z"
    },
    "hidden": true
   },
   "outputs": [],
   "source": [
    "all.equal(cumsum(x), out)"
   ]
  },
  {
   "cell_type": "markdown",
   "metadata": {
    "heading_collapsed": true,
    "hidden": true
   },
   "source": [
    "##### <b>3.  Combine your function writing and for loop skills:"
   ]
  },
  {
   "cell_type": "markdown",
   "metadata": {
    "hidden": true
   },
   "source": [
    "<b>\n",
    "    \n",
    "1.  Write a for loop that `prints()` the lyrics to the children’s song\n",
    "    “Alice the camel”.\n",
    "\n",
    "    \n",
    "2.  Convert the nursery rhyme “ten in the bed” to a function. Generalise\n",
    "    it to any number of people in any sleeping structure.\n",
    "\n",
    "    \n",
    "3.  Convert the song “99 bottles of beer on the wall” to a function.\n",
    "    Generalise to any number of any vessel containing any liquid on\n",
    "    any surface.</b>"
   ]
  },
  {
   "cell_type": "markdown",
   "metadata": {
    "heading_collapsed": true,
    "hidden": true
   },
   "source": [
    "##### <b>4. It’s common to see for loops that don’t preallocate the output and instead increase the length of a vector at each step: </b>"
   ]
  },
  {
   "cell_type": "markdown",
   "metadata": {
    "hidden": true
   },
   "source": [
    "```R\n",
    "output <- vector(\"integer\", 0)\n",
    "for (i in seq_along(x)) {\n",
    "  output <- c(output, lengths(x[[i]]))\n",
    "}\n",
    "output\n",
    "```\n",
    "\n",
    "<b>How does this affect performance? Design and execute an experiment.</b>"
   ]
  },
  {
   "cell_type": "markdown",
   "metadata": {
    "hidden": true
   },
   "source": [
    "```R \n",
    "add_to_vector <- function(n) {\n",
    "  output <- vector(\"integer\", 0)\n",
    "  for (i in seq_len(n)) {\n",
    "    output <- c(output, i)\n",
    "  }\n",
    "  output\n",
    "}\n",
    "\n",
    "```\n",
    "\n",
    "\n",
    "\n",
    "```R\n",
    "add_to_vector_2 <- function(n) {\n",
    "  output <- vector(\"integer\", n)\n",
    "  for (i in seq_len(n)) {\n",
    "    output[[i]] <- i\n",
    "  }\n",
    "  output\n",
    "}\n",
    "```\n",
    "\n",
    "I’ll use the package microbenchmark to run these functions several times and compare the time it takes.\n",
    "The package microbenchmark contains utilities for benchmarking R expressions.\n",
    "In particular, the `microbenchmark()` function will run an R expression a number of times and time it.\n",
    "\n",
    "\n",
    "\n",
    "```R\n",
    "timings <- microbenchmark(add_to_vector(10000), add_to_vector_2(10000), times = 10)\n",
    "timings\n",
    "#> Unit: microseconds\n",
    "#>                    expr    min     lq   mean median     uq    max neval\n",
    "#>    add_to_vector(10000) 126784 127629 137461 134605 140920 168541    10\n",
    "#>  add_to_vector_2(10000)    624    637   1801    650    718   7134    10\n",
    "```\n",
    "\n",
    "In this example, appending to a vector takes 207 times longer than pre-allocating the vector.\n",
    "You may get different answers, but the longer the vector and the larger the objects,\n",
    "<hypothesis-highlight class=\"hypothesis-highlight\"> the more that pre-allocation will outperform appending.</hypothesis-highlight>"
   ]
  },
  {
   "cell_type": "markdown",
   "metadata": {
    "heading_collapsed": true,
    "hidden": true
   },
   "source": [
    "## 21.3 For loop variations"
   ]
  },
  {
   "cell_type": "markdown",
   "metadata": {
    "hidden": true
   },
   "source": [
    "Once you have the basic for loop under your belt, there are some variations that you should be aware of. These variations are important regardless of how you do iteration, so don’t forget about them once you’ve mastered the FP techniques you’ll learn about in the next section.\n",
    "\n",
    "<b><font color = 'purple'>There are four variations on the basic theme of the for loop: </font></b>\n",
    "\n",
    "\n",
    "1.  Modifying an existing object, instead of creating a new object.\n",
    "2.  Looping over names or values, instead of indices.\n",
    "3.  Handling outputs of unknown length.\n",
    "4.  Handling sequences of unknown length."
   ]
  },
  {
   "cell_type": "markdown",
   "metadata": {
    "heading_collapsed": true,
    "hidden": true
   },
   "source": [
    "### 21.3.1 Modifying an existing object"
   ]
  },
  {
   "cell_type": "markdown",
   "metadata": {
    "hidden": true
   },
   "source": [
    "Sometimes you want to use a for loop to modify an existing object. For example, <b><font color = 'purple'>remember our challenge from [functions](https://r4ds.had.co.nz/functions.html#functions). We wanted to rescale every column in a data frame: </font></b>"
   ]
  },
  {
   "cell_type": "markdown",
   "metadata": {
    "hidden": true
   },
   "source": [
    "```R\n",
    "df <- tibble(\n",
    "  a = rnorm(10),\n",
    "  b = rnorm(10),\n",
    "  c = rnorm(10),\n",
    "  d = rnorm(10)\n",
    ")\n",
    "rescale01 <- function(x) {\n",
    "  rng <- range(x, na.rm = TRUE)\n",
    "  (x - rng[1]) / (rng[2] - rng[1])\n",
    "}\n",
    "\n",
    "df$a <- rescale01(df$a)\n",
    "df$b <- rescale01(df$b)\n",
    "df$c <- rescale01(df$c)\n",
    "df$d <- rescale01(df$d)\n",
    "```\n",
    "\n",
    "<b><font color = 'purple'>To solve this with a for loop we again think about the three components: </font></b>\n",
    "\n",
    "1.  **Output**: we already have the output — it’s the same as the input!\n",
    "\n",
    "2.  **Sequence**: we can think about a data frame as a list of columns, so\n",
    "    we can iterate over each column with `seq_along(df)`.\n",
    "\n",
    "3.  **Body**: apply `rescale01()`.\n",
    "\n",
    "This gives us:"
   ]
  },
  {
   "cell_type": "markdown",
   "metadata": {
    "hidden": true
   },
   "source": [
    "```R\n",
    "for (i in seq_along(df)) {\n",
    "  df[[i]] <- rescale01(df[[i]])\n",
    "}\n",
    "```\n",
    "\n",
    "Typically you’ll be modifying a list or data frame with this sort of loop, so remember to use `[[`, not `[`. You might have spotted that I used `[[` in all my for loops: <font color = 'blue'><b>I think it’s better to use `[[` even for atomic vectors because it makes it clear that I want to work with a single element.</b></font>"
   ]
  },
  {
   "cell_type": "markdown",
   "metadata": {
    "heading_collapsed": true,
    "hidden": true
   },
   "source": [
    "### 21.3.2 Looping patterns"
   ]
  },
  {
   "cell_type": "markdown",
   "metadata": {
    "hidden": true
   },
   "source": [
    "<b><font color = 'purple'>There are three basic ways to loop over a vector </font></b>. So far I’ve shown you the most general: looping over the numeric indices with `for (i in seq_along(xs))`, and extracting the value with `x[[i]]`. There are two other forms:\n",
    "\n",
    "1.  Loop over the elements: `for (x in xs)`. This is most <font color = 'blue'>useful if you only\n",
    "    care about side-effects, like plotting or saving a file</font>, because it’s\n",
    "    difficult to save the output efficiently.\n",
    "\n",
    "\n",
    "2.  Loop over the names: `for (nm in names(xs))`. This gives you name, which\n",
    "    you can use to access the value with `x[[nm]]`. This is<font color = 'blue'> useful if you want\n",
    "    to use the name in a plot title or a file name</font>. <font color = 'green'><b>If you’re creating\n",
    "    named output, make sure to name the results vector like so:</b></font>\n",
    "\n",
    "    \n",
    "\n",
    "```R\n",
    "results <- vector(\"list\", length(x))\n",
    "names(results) <- names(x)\n",
    "```"
   ]
  },
  {
   "cell_type": "markdown",
   "metadata": {
    "hidden": true
   },
   "source": [
    "Iteration over the numeric indices is the most general form, because given the position you can extract both the name and the value:\n",
    "\n",
    "\n",
    "\n",
    "```R\n",
    "for (i in seq_along(x)) {\n",
    "  name <- names(x)[[i]]\n",
    "  value <- x[[i]]\n",
    "}\n",
    "```"
   ]
  },
  {
   "cell_type": "markdown",
   "metadata": {
    "heading_collapsed": true,
    "hidden": true
   },
   "source": [
    "### 21.3.3 Unknown output length"
   ]
  },
  {
   "cell_type": "markdown",
   "metadata": {
    "hidden": true
   },
   "source": [
    "<font color = 'purple'>Sometimes you might not know how long the output will be.  </font>\n",
    "\n",
    "<b><font color = 'purple'>For example, imagine you want to simulate some random vectors of random lengths </font></b>. You might be tempted to solve this problem by progressively growing the vector:\n",
    "\n",
    "\n",
    "\n",
    "```R\n",
    "means <- c(0, 1, 2)\n",
    "\n",
    "output <- double()\n",
    "for (i in seq_along(means)) {\n",
    "  n <- sample(100, 1)\n",
    "  output <- c(output, rnorm(n, means[[i]]))\n",
    "}\n",
    "str(output)\n",
    "#>  num [1:138] 0.912 0.205 2.584 -0.789 0.588 ...\n",
    "```"
   ]
  },
  {
   "cell_type": "code",
   "execution_count": null,
   "metadata": {
    "ExecuteTime": {
     "end_time": "2020-02-21T07:30:39.504539Z",
     "start_time": "2020-02-21T07:30:39.448Z"
    },
    "hidden": true
   },
   "outputs": [],
   "source": [
    "sample(100, size = 1)"
   ]
  },
  {
   "cell_type": "markdown",
   "metadata": {
    "hidden": true
   },
   "source": [
    "But this is not very efficient because in each iteration, R has to copy all the data from the previous iterations. In technical terms you get “quadratic” $(O(n^2))$ behaviour which means that a loop with three times as many elements would take nine ($3^2$) times as long to run."
   ]
  },
  {
   "cell_type": "markdown",
   "metadata": {
    "hidden": true
   },
   "source": [
    "A better solution to save the results in a list, and then combine into a single vector after the loop is done:\n",
    "\n",
    "```R\n",
    "means <- c(0, 1, 2)\n",
    "out <- vector(\"list\", length(means))\n",
    "\n",
    "for (i in seq_along(means)) {\n",
    "  n <- sample(100, 1)\n",
    "  out[[i]] <- rnorm(n, means[[i]])\n",
    "}\n",
    "\n",
    "str(out)\n",
    "#> List of 3\n",
    "#>  $ : num [1:76] -0.3389 -0.0756 0.0402 0.1243 -0.9984 ...\n",
    "#>  $ : num [1:17] -0.11 1.149 0.614 0.77 1.392 ...\n",
    "#>  $ : num [1:41] 1.88 2.46 2.62 1.82 1.88 ...\n",
    "\n",
    "str(unlist(out))\n",
    "#>  num [1:134] -0.3389 -0.0756 0.0402 0.1243 -0.9984 ...\n",
    "```"
   ]
  },
  {
   "cell_type": "code",
   "execution_count": null,
   "metadata": {
    "ExecuteTime": {
     "end_time": "2020-02-21T07:27:26.888289Z",
     "start_time": "2020-02-21T07:27:26.814Z"
    },
    "code_folding": [
     0
    ],
    "hidden": true
   },
   "outputs": [],
   "source": [
    "# code\n",
    "means <- c(0, 1, 2)\n",
    "out <- vector(\"list\", length(means))\n",
    "\n",
    "for (i in seq_along(means)) {\n",
    "  n <- sample(100, 1)\n",
    "  out[[i]] <- rnorm(n, means[[i]])\n",
    "}\n",
    "out\n",
    "\n",
    "str(out)\n",
    "#> List of 3\n",
    "#>  $ : num [1:76] -0.3389 -0.0756 0.0402 0.1243 -0.9984 ...\n",
    "#>  $ : num [1:17] -0.11 1.149 0.614 0.77 1.392 ...\n",
    "#>  $ : num [1:41] 1.88 2.46 2.62 1.82 1.88 ...\n",
    "\n",
    "str(unlist(out))\n",
    "#>  num [1:134] -0.3389 -0.0756 0.0402 0.1243 -0.9984 ..."
   ]
  },
  {
   "cell_type": "markdown",
   "metadata": {
    "hidden": true
   },
   "source": [
    "<font color = 'blue'>Here I’ve used `unlist()` to flatten a list of vectors into a single vector. A stricter option is to use `purrr::flatten_dbl()` — it will throw an error if the input isn’t a list of doubles.</font>\n",
    "\n",
    "This pattern occurs in other places too:\n",
    "\n",
    "1.  You might be generating a long string. Instead of `paste()`ing together\n",
    "    each iteration with the previous, save the output in a character vector and\n",
    "    then combine that vector into a single string with\n",
    "    `paste(output, collapse = \"\")`.\n",
    "    \n",
    "\n",
    "2.  You might be generating a big data frame. Instead of sequentially\n",
    "    `rbind()`ing in each iteration, save the output in a list, then use\n",
    "    `dplyr::bind_rows(output)` to combine the output into a single\n",
    "    data frame.\n",
    "\n",
    "Watch out for this pattern. Whenever you see it, switch to a more complex result object, and then combine in one step at the end."
   ]
  },
  {
   "cell_type": "markdown",
   "metadata": {
    "heading_collapsed": true,
    "hidden": true
   },
   "source": [
    "### 21.3.4 Unknown sequence length"
   ]
  },
  {
   "cell_type": "markdown",
   "metadata": {
    "hidden": true
   },
   "source": [
    "Sometimes you don’t even know how long the input sequence should run for. This is common when doing simulations. For example, you might want to loop until you get three heads in a row. You can’t do that sort of iteration with the for loop. Instead, you can use a while loop. A while loop is simpler than for loop because it only has two components, a condition and a body:\n",
    "\n",
    "\n",
    "\n",
    "```R\n",
    "while (condition) {\n",
    "  # body\n",
    "}\n",
    "```"
   ]
  },
  {
   "cell_type": "markdown",
   "metadata": {
    "hidden": true
   },
   "source": [
    "<font color = 'blue'>A while loop is also more general than a for loop, because you can rewrite any for loop as a while loop, but you <b>can’t rewrite every while loop as a for loop</b></font>:\n",
    "\n",
    "\n",
    "\n",
    "```R\n",
    "for (i in seq_along(x)) {\n",
    "  # body\n",
    "}\n",
    "\n",
    "# Equivalent to\n",
    "i <- 1\n",
    "while (i <= length(x)) {\n",
    "  # body\n",
    "  i <- i + 1 \n",
    "}\n",
    "```"
   ]
  },
  {
   "cell_type": "markdown",
   "metadata": {
    "hidden": true
   },
   "source": [
    "Here’s how we could use a while loop to find how many tries it takes to get three heads in a row:\n",
    "\n",
    "\n",
    "\n",
    "```R\n",
    "flip <- function() sample(c(\"T\", \"H\"), 1)\n",
    "\n",
    "flips <- 0\n",
    "nheads <- 0\n",
    "\n",
    "while (nheads < 3) {\n",
    "  if (flip() == \"H\") {\n",
    "    nheads <- nheads + 1\n",
    "  } else {\n",
    "    nheads <- 0\n",
    "  }\n",
    "  flips <- flips + 1\n",
    "}\n",
    "flips\n",
    "#> [1] 21\n",
    "```"
   ]
  },
  {
   "cell_type": "markdown",
   "metadata": {
    "hidden": true
   },
   "source": [
    "I mention while loops only briefly, because I hardly ever use them. They’re most often used for simulation, which is outside the scope of this book. However, it is good to know they exist so that you’re prepared for problems where the number of iterations is not known in advance."
   ]
  },
  {
   "cell_type": "markdown",
   "metadata": {
    "heading_collapsed": true,
    "hidden": true
   },
   "source": [
    "### 21.3.5 Exercises"
   ]
  },
  {
   "cell_type": "markdown",
   "metadata": {
    "heading_collapsed": true,
    "hidden": true
   },
   "source": [
    "##### Exercise 21.3.1[__](https://jrnold.github.io/r4ds-exercise-solutions/iteration.html#exercise-21.3.1)"
   ]
  },
  {
   "cell_type": "markdown",
   "metadata": {
    "hidden": true
   },
   "source": [
    "Imagine you have a directory full of CSV files that you want to read in. You have their paths in a vector, `files <- dir(\"data/\", pattern = \"\\\\.csv$\", full.names = TRUE)`, and now want to read each one with `read_csv()`. \n",
    "\n",
    "<b>Write the for loop that will load them into a single data frame.</b>\n",
    "\n",
    "\n",
    "\n",
    "```R\n",
    "files <- dir(\"data/\", pattern = \"\\\\.csv$\", full.names = TRUE)\n",
    "files\n",
    "#> [1] \"data//file1.csv\" \"data//file2.csv\" \"data//file3.csv\"\n",
    "```"
   ]
  },
  {
   "cell_type": "code",
   "execution_count": null,
   "metadata": {
    "ExecuteTime": {
     "end_time": "2020-02-21T17:51:37.581823Z",
     "start_time": "2020-02-21T17:51:37.522Z"
    },
    "hidden": true
   },
   "outputs": [],
   "source": [
    "files <- dir(\"data/\", pattern = \"\\\\.csv$\", full.names = TRUE)\n",
    "files"
   ]
  },
  {
   "cell_type": "markdown",
   "metadata": {
    "hidden": true
   },
   "source": [
    "Since, the number of files is \n",
    "<hypothesis-highlight class=\"hypothesis-highlight\">know</hypothesis-highlight>n, pre-allocate a list with a length equal to the number of files.\n",
    "\n",
    "\n",
    "\n",
    "```R\n",
    "df_list <- vector(\"list\", length(files))\n",
    "```"
   ]
  },
  {
   "cell_type": "code",
   "execution_count": null,
   "metadata": {
    "ExecuteTime": {
     "end_time": "2020-02-21T19:30:58.266345Z",
     "start_time": "2020-02-21T19:30:58.219Z"
    },
    "hidden": true
   },
   "outputs": [],
   "source": [
    "df_list <- vector(\"list\", length(files))\n",
    "\n",
    "df_list"
   ]
  },
  {
   "cell_type": "markdown",
   "metadata": {
    "hidden": true
   },
   "source": [
    "Then, read each file into a data frame, and assign it to an element in that list. The result is a list of dataframes."
   ]
  },
  {
   "cell_type": "markdown",
   "metadata": {
    "hidden": true
   },
   "source": [
    "```R\n",
    "for (i in seq_along(files)) {\n",
    "  df_list[[i]] <- read_csv(files[[i]])\n",
    "}\n",
    "#> Parsed with column specification:\n",
    "#> cols(\n",
    "#>   X1 = col_double(),\n",
    "#>   X2 = col_character()\n",
    "#> )\n",
    "#> Parsed with column specification:\n",
    "#> cols(\n",
    "#>   X1 = col_double(),\n",
    "#>   X2 = col_character()\n",
    "#> )\n",
    "#> Parsed with column specification:\n",
    "#> cols(\n",
    "#>   X1 = col_double(),\n",
    "#>   X2 = col_character()\n",
    "#> )\n",
    "```"
   ]
  },
  {
   "cell_type": "code",
   "execution_count": null,
   "metadata": {
    "ExecuteTime": {
     "end_time": "2020-02-21T19:39:19.169338Z",
     "start_time": "2020-02-21T19:39:18.896Z"
    },
    "hidden": true
   },
   "outputs": [],
   "source": [
    "for (i in seq_along(files)) {\n",
    "  df_list[[i]] <- read_csv(files[[i]])\n",
    "}"
   ]
  },
  {
   "cell_type": "markdown",
   "metadata": {
    "hidden": true
   },
   "source": [
    "```R\n",
    "print(df_list)\n",
    "#> [[1]]\n",
    "#> # A tibble: 2 x 2\n",
    "#>      X1 X2   \n",
    "#>   <dbl> <chr>\n",
    "#> 1     1 a    \n",
    "#> 2     2 b    \n",
    "#> \n",
    "#> [[2]]\n",
    "#> # A tibble: 2 x 2\n",
    "#>      X1 X2   \n",
    "#>   <dbl> <chr>\n",
    "#> 1     3 c    \n",
    "#> 2     4 d    \n",
    "#> \n",
    "#> [[3]]\n",
    "#> # A tibble: 2 x 2\n",
    "#>      X1 X2   \n",
    "#>   <dbl> <chr>\n",
    "#> 1     5 e    \n",
    "#> 2     6 f\n",
    "```"
   ]
  },
  {
   "cell_type": "code",
   "execution_count": null,
   "metadata": {
    "ExecuteTime": {
     "end_time": "2020-02-21T19:39:40.220756Z",
     "start_time": "2020-02-21T19:39:39.991Z"
    },
    "hidden": true
   },
   "outputs": [],
   "source": [
    "print(df_list)"
   ]
  },
  {
   "cell_type": "code",
   "execution_count": null,
   "metadata": {
    "ExecuteTime": {
     "end_time": "2020-02-21T19:41:17.002055Z",
     "start_time": "2020-02-21T19:41:16.959Z"
    },
    "hidden": true
   },
   "outputs": [],
   "source": [
    "df_list[[1]] %>% class"
   ]
  },
  {
   "cell_type": "markdown",
   "metadata": {
    "hidden": true
   },
   "source": [
    "Finally, use use `bind_rows()` to combine the list of data frames into a single data frame.\n",
    "\n",
    "\n",
    "\n",
    "```R\n",
    "df <- bind_rows(df_list)\n",
    "```"
   ]
  },
  {
   "cell_type": "code",
   "execution_count": null,
   "metadata": {
    "ExecuteTime": {
     "end_time": "2020-02-21T19:42:59.857753Z",
     "start_time": "2020-02-21T19:42:59.785Z"
    },
    "hidden": true
   },
   "outputs": [],
   "source": [
    "df <- bind_rows(df_list)\n",
    "print(df)"
   ]
  },
  {
   "cell_type": "markdown",
   "metadata": {
    "hidden": true
   },
   "source": [
    "```R\n",
    "print(df)\n",
    "#> # A tibble: 6 x 2\n",
    "#>      X1 X2   \n",
    "#>   <dbl> <chr>\n",
    "#> 1     1 a    \n",
    "#> 2     2 b    \n",
    "#> 3     3 c    \n",
    "#> 4     4 d    \n",
    "#> 5     5 e    \n",
    "#> 6     6 f\n",
    "```"
   ]
  },
  {
   "cell_type": "markdown",
   "metadata": {
    "hidden": true
   },
   "source": [
    "Alternatively, I could have pre-allocated a list with the names of the files."
   ]
  },
  {
   "cell_type": "markdown",
   "metadata": {
    "hidden": true
   },
   "source": [
    "```R\n",
    "df2_list <- vector(\"list\", length(files))\n",
    "names(df2_list) <- files\n",
    "\n",
    "for (fname in files) {\n",
    "  df2_list[[fname]] <- read_csv(fname)\n",
    "}\n",
    "#> Parsed with column specification:\n",
    "#> cols(\n",
    "#>   X1 = col_double(),\n",
    "#>   X2 = col_character()\n",
    "#> )\n",
    "#> Parsed with column specification:\n",
    "#> cols(\n",
    "#>   X1 = col_double(),\n",
    "#>   X2 = col_character()\n",
    "#> )\n",
    "#> Parsed with column specification:\n",
    "#> cols(\n",
    "#>   X1 = col_double(),\n",
    "#>   X2 = col_character()\n",
    "#> )\n",
    "df2 <- bind_rows(df2_list)\n",
    "```"
   ]
  },
  {
   "cell_type": "markdown",
   "metadata": {
    "heading_collapsed": true,
    "hidden": true
   },
   "source": [
    "##### Exercise 21.3.2[__](https://jrnold.github.io/r4ds-exercise-solutions/iteration.html#exercise-21.3.2)"
   ]
  },
  {
   "cell_type": "markdown",
   "metadata": {
    "hidden": true
   },
   "source": [
    "What happens if you use `for (nm in names(x))` and `x` has no names?\n",
    "What if only some of the elements are named?\n",
    "What if the names are not unique?\n",
    "\n",
    "Let’s try it out and see what happens.\n",
    "When there are no names for the vector, it does not run the code in the loop.\n",
    "In other words, it runs zero iterations of the loop."
   ]
  },
  {
   "cell_type": "code",
   "execution_count": null,
   "metadata": {
    "ExecuteTime": {
     "end_time": "2020-02-21T19:43:55.766330Z",
     "start_time": "2020-02-21T19:43:55.711Z"
    },
    "hidden": true
   },
   "outputs": [],
   "source": [
    "x <- c(11, 12, 13)\n",
    "print(names(x))\n",
    "#> NULL\n",
    "\n",
    "for (nm in names(x)) {\n",
    "  print(nm)\n",
    "  print(x[[nm]])\n",
    "}\n"
   ]
  },
  {
   "cell_type": "markdown",
   "metadata": {
    "hidden": true
   },
   "source": [
    "Note that the length of `NULL` is zero:"
   ]
  },
  {
   "cell_type": "markdown",
   "metadata": {
    "ExecuteTime": {
     "end_time": "2020-02-21T19:44:24.909457Z",
     "start_time": "2020-02-21T19:44:24.860Z"
    },
    "hidden": true
   },
   "source": [
    "```R \n",
    "length(NULL)\n",
    "#> [1] 0\n",
    "```"
   ]
  },
  {
   "cell_type": "markdown",
   "metadata": {
    "hidden": true
   },
   "source": [
    "If there only some names, then we get an error for trying to access an element without a name."
   ]
  },
  {
   "cell_type": "markdown",
   "metadata": {
    "hidden": true
   },
   "source": [
    "```R\n",
    "x <- c(a = 11, 12, c = 13)\n",
    "names(x)\n",
    "#> [1] \"a\" \"\"  \"c\"\n",
    "```\n",
    "\n",
    "\n",
    "\n",
    "```R\n",
    "for (nm in names(x)) {\n",
    "  print(nm)\n",
    "  print(x[[nm]])\n",
    "}\n",
    "#> [1] \"a\"\n",
    "#> [1] 11\n",
    "#> [1] \"\"\n",
    "#> Error in x[[nm]]: subscript out of bounds\n",
    "```"
   ]
  },
  {
   "cell_type": "markdown",
   "metadata": {
    "hidden": true
   },
   "source": [
    "Finally, if the vector contains duplicate names, then `x[[nm]]` returns the _first_ element with that name."
   ]
  },
  {
   "cell_type": "markdown",
   "metadata": {
    "hidden": true
   },
   "source": [
    "```R\n",
    "x <- c(a = 11, a = 12, c = 13)\n",
    "names(x)\n",
    "#> [1] \"a\" \"a\" \"c\"\n",
    "```"
   ]
  },
  {
   "cell_type": "markdown",
   "metadata": {
    "hidden": true
   },
   "source": [
    "```R\n",
    "for (nm in names(x)) {\n",
    "  print(nm)\n",
    "  print(x[[nm]])\n",
    "}\n",
    "#> [1] \"a\"\n",
    "#> [1] 11\n",
    "#> [1] \"a\"\n",
    "#> [1] 11\n",
    "#> [1] \"c\"\n",
    "#> [1] 13\n",
    "```"
   ]
  },
  {
   "cell_type": "markdown",
   "metadata": {
    "heading_collapsed": true,
    "hidden": true
   },
   "source": [
    "##### Exercise 21.3.3[__](https://jrnold.github.io/r4ds-exercise-solutions/iteration.html#exercise-21.3.3)"
   ]
  },
  {
   "cell_type": "markdown",
   "metadata": {
    "hidden": true
   },
   "source": [
    "Write a function that prints the mean of each numeric column in a data frame, along with its name.\n",
    "For example, `show_mean(iris)` would print:\n",
    "\n",
    "\n",
    "\n",
    "```R\n",
    "show_mean(iris)\n",
    "# > Sepal.Length: 5.84\n",
    "# > Sepal.Width:  3.06\n",
    "# > Petal.Length: 3.76\n",
    "# > Petal.Width:  1.20\n",
    "```"
   ]
  },
  {
   "cell_type": "markdown",
   "metadata": {
    "hidden": true
   },
   "source": [
    "Extra challenge: what function did I use to make sure that the numbers lined up nicely, even though the variable names had different lengths?\n",
    "\n",
    "There may be other functions to do this, but I’ll use `str_pad()`, and `str_length()` to ensure that the space given to the variable names is the same.\n",
    "I messed around with the options to `format()` until I got two digits.\n",
    "\n",
    "\n",
    "\n",
    "```R\n",
    "show_mean <- function(df, digits = 2) {\n",
    "  # Get max length of all variable names in the dataset\n",
    "  maxstr <- max(str_length(names(df)))\n",
    "  for (nm in names(df)) {\n",
    "    if (is.numeric(df[[nm]])) {\n",
    "      cat(\n",
    "        str_c(str_pad(str_c(nm, \":\"), maxstr + 1L, side = \"right\"),\n",
    "          format(mean(df[[nm]]), digits = digits, nsmall = digits),\n",
    "          sep = \" \"\n",
    "        ),\n",
    "        \"\\n\"\n",
    "      )\n",
    "    }\n",
    "  }\n",
    "}\n",
    "\n",
    "show_mean(iris)\n",
    "#> Sepal.Length: 5.84 \n",
    "#> Sepal.Width:  3.06 \n",
    "#> Petal.Length: 3.76 \n",
    "#> Petal.Width:  1.20\n",
    "```"
   ]
  },
  {
   "cell_type": "code",
   "execution_count": null,
   "metadata": {
    "ExecuteTime": {
     "end_time": "2020-02-21T19:51:32.669508Z",
     "start_time": "2020-02-21T19:51:32.603Z"
    },
    "hidden": true
   },
   "outputs": [],
   "source": [
    "show_mean <- function(df, digits = 2) {\n",
    "    \n",
    "  # Get max length of all variable names in the dataset\n",
    "  maxstr <- max(str_length(names(df)))\n",
    "    \n",
    "  for (nm in names(df)) {\n",
    "    if (is.numeric(df[[nm]])) {\n",
    "      cat(\n",
    "        str_c(str_pad(str_c(nm, \":\"), maxstr + 1L, side = \"right\"),\n",
    "          format(mean(df[[nm]]), digits = digits, nsmall = digits),\n",
    "          sep = \" \"\n",
    "        ),\n",
    "        \"\\n\"\n",
    "      )\n",
    "    }\n",
    "  }\n",
    "}\n",
    "\n",
    "show_mean(iris)"
   ]
  },
  {
   "cell_type": "code",
   "execution_count": null,
   "metadata": {
    "ExecuteTime": {
     "end_time": "2020-02-21T19:53:28.227794Z",
     "start_time": "2020-02-21T19:53:28.141Z"
    },
    "hidden": true
   },
   "outputs": [],
   "source": [
    "df <- iris\n",
    "cat('\\n',\"max(str_length(names(df)))\", str_dup(\"-\",34), '\\n')\n",
    "max(str_length(names(df)))\n",
    "cat('\\n',\"names(df)\", str_dup(\"-\",51), '\\n')\n",
    "names(df)\n",
    "cat('\\n',\"max(length(names(df)))\", str_dup(\"-\",38), '\\n')\n",
    "max(length(names(df)))"
   ]
  },
  {
   "cell_type": "code",
   "execution_count": null,
   "metadata": {
    "ExecuteTime": {
     "end_time": "2020-02-21T20:00:45.288059Z",
     "start_time": "2020-02-21T20:00:45.247Z"
    },
    "hidden": true
   },
   "outputs": [],
   "source": [
    "typeof(df['Sepal.Length'])"
   ]
  },
  {
   "cell_type": "markdown",
   "metadata": {
    "heading_collapsed": true,
    "hidden": true
   },
   "source": [
    "##### Exercise 21.3.4[__](https://jrnold.github.io/r4ds-exercise-solutions/iteration.html#exercise-21.3.4)"
   ]
  },
  {
   "cell_type": "markdown",
   "metadata": {
    "hidden": true
   },
   "source": [
    "What does this code do?\n",
    "How does it work?\n",
    "\n",
    "\n",
    "\n",
    "```R\n",
    "trans <- list(\n",
    "  disp = function(x) x * 0.0163871,\n",
    "  am = function(x) {\n",
    "    factor(x, labels = c(\"auto\", \"manual\"))\n",
    "  }\n",
    ")\n",
    "\n",
    "for (var in names(trans)) {\n",
    "  mtcars[[var]] <- trans[[var]](mtcars[[var]])\n",
    "}\n",
    "```"
   ]
  },
  {
   "cell_type": "code",
   "execution_count": null,
   "metadata": {
    "ExecuteTime": {
     "end_time": "2020-02-22T01:37:04.646633Z",
     "start_time": "2020-02-22T01:37:04.587Z"
    },
    "hidden": true
   },
   "outputs": [],
   "source": [
    "mtcars %>% head"
   ]
  },
  {
   "cell_type": "code",
   "execution_count": null,
   "metadata": {
    "ExecuteTime": {
     "end_time": "2020-02-22T01:36:58.666070Z",
     "start_time": "2020-02-22T01:36:58.586Z"
    },
    "hidden": true
   },
   "outputs": [],
   "source": [
    "trans <- list( \n",
    "  disp = function(x) x * 0.0163871, \n",
    "  am = function(x) { \n",
    "    factor(x, labels = c(\"auto\", \"manual\")) \n",
    "  } \n",
    ") \n",
    "\n",
    "for (var in names(trans)) { \n",
    "  mtcars[[var]] <- trans[[var]](mtcars[[var]]) \n",
    "} \n",
    "mtcars %>% head() \n",
    "# rm(mtcars)"
   ]
  },
  {
   "cell_type": "code",
   "execution_count": null,
   "metadata": {
    "ExecuteTime": {
     "end_time": "2020-02-21T21:48:51.510951Z",
     "start_time": "2020-02-21T21:48:51.378Z"
    },
    "hidden": true
   },
   "outputs": [],
   "source": [
    "mtcars\n",
    "trans[[\"disp\"]](mtcars[[\"disp\"]])\n"
   ]
  },
  {
   "cell_type": "code",
   "execution_count": null,
   "metadata": {
    "ExecuteTime": {
     "end_time": "2020-02-21T20:39:50.137380Z",
     "start_time": "2020-02-21T20:39:50.093Z"
    },
    "hidden": true
   },
   "outputs": [],
   "source": [
    "trans[[\"disp\"]]"
   ]
  },
  {
   "cell_type": "markdown",
   "metadata": {
    "hidden": true
   },
   "source": [
    "This code mutates the `disp` and `am` columns:\n",
    "\n",
    "* `disp` is multiplied by 0.0163871\n",
    "* `am` is replaced by a factor variable.\n",
    "\n",
    "The code works by looping over a named list of functions.\n",
    "It calls the named function in the list on the column of `mtcars` with the same name, and replaces the values of that column.\n",
    "\n",
    "<font color = 'green'><b>This is a <span style='background-color: lightgreen'>function</span>.</b></font>"
   ]
  },
  {
   "cell_type": "markdown",
   "metadata": {
    "hidden": true
   },
   "source": [
    "```R\n",
    "trans[[\"disp\"]]\n",
    "```\n",
    "\n",
    "This applies the function to the column of `mtcars` with the same name\n",
    "\n",
    "\n",
    "\n",
    "```R\n",
    "trans[[\"disp\"]](mtcars[[\"disp\"]])\n",
    "```"
   ]
  },
  {
   "cell_type": "markdown",
   "metadata": {
    "heading_collapsed": true,
    "hidden": true
   },
   "source": [
    "## For loops vs. functionals"
   ]
  },
  {
   "cell_type": "markdown",
   "metadata": {
    "hidden": true
   },
   "source": [
    "For loops are not as important in R as they are in other languages because R is a functional programming language. This means that it’s possible to wrap up for loops in a function, and call that function instead of using the for loop directly.\n",
    "\n",
    "To see why this is important, consider (again) this simple data frame:\n",
    "\n",
    "\n",
    "\n",
    "\n",
    "\n",
    "```R\n",
    "df <- tibble(\n",
    "  a = rnorm(10),\n",
    "  b = rnorm(10),\n",
    "  c = rnorm(10),\n",
    "  d = rnorm(10)\n",
    ")\n",
    "```"
   ]
  },
  {
   "cell_type": "markdown",
   "metadata": {
    "hidden": true
   },
   "source": [
    "Imagine you want to compute the mean of every column. You could do that with a for loop:\n",
    "\n",
    "\n",
    "\n",
    "\n",
    "\n",
    "```R\n",
    "output <- vector(\"double\", length(df))\n",
    "for (i in seq_along(df)) {\n",
    "  output[[i]] <- mean(df[[i]])\n",
    "}\n",
    "output\n",
    "#> [1] -0.326  0.136  0.429 -0.250\n",
    "```"
   ]
  },
  {
   "cell_type": "markdown",
   "metadata": {
    "hidden": true
   },
   "source": [
    "You realise that you’re going to want to compute the means of every column pretty frequently, so you extract it out into a function:\n",
    "\n",
    "\n",
    "\n",
    "\n",
    "\n",
    "```R\n",
    "col_mean <- function(df) {\n",
    "  output <- vector(\"double\", length(df))\n",
    "  for (i in seq_along(df)) {\n",
    "    output[i] <- mean(df[[i]])\n",
    "  }\n",
    "  output\n",
    "}\n",
    "```"
   ]
  },
  {
   "cell_type": "markdown",
   "metadata": {
    "hidden": true
   },
   "source": [
    "But then you think it’d also be helpful to be able to compute the median, and the standard deviation, so you copy and paste your `col_mean()` function and replace the `mean()` with `median()` and `sd()`:\n",
    "\n",
    "\n",
    "\n",
    "\n",
    "\n",
    "```R\n",
    "col_median <- function(df) {\n",
    "  output <- vector(\"double\", length(df))\n",
    "  for (i in seq_along(df)) {\n",
    "    output[i] <- median(df[[i]])\n",
    "  }\n",
    "  output\n",
    "}\n",
    "\n",
    "col_sd <- function(df) {\n",
    "  output <- vector(\"double\", length(df))\n",
    "  for (i in seq_along(df)) {\n",
    "    output[i] <- sd(df[[i]])\n",
    "  }\n",
    "  output\n",
    "}\n",
    "```"
   ]
  },
  {
   "cell_type": "markdown",
   "metadata": {
    "hidden": true
   },
   "source": [
    "Uh oh! You’ve copied-and-pasted this code twice, so it’s time to think about how to generalise it. Notice that most of this code is for-loop boilerplate and it’s hard to see the one thing (`mean()`, `median()`, `sd()`) that is different between the functions.\n",
    "\n",
    "What would you do if you saw a set of functions like this:\n",
    "\n",
    "\n",
    "\n",
    "\n",
    "\n",
    "```R\n",
    "f1 <- function(x) abs(x - mean(x)) ^ 1\n",
    "f2 <- function(x) abs(x - mean(x)) ^ 2\n",
    "f3 <- function(x) abs(x - mean(x)) ^ 3\n",
    "```"
   ]
  },
  {
   "cell_type": "markdown",
   "metadata": {
    "hidden": true
   },
   "source": [
    "Hopefully, you’d notice that there’s a lot of duplication, and extract it out into an additional argument:\n",
    "\n",
    "\n",
    "\n",
    "\n",
    "\n",
    "```R\n",
    "f <- function(x, i) abs(x - mean(x)) ^ i\n",
    "```"
   ]
  },
  {
   "cell_type": "markdown",
   "metadata": {
    "hidden": true
   },
   "source": [
    "You’ve reduced the chance of bugs (because you now have 1/3 of the original code), and made it easy to generalise to new situations.\n",
    "\n",
    "We can do exactly the same thing with `col_mean()`, `col_median()` and `col_sd()` by adding an argument that supplies the function to apply to each column:\n",
    "\n",
    "\n",
    "\n",
    "\n",
    "\n",
    "```R\n",
    "col_summary <- function(df, fun) {\n",
    "  out <- vector(\"double\", length(df))\n",
    "  for (i in seq_along(df)) {\n",
    "    out[i] <- fun(df[[i]])\n",
    "  }\n",
    "  out\n",
    "}\n",
    "\n",
    "col_summary(df, median)\n",
    "#> [1] -0.5185  0.0278  0.1730 -0.6116\n",
    "\n",
    "col_summary(df, mean)\n",
    "#> [1] -0.326  0.136  0.429 -0.250\n",
    "```"
   ]
  },
  {
   "cell_type": "markdown",
   "metadata": {
    "hidden": true
   },
   "source": [
    "<font color = 'blue'>The idea of <b>passing a function to another function</b> is an extremely powerful idea, and it’s one of the behaviours that <b>makes R a functional programming language</b></font>. It might take you a while to wrap your head around the idea, but it’s worth the investment. In the rest of the chapter, you’ll learn about and use the **purrr** package, which provides functions that eliminate the need for many common for loops. The apply family of functions in base R (`apply()`, `lapply()`, `tapply()`, etc) solve a similar problem, but purrr is more consistent and thus is easier to learn.\n",
    "\n",
    "<font color = 'blue'>The goal of using <b>purrr</b> functions instead of for loops is to <b>allow you to break common list manipulation challenges into independent pieces</b>:</font>\n",
    "\n",
    "1.  <b><font color = 'purple'>How can you solve the problem for a single element of the list?  </font></b><font color = 'blue'>Once\n",
    "    you’ve solved that problem, purrr takes care of generalising your\n",
    "    solution to every element in the list</font>.\n",
    "\n",
    "\n",
    "2.  If you’re solving a complex problem, how can you break it down into\n",
    "    bite-sized pieces that allow you to advance one small step towards a\n",
    "    solution? <font color = 'blue'>With purrr, you get lots of small pieces that you can\n",
    "    compose together with the pipe</font>.\n",
    "\n",
    "This structure makes it easier to solve new problems. It also makes it easier to understand your solutions to old problems when you re-read your old code."
   ]
  },
  {
   "cell_type": "markdown",
   "metadata": {
    "heading_collapsed": true,
    "hidden": true
   },
   "source": [
    "### 21.4.1 Exercises"
   ]
  },
  {
   "cell_type": "markdown",
   "metadata": {
    "hidden": true
   },
   "source": [
    "1.  Read the documentation for `apply()`. In the 2d case, what two for loops\n",
    "    does it generalise?\n",
    "    \n",
    "\n",
    "2.  Adapt `col_summary()` so that it only applies to numeric columns\n",
    "    You might want to start with an `is_numeric()` function that returns\n",
    "    a logical vector that has a TRUE corresponding to each numeric column."
   ]
  },
  {
   "cell_type": "markdown",
   "metadata": {
    "heading_collapsed": true,
    "hidden": true
   },
   "source": [
    "##### Exercise 21.4.1[__](https://jrnold.github.io/r4ds-exercise-solutions/iteration.html#exercise-21.4.1)"
   ]
  },
  {
   "cell_type": "markdown",
   "metadata": {
    "hidden": true
   },
   "source": [
    "For an object with two-dimensions, such as a matrix or data frame, `apply()` replaces looping over the rows or columns of a matrix or data-frame.\n",
    "The `apply()` function is used like `apply(X, MARGIN, FUN, ...)`, where `X` is a matrix or array, `FUN` is a function to apply, and `...` are additional arguments passed to `FUN`.\n",
    "\n",
    "<font color = 'green'><b>When `MARGIN = 1`, then the function is applied to each row.</b></font>\n",
    "<b><font color = 'purple'>For example, the following example calculates the row means of a matrix. </font></b>\n",
    "```R\n",
    "X <- matrix(rnorm(15), nrow = 5)\n",
    "X\n",
    "#>         [,1]   [,2]   [,3]\n",
    "#> [1,] -1.4523  0.124  0.709\n",
    "#> [2,]  0.9412 -0.998 -1.529\n",
    "#> [3,] -0.3389  1.233  0.237\n",
    "#> [4,] -0.0756  0.340 -1.313\n",
    "#> [5,]  0.0402 -0.473  0.747\n",
    "```"
   ]
  },
  {
   "cell_type": "markdown",
   "metadata": {
    "hidden": true
   },
   "source": [
    "```R\n",
    "apply(X, 1, mean)\n",
    "#> [1] -0.206 -0.529  0.377 -0.349  0.105\n",
    "```"
   ]
  },
  {
   "cell_type": "markdown",
   "metadata": {
    "hidden": true
   },
   "source": [
    "That is equivalent to this for-loop.\n",
    "\n",
    "```R\n",
    "X_row_means <- vector(\"numeric\", length = nrow(X))\n",
    "\n",
    "for (i in seq_len(nrow(X))) {\n",
    "  X_row_means[[i]] <- mean(X[i, ])\n",
    "}\n",
    "\n",
    "X_row_means\n",
    "#> [1] -0.206 -0.529  0.377 -0.349  0.105\n",
    "```"
   ]
  },
  {
   "cell_type": "code",
   "execution_count": null,
   "metadata": {
    "ExecuteTime": {
     "end_time": "2020-02-22T19:51:26.611099Z",
     "start_time": "2020-02-22T19:51:26.526Z"
    },
    "hidden": true
   },
   "outputs": [],
   "source": [
    "X <- matrix(rnorm(15), nrow = 5)\n",
    "X\n",
    "seq_len(nrow(X))"
   ]
  },
  {
   "cell_type": "markdown",
   "metadata": {
    "hidden": true
   },
   "source": [
    "```R\n",
    "X <- matrix(rnorm(15), nrow = 5)\n",
    "X\n",
    "#>         [,1]   [,2]     [,3]\n",
    "#> [1,] -1.5625  1.153  1.20377\n",
    "#> [2,]  0.0711 -1.687 -1.43127\n",
    "#> [3,] -0.6395 -0.903  1.38291\n",
    "#> [4,] -0.8452  1.318  0.00313\n",
    "#> [5,]  0.6752  1.100 -0.07789\n",
    "```"
   ]
  },
  {
   "cell_type": "markdown",
   "metadata": {
    "hidden": true
   },
   "source": [
    "<font color = 'green'><b>When `MARGIN = 2`, `apply()` is equivalent to a for-loop looping over columns.</b></font>"
   ]
  },
  {
   "cell_type": "markdown",
   "metadata": {
    "hidden": true
   },
   "source": [
    "```R\n",
    "apply(X, 2, mean)\n",
    "#> [1] -0.460  0.196  0.216\n",
    "```"
   ]
  },
  {
   "cell_type": "markdown",
   "metadata": {
    "hidden": true
   },
   "source": [
    "```R\n",
    "X_col_means <- vector(\"numeric\", length = ncol(X))\n",
    "\n",
    "for (i in seq_len(ncol(X))) {\n",
    "  X_col_means[[i]] <- mean(X[, i])\n",
    "}\n",
    "\n",
    "X_col_means\n",
    "#> [1] -0.460  0.196  0.216\n",
    "```"
   ]
  },
  {
   "cell_type": "markdown",
   "metadata": {
    "heading_collapsed": true,
    "hidden": true
   },
   "source": [
    "### Exercise 21.4.2[__](https://jrnold.github.io/r4ds-exercise-solutions/iteration.html#exercise-21.4.2)"
   ]
  },
  {
   "cell_type": "markdown",
   "metadata": {
    "hidden": true
   },
   "source": [
    "Adapt `col_summary()` so that it only applies to numeric columns.\n",
    "You might want to start with an `is_numeric()` function that returns a logical vector that has a `TRUE` corresponding to each numeric column.\n",
    "\n",
    "The original `col_summary()` function is"
   ]
  },
  {
   "cell_type": "markdown",
   "metadata": {
    "hidden": true
   },
   "source": [
    "```R\n",
    "col_summary <- function(df, fun) {\n",
    "  out <- vector(\"double\", length(df))\n",
    "  for (i in seq_along(df)) {\n",
    "    out[i] <- fun(df[[i]])\n",
    "  }\n",
    "  out\n",
    "}\n",
    "```\n",
    "\n",
    "The adapted version adds extra logic to only apply the function to numeric columns."
   ]
  },
  {
   "cell_type": "markdown",
   "metadata": {
    "hidden": true
   },
   "source": [
    "```R\n",
    "col_summary2 <- function(df, fun) {\n",
    "    \n",
    "  # create an empty vector which will store whether each\n",
    "  # column is numeric\n",
    "  numeric_cols <- vector(\"logical\", length(df))\n",
    "    \n",
    "  # test whether each column is numeric\n",
    "  for (i in seq_along(df)) {\n",
    "    numeric_cols[[i]] <- is.numeric(df[[i]])\n",
    "  }\n",
    "    \n",
    "  # find the indexes of the numeric columns\n",
    "  idxs <- which(numeric_cols)\n",
    "  \n",
    "  # find the number of numeric columns\n",
    "  n <- sum(numeric_cols)\n",
    "  \n",
    "  # create a vector to hold the results\n",
    "  out <- vector(\"double\", n)\n",
    "  \n",
    "  # apply the function only to numeric vectors\n",
    "  for (i in seq_along(idxs)) {\n",
    "    out[[i]] <- fun(df[[idxs[[i]]]])\n",
    "  }\n",
    "  \n",
    "  # name the vector\n",
    "  names(out) <- names(df)[idxs]\n",
    "  \n",
    "  out\n",
    "}\n",
    "```\n",
    "\n",
    "Let’s test that `col_summary2()` works by creating a small data frame with\n",
    "some numeric and non-numeric columns."
   ]
  },
  {
   "cell_type": "markdown",
   "metadata": {
    "hidden": true
   },
   "source": [
    "```R\n",
    "df <- tibble(\n",
    "  X1 = c(1, 2, 3),\n",
    "  X2 = c(\"A\", \"B\", \"C\"),\n",
    "  X3 = c(0, -1, 5),\n",
    "  X4 = c(TRUE, FALSE, TRUE)\n",
    ")\n",
    "\n",
    "col_summary2(df, mean)\n",
    "#>   X1   X3 \n",
    "#> 2.00 1.33\n",
    "```\n",
    "\n",
    "As expected, it only calculates the mean of the numeric columns, `X1` and `X3`.\n",
    "Let’s test that it works with another function.\n",
    "\n",
    "```R\n",
    "col_summary2(df, median)\n",
    "#> X1 X3 \n",
    "#>  2  0\n",
    "```"
   ]
  },
  {
   "cell_type": "markdown",
   "metadata": {
    "heading_collapsed": true,
    "hidden": true
   },
   "source": [
    "## 21.5 The map functions"
   ]
  },
  {
   "cell_type": "markdown",
   "metadata": {
    "hidden": true
   },
   "source": [
    "The pattern of looping over a vector, doing something to each element and saving the results is so common that the purrr package provides a family of functions to do it for you. There is one function for each type of output:\n",
    "\n",
    "* `map()` makes a list.\n",
    "* `map_lgl()` makes a logical vector.\n",
    "* `map_int()` makes an integer vector.\n",
    "* `map_dbl()` makes a double vector.\n",
    "* `map_chr()` makes a character vector.\n",
    "\n",
    "Each function takes a vector as input, applies a function to each piece, and then returns a new vector that’s the same length (and has the same names) as the input. The type of the vector is determined by the suffix to the map function.\n",
    "\n",
    "<b><font color = 'purple'>Once you master these functions, you’ll find it takes much less time to solve iteration problems.  </font></b><font color = 'blue'>But you should never feel bad about using a for loop instead of a map function. The<b> map functions are a step up a tower of abstraction</b>, and it can take a long time to get your head around how they work</font>. The important thing is that you solve the problem that you’re working on, not write the most concise and elegant code (although that’s definitely something you want to strive towards!).\n",
    "\n",
    "Some people will tell you to avoid for loops because they are slow. They’re wrong! (Well at least they’re rather out of date, as for loops haven’t been slow for many years.) <font color = 'blue'>The chief benefits of using functions like `map()` is not speed, but clarity</font>: they make your code easier to write and to read.\n",
    "\n",
    "We can use these functions to perform the same computations as the last for loop. Those summary functions returned doubles, so we need to use `map_dbl()`:"
   ]
  },
  {
   "cell_type": "markdown",
   "metadata": {
    "hidden": true
   },
   "source": [
    "```R\n",
    "map_dbl(df, mean)\n",
    "#>      a      b      c      d \n",
    "#> -0.326  0.136  0.429 -0.250\n",
    "\n",
    "map_dbl(df, median)\n",
    "#>       a       b       c       d \n",
    "#> -0.5185  0.0278  0.1730 -0.6116\n",
    "\n",
    "map_dbl(df, sd)\n",
    "#>     a     b     c     d \n",
    "#> 0.921 0.485 0.982 1.156\n",
    "```"
   ]
  },
  {
   "cell_type": "markdown",
   "metadata": {
    "hidden": true
   },
   "source": [
    "Compared to using a for loop, focus is on the operation being performed (i.e. `mean()`, `median()`, `sd()`), not the bookkeeping required to loop over every element and store the output. This is even more apparent if we use the pipe:"
   ]
  },
  {
   "cell_type": "markdown",
   "metadata": {
    "hidden": true
   },
   "source": [
    "```R\n",
    "df %>% map_dbl(mean)\n",
    "#>      a      b      c      d \n",
    "#> -0.326  0.136  0.429 -0.250\n",
    "\n",
    "df %>% map_dbl(median)\n",
    "#>       a       b       c       d \n",
    "#> -0.5185  0.0278  0.1730 -0.6116\n",
    "\n",
    "df %>% map_dbl(sd)\n",
    "#>     a     b     c     d \n",
    "#> 0.921 0.485 0.982 1.156\n",
    "```"
   ]
  },
  {
   "cell_type": "markdown",
   "metadata": {
    "hidden": true
   },
   "source": [
    "There are a few differences between `map_*()` and `col_summary()`:\n",
    "\n",
    "* All purrr functions are implemented in C. This makes them a little faster\n",
    "    at the expense of readability.\n",
    "\n",
    "\n",
    "* <font color = 'green'>The second argument, `.f`, the function to apply, can be a formula, a\n",
    "    character vector, or an integer vector</font>. You’ll learn about those handy\n",
    "    shortcuts in the next section.\n",
    "\n",
    "\n",
    "* <font color = 'green'><b>`map_*()` uses … ([dot dot dot]) to pass along additional arguments\n",
    "    to `.f` each time it’s called</b></font>:\n",
    "\n",
    "    "
   ]
  },
  {
   "cell_type": "markdown",
   "metadata": {
    "hidden": true
   },
   "source": [
    "\n",
    "\n",
    "```R\n",
    "map_dbl(df, mean, trim = 0.5)\n",
    "#>       a       b       c       d \n",
    "#> -0.5185  0.0278  0.1730 -0.6116\n",
    "```\n",
    "\n",
    "* The map functions also preserve names:\n",
    "\n",
    "\n",
    "\n",
    "\n",
    "\n",
    "```R\n",
    "z <- list(x = 1:3, y = 4:5)\n",
    "\n",
    "map_int(z, length)\n",
    "#> x y \n",
    "#> 3 2\n",
    "```"
   ]
  },
  {
   "cell_type": "markdown",
   "metadata": {
    "heading_collapsed": true,
    "hidden": true
   },
   "source": [
    "### 21.5.1 Shortcuts"
   ]
  },
  {
   "cell_type": "markdown",
   "metadata": {
    "hidden": true
   },
   "source": [
    "<font color = 'purple'>There are a few shortcuts that you can use with `.f` in order to save a little typing. Imagine you want to fit a linear model to each group in a dataset. \n",
    "    \n",
    "<b>The following toy example splits up the `mtcars` dataset into three pieces (one for each value of cylinder) and fits the same linear model to each piece: </b></font>"
   ]
  },
  {
   "cell_type": "markdown",
   "metadata": {
    "hidden": true
   },
   "source": [
    "```R\n",
    "models <- mtcars %>% \n",
    "  split(.$cyl) %>% \n",
    "  map(function(df) lm(mpg ~ wt, data = df))\n",
    "```"
   ]
  },
  {
   "cell_type": "code",
   "execution_count": null,
   "metadata": {
    "ExecuteTime": {
     "end_time": "2020-02-23T23:32:01.764703Z",
     "start_time": "2020-02-23T23:32:01.693Z"
    },
    "code_folding": [
     0
    ],
    "hidden": true
   },
   "outputs": [],
   "source": [
    "# code output\n",
    "models <- mtcars %>% \n",
    "  split(.$cyl) %>% \n",
    "  map(function(df) lm(mpg ~ wt, data = df))\n",
    "      \n",
    "models"
   ]
  },
  {
   "cell_type": "markdown",
   "metadata": {
    "hidden": true
   },
   "source": [
    "<b><font color = 'purple'>The syntax for creating an anonymous function in R is quite verbose so purrr provides a convenient shortcut: <span style='background-color: lightgreen'>a one-sided formula</span>. </font></b>"
   ]
  },
  {
   "cell_type": "markdown",
   "metadata": {
    "hidden": true
   },
   "source": [
    "```R\n",
    "models <- mtcars %>% \n",
    "  split(.$cyl) %>% \n",
    "  map(~lm(mpg ~ wt, data = .))\n",
    "```"
   ]
  },
  {
   "cell_type": "code",
   "execution_count": null,
   "metadata": {
    "ExecuteTime": {
     "end_time": "2020-02-23T23:33:43.778407Z",
     "start_time": "2020-02-23T23:33:43.723Z"
    },
    "code_folding": [],
    "hidden": true
   },
   "outputs": [],
   "source": [
    "# code output\n",
    "models <- mtcars %>% \n",
    "  split(.$cyl) %>% \n",
    "  map(~lm(mpg ~ wt, data = .))\n",
    "      \n",
    "models"
   ]
  },
  {
   "cell_type": "code",
   "execution_count": null,
   "metadata": {
    "hidden": true
   },
   "outputs": [],
   "source": []
  },
  {
   "cell_type": "markdown",
   "metadata": {
    "hidden": true
   },
   "source": [
    "<font color = 'green'><b>Here I’ve used `.` as a pronoun: it refers to the current list element (in the same way that `i` referred to the current index in the for loop).</b></font>\n",
    "\n",
    "When you’re looking at many models, you might want to extract a summary statistic like the $R^2$. To do that we need to first run `summary()` and then extract the component called `r.squared`. We could do that using the shorthand for anonymous functions:"
   ]
  },
  {
   "cell_type": "markdown",
   "metadata": {
    "hidden": true
   },
   "source": [
    "```R\n",
    "models %>% \n",
    "  map(summary) %>% \n",
    "  map_dbl(~.$r.squared)\n",
    "  \n",
    "#>     4     6     8 \n",
    "#> 0.509 0.465 0.423\n",
    "```"
   ]
  },
  {
   "cell_type": "code",
   "execution_count": null,
   "metadata": {
    "ExecuteTime": {
     "end_time": "2020-02-22T21:31:01.526631Z",
     "start_time": "2020-02-22T21:31:01.474Z"
    },
    "hidden": true
   },
   "outputs": [],
   "source": [
    "models %>% \n",
    "  map(summary) %>%\n",
    "  map_dbl(~.$r.squared) %>%\n",
    "  round(2)"
   ]
  },
  {
   "cell_type": "markdown",
   "metadata": {
    "hidden": true
   },
   "source": [
    "<b><font color = 'purple'>But extracting named components is a common operation, so purrr provides an even shorter shortcut </font></b>: you can use a string.\n",
    "\n",
    "\n",
    "```R\n",
    "models %>% \n",
    "  map(summary) %>% \n",
    "  map_dbl(\"r.squared\")\n",
    "\n",
    "#>     4     6     8 \n",
    "#> 0.509 0.465 0.423\n",
    "```\n",
    "You can also use an integer to select elements by position:\n",
    "\n",
    "```R\n",
    "x <- list(list(1, 2, 3), list(4, 5, 6), list(7, 8, 9))\n",
    "x %>% map_dbl(2)\n",
    "#> [1] 2 5 8\n",
    "```"
   ]
  },
  {
   "cell_type": "code",
   "execution_count": null,
   "metadata": {
    "ExecuteTime": {
     "end_time": "2020-02-22T21:50:44.515404Z",
     "start_time": "2020-02-22T21:50:44.448Z"
    },
    "hidden": true
   },
   "outputs": [],
   "source": [
    "x <- list(list(1, 2, 3), list(4, 5, 6), list(7, 8, 9)); x\n",
    "\n",
    "cat('\\n',\"x %>% map_dbl(2)\", str_dup(\"-\",44), '\\n')\n",
    "x %>% map_dbl(2)\n",
    "#> [1] 2 5 8"
   ]
  },
  {
   "cell_type": "markdown",
   "metadata": {
    "heading_collapsed": true,
    "hidden": true
   },
   "source": [
    "### 21.5.2 Base R"
   ]
  },
  {
   "cell_type": "markdown",
   "metadata": {
    "hidden": true
   },
   "source": [
    "If you’re familiar with the apply family of functions in base R, you might have noticed some similarities with the purrr functions:\n",
    "\n",
    "* `lapply()` is basically identical to `map()`, except that `map()` is\n",
    "    consistent with all the other functions in purrr, and you can use the\n",
    "    shortcuts for `.f`.\n",
    "\n",
    "* Base `sapply()` is a wrapper around `lapply()` that automatically\n",
    "    simplifies the output. This is useful for interactive work but is\n",
    "    problematic in a function because you never know what sort of output\n",
    "    you’ll get:\n",
    "\n",
    "    "
   ]
  },
  {
   "cell_type": "markdown",
   "metadata": {
    "hidden": true
   },
   "source": [
    "```R\n",
    "x1 <- list(\n",
    "  c(0.27, 0.37, 0.57, 0.91, 0.20),\n",
    "  c(0.90, 0.94, 0.66, 0.63, 0.06), \n",
    "  c(0.21, 0.18, 0.69, 0.38, 0.77)\n",
    ")\n",
    "\n",
    "x2 <- list(\n",
    "  c(0.50, 0.72, 0.99, 0.38, 0.78), \n",
    "  c(0.93, 0.21, 0.65, 0.13, 0.27), \n",
    "  c(0.39, 0.01, 0.38, 0.87, 0.34)\n",
    ")\n",
    "\n",
    "\n",
    "threshold <- function(x, cutoff = 0.8) x[x > cutoff]\n",
    "\n",
    "x1 %>% sapply(threshold) %>% str()\n",
    "#> List of 3\n",
    "#>  $ : num 0.91\n",
    "#>  $ : num [1:2] 0.9 0.94\n",
    "#>  $ : num(0)\n",
    "\n",
    "x2 %>% sapply(threshold) %>% str()\n",
    "#>  num [1:3] 0.99 0.93 0.87\n",
    "```"
   ]
  },
  {
   "cell_type": "code",
   "execution_count": null,
   "metadata": {
    "ExecuteTime": {
     "end_time": "2020-02-22T21:52:46.195578Z",
     "start_time": "2020-02-22T21:52:46.122Z"
    },
    "hidden": true
   },
   "outputs": [],
   "source": [
    "x1 <- list(\n",
    "  c(0.27, 0.37, 0.57, 0.91, 0.20),\n",
    "  c(0.90, 0.94, 0.66, 0.63, 0.06), \n",
    "  c(0.21, 0.18, 0.69, 0.38, 0.77)\n",
    ")\n",
    "\n",
    "x2 <- list(\n",
    "  c(0.50, 0.72, 0.99, 0.38, 0.78), \n",
    "  c(0.93, 0.21, 0.65, 0.13, 0.27), \n",
    "  c(0.39, 0.01, 0.38, 0.87, 0.34)\n",
    ")\n",
    "x1 ;x2"
   ]
  },
  {
   "cell_type": "code",
   "execution_count": null,
   "metadata": {
    "ExecuteTime": {
     "end_time": "2020-02-22T21:52:52.886184Z",
     "start_time": "2020-02-22T21:52:52.818Z"
    },
    "hidden": true
   },
   "outputs": [],
   "source": [
    "threshold <- function(x, cutoff = 0.8) x[x > cutoff]\n",
    "\n",
    "x1 %>% sapply(threshold) %>% str()\n",
    "#> List of 3\n",
    "#>  $ : num 0.91\n",
    "#>  $ : num [1:2] 0.9 0.94\n",
    "#>  $ : num(0)\n",
    "\n",
    "x2 %>% sapply(threshold) %>% str()\n",
    "#>  num [1:3] 0.99 0.93 0.87"
   ]
  },
  {
   "cell_type": "markdown",
   "metadata": {
    "hidden": true
   },
   "source": [
    "* <font color = 'green'><b>`vapply()` is a safe alternative to `sapply()` because you supply an\n",
    "    additional argument that defines the type.</b></font> \n",
    "    \n",
    "    The only problem with\n",
    "    `vapply()` is that it’s a lot of typing:\n",
    "    `vapply(df, is.numeric, logical(1))` is equivalent to\n",
    "    `map_lgl(df, is.numeric)`. \n",
    "    \n",
    "    One advantage of `vapply()` over purrr’s map\n",
    "    functions is that it can also produce matrices — the map functions only\n",
    "    ever produce vectors.\n",
    "\n",
    "I focus on purrr functions here because they have more consistent names and arguments, helpful shortcuts, and in the future will provide easy parallelism and progress bars."
   ]
  },
  {
   "cell_type": "markdown",
   "metadata": {
    "heading_collapsed": true,
    "hidden": true
   },
   "source": [
    "### 21.5.3 Exercises\n",
    "\n",
    "1.  Write code that uses one of the map functions to:\n",
    "    1.  Compute the mean of every column in `mtcars`.\n",
    "    2.  Determine the type of each column in `nycflights13::flights`.\n",
    "    3.  Compute the number of unique values in each column of `iris`.\n",
    "    4.  Generate 10 random normals from distributions with means of -10, 0, 10, and 100.\n",
    "\n",
    "2.  How can you create a single vector that for each column in a data frame\n",
    "    indicates whether or not it’s a factor?\n",
    "\n",
    "3.  What happens when you use the map functions on vectors that aren’t lists?\n",
    "    What does `map(1:5, runif)` do? Why?\n",
    "\n",
    "4.  What does `map(-2:2, rnorm, n = 5)` do? Why?\n",
    "    What does `map_dbl(-2:2, rnorm, n = 5)` do? Why?\n",
    "\n",
    "5.  Rewrite `map(x, function(df) lm(mpg ~ wt, data = df))` to eliminate the\n",
    "    anonymous function."
   ]
  },
  {
   "cell_type": "markdown",
   "metadata": {
    "heading_collapsed": true,
    "hidden": true
   },
   "source": [
    "##### Exercise 21.5.1[__](https://jrnold.github.io/r4ds-exercise-solutions/iteration.html#exercise-21.5.1)"
   ]
  },
  {
   "cell_type": "markdown",
   "metadata": {
    "hidden": true
   },
   "source": [
    "Write code that uses one of the map functions to:\n",
    "\n",
    "1.  Compute the mean of every column in `mtcars`.\n",
    "2.  Determine the type of each column in `nycflights13::flights`.\n",
    "3.  Compute the number of unique values in each column of `iris`.\n",
    "4.  Generate 10 random normals from distributions with means of -10, 0, 10, and 100.."
   ]
  },
  {
   "cell_type": "markdown",
   "metadata": {
    "hidden": true
   },
   "source": [
    "<b><font color = 'MAROON'>1.  To calculate the mean of every column in `mtcars`, apply the function\n",
    "    `mean()` to each column, and use `map_dbl`, since the results are numeric.</font></b>\n",
    "\n",
    "    \n",
    "\n",
    "    \n",
    "\n",
    "    \n",
    "\n",
    "    \n",
    "\n",
    "```R\n",
    "map_dbl(mtcars, mean)\n",
    "#>     mpg     cyl    disp      hp    drat      wt    qsec      vs      am \n",
    "#>  20.091   6.188 230.722 146.688   3.597   3.217  17.849   0.438   0.406 \n",
    "#>    gear    carb \n",
    "#>   3.688   2.812\n",
    "```"
   ]
  },
  {
   "cell_type": "code",
   "execution_count": null,
   "metadata": {
    "ExecuteTime": {
     "end_time": "2020-02-22T22:07:18.039660Z",
     "start_time": "2020-02-22T22:07:17.991Z"
    },
    "code_folding": [],
    "hidden": true
   },
   "outputs": [],
   "source": [
    "# code output\n",
    "mtcars %>% map_dbl(mean) %>% round(3) %>% t()"
   ]
  },
  {
   "cell_type": "markdown",
   "metadata": {
    "hidden": true
   },
   "source": [
    "<b><font color = 'MAROON'>2.  To calculate the type of every column in `nycflights13::flights` apply\n",
    "    the function `typeof()`, discussed in the section on [Vector basics](https://r4ds.had.co.nz/vectors.html#vector-basics),\n",
    "    and use `map_chr()`, since the results are character.</font></b>\n",
    "\n",
    "    \n",
    "\n",
    "    \n",
    "\n",
    "    \n",
    "\n",
    "    ```R\n",
    "    map_chr(nycflights13::flights, typeof)\n",
    "    #>           year          month            day       dep_time sched_dep_time \n",
    "    #>      \"integer\"      \"integer\"      \"integer\"      \"integer\"      \"integer\" \n",
    "    #>      dep_delay       arr_time sched_arr_time      arr_delay        carrier \n",
    "    #>       \"double\"      \"integer\"      \"integer\"       \"double\"    \"character\" \n",
    "    #>         flight        tailnum         origin           dest       air_time \n",
    "    #>      \"integer\"    \"character\"    \"character\"    \"character\"       \"double\" \n",
    "    #>       distance           hour         minute      time_hour \n",
    "    #>       \"double\"       \"double\"       \"double\"       \"double\"\n",
    "    ```"
   ]
  },
  {
   "cell_type": "code",
   "execution_count": null,
   "metadata": {
    "ExecuteTime": {
     "end_time": "2020-02-22T22:10:46.216030Z",
     "start_time": "2020-02-22T22:10:46.143Z"
    },
    "hidden": true
   },
   "outputs": [],
   "source": [
    "flights <- nycflights13::flights\n",
    "\n",
    "flights %>% map_chr(typeof) %>% t %>% t"
   ]
  },
  {
   "cell_type": "markdown",
   "metadata": {
    "hidden": true
   },
   "source": [
    "<b><font color = 'MAROON'>3.  There is no function that directly calculates the number of unique values\n",
    "    in a vector. For a single column, the number of unique values of a vector\n",
    "    can be calculated </font></b>\n",
    "    <hypothesis-highlight class=\"hypothesis-highlight\">like so,</hypothesis-highlight>\n",
    "\n",
    "    \n",
    "\n",
    "    \n",
    "\n",
    "    \n",
    "\n",
    "    \n",
    "\n",
    "```R\n",
    "length(unique(iris$Species))\n",
    "#> [1] 3\n",
    "```"
   ]
  },
  {
   "cell_type": "code",
   "execution_count": null,
   "metadata": {
    "ExecuteTime": {
     "end_time": "2020-02-22T22:17:08.821153Z",
     "start_time": "2020-02-22T22:17:08.777Z"
    },
    "hidden": true
   },
   "outputs": [],
   "source": [
    "iris %>% map_int(n_distinct)"
   ]
  },
  {
   "cell_type": "markdown",
   "metadata": {
    "hidden": true
   },
   "source": [
    "    To apply this to all columns, we can provide the map an anonymous function.\n",
    "    We can write anonymous function using the standard R syntax.\n",
    "\n",
    "\n",
    "\n",
    "\n",
    "```R\n",
    "map_int(iris, function(x) length(unique(x)))\n",
    "#> Sepal.Length  Sepal.Width Petal.Length  Petal.Width      Species \n",
    "#>           35           23           43           22            3\n",
    "```"
   ]
  },
  {
   "cell_type": "markdown",
   "metadata": {
    "hidden": true
   },
   "source": [
    "We could also use the compact, one-sided formula shortcut that purrr provides.\n",
    "\n",
    "\n",
    "```R\n",
    "map_int(iris, ~ length(unique(.)))\n",
    "#> Sepal.Length  Sepal.Width Petal.Length  Petal.Width      Species \n",
    "#>           35           23           43           22            3\n",
    "```\n",
    "\n",
    "In these examples, the `map_int()` function is used since `length()` returns an integer.\n",
    "However, the `map_dbl()` function will also work.\n",
    "\n",
    "\n",
    "```R\n",
    "map_dbl(iris, ~ length(unique(.)))\n",
    "```"
   ]
  },
  {
   "cell_type": "markdown",
   "metadata": {
    "hidden": true
   },
   "source": [
    "<b><font color = 'MAROON'>4.  Generate 10 random normals from distributions with means of -10, 0, 10, and 100..</font></b>"
   ]
  },
  {
   "cell_type": "code",
   "execution_count": null,
   "metadata": {
    "ExecuteTime": {
     "end_time": "2020-02-22T22:47:34.653702Z",
     "start_time": "2020-02-22T22:47:34.593Z"
    },
    "hidden": true
   },
   "outputs": [],
   "source": [
    "D <- c(-10, 0, 10, 100)\n",
    "\n",
    "map(D, ~ rnorm(n=10, mean = .))\n",
    "# map(D, ~rnorm(n=10, mean = .))"
   ]
  },
  {
   "cell_type": "markdown",
   "metadata": {
    "hidden": true
   },
   "source": [
    "\n",
    "\n",
    "\n",
    "\n",
    "```R\n",
    "map(c(-10, 0, 10, 100), ~ rnorm(n = 10, mean = .))\n",
    "#> [[1]]\n",
    "#>  [1]  -9.56  -9.87 -10.83 -10.50 -11.19 -10.75  -8.54 -10.83  -9.71 -10.48\n",
    "#> \n",
    "#> [[2]]\n",
    "#>  [1] -0.6048  1.4601  0.1497 -1.4333 -0.0103 -0.2122 -0.9063 -2.1022\n",
    "#>  [9]  1.8934 -0.9681\n",
    "#> \n",
    "#> [[3]]\n",
    "#>  [1]  9.90 10.24 10.06  7.82  9.88 10.11 10.01 11.88 12.16 10.71\n",
    "#> \n",
    "#> [[4]]\n",
    "#>  [1] 100.8  99.7 101.0  99.1 100.6 100.3 100.4 101.1  99.1 100.2\n",
    "```\n",
    "\n",
    "Since a single call of `rnorm()` returns a numeric vector with a length greater\n",
    "than one we cannot use `map_dbl`, which requires the function to return a numeric\n",
    "vector that is only length one (see [Exercise 21.5.4](https://jrnold.github.io/r4ds-exercise-solutions/iteration.html#exercise-21.5.4)).\n",
    "The map functions pass any additional arguments to the function being called."
   ]
  },
  {
   "cell_type": "markdown",
   "metadata": {
    "heading_collapsed": true,
    "hidden": true
   },
   "source": [
    "##### Exercise 21.5.2[__](https://jrnold.github.io/r4ds-exercise-solutions/iteration.html#exercise-21.5.2)"
   ]
  },
  {
   "cell_type": "markdown",
   "metadata": {
    "hidden": true
   },
   "source": [
    "How can you create a single vector that for each column in a data frame indicates whether or not it’s a factor?"
   ]
  },
  {
   "cell_type": "code",
   "execution_count": null,
   "metadata": {
    "ExecuteTime": {
     "end_time": "2020-02-22T22:57:29.507407Z",
     "start_time": "2020-02-22T22:57:29.440Z"
    },
    "hidden": true
   },
   "outputs": [],
   "source": [
    "iris %>% map_chr(is.factor)\n",
    "iris %>% map_dfr(is.factor)\n"
   ]
  },
  {
   "cell_type": "markdown",
   "metadata": {
    "hidden": true
   },
   "source": [
    "The function `is.factor()` indicates whether a vector is a factor."
   ]
  },
  {
   "cell_type": "markdown",
   "metadata": {
    "hidden": true
   },
   "source": [
    "```R\n",
    "is.factor(diamonds$color)\n",
    "#> [1] TRUE\n",
    "```"
   ]
  },
  {
   "cell_type": "markdown",
   "metadata": {
    "hidden": true
   },
   "source": [
    "To check all columns in a \n",
    "<hypothesis-highlight class=\"hypothesis-highlight\">factor </hypothesis-highlight>for whether it is a factor is a job for a `map_*()` function.\n",
    "Since the result of `is.factor()` is logical, we will use `map_lgl()` to apply `is.factor()` to the columns of the data frame."
   ]
  },
  {
   "cell_type": "markdown",
   "metadata": {
    "hidden": true
   },
   "source": [
    "```R\n",
    "map_lgl(diamonds, is.factor)\n",
    "#>   carat     cut   color clarity   depth   table   price       x       y \n",
    "#>   FALSE    TRUE    TRUE    TRUE   FALSE   FALSE   FALSE   FALSE   FALSE \n",
    "#>       z \n",
    "#>   FALSE\n",
    "```"
   ]
  },
  {
   "cell_type": "markdown",
   "metadata": {
    "heading_collapsed": true,
    "hidden": true
   },
   "source": [
    "##### Exercise 21.5.3[__](https://jrnold.github.io/r4ds-exercise-solutions/iteration.html#exercise-21.5.3)"
   ]
  },
  {
   "cell_type": "markdown",
   "metadata": {
    "hidden": true
   },
   "source": [
    "What happens when you use the map functions on vectors that aren’t lists?\n",
    "What does `map(1:5, runif)` do?\n",
    "Why?"
   ]
  },
  {
   "cell_type": "code",
   "execution_count": null,
   "metadata": {
    "ExecuteTime": {
     "end_time": "2020-02-22T22:59:33.149770Z",
     "start_time": "2020-02-22T22:59:33.099Z"
    },
    "hidden": true
   },
   "outputs": [],
   "source": [
    "map(1:5, runif)"
   ]
  },
  {
   "cell_type": "code",
   "execution_count": null,
   "metadata": {
    "ExecuteTime": {
     "end_time": "2020-02-22T23:00:21.734114Z",
     "start_time": "2020-02-22T23:00:21.650Z"
    },
    "hidden": true
   },
   "outputs": [],
   "source": [
    "runif(1)\n",
    "runif(2)\n",
    "runif(3)\n",
    "runif(4)\n",
    "runif(5)"
   ]
  },
  {
   "cell_type": "markdown",
   "metadata": {
    "hidden": true
   },
   "source": [
    "<font color = 'blue'><b>Map functions work with any vectors, not just lists.</b></font>\n",
    "As with lists, the map functions will apply the function to each element of the vector.\n",
    "In the following examples, the inputs to `map()` are atomic vectors (logical, character, integer, double)."
   ]
  },
  {
   "cell_type": "markdown",
   "metadata": {
    "hidden": true
   },
   "source": [
    "```R\n",
    "map(c(TRUE, FALSE, TRUE), ~ !.)\n",
    "#> [[1]]\n",
    "#> [1] FALSE\n",
    "#> \n",
    "#> [[2]]\n",
    "#> [1] TRUE\n",
    "#> \n",
    "#> [[3]]\n",
    "#> [1] FALSE\n",
    "\n",
    "map(c(\"Hello\", \"World\"), str_to_upper)\n",
    "#> [[1]]\n",
    "#> [1] \"HELLO\"\n",
    "#> \n",
    "#> [[2]]\n",
    "#> [1] \"WORLD\"\n",
    "\n",
    "map(1:5, ~ rnorm(.))\n",
    "#> [[1]]\n",
    "#> [1] 1.42\n",
    "#> \n",
    "#> [[2]]\n",
    "#> [1] -0.384 -0.174\n",
    "#> \n",
    "#> [[3]]\n",
    "#> [1] -0.222 -1.010  0.481\n",
    "#> \n",
    "#> [[4]]\n",
    "#> [1]  1.604 -1.515 -1.416  0.877\n",
    "#> \n",
    "#> [[5]]\n",
    "#> [1]  0.624  2.112 -0.356 -1.064  1.077\n",
    "\n",
    "map(c(-0.5, 0, 1), ~ rnorm(1, mean = .))\n",
    "#> [[1]]\n",
    "#> [1] 0.682\n",
    "#> \n",
    "#> [[2]]\n",
    "#> [1] 0.198\n",
    "#> \n",
    "#> [[3]]\n",
    "#> [1] 0.6\n",
    "```"
   ]
  },
  {
   "cell_type": "markdown",
   "metadata": {
    "hidden": true
   },
   "source": [
    "<font color = 'red'>It is important to be aware that while the input of `map()` can be any vector, the output is always a list.</font>"
   ]
  },
  {
   "cell_type": "markdown",
   "metadata": {
    "hidden": true
   },
   "source": [
    "```R\n",
    "map(1:5, runif)\n",
    "#> [[1]]\n",
    "#> [1] 0.731\n",
    "#> \n",
    "#> [[2]]\n",
    "#> [1] 0.852 0.976\n",
    "#> \n",
    "#> [[3]]\n",
    "#> [1] 0.113 0.970 0.648\n",
    "#> \n",
    "#> [[4]]\n",
    "#> [1] 0.0561 0.4731 0.2946 0.6103\n",
    "#> \n",
    "#> [[5]]\n",
    "#> [1] 0.1211 0.6294 0.7120 0.6121 0.0344\n",
    "```\n",
    "\n",
    "This expression is equivalent to running the following."
   ]
  },
  {
   "cell_type": "markdown",
   "metadata": {
    "hidden": true
   },
   "source": [
    "```R\n",
    "list(\n",
    "  runif(1),\n",
    "  runif(2),\n",
    "  runif(3),\n",
    "  runif(4),\n",
    "  runif(5)\n",
    ")\n",
    "#> [[1]]\n",
    "#> [1] 0.666\n",
    "#> \n",
    "#> [[2]]\n",
    "#> [1] 0.653 0.452\n",
    "#> \n",
    "#> [[3]]\n",
    "#> [1] 0.517 0.677 0.881\n",
    "#> \n",
    "#> [[4]]\n",
    "#> [1] 0.731 0.399 0.431 0.145\n",
    "#> \n",
    "#> [[5]]\n",
    "#> [1] 0.4511 0.5788 0.0704 0.7423 0.5492\n",
    "```\n",
    "\n",
    "The `map()` function loops through the numbers 1 to 5.\n",
    "For each value, it calls the `runif()` with that number as the first argument, which is the number of sample to draw.\n",
    "The result is a length five list with numeric vectors of sizes one through five, each with random samples from a uniform distribution.\n",
    "Note that although input to `map()` was an integer vector, the return value was a list."
   ]
  },
  {
   "cell_type": "markdown",
   "metadata": {
    "heading_collapsed": true,
    "hidden": true
   },
   "source": [
    "##### Exercise 21.5.4[__](https://jrnold.github.io/r4ds-exercise-solutions/iteration.html#exercise-21.5.4)"
   ]
  },
  {
   "cell_type": "markdown",
   "metadata": {
    "hidden": true
   },
   "source": [
    "What does `map(-2:2, rnorm, n = 5)` do?\n",
    "Why?\n",
    "\n",
    "What does `map_dbl(-2:2, rnorm, n = 5)` do?\n",
    "Why?"
   ]
  },
  {
   "cell_type": "code",
   "execution_count": null,
   "metadata": {
    "ExecuteTime": {
     "end_time": "2020-02-23T00:09:40.763829Z",
     "start_time": "2020-02-23T00:09:40.709Z"
    },
    "hidden": true
   },
   "outputs": [],
   "source": [
    "set.seed(501)\n",
    "map(-2:2, rnorm, n = 5)[[1]][1] %>% typeof()"
   ]
  },
  {
   "cell_type": "code",
   "execution_count": null,
   "metadata": {
    "ExecuteTime": {
     "end_time": "2020-02-23T00:06:59.325977Z",
     "start_time": "2020-02-23T00:06:59.278Z"
    },
    "hidden": true
   },
   "outputs": [],
   "source": [
    "set.seed(501)\n",
    "map(-2:2, ~rnorm(n = 5, mean = .))"
   ]
  },
  {
   "cell_type": "code",
   "execution_count": null,
   "metadata": {
    "ExecuteTime": {
     "end_time": "2020-02-23T00:07:28.413910Z",
     "start_time": "2020-02-23T00:07:28.365Z"
    },
    "hidden": true
   },
   "outputs": [],
   "source": [
    "set.seed(501)\n",
    "map(-2:2, rnorm, n = 5)"
   ]
  },
  {
   "cell_type": "code",
   "execution_count": null,
   "metadata": {
    "ExecuteTime": {
     "end_time": "2020-02-22T23:55:05.703251Z",
     "start_time": "2020-02-22T23:55:05.672Z"
    },
    "hidden": true
   },
   "outputs": [],
   "source": [
    "map_dbl(-2:2, rnorm(n = 5, mean = .)"
   ]
  },
  {
   "cell_type": "markdown",
   "metadata": {
    "heading_collapsed": true,
    "hidden": true
   },
   "source": [
    "###### Consider the first expression."
   ]
  },
  {
   "cell_type": "markdown",
   "metadata": {
    "hidden": true
   },
   "source": [
    "```R\n",
    "map(-2:2, rnorm, n = 5)\n",
    "#> [[1]]\n",
    "#> [1] -1.656 -0.522 -1.928  0.126 -3.476\n",
    "#> \n",
    "#> [[2]]\n",
    "#> [1] -0.5921  0.3940 -0.6397 -0.3454  0.0522\n",
    "#> \n",
    "#> [[3]]\n",
    "#> [1] -1.980  1.208 -0.169  0.295  1.266\n",
    "#> \n",
    "#> [[4]]\n",
    "#> [1] -0.135 -0.131  1.110  1.853  0.766\n",
    "#> \n",
    "#> [[5]]\n",
    "#> [1] 4.087 1.889 0.607 0.858 3.705\n",
    "```\n",
    "\n",
    "This expression takes samples of size five from five normal distributions, with means of (-2, -1, 0, 1, and 2), but the same standard deviation (1).\n",
    "It returns a list with each element a numeric vectors of length 5.\n",
    "\n",
    "However, if instead, we use `map_dbl()`, the expression raises an error."
   ]
  },
  {
   "cell_type": "markdown",
   "metadata": {
    "hidden": true
   },
   "source": [
    "```R\n",
    "map_dbl(-2:2, rnorm, n = 5)\n",
    "#> Result 1 must be a single double, not a double vector of length 5\n",
    "```"
   ]
  },
  {
   "cell_type": "code",
   "execution_count": null,
   "metadata": {
    "ExecuteTime": {
     "end_time": "2020-02-23T00:08:38.660474Z",
     "start_time": "2020-02-23T00:08:38.609Z"
    },
    "hidden": true
   },
   "outputs": [],
   "source": [
    "map_dbl(-2:2, rnorm, n = 5)"
   ]
  },
  {
   "cell_type": "markdown",
   "metadata": {
    "hidden": true
   },
   "source": [
    "<font color = 'blue'>This is because the `map_dbl()` function requires the function it applies to each element to return a numeric vector of length one.\n",
    "\n",
    "\n",
    "* If the function returns either a non-numeric vector or a numeric vector with a length greater than one, `map_dbl()` will raise an error.\n",
    "\n",
    "    \n",
    "* <b>The reason for this strictness is that `map_dbl()` guarantees that it will return a numeric vector of the _same length_ as its input vector</b>.\n",
    "\n",
    "    \n",
    "* This concept applies to the other `map_*()` functions. \n",
    "    \n",
    "    The function `map_chr()` requires that the function always return a _character_ vector of length one;\n",
    "    \n",
    "    `map_int()` requires that the function always return an _integer_ vector of length one;\n",
    "\n",
    "    map_lgl(</hypothesis-highlight>)` requires that the function always return an _logical_ vector of length one.\n",
    "Use the `map()` function if the function will return values of varying types or lengths.\n",
    "\n",
    "To return a double vector, \n",
    "<hypothesis-highlight class=\"hypothesis-highlight\">we could use </hypothesis-highlight>map()\n",
    "<hypothesis-highlight class=\"hypothesis-highlight\"> followed by </hypothesis-highlight>flatten_dbl()\n",
    "<hypothesis-highlight class=\"hypothesis-highlight\">,</hypothesis-highlight>\n",
    "\n",
    "</font>"
   ]
  },
  {
   "cell_type": "markdown",
   "metadata": {
    "hidden": true
   },
   "source": [
    "```R\n",
    "flatten_dbl(map(-2:2, rnorm, n = 5))\n",
    "#>  [1] -2.145 -1.474 -0.266 -0.551 -0.482 -1.384  0.827 -1.551 -1.866 -1.344\n",
    "#> [11]  1.063  0.813  1.803 -0.105  0.982 -0.713  0.168  2.100  0.826  1.179\n",
    "#> [21]  1.302  1.040  1.025  1.661  3.152\n",
    "```"
   ]
  },
  {
   "cell_type": "code",
   "execution_count": null,
   "metadata": {
    "ExecuteTime": {
     "end_time": "2020-02-23T00:22:15.433296Z",
     "start_time": "2020-02-23T00:22:15.388Z"
    },
    "hidden": true
   },
   "outputs": [],
   "source": [
    "flatten_dbl(map(-2:2, rnorm, n = 5)) %>% str()"
   ]
  },
  {
   "cell_type": "code",
   "execution_count": null,
   "metadata": {
    "ExecuteTime": {
     "end_time": "2020-02-23T00:22:31.479580Z",
     "start_time": "2020-02-23T00:22:31.430Z"
    },
    "hidden": true
   },
   "outputs": [],
   "source": [
    "map(-2:2, rnorm, n = 5) %>% str()"
   ]
  },
  {
   "cell_type": "markdown",
   "metadata": {
    "heading_collapsed": true,
    "hidden": true
   },
   "source": [
    "### Exercise 21.5.5[__](https://jrnold.github.io/r4ds-exercise-solutions/iteration.html#exercise-21.5.5)"
   ]
  },
  {
   "cell_type": "markdown",
   "metadata": {
    "hidden": true
   },
   "source": [
    "Rewrite `map(x, function(df) lm(mpg ~ wt, data = df))` to eliminate the anonymous function.\n",
    "\n",
    "This code in this question does not run, so I will use the following code."
   ]
  },
  {
   "cell_type": "code",
   "execution_count": null,
   "metadata": {
    "ExecuteTime": {
     "end_time": "2020-02-23T00:44:59.527625Z",
     "start_time": "2020-02-23T00:44:59.477Z"
    },
    "hidden": true
   },
   "outputs": [],
   "source": [
    "x <- split(mtcars, mtcars$cyl)\n",
    "map(x, function(df) lm(mpg ~ wt, data = df)) "
   ]
  },
  {
   "cell_type": "code",
   "execution_count": null,
   "metadata": {
    "ExecuteTime": {
     "end_time": "2020-02-23T00:45:19.732053Z",
     "start_time": "2020-02-23T00:45:19.682Z"
    },
    "hidden": true
   },
   "outputs": [],
   "source": [
    "map(x, ~lm(mpg ~ wt, data = .)) "
   ]
  },
  {
   "cell_type": "markdown",
   "metadata": {
    "hidden": true
   },
   "source": [
    "```R\n",
    "x <- split(mtcars, mtcars$cyl)\n",
    "map(x, function(df) lm(mpg ~ wt, data = df))\n",
    "#> $`4`\n",
    "#> \n",
    "#> Call:\n",
    "#> lm(formula = mpg ~ wt, data = df)\n",
    "#> \n",
    "#> Coefficients:\n",
    "#> (Intercept)           wt  \n",
    "#>       39.57        -5.65  \n",
    "#> \n",
    "#> \n",
    "#> $`6`\n",
    "#> \n",
    "#> Call:\n",
    "#> lm(formula = mpg ~ wt, data = df)\n",
    "#> \n",
    "#> Coefficients:\n",
    "#> (Intercept)           wt  \n",
    "#>       28.41        -2.78  \n",
    "#> \n",
    "#> \n",
    "#> $`8`\n",
    "#> \n",
    "#> Call:\n",
    "#> lm(formula = mpg ~ wt, data = df)\n",
    "#> \n",
    "#> Coefficients:\n",
    "#> (Intercept)           wt  \n",
    "#>       23.87        -2.19\n",
    "```"
   ]
  },
  {
   "cell_type": "markdown",
   "metadata": {
    "hidden": true
   },
   "source": [
    "We can eliminate the use of an anonymous function using the `~` shortcut."
   ]
  },
  {
   "cell_type": "markdown",
   "metadata": {
    "hidden": true
   },
   "source": [
    "```R\n",
    "map(x, ~ lm(mpg ~ wt, data = .))\n",
    "#> $`4`\n",
    "#> \n",
    "#> Call:\n",
    "#> lm(formula = mpg ~ wt, data = .)\n",
    "#> \n",
    "#> Coefficients:\n",
    "#> (Intercept)           wt  \n",
    "#>       39.57        -5.65  \n",
    "#> \n",
    "#> \n",
    "#> $`6`\n",
    "#> \n",
    "#> Call:\n",
    "#> lm(formula = mpg ~ wt, data = .)\n",
    "#> \n",
    "#> Coefficients:\n",
    "#> (Intercept)           wt  \n",
    "#>       28.41        -2.78  \n",
    "#> \n",
    "#> \n",
    "#> $`8`\n",
    "#> \n",
    "#> Call:\n",
    "#> lm(formula = mpg ~ wt, data = .)\n",
    "#> \n",
    "#> Coefficients:\n",
    "#> (Intercept)           wt  \n",
    "#>       23.87        -2.19\n",
    "```"
   ]
  },
  {
   "cell_type": "markdown",
   "metadata": {
    "hidden": true
   },
   "source": [
    "Though not the intent of this question, the other way to eliminate anonymous function is to create a named one."
   ]
  },
  {
   "cell_type": "markdown",
   "metadata": {
    "hidden": true
   },
   "source": [
    "```R\n",
    "run_reg <- function(df) {\n",
    "  lm(mpg ~ wt, data = df)\n",
    "}\n",
    "map(x, run_reg)\n",
    "#> $`4`\n",
    "#> \n",
    "#> Call:\n",
    "#> lm(formula = mpg ~ wt, data = df)\n",
    "#> \n",
    "#> Coefficients:\n",
    "#> (Intercept)           wt  \n",
    "#>       39.57        -5.65  \n",
    "#> \n",
    "#> \n",
    "#> $`6`\n",
    "#> \n",
    "#> Call:\n",
    "#> lm(formula = mpg ~ wt, data = df)\n",
    "#> \n",
    "#> Coefficients:\n",
    "#> (Intercept)           wt  \n",
    "#>       28.41        -2.78  \n",
    "#> \n",
    "#> \n",
    "#> $`8`\n",
    "#> \n",
    "#> Call:\n",
    "#> lm(formula = mpg ~ wt, data = df)\n",
    "#> \n",
    "#> Coefficients:\n",
    "#> (Intercept)           wt  \n",
    "#>       23.87        -2.19\n",
    "```"
   ]
  },
  {
   "cell_type": "markdown",
   "metadata": {
    "heading_collapsed": true,
    "hidden": true
   },
   "source": [
    "## 21.6 Dealing with failure"
   ]
  },
  {
   "cell_type": "markdown",
   "metadata": {
    "hidden": true
   },
   "source": [
    "When you use the map functions to repeat many operations, the chances are much higher that one of those operations will fail. When this happens, you’ll get an error message, and no output. This is annoying: why does one failure prevent you from accessing all the other successes? How do you ensure that one bad apple doesn’t ruin the whole barrel?\n",
    "\n",
    "In this section you’ll learn how to deal with this situation with a new function: `safely()`. `safely()` is an adverb: it takes a function (a verb) and returns a modified version. In this case, the modified function will never throw an error. Instead, it always returns a list with two elements:\n",
    "\n",
    "1.  `result` is the original result. If there was an error, this will be `NULL`.\n",
    "\n",
    "2.  `error` is an error object. If the operation was successful, this will be\n",
    "    `NULL`.\n",
    "\n",
    "(You might be familiar with the `try()` function in base R. It’s similar, but because it sometimes returns the original result and it sometimes returns an error object it’s more difficult to work with.)\n",
    "\n",
    "Let’s illustrate this with a simple example: `log()`:"
   ]
  },
  {
   "cell_type": "markdown",
   "metadata": {
    "hidden": true
   },
   "source": [
    "```R\n",
    "safe_log <- safely(log)\n",
    "\n",
    "str(safe_log(10))\n",
    "#> List of 2\n",
    "#>  $ result: num 2.3\n",
    "#>  $ error : NULL\n",
    "\n",
    "str(safe_log(\"a\"))\n",
    "#> List of 2\n",
    "#>  $ result: NULL\n",
    "#>  $ error :List of 2\n",
    "#>   ..$ message: chr \"non-numeric argument to mathematical function\"\n",
    "#>   ..$ call   : language .Primitive(\"log\")(x, base)\n",
    "#>   ..- attr(*, \"class\")= chr [1:3] \"simpleError\" \"error\" \"condition\"\n",
    "```"
   ]
  },
  {
   "cell_type": "markdown",
   "metadata": {
    "hidden": true
   },
   "source": [
    "When the function succeeds, the `result` element contains the result and the `error` element is `NULL`. When the function fails, the `result` element is `NULL` and the `error` element contains an error object.\n",
    "\n",
    "`safely()` is designed to work with map:"
   ]
  },
  {
   "cell_type": "markdown",
   "metadata": {
    "hidden": true
   },
   "source": [
    "```R\n",
    "\n",
    "x <- list(1, 10, \"a\")\n",
    "\n",
    "y <- x %>% map(safely(log))\n",
    "\n",
    "str(y)\n",
    "#> List of 3\n",
    "#>  $ :List of 2\n",
    "#>   ..$ result: num 0\n",
    "#>   ..$ error : NULL\n",
    "#>  $ :List of 2\n",
    "#>   ..$ result: num 2.3\n",
    "#>   ..$ error : NULL\n",
    "#>  $ :List of 2\n",
    "#>   ..$ result: NULL\n",
    "#>   ..$ error :List of 2\n",
    "#>   .. ..$ message: chr \"non-numeric argument to mathematical function\"\n",
    "#>   .. ..$ call   : language .Primitive(\"log\")(x, base)\n",
    "#>   .. ..- attr(*, \"class\")= chr [1:3] \"simpleError\" \"error\" \"condition\"\n",
    "```"
   ]
  },
  {
   "cell_type": "markdown",
   "metadata": {
    "hidden": true
   },
   "source": [
    "This would be easier to work with if we had two lists: one of all the errors and one of all the output. That’s easy to get with `purrr::transpose()`:"
   ]
  },
  {
   "cell_type": "markdown",
   "metadata": {
    "hidden": true
   },
   "source": [
    "```R\n",
    "y <- y %>% transpose()\n",
    "\n",
    "str(y)\n",
    "#> List of 2\n",
    "#>  $ result:List of 3\n",
    "#>   ..$ : num 0\n",
    "#>   ..$ : num 2.3\n",
    "#>   ..$ : NULL\n",
    "#>  $ error :List of 3\n",
    "#>   ..$ : NULL\n",
    "#>   ..$ : NULL\n",
    "#>   ..$ :List of 2\n",
    "#>   .. ..$ message: chr \"non-numeric argument to mathematical function\"\n",
    "#>   .. ..$ call   : language .Primitive(\"log\")(x, base)\n",
    "#>   .. ..- attr(*, \"class\")= chr [1:3] \"simpleError\" \"error\" \"condition\"\n",
    "```"
   ]
  },
  {
   "cell_type": "markdown",
   "metadata": {
    "hidden": true
   },
   "source": [
    "It’s up to you how to deal with the errors, but typically you’ll either look at the values of `x` where `y` is an error, or work with the values of `y` that are ok:"
   ]
  },
  {
   "cell_type": "markdown",
   "metadata": {
    "hidden": true
   },
   "source": [
    "```R\n",
    "is_ok <- y$error %>% map_lgl(is_null)\n",
    "\n",
    "x[!is_ok]\n",
    "#> [[1]]\n",
    "#> [1] \"a\"\n",
    "\n",
    "y$result[is_ok] %>% flatten_dbl()\n",
    "#> [1] 0.0 2.3\n",
    "```"
   ]
  },
  {
   "cell_type": "markdown",
   "metadata": {
    "hidden": true
   },
   "source": [
    "Purrr provides two other useful adverbs:\n",
    "\n",
    "* Like `safely()`, `possibly()` always succeeds. It’s simpler than `safely()`,\n",
    "    because you give it a default value to return when there is an error.\n",
    "\n",
    "    "
   ]
  },
  {
   "cell_type": "markdown",
   "metadata": {
    "hidden": true
   },
   "source": [
    "\n",
    "\n",
    "```R\n",
    "x <- list(1, 10, \"a\")\n",
    "x %>% map_dbl(possibly(log, NA_real_))\n",
    "#> [1] 0.0 2.3  NA\n",
    "```"
   ]
  },
  {
   "cell_type": "markdown",
   "metadata": {
    "hidden": true
   },
   "source": [
    "* `quietly()` performs a similar role to `safely()`, but instead of capturing\n",
    "    errors, it captures printed output, messages, and warnings:\n",
    "\n",
    "    \n",
    "\n",
    "    \n",
    "\n",
    "```R\n",
    "x <- list(1, -1)\n",
    "x %>% map(quietly(log)) %>% str()\n",
    "#> List of 2\n",
    "#>  $ :List of 4\n",
    "#>   ..$ result  : num 0\n",
    "#>   ..$ output  : chr \"\"\n",
    "#>   ..$ warnings: chr(0) \n",
    "#>   ..$ messages: chr(0) \n",
    "#>  $ :List of 4\n",
    "#>   ..$ result  : num NaN\n",
    "#>   ..$ output  : chr \"\"\n",
    "#>   ..$ warnings: chr \"NaNs produced\"\n",
    "#>   ..$ messages: chr(0)\n",
    "```"
   ]
  },
  {
   "cell_type": "markdown",
   "metadata": {
    "heading_collapsed": true,
    "hidden": true
   },
   "source": [
    "## 21.7 Mapping over multiple arguments"
   ]
  },
  {
   "cell_type": "markdown",
   "metadata": {
    "hidden": true
   },
   "source": [
    "So far we’ve mapped along a single input. But often you have multiple related inputs that you need iterate along in parallel. That’s the job of the `map2()` and `pmap()` functions. For example, imagine you want to simulate some random normals with different means. You know how to do that with `map()`:"
   ]
  },
  {
   "cell_type": "markdown",
   "metadata": {
    "hidden": true
   },
   "source": [
    "```R\n",
    "mu <- list(5, 10, -3)\n",
    "\n",
    "mu %>% \n",
    "  map(rnorm, n = 5) %>% \n",
    "  str()\n",
    "\n",
    "#> List of 3\n",
    "#>  $ : num [1:5] 5.63 7.1 4.39 3.37 4.99\n",
    "#>  $ : num [1:5] 9.34 9.33 9.52 11.32 10.64\n",
    "#>  $ : num [1:5] -2.49 -4.75 -2.11 -2.78 -2.42\n",
    "```\n",
    "\n",
    "What if you also want to vary the standard deviation? One way to do that would be to iterate over the indices and index into vectors of means and sds:"
   ]
  },
  {
   "cell_type": "markdown",
   "metadata": {
    "hidden": true
   },
   "source": [
    "```R\n",
    "sigma <- list(1, 5, 10)\n",
    "\n",
    "seq_along(mu) %>% \n",
    "  map(~rnorm(5, mu[[.]], sigma[[.]])) %>% \n",
    "  str()\n",
    "\n",
    "#> List of 3\n",
    "#>  $ : num [1:5] 4.82 5.74 4 2.06 5.72\n",
    "#>  $ : num [1:5] 6.51 0.529 10.381 14.377 12.269\n",
    "#>  $ : num [1:5] -11.51 2.66 8.52 -10.56 -7.89\n",
    "```\n",
    "\n",
    "But that obfuscates the intent of the code. Instead we could use `map2()` which iterates over two vectors in parallel:"
   ]
  },
  {
   "cell_type": "markdown",
   "metadata": {
    "hidden": true
   },
   "source": [
    "```R\n",
    "map2(mu, sigma, rnorm, n = 5) %>% str()\n",
    "#> List of 3\n",
    "#>  $ : num [1:5] 3.83 4.52 5.12 3.23 3.59\n",
    "#>  $ : num [1:5] 13.55 3.8 8.16 12.31 8.39\n",
    "#>  $ : num [1:5] -15.872 -13.3 12.141 0.469 14.794\n",
    "```\n",
    "\n",
    "`map2()` generates this series of function calls:"
   ]
  },
  {
   "cell_type": "code",
   "execution_count": null,
   "metadata": {
    "ExecuteTime": {
     "end_time": "2020-02-23T01:03:48.076890Z",
     "start_time": "2020-02-23T01:03:48.025Z"
    },
    "hidden": true
   },
   "outputs": [],
   "source": [
    "mu <- list(5, 10, -3)\n",
    "sigma <- list(1, 5, 10)\n",
    "map2(mu, sigma, rnorm, n = 5) %>% str()"
   ]
  },
  {
   "cell_type": "code",
   "execution_count": null,
   "metadata": {
    "ExecuteTime": {
     "end_time": "2020-02-23T01:05:44.382722Z",
     "start_time": "2020-02-23T01:05:44.317Z"
    },
    "hidden": true
   },
   "outputs": [],
   "source": [
    "mu <- list(5, 10, -3)\n",
    "sigma <- list(1, 5, 10)\n",
    "map2(mu, sigma, rnorm, n = 5) %>% str()"
   ]
  },
  {
   "cell_type": "markdown",
   "metadata": {
    "hidden": true
   },
   "source": [
    "`map2()` generates this series of function calls:"
   ]
  },
  {
   "cell_type": "markdown",
   "metadata": {
    "hidden": true
   },
   "source": [
    "<img src='pics/lists-map2.png' alt='Drawing' style='width:325pt'/>"
   ]
  },
  {
   "cell_type": "markdown",
   "metadata": {
    "hidden": true
   },
   "source": [
    "<font color = 'red'>Note that the arguments that vary for each call come _before_ the function; arguments that are the same for every call come _after_.</font>\n",
    "\n"
   ]
  },
  {
   "cell_type": "markdown",
   "metadata": {
    "hidden": true
   },
   "source": [
    "Like `map()`, `map2()` is just a wrapper around a for loop:\n",
    "\n",
    "\n",
    "\n",
    "\n",
    "\n",
    "```R\n",
    "map2 <- function(x, y, f, ...) {\n",
    "  out <- vector(\"list\", length(x))\n",
    "  for (i in seq_along(x)) {\n",
    "    out[[i]] <- f(x[[i]], y[[i]], ...)\n",
    "  }\n",
    "  out\n",
    "}\n",
    "```\n",
    "\n",
    "You could also imagine `map3()`, `map4()`, `map5()`, `map6()` etc, but that would get tedious quickly. Instead, purrr provides `pmap()` which takes a list of arguments. You might use that if you wanted to vary the mean, standard deviation, and number of samples:\n",
    "\n",
    "\n",
    "\n",
    "\n",
    "\n",
    "```R\n",
    "n <- list(1, 3, 5)\n",
    "\n",
    "args1 <- list(n, mu, sigma)\n",
    "\n",
    "args1 %>%\n",
    "  pmap(rnorm) %>% \n",
    "  str()\n",
    "\n",
    "#> List of 3\n",
    "#>  $ : num 5.39\n",
    "#>  $ : num [1:3] 5.41 2.08 9.58\n",
    "#>  $ : num [1:5] -23.85 -2.96 -6.56 8.46 -5.21\n",
    "```\n",
    "\n",
    "That looks like:"
   ]
  },
  {
   "cell_type": "markdown",
   "metadata": {
    "hidden": true
   },
   "source": [
    "<img src='pics/lists-pmap-unnamed.png' alt='Drawing' style='width:325pt'/>"
   ]
  },
  {
   "cell_type": "markdown",
   "metadata": {
    "hidden": true
   },
   "source": [
    "If you don’t name the list’s elements, `pmap()` will use positional matching when calling the function. That’s a little fragile, and makes the code harder to read, so it’s better to name the arguments:"
   ]
  },
  {
   "cell_type": "code",
   "execution_count": null,
   "metadata": {
    "ExecuteTime": {
     "end_time": "2020-02-23T01:09:43.523080Z",
     "start_time": "2020-02-23T01:09:43.472Z"
    },
    "hidden": true
   },
   "outputs": [],
   "source": [
    "args2 <- list(mean = mu, sd = sigma, n = n)\n",
    "\n",
    "args2 %>% \n",
    "  pmap(rnorm) %>% \n",
    "  str()"
   ]
  },
  {
   "cell_type": "code",
   "execution_count": null,
   "metadata": {
    "ExecuteTime": {
     "end_time": "2020-02-23T01:11:16.063261Z",
     "start_time": "2020-02-23T01:11:16.016Z"
    },
    "hidden": true
   },
   "outputs": [],
   "source": [
    "list(mean = mu, sd = sigma, n = n) %>% \n",
    "  pmap(rnorm) %>% \n",
    "  str()"
   ]
  },
  {
   "cell_type": "markdown",
   "metadata": {
    "hidden": true
   },
   "source": [
    "That generates longer, but safer, calls:\n",
    "\n",
    "<img src='pics/lists-pmap-named.png' alt='Drawing' style='width:425pt'/>"
   ]
  },
  {
   "cell_type": "markdown",
   "metadata": {
    "hidden": true
   },
   "source": [
    "Since the arguments are all the same length, it makes sense to store them in a data frame:\n",
    "\n",
    "\n",
    "```R\n",
    "params <- tribble(\n",
    "  ~mean, ~sd, ~n,\n",
    "    5,     1,  1,\n",
    "   10,     5,  3,\n",
    "   -3,    10,  5\n",
    ")\n",
    "\n",
    "params %>% \n",
    "  pmap(rnorm)\n",
    "\n",
    "#> [[1]]\n",
    "#> [1] 6.02\n",
    "#> \n",
    "#> [[2]]\n",
    "#> [1]  8.68 18.29  6.13\n",
    "#> \n",
    "#> [[3]]\n",
    "#> [1] -12.24  -5.76  -8.93  -4.22   8.80\n",
    "```\n",
    "\n",
    "As soon as your code gets complicated, I think a data frame is a good approach because it ensures that each column has a name and is the same length as all the other columns."
   ]
  },
  {
   "cell_type": "code",
   "execution_count": null,
   "metadata": {
    "ExecuteTime": {
     "end_time": "2020-02-23T01:12:30.995087Z",
     "start_time": "2020-02-23T01:12:30.930Z"
    },
    "hidden": true
   },
   "outputs": [],
   "source": [
    "params <- tribble(\n",
    "  ~mean, ~sd, ~n,\n",
    "    5,     1,  1,\n",
    "   10,     5,  3,\n",
    "   -3,    10,  5\n",
    ")\n",
    "\n",
    "params"
   ]
  },
  {
   "cell_type": "markdown",
   "metadata": {
    "heading_collapsed": true,
    "hidden": true
   },
   "source": [
    "### 21.7.1 Invoking different functions"
   ]
  },
  {
   "cell_type": "markdown",
   "metadata": {
    "hidden": true
   },
   "source": [
    "There’s one more step up in complexity - as well as varying the arguments to the function you might also vary the function itself:\n",
    "\n",
    "\n",
    "\n",
    "\n",
    "\n",
    "```R\n",
    "f <- c(\"runif\", \"rnorm\", \"rpois\")\n",
    "\n",
    "param <- list(\n",
    "  list(min = -1, max = 1), \n",
    "  list(sd = 5), \n",
    "  list(lambda = 10)\n",
    ")\n",
    "```\n",
    "\n",
    "To handle this case, you can use `invoke_map()`:\n",
    "\n",
    "\n",
    "\n",
    "\n",
    "\n",
    "```R\n",
    "invoke_map(f, param, n = 5) %>% str()\n",
    "#> List of 3\n",
    "#>  $ : num [1:5] 0.479 0.439 -0.471 0.348 -0.581\n",
    "#>  $ : num [1:5] 2.48 3.9 7.54 -9.12 3.94\n",
    "#>  $ : int [1:5] 6 11 5 8 9\n",
    "```"
   ]
  },
  {
   "cell_type": "code",
   "execution_count": null,
   "metadata": {
    "ExecuteTime": {
     "end_time": "2020-02-23T01:25:37.102617Z",
     "start_time": "2020-02-23T01:25:37.051Z"
    },
    "hidden": true,
    "scrolled": true
   },
   "outputs": [],
   "source": [
    "(param <- list(\n",
    "  list(min = -1, max = 1), \n",
    "  list(sd = 5), \n",
    "  list(lambda = 10)\n",
    "))"
   ]
  },
  {
   "cell_type": "markdown",
   "metadata": {
    "hidden": true
   },
   "source": [
    "<img src='pics/lists-invoke.png' alt='Drawing' style='width:425pt'/>"
   ]
  },
  {
   "cell_type": "markdown",
   "metadata": {
    "hidden": true
   },
   "source": [
    "The first argument is a list of functions or character vector of function names. The second argument is a list of lists giving the arguments that vary for each function. The subsequent arguments are passed on to every function.\n",
    "\n",
    "And again, you can use `tribble()` to make creating these matching pairs a little easier:\n",
    "\n",
    "\n",
    "\n",
    "```R\n",
    "sim <- tribble(\n",
    "  ~f,      ~params,\n",
    "  \"runif\", list(min = -1, max = 1),\n",
    "  \"rnorm\", list(sd = 5),\n",
    "  \"rpois\", list(lambda = 10)\n",
    ")\n",
    "\n",
    "sim %>% \n",
    "  mutate(sim = invoke_map(f, params, n = 10))\n",
    "```"
   ]
  },
  {
   "cell_type": "code",
   "execution_count": null,
   "metadata": {
    "ExecuteTime": {
     "end_time": "2020-02-23T01:29:19.858548Z",
     "start_time": "2020-02-23T01:29:19.782Z"
    },
    "hidden": true
   },
   "outputs": [],
   "source": [
    "sim <- tribble(\n",
    "  ~f,      ~params,\n",
    "  \"runif\", list(min = -1, max = 1),\n",
    "  \"rnorm\", list(sd = 5),\n",
    "  \"rpois\", list(lambda = 10)\n",
    ")\n",
    "\n",
    "sim %>% \n",
    "  mutate(sim = invoke_map(f, params, n = 10))"
   ]
  },
  {
   "cell_type": "code",
   "execution_count": null,
   "metadata": {
    "ExecuteTime": {
     "end_time": "2020-02-23T01:31:14.606506Z",
     "start_time": "2020-02-23T01:31:14.551Z"
    },
    "hidden": true,
    "scrolled": false
   },
   "outputs": [],
   "source": [
    "sim <- tribble(\n",
    "  ~f,      ~params,\n",
    "  \"runif\", list(min = -1, max = 1),\n",
    "  \"rnorm\", list(sd = 5),\n",
    "  \"rpois\", list(lambda = 10)\n",
    ")\n",
    "\n",
    "sim %>%\n",
    "  mutate(sim = invoke_map(f, params, n = 10))"
   ]
  },
  {
   "cell_type": "markdown",
   "metadata": {
    "heading_collapsed": true,
    "hidden": true
   },
   "source": [
    "## 21.8 Walk"
   ]
  },
  {
   "cell_type": "markdown",
   "metadata": {
    "hidden": true
   },
   "source": [
    "<b><font color = 'purple'>Walk is an alternative to map that you use when you want to call a function for its side effects, rather than for its return value </font></b>. \n",
    "\n",
    "<font color = 'blue'>You typically do this because you want to render output to the screen or save files to disk</font> - <font color = 'blue'><b>the important thing is the action, not the return value</b></font>. Here’s a very simple example:"
   ]
  },
  {
   "cell_type": "markdown",
   "metadata": {
    "hidden": true
   },
   "source": [
    "```R\n",
    "x <- list(1, \"a\", 3)\n",
    "\n",
    "x %>% \n",
    "  walk(print)\n",
    "#> [1] 1\n",
    "#> [1] \"a\"\n",
    "#> [1] 3\n",
    "```"
   ]
  },
  {
   "cell_type": "code",
   "execution_count": null,
   "metadata": {
    "ExecuteTime": {
     "end_time": "2020-02-23T01:43:15.243862Z",
     "start_time": "2020-02-23T01:43:15.194Z"
    },
    "hidden": true
   },
   "outputs": [],
   "source": [
    "x <- list(1, \"a\", 3)\n",
    "\n",
    "x %>% \n",
    "  walk(print)\n",
    "#> [1] 1\n",
    "#> [1] \"a\"\n",
    "#> [1] 3\n"
   ]
  },
  {
   "cell_type": "markdown",
   "metadata": {
    "hidden": true
   },
   "source": [
    "`walk()` is generally not that useful compared to `walk2()` or `pwalk()`. For example, if you had a list of plots and a vector of file names, you could use `pwalk()` to save each file to the corresponding location on disk:"
   ]
  },
  {
   "cell_type": "markdown",
   "metadata": {
    "hidden": true
   },
   "source": [
    "```R\n",
    "library(ggplot2)\n",
    "\n",
    "plots <- mtcars %>% \n",
    "  split(.$cyl) %>% \n",
    "  map(~ggplot(., aes(mpg, wt)) + geom_point())\n",
    "\n",
    "paths <- stringr::str_c(names(plots), \".pdf\")\n",
    "\n",
    "pwalk(list(paths, plots), ggsave, path = tempdir())\n",
    "```"
   ]
  },
  {
   "cell_type": "markdown",
   "metadata": {
    "hidden": true
   },
   "source": [
    "`walk()`, `walk2()` and `pwalk()` all invisibly return `.x`, the first argument. This makes them suitable for use in the middle of pipelines."
   ]
  },
  {
   "cell_type": "markdown",
   "metadata": {
    "heading_collapsed": true,
    "hidden": true
   },
   "source": [
    "## 21.9 Other patterns of for loops"
   ]
  },
  {
   "cell_type": "markdown",
   "metadata": {
    "hidden": true
   },
   "source": [
    "Purrr provides a number of other functions that abstract over other types of for loops. You’ll use them less frequently than the map functions, but they’re useful to know about. The goal here is to briefly illustrate each function, so hopefully it will come to mind if you see a similar problem in the future. Then you can go look up the documentation for more details."
   ]
  },
  {
   "cell_type": "markdown",
   "metadata": {
    "heading_collapsed": true,
    "hidden": true
   },
   "source": [
    "### 21.9.1 Predicate functions"
   ]
  },
  {
   "cell_type": "markdown",
   "metadata": {
    "hidden": true
   },
   "source": [
    "A number of functions work with **predicate** functions that return either a single `TRUE` or `FALSE`.\n",
    "\n",
    "`keep()` and `discard()` keep elements of the input where the predicate is `TRUE` or `FALSE` respectively:\n",
    "\n",
    "\n",
    "\n",
    "\n",
    "\n",
    "```R\n",
    "iris %>% \n",
    "  keep(is.factor) %>% \n",
    "  str()\n",
    "#> 'data.frame':    150 obs. of  1 variable:\n",
    "#>  $ Species: Factor w/ 3 levels \"setosa\",\"versicolor\",..: 1 1 1 1 1 1 1 1 1 1 ...\n",
    "\n",
    "iris %>% \n",
    "  discard(is.factor) %>% \n",
    "  str()\n",
    "#> 'data.frame':    150 obs. of  4 variables:\n",
    "#>  $ Sepal.Length: num  5.1 4.9 4.7 4.6 5 5.4 4.6 5 4.4 4.9 ...\n",
    "#>  $ Sepal.Width : num  3.5 3 3.2 3.1 3.6 3.9 3.4 3.4 2.9 3.1 ...\n",
    "#>  $ Petal.Length: num  1.4 1.4 1.3 1.5 1.4 1.7 1.4 1.5 1.4 1.5 ...\n",
    "#>  $ Petal.Width : num  0.2 0.2 0.2 0.2 0.2 0.4 0.3 0.2 0.2 0.1 ...\n",
    "```"
   ]
  },
  {
   "cell_type": "markdown",
   "metadata": {
    "hidden": true
   },
   "source": [
    "`some()` and `every()` determine if the predicate is true for any or for all of\n",
    "the elements.\n",
    "\n",
    "\n",
    "\n",
    "\n",
    "\n",
    "```R\n",
    "x <- list(1:5, letters, list(10))\n",
    "\n",
    "x %>% \n",
    "  some(is_character)\n",
    "#> [1] TRUE\n",
    "\n",
    "x %>% \n",
    "  every(is_vector)\n",
    "#> [1] TRUE\n",
    "```"
   ]
  },
  {
   "cell_type": "code",
   "execution_count": null,
   "metadata": {
    "ExecuteTime": {
     "end_time": "2020-02-23T01:51:33.415492Z",
     "start_time": "2020-02-23T01:51:33.372Z"
    },
    "hidden": true
   },
   "outputs": [],
   "source": [
    "(x <- list(1:5, letters, list(10)))"
   ]
  },
  {
   "cell_type": "markdown",
   "metadata": {
    "hidden": true
   },
   "source": [
    "`detect()` finds the first element where the predicate is true; `detect_index()` returns its position.\n",
    "\n",
    "\n",
    "\n",
    "\n",
    "\n",
    "```R\n",
    "x <- sample(10)\n",
    "x\n",
    "#>  [1] 10  6  1  3  2  4  5  8  9  7\n",
    "\n",
    "x %>% \n",
    "  detect(~ . > 5)\n",
    "#> [1] 10\n",
    "\n",
    "x %>% \n",
    "  detect_index(~ . > 5)\n",
    "#> [1] 1\n",
    "```"
   ]
  },
  {
   "cell_type": "markdown",
   "metadata": {
    "hidden": true
   },
   "source": [
    "`head_while()` and `tail_while()` take elements from the start or end of a vector while a predicate is true:\n",
    "\n",
    "\n",
    "\n",
    "\n",
    "\n",
    "```R\n",
    "x %>% \n",
    "  head_while(~ . > 5)\n",
    "#> [1] 10  6\n",
    "\n",
    "x %>% \n",
    "  tail_while(~ . > 5)\n",
    "#> [1] 8 9 7\n",
    "```"
   ]
  },
  {
   "cell_type": "markdown",
   "metadata": {
    "heading_collapsed": true,
    "hidden": true
   },
   "source": [
    "### 21.9.2 Reduce and accumulate"
   ]
  },
  {
   "cell_type": "markdown",
   "metadata": {
    "hidden": true
   },
   "source": [
    "Sometimes you have a complex list that you want to reduce to a simple list by repeatedly applying a function that reduces a pair to a singleton. This is useful if you want to apply a two-table dplyr verb to multiple tables. For example, you might have a list of data frames, and you want to reduce to a single data frame by joining the elements together:\n",
    "\n",
    "\n",
    "\n",
    "\n",
    "\n",
    "```R\n",
    "dfs <- list(\n",
    "  age = tibble(name = \"John\", age = 30),\n",
    "  sex = tibble(name = c(\"John\", \"Mary\"), sex = c(\"M\", \"F\")),\n",
    "  trt = tibble(name = \"Mary\", treatment = \"A\")\n",
    ")\n",
    "\n",
    "dfs %>% reduce(full_join)\n",
    "#> Joining, by = \"name\"Joining, by = \"name\"\n",
    "#> # A tibble: 2 x 4\n",
    "#>   name    age sex   treatment\n",
    "#>   <chr> <dbl> <chr> <chr>    \n",
    "#> 1 John     30 M     <NA>     \n",
    "#> 2 Mary     NA F     A\n",
    "```"
   ]
  },
  {
   "cell_type": "code",
   "execution_count": null,
   "metadata": {
    "ExecuteTime": {
     "end_time": "2020-02-23T03:05:21.294080Z",
     "start_time": "2020-02-23T03:05:21.166Z"
    },
    "hidden": true
   },
   "outputs": [],
   "source": [
    "(dfs <- list(\n",
    "  age = tibble(name = \"John\", age = 30),\n",
    "  sex = tibble(name = c(\"John\", \"Mary\"), sex = c(\"M\", \"F\")),\n",
    "  trt = tibble(name = \"Mary\", treatment = \"A\")\n",
    "))"
   ]
  },
  {
   "cell_type": "code",
   "execution_count": null,
   "metadata": {
    "ExecuteTime": {
     "end_time": "2020-02-23T03:06:16.493942Z",
     "start_time": "2020-02-23T03:06:16.430Z"
    },
    "hidden": true
   },
   "outputs": [],
   "source": [
    "dfs %>% reduce(full_join)"
   ]
  },
  {
   "cell_type": "code",
   "execution_count": null,
   "metadata": {
    "ExecuteTime": {
     "end_time": "2020-02-23T03:06:14.619183Z",
     "start_time": "2020-02-23T03:06:14.560Z"
    },
    "hidden": true
   },
   "outputs": [],
   "source": [
    "dfs %>% reduce(left_join)"
   ]
  },
  {
   "cell_type": "markdown",
   "metadata": {
    "hidden": true
   },
   "source": [
    "Or maybe you have a list of vectors, and want to find the intersection:\n",
    "\n",
    "\n",
    "\n",
    "\n",
    "\n",
    "```R\n",
    "vs <- list(\n",
    "  c(1, 3, 5, 6, 10),\n",
    "  c(1, 2, 3, 7, 8, 10),\n",
    "  c(1, 2, 3, 4, 8, 9, 10)\n",
    ")\n",
    "\n",
    "vs %>% reduce(intersect)\n",
    "#> [1]  1  3 10\n",
    "```"
   ]
  },
  {
   "cell_type": "markdown",
   "metadata": {
    "hidden": true
   },
   "source": [
    "<font color = 'green'><b>The reduce function takes a “binary” function (i.e. a function with two primary inputs), and applies it repeatedly to a list until there is only a single element left</b></font>.\n",
    "\n",
    "Accumulate is similar but it keeps all the interim results. You could use it to implement a cumulative sum:"
   ]
  },
  {
   "cell_type": "markdown",
   "metadata": {
    "hidden": true
   },
   "source": [
    "```R\n",
    "x <- sample(10)\n",
    "x\n",
    "#>  [1]  7  5 10  9  8  3  1  4  2  6\n",
    "x %>% accumulate(`+`)\n",
    "#>  [1]  7 12 22 31 39 42 43 47 49 55\n",
    "```"
   ]
  },
  {
   "cell_type": "code",
   "execution_count": null,
   "metadata": {
    "ExecuteTime": {
     "end_time": "2020-02-23T03:13:06.369270Z",
     "start_time": "2020-02-23T03:13:06.299Z"
    },
    "hidden": true
   },
   "outputs": [],
   "source": [
    "vs <- list(\n",
    "  c(1, 3, 5, 6, 10),\n",
    "  c(1, 2, 3, 7, 8, 10),\n",
    "  c(1, 2, 3, 4, 8, 9, 10)\n",
    ")\n",
    "\n",
    "vs %>% accumulate(intersect)\n",
    "#> [1]  1  3 10"
   ]
  },
  {
   "cell_type": "code",
   "execution_count": null,
   "metadata": {
    "ExecuteTime": {
     "end_time": "2020-02-23T03:13:38.099635Z",
     "start_time": "2020-02-23T03:13:38.035Z"
    },
    "hidden": true
   },
   "outputs": [],
   "source": [
    "x <- sample(10)\n",
    "x\n",
    "#>  [1]  7  5 10  9  8  3  1  4  2  6\n",
    "\n",
    "x %>% accumulate(sum)\n",
    "#>  [1]  7 12 22 31 39 42 43 47 49 55"
   ]
  },
  {
   "cell_type": "markdown",
   "metadata": {
    "heading_collapsed": true,
    "hidden": true
   },
   "source": [
    "### 21.9.3 Exercises"
   ]
  },
  {
   "cell_type": "markdown",
   "metadata": {
    "heading_collapsed": true,
    "hidden": true
   },
   "source": [
    "##### Questions"
   ]
  },
  {
   "cell_type": "markdown",
   "metadata": {
    "hidden": true
   },
   "source": [
    "1.  Implement your own version of `every()` using a for loop. Compare it with\n",
    "    `purrr::every()`. What does purrr’s version do that your version doesn’t?\n",
    "\n",
    "2.  Create an enhanced `col_summary()` that applies a summary function to every\n",
    "    numeric column in a data frame.\n",
    "\n",
    "3.  A possible base R equivalent of `col_summary()` is:\n",
    "\n",
    "    "
   ]
  },
  {
   "cell_type": "markdown",
   "metadata": {
    "hidden": true
   },
   "source": [
    "\n",
    "\n",
    "```R\n",
    "col_sum3 <- function(df, f) {\n",
    "  is_num <- sapply(df, is.numeric)\n",
    "  df_num <- df[, is_num]\n",
    "\n",
    "  sapply(df_num, f)\n",
    "}\n",
    "```"
   ]
  },
  {
   "cell_type": "markdown",
   "metadata": {
    "hidden": true
   },
   "source": [
    "But it has a number of bugs as illustrated with the following inputs:\n",
    "\n",
    "    \n",
    "\n",
    "\n",
    "\n",
    "```R\n",
    "df <- tibble(\n",
    "  x = 1:3, \n",
    "  y = 3:1,\n",
    "  z = c(\"a\", \"b\", \"c\")\n",
    ")\n",
    "# OK\n",
    "col_sum3(df, mean)\n",
    "# Has problems: don't always return numeric vector\n",
    "col_sum3(df[1:2], mean)\n",
    "col_sum3(df[1], mean)\n",
    "col_sum3(df[0], mean)\n",
    "```\n",
    "\n",
    "What causes the bugs?"
   ]
  },
  {
   "cell_type": "code",
   "execution_count": null,
   "metadata": {
    "ExecuteTime": {
     "end_time": "2020-02-23T03:34:53.667315Z",
     "start_time": "2020-02-23T03:34:53.617Z"
    },
    "hidden": true
   },
   "outputs": [],
   "source": [
    "df <- tibble(\n",
    "  x = 1:3, \n",
    "  y = 3:1,\n",
    "  z = c(\"a\", \"b\", \"c\")\n",
    ")\n",
    "df"
   ]
  },
  {
   "cell_type": "code",
   "execution_count": null,
   "metadata": {
    "ExecuteTime": {
     "end_time": "2020-02-23T03:34:59.182777Z",
     "start_time": "2020-02-23T03:34:59.141Z"
    },
    "hidden": true
   },
   "outputs": [],
   "source": [
    "col_sum3 <- function(df, f) {\n",
    "  is_num <- sapply(df, is.numeric)\n",
    "  df_num <- df[, is_num]\n",
    "\n",
    "  sapply(df_num, f)\n",
    "}"
   ]
  },
  {
   "cell_type": "code",
   "execution_count": null,
   "metadata": {
    "ExecuteTime": {
     "end_time": "2020-02-23T03:35:27.997753Z",
     "start_time": "2020-02-23T03:35:27.897Z"
    },
    "hidden": true
   },
   "outputs": [],
   "source": [
    "# OK\n",
    "col_sum3(df, mean)\n",
    "# Has problems: don't always return numeric vector\n",
    "col_sum3(df[1:2], mean)\n",
    "col_sum3(df[1], mean)\n",
    "col_sum3(df[0], mean)"
   ]
  },
  {
   "cell_type": "markdown",
   "metadata": {
    "heading_collapsed": true,
    "hidden": true
   },
   "source": [
    "##### Exercise 21.9.1[__](https://jrnold.github.io/r4ds-exercise-solutions/iteration.html#exercise-21.9.1)"
   ]
  },
  {
   "cell_type": "markdown",
   "metadata": {
    "hidden": true
   },
   "source": [
    "Implement your own version of `every()` using a for loop.\n",
    "Compare it with `purrr::every()`.\n",
    "What does purrr’s version do that your version doesn’t?\n",
    "\n",
    "\n",
    "\n",
    "\n",
    "\n",
    "\n",
    "\n",
    "\n",
    "\n",
    "\n",
    "\n",
    "```R\n",
    "# Use ... to pass arguments to the function\n",
    "every2 <- function(.x, .p, ...) {\n",
    "  for (i in .x) {\n",
    "    if (!.p(i, ...)) {\n",
    "      # If any is FALSE we know not all of then were TRUE\n",
    "      return(FALSE)\n",
    "    }\n",
    "  }\n",
    "  # if nothing was FALSE, then it is TRUE\n",
    "  TRUE\n",
    "}\n",
    "\n",
    "every2(1:3, function(x) {\n",
    "  x > 1\n",
    "})\n",
    "#> [1] FALSE\n",
    "\n",
    "every2(1:3, function(x) {\n",
    "  x > 0\n",
    "})\n",
    "#> [1] TRUE\n",
    "```"
   ]
  },
  {
   "cell_type": "markdown",
   "metadata": {
    "hidden": true
   },
   "source": [
    "The function `purrr::every()` does fancy things with the predicate function argument `.p`, like taking a logical vector instead of a function, or being able to test part of a string if the elements of `.x` are lists."
   ]
  },
  {
   "cell_type": "markdown",
   "metadata": {
    "heading_collapsed": true,
    "hidden": true
   },
   "source": [
    "##### Exercise 21.9.2[__](https://jrnold.github.io/r4ds-exercise-solutions/iteration.html#exercise-21.9.2)"
   ]
  },
  {
   "cell_type": "markdown",
   "metadata": {
    "hidden": true
   },
   "source": [
    "Create an enhanced `col_summary()` that applies a summary function to every numeric column in a data frame.\n",
    "\n",
    "I will use `map` to apply the function to all the columns, and `keep` to only select numeric columns."
   ]
  },
  {
   "cell_type": "markdown",
   "metadata": {
    "hidden": true
   },
   "source": [
    "```R\n",
    "col_sum2 <- function(df, f, ...) {\n",
    "  map(keep(df, is.numeric), f, ...)\n",
    "}\n",
    "```"
   ]
  },
  {
   "cell_type": "markdown",
   "metadata": {
    "hidden": true
   },
   "source": [
    "```R\n",
    "col_sum2(iris, mean)\n",
    "#> $Sepal.Length\n",
    "#> [1] 5.84\n",
    "#> \n",
    "#> $Sepal.Width\n",
    "#> [1] 3.06\n",
    "#> \n",
    "#> $Petal.Length\n",
    "#> [1] 3.76\n",
    "#> \n",
    "#> $Petal.Width\n",
    "#> [1] 1.2\n",
    "```"
   ]
  },
  {
   "cell_type": "markdown",
   "metadata": {
    "heading_collapsed": true,
    "hidden": true
   },
   "source": [
    "### Exercise 21.9.3[__](https://jrnold.github.io/r4ds-exercise-solutions/iteration.html#exercise-21.9.3)"
   ]
  },
  {
   "cell_type": "markdown",
   "metadata": {
    "hidden": true
   },
   "source": [
    "A possible base R equivalent of `col_summary()` is:"
   ]
  },
  {
   "cell_type": "markdown",
   "metadata": {
    "hidden": true
   },
   "source": [
    "```R\n",
    "col_sum3 <- function(df, f) {\n",
    "  is_num <- sapply(df, is.numeric)\n",
    "  df_num <- df[, is_num]\n",
    "  sapply(df_num, f)\n",
    "}\n",
    "```\n",
    "\n",
    "But it has a number of bugs as illustrated with the following inputs:"
   ]
  },
  {
   "cell_type": "markdown",
   "metadata": {
    "hidden": true
   },
   "source": [
    "```R\n",
    "df <- tibble(\n",
    "  x = 1:3,\n",
    "  y = 3:1,\n",
    "  z = c(\"a\", \"b\", \"c\")\n",
    ")\n",
    "\n",
    "# OK\n",
    "col_sum3(df, mean)\n",
    "# Has problems: don't always return numeric vector\n",
    "col_sum3(df[1:2], mean)\n",
    "col_sum3(df[1], mean)\n",
    "col_sum3(df[0], mean)\n",
    "```"
   ]
  },
  {
   "cell_type": "markdown",
   "metadata": {
    "hidden": true
   },
   "source": [
    "<b><font color = 'purple'>What causes these bugs? </font></b>\n",
    "\n",
    "<font color = 'blue'>The cause of these bugs is the behavior of `sapply()`.\n",
    "The `sapply()` function does not guarantee the type of vector it returns, and will returns different types of vectors depending on its inputs.</font>\n",
    "If no columns are selected, instead of returning an empty numeric vector, it returns an empty list.\n",
    "This causes an error since we can’t use a list with `[`."
   ]
  },
  {
   "cell_type": "markdown",
   "metadata": {
    "hidden": true
   },
   "source": [
    "```R\n",
    "sapply(df[0], is.numeric)\n",
    "#> named list()\n",
    "```"
   ]
  },
  {
   "cell_type": "markdown",
   "metadata": {
    "hidden": true
   },
   "source": [
    "```R\n",
    "sapply(df[1], is.numeric)\n",
    "#>   X1 \n",
    "#> TRUE\n",
    "```"
   ]
  },
  {
   "cell_type": "markdown",
   "metadata": {
    "hidden": true
   },
   "source": [
    "```R\n",
    "sapply(df[1:2], is.numeric)\n",
    "#>    X1    X2 \n",
    "#>  TRUE FALSE\n",
    "```"
   ]
  },
  {
   "cell_type": "markdown",
   "metadata": {
    "hidden": true
   },
   "source": [
    "The `sapply()` function tries to be helpful by simplifying the results, but this behavior can be counterproductive.\n",
    "It is okay to use the `sapply()` function interactively, but avoid programming with it."
   ]
  },
  {
   "cell_type": "markdown",
   "metadata": {},
   "source": [
    "# Purrr beyond map"
   ]
  },
  {
   "cell_type": "markdown",
   "metadata": {},
   "source": [
    "https://hendrikvanb.gitlab.io/slides/purrr_beyond_map.html#9\n",
    "\n",
    "\"C:\\Users\\bings\\DS\\0_McElreath_SR\\refs\\2_purrr_beyond_map.pdf\""
   ]
  },
  {
   "cell_type": "markdown",
   "metadata": {},
   "source": [
    "## map() Apply to all"
   ]
  },
  {
   "cell_type": "code",
   "execution_count": null,
   "metadata": {
    "ExecuteTime": {
     "end_time": "2020-03-20T15:36:34.108413Z",
     "start_time": "2020-03-20T15:36:34.047Z"
    }
   },
   "outputs": [],
   "source": [
    "# function to get square of number\n",
    "my_square <- function(x) x^2\n",
    "\n",
    "1:5 %>% map(my_square)"
   ]
  },
  {
   "cell_type": "code",
   "execution_count": null,
   "metadata": {
    "ExecuteTime": {
     "end_time": "2020-03-20T15:36:34.839222Z",
     "start_time": "2020-03-20T15:36:34.788Z"
    }
   },
   "outputs": [],
   "source": [
    "# get square of each number 1:5 and output as list\n",
    "res1 <- 1:5 %>% map(my_square)                # direct call\n",
    "res2 <- 1:5 %>% map(~my_square(.))            # for backward compatibility\n",
    "res3 <- 1:5 %>% map(~my_square(.x))           # formula \n",
    "res4 <- 1:5 %>% map(function(x) my_square(x)) # inline anonymous function"
   ]
  },
  {
   "cell_type": "code",
   "execution_count": null,
   "metadata": {
    "ExecuteTime": {
     "end_time": "2020-03-20T15:36:35.653974Z",
     "start_time": "2020-03-20T15:36:35.596Z"
    }
   },
   "outputs": [],
   "source": [
    "# test equivalence\n",
    "identical(res1, res2) & identical(res2, res3) & identical(res3, res4)"
   ]
  },
  {
   "cell_type": "markdown",
   "metadata": {
    "heading_collapsed": true
   },
   "source": [
    "##### <b><font color = 'purple'>Passing arguments with ... </font></b>"
   ]
  },
  {
   "cell_type": "markdown",
   "metadata": {
    "heading_collapsed": true
   },
   "source": [
    "##### Use paste() to add 'min' as suffix to each number from 1 to 5"
   ]
  },
  {
   "cell_type": "code",
   "execution_count": null,
   "metadata": {
    "ExecuteTime": {
     "end_time": "2020-03-20T15:36:40.306474Z",
     "start_time": "2020-03-20T15:36:40.244Z"
    },
    "cell_style": "split",
    "hidden": true
   },
   "outputs": [],
   "source": [
    "1:5 %>% map(paste, 'min')"
   ]
  },
  {
   "cell_type": "code",
   "execution_count": null,
   "metadata": {
    "ExecuteTime": {
     "end_time": "2020-03-20T15:36:41.027973Z",
     "start_time": "2020-03-20T15:36:40.952Z"
    },
    "cell_style": "split",
    "hidden": true
   },
   "outputs": [],
   "source": [
    "1:5 %>% map(~paste(.x, 'min'))"
   ]
  },
  {
   "cell_type": "code",
   "execution_count": null,
   "metadata": {
    "ExecuteTime": {
     "end_time": "2020-03-20T15:36:41.827018Z",
     "start_time": "2020-03-20T15:36:41.761Z"
    },
    "hidden": true
   },
   "outputs": [],
   "source": [
    "# pass arguments along\n",
    "spec1 <- 1:5 %>% map(paste, 'min')\n",
    "# formula specification (two variants)\n",
    "spec2 <- 1:5 %>% map(~paste(., 'min'))\n",
    "spec3 <- 1:5 %>% map(~paste(.x, 'min'))\n",
    "# inline anonymous function specification\n",
    "spec4 <- 1:5 %>% map(function(x) paste(x, 'min'))\n",
    "# test equivalence\n",
    "list(spec2, spec3, spec4) %>% map_lgl(identical, y = spec1)"
   ]
  },
  {
   "cell_type": "markdown",
   "metadata": {
    "hidden": true
   },
   "source": [
    "<div class=\"alert alert-block alert-danger\">\n",
    "Passing arguments: via ... vs in function <br>\n",
    "A seemingly subtle, yet important difference"
   ]
  },
  {
   "cell_type": "markdown",
   "metadata": {
    "hidden": true
   },
   "source": [
    "Not all that seems vecorised is...\n",
    "- <font color = 'red'>map() is only vectorised over its  first argument</font> so arguments passed to map() after .f will be\n",
    "- passed along as is and\n",
    "- evaluated once\n",
    "\n",
    "What is that supposed to mean?\n",
    "- Has implications if you pass arguments to function via ...\n",
    "- errors if you pass vectors as arguments to functions that do not accept vectors as arguments\n",
    "- potentially wrong results even if arguments specified correctly"
   ]
  },
  {
   "cell_type": "code",
   "execution_count": null,
   "metadata": {
    "ExecuteTime": {
     "end_time": "2020-03-20T15:36:44.466770Z",
     "start_time": "2020-03-20T15:36:44.399Z"
    },
    "hidden": true
   },
   "outputs": [],
   "source": [
    "# function that multiplies input (arg1) by specified constant (arg2)\n",
    "temp_func <- function(x, constant = 2) {\n",
    "  glue::glue('{x} x {constant} = {x*constant}')\n",
    "}\n",
    "\n",
    "# method 1: pass parameterised arg2 directly to map_chr\n",
    "1:5 %>% map_chr(temp_func, constant = sample(1:10, 1))\n",
    "\n",
    "# method 2: pass parameterised arg2 into inline anonymous function\n",
    "1:5 %>% map_chr(function(x) temp_func(x, constant = sample(1:10, 1)))"
   ]
  },
  {
   "cell_type": "code",
   "execution_count": null,
   "metadata": {
    "ExecuteTime": {
     "end_time": "2020-03-20T15:36:45.530058Z",
     "start_time": "2020-03-20T15:36:45.483Z"
    },
    "hidden": true
   },
   "outputs": [],
   "source": [
    "sample(1:10, 1)"
   ]
  },
  {
   "cell_type": "markdown",
   "metadata": {
    "heading_collapsed": true
   },
   "source": [
    "##### map_*()\n",
    "Specifying the output format"
   ]
  },
  {
   "cell_type": "markdown",
   "metadata": {
    "hidden": true
   },
   "source": [
    "map_*(.x, .f, ...) \n",
    "call function .f once for each element of vector .x; return the result\n",
    "as an atomic vector of type *; error if impossible\n"
   ]
  },
  {
   "cell_type": "code",
   "execution_count": null,
   "metadata": {
    "ExecuteTime": {
     "end_time": "2020-03-20T15:36:49.054941Z",
     "start_time": "2020-03-20T15:36:48.999Z"
    },
    "hidden": true
   },
   "outputs": [],
   "source": [
    "1:5 %>% map_chr(paste, 'min')\n",
    "1:5 %>% map_chr(paste, 'min') %>% class()\n",
    "# [1] \"character\""
   ]
  },
  {
   "cell_type": "code",
   "execution_count": null,
   "metadata": {
    "ExecuteTime": {
     "end_time": "2020-03-20T15:36:49.767012Z",
     "start_time": "2020-03-20T15:36:49.684Z"
    },
    "hidden": true
   },
   "outputs": [],
   "source": [
    "1:5 %>% map_lgl(function(x) x < 3)\n",
    "1:5 %>% map_lgl(function(x) x < 3) %>% class()\n",
    "# [1] \"logical\""
   ]
  },
  {
   "cell_type": "code",
   "execution_count": null,
   "metadata": {
    "ExecuteTime": {
     "end_time": "2020-03-20T15:36:50.391489Z",
     "start_time": "2020-03-20T15:36:50.329Z"
    },
    "hidden": true
   },
   "outputs": [],
   "source": [
    "1:5 %>% map_int(function(x) x * 2L)\n",
    "1:5 %>% map_int(function(x) x * 2L) %>% class()\n",
    "# [1] \"integer\""
   ]
  },
  {
   "cell_type": "code",
   "execution_count": null,
   "metadata": {
    "ExecuteTime": {
     "end_time": "2020-03-20T15:36:50.941278Z",
     "start_time": "2020-03-20T15:36:50.862Z"
    },
    "hidden": true
   },
   "outputs": [],
   "source": [
    "1:5 %>% map_dfr(function(x) tibble(value = x))\n",
    "1:5 %>% map_dfr(function(x) tibble(value = x)) %>% class()\n",
    "# [1] \"tbl_df\"     \"tbl\"        \"data.frame\""
   ]
  },
  {
   "cell_type": "code",
   "execution_count": null,
   "metadata": {
    "ExecuteTime": {
     "end_time": "2020-03-20T15:37:18.277011Z",
     "start_time": "2020-03-20T15:37:17.988Z"
    },
    "hidden": true
   },
   "outputs": [],
   "source": [
    "1:5 %>% map_dfc(function(x) data.table(value = x))\n",
    "1:5 %>% map_dfc(function(x) data.table(value = x)) %>% class()\n",
    "# [1] \"data.table\" \"data.frame\""
   ]
  },
  {
   "cell_type": "markdown",
   "metadata": {
    "heading_collapsed": true
   },
   "source": [
    "## map() has siblings: walk() and modify()"
   ]
  },
  {
   "cell_type": "markdown",
   "metadata": {
    "heading_collapsed": true,
    "hidden": true
   },
   "source": [
    "##### <b>walk(.x, .f, ...) </b>\n",
    "* call function .f once for each element of .x; return\n",
    "nothing\n",
    "\n",
    "<b>modify(.x, .f, ...) </b>\n",
    "* call function .f once for each element of .x; return the\n",
    "result as an object of the same type as .x"
   ]
  },
  {
   "cell_type": "code",
   "execution_count": null,
   "metadata": {
    "ExecuteTime": {
     "end_time": "2020-03-20T15:37:20.625731Z",
     "start_time": "2020-03-20T15:37:20.577Z"
    },
    "hidden": true
   },
   "outputs": [],
   "source": [
    "# no output\n",
    "1:5 %>% walk(paste, 'min')"
   ]
  },
  {
   "cell_type": "code",
   "execution_count": null,
   "metadata": {
    "ExecuteTime": {
     "end_time": "2020-03-20T15:37:21.249080Z",
     "start_time": "2020-03-20T15:37:21.197Z"
    },
    "hidden": true
   },
   "outputs": [],
   "source": [
    "# output, but not what you might have expected\n",
    "1:5 %>% walk(function(x) x ^ 2) %>% print()\n",
    "# [1] 1 2 3 4 5"
   ]
  },
  {
   "cell_type": "code",
   "execution_count": null,
   "metadata": {
    "ExecuteTime": {
     "end_time": "2020-03-20T15:37:21.604599Z",
     "start_time": "2020-03-20T15:37:21.560Z"
    },
    "hidden": true
   },
   "outputs": [],
   "source": [
    "# proof that walk is actually doing stuff\n",
    "1:5 %>% walk(function(x) print(x ^ 2)) %>% print()"
   ]
  },
  {
   "cell_type": "code",
   "execution_count": null,
   "metadata": {
    "ExecuteTime": {
     "end_time": "2020-03-20T15:37:21.926401Z",
     "start_time": "2020-03-20T15:37:21.859Z"
    },
    "hidden": true
   },
   "outputs": [],
   "source": [
    "# obviously a character vector\n",
    "x <- c('1', '2', '3', '4', '5')\n",
    "\n",
    "# try to convert each element to integer using map_dbl\n",
    "x %>% map_dbl(as.integer)\n",
    "# [1] 1 2 3 4 5\n",
    "\n",
    "x %>% map_dbl(as.integer) %>% typeof()"
   ]
  },
  {
   "cell_type": "code",
   "execution_count": null,
   "metadata": {
    "ExecuteTime": {
     "end_time": "2020-03-20T15:37:22.163253Z",
     "start_time": "2020-03-20T15:37:22.106Z"
    },
    "hidden": true
   },
   "outputs": [],
   "source": [
    "# try to convert each element to integer using modify\n",
    "x %>% modify(as.integer)\n",
    "# [1] \"1\" \"2\" \"3\" \"4\" \"5\"\n",
    "\n",
    "x %>% modify(as.integer) %>% typeof()"
   ]
  },
  {
   "cell_type": "markdown",
   "metadata": {
    "heading_collapsed": true,
    "hidden": true
   },
   "source": [
    "##### Why walk()? Why modify()?\n",
    "What's the point?"
   ]
  },
  {
   "cell_type": "markdown",
   "metadata": {
    "hidden": true
   },
   "source": [
    "Just do stuff (```walk()```)\n",
    "- Some functions just need to do stuff , not necessarily return\n",
    "stuff \n",
    "   - E.g.: cat(), message(), saveRDS(), etc\n",
    "- Particularly useful for disk I/O operations\n",
    "- Allows input \"passthrough\""
   ]
  },
  {
   "cell_type": "markdown",
   "metadata": {
    "hidden": true
   },
   "source": [
    "Change the content; keep the wrapper (```modify()```)\n",
    "- Some functions just need to change stuff , not necessarily\n",
    "create stuff \n",
    "- Not everything needs to be coerced\n",
    "    - What if input is already of the type we want as\n",
    "output?\n",
    "    - Type preservation can be essential\n",
    "- Particularly useful are the modify_if() and modify_at()\n",
    "variants"
   ]
  },
  {
   "cell_type": "markdown",
   "metadata": {},
   "source": [
    "## map() variants cheatsheet"
   ]
  },
  {
   "cell_type": "markdown",
   "metadata": {},
   "source": [
    "<b><font color = 'purple'>Basic rules & the matrix of understanding </font></b>"
   ]
  },
  {
   "cell_type": "markdown",
   "metadata": {},
   "source": [
    "**map variant rules:**\n",
    "\n",
    "1.  `map()` returns list; `map_*()` returns vector of type specified \n",
    "2.  `modify()` returns same type as input\n",
    "3.  `walk()` returns nothing\n",
    "4.  Iterate over two inputs with `map2()`, `walk2()`, `modify2()`\n",
    "5.  Iterate over input and index with `imap()`, `imodify()`, `iwalk()`\n",
    "6.  Iterate over any number of inputs with `pmap()` and `pwalk()`\n",
    "\n",
    "\n",
    "**map variant matrix:**\n",
    "\n",
    "* map family of functions has orthogonal input and outputs\n",
    "* can organise all the family into a matrix, with inputs in the rows and outputs in the columns"
   ]
  },
  {
   "cell_type": "markdown",
   "metadata": {},
   "source": [
    " arguments            |   list   |   atomic          |   preserve type |   nothing \n",
    "---------------------- | -------- | ----------------- | --------------- | ---------\n",
    " one argument         |  `map()`  | `map_lgl(), ...`  | `modify()`      | `walk()` \n",
    " two arguments        |  `map2()` | `map2_lgl(), ...` | `modify2()`     | `walk2()`\n",
    " one argument + index |  `imap()` | `imap_lgl(), ...` | `imodify()`     | `iwalk()`\n",
    " n arguments          |  `pmap()` | `pmap_lgl(), ...` | `NA`            | `pwalk()`"
   ]
  },
  {
   "cell_type": "markdown",
   "metadata": {
    "heading_collapsed": true
   },
   "source": [
    "##### <b><font color = 'maroon'>Using pwalk() </font></b>\n",
    "<font color = 'green'><b>Itteratively write data to disk using ```purrr::pwalk()```</b></font>"
   ]
  },
  {
   "cell_type": "markdown",
   "metadata": {
    "hidden": true
   },
   "source": [
    "<font color = 'green'>For each manufacturer in the `mpg` dataset, write a `.csv` file to disk containing only the data for that manufacturer </font>"
   ]
  },
  {
   "cell_type": "code",
   "execution_count": 2,
   "metadata": {
    "ExecuteTime": {
     "end_time": "2020-03-21T15:49:48.861867Z",
     "start_time": "2020-03-21T15:49:48.531Z"
    },
    "hidden": true
   },
   "outputs": [
    {
     "name": "stdout",
     "output_type": "stream",
     "text": [
      " [1] \"df_audi.csv\"       \"df_chevrolet.csv\"  \"df_dodge.csv\"     \n",
      " [4] \"df_ford.csv\"       \"df_honda.csv\"      \"df_hyundai.csv\"   \n",
      " [7] \"df_jeep.csv\"       \"df_land rover.csv\" \"df_lincoln.csv\"   \n",
      "[10] \"df_mercury.csv\"    \"df_nissan.csv\"     \"df_pontiac.csv\"   \n",
      "[13] \"df_subaru.csv\"     \"df_toyota.csv\"     \"df_volkswagen.csv\"\n"
     ]
    }
   ],
   "source": [
    "# check for files (show that there are none)\n",
    "print(list.files('data/mpg'))\n",
    "# character(0)"
   ]
  },
  {
   "cell_type": "code",
   "execution_count": 3,
   "metadata": {
    "ExecuteTime": {
     "end_time": "2020-03-21T15:49:53.483884Z",
     "start_time": "2020-03-21T15:49:53.432Z"
    },
    "hidden": true
   },
   "outputs": [
    {
     "data": {
      "text/html": [
       "'C:/Users/bings/DS/0_McElreath_SR'"
      ],
      "text/latex": [
       "'C:/Users/bings/DS/0\\_McElreath\\_SR'"
      ],
      "text/markdown": [
       "'C:/Users/bings/DS/0_McElreath_SR'"
      ],
      "text/plain": [
       "[1] \"C:/Users/bings/DS/0_McElreath_SR\""
      ]
     },
     "metadata": {},
     "output_type": "display_data"
    }
   ],
   "source": [
    "getwd()"
   ]
  },
  {
   "cell_type": "code",
   "execution_count": 5,
   "metadata": {
    "ExecuteTime": {
     "end_time": "2020-03-21T15:50:35.317916Z",
     "start_time": "2020-03-21T15:50:35.141Z"
    },
    "hidden": true
   },
   "outputs": [],
   "source": [
    "# create files by taking the mpg df %>% collapsing the data for each \n",
    "# manufacturer into a list column %>% walking over the two columns \n",
    "# in the df and for each pair (i.e. row of manufacturer and data values) \n",
    "# doing: {create path variable to point to the path where the data \n",
    "# should be written %>% write the data to disk in .csv format}\n",
    "\n",
    "mpg %>%\n",
    "  group_nest(manufacturer, keep = T) %>%\n",
    "  pwalk(function(manufacturer, data) {\n",
    "    path <- file.path('data/mpg', glue::glue('df_{manufacturer}.csv'))\n",
    "    write_csv(data, path)\n",
    "  })"
   ]
  },
  {
   "cell_type": "code",
   "execution_count": 6,
   "metadata": {
    "ExecuteTime": {
     "end_time": "2020-03-21T15:50:36.739489Z",
     "start_time": "2020-03-21T15:50:36.663Z"
    },
    "hidden": true
   },
   "outputs": [
    {
     "data": {
      "text/html": [
       "<style>\n",
       ".list-inline {list-style: none; margin:0; padding: 0}\n",
       ".list-inline>li {display: inline-block}\n",
       ".list-inline>li:not(:last-child)::after {content: \"\\00b7\"; padding: 0 .5ex}\n",
       "</style>\n",
       "<ol class=list-inline><li>'df_audi.csv'</li><li>'df_chevrolet.csv'</li><li>'df_toyota.csv'</li><li>'df_volkswagen.csv'</li></ol>\n"
      ],
      "text/latex": [
       "\\begin{enumerate*}\n",
       "\\item 'df\\_audi.csv'\n",
       "\\item 'df\\_chevrolet.csv'\n",
       "\\item 'df\\_toyota.csv'\n",
       "\\item 'df\\_volkswagen.csv'\n",
       "\\end{enumerate*}\n"
      ],
      "text/markdown": [
       "1. 'df_audi.csv'\n",
       "2. 'df_chevrolet.csv'\n",
       "3. 'df_toyota.csv'\n",
       "4. 'df_volkswagen.csv'\n",
       "\n",
       "\n"
      ],
      "text/plain": [
       "[1] \"df_audi.csv\"       \"df_chevrolet.csv\"  \"df_toyota.csv\"    \n",
       "[4] \"df_volkswagen.csv\""
      ]
     },
     "metadata": {},
     "output_type": "display_data"
    }
   ],
   "source": [
    "# check for files again (show that there are now files)\n",
    "list.files('data/mpg') %>% {c(head(., 2), tail(., 2))}\n",
    "# [1] \"df_audi.csv\"       \"df_chevrolet.csv\"  \"df_toyota.csv\"     \"df_volkswagen.csv\""
   ]
  },
  {
   "cell_type": "markdown",
   "metadata": {
    "heading_collapsed": true
   },
   "source": [
    "##### <b><font color = 'MAROON'>Using `iwalk()`</font></b>\n",
    "\n",
    "<font color = 'green'><b>Itteratively read data into `purrr::iwalk()`</b></font>"
   ]
  },
  {
   "cell_type": "markdown",
   "metadata": {
    "hidden": true
   },
   "source": [
    " Read each of the .csv files just written to disk into R's global environment as a data frames. Use each file's name (without the .csv extension) as the name for its data frame."
   ]
  },
  {
   "cell_type": "code",
   "execution_count": 7,
   "metadata": {
    "ExecuteTime": {
     "end_time": "2020-03-21T15:50:40.419228Z",
     "start_time": "2020-03-21T15:50:40.372Z"
    },
    "hidden": true,
    "scrolled": true
   },
   "outputs": [
    {
     "data": {
      "text/html": [],
      "text/latex": [],
      "text/markdown": [],
      "text/plain": [
       "character(0)"
      ]
     },
     "metadata": {},
     "output_type": "display_data"
    }
   ],
   "source": [
    "# check for objects (show that there are none)\n",
    "ls()\n",
    "# character(0)"
   ]
  },
  {
   "cell_type": "code",
   "execution_count": 8,
   "metadata": {
    "ExecuteTime": {
     "end_time": "2020-03-21T15:50:41.087977Z",
     "start_time": "2020-03-21T15:50:40.989Z"
    },
    "hidden": true
   },
   "outputs": [],
   "source": [
    "# get a list of all of the .csv files located in data/mpg %>% using set_names, name each element in this list with its filename sans the .csv extension %>% using iwalk to apply the assign function to each element in the list. Specifically, use fread to read the csv file from disk into a data frame and then assign that data frame as a named object to R's global environment\n",
    "list.files('data/mpg', pattern = '.csv', full.names = T) %>% \n",
    "  set_names(str_remove(basename(.), '.csv$')) %>% \n",
    "  iwalk(function(x, i) assign(i, fread(x), .GlobalEnv))"
   ]
  },
  {
   "cell_type": "code",
   "execution_count": 9,
   "metadata": {
    "ExecuteTime": {
     "end_time": "2020-03-21T15:50:42.050196Z",
     "start_time": "2020-03-21T15:50:42.008Z"
    },
    "hidden": true
   },
   "outputs": [
    {
     "data": {
      "text/html": [
       "<style>\n",
       ".list-inline {list-style: none; margin:0; padding: 0}\n",
       ".list-inline>li {display: inline-block}\n",
       ".list-inline>li:not(:last-child)::after {content: \"\\00b7\"; padding: 0 .5ex}\n",
       "</style>\n",
       "<ol class=list-inline><li>'df_audi'</li><li>'df_chevrolet'</li><li>'df_toyota'</li><li>'df_volkswagen'</li></ol>\n"
      ],
      "text/latex": [
       "\\begin{enumerate*}\n",
       "\\item 'df\\_audi'\n",
       "\\item 'df\\_chevrolet'\n",
       "\\item 'df\\_toyota'\n",
       "\\item 'df\\_volkswagen'\n",
       "\\end{enumerate*}\n"
      ],
      "text/markdown": [
       "1. 'df_audi'\n",
       "2. 'df_chevrolet'\n",
       "3. 'df_toyota'\n",
       "4. 'df_volkswagen'\n",
       "\n",
       "\n"
      ],
      "text/plain": [
       "[1] \"df_audi\"       \"df_chevrolet\"  \"df_toyota\"     \"df_volkswagen\""
      ]
     },
     "metadata": {},
     "output_type": "display_data"
    }
   ],
   "source": [
    "# check for objects again (show that there are now files)\n",
    "ls() %>% {c(head(., 2), tail(., 2))}"
   ]
  },
  {
   "cell_type": "code",
   "execution_count": 10,
   "metadata": {
    "ExecuteTime": {
     "end_time": "2020-03-21T15:50:43.872361Z",
     "start_time": "2020-03-21T15:50:43.796Z"
    },
    "hidden": true
   },
   "outputs": [
    {
     "data": {
      "text/html": [
       "<table>\n",
       "<caption>A data.table: 6 × 11</caption>\n",
       "<thead>\n",
       "\t<tr><th scope=col>manufacturer</th><th scope=col>model</th><th scope=col>displ</th><th scope=col>year</th><th scope=col>cyl</th><th scope=col>trans</th><th scope=col>drv</th><th scope=col>cty</th><th scope=col>hwy</th><th scope=col>fl</th><th scope=col>class</th></tr>\n",
       "\t<tr><th scope=col>&lt;chr&gt;</th><th scope=col>&lt;chr&gt;</th><th scope=col>&lt;dbl&gt;</th><th scope=col>&lt;int&gt;</th><th scope=col>&lt;int&gt;</th><th scope=col>&lt;chr&gt;</th><th scope=col>&lt;chr&gt;</th><th scope=col>&lt;int&gt;</th><th scope=col>&lt;int&gt;</th><th scope=col>&lt;chr&gt;</th><th scope=col>&lt;chr&gt;</th></tr>\n",
       "</thead>\n",
       "<tbody>\n",
       "\t<tr><td>audi</td><td>a4</td><td>1.8</td><td>1999</td><td>4</td><td>auto(l5)  </td><td>f</td><td>18</td><td>29</td><td>p</td><td>compact</td></tr>\n",
       "\t<tr><td>audi</td><td>a4</td><td>1.8</td><td>1999</td><td>4</td><td>manual(m5)</td><td>f</td><td>21</td><td>29</td><td>p</td><td>compact</td></tr>\n",
       "\t<tr><td>audi</td><td>a4</td><td>2.0</td><td>2008</td><td>4</td><td>manual(m6)</td><td>f</td><td>20</td><td>31</td><td>p</td><td>compact</td></tr>\n",
       "\t<tr><td>audi</td><td>a4</td><td>2.0</td><td>2008</td><td>4</td><td>auto(av)  </td><td>f</td><td>21</td><td>30</td><td>p</td><td>compact</td></tr>\n",
       "\t<tr><td>audi</td><td>a4</td><td>2.8</td><td>1999</td><td>6</td><td>auto(l5)  </td><td>f</td><td>16</td><td>26</td><td>p</td><td>compact</td></tr>\n",
       "\t<tr><td>audi</td><td>a4</td><td>2.8</td><td>1999</td><td>6</td><td>manual(m5)</td><td>f</td><td>18</td><td>26</td><td>p</td><td>compact</td></tr>\n",
       "</tbody>\n",
       "</table>\n"
      ],
      "text/latex": [
       "A data.table: 6 × 11\n",
       "\\begin{tabular}{lllllllllll}\n",
       " manufacturer & model & displ & year & cyl & trans & drv & cty & hwy & fl & class\\\\\n",
       " <chr> & <chr> & <dbl> & <int> & <int> & <chr> & <chr> & <int> & <int> & <chr> & <chr>\\\\\n",
       "\\hline\n",
       "\t audi & a4 & 1.8 & 1999 & 4 & auto(l5)   & f & 18 & 29 & p & compact\\\\\n",
       "\t audi & a4 & 1.8 & 1999 & 4 & manual(m5) & f & 21 & 29 & p & compact\\\\\n",
       "\t audi & a4 & 2.0 & 2008 & 4 & manual(m6) & f & 20 & 31 & p & compact\\\\\n",
       "\t audi & a4 & 2.0 & 2008 & 4 & auto(av)   & f & 21 & 30 & p & compact\\\\\n",
       "\t audi & a4 & 2.8 & 1999 & 6 & auto(l5)   & f & 16 & 26 & p & compact\\\\\n",
       "\t audi & a4 & 2.8 & 1999 & 6 & manual(m5) & f & 18 & 26 & p & compact\\\\\n",
       "\\end{tabular}\n"
      ],
      "text/markdown": [
       "\n",
       "A data.table: 6 × 11\n",
       "\n",
       "| manufacturer &lt;chr&gt; | model &lt;chr&gt; | displ &lt;dbl&gt; | year &lt;int&gt; | cyl &lt;int&gt; | trans &lt;chr&gt; | drv &lt;chr&gt; | cty &lt;int&gt; | hwy &lt;int&gt; | fl &lt;chr&gt; | class &lt;chr&gt; |\n",
       "|---|---|---|---|---|---|---|---|---|---|---|\n",
       "| audi | a4 | 1.8 | 1999 | 4 | auto(l5)   | f | 18 | 29 | p | compact |\n",
       "| audi | a4 | 1.8 | 1999 | 4 | manual(m5) | f | 21 | 29 | p | compact |\n",
       "| audi | a4 | 2.0 | 2008 | 4 | manual(m6) | f | 20 | 31 | p | compact |\n",
       "| audi | a4 | 2.0 | 2008 | 4 | auto(av)   | f | 21 | 30 | p | compact |\n",
       "| audi | a4 | 2.8 | 1999 | 6 | auto(l5)   | f | 16 | 26 | p | compact |\n",
       "| audi | a4 | 2.8 | 1999 | 6 | manual(m5) | f | 18 | 26 | p | compact |\n",
       "\n"
      ],
      "text/plain": [
       "  manufacturer model displ year cyl trans      drv cty hwy fl class  \n",
       "1 audi         a4    1.8   1999 4   auto(l5)   f   18  29  p  compact\n",
       "2 audi         a4    1.8   1999 4   manual(m5) f   21  29  p  compact\n",
       "3 audi         a4    2.0   2008 4   manual(m6) f   20  31  p  compact\n",
       "4 audi         a4    2.0   2008 4   auto(av)   f   21  30  p  compact\n",
       "5 audi         a4    2.8   1999 6   auto(l5)   f   16  26  p  compact\n",
       "6 audi         a4    2.8   1999 6   manual(m5) f   18  26  p  compact"
      ]
     },
     "metadata": {},
     "output_type": "display_data"
    }
   ],
   "source": [
    "df_audi %>% head"
   ]
  },
  {
   "cell_type": "markdown",
   "metadata": {
    "heading_collapsed": true
   },
   "source": [
    "##### <b><font color = 'MAROON'>Using modify_*()</font></b>\n",
    "<b>Conditionally change contents using purrr::modify_if()</b>"
   ]
  },
  {
   "cell_type": "markdown",
   "metadata": {
    "hidden": true
   },
   "source": [
    "<b><font color = 'purple'>For each manufacturer in the mpg dataset, express all of the numeric columns as the percentage deviation from the mean </font></b>"
   ]
  },
  {
   "cell_type": "code",
   "execution_count": 13,
   "metadata": {
    "ExecuteTime": {
     "end_time": "2020-03-21T16:06:52.451089Z",
     "start_time": "2020-03-21T16:06:52.411Z"
    },
    "hidden": true
   },
   "outputs": [],
   "source": [
    "# define function to express each element in vector as % deviation from mean\n",
    "myfunc <- function(x) x / mean(x, na.rm = T) - 1"
   ]
  },
  {
   "cell_type": "code",
   "execution_count": 14,
   "metadata": {
    "ExecuteTime": {
     "end_time": "2020-03-21T16:06:53.297548Z",
     "start_time": "2020-03-21T16:06:53.239Z"
    },
    "hidden": true
   },
   "outputs": [],
   "source": [
    "## data.table approach\n",
    "# 1) take mpg %>% convert to data.table %>% group by manufacturer, \n",
    "# 2) then use modify_if to target all numeric columns and modify \n",
    "#    each using the deviation function\n",
    "a <- mpg %>% \n",
    "  setDT() %>%\n",
    "  .[by = .(manufacturer),\n",
    "    j = modify_if(.SD, is.numeric, myfunc)]"
   ]
  },
  {
   "cell_type": "markdown",
   "metadata": {
    "hidden": true
   },
   "source": [
    "When working on large lists or data.frames, it might be both time and memory consuming to convert them to a data.table using as.data.table(.), as this will make a complete copy of the input object before to convert it to a data.table. The setDT function takes care of this issue by allowing to convert lists - both named and unnamed lists and data.frames by reference instead. That is, the input object is modified in place, no copy is being made."
   ]
  },
  {
   "cell_type": "code",
   "execution_count": 23,
   "metadata": {
    "ExecuteTime": {
     "end_time": "2020-03-21T18:45:20.244660Z",
     "start_time": "2020-03-21T18:45:20.156Z"
    },
    "hidden": true
   },
   "outputs": [
    {
     "name": "stderr",
     "output_type": "stream",
     "text": [
      "`mutate_if()` ignored the following grouping variables:\n",
      "Column `manufacturer`\n",
      "\n"
     ]
    }
   ],
   "source": [
    "## dplyr approach\n",
    "# take mpg %>%  group by manufacturer %>%  use mutate_if \n",
    "# to mutate all numeric columns using the deviation \n",
    "# function %>% ungroup the data\n",
    "b <- mpg %>%\n",
    "  group_by(manufacturer) %>%\n",
    "  mutate_if(is.numeric, myfunc) %>%\n",
    "  ungroup()"
   ]
  },
  {
   "cell_type": "code",
   "execution_count": 26,
   "metadata": {
    "ExecuteTime": {
     "end_time": "2020-03-21T18:46:21.845235Z",
     "start_time": "2020-03-21T18:46:21.783Z"
    },
    "hidden": true
   },
   "outputs": [
    {
     "data": {
      "text/html": [
       "<table>\n",
       "<caption>A tibble: 6 × 11</caption>\n",
       "<thead>\n",
       "\t<tr><th scope=col>manufacturer</th><th scope=col>model</th><th scope=col>displ</th><th scope=col>year</th><th scope=col>cyl</th><th scope=col>trans</th><th scope=col>drv</th><th scope=col>cty</th><th scope=col>hwy</th><th scope=col>fl</th><th scope=col>class</th></tr>\n",
       "\t<tr><th scope=col>&lt;chr&gt;</th><th scope=col>&lt;chr&gt;</th><th scope=col>&lt;dbl&gt;</th><th scope=col>&lt;dbl&gt;</th><th scope=col>&lt;dbl&gt;</th><th scope=col>&lt;chr&gt;</th><th scope=col>&lt;chr&gt;</th><th scope=col>&lt;dbl&gt;</th><th scope=col>&lt;dbl&gt;</th><th scope=col>&lt;chr&gt;</th><th scope=col>&lt;chr&gt;</th></tr>\n",
       "</thead>\n",
       "<tbody>\n",
       "\t<tr><td>audi</td><td>a4</td><td>-0.2925764</td><td>-0.002246069</td><td>-0.2340426</td><td>auto(l5)  </td><td>f</td><td> 0.02208202</td><td> 0.09663866</td><td>p</td><td>compact</td></tr>\n",
       "\t<tr><td>audi</td><td>a4</td><td>-0.2925764</td><td>-0.002246069</td><td>-0.2340426</td><td>manual(m5)</td><td>f</td><td> 0.19242902</td><td> 0.09663866</td><td>p</td><td>compact</td></tr>\n",
       "\t<tr><td>audi</td><td>a4</td><td>-0.2139738</td><td> 0.002246069</td><td>-0.2340426</td><td>manual(m6)</td><td>f</td><td> 0.13564669</td><td> 0.17226891</td><td>p</td><td>compact</td></tr>\n",
       "\t<tr><td>audi</td><td>a4</td><td>-0.2139738</td><td> 0.002246069</td><td>-0.2340426</td><td>auto(av)  </td><td>f</td><td> 0.19242902</td><td> 0.13445378</td><td>p</td><td>compact</td></tr>\n",
       "\t<tr><td>audi</td><td>a4</td><td> 0.1004367</td><td>-0.002246069</td><td> 0.1489362</td><td>auto(l5)  </td><td>f</td><td>-0.09148265</td><td>-0.01680672</td><td>p</td><td>compact</td></tr>\n",
       "\t<tr><td>audi</td><td>a4</td><td> 0.1004367</td><td>-0.002246069</td><td> 0.1489362</td><td>manual(m5)</td><td>f</td><td> 0.02208202</td><td>-0.01680672</td><td>p</td><td>compact</td></tr>\n",
       "</tbody>\n",
       "</table>\n"
      ],
      "text/latex": [
       "A tibble: 6 × 11\n",
       "\\begin{tabular}{lllllllllll}\n",
       " manufacturer & model & displ & year & cyl & trans & drv & cty & hwy & fl & class\\\\\n",
       " <chr> & <chr> & <dbl> & <dbl> & <dbl> & <chr> & <chr> & <dbl> & <dbl> & <chr> & <chr>\\\\\n",
       "\\hline\n",
       "\t audi & a4 & -0.2925764 & -0.002246069 & -0.2340426 & auto(l5)   & f &  0.02208202 &  0.09663866 & p & compact\\\\\n",
       "\t audi & a4 & -0.2925764 & -0.002246069 & -0.2340426 & manual(m5) & f &  0.19242902 &  0.09663866 & p & compact\\\\\n",
       "\t audi & a4 & -0.2139738 &  0.002246069 & -0.2340426 & manual(m6) & f &  0.13564669 &  0.17226891 & p & compact\\\\\n",
       "\t audi & a4 & -0.2139738 &  0.002246069 & -0.2340426 & auto(av)   & f &  0.19242902 &  0.13445378 & p & compact\\\\\n",
       "\t audi & a4 &  0.1004367 & -0.002246069 &  0.1489362 & auto(l5)   & f & -0.09148265 & -0.01680672 & p & compact\\\\\n",
       "\t audi & a4 &  0.1004367 & -0.002246069 &  0.1489362 & manual(m5) & f &  0.02208202 & -0.01680672 & p & compact\\\\\n",
       "\\end{tabular}\n"
      ],
      "text/markdown": [
       "\n",
       "A tibble: 6 × 11\n",
       "\n",
       "| manufacturer &lt;chr&gt; | model &lt;chr&gt; | displ &lt;dbl&gt; | year &lt;dbl&gt; | cyl &lt;dbl&gt; | trans &lt;chr&gt; | drv &lt;chr&gt; | cty &lt;dbl&gt; | hwy &lt;dbl&gt; | fl &lt;chr&gt; | class &lt;chr&gt; |\n",
       "|---|---|---|---|---|---|---|---|---|---|---|\n",
       "| audi | a4 | -0.2925764 | -0.002246069 | -0.2340426 | auto(l5)   | f |  0.02208202 |  0.09663866 | p | compact |\n",
       "| audi | a4 | -0.2925764 | -0.002246069 | -0.2340426 | manual(m5) | f |  0.19242902 |  0.09663866 | p | compact |\n",
       "| audi | a4 | -0.2139738 |  0.002246069 | -0.2340426 | manual(m6) | f |  0.13564669 |  0.17226891 | p | compact |\n",
       "| audi | a4 | -0.2139738 |  0.002246069 | -0.2340426 | auto(av)   | f |  0.19242902 |  0.13445378 | p | compact |\n",
       "| audi | a4 |  0.1004367 | -0.002246069 |  0.1489362 | auto(l5)   | f | -0.09148265 | -0.01680672 | p | compact |\n",
       "| audi | a4 |  0.1004367 | -0.002246069 |  0.1489362 | manual(m5) | f |  0.02208202 | -0.01680672 | p | compact |\n",
       "\n"
      ],
      "text/plain": [
       "  manufacturer model displ      year         cyl        trans      drv\n",
       "1 audi         a4    -0.2925764 -0.002246069 -0.2340426 auto(l5)   f  \n",
       "2 audi         a4    -0.2925764 -0.002246069 -0.2340426 manual(m5) f  \n",
       "3 audi         a4    -0.2139738  0.002246069 -0.2340426 manual(m6) f  \n",
       "4 audi         a4    -0.2139738  0.002246069 -0.2340426 auto(av)   f  \n",
       "5 audi         a4     0.1004367 -0.002246069  0.1489362 auto(l5)   f  \n",
       "6 audi         a4     0.1004367 -0.002246069  0.1489362 manual(m5) f  \n",
       "  cty         hwy         fl class  \n",
       "1  0.02208202  0.09663866 p  compact\n",
       "2  0.19242902  0.09663866 p  compact\n",
       "3  0.13564669  0.17226891 p  compact\n",
       "4  0.19242902  0.13445378 p  compact\n",
       "5 -0.09148265 -0.01680672 p  compact\n",
       "6  0.02208202 -0.01680672 p  compact"
      ]
     },
     "metadata": {},
     "output_type": "display_data"
    }
   ],
   "source": [
    "b %>% head()"
   ]
  },
  {
   "cell_type": "code",
   "execution_count": 24,
   "metadata": {
    "ExecuteTime": {
     "end_time": "2020-03-21T18:45:40.397289Z",
     "start_time": "2020-03-21T18:45:40.335Z"
    },
    "hidden": true
   },
   "outputs": [
    {
     "data": {
      "text/html": [
       "TRUE"
      ],
      "text/latex": [
       "TRUE"
      ],
      "text/markdown": [
       "TRUE"
      ],
      "text/plain": [
       "[1] TRUE"
      ]
     },
     "metadata": {},
     "output_type": "display_data"
    }
   ],
   "source": [
    "# show that methods produce equivalent outputs\n",
    "all_equal(a, b)"
   ]
  },
  {
   "cell_type": "markdown",
   "metadata": {
    "heading_collapsed": true
   },
   "source": [
    "## Predicate functionals"
   ]
  },
  {
   "cell_type": "markdown",
   "metadata": {
    "hidden": true
   },
   "source": [
    "<font color = 'green'>A predicate function is a function that either returns `TRUE` or `FALSE`. Predicate functionals take vector `.x` and predicate function `.f` and do something useful.</font>"
   ]
  },
  {
   "cell_type": "markdown",
   "metadata": {
    "heading_collapsed": true,
    "hidden": true
   },
   "source": [
    "##### <b><font color = 'MAROON'>Using `every()` and `some()`All or nothing some!</font></b>\n",
    "\n",
    "For which manufacturers in the `mpg` dataset do the city miles per gallon (`cty`) \n",
    "* (a) exceed 15mpg on all models and/or \n",
    "* (b) 25 mpg on <font color = 'blue'>at least some models</font>?"
   ]
  },
  {
   "cell_type": "code",
   "execution_count": 32,
   "metadata": {
    "ExecuteTime": {
     "end_time": "2020-03-21T19:48:27.396457Z",
     "start_time": "2020-03-21T19:48:27.330Z"
    },
    "collapsed": true,
    "hidden": true
   },
   "outputs": [
    {
     "data": {
      "text/html": [
       "<table>\n",
       "<caption>A tibble: 15 × 3</caption>\n",
       "<thead>\n",
       "\t<tr><th scope=col>manufacturer</th><th scope=col>all_above_15</th><th scope=col>some_above_25</th></tr>\n",
       "\t<tr><th scope=col>&lt;chr&gt;</th><th scope=col>&lt;lgl&gt;</th><th scope=col>&lt;lgl&gt;</th></tr>\n",
       "</thead>\n",
       "<tbody>\n",
       "\t<tr><td>audi      </td><td>FALSE</td><td>FALSE</td></tr>\n",
       "\t<tr><td>chevrolet </td><td>FALSE</td><td>FALSE</td></tr>\n",
       "\t<tr><td>dodge     </td><td>FALSE</td><td>FALSE</td></tr>\n",
       "\t<tr><td>ford      </td><td>FALSE</td><td>FALSE</td></tr>\n",
       "\t<tr><td>honda     </td><td> TRUE</td><td> TRUE</td></tr>\n",
       "\t<tr><td>hyundai   </td><td> TRUE</td><td>FALSE</td></tr>\n",
       "\t<tr><td>jeep      </td><td>FALSE</td><td>FALSE</td></tr>\n",
       "\t<tr><td>land rover</td><td>FALSE</td><td>FALSE</td></tr>\n",
       "\t<tr><td>lincoln   </td><td>FALSE</td><td>FALSE</td></tr>\n",
       "\t<tr><td>mercury   </td><td>FALSE</td><td>FALSE</td></tr>\n",
       "\t<tr><td>nissan    </td><td>FALSE</td><td>FALSE</td></tr>\n",
       "\t<tr><td>pontiac   </td><td> TRUE</td><td>FALSE</td></tr>\n",
       "\t<tr><td>subaru    </td><td> TRUE</td><td>FALSE</td></tr>\n",
       "\t<tr><td>toyota    </td><td>FALSE</td><td> TRUE</td></tr>\n",
       "\t<tr><td>volkswagen</td><td> TRUE</td><td> TRUE</td></tr>\n",
       "</tbody>\n",
       "</table>\n"
      ],
      "text/latex": [
       "A tibble: 15 × 3\n",
       "\\begin{tabular}{lll}\n",
       " manufacturer & all\\_above\\_15 & some\\_above\\_25\\\\\n",
       " <chr> & <lgl> & <lgl>\\\\\n",
       "\\hline\n",
       "\t audi       & FALSE & FALSE\\\\\n",
       "\t chevrolet  & FALSE & FALSE\\\\\n",
       "\t dodge      & FALSE & FALSE\\\\\n",
       "\t ford       & FALSE & FALSE\\\\\n",
       "\t honda      &  TRUE &  TRUE\\\\\n",
       "\t hyundai    &  TRUE & FALSE\\\\\n",
       "\t jeep       & FALSE & FALSE\\\\\n",
       "\t land rover & FALSE & FALSE\\\\\n",
       "\t lincoln    & FALSE & FALSE\\\\\n",
       "\t mercury    & FALSE & FALSE\\\\\n",
       "\t nissan     & FALSE & FALSE\\\\\n",
       "\t pontiac    &  TRUE & FALSE\\\\\n",
       "\t subaru     &  TRUE & FALSE\\\\\n",
       "\t toyota     & FALSE &  TRUE\\\\\n",
       "\t volkswagen &  TRUE &  TRUE\\\\\n",
       "\\end{tabular}\n"
      ],
      "text/markdown": [
       "\n",
       "A tibble: 15 × 3\n",
       "\n",
       "| manufacturer &lt;chr&gt; | all_above_15 &lt;lgl&gt; | some_above_25 &lt;lgl&gt; |\n",
       "|---|---|---|\n",
       "| audi       | FALSE | FALSE |\n",
       "| chevrolet  | FALSE | FALSE |\n",
       "| dodge      | FALSE | FALSE |\n",
       "| ford       | FALSE | FALSE |\n",
       "| honda      |  TRUE |  TRUE |\n",
       "| hyundai    |  TRUE | FALSE |\n",
       "| jeep       | FALSE | FALSE |\n",
       "| land rover | FALSE | FALSE |\n",
       "| lincoln    | FALSE | FALSE |\n",
       "| mercury    | FALSE | FALSE |\n",
       "| nissan     | FALSE | FALSE |\n",
       "| pontiac    |  TRUE | FALSE |\n",
       "| subaru     |  TRUE | FALSE |\n",
       "| toyota     | FALSE |  TRUE |\n",
       "| volkswagen |  TRUE |  TRUE |\n",
       "\n"
      ],
      "text/plain": [
       "   manufacturer all_above_15 some_above_25\n",
       "1  audi         FALSE        FALSE        \n",
       "2  chevrolet    FALSE        FALSE        \n",
       "3  dodge        FALSE        FALSE        \n",
       "4  ford         FALSE        FALSE        \n",
       "5  honda         TRUE         TRUE        \n",
       "6  hyundai       TRUE        FALSE        \n",
       "7  jeep         FALSE        FALSE        \n",
       "8  land rover   FALSE        FALSE        \n",
       "9  lincoln      FALSE        FALSE        \n",
       "10 mercury      FALSE        FALSE        \n",
       "11 nissan       FALSE        FALSE        \n",
       "12 pontiac       TRUE        FALSE        \n",
       "13 subaru        TRUE        FALSE        \n",
       "14 toyota       FALSE         TRUE        \n",
       "15 volkswagen    TRUE         TRUE        "
      ]
     },
     "metadata": {},
     "output_type": "display_data"
    }
   ],
   "source": [
    "# take mpg %>%  group by manufacturer %>%  use \n",
    "# summarise to create 2 summary columns: \n",
    "# 1) all_above_15 captures whether every value of cty > 15, while \n",
    "# 2) some_above_25 captures whether some values of cty > 25 \n",
    "# %>% ungroup the data\n",
    "\n",
    "mpg %>% \n",
    "  group_by(manufacturer) %>% \n",
    "  summarise(\n",
    "    all_above_15 = every(cty, function(x) x > 15), \n",
    "    some_above_25 = some(cty, function(x) x > 25)) %>% \n",
    "  ungroup()"
   ]
  },
  {
   "cell_type": "code",
   "execution_count": 33,
   "metadata": {
    "ExecuteTime": {
     "end_time": "2020-03-21T19:48:37.059962Z",
     "start_time": "2020-03-21T19:48:36.990Z"
    },
    "code_folding": [
     0
    ],
    "collapsed": true,
    "hidden": true
   },
   "outputs": [
    {
     "data": {
      "text/html": [
       "<table>\n",
       "<caption>A tibble: 15 × 3</caption>\n",
       "<thead>\n",
       "\t<tr><th scope=col>manufacturer</th><th scope=col>all_above_15</th><th scope=col>some_above_15</th></tr>\n",
       "\t<tr><th scope=col>&lt;chr&gt;</th><th scope=col>&lt;lgl&gt;</th><th scope=col>&lt;lgl&gt;</th></tr>\n",
       "</thead>\n",
       "<tbody>\n",
       "\t<tr><td>audi      </td><td>FALSE</td><td> TRUE</td></tr>\n",
       "\t<tr><td>chevrolet </td><td>FALSE</td><td> TRUE</td></tr>\n",
       "\t<tr><td>dodge     </td><td>FALSE</td><td> TRUE</td></tr>\n",
       "\t<tr><td>ford      </td><td>FALSE</td><td> TRUE</td></tr>\n",
       "\t<tr><td>honda     </td><td> TRUE</td><td> TRUE</td></tr>\n",
       "\t<tr><td>hyundai   </td><td> TRUE</td><td> TRUE</td></tr>\n",
       "\t<tr><td>jeep      </td><td>FALSE</td><td> TRUE</td></tr>\n",
       "\t<tr><td>land rover</td><td>FALSE</td><td>FALSE</td></tr>\n",
       "\t<tr><td>lincoln   </td><td>FALSE</td><td>FALSE</td></tr>\n",
       "\t<tr><td>mercury   </td><td>FALSE</td><td>FALSE</td></tr>\n",
       "\t<tr><td>nissan    </td><td>FALSE</td><td> TRUE</td></tr>\n",
       "\t<tr><td>pontiac   </td><td> TRUE</td><td> TRUE</td></tr>\n",
       "\t<tr><td>subaru    </td><td> TRUE</td><td> TRUE</td></tr>\n",
       "\t<tr><td>toyota    </td><td>FALSE</td><td> TRUE</td></tr>\n",
       "\t<tr><td>volkswagen</td><td> TRUE</td><td> TRUE</td></tr>\n",
       "</tbody>\n",
       "</table>\n"
      ],
      "text/latex": [
       "A tibble: 15 × 3\n",
       "\\begin{tabular}{lll}\n",
       " manufacturer & all\\_above\\_15 & some\\_above\\_15\\\\\n",
       " <chr> & <lgl> & <lgl>\\\\\n",
       "\\hline\n",
       "\t audi       & FALSE &  TRUE\\\\\n",
       "\t chevrolet  & FALSE &  TRUE\\\\\n",
       "\t dodge      & FALSE &  TRUE\\\\\n",
       "\t ford       & FALSE &  TRUE\\\\\n",
       "\t honda      &  TRUE &  TRUE\\\\\n",
       "\t hyundai    &  TRUE &  TRUE\\\\\n",
       "\t jeep       & FALSE &  TRUE\\\\\n",
       "\t land rover & FALSE & FALSE\\\\\n",
       "\t lincoln    & FALSE & FALSE\\\\\n",
       "\t mercury    & FALSE & FALSE\\\\\n",
       "\t nissan     & FALSE &  TRUE\\\\\n",
       "\t pontiac    &  TRUE &  TRUE\\\\\n",
       "\t subaru     &  TRUE &  TRUE\\\\\n",
       "\t toyota     & FALSE &  TRUE\\\\\n",
       "\t volkswagen &  TRUE &  TRUE\\\\\n",
       "\\end{tabular}\n"
      ],
      "text/markdown": [
       "\n",
       "A tibble: 15 × 3\n",
       "\n",
       "| manufacturer &lt;chr&gt; | all_above_15 &lt;lgl&gt; | some_above_15 &lt;lgl&gt; |\n",
       "|---|---|---|\n",
       "| audi       | FALSE |  TRUE |\n",
       "| chevrolet  | FALSE |  TRUE |\n",
       "| dodge      | FALSE |  TRUE |\n",
       "| ford       | FALSE |  TRUE |\n",
       "| honda      |  TRUE |  TRUE |\n",
       "| hyundai    |  TRUE |  TRUE |\n",
       "| jeep       | FALSE |  TRUE |\n",
       "| land rover | FALSE | FALSE |\n",
       "| lincoln    | FALSE | FALSE |\n",
       "| mercury    | FALSE | FALSE |\n",
       "| nissan     | FALSE |  TRUE |\n",
       "| pontiac    |  TRUE |  TRUE |\n",
       "| subaru     |  TRUE |  TRUE |\n",
       "| toyota     | FALSE |  TRUE |\n",
       "| volkswagen |  TRUE |  TRUE |\n",
       "\n"
      ],
      "text/plain": [
       "   manufacturer all_above_15 some_above_15\n",
       "1  audi         FALSE         TRUE        \n",
       "2  chevrolet    FALSE         TRUE        \n",
       "3  dodge        FALSE         TRUE        \n",
       "4  ford         FALSE         TRUE        \n",
       "5  honda         TRUE         TRUE        \n",
       "6  hyundai       TRUE         TRUE        \n",
       "7  jeep         FALSE         TRUE        \n",
       "8  land rover   FALSE        FALSE        \n",
       "9  lincoln      FALSE        FALSE        \n",
       "10 mercury      FALSE        FALSE        \n",
       "11 nissan       FALSE         TRUE        \n",
       "12 pontiac       TRUE         TRUE        \n",
       "13 subaru        TRUE         TRUE        \n",
       "14 toyota       FALSE         TRUE        \n",
       "15 volkswagen    TRUE         TRUE        "
      ]
     },
     "metadata": {},
     "output_type": "display_data"
    }
   ],
   "source": [
    "# using 15 for both ~ take mpg %>%  group by manufacturer %>%  use \n",
    "# summarise to create 2 summary columns: \n",
    "# 1) all_above_15 captures whether every value of cty > 15, while \n",
    "# 2) some_above_25 captures whether some values of cty > 25 \n",
    "# %>% ungroup the data\n",
    "\n",
    "mpg %>% \n",
    "  group_by(manufacturer) %>% \n",
    "  summarise(\n",
    "    all_above_15 = every(cty, function(x) x > 15), \n",
    "    some_above_15 = some(cty, function(x) x > 15)) %>% \n",
    "  ungroup()"
   ]
  },
  {
   "cell_type": "code",
   "execution_count": 37,
   "metadata": {
    "ExecuteTime": {
     "end_time": "2020-03-21T20:40:41.644881Z",
     "start_time": "2020-03-21T20:40:41.589Z"
    },
    "hidden": true
   },
   "outputs": [
    {
     "data": {
      "text/html": [
       "<table>\n",
       "<caption>A tibble: 5 × 2</caption>\n",
       "<thead>\n",
       "\t<tr><th scope=col>manufacturer</th><th scope=col>n</th></tr>\n",
       "\t<tr><th scope=col>&lt;chr&gt;</th><th scope=col>&lt;int&gt;</th></tr>\n",
       "</thead>\n",
       "<tbody>\n",
       "\t<tr><td>honda     </td><td> 9</td></tr>\n",
       "\t<tr><td>hyundai   </td><td>14</td></tr>\n",
       "\t<tr><td>pontiac   </td><td> 5</td></tr>\n",
       "\t<tr><td>subaru    </td><td>14</td></tr>\n",
       "\t<tr><td>volkswagen</td><td>27</td></tr>\n",
       "</tbody>\n",
       "</table>\n"
      ],
      "text/latex": [
       "A tibble: 5 × 2\n",
       "\\begin{tabular}{ll}\n",
       " manufacturer & n\\\\\n",
       " <chr> & <int>\\\\\n",
       "\\hline\n",
       "\t honda      &  9\\\\\n",
       "\t hyundai    & 14\\\\\n",
       "\t pontiac    &  5\\\\\n",
       "\t subaru     & 14\\\\\n",
       "\t volkswagen & 27\\\\\n",
       "\\end{tabular}\n"
      ],
      "text/markdown": [
       "\n",
       "A tibble: 5 × 2\n",
       "\n",
       "| manufacturer &lt;chr&gt; | n &lt;int&gt; |\n",
       "|---|---|\n",
       "| honda      |  9 |\n",
       "| hyundai    | 14 |\n",
       "| pontiac    |  5 |\n",
       "| subaru     | 14 |\n",
       "| volkswagen | 27 |\n",
       "\n"
      ],
      "text/plain": [
       "  manufacturer n \n",
       "1 honda         9\n",
       "2 hyundai      14\n",
       "3 pontiac       5\n",
       "4 subaru       14\n",
       "5 volkswagen   27"
      ]
     },
     "metadata": {},
     "output_type": "display_data"
    }
   ],
   "source": [
    "# take mpg %>%  group by manufacturer %>%  filter to \n",
    "# keep only data for manufacturers whose models all \n",
    "# have cty > 15mpg\n",
    "mpg %>% \n",
    "  group_by(manufacturer) %>% \n",
    "  filter(every(cty, function(x) x > 15)) %>% tally"
   ]
  },
  {
   "cell_type": "code",
   "execution_count": 40,
   "metadata": {
    "ExecuteTime": {
     "end_time": "2020-03-21T20:41:30.857214Z",
     "start_time": "2020-03-21T20:41:30.790Z"
    },
    "collapsed": true,
    "hidden": true
   },
   "outputs": [
    {
     "data": {
      "text/html": [
       "<table>\n",
       "<caption>A tibble: 12 × 2</caption>\n",
       "<thead>\n",
       "\t<tr><th scope=col>manufacturer</th><th scope=col>n</th></tr>\n",
       "\t<tr><th scope=col>&lt;chr&gt;</th><th scope=col>&lt;int&gt;</th></tr>\n",
       "</thead>\n",
       "<tbody>\n",
       "\t<tr><td>audi      </td><td>18</td></tr>\n",
       "\t<tr><td>chevrolet </td><td>19</td></tr>\n",
       "\t<tr><td>dodge     </td><td>37</td></tr>\n",
       "\t<tr><td>ford      </td><td>25</td></tr>\n",
       "\t<tr><td>honda     </td><td> 9</td></tr>\n",
       "\t<tr><td>hyundai   </td><td>14</td></tr>\n",
       "\t<tr><td>jeep      </td><td> 8</td></tr>\n",
       "\t<tr><td>nissan    </td><td>13</td></tr>\n",
       "\t<tr><td>pontiac   </td><td> 5</td></tr>\n",
       "\t<tr><td>subaru    </td><td>14</td></tr>\n",
       "\t<tr><td>toyota    </td><td>34</td></tr>\n",
       "\t<tr><td>volkswagen</td><td>27</td></tr>\n",
       "</tbody>\n",
       "</table>\n"
      ],
      "text/latex": [
       "A tibble: 12 × 2\n",
       "\\begin{tabular}{ll}\n",
       " manufacturer & n\\\\\n",
       " <chr> & <int>\\\\\n",
       "\\hline\n",
       "\t audi       & 18\\\\\n",
       "\t chevrolet  & 19\\\\\n",
       "\t dodge      & 37\\\\\n",
       "\t ford       & 25\\\\\n",
       "\t honda      &  9\\\\\n",
       "\t hyundai    & 14\\\\\n",
       "\t jeep       &  8\\\\\n",
       "\t nissan     & 13\\\\\n",
       "\t pontiac    &  5\\\\\n",
       "\t subaru     & 14\\\\\n",
       "\t toyota     & 34\\\\\n",
       "\t volkswagen & 27\\\\\n",
       "\\end{tabular}\n"
      ],
      "text/markdown": [
       "\n",
       "A tibble: 12 × 2\n",
       "\n",
       "| manufacturer &lt;chr&gt; | n &lt;int&gt; |\n",
       "|---|---|\n",
       "| audi       | 18 |\n",
       "| chevrolet  | 19 |\n",
       "| dodge      | 37 |\n",
       "| ford       | 25 |\n",
       "| honda      |  9 |\n",
       "| hyundai    | 14 |\n",
       "| jeep       |  8 |\n",
       "| nissan     | 13 |\n",
       "| pontiac    |  5 |\n",
       "| subaru     | 14 |\n",
       "| toyota     | 34 |\n",
       "| volkswagen | 27 |\n",
       "\n"
      ],
      "text/plain": [
       "   manufacturer n \n",
       "1  audi         18\n",
       "2  chevrolet    19\n",
       "3  dodge        37\n",
       "4  ford         25\n",
       "5  honda         9\n",
       "6  hyundai      14\n",
       "7  jeep          8\n",
       "8  nissan       13\n",
       "9  pontiac       5\n",
       "10 subaru       14\n",
       "11 toyota       34\n",
       "12 volkswagen   27"
      ]
     },
     "metadata": {},
     "output_type": "display_data"
    }
   ],
   "source": [
    "# take mpg %>%  group by manufacturer %>%  filter to \n",
    "# keep only data for manufacturers whose models all \n",
    "# have cty > 15mpg\n",
    "mpg %>% \n",
    "  group_by(manufacturer) %>% \n",
    "  filter(some(cty, function(x) x > 15)) %>% tally"
   ]
  },
  {
   "cell_type": "markdown",
   "metadata": {},
   "source": [
    "## Other vector transformations"
   ]
  },
  {
   "cell_type": "markdown",
   "metadata": {},
   "source": [
    "<b><font color = 'MAROON'>`reduce()` and `accumulate()`Collapsing it all or building it up</font></b>"
   ]
  },
  {
   "cell_type": "markdown",
   "metadata": {
    "heading_collapsed": true
   },
   "source": [
    "###### `reduce(.x, .f, ..., .init)`   \n",
    "\n",
    "<font color = 'green'>use function `.f` to combine elements of `.x` by passing the result of each iteration as an initial value to the next iteration; <span style='background-color: lightgreen'>return single result from final iteration</span></font>"
   ]
  },
  {
   "cell_type": "code",
   "execution_count": 41,
   "metadata": {
    "ExecuteTime": {
     "end_time": "2020-03-21T22:26:12.102531Z",
     "start_time": "2020-03-21T22:26:12.010Z"
    },
    "hidden": true
   },
   "outputs": [
    {
     "data": {
      "text/html": [
       "15"
      ],
      "text/latex": [
       "15"
      ],
      "text/markdown": [
       "15"
      ],
      "text/plain": [
       "[1] 15"
      ]
     },
     "metadata": {},
     "output_type": "display_data"
    },
    {
     "data": {
      "text/html": [
       "15"
      ],
      "text/latex": [
       "15"
      ],
      "text/markdown": [
       "15"
      ],
      "text/plain": [
       "[1] 15"
      ]
     },
     "metadata": {},
     "output_type": "display_data"
    }
   ],
   "source": [
    "# return cumulative sum of 1:5\n",
    "1:5 %>% reduce(`+`)\n",
    "1:5 %>% reduce(function(x, y) x + y)\n",
    "# [1] 15"
   ]
  },
  {
   "cell_type": "code",
   "execution_count": 46,
   "metadata": {
    "ExecuteTime": {
     "end_time": "2020-03-21T22:29:29.131783Z",
     "start_time": "2020-03-21T22:29:29.027Z"
    },
    "hidden": true
   },
   "outputs": [
    {
     "data": {
      "text/html": [
       "-4"
      ],
      "text/latex": [
       "-4"
      ],
      "text/markdown": [
       "-4"
      ],
      "text/plain": [
       "[1] -4"
      ]
     },
     "metadata": {},
     "output_type": "display_data"
    },
    {
     "data": {
      "text/html": [
       "6"
      ],
      "text/latex": [
       "6"
      ],
      "text/markdown": [
       "6"
      ],
      "text/plain": [
       "[1] 6"
      ]
     },
     "metadata": {},
     "output_type": "display_data"
    }
   ],
   "source": [
    "1:3 %>% reduce(`-`)\n",
    "1:3 %>% reduce(`+`)"
   ]
  },
  {
   "cell_type": "code",
   "execution_count": 50,
   "metadata": {
    "ExecuteTime": {
     "end_time": "2020-03-21T22:30:23.621688Z",
     "start_time": "2020-03-21T22:30:23.568Z"
    },
    "hidden": true
   },
   "outputs": [
    {
     "data": {
      "text/html": [
       "-4"
      ],
      "text/latex": [
       "-4"
      ],
      "text/markdown": [
       "-4"
      ],
      "text/plain": [
       "[1] -4"
      ]
     },
     "metadata": {},
     "output_type": "display_data"
    },
    {
     "data": {
      "text/html": [
       "6"
      ],
      "text/latex": [
       "6"
      ],
      "text/markdown": [
       "6"
      ],
      "text/plain": [
       "[1] 6"
      ]
     },
     "metadata": {},
     "output_type": "display_data"
    }
   ],
   "source": [
    "1 - 2 - 3\n",
    "1 + 2 + 3"
   ]
  },
  {
   "cell_type": "code",
   "execution_count": 42,
   "metadata": {
    "ExecuteTime": {
     "end_time": "2020-03-21T22:26:13.266772Z",
     "start_time": "2020-03-21T22:26:13.206Z"
    },
    "hidden": true
   },
   "outputs": [
    {
     "data": {
      "text/html": [
       "'1 and 2 and 3 and 4 and 5'"
      ],
      "text/latex": [
       "'1 and 2 and 3 and 4 and 5'"
      ],
      "text/markdown": [
       "'1 and 2 and 3 and 4 and 5'"
      ],
      "text/plain": [
       "[1] \"1 and 2 and 3 and 4 and 5\""
      ]
     },
     "metadata": {},
     "output_type": "display_data"
    }
   ],
   "source": [
    "# which numbers appear in the vector 1:5\n",
    "1:5 %>% reduce(function(x, y) paste(x, 'and', y))\n",
    "# [1] \"1 and 2 and 3 and 4 and 5\""
   ]
  },
  {
   "cell_type": "code",
   "execution_count": 45,
   "metadata": {
    "ExecuteTime": {
     "end_time": "2020-03-21T22:28:44.855342Z",
     "start_time": "2020-03-21T22:28:44.800Z"
    },
    "hidden": true
   },
   "outputs": [
    {
     "data": {
      "text/html": [
       "<style>\n",
       ".list-inline {list-style: none; margin:0; padding: 0}\n",
       ".list-inline>li {display: inline-block}\n",
       ".list-inline>li:not(:last-child)::after {content: \"\\00b7\"; padding: 0 .5ex}\n",
       "</style>\n",
       "<ol class=list-inline><li>1</li><li>2</li><li>3</li><li>4</li><li>5</li></ol>\n"
      ],
      "text/latex": [
       "\\begin{enumerate*}\n",
       "\\item 1\n",
       "\\item 2\n",
       "\\item 3\n",
       "\\item 4\n",
       "\\item 5\n",
       "\\end{enumerate*}\n"
      ],
      "text/markdown": [
       "1. 1\n",
       "2. 2\n",
       "3. 3\n",
       "4. 4\n",
       "5. 5\n",
       "\n",
       "\n"
      ],
      "text/plain": [
       "[1] 1 2 3 4 5"
      ]
     },
     "metadata": {},
     "output_type": "display_data"
    }
   ],
   "source": [
    "1:5"
   ]
  },
  {
   "cell_type": "markdown",
   "metadata": {
    "heading_collapsed": true
   },
   "source": [
    "###### `accumulate(.x, .f, ..., .init)`   \n",
    "\n",
    "<font color = 'green'>use function `.f` to combine elements of `.x` by passing the result of each iteration as an initial value to the next iteration; <span style='background-color: lightgreen'>return list of results from each iteration</span></font>"
   ]
  },
  {
   "cell_type": "code",
   "execution_count": 53,
   "metadata": {
    "ExecuteTime": {
     "end_time": "2020-03-21T22:32:07.183831Z",
     "start_time": "2020-03-21T22:32:07.126Z"
    },
    "hidden": true
   },
   "outputs": [
    {
     "data": {
      "text/html": [
       "<style>\n",
       ".list-inline {list-style: none; margin:0; padding: 0}\n",
       ".list-inline>li {display: inline-block}\n",
       ".list-inline>li:not(:last-child)::after {content: \"\\00b7\"; padding: 0 .5ex}\n",
       "</style>\n",
       "<ol class=list-inline><li>1</li><li>3</li><li>6</li><li>10</li><li>15</li></ol>\n"
      ],
      "text/latex": [
       "\\begin{enumerate*}\n",
       "\\item 1\n",
       "\\item 3\n",
       "\\item 6\n",
       "\\item 10\n",
       "\\item 15\n",
       "\\end{enumerate*}\n"
      ],
      "text/markdown": [
       "1. 1\n",
       "2. 3\n",
       "3. 6\n",
       "4. 10\n",
       "5. 15\n",
       "\n",
       "\n"
      ],
      "text/plain": [
       "[1]  1  3  6 10 15"
      ]
     },
     "metadata": {},
     "output_type": "display_data"
    },
    {
     "data": {
      "text/html": [
       "<style>\n",
       ".list-inline {list-style: none; margin:0; padding: 0}\n",
       ".list-inline>li {display: inline-block}\n",
       ".list-inline>li:not(:last-child)::after {content: \"\\00b7\"; padding: 0 .5ex}\n",
       "</style>\n",
       "<ol class=list-inline><li>1</li><li>3</li><li>6</li><li>10</li><li>15</li></ol>\n"
      ],
      "text/latex": [
       "\\begin{enumerate*}\n",
       "\\item 1\n",
       "\\item 3\n",
       "\\item 6\n",
       "\\item 10\n",
       "\\item 15\n",
       "\\end{enumerate*}\n"
      ],
      "text/markdown": [
       "1. 1\n",
       "2. 3\n",
       "3. 6\n",
       "4. 10\n",
       "5. 15\n",
       "\n",
       "\n"
      ],
      "text/plain": [
       "[1]  1  3  6 10 15"
      ]
     },
     "metadata": {},
     "output_type": "display_data"
    }
   ],
   "source": [
    "# return each step in cumulative sum of 1:5\n",
    "1:5 %>% accumulate(`+`)\n",
    "1:5 %>% accumulate(function(x, y) x + y)\n",
    "# [1]  1  3  6 10 15"
   ]
  },
  {
   "cell_type": "code",
   "execution_count": 52,
   "metadata": {
    "ExecuteTime": {
     "end_time": "2020-03-21T22:31:02.266241Z",
     "start_time": "2020-03-21T22:31:02.220Z"
    },
    "hidden": true
   },
   "outputs": [
    {
     "data": {
      "text/html": [
       "<style>\n",
       ".list-inline {list-style: none; margin:0; padding: 0}\n",
       ".list-inline>li {display: inline-block}\n",
       ".list-inline>li:not(:last-child)::after {content: \"\\00b7\"; padding: 0 .5ex}\n",
       "</style>\n",
       "<ol class=list-inline><li>'1'</li><li>'1 and 2'</li><li>'1 and 2 and 3'</li><li>'1 and 2 and 3 and 4'</li><li>'1 and 2 and 3 and 4 and 5'</li></ol>\n"
      ],
      "text/latex": [
       "\\begin{enumerate*}\n",
       "\\item '1'\n",
       "\\item '1 and 2'\n",
       "\\item '1 and 2 and 3'\n",
       "\\item '1 and 2 and 3 and 4'\n",
       "\\item '1 and 2 and 3 and 4 and 5'\n",
       "\\end{enumerate*}\n"
      ],
      "text/markdown": [
       "1. '1'\n",
       "2. '1 and 2'\n",
       "3. '1 and 2 and 3'\n",
       "4. '1 and 2 and 3 and 4'\n",
       "5. '1 and 2 and 3 and 4 and 5'\n",
       "\n",
       "\n"
      ],
      "text/plain": [
       "[1] \"1\"                         \"1 and 2\"                  \n",
       "[3] \"1 and 2 and 3\"             \"1 and 2 and 3 and 4\"      \n",
       "[5] \"1 and 2 and 3 and 4 and 5\""
      ]
     },
     "metadata": {},
     "output_type": "display_data"
    }
   ],
   "source": [
    "# which numbers appear in each itteration\n",
    "1:5 %>% accumulate(function(x, y) paste(x, 'and', y))"
   ]
  },
  {
   "cell_type": "markdown",
   "metadata": {
    "heading_collapsed": true
   },
   "source": [
    "###### <b><font color = 'purple'>Why `reduce()`? Why `accumulate()`? What's the point? </font></b>"
   ]
  },
  {
   "cell_type": "markdown",
   "metadata": {
    "hidden": true
   },
   "source": [
    "**```reduce()```: _E pluribus unum (from many one)_** \n",
    "\n",
    "* You want just one thing\n",
    "* Getting that thing requires repeating (effectively) the same additive operation\n",
    "    * E.g.: `bind_rows()`, `bind_cols()`, `left_join()`, `merge`, etc"
   ]
  },
  {
   "cell_type": "markdown",
   "metadata": {
    "hidden": true
   },
   "source": [
    "**accumulate(): Build something bit by bit**\n",
    "\n",
    "* Each step that builds up to the final \"thing\" is of interest\n",
    "    * Incrementally building a plot\n",
    "    * Building up a model specification\n",
    "    * Complex accumulative sequences"
   ]
  },
  {
   "cell_type": "markdown",
   "metadata": {
    "heading_collapsed": true
   },
   "source": [
    "### Using `accumulate()`\n",
    "Building up a model using `purrr::accumulate()`"
   ]
  },
  {
   "cell_type": "markdown",
   "metadata": {
    "hidden": true
   },
   "source": [
    "Starting with `cty ~ manufacturer` as a base, \n",
    "\n",
    "1. <font color = 'purple'>build up several linear model specifications for estimating the city miles per gallon (`cty`) in the `mpg` dataset by incrementally adding the `trans`, `drv`, and `class` terms to the model </font>. \n",
    "\n",
    "2. <font color = 'purple'>Estimate each model and report the adjusted R-squared. </font></b>"
   ]
  },
  {
   "cell_type": "code",
   "execution_count": 54,
   "metadata": {
    "ExecuteTime": {
     "end_time": "2020-03-22T01:48:45.298312Z",
     "start_time": "2020-03-22T01:48:45.229Z"
    },
    "hidden": true
   },
   "outputs": [
    {
     "data": {
      "text/html": [
       "<table>\n",
       "<caption>A tibble: 4 × 2</caption>\n",
       "<thead>\n",
       "\t<tr><th scope=col>model</th><th scope=col>spec</th></tr>\n",
       "\t<tr><th scope=col>&lt;chr&gt;</th><th scope=col>&lt;chr&gt;</th></tr>\n",
       "</thead>\n",
       "<tbody>\n",
       "\t<tr><td>1</td><td>cty ~ manufacturer                      </td></tr>\n",
       "\t<tr><td>2</td><td>cty ~ manufacturer + trans              </td></tr>\n",
       "\t<tr><td>3</td><td>cty ~ manufacturer + trans + drv        </td></tr>\n",
       "\t<tr><td>4</td><td>cty ~ manufacturer + trans + drv + class</td></tr>\n",
       "</tbody>\n",
       "</table>\n"
      ],
      "text/latex": [
       "A tibble: 4 × 2\n",
       "\\begin{tabular}{ll}\n",
       " model & spec\\\\\n",
       " <chr> & <chr>\\\\\n",
       "\\hline\n",
       "\t 1 & cty \\textasciitilde{} manufacturer                      \\\\\n",
       "\t 2 & cty \\textasciitilde{} manufacturer + trans              \\\\\n",
       "\t 3 & cty \\textasciitilde{} manufacturer + trans + drv        \\\\\n",
       "\t 4 & cty \\textasciitilde{} manufacturer + trans + drv + class\\\\\n",
       "\\end{tabular}\n"
      ],
      "text/markdown": [
       "\n",
       "A tibble: 4 × 2\n",
       "\n",
       "| model &lt;chr&gt; | spec &lt;chr&gt; |\n",
       "|---|---|\n",
       "| 1 | cty ~ manufacturer                       |\n",
       "| 2 | cty ~ manufacturer + trans               |\n",
       "| 3 | cty ~ manufacturer + trans + drv         |\n",
       "| 4 | cty ~ manufacturer + trans + drv + class |\n",
       "\n"
      ],
      "text/plain": [
       "  model spec                                    \n",
       "1 1     cty ~ manufacturer                      \n",
       "2 2     cty ~ manufacturer + trans              \n",
       "3 3     cty ~ manufacturer + trans + drv        \n",
       "4 4     cty ~ manufacturer + trans + drv + class"
      ]
     },
     "metadata": {},
     "output_type": "display_data"
    }
   ],
   "source": [
    "# create a vector of model specifications by  \n",
    "# taking the relevant column names %>% \n",
    "# \n",
    "# accumulating each into the base specification \n",
    "# using paste and a ' + ' separator %>% \n",
    "# \n",
    "# number each model sequentially using \n",
    "# set_names %>% \n",
    "#    print the results in a neatly formatted tibble\n",
    "\n",
    "models <- c('trans', 'drv', 'class') %>%\n",
    "  accumulate(function(x, y) paste(x, y, sep = ' + '),\n",
    "             .init = 'cty ~ manufacturer') %>%\n",
    "  set_names(1:length(.))\n",
    "\n",
    "enframe(models, name = 'model', value = 'spec')\n",
    "\n",
    "# accumulate() sequentially applies a 2-argument \n",
    "# function to elements of a vector. \n",
    "# \n",
    "# Each application of the function uses the \n",
    "# initial value or result of the previous application \n",
    "# as the 1st argument. \n",
    "# \n",
    "# The 2nd argument is the next value of the vector. \n",
    "# The results of each application are returned in a list."
   ]
  },
  {
   "cell_type": "code",
   "execution_count": 92,
   "metadata": {
    "ExecuteTime": {
     "end_time": "2020-03-22T02:40:18.201577Z",
     "start_time": "2020-03-22T02:40:18.136Z"
    },
    "hidden": true
   },
   "outputs": [
    {
     "data": {
      "text/html": [
       "<table>\n",
       "<caption>A tibble: 4 × 2</caption>\n",
       "<thead>\n",
       "\t<tr><th scope=col>model</th><th scope=col>Adj-R2</th></tr>\n",
       "\t<tr><th scope=col>&lt;chr&gt;</th><th scope=col>&lt;dbl&gt;</th></tr>\n",
       "</thead>\n",
       "<tbody>\n",
       "\t<tr><td>1</td><td>0.5279380</td></tr>\n",
       "\t<tr><td>2</td><td>0.5509939</td></tr>\n",
       "\t<tr><td>3</td><td>0.6870783</td></tr>\n",
       "\t<tr><td>4</td><td>0.7130109</td></tr>\n",
       "</tbody>\n",
       "</table>\n"
      ],
      "text/latex": [
       "A tibble: 4 × 2\n",
       "\\begin{tabular}{ll}\n",
       " model & Adj-R2\\\\\n",
       " <chr> & <dbl>\\\\\n",
       "\\hline\n",
       "\t 1 & 0.5279380\\\\\n",
       "\t 2 & 0.5509939\\\\\n",
       "\t 3 & 0.6870783\\\\\n",
       "\t 4 & 0.7130109\\\\\n",
       "\\end{tabular}\n"
      ],
      "text/markdown": [
       "\n",
       "A tibble: 4 × 2\n",
       "\n",
       "| model &lt;chr&gt; | Adj-R2 &lt;dbl&gt; |\n",
       "|---|---|\n",
       "| 1 | 0.5279380 |\n",
       "| 2 | 0.5509939 |\n",
       "| 3 | 0.6870783 |\n",
       "| 4 | 0.7130109 |\n",
       "\n"
      ],
      "text/plain": [
       "  model Adj-R2   \n",
       "1 1     0.5279380\n",
       "2 2     0.5509939\n",
       "3 3     0.6870783\n",
       "4 4     0.7130109"
      ]
     },
     "metadata": {},
     "output_type": "display_data"
    }
   ],
   "source": [
    "# TAKE MODELS %>% \n",
    "\n",
    "# ESTIMATE each using map to apply the lm function %>% \n",
    "\n",
    "# GET THE SUMMARY for each set of results using map to \n",
    "# apply the summary function %>% \n",
    "\n",
    "# EXTRACT THE ADJUSTED R-SQUARED for each set of \n",
    "# summary results using map_dbl to extract it by name %>% \n",
    "\n",
    "# PRINT THE RESULTS in a neatly formatted tibble\n",
    "\n",
    "models %>% \n",
    "  map(lm, data = mpg) %>% \n",
    "  map(summary) %>% \n",
    "  map_dbl(\"adj.r.squared\") %>% \n",
    "  enframe(name = 'model', value = 'Adj-R2')\n",
    "\n",
    "# enframe(): converts named atomic vectors or lists to one- or\n",
    "# two-column data frames. For a list, the result \n",
    "# will be a nested tibble with a column of type list. \n",
    "# For unnamed vectors, the natural sequence is used \n",
    "# as name column.\n",
    "\n"
   ]
  },
  {
   "cell_type": "code",
   "execution_count": 86,
   "metadata": {
    "ExecuteTime": {
     "end_time": "2020-03-22T02:34:51.313639Z",
     "start_time": "2020-03-22T02:34:51.244Z"
    },
    "code_folding": [
     0
    ],
    "collapsed": true,
    "hidden": true
   },
   "outputs": [
    {
     "data": {
      "text/html": [
       "<style>\n",
       ".list-inline {list-style: none; margin:0; padding: 0}\n",
       ".list-inline>li {display: inline-block}\n",
       ".list-inline>li:not(:last-child)::after {content: \"\\00b7\"; padding: 0 .5ex}\n",
       "</style>\n",
       "<ol class=list-inline><li>'coefficients'</li><li>'residuals'</li><li>'effects'</li><li>'rank'</li><li>'fitted.values'</li><li>'assign'</li><li>'qr'</li><li>'df.residual'</li><li>'contrasts'</li><li>'xlevels'</li><li>'call'</li><li>'terms'</li><li>'model'</li></ol>\n"
      ],
      "text/latex": [
       "\\begin{enumerate*}\n",
       "\\item 'coefficients'\n",
       "\\item 'residuals'\n",
       "\\item 'effects'\n",
       "\\item 'rank'\n",
       "\\item 'fitted.values'\n",
       "\\item 'assign'\n",
       "\\item 'qr'\n",
       "\\item 'df.residual'\n",
       "\\item 'contrasts'\n",
       "\\item 'xlevels'\n",
       "\\item 'call'\n",
       "\\item 'terms'\n",
       "\\item 'model'\n",
       "\\end{enumerate*}\n"
      ],
      "text/markdown": [
       "1. 'coefficients'\n",
       "2. 'residuals'\n",
       "3. 'effects'\n",
       "4. 'rank'\n",
       "5. 'fitted.values'\n",
       "6. 'assign'\n",
       "7. 'qr'\n",
       "8. 'df.residual'\n",
       "9. 'contrasts'\n",
       "10. 'xlevels'\n",
       "11. 'call'\n",
       "12. 'terms'\n",
       "13. 'model'\n",
       "\n",
       "\n"
      ],
      "text/plain": [
       " [1] \"coefficients\"  \"residuals\"     \"effects\"       \"rank\"         \n",
       " [5] \"fitted.values\" \"assign\"        \"qr\"            \"df.residual\"  \n",
       " [9] \"contrasts\"     \"xlevels\"       \"call\"          \"terms\"        \n",
       "[13] \"model\"        "
      ]
     },
     "metadata": {},
     "output_type": "display_data"
    },
    {
     "data": {
      "text/html": [
       "<style>\n",
       ".list-inline {list-style: none; margin:0; padding: 0}\n",
       ".list-inline>li {display: inline-block}\n",
       ".list-inline>li:not(:last-child)::after {content: \"\\00b7\"; padding: 0 .5ex}\n",
       "</style>\n",
       "<ol class=list-inline><li>'call'</li><li>'terms'</li><li>'residuals'</li><li>'coefficients'</li><li>'aliased'</li><li>'sigma'</li><li>'df'</li><li>'r.squared'</li><li>'adj.r.squared'</li><li>'fstatistic'</li><li>'cov.unscaled'</li></ol>\n"
      ],
      "text/latex": [
       "\\begin{enumerate*}\n",
       "\\item 'call'\n",
       "\\item 'terms'\n",
       "\\item 'residuals'\n",
       "\\item 'coefficients'\n",
       "\\item 'aliased'\n",
       "\\item 'sigma'\n",
       "\\item 'df'\n",
       "\\item 'r.squared'\n",
       "\\item 'adj.r.squared'\n",
       "\\item 'fstatistic'\n",
       "\\item 'cov.unscaled'\n",
       "\\end{enumerate*}\n"
      ],
      "text/markdown": [
       "1. 'call'\n",
       "2. 'terms'\n",
       "3. 'residuals'\n",
       "4. 'coefficients'\n",
       "5. 'aliased'\n",
       "6. 'sigma'\n",
       "7. 'df'\n",
       "8. 'r.squared'\n",
       "9. 'adj.r.squared'\n",
       "10. 'fstatistic'\n",
       "11. 'cov.unscaled'\n",
       "\n",
       "\n"
      ],
      "text/plain": [
       " [1] \"call\"          \"terms\"         \"residuals\"     \"coefficients\" \n",
       " [5] \"aliased\"       \"sigma\"         \"df\"            \"r.squared\"    \n",
       " [9] \"adj.r.squared\" \"fstatistic\"    \"cov.unscaled\" "
      ]
     },
     "metadata": {},
     "output_type": "display_data"
    }
   ],
   "source": [
    "# https://www.r-bloggers.com/extracting-information-from-objects-using-names/\n",
    "names(lm(cty ~ manufacturer + trans, data = mpg)) \n",
    "names(summary(lm(cty ~ manufacturer + trans, data = mpg)) )"
   ]
  },
  {
   "cell_type": "code",
   "execution_count": 81,
   "metadata": {
    "ExecuteTime": {
     "end_time": "2020-03-22T02:31:57.576184Z",
     "start_time": "2020-03-22T02:31:57.510Z"
    },
    "collapsed": true,
    "hidden": true
   },
   "outputs": [
    {
     "data": {
      "text/plain": [
       "$`1`\n",
       "\n",
       "Call:\n",
       ".f(formula = .x[[i]], data = ..1)\n",
       "\n",
       "Residuals:\n",
       "    Min      1Q  Median      3Q     Max \n",
       "-7.5294 -1.6349 -0.1351  1.0000 14.0741 \n",
       "\n",
       "Coefficients:\n",
       "                       Estimate Std. Error t value Pr(>|t|)    \n",
       "(Intercept)             17.6111     0.6892  25.552  < 2e-16 ***\n",
       "manufacturerchevrolet   -2.6111     0.9618  -2.715 0.007160 ** \n",
       "manufacturerdodge       -4.4760     0.8403  -5.327 2.48e-07 ***\n",
       "manufacturerford        -3.6111     0.9039  -3.995 8.84e-05 ***\n",
       "manufacturerhonda        6.8333     1.1938   5.724 3.40e-08 ***\n",
       "manufacturerhyundai      1.0317     1.0420   0.990 0.323192    \n",
       "manufacturerjeep        -4.1111     1.2425  -3.309 0.001096 ** \n",
       "manufacturerland rover  -6.1111     1.6164  -3.781 0.000202 ***\n",
       "manufacturerlincoln     -6.2778     1.8235  -3.443 0.000690 ***\n",
       "manufacturermercury     -4.3611     1.6164  -2.698 0.007517 ** \n",
       "manufacturernissan       0.4658     1.0643   0.438 0.662060    \n",
       "manufacturerpontiac     -0.6111     1.4782  -0.413 0.679710    \n",
       "manufacturersubaru       1.6746     1.0420   1.607 0.109474    \n",
       "manufacturertoyota       0.9183     0.8524   1.077 0.282502    \n",
       "manufacturervolkswagen   3.3148     0.8898   3.725 0.000248 ***\n",
       "---\n",
       "Signif. codes:  0 '***' 0.001 '**' 0.01 '*' 0.05 '.' 0.1 ' ' 1\n",
       "\n",
       "Residual standard error: 2.924 on 219 degrees of freedom\n",
       "Multiple R-squared:  0.5563,\tAdjusted R-squared:  0.5279 \n",
       "F-statistic: 19.61 on 14 and 219 DF,  p-value: < 2.2e-16\n",
       "\n",
       "\n",
       "$`2`\n",
       "\n",
       "Call:\n",
       ".f(formula = .x[[i]], data = ..1)\n",
       "\n",
       "Residuals:\n",
       "    Min      1Q  Median      3Q     Max \n",
       "-7.1714 -1.6166 -0.1827  1.3516 13.3367 \n",
       "\n",
       "Coefficients:\n",
       "                       Estimate Std. Error t value Pr(>|t|)    \n",
       "(Intercept)            20.05242    1.43088  14.014  < 2e-16 ***\n",
       "manufacturerchevrolet  -2.42439    1.00483  -2.413 0.016692 *  \n",
       "manufacturerdodge      -4.28521    0.87803  -4.881 2.09e-06 ***\n",
       "manufacturerford       -3.58334    0.93766  -3.822 0.000175 ***\n",
       "manufacturerhonda       6.76587    1.19540   5.660 4.93e-08 ***\n",
       "manufacturerhyundai     0.82892    1.06578   0.778 0.437587    \n",
       "manufacturerjeep       -3.22429    1.27192  -2.535 0.011974 *  \n",
       "manufacturerland rover -5.78756    1.62044  -3.572 0.000440 ***\n",
       "manufacturerlincoln    -6.30603    1.87308  -3.367 0.000905 ***\n",
       "manufacturermercury    -3.85076    1.64402  -2.342 0.020102 *  \n",
       "manufacturernissan     -0.08736    1.08121  -0.081 0.935678    \n",
       "manufacturerpontiac    -0.57982    1.55189  -0.374 0.709061    \n",
       "manufacturersubaru      1.24860    1.11053   1.124 0.262157    \n",
       "manufacturertoyota      0.70350    0.88388   0.796 0.426979    \n",
       "manufacturervolkswagen  3.21686    0.89495   3.594 0.000405 ***\n",
       "transauto(l3)           2.73844    2.48926   1.100 0.272547    \n",
       "transauto(l4)          -2.58452    1.45933  -1.771 0.078005 .  \n",
       "transauto(l5)          -3.57600    1.48750  -2.404 0.017084 *  \n",
       "transauto(l6)          -2.07010    1.90165  -1.089 0.277588    \n",
       "transauto(s4)          -2.02488    2.30067  -0.880 0.379797    \n",
       "transauto(s5)          -3.15896    2.14419  -1.473 0.142177    \n",
       "transauto(s6)          -2.94518    1.58837  -1.854 0.065111 .  \n",
       "transmanual(m5)        -1.60599    1.45679  -1.102 0.271542    \n",
       "transmanual(m6)        -2.61962    1.52305  -1.720 0.086909 .  \n",
       "---\n",
       "Signif. codes:  0 '***' 0.001 '**' 0.01 '*' 0.05 '.' 0.1 ' ' 1\n",
       "\n",
       "Residual standard error: 2.852 on 210 degrees of freedom\n",
       "Multiple R-squared:  0.5953,\tAdjusted R-squared:  0.551 \n",
       "F-statistic: 13.43 on 23 and 210 DF,  p-value: < 2.2e-16\n",
       "\n",
       "\n",
       "$`3`\n",
       "\n",
       "Call:\n",
       ".f(formula = .x[[i]], data = ..1)\n",
       "\n",
       "Residuals:\n",
       "    Min      1Q  Median      3Q     Max \n",
       "-5.3219 -1.2369 -0.2352  0.8721 13.5245 \n",
       "\n",
       "Coefficients:\n",
       "                       Estimate Std. Error t value Pr(>|t|)    \n",
       "(Intercept)            15.75704    1.27460  12.362  < 2e-16 ***\n",
       "manufacturerchevrolet  -2.19852    0.93034  -2.363 0.019043 *  \n",
       "manufacturerdodge      -3.77374    0.73511  -5.134 6.51e-07 ***\n",
       "manufacturerford       -2.05821    0.87892  -2.342 0.020140 *  \n",
       "manufacturerhonda       3.79182    1.04443   3.631 0.000356 ***\n",
       "manufacturerhyundai    -1.97727    0.93614  -2.112 0.035867 *  \n",
       "manufacturerjeep       -1.75384    1.07296  -1.635 0.103650    \n",
       "manufacturerland rover -3.93952    1.36641  -2.883 0.004351 ** \n",
       "manufacturerlincoln    -4.77883    1.74427  -2.740 0.006683 ** \n",
       "manufacturermercury    -1.89278    1.38753  -1.364 0.173998    \n",
       "manufacturernissan     -0.92682    0.90679  -1.022 0.307926    \n",
       "manufacturerpontiac    -3.22015    1.32461  -2.431 0.015904 *  \n",
       "manufacturersubaru      3.33198    0.95198   3.500 0.000569 ***\n",
       "manufacturertoyota      0.06067    0.74108   0.082 0.934834    \n",
       "manufacturervolkswagen  0.24343    0.80811   0.301 0.763536    \n",
       "transauto(l3)           2.30044    2.07863   1.107 0.269697    \n",
       "transauto(l4)          -0.46043    1.23854  -0.372 0.710454    \n",
       "transauto(l5)          -0.51745    1.28178  -0.404 0.686850    \n",
       "transauto(l6)          -0.96169    1.59176  -0.604 0.546392    \n",
       "transauto(s4)           0.16201    1.93410   0.084 0.933325    \n",
       "transauto(s5)          -1.35458    1.79977  -0.753 0.452517    \n",
       "transauto(s6)          -0.17460    1.35673  -0.129 0.897728    \n",
       "transmanual(m5)         0.67599    1.23889   0.546 0.585897    \n",
       "transmanual(m6)         0.12053    1.30417   0.092 0.926454    \n",
       "drvf                    4.79906    0.49681   9.660  < 2e-16 ***\n",
       "drvr                    0.98265    0.73664   1.334 0.183678    \n",
       "---\n",
       "Signif. codes:  0 '***' 0.001 '**' 0.01 '*' 0.05 '.' 0.1 ' ' 1\n",
       "\n",
       "Residual standard error: 2.381 on 208 degrees of freedom\n",
       "Multiple R-squared:  0.7207,\tAdjusted R-squared:  0.6871 \n",
       "F-statistic: 21.46 on 25 and 208 DF,  p-value: < 2.2e-16\n",
       "\n",
       "\n",
       "$`4`\n",
       "\n",
       "Call:\n",
       ".f(formula = .x[[i]], data = ..1)\n",
       "\n",
       "Residuals:\n",
       "    Min      1Q  Median      3Q     Max \n",
       "-4.7482 -1.0538 -0.0648  0.9362 12.8709 \n",
       "\n",
       "Coefficients:\n",
       "                       Estimate Std. Error t value Pr(>|t|)    \n",
       "(Intercept)             17.0227     1.8683   9.112  < 2e-16 ***\n",
       "manufacturerchevrolet   -0.1123     1.1732  -0.096 0.923837    \n",
       "manufacturerdodge       -1.4692     1.0299  -1.427 0.155254    \n",
       "manufacturerford        -0.4564     1.0328  -0.442 0.659035    \n",
       "manufacturerhonda        3.9622     1.4117   2.807 0.005495 ** \n",
       "manufacturerhyundai     -1.0774     1.2036  -0.895 0.371780    \n",
       "manufacturerjeep         0.1949     1.2006   0.162 0.871168    \n",
       "manufacturerland rover  -1.9530     1.4621  -1.336 0.183136    \n",
       "manufacturerlincoln     -1.2614     1.8916  -0.667 0.505637    \n",
       "manufacturermercury     -0.1651     1.4577  -0.113 0.909962    \n",
       "manufacturernissan       0.7075     1.0442   0.678 0.498840    \n",
       "manufacturerpontiac     -1.5448     1.5135  -1.021 0.308613    \n",
       "manufacturersubaru       3.6594     0.9914   3.691 0.000287 ***\n",
       "manufacturertoyota       1.5828     0.9014   1.756 0.080611 .  \n",
       "manufacturervolkswagen   1.1671     0.9701   1.203 0.230359    \n",
       "transauto(l3)            2.0753     2.0527   1.011 0.313203    \n",
       "transauto(l4)           -0.5730     1.2230  -0.468 0.639937    \n",
       "transauto(l5)           -0.8040     1.2518  -0.642 0.521396    \n",
       "transauto(l6)           -0.3640     1.5878  -0.229 0.818880    \n",
       "transauto(s4)           -0.9328     1.9577  -0.476 0.634259    \n",
       "transauto(s5)           -2.0776     1.7710  -1.173 0.242126    \n",
       "transauto(s6)           -0.6236     1.3400  -0.465 0.642152    \n",
       "transmanual(m5)          0.2069     1.2154   0.170 0.864992    \n",
       "transmanual(m6)         -0.5298     1.2738  -0.416 0.677926    \n",
       "drvf                     3.2368     0.8833   3.664 0.000317 ***\n",
       "drvr                    -0.9533     0.8723  -1.093 0.275748    \n",
       "classcompact            -0.1054     1.5577  -0.068 0.946104    \n",
       "classmidsize            -1.0698     1.4942  -0.716 0.474816    \n",
       "classminivan            -2.6779     1.8945  -1.414 0.159032    \n",
       "classpickup             -2.9824     1.5462  -1.929 0.055147 .  \n",
       "classsubcompact          0.4955     1.4485   0.342 0.732636    \n",
       "classsuv                -2.9714     1.3881  -2.141 0.033508 *  \n",
       "---\n",
       "Signif. codes:  0 '***' 0.001 '**' 0.01 '*' 0.05 '.' 0.1 ' ' 1\n",
       "\n",
       "Residual standard error: 2.28 on 202 degrees of freedom\n",
       "Multiple R-squared:  0.7512,\tAdjusted R-squared:  0.713 \n",
       "F-statistic: 19.67 on 31 and 202 DF,  p-value: < 2.2e-16\n",
       "\n"
      ]
     },
     "metadata": {},
     "output_type": "display_data"
    }
   ],
   "source": [
    "models %>% \n",
    "  map(lm, data = mpg) %>% \n",
    "  map(summary) \n"
   ]
  },
  {
   "cell_type": "markdown",
   "metadata": {},
   "source": [
    "## Adverbs"
   ]
  },
  {
   "cell_type": "markdown",
   "metadata": {},
   "source": [
    "<font color = 'green'><b>modify the action of a function; taking a function as input and returning a function with modified action as output</b></font>"
   ]
  },
  {
   "cell_type": "markdown",
   "metadata": {
    "heading_collapsed": true
   },
   "source": [
    "##### > `compose(..., .dir = c('backward, 'forward))`   \n",
    "> apply functions `...` in order in the direction `.dir` specified"
   ]
  },
  {
   "cell_type": "code",
   "execution_count": 98,
   "metadata": {
    "ExecuteTime": {
     "end_time": "2020-03-22T02:46:44.837721Z",
     "start_time": "2020-03-22T02:46:44.789Z"
    },
    "hidden": true
   },
   "outputs": [
    {
     "data": {
      "text/html": [
       "2.12"
      ],
      "text/latex": [
       "2.12"
      ],
      "text/markdown": [
       "2.12"
      ],
      "text/plain": [
       "[1] 2.12"
      ]
     },
     "metadata": {},
     "output_type": "display_data"
    }
   ],
   "source": [
    "round(mean(log(1:20), na.rm = T), digits = 2)\n",
    "# [1] 2.12"
   ]
  },
  {
   "cell_type": "code",
   "execution_count": 99,
   "metadata": {
    "ExecuteTime": {
     "end_time": "2020-03-22T02:47:22.562409Z",
     "start_time": "2020-03-22T02:47:22.514Z"
    },
    "hidden": true
   },
   "outputs": [
    {
     "data": {
      "text/html": [
       "3.76"
      ],
      "text/latex": [
       "3.76"
      ],
      "text/markdown": [
       "3.76"
      ],
      "text/plain": [
       "[1] 3.76"
      ]
     },
     "metadata": {},
     "output_type": "display_data"
    }
   ],
   "source": [
    "round(mean(log(5:100), na.rm = T), digits = 2)\n",
    "# [1] 3.76"
   ]
  },
  {
   "cell_type": "code",
   "execution_count": 103,
   "metadata": {
    "ExecuteTime": {
     "end_time": "2020-03-22T02:49:01.843627Z",
     "start_time": "2020-03-22T02:49:01.791Z"
    },
    "hidden": true
   },
   "outputs": [
    {
     "data": {
      "text/html": [
       "2.12"
      ],
      "text/latex": [
       "2.12"
      ],
      "text/markdown": [
       "2.12"
      ],
      "text/plain": [
       "[1] 2.12"
      ]
     },
     "metadata": {},
     "output_type": "display_data"
    }
   ],
   "source": [
    "# compose steps into a function\n",
    "mycomp <- compose(log,\n",
    "                  ~ mean(.x, na.rm = T),\n",
    "                  ~ round(.x, digits = 2),\n",
    "                  .dir = 'forward')\n",
    "mycomp(1:20)\n",
    "# [1] 2.12"
   ]
  },
  {
   "cell_type": "code",
   "execution_count": 101,
   "metadata": {
    "ExecuteTime": {
     "end_time": "2020-03-22T02:47:44.241938Z",
     "start_time": "2020-03-22T02:47:44.165Z"
    },
    "hidden": true,
    "scrolled": false
   },
   "outputs": [
    {
     "data": {
      "text/html": [
       "3.76"
      ],
      "text/latex": [
       "3.76"
      ],
      "text/markdown": [
       "3.76"
      ],
      "text/plain": [
       "[1] 3.76"
      ]
     },
     "metadata": {},
     "output_type": "display_data"
    }
   ],
   "source": [
    "mycomp(5:100)\n",
    "# [1] 3.76"
   ]
  },
  {
   "cell_type": "markdown",
   "metadata": {
    "heading_collapsed": true
   },
   "source": [
    "##### > `partial(.f, ...)`   \n",
    "> modify function `.f` by pre-filling and fixing some of its arguments"
   ]
  },
  {
   "cell_type": "code",
   "execution_count": 104,
   "metadata": {
    "ExecuteTime": {
     "end_time": "2020-03-22T07:18:19.463920Z",
     "start_time": "2020-03-22T07:18:19.416Z"
    },
    "hidden": true
   },
   "outputs": [
    {
     "data": {
      "text/html": [
       "0.53"
      ],
      "text/latex": [
       "0.53"
      ],
      "text/markdown": [
       "0.53"
      ],
      "text/plain": [
       "[1] 0.53"
      ]
     },
     "metadata": {},
     "output_type": "display_data"
    }
   ],
   "source": [
    "round(0.532131245, digits = 2)\n",
    "# [1] 0.53"
   ]
  },
  {
   "cell_type": "code",
   "execution_count": 105,
   "metadata": {
    "ExecuteTime": {
     "end_time": "2020-03-22T07:18:21.979649Z",
     "start_time": "2020-03-22T07:18:21.933Z"
    },
    "hidden": true
   },
   "outputs": [
    {
     "data": {
      "text/html": [
       "12394.13"
      ],
      "text/latex": [
       "12394.13"
      ],
      "text/markdown": [
       "12394.13"
      ],
      "text/plain": [
       "[1] 12394.13"
      ]
     },
     "metadata": {},
     "output_type": "display_data"
    }
   ],
   "source": [
    "round(12394.13498134, digits = 2)\n",
    "# [1] 12394.13"
   ]
  },
  {
   "cell_type": "code",
   "execution_count": 106,
   "metadata": {
    "ExecuteTime": {
     "end_time": "2020-03-22T07:18:42.421188Z",
     "start_time": "2020-03-22T07:18:42.364Z"
    },
    "hidden": true
   },
   "outputs": [
    {
     "data": {
      "text/html": [
       "0.53"
      ],
      "text/latex": [
       "0.53"
      ],
      "text/markdown": [
       "0.53"
      ],
      "text/plain": [
       "[1] 0.53"
      ]
     },
     "metadata": {},
     "output_type": "display_data"
    }
   ],
   "source": [
    "# prefill and fix parameter (WARNING!)\n",
    "myround <- partial(round, digits = 2)\n",
    "myround(0.532131245)\n",
    "# [1] 0.53"
   ]
  },
  {
   "cell_type": "code",
   "execution_count": 107,
   "metadata": {
    "ExecuteTime": {
     "end_time": "2020-03-22T07:23:22.131612Z",
     "start_time": "2020-03-22T07:23:22.059Z"
    },
    "hidden": true
   },
   "outputs": [
    {
     "data": {
      "text/html": [
       "12394.13"
      ],
      "text/latex": [
       "12394.13"
      ],
      "text/markdown": [
       "12394.13"
      ],
      "text/plain": [
       "[1] 12394.13"
      ]
     },
     "metadata": {},
     "output_type": "display_data"
    }
   ],
   "source": [
    "myround(12394.13498134)\n",
    "# [1] 12394.13"
   ]
  },
  {
   "cell_type": "code",
   "execution_count": 115,
   "metadata": {
    "ExecuteTime": {
     "end_time": "2020-03-22T07:25:21.255032Z",
     "start_time": "2020-03-22T07:25:20.783Z"
    },
    "hidden": true
   },
   "outputs": [
    {
     "ename": "ERROR",
     "evalue": "Error in (function (x, digits = 0) : formal argument \"digits\" matched by multiple actual arguments\n",
     "output_type": "error",
     "traceback": [
      "Error in (function (x, digits = 0) : formal argument \"digits\" matched by multiple actual arguments\nTraceback:\n",
      "1. myround(1/3, digits = 2)",
      "2. eval_tidy(call, mask)"
     ]
    }
   ],
   "source": [
    "myround(1/3, digits = 2)\n",
    "# Error in (function (x, digits = 0) : formal argument \"digits\" matched by multiple actual arguments"
   ]
  },
  {
   "cell_type": "markdown",
   "metadata": {
    "heading_collapsed": true
   },
   "source": [
    "##### Using `compose()`There's more than one way to skin a cat\n",
    "\n",
    "<font color = 'purple'>Compose a function that can be used to estimate each model in the previously defined `models` vector and report the adjusted R-squared. </font>"
   ]
  },
  {
   "cell_type": "code",
   "execution_count": 118,
   "metadata": {
    "ExecuteTime": {
     "end_time": "2020-03-22T07:46:35.872703Z",
     "start_time": "2020-03-22T07:46:35.806Z"
    },
    "hidden": true
   },
   "outputs": [
    {
     "data": {
      "text/html": [
       "<table>\n",
       "<caption>A tibble: 4 × 2</caption>\n",
       "<thead>\n",
       "\t<tr><th scope=col>model</th><th scope=col>Adj-R2</th></tr>\n",
       "\t<tr><th scope=col>&lt;chr&gt;</th><th scope=col>&lt;dbl&gt;</th></tr>\n",
       "</thead>\n",
       "<tbody>\n",
       "\t<tr><td>1</td><td>0.5279380</td></tr>\n",
       "\t<tr><td>2</td><td>0.5509939</td></tr>\n",
       "\t<tr><td>3</td><td>0.6870783</td></tr>\n",
       "\t<tr><td>4</td><td>0.7130109</td></tr>\n",
       "</tbody>\n",
       "</table>\n"
      ],
      "text/latex": [
       "A tibble: 4 × 2\n",
       "\\begin{tabular}{ll}\n",
       " model & Adj-R2\\\\\n",
       " <chr> & <dbl>\\\\\n",
       "\\hline\n",
       "\t 1 & 0.5279380\\\\\n",
       "\t 2 & 0.5509939\\\\\n",
       "\t 3 & 0.6870783\\\\\n",
       "\t 4 & 0.7130109\\\\\n",
       "\\end{tabular}\n"
      ],
      "text/markdown": [
       "\n",
       "A tibble: 4 × 2\n",
       "\n",
       "| model &lt;chr&gt; | Adj-R2 &lt;dbl&gt; |\n",
       "|---|---|\n",
       "| 1 | 0.5279380 |\n",
       "| 2 | 0.5509939 |\n",
       "| 3 | 0.6870783 |\n",
       "| 4 | 0.7130109 |\n",
       "\n"
      ],
      "text/plain": [
       "  model Adj-R2   \n",
       "1 1     0.5279380\n",
       "2 2     0.5509939\n",
       "3 3     0.6870783\n",
       "4 4     0.7130109"
      ]
     },
     "metadata": {},
     "output_type": "display_data"
    }
   ],
   "source": [
    "## old method\n",
    "\n",
    "# take models %>% \n",
    "\n",
    "# 1.estimate each using map to apply the lm function %>% \n",
    "\n",
    "# 2.get the summary for each set of results using map to \n",
    "# apply the summary function %>% \n",
    "\n",
    "# 3.extract the adjusted r-squared for each set of summary\n",
    "# results using map_dbl to extract it by name %>% \n",
    "\n",
    "# 4.print the results in a neatly formatted tibble\n",
    "\n",
    "models %>% \n",
    "  map(lm, data = mpg) %>% #1\n",
    "  map(summary) %>% #2\n",
    "  map_dbl(\"adj.r.squared\") %>% #3\n",
    "  enframe(name = 'model', value = 'Adj-R2') #4"
   ]
  },
  {
   "cell_type": "code",
   "execution_count": 121,
   "metadata": {
    "ExecuteTime": {
     "end_time": "2020-03-22T14:54:30.971852Z",
     "start_time": "2020-03-22T14:54:30.900Z"
    },
    "hidden": true
   },
   "outputs": [
    {
     "data": {
      "text/html": [
       "<table>\n",
       "<caption>A tibble: 4 × 2</caption>\n",
       "<thead>\n",
       "\t<tr><th scope=col>model</th><th scope=col>adj.r.squared</th></tr>\n",
       "\t<tr><th scope=col>&lt;int&gt;</th><th scope=col>&lt;dbl&gt;</th></tr>\n",
       "</thead>\n",
       "<tbody>\n",
       "\t<tr><td>1</td><td>0.5279380</td></tr>\n",
       "\t<tr><td>1</td><td>0.5509939</td></tr>\n",
       "\t<tr><td>1</td><td>0.6870783</td></tr>\n",
       "\t<tr><td>1</td><td>0.7130109</td></tr>\n",
       "</tbody>\n",
       "</table>\n"
      ],
      "text/latex": [
       "A tibble: 4 × 2\n",
       "\\begin{tabular}{ll}\n",
       " model & adj.r.squared\\\\\n",
       " <int> & <dbl>\\\\\n",
       "\\hline\n",
       "\t 1 & 0.5279380\\\\\n",
       "\t 1 & 0.5509939\\\\\n",
       "\t 1 & 0.6870783\\\\\n",
       "\t 1 & 0.7130109\\\\\n",
       "\\end{tabular}\n"
      ],
      "text/markdown": [
       "\n",
       "A tibble: 4 × 2\n",
       "\n",
       "| model &lt;int&gt; | adj.r.squared &lt;dbl&gt; |\n",
       "|---|---|\n",
       "| 1 | 0.5279380 |\n",
       "| 1 | 0.5509939 |\n",
       "| 1 | 0.6870783 |\n",
       "| 1 | 0.7130109 |\n",
       "\n"
      ],
      "text/plain": [
       "  model adj.r.squared\n",
       "1 1     0.5279380    \n",
       "2 1     0.5509939    \n",
       "3 1     0.6870783    \n",
       "4 1     0.7130109    "
      ]
     },
     "metadata": {},
     "output_type": "display_data"
    }
   ],
   "source": [
    "## compose method\n",
    "\n",
    "# compose a function that sends arguments to lm, \n",
    "# then passes the results to summary, then plucks \n",
    "# the r-squared from those results, then enframes\n",
    "mycomp <- compose(lm, summary, \n",
    "                  ~pluck(.x, 'adj.r.squared'), \n",
    "                  ~enframe(.x, name = 'model', value = 'adj.r.squared'), \n",
    "                  .dir = 'forward')\n",
    "\n",
    "# take models %>% \n",
    "# estimate each by using map_dfr to apply the\n",
    "# mycomp function and row bind\n",
    "models %>% \n",
    "  map_dfr(~mycomp(.x, data = mpg))"
   ]
  },
  {
   "cell_type": "markdown",
   "metadata": {
    "heading_collapsed": true
   },
   "source": [
    "## `safely()`, `possibly()`, and `insistently()`\n",
    "\n",
    "Failure is not an option!"
   ]
  },
  {
   "cell_type": "code",
   "execution_count": 126,
   "metadata": {
    "ExecuteTime": {
     "end_time": "2020-03-22T16:31:23.358031Z",
     "start_time": "2020-03-22T16:31:23.318Z"
    },
    "hidden": true
   },
   "outputs": [],
   "source": [
    "# define bad function that only works on odd numbers\n",
    "badfunc <- function(x) \n",
    "    if (x %% 2 == 0) stop('Only odd numbers allowed')  else (x)"
   ]
  },
  {
   "cell_type": "code",
   "execution_count": 94,
   "metadata": {
    "ExecuteTime": {
     "end_time": "2020-03-22T02:45:02.962596Z",
     "start_time": "2020-03-22T02:45:02.921Z"
    },
    "hidden": true
   },
   "outputs": [],
   "source": [
    "# define safe version of badfunc , possible, and insistent versions of badfunc\n",
    "safely_badfunc <- safely(badfunc)"
   ]
  },
  {
   "cell_type": "code",
   "execution_count": 96,
   "metadata": {
    "ExecuteTime": {
     "end_time": "2020-03-22T02:45:36.158780Z",
     "start_time": "2020-03-22T02:45:36.118Z"
    },
    "hidden": true
   },
   "outputs": [],
   "source": [
    "# define possible version of badfunc\n",
    "possibly_badfunc <- possibly(badfunc, otherwise = NA_real_)"
   ]
  },
  {
   "cell_type": "code",
   "execution_count": 97,
   "metadata": {
    "ExecuteTime": {
     "end_time": "2020-03-22T02:45:39.164677Z",
     "start_time": "2020-03-22T02:45:39.114Z"
    },
    "hidden": true
   },
   "outputs": [],
   "source": [
    "# define insistent version of badfunc\n",
    "insistently_badfunc <- insistently(badfunc, rate = rate_backoff(pause_cap = 1, max_times = 4))"
   ]
  },
  {
   "cell_type": "markdown",
   "metadata": {
    "hidden": true
   },
   "source": [
    "###### > `safely(.f, otherwise = NULL, quiet = TRUE)`   \n",
    "> modifies function `.f` to return a list with components `result` (result if not error, NA otherwise) and `error` (error message if error, NULL otherwise)."
   ]
  },
  {
   "cell_type": "code",
   "execution_count": 137,
   "metadata": {
    "ExecuteTime": {
     "end_time": "2020-03-22T17:10:13.773897Z",
     "start_time": "2020-03-22T17:10:13.699Z"
    },
    "code_folding": [
     0
    ],
    "collapsed": true,
    "hidden": true
   },
   "outputs": [
    {
     "data": {
      "text/html": [
       "1"
      ],
      "text/latex": [
       "1"
      ],
      "text/markdown": [
       "1"
      ],
      "text/plain": [
       "[1] 1"
      ]
     },
     "metadata": {},
     "output_type": "display_data"
    },
    {
     "name": "stdout",
     "output_type": "stream",
     "text": [
      "\n",
      "  ---------------------------------------------------------- \n"
     ]
    },
    {
     "ename": "ERROR",
     "evalue": "Error in badfunc(2): Only odd numbers allowed\n",
     "output_type": "error",
     "traceback": [
      "Error in badfunc(2): Only odd numbers allowed\nTraceback:\n",
      "1. badfunc(2)",
      "2. stop(\"Only odd numbers allowed\")   # at line 2-3 of file <text>"
     ]
    }
   ],
   "source": [
    "# define bad function that only works on odd numbers\n",
    "badfunc <- function(x) \n",
    "    if (x %% 2 == 0) stop('Only odd numbers allowed')  else (x)\n",
    "        \n",
    "# test functions of \"good\" value\n",
    "badfunc(1)\n",
    "#> [1] 1\n",
    "    \n",
    "cat('\\n',\"\", str_dup(\"-\",58), '\\n')\n",
    "\n",
    "\n",
    "# test functions of \"bad\" value\n",
    "badfunc(2)\n",
    "#> Error in badfunc(2): Only odd numbers allowed"
   ]
  },
  {
   "cell_type": "code",
   "execution_count": 149,
   "metadata": {
    "ExecuteTime": {
     "end_time": "2020-03-22T17:26:34.606592Z",
     "start_time": "2020-03-22T17:26:34.335Z"
    },
    "hidden": true,
    "scrolled": true
   },
   "outputs": [
    {
     "data": {
      "text/html": [
       "<dl>\n",
       "\t<dt>$result</dt>\n",
       "\t\t<dd>1</dd>\n",
       "\t<dt>$error</dt>\n",
       "\t\t<dd>NULL</dd>\n",
       "</dl>\n"
      ],
      "text/latex": [
       "\\begin{description}\n",
       "\\item[\\$result] 1\n",
       "\\item[\\$error] NULL\n",
       "\\end{description}\n"
      ],
      "text/markdown": [
       "$result\n",
       ":   1\n",
       "$error\n",
       ":   NULL\n",
       "\n",
       "\n"
      ],
      "text/plain": [
       "$result\n",
       "[1] 1\n",
       "\n",
       "$error\n",
       "NULL\n"
      ]
     },
     "metadata": {},
     "output_type": "display_data"
    },
    {
     "data": {
      "text/html": [
       "<dl>\n",
       "\t<dt>$result</dt>\n",
       "\t\t<dd>3</dd>\n",
       "\t<dt>$error</dt>\n",
       "\t\t<dd>NULL</dd>\n",
       "</dl>\n"
      ],
      "text/latex": [
       "\\begin{description}\n",
       "\\item[\\$result] 3\n",
       "\\item[\\$error] NULL\n",
       "\\end{description}\n"
      ],
      "text/markdown": [
       "$result\n",
       ":   3\n",
       "$error\n",
       ":   NULL\n",
       "\n",
       "\n"
      ],
      "text/plain": [
       "$result\n",
       "[1] 3\n",
       "\n",
       "$error\n",
       "NULL\n"
      ]
     },
     "metadata": {},
     "output_type": "display_data"
    },
    {
     "name": "stdout",
     "output_type": "stream",
     "text": [
      "----------------------------------------------------------"
     ]
    },
    {
     "data": {
      "text/plain": [
       "$result\n",
       "NULL\n",
       "\n",
       "$error\n",
       "<simpleError in .f(...): Only odd numbers allowed>\n"
      ]
     },
     "metadata": {},
     "output_type": "display_data"
    }
   ],
   "source": [
    "# define safe version of badfunc , \n",
    "safely_badfunc <- safely(badfunc)\n",
    "\n",
    "safely_badfunc(1)\n",
    "safely_badfunc(3)\n",
    "cat(str_dup(\"-\",58))\n",
    "safely_badfunc(2)"
   ]
  },
  {
   "cell_type": "markdown",
   "metadata": {
    "heading_collapsed": true,
    "hidden": true
   },
   "source": [
    "###### > `possibly(.f, otherwise, quiet = TRUE)`   \n",
    "> modifies function `.f` to return `otherwise` if error occurs."
   ]
  },
  {
   "cell_type": "code",
   "execution_count": 145,
   "metadata": {
    "ExecuteTime": {
     "end_time": "2020-03-22T17:16:23.370803Z",
     "start_time": "2020-03-22T17:16:23.267Z"
    },
    "hidden": true
   },
   "outputs": [
    {
     "data": {
      "text/html": [
       "1"
      ],
      "text/latex": [
       "1"
      ],
      "text/markdown": [
       "1"
      ],
      "text/plain": [
       "[1] 1"
      ]
     },
     "metadata": {},
     "output_type": "display_data"
    },
    {
     "name": "stdout",
     "output_type": "stream",
     "text": [
      "----------------------------------------------------------"
     ]
    },
    {
     "data": {
      "text/html": [
       "&lt;NA&gt;"
      ],
      "text/latex": [
       "<NA>"
      ],
      "text/markdown": [
       "&lt;NA&gt;"
      ],
      "text/plain": [
       "[1] NA"
      ]
     },
     "metadata": {},
     "output_type": "display_data"
    }
   ],
   "source": [
    "# define possible version of badfunc\n",
    "possibly_badfunc <- possibly(badfunc, otherwise = NA_real_)\n",
    "\n",
    "possibly_badfunc(1)\n",
    "\n",
    "cat(str_dup(\"-\",58))\n",
    "\n",
    "possibly_badfunc(2)"
   ]
  },
  {
   "cell_type": "markdown",
   "metadata": {
    "heading_collapsed": true,
    "hidden": true
   },
   "source": [
    "###### > `insistently(f, rate = rate_backoff())`   \n",
    "> modifies function `.f` to retry specified times on error."
   ]
  },
  {
   "cell_type": "code",
   "execution_count": 146,
   "metadata": {
    "ExecuteTime": {
     "end_time": "2020-03-22T17:18:10.658418Z",
     "start_time": "2020-03-22T17:18:07.560Z"
    },
    "hidden": true,
    "scrolled": true
   },
   "outputs": [
    {
     "data": {
      "text/html": [
       "1"
      ],
      "text/latex": [
       "1"
      ],
      "text/markdown": [
       "1"
      ],
      "text/plain": [
       "[1] 1"
      ]
     },
     "metadata": {},
     "output_type": "display_data"
    },
    {
     "name": "stdout",
     "output_type": "stream",
     "text": [
      "----------------------------------------------------------"
     ]
    },
    {
     "ename": "ERROR",
     "evalue": "Error: Request failed after 4 attempts\n",
     "output_type": "error",
     "traceback": [
      "Error: Request failed after 4 attempts\nTraceback:\n",
      "1. insistently_badfunc(2)",
      "2. rate_sleep(rate, quiet = quiet)",
      "3. stop_rate_excess(rate)",
      "4. abort(msg, \"purrr_error_rate_excess\", rate = rate)",
      "5. signal_abort(cnd)"
     ]
    }
   ],
   "source": [
    "# define insistent version of badfunc\n",
    "insistently_badfunc <- insistently(badfunc, \n",
    "                                   rate = rate_backoff(pause_cap = 1, \n",
    "                                                       max_times = 4))\n",
    "\n",
    "insistently_badfunc(1)\n",
    "\n",
    "cat(str_dup(\"-\",58))\n",
    "\n",
    "insistently_badfunc(2)"
   ]
  },
  {
   "cell_type": "markdown",
   "metadata": {
    "heading_collapsed": true,
    "hidden": true
   },
   "source": [
    "##### Why `safely()`? Why `possibly()`? Why `insistently()`What's the point?"
   ]
  },
  {
   "cell_type": "markdown",
   "metadata": {
    "hidden": true
   },
   "source": [
    "> `safely(.f, otherwise = NULL, quiet = TRUE)`   \n",
    "> modifies function `.f` to return a list with components `result` (result if not error, NA otherwise) and `error` (error message if error, NULL otherwise).\n",
    "\n",
    "**Give me the info and let me decide what to do**\n",
    "\n",
    "* Ever called an API?\n",
    "* Allows for robust, flexible error handling"
   ]
  },
  {
   "cell_type": "markdown",
   "metadata": {
    "hidden": true
   },
   "source": [
    "> `possibly(.f, otherwise, quiet = TRUE)`   \n",
    "> modifies function `.f` to return `otherwise` if error occurs.\n",
    "\n",
    "**Let's pretend that didn't happen, okay?**\n",
    "\n",
    "* Don't get bogged down with failures\n",
    "* You care (a bit) about the fact that there was an error, but not enough to want to stop.  \n",
    "* You don't care at all about the reason for the error or you're fairly confident about why there is an error"
   ]
  },
  {
   "cell_type": "markdown",
   "metadata": {
    "hidden": true
   },
   "source": [
    "> `insistently(f, rate = rate_backoff())`   \n",
    "> modifies function `.f` to retry specified times on error.\n",
    "\n",
    "**If at first you don't succeed**\n",
    "\n",
    "* Get back on that horse!\n",
    "* Really only useful if you expect the chance of success to change with repeated attempts\n",
    "    * i.e. the input to the function could change over successive calls"
   ]
  },
  {
   "cell_type": "markdown",
   "metadata": {
    "heading_collapsed": true
   },
   "source": [
    "## More `purrr` fun(ctions)But wait, there's more..."
   ]
  },
  {
   "cell_type": "markdown",
   "metadata": {
    "hidden": true
   },
   "source": [
    "**Generalisations**\n",
    "\n",
    "* `keep()` and `discard` as generalisations of `dplyr::select_if()`\n",
    "* `pluck()` as generalisation of `[[` and `dplyr::pull()`\n",
    "* etc.\n",
    "\n",
    "**Companions**\n",
    "\n",
    "* `prepend()` as companion to `append()`\n",
    "* `negate()` as companion to any predicate function\n",
    "\n",
    "\n",
    "**etc**\n",
    "\n",
    "* more predicate functionals\n",
    "* more vector transformations\n",
    "* etc."
   ]
  },
  {
   "cell_type": "markdown",
   "metadata": {
    "heading_collapsed": true
   },
   "source": [
    "# Misc"
   ]
  },
  {
   "cell_type": "code",
   "execution_count": null,
   "metadata": {
    "ExecuteTime": {
     "end_time": "2020-03-18T22:50:11.579343Z",
     "start_time": "2020-03-18T22:50:11.468Z"
    },
    "hidden": true
   },
   "outputs": [],
   "source": [
    "library(dbplyr)\n",
    "# library(dplyr)"
   ]
  },
  {
   "cell_type": "code",
   "execution_count": null,
   "metadata": {
    "ExecuteTime": {
     "end_time": "2020-03-18T22:55:20.286152Z",
     "start_time": "2020-03-18T22:55:20.230Z"
    },
    "hidden": true
   },
   "outputs": [],
   "source": [
    "iris %>% head() %>% dbplyr::translate_sql()"
   ]
  },
  {
   "cell_type": "markdown",
   "metadata": {
    "heading_collapsed": true,
    "hidden": true
   },
   "source": [
    "## Paste"
   ]
  },
  {
   "cell_type": "code",
   "execution_count": null,
   "metadata": {
    "hidden": true
   },
   "outputs": [],
   "source": [
    "## When passing a single vector, paste0 and paste work like as.character.\n",
    "paste0(1:12)\n",
    "paste(1:12)        # same\n",
    "as.character(1:12) # same"
   ]
  },
  {
   "cell_type": "code",
   "execution_count": 57,
   "metadata": {
    "ExecuteTime": {
     "end_time": "2020-03-22T01:51:52.117183Z",
     "start_time": "2020-03-22T01:51:52.070Z"
    },
    "hidden": true
   },
   "outputs": [
    {
     "data": {
      "text/html": [
       "<style>\n",
       ".list-inline {list-style: none; margin:0; padding: 0}\n",
       ".list-inline>li {display: inline-block}\n",
       ".list-inline>li:not(:last-child)::after {content: \"\\00b7\"; padding: 0 .5ex}\n",
       "</style>\n",
       "<ol class=list-inline><li>'1st'</li><li>'2nd'</li><li>'3rd'</li><li>'4th'</li><li>'5th'</li><li>'6th'</li><li>'7th'</li><li>'8th'</li><li>'9th'</li><li>'10th'</li><li>'11th'</li><li>'12th'</li></ol>\n"
      ],
      "text/latex": [
       "\\begin{enumerate*}\n",
       "\\item '1st'\n",
       "\\item '2nd'\n",
       "\\item '3rd'\n",
       "\\item '4th'\n",
       "\\item '5th'\n",
       "\\item '6th'\n",
       "\\item '7th'\n",
       "\\item '8th'\n",
       "\\item '9th'\n",
       "\\item '10th'\n",
       "\\item '11th'\n",
       "\\item '12th'\n",
       "\\end{enumerate*}\n"
      ],
      "text/markdown": [
       "1. '1st'\n",
       "2. '2nd'\n",
       "3. '3rd'\n",
       "4. '4th'\n",
       "5. '5th'\n",
       "6. '6th'\n",
       "7. '7th'\n",
       "8. '8th'\n",
       "9. '9th'\n",
       "10. '10th'\n",
       "11. '11th'\n",
       "12. '12th'\n",
       "\n",
       "\n"
      ],
      "text/plain": [
       " [1] \"1st\"  \"2nd\"  \"3rd\"  \"4th\"  \"5th\"  \"6th\"  \"7th\"  \"8th\"  \"9th\"  \"10th\"\n",
       "[11] \"11th\" \"12th\""
      ]
     },
     "metadata": {},
     "output_type": "display_data"
    }
   ],
   "source": [
    "## If you pass several vectors to paste0, they are concatenated in a\n",
    "## vectorized way.\n",
    "(nth <- paste0(1:12, c(\"st\", \"nd\", \"rd\", rep(\"th\", 9))))"
   ]
  },
  {
   "cell_type": "code",
   "execution_count": null,
   "metadata": {
    "hidden": true
   },
   "outputs": [],
   "source": [
    "## paste works the same, but separates each input with a space.\n",
    "## Notice that the recycling rules make every input as long as the longest input.\n",
    "paste(month.abb, \"is the\", nth, \"month of the year.\")\n",
    "paste(month.abb, letters)\n",
    "\n",
    "## You can change the separator by passing a sep argument\n",
    "## which can be multiple characters.\n",
    "paste(month.abb, \"is the\", nth, \"month of the year.\", sep = \"_*_\")\n",
    "\n",
    "## To collapse the output into a single string, pass a collapse argument.\n",
    "paste0(nth, collapse = \", \")\n",
    "\n",
    "## For inputs of length 1, use the sep argument rather than collapse\n",
    "paste(\"1st\", \"2nd\", \"3rd\", collapse = \", \") # probably not what you wanted\n",
    "paste(\"1st\", \"2nd\", \"3rd\", sep = \", \")\n",
    "\n",
    "## You can combine the sep and collapse arguments together.\n",
    "paste(month.abb, nth, sep = \": \", collapse = \"; \")\n",
    "\n",
    "## Using paste() in combination with strwrap() can be useful\n",
    "## for dealing with long strings.\n",
    "(title <- paste(strwrap(\n",
    "    \"Stopping distance of cars (ft) vs. speed (mph) from Ezekiel (1930)\",\n",
    "    width = 30), collapse = \"\\n\"))\n",
    "plot(dist ~ speed, cars, main = title)"
   ]
  },
  {
   "cell_type": "markdown",
   "metadata": {
    "heading_collapsed": true,
    "hidden": true
   },
   "source": [
    "## group_nest()"
   ]
  },
  {
   "cell_type": "code",
   "execution_count": null,
   "metadata": {
    "ExecuteTime": {
     "end_time": "2020-03-18T14:42:48.332827Z",
     "start_time": "2020-03-18T14:42:48.177Z"
    },
    "hidden": true
   },
   "outputs": [],
   "source": [
    "mpg %>%\n",
    "  group_nest(manufacturer, keep = T) %>%\n",
    "  "
   ]
  },
  {
   "cell_type": "markdown",
   "metadata": {
    "hidden": true
   },
   "source": [
    "Nest a tibble using a grouping specification"
   ]
  },
  {
   "cell_type": "code",
   "execution_count": null,
   "metadata": {
    "ExecuteTime": {
     "end_time": "2020-03-17T16:22:20.472239Z",
     "start_time": "2020-03-17T16:22:20.399Z"
    },
    "hidden": true
   },
   "outputs": [],
   "source": [
    "iris %>% head()"
   ]
  },
  {
   "cell_type": "code",
   "execution_count": null,
   "metadata": {
    "ExecuteTime": {
     "end_time": "2020-03-17T16:23:30.487447Z",
     "start_time": "2020-03-17T16:23:30.404Z"
    },
    "hidden": true
   },
   "outputs": [],
   "source": [
    "# ---- use case 1: a grouped data frame\n",
    "iris %>%\n",
    "  group_by(Species) %>%\n",
    "  group_nest() %>% str"
   ]
  },
  {
   "cell_type": "code",
   "execution_count": null,
   "metadata": {
    "ExecuteTime": {
     "end_time": "2020-03-17T16:22:57.154615Z",
     "start_time": "2020-03-17T16:22:57.077Z"
    },
    "hidden": true
   },
   "outputs": [],
   "source": [
    "# this can be useful if the grouped data has been altered before nesting\n",
    "iris %>%\n",
    "  group_by(Species) %>%\n",
    "  filter(Sepal.Length > mean(Sepal.Length)) %>%\n",
    "  group_nest()"
   ]
  },
  {
   "cell_type": "code",
   "execution_count": null,
   "metadata": {
    "hidden": true
   },
   "outputs": [],
   "source": [
    "#----- use case 2: using group_nest() on a ungrouped data frame with\n",
    "#                  a grouping specification that uses the data mask\n",
    "starwars %>%\n",
    "  group_nest(species, homeworld)"
   ]
  },
  {
   "cell_type": "markdown",
   "metadata": {
    "heading_collapsed": true,
    "hidden": true
   },
   "source": [
    "## glue"
   ]
  },
  {
   "cell_type": "code",
   "execution_count": null,
   "metadata": {
    "ExecuteTime": {
     "end_time": "2020-03-17T02:38:47.523360Z",
     "start_time": "2020-03-17T02:38:47.463Z"
    },
    "hidden": true
   },
   "outputs": [],
   "source": [
    "# glue examples\n",
    "name <- \"Fred\"\n",
    "age <- 50\n",
    "anniversary <- as.Date(\"1991-10-12\")\n",
    "glue('My name is {name},',\n",
    "  'my age next year is {age + 1},',\n",
    "  'my anniversary is {format(anniversary, \"%A, %B %d, %Y\")}.')"
   ]
  },
  {
   "cell_type": "code",
   "execution_count": null,
   "metadata": {
    "ExecuteTime": {
     "end_time": "2020-03-17T02:55:21.365056Z",
     "start_time": "2020-03-17T02:55:21.306Z"
    },
    "hidden": true
   },
   "outputs": [],
   "source": [
    "# single braces can be inserted by doubling them\n",
    "glue(\"My name is {name}, not {{name}}.\")"
   ]
  },
  {
   "cell_type": "code",
   "execution_count": null,
   "metadata": {
    "ExecuteTime": {
     "end_time": "2020-03-17T02:55:30.689546Z",
     "start_time": "2020-03-17T02:55:30.635Z"
    },
    "hidden": true
   },
   "outputs": [],
   "source": [
    "# Named arguments can be used to assign temporary variables.\n",
    "glue('My name is {name},',\n",
    "  ' my age next year is {age + 1},',\n",
    "  ' my anniversary is {format(anniversary, \"%A, %B %d, %Y\")}.',\n",
    "  name = \"Joe\",\n",
    "  age = 40,\n",
    "  anniversary = as.Date(\"2001-10-12\"))"
   ]
  },
  {
   "cell_type": "code",
   "execution_count": null,
   "metadata": {
    "ExecuteTime": {
     "end_time": "2020-03-17T02:55:57.990063Z",
     "start_time": "2020-03-17T02:55:57.934Z"
    },
    "hidden": true
   },
   "outputs": [],
   "source": [
    "# `glue_data()` is useful in magrittr pipes\n",
    "# library(magrittr)\n",
    "mtcars %>% glue_data(\"{rownames(.)} has {hp} hp\")"
   ]
  },
  {
   "cell_type": "code",
   "execution_count": null,
   "metadata": {
    "ExecuteTime": {
     "end_time": "2020-03-17T02:56:48.271854Z",
     "start_time": "2020-03-17T02:56:48.182Z"
    },
    "hidden": true
   },
   "outputs": [],
   "source": [
    "# Or within dplyr pipelines\n",
    "# library(dplyr)\n",
    "head(iris) %>%\n",
    "  mutate(description = glue(\"This {Species} has a petal length of {Petal.Length}\"))"
   ]
  },
  {
   "cell_type": "code",
   "execution_count": null,
   "metadata": {
    "ExecuteTime": {
     "end_time": "2020-03-17T02:57:03.446947Z",
     "start_time": "2020-03-17T02:57:03.386Z"
    },
    "hidden": true
   },
   "outputs": [],
   "source": [
    "# Alternative delimiters can also be used if needed\n",
    "one <- \"1\"\n",
    "glue(\"The value of $e^{2\\\\pi i}$ is $<<one>>$.\", .open = \"<<\", .close = \">>\")"
   ]
  },
  {
   "cell_type": "code",
   "execution_count": null,
   "metadata": {
    "hidden": true
   },
   "outputs": [],
   "source": []
  },
  {
   "cell_type": "markdown",
   "metadata": {
    "heading_collapsed": true,
    "hidden": true
   },
   "source": [
    "## Map"
   ]
  },
  {
   "cell_type": "code",
   "execution_count": null,
   "metadata": {
    "ExecuteTime": {
     "end_time": "2020-02-22T22:29:10.018390Z",
     "start_time": "2020-02-22T22:29:09.975Z"
    },
    "hidden": true
   },
   "outputs": [],
   "source": [
    "1:10 %>%\n",
    "  map(rnorm, n = 10) %>%\n",
    "  map_dbl(mean) %>% round(2)"
   ]
  },
  {
   "cell_type": "code",
   "execution_count": null,
   "metadata": {
    "ExecuteTime": {
     "end_time": "2020-02-22T22:29:06.155331Z",
     "start_time": "2020-02-22T22:29:06.100Z"
    },
    "hidden": true,
    "scrolled": true
   },
   "outputs": [],
   "source": [
    "# Or use an anonymous function\n",
    "1:10 %>%\n",
    "  map(function(x) rnorm(10, x))"
   ]
  },
  {
   "cell_type": "code",
   "execution_count": null,
   "metadata": {
    "ExecuteTime": {
     "end_time": "2020-02-22T22:29:23.761852Z",
     "start_time": "2020-02-22T22:29:23.701Z"
    },
    "hidden": true
   },
   "outputs": [],
   "source": [
    "# Or a formula\n",
    "1:10 %>%\n",
    "  map(~ rnorm(10, .x))"
   ]
  },
  {
   "cell_type": "code",
   "execution_count": null,
   "metadata": {
    "ExecuteTime": {
     "end_time": "2020-02-22T22:29:36.273515Z",
     "start_time": "2020-02-22T22:29:36.222Z"
    },
    "hidden": true
   },
   "outputs": [],
   "source": [
    "# Using set_names() with character vectors is handy to keep track\n",
    "# of the original inputs:\n",
    "set_names(c(\"foo\", \"bar\")) %>% map_chr(paste0, \":suffix\")"
   ]
  },
  {
   "cell_type": "code",
   "execution_count": null,
   "metadata": {
    "ExecuteTime": {
     "end_time": "2020-02-22T22:30:40.126115Z",
     "start_time": "2020-02-22T22:30:39.782Z"
    },
    "hidden": true
   },
   "outputs": [],
   "source": [
    "# Extract by name or position\n",
    "# .default specifies value for elements that are missing or NULL\n",
    "l1 <- list(list(a = 1L), list(a = NULL, b = 2L), list(b = 3L))\n",
    "l1"
   ]
  },
  {
   "cell_type": "code",
   "execution_count": null,
   "metadata": {
    "ExecuteTime": {
     "end_time": "2020-02-22T22:30:58.065271Z",
     "start_time": "2020-02-22T22:30:58.015Z"
    },
    "hidden": true
   },
   "outputs": [],
   "source": [
    "l1 %>% map(\"a\", .default = \"???\")"
   ]
  },
  {
   "cell_type": "code",
   "execution_count": null,
   "metadata": {
    "ExecuteTime": {
     "end_time": "2020-02-22T22:35:45.154358Z",
     "start_time": "2020-02-22T22:35:45.111Z"
    },
    "hidden": true,
    "scrolled": false
   },
   "outputs": [],
   "source": [
    "l1 %>% map_int(\"b\", .default = NA)"
   ]
  },
  {
   "cell_type": "code",
   "execution_count": null,
   "metadata": {
    "ExecuteTime": {
     "end_time": "2020-02-22T22:35:56.518889Z",
     "start_time": "2020-02-22T22:35:56.473Z"
    },
    "hidden": true
   },
   "outputs": [],
   "source": [
    "l1 %>% map_int(2, .default = NA)"
   ]
  },
  {
   "cell_type": "code",
   "execution_count": null,
   "metadata": {
    "ExecuteTime": {
     "end_time": "2020-02-22T22:39:16.005645Z",
     "start_time": "2020-02-22T22:39:15.933Z"
    },
    "hidden": true
   },
   "outputs": [],
   "source": [
    "# Supply multiple values to index deeply into a list\n",
    "l2 <- list(\n",
    "  list(num = 1:3,     letters[1:3]),\n",
    "  list(num = 101:103, letters[4:6]),\n",
    "  list()\n",
    ")\n",
    "\n",
    "cat('\\n',\"l2 \", str_dup(\"-\",57), '\\n')\n",
    "l2 \n",
    "\n",
    "cat('\\n',\"l2 %>% map(c(2, 2))\", str_dup(\"-\",41), '\\n')\n",
    "l2 %>% map(c(2, 2))"
   ]
  },
  {
   "cell_type": "code",
   "execution_count": null,
   "metadata": {
    "ExecuteTime": {
     "end_time": "2020-02-22T22:40:15.285150Z",
     "start_time": "2020-02-22T22:40:15.236Z"
    },
    "hidden": true
   },
   "outputs": [],
   "source": [
    "# Use a list to build an extractor that mixes numeric indices and names,\n",
    "# and .default to provide a default value if the element does not exist\n",
    "\n",
    "l2 %>% map(list(\"num\", 3))\n",
    "l2 %>% map_int(list(\"num\", 3), .default = NA)"
   ]
  },
  {
   "cell_type": "code",
   "execution_count": null,
   "metadata": {
    "ExecuteTime": {
     "end_time": "2020-02-22T22:40:35.272973Z",
     "start_time": "2020-02-22T22:40:35.220Z"
    },
    "hidden": true
   },
   "outputs": [],
   "source": [
    "# A more realistic example: split a data frame into pieces, fit a\n",
    "# model to each piece, summarise and extract R^2\n",
    "mtcars %>%\n",
    "  split(.$cyl) %>%\n",
    "  map(~ lm(mpg ~ wt, data = .x)) %>%\n",
    "  map(summary) %>%\n",
    "  map_dbl(\"r.squared\")"
   ]
  },
  {
   "cell_type": "code",
   "execution_count": null,
   "metadata": {
    "ExecuteTime": {
     "end_time": "2020-02-22T22:40:40.787038Z",
     "start_time": "2020-02-22T22:40:40.720Z"
    },
    "hidden": true
   },
   "outputs": [],
   "source": [
    "# Use map_lgl(), map_dbl(), etc to reduce output to a vector instead\n",
    "# of a list:\n",
    "mtcars %>% map_dbl(sum)"
   ]
  },
  {
   "cell_type": "code",
   "execution_count": null,
   "metadata": {
    "ExecuteTime": {
     "end_time": "2020-02-22T22:41:09.003040Z",
     "start_time": "2020-02-22T22:41:08.947Z"
    },
    "hidden": true
   },
   "outputs": [],
   "source": [
    "# If each element of the output is a data frame, use\n",
    "# map_dfr to row-bind them together:\n",
    "mtcars %>%\n",
    "  split(.$cyl) %>%\n",
    "  map(~ lm(mpg ~ wt, data = .x)) %>%\n",
    "  map_dfr(~ as.data.frame(t(as.matrix(coef(.)))))\n",
    "# (if you also want to preserve the variable names see\n",
    "# the broom package)"
   ]
  },
  {
   "cell_type": "code",
   "execution_count": null,
   "metadata": {
    "ExecuteTime": {
     "end_time": "2020-02-22T22:42:52.457323Z",
     "start_time": "2020-02-22T22:42:52.408Z"
    },
    "hidden": true
   },
   "outputs": [],
   "source": [
    "mtcars %>%\n",
    "  split(.$cyl) %>%\n",
    "  map(~ lm(mpg ~ wt, data = .))"
   ]
  }
 ],
 "metadata": {
  "hide_input": false,
  "kernelspec": {
   "display_name": "R",
   "language": "R",
   "name": "ir"
  },
  "language_info": {
   "codemirror_mode": "r",
   "file_extension": ".r",
   "mimetype": "text/x-r-source",
   "name": "R",
   "pygments_lexer": "r",
   "version": "3.6.3"
  },
  "toc": {
   "base_numbering": 1,
   "nav_menu": {},
   "number_sections": true,
   "sideBar": true,
   "skip_h1_title": false,
   "title_cell": "Table of Contents",
   "title_sidebar": "Contents",
   "toc_cell": true,
   "toc_position": {},
   "toc_section_display": true,
   "toc_window_display": false
  }
 },
 "nbformat": 4,
 "nbformat_minor": 4
}
